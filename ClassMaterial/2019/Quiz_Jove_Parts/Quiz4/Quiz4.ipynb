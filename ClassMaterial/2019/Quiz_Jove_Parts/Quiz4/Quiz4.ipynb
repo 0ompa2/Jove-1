{
 "cells": [
  {
   "cell_type": "markdown",
   "metadata": {
    "run_control": {
     "frozen": false,
     "read_only": false
    }
   },
   "source": [
    "# This is a minimal template for Quiz4\n",
    "\n",
    "We have provided the right include files for you.\n",
    "You are required to include any commands necessary \n",
    "to produce the answers being requested. Hints are \n",
    "provided to help you save some time. Try to use\n",
    "help(function_name) to obtain details of usage.\n"
   ]
  },
  {
   "cell_type": "code",
   "execution_count": null,
   "metadata": {
    "run_control": {
     "frozen": false,
     "read_only": false
    }
   },
   "outputs": [],
   "source": [
        "from google.colab import drive",
        "\n",
        "import importlib.util",
        "\n",
        "import sys",
        "\n",
        "# Mount your drive. It will be at this path: '/content/gdrive/My Drive/'",
        "\n",
        "drive.mount('/content/gdrive', force_remount=True)",
        "\n",
        "sys.path.append('gdrive/My Drive/CS3100Spring20/Jove/')",
        "\n",
        "sys.path.append('gdrive/My Drive/CS3100Spring20/Jove/jove')",
        "\n",
        "sys.path += ['../..','../../..','../../../..']",
        "\n",
    "# This \"cocktail\" of imports must pull in all needed functions\n",
    "# \n",
    "from jove.Def_md2mc  import *\n",
    "from jove.Def_NFA    import *\n",
    "from jove.Def_DFA    import *\n",
    "from jove.AnimateNFA import *\n",
    "from jove.Def_RE2NFA import *\n",
    "from jove.Def_NFA2RE import *\n"
   ]
  },
  {
   "cell_type": "markdown",
   "metadata": {},
   "source": [
    "# Question 3"
   ]
  },
  {
   "cell_type": "code",
   "execution_count": null,
   "metadata": {},
   "outputs": [],
   "source": [
    "# This should be handy for use in some questions\n",
    "\n",
    "FBloat = md2mc(''' DFA\n",
    "IS1 : a -> FS2\n",
    "IS1 : b -> FS3\n",
    "FS2 : a -> S4\n",
    "FS2 : b -> S5\n",
    "FS3 : a -> S5\n",
    "FS3 : b -> S4\n",
    "S4  : a|b -> FS6\n",
    "S5  : a|b -> FS6\n",
    "FS6 : a|b -> FS6\n",
    "''')"
   ]
  },
  {
   "cell_type": "markdown",
   "metadata": {},
   "source": [
    "# Question 4"
   ]
  },
  {
   "cell_type": "code",
   "execution_count": null,
   "metadata": {},
   "outputs": [],
   "source": [
    "# Add commands to carry out Brzozowski's minimization"
   ]
  },
  {
   "cell_type": "markdown",
   "metadata": {},
   "source": [
    "# Question 5"
   ]
  },
  {
   "cell_type": "code",
   "execution_count": null,
   "metadata": {},
   "outputs": [],
   "source": [
    "# Type in the commands to enter the RE for the bit-transmission\n",
    "# problem and convert it to a DFA, minimize it, etc."
   ]
  },
  {
   "cell_type": "markdown",
   "metadata": {},
   "source": [
    "# Question 7"
   ]
  },
  {
   "cell_type": "code",
   "execution_count": null,
   "metadata": {},
   "outputs": [],
   "source": [
    "# Type in commands to produce a GNFA"
   ]
  },
  {
   "cell_type": "markdown",
   "metadata": {},
   "source": [
    "# Question 8"
   ]
  },
  {
   "cell_type": "code",
   "execution_count": null,
   "metadata": {},
   "outputs": [],
   "source": [
    "# Commands to carry out NFA to RE or DFA to RE\n",
    "# via del_gnfa_states"
   ]
  },
  {
   "cell_type": "markdown",
   "metadata": {},
   "source": [
    "# Question 9"
   ]
  },
  {
   "cell_type": "code",
   "execution_count": null,
   "metadata": {},
   "outputs": [],
   "source": [
    "# Jove commands for the Postage Stamp problem from the book"
   ]
  },
  {
   "cell_type": "markdown",
   "metadata": {},
   "source": [
    "# Question 10"
   ]
  },
  {
   "cell_type": "code",
   "execution_count": null,
   "metadata": {},
   "outputs": [],
   "source": [
    "# Jove commands for the Postage Stamp problem from the book"
   ]
  }
 ],
 "metadata": {
  "kernelspec": {
   "display_name": "Python 3",
   "language": "python",
   "name": "python3"
  },
  "language_info": {
   "codemirror_mode": {
    "name": "ipython",
    "version": 3
   },
   "file_extension": ".py",
   "mimetype": "text/x-python",
   "name": "python",
   "nbconvert_exporter": "python",
   "pygments_lexer": "ipython3",
   "version": "3.7.3"
  },
  "toc": {
   "colors": {
    "hover_highlight": "#DAA520",
    "running_highlight": "#FF0000",
    "selected_highlight": "#FFD700"
   },
   "moveMenuLeft": true,
   "nav_menu": {
    "height": "121px",
    "width": "252px"
   },
   "navigate_menu": true,
   "number_sections": true,
   "sideBar": true,
   "threshold": 4,
   "toc_cell": false,
   "toc_section_display": "block",
   "toc_window_display": false,
   "widenNotebook": false
  },
  "widgets": {
   "state": {
    "430c92ee02b34ec1912bf03c8de1e6dc": {
     "views": [
      {
       "cell_index": 20
      }
     ]
    }
   },
   "version": "1.2.0"
  }
 },
 "nbformat": 4,
 "nbformat_minor": 2
}
