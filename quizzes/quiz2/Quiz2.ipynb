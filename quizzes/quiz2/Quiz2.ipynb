{
 "cells": [
  {
   "cell_type": "markdown",
   "metadata": {
    "run_control": {
     "frozen": false,
     "read_only": false
    }
   },
   "source": [
    "# Quiz-2: Jove part\n",
    "\n",
    "Goals:\n",
    "* Learn about language operations\n",
    "\n",
    "* Watch two videos, one on languages and another on DFA\n",
    "\n",
    "* Run various commands and observe the results. Explain the results in a few sentences.\n",
    "  __Wherever I have placed the string #--answer-- , an answer is expected in either a code cell or a markdown cell, placed below the #--answer-- string.__ In your answer, also mention the section of the book where the topic is discussed.\n",
    "  \n",
    "* Write the code requested of you, again below the #--answer-- lines."
   ]
  },
  {
   "cell_type": "markdown",
   "metadata": {
    "run_control": {
     "frozen": false,
     "read_only": false
    }
   },
   "source": [
    "# Video on Alphabet, Languages, etc.\n",
    "\n",
    "__Unfortunately the recording volume was not high. Please wear a head-set__"
   ]
  },
  {
   "cell_type": "code",
   "execution_count": null,
   "metadata": {
    "run_control": {
     "frozen": false,
     "read_only": false
    }
   },
   "outputs": [],
   "source": [
    "# This video corresponds to the Jupyter file\n",
    "# Module2_LanguageOps.ipynb that you can find under \"notebook/driver\"\n",
    "# of the Jove github\n",
    "\n",
    "from IPython.display import YouTubeVideo\n",
    "YouTubeVideo('TAEYvJn5eGc')"
   ]
  },
  {
   "cell_type": "markdown",
   "metadata": {
    "run_control": {
     "frozen": false,
     "read_only": false
    }
   },
   "source": [
    "_Provide a summary of the above video in about 4-5 sentences in this cell\n",
    "(under the \"#--answer--\" line _\n",
    "\n",
    "#--answer--"
   ]
  },
  {
   "cell_type": "markdown",
   "metadata": {
    "run_control": {
     "frozen": false,
     "read_only": false
    }
   },
   "source": [
    "# Code to define language operations\n"
   ]
  },
  {
   "cell_type": "markdown",
   "metadata": {
    "run_control": {
     "frozen": false,
     "read_only": false
    }
   },
   "source": [
    "We first define the zero or phi or empty language"
   ]
  },
  {
   "cell_type": "code",
   "execution_count": null,
   "metadata": {
    "run_control": {
     "frozen": false,
     "read_only": false
    }
   },
   "outputs": [],
   "source": [
    "# The theory of languages : Primitive languages and language builders\n",
    "\n",
    "def lphi():\n",
    "    \"\"\"In : None.\n",
    "       Out: Zero language, i.e. set({}).\n",
    "    \"\"\"\n",
    "    return set({})  # {} could be dict; so we put set(..)"
   ]
  },
  {
   "cell_type": "markdown",
   "metadata": {
    "run_control": {
     "frozen": false,
     "read_only": false
    }
   },
   "source": [
    "Now let us define the Unit language (\"1\" for languages with respect to concatenation viewed as multiplication).\n",
    "\n",
    "Let us also define language concatenation.\n",
    "\n",
    "> $L1 \\; L2 \\;\\; =\\;\\;  \\{x y \\; \\mid \\; x\\in L1 \\;\\wedge\\; y\\in L2\\}$"
   ]
  },
  {
   "cell_type": "code",
   "execution_count": null,
   "metadata": {
    "run_control": {
     "frozen": false,
     "read_only": false
    }
   },
   "outputs": [],
   "source": [
    "def lunit():\n",
    "    \"\"\"In : None.\n",
    "       Out: {\"\"} (a language : a set).\n",
    "    \"\"\"\n",
    "    return {\"\"} # Set with epsilon\n",
    "\n",
    "def lcat(L1,L2):\n",
    "    \"\"\"In : L1 (language : a set),\n",
    "            L2 (language : a set).\n",
    "       Out: L1 concat L2 (language : a set).\n",
    "       Example:\n",
    "       L1 = {'ab', 'bc'} \n",
    "       L2 = {'11', 'ab', '22'} \n",
    "       lcat(L1,L2) -> {'abab', 'bc22', 'ab11', 'ab22', 'bcab', 'bc11'}\n",
    "    \"\"\"\n",
    "    return {x+y for x in L1 for y in L2}"
   ]
  },
  {
   "cell_type": "markdown",
   "metadata": {
    "run_control": {
     "frozen": false,
     "read_only": false
    }
   },
   "source": [
    "Examples of language operations"
   ]
  },
  {
   "cell_type": "code",
   "execution_count": null,
   "metadata": {
    "run_control": {
     "frozen": false,
     "read_only": false
    }
   },
   "outputs": [],
   "source": [
    "L = {'a','bc'}\n",
    "\n",
    "print( \"lcat(lphi(), L) = \",  lcat(lphi(), L) )\n",
    " \n",
    "print( \"lcat(lunit(), L) = \",  lcat(lunit(), L)  )\n",
    "\n",
    "# Below, explain the results produced briefly.\n",
    "#--answer--"
   ]
  },
  {
   "cell_type": "markdown",
   "metadata": {
    "run_control": {
     "frozen": false,
     "read_only": false
    }
   },
   "source": [
    "Let us define another language through set comprehension, and exercise many different applications of concatenation.\n",
    "\n",
    "\n",
    "* Consider the language\n",
    "\n",
    " > M = $\\{ 0^m 1^n \\; \\mid \\; 0 \\leq m,n \\leq 3 \\;\\wedge\\; m < n \\}$"
   ]
  },
  {
   "cell_type": "code",
   "execution_count": null,
   "metadata": {
    "run_control": {
     "frozen": false,
     "read_only": false
    }
   },
   "outputs": [],
   "source": [
    "M = {\"0\"*m + \"1\"*n for m in range(3) for n in range(4) if m < n }\n",
    "print(M)\n",
    "print(\"lcat(L,M) = \", lcat(L,M))\n",
    "print(\"lcat(M,lphi()) = \", lcat(M,lphi()))\n",
    "print(\"lcat(M,lunit()) = \", lcat(M,lunit()))\n",
    "\n",
    "# Below, explain the results produced by the above commands briefly.\n",
    "#--answer--"
   ]
  },
  {
   "cell_type": "markdown",
   "metadata": {
    "run_control": {
     "frozen": false,
     "read_only": false
    }
   },
   "source": [
    "With concatenation and Unit under our belt, we can define exponentiation recursively. Exponentiation is repeated multiplication (which for us is concatenation).\n",
    "\n",
    "> $L^n = L L^{n-1}$\n",
    "\n",
    "> $L^0 = Unit$\n",
    "\n",
    "We must have $L^0 = lunit()$; that is the only logical choice. \n",
    "\n",
    "\n",
    "__Question:__  If you defined $L^0 = lphi()$, then what happens?\n",
    "\n",
    "The code below simulates the aforesaid recursion."
   ]
  },
  {
   "cell_type": "code",
   "execution_count": null,
   "metadata": {
    "run_control": {
     "frozen": false,
     "read_only": false
    }
   },
   "outputs": [],
   "source": [
    "def lexp(L,n):\n",
    "    \"\"\"In : L (language : a set),\n",
    "            n (exponent : a nat).\n",
    "       Out: L^n (language : a set).\n",
    "       Example:\n",
    "       L = {'ab', 'bc'}\n",
    "       n = 2\n",
    "       lexp(A,2) -> {'abab', 'bcab', 'bcbc', 'abbc'}\n",
    "    \"\"\"\n",
    "    return lunit() if n == 0 else lcat(L, lexp(L, n-1))"
   ]
  },
  {
   "cell_type": "code",
   "execution_count": null,
   "metadata": {
    "run_control": {
     "frozen": false,
     "read_only": false
    }
   },
   "outputs": [],
   "source": [
    "L = {'a','bc'}\n",
    "\n",
    "M = {\"0\"*m + \"1\"*n for m in range(3) for n in range(4) if m < n }\n",
    "print('M = ', M)\n",
    "print('lexp(M,2) = ')\n",
    "lexp(M,2)\n",
    "\n",
    "L = {'a','bc'}\n",
    "M = {\"0\"*m + \"1\"*n for m in range(3) for n in range(4) if m < n }\n",
    "lexp(lcat(L,M),1)\n",
    "\n",
    "# Below, explain the results produced briefly.\n",
    "#--answer--"
   ]
  },
  {
   "cell_type": "markdown",
   "metadata": {
    "run_control": {
     "frozen": false,
     "read_only": false
    }
   },
   "source": [
    "With lexp under our belt, we can define lunion and lstar. We will define \"star up to n\" and then set n to infinity.\n",
    "\n",
    "> $L^{*n} = L^n \\; \\cup \\; L^{*(n-1)}$\n",
    "\n",
    "> $L^{*0} = Unit$\n",
    "\n",
    "And thus the classical $L^* = L^{*n}\\;\\; {\\rm for}\\;\\; n=\\infty$, which we won't bother to \"run\" in Python :-).  We will only run $L^{*n}$ in Python.\n",
    "\n",
    "We also take care to test that lstar works correctly for lphi and Unit."
   ]
  },
  {
   "cell_type": "code",
   "execution_count": null,
   "metadata": {
    "run_control": {
     "frozen": false,
     "read_only": false
    }
   },
   "outputs": [],
   "source": [
    "def lunion(L1,L2):\n",
    "    \"\"\"In : L1 (language : a set),\n",
    "            L2 (language : a set).\n",
    "       Out: L1 union L2 (language : a set).\n",
    "    \"\"\"\n",
    "    return L1 | L2\n",
    "\n",
    "def lstar(L,n):\n",
    "    \"\"\"In : L (language : a set),\n",
    "            n (bound for lstar : a nat). \n",
    "       Out: L*_n (language : a set)\n",
    "    Example:\n",
    "    L = {'ab','bc'}\n",
    "    n = 2\n",
    "    lstar(L,2) -> {'abab', 'bcbc', 'ab', 'abbc', '', 'bc', 'bcab'}\n",
    "    \"\"\"\n",
    "    return lunit() if n == 0 else lunion(lexp(L,n), lstar(L,n-1))"
   ]
  },
  {
   "cell_type": "code",
   "execution_count": null,
   "metadata": {
    "run_control": {
     "frozen": false,
     "read_only": false
    }
   },
   "outputs": [],
   "source": [
    "L1 = {'a','bc'}\n",
    "lstar(L1,2) \n",
    "\n",
    "L2 = {'ab','bc'}\n",
    "lstar(L2,2) \n",
    "\n",
    "L2 = {'ab','bc'}\n",
    "lstar(L2,3)\n",
    "\n",
    "# Below, explain the results produced briefly.\n",
    "#--answer--"
   ]
  },
  {
   "cell_type": "markdown",
   "metadata": {
    "run_control": {
     "frozen": false,
     "read_only": false
    }
   },
   "source": [
    "Interactive depiction of star using widgets"
   ]
  },
  {
   "cell_type": "code",
   "execution_count": null,
   "metadata": {
    "run_control": {
     "frozen": false,
     "read_only": false
    }
   },
   "outputs": [],
   "source": [
    "import ipywidgets as wdg\n",
    "L1 = {'a','bc'}\n",
    "L2 = {'ab','bc'}\n",
    "M =  {'011', '111', '11', '0111', '00111', '1'}\n",
    "\n",
    "wdg.interact(lstar,\n",
    "L={'L1': L1, 'L2':L2, 'M': M, 'lphi': lphi(), 'lunit' : lunit()}, n=(0,7))\n",
    "\n",
    "import ipywidgets as wdg\n",
    "L1 = {'a','bc'}\n",
    "L2 = {'ab','bc'}\n",
    "M =  {'011', '111', '11', '0111', '00111', '1'}\n",
    "\n",
    "wdg.interact(lstar,\n",
    "L={'L1': L1, 'L2':L2, 'M': M, 'lphi': lphi(), 'lunit' : lunit()}, n=(0,7))\n",
    "\n",
    "# Below, explain the results produced briefly.\n",
    "#--answer--"
   ]
  },
  {
   "cell_type": "markdown",
   "metadata": {
    "run_control": {
     "frozen": false,
     "read_only": false
    }
   },
   "source": [
    "Reversal and homomorphism now"
   ]
  },
  {
   "cell_type": "code",
   "execution_count": null,
   "metadata": {
    "run_control": {
     "frozen": false,
     "read_only": false
    }
   },
   "outputs": [],
   "source": [
    "# In Python, there isn't direct support for reversing a string.\n",
    "# The backward selection method implemented by S[::-1] is what \n",
    "# many recommend. This leaves the start and stride empty, and\n",
    "# specifies the direction to be going backwards. \n",
    "# Another method is \"\".join(reversed(s)) to reverse s\n",
    "\n",
    "def srev(S):\n",
    "    \"\"\"In : S (string)\n",
    "       Out: reverse of S (string)\n",
    "       Example:\n",
    "       srev('ab') -> 'ba'\n",
    "    \"\"\"\n",
    "    return S[::-1] \n",
    "\n",
    "def lrev(L):\n",
    "    \"\"\"In : L (language : a set)\n",
    "       Out: reverse of L (language : a set)\n",
    "       Example: \n",
    "       lrev({'ab', 'bc'}) -> {'cb', 'ba'}\n",
    "    \"\"\"\n",
    "    return set(map(lambda x: srev(x), L))\n",
    "\n",
    "def shomo(S,f):\n",
    "    \"\"\"In : S (string)\n",
    "            f (fun\n",
    "            ction from char to char)\n",
    "       Out: String homomorphism of S wrt f.\n",
    "       Example: \n",
    "       S = \"abcd\"\n",
    "       f = lambda x: chr( (ord(x)+1) % 256 )\n",
    "       shomo(\"abcd\",f) -> 'bcde'  \n",
    "    \"\"\"\n",
    "    return \"\".join(map(f,S))\n",
    "\n",
    "def lhomo(L,f):\n",
    "    \"\"\"In : L (language : set of strings)\n",
    "            f (function from char to char)\n",
    "       Out: Lang. homomorphism of L wrt f (language : set of str)\n",
    "       Example:\n",
    "       L = {\"Hello there\", \"a\", \"A\"}\n",
    "       f = rot13 = lambda x: chr( (ord(x)+13) % 256 )\n",
    "       lhomo(L, rot13) -> {'N', 'Uryy|-\\x81ur\\x7fr', 'n'}\n",
    "    \"\"\"\n",
    "    return set(map(lambda S: shomo(S,f), L))"
   ]
  },
  {
   "cell_type": "code",
   "execution_count": null,
   "metadata": {
    "run_control": {
     "frozen": false,
     "read_only": false
    }
   },
   "outputs": [],
   "source": [
    "L={'ab', '007'}\n",
    "\n",
    "# modulo-rotate all chars by one.\n",
    "rot1 = lambda x: chr( (ord(x)+1) % 256 ) \n",
    "\n",
    "# Don't be baffled if the sets print in a different order!               \n",
    "# Sets don't have a required positional presentation order\n",
    "# Watch for the CONTENTS of the set reversing !!\n",
    "print('lrev(L) = ', lrev(L)) \n",
    "\n",
    "print('lhomo(L, rot1) = ', lhomo(L, rot1))\n",
    "\n",
    "print('lrev(lhomo(L), rot1) = ', lrev(lhomo(L, rot1)))\n",
    "\n",
    "# Below, explain the results produced briefly.\n",
    "#--answer--"
   ]
  },
  {
   "cell_type": "markdown",
   "metadata": {
    "run_control": {
     "frozen": false,
     "read_only": false
    }
   },
   "source": [
    "Let us now introduce powersets"
   ]
  },
  {
   "cell_type": "markdown",
   "metadata": {
    "run_control": {
     "frozen": false,
     "read_only": false
    }
   },
   "source": [
    "\n",
    "We now define the powerset of a set S. We work with lists, as sets cannot contain other sets (not hashable, etc). But barring all that, here is the recursive definition being used.\n",
    "\n",
    "> Let $PowSminusX$ = $powset(S \\setminus x)$\n",
    "\n",
    "> Then, given $x \\in S$, we have $powset(S)$ = $PowSminusX  \\cup$  { $y\\cup x$  $\\mid$ $y\\in PowSminusX$ } \n",
    "\n",
    "That is,\n",
    "\n",
    "* Take out some $x\\in S$\n",
    "\n",
    "* Recursively compute $PowSminusX$\n",
    "\n",
    "* Now, $powset(S)$ has all the sets in $PowSminusX$ plus all the sets in $PowSminusX$ with $x$ added back, as well.\n",
    "\n",
    "Here is that code now."
   ]
  },
  {
   "cell_type": "markdown",
   "metadata": {
    "run_control": {
     "frozen": false,
     "read_only": false
    }
   },
   "source": [
    "__Below, in a new markdown cell, write a clear description in about 3 sentences of how the\n",
    " mathematical definition above is captured in the code below.\n",
    " Ideal answer: Call out the above three bullets and under each of the\n",
    "above bullets, write the code line that realizes these bullets.__\n",
    "\n",
    "#--answer--"
   ]
  },
  {
   "cell_type": "code",
   "execution_count": null,
   "metadata": {
    "run_control": {
     "frozen": false,
     "read_only": false
    }
   },
   "outputs": [],
   "source": [
    "def powset(S):\n",
    "    \"\"\"In : S (set)\n",
    "       Out: List of lists representing powerset.\n",
    "            Since sets/lists are unhashable, we convert the set \n",
    "            to a list,perform the powerset operations, leaving \n",
    "            the result as a list (can't convert back to a set).\n",
    "       Example:\n",
    "       S = {'ab', 'bc'}\n",
    "       powset(S) -> [['ab', 'bc'], ['bc'], ['ab'], []]\n",
    "    \"\"\"\n",
    "    L=list(S)\n",
    "    if L==[]:\n",
    "        return([[]])\n",
    "    else:\n",
    "        pow_rest0 = powset(L[1:])\n",
    "        pow_rest1 = list(map(lambda Ls: [L[0]] + Ls, pow_rest0))\n",
    "        return(pow_rest0 + pow_rest1)"
   ]
  },
  {
   "cell_type": "code",
   "execution_count": null,
   "metadata": {
    "run_control": {
     "frozen": false,
     "read_only": false
    }
   },
   "outputs": [],
   "source": [
    "powset({'a','b','c'})\n",
    "\n",
    "# Below, explain the results produced briefly.\n",
    "#--answer--\n",
    "\n",
    "# Try two more powerset calculations and explain (keep printouts below 64 in size)\n",
    "\n",
    "# Below, explain the results produced briefly.\n",
    "#--answer--"
   ]
  },
  {
   "cell_type": "markdown",
   "metadata": {
    "run_control": {
     "frozen": false,
     "read_only": false
    }
   },
   "source": [
    "\n",
    "Finally, we have a whole list of familiar language-theoretic operations:\n",
    "\n",
    "* lunion - language union\n",
    "\n",
    "* lint - language intersection\n",
    "\n",
    "* lsymdiff - language symmetric difference\n",
    "\n",
    "* lminus - language subtraction\n",
    "\n",
    "* lissubset - language subset test\n",
    "\n",
    "* lissuperset - language superset test\n",
    "\n",
    "* lcomplem - language complement with respect to \"star upto m\" of the alphabet (not the full alphabet star, mind you)\n",
    "\n",
    "* product - cartesian product\n",
    "\n",
    "We do not provide too many tests for these rather familiar functions. But please make sure you understand language complements well!\n"
   ]
  },
  {
   "cell_type": "code",
   "execution_count": null,
   "metadata": {
    "run_control": {
     "frozen": false,
     "read_only": false
    }
   },
   "outputs": [],
   "source": [
    "# Define lunion (as before)\n",
    "def lunion(L1,L2):\n",
    "    \"\"\"In : L1 (language : set of strings)\n",
    "            L2 (language : set of strings)\n",
    "       Out: L1 union L2 (sets of strings)\n",
    "    \"\"\"\n",
    "    return L1 | L2\n",
    "\n",
    "def lint(L1,L2):\n",
    "    \"\"\"In : L1 (language : set of strings)\n",
    "            L2 (language : set of strings)\n",
    "       Out: L1 intersection L2 (sets of strings)\n",
    "    \"\"\"\n",
    "    return L1 & L2\n",
    "\n",
    "def lsymdiff(L1,L2):\n",
    "    \"\"\"In : L1 (language : set of strings)\n",
    "            L2 (language : set of strings)\n",
    "       Out: (L1 \\ L2) union (L2 \\ L1) (sets of strings)\n",
    "       Example:\n",
    "       lsymdiff({'ab', 'bc'}, {'11', 'ab', '22'}) -> {'11', '22', 'bc'}\n",
    "    \"\"\"\n",
    "    return L1 ^ L2\n",
    "\n",
    "def lminus(L1,L2):\n",
    "    \"\"\"Language subtraction of two languages (sets of strings)\n",
    "       Can do it as L1.difference(L2) also. \n",
    "    \"\"\"\n",
    "    return L1 - L2\n",
    "\n",
    "def lissubset(L1,L2):\n",
    "    \"\"\"In : L1 (language : set of strings)\n",
    "            L2 (language : set of strings)\n",
    "       Out: L1 is subset or equal to L2 (True/False)\n",
    "    \"\"\"\n",
    "    return L1 <= L2\n",
    "\n",
    "def lissuperset(L1,L2):\n",
    "    \"\"\"In : L1 (language : set of strings)\n",
    "            L2 (language : set of strings)\n",
    "       Out: L1 is superset or equal to L2 (True/False)\n",
    "    \"\"\"\n",
    "    return L1 >= L2\n",
    "    \n",
    "def lcomplem(L,sigma,n):\n",
    "    \"\"\"In : L (language : set of strings)\n",
    "            sigma (alphabet : set of strings)\n",
    "            n (finite limit for lstar : int)\n",
    "       Out : sigma*_n - L (language : set of strings)\n",
    "       Example:\n",
    "       L = {'0', '10', '010'}\n",
    "       sigma = {'0', '1'}\n",
    "       n = 3\n",
    "       lcomplem(L4,{'0','1'}, 3) -> \n",
    "       {'', '000', '101', '011', '00', '1', \n",
    "        '001', '110', '111', '100', '01', '11'}\n",
    "    \"\"\"\n",
    "    return lstar(sigma,n) - L  \n",
    "\n",
    "def product(S1,S2):\n",
    "    \"\"\"In : S1 (set)\n",
    "            S2 (set)\n",
    "       Out: Cartesian product of S1 and S2 (set of pairs)\n",
    "    \"\"\"\n",
    "    return { (x,y) for x in S1 for y in S2 }\n",
    "\n",
    "#--end"
   ]
  },
  {
   "cell_type": "code",
   "execution_count": null,
   "metadata": {
    "run_control": {
     "frozen": false,
     "read_only": false
    }
   },
   "outputs": [],
   "source": [
    "L1 = {'0101'}\n",
    "L2 = lstar({'0','1'}, 2)\n",
    "# Python variable L2L1 denotes concat of L2 and L1\n",
    "L2L1 = lcat(L2,L1) \n",
    "L2L1\n",
    "\n",
    "L3 = lcat(L1, lunion(lunit(), L2L1))\n",
    "L3\n",
    "\n",
    "# Below, explain the results produced briefly.\n",
    "#--answer--"
   ]
  },
  {
   "cell_type": "code",
   "execution_count": null,
   "metadata": {
    "run_control": {
     "frozen": false,
     "read_only": false
    }
   },
   "outputs": [],
   "source": [
    "# Write a test to illustrate language complement.\n",
    "# Make it run in a code cell. Explain its answer.\n",
    "#--answer--"
   ]
  },
  {
   "cell_type": "code",
   "execution_count": null,
   "metadata": {
    "run_control": {
     "frozen": false,
     "read_only": false
    }
   },
   "outputs": [],
   "source": [
    "# What is the symmetric difference between lstar({'0','1'}, 2) and lstar({'0','1'}, 3) ?\n",
    "# Write Python code to calculate this below.\n",
    "\n",
    "# Below, explain the results produced briefly.\n",
    "#--answer--"
   ]
  },
  {
   "cell_type": "markdown",
   "metadata": {
    "run_control": {
     "frozen": false,
     "read_only": false
    }
   },
   "source": [
    "# Numeric Order"
   ]
  },
  {
   "cell_type": "code",
   "execution_count": null,
   "metadata": {
    "run_control": {
     "frozen": false,
     "read_only": false
    }
   },
   "outputs": [],
   "source": [
    "from math import floor, log, pow\n",
    "def nthnumeric(N, Sigma={'a','b'}):\n",
    "    \"\"\"Assume Sigma is a 2-sized list/set of chars (default {'a','b'}). \n",
    "       Produce the Nth string in numeric order, where N >= 0.\n",
    "       Idea : Given N, get b = floor(log_2(N+1)) - need that \n",
    "       many places; what to fill in the places is the binary \n",
    "       code for N - (2^b - 1) with 0 as Sigma[0] and 1 as Sigma[1].    \n",
    "    \"\"\"\n",
    "    if (type(Sigma)==set):\n",
    "       S = list(Sigma)\n",
    "    else:\n",
    "       assert(type(Sigma)==list\n",
    "       ), \"Expected to be given set/list for arg2 of nthnumeric.\"\n",
    "       S = Sigma\n",
    "    assert(len(Sigma)==2\n",
    "          ),\"Expected to be given a Sigma of length 2.\"\n",
    "    if(N==0):\n",
    "        return ''\n",
    "    else:\n",
    "        width = floor(log(N+1, 2))\n",
    "        tofill = int(N - pow(2, width) + 1)\n",
    "        relevant_binstr = bin(tofill)[2::] # strip the 0b \n",
    "                                           # in the leading string\n",
    "        len_to_makeup = width - len(relevant_binstr)\n",
    "        return (S[0]*len_to_makeup + \n",
    "                shomo(relevant_binstr,\n",
    "                      lambda x: S[1] if x=='1' else S[0]))"
   ]
  },
  {
   "cell_type": "code",
   "execution_count": null,
   "metadata": {
    "run_control": {
     "frozen": false,
     "read_only": false
    }
   },
   "outputs": [],
   "source": [
    "nthnumeric(20,['0','1'])\n",
    "# Below, explain the results produced briefly.\n",
    "#--answer--"
   ]
  },
  {
   "cell_type": "code",
   "execution_count": null,
   "metadata": {
    "run_control": {
     "frozen": false,
     "read_only": false
    }
   },
   "outputs": [],
   "source": [
    "# This is an excellent recipe for generating test inputs to machines\n",
    "\n",
    "tests = [ nthnumeric(i, ['0','1']) for i in range(18) ]\n",
    "for inp in tests:\n",
    "    print(\"Test input =\", inp)\n",
    "    \n",
    "# Below, explain the results produced briefly.\n",
    "#--answer--    "
   ]
  },
  {
   "cell_type": "code",
   "execution_count": null,
   "metadata": {
    "run_control": {
     "frozen": false,
     "read_only": false
    }
   },
   "outputs": [],
   "source": [
    "# Write code below to produce all concatenations of \n",
    "# nthnumeric(10,['0','1']) and nthnumeric(10,['a','b'])\n",
    "\n",
    "# Below, explain the results produced briefly.\n",
    "#--answer--"
   ]
  },
  {
   "cell_type": "markdown",
   "metadata": {
    "run_control": {
     "frozen": false,
     "read_only": false
    }
   },
   "source": [
    "# Introducing DFA\n",
    "\n",
    "The video below corresponds to Drive_DFA_Unit1.ipynb that is found\n",
    "in the \"notebooks/driver\" link of the Jove github"
   ]
  },
  {
   "cell_type": "code",
   "execution_count": null,
   "metadata": {
    "run_control": {
     "frozen": false,
     "read_only": false
    }
   },
   "outputs": [],
   "source": [
    "# This Youtube video walks through this notebook\n",
    "from IPython.display import YouTubeVideo\n",
    "YouTubeVideo('Bdr926TeQyQ')"
   ]
  },
  {
   "cell_type": "markdown",
   "metadata": {
    "run_control": {
     "frozen": false,
     "read_only": false
    }
   },
   "source": [
    "# Basics of DFA\n",
    "\n",
    "This unit is going to introduce you to the basics of Deterministic Finite Automata and Regular Languages.\n",
    "\n",
    "We have recorded a Youtube video that will explain this notebook plus a few related things! This will serve as material for Lecture 4 and perhaps also later lectures."
   ]
  },
  {
   "cell_type": "markdown",
   "metadata": {
    "run_control": {
     "frozen": false,
     "read_only": false
    }
   },
   "source": [
    " ## Regular languages\n",
    "\n",
    "Regular languages are one family (or set) of languages. (Both words \"family\" and \"set\" mean the same.)\n",
    "\n",
    "A regular language is specified by drawing a DFA. Once you finish drawing a DFA, you would have defined a regular language. (We will soon tell you why you might want to take the trouble of drawing DFA and obtain regular languages. For now, we will finish defining terms.)  \n",
    "\n",
    "Ultimately the aim is to not produce drawings. We aim to define a simple type of machine that represents goto based programs. we shall define the notion of a transition system and introduce a simple text-based markdown language that helps specify transition systems. Once the transition system is defined, a drawing can be automatically produced using utilities we provide. However we shall continue to say \"draw a DFA\" to mean \"specify a transition system.\"\n",
    "\n",
    "## There are an infinite number of DFAs that can denote the same regular language\n",
    "\n",
    "Much like 1+1 and 3-1 both denote number 2, and there are an infinite number of arithmetic expressions that denote 2, there are an infinite number of transition systems that denote the same regular language. But usually we don't write 364-362 in order to convey \"2\" (e.g., you seldom order (364-362) pancakes in a restaurant.) The same way, you try to specify the simplest possible DFA to denote a particular regular language -- not an artificially bloated one.\n",
    "\n",
    "However, with numbers, we know that \"2\" is simpler than (364-362). With DFA, don't worry: even if you did not draw the simplest DFA, there is an automated tool that we shall give you that creates the simplest DFA. Yes, there is a unique simplest DFA called the minimal DFA for each regular language.\n",
    "\n",
    "## There are an infinite number of regular languages\n",
    "\n",
    "Much like there are an infinite number of natural numbers, there are also an infinite number of regular languages. So let us get the two ideas of infinity introduced so far straight:\n",
    "\n",
    "* Each natural number can be written in an infinite number of variants. E.g., 1 = 2-1 = 3-2 = 4-3 = ...\n",
    "    - Similarly, each regular language can be denoted by an infinite number of DFA\n",
    "  \n",
    "  \n",
    "* There are an infinite number of natural numbers, e.g., 0,1,2, ...\n",
    "    - Similarly, there are an infinite number of regular languages\n"
   ]
  },
  {
   "cell_type": "markdown",
   "metadata": {
    "run_control": {
     "frozen": false,
     "read_only": false
    }
   },
   "source": [
    "# Highly recommended intuitive first approach: DFA Drawings using JFLAP\n",
    "\n",
    "We shall use the tool JFLAP to draw DFA and then run them. I will include some screenshots and/or a JFLAP screen recording here.\n",
    "The first DFA specified will be to define the language of equal number of 01 and 10 changes. \n",
    "\n",
    "Think about this language a little bit. What strings may we include in this language? List all strings of length less than five in this language in numeric order. \n",
    "\n",
    "There is a JFLAP session in the Youtube video on DFAs. Please learn JFLAP using that. It is a handy tool."
   ]
  },
  {
   "cell_type": "markdown",
   "metadata": {
    "run_control": {
     "frozen": false,
     "read_only": false
    }
   },
   "source": [
    "# Discarding the ''drawing crutch''\n",
    "\n",
    "Dear student, draw away with JFLAP and we also have a software engineering project called Sinap that has a lot of potential. But let us face it:\n",
    "\n",
    "* Drawing large diagrams is tedious - especially if you have to do the placement of nodes and edges\n",
    "    - From a grading perspective, it will be a nightmare; each students' drawing will look different with non-standard state names chosen\n",
    "    \n",
    "    \n",
    "* Drawings are not what we are after. We are programming a low-level machine\n",
    "    - When we write assembly code, we don't throw the code lines around on \"spaghetti lines\". We comment each line, and carefully arrange them into semantically coherent blocks. DFA code is like assembly code and the same conventions must prevail here too.\n",
    "    \n",
    "    \n",
    "* Large drawings will be a nightmare to maintain. The cop-out used in many automata courses is not to ask students to design large DFA. While we will introduce formalisms such as NFA and RE (regular expressions), waiting for them to arrive is no excuse not to try to design DFA directly, \"complaining that their size is becoming unmanageable.\"\n",
    "    - The markdown notation that we provide solves these problems in the following ways:\n",
    "    \n",
    "        * It standardizes state names in a very systematic way\n",
    "        \n",
    "        * It allows you to write each DFA transition as if it is a line of code, and also comment it\n",
    "        \n",
    "        * Last but not penultimate, it produces DFA drawings automatically, and also produces a runnable artifact that feeds into a rich DFA tool ecosystem\n",
    "        \n",
    "        * Last but not least, it helps illustrate the principles of scanning and parsing \n",
    "\n",
    "\n",
    "# Using Jove for DFA\n",
    "\n",
    "We shall be using Jove's markdown notation to specify DFA.  \n",
    "\n"
   ]
  },
  {
   "cell_type": "code",
   "execution_count": null,
   "metadata": {
    "run_control": {
     "frozen": false,
     "read_only": false
    }
   },
   "outputs": [],
   "source": [
    "from jove.DotBashers import *\n",
    "from jove.Def_md2mc import *\n",
    "from jove.Def_DFA   import *"
   ]
  },
  {
   "cell_type": "markdown",
   "metadata": {
    "run_control": {
     "frozen": false,
     "read_only": false
    }
   },
   "source": [
    "# Now we begin our work building DFA.\n",
    "\n",
    "As we go along, we will also be teaching you how to \"think DFA\" so that you can code them up \"straight from your head\"\n",
    "\n",
    "\n",
    "## Jove's markdown\n",
    "\n",
    "Jove's markdown is designed to cover four machine types:\n",
    "\n",
    "1. DFA\n",
    "2. NFA\n",
    "3. PDA\n",
    "4. TM\n",
    " \n",
    "There are only these four basic machine types one studies in most automata theory courses.\n",
    "\n",
    "## Markdown syntax for DFA\n",
    "\n",
    "The markdown syntax for DFA is quite simple. To understand what we are about to say below, kindly refer to Def_DFA.ipynb and un\n",
    "\n",
    "Given that a DFA consists of a set of states, an initial state, a possibly empty set of final states, and a transition function, we want to have an arrangement by which we require the user to specify the least and infer everything else.\n",
    "\n",
    "Thus we settle on a notation that specifies the transition function. We will add a few details that allows us to infer the initial and final states. Specifically, to describe a DFA:\n",
    "\n",
    "* Specify a state with name beginning with I that will be the initial state (lower-case i is OK too)\n",
    "\n",
    "* If the DFA in question has an initial state that is also a final state, let the state name begin with IF (lowercase if is OK)\n",
    "\n",
    "* For final states, use a name that begins with F or f\n",
    "\n",
    "* Then just specify-away transitions. \n",
    "\n",
    "### Example DFA\n",
    "\n",
    "We will now specify the DFA whose language is the set of strings that have the same number of 01 and 10 transitions. We will specify the transitions below in markdown within triple quotes initially, and then present the same in a code cell.\n",
    "\n",
    "We decide to include $\\varepsilon$ as well as single occurrences of $0$ and $1$. These strings all trivially contain an equal number of 01 and 10 transitions.\n",
    "\n",
    "Let us design this DFA bit by bit, this being our first example. We will show the final result under \"putting it all together,\" below.\n",
    "\n",
    "#### Initial state and the first few moves\n",
    "\n",
    "We begin in state IF, meaning that it is initial and final. This is how we admit $\\varepsilon$ into the machine's language. Now from IF, upon 0 or upon 1, we must still go to a final state, as the machine must accept a $0$ or a $1$ because a single $0$ or $1$ has an equal number of $01$ and $10$ changes -- meaning $0$ such!\n",
    "\n",
    "We can even plot these partial DFA as we move along. Just don't run them -- that is all! \n",
    "\n",
    "** NOTE ** : When you present your solutions, present only the final product, and not every intermediate DFA"
   ]
  },
  {
   "cell_type": "code",
   "execution_count": null,
   "metadata": {
    "run_control": {
     "frozen": false,
     "read_only": false
    }
   },
   "outputs": [],
   "source": [
    "dotObj_dfa(md2mc('''\n",
    "DFA\n",
    "IF : 0 -> F0  !! a single 0 does not change the number of 01 or 10 transitions\n",
    "IF : 1 -> F1  !! so, go to an accepting state\n",
    "'''))"
   ]
  },
  {
   "cell_type": "markdown",
   "metadata": {
    "run_control": {
     "frozen": false,
     "read_only": false
    }
   },
   "source": [
    "#### Fully decode at every state, transitioning to appropriate states \n",
    "\n",
    "We now fill all other moves, decoding upon a 0 or a 1 at every state, keeping the overall semantics in mind."
   ]
  },
  {
   "cell_type": "code",
   "execution_count": null,
   "metadata": {
    "run_control": {
     "frozen": false,
     "read_only": false
    }
   },
   "outputs": [],
   "source": [
    "# Pick up from before, adding more lines to the DFA description\n",
    "dotObj_dfa(md2mc('''\n",
    "DFA\n",
    "IF : 0 -> F0   !! a single 0 does not change the number of 01 or 10 transitions\n",
    "IF : 1 -> F1   !! so, go to an accepting state\n",
    "F0 : 0 -> F0\n",
    "F1 : 1 -> F1\n",
    "F0 : 1 -> S01  !! There is a 01 transition but no 10 transition. So go to non-accepting state\n",
    "F1 : 0 -> S10  !! ditto.  It has introduced a 10 transition without a  01 transition\n",
    "'''))"
   ]
  },
  {
   "cell_type": "markdown",
   "metadata": {
    "run_control": {
     "frozen": false,
     "read_only": false
    }
   },
   "source": [
    "### Finish the DFA\n",
    "\n",
    "Now that we have made incremental progress and have our thoughts flowing, let's go ahead and\n",
    "finish the DFA. Plus we also name the DFA object and hold onto it, and then also plot wrt that name.\n",
    "See the details below."
   ]
  },
  {
   "cell_type": "code",
   "execution_count": null,
   "metadata": {
    "run_control": {
     "frozen": false,
     "read_only": false
    }
   },
   "outputs": [],
   "source": [
    "# Pick up from before, adding more lines to the DFA description\n",
    "EqChangeDFA = md2mc('''\n",
    "DFA\n",
    "!!--\n",
    "IF : 0 -> F0   !! a single 0 does not change the number of 01 or 10 transitions\n",
    "IF : 1 -> F1   !! so, go to an accepting state\n",
    "F0 : 0 -> F0\n",
    "F1 : 1 -> F1\n",
    "F0 : 1 -> S01  !! There is a 01 transition but no 10 transition. So go to non-accepting state\n",
    "F1 : 0 -> S10  !! ditto.  It has introduced a 10 transition without a  01 transition\n",
    "S01: 1 -> S01  !! Remain in S01 as the 01 vs 10 balance has not been restored\n",
    "S10: 0 -> S10  !! Similar reasoning as above\n",
    "S01: 0 -> F0   !! Balance restored now!\n",
    "S10: 1 -> F1   !! Balance restored now!\n",
    "!!--- \n",
    "!! this finishes the construction, as we have accounted for all transitions\n",
    "''')"
   ]
  },
  {
   "cell_type": "code",
   "execution_count": null,
   "metadata": {
    "run_control": {
     "frozen": false,
     "read_only": false
    }
   },
   "outputs": [],
   "source": [
    "# Let us view the internal Python representation of \n",
    "# DFA as an n-tuple (Q, Sigma, Delta, q0, F)\n",
    "EqChangeDFA"
   ]
  },
  {
   "cell_type": "code",
   "execution_count": null,
   "metadata": {
    "run_control": {
     "frozen": false,
     "read_only": false
    }
   },
   "outputs": [],
   "source": [
    "# Now let us view the DFA as a graph\n",
    "dotObj_dfa(EqChangeDFA)"
   ]
  },
  {
   "cell_type": "markdown",
   "metadata": {
    "run_control": {
     "frozen": false,
     "read_only": false
    }
   },
   "source": [
    "### Running a constructed DFA\n",
    "\n",
    "We run a DFA by generating a collection of strings and generating the status of run (feeding it to accepts_dfa)\n",
    "The full language of the DFA is infinitary, and so we won't present all of it (obviously) but only enough of it\n",
    "to believe that we have built the correct DFA. Later we can check properties and conclude that the machine has\n",
    "all the required moves."
   ]
  },
  {
   "cell_type": "code",
   "execution_count": null,
   "metadata": {
    "run_control": {
     "frozen": false,
     "read_only": false
    }
   },
   "outputs": [],
   "source": [
    "from math import floor, log, pow\n",
    "def nthnumeric(N, Sigma={'a','b'}):\n",
    "    \"\"\"Assume Sigma is a 2-sized list/set of chars (default {'a','b'}). \n",
    "       Produce the Nth string in numeric order, where N >= 0.\n",
    "       Idea : Given N, get b = floor(log_2(N+1)) - need that \n",
    "       many places; what to fill in the places is the binary \n",
    "       code for N - (2^b - 1) with 0 as Sigma[0] and 1 as Sigma[1].    \n",
    "    \"\"\"\n",
    "    if (type(Sigma)==set):\n",
    "       S = list(Sigma)\n",
    "    else:\n",
    "       assert(type(Sigma)==list\n",
    "       ), \"Expected to be given set/list for arg2 of nthnumeric.\"\n",
    "       S = Sigma\n",
    "    assert(len(Sigma)==2\n",
    "          ),\"Expected to be given a Sigma of length 2.\"\n",
    "    if(N==0):\n",
    "        return ''\n",
    "    else:\n",
    "        width = floor(log(N+1, 2))\n",
    "        tofill = int(N - pow(2, width) + 1)\n",
    "        relevant_binstr = bin(tofill)[2::] # strip the 0b \n",
    "                                           # in the leading string\n",
    "        len_to_makeup = width - len(relevant_binstr)\n",
    "        return (S[0]*len_to_makeup + \n",
    "                shomo(relevant_binstr,\n",
    "                      lambda x: S[1] if x=='1' else S[0]))"
   ]
  },
  {
   "cell_type": "code",
   "execution_count": null,
   "metadata": {
    "run_control": {
     "frozen": false,
     "read_only": false
    },
    "scrolled": true
   },
   "outputs": [],
   "source": [
    "tests = [ nthnumeric(i, ['0','1']) for i in range(19) ]\n",
    "for t in tests:\n",
    "    if accepts_dfa(EqChangeDFA, t):\n",
    "        print(\"This DFA accepts \", t)\n",
    "    else:\n",
    "        print(\"This DFA rejects \", t)"
   ]
  },
  {
   "cell_type": "markdown",
   "metadata": {
    "run_control": {
     "frozen": false,
     "read_only": false
    }
   },
   "source": [
    "## More DFA construction and experimentation"
   ]
  },
  {
   "cell_type": "code",
   "execution_count": null,
   "metadata": {
    "run_control": {
     "frozen": false,
     "read_only": false
    }
   },
   "outputs": [],
   "source": [
    "OddEnds1 = md2mc(''' !! This is a machine that accepts odd-length strings ending in 1\n",
    "DFA                  !! Think about whether you can design this DFA in fewer than 3 states\n",
    "I : 0 -> A\n",
    "A : 0 | 1 -> I\n",
    "I : 1 -> F\n",
    "F : 0 | 1 -> I\n",
    "''')"
   ]
  },
  {
   "cell_type": "code",
   "execution_count": null,
   "metadata": {
    "run_control": {
     "frozen": false,
     "read_only": false
    }
   },
   "outputs": [],
   "source": [
    "# A simple optional argument: edges not fused\n",
    "dotObj_dfa(OddEnds1)"
   ]
  },
  {
   "cell_type": "code",
   "execution_count": null,
   "metadata": {
    "run_control": {
     "frozen": false,
     "read_only": false
    }
   },
   "outputs": [],
   "source": [
    "# A simple optional argument for fusing multiple edges\n",
    "dotObj_dfa(OddEnds1, FuseEdges=True)"
   ]
  },
  {
   "cell_type": "markdown",
   "metadata": {
    "run_control": {
     "frozen": false,
     "read_only": false
    }
   },
   "source": [
    "## DFA for recognizing that the second-last character is a 1"
   ]
  },
  {
   "cell_type": "code",
   "execution_count": null,
   "metadata": {
    "run_control": {
     "frozen": false,
     "read_only": false
    }
   },
   "outputs": [],
   "source": [
    "secondLastIs1 = md2mc('''\n",
    "!!------------------------------------------------------------\n",
    "!! This DFA looks for patterns of the form ....1.\n",
    "!! i.e., the second-last (counting from the end-point) is a 1\n",
    "!!\n",
    "!! DFAs find such patterns \"very stressful to handle\",\n",
    "!! as they are kept guessing of the form  'are we there yet?'\n",
    "!! 'are we seeing the second-last' ?\n",
    "!! They must keep all the failure options at hand. Even after\n",
    "!! a 'fleeting glimpse' of the second-last, more inputs can\n",
    "!! come barreling-in to make that \"lucky 1\" a non-second-last.\n",
    "!!\n",
    "!! We take 7 states in the DFA solution.\n",
    "!!------------------------------------------------------------\n",
    "\n",
    "DFA\n",
    "!!------------------------------------------------------------\n",
    "!! State : in ->  tostate !! comment\n",
    "!!------------------------------------------------------------\n",
    "\n",
    "I   :  0 ->  S0  !! Enter at init state I\n",
    "I   :  1 ->  S1  !! Record bit seen in state letter\n",
    "                     !! i.e., S0 means \"state after seeing a 0\"\n",
    "\t\t\t \n",
    "S0  :  0 ->  S00 !! continue recording input seen\n",
    "S0  :  1 ->  S01 !! in state-letter. This is a problem-specific\n",
    "                 !! way of compressing the input seen so far.\n",
    "\n",
    "S1  :  0 ->  F10 !! We now have a \"second last\" available!\n",
    "S1  :  1 ->  F11 !! Both F10 and F10 are \"F\" (final)\n",
    "\n",
    "S00 :  0 ->  S00 !! History of things seen is still 00\n",
    "S00 :  1 ->  S01 !! Remember 01 in the state\n",
    "\n",
    "S01 :  0 ->  F10 !! We again have a second-last of 1\n",
    "S01 :  1 ->  F11 !! We are in F11 because of 11 being last seen\n",
    "\n",
    "F10 :  0 ->  S00 !! The second-last 1 gets pushed-out\n",
    "F10 :  1 ->  S01 !! The second-last 1 gets pushed-out here too\n",
    "\n",
    "F11 :  0 ->  F10 !! Still we have a second-last 1\n",
    "F11 :  1 ->  F11 !! Stay in F11, as last two seen are 11\n",
    "\n",
    "!!------------------------------------------------------------\n",
    "''')"
   ]
  },
  {
   "cell_type": "code",
   "execution_count": null,
   "metadata": {
    "run_control": {
     "frozen": false,
     "read_only": false
    }
   },
   "outputs": [],
   "source": [
    "dotObj_dfa(secondLastIs1)"
   ]
  },
  {
   "cell_type": "code",
   "execution_count": null,
   "metadata": {
    "run_control": {
     "frozen": false,
     "read_only": false
    }
   },
   "outputs": [],
   "source": [
    "tests = [ nthnumeric(i, ['0','1']) for i in range(22) ]\n",
    "for t in tests:\n",
    "    if accepts_dfa(secondLastIs1, t):\n",
    "        print(\"This DFA accepts \", t)\n",
    "    else:\n",
    "        print(\"This DFA rejects \", t)"
   ]
  },
  {
   "cell_type": "code",
   "execution_count": null,
   "metadata": {
    "run_control": {
     "frozen": false,
     "read_only": false
    }
   },
   "outputs": [],
   "source": [
    "help(run_dfa)"
   ]
  },
  {
   "cell_type": "markdown",
   "metadata": {
    "run_control": {
     "frozen": false,
     "read_only": false
    }
   },
   "source": [
    "Enter the description of the DFA for \"third last is a 1\" in a fresh cell below. Demonstrate that this DFA works via a test using \"nthnumeric\", above. You may wish to increase the test size to go up to strings of length 5.\n",
    "\n",
    "##--answer--"
   ]
  },
  {
   "cell_type": "markdown",
   "metadata": {
    "run_control": {
     "frozen": false,
     "read_only": false
    }
   },
   "source": [
    "END of Quiz2"
   ]
  }
 ],
 "metadata": {
  "kernelspec": {
   "display_name": "Python 3",
   "language": "python",
   "name": "python3"
  },
  "language_info": {
   "codemirror_mode": {
    "name": "ipython",
    "version": 3
   },
   "file_extension": ".py",
   "mimetype": "text/x-python",
   "name": "python",
   "nbconvert_exporter": "python",
   "pygments_lexer": "ipython3",
   "version": "3.6.0"
  },
  "toc": {
   "colors": {
    "hover_highlight": "#DAA520",
    "running_highlight": "#FF0000",
    "selected_highlight": "#FFD700"
   },
   "moveMenuLeft": true,
   "nav_menu": {
    "height": "66px",
    "width": "252px"
   },
   "navigate_menu": true,
   "number_sections": true,
   "sideBar": true,
   "threshold": 4,
   "toc_cell": false,
   "toc_section_display": "block",
   "toc_window_display": false,
   "widenNotebook": false
  },
  "widgets": {
   "state": {
    "4b4cdcc23a044b02a9b5bca840fea2ed": {
     "views": [
      {
       "cell_index": 20
      }
     ]
    },
    "acfe89fd842047d886863d70e6f43c22": {
     "views": [
      {
       "cell_index": 20
      }
     ]
    }
   },
   "version": "1.2.0"
  }
 },
 "nbformat": 4,
 "nbformat_minor": 2
}
