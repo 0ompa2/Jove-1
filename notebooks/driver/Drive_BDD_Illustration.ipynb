{
 "cells": [
  {
   "cell_type": "code",
   "execution_count": 1,
   "metadata": {
    "run_control": {
     "frozen": false,
     "read_only": false
    }
   },
   "outputs": [
    {
     "name": "stdout",
     "output_type": "stream",
     "text": [
      "You may use any of these help commands:\n",
      "help(ResetStNum)\n",
      "help(NxtStateStr)\n",
      "\n",
      "You may use any of these help commands:\n",
      "help(mkp_dfa)\n",
      "help(mk_dfa)\n",
      "help(totalize_dfa)\n",
      "help(addtosigma_delta)\n",
      "help(step_dfa)\n",
      "help(run_dfa)\n",
      "help(accepts_dfa)\n",
      "help(comp_dfa)\n",
      "help(union_dfa)\n",
      "help(intersect_dfa)\n",
      "help(pruneUnreach)\n",
      "help(iso_dfa)\n",
      "help(langeq_dfa)\n",
      "help(same_status)\n",
      "help(h_langeq_dfa)\n",
      "help(fixptDist)\n",
      "help(min_dfa)\n",
      "help(pairFR)\n",
      "help(state_combos)\n",
      "help(sepFinNonFin)\n",
      "help(bash_eql_classes)\n",
      "help(listminus)\n",
      "help(bash_1)\n",
      "help(mk_rep_eqc)\n",
      "help(F_of)\n",
      "help(rep_of_s)\n",
      "help(q0_of)\n",
      "help(Delta_of)\n",
      "help(mk_state_eqc_name)\n",
      "\n",
      "You may use any of these help commands:\n",
      "help(mk_nfa)\n",
      "help(totalize_nfa)\n",
      "help(step_nfa)\n",
      "help(run_nfa)\n",
      "help(ec_step_nfa)\n",
      "help(Eclosure)\n",
      "help(Echelp)\n",
      "help(accepts_nfa)\n",
      "help(nfa2dfa)\n",
      "help(n2d)\n",
      "help(inSets)\n",
      "help(rev_dfa)\n",
      "help(min_dfa_brz)\n",
      "\n",
      "You may use any of these help commands:\n",
      "help(re2nfa)\n",
      "\n",
      "You may use any of these help commands:\n",
      "help(RE2Str)\n",
      "help(mk_gnfa)\n",
      "help(mk_gnfa_from_D)\n",
      "help(dfa2nfa)\n",
      "help(del_gnfa_states)\n",
      "help(gnfa_w_REStr)\n",
      "help(del_one_gnfa_state)\n",
      "help(Edges_Exist_Via)\n",
      "help(choose_state_to_del)\n",
      "help(form_alt_RE)\n",
      "help(form_concat_RE)\n",
      "help(form_kleene_RE)\n",
      "\n",
      "You may use any of these help commands:\n",
      "help(md2mc)\n",
      ".. and if you want to dig more, then ..\n",
      "help(default_line_attr)\n",
      "help(length_ok_input_items)\n",
      "help(union_line_attr_list_fld)\n",
      "help(extend_rsltdict)\n",
      "help(form_delta)\n",
      "help(get_machine_components)\n",
      "\n"
     ]
    }
   ],
   "source": [
    "from jove.StateNameSanitizers import *\n",
    "from jove.DotBashers import *\n",
    "from jove.Def_DFA import *\n",
    "from jove.Def_NFA import *\n",
    "from jove.Def_RE2NFA import *\n",
    "from jove.Def_NFA2RE import *\n",
    "from jove.Def_md2mc import *"
   ]
  },
  {
   "cell_type": "markdown",
   "metadata": {
    "run_control": {
     "frozen": false,
     "read_only": false
    }
   },
   "source": [
    "** IMPORTANT NOTE: RESTART AND RUN ALL CELLS SO THAT THE STATES GET NUMBERED\n",
    "CORRECTLY AS PER THE EMBEDDED DESCRIPTIONS IN THIS NOTEBOOK **"
   ]
  },
  {
   "cell_type": "code",
   "execution_count": 2,
   "metadata": {
    "run_control": {
     "frozen": false,
     "read_only": false
    }
   },
   "outputs": [
    {
     "data": {
      "text/plain": [
       "0"
      ]
     },
     "execution_count": 2,
     "metadata": {},
     "output_type": "execute_result"
    }
   ],
   "source": [
    "# Reset the state numbering counter\n",
    "ResetStNum()"
   ]
  },
  {
   "cell_type": "markdown",
   "metadata": {
    "run_control": {
     "frozen": false,
     "read_only": false
    }
   },
   "source": [
    " # BDDs: Efficient Data Stuctures for Boolean Function Representation\n",
    " \n",
    " Boolean functions occur widely in computer science. In order to represent and manipulate large Boolean\n",
    " functions, one must choose good data structures. A data structure called BDDs often works well. In fact,\n",
    " Prof. Donald Knuth [has said](https://en.wikipedia.org/wiki/Binary_decision_diagram)  in his lecture\n",
    " _Fun With Binary Decision Diagrams_  that BDDs are\"one of the only really fundamental data structures \n",
    " that came out in the last twenty-five years.\"\n",
    " \n",
    " We are studying BDDs in our book because BDDs are nothing but a small variant of \n",
    " minimal DFAs for a simple language that one\n",
    " can obtain from a given Boolean function. Given that we have studied minimal\n",
    " DFAs extensively, it looks quite opportune to point out yet another amazing connection\n",
    " in computer science -- specifically, the study of Boolean functions being another application of minimal DFA.\n",
    " \n",
    " In this narrative, we will cover all the required basics one by one; we assume very little by the way of\n",
    " prerequisites."
   ]
  },
  {
   "cell_type": "markdown",
   "metadata": {
    "run_control": {
     "frozen": false,
     "read_only": false
    }
   },
   "source": [
    "## Boolean functions, and viewing their on-sets as formal languages"
   ]
  },
  {
   "cell_type": "markdown",
   "metadata": {
    "run_control": {
     "frozen": false,
     "read_only": false
    }
   },
   "source": [
    "A Boolean function f(x1,x0) admits a truth-table of four entries with the\n",
    "truth-table output (called \"personality\") defining the function for the\n",
    "standard order of enumeration of x0 and x1. For AND, taking the inputs \n",
    "x1,x0 through 00, 01, 10 and 11, the outputs of AND are 0001 (the string\n",
    "0001 is its personality). The personality has $2^2$ bits (for a $2$-input\n",
    "Boolean function). There are $2^{2^2} = 16$ personalities for a $2$-input\n",
    "Boolean function. Each personality defines a Boolean function; thus, there\n",
    "are $16$ possible Boolean functions.\n",
    "\n",
    "Here are personalities of some common functions: \n",
    "\n",
    "```\n",
    " Inputs  Personalities\n",
    "----------------------\n",
    "| x1 x0 | OR XOR NOR |\n",
    "----------------------\n",
    "| 0  0  | 0  0   1   |\n",
    "| 0  1  | 1  1   0   |\n",
    "| 1  0  | 1  1   0   |\n",
    "| 1  1  | 1  0   0   |\n",
    "----------------------\n",
    "```\n",
    "\n",
    "In general, an $N$-input truth-table has $2^N$ \n",
    "truth-table rows and a personality of length $2^N$, thus admitting $2^{2^N}$\n",
    "Boolean functions of $N$ inputs.\n",
    "\n",
    "It is impractical (and insane) to be building truth-tables for Boolean functions with\n",
    "many inputs. Even a $64$-input Boolean function will have a truth-table of $2^{64}$ rows.\n",
    "Suppose we want to even print one such truth-table. At 80 rows printed per sheet of paper and\n",
    "five grams of weight per sheet, we will need 46-billion tons of paper to print. Even a \n",
    "newborn human baby would be dead of ripe old age by the time this many pages are printed.\n",
    "\n",
    "Yet, there is a method by which _many_ 64-input Boolean functions can be exactly\n",
    "represented using alternative representations than truth-tables. (To emphasize this a bit,\n",
    "not all functions can be so represented, but it works for many Boolean functions occurring in practice.)\n",
    "\n",
    "One such representation is called a Binary Decision Diagram.\n",
    "\n",
    "Binary Decision Diagrams (BDD) are graph structures that summarize a Boolean function's\n",
    "on-sets (sets of inputs for which the function is true). The on-set of the AND function\n",
    "is {11} while that for the OR function is {01, 10, 11}.\n",
    "\n",
    "One can read on-sets as a formal language. The language of an OR-gate is thus {01, 10, 11}\n",
    "(its on-set) and the language of (the on-set of) an AND-gate is {11}."
   ]
  },
  {
   "cell_type": "markdown",
   "metadata": {
    "run_control": {
     "frozen": false,
     "read_only": false
    }
   },
   "source": [
    "## Building minimal DFA for the language of on-sets"
   ]
  },
  {
   "cell_type": "markdown",
   "metadata": {
    "run_control": {
     "frozen": false,
     "read_only": false
    }
   },
   "source": [
    "Suppose there is a 6-input Boolean function modeling a magnitude comparator that \n",
    "compares the binary value coming in through input ports x2,x1,x0 against the binary\n",
    "value coming through ports y2,y1,y0.\n",
    "\n",
    "The function is \"<\" where \"A < B\" means the usual \"less than\" comparison.\n",
    "\n",
    "More specifically, we write \"x2,x1,x0 < y2,y1,y0\" and we interpret the word x2,x1,x0\n",
    "using the standard positional binary notation (likewise also for y2,y1,y0).\n",
    "\n",
    "Here are some examples:\n",
    "\n",
    "* 000 < 001  because 0 is < 1  (and 0 is encoded in binary as 000 and 1 as 001)\n",
    "\n",
    "* 010 < 110  because 2 is < 6  (and 2 is encoded as 010 while 6 is encoded as 110)\n",
    "\n",
    "* 110 < 111  because 6 < 7\n",
    "\n",
    "```\n",
    "Here is a circuit schematic of such a comparator:\n",
    "\n",
    "      --------\n",
    "      |      |\n",
    "x2 -->|      |\n",
    "x1 -->|      |\n",
    "x0 -->|      |\n",
    "      |   <  |--> Output\n",
    "y2 -->|      |\n",
    "y1 -->|      |\n",
    "y0 -->|      |\n",
    "      |      |\n",
    "      --------\n",
    "\n",
    "\n",
    "```\n",
    "\n",
    "Let us now define a language of strings of length 6 representing the values of \n",
    "x2,x1,x0,y2,y1,y0 written adjacently, such that for those x,y values, the function\n",
    "outputs a 1. Call this language L.\n",
    "\n",
    "For instance, L contains 010101 because 010 is < 101 (i.e. 2 < 5)\n",
    "\n",
    "The reader may verify that this is the full L language written out as a regular expression.\n",
    "Of the $2^6 = 64$ strings, we have 28 strings in L's language. The regular expression for L is called R, and is defined below:\n",
    "\n",
    "```\n",
    "R =     \"(000001+000011+000111+001011+001111+\\\n",
    "          010011+010111+011111+100101+100111+\\\n",
    "          101111+110111+000010+000101+000110+\\\n",
    "          001010+001101+001110+010101+010110+\\\n",
    "          011101+011110+100110+101110+000100+\\\n",
    "          001100+010100+011100)\"\n",
    "```\n",
    "\n",
    "Let us build a minimal DFA for R."
   ]
  },
  {
   "cell_type": "code",
   "execution_count": 3,
   "metadata": {
    "run_control": {
     "frozen": false,
     "read_only": false
    }
   },
   "outputs": [
    {
     "data": {
      "image/svg+xml": [
       "<?xml version=\"1.0\" encoding=\"UTF-8\" standalone=\"no\"?>\n",
       "<!DOCTYPE svg PUBLIC \"-//W3C//DTD SVG 1.1//EN\"\n",
       " \"http://www.w3.org/Graphics/SVG/1.1/DTD/svg11.dtd\">\n",
       "<!-- Generated by graphviz version 2.38.0 (20140413.2041)\n",
       " -->\n",
       "<!-- Title: %3 Pages: 1 -->\n",
       "<svg width=\"823pt\" height=\"538pt\"\n",
       " viewBox=\"0.00 0.00 823.00 538.00\" xmlns=\"http://www.w3.org/2000/svg\" xmlns:xlink=\"http://www.w3.org/1999/xlink\">\n",
       "<g id=\"graph0\" class=\"graph\" transform=\"scale(1 1) rotate(0) translate(4 534)\">\n",
       "<title>%3</title>\n",
       "<polygon fill=\"white\" stroke=\"none\" points=\"-4,4 -4,-534 818.999,-534 818.999,4 -4,4\"/>\n",
       "<!-- EMPTY -->\n",
       "<g id=\"node1\" class=\"node\"><title>EMPTY</title>\n",
       "</g>\n",
       "<!-- St1 -->\n",
       "<g id=\"node20\" class=\"node\"><title>St1</title>\n",
       "<ellipse fill=\"none\" stroke=\"black\" cx=\"112.904\" cy=\"-223\" rx=\"21.8081\" ry=\"21.8081\"/>\n",
       "<text text-anchor=\"middle\" x=\"112.904\" y=\"-218.8\" font-family=\"Times,serif\" font-size=\"14.00\">St1</text>\n",
       "</g>\n",
       "<!-- EMPTY&#45;&gt;St1 -->\n",
       "<g id=\"edge1\" class=\"edge\"><title>EMPTY&#45;&gt;St1</title>\n",
       "<path fill=\"none\" stroke=\"black\" d=\"M54.0878,-223C62.501,-223 71.9126,-223 80.6587,-223\"/>\n",
       "<polygon fill=\"black\" stroke=\"black\" points=\"80.8854,-226.5 90.8853,-223 80.8853,-219.5 80.8854,-226.5\"/>\n",
       "</g>\n",
       "<!-- St44 -->\n",
       "<g id=\"node2\" class=\"node\"><title>St44</title>\n",
       "<ellipse fill=\"none\" stroke=\"black\" cx=\"590.238\" cy=\"-329\" rx=\"26.1523\" ry=\"26.1523\"/>\n",
       "<text text-anchor=\"middle\" x=\"590.238\" y=\"-324.8\" font-family=\"Times,serif\" font-size=\"14.00\">St44</text>\n",
       "</g>\n",
       "<!-- St45 -->\n",
       "<g id=\"node23\" class=\"node\"><title>St45</title>\n",
       "<ellipse fill=\"none\" stroke=\"black\" cx=\"693.389\" cy=\"-296\" rx=\"26.1751\" ry=\"26.1751\"/>\n",
       "<ellipse fill=\"none\" stroke=\"black\" cx=\"693.389\" cy=\"-296\" rx=\"30.1522\" ry=\"30.1522\"/>\n",
       "<text text-anchor=\"middle\" x=\"693.389\" y=\"-291.8\" font-family=\"Times,serif\" font-size=\"14.00\">St45</text>\n",
       "</g>\n",
       "<!-- St44&#45;&gt;St45 -->\n",
       "<g id=\"edge40\" class=\"edge\"><title>St44&#45;&gt;St45</title>\n",
       "<path fill=\"none\" stroke=\"black\" d=\"M615.466,-321.096C627.203,-317.267 641.566,-312.581 654.69,-308.299\"/>\n",
       "<polygon fill=\"black\" stroke=\"black\" points=\"655.999,-311.554 664.421,-305.125 653.828,-304.899 655.999,-311.554\"/>\n",
       "<text text-anchor=\"middle\" x=\"639.814\" y=\"-331.8\" font-family=\"Times,serif\" font-size=\"14.00\">1 </text>\n",
       "<text text-anchor=\"middle\" x=\"639.814\" y=\"-317.8\" font-family=\"Times,serif\" font-size=\"14.00\"> 0</text>\n",
       "</g>\n",
       "<!-- St6 -->\n",
       "<g id=\"node3\" class=\"node\"><title>St6</title>\n",
       "<ellipse fill=\"none\" stroke=\"black\" cx=\"590.238\" cy=\"-248\" rx=\"21.8081\" ry=\"21.8081\"/>\n",
       "<text text-anchor=\"middle\" x=\"590.238\" y=\"-243.8\" font-family=\"Times,serif\" font-size=\"14.00\">St6</text>\n",
       "</g>\n",
       "<!-- BH -->\n",
       "<g id=\"node14\" class=\"node\"><title>BH</title>\n",
       "<ellipse fill=\"none\" stroke=\"black\" cx=\"792.607\" cy=\"-188\" rx=\"22.2841\" ry=\"22.2841\"/>\n",
       "<text text-anchor=\"middle\" x=\"792.607\" y=\"-183.8\" font-family=\"Times,serif\" font-size=\"14.00\">BH</text>\n",
       "</g>\n",
       "<!-- St6&#45;&gt;BH -->\n",
       "<g id=\"edge39\" class=\"edge\"><title>St6&#45;&gt;BH</title>\n",
       "<path fill=\"none\" stroke=\"black\" d=\"M611.691,-242.6C642.386,-234.396 702.112,-218.044 752.215,-202 755.325,-201.004 758.559,-199.925 761.778,-198.824\"/>\n",
       "<polygon fill=\"black\" stroke=\"black\" points=\"762.961,-202.118 771.245,-195.513 760.65,-195.511 762.961,-202.118\"/>\n",
       "<text text-anchor=\"middle\" x=\"693.389\" y=\"-230.8\" font-family=\"Times,serif\" font-size=\"14.00\">0</text>\n",
       "</g>\n",
       "<!-- St6&#45;&gt;St45 -->\n",
       "<g id=\"edge38\" class=\"edge\"><title>St6&#45;&gt;St45</title>\n",
       "<path fill=\"none\" stroke=\"black\" d=\"M610.264,-257.028C623.155,-263.146 640.598,-271.423 656.094,-278.776\"/>\n",
       "<polygon fill=\"black\" stroke=\"black\" points=\"654.897,-282.083 665.432,-283.208 657.898,-275.759 654.897,-282.083\"/>\n",
       "<text text-anchor=\"middle\" x=\"639.814\" y=\"-276.8\" font-family=\"Times,serif\" font-size=\"14.00\">1</text>\n",
       "</g>\n",
       "<!-- St64 -->\n",
       "<g id=\"node4\" class=\"node\"><title>St64</title>\n",
       "<ellipse fill=\"none\" stroke=\"black\" cx=\"491.087\" cy=\"-189\" rx=\"26.1523\" ry=\"26.1523\"/>\n",
       "<text text-anchor=\"middle\" x=\"491.087\" y=\"-184.8\" font-family=\"Times,serif\" font-size=\"14.00\">St64</text>\n",
       "</g>\n",
       "<!-- St64&#45;&gt;St6 -->\n",
       "<g id=\"edge31\" class=\"edge\"><title>St64&#45;&gt;St6</title>\n",
       "<path fill=\"none\" stroke=\"black\" d=\"M514.132,-202.388C528.411,-211.06 547.103,-222.411 562.267,-231.62\"/>\n",
       "<polygon fill=\"black\" stroke=\"black\" points=\"560.818,-234.835 571.182,-237.034 564.451,-228.852 560.818,-234.835\"/>\n",
       "<text text-anchor=\"middle\" x=\"540.663\" y=\"-223.8\" font-family=\"Times,serif\" font-size=\"14.00\">1</text>\n",
       "</g>\n",
       "<!-- St64&#45;&gt;BH -->\n",
       "<g id=\"edge32\" class=\"edge\"><title>St64&#45;&gt;BH</title>\n",
       "<path fill=\"none\" stroke=\"black\" d=\"M517.624,-188.915C572.094,-188.733 699.586,-188.307 759.467,-188.107\"/>\n",
       "<polygon fill=\"black\" stroke=\"black\" points=\"759.84,-191.606 769.828,-188.073 759.817,-184.606 759.84,-191.606\"/>\n",
       "<text text-anchor=\"middle\" x=\"639.814\" y=\"-191.8\" font-family=\"Times,serif\" font-size=\"14.00\">0</text>\n",
       "</g>\n",
       "<!-- St18 -->\n",
       "<g id=\"node5\" class=\"node\"><title>St18</title>\n",
       "<ellipse fill=\"none\" stroke=\"black\" cx=\"204.133\" cy=\"-270\" rx=\"26.1523\" ry=\"26.1523\"/>\n",
       "<text text-anchor=\"middle\" x=\"204.133\" y=\"-265.8\" font-family=\"Times,serif\" font-size=\"14.00\">St18</text>\n",
       "</g>\n",
       "<!-- St22 -->\n",
       "<g id=\"node6\" class=\"node\"><title>St22</title>\n",
       "<ellipse fill=\"none\" stroke=\"black\" cx=\"299.785\" cy=\"-343\" rx=\"26.1523\" ry=\"26.1523\"/>\n",
       "<text text-anchor=\"middle\" x=\"299.785\" y=\"-338.8\" font-family=\"Times,serif\" font-size=\"14.00\">St22</text>\n",
       "</g>\n",
       "<!-- St18&#45;&gt;St22 -->\n",
       "<g id=\"edge7\" class=\"edge\"><title>St18&#45;&gt;St22</title>\n",
       "<path fill=\"none\" stroke=\"black\" d=\"M225.454,-285.84C238.586,-296.076 255.863,-309.543 270.349,-320.835\"/>\n",
       "<polygon fill=\"black\" stroke=\"black\" points=\"268.465,-323.804 278.503,-327.191 272.768,-318.283 268.465,-323.804\"/>\n",
       "<text text-anchor=\"middle\" x=\"251.959\" y=\"-311.8\" font-family=\"Times,serif\" font-size=\"14.00\">0</text>\n",
       "</g>\n",
       "<!-- St41 -->\n",
       "<g id=\"node7\" class=\"node\"><title>St41</title>\n",
       "<ellipse fill=\"none\" stroke=\"black\" cx=\"299.785\" cy=\"-270\" rx=\"26.1523\" ry=\"26.1523\"/>\n",
       "<text text-anchor=\"middle\" x=\"299.785\" y=\"-265.8\" font-family=\"Times,serif\" font-size=\"14.00\">St41</text>\n",
       "</g>\n",
       "<!-- St18&#45;&gt;St41 -->\n",
       "<g id=\"edge6\" class=\"edge\"><title>St18&#45;&gt;St41</title>\n",
       "<path fill=\"none\" stroke=\"black\" d=\"M230.724,-270C240.738,-270 252.396,-270 263.204,-270\"/>\n",
       "<polygon fill=\"black\" stroke=\"black\" points=\"263.225,-273.5 273.225,-270 263.225,-266.5 263.225,-273.5\"/>\n",
       "<text text-anchor=\"middle\" x=\"251.959\" y=\"-272.8\" font-family=\"Times,serif\" font-size=\"14.00\">1</text>\n",
       "</g>\n",
       "<!-- St32 -->\n",
       "<g id=\"node9\" class=\"node\"><title>St32</title>\n",
       "<ellipse fill=\"none\" stroke=\"black\" cx=\"395.436\" cy=\"-413\" rx=\"26.1523\" ry=\"26.1523\"/>\n",
       "<text text-anchor=\"middle\" x=\"395.436\" y=\"-408.8\" font-family=\"Times,serif\" font-size=\"14.00\">St32</text>\n",
       "</g>\n",
       "<!-- St22&#45;&gt;St32 -->\n",
       "<g id=\"edge14\" class=\"edge\"><title>St22&#45;&gt;St32</title>\n",
       "<path fill=\"none\" stroke=\"black\" d=\"M321.569,-358.535C334.542,-368.232 351.426,-380.852 365.674,-391.502\"/>\n",
       "<polygon fill=\"black\" stroke=\"black\" points=\"363.604,-394.325 373.71,-397.508 367.795,-388.718 363.604,-394.325\"/>\n",
       "<text text-anchor=\"middle\" x=\"347.61\" y=\"-383.8\" font-family=\"Times,serif\" font-size=\"14.00\">1</text>\n",
       "</g>\n",
       "<!-- St23 -->\n",
       "<g id=\"node12\" class=\"node\"><title>St23</title>\n",
       "<ellipse fill=\"none\" stroke=\"black\" cx=\"395.436\" cy=\"-342\" rx=\"26.1523\" ry=\"26.1523\"/>\n",
       "<text text-anchor=\"middle\" x=\"395.436\" y=\"-337.8\" font-family=\"Times,serif\" font-size=\"14.00\">St23</text>\n",
       "</g>\n",
       "<!-- St22&#45;&gt;St23 -->\n",
       "<g id=\"edge15\" class=\"edge\"><title>St22&#45;&gt;St23</title>\n",
       "<path fill=\"none\" stroke=\"black\" d=\"M326.375,-342.727C336.389,-342.62 348.047,-342.495 358.855,-342.38\"/>\n",
       "<polygon fill=\"black\" stroke=\"black\" points=\"358.914,-345.88 368.876,-342.273 358.839,-338.88 358.914,-345.88\"/>\n",
       "<text text-anchor=\"middle\" x=\"347.61\" y=\"-345.8\" font-family=\"Times,serif\" font-size=\"14.00\">0</text>\n",
       "</g>\n",
       "<!-- St42 -->\n",
       "<g id=\"node16\" class=\"node\"><title>St42</title>\n",
       "<ellipse fill=\"none\" stroke=\"black\" cx=\"395.436\" cy=\"-269\" rx=\"26.1523\" ry=\"26.1523\"/>\n",
       "<text text-anchor=\"middle\" x=\"395.436\" y=\"-264.8\" font-family=\"Times,serif\" font-size=\"14.00\">St42</text>\n",
       "</g>\n",
       "<!-- St41&#45;&gt;St42 -->\n",
       "<g id=\"edge13\" class=\"edge\"><title>St41&#45;&gt;St42</title>\n",
       "<path fill=\"none\" stroke=\"black\" d=\"M326.375,-269.727C336.389,-269.62 348.047,-269.495 358.855,-269.38\"/>\n",
       "<polygon fill=\"black\" stroke=\"black\" points=\"358.914,-272.88 368.876,-269.273 358.839,-265.88 358.914,-272.88\"/>\n",
       "<text text-anchor=\"middle\" x=\"347.61\" y=\"-272.8\" font-family=\"Times,serif\" font-size=\"14.00\">0</text>\n",
       "</g>\n",
       "<!-- St49 -->\n",
       "<g id=\"node21\" class=\"node\"><title>St49</title>\n",
       "<ellipse fill=\"none\" stroke=\"black\" cx=\"395.436\" cy=\"-487\" rx=\"26.1523\" ry=\"26.1523\"/>\n",
       "<text text-anchor=\"middle\" x=\"395.436\" y=\"-482.8\" font-family=\"Times,serif\" font-size=\"14.00\">St49</text>\n",
       "</g>\n",
       "<!-- St41&#45;&gt;St49 -->\n",
       "<g id=\"edge12\" class=\"edge\"><title>St41&#45;&gt;St49</title>\n",
       "<path fill=\"none\" stroke=\"black\" d=\"M320.619,-286.275C331.425,-296.284 344.006,-310.034 351.11,-325 374.802,-374.912 349.615,-396.305 369.11,-448 370.344,-451.272 371.885,-454.553 373.595,-457.746\"/>\n",
       "<polygon fill=\"black\" stroke=\"black\" points=\"370.633,-459.615 378.741,-466.434 376.656,-456.047 370.633,-459.615\"/>\n",
       "<text text-anchor=\"middle\" x=\"347.61\" y=\"-327.8\" font-family=\"Times,serif\" font-size=\"14.00\">1</text>\n",
       "</g>\n",
       "<!-- St16 -->\n",
       "<g id=\"node8\" class=\"node\"><title>St16</title>\n",
       "<ellipse fill=\"none\" stroke=\"black\" cx=\"299.785\" cy=\"-56\" rx=\"26.1523\" ry=\"26.1523\"/>\n",
       "<text text-anchor=\"middle\" x=\"299.785\" y=\"-51.8\" font-family=\"Times,serif\" font-size=\"14.00\">St16</text>\n",
       "</g>\n",
       "<!-- St16&#45;&gt;BH -->\n",
       "<g id=\"edge8\" class=\"edge\"><title>St16&#45;&gt;BH</title>\n",
       "<path fill=\"none\" stroke=\"black\" d=\"M318.625,-37.3528C336.209,-21.0624 364.694,-0 394.436,-0 394.436,-0 394.436,-0 694.389,-0 763.63,-0 783.611,-101.862 789.335,-155.628\"/>\n",
       "<polygon fill=\"black\" stroke=\"black\" points=\"785.862,-156.075 790.3,-165.696 792.83,-155.407 785.862,-156.075\"/>\n",
       "<text text-anchor=\"middle\" x=\"540.663\" y=\"-2.8\" font-family=\"Times,serif\" font-size=\"14.00\">1</text>\n",
       "</g>\n",
       "<!-- St17 -->\n",
       "<g id=\"node18\" class=\"node\"><title>St17</title>\n",
       "<ellipse fill=\"none\" stroke=\"black\" cx=\"395.436\" cy=\"-56\" rx=\"26.1523\" ry=\"26.1523\"/>\n",
       "<text text-anchor=\"middle\" x=\"395.436\" y=\"-51.8\" font-family=\"Times,serif\" font-size=\"14.00\">St17</text>\n",
       "</g>\n",
       "<!-- St16&#45;&gt;St17 -->\n",
       "<g id=\"edge9\" class=\"edge\"><title>St16&#45;&gt;St17</title>\n",
       "<path fill=\"none\" stroke=\"black\" d=\"M326.375,-56C336.389,-56 348.047,-56 358.855,-56\"/>\n",
       "<polygon fill=\"black\" stroke=\"black\" points=\"358.876,-59.5001 368.876,-56 358.876,-52.5001 358.876,-59.5001\"/>\n",
       "<text text-anchor=\"middle\" x=\"347.61\" y=\"-58.8\" font-family=\"Times,serif\" font-size=\"14.00\">0</text>\n",
       "</g>\n",
       "<!-- St33 -->\n",
       "<g id=\"node11\" class=\"node\"><title>St33</title>\n",
       "<ellipse fill=\"none\" stroke=\"black\" cx=\"491.087\" cy=\"-338\" rx=\"26.1523\" ry=\"26.1523\"/>\n",
       "<text text-anchor=\"middle\" x=\"491.087\" y=\"-333.8\" font-family=\"Times,serif\" font-size=\"14.00\">St33</text>\n",
       "</g>\n",
       "<!-- St32&#45;&gt;St33 -->\n",
       "<g id=\"edge28\" class=\"edge\"><title>St32&#45;&gt;St33</title>\n",
       "<path fill=\"none\" stroke=\"black\" d=\"M412.014,-392.054C415.38,-387.207 418.811,-382.002 421.761,-377 431.052,-361.249 424.453,-350.004 439.761,-340 444.222,-337.085 449.41,-335.444 454.727,-334.637\"/>\n",
       "<polygon fill=\"black\" stroke=\"black\" points=\"455.193,-338.114 464.953,-333.994 454.753,-331.128 455.193,-338.114\"/>\n",
       "<text text-anchor=\"middle\" x=\"443.261\" y=\"-342.8\" font-family=\"Times,serif\" font-size=\"14.00\">0</text>\n",
       "</g>\n",
       "<!-- St36 -->\n",
       "<g id=\"node22\" class=\"node\"><title>St36</title>\n",
       "<ellipse fill=\"none\" stroke=\"black\" cx=\"491.087\" cy=\"-413\" rx=\"26.1523\" ry=\"26.1523\"/>\n",
       "<text text-anchor=\"middle\" x=\"491.087\" y=\"-408.8\" font-family=\"Times,serif\" font-size=\"14.00\">St36</text>\n",
       "</g>\n",
       "<!-- St32&#45;&gt;St36 -->\n",
       "<g id=\"edge27\" class=\"edge\"><title>St32&#45;&gt;St36</title>\n",
       "<path fill=\"none\" stroke=\"black\" d=\"M420.353,-422.868C426.566,-424.989 433.325,-426.917 439.761,-428 445.636,-428.988 451.791,-428.495 457.699,-427.211\"/>\n",
       "<polygon fill=\"black\" stroke=\"black\" points=\"458.685,-430.57 467.318,-424.428 456.74,-423.846 458.685,-430.57\"/>\n",
       "<text text-anchor=\"middle\" x=\"443.261\" y=\"-431.8\" font-family=\"Times,serif\" font-size=\"14.00\">1</text>\n",
       "</g>\n",
       "<!-- St3 -->\n",
       "<g id=\"node10\" class=\"node\"><title>St3</title>\n",
       "<ellipse fill=\"none\" stroke=\"black\" cx=\"299.785\" cy=\"-159\" rx=\"21.8081\" ry=\"21.8081\"/>\n",
       "<text text-anchor=\"middle\" x=\"299.785\" y=\"-154.8\" font-family=\"Times,serif\" font-size=\"14.00\">St3</text>\n",
       "</g>\n",
       "<!-- St12 -->\n",
       "<g id=\"node13\" class=\"node\"><title>St12</title>\n",
       "<ellipse fill=\"none\" stroke=\"black\" cx=\"395.436\" cy=\"-191\" rx=\"26.1523\" ry=\"26.1523\"/>\n",
       "<text text-anchor=\"middle\" x=\"395.436\" y=\"-186.8\" font-family=\"Times,serif\" font-size=\"14.00\">St12</text>\n",
       "</g>\n",
       "<!-- St3&#45;&gt;St12 -->\n",
       "<g id=\"edge10\" class=\"edge\"><title>St3&#45;&gt;St12</title>\n",
       "<path fill=\"none\" stroke=\"black\" d=\"M320.646,-165.786C332.198,-169.734 347.072,-174.816 360.435,-179.382\"/>\n",
       "<polygon fill=\"black\" stroke=\"black\" points=\"359.686,-182.825 370.28,-182.746 361.949,-176.201 359.686,-182.825\"/>\n",
       "<text text-anchor=\"middle\" x=\"347.61\" y=\"-178.8\" font-family=\"Times,serif\" font-size=\"14.00\">1</text>\n",
       "</g>\n",
       "<!-- St4 -->\n",
       "<g id=\"node19\" class=\"node\"><title>St4</title>\n",
       "<ellipse fill=\"none\" stroke=\"black\" cx=\"395.436\" cy=\"-125\" rx=\"21.8081\" ry=\"21.8081\"/>\n",
       "<text text-anchor=\"middle\" x=\"395.436\" y=\"-120.8\" font-family=\"Times,serif\" font-size=\"14.00\">St4</text>\n",
       "</g>\n",
       "<!-- St3&#45;&gt;St4 -->\n",
       "<g id=\"edge11\" class=\"edge\"><title>St3&#45;&gt;St4</title>\n",
       "<path fill=\"none\" stroke=\"black\" d=\"M320.646,-151.789C333.559,-147.101 350.622,-140.907 365.087,-135.655\"/>\n",
       "<polygon fill=\"black\" stroke=\"black\" points=\"366.398,-138.903 374.603,-132.2 364.009,-132.323 366.398,-138.903\"/>\n",
       "<text text-anchor=\"middle\" x=\"347.61\" y=\"-146.8\" font-family=\"Times,serif\" font-size=\"14.00\">0</text>\n",
       "</g>\n",
       "<!-- St33&#45;&gt;St44 -->\n",
       "<g id=\"edge33\" class=\"edge\"><title>St33&#45;&gt;St44</title>\n",
       "<path fill=\"none\" stroke=\"black\" d=\"M517.27,-334.918C523.214,-334.239 529.533,-333.558 535.413,-333 541.329,-332.439 547.617,-331.91 553.731,-331.433\"/>\n",
       "<polygon fill=\"black\" stroke=\"black\" points=\"554.046,-334.919 563.756,-330.68 553.522,-327.939 554.046,-334.919\"/>\n",
       "<text text-anchor=\"middle\" x=\"540.663\" y=\"-335.8\" font-family=\"Times,serif\" font-size=\"14.00\">1</text>\n",
       "</g>\n",
       "<!-- St33&#45;&gt;BH -->\n",
       "<g id=\"edge34\" class=\"edge\"><title>St33&#45;&gt;BH</title>\n",
       "<path fill=\"none\" stroke=\"black\" d=\"M506.233,-359.541C517.173,-375.853 531.151,-395.821 535.413,-398 562.853,-412.032 458.585,-544.305 723.715,-335 760.007,-306.349 777.69,-253.83 785.695,-219.942\"/>\n",
       "<polygon fill=\"black\" stroke=\"black\" points=\"789.136,-220.59 787.879,-210.07 782.302,-219.078 789.136,-220.59\"/>\n",
       "<text text-anchor=\"middle\" x=\"639.814\" y=\"-403.8\" font-family=\"Times,serif\" font-size=\"14.00\">0</text>\n",
       "</g>\n",
       "<!-- St24 -->\n",
       "<g id=\"node17\" class=\"node\"><title>St24</title>\n",
       "<ellipse fill=\"none\" stroke=\"black\" cx=\"491.087\" cy=\"-263\" rx=\"26.1523\" ry=\"26.1523\"/>\n",
       "<text text-anchor=\"middle\" x=\"491.087\" y=\"-258.8\" font-family=\"Times,serif\" font-size=\"14.00\">St24</text>\n",
       "</g>\n",
       "<!-- St23&#45;&gt;St24 -->\n",
       "<g id=\"edge30\" class=\"edge\"><title>St23&#45;&gt;St24</title>\n",
       "<path fill=\"none\" stroke=\"black\" d=\"M411.457,-320.64C414.992,-315.3 418.637,-309.519 421.761,-304 430.968,-287.737 424.274,-276.459 439.761,-266 444.181,-263.015 449.349,-261.281 454.657,-260.372\"/>\n",
       "<polygon fill=\"black\" stroke=\"black\" points=\"455.202,-263.839 464.88,-259.527 454.625,-256.863 455.202,-263.839\"/>\n",
       "<text text-anchor=\"middle\" x=\"443.261\" y=\"-268.8\" font-family=\"Times,serif\" font-size=\"14.00\">0</text>\n",
       "</g>\n",
       "<!-- St23&#45;&gt;St36 -->\n",
       "<g id=\"edge29\" class=\"edge\"><title>St23&#45;&gt;St36</title>\n",
       "<path fill=\"none\" stroke=\"black\" d=\"M411.583,-362.978C419.22,-372.458 429.113,-383.245 439.761,-391 444.921,-394.758 450.823,-398.054 456.726,-400.874\"/>\n",
       "<polygon fill=\"black\" stroke=\"black\" points=\"455.335,-404.086 465.898,-404.911 458.155,-397.679 455.335,-404.086\"/>\n",
       "<text text-anchor=\"middle\" x=\"443.261\" y=\"-398.8\" font-family=\"Times,serif\" font-size=\"14.00\">1</text>\n",
       "</g>\n",
       "<!-- St12&#45;&gt;St33 -->\n",
       "<g id=\"edge19\" class=\"edge\"><title>St12&#45;&gt;St33</title>\n",
       "<path fill=\"none\" stroke=\"black\" d=\"M410.27,-212.948C414.209,-219.591 418.351,-226.988 421.761,-234 431.362,-253.743 428.402,-261.213 439.761,-280 446.659,-291.408 455.847,-302.754 464.484,-312.345\"/>\n",
       "<polygon fill=\"black\" stroke=\"black\" points=\"462.177,-315.005 471.546,-319.952 467.307,-310.242 462.177,-315.005\"/>\n",
       "<text text-anchor=\"middle\" x=\"443.261\" y=\"-293.8\" font-family=\"Times,serif\" font-size=\"14.00\">1</text>\n",
       "</g>\n",
       "<!-- St12&#45;&gt;BH -->\n",
       "<g id=\"edge20\" class=\"edge\"><title>St12&#45;&gt;BH</title>\n",
       "<path fill=\"none\" stroke=\"black\" d=\"M411.973,-170.044C423.558,-154.562 437.72,-136.002 439.761,-135 442.554,-133.63 443.659,-134.763 446.761,-135 563.275,-143.901 700.016,-169.485 760.332,-181.553\"/>\n",
       "<polygon fill=\"black\" stroke=\"black\" points=\"759.855,-185.027 770.349,-183.574 761.239,-178.165 759.855,-185.027\"/>\n",
       "<text text-anchor=\"middle\" x=\"590.238\" y=\"-158.8\" font-family=\"Times,serif\" font-size=\"14.00\">0</text>\n",
       "</g>\n",
       "<!-- BH&#45;&gt;BH -->\n",
       "<g id=\"edge16\" class=\"edge\"><title>BH&#45;&gt;BH</title>\n",
       "<path fill=\"none\" stroke=\"black\" d=\"M784.558,-209.196C783.564,-219.392 786.247,-228.392 792.607,-228.392 796.681,-228.392 799.246,-224.698 800.302,-219.363\"/>\n",
       "<polygon fill=\"black\" stroke=\"black\" points=\"803.806,-219.312 800.655,-209.196 796.81,-219.069 803.806,-219.312\"/>\n",
       "<text text-anchor=\"middle\" x=\"792.607\" y=\"-245.192\" font-family=\"Times,serif\" font-size=\"14.00\">1 </text>\n",
       "<text text-anchor=\"middle\" x=\"792.607\" y=\"-231.192\" font-family=\"Times,serif\" font-size=\"14.00\"> 0</text>\n",
       "</g>\n",
       "<!-- St8 -->\n",
       "<g id=\"node15\" class=\"node\"><title>St8</title>\n",
       "<ellipse fill=\"none\" stroke=\"black\" cx=\"204.133\" cy=\"-159\" rx=\"21.8081\" ry=\"21.8081\"/>\n",
       "<text text-anchor=\"middle\" x=\"204.133\" y=\"-154.8\" font-family=\"Times,serif\" font-size=\"14.00\">St8</text>\n",
       "</g>\n",
       "<!-- St8&#45;&gt;St16 -->\n",
       "<g id=\"edge4\" class=\"edge\"><title>St8&#45;&gt;St16</title>\n",
       "<path fill=\"none\" stroke=\"black\" d=\"M219.766,-142.906C234.416,-126.794 257.213,-101.721 274.563,-82.6391\"/>\n",
       "<polygon fill=\"black\" stroke=\"black\" points=\"277.251,-84.8856 281.389,-75.1321 272.072,-80.1764 277.251,-84.8856\"/>\n",
       "<text text-anchor=\"middle\" x=\"251.959\" y=\"-113.8\" font-family=\"Times,serif\" font-size=\"14.00\">1</text>\n",
       "</g>\n",
       "<!-- St8&#45;&gt;St3 -->\n",
       "<g id=\"edge5\" class=\"edge\"><title>St8&#45;&gt;St3</title>\n",
       "<path fill=\"none\" stroke=\"black\" d=\"M226.384,-159C238.478,-159 253.855,-159 267.324,-159\"/>\n",
       "<polygon fill=\"black\" stroke=\"black\" points=\"267.618,-162.5 277.618,-159 267.618,-155.5 267.618,-162.5\"/>\n",
       "<text text-anchor=\"middle\" x=\"251.959\" y=\"-161.8\" font-family=\"Times,serif\" font-size=\"14.00\">0</text>\n",
       "</g>\n",
       "<!-- St42&#45;&gt;St64 -->\n",
       "<g id=\"edge26\" class=\"edge\"><title>St42&#45;&gt;St64</title>\n",
       "<path fill=\"none\" stroke=\"black\" d=\"M409.774,-246.793C413.698,-240.142 417.958,-232.807 421.761,-226 430.102,-211.074 425.382,-201.251 439.761,-192 444.202,-189.143 449.344,-187.466 454.611,-186.571\"/>\n",
       "<polygon fill=\"black\" stroke=\"black\" points=\"455.073,-190.045 464.741,-185.711 454.481,-183.07 455.073,-190.045\"/>\n",
       "<text text-anchor=\"middle\" x=\"443.261\" y=\"-194.8\" font-family=\"Times,serif\" font-size=\"14.00\">0</text>\n",
       "</g>\n",
       "<!-- St42&#45;&gt;St36 -->\n",
       "<g id=\"edge25\" class=\"edge\"><title>St42&#45;&gt;St36</title>\n",
       "<path fill=\"none\" stroke=\"black\" d=\"M411.76,-290.196C415.286,-295.541 418.85,-301.365 421.761,-307 432.027,-326.874 428.338,-334.768 439.761,-354 446.76,-365.782 456.149,-377.523 464.922,-387.392\"/>\n",
       "<polygon fill=\"black\" stroke=\"black\" points=\"462.434,-389.857 471.767,-394.87 467.597,-385.131 462.434,-389.857\"/>\n",
       "<text text-anchor=\"middle\" x=\"443.261\" y=\"-367.8\" font-family=\"Times,serif\" font-size=\"14.00\">1</text>\n",
       "</g>\n",
       "<!-- St24&#45;&gt;St44 -->\n",
       "<g id=\"edge35\" class=\"edge\"><title>St24&#45;&gt;St44</title>\n",
       "<path fill=\"none\" stroke=\"black\" d=\"M513.648,-277.648C527.2,-286.854 544.864,-298.855 559.709,-308.94\"/>\n",
       "<polygon fill=\"black\" stroke=\"black\" points=\"557.833,-311.896 568.072,-314.62 561.767,-306.106 557.833,-311.896\"/>\n",
       "<text text-anchor=\"middle\" x=\"540.663\" y=\"-300.8\" font-family=\"Times,serif\" font-size=\"14.00\">1</text>\n",
       "</g>\n",
       "<!-- St24&#45;&gt;St6 -->\n",
       "<g id=\"edge36\" class=\"edge\"><title>St24&#45;&gt;St6</title>\n",
       "<path fill=\"none\" stroke=\"black\" d=\"M517.359,-259.098C529.869,-257.167 545.082,-254.818 558.285,-252.779\"/>\n",
       "<polygon fill=\"black\" stroke=\"black\" points=\"559.004,-256.21 568.353,-251.225 557.936,-249.292 559.004,-256.21\"/>\n",
       "<text text-anchor=\"middle\" x=\"540.663\" y=\"-258.8\" font-family=\"Times,serif\" font-size=\"14.00\">0</text>\n",
       "</g>\n",
       "<!-- St17&#45;&gt;St64 -->\n",
       "<g id=\"edge17\" class=\"edge\"><title>St17&#45;&gt;St64</title>\n",
       "<path fill=\"none\" stroke=\"black\" d=\"M411.275,-77.0742C426.869,-99.2205 451.529,-134.242 469.11,-159.21\"/>\n",
       "<polygon fill=\"black\" stroke=\"black\" points=\"466.388,-161.423 475.007,-167.584 472.111,-157.392 466.388,-161.423\"/>\n",
       "<text text-anchor=\"middle\" x=\"443.261\" y=\"-129.8\" font-family=\"Times,serif\" font-size=\"14.00\">1</text>\n",
       "</g>\n",
       "<!-- St17&#45;&gt;BH -->\n",
       "<g id=\"edge18\" class=\"edge\"><title>St17&#45;&gt;BH</title>\n",
       "<path fill=\"none\" stroke=\"black\" d=\"M421.796,-51.817C440.593,-49.0768 466.868,-46 490.087,-46 490.087,-46 490.087,-46 694.389,-46 747.521,-46 773.749,-114.526 784.812,-156.371\"/>\n",
       "<polygon fill=\"black\" stroke=\"black\" points=\"781.428,-157.269 787.245,-166.124 788.22,-155.574 781.428,-157.269\"/>\n",
       "<text text-anchor=\"middle\" x=\"590.238\" y=\"-48.8\" font-family=\"Times,serif\" font-size=\"14.00\">0</text>\n",
       "</g>\n",
       "<!-- St4&#45;&gt;BH -->\n",
       "<g id=\"edge22\" class=\"edge\"><title>St4&#45;&gt;BH</title>\n",
       "<path fill=\"none\" stroke=\"black\" d=\"M415.278,-115.504C433.824,-107.047 463.194,-96 490.087,-96 490.087,-96 490.087,-96 694.389,-96 731.76,-96 760.544,-132.307 776.781,-159.304\"/>\n",
       "<polygon fill=\"black\" stroke=\"black\" points=\"773.783,-161.112 781.801,-168.037 779.852,-157.623 773.783,-161.112\"/>\n",
       "<text text-anchor=\"middle\" x=\"590.238\" y=\"-98.8\" font-family=\"Times,serif\" font-size=\"14.00\">0</text>\n",
       "</g>\n",
       "<!-- St4&#45;&gt;St24 -->\n",
       "<g id=\"edge21\" class=\"edge\"><title>St4&#45;&gt;St24</title>\n",
       "<path fill=\"none\" stroke=\"black\" d=\"M410.947,-140.654C414.813,-145.352 418.748,-150.678 421.761,-156 433.4,-176.552 427.731,-185.675 439.761,-206 446.485,-217.36 455.635,-228.543 464.29,-237.953\"/>\n",
       "<polygon fill=\"black\" stroke=\"black\" points=\"461.951,-240.573 471.379,-245.406 467.023,-235.748 461.951,-240.573\"/>\n",
       "<text text-anchor=\"middle\" x=\"443.261\" y=\"-219.8\" font-family=\"Times,serif\" font-size=\"14.00\">1</text>\n",
       "</g>\n",
       "<!-- St1&#45;&gt;St18 -->\n",
       "<g id=\"edge3\" class=\"edge\"><title>St1&#45;&gt;St18</title>\n",
       "<path fill=\"none\" stroke=\"black\" d=\"M132.827,-232.967C144.024,-238.865 158.496,-246.488 171.397,-253.284\"/>\n",
       "<polygon fill=\"black\" stroke=\"black\" points=\"169.965,-256.485 180.444,-258.049 173.227,-250.292 169.965,-256.485\"/>\n",
       "<text text-anchor=\"middle\" x=\"156.308\" y=\"-249.8\" font-family=\"Times,serif\" font-size=\"14.00\">0</text>\n",
       "</g>\n",
       "<!-- St1&#45;&gt;St8 -->\n",
       "<g id=\"edge2\" class=\"edge\"><title>St1&#45;&gt;St8</title>\n",
       "<path fill=\"none\" stroke=\"black\" d=\"M131.108,-210.66C144.316,-201.187 162.758,-187.959 177.673,-177.261\"/>\n",
       "<polygon fill=\"black\" stroke=\"black\" points=\"179.896,-179.974 185.982,-171.302 175.816,-174.286 179.896,-179.974\"/>\n",
       "<text text-anchor=\"middle\" x=\"156.308\" y=\"-197.8\" font-family=\"Times,serif\" font-size=\"14.00\">1</text>\n",
       "</g>\n",
       "<!-- St49&#45;&gt;BH -->\n",
       "<g id=\"edge24\" class=\"edge\"><title>St49&#45;&gt;BH</title>\n",
       "<path fill=\"none\" stroke=\"black\" d=\"M419.304,-498.295C437.901,-506.438 465.067,-516 490.087,-516 490.087,-516 490.087,-516 694.389,-516 755.627,-516 781.289,-303.177 788.954,-220.394\"/>\n",
       "<polygon fill=\"black\" stroke=\"black\" points=\"792.453,-220.559 789.86,-210.287 785.481,-219.935 792.453,-220.559\"/>\n",
       "<text text-anchor=\"middle\" x=\"590.238\" y=\"-518.8\" font-family=\"Times,serif\" font-size=\"14.00\">0</text>\n",
       "</g>\n",
       "<!-- St49&#45;&gt;St36 -->\n",
       "<g id=\"edge23\" class=\"edge\"><title>St49&#45;&gt;St36</title>\n",
       "<path fill=\"none\" stroke=\"black\" d=\"M416.757,-470.943C429.888,-460.567 447.166,-446.915 461.652,-435.469\"/>\n",
       "<polygon fill=\"black\" stroke=\"black\" points=\"464.129,-437.972 469.806,-429.026 459.79,-432.479 464.129,-437.972\"/>\n",
       "<text text-anchor=\"middle\" x=\"443.261\" y=\"-455.8\" font-family=\"Times,serif\" font-size=\"14.00\">1</text>\n",
       "</g>\n",
       "<!-- St36&#45;&gt;St44 -->\n",
       "<g id=\"edge37\" class=\"edge\"><title>St36&#45;&gt;St44</title>\n",
       "<path fill=\"none\" stroke=\"black\" d=\"M511.747,-396.001C526.1,-383.591 545.749,-366.602 561.67,-352.836\"/>\n",
       "<polygon fill=\"black\" stroke=\"black\" points=\"564.332,-355.162 569.607,-345.973 559.754,-349.866 564.332,-355.162\"/>\n",
       "<text text-anchor=\"middle\" x=\"540.663\" y=\"-390.8\" font-family=\"Times,serif\" font-size=\"14.00\">1 </text>\n",
       "<text text-anchor=\"middle\" x=\"540.663\" y=\"-376.8\" font-family=\"Times,serif\" font-size=\"14.00\"> 0</text>\n",
       "</g>\n",
       "<!-- St45&#45;&gt;BH -->\n",
       "<g id=\"edge41\" class=\"edge\"><title>St45&#45;&gt;BH</title>\n",
       "<path fill=\"none\" stroke=\"black\" d=\"M718.591,-278.537C729.53,-270.009 742.215,-259.186 752.215,-248 760.822,-238.372 768.917,-226.705 775.503,-216.229\"/>\n",
       "<polygon fill=\"black\" stroke=\"black\" points=\"778.662,-217.771 780.877,-207.41 772.684,-214.128 778.662,-217.771\"/>\n",
       "<text text-anchor=\"middle\" x=\"746.965\" y=\"-275.8\" font-family=\"Times,serif\" font-size=\"14.00\">1 </text>\n",
       "<text text-anchor=\"middle\" x=\"746.965\" y=\"-261.8\" font-family=\"Times,serif\" font-size=\"14.00\"> 0</text>\n",
       "</g>\n",
       "</g>\n",
       "</svg>\n"
      ],
      "text/plain": [
       "<graphviz.dot.Digraph at 0x1042dfc88>"
      ]
     },
     "execution_count": 3,
     "metadata": {},
     "output_type": "execute_result"
    }
   ],
   "source": [
    "R =     \"(000001+000011+000111+001011+001111+\\\n",
    "          010011+010111+011111+100101+100111+\\\n",
    "          101111+110111+000010+000101+000110+\\\n",
    "          001010+001101+001110+010101+010110+\\\n",
    "          011101+011110+100110+101110+000100+\\\n",
    "          001100+010100+011100)\"\n",
    "N = re2nfa(R)\n",
    "Dbloat = nfa2dfa(N)\n",
    "Dbloat\n",
    "D = min_dfa(Dbloat)\n",
    "dotObj_dfa_w_bh(D, FuseEdges=True)"
   ]
  },
  {
   "cell_type": "markdown",
   "metadata": {
    "run_control": {
     "frozen": false,
     "read_only": false
    }
   },
   "source": [
    "This machine appears to be rather large -- in fact exponential in the x2,x1,x0 bits (those are the first three bits to arrive at this machine, and the machine grows exponentially with respect to these inputs). It then collapses soon as soon as the y bits come in.\n",
    "\n",
    "Size aside, this DFA acts as a representation of the \"<\" function. Take the starting state: all paths from it leading to the final state are in the on-set of this function; any path of length six that goes to the BH state is in the off-set of this function. Strings of length greater than six can be entertained, but they have no meaning with respect to our problem that involves only six variables. \n",
    "\n",
    "Let us take an example. String 001100 is accepted. Here is the accepting path:\n",
    "\n",
    "* St32 --0--> St13 --0--> St8 --1--> St28 --1--> St20 --0--> St12 --0--> St15 \n",
    "\n",
    "Here is a rejecting path:\n",
    "\n",
    "* St32 --0--> St13 --0--> St8 --1--> St28 --0--> St1 --0--> BH --1--> BH\n",
    "\n",
    "Also notice that the _nodes_ in this minimal automaton graph represent Boolean functions. Thus, state St32 is a function of all the six input bits. States St38 and St20 are functions of the five bits x1,x0,y2,y1,y0. In fact, the further we go away from the initial state, the lesser the remaining bits are in deciding the \"fate of the function\". \n",
    "\n",
    "Take state St38 which is one step away from the initial state. All paths leading to the final state represent the on-set of a Boolean function of inputs x1,x0,y2,y1,y0. Paths leading to BH are in the off-set."
   ]
  },
  {
   "cell_type": "markdown",
   "metadata": {
    "run_control": {
     "frozen": false,
     "read_only": false
    }
   },
   "source": [
    "But suppose another astute person jumps in and tells us that it will be a small minimal DFA if we were to have considered strings x2,y2,x1,y1,x0,y0 to be in the language. That is, we mix the bits (and call the language Lmix, and the regular expression Rmix).\n",
    "\n",
    "We have the following Rmix."
   ]
  },
  {
   "cell_type": "code",
   "execution_count": null,
   "metadata": {
    "run_control": {
     "frozen": false,
     "read_only": false
    }
   },
   "outputs": [],
   "source": [
    "Rmix =  \"(000001+000111+001101+011111+110001+\\\n",
    "          110111+111101+000101+000110+010111+\\\n",
    "          011011+011101+011110+110101+110110+\\\n",
    "          000100+010011+010101+010110+011001+\\\n",
    "          011010+011100+110100+010001+010010+\\\n",
    "          010100+011000+010000)\" "
   ]
  },
  {
   "cell_type": "markdown",
   "metadata": {
    "run_control": {
     "frozen": false,
     "read_only": false
    }
   },
   "source": [
    "We still have 28 entries, but the entries now represent x2,y2,x1,y1,x0,y0. For instance,\n",
    "take the fifth member of Rmix which is 110001. This means 100 < 101 which means 4 < 5, which is true. Let us now build a minimum DFA for Rmix."
   ]
  },
  {
   "cell_type": "code",
   "execution_count": null,
   "metadata": {
    "run_control": {
     "frozen": false,
     "read_only": false
    }
   },
   "outputs": [],
   "source": [
    "Dmix = min_dfa_brz(nfa2dfa(re2nfa(Rmix)))"
   ]
  },
  {
   "cell_type": "code",
   "execution_count": null,
   "metadata": {
    "run_control": {
     "frozen": false,
     "read_only": false
    }
   },
   "outputs": [],
   "source": [
    "dotObj_dfa_w_bh(Dmix, FuseEdges=True)"
   ]
  },
  {
   "cell_type": "markdown",
   "metadata": {
    "run_control": {
     "frozen": false,
     "read_only": false
    }
   },
   "source": [
    "We see that this minimal DFA is much smaller. The reason is that as soon as an x2 comes, a y2 bit is fed. In a positional encoding of binary numbers, this allows a DFA to immediately decide whether X < Y for X = x2x1x0 and Y = y2y1y0. \n",
    "\n",
    "The DFA that sees x2,x1,x0,y2,y1,y0 on the other hand cannot take a decision until bit y2 comes along. This means that this DFA has to build a full tree after seeing merely x2,x1,x0 and this would already be exponential in size. "
   ]
  },
  {
   "cell_type": "markdown",
   "metadata": {
    "run_control": {
     "frozen": false,
     "read_only": false
    }
   },
   "source": [
    "This machine appears to be linearly sized w.r.t. the number of inputs. \n",
    "\n",
    "This DFA also acts as a representation of the \"<\" function.  State St26 is a function of all the six input bits. States St38 and St20 are functions of the five bits y2,x1,y1,x0,y0. In fact, the further we go away from the initial state, the lesser the remaining bits are in deciding the \"fate of the function\". But the bits come in an interleaved manner. \n",
    "\n",
    "Take St15 as representing a Boolean function: paths from it to the final state represent the on-set of a Boolean function of inputs y2,x1,y1,x0,y0 and paths leading to BH are in the off-set.\n"
   ]
  },
  {
   "cell_type": "markdown",
   "metadata": {
    "run_control": {
     "frozen": false,
     "read_only": false
    }
   },
   "source": [
    "## Boolean subfunctions in the DFA\n",
    "\n",
    "Each state of the minimal DFA obtained in this manner represents a Boolean function.\n"
   ]
  },
  {
   "cell_type": "markdown",
   "metadata": {
    "run_control": {
     "frozen": false,
     "read_only": false
    }
   },
   "source": [
    "# Building BDDs from minimal DFA for on-set languages\n",
    "\n",
    "A BDD is obtained from a minimal DFA by following some \"cleanup\" steps:\n",
    "\n",
    "* When a 0,1 jump is made from one state to the other, short-circuit the jump\n",
    " \n",
    "  - this means that whether a 0 or a 1 comes, we go to the same state. That is \n",
    "    a redundant binary decoding situation\n",
    "    \n",
    "* When we see two Boolean sub-functions "
   ]
  }
 ],
 "metadata": {
  "kernelspec": {
   "display_name": "Python 3",
   "language": "python",
   "name": "python3"
  },
  "language_info": {
   "codemirror_mode": {
    "name": "ipython",
    "version": 3
   },
   "file_extension": ".py",
   "mimetype": "text/x-python",
   "name": "python",
   "nbconvert_exporter": "python",
   "pygments_lexer": "ipython3",
   "version": "3.6.0"
  },
  "toc": {
   "colors": {
    "hover_highlight": "#DAA520",
    "running_highlight": "#FF0000",
    "selected_highlight": "#FFD700"
   },
   "moveMenuLeft": true,
   "nav_menu": {
    "height": "318px",
    "width": "252px"
   },
   "navigate_menu": true,
   "number_sections": true,
   "sideBar": true,
   "threshold": 4,
   "toc_cell": false,
   "toc_section_display": "block",
   "toc_window_display": false,
   "widenNotebook": false
  }
 },
 "nbformat": 4,
 "nbformat_minor": 2
}
