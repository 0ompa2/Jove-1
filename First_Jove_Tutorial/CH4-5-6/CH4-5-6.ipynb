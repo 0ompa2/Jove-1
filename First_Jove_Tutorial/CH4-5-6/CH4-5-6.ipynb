{
 "cells": [
  {
   "cell_type": "markdown",
   "metadata": {
    "run_control": {
     "frozen": false,
     "read_only": false
    }
   },
   "source": [
    "# Simple DFA Exercises"
   ]
  },
  {
   "cell_type": "code",
   "execution_count": 1,
   "metadata": {
    "run_control": {
     "frozen": false,
     "read_only": false
    }
   },
   "outputs": [
    {
     "name": "stdout",
     "output_type": "stream",
     "text": [
      "You may use any of these help commands:\n",
      "help(ResetStNum)\n",
      "help(NxtStateStr)\n",
      "\n",
      "You may use any of these help commands:\n",
      "help(md2mc)\n",
      ".. and if you want to dig more, then ..\n",
      "help(default_line_attr)\n",
      "help(length_ok_input_items)\n",
      "help(union_line_attr_list_fld)\n",
      "help(extend_rsltdict)\n",
      "help(form_delta)\n",
      "help(get_machine_components)\n",
      "\n",
      "You may use any of these help commands:\n",
      "help(mkp_dfa)\n",
      "help(mk_dfa)\n",
      "help(totalize_dfa)\n",
      "help(addtosigma_delta)\n",
      "help(step_dfa)\n",
      "help(run_dfa)\n",
      "help(accepts_dfa)\n",
      "help(comp_dfa)\n",
      "help(union_dfa)\n",
      "help(intersect_dfa)\n",
      "help(pruneUnreach)\n",
      "help(iso_dfa)\n",
      "help(langeq_dfa)\n",
      "help(same_status)\n",
      "help(h_langeq_dfa)\n",
      "help(fixptDist)\n",
      "help(min_dfa)\n",
      "help(pairFR)\n",
      "help(state_combos)\n",
      "help(sepFinNonFin)\n",
      "help(bash_eql_classes)\n",
      "help(listminus)\n",
      "help(bash_1)\n",
      "help(mk_rep_eqc)\n",
      "help(F_of)\n",
      "help(rep_of_s)\n",
      "help(q0_of)\n",
      "help(Delta_of)\n",
      "help(mk_state_eqc_name)\n",
      "\n"
     ]
    }
   ],
   "source": [
    "from jove.DotBashers import *\n",
    "from jove.Def_md2mc  import *\n",
    "from jove.Def_DFA    import *"
   ]
  },
  {
   "cell_type": "markdown",
   "metadata": {
    "run_control": {
     "frozen": false,
     "read_only": false
    }
   },
   "source": [
    "# Try using a few help commands"
   ]
  },
  {
   "cell_type": "code",
   "execution_count": 2,
   "metadata": {
    "run_control": {
     "frozen": false,
     "read_only": false
    }
   },
   "outputs": [
    {
     "name": "stdout",
     "output_type": "stream",
     "text": [
      "Help on function md2mc in module jove.Def_md2mc:\n",
      "\n",
      "md2mc(src='None', fname='None')\n",
      "    md2mc converts a markdown source to a machine (mc).\n",
      "    \n",
      "    One can feed the markdown in three ways, shown via \n",
      "    pseudo-examples:\n",
      "    \n",
      "    1) md2mc()\n",
      "    \n",
      "       It means you will provide a file-name\n",
      "       (you will be prompted for one). Then the markdown is read from\n",
      "       that file. \n",
      "       \n",
      "    2) md2mc(src=\"<any string S other than 'File'>\")\n",
      "    \n",
      "       S is now taken as the markdown string and parsed. This is \n",
      "       bound to be a multi-line file. \n",
      "       \n",
      "       There is a Jupyter bug that if the parser (or any process) \n",
      "       consuming a multi-line input throws an exception, you will get \n",
      "       a strange error message: \n",
      "       ERROR:root:An unexpected error occurred while tokenizing input\n",
      "       Ignore it please, and instead spend your time fixing the \n",
      "       markdown input. See for details:\n",
      "       https://github.com/ipython/ipython/issues/6864\n",
      "       \n",
      "       \n",
      "    3) md2mc(src=\"File\", fname=\"<your file name path>\")\n",
      "    \n",
      "       Obviously, you should not be feeding a markdown with contents \n",
      "       \"File\". It is not legit markdown syntax. So if src=\"File\", \n",
      "       then fname is taken to be the path-name to a file that is \n",
      "       opened and read.\n",
      "     \n",
      "    In all cases, the returned result is a machine structure (dict).\n",
      "\n"
     ]
    }
   ],
   "source": [
    "help(md2mc)"
   ]
  },
  {
   "cell_type": "code",
   "execution_count": 3,
   "metadata": {
    "run_control": {
     "frozen": false,
     "read_only": false
    }
   },
   "outputs": [
    {
     "name": "stdout",
     "output_type": "stream",
     "text": [
      "Help on function intersect_dfa in module jove.Def_DFA:\n",
      "\n",
      "intersect_dfa(D1in, D2in)\n",
      "    In : D1in (consistent DFA)\n",
      "         D2in (consistent DFA)\n",
      "    Out: DFA for language intersection of D1in, D2in (consistent DFA).\n",
      "\n"
     ]
    }
   ],
   "source": [
    "help(intersect_dfa)"
   ]
  },
  {
   "cell_type": "markdown",
   "metadata": {
    "run_control": {
     "frozen": false,
     "read_only": false
    }
   },
   "source": [
    "# Specify your DFA : now as a \"raw\" dict\n",
    "\n",
    "This is error-prone. A better method will be introduced momentarily!"
   ]
  },
  {
   "cell_type": "code",
   "execution_count": 4,
   "metadata": {
    "run_control": {
     "frozen": false,
     "read_only": false
    }
   },
   "outputs": [],
   "source": [
    "Fig34 = {\n",
    " 'Q': {'A', 'F', 'I'},\n",
    " 'Sigma': {'0', '1'},\n",
    " 'Delta': {('A', '0'): 'I',\n",
    "  ('A', '1'): 'I',\n",
    "  ('F', '0'): 'I',\n",
    "  ('F', '1'): 'I',\n",
    "  ('I', '0'): 'A',\n",
    "  ('I', '1'): 'F'},\n",
    " 'q0': 'I',\n",
    " 'F': {'F'}\n",
    "}"
   ]
  },
  {
   "cell_type": "code",
   "execution_count": 5,
   "metadata": {
    "run_control": {
     "frozen": false,
     "read_only": false
    }
   },
   "outputs": [
    {
     "data": {
      "image/svg+xml": [
       "<?xml version=\"1.0\" encoding=\"UTF-8\" standalone=\"no\"?>\n",
       "<!DOCTYPE svg PUBLIC \"-//W3C//DTD SVG 1.1//EN\"\n",
       " \"http://www.w3.org/Graphics/SVG/1.1/DTD/svg11.dtd\">\n",
       "<!-- Generated by graphviz version 2.38.0 (20140413.2041)\n",
       " -->\n",
       "<!-- Title: %3 Pages: 1 -->\n",
       "<svg width=\"222pt\" height=\"160pt\"\n",
       " viewBox=\"0.00 0.00 222.00 159.85\" xmlns=\"http://www.w3.org/2000/svg\" xmlns:xlink=\"http://www.w3.org/1999/xlink\">\n",
       "<g id=\"graph0\" class=\"graph\" transform=\"scale(1 1) rotate(0) translate(4 155.851)\">\n",
       "<title>%3</title>\n",
       "<polygon fill=\"white\" stroke=\"none\" points=\"-4,4 -4,-155.851 218,-155.851 218,4 -4,4\"/>\n",
       "<!-- EMPTY -->\n",
       "<g id=\"node1\" class=\"node\"><title>EMPTY</title>\n",
       "</g>\n",
       "<!-- I -->\n",
       "<g id=\"node3\" class=\"node\"><title>I</title>\n",
       "<ellipse fill=\"none\" stroke=\"black\" cx=\"109\" cy=\"-77.8506\" rx=\"18\" ry=\"18\"/>\n",
       "<text text-anchor=\"middle\" x=\"109\" y=\"-73.6506\" font-family=\"Times,serif\" font-size=\"14.00\">I</text>\n",
       "</g>\n",
       "<!-- EMPTY&#45;&gt;I -->\n",
       "<g id=\"edge1\" class=\"edge\"><title>EMPTY&#45;&gt;I</title>\n",
       "<path fill=\"none\" stroke=\"black\" d=\"M54.195,-77.8506C62.6538,-77.8506 72.0513,-77.8506 80.5951,-77.8506\"/>\n",
       "<polygon fill=\"black\" stroke=\"black\" points=\"80.8257,-81.3507 90.8257,-77.8506 80.8257,-74.3507 80.8257,-81.3507\"/>\n",
       "</g>\n",
       "<!-- A -->\n",
       "<g id=\"node2\" class=\"node\"><title>A</title>\n",
       "<ellipse fill=\"none\" stroke=\"black\" cx=\"192\" cy=\"-133.851\" rx=\"18\" ry=\"18\"/>\n",
       "<text text-anchor=\"middle\" x=\"192\" y=\"-129.651\" font-family=\"Times,serif\" font-size=\"14.00\">A</text>\n",
       "</g>\n",
       "<!-- A&#45;&gt;I -->\n",
       "<g id=\"edge2\" class=\"edge\"><title>A&#45;&gt;I</title>\n",
       "<path fill=\"none\" stroke=\"black\" d=\"M174.973,-127.709C165.797,-123.828 154.297,-118.328 145,-111.851 139.344,-107.91 133.747,-103.039 128.743,-98.2276\"/>\n",
       "<polygon fill=\"black\" stroke=\"black\" points=\"130.969,-95.5007 121.445,-90.8577 125.995,-100.426 130.969,-95.5007\"/>\n",
       "<text text-anchor=\"middle\" x=\"148.5\" y=\"-117.651\" font-family=\"Times,serif\" font-size=\"14.00\">0</text>\n",
       "</g>\n",
       "<!-- A&#45;&gt;I -->\n",
       "<g id=\"edge3\" class=\"edge\"><title>A&#45;&gt;I</title>\n",
       "<path fill=\"none\" stroke=\"black\" d=\"M180.272,-120.116C173.04,-111.609 162.864,-100.984 152,-93.8506 147.19,-90.6921 141.665,-88.0255 136.237,-85.8296\"/>\n",
       "<polygon fill=\"black\" stroke=\"black\" points=\"137.341,-82.5066 126.746,-82.3806 134.95,-89.0856 137.341,-82.5066\"/>\n",
       "<text text-anchor=\"middle\" x=\"148.5\" y=\"-96.6506\" font-family=\"Times,serif\" font-size=\"14.00\">1</text>\n",
       "</g>\n",
       "<!-- I&#45;&gt;A -->\n",
       "<g id=\"edge6\" class=\"edge\"><title>I&#45;&gt;A</title>\n",
       "<path fill=\"none\" stroke=\"black\" d=\"M115.748,-94.8323C121.115,-107.763 130.503,-124.686 145,-132.851 150.755,-136.092 157.592,-137.343 164.21,-137.553\"/>\n",
       "<polygon fill=\"black\" stroke=\"black\" points=\"164.39,-141.049 174.245,-137.16 164.116,-134.054 164.39,-141.049\"/>\n",
       "<text text-anchor=\"middle\" x=\"148.5\" y=\"-137.651\" font-family=\"Times,serif\" font-size=\"14.00\">0</text>\n",
       "</g>\n",
       "<!-- F -->\n",
       "<g id=\"node4\" class=\"node\"><title>F</title>\n",
       "<ellipse fill=\"none\" stroke=\"black\" cx=\"192\" cy=\"-22.8506\" rx=\"18\" ry=\"18\"/>\n",
       "<ellipse fill=\"none\" stroke=\"black\" cx=\"192\" cy=\"-22.8506\" rx=\"22\" ry=\"22\"/>\n",
       "<text text-anchor=\"middle\" x=\"192\" y=\"-18.6506\" font-family=\"Times,serif\" font-size=\"14.00\">F</text>\n",
       "</g>\n",
       "<!-- I&#45;&gt;F -->\n",
       "<g id=\"edge7\" class=\"edge\"><title>I&#45;&gt;F</title>\n",
       "<path fill=\"none\" stroke=\"black\" d=\"M124.481,-68.0177C135.68,-60.4138 151.481,-49.6848 164.872,-40.5915\"/>\n",
       "<polygon fill=\"black\" stroke=\"black\" points=\"166.945,-43.4146 173.252,-34.9015 163.013,-37.6235 166.945,-43.4146\"/>\n",
       "<text text-anchor=\"middle\" x=\"148.5\" y=\"-55.6506\" font-family=\"Times,serif\" font-size=\"14.00\">1</text>\n",
       "</g>\n",
       "<!-- F&#45;&gt;I -->\n",
       "<g id=\"edge4\" class=\"edge\"><title>F&#45;&gt;I</title>\n",
       "<path fill=\"none\" stroke=\"black\" d=\"M170.208,-19.2536C161.899,-18.8141 152.535,-19.6487 145,-23.8506 133.907,-30.0374 125.763,-41.38 120.138,-52.0785\"/>\n",
       "<polygon fill=\"black\" stroke=\"black\" points=\"116.95,-50.6329 115.831,-61.1686 123.276,-53.6299 116.95,-50.6329\"/>\n",
       "<text text-anchor=\"middle\" x=\"148.5\" y=\"-26.6506\" font-family=\"Times,serif\" font-size=\"14.00\">0</text>\n",
       "</g>\n",
       "<!-- F&#45;&gt;I -->\n",
       "<g id=\"edge5\" class=\"edge\"><title>F&#45;&gt;I</title>\n",
       "<path fill=\"none\" stroke=\"black\" d=\"M175.051,-8.35986C165.902,-1.86294 154.402,3.13706 145,-2.85062 128.741,-13.2056 119.911,-33.3045 115.189,-50.0911\"/>\n",
       "<polygon fill=\"black\" stroke=\"black\" points=\"111.742,-49.4515 112.75,-59.9983 118.539,-51.1249 111.742,-49.4515\"/>\n",
       "<text text-anchor=\"middle\" x=\"148.5\" y=\"-5.65062\" font-family=\"Times,serif\" font-size=\"14.00\">1</text>\n",
       "</g>\n",
       "</g>\n",
       "</svg>\n"
      ],
      "text/plain": [
       "<graphviz.dot.Digraph at 0x1079dc0b8>"
      ]
     },
     "execution_count": 5,
     "metadata": {},
     "output_type": "execute_result"
    }
   ],
   "source": [
    "dotObj_dfa(Fig34)"
   ]
  },
  {
   "cell_type": "markdown",
   "metadata": {
    "run_control": {
     "frozen": false,
     "read_only": false
    }
   },
   "source": [
    "# The same DFA in automd (Jove's markdown)\n",
    "\n",
    "This is much less error-prone than a \"plain old dict\" that Fig34 above represented.\n",
    "\n",
    "Notice that there is a mini compiler that processes this markdown language\n",
    "and generates \"code\". The code is basically the dict defined as Fig34 above.\n",
    "\n",
    "This mini-compiler would be studied in later chapters. In particular,\n",
    "students will get to know:\n",
    "\n",
    "* how we parse Fig34md below, and pick out \"->\" as a token\n",
    "\n",
    "* how to collect state names\n",
    "\n",
    "* how \"I\" will be recognized to be an initial-state name\n",
    "\n",
    "* how \"F\" will be recognized to be a final state name\n",
    "\n",
    "In general, anything that starts with \"i\" or \"I\" will be an initial state,\n",
    "and anything that starts with \"f\" or \"F\" will be a final state. The parser\n",
    "underlies function \"md2mc\" below. \n",
    "\n",
    "The parser will also do error-checking. Try renaming all the \"I\"\n",
    "states below to, say, \"j\". Then the error message obtained will be this (after a huge gory Python error stack dump, you'll see this):\n",
    "\n",
    ">> AssertionError: Error: DFA with 0 starting states is illegal.\n",
    "\n",
    "Try keeping the \"I\" state name, but naming the state \"A\" to be \"IA\".\n",
    "Then, the error message obtained will be:\n",
    "\n",
    ">> AssertionError: Error: DFA with 2 starting states is illegal.\n",
    "\n",
    "Studying this mini-compiler will be a treat, in that a student will\n",
    "understand how lexing and parsing works \"for real\", how error-checks\n",
    "are done, how comments are processed, and how the \"code\" is generated\n",
    "if all is well.\n",
    "\n",
    "It also generates well-documented DFA for the reader to study. Why not\n",
    "teach good SW engineering practices even when developing a DFA? After\n",
    "all, these DFA may go into airplanes to be critical controllers, and\n",
    "we don't want them to be ill-documented.\n"
   ]
  },
  {
   "cell_type": "code",
   "execution_count": 6,
   "metadata": {
    "run_control": {
     "frozen": false,
     "read_only": false
    }
   },
   "outputs": [],
   "source": [
    "Fig34md = '''  !! Comments begin with !! and last till the end of line\n",
    "DFA            !! This keyword tells \"md2mc\" that it is parsing a DFA\n",
    "I : 0     -> A !! DFA transition: From initial state I, upon 0, go to state A\n",
    "A : 0 | 1 -> I !! Two DFA transitions: from A, upon 0 or a 1, go to state I\n",
    "I : 1     -> F !! A DFA transition from I to F. I is the initial state and F is final \n",
    "F : 0 | 1 -> I !! From F upon 0 or a 1, go to I.\n",
    "'''"
   ]
  },
  {
   "cell_type": "markdown",
   "metadata": {
    "run_control": {
     "frozen": false,
     "read_only": false
    }
   },
   "source": [
    "# Function md2mc is your automd compiler"
   ]
  },
  {
   "cell_type": "code",
   "execution_count": 7,
   "metadata": {
    "run_control": {
     "frozen": false,
     "read_only": false
    }
   },
   "outputs": [
    {
     "data": {
      "text/plain": [
       "{'Delta': {('A', '0'): 'I',\n",
       "  ('A', '1'): 'I',\n",
       "  ('F', '0'): 'I',\n",
       "  ('F', '1'): 'I',\n",
       "  ('I', '0'): 'A',\n",
       "  ('I', '1'): 'F'},\n",
       " 'F': {'F'},\n",
       " 'Q': {'A', 'F', 'I'},\n",
       " 'Sigma': {'0', '1'},\n",
       " 'q0': 'I'}"
      ]
     },
     "execution_count": 7,
     "metadata": {},
     "output_type": "execute_result"
    }
   ],
   "source": [
    "Fig34MC = md2mc(Fig34md)\n",
    "Fig34MC"
   ]
  },
  {
   "cell_type": "code",
   "execution_count": 8,
   "metadata": {
    "run_control": {
     "frozen": false,
     "read_only": false
    }
   },
   "outputs": [
    {
     "data": {
      "image/svg+xml": [
       "<?xml version=\"1.0\" encoding=\"UTF-8\" standalone=\"no\"?>\n",
       "<!DOCTYPE svg PUBLIC \"-//W3C//DTD SVG 1.1//EN\"\n",
       " \"http://www.w3.org/Graphics/SVG/1.1/DTD/svg11.dtd\">\n",
       "<!-- Generated by graphviz version 2.38.0 (20140413.2041)\n",
       " -->\n",
       "<!-- Title: %3 Pages: 1 -->\n",
       "<svg width=\"222pt\" height=\"172pt\"\n",
       " viewBox=\"0.00 0.00 222.00 172.00\" xmlns=\"http://www.w3.org/2000/svg\" xmlns:xlink=\"http://www.w3.org/1999/xlink\">\n",
       "<g id=\"graph0\" class=\"graph\" transform=\"scale(1 1) rotate(0) translate(4 168)\">\n",
       "<title>%3</title>\n",
       "<polygon fill=\"white\" stroke=\"none\" points=\"-4,4 -4,-168 218,-168 218,4 -4,4\"/>\n",
       "<!-- EMPTY -->\n",
       "<g id=\"node1\" class=\"node\"><title>EMPTY</title>\n",
       "</g>\n",
       "<!-- I -->\n",
       "<g id=\"node3\" class=\"node\"><title>I</title>\n",
       "<ellipse fill=\"none\" stroke=\"black\" cx=\"109\" cy=\"-77\" rx=\"18\" ry=\"18\"/>\n",
       "<text text-anchor=\"middle\" x=\"109\" y=\"-72.8\" font-family=\"Times,serif\" font-size=\"14.00\">I</text>\n",
       "</g>\n",
       "<!-- EMPTY&#45;&gt;I -->\n",
       "<g id=\"edge1\" class=\"edge\"><title>EMPTY&#45;&gt;I</title>\n",
       "<path fill=\"none\" stroke=\"black\" d=\"M54.195,-77C62.6538,-77 72.0513,-77 80.5951,-77\"/>\n",
       "<polygon fill=\"black\" stroke=\"black\" points=\"80.8257,-80.5001 90.8257,-77 80.8257,-73.5001 80.8257,-80.5001\"/>\n",
       "</g>\n",
       "<!-- A -->\n",
       "<g id=\"node2\" class=\"node\"><title>A</title>\n",
       "<ellipse fill=\"none\" stroke=\"black\" cx=\"192\" cy=\"-133\" rx=\"18\" ry=\"18\"/>\n",
       "<text text-anchor=\"middle\" x=\"192\" y=\"-128.8\" font-family=\"Times,serif\" font-size=\"14.00\">A</text>\n",
       "</g>\n",
       "<!-- A&#45;&gt;I -->\n",
       "<g id=\"edge3\" class=\"edge\"><title>A&#45;&gt;I</title>\n",
       "<path fill=\"none\" stroke=\"black\" d=\"M174.973,-126.858C165.797,-122.977 154.297,-117.477 145,-111 139.344,-107.059 133.747,-102.188 128.743,-97.3769\"/>\n",
       "<polygon fill=\"black\" stroke=\"black\" points=\"130.969,-94.6501 121.445,-90.0071 125.995,-99.5755 130.969,-94.6501\"/>\n",
       "<text text-anchor=\"middle\" x=\"148.5\" y=\"-116.8\" font-family=\"Times,serif\" font-size=\"14.00\">0</text>\n",
       "</g>\n",
       "<!-- A&#45;&gt;I -->\n",
       "<g id=\"edge4\" class=\"edge\"><title>A&#45;&gt;I</title>\n",
       "<path fill=\"none\" stroke=\"black\" d=\"M180.272,-119.266C173.04,-110.759 162.864,-100.133 152,-93 147.19,-89.8414 141.665,-87.1749 136.237,-84.9789\"/>\n",
       "<polygon fill=\"black\" stroke=\"black\" points=\"137.341,-81.656 126.746,-81.53 134.95,-88.235 137.341,-81.656\"/>\n",
       "<text text-anchor=\"middle\" x=\"148.5\" y=\"-95.8\" font-family=\"Times,serif\" font-size=\"14.00\">1</text>\n",
       "</g>\n",
       "<!-- I&#45;&gt;A -->\n",
       "<g id=\"edge2\" class=\"edge\"><title>I&#45;&gt;A</title>\n",
       "<path fill=\"none\" stroke=\"black\" d=\"M113.197,-94.5657C117.324,-111.556 126.328,-136.387 145,-148 151.921,-152.305 160.204,-151.191 167.822,-148.148\"/>\n",
       "<polygon fill=\"black\" stroke=\"black\" points=\"169.62,-151.162 176.964,-143.525 166.461,-144.915 169.62,-151.162\"/>\n",
       "<text text-anchor=\"middle\" x=\"148.5\" y=\"-152.8\" font-family=\"Times,serif\" font-size=\"14.00\">0</text>\n",
       "</g>\n",
       "<!-- F -->\n",
       "<g id=\"node4\" class=\"node\"><title>F</title>\n",
       "<ellipse fill=\"none\" stroke=\"black\" cx=\"192\" cy=\"-22\" rx=\"18\" ry=\"18\"/>\n",
       "<ellipse fill=\"none\" stroke=\"black\" cx=\"192\" cy=\"-22\" rx=\"22\" ry=\"22\"/>\n",
       "<text text-anchor=\"middle\" x=\"192\" y=\"-17.8\" font-family=\"Times,serif\" font-size=\"14.00\">F</text>\n",
       "</g>\n",
       "<!-- I&#45;&gt;F -->\n",
       "<g id=\"edge5\" class=\"edge\"><title>I&#45;&gt;F</title>\n",
       "<path fill=\"none\" stroke=\"black\" d=\"M124.481,-67.1671C135.68,-59.5632 151.481,-48.8342 164.872,-39.7409\"/>\n",
       "<polygon fill=\"black\" stroke=\"black\" points=\"166.945,-42.564 173.252,-34.0509 163.013,-36.7728 166.945,-42.564\"/>\n",
       "<text text-anchor=\"middle\" x=\"148.5\" y=\"-54.8\" font-family=\"Times,serif\" font-size=\"14.00\">1</text>\n",
       "</g>\n",
       "<!-- F&#45;&gt;I -->\n",
       "<g id=\"edge6\" class=\"edge\"><title>F&#45;&gt;I</title>\n",
       "<path fill=\"none\" stroke=\"black\" d=\"M169.671,-22.9537C161.468,-24.1151 152.323,-26.4416 145,-31 136.366,-36.3744 129.083,-44.7026 123.435,-52.8036\"/>\n",
       "<polygon fill=\"black\" stroke=\"black\" points=\"120.404,-51.0455 117.96,-61.3545 126.3,-54.8199 120.404,-51.0455\"/>\n",
       "<text text-anchor=\"middle\" x=\"148.5\" y=\"-33.8\" font-family=\"Times,serif\" font-size=\"14.00\">0</text>\n",
       "</g>\n",
       "<!-- F&#45;&gt;I -->\n",
       "<g id=\"edge7\" class=\"edge\"><title>F&#45;&gt;I</title>\n",
       "<path fill=\"none\" stroke=\"black\" d=\"M173.045,-10.5006C164.141,-6.34636 153.502,-3.81404 145,-9 130.448,-17.8762 121.69,-34.9499 116.573,-49.7676\"/>\n",
       "<polygon fill=\"black\" stroke=\"black\" points=\"113.163,-48.9507 113.587,-59.5371 119.857,-50.9973 113.163,-48.9507\"/>\n",
       "<text text-anchor=\"middle\" x=\"148.5\" y=\"-11.8\" font-family=\"Times,serif\" font-size=\"14.00\">1</text>\n",
       "</g>\n",
       "</g>\n",
       "</svg>\n"
      ],
      "text/plain": [
       "<graphviz.dot.Digraph at 0x108e44f28>"
      ]
     },
     "execution_count": 8,
     "metadata": {},
     "output_type": "execute_result"
    }
   ],
   "source": [
    "# md2mc alone produces a dict similar to Fig34, above.\n",
    "# We pass it to dotObj_dfa which prints the DFA image,\n",
    "# as shown below.\n",
    "\n",
    "dotObj_dfa(md2mc(Fig34md))"
   ]
  },
  {
   "cell_type": "code",
   "execution_count": 9,
   "metadata": {
    "run_control": {
     "frozen": false,
     "read_only": false
    }
   },
   "outputs": [
    {
     "data": {
      "text/plain": [
       "True"
      ]
     },
     "execution_count": 9,
     "metadata": {},
     "output_type": "execute_result"
    }
   ],
   "source": [
    "accepts_dfa(md2mc(Fig34md), \"10101\")"
   ]
  },
  {
   "cell_type": "markdown",
   "metadata": {
    "run_control": {
     "frozen": false,
     "read_only": false
    }
   },
   "source": [
    "# Testing acceptance in one \"go\"\n",
    "\n",
    "Generating multiple strings according to the numeric order (increasing\n",
    "lengths, with each length category exhausted before going to the next \n",
    "length category) is a handy test-input generator.\n",
    "\n",
    "Plus, the \"numeric order\" is a powerful concept which we shall use \n",
    "when we later discuss the \"dovetail enumeration\" order (in Chapter 14\n",
    "and beyond).\n"
   ]
  },
  {
   "cell_type": "code",
   "execution_count": 10,
   "metadata": {
    "run_control": {
     "frozen": false,
     "read_only": false
    }
   },
   "outputs": [],
   "source": [
    "from math import floor, log, pow\n",
    "def nthnumeric(N, Sigma={'0','1'}):\n",
    "    \"\"\"Assume Sigma is a 2-sized list/set of chars (default {'a','b'}). \n",
    "       Produce the Nth string in numeric order, where N >= 0.\n",
    "       Idea : Given N, get b = floor(log_2(N+1)) - need that \n",
    "       many places; what to fill in the places is the binary \n",
    "       code for N - (2^b - 1) with 0 as Sigma[0] and 1 as Sigma[1].    \n",
    "    \"\"\"\n",
    "    if (type(Sigma)==set):\n",
    "       S = list(Sigma)\n",
    "    else:\n",
    "       assert(type(Sigma)==list\n",
    "       ), \"Expected to be given set/list for arg2 of nthnumeric.\"\n",
    "       S = Sigma\n",
    "    assert(len(Sigma)==2\n",
    "          ),\"Expected to be given a Sigma of length 2.\"\n",
    "    if(N==0):\n",
    "        return ''\n",
    "    else:\n",
    "        width = floor(log(N+1, 2))\n",
    "        tofill = int(N - pow(2, width) + 1)\n",
    "        relevant_binstr = bin(tofill)[2::] # strip the 0b \n",
    "                                           # in the leading string\n",
    "        len_to_makeup = width - len(relevant_binstr)\n",
    "        return (S[0]*len_to_makeup + \n",
    "                shomo(relevant_binstr,\n",
    "                      lambda x: S[1] if x=='1' else S[0]))"
   ]
  },
  {
   "cell_type": "code",
   "execution_count": 11,
   "metadata": {
    "run_control": {
     "frozen": false,
     "read_only": false
    }
   },
   "outputs": [
    {
     "data": {
      "text/plain": [
       "['',\n",
       " '0',\n",
       " '1',\n",
       " '00',\n",
       " '01',\n",
       " '10',\n",
       " '11',\n",
       " '000',\n",
       " '001',\n",
       " '010',\n",
       " '011',\n",
       " '100',\n",
       " '101',\n",
       " '110',\n",
       " '111',\n",
       " '0000',\n",
       " '0001',\n",
       " '0010',\n",
       " '0011',\n",
       " '0100']"
      ]
     },
     "execution_count": 11,
     "metadata": {},
     "output_type": "execute_result"
    }
   ],
   "source": [
    "[ nthnumeric(i) for i in range(20) ]"
   ]
  },
  {
   "cell_type": "markdown",
   "metadata": {
    "run_control": {
     "frozen": false,
     "read_only": false
    }
   },
   "source": [
    "# Now one can write a test loop\n",
    "\n",
    "We plow thru the first 20 numeric-order listed strings,\n",
    "and test for acceptance.\n"
   ]
  },
  {
   "cell_type": "code",
   "execution_count": 12,
   "metadata": {
    "run_control": {
     "frozen": false,
     "read_only": false
    }
   },
   "outputs": [
    {
     "name": "stdout",
     "output_type": "stream",
     "text": [
      "Fig34md DFA does not accept  \n",
      "Fig34md DFA does not accept  0\n",
      "Fig34md DFA accepts  1\n",
      "Fig34md DFA does not accept  00\n",
      "Fig34md DFA does not accept  01\n",
      "Fig34md DFA does not accept  10\n",
      "Fig34md DFA does not accept  11\n",
      "Fig34md DFA does not accept  000\n",
      "Fig34md DFA accepts  001\n",
      "Fig34md DFA does not accept  010\n",
      "Fig34md DFA accepts  011\n",
      "Fig34md DFA does not accept  100\n",
      "Fig34md DFA accepts  101\n",
      "Fig34md DFA does not accept  110\n",
      "Fig34md DFA accepts  111\n",
      "Fig34md DFA does not accept  0000\n",
      "Fig34md DFA does not accept  0001\n",
      "Fig34md DFA does not accept  0010\n",
      "Fig34md DFA does not accept  0011\n",
      "Fig34md DFA does not accept  0100\n"
     ]
    }
   ],
   "source": [
    "for s in [ nthnumeric(i) for i in range(20) ]:\n",
    "    if accepts_dfa(md2mc(Fig34md), s):\n",
    "        print(\"Fig34md DFA accepts \", s)\n",
    "    else:\n",
    "        print(\"Fig34md DFA does not accept \", s)"
   ]
  },
  {
   "cell_type": "markdown",
   "metadata": {
    "run_control": {
     "frozen": false,
     "read_only": false
    }
   },
   "source": [
    "# Now, simply run the cells, use help\n",
    "\n",
    "Run the cell contents. At any time if you have a doubt about\n",
    "some function, say \"foo\", run the \"help(foo)\" command. Also\n",
    "refer to Appendix B of our book for a complete explanation of\n",
    "all the Jove functions.\n"
   ]
  },
  {
   "cell_type": "code",
   "execution_count": 13,
   "metadata": {
    "run_control": {
     "frozen": false,
     "read_only": false
    }
   },
   "outputs": [
    {
     "data": {
      "text/plain": [
       "{'Delta': {('A', '0'): 'I',\n",
       "  ('A', '1'): 'I',\n",
       "  ('F', '0'): 'I',\n",
       "  ('F', '1'): 'I',\n",
       "  ('I', '0'): 'A',\n",
       "  ('I', '1'): 'F'},\n",
       " 'F': {'F'},\n",
       " 'Q': {'A', 'F', 'I'},\n",
       " 'Sigma': {'0', '1'},\n",
       " 'q0': 'I'}"
      ]
     },
     "execution_count": 13,
     "metadata": {},
     "output_type": "execute_result"
    }
   ],
   "source": [
    "Fig34MC = md2mc(Fig34md)\n",
    "Fig34MC"
   ]
  },
  {
   "cell_type": "code",
   "execution_count": 14,
   "metadata": {
    "run_control": {
     "frozen": false,
     "read_only": false
    }
   },
   "outputs": [
    {
     "data": {
      "text/plain": [
       "True"
      ]
     },
     "execution_count": 14,
     "metadata": {},
     "output_type": "execute_result"
    }
   ],
   "source": [
    "is_partially_consistent_dfa(Fig34MC)"
   ]
  },
  {
   "cell_type": "code",
   "execution_count": 15,
   "metadata": {
    "run_control": {
     "frozen": false,
     "read_only": false
    }
   },
   "outputs": [
    {
     "data": {
      "image/svg+xml": [
       "<?xml version=\"1.0\" encoding=\"UTF-8\" standalone=\"no\"?>\n",
       "<!DOCTYPE svg PUBLIC \"-//W3C//DTD SVG 1.1//EN\"\n",
       " \"http://www.w3.org/Graphics/SVG/1.1/DTD/svg11.dtd\">\n",
       "<!-- Generated by graphviz version 2.38.0 (20140413.2041)\n",
       " -->\n",
       "<!-- Title: %3 Pages: 1 -->\n",
       "<svg width=\"230pt\" height=\"172pt\"\n",
       " viewBox=\"0.00 0.00 230.00 172.00\" xmlns=\"http://www.w3.org/2000/svg\" xmlns:xlink=\"http://www.w3.org/1999/xlink\">\n",
       "<g id=\"graph0\" class=\"graph\" transform=\"scale(1 1) rotate(0) translate(4 168)\">\n",
       "<title>%3</title>\n",
       "<polygon fill=\"white\" stroke=\"none\" points=\"-4,4 -4,-168 226,-168 226,4 -4,4\"/>\n",
       "<!-- EMPTY -->\n",
       "<g id=\"node1\" class=\"node\"><title>EMPTY</title>\n",
       "</g>\n",
       "<!-- I -->\n",
       "<g id=\"node4\" class=\"node\"><title>I</title>\n",
       "<ellipse fill=\"none\" stroke=\"black\" cx=\"113\" cy=\"-77\" rx=\"18\" ry=\"18\"/>\n",
       "<ellipse fill=\"none\" stroke=\"black\" cx=\"113\" cy=\"-77\" rx=\"22\" ry=\"22\"/>\n",
       "<text text-anchor=\"middle\" x=\"113\" y=\"-72.8\" font-family=\"Times,serif\" font-size=\"14.00\">I</text>\n",
       "</g>\n",
       "<!-- EMPTY&#45;&gt;I -->\n",
       "<g id=\"edge1\" class=\"edge\"><title>EMPTY&#45;&gt;I</title>\n",
       "<path fill=\"none\" stroke=\"black\" d=\"M54.1177,-77C62.5406,-77 71.9629,-77 80.7191,-77\"/>\n",
       "<polygon fill=\"black\" stroke=\"black\" points=\"80.9574,-80.5001 90.9574,-77 80.9573,-73.5001 80.9574,-80.5001\"/>\n",
       "</g>\n",
       "<!-- F -->\n",
       "<g id=\"node2\" class=\"node\"><title>F</title>\n",
       "<ellipse fill=\"none\" stroke=\"black\" cx=\"200\" cy=\"-133\" rx=\"18\" ry=\"18\"/>\n",
       "<text text-anchor=\"middle\" x=\"200\" y=\"-128.8\" font-family=\"Times,serif\" font-size=\"14.00\">F</text>\n",
       "</g>\n",
       "<!-- F&#45;&gt;I -->\n",
       "<g id=\"edge6\" class=\"edge\"><title>F&#45;&gt;I</title>\n",
       "<path fill=\"none\" stroke=\"black\" d=\"M183.101,-126.668C173.968,-122.725 162.468,-117.225 153,-111 147.582,-107.438 142.118,-103.181 137.065,-98.9051\"/>\n",
       "<polygon fill=\"black\" stroke=\"black\" points=\"139.347,-96.2504 129.53,-92.266 134.719,-101.503 139.347,-96.2504\"/>\n",
       "<text text-anchor=\"middle\" x=\"156.5\" y=\"-116.8\" font-family=\"Times,serif\" font-size=\"14.00\">0</text>\n",
       "</g>\n",
       "<!-- F&#45;&gt;I -->\n",
       "<g id=\"edge7\" class=\"edge\"><title>F&#45;&gt;I</title>\n",
       "<path fill=\"none\" stroke=\"black\" d=\"M188.342,-119.157C181.138,-110.606 170.967,-99.9739 160,-93 155.184,-89.9374 149.709,-87.3775 144.259,-85.2681\"/>\n",
       "<polygon fill=\"black\" stroke=\"black\" points=\"145.215,-81.8957 134.62,-81.9465 142.934,-88.5138 145.215,-81.8957\"/>\n",
       "<text text-anchor=\"middle\" x=\"156.5\" y=\"-95.8\" font-family=\"Times,serif\" font-size=\"14.00\">1</text>\n",
       "</g>\n",
       "<!-- A -->\n",
       "<g id=\"node3\" class=\"node\"><title>A</title>\n",
       "<ellipse fill=\"none\" stroke=\"black\" cx=\"200\" cy=\"-22\" rx=\"18\" ry=\"18\"/>\n",
       "<ellipse fill=\"none\" stroke=\"black\" cx=\"200\" cy=\"-22\" rx=\"22\" ry=\"22\"/>\n",
       "<text text-anchor=\"middle\" x=\"200\" y=\"-17.8\" font-family=\"Times,serif\" font-size=\"14.00\">A</text>\n",
       "</g>\n",
       "<!-- A&#45;&gt;I -->\n",
       "<g id=\"edge3\" class=\"edge\"><title>A&#45;&gt;I</title>\n",
       "<path fill=\"none\" stroke=\"black\" d=\"M177.783,-22.0132C169.596,-22.8161 160.432,-24.7472 153,-29 144.147,-34.0661 136.493,-41.9824 130.369,-49.9357\"/>\n",
       "<polygon fill=\"black\" stroke=\"black\" points=\"127.493,-47.9405 124.553,-58.1195 133.199,-51.9953 127.493,-47.9405\"/>\n",
       "<text text-anchor=\"middle\" x=\"156.5\" y=\"-31.8\" font-family=\"Times,serif\" font-size=\"14.00\">0</text>\n",
       "</g>\n",
       "<!-- A&#45;&gt;I -->\n",
       "<g id=\"edge4\" class=\"edge\"><title>A&#45;&gt;I</title>\n",
       "<path fill=\"none\" stroke=\"black\" d=\"M181.646,-9.70569C172.697,-4.97164 161.836,-1.80832 153,-7 138.577,-15.4749 129.098,-31.433 123.102,-45.9743\"/>\n",
       "<polygon fill=\"black\" stroke=\"black\" points=\"119.688,-45.1127 119.489,-55.7056 126.251,-47.5493 119.688,-45.1127\"/>\n",
       "<text text-anchor=\"middle\" x=\"156.5\" y=\"-9.8\" font-family=\"Times,serif\" font-size=\"14.00\">1</text>\n",
       "</g>\n",
       "<!-- I&#45;&gt;F -->\n",
       "<g id=\"edge5\" class=\"edge\"><title>I&#45;&gt;F</title>\n",
       "<path fill=\"none\" stroke=\"black\" d=\"M119.292,-98.25C124.712,-115.029 134.965,-137.33 153,-148 160.015,-152.15 168.321,-150.999 175.931,-147.97\"/>\n",
       "<polygon fill=\"black\" stroke=\"black\" points=\"177.687,-151.004 185.049,-143.385 174.542,-144.75 177.687,-151.004\"/>\n",
       "<text text-anchor=\"middle\" x=\"156.5\" y=\"-152.8\" font-family=\"Times,serif\" font-size=\"14.00\">1</text>\n",
       "</g>\n",
       "<!-- I&#45;&gt;A -->\n",
       "<g id=\"edge2\" class=\"edge\"><title>I&#45;&gt;A</title>\n",
       "<path fill=\"none\" stroke=\"black\" d=\"M132.026,-65.3359C143.746,-57.7523 159.233,-47.7314 172.362,-39.2361\"/>\n",
       "<polygon fill=\"black\" stroke=\"black\" points=\"174.505,-42.0183 181,-33.6473 170.703,-36.1413 174.505,-42.0183\"/>\n",
       "<text text-anchor=\"middle\" x=\"156.5\" y=\"-53.8\" font-family=\"Times,serif\" font-size=\"14.00\">0</text>\n",
       "</g>\n",
       "</g>\n",
       "</svg>\n"
      ],
      "text/plain": [
       "<graphviz.dot.Digraph at 0x108e61f60>"
      ]
     },
     "execution_count": 15,
     "metadata": {},
     "output_type": "execute_result"
    }
   ],
   "source": [
    "dotObj_dfa_w_bh(comp_dfa(Fig34MC))"
   ]
  },
  {
   "cell_type": "code",
   "execution_count": 16,
   "metadata": {
    "run_control": {
     "frozen": false,
     "read_only": false
    }
   },
   "outputs": [],
   "source": [
    "ev0 = md2mc('''\n",
    "DFA\n",
    "IF : 0 -> A\n",
    "A  : 0 -> IF\n",
    "''')"
   ]
  },
  {
   "cell_type": "code",
   "execution_count": 17,
   "metadata": {
    "run_control": {
     "frozen": false,
     "read_only": false
    }
   },
   "outputs": [
    {
     "data": {
      "text/plain": [
       "{'Delta': {('A', '0'): 'IF', ('IF', '0'): 'A'},\n",
       " 'F': {'IF'},\n",
       " 'Q': {'A', 'IF'},\n",
       " 'Sigma': {'0'},\n",
       " 'q0': 'IF'}"
      ]
     },
     "execution_count": 17,
     "metadata": {},
     "output_type": "execute_result"
    }
   ],
   "source": [
    "ev0"
   ]
  },
  {
   "cell_type": "code",
   "execution_count": 18,
   "metadata": {
    "run_control": {
     "frozen": false,
     "read_only": false
    }
   },
   "outputs": [],
   "source": [
    "dev0 = dotObj_dfa(ev0)"
   ]
  },
  {
   "cell_type": "code",
   "execution_count": 19,
   "metadata": {
    "run_control": {
     "frozen": false,
     "read_only": false
    }
   },
   "outputs": [
    {
     "data": {
      "image/svg+xml": [
       "<?xml version=\"1.0\" encoding=\"UTF-8\" standalone=\"no\"?>\n",
       "<!DOCTYPE svg PUBLIC \"-//W3C//DTD SVG 1.1//EN\"\n",
       " \"http://www.w3.org/Graphics/SVG/1.1/DTD/svg11.dtd\">\n",
       "<!-- Generated by graphviz version 2.38.0 (20140413.2041)\n",
       " -->\n",
       "<!-- Title: %3 Pages: 1 -->\n",
       "<svg width=\"222pt\" height=\"52pt\"\n",
       " viewBox=\"0.00 0.00 222.00 52.00\" xmlns=\"http://www.w3.org/2000/svg\" xmlns:xlink=\"http://www.w3.org/1999/xlink\">\n",
       "<g id=\"graph0\" class=\"graph\" transform=\"scale(1 1) rotate(0) translate(4 48)\">\n",
       "<title>%3</title>\n",
       "<polygon fill=\"white\" stroke=\"none\" points=\"-4,4 -4,-48 218,-48 218,4 -4,4\"/>\n",
       "<!-- EMPTY -->\n",
       "<g id=\"node1\" class=\"node\"><title>EMPTY</title>\n",
       "</g>\n",
       "<!-- IF -->\n",
       "<g id=\"node3\" class=\"node\"><title>IF</title>\n",
       "<ellipse fill=\"none\" stroke=\"black\" cx=\"113\" cy=\"-22\" rx=\"18\" ry=\"18\"/>\n",
       "<ellipse fill=\"none\" stroke=\"black\" cx=\"113\" cy=\"-22\" rx=\"22\" ry=\"22\"/>\n",
       "<text text-anchor=\"middle\" x=\"113\" y=\"-17.8\" font-family=\"Times,serif\" font-size=\"14.00\">IF</text>\n",
       "</g>\n",
       "<!-- EMPTY&#45;&gt;IF -->\n",
       "<g id=\"edge1\" class=\"edge\"><title>EMPTY&#45;&gt;IF</title>\n",
       "<path fill=\"none\" stroke=\"black\" d=\"M54.1177,-22C62.5406,-22 71.9629,-22 80.7191,-22\"/>\n",
       "<polygon fill=\"black\" stroke=\"black\" points=\"80.9574,-25.5001 90.9574,-22 80.9573,-18.5001 80.9574,-25.5001\"/>\n",
       "</g>\n",
       "<!-- A -->\n",
       "<g id=\"node2\" class=\"node\"><title>A</title>\n",
       "<ellipse fill=\"none\" stroke=\"black\" cx=\"196\" cy=\"-22\" rx=\"18\" ry=\"18\"/>\n",
       "<text text-anchor=\"middle\" x=\"196\" y=\"-17.8\" font-family=\"Times,serif\" font-size=\"14.00\">A</text>\n",
       "</g>\n",
       "<!-- A&#45;&gt;IF -->\n",
       "<g id=\"edge3\" class=\"edge\"><title>A&#45;&gt;IF</title>\n",
       "<path fill=\"none\" stroke=\"black\" d=\"M180.283,-12.4577C174.25,-9.08304 167.04,-5.70409 160,-4 153.655,-2.46403 147.016,-3.43319 140.819,-5.55343\"/>\n",
       "<polygon fill=\"black\" stroke=\"black\" points=\"139.289,-2.40258 131.55,-9.63813 142.112,-8.80816 139.289,-2.40258\"/>\n",
       "<text text-anchor=\"middle\" x=\"156.5\" y=\"-6.8\" font-family=\"Times,serif\" font-size=\"14.00\">0</text>\n",
       "</g>\n",
       "<!-- IF&#45;&gt;A -->\n",
       "<g id=\"edge2\" class=\"edge\"><title>IF&#45;&gt;A</title>\n",
       "<path fill=\"none\" stroke=\"black\" d=\"M135.282,-22C145.266,-22 157.278,-22 167.903,-22\"/>\n",
       "<polygon fill=\"black\" stroke=\"black\" points=\"167.94,-25.5001 177.939,-22 167.939,-18.5001 167.94,-25.5001\"/>\n",
       "<text text-anchor=\"middle\" x=\"156.5\" y=\"-24.8\" font-family=\"Times,serif\" font-size=\"14.00\">0</text>\n",
       "</g>\n",
       "</g>\n",
       "</svg>\n"
      ],
      "text/plain": [
       "<graphviz.dot.Digraph at 0x108e61b38>"
      ]
     },
     "execution_count": 19,
     "metadata": {},
     "output_type": "execute_result"
    }
   ],
   "source": [
    "dev0"
   ]
  },
  {
   "cell_type": "markdown",
   "metadata": {
    "run_control": {
     "frozen": false,
     "read_only": false
    }
   },
   "source": [
    "# You can generate PDF out of a DFA\n",
    "\n",
    "This is one way to \"print\" a DFA as PDF. There are \n",
    "a few more such commands tucked away within Jupyter.\n"
   ]
  },
  {
   "cell_type": "code",
   "execution_count": 20,
   "metadata": {
    "run_control": {
     "frozen": false,
     "read_only": false
    }
   },
   "outputs": [
    {
     "data": {
      "text/plain": [
       "'dev0.pdf'"
      ]
     },
     "execution_count": 20,
     "metadata": {},
     "output_type": "execute_result"
    }
   ],
   "source": [
    "# Generate a PDF this way\n",
    "dev0.render('dev0')"
   ]
  },
  {
   "cell_type": "markdown",
   "metadata": {
    "run_control": {
     "frozen": false,
     "read_only": false
    }
   },
   "source": [
    "# Poke a DFA, add to its Sigma\n",
    "\n",
    "You can expand the Sigma of a DFA later on. Then\n",
    "if you totalize the DFA, you will see black-hole\n",
    "states emerging. The newly added symbols lead to\n",
    "the Black hole states, as shown below.\n"
   ]
  },
  {
   "cell_type": "code",
   "execution_count": 21,
   "metadata": {
    "run_control": {
     "frozen": false,
     "read_only": false
    }
   },
   "outputs": [],
   "source": [
    "ev0_bh =  addtosigma_dfa(ev0, set({'1'}))"
   ]
  },
  {
   "cell_type": "code",
   "execution_count": 22,
   "metadata": {
    "run_control": {
     "frozen": false,
     "read_only": false
    }
   },
   "outputs": [
    {
     "data": {
      "text/plain": [
       "{'Delta': {('A', '0'): 'IF', ('IF', '0'): 'A'},\n",
       " 'F': {'IF'},\n",
       " 'Q': {'A', 'IF'},\n",
       " 'Sigma': {'0', '1'},\n",
       " 'q0': 'IF'}"
      ]
     },
     "execution_count": 22,
     "metadata": {},
     "output_type": "execute_result"
    }
   ],
   "source": [
    "ev0_bh"
   ]
  },
  {
   "cell_type": "code",
   "execution_count": 23,
   "metadata": {
    "run_control": {
     "frozen": false,
     "read_only": false
    }
   },
   "outputs": [],
   "source": [
    "ev0_bh_totalize = totalize_dfa(ev0_bh)"
   ]
  },
  {
   "cell_type": "code",
   "execution_count": 24,
   "metadata": {
    "run_control": {
     "frozen": false,
     "read_only": false
    }
   },
   "outputs": [
    {
     "data": {
      "text/plain": [
       "{'Delta': {('A', '0'): 'IF', ('IF', '0'): 'A'},\n",
       " 'F': {'IF'},\n",
       " 'Q': {'A', 'IF'},\n",
       " 'Sigma': {'0', '1'},\n",
       " 'q0': 'IF'}"
      ]
     },
     "execution_count": 24,
     "metadata": {},
     "output_type": "execute_result"
    }
   ],
   "source": [
    "ev0_bh"
   ]
  },
  {
   "cell_type": "code",
   "execution_count": 25,
   "metadata": {
    "run_control": {
     "frozen": false,
     "read_only": false
    }
   },
   "outputs": [],
   "source": [
    "do_ev0_tot = dotObj_dfa_w_bh(ev0_bh_totalize)"
   ]
  },
  {
   "cell_type": "code",
   "execution_count": 26,
   "metadata": {
    "run_control": {
     "frozen": false,
     "read_only": false
    }
   },
   "outputs": [
    {
     "data": {
      "image/svg+xml": [
       "<?xml version=\"1.0\" encoding=\"UTF-8\" standalone=\"no\"?>\n",
       "<!DOCTYPE svg PUBLIC \"-//W3C//DTD SVG 1.1//EN\"\n",
       " \"http://www.w3.org/Graphics/SVG/1.1/DTD/svg11.dtd\">\n",
       "<!-- Generated by graphviz version 2.38.0 (20140413.2041)\n",
       " -->\n",
       "<!-- Title: %3 Pages: 1 -->\n",
       "<svg width=\"310pt\" height=\"117pt\"\n",
       " viewBox=\"0.00 0.00 309.78 116.78\" xmlns=\"http://www.w3.org/2000/svg\" xmlns:xlink=\"http://www.w3.org/1999/xlink\">\n",
       "<g id=\"graph0\" class=\"graph\" transform=\"scale(1 1) rotate(0) translate(4 112.784)\">\n",
       "<title>%3</title>\n",
       "<polygon fill=\"white\" stroke=\"none\" points=\"-4,4 -4,-112.784 305.784,-112.784 305.784,4 -4,4\"/>\n",
       "<!-- EMPTY -->\n",
       "<g id=\"node1\" class=\"node\"><title>EMPTY</title>\n",
       "</g>\n",
       "<!-- IF -->\n",
       "<g id=\"node4\" class=\"node\"><title>IF</title>\n",
       "<ellipse fill=\"none\" stroke=\"black\" cx=\"113\" cy=\"-35.3918\" rx=\"18\" ry=\"18\"/>\n",
       "<ellipse fill=\"none\" stroke=\"black\" cx=\"113\" cy=\"-35.3918\" rx=\"22\" ry=\"22\"/>\n",
       "<text text-anchor=\"middle\" x=\"113\" y=\"-31.1918\" font-family=\"Times,serif\" font-size=\"14.00\">IF</text>\n",
       "</g>\n",
       "<!-- EMPTY&#45;&gt;IF -->\n",
       "<g id=\"edge1\" class=\"edge\"><title>EMPTY&#45;&gt;IF</title>\n",
       "<path fill=\"none\" stroke=\"black\" d=\"M54.1177,-35.3918C62.5406,-35.3918 71.9629,-35.3918 80.7191,-35.3918\"/>\n",
       "<polygon fill=\"black\" stroke=\"black\" points=\"80.9574,-38.8919 90.9574,-35.3918 80.9573,-31.8919 80.9574,-38.8919\"/>\n",
       "</g>\n",
       "<!-- A -->\n",
       "<g id=\"node2\" class=\"node\"><title>A</title>\n",
       "<ellipse fill=\"none\" stroke=\"black\" cx=\"196\" cy=\"-52.3918\" rx=\"18\" ry=\"18\"/>\n",
       "<text text-anchor=\"middle\" x=\"196\" y=\"-48.1918\" font-family=\"Times,serif\" font-size=\"14.00\">A</text>\n",
       "</g>\n",
       "<!-- BH -->\n",
       "<g id=\"node3\" class=\"node\"><title>BH</title>\n",
       "<ellipse fill=\"none\" stroke=\"black\" cx=\"279.392\" cy=\"-22.3918\" rx=\"22.2841\" ry=\"22.2841\"/>\n",
       "<text text-anchor=\"middle\" x=\"279.392\" y=\"-18.1918\" font-family=\"Times,serif\" font-size=\"14.00\">BH</text>\n",
       "</g>\n",
       "<!-- A&#45;&gt;BH -->\n",
       "<g id=\"edge4\" class=\"edge\"><title>A&#45;&gt;BH</title>\n",
       "<path fill=\"none\" stroke=\"black\" d=\"M213.08,-46.4648C223.142,-42.7561 236.42,-37.8621 248.375,-33.4557\"/>\n",
       "<polygon fill=\"black\" stroke=\"black\" points=\"249.833,-36.6483 258.006,-29.9058 247.412,-30.0803 249.833,-36.6483\"/>\n",
       "<text text-anchor=\"middle\" x=\"235.5\" y=\"-41.1918\" font-family=\"Times,serif\" font-size=\"14.00\">1</text>\n",
       "</g>\n",
       "<!-- A&#45;&gt;IF -->\n",
       "<g id=\"edge3\" class=\"edge\"><title>A&#45;&gt;IF</title>\n",
       "<path fill=\"none\" stroke=\"black\" d=\"M181.093,-42.2244C174.949,-38.3382 167.44,-34.3677 160,-32.3918 155.224,-31.1234 150.075,-30.6414 145.012,-30.6403\"/>\n",
       "<polygon fill=\"black\" stroke=\"black\" points=\"144.67,-27.154 134.885,-31.2155 145.067,-34.1427 144.67,-27.154\"/>\n",
       "<text text-anchor=\"middle\" x=\"156.5\" y=\"-35.1918\" font-family=\"Times,serif\" font-size=\"14.00\">0</text>\n",
       "</g>\n",
       "<!-- BH&#45;&gt;BH -->\n",
       "<g id=\"edge6\" class=\"edge\"><title>BH&#45;&gt;BH</title>\n",
       "<path fill=\"none\" stroke=\"black\" d=\"M275.501,-44.8217C275.183,-54.4985 276.48,-62.7836 279.392,-62.7836 281.166,-62.7836 282.341,-59.707 282.916,-55.1138\"/>\n",
       "<polygon fill=\"black\" stroke=\"black\" points=\"286.424,-54.9399 283.282,-44.8217 279.429,-54.6909 286.424,-54.9399\"/>\n",
       "<text text-anchor=\"middle\" x=\"279.392\" y=\"-65.5836\" font-family=\"Times,serif\" font-size=\"14.00\">0</text>\n",
       "</g>\n",
       "<!-- BH&#45;&gt;BH -->\n",
       "<g id=\"edge7\" class=\"edge\"><title>BH&#45;&gt;BH</title>\n",
       "<path fill=\"none\" stroke=\"black\" d=\"M272.718,-43.9522C269.867,-61.9636 272.091,-80.7836 279.392,-80.7836 285.324,-80.7836 287.904,-68.3594 287.134,-54.0395\"/>\n",
       "<polygon fill=\"black\" stroke=\"black\" points=\"290.599,-53.5277 286.065,-43.9522 283.638,-54.2653 290.599,-53.5277\"/>\n",
       "<text text-anchor=\"middle\" x=\"279.392\" y=\"-83.5836\" font-family=\"Times,serif\" font-size=\"14.00\">1</text>\n",
       "</g>\n",
       "<!-- IF&#45;&gt;A -->\n",
       "<g id=\"edge2\" class=\"edge\"><title>IF&#45;&gt;A</title>\n",
       "<path fill=\"none\" stroke=\"black\" d=\"M133.469,-44.2806C139.595,-46.6939 146.469,-49.0177 153,-50.3918 157.625,-51.365 162.598,-51.9739 167.446,-52.3404\"/>\n",
       "<polygon fill=\"black\" stroke=\"black\" points=\"167.529,-55.8477 177.677,-52.8032 167.846,-48.8548 167.529,-55.8477\"/>\n",
       "<text text-anchor=\"middle\" x=\"156.5\" y=\"-54.1918\" font-family=\"Times,serif\" font-size=\"14.00\">0</text>\n",
       "</g>\n",
       "<!-- IF&#45;&gt;BH -->\n",
       "<g id=\"edge5\" class=\"edge\"><title>IF&#45;&gt;BH</title>\n",
       "<path fill=\"none\" stroke=\"black\" d=\"M133.091,-26.168C145.552,-20.6717 162.354,-14.229 178,-11.3918 201.212,-7.18264 227.756,-10.4364 247.717,-14.4712\"/>\n",
       "<polygon fill=\"black\" stroke=\"black\" points=\"246.986,-17.8939 257.504,-16.6169 248.485,-11.0563 246.986,-17.8939\"/>\n",
       "<text text-anchor=\"middle\" x=\"196\" y=\"-14.1918\" font-family=\"Times,serif\" font-size=\"14.00\">1</text>\n",
       "</g>\n",
       "</g>\n",
       "</svg>\n"
      ],
      "text/plain": [
       "<graphviz.dot.Digraph at 0x108e444a8>"
      ]
     },
     "execution_count": 26,
     "metadata": {},
     "output_type": "execute_result"
    }
   ],
   "source": [
    "do_ev0_tot"
   ]
  },
  {
   "cell_type": "code",
   "execution_count": 27,
   "metadata": {
    "run_control": {
     "frozen": false,
     "read_only": false
    }
   },
   "outputs": [
    {
     "data": {
      "image/svg+xml": [
       "<?xml version=\"1.0\" encoding=\"UTF-8\" standalone=\"no\"?>\n",
       "<!DOCTYPE svg PUBLIC \"-//W3C//DTD SVG 1.1//EN\"\n",
       " \"http://www.w3.org/Graphics/SVG/1.1/DTD/svg11.dtd\">\n",
       "<!-- Generated by graphviz version 2.38.0 (20140413.2041)\n",
       " -->\n",
       "<!-- Title: %3 Pages: 1 -->\n",
       "<svg width=\"310pt\" height=\"99pt\"\n",
       " viewBox=\"0.00 0.00 309.78 98.78\" xmlns=\"http://www.w3.org/2000/svg\" xmlns:xlink=\"http://www.w3.org/1999/xlink\">\n",
       "<g id=\"graph0\" class=\"graph\" transform=\"scale(1 1) rotate(0) translate(4 94.7836)\">\n",
       "<title>%3</title>\n",
       "<polygon fill=\"white\" stroke=\"none\" points=\"-4,4 -4,-94.7836 305.784,-94.7836 305.784,4 -4,4\"/>\n",
       "<!-- EMPTY -->\n",
       "<g id=\"node1\" class=\"node\"><title>EMPTY</title>\n",
       "</g>\n",
       "<!-- IF -->\n",
       "<g id=\"node4\" class=\"node\"><title>IF</title>\n",
       "<ellipse fill=\"none\" stroke=\"black\" cx=\"113\" cy=\"-35.3918\" rx=\"18\" ry=\"18\"/>\n",
       "<ellipse fill=\"none\" stroke=\"black\" cx=\"113\" cy=\"-35.3918\" rx=\"22\" ry=\"22\"/>\n",
       "<text text-anchor=\"middle\" x=\"113\" y=\"-31.1918\" font-family=\"Times,serif\" font-size=\"14.00\">IF</text>\n",
       "</g>\n",
       "<!-- EMPTY&#45;&gt;IF -->\n",
       "<g id=\"edge1\" class=\"edge\"><title>EMPTY&#45;&gt;IF</title>\n",
       "<path fill=\"none\" stroke=\"black\" d=\"M54.1177,-35.3918C62.5406,-35.3918 71.9629,-35.3918 80.7191,-35.3918\"/>\n",
       "<polygon fill=\"black\" stroke=\"black\" points=\"80.9574,-38.8919 90.9574,-35.3918 80.9573,-31.8919 80.9574,-38.8919\"/>\n",
       "</g>\n",
       "<!-- A -->\n",
       "<g id=\"node2\" class=\"node\"><title>A</title>\n",
       "<ellipse fill=\"none\" stroke=\"black\" cx=\"196\" cy=\"-52.3918\" rx=\"18\" ry=\"18\"/>\n",
       "<text text-anchor=\"middle\" x=\"196\" y=\"-48.1918\" font-family=\"Times,serif\" font-size=\"14.00\">A</text>\n",
       "</g>\n",
       "<!-- BH -->\n",
       "<g id=\"node3\" class=\"node\"><title>BH</title>\n",
       "<ellipse fill=\"none\" stroke=\"black\" cx=\"279.392\" cy=\"-22.3918\" rx=\"22.2841\" ry=\"22.2841\"/>\n",
       "<text text-anchor=\"middle\" x=\"279.392\" y=\"-18.1918\" font-family=\"Times,serif\" font-size=\"14.00\">BH</text>\n",
       "</g>\n",
       "<!-- A&#45;&gt;BH -->\n",
       "<g id=\"edge4\" class=\"edge\"><title>A&#45;&gt;BH</title>\n",
       "<path fill=\"none\" stroke=\"black\" d=\"M213.08,-46.4648C223.142,-42.7561 236.42,-37.8621 248.375,-33.4557\"/>\n",
       "<polygon fill=\"black\" stroke=\"black\" points=\"249.833,-36.6483 258.006,-29.9058 247.412,-30.0803 249.833,-36.6483\"/>\n",
       "<text text-anchor=\"middle\" x=\"235.5\" y=\"-41.1918\" font-family=\"Times,serif\" font-size=\"14.00\">1</text>\n",
       "</g>\n",
       "<!-- A&#45;&gt;IF -->\n",
       "<g id=\"edge3\" class=\"edge\"><title>A&#45;&gt;IF</title>\n",
       "<path fill=\"none\" stroke=\"black\" d=\"M181.093,-42.2244C174.949,-38.3382 167.44,-34.3677 160,-32.3918 155.224,-31.1234 150.075,-30.6414 145.012,-30.6403\"/>\n",
       "<polygon fill=\"black\" stroke=\"black\" points=\"144.67,-27.154 134.885,-31.2155 145.067,-34.1427 144.67,-27.154\"/>\n",
       "<text text-anchor=\"middle\" x=\"156.5\" y=\"-35.1918\" font-family=\"Times,serif\" font-size=\"14.00\">0</text>\n",
       "</g>\n",
       "<!-- BH&#45;&gt;BH -->\n",
       "<g id=\"edge6\" class=\"edge\"><title>BH&#45;&gt;BH</title>\n",
       "<path fill=\"none\" stroke=\"black\" d=\"M271.709,-43.5882C270.761,-53.7836 273.321,-62.7836 279.392,-62.7836 283.281,-62.7836 285.729,-59.09 286.737,-53.7547\"/>\n",
       "<polygon fill=\"black\" stroke=\"black\" points=\"290.241,-53.6987 287.075,-43.5882 283.245,-53.4666 290.241,-53.6987\"/>\n",
       "<text text-anchor=\"middle\" x=\"279.392\" y=\"-79.5836\" font-family=\"Times,serif\" font-size=\"14.00\">0 </text>\n",
       "<text text-anchor=\"middle\" x=\"279.392\" y=\"-65.5836\" font-family=\"Times,serif\" font-size=\"14.00\"> 1</text>\n",
       "</g>\n",
       "<!-- IF&#45;&gt;A -->\n",
       "<g id=\"edge2\" class=\"edge\"><title>IF&#45;&gt;A</title>\n",
       "<path fill=\"none\" stroke=\"black\" d=\"M133.469,-44.2806C139.595,-46.6939 146.469,-49.0177 153,-50.3918 157.625,-51.365 162.598,-51.9739 167.446,-52.3404\"/>\n",
       "<polygon fill=\"black\" stroke=\"black\" points=\"167.529,-55.8477 177.677,-52.8032 167.846,-48.8548 167.529,-55.8477\"/>\n",
       "<text text-anchor=\"middle\" x=\"156.5\" y=\"-54.1918\" font-family=\"Times,serif\" font-size=\"14.00\">0</text>\n",
       "</g>\n",
       "<!-- IF&#45;&gt;BH -->\n",
       "<g id=\"edge5\" class=\"edge\"><title>IF&#45;&gt;BH</title>\n",
       "<path fill=\"none\" stroke=\"black\" d=\"M133.091,-26.168C145.552,-20.6717 162.354,-14.229 178,-11.3918 201.212,-7.18264 227.756,-10.4364 247.717,-14.4712\"/>\n",
       "<polygon fill=\"black\" stroke=\"black\" points=\"246.986,-17.8939 257.504,-16.6169 248.485,-11.0563 246.986,-17.8939\"/>\n",
       "<text text-anchor=\"middle\" x=\"196\" y=\"-14.1918\" font-family=\"Times,serif\" font-size=\"14.00\">1</text>\n",
       "</g>\n",
       "</g>\n",
       "</svg>\n"
      ],
      "text/plain": [
       "<graphviz.dot.Digraph at 0x108e442b0>"
      ]
     },
     "execution_count": 27,
     "metadata": {},
     "output_type": "execute_result"
    }
   ],
   "source": [
    "dotObj_dfa_w_bh(ev0_bh_totalize, FuseEdges=True)"
   ]
  },
  {
   "cell_type": "markdown",
   "metadata": {
    "run_control": {
     "frozen": false,
     "read_only": false
    }
   },
   "source": [
    "<span style=\"color:blue\"> **We can now write routines to print DFA using dot. The main routines are listed below.** </span>\n",
    "\n",
    "* dot_dfa_w_bh : lists all states of a DFA including black-hole states\n",
    "* dot_dfa      : lists all isNotBH states (see below for a defn), i.e. suppress black-holes\n",
    "     - Usually there are too many transitions to them and that clutters the view\n",
    "     "
   ]
  },
  {
   "cell_type": "code",
   "execution_count": 28,
   "metadata": {
    "run_control": {
     "frozen": false,
     "read_only": false
    }
   },
   "outputs": [
    {
     "data": {
      "image/svg+xml": [
       "<?xml version=\"1.0\" encoding=\"UTF-8\" standalone=\"no\"?>\n",
       "<!DOCTYPE svg PUBLIC \"-//W3C//DTD SVG 1.1//EN\"\n",
       " \"http://www.w3.org/Graphics/SVG/1.1/DTD/svg11.dtd\">\n",
       "<!-- Generated by graphviz version 2.38.0 (20140413.2041)\n",
       " -->\n",
       "<!-- Title: %3 Pages: 1 -->\n",
       "<svg width=\"324pt\" height=\"192pt\"\n",
       " viewBox=\"0.00 0.00 323.63 191.74\" xmlns=\"http://www.w3.org/2000/svg\" xmlns:xlink=\"http://www.w3.org/1999/xlink\">\n",
       "<g id=\"graph0\" class=\"graph\" transform=\"scale(1 1) rotate(0) translate(4 187.737)\">\n",
       "<title>%3</title>\n",
       "<polygon fill=\"white\" stroke=\"none\" points=\"-4,4 -4,-187.737 319.631,-187.737 319.631,4 -4,4\"/>\n",
       "<!-- EMPTY -->\n",
       "<g id=\"node1\" class=\"node\"><title>EMPTY</title>\n",
       "</g>\n",
       "<!-- IF -->\n",
       "<g id=\"node5\" class=\"node\"><title>IF</title>\n",
       "<ellipse fill=\"none\" stroke=\"black\" cx=\"113\" cy=\"-79.8686\" rx=\"18\" ry=\"18\"/>\n",
       "<ellipse fill=\"none\" stroke=\"black\" cx=\"113\" cy=\"-79.8686\" rx=\"22\" ry=\"22\"/>\n",
       "<text text-anchor=\"middle\" x=\"113\" y=\"-75.6686\" font-family=\"Times,serif\" font-size=\"14.00\">IF</text>\n",
       "</g>\n",
       "<!-- EMPTY&#45;&gt;IF -->\n",
       "<g id=\"edge1\" class=\"edge\"><title>EMPTY&#45;&gt;IF</title>\n",
       "<path fill=\"none\" stroke=\"black\" d=\"M54.1177,-79.8686C62.5406,-79.8686 71.9629,-79.8686 80.7191,-79.8686\"/>\n",
       "<polygon fill=\"black\" stroke=\"black\" points=\"80.9574,-83.3687 90.9574,-79.8686 80.9573,-76.3687 80.9574,-83.3687\"/>\n",
       "</g>\n",
       "<!-- S01 -->\n",
       "<g id=\"node2\" class=\"node\"><title>S01</title>\n",
       "<ellipse fill=\"none\" stroke=\"black\" cx=\"291.762\" cy=\"-127.869\" rx=\"23.7379\" ry=\"23.7379\"/>\n",
       "<text text-anchor=\"middle\" x=\"291.762\" y=\"-123.669\" font-family=\"Times,serif\" font-size=\"14.00\">S01</text>\n",
       "</g>\n",
       "<!-- S01&#45;&gt;S01 -->\n",
       "<g id=\"edge6\" class=\"edge\"><title>S01&#45;&gt;S01</title>\n",
       "<path fill=\"none\" stroke=\"black\" d=\"M283.641,-150.694C282.868,-160.906 285.575,-169.737 291.762,-169.737 295.726,-169.737 298.262,-166.113 299.369,-160.823\"/>\n",
       "<polygon fill=\"black\" stroke=\"black\" points=\"302.871,-160.859 299.883,-150.694 295.88,-160.503 302.871,-160.859\"/>\n",
       "<text text-anchor=\"middle\" x=\"291.762\" y=\"-172.537\" font-family=\"Times,serif\" font-size=\"14.00\">1</text>\n",
       "</g>\n",
       "<!-- F0 -->\n",
       "<g id=\"node4\" class=\"node\"><title>F0</title>\n",
       "<ellipse fill=\"none\" stroke=\"black\" cx=\"201.447\" cy=\"-120.869\" rx=\"19.4029\" ry=\"19.4029\"/>\n",
       "<ellipse fill=\"none\" stroke=\"black\" cx=\"201.447\" cy=\"-120.869\" rx=\"23.3939\" ry=\"23.3939\"/>\n",
       "<text text-anchor=\"middle\" x=\"201.447\" y=\"-116.669\" font-family=\"Times,serif\" font-size=\"14.00\">F0</text>\n",
       "</g>\n",
       "<!-- S01&#45;&gt;F0 -->\n",
       "<g id=\"edge7\" class=\"edge\"><title>S01&#45;&gt;F0</title>\n",
       "<path fill=\"none\" stroke=\"black\" d=\"M271.615,-115.045C265.017,-111.326 257.395,-107.759 249.894,-105.869 243.99,-104.381 237.742,-104.848 231.786,-106.308\"/>\n",
       "<polygon fill=\"black\" stroke=\"black\" points=\"230.523,-103.04 222.15,-109.531 232.744,-109.678 230.523,-103.04\"/>\n",
       "<text text-anchor=\"middle\" x=\"246.394\" y=\"-108.669\" font-family=\"Times,serif\" font-size=\"14.00\">0</text>\n",
       "</g>\n",
       "<!-- S10 -->\n",
       "<g id=\"node3\" class=\"node\"><title>S10</title>\n",
       "<ellipse fill=\"none\" stroke=\"black\" cx=\"291.762\" cy=\"-23.8686\" rx=\"23.7379\" ry=\"23.7379\"/>\n",
       "<text text-anchor=\"middle\" x=\"291.762\" y=\"-19.6686\" font-family=\"Times,serif\" font-size=\"14.00\">S10</text>\n",
       "</g>\n",
       "<!-- S10&#45;&gt;S10 -->\n",
       "<g id=\"edge10\" class=\"edge\"><title>S10&#45;&gt;S10</title>\n",
       "<path fill=\"none\" stroke=\"black\" d=\"M283.641,-46.6939C282.868,-56.9055 285.575,-65.7372 291.762,-65.7372 295.726,-65.7372 298.262,-62.1127 299.369,-56.8228\"/>\n",
       "<polygon fill=\"black\" stroke=\"black\" points=\"302.871,-56.8587 299.883,-46.6939 295.88,-56.5034 302.871,-56.8587\"/>\n",
       "<text text-anchor=\"middle\" x=\"291.762\" y=\"-68.5372\" font-family=\"Times,serif\" font-size=\"14.00\">0</text>\n",
       "</g>\n",
       "<!-- F1 -->\n",
       "<g id=\"node6\" class=\"node\"><title>F1</title>\n",
       "<ellipse fill=\"none\" stroke=\"black\" cx=\"201.447\" cy=\"-23.8686\" rx=\"19.4029\" ry=\"19.4029\"/>\n",
       "<ellipse fill=\"none\" stroke=\"black\" cx=\"201.447\" cy=\"-23.8686\" rx=\"23.3939\" ry=\"23.3939\"/>\n",
       "<text text-anchor=\"middle\" x=\"201.447\" y=\"-19.6686\" font-family=\"Times,serif\" font-size=\"14.00\">F1</text>\n",
       "</g>\n",
       "<!-- S10&#45;&gt;F1 -->\n",
       "<g id=\"edge11\" class=\"edge\"><title>S10&#45;&gt;F1</title>\n",
       "<path fill=\"none\" stroke=\"black\" d=\"M270.077,-12.7746C261.749,-9.52944 251.98,-7.23799 242.894,-8.8686 239.473,-9.4825 235.963,-10.3667 232.509,-11.4031\"/>\n",
       "<polygon fill=\"black\" stroke=\"black\" points=\"231.379,-8.09038 223.043,-14.6287 233.637,-14.7163 231.379,-8.09038\"/>\n",
       "<text text-anchor=\"middle\" x=\"246.394\" y=\"-11.6686\" font-family=\"Times,serif\" font-size=\"14.00\">1</text>\n",
       "</g>\n",
       "<!-- F0&#45;&gt;S01 -->\n",
       "<g id=\"edge5\" class=\"edge\"><title>F0&#45;&gt;S01</title>\n",
       "<path fill=\"none\" stroke=\"black\" d=\"M225.19,-122.671C235.105,-123.457 246.921,-124.394 257.773,-125.254\"/>\n",
       "<polygon fill=\"black\" stroke=\"black\" points=\"257.544,-128.747 267.789,-126.048 258.097,-121.768 257.544,-128.747\"/>\n",
       "<text text-anchor=\"middle\" x=\"246.394\" y=\"-126.669\" font-family=\"Times,serif\" font-size=\"14.00\">1</text>\n",
       "</g>\n",
       "<!-- F0&#45;&gt;F0 -->\n",
       "<g id=\"edge4\" class=\"edge\"><title>F0&#45;&gt;F0</title>\n",
       "<path fill=\"none\" stroke=\"black\" d=\"M193.36,-143.042C192.478,-153.328 195.173,-162.315 201.447,-162.315 205.466,-162.315 208.016,-158.627 209.099,-153.272\"/>\n",
       "<polygon fill=\"black\" stroke=\"black\" points=\"212.606,-153.182 209.534,-143.042 205.612,-152.884 212.606,-153.182\"/>\n",
       "<text text-anchor=\"middle\" x=\"201.447\" y=\"-165.115\" font-family=\"Times,serif\" font-size=\"14.00\">0</text>\n",
       "</g>\n",
       "<!-- IF&#45;&gt;F0 -->\n",
       "<g id=\"edge2\" class=\"edge\"><title>IF&#45;&gt;F0</title>\n",
       "<path fill=\"none\" stroke=\"black\" d=\"M133.185,-88.9678C144.205,-94.1941 158.281,-100.87 170.705,-106.763\"/>\n",
       "<polygon fill=\"black\" stroke=\"black\" points=\"169.271,-109.956 179.806,-111.079 172.27,-103.631 169.271,-109.956\"/>\n",
       "<text text-anchor=\"middle\" x=\"156.5\" y=\"-104.669\" font-family=\"Times,serif\" font-size=\"14.00\">0</text>\n",
       "</g>\n",
       "<!-- IF&#45;&gt;F1 -->\n",
       "<g id=\"edge3\" class=\"edge\"><title>IF&#45;&gt;F1</title>\n",
       "<path fill=\"none\" stroke=\"black\" d=\"M131.912,-68.2654C143.758,-60.5916 159.52,-50.3809 172.942,-41.6865\"/>\n",
       "<polygon fill=\"black\" stroke=\"black\" points=\"174.869,-44.6083 181.359,-36.2339 171.063,-38.7333 174.869,-44.6083\"/>\n",
       "<text text-anchor=\"middle\" x=\"156.5\" y=\"-56.6686\" font-family=\"Times,serif\" font-size=\"14.00\">1</text>\n",
       "</g>\n",
       "<!-- F1&#45;&gt;S10 -->\n",
       "<g id=\"edge9\" class=\"edge\"><title>F1&#45;&gt;S10</title>\n",
       "<path fill=\"none\" stroke=\"black\" d=\"M225.106,-25.8462C230.9,-26.2703 237.124,-26.6549 242.894,-26.8686 247.736,-27.0479 252.849,-26.9907 257.861,-26.7953\"/>\n",
       "<polygon fill=\"black\" stroke=\"black\" points=\"258.099,-30.2876 267.887,-26.2314 257.706,-23.2986 258.099,-30.2876\"/>\n",
       "<text text-anchor=\"middle\" x=\"246.394\" y=\"-30.6686\" font-family=\"Times,serif\" font-size=\"14.00\">0</text>\n",
       "</g>\n",
       "<!-- F1&#45;&gt;F1 -->\n",
       "<g id=\"edge8\" class=\"edge\"><title>F1&#45;&gt;F1</title>\n",
       "<path fill=\"none\" stroke=\"black\" d=\"M193.36,-46.0421C192.478,-56.3282 195.173,-65.3155 201.447,-65.3155 205.466,-65.3155 208.016,-61.6271 209.099,-56.2717\"/>\n",
       "<polygon fill=\"black\" stroke=\"black\" points=\"212.606,-56.1818 209.534,-46.0421 205.612,-55.8843 212.606,-56.1818\"/>\n",
       "<text text-anchor=\"middle\" x=\"201.447\" y=\"-68.1155\" font-family=\"Times,serif\" font-size=\"14.00\">1</text>\n",
       "</g>\n",
       "</g>\n",
       "</svg>\n"
      ],
      "text/plain": [
       "<graphviz.dot.Digraph at 0x108e448d0>"
      ]
     },
     "execution_count": 28,
     "metadata": {},
     "output_type": "execute_result"
    }
   ],
   "source": [
    "dfaBESame = md2mc('''\n",
    "DFA !! Begins and ends with same; epsilon allowed\n",
    "IF  : 0 -> F0\n",
    "IF  : 1 -> F1\n",
    "!!\n",
    "F0  : 0 -> F0\n",
    "F0  : 1 -> S01\n",
    "S01 : 1 -> S01\n",
    "S01 : 0 -> F0\n",
    "!!\n",
    "F1  : 1 -> F1\n",
    "F1  : 0 -> S10\n",
    "S10 : 0 -> S10\n",
    "S10 : 1 -> F1\n",
    "''')\n",
    "DOdfaBESame = dotObj_dfa(dfaBESame)\n",
    "DOdfaBESame"
   ]
  },
  {
   "cell_type": "markdown",
   "metadata": {
    "run_control": {
     "frozen": false,
     "read_only": false
    }
   },
   "source": [
    "## Let us now administer some tests to print dot-strings generated.\n",
    "\n",
    "We will demonstrate two ways to print automata: \n",
    "\n",
    "1. First generate a dot string via dot_dfa or dot_dfa_w_bh\n",
    "   (calling the result \"dot_string\") \n",
    "   1. Then use the srcObj = Source(dot_string) call\n",
    "   2. Thereafter we can display the srcObj object directly into the browser\n",
    "   3. Or, one can also later convert the dot_string to svg or PDF\n",
    "2. OR, one can directly generate a dot object via the dotObj_dfa or dotObj_dfa_w_bh call\n",
    "   (calling the result \"dot_object\")\n",
    "   1. Then directly display the dot_object\n",
    "   2. There are conversions available for dot_object to other formats too"
   ]
  },
  {
   "cell_type": "markdown",
   "metadata": {
    "run_control": {
     "frozen": false,
     "read_only": false
    }
   },
   "source": [
    "# One can read DFAs from files"
   ]
  },
  {
   "cell_type": "code",
   "execution_count": 29,
   "metadata": {
    "run_control": {
     "frozen": false,
     "read_only": false
    }
   },
   "outputs": [],
   "source": [
    "dped1 = md2mc(src=\"File\", fname=\"pedagogical1.dfa\")\n",
    "#machines/dfafiles/pedagogical1.dfa"
   ]
  },
  {
   "cell_type": "code",
   "execution_count": 30,
   "metadata": {
    "run_control": {
     "frozen": false,
     "read_only": false
    }
   },
   "outputs": [
    {
     "data": {
      "text/plain": [
       "{'Delta': {('A', '0'): 'B',\n",
       "  ('A', '1'): 'B',\n",
       "  ('B', '0'): 'IF',\n",
       "  ('B', '1'): 'F',\n",
       "  ('F', '0'): 'B',\n",
       "  ('F', '1'): 'B',\n",
       "  ('IF', '0'): 'A',\n",
       "  ('IF', '1'): 'B'},\n",
       " 'F': {'F', 'IF'},\n",
       " 'Q': {'A', 'B', 'F', 'IF'},\n",
       " 'Sigma': {'0', '1'},\n",
       " 'q0': 'IF'}"
      ]
     },
     "execution_count": 30,
     "metadata": {},
     "output_type": "execute_result"
    }
   ],
   "source": [
    "dped1"
   ]
  },
  {
   "cell_type": "code",
   "execution_count": 31,
   "metadata": {
    "run_control": {
     "frozen": false,
     "read_only": false
    }
   },
   "outputs": [
    {
     "data": {
      "image/svg+xml": [
       "<?xml version=\"1.0\" encoding=\"UTF-8\" standalone=\"no\"?>\n",
       "<!DOCTYPE svg PUBLIC \"-//W3C//DTD SVG 1.1//EN\"\n",
       " \"http://www.w3.org/Graphics/SVG/1.1/DTD/svg11.dtd\">\n",
       "<!-- Generated by graphviz version 2.38.0 (20140413.2041)\n",
       " -->\n",
       "<!-- Title: %3 Pages: 1 -->\n",
       "<svg width=\"388pt\" height=\"113pt\"\n",
       " viewBox=\"0.00 0.00 388.00 113.00\" xmlns=\"http://www.w3.org/2000/svg\" xmlns:xlink=\"http://www.w3.org/1999/xlink\">\n",
       "<g id=\"graph0\" class=\"graph\" transform=\"scale(1 1) rotate(0) translate(4 109)\">\n",
       "<title>%3</title>\n",
       "<polygon fill=\"white\" stroke=\"none\" points=\"-4,4 -4,-109 384,-109 384,4 -4,4\"/>\n",
       "<!-- EMPTY -->\n",
       "<g id=\"node1\" class=\"node\"><title>EMPTY</title>\n",
       "</g>\n",
       "<!-- IF -->\n",
       "<g id=\"node4\" class=\"node\"><title>IF</title>\n",
       "<ellipse fill=\"none\" stroke=\"black\" cx=\"113\" cy=\"-72\" rx=\"18\" ry=\"18\"/>\n",
       "<ellipse fill=\"none\" stroke=\"black\" cx=\"113\" cy=\"-72\" rx=\"22\" ry=\"22\"/>\n",
       "<text text-anchor=\"middle\" x=\"113\" y=\"-67.8\" font-family=\"Times,serif\" font-size=\"14.00\">IF</text>\n",
       "</g>\n",
       "<!-- EMPTY&#45;&gt;IF -->\n",
       "<g id=\"edge1\" class=\"edge\"><title>EMPTY&#45;&gt;IF</title>\n",
       "<path fill=\"none\" stroke=\"black\" d=\"M54.1177,-72C62.5406,-72 71.9629,-72 80.7191,-72\"/>\n",
       "<polygon fill=\"black\" stroke=\"black\" points=\"80.9574,-75.5001 90.9574,-72 80.9573,-68.5001 80.9574,-75.5001\"/>\n",
       "</g>\n",
       "<!-- A -->\n",
       "<g id=\"node2\" class=\"node\"><title>A</title>\n",
       "<ellipse fill=\"none\" stroke=\"black\" cx=\"196\" cy=\"-18\" rx=\"18\" ry=\"18\"/>\n",
       "<text text-anchor=\"middle\" x=\"196\" y=\"-13.8\" font-family=\"Times,serif\" font-size=\"14.00\">A</text>\n",
       "</g>\n",
       "<!-- B -->\n",
       "<g id=\"node3\" class=\"node\"><title>B</title>\n",
       "<ellipse fill=\"none\" stroke=\"black\" cx=\"275\" cy=\"-57\" rx=\"18\" ry=\"18\"/>\n",
       "<text text-anchor=\"middle\" x=\"275\" y=\"-52.8\" font-family=\"Times,serif\" font-size=\"14.00\">B</text>\n",
       "</g>\n",
       "<!-- A&#45;&gt;B -->\n",
       "<g id=\"edge4\" class=\"edge\"><title>A&#45;&gt;B</title>\n",
       "<path fill=\"none\" stroke=\"black\" d=\"M212.582,-25.8922C223.193,-31.2664 237.455,-38.49 249.564,-44.6235\"/>\n",
       "<polygon fill=\"black\" stroke=\"black\" points=\"248.201,-47.8565 258.704,-49.2526 251.364,-41.6118 248.201,-47.8565\"/>\n",
       "<text text-anchor=\"middle\" x=\"235.5\" y=\"-41.8\" font-family=\"Times,serif\" font-size=\"14.00\">0</text>\n",
       "</g>\n",
       "<!-- A&#45;&gt;B -->\n",
       "<g id=\"edge5\" class=\"edge\"><title>A&#45;&gt;B</title>\n",
       "<path fill=\"none\" stroke=\"black\" d=\"M214.029,-15.4392C221.946,-14.9779 231.292,-15.5104 239,-19 246.303,-22.3062 252.772,-27.9356 258.1,-33.8629\"/>\n",
       "<polygon fill=\"black\" stroke=\"black\" points=\"255.621,-36.3635 264.63,-41.9403 261.065,-31.963 255.621,-36.3635\"/>\n",
       "<text text-anchor=\"middle\" x=\"235.5\" y=\"-21.8\" font-family=\"Times,serif\" font-size=\"14.00\">1</text>\n",
       "</g>\n",
       "<!-- B&#45;&gt;IF -->\n",
       "<g id=\"edge7\" class=\"edge\"><title>B&#45;&gt;IF</title>\n",
       "<path fill=\"none\" stroke=\"black\" d=\"M256.986,-58.5951C230.367,-61.0906 178.466,-65.9563 145.059,-69.0883\"/>\n",
       "<polygon fill=\"black\" stroke=\"black\" points=\"144.547,-65.6208 134.917,-70.039 145.2,-72.5902 144.547,-65.6208\"/>\n",
       "<text text-anchor=\"middle\" x=\"196\" y=\"-67.8\" font-family=\"Times,serif\" font-size=\"14.00\">0</text>\n",
       "</g>\n",
       "<!-- F -->\n",
       "<g id=\"node5\" class=\"node\"><title>F</title>\n",
       "<ellipse fill=\"none\" stroke=\"black\" cx=\"358\" cy=\"-57\" rx=\"18\" ry=\"18\"/>\n",
       "<ellipse fill=\"none\" stroke=\"black\" cx=\"358\" cy=\"-57\" rx=\"22\" ry=\"22\"/>\n",
       "<text text-anchor=\"middle\" x=\"358\" y=\"-52.8\" font-family=\"Times,serif\" font-size=\"14.00\">F</text>\n",
       "</g>\n",
       "<!-- B&#45;&gt;F -->\n",
       "<g id=\"edge6\" class=\"edge\"><title>B&#45;&gt;F</title>\n",
       "<path fill=\"none\" stroke=\"black\" d=\"M291.241,-65.1226C297.226,-67.8828 304.265,-70.6176 311,-72 316.904,-73.2118 323.112,-72.5661 328.99,-71.0088\"/>\n",
       "<polygon fill=\"black\" stroke=\"black\" points=\"330.176,-74.3019 338.458,-67.6945 327.863,-67.695 330.176,-74.3019\"/>\n",
       "<text text-anchor=\"middle\" x=\"314.5\" y=\"-74.8\" font-family=\"Times,serif\" font-size=\"14.00\">1</text>\n",
       "</g>\n",
       "<!-- IF&#45;&gt;A -->\n",
       "<g id=\"edge2\" class=\"edge\"><title>IF&#45;&gt;A</title>\n",
       "<path fill=\"none\" stroke=\"black\" d=\"M131.294,-59.1978C138.001,-54.3353 145.79,-48.812 153,-44 158.805,-40.1262 165.163,-36.088 171.136,-32.3814\"/>\n",
       "<polygon fill=\"black\" stroke=\"black\" points=\"173.377,-35.113 180.071,-26.9009 169.717,-29.1461 173.377,-35.113\"/>\n",
       "<text text-anchor=\"middle\" x=\"156.5\" y=\"-46.8\" font-family=\"Times,serif\" font-size=\"14.00\">0</text>\n",
       "</g>\n",
       "<!-- IF&#45;&gt;B -->\n",
       "<g id=\"edge3\" class=\"edge\"><title>IF&#45;&gt;B</title>\n",
       "<path fill=\"none\" stroke=\"black\" d=\"M133.618,-79.8462C139.75,-82.0804 146.59,-84.352 153,-86 179.314,-92.7653 186.916,-92.153 214,-90 225.217,-89.1083 228.75,-90.6426 239,-86 244.301,-83.5989 249.453,-80.1744 254.101,-76.5155\"/>\n",
       "<polygon fill=\"black\" stroke=\"black\" points=\"256.553,-79.0233 261.848,-69.8466 251.986,-73.7183 256.553,-79.0233\"/>\n",
       "<text text-anchor=\"middle\" x=\"196\" y=\"-93.8\" font-family=\"Times,serif\" font-size=\"14.00\">1</text>\n",
       "</g>\n",
       "<!-- F&#45;&gt;B -->\n",
       "<g id=\"edge8\" class=\"edge\"><title>F&#45;&gt;B</title>\n",
       "<path fill=\"none\" stroke=\"black\" d=\"M335.943,-54.6705C328.115,-54.0565 319.156,-53.6511 311,-54 308.441,-54.1095 305.779,-54.2638 303.118,-54.4453\"/>\n",
       "<polygon fill=\"black\" stroke=\"black\" points=\"302.763,-50.9623 293.071,-55.2425 303.317,-57.9404 302.763,-50.9623\"/>\n",
       "<text text-anchor=\"middle\" x=\"314.5\" y=\"-56.8\" font-family=\"Times,serif\" font-size=\"14.00\">0</text>\n",
       "</g>\n",
       "<!-- F&#45;&gt;B -->\n",
       "<g id=\"edge9\" class=\"edge\"><title>F&#45;&gt;B</title>\n",
       "<path fill=\"none\" stroke=\"black\" d=\"M340.914,-42.7689C332.311,-36.8656 321.378,-32.0093 311,-35 306.535,-36.2869 302.089,-38.3302 297.939,-40.665\"/>\n",
       "<polygon fill=\"black\" stroke=\"black\" points=\"296.002,-37.7488 289.432,-46.0611 299.752,-43.6598 296.002,-37.7488\"/>\n",
       "<text text-anchor=\"middle\" x=\"314.5\" y=\"-37.8\" font-family=\"Times,serif\" font-size=\"14.00\">1</text>\n",
       "</g>\n",
       "</g>\n",
       "</svg>\n"
      ],
      "text/plain": [
       "<graphviz.dot.Digraph at 0x108c1f518>"
      ]
     },
     "execution_count": 31,
     "metadata": {},
     "output_type": "execute_result"
    }
   ],
   "source": [
    "dotObj_dfa(dped1)"
   ]
  },
  {
   "cell_type": "code",
   "execution_count": 32,
   "metadata": {
    "run_control": {
     "frozen": false,
     "read_only": false
    }
   },
   "outputs": [
    {
     "data": {
      "image/svg+xml": [
       "<?xml version=\"1.0\" encoding=\"UTF-8\" standalone=\"no\"?>\n",
       "<!DOCTYPE svg PUBLIC \"-//W3C//DTD SVG 1.1//EN\"\n",
       " \"http://www.w3.org/Graphics/SVG/1.1/DTD/svg11.dtd\">\n",
       "<!-- Generated by graphviz version 2.38.0 (20140413.2041)\n",
       " -->\n",
       "<!-- Title: %3 Pages: 1 -->\n",
       "<svg width=\"395pt\" height=\"115pt\"\n",
       " viewBox=\"0.00 0.00 395.00 115.00\" xmlns=\"http://www.w3.org/2000/svg\" xmlns:xlink=\"http://www.w3.org/1999/xlink\">\n",
       "<g id=\"graph0\" class=\"graph\" transform=\"scale(1 1) rotate(0) translate(4 111)\">\n",
       "<title>%3</title>\n",
       "<polygon fill=\"white\" stroke=\"none\" points=\"-4,4 -4,-111 391,-111 391,4 -4,4\"/>\n",
       "<!-- EMPTY -->\n",
       "<g id=\"node1\" class=\"node\"><title>EMPTY</title>\n",
       "</g>\n",
       "<!-- IF -->\n",
       "<g id=\"node4\" class=\"node\"><title>IF</title>\n",
       "<ellipse fill=\"none\" stroke=\"black\" cx=\"113\" cy=\"-72\" rx=\"18\" ry=\"18\"/>\n",
       "<ellipse fill=\"none\" stroke=\"black\" cx=\"113\" cy=\"-72\" rx=\"22\" ry=\"22\"/>\n",
       "<text text-anchor=\"middle\" x=\"113\" y=\"-67.8\" font-family=\"Times,serif\" font-size=\"14.00\">IF</text>\n",
       "</g>\n",
       "<!-- EMPTY&#45;&gt;IF -->\n",
       "<g id=\"edge1\" class=\"edge\"><title>EMPTY&#45;&gt;IF</title>\n",
       "<path fill=\"none\" stroke=\"black\" d=\"M54.1177,-72C62.5406,-72 71.9629,-72 80.7191,-72\"/>\n",
       "<polygon fill=\"black\" stroke=\"black\" points=\"80.9574,-75.5001 90.9574,-72 80.9573,-68.5001 80.9574,-75.5001\"/>\n",
       "</g>\n",
       "<!-- A -->\n",
       "<g id=\"node2\" class=\"node\"><title>A</title>\n",
       "<ellipse fill=\"none\" stroke=\"black\" cx=\"196\" cy=\"-18\" rx=\"18\" ry=\"18\"/>\n",
       "<text text-anchor=\"middle\" x=\"196\" y=\"-13.8\" font-family=\"Times,serif\" font-size=\"14.00\">A</text>\n",
       "</g>\n",
       "<!-- B -->\n",
       "<g id=\"node3\" class=\"node\"><title>B</title>\n",
       "<ellipse fill=\"none\" stroke=\"black\" cx=\"278.5\" cy=\"-72\" rx=\"18\" ry=\"18\"/>\n",
       "<text text-anchor=\"middle\" x=\"278.5\" y=\"-67.8\" font-family=\"Times,serif\" font-size=\"14.00\">B</text>\n",
       "</g>\n",
       "<!-- A&#45;&gt;B -->\n",
       "<g id=\"edge4\" class=\"edge\"><title>A&#45;&gt;B</title>\n",
       "<path fill=\"none\" stroke=\"black\" d=\"M214,-19.9417C223.013,-21.574 233.955,-24.5594 242.5,-30 249.931,-34.7313 256.574,-41.5525 262.024,-48.3263\"/>\n",
       "<polygon fill=\"black\" stroke=\"black\" points=\"259.486,-50.7793 268.259,-56.7203 265.106,-46.6054 259.486,-50.7793\"/>\n",
       "<text text-anchor=\"middle\" x=\"237.25\" y=\"-46.8\" font-family=\"Times,serif\" font-size=\"14.00\">0 </text>\n",
       "<text text-anchor=\"middle\" x=\"237.25\" y=\"-32.8\" font-family=\"Times,serif\" font-size=\"14.00\"> 1</text>\n",
       "</g>\n",
       "<!-- B&#45;&gt;IF -->\n",
       "<g id=\"edge6\" class=\"edge\"><title>B&#45;&gt;IF</title>\n",
       "<path fill=\"none\" stroke=\"black\" d=\"M260.033,-72C232.711,-72 179.469,-72 145.378,-72\"/>\n",
       "<polygon fill=\"black\" stroke=\"black\" points=\"145.04,-68.5001 135.04,-72 145.04,-75.5001 145.04,-68.5001\"/>\n",
       "<text text-anchor=\"middle\" x=\"196\" y=\"-74.8\" font-family=\"Times,serif\" font-size=\"14.00\">0</text>\n",
       "</g>\n",
       "<!-- F -->\n",
       "<g id=\"node5\" class=\"node\"><title>F</title>\n",
       "<ellipse fill=\"none\" stroke=\"black\" cx=\"365\" cy=\"-72\" rx=\"18\" ry=\"18\"/>\n",
       "<ellipse fill=\"none\" stroke=\"black\" cx=\"365\" cy=\"-72\" rx=\"22\" ry=\"22\"/>\n",
       "<text text-anchor=\"middle\" x=\"365\" y=\"-67.8\" font-family=\"Times,serif\" font-size=\"14.00\">F</text>\n",
       "</g>\n",
       "<!-- B&#45;&gt;F -->\n",
       "<g id=\"edge5\" class=\"edge\"><title>B&#45;&gt;F</title>\n",
       "<path fill=\"none\" stroke=\"black\" d=\"M296.556,-74.3431C302.251,-75.0202 308.638,-75.6661 314.5,-76 320.31,-76.3309 326.498,-76.2093 332.46,-75.8507\"/>\n",
       "<polygon fill=\"black\" stroke=\"black\" points=\"333.14,-79.3066 342.818,-74.9959 332.564,-72.3303 333.14,-79.3066\"/>\n",
       "<text text-anchor=\"middle\" x=\"319.75\" y=\"-78.8\" font-family=\"Times,serif\" font-size=\"14.00\">1</text>\n",
       "</g>\n",
       "<!-- IF&#45;&gt;A -->\n",
       "<g id=\"edge2\" class=\"edge\"><title>IF&#45;&gt;A</title>\n",
       "<path fill=\"none\" stroke=\"black\" d=\"M131.294,-59.1978C138.001,-54.3353 145.79,-48.812 153,-44 158.805,-40.1262 165.163,-36.088 171.136,-32.3814\"/>\n",
       "<polygon fill=\"black\" stroke=\"black\" points=\"173.377,-35.113 180.071,-26.9009 169.717,-29.1461 173.377,-35.113\"/>\n",
       "<text text-anchor=\"middle\" x=\"156.5\" y=\"-46.8\" font-family=\"Times,serif\" font-size=\"14.00\">0</text>\n",
       "</g>\n",
       "<!-- IF&#45;&gt;B -->\n",
       "<g id=\"edge3\" class=\"edge\"><title>IF&#45;&gt;B</title>\n",
       "<path fill=\"none\" stroke=\"black\" d=\"M133.618,-79.8462C139.75,-82.0804 146.59,-84.352 153,-86 191.525,-95.9048 204.059,-96.2251 242.5,-86 245.726,-85.142 249.055,-84.0703 252.319,-82.904\"/>\n",
       "<polygon fill=\"black\" stroke=\"black\" points=\"253.692,-86.1255 261.745,-79.2406 251.156,-79.6009 253.692,-86.1255\"/>\n",
       "<text text-anchor=\"middle\" x=\"196\" y=\"-95.8\" font-family=\"Times,serif\" font-size=\"14.00\">1</text>\n",
       "</g>\n",
       "<!-- F&#45;&gt;B -->\n",
       "<g id=\"edge7\" class=\"edge\"><title>F&#45;&gt;B</title>\n",
       "<path fill=\"none\" stroke=\"black\" d=\"M348.185,-57.2138C341.543,-51.9722 333.41,-46.7065 325,-44 315.564,-40.9634 306.076,-45.3423 298.225,-51.4744\"/>\n",
       "<polygon fill=\"black\" stroke=\"black\" points=\"295.783,-48.9631 290.706,-58.2619 300.474,-54.1591 295.783,-48.9631\"/>\n",
       "<text text-anchor=\"middle\" x=\"319.75\" y=\"-60.8\" font-family=\"Times,serif\" font-size=\"14.00\">0 </text>\n",
       "<text text-anchor=\"middle\" x=\"319.75\" y=\"-46.8\" font-family=\"Times,serif\" font-size=\"14.00\"> 1</text>\n",
       "</g>\n",
       "</g>\n",
       "</svg>\n"
      ],
      "text/plain": [
       "<graphviz.dot.Digraph at 0x108c1feb8>"
      ]
     },
     "execution_count": 32,
     "metadata": {},
     "output_type": "execute_result"
    }
   ],
   "source": [
    "dotObj_dfa(dped1, FuseEdges=True)"
   ]
  },
  {
   "cell_type": "code",
   "execution_count": 33,
   "metadata": {
    "run_control": {
     "frozen": false,
     "read_only": false
    }
   },
   "outputs": [],
   "source": [
    "ends0101 = md2mc(src=\"File\", fname=\"endsin0101.dfa\")"
   ]
  },
  {
   "cell_type": "code",
   "execution_count": 34,
   "metadata": {
    "run_control": {
     "frozen": false,
     "read_only": false
    }
   },
   "outputs": [
    {
     "data": {
      "image/svg+xml": [
       "<?xml version=\"1.0\" encoding=\"UTF-8\" standalone=\"no\"?>\n",
       "<!DOCTYPE svg PUBLIC \"-//W3C//DTD SVG 1.1//EN\"\n",
       " \"http://www.w3.org/Graphics/SVG/1.1/DTD/svg11.dtd\">\n",
       "<!-- Generated by graphviz version 2.38.0 (20140413.2041)\n",
       " -->\n",
       "<!-- Title: %3 Pages: 1 -->\n",
       "<svg width=\"524pt\" height=\"142pt\"\n",
       " viewBox=\"0.00 0.00 523.64 141.58\" xmlns=\"http://www.w3.org/2000/svg\" xmlns:xlink=\"http://www.w3.org/1999/xlink\">\n",
       "<g id=\"graph0\" class=\"graph\" transform=\"scale(1 1) rotate(0) translate(4 137.581)\">\n",
       "<title>%3</title>\n",
       "<polygon fill=\"white\" stroke=\"none\" points=\"-4,4 -4,-137.581 519.636,-137.581 519.636,4 -4,4\"/>\n",
       "<!-- EMPTY -->\n",
       "<g id=\"node1\" class=\"node\"><title>EMPTY</title>\n",
       "</g>\n",
       "<!-- I -->\n",
       "<g id=\"node4\" class=\"node\"><title>I</title>\n",
       "<ellipse fill=\"none\" stroke=\"black\" cx=\"109\" cy=\"-50.7121\" rx=\"18\" ry=\"18\"/>\n",
       "<text text-anchor=\"middle\" x=\"109\" y=\"-46.5121\" font-family=\"Times,serif\" font-size=\"14.00\">I</text>\n",
       "</g>\n",
       "<!-- EMPTY&#45;&gt;I -->\n",
       "<g id=\"edge1\" class=\"edge\"><title>EMPTY&#45;&gt;I</title>\n",
       "<path fill=\"none\" stroke=\"black\" d=\"M54.195,-50.7121C62.6538,-50.7121 72.0513,-50.7121 80.5951,-50.7121\"/>\n",
       "<polygon fill=\"black\" stroke=\"black\" points=\"80.8257,-54.2122 90.8257,-50.7121 80.8257,-47.2122 80.8257,-54.2122\"/>\n",
       "</g>\n",
       "<!-- S0 -->\n",
       "<g id=\"node2\" class=\"node\"><title>S0</title>\n",
       "<ellipse fill=\"none\" stroke=\"black\" cx=\"189.447\" cy=\"-50.7121\" rx=\"19.3939\" ry=\"19.3939\"/>\n",
       "<text text-anchor=\"middle\" x=\"189.447\" y=\"-46.5121\" font-family=\"Times,serif\" font-size=\"14.00\">S0</text>\n",
       "</g>\n",
       "<!-- S0&#45;&gt;S0 -->\n",
       "<g id=\"edge4\" class=\"edge\"><title>S0&#45;&gt;S0</title>\n",
       "<path fill=\"none\" stroke=\"black\" d=\"M182.306,-68.8217C180.973,-78.8886 183.353,-88.1589 189.447,-88.1589 193.351,-88.1589 195.731,-84.3544 196.586,-78.9732\"/>\n",
       "<polygon fill=\"black\" stroke=\"black\" points=\"200.086,-78.8223 196.588,-68.8217 193.086,-78.8211 200.086,-78.8223\"/>\n",
       "<text text-anchor=\"middle\" x=\"189.447\" y=\"-90.9589\" font-family=\"Times,serif\" font-size=\"14.00\">0</text>\n",
       "</g>\n",
       "<!-- S01 -->\n",
       "<g id=\"node3\" class=\"node\"><title>S01</title>\n",
       "<ellipse fill=\"none\" stroke=\"black\" cx=\"275.762\" cy=\"-109.712\" rx=\"23.7379\" ry=\"23.7379\"/>\n",
       "<text text-anchor=\"middle\" x=\"275.762\" y=\"-105.512\" font-family=\"Times,serif\" font-size=\"14.00\">S01</text>\n",
       "</g>\n",
       "<!-- S0&#45;&gt;S01 -->\n",
       "<g id=\"edge5\" class=\"edge\"><title>S0&#45;&gt;S01</title>\n",
       "<path fill=\"none\" stroke=\"black\" d=\"M205.912,-61.5336C217.565,-69.6882 233.842,-81.0776 247.643,-90.7354\"/>\n",
       "<polygon fill=\"black\" stroke=\"black\" points=\"245.653,-93.6148 255.853,-96.4805 249.667,-87.8795 245.653,-93.6148\"/>\n",
       "<text text-anchor=\"middle\" x=\"230.394\" y=\"-83.5121\" font-family=\"Times,serif\" font-size=\"14.00\">1</text>\n",
       "</g>\n",
       "<!-- S01&#45;&gt;I -->\n",
       "<g id=\"edge7\" class=\"edge\"><title>S01&#45;&gt;I</title>\n",
       "<path fill=\"none\" stroke=\"black\" d=\"M252.132,-114.874C230.234,-118.751 196.551,-121.71 170,-110.712 151.854,-103.196 136.335,-87.2339 125.628,-73.6623\"/>\n",
       "<polygon fill=\"black\" stroke=\"black\" points=\"128.399,-71.5237 119.603,-65.6178 122.796,-75.72 128.399,-71.5237\"/>\n",
       "<text text-anchor=\"middle\" x=\"189.447\" y=\"-120.512\" font-family=\"Times,serif\" font-size=\"14.00\">1</text>\n",
       "</g>\n",
       "<!-- S010 -->\n",
       "<g id=\"node5\" class=\"node\"><title>S010</title>\n",
       "<ellipse fill=\"none\" stroke=\"black\" cx=\"370.921\" cy=\"-66.7121\" rx=\"28.0822\" ry=\"28.0822\"/>\n",
       "<text text-anchor=\"middle\" x=\"370.921\" y=\"-62.5121\" font-family=\"Times,serif\" font-size=\"14.00\">S010</text>\n",
       "</g>\n",
       "<!-- S01&#45;&gt;S010 -->\n",
       "<g id=\"edge6\" class=\"edge\"><title>S01&#45;&gt;S010</title>\n",
       "<path fill=\"none\" stroke=\"black\" d=\"M297.902,-99.9547C309.024,-94.8208 322.938,-88.3984 335.563,-82.5709\"/>\n",
       "<polygon fill=\"black\" stroke=\"black\" points=\"337.286,-85.6305 344.899,-78.2618 334.353,-79.2749 337.286,-85.6305\"/>\n",
       "<text text-anchor=\"middle\" x=\"321.131\" y=\"-94.5121\" font-family=\"Times,serif\" font-size=\"14.00\">0</text>\n",
       "</g>\n",
       "<!-- I&#45;&gt;S0 -->\n",
       "<g id=\"edge2\" class=\"edge\"><title>I&#45;&gt;S0</title>\n",
       "<path fill=\"none\" stroke=\"black\" d=\"M127.022,-50.7121C136.583,-50.7121 148.77,-50.7121 159.763,-50.7121\"/>\n",
       "<polygon fill=\"black\" stroke=\"black\" points=\"159.813,-54.2122 169.813,-50.7121 159.813,-47.2122 159.813,-54.2122\"/>\n",
       "<text text-anchor=\"middle\" x=\"148.5\" y=\"-53.5121\" font-family=\"Times,serif\" font-size=\"14.00\">0</text>\n",
       "</g>\n",
       "<!-- I&#45;&gt;I -->\n",
       "<g id=\"edge3\" class=\"edge\"><title>I&#45;&gt;I</title>\n",
       "<path fill=\"none\" stroke=\"black\" d=\"M102.621,-67.7494C101.319,-77.57 103.445,-86.7121 109,-86.7121 112.472,-86.7121 114.604,-83.1409 115.398,-78.065\"/>\n",
       "<polygon fill=\"black\" stroke=\"black\" points=\"118.897,-77.7431 115.379,-67.7494 111.897,-77.7556 118.897,-77.7431\"/>\n",
       "<text text-anchor=\"middle\" x=\"109\" y=\"-89.5121\" font-family=\"Times,serif\" font-size=\"14.00\">1</text>\n",
       "</g>\n",
       "<!-- S010&#45;&gt;S0 -->\n",
       "<g id=\"edge8\" class=\"edge\"><title>S010&#45;&gt;S0</title>\n",
       "<path fill=\"none\" stroke=\"black\" d=\"M342.458,-64.2638C309.094,-61.2894 253.074,-56.2952 219.156,-53.2715\"/>\n",
       "<polygon fill=\"black\" stroke=\"black\" points=\"219.249,-49.766 208.978,-52.3641 218.627,-56.7383 219.249,-49.766\"/>\n",
       "<text text-anchor=\"middle\" x=\"275.762\" y=\"-63.5121\" font-family=\"Times,serif\" font-size=\"14.00\">0</text>\n",
       "</g>\n",
       "<!-- F0101 -->\n",
       "<g id=\"node6\" class=\"node\"><title>F0101</title>\n",
       "<ellipse fill=\"none\" stroke=\"black\" cx=\"478.924\" cy=\"-36.7121\" rx=\"32.9021\" ry=\"32.9021\"/>\n",
       "<ellipse fill=\"none\" stroke=\"black\" cx=\"478.924\" cy=\"-36.7121\" rx=\"36.9254\" ry=\"36.9254\"/>\n",
       "<text text-anchor=\"middle\" x=\"478.924\" y=\"-32.5121\" font-family=\"Times,serif\" font-size=\"14.00\">F0101</text>\n",
       "</g>\n",
       "<!-- S010&#45;&gt;F0101 -->\n",
       "<g id=\"edge9\" class=\"edge\"><title>S010&#45;&gt;F0101</title>\n",
       "<path fill=\"none\" stroke=\"black\" d=\"M398.397,-59.2192C409.032,-56.2092 421.588,-52.6558 433.543,-49.2725\"/>\n",
       "<polygon fill=\"black\" stroke=\"black\" points=\"434.719,-52.5772 443.388,-46.4862 432.812,-45.8417 434.719,-52.5772\"/>\n",
       "<text text-anchor=\"middle\" x=\"420.712\" y=\"-56.5121\" font-family=\"Times,serif\" font-size=\"14.00\">1</text>\n",
       "</g>\n",
       "<!-- F0101&#45;&gt;I -->\n",
       "<g id=\"edge11\" class=\"edge\"><title>F0101&#45;&gt;I</title>\n",
       "<path fill=\"none\" stroke=\"black\" d=\"M445.314,-20.9853C424.751,-12.4857 397.363,-3.71207 371.921,-3.71207 188.447,-3.71207 188.447,-3.71207 188.447,-3.71207 165.942,-3.71207 144.308,-18.1221 129.48,-30.9841\"/>\n",
       "<polygon fill=\"black\" stroke=\"black\" points=\"126.98,-28.528 121.981,-37.8691 131.714,-33.6846 126.98,-28.528\"/>\n",
       "<text text-anchor=\"middle\" x=\"275.762\" y=\"-6.51207\" font-family=\"Times,serif\" font-size=\"14.00\">1</text>\n",
       "</g>\n",
       "<!-- F0101&#45;&gt;S010 -->\n",
       "<g id=\"edge10\" class=\"edge\"><title>F0101&#45;&gt;S010</title>\n",
       "<path fill=\"none\" stroke=\"black\" d=\"M442.376,-31.5488C433.973,-31.4149 425.152,-32.1899 417.212,-34.7121 411.568,-36.5045 406.023,-39.2825 400.854,-42.4692\"/>\n",
       "<polygon fill=\"black\" stroke=\"black\" points=\"398.856,-39.5953 392.559,-48.1159 402.795,-45.3818 398.856,-39.5953\"/>\n",
       "<text text-anchor=\"middle\" x=\"420.712\" y=\"-37.5121\" font-family=\"Times,serif\" font-size=\"14.00\">0</text>\n",
       "</g>\n",
       "</g>\n",
       "</svg>\n"
      ],
      "text/plain": [
       "<graphviz.dot.Digraph at 0x109278550>"
      ]
     },
     "execution_count": 34,
     "metadata": {},
     "output_type": "execute_result"
    }
   ],
   "source": [
    "dotObj_dfa(ends0101)"
   ]
  },
  {
   "cell_type": "code",
   "execution_count": 35,
   "metadata": {
    "run_control": {
     "frozen": false,
     "read_only": false
    }
   },
   "outputs": [],
   "source": [
    "thirdlastis1=md2mc(src=\"File\", fname=\"thirdlastis1.dfa\")\n",
    "#machines/dfafiles/thirdlastis1.dfa"
   ]
  },
  {
   "cell_type": "code",
   "execution_count": 36,
   "metadata": {
    "run_control": {
     "frozen": false,
     "read_only": false
    }
   },
   "outputs": [
    {
     "data": {
      "text/plain": [
       "{'Delta': {('F100', '0'): 'S000',\n",
       "  ('F100', '1'): 'S001',\n",
       "  ('F101', '0'): 'S010',\n",
       "  ('F101', '1'): 'S011',\n",
       "  ('F110', '0'): 'F100',\n",
       "  ('F110', '1'): 'F101',\n",
       "  ('F111', '0'): 'F110',\n",
       "  ('F111', '1'): 'F111',\n",
       "  ('I', '0'): 'S0',\n",
       "  ('I', '1'): 'S1',\n",
       "  ('S0', '0'): 'S00',\n",
       "  ('S0', '1'): 'S01',\n",
       "  ('S00', '0'): 'S000',\n",
       "  ('S00', '1'): 'S001',\n",
       "  ('S000', '0'): 'S000',\n",
       "  ('S000', '1'): 'S001',\n",
       "  ('S001', '0'): 'S010',\n",
       "  ('S001', '1'): 'S011',\n",
       "  ('S01', '0'): 'S010',\n",
       "  ('S01', '1'): 'S011',\n",
       "  ('S010', '0'): 'F100',\n",
       "  ('S010', '1'): 'F101',\n",
       "  ('S011', '0'): 'F110',\n",
       "  ('S011', '1'): 'F111',\n",
       "  ('S1', '0'): 'S10',\n",
       "  ('S1', '1'): 'S11',\n",
       "  ('S10', '0'): 'F100',\n",
       "  ('S10', '1'): 'F101',\n",
       "  ('S11', '0'): 'F110',\n",
       "  ('S11', '1'): 'F111'},\n",
       " 'F': {'F100', 'F101', 'F110', 'F111'},\n",
       " 'Q': {'F100',\n",
       "  'F101',\n",
       "  'F110',\n",
       "  'F111',\n",
       "  'I',\n",
       "  'S0',\n",
       "  'S00',\n",
       "  'S000',\n",
       "  'S001',\n",
       "  'S01',\n",
       "  'S010',\n",
       "  'S011',\n",
       "  'S1',\n",
       "  'S10',\n",
       "  'S11'},\n",
       " 'Sigma': {'0', '1'},\n",
       " 'q0': 'I'}"
      ]
     },
     "execution_count": 36,
     "metadata": {},
     "output_type": "execute_result"
    }
   ],
   "source": [
    "thirdlastis1"
   ]
  },
  {
   "cell_type": "code",
   "execution_count": 37,
   "metadata": {
    "run_control": {
     "frozen": false,
     "read_only": false
    }
   },
   "outputs": [
    {
     "data": {
      "image/svg+xml": [
       "<?xml version=\"1.0\" encoding=\"UTF-8\" standalone=\"no\"?>\n",
       "<!DOCTYPE svg PUBLIC \"-//W3C//DTD SVG 1.1//EN\"\n",
       " \"http://www.w3.org/Graphics/SVG/1.1/DTD/svg11.dtd\">\n",
       "<!-- Generated by graphviz version 2.38.0 (20140413.2041)\n",
       " -->\n",
       "<!-- Title: %3 Pages: 1 -->\n",
       "<svg width=\"1133pt\" height=\"423pt\"\n",
       " viewBox=\"0.00 0.00 1133.04 423.11\" xmlns=\"http://www.w3.org/2000/svg\" xmlns:xlink=\"http://www.w3.org/1999/xlink\">\n",
       "<g id=\"graph0\" class=\"graph\" transform=\"scale(1 1) rotate(0) translate(4 419.11)\">\n",
       "<title>%3</title>\n",
       "<polygon fill=\"white\" stroke=\"none\" points=\"-4,4 -4,-419.11 1129.04,-419.11 1129.04,4 -4,4\"/>\n",
       "<!-- EMPTY -->\n",
       "<g id=\"node1\" class=\"node\"><title>EMPTY</title>\n",
       "</g>\n",
       "<!-- I -->\n",
       "<g id=\"node8\" class=\"node\"><title>I</title>\n",
       "<ellipse fill=\"none\" stroke=\"black\" cx=\"109\" cy=\"-102.11\" rx=\"18\" ry=\"18\"/>\n",
       "<text text-anchor=\"middle\" x=\"109\" y=\"-97.9096\" font-family=\"Times,serif\" font-size=\"14.00\">I</text>\n",
       "</g>\n",
       "<!-- EMPTY&#45;&gt;I -->\n",
       "<g id=\"edge1\" class=\"edge\"><title>EMPTY&#45;&gt;I</title>\n",
       "<path fill=\"none\" stroke=\"black\" d=\"M54.195,-102.11C62.6538,-102.11 72.0513,-102.11 80.5951,-102.11\"/>\n",
       "<polygon fill=\"black\" stroke=\"black\" points=\"80.8257,-105.61 90.8257,-102.11 80.8257,-98.6097 80.8257,-105.61\"/>\n",
       "</g>\n",
       "<!-- S011 -->\n",
       "<g id=\"node2\" class=\"node\"><title>S011</title>\n",
       "<ellipse fill=\"none\" stroke=\"black\" cx=\"1097.07\" cy=\"-313.11\" rx=\"27.933\" ry=\"27.933\"/>\n",
       "<text text-anchor=\"middle\" x=\"1097.07\" y=\"-308.91\" font-family=\"Times,serif\" font-size=\"14.00\">S011</text>\n",
       "</g>\n",
       "<!-- F111 -->\n",
       "<g id=\"node14\" class=\"node\"><title>F111</title>\n",
       "<ellipse fill=\"none\" stroke=\"black\" cx=\"373.626\" cy=\"-303.11\" rx=\"27.7678\" ry=\"27.7678\"/>\n",
       "<ellipse fill=\"none\" stroke=\"black\" cx=\"373.626\" cy=\"-303.11\" rx=\"31.7859\" ry=\"31.7859\"/>\n",
       "<text text-anchor=\"middle\" x=\"373.626\" y=\"-298.91\" font-family=\"Times,serif\" font-size=\"14.00\">F111</text>\n",
       "</g>\n",
       "<!-- S011&#45;&gt;F111 -->\n",
       "<g id=\"edge23\" class=\"edge\"><title>S011&#45;&gt;F111</title>\n",
       "<path fill=\"none\" stroke=\"black\" d=\"M1082.77,-337.622C1066.64,-363.661 1036.84,-401.11 998.814,-401.11 479.235,-401.11 479.235,-401.11 479.235,-401.11 441.959,-401.11 412.49,-367.559 394.455,-339.719\"/>\n",
       "<polygon fill=\"black\" stroke=\"black\" points=\"397.25,-337.585 389.005,-330.93 391.301,-341.274 397.25,-337.585\"/>\n",
       "<text text-anchor=\"middle\" x=\"740.863\" y=\"-403.91\" font-family=\"Times,serif\" font-size=\"14.00\">1</text>\n",
       "</g>\n",
       "<!-- F110 -->\n",
       "<g id=\"node16\" class=\"node\"><title>F110</title>\n",
       "<ellipse fill=\"none\" stroke=\"black\" cx=\"480.235\" cy=\"-271.11\" rx=\"27.9372\" ry=\"27.9372\"/>\n",
       "<ellipse fill=\"none\" stroke=\"black\" cx=\"480.235\" cy=\"-271.11\" rx=\"31.933\" ry=\"31.933\"/>\n",
       "<text text-anchor=\"middle\" x=\"480.235\" y=\"-266.91\" font-family=\"Times,serif\" font-size=\"14.00\">F110</text>\n",
       "</g>\n",
       "<!-- S011&#45;&gt;F110 -->\n",
       "<g id=\"edge22\" class=\"edge\"><title>S011&#45;&gt;F110</title>\n",
       "<path fill=\"none\" stroke=\"black\" d=\"M1074.64,-329.977C1055.79,-343.105 1027.02,-359.11 998.814,-359.11 586.492,-359.11 586.492,-359.11 586.492,-359.11 551.824,-359.11 522.553,-330.664 503.749,-306.119\"/>\n",
       "<polygon fill=\"black\" stroke=\"black\" points=\"506.52,-303.979 497.78,-297.991 500.878,-308.122 506.52,-303.979\"/>\n",
       "<text text-anchor=\"middle\" x=\"794.653\" y=\"-361.91\" font-family=\"Times,serif\" font-size=\"14.00\">0</text>\n",
       "</g>\n",
       "<!-- S11 -->\n",
       "<g id=\"node3\" class=\"node\"><title>S11</title>\n",
       "<ellipse fill=\"none\" stroke=\"black\" cx=\"275.438\" cy=\"-239.11\" rx=\"23.5896\" ry=\"23.5896\"/>\n",
       "<text text-anchor=\"middle\" x=\"275.438\" y=\"-234.91\" font-family=\"Times,serif\" font-size=\"14.00\">S11</text>\n",
       "</g>\n",
       "<!-- S11&#45;&gt;F111 -->\n",
       "<g id=\"edge15\" class=\"edge\"><title>S11&#45;&gt;F111</title>\n",
       "<path fill=\"none\" stroke=\"black\" d=\"M295.442,-251.754C307.593,-259.839 323.712,-270.564 338.077,-280.122\"/>\n",
       "<polygon fill=\"black\" stroke=\"black\" points=\"336.478,-283.262 346.743,-285.888 340.356,-277.434 336.478,-283.262\"/>\n",
       "<text text-anchor=\"middle\" x=\"320.483\" y=\"-272.91\" font-family=\"Times,serif\" font-size=\"14.00\">1</text>\n",
       "</g>\n",
       "<!-- S11&#45;&gt;F110 -->\n",
       "<g id=\"edge14\" class=\"edge\"><title>S11&#45;&gt;F110</title>\n",
       "<path fill=\"none\" stroke=\"black\" d=\"M299.448,-239.118C325.379,-239.496 368.689,-241.241 405.268,-248.11 416.922,-250.298 429.323,-253.707 440.573,-257.237\"/>\n",
       "<polygon fill=\"black\" stroke=\"black\" points=\"439.524,-260.576 450.116,-260.342 441.69,-253.919 439.524,-260.576\"/>\n",
       "<text text-anchor=\"middle\" x=\"373.626\" y=\"-250.91\" font-family=\"Times,serif\" font-size=\"14.00\">0</text>\n",
       "</g>\n",
       "<!-- S10 -->\n",
       "<g id=\"node4\" class=\"node\"><title>S10</title>\n",
       "<ellipse fill=\"none\" stroke=\"black\" cx=\"480.235\" cy=\"-141.11\" rx=\"23.7379\" ry=\"23.7379\"/>\n",
       "<text text-anchor=\"middle\" x=\"480.235\" y=\"-136.91\" font-family=\"Times,serif\" font-size=\"14.00\">S10</text>\n",
       "</g>\n",
       "<!-- F101 -->\n",
       "<g id=\"node13\" class=\"node\"><title>F101</title>\n",
       "<ellipse fill=\"none\" stroke=\"black\" cx=\"587.492\" cy=\"-271.11\" rx=\"28.1078\" ry=\"28.1078\"/>\n",
       "<ellipse fill=\"none\" stroke=\"black\" cx=\"587.492\" cy=\"-271.11\" rx=\"32.082\" ry=\"32.082\"/>\n",
       "<text text-anchor=\"middle\" x=\"587.492\" y=\"-266.91\" font-family=\"Times,serif\" font-size=\"14.00\">F101</text>\n",
       "</g>\n",
       "<!-- S10&#45;&gt;F101 -->\n",
       "<g id=\"edge13\" class=\"edge\"><title>S10&#45;&gt;F101</title>\n",
       "<path fill=\"none\" stroke=\"black\" d=\"M495.87,-159.186C512.385,-179.582 539.587,-213.179 559.887,-238.251\"/>\n",
       "<polygon fill=\"black\" stroke=\"black\" points=\"557.2,-240.494 566.213,-246.064 562.64,-236.089 557.2,-240.494\"/>\n",
       "<text text-anchor=\"middle\" x=\"533.701\" y=\"-212.91\" font-family=\"Times,serif\" font-size=\"14.00\">1</text>\n",
       "</g>\n",
       "<!-- F100 -->\n",
       "<g id=\"node15\" class=\"node\"><title>F100</title>\n",
       "<ellipse fill=\"none\" stroke=\"black\" cx=\"794.653\" cy=\"-201.11\" rx=\"28.1078\" ry=\"28.1078\"/>\n",
       "<ellipse fill=\"none\" stroke=\"black\" cx=\"794.653\" cy=\"-201.11\" rx=\"32.082\" ry=\"32.082\"/>\n",
       "<text text-anchor=\"middle\" x=\"794.653\" y=\"-196.91\" font-family=\"Times,serif\" font-size=\"14.00\">F100</text>\n",
       "</g>\n",
       "<!-- S10&#45;&gt;F100 -->\n",
       "<g id=\"edge12\" class=\"edge\"><title>S10&#45;&gt;F100</title>\n",
       "<path fill=\"none\" stroke=\"black\" d=\"M504.015,-137.08C535.887,-132.193 595.424,-125.804 644.782,-136.11 685.262,-144.561 728.21,-164.656 757.519,-180.283\"/>\n",
       "<polygon fill=\"black\" stroke=\"black\" points=\"756.077,-183.483 766.536,-185.179 759.418,-177.331 756.077,-183.483\"/>\n",
       "<text text-anchor=\"middle\" x=\"641.282\" y=\"-138.91\" font-family=\"Times,serif\" font-size=\"14.00\">0</text>\n",
       "</g>\n",
       "<!-- S001 -->\n",
       "<g id=\"node5\" class=\"node\"><title>S001</title>\n",
       "<ellipse fill=\"none\" stroke=\"black\" cx=\"997.814\" cy=\"-233.11\" rx=\"28.0822\" ry=\"28.0822\"/>\n",
       "<text text-anchor=\"middle\" x=\"997.814\" y=\"-228.91\" font-family=\"Times,serif\" font-size=\"14.00\">S001</text>\n",
       "</g>\n",
       "<!-- S001&#45;&gt;S011 -->\n",
       "<g id=\"edge19\" class=\"edge\"><title>S001&#45;&gt;S011</title>\n",
       "<path fill=\"none\" stroke=\"black\" d=\"M1020.4,-250.864C1034.09,-262.128 1051.98,-276.842 1066.93,-289.136\"/>\n",
       "<polygon fill=\"black\" stroke=\"black\" points=\"1064.94,-292.03 1074.88,-295.68 1069.38,-286.624 1064.94,-292.03\"/>\n",
       "<text text-anchor=\"middle\" x=\"1047.6\" y=\"-278.91\" font-family=\"Times,serif\" font-size=\"14.00\">1</text>\n",
       "</g>\n",
       "<!-- S010 -->\n",
       "<g id=\"node9\" class=\"node\"><title>S010</title>\n",
       "<ellipse fill=\"none\" stroke=\"black\" cx=\"691.072\" cy=\"-257.11\" rx=\"28.0822\" ry=\"28.0822\"/>\n",
       "<text text-anchor=\"middle\" x=\"691.072\" y=\"-252.91\" font-family=\"Times,serif\" font-size=\"14.00\">S010</text>\n",
       "</g>\n",
       "<!-- S001&#45;&gt;S010 -->\n",
       "<g id=\"edge18\" class=\"edge\"><title>S001&#45;&gt;S010</title>\n",
       "<path fill=\"none\" stroke=\"black\" d=\"M969.563,-237.718C963.63,-238.611 957.377,-239.467 951.524,-240.11 872.769,-248.759 780.047,-253.539 729.529,-255.69\"/>\n",
       "<polygon fill=\"black\" stroke=\"black\" points=\"729.256,-252.198 719.41,-256.109 729.546,-259.192 729.256,-252.198\"/>\n",
       "<text text-anchor=\"middle\" x=\"848.443\" y=\"-252.91\" font-family=\"Times,serif\" font-size=\"14.00\">0</text>\n",
       "</g>\n",
       "<!-- S1 -->\n",
       "<g id=\"node6\" class=\"node\"><title>S1</title>\n",
       "<ellipse fill=\"none\" stroke=\"black\" cx=\"189.447\" cy=\"-141.11\" rx=\"19.3939\" ry=\"19.3939\"/>\n",
       "<text text-anchor=\"middle\" x=\"189.447\" y=\"-136.91\" font-family=\"Times,serif\" font-size=\"14.00\">S1</text>\n",
       "</g>\n",
       "<!-- S1&#45;&gt;S11 -->\n",
       "<g id=\"edge7\" class=\"edge\"><title>S1&#45;&gt;S11</title>\n",
       "<path fill=\"none\" stroke=\"black\" d=\"M202.84,-155.57C215.958,-170.875 236.915,-195.328 252.774,-213.832\"/>\n",
       "<polygon fill=\"black\" stroke=\"black\" points=\"250.273,-216.292 259.438,-221.607 255.588,-211.736 250.273,-216.292\"/>\n",
       "<text text-anchor=\"middle\" x=\"230.394\" y=\"-192.91\" font-family=\"Times,serif\" font-size=\"14.00\">1</text>\n",
       "</g>\n",
       "<!-- S1&#45;&gt;S10 -->\n",
       "<g id=\"edge6\" class=\"edge\"><title>S1&#45;&gt;S10</title>\n",
       "<path fill=\"none\" stroke=\"black\" d=\"M208.951,-141.11C256.749,-141.11 384.853,-141.11 445.941,-141.11\"/>\n",
       "<polygon fill=\"black\" stroke=\"black\" points=\"446.188,-144.61 456.188,-141.11 446.188,-137.61 446.188,-144.61\"/>\n",
       "<text text-anchor=\"middle\" x=\"320.483\" y=\"-143.91\" font-family=\"Times,serif\" font-size=\"14.00\">0</text>\n",
       "</g>\n",
       "<!-- S01 -->\n",
       "<g id=\"node7\" class=\"node\"><title>S01</title>\n",
       "<ellipse fill=\"none\" stroke=\"black\" cx=\"587.492\" cy=\"-62.1096\" rx=\"23.7379\" ry=\"23.7379\"/>\n",
       "<text text-anchor=\"middle\" x=\"587.492\" y=\"-57.9096\" font-family=\"Times,serif\" font-size=\"14.00\">S01</text>\n",
       "</g>\n",
       "<!-- S01&#45;&gt;S011 -->\n",
       "<g id=\"edge11\" class=\"edge\"><title>S01&#45;&gt;S011</title>\n",
       "<path fill=\"none\" stroke=\"black\" d=\"M609.329,-51.787C629.477,-42.7691 661.124,-31.1096 690.072,-31.1096 690.072,-31.1096 690.072,-31.1096 998.814,-31.1096 1049.82,-31.1096 1079.92,-198.078 1091.08,-275.06\"/>\n",
       "<polygon fill=\"black\" stroke=\"black\" points=\"1087.66,-275.888 1092.53,-285.299 1094.59,-274.907 1087.66,-275.888\"/>\n",
       "<text text-anchor=\"middle\" x=\"848.443\" y=\"-33.9096\" font-family=\"Times,serif\" font-size=\"14.00\">1</text>\n",
       "</g>\n",
       "<!-- S01&#45;&gt;S010 -->\n",
       "<g id=\"edge10\" class=\"edge\"><title>S01&#45;&gt;S010</title>\n",
       "<path fill=\"none\" stroke=\"black\" d=\"M599.965,-82.491C611.527,-103.171 629.76,-136.171 644.782,-165.11 654.609,-184.041 665.158,-205.403 673.601,-222.775\"/>\n",
       "<polygon fill=\"black\" stroke=\"black\" points=\"670.547,-224.5 678.057,-231.974 676.847,-221.449 670.547,-224.5\"/>\n",
       "<text text-anchor=\"middle\" x=\"641.282\" y=\"-167.91\" font-family=\"Times,serif\" font-size=\"14.00\">0</text>\n",
       "</g>\n",
       "<!-- I&#45;&gt;S1 -->\n",
       "<g id=\"edge3\" class=\"edge\"><title>I&#45;&gt;S1</title>\n",
       "<path fill=\"none\" stroke=\"black\" d=\"M125.499,-109.815C135.998,-115.035 150.131,-122.061 162.345,-128.133\"/>\n",
       "<polygon fill=\"black\" stroke=\"black\" points=\"161.11,-131.428 171.623,-132.745 164.226,-125.16 161.11,-131.428\"/>\n",
       "<text text-anchor=\"middle\" x=\"148.5\" y=\"-125.91\" font-family=\"Times,serif\" font-size=\"14.00\">1</text>\n",
       "</g>\n",
       "<!-- S0 -->\n",
       "<g id=\"node10\" class=\"node\"><title>S0</title>\n",
       "<ellipse fill=\"none\" stroke=\"black\" cx=\"480.235\" cy=\"-62.1096\" rx=\"19.3939\" ry=\"19.3939\"/>\n",
       "<text text-anchor=\"middle\" x=\"480.235\" y=\"-57.9096\" font-family=\"Times,serif\" font-size=\"14.00\">S0</text>\n",
       "</g>\n",
       "<!-- I&#45;&gt;S0 -->\n",
       "<g id=\"edge2\" class=\"edge\"><title>I&#45;&gt;S0</title>\n",
       "<path fill=\"none\" stroke=\"black\" d=\"M125.499,-94.3837C141.024,-87.3678 165.802,-78.1096 188.447,-78.1096 188.447,-78.1096 188.447,-78.1096 374.626,-78.1096 400.873,-78.1096 430.404,-73.1267 451.379,-68.7224\"/>\n",
       "<polygon fill=\"black\" stroke=\"black\" points=\"452.201,-72.1254 461.221,-66.5665 450.703,-65.2875 452.201,-72.1254\"/>\n",
       "<text text-anchor=\"middle\" x=\"275.438\" y=\"-80.9096\" font-family=\"Times,serif\" font-size=\"14.00\">0</text>\n",
       "</g>\n",
       "<!-- S010&#45;&gt;F101 -->\n",
       "<g id=\"edge21\" class=\"edge\"><title>S010&#45;&gt;F101</title>\n",
       "<path fill=\"none\" stroke=\"black\" d=\"M663.013,-260.839C652.766,-262.251 640.855,-263.893 629.603,-265.444\"/>\n",
       "<polygon fill=\"black\" stroke=\"black\" points=\"628.95,-262 619.521,-266.833 629.905,-268.935 628.95,-262\"/>\n",
       "<text text-anchor=\"middle\" x=\"641.282\" y=\"-266.91\" font-family=\"Times,serif\" font-size=\"14.00\">1</text>\n",
       "</g>\n",
       "<!-- S010&#45;&gt;F100 -->\n",
       "<g id=\"edge20\" class=\"edge\"><title>S010&#45;&gt;F100</title>\n",
       "<path fill=\"none\" stroke=\"black\" d=\"M716.146,-243.838C728.254,-237.163 743.193,-228.927 756.715,-221.473\"/>\n",
       "<polygon fill=\"black\" stroke=\"black\" points=\"758.729,-224.359 765.797,-216.466 755.35,-218.229 758.729,-224.359\"/>\n",
       "<text text-anchor=\"middle\" x=\"740.863\" y=\"-233.91\" font-family=\"Times,serif\" font-size=\"14.00\">0</text>\n",
       "</g>\n",
       "<!-- S0&#45;&gt;S01 -->\n",
       "<g id=\"edge5\" class=\"edge\"><title>S0&#45;&gt;S01</title>\n",
       "<path fill=\"none\" stroke=\"black\" d=\"M500.053,-62.1096C514.743,-62.1096 535.529,-62.1096 553.036,-62.1096\"/>\n",
       "<polygon fill=\"black\" stroke=\"black\" points=\"553.429,-65.6097 563.429,-62.1096 553.429,-58.6097 553.429,-65.6097\"/>\n",
       "<text text-anchor=\"middle\" x=\"533.701\" y=\"-64.9096\" font-family=\"Times,serif\" font-size=\"14.00\">1</text>\n",
       "</g>\n",
       "<!-- S00 -->\n",
       "<g id=\"node11\" class=\"node\"><title>S00</title>\n",
       "<ellipse fill=\"none\" stroke=\"black\" cx=\"794.653\" cy=\"-83.1096\" rx=\"23.7379\" ry=\"23.7379\"/>\n",
       "<text text-anchor=\"middle\" x=\"794.653\" y=\"-78.9096\" font-family=\"Times,serif\" font-size=\"14.00\">S00</text>\n",
       "</g>\n",
       "<!-- S0&#45;&gt;S00 -->\n",
       "<g id=\"edge4\" class=\"edge\"><title>S0&#45;&gt;S00</title>\n",
       "<path fill=\"none\" stroke=\"black\" d=\"M496.251,-50.2388C524.686,-29.2249 588.58,11.0348 644.782,-3.10958 690.939,-14.7261 738.377,-43.7433 766.938,-63.4443\"/>\n",
       "<polygon fill=\"black\" stroke=\"black\" points=\"764.979,-66.3453 775.174,-69.2297 769.003,-60.6174 764.979,-66.3453\"/>\n",
       "<text text-anchor=\"middle\" x=\"641.282\" y=\"-5.90958\" font-family=\"Times,serif\" font-size=\"14.00\">0</text>\n",
       "</g>\n",
       "<!-- S00&#45;&gt;S001 -->\n",
       "<g id=\"edge9\" class=\"edge\"><title>S00&#45;&gt;S001</title>\n",
       "<path fill=\"none\" stroke=\"black\" d=\"M818.074,-77.0124C845.903,-70.8294 893.696,-64.8891 926.524,-86.1096 963.931,-110.29 981.914,-160.336 990.215,-195.282\"/>\n",
       "<polygon fill=\"black\" stroke=\"black\" points=\"986.821,-196.144 992.4,-205.151 993.656,-194.63 986.821,-196.144\"/>\n",
       "<text text-anchor=\"middle\" x=\"898.234\" y=\"-88.9096\" font-family=\"Times,serif\" font-size=\"14.00\">1</text>\n",
       "</g>\n",
       "<!-- S000 -->\n",
       "<g id=\"node12\" class=\"node\"><title>S000</title>\n",
       "<ellipse fill=\"none\" stroke=\"black\" cx=\"898.234\" cy=\"-137.11\" rx=\"28.0822\" ry=\"28.0822\"/>\n",
       "<text text-anchor=\"middle\" x=\"898.234\" y=\"-132.91\" font-family=\"Times,serif\" font-size=\"14.00\">S000</text>\n",
       "</g>\n",
       "<!-- S00&#45;&gt;S000 -->\n",
       "<g id=\"edge8\" class=\"edge\"><title>S00&#45;&gt;S000</title>\n",
       "<path fill=\"none\" stroke=\"black\" d=\"M816.209,-94.0373C829.876,-101.302 848.133,-111.008 863.858,-119.367\"/>\n",
       "<polygon fill=\"black\" stroke=\"black\" points=\"862.297,-122.501 872.769,-124.104 865.582,-116.32 862.297,-122.501\"/>\n",
       "<text text-anchor=\"middle\" x=\"848.443\" y=\"-114.91\" font-family=\"Times,serif\" font-size=\"14.00\">0</text>\n",
       "</g>\n",
       "<!-- S000&#45;&gt;S001 -->\n",
       "<g id=\"edge17\" class=\"edge\"><title>S000&#45;&gt;S001</title>\n",
       "<path fill=\"none\" stroke=\"black\" d=\"M918.981,-156.537C933.53,-170.85 953.496,-190.493 969.563,-206.3\"/>\n",
       "<polygon fill=\"black\" stroke=\"black\" points=\"967.514,-209.193 977.097,-213.711 972.423,-204.203 967.514,-209.193\"/>\n",
       "<text text-anchor=\"middle\" x=\"948.024\" y=\"-190.91\" font-family=\"Times,serif\" font-size=\"14.00\">1</text>\n",
       "</g>\n",
       "<!-- S000&#45;&gt;S000 -->\n",
       "<g id=\"edge16\" class=\"edge\"><title>S000&#45;&gt;S000</title>\n",
       "<path fill=\"none\" stroke=\"black\" d=\"M889.269,-164.212C888.87,-174.69 891.859,-183.4 898.234,-183.4 902.318,-183.4 905.012,-179.826 906.316,-174.501\"/>\n",
       "<polygon fill=\"black\" stroke=\"black\" points=\"909.831,-174.474 907.199,-164.212 902.857,-173.876 909.831,-174.474\"/>\n",
       "<text text-anchor=\"middle\" x=\"898.234\" y=\"-186.2\" font-family=\"Times,serif\" font-size=\"14.00\">0</text>\n",
       "</g>\n",
       "<!-- F101&#45;&gt;S011 -->\n",
       "<g id=\"edge27\" class=\"edge\"><title>F101&#45;&gt;S011</title>\n",
       "<path fill=\"none\" stroke=\"black\" d=\"M614.861,-288.678C634.684,-300.187 662.974,-313.11 690.072,-313.11 690.072,-313.11 690.072,-313.11 998.814,-313.11 1018.57,-313.11 1040.59,-313.11 1058.68,-313.11\"/>\n",
       "<polygon fill=\"black\" stroke=\"black\" points=\"1058.82,-316.61 1068.82,-313.11 1058.82,-309.61 1058.82,-316.61\"/>\n",
       "<text text-anchor=\"middle\" x=\"848.443\" y=\"-315.91\" font-family=\"Times,serif\" font-size=\"14.00\">1</text>\n",
       "</g>\n",
       "<!-- F101&#45;&gt;S010 -->\n",
       "<g id=\"edge26\" class=\"edge\"><title>F101&#45;&gt;S010</title>\n",
       "<path fill=\"none\" stroke=\"black\" d=\"M615.504,-254.568C622.513,-251.083 630.223,-247.917 637.782,-246.11 643.196,-244.815 648.944,-244.732 654.573,-245.363\"/>\n",
       "<polygon fill=\"black\" stroke=\"black\" points=\"654.013,-248.818 664.477,-247.163 655.265,-241.931 654.013,-248.818\"/>\n",
       "<text text-anchor=\"middle\" x=\"641.282\" y=\"-248.91\" font-family=\"Times,serif\" font-size=\"14.00\">0</text>\n",
       "</g>\n",
       "<!-- F111&#45;&gt;F111 -->\n",
       "<g id=\"edge31\" class=\"edge\"><title>F111&#45;&gt;F111</title>\n",
       "<path fill=\"none\" stroke=\"black\" d=\"M363.878,-333.65C363.775,-344.218 367.024,-352.752 373.626,-352.752 377.855,-352.752 380.708,-349.25 382.186,-343.954\"/>\n",
       "<polygon fill=\"black\" stroke=\"black\" points=\"385.705,-343.985 383.373,-333.65 378.751,-343.183 385.705,-343.985\"/>\n",
       "<text text-anchor=\"middle\" x=\"373.626\" y=\"-355.552\" font-family=\"Times,serif\" font-size=\"14.00\">1</text>\n",
       "</g>\n",
       "<!-- F111&#45;&gt;F110 -->\n",
       "<g id=\"edge30\" class=\"edge\"><title>F111&#45;&gt;F110</title>\n",
       "<path fill=\"none\" stroke=\"black\" d=\"M404.044,-294.111C415.091,-290.731 427.836,-286.833 439.657,-283.217\"/>\n",
       "<polygon fill=\"black\" stroke=\"black\" points=\"440.773,-286.535 449.312,-280.263 438.725,-279.841 440.773,-286.535\"/>\n",
       "<text text-anchor=\"middle\" x=\"426.768\" y=\"-290.91\" font-family=\"Times,serif\" font-size=\"14.00\">0</text>\n",
       "</g>\n",
       "<!-- F100&#45;&gt;S001 -->\n",
       "<g id=\"edge25\" class=\"edge\"><title>F100&#45;&gt;S001</title>\n",
       "<path fill=\"none\" stroke=\"black\" d=\"M826.644,-206.039C862.406,-211.728 921.19,-221.08 959.45,-227.166\"/>\n",
       "<polygon fill=\"black\" stroke=\"black\" points=\"959.235,-230.676 969.661,-228.79 960.335,-223.763 959.235,-230.676\"/>\n",
       "<text text-anchor=\"middle\" x=\"898.234\" y=\"-224.91\" font-family=\"Times,serif\" font-size=\"14.00\">1</text>\n",
       "</g>\n",
       "<!-- F100&#45;&gt;S000 -->\n",
       "<g id=\"edge24\" class=\"edge\"><title>F100&#45;&gt;S000</title>\n",
       "<path fill=\"none\" stroke=\"black\" d=\"M822.342,-184.294C835.458,-176.031 851.365,-166.009 865.14,-157.33\"/>\n",
       "<polygon fill=\"black\" stroke=\"black\" points=\"867.238,-160.145 873.833,-151.853 863.507,-154.222 867.238,-160.145\"/>\n",
       "<text text-anchor=\"middle\" x=\"848.443\" y=\"-171.91\" font-family=\"Times,serif\" font-size=\"14.00\">0</text>\n",
       "</g>\n",
       "<!-- F110&#45;&gt;F101 -->\n",
       "<g id=\"edge29\" class=\"edge\"><title>F110&#45;&gt;F101</title>\n",
       "<path fill=\"none\" stroke=\"black\" d=\"M512.246,-271.11C522.448,-271.11 533.962,-271.11 544.823,-271.11\"/>\n",
       "<polygon fill=\"black\" stroke=\"black\" points=\"544.974,-274.61 554.974,-271.11 544.974,-267.61 544.974,-274.61\"/>\n",
       "<text text-anchor=\"middle\" x=\"533.701\" y=\"-273.91\" font-family=\"Times,serif\" font-size=\"14.00\">1</text>\n",
       "</g>\n",
       "<!-- F110&#45;&gt;F100 -->\n",
       "<g id=\"edge28\" class=\"edge\"><title>F110&#45;&gt;F100</title>\n",
       "<path fill=\"none\" stroke=\"black\" d=\"M507.15,-253.502C520.854,-245.049 538.302,-235.59 555.201,-230.11 621.91,-208.477 703.869,-202.751 752.259,-201.369\"/>\n",
       "<polygon fill=\"black\" stroke=\"black\" points=\"752.435,-204.866 762.35,-201.13 752.27,-197.868 752.435,-204.866\"/>\n",
       "<text text-anchor=\"middle\" x=\"641.282\" y=\"-213.91\" font-family=\"Times,serif\" font-size=\"14.00\">0</text>\n",
       "</g>\n",
       "</g>\n",
       "</svg>\n"
      ],
      "text/plain": [
       "<graphviz.dot.Digraph at 0x108e485c0>"
      ]
     },
     "execution_count": 37,
     "metadata": {},
     "output_type": "execute_result"
    }
   ],
   "source": [
    "dotObj_dfa(thirdlastis1)"
   ]
  },
  {
   "cell_type": "code",
   "execution_count": 38,
   "metadata": {
    "run_control": {
     "frozen": false,
     "read_only": false
    }
   },
   "outputs": [],
   "source": [
    "dped1=md2mc(src=\"File\", fname=\"pedagogical2.dfa\")\n",
    "#machines/dfafiles/pedagogical2.dfa"
   ]
  },
  {
   "cell_type": "code",
   "execution_count": 39,
   "metadata": {
    "run_control": {
     "frozen": false,
     "read_only": false
    }
   },
   "outputs": [
    {
     "data": {
      "image/svg+xml": [
       "<?xml version=\"1.0\" encoding=\"UTF-8\" standalone=\"no\"?>\n",
       "<!DOCTYPE svg PUBLIC \"-//W3C//DTD SVG 1.1//EN\"\n",
       " \"http://www.w3.org/Graphics/SVG/1.1/DTD/svg11.dtd\">\n",
       "<!-- Generated by graphviz version 2.38.0 (20140413.2041)\n",
       " -->\n",
       "<!-- Title: %3 Pages: 1 -->\n",
       "<svg width=\"473pt\" height=\"74pt\"\n",
       " viewBox=\"0.00 0.00 472.79 74.00\" xmlns=\"http://www.w3.org/2000/svg\" xmlns:xlink=\"http://www.w3.org/1999/xlink\">\n",
       "<g id=\"graph0\" class=\"graph\" transform=\"scale(1 1) rotate(0) translate(4 70)\">\n",
       "<title>%3</title>\n",
       "<polygon fill=\"white\" stroke=\"none\" points=\"-4,4 -4,-70 468.787,-70 468.787,4 -4,4\"/>\n",
       "<!-- EMPTY -->\n",
       "<g id=\"node1\" class=\"node\"><title>EMPTY</title>\n",
       "</g>\n",
       "<!-- I -->\n",
       "<g id=\"node3\" class=\"node\"><title>I</title>\n",
       "<ellipse fill=\"none\" stroke=\"black\" cx=\"109\" cy=\"-18\" rx=\"18\" ry=\"18\"/>\n",
       "<text text-anchor=\"middle\" x=\"109\" y=\"-13.8\" font-family=\"Times,serif\" font-size=\"14.00\">I</text>\n",
       "</g>\n",
       "<!-- EMPTY&#45;&gt;I -->\n",
       "<g id=\"edge1\" class=\"edge\"><title>EMPTY&#45;&gt;I</title>\n",
       "<path fill=\"none\" stroke=\"black\" d=\"M54.195,-18C62.6538,-18 72.0513,-18 80.5951,-18\"/>\n",
       "<polygon fill=\"black\" stroke=\"black\" points=\"80.8257,-21.5001 90.8257,-18 80.8257,-14.5001 80.8257,-21.5001\"/>\n",
       "</g>\n",
       "<!-- A -->\n",
       "<g id=\"node2\" class=\"node\"><title>A</title>\n",
       "<ellipse fill=\"none\" stroke=\"black\" cx=\"188\" cy=\"-48\" rx=\"18\" ry=\"18\"/>\n",
       "<text text-anchor=\"middle\" x=\"188\" y=\"-43.8\" font-family=\"Times,serif\" font-size=\"14.00\">A</text>\n",
       "</g>\n",
       "<!-- B -->\n",
       "<g id=\"node4\" class=\"node\"><title>B</title>\n",
       "<ellipse fill=\"none\" stroke=\"black\" cx=\"267\" cy=\"-31\" rx=\"18\" ry=\"18\"/>\n",
       "<text text-anchor=\"middle\" x=\"267\" y=\"-26.8\" font-family=\"Times,serif\" font-size=\"14.00\">B</text>\n",
       "</g>\n",
       "<!-- A&#45;&gt;B -->\n",
       "<g id=\"edge4\" class=\"edge\"><title>A&#45;&gt;B</title>\n",
       "<path fill=\"none\" stroke=\"black\" d=\"M206.354,-48.5543C213.997,-48.446 223.032,-47.834 231,-46 234.455,-45.2048 237.998,-44.0845 241.441,-42.8103\"/>\n",
       "<polygon fill=\"black\" stroke=\"black\" points=\"242.831,-46.023 250.722,-38.9536 240.144,-39.5589 242.831,-46.023\"/>\n",
       "<text text-anchor=\"middle\" x=\"227.5\" y=\"-49.8\" font-family=\"Times,serif\" font-size=\"14.00\">0</text>\n",
       "</g>\n",
       "<!-- A&#45;&gt;B -->\n",
       "<g id=\"edge5\" class=\"edge\"><title>A&#45;&gt;B</title>\n",
       "<path fill=\"none\" stroke=\"black\" d=\"M202.907,-37.8326C209.051,-33.9464 216.56,-29.9759 224,-28 228.782,-26.73 233.972,-26.3413 239.019,-26.4566\"/>\n",
       "<polygon fill=\"black\" stroke=\"black\" points=\"238.749,-29.9462 249.003,-27.2805 239.325,-22.9699 238.749,-29.9462\"/>\n",
       "<text text-anchor=\"middle\" x=\"227.5\" y=\"-30.8\" font-family=\"Times,serif\" font-size=\"14.00\">1</text>\n",
       "</g>\n",
       "<!-- I&#45;&gt;A -->\n",
       "<g id=\"edge2\" class=\"edge\"><title>I&#45;&gt;A</title>\n",
       "<path fill=\"none\" stroke=\"black\" d=\"M125.954,-24.216C136.279,-28.2385 149.943,-33.5621 161.726,-38.1528\"/>\n",
       "<polygon fill=\"black\" stroke=\"black\" points=\"160.478,-41.4228 171.066,-41.7919 163.019,-34.9004 160.478,-41.4228\"/>\n",
       "<text text-anchor=\"middle\" x=\"148.5\" y=\"-35.8\" font-family=\"Times,serif\" font-size=\"14.00\">0</text>\n",
       "</g>\n",
       "<!-- I&#45;&gt;B -->\n",
       "<g id=\"edge3\" class=\"edge\"><title>I&#45;&gt;B</title>\n",
       "<path fill=\"none\" stroke=\"black\" d=\"M126.422,-13.1049C145.63,-8.07317 178.325,-1.67034 206,-7 218.146,-9.33908 230.958,-14.1148 241.611,-18.7945\"/>\n",
       "<polygon fill=\"black\" stroke=\"black\" points=\"240.159,-21.9791 250.705,-22.9926 243.093,-15.6236 240.159,-21.9791\"/>\n",
       "<text text-anchor=\"middle\" x=\"188\" y=\"-9.8\" font-family=\"Times,serif\" font-size=\"14.00\">1</text>\n",
       "</g>\n",
       "<!-- F1 -->\n",
       "<g id=\"node5\" class=\"node\"><title>F1</title>\n",
       "<ellipse fill=\"none\" stroke=\"black\" cx=\"351.447\" cy=\"-31\" rx=\"19.4029\" ry=\"19.4029\"/>\n",
       "<ellipse fill=\"none\" stroke=\"black\" cx=\"351.447\" cy=\"-31\" rx=\"23.3939\" ry=\"23.3939\"/>\n",
       "<text text-anchor=\"middle\" x=\"351.447\" y=\"-26.8\" font-family=\"Times,serif\" font-size=\"14.00\">F1</text>\n",
       "</g>\n",
       "<!-- B&#45;&gt;F1 -->\n",
       "<g id=\"edge6\" class=\"edge\"><title>B&#45;&gt;F1</title>\n",
       "<path fill=\"none\" stroke=\"black\" d=\"M285.083,-31C294.448,-31 306.379,-31 317.478,-31\"/>\n",
       "<polygon fill=\"black\" stroke=\"black\" points=\"317.753,-34.5001 327.753,-31 317.753,-27.5001 317.753,-34.5001\"/>\n",
       "<text text-anchor=\"middle\" x=\"306.5\" y=\"-33.8\" font-family=\"Times,serif\" font-size=\"14.00\">1</text>\n",
       "</g>\n",
       "<!-- F2 -->\n",
       "<g id=\"node6\" class=\"node\"><title>F2</title>\n",
       "<ellipse fill=\"none\" stroke=\"black\" cx=\"441.341\" cy=\"-31\" rx=\"19.4029\" ry=\"19.4029\"/>\n",
       "<ellipse fill=\"none\" stroke=\"black\" cx=\"441.341\" cy=\"-31\" rx=\"23.3939\" ry=\"23.3939\"/>\n",
       "<text text-anchor=\"middle\" x=\"441.341\" y=\"-26.8\" font-family=\"Times,serif\" font-size=\"14.00\">F2</text>\n",
       "</g>\n",
       "<!-- F1&#45;&gt;F2 -->\n",
       "<g id=\"edge7\" class=\"edge\"><title>F1&#45;&gt;F2</title>\n",
       "<path fill=\"none\" stroke=\"black\" d=\"M375.082,-31C385.026,-31 396.892,-31 407.762,-31\"/>\n",
       "<polygon fill=\"black\" stroke=\"black\" points=\"407.783,-34.5001 417.782,-31 407.782,-27.5001 407.783,-34.5001\"/>\n",
       "<text text-anchor=\"middle\" x=\"396.394\" y=\"-33.8\" font-family=\"Times,serif\" font-size=\"14.00\">0</text>\n",
       "</g>\n",
       "<!-- F1&#45;&gt;F2 -->\n",
       "<g id=\"edge8\" class=\"edge\"><title>F1&#45;&gt;F2</title>\n",
       "<path fill=\"none\" stroke=\"black\" d=\"M372.461,-20.1126C378.808,-17.2076 385.977,-14.4696 392.894,-13 399.228,-11.6542 405.836,-12.565 412.038,-14.5475\"/>\n",
       "<polygon fill=\"black\" stroke=\"black\" points=\"410.774,-17.8118 421.354,-18.3747 413.434,-11.337 410.774,-17.8118\"/>\n",
       "<text text-anchor=\"middle\" x=\"396.394\" y=\"-15.8\" font-family=\"Times,serif\" font-size=\"14.00\">1</text>\n",
       "</g>\n",
       "</g>\n",
       "</svg>\n"
      ],
      "text/plain": [
       "<graphviz.dot.Digraph at 0x108e68e10>"
      ]
     },
     "execution_count": 39,
     "metadata": {},
     "output_type": "execute_result"
    }
   ],
   "source": [
    "dotObj_dfa(dped1)"
   ]
  },
  {
   "cell_type": "code",
   "execution_count": 40,
   "metadata": {
    "run_control": {
     "frozen": false,
     "read_only": false
    }
   },
   "outputs": [],
   "source": [
    "secondLastIs1 = md2mc('''\n",
    "!!------------------------------------------------------------\n",
    "!! This DFA looks for patterns of the form ....1.\n",
    "!! i.e., the second-last (counting from the end-point) is a 1\n",
    "!!\n",
    "!! DFAs find such patterns \"very stressful to handle\",\n",
    "!! as they are kept guessing of the form  'are we there yet?'\n",
    "!! 'are we seeing the second-last' ?\n",
    "!! They must keep all the failure options at hand. Even after\n",
    "!! a 'fleeting glimpse' of the second-last, more inputs can\n",
    "!! come barreling-in to make that \"lucky 1\" a non-second-last.\n",
    "!!\n",
    "!! We take 7 states in the DFA solution.\n",
    "!!------------------------------------------------------------\n",
    "\n",
    "DFA\n",
    "!!------------------------------------------------------------\n",
    "!! State : in ->  tostate !! comment\n",
    "!!------------------------------------------------------------\n",
    "\n",
    "I   :  0 ->  S0  !! Enter at init state I\n",
    "I   :  1 ->  S1  !! Record bit seen in state letter\n",
    "                     !! i.e., S0 means \"state after seeing a 0\"\n",
    "\t\t\t \n",
    "S0  :  0 ->  S00 !! continue recording input seen\n",
    "S0  :  1 ->  S01 !! in state-letter. This is a problem-specific\n",
    "                 !! way of compressing the input seen so far.\n",
    "\n",
    "S1  :  0 ->  F10 !! We now have a \"second last\" available!\n",
    "S1  :  1 ->  F11 !! Both F10 and F10 are \"F\" (final)\n",
    "\n",
    "S00 :  0 ->  S00 !! History of things seen is still 00\n",
    "S00 :  1 ->  S01 !! Remember 01 in the state\n",
    "\n",
    "S01 :  0 ->  F10 !! We again have a second-last of 1\n",
    "S01 :  1 ->  F11 !! We are in F11 because of 11 being last seen\n",
    "\n",
    "F10 :  0 ->  S00 !! The second-last 1 gets pushed-out\n",
    "F10 :  1 ->  S01 !! The second-last 1 gets pushed-out here too\n",
    "\n",
    "F11 :  0 ->  F10 !! Still we have a second-last 1\n",
    "F11 :  1 ->  F11 !! Stay in F11, as last two seen are 11\n",
    "\n",
    "!!------------------------------------------------------------\n",
    "''')"
   ]
  },
  {
   "cell_type": "code",
   "execution_count": null,
   "metadata": {
    "run_control": {
     "frozen": false,
     "read_only": false
    }
   },
   "outputs": [],
   "source": []
  },
  {
   "cell_type": "code",
   "execution_count": 41,
   "metadata": {
    "run_control": {
     "frozen": false,
     "read_only": false
    }
   },
   "outputs": [
    {
     "data": {
      "text/plain": [
       "'0101'"
      ]
     },
     "execution_count": 41,
     "metadata": {},
     "output_type": "execute_result"
    }
   ],
   "source": [
    "nthnumeric(20,['0','1'])"
   ]
  },
  {
   "cell_type": "code",
   "execution_count": 42,
   "metadata": {
    "run_control": {
     "frozen": false,
     "read_only": false
    }
   },
   "outputs": [
    {
     "data": {
      "text/plain": [
       "'S01'"
      ]
     },
     "execution_count": 42,
     "metadata": {},
     "output_type": "execute_result"
    }
   ],
   "source": [
    "run_dfa(secondLastIs1, '0101')"
   ]
  },
  {
   "cell_type": "code",
   "execution_count": 43,
   "metadata": {
    "run_control": {
     "frozen": false,
     "read_only": false
    }
   },
   "outputs": [
    {
     "data": {
      "text/plain": [
       "False"
      ]
     },
     "execution_count": 43,
     "metadata": {},
     "output_type": "execute_result"
    }
   ],
   "source": [
    "accepts_dfa(secondLastIs1, '0101')"
   ]
  },
  {
   "cell_type": "code",
   "execution_count": 44,
   "metadata": {
    "run_control": {
     "frozen": false,
     "read_only": false
    }
   },
   "outputs": [
    {
     "name": "stdout",
     "output_type": "stream",
     "text": [
      "This DFA rejects  \n",
      "This DFA rejects  0\n",
      "This DFA rejects  1\n",
      "This DFA rejects  00\n",
      "This DFA rejects  01\n",
      "This DFA accepts  10\n",
      "This DFA accepts  11\n",
      "This DFA rejects  000\n",
      "This DFA rejects  001\n",
      "This DFA accepts  010\n",
      "This DFA accepts  011\n",
      "This DFA rejects  100\n"
     ]
    }
   ],
   "source": [
    "tests = [ nthnumeric(i, ['0','1']) for i in range(12) ]\n",
    "for t in tests:\n",
    "    if accepts_dfa(secondLastIs1, t):\n",
    "        print(\"This DFA accepts \", t)\n",
    "    else:\n",
    "        print(\"This DFA rejects \", t)"
   ]
  },
  {
   "cell_type": "code",
   "execution_count": 45,
   "metadata": {
    "run_control": {
     "frozen": false,
     "read_only": false
    }
   },
   "outputs": [
    {
     "name": "stdout",
     "output_type": "stream",
     "text": [
      "Help on function run_dfa in module jove.Def_DFA:\n",
      "\n",
      "run_dfa(D, s)\n",
      "    In : D (consistent DFA)\n",
      "         s (string over D's sigma, including \"\")\n",
      "    Out: next state of D[\"q0\"] via string s\n",
      "\n"
     ]
    }
   ],
   "source": [
    "help(run_dfa)"
   ]
  },
  {
   "cell_type": "markdown",
   "metadata": {
    "run_control": {
     "frozen": false,
     "read_only": false
    }
   },
   "source": [
    "# Study DeMorgan's Law on DFA\n",
    "\n",
    "This is an extensive illustration of union, intersection and complementation, DFA minimization, isomorphism test, language equivalence test, and an application of DeMorgan's law\n",
    "\n",
    "## Define a DFA for \"odd 1s\" (over {0,1})"
   ]
  },
  {
   "cell_type": "code",
   "execution_count": 46,
   "metadata": {
    "run_control": {
     "frozen": false,
     "read_only": false
    }
   },
   "outputs": [],
   "source": [
    "dfaOdd1s = md2mc('''\n",
    "DFA\n",
    "I : 0 -> I\n",
    "I : 1 -> F\n",
    "F : 0 -> F \n",
    "F : 1 -> I\n",
    "''')"
   ]
  },
  {
   "cell_type": "code",
   "execution_count": 47,
   "metadata": {
    "run_control": {
     "frozen": false,
     "read_only": false
    }
   },
   "outputs": [
    {
     "data": {
      "image/svg+xml": [
       "<?xml version=\"1.0\" encoding=\"UTF-8\" standalone=\"no\"?>\n",
       "<!DOCTYPE svg PUBLIC \"-//W3C//DTD SVG 1.1//EN\"\n",
       " \"http://www.w3.org/Graphics/SVG/1.1/DTD/svg11.dtd\">\n",
       "<!-- Generated by graphviz version 2.38.0 (20140413.2041)\n",
       " -->\n",
       "<!-- Title: %3 Pages: 1 -->\n",
       "<svg width=\"222pt\" height=\"84pt\"\n",
       " viewBox=\"0.00 0.00 222.00 84.00\" xmlns=\"http://www.w3.org/2000/svg\" xmlns:xlink=\"http://www.w3.org/1999/xlink\">\n",
       "<g id=\"graph0\" class=\"graph\" transform=\"scale(1 1) rotate(0) translate(4 80)\">\n",
       "<title>%3</title>\n",
       "<polygon fill=\"white\" stroke=\"none\" points=\"-4,4 -4,-80 218,-80 218,4 -4,4\"/>\n",
       "<!-- EMPTY -->\n",
       "<g id=\"node1\" class=\"node\"><title>EMPTY</title>\n",
       "</g>\n",
       "<!-- I -->\n",
       "<g id=\"node2\" class=\"node\"><title>I</title>\n",
       "<ellipse fill=\"none\" stroke=\"black\" cx=\"109\" cy=\"-22\" rx=\"18\" ry=\"18\"/>\n",
       "<text text-anchor=\"middle\" x=\"109\" y=\"-17.8\" font-family=\"Times,serif\" font-size=\"14.00\">I</text>\n",
       "</g>\n",
       "<!-- EMPTY&#45;&gt;I -->\n",
       "<g id=\"edge1\" class=\"edge\"><title>EMPTY&#45;&gt;I</title>\n",
       "<path fill=\"none\" stroke=\"black\" d=\"M54.195,-22C62.6538,-22 72.0513,-22 80.5951,-22\"/>\n",
       "<polygon fill=\"black\" stroke=\"black\" points=\"80.8257,-25.5001 90.8257,-22 80.8257,-18.5001 80.8257,-25.5001\"/>\n",
       "</g>\n",
       "<!-- I&#45;&gt;I -->\n",
       "<g id=\"edge2\" class=\"edge\"><title>I&#45;&gt;I</title>\n",
       "<path fill=\"none\" stroke=\"black\" d=\"M102.621,-39.0373C101.319,-48.8579 103.445,-58 109,-58 112.472,-58 114.604,-54.4289 115.398,-49.3529\"/>\n",
       "<polygon fill=\"black\" stroke=\"black\" points=\"118.897,-49.031 115.379,-39.0373 111.897,-49.0435 118.897,-49.031\"/>\n",
       "<text text-anchor=\"middle\" x=\"109\" y=\"-60.8\" font-family=\"Times,serif\" font-size=\"14.00\">0</text>\n",
       "</g>\n",
       "<!-- F -->\n",
       "<g id=\"node3\" class=\"node\"><title>F</title>\n",
       "<ellipse fill=\"none\" stroke=\"black\" cx=\"192\" cy=\"-22\" rx=\"18\" ry=\"18\"/>\n",
       "<ellipse fill=\"none\" stroke=\"black\" cx=\"192\" cy=\"-22\" rx=\"22\" ry=\"22\"/>\n",
       "<text text-anchor=\"middle\" x=\"192\" y=\"-17.8\" font-family=\"Times,serif\" font-size=\"14.00\">F</text>\n",
       "</g>\n",
       "<!-- I&#45;&gt;F -->\n",
       "<g id=\"edge3\" class=\"edge\"><title>I&#45;&gt;F</title>\n",
       "<path fill=\"none\" stroke=\"black\" d=\"M127.178,-22C136.61,-22 148.601,-22 159.637,-22\"/>\n",
       "<polygon fill=\"black\" stroke=\"black\" points=\"159.811,-25.5001 169.811,-22 159.811,-18.5001 159.811,-25.5001\"/>\n",
       "<text text-anchor=\"middle\" x=\"148.5\" y=\"-24.8\" font-family=\"Times,serif\" font-size=\"14.00\">1</text>\n",
       "</g>\n",
       "<!-- F&#45;&gt;I -->\n",
       "<g id=\"edge5\" class=\"edge\"><title>F&#45;&gt;I</title>\n",
       "<path fill=\"none\" stroke=\"black\" d=\"M173.45,-9.63813C165.02,-5.13585 154.669,-1.65948 145,-4 141.26,-4.9053 137.472,-6.28328 133.838,-7.8822\"/>\n",
       "<polygon fill=\"black\" stroke=\"black\" points=\"132.086,-4.84541 124.717,-12.4577 135.225,-11.1023 132.086,-4.84541\"/>\n",
       "<text text-anchor=\"middle\" x=\"148.5\" y=\"-6.8\" font-family=\"Times,serif\" font-size=\"14.00\">1</text>\n",
       "</g>\n",
       "<!-- F&#45;&gt;F -->\n",
       "<g id=\"edge4\" class=\"edge\"><title>F&#45;&gt;F</title>\n",
       "<path fill=\"none\" stroke=\"black\" d=\"M184.317,-42.9908C183.369,-53.0872 185.93,-62 192,-62 195.889,-62 198.337,-58.3422 199.346,-53.0587\"/>\n",
       "<polygon fill=\"black\" stroke=\"black\" points=\"202.846,-53.1023 199.683,-42.9908 195.85,-52.868 202.846,-53.1023\"/>\n",
       "<text text-anchor=\"middle\" x=\"192\" y=\"-64.8\" font-family=\"Times,serif\" font-size=\"14.00\">0</text>\n",
       "</g>\n",
       "</g>\n",
       "</svg>\n"
      ],
      "text/plain": [
       "<graphviz.dot.Digraph at 0x109277ba8>"
      ]
     },
     "execution_count": 47,
     "metadata": {},
     "output_type": "execute_result"
    }
   ],
   "source": [
    "dotObj_dfa(dfaOdd1s)"
   ]
  },
  {
   "cell_type": "markdown",
   "metadata": {},
   "source": [
    "## Define a DFA for \"ends in 0101\""
   ]
  },
  {
   "cell_type": "code",
   "execution_count": 48,
   "metadata": {
    "run_control": {
     "frozen": false,
     "read_only": false
    }
   },
   "outputs": [],
   "source": [
    "ends0101 = md2mc('''\n",
    "DFA \n",
    "I     : 0 -> S0  \n",
    "I     : 1 -> I \n",
    "S0    : 0 -> S0 \n",
    "S0    : 1 -> S01 \n",
    "S01   : 0 -> S010 \n",
    "S01   : 1 -> I \n",
    "S010  : 0 -> S0 \n",
    "S010  : 1 -> F0101 \n",
    "F0101 : 0 -> S010 \n",
    "F0101 : 1 -> I \n",
    "''')"
   ]
  },
  {
   "cell_type": "code",
   "execution_count": 49,
   "metadata": {
    "run_control": {
     "frozen": false,
     "read_only": false
    }
   },
   "outputs": [
    {
     "data": {
      "image/svg+xml": [
       "<?xml version=\"1.0\" encoding=\"UTF-8\" standalone=\"no\"?>\n",
       "<!DOCTYPE svg PUBLIC \"-//W3C//DTD SVG 1.1//EN\"\n",
       " \"http://www.w3.org/Graphics/SVG/1.1/DTD/svg11.dtd\">\n",
       "<!-- Generated by graphviz version 2.38.0 (20140413.2041)\n",
       " -->\n",
       "<!-- Title: %3 Pages: 1 -->\n",
       "<svg width=\"524pt\" height=\"142pt\"\n",
       " viewBox=\"0.00 0.00 523.64 141.58\" xmlns=\"http://www.w3.org/2000/svg\" xmlns:xlink=\"http://www.w3.org/1999/xlink\">\n",
       "<g id=\"graph0\" class=\"graph\" transform=\"scale(1 1) rotate(0) translate(4 137.581)\">\n",
       "<title>%3</title>\n",
       "<polygon fill=\"white\" stroke=\"none\" points=\"-4,4 -4,-137.581 519.636,-137.581 519.636,4 -4,4\"/>\n",
       "<!-- EMPTY -->\n",
       "<g id=\"node1\" class=\"node\"><title>EMPTY</title>\n",
       "</g>\n",
       "<!-- I -->\n",
       "<g id=\"node4\" class=\"node\"><title>I</title>\n",
       "<ellipse fill=\"none\" stroke=\"black\" cx=\"109\" cy=\"-50.7121\" rx=\"18\" ry=\"18\"/>\n",
       "<text text-anchor=\"middle\" x=\"109\" y=\"-46.5121\" font-family=\"Times,serif\" font-size=\"14.00\">I</text>\n",
       "</g>\n",
       "<!-- EMPTY&#45;&gt;I -->\n",
       "<g id=\"edge1\" class=\"edge\"><title>EMPTY&#45;&gt;I</title>\n",
       "<path fill=\"none\" stroke=\"black\" d=\"M54.195,-50.7121C62.6538,-50.7121 72.0513,-50.7121 80.5951,-50.7121\"/>\n",
       "<polygon fill=\"black\" stroke=\"black\" points=\"80.8257,-54.2122 90.8257,-50.7121 80.8257,-47.2122 80.8257,-54.2122\"/>\n",
       "</g>\n",
       "<!-- S0 -->\n",
       "<g id=\"node2\" class=\"node\"><title>S0</title>\n",
       "<ellipse fill=\"none\" stroke=\"black\" cx=\"189.447\" cy=\"-50.7121\" rx=\"19.3939\" ry=\"19.3939\"/>\n",
       "<text text-anchor=\"middle\" x=\"189.447\" y=\"-46.5121\" font-family=\"Times,serif\" font-size=\"14.00\">S0</text>\n",
       "</g>\n",
       "<!-- S0&#45;&gt;S0 -->\n",
       "<g id=\"edge4\" class=\"edge\"><title>S0&#45;&gt;S0</title>\n",
       "<path fill=\"none\" stroke=\"black\" d=\"M182.306,-68.8217C180.973,-78.8886 183.353,-88.1589 189.447,-88.1589 193.351,-88.1589 195.731,-84.3544 196.586,-78.9732\"/>\n",
       "<polygon fill=\"black\" stroke=\"black\" points=\"200.086,-78.8223 196.588,-68.8217 193.086,-78.8211 200.086,-78.8223\"/>\n",
       "<text text-anchor=\"middle\" x=\"189.447\" y=\"-90.9589\" font-family=\"Times,serif\" font-size=\"14.00\">0</text>\n",
       "</g>\n",
       "<!-- S01 -->\n",
       "<g id=\"node3\" class=\"node\"><title>S01</title>\n",
       "<ellipse fill=\"none\" stroke=\"black\" cx=\"275.762\" cy=\"-109.712\" rx=\"23.7379\" ry=\"23.7379\"/>\n",
       "<text text-anchor=\"middle\" x=\"275.762\" y=\"-105.512\" font-family=\"Times,serif\" font-size=\"14.00\">S01</text>\n",
       "</g>\n",
       "<!-- S0&#45;&gt;S01 -->\n",
       "<g id=\"edge5\" class=\"edge\"><title>S0&#45;&gt;S01</title>\n",
       "<path fill=\"none\" stroke=\"black\" d=\"M205.912,-61.5336C217.565,-69.6882 233.842,-81.0776 247.643,-90.7354\"/>\n",
       "<polygon fill=\"black\" stroke=\"black\" points=\"245.653,-93.6148 255.853,-96.4805 249.667,-87.8795 245.653,-93.6148\"/>\n",
       "<text text-anchor=\"middle\" x=\"230.394\" y=\"-83.5121\" font-family=\"Times,serif\" font-size=\"14.00\">1</text>\n",
       "</g>\n",
       "<!-- S01&#45;&gt;I -->\n",
       "<g id=\"edge7\" class=\"edge\"><title>S01&#45;&gt;I</title>\n",
       "<path fill=\"none\" stroke=\"black\" d=\"M252.132,-114.874C230.234,-118.751 196.551,-121.71 170,-110.712 151.854,-103.196 136.335,-87.2339 125.628,-73.6623\"/>\n",
       "<polygon fill=\"black\" stroke=\"black\" points=\"128.399,-71.5237 119.603,-65.6178 122.796,-75.72 128.399,-71.5237\"/>\n",
       "<text text-anchor=\"middle\" x=\"189.447\" y=\"-120.512\" font-family=\"Times,serif\" font-size=\"14.00\">1</text>\n",
       "</g>\n",
       "<!-- S010 -->\n",
       "<g id=\"node5\" class=\"node\"><title>S010</title>\n",
       "<ellipse fill=\"none\" stroke=\"black\" cx=\"370.921\" cy=\"-66.7121\" rx=\"28.0822\" ry=\"28.0822\"/>\n",
       "<text text-anchor=\"middle\" x=\"370.921\" y=\"-62.5121\" font-family=\"Times,serif\" font-size=\"14.00\">S010</text>\n",
       "</g>\n",
       "<!-- S01&#45;&gt;S010 -->\n",
       "<g id=\"edge6\" class=\"edge\"><title>S01&#45;&gt;S010</title>\n",
       "<path fill=\"none\" stroke=\"black\" d=\"M297.902,-99.9547C309.024,-94.8208 322.938,-88.3984 335.563,-82.5709\"/>\n",
       "<polygon fill=\"black\" stroke=\"black\" points=\"337.286,-85.6305 344.899,-78.2618 334.353,-79.2749 337.286,-85.6305\"/>\n",
       "<text text-anchor=\"middle\" x=\"321.131\" y=\"-94.5121\" font-family=\"Times,serif\" font-size=\"14.00\">0</text>\n",
       "</g>\n",
       "<!-- I&#45;&gt;S0 -->\n",
       "<g id=\"edge2\" class=\"edge\"><title>I&#45;&gt;S0</title>\n",
       "<path fill=\"none\" stroke=\"black\" d=\"M127.022,-50.7121C136.583,-50.7121 148.77,-50.7121 159.763,-50.7121\"/>\n",
       "<polygon fill=\"black\" stroke=\"black\" points=\"159.813,-54.2122 169.813,-50.7121 159.813,-47.2122 159.813,-54.2122\"/>\n",
       "<text text-anchor=\"middle\" x=\"148.5\" y=\"-53.5121\" font-family=\"Times,serif\" font-size=\"14.00\">0</text>\n",
       "</g>\n",
       "<!-- I&#45;&gt;I -->\n",
       "<g id=\"edge3\" class=\"edge\"><title>I&#45;&gt;I</title>\n",
       "<path fill=\"none\" stroke=\"black\" d=\"M102.621,-67.7494C101.319,-77.57 103.445,-86.7121 109,-86.7121 112.472,-86.7121 114.604,-83.1409 115.398,-78.065\"/>\n",
       "<polygon fill=\"black\" stroke=\"black\" points=\"118.897,-77.7431 115.379,-67.7494 111.897,-77.7556 118.897,-77.7431\"/>\n",
       "<text text-anchor=\"middle\" x=\"109\" y=\"-89.5121\" font-family=\"Times,serif\" font-size=\"14.00\">1</text>\n",
       "</g>\n",
       "<!-- S010&#45;&gt;S0 -->\n",
       "<g id=\"edge8\" class=\"edge\"><title>S010&#45;&gt;S0</title>\n",
       "<path fill=\"none\" stroke=\"black\" d=\"M342.458,-64.2638C309.094,-61.2894 253.074,-56.2952 219.156,-53.2715\"/>\n",
       "<polygon fill=\"black\" stroke=\"black\" points=\"219.249,-49.766 208.978,-52.3641 218.627,-56.7383 219.249,-49.766\"/>\n",
       "<text text-anchor=\"middle\" x=\"275.762\" y=\"-63.5121\" font-family=\"Times,serif\" font-size=\"14.00\">0</text>\n",
       "</g>\n",
       "<!-- F0101 -->\n",
       "<g id=\"node6\" class=\"node\"><title>F0101</title>\n",
       "<ellipse fill=\"none\" stroke=\"black\" cx=\"478.924\" cy=\"-36.7121\" rx=\"32.9021\" ry=\"32.9021\"/>\n",
       "<ellipse fill=\"none\" stroke=\"black\" cx=\"478.924\" cy=\"-36.7121\" rx=\"36.9254\" ry=\"36.9254\"/>\n",
       "<text text-anchor=\"middle\" x=\"478.924\" y=\"-32.5121\" font-family=\"Times,serif\" font-size=\"14.00\">F0101</text>\n",
       "</g>\n",
       "<!-- S010&#45;&gt;F0101 -->\n",
       "<g id=\"edge9\" class=\"edge\"><title>S010&#45;&gt;F0101</title>\n",
       "<path fill=\"none\" stroke=\"black\" d=\"M398.397,-59.2192C409.032,-56.2092 421.588,-52.6558 433.543,-49.2725\"/>\n",
       "<polygon fill=\"black\" stroke=\"black\" points=\"434.719,-52.5772 443.388,-46.4862 432.812,-45.8417 434.719,-52.5772\"/>\n",
       "<text text-anchor=\"middle\" x=\"420.712\" y=\"-56.5121\" font-family=\"Times,serif\" font-size=\"14.00\">1</text>\n",
       "</g>\n",
       "<!-- F0101&#45;&gt;I -->\n",
       "<g id=\"edge11\" class=\"edge\"><title>F0101&#45;&gt;I</title>\n",
       "<path fill=\"none\" stroke=\"black\" d=\"M445.314,-20.9853C424.751,-12.4857 397.363,-3.71207 371.921,-3.71207 188.447,-3.71207 188.447,-3.71207 188.447,-3.71207 165.942,-3.71207 144.308,-18.1221 129.48,-30.9841\"/>\n",
       "<polygon fill=\"black\" stroke=\"black\" points=\"126.98,-28.528 121.981,-37.8691 131.714,-33.6846 126.98,-28.528\"/>\n",
       "<text text-anchor=\"middle\" x=\"275.762\" y=\"-6.51207\" font-family=\"Times,serif\" font-size=\"14.00\">1</text>\n",
       "</g>\n",
       "<!-- F0101&#45;&gt;S010 -->\n",
       "<g id=\"edge10\" class=\"edge\"><title>F0101&#45;&gt;S010</title>\n",
       "<path fill=\"none\" stroke=\"black\" d=\"M442.376,-31.5488C433.973,-31.4149 425.152,-32.1899 417.212,-34.7121 411.568,-36.5045 406.023,-39.2825 400.854,-42.4692\"/>\n",
       "<polygon fill=\"black\" stroke=\"black\" points=\"398.856,-39.5953 392.559,-48.1159 402.795,-45.3818 398.856,-39.5953\"/>\n",
       "<text text-anchor=\"middle\" x=\"420.712\" y=\"-37.5121\" font-family=\"Times,serif\" font-size=\"14.00\">0</text>\n",
       "</g>\n",
       "</g>\n",
       "</svg>\n"
      ],
      "text/plain": [
       "<graphviz.dot.Digraph at 0x1092774a8>"
      ]
     },
     "execution_count": 49,
     "metadata": {},
     "output_type": "execute_result"
    }
   ],
   "source": [
    "dotObj_dfa(ends0101)"
   ]
  },
  {
   "cell_type": "markdown",
   "metadata": {},
   "source": [
    "## Now produce a DFA for the union\n",
    "\n",
    "Union of \"odd 1s\" and \"ends in 0101\"\n"
   ]
  },
  {
   "cell_type": "code",
   "execution_count": 50,
   "metadata": {
    "run_control": {
     "frozen": false,
     "read_only": false
    }
   },
   "outputs": [],
   "source": [
    "odd1sORends0101 = union_dfa(dfaOdd1s,ends0101)"
   ]
  },
  {
   "cell_type": "code",
   "execution_count": 51,
   "metadata": {
    "run_control": {
     "frozen": false,
     "read_only": false
    }
   },
   "outputs": [
    {
     "data": {
      "image/svg+xml": [
       "<?xml version=\"1.0\" encoding=\"UTF-8\" standalone=\"no\"?>\n",
       "<!DOCTYPE svg PUBLIC \"-//W3C//DTD SVG 1.1//EN\"\n",
       " \"http://www.w3.org/Graphics/SVG/1.1/DTD/svg11.dtd\">\n",
       "<!-- Generated by graphviz version 2.38.0 (20140413.2041)\n",
       " -->\n",
       "<!-- Title: %3 Pages: 1 -->\n",
       "<svg width=\"1064pt\" height=\"455pt\"\n",
       " viewBox=\"0.00 0.00 1063.53 455.00\" xmlns=\"http://www.w3.org/2000/svg\" xmlns:xlink=\"http://www.w3.org/1999/xlink\">\n",
       "<g id=\"graph0\" class=\"graph\" transform=\"scale(1 1) rotate(0) translate(4 451)\">\n",
       "<title>%3</title>\n",
       "<polygon fill=\"white\" stroke=\"none\" points=\"-4,4 -4,-451 1059.53,-451 1059.53,4 -4,4\"/>\n",
       "<!-- EMPTY -->\n",
       "<g id=\"node1\" class=\"node\"><title>EMPTY</title>\n",
       "</g>\n",
       "<!-- \\(I_I\\) -->\n",
       "<g id=\"node4\" class=\"node\"><title>\\(I_I\\)</title>\n",
       "<ellipse fill=\"none\" stroke=\"black\" cx=\"117.308\" cy=\"-96\" rx=\"26.118\" ry=\"26.118\"/>\n",
       "<text text-anchor=\"middle\" x=\"117.308\" y=\"-91.8\" font-family=\"Times,serif\" font-size=\"14.00\">(I_I)</text>\n",
       "</g>\n",
       "<!-- EMPTY&#45;&gt;\\(I_I\\) -->\n",
       "<g id=\"edge1\" class=\"edge\"><title>EMPTY&#45;&gt;\\(I_I\\)</title>\n",
       "<path fill=\"none\" stroke=\"black\" d=\"M54.0178,-96C62.3552,-96 71.7368,-96 80.64,-96\"/>\n",
       "<polygon fill=\"black\" stroke=\"black\" points=\"80.7808,-99.5001 90.7807,-96 80.7807,-92.5001 80.7808,-99.5001\"/>\n",
       "</g>\n",
       "<!-- \\(I_S0\\) -->\n",
       "<g id=\"node2\" class=\"node\"><title>\\(I_S0\\)</title>\n",
       "<ellipse fill=\"none\" stroke=\"black\" cx=\"219.32\" cy=\"-277\" rx=\"32.9081\" ry=\"32.9081\"/>\n",
       "<text text-anchor=\"middle\" x=\"219.32\" y=\"-272.8\" font-family=\"Times,serif\" font-size=\"14.00\">(I_S0)</text>\n",
       "</g>\n",
       "<!-- \\(I_S0\\)&#45;&gt;\\(I_S0\\) -->\n",
       "<g id=\"edge4\" class=\"edge\"><title>\\(I_S0\\)&#45;&gt;\\(I_S0\\)</title>\n",
       "<path fill=\"none\" stroke=\"black\" d=\"M209.198,-308.193C209.09,-318.987 212.465,-327.703 219.32,-327.703 223.819,-327.703 226.819,-323.949 228.319,-318.318\"/>\n",
       "<polygon fill=\"black\" stroke=\"black\" points=\"231.818,-318.518 229.443,-308.193 224.861,-317.746 231.818,-318.518\"/>\n",
       "<text text-anchor=\"middle\" x=\"219.32\" y=\"-330.503\" font-family=\"Times,serif\" font-size=\"14.00\">0</text>\n",
       "</g>\n",
       "<!-- \\(F_S01\\) -->\n",
       "<g id=\"node8\" class=\"node\"><title>\\(F_S01\\)</title>\n",
       "<ellipse fill=\"none\" stroke=\"black\" cx=\"338.122\" cy=\"-277\" rx=\"39.1881\" ry=\"39.1881\"/>\n",
       "<ellipse fill=\"none\" stroke=\"black\" cx=\"338.122\" cy=\"-277\" rx=\"43.1973\" ry=\"43.1973\"/>\n",
       "<text text-anchor=\"middle\" x=\"338.122\" y=\"-272.8\" font-family=\"Times,serif\" font-size=\"14.00\">(F_S01)</text>\n",
       "</g>\n",
       "<!-- \\(I_S0\\)&#45;&gt;\\(F_S01\\) -->\n",
       "<g id=\"edge6\" class=\"edge\"><title>\\(I_S0\\)&#45;&gt;\\(F_S01\\)</title>\n",
       "<path fill=\"none\" stroke=\"black\" d=\"M252.237,-277C262.269,-277 273.625,-277 284.691,-277\"/>\n",
       "<polygon fill=\"black\" stroke=\"black\" points=\"284.727,-280.5 294.727,-277 284.727,-273.5 284.727,-280.5\"/>\n",
       "<text text-anchor=\"middle\" x=\"273.524\" y=\"-279.8\" font-family=\"Times,serif\" font-size=\"14.00\">1</text>\n",
       "</g>\n",
       "<!-- \\(I_S01\\) -->\n",
       "<g id=\"node3\" class=\"node\"><title>\\(I_S01\\)</title>\n",
       "<ellipse fill=\"none\" stroke=\"black\" cx=\"732.583\" cy=\"-200\" rx=\"37.2507\" ry=\"37.2507\"/>\n",
       "<text text-anchor=\"middle\" x=\"732.583\" y=\"-195.8\" font-family=\"Times,serif\" font-size=\"14.00\">(I_S01)</text>\n",
       "</g>\n",
       "<!-- \\(I_S010\\) -->\n",
       "<g id=\"node5\" class=\"node\"><title>\\(I_S010\\)</title>\n",
       "<ellipse fill=\"none\" stroke=\"black\" cx=\"867.099\" cy=\"-305\" rx=\"41.5938\" ry=\"41.5938\"/>\n",
       "<text text-anchor=\"middle\" x=\"867.099\" y=\"-300.8\" font-family=\"Times,serif\" font-size=\"14.00\">(I_S010)</text>\n",
       "</g>\n",
       "<!-- \\(I_S01\\)&#45;&gt;\\(I_S010\\) -->\n",
       "<g id=\"edge2\" class=\"edge\"><title>\\(I_S01\\)&#45;&gt;\\(I_S010\\)</title>\n",
       "<path fill=\"none\" stroke=\"black\" d=\"M769.198,-207.271C782.117,-211.087 796.291,-216.746 807.552,-225 820.42,-234.431 831.645,-247.521 840.73,-260.384\"/>\n",
       "<polygon fill=\"black\" stroke=\"black\" points=\"837.891,-262.433 846.387,-268.763 843.692,-258.516 837.891,-262.433\"/>\n",
       "<text text-anchor=\"middle\" x=\"804.052\" y=\"-227.8\" font-family=\"Times,serif\" font-size=\"14.00\">0</text>\n",
       "</g>\n",
       "<!-- \\(F_I\\) -->\n",
       "<g id=\"node7\" class=\"node\"><title>\\(F_I\\)</title>\n",
       "<ellipse fill=\"none\" stroke=\"black\" cx=\"867.099\" cy=\"-131\" rx=\"28.0917\" ry=\"28.0917\"/>\n",
       "<ellipse fill=\"none\" stroke=\"black\" cx=\"867.099\" cy=\"-131\" rx=\"32.0649\" ry=\"32.0649\"/>\n",
       "<text text-anchor=\"middle\" x=\"867.099\" y=\"-126.8\" font-family=\"Times,serif\" font-size=\"14.00\">(F_I)</text>\n",
       "</g>\n",
       "<!-- \\(I_S01\\)&#45;&gt;\\(F_I\\) -->\n",
       "<g id=\"edge7\" class=\"edge\"><title>\\(I_S01\\)&#45;&gt;\\(F_I\\)</title>\n",
       "<path fill=\"none\" stroke=\"black\" d=\"M766,-183.121C785.051,-173.201 809.203,-160.625 829.01,-150.312\"/>\n",
       "<polygon fill=\"black\" stroke=\"black\" points=\"830.803,-153.324 838.056,-145.601 827.57,-147.116 830.803,-153.324\"/>\n",
       "<text text-anchor=\"middle\" x=\"804.052\" y=\"-166.8\" font-family=\"Times,serif\" font-size=\"14.00\">1</text>\n",
       "</g>\n",
       "<!-- \\(I_I\\)&#45;&gt;\\(I_S0\\) -->\n",
       "<g id=\"edge15\" class=\"edge\"><title>\\(I_I\\)&#45;&gt;\\(I_S0\\)</title>\n",
       "<path fill=\"none\" stroke=\"black\" d=\"M128.535,-119.857C136.841,-138.677 149.178,-165.426 161.617,-188 171.613,-206.142 183.84,-225.619 194.377,-241.714\"/>\n",
       "<polygon fill=\"black\" stroke=\"black\" points=\"191.601,-243.861 200.033,-250.277 197.442,-240.003 191.601,-243.861\"/>\n",
       "<text text-anchor=\"middle\" x=\"165.117\" y=\"-203.8\" font-family=\"Times,serif\" font-size=\"14.00\">0</text>\n",
       "</g>\n",
       "<!-- \\(I_I\\)&#45;&gt;\\(F_I\\) -->\n",
       "<g id=\"edge5\" class=\"edge\"><title>\\(I_I\\)&#45;&gt;\\(F_I\\)</title>\n",
       "<path fill=\"none\" stroke=\"black\" d=\"M143.794,-96C164.005,-96 192.97,-96 218.32,-96 218.32,-96 218.32,-96 403.721,-96 583.573,-96 628.756,-102.54 807.552,-122 813.175,-122.612 819.084,-123.376 824.897,-124.2\"/>\n",
       "<polygon fill=\"black\" stroke=\"black\" points=\"824.768,-127.719 835.174,-125.724 825.796,-120.795 824.768,-127.719\"/>\n",
       "<text text-anchor=\"middle\" x=\"471.741\" y=\"-100.8\" font-family=\"Times,serif\" font-size=\"14.00\">1</text>\n",
       "</g>\n",
       "<!-- \\(I_S010\\)&#45;&gt;\\(I_S0\\) -->\n",
       "<g id=\"edge19\" class=\"edge\"><title>\\(I_S010\\)&#45;&gt;\\(I_S0\\)</title>\n",
       "<path fill=\"none\" stroke=\"black\" d=\"M847.776,-342.023C826.154,-379.826 786.36,-433 733.583,-433 337.122,-433 337.122,-433 337.122,-433 279.754,-433 247.14,-364.564 231.656,-318.348\"/>\n",
       "<polygon fill=\"black\" stroke=\"black\" points=\"234.907,-317.023 228.521,-308.569 228.241,-319.16 234.907,-317.023\"/>\n",
       "<text text-anchor=\"middle\" x=\"540.761\" y=\"-435.8\" font-family=\"Times,serif\" font-size=\"14.00\">0</text>\n",
       "</g>\n",
       "<!-- \\(F_F0101\\) -->\n",
       "<g id=\"node10\" class=\"node\"><title>\\(F_F0101\\)</title>\n",
       "<ellipse fill=\"none\" stroke=\"black\" cx=\"1003.59\" cy=\"-305\" rx=\"47.8885\" ry=\"47.8885\"/>\n",
       "<ellipse fill=\"none\" stroke=\"black\" cx=\"1003.59\" cy=\"-305\" rx=\"51.8841\" ry=\"51.8841\"/>\n",
       "<text text-anchor=\"middle\" x=\"1003.59\" y=\"-300.8\" font-family=\"Times,serif\" font-size=\"14.00\">(F_F0101)</text>\n",
       "</g>\n",
       "<!-- \\(I_S010\\)&#45;&gt;\\(F_F0101\\) -->\n",
       "<g id=\"edge12\" class=\"edge\"><title>\\(I_S010\\)&#45;&gt;\\(F_F0101\\)</title>\n",
       "<path fill=\"none\" stroke=\"black\" d=\"M908.815,-305C919.114,-305 930.402,-305 941.468,-305\"/>\n",
       "<polygon fill=\"black\" stroke=\"black\" points=\"941.532,-308.5 951.532,-305 941.532,-301.5 941.532,-308.5\"/>\n",
       "<text text-anchor=\"middle\" x=\"930.146\" y=\"-307.8\" font-family=\"Times,serif\" font-size=\"14.00\">1</text>\n",
       "</g>\n",
       "<!-- \\(F_S0\\) -->\n",
       "<g id=\"node6\" class=\"node\"><title>\\(F_S0\\)</title>\n",
       "<ellipse fill=\"none\" stroke=\"black\" cx=\"600.938\" cy=\"-198\" rx=\"34.836\" ry=\"34.836\"/>\n",
       "<ellipse fill=\"none\" stroke=\"black\" cx=\"600.938\" cy=\"-198\" rx=\"38.8544\" ry=\"38.8544\"/>\n",
       "<text text-anchor=\"middle\" x=\"600.938\" y=\"-193.8\" font-family=\"Times,serif\" font-size=\"14.00\">(F_S0)</text>\n",
       "</g>\n",
       "<!-- \\(F_S0\\)&#45;&gt;\\(I_S01\\) -->\n",
       "<g id=\"edge18\" class=\"edge\"><title>\\(F_S0\\)&#45;&gt;\\(I_S01\\)</title>\n",
       "<path fill=\"none\" stroke=\"black\" d=\"M639.785,-198.584C653.995,-198.803 670.31,-199.055 685.207,-199.285\"/>\n",
       "<polygon fill=\"black\" stroke=\"black\" points=\"685.197,-202.785 695.25,-199.44 685.306,-195.786 685.197,-202.785\"/>\n",
       "<text text-anchor=\"middle\" x=\"661.115\" y=\"-201.8\" font-family=\"Times,serif\" font-size=\"14.00\">1</text>\n",
       "</g>\n",
       "<!-- \\(F_S0\\)&#45;&gt;\\(F_S0\\) -->\n",
       "<g id=\"edge11\" class=\"edge\"><title>\\(F_S0\\)&#45;&gt;\\(F_S0\\)</title>\n",
       "<path fill=\"none\" stroke=\"black\" d=\"M589.713,-235.067C590.048,-246.095 593.789,-254.677 600.938,-254.677 605.629,-254.677 608.853,-250.981 610.61,-245.324\"/>\n",
       "<polygon fill=\"black\" stroke=\"black\" points=\"614.126,-245.479 612.163,-235.067 607.205,-244.43 614.126,-245.479\"/>\n",
       "<text text-anchor=\"middle\" x=\"600.938\" y=\"-257.477\" font-family=\"Times,serif\" font-size=\"14.00\">0</text>\n",
       "</g>\n",
       "<!-- \\(F_I\\)&#45;&gt;\\(I_I\\) -->\n",
       "<g id=\"edge9\" class=\"edge\"><title>\\(F_I\\)&#45;&gt;\\(I_I\\)</title>\n",
       "<path fill=\"none\" stroke=\"black\" d=\"M845.303,-106.87C821.204,-81.7401 778.955,-46 733.583,-46 218.32,-46 218.32,-46 218.32,-46 191.891,-46 165.286,-60.1421 146.167,-73.384\"/>\n",
       "<polygon fill=\"black\" stroke=\"black\" points=\"143.979,-70.6473 137.937,-79.3507 148.088,-76.3146 143.979,-70.6473\"/>\n",
       "<text text-anchor=\"middle\" x=\"471.741\" y=\"-48.8\" font-family=\"Times,serif\" font-size=\"14.00\">1</text>\n",
       "</g>\n",
       "<!-- \\(F_I\\)&#45;&gt;\\(F_S0\\) -->\n",
       "<g id=\"edge10\" class=\"edge\"><title>\\(F_I\\)&#45;&gt;\\(F_S0\\)</title>\n",
       "<path fill=\"none\" stroke=\"black\" d=\"M834.89,-127.281C797.539,-124.004 733.648,-122.168 682.615,-140 666.567,-145.608 650.919,-155.493 637.741,-165.531\"/>\n",
       "<polygon fill=\"black\" stroke=\"black\" points=\"635.538,-162.811 629.874,-171.764 639.885,-168.297 635.538,-162.811\"/>\n",
       "<text text-anchor=\"middle\" x=\"732.583\" y=\"-142.8\" font-family=\"Times,serif\" font-size=\"14.00\">0</text>\n",
       "</g>\n",
       "<!-- \\(F_S01\\)&#45;&gt;\\(I_I\\) -->\n",
       "<g id=\"edge8\" class=\"edge\"><title>\\(F_S01\\)&#45;&gt;\\(I_I\\)</title>\n",
       "<path fill=\"none\" stroke=\"black\" d=\"M304.162,-249.736C261.037,-214.063 186.232,-152.186 145.929,-118.848\"/>\n",
       "<polygon fill=\"black\" stroke=\"black\" points=\"148.049,-116.059 138.113,-112.382 143.587,-121.453 148.049,-116.059\"/>\n",
       "<text text-anchor=\"middle\" x=\"219.32\" y=\"-207.8\" font-family=\"Times,serif\" font-size=\"14.00\">1</text>\n",
       "</g>\n",
       "<!-- \\(F_S010\\) -->\n",
       "<g id=\"node11\" class=\"node\"><title>\\(F_S010\\)</title>\n",
       "<ellipse fill=\"none\" stroke=\"black\" cx=\"471.741\" cy=\"-301\" rx=\"43.5388\" ry=\"43.5388\"/>\n",
       "<ellipse fill=\"none\" stroke=\"black\" cx=\"471.741\" cy=\"-301\" rx=\"47.5405\" ry=\"47.5405\"/>\n",
       "<text text-anchor=\"middle\" x=\"471.741\" y=\"-296.8\" font-family=\"Times,serif\" font-size=\"14.00\">(F_S010)</text>\n",
       "</g>\n",
       "<!-- \\(F_S01\\)&#45;&gt;\\(F_S010\\) -->\n",
       "<g id=\"edge3\" class=\"edge\"><title>\\(F_S01\\)&#45;&gt;\\(F_S010\\)</title>\n",
       "<path fill=\"none\" stroke=\"black\" d=\"M380.767,-284.594C391.602,-286.569 403.451,-288.73 414.889,-290.816\"/>\n",
       "<polygon fill=\"black\" stroke=\"black\" points=\"414.334,-294.272 424.799,-292.623 415.589,-287.386 414.334,-294.272\"/>\n",
       "<text text-anchor=\"middle\" x=\"402.721\" y=\"-291.8\" font-family=\"Times,serif\" font-size=\"14.00\">0</text>\n",
       "</g>\n",
       "<!-- \\(I_F0101\\) -->\n",
       "<g id=\"node9\" class=\"node\"><title>\\(I_F0101\\)</title>\n",
       "<ellipse fill=\"none\" stroke=\"black\" cx=\"732.583\" cy=\"-305\" rx=\"45.9398\" ry=\"45.9398\"/>\n",
       "<ellipse fill=\"none\" stroke=\"black\" cx=\"732.583\" cy=\"-305\" rx=\"49.9373\" ry=\"49.9373\"/>\n",
       "<text text-anchor=\"middle\" x=\"732.583\" y=\"-300.8\" font-family=\"Times,serif\" font-size=\"14.00\">(I_F0101)</text>\n",
       "</g>\n",
       "<!-- \\(I_F0101\\)&#45;&gt;\\(I_S010\\) -->\n",
       "<g id=\"edge17\" class=\"edge\"><title>\\(I_F0101\\)&#45;&gt;\\(I_S010\\)</title>\n",
       "<path fill=\"none\" stroke=\"black\" d=\"M782.927,-305C793.413,-305 804.505,-305 815.053,-305\"/>\n",
       "<polygon fill=\"black\" stroke=\"black\" points=\"815.377,-308.5 825.377,-305 815.377,-301.5 815.377,-308.5\"/>\n",
       "<text text-anchor=\"middle\" x=\"804.052\" y=\"-307.8\" font-family=\"Times,serif\" font-size=\"14.00\">0</text>\n",
       "</g>\n",
       "<!-- \\(I_F0101\\)&#45;&gt;\\(F_I\\) -->\n",
       "<g id=\"edge13\" class=\"edge\"><title>\\(I_F0101\\)&#45;&gt;\\(F_I\\)</title>\n",
       "<path fill=\"none\" stroke=\"black\" d=\"M772.513,-274.733C784.603,-264.215 797.405,-251.82 807.552,-239 824.27,-217.877 838.744,-191.306 849.118,-169.806\"/>\n",
       "<polygon fill=\"black\" stroke=\"black\" points=\"852.346,-171.166 853.448,-160.629 846.015,-168.179 852.346,-171.166\"/>\n",
       "<text text-anchor=\"middle\" x=\"804.052\" y=\"-250.8\" font-family=\"Times,serif\" font-size=\"14.00\">1</text>\n",
       "</g>\n",
       "<!-- \\(F_F0101\\)&#45;&gt;\\(I_I\\) -->\n",
       "<g id=\"edge20\" class=\"edge\"><title>\\(F_F0101\\)&#45;&gt;\\(I_I\\)</title>\n",
       "<path fill=\"none\" stroke=\"black\" d=\"M1002.23,-252.915C998.598,-165.804 977.33,-0 868.099,-0 218.32,-0 218.32,-0 218.32,-0 180.749,-0 151.81,-35.6967 134.946,-63.5553\"/>\n",
       "<polygon fill=\"black\" stroke=\"black\" points=\"131.883,-61.862 129.9,-72.2697 137.94,-65.37 131.883,-61.862\"/>\n",
       "<text text-anchor=\"middle\" x=\"540.761\" y=\"-2.8\" font-family=\"Times,serif\" font-size=\"14.00\">1</text>\n",
       "</g>\n",
       "<!-- \\(F_F0101\\)&#45;&gt;\\(F_S010\\) -->\n",
       "<g id=\"edge14\" class=\"edge\"><title>\\(F_F0101\\)&#45;&gt;\\(F_S010\\)</title>\n",
       "<path fill=\"none\" stroke=\"black\" d=\"M967.858,-342.721C942.699,-365.828 906.483,-391 868.099,-391 599.938,-391 599.938,-391 599.938,-391 564.788,-391 532.551,-367.814 509.325,-344.978\"/>\n",
       "<polygon fill=\"black\" stroke=\"black\" points=\"511.605,-342.304 502.108,-337.606 506.603,-347.201 511.605,-342.304\"/>\n",
       "<text text-anchor=\"middle\" x=\"732.583\" y=\"-393.8\" font-family=\"Times,serif\" font-size=\"14.00\">0</text>\n",
       "</g>\n",
       "<!-- \\(F_S010\\)&#45;&gt;\\(F_S0\\) -->\n",
       "<g id=\"edge21\" class=\"edge\"><title>\\(F_S010\\)&#45;&gt;\\(F_S0\\)</title>\n",
       "<path fill=\"none\" stroke=\"black\" d=\"M509.19,-271.484C525.846,-257.998 545.559,-242.034 562.35,-228.438\"/>\n",
       "<polygon fill=\"black\" stroke=\"black\" points=\"564.763,-230.987 570.332,-221.974 560.357,-225.547 564.763,-230.987\"/>\n",
       "<text text-anchor=\"middle\" x=\"540.761\" y=\"-249.8\" font-family=\"Times,serif\" font-size=\"14.00\">0</text>\n",
       "</g>\n",
       "<!-- \\(F_S010\\)&#45;&gt;\\(I_F0101\\) -->\n",
       "<g id=\"edge16\" class=\"edge\"><title>\\(F_S010\\)&#45;&gt;\\(I_F0101\\)</title>\n",
       "<path fill=\"none\" stroke=\"black\" d=\"M519.316,-301.72C562.076,-302.381 625.652,-303.363 672.077,-304.08\"/>\n",
       "<polygon fill=\"black\" stroke=\"black\" points=\"672.247,-307.583 682.3,-304.238 672.355,-300.584 672.247,-307.583\"/>\n",
       "<text text-anchor=\"middle\" x=\"600.938\" y=\"-306.8\" font-family=\"Times,serif\" font-size=\"14.00\">1</text>\n",
       "</g>\n",
       "</g>\n",
       "</svg>\n"
      ],
      "text/plain": [
       "<graphviz.dot.Digraph at 0x1092772e8>"
      ]
     },
     "execution_count": 51,
     "metadata": {},
     "output_type": "execute_result"
    }
   ],
   "source": [
    "dotObj_dfa(odd1sORends0101)"
   ]
  },
  {
   "cell_type": "code",
   "execution_count": 52,
   "metadata": {
    "run_control": {
     "frozen": false,
     "read_only": false
    },
    "scrolled": true
   },
   "outputs": [
    {
     "data": {
      "image/svg+xml": [
       "<?xml version=\"1.0\" encoding=\"UTF-8\" standalone=\"no\"?>\n",
       "<!DOCTYPE svg PUBLIC \"-//W3C//DTD SVG 1.1//EN\"\n",
       " \"http://www.w3.org/Graphics/SVG/1.1/DTD/svg11.dtd\">\n",
       "<!-- Generated by graphviz version 2.38.0 (20140413.2041)\n",
       " -->\n",
       "<!-- Title: %3 Pages: 1 -->\n",
       "<svg width=\"1064pt\" height=\"455pt\"\n",
       " viewBox=\"0.00 0.00 1063.53 455.00\" xmlns=\"http://www.w3.org/2000/svg\" xmlns:xlink=\"http://www.w3.org/1999/xlink\">\n",
       "<g id=\"graph0\" class=\"graph\" transform=\"scale(1 1) rotate(0) translate(4 451)\">\n",
       "<title>%3</title>\n",
       "<polygon fill=\"white\" stroke=\"none\" points=\"-4,4 -4,-451 1059.53,-451 1059.53,4 -4,4\"/>\n",
       "<!-- EMPTY -->\n",
       "<g id=\"node1\" class=\"node\"><title>EMPTY</title>\n",
       "</g>\n",
       "<!-- \\(I_I\\) -->\n",
       "<g id=\"node4\" class=\"node\"><title>\\(I_I\\)</title>\n",
       "<ellipse fill=\"none\" stroke=\"black\" cx=\"117.308\" cy=\"-96\" rx=\"26.118\" ry=\"26.118\"/>\n",
       "<text text-anchor=\"middle\" x=\"117.308\" y=\"-91.8\" font-family=\"Times,serif\" font-size=\"14.00\">(I_I)</text>\n",
       "</g>\n",
       "<!-- EMPTY&#45;&gt;\\(I_I\\) -->\n",
       "<g id=\"edge1\" class=\"edge\"><title>EMPTY&#45;&gt;\\(I_I\\)</title>\n",
       "<path fill=\"none\" stroke=\"black\" d=\"M54.0178,-96C62.3552,-96 71.7368,-96 80.64,-96\"/>\n",
       "<polygon fill=\"black\" stroke=\"black\" points=\"80.7808,-99.5001 90.7807,-96 80.7807,-92.5001 80.7808,-99.5001\"/>\n",
       "</g>\n",
       "<!-- \\(I_S0\\) -->\n",
       "<g id=\"node2\" class=\"node\"><title>\\(I_S0\\)</title>\n",
       "<ellipse fill=\"none\" stroke=\"black\" cx=\"219.32\" cy=\"-277\" rx=\"32.9081\" ry=\"32.9081\"/>\n",
       "<text text-anchor=\"middle\" x=\"219.32\" y=\"-272.8\" font-family=\"Times,serif\" font-size=\"14.00\">(I_S0)</text>\n",
       "</g>\n",
       "<!-- \\(I_S0\\)&#45;&gt;\\(I_S0\\) -->\n",
       "<g id=\"edge4\" class=\"edge\"><title>\\(I_S0\\)&#45;&gt;\\(I_S0\\)</title>\n",
       "<path fill=\"none\" stroke=\"black\" d=\"M209.198,-308.193C209.09,-318.987 212.465,-327.703 219.32,-327.703 223.819,-327.703 226.819,-323.949 228.319,-318.318\"/>\n",
       "<polygon fill=\"black\" stroke=\"black\" points=\"231.818,-318.518 229.443,-308.193 224.861,-317.746 231.818,-318.518\"/>\n",
       "<text text-anchor=\"middle\" x=\"219.32\" y=\"-330.503\" font-family=\"Times,serif\" font-size=\"14.00\">0</text>\n",
       "</g>\n",
       "<!-- \\(F_S01\\) -->\n",
       "<g id=\"node8\" class=\"node\"><title>\\(F_S01\\)</title>\n",
       "<ellipse fill=\"none\" stroke=\"black\" cx=\"338.122\" cy=\"-277\" rx=\"39.1881\" ry=\"39.1881\"/>\n",
       "<ellipse fill=\"none\" stroke=\"black\" cx=\"338.122\" cy=\"-277\" rx=\"43.1973\" ry=\"43.1973\"/>\n",
       "<text text-anchor=\"middle\" x=\"338.122\" y=\"-272.8\" font-family=\"Times,serif\" font-size=\"14.00\">(F_S01)</text>\n",
       "</g>\n",
       "<!-- \\(I_S0\\)&#45;&gt;\\(F_S01\\) -->\n",
       "<g id=\"edge6\" class=\"edge\"><title>\\(I_S0\\)&#45;&gt;\\(F_S01\\)</title>\n",
       "<path fill=\"none\" stroke=\"black\" d=\"M252.237,-277C262.269,-277 273.625,-277 284.691,-277\"/>\n",
       "<polygon fill=\"black\" stroke=\"black\" points=\"284.727,-280.5 294.727,-277 284.727,-273.5 284.727,-280.5\"/>\n",
       "<text text-anchor=\"middle\" x=\"273.524\" y=\"-279.8\" font-family=\"Times,serif\" font-size=\"14.00\">1</text>\n",
       "</g>\n",
       "<!-- \\(I_S01\\) -->\n",
       "<g id=\"node3\" class=\"node\"><title>\\(I_S01\\)</title>\n",
       "<ellipse fill=\"none\" stroke=\"black\" cx=\"732.583\" cy=\"-200\" rx=\"37.2507\" ry=\"37.2507\"/>\n",
       "<text text-anchor=\"middle\" x=\"732.583\" y=\"-195.8\" font-family=\"Times,serif\" font-size=\"14.00\">(I_S01)</text>\n",
       "</g>\n",
       "<!-- \\(I_S010\\) -->\n",
       "<g id=\"node5\" class=\"node\"><title>\\(I_S010\\)</title>\n",
       "<ellipse fill=\"none\" stroke=\"black\" cx=\"867.099\" cy=\"-305\" rx=\"41.5938\" ry=\"41.5938\"/>\n",
       "<text text-anchor=\"middle\" x=\"867.099\" y=\"-300.8\" font-family=\"Times,serif\" font-size=\"14.00\">(I_S010)</text>\n",
       "</g>\n",
       "<!-- \\(I_S01\\)&#45;&gt;\\(I_S010\\) -->\n",
       "<g id=\"edge2\" class=\"edge\"><title>\\(I_S01\\)&#45;&gt;\\(I_S010\\)</title>\n",
       "<path fill=\"none\" stroke=\"black\" d=\"M769.198,-207.271C782.117,-211.087 796.291,-216.746 807.552,-225 820.42,-234.431 831.645,-247.521 840.73,-260.384\"/>\n",
       "<polygon fill=\"black\" stroke=\"black\" points=\"837.891,-262.433 846.387,-268.763 843.692,-258.516 837.891,-262.433\"/>\n",
       "<text text-anchor=\"middle\" x=\"804.052\" y=\"-227.8\" font-family=\"Times,serif\" font-size=\"14.00\">0</text>\n",
       "</g>\n",
       "<!-- \\(F_I\\) -->\n",
       "<g id=\"node7\" class=\"node\"><title>\\(F_I\\)</title>\n",
       "<ellipse fill=\"none\" stroke=\"black\" cx=\"867.099\" cy=\"-131\" rx=\"28.0917\" ry=\"28.0917\"/>\n",
       "<ellipse fill=\"none\" stroke=\"black\" cx=\"867.099\" cy=\"-131\" rx=\"32.0649\" ry=\"32.0649\"/>\n",
       "<text text-anchor=\"middle\" x=\"867.099\" y=\"-126.8\" font-family=\"Times,serif\" font-size=\"14.00\">(F_I)</text>\n",
       "</g>\n",
       "<!-- \\(I_S01\\)&#45;&gt;\\(F_I\\) -->\n",
       "<g id=\"edge7\" class=\"edge\"><title>\\(I_S01\\)&#45;&gt;\\(F_I\\)</title>\n",
       "<path fill=\"none\" stroke=\"black\" d=\"M766,-183.121C785.051,-173.201 809.203,-160.625 829.01,-150.312\"/>\n",
       "<polygon fill=\"black\" stroke=\"black\" points=\"830.803,-153.324 838.056,-145.601 827.57,-147.116 830.803,-153.324\"/>\n",
       "<text text-anchor=\"middle\" x=\"804.052\" y=\"-166.8\" font-family=\"Times,serif\" font-size=\"14.00\">1</text>\n",
       "</g>\n",
       "<!-- \\(I_I\\)&#45;&gt;\\(I_S0\\) -->\n",
       "<g id=\"edge15\" class=\"edge\"><title>\\(I_I\\)&#45;&gt;\\(I_S0\\)</title>\n",
       "<path fill=\"none\" stroke=\"black\" d=\"M128.535,-119.857C136.841,-138.677 149.178,-165.426 161.617,-188 171.613,-206.142 183.84,-225.619 194.377,-241.714\"/>\n",
       "<polygon fill=\"black\" stroke=\"black\" points=\"191.601,-243.861 200.033,-250.277 197.442,-240.003 191.601,-243.861\"/>\n",
       "<text text-anchor=\"middle\" x=\"165.117\" y=\"-203.8\" font-family=\"Times,serif\" font-size=\"14.00\">0</text>\n",
       "</g>\n",
       "<!-- \\(I_I\\)&#45;&gt;\\(F_I\\) -->\n",
       "<g id=\"edge5\" class=\"edge\"><title>\\(I_I\\)&#45;&gt;\\(F_I\\)</title>\n",
       "<path fill=\"none\" stroke=\"black\" d=\"M143.794,-96C164.005,-96 192.97,-96 218.32,-96 218.32,-96 218.32,-96 403.721,-96 583.573,-96 628.756,-102.54 807.552,-122 813.175,-122.612 819.084,-123.376 824.897,-124.2\"/>\n",
       "<polygon fill=\"black\" stroke=\"black\" points=\"824.768,-127.719 835.174,-125.724 825.796,-120.795 824.768,-127.719\"/>\n",
       "<text text-anchor=\"middle\" x=\"471.741\" y=\"-100.8\" font-family=\"Times,serif\" font-size=\"14.00\">1</text>\n",
       "</g>\n",
       "<!-- \\(I_S010\\)&#45;&gt;\\(I_S0\\) -->\n",
       "<g id=\"edge19\" class=\"edge\"><title>\\(I_S010\\)&#45;&gt;\\(I_S0\\)</title>\n",
       "<path fill=\"none\" stroke=\"black\" d=\"M847.776,-342.023C826.154,-379.826 786.36,-433 733.583,-433 337.122,-433 337.122,-433 337.122,-433 279.754,-433 247.14,-364.564 231.656,-318.348\"/>\n",
       "<polygon fill=\"black\" stroke=\"black\" points=\"234.907,-317.023 228.521,-308.569 228.241,-319.16 234.907,-317.023\"/>\n",
       "<text text-anchor=\"middle\" x=\"540.761\" y=\"-435.8\" font-family=\"Times,serif\" font-size=\"14.00\">0</text>\n",
       "</g>\n",
       "<!-- \\(F_F0101\\) -->\n",
       "<g id=\"node10\" class=\"node\"><title>\\(F_F0101\\)</title>\n",
       "<ellipse fill=\"none\" stroke=\"black\" cx=\"1003.59\" cy=\"-305\" rx=\"47.8885\" ry=\"47.8885\"/>\n",
       "<ellipse fill=\"none\" stroke=\"black\" cx=\"1003.59\" cy=\"-305\" rx=\"51.8841\" ry=\"51.8841\"/>\n",
       "<text text-anchor=\"middle\" x=\"1003.59\" y=\"-300.8\" font-family=\"Times,serif\" font-size=\"14.00\">(F_F0101)</text>\n",
       "</g>\n",
       "<!-- \\(I_S010\\)&#45;&gt;\\(F_F0101\\) -->\n",
       "<g id=\"edge12\" class=\"edge\"><title>\\(I_S010\\)&#45;&gt;\\(F_F0101\\)</title>\n",
       "<path fill=\"none\" stroke=\"black\" d=\"M908.815,-305C919.114,-305 930.402,-305 941.468,-305\"/>\n",
       "<polygon fill=\"black\" stroke=\"black\" points=\"941.532,-308.5 951.532,-305 941.532,-301.5 941.532,-308.5\"/>\n",
       "<text text-anchor=\"middle\" x=\"930.146\" y=\"-307.8\" font-family=\"Times,serif\" font-size=\"14.00\">1</text>\n",
       "</g>\n",
       "<!-- \\(F_S0\\) -->\n",
       "<g id=\"node6\" class=\"node\"><title>\\(F_S0\\)</title>\n",
       "<ellipse fill=\"none\" stroke=\"black\" cx=\"600.938\" cy=\"-198\" rx=\"34.836\" ry=\"34.836\"/>\n",
       "<ellipse fill=\"none\" stroke=\"black\" cx=\"600.938\" cy=\"-198\" rx=\"38.8544\" ry=\"38.8544\"/>\n",
       "<text text-anchor=\"middle\" x=\"600.938\" y=\"-193.8\" font-family=\"Times,serif\" font-size=\"14.00\">(F_S0)</text>\n",
       "</g>\n",
       "<!-- \\(F_S0\\)&#45;&gt;\\(I_S01\\) -->\n",
       "<g id=\"edge18\" class=\"edge\"><title>\\(F_S0\\)&#45;&gt;\\(I_S01\\)</title>\n",
       "<path fill=\"none\" stroke=\"black\" d=\"M639.785,-198.584C653.995,-198.803 670.31,-199.055 685.207,-199.285\"/>\n",
       "<polygon fill=\"black\" stroke=\"black\" points=\"685.197,-202.785 695.25,-199.44 685.306,-195.786 685.197,-202.785\"/>\n",
       "<text text-anchor=\"middle\" x=\"661.115\" y=\"-201.8\" font-family=\"Times,serif\" font-size=\"14.00\">1</text>\n",
       "</g>\n",
       "<!-- \\(F_S0\\)&#45;&gt;\\(F_S0\\) -->\n",
       "<g id=\"edge11\" class=\"edge\"><title>\\(F_S0\\)&#45;&gt;\\(F_S0\\)</title>\n",
       "<path fill=\"none\" stroke=\"black\" d=\"M589.713,-235.067C590.048,-246.095 593.789,-254.677 600.938,-254.677 605.629,-254.677 608.853,-250.981 610.61,-245.324\"/>\n",
       "<polygon fill=\"black\" stroke=\"black\" points=\"614.126,-245.479 612.163,-235.067 607.205,-244.43 614.126,-245.479\"/>\n",
       "<text text-anchor=\"middle\" x=\"600.938\" y=\"-257.477\" font-family=\"Times,serif\" font-size=\"14.00\">0</text>\n",
       "</g>\n",
       "<!-- \\(F_I\\)&#45;&gt;\\(I_I\\) -->\n",
       "<g id=\"edge9\" class=\"edge\"><title>\\(F_I\\)&#45;&gt;\\(I_I\\)</title>\n",
       "<path fill=\"none\" stroke=\"black\" d=\"M845.303,-106.87C821.204,-81.7401 778.955,-46 733.583,-46 218.32,-46 218.32,-46 218.32,-46 191.891,-46 165.286,-60.1421 146.167,-73.384\"/>\n",
       "<polygon fill=\"black\" stroke=\"black\" points=\"143.979,-70.6473 137.937,-79.3507 148.088,-76.3146 143.979,-70.6473\"/>\n",
       "<text text-anchor=\"middle\" x=\"471.741\" y=\"-48.8\" font-family=\"Times,serif\" font-size=\"14.00\">1</text>\n",
       "</g>\n",
       "<!-- \\(F_I\\)&#45;&gt;\\(F_S0\\) -->\n",
       "<g id=\"edge10\" class=\"edge\"><title>\\(F_I\\)&#45;&gt;\\(F_S0\\)</title>\n",
       "<path fill=\"none\" stroke=\"black\" d=\"M834.89,-127.281C797.539,-124.004 733.648,-122.168 682.615,-140 666.567,-145.608 650.919,-155.493 637.741,-165.531\"/>\n",
       "<polygon fill=\"black\" stroke=\"black\" points=\"635.538,-162.811 629.874,-171.764 639.885,-168.297 635.538,-162.811\"/>\n",
       "<text text-anchor=\"middle\" x=\"732.583\" y=\"-142.8\" font-family=\"Times,serif\" font-size=\"14.00\">0</text>\n",
       "</g>\n",
       "<!-- \\(F_S01\\)&#45;&gt;\\(I_I\\) -->\n",
       "<g id=\"edge8\" class=\"edge\"><title>\\(F_S01\\)&#45;&gt;\\(I_I\\)</title>\n",
       "<path fill=\"none\" stroke=\"black\" d=\"M304.162,-249.736C261.037,-214.063 186.232,-152.186 145.929,-118.848\"/>\n",
       "<polygon fill=\"black\" stroke=\"black\" points=\"148.049,-116.059 138.113,-112.382 143.587,-121.453 148.049,-116.059\"/>\n",
       "<text text-anchor=\"middle\" x=\"219.32\" y=\"-207.8\" font-family=\"Times,serif\" font-size=\"14.00\">1</text>\n",
       "</g>\n",
       "<!-- \\(F_S010\\) -->\n",
       "<g id=\"node11\" class=\"node\"><title>\\(F_S010\\)</title>\n",
       "<ellipse fill=\"none\" stroke=\"black\" cx=\"471.741\" cy=\"-301\" rx=\"43.5388\" ry=\"43.5388\"/>\n",
       "<ellipse fill=\"none\" stroke=\"black\" cx=\"471.741\" cy=\"-301\" rx=\"47.5405\" ry=\"47.5405\"/>\n",
       "<text text-anchor=\"middle\" x=\"471.741\" y=\"-296.8\" font-family=\"Times,serif\" font-size=\"14.00\">(F_S010)</text>\n",
       "</g>\n",
       "<!-- \\(F_S01\\)&#45;&gt;\\(F_S010\\) -->\n",
       "<g id=\"edge3\" class=\"edge\"><title>\\(F_S01\\)&#45;&gt;\\(F_S010\\)</title>\n",
       "<path fill=\"none\" stroke=\"black\" d=\"M380.767,-284.594C391.602,-286.569 403.451,-288.73 414.889,-290.816\"/>\n",
       "<polygon fill=\"black\" stroke=\"black\" points=\"414.334,-294.272 424.799,-292.623 415.589,-287.386 414.334,-294.272\"/>\n",
       "<text text-anchor=\"middle\" x=\"402.721\" y=\"-291.8\" font-family=\"Times,serif\" font-size=\"14.00\">0</text>\n",
       "</g>\n",
       "<!-- \\(I_F0101\\) -->\n",
       "<g id=\"node9\" class=\"node\"><title>\\(I_F0101\\)</title>\n",
       "<ellipse fill=\"none\" stroke=\"black\" cx=\"732.583\" cy=\"-305\" rx=\"45.9398\" ry=\"45.9398\"/>\n",
       "<ellipse fill=\"none\" stroke=\"black\" cx=\"732.583\" cy=\"-305\" rx=\"49.9373\" ry=\"49.9373\"/>\n",
       "<text text-anchor=\"middle\" x=\"732.583\" y=\"-300.8\" font-family=\"Times,serif\" font-size=\"14.00\">(I_F0101)</text>\n",
       "</g>\n",
       "<!-- \\(I_F0101\\)&#45;&gt;\\(I_S010\\) -->\n",
       "<g id=\"edge17\" class=\"edge\"><title>\\(I_F0101\\)&#45;&gt;\\(I_S010\\)</title>\n",
       "<path fill=\"none\" stroke=\"black\" d=\"M782.927,-305C793.413,-305 804.505,-305 815.053,-305\"/>\n",
       "<polygon fill=\"black\" stroke=\"black\" points=\"815.377,-308.5 825.377,-305 815.377,-301.5 815.377,-308.5\"/>\n",
       "<text text-anchor=\"middle\" x=\"804.052\" y=\"-307.8\" font-family=\"Times,serif\" font-size=\"14.00\">0</text>\n",
       "</g>\n",
       "<!-- \\(I_F0101\\)&#45;&gt;\\(F_I\\) -->\n",
       "<g id=\"edge13\" class=\"edge\"><title>\\(I_F0101\\)&#45;&gt;\\(F_I\\)</title>\n",
       "<path fill=\"none\" stroke=\"black\" d=\"M772.513,-274.733C784.603,-264.215 797.405,-251.82 807.552,-239 824.27,-217.877 838.744,-191.306 849.118,-169.806\"/>\n",
       "<polygon fill=\"black\" stroke=\"black\" points=\"852.346,-171.166 853.448,-160.629 846.015,-168.179 852.346,-171.166\"/>\n",
       "<text text-anchor=\"middle\" x=\"804.052\" y=\"-250.8\" font-family=\"Times,serif\" font-size=\"14.00\">1</text>\n",
       "</g>\n",
       "<!-- \\(F_F0101\\)&#45;&gt;\\(I_I\\) -->\n",
       "<g id=\"edge20\" class=\"edge\"><title>\\(F_F0101\\)&#45;&gt;\\(I_I\\)</title>\n",
       "<path fill=\"none\" stroke=\"black\" d=\"M1002.23,-252.915C998.598,-165.804 977.33,-0 868.099,-0 218.32,-0 218.32,-0 218.32,-0 180.749,-0 151.81,-35.6967 134.946,-63.5553\"/>\n",
       "<polygon fill=\"black\" stroke=\"black\" points=\"131.883,-61.862 129.9,-72.2697 137.94,-65.37 131.883,-61.862\"/>\n",
       "<text text-anchor=\"middle\" x=\"540.761\" y=\"-2.8\" font-family=\"Times,serif\" font-size=\"14.00\">1</text>\n",
       "</g>\n",
       "<!-- \\(F_F0101\\)&#45;&gt;\\(F_S010\\) -->\n",
       "<g id=\"edge14\" class=\"edge\"><title>\\(F_F0101\\)&#45;&gt;\\(F_S010\\)</title>\n",
       "<path fill=\"none\" stroke=\"black\" d=\"M967.858,-342.721C942.699,-365.828 906.483,-391 868.099,-391 599.938,-391 599.938,-391 599.938,-391 564.788,-391 532.551,-367.814 509.325,-344.978\"/>\n",
       "<polygon fill=\"black\" stroke=\"black\" points=\"511.605,-342.304 502.108,-337.606 506.603,-347.201 511.605,-342.304\"/>\n",
       "<text text-anchor=\"middle\" x=\"732.583\" y=\"-393.8\" font-family=\"Times,serif\" font-size=\"14.00\">0</text>\n",
       "</g>\n",
       "<!-- \\(F_S010\\)&#45;&gt;\\(F_S0\\) -->\n",
       "<g id=\"edge21\" class=\"edge\"><title>\\(F_S010\\)&#45;&gt;\\(F_S0\\)</title>\n",
       "<path fill=\"none\" stroke=\"black\" d=\"M509.19,-271.484C525.846,-257.998 545.559,-242.034 562.35,-228.438\"/>\n",
       "<polygon fill=\"black\" stroke=\"black\" points=\"564.763,-230.987 570.332,-221.974 560.357,-225.547 564.763,-230.987\"/>\n",
       "<text text-anchor=\"middle\" x=\"540.761\" y=\"-249.8\" font-family=\"Times,serif\" font-size=\"14.00\">0</text>\n",
       "</g>\n",
       "<!-- \\(F_S010\\)&#45;&gt;\\(I_F0101\\) -->\n",
       "<g id=\"edge16\" class=\"edge\"><title>\\(F_S010\\)&#45;&gt;\\(I_F0101\\)</title>\n",
       "<path fill=\"none\" stroke=\"black\" d=\"M519.316,-301.72C562.076,-302.381 625.652,-303.363 672.077,-304.08\"/>\n",
       "<polygon fill=\"black\" stroke=\"black\" points=\"672.247,-307.583 682.3,-304.238 672.355,-300.584 672.247,-307.583\"/>\n",
       "<text text-anchor=\"middle\" x=\"600.938\" y=\"-306.8\" font-family=\"Times,serif\" font-size=\"14.00\">1</text>\n",
       "</g>\n",
       "</g>\n",
       "</svg>\n"
      ],
      "text/plain": [
       "<graphviz.dot.Digraph at 0x109277be0>"
      ]
     },
     "execution_count": 52,
     "metadata": {},
     "output_type": "execute_result"
    }
   ],
   "source": [
    "dotObj_dfa(odd1sORends0101)"
   ]
  },
  {
   "cell_type": "markdown",
   "metadata": {},
   "source": [
    "## Apply DFA minimization"
   ]
  },
  {
   "cell_type": "code",
   "execution_count": 53,
   "metadata": {
    "run_control": {
     "frozen": false,
     "read_only": false
    }
   },
   "outputs": [],
   "source": [
    "Minodd1sORends0101 = min_dfa(odd1sORends0101)"
   ]
  },
  {
   "cell_type": "code",
   "execution_count": 54,
   "metadata": {
    "run_control": {
     "frozen": false,
     "read_only": false
    }
   },
   "outputs": [
    {
     "data": {
      "image/svg+xml": [
       "<?xml version=\"1.0\" encoding=\"UTF-8\" standalone=\"no\"?>\n",
       "<!DOCTYPE svg PUBLIC \"-//W3C//DTD SVG 1.1//EN\"\n",
       " \"http://www.w3.org/Graphics/SVG/1.1/DTD/svg11.dtd\">\n",
       "<!-- Generated by graphviz version 2.38.0 (20140413.2041)\n",
       " -->\n",
       "<!-- Title: %3 Pages: 1 -->\n",
       "<svg width=\"799pt\" height=\"224pt\"\n",
       " viewBox=\"0.00 0.00 799.40 223.97\" xmlns=\"http://www.w3.org/2000/svg\" xmlns:xlink=\"http://www.w3.org/1999/xlink\">\n",
       "<g id=\"graph0\" class=\"graph\" transform=\"scale(1 1) rotate(0) translate(4 219.969)\">\n",
       "<title>%3</title>\n",
       "<polygon fill=\"white\" stroke=\"none\" points=\"-4,4 -4,-219.969 795.395,-219.969 795.395,4 -4,4\"/>\n",
       "<!-- EMPTY -->\n",
       "<g id=\"node1\" class=\"node\"><title>EMPTY</title>\n",
       "</g>\n",
       "<!-- \\(I_S01\\) -->\n",
       "<g id=\"node3\" class=\"node\"><title>\\(I_S01\\)</title>\n",
       "<ellipse fill=\"none\" stroke=\"black\" cx=\"128.125\" cy=\"-61\" rx=\"37.2507\" ry=\"37.2507\"/>\n",
       "<text text-anchor=\"middle\" x=\"128.125\" y=\"-56.8\" font-family=\"Times,serif\" font-size=\"14.00\">(I_S01)</text>\n",
       "</g>\n",
       "<!-- EMPTY&#45;&gt;\\(I_S01\\) -->\n",
       "<g id=\"edge1\" class=\"edge\"><title>EMPTY&#45;&gt;\\(I_S01\\)</title>\n",
       "<path fill=\"none\" stroke=\"black\" d=\"M54.044,-61C62.2126,-61 71.4908,-61 80.6295,-61\"/>\n",
       "<polygon fill=\"black\" stroke=\"black\" points=\"80.8214,-64.5001 90.8214,-61 80.8213,-57.5001 80.8214,-64.5001\"/>\n",
       "</g>\n",
       "<!-- \\(I_S0\\) -->\n",
       "<g id=\"node2\" class=\"node\"><title>\\(I_S0\\)</title>\n",
       "<ellipse fill=\"none\" stroke=\"black\" cx=\"240.954\" cy=\"-149\" rx=\"32.9081\" ry=\"32.9081\"/>\n",
       "<text text-anchor=\"middle\" x=\"240.954\" y=\"-144.8\" font-family=\"Times,serif\" font-size=\"14.00\">(I_S0)</text>\n",
       "</g>\n",
       "<!-- \\(I_S0\\)&#45;&gt;\\(I_S0\\) -->\n",
       "<g id=\"edge4\" class=\"edge\"><title>\\(I_S0\\)&#45;&gt;\\(I_S0\\)</title>\n",
       "<path fill=\"none\" stroke=\"black\" d=\"M230.831,-180.193C230.724,-190.987 234.098,-199.703 240.954,-199.703 245.453,-199.703 248.452,-195.949 249.953,-190.318\"/>\n",
       "<polygon fill=\"black\" stroke=\"black\" points=\"253.452,-190.518 251.076,-180.193 246.495,-189.746 253.452,-190.518\"/>\n",
       "<text text-anchor=\"middle\" x=\"240.954\" y=\"-202.503\" font-family=\"Times,serif\" font-size=\"14.00\">0</text>\n",
       "</g>\n",
       "<!-- \\(F_S01\\) -->\n",
       "<g id=\"node7\" class=\"node\"><title>\\(F_S01\\)</title>\n",
       "<ellipse fill=\"none\" stroke=\"black\" cx=\"359.756\" cy=\"-114\" rx=\"39.1881\" ry=\"39.1881\"/>\n",
       "<ellipse fill=\"none\" stroke=\"black\" cx=\"359.756\" cy=\"-114\" rx=\"43.1973\" ry=\"43.1973\"/>\n",
       "<text text-anchor=\"middle\" x=\"359.756\" y=\"-109.8\" font-family=\"Times,serif\" font-size=\"14.00\">(F_S01)</text>\n",
       "</g>\n",
       "<!-- \\(I_S0\\)&#45;&gt;\\(F_S01\\) -->\n",
       "<g id=\"edge6\" class=\"edge\"><title>\\(I_S0\\)&#45;&gt;\\(F_S01\\)</title>\n",
       "<path fill=\"none\" stroke=\"black\" d=\"M272.642,-139.804C283.629,-136.512 296.319,-132.709 308.523,-129.052\"/>\n",
       "<polygon fill=\"black\" stroke=\"black\" points=\"309.591,-132.386 318.165,-126.163 307.581,-125.681 309.591,-132.386\"/>\n",
       "<text text-anchor=\"middle\" x=\"295.157\" y=\"-136.8\" font-family=\"Times,serif\" font-size=\"14.00\">1</text>\n",
       "</g>\n",
       "<!-- \\(I_S01\\)&#45;&gt;\\(I_S0\\) -->\n",
       "<g id=\"edge2\" class=\"edge\"><title>\\(I_S01\\)&#45;&gt;\\(I_S0\\)</title>\n",
       "<path fill=\"none\" stroke=\"black\" d=\"M157.666,-83.6622C172.74,-95.6312 191.315,-110.38 207,-122.834\"/>\n",
       "<polygon fill=\"black\" stroke=\"black\" points=\"204.897,-125.633 214.905,-129.11 209.249,-120.151 204.897,-125.633\"/>\n",
       "<text text-anchor=\"middle\" x=\"186.75\" y=\"-110.8\" font-family=\"Times,serif\" font-size=\"14.00\">0</text>\n",
       "</g>\n",
       "<!-- \\(F_I\\) -->\n",
       "<g id=\"node5\" class=\"node\"><title>\\(F_I\\)</title>\n",
       "<ellipse fill=\"none\" stroke=\"black\" cx=\"759.114\" cy=\"-61\" rx=\"28.0917\" ry=\"28.0917\"/>\n",
       "<ellipse fill=\"none\" stroke=\"black\" cx=\"759.114\" cy=\"-61\" rx=\"32.0649\" ry=\"32.0649\"/>\n",
       "<text text-anchor=\"middle\" x=\"759.114\" y=\"-56.8\" font-family=\"Times,serif\" font-size=\"14.00\">(F_I)</text>\n",
       "</g>\n",
       "<!-- \\(I_S01\\)&#45;&gt;\\(F_I\\) -->\n",
       "<g id=\"edge5\" class=\"edge\"><title>\\(I_S01\\)&#45;&gt;\\(F_I\\)</title>\n",
       "<path fill=\"none\" stroke=\"black\" d=\"M163.685,-50.0389C185.359,-44.115 214.014,-38 239.954,-38 239.954,-38 239.954,-38 634.863,-38 663.052,-38 694.26,-43.8856 718.22,-49.7021\"/>\n",
       "<polygon fill=\"black\" stroke=\"black\" points=\"717.463,-53.1206 728.015,-52.1734 719.175,-46.3333 717.463,-53.1206\"/>\n",
       "<text text-anchor=\"middle\" x=\"424.354\" y=\"-40.8\" font-family=\"Times,serif\" font-size=\"14.00\">1</text>\n",
       "</g>\n",
       "<!-- \\(F_S010\\) -->\n",
       "<g id=\"node4\" class=\"node\"><title>\\(F_S010\\)</title>\n",
       "<ellipse fill=\"none\" stroke=\"black\" cx=\"493.375\" cy=\"-114\" rx=\"43.5388\" ry=\"43.5388\"/>\n",
       "<ellipse fill=\"none\" stroke=\"black\" cx=\"493.375\" cy=\"-114\" rx=\"47.5405\" ry=\"47.5405\"/>\n",
       "<text text-anchor=\"middle\" x=\"493.375\" y=\"-109.8\" font-family=\"Times,serif\" font-size=\"14.00\">(F_S010)</text>\n",
       "</g>\n",
       "<!-- \\(F_S010\\)&#45;&gt;\\(F_I\\) -->\n",
       "<g id=\"edge13\" class=\"edge\"><title>\\(F_S010\\)&#45;&gt;\\(F_I\\)</title>\n",
       "<path fill=\"none\" stroke=\"black\" d=\"M539.82,-102.886C553.914,-99.5618 569.519,-96.0046 583.895,-93 629.375,-83.4947 681.854,-74.0631 717.231,-67.929\"/>\n",
       "<polygon fill=\"black\" stroke=\"black\" points=\"717.924,-71.3611 727.184,-66.212 716.734,-64.463 717.924,-71.3611\"/>\n",
       "<text text-anchor=\"middle\" x=\"633.863\" y=\"-95.8\" font-family=\"Times,serif\" font-size=\"14.00\">0</text>\n",
       "</g>\n",
       "<!-- \\(I_F0101\\) -->\n",
       "<g id=\"node6\" class=\"node\"><title>\\(I_F0101\\)</title>\n",
       "<ellipse fill=\"none\" stroke=\"black\" cx=\"633.863\" cy=\"-166\" rx=\"45.9398\" ry=\"45.9398\"/>\n",
       "<ellipse fill=\"none\" stroke=\"black\" cx=\"633.863\" cy=\"-166\" rx=\"49.9373\" ry=\"49.9373\"/>\n",
       "<text text-anchor=\"middle\" x=\"633.863\" y=\"-161.8\" font-family=\"Times,serif\" font-size=\"14.00\">(I_F0101)</text>\n",
       "</g>\n",
       "<!-- \\(F_S010\\)&#45;&gt;\\(I_F0101\\) -->\n",
       "<g id=\"edge11\" class=\"edge\"><title>\\(F_S010\\)&#45;&gt;\\(I_F0101\\)</title>\n",
       "<path fill=\"none\" stroke=\"black\" d=\"M538.193,-130.453C550.692,-135.146 564.473,-140.321 577.561,-145.235\"/>\n",
       "<polygon fill=\"black\" stroke=\"black\" points=\"576.349,-148.518 586.941,-148.757 578.81,-141.965 576.349,-148.518\"/>\n",
       "<text text-anchor=\"middle\" x=\"562.395\" y=\"-142.8\" font-family=\"Times,serif\" font-size=\"14.00\">1</text>\n",
       "</g>\n",
       "<!-- \\(F_I\\)&#45;&gt;\\(I_S01\\) -->\n",
       "<g id=\"edge8\" class=\"edge\"><title>\\(F_I\\)&#45;&gt;\\(I_S01\\)</title>\n",
       "<path fill=\"none\" stroke=\"black\" d=\"M733.89,-40.6879C710.211,-22.9429 672.347,-0 634.863,-0 239.954,-0 239.954,-0 239.954,-0 212.157,-0 184.756,-14.9094 164.154,-29.9862\"/>\n",
       "<polygon fill=\"black\" stroke=\"black\" points=\"161.86,-27.3343 156.043,-36.189 166.112,-32.8949 161.86,-27.3343\"/>\n",
       "<text text-anchor=\"middle\" x=\"424.354\" y=\"-2.8\" font-family=\"Times,serif\" font-size=\"14.00\">1</text>\n",
       "</g>\n",
       "<!-- \\(F_I\\)&#45;&gt;\\(F_I\\) -->\n",
       "<g id=\"edge9\" class=\"edge\"><title>\\(F_I\\)&#45;&gt;\\(F_I\\)</title>\n",
       "<path fill=\"none\" stroke=\"black\" d=\"M749.366,-91.9335C749.263,-102.637 752.512,-111.282 759.114,-111.282 763.446,-111.282 766.335,-107.559 767.779,-101.974\"/>\n",
       "<polygon fill=\"black\" stroke=\"black\" points=\"771.27,-102.251 768.861,-91.9335 764.31,-101.501 771.27,-102.251\"/>\n",
       "<text text-anchor=\"middle\" x=\"759.114\" y=\"-114.082\" font-family=\"Times,serif\" font-size=\"14.00\">0</text>\n",
       "</g>\n",
       "<!-- \\(I_F0101\\)&#45;&gt;\\(I_S0\\) -->\n",
       "<g id=\"edge12\" class=\"edge\"><title>\\(I_F0101\\)&#45;&gt;\\(I_S0\\)</title>\n",
       "<path fill=\"none\" stroke=\"black\" d=\"M583.851,-169.955C521.473,-174.083 410.54,-178.39 316.657,-166 305.451,-164.521 293.452,-162.15 282.422,-159.643\"/>\n",
       "<polygon fill=\"black\" stroke=\"black\" points=\"283.153,-156.22 272.615,-157.324 281.541,-163.032 283.153,-156.22\"/>\n",
       "<text text-anchor=\"middle\" x=\"424.354\" y=\"-175.8\" font-family=\"Times,serif\" font-size=\"14.00\">0</text>\n",
       "</g>\n",
       "<!-- \\(I_F0101\\)&#45;&gt;\\(F_I\\) -->\n",
       "<g id=\"edge10\" class=\"edge\"><title>\\(I_F0101\\)&#45;&gt;\\(F_I\\)</title>\n",
       "<path fill=\"none\" stroke=\"black\" d=\"M672.512,-133.926C689.668,-119.31 709.762,-102.192 726.168,-88.2154\"/>\n",
       "<polygon fill=\"black\" stroke=\"black\" points=\"728.554,-90.7804 733.897,-81.6311 724.015,-85.4518 728.554,-90.7804\"/>\n",
       "<text text-anchor=\"middle\" x=\"705.332\" y=\"-110.8\" font-family=\"Times,serif\" font-size=\"14.00\">1</text>\n",
       "</g>\n",
       "<!-- \\(F_S01\\)&#45;&gt;\\(I_S01\\) -->\n",
       "<g id=\"edge7\" class=\"edge\"><title>\\(F_S01\\)&#45;&gt;\\(I_S01\\)</title>\n",
       "<path fill=\"none\" stroke=\"black\" d=\"M317.684,-103.653C303.728,-100.194 288.03,-96.3639 273.657,-93 240.561,-85.2538 203.085,-76.9704 174.589,-70.7724\"/>\n",
       "<polygon fill=\"black\" stroke=\"black\" points=\"175.036,-67.288 164.521,-68.5881 173.551,-74.1289 175.036,-67.288\"/>\n",
       "<text text-anchor=\"middle\" x=\"240.954\" y=\"-95.8\" font-family=\"Times,serif\" font-size=\"14.00\">1</text>\n",
       "</g>\n",
       "<!-- \\(F_S01\\)&#45;&gt;\\(F_S010\\) -->\n",
       "<g id=\"edge3\" class=\"edge\"><title>\\(F_S01\\)&#45;&gt;\\(F_S010\\)</title>\n",
       "<path fill=\"none\" stroke=\"black\" d=\"M403.125,-114C413.376,-114 424.5,-114 435.303,-114\"/>\n",
       "<polygon fill=\"black\" stroke=\"black\" points=\"435.525,-117.5 445.525,-114 435.525,-110.5 435.525,-117.5\"/>\n",
       "<text text-anchor=\"middle\" x=\"424.354\" y=\"-116.8\" font-family=\"Times,serif\" font-size=\"14.00\">0</text>\n",
       "</g>\n",
       "</g>\n",
       "</svg>\n"
      ],
      "text/plain": [
       "<graphviz.dot.Digraph at 0x109277da0>"
      ]
     },
     "execution_count": 54,
     "metadata": {},
     "output_type": "execute_result"
    }
   ],
   "source": [
    "dotObj_dfa(Minodd1sORends0101)"
   ]
  },
  {
   "cell_type": "markdown",
   "metadata": {},
   "source": [
    "## Minimization vs. Isomorphism vs. Lang. Eql.\n",
    "\n",
    "After minimization, we may not have isomorphic DFA, but we \n",
    "will have language-equivalent DFA"
   ]
  },
  {
   "cell_type": "code",
   "execution_count": 55,
   "metadata": {
    "run_control": {
     "frozen": false,
     "read_only": false
    }
   },
   "outputs": [
    {
     "data": {
      "text/plain": [
       "False"
      ]
     },
     "execution_count": 55,
     "metadata": {},
     "output_type": "execute_result"
    }
   ],
   "source": [
    "iso_dfa(odd1sORends0101, Minodd1sORends0101)"
   ]
  },
  {
   "cell_type": "code",
   "execution_count": 56,
   "metadata": {
    "run_control": {
     "frozen": false,
     "read_only": false
    }
   },
   "outputs": [
    {
     "data": {
      "text/plain": [
       "True"
      ]
     },
     "execution_count": 56,
     "metadata": {},
     "output_type": "execute_result"
    }
   ],
   "source": [
    "langeq_dfa(odd1sORends0101, Minodd1sORends0101)"
   ]
  },
  {
   "cell_type": "markdown",
   "metadata": {},
   "source": [
    "## Now define \"odd 1s\" AND \"ends in 0101\"\n",
    "\n",
    "Define the and of these machines and minimize it"
   ]
  },
  {
   "cell_type": "code",
   "execution_count": 57,
   "metadata": {
    "run_control": {
     "frozen": false,
     "read_only": false
    }
   },
   "outputs": [],
   "source": [
    "odd1sANDends0101 = intersect_dfa(dfaOdd1s,ends0101)"
   ]
  },
  {
   "cell_type": "code",
   "execution_count": 58,
   "metadata": {
    "run_control": {
     "frozen": false,
     "read_only": false
    }
   },
   "outputs": [
    {
     "data": {
      "image/svg+xml": [
       "<?xml version=\"1.0\" encoding=\"UTF-8\" standalone=\"no\"?>\n",
       "<!DOCTYPE svg PUBLIC \"-//W3C//DTD SVG 1.1//EN\"\n",
       " \"http://www.w3.org/Graphics/SVG/1.1/DTD/svg11.dtd\">\n",
       "<!-- Generated by graphviz version 2.38.0 (20140413.2041)\n",
       " -->\n",
       "<!-- Title: %3 Pages: 1 -->\n",
       "<svg width=\"1032pt\" height=\"450pt\"\n",
       " viewBox=\"0.00 0.00 1031.53 450.00\" xmlns=\"http://www.w3.org/2000/svg\" xmlns:xlink=\"http://www.w3.org/1999/xlink\">\n",
       "<g id=\"graph0\" class=\"graph\" transform=\"scale(1 1) rotate(0) translate(4 446)\">\n",
       "<title>%3</title>\n",
       "<polygon fill=\"white\" stroke=\"none\" points=\"-4,4 -4,-446 1027.53,-446 1027.53,4 -4,4\"/>\n",
       "<!-- EMPTY -->\n",
       "<g id=\"node1\" class=\"node\"><title>EMPTY</title>\n",
       "</g>\n",
       "<!-- \\(I_I\\) -->\n",
       "<g id=\"node4\" class=\"node\"><title>\\(I_I\\)</title>\n",
       "<ellipse fill=\"none\" stroke=\"black\" cx=\"117.308\" cy=\"-176\" rx=\"26.118\" ry=\"26.118\"/>\n",
       "<text text-anchor=\"middle\" x=\"117.308\" y=\"-171.8\" font-family=\"Times,serif\" font-size=\"14.00\">(I_I)</text>\n",
       "</g>\n",
       "<!-- EMPTY&#45;&gt;\\(I_I\\) -->\n",
       "<g id=\"edge1\" class=\"edge\"><title>EMPTY&#45;&gt;\\(I_I\\)</title>\n",
       "<path fill=\"none\" stroke=\"black\" d=\"M54.0178,-176C62.3552,-176 71.7368,-176 80.64,-176\"/>\n",
       "<polygon fill=\"black\" stroke=\"black\" points=\"80.7808,-179.5 90.7807,-176 80.7807,-172.5 80.7808,-179.5\"/>\n",
       "</g>\n",
       "<!-- \\(I_S0\\) -->\n",
       "<g id=\"node2\" class=\"node\"><title>\\(I_S0\\)</title>\n",
       "<ellipse fill=\"none\" stroke=\"black\" cx=\"219.32\" cy=\"-75\" rx=\"32.9081\" ry=\"32.9081\"/>\n",
       "<text text-anchor=\"middle\" x=\"219.32\" y=\"-70.8\" font-family=\"Times,serif\" font-size=\"14.00\">(I_S0)</text>\n",
       "</g>\n",
       "<!-- \\(I_S0\\)&#45;&gt;\\(I_S0\\) -->\n",
       "<g id=\"edge4\" class=\"edge\"><title>\\(I_S0\\)&#45;&gt;\\(I_S0\\)</title>\n",
       "<path fill=\"none\" stroke=\"black\" d=\"M209.198,-106.193C209.09,-116.987 212.465,-125.703 219.32,-125.703 223.819,-125.703 226.819,-121.949 228.319,-116.318\"/>\n",
       "<polygon fill=\"black\" stroke=\"black\" points=\"231.818,-116.518 229.443,-106.193 224.861,-115.746 231.818,-116.518\"/>\n",
       "<text text-anchor=\"middle\" x=\"219.32\" y=\"-128.503\" font-family=\"Times,serif\" font-size=\"14.00\">0</text>\n",
       "</g>\n",
       "<!-- \\(F_S01\\) -->\n",
       "<g id=\"node7\" class=\"node\"><title>\\(F_S01\\)</title>\n",
       "<ellipse fill=\"none\" stroke=\"black\" cx=\"334.122\" cy=\"-162\" rx=\"39.1973\" ry=\"39.1973\"/>\n",
       "<text text-anchor=\"middle\" x=\"334.122\" y=\"-157.8\" font-family=\"Times,serif\" font-size=\"14.00\">(F_S01)</text>\n",
       "</g>\n",
       "<!-- \\(I_S0\\)&#45;&gt;\\(F_S01\\) -->\n",
       "<g id=\"edge6\" class=\"edge\"><title>\\(I_S0\\)&#45;&gt;\\(F_S01\\)</title>\n",
       "<path fill=\"none\" stroke=\"black\" d=\"M245.635,-94.5245C260.017,-105.617 278.32,-119.733 294.464,-132.185\"/>\n",
       "<polygon fill=\"black\" stroke=\"black\" points=\"292.621,-135.183 302.677,-138.519 296.897,-129.641 292.621,-135.183\"/>\n",
       "<text text-anchor=\"middle\" x=\"273.524\" y=\"-121.8\" font-family=\"Times,serif\" font-size=\"14.00\">1</text>\n",
       "</g>\n",
       "<!-- \\(F_S0\\) -->\n",
       "<g id=\"node3\" class=\"node\"><title>\\(F_S0\\)</title>\n",
       "<ellipse fill=\"none\" stroke=\"black\" cx=\"580.938\" cy=\"-263\" rx=\"34.8545\" ry=\"34.8545\"/>\n",
       "<text text-anchor=\"middle\" x=\"580.938\" y=\"-258.8\" font-family=\"Times,serif\" font-size=\"14.00\">(F_S0)</text>\n",
       "</g>\n",
       "<!-- \\(F_S0\\)&#45;&gt;\\(F_S0\\) -->\n",
       "<g id=\"edge11\" class=\"edge\"><title>\\(F_S0\\)&#45;&gt;\\(F_S0\\)</title>\n",
       "<path fill=\"none\" stroke=\"black\" d=\"M570.439,-296.18C570.493,-307.034 573.993,-315.677 580.938,-315.677 585.496,-315.677 588.57,-311.955 590.16,-306.328\"/>\n",
       "<polygon fill=\"black\" stroke=\"black\" points=\"593.661,-306.539 591.437,-296.18 586.716,-305.664 593.661,-306.539\"/>\n",
       "<text text-anchor=\"middle\" x=\"580.938\" y=\"-318.477\" font-family=\"Times,serif\" font-size=\"14.00\">0</text>\n",
       "</g>\n",
       "<!-- \\(I_S01\\) -->\n",
       "<g id=\"node5\" class=\"node\"><title>\\(I_S01\\)</title>\n",
       "<ellipse fill=\"none\" stroke=\"black\" cx=\"704.583\" cy=\"-263\" rx=\"37.2507\" ry=\"37.2507\"/>\n",
       "<text text-anchor=\"middle\" x=\"704.583\" y=\"-258.8\" font-family=\"Times,serif\" font-size=\"14.00\">(I_S01)</text>\n",
       "</g>\n",
       "<!-- \\(F_S0\\)&#45;&gt;\\(I_S01\\) -->\n",
       "<g id=\"edge18\" class=\"edge\"><title>\\(F_S0\\)&#45;&gt;\\(I_S01\\)</title>\n",
       "<path fill=\"none\" stroke=\"black\" d=\"M615.823,-263C628.596,-263 643.355,-263 657.082,-263\"/>\n",
       "<polygon fill=\"black\" stroke=\"black\" points=\"657.328,-266.5 667.328,-263 657.328,-259.5 657.328,-266.5\"/>\n",
       "<text text-anchor=\"middle\" x=\"637.115\" y=\"-265.8\" font-family=\"Times,serif\" font-size=\"14.00\">1</text>\n",
       "</g>\n",
       "<!-- \\(I_I\\)&#45;&gt;\\(I_S0\\) -->\n",
       "<g id=\"edge15\" class=\"edge\"><title>\\(I_I\\)&#45;&gt;\\(I_S0\\)</title>\n",
       "<path fill=\"none\" stroke=\"black\" d=\"M136.652,-157.475C151.029,-142.956 171.338,-122.446 188.107,-105.512\"/>\n",
       "<polygon fill=\"black\" stroke=\"black\" points=\"190.979,-107.586 195.528,-98.0172 186.005,-102.66 190.979,-107.586\"/>\n",
       "<text text-anchor=\"middle\" x=\"165.117\" y=\"-134.8\" font-family=\"Times,serif\" font-size=\"14.00\">0</text>\n",
       "</g>\n",
       "<!-- \\(F_I\\) -->\n",
       "<g id=\"node6\" class=\"node\"><title>\\(F_I\\)</title>\n",
       "<ellipse fill=\"none\" stroke=\"black\" cx=\"835.099\" cy=\"-336\" rx=\"28.0651\" ry=\"28.0651\"/>\n",
       "<text text-anchor=\"middle\" x=\"835.099\" y=\"-331.8\" font-family=\"Times,serif\" font-size=\"14.00\">(F_I)</text>\n",
       "</g>\n",
       "<!-- \\(I_I\\)&#45;&gt;\\(F_I\\) -->\n",
       "<g id=\"edge5\" class=\"edge\"><title>\\(I_I\\)&#45;&gt;\\(F_I\\)</title>\n",
       "<path fill=\"none\" stroke=\"black\" d=\"M120.962,-202.099C126.504,-252.581 140.569,-361.334 161.617,-392 178.509,-416.612 188.469,-428 218.32,-428 218.32,-428 218.32,-428 705.583,-428 748.789,-428 787.464,-393.196 810.837,-366.401\"/>\n",
       "<polygon fill=\"black\" stroke=\"black\" points=\"813.526,-368.641 817.301,-358.742 808.177,-364.127 813.526,-368.641\"/>\n",
       "<text text-anchor=\"middle\" x=\"459.741\" y=\"-430.8\" font-family=\"Times,serif\" font-size=\"14.00\">1</text>\n",
       "</g>\n",
       "<!-- \\(I_S01\\)&#45;&gt;\\(F_I\\) -->\n",
       "<g id=\"edge7\" class=\"edge\"><title>\\(I_S01\\)&#45;&gt;\\(F_I\\)</title>\n",
       "<path fill=\"none\" stroke=\"black\" d=\"M737.351,-281.045C756.73,-292.053 781.459,-306.099 801.064,-317.236\"/>\n",
       "<polygon fill=\"black\" stroke=\"black\" points=\"799.528,-320.388 809.952,-322.284 802.986,-314.302 799.528,-320.388\"/>\n",
       "<text text-anchor=\"middle\" x=\"772.052\" y=\"-304.8\" font-family=\"Times,serif\" font-size=\"14.00\">1</text>\n",
       "</g>\n",
       "<!-- \\(I_S010\\) -->\n",
       "<g id=\"node10\" class=\"node\"><title>\\(I_S010\\)</title>\n",
       "<ellipse fill=\"none\" stroke=\"black\" cx=\"835.099\" cy=\"-156\" rx=\"41.5938\" ry=\"41.5938\"/>\n",
       "<text text-anchor=\"middle\" x=\"835.099\" y=\"-151.8\" font-family=\"Times,serif\" font-size=\"14.00\">(I_S010)</text>\n",
       "</g>\n",
       "<!-- \\(I_S01\\)&#45;&gt;\\(I_S010\\) -->\n",
       "<g id=\"edge2\" class=\"edge\"><title>\\(I_S01\\)&#45;&gt;\\(I_S010\\)</title>\n",
       "<path fill=\"none\" stroke=\"black\" d=\"M737.365,-244.827C749.751,-237.174 763.772,-227.778 775.552,-218 784.099,-210.905 792.666,-202.644 800.506,-194.508\"/>\n",
       "<polygon fill=\"black\" stroke=\"black\" points=\"803.167,-196.787 807.48,-187.11 798.074,-191.985 803.167,-196.787\"/>\n",
       "<text text-anchor=\"middle\" x=\"772.052\" y=\"-225.8\" font-family=\"Times,serif\" font-size=\"14.00\">0</text>\n",
       "</g>\n",
       "<!-- \\(F_I\\)&#45;&gt;\\(F_S0\\) -->\n",
       "<g id=\"edge10\" class=\"edge\"><title>\\(F_I\\)&#45;&gt;\\(F_S0\\)</title>\n",
       "<path fill=\"none\" stroke=\"black\" d=\"M806.538,-335.037C771.278,-333.074 708.772,-327.111 658.615,-309 644.633,-303.952 630.383,-296.244 618.021,-288.572\"/>\n",
       "<polygon fill=\"black\" stroke=\"black\" points=\"619.691,-285.486 609.385,-283.031 615.912,-291.377 619.691,-285.486\"/>\n",
       "<text text-anchor=\"middle\" x=\"704.583\" y=\"-332.8\" font-family=\"Times,serif\" font-size=\"14.00\">0</text>\n",
       "</g>\n",
       "<!-- \\(F_I\\)&#45;&gt;\\(I_I\\) -->\n",
       "<g id=\"edge9\" class=\"edge\"><title>\\(F_I\\)&#45;&gt;\\(I_I\\)</title>\n",
       "<path fill=\"none\" stroke=\"black\" d=\"M809.753,-349.059C784.463,-361.388 743.375,-378 705.583,-378 218.32,-378 218.32,-378 218.32,-378 145.378,-378 125.635,-270.908 120.291,-212.676\"/>\n",
       "<polygon fill=\"black\" stroke=\"black\" points=\"123.755,-212.089 119.452,-202.408 116.778,-212.66 123.755,-212.089\"/>\n",
       "<text text-anchor=\"middle\" x=\"459.741\" y=\"-380.8\" font-family=\"Times,serif\" font-size=\"14.00\">1</text>\n",
       "</g>\n",
       "<!-- \\(F_S01\\)&#45;&gt;\\(I_I\\) -->\n",
       "<g id=\"edge8\" class=\"edge\"><title>\\(F_S01\\)&#45;&gt;\\(I_I\\)</title>\n",
       "<path fill=\"none\" stroke=\"black\" d=\"M295.013,-164.484C255.166,-167.081 193.111,-171.125 154.137,-173.665\"/>\n",
       "<polygon fill=\"black\" stroke=\"black\" points=\"153.545,-170.196 143.794,-174.339 154,-177.181 153.545,-170.196\"/>\n",
       "<text text-anchor=\"middle\" x=\"219.32\" y=\"-174.8\" font-family=\"Times,serif\" font-size=\"14.00\">1</text>\n",
       "</g>\n",
       "<!-- \\(F_S010\\) -->\n",
       "<g id=\"node9\" class=\"node\"><title>\\(F_S010\\)</title>\n",
       "<ellipse fill=\"none\" stroke=\"black\" cx=\"459.741\" cy=\"-162\" rx=\"43.5405\" ry=\"43.5405\"/>\n",
       "<text text-anchor=\"middle\" x=\"459.741\" y=\"-157.8\" font-family=\"Times,serif\" font-size=\"14.00\">(F_S010)</text>\n",
       "</g>\n",
       "<!-- \\(F_S01\\)&#45;&gt;\\(F_S010\\) -->\n",
       "<g id=\"edge3\" class=\"edge\"><title>\\(F_S01\\)&#45;&gt;\\(F_S010\\)</title>\n",
       "<path fill=\"none\" stroke=\"black\" d=\"M373.558,-162C383.763,-162 394.965,-162 405.796,-162\"/>\n",
       "<polygon fill=\"black\" stroke=\"black\" points=\"406.022,-165.5 416.022,-162 406.022,-158.5 406.022,-165.5\"/>\n",
       "<text text-anchor=\"middle\" x=\"394.721\" y=\"-164.8\" font-family=\"Times,serif\" font-size=\"14.00\">0</text>\n",
       "</g>\n",
       "<!-- \\(I_F0101\\) -->\n",
       "<g id=\"node8\" class=\"node\"><title>\\(I_F0101\\)</title>\n",
       "<ellipse fill=\"none\" stroke=\"black\" cx=\"704.583\" cy=\"-162\" rx=\"45.9373\" ry=\"45.9373\"/>\n",
       "<text text-anchor=\"middle\" x=\"704.583\" y=\"-157.8\" font-family=\"Times,serif\" font-size=\"14.00\">(I_F0101)</text>\n",
       "</g>\n",
       "<!-- \\(I_F0101\\)&#45;&gt;\\(F_I\\) -->\n",
       "<g id=\"edge13\" class=\"edge\"><title>\\(I_F0101\\)&#45;&gt;\\(F_I\\)</title>\n",
       "<path fill=\"none\" stroke=\"black\" d=\"M747.659,-178.998C757.742,-184.553 767.817,-191.527 775.552,-200 801.132,-228.021 816.678,-268.939 825.256,-298.568\"/>\n",
       "<polygon fill=\"black\" stroke=\"black\" points=\"821.973,-299.828 828.005,-308.538 828.721,-297.967 821.973,-299.828\"/>\n",
       "<text text-anchor=\"middle\" x=\"772.052\" y=\"-202.8\" font-family=\"Times,serif\" font-size=\"14.00\">1</text>\n",
       "</g>\n",
       "<!-- \\(I_F0101\\)&#45;&gt;\\(I_S010\\) -->\n",
       "<g id=\"edge17\" class=\"edge\"><title>\\(I_F0101\\)&#45;&gt;\\(I_S010\\)</title>\n",
       "<path fill=\"none\" stroke=\"black\" d=\"M750.532,-159.901C761.064,-159.41 772.358,-158.882 783.132,-158.38\"/>\n",
       "<polygon fill=\"black\" stroke=\"black\" points=\"783.433,-161.869 793.259,-157.907 783.107,-154.877 783.433,-161.869\"/>\n",
       "<text text-anchor=\"middle\" x=\"772.052\" y=\"-161.8\" font-family=\"Times,serif\" font-size=\"14.00\">0</text>\n",
       "</g>\n",
       "<!-- \\(F_S010\\)&#45;&gt;\\(F_S0\\) -->\n",
       "<g id=\"edge21\" class=\"edge\"><title>\\(F_S010\\)&#45;&gt;\\(F_S0\\)</title>\n",
       "<path fill=\"none\" stroke=\"black\" d=\"M493.627,-189.866C509.972,-203.715 529.696,-220.428 546.16,-234.379\"/>\n",
       "<polygon fill=\"black\" stroke=\"black\" points=\"544.06,-237.187 553.952,-240.981 548.585,-231.846 544.06,-237.187\"/>\n",
       "<text text-anchor=\"middle\" x=\"524.761\" y=\"-221.8\" font-family=\"Times,serif\" font-size=\"14.00\">0</text>\n",
       "</g>\n",
       "<!-- \\(F_S010\\)&#45;&gt;\\(I_F0101\\) -->\n",
       "<g id=\"edge16\" class=\"edge\"><title>\\(F_S010\\)&#45;&gt;\\(I_F0101\\)</title>\n",
       "<path fill=\"none\" stroke=\"black\" d=\"M503.319,-162C543.617,-162 604.328,-162 648.338,-162\"/>\n",
       "<polygon fill=\"black\" stroke=\"black\" points=\"648.582,-165.5 658.582,-162 648.582,-158.5 648.582,-165.5\"/>\n",
       "<text text-anchor=\"middle\" x=\"580.938\" y=\"-164.8\" font-family=\"Times,serif\" font-size=\"14.00\">1</text>\n",
       "</g>\n",
       "<!-- \\(I_S010\\)&#45;&gt;\\(I_S0\\) -->\n",
       "<g id=\"edge19\" class=\"edge\"><title>\\(I_S010\\)&#45;&gt;\\(I_S0\\)</title>\n",
       "<path fill=\"none\" stroke=\"black\" d=\"M814.489,-119.633C792.846,-84.9621 754.502,-38 705.583,-38 333.122,-38 333.122,-38 333.122,-38 307.206,-38 279.535,-46.9266 258.085,-56.0106\"/>\n",
       "<polygon fill=\"black\" stroke=\"black\" points=\"256.425,-52.9176 248.696,-60.1639 259.257,-59.3192 256.425,-52.9176\"/>\n",
       "<text text-anchor=\"middle\" x=\"524.761\" y=\"-40.8\" font-family=\"Times,serif\" font-size=\"14.00\">0</text>\n",
       "</g>\n",
       "<!-- \\(F_F0101\\) -->\n",
       "<g id=\"node11\" class=\"node\"><title>\\(F_F0101\\)</title>\n",
       "<ellipse fill=\"none\" stroke=\"black\" cx=\"971.588\" cy=\"-84\" rx=\"47.8885\" ry=\"47.8885\"/>\n",
       "<ellipse fill=\"none\" stroke=\"black\" cx=\"971.588\" cy=\"-84\" rx=\"51.8841\" ry=\"51.8841\"/>\n",
       "<text text-anchor=\"middle\" x=\"971.588\" y=\"-79.8\" font-family=\"Times,serif\" font-size=\"14.00\">(F_F0101)</text>\n",
       "</g>\n",
       "<!-- \\(I_S010\\)&#45;&gt;\\(F_F0101\\) -->\n",
       "<g id=\"edge12\" class=\"edge\"><title>\\(I_S010\\)&#45;&gt;\\(F_F0101\\)</title>\n",
       "<path fill=\"none\" stroke=\"black\" d=\"M872.139,-136.705C885.671,-129.461 901.368,-121.058 916.198,-113.118\"/>\n",
       "<polygon fill=\"black\" stroke=\"black\" points=\"918.129,-116.054 925.293,-108.249 914.825,-109.883 918.129,-116.054\"/>\n",
       "<text text-anchor=\"middle\" x=\"898.146\" y=\"-127.8\" font-family=\"Times,serif\" font-size=\"14.00\">1</text>\n",
       "</g>\n",
       "<!-- \\(F_F0101\\)&#45;&gt;\\(I_I\\) -->\n",
       "<g id=\"edge20\" class=\"edge\"><title>\\(F_F0101\\)&#45;&gt;\\(I_I\\)</title>\n",
       "<path fill=\"none\" stroke=\"black\" d=\"M935.147,-46.6672C909.94,-24.2329 873.951,-0 836.099,-0 218.32,-0 218.32,-0 218.32,-0 154.699,-0 131.045,-88.0087 122.648,-139.557\"/>\n",
       "<polygon fill=\"black\" stroke=\"black\" points=\"119.156,-139.24 121.121,-149.651 126.077,-140.287 119.156,-139.24\"/>\n",
       "<text text-anchor=\"middle\" x=\"524.761\" y=\"-2.8\" font-family=\"Times,serif\" font-size=\"14.00\">1</text>\n",
       "</g>\n",
       "<!-- \\(F_F0101\\)&#45;&gt;\\(F_S010\\) -->\n",
       "<g id=\"edge14\" class=\"edge\"><title>\\(F_F0101\\)&#45;&gt;\\(F_S010\\)</title>\n",
       "<path fill=\"none\" stroke=\"black\" d=\"M919.498,-84C894.377,-84 863.65,-84 836.099,-84 579.938,-84 579.938,-84 579.938,-84 548.303,-84 518.521,-103.475 496.64,-122.963\"/>\n",
       "<polygon fill=\"black\" stroke=\"black\" points=\"494.193,-120.458 489.239,-129.824 498.952,-125.592 494.193,-120.458\"/>\n",
       "<text text-anchor=\"middle\" x=\"704.583\" y=\"-86.8\" font-family=\"Times,serif\" font-size=\"14.00\">0</text>\n",
       "</g>\n",
       "</g>\n",
       "</svg>\n"
      ],
      "text/plain": [
       "<graphviz.dot.Digraph at 0x1092780b8>"
      ]
     },
     "execution_count": 58,
     "metadata": {},
     "output_type": "execute_result"
    }
   ],
   "source": [
    "dotObj_dfa(odd1sANDends0101)"
   ]
  },
  {
   "cell_type": "code",
   "execution_count": 59,
   "metadata": {
    "run_control": {
     "frozen": false,
     "read_only": false
    }
   },
   "outputs": [],
   "source": [
    "Minodd1sANDends0101 = min_dfa(odd1sANDends0101)"
   ]
  },
  {
   "cell_type": "code",
   "execution_count": 60,
   "metadata": {
    "run_control": {
     "frozen": false,
     "read_only": false
    }
   },
   "outputs": [
    {
     "data": {
      "image/svg+xml": [
       "<?xml version=\"1.0\" encoding=\"UTF-8\" standalone=\"no\"?>\n",
       "<!DOCTYPE svg PUBLIC \"-//W3C//DTD SVG 1.1//EN\"\n",
       " \"http://www.w3.org/Graphics/SVG/1.1/DTD/svg11.dtd\">\n",
       "<!-- Generated by graphviz version 2.38.0 (20140413.2041)\n",
       " -->\n",
       "<!-- Title: %3 Pages: 1 -->\n",
       "<svg width=\"784pt\" height=\"260pt\"\n",
       " viewBox=\"0.00 0.00 784.24 259.52\" xmlns=\"http://www.w3.org/2000/svg\" xmlns:xlink=\"http://www.w3.org/1999/xlink\">\n",
       "<g id=\"graph0\" class=\"graph\" transform=\"scale(1 1) rotate(0) translate(4 255.52)\">\n",
       "<title>%3</title>\n",
       "<polygon fill=\"white\" stroke=\"none\" points=\"-4,4 -4,-255.52 780.239,-255.52 780.239,4 -4,4\"/>\n",
       "<!-- EMPTY -->\n",
       "<g id=\"node1\" class=\"node\"><title>EMPTY</title>\n",
       "</g>\n",
       "<!-- \\(I_S0\\) -->\n",
       "<g id=\"node2\" class=\"node\"><title>\\(I_S0\\)</title>\n",
       "<ellipse fill=\"none\" stroke=\"black\" cx=\"123.703\" cy=\"-62\" rx=\"32.9081\" ry=\"32.9081\"/>\n",
       "<text text-anchor=\"middle\" x=\"123.703\" y=\"-57.8\" font-family=\"Times,serif\" font-size=\"14.00\">(I_S0)</text>\n",
       "</g>\n",
       "<!-- EMPTY&#45;&gt;\\(I_S0\\) -->\n",
       "<g id=\"edge1\" class=\"edge\"><title>EMPTY&#45;&gt;\\(I_S0\\)</title>\n",
       "<path fill=\"none\" stroke=\"black\" d=\"M54.1288,-62C62.4028,-62 71.7668,-62 80.8565,-62\"/>\n",
       "<polygon fill=\"black\" stroke=\"black\" points=\"80.9299,-65.5001 90.9298,-62 80.9298,-58.5001 80.9299,-65.5001\"/>\n",
       "</g>\n",
       "<!-- \\(I_S0\\)&#45;&gt;\\(I_S0\\) -->\n",
       "<g id=\"edge4\" class=\"edge\"><title>\\(I_S0\\)&#45;&gt;\\(I_S0\\)</title>\n",
       "<path fill=\"none\" stroke=\"black\" d=\"M114.328,-93.6896C114.328,-104.253 117.453,-112.703 123.703,-112.703 127.707,-112.703 130.429,-109.235 131.868,-103.965\"/>\n",
       "<polygon fill=\"black\" stroke=\"black\" points=\"135.384,-104.031 133.078,-93.6896 128.432,-103.211 135.384,-104.031\"/>\n",
       "<text text-anchor=\"middle\" x=\"123.703\" y=\"-115.503\" font-family=\"Times,serif\" font-size=\"14.00\">0</text>\n",
       "</g>\n",
       "<!-- \\(F_I\\) -->\n",
       "<g id=\"node3\" class=\"node\"><title>\\(F_I\\)</title>\n",
       "<ellipse fill=\"none\" stroke=\"black\" cx=\"227.689\" cy=\"-109\" rx=\"28.0651\" ry=\"28.0651\"/>\n",
       "<text text-anchor=\"middle\" x=\"227.689\" y=\"-104.8\" font-family=\"Times,serif\" font-size=\"14.00\">(F_I)</text>\n",
       "</g>\n",
       "<!-- \\(I_S0\\)&#45;&gt;\\(F_I\\) -->\n",
       "<g id=\"edge5\" class=\"edge\"><title>\\(I_S0\\)&#45;&gt;\\(F_I\\)</title>\n",
       "<path fill=\"none\" stroke=\"black\" d=\"M150.714,-80.7705C158.122,-85.5479 166.369,-90.3551 174.407,-94 179.406,-96.2666 184.83,-98.2773 190.228,-100.031\"/>\n",
       "<polygon fill=\"black\" stroke=\"black\" points=\"189.236,-103.388 199.821,-102.911 191.249,-96.6835 189.236,-103.388\"/>\n",
       "<text text-anchor=\"middle\" x=\"177.907\" y=\"-99.8\" font-family=\"Times,serif\" font-size=\"14.00\">1</text>\n",
       "</g>\n",
       "<!-- \\(F_I\\)&#45;&gt;\\(I_S0\\) -->\n",
       "<g id=\"edge7\" class=\"edge\"><title>\\(F_I\\)&#45;&gt;\\(I_S0\\)</title>\n",
       "<path fill=\"none\" stroke=\"black\" d=\"M205.654,-91.0622C198.356,-85.5695 189.872,-79.9431 181.407,-76 176.466,-73.6987 171.101,-71.7466 165.706,-70.0985\"/>\n",
       "<polygon fill=\"black\" stroke=\"black\" points=\"166.621,-66.7201 156.051,-67.4505 164.769,-73.4708 166.621,-66.7201\"/>\n",
       "<text text-anchor=\"middle\" x=\"177.907\" y=\"-78.8\" font-family=\"Times,serif\" font-size=\"14.00\">1</text>\n",
       "</g>\n",
       "<!-- \\(F_S010\\) -->\n",
       "<g id=\"node5\" class=\"node\"><title>\\(F_S010\\)</title>\n",
       "<ellipse fill=\"none\" stroke=\"black\" cx=\"342.491\" cy=\"-176\" rx=\"43.5405\" ry=\"43.5405\"/>\n",
       "<text text-anchor=\"middle\" x=\"342.491\" y=\"-171.8\" font-family=\"Times,serif\" font-size=\"14.00\">(F_S010)</text>\n",
       "</g>\n",
       "<!-- \\(F_I\\)&#45;&gt;\\(F_S010\\) -->\n",
       "<g id=\"edge3\" class=\"edge\"><title>\\(F_I\\)&#45;&gt;\\(F_S010\\)</title>\n",
       "<path fill=\"none\" stroke=\"black\" d=\"M252.336,-123.045C264.973,-130.551 280.967,-140.051 295.909,-148.926\"/>\n",
       "<polygon fill=\"black\" stroke=\"black\" points=\"294.166,-151.962 304.551,-154.06 297.741,-145.944 294.166,-151.962\"/>\n",
       "<text text-anchor=\"middle\" x=\"277.47\" y=\"-140.8\" font-family=\"Times,serif\" font-size=\"14.00\">0</text>\n",
       "</g>\n",
       "<!-- \\(I_S01\\) -->\n",
       "<g id=\"node4\" class=\"node\"><title>\\(I_S01\\)</title>\n",
       "<ellipse fill=\"none\" stroke=\"black\" cx=\"466.136\" cy=\"-111\" rx=\"37.2507\" ry=\"37.2507\"/>\n",
       "<text text-anchor=\"middle\" x=\"466.136\" y=\"-106.8\" font-family=\"Times,serif\" font-size=\"14.00\">(I_S01)</text>\n",
       "</g>\n",
       "<!-- \\(I_S01\\)&#45;&gt;\\(F_I\\) -->\n",
       "<g id=\"edge6\" class=\"edge\"><title>\\(I_S01\\)&#45;&gt;\\(F_I\\)</title>\n",
       "<path fill=\"none\" stroke=\"black\" d=\"M428.9,-109.892C415.434,-109.531 400.026,-109.177 386.011,-109 345.034,-108.482 298.049,-108.571 266.174,-108.734\"/>\n",
       "<polygon fill=\"black\" stroke=\"black\" points=\"265.954,-105.235 255.974,-108.791 265.994,-112.235 265.954,-105.235\"/>\n",
       "<text text-anchor=\"middle\" x=\"342.491\" y=\"-111.8\" font-family=\"Times,serif\" font-size=\"14.00\">1</text>\n",
       "</g>\n",
       "<!-- \\(I_S010\\) -->\n",
       "<g id=\"node6\" class=\"node\"><title>\\(I_S010\\)</title>\n",
       "<ellipse fill=\"none\" stroke=\"black\" cx=\"587.808\" cy=\"-88\" rx=\"41.5938\" ry=\"41.5938\"/>\n",
       "<text text-anchor=\"middle\" x=\"587.808\" y=\"-83.8\" font-family=\"Times,serif\" font-size=\"14.00\">(I_S010)</text>\n",
       "</g>\n",
       "<!-- \\(I_S01\\)&#45;&gt;\\(I_S010\\) -->\n",
       "<g id=\"edge2\" class=\"edge\"><title>\\(I_S01\\)&#45;&gt;\\(I_S010\\)</title>\n",
       "<path fill=\"none\" stroke=\"black\" d=\"M502.718,-104.162C513.482,-102.093 525.507,-99.7816 537.021,-97.5687\"/>\n",
       "<polygon fill=\"black\" stroke=\"black\" points=\"537.803,-100.982 546.963,-95.6579 536.482,-94.1083 537.803,-100.982\"/>\n",
       "<text text-anchor=\"middle\" x=\"524.761\" y=\"-103.8\" font-family=\"Times,serif\" font-size=\"14.00\">0</text>\n",
       "</g>\n",
       "<!-- \\(F_S010\\)&#45;&gt;\\(I_S01\\) -->\n",
       "<g id=\"edge11\" class=\"edge\"><title>\\(F_S010\\)&#45;&gt;\\(I_S01\\)</title>\n",
       "<path fill=\"none\" stroke=\"black\" d=\"M381.313,-155.79C394.93,-148.514 410.35,-140.274 424.218,-132.864\"/>\n",
       "<polygon fill=\"black\" stroke=\"black\" points=\"425.903,-135.932 433.073,-128.132 422.604,-129.758 425.903,-135.932\"/>\n",
       "<text text-anchor=\"middle\" x=\"407.511\" y=\"-145.8\" font-family=\"Times,serif\" font-size=\"14.00\">1</text>\n",
       "</g>\n",
       "<!-- \\(F_S010\\)&#45;&gt;\\(F_S010\\) -->\n",
       "<g id=\"edge8\" class=\"edge\"><title>\\(F_S010\\)&#45;&gt;\\(F_S010\\)</title>\n",
       "<path fill=\"none\" stroke=\"black\" d=\"M330.596,-217.981C331.276,-229.099 335.241,-237.52 342.491,-237.52 347.362,-237.52 350.75,-233.719 352.655,-227.852\"/>\n",
       "<polygon fill=\"black\" stroke=\"black\" points=\"356.106,-228.435 354.385,-217.981 349.211,-227.227 356.106,-228.435\"/>\n",
       "<text text-anchor=\"middle\" x=\"342.491\" y=\"-240.32\" font-family=\"Times,serif\" font-size=\"14.00\">0</text>\n",
       "</g>\n",
       "<!-- \\(I_S010\\)&#45;&gt;\\(I_S0\\) -->\n",
       "<g id=\"edge12\" class=\"edge\"><title>\\(I_S010\\)&#45;&gt;\\(I_S0\\)</title>\n",
       "<path fill=\"none\" stroke=\"black\" d=\"M551.019,-68.3527C527.812,-57.4217 496.531,-46 467.136,-46 226.689,-46 226.689,-46 226.689,-46 206.425,-46 184.168,-49.1209 165.63,-52.606\"/>\n",
       "<polygon fill=\"black\" stroke=\"black\" points=\"164.88,-49.1864 155.75,-54.5621 166.24,-56.0531 164.88,-49.1864\"/>\n",
       "<text text-anchor=\"middle\" x=\"342.491\" y=\"-48.8\" font-family=\"Times,serif\" font-size=\"14.00\">0</text>\n",
       "</g>\n",
       "<!-- \\(F_F0101\\) -->\n",
       "<g id=\"node7\" class=\"node\"><title>\\(F_F0101\\)</title>\n",
       "<ellipse fill=\"none\" stroke=\"black\" cx=\"724.297\" cy=\"-88\" rx=\"47.8885\" ry=\"47.8885\"/>\n",
       "<ellipse fill=\"none\" stroke=\"black\" cx=\"724.297\" cy=\"-88\" rx=\"51.8841\" ry=\"51.8841\"/>\n",
       "<text text-anchor=\"middle\" x=\"724.297\" y=\"-83.8\" font-family=\"Times,serif\" font-size=\"14.00\">(F_F0101)</text>\n",
       "</g>\n",
       "<!-- \\(I_S010\\)&#45;&gt;\\(F_F0101\\) -->\n",
       "<g id=\"edge9\" class=\"edge\"><title>\\(I_S010\\)&#45;&gt;\\(F_F0101\\)</title>\n",
       "<path fill=\"none\" stroke=\"black\" d=\"M629.524,-88C639.823,-88 651.112,-88 662.177,-88\"/>\n",
       "<polygon fill=\"black\" stroke=\"black\" points=\"662.241,-91.5001 672.241,-88 662.241,-84.5001 662.241,-91.5001\"/>\n",
       "<text text-anchor=\"middle\" x=\"650.855\" y=\"-90.8\" font-family=\"Times,serif\" font-size=\"14.00\">1</text>\n",
       "</g>\n",
       "<!-- \\(F_F0101\\)&#45;&gt;\\(I_S0\\) -->\n",
       "<g id=\"edge13\" class=\"edge\"><title>\\(F_F0101\\)&#45;&gt;\\(I_S0\\)</title>\n",
       "<path fill=\"none\" stroke=\"black\" d=\"M689.003,-49.6579C663.909,-25.9437 627.593,-0 588.808,-0 226.689,-0 226.689,-0 226.689,-0 199.674,-0 173.724,-16.0805 154.761,-31.8627\"/>\n",
       "<polygon fill=\"black\" stroke=\"black\" points=\"152.316,-29.3506 147.079,-38.5605 156.916,-34.6268 152.316,-29.3506\"/>\n",
       "<text text-anchor=\"middle\" x=\"407.511\" y=\"-2.8\" font-family=\"Times,serif\" font-size=\"14.00\">1</text>\n",
       "</g>\n",
       "<!-- \\(F_F0101\\)&#45;&gt;\\(F_S010\\) -->\n",
       "<g id=\"edge10\" class=\"edge\"><title>\\(F_F0101\\)&#45;&gt;\\(F_S010\\)</title>\n",
       "<path fill=\"none\" stroke=\"black\" d=\"M679.846,-115.771C664.434,-124.473 646.621,-133.286 629.355,-139 550.923,-164.955 454.768,-172.822 396.365,-175.135\"/>\n",
       "<polygon fill=\"black\" stroke=\"black\" points=\"396.135,-171.641 386.266,-175.495 396.384,-178.637 396.135,-171.641\"/>\n",
       "<text text-anchor=\"middle\" x=\"524.761\" y=\"-165.8\" font-family=\"Times,serif\" font-size=\"14.00\">0</text>\n",
       "</g>\n",
       "</g>\n",
       "</svg>\n"
      ],
      "text/plain": [
       "<graphviz.dot.Digraph at 0x109278b70>"
      ]
     },
     "execution_count": 60,
     "metadata": {},
     "output_type": "execute_result"
    }
   ],
   "source": [
    "dotObj_dfa(Minodd1sANDends0101)"
   ]
  },
  {
   "cell_type": "markdown",
   "metadata": {},
   "source": [
    "## Now, complement the individual machines"
   ]
  },
  {
   "cell_type": "code",
   "execution_count": 61,
   "metadata": {
    "run_control": {
     "frozen": false,
     "read_only": false
    }
   },
   "outputs": [],
   "source": [
    "CdfaOdd1s = comp_dfa(dfaOdd1s)"
   ]
  },
  {
   "cell_type": "code",
   "execution_count": 62,
   "metadata": {
    "run_control": {
     "frozen": false,
     "read_only": false
    }
   },
   "outputs": [],
   "source": [
    "Cends0101 = comp_dfa(ends0101)"
   ]
  },
  {
   "cell_type": "markdown",
   "metadata": {},
   "source": [
    "## Complement of the union of the complements\n",
    "\n",
    "The complement of the union of the complements of M1 and M2 is of course the intersection of M1 and M2! Let us check that!\n"
   ]
  },
  {
   "cell_type": "code",
   "execution_count": 63,
   "metadata": {
    "run_control": {
     "frozen": false,
     "read_only": false
    }
   },
   "outputs": [],
   "source": [
    "C_CdfaOdd1sORCends0101 = comp_dfa(union_dfa(CdfaOdd1s, Cends0101))"
   ]
  },
  {
   "cell_type": "code",
   "execution_count": 64,
   "metadata": {
    "run_control": {
     "frozen": false,
     "read_only": false
    }
   },
   "outputs": [
    {
     "data": {
      "image/svg+xml": [
       "<?xml version=\"1.0\" encoding=\"UTF-8\" standalone=\"no\"?>\n",
       "<!DOCTYPE svg PUBLIC \"-//W3C//DTD SVG 1.1//EN\"\n",
       " \"http://www.w3.org/Graphics/SVG/1.1/DTD/svg11.dtd\">\n",
       "<!-- Generated by graphviz version 2.38.0 (20140413.2041)\n",
       " -->\n",
       "<!-- Title: %3 Pages: 1 -->\n",
       "<svg width=\"1032pt\" height=\"450pt\"\n",
       " viewBox=\"0.00 0.00 1031.53 450.00\" xmlns=\"http://www.w3.org/2000/svg\" xmlns:xlink=\"http://www.w3.org/1999/xlink\">\n",
       "<g id=\"graph0\" class=\"graph\" transform=\"scale(1 1) rotate(0) translate(4 446)\">\n",
       "<title>%3</title>\n",
       "<polygon fill=\"white\" stroke=\"none\" points=\"-4,4 -4,-446 1027.53,-446 1027.53,4 -4,4\"/>\n",
       "<!-- EMPTY -->\n",
       "<g id=\"node1\" class=\"node\"><title>EMPTY</title>\n",
       "</g>\n",
       "<!-- \\(I_I\\) -->\n",
       "<g id=\"node4\" class=\"node\"><title>\\(I_I\\)</title>\n",
       "<ellipse fill=\"none\" stroke=\"black\" cx=\"117.308\" cy=\"-176\" rx=\"26.118\" ry=\"26.118\"/>\n",
       "<text text-anchor=\"middle\" x=\"117.308\" y=\"-171.8\" font-family=\"Times,serif\" font-size=\"14.00\">(I_I)</text>\n",
       "</g>\n",
       "<!-- EMPTY&#45;&gt;\\(I_I\\) -->\n",
       "<g id=\"edge1\" class=\"edge\"><title>EMPTY&#45;&gt;\\(I_I\\)</title>\n",
       "<path fill=\"none\" stroke=\"black\" d=\"M54.0178,-176C62.3552,-176 71.7368,-176 80.64,-176\"/>\n",
       "<polygon fill=\"black\" stroke=\"black\" points=\"80.7808,-179.5 90.7807,-176 80.7807,-172.5 80.7808,-179.5\"/>\n",
       "</g>\n",
       "<!-- \\(I_S0\\) -->\n",
       "<g id=\"node2\" class=\"node\"><title>\\(I_S0\\)</title>\n",
       "<ellipse fill=\"none\" stroke=\"black\" cx=\"219.32\" cy=\"-75\" rx=\"32.9081\" ry=\"32.9081\"/>\n",
       "<text text-anchor=\"middle\" x=\"219.32\" y=\"-70.8\" font-family=\"Times,serif\" font-size=\"14.00\">(I_S0)</text>\n",
       "</g>\n",
       "<!-- \\(I_S0\\)&#45;&gt;\\(I_S0\\) -->\n",
       "<g id=\"edge4\" class=\"edge\"><title>\\(I_S0\\)&#45;&gt;\\(I_S0\\)</title>\n",
       "<path fill=\"none\" stroke=\"black\" d=\"M209.198,-106.193C209.09,-116.987 212.465,-125.703 219.32,-125.703 223.819,-125.703 226.819,-121.949 228.319,-116.318\"/>\n",
       "<polygon fill=\"black\" stroke=\"black\" points=\"231.818,-116.518 229.443,-106.193 224.861,-115.746 231.818,-116.518\"/>\n",
       "<text text-anchor=\"middle\" x=\"219.32\" y=\"-128.503\" font-family=\"Times,serif\" font-size=\"14.00\">0</text>\n",
       "</g>\n",
       "<!-- \\(F_S01\\) -->\n",
       "<g id=\"node7\" class=\"node\"><title>\\(F_S01\\)</title>\n",
       "<ellipse fill=\"none\" stroke=\"black\" cx=\"334.122\" cy=\"-162\" rx=\"39.1973\" ry=\"39.1973\"/>\n",
       "<text text-anchor=\"middle\" x=\"334.122\" y=\"-157.8\" font-family=\"Times,serif\" font-size=\"14.00\">(F_S01)</text>\n",
       "</g>\n",
       "<!-- \\(I_S0\\)&#45;&gt;\\(F_S01\\) -->\n",
       "<g id=\"edge6\" class=\"edge\"><title>\\(I_S0\\)&#45;&gt;\\(F_S01\\)</title>\n",
       "<path fill=\"none\" stroke=\"black\" d=\"M245.635,-94.5245C260.017,-105.617 278.32,-119.733 294.464,-132.185\"/>\n",
       "<polygon fill=\"black\" stroke=\"black\" points=\"292.621,-135.183 302.677,-138.519 296.897,-129.641 292.621,-135.183\"/>\n",
       "<text text-anchor=\"middle\" x=\"273.524\" y=\"-121.8\" font-family=\"Times,serif\" font-size=\"14.00\">1</text>\n",
       "</g>\n",
       "<!-- \\(F_S0\\) -->\n",
       "<g id=\"node3\" class=\"node\"><title>\\(F_S0\\)</title>\n",
       "<ellipse fill=\"none\" stroke=\"black\" cx=\"580.938\" cy=\"-263\" rx=\"34.8545\" ry=\"34.8545\"/>\n",
       "<text text-anchor=\"middle\" x=\"580.938\" y=\"-258.8\" font-family=\"Times,serif\" font-size=\"14.00\">(F_S0)</text>\n",
       "</g>\n",
       "<!-- \\(F_S0\\)&#45;&gt;\\(F_S0\\) -->\n",
       "<g id=\"edge11\" class=\"edge\"><title>\\(F_S0\\)&#45;&gt;\\(F_S0\\)</title>\n",
       "<path fill=\"none\" stroke=\"black\" d=\"M570.439,-296.18C570.493,-307.034 573.993,-315.677 580.938,-315.677 585.496,-315.677 588.57,-311.955 590.16,-306.328\"/>\n",
       "<polygon fill=\"black\" stroke=\"black\" points=\"593.661,-306.539 591.437,-296.18 586.716,-305.664 593.661,-306.539\"/>\n",
       "<text text-anchor=\"middle\" x=\"580.938\" y=\"-318.477\" font-family=\"Times,serif\" font-size=\"14.00\">0</text>\n",
       "</g>\n",
       "<!-- \\(I_S01\\) -->\n",
       "<g id=\"node5\" class=\"node\"><title>\\(I_S01\\)</title>\n",
       "<ellipse fill=\"none\" stroke=\"black\" cx=\"704.583\" cy=\"-263\" rx=\"37.2507\" ry=\"37.2507\"/>\n",
       "<text text-anchor=\"middle\" x=\"704.583\" y=\"-258.8\" font-family=\"Times,serif\" font-size=\"14.00\">(I_S01)</text>\n",
       "</g>\n",
       "<!-- \\(F_S0\\)&#45;&gt;\\(I_S01\\) -->\n",
       "<g id=\"edge18\" class=\"edge\"><title>\\(F_S0\\)&#45;&gt;\\(I_S01\\)</title>\n",
       "<path fill=\"none\" stroke=\"black\" d=\"M615.823,-263C628.596,-263 643.355,-263 657.082,-263\"/>\n",
       "<polygon fill=\"black\" stroke=\"black\" points=\"657.328,-266.5 667.328,-263 657.328,-259.5 657.328,-266.5\"/>\n",
       "<text text-anchor=\"middle\" x=\"637.115\" y=\"-265.8\" font-family=\"Times,serif\" font-size=\"14.00\">1</text>\n",
       "</g>\n",
       "<!-- \\(I_I\\)&#45;&gt;\\(I_S0\\) -->\n",
       "<g id=\"edge15\" class=\"edge\"><title>\\(I_I\\)&#45;&gt;\\(I_S0\\)</title>\n",
       "<path fill=\"none\" stroke=\"black\" d=\"M136.652,-157.475C151.029,-142.956 171.338,-122.446 188.107,-105.512\"/>\n",
       "<polygon fill=\"black\" stroke=\"black\" points=\"190.979,-107.586 195.528,-98.0172 186.005,-102.66 190.979,-107.586\"/>\n",
       "<text text-anchor=\"middle\" x=\"165.117\" y=\"-134.8\" font-family=\"Times,serif\" font-size=\"14.00\">0</text>\n",
       "</g>\n",
       "<!-- \\(F_I\\) -->\n",
       "<g id=\"node6\" class=\"node\"><title>\\(F_I\\)</title>\n",
       "<ellipse fill=\"none\" stroke=\"black\" cx=\"835.099\" cy=\"-336\" rx=\"28.0651\" ry=\"28.0651\"/>\n",
       "<text text-anchor=\"middle\" x=\"835.099\" y=\"-331.8\" font-family=\"Times,serif\" font-size=\"14.00\">(F_I)</text>\n",
       "</g>\n",
       "<!-- \\(I_I\\)&#45;&gt;\\(F_I\\) -->\n",
       "<g id=\"edge5\" class=\"edge\"><title>\\(I_I\\)&#45;&gt;\\(F_I\\)</title>\n",
       "<path fill=\"none\" stroke=\"black\" d=\"M120.962,-202.099C126.504,-252.581 140.569,-361.334 161.617,-392 178.509,-416.612 188.469,-428 218.32,-428 218.32,-428 218.32,-428 705.583,-428 748.789,-428 787.464,-393.196 810.837,-366.401\"/>\n",
       "<polygon fill=\"black\" stroke=\"black\" points=\"813.526,-368.641 817.301,-358.742 808.177,-364.127 813.526,-368.641\"/>\n",
       "<text text-anchor=\"middle\" x=\"459.741\" y=\"-430.8\" font-family=\"Times,serif\" font-size=\"14.00\">1</text>\n",
       "</g>\n",
       "<!-- \\(I_S01\\)&#45;&gt;\\(F_I\\) -->\n",
       "<g id=\"edge7\" class=\"edge\"><title>\\(I_S01\\)&#45;&gt;\\(F_I\\)</title>\n",
       "<path fill=\"none\" stroke=\"black\" d=\"M737.351,-281.045C756.73,-292.053 781.459,-306.099 801.064,-317.236\"/>\n",
       "<polygon fill=\"black\" stroke=\"black\" points=\"799.528,-320.388 809.952,-322.284 802.986,-314.302 799.528,-320.388\"/>\n",
       "<text text-anchor=\"middle\" x=\"772.052\" y=\"-304.8\" font-family=\"Times,serif\" font-size=\"14.00\">1</text>\n",
       "</g>\n",
       "<!-- \\(I_S010\\) -->\n",
       "<g id=\"node10\" class=\"node\"><title>\\(I_S010\\)</title>\n",
       "<ellipse fill=\"none\" stroke=\"black\" cx=\"835.099\" cy=\"-156\" rx=\"41.5938\" ry=\"41.5938\"/>\n",
       "<text text-anchor=\"middle\" x=\"835.099\" y=\"-151.8\" font-family=\"Times,serif\" font-size=\"14.00\">(I_S010)</text>\n",
       "</g>\n",
       "<!-- \\(I_S01\\)&#45;&gt;\\(I_S010\\) -->\n",
       "<g id=\"edge2\" class=\"edge\"><title>\\(I_S01\\)&#45;&gt;\\(I_S010\\)</title>\n",
       "<path fill=\"none\" stroke=\"black\" d=\"M737.365,-244.827C749.751,-237.174 763.772,-227.778 775.552,-218 784.099,-210.905 792.666,-202.644 800.506,-194.508\"/>\n",
       "<polygon fill=\"black\" stroke=\"black\" points=\"803.167,-196.787 807.48,-187.11 798.074,-191.985 803.167,-196.787\"/>\n",
       "<text text-anchor=\"middle\" x=\"772.052\" y=\"-225.8\" font-family=\"Times,serif\" font-size=\"14.00\">0</text>\n",
       "</g>\n",
       "<!-- \\(F_I\\)&#45;&gt;\\(F_S0\\) -->\n",
       "<g id=\"edge10\" class=\"edge\"><title>\\(F_I\\)&#45;&gt;\\(F_S0\\)</title>\n",
       "<path fill=\"none\" stroke=\"black\" d=\"M806.538,-335.037C771.278,-333.074 708.772,-327.111 658.615,-309 644.633,-303.952 630.383,-296.244 618.021,-288.572\"/>\n",
       "<polygon fill=\"black\" stroke=\"black\" points=\"619.691,-285.486 609.385,-283.031 615.912,-291.377 619.691,-285.486\"/>\n",
       "<text text-anchor=\"middle\" x=\"704.583\" y=\"-332.8\" font-family=\"Times,serif\" font-size=\"14.00\">0</text>\n",
       "</g>\n",
       "<!-- \\(F_I\\)&#45;&gt;\\(I_I\\) -->\n",
       "<g id=\"edge9\" class=\"edge\"><title>\\(F_I\\)&#45;&gt;\\(I_I\\)</title>\n",
       "<path fill=\"none\" stroke=\"black\" d=\"M809.753,-349.059C784.463,-361.388 743.375,-378 705.583,-378 218.32,-378 218.32,-378 218.32,-378 145.378,-378 125.635,-270.908 120.291,-212.676\"/>\n",
       "<polygon fill=\"black\" stroke=\"black\" points=\"123.755,-212.089 119.452,-202.408 116.778,-212.66 123.755,-212.089\"/>\n",
       "<text text-anchor=\"middle\" x=\"459.741\" y=\"-380.8\" font-family=\"Times,serif\" font-size=\"14.00\">1</text>\n",
       "</g>\n",
       "<!-- \\(F_S01\\)&#45;&gt;\\(I_I\\) -->\n",
       "<g id=\"edge8\" class=\"edge\"><title>\\(F_S01\\)&#45;&gt;\\(I_I\\)</title>\n",
       "<path fill=\"none\" stroke=\"black\" d=\"M295.013,-164.484C255.166,-167.081 193.111,-171.125 154.137,-173.665\"/>\n",
       "<polygon fill=\"black\" stroke=\"black\" points=\"153.545,-170.196 143.794,-174.339 154,-177.181 153.545,-170.196\"/>\n",
       "<text text-anchor=\"middle\" x=\"219.32\" y=\"-174.8\" font-family=\"Times,serif\" font-size=\"14.00\">1</text>\n",
       "</g>\n",
       "<!-- \\(F_S010\\) -->\n",
       "<g id=\"node9\" class=\"node\"><title>\\(F_S010\\)</title>\n",
       "<ellipse fill=\"none\" stroke=\"black\" cx=\"459.741\" cy=\"-162\" rx=\"43.5405\" ry=\"43.5405\"/>\n",
       "<text text-anchor=\"middle\" x=\"459.741\" y=\"-157.8\" font-family=\"Times,serif\" font-size=\"14.00\">(F_S010)</text>\n",
       "</g>\n",
       "<!-- \\(F_S01\\)&#45;&gt;\\(F_S010\\) -->\n",
       "<g id=\"edge3\" class=\"edge\"><title>\\(F_S01\\)&#45;&gt;\\(F_S010\\)</title>\n",
       "<path fill=\"none\" stroke=\"black\" d=\"M373.558,-162C383.763,-162 394.965,-162 405.796,-162\"/>\n",
       "<polygon fill=\"black\" stroke=\"black\" points=\"406.022,-165.5 416.022,-162 406.022,-158.5 406.022,-165.5\"/>\n",
       "<text text-anchor=\"middle\" x=\"394.721\" y=\"-164.8\" font-family=\"Times,serif\" font-size=\"14.00\">0</text>\n",
       "</g>\n",
       "<!-- \\(I_F0101\\) -->\n",
       "<g id=\"node8\" class=\"node\"><title>\\(I_F0101\\)</title>\n",
       "<ellipse fill=\"none\" stroke=\"black\" cx=\"704.583\" cy=\"-162\" rx=\"45.9373\" ry=\"45.9373\"/>\n",
       "<text text-anchor=\"middle\" x=\"704.583\" y=\"-157.8\" font-family=\"Times,serif\" font-size=\"14.00\">(I_F0101)</text>\n",
       "</g>\n",
       "<!-- \\(I_F0101\\)&#45;&gt;\\(F_I\\) -->\n",
       "<g id=\"edge13\" class=\"edge\"><title>\\(I_F0101\\)&#45;&gt;\\(F_I\\)</title>\n",
       "<path fill=\"none\" stroke=\"black\" d=\"M747.659,-178.998C757.742,-184.553 767.817,-191.527 775.552,-200 801.132,-228.021 816.678,-268.939 825.256,-298.568\"/>\n",
       "<polygon fill=\"black\" stroke=\"black\" points=\"821.973,-299.828 828.005,-308.538 828.721,-297.967 821.973,-299.828\"/>\n",
       "<text text-anchor=\"middle\" x=\"772.052\" y=\"-202.8\" font-family=\"Times,serif\" font-size=\"14.00\">1</text>\n",
       "</g>\n",
       "<!-- \\(I_F0101\\)&#45;&gt;\\(I_S010\\) -->\n",
       "<g id=\"edge17\" class=\"edge\"><title>\\(I_F0101\\)&#45;&gt;\\(I_S010\\)</title>\n",
       "<path fill=\"none\" stroke=\"black\" d=\"M750.532,-159.901C761.064,-159.41 772.358,-158.882 783.132,-158.38\"/>\n",
       "<polygon fill=\"black\" stroke=\"black\" points=\"783.433,-161.869 793.259,-157.907 783.107,-154.877 783.433,-161.869\"/>\n",
       "<text text-anchor=\"middle\" x=\"772.052\" y=\"-161.8\" font-family=\"Times,serif\" font-size=\"14.00\">0</text>\n",
       "</g>\n",
       "<!-- \\(F_S010\\)&#45;&gt;\\(F_S0\\) -->\n",
       "<g id=\"edge21\" class=\"edge\"><title>\\(F_S010\\)&#45;&gt;\\(F_S0\\)</title>\n",
       "<path fill=\"none\" stroke=\"black\" d=\"M493.627,-189.866C509.972,-203.715 529.696,-220.428 546.16,-234.379\"/>\n",
       "<polygon fill=\"black\" stroke=\"black\" points=\"544.06,-237.187 553.952,-240.981 548.585,-231.846 544.06,-237.187\"/>\n",
       "<text text-anchor=\"middle\" x=\"524.761\" y=\"-221.8\" font-family=\"Times,serif\" font-size=\"14.00\">0</text>\n",
       "</g>\n",
       "<!-- \\(F_S010\\)&#45;&gt;\\(I_F0101\\) -->\n",
       "<g id=\"edge16\" class=\"edge\"><title>\\(F_S010\\)&#45;&gt;\\(I_F0101\\)</title>\n",
       "<path fill=\"none\" stroke=\"black\" d=\"M503.319,-162C543.617,-162 604.328,-162 648.338,-162\"/>\n",
       "<polygon fill=\"black\" stroke=\"black\" points=\"648.582,-165.5 658.582,-162 648.582,-158.5 648.582,-165.5\"/>\n",
       "<text text-anchor=\"middle\" x=\"580.938\" y=\"-164.8\" font-family=\"Times,serif\" font-size=\"14.00\">1</text>\n",
       "</g>\n",
       "<!-- \\(I_S010\\)&#45;&gt;\\(I_S0\\) -->\n",
       "<g id=\"edge19\" class=\"edge\"><title>\\(I_S010\\)&#45;&gt;\\(I_S0\\)</title>\n",
       "<path fill=\"none\" stroke=\"black\" d=\"M814.489,-119.633C792.846,-84.9621 754.502,-38 705.583,-38 333.122,-38 333.122,-38 333.122,-38 307.206,-38 279.535,-46.9266 258.085,-56.0106\"/>\n",
       "<polygon fill=\"black\" stroke=\"black\" points=\"256.425,-52.9176 248.696,-60.1639 259.257,-59.3192 256.425,-52.9176\"/>\n",
       "<text text-anchor=\"middle\" x=\"524.761\" y=\"-40.8\" font-family=\"Times,serif\" font-size=\"14.00\">0</text>\n",
       "</g>\n",
       "<!-- \\(F_F0101\\) -->\n",
       "<g id=\"node11\" class=\"node\"><title>\\(F_F0101\\)</title>\n",
       "<ellipse fill=\"none\" stroke=\"black\" cx=\"971.588\" cy=\"-84\" rx=\"47.8885\" ry=\"47.8885\"/>\n",
       "<ellipse fill=\"none\" stroke=\"black\" cx=\"971.588\" cy=\"-84\" rx=\"51.8841\" ry=\"51.8841\"/>\n",
       "<text text-anchor=\"middle\" x=\"971.588\" y=\"-79.8\" font-family=\"Times,serif\" font-size=\"14.00\">(F_F0101)</text>\n",
       "</g>\n",
       "<!-- \\(I_S010\\)&#45;&gt;\\(F_F0101\\) -->\n",
       "<g id=\"edge12\" class=\"edge\"><title>\\(I_S010\\)&#45;&gt;\\(F_F0101\\)</title>\n",
       "<path fill=\"none\" stroke=\"black\" d=\"M872.139,-136.705C885.671,-129.461 901.368,-121.058 916.198,-113.118\"/>\n",
       "<polygon fill=\"black\" stroke=\"black\" points=\"918.129,-116.054 925.293,-108.249 914.825,-109.883 918.129,-116.054\"/>\n",
       "<text text-anchor=\"middle\" x=\"898.146\" y=\"-127.8\" font-family=\"Times,serif\" font-size=\"14.00\">1</text>\n",
       "</g>\n",
       "<!-- \\(F_F0101\\)&#45;&gt;\\(I_I\\) -->\n",
       "<g id=\"edge20\" class=\"edge\"><title>\\(F_F0101\\)&#45;&gt;\\(I_I\\)</title>\n",
       "<path fill=\"none\" stroke=\"black\" d=\"M935.147,-46.6672C909.94,-24.2329 873.951,-0 836.099,-0 218.32,-0 218.32,-0 218.32,-0 154.699,-0 131.045,-88.0087 122.648,-139.557\"/>\n",
       "<polygon fill=\"black\" stroke=\"black\" points=\"119.156,-139.24 121.121,-149.651 126.077,-140.287 119.156,-139.24\"/>\n",
       "<text text-anchor=\"middle\" x=\"524.761\" y=\"-2.8\" font-family=\"Times,serif\" font-size=\"14.00\">1</text>\n",
       "</g>\n",
       "<!-- \\(F_F0101\\)&#45;&gt;\\(F_S010\\) -->\n",
       "<g id=\"edge14\" class=\"edge\"><title>\\(F_F0101\\)&#45;&gt;\\(F_S010\\)</title>\n",
       "<path fill=\"none\" stroke=\"black\" d=\"M919.498,-84C894.377,-84 863.65,-84 836.099,-84 579.938,-84 579.938,-84 579.938,-84 548.303,-84 518.521,-103.475 496.64,-122.963\"/>\n",
       "<polygon fill=\"black\" stroke=\"black\" points=\"494.193,-120.458 489.239,-129.824 498.952,-125.592 494.193,-120.458\"/>\n",
       "<text text-anchor=\"middle\" x=\"704.583\" y=\"-86.8\" font-family=\"Times,serif\" font-size=\"14.00\">0</text>\n",
       "</g>\n",
       "</g>\n",
       "</svg>\n"
      ],
      "text/plain": [
       "<graphviz.dot.Digraph at 0x109278ba8>"
      ]
     },
     "execution_count": 64,
     "metadata": {},
     "output_type": "execute_result"
    }
   ],
   "source": [
    "dotObj_dfa(C_CdfaOdd1sORCends0101)"
   ]
  },
  {
   "cell_type": "code",
   "execution_count": 65,
   "metadata": {
    "run_control": {
     "frozen": false,
     "read_only": false
    }
   },
   "outputs": [],
   "source": [
    "MinC_CdfaOdd1sORCends0101 = min_dfa(C_CdfaOdd1sORCends0101)"
   ]
  },
  {
   "cell_type": "markdown",
   "metadata": {},
   "source": [
    "## Minimized Comp(CdfaOdd1s OR Cends0101)\n",
    "\n",
    "This will now pass the isomorphism check, below\n"
   ]
  },
  {
   "cell_type": "code",
   "execution_count": 66,
   "metadata": {
    "run_control": {
     "frozen": false,
     "read_only": false
    }
   },
   "outputs": [
    {
     "data": {
      "image/svg+xml": [
       "<?xml version=\"1.0\" encoding=\"UTF-8\" standalone=\"no\"?>\n",
       "<!DOCTYPE svg PUBLIC \"-//W3C//DTD SVG 1.1//EN\"\n",
       " \"http://www.w3.org/Graphics/SVG/1.1/DTD/svg11.dtd\">\n",
       "<!-- Generated by graphviz version 2.38.0 (20140413.2041)\n",
       " -->\n",
       "<!-- Title: %3 Pages: 1 -->\n",
       "<svg width=\"784pt\" height=\"260pt\"\n",
       " viewBox=\"0.00 0.00 784.24 259.52\" xmlns=\"http://www.w3.org/2000/svg\" xmlns:xlink=\"http://www.w3.org/1999/xlink\">\n",
       "<g id=\"graph0\" class=\"graph\" transform=\"scale(1 1) rotate(0) translate(4 255.52)\">\n",
       "<title>%3</title>\n",
       "<polygon fill=\"white\" stroke=\"none\" points=\"-4,4 -4,-255.52 780.239,-255.52 780.239,4 -4,4\"/>\n",
       "<!-- EMPTY -->\n",
       "<g id=\"node1\" class=\"node\"><title>EMPTY</title>\n",
       "</g>\n",
       "<!-- \\(I_S0\\) -->\n",
       "<g id=\"node2\" class=\"node\"><title>\\(I_S0\\)</title>\n",
       "<ellipse fill=\"none\" stroke=\"black\" cx=\"123.703\" cy=\"-62\" rx=\"32.9081\" ry=\"32.9081\"/>\n",
       "<text text-anchor=\"middle\" x=\"123.703\" y=\"-57.8\" font-family=\"Times,serif\" font-size=\"14.00\">(I_S0)</text>\n",
       "</g>\n",
       "<!-- EMPTY&#45;&gt;\\(I_S0\\) -->\n",
       "<g id=\"edge1\" class=\"edge\"><title>EMPTY&#45;&gt;\\(I_S0\\)</title>\n",
       "<path fill=\"none\" stroke=\"black\" d=\"M54.1288,-62C62.4028,-62 71.7668,-62 80.8565,-62\"/>\n",
       "<polygon fill=\"black\" stroke=\"black\" points=\"80.9299,-65.5001 90.9298,-62 80.9298,-58.5001 80.9299,-65.5001\"/>\n",
       "</g>\n",
       "<!-- \\(I_S0\\)&#45;&gt;\\(I_S0\\) -->\n",
       "<g id=\"edge4\" class=\"edge\"><title>\\(I_S0\\)&#45;&gt;\\(I_S0\\)</title>\n",
       "<path fill=\"none\" stroke=\"black\" d=\"M114.328,-93.6896C114.328,-104.253 117.453,-112.703 123.703,-112.703 127.707,-112.703 130.429,-109.235 131.868,-103.965\"/>\n",
       "<polygon fill=\"black\" stroke=\"black\" points=\"135.384,-104.031 133.078,-93.6896 128.432,-103.211 135.384,-104.031\"/>\n",
       "<text text-anchor=\"middle\" x=\"123.703\" y=\"-115.503\" font-family=\"Times,serif\" font-size=\"14.00\">0</text>\n",
       "</g>\n",
       "<!-- \\(F_I\\) -->\n",
       "<g id=\"node3\" class=\"node\"><title>\\(F_I\\)</title>\n",
       "<ellipse fill=\"none\" stroke=\"black\" cx=\"227.689\" cy=\"-109\" rx=\"28.0651\" ry=\"28.0651\"/>\n",
       "<text text-anchor=\"middle\" x=\"227.689\" y=\"-104.8\" font-family=\"Times,serif\" font-size=\"14.00\">(F_I)</text>\n",
       "</g>\n",
       "<!-- \\(I_S0\\)&#45;&gt;\\(F_I\\) -->\n",
       "<g id=\"edge5\" class=\"edge\"><title>\\(I_S0\\)&#45;&gt;\\(F_I\\)</title>\n",
       "<path fill=\"none\" stroke=\"black\" d=\"M150.714,-80.7705C158.122,-85.5479 166.369,-90.3551 174.407,-94 179.406,-96.2666 184.83,-98.2773 190.228,-100.031\"/>\n",
       "<polygon fill=\"black\" stroke=\"black\" points=\"189.236,-103.388 199.821,-102.911 191.249,-96.6835 189.236,-103.388\"/>\n",
       "<text text-anchor=\"middle\" x=\"177.907\" y=\"-99.8\" font-family=\"Times,serif\" font-size=\"14.00\">1</text>\n",
       "</g>\n",
       "<!-- \\(F_I\\)&#45;&gt;\\(I_S0\\) -->\n",
       "<g id=\"edge7\" class=\"edge\"><title>\\(F_I\\)&#45;&gt;\\(I_S0\\)</title>\n",
       "<path fill=\"none\" stroke=\"black\" d=\"M205.654,-91.0622C198.356,-85.5695 189.872,-79.9431 181.407,-76 176.466,-73.6987 171.101,-71.7466 165.706,-70.0985\"/>\n",
       "<polygon fill=\"black\" stroke=\"black\" points=\"166.621,-66.7201 156.051,-67.4505 164.769,-73.4708 166.621,-66.7201\"/>\n",
       "<text text-anchor=\"middle\" x=\"177.907\" y=\"-78.8\" font-family=\"Times,serif\" font-size=\"14.00\">1</text>\n",
       "</g>\n",
       "<!-- \\(F_S010\\) -->\n",
       "<g id=\"node5\" class=\"node\"><title>\\(F_S010\\)</title>\n",
       "<ellipse fill=\"none\" stroke=\"black\" cx=\"342.491\" cy=\"-176\" rx=\"43.5405\" ry=\"43.5405\"/>\n",
       "<text text-anchor=\"middle\" x=\"342.491\" y=\"-171.8\" font-family=\"Times,serif\" font-size=\"14.00\">(F_S010)</text>\n",
       "</g>\n",
       "<!-- \\(F_I\\)&#45;&gt;\\(F_S010\\) -->\n",
       "<g id=\"edge3\" class=\"edge\"><title>\\(F_I\\)&#45;&gt;\\(F_S010\\)</title>\n",
       "<path fill=\"none\" stroke=\"black\" d=\"M252.336,-123.045C264.973,-130.551 280.967,-140.051 295.909,-148.926\"/>\n",
       "<polygon fill=\"black\" stroke=\"black\" points=\"294.166,-151.962 304.551,-154.06 297.741,-145.944 294.166,-151.962\"/>\n",
       "<text text-anchor=\"middle\" x=\"277.47\" y=\"-140.8\" font-family=\"Times,serif\" font-size=\"14.00\">0</text>\n",
       "</g>\n",
       "<!-- \\(I_S01\\) -->\n",
       "<g id=\"node4\" class=\"node\"><title>\\(I_S01\\)</title>\n",
       "<ellipse fill=\"none\" stroke=\"black\" cx=\"466.136\" cy=\"-111\" rx=\"37.2507\" ry=\"37.2507\"/>\n",
       "<text text-anchor=\"middle\" x=\"466.136\" y=\"-106.8\" font-family=\"Times,serif\" font-size=\"14.00\">(I_S01)</text>\n",
       "</g>\n",
       "<!-- \\(I_S01\\)&#45;&gt;\\(F_I\\) -->\n",
       "<g id=\"edge6\" class=\"edge\"><title>\\(I_S01\\)&#45;&gt;\\(F_I\\)</title>\n",
       "<path fill=\"none\" stroke=\"black\" d=\"M428.9,-109.892C415.434,-109.531 400.026,-109.177 386.011,-109 345.034,-108.482 298.049,-108.571 266.174,-108.734\"/>\n",
       "<polygon fill=\"black\" stroke=\"black\" points=\"265.954,-105.235 255.974,-108.791 265.994,-112.235 265.954,-105.235\"/>\n",
       "<text text-anchor=\"middle\" x=\"342.491\" y=\"-111.8\" font-family=\"Times,serif\" font-size=\"14.00\">1</text>\n",
       "</g>\n",
       "<!-- \\(I_S010\\) -->\n",
       "<g id=\"node6\" class=\"node\"><title>\\(I_S010\\)</title>\n",
       "<ellipse fill=\"none\" stroke=\"black\" cx=\"587.808\" cy=\"-88\" rx=\"41.5938\" ry=\"41.5938\"/>\n",
       "<text text-anchor=\"middle\" x=\"587.808\" y=\"-83.8\" font-family=\"Times,serif\" font-size=\"14.00\">(I_S010)</text>\n",
       "</g>\n",
       "<!-- \\(I_S01\\)&#45;&gt;\\(I_S010\\) -->\n",
       "<g id=\"edge2\" class=\"edge\"><title>\\(I_S01\\)&#45;&gt;\\(I_S010\\)</title>\n",
       "<path fill=\"none\" stroke=\"black\" d=\"M502.718,-104.162C513.482,-102.093 525.507,-99.7816 537.021,-97.5687\"/>\n",
       "<polygon fill=\"black\" stroke=\"black\" points=\"537.803,-100.982 546.963,-95.6579 536.482,-94.1083 537.803,-100.982\"/>\n",
       "<text text-anchor=\"middle\" x=\"524.761\" y=\"-103.8\" font-family=\"Times,serif\" font-size=\"14.00\">0</text>\n",
       "</g>\n",
       "<!-- \\(F_S010\\)&#45;&gt;\\(I_S01\\) -->\n",
       "<g id=\"edge11\" class=\"edge\"><title>\\(F_S010\\)&#45;&gt;\\(I_S01\\)</title>\n",
       "<path fill=\"none\" stroke=\"black\" d=\"M381.313,-155.79C394.93,-148.514 410.35,-140.274 424.218,-132.864\"/>\n",
       "<polygon fill=\"black\" stroke=\"black\" points=\"425.903,-135.932 433.073,-128.132 422.604,-129.758 425.903,-135.932\"/>\n",
       "<text text-anchor=\"middle\" x=\"407.511\" y=\"-145.8\" font-family=\"Times,serif\" font-size=\"14.00\">1</text>\n",
       "</g>\n",
       "<!-- \\(F_S010\\)&#45;&gt;\\(F_S010\\) -->\n",
       "<g id=\"edge8\" class=\"edge\"><title>\\(F_S010\\)&#45;&gt;\\(F_S010\\)</title>\n",
       "<path fill=\"none\" stroke=\"black\" d=\"M330.596,-217.981C331.276,-229.099 335.241,-237.52 342.491,-237.52 347.362,-237.52 350.75,-233.719 352.655,-227.852\"/>\n",
       "<polygon fill=\"black\" stroke=\"black\" points=\"356.106,-228.435 354.385,-217.981 349.211,-227.227 356.106,-228.435\"/>\n",
       "<text text-anchor=\"middle\" x=\"342.491\" y=\"-240.32\" font-family=\"Times,serif\" font-size=\"14.00\">0</text>\n",
       "</g>\n",
       "<!-- \\(I_S010\\)&#45;&gt;\\(I_S0\\) -->\n",
       "<g id=\"edge12\" class=\"edge\"><title>\\(I_S010\\)&#45;&gt;\\(I_S0\\)</title>\n",
       "<path fill=\"none\" stroke=\"black\" d=\"M551.019,-68.3527C527.812,-57.4217 496.531,-46 467.136,-46 226.689,-46 226.689,-46 226.689,-46 206.425,-46 184.168,-49.1209 165.63,-52.606\"/>\n",
       "<polygon fill=\"black\" stroke=\"black\" points=\"164.88,-49.1864 155.75,-54.5621 166.24,-56.0531 164.88,-49.1864\"/>\n",
       "<text text-anchor=\"middle\" x=\"342.491\" y=\"-48.8\" font-family=\"Times,serif\" font-size=\"14.00\">0</text>\n",
       "</g>\n",
       "<!-- \\(F_F0101\\) -->\n",
       "<g id=\"node7\" class=\"node\"><title>\\(F_F0101\\)</title>\n",
       "<ellipse fill=\"none\" stroke=\"black\" cx=\"724.297\" cy=\"-88\" rx=\"47.8885\" ry=\"47.8885\"/>\n",
       "<ellipse fill=\"none\" stroke=\"black\" cx=\"724.297\" cy=\"-88\" rx=\"51.8841\" ry=\"51.8841\"/>\n",
       "<text text-anchor=\"middle\" x=\"724.297\" y=\"-83.8\" font-family=\"Times,serif\" font-size=\"14.00\">(F_F0101)</text>\n",
       "</g>\n",
       "<!-- \\(I_S010\\)&#45;&gt;\\(F_F0101\\) -->\n",
       "<g id=\"edge9\" class=\"edge\"><title>\\(I_S010\\)&#45;&gt;\\(F_F0101\\)</title>\n",
       "<path fill=\"none\" stroke=\"black\" d=\"M629.524,-88C639.823,-88 651.112,-88 662.177,-88\"/>\n",
       "<polygon fill=\"black\" stroke=\"black\" points=\"662.241,-91.5001 672.241,-88 662.241,-84.5001 662.241,-91.5001\"/>\n",
       "<text text-anchor=\"middle\" x=\"650.855\" y=\"-90.8\" font-family=\"Times,serif\" font-size=\"14.00\">1</text>\n",
       "</g>\n",
       "<!-- \\(F_F0101\\)&#45;&gt;\\(I_S0\\) -->\n",
       "<g id=\"edge13\" class=\"edge\"><title>\\(F_F0101\\)&#45;&gt;\\(I_S0\\)</title>\n",
       "<path fill=\"none\" stroke=\"black\" d=\"M689.003,-49.6579C663.909,-25.9437 627.593,-0 588.808,-0 226.689,-0 226.689,-0 226.689,-0 199.674,-0 173.724,-16.0805 154.761,-31.8627\"/>\n",
       "<polygon fill=\"black\" stroke=\"black\" points=\"152.316,-29.3506 147.079,-38.5605 156.916,-34.6268 152.316,-29.3506\"/>\n",
       "<text text-anchor=\"middle\" x=\"407.511\" y=\"-2.8\" font-family=\"Times,serif\" font-size=\"14.00\">1</text>\n",
       "</g>\n",
       "<!-- \\(F_F0101\\)&#45;&gt;\\(F_S010\\) -->\n",
       "<g id=\"edge10\" class=\"edge\"><title>\\(F_F0101\\)&#45;&gt;\\(F_S010\\)</title>\n",
       "<path fill=\"none\" stroke=\"black\" d=\"M679.846,-115.771C664.434,-124.473 646.621,-133.286 629.355,-139 550.923,-164.955 454.768,-172.822 396.365,-175.135\"/>\n",
       "<polygon fill=\"black\" stroke=\"black\" points=\"396.135,-171.641 386.266,-175.495 396.384,-178.637 396.135,-171.641\"/>\n",
       "<text text-anchor=\"middle\" x=\"524.761\" y=\"-165.8\" font-family=\"Times,serif\" font-size=\"14.00\">0</text>\n",
       "</g>\n",
       "</g>\n",
       "</svg>\n"
      ],
      "text/plain": [
       "<graphviz.dot.Digraph at 0x109278320>"
      ]
     },
     "execution_count": 66,
     "metadata": {},
     "output_type": "execute_result"
    }
   ],
   "source": [
    "dotObj_dfa(MinC_CdfaOdd1sORCends0101)"
   ]
  },
  {
   "cell_type": "markdown",
   "metadata": {},
   "source": [
    "## DeMorgan's Law works\n",
    "\n",
    "The same machine, when obtained through two routes, turn out to be isomorphic when minimized\n"
   ]
  },
  {
   "cell_type": "code",
   "execution_count": 67,
   "metadata": {
    "run_control": {
     "frozen": false,
     "read_only": false
    }
   },
   "outputs": [
    {
     "data": {
      "text/plain": [
       "True"
      ]
     },
     "execution_count": 67,
     "metadata": {},
     "output_type": "execute_result"
    }
   ],
   "source": [
    "iso_dfa(MinC_CdfaOdd1sORCends0101, Minodd1sANDends0101)"
   ]
  },
  {
   "cell_type": "markdown",
   "metadata": {},
   "source": [
    "# These are some examples from the book"
   ]
  },
  {
   "cell_type": "code",
   "execution_count": 83,
   "metadata": {
    "run_control": {
     "frozen": false,
     "read_only": false
    }
   },
   "outputs": [],
   "source": [
    "blimp = md2mc('''\n",
    "DFA \n",
    "I1 : a -> F2\n",
    "I1 : b -> F3\n",
    "F2 : a -> S8\n",
    "F2 : b -> S5\n",
    "F3 : a -> S7\n",
    "F3 : b -> S4\n",
    "S4 : a | b -> F6\n",
    "S5 : a | b -> F6\n",
    "F6 : a | b -> F6\n",
    "S7 : a | b -> F6\n",
    "S8 : a -> F6\n",
    "S8 : b -> F9\n",
    "F9 : a -> F9\n",
    "F9 : b -> F6\n",
    "''')"
   ]
  },
  {
   "cell_type": "code",
   "execution_count": 84,
   "metadata": {
    "run_control": {
     "frozen": false,
     "read_only": false
    }
   },
   "outputs": [],
   "source": [
    "dblimp = dotObj_dfa(blimp)"
   ]
  },
  {
   "cell_type": "code",
   "execution_count": 85,
   "metadata": {
    "run_control": {
     "frozen": false,
     "read_only": false
    }
   },
   "outputs": [
    {
     "data": {
      "image/svg+xml": [
       "<?xml version=\"1.0\" encoding=\"UTF-8\" standalone=\"no\"?>\n",
       "<!DOCTYPE svg PUBLIC \"-//W3C//DTD SVG 1.1//EN\"\n",
       " \"http://www.w3.org/Graphics/SVG/1.1/DTD/svg11.dtd\">\n",
       "<!-- Generated by graphviz version 2.38.0 (20140413.2041)\n",
       " -->\n",
       "<!-- Title: %3 Pages: 1 -->\n",
       "<svg width=\"493pt\" height=\"289pt\"\n",
       " viewBox=\"0.00 0.00 493.00 288.98\" xmlns=\"http://www.w3.org/2000/svg\" xmlns:xlink=\"http://www.w3.org/1999/xlink\">\n",
       "<g id=\"graph0\" class=\"graph\" transform=\"scale(1 1) rotate(0) translate(4 284.983)\">\n",
       "<title>%3</title>\n",
       "<polygon fill=\"white\" stroke=\"none\" points=\"-4,4 -4,-284.983 489.003,-284.983 489.003,4 -4,4\"/>\n",
       "<!-- EMPTY -->\n",
       "<g id=\"node1\" class=\"node\"><title>EMPTY</title>\n",
       "</g>\n",
       "<!-- I1 -->\n",
       "<g id=\"node5\" class=\"node\"><title>I1</title>\n",
       "<ellipse fill=\"none\" stroke=\"black\" cx=\"109\" cy=\"-181.983\" rx=\"18\" ry=\"18\"/>\n",
       "<text text-anchor=\"middle\" x=\"109\" y=\"-177.783\" font-family=\"Times,serif\" font-size=\"14.00\">I1</text>\n",
       "</g>\n",
       "<!-- EMPTY&#45;&gt;I1 -->\n",
       "<g id=\"edge1\" class=\"edge\"><title>EMPTY&#45;&gt;I1</title>\n",
       "<path fill=\"none\" stroke=\"black\" d=\"M54.195,-181.983C62.6538,-181.983 72.0513,-181.983 80.5951,-181.983\"/>\n",
       "<polygon fill=\"black\" stroke=\"black\" points=\"80.8257,-185.483 90.8257,-181.983 80.8257,-178.483 80.8257,-185.483\"/>\n",
       "</g>\n",
       "<!-- S5 -->\n",
       "<g id=\"node2\" class=\"node\"><title>S5</title>\n",
       "<ellipse fill=\"none\" stroke=\"black\" cx=\"371.662\" cy=\"-145.983\" rx=\"19.3939\" ry=\"19.3939\"/>\n",
       "<text text-anchor=\"middle\" x=\"371.662\" y=\"-141.783\" font-family=\"Times,serif\" font-size=\"14.00\">S5</text>\n",
       "</g>\n",
       "<!-- F6 -->\n",
       "<g id=\"node10\" class=\"node\"><title>F6</title>\n",
       "<ellipse fill=\"none\" stroke=\"black\" cx=\"461.556\" cy=\"-154.983\" rx=\"19.4029\" ry=\"19.4029\"/>\n",
       "<ellipse fill=\"none\" stroke=\"black\" cx=\"461.556\" cy=\"-154.983\" rx=\"23.3939\" ry=\"23.3939\"/>\n",
       "<text text-anchor=\"middle\" x=\"461.556\" y=\"-150.783\" font-family=\"Times,serif\" font-size=\"14.00\">F6</text>\n",
       "</g>\n",
       "<!-- S5&#45;&gt;F6 -->\n",
       "<g id=\"edge10\" class=\"edge\"><title>S5&#45;&gt;F6</title>\n",
       "<path fill=\"none\" stroke=\"black\" d=\"M390.287,-139.931C399.243,-137.636 410.282,-136.002 420.109,-137.983 423.758,-138.718 427.489,-139.793 431.136,-141.05\"/>\n",
       "<polygon fill=\"black\" stroke=\"black\" points=\"429.895,-144.323 440.483,-144.696 432.439,-137.801 429.895,-144.323\"/>\n",
       "<text text-anchor=\"middle\" x=\"416.609\" y=\"-140.783\" font-family=\"Times,serif\" font-size=\"14.00\">a</text>\n",
       "</g>\n",
       "<!-- S5&#45;&gt;F6 -->\n",
       "<g id=\"edge11\" class=\"edge\"><title>S5&#45;&gt;F6</title>\n",
       "<path fill=\"none\" stroke=\"black\" d=\"M385.469,-131.977C394.752,-123.598 407.786,-115.391 420.109,-119.983 426.39,-122.323 432.346,-126.127 437.659,-130.382\"/>\n",
       "<polygon fill=\"black\" stroke=\"black\" points=\"435.636,-133.267 445.435,-137.296 440.287,-128.035 435.636,-133.267\"/>\n",
       "<text text-anchor=\"middle\" x=\"416.609\" y=\"-122.783\" font-family=\"Times,serif\" font-size=\"14.00\">b</text>\n",
       "</g>\n",
       "<!-- S8 -->\n",
       "<g id=\"node3\" class=\"node\"><title>S8</title>\n",
       "<ellipse fill=\"none\" stroke=\"black\" cx=\"281.768\" cy=\"-52.9827\" rx=\"19.3939\" ry=\"19.3939\"/>\n",
       "<text text-anchor=\"middle\" x=\"281.768\" y=\"-48.7827\" font-family=\"Times,serif\" font-size=\"14.00\">S8</text>\n",
       "</g>\n",
       "<!-- F9 -->\n",
       "<g id=\"node9\" class=\"node\"><title>F9</title>\n",
       "<ellipse fill=\"none\" stroke=\"black\" cx=\"371.662\" cy=\"-52.9827\" rx=\"19.4029\" ry=\"19.4029\"/>\n",
       "<ellipse fill=\"none\" stroke=\"black\" cx=\"371.662\" cy=\"-52.9827\" rx=\"23.3939\" ry=\"23.3939\"/>\n",
       "<text text-anchor=\"middle\" x=\"371.662\" y=\"-48.7827\" font-family=\"Times,serif\" font-size=\"14.00\">F9</text>\n",
       "</g>\n",
       "<!-- S8&#45;&gt;F9 -->\n",
       "<g id=\"edge17\" class=\"edge\"><title>S8&#45;&gt;F9</title>\n",
       "<path fill=\"none\" stroke=\"black\" d=\"M301.408,-52.9827C311.931,-52.9827 325.391,-52.9827 337.642,-52.9827\"/>\n",
       "<polygon fill=\"black\" stroke=\"black\" points=\"337.992,-56.4828 347.992,-52.9827 337.992,-49.4828 337.992,-56.4828\"/>\n",
       "<text text-anchor=\"middle\" x=\"326.715\" y=\"-55.7827\" font-family=\"Times,serif\" font-size=\"14.00\">b</text>\n",
       "</g>\n",
       "<!-- S8&#45;&gt;F6 -->\n",
       "<g id=\"edge16\" class=\"edge\"><title>S8&#45;&gt;F6</title>\n",
       "<path fill=\"none\" stroke=\"black\" d=\"M296.359,-39.4207C318.318,-19.2036 362.437,14.2936 395.109,-6.98267 433.833,-32.2 449.814,-86.1108 456.291,-121.433\"/>\n",
       "<polygon fill=\"black\" stroke=\"black\" points=\"452.913,-122.457 458.01,-131.745 459.818,-121.306 452.913,-122.457\"/>\n",
       "<text text-anchor=\"middle\" x=\"371.662\" y=\"-9.78267\" font-family=\"Times,serif\" font-size=\"14.00\">a</text>\n",
       "</g>\n",
       "<!-- S4 -->\n",
       "<g id=\"node4\" class=\"node\"><title>S4</title>\n",
       "<ellipse fill=\"none\" stroke=\"black\" cx=\"371.662\" cy=\"-259.983\" rx=\"19.3939\" ry=\"19.3939\"/>\n",
       "<text text-anchor=\"middle\" x=\"371.662\" y=\"-255.783\" font-family=\"Times,serif\" font-size=\"14.00\">S4</text>\n",
       "</g>\n",
       "<!-- S4&#45;&gt;F6 -->\n",
       "<g id=\"edge8\" class=\"edge\"><title>S4&#45;&gt;F6</title>\n",
       "<path fill=\"none\" stroke=\"black\" d=\"M390.33,-266.102C399.935,-268.274 411.562,-268.908 420.109,-262.983 444.008,-246.413 453.808,-213.878 457.815,-188.829\"/>\n",
       "<polygon fill=\"black\" stroke=\"black\" points=\"461.323,-189.001 459.201,-178.621 454.387,-188.059 461.323,-189.001\"/>\n",
       "<text text-anchor=\"middle\" x=\"416.609\" y=\"-269.783\" font-family=\"Times,serif\" font-size=\"14.00\">a</text>\n",
       "</g>\n",
       "<!-- S4&#45;&gt;F6 -->\n",
       "<g id=\"edge9\" class=\"edge\"><title>S4&#45;&gt;F6</title>\n",
       "<path fill=\"none\" stroke=\"black\" d=\"M386.022,-246.822C395.8,-236.975 409.205,-223.016 420.109,-209.983 427.428,-201.233 434.961,-191.289 441.512,-182.285\"/>\n",
       "<polygon fill=\"black\" stroke=\"black\" points=\"444.464,-184.174 447.453,-174.01 438.778,-180.092 444.464,-184.174\"/>\n",
       "<text text-anchor=\"middle\" x=\"416.609\" y=\"-220.783\" font-family=\"Times,serif\" font-size=\"14.00\">b</text>\n",
       "</g>\n",
       "<!-- F3 -->\n",
       "<g id=\"node7\" class=\"node\"><title>F3</title>\n",
       "<ellipse fill=\"none\" stroke=\"black\" cx=\"281.768\" cy=\"-203.983\" rx=\"19.4029\" ry=\"19.4029\"/>\n",
       "<ellipse fill=\"none\" stroke=\"black\" cx=\"281.768\" cy=\"-203.983\" rx=\"23.3939\" ry=\"23.3939\"/>\n",
       "<text text-anchor=\"middle\" x=\"281.768\" y=\"-199.783\" font-family=\"Times,serif\" font-size=\"14.00\">F3</text>\n",
       "</g>\n",
       "<!-- I1&#45;&gt;F3 -->\n",
       "<g id=\"edge3\" class=\"edge\"><title>I1&#45;&gt;F3</title>\n",
       "<path fill=\"none\" stroke=\"black\" d=\"M126.998,-184.173C155.255,-187.813 212.347,-195.168 248.455,-199.82\"/>\n",
       "<polygon fill=\"black\" stroke=\"black\" points=\"248.122,-203.306 258.487,-201.112 249.016,-196.363 248.122,-203.306\"/>\n",
       "<text text-anchor=\"middle\" x=\"192.661\" y=\"-198.783\" font-family=\"Times,serif\" font-size=\"14.00\">b</text>\n",
       "</g>\n",
       "<!-- F2 -->\n",
       "<g id=\"node8\" class=\"node\"><title>F2</title>\n",
       "<ellipse fill=\"none\" stroke=\"black\" cx=\"192.661\" cy=\"-144.983\" rx=\"19.4029\" ry=\"19.4029\"/>\n",
       "<ellipse fill=\"none\" stroke=\"black\" cx=\"192.661\" cy=\"-144.983\" rx=\"23.3939\" ry=\"23.3939\"/>\n",
       "<text text-anchor=\"middle\" x=\"192.661\" y=\"-140.783\" font-family=\"Times,serif\" font-size=\"14.00\">F2</text>\n",
       "</g>\n",
       "<!-- I1&#45;&gt;F2 -->\n",
       "<g id=\"edge2\" class=\"edge\"><title>I1&#45;&gt;F2</title>\n",
       "<path fill=\"none\" stroke=\"black\" d=\"M125.745,-174.849C135.912,-170.242 149.466,-164.101 161.639,-158.585\"/>\n",
       "<polygon fill=\"black\" stroke=\"black\" points=\"163.351,-161.652 171.015,-154.337 160.462,-155.276 163.351,-161.652\"/>\n",
       "<text text-anchor=\"middle\" x=\"148.107\" y=\"-168.783\" font-family=\"Times,serif\" font-size=\"14.00\">a</text>\n",
       "</g>\n",
       "<!-- S7 -->\n",
       "<g id=\"node6\" class=\"node\"><title>S7</title>\n",
       "<ellipse fill=\"none\" stroke=\"black\" cx=\"371.662\" cy=\"-202.983\" rx=\"19.3939\" ry=\"19.3939\"/>\n",
       "<text text-anchor=\"middle\" x=\"371.662\" y=\"-198.783\" font-family=\"Times,serif\" font-size=\"14.00\">S7</text>\n",
       "</g>\n",
       "<!-- S7&#45;&gt;F6 -->\n",
       "<g id=\"edge14\" class=\"edge\"><title>S7&#45;&gt;F6</title>\n",
       "<path fill=\"none\" stroke=\"black\" d=\"M390.92,-199.457C400.037,-197.241 411.03,-193.86 420.109,-188.983 425.836,-185.906 431.493,-181.927 436.678,-177.78\"/>\n",
       "<polygon fill=\"black\" stroke=\"black\" points=\"439.029,-180.376 444.382,-171.233 434.496,-175.042 439.029,-180.376\"/>\n",
       "<text text-anchor=\"middle\" x=\"416.609\" y=\"-194.783\" font-family=\"Times,serif\" font-size=\"14.00\">a</text>\n",
       "</g>\n",
       "<!-- S7&#45;&gt;F6 -->\n",
       "<g id=\"edge15\" class=\"edge\"><title>S7&#45;&gt;F6</title>\n",
       "<path fill=\"none\" stroke=\"black\" d=\"M386.415,-190.142C393.872,-183.706 403.508,-176.194 413.109,-170.983 418.075,-168.287 423.578,-165.929 429.025,-163.911\"/>\n",
       "<polygon fill=\"black\" stroke=\"black\" points=\"430.298,-167.175 438.642,-160.645 428.048,-160.546 430.298,-167.175\"/>\n",
       "<text text-anchor=\"middle\" x=\"416.609\" y=\"-173.783\" font-family=\"Times,serif\" font-size=\"14.00\">b</text>\n",
       "</g>\n",
       "<!-- F3&#45;&gt;S4 -->\n",
       "<g id=\"edge7\" class=\"edge\"><title>F3&#45;&gt;S4</title>\n",
       "<path fill=\"none\" stroke=\"black\" d=\"M301.84,-216.134C314.845,-224.42 332.183,-235.466 346.203,-244.399\"/>\n",
       "<polygon fill=\"black\" stroke=\"black\" points=\"344.544,-247.492 354.858,-249.913 348.305,-241.588 344.544,-247.492\"/>\n",
       "<text text-anchor=\"middle\" x=\"326.715\" y=\"-236.783\" font-family=\"Times,serif\" font-size=\"14.00\">b</text>\n",
       "</g>\n",
       "<!-- F3&#45;&gt;S7 -->\n",
       "<g id=\"edge6\" class=\"edge\"><title>F3&#45;&gt;S7</title>\n",
       "<path fill=\"none\" stroke=\"black\" d=\"M305.403,-203.725C316.463,-203.599 329.899,-203.446 341.698,-203.312\"/>\n",
       "<polygon fill=\"black\" stroke=\"black\" points=\"341.999,-206.809 351.958,-203.195 341.919,-199.81 341.999,-206.809\"/>\n",
       "<text text-anchor=\"middle\" x=\"326.715\" y=\"-206.783\" font-family=\"Times,serif\" font-size=\"14.00\">a</text>\n",
       "</g>\n",
       "<!-- F2&#45;&gt;S5 -->\n",
       "<g id=\"edge5\" class=\"edge\"><title>F2&#45;&gt;S5</title>\n",
       "<path fill=\"none\" stroke=\"black\" d=\"M216.438,-145.111C248.508,-145.293 306.955,-145.623 341.957,-145.82\"/>\n",
       "<polygon fill=\"black\" stroke=\"black\" points=\"341.992,-149.321 352.012,-145.877 342.032,-142.321 341.992,-149.321\"/>\n",
       "<text text-anchor=\"middle\" x=\"281.768\" y=\"-148.783\" font-family=\"Times,serif\" font-size=\"14.00\">b</text>\n",
       "</g>\n",
       "<!-- F2&#45;&gt;S8 -->\n",
       "<g id=\"edge4\" class=\"edge\"><title>F2&#45;&gt;S8</title>\n",
       "<path fill=\"none\" stroke=\"black\" d=\"M209.638,-128.108C223.989,-112.951 245.125,-90.6275 260.629,-74.2528\"/>\n",
       "<polygon fill=\"black\" stroke=\"black\" points=\"263.399,-76.4177 267.733,-66.7498 258.316,-71.6049 263.399,-76.4177\"/>\n",
       "<text text-anchor=\"middle\" x=\"237.215\" y=\"-104.783\" font-family=\"Times,serif\" font-size=\"14.00\">a</text>\n",
       "</g>\n",
       "<!-- F9&#45;&gt;F9 -->\n",
       "<g id=\"edge18\" class=\"edge\"><title>F9&#45;&gt;F9</title>\n",
       "<path fill=\"none\" stroke=\"black\" d=\"M363.575,-75.1561C362.693,-85.4423 365.389,-94.4295 371.662,-94.4295 375.681,-94.4295 378.232,-90.7412 379.314,-85.3858\"/>\n",
       "<polygon fill=\"black\" stroke=\"black\" points=\"382.821,-85.2959 379.749,-75.1561 375.827,-84.9983 382.821,-85.2959\"/>\n",
       "<text text-anchor=\"middle\" x=\"371.662\" y=\"-97.2295\" font-family=\"Times,serif\" font-size=\"14.00\">a</text>\n",
       "</g>\n",
       "<!-- F9&#45;&gt;F6 -->\n",
       "<g id=\"edge19\" class=\"edge\"><title>F9&#45;&gt;F6</title>\n",
       "<path fill=\"none\" stroke=\"black\" d=\"M389.486,-68.8926C398.827,-77.9955 410.471,-89.7982 420.109,-100.983 427.41,-109.455 434.891,-119.12 441.403,-127.909\"/>\n",
       "<polygon fill=\"black\" stroke=\"black\" points=\"438.587,-129.988 447.311,-135.999 444.24,-125.859 438.587,-129.988\"/>\n",
       "<text text-anchor=\"middle\" x=\"416.609\" y=\"-103.783\" font-family=\"Times,serif\" font-size=\"14.00\">b</text>\n",
       "</g>\n",
       "<!-- F6&#45;&gt;F6 -->\n",
       "<g id=\"edge12\" class=\"edge\"><title>F6&#45;&gt;F6</title>\n",
       "<path fill=\"none\" stroke=\"black\" d=\"M457.467,-178.417C457.185,-188.166 458.548,-196.43 461.556,-196.43 463.389,-196.43 464.611,-193.361 465.222,-188.758\"/>\n",
       "<polygon fill=\"black\" stroke=\"black\" points=\"468.733,-188.552 465.645,-178.417 461.739,-188.266 468.733,-188.552\"/>\n",
       "<text text-anchor=\"middle\" x=\"461.556\" y=\"-199.23\" font-family=\"Times,serif\" font-size=\"14.00\">a</text>\n",
       "</g>\n",
       "<!-- F6&#45;&gt;F6 -->\n",
       "<g id=\"edge13\" class=\"edge\"><title>F6&#45;&gt;F6</title>\n",
       "<path fill=\"none\" stroke=\"black\" d=\"M454.466,-177.551C451.63,-195.698 453.993,-214.43 461.556,-214.43 467.7,-214.43 470.413,-202.064 469.693,-187.693\"/>\n",
       "<polygon fill=\"black\" stroke=\"black\" points=\"473.154,-187.139 468.646,-177.551 466.191,-187.858 473.154,-187.139\"/>\n",
       "<text text-anchor=\"middle\" x=\"461.556\" y=\"-217.23\" font-family=\"Times,serif\" font-size=\"14.00\">b</text>\n",
       "</g>\n",
       "</g>\n",
       "</svg>\n"
      ],
      "text/plain": [
       "<graphviz.dot.Digraph at 0x108e61ac8>"
      ]
     },
     "execution_count": 85,
     "metadata": {},
     "output_type": "execute_result"
    }
   ],
   "source": [
    "dblimp"
   ]
  },
  {
   "cell_type": "code",
   "execution_count": 86,
   "metadata": {
    "run_control": {
     "frozen": false,
     "read_only": false
    }
   },
   "outputs": [],
   "source": [
    "dblimp = dotObj_dfa(blimp, FuseEdges=True)"
   ]
  },
  {
   "cell_type": "code",
   "execution_count": 87,
   "metadata": {
    "run_control": {
     "frozen": false,
     "read_only": false
    }
   },
   "outputs": [
    {
     "data": {
      "image/svg+xml": [
       "<?xml version=\"1.0\" encoding=\"UTF-8\" standalone=\"no\"?>\n",
       "<!DOCTYPE svg PUBLIC \"-//W3C//DTD SVG 1.1//EN\"\n",
       " \"http://www.w3.org/Graphics/SVG/1.1/DTD/svg11.dtd\">\n",
       "<!-- Generated by graphviz version 2.38.0 (20140413.2041)\n",
       " -->\n",
       "<!-- Title: %3 Pages: 1 -->\n",
       "<svg width=\"529pt\" height=\"295pt\"\n",
       " viewBox=\"0.00 0.00 529.18 295.45\" xmlns=\"http://www.w3.org/2000/svg\" xmlns:xlink=\"http://www.w3.org/1999/xlink\">\n",
       "<g id=\"graph0\" class=\"graph\" transform=\"scale(1 1) rotate(0) translate(4 291.447)\">\n",
       "<title>%3</title>\n",
       "<polygon fill=\"white\" stroke=\"none\" points=\"-4,4 -4,-291.447 525.183,-291.447 525.183,4 -4,4\"/>\n",
       "<!-- EMPTY -->\n",
       "<g id=\"node1\" class=\"node\"><title>EMPTY</title>\n",
       "</g>\n",
       "<!-- I1 -->\n",
       "<g id=\"node5\" class=\"node\"><title>I1</title>\n",
       "<ellipse fill=\"none\" stroke=\"black\" cx=\"109\" cy=\"-185\" rx=\"18\" ry=\"18\"/>\n",
       "<text text-anchor=\"middle\" x=\"109\" y=\"-180.8\" font-family=\"Times,serif\" font-size=\"14.00\">I1</text>\n",
       "</g>\n",
       "<!-- EMPTY&#45;&gt;I1 -->\n",
       "<g id=\"edge1\" class=\"edge\"><title>EMPTY&#45;&gt;I1</title>\n",
       "<path fill=\"none\" stroke=\"black\" d=\"M54.195,-185C62.6538,-185 72.0513,-185 80.5951,-185\"/>\n",
       "<polygon fill=\"black\" stroke=\"black\" points=\"80.8257,-188.501 90.8257,-185 80.8257,-181.501 80.8257,-188.501\"/>\n",
       "</g>\n",
       "<!-- S5 -->\n",
       "<g id=\"node2\" class=\"node\"><title>S5</title>\n",
       "<ellipse fill=\"none\" stroke=\"black\" cx=\"343.448\" cy=\"-146\" rx=\"19.3939\" ry=\"19.3939\"/>\n",
       "<text text-anchor=\"middle\" x=\"343.448\" y=\"-141.8\" font-family=\"Times,serif\" font-size=\"14.00\">S5</text>\n",
       "</g>\n",
       "<!-- F6 -->\n",
       "<g id=\"node10\" class=\"node\"><title>F6</title>\n",
       "<ellipse fill=\"none\" stroke=\"black\" cx=\"497.736\" cy=\"-146\" rx=\"19.4029\" ry=\"19.4029\"/>\n",
       "<ellipse fill=\"none\" stroke=\"black\" cx=\"497.736\" cy=\"-146\" rx=\"23.3939\" ry=\"23.3939\"/>\n",
       "<text text-anchor=\"middle\" x=\"497.736\" y=\"-141.8\" font-family=\"Times,serif\" font-size=\"14.00\">F6</text>\n",
       "</g>\n",
       "<!-- S5&#45;&gt;F6 -->\n",
       "<g id=\"edge9\" class=\"edge\"><title>S5&#45;&gt;F6</title>\n",
       "<path fill=\"none\" stroke=\"black\" d=\"M363.122,-146C388.201,-146 433.168,-146 463.952,-146\"/>\n",
       "<polygon fill=\"black\" stroke=\"black\" points=\"464.193,-149.501 474.193,-146 464.193,-142.501 464.193,-149.501\"/>\n",
       "<text text-anchor=\"middle\" x=\"404.342\" y=\"-162.8\" font-family=\"Times,serif\" font-size=\"14.00\">b </text>\n",
       "<text text-anchor=\"middle\" x=\"404.342\" y=\"-148.8\" font-family=\"Times,serif\" font-size=\"14.00\"> a</text>\n",
       "</g>\n",
       "<!-- S8 -->\n",
       "<g id=\"node3\" class=\"node\"><title>S8</title>\n",
       "<ellipse fill=\"none\" stroke=\"black\" cx=\"282.554\" cy=\"-55.0005\" rx=\"19.3939\" ry=\"19.3939\"/>\n",
       "<text text-anchor=\"middle\" x=\"282.554\" y=\"-50.8005\" font-family=\"Times,serif\" font-size=\"14.00\">S8</text>\n",
       "</g>\n",
       "<!-- F9 -->\n",
       "<g id=\"node9\" class=\"node\"><title>F9</title>\n",
       "<ellipse fill=\"none\" stroke=\"black\" cx=\"404.342\" cy=\"-55.0005\" rx=\"19.4029\" ry=\"19.4029\"/>\n",
       "<ellipse fill=\"none\" stroke=\"black\" cx=\"404.342\" cy=\"-55.0005\" rx=\"23.3939\" ry=\"23.3939\"/>\n",
       "<text text-anchor=\"middle\" x=\"404.342\" y=\"-50.8005\" font-family=\"Times,serif\" font-size=\"14.00\">F9</text>\n",
       "</g>\n",
       "<!-- S8&#45;&gt;F9 -->\n",
       "<g id=\"edge13\" class=\"edge\"><title>S8&#45;&gt;F9</title>\n",
       "<path fill=\"none\" stroke=\"black\" d=\"M302.009,-55.0005C320.169,-55.0005 348.299,-55.0005 370.318,-55.0005\"/>\n",
       "<polygon fill=\"black\" stroke=\"black\" points=\"370.565,-58.5006 380.565,-55.0005 370.565,-51.5006 370.565,-58.5006\"/>\n",
       "<text text-anchor=\"middle\" x=\"343.448\" y=\"-57.8005\" font-family=\"Times,serif\" font-size=\"14.00\">b</text>\n",
       "</g>\n",
       "<!-- S8&#45;&gt;F6 -->\n",
       "<g id=\"edge12\" class=\"edge\"><title>S8&#45;&gt;F6</title>\n",
       "<path fill=\"none\" stroke=\"black\" d=\"M298.036,-42.849C325.176,-21.6382 384.827,17.4741 427.789,-9.00049 464.403,-31.5633 482.261,-80.1917 490.455,-113.012\"/>\n",
       "<polygon fill=\"black\" stroke=\"black\" points=\"487.117,-114.111 492.788,-123.06 493.936,-112.528 487.117,-114.111\"/>\n",
       "<text text-anchor=\"middle\" x=\"404.342\" y=\"-11.8005\" font-family=\"Times,serif\" font-size=\"14.00\">a</text>\n",
       "</g>\n",
       "<!-- S4 -->\n",
       "<g id=\"node4\" class=\"node\"><title>S4</title>\n",
       "<ellipse fill=\"none\" stroke=\"black\" cx=\"404.342\" cy=\"-268\" rx=\"19.3939\" ry=\"19.3939\"/>\n",
       "<text text-anchor=\"middle\" x=\"404.342\" y=\"-263.8\" font-family=\"Times,serif\" font-size=\"14.00\">S4</text>\n",
       "</g>\n",
       "<!-- S4&#45;&gt;F6 -->\n",
       "<g id=\"edge8\" class=\"edge\"><title>S4&#45;&gt;F6</title>\n",
       "<path fill=\"none\" stroke=\"black\" d=\"M419.148,-254.673C429.898,-243.938 444.862,-228.184 456.289,-213 465.208,-201.148 473.876,-187.22 480.885,-175.142\"/>\n",
       "<polygon fill=\"black\" stroke=\"black\" points=\"483.994,-176.754 485.897,-166.332 477.91,-173.293 483.994,-176.754\"/>\n",
       "<text text-anchor=\"middle\" x=\"451.039\" y=\"-242.8\" font-family=\"Times,serif\" font-size=\"14.00\">b </text>\n",
       "<text text-anchor=\"middle\" x=\"451.039\" y=\"-228.8\" font-family=\"Times,serif\" font-size=\"14.00\"> a</text>\n",
       "</g>\n",
       "<!-- F3 -->\n",
       "<g id=\"node7\" class=\"node\"><title>F3</title>\n",
       "<ellipse fill=\"none\" stroke=\"black\" cx=\"282.554\" cy=\"-211\" rx=\"19.4029\" ry=\"19.4029\"/>\n",
       "<ellipse fill=\"none\" stroke=\"black\" cx=\"282.554\" cy=\"-211\" rx=\"23.3939\" ry=\"23.3939\"/>\n",
       "<text text-anchor=\"middle\" x=\"282.554\" y=\"-206.8\" font-family=\"Times,serif\" font-size=\"14.00\">F3</text>\n",
       "</g>\n",
       "<!-- I1&#45;&gt;F3 -->\n",
       "<g id=\"edge3\" class=\"edge\"><title>I1&#45;&gt;F3</title>\n",
       "<path fill=\"none\" stroke=\"black\" d=\"M127.076,-187.589C155.463,-191.891 212.818,-200.583 249.093,-206.081\"/>\n",
       "<polygon fill=\"black\" stroke=\"black\" points=\"248.759,-209.57 259.171,-207.608 249.808,-202.649 248.759,-209.57\"/>\n",
       "<text text-anchor=\"middle\" x=\"192.661\" y=\"-204.8\" font-family=\"Times,serif\" font-size=\"14.00\">b</text>\n",
       "</g>\n",
       "<!-- F2 -->\n",
       "<g id=\"node8\" class=\"node\"><title>F2</title>\n",
       "<ellipse fill=\"none\" stroke=\"black\" cx=\"192.661\" cy=\"-146\" rx=\"19.4029\" ry=\"19.4029\"/>\n",
       "<ellipse fill=\"none\" stroke=\"black\" cx=\"192.661\" cy=\"-146\" rx=\"23.3939\" ry=\"23.3939\"/>\n",
       "<text text-anchor=\"middle\" x=\"192.661\" y=\"-141.8\" font-family=\"Times,serif\" font-size=\"14.00\">F2</text>\n",
       "</g>\n",
       "<!-- I1&#45;&gt;F2 -->\n",
       "<g id=\"edge2\" class=\"edge\"><title>I1&#45;&gt;F2</title>\n",
       "<path fill=\"none\" stroke=\"black\" d=\"M125.745,-177.481C136.086,-172.542 149.932,-165.929 162.265,-160.039\"/>\n",
       "<polygon fill=\"black\" stroke=\"black\" points=\"163.802,-163.184 171.317,-155.716 160.785,-156.867 163.802,-163.184\"/>\n",
       "<text text-anchor=\"middle\" x=\"148.107\" y=\"-170.8\" font-family=\"Times,serif\" font-size=\"14.00\">a</text>\n",
       "</g>\n",
       "<!-- S7 -->\n",
       "<g id=\"node6\" class=\"node\"><title>S7</title>\n",
       "<ellipse fill=\"none\" stroke=\"black\" cx=\"404.342\" cy=\"-211\" rx=\"19.3939\" ry=\"19.3939\"/>\n",
       "<text text-anchor=\"middle\" x=\"404.342\" y=\"-206.8\" font-family=\"Times,serif\" font-size=\"14.00\">S7</text>\n",
       "</g>\n",
       "<!-- S7&#45;&gt;F6 -->\n",
       "<g id=\"edge11\" class=\"edge\"><title>S7&#45;&gt;F6</title>\n",
       "<path fill=\"none\" stroke=\"black\" d=\"M420.846,-199.974C434.166,-190.5 453.683,-176.62 469.588,-165.308\"/>\n",
       "<polygon fill=\"black\" stroke=\"black\" points=\"471.87,-167.98 477.991,-159.332 467.813,-162.276 471.87,-167.98\"/>\n",
       "<text text-anchor=\"middle\" x=\"451.039\" y=\"-197.8\" font-family=\"Times,serif\" font-size=\"14.00\">b </text>\n",
       "<text text-anchor=\"middle\" x=\"451.039\" y=\"-183.8\" font-family=\"Times,serif\" font-size=\"14.00\"> a</text>\n",
       "</g>\n",
       "<!-- F3&#45;&gt;S4 -->\n",
       "<g id=\"edge7\" class=\"edge\"><title>F3&#45;&gt;S4</title>\n",
       "<path fill=\"none\" stroke=\"black\" d=\"M304.147,-220.799C324.425,-230.448 355.463,-245.218 377.412,-255.662\"/>\n",
       "<polygon fill=\"black\" stroke=\"black\" points=\"375.961,-258.847 386.495,-259.984 378.969,-252.527 375.961,-258.847\"/>\n",
       "<text text-anchor=\"middle\" x=\"343.448\" y=\"-249.8\" font-family=\"Times,serif\" font-size=\"14.00\">b</text>\n",
       "</g>\n",
       "<!-- F3&#45;&gt;S7 -->\n",
       "<g id=\"edge6\" class=\"edge\"><title>F3&#45;&gt;S7</title>\n",
       "<path fill=\"none\" stroke=\"black\" d=\"M306.086,-211C325.477,-211 353.568,-211 374.58,-211\"/>\n",
       "<polygon fill=\"black\" stroke=\"black\" points=\"374.839,-214.501 384.839,-211 374.839,-207.501 374.839,-214.501\"/>\n",
       "<text text-anchor=\"middle\" x=\"343.448\" y=\"-213.8\" font-family=\"Times,serif\" font-size=\"14.00\">a</text>\n",
       "</g>\n",
       "<!-- F2&#45;&gt;S5 -->\n",
       "<g id=\"edge5\" class=\"edge\"><title>F2&#45;&gt;S5</title>\n",
       "<path fill=\"none\" stroke=\"black\" d=\"M216.258,-146C242.353,-146 285.327,-146 313.76,-146\"/>\n",
       "<polygon fill=\"black\" stroke=\"black\" points=\"313.879,-149.501 323.879,-146 313.879,-142.501 313.879,-149.501\"/>\n",
       "<text text-anchor=\"middle\" x=\"237.608\" y=\"-148.8\" font-family=\"Times,serif\" font-size=\"14.00\">b</text>\n",
       "</g>\n",
       "<!-- F2&#45;&gt;S8 -->\n",
       "<g id=\"edge4\" class=\"edge\"><title>F2&#45;&gt;S8</title>\n",
       "<path fill=\"none\" stroke=\"black\" d=\"M209.782,-129.31C224.262,-114.317 245.59,-92.2361 261.234,-76.0395\"/>\n",
       "<polygon fill=\"black\" stroke=\"black\" points=\"263.972,-78.2423 268.402,-68.618 258.937,-73.3792 263.972,-78.2423\"/>\n",
       "<text text-anchor=\"middle\" x=\"237.608\" y=\"-106.8\" font-family=\"Times,serif\" font-size=\"14.00\">a</text>\n",
       "</g>\n",
       "<!-- F9&#45;&gt;F9 -->\n",
       "<g id=\"edge14\" class=\"edge\"><title>F9&#45;&gt;F9</title>\n",
       "<path fill=\"none\" stroke=\"black\" d=\"M395.887,-77.1739C394.965,-87.4601 397.783,-96.4474 404.342,-96.4474 408.544,-96.4474 411.21,-92.759 412.341,-87.4036\"/>\n",
       "<polygon fill=\"black\" stroke=\"black\" points=\"415.849,-87.3196 412.796,-77.1739 408.855,-87.0086 415.849,-87.3196\"/>\n",
       "<text text-anchor=\"middle\" x=\"404.342\" y=\"-99.2474\" font-family=\"Times,serif\" font-size=\"14.00\">a</text>\n",
       "</g>\n",
       "<!-- F9&#45;&gt;F6 -->\n",
       "<g id=\"edge15\" class=\"edge\"><title>F9&#45;&gt;F6</title>\n",
       "<path fill=\"none\" stroke=\"black\" d=\"M421.681,-71.2695C435.977,-85.5039 456.921,-106.358 473.054,-122.421\"/>\n",
       "<polygon fill=\"black\" stroke=\"black\" points=\"470.982,-125.297 480.538,-129.872 475.921,-120.336 470.982,-125.297\"/>\n",
       "<text text-anchor=\"middle\" x=\"451.039\" y=\"-108.8\" font-family=\"Times,serif\" font-size=\"14.00\">b</text>\n",
       "</g>\n",
       "<!-- F6&#45;&gt;F6 -->\n",
       "<g id=\"edge10\" class=\"edge\"><title>F6&#45;&gt;F6</title>\n",
       "<path fill=\"none\" stroke=\"black\" d=\"M489.281,-168.174C488.359,-178.46 491.177,-187.447 497.736,-187.447 501.937,-187.447 504.604,-183.759 505.735,-178.404\"/>\n",
       "<polygon fill=\"black\" stroke=\"black\" points=\"509.242,-178.32 506.19,-168.174 502.249,-178.009 509.242,-178.32\"/>\n",
       "<text text-anchor=\"middle\" x=\"497.736\" y=\"-204.247\" font-family=\"Times,serif\" font-size=\"14.00\">b </text>\n",
       "<text text-anchor=\"middle\" x=\"497.736\" y=\"-190.247\" font-family=\"Times,serif\" font-size=\"14.00\"> a</text>\n",
       "</g>\n",
       "</g>\n",
       "</svg>\n"
      ],
      "text/plain": [
       "<graphviz.dot.Digraph at 0x108e610b8>"
      ]
     },
     "execution_count": 87,
     "metadata": {},
     "output_type": "execute_result"
    }
   ],
   "source": [
    "dblimp"
   ]
  },
  {
   "cell_type": "code",
   "execution_count": 88,
   "metadata": {
    "run_control": {
     "frozen": false,
     "read_only": false
    }
   },
   "outputs": [],
   "source": [
    "mblimp = min_dfa(blimp)"
   ]
  },
  {
   "cell_type": "code",
   "execution_count": 89,
   "metadata": {
    "run_control": {
     "frozen": false,
     "read_only": false
    }
   },
   "outputs": [],
   "source": [
    "dmblimp = dotObj_dfa(mblimp)"
   ]
  },
  {
   "cell_type": "code",
   "execution_count": 90,
   "metadata": {
    "run_control": {
     "frozen": false,
     "read_only": false
    }
   },
   "outputs": [
    {
     "data": {
      "image/svg+xml": [
       "<?xml version=\"1.0\" encoding=\"UTF-8\" standalone=\"no\"?>\n",
       "<!DOCTYPE svg PUBLIC \"-//W3C//DTD SVG 1.1//EN\"\n",
       " \"http://www.w3.org/Graphics/SVG/1.1/DTD/svg11.dtd\">\n",
       "<!-- Generated by graphviz version 2.38.0 (20140413.2041)\n",
       " -->\n",
       "<!-- Title: %3 Pages: 1 -->\n",
       "<svg width=\"397pt\" height=\"119pt\"\n",
       " viewBox=\"0.00 0.00 396.68 118.89\" xmlns=\"http://www.w3.org/2000/svg\" xmlns:xlink=\"http://www.w3.org/1999/xlink\">\n",
       "<g id=\"graph0\" class=\"graph\" transform=\"scale(1 1) rotate(0) translate(4 114.894)\">\n",
       "<title>%3</title>\n",
       "<polygon fill=\"white\" stroke=\"none\" points=\"-4,4 -4,-114.894 392.681,-114.894 392.681,4 -4,4\"/>\n",
       "<!-- EMPTY -->\n",
       "<g id=\"node1\" class=\"node\"><title>EMPTY</title>\n",
       "</g>\n",
       "<!-- I1 -->\n",
       "<g id=\"node3\" class=\"node\"><title>I1</title>\n",
       "<ellipse fill=\"none\" stroke=\"black\" cx=\"109\" cy=\"-23.4469\" rx=\"18\" ry=\"18\"/>\n",
       "<text text-anchor=\"middle\" x=\"109\" y=\"-19.2469\" font-family=\"Times,serif\" font-size=\"14.00\">I1</text>\n",
       "</g>\n",
       "<!-- EMPTY&#45;&gt;I1 -->\n",
       "<g id=\"edge1\" class=\"edge\"><title>EMPTY&#45;&gt;I1</title>\n",
       "<path fill=\"none\" stroke=\"black\" d=\"M54.195,-23.4469C62.6538,-23.4469 72.0513,-23.4469 80.5951,-23.4469\"/>\n",
       "<polygon fill=\"black\" stroke=\"black\" points=\"80.8257,-26.947 90.8257,-23.4469 80.8257,-19.947 80.8257,-26.947\"/>\n",
       "</g>\n",
       "<!-- S4 -->\n",
       "<g id=\"node2\" class=\"node\"><title>S4</title>\n",
       "<ellipse fill=\"none\" stroke=\"black\" cx=\"279.341\" cy=\"-23.4469\" rx=\"19.3939\" ry=\"19.3939\"/>\n",
       "<text text-anchor=\"middle\" x=\"279.341\" y=\"-19.2469\" font-family=\"Times,serif\" font-size=\"14.00\">S4</text>\n",
       "</g>\n",
       "<!-- F9 -->\n",
       "<g id=\"node4\" class=\"node\"><title>F9</title>\n",
       "<ellipse fill=\"none\" stroke=\"black\" cx=\"365.234\" cy=\"-23.4469\" rx=\"19.4029\" ry=\"19.4029\"/>\n",
       "<ellipse fill=\"none\" stroke=\"black\" cx=\"365.234\" cy=\"-23.4469\" rx=\"23.3939\" ry=\"23.3939\"/>\n",
       "<text text-anchor=\"middle\" x=\"365.234\" y=\"-19.2469\" font-family=\"Times,serif\" font-size=\"14.00\">F9</text>\n",
       "</g>\n",
       "<!-- S4&#45;&gt;F9 -->\n",
       "<g id=\"edge6\" class=\"edge\"><title>S4&#45;&gt;F9</title>\n",
       "<path fill=\"none\" stroke=\"black\" d=\"M298.959,-23.4469C308.471,-23.4469 320.328,-23.4469 331.318,-23.4469\"/>\n",
       "<polygon fill=\"black\" stroke=\"black\" points=\"331.483,-26.947 341.483,-23.4469 331.483,-19.947 331.483,-26.947\"/>\n",
       "<text text-anchor=\"middle\" x=\"320.287\" y=\"-26.2469\" font-family=\"Times,serif\" font-size=\"14.00\">a</text>\n",
       "</g>\n",
       "<!-- S4&#45;&gt;F9 -->\n",
       "<g id=\"edge7\" class=\"edge\"><title>S4&#45;&gt;F9</title>\n",
       "<path fill=\"none\" stroke=\"black\" d=\"M296.43,-13.5192C302.568,-10.2735 309.778,-7.08348 316.787,-5.44687 323.093,-3.97461 329.689,-4.83152 335.889,-6.80151\"/>\n",
       "<polygon fill=\"black\" stroke=\"black\" points=\"334.628,-10.067 345.207,-10.6386 337.293,-3.5944 334.628,-10.067\"/>\n",
       "<text text-anchor=\"middle\" x=\"320.287\" y=\"-8.24687\" font-family=\"Times,serif\" font-size=\"14.00\">b</text>\n",
       "</g>\n",
       "<!-- F3 -->\n",
       "<g id=\"node5\" class=\"node\"><title>F3</title>\n",
       "<ellipse fill=\"none\" stroke=\"black\" cx=\"193.447\" cy=\"-23.4469\" rx=\"19.4029\" ry=\"19.4029\"/>\n",
       "<ellipse fill=\"none\" stroke=\"black\" cx=\"193.447\" cy=\"-23.4469\" rx=\"23.3939\" ry=\"23.3939\"/>\n",
       "<text text-anchor=\"middle\" x=\"193.447\" y=\"-19.2469\" font-family=\"Times,serif\" font-size=\"14.00\">F3</text>\n",
       "</g>\n",
       "<!-- I1&#45;&gt;F3 -->\n",
       "<g id=\"edge2\" class=\"edge\"><title>I1&#45;&gt;F3</title>\n",
       "<path fill=\"none\" stroke=\"black\" d=\"M127.083,-23.4469C136.448,-23.4469 148.379,-23.4469 159.478,-23.4469\"/>\n",
       "<polygon fill=\"black\" stroke=\"black\" points=\"159.753,-26.947 169.753,-23.4469 159.753,-19.947 159.753,-26.947\"/>\n",
       "<text text-anchor=\"middle\" x=\"148.5\" y=\"-26.2469\" font-family=\"Times,serif\" font-size=\"14.00\">a</text>\n",
       "</g>\n",
       "<!-- I1&#45;&gt;F3 -->\n",
       "<g id=\"edge3\" class=\"edge\"><title>I1&#45;&gt;F3</title>\n",
       "<path fill=\"none\" stroke=\"black\" d=\"M124.717,-13.9046C130.75,-10.5299 137.96,-7.15095 145,-5.44687 151.294,-3.92333 157.885,-4.75841 164.083,-6.72333\"/>\n",
       "<polygon fill=\"black\" stroke=\"black\" points=\"162.823,-9.98936 173.402,-10.5645 165.49,-3.5176 162.823,-9.98936\"/>\n",
       "<text text-anchor=\"middle\" x=\"148.5\" y=\"-8.24687\" font-family=\"Times,serif\" font-size=\"14.00\">b</text>\n",
       "</g>\n",
       "<!-- F9&#45;&gt;F9 -->\n",
       "<g id=\"edge8\" class=\"edge\"><title>F9&#45;&gt;F9</title>\n",
       "<path fill=\"none\" stroke=\"black\" d=\"M361.146,-46.8814C360.864,-56.63 362.227,-64.8937 365.234,-64.8937 367.067,-64.8937 368.289,-61.8251 368.901,-57.2218\"/>\n",
       "<polygon fill=\"black\" stroke=\"black\" points=\"372.412,-57.016 369.323,-46.8814 365.418,-56.7301 372.412,-57.016\"/>\n",
       "<text text-anchor=\"middle\" x=\"365.234\" y=\"-67.6937\" font-family=\"Times,serif\" font-size=\"14.00\">a</text>\n",
       "</g>\n",
       "<!-- F9&#45;&gt;F9 -->\n",
       "<g id=\"edge9\" class=\"edge\"><title>F9&#45;&gt;F9</title>\n",
       "<path fill=\"none\" stroke=\"black\" d=\"M358.144,-46.0152C355.309,-64.1618 357.672,-82.8937 365.234,-82.8937 371.379,-82.8937 374.091,-70.5277 373.371,-56.1571\"/>\n",
       "<polygon fill=\"black\" stroke=\"black\" points=\"376.833,-55.6029 372.324,-46.0152 369.87,-56.3217 376.833,-55.6029\"/>\n",
       "<text text-anchor=\"middle\" x=\"365.234\" y=\"-85.6937\" font-family=\"Times,serif\" font-size=\"14.00\">b</text>\n",
       "</g>\n",
       "<!-- F3&#45;&gt;S4 -->\n",
       "<g id=\"edge4\" class=\"edge\"><title>F3&#45;&gt;S4</title>\n",
       "<path fill=\"none\" stroke=\"black\" d=\"M216.929,-23.4469C226.976,-23.4469 238.937,-23.4469 249.622,-23.4469\"/>\n",
       "<polygon fill=\"black\" stroke=\"black\" points=\"249.764,-26.947 259.764,-23.4469 249.764,-19.947 249.764,-26.947\"/>\n",
       "<text text-anchor=\"middle\" x=\"238.394\" y=\"-26.2469\" font-family=\"Times,serif\" font-size=\"14.00\">a</text>\n",
       "</g>\n",
       "<!-- F3&#45;&gt;S4 -->\n",
       "<g id=\"edge5\" class=\"edge\"><title>F3&#45;&gt;S4</title>\n",
       "<path fill=\"none\" stroke=\"black\" d=\"M213.474,-10.6386C222.002,-6.3683 232.285,-3.20342 241.894,-5.44687 245.618,-6.31632 249.398,-7.62417 253.044,-9.14587\"/>\n",
       "<polygon fill=\"black\" stroke=\"black\" points=\"251.717,-12.39 262.251,-13.5192 254.72,-6.06705 251.717,-12.39\"/>\n",
       "<text text-anchor=\"middle\" x=\"238.394\" y=\"-8.24687\" font-family=\"Times,serif\" font-size=\"14.00\">b</text>\n",
       "</g>\n",
       "</g>\n",
       "</svg>\n"
      ],
      "text/plain": [
       "<graphviz.dot.Digraph at 0x108e61358>"
      ]
     },
     "execution_count": 90,
     "metadata": {},
     "output_type": "execute_result"
    }
   ],
   "source": [
    "dmblimp"
   ]
  },
  {
   "cell_type": "markdown",
   "metadata": {
    "run_control": {
     "frozen": false,
     "read_only": false
    }
   },
   "source": [
    "# Minimized \"blimp\" machine\n",
    "\n",
    "The minimized blimp machine is indeed quite small.\n"
   ]
  }
 ],
 "metadata": {
  "kernelspec": {
   "display_name": "Python 3",
   "language": "python",
   "name": "python3"
  },
  "language_info": {
   "codemirror_mode": {
    "name": "ipython",
    "version": 3
   },
   "file_extension": ".py",
   "mimetype": "text/x-python",
   "name": "python",
   "nbconvert_exporter": "python",
   "pygments_lexer": "ipython3",
   "version": "3.6.0"
  },
  "toc": {
   "colors": {
    "hover_highlight": "#DAA520",
    "running_highlight": "#FF0000",
    "selected_highlight": "#FFD700"
   },
   "moveMenuLeft": true,
   "nav_menu": {
    "height": "318px",
    "width": "252px"
   },
   "navigate_menu": true,
   "number_sections": true,
   "sideBar": true,
   "threshold": 4,
   "toc_cell": false,
   "toc_section_display": "block",
   "toc_window_display": false,
   "widenNotebook": false
  }
 },
 "nbformat": 4,
 "nbformat_minor": 1
}
