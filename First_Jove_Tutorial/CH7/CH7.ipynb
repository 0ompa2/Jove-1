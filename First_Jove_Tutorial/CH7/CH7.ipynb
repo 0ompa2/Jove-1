{
 "cells": [
  {
   "cell_type": "markdown",
   "metadata": {
    "run_control": {
     "frozen": false,
     "read_only": false
    }
   },
   "source": [
    "# Exercises on NFA\n",
    "\n",
    "You may wish to watch my lecture on NFA a little, then play with the\n",
    "code below, and then finish watching."
   ]
  },
  {
   "cell_type": "code",
   "execution_count": 1,
   "metadata": {
    "run_control": {
     "frozen": false,
     "read_only": false
    }
   },
   "outputs": [
    {
     "data": {
      "image/jpeg": "[encoded data removed]",
      "text/html": [
       "\n",
       "        <iframe\n",
       "            width=\"400\"\n",
       "            height=\"300\"\n",
       "            src=\"https://www.youtube.com/embed/xjFtLF95uBc\"\n",
       "            frameborder=\"0\"\n",
       "            allowfullscreen\n",
       "        ></iframe>\n",
       "        "
      ],
      "text/plain": [
       "<IPython.lib.display.YouTubeVideo at 0x11196d6d8>"
      ]
     },
     "execution_count": 1,
     "metadata": {},
     "output_type": "execute_result"
    }
   ],
   "source": [
    "# This Youtube video walks through this notebook\n",
    "from IPython.display import YouTubeVideo\n",
    "YouTubeVideo('xjFtLF95uBc')"
   ]
  },
  {
   "cell_type": "code",
   "execution_count": 2,
   "metadata": {
    "run_control": {
     "frozen": false,
     "read_only": false
    }
   },
   "outputs": [
    {
     "name": "stdout",
     "output_type": "stream",
     "text": [
      "You may use any of these help commands:\n",
      "help(ResetStNum)\n",
      "help(NxtStateStr)\n",
      "\n",
      "You may use any of these help commands:\n",
      "help(md2mc)\n",
      ".. and if you want to dig more, then ..\n",
      "help(default_line_attr)\n",
      "help(length_ok_input_items)\n",
      "help(union_line_attr_list_fld)\n",
      "help(extend_rsltdict)\n",
      "help(form_delta)\n",
      "help(get_machine_components)\n",
      "\n",
      "You may use any of these help commands:\n",
      "help(mkp_dfa)\n",
      "help(mk_dfa)\n",
      "help(totalize_dfa)\n",
      "help(addtosigma_delta)\n",
      "help(step_dfa)\n",
      "help(run_dfa)\n",
      "help(accepts_dfa)\n",
      "help(comp_dfa)\n",
      "help(union_dfa)\n",
      "help(intersect_dfa)\n",
      "help(pruneUnreach)\n",
      "help(iso_dfa)\n",
      "help(langeq_dfa)\n",
      "help(same_status)\n",
      "help(h_langeq_dfa)\n",
      "help(fixptDist)\n",
      "help(min_dfa)\n",
      "help(pairFR)\n",
      "help(state_combos)\n",
      "help(sepFinNonFin)\n",
      "help(bash_eql_classes)\n",
      "help(listminus)\n",
      "help(bash_1)\n",
      "help(mk_rep_eqc)\n",
      "help(F_of)\n",
      "help(rep_of_s)\n",
      "help(q0_of)\n",
      "help(Delta_of)\n",
      "help(mk_state_eqc_name)\n",
      "\n",
      "You may use any of these help commands:\n",
      "help(mk_nfa)\n",
      "help(totalize_nfa)\n",
      "help(step_nfa)\n",
      "help(run_nfa)\n",
      "help(ec_step_nfa)\n",
      "help(Eclosure)\n",
      "help(Echelp)\n",
      "help(accepts_nfa)\n",
      "help(nfa2dfa)\n",
      "help(n2d)\n",
      "help(inSets)\n",
      "help(rev_dfa)\n",
      "help(min_dfa_brz)\n",
      "\n"
     ]
    }
   ],
   "source": [
    "import sys\n",
    "sys.path[0:0] = ['../..','../../3rdparty'] # Put these at the head of the search path\n",
    "from jove.DotBashers import *\n",
    "from jove.Def_md2mc  import *\n",
    "from jove.Def_NFA    import *\n",
    "from jove.Def_DFA    import *"
   ]
  },
  {
   "cell_type": "code",
   "execution_count": 3,
   "metadata": {
    "run_control": {
     "frozen": false,
     "read_only": false
    }
   },
   "outputs": [],
   "source": [
    "# Our automd markdown works for NFA also. Here is the NFA for\n",
    "# the language \"ends in 0101\"\n",
    "\n",
    "NFA_ends0101 = md2mc(''' \n",
    "!!---------------------------------------------------------------------------\n",
    "!! This NFA looks for patterns of the form \n",
    "!!\n",
    "!!     ......<some 0's and 1's>.....0101\n",
    "!!\n",
    "!! i.e., all strings that end in 0101.\n",
    "!!\n",
    "!! This example (over and above thirdlastis1.nfa) also illustrates\n",
    "!! the power of nondeterminism. Anytime we see a 0 from state I, we\n",
    "!! can have the NFA speculate that it is seeing the beginning of a\n",
    "!! 0101 pattern! If the NFA fails in its guess, it pays no price\n",
    "!! (because another guess is soon coming from behind).\n",
    "!!\n",
    "!! * We take 4 states in the NFA solution. The DFA solution takes\n",
    "!!   5 states.\n",
    "!!\n",
    "!! * This shows how burden is shifted from the\n",
    "!!   human to the computer doing the NFA simulation.\n",
    "!!   Even though the savings in states is not dramatic,\n",
    "!!   the effort to build this NFA is much lower than building\n",
    "!!   the corresponding DFA.\n",
    "!! \n",
    "!!-----------------------------------------------------------------\n",
    "!! For NFA, each line can be as follows:\n",
    "!!\n",
    "!! State : in1 | in2 ...  ->  COmma, Separated, State, List  !! comment\n",
    "!!-----------------------------------------------------------------\n",
    "\n",
    "NFA\n",
    "\n",
    "I    : 1   -> I      !! I goes to I upon 1\n",
    "\n",
    "I    : 0   -> S0, I  !! I goes to S0 and I upon 0\n",
    "\n",
    "S0   : 1   -> S01    !! S0 goes to S01 upon 1\n",
    "\n",
    "S01  : 0   -> S010   !! S01 goes to S010 upon 0\n",
    "\n",
    "S010 : 1   -> F      !! S010 goes to F upon F\n",
    "\n",
    "!!---\n",
    "''')"
   ]
  },
  {
   "cell_type": "code",
   "execution_count": 4,
   "metadata": {
    "run_control": {
     "frozen": false,
     "read_only": false
    }
   },
   "outputs": [
    {
     "data": {
      "text/plain": [
       "{'Q': {'F', 'I', 'S0', 'S01', 'S010'},\n",
       " 'Sigma': {'0', '1'},\n",
       " 'Delta': {('I', '1'): {'I'},\n",
       "  ('I', '0'): {'I', 'S0'},\n",
       "  ('S0', '1'): {'S01'},\n",
       "  ('S01', '0'): {'S010'},\n",
       "  ('S010', '1'): {'F'}},\n",
       " 'Q0': {'I'},\n",
       " 'F': {'F'}}"
      ]
     },
     "execution_count": 4,
     "metadata": {},
     "output_type": "execute_result"
    }
   ],
   "source": [
    "# Now let us see the dict version of the NFA\n",
    "NFA_ends0101 "
   ]
  },
  {
   "cell_type": "code",
   "execution_count": 5,
   "metadata": {
    "run_control": {
     "frozen": false,
     "read_only": false
    }
   },
   "outputs": [
    {
     "data": {
      "image/svg+xml": [
       "<?xml version=\"1.0\" encoding=\"UTF-8\" standalone=\"no\"?>\n",
       "<!DOCTYPE svg PUBLIC \"-//W3C//DTD SVG 1.1//EN\"\n",
       " \"http://www.w3.org/Graphics/SVG/1.1/DTD/svg11.dtd\">\n",
       "<!-- Generated by graphviz version 2.40.1 (20161225.0304)\n",
       " -->\n",
       "<!-- Title: %3 Pages: 1 -->\n",
       "<svg width=\"515pt\" height=\"121pt\"\n",
       " viewBox=\"0.00 0.00 515.19 121.25\" xmlns=\"http://www.w3.org/2000/svg\" xmlns:xlink=\"http://www.w3.org/1999/xlink\">\n",
       "<g id=\"graph0\" class=\"graph\" transform=\"scale(1 1) rotate(0) translate(4 117.2474)\">\n",
       "<title>%3</title>\n",
       "<polygon fill=\"#ffffff\" stroke=\"transparent\" points=\"-4,4 -4,-117.2474 511.1869,-117.2474 511.1869,4 -4,4\"/>\n",
       "<!-- EMPTY -->\n",
       "<g id=\"node1\" class=\"node\">\n",
       "<title>EMPTY</title>\n",
       "</g>\n",
       "<!-- I -->\n",
       "<g id=\"node5\" class=\"node\">\n",
       "<title>I</title>\n",
       "<ellipse fill=\"none\" stroke=\"#000000\" cx=\"109\" cy=\"-29.2474\" rx=\"18\" ry=\"18\"/>\n",
       "<text text-anchor=\"middle\" x=\"109\" y=\"-25.5474\" font-family=\"Times,serif\" font-size=\"14.00\" fill=\"#000000\">I</text>\n",
       "</g>\n",
       "<!-- EMPTY&#45;&gt;I -->\n",
       "<g id=\"edge1\" class=\"edge\">\n",
       "<title>EMPTY&#45;&gt;I</title>\n",
       "<path fill=\"none\" stroke=\"#000000\" d=\"M54.3048,-29.2474C62.6909,-29.2474 71.9407,-29.2474 80.4103,-29.2474\"/>\n",
       "<polygon fill=\"#000000\" stroke=\"#000000\" points=\"80.5976,-32.7475 90.5976,-29.2474 80.5976,-25.7475 80.5976,-32.7475\"/>\n",
       "</g>\n",
       "<!-- S010 -->\n",
       "<g id=\"node2\" class=\"node\">\n",
       "<title>S010</title>\n",
       "<ellipse fill=\"none\" stroke=\"#000000\" cx=\"386.9394\" cy=\"-29.2474\" rx=\"29.4969\" ry=\"29.4969\"/>\n",
       "<text text-anchor=\"middle\" x=\"386.9394\" y=\"-25.5474\" font-family=\"Times,serif\" font-size=\"14.00\" fill=\"#000000\">S010</text>\n",
       "</g>\n",
       "<!-- F -->\n",
       "<g id=\"node6\" class=\"node\">\n",
       "<title>F</title>\n",
       "<ellipse fill=\"none\" stroke=\"#000000\" cx=\"485.1869\" cy=\"-29.2474\" rx=\"18\" ry=\"18\"/>\n",
       "<ellipse fill=\"none\" stroke=\"#000000\" cx=\"485.1869\" cy=\"-29.2474\" rx=\"22\" ry=\"22\"/>\n",
       "<text text-anchor=\"middle\" x=\"485.1869\" y=\"-25.5474\" font-family=\"Times,serif\" font-size=\"14.00\" fill=\"#000000\">F</text>\n",
       "</g>\n",
       "<!-- S010&#45;&gt;F -->\n",
       "<g id=\"edge7\" class=\"edge\">\n",
       "<title>S010&#45;&gt;F</title>\n",
       "<path fill=\"none\" stroke=\"#000000\" d=\"M416.4169,-29.2474C427.8415,-29.2474 440.9634,-29.2474 452.662,-29.2474\"/>\n",
       "<polygon fill=\"#000000\" stroke=\"#000000\" points=\"452.9161,-32.7475 462.916,-29.2474 452.916,-25.7475 452.9161,-32.7475\"/>\n",
       "<text text-anchor=\"middle\" x=\"439.6869\" y=\"-33.0474\" font-family=\"Times,serif\" font-size=\"14.00\" fill=\"#000000\">1 </text>\n",
       "</g>\n",
       "<!-- S01 -->\n",
       "<g id=\"node3\" class=\"node\">\n",
       "<title>S01</title>\n",
       "<ellipse fill=\"none\" stroke=\"#000000\" cx=\"285.9942\" cy=\"-29.2474\" rx=\"24.8972\" ry=\"24.8972\"/>\n",
       "<text text-anchor=\"middle\" x=\"285.9942\" y=\"-25.5474\" font-family=\"Times,serif\" font-size=\"14.00\" fill=\"#000000\">S01</text>\n",
       "</g>\n",
       "<!-- S01&#45;&gt;S010 -->\n",
       "<g id=\"edge6\" class=\"edge\">\n",
       "<title>S01&#45;&gt;S010</title>\n",
       "<path fill=\"none\" stroke=\"#000000\" d=\"M310.947,-29.2474C321.9853,-29.2474 335.2335,-29.2474 347.5543,-29.2474\"/>\n",
       "<polygon fill=\"#000000\" stroke=\"#000000\" points=\"347.6169,-32.7475 357.6169,-29.2474 347.6169,-25.7475 347.6169,-32.7475\"/>\n",
       "<text text-anchor=\"middle\" x=\"334.192\" y=\"-33.0474\" font-family=\"Times,serif\" font-size=\"14.00\" fill=\"#000000\">0 </text>\n",
       "</g>\n",
       "<!-- S0 -->\n",
       "<g id=\"node4\" class=\"node\">\n",
       "<title>S0</title>\n",
       "<ellipse fill=\"none\" stroke=\"#000000\" cx=\"194.1482\" cy=\"-29.2474\" rx=\"20.2975\" ry=\"20.2975\"/>\n",
       "<text text-anchor=\"middle\" x=\"194.1482\" y=\"-25.5474\" font-family=\"Times,serif\" font-size=\"14.00\" fill=\"#000000\">S0</text>\n",
       "</g>\n",
       "<!-- S0&#45;&gt;S01 -->\n",
       "<g id=\"edge5\" class=\"edge\">\n",
       "<title>S0&#45;&gt;S01</title>\n",
       "<path fill=\"none\" stroke=\"#000000\" d=\"M214.5318,-29.2474C225.2667,-29.2474 238.7317,-29.2474 251.0709,-29.2474\"/>\n",
       "<polygon fill=\"#000000\" stroke=\"#000000\" points=\"251.0864,-32.7475 261.0864,-29.2474 251.0864,-25.7475 251.0864,-32.7475\"/>\n",
       "<text text-anchor=\"middle\" x=\"237.7964\" y=\"-33.0474\" font-family=\"Times,serif\" font-size=\"14.00\" fill=\"#000000\">1 </text>\n",
       "</g>\n",
       "<!-- I&#45;&gt;S0 -->\n",
       "<g id=\"edge3\" class=\"edge\">\n",
       "<title>I&#45;&gt;S0</title>\n",
       "<path fill=\"none\" stroke=\"#000000\" d=\"M127.0577,-29.2474C137.6298,-29.2474 151.2613,-29.2474 163.4728,-29.2474\"/>\n",
       "<polygon fill=\"#000000\" stroke=\"#000000\" points=\"163.7261,-32.7475 173.726,-29.2474 163.726,-25.7475 163.7261,-32.7475\"/>\n",
       "<text text-anchor=\"middle\" x=\"150.5\" y=\"-33.0474\" font-family=\"Times,serif\" font-size=\"14.00\" fill=\"#000000\">0 </text>\n",
       "</g>\n",
       "<!-- I&#45;&gt;I -->\n",
       "<g id=\"edge2\" class=\"edge\">\n",
       "<title>I&#45;&gt;I</title>\n",
       "<path fill=\"none\" stroke=\"#000000\" d=\"M105.7643,-47.0291C105.2144,-56.5623 106.293,-65.2474 109,-65.2474 110.6496,-65.2474 111.6945,-62.0223 112.1347,-57.3455\"/>\n",
       "<polygon fill=\"#000000\" stroke=\"#000000\" points=\"115.6375,-57.063 112.2357,-47.0291 108.6379,-56.9943 115.6375,-57.063\"/>\n",
       "<text text-anchor=\"middle\" x=\"109\" y=\"-69.0474\" font-family=\"Times,serif\" font-size=\"14.00\" fill=\"#000000\">1 </text>\n",
       "</g>\n",
       "<!-- I&#45;&gt;I -->\n",
       "<g id=\"edge4\" class=\"edge\">\n",
       "<title>I&#45;&gt;I</title>\n",
       "<path fill=\"none\" stroke=\"#000000\" d=\"M103.6841,-46.6677C100.6538,-64.0384 102.4258,-83.2474 109,-83.2474 114.2902,-83.2474 116.4708,-70.8091 115.5419,-56.8994\"/>\n",
       "<polygon fill=\"#000000\" stroke=\"#000000\" points=\"118.9808,-56.1802 114.3159,-46.6677 112.0305,-57.0131 118.9808,-56.1802\"/>\n",
       "<text text-anchor=\"middle\" x=\"109\" y=\"-87.0474\" font-family=\"Times,serif\" font-size=\"14.00\" fill=\"#000000\">0 </text>\n",
       "</g>\n",
       "</g>\n",
       "</svg>\n"
      ],
      "text/plain": [
       "<graphviz.dot.Digraph at 0x11229eef0>"
      ]
     },
     "execution_count": 5,
     "metadata": {},
     "output_type": "execute_result"
    }
   ],
   "source": [
    "# Let's see the drawing of this NFA\n",
    "\n",
    "dotObj_nfa(NFA_ends0101)  "
   ]
  },
  {
   "cell_type": "code",
   "execution_count": 6,
   "metadata": {
    "run_control": {
     "frozen": false,
     "read_only": false
    }
   },
   "outputs": [
    {
     "data": {
      "image/svg+xml": [
       "<?xml version=\"1.0\" encoding=\"UTF-8\" standalone=\"no\"?>\n",
       "<!DOCTYPE svg PUBLIC \"-//W3C//DTD SVG 1.1//EN\"\n",
       " \"http://www.w3.org/Graphics/SVG/1.1/DTD/svg11.dtd\">\n",
       "<!-- Generated by graphviz version 2.40.1 (20161225.0304)\n",
       " -->\n",
       "<!-- Title: %3 Pages: 1 -->\n",
       "<svg width=\"515pt\" height=\"103pt\"\n",
       " viewBox=\"0.00 0.00 515.19 103.25\" xmlns=\"http://www.w3.org/2000/svg\" xmlns:xlink=\"http://www.w3.org/1999/xlink\">\n",
       "<g id=\"graph0\" class=\"graph\" transform=\"scale(1 1) rotate(0) translate(4 99.2474)\">\n",
       "<title>%3</title>\n",
       "<polygon fill=\"#ffffff\" stroke=\"transparent\" points=\"-4,4 -4,-99.2474 511.1869,-99.2474 511.1869,4 -4,4\"/>\n",
       "<!-- EMPTY -->\n",
       "<g id=\"node1\" class=\"node\">\n",
       "<title>EMPTY</title>\n",
       "</g>\n",
       "<!-- I -->\n",
       "<g id=\"node5\" class=\"node\">\n",
       "<title>I</title>\n",
       "<ellipse fill=\"none\" stroke=\"#000000\" cx=\"109\" cy=\"-29.2474\" rx=\"18\" ry=\"18\"/>\n",
       "<text text-anchor=\"middle\" x=\"109\" y=\"-25.5474\" font-family=\"Times,serif\" font-size=\"14.00\" fill=\"#000000\">I</text>\n",
       "</g>\n",
       "<!-- EMPTY&#45;&gt;I -->\n",
       "<g id=\"edge1\" class=\"edge\">\n",
       "<title>EMPTY&#45;&gt;I</title>\n",
       "<path fill=\"none\" stroke=\"#000000\" d=\"M54.3048,-29.2474C62.6909,-29.2474 71.9407,-29.2474 80.4103,-29.2474\"/>\n",
       "<polygon fill=\"#000000\" stroke=\"#000000\" points=\"80.5976,-32.7475 90.5976,-29.2474 80.5976,-25.7475 80.5976,-32.7475\"/>\n",
       "</g>\n",
       "<!-- S010 -->\n",
       "<g id=\"node2\" class=\"node\">\n",
       "<title>S010</title>\n",
       "<ellipse fill=\"none\" stroke=\"#000000\" cx=\"386.9394\" cy=\"-29.2474\" rx=\"29.4969\" ry=\"29.4969\"/>\n",
       "<text text-anchor=\"middle\" x=\"386.9394\" y=\"-25.5474\" font-family=\"Times,serif\" font-size=\"14.00\" fill=\"#000000\">S010</text>\n",
       "</g>\n",
       "<!-- F -->\n",
       "<g id=\"node6\" class=\"node\">\n",
       "<title>F</title>\n",
       "<ellipse fill=\"none\" stroke=\"#000000\" cx=\"485.1869\" cy=\"-29.2474\" rx=\"18\" ry=\"18\"/>\n",
       "<ellipse fill=\"none\" stroke=\"#000000\" cx=\"485.1869\" cy=\"-29.2474\" rx=\"22\" ry=\"22\"/>\n",
       "<text text-anchor=\"middle\" x=\"485.1869\" y=\"-25.5474\" font-family=\"Times,serif\" font-size=\"14.00\" fill=\"#000000\">F</text>\n",
       "</g>\n",
       "<!-- S010&#45;&gt;F -->\n",
       "<g id=\"edge6\" class=\"edge\">\n",
       "<title>S010&#45;&gt;F</title>\n",
       "<path fill=\"none\" stroke=\"#000000\" d=\"M416.4169,-29.2474C427.8415,-29.2474 440.9634,-29.2474 452.662,-29.2474\"/>\n",
       "<polygon fill=\"#000000\" stroke=\"#000000\" points=\"452.9161,-32.7475 462.916,-29.2474 452.916,-25.7475 452.9161,-32.7475\"/>\n",
       "<text text-anchor=\"middle\" x=\"439.6869\" y=\"-33.0474\" font-family=\"Times,serif\" font-size=\"14.00\" fill=\"#000000\">1 </text>\n",
       "</g>\n",
       "<!-- S01 -->\n",
       "<g id=\"node3\" class=\"node\">\n",
       "<title>S01</title>\n",
       "<ellipse fill=\"none\" stroke=\"#000000\" cx=\"285.9942\" cy=\"-29.2474\" rx=\"24.8972\" ry=\"24.8972\"/>\n",
       "<text text-anchor=\"middle\" x=\"285.9942\" y=\"-25.5474\" font-family=\"Times,serif\" font-size=\"14.00\" fill=\"#000000\">S01</text>\n",
       "</g>\n",
       "<!-- S01&#45;&gt;S010 -->\n",
       "<g id=\"edge5\" class=\"edge\">\n",
       "<title>S01&#45;&gt;S010</title>\n",
       "<path fill=\"none\" stroke=\"#000000\" d=\"M310.947,-29.2474C321.9853,-29.2474 335.2335,-29.2474 347.5543,-29.2474\"/>\n",
       "<polygon fill=\"#000000\" stroke=\"#000000\" points=\"347.6169,-32.7475 357.6169,-29.2474 347.6169,-25.7475 347.6169,-32.7475\"/>\n",
       "<text text-anchor=\"middle\" x=\"334.192\" y=\"-33.0474\" font-family=\"Times,serif\" font-size=\"14.00\" fill=\"#000000\">0 </text>\n",
       "</g>\n",
       "<!-- S0 -->\n",
       "<g id=\"node4\" class=\"node\">\n",
       "<title>S0</title>\n",
       "<ellipse fill=\"none\" stroke=\"#000000\" cx=\"194.1482\" cy=\"-29.2474\" rx=\"20.2975\" ry=\"20.2975\"/>\n",
       "<text text-anchor=\"middle\" x=\"194.1482\" y=\"-25.5474\" font-family=\"Times,serif\" font-size=\"14.00\" fill=\"#000000\">S0</text>\n",
       "</g>\n",
       "<!-- S0&#45;&gt;S01 -->\n",
       "<g id=\"edge4\" class=\"edge\">\n",
       "<title>S0&#45;&gt;S01</title>\n",
       "<path fill=\"none\" stroke=\"#000000\" d=\"M214.5318,-29.2474C225.2667,-29.2474 238.7317,-29.2474 251.0709,-29.2474\"/>\n",
       "<polygon fill=\"#000000\" stroke=\"#000000\" points=\"251.0864,-32.7475 261.0864,-29.2474 251.0864,-25.7475 251.0864,-32.7475\"/>\n",
       "<text text-anchor=\"middle\" x=\"237.7964\" y=\"-33.0474\" font-family=\"Times,serif\" font-size=\"14.00\" fill=\"#000000\">1 </text>\n",
       "</g>\n",
       "<!-- I&#45;&gt;S0 -->\n",
       "<g id=\"edge3\" class=\"edge\">\n",
       "<title>I&#45;&gt;S0</title>\n",
       "<path fill=\"none\" stroke=\"#000000\" d=\"M127.0577,-29.2474C137.6298,-29.2474 151.2613,-29.2474 163.4728,-29.2474\"/>\n",
       "<polygon fill=\"#000000\" stroke=\"#000000\" points=\"163.7261,-32.7475 173.726,-29.2474 163.726,-25.7475 163.7261,-32.7475\"/>\n",
       "<text text-anchor=\"middle\" x=\"150.5\" y=\"-33.0474\" font-family=\"Times,serif\" font-size=\"14.00\" fill=\"#000000\">0 </text>\n",
       "</g>\n",
       "<!-- I&#45;&gt;I -->\n",
       "<g id=\"edge2\" class=\"edge\">\n",
       "<title>I&#45;&gt;I</title>\n",
       "<path fill=\"none\" stroke=\"#000000\" d=\"M102.6208,-46.2847C101.3189,-56.1053 103.4453,-65.2474 109,-65.2474 112.4717,-65.2474 114.6042,-61.6763 115.3975,-56.6003\"/>\n",
       "<polygon fill=\"#000000\" stroke=\"#000000\" points=\"118.8971,-56.2784 115.3792,-46.2847 111.8971,-56.2909 118.8971,-56.2784\"/>\n",
       "<text text-anchor=\"middle\" x=\"109\" y=\"-84.0474\" font-family=\"Times,serif\" font-size=\"14.00\" fill=\"#000000\">0 </text>\n",
       "<text text-anchor=\"middle\" x=\"109\" y=\"-69.0474\" font-family=\"Times,serif\" font-size=\"14.00\" fill=\"#000000\"> 1 </text>\n",
       "</g>\n",
       "</g>\n",
       "</svg>\n"
      ],
      "text/plain": [
       "<graphviz.dot.Digraph at 0x11196ddd8>"
      ]
     },
     "execution_count": 6,
     "metadata": {},
     "output_type": "execute_result"
    }
   ],
   "source": [
    "# The drawing produces separated self-loops. Let's fuse 'em\n",
    "\n",
    "# Now we are going to fuse the separate self-loops into one\n",
    "\n",
    "dotObj_nfa(NFA_ends0101, FuseEdges=True) "
   ]
  },
  {
   "cell_type": "markdown",
   "metadata": {
    "run_control": {
     "frozen": false,
     "read_only": false
    }
   },
   "source": [
    "# NFA for 3rd-last is 1"
   ]
  },
  {
   "cell_type": "code",
   "execution_count": 7,
   "metadata": {
    "run_control": {
     "frozen": false,
     "read_only": false
    }
   },
   "outputs": [],
   "source": [
    "# Here is the automd (markdown) for an NF whose third-last symbol is a 1\n",
    "\n",
    "NFA_3rdlast_1 = md2mc('''\n",
    "NFA\n",
    "\n",
    "I : 0  | 1  -> I  !! Upon a 0 or a 1, continue to stay in state I\n",
    "\n",
    "I : ''      -> S0 !! Nondeterministically transition to state S0\n",
    "\n",
    "S0 : 1      -> S1 !! This is the key \"1\" (third-last being 1) seen\n",
    "\n",
    "S1 : 0 | 1  -> S2 !! One 0/1 takes the NFA to S2\n",
    "\n",
    "S2 : 0 | 1  -> F  !! One more 0/1 takes the NFA to F\n",
    "\n",
    "''')"
   ]
  },
  {
   "cell_type": "code",
   "execution_count": 8,
   "metadata": {},
   "outputs": [
    {
     "data": {
      "image/svg+xml": [
       "<?xml version=\"1.0\" encoding=\"UTF-8\" standalone=\"no\"?>\n",
       "<!DOCTYPE svg PUBLIC \"-//W3C//DTD SVG 1.1//EN\"\n",
       " \"http://www.w3.org/Graphics/SVG/1.1/DTD/svg11.dtd\">\n",
       "<!-- Generated by graphviz version 2.40.1 (20161225.0304)\n",
       " -->\n",
       "<!-- Title: %3 Pages: 1 -->\n",
       "<svg width=\"824pt\" height=\"300pt\"\n",
       " viewBox=\"0.00 0.00 823.97 299.75\" xmlns=\"http://www.w3.org/2000/svg\" xmlns:xlink=\"http://www.w3.org/1999/xlink\">\n",
       "<g id=\"graph0\" class=\"graph\" transform=\"scale(1 1) rotate(0) translate(4 295.748)\">\n",
       "<title>%3</title>\n",
       "<polygon fill=\"#ffffff\" stroke=\"transparent\" points=\"-4,4 -4,-295.748 819.9677,-295.748 819.9677,4 -4,4\"/>\n",
       "<!-- EMPTY -->\n",
       "<g id=\"node1\" class=\"node\">\n",
       "<title>EMPTY</title>\n",
       "</g>\n",
       "<!-- St7 -->\n",
       "<g id=\"node4\" class=\"node\">\n",
       "<title>St7</title>\n",
       "<ellipse fill=\"none\" stroke=\"#000000\" cx=\"113.748\" cy=\"-22.748\" rx=\"22.9987\" ry=\"22.9987\"/>\n",
       "<text text-anchor=\"middle\" x=\"113.748\" y=\"-19.048\" font-family=\"Times,serif\" font-size=\"14.00\" fill=\"#000000\">St7</text>\n",
       "</g>\n",
       "<!-- EMPTY&#45;&gt;St7 -->\n",
       "<g id=\"edge1\" class=\"edge\">\n",
       "<title>EMPTY&#45;&gt;St7</title>\n",
       "<path fill=\"none\" stroke=\"#000000\" d=\"M54.4476,-22.748C62.7759,-22.748 72.0138,-22.748 80.671,-22.748\"/>\n",
       "<polygon fill=\"#000000\" stroke=\"#000000\" points=\"80.8425,-26.2481 90.8425,-22.748 80.8425,-19.2481 80.8425,-26.2481\"/>\n",
       "</g>\n",
       "<!-- St4 -->\n",
       "<g id=\"node2\" class=\"node\">\n",
       "<title>St4</title>\n",
       "<ellipse fill=\"none\" stroke=\"#000000\" cx=\"298.7399\" cy=\"-119.748\" rx=\"22.9987\" ry=\"22.9987\"/>\n",
       "<text text-anchor=\"middle\" x=\"298.7399\" y=\"-116.048\" font-family=\"Times,serif\" font-size=\"14.00\" fill=\"#000000\">St4</text>\n",
       "</g>\n",
       "<!-- St2 -->\n",
       "<g id=\"node8\" class=\"node\">\n",
       "<title>St2</title>\n",
       "<ellipse fill=\"none\" stroke=\"#000000\" cx=\"495.7318\" cy=\"-146.748\" rx=\"22.9609\" ry=\"22.9609\"/>\n",
       "<ellipse fill=\"none\" stroke=\"#000000\" cx=\"495.7318\" cy=\"-146.748\" rx=\"26.9983\" ry=\"26.9983\"/>\n",
       "<text text-anchor=\"middle\" x=\"495.7318\" y=\"-143.048\" font-family=\"Times,serif\" font-size=\"14.00\" fill=\"#000000\">St2</text>\n",
       "</g>\n",
       "<!-- St4&#45;&gt;St2 -->\n",
       "<g id=\"edge8\" class=\"edge\">\n",
       "<title>St4&#45;&gt;St2</title>\n",
       "<path fill=\"none\" stroke=\"#000000\" d=\"M321.3374,-122.8452C354.992,-127.458 418.6432,-136.1821 459.0335,-141.7181\"/>\n",
       "<polygon fill=\"#000000\" stroke=\"#000000\" points=\"458.6347,-145.196 469.0173,-143.0865 459.5853,-138.2609 458.6347,-145.196\"/>\n",
       "<text text-anchor=\"middle\" x=\"395.2359\" y=\"-140.548\" font-family=\"Times,serif\" font-size=\"14.00\" fill=\"#000000\">0 </text>\n",
       "</g>\n",
       "<!-- St0 -->\n",
       "<g id=\"node9\" class=\"node\">\n",
       "<title>St0</title>\n",
       "<ellipse fill=\"none\" stroke=\"#000000\" cx=\"395.2359\" cy=\"-188.748\" rx=\"22.9609\" ry=\"22.9609\"/>\n",
       "<ellipse fill=\"none\" stroke=\"#000000\" cx=\"395.2359\" cy=\"-188.748\" rx=\"26.9983\" ry=\"26.9983\"/>\n",
       "<text text-anchor=\"middle\" x=\"395.2359\" y=\"-185.048\" font-family=\"Times,serif\" font-size=\"14.00\" fill=\"#000000\">St0</text>\n",
       "</g>\n",
       "<!-- St4&#45;&gt;St0 -->\n",
       "<g id=\"edge9\" class=\"edge\">\n",
       "<title>St4&#45;&gt;St0</title>\n",
       "<path fill=\"none\" stroke=\"#000000\" d=\"M317.3453,-133.0519C330.8385,-142.7002 349.3817,-155.9597 364.9904,-167.1208\"/>\n",
       "<polygon fill=\"#000000\" stroke=\"#000000\" points=\"363.1391,-170.0997 373.3093,-173.0692 367.2107,-164.4056 363.1391,-170.0997\"/>\n",
       "<text text-anchor=\"middle\" x=\"344.9879\" y=\"-160.548\" font-family=\"Times,serif\" font-size=\"14.00\" fill=\"#000000\">1 </text>\n",
       "</g>\n",
       "<!-- St5 -->\n",
       "<g id=\"node3\" class=\"node\">\n",
       "<title>St5</title>\n",
       "<ellipse fill=\"none\" stroke=\"#000000\" cx=\"206.2439\" cy=\"-92.748\" rx=\"22.9987\" ry=\"22.9987\"/>\n",
       "<text text-anchor=\"middle\" x=\"206.2439\" y=\"-89.048\" font-family=\"Times,serif\" font-size=\"14.00\" fill=\"#000000\">St5</text>\n",
       "</g>\n",
       "<!-- St5&#45;&gt;St4 -->\n",
       "<g id=\"edge5\" class=\"edge\">\n",
       "<title>St5&#45;&gt;St4</title>\n",
       "<path fill=\"none\" stroke=\"#000000\" d=\"M228.1642,-99.1466C239.7143,-102.5181 254.0944,-106.7158 266.855,-110.4406\"/>\n",
       "<polygon fill=\"#000000\" stroke=\"#000000\" points=\"266.0763,-113.8593 276.6565,-113.3017 268.0378,-107.1398 266.0763,-113.8593\"/>\n",
       "<text text-anchor=\"middle\" x=\"252.4919\" y=\"-111.548\" font-family=\"Times,serif\" font-size=\"14.00\" fill=\"#000000\">1 </text>\n",
       "</g>\n",
       "<!-- St6 -->\n",
       "<g id=\"node5\" class=\"node\">\n",
       "<title>St6</title>\n",
       "<ellipse fill=\"none\" stroke=\"#000000\" cx=\"692.7238\" cy=\"-87.748\" rx=\"22.9987\" ry=\"22.9987\"/>\n",
       "<text text-anchor=\"middle\" x=\"692.7238\" y=\"-84.048\" font-family=\"Times,serif\" font-size=\"14.00\" fill=\"#000000\">St6</text>\n",
       "</g>\n",
       "<!-- St5&#45;&gt;St6 -->\n",
       "<g id=\"edge4\" class=\"edge\">\n",
       "<title>St5&#45;&gt;St6</title>\n",
       "<path fill=\"none\" stroke=\"#000000\" d=\"M223.2983,-77.5605C240.8985,-63.498 269.793,-44.748 298.7399,-44.748 298.7399,-44.748 298.7399,-44.748 596.2278,-44.748 621.2888,-44.748 647.088,-56.9983 665.6976,-68.4217\"/>\n",
       "<polygon fill=\"#000000\" stroke=\"#000000\" points=\"663.9175,-71.4382 674.221,-73.9058 667.7052,-65.5515 663.9175,-71.4382\"/>\n",
       "<text text-anchor=\"middle\" x=\"445.4839\" y=\"-48.548\" font-family=\"Times,serif\" font-size=\"14.00\" fill=\"#000000\">0 </text>\n",
       "</g>\n",
       "<!-- St7&#45;&gt;St5 -->\n",
       "<g id=\"edge3\" class=\"edge\">\n",
       "<title>St7&#45;&gt;St5</title>\n",
       "<path fill=\"none\" stroke=\"#000000\" d=\"M132.0222,-36.5777C145.7043,-46.9322 164.6186,-61.2464 179.9289,-72.833\"/>\n",
       "<polygon fill=\"#000000\" stroke=\"#000000\" points=\"177.9216,-75.7032 188.0077,-78.947 182.1458,-70.1214 177.9216,-75.7032\"/>\n",
       "<text text-anchor=\"middle\" x=\"159.996\" y=\"-64.548\" font-family=\"Times,serif\" font-size=\"14.00\" fill=\"#000000\">1 </text>\n",
       "</g>\n",
       "<!-- St7&#45;&gt;St7 -->\n",
       "<g id=\"edge2\" class=\"edge\">\n",
       "<title>St7&#45;&gt;St7</title>\n",
       "<path fill=\"none\" stroke=\"#000000\" d=\"M106.3963,-44.5475C105.5943,-54.6603 108.0449,-63.496 113.748,-63.496 117.4015,-63.496 119.7203,-59.8698 120.7041,-54.6047\"/>\n",
       "<polygon fill=\"#000000\" stroke=\"#000000\" points=\"124.2039,-54.6774 121.0997,-44.5475 117.2093,-54.4022 124.2039,-54.6774\"/>\n",
       "<text text-anchor=\"middle\" x=\"113.748\" y=\"-67.296\" font-family=\"Times,serif\" font-size=\"14.00\" fill=\"#000000\">0 </text>\n",
       "</g>\n",
       "<!-- St1 -->\n",
       "<g id=\"node6\" class=\"node\">\n",
       "<title>St1</title>\n",
       "<ellipse fill=\"none\" stroke=\"#000000\" cx=\"596.2278\" cy=\"-99.748\" rx=\"22.9609\" ry=\"22.9609\"/>\n",
       "<ellipse fill=\"none\" stroke=\"#000000\" cx=\"596.2278\" cy=\"-99.748\" rx=\"26.9983\" ry=\"26.9983\"/>\n",
       "<text text-anchor=\"middle\" x=\"596.2278\" y=\"-96.048\" font-family=\"Times,serif\" font-size=\"14.00\" fill=\"#000000\">St1</text>\n",
       "</g>\n",
       "<!-- St6&#45;&gt;St1 -->\n",
       "<g id=\"edge7\" class=\"edge\">\n",
       "<title>St6&#45;&gt;St1</title>\n",
       "<path fill=\"none\" stroke=\"#000000\" d=\"M671.2338,-80.2366C661.896,-77.9445 650.8551,-76.5451 640.9758,-78.748 637.0364,-79.6264 633.0342,-80.8908 629.1252,-82.3698\"/>\n",
       "<polygon fill=\"#000000\" stroke=\"#000000\" points=\"627.5169,-79.2505 619.6892,-86.3904 630.2609,-85.6903 627.5169,-79.2505\"/>\n",
       "<text text-anchor=\"middle\" x=\"646.4758\" y=\"-82.548\" font-family=\"Times,serif\" font-size=\"14.00\" fill=\"#000000\">1 </text>\n",
       "</g>\n",
       "<!-- St3 -->\n",
       "<g id=\"node7\" class=\"node\">\n",
       "<title>St3</title>\n",
       "<ellipse fill=\"none\" stroke=\"#000000\" cx=\"789.2197\" cy=\"-144.748\" rx=\"22.9609\" ry=\"22.9609\"/>\n",
       "<ellipse fill=\"none\" stroke=\"#000000\" cx=\"789.2197\" cy=\"-144.748\" rx=\"26.9983\" ry=\"26.9983\"/>\n",
       "<text text-anchor=\"middle\" x=\"789.2197\" y=\"-141.048\" font-family=\"Times,serif\" font-size=\"14.00\" fill=\"#000000\">St3</text>\n",
       "</g>\n",
       "<!-- St6&#45;&gt;St3 -->\n",
       "<g id=\"edge6\" class=\"edge\">\n",
       "<title>St6&#45;&gt;St3</title>\n",
       "<path fill=\"none\" stroke=\"#000000\" d=\"M712.7178,-99.5584C725.5181,-107.1196 742.415,-117.1005 757.0726,-125.7588\"/>\n",
       "<polygon fill=\"#000000\" stroke=\"#000000\" points=\"755.4629,-128.8729 765.853,-130.9453 759.0231,-122.8458 755.4629,-128.8729\"/>\n",
       "<text text-anchor=\"middle\" x=\"738.9717\" y=\"-122.548\" font-family=\"Times,serif\" font-size=\"14.00\" fill=\"#000000\">0 </text>\n",
       "</g>\n",
       "<!-- St1&#45;&gt;St4 -->\n",
       "<g id=\"edge13\" class=\"edge\">\n",
       "<title>St1&#45;&gt;St4</title>\n",
       "<path fill=\"none\" stroke=\"#000000\" d=\"M569.4983,-101.545C515.0461,-105.2058 391.3992,-113.5185 331.9179,-117.5174\"/>\n",
       "<polygon fill=\"#000000\" stroke=\"#000000\" points=\"331.332,-114.0488 321.5893,-118.2118 331.8016,-121.0331 331.332,-114.0488\"/>\n",
       "<text text-anchor=\"middle\" x=\"445.4839\" y=\"-114.548\" font-family=\"Times,serif\" font-size=\"14.00\" fill=\"#000000\">1 </text>\n",
       "</g>\n",
       "<!-- St1&#45;&gt;St6 -->\n",
       "<g id=\"edge12\" class=\"edge\">\n",
       "<title>St1&#45;&gt;St6</title>\n",
       "<path fill=\"none\" stroke=\"#000000\" d=\"M622.9076,-97.0902C632.125,-96.1153 642.5126,-94.9535 651.9758,-93.748 654.5205,-93.4238 657.1522,-93.0727 659.7966,-92.7085\"/>\n",
       "<polygon fill=\"#000000\" stroke=\"#000000\" points=\"660.4947,-96.1444 669.9009,-91.2687 659.5072,-89.2145 660.4947,-96.1444\"/>\n",
       "<text text-anchor=\"middle\" x=\"646.4758\" y=\"-99.548\" font-family=\"Times,serif\" font-size=\"14.00\" fill=\"#000000\">0 </text>\n",
       "</g>\n",
       "<!-- St3&#45;&gt;St5 -->\n",
       "<g id=\"edge11\" class=\"edge\">\n",
       "<title>St3&#45;&gt;St5</title>\n",
       "<path fill=\"none\" stroke=\"#000000\" d=\"M782.8276,-170.8269C771.6602,-209.2958 744.6722,-276.748 692.7238,-276.748 298.7399,-276.748 298.7399,-276.748 298.7399,-276.748 232.0089,-276.748 213.4154,-178.9444 208.2387,-125.9483\"/>\n",
       "<polygon fill=\"#000000\" stroke=\"#000000\" points=\"211.6992,-125.34 207.3484,-115.6797 204.7253,-125.9446 211.6992,-125.34\"/>\n",
       "<text text-anchor=\"middle\" x=\"495.7318\" y=\"-280.548\" font-family=\"Times,serif\" font-size=\"14.00\" fill=\"#000000\">1 </text>\n",
       "</g>\n",
       "<!-- St3&#45;&gt;St7 -->\n",
       "<g id=\"edge10\" class=\"edge\">\n",
       "<title>St3&#45;&gt;St7</title>\n",
       "<path fill=\"none\" stroke=\"#000000\" d=\"M783.4649,-118.4664C772.9743,-78.427 746.6614,-6.748 692.7238,-6.748 206.2439,-6.748 206.2439,-6.748 206.2439,-6.748 185.9455,-6.748 163.5032,-10.5355 145.8084,-14.4251\"/>\n",
       "<polygon fill=\"#000000\" stroke=\"#000000\" points=\"144.9429,-11.0328 135.9906,-16.6991 146.5225,-17.8523 144.9429,-11.0328\"/>\n",
       "<text text-anchor=\"middle\" x=\"445.4839\" y=\"-10.548\" font-family=\"Times,serif\" font-size=\"14.00\" fill=\"#000000\">0 </text>\n",
       "</g>\n",
       "<!-- St2&#45;&gt;St1 -->\n",
       "<g id=\"edge15\" class=\"edge\">\n",
       "<title>St2&#45;&gt;St1</title>\n",
       "<path fill=\"none\" stroke=\"#000000\" d=\"M520.3456,-135.184C526.8881,-132.1137 533.9504,-128.8027 540.4798,-125.748 547.5291,-122.4501 555.0825,-118.9228 562.2819,-115.5641\"/>\n",
       "<polygon fill=\"#000000\" stroke=\"#000000\" points=\"564.2154,-118.5244 571.799,-111.1258 561.2568,-112.1803 564.2154,-118.5244\"/>\n",
       "<text text-anchor=\"middle\" x=\"545.9798\" y=\"-129.548\" font-family=\"Times,serif\" font-size=\"14.00\" fill=\"#000000\">1 </text>\n",
       "</g>\n",
       "<!-- St2&#45;&gt;St3 -->\n",
       "<g id=\"edge14\" class=\"edge\">\n",
       "<title>St2&#45;&gt;St3</title>\n",
       "<path fill=\"none\" stroke=\"#000000\" d=\"M522.555,-146.5652C575.1503,-146.2068 691.9141,-145.4111 751.9635,-145.0019\"/>\n",
       "<polygon fill=\"#000000\" stroke=\"#000000\" points=\"752.1644,-148.5007 762.1403,-144.9325 752.1166,-141.5008 752.1644,-148.5007\"/>\n",
       "<text text-anchor=\"middle\" x=\"646.4758\" y=\"-149.548\" font-family=\"Times,serif\" font-size=\"14.00\" fill=\"#000000\">0 </text>\n",
       "</g>\n",
       "<!-- St0&#45;&gt;St2 -->\n",
       "<g id=\"edge16\" class=\"edge\">\n",
       "<title>St0&#45;&gt;St2</title>\n",
       "<path fill=\"none\" stroke=\"#000000\" d=\"M420.0776,-178.366C432.5189,-173.1664 447.7803,-166.7883 461.3293,-161.1258\"/>\n",
       "<polygon fill=\"#000000\" stroke=\"#000000\" points=\"462.9506,-164.2416 470.8276,-157.1561 460.2513,-157.7829 462.9506,-164.2416\"/>\n",
       "<text text-anchor=\"middle\" x=\"445.4839\" y=\"-173.548\" font-family=\"Times,serif\" font-size=\"14.00\" fill=\"#000000\">0 </text>\n",
       "</g>\n",
       "<!-- St0&#45;&gt;St0 -->\n",
       "<g id=\"edge17\" class=\"edge\">\n",
       "<title>St0&#45;&gt;St0</title>\n",
       "<path fill=\"none\" stroke=\"#000000\" d=\"M385.9433,-214.049C385.3024,-224.574 388.3999,-233.496 395.2359,-233.496 399.722,-233.496 402.598,-229.6536 403.8641,-224.0374\"/>\n",
       "<polygon fill=\"#000000\" stroke=\"#000000\" points=\"407.357,-224.2592 404.5285,-214.049 400.3725,-223.7946 407.357,-224.2592\"/>\n",
       "<text text-anchor=\"middle\" x=\"395.2359\" y=\"-237.296\" font-family=\"Times,serif\" font-size=\"14.00\" fill=\"#000000\">1 </text>\n",
       "</g>\n",
       "</g>\n",
       "</svg>\n"
      ],
      "text/plain": [
       "<graphviz.dot.Digraph at 0x1122b0f28>"
      ]
     },
     "execution_count": 8,
     "metadata": {},
     "output_type": "execute_result"
    }
   ],
   "source": [
    "dotObj_dfa(nfa2dfa(NFA_3rdlast_1))"
   ]
  },
  {
   "cell_type": "code",
   "execution_count": 9,
   "metadata": {
    "run_control": {
     "frozen": false,
     "read_only": false
    }
   },
   "outputs": [
    {
     "data": {
      "text/plain": [
       "{'Q': {'F', 'I', 'S0', 'S1', 'S2'},\n",
       " 'Sigma': {'0', '1'},\n",
       " 'Delta': {('I', '0'): {'I'},\n",
       "  ('I', '1'): {'I'},\n",
       "  ('I', ''): {'S0'},\n",
       "  ('S0', '1'): {'S1'},\n",
       "  ('S1', '0'): {'S2'},\n",
       "  ('S1', '1'): {'S2'},\n",
       "  ('S2', '0'): {'F'},\n",
       "  ('S2', '1'): {'F'}},\n",
       " 'Q0': {'I'},\n",
       " 'F': {'F'}}"
      ]
     },
     "execution_count": 9,
     "metadata": {},
     "output_type": "execute_result"
    }
   ],
   "source": [
    "# Let us see its internal representation\n",
    "\n",
    "NFA_3rdlast_1"
   ]
  },
  {
   "cell_type": "code",
   "execution_count": 10,
   "metadata": {
    "run_control": {
     "frozen": false,
     "read_only": false
    }
   },
   "outputs": [
    {
     "data": {
      "image/svg+xml": [
       "<?xml version=\"1.0\" encoding=\"UTF-8\" standalone=\"no\"?>\n",
       "<!DOCTYPE svg PUBLIC \"-//W3C//DTD SVG 1.1//EN\"\n",
       " \"http://www.w3.org/Graphics/SVG/1.1/DTD/svg11.dtd\">\n",
       "<!-- Generated by graphviz version 2.40.1 (20161225.0304)\n",
       " -->\n",
       "<!-- Title: %3 Pages: 1 -->\n",
       "<svg width=\"494pt\" height=\"96pt\"\n",
       " viewBox=\"0.00 0.00 493.89 96.00\" xmlns=\"http://www.w3.org/2000/svg\" xmlns:xlink=\"http://www.w3.org/1999/xlink\">\n",
       "<g id=\"graph0\" class=\"graph\" transform=\"scale(1 1) rotate(0) translate(4 92)\">\n",
       "<title>%3</title>\n",
       "<polygon fill=\"#ffffff\" stroke=\"transparent\" points=\"-4,4 -4,-92 489.8893,-92 489.8893,4 -4,4\"/>\n",
       "<!-- EMPTY -->\n",
       "<g id=\"node1\" class=\"node\">\n",
       "<title>EMPTY</title>\n",
       "</g>\n",
       "<!-- I -->\n",
       "<g id=\"node4\" class=\"node\">\n",
       "<title>I</title>\n",
       "<ellipse fill=\"none\" stroke=\"#000000\" cx=\"109\" cy=\"-22\" rx=\"18\" ry=\"18\"/>\n",
       "<text text-anchor=\"middle\" x=\"109\" y=\"-18.3\" font-family=\"Times,serif\" font-size=\"14.00\" fill=\"#000000\">I</text>\n",
       "</g>\n",
       "<!-- EMPTY&#45;&gt;I -->\n",
       "<g id=\"edge1\" class=\"edge\">\n",
       "<title>EMPTY&#45;&gt;I</title>\n",
       "<path fill=\"none\" stroke=\"#000000\" d=\"M54.3048,-22C62.6909,-22 71.9407,-22 80.4103,-22\"/>\n",
       "<polygon fill=\"#000000\" stroke=\"#000000\" points=\"80.5976,-25.5001 90.5976,-22 80.5976,-18.5001 80.5976,-25.5001\"/>\n",
       "</g>\n",
       "<!-- S0 -->\n",
       "<g id=\"node2\" class=\"node\">\n",
       "<title>S0</title>\n",
       "<ellipse fill=\"none\" stroke=\"#000000\" cx=\"192.1482\" cy=\"-22\" rx=\"20.2975\" ry=\"20.2975\"/>\n",
       "<text text-anchor=\"middle\" x=\"192.1482\" y=\"-18.3\" font-family=\"Times,serif\" font-size=\"14.00\" fill=\"#000000\">S0</text>\n",
       "</g>\n",
       "<!-- S1 -->\n",
       "<g id=\"node5\" class=\"node\">\n",
       "<title>S1</title>\n",
       "<ellipse fill=\"none\" stroke=\"#000000\" cx=\"279.4446\" cy=\"-22\" rx=\"20.2975\" ry=\"20.2975\"/>\n",
       "<text text-anchor=\"middle\" x=\"279.4446\" y=\"-18.3\" font-family=\"Times,serif\" font-size=\"14.00\" fill=\"#000000\">S1</text>\n",
       "</g>\n",
       "<!-- S0&#45;&gt;S1 -->\n",
       "<g id=\"edge4\" class=\"edge\">\n",
       "<title>S0&#45;&gt;S1</title>\n",
       "<path fill=\"none\" stroke=\"#000000\" d=\"M212.3952,-22C223.225,-22 236.7837,-22 248.8692,-22\"/>\n",
       "<polygon fill=\"#000000\" stroke=\"#000000\" points=\"249.0051,-25.5001 259.0051,-22 249.005,-18.5001 249.0051,-25.5001\"/>\n",
       "<text text-anchor=\"middle\" x=\"235.7964\" y=\"-25.8\" font-family=\"Times,serif\" font-size=\"14.00\" fill=\"#000000\">1 </text>\n",
       "</g>\n",
       "<!-- S2 -->\n",
       "<g id=\"node3\" class=\"node\">\n",
       "<title>S2</title>\n",
       "<ellipse fill=\"none\" stroke=\"#000000\" cx=\"370.7411\" cy=\"-22\" rx=\"20.2975\" ry=\"20.2975\"/>\n",
       "<text text-anchor=\"middle\" x=\"370.7411\" y=\"-18.3\" font-family=\"Times,serif\" font-size=\"14.00\" fill=\"#000000\">S2</text>\n",
       "</g>\n",
       "<!-- F -->\n",
       "<g id=\"node6\" class=\"node\">\n",
       "<title>F</title>\n",
       "<ellipse fill=\"none\" stroke=\"#000000\" cx=\"463.8893\" cy=\"-22\" rx=\"18\" ry=\"18\"/>\n",
       "<ellipse fill=\"none\" stroke=\"#000000\" cx=\"463.8893\" cy=\"-22\" rx=\"22\" ry=\"22\"/>\n",
       "<text text-anchor=\"middle\" x=\"463.8893\" y=\"-18.3\" font-family=\"Times,serif\" font-size=\"14.00\" fill=\"#000000\">F</text>\n",
       "</g>\n",
       "<!-- S2&#45;&gt;F -->\n",
       "<g id=\"edge6\" class=\"edge\">\n",
       "<title>S2&#45;&gt;F</title>\n",
       "<path fill=\"none\" stroke=\"#000000\" d=\"M390.9528,-22C402.7746,-22 417.9751,-22 431.437,-22\"/>\n",
       "<polygon fill=\"#000000\" stroke=\"#000000\" points=\"431.7628,-25.5001 441.7628,-22 431.7627,-18.5001 431.7628,-25.5001\"/>\n",
       "<text text-anchor=\"middle\" x=\"416.3893\" y=\"-40.8\" font-family=\"Times,serif\" font-size=\"14.00\" fill=\"#000000\">0 </text>\n",
       "<text text-anchor=\"middle\" x=\"416.3893\" y=\"-25.8\" font-family=\"Times,serif\" font-size=\"14.00\" fill=\"#000000\"> 1 </text>\n",
       "</g>\n",
       "<!-- I&#45;&gt;S0 -->\n",
       "<g id=\"edge3\" class=\"edge\">\n",
       "<title>I&#45;&gt;S0</title>\n",
       "<path fill=\"none\" stroke=\"#000000\" d=\"M127.0419,-22C137.1348,-22 149.9867,-22 161.6009,-22\"/>\n",
       "<polygon fill=\"#000000\" stroke=\"#000000\" points=\"161.8046,-25.5001 171.8045,-22 161.8045,-18.5001 161.8046,-25.5001\"/>\n",
       "<text text-anchor=\"middle\" x=\"149.5\" y=\"-25.8\" font-family=\"Times,serif\" font-size=\"14.00\" fill=\"#000000\">&#39;&#39; </text>\n",
       "</g>\n",
       "<!-- I&#45;&gt;I -->\n",
       "<g id=\"edge2\" class=\"edge\">\n",
       "<title>I&#45;&gt;I</title>\n",
       "<path fill=\"none\" stroke=\"#000000\" d=\"M102.6208,-39.0373C101.3189,-48.8579 103.4453,-58 109,-58 112.4717,-58 114.6042,-54.4289 115.3975,-49.3529\"/>\n",
       "<polygon fill=\"#000000\" stroke=\"#000000\" points=\"118.8971,-49.031 115.3792,-39.0373 111.8971,-49.0435 118.8971,-49.031\"/>\n",
       "<text text-anchor=\"middle\" x=\"109\" y=\"-76.8\" font-family=\"Times,serif\" font-size=\"14.00\" fill=\"#000000\">0 </text>\n",
       "<text text-anchor=\"middle\" x=\"109\" y=\"-61.8\" font-family=\"Times,serif\" font-size=\"14.00\" fill=\"#000000\"> 1 </text>\n",
       "</g>\n",
       "<!-- S1&#45;&gt;S2 -->\n",
       "<g id=\"edge5\" class=\"edge\">\n",
       "<title>S1&#45;&gt;S2</title>\n",
       "<path fill=\"none\" stroke=\"#000000\" d=\"M299.7063,-22C311.6443,-22 326.9789,-22 340.3432,-22\"/>\n",
       "<polygon fill=\"#000000\" stroke=\"#000000\" points=\"340.5361,-25.5001 350.5361,-22 340.536,-18.5001 340.5361,-25.5001\"/>\n",
       "<text text-anchor=\"middle\" x=\"325.0928\" y=\"-40.8\" font-family=\"Times,serif\" font-size=\"14.00\" fill=\"#000000\">0 </text>\n",
       "<text text-anchor=\"middle\" x=\"325.0928\" y=\"-25.8\" font-family=\"Times,serif\" font-size=\"14.00\" fill=\"#000000\"> 1 </text>\n",
       "</g>\n",
       "</g>\n",
       "</svg>\n"
      ],
      "text/plain": [
       "<graphviz.dot.Digraph at 0x1122b0978>"
      ]
     },
     "execution_count": 10,
     "metadata": {},
     "output_type": "execute_result"
    }
   ],
   "source": [
    "# Let us see this NFA drawn out\n",
    "\n",
    "dotObj_nfa(NFA_3rdlast_1, FuseEdges=True)"
   ]
  },
  {
   "cell_type": "code",
   "execution_count": 11,
   "metadata": {
    "run_control": {
     "frozen": false,
     "read_only": false
    }
   },
   "outputs": [
    {
     "data": {
      "text/plain": [
       "{'S0'}"
      ]
     },
     "execution_count": 11,
     "metadata": {},
     "output_type": "execute_result"
    }
   ],
   "source": [
    "# Let's step the NFA on epsilon   \n",
    "step_nfa(NFA_3rdlast_1, \"I\", \"\")"
   ]
  },
  {
   "cell_type": "code",
   "execution_count": 12,
   "metadata": {
    "run_control": {
     "frozen": false,
     "read_only": false
    }
   },
   "outputs": [
    {
     "data": {
      "text/plain": [
       "{'I'}"
      ]
     },
     "execution_count": 12,
     "metadata": {},
     "output_type": "execute_result"
    }
   ],
   "source": [
    "# Let's step it on '0'  \n",
    "step_nfa(NFA_3rdlast_1, \"I\", \"0\")"
   ]
  },
  {
   "cell_type": "code",
   "execution_count": 13,
   "metadata": {
    "run_control": {
     "frozen": false,
     "read_only": false
    }
   },
   "outputs": [
    {
     "data": {
      "text/plain": [
       "{'I'}"
      ]
     },
     "execution_count": 13,
     "metadata": {},
     "output_type": "execute_result"
    }
   ],
   "source": [
    "# Step it on a \"1\" to see two next states. That shows nondeterminism!\n",
    "\n",
    "step_nfa(NFA_3rdlast_1, \"I\", \"1\")  "
   ]
  },
  {
   "cell_type": "code",
   "execution_count": 14,
   "metadata": {
    "run_control": {
     "frozen": false,
     "read_only": false
    }
   },
   "outputs": [
    {
     "data": {
      "text/plain": [
       "{'I', 'S0'}"
      ]
     },
     "execution_count": 14,
     "metadata": {},
     "output_type": "execute_result"
    }
   ],
   "source": [
    "# What is the Eclosure of the set of states {I} ?\n",
    "\n",
    "Eclosure(NFA_3rdlast_1, {\"I\"})"
   ]
  },
  {
   "cell_type": "code",
   "execution_count": 15,
   "metadata": {
    "run_control": {
     "frozen": false,
     "read_only": false
    }
   },
   "outputs": [
    {
     "name": "stdout",
     "output_type": "stream",
     "text": [
      "Help on function accepts_nfa in module jove.Def_NFA:\n",
      "\n",
      "accepts_nfa(N, s, chatty=False)\n",
      "    NFA acceptance.\n",
      "    Input : N : given NFA\n",
      "            s : given string\n",
      "            chatty : Boolean (prints accepting path,\n",
      "                     which is the state-sets encountered).\n",
      "\n"
     ]
    }
   ],
   "source": [
    "help(accepts_nfa)"
   ]
  },
  {
   "cell_type": "code",
   "execution_count": 16,
   "metadata": {
    "run_control": {
     "frozen": false,
     "read_only": false
    }
   },
   "outputs": [
    {
     "name": "stdout",
     "output_type": "stream",
     "text": [
      "States reached =  {'S0', 'I'}\n",
      "States reached =  {'S0', 'I', 'S1'}\n",
      "States reached =  {'S0', 'I', 'S2'}\n",
      "States reached =  {'S0', 'F', 'I'}\n",
      "States reached =  {'S0', 'I', 'S1'}\n",
      "States reached =  {'S0', 'I', 'S2'}\n",
      "States reached =  {'S0', 'F', 'I'}\n",
      "NFA accepts '0100100' by reaching {'S0', 'F', 'I'}\n"
     ]
    },
    {
     "data": {
      "text/plain": [
       "True"
      ]
     },
     "execution_count": 16,
     "metadata": {},
     "output_type": "execute_result"
    }
   ],
   "source": [
    "accepts_nfa(NFA_3rdlast_1, \"0100100\", chatty=True)"
   ]
  },
  {
   "cell_type": "markdown",
   "metadata": {},
   "source": [
    "# ------- ANIMATION -------- being debugged..."
   ]
  },
  {
   "cell_type": "code",
   "execution_count": 17,
   "metadata": {},
   "outputs": [],
   "source": [
    "# Book's Figure 7.7 NFA but showing multiple initial states\n",
    "\n",
    "Book77 = md2mc('''\n",
    "NFA\n",
    "IA : '' -> B,C\n",
    "IG : 1  -> F\n",
    "\n",
    "B  : 1  -> D\n",
    "C  : 0  -> E\n",
    "\n",
    "D  : '' -> IA,IG\n",
    "E  : '' -> IA,IG\n",
    "\n",
    "''')"
   ]
  },
  {
   "cell_type": "code",
   "execution_count": 18,
   "metadata": {},
   "outputs": [
    {
     "name": "stdout",
     "output_type": "stream",
     "text": [
      "Help on function dotObj_dfa_w_bh in module jove.DotBashers:\n",
      "\n",
      "dotObj_dfa_w_bh(D, FuseEdges=False, dfaName='do_', STATENAME_MAXSIZE=20)\n",
      "    In : D (DFA : partially consistent, states shrunk)\n",
      "         dfaName (string)\n",
      "         STATENAME_MAXSIZE : number\n",
      "    Out: A dot object. \n",
      "    Generate a dot object representing the automaton. \n",
      "    Do not suppress \"black-hole states\".\n",
      "\n"
     ]
    }
   ],
   "source": [
    "help(dotObj_dfa_w_bh)"
   ]
  },
  {
   "cell_type": "code",
   "execution_count": 19,
   "metadata": {},
   "outputs": [
    {
     "name": "stdout",
     "output_type": "stream",
     "text": [
      "Help on function nfa2dfa in module jove.Def_NFA:\n",
      "\n",
      "nfa2dfa(N, STATENAME_MAXSIZE=20)\n",
      "    In : N (consistent NFA), and optional STATENAME_MAXSIZE\n",
      "         for the generated DFA states\n",
      "    Out: A consistent DFA that is language-equivalent to N.\n",
      "\n"
     ]
    }
   ],
   "source": [
    "help(nfa2dfa)"
   ]
  },
  {
   "cell_type": "code",
   "execution_count": 20,
   "metadata": {},
   "outputs": [
    {
     "data": {
      "image/svg+xml": [
       "<?xml version=\"1.0\" encoding=\"UTF-8\" standalone=\"no\"?>\n",
       "<!DOCTYPE svg PUBLIC \"-//W3C//DTD SVG 1.1//EN\"\n",
       " \"http://www.w3.org/Graphics/SVG/1.1/DTD/svg11.dtd\">\n",
       "<!-- Generated by graphviz version 2.40.1 (20161225.0304)\n",
       " -->\n",
       "<!-- Title: %3 Pages: 1 -->\n",
       "<svg width=\"597pt\" height=\"246pt\"\n",
       " viewBox=\"0.00 0.00 597.46 245.54\" xmlns=\"http://www.w3.org/2000/svg\" xmlns:xlink=\"http://www.w3.org/1999/xlink\">\n",
       "<g id=\"graph0\" class=\"graph\" transform=\"scale(1 1) rotate(0) translate(4 241.5392)\">\n",
       "<title>%3</title>\n",
       "<polygon fill=\"#ffffff\" stroke=\"transparent\" points=\"-4,4 -4,-241.5392 593.4648,-241.5392 593.4648,4 -4,4\"/>\n",
       "<!-- EMPTY -->\n",
       "<g id=\"node1\" class=\"node\">\n",
       "<title>EMPTY</title>\n",
       "</g>\n",
       "<!-- B_C_IA_IG -->\n",
       "<g id=\"node3\" class=\"node\">\n",
       "<title>B_C_IA_IG</title>\n",
       "<ellipse fill=\"none\" stroke=\"#000000\" cx=\"146.895\" cy=\"-55.895\" rx=\"55.7903\" ry=\"55.7903\"/>\n",
       "<text text-anchor=\"middle\" x=\"146.895\" y=\"-52.195\" font-family=\"Times,serif\" font-size=\"14.00\" fill=\"#000000\">B_C_IA_IG</text>\n",
       "</g>\n",
       "<!-- EMPTY&#45;&gt;B_C_IA_IG -->\n",
       "<g id=\"edge1\" class=\"edge\">\n",
       "<title>EMPTY&#45;&gt;B_C_IA_IG</title>\n",
       "<path fill=\"none\" stroke=\"#000000\" d=\"M54.206,-55.895C62.2226,-55.895 71.3661,-55.895 80.7139,-55.895\"/>\n",
       "<polygon fill=\"#000000\" stroke=\"#000000\" points=\"80.8939,-59.3951 90.8939,-55.895 80.8938,-52.3951 80.8939,-59.3951\"/>\n",
       "</g>\n",
       "<!-- B_C_E_IA_IG -->\n",
       "<g id=\"node2\" class=\"node\">\n",
       "<title>B_C_E_IA_IG</title>\n",
       "<ellipse fill=\"none\" stroke=\"#000000\" cx=\"315.4343\" cy=\"-138.895\" rx=\"65.7887\" ry=\"65.7887\"/>\n",
       "<text text-anchor=\"middle\" x=\"315.4343\" y=\"-135.195\" font-family=\"Times,serif\" font-size=\"14.00\" fill=\"#000000\">B_C_E_IA_IG</text>\n",
       "</g>\n",
       "<!-- B_C_E_IA_IG&#45;&gt;B_C_E_IA_IG -->\n",
       "<g id=\"edge4\" class=\"edge\">\n",
       "<title>B_C_E_IA_IG&#45;&gt;B_C_E_IA_IG</title>\n",
       "<path fill=\"none\" stroke=\"#000000\" d=\"M299.8406,-202.7163C301.8145,-214.3674 307.0124,-222.5392 315.4343,-222.5392 321.2243,-222.5392 325.4905,-218.6768 328.2328,-212.4767\"/>\n",
       "<polygon fill=\"#000000\" stroke=\"#000000\" points=\"331.6396,-213.2934 331.0279,-202.7163 324.9101,-211.3663 331.6396,-213.2934\"/>\n",
       "<text text-anchor=\"middle\" x=\"315.4343\" y=\"-226.3392\" font-family=\"Times,serif\" font-size=\"14.00\" fill=\"#000000\">0 </text>\n",
       "</g>\n",
       "<!-- B_C_D_F_IA_IG -->\n",
       "<g id=\"node4\" class=\"node\">\n",
       "<title>B_C_D_F_IA_IG</title>\n",
       "<ellipse fill=\"none\" stroke=\"#000000\" cx=\"508.7716\" cy=\"-100.895\" rx=\"76.8773\" ry=\"76.8773\"/>\n",
       "<ellipse fill=\"none\" stroke=\"#000000\" cx=\"508.7716\" cy=\"-100.895\" rx=\"80.8869\" ry=\"80.8869\"/>\n",
       "<text text-anchor=\"middle\" x=\"508.7716\" y=\"-97.195\" font-family=\"Times,serif\" font-size=\"14.00\" fill=\"#000000\">B_C_D_F_IA_IG</text>\n",
       "</g>\n",
       "<!-- B_C_E_IA_IG&#45;&gt;B_C_D_F_IA_IG -->\n",
       "<g id=\"edge5\" class=\"edge\">\n",
       "<title>B_C_E_IA_IG&#45;&gt;B_C_D_F_IA_IG</title>\n",
       "<path fill=\"none\" stroke=\"#000000\" d=\"M380.0816,-126.1888C392.6782,-123.7129 406.0926,-121.0763 419.3256,-118.4755\"/>\n",
       "<polygon fill=\"#000000\" stroke=\"#000000\" points=\"420.2557,-121.8597 429.3929,-116.4967 418.9056,-114.9911 420.2557,-121.8597\"/>\n",
       "<text text-anchor=\"middle\" x=\"404.5784\" y=\"-126.695\" font-family=\"Times,serif\" font-size=\"14.00\" fill=\"#000000\">1 </text>\n",
       "</g>\n",
       "<!-- B_C_IA_IG&#45;&gt;B_C_E_IA_IG -->\n",
       "<g id=\"edge2\" class=\"edge\">\n",
       "<title>B_C_IA_IG&#45;&gt;B_C_E_IA_IG</title>\n",
       "<path fill=\"none\" stroke=\"#000000\" d=\"M197.4624,-80.7978C213.0883,-88.493 230.5653,-97.0999 247.1799,-105.282\"/>\n",
       "<polygon fill=\"#000000\" stroke=\"#000000\" points=\"245.7868,-108.4973 256.3043,-109.7755 248.8795,-102.2175 245.7868,-108.4973\"/>\n",
       "<text text-anchor=\"middle\" x=\"226.2901\" y=\"-101.695\" font-family=\"Times,serif\" font-size=\"14.00\" fill=\"#000000\">0 </text>\n",
       "</g>\n",
       "<!-- B_C_IA_IG&#45;&gt;B_C_D_F_IA_IG -->\n",
       "<g id=\"edge3\" class=\"edge\">\n",
       "<title>B_C_IA_IG&#45;&gt;B_C_D_F_IA_IG</title>\n",
       "<path fill=\"none\" stroke=\"#000000\" d=\"M202.3469,-47.3719C250.1583,-41.649 320.8038,-37.0929 381.0784,-48.895 396.1087,-51.8381 411.6026,-56.5584 426.3895,-61.9836\"/>\n",
       "<polygon fill=\"#000000\" stroke=\"#000000\" points=\"425.4015,-65.3525 435.9925,-65.639 427.8918,-58.8104 425.4015,-65.3525\"/>\n",
       "<text text-anchor=\"middle\" x=\"315.4343\" y=\"-52.695\" font-family=\"Times,serif\" font-size=\"14.00\" fill=\"#000000\">1 </text>\n",
       "</g>\n",
       "<!-- B_C_D_F_IA_IG&#45;&gt;B_C_E_IA_IG -->\n",
       "<g id=\"edge6\" class=\"edge\">\n",
       "<title>B_C_D_F_IA_IG&#45;&gt;B_C_E_IA_IG</title>\n",
       "<path fill=\"none\" stroke=\"#000000\" d=\"M428.0819,-98.7973C418.2457,-99.5888 408.3881,-100.8881 399.0784,-102.895 394.3069,-103.9237 389.4696,-105.2279 384.6519,-106.7261\"/>\n",
       "<polygon fill=\"#000000\" stroke=\"#000000\" points=\"383.1717,-103.5318 374.8177,-110.0481 385.4119,-110.1637 383.1717,-103.5318\"/>\n",
       "<text text-anchor=\"middle\" x=\"404.5784\" y=\"-106.695\" font-family=\"Times,serif\" font-size=\"14.00\" fill=\"#000000\">0 </text>\n",
       "</g>\n",
       "<!-- B_C_D_F_IA_IG&#45;&gt;B_C_D_F_IA_IG -->\n",
       "<g id=\"edge7\" class=\"edge\">\n",
       "<title>B_C_D_F_IA_IG&#45;&gt;B_C_D_F_IA_IG</title>\n",
       "<path fill=\"none\" stroke=\"#000000\" d=\"M491.0819,-179.8782C493.836,-191.6359 499.7326,-199.5882 508.7716,-199.5882 514.986,-199.5882 519.715,-195.8295 522.9587,-189.6596\"/>\n",
       "<polygon fill=\"#000000\" stroke=\"#000000\" points=\"526.3852,-190.4728 526.4614,-179.8782 519.7949,-188.1128 526.3852,-190.4728\"/>\n",
       "<text text-anchor=\"middle\" x=\"508.7716\" y=\"-203.3882\" font-family=\"Times,serif\" font-size=\"14.00\" fill=\"#000000\">1 </text>\n",
       "</g>\n",
       "</g>\n",
       "</svg>\n"
      ],
      "text/plain": [
       "<graphviz.dot.Digraph at 0x1122b07b8>"
      ]
     },
     "execution_count": 20,
     "metadata": {},
     "output_type": "execute_result"
    }
   ],
   "source": [
    "dotObj_dfa_w_bh(nfa2dfa(Book77, STATENAME_MAXSIZE=1000), STATENAME_MAXSIZE=1000)"
   ]
  },
  {
   "cell_type": "code",
   "execution_count": 24,
   "metadata": {},
   "outputs": [
    {
     "data": {
      "image/svg+xml": [
       "<?xml version=\"1.0\" encoding=\"UTF-8\" standalone=\"no\"?>\n",
       "<!DOCTYPE svg PUBLIC \"-//W3C//DTD SVG 1.1//EN\"\n",
       " \"http://www.w3.org/Graphics/SVG/1.1/DTD/svg11.dtd\">\n",
       "<!-- Generated by graphviz version 2.40.1 (20161225.0304)\n",
       " -->\n",
       "<!-- Title: %3 Pages: 1 -->\n",
       "<svg width=\"245pt\" height=\"94pt\"\n",
       " viewBox=\"0.00 0.00 244.99 94.50\" xmlns=\"http://www.w3.org/2000/svg\" xmlns:xlink=\"http://www.w3.org/1999/xlink\">\n",
       "<g id=\"graph0\" class=\"graph\" transform=\"scale(1 1) rotate(0) translate(4 90.496)\">\n",
       "<title>%3</title>\n",
       "<polygon fill=\"#ffffff\" stroke=\"transparent\" points=\"-4,4 -4,-90.496 240.9919,-90.496 240.9919,4 -4,4\"/>\n",
       "<!-- EMPTY -->\n",
       "<g id=\"node1\" class=\"node\">\n",
       "<title>EMPTY</title>\n",
       "</g>\n",
       "<!-- St1 -->\n",
       "<g id=\"node2\" class=\"node\">\n",
       "<title>St1</title>\n",
       "<ellipse fill=\"none\" stroke=\"#000000\" cx=\"113.748\" cy=\"-26.748\" rx=\"22.9987\" ry=\"22.9987\"/>\n",
       "<text text-anchor=\"middle\" x=\"113.748\" y=\"-23.048\" font-family=\"Times,serif\" font-size=\"14.00\" fill=\"#000000\">St1</text>\n",
       "</g>\n",
       "<!-- EMPTY&#45;&gt;St1 -->\n",
       "<g id=\"edge1\" class=\"edge\">\n",
       "<title>EMPTY&#45;&gt;St1</title>\n",
       "<path fill=\"none\" stroke=\"#000000\" d=\"M54.4476,-26.748C62.7759,-26.748 72.0138,-26.748 80.671,-26.748\"/>\n",
       "<polygon fill=\"#000000\" stroke=\"#000000\" points=\"80.8425,-30.2481 90.8425,-26.748 80.8425,-23.2481 80.8425,-30.2481\"/>\n",
       "</g>\n",
       "<!-- St1&#45;&gt;St1 -->\n",
       "<g id=\"edge2\" class=\"edge\">\n",
       "<title>St1&#45;&gt;St1</title>\n",
       "<path fill=\"none\" stroke=\"#000000\" d=\"M106.3963,-48.5475C105.5943,-58.6603 108.0449,-67.496 113.748,-67.496 117.4015,-67.496 119.7203,-63.8698 120.7041,-58.6047\"/>\n",
       "<polygon fill=\"#000000\" stroke=\"#000000\" points=\"124.2039,-58.6774 121.0997,-48.5475 117.2093,-58.4022 124.2039,-58.6774\"/>\n",
       "<text text-anchor=\"middle\" x=\"113.748\" y=\"-71.296\" font-family=\"Times,serif\" font-size=\"14.00\" fill=\"#000000\">0 </text>\n",
       "</g>\n",
       "<!-- St0 -->\n",
       "<g id=\"node3\" class=\"node\">\n",
       "<title>St0</title>\n",
       "<ellipse fill=\"none\" stroke=\"#000000\" cx=\"210.2439\" cy=\"-26.748\" rx=\"22.9609\" ry=\"22.9609\"/>\n",
       "<ellipse fill=\"none\" stroke=\"#000000\" cx=\"210.2439\" cy=\"-26.748\" rx=\"26.9983\" ry=\"26.9983\"/>\n",
       "<text text-anchor=\"middle\" x=\"210.2439\" y=\"-23.048\" font-family=\"Times,serif\" font-size=\"14.00\" fill=\"#000000\">St0</text>\n",
       "</g>\n",
       "<!-- St1&#45;&gt;St0 -->\n",
       "<g id=\"edge3\" class=\"edge\">\n",
       "<title>St1&#45;&gt;St0</title>\n",
       "<path fill=\"none\" stroke=\"#000000\" d=\"M136.6162,-26.748C147.5886,-26.748 161.0091,-26.748 173.3727,-26.748\"/>\n",
       "<polygon fill=\"#000000\" stroke=\"#000000\" points=\"173.4326,-30.2481 183.4325,-26.748 173.4325,-23.2481 173.4326,-30.2481\"/>\n",
       "<text text-anchor=\"middle\" x=\"159.996\" y=\"-30.548\" font-family=\"Times,serif\" font-size=\"14.00\" fill=\"#000000\">1 </text>\n",
       "</g>\n",
       "<!-- St0&#45;&gt;St1 -->\n",
       "<g id=\"edge4\" class=\"edge\">\n",
       "<title>St0&#45;&gt;St1</title>\n",
       "<path fill=\"none\" stroke=\"#000000\" d=\"M187.244,-12.882C177.3141,-8.4793 165.477,-5.3137 154.496,-7.748 150.7714,-8.5736 146.9838,-9.7766 143.2929,-11.1827\"/>\n",
       "<polygon fill=\"#000000\" stroke=\"#000000\" points=\"141.65,-8.0797 133.8588,-15.2594 144.4268,-14.5055 141.65,-8.0797\"/>\n",
       "<text text-anchor=\"middle\" x=\"159.996\" y=\"-11.548\" font-family=\"Times,serif\" font-size=\"14.00\" fill=\"#000000\">0 </text>\n",
       "</g>\n",
       "<!-- St0&#45;&gt;St0 -->\n",
       "<g id=\"edge5\" class=\"edge\">\n",
       "<title>St0&#45;&gt;St0</title>\n",
       "<path fill=\"none\" stroke=\"#000000\" d=\"M200.9513,-52.049C200.3105,-62.574 203.408,-71.496 210.2439,-71.496 214.73,-71.496 217.6061,-67.6536 218.8722,-62.0374\"/>\n",
       "<polygon fill=\"#000000\" stroke=\"#000000\" points=\"222.3651,-62.2592 219.5365,-52.049 215.3805,-61.7946 222.3651,-62.2592\"/>\n",
       "<text text-anchor=\"middle\" x=\"210.2439\" y=\"-75.296\" font-family=\"Times,serif\" font-size=\"14.00\" fill=\"#000000\">1 </text>\n",
       "</g>\n",
       "</g>\n",
       "</svg>\n"
      ],
      "text/plain": [
       "<graphviz.dot.Digraph at 0x1122b0048>"
      ]
     },
     "execution_count": 24,
     "metadata": {},
     "output_type": "execute_result"
    }
   ],
   "source": [
    "dotObj_dfa_w_bh(min_dfa(nfa2dfa(Book77)))"
   ]
  },
  {
   "cell_type": "markdown",
   "metadata": {
    "run_control": {
     "frozen": false,
     "read_only": false
    }
   },
   "source": [
    "# Let us run NFA interactively via widgets\n",
    "\n",
    "We have two NFA to play with, namely nfa_ends0101 and NFA_3rdlast_1\n"
   ]
  },
  {
   "cell_type": "code",
   "execution_count": 25,
   "metadata": {
    "run_control": {
     "frozen": false,
     "read_only": false
    }
   },
   "outputs": [],
   "source": [
    "import ipywidgets as wdg\n",
    "def run_nfa_slider(N, s, n):\n",
    "    \"\"\"Run NFA N from N[\"Q0\"] (which is a set..) on substring s[0:n]\n",
    "    \"\"\"\n",
    "    S = N[\"Q0\"] \n",
    "    if (n > len(s)):\n",
    "        n = len(s)\n",
    "    print(\"string = \", s[0:n])\n",
    "    run_nfa(N, S, s[0:n], True)\n",
    "    \n",
    "def run_nfa_int(N1, N2, N3):\n",
    "    \"\"\"Run interactively from the given NFA .. from {q0} \n",
    "       on input string's substring\n",
    "       as picked by slider.\n",
    "    \"\"\"\n",
    "    inp = input(\"Please provide string: \")\n",
    "    wdg.interact(run_nfa_slider, N = {'N1': N1, 'N2': N2, 'N3' : N3}, \n",
    "                 s = inp, n=(0,32))\n",
    "    \n",
    "def test_run_nfa_int(N1, N2, N3):\n",
    "    \"\"\"Test the interactive run of NFA.\n",
    "    \"\"\"\n",
    "    run_nfa_int(N1, N2, N3)\n",
    "\n",
    "#-- enable this later. test_run_nfa_int()"
   ]
  },
  {
   "cell_type": "markdown",
   "metadata": {
    "run_control": {
     "frozen": false,
     "read_only": false
    }
   },
   "source": [
    "## Once you run the command below, provide a string\n",
    "\n",
    "Provide a string of 0's and 1's. Then you can use the pull-down to pick the NFA\n",
    "to test, and the slider to incrementally consume more of the input string\n"
   ]
  },
  {
   "cell_type": "code",
   "execution_count": 26,
   "metadata": {
    "run_control": {
     "frozen": false,
     "read_only": false
    }
   },
   "outputs": [
    {
     "name": "stdout",
     "output_type": "stream",
     "text": [
      "Please provide string: 010101\n"
     ]
    },
    {
     "data": {
      "application/vnd.jupyter.widget-view+json": {
       "model_id": "a07374c1572d45cda98ba4c14acdb1b8",
       "version_major": 2,
       "version_minor": 0
      },
      "text/plain": [
       "interactive(children=(Dropdown(description='N', options={'N1': {'Q': {'S010', 'S0', 'S01', 'F', 'I'}, 'Sigma':…"
      ]
     },
     "metadata": {},
     "output_type": "display_data"
    }
   ],
   "source": [
    "test_run_nfa_int(N1=NFA_ends0101, N2=NFA_3rdlast_1, N3=Book77)"
   ]
  },
  {
   "cell_type": "markdown",
   "metadata": {
    "run_control": {
     "frozen": false,
     "read_only": false
    }
   },
   "source": [
    "# NFA to DFA conversion\n",
    "\n",
    "Let's do the NFA to DFA conversion on two NFA, one being 3rd-last is 1\n",
    "and another being fourth-last is 1. You'll see the state explosion\n"
   ]
  },
  {
   "cell_type": "code",
   "execution_count": null,
   "metadata": {
    "run_control": {
     "frozen": false,
     "read_only": false
    }
   },
   "outputs": [],
   "source": [
    "# Here is the automd (markdown) for an NF whose third-last symbol is a 1\n",
    "\n",
    "NFA_4thlast_1 = md2mc('''\n",
    "NFA\n",
    "\n",
    "I : 0  | 1  -> I  !! Upon a 0 or a 1, continue to stay in state I\n",
    "\n",
    "I : ''      -> S0 !! Nondeterministically transition to state S0\n",
    "\n",
    "S0 : 1      -> S1 !! This is the key \"1\" (third-last being 1) seen\n",
    "\n",
    "S1 : 0 | 1  -> S2 !! One 0/1 takes the NFA to S2\n",
    "\n",
    "S2 : 0 | 1  -> S3 !! One more 0/1 takes the NFA to S3\n",
    "\n",
    "S3 : 0 | 1  -> F  !! Now we are at the final state\n",
    "\n",
    "''')"
   ]
  },
  {
   "cell_type": "code",
   "execution_count": null,
   "metadata": {
    "run_control": {
     "frozen": false,
     "read_only": false
    }
   },
   "outputs": [],
   "source": [
    "dotObj_dfa(nfa2dfa(NFA_3rdlast_1), FuseEdges=True)"
   ]
  },
  {
   "cell_type": "code",
   "execution_count": null,
   "metadata": {
    "run_control": {
     "frozen": false,
     "read_only": false
    }
   },
   "outputs": [],
   "source": [
    "dotObj_dfa(nfa2dfa(NFA_4thlast_1), FuseEdges=True)"
   ]
  },
  {
   "cell_type": "code",
   "execution_count": null,
   "metadata": {
    "run_control": {
     "frozen": false,
     "read_only": false
    }
   },
   "outputs": [],
   "source": []
  },
  {
   "cell_type": "markdown",
   "metadata": {
    "run_control": {
     "frozen": false,
     "read_only": false
    }
   },
   "source": [
    "# Brzozowski's DFA minimization\n",
    "\n",
    "We will practice Brzozowski minimization on \"blimp\", a bloated DFA\n",
    "\n",
    "\n",
    "\n",
    "Picking up from our earlier discussions, to minimize a DFA using Brzozowski's algorithm, here are the steps:\n",
    "\n",
    "* Make sure that the given DFA has no unreachable states\n",
    "* Reverse the DFA\n",
    "* Determinize it\n",
    "* Reverse that DFA\n",
    "* Determinize it\n",
    "\n",
    "Thus we need to write a routine to reverse a DFA. We already have a way to ensure that a DFA does not have unreachable states (in another Jupyter notebook; we won't bother to include it here, and trust the user to always provide such DFA only).\n",
    "\n",
    "We can observe that if a DFA has black-hole states, then those states won't matter in the reversed machine (reversed NFA). Thus, we can work with __partial__ dfa (i.e., DFA that are partially consistent)."
   ]
  },
  {
   "cell_type": "code",
   "execution_count": null,
   "metadata": {
    "run_control": {
     "frozen": false,
     "read_only": false
    }
   },
   "outputs": [],
   "source": [
    "blimp = md2mc('''\n",
    "DFA \n",
    "I1 : a -> F2\n",
    "I1 : b -> F3\n",
    "F2 : a -> S8\n",
    "F2 : b -> S5\n",
    "F3 : a -> S7\n",
    "F3 : b -> S4\n",
    "S4 : a | b -> F6\n",
    "S5 : a | b -> F6\n",
    "F6 : a | b -> F6\n",
    "S7 : a | b -> F6\n",
    "S8 : a -> F6\n",
    "S8 : b -> F9\n",
    "F9 : a -> F9\n",
    "F9 : b -> F6\n",
    "''')"
   ]
  },
  {
   "cell_type": "code",
   "execution_count": null,
   "metadata": {
    "run_control": {
     "frozen": false,
     "read_only": false
    }
   },
   "outputs": [],
   "source": [
    "dotObj_dfa(blimp, FuseEdges=True)"
   ]
  },
  {
   "cell_type": "code",
   "execution_count": null,
   "metadata": {
    "run_control": {
     "frozen": false,
     "read_only": false
    }
   },
   "outputs": [],
   "source": [
    "rev_dfa"
   ]
  },
  {
   "cell_type": "code",
   "execution_count": null,
   "metadata": {
    "run_control": {
     "frozen": false,
     "read_only": false
    }
   },
   "outputs": [],
   "source": [
    "nfa2dfa"
   ]
  },
  {
   "cell_type": "code",
   "execution_count": null,
   "metadata": {
    "run_control": {
     "frozen": false,
     "read_only": false
    }
   },
   "outputs": [],
   "source": [
    "# Brzozowski minimization is R;D;R;D\n",
    "\n",
    "dotObj_dfa(nfa2dfa(rev_dfa(nfa2dfa(rev_dfa(blimp)))), FuseEdges = True)"
   ]
  },
  {
   "cell_type": "code",
   "execution_count": null,
   "metadata": {
    "run_control": {
     "frozen": false,
     "read_only": false
    }
   },
   "outputs": [],
   "source": [
    "# This is also directly available as a single command\n",
    "\n",
    "min_dfa_brz"
   ]
  },
  {
   "cell_type": "code",
   "execution_count": null,
   "metadata": {
    "run_control": {
     "frozen": false,
     "read_only": false
    }
   },
   "outputs": [],
   "source": [
    "dotObj_dfa(min_dfa_brz(blimp), FuseEdges = True)"
   ]
  },
  {
   "cell_type": "code",
   "execution_count": null,
   "metadata": {
    "run_control": {
     "frozen": false,
     "read_only": false
    }
   },
   "outputs": [],
   "source": [
    "# Same result as standard minimization\n",
    "\n",
    "dotObj_dfa(min_dfa(blimp), FuseEdges = True)"
   ]
  },
  {
   "cell_type": "code",
   "execution_count": null,
   "metadata": {
    "run_control": {
     "frozen": false,
     "read_only": false
    }
   },
   "outputs": [],
   "source": []
  }
 ],
 "metadata": {
  "kernelspec": {
   "display_name": "Python 3",
   "language": "python",
   "name": "python3"
  },
  "language_info": {
   "codemirror_mode": {
    "name": "ipython",
    "version": 3
   },
   "file_extension": ".py",
   "mimetype": "text/x-python",
   "name": "python",
   "nbconvert_exporter": "python",
   "pygments_lexer": "ipython3",
   "version": "3.7.3"
  },
  "toc": {
   "colors": {
    "hover_highlight": "#DAA520",
    "running_highlight": "#FF0000",
    "selected_highlight": "#FFD700"
   },
   "moveMenuLeft": true,
   "nav_menu": {
    "height": "121px",
    "width": "252px"
   },
   "navigate_menu": true,
   "number_sections": true,
   "sideBar": true,
   "threshold": 4,
   "toc_cell": false,
   "toc_section_display": "block",
   "toc_window_display": false,
   "widenNotebook": false
  },
  "widgets": {
   "state": {
    "430c92ee02b34ec1912bf03c8de1e6dc": {
     "views": [
      {
       "cell_index": 20
      }
     ]
    }
   },
   "version": "1.2.0"
  }
 },
 "nbformat": 4,
 "nbformat_minor": 2
}
