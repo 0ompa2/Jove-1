{
 "cells": [
  {
   "cell_type": "markdown",
   "metadata": {
    "editable": true,
    "run_control": {
     "frozen": false,
     "read_only": false
    }
   },
   "source": [
    "<span style=\"color:blue\"> **Now we present material on NFA ** </span>"
   ]
  },
  {
   "cell_type": "markdown",
   "metadata": {
    "run_control": {
     "frozen": false,
     "read_only": false
    }
   },
   "source": [
    "# Top-level functions in this module\n",
    "\n",
    "```\n",
    "This module contains the following functions that may be used in other modules to exercise concepts, compose functions, etc.\n",
    "Here are the argument types\n",
    "\n",
    "D     : DFA\n",
    "N     : NFA\n",
    "Q,S   : set of states\n",
    "q     : state\n",
    "Q0    : set of initial states\n",
    "c     : character (symbol)\n",
    "s     : string\n",
    "Sigma : Alphabet (set)\n",
    " \n",
    "Here are the functions\n",
    "\n",
    "def is_consistent_nfa(N):\n",
    "def mk_nfa(Q, Sigma, Delta, Q0, F):\n",
    "def totalize_nfa(N):\n",
    "def prnfa(N): \n",
    "\n",
    "def step_nfa(N, q, c):\n",
    "def run_nfa(N, S, s, chatty=False):\n",
    "def ec_step_nfa(N, S, c, chatty=False):\n",
    "def accepts_nfa(N, s, chatty=False):\n",
    "\n",
    "def nfa2dfa(N):\n",
    "\n",
    "def rev_dfa(D): \n",
    "\n",
    "def min_dfa_brz(D):\n",
    "```"
   ]
  },
  {
   "cell_type": "code",
   "execution_count": 1,
   "metadata": {
    "collapsed": false,
    "editable": true,
    "run_control": {
     "frozen": false,
     "read_only": false
    }
   },
   "outputs": [
    {
     "name": "stdout",
     "output_type": "stream",
     "text": [
      "The DFA are NOT language equivalent!\n",
      "Path leading to counterexample is: \n",
      "[(('IF', 'IF'), ('IF', 'IF')), (('A', 'A'), ('A', 'A')), (('B', 'B'), ('B', 'B'))]\n"
     ]
    }
   ],
   "source": [
    "# Make imports better (narrower) eventually\n",
    "from Imports.ShrinkStates import shrink_dfastates\n",
    "from Imports.ShrinkStates import shrink_nfastates\n",
    "from Imports.ShrinkStates import mkSSnam\n",
    "\n",
    "from Imports.Module3_DFA  import mk_dfa\n",
    "\n",
    "from Imports.DotBashers          import *\n",
    "from Imports.TransitionSelectors import *\n",
    "from Imports.SystemImports       import *"
   ]
  },
  {
   "cell_type": "markdown",
   "metadata": {
    "editable": true,
    "run_control": {
     "frozen": false,
     "read_only": false
    }
   },
   "source": [
    "# Chapter-4: Nondeterministic Finite Automata\n",
    "\n",
    "In this chapter, we will cover virtually all aspects of NFA, following the style of presentation used in Chapter-3 on DFA. We will sometimes be (re-) writing print (and dot-object generation) routines that look quite similar to those defined for DFA. This is because the routines are short, and we want a self-contained notebook. Besides there are subtle differences between an NFA and a DFA and it's best to make these differences manifest in dedicated routines -- than overload the former routines with extra arguments. "
   ]
  },
  {
   "cell_type": "markdown",
   "metadata": {
    "editable": false,
    "run_control": {
     "frozen": false,
     "read_only": false
    }
   },
   "source": [
    "<span style=\"color:blue\"> **We begin defining NFA by providing its structure. ** </span>\n",
    "\n",
    "We will first set up a series of definitions ending at the mk_nfa function that helps build NFA. \n",
    "\n",
    "Unlike with a DFA, there is no mkp_nfa function, as all NFAs are partial! (We can define a mktot_nfa function to print all moves, including unspecified moves leading to the se({}) state.)\n",
    "\n",
    "We will define step_nfa, run_nfa and accepts_nfa which are key functions that clearly spell out how NFA differ from DFA.\n",
    "\n",
    "We will also be defining functions for displaying NFA with the help of the _dot_ tool. The design will be similar to that with DFA.\n",
    "\n",
    "<span style=\"color:blue\"> **------** </span>\n",
    "\n",
    "<span style=\"color:red\"> __We will follow Kozen and endow an NFA with multiple start states __ </span>\n",
    "\n",
    "\n",
    "\n",
    "This will allow the NFA to be more naturally handled. For instance, the reverse of a DFA is an NFA. When we reverse a DFA, all its final states become initial states of the NFA (that models the reversed language). There are 2 ways to handle this:\n",
    "\n",
    "1. Introduce a fake new initial state and jump from it via $\\varepsilon$ onto (what were the final state of the DFA).\n",
    "\n",
    "2. Don't introduce the fake new initial state, but rather allow the NFA to start from all of F being really its start state.\n",
    "\n",
    "    * Of course, in almost all situations, this is a minor difference\n",
    "    \n",
    "    * But to enjoy the topic as completely as one can, it is best to be \"clean\" and follow clean definitions.\n",
    "    \n",
    "        - I've seen Ed Clarke also use multiple initial states\n",
    "        \n",
    "        - Hence our code will be for this relaxed setup\n",
    "        \n",
    "        - Of course if you __REALLY__ wanted to have only one start state, then make it a singleton set of states and work that through your NFA.\n",
    "\n",
    "\n",
    "<br>\n",
    "\n",
    "__So now, following Brzozowski, we have__\n",
    "\n",
    "<br>\n",
    "\n",
    "An NFA is a quintuple $(Q,\\Sigma,\\delta,Q_0,F)$, where:\n",
    "\n",
    "* $Q$ is a _finite nonempty_ set of states.\n",
    "\n",
    "* $\\Sigma$ is a _finite nonempty_ alphabet containing _symbols_.\n",
    "\n",
    "* $\\delta$ is a (partial)\n",
    "\ttransition function, containing a set of _transitions_. The transitions take\n",
    "    a pair from $Q\\times \\Sigma$ and return a __subset__ of states in $Q$. All this is succinctly\n",
    "    captured by writing\n",
    "    $\\delta: Q\\times \\Sigma \\rightarrow 2^Q$. \n",
    "    Here we use $2^Q$ to denote the powerset of $Q$.\n",
    "    \n",
    "  \n",
    "* $Q_0\\subseteq Q$, is __a set of initial states__.  Notice that we change from q0 (or $q_0$) which is what you find books such as Sipser and Linz using.\n",
    "\n",
    "\n",
    "* $F\\subseteq Q$ is a _finite_ (and _possibly empty_) set of\n",
    "\tfinal (or _accepting_) states. These are shown as double-circled nodes in the graph of a DFA. \n",
    " \n",
    "> There is no other change. I.e. $\\delta$ remains the same as before.\n",
    "> It is that when an NFA starts, it can find itself in a set of start states.\n",
    "> Most NFAs start from a __singleton__ Q0, which is then, effectively, an NFA\n",
    " that matches most books say.\n",
    "\n",
    "Some terminology:\n",
    "\n",
    "> We call $Q$,$\\Sigma$, $\\delta$, $Q_0$, and $F$ the **_traits_** of the NFA.\n",
    "\n",
    "> We will call an NFA **_structurally consistent_** or simply **\"consistent\"** if its traits pass the aforesaid checks.\n",
    "\n",
    "\n",
    "Here is how the checks will be broken down:\n",
    "\n",
    "* The supplied $\\delta$ function will be checked to see if it has allowed domain and range points. \n",
    " - The domain points must be a subset of $Q\\times \\Sigma$\n",
    " - The range points must be a subset of $2^Q$\n",
    "  We do no insist that the supplied $\\delta$ be total.\n",
    "    \n",
    "* $Q_0\\subseteq Q$, is _the_ initial state.\n",
    "\n",
    "* $F\\subseteq Q$ is a _finite_ (and _possibly empty_) set of\n",
    "\tfinal (or _accepting_) states.  \n",
    "    \n",
    "We will often use the state set({}) to be the equivalent of a black-hole state for an NFA."
   ]
  },
  {
   "cell_type": "markdown",
   "metadata": {
    "editable": false,
    "run_control": {
     "frozen": false,
     "read_only": false
    }
   },
   "source": [
    "<span style=\"color:blue\"> **Here is how we will represent an NFA in Python (taking a slight variant of Figure 6.1(b)'s example from the book). The variant was created by introducing a '1' edge from I to S0 also (similar to 6.1(a) -- thus showing an instance of non-determinism due to the '1' transition). Since we get features from 6.1(a) and 6.1(b), we are calling this NFA_fig61ab.\n",
    "\n",
    "You can clearly see how the traits of the NFA are encoded. We prefer a Python dictionary, as it supports a number of convenient operations, and also one can add additional fields easily. ** </span>"
   ]
  },
  {
   "cell_type": "code",
   "execution_count": 2,
   "metadata": {
    "code_folding": [],
    "collapsed": false,
    "editable": true,
    "run_control": {
     "frozen": false,
     "read_only": false
    }
   },
   "outputs": [
    {
     "data": {
      "text/plain": [
       "{'Delta': {('I', ''): {'S0'},\n",
       "  ('I', '0'): {'I'},\n",
       "  ('I', '1'): {'I', 'S0'},\n",
       "  ('S0', '1'): {'S1'},\n",
       "  ('S1', '0'): {'S2'},\n",
       "  ('S1', '1'): {'S2'},\n",
       "  ('S2', '0'): {'F'},\n",
       "  ('S2', '1'): {'F'}},\n",
       " 'F': {'F'},\n",
       " 'Q': {'F', 'I', 'S0', 'S1', 'S2'},\n",
       " 'Q0': {'I'},\n",
       " 'Sigma': {'0', '1'}}"
      ]
     },
     "execution_count": 2,
     "metadata": {},
     "output_type": "execute_result"
    }
   ],
   "source": [
    "NFA_fig61ab = { 'Q': {'I', 'S0', 'S1', 'S2', 'F'},\n",
    "                'Sigma': {'0', '1'},\n",
    "                'Delta': { # \n",
    "                             ('I', '0')  : {'I'},\n",
    "                             ('I', '1')  : {'I', 'S0'},\n",
    "                             ('I', '')   : {'S0'},\n",
    "                             #\n",
    "                             ('S0', '1') : {'S1'},\n",
    "                             #\n",
    "                             ('S1', '0') : {'S2'},\n",
    "                             ('S1', '1') : {'S2'},\n",
    "                             #\n",
    "                             ('S2', '0') : {'F'},\n",
    "                             ('S2', '1') : {'F'},\n",
    "               },\n",
    "                  'Q0': {'I'}, \n",
    "                  'F' : {'F'}   \n",
    "                }\n",
    "NFA_fig61ab"
   ]
  },
  {
   "cell_type": "markdown",
   "metadata": {
    "editable": false,
    "run_control": {
     "frozen": false,
     "read_only": false
    }
   },
   "source": [
    "<span style=\"color:blue\"> \n",
    "**\n",
    "The extractors for the transitions contained in Delta are identical to those defined for DFA (the function definitions are repeated here to make this notebook self-contained). Notice that fn_dom and fn_range will both return a list of set of states (for a DFA it would return a list of states). The reason for returning a list is explained in the Jupyter notebook for DFA, but basically Python cannot represent a set of sets, but is OK representing a list of sets.\n",
    "We will make fn_dom also to return a list (for uniformity).\n",
    "** \n",
    "</span>"
   ]
  },
  {
   "cell_type": "markdown",
   "metadata": {
    "editable": false,
    "run_control": {
     "frozen": false,
     "read_only": false
    }
   },
   "source": [
    "We now introduce consistency-checking routines. There is only one consistency checking for NFA (they are partial always)."
   ]
  },
  {
   "cell_type": "markdown",
   "metadata": {
    "ExecuteTime": {
     "end_time": "2017-05-04T16:48:47.563840Z",
     "start_time": "2017-05-04T16:48:47.552840Z"
    },
    "code_folding": [],
    "collapsed": false,
    "editable": true,
    "run_control": {
     "frozen": false,
     "read_only": false
    }
   },
   "source": [
    " Consistency checker(s) for NFA have moved to DotBashers."
   ]
  },
  {
   "cell_type": "code",
   "execution_count": 3,
   "metadata": {
    "code_folding": [],
    "collapsed": false,
    "editable": false,
    "run_control": {
     "frozen": false,
     "read_only": false
    }
   },
   "outputs": [],
   "source": [
    "def mk_nfa(Q, Sigma, Delta, Q0, F):\n",
    "    \"\"\"Check for structural consistency of the given NFA traits.\n",
    "       If the check passes, make and return an NFA.\n",
    "    \"\"\"\n",
    "    newNFA = {\"Q\":Q, \"Sigma\":Sigma, \"Delta\":Delta, \"Q0\":Q0, \"F\":F}\n",
    "    assert(\n",
    "        is_consistent_nfa(newNFA)\n",
    "    ), \"NFA given to mk_nfa is not consistent. Plz check its components.\"\n",
    "    return(newNFA)\n"
   ]
  },
  {
   "cell_type": "code",
   "execution_count": 4,
   "metadata": {
    "code_folding": [],
    "collapsed": true,
    "editable": true,
    "run_control": {
     "frozen": false,
     "read_only": false
    }
   },
   "outputs": [],
   "source": [
    "\n",
    "def totalize_nfa(N):\n",
    "    \"\"\"In : NFA N\n",
    "       Out: Totalized NFA\n",
    "       Given a partially specified NFA, make it total by \n",
    "       transitioning to state set({}) wherever the incoming \n",
    "       Delta has gaps. This is done for an NFA only for things \n",
    "       like printing.\n",
    "    \"\"\"\n",
    "    assert(\n",
    "        is_consistent_nfa(N)\n",
    "    ), \"NFA given to totalize_nfa is not consistent.\"\n",
    "    Sigma_w_Eps = (N[\"Sigma\"] | {\"\"}) # Extended Alphabet\n",
    "    add_delta = { (q,c) : set({}) \n",
    "                   for q in N[\"Q\"] \n",
    "                   for c in Sigma_w_Eps \n",
    "                   if (q,c) not in N[\"Delta\"] }\n",
    "    #\n",
    "    add_delta.update(N[\"Delta\"])\n",
    "    #\n",
    "    return {\"Q\"    : N[\"Q\"],\n",
    "            \"Sigma\": N[\"Sigma\"],\n",
    "            \"Delta\": add_delta,\n",
    "            \"Q0\"   : N[\"Q0\"],\n",
    "            \"F\"    : N[\"F\"]}\n",
    "\n",
    "def prnfa(N):\n",
    "        \"\"\"Prints the NFA N neatly.\n",
    "        \"\"\"\n",
    "        # Make the NFA total before printing\n",
    "        Nt = totalize_nfa(N)\n",
    "        print(\"\")\n",
    "        print(\"Q:\",     Nt[\"Q\"])\n",
    "        print(\"Sigma:\", Nt[\"Sigma\"])\n",
    "        print(\"Q0:\",    Nt[\"Q0\"])\n",
    "        print(\"F:\",     Nt[\"F\"])\n",
    "        print(\"Delta:\")\n",
    "        print(\"\\t\".join(map(str, Nt[\"Q\"])))\n",
    "        print(\"---------------------------------------------\")\n",
    "        for c in (Nt[\"Sigma\"] | {\"\"}):\n",
    "            nxt_qs = [Nt[\"Delta\"][(q, c)] for q in Nt[\"Q\"]]\n",
    "            print(\"\\t\".join(map(str, nxt_qs)) + \"\\t\\t\" + c)\n",
    "            print(\"\")\n",
    "            \n",
    " "
   ]
  },
  {
   "cell_type": "markdown",
   "metadata": {
    "editable": false,
    "run_control": {
     "frozen": false,
     "read_only": false
    }
   },
   "source": [
    "# Generating 'dot' graphs from NFA"
   ]
  },
  {
   "cell_type": "markdown",
   "metadata": {
    "editable": false,
    "run_control": {
     "frozen": false,
     "read_only": false
    }
   },
   "source": [
    "<span style=\"color:blue\"> **We can now write routines to print NFA using dot. The main routines are listed below.** </span>\n",
    "\n",
    "* dot_nfa    : Produces a dot string for an NFA\n",
    "* dotObj_nfa : Produces a dot object that can be viewed on the console "
   ]
  },
  {
   "cell_type": "code",
   "execution_count": 5,
   "metadata": {
    "code_folding": [],
    "collapsed": false,
    "editable": false,
    "run_control": {
     "frozen": false,
     "read_only": false
    }
   },
   "outputs": [],
   "source": [
    "# Tests of dot_nfa\n",
    "NFA_fig61ab\n",
    "\n",
    "def dot_nfa_tests():\n",
    "    dot_string = dot_nfa(NFA_fig61ab)\n",
    "    print(dot_string)\n",
    "    \n",
    "    dot_object1 = Source(dot_string)\n",
    "    dot_object1 # Display it!"
   ]
  },
  {
   "cell_type": "code",
   "execution_count": 6,
   "metadata": {
    "code_folding": [],
    "collapsed": false,
    "editable": false,
    "run_control": {
     "frozen": false,
     "read_only": false
    }
   },
   "outputs": [
    {
     "name": "stdout",
     "output_type": "stream",
     "text": [
      "\n",
      "Q: {'I', 'S0', 'F', 'S1', 'S2'}\n",
      "Sigma: {'1', '0'}\n",
      "Q0: {'I'}\n",
      "F: {'F'}\n",
      "Delta:\n",
      "I\tS0\tF\tS1\tS2\n",
      "---------------------------------------------\n",
      "{'I', 'S0'}\t{'S1'}\tset()\t{'S2'}\t{'F'}\t\t1\n",
      "\n",
      "{'I'}\tset()\tset()\t{'S2'}\t{'F'}\t\t0\n",
      "\n",
      "{'S0'}\tset()\tset()\tset()\tset()\t\t\n",
      "\n"
     ]
    },
    {
     "data": {
      "image/svg+xml": [
       "<?xml version=\"1.0\" encoding=\"UTF-8\" standalone=\"no\"?>\n",
       "<!DOCTYPE svg PUBLIC \"-//W3C//DTD SVG 1.1//EN\"\n",
       " \"http://www.w3.org/Graphics/SVG/1.1/DTD/svg11.dtd\">\n",
       "<!-- Generated by graphviz version 2.38.0 (20140413.2041)\n",
       " -->\n",
       "<!-- Title: %3 Pages: 1 -->\n",
       "<svg width=\"474pt\" height=\"112pt\"\n",
       " viewBox=\"0.00 0.00 473.57 112.00\" xmlns=\"http://www.w3.org/2000/svg\" xmlns:xlink=\"http://www.w3.org/1999/xlink\">\n",
       "<g id=\"graph0\" class=\"graph\" transform=\"scale(1 1) rotate(0) translate(4 108)\">\n",
       "<title>%3</title>\n",
       "<polygon fill=\"white\" stroke=\"none\" points=\"-4,4 -4,-108 469.574,-108 469.574,4 -4,4\"/>\n",
       "<!-- EMPTY -->\n",
       "<g id=\"node1\" class=\"node\"><title>EMPTY</title>\n",
       "</g>\n",
       "<!-- I -->\n",
       "<g id=\"node2\" class=\"node\"><title>I</title>\n",
       "<ellipse fill=\"none\" stroke=\"black\" cx=\"109\" cy=\"-22\" rx=\"18\" ry=\"18\"/>\n",
       "<text text-anchor=\"middle\" x=\"109\" y=\"-17.8\" font-family=\"Times,serif\" font-size=\"14.00\">I</text>\n",
       "</g>\n",
       "<!-- EMPTY&#45;&gt;I -->\n",
       "<g id=\"edge1\" class=\"edge\"><title>EMPTY&#45;&gt;I</title>\n",
       "<path fill=\"none\" stroke=\"black\" d=\"M54.195,-22C62.6538,-22 72.0513,-22 80.5951,-22\"/>\n",
       "<polygon fill=\"black\" stroke=\"black\" points=\"80.8257,-25.5001 90.8257,-22 80.8257,-18.5001 80.8257,-25.5001\"/>\n",
       "</g>\n",
       "<!-- I&#45;&gt;I -->\n",
       "<g id=\"edge2\" class=\"edge\"><title>I&#45;&gt;I</title>\n",
       "<path fill=\"none\" stroke=\"black\" d=\"M105.764,-39.7817C105.214,-49.3149 106.293,-58 109,-58 110.65,-58 111.694,-54.7749 112.135,-50.0981\"/>\n",
       "<polygon fill=\"black\" stroke=\"black\" points=\"115.638,-49.8156 112.236,-39.7817 108.638,-49.7469 115.638,-49.8156\"/>\n",
       "<text text-anchor=\"middle\" x=\"109\" y=\"-60.8\" font-family=\"Times,serif\" font-size=\"14.00\">0</text>\n",
       "</g>\n",
       "<!-- I&#45;&gt;I -->\n",
       "<g id=\"edge3\" class=\"edge\"><title>I&#45;&gt;I</title>\n",
       "<path fill=\"none\" stroke=\"black\" d=\"M103.684,-39.4203C100.654,-56.791 102.426,-76 109,-76 114.29,-76 116.471,-63.5617 115.542,-49.652\"/>\n",
       "<polygon fill=\"black\" stroke=\"black\" points=\"118.981,-48.9328 114.316,-39.4203 112.031,-49.7657 118.981,-48.9328\"/>\n",
       "<text text-anchor=\"middle\" x=\"109\" y=\"-78.8\" font-family=\"Times,serif\" font-size=\"14.00\">1</text>\n",
       "</g>\n",
       "<!-- S0 -->\n",
       "<g id=\"node4\" class=\"node\"><title>S0</title>\n",
       "<ellipse fill=\"none\" stroke=\"black\" cx=\"195.339\" cy=\"-22\" rx=\"19.3939\" ry=\"19.3939\"/>\n",
       "<text text-anchor=\"middle\" x=\"195.339\" y=\"-17.8\" font-family=\"Times,serif\" font-size=\"14.00\">S0</text>\n",
       "</g>\n",
       "<!-- I&#45;&gt;S0 -->\n",
       "<g id=\"edge4\" class=\"edge\"><title>I&#45;&gt;S0</title>\n",
       "<path fill=\"none\" stroke=\"black\" d=\"M127.067,-22C138.123,-22 152.798,-22 165.62,-22\"/>\n",
       "<polygon fill=\"black\" stroke=\"black\" points=\"165.834,-25.5001 175.834,-22 165.834,-18.5001 165.834,-25.5001\"/>\n",
       "<text text-anchor=\"middle\" x=\"151.446\" y=\"-24.8\" font-family=\"Times,serif\" font-size=\"14.00\">1</text>\n",
       "</g>\n",
       "<!-- I&#45;&gt;S0 -->\n",
       "<g id=\"edge5\" class=\"edge\"><title>I&#45;&gt;S0</title>\n",
       "<path fill=\"none\" stroke=\"black\" d=\"M124.717,-12.4577C130.75,-9.08304 137.96,-5.70409 145,-4 153.101,-2.03906 161.707,-3.77325 169.425,-6.81383\"/>\n",
       "<polygon fill=\"black\" stroke=\"black\" points=\"168.086,-10.0529 178.621,-11.1841 171.091,-3.73057 168.086,-10.0529\"/>\n",
       "<text text-anchor=\"middle\" x=\"151.446\" y=\"-6.8\" font-family=\"Times,serif\" font-size=\"14.00\">@</text>\n",
       "</g>\n",
       "<!-- S1 -->\n",
       "<g id=\"node3\" class=\"node\"><title>S1</title>\n",
       "<ellipse fill=\"none\" stroke=\"black\" cx=\"277.233\" cy=\"-22\" rx=\"19.3939\" ry=\"19.3939\"/>\n",
       "<text text-anchor=\"middle\" x=\"277.233\" y=\"-17.8\" font-family=\"Times,serif\" font-size=\"14.00\">S1</text>\n",
       "</g>\n",
       "<!-- S2 -->\n",
       "<g id=\"node5\" class=\"node\"><title>S2</title>\n",
       "<ellipse fill=\"none\" stroke=\"black\" cx=\"359.127\" cy=\"-22\" rx=\"19.3939\" ry=\"19.3939\"/>\n",
       "<text text-anchor=\"middle\" x=\"359.127\" y=\"-17.8\" font-family=\"Times,serif\" font-size=\"14.00\">S2</text>\n",
       "</g>\n",
       "<!-- S1&#45;&gt;S2 -->\n",
       "<g id=\"edge7\" class=\"edge\"><title>S1&#45;&gt;S2</title>\n",
       "<path fill=\"none\" stroke=\"black\" d=\"M296.763,-22C306.374,-22 318.334,-22 329.135,-22\"/>\n",
       "<polygon fill=\"black\" stroke=\"black\" points=\"329.421,-25.5001 339.421,-22 329.421,-18.5001 329.421,-25.5001\"/>\n",
       "<text text-anchor=\"middle\" x=\"318.18\" y=\"-24.8\" font-family=\"Times,serif\" font-size=\"14.00\">0</text>\n",
       "</g>\n",
       "<!-- S1&#45;&gt;S2 -->\n",
       "<g id=\"edge8\" class=\"edge\"><title>S1&#45;&gt;S2</title>\n",
       "<path fill=\"none\" stroke=\"black\" d=\"M293.111,-10.7423C301.32,-5.8494 311.821,-1.69819 321.68,-4 325.404,-4.86945 329.184,-6.1773 332.831,-7.69901\"/>\n",
       "<polygon fill=\"black\" stroke=\"black\" points=\"331.503,-10.9431 342.037,-12.0723 334.506,-4.62018 331.503,-10.9431\"/>\n",
       "<text text-anchor=\"middle\" x=\"318.18\" y=\"-6.8\" font-family=\"Times,serif\" font-size=\"14.00\">1</text>\n",
       "</g>\n",
       "<!-- S0&#45;&gt;S1 -->\n",
       "<g id=\"edge6\" class=\"edge\"><title>S0&#45;&gt;S1</title>\n",
       "<path fill=\"none\" stroke=\"black\" d=\"M214.869,-22C224.481,-22 236.44,-22 247.241,-22\"/>\n",
       "<polygon fill=\"black\" stroke=\"black\" points=\"247.527,-25.5001 257.527,-22 247.527,-18.5001 247.527,-25.5001\"/>\n",
       "<text text-anchor=\"middle\" x=\"236.286\" y=\"-24.8\" font-family=\"Times,serif\" font-size=\"14.00\">1</text>\n",
       "</g>\n",
       "<!-- F -->\n",
       "<g id=\"node6\" class=\"node\"><title>F</title>\n",
       "<ellipse fill=\"none\" stroke=\"black\" cx=\"443.574\" cy=\"-22\" rx=\"18\" ry=\"18\"/>\n",
       "<ellipse fill=\"none\" stroke=\"black\" cx=\"443.574\" cy=\"-22\" rx=\"22\" ry=\"22\"/>\n",
       "<text text-anchor=\"middle\" x=\"443.574\" y=\"-17.8\" font-family=\"Times,serif\" font-size=\"14.00\">F</text>\n",
       "</g>\n",
       "<!-- S2&#45;&gt;F -->\n",
       "<g id=\"edge9\" class=\"edge\"><title>S2&#45;&gt;F</title>\n",
       "<path fill=\"none\" stroke=\"black\" d=\"M378.835,-22C388.412,-22 400.328,-22 411.257,-22\"/>\n",
       "<polygon fill=\"black\" stroke=\"black\" points=\"411.323,-25.5001 421.323,-22 411.323,-18.5001 411.323,-25.5001\"/>\n",
       "<text text-anchor=\"middle\" x=\"400.074\" y=\"-24.8\" font-family=\"Times,serif\" font-size=\"14.00\">0</text>\n",
       "</g>\n",
       "<!-- S2&#45;&gt;F -->\n",
       "<g id=\"edge10\" class=\"edge\"><title>S2&#45;&gt;F</title>\n",
       "<path fill=\"none\" stroke=\"black\" d=\"M376.216,-12.0723C382.354,-8.82659 389.564,-5.63661 396.574,-4 402.931,-2.51573 409.575,-3.50584 415.773,-5.63\"/>\n",
       "<polygon fill=\"black\" stroke=\"black\" points=\"414.478,-8.88387 425.041,-9.7088 417.298,-2.47695 414.478,-8.88387\"/>\n",
       "<text text-anchor=\"middle\" x=\"400.074\" y=\"-6.8\" font-family=\"Times,serif\" font-size=\"14.00\">1</text>\n",
       "</g>\n",
       "</g>\n",
       "</svg>\n"
      ],
      "text/plain": [
       "<graphviz.dot.Digraph at 0x111163e10>"
      ]
     },
     "execution_count": 6,
     "metadata": {},
     "output_type": "execute_result"
    }
   ],
   "source": [
    "# Tests of dotObj_nfa\n",
    "fn_range(NFA_fig61ab[\"Delta\"])\n",
    "prnfa(NFA_fig61ab)\n",
    "dotObj_nfa(NFA_fig61ab,visible_eps=True,nfaName=\"NFA_fig61ab\")"
   ]
  },
  {
   "cell_type": "markdown",
   "metadata": {
    "editable": false,
    "run_control": {
     "frozen": false,
     "read_only": false
    }
   },
   "source": [
    "======"
   ]
  },
  {
   "cell_type": "markdown",
   "metadata": {
    "editable": false,
    "run_control": {
     "frozen": false,
     "read_only": false
    }
   },
   "source": [
    "# Stepping and Running NFA\n",
    "\n",
    "Now that we've defined NFA and allied actions such as consistency checking and printing, let's write functions to step and run them.\n",
    "\n",
    "* How the state transition function $\\delta$ \"works\"\n",
    "  - captured in step_nfa"
   ]
  },
  {
   "cell_type": "code",
   "execution_count": 7,
   "metadata": {
    "code_folding": [],
    "collapsed": true,
    "editable": false,
    "run_control": {
     "frozen": false,
     "read_only": false
    }
   },
   "outputs": [],
   "source": [
    "def step_nfa(N, q, c):\n",
    "    \"\"\"In : N (consistent NFA)\n",
    "            q (state in N)\n",
    "            c (symbol in N's sigma or \"\")\n",
    "       Out: The set of states reached via N's Delta.\n",
    "       EClosure is NOT performed.\n",
    "       If the move is not defined, return {}.\n",
    "    \"\"\"    \n",
    "    assert(\n",
    "        c in (N[\"Sigma\"] | {\"\"})\n",
    "    ), \"c given to step_nfa not in Sigma.\"\n",
    "    assert(\n",
    "        q in  N[\"Q\"]\n",
    "    ), \"q given to step_nfa not in Q.\"\n",
    "    \n",
    "    \n",
    "    # We have to run it wrt the total version of the NFA. \n",
    "    # Since that is expensive to do each time, special-case this check.                                                               \n",
    "    if (q,c) in N[\"Delta\"].keys():\n",
    "        return  N[\"Delta\"][(q,c)]\n",
    "    else:\n",
    "        # If a move is undefined, it is a transition to the empty set\n",
    "        return  set({})  "
   ]
  },
  {
   "cell_type": "code",
   "execution_count": 8,
   "metadata": {
    "collapsed": false,
    "editable": false,
    "run_control": {
     "frozen": false,
     "read_only": false
    }
   },
   "outputs": [
    {
     "data": {
      "text/plain": [
       "{'S0'}"
      ]
     },
     "execution_count": 8,
     "metadata": {},
     "output_type": "execute_result"
    }
   ],
   "source": [
    "step_nfa(NFA_fig61ab, \"I\", \"\")"
   ]
  },
  {
   "cell_type": "code",
   "execution_count": 9,
   "metadata": {
    "collapsed": false,
    "editable": false,
    "run_control": {
     "frozen": false,
     "read_only": false
    }
   },
   "outputs": [
    {
     "data": {
      "text/plain": [
       "{'I'}"
      ]
     },
     "execution_count": 9,
     "metadata": {},
     "output_type": "execute_result"
    }
   ],
   "source": [
    "step_nfa(NFA_fig61ab, \"I\", \"0\")"
   ]
  },
  {
   "cell_type": "code",
   "execution_count": 10,
   "metadata": {
    "collapsed": false,
    "editable": false,
    "run_control": {
     "frozen": false,
     "read_only": false
    }
   },
   "outputs": [
    {
     "data": {
      "text/plain": [
       "{'I', 'S0'}"
      ]
     },
     "execution_count": 10,
     "metadata": {},
     "output_type": "execute_result"
    }
   ],
   "source": [
    "step_nfa(NFA_fig61ab, \"I\", \"1\")"
   ]
  },
  {
   "cell_type": "markdown",
   "metadata": {
    "editable": false,
    "run_control": {
     "frozen": false,
     "read_only": false
    }
   },
   "source": [
    "## Now we define the $\\hat{\\delta}$ function that runs an NFA on a string\n",
    "\n",
    "* This is captured in run_nfa\n",
    "  \n",
    "     * This is more elaborate than with a DFA because we need to account for Epsilon moves\n",
    "     * So we will define routines to compute the E-closure of a state\n",
    "     \n",
    "       - The set of states reachable by traversing Epsilon edges\n",
    "  \n",
    "* Our algorithm is this:\n",
    "\n",
    "     * Eclose the given set of states S\n",
    "         - If given string s is \"\", we are done (retn Eclosed set of states)\n",
    "         - Else take step via s[0]; Eclose it to get S'; run s[1:] on S'"
   ]
  },
  {
   "cell_type": "code",
   "execution_count": 11,
   "metadata": {
    "collapsed": true,
    "editable": false,
    "run_control": {
     "frozen": false,
     "read_only": false
    }
   },
   "outputs": [],
   "source": [
    "def run_nfa(N, S, s, chatty=False):\n",
    "    \"\"\"In : N (consistent NFA)\n",
    "            S (SET of states S belonging to N's states)\n",
    "            s (string over N's alphabet)\n",
    "       Out: SET of states reached after processing s.\n",
    "       Run the NFA starting with a SET of states S on string,\n",
    "       with EClosure wherever necessary. Return set of states reached.\n",
    "    \"\"\"       \n",
    "    # First EClose the given set of states S.\n",
    "    S = Eclosure(N, S)\n",
    "    if s==\"\":\n",
    "        # run_nfa returns S if nothing to process\n",
    "        return S\n",
    "    else:\n",
    "        # else one step via s[0]; return Eclosure of the resulting states\n",
    "        return run_nfa(N, ec_step_nfa(N, S, s[0], chatty), s[1:], chatty)"
   ]
  },
  {
   "cell_type": "code",
   "execution_count": 12,
   "metadata": {
    "collapsed": false,
    "editable": true,
    "run_control": {
     "frozen": false,
     "read_only": false
    }
   },
   "outputs": [],
   "source": [
    "def ec_step_nfa(N, S, c, chatty=False):\n",
    "    \"\"\"In : N (consistent NFA)\n",
    "            S (EClosed set of states)\n",
    "            c (character in N's alphabet; does not equal \"\")\n",
    "       Return Eclosure of all states one \"c\" step away from S.                                                                     \n",
    "    \"\"\"\n",
    "    post_c_state_sets = list(map(lambda st: step_nfa(N, st, c), S))\n",
    "                                                                              \n",
    "    # Take union of state sets contained in post_c_states\n",
    "    # basis case set({}) added to make reduction succeed                                \n",
    "    post_c_states = reduce(lambda x,y: set(x) | set(y), \n",
    "                           post_c_state_sets, \n",
    "                           set({}))\n",
    "        \n",
    "    # Eclose from post-c-states                                                                          \n",
    "    Eclosed_post_c_states = Eclosure(N, post_c_states)\n",
    "    \n",
    "    # Return final set of states after second Eclosure  \n",
    "    if chatty:\n",
    "        print(\"States reached = \", Eclosed_post_c_states)\n",
    "    return Eclosed_post_c_states\n",
    "\n",
    "def Eclosure(N, S):\n",
    "    \"\"\"In : N (consistent NFA)\n",
    "            S (set of states of NFA to be Eclosed)\n",
    "       Out: Eclosure of S (set of states).\n",
    "    \"\"\"\n",
    "    return Echelp(N, S, set({}))\n",
    "\n",
    "def Echelp(Nfa, Allsofar, Previous):\n",
    "    \"\"\"In : Nfa (consistent NFA)\n",
    "            Allsofar (set of states reached so far)\n",
    "            Previous (set of states reached previously)                                     \n",
    "       len(N[\"Delta\"].items()) is the longest chain in the NFA;\n",
    "       We will end up iterating that much. \n",
    "    \"\"\"\n",
    "    # Fixpoint reached; return Allsofar\n",
    "    if (Allsofar == Previous):\n",
    "        return Allsofar\n",
    "    else:\n",
    "        # When we apply step_nfa, we get state sets; \n",
    "        # form a list of those.\n",
    "        post_eps_state_sets = list(map(lambda q: \n",
    "                                       step_nfa(Nfa, q, \"\"), \n",
    "                                       Allsofar))\n",
    "        \n",
    "        # Now OR-reduce 'em; basis case of set({}) \n",
    "        # added to make reduction succeed                           \n",
    "        post_eps_states = reduce(lambda x, y: set(x) | set(y), \n",
    "                                 post_eps_state_sets,\n",
    "                                 set({}))\n",
    "            \n",
    "        # Recurse till fixpoint reached\n",
    "        return Echelp(Nfa      = Nfa, \n",
    "                      Allsofar = set(post_eps_states) | \n",
    "                                 set(Allsofar), \n",
    "                      Previous = Allsofar)\n",
    "\n",
    "import ipywidgets as wdg\n",
    "def run_nfa_slider(N, s, n):\n",
    "    \"\"\"Run NFA N from N[\"Q0\"] (which is a set..) on substring s[0:n]\n",
    "    \"\"\"\n",
    "    S = N[\"Q0\"] \n",
    "    if (n > len(s)):\n",
    "        n = len(s)\n",
    "    print(\"string = \", s[0:n])\n",
    "    run_nfa(N, S, s[0:n], True)\n",
    "    \n",
    "def run_nfa_int(N1, N2):\n",
    "    \"\"\"Run interactively from the given NFA .. from {q0} \n",
    "       on input string's substring\n",
    "       as picked by slider.\n",
    "    \"\"\"\n",
    "    inp = input(\"Please provide string: \")\n",
    "    wdg.interact(run_nfa_slider, N = {'N1': N1, 'N2': N2}, \n",
    "                 s = inp, n=(0,32))"
   ]
  },
  {
   "cell_type": "code",
   "execution_count": 13,
   "metadata": {
    "collapsed": false,
    "editable": true,
    "run_control": {
     "frozen": false,
     "read_only": false
    }
   },
   "outputs": [
    {
     "data": {
      "text/plain": [
       "''"
      ]
     },
     "execution_count": 13,
     "metadata": {},
     "output_type": "execute_result"
    }
   ],
   "source": [
    "\"aa\"[0:0]"
   ]
  },
  {
   "cell_type": "code",
   "execution_count": 14,
   "metadata": {
    "collapsed": false,
    "editable": true,
    "run_control": {
     "frozen": false,
     "read_only": false
    }
   },
   "outputs": [
    {
     "data": {
      "image/svg+xml": [
       "<?xml version=\"1.0\" encoding=\"UTF-8\" standalone=\"no\"?>\n",
       "<!DOCTYPE svg PUBLIC \"-//W3C//DTD SVG 1.1//EN\"\n",
       " \"http://www.w3.org/Graphics/SVG/1.1/DTD/svg11.dtd\">\n",
       "<!-- Generated by graphviz version 2.38.0 (20140413.2041)\n",
       " -->\n",
       "<!-- Title: G Pages: 1 -->\n",
       "<svg width=\"564pt\" height=\"110pt\"\n",
       " viewBox=\"0.00 0.00 564.22 110.34\" xmlns=\"http://www.w3.org/2000/svg\" xmlns:xlink=\"http://www.w3.org/1999/xlink\">\n",
       "<g id=\"graph0\" class=\"graph\" transform=\"scale(1 1) rotate(0) translate(4 106.342)\">\n",
       "<title>G</title>\n",
       "<polygon fill=\"white\" stroke=\"none\" points=\"-4,4 -4,-106.342 560.223,-106.342 560.223,4 -4,4\"/>\n",
       "<g id=\"node1\" class=\"node\"><title></title>\n",
       "</g>\n",
       "<!-- A0 -->\n",
       "<g id=\"node6\" class=\"node\"><title>A0</title>\n",
       "<ellipse fill=\"none\" stroke=\"black\" cx=\"111.915\" cy=\"-49.915\" rx=\"20.8304\" ry=\"20.8304\"/>\n",
       "<text text-anchor=\"middle\" x=\"111.915\" y=\"-45.715\" font-family=\"Times,serif\" font-size=\"14.00\">A0</text>\n",
       "</g>\n",
       "<!-- &#45;&gt;A0 -->\n",
       "<g id=\"edge1\" class=\"edge\"><title>&#45;&gt;A0</title>\n",
       "<path fill=\"none\" stroke=\"black\" d=\"M54.2348,-49.915C62.6673,-49.915 72.0756,-49.915 80.766,-49.915\"/>\n",
       "<polygon fill=\"black\" stroke=\"black\" points=\"80.8965,-53.4151 90.8965,-49.915 80.8964,-46.4151 80.8965,-53.4151\"/>\n",
       "</g>\n",
       "<!-- B1 -->\n",
       "<g id=\"node2\" class=\"node\"><title>B1</title>\n",
       "<ellipse fill=\"none\" stroke=\"black\" cx=\"364.941\" cy=\"-81.915\" rx=\"20.3544\" ry=\"20.3544\"/>\n",
       "<text text-anchor=\"middle\" x=\"364.941\" y=\"-77.715\" font-family=\"Times,serif\" font-size=\"14.00\">B1</text>\n",
       "</g>\n",
       "<!-- B2 -->\n",
       "<g id=\"node4\" class=\"node\"><title>B2</title>\n",
       "<ellipse fill=\"none\" stroke=\"black\" cx=\"448.795\" cy=\"-81.915\" rx=\"20.3544\" ry=\"20.3544\"/>\n",
       "<text text-anchor=\"middle\" x=\"448.795\" y=\"-77.715\" font-family=\"Times,serif\" font-size=\"14.00\">B2</text>\n",
       "</g>\n",
       "<!-- B1&#45;&gt;B2 -->\n",
       "<g id=\"edge6\" class=\"edge\"><title>B1&#45;&gt;B2</title>\n",
       "<path fill=\"none\" stroke=\"black\" d=\"M385.756,-81.915C395.408,-81.915 407.218,-81.915 417.933,-81.915\"/>\n",
       "<polygon fill=\"black\" stroke=\"black\" points=\"418.163,-85.4151 428.163,-81.915 418.163,-78.4151 418.163,-85.4151\"/>\n",
       "<text text-anchor=\"middle\" x=\"406.868\" y=\"-84.715\" font-family=\"Times,serif\" font-size=\"14.00\">1</text>\n",
       "</g>\n",
       "<!-- A1 -->\n",
       "<g id=\"node3\" class=\"node\"><title>A1</title>\n",
       "<ellipse fill=\"none\" stroke=\"black\" cx=\"196.745\" cy=\"-20.915\" rx=\"20.8304\" ry=\"20.8304\"/>\n",
       "<text text-anchor=\"middle\" x=\"196.745\" y=\"-16.715\" font-family=\"Times,serif\" font-size=\"14.00\">A1</text>\n",
       "</g>\n",
       "<!-- B0 -->\n",
       "<g id=\"node5\" class=\"node\"><title>B0</title>\n",
       "<ellipse fill=\"none\" stroke=\"black\" cx=\"281.087\" cy=\"-49.915\" rx=\"20.3544\" ry=\"20.3544\"/>\n",
       "<text text-anchor=\"middle\" x=\"281.087\" y=\"-45.715\" font-family=\"Times,serif\" font-size=\"14.00\">B0</text>\n",
       "</g>\n",
       "<!-- A1&#45;&gt;B0 -->\n",
       "<g id=\"edge3\" class=\"edge\"><title>A1&#45;&gt;B0</title>\n",
       "<path fill=\"none\" stroke=\"black\" d=\"M216.843,-27.6411C227.279,-31.3164 240.401,-35.9378 251.983,-40.0171\"/>\n",
       "<polygon fill=\"black\" stroke=\"black\" points=\"251.064,-43.4042 261.659,-43.4249 253.39,-36.8017 251.064,-43.4042\"/>\n",
       "<text text-anchor=\"middle\" x=\"239.16\" y=\"-39.715\" font-family=\"Times,serif\" font-size=\"14.00\">0</text>\n",
       "</g>\n",
       "<!-- F -->\n",
       "<g id=\"node7\" class=\"node\"><title>F</title>\n",
       "<ellipse fill=\"none\" stroke=\"black\" cx=\"534.223\" cy=\"-53.915\" rx=\"18\" ry=\"18\"/>\n",
       "<ellipse fill=\"none\" stroke=\"black\" cx=\"534.223\" cy=\"-53.915\" rx=\"22\" ry=\"22\"/>\n",
       "<text text-anchor=\"middle\" x=\"534.223\" y=\"-49.715\" font-family=\"Times,serif\" font-size=\"14.00\">F</text>\n",
       "</g>\n",
       "<!-- B2&#45;&gt;F -->\n",
       "<g id=\"edge7\" class=\"edge\"><title>B2&#45;&gt;F</title>\n",
       "<path fill=\"none\" stroke=\"black\" d=\"M468.311,-75.7009C478.558,-72.2616 491.544,-67.9032 503.204,-63.9898\"/>\n",
       "<polygon fill=\"black\" stroke=\"black\" points=\"504.641,-67.1997 513.007,-60.6997 502.413,-60.5635 504.641,-67.1997\"/>\n",
       "<text text-anchor=\"middle\" x=\"490.723\" y=\"-70.715\" font-family=\"Times,serif\" font-size=\"14.00\">1</text>\n",
       "</g>\n",
       "<!-- B0&#45;&gt;B1 -->\n",
       "<g id=\"edge5\" class=\"edge\"><title>B0&#45;&gt;B1</title>\n",
       "<path fill=\"none\" stroke=\"black\" d=\"M300.253,-57.0169C310.777,-61.131 324.245,-66.3961 336.083,-71.024\"/>\n",
       "<polygon fill=\"black\" stroke=\"black\" points=\"334.955,-74.341 345.543,-74.7224 337.504,-67.8215 334.955,-74.341\"/>\n",
       "<text text-anchor=\"middle\" x=\"323.014\" y=\"-68.715\" font-family=\"Times,serif\" font-size=\"14.00\">1</text>\n",
       "</g>\n",
       "<!-- B0&#45;&gt;A0 -->\n",
       "<g id=\"edge4\" class=\"edge\"><title>B0&#45;&gt;A0</title>\n",
       "<path fill=\"none\" stroke=\"black\" d=\"M260.711,-53.0018C254.921,-53.7893 248.547,-54.5235 242.66,-54.915 201.937,-57.6232 191.556,-57.5888 150.83,-54.915 148.279,-54.7476 145.638,-54.5174 142.992,-54.2471\"/>\n",
       "<polygon fill=\"black\" stroke=\"black\" points=\"143.28,-50.7568 132.937,-53.0542 142.455,-57.7081 143.28,-50.7568\"/>\n",
       "</g>\n",
       "<!-- A0&#45;&gt;A1 -->\n",
       "<g id=\"edge2\" class=\"edge\"><title>A0&#45;&gt;A1</title>\n",
       "<path fill=\"none\" stroke=\"black\" d=\"M132.126,-43.1889C142.476,-39.5654 155.452,-35.0222 166.981,-30.9856\"/>\n",
       "<polygon fill=\"black\" stroke=\"black\" points=\"168.357,-34.2125 176.638,-27.6046 166.043,-27.6058 168.357,-34.2125\"/>\n",
       "<text text-anchor=\"middle\" x=\"154.33\" y=\"-39.715\" font-family=\"Times,serif\" font-size=\"14.00\">0</text>\n",
       "</g>\n",
       "<!-- F&#45;&gt;B0 -->\n",
       "<g id=\"edge8\" class=\"edge\"><title>F&#45;&gt;B0</title>\n",
       "<path fill=\"none\" stroke=\"black\" d=\"M512.202,-53.5802C467.608,-52.8699 363.403,-51.2102 311.935,-50.3904\"/>\n",
       "<polygon fill=\"black\" stroke=\"black\" points=\"311.848,-46.8887 301.793,-50.2289 311.736,-53.8878 311.848,-46.8887\"/>\n",
       "</g>\n",
       "</g>\n",
       "</svg>\n"
      ],
      "text/plain": [
       "<graphviz.files.Source at 0x11117eb00>"
      ]
     },
     "execution_count": 14,
     "metadata": {},
     "output_type": "execute_result"
    }
   ],
   "source": [
    "# NFA for ((aa)+(bbb)+)+\n",
    "NFA23 = { 'Q': {'A0','A1','B0','B1','B2','F'},\n",
    "          'Sigma': {'0', '1'},\n",
    "          'Delta': { # \n",
    "                     ('A0', '0') : {'A1'},\n",
    "                     ('A1', '0') : {'B0'},\n",
    "                     #\n",
    "                     ('B0', '')  : {'A0'},\n",
    "                     #\n",
    "                     ('B0', '1') : {'B1'},\n",
    "                     ('B1', '1') : {'B2'},\n",
    "                     ('B2', '1') : {'F'},\n",
    "                     # \n",
    "                     ('F', '')   : {'B0'},\n",
    "                   },\n",
    "          'Q0': {'A0'}, \n",
    "          'F' : {'F'}   \n",
    "        }\n",
    "Source(dot_nfa(NFA23))"
   ]
  },
  {
   "cell_type": "code",
   "execution_count": 15,
   "metadata": {
    "collapsed": false,
    "run_control": {
     "frozen": false,
     "read_only": false
    }
   },
   "outputs": [
    {
     "data": {
      "image/svg+xml": [
       "<?xml version=\"1.0\" encoding=\"UTF-8\" standalone=\"no\"?>\n",
       "<!DOCTYPE svg PUBLIC \"-//W3C//DTD SVG 1.1//EN\"\n",
       " \"http://www.w3.org/Graphics/SVG/1.1/DTD/svg11.dtd\">\n",
       "<!-- Generated by graphviz version 2.38.0 (20140413.2041)\n",
       " -->\n",
       "<!-- Title: G Pages: 1 -->\n",
       "<svg width=\"570pt\" height=\"116pt\"\n",
       " viewBox=\"0.00 0.00 570.12 116.34\" xmlns=\"http://www.w3.org/2000/svg\" xmlns:xlink=\"http://www.w3.org/1999/xlink\">\n",
       "<g id=\"graph0\" class=\"graph\" transform=\"scale(1 1) rotate(0) translate(4 112.342)\">\n",
       "<title>G</title>\n",
       "<polygon fill=\"white\" stroke=\"none\" points=\"-4,4 -4,-112.342 566.115,-112.342 566.115,4 -4,4\"/>\n",
       "<g id=\"node1\" class=\"node\"><title></title>\n",
       "</g>\n",
       "<!-- A0 -->\n",
       "<g id=\"node6\" class=\"node\"><title>A0</title>\n",
       "<ellipse fill=\"none\" stroke=\"black\" cx=\"111.915\" cy=\"-55.915\" rx=\"20.8304\" ry=\"20.8304\"/>\n",
       "<text text-anchor=\"middle\" x=\"111.915\" y=\"-51.715\" font-family=\"Times,serif\" font-size=\"14.00\">A0</text>\n",
       "</g>\n",
       "<!-- &#45;&gt;A0 -->\n",
       "<g id=\"edge1\" class=\"edge\"><title>&#45;&gt;A0</title>\n",
       "<path fill=\"none\" stroke=\"black\" d=\"M54.2348,-55.915C62.6673,-55.915 72.0756,-55.915 80.766,-55.915\"/>\n",
       "<polygon fill=\"black\" stroke=\"black\" points=\"80.8965,-59.4151 90.8965,-55.915 80.8964,-52.4151 80.8965,-59.4151\"/>\n",
       "</g>\n",
       "<!-- B1 -->\n",
       "<g id=\"node2\" class=\"node\"><title>B1</title>\n",
       "<ellipse fill=\"none\" stroke=\"black\" cx=\"364.941\" cy=\"-87.915\" rx=\"20.3544\" ry=\"20.3544\"/>\n",
       "<text text-anchor=\"middle\" x=\"364.941\" y=\"-83.715\" font-family=\"Times,serif\" font-size=\"14.00\">B1</text>\n",
       "</g>\n",
       "<!-- B2 -->\n",
       "<g id=\"node4\" class=\"node\"><title>B2</title>\n",
       "<ellipse fill=\"none\" stroke=\"black\" cx=\"454.688\" cy=\"-87.915\" rx=\"20.3544\" ry=\"20.3544\"/>\n",
       "<text text-anchor=\"middle\" x=\"454.688\" y=\"-83.715\" font-family=\"Times,serif\" font-size=\"14.00\">B2</text>\n",
       "</g>\n",
       "<!-- B1&#45;&gt;B2 -->\n",
       "<g id=\"edge6\" class=\"edge\"><title>B1&#45;&gt;B2</title>\n",
       "<path fill=\"none\" stroke=\"black\" d=\"M385.415,-87.915C396.697,-87.915 411.134,-87.915 423.824,-87.915\"/>\n",
       "<polygon fill=\"black\" stroke=\"black\" points=\"423.965,-91.4151 433.965,-87.915 423.965,-84.4151 423.965,-91.4151\"/>\n",
       "<text text-anchor=\"middle\" x=\"409.815\" y=\"-90.715\" font-family=\"Times,serif\" font-size=\"14.00\">1</text>\n",
       "</g>\n",
       "<!-- A1 -->\n",
       "<g id=\"node3\" class=\"node\"><title>A1</title>\n",
       "<ellipse fill=\"none\" stroke=\"black\" cx=\"196.745\" cy=\"-20.915\" rx=\"20.8304\" ry=\"20.8304\"/>\n",
       "<text text-anchor=\"middle\" x=\"196.745\" y=\"-16.715\" font-family=\"Times,serif\" font-size=\"14.00\">A1</text>\n",
       "</g>\n",
       "<!-- B0 -->\n",
       "<g id=\"node5\" class=\"node\"><title>B0</title>\n",
       "<ellipse fill=\"none\" stroke=\"black\" cx=\"281.087\" cy=\"-55.915\" rx=\"20.3544\" ry=\"20.3544\"/>\n",
       "<text text-anchor=\"middle\" x=\"281.087\" y=\"-51.715\" font-family=\"Times,serif\" font-size=\"14.00\">B0</text>\n",
       "</g>\n",
       "<!-- A1&#45;&gt;B0 -->\n",
       "<g id=\"edge3\" class=\"edge\"><title>A1&#45;&gt;B0</title>\n",
       "<path fill=\"none\" stroke=\"black\" d=\"M216.43,-28.8571C227.106,-33.3951 240.692,-39.17 252.569,-44.2183\"/>\n",
       "<polygon fill=\"black\" stroke=\"black\" points=\"251.47,-47.5541 262.042,-48.2449 254.208,-41.1119 251.47,-47.5541\"/>\n",
       "<text text-anchor=\"middle\" x=\"239.16\" y=\"-42.715\" font-family=\"Times,serif\" font-size=\"14.00\">0</text>\n",
       "</g>\n",
       "<!-- F -->\n",
       "<g id=\"node7\" class=\"node\"><title>F</title>\n",
       "<ellipse fill=\"none\" stroke=\"black\" cx=\"540.115\" cy=\"-59.915\" rx=\"18\" ry=\"18\"/>\n",
       "<ellipse fill=\"none\" stroke=\"black\" cx=\"540.115\" cy=\"-59.915\" rx=\"22\" ry=\"22\"/>\n",
       "<text text-anchor=\"middle\" x=\"540.115\" y=\"-55.715\" font-family=\"Times,serif\" font-size=\"14.00\">F</text>\n",
       "</g>\n",
       "<!-- B2&#45;&gt;F -->\n",
       "<g id=\"edge7\" class=\"edge\"><title>B2&#45;&gt;F</title>\n",
       "<path fill=\"none\" stroke=\"black\" d=\"M474.203,-81.7009C484.451,-78.2616 497.437,-73.9032 509.097,-69.9898\"/>\n",
       "<polygon fill=\"black\" stroke=\"black\" points=\"510.533,-73.1997 518.9,-66.6997 508.306,-66.5635 510.533,-73.1997\"/>\n",
       "<text text-anchor=\"middle\" x=\"496.615\" y=\"-76.715\" font-family=\"Times,serif\" font-size=\"14.00\">1</text>\n",
       "</g>\n",
       "<!-- B0&#45;&gt;B1 -->\n",
       "<g id=\"edge5\" class=\"edge\"><title>B0&#45;&gt;B1</title>\n",
       "<path fill=\"none\" stroke=\"black\" d=\"M300.253,-63.0169C310.777,-67.131 324.245,-72.3961 336.083,-77.024\"/>\n",
       "<polygon fill=\"black\" stroke=\"black\" points=\"334.955,-80.341 345.543,-80.7224 337.504,-73.8215 334.955,-80.341\"/>\n",
       "<text text-anchor=\"middle\" x=\"323.014\" y=\"-74.715\" font-family=\"Times,serif\" font-size=\"14.00\">1</text>\n",
       "</g>\n",
       "<!-- B0&#45;&gt;A0 -->\n",
       "<g id=\"edge4\" class=\"edge\"><title>B0&#45;&gt;A0</title>\n",
       "<path fill=\"none\" stroke=\"black\" d=\"M260.67,-57.1501C254.878,-57.4651 248.514,-57.7587 242.66,-57.915 201.861,-59.0043 191.629,-58.9903 150.83,-57.915 148.293,-57.8482 145.662,-57.7562 143.022,-57.6481\"/>\n",
       "<polygon fill=\"black\" stroke=\"black\" points=\"143.133,-54.1495 132.978,-57.1711 142.8,-61.1417 143.133,-54.1495\"/>\n",
       "<text text-anchor=\"middle\" x=\"196.745\" y=\"-60.715\" font-family=\"Times,serif\" font-size=\"14.00\">@</text>\n",
       "</g>\n",
       "<!-- A0&#45;&gt;A1 -->\n",
       "<g id=\"edge2\" class=\"edge\"><title>A0&#45;&gt;A1</title>\n",
       "<path fill=\"none\" stroke=\"black\" d=\"M131.71,-47.973C142.375,-43.4665 155.927,-37.7402 167.815,-32.717\"/>\n",
       "<polygon fill=\"black\" stroke=\"black\" points=\"169.46,-35.8214 177.309,-28.7051 166.736,-29.3734 169.46,-35.8214\"/>\n",
       "<text text-anchor=\"middle\" x=\"154.33\" y=\"-42.715\" font-family=\"Times,serif\" font-size=\"14.00\">0</text>\n",
       "</g>\n",
       "<!-- F&#45;&gt;B0 -->\n",
       "<g id=\"edge8\" class=\"edge\"><title>F&#45;&gt;B0</title>\n",
       "<path fill=\"none\" stroke=\"black\" d=\"M518.073,-59.5858C505.587,-59.3906 489.448,-59.1384 475.115,-58.915 417.316,-58.0143 349.781,-56.9655 311.865,-56.3771\"/>\n",
       "<polygon fill=\"black\" stroke=\"black\" points=\"311.593,-52.8725 301.54,-56.2168 311.485,-59.8717 311.593,-52.8725\"/>\n",
       "<text text-anchor=\"middle\" x=\"409.815\" y=\"-60.715\" font-family=\"Times,serif\" font-size=\"14.00\">@</text>\n",
       "</g>\n",
       "</g>\n",
       "</svg>\n"
      ],
      "text/plain": [
       "<graphviz.files.Source at 0x11116c278>"
      ]
     },
     "execution_count": 15,
     "metadata": {},
     "output_type": "execute_result"
    }
   ],
   "source": [
    "Source(dot_nfa(NFA23, visible_eps=True))"
   ]
  },
  {
   "cell_type": "code",
   "execution_count": 16,
   "metadata": {
    "collapsed": false,
    "editable": false,
    "run_control": {
     "frozen": false,
     "read_only": false
    }
   },
   "outputs": [
    {
     "data": {
      "text/plain": [
       "{'A0'}"
      ]
     },
     "execution_count": 16,
     "metadata": {},
     "output_type": "execute_result"
    }
   ],
   "source": [
    "NFA23[\"Q0\"]"
   ]
  },
  {
   "cell_type": "code",
   "execution_count": 17,
   "metadata": {
    "collapsed": false,
    "editable": false,
    "run_control": {
     "frozen": false,
     "read_only": false
    }
   },
   "outputs": [
    {
     "name": "stdout",
     "output_type": "stream",
     "text": [
      "States reached =  {'A1'}\n"
     ]
    },
    {
     "data": {
      "text/plain": [
       "{'A1'}"
      ]
     },
     "execution_count": 17,
     "metadata": {},
     "output_type": "execute_result"
    }
   ],
   "source": [
    "run_nfa(NFA23, NFA23[\"Q0\"], '0', True)"
   ]
  },
  {
   "cell_type": "code",
   "execution_count": 18,
   "metadata": {
    "collapsed": false,
    "editable": false,
    "run_control": {
     "frozen": false,
     "read_only": false
    }
   },
   "outputs": [
    {
     "data": {
      "image/svg+xml": [
       "<?xml version=\"1.0\" encoding=\"UTF-8\" standalone=\"no\"?>\n",
       "<!DOCTYPE svg PUBLIC \"-//W3C//DTD SVG 1.1//EN\"\n",
       " \"http://www.w3.org/Graphics/SVG/1.1/DTD/svg11.dtd\">\n",
       "<!-- Generated by graphviz version 2.38.0 (20140413.2041)\n",
       " -->\n",
       "<!-- Title: G Pages: 1 -->\n",
       "<svg width=\"468pt\" height=\"112pt\"\n",
       " viewBox=\"0.00 0.00 467.68 112.00\" xmlns=\"http://www.w3.org/2000/svg\" xmlns:xlink=\"http://www.w3.org/1999/xlink\">\n",
       "<g id=\"graph0\" class=\"graph\" transform=\"scale(1 1) rotate(0) translate(4 108)\">\n",
       "<title>G</title>\n",
       "<polygon fill=\"white\" stroke=\"none\" points=\"-4,4 -4,-108 463.681,-108 463.681,4 -4,4\"/>\n",
       "<g id=\"node1\" class=\"node\"><title></title>\n",
       "</g>\n",
       "<!-- I -->\n",
       "<g id=\"node2\" class=\"node\"><title>I</title>\n",
       "<ellipse fill=\"none\" stroke=\"black\" cx=\"109\" cy=\"-22\" rx=\"18\" ry=\"18\"/>\n",
       "<text text-anchor=\"middle\" x=\"109\" y=\"-17.8\" font-family=\"Times,serif\" font-size=\"14.00\">I</text>\n",
       "</g>\n",
       "<!-- &#45;&gt;I -->\n",
       "<g id=\"edge1\" class=\"edge\"><title>&#45;&gt;I</title>\n",
       "<path fill=\"none\" stroke=\"black\" d=\"M54.195,-22C62.6538,-22 72.0513,-22 80.5951,-22\"/>\n",
       "<polygon fill=\"black\" stroke=\"black\" points=\"80.8257,-25.5001 90.8257,-22 80.8257,-18.5001 80.8257,-25.5001\"/>\n",
       "</g>\n",
       "<!-- I&#45;&gt;I -->\n",
       "<g id=\"edge2\" class=\"edge\"><title>I&#45;&gt;I</title>\n",
       "<path fill=\"none\" stroke=\"black\" d=\"M105.764,-39.7817C105.214,-49.3149 106.293,-58 109,-58 110.65,-58 111.694,-54.7749 112.135,-50.0981\"/>\n",
       "<polygon fill=\"black\" stroke=\"black\" points=\"115.638,-49.8156 112.236,-39.7817 108.638,-49.7469 115.638,-49.8156\"/>\n",
       "<text text-anchor=\"middle\" x=\"109\" y=\"-60.8\" font-family=\"Times,serif\" font-size=\"14.00\">0</text>\n",
       "</g>\n",
       "<!-- I&#45;&gt;I -->\n",
       "<g id=\"edge3\" class=\"edge\"><title>I&#45;&gt;I</title>\n",
       "<path fill=\"none\" stroke=\"black\" d=\"M103.684,-39.4203C100.654,-56.791 102.426,-76 109,-76 114.29,-76 116.471,-63.5617 115.542,-49.652\"/>\n",
       "<polygon fill=\"black\" stroke=\"black\" points=\"118.981,-48.9328 114.316,-39.4203 112.031,-49.7657 118.981,-48.9328\"/>\n",
       "<text text-anchor=\"middle\" x=\"109\" y=\"-78.8\" font-family=\"Times,serif\" font-size=\"14.00\">1</text>\n",
       "</g>\n",
       "<!-- S0 -->\n",
       "<g id=\"node4\" class=\"node\"><title>S0</title>\n",
       "<ellipse fill=\"none\" stroke=\"black\" cx=\"189.447\" cy=\"-22\" rx=\"19.3939\" ry=\"19.3939\"/>\n",
       "<text text-anchor=\"middle\" x=\"189.447\" y=\"-17.8\" font-family=\"Times,serif\" font-size=\"14.00\">S0</text>\n",
       "</g>\n",
       "<!-- I&#45;&gt;S0 -->\n",
       "<g id=\"edge4\" class=\"edge\"><title>I&#45;&gt;S0</title>\n",
       "<path fill=\"none\" stroke=\"black\" d=\"M127.022,-22C136.583,-22 148.77,-22 159.763,-22\"/>\n",
       "<polygon fill=\"black\" stroke=\"black\" points=\"159.813,-25.5001 169.813,-22 159.813,-18.5001 159.813,-25.5001\"/>\n",
       "<text text-anchor=\"middle\" x=\"148.5\" y=\"-24.8\" font-family=\"Times,serif\" font-size=\"14.00\">1</text>\n",
       "</g>\n",
       "<!-- I&#45;&gt;S0 -->\n",
       "<g id=\"edge5\" class=\"edge\"><title>I&#45;&gt;S0</title>\n",
       "<path fill=\"none\" stroke=\"black\" d=\"M127.081,-20.8282C132.778,-20.4897 139.16,-20.1667 145,-20 149.713,-19.8655 154.711,-19.9155 159.575,-20.0681\"/>\n",
       "<polygon fill=\"black\" stroke=\"black\" points=\"159.699,-23.5772 169.847,-20.5342 160.016,-16.5844 159.699,-23.5772\"/>\n",
       "</g>\n",
       "<!-- S1 -->\n",
       "<g id=\"node3\" class=\"node\"><title>S1</title>\n",
       "<ellipse fill=\"none\" stroke=\"black\" cx=\"271.341\" cy=\"-22\" rx=\"19.3939\" ry=\"19.3939\"/>\n",
       "<text text-anchor=\"middle\" x=\"271.341\" y=\"-17.8\" font-family=\"Times,serif\" font-size=\"14.00\">S1</text>\n",
       "</g>\n",
       "<!-- S2 -->\n",
       "<g id=\"node5\" class=\"node\"><title>S2</title>\n",
       "<ellipse fill=\"none\" stroke=\"black\" cx=\"353.234\" cy=\"-22\" rx=\"19.3939\" ry=\"19.3939\"/>\n",
       "<text text-anchor=\"middle\" x=\"353.234\" y=\"-17.8\" font-family=\"Times,serif\" font-size=\"14.00\">S2</text>\n",
       "</g>\n",
       "<!-- S1&#45;&gt;S2 -->\n",
       "<g id=\"edge7\" class=\"edge\"><title>S1&#45;&gt;S2</title>\n",
       "<path fill=\"none\" stroke=\"black\" d=\"M290.871,-22C300.482,-22 312.441,-22 323.243,-22\"/>\n",
       "<polygon fill=\"black\" stroke=\"black\" points=\"323.528,-25.5001 333.528,-22 323.528,-18.5001 323.528,-25.5001\"/>\n",
       "<text text-anchor=\"middle\" x=\"312.287\" y=\"-24.8\" font-family=\"Times,serif\" font-size=\"14.00\">0</text>\n",
       "</g>\n",
       "<!-- S1&#45;&gt;S2 -->\n",
       "<g id=\"edge8\" class=\"edge\"><title>S1&#45;&gt;S2</title>\n",
       "<path fill=\"none\" stroke=\"black\" d=\"M287.218,-10.7423C295.427,-5.8494 305.929,-1.69819 315.787,-4 319.511,-4.86945 323.292,-6.1773 326.938,-7.69901\"/>\n",
       "<polygon fill=\"black\" stroke=\"black\" points=\"325.61,-10.9431 336.145,-12.0723 328.614,-4.62018 325.61,-10.9431\"/>\n",
       "<text text-anchor=\"middle\" x=\"312.287\" y=\"-6.8\" font-family=\"Times,serif\" font-size=\"14.00\">1</text>\n",
       "</g>\n",
       "<!-- S0&#45;&gt;S1 -->\n",
       "<g id=\"edge6\" class=\"edge\"><title>S0&#45;&gt;S1</title>\n",
       "<path fill=\"none\" stroke=\"black\" d=\"M208.977,-22C218.588,-22 230.548,-22 241.349,-22\"/>\n",
       "<polygon fill=\"black\" stroke=\"black\" points=\"241.634,-25.5001 251.634,-22 241.634,-18.5001 241.634,-25.5001\"/>\n",
       "<text text-anchor=\"middle\" x=\"230.394\" y=\"-24.8\" font-family=\"Times,serif\" font-size=\"14.00\">1</text>\n",
       "</g>\n",
       "<!-- F -->\n",
       "<g id=\"node6\" class=\"node\"><title>F</title>\n",
       "<ellipse fill=\"none\" stroke=\"black\" cx=\"437.681\" cy=\"-22\" rx=\"18\" ry=\"18\"/>\n",
       "<ellipse fill=\"none\" stroke=\"black\" cx=\"437.681\" cy=\"-22\" rx=\"22\" ry=\"22\"/>\n",
       "<text text-anchor=\"middle\" x=\"437.681\" y=\"-17.8\" font-family=\"Times,serif\" font-size=\"14.00\">F</text>\n",
       "</g>\n",
       "<!-- S2&#45;&gt;F -->\n",
       "<g id=\"edge9\" class=\"edge\"><title>S2&#45;&gt;F</title>\n",
       "<path fill=\"none\" stroke=\"black\" d=\"M372.943,-22C382.52,-22 394.436,-22 405.364,-22\"/>\n",
       "<polygon fill=\"black\" stroke=\"black\" points=\"405.431,-25.5001 415.431,-22 405.431,-18.5001 405.431,-25.5001\"/>\n",
       "<text text-anchor=\"middle\" x=\"394.181\" y=\"-24.8\" font-family=\"Times,serif\" font-size=\"14.00\">0</text>\n",
       "</g>\n",
       "<!-- S2&#45;&gt;F -->\n",
       "<g id=\"edge10\" class=\"edge\"><title>S2&#45;&gt;F</title>\n",
       "<path fill=\"none\" stroke=\"black\" d=\"M370.324,-12.0723C376.461,-8.82659 383.671,-5.63661 390.681,-4 397.039,-2.51573 403.683,-3.50584 409.881,-5.63\"/>\n",
       "<polygon fill=\"black\" stroke=\"black\" points=\"408.585,-8.88387 419.148,-9.7088 411.405,-2.47695 408.585,-8.88387\"/>\n",
       "<text text-anchor=\"middle\" x=\"394.181\" y=\"-6.8\" font-family=\"Times,serif\" font-size=\"14.00\">1</text>\n",
       "</g>\n",
       "</g>\n",
       "</svg>\n"
      ],
      "text/plain": [
       "<graphviz.files.Source at 0x11116c550>"
      ]
     },
     "execution_count": 18,
     "metadata": {},
     "output_type": "execute_result"
    }
   ],
   "source": [
    "Source(dot_nfa(NFA_fig61ab))"
   ]
  },
  {
   "cell_type": "code",
   "execution_count": 19,
   "metadata": {
    "collapsed": false,
    "editable": false,
    "run_control": {
     "frozen": false,
     "read_only": false
    }
   },
   "outputs": [
    {
     "data": {
      "text/plain": [
       "{'A0'}"
      ]
     },
     "execution_count": 19,
     "metadata": {},
     "output_type": "execute_result"
    }
   ],
   "source": [
    "run_nfa(NFA23, set({'A0'}), '', True)"
   ]
  },
  {
   "cell_type": "code",
   "execution_count": 20,
   "metadata": {
    "collapsed": false,
    "editable": false,
    "run_control": {
     "frozen": false,
     "read_only": false
    }
   },
   "outputs": [],
   "source": [
    "def test_run_nfa_int():\n",
    "    \"\"\"Test the interactive run of NFA.\n",
    "    \"\"\"\n",
    "    run_nfa_int(NFA_fig61ab, NFA23) \n",
    "\n",
    "#-- enable this later. test_run_nfa_int()"
   ]
  },
  {
   "cell_type": "code",
   "execution_count": 21,
   "metadata": {
    "collapsed": false,
    "editable": false,
    "run_control": {
     "frozen": false,
     "read_only": false
    }
   },
   "outputs": [
    {
     "data": {
      "text/plain": [
       "{'I', 'S0'}"
      ]
     },
     "execution_count": 21,
     "metadata": {},
     "output_type": "execute_result"
    }
   ],
   "source": [
    "Eclosure(NFA_fig61ab, {\"I\"})"
   ]
  },
  {
   "cell_type": "code",
   "execution_count": 22,
   "metadata": {
    "collapsed": false,
    "editable": false,
    "run_control": {
     "frozen": false,
     "read_only": false
    }
   },
   "outputs": [
    {
     "data": {
      "text/plain": [
       "{'S0'}"
      ]
     },
     "execution_count": 22,
     "metadata": {},
     "output_type": "execute_result"
    }
   ],
   "source": [
    "Eclosure(NFA_fig61ab, {\"S0\"})"
   ]
  },
  {
   "cell_type": "code",
   "execution_count": 23,
   "metadata": {
    "collapsed": false,
    "editable": false,
    "run_control": {
     "frozen": false,
     "read_only": false
    }
   },
   "outputs": [
    {
     "data": {
      "text/plain": [
       "{'I', 'S0'}"
      ]
     },
     "execution_count": 23,
     "metadata": {},
     "output_type": "execute_result"
    }
   ],
   "source": [
    "run_nfa(NFA_fig61ab,{\"I\"},\"\")"
   ]
  },
  {
   "cell_type": "code",
   "execution_count": 24,
   "metadata": {
    "collapsed": false,
    "editable": false,
    "run_control": {
     "frozen": false,
     "read_only": false
    }
   },
   "outputs": [
    {
     "data": {
      "text/plain": [
       "{'I', 'S0'}"
      ]
     },
     "execution_count": 24,
     "metadata": {},
     "output_type": "execute_result"
    }
   ],
   "source": [
    "run_nfa(NFA_fig61ab,{\"I\"},\"\", True)"
   ]
  },
  {
   "cell_type": "code",
   "execution_count": 25,
   "metadata": {
    "collapsed": false,
    "editable": false,
    "run_control": {
     "frozen": false,
     "read_only": false
    }
   },
   "outputs": [
    {
     "data": {
      "text/plain": [
       "{'I', 'S0'}"
      ]
     },
     "execution_count": 25,
     "metadata": {},
     "output_type": "execute_result"
    }
   ],
   "source": [
    "run_nfa(NFA_fig61ab,{\"I\"},\"0\")"
   ]
  },
  {
   "cell_type": "code",
   "execution_count": 26,
   "metadata": {
    "collapsed": false,
    "editable": false,
    "run_control": {
     "frozen": false,
     "read_only": false
    }
   },
   "outputs": [
    {
     "data": {
      "text/plain": [
       "{'I', 'S0', 'S1'}"
      ]
     },
     "execution_count": 26,
     "metadata": {},
     "output_type": "execute_result"
    }
   ],
   "source": [
    "run_nfa(NFA_fig61ab,{\"I\"},\"1\")"
   ]
  },
  {
   "cell_type": "code",
   "execution_count": 27,
   "metadata": {
    "collapsed": false,
    "editable": false,
    "run_control": {
     "frozen": false,
     "read_only": false
    }
   },
   "outputs": [
    {
     "data": {
      "text/plain": [
       "{'F', 'I', 'S0'}"
      ]
     },
     "execution_count": 27,
     "metadata": {},
     "output_type": "execute_result"
    }
   ],
   "source": [
    "run_nfa(NFA_fig61ab,{\"I\"},\"100\")"
   ]
  },
  {
   "cell_type": "code",
   "execution_count": 28,
   "metadata": {
    "collapsed": false,
    "editable": false,
    "run_control": {
     "frozen": false,
     "read_only": false
    }
   },
   "outputs": [
    {
     "name": "stdout",
     "output_type": "stream",
     "text": [
      "States reached =  {'S0', 'S1', 'I'}\n",
      "States reached =  {'S0', 'S2', 'I'}\n",
      "States reached =  {'S0', 'I', 'F'}\n"
     ]
    },
    {
     "data": {
      "text/plain": [
       "{'F', 'I', 'S0'}"
      ]
     },
     "execution_count": 28,
     "metadata": {},
     "output_type": "execute_result"
    }
   ],
   "source": [
    "run_nfa(NFA_fig61ab,{\"I\"},\"100\", True)"
   ]
  },
  {
   "cell_type": "code",
   "execution_count": 29,
   "metadata": {
    "collapsed": false,
    "editable": false,
    "run_control": {
     "frozen": false,
     "read_only": false
    }
   },
   "outputs": [
    {
     "data": {
      "text/plain": [
       "{'F', 'I', 'S0', 'S2'}"
      ]
     },
     "execution_count": 29,
     "metadata": {},
     "output_type": "execute_result"
    }
   ],
   "source": [
    "run_nfa(NFA_fig61ab,{\"I\"},\"00110\")"
   ]
  },
  {
   "cell_type": "code",
   "execution_count": 30,
   "metadata": {
    "collapsed": false,
    "editable": false,
    "run_control": {
     "frozen": false,
     "read_only": false
    }
   },
   "outputs": [
    {
     "name": "stdout",
     "output_type": "stream",
     "text": [
      "States reached =  {'S0', 'I'}\n",
      "States reached =  {'S0', 'I'}\n",
      "States reached =  {'S0', 'S1', 'I'}\n",
      "States reached =  {'S0', 'I', 'S1', 'S2'}\n",
      "States reached =  {'S0', 'I', 'F', 'S2'}\n"
     ]
    },
    {
     "data": {
      "text/plain": [
       "{'F', 'I', 'S0', 'S2'}"
      ]
     },
     "execution_count": 30,
     "metadata": {},
     "output_type": "execute_result"
    }
   ],
   "source": [
    "run_nfa(NFA_fig61ab,{\"I\"},\"00110\", True)"
   ]
  },
  {
   "cell_type": "markdown",
   "metadata": {
    "editable": false,
    "run_control": {
     "frozen": false,
     "read_only": false
    }
   },
   "source": [
    "### See that the NFA really runs a string, keeping its presence in all the states it must!"
   ]
  },
  {
   "cell_type": "markdown",
   "metadata": {
    "editable": false,
    "run_control": {
     "frozen": false,
     "read_only": false
    }
   },
   "source": [
    "Now we define NFA acceptance. We provide a silent version and a chatty (verbose) version called accepts_nfav that tells you HOW the acceptance was concluded."
   ]
  },
  {
   "cell_type": "code",
   "execution_count": 31,
   "metadata": {
    "collapsed": true,
    "editable": true,
    "run_control": {
     "frozen": false,
     "read_only": false
    }
   },
   "outputs": [],
   "source": [
    "def accepts_nfa(N, s, chatty=False):\n",
    "    \"\"\"NFA acceptance; if chatty, print accepting path\n",
    "       which is the state-sets encountered.\n",
    "    \"\"\"\n",
    "    Q0 = N[\"Q0\"]\n",
    "    if (run_nfa(N, Q0, s, chatty) & N[\"F\"]) != set({}):\n",
    "        if chatty:\n",
    "            print(\"NFA accepts '\" + s + \n",
    "                  \"' by reaching \" + \n",
    "                  str(run_nfa(N, Q0, s, False)))\n",
    "        return True\n",
    "    else:\n",
    "        if chatty:\n",
    "            print(\"NFA rejects '\" + s + \"'\")\n",
    "        return False"
   ]
  },
  {
   "cell_type": "code",
   "execution_count": 32,
   "metadata": {
    "collapsed": false,
    "editable": false,
    "run_control": {
     "frozen": false,
     "read_only": false
    }
   },
   "outputs": [
    {
     "data": {
      "text/plain": [
       "False"
      ]
     },
     "execution_count": 32,
     "metadata": {},
     "output_type": "execute_result"
    }
   ],
   "source": [
    "accepts_nfa(NFA_fig61ab, \"\")"
   ]
  },
  {
   "cell_type": "code",
   "execution_count": 33,
   "metadata": {
    "collapsed": false,
    "editable": false,
    "run_control": {
     "frozen": false,
     "read_only": false
    }
   },
   "outputs": [
    {
     "name": "stdout",
     "output_type": "stream",
     "text": [
      "NFA rejects ''\n"
     ]
    },
    {
     "data": {
      "text/plain": [
       "False"
      ]
     },
     "execution_count": 33,
     "metadata": {},
     "output_type": "execute_result"
    }
   ],
   "source": [
    "accepts_nfa(NFA_fig61ab, \"\", True)"
   ]
  },
  {
   "cell_type": "code",
   "execution_count": 34,
   "metadata": {
    "collapsed": false,
    "editable": false,
    "run_control": {
     "frozen": false,
     "read_only": false
    }
   },
   "outputs": [
    {
     "name": "stdout",
     "output_type": "stream",
     "text": [
      "States reached =  {'S0', 'I'}\n",
      "NFA rejects '0'\n"
     ]
    },
    {
     "data": {
      "text/plain": [
       "False"
      ]
     },
     "execution_count": 34,
     "metadata": {},
     "output_type": "execute_result"
    }
   ],
   "source": [
    "accepts_nfa(NFA_fig61ab, \"0\", True)"
   ]
  },
  {
   "cell_type": "code",
   "execution_count": 35,
   "metadata": {
    "collapsed": false,
    "editable": false,
    "run_control": {
     "frozen": false,
     "read_only": false
    }
   },
   "outputs": [
    {
     "name": "stdout",
     "output_type": "stream",
     "text": [
      "States reached =  {'S0', 'S1', 'I'}\n",
      "States reached =  {'S0', 'S2', 'I'}\n",
      "States reached =  {'S0', 'I', 'F'}\n",
      "NFA accepts '100' by reaching {'S0', 'I', 'F'}\n"
     ]
    },
    {
     "data": {
      "text/plain": [
       "True"
      ]
     },
     "execution_count": 35,
     "metadata": {},
     "output_type": "execute_result"
    }
   ],
   "source": [
    "accepts_nfa(NFA_fig61ab, \"100\", True)"
   ]
  },
  {
   "cell_type": "markdown",
   "metadata": {
    "collapsed": true,
    "editable": false,
    "run_control": {
     "frozen": false,
     "read_only": false
    }
   },
   "source": [
    "============================"
   ]
  },
  {
   "cell_type": "markdown",
   "metadata": {
    "editable": false,
    "run_control": {
     "frozen": false,
     "read_only": false
    }
   },
   "source": [
    " <span style=\"color:blue\"> **Ideally one likes to have an \"Recognizes a language\" test also, but we don't have enough machinery to specify \"a language\". Well one can specify \"a language\" through another DFA or NFA, but then we are asking about \"exactly the strings of the reference DFA D being accepted by the user-build DFA D1. I leave its implementation as an exercise, but you may wait till more material is covered, including regular expressions.** </span>"
   ]
  },
  {
   "cell_type": "markdown",
   "metadata": {
    "editable": false,
    "run_control": {
     "frozen": false,
     "read_only": false
    }
   },
   "source": [
    "## NFA complementation\n",
    "\n",
    "NFA complementation cannot be done by swapping final and non-final states. One may want to think of a suitable algorithm for NFA complementation (as an exercise). Solutions appear shortly."
   ]
  },
  {
   "cell_type": "markdown",
   "metadata": {
    "editable": false,
    "run_control": {
     "frozen": false,
     "read_only": false
    }
   },
   "source": [
    "\n",
    "## NFA Union, Concatenation, Star, and Reversal\n",
    "\n",
    "These operations have straightforward implementations, and not pursued here. We will be presenting union, concatenation and star quite naturally in the context of regular expressions. Reversal will be fun to write, and will be addressed sometime soon. \n",
    "\n",
    "We will devote the rest of the NFA section to introduce NFA to DFA conversion (called __determinize__).\n",
    "\n",
    "Once we achieve reversal and determinization, we can also implement Brzozowski's minimization algorithm for DFA:\n",
    "\n",
    "* Reverse a DFA\n",
    "* Determinize it\n",
    "* Reverse that DFA\n",
    "* Determinize it\n",
    "\n",
    "Presto, the result will be the minimal DFA corresponding to the original!  This will also be a fun routine to write.\n",
    "\n",
    "The proof that this construction works is given in [KamedaWeiner][KamedaWeinerNFAMin] where the authors present the proof along the way to presenting an NFA minimization algorithm. \n",
    "\n",
    "### The obvious question : Whither NFA Minimization?\n",
    "\n",
    "Unfortunately, the situation with NFA minimization is \"not as satisfactory as with DFA\" according to [Kozen][KozenGreatBook]. For instance, minimal NFA are not necessarily unique upto isomorphism. (BTW Kozen's book is one of the amazing gems in this field, and is highly recommended.)\n",
    "\n",
    "In one of my discussions with Prof. Alan Emerson, Turing award winner for being a co-discoverer of model checking (again using Wadler's \"discovery\" as opposed to \"invention\"; see my first book chapter), I learned the interesting fact that this is related to what prevents BDDs from being exponentially succinct always. (Curious - I should revisit on this with Emerson.)\n",
    "\n",
    "[KozenGreatBook]: http://www.springer.com/us/book/9783642857065\n",
    "\n",
    "[KamedaWeinerNFAMin]: http://ieeexplore.ieee.org/stamp/stamp.jsp?arnumber=1671587"
   ]
  },
  {
   "cell_type": "markdown",
   "metadata": {
    "editable": false,
    "run_control": {
     "frozen": false,
     "read_only": false
    }
   },
   "source": [
    "# NFA to DFA conversion\n",
    "\n",
    "This is one of the most important of NFA-related operations. It will have a lot in common with running NFA where the computation of EClosure was involved in every step.\n",
    "\n"
   ]
  },
  {
   "cell_type": "code",
   "execution_count": 36,
   "metadata": {
    "collapsed": false,
    "editable": true,
    "run_control": {
     "frozen": false,
     "read_only": false
    }
   },
   "outputs": [],
   "source": [
    "def nfa2dfa(N):\n",
    "    \"\"\"In : N (consistent NFA)\n",
    "       Out: A consistent DFA that is language-equivalent to N.\n",
    "    \"\"\"\n",
    "    assert(\n",
    "        is_consistent_nfa(N)\n",
    "    ), \"nfa2dfa was given an inconsistent NFA.\"\n",
    "    # EClose the starting state of the NFA\n",
    "    EC = Eclosure(N, N[\"Q0\"])\n",
    "    return n2d(Frontier=[EC], Visited=[EC], Delta=dict({}), Nfa=N)"
   ]
  },
  {
   "cell_type": "code",
   "execution_count": 37,
   "metadata": {
    "collapsed": false,
    "editable": true,
    "run_control": {
     "frozen": false,
     "read_only": false
    }
   },
   "outputs": [],
   "source": [
    "def n2d(Frontier, Visited, Delta, Nfa):\n",
    "    \"\"\"In : Frontier (list of state sets; initially Eclosed Q0)\n",
    "            Visited  (list of visited state sets; initially Eclosed Q0)\n",
    "            Delta    (the DFA transition function being formed)\n",
    "            Nfa      (the NFA being converted)\n",
    "       Helper to nfa2dfa. Given a (BFS) frontier, a Visited\n",
    "       set of states, the Delta being formed, and NFA Nfa, see\n",
    "       if all new moves are in Visited: \n",
    "         do last gasp of Delta update; make and return a DFA;\n",
    "       else: extend Frontier, Visited, Delta; recurse.\n",
    "    \"\"\"\n",
    "    All_c_Moves = [ ((Q,c),ec_step_nfa(Nfa,Q,c)) \n",
    "                   for Q in Frontier \n",
    "                   for c in Nfa[\"Sigma\"] ]\n",
    "    New_c_Moves = list(filter(lambda QcQ: trTrg(QcQ) not in Visited, \n",
    "                              All_c_Moves))  \n",
    "    if New_c_Moves == []:\n",
    "        # Add last-gasp c-moves that curl back!\n",
    "        last_gasp_c_moves = dict([ ((mkSSnam(Qfrom),c),mkSSnam(Qto)) \n",
    "                                  for ((Qfrom, c), Qto) in All_c_Moves ])\n",
    "        Delta.update(last_gasp_c_moves)\n",
    "                  \n",
    "        # DFA states are visited states\n",
    "        DFA_Q = { mkSSnam(Q) for Q in Visited }\n",
    "                  \n",
    "        # Retain alphabet\n",
    "        DFA_Sigma = Nfa[\"Sigma\"]\n",
    "                  \n",
    "        # Delta is ready to go\n",
    "        DFA_Delta = Delta\n",
    "                  \n",
    "        # DFA starts at Eclosure of Nfa's Q0 set of states\n",
    "        DFA_q0 = mkSSnam(Eclosure(Nfa, Nfa[\"Q0\"]))\n",
    "                  \n",
    "        # DFA's final states are those in visited that contain an NFA \n",
    "        # F-state but don't retain any empty sets, in case the NFA given \n",
    "        # has no F-states!\n",
    "        # This is another corner-case (i.e. don't shove-in black hole \n",
    "        # states!)\n",
    "        DFA_F = set(map(lambda Q: mkSSnam(Q), \n",
    "                        filter(lambda Q: (Nfa[\"F\"]&Q) != set({}), \n",
    "                               Visited)))\n",
    "                  \n",
    "        # Make the DFA; send it to the DFA-shrink to bask ugly long \n",
    "        # state names...\n",
    "        return shrink_dfastates(mk_dfa(DFA_Q, \n",
    "                                       DFA_Sigma, \n",
    "                                       DFA_Delta, \n",
    "                                       DFA_q0, \n",
    "                                       DFA_F))\n",
    "    else:\n",
    "        newFrontier = list(map(lambda QcQ: trTrg(QcQ), New_c_Moves)) \n",
    "        newVisited = Visited + newFrontier\n",
    "                  \n",
    "        # Even though the NFA has not closed back on itself, we MUST \n",
    "        # accommodate for the \"curl-backs\" along the way !!  Thus, run it\n",
    "        # over All_c_Moves which may include \"partial revisits along the \n",
    "        # way\". We MUST pick up those curl-backs!\n",
    "        NewMovesDelta = dict([ ((mkSSnam(Qfrom),c),mkSSnam(Qto)) \n",
    "                              for ((Qfrom, c), Qto) in All_c_Moves ]) \n",
    "        Delta.update(NewMovesDelta)\n",
    "        return n2d(newFrontier, newVisited, Delta, Nfa)\n",
    "                                  \n",
    "#---NFA to DFA"
   ]
  },
  {
   "cell_type": "code",
   "execution_count": 38,
   "metadata": {
    "collapsed": false,
    "editable": false,
    "run_control": {
     "frozen": false,
     "read_only": false
    }
   },
   "outputs": [
    {
     "data": {
      "image/svg+xml": [
       "<?xml version=\"1.0\" encoding=\"UTF-8\" standalone=\"no\"?>\n",
       "<!DOCTYPE svg PUBLIC \"-//W3C//DTD SVG 1.1//EN\"\n",
       " \"http://www.w3.org/Graphics/SVG/1.1/DTD/svg11.dtd\">\n",
       "<!-- Generated by graphviz version 2.38.0 (20140413.2041)\n",
       " -->\n",
       "<!-- Title: %3 Pages: 1 -->\n",
       "<svg width=\"570pt\" height=\"116pt\"\n",
       " viewBox=\"0.00 0.00 570.12 116.34\" xmlns=\"http://www.w3.org/2000/svg\" xmlns:xlink=\"http://www.w3.org/1999/xlink\">\n",
       "<g id=\"graph0\" class=\"graph\" transform=\"scale(1 1) rotate(0) translate(4 112.342)\">\n",
       "<title>%3</title>\n",
       "<polygon fill=\"white\" stroke=\"none\" points=\"-4,4 -4,-112.342 566.115,-112.342 566.115,4 -4,4\"/>\n",
       "<!-- EMPTY -->\n",
       "<g id=\"node1\" class=\"node\"><title>EMPTY</title>\n",
       "</g>\n",
       "<!-- A0 -->\n",
       "<g id=\"node6\" class=\"node\"><title>A0</title>\n",
       "<ellipse fill=\"none\" stroke=\"black\" cx=\"111.915\" cy=\"-55.915\" rx=\"20.8304\" ry=\"20.8304\"/>\n",
       "<text text-anchor=\"middle\" x=\"111.915\" y=\"-51.715\" font-family=\"Times,serif\" font-size=\"14.00\">A0</text>\n",
       "</g>\n",
       "<!-- EMPTY&#45;&gt;A0 -->\n",
       "<g id=\"edge1\" class=\"edge\"><title>EMPTY&#45;&gt;A0</title>\n",
       "<path fill=\"none\" stroke=\"black\" d=\"M54.2348,-55.915C62.6673,-55.915 72.0756,-55.915 80.766,-55.915\"/>\n",
       "<polygon fill=\"black\" stroke=\"black\" points=\"80.8965,-59.4151 90.8965,-55.915 80.8964,-52.4151 80.8965,-59.4151\"/>\n",
       "</g>\n",
       "<!-- B1 -->\n",
       "<g id=\"node2\" class=\"node\"><title>B1</title>\n",
       "<ellipse fill=\"none\" stroke=\"black\" cx=\"364.941\" cy=\"-87.915\" rx=\"20.3544\" ry=\"20.3544\"/>\n",
       "<text text-anchor=\"middle\" x=\"364.941\" y=\"-83.715\" font-family=\"Times,serif\" font-size=\"14.00\">B1</text>\n",
       "</g>\n",
       "<!-- B2 -->\n",
       "<g id=\"node4\" class=\"node\"><title>B2</title>\n",
       "<ellipse fill=\"none\" stroke=\"black\" cx=\"454.688\" cy=\"-87.915\" rx=\"20.3544\" ry=\"20.3544\"/>\n",
       "<text text-anchor=\"middle\" x=\"454.688\" y=\"-83.715\" font-family=\"Times,serif\" font-size=\"14.00\">B2</text>\n",
       "</g>\n",
       "<!-- B1&#45;&gt;B2 -->\n",
       "<g id=\"edge6\" class=\"edge\"><title>B1&#45;&gt;B2</title>\n",
       "<path fill=\"none\" stroke=\"black\" d=\"M385.415,-87.915C396.697,-87.915 411.134,-87.915 423.824,-87.915\"/>\n",
       "<polygon fill=\"black\" stroke=\"black\" points=\"423.965,-91.4151 433.965,-87.915 423.965,-84.4151 423.965,-91.4151\"/>\n",
       "<text text-anchor=\"middle\" x=\"409.815\" y=\"-90.715\" font-family=\"Times,serif\" font-size=\"14.00\">1</text>\n",
       "</g>\n",
       "<!-- A1 -->\n",
       "<g id=\"node3\" class=\"node\"><title>A1</title>\n",
       "<ellipse fill=\"none\" stroke=\"black\" cx=\"196.745\" cy=\"-20.915\" rx=\"20.8304\" ry=\"20.8304\"/>\n",
       "<text text-anchor=\"middle\" x=\"196.745\" y=\"-16.715\" font-family=\"Times,serif\" font-size=\"14.00\">A1</text>\n",
       "</g>\n",
       "<!-- B0 -->\n",
       "<g id=\"node5\" class=\"node\"><title>B0</title>\n",
       "<ellipse fill=\"none\" stroke=\"black\" cx=\"281.087\" cy=\"-55.915\" rx=\"20.3544\" ry=\"20.3544\"/>\n",
       "<text text-anchor=\"middle\" x=\"281.087\" y=\"-51.715\" font-family=\"Times,serif\" font-size=\"14.00\">B0</text>\n",
       "</g>\n",
       "<!-- A1&#45;&gt;B0 -->\n",
       "<g id=\"edge3\" class=\"edge\"><title>A1&#45;&gt;B0</title>\n",
       "<path fill=\"none\" stroke=\"black\" d=\"M216.43,-28.8571C227.106,-33.3951 240.692,-39.17 252.569,-44.2183\"/>\n",
       "<polygon fill=\"black\" stroke=\"black\" points=\"251.47,-47.5541 262.042,-48.2449 254.208,-41.1119 251.47,-47.5541\"/>\n",
       "<text text-anchor=\"middle\" x=\"239.16\" y=\"-42.715\" font-family=\"Times,serif\" font-size=\"14.00\">0</text>\n",
       "</g>\n",
       "<!-- F -->\n",
       "<g id=\"node7\" class=\"node\"><title>F</title>\n",
       "<ellipse fill=\"none\" stroke=\"black\" cx=\"540.115\" cy=\"-59.915\" rx=\"18\" ry=\"18\"/>\n",
       "<ellipse fill=\"none\" stroke=\"black\" cx=\"540.115\" cy=\"-59.915\" rx=\"22\" ry=\"22\"/>\n",
       "<text text-anchor=\"middle\" x=\"540.115\" y=\"-55.715\" font-family=\"Times,serif\" font-size=\"14.00\">F</text>\n",
       "</g>\n",
       "<!-- B2&#45;&gt;F -->\n",
       "<g id=\"edge7\" class=\"edge\"><title>B2&#45;&gt;F</title>\n",
       "<path fill=\"none\" stroke=\"black\" d=\"M474.203,-81.7009C484.451,-78.2616 497.437,-73.9032 509.097,-69.9898\"/>\n",
       "<polygon fill=\"black\" stroke=\"black\" points=\"510.533,-73.1997 518.9,-66.6997 508.306,-66.5635 510.533,-73.1997\"/>\n",
       "<text text-anchor=\"middle\" x=\"496.615\" y=\"-76.715\" font-family=\"Times,serif\" font-size=\"14.00\">1</text>\n",
       "</g>\n",
       "<!-- B0&#45;&gt;B1 -->\n",
       "<g id=\"edge5\" class=\"edge\"><title>B0&#45;&gt;B1</title>\n",
       "<path fill=\"none\" stroke=\"black\" d=\"M300.253,-63.0169C310.777,-67.131 324.245,-72.3961 336.083,-77.024\"/>\n",
       "<polygon fill=\"black\" stroke=\"black\" points=\"334.955,-80.341 345.543,-80.7224 337.504,-73.8215 334.955,-80.341\"/>\n",
       "<text text-anchor=\"middle\" x=\"323.014\" y=\"-74.715\" font-family=\"Times,serif\" font-size=\"14.00\">1</text>\n",
       "</g>\n",
       "<!-- B0&#45;&gt;A0 -->\n",
       "<g id=\"edge4\" class=\"edge\"><title>B0&#45;&gt;A0</title>\n",
       "<path fill=\"none\" stroke=\"black\" d=\"M260.67,-57.1501C254.878,-57.4651 248.514,-57.7587 242.66,-57.915 201.861,-59.0043 191.629,-58.9903 150.83,-57.915 148.293,-57.8482 145.662,-57.7562 143.022,-57.6481\"/>\n",
       "<polygon fill=\"black\" stroke=\"black\" points=\"143.133,-54.1495 132.978,-57.1711 142.8,-61.1417 143.133,-54.1495\"/>\n",
       "<text text-anchor=\"middle\" x=\"196.745\" y=\"-60.715\" font-family=\"Times,serif\" font-size=\"14.00\">@</text>\n",
       "</g>\n",
       "<!-- A0&#45;&gt;A1 -->\n",
       "<g id=\"edge2\" class=\"edge\"><title>A0&#45;&gt;A1</title>\n",
       "<path fill=\"none\" stroke=\"black\" d=\"M131.71,-47.973C142.375,-43.4665 155.927,-37.7402 167.815,-32.717\"/>\n",
       "<polygon fill=\"black\" stroke=\"black\" points=\"169.46,-35.8214 177.309,-28.7051 166.736,-29.3734 169.46,-35.8214\"/>\n",
       "<text text-anchor=\"middle\" x=\"154.33\" y=\"-42.715\" font-family=\"Times,serif\" font-size=\"14.00\">0</text>\n",
       "</g>\n",
       "<!-- F&#45;&gt;B0 -->\n",
       "<g id=\"edge8\" class=\"edge\"><title>F&#45;&gt;B0</title>\n",
       "<path fill=\"none\" stroke=\"black\" d=\"M518.073,-59.5858C505.587,-59.3906 489.448,-59.1384 475.115,-58.915 417.316,-58.0143 349.781,-56.9655 311.865,-56.3771\"/>\n",
       "<polygon fill=\"black\" stroke=\"black\" points=\"311.593,-52.8725 301.54,-56.2168 311.485,-59.8717 311.593,-52.8725\"/>\n",
       "<text text-anchor=\"middle\" x=\"409.815\" y=\"-60.715\" font-family=\"Times,serif\" font-size=\"14.00\">@</text>\n",
       "</g>\n",
       "</g>\n",
       "</svg>\n"
      ],
      "text/plain": [
       "<graphviz.dot.Digraph at 0x111163a58>"
      ]
     },
     "execution_count": 38,
     "metadata": {},
     "output_type": "execute_result"
    }
   ],
   "source": [
    "dotObj_nfa(NFA23, visible_eps=True, nfaName=\"NFA23\")"
   ]
  },
  {
   "cell_type": "code",
   "execution_count": 39,
   "metadata": {
    "collapsed": false,
    "run_control": {
     "frozen": false,
     "read_only": false
    }
   },
   "outputs": [
    {
     "data": {
      "image/svg+xml": [
       "<?xml version=\"1.0\" encoding=\"UTF-8\" standalone=\"no\"?>\n",
       "<!DOCTYPE svg PUBLIC \"-//W3C//DTD SVG 1.1//EN\"\n",
       " \"http://www.w3.org/Graphics/SVG/1.1/DTD/svg11.dtd\">\n",
       "<!-- Generated by graphviz version 2.38.0 (20140413.2041)\n",
       " -->\n",
       "<!-- Title: %3 Pages: 1 -->\n",
       "<svg width=\"564pt\" height=\"110pt\"\n",
       " viewBox=\"0.00 0.00 564.22 110.34\" xmlns=\"http://www.w3.org/2000/svg\" xmlns:xlink=\"http://www.w3.org/1999/xlink\">\n",
       "<g id=\"graph0\" class=\"graph\" transform=\"scale(1 1) rotate(0) translate(4 106.342)\">\n",
       "<title>%3</title>\n",
       "<polygon fill=\"white\" stroke=\"none\" points=\"-4,4 -4,-106.342 560.223,-106.342 560.223,4 -4,4\"/>\n",
       "<!-- EMPTY -->\n",
       "<g id=\"node1\" class=\"node\"><title>EMPTY</title>\n",
       "</g>\n",
       "<!-- A0 -->\n",
       "<g id=\"node6\" class=\"node\"><title>A0</title>\n",
       "<ellipse fill=\"none\" stroke=\"black\" cx=\"111.915\" cy=\"-49.915\" rx=\"20.8304\" ry=\"20.8304\"/>\n",
       "<text text-anchor=\"middle\" x=\"111.915\" y=\"-45.715\" font-family=\"Times,serif\" font-size=\"14.00\">A0</text>\n",
       "</g>\n",
       "<!-- EMPTY&#45;&gt;A0 -->\n",
       "<g id=\"edge1\" class=\"edge\"><title>EMPTY&#45;&gt;A0</title>\n",
       "<path fill=\"none\" stroke=\"black\" d=\"M54.2348,-49.915C62.6673,-49.915 72.0756,-49.915 80.766,-49.915\"/>\n",
       "<polygon fill=\"black\" stroke=\"black\" points=\"80.8965,-53.4151 90.8965,-49.915 80.8964,-46.4151 80.8965,-53.4151\"/>\n",
       "</g>\n",
       "<!-- B1 -->\n",
       "<g id=\"node2\" class=\"node\"><title>B1</title>\n",
       "<ellipse fill=\"none\" stroke=\"black\" cx=\"364.941\" cy=\"-81.915\" rx=\"20.3544\" ry=\"20.3544\"/>\n",
       "<text text-anchor=\"middle\" x=\"364.941\" y=\"-77.715\" font-family=\"Times,serif\" font-size=\"14.00\">B1</text>\n",
       "</g>\n",
       "<!-- B2 -->\n",
       "<g id=\"node4\" class=\"node\"><title>B2</title>\n",
       "<ellipse fill=\"none\" stroke=\"black\" cx=\"448.795\" cy=\"-81.915\" rx=\"20.3544\" ry=\"20.3544\"/>\n",
       "<text text-anchor=\"middle\" x=\"448.795\" y=\"-77.715\" font-family=\"Times,serif\" font-size=\"14.00\">B2</text>\n",
       "</g>\n",
       "<!-- B1&#45;&gt;B2 -->\n",
       "<g id=\"edge6\" class=\"edge\"><title>B1&#45;&gt;B2</title>\n",
       "<path fill=\"none\" stroke=\"black\" d=\"M385.756,-81.915C395.408,-81.915 407.218,-81.915 417.933,-81.915\"/>\n",
       "<polygon fill=\"black\" stroke=\"black\" points=\"418.163,-85.4151 428.163,-81.915 418.163,-78.4151 418.163,-85.4151\"/>\n",
       "<text text-anchor=\"middle\" x=\"406.868\" y=\"-84.715\" font-family=\"Times,serif\" font-size=\"14.00\">1</text>\n",
       "</g>\n",
       "<!-- A1 -->\n",
       "<g id=\"node3\" class=\"node\"><title>A1</title>\n",
       "<ellipse fill=\"none\" stroke=\"black\" cx=\"196.745\" cy=\"-20.915\" rx=\"20.8304\" ry=\"20.8304\"/>\n",
       "<text text-anchor=\"middle\" x=\"196.745\" y=\"-16.715\" font-family=\"Times,serif\" font-size=\"14.00\">A1</text>\n",
       "</g>\n",
       "<!-- B0 -->\n",
       "<g id=\"node5\" class=\"node\"><title>B0</title>\n",
       "<ellipse fill=\"none\" stroke=\"black\" cx=\"281.087\" cy=\"-49.915\" rx=\"20.3544\" ry=\"20.3544\"/>\n",
       "<text text-anchor=\"middle\" x=\"281.087\" y=\"-45.715\" font-family=\"Times,serif\" font-size=\"14.00\">B0</text>\n",
       "</g>\n",
       "<!-- A1&#45;&gt;B0 -->\n",
       "<g id=\"edge3\" class=\"edge\"><title>A1&#45;&gt;B0</title>\n",
       "<path fill=\"none\" stroke=\"black\" d=\"M216.843,-27.6411C227.279,-31.3164 240.401,-35.9378 251.983,-40.0171\"/>\n",
       "<polygon fill=\"black\" stroke=\"black\" points=\"251.064,-43.4042 261.659,-43.4249 253.39,-36.8017 251.064,-43.4042\"/>\n",
       "<text text-anchor=\"middle\" x=\"239.16\" y=\"-39.715\" font-family=\"Times,serif\" font-size=\"14.00\">0</text>\n",
       "</g>\n",
       "<!-- F -->\n",
       "<g id=\"node7\" class=\"node\"><title>F</title>\n",
       "<ellipse fill=\"none\" stroke=\"black\" cx=\"534.223\" cy=\"-53.915\" rx=\"18\" ry=\"18\"/>\n",
       "<ellipse fill=\"none\" stroke=\"black\" cx=\"534.223\" cy=\"-53.915\" rx=\"22\" ry=\"22\"/>\n",
       "<text text-anchor=\"middle\" x=\"534.223\" y=\"-49.715\" font-family=\"Times,serif\" font-size=\"14.00\">F</text>\n",
       "</g>\n",
       "<!-- B2&#45;&gt;F -->\n",
       "<g id=\"edge7\" class=\"edge\"><title>B2&#45;&gt;F</title>\n",
       "<path fill=\"none\" stroke=\"black\" d=\"M468.311,-75.7009C478.558,-72.2616 491.544,-67.9032 503.204,-63.9898\"/>\n",
       "<polygon fill=\"black\" stroke=\"black\" points=\"504.641,-67.1997 513.007,-60.6997 502.413,-60.5635 504.641,-67.1997\"/>\n",
       "<text text-anchor=\"middle\" x=\"490.723\" y=\"-70.715\" font-family=\"Times,serif\" font-size=\"14.00\">1</text>\n",
       "</g>\n",
       "<!-- B0&#45;&gt;B1 -->\n",
       "<g id=\"edge5\" class=\"edge\"><title>B0&#45;&gt;B1</title>\n",
       "<path fill=\"none\" stroke=\"black\" d=\"M300.253,-57.0169C310.777,-61.131 324.245,-66.3961 336.083,-71.024\"/>\n",
       "<polygon fill=\"black\" stroke=\"black\" points=\"334.955,-74.341 345.543,-74.7224 337.504,-67.8215 334.955,-74.341\"/>\n",
       "<text text-anchor=\"middle\" x=\"323.014\" y=\"-68.715\" font-family=\"Times,serif\" font-size=\"14.00\">1</text>\n",
       "</g>\n",
       "<!-- B0&#45;&gt;A0 -->\n",
       "<g id=\"edge4\" class=\"edge\"><title>B0&#45;&gt;A0</title>\n",
       "<path fill=\"none\" stroke=\"black\" d=\"M260.711,-53.0018C254.921,-53.7893 248.547,-54.5235 242.66,-54.915 201.937,-57.6232 191.556,-57.5888 150.83,-54.915 148.279,-54.7476 145.638,-54.5174 142.992,-54.2471\"/>\n",
       "<polygon fill=\"black\" stroke=\"black\" points=\"143.28,-50.7568 132.937,-53.0542 142.455,-57.7081 143.28,-50.7568\"/>\n",
       "</g>\n",
       "<!-- A0&#45;&gt;A1 -->\n",
       "<g id=\"edge2\" class=\"edge\"><title>A0&#45;&gt;A1</title>\n",
       "<path fill=\"none\" stroke=\"black\" d=\"M132.126,-43.1889C142.476,-39.5654 155.452,-35.0222 166.981,-30.9856\"/>\n",
       "<polygon fill=\"black\" stroke=\"black\" points=\"168.357,-34.2125 176.638,-27.6046 166.043,-27.6058 168.357,-34.2125\"/>\n",
       "<text text-anchor=\"middle\" x=\"154.33\" y=\"-39.715\" font-family=\"Times,serif\" font-size=\"14.00\">0</text>\n",
       "</g>\n",
       "<!-- F&#45;&gt;B0 -->\n",
       "<g id=\"edge8\" class=\"edge\"><title>F&#45;&gt;B0</title>\n",
       "<path fill=\"none\" stroke=\"black\" d=\"M512.202,-53.5802C467.608,-52.8699 363.403,-51.2102 311.935,-50.3904\"/>\n",
       "<polygon fill=\"black\" stroke=\"black\" points=\"311.848,-46.8887 301.793,-50.2289 311.736,-53.8878 311.848,-46.8887\"/>\n",
       "</g>\n",
       "</g>\n",
       "</svg>\n"
      ],
      "text/plain": [
       "<graphviz.dot.Digraph at 0x111163908>"
      ]
     },
     "execution_count": 39,
     "metadata": {},
     "output_type": "execute_result"
    }
   ],
   "source": [
    "dotObj_nfa(NFA23, visible_eps=False, nfaName=\"NFA23\")"
   ]
  },
  {
   "cell_type": "code",
   "execution_count": 40,
   "metadata": {
    "collapsed": false,
    "editable": false,
    "run_control": {
     "frozen": false,
     "read_only": false
    }
   },
   "outputs": [
    {
     "data": {
      "image/svg+xml": [
       "<?xml version=\"1.0\" encoding=\"UTF-8\" standalone=\"no\"?>\n",
       "<!DOCTYPE svg PUBLIC \"-//W3C//DTD SVG 1.1//EN\"\n",
       " \"http://www.w3.org/Graphics/SVG/1.1/DTD/svg11.dtd\">\n",
       "<!-- Generated by graphviz version 2.38.0 (20140413.2041)\n",
       " -->\n",
       "<!-- Title: %3 Pages: 1 -->\n",
       "<svg width=\"649pt\" height=\"129pt\"\n",
       " viewBox=\"0.00 0.00 648.68 129.42\" xmlns=\"http://www.w3.org/2000/svg\" xmlns:xlink=\"http://www.w3.org/1999/xlink\">\n",
       "<g id=\"graph0\" class=\"graph\" transform=\"scale(1 1) rotate(0) translate(4 125.424)\">\n",
       "<title>%3</title>\n",
       "<polygon fill=\"white\" stroke=\"none\" points=\"-4,4 -4,-125.424 644.677,-125.424 644.677,4 -4,4\"/>\n",
       "<!-- EMPTY -->\n",
       "<g id=\"node1\" class=\"node\"><title>EMPTY</title>\n",
       "</g>\n",
       "<!-- A0 -->\n",
       "<g id=\"node6\" class=\"node\"><title>A0</title>\n",
       "<ellipse fill=\"none\" stroke=\"black\" cx=\"111.915\" cy=\"-35.9971\" rx=\"20.8304\" ry=\"20.8304\"/>\n",
       "<text text-anchor=\"middle\" x=\"111.915\" y=\"-31.7971\" font-family=\"Times,serif\" font-size=\"14.00\">A0</text>\n",
       "</g>\n",
       "<!-- EMPTY&#45;&gt;A0 -->\n",
       "<g id=\"edge1\" class=\"edge\"><title>EMPTY&#45;&gt;A0</title>\n",
       "<path fill=\"none\" stroke=\"black\" d=\"M54.2348,-35.9971C62.6673,-35.9971 72.0756,-35.9971 80.766,-35.9971\"/>\n",
       "<polygon fill=\"black\" stroke=\"black\" points=\"80.8965,-39.4972 90.8965,-35.9971 80.8964,-32.4972 80.8965,-39.4972\"/>\n",
       "</g>\n",
       "<!-- B1 -->\n",
       "<g id=\"node2\" class=\"node\"><title>B1</title>\n",
       "<ellipse fill=\"none\" stroke=\"black\" cx=\"395.401\" cy=\"-69.9971\" rx=\"20.3544\" ry=\"20.3544\"/>\n",
       "<text text-anchor=\"middle\" x=\"395.401\" y=\"-65.7971\" font-family=\"Times,serif\" font-size=\"14.00\">B1</text>\n",
       "</g>\n",
       "<!-- B2 -->\n",
       "<g id=\"node4\" class=\"node\"><title>B2</title>\n",
       "<ellipse fill=\"none\" stroke=\"black\" cx=\"479.255\" cy=\"-100.997\" rx=\"20.3544\" ry=\"20.3544\"/>\n",
       "<text text-anchor=\"middle\" x=\"479.255\" y=\"-96.7971\" font-family=\"Times,serif\" font-size=\"14.00\">B2</text>\n",
       "</g>\n",
       "<!-- B1&#45;&gt;B2 -->\n",
       "<g id=\"edge6\" class=\"edge\"><title>B1&#45;&gt;B2</title>\n",
       "<path fill=\"none\" stroke=\"black\" d=\"M414.975,-77.0314C425.336,-80.9553 438.454,-85.9234 450.056,-90.3175\"/>\n",
       "<polygon fill=\"black\" stroke=\"black\" points=\"449.163,-93.7218 459.755,-93.9905 451.643,-87.1756 449.163,-93.7218\"/>\n",
       "<text text-anchor=\"middle\" x=\"437.328\" y=\"-88.7971\" font-family=\"Times,serif\" font-size=\"14.00\">1</text>\n",
       "</g>\n",
       "<!-- A1 -->\n",
       "<g id=\"node3\" class=\"node\"><title>A1</title>\n",
       "<ellipse fill=\"none\" stroke=\"black\" cx=\"196.745\" cy=\"-35.9971\" rx=\"20.8304\" ry=\"20.8304\"/>\n",
       "<text text-anchor=\"middle\" x=\"196.745\" y=\"-31.7971\" font-family=\"Times,serif\" font-size=\"14.00\">A1</text>\n",
       "</g>\n",
       "<!-- A0_B0 -->\n",
       "<g id=\"node5\" class=\"node\"><title>A0_B0</title>\n",
       "<ellipse fill=\"none\" stroke=\"black\" cx=\"296.317\" cy=\"-69.9971\" rx=\"35.8147\" ry=\"35.8147\"/>\n",
       "<text text-anchor=\"middle\" x=\"296.317\" y=\"-65.7971\" font-family=\"Times,serif\" font-size=\"14.00\">A0_B0</text>\n",
       "</g>\n",
       "<!-- A1&#45;&gt;A0_B0 -->\n",
       "<g id=\"edge3\" class=\"edge\"><title>A1&#45;&gt;A0_B0</title>\n",
       "<path fill=\"none\" stroke=\"black\" d=\"M216.549,-43.7301C222.616,-46.1461 229.392,-48.7621 235.66,-50.9971 240.971,-52.8909 246.579,-54.7974 252.146,-56.6337\"/>\n",
       "<polygon fill=\"black\" stroke=\"black\" points=\"251.457,-60.0895 262.049,-59.8451 253.616,-53.4309 251.457,-60.0895\"/>\n",
       "<text text-anchor=\"middle\" x=\"239.16\" y=\"-56.7971\" font-family=\"Times,serif\" font-size=\"14.00\">0</text>\n",
       "</g>\n",
       "<!-- A0_B0_F -->\n",
       "<g id=\"node7\" class=\"node\"><title>A0_B0_F</title>\n",
       "<ellipse fill=\"none\" stroke=\"black\" cx=\"591.679\" cy=\"-48.9971\" rx=\"44.9944\" ry=\"44.9944\"/>\n",
       "<ellipse fill=\"none\" stroke=\"black\" cx=\"591.679\" cy=\"-48.9971\" rx=\"48.9941\" ry=\"48.9941\"/>\n",
       "<text text-anchor=\"middle\" x=\"591.679\" y=\"-44.7971\" font-family=\"Times,serif\" font-size=\"14.00\">A0_B0_F</text>\n",
       "</g>\n",
       "<!-- B2&#45;&gt;A0_B0_F -->\n",
       "<g id=\"edge7\" class=\"edge\"><title>B2&#45;&gt;A0_B0_F</title>\n",
       "<path fill=\"none\" stroke=\"black\" d=\"M497.997,-92.6424C508.799,-87.5554 523.225,-80.7622 537.472,-74.0529\"/>\n",
       "<polygon fill=\"black\" stroke=\"black\" points=\"539.213,-77.1018 546.769,-69.6749 536.231,-70.7688 539.213,-77.1018\"/>\n",
       "<text text-anchor=\"middle\" x=\"521.182\" y=\"-84.7971\" font-family=\"Times,serif\" font-size=\"14.00\">1</text>\n",
       "</g>\n",
       "<!-- A0_B0&#45;&gt;B1 -->\n",
       "<g id=\"edge4\" class=\"edge\"><title>A0_B0&#45;&gt;B1</title>\n",
       "<path fill=\"none\" stroke=\"black\" d=\"M332.092,-69.9971C342.753,-69.9971 354.38,-69.9971 364.671,-69.9971\"/>\n",
       "<polygon fill=\"black\" stroke=\"black\" points=\"364.817,-73.4972 374.817,-69.9971 364.817,-66.4972 364.817,-73.4972\"/>\n",
       "<text text-anchor=\"middle\" x=\"353.474\" y=\"-72.7971\" font-family=\"Times,serif\" font-size=\"14.00\">1</text>\n",
       "</g>\n",
       "<!-- A0_B0&#45;&gt;A1 -->\n",
       "<g id=\"edge5\" class=\"edge\"><title>A0_B0&#45;&gt;A1</title>\n",
       "<path fill=\"none\" stroke=\"black\" d=\"M268.889,-46.7439C260.979,-41.1397 251.928,-35.9277 242.66,-32.9971 237.882,-31.4862 232.679,-30.9204 227.565,-30.9211\"/>\n",
       "<polygon fill=\"black\" stroke=\"black\" points=\"227.101,-27.4441 217.354,-31.5968 227.563,-34.4288 227.101,-27.4441\"/>\n",
       "<text text-anchor=\"middle\" x=\"239.16\" y=\"-35.7971\" font-family=\"Times,serif\" font-size=\"14.00\">0</text>\n",
       "</g>\n",
       "<!-- A0&#45;&gt;A1 -->\n",
       "<g id=\"edge2\" class=\"edge\"><title>A0&#45;&gt;A1</title>\n",
       "<path fill=\"none\" stroke=\"black\" d=\"M132.966,-35.9971C142.661,-35.9971 154.508,-35.9971 165.287,-35.9971\"/>\n",
       "<polygon fill=\"black\" stroke=\"black\" points=\"165.592,-39.4972 175.592,-35.9971 165.592,-32.4972 165.592,-39.4972\"/>\n",
       "<text text-anchor=\"middle\" x=\"154.33\" y=\"-38.7971\" font-family=\"Times,serif\" font-size=\"14.00\">0</text>\n",
       "</g>\n",
       "<!-- A0_B0_F&#45;&gt;B1 -->\n",
       "<g id=\"edge8\" class=\"edge\"><title>A0_B0_F&#45;&gt;B1</title>\n",
       "<path fill=\"none\" stroke=\"black\" d=\"M542.63,-50.8691C517.577,-52.2006 486.474,-54.41 458.828,-57.9971 447.829,-59.4242 435.845,-61.5803 425.344,-63.6729\"/>\n",
       "<polygon fill=\"black\" stroke=\"black\" points=\"424.517,-60.2696 415.429,-65.7152 425.93,-67.1257 424.517,-60.2696\"/>\n",
       "<text text-anchor=\"middle\" x=\"479.255\" y=\"-60.7971\" font-family=\"Times,serif\" font-size=\"14.00\">1</text>\n",
       "</g>\n",
       "<!-- A0_B0_F&#45;&gt;A1 -->\n",
       "<g id=\"edge9\" class=\"edge\"><title>A0_B0_F&#45;&gt;A1</title>\n",
       "<path fill=\"none\" stroke=\"black\" d=\"M549.858,-23.0395C529.707,-12.6054 504.554,-2.99706 480.255,-2.99706 295.317,-2.99706 295.317,-2.99706 295.317,-2.99706 270.382,-2.99706 243.662,-12.7878 224.5,-21.7035\"/>\n",
       "<polygon fill=\"black\" stroke=\"black\" points=\"222.938,-18.571 215.48,-26.096 226.003,-24.8645 222.938,-18.571\"/>\n",
       "<text text-anchor=\"middle\" x=\"395.401\" y=\"-5.79706\" font-family=\"Times,serif\" font-size=\"14.00\">0</text>\n",
       "</g>\n",
       "</g>\n",
       "</svg>\n"
      ],
      "text/plain": [
       "<graphviz.dot.Digraph at 0x111163dd8>"
      ]
     },
     "execution_count": 40,
     "metadata": {},
     "output_type": "execute_result"
    }
   ],
   "source": [
    "n2DFA23 = nfa2dfa(NFA23)\n",
    "dotObj_dfa(n2DFA23, \"n2dNFA23\")"
   ]
  },
  {
   "cell_type": "code",
   "execution_count": 41,
   "metadata": {
    "collapsed": false,
    "editable": false,
    "run_control": {
     "frozen": false,
     "read_only": false
    }
   },
   "outputs": [
    {
     "data": {
      "image/svg+xml": [
       "<?xml version=\"1.0\" encoding=\"UTF-8\" standalone=\"no\"?>\n",
       "<!DOCTYPE svg PUBLIC \"-//W3C//DTD SVG 1.1//EN\"\n",
       " \"http://www.w3.org/Graphics/SVG/1.1/DTD/svg11.dtd\">\n",
       "<!-- Generated by graphviz version 2.38.0 (20140413.2041)\n",
       " -->\n",
       "<!-- Title: %3 Pages: 1 -->\n",
       "<svg width=\"782pt\" height=\"280pt\"\n",
       " viewBox=\"0.00 0.00 782.46 280.00\" xmlns=\"http://www.w3.org/2000/svg\" xmlns:xlink=\"http://www.w3.org/1999/xlink\">\n",
       "<g id=\"graph0\" class=\"graph\" transform=\"scale(1 1) rotate(0) translate(4 276)\">\n",
       "<title>%3</title>\n",
       "<polygon fill=\"white\" stroke=\"none\" points=\"-4,4 -4,-276 778.462,-276 778.462,4 -4,4\"/>\n",
       "<!-- EMPTY -->\n",
       "<g id=\"node1\" class=\"node\"><title>EMPTY</title>\n",
       "</g>\n",
       "<!-- St2 -->\n",
       "<g id=\"node3\" class=\"node\"><title>St2</title>\n",
       "<ellipse fill=\"none\" stroke=\"black\" cx=\"112.904\" cy=\"-26\" rx=\"21.8081\" ry=\"21.8081\"/>\n",
       "<text text-anchor=\"middle\" x=\"112.904\" y=\"-21.8\" font-family=\"Times,serif\" font-size=\"14.00\">St2</text>\n",
       "</g>\n",
       "<!-- EMPTY&#45;&gt;St2 -->\n",
       "<g id=\"edge1\" class=\"edge\"><title>EMPTY&#45;&gt;St2</title>\n",
       "<path fill=\"none\" stroke=\"black\" d=\"M54.0878,-26C62.501,-26 71.9126,-26 80.6587,-26\"/>\n",
       "<polygon fill=\"black\" stroke=\"black\" points=\"80.8854,-29.5001 90.8853,-26 80.8853,-22.5001 80.8854,-29.5001\"/>\n",
       "</g>\n",
       "<!-- St7 -->\n",
       "<g id=\"node2\" class=\"node\"><title>St7</title>\n",
       "<ellipse fill=\"none\" stroke=\"black\" cx=\"286.519\" cy=\"-109\" rx=\"21.8081\" ry=\"21.8081\"/>\n",
       "<text text-anchor=\"middle\" x=\"286.519\" y=\"-104.8\" font-family=\"Times,serif\" font-size=\"14.00\">St7</text>\n",
       "</g>\n",
       "<!-- St3 -->\n",
       "<g id=\"node7\" class=\"node\"><title>St3</title>\n",
       "<ellipse fill=\"none\" stroke=\"black\" cx=\"377.327\" cy=\"-142\" rx=\"21.8229\" ry=\"21.8229\"/>\n",
       "<ellipse fill=\"none\" stroke=\"black\" cx=\"377.327\" cy=\"-142\" rx=\"25.8081\" ry=\"25.8081\"/>\n",
       "<text text-anchor=\"middle\" x=\"377.327\" y=\"-137.8\" font-family=\"Times,serif\" font-size=\"14.00\">St3</text>\n",
       "</g>\n",
       "<!-- St7&#45;&gt;St3 -->\n",
       "<g id=\"edge8\" class=\"edge\"><title>St7&#45;&gt;St3</title>\n",
       "<path fill=\"none\" stroke=\"black\" d=\"M307.855,-114.007C315.91,-116.184 325.194,-118.939 333.423,-122 337.13,-123.379 340.959,-124.946 344.734,-126.582\"/>\n",
       "<polygon fill=\"black\" stroke=\"black\" points=\"343.35,-129.797 353.904,-130.722 346.231,-123.417 343.35,-129.797\"/>\n",
       "<text text-anchor=\"middle\" x=\"329.923\" y=\"-124.8\" font-family=\"Times,serif\" font-size=\"14.00\">1</text>\n",
       "</g>\n",
       "<!-- St4 -->\n",
       "<g id=\"node8\" class=\"node\"><title>St4</title>\n",
       "<ellipse fill=\"none\" stroke=\"black\" cx=\"748.558\" cy=\"-67\" rx=\"21.8229\" ry=\"21.8229\"/>\n",
       "<ellipse fill=\"none\" stroke=\"black\" cx=\"748.558\" cy=\"-67\" rx=\"25.8081\" ry=\"25.8081\"/>\n",
       "<text text-anchor=\"middle\" x=\"748.558\" y=\"-62.8\" font-family=\"Times,serif\" font-size=\"14.00\">St4</text>\n",
       "</g>\n",
       "<!-- St7&#45;&gt;St4 -->\n",
       "<g id=\"edge9\" class=\"edge\"><title>St7&#45;&gt;St4</title>\n",
       "<path fill=\"none\" stroke=\"black\" d=\"M307.308,-101.537C325.1,-95.5011 352.087,-88 376.327,-88 376.327,-88 376.327,-88 654.75,-88 674.774,-88 696.642,-83.2921 714.119,-78.3346\"/>\n",
       "<polygon fill=\"black\" stroke=\"black\" points=\"715.278,-81.6411 723.854,-75.4205 713.271,-74.9351 715.278,-81.6411\"/>\n",
       "<text text-anchor=\"middle\" x=\"511.539\" y=\"-90.8\" font-family=\"Times,serif\" font-size=\"14.00\">0</text>\n",
       "</g>\n",
       "<!-- St2&#45;&gt;St2 -->\n",
       "<g id=\"edge3\" class=\"edge\"><title>St2&#45;&gt;St2</title>\n",
       "<path fill=\"none\" stroke=\"black\" d=\"M105.587,-46.9403C104.684,-57.0125 107.123,-65.9039 112.904,-65.9039 116.607,-65.9039 118.939,-62.2549 119.9,-56.984\"/>\n",
       "<polygon fill=\"black\" stroke=\"black\" points=\"123.399,-57.0471 120.221,-46.9403 116.403,-56.8233 123.399,-57.0471\"/>\n",
       "<text text-anchor=\"middle\" x=\"112.904\" y=\"-68.7039\" font-family=\"Times,serif\" font-size=\"14.00\">0</text>\n",
       "</g>\n",
       "<!-- St5 -->\n",
       "<g id=\"node5\" class=\"node\"><title>St5</title>\n",
       "<ellipse fill=\"none\" stroke=\"black\" cx=\"199.712\" cy=\"-72\" rx=\"21.8081\" ry=\"21.8081\"/>\n",
       "<text text-anchor=\"middle\" x=\"199.712\" y=\"-67.8\" font-family=\"Times,serif\" font-size=\"14.00\">St5</text>\n",
       "</g>\n",
       "<!-- St2&#45;&gt;St5 -->\n",
       "<g id=\"edge2\" class=\"edge\"><title>St2&#45;&gt;St5</title>\n",
       "<path fill=\"none\" stroke=\"black\" d=\"M132.725,-36.2089C144.003,-42.3256 158.543,-50.2122 171.102,-57.0247\"/>\n",
       "<polygon fill=\"black\" stroke=\"black\" points=\"169.775,-60.2866 180.234,-61.9779 173.113,-54.1335 169.775,-60.2866\"/>\n",
       "<text text-anchor=\"middle\" x=\"156.308\" y=\"-53.8\" font-family=\"Times,serif\" font-size=\"14.00\">1</text>\n",
       "</g>\n",
       "<!-- St1 -->\n",
       "<g id=\"node4\" class=\"node\"><title>St1</title>\n",
       "<ellipse fill=\"none\" stroke=\"black\" cx=\"468.135\" cy=\"-193\" rx=\"21.8081\" ry=\"21.8081\"/>\n",
       "<text text-anchor=\"middle\" x=\"468.135\" y=\"-188.8\" font-family=\"Times,serif\" font-size=\"14.00\">St1</text>\n",
       "</g>\n",
       "<!-- St6 -->\n",
       "<g id=\"node6\" class=\"node\"><title>St6</title>\n",
       "<ellipse fill=\"none\" stroke=\"black\" cx=\"653.75\" cy=\"-158\" rx=\"21.8229\" ry=\"21.8229\"/>\n",
       "<ellipse fill=\"none\" stroke=\"black\" cx=\"653.75\" cy=\"-158\" rx=\"25.8081\" ry=\"25.8081\"/>\n",
       "<text text-anchor=\"middle\" x=\"653.75\" y=\"-153.8\" font-family=\"Times,serif\" font-size=\"14.00\">St6</text>\n",
       "</g>\n",
       "<!-- St1&#45;&gt;St6 -->\n",
       "<g id=\"edge7\" class=\"edge\"><title>St1&#45;&gt;St6</title>\n",
       "<path fill=\"none\" stroke=\"black\" d=\"M481.916,-210.155C493.493,-224.136 511.934,-242.85 533.039,-251 554.519,-259.294 564.318,-261.429 584.846,-251 609.532,-238.458 627.383,-212.265 638.569,-190.863\"/>\n",
       "<polygon fill=\"black\" stroke=\"black\" points=\"641.788,-192.25 643.097,-181.737 635.517,-189.139 641.788,-192.25\"/>\n",
       "<text text-anchor=\"middle\" x=\"558.943\" y=\"-260.8\" font-family=\"Times,serif\" font-size=\"14.00\">0</text>\n",
       "</g>\n",
       "<!-- St0 -->\n",
       "<g id=\"node9\" class=\"node\"><title>St0</title>\n",
       "<ellipse fill=\"none\" stroke=\"black\" cx=\"558.943\" cy=\"-184\" rx=\"21.8229\" ry=\"21.8229\"/>\n",
       "<ellipse fill=\"none\" stroke=\"black\" cx=\"558.943\" cy=\"-184\" rx=\"25.8081\" ry=\"25.8081\"/>\n",
       "<text text-anchor=\"middle\" x=\"558.943\" y=\"-179.8\" font-family=\"Times,serif\" font-size=\"14.00\">St0</text>\n",
       "</g>\n",
       "<!-- St1&#45;&gt;St0 -->\n",
       "<g id=\"edge6\" class=\"edge\"><title>St1&#45;&gt;St0</title>\n",
       "<path fill=\"none\" stroke=\"black\" d=\"M490.181,-190.867C499.898,-189.882 511.702,-188.686 522.718,-187.57\"/>\n",
       "<polygon fill=\"black\" stroke=\"black\" points=\"523.348,-191.024 532.944,-186.533 522.642,-184.06 523.348,-191.024\"/>\n",
       "<text text-anchor=\"middle\" x=\"511.539\" y=\"-191.8\" font-family=\"Times,serif\" font-size=\"14.00\">1</text>\n",
       "</g>\n",
       "<!-- St5&#45;&gt;St7 -->\n",
       "<g id=\"edge5\" class=\"edge\"><title>St5&#45;&gt;St7</title>\n",
       "<path fill=\"none\" stroke=\"black\" d=\"M219.956,-80.3959C230.83,-85.1402 244.636,-91.1635 256.771,-96.4579\"/>\n",
       "<polygon fill=\"black\" stroke=\"black\" points=\"255.492,-99.7184 266.058,-100.509 258.292,-93.3024 255.492,-99.7184\"/>\n",
       "<text text-anchor=\"middle\" x=\"243.115\" y=\"-94.8\" font-family=\"Times,serif\" font-size=\"14.00\">0</text>\n",
       "</g>\n",
       "<!-- St5&#45;&gt;St1 -->\n",
       "<g id=\"edge4\" class=\"edge\"><title>St5&#45;&gt;St1</title>\n",
       "<path fill=\"none\" stroke=\"black\" d=\"M213.553,-89.273C225.437,-104.29 244.294,-125.807 264.615,-140 317.242,-176.757 393.653,-188.022 435.978,-191.475\"/>\n",
       "<polygon fill=\"black\" stroke=\"black\" points=\"435.992,-194.985 446.218,-192.211 436.494,-188.003 435.992,-194.985\"/>\n",
       "<text text-anchor=\"middle\" x=\"329.923\" y=\"-174.8\" font-family=\"Times,serif\" font-size=\"14.00\">1</text>\n",
       "</g>\n",
       "<!-- St6&#45;&gt;St3 -->\n",
       "<g id=\"edge12\" class=\"edge\"><title>St6&#45;&gt;St3</title>\n",
       "<path fill=\"none\" stroke=\"black\" d=\"M627.979,-154.124C615.141,-152.266 599.186,-150.19 584.846,-149 524.824,-144.017 454.708,-142.559 413.552,-142.146\"/>\n",
       "<polygon fill=\"black\" stroke=\"black\" points=\"413.517,-138.646 403.488,-142.06 413.458,-145.645 413.517,-138.646\"/>\n",
       "<text text-anchor=\"middle\" x=\"511.539\" y=\"-147.8\" font-family=\"Times,serif\" font-size=\"14.00\">1</text>\n",
       "</g>\n",
       "<!-- St6&#45;&gt;St4 -->\n",
       "<g id=\"edge13\" class=\"edge\"><title>St6&#45;&gt;St4</title>\n",
       "<path fill=\"none\" stroke=\"black\" d=\"M673.086,-140.021C687.159,-126.222 706.75,-107.014 722.305,-91.7606\"/>\n",
       "<polygon fill=\"black\" stroke=\"black\" points=\"724.886,-94.132 729.576,-84.6317 719.985,-89.1338 724.886,-94.132\"/>\n",
       "<text text-anchor=\"middle\" x=\"701.154\" y=\"-118.8\" font-family=\"Times,serif\" font-size=\"14.00\">0</text>\n",
       "</g>\n",
       "<!-- St3&#45;&gt;St7 -->\n",
       "<g id=\"edge15\" class=\"edge\"><title>St3&#45;&gt;St7</title>\n",
       "<path fill=\"none\" stroke=\"black\" d=\"M351.39,-141.386C343.229,-140.564 334.254,-138.976 326.423,-136 321.553,-134.149 316.71,-131.56 312.178,-128.711\"/>\n",
       "<polygon fill=\"black\" stroke=\"black\" points=\"314.149,-125.819 303.925,-123.04 310.185,-131.588 314.149,-125.819\"/>\n",
       "<text text-anchor=\"middle\" x=\"329.923\" y=\"-141.8\" font-family=\"Times,serif\" font-size=\"14.00\">0</text>\n",
       "</g>\n",
       "<!-- St3&#45;&gt;St1 -->\n",
       "<g id=\"edge14\" class=\"edge\"><title>St3&#45;&gt;St1</title>\n",
       "<path fill=\"none\" stroke=\"black\" d=\"M400.92,-153.221C409.559,-157.654 419.443,-162.901 428.231,-168 432.437,-170.44 436.83,-173.125 441.086,-175.802\"/>\n",
       "<polygon fill=\"black\" stroke=\"black\" points=\"439.218,-178.762 449.527,-181.205 442.992,-172.866 439.218,-178.762\"/>\n",
       "<text text-anchor=\"middle\" x=\"424.731\" y=\"-170.8\" font-family=\"Times,serif\" font-size=\"14.00\">1</text>\n",
       "</g>\n",
       "<!-- St4&#45;&gt;St2 -->\n",
       "<g id=\"edge17\" class=\"edge\"><title>St4&#45;&gt;St2</title>\n",
       "<path fill=\"none\" stroke=\"black\" d=\"M732.23,-46.5337C715.557,-26.8303 686.944,-0 654.75,-0 198.712,-0 198.712,-0 198.712,-0 179.327,-0 158.501,-6.28597 142.338,-12.6763\"/>\n",
       "<polygon fill=\"black\" stroke=\"black\" points=\"140.805,-9.5238 132.932,-16.6134 143.508,-15.981 140.805,-9.5238\"/>\n",
       "<text text-anchor=\"middle\" x=\"424.731\" y=\"-2.8\" font-family=\"Times,serif\" font-size=\"14.00\">0</text>\n",
       "</g>\n",
       "<!-- St4&#45;&gt;St5 -->\n",
       "<g id=\"edge16\" class=\"edge\"><title>St4&#45;&gt;St5</title>\n",
       "<path fill=\"none\" stroke=\"black\" d=\"M723.854,-58.5795C705.297,-52.7371 678.704,-46 654.75,-46 285.519,-46 285.519,-46 285.519,-46 266.135,-46 245.309,-52.286 229.146,-58.6763\"/>\n",
       "<polygon fill=\"black\" stroke=\"black\" points=\"227.613,-55.5238 219.739,-62.6134 230.315,-61.981 227.613,-55.5238\"/>\n",
       "<text text-anchor=\"middle\" x=\"468.135\" y=\"-48.8\" font-family=\"Times,serif\" font-size=\"14.00\">1</text>\n",
       "</g>\n",
       "<!-- St0&#45;&gt;St6 -->\n",
       "<g id=\"edge11\" class=\"edge\"><title>St0&#45;&gt;St6</title>\n",
       "<path fill=\"none\" stroke=\"black\" d=\"M584.327,-177.169C594.877,-174.213 607.405,-170.703 618.839,-167.5\"/>\n",
       "<polygon fill=\"black\" stroke=\"black\" points=\"619.844,-170.854 628.529,-164.786 617.955,-164.113 619.844,-170.854\"/>\n",
       "<text text-anchor=\"middle\" x=\"606.346\" y=\"-174.8\" font-family=\"Times,serif\" font-size=\"14.00\">0</text>\n",
       "</g>\n",
       "<!-- St0&#45;&gt;St0 -->\n",
       "<g id=\"edge10\" class=\"edge\"><title>St0&#45;&gt;St0</title>\n",
       "<path fill=\"none\" stroke=\"black\" d=\"M550.393,-208.824C549.804,-219.15 552.653,-227.904 558.943,-227.904 562.971,-227.904 565.589,-224.311 566.795,-219.014\"/>\n",
       "<polygon fill=\"black\" stroke=\"black\" points=\"570.301,-219.039 567.492,-208.824 563.317,-218.562 570.301,-219.039\"/>\n",
       "<text text-anchor=\"middle\" x=\"558.943\" y=\"-230.704\" font-family=\"Times,serif\" font-size=\"14.00\">1</text>\n",
       "</g>\n",
       "</g>\n",
       "</svg>\n"
      ],
      "text/plain": [
       "<graphviz.dot.Digraph at 0x11117eeb8>"
      ]
     },
     "execution_count": 41,
     "metadata": {},
     "output_type": "execute_result"
    }
   ],
   "source": [
    "n2DFA61 = nfa2dfa(NFA_fig61ab)\n",
    "dotObj_dfa(n2DFA61, \"n2dNFA_fig61ab\")"
   ]
  },
  {
   "cell_type": "code",
   "execution_count": 42,
   "metadata": {
    "collapsed": false,
    "editable": false,
    "run_control": {
     "frozen": false,
     "read_only": false
    }
   },
   "outputs": [
    {
     "data": {
      "image/svg+xml": [
       "<?xml version=\"1.0\" encoding=\"UTF-8\" standalone=\"no\"?>\n",
       "<!DOCTYPE svg PUBLIC \"-//W3C//DTD SVG 1.1//EN\"\n",
       " \"http://www.w3.org/Graphics/SVG/1.1/DTD/svg11.dtd\">\n",
       "<!-- Generated by graphviz version 2.38.0 (20140413.2041)\n",
       " -->\n",
       "<!-- Title: %3 Pages: 1 -->\n",
       "<svg width=\"468pt\" height=\"112pt\"\n",
       " viewBox=\"0.00 0.00 467.68 112.00\" xmlns=\"http://www.w3.org/2000/svg\" xmlns:xlink=\"http://www.w3.org/1999/xlink\">\n",
       "<g id=\"graph0\" class=\"graph\" transform=\"scale(1 1) rotate(0) translate(4 108)\">\n",
       "<title>%3</title>\n",
       "<polygon fill=\"white\" stroke=\"none\" points=\"-4,4 -4,-108 463.681,-108 463.681,4 -4,4\"/>\n",
       "<!-- EMPTY -->\n",
       "<g id=\"node1\" class=\"node\"><title>EMPTY</title>\n",
       "</g>\n",
       "<!-- I -->\n",
       "<g id=\"node2\" class=\"node\"><title>I</title>\n",
       "<ellipse fill=\"none\" stroke=\"black\" cx=\"109\" cy=\"-22\" rx=\"18\" ry=\"18\"/>\n",
       "<text text-anchor=\"middle\" x=\"109\" y=\"-17.8\" font-family=\"Times,serif\" font-size=\"14.00\">I</text>\n",
       "</g>\n",
       "<!-- EMPTY&#45;&gt;I -->\n",
       "<g id=\"edge1\" class=\"edge\"><title>EMPTY&#45;&gt;I</title>\n",
       "<path fill=\"none\" stroke=\"black\" d=\"M54.195,-22C62.6538,-22 72.0513,-22 80.5951,-22\"/>\n",
       "<polygon fill=\"black\" stroke=\"black\" points=\"80.8257,-25.5001 90.8257,-22 80.8257,-18.5001 80.8257,-25.5001\"/>\n",
       "</g>\n",
       "<!-- I&#45;&gt;I -->\n",
       "<g id=\"edge2\" class=\"edge\"><title>I&#45;&gt;I</title>\n",
       "<path fill=\"none\" stroke=\"black\" d=\"M105.764,-39.7817C105.214,-49.3149 106.293,-58 109,-58 110.65,-58 111.694,-54.7749 112.135,-50.0981\"/>\n",
       "<polygon fill=\"black\" stroke=\"black\" points=\"115.638,-49.8156 112.236,-39.7817 108.638,-49.7469 115.638,-49.8156\"/>\n",
       "<text text-anchor=\"middle\" x=\"109\" y=\"-60.8\" font-family=\"Times,serif\" font-size=\"14.00\">0</text>\n",
       "</g>\n",
       "<!-- I&#45;&gt;I -->\n",
       "<g id=\"edge3\" class=\"edge\"><title>I&#45;&gt;I</title>\n",
       "<path fill=\"none\" stroke=\"black\" d=\"M103.684,-39.4203C100.654,-56.791 102.426,-76 109,-76 114.29,-76 116.471,-63.5617 115.542,-49.652\"/>\n",
       "<polygon fill=\"black\" stroke=\"black\" points=\"118.981,-48.9328 114.316,-39.4203 112.031,-49.7657 118.981,-48.9328\"/>\n",
       "<text text-anchor=\"middle\" x=\"109\" y=\"-78.8\" font-family=\"Times,serif\" font-size=\"14.00\">1</text>\n",
       "</g>\n",
       "<!-- S0 -->\n",
       "<g id=\"node4\" class=\"node\"><title>S0</title>\n",
       "<ellipse fill=\"none\" stroke=\"black\" cx=\"189.447\" cy=\"-22\" rx=\"19.3939\" ry=\"19.3939\"/>\n",
       "<text text-anchor=\"middle\" x=\"189.447\" y=\"-17.8\" font-family=\"Times,serif\" font-size=\"14.00\">S0</text>\n",
       "</g>\n",
       "<!-- I&#45;&gt;S0 -->\n",
       "<g id=\"edge4\" class=\"edge\"><title>I&#45;&gt;S0</title>\n",
       "<path fill=\"none\" stroke=\"black\" d=\"M127.022,-22C136.583,-22 148.77,-22 159.763,-22\"/>\n",
       "<polygon fill=\"black\" stroke=\"black\" points=\"159.813,-25.5001 169.813,-22 159.813,-18.5001 159.813,-25.5001\"/>\n",
       "<text text-anchor=\"middle\" x=\"148.5\" y=\"-24.8\" font-family=\"Times,serif\" font-size=\"14.00\">1</text>\n",
       "</g>\n",
       "<!-- I&#45;&gt;S0 -->\n",
       "<g id=\"edge5\" class=\"edge\"><title>I&#45;&gt;S0</title>\n",
       "<path fill=\"none\" stroke=\"black\" d=\"M127.081,-20.8282C132.778,-20.4897 139.16,-20.1667 145,-20 149.713,-19.8655 154.711,-19.9155 159.575,-20.0681\"/>\n",
       "<polygon fill=\"black\" stroke=\"black\" points=\"159.699,-23.5772 169.847,-20.5342 160.016,-16.5844 159.699,-23.5772\"/>\n",
       "</g>\n",
       "<!-- S1 -->\n",
       "<g id=\"node3\" class=\"node\"><title>S1</title>\n",
       "<ellipse fill=\"none\" stroke=\"black\" cx=\"271.341\" cy=\"-22\" rx=\"19.3939\" ry=\"19.3939\"/>\n",
       "<text text-anchor=\"middle\" x=\"271.341\" y=\"-17.8\" font-family=\"Times,serif\" font-size=\"14.00\">S1</text>\n",
       "</g>\n",
       "<!-- S2 -->\n",
       "<g id=\"node5\" class=\"node\"><title>S2</title>\n",
       "<ellipse fill=\"none\" stroke=\"black\" cx=\"353.234\" cy=\"-22\" rx=\"19.3939\" ry=\"19.3939\"/>\n",
       "<text text-anchor=\"middle\" x=\"353.234\" y=\"-17.8\" font-family=\"Times,serif\" font-size=\"14.00\">S2</text>\n",
       "</g>\n",
       "<!-- S1&#45;&gt;S2 -->\n",
       "<g id=\"edge7\" class=\"edge\"><title>S1&#45;&gt;S2</title>\n",
       "<path fill=\"none\" stroke=\"black\" d=\"M290.871,-22C300.482,-22 312.441,-22 323.243,-22\"/>\n",
       "<polygon fill=\"black\" stroke=\"black\" points=\"323.528,-25.5001 333.528,-22 323.528,-18.5001 323.528,-25.5001\"/>\n",
       "<text text-anchor=\"middle\" x=\"312.287\" y=\"-24.8\" font-family=\"Times,serif\" font-size=\"14.00\">0</text>\n",
       "</g>\n",
       "<!-- S1&#45;&gt;S2 -->\n",
       "<g id=\"edge8\" class=\"edge\"><title>S1&#45;&gt;S2</title>\n",
       "<path fill=\"none\" stroke=\"black\" d=\"M287.218,-10.7423C295.427,-5.8494 305.929,-1.69819 315.787,-4 319.511,-4.86945 323.292,-6.1773 326.938,-7.69901\"/>\n",
       "<polygon fill=\"black\" stroke=\"black\" points=\"325.61,-10.9431 336.145,-12.0723 328.614,-4.62018 325.61,-10.9431\"/>\n",
       "<text text-anchor=\"middle\" x=\"312.287\" y=\"-6.8\" font-family=\"Times,serif\" font-size=\"14.00\">1</text>\n",
       "</g>\n",
       "<!-- S0&#45;&gt;S1 -->\n",
       "<g id=\"edge6\" class=\"edge\"><title>S0&#45;&gt;S1</title>\n",
       "<path fill=\"none\" stroke=\"black\" d=\"M208.977,-22C218.588,-22 230.548,-22 241.349,-22\"/>\n",
       "<polygon fill=\"black\" stroke=\"black\" points=\"241.634,-25.5001 251.634,-22 241.634,-18.5001 241.634,-25.5001\"/>\n",
       "<text text-anchor=\"middle\" x=\"230.394\" y=\"-24.8\" font-family=\"Times,serif\" font-size=\"14.00\">1</text>\n",
       "</g>\n",
       "<!-- F -->\n",
       "<g id=\"node6\" class=\"node\"><title>F</title>\n",
       "<ellipse fill=\"none\" stroke=\"black\" cx=\"437.681\" cy=\"-22\" rx=\"18\" ry=\"18\"/>\n",
       "<ellipse fill=\"none\" stroke=\"black\" cx=\"437.681\" cy=\"-22\" rx=\"22\" ry=\"22\"/>\n",
       "<text text-anchor=\"middle\" x=\"437.681\" y=\"-17.8\" font-family=\"Times,serif\" font-size=\"14.00\">F</text>\n",
       "</g>\n",
       "<!-- S2&#45;&gt;F -->\n",
       "<g id=\"edge9\" class=\"edge\"><title>S2&#45;&gt;F</title>\n",
       "<path fill=\"none\" stroke=\"black\" d=\"M372.943,-22C382.52,-22 394.436,-22 405.364,-22\"/>\n",
       "<polygon fill=\"black\" stroke=\"black\" points=\"405.431,-25.5001 415.431,-22 405.431,-18.5001 405.431,-25.5001\"/>\n",
       "<text text-anchor=\"middle\" x=\"394.181\" y=\"-24.8\" font-family=\"Times,serif\" font-size=\"14.00\">0</text>\n",
       "</g>\n",
       "<!-- S2&#45;&gt;F -->\n",
       "<g id=\"edge10\" class=\"edge\"><title>S2&#45;&gt;F</title>\n",
       "<path fill=\"none\" stroke=\"black\" d=\"M370.324,-12.0723C376.461,-8.82659 383.671,-5.63661 390.681,-4 397.039,-2.51573 403.683,-3.50584 409.881,-5.63\"/>\n",
       "<polygon fill=\"black\" stroke=\"black\" points=\"408.585,-8.88387 419.148,-9.7088 411.405,-2.47695 408.585,-8.88387\"/>\n",
       "<text text-anchor=\"middle\" x=\"394.181\" y=\"-6.8\" font-family=\"Times,serif\" font-size=\"14.00\">1</text>\n",
       "</g>\n",
       "</g>\n",
       "</svg>\n"
      ],
      "text/plain": [
       "<graphviz.dot.Digraph at 0x11117e940>"
      ]
     },
     "execution_count": 42,
     "metadata": {},
     "output_type": "execute_result"
    }
   ],
   "source": [
    "dotObj_nfa(NFA_fig61ab,visible_eps=False,nfaName=\"NFA_fig61ab\")"
   ]
  },
  {
   "cell_type": "code",
   "execution_count": 43,
   "metadata": {
    "collapsed": false,
    "run_control": {
     "frozen": false,
     "read_only": false
    }
   },
   "outputs": [
    {
     "data": {
      "image/svg+xml": [
       "<?xml version=\"1.0\" encoding=\"UTF-8\" standalone=\"no\"?>\n",
       "<!DOCTYPE svg PUBLIC \"-//W3C//DTD SVG 1.1//EN\"\n",
       " \"http://www.w3.org/Graphics/SVG/1.1/DTD/svg11.dtd\">\n",
       "<!-- Generated by graphviz version 2.38.0 (20140413.2041)\n",
       " -->\n",
       "<!-- Title: %3 Pages: 1 -->\n",
       "<svg width=\"474pt\" height=\"112pt\"\n",
       " viewBox=\"0.00 0.00 473.57 112.00\" xmlns=\"http://www.w3.org/2000/svg\" xmlns:xlink=\"http://www.w3.org/1999/xlink\">\n",
       "<g id=\"graph0\" class=\"graph\" transform=\"scale(1 1) rotate(0) translate(4 108)\">\n",
       "<title>%3</title>\n",
       "<polygon fill=\"white\" stroke=\"none\" points=\"-4,4 -4,-108 469.574,-108 469.574,4 -4,4\"/>\n",
       "<!-- EMPTY -->\n",
       "<g id=\"node1\" class=\"node\"><title>EMPTY</title>\n",
       "</g>\n",
       "<!-- I -->\n",
       "<g id=\"node2\" class=\"node\"><title>I</title>\n",
       "<ellipse fill=\"none\" stroke=\"black\" cx=\"109\" cy=\"-22\" rx=\"18\" ry=\"18\"/>\n",
       "<text text-anchor=\"middle\" x=\"109\" y=\"-17.8\" font-family=\"Times,serif\" font-size=\"14.00\">I</text>\n",
       "</g>\n",
       "<!-- EMPTY&#45;&gt;I -->\n",
       "<g id=\"edge1\" class=\"edge\"><title>EMPTY&#45;&gt;I</title>\n",
       "<path fill=\"none\" stroke=\"black\" d=\"M54.195,-22C62.6538,-22 72.0513,-22 80.5951,-22\"/>\n",
       "<polygon fill=\"black\" stroke=\"black\" points=\"80.8257,-25.5001 90.8257,-22 80.8257,-18.5001 80.8257,-25.5001\"/>\n",
       "</g>\n",
       "<!-- I&#45;&gt;I -->\n",
       "<g id=\"edge2\" class=\"edge\"><title>I&#45;&gt;I</title>\n",
       "<path fill=\"none\" stroke=\"black\" d=\"M105.764,-39.7817C105.214,-49.3149 106.293,-58 109,-58 110.65,-58 111.694,-54.7749 112.135,-50.0981\"/>\n",
       "<polygon fill=\"black\" stroke=\"black\" points=\"115.638,-49.8156 112.236,-39.7817 108.638,-49.7469 115.638,-49.8156\"/>\n",
       "<text text-anchor=\"middle\" x=\"109\" y=\"-60.8\" font-family=\"Times,serif\" font-size=\"14.00\">0</text>\n",
       "</g>\n",
       "<!-- I&#45;&gt;I -->\n",
       "<g id=\"edge3\" class=\"edge\"><title>I&#45;&gt;I</title>\n",
       "<path fill=\"none\" stroke=\"black\" d=\"M103.684,-39.4203C100.654,-56.791 102.426,-76 109,-76 114.29,-76 116.471,-63.5617 115.542,-49.652\"/>\n",
       "<polygon fill=\"black\" stroke=\"black\" points=\"118.981,-48.9328 114.316,-39.4203 112.031,-49.7657 118.981,-48.9328\"/>\n",
       "<text text-anchor=\"middle\" x=\"109\" y=\"-78.8\" font-family=\"Times,serif\" font-size=\"14.00\">1</text>\n",
       "</g>\n",
       "<!-- S0 -->\n",
       "<g id=\"node4\" class=\"node\"><title>S0</title>\n",
       "<ellipse fill=\"none\" stroke=\"black\" cx=\"195.339\" cy=\"-22\" rx=\"19.3939\" ry=\"19.3939\"/>\n",
       "<text text-anchor=\"middle\" x=\"195.339\" y=\"-17.8\" font-family=\"Times,serif\" font-size=\"14.00\">S0</text>\n",
       "</g>\n",
       "<!-- I&#45;&gt;S0 -->\n",
       "<g id=\"edge4\" class=\"edge\"><title>I&#45;&gt;S0</title>\n",
       "<path fill=\"none\" stroke=\"black\" d=\"M127.067,-22C138.123,-22 152.798,-22 165.62,-22\"/>\n",
       "<polygon fill=\"black\" stroke=\"black\" points=\"165.834,-25.5001 175.834,-22 165.834,-18.5001 165.834,-25.5001\"/>\n",
       "<text text-anchor=\"middle\" x=\"151.446\" y=\"-24.8\" font-family=\"Times,serif\" font-size=\"14.00\">1</text>\n",
       "</g>\n",
       "<!-- I&#45;&gt;S0 -->\n",
       "<g id=\"edge5\" class=\"edge\"><title>I&#45;&gt;S0</title>\n",
       "<path fill=\"none\" stroke=\"black\" d=\"M124.717,-12.4577C130.75,-9.08304 137.96,-5.70409 145,-4 153.101,-2.03906 161.707,-3.77325 169.425,-6.81383\"/>\n",
       "<polygon fill=\"black\" stroke=\"black\" points=\"168.086,-10.0529 178.621,-11.1841 171.091,-3.73057 168.086,-10.0529\"/>\n",
       "<text text-anchor=\"middle\" x=\"151.446\" y=\"-6.8\" font-family=\"Times,serif\" font-size=\"14.00\">@</text>\n",
       "</g>\n",
       "<!-- S1 -->\n",
       "<g id=\"node3\" class=\"node\"><title>S1</title>\n",
       "<ellipse fill=\"none\" stroke=\"black\" cx=\"277.233\" cy=\"-22\" rx=\"19.3939\" ry=\"19.3939\"/>\n",
       "<text text-anchor=\"middle\" x=\"277.233\" y=\"-17.8\" font-family=\"Times,serif\" font-size=\"14.00\">S1</text>\n",
       "</g>\n",
       "<!-- S2 -->\n",
       "<g id=\"node5\" class=\"node\"><title>S2</title>\n",
       "<ellipse fill=\"none\" stroke=\"black\" cx=\"359.127\" cy=\"-22\" rx=\"19.3939\" ry=\"19.3939\"/>\n",
       "<text text-anchor=\"middle\" x=\"359.127\" y=\"-17.8\" font-family=\"Times,serif\" font-size=\"14.00\">S2</text>\n",
       "</g>\n",
       "<!-- S1&#45;&gt;S2 -->\n",
       "<g id=\"edge7\" class=\"edge\"><title>S1&#45;&gt;S2</title>\n",
       "<path fill=\"none\" stroke=\"black\" d=\"M296.763,-22C306.374,-22 318.334,-22 329.135,-22\"/>\n",
       "<polygon fill=\"black\" stroke=\"black\" points=\"329.421,-25.5001 339.421,-22 329.421,-18.5001 329.421,-25.5001\"/>\n",
       "<text text-anchor=\"middle\" x=\"318.18\" y=\"-24.8\" font-family=\"Times,serif\" font-size=\"14.00\">0</text>\n",
       "</g>\n",
       "<!-- S1&#45;&gt;S2 -->\n",
       "<g id=\"edge8\" class=\"edge\"><title>S1&#45;&gt;S2</title>\n",
       "<path fill=\"none\" stroke=\"black\" d=\"M293.111,-10.7423C301.32,-5.8494 311.821,-1.69819 321.68,-4 325.404,-4.86945 329.184,-6.1773 332.831,-7.69901\"/>\n",
       "<polygon fill=\"black\" stroke=\"black\" points=\"331.503,-10.9431 342.037,-12.0723 334.506,-4.62018 331.503,-10.9431\"/>\n",
       "<text text-anchor=\"middle\" x=\"318.18\" y=\"-6.8\" font-family=\"Times,serif\" font-size=\"14.00\">1</text>\n",
       "</g>\n",
       "<!-- S0&#45;&gt;S1 -->\n",
       "<g id=\"edge6\" class=\"edge\"><title>S0&#45;&gt;S1</title>\n",
       "<path fill=\"none\" stroke=\"black\" d=\"M214.869,-22C224.481,-22 236.44,-22 247.241,-22\"/>\n",
       "<polygon fill=\"black\" stroke=\"black\" points=\"247.527,-25.5001 257.527,-22 247.527,-18.5001 247.527,-25.5001\"/>\n",
       "<text text-anchor=\"middle\" x=\"236.286\" y=\"-24.8\" font-family=\"Times,serif\" font-size=\"14.00\">1</text>\n",
       "</g>\n",
       "<!-- F -->\n",
       "<g id=\"node6\" class=\"node\"><title>F</title>\n",
       "<ellipse fill=\"none\" stroke=\"black\" cx=\"443.574\" cy=\"-22\" rx=\"18\" ry=\"18\"/>\n",
       "<ellipse fill=\"none\" stroke=\"black\" cx=\"443.574\" cy=\"-22\" rx=\"22\" ry=\"22\"/>\n",
       "<text text-anchor=\"middle\" x=\"443.574\" y=\"-17.8\" font-family=\"Times,serif\" font-size=\"14.00\">F</text>\n",
       "</g>\n",
       "<!-- S2&#45;&gt;F -->\n",
       "<g id=\"edge9\" class=\"edge\"><title>S2&#45;&gt;F</title>\n",
       "<path fill=\"none\" stroke=\"black\" d=\"M378.835,-22C388.412,-22 400.328,-22 411.257,-22\"/>\n",
       "<polygon fill=\"black\" stroke=\"black\" points=\"411.323,-25.5001 421.323,-22 411.323,-18.5001 411.323,-25.5001\"/>\n",
       "<text text-anchor=\"middle\" x=\"400.074\" y=\"-24.8\" font-family=\"Times,serif\" font-size=\"14.00\">0</text>\n",
       "</g>\n",
       "<!-- S2&#45;&gt;F -->\n",
       "<g id=\"edge10\" class=\"edge\"><title>S2&#45;&gt;F</title>\n",
       "<path fill=\"none\" stroke=\"black\" d=\"M376.216,-12.0723C382.354,-8.82659 389.564,-5.63661 396.574,-4 402.931,-2.51573 409.575,-3.50584 415.773,-5.63\"/>\n",
       "<polygon fill=\"black\" stroke=\"black\" points=\"414.478,-8.88387 425.041,-9.7088 417.298,-2.47695 414.478,-8.88387\"/>\n",
       "<text text-anchor=\"middle\" x=\"400.074\" y=\"-6.8\" font-family=\"Times,serif\" font-size=\"14.00\">1</text>\n",
       "</g>\n",
       "</g>\n",
       "</svg>\n"
      ],
      "text/plain": [
       "<graphviz.dot.Digraph at 0x11117ecf8>"
      ]
     },
     "execution_count": 43,
     "metadata": {},
     "output_type": "execute_result"
    }
   ],
   "source": [
    "dotObj_nfa(NFA_fig61ab,visible_eps=True,nfaName=\"NFA_fig61ab\")"
   ]
  },
  {
   "cell_type": "code",
   "execution_count": 44,
   "metadata": {
    "collapsed": false,
    "editable": true,
    "run_control": {
     "frozen": false,
     "read_only": false
    }
   },
   "outputs": [
    {
     "data": {
      "image/svg+xml": [
       "<?xml version=\"1.0\" encoding=\"UTF-8\" standalone=\"no\"?>\n",
       "<!DOCTYPE svg PUBLIC \"-//W3C//DTD SVG 1.1//EN\"\n",
       " \"http://www.w3.org/Graphics/SVG/1.1/DTD/svg11.dtd\">\n",
       "<!-- Generated by graphviz version 2.38.0 (20140413.2041)\n",
       " -->\n",
       "<!-- Title: %3 Pages: 1 -->\n",
       "<svg width=\"782pt\" height=\"280pt\"\n",
       " viewBox=\"0.00 0.00 782.46 280.00\" xmlns=\"http://www.w3.org/2000/svg\" xmlns:xlink=\"http://www.w3.org/1999/xlink\">\n",
       "<g id=\"graph0\" class=\"graph\" transform=\"scale(1 1) rotate(0) translate(4 276)\">\n",
       "<title>%3</title>\n",
       "<polygon fill=\"white\" stroke=\"none\" points=\"-4,4 -4,-276 778.462,-276 778.462,4 -4,4\"/>\n",
       "<!-- EMPTY -->\n",
       "<g id=\"node1\" class=\"node\"><title>EMPTY</title>\n",
       "</g>\n",
       "<!-- St2 -->\n",
       "<g id=\"node3\" class=\"node\"><title>St2</title>\n",
       "<ellipse fill=\"none\" stroke=\"black\" cx=\"112.904\" cy=\"-26\" rx=\"21.8081\" ry=\"21.8081\"/>\n",
       "<text text-anchor=\"middle\" x=\"112.904\" y=\"-21.8\" font-family=\"Times,serif\" font-size=\"14.00\">St2</text>\n",
       "</g>\n",
       "<!-- EMPTY&#45;&gt;St2 -->\n",
       "<g id=\"edge1\" class=\"edge\"><title>EMPTY&#45;&gt;St2</title>\n",
       "<path fill=\"none\" stroke=\"black\" d=\"M54.0878,-26C62.501,-26 71.9126,-26 80.6587,-26\"/>\n",
       "<polygon fill=\"black\" stroke=\"black\" points=\"80.8854,-29.5001 90.8853,-26 80.8853,-22.5001 80.8854,-29.5001\"/>\n",
       "</g>\n",
       "<!-- St7 -->\n",
       "<g id=\"node2\" class=\"node\"><title>St7</title>\n",
       "<ellipse fill=\"none\" stroke=\"black\" cx=\"286.519\" cy=\"-109\" rx=\"21.8081\" ry=\"21.8081\"/>\n",
       "<text text-anchor=\"middle\" x=\"286.519\" y=\"-104.8\" font-family=\"Times,serif\" font-size=\"14.00\">St7</text>\n",
       "</g>\n",
       "<!-- St3 -->\n",
       "<g id=\"node7\" class=\"node\"><title>St3</title>\n",
       "<ellipse fill=\"none\" stroke=\"black\" cx=\"377.327\" cy=\"-142\" rx=\"21.8229\" ry=\"21.8229\"/>\n",
       "<ellipse fill=\"none\" stroke=\"black\" cx=\"377.327\" cy=\"-142\" rx=\"25.8081\" ry=\"25.8081\"/>\n",
       "<text text-anchor=\"middle\" x=\"377.327\" y=\"-137.8\" font-family=\"Times,serif\" font-size=\"14.00\">St3</text>\n",
       "</g>\n",
       "<!-- St7&#45;&gt;St3 -->\n",
       "<g id=\"edge8\" class=\"edge\"><title>St7&#45;&gt;St3</title>\n",
       "<path fill=\"none\" stroke=\"black\" d=\"M307.855,-114.007C315.91,-116.184 325.194,-118.939 333.423,-122 337.13,-123.379 340.959,-124.946 344.734,-126.582\"/>\n",
       "<polygon fill=\"black\" stroke=\"black\" points=\"343.35,-129.797 353.904,-130.722 346.231,-123.417 343.35,-129.797\"/>\n",
       "<text text-anchor=\"middle\" x=\"329.923\" y=\"-124.8\" font-family=\"Times,serif\" font-size=\"14.00\">1</text>\n",
       "</g>\n",
       "<!-- St4 -->\n",
       "<g id=\"node8\" class=\"node\"><title>St4</title>\n",
       "<ellipse fill=\"none\" stroke=\"black\" cx=\"748.558\" cy=\"-67\" rx=\"21.8229\" ry=\"21.8229\"/>\n",
       "<ellipse fill=\"none\" stroke=\"black\" cx=\"748.558\" cy=\"-67\" rx=\"25.8081\" ry=\"25.8081\"/>\n",
       "<text text-anchor=\"middle\" x=\"748.558\" y=\"-62.8\" font-family=\"Times,serif\" font-size=\"14.00\">St4</text>\n",
       "</g>\n",
       "<!-- St7&#45;&gt;St4 -->\n",
       "<g id=\"edge9\" class=\"edge\"><title>St7&#45;&gt;St4</title>\n",
       "<path fill=\"none\" stroke=\"black\" d=\"M307.308,-101.537C325.1,-95.5011 352.087,-88 376.327,-88 376.327,-88 376.327,-88 654.75,-88 674.774,-88 696.642,-83.2921 714.119,-78.3346\"/>\n",
       "<polygon fill=\"black\" stroke=\"black\" points=\"715.278,-81.6411 723.854,-75.4205 713.271,-74.9351 715.278,-81.6411\"/>\n",
       "<text text-anchor=\"middle\" x=\"511.539\" y=\"-90.8\" font-family=\"Times,serif\" font-size=\"14.00\">0</text>\n",
       "</g>\n",
       "<!-- St2&#45;&gt;St2 -->\n",
       "<g id=\"edge3\" class=\"edge\"><title>St2&#45;&gt;St2</title>\n",
       "<path fill=\"none\" stroke=\"black\" d=\"M105.587,-46.9403C104.684,-57.0125 107.123,-65.9039 112.904,-65.9039 116.607,-65.9039 118.939,-62.2549 119.9,-56.984\"/>\n",
       "<polygon fill=\"black\" stroke=\"black\" points=\"123.399,-57.0471 120.221,-46.9403 116.403,-56.8233 123.399,-57.0471\"/>\n",
       "<text text-anchor=\"middle\" x=\"112.904\" y=\"-68.7039\" font-family=\"Times,serif\" font-size=\"14.00\">0</text>\n",
       "</g>\n",
       "<!-- St5 -->\n",
       "<g id=\"node5\" class=\"node\"><title>St5</title>\n",
       "<ellipse fill=\"none\" stroke=\"black\" cx=\"199.712\" cy=\"-72\" rx=\"21.8081\" ry=\"21.8081\"/>\n",
       "<text text-anchor=\"middle\" x=\"199.712\" y=\"-67.8\" font-family=\"Times,serif\" font-size=\"14.00\">St5</text>\n",
       "</g>\n",
       "<!-- St2&#45;&gt;St5 -->\n",
       "<g id=\"edge2\" class=\"edge\"><title>St2&#45;&gt;St5</title>\n",
       "<path fill=\"none\" stroke=\"black\" d=\"M132.725,-36.2089C144.003,-42.3256 158.543,-50.2122 171.102,-57.0247\"/>\n",
       "<polygon fill=\"black\" stroke=\"black\" points=\"169.775,-60.2866 180.234,-61.9779 173.113,-54.1335 169.775,-60.2866\"/>\n",
       "<text text-anchor=\"middle\" x=\"156.308\" y=\"-53.8\" font-family=\"Times,serif\" font-size=\"14.00\">1</text>\n",
       "</g>\n",
       "<!-- St1 -->\n",
       "<g id=\"node4\" class=\"node\"><title>St1</title>\n",
       "<ellipse fill=\"none\" stroke=\"black\" cx=\"468.135\" cy=\"-193\" rx=\"21.8081\" ry=\"21.8081\"/>\n",
       "<text text-anchor=\"middle\" x=\"468.135\" y=\"-188.8\" font-family=\"Times,serif\" font-size=\"14.00\">St1</text>\n",
       "</g>\n",
       "<!-- St6 -->\n",
       "<g id=\"node6\" class=\"node\"><title>St6</title>\n",
       "<ellipse fill=\"none\" stroke=\"black\" cx=\"653.75\" cy=\"-158\" rx=\"21.8229\" ry=\"21.8229\"/>\n",
       "<ellipse fill=\"none\" stroke=\"black\" cx=\"653.75\" cy=\"-158\" rx=\"25.8081\" ry=\"25.8081\"/>\n",
       "<text text-anchor=\"middle\" x=\"653.75\" y=\"-153.8\" font-family=\"Times,serif\" font-size=\"14.00\">St6</text>\n",
       "</g>\n",
       "<!-- St1&#45;&gt;St6 -->\n",
       "<g id=\"edge7\" class=\"edge\"><title>St1&#45;&gt;St6</title>\n",
       "<path fill=\"none\" stroke=\"black\" d=\"M481.916,-210.155C493.493,-224.136 511.934,-242.85 533.039,-251 554.519,-259.294 564.318,-261.429 584.846,-251 609.532,-238.458 627.383,-212.265 638.569,-190.863\"/>\n",
       "<polygon fill=\"black\" stroke=\"black\" points=\"641.788,-192.25 643.097,-181.737 635.517,-189.139 641.788,-192.25\"/>\n",
       "<text text-anchor=\"middle\" x=\"558.943\" y=\"-260.8\" font-family=\"Times,serif\" font-size=\"14.00\">0</text>\n",
       "</g>\n",
       "<!-- St0 -->\n",
       "<g id=\"node9\" class=\"node\"><title>St0</title>\n",
       "<ellipse fill=\"none\" stroke=\"black\" cx=\"558.943\" cy=\"-184\" rx=\"21.8229\" ry=\"21.8229\"/>\n",
       "<ellipse fill=\"none\" stroke=\"black\" cx=\"558.943\" cy=\"-184\" rx=\"25.8081\" ry=\"25.8081\"/>\n",
       "<text text-anchor=\"middle\" x=\"558.943\" y=\"-179.8\" font-family=\"Times,serif\" font-size=\"14.00\">St0</text>\n",
       "</g>\n",
       "<!-- St1&#45;&gt;St0 -->\n",
       "<g id=\"edge6\" class=\"edge\"><title>St1&#45;&gt;St0</title>\n",
       "<path fill=\"none\" stroke=\"black\" d=\"M490.181,-190.867C499.898,-189.882 511.702,-188.686 522.718,-187.57\"/>\n",
       "<polygon fill=\"black\" stroke=\"black\" points=\"523.348,-191.024 532.944,-186.533 522.642,-184.06 523.348,-191.024\"/>\n",
       "<text text-anchor=\"middle\" x=\"511.539\" y=\"-191.8\" font-family=\"Times,serif\" font-size=\"14.00\">1</text>\n",
       "</g>\n",
       "<!-- St5&#45;&gt;St7 -->\n",
       "<g id=\"edge5\" class=\"edge\"><title>St5&#45;&gt;St7</title>\n",
       "<path fill=\"none\" stroke=\"black\" d=\"M219.956,-80.3959C230.83,-85.1402 244.636,-91.1635 256.771,-96.4579\"/>\n",
       "<polygon fill=\"black\" stroke=\"black\" points=\"255.492,-99.7184 266.058,-100.509 258.292,-93.3024 255.492,-99.7184\"/>\n",
       "<text text-anchor=\"middle\" x=\"243.115\" y=\"-94.8\" font-family=\"Times,serif\" font-size=\"14.00\">0</text>\n",
       "</g>\n",
       "<!-- St5&#45;&gt;St1 -->\n",
       "<g id=\"edge4\" class=\"edge\"><title>St5&#45;&gt;St1</title>\n",
       "<path fill=\"none\" stroke=\"black\" d=\"M213.553,-89.273C225.437,-104.29 244.294,-125.807 264.615,-140 317.242,-176.757 393.653,-188.022 435.978,-191.475\"/>\n",
       "<polygon fill=\"black\" stroke=\"black\" points=\"435.992,-194.985 446.218,-192.211 436.494,-188.003 435.992,-194.985\"/>\n",
       "<text text-anchor=\"middle\" x=\"329.923\" y=\"-174.8\" font-family=\"Times,serif\" font-size=\"14.00\">1</text>\n",
       "</g>\n",
       "<!-- St6&#45;&gt;St3 -->\n",
       "<g id=\"edge12\" class=\"edge\"><title>St6&#45;&gt;St3</title>\n",
       "<path fill=\"none\" stroke=\"black\" d=\"M627.979,-154.124C615.141,-152.266 599.186,-150.19 584.846,-149 524.824,-144.017 454.708,-142.559 413.552,-142.146\"/>\n",
       "<polygon fill=\"black\" stroke=\"black\" points=\"413.517,-138.646 403.488,-142.06 413.458,-145.645 413.517,-138.646\"/>\n",
       "<text text-anchor=\"middle\" x=\"511.539\" y=\"-147.8\" font-family=\"Times,serif\" font-size=\"14.00\">1</text>\n",
       "</g>\n",
       "<!-- St6&#45;&gt;St4 -->\n",
       "<g id=\"edge13\" class=\"edge\"><title>St6&#45;&gt;St4</title>\n",
       "<path fill=\"none\" stroke=\"black\" d=\"M673.086,-140.021C687.159,-126.222 706.75,-107.014 722.305,-91.7606\"/>\n",
       "<polygon fill=\"black\" stroke=\"black\" points=\"724.886,-94.132 729.576,-84.6317 719.985,-89.1338 724.886,-94.132\"/>\n",
       "<text text-anchor=\"middle\" x=\"701.154\" y=\"-118.8\" font-family=\"Times,serif\" font-size=\"14.00\">0</text>\n",
       "</g>\n",
       "<!-- St3&#45;&gt;St7 -->\n",
       "<g id=\"edge15\" class=\"edge\"><title>St3&#45;&gt;St7</title>\n",
       "<path fill=\"none\" stroke=\"black\" d=\"M351.39,-141.386C343.229,-140.564 334.254,-138.976 326.423,-136 321.553,-134.149 316.71,-131.56 312.178,-128.711\"/>\n",
       "<polygon fill=\"black\" stroke=\"black\" points=\"314.149,-125.819 303.925,-123.04 310.185,-131.588 314.149,-125.819\"/>\n",
       "<text text-anchor=\"middle\" x=\"329.923\" y=\"-141.8\" font-family=\"Times,serif\" font-size=\"14.00\">0</text>\n",
       "</g>\n",
       "<!-- St3&#45;&gt;St1 -->\n",
       "<g id=\"edge14\" class=\"edge\"><title>St3&#45;&gt;St1</title>\n",
       "<path fill=\"none\" stroke=\"black\" d=\"M400.92,-153.221C409.559,-157.654 419.443,-162.901 428.231,-168 432.437,-170.44 436.83,-173.125 441.086,-175.802\"/>\n",
       "<polygon fill=\"black\" stroke=\"black\" points=\"439.218,-178.762 449.527,-181.205 442.992,-172.866 439.218,-178.762\"/>\n",
       "<text text-anchor=\"middle\" x=\"424.731\" y=\"-170.8\" font-family=\"Times,serif\" font-size=\"14.00\">1</text>\n",
       "</g>\n",
       "<!-- St4&#45;&gt;St2 -->\n",
       "<g id=\"edge17\" class=\"edge\"><title>St4&#45;&gt;St2</title>\n",
       "<path fill=\"none\" stroke=\"black\" d=\"M732.23,-46.5337C715.557,-26.8303 686.944,-0 654.75,-0 198.712,-0 198.712,-0 198.712,-0 179.327,-0 158.501,-6.28597 142.338,-12.6763\"/>\n",
       "<polygon fill=\"black\" stroke=\"black\" points=\"140.805,-9.5238 132.932,-16.6134 143.508,-15.981 140.805,-9.5238\"/>\n",
       "<text text-anchor=\"middle\" x=\"424.731\" y=\"-2.8\" font-family=\"Times,serif\" font-size=\"14.00\">0</text>\n",
       "</g>\n",
       "<!-- St4&#45;&gt;St5 -->\n",
       "<g id=\"edge16\" class=\"edge\"><title>St4&#45;&gt;St5</title>\n",
       "<path fill=\"none\" stroke=\"black\" d=\"M723.854,-58.5795C705.297,-52.7371 678.704,-46 654.75,-46 285.519,-46 285.519,-46 285.519,-46 266.135,-46 245.309,-52.286 229.146,-58.6763\"/>\n",
       "<polygon fill=\"black\" stroke=\"black\" points=\"227.613,-55.5238 219.739,-62.6134 230.315,-61.981 227.613,-55.5238\"/>\n",
       "<text text-anchor=\"middle\" x=\"468.135\" y=\"-48.8\" font-family=\"Times,serif\" font-size=\"14.00\">1</text>\n",
       "</g>\n",
       "<!-- St0&#45;&gt;St6 -->\n",
       "<g id=\"edge11\" class=\"edge\"><title>St0&#45;&gt;St6</title>\n",
       "<path fill=\"none\" stroke=\"black\" d=\"M584.327,-177.169C594.877,-174.213 607.405,-170.703 618.839,-167.5\"/>\n",
       "<polygon fill=\"black\" stroke=\"black\" points=\"619.844,-170.854 628.529,-164.786 617.955,-164.113 619.844,-170.854\"/>\n",
       "<text text-anchor=\"middle\" x=\"606.346\" y=\"-174.8\" font-family=\"Times,serif\" font-size=\"14.00\">0</text>\n",
       "</g>\n",
       "<!-- St0&#45;&gt;St0 -->\n",
       "<g id=\"edge10\" class=\"edge\"><title>St0&#45;&gt;St0</title>\n",
       "<path fill=\"none\" stroke=\"black\" d=\"M550.393,-208.824C549.804,-219.15 552.653,-227.904 558.943,-227.904 562.971,-227.904 565.589,-224.311 566.795,-219.014\"/>\n",
       "<polygon fill=\"black\" stroke=\"black\" points=\"570.301,-219.039 567.492,-208.824 563.317,-218.562 570.301,-219.039\"/>\n",
       "<text text-anchor=\"middle\" x=\"558.943\" y=\"-230.704\" font-family=\"Times,serif\" font-size=\"14.00\">1</text>\n",
       "</g>\n",
       "</g>\n",
       "</svg>\n"
      ],
      "text/plain": [
       "<graphviz.dot.Digraph at 0x11117e7b8>"
      ]
     },
     "execution_count": 44,
     "metadata": {},
     "output_type": "execute_result"
    }
   ],
   "source": [
    "dotObj_dfa(nfa2dfa(NFA_fig61ab), 'n1')"
   ]
  },
  {
   "cell_type": "markdown",
   "metadata": {
    "editable": false,
    "run_control": {
     "frozen": false,
     "read_only": false
    }
   },
   "source": [
    "# Brzozowski's DFA Minimization\n",
    "\n",
    "Picking up from our earlier discussions, to minimize a DFA using Brzozowski's algorithm, here are the steps:\n",
    "\n",
    "* Make sure that the given DFA has no unreachable states\n",
    "* Reverse the DFA\n",
    "* Determinize it\n",
    "* Reverse that DFA\n",
    "* Determinize it\n",
    "\n",
    "Thus we need to write a routine to reverse a DFA. We already have a way to ensure that a DFA does not have unreachable states (in another Jupyter notebook; we won't bother to include it here, and trust the user to always provide such DFA only).\n",
    "\n",
    "We can observe that if a DFA has black-hole states, then those states won't matter in the reversed machine (reversed NFA). Thus, we can work with __partial__ dfa (i.e., DFA that are partially consistent)."
   ]
  },
  {
   "cell_type": "markdown",
   "metadata": {
    "editable": false,
    "run_control": {
     "frozen": false,
     "read_only": false
    }
   },
   "source": [
    "## DFA reversal"
   ]
  },
  {
   "cell_type": "code",
   "execution_count": 45,
   "metadata": {
    "collapsed": false,
    "editable": true,
    "run_control": {
     "frozen": false,
     "read_only": false
    }
   },
   "outputs": [],
   "source": [
    "def inSets(D,trg,ch):\n",
    "    \"\"\"In : D   = partially consistent dfa,\n",
    "            trg = a target state in D[\"q\"]\n",
    "            ch  = a member of D[\"Sigma\"]\n",
    "       Out: a set of states. { q s.t. Delta[q,ch] == trg }\n",
    "    \"\"\"\n",
    "    return { q for q in D[\"Q\"] if D[\"Delta\"][(q,ch)] == trg }\n",
    "\n",
    "def rev_dfa(D):\n",
    "    \"\"\"In : D = a partially consistent DFA without any unreachable states.\n",
    "       Out: A consistent NFA whose language is D's language reversed.\n",
    "    \"\"\"\n",
    "    # 1. Given that NFAs start from a SET of states, we already have that\n",
    "    #   info. No need to add any transitions from \"a new initial state\" \n",
    "    #   etc\n",
    "    \n",
    "    # 2. Now add the inSets of each state as the NFA next set of states\n",
    "    NDict = { (q,ch) : inSets(D,q,ch) \n",
    "              for q in D[\"Q\"] \n",
    "              for ch in D[\"Sigma\"] }\n",
    "    \n",
    "    # Notice that we retain D[\"Q\"] and start from Q0 = D[\"F\"]\n",
    "    # going backwards along NDict toward F_dfa = { D[\"q0\"] }\n",
    "    return mk_nfa(D[\"Q\"], D[\"Sigma\"], NDict, D[\"F\"], {D[\"q0\"]})"
   ]
  },
  {
   "cell_type": "code",
   "execution_count": 46,
   "metadata": {
    "collapsed": false,
    "editable": true,
    "run_control": {
     "frozen": false,
     "read_only": false
    }
   },
   "outputs": [
    {
     "data": {
      "image/svg+xml": [
       "<?xml version=\"1.0\" encoding=\"UTF-8\" standalone=\"no\"?>\n",
       "<!DOCTYPE svg PUBLIC \"-//W3C//DTD SVG 1.1//EN\"\n",
       " \"http://www.w3.org/Graphics/SVG/1.1/DTD/svg11.dtd\">\n",
       "<!-- Generated by graphviz version 2.38.0 (20140413.2041)\n",
       " -->\n",
       "<!-- Title: %3 Pages: 1 -->\n",
       "<svg width=\"301pt\" height=\"137pt\"\n",
       " viewBox=\"0.00 0.00 301.00 137.00\" xmlns=\"http://www.w3.org/2000/svg\" xmlns:xlink=\"http://www.w3.org/1999/xlink\">\n",
       "<g id=\"graph0\" class=\"graph\" transform=\"scale(1 1) rotate(0) translate(4 133)\">\n",
       "<title>%3</title>\n",
       "<polygon fill=\"white\" stroke=\"none\" points=\"-4,4 -4,-133 297,-133 297,4 -4,4\"/>\n",
       "<!-- EMPTY -->\n",
       "<g id=\"node1\" class=\"node\"><title>EMPTY</title>\n",
       "</g>\n",
       "<!-- IF -->\n",
       "<g id=\"node4\" class=\"node\"><title>IF</title>\n",
       "<ellipse fill=\"none\" stroke=\"black\" cx=\"113\" cy=\"-75\" rx=\"18\" ry=\"18\"/>\n",
       "<ellipse fill=\"none\" stroke=\"black\" cx=\"113\" cy=\"-75\" rx=\"22\" ry=\"22\"/>\n",
       "<text text-anchor=\"middle\" x=\"113\" y=\"-70.8\" font-family=\"Times,serif\" font-size=\"14.00\">IF</text>\n",
       "</g>\n",
       "<!-- EMPTY&#45;&gt;IF -->\n",
       "<g id=\"edge1\" class=\"edge\"><title>EMPTY&#45;&gt;IF</title>\n",
       "<path fill=\"none\" stroke=\"black\" d=\"M54.1177,-75C62.5406,-75 71.9629,-75 80.7191,-75\"/>\n",
       "<polygon fill=\"black\" stroke=\"black\" points=\"80.9574,-78.5001 90.9574,-75 80.9573,-71.5001 80.9574,-78.5001\"/>\n",
       "</g>\n",
       "<!-- A -->\n",
       "<g id=\"node2\" class=\"node\"><title>A</title>\n",
       "<ellipse fill=\"none\" stroke=\"black\" cx=\"196\" cy=\"-18\" rx=\"18\" ry=\"18\"/>\n",
       "<text text-anchor=\"middle\" x=\"196\" y=\"-13.8\" font-family=\"Times,serif\" font-size=\"14.00\">A</text>\n",
       "</g>\n",
       "<!-- A&#45;&gt;A -->\n",
       "<g id=\"edge5\" class=\"edge\"><title>A&#45;&gt;A</title>\n",
       "<path fill=\"none\" stroke=\"black\" d=\"M189.266,-35.0373C187.892,-44.8579 190.137,-54 196,-54 199.665,-54 201.916,-50.4289 202.753,-45.3529\"/>\n",
       "<polygon fill=\"black\" stroke=\"black\" points=\"206.252,-45.0307 202.734,-35.0373 199.252,-45.0439 206.252,-45.0307\"/>\n",
       "<text text-anchor=\"middle\" x=\"196\" y=\"-56.8\" font-family=\"Times,serif\" font-size=\"14.00\">1</text>\n",
       "</g>\n",
       "<!-- B -->\n",
       "<g id=\"node3\" class=\"node\"><title>B</title>\n",
       "<ellipse fill=\"none\" stroke=\"black\" cx=\"275\" cy=\"-75\" rx=\"18\" ry=\"18\"/>\n",
       "<text text-anchor=\"middle\" x=\"275\" y=\"-70.8\" font-family=\"Times,serif\" font-size=\"14.00\">B</text>\n",
       "</g>\n",
       "<!-- A&#45;&gt;B -->\n",
       "<g id=\"edge4\" class=\"edge\"><title>A&#45;&gt;B</title>\n",
       "<path fill=\"none\" stroke=\"black\" d=\"M211.123,-28.4547C222.52,-36.8913 238.758,-48.9118 251.878,-58.6237\"/>\n",
       "<polygon fill=\"black\" stroke=\"black\" points=\"249.847,-61.4749 259.967,-64.6116 254.012,-55.8487 249.847,-61.4749\"/>\n",
       "<text text-anchor=\"middle\" x=\"235.5\" y=\"-50.8\" font-family=\"Times,serif\" font-size=\"14.00\">0</text>\n",
       "</g>\n",
       "<!-- B&#45;&gt;B -->\n",
       "<g id=\"edge7\" class=\"edge\"><title>B&#45;&gt;B</title>\n",
       "<path fill=\"none\" stroke=\"black\" d=\"M268.266,-92.0373C266.892,-101.858 269.137,-111 275,-111 278.665,-111 280.916,-107.429 281.753,-102.353\"/>\n",
       "<polygon fill=\"black\" stroke=\"black\" points=\"285.252,-102.031 281.734,-92.0373 278.252,-102.044 285.252,-102.031\"/>\n",
       "<text text-anchor=\"middle\" x=\"275\" y=\"-113.8\" font-family=\"Times,serif\" font-size=\"14.00\">1</text>\n",
       "</g>\n",
       "<!-- B&#45;&gt;IF -->\n",
       "<g id=\"edge6\" class=\"edge\"><title>B&#45;&gt;IF</title>\n",
       "<path fill=\"none\" stroke=\"black\" d=\"M256.935,-75.7202C244.929,-76.1898 228.485,-76.7586 214,-77 198.002,-77.2666 193.998,-77.2499 178,-77 167.358,-76.8338 155.724,-76.5121 145.329,-76.1746\"/>\n",
       "<polygon fill=\"black\" stroke=\"black\" points=\"145.152,-72.6666 135.038,-75.8229 144.913,-79.6625 145.152,-72.6666\"/>\n",
       "<text text-anchor=\"middle\" x=\"196\" y=\"-79.8\" font-family=\"Times,serif\" font-size=\"14.00\">0</text>\n",
       "</g>\n",
       "<!-- IF&#45;&gt;A -->\n",
       "<g id=\"edge2\" class=\"edge\"><title>IF&#45;&gt;A</title>\n",
       "<path fill=\"none\" stroke=\"black\" d=\"M131.576,-62.6318C143.522,-54.2252 159.436,-43.0264 172.335,-33.9498\"/>\n",
       "<polygon fill=\"black\" stroke=\"black\" points=\"174.533,-36.6827 180.697,-28.0654 170.504,-30.958 174.533,-36.6827\"/>\n",
       "<text text-anchor=\"middle\" x=\"156.5\" y=\"-48.8\" font-family=\"Times,serif\" font-size=\"14.00\">0</text>\n",
       "</g>\n",
       "<!-- IF&#45;&gt;IF -->\n",
       "<g id=\"edge3\" class=\"edge\"><title>IF&#45;&gt;IF</title>\n",
       "<path fill=\"none\" stroke=\"black\" d=\"M105.683,-95.9908C104.78,-106.087 107.219,-115 113,-115 116.704,-115 119.036,-111.342 119.996,-106.059\"/>\n",
       "<polygon fill=\"black\" stroke=\"black\" points=\"123.496,-106.097 120.317,-95.9908 116.5,-105.874 123.496,-106.097\"/>\n",
       "<text text-anchor=\"middle\" x=\"113\" y=\"-117.8\" font-family=\"Times,serif\" font-size=\"14.00\">1</text>\n",
       "</g>\n",
       "</g>\n",
       "</svg>\n"
      ],
      "text/plain": [
       "<graphviz.dot.Digraph at 0x111190080>"
      ]
     },
     "execution_count": 46,
     "metadata": {},
     "output_type": "execute_result"
    }
   ],
   "source": [
    "DFA34 = { 'Q': {'A', 'IF', 'B'},\n",
    "          'Sigma': {'0', '1'},\n",
    "          'Delta': { ('IF', '0'): 'A',\n",
    "                     ('IF', '1'): 'IF',\n",
    "                     ('A', '0'): 'B',\n",
    "                     ('A', '1'): 'A',\n",
    "                     ('B', '0'): 'IF',\n",
    "                     ('B', '1'): 'B' },\n",
    "          'q0': 'IF', \n",
    "          'F': {'IF'}   \n",
    "        }\n",
    "dotObj_dfa(DFA34, \"DFA34\")"
   ]
  },
  {
   "cell_type": "code",
   "execution_count": 47,
   "metadata": {
    "collapsed": false,
    "editable": false,
    "run_control": {
     "frozen": false,
     "read_only": false
    }
   },
   "outputs": [
    {
     "data": {
      "image/svg+xml": [
       "<?xml version=\"1.0\" encoding=\"UTF-8\" standalone=\"no\"?>\n",
       "<!DOCTYPE svg PUBLIC \"-//W3C//DTD SVG 1.1//EN\"\n",
       " \"http://www.w3.org/Graphics/SVG/1.1/DTD/svg11.dtd\">\n",
       "<!-- Generated by graphviz version 2.38.0 (20140413.2041)\n",
       " -->\n",
       "<!-- Title: %3 Pages: 1 -->\n",
       "<svg width=\"301pt\" height=\"137pt\"\n",
       " viewBox=\"0.00 0.00 301.00 137.00\" xmlns=\"http://www.w3.org/2000/svg\" xmlns:xlink=\"http://www.w3.org/1999/xlink\">\n",
       "<g id=\"graph0\" class=\"graph\" transform=\"scale(1 1) rotate(0) translate(4 133)\">\n",
       "<title>%3</title>\n",
       "<polygon fill=\"white\" stroke=\"none\" points=\"-4,4 -4,-133 297,-133 297,4 -4,4\"/>\n",
       "<!-- EMPTY -->\n",
       "<g id=\"node1\" class=\"node\"><title>EMPTY</title>\n",
       "</g>\n",
       "<!-- IF -->\n",
       "<g id=\"node4\" class=\"node\"><title>IF</title>\n",
       "<ellipse fill=\"none\" stroke=\"black\" cx=\"113\" cy=\"-75\" rx=\"18\" ry=\"18\"/>\n",
       "<ellipse fill=\"none\" stroke=\"black\" cx=\"113\" cy=\"-75\" rx=\"22\" ry=\"22\"/>\n",
       "<text text-anchor=\"middle\" x=\"113\" y=\"-70.8\" font-family=\"Times,serif\" font-size=\"14.00\">IF</text>\n",
       "</g>\n",
       "<!-- EMPTY&#45;&gt;IF -->\n",
       "<g id=\"edge1\" class=\"edge\"><title>EMPTY&#45;&gt;IF</title>\n",
       "<path fill=\"none\" stroke=\"black\" d=\"M54.1177,-75C62.5406,-75 71.9629,-75 80.7191,-75\"/>\n",
       "<polygon fill=\"black\" stroke=\"black\" points=\"80.9574,-78.5001 90.9574,-75 80.9573,-71.5001 80.9574,-78.5001\"/>\n",
       "</g>\n",
       "<!-- A -->\n",
       "<g id=\"node2\" class=\"node\"><title>A</title>\n",
       "<ellipse fill=\"none\" stroke=\"black\" cx=\"275\" cy=\"-75\" rx=\"18\" ry=\"18\"/>\n",
       "<text text-anchor=\"middle\" x=\"275\" y=\"-70.8\" font-family=\"Times,serif\" font-size=\"14.00\">A</text>\n",
       "</g>\n",
       "<!-- A&#45;&gt;A -->\n",
       "<g id=\"edge6\" class=\"edge\"><title>A&#45;&gt;A</title>\n",
       "<path fill=\"none\" stroke=\"black\" d=\"M268.266,-92.0373C266.892,-101.858 269.137,-111 275,-111 278.665,-111 280.916,-107.429 281.753,-102.353\"/>\n",
       "<polygon fill=\"black\" stroke=\"black\" points=\"285.252,-102.031 281.734,-92.0373 278.252,-102.044 285.252,-102.031\"/>\n",
       "<text text-anchor=\"middle\" x=\"275\" y=\"-113.8\" font-family=\"Times,serif\" font-size=\"14.00\">1</text>\n",
       "</g>\n",
       "<!-- A&#45;&gt;IF -->\n",
       "<g id=\"edge7\" class=\"edge\"><title>A&#45;&gt;IF</title>\n",
       "<path fill=\"none\" stroke=\"black\" d=\"M256.935,-75.7202C244.929,-76.1898 228.485,-76.7586 214,-77 198.002,-77.2666 193.998,-77.2499 178,-77 167.358,-76.8338 155.724,-76.5121 145.329,-76.1746\"/>\n",
       "<polygon fill=\"black\" stroke=\"black\" points=\"145.152,-72.6666 135.038,-75.8229 144.913,-79.6625 145.152,-72.6666\"/>\n",
       "<text text-anchor=\"middle\" x=\"196\" y=\"-79.8\" font-family=\"Times,serif\" font-size=\"14.00\">0</text>\n",
       "</g>\n",
       "<!-- B -->\n",
       "<g id=\"node3\" class=\"node\"><title>B</title>\n",
       "<ellipse fill=\"none\" stroke=\"black\" cx=\"196\" cy=\"-18\" rx=\"18\" ry=\"18\"/>\n",
       "<text text-anchor=\"middle\" x=\"196\" y=\"-13.8\" font-family=\"Times,serif\" font-size=\"14.00\">B</text>\n",
       "</g>\n",
       "<!-- B&#45;&gt;A -->\n",
       "<g id=\"edge5\" class=\"edge\"><title>B&#45;&gt;A</title>\n",
       "<path fill=\"none\" stroke=\"black\" d=\"M211.123,-28.4547C222.52,-36.8913 238.758,-48.9118 251.878,-58.6237\"/>\n",
       "<polygon fill=\"black\" stroke=\"black\" points=\"249.847,-61.4749 259.967,-64.6116 254.012,-55.8487 249.847,-61.4749\"/>\n",
       "<text text-anchor=\"middle\" x=\"235.5\" y=\"-50.8\" font-family=\"Times,serif\" font-size=\"14.00\">0</text>\n",
       "</g>\n",
       "<!-- B&#45;&gt;B -->\n",
       "<g id=\"edge4\" class=\"edge\"><title>B&#45;&gt;B</title>\n",
       "<path fill=\"none\" stroke=\"black\" d=\"M189.266,-35.0373C187.892,-44.8579 190.137,-54 196,-54 199.665,-54 201.916,-50.4289 202.753,-45.3529\"/>\n",
       "<polygon fill=\"black\" stroke=\"black\" points=\"206.252,-45.0307 202.734,-35.0373 199.252,-45.0439 206.252,-45.0307\"/>\n",
       "<text text-anchor=\"middle\" x=\"196\" y=\"-56.8\" font-family=\"Times,serif\" font-size=\"14.00\">1</text>\n",
       "</g>\n",
       "<!-- IF&#45;&gt;B -->\n",
       "<g id=\"edge3\" class=\"edge\"><title>IF&#45;&gt;B</title>\n",
       "<path fill=\"none\" stroke=\"black\" d=\"M131.576,-62.6318C143.522,-54.2252 159.436,-43.0264 172.335,-33.9498\"/>\n",
       "<polygon fill=\"black\" stroke=\"black\" points=\"174.533,-36.6827 180.697,-28.0654 170.504,-30.958 174.533,-36.6827\"/>\n",
       "<text text-anchor=\"middle\" x=\"156.5\" y=\"-48.8\" font-family=\"Times,serif\" font-size=\"14.00\">0</text>\n",
       "</g>\n",
       "<!-- IF&#45;&gt;IF -->\n",
       "<g id=\"edge2\" class=\"edge\"><title>IF&#45;&gt;IF</title>\n",
       "<path fill=\"none\" stroke=\"black\" d=\"M105.683,-95.9908C104.78,-106.087 107.219,-115 113,-115 116.704,-115 119.036,-111.342 119.996,-106.059\"/>\n",
       "<polygon fill=\"black\" stroke=\"black\" points=\"123.496,-106.097 120.317,-95.9908 116.5,-105.874 123.496,-106.097\"/>\n",
       "<text text-anchor=\"middle\" x=\"113\" y=\"-117.8\" font-family=\"Times,serif\" font-size=\"14.00\">1</text>\n",
       "</g>\n",
       "</g>\n",
       "</svg>\n"
      ],
      "text/plain": [
       "<graphviz.dot.Digraph at 0x1111889e8>"
      ]
     },
     "execution_count": 47,
     "metadata": {},
     "output_type": "execute_result"
    }
   ],
   "source": [
    "DFA34_rev = rev_dfa(DFA34)\n",
    "dotObj_nfa(DFA34_rev, \"DFA34_rev\")"
   ]
  },
  {
   "cell_type": "code",
   "execution_count": 48,
   "metadata": {
    "collapsed": false,
    "editable": false,
    "run_control": {
     "frozen": false,
     "read_only": false
    }
   },
   "outputs": [
    {
     "data": {
      "image/svg+xml": [
       "<?xml version=\"1.0\" encoding=\"UTF-8\" standalone=\"no\"?>\n",
       "<!DOCTYPE svg PUBLIC \"-//W3C//DTD SVG 1.1//EN\"\n",
       " \"http://www.w3.org/Graphics/SVG/1.1/DTD/svg11.dtd\">\n",
       "<!-- Generated by graphviz version 2.38.0 (20140413.2041)\n",
       " -->\n",
       "<!-- Title: %3 Pages: 1 -->\n",
       "<svg width=\"301pt\" height=\"137pt\"\n",
       " viewBox=\"0.00 0.00 301.00 137.00\" xmlns=\"http://www.w3.org/2000/svg\" xmlns:xlink=\"http://www.w3.org/1999/xlink\">\n",
       "<g id=\"graph0\" class=\"graph\" transform=\"scale(1 1) rotate(0) translate(4 133)\">\n",
       "<title>%3</title>\n",
       "<polygon fill=\"white\" stroke=\"none\" points=\"-4,4 -4,-133 297,-133 297,4 -4,4\"/>\n",
       "<!-- EMPTY -->\n",
       "<g id=\"node1\" class=\"node\"><title>EMPTY</title>\n",
       "</g>\n",
       "<!-- IF -->\n",
       "<g id=\"node4\" class=\"node\"><title>IF</title>\n",
       "<ellipse fill=\"none\" stroke=\"black\" cx=\"113\" cy=\"-75\" rx=\"18\" ry=\"18\"/>\n",
       "<ellipse fill=\"none\" stroke=\"black\" cx=\"113\" cy=\"-75\" rx=\"22\" ry=\"22\"/>\n",
       "<text text-anchor=\"middle\" x=\"113\" y=\"-70.8\" font-family=\"Times,serif\" font-size=\"14.00\">IF</text>\n",
       "</g>\n",
       "<!-- EMPTY&#45;&gt;IF -->\n",
       "<g id=\"edge1\" class=\"edge\"><title>EMPTY&#45;&gt;IF</title>\n",
       "<path fill=\"none\" stroke=\"black\" d=\"M54.1177,-75C62.5406,-75 71.9629,-75 80.7191,-75\"/>\n",
       "<polygon fill=\"black\" stroke=\"black\" points=\"80.9574,-78.5001 90.9574,-75 80.9573,-71.5001 80.9574,-78.5001\"/>\n",
       "</g>\n",
       "<!-- A -->\n",
       "<g id=\"node2\" class=\"node\"><title>A</title>\n",
       "<ellipse fill=\"none\" stroke=\"black\" cx=\"275\" cy=\"-75\" rx=\"18\" ry=\"18\"/>\n",
       "<text text-anchor=\"middle\" x=\"275\" y=\"-70.8\" font-family=\"Times,serif\" font-size=\"14.00\">A</text>\n",
       "</g>\n",
       "<!-- A&#45;&gt;A -->\n",
       "<g id=\"edge6\" class=\"edge\"><title>A&#45;&gt;A</title>\n",
       "<path fill=\"none\" stroke=\"black\" d=\"M268.266,-92.0373C266.892,-101.858 269.137,-111 275,-111 278.665,-111 280.916,-107.429 281.753,-102.353\"/>\n",
       "<polygon fill=\"black\" stroke=\"black\" points=\"285.252,-102.031 281.734,-92.0373 278.252,-102.044 285.252,-102.031\"/>\n",
       "<text text-anchor=\"middle\" x=\"275\" y=\"-113.8\" font-family=\"Times,serif\" font-size=\"14.00\">1</text>\n",
       "</g>\n",
       "<!-- A&#45;&gt;IF -->\n",
       "<g id=\"edge7\" class=\"edge\"><title>A&#45;&gt;IF</title>\n",
       "<path fill=\"none\" stroke=\"black\" d=\"M256.935,-75.7202C244.929,-76.1898 228.485,-76.7586 214,-77 198.002,-77.2666 193.998,-77.2499 178,-77 167.358,-76.8338 155.724,-76.5121 145.329,-76.1746\"/>\n",
       "<polygon fill=\"black\" stroke=\"black\" points=\"145.152,-72.6666 135.038,-75.8229 144.913,-79.6625 145.152,-72.6666\"/>\n",
       "<text text-anchor=\"middle\" x=\"196\" y=\"-79.8\" font-family=\"Times,serif\" font-size=\"14.00\">0</text>\n",
       "</g>\n",
       "<!-- B -->\n",
       "<g id=\"node3\" class=\"node\"><title>B</title>\n",
       "<ellipse fill=\"none\" stroke=\"black\" cx=\"196\" cy=\"-18\" rx=\"18\" ry=\"18\"/>\n",
       "<text text-anchor=\"middle\" x=\"196\" y=\"-13.8\" font-family=\"Times,serif\" font-size=\"14.00\">B</text>\n",
       "</g>\n",
       "<!-- B&#45;&gt;A -->\n",
       "<g id=\"edge5\" class=\"edge\"><title>B&#45;&gt;A</title>\n",
       "<path fill=\"none\" stroke=\"black\" d=\"M211.123,-28.4547C222.52,-36.8913 238.758,-48.9118 251.878,-58.6237\"/>\n",
       "<polygon fill=\"black\" stroke=\"black\" points=\"249.847,-61.4749 259.967,-64.6116 254.012,-55.8487 249.847,-61.4749\"/>\n",
       "<text text-anchor=\"middle\" x=\"235.5\" y=\"-50.8\" font-family=\"Times,serif\" font-size=\"14.00\">0</text>\n",
       "</g>\n",
       "<!-- B&#45;&gt;B -->\n",
       "<g id=\"edge4\" class=\"edge\"><title>B&#45;&gt;B</title>\n",
       "<path fill=\"none\" stroke=\"black\" d=\"M189.266,-35.0373C187.892,-44.8579 190.137,-54 196,-54 199.665,-54 201.916,-50.4289 202.753,-45.3529\"/>\n",
       "<polygon fill=\"black\" stroke=\"black\" points=\"206.252,-45.0307 202.734,-35.0373 199.252,-45.0439 206.252,-45.0307\"/>\n",
       "<text text-anchor=\"middle\" x=\"196\" y=\"-56.8\" font-family=\"Times,serif\" font-size=\"14.00\">1</text>\n",
       "</g>\n",
       "<!-- IF&#45;&gt;B -->\n",
       "<g id=\"edge3\" class=\"edge\"><title>IF&#45;&gt;B</title>\n",
       "<path fill=\"none\" stroke=\"black\" d=\"M131.576,-62.6318C143.522,-54.2252 159.436,-43.0264 172.335,-33.9498\"/>\n",
       "<polygon fill=\"black\" stroke=\"black\" points=\"174.533,-36.6827 180.697,-28.0654 170.504,-30.958 174.533,-36.6827\"/>\n",
       "<text text-anchor=\"middle\" x=\"156.5\" y=\"-48.8\" font-family=\"Times,serif\" font-size=\"14.00\">0</text>\n",
       "</g>\n",
       "<!-- IF&#45;&gt;IF -->\n",
       "<g id=\"edge2\" class=\"edge\"><title>IF&#45;&gt;IF</title>\n",
       "<path fill=\"none\" stroke=\"black\" d=\"M105.683,-95.9908C104.78,-106.087 107.219,-115 113,-115 116.704,-115 119.036,-111.342 119.996,-106.059\"/>\n",
       "<polygon fill=\"black\" stroke=\"black\" points=\"123.496,-106.097 120.317,-95.9908 116.5,-105.874 123.496,-106.097\"/>\n",
       "<text text-anchor=\"middle\" x=\"113\" y=\"-117.8\" font-family=\"Times,serif\" font-size=\"14.00\">1</text>\n",
       "</g>\n",
       "</g>\n",
       "</svg>\n"
      ],
      "text/plain": [
       "<graphviz.dot.Digraph at 0x111188e80>"
      ]
     },
     "execution_count": 48,
     "metadata": {},
     "output_type": "execute_result"
    }
   ],
   "source": [
    "DFA34_rev_det = nfa2dfa(DFA34_rev)\n",
    "dotObj_dfa(DFA34_rev_det, \"DFA34_rev_det\")"
   ]
  },
  {
   "cell_type": "code",
   "execution_count": 49,
   "metadata": {
    "collapsed": false,
    "editable": false,
    "run_control": {
     "frozen": false,
     "read_only": false
    }
   },
   "outputs": [
    {
     "data": {
      "image/svg+xml": [
       "<?xml version=\"1.0\" encoding=\"UTF-8\" standalone=\"no\"?>\n",
       "<!DOCTYPE svg PUBLIC \"-//W3C//DTD SVG 1.1//EN\"\n",
       " \"http://www.w3.org/Graphics/SVG/1.1/DTD/svg11.dtd\">\n",
       "<!-- Generated by graphviz version 2.38.0 (20140413.2041)\n",
       " -->\n",
       "<!-- Title: %3 Pages: 1 -->\n",
       "<svg width=\"301pt\" height=\"137pt\"\n",
       " viewBox=\"0.00 0.00 301.00 137.00\" xmlns=\"http://www.w3.org/2000/svg\" xmlns:xlink=\"http://www.w3.org/1999/xlink\">\n",
       "<g id=\"graph0\" class=\"graph\" transform=\"scale(1 1) rotate(0) translate(4 133)\">\n",
       "<title>%3</title>\n",
       "<polygon fill=\"white\" stroke=\"none\" points=\"-4,4 -4,-133 297,-133 297,4 -4,4\"/>\n",
       "<!-- EMPTY -->\n",
       "<g id=\"node1\" class=\"node\"><title>EMPTY</title>\n",
       "</g>\n",
       "<!-- IF -->\n",
       "<g id=\"node4\" class=\"node\"><title>IF</title>\n",
       "<ellipse fill=\"none\" stroke=\"black\" cx=\"113\" cy=\"-75\" rx=\"18\" ry=\"18\"/>\n",
       "<ellipse fill=\"none\" stroke=\"black\" cx=\"113\" cy=\"-75\" rx=\"22\" ry=\"22\"/>\n",
       "<text text-anchor=\"middle\" x=\"113\" y=\"-70.8\" font-family=\"Times,serif\" font-size=\"14.00\">IF</text>\n",
       "</g>\n",
       "<!-- EMPTY&#45;&gt;IF -->\n",
       "<g id=\"edge1\" class=\"edge\"><title>EMPTY&#45;&gt;IF</title>\n",
       "<path fill=\"none\" stroke=\"black\" d=\"M54.1177,-75C62.5406,-75 71.9629,-75 80.7191,-75\"/>\n",
       "<polygon fill=\"black\" stroke=\"black\" points=\"80.9574,-78.5001 90.9574,-75 80.9573,-71.5001 80.9574,-78.5001\"/>\n",
       "</g>\n",
       "<!-- A -->\n",
       "<g id=\"node2\" class=\"node\"><title>A</title>\n",
       "<ellipse fill=\"none\" stroke=\"black\" cx=\"196\" cy=\"-18\" rx=\"18\" ry=\"18\"/>\n",
       "<text text-anchor=\"middle\" x=\"196\" y=\"-13.8\" font-family=\"Times,serif\" font-size=\"14.00\">A</text>\n",
       "</g>\n",
       "<!-- A&#45;&gt;A -->\n",
       "<g id=\"edge2\" class=\"edge\"><title>A&#45;&gt;A</title>\n",
       "<path fill=\"none\" stroke=\"black\" d=\"M189.266,-35.0373C187.892,-44.8579 190.137,-54 196,-54 199.665,-54 201.916,-50.4289 202.753,-45.3529\"/>\n",
       "<polygon fill=\"black\" stroke=\"black\" points=\"206.252,-45.0307 202.734,-35.0373 199.252,-45.0439 206.252,-45.0307\"/>\n",
       "<text text-anchor=\"middle\" x=\"196\" y=\"-56.8\" font-family=\"Times,serif\" font-size=\"14.00\">1</text>\n",
       "</g>\n",
       "<!-- B -->\n",
       "<g id=\"node3\" class=\"node\"><title>B</title>\n",
       "<ellipse fill=\"none\" stroke=\"black\" cx=\"275\" cy=\"-75\" rx=\"18\" ry=\"18\"/>\n",
       "<text text-anchor=\"middle\" x=\"275\" y=\"-70.8\" font-family=\"Times,serif\" font-size=\"14.00\">B</text>\n",
       "</g>\n",
       "<!-- A&#45;&gt;B -->\n",
       "<g id=\"edge3\" class=\"edge\"><title>A&#45;&gt;B</title>\n",
       "<path fill=\"none\" stroke=\"black\" d=\"M211.123,-28.4547C222.52,-36.8913 238.758,-48.9118 251.878,-58.6237\"/>\n",
       "<polygon fill=\"black\" stroke=\"black\" points=\"249.847,-61.4749 259.967,-64.6116 254.012,-55.8487 249.847,-61.4749\"/>\n",
       "<text text-anchor=\"middle\" x=\"235.5\" y=\"-50.8\" font-family=\"Times,serif\" font-size=\"14.00\">0</text>\n",
       "</g>\n",
       "<!-- B&#45;&gt;B -->\n",
       "<g id=\"edge4\" class=\"edge\"><title>B&#45;&gt;B</title>\n",
       "<path fill=\"none\" stroke=\"black\" d=\"M268.266,-92.0373C266.892,-101.858 269.137,-111 275,-111 278.665,-111 280.916,-107.429 281.753,-102.353\"/>\n",
       "<polygon fill=\"black\" stroke=\"black\" points=\"285.252,-102.031 281.734,-92.0373 278.252,-102.044 285.252,-102.031\"/>\n",
       "<text text-anchor=\"middle\" x=\"275\" y=\"-113.8\" font-family=\"Times,serif\" font-size=\"14.00\">1</text>\n",
       "</g>\n",
       "<!-- B&#45;&gt;IF -->\n",
       "<g id=\"edge5\" class=\"edge\"><title>B&#45;&gt;IF</title>\n",
       "<path fill=\"none\" stroke=\"black\" d=\"M256.935,-75.7202C244.929,-76.1898 228.485,-76.7586 214,-77 198.002,-77.2666 193.998,-77.2499 178,-77 167.358,-76.8338 155.724,-76.5121 145.329,-76.1746\"/>\n",
       "<polygon fill=\"black\" stroke=\"black\" points=\"145.152,-72.6666 135.038,-75.8229 144.913,-79.6625 145.152,-72.6666\"/>\n",
       "<text text-anchor=\"middle\" x=\"196\" y=\"-79.8\" font-family=\"Times,serif\" font-size=\"14.00\">0</text>\n",
       "</g>\n",
       "<!-- IF&#45;&gt;A -->\n",
       "<g id=\"edge7\" class=\"edge\"><title>IF&#45;&gt;A</title>\n",
       "<path fill=\"none\" stroke=\"black\" d=\"M131.576,-62.6318C143.522,-54.2252 159.436,-43.0264 172.335,-33.9498\"/>\n",
       "<polygon fill=\"black\" stroke=\"black\" points=\"174.533,-36.6827 180.697,-28.0654 170.504,-30.958 174.533,-36.6827\"/>\n",
       "<text text-anchor=\"middle\" x=\"156.5\" y=\"-48.8\" font-family=\"Times,serif\" font-size=\"14.00\">0</text>\n",
       "</g>\n",
       "<!-- IF&#45;&gt;IF -->\n",
       "<g id=\"edge6\" class=\"edge\"><title>IF&#45;&gt;IF</title>\n",
       "<path fill=\"none\" stroke=\"black\" d=\"M105.683,-95.9908C104.78,-106.087 107.219,-115 113,-115 116.704,-115 119.036,-111.342 119.996,-106.059\"/>\n",
       "<polygon fill=\"black\" stroke=\"black\" points=\"123.496,-106.097 120.317,-95.9908 116.5,-105.874 123.496,-106.097\"/>\n",
       "<text text-anchor=\"middle\" x=\"113\" y=\"-117.8\" font-family=\"Times,serif\" font-size=\"14.00\">1</text>\n",
       "</g>\n",
       "</g>\n",
       "</svg>\n"
      ],
      "text/plain": [
       "<graphviz.dot.Digraph at 0x111188668>"
      ]
     },
     "execution_count": 49,
     "metadata": {},
     "output_type": "execute_result"
    }
   ],
   "source": [
    "DFA34_rev_det_rev = rev_dfa(DFA34_rev_det)\n",
    "dotObj_nfa(DFA34_rev_det_rev, \"DFA34_rev_det_rev\")"
   ]
  },
  {
   "cell_type": "code",
   "execution_count": 50,
   "metadata": {
    "collapsed": false,
    "editable": false,
    "run_control": {
     "frozen": false,
     "read_only": false
    }
   },
   "outputs": [
    {
     "data": {
      "image/svg+xml": [
       "<?xml version=\"1.0\" encoding=\"UTF-8\" standalone=\"no\"?>\n",
       "<!DOCTYPE svg PUBLIC \"-//W3C//DTD SVG 1.1//EN\"\n",
       " \"http://www.w3.org/Graphics/SVG/1.1/DTD/svg11.dtd\">\n",
       "<!-- Generated by graphviz version 2.38.0 (20140413.2041)\n",
       " -->\n",
       "<!-- Title: %3 Pages: 1 -->\n",
       "<svg width=\"337pt\" height=\"155pt\"\n",
       " viewBox=\"0.00 0.00 337.26 154.90\" xmlns=\"http://www.w3.org/2000/svg\" xmlns:xlink=\"http://www.w3.org/1999/xlink\">\n",
       "<g id=\"graph0\" class=\"graph\" transform=\"scale(1 1) rotate(0) translate(4 150.903)\">\n",
       "<title>%3</title>\n",
       "<polygon fill=\"white\" stroke=\"none\" points=\"-4,4 -4,-150.903 333.257,-150.903 333.257,4 -4,4\"/>\n",
       "<!-- EMPTY -->\n",
       "<g id=\"node1\" class=\"node\"><title>EMPTY</title>\n",
       "</g>\n",
       "<!-- &quot;IF&quot; -->\n",
       "<g id=\"node4\" class=\"node\"><title>&quot;IF&quot;</title>\n",
       "<ellipse fill=\"none\" stroke=\"black\" cx=\"120.19\" cy=\"-85.7131\" rx=\"25.3549\" ry=\"25.3549\"/>\n",
       "<ellipse fill=\"none\" stroke=\"black\" cx=\"120.19\" cy=\"-85.7131\" rx=\"29.3811\" ry=\"29.3811\"/>\n",
       "<text text-anchor=\"middle\" x=\"120.19\" y=\"-81.5131\" font-family=\"Times,serif\" font-size=\"14.00\">&quot;IF&quot;</text>\n",
       "</g>\n",
       "<!-- EMPTY&#45;&gt;&quot;IF&quot; -->\n",
       "<g id=\"edge1\" class=\"edge\"><title>EMPTY&#45;&gt;&quot;IF&quot;</title>\n",
       "<path fill=\"none\" stroke=\"black\" d=\"M54.3759,-85.7131C62.6179,-85.7131 71.8854,-85.7131 80.7788,-85.7131\"/>\n",
       "<polygon fill=\"black\" stroke=\"black\" points=\"80.9634,-89.2132 90.9633,-85.7131 80.9633,-82.2132 80.9634,-89.2132\"/>\n",
       "</g>\n",
       "<!-- &quot;B&quot; -->\n",
       "<g id=\"node2\" class=\"node\"><title>&quot;B&quot;</title>\n",
       "<ellipse fill=\"none\" stroke=\"black\" cx=\"306.031\" cy=\"-85.7131\" rx=\"23.4526\" ry=\"23.4526\"/>\n",
       "<text text-anchor=\"middle\" x=\"306.031\" y=\"-81.5131\" font-family=\"Times,serif\" font-size=\"14.00\">&quot;B&quot;</text>\n",
       "</g>\n",
       "<!-- &quot;B&quot;&#45;&gt;&quot;B&quot; -->\n",
       "<g id=\"edge6\" class=\"edge\"><title>&quot;B&quot;&#45;&gt;&quot;B&quot;</title>\n",
       "<path fill=\"none\" stroke=\"black\" d=\"M297.945,-107.768C297.062,-117.999 299.758,-126.938 306.031,-126.938 310.05,-126.938 312.601,-123.27 313.683,-117.943\"/>\n",
       "<polygon fill=\"black\" stroke=\"black\" points=\"317.188,-117.908 314.118,-107.768 310.194,-117.609 317.188,-117.908\"/>\n",
       "<text text-anchor=\"middle\" x=\"306.031\" y=\"-129.738\" font-family=\"Times,serif\" font-size=\"14.00\">1</text>\n",
       "</g>\n",
       "<!-- &quot;B&quot;&#45;&gt;&quot;IF&quot; -->\n",
       "<g id=\"edge7\" class=\"edge\"><title>&quot;B&quot;&#45;&gt;&quot;IF&quot;</title>\n",
       "<path fill=\"none\" stroke=\"black\" d=\"M282.701,-86.9944C270.109,-87.6531 254.085,-88.3849 239.806,-88.7131 218.733,-89.1975 213.454,-89.157 192.38,-88.7131 181.806,-88.4904 170.354,-88.0819 159.79,-87.6364\"/>\n",
       "<polygon fill=\"black\" stroke=\"black\" points=\"159.733,-84.1305 149.588,-87.1842 159.423,-91.1237 159.733,-84.1305\"/>\n",
       "<text text-anchor=\"middle\" x=\"216.093\" y=\"-91.5131\" font-family=\"Times,serif\" font-size=\"14.00\">0</text>\n",
       "</g>\n",
       "<!-- &quot;A&quot; -->\n",
       "<g id=\"node3\" class=\"node\"><title>&quot;A&quot;</title>\n",
       "<ellipse fill=\"none\" stroke=\"black\" cx=\"216.093\" cy=\"-23.7131\" rx=\"23.9282\" ry=\"23.9282\"/>\n",
       "<text text-anchor=\"middle\" x=\"216.093\" y=\"-19.5131\" font-family=\"Times,serif\" font-size=\"14.00\">&quot;A&quot;</text>\n",
       "</g>\n",
       "<!-- &quot;A&quot;&#45;&gt;&quot;B&quot; -->\n",
       "<g id=\"edge5\" class=\"edge\"><title>&quot;A&quot;&#45;&gt;&quot;B&quot;</title>\n",
       "<path fill=\"none\" stroke=\"black\" d=\"M236.174,-37.1662C248.44,-45.8139 264.558,-57.1779 278.116,-66.7369\"/>\n",
       "<polygon fill=\"black\" stroke=\"black\" points=\"276.4,-69.8095 286.59,-72.7112 280.434,-64.0884 276.4,-69.8095\"/>\n",
       "<text text-anchor=\"middle\" x=\"261.306\" y=\"-58.5131\" font-family=\"Times,serif\" font-size=\"14.00\">0</text>\n",
       "</g>\n",
       "<!-- &quot;A&quot;&#45;&gt;&quot;A&quot; -->\n",
       "<g id=\"edge4\" class=\"edge\"><title>&quot;A&quot;&#45;&gt;&quot;A&quot;</title>\n",
       "<path fill=\"none\" stroke=\"black\" d=\"M208.006,-46.0291C207.124,-56.3813 209.82,-65.4263 216.093,-65.4263 220.112,-65.4263 222.663,-61.7142 223.745,-56.3244\"/>\n",
       "<polygon fill=\"black\" stroke=\"black\" points=\"227.254,-56.168 224.18,-46.0291 220.261,-55.8723 227.254,-56.168\"/>\n",
       "<text text-anchor=\"middle\" x=\"216.093\" y=\"-68.2263\" font-family=\"Times,serif\" font-size=\"14.00\">1</text>\n",
       "</g>\n",
       "<!-- &quot;IF&quot;&#45;&gt;&quot;A&quot; -->\n",
       "<g id=\"edge3\" class=\"edge\"><title>&quot;IF&quot;&#45;&gt;&quot;A&quot;</title>\n",
       "<path fill=\"none\" stroke=\"black\" d=\"M144.886,-70.0679C157.811,-61.5341 173.882,-50.9233 187.385,-42.0078\"/>\n",
       "<polygon fill=\"black\" stroke=\"black\" points=\"189.412,-44.8636 195.828,-36.4328 185.555,-39.022 189.412,-44.8636\"/>\n",
       "<text text-anchor=\"middle\" x=\"170.88\" y=\"-57.5131\" font-family=\"Times,serif\" font-size=\"14.00\">0</text>\n",
       "</g>\n",
       "<!-- &quot;IF&quot;&#45;&gt;&quot;IF&quot; -->\n",
       "<g id=\"edge2\" class=\"edge\"><title>&quot;IF&quot;&#45;&gt;&quot;IF&quot;</title>\n",
       "<path fill=\"none\" stroke=\"black\" d=\"M111.584,-113.812C111.302,-124.283 114.17,-132.903 120.19,-132.903 124.046,-132.903 126.609,-129.366 127.879,-124.07\"/>\n",
       "<polygon fill=\"black\" stroke=\"black\" points=\"131.392,-124.084 128.796,-113.812 124.42,-123.461 131.392,-124.084\"/>\n",
       "<text text-anchor=\"middle\" x=\"120.19\" y=\"-135.703\" font-family=\"Times,serif\" font-size=\"14.00\">1</text>\n",
       "</g>\n",
       "</g>\n",
       "</svg>\n"
      ],
      "text/plain": [
       "<graphviz.dot.Digraph at 0x111188208>"
      ]
     },
     "execution_count": 50,
     "metadata": {},
     "output_type": "execute_result"
    }
   ],
   "source": [
    "DFA34_rev_det_rev_det = nfa2dfa(DFA34_rev_det_rev)\n",
    "dotObj_dfa(DFA34_rev_det_rev_det, \"DFA34_rev_det_rev_det\")"
   ]
  },
  {
   "cell_type": "markdown",
   "metadata": {
    "editable": false,
    "run_control": {
     "frozen": false,
     "read_only": false
    }
   },
   "source": [
    "__TRY NEW EXAMPLE HERE__"
   ]
  },
  {
   "cell_type": "code",
   "execution_count": 51,
   "metadata": {
    "collapsed": false,
    "editable": false,
    "run_control": {
     "frozen": false,
     "read_only": false
    }
   },
   "outputs": [
    {
     "data": {
      "image/svg+xml": [
       "<?xml version=\"1.0\" encoding=\"UTF-8\" standalone=\"no\"?>\n",
       "<!DOCTYPE svg PUBLIC \"-//W3C//DTD SVG 1.1//EN\"\n",
       " \"http://www.w3.org/Graphics/SVG/1.1/DTD/svg11.dtd\">\n",
       "<!-- Generated by graphviz version 2.38.0 (20140413.2041)\n",
       " -->\n",
       "<!-- Title: %3 Pages: 1 -->\n",
       "<svg width=\"649pt\" height=\"129pt\"\n",
       " viewBox=\"0.00 0.00 648.68 129.42\" xmlns=\"http://www.w3.org/2000/svg\" xmlns:xlink=\"http://www.w3.org/1999/xlink\">\n",
       "<g id=\"graph0\" class=\"graph\" transform=\"scale(1 1) rotate(0) translate(4 125.424)\">\n",
       "<title>%3</title>\n",
       "<polygon fill=\"white\" stroke=\"none\" points=\"-4,4 -4,-125.424 644.677,-125.424 644.677,4 -4,4\"/>\n",
       "<!-- EMPTY -->\n",
       "<g id=\"node1\" class=\"node\"><title>EMPTY</title>\n",
       "</g>\n",
       "<!-- A0 -->\n",
       "<g id=\"node6\" class=\"node\"><title>A0</title>\n",
       "<ellipse fill=\"none\" stroke=\"black\" cx=\"111.915\" cy=\"-35.9971\" rx=\"20.8304\" ry=\"20.8304\"/>\n",
       "<text text-anchor=\"middle\" x=\"111.915\" y=\"-31.7971\" font-family=\"Times,serif\" font-size=\"14.00\">A0</text>\n",
       "</g>\n",
       "<!-- EMPTY&#45;&gt;A0 -->\n",
       "<g id=\"edge1\" class=\"edge\"><title>EMPTY&#45;&gt;A0</title>\n",
       "<path fill=\"none\" stroke=\"black\" d=\"M54.2348,-35.9971C62.6673,-35.9971 72.0756,-35.9971 80.766,-35.9971\"/>\n",
       "<polygon fill=\"black\" stroke=\"black\" points=\"80.8965,-39.4972 90.8965,-35.9971 80.8964,-32.4972 80.8965,-39.4972\"/>\n",
       "</g>\n",
       "<!-- B1 -->\n",
       "<g id=\"node2\" class=\"node\"><title>B1</title>\n",
       "<ellipse fill=\"none\" stroke=\"black\" cx=\"395.401\" cy=\"-69.9971\" rx=\"20.3544\" ry=\"20.3544\"/>\n",
       "<text text-anchor=\"middle\" x=\"395.401\" y=\"-65.7971\" font-family=\"Times,serif\" font-size=\"14.00\">B1</text>\n",
       "</g>\n",
       "<!-- B2 -->\n",
       "<g id=\"node4\" class=\"node\"><title>B2</title>\n",
       "<ellipse fill=\"none\" stroke=\"black\" cx=\"479.255\" cy=\"-100.997\" rx=\"20.3544\" ry=\"20.3544\"/>\n",
       "<text text-anchor=\"middle\" x=\"479.255\" y=\"-96.7971\" font-family=\"Times,serif\" font-size=\"14.00\">B2</text>\n",
       "</g>\n",
       "<!-- B1&#45;&gt;B2 -->\n",
       "<g id=\"edge6\" class=\"edge\"><title>B1&#45;&gt;B2</title>\n",
       "<path fill=\"none\" stroke=\"black\" d=\"M414.975,-77.0314C425.336,-80.9553 438.454,-85.9234 450.056,-90.3175\"/>\n",
       "<polygon fill=\"black\" stroke=\"black\" points=\"449.163,-93.7218 459.755,-93.9905 451.643,-87.1756 449.163,-93.7218\"/>\n",
       "<text text-anchor=\"middle\" x=\"437.328\" y=\"-88.7971\" font-family=\"Times,serif\" font-size=\"14.00\">1</text>\n",
       "</g>\n",
       "<!-- A1 -->\n",
       "<g id=\"node3\" class=\"node\"><title>A1</title>\n",
       "<ellipse fill=\"none\" stroke=\"black\" cx=\"196.745\" cy=\"-35.9971\" rx=\"20.8304\" ry=\"20.8304\"/>\n",
       "<text text-anchor=\"middle\" x=\"196.745\" y=\"-31.7971\" font-family=\"Times,serif\" font-size=\"14.00\">A1</text>\n",
       "</g>\n",
       "<!-- A0_B0 -->\n",
       "<g id=\"node5\" class=\"node\"><title>A0_B0</title>\n",
       "<ellipse fill=\"none\" stroke=\"black\" cx=\"296.317\" cy=\"-69.9971\" rx=\"35.8147\" ry=\"35.8147\"/>\n",
       "<text text-anchor=\"middle\" x=\"296.317\" y=\"-65.7971\" font-family=\"Times,serif\" font-size=\"14.00\">A0_B0</text>\n",
       "</g>\n",
       "<!-- A1&#45;&gt;A0_B0 -->\n",
       "<g id=\"edge3\" class=\"edge\"><title>A1&#45;&gt;A0_B0</title>\n",
       "<path fill=\"none\" stroke=\"black\" d=\"M216.549,-43.7301C222.616,-46.1461 229.392,-48.7621 235.66,-50.9971 240.971,-52.8909 246.579,-54.7974 252.146,-56.6337\"/>\n",
       "<polygon fill=\"black\" stroke=\"black\" points=\"251.457,-60.0895 262.049,-59.8451 253.616,-53.4309 251.457,-60.0895\"/>\n",
       "<text text-anchor=\"middle\" x=\"239.16\" y=\"-56.7971\" font-family=\"Times,serif\" font-size=\"14.00\">0</text>\n",
       "</g>\n",
       "<!-- A0_B0_F -->\n",
       "<g id=\"node7\" class=\"node\"><title>A0_B0_F</title>\n",
       "<ellipse fill=\"none\" stroke=\"black\" cx=\"591.679\" cy=\"-48.9971\" rx=\"44.9944\" ry=\"44.9944\"/>\n",
       "<ellipse fill=\"none\" stroke=\"black\" cx=\"591.679\" cy=\"-48.9971\" rx=\"48.9941\" ry=\"48.9941\"/>\n",
       "<text text-anchor=\"middle\" x=\"591.679\" y=\"-44.7971\" font-family=\"Times,serif\" font-size=\"14.00\">A0_B0_F</text>\n",
       "</g>\n",
       "<!-- B2&#45;&gt;A0_B0_F -->\n",
       "<g id=\"edge7\" class=\"edge\"><title>B2&#45;&gt;A0_B0_F</title>\n",
       "<path fill=\"none\" stroke=\"black\" d=\"M497.997,-92.6424C508.799,-87.5554 523.225,-80.7622 537.472,-74.0529\"/>\n",
       "<polygon fill=\"black\" stroke=\"black\" points=\"539.213,-77.1018 546.769,-69.6749 536.231,-70.7688 539.213,-77.1018\"/>\n",
       "<text text-anchor=\"middle\" x=\"521.182\" y=\"-84.7971\" font-family=\"Times,serif\" font-size=\"14.00\">1</text>\n",
       "</g>\n",
       "<!-- A0_B0&#45;&gt;B1 -->\n",
       "<g id=\"edge4\" class=\"edge\"><title>A0_B0&#45;&gt;B1</title>\n",
       "<path fill=\"none\" stroke=\"black\" d=\"M332.092,-69.9971C342.753,-69.9971 354.38,-69.9971 364.671,-69.9971\"/>\n",
       "<polygon fill=\"black\" stroke=\"black\" points=\"364.817,-73.4972 374.817,-69.9971 364.817,-66.4972 364.817,-73.4972\"/>\n",
       "<text text-anchor=\"middle\" x=\"353.474\" y=\"-72.7971\" font-family=\"Times,serif\" font-size=\"14.00\">1</text>\n",
       "</g>\n",
       "<!-- A0_B0&#45;&gt;A1 -->\n",
       "<g id=\"edge5\" class=\"edge\"><title>A0_B0&#45;&gt;A1</title>\n",
       "<path fill=\"none\" stroke=\"black\" d=\"M268.889,-46.7439C260.979,-41.1397 251.928,-35.9277 242.66,-32.9971 237.882,-31.4862 232.679,-30.9204 227.565,-30.9211\"/>\n",
       "<polygon fill=\"black\" stroke=\"black\" points=\"227.101,-27.4441 217.354,-31.5968 227.563,-34.4288 227.101,-27.4441\"/>\n",
       "<text text-anchor=\"middle\" x=\"239.16\" y=\"-35.7971\" font-family=\"Times,serif\" font-size=\"14.00\">0</text>\n",
       "</g>\n",
       "<!-- A0&#45;&gt;A1 -->\n",
       "<g id=\"edge2\" class=\"edge\"><title>A0&#45;&gt;A1</title>\n",
       "<path fill=\"none\" stroke=\"black\" d=\"M132.966,-35.9971C142.661,-35.9971 154.508,-35.9971 165.287,-35.9971\"/>\n",
       "<polygon fill=\"black\" stroke=\"black\" points=\"165.592,-39.4972 175.592,-35.9971 165.592,-32.4972 165.592,-39.4972\"/>\n",
       "<text text-anchor=\"middle\" x=\"154.33\" y=\"-38.7971\" font-family=\"Times,serif\" font-size=\"14.00\">0</text>\n",
       "</g>\n",
       "<!-- A0_B0_F&#45;&gt;B1 -->\n",
       "<g id=\"edge8\" class=\"edge\"><title>A0_B0_F&#45;&gt;B1</title>\n",
       "<path fill=\"none\" stroke=\"black\" d=\"M542.63,-50.8691C517.577,-52.2006 486.474,-54.41 458.828,-57.9971 447.829,-59.4242 435.845,-61.5803 425.344,-63.6729\"/>\n",
       "<polygon fill=\"black\" stroke=\"black\" points=\"424.517,-60.2696 415.429,-65.7152 425.93,-67.1257 424.517,-60.2696\"/>\n",
       "<text text-anchor=\"middle\" x=\"479.255\" y=\"-60.7971\" font-family=\"Times,serif\" font-size=\"14.00\">1</text>\n",
       "</g>\n",
       "<!-- A0_B0_F&#45;&gt;A1 -->\n",
       "<g id=\"edge9\" class=\"edge\"><title>A0_B0_F&#45;&gt;A1</title>\n",
       "<path fill=\"none\" stroke=\"black\" d=\"M549.858,-23.0395C529.707,-12.6054 504.554,-2.99706 480.255,-2.99706 295.317,-2.99706 295.317,-2.99706 295.317,-2.99706 270.382,-2.99706 243.662,-12.7878 224.5,-21.7035\"/>\n",
       "<polygon fill=\"black\" stroke=\"black\" points=\"222.938,-18.571 215.48,-26.096 226.003,-24.8645 222.938,-18.571\"/>\n",
       "<text text-anchor=\"middle\" x=\"395.401\" y=\"-5.79706\" font-family=\"Times,serif\" font-size=\"14.00\">0</text>\n",
       "</g>\n",
       "</g>\n",
       "</svg>\n"
      ],
      "text/plain": [
       "<graphviz.dot.Digraph at 0x1111887f0>"
      ]
     },
     "execution_count": 51,
     "metadata": {},
     "output_type": "execute_result"
    }
   ],
   "source": [
    "dotObj_dfa(n2DFA23, \"n2DFA23\")"
   ]
  },
  {
   "cell_type": "code",
   "execution_count": 52,
   "metadata": {
    "collapsed": false,
    "editable": false,
    "run_control": {
     "frozen": false,
     "read_only": false
    }
   },
   "outputs": [
    {
     "data": {
      "image/svg+xml": [
       "<?xml version=\"1.0\" encoding=\"UTF-8\" standalone=\"no\"?>\n",
       "<!DOCTYPE svg PUBLIC \"-//W3C//DTD SVG 1.1//EN\"\n",
       " \"http://www.w3.org/Graphics/SVG/1.1/DTD/svg11.dtd\">\n",
       "<!-- Generated by graphviz version 2.38.0 (20140413.2041)\n",
       " -->\n",
       "<!-- Title: %3 Pages: 1 -->\n",
       "<svg width=\"585pt\" height=\"268pt\"\n",
       " viewBox=\"0.00 0.00 584.85 268.00\" xmlns=\"http://www.w3.org/2000/svg\" xmlns:xlink=\"http://www.w3.org/1999/xlink\">\n",
       "<g id=\"graph0\" class=\"graph\" transform=\"scale(1 1) rotate(0) translate(4 264)\">\n",
       "<title>%3</title>\n",
       "<polygon fill=\"white\" stroke=\"none\" points=\"-4,4 -4,-264 580.846,-264 580.846,4 -4,4\"/>\n",
       "<!-- EMPTY -->\n",
       "<g id=\"node1\" class=\"node\"><title>EMPTY</title>\n",
       "</g>\n",
       "<!-- St6 -->\n",
       "<g id=\"node4\" class=\"node\"><title>St6</title>\n",
       "<ellipse fill=\"none\" stroke=\"black\" cx=\"112.904\" cy=\"-204\" rx=\"21.8081\" ry=\"21.8081\"/>\n",
       "<text text-anchor=\"middle\" x=\"112.904\" y=\"-199.8\" font-family=\"Times,serif\" font-size=\"14.00\">St6</text>\n",
       "</g>\n",
       "<!-- EMPTY&#45;&gt;St6 -->\n",
       "<g id=\"edge1\" class=\"edge\"><title>EMPTY&#45;&gt;St6</title>\n",
       "<path fill=\"none\" stroke=\"black\" d=\"M54.0878,-204C62.501,-204 71.9126,-204 80.6587,-204\"/>\n",
       "<polygon fill=\"black\" stroke=\"black\" points=\"80.8854,-207.5 90.8853,-204 80.8853,-200.5 80.8854,-207.5\"/>\n",
       "</g>\n",
       "<!-- St1 -->\n",
       "<g id=\"node2\" class=\"node\"><title>St1</title>\n",
       "<ellipse fill=\"none\" stroke=\"black\" cx=\"460.135\" cy=\"-81\" rx=\"21.8081\" ry=\"21.8081\"/>\n",
       "<text text-anchor=\"middle\" x=\"460.135\" y=\"-76.8\" font-family=\"Times,serif\" font-size=\"14.00\">St1</text>\n",
       "</g>\n",
       "<!-- St1&#45;&gt;St6 -->\n",
       "<g id=\"edge4\" class=\"edge\"><title>St1&#45;&gt;St6</title>\n",
       "<path fill=\"none\" stroke=\"black\" d=\"M457.838,-102.911C453.876,-147.794 437.938,-246 374.327,-246 198.712,-246 198.712,-246 198.712,-246 176.808,-246 154.719,-234.61 138.577,-223.693\"/>\n",
       "<polygon fill=\"black\" stroke=\"black\" points=\"140.432,-220.717 130.26,-217.752 136.363,-226.413 140.432,-220.717\"/>\n",
       "<text text-anchor=\"middle\" x=\"286.519\" y=\"-248.8\" font-family=\"Times,serif\" font-size=\"14.00\">0</text>\n",
       "</g>\n",
       "<!-- St3 -->\n",
       "<g id=\"node6\" class=\"node\"><title>St3</title>\n",
       "<ellipse fill=\"none\" stroke=\"black\" cx=\"373.327\" cy=\"-118\" rx=\"21.8081\" ry=\"21.8081\"/>\n",
       "<text text-anchor=\"middle\" x=\"373.327\" y=\"-113.8\" font-family=\"Times,serif\" font-size=\"14.00\">St3</text>\n",
       "</g>\n",
       "<!-- St1&#45;&gt;St3 -->\n",
       "<g id=\"edge5\" class=\"edge\"><title>St1&#45;&gt;St3</title>\n",
       "<path fill=\"none\" stroke=\"black\" d=\"M439.673,-89.4907C428.76,-94.252 414.946,-100.279 402.833,-105.563\"/>\n",
       "<polygon fill=\"black\" stroke=\"black\" points=\"401.337,-102.397 393.571,-109.604 404.137,-108.813 401.337,-102.397\"/>\n",
       "<text text-anchor=\"middle\" x=\"416.731\" y=\"-103.8\" font-family=\"Times,serif\" font-size=\"14.00\">0</text>\n",
       "</g>\n",
       "<!-- St5 -->\n",
       "<g id=\"node8\" class=\"node\"><title>St5</title>\n",
       "<ellipse fill=\"none\" stroke=\"black\" cx=\"550.943\" cy=\"-28\" rx=\"21.8229\" ry=\"21.8229\"/>\n",
       "<ellipse fill=\"none\" stroke=\"black\" cx=\"550.943\" cy=\"-28\" rx=\"25.8081\" ry=\"25.8081\"/>\n",
       "<text text-anchor=\"middle\" x=\"550.943\" y=\"-23.8\" font-family=\"Times,serif\" font-size=\"14.00\">St5</text>\n",
       "</g>\n",
       "<!-- St1&#45;&gt;St5 -->\n",
       "<g id=\"edge6\" class=\"edge\"><title>St1&#45;&gt;St5</title>\n",
       "<path fill=\"none\" stroke=\"black\" d=\"M479.536,-70.0184C491.094,-63.1205 506.281,-54.0567 519.591,-46.1136\"/>\n",
       "<polygon fill=\"black\" stroke=\"black\" points=\"521.644,-48.9643 528.438,-40.834 518.057,-42.9533 521.644,-48.9643\"/>\n",
       "<text text-anchor=\"middle\" x=\"503.539\" y=\"-60.8\" font-family=\"Times,serif\" font-size=\"14.00\">0</text>\n",
       "</g>\n",
       "<!-- St4 -->\n",
       "<g id=\"node3\" class=\"node\"><title>St4</title>\n",
       "<ellipse fill=\"none\" stroke=\"black\" cx=\"112.904\" cy=\"-62\" rx=\"21.8081\" ry=\"21.8081\"/>\n",
       "<text text-anchor=\"middle\" x=\"112.904\" y=\"-57.8\" font-family=\"Times,serif\" font-size=\"14.00\">St4</text>\n",
       "</g>\n",
       "<!-- St4&#45;&gt;St1 -->\n",
       "<g id=\"edge10\" class=\"edge\"><title>St4&#45;&gt;St1</title>\n",
       "<path fill=\"none\" stroke=\"black\" d=\"M134.266,-55.9511C151.32,-51.4202 176.386,-46 198.712,-46 198.712,-46 198.712,-46 374.327,-46 394.965,-46 416.437,-54.966 432.612,-63.822\"/>\n",
       "<polygon fill=\"black\" stroke=\"black\" points=\"431.07,-66.9731 441.477,-68.955 434.577,-60.9153 431.07,-66.9731\"/>\n",
       "<text text-anchor=\"middle\" x=\"286.519\" y=\"-48.8\" font-family=\"Times,serif\" font-size=\"14.00\">1</text>\n",
       "</g>\n",
       "<!-- St4&#45;&gt;St4 -->\n",
       "<g id=\"edge9\" class=\"edge\"><title>St4&#45;&gt;St4</title>\n",
       "<path fill=\"none\" stroke=\"black\" d=\"M109.212,-83.7542C108.861,-93.4866 110.091,-101.904 112.904,-101.904 114.662,-101.904 115.802,-98.6159 116.323,-93.7738\"/>\n",
       "<polygon fill=\"black\" stroke=\"black\" points=\"119.823,-93.8455 116.595,-83.7542 112.825,-93.6556 119.823,-93.8455\"/>\n",
       "<text text-anchor=\"middle\" x=\"112.904\" y=\"-104.704\" font-family=\"Times,serif\" font-size=\"14.00\">1</text>\n",
       "</g>\n",
       "<!-- St4&#45;&gt;St4 -->\n",
       "<g id=\"edge13\" class=\"edge\"><title>St4&#45;&gt;St4</title>\n",
       "<path fill=\"none\" stroke=\"black\" d=\"M106.595,-83.0793C103.809,-101.031 105.912,-119.904 112.904,-119.904 118.585,-119.904 121.039,-107.445 120.265,-93.1437\"/>\n",
       "<polygon fill=\"black\" stroke=\"black\" points=\"123.733,-92.6614 119.213,-83.0793 116.771,-93.3888 123.733,-92.6614\"/>\n",
       "<text text-anchor=\"middle\" x=\"112.904\" y=\"-122.704\" font-family=\"Times,serif\" font-size=\"14.00\">0</text>\n",
       "</g>\n",
       "<!-- St2 -->\n",
       "<g id=\"node5\" class=\"node\"><title>St2</title>\n",
       "<ellipse fill=\"none\" stroke=\"black\" cx=\"199.712\" cy=\"-146\" rx=\"21.8081\" ry=\"21.8081\"/>\n",
       "<text text-anchor=\"middle\" x=\"199.712\" y=\"-141.8\" font-family=\"Times,serif\" font-size=\"14.00\">St2</text>\n",
       "</g>\n",
       "<!-- St4&#45;&gt;St2 -->\n",
       "<g id=\"edge12\" class=\"edge\"><title>St4&#45;&gt;St2</title>\n",
       "<path fill=\"none\" stroke=\"black\" d=\"M127.825,-78.7608C135.033,-87.1724 144.124,-97.3792 152.808,-106 159.493,-112.638 167.088,-119.502 174.148,-125.63\"/>\n",
       "<polygon fill=\"black\" stroke=\"black\" points=\"172.227,-128.593 182.103,-132.429 176.775,-123.271 172.227,-128.593\"/>\n",
       "<text text-anchor=\"middle\" x=\"156.308\" y=\"-114.8\" font-family=\"Times,serif\" font-size=\"14.00\">0</text>\n",
       "</g>\n",
       "<!-- St0 -->\n",
       "<g id=\"node7\" class=\"node\"><title>St0</title>\n",
       "<ellipse fill=\"none\" stroke=\"black\" cx=\"286.519\" cy=\"-133\" rx=\"21.8081\" ry=\"21.8081\"/>\n",
       "<text text-anchor=\"middle\" x=\"286.519\" y=\"-128.8\" font-family=\"Times,serif\" font-size=\"14.00\">St0</text>\n",
       "</g>\n",
       "<!-- St4&#45;&gt;St0 -->\n",
       "<g id=\"edge14\" class=\"edge\"><title>St4&#45;&gt;St0</title>\n",
       "<path fill=\"none\" stroke=\"black\" d=\"M134.028,-68.5015C155.872,-75.7397 191.648,-88.1239 221.615,-101 233.607,-106.152 246.533,-112.473 257.601,-118.132\"/>\n",
       "<polygon fill=\"black\" stroke=\"black\" points=\"256.29,-121.395 266.779,-122.889 259.511,-115.18 256.29,-121.395\"/>\n",
       "<text text-anchor=\"middle\" x=\"199.712\" y=\"-103.8\" font-family=\"Times,serif\" font-size=\"14.00\">0</text>\n",
       "</g>\n",
       "<!-- St4&#45;&gt;St5 -->\n",
       "<g id=\"edge11\" class=\"edge\"><title>St4&#45;&gt;St5</title>\n",
       "<path fill=\"none\" stroke=\"black\" d=\"M126.484,-44.7295C141.443,-26.3842 168.253,-0 198.712,-0 198.712,-0 198.712,-0 461.135,-0 480.73,-0 501.679,-6.27714 518.306,-12.8872\"/>\n",
       "<polygon fill=\"black\" stroke=\"black\" points=\"516.979,-16.1259 527.554,-16.7727 519.69,-9.67233 516.979,-16.1259\"/>\n",
       "<text text-anchor=\"middle\" x=\"329.923\" y=\"-2.8\" font-family=\"Times,serif\" font-size=\"14.00\">1</text>\n",
       "</g>\n",
       "<!-- St6&#45;&gt;St2 -->\n",
       "<g id=\"edge15\" class=\"edge\"><title>St6&#45;&gt;St2</title>\n",
       "<path fill=\"none\" stroke=\"black\" d=\"M131.215,-191.287C137.913,-186.435 145.672,-180.896 152.808,-176 159.068,-171.704 165.883,-167.174 172.299,-162.971\"/>\n",
       "<polygon fill=\"black\" stroke=\"black\" points=\"174.239,-165.885 180.712,-157.497 170.421,-160.018 174.239,-165.885\"/>\n",
       "<text text-anchor=\"middle\" x=\"156.308\" y=\"-178.8\" font-family=\"Times,serif\" font-size=\"14.00\">1</text>\n",
       "</g>\n",
       "<!-- St2&#45;&gt;St0 -->\n",
       "<g id=\"edge7\" class=\"edge\"><title>St2&#45;&gt;St0</title>\n",
       "<path fill=\"none\" stroke=\"black\" d=\"M221.675,-142.787C231.637,-141.259 243.742,-139.404 254.721,-137.721\"/>\n",
       "<polygon fill=\"black\" stroke=\"black\" points=\"255.443,-141.151 264.797,-136.177 254.382,-134.232 255.443,-141.151\"/>\n",
       "<text text-anchor=\"middle\" x=\"243.115\" y=\"-142.8\" font-family=\"Times,serif\" font-size=\"14.00\">1</text>\n",
       "</g>\n",
       "<!-- St3&#45;&gt;St1 -->\n",
       "<g id=\"edge8\" class=\"edge\"><title>St3&#45;&gt;St1</title>\n",
       "<path fill=\"none\" stroke=\"black\" d=\"M387.15,-100.894C393.954,-93.2613 403.017,-85.0813 413.231,-81 417.889,-79.1388 423.031,-78.1928 428.137,-77.8244\"/>\n",
       "<polygon fill=\"black\" stroke=\"black\" points=\"428.422,-81.3231 438.403,-77.7714 428.385,-74.3231 428.422,-81.3231\"/>\n",
       "<text text-anchor=\"middle\" x=\"416.731\" y=\"-83.8\" font-family=\"Times,serif\" font-size=\"14.00\">0</text>\n",
       "</g>\n",
       "<!-- St0&#45;&gt;St6 -->\n",
       "<g id=\"edge2\" class=\"edge\"><title>St0&#45;&gt;St6</title>\n",
       "<path fill=\"none\" stroke=\"black\" d=\"M269.159,-146.72C256.802,-156.449 239.047,-169.126 221.615,-177 197.005,-188.117 167.078,-195.152 145.021,-199.244\"/>\n",
       "<polygon fill=\"black\" stroke=\"black\" points=\"144.128,-195.847 134.883,-201.021 145.337,-202.742 144.128,-195.847\"/>\n",
       "<text text-anchor=\"middle\" x=\"199.712\" y=\"-194.8\" font-family=\"Times,serif\" font-size=\"14.00\">1</text>\n",
       "</g>\n",
       "<!-- St0&#45;&gt;St3 -->\n",
       "<g id=\"edge3\" class=\"edge\"><title>St0&#45;&gt;St3</title>\n",
       "<path fill=\"none\" stroke=\"black\" d=\"M308.483,-129.292C318.445,-127.53 330.549,-125.389 341.529,-123.447\"/>\n",
       "<polygon fill=\"black\" stroke=\"black\" points=\"342.367,-126.853 351.604,-121.665 341.148,-119.96 342.367,-126.853\"/>\n",
       "<text text-anchor=\"middle\" x=\"329.923\" y=\"-128.8\" font-family=\"Times,serif\" font-size=\"14.00\">1</text>\n",
       "</g>\n",
       "</g>\n",
       "</svg>\n"
      ],
      "text/plain": [
       "<graphviz.dot.Digraph at 0x111188940>"
      ]
     },
     "execution_count": 52,
     "metadata": {},
     "output_type": "execute_result"
    }
   ],
   "source": [
    "rev_n2DFA23 = rev_dfa(n2DFA23)\n",
    "dotObj_nfa(rev_n2DFA23, \"rev23\")"
   ]
  },
  {
   "cell_type": "code",
   "execution_count": 53,
   "metadata": {
    "collapsed": false,
    "editable": false,
    "run_control": {
     "frozen": false,
     "read_only": false
    }
   },
   "outputs": [
    {
     "data": {
      "image/svg+xml": [
       "<?xml version=\"1.0\" encoding=\"UTF-8\" standalone=\"no\"?>\n",
       "<!DOCTYPE svg PUBLIC \"-//W3C//DTD SVG 1.1//EN\"\n",
       " \"http://www.w3.org/Graphics/SVG/1.1/DTD/svg11.dtd\">\n",
       "<!-- Generated by graphviz version 2.38.0 (20140413.2041)\n",
       " -->\n",
       "<!-- Title: %3 Pages: 1 -->\n",
       "<svg width=\"585pt\" height=\"268pt\"\n",
       " viewBox=\"0.00 0.00 584.85 268.00\" xmlns=\"http://www.w3.org/2000/svg\" xmlns:xlink=\"http://www.w3.org/1999/xlink\">\n",
       "<g id=\"graph0\" class=\"graph\" transform=\"scale(1 1) rotate(0) translate(4 264)\">\n",
       "<title>%3</title>\n",
       "<polygon fill=\"white\" stroke=\"none\" points=\"-4,4 -4,-264 580.846,-264 580.846,4 -4,4\"/>\n",
       "<!-- EMPTY -->\n",
       "<g id=\"node1\" class=\"node\"><title>EMPTY</title>\n",
       "</g>\n",
       "<!-- St6 -->\n",
       "<g id=\"node4\" class=\"node\"><title>St6</title>\n",
       "<ellipse fill=\"none\" stroke=\"black\" cx=\"112.904\" cy=\"-204\" rx=\"21.8081\" ry=\"21.8081\"/>\n",
       "<text text-anchor=\"middle\" x=\"112.904\" y=\"-199.8\" font-family=\"Times,serif\" font-size=\"14.00\">St6</text>\n",
       "</g>\n",
       "<!-- EMPTY&#45;&gt;St6 -->\n",
       "<g id=\"edge1\" class=\"edge\"><title>EMPTY&#45;&gt;St6</title>\n",
       "<path fill=\"none\" stroke=\"black\" d=\"M54.0878,-204C62.501,-204 71.9126,-204 80.6587,-204\"/>\n",
       "<polygon fill=\"black\" stroke=\"black\" points=\"80.8854,-207.5 90.8853,-204 80.8853,-200.5 80.8854,-207.5\"/>\n",
       "</g>\n",
       "<!-- St1 -->\n",
       "<g id=\"node2\" class=\"node\"><title>St1</title>\n",
       "<ellipse fill=\"none\" stroke=\"black\" cx=\"460.135\" cy=\"-81\" rx=\"21.8081\" ry=\"21.8081\"/>\n",
       "<text text-anchor=\"middle\" x=\"460.135\" y=\"-76.8\" font-family=\"Times,serif\" font-size=\"14.00\">St1</text>\n",
       "</g>\n",
       "<!-- St1&#45;&gt;St6 -->\n",
       "<g id=\"edge4\" class=\"edge\"><title>St1&#45;&gt;St6</title>\n",
       "<path fill=\"none\" stroke=\"black\" d=\"M457.838,-102.911C453.876,-147.794 437.938,-246 374.327,-246 198.712,-246 198.712,-246 198.712,-246 176.808,-246 154.719,-234.61 138.577,-223.693\"/>\n",
       "<polygon fill=\"black\" stroke=\"black\" points=\"140.432,-220.717 130.26,-217.752 136.363,-226.413 140.432,-220.717\"/>\n",
       "<text text-anchor=\"middle\" x=\"286.519\" y=\"-248.8\" font-family=\"Times,serif\" font-size=\"14.00\">0</text>\n",
       "</g>\n",
       "<!-- St3 -->\n",
       "<g id=\"node6\" class=\"node\"><title>St3</title>\n",
       "<ellipse fill=\"none\" stroke=\"black\" cx=\"373.327\" cy=\"-118\" rx=\"21.8081\" ry=\"21.8081\"/>\n",
       "<text text-anchor=\"middle\" x=\"373.327\" y=\"-113.8\" font-family=\"Times,serif\" font-size=\"14.00\">St3</text>\n",
       "</g>\n",
       "<!-- St1&#45;&gt;St3 -->\n",
       "<g id=\"edge5\" class=\"edge\"><title>St1&#45;&gt;St3</title>\n",
       "<path fill=\"none\" stroke=\"black\" d=\"M439.673,-89.4907C428.76,-94.252 414.946,-100.279 402.833,-105.563\"/>\n",
       "<polygon fill=\"black\" stroke=\"black\" points=\"401.337,-102.397 393.571,-109.604 404.137,-108.813 401.337,-102.397\"/>\n",
       "<text text-anchor=\"middle\" x=\"416.731\" y=\"-103.8\" font-family=\"Times,serif\" font-size=\"14.00\">0</text>\n",
       "</g>\n",
       "<!-- St5 -->\n",
       "<g id=\"node8\" class=\"node\"><title>St5</title>\n",
       "<ellipse fill=\"none\" stroke=\"black\" cx=\"550.943\" cy=\"-28\" rx=\"21.8229\" ry=\"21.8229\"/>\n",
       "<ellipse fill=\"none\" stroke=\"black\" cx=\"550.943\" cy=\"-28\" rx=\"25.8081\" ry=\"25.8081\"/>\n",
       "<text text-anchor=\"middle\" x=\"550.943\" y=\"-23.8\" font-family=\"Times,serif\" font-size=\"14.00\">St5</text>\n",
       "</g>\n",
       "<!-- St1&#45;&gt;St5 -->\n",
       "<g id=\"edge6\" class=\"edge\"><title>St1&#45;&gt;St5</title>\n",
       "<path fill=\"none\" stroke=\"black\" d=\"M479.536,-70.0184C491.094,-63.1205 506.281,-54.0567 519.591,-46.1136\"/>\n",
       "<polygon fill=\"black\" stroke=\"black\" points=\"521.644,-48.9643 528.438,-40.834 518.057,-42.9533 521.644,-48.9643\"/>\n",
       "<text text-anchor=\"middle\" x=\"503.539\" y=\"-60.8\" font-family=\"Times,serif\" font-size=\"14.00\">0</text>\n",
       "</g>\n",
       "<!-- St4 -->\n",
       "<g id=\"node3\" class=\"node\"><title>St4</title>\n",
       "<ellipse fill=\"none\" stroke=\"black\" cx=\"112.904\" cy=\"-62\" rx=\"21.8081\" ry=\"21.8081\"/>\n",
       "<text text-anchor=\"middle\" x=\"112.904\" y=\"-57.8\" font-family=\"Times,serif\" font-size=\"14.00\">St4</text>\n",
       "</g>\n",
       "<!-- St4&#45;&gt;St1 -->\n",
       "<g id=\"edge10\" class=\"edge\"><title>St4&#45;&gt;St1</title>\n",
       "<path fill=\"none\" stroke=\"black\" d=\"M134.266,-55.9511C151.32,-51.4202 176.386,-46 198.712,-46 198.712,-46 198.712,-46 374.327,-46 394.965,-46 416.437,-54.966 432.612,-63.822\"/>\n",
       "<polygon fill=\"black\" stroke=\"black\" points=\"431.07,-66.9731 441.477,-68.955 434.577,-60.9153 431.07,-66.9731\"/>\n",
       "<text text-anchor=\"middle\" x=\"286.519\" y=\"-48.8\" font-family=\"Times,serif\" font-size=\"14.00\">1</text>\n",
       "</g>\n",
       "<!-- St4&#45;&gt;St4 -->\n",
       "<g id=\"edge9\" class=\"edge\"><title>St4&#45;&gt;St4</title>\n",
       "<path fill=\"none\" stroke=\"black\" d=\"M109.212,-83.7542C108.861,-93.4866 110.091,-101.904 112.904,-101.904 114.662,-101.904 115.802,-98.6159 116.323,-93.7738\"/>\n",
       "<polygon fill=\"black\" stroke=\"black\" points=\"119.823,-93.8455 116.595,-83.7542 112.825,-93.6556 119.823,-93.8455\"/>\n",
       "<text text-anchor=\"middle\" x=\"112.904\" y=\"-104.704\" font-family=\"Times,serif\" font-size=\"14.00\">1</text>\n",
       "</g>\n",
       "<!-- St4&#45;&gt;St4 -->\n",
       "<g id=\"edge13\" class=\"edge\"><title>St4&#45;&gt;St4</title>\n",
       "<path fill=\"none\" stroke=\"black\" d=\"M106.595,-83.0793C103.809,-101.031 105.912,-119.904 112.904,-119.904 118.585,-119.904 121.039,-107.445 120.265,-93.1437\"/>\n",
       "<polygon fill=\"black\" stroke=\"black\" points=\"123.733,-92.6614 119.213,-83.0793 116.771,-93.3888 123.733,-92.6614\"/>\n",
       "<text text-anchor=\"middle\" x=\"112.904\" y=\"-122.704\" font-family=\"Times,serif\" font-size=\"14.00\">0</text>\n",
       "</g>\n",
       "<!-- St2 -->\n",
       "<g id=\"node5\" class=\"node\"><title>St2</title>\n",
       "<ellipse fill=\"none\" stroke=\"black\" cx=\"199.712\" cy=\"-146\" rx=\"21.8081\" ry=\"21.8081\"/>\n",
       "<text text-anchor=\"middle\" x=\"199.712\" y=\"-141.8\" font-family=\"Times,serif\" font-size=\"14.00\">St2</text>\n",
       "</g>\n",
       "<!-- St4&#45;&gt;St2 -->\n",
       "<g id=\"edge12\" class=\"edge\"><title>St4&#45;&gt;St2</title>\n",
       "<path fill=\"none\" stroke=\"black\" d=\"M127.825,-78.7608C135.033,-87.1724 144.124,-97.3792 152.808,-106 159.493,-112.638 167.088,-119.502 174.148,-125.63\"/>\n",
       "<polygon fill=\"black\" stroke=\"black\" points=\"172.227,-128.593 182.103,-132.429 176.775,-123.271 172.227,-128.593\"/>\n",
       "<text text-anchor=\"middle\" x=\"156.308\" y=\"-114.8\" font-family=\"Times,serif\" font-size=\"14.00\">0</text>\n",
       "</g>\n",
       "<!-- St0 -->\n",
       "<g id=\"node7\" class=\"node\"><title>St0</title>\n",
       "<ellipse fill=\"none\" stroke=\"black\" cx=\"286.519\" cy=\"-133\" rx=\"21.8081\" ry=\"21.8081\"/>\n",
       "<text text-anchor=\"middle\" x=\"286.519\" y=\"-128.8\" font-family=\"Times,serif\" font-size=\"14.00\">St0</text>\n",
       "</g>\n",
       "<!-- St4&#45;&gt;St0 -->\n",
       "<g id=\"edge14\" class=\"edge\"><title>St4&#45;&gt;St0</title>\n",
       "<path fill=\"none\" stroke=\"black\" d=\"M134.028,-68.5015C155.872,-75.7397 191.648,-88.1239 221.615,-101 233.607,-106.152 246.533,-112.473 257.601,-118.132\"/>\n",
       "<polygon fill=\"black\" stroke=\"black\" points=\"256.29,-121.395 266.779,-122.889 259.511,-115.18 256.29,-121.395\"/>\n",
       "<text text-anchor=\"middle\" x=\"199.712\" y=\"-103.8\" font-family=\"Times,serif\" font-size=\"14.00\">0</text>\n",
       "</g>\n",
       "<!-- St4&#45;&gt;St5 -->\n",
       "<g id=\"edge11\" class=\"edge\"><title>St4&#45;&gt;St5</title>\n",
       "<path fill=\"none\" stroke=\"black\" d=\"M126.484,-44.7295C141.443,-26.3842 168.253,-0 198.712,-0 198.712,-0 198.712,-0 461.135,-0 480.73,-0 501.679,-6.27714 518.306,-12.8872\"/>\n",
       "<polygon fill=\"black\" stroke=\"black\" points=\"516.979,-16.1259 527.554,-16.7727 519.69,-9.67233 516.979,-16.1259\"/>\n",
       "<text text-anchor=\"middle\" x=\"329.923\" y=\"-2.8\" font-family=\"Times,serif\" font-size=\"14.00\">1</text>\n",
       "</g>\n",
       "<!-- St6&#45;&gt;St2 -->\n",
       "<g id=\"edge15\" class=\"edge\"><title>St6&#45;&gt;St2</title>\n",
       "<path fill=\"none\" stroke=\"black\" d=\"M131.215,-191.287C137.913,-186.435 145.672,-180.896 152.808,-176 159.068,-171.704 165.883,-167.174 172.299,-162.971\"/>\n",
       "<polygon fill=\"black\" stroke=\"black\" points=\"174.239,-165.885 180.712,-157.497 170.421,-160.018 174.239,-165.885\"/>\n",
       "<text text-anchor=\"middle\" x=\"156.308\" y=\"-178.8\" font-family=\"Times,serif\" font-size=\"14.00\">1</text>\n",
       "</g>\n",
       "<!-- St2&#45;&gt;St0 -->\n",
       "<g id=\"edge7\" class=\"edge\"><title>St2&#45;&gt;St0</title>\n",
       "<path fill=\"none\" stroke=\"black\" d=\"M221.675,-142.787C231.637,-141.259 243.742,-139.404 254.721,-137.721\"/>\n",
       "<polygon fill=\"black\" stroke=\"black\" points=\"255.443,-141.151 264.797,-136.177 254.382,-134.232 255.443,-141.151\"/>\n",
       "<text text-anchor=\"middle\" x=\"243.115\" y=\"-142.8\" font-family=\"Times,serif\" font-size=\"14.00\">1</text>\n",
       "</g>\n",
       "<!-- St3&#45;&gt;St1 -->\n",
       "<g id=\"edge8\" class=\"edge\"><title>St3&#45;&gt;St1</title>\n",
       "<path fill=\"none\" stroke=\"black\" d=\"M387.15,-100.894C393.954,-93.2613 403.017,-85.0813 413.231,-81 417.889,-79.1388 423.031,-78.1928 428.137,-77.8244\"/>\n",
       "<polygon fill=\"black\" stroke=\"black\" points=\"428.422,-81.3231 438.403,-77.7714 428.385,-74.3231 428.422,-81.3231\"/>\n",
       "<text text-anchor=\"middle\" x=\"416.731\" y=\"-83.8\" font-family=\"Times,serif\" font-size=\"14.00\">0</text>\n",
       "</g>\n",
       "<!-- St0&#45;&gt;St6 -->\n",
       "<g id=\"edge2\" class=\"edge\"><title>St0&#45;&gt;St6</title>\n",
       "<path fill=\"none\" stroke=\"black\" d=\"M269.159,-146.72C256.802,-156.449 239.047,-169.126 221.615,-177 197.005,-188.117 167.078,-195.152 145.021,-199.244\"/>\n",
       "<polygon fill=\"black\" stroke=\"black\" points=\"144.128,-195.847 134.883,-201.021 145.337,-202.742 144.128,-195.847\"/>\n",
       "<text text-anchor=\"middle\" x=\"199.712\" y=\"-194.8\" font-family=\"Times,serif\" font-size=\"14.00\">1</text>\n",
       "</g>\n",
       "<!-- St0&#45;&gt;St3 -->\n",
       "<g id=\"edge3\" class=\"edge\"><title>St0&#45;&gt;St3</title>\n",
       "<path fill=\"none\" stroke=\"black\" d=\"M308.483,-129.292C318.445,-127.53 330.549,-125.389 341.529,-123.447\"/>\n",
       "<polygon fill=\"black\" stroke=\"black\" points=\"342.367,-126.853 351.604,-121.665 341.148,-119.96 342.367,-126.853\"/>\n",
       "<text text-anchor=\"middle\" x=\"329.923\" y=\"-128.8\" font-family=\"Times,serif\" font-size=\"14.00\">1</text>\n",
       "</g>\n",
       "</g>\n",
       "</svg>\n"
      ],
      "text/plain": [
       "<graphviz.dot.Digraph at 0x111188828>"
      ]
     },
     "execution_count": 53,
     "metadata": {},
     "output_type": "execute_result"
    }
   ],
   "source": [
    "det_rev_n2DFA23 = nfa2dfa(rev_dfa(n2DFA23))\n",
    "dotObj_nfa(rev_n2DFA23, \"rev23\")"
   ]
  },
  {
   "cell_type": "code",
   "execution_count": 54,
   "metadata": {
    "collapsed": false,
    "editable": false,
    "run_control": {
     "frozen": false,
     "read_only": false
    }
   },
   "outputs": [
    {
     "data": {
      "image/svg+xml": [
       "<?xml version=\"1.0\" encoding=\"UTF-8\" standalone=\"no\"?>\n",
       "<!DOCTYPE svg PUBLIC \"-//W3C//DTD SVG 1.1//EN\"\n",
       " \"http://www.w3.org/Graphics/SVG/1.1/DTD/svg11.dtd\">\n",
       "<!-- Generated by graphviz version 2.38.0 (20140413.2041)\n",
       " -->\n",
       "<!-- Title: %3 Pages: 1 -->\n",
       "<svg width=\"585pt\" height=\"130pt\"\n",
       " viewBox=\"0.00 0.00 584.85 129.90\" xmlns=\"http://www.w3.org/2000/svg\" xmlns:xlink=\"http://www.w3.org/1999/xlink\">\n",
       "<g id=\"graph0\" class=\"graph\" transform=\"scale(1 1) rotate(0) translate(4 125.904)\">\n",
       "<title>%3</title>\n",
       "<polygon fill=\"white\" stroke=\"none\" points=\"-4,4 -4,-125.904 580.846,-125.904 580.846,4 -4,4\"/>\n",
       "<!-- EMPTY -->\n",
       "<g id=\"node1\" class=\"node\"><title>EMPTY</title>\n",
       "</g>\n",
       "<!-- St6 -->\n",
       "<g id=\"node5\" class=\"node\"><title>St6</title>\n",
       "<ellipse fill=\"none\" stroke=\"black\" cx=\"112.904\" cy=\"-33\" rx=\"21.8081\" ry=\"21.8081\"/>\n",
       "<text text-anchor=\"middle\" x=\"112.904\" y=\"-28.8\" font-family=\"Times,serif\" font-size=\"14.00\">St6</text>\n",
       "</g>\n",
       "<!-- EMPTY&#45;&gt;St6 -->\n",
       "<g id=\"edge1\" class=\"edge\"><title>EMPTY&#45;&gt;St6</title>\n",
       "<path fill=\"none\" stroke=\"black\" d=\"M54.0878,-33C62.501,-33 71.9126,-33 80.6587,-33\"/>\n",
       "<polygon fill=\"black\" stroke=\"black\" points=\"80.8854,-36.5001 90.8853,-33 80.8853,-29.5001 80.8854,-36.5001\"/>\n",
       "</g>\n",
       "<!-- St1 -->\n",
       "<g id=\"node2\" class=\"node\"><title>St1</title>\n",
       "<ellipse fill=\"none\" stroke=\"black\" cx=\"286.519\" cy=\"-62\" rx=\"21.8081\" ry=\"21.8081\"/>\n",
       "<text text-anchor=\"middle\" x=\"286.519\" y=\"-57.8\" font-family=\"Times,serif\" font-size=\"14.00\">St1</text>\n",
       "</g>\n",
       "<!-- St4 -->\n",
       "<g id=\"node3\" class=\"node\"><title>St4</title>\n",
       "<ellipse fill=\"none\" stroke=\"black\" cx=\"373.327\" cy=\"-62\" rx=\"21.8081\" ry=\"21.8081\"/>\n",
       "<text text-anchor=\"middle\" x=\"373.327\" y=\"-57.8\" font-family=\"Times,serif\" font-size=\"14.00\">St4</text>\n",
       "</g>\n",
       "<!-- St1&#45;&gt;St4 -->\n",
       "<g id=\"edge4\" class=\"edge\"><title>St1&#45;&gt;St4</title>\n",
       "<path fill=\"none\" stroke=\"black\" d=\"M308.483,-62C318.371,-62 330.369,-62 341.283,-62\"/>\n",
       "<polygon fill=\"black\" stroke=\"black\" points=\"341.311,-65.5001 351.311,-62 341.311,-58.5001 341.311,-65.5001\"/>\n",
       "<text text-anchor=\"middle\" x=\"329.923\" y=\"-64.8\" font-family=\"Times,serif\" font-size=\"14.00\">1</text>\n",
       "</g>\n",
       "<!-- St5 -->\n",
       "<g id=\"node4\" class=\"node\"><title>St5</title>\n",
       "<ellipse fill=\"none\" stroke=\"black\" cx=\"199.712\" cy=\"-33\" rx=\"21.8081\" ry=\"21.8081\"/>\n",
       "<text text-anchor=\"middle\" x=\"199.712\" y=\"-28.8\" font-family=\"Times,serif\" font-size=\"14.00\">St5</text>\n",
       "</g>\n",
       "<!-- St1&#45;&gt;St5 -->\n",
       "<g id=\"edge5\" class=\"edge\"><title>St1&#45;&gt;St5</title>\n",
       "<path fill=\"none\" stroke=\"black\" d=\"M271.191,-46.1527C264.435,-39.843 255.836,-33.3049 246.615,-30 241.884,-28.304 236.704,-27.6233 231.583,-27.5611\"/>\n",
       "<polygon fill=\"black\" stroke=\"black\" points=\"231.088,-24.0843 221.315,-28.1751 231.506,-31.0718 231.088,-24.0843\"/>\n",
       "<text text-anchor=\"middle\" x=\"243.115\" y=\"-32.8\" font-family=\"Times,serif\" font-size=\"14.00\">0</text>\n",
       "</g>\n",
       "<!-- St2 -->\n",
       "<g id=\"node6\" class=\"node\"><title>St2</title>\n",
       "<ellipse fill=\"none\" stroke=\"black\" cx=\"460.135\" cy=\"-100\" rx=\"21.8081\" ry=\"21.8081\"/>\n",
       "<text text-anchor=\"middle\" x=\"460.135\" y=\"-95.8\" font-family=\"Times,serif\" font-size=\"14.00\">St2</text>\n",
       "</g>\n",
       "<!-- St4&#45;&gt;St2 -->\n",
       "<g id=\"edge6\" class=\"edge\"><title>St4&#45;&gt;St2</title>\n",
       "<path fill=\"none\" stroke=\"black\" d=\"M393.571,-70.6228C404.523,-75.5299 418.448,-81.7692 430.645,-87.2345\"/>\n",
       "<polygon fill=\"black\" stroke=\"black\" points=\"429.41,-90.5163 439.967,-91.4113 432.272,-84.1282 429.41,-90.5163\"/>\n",
       "<text text-anchor=\"middle\" x=\"416.731\" y=\"-84.8\" font-family=\"Times,serif\" font-size=\"14.00\">1</text>\n",
       "</g>\n",
       "<!-- St5&#45;&gt;St1 -->\n",
       "<g id=\"edge3\" class=\"edge\"><title>St5&#45;&gt;St1</title>\n",
       "<path fill=\"none\" stroke=\"black\" d=\"M220.402,-40.9081C226.524,-43.2815 233.319,-45.8293 239.615,-48 244.703,-49.7542 250.146,-51.5145 255.441,-53.1661\"/>\n",
       "<polygon fill=\"black\" stroke=\"black\" points=\"254.722,-56.6059 265.308,-56.178 256.766,-49.9109 254.722,-56.6059\"/>\n",
       "<text text-anchor=\"middle\" x=\"243.115\" y=\"-53.8\" font-family=\"Times,serif\" font-size=\"14.00\">0</text>\n",
       "</g>\n",
       "<!-- St6&#45;&gt;St5 -->\n",
       "<g id=\"edge2\" class=\"edge\"><title>St6&#45;&gt;St5</title>\n",
       "<path fill=\"none\" stroke=\"black\" d=\"M134.868,-33C144.755,-33 156.753,-33 167.667,-33\"/>\n",
       "<polygon fill=\"black\" stroke=\"black\" points=\"167.695,-36.5001 177.695,-33 167.695,-29.5001 167.695,-36.5001\"/>\n",
       "<text text-anchor=\"middle\" x=\"156.308\" y=\"-35.8\" font-family=\"Times,serif\" font-size=\"14.00\">0</text>\n",
       "</g>\n",
       "<!-- St0 -->\n",
       "<g id=\"node7\" class=\"node\"><title>St0</title>\n",
       "<ellipse fill=\"none\" stroke=\"black\" cx=\"550.943\" cy=\"-46\" rx=\"21.8229\" ry=\"21.8229\"/>\n",
       "<ellipse fill=\"none\" stroke=\"black\" cx=\"550.943\" cy=\"-46\" rx=\"25.8081\" ry=\"25.8081\"/>\n",
       "<text text-anchor=\"middle\" x=\"550.943\" y=\"-41.8\" font-family=\"Times,serif\" font-size=\"14.00\">St0</text>\n",
       "</g>\n",
       "<!-- St2&#45;&gt;St0 -->\n",
       "<g id=\"edge7\" class=\"edge\"><title>St2&#45;&gt;St0</title>\n",
       "<path fill=\"none\" stroke=\"black\" d=\"M479.536,-88.8112C491.094,-81.7831 506.281,-72.5483 519.591,-64.4554\"/>\n",
       "<polygon fill=\"black\" stroke=\"black\" points=\"521.712,-67.2623 528.438,-59.0762 518.075,-61.2812 521.712,-67.2623\"/>\n",
       "<text text-anchor=\"middle\" x=\"503.539\" y=\"-78.8\" font-family=\"Times,serif\" font-size=\"14.00\">1</text>\n",
       "</g>\n",
       "<!-- St0&#45;&gt;St4 -->\n",
       "<g id=\"edge8\" class=\"edge\"><title>St0&#45;&gt;St4</title>\n",
       "<path fill=\"none\" stroke=\"black\" d=\"M525.078,-47.7977C502.427,-49.4841 468.061,-52.1652 438.231,-55 427.481,-56.0216 415.729,-57.2708 405.268,-58.4297\"/>\n",
       "<polygon fill=\"black\" stroke=\"black\" points=\"404.869,-54.9524 395.322,-59.5467 405.65,-61.9087 404.869,-54.9524\"/>\n",
       "<text text-anchor=\"middle\" x=\"460.135\" y=\"-57.8\" font-family=\"Times,serif\" font-size=\"14.00\">1</text>\n",
       "</g>\n",
       "<!-- St0&#45;&gt;St5 -->\n",
       "<g id=\"edge9\" class=\"edge\"><title>St0&#45;&gt;St5</title>\n",
       "<path fill=\"none\" stroke=\"black\" d=\"M530.948,-29.3929C513.887,-16.2168 487.527,-0 461.135,-0 285.519,-0 285.519,-0 285.519,-0 265.049,-0 243.574,-8.45366 227.357,-16.8036\"/>\n",
       "<polygon fill=\"black\" stroke=\"black\" points=\"225.573,-13.7893 218.462,-21.6433 228.919,-19.9379 225.573,-13.7893\"/>\n",
       "<text text-anchor=\"middle\" x=\"373.327\" y=\"-2.8\" font-family=\"Times,serif\" font-size=\"14.00\">0</text>\n",
       "</g>\n",
       "</g>\n",
       "</svg>\n"
      ],
      "text/plain": [
       "<graphviz.dot.Digraph at 0x111190588>"
      ]
     },
     "execution_count": 54,
     "metadata": {},
     "output_type": "execute_result"
    }
   ],
   "source": [
    "n2DFA23\n",
    "dotObj_dfa(nfa2dfa(rev_dfa(nfa2dfa(rev_dfa(n2DFA23)))), \"rdrd\")"
   ]
  },
  {
   "cell_type": "code",
   "execution_count": 55,
   "metadata": {
    "collapsed": false,
    "editable": false,
    "run_control": {
     "frozen": false,
     "read_only": false
    }
   },
   "outputs": [
    {
     "data": {
      "image/svg+xml": [
       "<?xml version=\"1.0\" encoding=\"UTF-8\" standalone=\"no\"?>\n",
       "<!DOCTYPE svg PUBLIC \"-//W3C//DTD SVG 1.1//EN\"\n",
       " \"http://www.w3.org/Graphics/SVG/1.1/DTD/svg11.dtd\">\n",
       "<!-- Generated by graphviz version 2.38.0 (20140413.2041)\n",
       " -->\n",
       "<!-- Title: %3 Pages: 1 -->\n",
       "<svg width=\"386pt\" height=\"166pt\"\n",
       " viewBox=\"0.00 0.00 385.83 165.69\" xmlns=\"http://www.w3.org/2000/svg\" xmlns:xlink=\"http://www.w3.org/1999/xlink\">\n",
       "<g id=\"graph0\" class=\"graph\" transform=\"scale(1 1) rotate(0) translate(4 161.692)\">\n",
       "<title>%3</title>\n",
       "<polygon fill=\"white\" stroke=\"none\" points=\"-4,4 -4,-161.692 381.83,-161.692 381.83,4 -4,4\"/>\n",
       "<!-- EMPTY -->\n",
       "<g id=\"node1\" class=\"node\"><title>EMPTY</title>\n",
       "</g>\n",
       "<!-- IF -->\n",
       "<g id=\"node6\" class=\"node\"><title>IF</title>\n",
       "<ellipse fill=\"none\" stroke=\"black\" cx=\"113\" cy=\"-103.692\" rx=\"18\" ry=\"18\"/>\n",
       "<ellipse fill=\"none\" stroke=\"black\" cx=\"113\" cy=\"-103.692\" rx=\"22\" ry=\"22\"/>\n",
       "<text text-anchor=\"middle\" x=\"113\" y=\"-99.4915\" font-family=\"Times,serif\" font-size=\"14.00\">IF</text>\n",
       "</g>\n",
       "<!-- EMPTY&#45;&gt;IF -->\n",
       "<g id=\"edge1\" class=\"edge\"><title>EMPTY&#45;&gt;IF</title>\n",
       "<path fill=\"none\" stroke=\"black\" d=\"M54.1177,-103.692C62.5406,-103.692 71.9629,-103.692 80.7191,-103.692\"/>\n",
       "<polygon fill=\"black\" stroke=\"black\" points=\"80.9574,-107.192 90.9574,-103.692 80.9573,-100.192 80.9574,-107.192\"/>\n",
       "</g>\n",
       "<!-- B1 -->\n",
       "<g id=\"node2\" class=\"node\"><title>B1</title>\n",
       "<ellipse fill=\"none\" stroke=\"black\" cx=\"277.915\" cy=\"-97.6915\" rx=\"20.3544\" ry=\"20.3544\"/>\n",
       "<text text-anchor=\"middle\" x=\"277.915\" y=\"-93.4915\" font-family=\"Times,serif\" font-size=\"14.00\">B1</text>\n",
       "</g>\n",
       "<!-- B -->\n",
       "<g id=\"node5\" class=\"node\"><title>B</title>\n",
       "<ellipse fill=\"none\" stroke=\"black\" cx=\"359.83\" cy=\"-96.6915\" rx=\"18\" ry=\"18\"/>\n",
       "<text text-anchor=\"middle\" x=\"359.83\" y=\"-92.4915\" font-family=\"Times,serif\" font-size=\"14.00\">B</text>\n",
       "</g>\n",
       "<!-- B1&#45;&gt;B -->\n",
       "<g id=\"edge9\" class=\"edge\"><title>B1&#45;&gt;B</title>\n",
       "<path fill=\"none\" stroke=\"black\" d=\"M296.075,-87.5698C302.381,-84.3902 309.722,-81.2932 316.83,-79.6915 323.024,-78.2958 329.488,-79.4704 335.435,-81.7331\"/>\n",
       "<polygon fill=\"black\" stroke=\"black\" points=\"334.296,-85.0712 344.818,-86.3069 337.363,-78.779 334.296,-85.0712\"/>\n",
       "<text text-anchor=\"middle\" x=\"320.33\" y=\"-82.4915\" font-family=\"Times,serif\" font-size=\"14.00\">1</text>\n",
       "</g>\n",
       "<!-- B1&#45;&gt;IF -->\n",
       "<g id=\"edge8\" class=\"edge\"><title>B1&#45;&gt;IF</title>\n",
       "<path fill=\"none\" stroke=\"black\" d=\"M257.142,-98.4198C229.322,-99.4443 178.344,-101.322 145.333,-102.538\"/>\n",
       "<polygon fill=\"black\" stroke=\"black\" points=\"145.163,-99.0414 135.298,-102.907 145.42,-106.037 145.163,-99.0414\"/>\n",
       "<text text-anchor=\"middle\" x=\"196\" y=\"-103.492\" font-family=\"Times,serif\" font-size=\"14.00\">0</text>\n",
       "</g>\n",
       "<!-- A1 -->\n",
       "<g id=\"node3\" class=\"node\"><title>A1</title>\n",
       "<ellipse fill=\"none\" stroke=\"black\" cx=\"277.915\" cy=\"-37.6915\" rx=\"20.8304\" ry=\"20.8304\"/>\n",
       "<text text-anchor=\"middle\" x=\"277.915\" y=\"-33.4915\" font-family=\"Times,serif\" font-size=\"14.00\">A1</text>\n",
       "</g>\n",
       "<!-- A -->\n",
       "<g id=\"node4\" class=\"node\"><title>A</title>\n",
       "<ellipse fill=\"none\" stroke=\"black\" cx=\"196\" cy=\"-43.6915\" rx=\"18\" ry=\"18\"/>\n",
       "<text text-anchor=\"middle\" x=\"196\" y=\"-39.4915\" font-family=\"Times,serif\" font-size=\"14.00\">A</text>\n",
       "</g>\n",
       "<!-- A1&#45;&gt;A -->\n",
       "<g id=\"edge7\" class=\"edge\"><title>A1&#45;&gt;A</title>\n",
       "<path fill=\"none\" stroke=\"black\" d=\"M256.766,-37.6271C249.013,-37.7368 240.084,-38.0265 232,-38.6915 229.431,-38.9029 226.762,-39.1795 224.097,-39.4942\"/>\n",
       "<polygon fill=\"black\" stroke=\"black\" points=\"223.491,-36.044 214.044,-40.8397 224.42,-42.9821 223.491,-36.044\"/>\n",
       "<text text-anchor=\"middle\" x=\"235.5\" y=\"-41.4915\" font-family=\"Times,serif\" font-size=\"14.00\">1</text>\n",
       "</g>\n",
       "<!-- A1&#45;&gt;B -->\n",
       "<g id=\"edge6\" class=\"edge\"><title>A1&#45;&gt;B</title>\n",
       "<path fill=\"none\" stroke=\"black\" d=\"M297.57,-46.111C305.942,-50.2722 315.734,-55.6881 323.83,-61.6915 329.581,-65.9559 335.295,-71.1516 340.388,-76.2208\"/>\n",
       "<polygon fill=\"black\" stroke=\"black\" points=\"337.878,-78.6603 347.337,-83.4339 342.92,-73.8038 337.878,-78.6603\"/>\n",
       "<text text-anchor=\"middle\" x=\"320.33\" y=\"-64.4915\" font-family=\"Times,serif\" font-size=\"14.00\">0</text>\n",
       "</g>\n",
       "<!-- A&#45;&gt;B1 -->\n",
       "<g id=\"edge4\" class=\"edge\"><title>A&#45;&gt;B1</title>\n",
       "<path fill=\"none\" stroke=\"black\" d=\"M211.287,-53.3457C222.63,-61.0104 238.76,-71.9092 252.189,-80.9839\"/>\n",
       "<polygon fill=\"black\" stroke=\"black\" points=\"250.302,-83.9326 260.547,-86.6315 254.221,-78.1326 250.302,-83.9326\"/>\n",
       "<text text-anchor=\"middle\" x=\"235.5\" y=\"-75.4915\" font-family=\"Times,serif\" font-size=\"14.00\">0</text>\n",
       "</g>\n",
       "<!-- A&#45;&gt;A1 -->\n",
       "<g id=\"edge5\" class=\"edge\"><title>A&#45;&gt;A1</title>\n",
       "<path fill=\"none\" stroke=\"black\" d=\"M205.423,-27.8426C211.432,-18.3408 220.482,-7.08627 232,-1.69154 242.219,3.09493 252.162,-3.34576 260.084,-12.0403\"/>\n",
       "<polygon fill=\"black\" stroke=\"black\" points=\"257.501,-14.4143 266.482,-20.0356 262.967,-10.0408 257.501,-14.4143\"/>\n",
       "<text text-anchor=\"middle\" x=\"235.5\" y=\"-4.49154\" font-family=\"Times,serif\" font-size=\"14.00\">1</text>\n",
       "</g>\n",
       "<!-- B&#45;&gt;B1 -->\n",
       "<g id=\"edge11\" class=\"edge\"><title>B&#45;&gt;B1</title>\n",
       "<path fill=\"none\" stroke=\"black\" d=\"M341.74,-96.9054C332.17,-97.0251 319.961,-97.1779 308.856,-97.3169\"/>\n",
       "<polygon fill=\"black\" stroke=\"black\" points=\"308.625,-93.8194 298.669,-97.4443 308.712,-100.819 308.625,-93.8194\"/>\n",
       "<text text-anchor=\"middle\" x=\"320.33\" y=\"-99.4915\" font-family=\"Times,serif\" font-size=\"14.00\">1</text>\n",
       "</g>\n",
       "<!-- B&#45;&gt;IF -->\n",
       "<g id=\"edge10\" class=\"edge\"><title>B&#45;&gt;IF</title>\n",
       "<path fill=\"none\" stroke=\"black\" d=\"M344.3,-106.458C332.593,-113.691 315.41,-122.919 298.83,-126.692 244.792,-138.989 180.267,-124.512 143.517,-113.599\"/>\n",
       "<polygon fill=\"black\" stroke=\"black\" points=\"144.507,-110.241 133.92,-110.64 142.445,-116.931 144.507,-110.241\"/>\n",
       "<text text-anchor=\"middle\" x=\"235.5\" y=\"-133.492\" font-family=\"Times,serif\" font-size=\"14.00\">0</text>\n",
       "</g>\n",
       "<!-- IF&#45;&gt;A -->\n",
       "<g id=\"edge2\" class=\"edge\"><title>IF&#45;&gt;A</title>\n",
       "<path fill=\"none\" stroke=\"black\" d=\"M131.178,-90.9671C143.368,-81.9373 159.835,-69.7398 172.988,-59.9964\"/>\n",
       "<polygon fill=\"black\" stroke=\"black\" points=\"175.123,-62.7707 181.076,-54.0059 170.957,-57.1458 175.123,-62.7707\"/>\n",
       "<text text-anchor=\"middle\" x=\"156.5\" y=\"-76.4915\" font-family=\"Times,serif\" font-size=\"14.00\">0</text>\n",
       "</g>\n",
       "<!-- IF&#45;&gt;IF -->\n",
       "<g id=\"edge3\" class=\"edge\"><title>IF&#45;&gt;IF</title>\n",
       "<path fill=\"none\" stroke=\"black\" d=\"M105.683,-124.682C104.78,-134.779 107.219,-143.692 113,-143.692 116.704,-143.692 119.036,-140.034 119.996,-134.75\"/>\n",
       "<polygon fill=\"black\" stroke=\"black\" points=\"123.496,-134.789 120.317,-124.682 116.5,-134.566 123.496,-134.789\"/>\n",
       "<text text-anchor=\"middle\" x=\"113\" y=\"-146.492\" font-family=\"Times,serif\" font-size=\"14.00\">1</text>\n",
       "</g>\n",
       "</g>\n",
       "</svg>\n"
      ],
      "text/plain": [
       "<graphviz.dot.Digraph at 0x1111b1278>"
      ]
     },
     "execution_count": 55,
     "metadata": {},
     "output_type": "execute_result"
    }
   ],
   "source": [
    "D34bl = { 'Q': {'A', 'IF', 'B', 'A1', 'B1'},\n",
    "          'Sigma': {'0', '1'},\n",
    "          'Delta': { ('IF', '0'): 'A',\n",
    "                     ('IF', '1'): 'IF',\n",
    "                     ('A', '0'): 'B1',\n",
    "                     ('A', '1'): 'A1',\n",
    "                     ('A1', '0'): 'B',\n",
    "                     ('A1', '1'): 'A',\n",
    "                     ('B1', '0'): 'IF',\n",
    "                     ('B1', '1'): 'B',\n",
    "                     ('B','0') : 'IF',\n",
    "                     ('B', '1'): 'B1' },\n",
    "          'q0': 'IF', \n",
    "          'F': {'IF'}   \n",
    "        }\n",
    "\n",
    "dotObj_dfa(D34bl, \"D34bl\")"
   ]
  },
  {
   "cell_type": "code",
   "execution_count": 56,
   "metadata": {
    "collapsed": false,
    "editable": false,
    "run_control": {
     "frozen": false,
     "read_only": false
    },
    "scrolled": true
   },
   "outputs": [
    {
     "data": {
      "image/svg+xml": [
       "<?xml version=\"1.0\" encoding=\"UTF-8\" standalone=\"no\"?>\n",
       "<!DOCTYPE svg PUBLIC \"-//W3C//DTD SVG 1.1//EN\"\n",
       " \"http://www.w3.org/Graphics/SVG/1.1/DTD/svg11.dtd\">\n",
       "<!-- Generated by graphviz version 2.38.0 (20140413.2041)\n",
       " -->\n",
       "<!-- Title: %3 Pages: 1 -->\n",
       "<svg width=\"397pt\" height=\"190pt\"\n",
       " viewBox=\"0.00 0.00 397.20 189.91\" xmlns=\"http://www.w3.org/2000/svg\" xmlns:xlink=\"http://www.w3.org/1999/xlink\">\n",
       "<g id=\"graph0\" class=\"graph\" transform=\"scale(1 1) rotate(0) translate(4 185.91)\">\n",
       "<title>%3</title>\n",
       "<polygon fill=\"white\" stroke=\"none\" points=\"-4,4 -4,-185.91 393.2,-185.91 393.2,4 -4,4\"/>\n",
       "<!-- EMPTY -->\n",
       "<g id=\"node1\" class=\"node\"><title>EMPTY</title>\n",
       "</g>\n",
       "<!-- &quot;IF&quot; -->\n",
       "<g id=\"node4\" class=\"node\"><title>&quot;IF&quot;</title>\n",
       "<ellipse fill=\"none\" stroke=\"black\" cx=\"120.19\" cy=\"-111.943\" rx=\"25.3549\" ry=\"25.3549\"/>\n",
       "<ellipse fill=\"none\" stroke=\"black\" cx=\"120.19\" cy=\"-111.943\" rx=\"29.3811\" ry=\"29.3811\"/>\n",
       "<text text-anchor=\"middle\" x=\"120.19\" y=\"-107.743\" font-family=\"Times,serif\" font-size=\"14.00\">&quot;IF&quot;</text>\n",
       "</g>\n",
       "<!-- EMPTY&#45;&gt;&quot;IF&quot; -->\n",
       "<g id=\"edge1\" class=\"edge\"><title>EMPTY&#45;&gt;&quot;IF&quot;</title>\n",
       "<path fill=\"none\" stroke=\"black\" d=\"M54.3759,-111.943C62.6179,-111.943 71.8854,-111.943 80.7788,-111.943\"/>\n",
       "<polygon fill=\"black\" stroke=\"black\" points=\"80.9634,-115.443 90.9633,-111.943 80.9633,-108.443 80.9634,-115.443\"/>\n",
       "</g>\n",
       "<!-- &quot;A_A1&quot; -->\n",
       "<g id=\"node2\" class=\"node\"><title>&quot;A_A1&quot;</title>\n",
       "<ellipse fill=\"none\" stroke=\"black\" cx=\"231.323\" cy=\"-38.9431\" rx=\"38.8862\" ry=\"38.8862\"/>\n",
       "<text text-anchor=\"middle\" x=\"231.323\" y=\"-34.7431\" font-family=\"Times,serif\" font-size=\"14.00\">&quot;A_A1&quot;</text>\n",
       "</g>\n",
       "<!-- &quot;A_A1&quot;&#45;&gt;&quot;A_A1&quot; -->\n",
       "<g id=\"edge4\" class=\"edge\"><title>&quot;A_A1&quot;&#45;&gt;&quot;A_A1&quot;</title>\n",
       "<path fill=\"none\" stroke=\"black\" d=\"M220.107,-76.4564C220.494,-87.4053 224.233,-95.8862 231.323,-95.8862 235.976,-95.8862 239.185,-92.2338 240.952,-86.6283\"/>\n",
       "<polygon fill=\"black\" stroke=\"black\" points=\"244.455,-86.8765 242.539,-76.4564 237.539,-85.7969 244.455,-86.8765\"/>\n",
       "<text text-anchor=\"middle\" x=\"231.323\" y=\"-98.6862\" font-family=\"Times,serif\" font-size=\"14.00\">1</text>\n",
       "</g>\n",
       "<!-- &quot;B_B1&quot; -->\n",
       "<g id=\"node3\" class=\"node\"><title>&quot;B_B1&quot;</title>\n",
       "<ellipse fill=\"none\" stroke=\"black\" cx=\"351.233\" cy=\"-111.943\" rx=\"37.9344\" ry=\"37.9344\"/>\n",
       "<text text-anchor=\"middle\" x=\"351.233\" y=\"-107.743\" font-family=\"Times,serif\" font-size=\"14.00\">&quot;B_B1&quot;</text>\n",
       "</g>\n",
       "<!-- &quot;A_A1&quot;&#45;&gt;&quot;B_B1&quot; -->\n",
       "<g id=\"edge5\" class=\"edge\"><title>&quot;A_A1&quot;&#45;&gt;&quot;B_B1&quot;</title>\n",
       "<path fill=\"none\" stroke=\"black\" d=\"M264.855,-59.0839C278.741,-67.6813 295.094,-77.8055 309.752,-86.8804\"/>\n",
       "<polygon fill=\"black\" stroke=\"black\" points=\"308.277,-90.084 318.622,-92.3722 311.962,-84.1323 308.277,-90.084\"/>\n",
       "<text text-anchor=\"middle\" x=\"291.766\" y=\"-79.7431\" font-family=\"Times,serif\" font-size=\"14.00\">0</text>\n",
       "</g>\n",
       "<!-- &quot;B_B1&quot;&#45;&gt;&quot;B_B1&quot; -->\n",
       "<g id=\"edge6\" class=\"edge\"><title>&quot;B_B1&quot;&#45;&gt;&quot;B_B1&quot;</title>\n",
       "<path fill=\"none\" stroke=\"black\" d=\"M340.382,-148.546C340.706,-159.436 344.323,-167.91 351.233,-167.91 355.768,-167.91 358.885,-164.261 360.583,-158.674\"/>\n",
       "<polygon fill=\"black\" stroke=\"black\" points=\"364.08,-158.951 362.084,-148.546 357.156,-157.925 364.08,-158.951\"/>\n",
       "<text text-anchor=\"middle\" x=\"351.233\" y=\"-170.71\" font-family=\"Times,serif\" font-size=\"14.00\">1</text>\n",
       "</g>\n",
       "<!-- &quot;B_B1&quot;&#45;&gt;&quot;IF&quot; -->\n",
       "<g id=\"edge7\" class=\"edge\"><title>&quot;B_B1&quot;&#45;&gt;&quot;IF&quot;</title>\n",
       "<path fill=\"none\" stroke=\"black\" d=\"M313.252,-115.858C299.742,-117.11 284.328,-118.329 270.266,-118.943 235.683,-120.454 226.954,-120.639 192.38,-118.943 181.681,-118.418 170.111,-117.453 159.471,-116.403\"/>\n",
       "<polygon fill=\"black\" stroke=\"black\" points=\"159.515,-112.889 149.207,-115.338 158.792,-119.851 159.515,-112.889\"/>\n",
       "<text text-anchor=\"middle\" x=\"231.323\" y=\"-122.743\" font-family=\"Times,serif\" font-size=\"14.00\">0</text>\n",
       "</g>\n",
       "<!-- &quot;IF&quot;&#45;&gt;&quot;A_A1&quot; -->\n",
       "<g id=\"edge3\" class=\"edge\"><title>&quot;IF&quot;&#45;&gt;&quot;A_A1&quot;</title>\n",
       "<path fill=\"none\" stroke=\"black\" d=\"M144.87,-96.1032C157.971,-87.3398 174.614,-76.2072 189.725,-66.0995\"/>\n",
       "<polygon fill=\"black\" stroke=\"black\" points=\"192.04,-68.7614 198.406,-60.2923 188.149,-62.9431 192.04,-68.7614\"/>\n",
       "<text text-anchor=\"middle\" x=\"170.88\" y=\"-81.7431\" font-family=\"Times,serif\" font-size=\"14.00\">0</text>\n",
       "</g>\n",
       "<!-- &quot;IF&quot;&#45;&gt;&quot;IF&quot; -->\n",
       "<g id=\"edge2\" class=\"edge\"><title>&quot;IF&quot;&#45;&gt;&quot;IF&quot;</title>\n",
       "<path fill=\"none\" stroke=\"black\" d=\"M111.584,-140.042C111.302,-150.513 114.17,-159.133 120.19,-159.133 124.046,-159.133 126.609,-155.596 127.879,-150.3\"/>\n",
       "<polygon fill=\"black\" stroke=\"black\" points=\"131.392,-150.314 128.796,-140.042 124.42,-149.691 131.392,-150.314\"/>\n",
       "<text text-anchor=\"middle\" x=\"120.19\" y=\"-161.933\" font-family=\"Times,serif\" font-size=\"14.00\">1</text>\n",
       "</g>\n",
       "</g>\n",
       "</svg>\n"
      ],
      "text/plain": [
       "<graphviz.dot.Digraph at 0x111190780>"
      ]
     },
     "execution_count": 56,
     "metadata": {},
     "output_type": "execute_result"
    }
   ],
   "source": [
    "dotObj_dfa(nfa2dfa(rev_dfa(nfa2dfa(rev_dfa(D34bl)))), \"D34bl_rdrd\")"
   ]
  },
  {
   "cell_type": "code",
   "execution_count": 57,
   "metadata": {
    "collapsed": true,
    "editable": true,
    "run_control": {
     "frozen": false,
     "read_only": false
    }
   },
   "outputs": [],
   "source": [
    "def min_dfa_brz(D):\n",
    "    \"\"\"Minimize a DFA as per Brzozowski's algorithm.\n",
    "    \"\"\"\n",
    "    return nfa2dfa(rev_dfa(nfa2dfa(rev_dfa(D))))"
   ]
  },
  {
   "cell_type": "markdown",
   "metadata": {
    "collapsed": true,
    "editable": false,
    "run_control": {
     "frozen": false,
     "read_only": false
    }
   },
   "source": [
    "# Conclusions\n",
    "\n",
    "This notebook covered the basics of NFA including\n",
    "\n",
    "* (Summarize)\n",
    " \n",
    "(Add more concluding remarks)"
   ]
  },
  {
   "cell_type": "code",
   "execution_count": null,
   "metadata": {
    "collapsed": true,
    "editable": true,
    "run_control": {
     "frozen": false,
     "read_only": false
    }
   },
   "outputs": [],
   "source": []
  }
 ],
 "metadata": {
  "kernelspec": {
   "display_name": "Python 3",
   "language": "python",
   "name": "python3"
  },
  "language_info": {
   "codemirror_mode": {
    "name": "ipython",
    "version": 3
   },
   "file_extension": ".py",
   "mimetype": "text/x-python",
   "name": "python",
   "nbconvert_exporter": "python",
   "pygments_lexer": "ipython3",
   "version": "3.6.0"
  },
  "toc": {
   "colors": {
    "hover_highlight": "#DAA520",
    "running_highlight": "#FF0000",
    "selected_highlight": "#FFD700"
   },
   "moveMenuLeft": true,
   "nav_menu": {
    "height": "318px",
    "width": "252px"
   },
   "navigate_menu": true,
   "number_sections": true,
   "sideBar": true,
   "threshold": 4,
   "toc_cell": false,
   "toc_section_display": "block",
   "toc_window_display": false,
   "widenNotebook": false
  }
 },
 "nbformat": 4,
 "nbformat_minor": 0
}
