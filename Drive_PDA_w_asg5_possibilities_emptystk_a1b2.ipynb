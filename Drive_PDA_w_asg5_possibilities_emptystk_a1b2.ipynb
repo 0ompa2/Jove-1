{
 "cells": [
  {
   "cell_type": "code",
   "execution_count": 1,
   "metadata": {},
   "outputs": [
    {
     "data": {
      "image/jpeg": "[encoded data removed]",
      "text/html": [
       "\n",
       "        <iframe\n",
       "            width=\"400\"\n",
       "            height=\"300\"\n",
       "            src=\"https://www.youtube.com/embed/zKeHDwKXF7E\"\n",
       "            frameborder=\"0\"\n",
       "            allowfullscreen\n",
       "        ></iframe>\n",
       "        "
      ],
      "text/plain": [
       "<IPython.lib.display.YouTubeVideo at 0x105300208>"
      ]
     },
     "execution_count": 1,
     "metadata": {},
     "output_type": "execute_result"
    }
   ],
   "source": [
    "# This Youtube video walks through this notebook\n",
    "from IPython.display import YouTubeVideo\n",
    "YouTubeVideo('zKeHDwKXF7E')"
   ]
  },
  {
   "cell_type": "markdown",
   "metadata": {
    "run_control": {
     "frozen": false,
     "read_only": false
    }
   },
   "source": [
    " # Tests on PDA"
   ]
  },
  {
   "cell_type": "code",
   "execution_count": 1,
   "metadata": {
    "run_control": {
     "frozen": false,
     "read_only": false
    }
   },
   "outputs": [
    {
     "name": "stdout",
     "output_type": "stream",
     "text": [
      "You may use any of these help commands:\n",
      "help(ResetStNum)\n",
      "help(NxtStateStr)\n",
      "\n",
      "You may use any of these help commands:\n",
      "help(md2mc)\n",
      ".. and if you want to dig more, then ..\n",
      "help(default_line_attr)\n",
      "help(length_ok_input_items)\n",
      "help(union_line_attr_list_fld)\n",
      "help(extend_rsltdict)\n",
      "help(form_delta)\n",
      "help(get_machine_components)\n",
      "\n",
      "You may use any of these help commands:\n",
      "help(explore_pda)\n",
      "help(run_pda)\n",
      "help(classify_l_id_path)\n",
      "help(h_run_pda)\n",
      "help(interpret_w_eps)\n",
      "help(step_pda)\n",
      "help(suvivor_id)\n",
      "help(term_id)\n",
      "help(final_id)\n",
      "help(cvt_str_to_sym)\n",
      "help(is_surv_id)\n",
      "help(subsumed)\n",
      "help(is_term_id)\n",
      "help(is_final_id)\n",
      "\n"
     ]
    }
   ],
   "source": [
    "from Imports.SystemImports import *\n",
    "from Imports.DotBashers    import *\n",
    "from Imports.Def_md2mc      import *\n",
    "from Imports.Def_PDA        import *"
   ]
  },
  {
   "cell_type": "code",
   "execution_count": 24,
   "metadata": {
    "collapsed": true,
    "run_control": {
     "frozen": false,
     "read_only": false
    }
   },
   "outputs": [],
   "source": [
    "pda_a1_b1 = md2mc('''\n",
    "PDA\n",
    "I : a, # ; a# -> I\n",
    "I : b, # ; b# -> I\n",
    "I : a, a ; aa -> I\n",
    "I : b, b ; bb -> I\n",
    "I : a, b ; '' -> I\n",
    "I : b, a ; '' -> I\n",
    "I : '', #; '' -> F''')"
   ]
  },
  {
   "cell_type": "code",
   "execution_count": 25,
   "metadata": {
    "run_control": {
     "frozen": false,
     "read_only": false
    }
   },
   "outputs": [
    {
     "data": {
      "image/svg+xml": [
       "<?xml version=\"1.0\" encoding=\"UTF-8\" standalone=\"no\"?>\n",
       "<!DOCTYPE svg PUBLIC \"-//W3C//DTD SVG 1.1//EN\"\n",
       " \"http://www.w3.org/Graphics/SVG/1.1/DTD/svg11.dtd\">\n",
       "<!-- Generated by graphviz version 2.38.0 (20140413.2041)\n",
       " -->\n",
       "<!-- Title: %3 Pages: 1 -->\n",
       "<svg width=\"298pt\" height=\"150pt\"\n",
       " viewBox=\"0.00 0.00 297.98 150.00\" xmlns=\"http://www.w3.org/2000/svg\" xmlns:xlink=\"http://www.w3.org/1999/xlink\">\n",
       "<g id=\"graph0\" class=\"graph\" transform=\"scale(1 1) rotate(0) translate(4 146)\">\n",
       "<title>%3</title>\n",
       "<polygon fill=\"white\" stroke=\"none\" points=\"-4,4 -4,-146 293.979,-146 293.979,4 -4,4\"/>\n",
       "<!-- EMPTY -->\n",
       "<g id=\"node1\" class=\"node\"><title>EMPTY</title>\n",
       "</g>\n",
       "<!-- I -->\n",
       "<g id=\"node2\" class=\"node\"><title>I</title>\n",
       "<ellipse fill=\"none\" stroke=\"black\" cx=\"133\" cy=\"-22\" rx=\"18\" ry=\"18\"/>\n",
       "<text text-anchor=\"middle\" x=\"133\" y=\"-17.8\" font-family=\"Times,serif\" font-size=\"14.00\">I</text>\n",
       "</g>\n",
       "<!-- EMPTY&#45;&gt;I -->\n",
       "<g id=\"edge1\" class=\"edge\"><title>EMPTY&#45;&gt;I</title>\n",
       "<path fill=\"none\" stroke=\"black\" d=\"M54.2436,-22C69.6933,-22 89.2012,-22 104.812,-22\"/>\n",
       "<polygon fill=\"black\" stroke=\"black\" points=\"104.899,-25.5001 114.899,-22 104.899,-18.5001 104.899,-25.5001\"/>\n",
       "</g>\n",
       "<!-- I&#45;&gt;I -->\n",
       "<g id=\"edge2\" class=\"edge\"><title>I&#45;&gt;I</title>\n",
       "<path fill=\"none\" stroke=\"black\" d=\"M122.849,-37.1666C119.772,-47.6641 123.156,-58 133,-58 139.46,-58 143.138,-53.5487 144.034,-47.5216\"/>\n",
       "<polygon fill=\"black\" stroke=\"black\" points=\"147.488,-46.8334 143.151,-37.1666 140.513,-47.4277 147.488,-46.8334\"/>\n",
       "<text text-anchor=\"middle\" x=\"133\" y=\"-130.8\" font-family=\"Times,serif\" font-size=\"14.00\">a, a ; aa </text>\n",
       "<text text-anchor=\"middle\" x=\"133\" y=\"-116.8\" font-family=\"Times,serif\" font-size=\"14.00\"> b, # ; b# </text>\n",
       "<text text-anchor=\"middle\" x=\"133\" y=\"-102.8\" font-family=\"Times,serif\" font-size=\"14.00\"> b, b ; bb </text>\n",
       "<text text-anchor=\"middle\" x=\"133\" y=\"-88.8\" font-family=\"Times,serif\" font-size=\"14.00\"> a, b ; &#39;&#39; </text>\n",
       "<text text-anchor=\"middle\" x=\"133\" y=\"-74.8\" font-family=\"Times,serif\" font-size=\"14.00\"> b, a ; &#39;&#39; </text>\n",
       "<text text-anchor=\"middle\" x=\"133\" y=\"-60.8\" font-family=\"Times,serif\" font-size=\"14.00\"> a, # ; a#</text>\n",
       "</g>\n",
       "<!-- F -->\n",
       "<g id=\"node3\" class=\"node\"><title>F</title>\n",
       "<ellipse fill=\"none\" stroke=\"black\" cx=\"267.979\" cy=\"-22\" rx=\"18\" ry=\"18\"/>\n",
       "<ellipse fill=\"none\" stroke=\"black\" cx=\"267.979\" cy=\"-22\" rx=\"22\" ry=\"22\"/>\n",
       "<text text-anchor=\"middle\" x=\"267.979\" y=\"-17.8\" font-family=\"Times,serif\" font-size=\"14.00\">F</text>\n",
       "</g>\n",
       "<!-- I&#45;&gt;F -->\n",
       "<g id=\"edge3\" class=\"edge\"><title>I&#45;&gt;F</title>\n",
       "<path fill=\"none\" stroke=\"black\" d=\"M151.113,-22C172.321,-22 208.886,-22 235.274,-22\"/>\n",
       "<polygon fill=\"black\" stroke=\"black\" points=\"235.536,-25.5001 245.536,-22 235.536,-18.5001 235.536,-25.5001\"/>\n",
       "<text text-anchor=\"middle\" x=\"210.49\" y=\"-24.8\" font-family=\"Times,serif\" font-size=\"14.00\">&#39;&#39;, # ; &#39;&#39;</text>\n",
       "</g>\n",
       "</g>\n",
       "</svg>\n"
      ],
      "text/plain": [
       "<graphviz.dot.Digraph at 0x10bb98a20>"
      ]
     },
     "execution_count": 25,
     "metadata": {},
     "output_type": "execute_result"
    }
   ],
   "source": [
    "dotObj_pda(pda_a1_b1, FuseEdges=True)"
   ]
  },
  {
   "cell_type": "code",
   "execution_count": 26,
   "metadata": {
    "run_control": {
     "frozen": false,
     "read_only": false
    }
   },
   "outputs": [
    {
     "name": "stdout",
     "output_type": "stream",
     "text": [
      "String abbaaabb accepted by your PDA in 1 ways :-) \n",
      "Here are the ways: \n",
      "Final state  ('F', '', '')\n",
      "Reached as follows:\n",
      "->  ('I', 'abbaaabb', '#')\n",
      "->  ('I', 'bbaaabb', 'a#')\n",
      "->  ('I', 'baaabb', '#')\n",
      "->  ('I', 'aaabb', 'b#')\n",
      "->  ('I', 'aabb', '#')\n",
      "->  ('I', 'abb', 'a#')\n",
      "->  ('I', 'bb', 'aa#')\n",
      "->  ('I', 'b', 'a#')\n",
      "->  ('I', '', '#')\n",
      "->  ('F', '', '') .\n"
     ]
    }
   ],
   "source": [
    "explore_pda(\"abbaaabb\", pda_a1_b1)"
   ]
  },
  {
   "cell_type": "code",
   "execution_count": 21,
   "metadata": {
    "collapsed": true,
    "run_control": {
     "frozen": false,
     "read_only": false
    }
   },
   "outputs": [],
   "source": [
    "pda_a1_b2 = md2mc('''PDA\n",
    "I : a, # ; cc# -> I\n",
    "I : a, c ; ccc -> I\n",
    "I : b, # ; b#  -> I\n",
    "I : b, b ; bb  -> I\n",
    "I : b, c ; ''  -> I\n",
    "I : a, b ; ''  -> SeeIfMore\n",
    "\n",
    "SeeIfMore : '', b ; ''  -> I\n",
    "SeeIfMore : '', # ; c#  -> I\n",
    "SeeIfMore : '', c ; cc  -> I\n",
    "\n",
    "I : '', #; #  -> F\n",
    "''')"
   ]
  },
  {
   "cell_type": "code",
   "execution_count": 22,
   "metadata": {
    "run_control": {
     "frozen": false,
     "read_only": false
    }
   },
   "outputs": [
    {
     "data": {
      "image/svg+xml": [
       "<?xml version=\"1.0\" encoding=\"UTF-8\" standalone=\"no\"?>\n",
       "<!DOCTYPE svg PUBLIC \"-//W3C//DTD SVG 1.1//EN\"\n",
       " \"http://www.w3.org/Graphics/SVG/1.1/DTD/svg11.dtd\">\n",
       "<!-- Generated by graphviz version 2.38.0 (20140413.2041)\n",
       " -->\n",
       "<!-- Title: %3 Pages: 1 -->\n",
       "<svg width=\"351pt\" height=\"173pt\"\n",
       " viewBox=\"0.00 0.00 350.99 173.00\" xmlns=\"http://www.w3.org/2000/svg\" xmlns:xlink=\"http://www.w3.org/1999/xlink\">\n",
       "<g id=\"graph0\" class=\"graph\" transform=\"scale(1 1) rotate(0) translate(4 169)\">\n",
       "<title>%3</title>\n",
       "<polygon fill=\"white\" stroke=\"none\" points=\"-4,4 -4,-169 346.989,-169 346.989,4 -4,4\"/>\n",
       "<!-- EMPTY -->\n",
       "<g id=\"node1\" class=\"node\"><title>EMPTY</title>\n",
       "</g>\n",
       "<!-- I -->\n",
       "<g id=\"node3\" class=\"node\"><title>I</title>\n",
       "<ellipse fill=\"none\" stroke=\"black\" cx=\"126\" cy=\"-59\" rx=\"18\" ry=\"18\"/>\n",
       "<text text-anchor=\"middle\" x=\"126\" y=\"-54.8\" font-family=\"Times,serif\" font-size=\"14.00\">I</text>\n",
       "</g>\n",
       "<!-- EMPTY&#45;&gt;I -->\n",
       "<g id=\"edge1\" class=\"edge\"><title>EMPTY&#45;&gt;I</title>\n",
       "<path fill=\"none\" stroke=\"black\" d=\"M54.2496,-59C67.7083,-59 84.0856,-59 97.6926,-59\"/>\n",
       "<polygon fill=\"black\" stroke=\"black\" points=\"97.9025,-62.5001 107.903,-59 97.9025,-55.5001 97.9025,-62.5001\"/>\n",
       "</g>\n",
       "<!-- SeeIfMore -->\n",
       "<g id=\"node2\" class=\"node\"><title>SeeIfMore</title>\n",
       "<ellipse fill=\"none\" stroke=\"black\" cx=\"295.069\" cy=\"-117\" rx=\"47.841\" ry=\"47.841\"/>\n",
       "<text text-anchor=\"middle\" x=\"295.069\" y=\"-112.8\" font-family=\"Times,serif\" font-size=\"14.00\">SeeIfMore</text>\n",
       "</g>\n",
       "<!-- SeeIfMore&#45;&gt;I -->\n",
       "<g id=\"edge4\" class=\"edge\"><title>SeeIfMore&#45;&gt;I</title>\n",
       "<path fill=\"none\" stroke=\"black\" d=\"M264.233,-80.1029C254.219,-70.3888 242.233,-61.1828 229.148,-56 204.878,-46.3864 174.761,-48.8151 153.537,-52.6189\"/>\n",
       "<polygon fill=\"black\" stroke=\"black\" points=\"152.727,-49.2117 143.613,-54.6132 154.106,-56.0745 152.727,-49.2117\"/>\n",
       "<text text-anchor=\"middle\" x=\"204.074\" y=\"-86.8\" font-family=\"Times,serif\" font-size=\"14.00\">&#39;&#39;, c ; cc </text>\n",
       "<text text-anchor=\"middle\" x=\"204.074\" y=\"-72.8\" font-family=\"Times,serif\" font-size=\"14.00\"> &#39;&#39;, # ; c# </text>\n",
       "<text text-anchor=\"middle\" x=\"204.074\" y=\"-58.8\" font-family=\"Times,serif\" font-size=\"14.00\"> &#39;&#39;, b ; &#39;&#39;</text>\n",
       "</g>\n",
       "<!-- I&#45;&gt;SeeIfMore -->\n",
       "<g id=\"edge3\" class=\"edge\"><title>I&#45;&gt;SeeIfMore</title>\n",
       "<path fill=\"none\" stroke=\"black\" d=\"M138.865,-72.2161C148.608,-82.1513 163.316,-95.178 179,-102 197.009,-109.833 217.987,-113.876 237.062,-115.879\"/>\n",
       "<polygon fill=\"black\" stroke=\"black\" points=\"236.865,-119.375 247.135,-116.771 237.483,-112.402 236.865,-119.375\"/>\n",
       "<text text-anchor=\"middle\" x=\"204.074\" y=\"-116.8\" font-family=\"Times,serif\" font-size=\"14.00\">a, b ; &#39;&#39;</text>\n",
       "</g>\n",
       "<!-- I&#45;&gt;I -->\n",
       "<g id=\"edge2\" class=\"edge\"><title>I&#45;&gt;I</title>\n",
       "<path fill=\"none\" stroke=\"black\" d=\"M117.021,-74.916C114.679,-85.1504 117.672,-95 126,-95 131.465,-95 134.633,-90.7581 135.503,-84.9494\"/>\n",
       "<polygon fill=\"black\" stroke=\"black\" points=\"138.996,-84.7198 134.979,-74.916 132.005,-85.0851 138.996,-84.7198\"/>\n",
       "<text text-anchor=\"middle\" x=\"126\" y=\"-153.8\" font-family=\"Times,serif\" font-size=\"14.00\">a, # ; cc# </text>\n",
       "<text text-anchor=\"middle\" x=\"126\" y=\"-139.8\" font-family=\"Times,serif\" font-size=\"14.00\"> b, c ; &#39;&#39; </text>\n",
       "<text text-anchor=\"middle\" x=\"126\" y=\"-125.8\" font-family=\"Times,serif\" font-size=\"14.00\"> b, # ; b# </text>\n",
       "<text text-anchor=\"middle\" x=\"126\" y=\"-111.8\" font-family=\"Times,serif\" font-size=\"14.00\"> a, c ; ccc </text>\n",
       "<text text-anchor=\"middle\" x=\"126\" y=\"-97.8\" font-family=\"Times,serif\" font-size=\"14.00\"> b, b ; bb</text>\n",
       "</g>\n",
       "<!-- F -->\n",
       "<g id=\"node4\" class=\"node\"><title>F</title>\n",
       "<ellipse fill=\"none\" stroke=\"black\" cx=\"295.069\" cy=\"-22\" rx=\"18\" ry=\"18\"/>\n",
       "<ellipse fill=\"none\" stroke=\"black\" cx=\"295.069\" cy=\"-22\" rx=\"22\" ry=\"22\"/>\n",
       "<text text-anchor=\"middle\" x=\"295.069\" y=\"-17.8\" font-family=\"Times,serif\" font-size=\"14.00\">F</text>\n",
       "</g>\n",
       "<!-- I&#45;&gt;F -->\n",
       "<g id=\"edge5\" class=\"edge\"><title>I&#45;&gt;F</title>\n",
       "<path fill=\"none\" stroke=\"black\" d=\"M139.91,-46.7455C149.764,-38.2745 164.138,-27.7136 179,-23 206.413,-14.3058 239.381,-15.0732 262.989,-17.4105\"/>\n",
       "<polygon fill=\"black\" stroke=\"black\" points=\"262.792,-20.9105 273.124,-18.5665 263.585,-13.9556 262.792,-20.9105\"/>\n",
       "<text text-anchor=\"middle\" x=\"204.074\" y=\"-25.8\" font-family=\"Times,serif\" font-size=\"14.00\">&#39;&#39;, # ; #</text>\n",
       "</g>\n",
       "</g>\n",
       "</svg>\n"
      ],
      "text/plain": [
       "<graphviz.dot.Digraph at 0x10bb72c88>"
      ]
     },
     "execution_count": 22,
     "metadata": {},
     "output_type": "execute_result"
    }
   ],
   "source": [
    "dotObj_pda(pda_a1_b2, FuseEdges = True)"
   ]
  },
  {
   "cell_type": "code",
   "execution_count": 23,
   "metadata": {
    "run_control": {
     "frozen": false,
     "read_only": false
    }
   },
   "outputs": [
    {
     "name": "stdout",
     "output_type": "stream",
     "text": [
      "String aabbbbbabbba accepted by your PDA in 1 ways :-) \n",
      "Here are the ways: \n",
      "Final state  ('F', '', '#')\n",
      "Reached as follows:\n",
      "->  ('I', 'aabbbbbabbba', '#')\n",
      "->  ('I', 'abbbbbabbba', 'cc#')\n",
      "->  ('I', 'bbbbbabbba', 'cccc#')\n",
      "->  ('I', 'bbbbabbba', 'ccc#')\n",
      "->  ('I', 'bbbabbba', 'cc#')\n",
      "->  ('I', 'bbabbba', 'c#')\n",
      "->  ('I', 'babbba', '#')\n",
      "->  ('I', 'abbba', 'b#')\n",
      "->  ('SeeIfMore', 'bbba', '#')\n",
      "->  ('I', 'bbba', 'c#')\n",
      "->  ('I', 'bba', '#')\n",
      "->  ('I', 'ba', 'b#')\n",
      "->  ('I', 'a', 'bb#')\n",
      "->  ('SeeIfMore', '', 'b#')\n",
      "->  ('I', '', '#')\n",
      "->  ('F', '', '#') .\n"
     ]
    }
   ],
   "source": [
    "explore_pda(\"aabbbbbabbba\", pda_a1_b2)"
   ]
  },
  {
   "cell_type": "code",
   "execution_count": 2,
   "metadata": {
    "run_control": {
     "frozen": false,
     "read_only": false
    }
   },
   "outputs": [
    {
     "data": {
      "image/svg+xml": [
       "<?xml version=\"1.0\" encoding=\"UTF-8\" standalone=\"no\"?>\n",
       "<!DOCTYPE svg PUBLIC \"-//W3C//DTD SVG 1.1//EN\"\n",
       " \"http://www.w3.org/Graphics/SVG/1.1/DTD/svg11.dtd\">\n",
       "<!-- Generated by graphviz version 2.38.0 (20140413.2041)\n",
       " -->\n",
       "<!-- Title: %3 Pages: 1 -->\n",
       "<svg width=\"259pt\" height=\"264pt\"\n",
       " viewBox=\"0.00 0.00 259.29 263.81\" xmlns=\"http://www.w3.org/2000/svg\" xmlns:xlink=\"http://www.w3.org/1999/xlink\">\n",
       "<g id=\"graph0\" class=\"graph\" transform=\"scale(1 1) rotate(0) translate(4 259.809)\">\n",
       "<title>%3</title>\n",
       "<polygon fill=\"white\" stroke=\"none\" points=\"-4,4 -4,-259.809 255.286,-259.809 255.286,4 -4,4\"/>\n",
       "<!-- EMPTY -->\n",
       "<g id=\"node1\" class=\"node\"><title>EMPTY</title>\n",
       "</g>\n",
       "<!-- I -->\n",
       "<g id=\"node3\" class=\"node\"><title>I</title>\n",
       "<ellipse fill=\"none\" stroke=\"black\" cx=\"109\" cy=\"-45.8088\" rx=\"18\" ry=\"18\"/>\n",
       "<text text-anchor=\"middle\" x=\"109\" y=\"-41.6088\" font-family=\"Times,serif\" font-size=\"14.00\">I</text>\n",
       "</g>\n",
       "<!-- EMPTY&#45;&gt;I -->\n",
       "<g id=\"edge1\" class=\"edge\"><title>EMPTY&#45;&gt;I</title>\n",
       "<path fill=\"none\" stroke=\"black\" d=\"M54.195,-45.8088C62.6538,-45.8088 72.0513,-45.8088 80.5951,-45.8088\"/>\n",
       "<polygon fill=\"black\" stroke=\"black\" points=\"80.8257,-49.3089 90.8257,-45.8088 80.8257,-42.3089 80.8257,-49.3089\"/>\n",
       "</g>\n",
       "<!-- Try -->\n",
       "<g id=\"node2\" class=\"node\"><title>Try</title>\n",
       "<ellipse fill=\"none\" stroke=\"black\" cx=\"228.717\" cy=\"-45.8088\" rx=\"22.6379\" ry=\"22.6379\"/>\n",
       "<text text-anchor=\"middle\" x=\"228.717\" y=\"-41.6088\" font-family=\"Times,serif\" font-size=\"14.00\">Try</text>\n",
       "</g>\n",
       "<!-- Try&#45;&gt;I -->\n",
       "<g id=\"edge5\" class=\"edge\"><title>Try&#45;&gt;I</title>\n",
       "<path fill=\"none\" stroke=\"black\" d=\"M205.764,-45.8088C186.384,-45.8088 158.054,-45.8088 137.233,-45.8088\"/>\n",
       "<polygon fill=\"black\" stroke=\"black\" points=\"137.117,-42.3089 127.117,-45.8088 137.117,-49.3089 137.117,-42.3089\"/>\n",
       "<text text-anchor=\"middle\" x=\"166.574\" y=\"-48.6088\" font-family=\"Times,serif\" font-size=\"14.00\">&#39;&#39;, b ; &#39;&#39;</text>\n",
       "</g>\n",
       "<!-- Try&#45;&gt;I -->\n",
       "<g id=\"edge6\" class=\"edge\"><title>Try&#45;&gt;I</title>\n",
       "<path fill=\"none\" stroke=\"black\" d=\"M208.565,-35.1127C202.258,-32.1378 195.082,-29.3117 188.148,-27.8088 169.407,-23.7463 163.639,-23.2969 145,-27.8088 141.26,-28.7141 137.472,-30.0921 133.838,-31.691\"/>\n",
       "<polygon fill=\"black\" stroke=\"black\" points=\"132.086,-28.6542 124.717,-36.2665 135.225,-34.9112 132.086,-28.6542\"/>\n",
       "<text text-anchor=\"middle\" x=\"166.574\" y=\"-30.6088\" font-family=\"Times,serif\" font-size=\"14.00\">&#39;&#39;, c ; cc</text>\n",
       "</g>\n",
       "<!-- Try&#45;&gt;I -->\n",
       "<g id=\"edge7\" class=\"edge\"><title>Try&#45;&gt;I</title>\n",
       "<path fill=\"none\" stroke=\"black\" d=\"M214.892,-27.3403C208.023,-19.094 198.785,-10.2486 188.148,-5.80882 170.451,1.5779 162.463,2.11546 145,-5.80882 137.201,-9.34774 130.457,-15.5783 125.027,-22.0836\"/>\n",
       "<polygon fill=\"black\" stroke=\"black\" points=\"122.073,-20.1887 118.873,-30.2886 127.673,-24.389 122.073,-20.1887\"/>\n",
       "<text text-anchor=\"middle\" x=\"166.574\" y=\"-8.60882\" font-family=\"Times,serif\" font-size=\"14.00\">&#39;&#39;, # ; c#</text>\n",
       "</g>\n",
       "<!-- I&#45;&gt;Try -->\n",
       "<g id=\"edge4\" class=\"edge\"><title>I&#45;&gt;Try</title>\n",
       "<path fill=\"none\" stroke=\"black\" d=\"M120.258,-60.1025C126.476,-67.4965 135.109,-75.7956 145,-79.8088 162.77,-87.019 170.167,-86.4732 188.148,-79.8088 194.391,-77.4954 200.31,-73.7077 205.578,-69.4829\"/>\n",
       "<polygon fill=\"black\" stroke=\"black\" points=\"208.13,-71.897 213.271,-62.6335 203.475,-66.6687 208.13,-71.897\"/>\n",
       "<text text-anchor=\"middle\" x=\"166.574\" y=\"-87.6088\" font-family=\"Times,serif\" font-size=\"14.00\">a, b ; &#39;&#39;</text>\n",
       "</g>\n",
       "<!-- I&#45;&gt;I -->\n",
       "<g id=\"edge2\" class=\"edge\"><title>I&#45;&gt;I</title>\n",
       "<path fill=\"none\" stroke=\"black\" d=\"M107.553,-63.9615C107.33,-73.3479 107.812,-81.8088 109,-81.8088 109.724,-81.8088 110.185,-78.667 110.385,-74.0884\"/>\n",
       "<polygon fill=\"black\" stroke=\"black\" points=\"113.886,-73.9828 110.447,-63.9615 106.886,-73.9399 113.886,-73.9828\"/>\n",
       "<text text-anchor=\"middle\" x=\"109\" y=\"-84.6088\" font-family=\"Times,serif\" font-size=\"14.00\">&#39;&#39;, # ; &#39;&#39;</text>\n",
       "</g>\n",
       "<!-- I&#45;&gt;I -->\n",
       "<g id=\"edge3\" class=\"edge\"><title>I&#45;&gt;I</title>\n",
       "<path fill=\"none\" stroke=\"black\" d=\"M106.595,-63.7871C105.308,-81.0085 106.109,-99.8088 109,-99.8088 111.326,-99.8088 112.299,-87.6352 111.92,-73.9066\"/>\n",
       "<polygon fill=\"black\" stroke=\"black\" points=\"115.409,-73.5961 111.405,-63.7871 108.418,-73.9521 115.409,-73.5961\"/>\n",
       "<text text-anchor=\"middle\" x=\"109\" y=\"-102.609\" font-family=\"Times,serif\" font-size=\"14.00\">a, # ; cc#</text>\n",
       "</g>\n",
       "<!-- I&#45;&gt;I -->\n",
       "<g id=\"edge8\" class=\"edge\"><title>I&#45;&gt;I</title>\n",
       "<path fill=\"none\" stroke=\"black\" d=\"M105.964,-63.8869C103.277,-88.2182 104.289,-117.809 109,-117.809 113.067,-117.809 114.377,-95.7563 112.931,-74.0724\"/>\n",
       "<polygon fill=\"black\" stroke=\"black\" points=\"116.398,-73.5423 112.036,-63.8869 109.425,-74.1548 116.398,-73.5423\"/>\n",
       "<text text-anchor=\"middle\" x=\"109\" y=\"-120.609\" font-family=\"Times,serif\" font-size=\"14.00\">a, c ; ccc</text>\n",
       "</g>\n",
       "<!-- I&#45;&gt;I -->\n",
       "<g id=\"edge9\" class=\"edge\"><title>I&#45;&gt;I</title>\n",
       "<path fill=\"none\" stroke=\"black\" d=\"M105.523,-63.9212C101.247,-95.0486 102.406,-135.809 109,-135.809 114.898,-135.809 116.448,-103.193 113.649,-74.0325\"/>\n",
       "<polygon fill=\"black\" stroke=\"black\" points=\"117.105,-73.4519 112.477,-63.9212 110.151,-74.2576 117.105,-73.4519\"/>\n",
       "<text text-anchor=\"middle\" x=\"109\" y=\"-138.609\" font-family=\"Times,serif\" font-size=\"14.00\">b, # ; b#</text>\n",
       "</g>\n",
       "<!-- I&#45;&gt;I -->\n",
       "<g id=\"edge10\" class=\"edge\"><title>I&#45;&gt;I</title>\n",
       "<path fill=\"none\" stroke=\"black\" d=\"M105.249,-63.6071C99.2146,-101.358 100.465,-153.809 109,-153.809 116.802,-153.809 118.517,-109.985 114.145,-73.6227\"/>\n",
       "<polygon fill=\"black\" stroke=\"black\" points=\"117.596,-73.0289 112.751,-63.6071 110.663,-73.9942 117.596,-73.0289\"/>\n",
       "<text text-anchor=\"middle\" x=\"109\" y=\"-156.609\" font-family=\"Times,serif\" font-size=\"14.00\">b, b ; bb</text>\n",
       "</g>\n",
       "<!-- I&#45;&gt;I -->\n",
       "<g id=\"edge11\" class=\"edge\"><title>I&#45;&gt;I</title>\n",
       "<path fill=\"none\" stroke=\"black\" d=\"M105.01,-63.5779C97.1934,-107.783 98.5234,-171.809 109,-171.809 118.699,-171.809 120.559,-116.934 114.579,-73.7137\"/>\n",
       "<polygon fill=\"black\" stroke=\"black\" points=\"117.997,-72.915 112.99,-63.5779 111.081,-73.9993 117.997,-72.915\"/>\n",
       "<text text-anchor=\"middle\" x=\"109\" y=\"-174.609\" font-family=\"Times,serif\" font-size=\"14.00\">b, c ; &#39;&#39;</text>\n",
       "</g>\n",
       "</g>\n",
       "</svg>\n"
      ],
      "text/plain": [
       "<graphviz.dot.Digraph at 0x10bb2d898>"
      ]
     },
     "execution_count": 2,
     "metadata": {},
     "output_type": "execute_result"
    }
   ],
   "source": [
    "a1b2_s = md2mc(src=\"File\", fname=\"pdafiles/a1b2_accept_s.pda\")\n",
    "dotObj_pda(a1b2_s) "
   ]
  },
  {
   "cell_type": "code",
   "execution_count": 3,
   "metadata": {
    "run_control": {
     "frozen": false,
     "read_only": false
    }
   },
   "outputs": [
    {
     "data": {
      "image/svg+xml": [
       "<?xml version=\"1.0\" encoding=\"UTF-8\" standalone=\"no\"?>\n",
       "<!DOCTYPE svg PUBLIC \"-//W3C//DTD SVG 1.1//EN\"\n",
       " \"http://www.w3.org/Graphics/SVG/1.1/DTD/svg11.dtd\">\n",
       "<!-- Generated by graphviz version 2.38.0 (20140413.2041)\n",
       " -->\n",
       "<!-- Title: %3 Pages: 1 -->\n",
       "<svg width=\"314pt\" height=\"168pt\"\n",
       " viewBox=\"0.00 0.00 314.29 168.42\" xmlns=\"http://www.w3.org/2000/svg\" xmlns:xlink=\"http://www.w3.org/1999/xlink\">\n",
       "<g id=\"graph0\" class=\"graph\" transform=\"scale(1 1) rotate(0) translate(4 164.422)\">\n",
       "<title>%3</title>\n",
       "<polygon fill=\"white\" stroke=\"none\" points=\"-4,4 -4,-164.422 310.286,-164.422 310.286,4 -4,4\"/>\n",
       "<!-- EMPTY -->\n",
       "<g id=\"node1\" class=\"node\"><title>EMPTY</title>\n",
       "</g>\n",
       "<!-- I -->\n",
       "<g id=\"node3\" class=\"node\"><title>I</title>\n",
       "<ellipse fill=\"none\" stroke=\"black\" cx=\"133\" cy=\"-40.4216\" rx=\"18\" ry=\"18\"/>\n",
       "<text text-anchor=\"middle\" x=\"133\" y=\"-36.2216\" font-family=\"Times,serif\" font-size=\"14.00\">I</text>\n",
       "</g>\n",
       "<!-- EMPTY&#45;&gt;I -->\n",
       "<g id=\"edge1\" class=\"edge\"><title>EMPTY&#45;&gt;I</title>\n",
       "<path fill=\"none\" stroke=\"black\" d=\"M54.2436,-40.4216C69.6933,-40.4216 89.2012,-40.4216 104.812,-40.4216\"/>\n",
       "<polygon fill=\"black\" stroke=\"black\" points=\"104.899,-43.9217 114.899,-40.4216 104.899,-36.9217 104.899,-43.9217\"/>\n",
       "</g>\n",
       "<!-- Try -->\n",
       "<g id=\"node2\" class=\"node\"><title>Try</title>\n",
       "<ellipse fill=\"none\" stroke=\"black\" cx=\"283.717\" cy=\"-40.4216\" rx=\"22.6379\" ry=\"22.6379\"/>\n",
       "<text text-anchor=\"middle\" x=\"283.717\" y=\"-36.2216\" font-family=\"Times,serif\" font-size=\"14.00\">Try</text>\n",
       "</g>\n",
       "<!-- Try&#45;&gt;I -->\n",
       "<g id=\"edge4\" class=\"edge\"><title>Try&#45;&gt;I</title>\n",
       "<path fill=\"none\" stroke=\"black\" d=\"M268.725,-23.4806C261.842,-16.4711 252.926,-9.12534 243.148,-5.42163 222.306,2.47376 214.494,0.474118 193,-5.42163 179.72,-9.0643 166.4,-16.5564 155.786,-23.6775\"/>\n",
       "<polygon fill=\"black\" stroke=\"black\" points=\"153.717,-20.8532 147.566,-29.4794 157.754,-26.572 153.717,-20.8532\"/>\n",
       "<text text-anchor=\"middle\" x=\"218.074\" y=\"-36.2216\" font-family=\"Times,serif\" font-size=\"14.00\">&#39;&#39;, c ; cc </text>\n",
       "<text text-anchor=\"middle\" x=\"218.074\" y=\"-22.2216\" font-family=\"Times,serif\" font-size=\"14.00\"> &#39;&#39;, # ; c# </text>\n",
       "<text text-anchor=\"middle\" x=\"218.074\" y=\"-8.22163\" font-family=\"Times,serif\" font-size=\"14.00\"> &#39;&#39;, b ; &#39;&#39;</text>\n",
       "</g>\n",
       "<!-- I&#45;&gt;Try -->\n",
       "<g id=\"edge3\" class=\"edge\"><title>I&#45;&gt;Try</title>\n",
       "<path fill=\"none\" stroke=\"black\" d=\"M150.685,-44.5451C172.134,-49.2858 210.502,-55.8749 243.148,-51.4216 246.063,-51.0241 249.065,-50.4691 252.052,-49.8176\"/>\n",
       "<polygon fill=\"black\" stroke=\"black\" points=\"253.147,-53.1512 261.993,-47.3201 251.442,-46.3622 253.147,-53.1512\"/>\n",
       "<text text-anchor=\"middle\" x=\"218.074\" y=\"-55.2216\" font-family=\"Times,serif\" font-size=\"14.00\">a, b ; &#39;&#39;</text>\n",
       "</g>\n",
       "<!-- I&#45;&gt;I -->\n",
       "<g id=\"edge2\" class=\"edge\"><title>I&#45;&gt;I</title>\n",
       "<path fill=\"none\" stroke=\"black\" d=\"M122.849,-55.5883C119.772,-66.0857 123.156,-76.4216 133,-76.4216 139.46,-76.4216 143.138,-71.9703 144.034,-65.9432\"/>\n",
       "<polygon fill=\"black\" stroke=\"black\" points=\"147.488,-65.255 143.151,-55.5883 140.513,-65.8493 147.488,-65.255\"/>\n",
       "<text text-anchor=\"middle\" x=\"133\" y=\"-149.222\" font-family=\"Times,serif\" font-size=\"14.00\">a, # ; cc# </text>\n",
       "<text text-anchor=\"middle\" x=\"133\" y=\"-135.222\" font-family=\"Times,serif\" font-size=\"14.00\"> b, # ; b# </text>\n",
       "<text text-anchor=\"middle\" x=\"133\" y=\"-121.222\" font-family=\"Times,serif\" font-size=\"14.00\"> b, c ; &#39;&#39; </text>\n",
       "<text text-anchor=\"middle\" x=\"133\" y=\"-107.222\" font-family=\"Times,serif\" font-size=\"14.00\"> a, c ; ccc </text>\n",
       "<text text-anchor=\"middle\" x=\"133\" y=\"-93.2216\" font-family=\"Times,serif\" font-size=\"14.00\"> b, b ; bb </text>\n",
       "<text text-anchor=\"middle\" x=\"133\" y=\"-79.2216\" font-family=\"Times,serif\" font-size=\"14.00\"> &#39;&#39;, # ; &#39;&#39;</text>\n",
       "</g>\n",
       "</g>\n",
       "</svg>\n"
      ],
      "text/plain": [
       "<graphviz.dot.Digraph at 0x10baccb00>"
      ]
     },
     "execution_count": 3,
     "metadata": {},
     "output_type": "execute_result"
    }
   ],
   "source": [
    "dotObj_pda(a1b2_s, FuseEdges=True) "
   ]
  },
  {
   "cell_type": "code",
   "execution_count": 4,
   "metadata": {
    "run_control": {
     "frozen": false,
     "read_only": false
    }
   },
   "outputs": [
    {
     "name": "stdout",
     "output_type": "stream",
     "text": [
      "Help on function explore_pda in module Imports.Def_PDA:\n",
      "\n",
      "explore_pda(inp, P, acceptance='ACCEPT_F', STKMAX=0, chatty=False)\n",
      "    A handy routine to print the result of run_pda plus making \n",
      "    future extensions to explore run-results.\n",
      "\n"
     ]
    }
   ],
   "source": [
    "help(explore_pda)"
   ]
  },
  {
   "cell_type": "code",
   "execution_count": 5,
   "metadata": {
    "run_control": {
     "frozen": false,
     "read_only": false
    }
   },
   "outputs": [
    {
     "name": "stdout",
     "output_type": "stream",
     "text": [
      "String abb accepted by your PDA in 1 ways :-) \n",
      "Here are the ways: \n",
      "Final state  ('I', '', '')\n",
      "Reached as follows:\n",
      "->  ('I', 'abb', '#')\n",
      "->  ('I', 'bb', 'cc#')\n",
      "->  ('I', 'b', 'c#')\n",
      "->  ('I', '', '#')\n",
      "->  ('I', '', '') .\n"
     ]
    }
   ],
   "source": [
    "explore_pda(\"abb\", a1b2_s, acceptance='ACCEPT_S')"
   ]
  },
  {
   "cell_type": "code",
   "execution_count": 6,
   "metadata": {
    "run_control": {
     "frozen": false,
     "read_only": false
    }
   },
   "outputs": [
    {
     "name": "stdout",
     "output_type": "stream",
     "text": [
      "String bab accepted by your PDA in 1 ways :-) \n",
      "Here are the ways: \n",
      "Final state  ('I', '', '')\n",
      "Reached as follows:\n",
      "->  ('I', 'bab', '#')\n",
      "->  ('I', 'ab', 'b#')\n",
      "->  ('Try', 'b', '#')\n",
      "->  ('I', 'b', 'c#')\n",
      "->  ('I', '', '#')\n",
      "->  ('I', '', '') .\n"
     ]
    }
   ],
   "source": [
    "explore_pda(\"bab\", a1b2_s, acceptance='ACCEPT_S')"
   ]
  },
  {
   "cell_type": "code",
   "execution_count": 7,
   "metadata": {
    "run_control": {
     "frozen": false,
     "read_only": false
    }
   },
   "outputs": [
    {
     "name": "stdout",
     "output_type": "stream",
     "text": [
      "String bba accepted by your PDA in 1 ways :-) \n",
      "Here are the ways: \n",
      "Final state  ('I', '', '')\n",
      "Reached as follows:\n",
      "->  ('I', 'bba', '#')\n",
      "->  ('I', 'ba', 'b#')\n",
      "->  ('I', 'a', 'bb#')\n",
      "->  ('Try', '', 'b#')\n",
      "->  ('I', '', '#')\n",
      "->  ('I', '', '') .\n"
     ]
    }
   ],
   "source": [
    "explore_pda(\"bba\", a1b2_s, acceptance='ACCEPT_S')"
   ]
  },
  {
   "cell_type": "code",
   "execution_count": 8,
   "metadata": {
    "run_control": {
     "frozen": false,
     "read_only": false
    }
   },
   "outputs": [
    {
     "name": "stdout",
     "output_type": "stream",
     "text": [
      "String bbaabbbabaabbabbbb accepted by your PDA in 1 ways :-) \n",
      "Here are the ways: \n",
      "Final state  ('I', '', '')\n",
      "Reached as follows:\n",
      "->  ('I', 'bbaabbbabaabbabbbb', '#')\n",
      "->  ('I', 'baabbbabaabbabbbb', 'b#')\n",
      "->  ('I', 'aabbbabaabbabbbb', 'bb#')\n",
      "->  ('Try', 'abbbabaabbabbbb', 'b#')\n",
      "->  ('I', 'abbbabaabbabbbb', '#')\n",
      "->  ('I', 'bbbabaabbabbbb', 'cc#')\n",
      "->  ('I', 'bbabaabbabbbb', 'c#')\n",
      "->  ('I', 'babaabbabbbb', '#')\n",
      "->  ('I', 'abaabbabbbb', 'b#')\n",
      "->  ('Try', 'baabbabbbb', '#')\n",
      "->  ('I', 'baabbabbbb', 'c#')\n",
      "->  ('I', 'aabbabbbb', '#')\n",
      "->  ('I', 'abbabbbb', 'cc#')\n",
      "->  ('I', 'bbabbbb', 'cccc#')\n",
      "->  ('I', 'babbbb', 'ccc#')\n",
      "->  ('I', 'abbbb', 'cc#')\n",
      "->  ('I', 'bbbb', 'cccc#')\n",
      "->  ('I', 'bbb', 'ccc#')\n",
      "->  ('I', 'bb', 'cc#')\n",
      "->  ('I', 'b', 'c#')\n",
      "->  ('I', '', '#')\n",
      "->  ('I', '', '') .\n"
     ]
    }
   ],
   "source": [
    "explore_pda(\"bbaabbbabaabbabbbb\", a1b2_s, acceptance='ACCEPT_S')"
   ]
  },
  {
   "cell_type": "code",
   "execution_count": 9,
   "metadata": {
    "run_control": {
     "frozen": false,
     "read_only": false
    }
   },
   "outputs": [
    {
     "name": "stdout",
     "output_type": "stream",
     "text": [
      "String babaababbbaabbbbbb accepted by your PDA in 1 ways :-) \n",
      "Here are the ways: \n",
      "Final state  ('I', '', '')\n",
      "Reached as follows:\n",
      "->  ('I', 'babaababbbaabbbbbb', '#')\n",
      "->  ('I', 'abaababbbaabbbbbb', 'b#')\n",
      "->  ('Try', 'baababbbaabbbbbb', '#')\n",
      "->  ('I', 'baababbbaabbbbbb', 'c#')\n",
      "->  ('I', 'aababbbaabbbbbb', '#')\n",
      "->  ('I', 'ababbbaabbbbbb', 'cc#')\n",
      "->  ('I', 'babbbaabbbbbb', 'cccc#')\n",
      "->  ('I', 'abbbaabbbbbb', 'ccc#')\n",
      "->  ('I', 'bbbaabbbbbb', 'ccccc#')\n",
      "->  ('I', 'bbaabbbbbb', 'cccc#')\n",
      "->  ('I', 'baabbbbbb', 'ccc#')\n",
      "->  ('I', 'aabbbbbb', 'cc#')\n",
      "->  ('I', 'abbbbbb', 'cccc#')\n",
      "->  ('I', 'bbbbbb', 'cccccc#')\n",
      "->  ('I', 'bbbbb', 'ccccc#')\n",
      "->  ('I', 'bbbb', 'cccc#')\n",
      "->  ('I', 'bbb', 'ccc#')\n",
      "->  ('I', 'bb', 'cc#')\n",
      "->  ('I', 'b', 'c#')\n",
      "->  ('I', '', '#')\n",
      "->  ('I', '', '') .\n"
     ]
    }
   ],
   "source": [
    "explore_pda(\"babaababbbaabbbbbb\", a1b2_s, acceptance='ACCEPT_S')"
   ]
  },
  {
   "cell_type": "code",
   "execution_count": 10,
   "metadata": {
    "run_control": {
     "frozen": false,
     "read_only": false
    }
   },
   "outputs": [
    {
     "name": "stdout",
     "output_type": "stream",
     "text": [
      "String abbaababbbabbbbbba accepted by your PDA in 1 ways :-) \n",
      "Here are the ways: \n",
      "Final state  ('I', '', '')\n",
      "Reached as follows:\n",
      "->  ('I', 'abbaababbbabbbbbba', '#')\n",
      "->  ('I', 'bbaababbbabbbbbba', 'cc#')\n",
      "->  ('I', 'baababbbabbbbbba', 'c#')\n",
      "->  ('I', 'aababbbabbbbbba', '#')\n",
      "->  ('I', 'ababbbabbbbbba', 'cc#')\n",
      "->  ('I', 'babbbabbbbbba', 'cccc#')\n",
      "->  ('I', 'abbbabbbbbba', 'ccc#')\n",
      "->  ('I', 'bbbabbbbbba', 'ccccc#')\n",
      "->  ('I', 'bbabbbbbba', 'cccc#')\n",
      "->  ('I', 'babbbbbba', 'ccc#')\n",
      "->  ('I', 'abbbbbba', 'cc#')\n",
      "->  ('I', 'bbbbbba', 'cccc#')\n",
      "->  ('I', 'bbbbba', 'ccc#')\n",
      "->  ('I', 'bbbba', 'cc#')\n",
      "->  ('I', 'bbba', 'c#')\n",
      "->  ('I', 'bba', '#')\n",
      "->  ('I', 'ba', 'b#')\n",
      "->  ('I', 'a', 'bb#')\n",
      "->  ('Try', '', 'b#')\n",
      "->  ('I', '', '#')\n",
      "->  ('I', '', '') .\n"
     ]
    }
   ],
   "source": [
    "explore_pda(\"abbaababbbabbbbbba\", a1b2_s, acceptance='ACCEPT_S')"
   ]
  },
  {
   "cell_type": "code",
   "execution_count": 11,
   "metadata": {
    "run_control": {
     "frozen": false,
     "read_only": false
    }
   },
   "outputs": [
    {
     "data": {
      "image/svg+xml": [
       "<?xml version=\"1.0\" encoding=\"UTF-8\" standalone=\"no\"?>\n",
       "<!DOCTYPE svg PUBLIC \"-//W3C//DTD SVG 1.1//EN\"\n",
       " \"http://www.w3.org/Graphics/SVG/1.1/DTD/svg11.dtd\">\n",
       "<!-- Generated by graphviz version 2.38.0 (20140413.2041)\n",
       " -->\n",
       "<!-- Title: %3 Pages: 1 -->\n",
       "<svg width=\"297pt\" height=\"302pt\"\n",
       " viewBox=\"0.00 0.00 297.36 301.60\" xmlns=\"http://www.w3.org/2000/svg\" xmlns:xlink=\"http://www.w3.org/1999/xlink\">\n",
       "<g id=\"graph0\" class=\"graph\" transform=\"scale(1 1) rotate(0) translate(4 297.604)\">\n",
       "<title>%3</title>\n",
       "<polygon fill=\"white\" stroke=\"none\" points=\"-4,4 -4,-297.604 293.357,-297.604 293.357,4 -4,4\"/>\n",
       "<!-- EMPTY -->\n",
       "<g id=\"node1\" class=\"node\"><title>EMPTY</title>\n",
       "</g>\n",
       "<!-- I -->\n",
       "<g id=\"node3\" class=\"node\"><title>I</title>\n",
       "<ellipse fill=\"none\" stroke=\"black\" cx=\"109\" cy=\"-115.604\" rx=\"18\" ry=\"18\"/>\n",
       "<text text-anchor=\"middle\" x=\"109\" y=\"-111.404\" font-family=\"Times,serif\" font-size=\"14.00\">I</text>\n",
       "</g>\n",
       "<!-- EMPTY&#45;&gt;I -->\n",
       "<g id=\"edge1\" class=\"edge\"><title>EMPTY&#45;&gt;I</title>\n",
       "<path fill=\"none\" stroke=\"black\" d=\"M54.195,-115.604C62.6538,-115.604 72.0513,-115.604 80.5951,-115.604\"/>\n",
       "<polygon fill=\"black\" stroke=\"black\" points=\"80.8257,-119.105 90.8257,-115.604 80.8257,-112.105 80.8257,-119.105\"/>\n",
       "</g>\n",
       "<!-- Try -->\n",
       "<g id=\"node2\" class=\"node\"><title>Try</title>\n",
       "<ellipse fill=\"none\" stroke=\"black\" cx=\"247.753\" cy=\"-137.604\" rx=\"22.6379\" ry=\"22.6379\"/>\n",
       "<text text-anchor=\"middle\" x=\"247.753\" y=\"-133.404\" font-family=\"Times,serif\" font-size=\"14.00\">Try</text>\n",
       "</g>\n",
       "<!-- Try&#45;&gt;I -->\n",
       "<g id=\"edge5\" class=\"edge\"><title>Try&#45;&gt;I</title>\n",
       "<path fill=\"none\" stroke=\"black\" d=\"M224.995,-138.199C204.172,-138.281 172.025,-137.126 145,-130.604 141.554,-129.773 138.016,-128.631 134.575,-127.347\"/>\n",
       "<polygon fill=\"black\" stroke=\"black\" points=\"135.873,-124.096 125.296,-123.483 133.182,-130.558 135.873,-124.096\"/>\n",
       "<text text-anchor=\"middle\" x=\"166.574\" y=\"-139.404\" font-family=\"Times,serif\" font-size=\"14.00\">&#39;&#39;, b ; &#39;&#39;</text>\n",
       "</g>\n",
       "<!-- Try&#45;&gt;I -->\n",
       "<g id=\"edge6\" class=\"edge\"><title>Try&#45;&gt;I</title>\n",
       "<path fill=\"none\" stroke=\"black\" d=\"M227.592,-127.101C216.443,-121.592 201.912,-115.418 188.148,-112.604 171.45,-109.192 152.337,-109.847 137.193,-111.402\"/>\n",
       "<polygon fill=\"black\" stroke=\"black\" points=\"136.462,-107.965 126.958,-112.647 137.308,-114.913 136.462,-107.965\"/>\n",
       "<text text-anchor=\"middle\" x=\"166.574\" y=\"-115.404\" font-family=\"Times,serif\" font-size=\"14.00\">&#39;&#39;, c ; cc</text>\n",
       "</g>\n",
       "<!-- Try&#45;&gt;I -->\n",
       "<g id=\"edge7\" class=\"edge\"><title>Try&#45;&gt;I</title>\n",
       "<path fill=\"none\" stroke=\"black\" d=\"M231.631,-121.01C220.731,-110.346 205.019,-97.4347 188.148,-91.6045 170.023,-85.3406 163.318,-85.9274 145,-91.6045 140.236,-93.0808 135.545,-95.4543 131.221,-98.1472\"/>\n",
       "<polygon fill=\"black\" stroke=\"black\" points=\"129.136,-95.3342 122.954,-103.939 133.153,-101.067 129.136,-95.3342\"/>\n",
       "<text text-anchor=\"middle\" x=\"166.574\" y=\"-94.4045\" font-family=\"Times,serif\" font-size=\"14.00\">&#39;&#39;, # ; c#</text>\n",
       "</g>\n",
       "<!-- I&#45;&gt;Try -->\n",
       "<g id=\"edge4\" class=\"edge\"><title>I&#45;&gt;Try</title>\n",
       "<path fill=\"none\" stroke=\"black\" d=\"M116.178,-132.273C121.693,-144.492 131.071,-160.19 145,-167.604 169.04,-180.402 199.259,-168.405 220.497,-155.988\"/>\n",
       "<polygon fill=\"black\" stroke=\"black\" points=\"222.351,-158.956 229.004,-150.712 218.661,-153.008 222.351,-158.956\"/>\n",
       "<text text-anchor=\"middle\" x=\"166.574\" y=\"-175.404\" font-family=\"Times,serif\" font-size=\"14.00\">a, b ; &#39;&#39;</text>\n",
       "</g>\n",
       "<!-- I&#45;&gt;I -->\n",
       "<g id=\"edge3\" class=\"edge\"><title>I&#45;&gt;I</title>\n",
       "<path fill=\"none\" stroke=\"black\" d=\"M107.553,-133.757C107.33,-143.144 107.812,-151.604 109,-151.604 109.724,-151.604 110.185,-148.463 110.385,-143.884\"/>\n",
       "<polygon fill=\"black\" stroke=\"black\" points=\"113.886,-143.778 110.447,-133.757 106.886,-143.736 113.886,-143.778\"/>\n",
       "<text text-anchor=\"middle\" x=\"109\" y=\"-154.404\" font-family=\"Times,serif\" font-size=\"14.00\">a, # ; cc#</text>\n",
       "</g>\n",
       "<!-- I&#45;&gt;I -->\n",
       "<g id=\"edge8\" class=\"edge\"><title>I&#45;&gt;I</title>\n",
       "<path fill=\"none\" stroke=\"black\" d=\"M106.595,-133.583C105.308,-150.804 106.109,-169.604 109,-169.604 111.326,-169.604 112.299,-157.431 111.92,-143.702\"/>\n",
       "<polygon fill=\"black\" stroke=\"black\" points=\"115.409,-143.392 111.405,-133.583 108.418,-143.748 115.409,-143.392\"/>\n",
       "<text text-anchor=\"middle\" x=\"109\" y=\"-172.404\" font-family=\"Times,serif\" font-size=\"14.00\">a, c ; ccc</text>\n",
       "</g>\n",
       "<!-- I&#45;&gt;I -->\n",
       "<g id=\"edge9\" class=\"edge\"><title>I&#45;&gt;I</title>\n",
       "<path fill=\"none\" stroke=\"black\" d=\"M105.964,-133.683C103.277,-158.014 104.289,-187.604 109,-187.604 113.067,-187.604 114.377,-165.552 112.931,-143.868\"/>\n",
       "<polygon fill=\"black\" stroke=\"black\" points=\"116.398,-143.338 112.036,-133.683 109.425,-143.95 116.398,-143.338\"/>\n",
       "<text text-anchor=\"middle\" x=\"109\" y=\"-190.404\" font-family=\"Times,serif\" font-size=\"14.00\">b, # ; b#</text>\n",
       "</g>\n",
       "<!-- I&#45;&gt;I -->\n",
       "<g id=\"edge10\" class=\"edge\"><title>I&#45;&gt;I</title>\n",
       "<path fill=\"none\" stroke=\"black\" d=\"M105.523,-133.717C101.247,-164.844 102.406,-205.604 109,-205.604 114.898,-205.604 116.448,-172.989 113.649,-143.828\"/>\n",
       "<polygon fill=\"black\" stroke=\"black\" points=\"117.105,-143.248 112.477,-133.717 110.151,-144.053 117.105,-143.248\"/>\n",
       "<text text-anchor=\"middle\" x=\"109\" y=\"-208.404\" font-family=\"Times,serif\" font-size=\"14.00\">b, b ; bb</text>\n",
       "</g>\n",
       "<!-- I&#45;&gt;I -->\n",
       "<g id=\"edge11\" class=\"edge\"><title>I&#45;&gt;I</title>\n",
       "<path fill=\"none\" stroke=\"black\" d=\"M105.249,-133.403C99.2146,-171.153 100.465,-223.604 109,-223.604 116.802,-223.604 118.517,-179.781 114.145,-143.418\"/>\n",
       "<polygon fill=\"black\" stroke=\"black\" points=\"117.596,-142.825 112.751,-133.403 110.663,-143.79 117.596,-142.825\"/>\n",
       "<text text-anchor=\"middle\" x=\"109\" y=\"-226.404\" font-family=\"Times,serif\" font-size=\"14.00\">b, c ; &#39;&#39;</text>\n",
       "</g>\n",
       "<!-- Faccept -->\n",
       "<g id=\"node4\" class=\"node\"><title>Faccept</title>\n",
       "<ellipse fill=\"none\" stroke=\"black\" cx=\"247.753\" cy=\"-41.6045\" rx=\"37.6991\" ry=\"37.6991\"/>\n",
       "<ellipse fill=\"none\" stroke=\"black\" cx=\"247.753\" cy=\"-41.6045\" rx=\"41.7092\" ry=\"41.7092\"/>\n",
       "<text text-anchor=\"middle\" x=\"247.753\" y=\"-37.4045\" font-family=\"Times,serif\" font-size=\"14.00\">Faccept</text>\n",
       "</g>\n",
       "<!-- I&#45;&gt;Faccept -->\n",
       "<g id=\"edge2\" class=\"edge\"><title>I&#45;&gt;Faccept</title>\n",
       "<path fill=\"none\" stroke=\"black\" d=\"M118.043,-99.8689C124.111,-89.5171 133.373,-76.4743 145,-68.6045 160.056,-58.4132 178.776,-52.0653 196.038,-48.1127\"/>\n",
       "<polygon fill=\"black\" stroke=\"black\" points=\"196.912,-51.5061 205.994,-46.0514 195.492,-44.6515 196.912,-51.5061\"/>\n",
       "<text text-anchor=\"middle\" x=\"166.574\" y=\"-71.4045\" font-family=\"Times,serif\" font-size=\"14.00\">&#39;&#39;, # ; &#39;&#39;</text>\n",
       "</g>\n",
       "</g>\n",
       "</svg>\n"
      ],
      "text/plain": [
       "<graphviz.dot.Digraph at 0x10baf7160>"
      ]
     },
     "execution_count": 11,
     "metadata": {},
     "output_type": "execute_result"
    }
   ],
   "source": [
    "a1b2_f = md2mc(src=\"File\", fname=\"pdafiles/a1b2_accept_f.pda\")\n",
    "dotObj_pda(a1b2_f) "
   ]
  },
  {
   "cell_type": "code",
   "execution_count": 12,
   "metadata": {
    "run_control": {
     "frozen": false,
     "read_only": false
    }
   },
   "outputs": [
    {
     "data": {
      "image/svg+xml": [
       "<?xml version=\"1.0\" encoding=\"UTF-8\" standalone=\"no\"?>\n",
       "<!DOCTYPE svg PUBLIC \"-//W3C//DTD SVG 1.1//EN\"\n",
       " \"http://www.w3.org/Graphics/SVG/1.1/DTD/svg11.dtd\">\n",
       "<!-- Generated by graphviz version 2.38.0 (20140413.2041)\n",
       " -->\n",
       "<!-- Title: %3 Pages: 1 -->\n",
       "<svg width=\"338pt\" height=\"193pt\"\n",
       " viewBox=\"0.00 0.00 338.36 192.60\" xmlns=\"http://www.w3.org/2000/svg\" xmlns:xlink=\"http://www.w3.org/1999/xlink\">\n",
       "<g id=\"graph0\" class=\"graph\" transform=\"scale(1 1) rotate(0) translate(4 188.604)\">\n",
       "<title>%3</title>\n",
       "<polygon fill=\"white\" stroke=\"none\" points=\"-4,4 -4,-188.604 334.357,-188.604 334.357,4 -4,4\"/>\n",
       "<!-- EMPTY -->\n",
       "<g id=\"node1\" class=\"node\"><title>EMPTY</title>\n",
       "</g>\n",
       "<!-- I -->\n",
       "<g id=\"node3\" class=\"node\"><title>I</title>\n",
       "<ellipse fill=\"none\" stroke=\"black\" cx=\"126\" cy=\"-78.6045\" rx=\"18\" ry=\"18\"/>\n",
       "<text text-anchor=\"middle\" x=\"126\" y=\"-74.4045\" font-family=\"Times,serif\" font-size=\"14.00\">I</text>\n",
       "</g>\n",
       "<!-- EMPTY&#45;&gt;I -->\n",
       "<g id=\"edge1\" class=\"edge\"><title>EMPTY&#45;&gt;I</title>\n",
       "<path fill=\"none\" stroke=\"black\" d=\"M54.2496,-78.6045C67.7083,-78.6045 84.0856,-78.6045 97.6926,-78.6045\"/>\n",
       "<polygon fill=\"black\" stroke=\"black\" points=\"97.9025,-82.1046 107.903,-78.6045 97.9025,-75.1046 97.9025,-82.1046\"/>\n",
       "</g>\n",
       "<!-- Try -->\n",
       "<g id=\"node2\" class=\"node\"><title>Try</title>\n",
       "<ellipse fill=\"none\" stroke=\"black\" cx=\"288.753\" cy=\"-133.604\" rx=\"22.6379\" ry=\"22.6379\"/>\n",
       "<text text-anchor=\"middle\" x=\"288.753\" y=\"-129.404\" font-family=\"Times,serif\" font-size=\"14.00\">Try</text>\n",
       "</g>\n",
       "<!-- Try&#45;&gt;I -->\n",
       "<g id=\"edge5\" class=\"edge\"><title>Try&#45;&gt;I</title>\n",
       "<path fill=\"none\" stroke=\"black\" d=\"M272.232,-117.958C255.343,-100.976 230.539,-76.1761 229.148,-75.6045 205.004,-65.6769 174.869,-68.1525 153.606,-72.0531\"/>\n",
       "<polygon fill=\"black\" stroke=\"black\" points=\"152.75,-68.6558 143.66,-74.0991 154.161,-75.5122 152.75,-68.6558\"/>\n",
       "<text text-anchor=\"middle\" x=\"204.074\" y=\"-106.404\" font-family=\"Times,serif\" font-size=\"14.00\">&#39;&#39;, c ; cc </text>\n",
       "<text text-anchor=\"middle\" x=\"204.074\" y=\"-92.4045\" font-family=\"Times,serif\" font-size=\"14.00\"> &#39;&#39;, # ; c# </text>\n",
       "<text text-anchor=\"middle\" x=\"204.074\" y=\"-78.4045\" font-family=\"Times,serif\" font-size=\"14.00\"> &#39;&#39;, b ; &#39;&#39;</text>\n",
       "</g>\n",
       "<!-- I&#45;&gt;Try -->\n",
       "<g id=\"edge4\" class=\"edge\"><title>I&#45;&gt;Try</title>\n",
       "<path fill=\"none\" stroke=\"black\" d=\"M138.828,-91.9064C148.551,-101.889 163.25,-114.938 179,-121.604 203.353,-131.913 233.382,-134.558 255.71,-134.827\"/>\n",
       "<polygon fill=\"black\" stroke=\"black\" points=\"256.007,-138.326 265.995,-134.791 255.983,-131.326 256.007,-138.326\"/>\n",
       "<text text-anchor=\"middle\" x=\"204.074\" y=\"-135.404\" font-family=\"Times,serif\" font-size=\"14.00\">a, b ; &#39;&#39;</text>\n",
       "</g>\n",
       "<!-- I&#45;&gt;I -->\n",
       "<g id=\"edge3\" class=\"edge\"><title>I&#45;&gt;I</title>\n",
       "<path fill=\"none\" stroke=\"black\" d=\"M117.021,-94.5205C114.679,-104.755 117.672,-114.604 126,-114.604 131.465,-114.604 134.633,-110.363 135.503,-104.554\"/>\n",
       "<polygon fill=\"black\" stroke=\"black\" points=\"138.996,-104.324 134.979,-94.5205 132.005,-104.69 138.996,-104.324\"/>\n",
       "<text text-anchor=\"middle\" x=\"126\" y=\"-173.404\" font-family=\"Times,serif\" font-size=\"14.00\">a, # ; cc# </text>\n",
       "<text text-anchor=\"middle\" x=\"126\" y=\"-159.404\" font-family=\"Times,serif\" font-size=\"14.00\"> b, c ; &#39;&#39; </text>\n",
       "<text text-anchor=\"middle\" x=\"126\" y=\"-145.404\" font-family=\"Times,serif\" font-size=\"14.00\"> b, # ; b# </text>\n",
       "<text text-anchor=\"middle\" x=\"126\" y=\"-131.404\" font-family=\"Times,serif\" font-size=\"14.00\"> a, c ; ccc </text>\n",
       "<text text-anchor=\"middle\" x=\"126\" y=\"-117.404\" font-family=\"Times,serif\" font-size=\"14.00\"> b, b ; bb</text>\n",
       "</g>\n",
       "<!-- Faccept -->\n",
       "<g id=\"node4\" class=\"node\"><title>Faccept</title>\n",
       "<ellipse fill=\"none\" stroke=\"black\" cx=\"288.753\" cy=\"-41.6045\" rx=\"37.6991\" ry=\"37.6991\"/>\n",
       "<ellipse fill=\"none\" stroke=\"black\" cx=\"288.753\" cy=\"-41.6045\" rx=\"41.7092\" ry=\"41.7092\"/>\n",
       "<text text-anchor=\"middle\" x=\"288.753\" y=\"-37.4045\" font-family=\"Times,serif\" font-size=\"14.00\">Faccept</text>\n",
       "</g>\n",
       "<!-- I&#45;&gt;Faccept -->\n",
       "<g id=\"edge2\" class=\"edge\"><title>I&#45;&gt;Faccept</title>\n",
       "<path fill=\"none\" stroke=\"black\" d=\"M139.91,-66.3522C149.765,-57.8823 164.139,-47.3218 179,-42.6045 197.449,-36.7481 218.562,-35.4218 237.247,-35.9365\"/>\n",
       "<polygon fill=\"black\" stroke=\"black\" points=\"237.197,-39.4377 247.345,-36.3947 237.514,-32.4449 237.197,-39.4377\"/>\n",
       "<text text-anchor=\"middle\" x=\"204.074\" y=\"-45.4045\" font-family=\"Times,serif\" font-size=\"14.00\">&#39;&#39;, # ; &#39;&#39;</text>\n",
       "</g>\n",
       "</g>\n",
       "</svg>\n"
      ],
      "text/plain": [
       "<graphviz.dot.Digraph at 0x10baf7278>"
      ]
     },
     "execution_count": 12,
     "metadata": {},
     "output_type": "execute_result"
    }
   ],
   "source": [
    "dotObj_pda(a1b2_f, FuseEdges=True)"
   ]
  },
  {
   "cell_type": "code",
   "execution_count": 20,
   "metadata": {
    "run_control": {
     "frozen": false,
     "read_only": false
    }
   },
   "outputs": [
    {
     "name": "stdout",
     "output_type": "stream",
     "text": [
      "String aabbbbbabbba accepted by your PDA in 1 ways :-) \n",
      "Here are the ways: \n",
      "Final state  ('Faccept', '', '')\n",
      "Reached as follows:\n",
      "->  ('I', 'aabbbbbabbba', '#')\n",
      "->  ('I', 'abbbbbabbba', 'cc#')\n",
      "->  ('I', 'bbbbbabbba', 'cccc#')\n",
      "->  ('I', 'bbbbabbba', 'ccc#')\n",
      "->  ('I', 'bbbabbba', 'cc#')\n",
      "->  ('I', 'bbabbba', 'c#')\n",
      "->  ('I', 'babbba', '#')\n",
      "->  ('I', 'abbba', 'b#')\n",
      "->  ('Try', 'bbba', '#')\n",
      "->  ('I', 'bbba', 'c#')\n",
      "->  ('I', 'bba', '#')\n",
      "->  ('I', 'ba', 'b#')\n",
      "->  ('I', 'a', 'bb#')\n",
      "->  ('Try', '', 'b#')\n",
      "->  ('I', '', '#')\n",
      "->  ('Faccept', '', '') .\n"
     ]
    }
   ],
   "source": [
    "explore_pda(\"aabbbbbabbba\", a1b2_f)"
   ]
  },
  {
   "cell_type": "code",
   "execution_count": 13,
   "metadata": {
    "run_control": {
     "frozen": false,
     "read_only": false
    }
   },
   "outputs": [
    {
     "name": "stdout",
     "output_type": "stream",
     "text": [
      "String abbaababbbabbbbbba accepted by your PDA in 1 ways :-) \n",
      "Here are the ways: \n",
      "Final state  ('Faccept', '', '')\n",
      "Reached as follows:\n",
      "->  ('I', 'abbaababbbabbbbbba', '#')\n",
      "->  ('I', 'bbaababbbabbbbbba', 'cc#')\n",
      "->  ('I', 'baababbbabbbbbba', 'c#')\n",
      "->  ('I', 'aababbbabbbbbba', '#')\n",
      "->  ('I', 'ababbbabbbbbba', 'cc#')\n",
      "->  ('I', 'babbbabbbbbba', 'cccc#')\n",
      "->  ('I', 'abbbabbbbbba', 'ccc#')\n",
      "->  ('I', 'bbbabbbbbba', 'ccccc#')\n",
      "->  ('I', 'bbabbbbbba', 'cccc#')\n",
      "->  ('I', 'babbbbbba', 'ccc#')\n",
      "->  ('I', 'abbbbbba', 'cc#')\n",
      "->  ('I', 'bbbbbba', 'cccc#')\n",
      "->  ('I', 'bbbbba', 'ccc#')\n",
      "->  ('I', 'bbbba', 'cc#')\n",
      "->  ('I', 'bbba', 'c#')\n",
      "->  ('I', 'bba', '#')\n",
      "->  ('I', 'ba', 'b#')\n",
      "->  ('I', 'a', 'bb#')\n",
      "->  ('Try', '', 'b#')\n",
      "->  ('I', '', '#')\n",
      "->  ('Faccept', '', '') .\n"
     ]
    }
   ],
   "source": [
    "explore_pda(\"abbaababbbabbbbbba\", a1b2_f) # Default is accept_f"
   ]
  },
  {
   "cell_type": "code",
   "execution_count": 14,
   "metadata": {
    "run_control": {
     "frozen": false,
     "read_only": false
    }
   },
   "outputs": [
    {
     "name": "stdout",
     "output_type": "stream",
     "text": [
      "String babaababbbaabbbbbb accepted by your PDA in 1 ways :-) \n",
      "Here are the ways: \n",
      "Final state  ('Faccept', '', '')\n",
      "Reached as follows:\n",
      "->  ('I', 'babaababbbaabbbbbb', '#')\n",
      "->  ('I', 'abaababbbaabbbbbb', 'b#')\n",
      "->  ('Try', 'baababbbaabbbbbb', '#')\n",
      "->  ('I', 'baababbbaabbbbbb', 'c#')\n",
      "->  ('I', 'aababbbaabbbbbb', '#')\n",
      "->  ('I', 'ababbbaabbbbbb', 'cc#')\n",
      "->  ('I', 'babbbaabbbbbb', 'cccc#')\n",
      "->  ('I', 'abbbaabbbbbb', 'ccc#')\n",
      "->  ('I', 'bbbaabbbbbb', 'ccccc#')\n",
      "->  ('I', 'bbaabbbbbb', 'cccc#')\n",
      "->  ('I', 'baabbbbbb', 'ccc#')\n",
      "->  ('I', 'aabbbbbb', 'cc#')\n",
      "->  ('I', 'abbbbbb', 'cccc#')\n",
      "->  ('I', 'bbbbbb', 'cccccc#')\n",
      "->  ('I', 'bbbbb', 'ccccc#')\n",
      "->  ('I', 'bbbb', 'cccc#')\n",
      "->  ('I', 'bbb', 'ccc#')\n",
      "->  ('I', 'bb', 'cc#')\n",
      "->  ('I', 'b', 'c#')\n",
      "->  ('I', '', '#')\n",
      "->  ('Faccept', '', '') .\n"
     ]
    }
   ],
   "source": [
    "explore_pda(\"babaababbbaabbbbbb\", a1b2_f, acceptance='ACCEPT_F') # default acceptance"
   ]
  },
  {
   "cell_type": "code",
   "execution_count": 15,
   "metadata": {
    "run_control": {
     "frozen": false,
     "read_only": false
    }
   },
   "outputs": [
    {
     "name": "stdout",
     "output_type": "stream",
     "text": [
      "String bbaabbbabaabbabbbb accepted by your PDA in 1 ways :-) \n",
      "Here are the ways: \n",
      "Final state  ('Faccept', '', '')\n",
      "Reached as follows:\n",
      "->  ('I', 'bbaabbbabaabbabbbb', '#')\n",
      "->  ('I', 'baabbbabaabbabbbb', 'b#')\n",
      "->  ('I', 'aabbbabaabbabbbb', 'bb#')\n",
      "->  ('Try', 'abbbabaabbabbbb', 'b#')\n",
      "->  ('I', 'abbbabaabbabbbb', '#')\n",
      "->  ('I', 'bbbabaabbabbbb', 'cc#')\n",
      "->  ('I', 'bbabaabbabbbb', 'c#')\n",
      "->  ('I', 'babaabbabbbb', '#')\n",
      "->  ('I', 'abaabbabbbb', 'b#')\n",
      "->  ('Try', 'baabbabbbb', '#')\n",
      "->  ('I', 'baabbabbbb', 'c#')\n",
      "->  ('I', 'aabbabbbb', '#')\n",
      "->  ('I', 'abbabbbb', 'cc#')\n",
      "->  ('I', 'bbabbbb', 'cccc#')\n",
      "->  ('I', 'babbbb', 'ccc#')\n",
      "->  ('I', 'abbbb', 'cc#')\n",
      "->  ('I', 'bbbb', 'cccc#')\n",
      "->  ('I', 'bbb', 'ccc#')\n",
      "->  ('I', 'bb', 'cc#')\n",
      "->  ('I', 'b', 'c#')\n",
      "->  ('I', '', '#')\n",
      "->  ('Faccept', '', '') .\n"
     ]
    }
   ],
   "source": [
    "explore_pda(\"bbaabbbabaabbabbbb\", a1b2_f, STKMAX=2)"
   ]
  },
  {
   "cell_type": "code",
   "execution_count": 16,
   "metadata": {
    "run_control": {
     "frozen": false,
     "read_only": false
    }
   },
   "outputs": [
    {
     "name": "stderr",
     "output_type": "stream",
     "text": [
      "Generating LALR tables\n"
     ]
    },
    {
     "data": {
      "image/svg+xml": [
       "<?xml version=\"1.0\" encoding=\"UTF-8\" standalone=\"no\"?>\n",
       "<!DOCTYPE svg PUBLIC \"-//W3C//DTD SVG 1.1//EN\"\n",
       " \"http://www.w3.org/Graphics/SVG/1.1/DTD/svg11.dtd\">\n",
       "<!-- Generated by graphviz version 2.38.0 (20140413.2041)\n",
       " -->\n",
       "<!-- Title: %3 Pages: 1 -->\n",
       "<svg width=\"258pt\" height=\"94pt\"\n",
       " viewBox=\"0.00 0.00 258.23 94.00\" xmlns=\"http://www.w3.org/2000/svg\" xmlns:xlink=\"http://www.w3.org/1999/xlink\">\n",
       "<g id=\"graph0\" class=\"graph\" transform=\"scale(1 1) rotate(0) translate(4 90)\">\n",
       "<title>%3</title>\n",
       "<polygon fill=\"white\" stroke=\"none\" points=\"-4,4 -4,-90 254.233,-90 254.233,4 -4,4\"/>\n",
       "<!-- EMPTY -->\n",
       "<g id=\"node1\" class=\"node\"><title>EMPTY</title>\n",
       "</g>\n",
       "<!-- IF -->\n",
       "<g id=\"node3\" class=\"node\"><title>IF</title>\n",
       "<ellipse fill=\"none\" stroke=\"black\" cx=\"113\" cy=\"-22\" rx=\"18\" ry=\"18\"/>\n",
       "<ellipse fill=\"none\" stroke=\"black\" cx=\"113\" cy=\"-22\" rx=\"22\" ry=\"22\"/>\n",
       "<text text-anchor=\"middle\" x=\"113\" y=\"-17.8\" font-family=\"Times,serif\" font-size=\"14.00\">IF</text>\n",
       "</g>\n",
       "<!-- EMPTY&#45;&gt;IF -->\n",
       "<g id=\"edge1\" class=\"edge\"><title>EMPTY&#45;&gt;IF</title>\n",
       "<path fill=\"none\" stroke=\"black\" d=\"M54.1177,-22C62.5406,-22 71.9629,-22 80.7191,-22\"/>\n",
       "<polygon fill=\"black\" stroke=\"black\" points=\"80.9574,-25.5001 90.9574,-22 80.9573,-18.5001 80.9574,-25.5001\"/>\n",
       "</g>\n",
       "<!-- A -->\n",
       "<g id=\"node2\" class=\"node\"><title>A</title>\n",
       "<ellipse fill=\"none\" stroke=\"black\" cx=\"230.214\" cy=\"-22\" rx=\"18\" ry=\"18\"/>\n",
       "<text text-anchor=\"middle\" x=\"230.214\" y=\"-17.8\" font-family=\"Times,serif\" font-size=\"14.00\">A</text>\n",
       "</g>\n",
       "<!-- A&#45;&gt;A -->\n",
       "<g id=\"edge3\" class=\"edge\"><title>A&#45;&gt;A</title>\n",
       "<path fill=\"none\" stroke=\"black\" d=\"M220.639,-37.5414C217.944,-47.9087 221.136,-58 230.214,-58 236.171,-58 239.594,-53.654 240.481,-47.7362\"/>\n",
       "<polygon fill=\"black\" stroke=\"black\" points=\"243.958,-47.2812 239.788,-37.5414 236.974,-47.7557 243.958,-47.2812\"/>\n",
       "<text text-anchor=\"middle\" x=\"230.214\" y=\"-74.8\" font-family=\"Times,serif\" font-size=\"14.00\">), ( ; &#39;&#39; </text>\n",
       "<text text-anchor=\"middle\" x=\"230.214\" y=\"-60.8\" font-family=\"Times,serif\" font-size=\"14.00\"> (, ( ; ((</text>\n",
       "</g>\n",
       "<!-- A&#45;&gt;IF -->\n",
       "<g id=\"edge4\" class=\"edge\"><title>A&#45;&gt;IF</title>\n",
       "<path fill=\"none\" stroke=\"black\" d=\"M214.497,-12.4577C208.464,-9.08304 201.253,-5.70409 194.214,-4 176.411,0.309666 170.891,-0.0705152 153,-4 149.285,-4.81587 145.503,-6.02105 141.827,-7.42805\"/>\n",
       "<polygon fill=\"black\" stroke=\"black\" points=\"140.243,-4.30009 132.466,-11.495 143.033,-10.7204 140.243,-4.30009\"/>\n",
       "<text text-anchor=\"middle\" x=\"173.607\" y=\"-6.8\" font-family=\"Times,serif\" font-size=\"14.00\">&#39;&#39;, # ; #</text>\n",
       "</g>\n",
       "<!-- IF&#45;&gt;A -->\n",
       "<g id=\"edge2\" class=\"edge\"><title>IF&#45;&gt;A</title>\n",
       "<path fill=\"none\" stroke=\"black\" d=\"M135.132,-22C153.855,-22 181.31,-22 201.734,-22\"/>\n",
       "<polygon fill=\"black\" stroke=\"black\" points=\"201.973,-25.5001 211.973,-22 201.973,-18.5001 201.973,-25.5001\"/>\n",
       "<text text-anchor=\"middle\" x=\"173.607\" y=\"-24.8\" font-family=\"Times,serif\" font-size=\"14.00\">(, # ; (#</text>\n",
       "</g>\n",
       "</g>\n",
       "</svg>\n"
      ],
      "text/plain": [
       "<graphviz.dot.Digraph at 0x111d74e48>"
      ]
     },
     "execution_count": 16,
     "metadata": {},
     "output_type": "execute_result"
    }
   ],
   "source": [
    "pdaDyck = md2mc('''PDA\n",
    "IF : (, #; (# -> A\n",
    "A  : (, (; (( -> A\n",
    "A  : ), (; '' -> A\n",
    "A  : '',#; #  -> IF\n",
    "''')\n",
    "DOpdaDyck = dotObj_pda(pdaDyck, FuseEdges=True)\n",
    "DOpdaDyck"
   ]
  },
  {
   "cell_type": "code",
   "execution_count": 17,
   "metadata": {
    "run_control": {
     "frozen": false,
     "read_only": false
    }
   },
   "outputs": [
    {
     "name": "stdout",
     "output_type": "stream",
     "text": [
      "String  accepted by your PDA in 1 ways :-) \n",
      "Here are the ways: \n",
      "Final state  ('IF', '', '#')\n",
      "Reached as follows:\n",
      "->  ('IF', '', '#') .\n"
     ]
    }
   ],
   "source": [
    "explore_pda(\"\", pdaDyck)"
   ]
  },
  {
   "cell_type": "code",
   "execution_count": 18,
   "metadata": {
    "run_control": {
     "frozen": false,
     "read_only": false
    }
   },
   "outputs": [
    {
     "name": "stdout",
     "output_type": "stream",
     "text": [
      "String () accepted by your PDA in 1 ways :-) \n",
      "Here are the ways: \n",
      "Final state  ('IF', '', '#')\n",
      "Reached as follows:\n",
      "->  ('IF', '()', '#')\n",
      "->  ('A', ')', '(#')\n",
      "->  ('A', '', '#')\n",
      "->  ('IF', '', '#') .\n"
     ]
    }
   ],
   "source": [
    "explore_pda(\"()\", pdaDyck)"
   ]
  },
  {
   "cell_type": "code",
   "execution_count": 19,
   "metadata": {
    "run_control": {
     "frozen": false,
     "read_only": false
    }
   },
   "outputs": [
    {
     "name": "stdout",
     "output_type": "stream",
     "text": [
      "String ()()(()) accepted by your PDA in 1 ways :-) \n",
      "Here are the ways: \n",
      "Final state  ('IF', '', '#')\n",
      "Reached as follows:\n",
      "->  ('IF', '()()(())', '#')\n",
      "->  ('A', ')()(())', '(#')\n",
      "->  ('A', '()(())', '#')\n",
      "->  ('IF', '()(())', '#')\n",
      "->  ('A', ')(())', '(#')\n",
      "->  ('A', '(())', '#')\n",
      "->  ('IF', '(())', '#')\n",
      "->  ('A', '())', '(#')\n",
      "->  ('A', '))', '((#')\n",
      "->  ('A', ')', '(#')\n",
      "->  ('A', '', '#')\n",
      "->  ('IF', '', '#') .\n"
     ]
    }
   ],
   "source": [
    "explore_pda(\"()()(())\", pdaDyck)"
   ]
  },
  {
   "cell_type": "code",
   "execution_count": 20,
   "metadata": {
    "run_control": {
     "frozen": false,
     "read_only": false
    }
   },
   "outputs": [
    {
     "name": "stdout",
     "output_type": "stream",
     "text": [
      "String ()()(() rejected by your PDA :-(\n",
      "Visited states are:\n",
      "{('A', '()(()', '#'), ('IF', '(()', '#'), ('IF', '()(()', '#'), ('A', ')()(()', '(#'), ('A', ')', '((#'), ('A', '()', '(#'), ('A', '(()', '#'), ('A', ')(()', '(#'), ('IF', '()()(()', '#'), ('A', '', '(#')}\n"
     ]
    }
   ],
   "source": [
    "explore_pda(\"()()(()\", pdaDyck)  "
   ]
  },
  {
   "cell_type": "code",
   "execution_count": 21,
   "metadata": {
    "run_control": {
     "frozen": false,
     "read_only": false
    }
   },
   "outputs": [
    {
     "data": {
      "text/plain": [
       "'// PO_St5\\ndigraph {\\n\\tgraph [rankdir=LR]\\n\\t\\tEMPTY [label=\"\" shape=plaintext]\\n\\t\\tA [label=A peripheries=1 shape=circle]\\n\\t\\tIF [label=IF peripheries=2 shape=circle]\\n\\t\\t\\tEMPTY -> IF\\n\\t\\t\\tIF -> A [label=\"(, # ; (#\"]\\n\\t\\t\\tA -> A [label=\"), ( ; \\'\\' \\n (, ( ; ((\"]\\n\\t\\t\\tA -> IF [label=\"\\'\\', # ; #\"]\\n}'"
      ]
     },
     "execution_count": 21,
     "metadata": {},
     "output_type": "execute_result"
    }
   ],
   "source": [
    "DOpdaDyck.source"
   ]
  },
  {
   "cell_type": "code",
   "execution_count": 22,
   "metadata": {
    "run_control": {
     "frozen": false,
     "read_only": false
    }
   },
   "outputs": [
    {
     "name": "stderr",
     "output_type": "stream",
     "text": [
      "Generating LALR tables\n"
     ]
    },
    {
     "data": {
      "image/svg+xml": [
       "<?xml version=\"1.0\" encoding=\"UTF-8\" standalone=\"no\"?>\n",
       "<!DOCTYPE svg PUBLIC \"-//W3C//DTD SVG 1.1//EN\"\n",
       " \"http://www.w3.org/Graphics/SVG/1.1/DTD/svg11.dtd\">\n",
       "<!-- Generated by graphviz version 2.38.0 (20140413.2041)\n",
       " -->\n",
       "<!-- Title: %3 Pages: 1 -->\n",
       "<svg width=\"252pt\" height=\"52pt\"\n",
       " viewBox=\"0.00 0.00 252.32 52.00\" xmlns=\"http://www.w3.org/2000/svg\" xmlns:xlink=\"http://www.w3.org/1999/xlink\">\n",
       "<g id=\"graph0\" class=\"graph\" transform=\"scale(1 1) rotate(0) translate(4 48)\">\n",
       "<title>%3</title>\n",
       "<polygon fill=\"white\" stroke=\"none\" points=\"-4,4 -4,-48 248.317,-48 248.317,4 -4,4\"/>\n",
       "<!-- EMPTY -->\n",
       "<g id=\"node1\" class=\"node\"><title>EMPTY</title>\n",
       "</g>\n",
       "<!-- I -->\n",
       "<g id=\"node2\" class=\"node\"><title>I</title>\n",
       "<ellipse fill=\"none\" stroke=\"black\" cx=\"109\" cy=\"-22\" rx=\"18\" ry=\"18\"/>\n",
       "<text text-anchor=\"middle\" x=\"109\" y=\"-17.8\" font-family=\"Times,serif\" font-size=\"14.00\">I</text>\n",
       "</g>\n",
       "<!-- EMPTY&#45;&gt;I -->\n",
       "<g id=\"edge1\" class=\"edge\"><title>EMPTY&#45;&gt;I</title>\n",
       "<path fill=\"none\" stroke=\"black\" d=\"M54.195,-22C62.6538,-22 72.0513,-22 80.5951,-22\"/>\n",
       "<polygon fill=\"black\" stroke=\"black\" points=\"80.8257,-25.5001 90.8257,-22 80.8257,-18.5001 80.8257,-25.5001\"/>\n",
       "</g>\n",
       "<!-- F -->\n",
       "<g id=\"node3\" class=\"node\"><title>F</title>\n",
       "<ellipse fill=\"none\" stroke=\"black\" cx=\"222.317\" cy=\"-22\" rx=\"18\" ry=\"18\"/>\n",
       "<ellipse fill=\"none\" stroke=\"black\" cx=\"222.317\" cy=\"-22\" rx=\"22\" ry=\"22\"/>\n",
       "<text text-anchor=\"middle\" x=\"222.317\" y=\"-17.8\" font-family=\"Times,serif\" font-size=\"14.00\">F</text>\n",
       "</g>\n",
       "<!-- I&#45;&gt;F -->\n",
       "<g id=\"edge2\" class=\"edge\"><title>I&#45;&gt;F</title>\n",
       "<path fill=\"none\" stroke=\"black\" d=\"M127.393,-22C144.16,-22 169.907,-22 190.206,-22\"/>\n",
       "<polygon fill=\"black\" stroke=\"black\" points=\"190.249,-25.5001 200.249,-22 190.249,-18.5001 190.249,-25.5001\"/>\n",
       "<text text-anchor=\"middle\" x=\"163.659\" y=\"-24.8\" font-family=\"Times,serif\" font-size=\"14.00\">a, b ; c</text>\n",
       "</g>\n",
       "</g>\n",
       "</svg>\n"
      ],
      "text/plain": [
       "<graphviz.dot.Digraph at 0x111d914e0>"
      ]
     },
     "execution_count": 22,
     "metadata": {},
     "output_type": "execute_result"
    }
   ],
   "source": [
    "pda1 = md2mc('''PDA\n",
    "I : a, b; c -> F\n",
    "''')\n",
    "DOpda1 = dotObj_pda(pda1, FuseEdges=True)\n",
    "DOpda1"
   ]
  },
  {
   "cell_type": "code",
   "execution_count": 23,
   "metadata": {
    "run_control": {
     "frozen": false,
     "read_only": false
    }
   },
   "outputs": [
    {
     "data": {
      "text/plain": [
       "'// PO_St6\\ndigraph {\\n\\tgraph [rankdir=LR]\\n\\t\\tEMPTY [label=\"\" shape=plaintext]\\n\\t\\tI [label=I peripheries=1 shape=circle]\\n\\t\\tF [label=F peripheries=2 shape=circle]\\n\\t\\t\\tEMPTY -> I\\n\\t\\t\\tI -> F [label=\"a, b ; c\"]\\n}'"
      ]
     },
     "execution_count": 23,
     "metadata": {},
     "output_type": "execute_result"
    }
   ],
   "source": [
    "DOpda1.source"
   ]
  },
  {
   "cell_type": "code",
   "execution_count": 24,
   "metadata": {
    "run_control": {
     "frozen": false,
     "read_only": false
    }
   },
   "outputs": [
    {
     "name": "stderr",
     "output_type": "stream",
     "text": [
      "Generating LALR tables\n"
     ]
    },
    {
     "data": {
      "image/svg+xml": [
       "<?xml version=\"1.0\" encoding=\"UTF-8\" standalone=\"no\"?>\n",
       "<!DOCTYPE svg PUBLIC \"-//W3C//DTD SVG 1.1//EN\"\n",
       " \"http://www.w3.org/Graphics/SVG/1.1/DTD/svg11.dtd\">\n",
       "<!-- Generated by graphviz version 2.38.0 (20140413.2041)\n",
       " -->\n",
       "<!-- Title: %3 Pages: 1 -->\n",
       "<svg width=\"358pt\" height=\"78pt\"\n",
       " viewBox=\"0.00 0.00 358.28 78.00\" xmlns=\"http://www.w3.org/2000/svg\" xmlns:xlink=\"http://www.w3.org/1999/xlink\">\n",
       "<g id=\"graph0\" class=\"graph\" transform=\"scale(1 1) rotate(0) translate(4 74)\">\n",
       "<title>%3</title>\n",
       "<polygon fill=\"white\" stroke=\"none\" points=\"-4,4 -4,-74 354.276,-74 354.276,4 -4,4\"/>\n",
       "<!-- EMPTY -->\n",
       "<g id=\"node1\" class=\"node\"><title>EMPTY</title>\n",
       "</g>\n",
       "<!-- I -->\n",
       "<g id=\"node3\" class=\"node\"><title>I</title>\n",
       "<ellipse fill=\"none\" stroke=\"black\" cx=\"109\" cy=\"-22\" rx=\"18\" ry=\"18\"/>\n",
       "<text text-anchor=\"middle\" x=\"109\" y=\"-17.8\" font-family=\"Times,serif\" font-size=\"14.00\">I</text>\n",
       "</g>\n",
       "<!-- EMPTY&#45;&gt;I -->\n",
       "<g id=\"edge1\" class=\"edge\"><title>EMPTY&#45;&gt;I</title>\n",
       "<path fill=\"none\" stroke=\"black\" d=\"M54.195,-22C62.6538,-22 72.0513,-22 80.5951,-22\"/>\n",
       "<polygon fill=\"black\" stroke=\"black\" points=\"80.8257,-25.5001 90.8257,-22 80.8257,-18.5001 80.8257,-25.5001\"/>\n",
       "</g>\n",
       "<!-- A -->\n",
       "<g id=\"node2\" class=\"node\"><title>A</title>\n",
       "<ellipse fill=\"none\" stroke=\"black\" cx=\"216.638\" cy=\"-52\" rx=\"18\" ry=\"18\"/>\n",
       "<text text-anchor=\"middle\" x=\"216.638\" y=\"-47.8\" font-family=\"Times,serif\" font-size=\"14.00\">A</text>\n",
       "</g>\n",
       "<!-- F -->\n",
       "<g id=\"node4\" class=\"node\"><title>F</title>\n",
       "<ellipse fill=\"none\" stroke=\"black\" cx=\"328.276\" cy=\"-22\" rx=\"18\" ry=\"18\"/>\n",
       "<ellipse fill=\"none\" stroke=\"black\" cx=\"328.276\" cy=\"-22\" rx=\"22\" ry=\"22\"/>\n",
       "<text text-anchor=\"middle\" x=\"328.276\" y=\"-17.8\" font-family=\"Times,serif\" font-size=\"14.00\">F</text>\n",
       "</g>\n",
       "<!-- A&#45;&gt;F -->\n",
       "<g id=\"edge4\" class=\"edge\"><title>A&#45;&gt;F</title>\n",
       "<path fill=\"none\" stroke=\"black\" d=\"M234.29,-47.4436C250.894,-42.9004 276.771,-35.8196 297.016,-30.2801\"/>\n",
       "<polygon fill=\"black\" stroke=\"black\" points=\"298.001,-33.6393 306.723,-27.6241 296.153,-26.8875 298.001,-33.6393\"/>\n",
       "<text text-anchor=\"middle\" x=\"270.787\" y=\"-43.8\" font-family=\"Times,serif\" font-size=\"14.00\">&#39;&#39;, d ; &#39;&#39;</text>\n",
       "</g>\n",
       "<!-- I&#45;&gt;A -->\n",
       "<g id=\"edge3\" class=\"edge\"><title>I&#45;&gt;A</title>\n",
       "<path fill=\"none\" stroke=\"black\" d=\"M126.506,-26.6875C143.328,-31.4649 169.676,-38.9472 189.369,-44.5398\"/>\n",
       "<polygon fill=\"black\" stroke=\"black\" points=\"188.672,-47.9804 199.248,-47.3454 190.585,-41.2466 188.672,-47.9804\"/>\n",
       "<text text-anchor=\"middle\" x=\"162.49\" y=\"-43.8\" font-family=\"Times,serif\" font-size=\"14.00\">&#39;&#39;, &#39;&#39; ; d</text>\n",
       "</g>\n",
       "<!-- I&#45;&gt;F -->\n",
       "<g id=\"edge2\" class=\"edge\"><title>I&#45;&gt;F</title>\n",
       "<path fill=\"none\" stroke=\"black\" d=\"M126.808,-19.2668C144.47,-16.5432 173.091,-12.5499 197.979,-11 231.575,-8.90793 269.999,-13.005 296.171,-16.7794\"/>\n",
       "<polygon fill=\"black\" stroke=\"black\" points=\"295.835,-20.2683 306.246,-18.304 296.883,-13.3471 295.835,-20.2683\"/>\n",
       "<text text-anchor=\"middle\" x=\"216.638\" y=\"-13.8\" font-family=\"Times,serif\" font-size=\"14.00\">a, b ; c</text>\n",
       "</g>\n",
       "</g>\n",
       "</svg>\n"
      ],
      "text/plain": [
       "<graphviz.dot.Digraph at 0x111d8c668>"
      ]
     },
     "execution_count": 24,
     "metadata": {},
     "output_type": "execute_result"
    }
   ],
   "source": [
    "pda2 = md2mc('''PDA\n",
    "I : a, b  ; c  -> F\n",
    "I : '', ''; d  -> A\n",
    "A : '', d ; '' -> F\n",
    "''')\n",
    "DOpda2 = dotObj_pda(pda2, FuseEdges=True)\n",
    "DOpda2"
   ]
  },
  {
   "cell_type": "code",
   "execution_count": 25,
   "metadata": {
    "run_control": {
     "frozen": false,
     "read_only": false
    }
   },
   "outputs": [
    {
     "data": {
      "text/plain": [
       "'// PO_St7\\ndigraph {\\n\\tgraph [rankdir=LR]\\n\\t\\tEMPTY [label=\"\" shape=plaintext]\\n\\t\\tA [label=A peripheries=1 shape=circle]\\n\\t\\tI [label=I peripheries=1 shape=circle]\\n\\t\\tF [label=F peripheries=2 shape=circle]\\n\\t\\t\\tEMPTY -> I\\n\\t\\t\\tI -> F [label=\"a, b ; c\"]\\n\\t\\t\\tI -> A [label=\"\\'\\', \\'\\' ; d\"]\\n\\t\\t\\tA -> F [label=\"\\'\\', d ; \\'\\'\"]\\n}'"
      ]
     },
     "execution_count": 25,
     "metadata": {},
     "output_type": "execute_result"
    }
   ],
   "source": [
    "DOpda2.source"
   ]
  },
  {
   "cell_type": "code",
   "execution_count": 26,
   "metadata": {
    "run_control": {
     "frozen": false,
     "read_only": false
    }
   },
   "outputs": [
    {
     "name": "stdout",
     "output_type": "stream",
     "text": [
      "String a rejected by your PDA :-(\n",
      "Visited states are:\n",
      "{('I', 'a', '#')}\n"
     ]
    }
   ],
   "source": [
    "explore_pda(\"a\", pda1)"
   ]
  },
  {
   "cell_type": "code",
   "execution_count": 27,
   "metadata": {
    "run_control": {
     "frozen": false,
     "read_only": false
    }
   },
   "outputs": [
    {
     "name": "stdout",
     "output_type": "stream",
     "text": [
      "String a rejected by your PDA :-(\n",
      "Visited states are:\n",
      "{('I', 'a', '#'), ('F', 'a', '#'), ('A', 'a', 'd#')}\n"
     ]
    }
   ],
   "source": [
    "explore_pda(\"a\", pda2)"
   ]
  },
  {
   "cell_type": "code",
   "execution_count": 28,
   "metadata": {
    "run_control": {
     "frozen": false,
     "read_only": false
    }
   },
   "outputs": [
    {
     "name": "stderr",
     "output_type": "stream",
     "text": [
      "Generating LALR tables\n"
     ]
    },
    {
     "data": {
      "image/svg+xml": [
       "<?xml version=\"1.0\" encoding=\"UTF-8\" standalone=\"no\"?>\n",
       "<!DOCTYPE svg PUBLIC \"-//W3C//DTD SVG 1.1//EN\"\n",
       " \"http://www.w3.org/Graphics/SVG/1.1/DTD/svg11.dtd\">\n",
       "<!-- Generated by graphviz version 2.38.0 (20140413.2041)\n",
       " -->\n",
       "<!-- Title: %3 Pages: 1 -->\n",
       "<svg width=\"359pt\" height=\"78pt\"\n",
       " viewBox=\"0.00 0.00 359.45 78.00\" xmlns=\"http://www.w3.org/2000/svg\" xmlns:xlink=\"http://www.w3.org/1999/xlink\">\n",
       "<g id=\"graph0\" class=\"graph\" transform=\"scale(1 1) rotate(0) translate(4 74)\">\n",
       "<title>%3</title>\n",
       "<polygon fill=\"white\" stroke=\"none\" points=\"-4,4 -4,-74 355.445,-74 355.445,4 -4,4\"/>\n",
       "<!-- EMPTY -->\n",
       "<g id=\"node1\" class=\"node\"><title>EMPTY</title>\n",
       "</g>\n",
       "<!-- I -->\n",
       "<g id=\"node3\" class=\"node\"><title>I</title>\n",
       "<ellipse fill=\"none\" stroke=\"black\" cx=\"109\" cy=\"-22\" rx=\"18\" ry=\"18\"/>\n",
       "<text text-anchor=\"middle\" x=\"109\" y=\"-17.8\" font-family=\"Times,serif\" font-size=\"14.00\">I</text>\n",
       "</g>\n",
       "<!-- EMPTY&#45;&gt;I -->\n",
       "<g id=\"edge1\" class=\"edge\"><title>EMPTY&#45;&gt;I</title>\n",
       "<path fill=\"none\" stroke=\"black\" d=\"M54.195,-22C62.6538,-22 72.0513,-22 80.5951,-22\"/>\n",
       "<polygon fill=\"black\" stroke=\"black\" points=\"80.8257,-25.5001 90.8257,-22 80.8257,-18.5001 80.8257,-25.5001\"/>\n",
       "</g>\n",
       "<!-- A -->\n",
       "<g id=\"node2\" class=\"node\"><title>A</title>\n",
       "<ellipse fill=\"none\" stroke=\"black\" cx=\"216.638\" cy=\"-52\" rx=\"18\" ry=\"18\"/>\n",
       "<text text-anchor=\"middle\" x=\"216.638\" y=\"-47.8\" font-family=\"Times,serif\" font-size=\"14.00\">A</text>\n",
       "</g>\n",
       "<!-- F -->\n",
       "<g id=\"node4\" class=\"node\"><title>F</title>\n",
       "<ellipse fill=\"none\" stroke=\"black\" cx=\"329.445\" cy=\"-22\" rx=\"18\" ry=\"18\"/>\n",
       "<ellipse fill=\"none\" stroke=\"black\" cx=\"329.445\" cy=\"-22\" rx=\"22\" ry=\"22\"/>\n",
       "<text text-anchor=\"middle\" x=\"329.445\" y=\"-17.8\" font-family=\"Times,serif\" font-size=\"14.00\">F</text>\n",
       "</g>\n",
       "<!-- A&#45;&gt;F -->\n",
       "<g id=\"edge4\" class=\"edge\"><title>A&#45;&gt;F</title>\n",
       "<path fill=\"none\" stroke=\"black\" d=\"M234.467,-47.4436C251.352,-42.8724 277.725,-35.7321 298.24,-30.1777\"/>\n",
       "<polygon fill=\"black\" stroke=\"black\" points=\"299.325,-33.5101 308.063,-27.5183 297.496,-26.7533 299.325,-33.5101\"/>\n",
       "<text text-anchor=\"middle\" x=\"271.371\" y=\"-44.8\" font-family=\"Times,serif\" font-size=\"14.00\">a, d ; &#39;&#39;</text>\n",
       "</g>\n",
       "<!-- I&#45;&gt;A -->\n",
       "<g id=\"edge3\" class=\"edge\"><title>I&#45;&gt;A</title>\n",
       "<path fill=\"none\" stroke=\"black\" d=\"M126.506,-26.6875C143.328,-31.4649 169.676,-38.9472 189.369,-44.5398\"/>\n",
       "<polygon fill=\"black\" stroke=\"black\" points=\"188.672,-47.9804 199.248,-47.3454 190.585,-41.2466 188.672,-47.9804\"/>\n",
       "<text text-anchor=\"middle\" x=\"162.49\" y=\"-43.8\" font-family=\"Times,serif\" font-size=\"14.00\">&#39;&#39;, &#39;&#39; ; d</text>\n",
       "</g>\n",
       "<!-- I&#45;&gt;F -->\n",
       "<g id=\"edge2\" class=\"edge\"><title>I&#45;&gt;F</title>\n",
       "<path fill=\"none\" stroke=\"black\" d=\"M126.808,-19.2668C144.47,-16.5432 173.091,-12.5499 197.979,-11 232.076,-8.87673 271.105,-13.0378 297.522,-16.8363\"/>\n",
       "<polygon fill=\"black\" stroke=\"black\" points=\"297.267,-20.3373 307.678,-18.3682 298.312,-13.4156 297.267,-20.3373\"/>\n",
       "<text text-anchor=\"middle\" x=\"216.638\" y=\"-13.8\" font-family=\"Times,serif\" font-size=\"14.00\">a, b ; c</text>\n",
       "</g>\n",
       "</g>\n",
       "</svg>\n"
      ],
      "text/plain": [
       "<graphviz.dot.Digraph at 0x111da4128>"
      ]
     },
     "execution_count": 28,
     "metadata": {},
     "output_type": "execute_result"
    }
   ],
   "source": [
    "pda3 = md2mc('''PDA\n",
    "I : a, b  ; c  -> F\n",
    "I : '', ''; d  -> A\n",
    "A : a, d ; '' -> F\n",
    "''')\n",
    "DOpda3 = dotObj_pda(pda3, FuseEdges=True)\n",
    "DOpda3"
   ]
  },
  {
   "cell_type": "code",
   "execution_count": 29,
   "metadata": {
    "run_control": {
     "frozen": false,
     "read_only": false
    }
   },
   "outputs": [
    {
     "data": {
      "text/plain": [
       "'// PO_St8\\ndigraph {\\n\\tgraph [rankdir=LR]\\n\\t\\tEMPTY [label=\"\" shape=plaintext]\\n\\t\\tA [label=A peripheries=1 shape=circle]\\n\\t\\tI [label=I peripheries=1 shape=circle]\\n\\t\\tF [label=F peripheries=2 shape=circle]\\n\\t\\t\\tEMPTY -> I\\n\\t\\t\\tI -> F [label=\"a, b ; c\"]\\n\\t\\t\\tI -> A [label=\"\\'\\', \\'\\' ; d\"]\\n\\t\\t\\tA -> F [label=\"a, d ; \\'\\'\"]\\n}'"
      ]
     },
     "execution_count": 29,
     "metadata": {},
     "output_type": "execute_result"
    }
   ],
   "source": [
    "DOpda3.source"
   ]
  },
  {
   "cell_type": "code",
   "execution_count": 30,
   "metadata": {
    "run_control": {
     "frozen": false,
     "read_only": false
    }
   },
   "outputs": [
    {
     "name": "stdout",
     "output_type": "stream",
     "text": [
      "String a accepted by your PDA in 1 ways :-) \n",
      "Here are the ways: \n",
      "Final state  ('F', '', '#')\n",
      "Reached as follows:\n",
      "->  ('I', 'a', '#')\n",
      "->  ('A', 'a', 'd#')\n",
      "->  ('F', '', '#') .\n"
     ]
    }
   ],
   "source": [
    "explore_pda(\"a\", pda3)"
   ]
  },
  {
   "cell_type": "code",
   "execution_count": 31,
   "metadata": {
    "run_control": {
     "frozen": false,
     "read_only": false
    }
   },
   "outputs": [
    {
     "name": "stderr",
     "output_type": "stream",
     "text": [
      "Generating LALR tables\n"
     ]
    },
    {
     "data": {
      "image/svg+xml": [
       "<?xml version=\"1.0\" encoding=\"UTF-8\" standalone=\"no\"?>\n",
       "<!DOCTYPE svg PUBLIC \"-//W3C//DTD SVG 1.1//EN\"\n",
       " \"http://www.w3.org/Graphics/SVG/1.1/DTD/svg11.dtd\">\n",
       "<!-- Generated by graphviz version 2.38.0 (20140413.2041)\n",
       " -->\n",
       "<!-- Title: %3 Pages: 1 -->\n",
       "<svg width=\"359pt\" height=\"78pt\"\n",
       " viewBox=\"0.00 0.00 359.45 78.00\" xmlns=\"http://www.w3.org/2000/svg\" xmlns:xlink=\"http://www.w3.org/1999/xlink\">\n",
       "<g id=\"graph0\" class=\"graph\" transform=\"scale(1 1) rotate(0) translate(4 74)\">\n",
       "<title>%3</title>\n",
       "<polygon fill=\"white\" stroke=\"none\" points=\"-4,4 -4,-74 355.445,-74 355.445,4 -4,4\"/>\n",
       "<!-- EMPTY -->\n",
       "<g id=\"node1\" class=\"node\"><title>EMPTY</title>\n",
       "</g>\n",
       "<!-- I -->\n",
       "<g id=\"node3\" class=\"node\"><title>I</title>\n",
       "<ellipse fill=\"none\" stroke=\"black\" cx=\"109\" cy=\"-22\" rx=\"18\" ry=\"18\"/>\n",
       "<text text-anchor=\"middle\" x=\"109\" y=\"-17.8\" font-family=\"Times,serif\" font-size=\"14.00\">I</text>\n",
       "</g>\n",
       "<!-- EMPTY&#45;&gt;I -->\n",
       "<g id=\"edge1\" class=\"edge\"><title>EMPTY&#45;&gt;I</title>\n",
       "<path fill=\"none\" stroke=\"black\" d=\"M54.195,-22C62.6538,-22 72.0513,-22 80.5951,-22\"/>\n",
       "<polygon fill=\"black\" stroke=\"black\" points=\"80.8257,-25.5001 90.8257,-22 80.8257,-18.5001 80.8257,-25.5001\"/>\n",
       "</g>\n",
       "<!-- A -->\n",
       "<g id=\"node2\" class=\"node\"><title>A</title>\n",
       "<ellipse fill=\"none\" stroke=\"black\" cx=\"216.638\" cy=\"-52\" rx=\"18\" ry=\"18\"/>\n",
       "<text text-anchor=\"middle\" x=\"216.638\" y=\"-47.8\" font-family=\"Times,serif\" font-size=\"14.00\">A</text>\n",
       "</g>\n",
       "<!-- F -->\n",
       "<g id=\"node4\" class=\"node\"><title>F</title>\n",
       "<ellipse fill=\"none\" stroke=\"black\" cx=\"329.445\" cy=\"-22\" rx=\"18\" ry=\"18\"/>\n",
       "<ellipse fill=\"none\" stroke=\"black\" cx=\"329.445\" cy=\"-22\" rx=\"22\" ry=\"22\"/>\n",
       "<text text-anchor=\"middle\" x=\"329.445\" y=\"-17.8\" font-family=\"Times,serif\" font-size=\"14.00\">F</text>\n",
       "</g>\n",
       "<!-- A&#45;&gt;F -->\n",
       "<g id=\"edge4\" class=\"edge\"><title>A&#45;&gt;F</title>\n",
       "<path fill=\"none\" stroke=\"black\" d=\"M234.467,-47.4436C251.352,-42.8724 277.725,-35.7321 298.24,-30.1777\"/>\n",
       "<polygon fill=\"black\" stroke=\"black\" points=\"299.325,-33.5101 308.063,-27.5183 297.496,-26.7533 299.325,-33.5101\"/>\n",
       "<text text-anchor=\"middle\" x=\"271.371\" y=\"-44.8\" font-family=\"Times,serif\" font-size=\"14.00\">a, d ; &#39;&#39;</text>\n",
       "</g>\n",
       "<!-- I&#45;&gt;A -->\n",
       "<g id=\"edge3\" class=\"edge\"><title>I&#45;&gt;A</title>\n",
       "<path fill=\"none\" stroke=\"black\" d=\"M126.506,-26.6875C143.328,-31.4649 169.676,-38.9472 189.369,-44.5398\"/>\n",
       "<polygon fill=\"black\" stroke=\"black\" points=\"188.672,-47.9804 199.248,-47.3454 190.585,-41.2466 188.672,-47.9804\"/>\n",
       "<text text-anchor=\"middle\" x=\"162.49\" y=\"-43.8\" font-family=\"Times,serif\" font-size=\"14.00\">&#39;&#39;, &#39;&#39; ; d</text>\n",
       "</g>\n",
       "<!-- I&#45;&gt;F -->\n",
       "<g id=\"edge2\" class=\"edge\"><title>I&#45;&gt;F</title>\n",
       "<path fill=\"none\" stroke=\"black\" d=\"M126.808,-19.2668C144.47,-16.5432 173.091,-12.5499 197.979,-11 232.076,-8.87673 271.105,-13.0378 297.522,-16.8363\"/>\n",
       "<polygon fill=\"black\" stroke=\"black\" points=\"297.267,-20.3373 307.678,-18.3682 298.312,-13.4156 297.267,-20.3373\"/>\n",
       "<text text-anchor=\"middle\" x=\"216.638\" y=\"-13.8\" font-family=\"Times,serif\" font-size=\"14.00\">a, # ; c</text>\n",
       "</g>\n",
       "</g>\n",
       "</svg>\n"
      ],
      "text/plain": [
       "<graphviz.dot.Digraph at 0x111d3e7f0>"
      ]
     },
     "execution_count": 31,
     "metadata": {},
     "output_type": "execute_result"
    }
   ],
   "source": [
    "pda4 = md2mc('''PDA\n",
    "I : a, #  ; c  -> F\n",
    "I : '', ''; d  -> A\n",
    "A : a, d ; '' -> F\n",
    "''')\n",
    "DOpda4 = dotObj_pda(pda4, FuseEdges=True)\n",
    "DOpda4"
   ]
  },
  {
   "cell_type": "code",
   "execution_count": 32,
   "metadata": {
    "run_control": {
     "frozen": false,
     "read_only": false
    }
   },
   "outputs": [
    {
     "data": {
      "text/plain": [
       "'// PO_St9\\ndigraph {\\n\\tgraph [rankdir=LR]\\n\\t\\tEMPTY [label=\"\" shape=plaintext]\\n\\t\\tA [label=A peripheries=1 shape=circle]\\n\\t\\tI [label=I peripheries=1 shape=circle]\\n\\t\\tF [label=F peripheries=2 shape=circle]\\n\\t\\t\\tEMPTY -> I\\n\\t\\t\\tI -> F [label=\"a, # ; c\"]\\n\\t\\t\\tI -> A [label=\"\\'\\', \\'\\' ; d\"]\\n\\t\\t\\tA -> F [label=\"a, d ; \\'\\'\"]\\n}'"
      ]
     },
     "execution_count": 32,
     "metadata": {},
     "output_type": "execute_result"
    }
   ],
   "source": [
    "DOpda4.source"
   ]
  },
  {
   "cell_type": "code",
   "execution_count": 33,
   "metadata": {
    "run_control": {
     "frozen": false,
     "read_only": false
    }
   },
   "outputs": [
    {
     "name": "stdout",
     "output_type": "stream",
     "text": [
      "String a accepted by your PDA in 2 ways :-) \n",
      "Here are the ways: \n",
      "Final state  ('F', '', 'c')\n",
      "Reached as follows:\n",
      "->  ('I', 'a', '#')\n",
      "->  ('F', '', 'c') .\n",
      "Final state  ('F', '', '#')\n",
      "Reached as follows:\n",
      "->  ('I', 'a', '#')\n",
      "->  ('A', 'a', 'd#')\n",
      "->  ('F', '', '#') .\n"
     ]
    }
   ],
   "source": [
    "explore_pda(\"a\", pda4)"
   ]
  },
  {
   "cell_type": "code",
   "execution_count": 34,
   "metadata": {
    "run_control": {
     "frozen": false,
     "read_only": false
    }
   },
   "outputs": [
    {
     "name": "stderr",
     "output_type": "stream",
     "text": [
      "Generating LALR tables\n"
     ]
    },
    {
     "data": {
      "image/svg+xml": [
       "<?xml version=\"1.0\" encoding=\"UTF-8\" standalone=\"no\"?>\n",
       "<!DOCTYPE svg PUBLIC \"-//W3C//DTD SVG 1.1//EN\"\n",
       " \"http://www.w3.org/Graphics/SVG/1.1/DTD/svg11.dtd\">\n",
       "<!-- Generated by graphviz version 2.38.0 (20140413.2041)\n",
       " -->\n",
       "<!-- Title: %3 Pages: 1 -->\n",
       "<svg width=\"359pt\" height=\"110pt\"\n",
       " viewBox=\"0.00 0.00 359.45 110.00\" xmlns=\"http://www.w3.org/2000/svg\" xmlns:xlink=\"http://www.w3.org/1999/xlink\">\n",
       "<g id=\"graph0\" class=\"graph\" transform=\"scale(1 1) rotate(0) translate(4 106)\">\n",
       "<title>%3</title>\n",
       "<polygon fill=\"white\" stroke=\"none\" points=\"-4,4 -4,-106 355.445,-106 355.445,4 -4,4\"/>\n",
       "<!-- EMPTY -->\n",
       "<g id=\"node1\" class=\"node\"><title>EMPTY</title>\n",
       "</g>\n",
       "<!-- I -->\n",
       "<g id=\"node3\" class=\"node\"><title>I</title>\n",
       "<ellipse fill=\"none\" stroke=\"black\" cx=\"109\" cy=\"-22\" rx=\"18\" ry=\"18\"/>\n",
       "<text text-anchor=\"middle\" x=\"109\" y=\"-17.8\" font-family=\"Times,serif\" font-size=\"14.00\">I</text>\n",
       "</g>\n",
       "<!-- EMPTY&#45;&gt;I -->\n",
       "<g id=\"edge1\" class=\"edge\"><title>EMPTY&#45;&gt;I</title>\n",
       "<path fill=\"none\" stroke=\"black\" d=\"M54.195,-22C62.6538,-22 72.0513,-22 80.5951,-22\"/>\n",
       "<polygon fill=\"black\" stroke=\"black\" points=\"80.8257,-25.5001 90.8257,-22 80.8257,-18.5001 80.8257,-25.5001\"/>\n",
       "</g>\n",
       "<!-- A -->\n",
       "<g id=\"node2\" class=\"node\"><title>A</title>\n",
       "<ellipse fill=\"none\" stroke=\"black\" cx=\"216.638\" cy=\"-52\" rx=\"18\" ry=\"18\"/>\n",
       "<text text-anchor=\"middle\" x=\"216.638\" y=\"-47.8\" font-family=\"Times,serif\" font-size=\"14.00\">A</text>\n",
       "</g>\n",
       "<!-- A&#45;&gt;A -->\n",
       "<g id=\"edge4\" class=\"edge\"><title>A&#45;&gt;A</title>\n",
       "<path fill=\"none\" stroke=\"black\" d=\"M207.406,-67.5414C204.807,-77.9087 207.884,-88 216.638,-88 222.383,-88 225.683,-83.654 226.539,-77.7362\"/>\n",
       "<polygon fill=\"black\" stroke=\"black\" points=\"230.017,-77.2913 225.871,-67.5414 223.032,-77.7489 230.017,-77.2913\"/>\n",
       "<text text-anchor=\"middle\" x=\"216.638\" y=\"-90.8\" font-family=\"Times,serif\" font-size=\"14.00\">&#39;&#39;, &#39;&#39; ; &#39;&#39;</text>\n",
       "</g>\n",
       "<!-- F -->\n",
       "<g id=\"node4\" class=\"node\"><title>F</title>\n",
       "<ellipse fill=\"none\" stroke=\"black\" cx=\"329.445\" cy=\"-22\" rx=\"18\" ry=\"18\"/>\n",
       "<ellipse fill=\"none\" stroke=\"black\" cx=\"329.445\" cy=\"-22\" rx=\"22\" ry=\"22\"/>\n",
       "<text text-anchor=\"middle\" x=\"329.445\" y=\"-17.8\" font-family=\"Times,serif\" font-size=\"14.00\">F</text>\n",
       "</g>\n",
       "<!-- A&#45;&gt;F -->\n",
       "<g id=\"edge5\" class=\"edge\"><title>A&#45;&gt;F</title>\n",
       "<path fill=\"none\" stroke=\"black\" d=\"M234.467,-47.4436C251.352,-42.8724 277.725,-35.7321 298.24,-30.1777\"/>\n",
       "<polygon fill=\"black\" stroke=\"black\" points=\"299.325,-33.5101 308.063,-27.5183 297.496,-26.7533 299.325,-33.5101\"/>\n",
       "<text text-anchor=\"middle\" x=\"271.371\" y=\"-44.8\" font-family=\"Times,serif\" font-size=\"14.00\">a, d ; &#39;&#39;</text>\n",
       "</g>\n",
       "<!-- I&#45;&gt;A -->\n",
       "<g id=\"edge3\" class=\"edge\"><title>I&#45;&gt;A</title>\n",
       "<path fill=\"none\" stroke=\"black\" d=\"M126.506,-26.6875C143.328,-31.4649 169.676,-38.9472 189.369,-44.5398\"/>\n",
       "<polygon fill=\"black\" stroke=\"black\" points=\"188.672,-47.9804 199.248,-47.3454 190.585,-41.2466 188.672,-47.9804\"/>\n",
       "<text text-anchor=\"middle\" x=\"162.49\" y=\"-43.8\" font-family=\"Times,serif\" font-size=\"14.00\">&#39;&#39;, &#39;&#39; ; d</text>\n",
       "</g>\n",
       "<!-- I&#45;&gt;F -->\n",
       "<g id=\"edge2\" class=\"edge\"><title>I&#45;&gt;F</title>\n",
       "<path fill=\"none\" stroke=\"black\" d=\"M126.808,-19.2668C144.47,-16.5432 173.091,-12.5499 197.979,-11 232.076,-8.87673 271.105,-13.0378 297.522,-16.8363\"/>\n",
       "<polygon fill=\"black\" stroke=\"black\" points=\"297.267,-20.3373 307.678,-18.3682 298.312,-13.4156 297.267,-20.3373\"/>\n",
       "<text text-anchor=\"middle\" x=\"216.638\" y=\"-13.8\" font-family=\"Times,serif\" font-size=\"14.00\">a, # ; c</text>\n",
       "</g>\n",
       "</g>\n",
       "</svg>\n"
      ],
      "text/plain": [
       "<graphviz.dot.Digraph at 0x111daaf60>"
      ]
     },
     "execution_count": 34,
     "metadata": {},
     "output_type": "execute_result"
    }
   ],
   "source": [
    "pda5 = md2mc('''PDA\n",
    "I : a, #  ; c  -> F\n",
    "I : '', ''; d  -> A\n",
    "A : '', ''; '' -> A\n",
    "A : a, d ; '' -> F\n",
    "''')\n",
    "DOpda5 = dotObj_pda(pda5, FuseEdges=True)\n",
    "DOpda5"
   ]
  },
  {
   "cell_type": "code",
   "execution_count": 35,
   "metadata": {
    "run_control": {
     "frozen": false,
     "read_only": false
    }
   },
   "outputs": [
    {
     "data": {
      "text/plain": [
       "'// PO_St10\\ndigraph {\\n\\tgraph [rankdir=LR]\\n\\t\\tEMPTY [label=\"\" shape=plaintext]\\n\\t\\tA [label=A peripheries=1 shape=circle]\\n\\t\\tI [label=I peripheries=1 shape=circle]\\n\\t\\tF [label=F peripheries=2 shape=circle]\\n\\t\\t\\tEMPTY -> I\\n\\t\\t\\tI -> F [label=\"a, # ; c\"]\\n\\t\\t\\tI -> A [label=\"\\'\\', \\'\\' ; d\"]\\n\\t\\t\\tA -> A [label=\"\\'\\', \\'\\' ; \\'\\'\"]\\n\\t\\t\\tA -> F [label=\"a, d ; \\'\\'\"]\\n}'"
      ]
     },
     "execution_count": 35,
     "metadata": {},
     "output_type": "execute_result"
    }
   ],
   "source": [
    "DOpda5.source"
   ]
  },
  {
   "cell_type": "code",
   "execution_count": 36,
   "metadata": {
    "run_control": {
     "frozen": false,
     "read_only": false
    }
   },
   "outputs": [
    {
     "name": "stdout",
     "output_type": "stream",
     "text": [
      "String a accepted by your PDA in 2 ways :-) \n",
      "Here are the ways: \n",
      "Final state  ('F', '', 'c')\n",
      "Reached as follows:\n",
      "->  ('I', 'a', '#')\n",
      "->  ('F', '', 'c') .\n",
      "Final state  ('F', '', '#')\n",
      "Reached as follows:\n",
      "->  ('I', 'a', '#')\n",
      "->  ('A', 'a', 'd#')\n",
      "->  ('F', '', '#') .\n"
     ]
    }
   ],
   "source": [
    "explore_pda(\"a\", pda5)"
   ]
  },
  {
   "cell_type": "code",
   "execution_count": 37,
   "metadata": {
    "run_control": {
     "frozen": false,
     "read_only": false
    }
   },
   "outputs": [
    {
     "name": "stderr",
     "output_type": "stream",
     "text": [
      "Generating LALR tables\n"
     ]
    },
    {
     "data": {
      "image/svg+xml": [
       "<?xml version=\"1.0\" encoding=\"UTF-8\" standalone=\"no\"?>\n",
       "<!DOCTYPE svg PUBLIC \"-//W3C//DTD SVG 1.1//EN\"\n",
       " \"http://www.w3.org/Graphics/SVG/1.1/DTD/svg11.dtd\">\n",
       "<!-- Generated by graphviz version 2.38.0 (20140413.2041)\n",
       " -->\n",
       "<!-- Title: %3 Pages: 1 -->\n",
       "<svg width=\"577pt\" height=\"146pt\"\n",
       " viewBox=\"0.00 0.00 577.29 146.00\" xmlns=\"http://www.w3.org/2000/svg\" xmlns:xlink=\"http://www.w3.org/1999/xlink\">\n",
       "<g id=\"graph0\" class=\"graph\" transform=\"scale(1 1) rotate(0) translate(4 142)\">\n",
       "<title>%3</title>\n",
       "<polygon fill=\"white\" stroke=\"none\" points=\"-4,4 -4,-142 573.287,-142 573.287,4 -4,4\"/>\n",
       "<!-- EMPTY -->\n",
       "<g id=\"node1\" class=\"node\"><title>EMPTY</title>\n",
       "</g>\n",
       "<!-- I -->\n",
       "<g id=\"node3\" class=\"node\"><title>I</title>\n",
       "<ellipse fill=\"none\" stroke=\"black\" cx=\"109\" cy=\"-19\" rx=\"18\" ry=\"18\"/>\n",
       "<text text-anchor=\"middle\" x=\"109\" y=\"-14.8\" font-family=\"Times,serif\" font-size=\"14.00\">I</text>\n",
       "</g>\n",
       "<!-- EMPTY&#45;&gt;I -->\n",
       "<g id=\"edge1\" class=\"edge\"><title>EMPTY&#45;&gt;I</title>\n",
       "<path fill=\"none\" stroke=\"black\" d=\"M54.195,-19C62.6538,-19 72.0513,-19 80.5951,-19\"/>\n",
       "<polygon fill=\"black\" stroke=\"black\" points=\"80.8257,-22.5001 90.8257,-19 80.8257,-15.5001 80.8257,-22.5001\"/>\n",
       "</g>\n",
       "<!-- A -->\n",
       "<g id=\"node2\" class=\"node\"><title>A</title>\n",
       "<ellipse fill=\"none\" stroke=\"black\" cx=\"215.979\" cy=\"-46\" rx=\"18\" ry=\"18\"/>\n",
       "<text text-anchor=\"middle\" x=\"215.979\" y=\"-41.8\" font-family=\"Times,serif\" font-size=\"14.00\">A</text>\n",
       "</g>\n",
       "<!-- A&#45;&gt;A -->\n",
       "<g id=\"edge4\" class=\"edge\"><title>A&#45;&gt;A</title>\n",
       "<path fill=\"none\" stroke=\"black\" d=\"M207.001,-61.916C204.658,-72.1504 207.651,-82 215.979,-82 221.445,-82 224.612,-77.7581 225.482,-71.9494\"/>\n",
       "<polygon fill=\"black\" stroke=\"black\" points=\"228.975,-71.7198 224.958,-61.916 221.985,-72.0851 228.975,-71.7198\"/>\n",
       "<text text-anchor=\"middle\" x=\"215.979\" y=\"-84.8\" font-family=\"Times,serif\" font-size=\"14.00\">&#39;&#39;, &#39;&#39; ; z</text>\n",
       "</g>\n",
       "<!-- B -->\n",
       "<g id=\"node4\" class=\"node\"><title>B</title>\n",
       "<ellipse fill=\"none\" stroke=\"black\" cx=\"322.832\" cy=\"-88\" rx=\"18\" ry=\"18\"/>\n",
       "<text text-anchor=\"middle\" x=\"322.832\" y=\"-83.8\" font-family=\"Times,serif\" font-size=\"14.00\">B</text>\n",
       "</g>\n",
       "<!-- A&#45;&gt;B -->\n",
       "<g id=\"edge5\" class=\"edge\"><title>A&#45;&gt;B</title>\n",
       "<path fill=\"none\" stroke=\"black\" d=\"M232.904,-52.3789C249.763,-59.1321 276.62,-69.8899 296.412,-77.818\"/>\n",
       "<polygon fill=\"black\" stroke=\"black\" points=\"295.172,-81.0916 305.757,-81.5611 297.775,-74.5935 295.172,-81.0916\"/>\n",
       "<text text-anchor=\"middle\" x=\"269.076\" y=\"-75.8\" font-family=\"Times,serif\" font-size=\"14.00\">&#39;&#39;, z ; &#39;&#39;</text>\n",
       "</g>\n",
       "<!-- F -->\n",
       "<g id=\"node6\" class=\"node\"><title>F</title>\n",
       "<ellipse fill=\"none\" stroke=\"black\" cx=\"547.287\" cy=\"-42\" rx=\"18\" ry=\"18\"/>\n",
       "<ellipse fill=\"none\" stroke=\"black\" cx=\"547.287\" cy=\"-42\" rx=\"22\" ry=\"22\"/>\n",
       "<text text-anchor=\"middle\" x=\"547.287\" y=\"-37.8\" font-family=\"Times,serif\" font-size=\"14.00\">F</text>\n",
       "</g>\n",
       "<!-- A&#45;&gt;F -->\n",
       "<g id=\"edge9\" class=\"edge\"><title>A&#45;&gt;F</title>\n",
       "<path fill=\"none\" stroke=\"black\" d=\"M234.221,-45.7906C286.981,-45.1497 446.784,-43.2086 514.943,-42.3807\"/>\n",
       "<polygon fill=\"black\" stroke=\"black\" points=\"515.108,-45.8791 525.064,-42.2578 515.023,-38.8796 515.108,-45.8791\"/>\n",
       "<text text-anchor=\"middle\" x=\"377.564\" y=\"-46.8\" font-family=\"Times,serif\" font-size=\"14.00\">a, d ; &#39;&#39;</text>\n",
       "</g>\n",
       "<!-- I&#45;&gt;A -->\n",
       "<g id=\"edge3\" class=\"edge\"><title>I&#45;&gt;A</title>\n",
       "<path fill=\"none\" stroke=\"black\" d=\"M126.867,-23.338C143.473,-27.6089 169.085,-34.1962 188.424,-39.1701\"/>\n",
       "<polygon fill=\"black\" stroke=\"black\" points=\"187.598,-42.5715 198.155,-41.6727 189.342,-35.7921 187.598,-42.5715\"/>\n",
       "<text text-anchor=\"middle\" x=\"162.49\" y=\"-38.8\" font-family=\"Times,serif\" font-size=\"14.00\">&#39;&#39;, &#39;&#39; ; d</text>\n",
       "</g>\n",
       "<!-- I&#45;&gt;F -->\n",
       "<g id=\"edge2\" class=\"edge\"><title>I&#45;&gt;F</title>\n",
       "<path fill=\"none\" stroke=\"black\" d=\"M126.56,-14.107C147.107,-8.47746 183.307,-0 214.979,-0 214.979,-0 214.979,-0 432.639,-0 463.744,-0 496.835,-14.0139 519.238,-25.8518\"/>\n",
       "<polygon fill=\"black\" stroke=\"black\" points=\"517.698,-28.9992 528.148,-30.7448 521.068,-22.8635 517.698,-28.9992\"/>\n",
       "<text text-anchor=\"middle\" x=\"322.832\" y=\"-2.8\" font-family=\"Times,serif\" font-size=\"14.00\">a, # ; c</text>\n",
       "</g>\n",
       "<!-- C -->\n",
       "<g id=\"node5\" class=\"node\"><title>C</title>\n",
       "<ellipse fill=\"none\" stroke=\"black\" cx=\"431.639\" cy=\"-88\" rx=\"18\" ry=\"18\"/>\n",
       "<text text-anchor=\"middle\" x=\"431.639\" y=\"-83.8\" font-family=\"Times,serif\" font-size=\"14.00\">C</text>\n",
       "</g>\n",
       "<!-- B&#45;&gt;C -->\n",
       "<g id=\"edge6\" class=\"edge\"><title>B&#45;&gt;C</title>\n",
       "<path fill=\"none\" stroke=\"black\" d=\"M340.992,-88C357.809,-88 383.705,-88 403.349,-88\"/>\n",
       "<polygon fill=\"black\" stroke=\"black\" points=\"403.521,-91.5001 413.521,-88 403.521,-84.5001 403.521,-91.5001\"/>\n",
       "<text text-anchor=\"middle\" x=\"377.564\" y=\"-90.8\" font-family=\"Times,serif\" font-size=\"14.00\">&#39;&#39;, z ; &#39;&#39;</text>\n",
       "</g>\n",
       "<!-- C&#45;&gt;C -->\n",
       "<g id=\"edge7\" class=\"edge\"><title>C&#45;&gt;C</title>\n",
       "<path fill=\"none\" stroke=\"black\" d=\"M422.406,-103.541C419.807,-113.909 422.885,-124 431.639,-124 437.383,-124 440.684,-119.654 441.539,-113.736\"/>\n",
       "<polygon fill=\"black\" stroke=\"black\" points=\"445.018,-113.291 440.871,-103.541 438.033,-113.749 445.018,-113.291\"/>\n",
       "<text text-anchor=\"middle\" x=\"431.639\" y=\"-126.8\" font-family=\"Times,serif\" font-size=\"14.00\">&#39;&#39;, z ; &#39;&#39;</text>\n",
       "</g>\n",
       "<!-- C&#45;&gt;F -->\n",
       "<g id=\"edge8\" class=\"edge\"><title>C&#45;&gt;F</title>\n",
       "<path fill=\"none\" stroke=\"black\" d=\"M448.922,-81.4093C466.699,-74.2139 495.522,-62.5476 517.204,-53.7715\"/>\n",
       "<polygon fill=\"black\" stroke=\"black\" points=\"518.642,-56.9654 526.599,-49.9691 516.016,-50.4767 518.642,-56.9654\"/>\n",
       "<text text-anchor=\"middle\" x=\"487.463\" y=\"-89.8\" font-family=\"Times,serif\" font-size=\"14.00\">a, d ; &#39;&#39; </text>\n",
       "<text text-anchor=\"middle\" x=\"487.463\" y=\"-75.8\" font-family=\"Times,serif\" font-size=\"14.00\"> &#39;&#39;, # ; &#39;&#39;</text>\n",
       "</g>\n",
       "</g>\n",
       "</svg>\n"
      ],
      "text/plain": [
       "<graphviz.dot.Digraph at 0x111d23320>"
      ]
     },
     "execution_count": 37,
     "metadata": {},
     "output_type": "execute_result"
    }
   ],
   "source": [
    "pda6 = md2mc('''PDA\n",
    "I : a, #  ; c  -> F\n",
    "I : '', ''; d  -> A\n",
    "A : '', ''; z  -> A\n",
    "A : '', z ; '' -> B\n",
    "B : '', z ; '' -> C\n",
    "C : '', z ; '' -> C\n",
    "C : '', # ; '' | a, d; '' -> F\n",
    "A : a, d ; ''  -> F\n",
    "''')\n",
    "DOpda6 = dotObj_pda(pda6, FuseEdges=True)\n",
    "DOpda6"
   ]
  },
  {
   "cell_type": "code",
   "execution_count": 38,
   "metadata": {
    "run_control": {
     "frozen": false,
     "read_only": false
    }
   },
   "outputs": [
    {
     "data": {
      "text/plain": [
       "'// PO_St11\\ndigraph {\\n\\tgraph [rankdir=LR]\\n\\t\\tEMPTY [label=\"\" shape=plaintext]\\n\\t\\tA [label=A peripheries=1 shape=circle]\\n\\t\\tI [label=I peripheries=1 shape=circle]\\n\\t\\tB [label=B peripheries=1 shape=circle]\\n\\t\\tC [label=C peripheries=1 shape=circle]\\n\\t\\tF [label=F peripheries=2 shape=circle]\\n\\t\\t\\tEMPTY -> I\\n\\t\\t\\tI -> F [label=\"a, # ; c\"]\\n\\t\\t\\tI -> A [label=\"\\'\\', \\'\\' ; d\"]\\n\\t\\t\\tA -> A [label=\"\\'\\', \\'\\' ; z\"]\\n\\t\\t\\tA -> B [label=\"\\'\\', z ; \\'\\'\"]\\n\\t\\t\\tB -> C [label=\"\\'\\', z ; \\'\\'\"]\\n\\t\\t\\tC -> C [label=\"\\'\\', z ; \\'\\'\"]\\n\\t\\t\\tC -> F [label=\"a, d ; \\'\\' \\n \\'\\', # ; \\'\\'\"]\\n\\t\\t\\tA -> F [label=\"a, d ; \\'\\'\"]\\n}'"
      ]
     },
     "execution_count": 38,
     "metadata": {},
     "output_type": "execute_result"
    }
   ],
   "source": [
    "DOpda6.source"
   ]
  },
  {
   "cell_type": "code",
   "execution_count": 39,
   "metadata": {
    "run_control": {
     "frozen": false,
     "read_only": false
    }
   },
   "outputs": [
    {
     "name": "stdout",
     "output_type": "stream",
     "text": [
      "String a accepted by your PDA in 2 ways :-) \n",
      "Here are the ways: \n",
      "Final state  ('F', '', 'c')\n",
      "Reached as follows:\n",
      "->  ('I', 'a', '#')\n",
      "->  ('F', '', 'c') .\n",
      "Final state  ('F', '', '#')\n",
      "Reached as follows:\n",
      "->  ('I', 'a', '#')\n",
      "->  ('A', 'a', 'd#')\n",
      "->  ('F', '', '#') .\n"
     ]
    }
   ],
   "source": [
    "explore_pda(\"a\", pda6)"
   ]
  },
  {
   "cell_type": "code",
   "execution_count": 40,
   "metadata": {
    "run_control": {
     "frozen": false,
     "read_only": false
    }
   },
   "outputs": [
    {
     "name": "stdout",
     "output_type": "stream",
     "text": [
      "terminal_id_path =  [(('A', 'a', 'zd#'), [('I', 'a', '#'), ('A', 'a', 'd#')])]\n",
      "final_id_path =  [(('F', '', 'c'), [('I', 'a', '#')]), (('F', '', '#'), [('I', 'a', '#'), ('A', 'a', 'd#')])]\n",
      "visited_ids =  {('I', 'a', '#'), ('F', '', 'c'), ('A', 'a', 'd#'), ('F', '', '#')}\n",
      "String a accepted by your PDA in 2 ways :-) \n",
      "Here are the ways: \n",
      "Final state  ('F', '', 'c')\n",
      "Reached as follows:\n",
      "->  ('I', 'a', '#')\n",
      "->  ('F', '', 'c') .\n",
      "Final state  ('F', '', '#')\n",
      "Reached as follows:\n",
      "->  ('I', 'a', '#')\n",
      "->  ('A', 'a', 'd#')\n",
      "->  ('F', '', '#') .\n"
     ]
    }
   ],
   "source": [
    "explore_pda(\"a\", pda6, chatty=True)"
   ]
  },
  {
   "cell_type": "code",
   "execution_count": 41,
   "metadata": {
    "run_control": {
     "frozen": false,
     "read_only": false
    }
   },
   "outputs": [
    {
     "name": "stdout",
     "output_type": "stream",
     "text": [
      "terminal_id_path =  [(('A', 'a', 'zzzd#'), [('I', 'a', '#'), ('A', 'a', 'd#'), ('A', 'a', 'zd#'), ('A', 'a', 'zzd#')]), (('F', '', '#'), [('I', 'a', '#'), ('A', 'a', 'd#'), ('A', 'a', 'zd#'), ('A', 'a', 'zzd#'), ('B', 'a', 'zd#'), ('C', 'a', 'd#')])]\n",
      "final_id_path =  [(('F', '', 'c'), [('I', 'a', '#')]), (('F', '', '#'), [('I', 'a', '#'), ('A', 'a', 'd#')]), (('F', '', '#'), [('I', 'a', '#'), ('A', 'a', 'd#'), ('A', 'a', 'zd#'), ('A', 'a', 'zzd#'), ('B', 'a', 'zd#'), ('C', 'a', 'd#')])]\n",
      "visited_ids =  {('F', '', '#'), ('A', 'a', 'zzd#'), ('B', 'a', 'd#'), ('F', '', 'c'), ('C', 'a', 'd#'), ('B', 'a', 'zd#'), ('A', 'a', 'd#'), ('I', 'a', '#'), ('A', 'a', 'zd#')}\n",
      "String a accepted by your PDA in 3 ways :-) \n",
      "Here are the ways: \n",
      "Final state  ('F', '', 'c')\n",
      "Reached as follows:\n",
      "->  ('I', 'a', '#')\n",
      "->  ('F', '', 'c') .\n",
      "Final state  ('F', '', '#')\n",
      "Reached as follows:\n",
      "->  ('I', 'a', '#')\n",
      "->  ('A', 'a', 'd#')\n",
      "->  ('F', '', '#') .\n",
      "Final state  ('F', '', '#')\n",
      "Reached as follows:\n",
      "->  ('I', 'a', '#')\n",
      "->  ('A', 'a', 'd#')\n",
      "->  ('A', 'a', 'zd#')\n",
      "->  ('A', 'a', 'zzd#')\n",
      "->  ('B', 'a', 'zd#')\n",
      "->  ('C', 'a', 'd#')\n",
      "->  ('F', '', '#') .\n"
     ]
    }
   ],
   "source": [
    "explore_pda(\"a\", pda6, STKMAX = 3, chatty=True)"
   ]
  },
  {
   "cell_type": "code",
   "execution_count": 66,
   "metadata": {
    "run_control": {
     "frozen": false,
     "read_only": false
    }
   },
   "outputs": [
    {
     "name": "stdout",
     "output_type": "stream",
     "text": [
      "Help on function explore_pda in module Imports.Def_PDA:\n",
      "\n",
      "explore_pda(inp, P, acceptance='ACCEPT_F', STKMAX=0, chatty=False)\n",
      "    A handy routine to print the result of run_pda plus making \n",
      "    future extensions to explore run-results.\n",
      "\n"
     ]
    }
   ],
   "source": [
    "help(explore_pda)"
   ]
  },
  {
   "cell_type": "code",
   "execution_count": 77,
   "metadata": {
    "run_control": {
     "frozen": false,
     "read_only": false
    }
   },
   "outputs": [
    {
     "name": "stdout",
     "output_type": "stream",
     "text": [
      "String aaaacaccaba rejected by your PDA :-(\n",
      "Visited states are:\n",
      "{('M', 'aba', 'bSaSaSaSaSbSaSaSbSaSbSaSbS#'), ('M', 'aba', 'aSaSaSbSbSaSbS#'), ('M', 'ba', 'aScSaSaSbSaSaSbSaSbSaSbSaSbS#'), ('M', 'ba', 'aScSaScSbSaSaSbSaSbS#'), ('M', 'accaba', 'bSaSaSaSaSbSbSaSbS#'), ('M', 'aba', 'aSbScS#'), ('M', 'caccaba', 'bSaScScScS#'), ('M', '', 'aScSbSaSaSaSaSaSbSaSaSbSaSbSaSbSaSbS#'), ('M', 'accaba', 'bSaSaSbSaSbS#'), ('M', 'a', 'bSaSaSaSaSbSaSaSaSaSbSaSaSbSaSbSaSbSaSbS#'), ('M', 'accaba', 'ScSaSbSaSbS#'), ('M', 'ba', 'aScSaScSaSaSbSbSaSbS#'), ('M', 'caba', 'cSaSaSaSbSaSbSaSbSaSbS#'), ('M', 'aba', 'aSbSaSaSbSaSaSbSaSbS#'), ('M', 'aacaccaba', 'ScSaSbS#'), ('M', 'accaba', 'aScSaScScSbS#'), ('M', 'ba', 'ScScSaSbS#'), ('M', 'ccaba', 'SbSaSbSaSbS#'), ('M', '', 'cSaSbSaSaSaSbSaSbS#'), ('M', 'ccaba', 'aSbScSbS#'), ('M', 'ba', 'cSaSaSbSaSbSaSbS#'), ('M', 'ba', 'aScSaSaSbSbSaSbS#'), ('M', 'ba', 'aScSaSbSaSaSaSbSaSbSaSbSaSbS#'), ('M', 'caccaba', 'aSbSbSbSaS#'), ('M', 'ccaba', 'cSaScScScScS#'), ('M', 'caccaba', 'ScSbSaSaSbSaSbS#'), ('M', 'caccaba', 'aScSbScScS#'), ('M', 'a', 'aSbSaSaSbS#'), ('M', 'caba', 'bSaSaScScScS#'), ('M', '', 'cSaSbSaScS#'), ('M', 'caba', 'SaSaSbSaSbSaSbSaSbS#'), ('M', 'ccaba', 'aScSbSaSbSaSbS#'), ('M', 'ba', 'aSbSaSbSaSaSaSbSaSbSaSbS#'), ('M', 'caba', 'bSaSaSaSbSaSaSbSaSbSaSbS#'), ('M', 'aba', 'bSaSaSaSaSbSaSaSaSbSaSbSaSbSaSbS#'), ('M', 'accaba', 'aSbSaSaSbSbS#'), ('M', 'a', 'SaSaSbSaSaSbSaSbS#'), ('M', '', 'bSaSaSaSaSbSaSaSaSbSaSbSaSbSaSbS#'), ('M', 'aaacaccaba', 'aSaSbSaSbS#'), ('M', 'acaccaba', 'aSbSaSaSbSbS#'), ('M', 'caba', 'bSaSaScSbS#'), ('M', 'aba', 'aSbSaSaSaSbSbS#'), ('M', 'ccaba', 'aSbSaSbSbSaSaSbS#'), ('M', 'accaba', 'aSaSbSaSaSbSaSbSaSbSaSbS#'), ('M', 'aba', 'SaSbSaSaSbSaSbS#'), ('M', 'caccaba', 'bSaSaSbSbSaSaSbS#'), ('M', 'ba', 'bSaSaSbScS#'), ('M', 'ba', 'aScSaScSaSbSaSbSaSbS#'), ('M', 'ba', 'ScSbS#'), ('M', 'ccaba', 'SbSaSaSaSbSaSbSaSbSaSbS#'), ('M', 'aba', 'SaScSaSbScS#'), ('M', 'aba', 'SaSaScSbScS#'), ('M', 'accaba', 'cSaSbScS#'), ('M', '', 'cSaSbSaSaSaSaSaSbSaSbSaSbSaSbS#'), ('M', '', 'cSaSaSbSaSaSaSaSbSaSbSaSbSaSbS#'), ('M', '', 'aSbSaSaSbSaSaSaSaSbSaSaSbSaSbSaSbSaSbS#'), ('M', 'acaccaba', 'bSaScScS#'), ('M', 'ba', 'SbSbSaS#'), ('M', '', 'bSaSaSaSaSbSaSaSbSaSbSaSbS#'), ('M', 'ccaba', 'cSaSbSaSaSbSbS#'), ('M', 'aacaccaba', 'cSaScScS#'), ('M', 'aba', 'aSbSaSaSaSaSbSaSaSbSaSbSaSbSaSbS#'), ('M', 'accaba', 'cSbS#'), ('M', '', 'SaSbSaSaSbSaSaSaSbSaSbSaSbS#'), ('M', '', 'cSaScSaSaSbSaSaSaSbSaSbSaSbS#'), ('M', 'aba', 'SaScSbSaScS#'), ('M', 'aba', 'SbSaScS#'), ('M', 'caccaba', 'SaSbScSbS#'), ('M', 'accaba', 'SaScSaSbSaSbSaSbS#'), ('M', '', 'cSaSaSbScS#'), ('M', '', 'SbSaSaSaSaSaSbSaSaSbSaSbSaSbSaSbS#'), ('M', 'accaba', 'bSaSaSaSbSaSbSaSbS#'), ('M', 'accaba', 'cScSbSaS#'), ('M', 'aba', 'cSaSaSbSaSbS#'), ('M', 'aba', 'cSaSaSaSaSbSbSaSbS#'), ('M', 'caccaba', 'cSaSbSaScSbS#'), ('M', 'ba', 'SbSaSaSbSaSaSbSaSbS#'), ('M', 'ba', 'ScSaScSaSbSaSbS#'), ('M', 'caba', 'cScSaSbS#'), ('M', 'ba', 'ScSaSaScSbSaSaSbSaSbS#'), ('M', 'caba', 'aSbSaSaSbSaSbSaSbS#'), ('M', 'ccaba', 'aScSaSbSaSaSbSaSbSaSbSaSbS#'), ('M', 'aba', 'SaSaSbSaSaSaSbSaSbSaSbSaSbS#'), ('M', 'ba', 'bSaSaScScScS#'), ('M', 'ba', 'cSaScSaSaSaSbSaSaSbSaSbSaSbSaSbS#'), ('M', 'ccaba', 'aScScSaSbSaSaSbSaSbSaSbS#'), ('M', 'ccaba', 'cSaSbSaSaSaSbSaSbSaSbSaSbS#'), ('M', 'caccaba', 'bSaSaSaSbSaSbSbS#'), ('M', 'accaba', 'ScSbSaScS#'), ('M', 'accaba', 'aScSaScSbScS#'), ('M', '', 'aSbSaSaSaSbSaSaSaSbSaSbSaSbSaSbS#'), ('M', 'caccaba', 'ScSbSaSbS#'), ('M', 'aaaacaccaba', 'bSaSaS#'), ('M', 'ba', 'bSaSaSbSaSaSaSaSbSaSaSbSaSbSaSbSaSbS#'), ('M', 'ccaba', 'bSaSaScSbSaSbS#'), ('M', 'acaccaba', 'cSbSaScS#'), ('M', 'ccaba', 'aSaSbSbScScS#'), ('M', 'aacaccaba', 'ScSbSaS#'), ('M', '', 'SaSbSaSaSaSbSaSaSaSbSaSaSbSaSbSaSbSaSbS#'), ('M', '', 'aScScSaSaSaSbSaSaSbSaSbSaSbS#'), ('M', 'ccaba', 'aScScSbSaSaSbSaSbS#'), ('M', 'aaacaccaba', 'aSbSaScS#'), ('M', 'caba', 'aSaSbSaSbSaSaSbSaSbSaSbS#'), ('M', 'ba', 'SbSaSaSaSbSaSbSaSbS#'), ('M', 'caccaba', 'aScSbSaSaSbSbS#'), ('M', 'ccaba', 'cScSbSaSaSbS#'), ('M', 'ba', 'SaSbSaSaSaSbSaSbSaSbSaSbS#'), ('M', 'ba', 'aSaSbSaSbSaSaSaSbSaSaSbSaSbSaSbSaSbS#'), ('M', 'a', 'cSaSaSaSbSaSaSaSbSaSbSaSbS#'), ('M', 'ccaba', 'cSaScSaSbSaSaSbSaSbSaSbS#'), ('M', 'ccaba', 'aScScSaSbSaSbSaSbS#'), ('M', 'accaba', 'aScSbSaSaSbSaSbS#'), ('M', '', 'aScSaSbSaSbS#'), ('M', 'caba', 'cSaScSbSaScS#'), ('M', 'acaccaba', 'ScScSbSaS#'), ('M', 'caba', 'cSaScSaSbSaSbS#'), ('M', 'aba', 'bSaSaSaSaSaSbSaSaSbSaSbSaSbSaSbS#'), ('M', 'caccaba', 'aScScScScScS#'), ('M', 'ba', 'SaSbSaSbSaSbS#'), ('M', 'caccaba', 'SaSbScScScS#'), ('M', '', 'SbSaSaSaSbSaSbS#'), ('M', 'accaba', 'aSbScScS#'), ('M', 'ba', 'cSaScSaSaSbSaSaSbSaSbSaSbS#'), ('M', 'a', 'aSaSbSaSaSaSbSaSaSbSaSbSaSbS#'), ('M', 'acaccaba', 'SaSbSbS#'), ('M', 'ba', 'aSaSbSaSbSbS#'), ('M', '', 'aSaSaSbSaSaSbSaSbSaSbSaSbS#'), ('M', '', 'aSbSaScScS#'), ('M', 'accaba', 'aSaSbSbSbSaS#'), ('M', 'caccaba', 'aScSaSbScSbS#'), ('M', 'caba', 'bSaScScS#'), ('M', 'ba', 'ScSaSaScSbSaSbS#'), ('M', 'caba', 'bSaSaSbScS#'), ('M', 'ccaba', 'SbSaSaSbSaSbSaSbS#'), ('M', 'accaba', 'cSaSbSaSaSbSaSbS#'), ('M', 'acaccaba', 'SbSaSaSbSaSbS#'), ('M', '', 'ScSaSaSbSaSaSaSaSbSaSaSbSaSbSaSbSaSbS#'), ('M', 'ba', 'SaSbSbS#'), ('M', 'accaba', 'aSbSaSbScS#'), ('M', 'a', 'SaSaSbSaSaSaSbSaSbSaSbS#'), ('M', 'aba', 'aScSaSaSbSaScSbS#'), ('M', 'aba', 'aSaScSbSaSbS#'), ('M', 'caccaba', 'ScScSaSbScS#'), ('M', 'aba', 'aSaScSaSaSbSaSbSaSbSaSbS#'), ('M', 'ccaba', 'bSaSbScS#'), ('M', 'ba', 'ScSaSaSaSbSaSbSaSbSaSbS#'), ('M', 'caba', 'aScSaScSaSbSbS#'), ('M', 'caccaba', 'aSbSaSbScScS#'), ('M', 'accaba', 'bSaSaSaSbSbS#'), ('M', 'acaccaba', 'cScSbSaS#'), ('M', 'aacaccaba', 'bSaSbSaS#'), ('M', 'aba', 'cSaSaScSbS#'), ('M', 'ccaba', 'aScScScScScS#'), ('M', 'caba', 'aSaSbScSbS#'), ('M', 'aba', 'SaSaScSaSbSaSbSaSbS#'), ('M', 'acaccaba', 'cSbS#'), ('M', 'aaacaccaba', 'SbSaS#'), ('M', 'ba', 'SbSaSbS#'), ('M', 'caba', 'aSbSaSaSbSbS#'), ('M', 'caba', 'ScScScS#'), ('M', 'ccaba', 'ScSbSaSbS#'), ('M', 'ccaba', 'aSbSaSaSbSaSbSbS#'), ('M', '', 'cSaScSaSaSaSaSbSaSaSbSaSbSaSbSaSbS#'), ('M', 'caccaba', 'aScSbSbSaSaSbS#'), ('M', 'ccaba', 'cSaSbScScS#'), ('M', 'aacaccaba', 'aSbScS#'), ('M', 'caccaba', 'aScSaSbSbSaSbS#'), ('M', '', 'bSaSaSaSbSaSbS#'), ('M', 'acaccaba', 'cSaSaSbSaSbSaSbS#'), ('M', '', 'aScScSaSaSbSaSbS#'), ('M', '', 'ScSaSaSbScS#'), ('M', 'ccaba', 'ScScSaSbScS#'), ('M', 'caccaba', 'bSaSaSbScScS#'), ('M', 'accaba', 'cSbSaScS#'), ('M', 'ccaba', 'bSaSaSaSbSbSaSbS#'), ('M', 'a', 'ScS#'), ('M', 'caba', 'aSaSbSbScS#'), ('M', 'aacaccaba', 'bSaScS#'), ('M', 'ccaba', 'cSaScSaSaSbSaSbSaSbSaSbS#'), ('M', '', 'aSaSbSaSbSaSaSaSbSaSaSaSbSaSaSbSaSbSaSbSaSbS#'), ('M', 'aba', 'cSaSaSaSbSaSaSbSaSbSaSbS#'), ('M', '', 'bSaSaSbSaSaSbS#'), ('M', 'ccaba', 'SaSbSbSbSaS#'), ('M', 'caba', 'cSbS#'), ('M', 'caccaba', 'ScSaSbSaSbSaSbS#'), ('M', 'ba', 'cSaSaSbScScS#'), ('M', 'caccaba', 'cScSbS#'), ('M', 'aba', 'SaSbSaSbS#'), ('M', 'caba', 'aScScSbS#'), ('M', 'caccaba', 'aScSbSaSbScS#'), ('M', 'aba', 'aScSbSaScS#'), ('M', 'ba', 'SaSaSbSbSaSbS#'), ('M', 'ba', 'ScSbSaSaSbS#'), ('M', 'caccaba', 'cSaSbSbSaSaSbS#'), ('M', 'accaba', 'cSaSaSaSbSaSbSaSbSaSbS#'), ('M', 'a', 'aSaSbSaSaSaSbSaSaSaSbSaSbSaSbSaSbS#'), ('M', 'aacaccaba', 'aScSbSaSaSbS#'), ('M', 'caba', 'aScScSaSbSaSbS#'), ('M', 'aba', 'aScSaSaScSaSaSbSaSbSaSbSaSbS#'), ('M', 'acaccaba', 'aSbSbS#'), ('M', 'ba', 'cSaSaSbSaSaSaSbSaSbSaSbSaSbS#'), ('M', 'accaba', 'cScSaSbS#'), ('M', '', 'aSaSbSbS#'), ('M', 'caccaba', 'SaSbSbScS#'), ('M', '', 'aScSaSbScS#'), ('M', 'ccaba', 'cSaScSaSbSaSbSaSbS#'), ('M', 'aba', 'cSbSaS#'), ('M', 'ccaba', 'aScSbSaSaSaSbSaSbSaSbSaSbS#'), ('M', 'caba', 'SaScScSaSbSaSbS#'), ('M', 'caba', 'SaScSbSaSaSbSaSbS#'), ('M', 'accaba', 'aSbSaSaSaSbSbSaSbS#'), ('M', 'acaccaba', 'aScScSaSbScS#'), ('M', 'accaba', 'aScScSbSaSaSbS#'), ('M', '', 'SbSaSaSaSaSbSaSaSaSbSaSbSaSbSaSbS#'), ('M', 'ba', 'bSaSaSaSbSaSaSbSaSbSaSbS#'), ('M', 'accaba', 'aSaSbSbSaSbS#'), ('M', 'ccaba', 'SbSaScScScS#'), ('M', 'aba', 'cSaSbSaSaSbS#'), ('M', '', 'cSaSbSaSaSbS#'), ('M', 'ba', 'SbSaSaSaSaSbSbSaSbS#'), ('M', 'accaba', 'SbSaSaSbSaSbS#'), ('M', 'ccaba', 'cScSbSaScS#'), ('M', 'ccaba', 'ScSaSbSaSbSaSbS#'), ('M', 'ccaba', 'aSaSbSbSaSaSbSaSbSaSbS#'), ('M', 'caba', 'aScScScScS#'), ('M', '', 'aSaSaSbSaSbSaSbSaSbS#'), ('M', '', 'aSaSbSbSaSaSaSaSaSbSaSbSaSbSaSbS#'), ('M', 'acaccaba', 'ScSbS#'), ('M', 'ccaba', 'bSaSaSbSaSbSaSbS#'), ('M', 'accaba', 'SaScSbSaSbS#'), ('M', '', 'SbSaSaSaSbSaSaSaSaSbSaSaSbSaSbSaSbSaSbS#'), ('M', 'a', 'cSaSaSaSbSaSaSbSaSbS#'), ('M', 'caccaba', 'cScScSbSaS#'), ('M', 'aba', 'aScSaSaSaSbSaSbSaSbSaSbS#'), ('M', 'ccaba', 'aSaSbSbSaSaSbSbS#'), ('M', '', 'SaSbSaSaSaSaSbSaSaSbSaSbSaSbSaSbS#'), ('M', '', 'bSaSaSaSaSaSbSaSbSaSbSaSbS#'), ('M', 'acaccaba', 'bSaSaSaSbSbS#'), ('M', 'ba', 'SaSbSaSaSbSaSbSaSbS#'), ('M', 'aba', 'bSaSaSaSaSaSbSaSbSaSbSaSbS#'), ('M', 'accaba', 'bSaSaScSbS#'), ('M', 'accaba', 'cSaScSaSbSaSbS#'), ('M', '', 'SaSaSbSaSaSaSbSaSaSbSaSbSaSbSaSbS#'), ('M', 'ccaba', 'ScSaSbScScS#'), ('M', 'aba', 'SaScSbS#'), ('M', 'caccaba', 'aScScSbScS#'), ('M', 'ccaba', 'aSaSbSaSbSaSaSbSaSbSaSbSaSbS#'), ('M', 'caccaba', 'aSaSbSaSbSbSaSbS#'), ('M', '', 'aSbSaSbSaSaSaSaSbSaSaSaSbSaSaSbSaSbSaSbSaSbS#'), ('M', '', 'SaScScScS#'), ('M', 'ba', 'aScScSaSaSbSbS#'), ('M', 'ba', 'aSaSbSaSbSaSaSbSaSbSaSbS#'), ('M', 'accaba', 'aScSaScSbSaSbS#'), ('M', '', 'bSaSaSbS#'), ('M', 'ccaba', 'SbSbS#'), ('M', '', 'aSbSaSaSbSaSaSbSaSbS#'), ('M', 'ccaba', 'aSaSbSbSaSbSaSbS#'), ('M', 'accaba', 'SaSbSaSaSbSbS#'), ('M', 'ba', 'aSaSbSaSaSbSaSaSbSaSbSaSbSaSbS#'), ('M', 'accaba', 'aSaSbSaSbSaSaSbSaSbSaSbS#'), ('M', 'caccaba', 'SaSbSbSaSbS#'), ('M', 'ba', 'SaSbScScS#'), ('M', '', 'cSaScSaSaSaSbSaSaSaSbSaSaSbSaSbSaSbSaSbS#'), ('M', 'acaccaba', 'aScSaSbSbS#'), ('M', '', 'cSaSaSaSbSaSaSbSaSbSaSbS#'), ('M', 'ba', 'cSaSbSbSaS#'), ('M', 'caba', 'cScSbSaS#'), ('M', 'ba', 'cSaScSaSbSaSbS#'), ('M', 'aba', 'SaSaSbSaScSbS#'), ('M', 'ccaba', 'SaSbSbScS#'), ('M', 'ccaba', 'cSaScScSbSaSaSbS#'), ('M', 'ccaba', 'cSaScScSbS#'), ('M', '', 'SaSaSaSbSaSbSaSbSaSbS#'), ('M', 'a', 'aScSaSbS#'), ('M', 'caccaba', 'ScScSbS#'), ('M', 'aba', 'bSaSaSaSbSaSbS#'), ('M', 'ba', 'aScSbSaSbS#'), ('M', 'aaacaccaba', 'bSaSaSbSaS#'), ('M', 'caba', 'bSaSaSaSaSbSaSbSaSbSaSbS#'), ('M', 'accaba', 'SaSbSaSbScS#'), ('M', 'ccaba', 'aScSaSbSbSaSbS#'), ('M', 'accaba', 'aSbSaScSbS#'), ('M', 'aba', 'aScSaSbScS#'), ('M', '', 'cSbSaS#'), ('M', 'caba', 'bSaSaSaSbSbS#'), ('M', 'ba', 'aScSbSaSaSaSaSbSaSaSbSaSbSaSbSaSbS#'), ('M', 'ba', 'aSaSbSbScS#'), ('M', 'acaccaba', 'bSaSaSbScS#'), ('M', 'ba', 'ScSaSaSbSaSbSaSbS#'), ('M', 'ba', 'SaSbSaSbSaSaSbSaSbS#'), ('M', 'caccaba', 'cSbSbSaS#'), ('M', 'accaba', 'cSaSaScSaSbSaSbSaSbS#'), ('F', 'aaaacaccaba', '#'), ('M', 'caccaba', 'aSbSaSbSaSaSbSaSbSaSbS#'), ('M', 'ba', 'cSaSaSbSbS#'), ('M', 'acaccaba', 'aSaSbSaSbSbS#'), ('M', 'a', 'cSaSaSaSbSaSaSaSaSbSaSaSbSaSbSaSbSaSbS#'), ('M', '', 'cSaScSaSaSbSaSbS#'), ('M', 'aba', 'aScSaSaSbSaSbSaSbS#'), ('M', 'caccaba', 'aSbSaSaSbSaSbSaSbSaSbS#'), ('M', 'caba', 'SbSbSaS#'), ('M', 'ccaba', 'aSbSbSaSbS#'), ('M', 'aacaccaba', 'cSaSbS#'), ('M', 'ba', 'ScScSbSaS#'), ('M', 'caba', 'SaSaSbSaSaSbSaSbSaSbSaSbS#'), ('M', 'accaba', 'cSaScScSbSaS#'), ('M', 'accaba', 'aScSaSbSaScSbS#'), ('M', 'caba', 'SbSaSbS#'), ('M', 'ba', 'ScSaSaScSaSaSbSbSaSbS#'), ('M', '', 'bSaSaSbSaSaSaSaSbSaSbSaSbS#'), ('M', 'aacaccaba', 'aScSbSaScS#'), ('M', 'caba', 'SaSbSaSbSaSbS#'), ('M', 'acaccaba', 'cSaSaSbScScS#'), ('M', 'ccaba', 'bSaSaSbSbS#'), ('M', 'caccaba', 'aSaSbSbSbS#'), ('M', 'accaba', 'SaSbSaSaSbSaSbSaSbS#'), ('M', 'ba', 'cSaSaScSbScS#'), ('M', 'caccaba', 'aSbSaSaSbSaSbSbS#'), ('M', 'ba', 'cSaSaScSaSbSaSaSbSaSbSaSbS#'), ('M', 'ba', 'aSbSaSbSbSaS#'), ('M', 'ba', 'cScSaSbS#'), ('M', 'caba', 'aScSbSaSaSbSaSbS#'), ('M', 'aba', 'aSaSbSaSaSaSbSaSbSaSbSaSbS#'), ('M', 'caba', 'SaScSaSbSaSaSbSaSbSaSbS#'), ('M', 'ba', 'aScSaSbSaSbSaSbS#'), ('M', 'ba', 'cSaSaSaSbSaSbSaSbSaSbS#'), ('M', '', 'SaScSbS#'), ('M', '', 'aScSbSaSaSaSaSbSaSbSaSbS#'), ('M', 'a', 'cSaSbSaS#'), ('M', 'a', 'aScSbSaS#'), ('M', 'ccaba', 'bSaSaSbSbSaSaSbS#'), ('M', 'acaccaba', 'aScScSbS#'), ('M', 'caba', 'SaSaSbSaSbSbS#'), ('M', 'a', 'SaSbSaSaSbS#'), ('M', 'caba', 'cSaScSaSbScS#'), ('M', 'ba', 'ScSaSaSaSbSaSaSbSaSbSaSbSaSbS#'), ('M', 'ba', 'cSaSaSaSbScSbS#'), ('M', 'acaccaba', 'bSaSaScSbS#'), ('M', 'aba', 'SaScSaSbSaSbS#'), ('M', '', 'aSaSbSaSbSaSbS#'), ('M', 'caba', 'SaScSaScSbSaSbS#'), ('M', '', 'SaSbSaSaSbSaSaSaSaSbSaSaSbSaSbSaSbSaSbS#'), ('M', 'aba', 'aSaSbSaSbSaSbS#'), ('M', 'ccaba', 'ScSaSaSbSaSbSaSbSaSbS#'), ('M', 'aacaccaba', 'aSbSaSbS#'), ('M', 'caba', 'aSaSbSbSaSaSbSaSbS#'), ('M', 'accaba', 'aScSaSbSaSbSaSbS#'), ('M', 'caccaba', 'cSaSbSaSaSbSbS#'), ('M', 'ba', 'ScScScS#'), ('M', 'aba', 'aScSaSaScSbSaSaSbSaSbS#'), ('M', 'aba', 'SbSaSaSbS#'), ('M', 'aba', 'aScScSaSbS#'), ('M', 'ccaba', 'ScSaScSbSaSbS#'), ('M', 'caccaba', 'SbSaSbScS#'), ('M', '', 'cSaSaSaSbSaSaSaSbSaSaSbSaSbSaSbSaSbS#'), ('M', 'caba', 'aScSbSbSaS#'), ('M', 'caccaba', 'ScSaSbScScS#'), ('M', 'a', 'bSaSaSaSaSbSaSbS#'), ('M', 'accaba', 'ScScScS#'), ('M', '', 'bSaSaSbSaSaSaSaSbSaSaSaSbSaSaSbSaSbSaSbSaSbS#'), ('M', 'caba', 'SbSaScScS#'), ('M', 'acaccaba', 'ScScScS#'), ('M', 'ba', 'aScSaSbSaScSbS#'), ('M', 'aaacaccaba', 'cSaSaSbS#'), ('M', 'caccaba', 'SbSaSbSaSaSbSaSbS#'), ('M', 'caba', 'bSaSbS#'), ('M', 'ba', 'cSaSaScSbSaSbS#'), ('M', 'caccaba', 'cSaSbSaSbScS#'), ('M', '', 'aScSaSaSbSaSaSbSaSbSaSbS#'), ('M', 'ccaba', 'aSbSaSaSbSaSbSaSbSaSbS#'), ('M', 'ccaba', 'ScScScSbSaS#'), ('M', 'caba', 'aSaSbSaSbSaSaSaSbSaSbSaSbSaSbS#'), ('M', 'caba', 'SaScSbSbSaS#'), ('M', 'ba', 'bSaSaSaSbSaSaSaSbSaSbSaSbSaSbS#'), ('M', 'caccaba', 'bSaSbSaSaSbSaSbS#'), ('M', 'accaba', 'aScSaSbSaSaSbSaSbSaSbS#'), ('M', 'caccaba', 'cSbScS#'), ('M', '', 'aScSaSaSbSaSaSaSbSaSaSbSaSbSaSbSaSbS#'), ('M', 'ba', 'cSaSbSaSaSbSaSbS#'), ('M', 'aba', 'bS#'), ('M', '', 'ScScS#'), ('M', 'aaacaccaba', 'aSaSbSbSaS#'), ('M', 'caba', 'aScSaSbSaSaSaSbSaSbSaSbSaSbS#'), ('M', 'a', 'bSaSaSaSaSaSaSbSaSbSaSbSaSbS#'), ('M', 'caccaba', 'bSaSaSbSbS#'), ('M', 'ccaba', 'SbSaSbScS#'), ('M', 'caccaba', 'SaSbSaSbSbS#'), ('M', 'accaba', 'aSaSbSaSbSbS#'), ('M', 'caccaba', 'cSaScSbSaSaSbSaSbS#'), ('M', 'aba', 'SaSaSbSaSbSaSbS#'), ('M', '', 'aScSaSbSaSaSaSaSbSaSbSaSbSaSbS#'), ('M', '', 'ScSaSaSaSaSbSaSbSaSbSaSbS#'), ('M', '', 'SaSaSaSbSbSaSbS#'), ('M', 'caccaba', 'ScScScScS#'), ('M', 'caba', 'SaScSaSaSbSbSaSbS#'), ('M', 'caba', 'aScScSaSbScS#'), ('M', 'accaba', 'cSaSaScSbScS#'), ('M', '', 'cSaSaSaSaSbSaSbSaSbSaSbS#'), ('M', 'caba', 'cSaSaSaSbSaSaSbSaSbSaSbSaSbS#'), ('M', 'ccaba', 'aSbSaSbSbS#'), ('M', 'aaacaccaba', 'aSbSaSbSaS#'), ('M', 'a', 'aScSaSaScSbS#'), ('M', 'a', 'aSbSaScS#'), ('M', 'accaba', 'aSbSaSaSbSaSaSbSaSbSaSbS#'), ('M', 'caccaba', 'cSaSaSbScSbS#'), ('M', 'aacaccaba', 'bSaSaSbS#'), ('M', 'aba', 'SaScScSaSbS#'), ('M', 'aba', 'aSaSbSaSaSbSbS#'), ('M', 'ccaba', 'bSaSbSaSaSbSaSbS#'), ('M', '', 'cScS#'), ('M', 'a', 'aScSaSaSbSaSbS#'), ('M', 'aba', 'aSaSbSaSaSaSbSaSaSbSaSbSaSbSaSbS#'), ('M', 'caba', 'bScS#'), ('M', 'ba', 'SaSbSaSaSbSbS#'), ('M', 'ccaba', 'bSaSaSaSbSaSbSbS#'), ('M', 'aacaccaba', 'aScScScS#'), ('M', 'accaba', 'cSaSaSbSbS#'), ('M', 'accaba', 'aScScSbS#'), ('M', 'ccaba', 'ScScSaSbSaSbS#'), ('M', '', 'bSaSaSaSbSaSaSaSaSbSaSaSbSaSbSaSbSaSbS#'), ('M', '', 'aSaSbSbSaSaSbS#'), ('M', 'aba', 'cSaSaSaSbSaSaSaSbSaSbSaSbSaSbS#'), ('M', 'aba', 'SaSaSbSaSaSbSaSbSaSbS#'), ('M', '', 'aScScScS#'), ('M', 'accaba', 'aSaSbSbScS#'), ('M', '', 'cSaSaSaSbSaSaSaSbSaSbSaSbSaSbS#'), ('M', 'aba', 'aSaSbSbSaSaSbS#'), ('M', '', 'aSaSbSaSaSaSbSaSbSaSbSaSbS#'), ('M', 'ba', 'SaScSaSaSbSbSaSbS#'), ('M', 'aba', 'aSaScScSbS#'), ('M', 'aba', 'aSaScSaSbSaSaSbSaSbSaSbS#'), ('M', '', 'SbSaSaSbS#'), ('M', 'caba', 'aScSaSaSbSbSaSbS#'), ('M', 'ccaba', 'bSaSaSbScScS#'), ('M', 'ba', 'aScSaScSbScS#'), ('M', 'caba', 'aScSaScScSbS#'), ('M', '', 'aScScSaSaSaSaSbSaSbSaSbSaSbS#'), ('M', 'caba', 'aScScScSaSbS#'), ('M', 'ccaba', 'aScSbSaSaSbSbS#'), ('M', 'a', 'cSaScS#'), ('M', 'acaccaba', 'SbSaSbSaSaSbS#'), ('M', 'caccaba', 'cScSbSaSaSbS#'), ('M', '', 'SbSaSaSaSaSbSaSaSbSaSbSaSbS#'), ('M', 'caba', 'SaSbSaSaSaSbSaSbSaSbSaSbS#'), ('M', 'acaccaba', 'SbScS#'), ('M', 'ccaba', 'SbScScS#'), ('M', 'aacaccaba', 'cSaSbSaSaSbS#'), ('M', 'ccaba', 'cScSbS#'), ('M', 'acaccaba', 'aScSaSbSaSbSaSbS#'), ('M', 'caccaba', 'ScScSbSaSaSbS#'), ('M', 'caba', 'cSaSaScScSbS#'), ('M', 'acaccaba', 'ScSaSbScS#'), ('M', 'caba', 'aScSaSaSbSaSbSaSbSaSbS#'), ('M', 'ba', 'ScSaSaSaSbSbSaSbS#'), ('M', '', 'cSaScSaSaSbSaSaSbSaSbS#'), ('M', '', 'aScSbSaSaSaSbSaSbS#'), ('M', 'ba', 'cSaSaScSbSaSaSbSaSbS#'), ('M', 'ba', 'aSaSbSbSaSbS#'), ('M', 'aacaccaba', 'ScScS#'), ('M', 'accaba', 'cSaSaScSbSaSaSbSaSbS#'), ('M', 'ba', 'aSbSaSaSaSbSbSaSbS#'), ('M', 'a', 'aScSaSaSbSaSaSbSaSbS#'), ('M', '', 'SaSbSaSaSaSbSaSbSaSbS#'), ('M', '', 'bSaSaScScS#'), ('M', 'caccaba', 'cSbSaScScS#'), ('M', 'caba', 'aSaSbSaSbSaSbSaSbS#'), ('M', 'accaba', 'SaSaSbSbScS#'), ('M', 'ccaba', 'aScScSbSbSaS#'), ('M', 'ba', 'ScSbSaScS#'), ('M', 'aba', 'aScSaSaScSaSbSaSaSbSaSbSaSbS#'), ('M', 'caba', 'bSaSaSbSaSbS#'), ('M', 'caccaba', 'cScSbSaScS#'), ('M', 'caccaba', 'aSaSbSbSaSaSbSaSbSaSbS#'), ('M', 'aba', 'aScSaSaSbSaSaSbSaSbSaSbS#'), ('M', '', 'SaSbScS#'), ('M', 'a', 'bSaSaSaSaSaSbSaSaSaSbSaSbSaSbSaSbS#'), ('M', 'caba', 'cSaSaScSaSaSbSaSbSaSbSaSbS#'), ('M', 'caba', 'aScSaSbSaScSbS#'), ('M', 'a', 'aScSaSaSbSaSaSaSaSbSaSbSaSbSaSbS#'), ('M', 'acaccaba', 'aSbSaSbSbSaS#'), ('M', 'aba', 'cSaSaSaSbSaScSbS#'), ('M', 'ccaba', 'SbSbSaSaSbS#'), ('M', 'caccaba', 'cSaSbSbS#'), ('M', 'caccaba', 'cSaScScSbSaSaSbS#'), ('M', 'aaacaccaba', 'SaSbS#'), ('M', 'caccaba', 'aScScSbSaSbS#'), ('M', 'accaba', 'aScSbSaScScS#'), ('M', 'accaba', 'bSaSaSaSbSaSaSbSaSbSaSbS#'), ('M', 'caba', 'cSaSaSaSbSbSaSbS#'), ('M', 'aba', 'SaScSbSaSaSbS#'), ('M', 'a', 'aSaSbSbSaS#'), ('M', '', 'SbSaSaSaSbSaSaSaSbSaSbSaSbS#'), ('M', 'ba', 'aSbSaSaSaSbSaSaSbSaSbSaSbSaSbS#'), ('M', 'caccaba', 'aScScScSbS#'), ('M', 'ba', 'SbSaSaSaSbSaSaSbSaSbSaSbS#'), ('M', 'acaccaba', 'bSaSaSbSbSaS#'), ('M', 'aacaccaba', 'SbSaSaSbS#'), ('M', '', 'aScSaSaSbSaSaSaSbSaSbSaSbSaSbS#'), ('M', 'a', 'bSaSaScS#'), ('M', 'caba', 'SaSbSaSbScS#'), ('M', 'accaba', 'bSaSaSaSaSbSaSbSaSbSaSbS#'), ('M', '', 'cSaScSaSaSaSbSaSaSaSbSaSbSaSbSaSbS#'), ('M', 'aacaccaba', 'aSaSbSbSaSaSbS#'), ('M', 'ba', 'aSbSaSaSbSaSaSaSbSaSaSbSaSbSaSbSaSbS#'), ('M', 'caba', 'cScScS#'), ('M', 'aba', 'SaSaSbScScS#'), ('M', 'ccaba', 'aSbSaSbSaSaSbSbS#'), ('M', 'aaacaccaba', 'aSaSbScS#'), ('M', 'caba', 'cSbSaSaSbS#'), ('M', 'ba', 'aScSbSaSaSaSbSaSbSaSbS#'), ('M', 'acaccaba', 'ScSbSaSaSbS#'), ('M', '', 'bSaSaSbSaSaSaSbSaSbS#'), ('M', 'caccaba', 'ScSbScS#'), ('M', 'ccaba', 'ScSbSbSaS#'), ('M', 'ba', 'aSbSaSaSbSaSaSbSaSbSaSbS#'), ('M', 'accaba', 'ScScSaSbS#'), ('M', 'accaba', 'ScSbSaSaSbS#'), ('M', 'a', 'aSbSaSbSaS#'), ('M', 'aaacaccaba', 'cS#'), ('M', 'acaccaba', 'aSbSaSbSaSbS#'), ('M', '', 'aScSaSbSaSaSaSaSbSaSaSbSaSbSaSbSaSbS#'), ('M', 'a', 'aScSaSaSaSbSaSaSbSaSbSaSbS#'), ('M', 'caccaba', 'ScScScSbSaS#'), ('M', 'ba', 'bSaSaSaSbSaSaSaSbSaSaSbSaSbSaSbSaSbS#'), ('M', 'aba', 'aScSaSaScSaSaSbSbSaSbS#'), ('M', 'aba', 'aSaScSbSaSaSbSaSbS#'), ('M', 'acaccaba', 'aSbSaSaSbSaSbSaSbS#'), ('M', 'ba', 'aSbSaSbScS#'), ('M', 'ba', 'aSbSaSaSbSbS#'), ('M', 'caba', 'SaScSaSbSbS#'), ('M', 'ccaba', 'aScSbSaSaSbSaSbSaSbS#'), ('M', 'ba', 'aSbSaSaSbSaSaSaSbSaSbSaSbSaSbS#'), ('M', '', 'bS#'), ('M', 'a', 'aSaSbSaSaSbSaSaSaSaSbSaSaSbSaSbSaSbSaSbS#'), ('M', 'ccaba', 'ScScSbSaScS#'), ('M', 'caba', 'SaScSaSbSaSbSaSbS#'), ('M', '', 'aSbSaSbSaSaSaSaSaSbSaSbSaSbSaSbS#'), ('M', 'caba', 'bSaSaSaSaSbSbSaSbS#'), ('M', 'accaba', 'SaSaSbScSbS#'), ('M', 'ba', 'aScSbSaScScS#'), ('M', 'ba', 'aSbScScS#'), ('M', 'aacaccaba', 'aScSaSbSaSbS#'), ('M', 'ccaba', 'ScSaScSbScS#'), ('M', 'caccaba', 'bSaSaScSbScS#'), ('M', 'accaba', 'cSaSaScSbSaSbS#'), ('M', 'accaba', 'aScSaSaSbSbSaSbS#'), ('M', 'acaccaba', 'aScScScSaSbS#'), ('M', 'aba', 'aScSaSaScSaSbSaSbSaSbS#'), ('M', '', 'aScSbSaSaSbS#'), ('M', 'ccaba', 'aSaSbSbSaSaSaSbSaSbSaSbSaSbS#'), ('M', 'ba', 'ScSaSaScSaSbSbS#'), ('M', 'ba', 'bSaScScS#'), ('M', 'aba', 'cSaSaSaScSaSaSbSaSbSaSbSaSbS#'), ('M', '', 'aScSbSaSaSaSaSbSaSaSaSbSaSaSbSaSbSaSbSaSbS#'), ('M', 'ccaba', 'cSaScSaScSbSaSbS#'), ('M', 'ccaba', 'bSbSaSaSbS#'), ('M', 'ba', 'aScScSaSaSaSbSbSaSbS#'), ('M', 'aaaacaccaba', 'aSbSaS#'), ('M', 'ba', 'bSaSaSaSbSbS#'), ('M', 'aba', 'SaSaScSaSaSbSaSbSaSbSaSbS#'), ('M', 'accaba', 'aSbSaSbSbSaS#'), ('M', 'a', 'cSaSaSaScSbS#'), ('M', 'ba', 'bSaSaSaSaSbSaSbSaSbSaSbS#'), ('M', '', 'cSaSaSbSaSaSbSaSbS#'), ('M', 'caccaba', 'bSaSaScScSbS#'), ('M', '', 'aSaSbSaSaSaSbSaSaSbSaSbSaSbSaSbS#'), ('M', '', 'aSaSbSbSaSaSaSbSaSbS#'), ('M', 'a', 'aSbS#'), ('M', 'caba', 'cSaScScSaSbS#'), ('M', 'ccaba', 'cSaScScSaSbSaSbS#'), ('M', 'ba', 'ScSaSaScSaSbSaSaSbSaSbSaSbS#'), ('M', 'caccaba', 'ScSbSaScScS#'), ('M', 'acaccaba', 'cSaScScSaSbS#'), ('M', 'ba', 'bSaSaSbSaSbS#'), ('M', 'caba', 'aSaSbSaSaSbSaSbSaSbSaSbS#'), ('M', 'ba', 'ScSaSaSbSaSaSbSaSbSaSbS#'), ('M', 'ccaba', 'SbSaSaSaSbSbSaSbS#'), ('M', 'aba', 'bSaSaSaSaSbSbS#'), ('M', 'a', 'aSaSaSbSaSbSaSbS#'), ('M', 'aba', 'SaSbSbSaS#'), ('M', 'accaba', 'aScSaScSbSaSaSbSaSbS#'), ('M', '', 'aSbSbSaS#'), ('M', 'aba', 'aSbSaSaSaSbSaSaSbSaSbSaSbS#'), ('M', 'ccaba', 'aScScSbScS#'), ('M', 'aba', 'aScSaSaSbSaSaSaSbSaSbSaSbSaSbS#'), ('M', 'caba', 'cSaSaSaSbScSbS#'), ('M', '', 'aSbSaSbS#'), ('M', 'ba', 'SaSbSaSaSbSaSaSbSaSbSaSbS#'), ('M', 'ba', 'SaScSaSbSbS#'), ('M', 'ccaba', 'ScSbSaSaSbSaSbS#'), ('M', '', 'aSaSaSbSbSaSbS#'), ('M', 'accaba', 'bSaSaScScScS#'), ('M', 'ccaba', 'bScScS#'), ('M', 'ba', 'aScSaSaSbSaSbSaSbSaSbS#'), ('M', 'ccaba', 'aScSaSbSaSbSaSbSaSbS#'), ('M', 'acaccaba', 'ScSaSbSaSbS#'), ('M', 'acaccaba', 'aScScScSbSaS#'), ('M', 'caccaba', 'aSbSaScSbSaSbS#'), ('M', 'ccaba', 'aScScSbSaSbS#'), ('M', 'ccaba', 'SbSaSaSbSbS#'), ('M', 'ba', 'SbSaSbSaSaSbS#'), ('M', 'caccaba', 'aScSbSaSaSbSaSbSaSbS#'), ('M', 'ccaba', 'aSaSbScScSbS#'), ('M', 'ccaba', 'aScSaSbScSbS#'), ('M', 'a', 'SaSbS#'), ('M', 'ba', 'cSaScSaSaSaSbSaSbSaSbSaSbS#'), ('M', 'ba', 'aScSaScSaSbSaSaSbSaSbSaSbS#'), ('M', 'accaba', 'SaSbScScS#'), ('M', 'ba', 'aScScSaSaSbSaSbSaSbS#'), ('M', 'ccaba', 'aScSbSbS#'), ('M', 'ccaba', 'SbSaSbSaSaSbSaSbS#'), ('M', 'caba', 'aSbSaSaSaSbSaSaSbSaSbSaSbSaSbS#'), ('M', 'caba', 'bSaSaSbSaSaSbSaSbS#'), ('M', 'a', 'cSaSaSaSaSbSaSaSbSaSbSaSbS#'), ('M', 'a', 'SaSaSaSaSbSaSaSbSaSbSaSbSaSbS#'), ('M', 'ba', 'aScSbSaSaSaSaSbSaSbSaSbSaSbS#'), ('M', '', 'aSaSbSbSaSaSaSaSbSaSbSaSbS#'), ('M', 'caba', 'SaScSbScS#'), ('M', 'a', 'aSbSaSaSaSbSaSaSbSaSbS#'), ('M', 'ba', 'cSaSaScSaSbSaSbSaSbS#'), ('M', '', 'aSbSaSaSaSbSaSaSaSbSaSaSbSaSbSaSbSaSbS#'), ('M', 'caba', 'cSaSaSbSbS#'), ('M', 'acaccaba', 'aScSbSbSaS#'), ('M', 'caccaba', 'ScScSaSbSaSbS#'), ('M', 'accaba', 'aScScScSaSbS#'), ('M', 'ccaba', 'cScScSbSaS#'), ('M', 'accaba', 'aScSaScSaSbSaSbSaSbS#'), ('M', 'ba', 'SaScSaSaSbSaSbSaSbSaSbS#'), ('M', 'acaccaba', 'cSaSbSbSaS#'), ('M', 'ba', 'bSaSaScSbS#'), ('M', 'ba', 'aSbSaScSbS#'), ('M', 'caccaba', 'aSaSbScScSbS#'), ('M', 'a', 'aScSaSaSaSbSaSaSaSbSaSaSbSaSbSaSbSaSbS#'), ('M', 'aba', 'aScSaSbSaSaSbSaSbS#'), ('M', 'aba', 'aScSaSaScSbSaSbS#'), ('M', '', 'aScSaSbSaSaSbSaSbS#'), ('M', 'ba', 'ScSaSaSbSaScSbS#'), ('M', 'caba', 'aSaSbScScScS#'), ('M', 'caba', 'aScSaSaSbScSbS#'), ('M', 'ccaba', 'aSaSbSaSbSbSaSbS#'), ('M', 'ba', 'aSbSaSbSaSaSaSaSbSaSbSaSbSaSbS#'), ('M', 'ba', 'aScScSaSaSaSbSaSaSbSaSbSaSbSaSbS#'), ('M', 'aba', 'aScSaSaSaSbSbSaSbS#'), ('M', 'caccaba', 'cSaSaSbSaSbSaSbSaSbS#'), ('M', 'ccaba', 'bSaSbSaSbS#'), ('M', 'caccaba', 'SbSaScSbS#'), ('M', 'caba', 'SaSaSbSbSaSbS#'), ('M', 'caccaba', 'SbScScS#'), ('M', '', 'ScSaSaSaSbSaSaSbSaSbSaSbS#'), ('M', 'ba', 'aScScSbS#'), ('M', 'ba', 'aScSaSbSaSaSbSaSbSaSbS#'), ('M', 'aba', 'cSaSaSaSbSaSbSaSbS#'), ('M', 'ccaba', 'aScScSaSbSbS#'), ('M', '', 'aSaSbSaSbSaSaSaSbSaSbSaSbS#'), ('M', 'aba', 'SaSbScS#'), ('M', '', 'ScSaSaSbSaSbS#'), ('M', '', 'aScScSaSaSaSaSbSaSaSbSaSbSaSbSaSbS#'), ('M', 'a', 'aSaSaSaSbSbSaSbS#'), ('M', 'ccaba', 'cSaSbSaSaSbSaSbSaSbS#'), ('M', 'aba', 'aSbSaSbS#'), ('M', 'ccaba', 'aSbSaSaSbSaSaSbSaSbSaSbSaSbS#'), ('M', 'acaccaba', 'aScSbSaScScS#'), ('M', 'aba', 'aSaSaSbSaSaSbSaSbSaSbSaSbS#'), ('M', 'caba', 'cSaSbSaSaSbSaSbS#'), ('M', '', 'aSbSaSbSaSaSaSaSbSaSbSaSbS#'), ('M', '', 'cSaScSaSaSaSbSaSaSbSaSbSaSbS#'), ('M', '', 'aSbScS#'), ('M', 'aba', 'aSbSaSaSaSaSbSbSaSbS#'), ('M', 'ba', 'SaSbSaSaSbSaSaSaSbSaSbSaSbSaSbS#'), ('M', '', 'aSaSbSaSaSbSaSaSaSbSaSaSbSaSbSaSbSaSbS#'), ('M', 'acaccaba', 'aSaSbScScScS#'), ('M', 'a', 'bSaSaSaSaSbSaSaSaSaSbSaSbSaSbSaSbS#'), ('M', 'ccaba', 'bSbS#'), ('M', 'acaccaba', 'bSaSaSaSbSaSbSaSbS#'), ('M', '', 'SaSaSbSaSaSbSaSbSaSbS#'), ('M', 'aaaacaccaba', '#'), ('M', 'aacaccaba', 'aSbSaSaSbSaSbS#'), ('M', 'caba', 'aSbSaSbSbSaS#'), ('M', 'aaacaccaba', 'aScScS#'), ('M', 'a', 'aSaSbSaSaSbSaSbS#'), ('M', 'aba', 'cSaSaScSaSbSaSbS#'), ('M', 'ccaba', 'aScScScSaSbSaSbS#'), ('M', 'ba', 'SbScS#'), ('M', 'ccaba', 'ScScScSaSbS#'), ('M', '', 'aSaSbSaSbSaSaSbSaSbS#'), ('M', '', 'cSaScScS#'), ('M', 'caccaba', 'aSbSaSbSbS#'), ('M', 'ba', 'bSaSaSaSaSbSbSaSbS#'), ('M', 'acaccaba', 'bSaSaSbSaSbS#'), ('M', 'aba', 'cSaSaScSbSaSaSbS#'), ('M', '', 'aScScSaSaSaSbSaSaSaSbSaSbSaSbSaSbS#'), ('M', 'acaccaba', 'SaSbScScS#'), ('M', 'caccaba', 'aScSaSbSaSbSbS#'), ('M', 'ccaba', 'SaSbSbSaSbS#'), ('M', 'caccaba', 'SbSbSaSaSbS#'), ('M', 'aba', 'bSaSaSbSaSaSbS#'), ('M', 'ba', 'SbSaSaSbSaSbS#'), ('M', 'ba', 'cSaScSaSaSbSaSaSaSbSaSbSaSbSaSbS#'), ('M', 'ccaba', 'SaSbSaSbSaSbSaSbS#'), ('M', 'caba', 'aSbSaSbSaSbS#'), ('M', 'caba', 'SaSbSbSaSaSbS#'), ('M', 'ba', 'cSbSaScS#'), ('M', 'caba', 'aScSaSbScScS#'), ('M', 'ccaba', 'cSbSaSaSbSaSbS#'), ('M', 'aba', 'cSaScSbSaS#'), ('M', 'caba', 'ScSbSaSaSbS#'), ('M', 'ba', 'aSaSbSaSbSaSaSaSbSaSbSaSbSaSbS#'), ('M', 'ccaba', 'aSbSbSbSaS#'), ('M', '', 'aSaSbSaSaSbSaSaSbSaSbSaSbS#'), ('M', 'aba', 'SaScScScS#'), ('M', 'aacaccaba', 'aSbSaScScS#'), ('M', 'caccaba', 'SbSaSaSbSbS#'), ('M', 'ba', 'aScScSaScSbS#'), ('M', 'caba', 'aSaSbSaSaSbSbSaSbS#'), ('M', 'ccaba', 'cScSaSbSaSbS#'), ('M', '', 'aScSaScSbS#'), ('M', 'aba', 'aSbSaSbSaSaSbS#'), ('M', 'caba', 'SaSbSaScSbS#'), ('M', 'ccaba', 'SaSbScSbS#'), ('M', '', 'cSaScSaSaSaSaSbSaSbSaSbSaSbS#'), ('M', 'ccaba', 'aSbSaSbScScS#'), ('M', '', 'ScSaSaSbSaSaSaSbSaSbSaSbS#'), ('M', '', 'SaSbSaSbS#'), ('M', 'ba', 'SbSaSaSaSaSbSaSaSbSaSbSaSbSaSbS#'), ('M', 'caccaba', 'aSbSaSbSbSaSaSbS#'), ('M', '', 'aSaSbSaSaSbSaSbSaSbS#'), ('M', 'aacaccaba', 'aScSaSbScS#'), ('M', 'ccaba', 'aSbSbScS#'), ('M', 'a', 'aSbSaSaSaSaSaSbSaSbSaSbSaSbS#'), ('M', 'aacaccaba', 'cSaScSaSbS#'), ('M', 'accaba', 'ScScSbSaS#'), ('M', 'aba', 'aScSaSaSbSbS#'), ('M', '', 'cSaSbSaSaSaSaSaSbSaSaSbSaSbSaSbSaSbS#'), ('M', '', 'aScSaSaSbSaSbSaSbS#'), ('M', 'ba', 'cSaSbSaSaSaSaSbSaSaSbSaSbSaSbSaSbS#'), ('M', 'accaba', 'cSaSaSaSbScSbS#'), ('M', 'caba', 'aScSbSaScScS#'), ('M', 'accaba', 'SaSbSbS#'), ('M', 'ba', 'SbSaSaSaSaSbSaSbSaSbSaSbS#'), ('M', 'a', 'SaSaSbSaSaSaSaSbSaSbSaSbSaSbS#'), ('M', 'caba', 'cSaScScSbSaS#'), ('M', 'ba', 'bScS#'), ('M', 'aacaccaba', 'bSaSaSbSaSaSbS#'), ('M', '', 'SaSaSbSaSbSaSbS#'), ('M', 'a', 'aSaSaSbSaSaSaSbSaSaSbSaSbSaSbSaSbS#'), ('M', 'ba', 'aSaSbSbSbSaS#'), ('M', 'caccaba', 'cSaSbScScS#'), ('M', 'ccaba', 'aSaSbSbSbSaSaSbS#'), ('M', 'caba', 'aScScSbSaSaSbS#'), ('M', 'aba', 'SaSaSaSbSbSaSbS#'), ('M', 'aba', 'cSaSaSbSaSaSbSaSbS#'), ('M', 'acaccaba', 'SaSbSaSbSaSbS#'), ('M', 'caccaba', 'cSaScSbSaSbS#'), ('M', '', 'ScSaSbS#'), ('M', 'caccaba', 'bSaSaSbSaSaSbSbS#'), ('M', 'accaba', 'aScSbSaSbS#'), ('M', 'accaba', 'SaSbSaSbSaSbS#'), ('M', 'caccaba', 'aScSbSaScSbS#'), ('M', '', 'aSaSbScScS#'), ('M', 'a', 'bSaSaSaSbS#'), ('M', 'caba', 'SaSbSaSaSbSaSbSaSbS#'), ('M', '', 'cSaSbSaSaSaSaSbSaSaSaSbSaSaSbSaSbSaSbSaSbS#'), ('M', 'aba', 'aSaSbSaScSbS#'), ('M', 'ccaba', 'bSaSaSbSaSaSaSbSaSbSaSbSaSbS#'), ('M', 'caba', 'aSbSaSbSaSaSbSaSbS#'), ('M', '', 'SbSaSaSaSbSaSaSbSaSbS#'), ('M', 'a', 'cSaSaSaSaSaSbSaSaSbSaSbSaSbSaSbS#'), ('M', 'ba', 'bSaSaSbSaSaSaSbSaSbSaSbS#'), ('M', 'aba', 'cScS#'), ('M', 'ccaba', 'cSaSbSaSbScS#'), ('M', 'ba', 'aScSaScSaSaSbSaSbSaSbSaSbS#'), ('M', 'a', 'aSbSaSaSaSaSbSaSaSbSaSbSaSbS#'), ('M', 'ba', 'cSaScScSbSaS#'), ('M', 'a', 'SbSaS#'), ('M', 'caccaba', 'bSaSaSbSaSaSbSaSbSaSbS#'), ('M', 'ccaba', 'aScSbSaSbScS#'), ('M', 'caccaba', 'aSaSbSbSaSbSaSbS#'), ('M', '', 'SaSaSbSaSaSaSbSaSbSaSbSaSbS#'), ('M', '', 'aSbSaSbSaSaSaSbSaSbS#'), ('M', 'caccaba', 'SbSaSbSbSaS#'), ('M', 'caccaba', 'cSaScScScScS#'), ('M', 'acaccaba', 'bSaSbS#'), ('M', 'a', 'bSaSaSaSaSbSaSaSaSbSaSbSaSbS#'), ('M', 'ba', 'cSaScScScS#'), ('M', 'aba', 'cSaSaSaScSbSaSbS#'), ('M', 'aba', 'SaSaSaSbSaSaSbSaSbSaSbSaSbS#'), ('M', 'ba', 'cSaScSaScSbS#'), ('M', 'caccaba', 'aSbSbSaSaSbSaSbS#'), ('M', 'accaba', 'SaScScSbS#'), ('M', 'caccaba', 'cScScSaSbS#'), ('M', 'acaccaba', 'aSbSbSaSaSbS#'), ('M', 'ba', 'cSaSaSaSbSbSaSbS#'), ('M', 'ba', 'aScSaScSbSaSbS#'), ('M', 'acaccaba', 'bSaSaSbSaSaSbSaSbS#'), ('M', 'a', 'aScSaSaSaSaSbSaSaSbSaSbSaSbSaSbS#'), ('M', 'accaba', 'bSaSaSbSaSaSbSaSbS#'), ('M', 'aba', 'SaScScSbSaS#'), ('M', 'aba', 'cSaSbS#'), ('M', 'caba', 'SaSbSaSaSbSbS#'), ('M', 'a', 'bSaS#'), ('M', 'ccaba', 'cSaSaSbSaSaSbSaSbSaSbSaSbS#'), ('M', 'aaacaccaba', 'ScS#'), ('M', 'caba', 'aScSaScSbSaSbS#'), ('M', 'aba', 'SaSaScScSbS#'), ('M', 'caba', 'aSbSaScSbS#'), ('M', 'aba', 'SaSaScSbSaSbS#'), ('M', 'ba', 'aScScSaSbSaSaSbSaSbS#'), ('M', 'ccaba', 'cSaSaSbScSbS#'), ('M', 'caccaba', 'aSbSaScScSbS#'), ('M', 'caccaba', 'ScScScSaSbS#'), ('M', 'ba', 'SaScSbSaSbS#'), ('M', 'caccaba', 'aSbSaSbSaSaSbSbS#'), ('M', 'caccaba', 'aSbScSbS#'), ('M', 'ccaba', 'cSaScSaSaSbSbSaSbS#'), ('M', 'caba', 'SbScS#'), ('M', 'caccaba', 'aScScSaSbSaSbSaSbS#'), ('M', '', 'cSaScSaSaSbSaSaSaSaSbSaSbSaSbSaSbS#'), ('M', 'ba', 'aSbSaSbSaSaSaSaSbSaSaSbSaSbSaSbSaSbS#'), ('M', 'accaba', 'cSaSbSbSaS#'), ('M', 'ccaba', 'aSaSbScSbSaSbS#'), ('M', 'caba', 'cSaSaSbSaScSbS#'), ('M', 'a', 'SaSaSbSaSaSaSaSbSaSaSbSaSbSaSbSaSbS#'), ('M', 'ba', 'cSaSaSbSaSaSaSbSaSaSbSaSbSaSbSaSbS#'), ('M', 'aacaccaba', 'SbS#'), ('M', 'aba', 'aSaSbSaSaSbSaSaSbSaSbSaSbS#'), ('M', 'a', 'aSbSaSaSaSbSaSaSaSaSbSaSaSbSaSbSaSbSaSbS#'), ('M', 'caccaba', 'aSbSbSaSbS#'), ('M', 'a', 'bSaSaSaSaSaSaSbSaSaSbSaSbSaSbSaSbS#'), ('M', 'caccaba', 'aSaSbSbScScS#'), ('M', 'caba', 'aSaSbSaSaSbSaSaSbSaSbSaSbSaSbS#'), ('M', '', 'ScSaSaSaSbSaSbSaSbS#'), ('M', 'caba', 'aSbSaSaSbSaSaSaSbSaSbSaSbSaSbS#'), ('M', 'aacaccaba', 'SaSbSaSbS#'), ('M', 'accaba', 'SaSaSbSaSbSbS#'), ('M', 'aacaccaba', 'cSaSbSaScS#'), ('M', 'accaba', 'aScSbScS#'), ('M', 'ba', 'aScSaSbSbS#'), ('M', 'aba', 'SaSbSaScScS#'), ('M', 'ba', 'aScScSbSaSaSbS#'), ('M', 'acaccaba', 'aSaSbSbSaSbS#'), ('M', 'ccaba', 'bSaSaSbSaSaSbSbS#'), ('M', 'acaccaba', 'aScSbScS#'), ('M', 'a', 'aSaSbSaSaSbSaSaSbSaSbS#'), ('M', 'aacaccaba', 'bS#'), ('M', 'ccaba', 'ScScScScS#'), ('M', 'acaccaba', 'SbSaSbS#'), ('M', 'ccaba', 'cScScScS#'), ('M', 'accaba', 'aScScSaSbScS#'), ('M', 'ccaba', 'cSaSaSbSaSbSbS#'), ('M', 'caba', 'cSaSbSaSbS#'), ('M', 'ba', 'SaScSaSbSaSaSbSaSbSaSbS#'), ('M', 'a', 'aScSaScScS#'), ('M', 'a', 'aSaSbSaSaSbSaSaSaSbSaSbSaSbS#'), ('M', 'acaccaba', 'aScSbSaSbS#'), ('M', 'aba', 'aSbSbSaS#'), ('M', 'accaba', 'ScSbS#'), ('M', 'ba', 'aScScSaSaSbSaSaSaSbSaSbSaSbSaSbS#'), ('M', 'acaccaba', 'aSbSaSbSaSaSbSaSbS#'), ('M', 'accaba', 'SaSaSbSbSaSbS#'), ('M', 'caba', 'aScSaSaSbSaSaSbSaSbSaSbSaSbS#'), ('M', 'ba', 'cSbSaSaSbS#'), ('M', 'a', 'SaScScS#'), ('M', 'caba', 'cSaSaSbSaSaSaSbSaSbSaSbSaSbS#'), ('M', 'accaba', 'cSaSaSbScScS#'), ('M', '', 'aSbSaSaSbSaSaSaSbSaSaSaSbSaSaSbSaSbSaSbSaSbS#'), ('M', 'accaba', 'aSaSbScScScS#'), ('M', 'a', 'bSaSaSaSaSaSbSaSaSbSaSbSaSbS#'), ('M', 'ccaba', 'aSaSbSaSbSaSbSaSbSaSbS#'), ('M', 'aba', 'aSbSaSaSaSaSbSaSbSaSbSaSbS#'), ('M', 'caba', 'aScSaSbSaSaSbSaSbSaSbS#'), ('M', 'aba', 'SaSaScSaSaSbSbSaSbS#'), ('M', 'caccaba', 'bSaSaSaSbSaSbSaSbSaSbS#'), ('M', 'aba', 'aSaSbSaSaSaSbSbSaSbS#'), ('M', 'acaccaba', 'cSaSbScS#'), ('M', 'ba', 'bSbSaS#'), ('M', 'caba', 'SaSbSbS#'), ('M', 'caba', 'aScSaScSaSbSaSbSaSbS#'), ('M', 'aba', 'aScSaSaSaSbSaSaSbSaSbSaSbSaSbS#'), ('M', 'accaba', 'SbSbSaS#'), ('M', '', 'ScSaSaSaSaSbSaSaSbSaSbSaSbSaSbS#'), ('M', 'accaba', 'SbSaScScS#'), ('M', 'ccaba', 'SaSbSaSbSaSaSbSaSbSaSbS#'), ('M', 'ba', 'aScScSaSaSbSaSaSbSaSbSaSbS#'), ('M', 'ba', 'aSbSaSaSaSbSaSbSaSbSaSbS#'), ('M', 'caccaba', 'cSaScSaSbSbS#'), ('M', 'caccaba', 'aScScSbSbSaS#'), ('M', 'acaccaba', 'SbSbSaS#'), ('M', 'caba', 'cSaSaScSaSbSaSbSaSbS#'), ('M', 'ba', 'SaSbSaScSbS#'), ('M', 'a', 'aSbSaSaSaSbSaSaSaSbSaSbSaSbS#'), ('M', 'ba', 'aSbSaScScScS#'), ('M', 'ba', 'aScScSbSaScS#'), ('M', 'ba', 'aSaSbSbSaSaSaSaSbSaSbSaSbSaSbS#'), ('M', 'accaba', 'cSaSaSbSaSbSaSbS#'), ('M', 'ccaba', 'bSaSaScSbScS#'), ('M', 'caba', 'aScSaSbSaSbSaSbS#'), ('M', 'accaba', 'cSaSaSbSaSaSbSaSbSaSbS#'), ('M', 'aacaccaba', 'aSbSbSaS#'), ('M', 'aacaccaba', 'aSaSbScScS#'), ('M', 'accaba', 'aSaSbSaSaSbSbSaSbS#'), ('M', 'ccaba', 'SaSbScScScS#'), ('M', 'caccaba', 'aSaSbSaSbSaSbSaSbSaSbS#'), ('M', 'caba', 'aScSaScSaSaSbSaSbSaSbSaSbS#'), ('M', 'caccaba', 'cSbSaSbS#'), ('M', 'ba', 'cSaScSbSaSaSbS#'), ('M', 'aaacaccaba', 'aScSaSbS#'), ('M', 'aba', 'SaSaScSaSbSbS#'), ('M', 'ccaba', 'aSbSaSbSaSaSaSbSaSbSaSbSaSbS#'), ('M', 'a', 'aScSaSaSaSaSbSaSbSaSbSaSbS#'), ('M', '', 'cSaScSbSaS#'), ('M', 'accaba', 'cSaScSaSbScS#'), ('M', 'caccaba', 'bSaSbSbSaS#'), ('M', 'ccaba', 'aSbSaScSbSaSbS#'), ('M', 'ba', 'ScSaSbSaSbS#'), ('M', 'acaccaba', 'aScSbSaSaSbSaSbS#'), ('M', 'caba', 'cSaSbScS#'), ('M', 'caba', 'aScSaSbSbS#'), ('M', 'ba', 'aScScSaSaSaSbSaSbSaSbSaSbS#'), ('M', 'ccaba', 'cSaSaSbSaSbSaSbSaSbS#'), ('M', 'caccaba', 'bSaSbScS#'), ('M', 'aaacaccaba', 'bSaS#'), ('M', 'ccaba', 'SbSaScSbS#'), ('M', 'a', 'SaSaSbSaSbS#'), ('M', 'caccaba', 'aSbSaScSbScS#'), ('M', '', 'cSaScSaSbS#'), ('M', 'caccaba', 'aSaSbScSbScS#'), ('M', 'ccaba', 'ScSbScS#'), ('M', 'aba', 'ScSbSaS#'), ('M', 'a', 'SaSaSaSaSbSaSbSaSbSaSbS#'), ('M', 'caba', 'SaScScSbS#'), ('M', 'accaba', 'SbSaSbS#'), ('M', 'acaccaba', 'aSbScScS#'), ('M', 'aba', 'aSaScSaSbSbS#'), ('M', 'caccaba', 'cSaSbSaSaSbSaSbSaSbS#'), ('M', 'caba', 'cSaSaScSaSbSaSaSbSaSbSaSbS#'), ('M', 'caba', 'cSaSaScSbScS#'), ('M', 'caccaba', 'aSaSbSaSbSaSbSbS#'), ('M', 'aacaccaba', 'aSbSaSbSaSaSbS#'), ('M', 'ba', 'aSaSbScSbS#'), ('M', 'accaba', 'aSbSaSbSaSaSbSaSbS#'), ('M', 'ccaba', 'bSaSaSaSbSaSbSaSbSaSbS#'), ('M', '', 'ScSaSaSbSaSaSbSaSbS#'), ('M', '', 'aSbSaSbSaSaSaSaSaSbSaSaSbSaSbSaSbSaSbS#'), ('M', 'ba', 'aScSaSaSbScSbS#'), ('M', 'ba', 'aScSaScSaSbSbS#'), ('M', 'a', 'aSbSaSaSaSaSbSaSaSaSbSaSaSbSaSbSaSbSaSbS#'), ('M', '', 'cSaSaSbSaSaSaSbSaSaSaSbSaSaSbSaSbSaSbSaSbS#'), ('M', 'caccaba', 'SbSaSaSbSaSbSaSbS#'), ('M', 'ba', 'cSaSbSaSaSaSbSaSbSaSbS#'), ('M', 'caccaba', 'cSaSaSbSbSaSbS#'), ('M', 'caba', 'aScSaScSaSaSbSbSaSbS#'), ('M', '', 'aSbSaSaSbSaSaSaSbSaSbSaSbS#'), ('M', 'ba', 'cSaSbSaSbS#'), ('M', '', 'aSbSaSaSaSaSbSaSaSbSaSbSaSbSaSbS#'), ('M', 'a', 'aSaSbScS#'), ('M', '', 'SbSaSaSaSbSaSaSaSaSbSaSbSaSbSaSbS#'), ('M', 'acaccaba', 'cSaSbSaSaSbSaSbS#'), ('M', 'caccaba', 'cSaScSbScS#'), ('M', 'ba', 'cSaScScSaSbS#'), ('M', 'aaaacaccaba', 'cSaS#'), ('M', 'accaba', 'bSaSbS#'), ('M', 'ba', 'aScSaSbSaSaSaSbSaSaSbSaSbSaSbSaSbS#'), ('M', 'a', 'bSaSaSaSaSbSaSaSbSaSbS#'), ('M', 'ccaba', 'aScSaSbSaSbSbS#'), ('M', 'caba', 'aSaSbSaSbSbS#'), ('M', 'acaccaba', 'cSaSbSaSbS#'), ('M', 'aba', 'cSaSaSaScSaSaSbSbSaSbS#'), ('M', 'ba', 'cSaScSaSaSbSbS#'), ('M', 'accaba', 'cSaScSbSaScS#'), ('M', 'a', 'aScSaSaSbSaSaSaSbSaSbSaSbS#'), ('M', 'aba', 'SaSaSbSbS#'), ('M', 'ccaba', 'ScScSbSaSaSbS#'), ('M', 'accaba', 'cSaSaScScSbS#'), ('M', 'acaccaba', 'aSaSbSbScS#'), ('M', 'caba', 'aScSbScS#'), ('M', 'caccaba', 'SaSbSbSaSaSbSaSbS#'), ('M', 'ba', 'aScSbSaSaSbSaSbS#'), ('M', 'accaba', 'SaSaSbSaSbSaSbSaSbS#'), ('M', 'caccaba', 'aScSbSaSbSaSbS#'), ('M', 'ba', 'cScSbSaS#'), ('M', '', 'aScSaSaSaSbSaSaSbSaSbSaSbSaSbS#'), ('M', 'aba', 'SaSaSaSbSaSbSaSbSaSbS#'), ('M', 'ba', 'SaScSaSbSaSbSaSbS#'), ('M', 'accaba', 'cSaSaSbSaScSbS#'), ('M', 'aba', 'SaSaScSaSbSaSaSbSaSbSaSbS#'), ('M', 'aacaccaba', 'aScScSbSaS#'), ('M', 'a', 'SaSaSaSbSaSaSaSbSaSbSaSbSaSbS#'), ('M', 'aba', 'aSaSaSbScSbS#'), ('M', 'ccaba', 'cSaScSaSbSbS#'), ('M', 'aba', 'bSaSaScScS#'), ('M', 'ba', 'cSaSbScS#'), ('M', 'ccaba', 'cSbSaScScS#'), ('M', 'aacaccaba', 'SaSbScS#'), ('M', 'caccaba', 'aScScScSaSbSaSbS#'), ('M', 'ccaba', 'aSaSbScSbScS#'), ('M', 'aba', 'aSbSaSaSaSbSaSbSaSbS#'), ('M', 'caba', 'aSbSaSaSaSbSaSbSaSbSaSbS#'), ('M', 'a', 'cSaSaSaSaSbSaSaSaSbSaSaSbSaSbSaSbSaSbS#'), ('M', 'acaccaba', 'cSaScSaSbScS#'), ('M', 'ba', 'cSaSbSaScScS#'), ('M', 'caba', 'aScSaScSbScS#'), ('M', '', 'aScScSaSaSbSaSaSbSaSbS#'), ('M', 'ba', 'ScSaSaSaSbScSbS#'), ('M', 'aacaccaba', 'SaSbSbSaS#'), ('M', 'accaba', 'aSbSbS#'), ('M', 'acaccaba', 'cScSaSbS#'), ('M', 'aaacaccaba', 'aSbS#'), ('M', 'caba', 'cSaSaSbSaSbSaSbS#'), ('M', 'ba', 'cSaSaSbSaScSbS#'), ('M', 'accaba', 'bSaSaSbScS#'), ('M', 'caccaba', 'bSaSaScSbSaSbS#'), ('M', 'caba', 'aScSbSaSbS#'), ('M', 'ba', 'aScSbSbSaS#'), ('M', 'ba', 'aSaSbSaSaSbSaSbSaSbSaSbS#'), ('M', 'accaba', 'cScScS#'), ('M', 'a', 'aSaSbSaSaSaSbSaSbSaSbS#'), ('M', 'ba', 'bSaSaSaSbSaSbSaSbS#'), ('M', 'ba', 'aScScSaSbSaSbS#'), ('M', 'ccaba', 'ScSbSaScScS#'), ('M', 'ba', 'aSbSaSbSaSaSbSaSbS#'), ('M', 'accaba', 'aSaSbScSbS#'), ('M', '', 'SbSaSaSaSaSbSaSaSaSbSaSaSbSaSbSaSbSaSbS#'), ('M', 'ba', 'cSbS#'), ('M', 'acaccaba', 'aScScSbSaSaSbS#'), ('M', 'aacaccaba', 'aScScSaSbS#'), ('M', 'accaba', 'SaScScSaSbSaSbS#'), ('M', '', 'SaSbSaSaSbSaSbS#'), ('M', 'acaccaba', 'cSaScScSbSaS#'), ('M', 'acaccaba', 'aScScScScS#'), ('M', 'caba', 'aScSaScSbSaSaSbSaSbS#'), ('M', 'aba', 'bSaSaSaSaSaSbSbSaSbS#'), ('M', 'ba', 'cSaScSaSaSaSbSbSaSbS#'), ('M', 'accaba', 'aScScScScS#'), ('M', 'caba', 'aSaSbSbSbSaS#'), ('M', 'a', 'aSaSbSaSaSaSbSaSaSaSbSaSaSbSaSbSaSbSaSbS#'), ('M', '', 'SaSbSaSaSbSaSaSbSaSbS#'), ('M', 'caba', 'SbSaSaSbSaSbS#'), ('M', 'aba', 'cSaScScS#'), ('M', 'caccaba', 'bScScS#'), ('M', 'ba', 'bSaSbSaSaSbS#'), ('M', 'ccaba', 'aSaSbSaSbSaSbSbS#'), ('M', 'ccaba', 'aScSbScScS#'), ('M', 'accaba', 'cSaSbSaSbS#'), ('M', 'a', 'SaSaScSbS#'), ('M', 'ccaba', 'aScScSaSaSbSbSaSbS#'), ('M', 'a', 'bSaSaSaSaSaSbSaSbSaSbS#'), ('M', 'acaccaba', 'SbSaScScS#'), ('M', 'ccaba', 'ScScSbS#'), ('M', 'ccaba', 'aSbSaSbSaSbSaSbS#'), ('M', 'ba', 'bSaSaSaSaSbSaSaSbSaSbSaSbSaSbS#'), ('M', '', 'aScSaSbSaSaSaSbSaSaSaSbSaSaSbSaSbSaSbSaSbS#'), ('M', 'caccaba', 'cSaScSaSbSaSbSaSbS#'), ('M', 'a', 'aSaScSbS#'), ('M', 'a', 'aSaSbSaSaSaSaSbSaSbSaSbSaSbS#'), ('M', 'ccaba', 'bSaSaSaSbSaSaSbSaSbSaSbSaSbS#'), ('M', 'caba', 'cSaSaScSbSaSbS#'), ('M', 'ccaba', 'ScSaScScSbS#'), ('M', 'caccaba', 'aSbSaSaSbSbSaSbS#'), ('M', 'ccaba', 'cSaScSbSbSaS#'), ('M', 'acaccaba', 'aSaSbSbSaSaSbSaSbS#'), ('M', 'caccaba', 'bSaScSbS#'), ('M', 'caba', 'cSaSaSbSaSaSbSaSbSaSbS#'), ('M', 'aaacaccaba', 'bSaSaSaSbS#'), ('M', 'a', 'aScSaSaSbSaSaSaSaSbSaSaSbSaSbSaSbSaSbS#'), ('M', 'ccaba', 'ScSaSbSaScSbS#'), ('M', 'ccaba', 'aScScScSbSaSaSbS#'), ('M', '', 'ScSaSaSaSbSaSaSaSbSaSaSbSaSbSaSbSaSbS#'), ('M', '', 'aScScSaSaSbSaSaSaSaSbSaSbSaSbSaSbS#'), ('M', '', 'cSaSbSaSaSaSaSbSaSbSaSbS#'), ('M', 'accaba', 'aSbSaSaSaSbSaSbSaSbSaSbS#'), ('M', 'acaccaba', 'aSbSaScSbS#'), ('M', 'caba', 'cSbSaScS#'), ('M', '', 'SbSaSaSaSaSbSaSbSaSbS#'), ('M', 'accaba', 'bSbSaS#'), ('M', 'a', 'SaSaSbSbSaS#'), ('M', 'aaaacaccaba', 'aScS#'), ('M', 'ba', 'aScSaScScSbS#'), ('M', 'caccaba', 'bSbS#'), ('M', 'aba', 'aSaSbSbS#'), ('M', 'caccaba', 'aScScSbSaSaSbSaSbS#'), ('M', 'caba', 'SaScSbSaSbS#'), ('M', 'ccaba', 'aScSaSbSbScS#'), ('M', 'ccaba', 'aSbSaSaSbSbSaSbS#'), ('M', 'aba', 'aSaSbSaSaSbSaSbSaSbS#'), ('M', 'accaba', 'cSaScSbSaSaSbS#'), ('M', '', 'SaSbSbSaS#'), ('M', 'a', 'aSaSbSaSaSbSaSaSaSaSbSaSbSaSbSaSbS#'), ('M', 'ccaba', 'aScSbSaScSbS#'), ('M', '', 'aScSbS#'), ('M', 'ba', 'aSaSbSaSaSbSbSaSbS#'), ('M', 'caba', 'cSaSaSbScScS#'), ('M', 'accaba', 'cSbSaSaSbS#'), ('M', 'a', 'aSbSaSaSaSaSbSaSbSaSbS#'), ('M', 'aba', 'aScSbS#'), ('M', 'acaccaba', 'bSaSbSaSaSbS#'), ('M', 'acaccaba', 'aSaSbScSbS#'), ('I', 'aaaacaccaba', '#'), ('M', 'acaccaba', 'cSbSaSaSbS#'), ('M', 'ba', 'bSaSaSbSaSaSaSaSbSaSbSaSbSaSbS#'), ('M', 'accaba', 'aScScSbSaScS#'), ('M', 'ba', 'aSbSbSaSaSbS#'), ('M', '', 'aScScSaSaSbSaSaSaSaSbSaSaSbSaSbSaSbSaSbS#'), ('M', 'ba', 'aScScScSbSaS#'), ('M', 'ccaba', 'ScSaSaSbSbSaSbS#'), ('M', 'ccaba', 'ScSaSaSbScSbS#'), ('M', '', 'bSaSaSaSaSaSbSaSaSbSaSbSaSbSaSbS#'), ('M', 'aba', 'ScScS#'), ('M', 'caba', 'aSbScScS#'), ('M', 'caccaba', 'cSaSaSbSbScS#'), ('M', 'caba', 'aSbSaSaSaSbSbSaSbS#'), ('M', 'accaba', 'SaScSbSaSaSbSaSbS#'), ('M', '', 'cSaSaScSbS#'), ('M', 'ba', 'SaSbSaSaSaSbSaSaSbSaSbSaSbSaSbS#'), ('M', '', 'SbSaSaSaSaSaSbSaSbSaSbSaSbS#'), ('M', 'accaba', 'SaScScScScS#'), ('M', 'ccaba', 'SbSaSaSbSaSaSbSaSbSaSbS#'), ('M', 'caccaba', 'aScSaSbSbScS#'), ('M', 'ccaba', 'aScScSaSaSbSaSbSaSbSaSbS#'), ('M', 'ba', 'aSaSbSaSbSaSbSaSbS#'), ('M', 'accaba', 'bSaSaSbSbSaS#'), ('M', 'a', 'aScSaSaSaSbSaSbSaSbS#'), ('M', 'accaba', 'aScScSaSbSaSbS#'), ('M', 'caccaba', 'cSaScSbSbSaS#'), ('M', 'caba', 'aSbSbS#'), ('M', 'ccaba', 'bSaScSbS#'), ('M', 'ba', 'ScSaSaSbSbS#'), ('M', 'caccaba', 'bSaSbSaSbS#'), ('M', 'acaccaba', 'cSaScSaSbSaSbS#'), ('M', 'acaccaba', 'aScScSaSbSaSbS#'), ('M', '', 'aScSaSbSaSaSaSbSaSbSaSbS#'), ('M', 'aba', 'cSaSaSbScS#'), ('M', 'ba', 'cSaSaScScSbS#'), ('M', 'acaccaba', 'cSaScSbSaScS#'), ('M', 'aba', 'cSaSaSaScSaSbSaSaSbSaSbSaSbS#'), ('M', 'aba', 'SaSaSaSbScSbS#'), ('M', 'aba', 'bSaSaSaSbSaSaSbSaSbS#'), ('M', 'aaacaccaba', 'aSbSaSaSbS#'), ('M', 'a', 'SaSaSaSaSbSbSaSbS#'), ('M', 'aaacaccaba', 'cSaSbSaS#'), ('M', '', 'bSaSaSaSbSaSaSbSaSbS#'), ('M', 'caccaba', 'ScSbSbSaS#'), ('M', '', 'bSaSaSbSaSaSaSaSaSbSaSaSbSaSbSaSbSaSbS#'), ('M', 'caccaba', 'ScSaSbSbS#'), ('M', 'a', 'aSaScScScS#'), ('M', 'ba', 'aSbSbS#'), ('M', 'ccaba', 'cSbScS#'), ('M', 'ccaba', 'cSaSaSbSbScS#'), ('M', '', 'aSaSbSaSaSbSaSaSaSbSaSbSaSbSaSbS#'), ('M', 'ccaba', 'cSbSaSbS#'), ('M', 'aacaccaba', 'cSaSaSbSaSbS#'), ('M', 'caccaba', 'cSbSaSaSbSaSbS#'), ('M', 'aba', 'aScSaSaSaSbScSbS#'), ('M', 'ba', 'bSaSbS#'), ('M', 'aacaccaba', 'SbSaSbSaS#'), ('M', '', 'aScSaSaSaSbSaSbSaSbSaSbS#'), ('M', 'caccaba', 'aSaSbSbSbSaSaSbS#'), ('M', 'a', 'aSaSbSaSbS#'), ('M', 'accaba', 'aSbSaSbSaSbS#'), ('M', 'accaba', 'aScSaSbSbS#'), ('M', 'a', 'SaSaSaSbSaSaSbSaSbSaSbS#'), ('M', 'ccaba', 'bSaSaScScSbS#'), ('M', 'aacaccaba', 'SbSaScS#'), ('M', '', 'aScSbSaScS#'), ('M', 'accaba', 'SaSbSbSaSaSbS#'), ('M', 'ba', 'aScSbScS#'), ('M', 'accaba', 'aSaSbSbSaSaSbSaSbS#'), ('M', 'caba', 'SaSaSbScSbS#'), ('M', 'accaba', 'cSaScSbS#'), ('M', 'ccaba', 'aScSbSbSaSaSbS#'), ('M', 'ccaba', 'SaSbSaSbSbS#'), ('M', 'ba', 'ScSaSaSbSaSaSaSbSaSbSaSbSaSbS#'), ('M', 'ba', 'cSaSbSaSaSaSaSbSaSbSaSbSaSbS#'), ('M', 'accaba', 'ScSaSbScS#'), ('M', 'aba', 'cSaSaSaSaSbScSbS#'), ('M', 'caccaba', 'cScSaSbSaSbS#'), ('M', '', 'aScScSaSbS#'), ('M', 'accaba', 'SaScSbScS#'), ('M', 'acaccaba', 'bSbSaS#'), ('M', 'a', 'SaSaSaSbSbS#'), ('M', 'ba', 'aSbSaSaSbSaSbSaSbS#'), ('M', 'caccaba', 'bSaSaSaSbSbSaSbS#'), ('M', 'a', 'cSaSaSaSaSaSbSaSbSaSbSaSbS#'), ('M', 'aba', 'aScSaSaScSaSbSbS#'), ('M', 'caba', 'aScScScSbSaS#'), ('M', 'ccaba', 'ScSaScSaSbSbS#'), ('M', 'caccaba', 'aSbScScScS#'), ('M', 'aba', 'aSbSaSaSaSbSaSaSaSbSaSbSaSbSaSbS#'), ('M', 'caba', 'aSbSbSaSaSbS#'), ('M', '', 'SaSbSaSaSaSaSbSaSbSaSbSaSbS#'), ('M', 'caccaba', 'cSaSaSbSaSbSbS#'), ('M', 'ccaba', 'ScSaScSaSbSaSbSaSbS#'), ('M', 'caba', 'SaSbScScS#'), ('M', 'ccaba', 'aScScSaScSbSaSbS#'), ('M', 'accaba', 'SaScScSbSaSaSbS#'), ('M', 'aba', 'aScSbSaSaSbS#'), ('M', 'aacaccaba', 'bSaSaScScS#'), ('M', 'a', 'cSaSaSbS#'), ('M', 'ba', 'cSaSaScSaSaSbSaSbSaSbSaSbS#'), ('M', 'aba', 'cSaSbSaScS#'), ('M', 'acaccaba', 'cScScS#'), ('M', 'ba', 'cSaSaSaSbSaSaSbSaSbSaSbSaSbS#'), ('M', 'caba', 'cSaSbSaScScS#'), ('M', 'ccaba', 'SaSbSbSaSaSbSaSbS#'), ('M', 'caccaba', 'bSbSaSaSbS#'), ('M', 'accaba', 'cSaSaScSaSbSbS#'), ('M', 'a', 'cSaSaScScS#'), ('M', 'ba', 'bSaSaSbSbSaS#'), ('M', '', 'aScSbSaSaSaSaSaSbSaSbSaSbSaSbS#'), ('M', 'ccaba', 'bSaScScScS#'), ('M', 'acaccaba', 'cSaScSbSaSaSbS#'), ('M', 'ba', 'SaScSbScS#'), ('M', 'caccaba', 'aSaSbSbSaSaSbSbS#'), ('M', '', 'SaSbSaSaSaSbSaSaSbSaSbSaSbS#'), ('M', '', 'bSaSaSaSbSaSaSaSbSaSaSaSbSaSaSbSaSbSaSbSaSbS#'), ('M', 'accaba', 'cSaScScSaSbS#'), ('M', 'caccaba', 'cSaScScSaSbSaSbS#'), ('M', '', 'bSaSaSaSbSaSaSaSaSbSaSbSaSbSaSbS#'), ('M', 'ccaba', 'cSaScSbSaSaSbSaSbS#'), ('M', '', 'aScScSbSaS#'), ('M', 'a', 'aSaSaSaSbSaSbSaSbSaSbS#'), ('M', 'acaccaba', 'aScScSbSaScS#'), ('M', 'caba', 'aSaSbSbSaSbS#'), ('M', 'ccaba', 'cSaScSbScS#'), ('M', 'ba', 'SaScScSbS#'), ('M', 'caccaba', 'ScScSbSaScS#'), ('M', 'aaaacaccaba', 'S#'), ('M', 'accaba', 'cSaScScScS#'), ('M', 'caba', 'SaScScScScS#'), ('M', '', 'cSaScSaSaSbSaSaSaSaSbSaSaSbSaSbSaSbSaSbS#'), ('M', '', 'aSbSaSaSbSaSaSaSaSbSaSbSaSbSaSbS#'), ('M', 'accaba', 'aScSaSaSbScSbS#'), ('M', '', 'SbSaScS#'), ('M', 'ccaba', 'aSbSaScSbScS#'), ('M', 'ba', 'cSaScSaSbSaSaSbSaSbS#'), ('M', 'caccaba', 'SbSaSbSaSbS#'), ('M', 'caccaba', 'aSbSbScS#'), ('M', '', 'SbSaSbSaS#'), ('M', 'caba', 'ScScSbSaS#'), ('M', 'ccaba', 'SbSaSbSbSaS#'), ('M', 'acaccaba', 'cSaSaSbSbS#'), ('M', '', 'SaSbSaSaSbSaSaSaSaSbSaSbSaSbSaSbS#'), ('M', 'aba', 'aSbSaScScS#'), ('M', 'ba', 'cSaSaSbSaSaSbSaSbSaSbS#'), ('M', '', 'cSaSaSbSaSbS#'), ('M', 'ccaba', 'ScSaScSbSaSaSbSaSbS#'), ('M', 'caba', 'aScScSbSaScS#'), ('M', 'caccaba', 'SaSbSaSbSaSbSaSbS#'), ('M', '', 'bSaSbSaS#'), ('M', '', 'ScSaSaSbSaSaSaSaSbSaSbSaSbSaSbS#'), ('M', 'aba', 'bSaSaSaSaSbSaSbSaSbS#'), ('M', 'caccaba', 'cSaScScSbS#'), ('M', '', 'SaSaSbSbS#'), ('M', 'accaba', 'SaSbSaScSbS#'), ('M', 'caba', 'cSaScSbSaSaSbS#'), ('M', 'ba', 'SbSaScScS#'), ('M', 'aba', 'cSaSaSaSbSbS#'), ('M', 'a', 'cSaSaSaSbScS#'), ('M', 'ccaba', 'cSaScSbSaSbS#'), ('M', 'accaba', 'SaScSbSbSaS#'), ('M', 'aba', 'aSaSbSaSbSaSaSbSaSbS#'), ('M', 'ccaba', 'SaSbSaSaSbSaSbSaSbSaSbS#'), ('M', 'acaccaba', 'ScScSaSbS#'), ('M', 'aacaccaba', 'cScS#'), ('M', '', 'ScSaScScS#'), ('M', 'accaba', 'aScSaSbScScS#'), ('M', 'caccaba', 'SbSaScScScS#'), ('M', 'ccaba', 'aSbScScScS#'), ('M', 'ba', 'cSaScSaSbScS#'), ('M', 'caccaba', 'SbSbS#'), ('M', 'ba', 'aSaSbScScScS#'), ('M', 'ccaba', 'cSaSbSaSbSaSbS#'), ('M', '', 'cSaScSaSaSaSbSaSbSaSbS#'), ('M', 'aaacaccaba', 'cSaScS#'), ('M', 'accaba', 'SbScS#'), ('M', '', 'ScSaSaSaSbSaSaSaSbSaSbSaSbSaSbS#'), ('M', 'acaccaba', 'cSaScSbS#'), ('M', 'ccaba', 'ScSaSbSbS#'), ('M', 'a', 'aSaSaSaSbSaSaSbSaSbSaSbSaSbS#'), ('M', '', 'cSaSbS#'), ('M', 'ccaba', 'cSaSbSbS#'), ('M', 'a', 'SaSaSbScS#'), ('M', '', 'bSaSaSaSaSbSaSaSaSbSaSaSbSaSbSaSbSaSbS#'), ('M', 'ba', 'ScSaSaScSaSbSaSbSaSbS#'), ('M', 'aba', 'aScSaSbSaSbS#'), ('M', 'ba', 'SaSbSaSaSaSbSbSaSbS#'), ('M', 'caccaba', 'aSbSaSbSaSbSaSbS#'), ('M', 'a', 'SaSaSaSbSaSaSaSbSaSaSbSaSbSaSbSaSbS#'), ('M', 'accaba', 'aSbSaScScScS#'), ('M', 'ba', 'aScScSaSbScS#'), ('M', 'aba', 'aScSaScSbS#'), ('M', 'a', 'aSbSaSaSaSbSaSbS#'), ('M', 'ba', 'aScSaSbScScS#'), ('M', 'caba', 'ScSbSaScS#'), ('M', 'aba', 'aSaScSaSbSaSbSaSbS#'), ('M', 'aacaccaba', 'aScSbS#'), ('M', 'aba', 'bSaScS#'), ('M', 'aba', 'SaSaScSbSaSaSbSaSbS#'), ('M', 'aba', 'SbS#'), ('M', '', 'aSbSaSaSaSbSaSbSaSbS#'), ('M', '', 'aSaSbSaSbSaSaSaSaSbSaSaSbSaSbSaSbSaSbS#'), ('M', '', 'SbS#'), ('M', 'a', 'aSaSaSbSbS#'), ('M', 'aba', 'cSaScSaSbS#'), ('M', 'caba', 'ScSaSbSaSbS#'), ('M', 'ccaba', 'cSaSaSbSbSaSbS#'), ('M', '', 'ScSbSaS#'), ('M', 'a', 'bSaSaSbSaS#'), ('M', 'aba', 'aSaSbScScS#'), ('M', 'ccaba', 'cSbSbSaS#'), ('M', 'caccaba', 'cSaSbSaSbSaSbS#'), ('M', 'ba', 'aScScScScS#'), ('M', 'ba', 'SbSaSaSaSbSaSaSaSbSaSbSaSbSaSbS#'), ('M', 'a', 'cSaSaSaSaSbSaSbSaSbS#'), ('M', '', 'cSaSaSaSbSaSbSaSbS#'), ('M', 'ba', 'cSaSaScSaSbSbS#'), ('M', 'a', 'aScSaSaSaSbSaSaSaSbSaSbSaSbSaSbS#'), ('M', 'caba', 'bSaSaSaSbSaSaSaSbSaSbSaSbSaSbS#'), ('M', 'caccaba', 'aScScSaSbSbS#'), ('M', 'acaccaba', 'cSaScScScS#'), ('M', 'a', 'aSbSaSaSaSaSaSbSaSaSbSaSbSaSbSaSbS#'), ('M', 'ccaba', 'cSaSbSbSaSaSbS#'), ('M', '', 'ScSaSaScSbS#'), ('M', 'ccaba', 'ScSaSbSaSaSbSaSbSaSbS#'), ('M', 'a', 'aSaSaSbSaSaSaSbSaSbSaSbSaSbS#'), ('M', 'caccaba', 'aSaSbScSbSaSbS#'), ('M', 'caba', 'bSaSaSbSbSaS#'), ('M', 'a', 'SaSaSaSbSaSbSaSbS#'), ('M', 'aacaccaba', 'bSaSaSaSbSaSbS#'), ('M', 'ccaba', 'bSaSbSbSaS#'), ('M', 'ba', 'cSaScSaSaSbSaSbSaSbS#'), ('M', 'ccaba', 'aSbSbSaSaSbSaSbS#'), ('M', 'caba', 'aSbSaSaSbSaSaSbSaSbSaSbS#'), ('M', 'aba', 'cSaSaSaScSaSbSbS#'), ('M', 'ccaba', 'cScScSaSbS#'), ('M', 'aba', 'ScSaSbS#'), ('M', 'ccaba', 'aSaSbSbSbS#'), ('M', 'caccaba', 'aScSaSbSaSbSaSbSaSbS#'), ('M', 'aba', 'cSaSaSaSaSbSaSaSbSaSbSaSbSaSbS#'), ('M', 'aba', 'aSaSbSaSaSbSaSaSaSbSaSbSaSbSaSbS#'), ('M', 'a', 'aScScS#'), ('M', 'ba', 'cScScS#'), ('M', 'aacaccaba', 'aSaSbSaSbSaSbS#'), ('M', 'aba', 'aScScSbSaS#'), ('M', 'ba', 'ScSaSaScSaSaSbSaSbSaSbSaSbS#'), ('M', 'aacaccaba', 'cSaSaSbScS#'), ('M', '', 'aSaSbSaSbSaSaSaSaSbSaSbSaSbSaSbS#'), ('M', 'ba', 'ScSaSbScS#'), ('M', 'aba', 'aScScScS#'), ('M', 'ba', 'cSaScSbS#'), ('M', 'ba', 'aSaSbSbSaSaSbSaSbS#'), ('M', 'ba', 'SaSbSbSaSaSbS#'), ('M', 'ba', 'aSbSaSbSaSbS#'), ('M', 'acaccaba', 'cSaSbSaScScS#'), ('M', 'acaccaba', 'bSaSaScScScS#'), ('M', 'caba', 'cSaSbSbSaS#'), ('M', 'a', 'bSaSaSaSaSaSbSaSaSaSbSaSaSbSaSbSaSbSaSbS#'), ('M', 'accaba', 'cSaSbSaScScS#'), ('M', 'aba', 'aSbSaSaSbSaSbS#'), ('M', 'ccaba', 'aSbSaSbSaSaSbSaSbSaSbS#'), ('M', 'ba', 'cSaSaScSaSaSbSbSaSbS#'), ('M', 'caba', 'aScSaScSaSbSaSaSbSaSbSaSbS#'), ('M', 'ccaba', 'aSbSaScScSbS#'), ('M', 'caba', 'cSaScSbS#'), ('M', 'aaacaccaba', 'bSaSaScS#'), ('M', '', 'SaSaSaSbSaSaSbSaSbSaSbSaSbS#'), ('M', 'caba', 'ScSaSbScS#'), ('M', 'acaccaba', 'aScSaSbScScS#'), ('M', 'aaacaccaba', 'aScSbSaS#'), ('M', 'aba', 'cSaSaSaScSbSaSaSbSaSbS#'), ('M', 'caba', 'cSaSaScSbSaSaSbSaSbS#'), ('M', 'ba', 'ScSaScSbS#'), ('M', 'acaccaba', 'SaSbSbSaSaSbS#'), ('M', 'ccaba', 'SaSbSaSaSbSbSaSbS#'), ('M', '', 'bSaSaSaSaSbSaSbSaSbS#'), ('M', 'a', 'cS#'), ('M', '', 'aScScSaSaSbSaSaSaSbSaSbSaSbS#'), ('M', 'caba', 'bSbSaS#'), ('M', 'acaccaba', 'ScSbSaScS#'), ('M', 'a', 'cSaSaSaSaSbSaSaSaSbSaSbSaSbSaSbS#'), ('M', 'accaba', 'aSbSaSaSbSaSbSaSbS#'), ('M', '', 'aSbSaSbSaSaSbS#'), ('M', 'accaba', 'aScSaSaSbSaSbSaSbSaSbS#'), ('M', 'a', 'cSaSaSaSbSaSaSaSaSbSaSbSaSbSaSbS#'), ('M', 'ba', 'SaSaSbSaSbSaSbSaSbS#'), ('M', 'accaba', 'aScSbSbSaS#'), ('M', 'ba', 'SbSaSaSaSbSbS#'), ('M', 'caba', 'bSaSaSaSbSaSbSaSbS#'), ('M', 'aba', 'cSaSaSaScSaSbSaSbSaSbS#'), ('M', 'caba', 'cSaSaScSaSaSbSbSaSbS#'), ('M', 'ba', 'aScScScSaSbS#'), ('M', 'caccaba', 'aScSbSbS#'), ('M', 'caccaba', 'cScSaSbScS#'), ('M', '', 'aScScSaSaSaSbSaSaSaSbSaSaSbSaSbSaSbSaSbS#'), ('M', 'accaba', 'SaScSaSbSbS#'), ('M', 'ba', 'bSaSaSbSaSaSbSaSbS#'), ('M', 'ccaba', 'aScScScSbS#'), ('M', 'accaba', 'bScS#'), ('M', 'ba', 'SaSaSbSaSaSbSaSbSaSbSaSbS#'), ('M', 'caccaba', 'cScScScS#'), ('M', 'accaba', 'cSaSaSaSbSbSaSbS#'), ('M', 'aba', 'aScSaScSbSaSaSbS#'), ('M', 'aacaccaba', 'aSaSbSbS#'), ('M', 'acaccaba', 'bScS#'), ('M', 'acaccaba', 'aSbSaScScScS#'), ('M', 'caccaba', 'SaSbSbSbSaS#'), ('M', 'aba', 'aSaScSbScS#'), ('M', 'a', 'aScSaSaSbScS#'), ('M', 'aaaacaccaba', 'aSaSbS#'), ('M', '', 'cSaSaSbSaSaSaSbSaSbSaSbS#'), ('M', 'caccaba', 'bSaSaSbSaSbSaSbS#'), ('M', 'caba', 'aSbSaSbScS#'), ('M', 'caba', 'ScScSaSbS#'), ('M', 'caccaba', 'aScScScSbSaSaSbS#'), ('M', 'aacaccaba', 'cSbSaS#'), ('M', '', 'SaSbSaSaSaSbSaSaSaSbSaSbSaSbSaSbS#'), ('M', '', 'aSbSaSaSaSaSbSaSbSaSbSaSbS#'), ('M', 'a', 'SaSaScScScS#'), ('M', 'ba', 'ScSaScSbSaSaSbS#'), ('M', 'aba', 'aSaSaSbSaSbSaSbSaSbS#'), ('M', 'accaba', 'aScSaScSaSbSbS#'), ('M', 'a', 'aSbSaSaSaSaSbSaSaSaSbSaSbSaSbSaSbS#'), ('M', 'ba', 'aSaSbSbSaSaSaSbSaSbSaSbS#'), ('M', '', 'bSaScS#'), ('M', 'aacaccaba', 'cSaScSbSaS#'), ('M', 'a', 'aSaSbSaSaSaSaSbSaSaSbSaSbSaSbSaSbS#'), ('M', 'acaccaba', 'aSaSbSaSbSaSbSaSbS#'), ('M', 'ba', 'aSaSbSbSaSaSaSaSbSaSaSbSaSbSaSbSaSbS#'), ('M', '', 'cSaSaSaSaSbSaSaSbSaSbSaSbSaSbS#'), ('M', '', 'aSaSbSbSaSaSaSaSaSbSaSaSbSaSbSaSbSaSbS#'), ('M', 'caba', 'SaScSaSaSbSaSbSaSbSaSbS#'), ('M', 'ccaba', 'cScSaSbScS#'), ('M', 'caba', 'SaSaSbSbScS#'), ('M', 'accaba', 'aSaSbSaSbSaSbSaSbS#'), ('M', '', 'aSaSbSbSaSaSaSaSbSaSaSaSbSaSaSbSaSbSaSbSaSbS#'), ('M', 'caba', 'cSaSaScSaSbSbS#'), ('M', 'accaba', 'bSaScScS#'), ('M', 'a', 'aSaSaSbSaSaSbSaSbSaSbS#'), ('M', 'caba', 'bSaSaSaSaSbSaSaSbSaSbSaSbSaSbS#'), ('M', 'acaccaba', 'aSaSbSbSbSaS#'), ('M', 'ccaba', 'cSaSbSaScSbS#'), ('M', 'caba', 'ScSbS#'), ('M', '', 'aSbSaSaSaSbSaSaSbSaSbSaSbS#'), ('M', 'ba', 'cSaScSbSaScS#'), ('M', 'ba', 'SaScSbSaSaSbSaSbS#'), ('M', '', 'bSaSaSaSbSaSaSaSbSaSbSaSbS#'), ('M', 'aba', 'cSaSaSaSaSbSaSbSaSbSaSbS#'), ('M', 'aba', 'aSaScSaSaSbSbSaSbS#'), ('M', 'caba', 'SaScScSbSaSaSbS#'), ('M', '', 'aScScSaSaSaSbSaSbSaSbS#'), ('M', 'a', 'aSbSaSaSaSbSaSaSaSaSbSaSbSaSbSaSbS#'), ('M', 'caba', 'cSaScScScS#'), ('M', '', 'cSaSaSbSaSaSaSaSbSaSaSbSaSbSaSbSaSbS#'), ('M', 'acaccaba', 'aSbSaSbScS#'), ('M', 'ccaba', 'bSaSaSbSaSaSbSaSbSaSbS#'), ('M', '', 'bSaSaSbSaSaSaSaSaSbSaSbSaSbSaSbS#'), ('M', 'aba', 'aScSaScSaSbSaSbS#'), ('M', 'ba', 'ScSaSbSaSaSbSaSbS#'), ('M', 'accaba', 'aScScScSbSaS#'), ('M', '', 'aSbSaSaSbSaSbS#'), ('M', 'caba', 'aSbSaScScScS#'), ('M', 'ba', 'SaSaSbScSbS#'), ('M', 'a', 'cSaSaSaSbSaSbS#'), ('M', 'accaba', 'aSbSbSaSaSbS#'), ('M', 'aba', 'bSaSaSbS#')}\n"
     ]
    }
   ],
   "source": [
    "explore_pda(\"aaaacaccaba\", a2b1c, STKMAX=9)"
   ]
  },
  {
   "cell_type": "markdown",
   "metadata": {
    "run_control": {
     "frozen": false,
     "read_only": false
    }
   },
   "source": [
    "na = nb + nc using pda"
   ]
  },
  {
   "cell_type": "code",
   "execution_count": 92,
   "metadata": {
    "run_control": {
     "frozen": false,
     "read_only": false
    }
   },
   "outputs": [
    {
     "name": "stderr",
     "output_type": "stream",
     "text": [
      "Generating LALR tables\n"
     ]
    }
   ],
   "source": [
    "naEQnbPnc = md2mc('''PDA\n",
    "IF : a, ''; a | b, ''; b | c, ''; c -> M\n",
    "\n",
    "M  : a,a;aa|a,#;a#|b,b;bb|b,#;b#|c,c;cc|c,#;c#|b,c;bc|c,b;cb -> M\n",
    "\n",
    "M  : a, b ; '' | a, c ; '' | b, a ; '' | c, a ; '' -> M\n",
    "\n",
    "M  : '', # ; # -> F\n",
    "\n",
    "''')"
   ]
  },
  {
   "cell_type": "code",
   "execution_count": 93,
   "metadata": {
    "run_control": {
     "frozen": false,
     "read_only": false
    }
   },
   "outputs": [
    {
     "data": {
      "image/svg+xml": [
       "<?xml version=\"1.0\" encoding=\"UTF-8\" standalone=\"no\"?>\n",
       "<!DOCTYPE svg PUBLIC \"-//W3C//DTD SVG 1.1//EN\"\n",
       " \"http://www.w3.org/Graphics/SVG/1.1/DTD/svg11.dtd\">\n",
       "<!-- Generated by graphviz version 2.38.0 (20140413.2041)\n",
       " -->\n",
       "<!-- Title: %3 Pages: 1 -->\n",
       "<svg width=\"506pt\" height=\"234pt\"\n",
       " viewBox=\"0.00 0.00 506.30 234.00\" xmlns=\"http://www.w3.org/2000/svg\" xmlns:xlink=\"http://www.w3.org/1999/xlink\">\n",
       "<g id=\"graph0\" class=\"graph\" transform=\"scale(1 1) rotate(0) translate(4 230)\">\n",
       "<title>%3</title>\n",
       "<polygon fill=\"white\" stroke=\"none\" points=\"-4,4 -4,-230 502.297,-230 502.297,4 -4,4\"/>\n",
       "<!-- EMPTY -->\n",
       "<g id=\"node1\" class=\"node\"><title>EMPTY</title>\n",
       "</g>\n",
       "<!-- IF -->\n",
       "<g id=\"node3\" class=\"node\"><title>IF</title>\n",
       "<ellipse fill=\"none\" stroke=\"black\" cx=\"113\" cy=\"-22\" rx=\"18\" ry=\"18\"/>\n",
       "<ellipse fill=\"none\" stroke=\"black\" cx=\"113\" cy=\"-22\" rx=\"22\" ry=\"22\"/>\n",
       "<text text-anchor=\"middle\" x=\"113\" y=\"-17.8\" font-family=\"Times,serif\" font-size=\"14.00\">IF</text>\n",
       "</g>\n",
       "<!-- EMPTY&#45;&gt;IF -->\n",
       "<g id=\"edge1\" class=\"edge\"><title>EMPTY&#45;&gt;IF</title>\n",
       "<path fill=\"none\" stroke=\"black\" d=\"M54.1177,-22C62.5406,-22 71.9629,-22 80.7191,-22\"/>\n",
       "<polygon fill=\"black\" stroke=\"black\" points=\"80.9574,-25.5001 90.9574,-22 80.9573,-18.5001 80.9574,-25.5001\"/>\n",
       "</g>\n",
       "<!-- M -->\n",
       "<g id=\"node2\" class=\"node\"><title>M</title>\n",
       "<ellipse fill=\"none\" stroke=\"black\" cx=\"297.362\" cy=\"-22\" rx=\"18\" ry=\"18\"/>\n",
       "<text text-anchor=\"middle\" x=\"297.362\" y=\"-17.8\" font-family=\"Times,serif\" font-size=\"14.00\">M</text>\n",
       "</g>\n",
       "<!-- M&#45;&gt;M -->\n",
       "<g id=\"edge3\" class=\"edge\"><title>M&#45;&gt;M</title>\n",
       "<path fill=\"none\" stroke=\"black\" d=\"M281.591,-31.5855C268.902,-43.6431 274.159,-58 297.362,-58 315.308,-58 322.519,-49.4116 318.994,-39.9412\"/>\n",
       "<polygon fill=\"black\" stroke=\"black\" points=\"321.741,-37.7623 313.133,-31.5855 316.01,-41.7822 321.741,-37.7623\"/>\n",
       "<text text-anchor=\"middle\" x=\"297.362\" y=\"-214.8\" font-family=\"Times,serif\" font-size=\"14.00\">a, c ; &#39;&#39; </text>\n",
       "<text text-anchor=\"middle\" x=\"297.362\" y=\"-200.8\" font-family=\"Times,serif\" font-size=\"14.00\"> b, b ; bb </text>\n",
       "<text text-anchor=\"middle\" x=\"297.362\" y=\"-186.8\" font-family=\"Times,serif\" font-size=\"14.00\"> b, c ; bc </text>\n",
       "<text text-anchor=\"middle\" x=\"297.362\" y=\"-172.8\" font-family=\"Times,serif\" font-size=\"14.00\"> b, # ; b# </text>\n",
       "<text text-anchor=\"middle\" x=\"297.362\" y=\"-158.8\" font-family=\"Times,serif\" font-size=\"14.00\"> a, # ; a# </text>\n",
       "<text text-anchor=\"middle\" x=\"297.362\" y=\"-144.8\" font-family=\"Times,serif\" font-size=\"14.00\"> c, a ; &#39;&#39; </text>\n",
       "<text text-anchor=\"middle\" x=\"297.362\" y=\"-130.8\" font-family=\"Times,serif\" font-size=\"14.00\"> b, a ; &#39;&#39; </text>\n",
       "<text text-anchor=\"middle\" x=\"297.362\" y=\"-116.8\" font-family=\"Times,serif\" font-size=\"14.00\"> c, # ; c# </text>\n",
       "<text text-anchor=\"middle\" x=\"297.362\" y=\"-102.8\" font-family=\"Times,serif\" font-size=\"14.00\"> c, c ; cc </text>\n",
       "<text text-anchor=\"middle\" x=\"297.362\" y=\"-88.8\" font-family=\"Times,serif\" font-size=\"14.00\"> c, b ; cb </text>\n",
       "<text text-anchor=\"middle\" x=\"297.362\" y=\"-74.8\" font-family=\"Times,serif\" font-size=\"14.00\"> a, b ; &#39;&#39; </text>\n",
       "<text text-anchor=\"middle\" x=\"297.362\" y=\"-60.8\" font-family=\"Times,serif\" font-size=\"14.00\"> a, a ; aa</text>\n",
       "</g>\n",
       "<!-- F -->\n",
       "<g id=\"node4\" class=\"node\"><title>F</title>\n",
       "<ellipse fill=\"none\" stroke=\"black\" cx=\"476.297\" cy=\"-22\" rx=\"18\" ry=\"18\"/>\n",
       "<ellipse fill=\"none\" stroke=\"black\" cx=\"476.297\" cy=\"-22\" rx=\"22\" ry=\"22\"/>\n",
       "<text text-anchor=\"middle\" x=\"476.297\" y=\"-17.8\" font-family=\"Times,serif\" font-size=\"14.00\">F</text>\n",
       "</g>\n",
       "<!-- M&#45;&gt;F -->\n",
       "<g id=\"edge4\" class=\"edge\"><title>M&#45;&gt;F</title>\n",
       "<path fill=\"none\" stroke=\"black\" d=\"M315.65,-22C345.328,-22 406.382,-22 443.792,-22\"/>\n",
       "<polygon fill=\"black\" stroke=\"black\" points=\"444.127,-25.5001 454.127,-22 444.127,-18.5001 444.127,-25.5001\"/>\n",
       "<text text-anchor=\"middle\" x=\"417.83\" y=\"-24.8\" font-family=\"Times,serif\" font-size=\"14.00\">&#39;&#39;, # ; #</text>\n",
       "</g>\n",
       "<!-- IF&#45;&gt;M -->\n",
       "<g id=\"edge2\" class=\"edge\"><title>IF&#45;&gt;M</title>\n",
       "<path fill=\"none\" stroke=\"black\" d=\"M135.276,-22C168.398,-22 232.277,-22 268.856,-22\"/>\n",
       "<polygon fill=\"black\" stroke=\"black\" points=\"269.267,-25.5001 279.267,-22 269.267,-18.5001 269.267,-25.5001\"/>\n",
       "<text text-anchor=\"middle\" x=\"174.181\" y=\"-52.8\" font-family=\"Times,serif\" font-size=\"14.00\">c, &#39;&#39; ; c </text>\n",
       "<text text-anchor=\"middle\" x=\"174.181\" y=\"-38.8\" font-family=\"Times,serif\" font-size=\"14.00\"> a, &#39;&#39; ; a </text>\n",
       "<text text-anchor=\"middle\" x=\"174.181\" y=\"-24.8\" font-family=\"Times,serif\" font-size=\"14.00\"> b, &#39;&#39; ; b</text>\n",
       "</g>\n",
       "</g>\n",
       "</svg>\n"
      ],
      "text/plain": [
       "<graphviz.dot.Digraph at 0x111dab978>"
      ]
     },
     "execution_count": 93,
     "metadata": {},
     "output_type": "execute_result"
    }
   ],
   "source": [
    "dotObj_pda(naEQnbPnc, FuseEdges=True)"
   ]
  },
  {
   "cell_type": "code",
   "execution_count": 97,
   "metadata": {
    "run_control": {
     "frozen": false,
     "read_only": false
    }
   },
   "outputs": [
    {
     "name": "stdout",
     "output_type": "stream",
     "text": [
      "String cccaababaa accepted by your PDA in 1 ways :-) \n",
      "Here are the ways: \n",
      "Final state  ('F', '', '#')\n",
      "Reached as follows:\n",
      "->  ('IF', 'cccaababaa', '#')\n",
      "->  ('M', 'ccaababaa', 'c#')\n",
      "->  ('M', 'caababaa', 'cc#')\n",
      "->  ('M', 'aababaa', 'ccc#')\n",
      "->  ('M', 'ababaa', 'cc#')\n",
      "->  ('M', 'babaa', 'c#')\n",
      "->  ('M', 'abaa', 'bc#')\n",
      "->  ('M', 'baa', 'c#')\n",
      "->  ('M', 'aa', 'bc#')\n",
      "->  ('M', 'a', 'c#')\n",
      "->  ('M', '', '#')\n",
      "->  ('F', '', '#') .\n"
     ]
    }
   ],
   "source": [
    "explore_pda(\"cccaababaa\", naEQnbPnc, STKMAX=11)"
   ]
  },
  {
   "cell_type": "code",
   "execution_count": 98,
   "metadata": {
    "run_control": {
     "frozen": false,
     "read_only": false
    }
   },
   "outputs": [
    {
     "name": "stderr",
     "output_type": "stream",
     "text": [
      "Generating LALR tables\n"
     ]
    }
   ],
   "source": [
    "# Parsing an arithmetic expression\n",
    "pdaE = md2mc('''PDA\n",
    "!!E -> E+T | T\n",
    "!!T -> T*F | F\n",
    "!!F -> 2 | 3 | ~F | (E)\n",
    "I : '', #  ; E#  -> M\n",
    "M : '', E  ; E+T -> M\n",
    "M : '', E  ; T   -> M\n",
    "M : '', T  ; T*F -> M\n",
    "M : '', T  ; F   -> M\n",
    "M : '', F  ; 2   -> M\n",
    "M : '', F  ; 3   -> M\n",
    "M : '', F  ; ~F  -> M\n",
    "M : '', F  ; (E) -> M\n",
    "M : ~,  ~  ; ''  -> M\n",
    "M : 2,  2  ; ''  -> M\n",
    "M : 3,  3  ; ''  -> M\n",
    "M : (,  (  ; ''  -> M\n",
    "M : ),  )  ; ''  -> M\n",
    "M : +,  +  ; ''  -> M\n",
    "M : *,  *  ; ''  -> M\n",
    "M : '', #  ; #   -> F\n",
    "'''\n",
    ")"
   ]
  },
  {
   "cell_type": "code",
   "execution_count": 99,
   "metadata": {
    "run_control": {
     "frozen": false,
     "read_only": false
    }
   },
   "outputs": [
    {
     "data": {
      "image/svg+xml": [
       "<?xml version=\"1.0\" encoding=\"UTF-8\" standalone=\"no\"?>\n",
       "<!DOCTYPE svg PUBLIC \"-//W3C//DTD SVG 1.1//EN\"\n",
       " \"http://www.w3.org/Graphics/SVG/1.1/DTD/svg11.dtd\">\n",
       "<!-- Generated by graphviz version 2.38.0 (20140413.2041)\n",
       " -->\n",
       "<!-- Title: %3 Pages: 1 -->\n",
       "<svg width=\"543pt\" height=\"276pt\"\n",
       " viewBox=\"0.00 0.00 543.42 276.00\" xmlns=\"http://www.w3.org/2000/svg\" xmlns:xlink=\"http://www.w3.org/1999/xlink\">\n",
       "<g id=\"graph0\" class=\"graph\" transform=\"scale(1 1) rotate(0) translate(4 272)\">\n",
       "<title>%3</title>\n",
       "<polygon fill=\"white\" stroke=\"none\" points=\"-4,4 -4,-272 539.421,-272 539.421,4 -4,4\"/>\n",
       "<!-- EMPTY -->\n",
       "<g id=\"node1\" class=\"node\"><title>EMPTY</title>\n",
       "</g>\n",
       "<!-- I -->\n",
       "<g id=\"node2\" class=\"node\"><title>I</title>\n",
       "<ellipse fill=\"none\" stroke=\"black\" cx=\"109\" cy=\"-22\" rx=\"18\" ry=\"18\"/>\n",
       "<text text-anchor=\"middle\" x=\"109\" y=\"-17.8\" font-family=\"Times,serif\" font-size=\"14.00\">I</text>\n",
       "</g>\n",
       "<!-- EMPTY&#45;&gt;I -->\n",
       "<g id=\"edge1\" class=\"edge\"><title>EMPTY&#45;&gt;I</title>\n",
       "<path fill=\"none\" stroke=\"black\" d=\"M54.195,-22C62.6538,-22 72.0513,-22 80.5951,-22\"/>\n",
       "<polygon fill=\"black\" stroke=\"black\" points=\"80.8257,-25.5001 90.8257,-22 80.8257,-18.5001 80.8257,-25.5001\"/>\n",
       "</g>\n",
       "<!-- M -->\n",
       "<g id=\"node3\" class=\"node\"><title>M</title>\n",
       "<ellipse fill=\"none\" stroke=\"black\" cx=\"313.486\" cy=\"-22\" rx=\"18\" ry=\"18\"/>\n",
       "<text text-anchor=\"middle\" x=\"313.486\" y=\"-17.8\" font-family=\"Times,serif\" font-size=\"14.00\">M</text>\n",
       "</g>\n",
       "<!-- I&#45;&gt;M -->\n",
       "<g id=\"edge2\" class=\"edge\"><title>I&#45;&gt;M</title>\n",
       "<path fill=\"none\" stroke=\"black\" d=\"M127.264,-22C162.456,-22 242.734,-22 285.115,-22\"/>\n",
       "<polygon fill=\"black\" stroke=\"black\" points=\"285.266,-25.5001 295.266,-22 285.266,-18.5001 285.266,-25.5001\"/>\n",
       "<text text-anchor=\"middle\" x=\"167.743\" y=\"-24.8\" font-family=\"Times,serif\" font-size=\"14.00\">&#39;&#39;, # ; E#</text>\n",
       "</g>\n",
       "<!-- M&#45;&gt;M -->\n",
       "<g id=\"edge3\" class=\"edge\"><title>M&#45;&gt;M</title>\n",
       "<path fill=\"none\" stroke=\"black\" d=\"M296.984,-30.1363C279.821,-42.4595 285.322,-58 313.486,-58 336.37,-58 344.292,-47.7408 337.252,-37.2838\"/>\n",
       "<polygon fill=\"black\" stroke=\"black\" points=\"339.571,-34.6554 329.989,-30.1363 334.662,-39.6449 339.571,-34.6554\"/>\n",
       "<text text-anchor=\"middle\" x=\"313.486\" y=\"-256.8\" font-family=\"Times,serif\" font-size=\"14.00\">&#39;&#39;, E ; T </text>\n",
       "<text text-anchor=\"middle\" x=\"313.486\" y=\"-242.8\" font-family=\"Times,serif\" font-size=\"14.00\"> *, * ; &#39;&#39; </text>\n",
       "<text text-anchor=\"middle\" x=\"313.486\" y=\"-228.8\" font-family=\"Times,serif\" font-size=\"14.00\"> 3, 3 ; &#39;&#39; </text>\n",
       "<text text-anchor=\"middle\" x=\"313.486\" y=\"-214.8\" font-family=\"Times,serif\" font-size=\"14.00\"> &#39;&#39;, T ; T*F </text>\n",
       "<text text-anchor=\"middle\" x=\"313.486\" y=\"-200.8\" font-family=\"Times,serif\" font-size=\"14.00\"> &#39;&#39;, T ; F </text>\n",
       "<text text-anchor=\"middle\" x=\"313.486\" y=\"-186.8\" font-family=\"Times,serif\" font-size=\"14.00\"> ), ) ; &#39;&#39; </text>\n",
       "<text text-anchor=\"middle\" x=\"313.486\" y=\"-172.8\" font-family=\"Times,serif\" font-size=\"14.00\"> &#39;&#39;, F ; 3 </text>\n",
       "<text text-anchor=\"middle\" x=\"313.486\" y=\"-158.8\" font-family=\"Times,serif\" font-size=\"14.00\"> +, + ; &#39;&#39; </text>\n",
       "<text text-anchor=\"middle\" x=\"313.486\" y=\"-144.8\" font-family=\"Times,serif\" font-size=\"14.00\"> (, ( ; &#39;&#39; </text>\n",
       "<text text-anchor=\"middle\" x=\"313.486\" y=\"-130.8\" font-family=\"Times,serif\" font-size=\"14.00\"> &#39;&#39;, F ; ~F </text>\n",
       "<text text-anchor=\"middle\" x=\"313.486\" y=\"-116.8\" font-family=\"Times,serif\" font-size=\"14.00\"> &#39;&#39;, F ; (E) </text>\n",
       "<text text-anchor=\"middle\" x=\"313.486\" y=\"-102.8\" font-family=\"Times,serif\" font-size=\"14.00\"> &#39;&#39;, F ; 2 </text>\n",
       "<text text-anchor=\"middle\" x=\"313.486\" y=\"-88.8\" font-family=\"Times,serif\" font-size=\"14.00\"> ~, ~ ; &#39;&#39; </text>\n",
       "<text text-anchor=\"middle\" x=\"313.486\" y=\"-74.8\" font-family=\"Times,serif\" font-size=\"14.00\"> &#39;&#39;, E ; E+T </text>\n",
       "<text text-anchor=\"middle\" x=\"313.486\" y=\"-60.8\" font-family=\"Times,serif\" font-size=\"14.00\"> 2, 2 ; &#39;&#39;</text>\n",
       "</g>\n",
       "<!-- F -->\n",
       "<g id=\"node4\" class=\"node\"><title>F</title>\n",
       "<ellipse fill=\"none\" stroke=\"black\" cx=\"513.421\" cy=\"-22\" rx=\"18\" ry=\"18\"/>\n",
       "<ellipse fill=\"none\" stroke=\"black\" cx=\"513.421\" cy=\"-22\" rx=\"22\" ry=\"22\"/>\n",
       "<text text-anchor=\"middle\" x=\"513.421\" y=\"-17.8\" font-family=\"Times,serif\" font-size=\"14.00\">F</text>\n",
       "</g>\n",
       "<!-- M&#45;&gt;F -->\n",
       "<g id=\"edge4\" class=\"edge\"><title>M&#45;&gt;F</title>\n",
       "<path fill=\"none\" stroke=\"black\" d=\"M331.705,-22C365.088,-22 439.029,-22 481.256,-22\"/>\n",
       "<polygon fill=\"black\" stroke=\"black\" points=\"481.264,-25.5001 491.264,-22 481.264,-18.5001 481.264,-25.5001\"/>\n",
       "<text text-anchor=\"middle\" x=\"454.954\" y=\"-24.8\" font-family=\"Times,serif\" font-size=\"14.00\">&#39;&#39;, # ; #</text>\n",
       "</g>\n",
       "</g>\n",
       "</svg>\n"
      ],
      "text/plain": [
       "<graphviz.dot.Digraph at 0x111e59198>"
      ]
     },
     "execution_count": 99,
     "metadata": {},
     "output_type": "execute_result"
    }
   ],
   "source": [
    "DOpdaE = dotObj_pda(pdaE, FuseEdges=True)\n",
    "DOpdaE"
   ]
  },
  {
   "cell_type": "code",
   "execution_count": 100,
   "metadata": {
    "run_control": {
     "frozen": false,
     "read_only": false
    }
   },
   "outputs": [
    {
     "name": "stdout",
     "output_type": "stream",
     "text": [
      "String 2+2*3 accepted by your PDA in 1 ways :-) \n",
      "Here are the ways: \n",
      "Final state  ('F', '', '#')\n",
      "Reached as follows:\n",
      "->  ('I', '2+2*3', '#')\n",
      "->  ('M', '2+2*3', 'E#')\n",
      "->  ('M', '2+2*3', 'E+T#')\n",
      "->  ('M', '2+2*3', 'T+T#')\n",
      "->  ('M', '2+2*3', 'F+T#')\n",
      "->  ('M', '2+2*3', '2+T#')\n",
      "->  ('M', '+2*3', '+T#')\n",
      "->  ('M', '2*3', 'T#')\n",
      "->  ('M', '2*3', 'T*F#')\n",
      "->  ('M', '2*3', 'F*F#')\n",
      "->  ('M', '2*3', '2*F#')\n",
      "->  ('M', '*3', '*F#')\n",
      "->  ('M', '3', 'F#')\n",
      "->  ('M', '3', '3#')\n",
      "->  ('M', '', '#')\n",
      "->  ('F', '', '#') .\n"
     ]
    }
   ],
   "source": [
    "explore_pda(\"2+2*3\", pdaE, STKMAX=7)"
   ]
  },
  {
   "cell_type": "code",
   "execution_count": 101,
   "metadata": {
    "run_control": {
     "frozen": false,
     "read_only": false
    }
   },
   "outputs": [
    {
     "name": "stderr",
     "output_type": "stream",
     "text": [
      "Generating LALR tables\n"
     ]
    }
   ],
   "source": [
    "# Parsing an arithmetic expression\n",
    "pdaEamb = md2mc('''PDA\n",
    "!!E -> E * E | E + E | ~E | ( E ) | 2 | 3\n",
    "I : '', #  ; E#  -> M\n",
    "M : '', E  ; ~E  -> M\n",
    "M : '', E  ; E+E -> M\n",
    "M : '', E  ; E*E -> M\n",
    "M : '', E  ; (E) -> M\n",
    "M : '', E  ; 2   -> M\n",
    "M : '', E  ; 3   -> M\n",
    "M : ~,  ~  ; ''  -> M\n",
    "M : 2,  2  ; ''  -> M\n",
    "M : 3,  3  ; ''  -> M\n",
    "M : (,  (  ; ''  -> M\n",
    "M : ),  )  ; ''  -> M\n",
    "M : +,  +  ; ''  -> M\n",
    "M : *,  *  ; ''  -> M\n",
    "M : '', #  ; #   -> F\n",
    "'''\n",
    ")"
   ]
  },
  {
   "cell_type": "code",
   "execution_count": 103,
   "metadata": {
    "run_control": {
     "frozen": false,
     "read_only": false
    }
   },
   "outputs": [
    {
     "data": {
      "image/svg+xml": [
       "<?xml version=\"1.0\" encoding=\"UTF-8\" standalone=\"no\"?>\n",
       "<!DOCTYPE svg PUBLIC \"-//W3C//DTD SVG 1.1//EN\"\n",
       " \"http://www.w3.org/Graphics/SVG/1.1/DTD/svg11.dtd\">\n",
       "<!-- Generated by graphviz version 2.38.0 (20140413.2041)\n",
       " -->\n",
       "<!-- Title: %3 Pages: 1 -->\n",
       "<svg width=\"515pt\" height=\"248pt\"\n",
       " viewBox=\"0.00 0.00 515.42 248.00\" xmlns=\"http://www.w3.org/2000/svg\" xmlns:xlink=\"http://www.w3.org/1999/xlink\">\n",
       "<g id=\"graph0\" class=\"graph\" transform=\"scale(1 1) rotate(0) translate(4 244)\">\n",
       "<title>%3</title>\n",
       "<polygon fill=\"white\" stroke=\"none\" points=\"-4,4 -4,-244 511.421,-244 511.421,4 -4,4\"/>\n",
       "<!-- EMPTY -->\n",
       "<g id=\"node1\" class=\"node\"><title>EMPTY</title>\n",
       "</g>\n",
       "<!-- I -->\n",
       "<g id=\"node2\" class=\"node\"><title>I</title>\n",
       "<ellipse fill=\"none\" stroke=\"black\" cx=\"109\" cy=\"-22\" rx=\"18\" ry=\"18\"/>\n",
       "<text text-anchor=\"middle\" x=\"109\" y=\"-17.8\" font-family=\"Times,serif\" font-size=\"14.00\">I</text>\n",
       "</g>\n",
       "<!-- EMPTY&#45;&gt;I -->\n",
       "<g id=\"edge1\" class=\"edge\"><title>EMPTY&#45;&gt;I</title>\n",
       "<path fill=\"none\" stroke=\"black\" d=\"M54.195,-22C62.6538,-22 72.0513,-22 80.5951,-22\"/>\n",
       "<polygon fill=\"black\" stroke=\"black\" points=\"80.8257,-25.5001 90.8257,-22 80.8257,-18.5001 80.8257,-25.5001\"/>\n",
       "</g>\n",
       "<!-- M -->\n",
       "<g id=\"node3\" class=\"node\"><title>M</title>\n",
       "<ellipse fill=\"none\" stroke=\"black\" cx=\"299.486\" cy=\"-22\" rx=\"18\" ry=\"18\"/>\n",
       "<text text-anchor=\"middle\" x=\"299.486\" y=\"-17.8\" font-family=\"Times,serif\" font-size=\"14.00\">M</text>\n",
       "</g>\n",
       "<!-- I&#45;&gt;M -->\n",
       "<g id=\"edge2\" class=\"edge\"><title>I&#45;&gt;M</title>\n",
       "<path fill=\"none\" stroke=\"black\" d=\"M127.059,-22C159.778,-22 231.6,-22 271.104,-22\"/>\n",
       "<polygon fill=\"black\" stroke=\"black\" points=\"271.33,-25.5001 281.33,-22 271.33,-18.5001 271.33,-25.5001\"/>\n",
       "<text text-anchor=\"middle\" x=\"167.743\" y=\"-24.8\" font-family=\"Times,serif\" font-size=\"14.00\">&#39;&#39;, # ; E#</text>\n",
       "</g>\n",
       "<!-- M&#45;&gt;M -->\n",
       "<g id=\"edge3\" class=\"edge\"><title>M&#45;&gt;M</title>\n",
       "<path fill=\"none\" stroke=\"black\" d=\"M283.757,-30.8577C269.388,-43.0571 274.631,-58 299.486,-58 319.099,-58 326.5,-48.6963 321.69,-38.7778\"/>\n",
       "<polygon fill=\"black\" stroke=\"black\" points=\"324.254,-36.3842 315.215,-30.8577 318.835,-40.8149 324.254,-36.3842\"/>\n",
       "<text text-anchor=\"middle\" x=\"299.486\" y=\"-228.8\" font-family=\"Times,serif\" font-size=\"14.00\">*, * ; &#39;&#39; </text>\n",
       "<text text-anchor=\"middle\" x=\"299.486\" y=\"-214.8\" font-family=\"Times,serif\" font-size=\"14.00\"> 3, 3 ; &#39;&#39; </text>\n",
       "<text text-anchor=\"middle\" x=\"299.486\" y=\"-200.8\" font-family=\"Times,serif\" font-size=\"14.00\"> &#39;&#39;, E ; E+E </text>\n",
       "<text text-anchor=\"middle\" x=\"299.486\" y=\"-186.8\" font-family=\"Times,serif\" font-size=\"14.00\"> ), ) ; &#39;&#39; </text>\n",
       "<text text-anchor=\"middle\" x=\"299.486\" y=\"-172.8\" font-family=\"Times,serif\" font-size=\"14.00\"> +, + ; &#39;&#39; </text>\n",
       "<text text-anchor=\"middle\" x=\"299.486\" y=\"-158.8\" font-family=\"Times,serif\" font-size=\"14.00\"> &#39;&#39;, E ; E*E </text>\n",
       "<text text-anchor=\"middle\" x=\"299.486\" y=\"-144.8\" font-family=\"Times,serif\" font-size=\"14.00\"> (, ( ; &#39;&#39; </text>\n",
       "<text text-anchor=\"middle\" x=\"299.486\" y=\"-130.8\" font-family=\"Times,serif\" font-size=\"14.00\"> &#39;&#39;, E ; 2 </text>\n",
       "<text text-anchor=\"middle\" x=\"299.486\" y=\"-116.8\" font-family=\"Times,serif\" font-size=\"14.00\"> &#39;&#39;, E ; ~E </text>\n",
       "<text text-anchor=\"middle\" x=\"299.486\" y=\"-102.8\" font-family=\"Times,serif\" font-size=\"14.00\"> &#39;&#39;, E ; (E) </text>\n",
       "<text text-anchor=\"middle\" x=\"299.486\" y=\"-88.8\" font-family=\"Times,serif\" font-size=\"14.00\"> ~, ~ ; &#39;&#39; </text>\n",
       "<text text-anchor=\"middle\" x=\"299.486\" y=\"-74.8\" font-family=\"Times,serif\" font-size=\"14.00\"> &#39;&#39;, E ; 3 </text>\n",
       "<text text-anchor=\"middle\" x=\"299.486\" y=\"-60.8\" font-family=\"Times,serif\" font-size=\"14.00\"> 2, 2 ; &#39;&#39;</text>\n",
       "</g>\n",
       "<!-- F -->\n",
       "<g id=\"node4\" class=\"node\"><title>F</title>\n",
       "<ellipse fill=\"none\" stroke=\"black\" cx=\"485.421\" cy=\"-22\" rx=\"18\" ry=\"18\"/>\n",
       "<ellipse fill=\"none\" stroke=\"black\" cx=\"485.421\" cy=\"-22\" rx=\"22\" ry=\"22\"/>\n",
       "<text text-anchor=\"middle\" x=\"485.421\" y=\"-17.8\" font-family=\"Times,serif\" font-size=\"14.00\">F</text>\n",
       "</g>\n",
       "<!-- M&#45;&gt;F -->\n",
       "<g id=\"edge4\" class=\"edge\"><title>M&#45;&gt;F</title>\n",
       "<path fill=\"none\" stroke=\"black\" d=\"M317.79,-22C348.772,-22 414.114,-22 453.135,-22\"/>\n",
       "<polygon fill=\"black\" stroke=\"black\" points=\"453.392,-25.5001 463.392,-22 453.392,-18.5001 453.392,-25.5001\"/>\n",
       "<text text-anchor=\"middle\" x=\"426.954\" y=\"-24.8\" font-family=\"Times,serif\" font-size=\"14.00\">&#39;&#39;, # ; #</text>\n",
       "</g>\n",
       "</g>\n",
       "</svg>\n"
      ],
      "text/plain": [
       "<graphviz.dot.Digraph at 0x111d236d8>"
      ]
     },
     "execution_count": 103,
     "metadata": {},
     "output_type": "execute_result"
    }
   ],
   "source": [
    "DOpdaEamb = dotObj_pda(pdaEamb, FuseEdges=True)\n",
    "DOpdaEamb"
   ]
  },
  {
   "cell_type": "code",
   "execution_count": 104,
   "metadata": {
    "run_control": {
     "frozen": false,
     "read_only": false
    }
   },
   "outputs": [
    {
     "name": "stdout",
     "output_type": "stream",
     "text": [
      "String 3+2*3 accepted by your PDA in 2 ways :-) \n",
      "Here are the ways: \n",
      "Final state  ('F', '', '#')\n",
      "Reached as follows:\n",
      "->  ('I', '3+2*3', '#')\n",
      "->  ('M', '3+2*3', 'E#')\n",
      "->  ('M', '3+2*3', 'E+E#')\n",
      "->  ('M', '3+2*3', '3+E#')\n",
      "->  ('M', '+2*3', '+E#')\n",
      "->  ('M', '2*3', 'E#')\n",
      "->  ('M', '2*3', 'E*E#')\n",
      "->  ('M', '2*3', '2*E#')\n",
      "->  ('M', '*3', '*E#')\n",
      "->  ('M', '3', 'E#')\n",
      "->  ('M', '3', '3#')\n",
      "->  ('M', '', '#')\n",
      "->  ('F', '', '#') .\n",
      "Final state  ('F', '', '#')\n",
      "Reached as follows:\n",
      "->  ('I', '3+2*3', '#')\n",
      "->  ('M', '3+2*3', 'E#')\n",
      "->  ('M', '3+2*3', 'E*E#')\n",
      "->  ('M', '3+2*3', 'E+E*E#')\n",
      "->  ('M', '3+2*3', '3+E*E#')\n",
      "->  ('M', '+2*3', '+E*E#')\n",
      "->  ('M', '2*3', 'E*E#')\n",
      "->  ('M', '2*3', '2*E#')\n",
      "->  ('M', '*3', '*E#')\n",
      "->  ('M', '3', 'E#')\n",
      "->  ('M', '3', '3#')\n",
      "->  ('M', '', '#')\n",
      "->  ('F', '', '#') .\n"
     ]
    }
   ],
   "source": [
    "explore_pda(\"3+2*3\", pdaEamb, STKMAX=5)"
   ]
  },
  {
   "cell_type": "code",
   "execution_count": 27,
   "metadata": {
    "run_control": {
     "frozen": false,
     "read_only": false
    }
   },
   "outputs": [
    {
     "data": {
      "text/plain": [
       "3"
      ]
     },
     "execution_count": 27,
     "metadata": {},
     "output_type": "execute_result"
    }
   ],
   "source": [
    "3"
   ]
  },
  {
   "cell_type": "code",
   "execution_count": 28,
   "metadata": {
    "collapsed": true,
    "run_control": {
     "frozen": false,
     "read_only": false
    }
   },
   "outputs": [],
   "source": [
    "eqpda=md2mc('''\n",
    "PDA\n",
    "I : a,#;a# | b,#;b# | a,a;aa | b,b;bb -> I\n",
    "I : a,b;'' | b,a;'' -> I\n",
    "I : '',#; # -> F\n",
    "'''\n",
    "           )"
   ]
  },
  {
   "cell_type": "code",
   "execution_count": 29,
   "metadata": {
    "run_control": {
     "frozen": false,
     "read_only": false
    }
   },
   "outputs": [
    {
     "data": {
      "image/svg+xml": [
       "<?xml version=\"1.0\" encoding=\"UTF-8\" standalone=\"no\"?>\n",
       "<!DOCTYPE svg PUBLIC \"-//W3C//DTD SVG 1.1//EN\"\n",
       " \"http://www.w3.org/Graphics/SVG/1.1/DTD/svg11.dtd\">\n",
       "<!-- Generated by graphviz version 2.38.0 (20140413.2041)\n",
       " -->\n",
       "<!-- Title: %3 Pages: 1 -->\n",
       "<svg width=\"300pt\" height=\"150pt\"\n",
       " viewBox=\"0.00 0.00 299.93 150.00\" xmlns=\"http://www.w3.org/2000/svg\" xmlns:xlink=\"http://www.w3.org/1999/xlink\">\n",
       "<g id=\"graph0\" class=\"graph\" transform=\"scale(1 1) rotate(0) translate(4 146)\">\n",
       "<title>%3</title>\n",
       "<polygon fill=\"white\" stroke=\"none\" points=\"-4,4 -4,-146 295.935,-146 295.935,4 -4,4\"/>\n",
       "<!-- EMPTY -->\n",
       "<g id=\"node1\" class=\"node\"><title>EMPTY</title>\n",
       "</g>\n",
       "<!-- I -->\n",
       "<g id=\"node2\" class=\"node\"><title>I</title>\n",
       "<ellipse fill=\"none\" stroke=\"black\" cx=\"133\" cy=\"-22\" rx=\"18\" ry=\"18\"/>\n",
       "<text text-anchor=\"middle\" x=\"133\" y=\"-17.8\" font-family=\"Times,serif\" font-size=\"14.00\">I</text>\n",
       "</g>\n",
       "<!-- EMPTY&#45;&gt;I -->\n",
       "<g id=\"edge1\" class=\"edge\"><title>EMPTY&#45;&gt;I</title>\n",
       "<path fill=\"none\" stroke=\"black\" d=\"M54.2436,-22C69.6933,-22 89.2012,-22 104.812,-22\"/>\n",
       "<polygon fill=\"black\" stroke=\"black\" points=\"104.899,-25.5001 114.899,-22 104.899,-18.5001 104.899,-25.5001\"/>\n",
       "</g>\n",
       "<!-- I&#45;&gt;I -->\n",
       "<g id=\"edge2\" class=\"edge\"><title>I&#45;&gt;I</title>\n",
       "<path fill=\"none\" stroke=\"black\" d=\"M122.849,-37.1666C119.772,-47.6641 123.156,-58 133,-58 139.46,-58 143.138,-53.5487 144.034,-47.5216\"/>\n",
       "<polygon fill=\"black\" stroke=\"black\" points=\"147.488,-46.8334 143.151,-37.1666 140.513,-47.4277 147.488,-46.8334\"/>\n",
       "<text text-anchor=\"middle\" x=\"133\" y=\"-130.8\" font-family=\"Times,serif\" font-size=\"14.00\">a, a ; aa </text>\n",
       "<text text-anchor=\"middle\" x=\"133\" y=\"-116.8\" font-family=\"Times,serif\" font-size=\"14.00\"> b, # ; b# </text>\n",
       "<text text-anchor=\"middle\" x=\"133\" y=\"-102.8\" font-family=\"Times,serif\" font-size=\"14.00\"> b, b ; bb </text>\n",
       "<text text-anchor=\"middle\" x=\"133\" y=\"-88.8\" font-family=\"Times,serif\" font-size=\"14.00\"> a, b ; &#39;&#39; </text>\n",
       "<text text-anchor=\"middle\" x=\"133\" y=\"-74.8\" font-family=\"Times,serif\" font-size=\"14.00\"> b, a ; &#39;&#39; </text>\n",
       "<text text-anchor=\"middle\" x=\"133\" y=\"-60.8\" font-family=\"Times,serif\" font-size=\"14.00\"> a, # ; a#</text>\n",
       "</g>\n",
       "<!-- F -->\n",
       "<g id=\"node3\" class=\"node\"><title>F</title>\n",
       "<ellipse fill=\"none\" stroke=\"black\" cx=\"269.935\" cy=\"-22\" rx=\"18\" ry=\"18\"/>\n",
       "<ellipse fill=\"none\" stroke=\"black\" cx=\"269.935\" cy=\"-22\" rx=\"22\" ry=\"22\"/>\n",
       "<text text-anchor=\"middle\" x=\"269.935\" y=\"-17.8\" font-family=\"Times,serif\" font-size=\"14.00\">F</text>\n",
       "</g>\n",
       "<!-- I&#45;&gt;F -->\n",
       "<g id=\"edge3\" class=\"edge\"><title>I&#45;&gt;F</title>\n",
       "<path fill=\"none\" stroke=\"black\" d=\"M151.09,-22C172.751,-22 210.51,-22 237.449,-22\"/>\n",
       "<polygon fill=\"black\" stroke=\"black\" points=\"237.542,-25.5001 247.542,-22 237.542,-18.5001 237.542,-25.5001\"/>\n",
       "<text text-anchor=\"middle\" x=\"211.467\" y=\"-24.8\" font-family=\"Times,serif\" font-size=\"14.00\">&#39;&#39;, # ; #</text>\n",
       "</g>\n",
       "</g>\n",
       "</svg>\n"
      ],
      "text/plain": [
       "<graphviz.dot.Digraph at 0x10bb908d0>"
      ]
     },
     "execution_count": 29,
     "metadata": {},
     "output_type": "execute_result"
    }
   ],
   "source": [
    "dotObj_pda(eqpda, FuseEdges=True)"
   ]
  },
  {
   "cell_type": "code",
   "execution_count": 30,
   "metadata": {
    "run_control": {
     "frozen": false,
     "read_only": false
    }
   },
   "outputs": [
    {
     "name": "stdout",
     "output_type": "stream",
     "text": [
      "String aaaaaabbbbbb accepted by your PDA in 1 ways :-) \n",
      "Here are the ways: \n",
      "Final state  ('F', '', '#')\n",
      "Reached as follows:\n",
      "->  ('I', 'aaaaaabbbbbb', '#')\n",
      "->  ('I', 'aaaaabbbbbb', 'a#')\n",
      "->  ('I', 'aaaabbbbbb', 'aa#')\n",
      "->  ('I', 'aaabbbbbb', 'aaa#')\n",
      "->  ('I', 'aabbbbbb', 'aaaa#')\n",
      "->  ('I', 'abbbbbb', 'aaaaa#')\n",
      "->  ('I', 'bbbbbb', 'aaaaaa#')\n",
      "->  ('I', 'bbbbb', 'aaaaa#')\n",
      "->  ('I', 'bbbb', 'aaaa#')\n",
      "->  ('I', 'bbb', 'aaa#')\n",
      "->  ('I', 'bb', 'aa#')\n",
      "->  ('I', 'b', 'a#')\n",
      "->  ('I', '', '#')\n",
      "->  ('F', '', '#') .\n"
     ]
    }
   ],
   "source": [
    "explore_pda(\"aaaaaabbbbbb\",eqpda)"
   ]
  },
  {
   "cell_type": "code",
   "execution_count": 31,
   "metadata": {
    "run_control": {
     "frozen": false,
     "read_only": false
    }
   },
   "outputs": [
    {
     "name": "stdout",
     "output_type": "stream",
     "text": [
      "String  accepted by your PDA in 1 ways :-) \n",
      "Here are the ways: \n",
      "Final state  ('F', '', '#')\n",
      "Reached as follows:\n",
      "->  ('I', '', '#')\n",
      "->  ('F', '', '#') .\n"
     ]
    }
   ],
   "source": [
    "explore_pda(\"\",eqpda)"
   ]
  },
  {
   "cell_type": "code",
   "execution_count": 34,
   "metadata": {
    "run_control": {
     "frozen": false,
     "read_only": false
    }
   },
   "outputs": [
    {
     "name": "stdout",
     "output_type": "stream",
     "text": [
      "String bbabaaabaabbbbaa accepted by your PDA in 1 ways :-) \n",
      "Here are the ways: \n",
      "Final state  ('F', '', '#')\n",
      "Reached as follows:\n",
      "->  ('I', 'bbabaaabaabbbbaa', '#')\n",
      "->  ('I', 'babaaabaabbbbaa', 'b#')\n",
      "->  ('I', 'abaaabaabbbbaa', 'bb#')\n",
      "->  ('I', 'baaabaabbbbaa', 'b#')\n",
      "->  ('I', 'aaabaabbbbaa', 'bb#')\n",
      "->  ('I', 'aabaabbbbaa', 'b#')\n",
      "->  ('I', 'abaabbbbaa', '#')\n",
      "->  ('I', 'baabbbbaa', 'a#')\n",
      "->  ('I', 'aabbbbaa', '#')\n",
      "->  ('I', 'abbbbaa', 'a#')\n",
      "->  ('I', 'bbbbaa', 'aa#')\n",
      "->  ('I', 'bbbaa', 'a#')\n",
      "->  ('I', 'bbaa', '#')\n",
      "->  ('I', 'baa', 'b#')\n",
      "->  ('I', 'aa', 'bb#')\n",
      "->  ('I', 'a', 'b#')\n",
      "->  ('I', '', '#')\n",
      "->  ('F', '', '#') .\n"
     ]
    }
   ],
   "source": [
    "explore_pda(\"bbabaaabaabbbbaa\",eqpda)"
   ]
  },
  {
   "cell_type": "code",
   "execution_count": 35,
   "metadata": {
    "run_control": {
     "frozen": false,
     "read_only": false
    }
   },
   "outputs": [
    {
     "name": "stdout",
     "output_type": "stream",
     "text": [
      "String aaaaaabbbbb rejected by your PDA :-(\n",
      "Visited states are:\n",
      "{('I', 'aaaaabbbbb', 'a#'), ('I', 'aaabbbbb', 'aaa#'), ('I', 'aabbbbb', 'aaaa#'), ('I', 'aaaabbbbb', 'aa#'), ('F', 'aaaaaabbbbb', '#'), ('I', 'bb', 'aaa#'), ('I', 'b', 'aa#'), ('I', 'bbbbb', 'aaaaaa#'), ('I', 'bbbb', 'aaaaa#'), ('I', 'bbb', 'aaaa#'), ('I', 'aaaaaabbbbb', '#'), ('I', '', 'a#'), ('I', 'abbbbb', 'aaaaa#')}\n"
     ]
    }
   ],
   "source": [
    "explore_pda(\"aaaaaabbbbb\",eqpda)"
   ]
  },
  {
   "cell_type": "code",
   "execution_count": null,
   "metadata": {
    "collapsed": true,
    "run_control": {
     "frozen": false,
     "read_only": false
    }
   },
   "outputs": [],
   "source": []
  }
 ],
 "metadata": {
  "kernelspec": {
   "display_name": "Python 3",
   "language": "python",
   "name": "python3"
  },
  "language_info": {
   "codemirror_mode": {
    "name": "ipython",
    "version": 3
   },
   "file_extension": ".py",
   "mimetype": "text/x-python",
   "name": "python",
   "nbconvert_exporter": "python",
   "pygments_lexer": "ipython3",
   "version": "3.6.0"
  },
  "toc": {
   "colors": {
    "hover_highlight": "#DAA520",
    "running_highlight": "#FF0000",
    "selected_highlight": "#FFD700"
   },
   "moveMenuLeft": true,
   "nav_menu": {
    "height": "318px",
    "width": "252px"
   },
   "navigate_menu": true,
   "number_sections": true,
   "sideBar": true,
   "threshold": 4,
   "toc_cell": false,
   "toc_section_display": "block",
   "toc_window_display": false,
   "widenNotebook": false
  }
 },
 "nbformat": 4,
 "nbformat_minor": 1
}
