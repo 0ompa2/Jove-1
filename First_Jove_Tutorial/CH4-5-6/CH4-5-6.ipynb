{
 "cells": [
  {
   "cell_type": "markdown",
   "metadata": {
    "run_control": {
     "frozen": false,
     "read_only": false
    }
   },
   "source": [
    "# A DFA Overview Video\n",
    "\n",
    "If you'd like to relive my first lecture on DFA, be my guest; play the Youtube video below!\n",
    "My own advice: listen a little and then stop the video and start playing with the code below!"
   ]
  },
  {
   "cell_type": "code",
   "execution_count": 1,
   "metadata": {
    "run_control": {
     "frozen": false,
     "read_only": false
    }
   },
   "outputs": [
    {
     "data": {
      "image/jpeg": "[encoded data removed]",
      "text/html": [
       "\n",
       "        <iframe\n",
       "            width=\"400\"\n",
       "            height=\"300\"\n",
       "            src=\"https://www.youtube.com/embed/FItN6CK1mow\"\n",
       "            frameborder=\"0\"\n",
       "            allowfullscreen\n",
       "        ></iframe>\n",
       "        "
      ],
      "text/plain": [
       "<IPython.lib.display.YouTubeVideo at 0x110a44550>"
      ]
     },
     "execution_count": 1,
     "metadata": {},
     "output_type": "execute_result"
    }
   ],
   "source": [
    "# This Youtube video walks through a basic DFA lecture\n",
    "from IPython.display import YouTubeVideo\n",
    "YouTubeVideo('FItN6CK1mow')"
   ]
  },
  {
   "cell_type": "markdown",
   "metadata": {
    "run_control": {
     "frozen": false,
     "read_only": false
    }
   },
   "source": [
    "# Simple DFA Exercises"
   ]
  },
  {
   "cell_type": "code",
   "execution_count": 2,
   "metadata": {
    "run_control": {
     "frozen": false,
     "read_only": false
    }
   },
   "outputs": [
    {
     "name": "stdout",
     "output_type": "stream",
     "text": [
      "You may use any of these help commands:\n",
      "help(ResetStNum)\n",
      "help(NxtStateStr)\n",
      "\n",
      "You may use any of these help commands:\n",
      "help(md2mc)\n",
      ".. and if you want to dig more, then ..\n",
      "help(default_line_attr)\n",
      "help(length_ok_input_items)\n",
      "help(union_line_attr_list_fld)\n",
      "help(extend_rsltdict)\n",
      "help(form_delta)\n",
      "help(get_machine_components)\n",
      "\n",
      "You may use any of these help commands:\n",
      "help(mkp_dfa)\n",
      "help(mk_dfa)\n",
      "help(totalize_dfa)\n",
      "help(addtosigma_delta)\n",
      "help(step_dfa)\n",
      "help(run_dfa)\n",
      "help(accepts_dfa)\n",
      "help(comp_dfa)\n",
      "help(union_dfa)\n",
      "help(intersect_dfa)\n",
      "help(pruneUnreach)\n",
      "help(iso_dfa)\n",
      "help(langeq_dfa)\n",
      "help(same_status)\n",
      "help(h_langeq_dfa)\n",
      "help(fixptDist)\n",
      "help(min_dfa)\n",
      "help(pairFR)\n",
      "help(state_combos)\n",
      "help(sepFinNonFin)\n",
      "help(bash_eql_classes)\n",
      "help(listminus)\n",
      "help(bash_1)\n",
      "help(mk_rep_eqc)\n",
      "help(F_of)\n",
      "help(rep_of_s)\n",
      "help(q0_of)\n",
      "help(Delta_of)\n",
      "help(mk_state_eqc_name)\n",
      "\n"
     ]
    }
   ],
   "source": [
    "import sys\n",
    "sys.path[0:0] = ['../..']        # Put ../.. at the head of the search path\n",
    "from jove.DotBashers import *\n",
    "from jove.Def_md2mc  import *\n",
    "from jove.Def_DFA    import *"
   ]
  },
  {
   "cell_type": "markdown",
   "metadata": {
    "run_control": {
     "frozen": false,
     "read_only": false
    }
   },
   "source": [
    "# Try using a few help commands"
   ]
  },
  {
   "cell_type": "code",
   "execution_count": 3,
   "metadata": {
    "run_control": {
     "frozen": false,
     "read_only": false
    }
   },
   "outputs": [
    {
     "name": "stdout",
     "output_type": "stream",
     "text": [
      "Help on function md2mc in module jove.Def_md2mc:\n",
      "\n",
      "md2mc(src='None', fname='None')\n",
      "    md2mc converts a markdown source to a machine (mc).\n",
      "    \n",
      "    One can feed the markdown in three ways, shown via \n",
      "    pseudo-examples:\n",
      "    \n",
      "    1) md2mc()\n",
      "    \n",
      "       It means you will provide a file-name\n",
      "       (you will be prompted for one). Then the markdown is read from\n",
      "       that file. \n",
      "       \n",
      "    2) md2mc(src=\"<any string S other than 'File'>\")\n",
      "    \n",
      "       S is now taken as the markdown string and parsed. This is \n",
      "       bound to be a multi-line file. \n",
      "       \n",
      "       There is a Jupyter bug that if the parser (or any process) \n",
      "       consuming a multi-line input throws an exception, you will get \n",
      "       a strange error message: \n",
      "       ERROR:root:An unexpected error occurred while tokenizing input\n",
      "       Ignore it please, and instead spend your time fixing the \n",
      "       markdown input. See for details:\n",
      "       https://github.com/ipython/ipython/issues/6864\n",
      "       \n",
      "       \n",
      "    3) md2mc(src=\"File\", fname=\"<your file name path>\")\n",
      "    \n",
      "       Obviously, you should not be feeding a markdown with contents \n",
      "       \"File\". It is not legit markdown syntax. So if src=\"File\", \n",
      "       then fname is taken to be the path-name to a file that is \n",
      "       opened and read.\n",
      "     \n",
      "    In all cases, the returned result is a machine structure (dict).\n",
      "\n"
     ]
    }
   ],
   "source": [
    "help(md2mc)"
   ]
  },
  {
   "cell_type": "code",
   "execution_count": 4,
   "metadata": {
    "run_control": {
     "frozen": false,
     "read_only": false
    }
   },
   "outputs": [
    {
     "name": "stdout",
     "output_type": "stream",
     "text": [
      "Help on function intersect_dfa in module jove.Def_DFA:\n",
      "\n",
      "intersect_dfa(D1in, D2in)\n",
      "    In : D1in (consistent DFA)\n",
      "         D2in (consistent DFA)\n",
      "    Out: DFA for language intersection of D1in, D2in (consistent DFA).\n",
      "\n"
     ]
    }
   ],
   "source": [
    "help(intersect_dfa)"
   ]
  },
  {
   "cell_type": "markdown",
   "metadata": {
    "run_control": {
     "frozen": false,
     "read_only": false
    }
   },
   "source": [
    "# Specify your DFA : now as a \"raw\" dict\n",
    "\n",
    "This is error-prone. A better method will be introduced momentarily!"
   ]
  },
  {
   "cell_type": "code",
   "execution_count": 5,
   "metadata": {
    "run_control": {
     "frozen": false,
     "read_only": false
    }
   },
   "outputs": [],
   "source": [
    "Fig34 = {\n",
    " 'Q': {'A', 'F', 'I'},\n",
    " 'Sigma': {'0', '1'},\n",
    " 'Delta': {('A', '0'): 'I',\n",
    "  ('A', '1'): 'I',\n",
    "  ('F', '0'): 'I',\n",
    "  ('F', '1'): 'I',\n",
    "  ('I', '0'): 'A',\n",
    "  ('I', '1'): 'F'},\n",
    " 'q0': 'I',\n",
    " 'F': {'F'}\n",
    "}"
   ]
  },
  {
   "cell_type": "code",
   "execution_count": 6,
   "metadata": {
    "run_control": {
     "frozen": false,
     "read_only": false
    }
   },
   "outputs": [
    {
     "data": {
      "image/svg+xml": [
       "<?xml version=\"1.0\" encoding=\"UTF-8\" standalone=\"no\"?>\n",
       "<!DOCTYPE svg PUBLIC \"-//W3C//DTD SVG 1.1//EN\"\n",
       " \"http://www.w3.org/Graphics/SVG/1.1/DTD/svg11.dtd\">\n",
       "<!-- Generated by graphviz version 2.38.0 (20140413.2041)\n",
       " -->\n",
       "<!-- Title: %3 Pages: 1 -->\n",
       "<svg width=\"222pt\" height=\"160pt\"\n",
       " viewBox=\"0.00 0.00 222.00 159.85\" xmlns=\"http://www.w3.org/2000/svg\" xmlns:xlink=\"http://www.w3.org/1999/xlink\">\n",
       "<g id=\"graph0\" class=\"graph\" transform=\"scale(1 1) rotate(0) translate(4 155.851)\">\n",
       "<title>%3</title>\n",
       "<polygon fill=\"white\" stroke=\"none\" points=\"-4,4 -4,-155.851 218,-155.851 218,4 -4,4\"/>\n",
       "<!-- EMPTY -->\n",
       "<g id=\"node1\" class=\"node\"><title>EMPTY</title>\n",
       "</g>\n",
       "<!-- I -->\n",
       "<g id=\"node2\" class=\"node\"><title>I</title>\n",
       "<ellipse fill=\"none\" stroke=\"black\" cx=\"109\" cy=\"-77.8506\" rx=\"18\" ry=\"18\"/>\n",
       "<text text-anchor=\"middle\" x=\"109\" y=\"-73.6506\" font-family=\"Times,serif\" font-size=\"14.00\">I</text>\n",
       "</g>\n",
       "<!-- EMPTY&#45;&gt;I -->\n",
       "<g id=\"edge1\" class=\"edge\"><title>EMPTY&#45;&gt;I</title>\n",
       "<path fill=\"none\" stroke=\"black\" d=\"M54.195,-77.8506C62.6538,-77.8506 72.0513,-77.8506 80.5951,-77.8506\"/>\n",
       "<polygon fill=\"black\" stroke=\"black\" points=\"80.8257,-81.3507 90.8257,-77.8506 80.8257,-74.3507 80.8257,-81.3507\"/>\n",
       "</g>\n",
       "<!-- A -->\n",
       "<g id=\"node3\" class=\"node\"><title>A</title>\n",
       "<ellipse fill=\"none\" stroke=\"black\" cx=\"192\" cy=\"-133.851\" rx=\"18\" ry=\"18\"/>\n",
       "<text text-anchor=\"middle\" x=\"192\" y=\"-129.651\" font-family=\"Times,serif\" font-size=\"14.00\">A</text>\n",
       "</g>\n",
       "<!-- I&#45;&gt;A -->\n",
       "<g id=\"edge6\" class=\"edge\"><title>I&#45;&gt;A</title>\n",
       "<path fill=\"none\" stroke=\"black\" d=\"M115.748,-94.8323C121.115,-107.763 130.503,-124.686 145,-132.851 150.755,-136.092 157.592,-137.343 164.21,-137.553\"/>\n",
       "<polygon fill=\"black\" stroke=\"black\" points=\"164.39,-141.049 174.245,-137.16 164.116,-134.054 164.39,-141.049\"/>\n",
       "<text text-anchor=\"middle\" x=\"148.5\" y=\"-137.651\" font-family=\"Times,serif\" font-size=\"14.00\">0</text>\n",
       "</g>\n",
       "<!-- F -->\n",
       "<g id=\"node4\" class=\"node\"><title>F</title>\n",
       "<ellipse fill=\"none\" stroke=\"black\" cx=\"192\" cy=\"-22.8506\" rx=\"18\" ry=\"18\"/>\n",
       "<ellipse fill=\"none\" stroke=\"black\" cx=\"192\" cy=\"-22.8506\" rx=\"22\" ry=\"22\"/>\n",
       "<text text-anchor=\"middle\" x=\"192\" y=\"-18.6506\" font-family=\"Times,serif\" font-size=\"14.00\">F</text>\n",
       "</g>\n",
       "<!-- I&#45;&gt;F -->\n",
       "<g id=\"edge7\" class=\"edge\"><title>I&#45;&gt;F</title>\n",
       "<path fill=\"none\" stroke=\"black\" d=\"M124.481,-68.0177C135.68,-60.4138 151.481,-49.6848 164.872,-40.5915\"/>\n",
       "<polygon fill=\"black\" stroke=\"black\" points=\"166.945,-43.4146 173.252,-34.9015 163.013,-37.6235 166.945,-43.4146\"/>\n",
       "<text text-anchor=\"middle\" x=\"148.5\" y=\"-55.6506\" font-family=\"Times,serif\" font-size=\"14.00\">1</text>\n",
       "</g>\n",
       "<!-- A&#45;&gt;I -->\n",
       "<g id=\"edge2\" class=\"edge\"><title>A&#45;&gt;I</title>\n",
       "<path fill=\"none\" stroke=\"black\" d=\"M174.973,-127.709C165.797,-123.828 154.297,-118.328 145,-111.851 139.344,-107.91 133.747,-103.039 128.743,-98.2276\"/>\n",
       "<polygon fill=\"black\" stroke=\"black\" points=\"130.969,-95.5007 121.445,-90.8577 125.995,-100.426 130.969,-95.5007\"/>\n",
       "<text text-anchor=\"middle\" x=\"148.5\" y=\"-117.651\" font-family=\"Times,serif\" font-size=\"14.00\">0</text>\n",
       "</g>\n",
       "<!-- A&#45;&gt;I -->\n",
       "<g id=\"edge3\" class=\"edge\"><title>A&#45;&gt;I</title>\n",
       "<path fill=\"none\" stroke=\"black\" d=\"M180.272,-120.116C173.04,-111.609 162.864,-100.984 152,-93.8506 147.19,-90.6921 141.665,-88.0255 136.237,-85.8296\"/>\n",
       "<polygon fill=\"black\" stroke=\"black\" points=\"137.341,-82.5066 126.746,-82.3806 134.95,-89.0856 137.341,-82.5066\"/>\n",
       "<text text-anchor=\"middle\" x=\"148.5\" y=\"-96.6506\" font-family=\"Times,serif\" font-size=\"14.00\">1</text>\n",
       "</g>\n",
       "<!-- F&#45;&gt;I -->\n",
       "<g id=\"edge4\" class=\"edge\"><title>F&#45;&gt;I</title>\n",
       "<path fill=\"none\" stroke=\"black\" d=\"M170.208,-19.2536C161.899,-18.8141 152.535,-19.6487 145,-23.8506 133.907,-30.0374 125.763,-41.38 120.138,-52.0785\"/>\n",
       "<polygon fill=\"black\" stroke=\"black\" points=\"116.95,-50.6329 115.831,-61.1686 123.276,-53.6299 116.95,-50.6329\"/>\n",
       "<text text-anchor=\"middle\" x=\"148.5\" y=\"-26.6506\" font-family=\"Times,serif\" font-size=\"14.00\">0</text>\n",
       "</g>\n",
       "<!-- F&#45;&gt;I -->\n",
       "<g id=\"edge5\" class=\"edge\"><title>F&#45;&gt;I</title>\n",
       "<path fill=\"none\" stroke=\"black\" d=\"M175.051,-8.35986C165.902,-1.86294 154.402,3.13706 145,-2.85062 128.741,-13.2056 119.911,-33.3045 115.189,-50.0911\"/>\n",
       "<polygon fill=\"black\" stroke=\"black\" points=\"111.742,-49.4515 112.75,-59.9983 118.539,-51.1249 111.742,-49.4515\"/>\n",
       "<text text-anchor=\"middle\" x=\"148.5\" y=\"-5.65062\" font-family=\"Times,serif\" font-size=\"14.00\">1</text>\n",
       "</g>\n",
       "</g>\n",
       "</svg>\n"
      ],
      "text/plain": [
       "<graphviz.dot.Digraph at 0x110d8eb00>"
      ]
     },
     "execution_count": 6,
     "metadata": {},
     "output_type": "execute_result"
    }
   ],
   "source": [
    "dotObj_dfa(Fig34)"
   ]
  },
  {
   "cell_type": "markdown",
   "metadata": {
    "run_control": {
     "frozen": false,
     "read_only": false
    }
   },
   "source": [
    "# The same DFA in automd (Jove's markdown)\n",
    "\n",
    "This is much less error-prone than a \"plain old dict\" that Fig34 above represented.\n",
    "\n",
    "Notice that there is a mini compiler that processes this markdown language\n",
    "and generates \"code\". The code is basically the dict defined as Fig34 above.\n",
    "\n",
    "This mini-compiler would be studied in later chapters. In particular,\n",
    "students will get to know:\n",
    "\n",
    "* how we parse Fig34md below, and pick out \"->\" as a token\n",
    "\n",
    "* how to collect state names\n",
    "\n",
    "* how \"I\" will be recognized to be an initial-state name\n",
    "\n",
    "* how \"F\" will be recognized to be a final state name\n",
    "\n",
    "In general, anything that starts with \"i\" or \"I\" will be an initial state,\n",
    "and anything that starts with \"f\" or \"F\" will be a final state. The parser\n",
    "underlies function \"md2mc\" below. \n",
    "\n",
    "The parser will also do error-checking. Try renaming all the \"I\"\n",
    "states below to, say, \"j\". Then the error message obtained will be this (after a huge gory Python error stack dump, you'll see this):\n",
    "\n",
    ">> AssertionError: Error: DFA with 0 starting states is illegal.\n",
    "\n",
    "Try keeping the \"I\" state name, but naming the state \"A\" to be \"IA\".\n",
    "Then, the error message obtained will be:\n",
    "\n",
    ">> AssertionError: Error: DFA with 2 starting states is illegal.\n",
    "\n",
    "Studying this mini-compiler will be a treat, in that a student will\n",
    "understand how lexing and parsing works \"for real\", how error-checks\n",
    "are done, how comments are processed, and how the \"code\" is generated\n",
    "if all is well.\n",
    "\n",
    "It also generates well-documented DFA for the reader to study. Why not\n",
    "teach good SW engineering practices even when developing a DFA? After\n",
    "all, these DFA may go into airplanes to be critical controllers, and\n",
    "we don't want them to be ill-documented.\n"
   ]
  },
  {
   "cell_type": "code",
   "execution_count": 7,
   "metadata": {
    "run_control": {
     "frozen": false,
     "read_only": false
    }
   },
   "outputs": [],
   "source": [
    "Fig34md = '''  !! Comments begin with !! and last till the end of line\n",
    "DFA            !! This keyword tells \"md2mc\" that it is parsing a DFA\n",
    "I : 0     -> A !! DFA transition: From initial state I, upon 0, go to state A\n",
    "A : 0 | 1 -> I !! Two DFA transitions: from A, upon 0 or a 1, go to state I\n",
    "I : 1     -> F !! A DFA transition from I to F. I is the initial state and F is final \n",
    "F : 0 | 1 -> I !! From F upon 0 or a 1, go to I.\n",
    "'''"
   ]
  },
  {
   "cell_type": "markdown",
   "metadata": {
    "run_control": {
     "frozen": false,
     "read_only": false
    }
   },
   "source": [
    "# Function md2mc is your automd compiler"
   ]
  },
  {
   "cell_type": "code",
   "execution_count": 8,
   "metadata": {
    "run_control": {
     "frozen": false,
     "read_only": false
    }
   },
   "outputs": [
    {
     "data": {
      "text/plain": [
       "{'Delta': {('A', '0'): 'I',\n",
       "  ('A', '1'): 'I',\n",
       "  ('F', '0'): 'I',\n",
       "  ('F', '1'): 'I',\n",
       "  ('I', '0'): 'A',\n",
       "  ('I', '1'): 'F'},\n",
       " 'F': {'F'},\n",
       " 'Q': {'A', 'F', 'I'},\n",
       " 'Sigma': {'0', '1'},\n",
       " 'q0': 'I'}"
      ]
     },
     "execution_count": 8,
     "metadata": {},
     "output_type": "execute_result"
    }
   ],
   "source": [
    "Fig34MC = md2mc(Fig34md)\n",
    "Fig34MC"
   ]
  },
  {
   "cell_type": "code",
   "execution_count": 9,
   "metadata": {
    "run_control": {
     "frozen": false,
     "read_only": false
    }
   },
   "outputs": [
    {
     "data": {
      "image/svg+xml": [
       "<?xml version=\"1.0\" encoding=\"UTF-8\" standalone=\"no\"?>\n",
       "<!DOCTYPE svg PUBLIC \"-//W3C//DTD SVG 1.1//EN\"\n",
       " \"http://www.w3.org/Graphics/SVG/1.1/DTD/svg11.dtd\">\n",
       "<!-- Generated by graphviz version 2.38.0 (20140413.2041)\n",
       " -->\n",
       "<!-- Title: %3 Pages: 1 -->\n",
       "<svg width=\"222pt\" height=\"172pt\"\n",
       " viewBox=\"0.00 0.00 222.00 172.00\" xmlns=\"http://www.w3.org/2000/svg\" xmlns:xlink=\"http://www.w3.org/1999/xlink\">\n",
       "<g id=\"graph0\" class=\"graph\" transform=\"scale(1 1) rotate(0) translate(4 168)\">\n",
       "<title>%3</title>\n",
       "<polygon fill=\"white\" stroke=\"none\" points=\"-4,4 -4,-168 218,-168 218,4 -4,4\"/>\n",
       "<!-- EMPTY -->\n",
       "<g id=\"node1\" class=\"node\"><title>EMPTY</title>\n",
       "</g>\n",
       "<!-- I -->\n",
       "<g id=\"node2\" class=\"node\"><title>I</title>\n",
       "<ellipse fill=\"none\" stroke=\"black\" cx=\"109\" cy=\"-77\" rx=\"18\" ry=\"18\"/>\n",
       "<text text-anchor=\"middle\" x=\"109\" y=\"-72.8\" font-family=\"Times,serif\" font-size=\"14.00\">I</text>\n",
       "</g>\n",
       "<!-- EMPTY&#45;&gt;I -->\n",
       "<g id=\"edge1\" class=\"edge\"><title>EMPTY&#45;&gt;I</title>\n",
       "<path fill=\"none\" stroke=\"black\" d=\"M54.195,-77C62.6538,-77 72.0513,-77 80.5951,-77\"/>\n",
       "<polygon fill=\"black\" stroke=\"black\" points=\"80.8257,-80.5001 90.8257,-77 80.8257,-73.5001 80.8257,-80.5001\"/>\n",
       "</g>\n",
       "<!-- A -->\n",
       "<g id=\"node3\" class=\"node\"><title>A</title>\n",
       "<ellipse fill=\"none\" stroke=\"black\" cx=\"192\" cy=\"-133\" rx=\"18\" ry=\"18\"/>\n",
       "<text text-anchor=\"middle\" x=\"192\" y=\"-128.8\" font-family=\"Times,serif\" font-size=\"14.00\">A</text>\n",
       "</g>\n",
       "<!-- I&#45;&gt;A -->\n",
       "<g id=\"edge2\" class=\"edge\"><title>I&#45;&gt;A</title>\n",
       "<path fill=\"none\" stroke=\"black\" d=\"M113.197,-94.5657C117.324,-111.556 126.328,-136.387 145,-148 151.921,-152.305 160.204,-151.191 167.822,-148.148\"/>\n",
       "<polygon fill=\"black\" stroke=\"black\" points=\"169.62,-151.162 176.964,-143.525 166.461,-144.915 169.62,-151.162\"/>\n",
       "<text text-anchor=\"middle\" x=\"148.5\" y=\"-152.8\" font-family=\"Times,serif\" font-size=\"14.00\">0</text>\n",
       "</g>\n",
       "<!-- F -->\n",
       "<g id=\"node4\" class=\"node\"><title>F</title>\n",
       "<ellipse fill=\"none\" stroke=\"black\" cx=\"192\" cy=\"-22\" rx=\"18\" ry=\"18\"/>\n",
       "<ellipse fill=\"none\" stroke=\"black\" cx=\"192\" cy=\"-22\" rx=\"22\" ry=\"22\"/>\n",
       "<text text-anchor=\"middle\" x=\"192\" y=\"-17.8\" font-family=\"Times,serif\" font-size=\"14.00\">F</text>\n",
       "</g>\n",
       "<!-- I&#45;&gt;F -->\n",
       "<g id=\"edge5\" class=\"edge\"><title>I&#45;&gt;F</title>\n",
       "<path fill=\"none\" stroke=\"black\" d=\"M124.481,-67.1671C135.68,-59.5632 151.481,-48.8342 164.872,-39.7409\"/>\n",
       "<polygon fill=\"black\" stroke=\"black\" points=\"166.945,-42.564 173.252,-34.0509 163.013,-36.7728 166.945,-42.564\"/>\n",
       "<text text-anchor=\"middle\" x=\"148.5\" y=\"-54.8\" font-family=\"Times,serif\" font-size=\"14.00\">1</text>\n",
       "</g>\n",
       "<!-- A&#45;&gt;I -->\n",
       "<g id=\"edge3\" class=\"edge\"><title>A&#45;&gt;I</title>\n",
       "<path fill=\"none\" stroke=\"black\" d=\"M174.973,-126.858C165.797,-122.977 154.297,-117.477 145,-111 139.344,-107.059 133.747,-102.188 128.743,-97.3769\"/>\n",
       "<polygon fill=\"black\" stroke=\"black\" points=\"130.969,-94.6501 121.445,-90.0071 125.995,-99.5755 130.969,-94.6501\"/>\n",
       "<text text-anchor=\"middle\" x=\"148.5\" y=\"-116.8\" font-family=\"Times,serif\" font-size=\"14.00\">0</text>\n",
       "</g>\n",
       "<!-- A&#45;&gt;I -->\n",
       "<g id=\"edge4\" class=\"edge\"><title>A&#45;&gt;I</title>\n",
       "<path fill=\"none\" stroke=\"black\" d=\"M180.272,-119.266C173.04,-110.759 162.864,-100.133 152,-93 147.19,-89.8414 141.665,-87.1749 136.237,-84.9789\"/>\n",
       "<polygon fill=\"black\" stroke=\"black\" points=\"137.341,-81.656 126.746,-81.53 134.95,-88.235 137.341,-81.656\"/>\n",
       "<text text-anchor=\"middle\" x=\"148.5\" y=\"-95.8\" font-family=\"Times,serif\" font-size=\"14.00\">1</text>\n",
       "</g>\n",
       "<!-- F&#45;&gt;I -->\n",
       "<g id=\"edge6\" class=\"edge\"><title>F&#45;&gt;I</title>\n",
       "<path fill=\"none\" stroke=\"black\" d=\"M169.671,-22.9537C161.468,-24.1151 152.323,-26.4416 145,-31 136.366,-36.3744 129.083,-44.7026 123.435,-52.8036\"/>\n",
       "<polygon fill=\"black\" stroke=\"black\" points=\"120.404,-51.0455 117.96,-61.3545 126.3,-54.8199 120.404,-51.0455\"/>\n",
       "<text text-anchor=\"middle\" x=\"148.5\" y=\"-33.8\" font-family=\"Times,serif\" font-size=\"14.00\">0</text>\n",
       "</g>\n",
       "<!-- F&#45;&gt;I -->\n",
       "<g id=\"edge7\" class=\"edge\"><title>F&#45;&gt;I</title>\n",
       "<path fill=\"none\" stroke=\"black\" d=\"M173.045,-10.5006C164.141,-6.34636 153.502,-3.81404 145,-9 130.448,-17.8762 121.69,-34.9499 116.573,-49.7676\"/>\n",
       "<polygon fill=\"black\" stroke=\"black\" points=\"113.163,-48.9507 113.587,-59.5371 119.857,-50.9973 113.163,-48.9507\"/>\n",
       "<text text-anchor=\"middle\" x=\"148.5\" y=\"-11.8\" font-family=\"Times,serif\" font-size=\"14.00\">1</text>\n",
       "</g>\n",
       "</g>\n",
       "</svg>\n"
      ],
      "text/plain": [
       "<graphviz.dot.Digraph at 0x1118e63c8>"
      ]
     },
     "execution_count": 9,
     "metadata": {},
     "output_type": "execute_result"
    }
   ],
   "source": [
    "# md2mc alone produces a dict similar to Fig34, above.\n",
    "# We pass it to dotObj_dfa which prints the DFA image,\n",
    "# as shown below.\n",
    "\n",
    "dotObj_dfa(md2mc(Fig34md))"
   ]
  },
  {
   "cell_type": "code",
   "execution_count": 10,
   "metadata": {
    "run_control": {
     "frozen": false,
     "read_only": false
    }
   },
   "outputs": [
    {
     "data": {
      "text/plain": [
       "True"
      ]
     },
     "execution_count": 10,
     "metadata": {},
     "output_type": "execute_result"
    }
   ],
   "source": [
    "accepts_dfa(md2mc(Fig34md), \"10101\")"
   ]
  },
  {
   "cell_type": "markdown",
   "metadata": {
    "run_control": {
     "frozen": false,
     "read_only": false
    }
   },
   "source": [
    "# Testing acceptance in one \"go\"\n",
    "\n",
    "Generating multiple strings according to the numeric order (increasing\n",
    "lengths, with each length category exhausted before going to the next \n",
    "length category) is a handy test-input generator.\n",
    "\n",
    "Plus, the \"numeric order\" is a powerful concept which we shall use \n",
    "when we later discuss the \"dovetail enumeration\" order (in Chapter 14\n",
    "and beyond).\n"
   ]
  },
  {
   "cell_type": "code",
   "execution_count": 11,
   "metadata": {
    "run_control": {
     "frozen": false,
     "read_only": false
    }
   },
   "outputs": [],
   "source": [
    "from math import floor, log, pow\n",
    "def nthnumeric(N, Sigma={'0','1'}):\n",
    "    \"\"\"Assume Sigma is a 2-sized list/set of chars (default {'a','b'}). \n",
    "       Produce the Nth string in numeric order, where N >= 0.\n",
    "       Idea : Given N, get b = floor(log_2(N+1)) - need that \n",
    "       many places; what to fill in the places is the binary \n",
    "       code for N - (2^b - 1) with 0 as Sigma[0] and 1 as Sigma[1].    \n",
    "    \"\"\"\n",
    "    if (type(Sigma)==set):\n",
    "       S = list(Sigma)\n",
    "    else:\n",
    "       assert(type(Sigma)==list\n",
    "       ), \"Expected to be given set/list for arg2 of nthnumeric.\"\n",
    "       S = Sigma\n",
    "    assert(len(Sigma)==2\n",
    "          ),\"Expected to be given a Sigma of length 2.\"\n",
    "    if(N==0):\n",
    "        return ''\n",
    "    else:\n",
    "        width = floor(log(N+1, 2))\n",
    "        tofill = int(N - pow(2, width) + 1)\n",
    "        relevant_binstr = bin(tofill)[2::] # strip the 0b \n",
    "                                           # in the leading string\n",
    "        len_to_makeup = width - len(relevant_binstr)\n",
    "        return (S[0]*len_to_makeup + \n",
    "                shomo(relevant_binstr,\n",
    "                      lambda x: S[1] if x=='1' else S[0]))"
   ]
  },
  {
   "cell_type": "code",
   "execution_count": 12,
   "metadata": {
    "run_control": {
     "frozen": false,
     "read_only": false
    }
   },
   "outputs": [
    {
     "data": {
      "text/plain": [
       "['',\n",
       " '1',\n",
       " '0',\n",
       " '11',\n",
       " '10',\n",
       " '01',\n",
       " '00',\n",
       " '111',\n",
       " '110',\n",
       " '101',\n",
       " '100',\n",
       " '011',\n",
       " '010',\n",
       " '001',\n",
       " '000',\n",
       " '1111',\n",
       " '1110',\n",
       " '1101',\n",
       " '1100',\n",
       " '1011']"
      ]
     },
     "execution_count": 12,
     "metadata": {},
     "output_type": "execute_result"
    }
   ],
   "source": [
    "[ nthnumeric(i) for i in range(20) ]"
   ]
  },
  {
   "cell_type": "markdown",
   "metadata": {
    "run_control": {
     "frozen": false,
     "read_only": false
    }
   },
   "source": [
    "# Now one can write a test loop\n",
    "\n",
    "We plow thru the first 20 numeric-order listed strings,\n",
    "and test for acceptance.\n"
   ]
  },
  {
   "cell_type": "code",
   "execution_count": 13,
   "metadata": {
    "run_control": {
     "frozen": false,
     "read_only": false
    }
   },
   "outputs": [
    {
     "name": "stdout",
     "output_type": "stream",
     "text": [
      "Fig34md DFA does not accept  \n",
      "Fig34md DFA accepts  1\n",
      "Fig34md DFA does not accept  0\n",
      "Fig34md DFA does not accept  11\n",
      "Fig34md DFA does not accept  10\n",
      "Fig34md DFA does not accept  01\n",
      "Fig34md DFA does not accept  00\n",
      "Fig34md DFA accepts  111\n",
      "Fig34md DFA does not accept  110\n",
      "Fig34md DFA accepts  101\n",
      "Fig34md DFA does not accept  100\n",
      "Fig34md DFA accepts  011\n",
      "Fig34md DFA does not accept  010\n",
      "Fig34md DFA accepts  001\n",
      "Fig34md DFA does not accept  000\n",
      "Fig34md DFA does not accept  1111\n",
      "Fig34md DFA does not accept  1110\n",
      "Fig34md DFA does not accept  1101\n",
      "Fig34md DFA does not accept  1100\n",
      "Fig34md DFA does not accept  1011\n"
     ]
    }
   ],
   "source": [
    "for s in [ nthnumeric(i) for i in range(20) ]:\n",
    "    if accepts_dfa(md2mc(Fig34md), s):\n",
    "        print(\"Fig34md DFA accepts \", s)\n",
    "    else:\n",
    "        print(\"Fig34md DFA does not accept \", s)"
   ]
  },
  {
   "cell_type": "markdown",
   "metadata": {
    "run_control": {
     "frozen": false,
     "read_only": false
    }
   },
   "source": [
    "# Now, simply run the cells, use help\n",
    "\n",
    "Run the cell contents. At any time if you have a doubt about\n",
    "some function, say \"foo\", run the \"help(foo)\" command. Also\n",
    "refer to Appendix B of our book for a complete explanation of\n",
    "all the Jove functions.\n"
   ]
  },
  {
   "cell_type": "code",
   "execution_count": 14,
   "metadata": {
    "run_control": {
     "frozen": false,
     "read_only": false
    }
   },
   "outputs": [
    {
     "data": {
      "text/plain": [
       "{'Delta': {('A', '0'): 'I',\n",
       "  ('A', '1'): 'I',\n",
       "  ('F', '0'): 'I',\n",
       "  ('F', '1'): 'I',\n",
       "  ('I', '0'): 'A',\n",
       "  ('I', '1'): 'F'},\n",
       " 'F': {'F'},\n",
       " 'Q': {'A', 'F', 'I'},\n",
       " 'Sigma': {'0', '1'},\n",
       " 'q0': 'I'}"
      ]
     },
     "execution_count": 14,
     "metadata": {},
     "output_type": "execute_result"
    }
   ],
   "source": [
    "Fig34MC = md2mc(Fig34md)\n",
    "Fig34MC"
   ]
  },
  {
   "cell_type": "code",
   "execution_count": 15,
   "metadata": {
    "run_control": {
     "frozen": false,
     "read_only": false
    }
   },
   "outputs": [
    {
     "data": {
      "text/plain": [
       "True"
      ]
     },
     "execution_count": 15,
     "metadata": {},
     "output_type": "execute_result"
    }
   ],
   "source": [
    "is_partially_consistent_dfa(Fig34MC)"
   ]
  },
  {
   "cell_type": "code",
   "execution_count": 16,
   "metadata": {
    "run_control": {
     "frozen": false,
     "read_only": false
    }
   },
   "outputs": [
    {
     "data": {
      "image/svg+xml": [
       "<?xml version=\"1.0\" encoding=\"UTF-8\" standalone=\"no\"?>\n",
       "<!DOCTYPE svg PUBLIC \"-//W3C//DTD SVG 1.1//EN\"\n",
       " \"http://www.w3.org/Graphics/SVG/1.1/DTD/svg11.dtd\">\n",
       "<!-- Generated by graphviz version 2.38.0 (20140413.2041)\n",
       " -->\n",
       "<!-- Title: %3 Pages: 1 -->\n",
       "<svg width=\"230pt\" height=\"172pt\"\n",
       " viewBox=\"0.00 0.00 230.00 172.00\" xmlns=\"http://www.w3.org/2000/svg\" xmlns:xlink=\"http://www.w3.org/1999/xlink\">\n",
       "<g id=\"graph0\" class=\"graph\" transform=\"scale(1 1) rotate(0) translate(4 168)\">\n",
       "<title>%3</title>\n",
       "<polygon fill=\"white\" stroke=\"none\" points=\"-4,4 -4,-168 226,-168 226,4 -4,4\"/>\n",
       "<!-- EMPTY -->\n",
       "<g id=\"node1\" class=\"node\"><title>EMPTY</title>\n",
       "</g>\n",
       "<!-- I -->\n",
       "<g id=\"node3\" class=\"node\"><title>I</title>\n",
       "<ellipse fill=\"none\" stroke=\"black\" cx=\"113\" cy=\"-77\" rx=\"18\" ry=\"18\"/>\n",
       "<ellipse fill=\"none\" stroke=\"black\" cx=\"113\" cy=\"-77\" rx=\"22\" ry=\"22\"/>\n",
       "<text text-anchor=\"middle\" x=\"113\" y=\"-72.8\" font-family=\"Times,serif\" font-size=\"14.00\">I</text>\n",
       "</g>\n",
       "<!-- EMPTY&#45;&gt;I -->\n",
       "<g id=\"edge1\" class=\"edge\"><title>EMPTY&#45;&gt;I</title>\n",
       "<path fill=\"none\" stroke=\"black\" d=\"M54.1177,-77C62.5406,-77 71.9629,-77 80.7191,-77\"/>\n",
       "<polygon fill=\"black\" stroke=\"black\" points=\"80.9574,-80.5001 90.9574,-77 80.9573,-73.5001 80.9574,-80.5001\"/>\n",
       "</g>\n",
       "<!-- F -->\n",
       "<g id=\"node2\" class=\"node\"><title>F</title>\n",
       "<ellipse fill=\"none\" stroke=\"black\" cx=\"200\" cy=\"-133\" rx=\"18\" ry=\"18\"/>\n",
       "<text text-anchor=\"middle\" x=\"200\" y=\"-128.8\" font-family=\"Times,serif\" font-size=\"14.00\">F</text>\n",
       "</g>\n",
       "<!-- F&#45;&gt;I -->\n",
       "<g id=\"edge6\" class=\"edge\"><title>F&#45;&gt;I</title>\n",
       "<path fill=\"none\" stroke=\"black\" d=\"M183.101,-126.668C173.968,-122.725 162.468,-117.225 153,-111 147.582,-107.438 142.118,-103.181 137.065,-98.9051\"/>\n",
       "<polygon fill=\"black\" stroke=\"black\" points=\"139.347,-96.2504 129.53,-92.266 134.719,-101.503 139.347,-96.2504\"/>\n",
       "<text text-anchor=\"middle\" x=\"156.5\" y=\"-116.8\" font-family=\"Times,serif\" font-size=\"14.00\">0</text>\n",
       "</g>\n",
       "<!-- F&#45;&gt;I -->\n",
       "<g id=\"edge7\" class=\"edge\"><title>F&#45;&gt;I</title>\n",
       "<path fill=\"none\" stroke=\"black\" d=\"M188.342,-119.157C181.138,-110.606 170.967,-99.9739 160,-93 155.184,-89.9374 149.709,-87.3775 144.259,-85.2681\"/>\n",
       "<polygon fill=\"black\" stroke=\"black\" points=\"145.215,-81.8957 134.62,-81.9465 142.934,-88.5138 145.215,-81.8957\"/>\n",
       "<text text-anchor=\"middle\" x=\"156.5\" y=\"-95.8\" font-family=\"Times,serif\" font-size=\"14.00\">1</text>\n",
       "</g>\n",
       "<!-- I&#45;&gt;F -->\n",
       "<g id=\"edge5\" class=\"edge\"><title>I&#45;&gt;F</title>\n",
       "<path fill=\"none\" stroke=\"black\" d=\"M119.292,-98.25C124.712,-115.029 134.965,-137.33 153,-148 160.015,-152.15 168.321,-150.999 175.931,-147.97\"/>\n",
       "<polygon fill=\"black\" stroke=\"black\" points=\"177.687,-151.004 185.049,-143.385 174.542,-144.75 177.687,-151.004\"/>\n",
       "<text text-anchor=\"middle\" x=\"156.5\" y=\"-152.8\" font-family=\"Times,serif\" font-size=\"14.00\">1</text>\n",
       "</g>\n",
       "<!-- A -->\n",
       "<g id=\"node4\" class=\"node\"><title>A</title>\n",
       "<ellipse fill=\"none\" stroke=\"black\" cx=\"200\" cy=\"-22\" rx=\"18\" ry=\"18\"/>\n",
       "<ellipse fill=\"none\" stroke=\"black\" cx=\"200\" cy=\"-22\" rx=\"22\" ry=\"22\"/>\n",
       "<text text-anchor=\"middle\" x=\"200\" y=\"-17.8\" font-family=\"Times,serif\" font-size=\"14.00\">A</text>\n",
       "</g>\n",
       "<!-- I&#45;&gt;A -->\n",
       "<g id=\"edge2\" class=\"edge\"><title>I&#45;&gt;A</title>\n",
       "<path fill=\"none\" stroke=\"black\" d=\"M132.026,-65.3359C143.746,-57.7523 159.233,-47.7314 172.362,-39.2361\"/>\n",
       "<polygon fill=\"black\" stroke=\"black\" points=\"174.505,-42.0183 181,-33.6473 170.703,-36.1413 174.505,-42.0183\"/>\n",
       "<text text-anchor=\"middle\" x=\"156.5\" y=\"-53.8\" font-family=\"Times,serif\" font-size=\"14.00\">0</text>\n",
       "</g>\n",
       "<!-- A&#45;&gt;I -->\n",
       "<g id=\"edge3\" class=\"edge\"><title>A&#45;&gt;I</title>\n",
       "<path fill=\"none\" stroke=\"black\" d=\"M177.783,-22.0132C169.596,-22.8161 160.432,-24.7472 153,-29 144.147,-34.0661 136.493,-41.9824 130.369,-49.9357\"/>\n",
       "<polygon fill=\"black\" stroke=\"black\" points=\"127.493,-47.9405 124.553,-58.1195 133.199,-51.9953 127.493,-47.9405\"/>\n",
       "<text text-anchor=\"middle\" x=\"156.5\" y=\"-31.8\" font-family=\"Times,serif\" font-size=\"14.00\">0</text>\n",
       "</g>\n",
       "<!-- A&#45;&gt;I -->\n",
       "<g id=\"edge4\" class=\"edge\"><title>A&#45;&gt;I</title>\n",
       "<path fill=\"none\" stroke=\"black\" d=\"M181.646,-9.70569C172.697,-4.97164 161.836,-1.80832 153,-7 138.577,-15.4749 129.098,-31.433 123.102,-45.9743\"/>\n",
       "<polygon fill=\"black\" stroke=\"black\" points=\"119.688,-45.1127 119.489,-55.7056 126.251,-47.5493 119.688,-45.1127\"/>\n",
       "<text text-anchor=\"middle\" x=\"156.5\" y=\"-9.8\" font-family=\"Times,serif\" font-size=\"14.00\">1</text>\n",
       "</g>\n",
       "</g>\n",
       "</svg>\n"
      ],
      "text/plain": [
       "<graphviz.dot.Digraph at 0x11165b278>"
      ]
     },
     "execution_count": 16,
     "metadata": {},
     "output_type": "execute_result"
    }
   ],
   "source": [
    "dotObj_dfa_w_bh(comp_dfa(Fig34MC))"
   ]
  },
  {
   "cell_type": "code",
   "execution_count": 17,
   "metadata": {
    "run_control": {
     "frozen": false,
     "read_only": false
    }
   },
   "outputs": [],
   "source": [
    "ev0 = md2mc('''\n",
    "DFA\n",
    "IF : 0 -> A\n",
    "A  : 0 -> IF\n",
    "''')"
   ]
  },
  {
   "cell_type": "code",
   "execution_count": 18,
   "metadata": {
    "run_control": {
     "frozen": false,
     "read_only": false
    }
   },
   "outputs": [
    {
     "data": {
      "text/plain": [
       "{'Delta': {('A', '0'): 'IF', ('IF', '0'): 'A'},\n",
       " 'F': {'IF'},\n",
       " 'Q': {'A', 'IF'},\n",
       " 'Sigma': {'0'},\n",
       " 'q0': 'IF'}"
      ]
     },
     "execution_count": 18,
     "metadata": {},
     "output_type": "execute_result"
    }
   ],
   "source": [
    "ev0"
   ]
  },
  {
   "cell_type": "code",
   "execution_count": 19,
   "metadata": {
    "run_control": {
     "frozen": false,
     "read_only": false
    }
   },
   "outputs": [],
   "source": [
    "dev0 = dotObj_dfa(ev0)"
   ]
  },
  {
   "cell_type": "code",
   "execution_count": 20,
   "metadata": {
    "run_control": {
     "frozen": false,
     "read_only": false
    }
   },
   "outputs": [
    {
     "data": {
      "image/svg+xml": [
       "<?xml version=\"1.0\" encoding=\"UTF-8\" standalone=\"no\"?>\n",
       "<!DOCTYPE svg PUBLIC \"-//W3C//DTD SVG 1.1//EN\"\n",
       " \"http://www.w3.org/Graphics/SVG/1.1/DTD/svg11.dtd\">\n",
       "<!-- Generated by graphviz version 2.38.0 (20140413.2041)\n",
       " -->\n",
       "<!-- Title: %3 Pages: 1 -->\n",
       "<svg width=\"222pt\" height=\"52pt\"\n",
       " viewBox=\"0.00 0.00 222.00 52.00\" xmlns=\"http://www.w3.org/2000/svg\" xmlns:xlink=\"http://www.w3.org/1999/xlink\">\n",
       "<g id=\"graph0\" class=\"graph\" transform=\"scale(1 1) rotate(0) translate(4 48)\">\n",
       "<title>%3</title>\n",
       "<polygon fill=\"white\" stroke=\"none\" points=\"-4,4 -4,-48 218,-48 218,4 -4,4\"/>\n",
       "<!-- EMPTY -->\n",
       "<g id=\"node1\" class=\"node\"><title>EMPTY</title>\n",
       "</g>\n",
       "<!-- IF -->\n",
       "<g id=\"node3\" class=\"node\"><title>IF</title>\n",
       "<ellipse fill=\"none\" stroke=\"black\" cx=\"113\" cy=\"-22\" rx=\"18\" ry=\"18\"/>\n",
       "<ellipse fill=\"none\" stroke=\"black\" cx=\"113\" cy=\"-22\" rx=\"22\" ry=\"22\"/>\n",
       "<text text-anchor=\"middle\" x=\"113\" y=\"-17.8\" font-family=\"Times,serif\" font-size=\"14.00\">IF</text>\n",
       "</g>\n",
       "<!-- EMPTY&#45;&gt;IF -->\n",
       "<g id=\"edge1\" class=\"edge\"><title>EMPTY&#45;&gt;IF</title>\n",
       "<path fill=\"none\" stroke=\"black\" d=\"M54.1177,-22C62.5406,-22 71.9629,-22 80.7191,-22\"/>\n",
       "<polygon fill=\"black\" stroke=\"black\" points=\"80.9574,-25.5001 90.9574,-22 80.9573,-18.5001 80.9574,-25.5001\"/>\n",
       "</g>\n",
       "<!-- A -->\n",
       "<g id=\"node2\" class=\"node\"><title>A</title>\n",
       "<ellipse fill=\"none\" stroke=\"black\" cx=\"196\" cy=\"-22\" rx=\"18\" ry=\"18\"/>\n",
       "<text text-anchor=\"middle\" x=\"196\" y=\"-17.8\" font-family=\"Times,serif\" font-size=\"14.00\">A</text>\n",
       "</g>\n",
       "<!-- A&#45;&gt;IF -->\n",
       "<g id=\"edge3\" class=\"edge\"><title>A&#45;&gt;IF</title>\n",
       "<path fill=\"none\" stroke=\"black\" d=\"M180.283,-12.4577C174.25,-9.08304 167.04,-5.70409 160,-4 153.655,-2.46403 147.016,-3.43319 140.819,-5.55343\"/>\n",
       "<polygon fill=\"black\" stroke=\"black\" points=\"139.289,-2.40258 131.55,-9.63813 142.112,-8.80816 139.289,-2.40258\"/>\n",
       "<text text-anchor=\"middle\" x=\"156.5\" y=\"-6.8\" font-family=\"Times,serif\" font-size=\"14.00\">0</text>\n",
       "</g>\n",
       "<!-- IF&#45;&gt;A -->\n",
       "<g id=\"edge2\" class=\"edge\"><title>IF&#45;&gt;A</title>\n",
       "<path fill=\"none\" stroke=\"black\" d=\"M135.282,-22C145.266,-22 157.278,-22 167.903,-22\"/>\n",
       "<polygon fill=\"black\" stroke=\"black\" points=\"167.94,-25.5001 177.939,-22 167.939,-18.5001 167.94,-25.5001\"/>\n",
       "<text text-anchor=\"middle\" x=\"156.5\" y=\"-24.8\" font-family=\"Times,serif\" font-size=\"14.00\">0</text>\n",
       "</g>\n",
       "</g>\n",
       "</svg>\n"
      ],
      "text/plain": [
       "<graphviz.dot.Digraph at 0x1118fe470>"
      ]
     },
     "execution_count": 20,
     "metadata": {},
     "output_type": "execute_result"
    }
   ],
   "source": [
    "dev0"
   ]
  },
  {
   "cell_type": "markdown",
   "metadata": {
    "run_control": {
     "frozen": false,
     "read_only": false
    }
   },
   "source": [
    "# You can generate PDF out of a DFA\n",
    "\n",
    "This is one way to \"print\" a DFA as PDF. There are \n",
    "a few more such commands tucked away within Jupyter.\n"
   ]
  },
  {
   "cell_type": "code",
   "execution_count": 21,
   "metadata": {
    "run_control": {
     "frozen": false,
     "read_only": false
    }
   },
   "outputs": [
    {
     "data": {
      "text/plain": [
       "'dev0.pdf'"
      ]
     },
     "execution_count": 21,
     "metadata": {},
     "output_type": "execute_result"
    }
   ],
   "source": [
    "# Generate a PDF this way\n",
    "dev0.render('dev0')"
   ]
  },
  {
   "cell_type": "markdown",
   "metadata": {
    "run_control": {
     "frozen": false,
     "read_only": false
    }
   },
   "source": [
    "# Poke a DFA, add to its Sigma\n",
    "\n",
    "You can expand the Sigma of a DFA later on. Then\n",
    "if you totalize the DFA, you will see black-hole\n",
    "states emerging. The newly added symbols lead to\n",
    "the Black hole states, as shown below.\n"
   ]
  },
  {
   "cell_type": "code",
   "execution_count": 22,
   "metadata": {
    "run_control": {
     "frozen": false,
     "read_only": false
    }
   },
   "outputs": [],
   "source": [
    "ev0_bh =  addtosigma_dfa(ev0, set({'1'}))"
   ]
  },
  {
   "cell_type": "code",
   "execution_count": 23,
   "metadata": {
    "run_control": {
     "frozen": false,
     "read_only": false
    }
   },
   "outputs": [
    {
     "data": {
      "text/plain": [
       "{'Delta': {('A', '0'): 'IF', ('IF', '0'): 'A'},\n",
       " 'F': {'IF'},\n",
       " 'Q': {'A', 'IF'},\n",
       " 'Sigma': {'0', '1'},\n",
       " 'q0': 'IF'}"
      ]
     },
     "execution_count": 23,
     "metadata": {},
     "output_type": "execute_result"
    }
   ],
   "source": [
    "ev0_bh"
   ]
  },
  {
   "cell_type": "code",
   "execution_count": 24,
   "metadata": {
    "run_control": {
     "frozen": false,
     "read_only": false
    }
   },
   "outputs": [],
   "source": [
    "ev0_bh_totalize = totalize_dfa(ev0_bh)"
   ]
  },
  {
   "cell_type": "code",
   "execution_count": 25,
   "metadata": {
    "run_control": {
     "frozen": false,
     "read_only": false
    }
   },
   "outputs": [
    {
     "data": {
      "text/plain": [
       "{'Delta': {('A', '0'): 'IF', ('IF', '0'): 'A'},\n",
       " 'F': {'IF'},\n",
       " 'Q': {'A', 'IF'},\n",
       " 'Sigma': {'0', '1'},\n",
       " 'q0': 'IF'}"
      ]
     },
     "execution_count": 25,
     "metadata": {},
     "output_type": "execute_result"
    }
   ],
   "source": [
    "ev0_bh"
   ]
  },
  {
   "cell_type": "code",
   "execution_count": 26,
   "metadata": {
    "run_control": {
     "frozen": false,
     "read_only": false
    }
   },
   "outputs": [],
   "source": [
    "do_ev0_tot = dotObj_dfa_w_bh(ev0_bh_totalize)"
   ]
  },
  {
   "cell_type": "code",
   "execution_count": 27,
   "metadata": {
    "run_control": {
     "frozen": false,
     "read_only": false
    }
   },
   "outputs": [
    {
     "data": {
      "image/svg+xml": [
       "<?xml version=\"1.0\" encoding=\"UTF-8\" standalone=\"no\"?>\n",
       "<!DOCTYPE svg PUBLIC \"-//W3C//DTD SVG 1.1//EN\"\n",
       " \"http://www.w3.org/Graphics/SVG/1.1/DTD/svg11.dtd\">\n",
       "<!-- Generated by graphviz version 2.38.0 (20140413.2041)\n",
       " -->\n",
       "<!-- Title: %3 Pages: 1 -->\n",
       "<svg width=\"310pt\" height=\"117pt\"\n",
       " viewBox=\"0.00 0.00 309.78 116.78\" xmlns=\"http://www.w3.org/2000/svg\" xmlns:xlink=\"http://www.w3.org/1999/xlink\">\n",
       "<g id=\"graph0\" class=\"graph\" transform=\"scale(1 1) rotate(0) translate(4 112.784)\">\n",
       "<title>%3</title>\n",
       "<polygon fill=\"white\" stroke=\"none\" points=\"-4,4 -4,-112.784 305.784,-112.784 305.784,4 -4,4\"/>\n",
       "<!-- EMPTY -->\n",
       "<g id=\"node1\" class=\"node\"><title>EMPTY</title>\n",
       "</g>\n",
       "<!-- IF -->\n",
       "<g id=\"node4\" class=\"node\"><title>IF</title>\n",
       "<ellipse fill=\"none\" stroke=\"black\" cx=\"113\" cy=\"-35.3918\" rx=\"18\" ry=\"18\"/>\n",
       "<ellipse fill=\"none\" stroke=\"black\" cx=\"113\" cy=\"-35.3918\" rx=\"22\" ry=\"22\"/>\n",
       "<text text-anchor=\"middle\" x=\"113\" y=\"-31.1918\" font-family=\"Times,serif\" font-size=\"14.00\">IF</text>\n",
       "</g>\n",
       "<!-- EMPTY&#45;&gt;IF -->\n",
       "<g id=\"edge1\" class=\"edge\"><title>EMPTY&#45;&gt;IF</title>\n",
       "<path fill=\"none\" stroke=\"black\" d=\"M54.1177,-35.3918C62.5406,-35.3918 71.9629,-35.3918 80.7191,-35.3918\"/>\n",
       "<polygon fill=\"black\" stroke=\"black\" points=\"80.9574,-38.8919 90.9574,-35.3918 80.9573,-31.8919 80.9574,-38.8919\"/>\n",
       "</g>\n",
       "<!-- A -->\n",
       "<g id=\"node2\" class=\"node\"><title>A</title>\n",
       "<ellipse fill=\"none\" stroke=\"black\" cx=\"196\" cy=\"-52.3918\" rx=\"18\" ry=\"18\"/>\n",
       "<text text-anchor=\"middle\" x=\"196\" y=\"-48.1918\" font-family=\"Times,serif\" font-size=\"14.00\">A</text>\n",
       "</g>\n",
       "<!-- BH -->\n",
       "<g id=\"node3\" class=\"node\"><title>BH</title>\n",
       "<ellipse fill=\"none\" stroke=\"black\" cx=\"279.392\" cy=\"-22.3918\" rx=\"22.2841\" ry=\"22.2841\"/>\n",
       "<text text-anchor=\"middle\" x=\"279.392\" y=\"-18.1918\" font-family=\"Times,serif\" font-size=\"14.00\">BH</text>\n",
       "</g>\n",
       "<!-- A&#45;&gt;BH -->\n",
       "<g id=\"edge5\" class=\"edge\"><title>A&#45;&gt;BH</title>\n",
       "<path fill=\"none\" stroke=\"black\" d=\"M213.08,-46.4648C223.142,-42.7561 236.42,-37.8621 248.375,-33.4557\"/>\n",
       "<polygon fill=\"black\" stroke=\"black\" points=\"249.833,-36.6483 258.006,-29.9058 247.412,-30.0803 249.833,-36.6483\"/>\n",
       "<text text-anchor=\"middle\" x=\"235.5\" y=\"-41.1918\" font-family=\"Times,serif\" font-size=\"14.00\">1</text>\n",
       "</g>\n",
       "<!-- A&#45;&gt;IF -->\n",
       "<g id=\"edge3\" class=\"edge\"><title>A&#45;&gt;IF</title>\n",
       "<path fill=\"none\" stroke=\"black\" d=\"M181.093,-42.2244C174.949,-38.3382 167.44,-34.3677 160,-32.3918 155.224,-31.1234 150.075,-30.6414 145.012,-30.6403\"/>\n",
       "<polygon fill=\"black\" stroke=\"black\" points=\"144.67,-27.154 134.885,-31.2155 145.067,-34.1427 144.67,-27.154\"/>\n",
       "<text text-anchor=\"middle\" x=\"156.5\" y=\"-35.1918\" font-family=\"Times,serif\" font-size=\"14.00\">0</text>\n",
       "</g>\n",
       "<!-- BH&#45;&gt;BH -->\n",
       "<g id=\"edge6\" class=\"edge\"><title>BH&#45;&gt;BH</title>\n",
       "<path fill=\"none\" stroke=\"black\" d=\"M275.501,-44.8217C275.183,-54.4985 276.48,-62.7836 279.392,-62.7836 281.166,-62.7836 282.341,-59.707 282.916,-55.1138\"/>\n",
       "<polygon fill=\"black\" stroke=\"black\" points=\"286.424,-54.9399 283.282,-44.8217 279.429,-54.6909 286.424,-54.9399\"/>\n",
       "<text text-anchor=\"middle\" x=\"279.392\" y=\"-65.5836\" font-family=\"Times,serif\" font-size=\"14.00\">1</text>\n",
       "</g>\n",
       "<!-- BH&#45;&gt;BH -->\n",
       "<g id=\"edge7\" class=\"edge\"><title>BH&#45;&gt;BH</title>\n",
       "<path fill=\"none\" stroke=\"black\" d=\"M272.718,-43.9522C269.867,-61.9636 272.091,-80.7836 279.392,-80.7836 285.324,-80.7836 287.904,-68.3594 287.134,-54.0395\"/>\n",
       "<polygon fill=\"black\" stroke=\"black\" points=\"290.599,-53.5277 286.065,-43.9522 283.638,-54.2653 290.599,-53.5277\"/>\n",
       "<text text-anchor=\"middle\" x=\"279.392\" y=\"-83.5836\" font-family=\"Times,serif\" font-size=\"14.00\">0</text>\n",
       "</g>\n",
       "<!-- IF&#45;&gt;A -->\n",
       "<g id=\"edge2\" class=\"edge\"><title>IF&#45;&gt;A</title>\n",
       "<path fill=\"none\" stroke=\"black\" d=\"M133.469,-44.2806C139.595,-46.6939 146.469,-49.0177 153,-50.3918 157.625,-51.365 162.598,-51.9739 167.446,-52.3404\"/>\n",
       "<polygon fill=\"black\" stroke=\"black\" points=\"167.529,-55.8477 177.677,-52.8032 167.846,-48.8548 167.529,-55.8477\"/>\n",
       "<text text-anchor=\"middle\" x=\"156.5\" y=\"-54.1918\" font-family=\"Times,serif\" font-size=\"14.00\">0</text>\n",
       "</g>\n",
       "<!-- IF&#45;&gt;BH -->\n",
       "<g id=\"edge4\" class=\"edge\"><title>IF&#45;&gt;BH</title>\n",
       "<path fill=\"none\" stroke=\"black\" d=\"M133.091,-26.168C145.552,-20.6717 162.354,-14.229 178,-11.3918 201.212,-7.18264 227.756,-10.4364 247.717,-14.4712\"/>\n",
       "<polygon fill=\"black\" stroke=\"black\" points=\"246.986,-17.8939 257.504,-16.6169 248.485,-11.0563 246.986,-17.8939\"/>\n",
       "<text text-anchor=\"middle\" x=\"196\" y=\"-14.1918\" font-family=\"Times,serif\" font-size=\"14.00\">1</text>\n",
       "</g>\n",
       "</g>\n",
       "</svg>\n"
      ],
      "text/plain": [
       "<graphviz.dot.Digraph at 0x111641cf8>"
      ]
     },
     "execution_count": 27,
     "metadata": {},
     "output_type": "execute_result"
    }
   ],
   "source": [
    "do_ev0_tot"
   ]
  },
  {
   "cell_type": "code",
   "execution_count": 28,
   "metadata": {
    "run_control": {
     "frozen": false,
     "read_only": false
    }
   },
   "outputs": [
    {
     "data": {
      "image/svg+xml": [
       "<?xml version=\"1.0\" encoding=\"UTF-8\" standalone=\"no\"?>\n",
       "<!DOCTYPE svg PUBLIC \"-//W3C//DTD SVG 1.1//EN\"\n",
       " \"http://www.w3.org/Graphics/SVG/1.1/DTD/svg11.dtd\">\n",
       "<!-- Generated by graphviz version 2.38.0 (20140413.2041)\n",
       " -->\n",
       "<!-- Title: %3 Pages: 1 -->\n",
       "<svg width=\"310pt\" height=\"99pt\"\n",
       " viewBox=\"0.00 0.00 309.78 98.78\" xmlns=\"http://www.w3.org/2000/svg\" xmlns:xlink=\"http://www.w3.org/1999/xlink\">\n",
       "<g id=\"graph0\" class=\"graph\" transform=\"scale(1 1) rotate(0) translate(4 94.7836)\">\n",
       "<title>%3</title>\n",
       "<polygon fill=\"white\" stroke=\"none\" points=\"-4,4 -4,-94.7836 305.784,-94.7836 305.784,4 -4,4\"/>\n",
       "<!-- EMPTY -->\n",
       "<g id=\"node1\" class=\"node\"><title>EMPTY</title>\n",
       "</g>\n",
       "<!-- IF -->\n",
       "<g id=\"node4\" class=\"node\"><title>IF</title>\n",
       "<ellipse fill=\"none\" stroke=\"black\" cx=\"113\" cy=\"-35.3918\" rx=\"18\" ry=\"18\"/>\n",
       "<ellipse fill=\"none\" stroke=\"black\" cx=\"113\" cy=\"-35.3918\" rx=\"22\" ry=\"22\"/>\n",
       "<text text-anchor=\"middle\" x=\"113\" y=\"-31.1918\" font-family=\"Times,serif\" font-size=\"14.00\">IF</text>\n",
       "</g>\n",
       "<!-- EMPTY&#45;&gt;IF -->\n",
       "<g id=\"edge1\" class=\"edge\"><title>EMPTY&#45;&gt;IF</title>\n",
       "<path fill=\"none\" stroke=\"black\" d=\"M54.1177,-35.3918C62.5406,-35.3918 71.9629,-35.3918 80.7191,-35.3918\"/>\n",
       "<polygon fill=\"black\" stroke=\"black\" points=\"80.9574,-38.8919 90.9574,-35.3918 80.9573,-31.8919 80.9574,-38.8919\"/>\n",
       "</g>\n",
       "<!-- A -->\n",
       "<g id=\"node2\" class=\"node\"><title>A</title>\n",
       "<ellipse fill=\"none\" stroke=\"black\" cx=\"196\" cy=\"-52.3918\" rx=\"18\" ry=\"18\"/>\n",
       "<text text-anchor=\"middle\" x=\"196\" y=\"-48.1918\" font-family=\"Times,serif\" font-size=\"14.00\">A</text>\n",
       "</g>\n",
       "<!-- BH -->\n",
       "<g id=\"node3\" class=\"node\"><title>BH</title>\n",
       "<ellipse fill=\"none\" stroke=\"black\" cx=\"279.392\" cy=\"-22.3918\" rx=\"22.2841\" ry=\"22.2841\"/>\n",
       "<text text-anchor=\"middle\" x=\"279.392\" y=\"-18.1918\" font-family=\"Times,serif\" font-size=\"14.00\">BH</text>\n",
       "</g>\n",
       "<!-- A&#45;&gt;BH -->\n",
       "<g id=\"edge5\" class=\"edge\"><title>A&#45;&gt;BH</title>\n",
       "<path fill=\"none\" stroke=\"black\" d=\"M213.08,-46.4648C223.142,-42.7561 236.42,-37.8621 248.375,-33.4557\"/>\n",
       "<polygon fill=\"black\" stroke=\"black\" points=\"249.833,-36.6483 258.006,-29.9058 247.412,-30.0803 249.833,-36.6483\"/>\n",
       "<text text-anchor=\"middle\" x=\"235.5\" y=\"-41.1918\" font-family=\"Times,serif\" font-size=\"14.00\">1</text>\n",
       "</g>\n",
       "<!-- A&#45;&gt;IF -->\n",
       "<g id=\"edge3\" class=\"edge\"><title>A&#45;&gt;IF</title>\n",
       "<path fill=\"none\" stroke=\"black\" d=\"M181.093,-42.2244C174.949,-38.3382 167.44,-34.3677 160,-32.3918 155.224,-31.1234 150.075,-30.6414 145.012,-30.6403\"/>\n",
       "<polygon fill=\"black\" stroke=\"black\" points=\"144.67,-27.154 134.885,-31.2155 145.067,-34.1427 144.67,-27.154\"/>\n",
       "<text text-anchor=\"middle\" x=\"156.5\" y=\"-35.1918\" font-family=\"Times,serif\" font-size=\"14.00\">0</text>\n",
       "</g>\n",
       "<!-- BH&#45;&gt;BH -->\n",
       "<g id=\"edge6\" class=\"edge\"><title>BH&#45;&gt;BH</title>\n",
       "<path fill=\"none\" stroke=\"black\" d=\"M271.709,-43.5882C270.761,-53.7836 273.321,-62.7836 279.392,-62.7836 283.281,-62.7836 285.729,-59.09 286.737,-53.7547\"/>\n",
       "<polygon fill=\"black\" stroke=\"black\" points=\"290.241,-53.6987 287.075,-43.5882 283.245,-53.4666 290.241,-53.6987\"/>\n",
       "<text text-anchor=\"middle\" x=\"279.392\" y=\"-79.5836\" font-family=\"Times,serif\" font-size=\"14.00\">1 </text>\n",
       "<text text-anchor=\"middle\" x=\"279.392\" y=\"-65.5836\" font-family=\"Times,serif\" font-size=\"14.00\"> 0</text>\n",
       "</g>\n",
       "<!-- IF&#45;&gt;A -->\n",
       "<g id=\"edge2\" class=\"edge\"><title>IF&#45;&gt;A</title>\n",
       "<path fill=\"none\" stroke=\"black\" d=\"M133.469,-44.2806C139.595,-46.6939 146.469,-49.0177 153,-50.3918 157.625,-51.365 162.598,-51.9739 167.446,-52.3404\"/>\n",
       "<polygon fill=\"black\" stroke=\"black\" points=\"167.529,-55.8477 177.677,-52.8032 167.846,-48.8548 167.529,-55.8477\"/>\n",
       "<text text-anchor=\"middle\" x=\"156.5\" y=\"-54.1918\" font-family=\"Times,serif\" font-size=\"14.00\">0</text>\n",
       "</g>\n",
       "<!-- IF&#45;&gt;BH -->\n",
       "<g id=\"edge4\" class=\"edge\"><title>IF&#45;&gt;BH</title>\n",
       "<path fill=\"none\" stroke=\"black\" d=\"M133.091,-26.168C145.552,-20.6717 162.354,-14.229 178,-11.3918 201.212,-7.18264 227.756,-10.4364 247.717,-14.4712\"/>\n",
       "<polygon fill=\"black\" stroke=\"black\" points=\"246.986,-17.8939 257.504,-16.6169 248.485,-11.0563 246.986,-17.8939\"/>\n",
       "<text text-anchor=\"middle\" x=\"196\" y=\"-14.1918\" font-family=\"Times,serif\" font-size=\"14.00\">1</text>\n",
       "</g>\n",
       "</g>\n",
       "</svg>\n"
      ],
      "text/plain": [
       "<graphviz.dot.Digraph at 0x111641828>"
      ]
     },
     "execution_count": 28,
     "metadata": {},
     "output_type": "execute_result"
    }
   ],
   "source": [
    "dotObj_dfa_w_bh(ev0_bh_totalize, FuseEdges=True)"
   ]
  },
  {
   "cell_type": "markdown",
   "metadata": {
    "run_control": {
     "frozen": false,
     "read_only": false
    }
   },
   "source": [
    "<span style=\"color:blue\"> **We can now write routines to print DFA using dot. The main routines are listed below.** </span>\n",
    "\n",
    "* dot_dfa_w_bh : lists all states of a DFA including black-hole states\n",
    "* dot_dfa      : lists all isNotBH states (see below for a defn), i.e. suppress black-holes\n",
    "     - Usually there are too many transitions to them and that clutters the view\n",
    "     "
   ]
  },
  {
   "cell_type": "code",
   "execution_count": 29,
   "metadata": {
    "run_control": {
     "frozen": false,
     "read_only": false
    }
   },
   "outputs": [
    {
     "data": {
      "image/svg+xml": [
       "<?xml version=\"1.0\" encoding=\"UTF-8\" standalone=\"no\"?>\n",
       "<!DOCTYPE svg PUBLIC \"-//W3C//DTD SVG 1.1//EN\"\n",
       " \"http://www.w3.org/Graphics/SVG/1.1/DTD/svg11.dtd\">\n",
       "<!-- Generated by graphviz version 2.38.0 (20140413.2041)\n",
       " -->\n",
       "<!-- Title: %3 Pages: 1 -->\n",
       "<svg width=\"324pt\" height=\"192pt\"\n",
       " viewBox=\"0.00 0.00 323.63 191.74\" xmlns=\"http://www.w3.org/2000/svg\" xmlns:xlink=\"http://www.w3.org/1999/xlink\">\n",
       "<g id=\"graph0\" class=\"graph\" transform=\"scale(1 1) rotate(0) translate(4 187.737)\">\n",
       "<title>%3</title>\n",
       "<polygon fill=\"white\" stroke=\"none\" points=\"-4,4 -4,-187.737 319.631,-187.737 319.631,4 -4,4\"/>\n",
       "<!-- EMPTY -->\n",
       "<g id=\"node1\" class=\"node\"><title>EMPTY</title>\n",
       "</g>\n",
       "<!-- IF -->\n",
       "<g id=\"node4\" class=\"node\"><title>IF</title>\n",
       "<ellipse fill=\"none\" stroke=\"black\" cx=\"113\" cy=\"-79.8686\" rx=\"18\" ry=\"18\"/>\n",
       "<ellipse fill=\"none\" stroke=\"black\" cx=\"113\" cy=\"-79.8686\" rx=\"22\" ry=\"22\"/>\n",
       "<text text-anchor=\"middle\" x=\"113\" y=\"-75.6686\" font-family=\"Times,serif\" font-size=\"14.00\">IF</text>\n",
       "</g>\n",
       "<!-- EMPTY&#45;&gt;IF -->\n",
       "<g id=\"edge1\" class=\"edge\"><title>EMPTY&#45;&gt;IF</title>\n",
       "<path fill=\"none\" stroke=\"black\" d=\"M54.1177,-79.8686C62.5406,-79.8686 71.9629,-79.8686 80.7191,-79.8686\"/>\n",
       "<polygon fill=\"black\" stroke=\"black\" points=\"80.9574,-83.3687 90.9574,-79.8686 80.9573,-76.3687 80.9574,-83.3687\"/>\n",
       "</g>\n",
       "<!-- S01 -->\n",
       "<g id=\"node2\" class=\"node\"><title>S01</title>\n",
       "<ellipse fill=\"none\" stroke=\"black\" cx=\"291.762\" cy=\"-23.8686\" rx=\"23.7379\" ry=\"23.7379\"/>\n",
       "<text text-anchor=\"middle\" x=\"291.762\" y=\"-19.6686\" font-family=\"Times,serif\" font-size=\"14.00\">S01</text>\n",
       "</g>\n",
       "<!-- S01&#45;&gt;S01 -->\n",
       "<g id=\"edge6\" class=\"edge\"><title>S01&#45;&gt;S01</title>\n",
       "<path fill=\"none\" stroke=\"black\" d=\"M283.641,-46.6939C282.868,-56.9055 285.575,-65.7372 291.762,-65.7372 295.726,-65.7372 298.262,-62.1127 299.369,-56.8228\"/>\n",
       "<polygon fill=\"black\" stroke=\"black\" points=\"302.871,-56.8587 299.883,-46.6939 295.88,-56.5034 302.871,-56.8587\"/>\n",
       "<text text-anchor=\"middle\" x=\"291.762\" y=\"-68.5372\" font-family=\"Times,serif\" font-size=\"14.00\">1</text>\n",
       "</g>\n",
       "<!-- F0 -->\n",
       "<g id=\"node6\" class=\"node\"><title>F0</title>\n",
       "<ellipse fill=\"none\" stroke=\"black\" cx=\"201.447\" cy=\"-23.8686\" rx=\"19.4029\" ry=\"19.4029\"/>\n",
       "<ellipse fill=\"none\" stroke=\"black\" cx=\"201.447\" cy=\"-23.8686\" rx=\"23.3939\" ry=\"23.3939\"/>\n",
       "<text text-anchor=\"middle\" x=\"201.447\" y=\"-19.6686\" font-family=\"Times,serif\" font-size=\"14.00\">F0</text>\n",
       "</g>\n",
       "<!-- S01&#45;&gt;F0 -->\n",
       "<g id=\"edge7\" class=\"edge\"><title>S01&#45;&gt;F0</title>\n",
       "<path fill=\"none\" stroke=\"black\" d=\"M270.077,-12.7746C261.749,-9.52944 251.98,-7.23799 242.894,-8.8686 239.473,-9.4825 235.963,-10.3667 232.509,-11.4031\"/>\n",
       "<polygon fill=\"black\" stroke=\"black\" points=\"231.379,-8.09038 223.043,-14.6287 233.637,-14.7163 231.379,-8.09038\"/>\n",
       "<text text-anchor=\"middle\" x=\"246.394\" y=\"-11.6686\" font-family=\"Times,serif\" font-size=\"14.00\">0</text>\n",
       "</g>\n",
       "<!-- S10 -->\n",
       "<g id=\"node3\" class=\"node\"><title>S10</title>\n",
       "<ellipse fill=\"none\" stroke=\"black\" cx=\"291.762\" cy=\"-127.869\" rx=\"23.7379\" ry=\"23.7379\"/>\n",
       "<text text-anchor=\"middle\" x=\"291.762\" y=\"-123.669\" font-family=\"Times,serif\" font-size=\"14.00\">S10</text>\n",
       "</g>\n",
       "<!-- S10&#45;&gt;S10 -->\n",
       "<g id=\"edge10\" class=\"edge\"><title>S10&#45;&gt;S10</title>\n",
       "<path fill=\"none\" stroke=\"black\" d=\"M283.641,-150.694C282.868,-160.906 285.575,-169.737 291.762,-169.737 295.726,-169.737 298.262,-166.113 299.369,-160.823\"/>\n",
       "<polygon fill=\"black\" stroke=\"black\" points=\"302.871,-160.859 299.883,-150.694 295.88,-160.503 302.871,-160.859\"/>\n",
       "<text text-anchor=\"middle\" x=\"291.762\" y=\"-172.537\" font-family=\"Times,serif\" font-size=\"14.00\">0</text>\n",
       "</g>\n",
       "<!-- F1 -->\n",
       "<g id=\"node5\" class=\"node\"><title>F1</title>\n",
       "<ellipse fill=\"none\" stroke=\"black\" cx=\"201.447\" cy=\"-120.869\" rx=\"19.4029\" ry=\"19.4029\"/>\n",
       "<ellipse fill=\"none\" stroke=\"black\" cx=\"201.447\" cy=\"-120.869\" rx=\"23.3939\" ry=\"23.3939\"/>\n",
       "<text text-anchor=\"middle\" x=\"201.447\" y=\"-116.669\" font-family=\"Times,serif\" font-size=\"14.00\">F1</text>\n",
       "</g>\n",
       "<!-- S10&#45;&gt;F1 -->\n",
       "<g id=\"edge11\" class=\"edge\"><title>S10&#45;&gt;F1</title>\n",
       "<path fill=\"none\" stroke=\"black\" d=\"M271.615,-115.045C265.017,-111.326 257.395,-107.759 249.894,-105.869 243.99,-104.381 237.742,-104.848 231.786,-106.308\"/>\n",
       "<polygon fill=\"black\" stroke=\"black\" points=\"230.523,-103.04 222.15,-109.531 232.744,-109.678 230.523,-103.04\"/>\n",
       "<text text-anchor=\"middle\" x=\"246.394\" y=\"-108.669\" font-family=\"Times,serif\" font-size=\"14.00\">1</text>\n",
       "</g>\n",
       "<!-- IF&#45;&gt;F1 -->\n",
       "<g id=\"edge3\" class=\"edge\"><title>IF&#45;&gt;F1</title>\n",
       "<path fill=\"none\" stroke=\"black\" d=\"M133.185,-88.9678C144.205,-94.1941 158.281,-100.87 170.705,-106.763\"/>\n",
       "<polygon fill=\"black\" stroke=\"black\" points=\"169.271,-109.956 179.806,-111.079 172.27,-103.631 169.271,-109.956\"/>\n",
       "<text text-anchor=\"middle\" x=\"156.5\" y=\"-104.669\" font-family=\"Times,serif\" font-size=\"14.00\">1</text>\n",
       "</g>\n",
       "<!-- IF&#45;&gt;F0 -->\n",
       "<g id=\"edge2\" class=\"edge\"><title>IF&#45;&gt;F0</title>\n",
       "<path fill=\"none\" stroke=\"black\" d=\"M131.912,-68.2654C143.758,-60.5916 159.52,-50.3809 172.942,-41.6865\"/>\n",
       "<polygon fill=\"black\" stroke=\"black\" points=\"174.869,-44.6083 181.359,-36.2339 171.063,-38.7333 174.869,-44.6083\"/>\n",
       "<text text-anchor=\"middle\" x=\"156.5\" y=\"-56.6686\" font-family=\"Times,serif\" font-size=\"14.00\">0</text>\n",
       "</g>\n",
       "<!-- F1&#45;&gt;S10 -->\n",
       "<g id=\"edge9\" class=\"edge\"><title>F1&#45;&gt;S10</title>\n",
       "<path fill=\"none\" stroke=\"black\" d=\"M225.19,-122.671C235.105,-123.457 246.921,-124.394 257.773,-125.254\"/>\n",
       "<polygon fill=\"black\" stroke=\"black\" points=\"257.544,-128.747 267.789,-126.048 258.097,-121.768 257.544,-128.747\"/>\n",
       "<text text-anchor=\"middle\" x=\"246.394\" y=\"-126.669\" font-family=\"Times,serif\" font-size=\"14.00\">0</text>\n",
       "</g>\n",
       "<!-- F1&#45;&gt;F1 -->\n",
       "<g id=\"edge8\" class=\"edge\"><title>F1&#45;&gt;F1</title>\n",
       "<path fill=\"none\" stroke=\"black\" d=\"M193.36,-143.042C192.478,-153.328 195.173,-162.315 201.447,-162.315 205.466,-162.315 208.016,-158.627 209.099,-153.272\"/>\n",
       "<polygon fill=\"black\" stroke=\"black\" points=\"212.606,-153.182 209.534,-143.042 205.612,-152.884 212.606,-153.182\"/>\n",
       "<text text-anchor=\"middle\" x=\"201.447\" y=\"-165.115\" font-family=\"Times,serif\" font-size=\"14.00\">1</text>\n",
       "</g>\n",
       "<!-- F0&#45;&gt;S01 -->\n",
       "<g id=\"edge5\" class=\"edge\"><title>F0&#45;&gt;S01</title>\n",
       "<path fill=\"none\" stroke=\"black\" d=\"M225.106,-25.8462C230.9,-26.2703 237.124,-26.6549 242.894,-26.8686 247.736,-27.0479 252.849,-26.9907 257.861,-26.7953\"/>\n",
       "<polygon fill=\"black\" stroke=\"black\" points=\"258.099,-30.2876 267.887,-26.2314 257.706,-23.2986 258.099,-30.2876\"/>\n",
       "<text text-anchor=\"middle\" x=\"246.394\" y=\"-30.6686\" font-family=\"Times,serif\" font-size=\"14.00\">1</text>\n",
       "</g>\n",
       "<!-- F0&#45;&gt;F0 -->\n",
       "<g id=\"edge4\" class=\"edge\"><title>F0&#45;&gt;F0</title>\n",
       "<path fill=\"none\" stroke=\"black\" d=\"M193.36,-46.0421C192.478,-56.3282 195.173,-65.3155 201.447,-65.3155 205.466,-65.3155 208.016,-61.6271 209.099,-56.2717\"/>\n",
       "<polygon fill=\"black\" stroke=\"black\" points=\"212.606,-56.1818 209.534,-46.0421 205.612,-55.8843 212.606,-56.1818\"/>\n",
       "<text text-anchor=\"middle\" x=\"201.447\" y=\"-68.1155\" font-family=\"Times,serif\" font-size=\"14.00\">0</text>\n",
       "</g>\n",
       "</g>\n",
       "</svg>\n"
      ],
      "text/plain": [
       "<graphviz.dot.Digraph at 0x110bd7f60>"
      ]
     },
     "execution_count": 29,
     "metadata": {},
     "output_type": "execute_result"
    }
   ],
   "source": [
    "dfaBESame = md2mc('''\n",
    "DFA !! Begins and ends with same; epsilon allowed\n",
    "IF  : 0 -> F0\n",
    "IF  : 1 -> F1\n",
    "!!\n",
    "F0  : 0 -> F0\n",
    "F0  : 1 -> S01\n",
    "S01 : 1 -> S01\n",
    "S01 : 0 -> F0\n",
    "!!\n",
    "F1  : 1 -> F1\n",
    "F1  : 0 -> S10\n",
    "S10 : 0 -> S10\n",
    "S10 : 1 -> F1\n",
    "''')\n",
    "DOdfaBESame = dotObj_dfa(dfaBESame)\n",
    "DOdfaBESame"
   ]
  },
  {
   "cell_type": "markdown",
   "metadata": {
    "run_control": {
     "frozen": false,
     "read_only": false
    }
   },
   "source": [
    "## Let us now administer some tests to print dot-strings generated.\n",
    "\n",
    "We will demonstrate two ways to print automata: \n",
    "\n",
    "1. First generate a dot string via dot_dfa or dot_dfa_w_bh\n",
    "   (calling the result \"dot_string\") \n",
    "   1. Then use the srcObj = Source(dot_string) call\n",
    "   2. Thereafter we can display the srcObj object directly into the browser\n",
    "   3. Or, one can also later convert the dot_string to svg or PDF\n",
    "2. OR, one can directly generate a dot object via the dotObj_dfa or dotObj_dfa_w_bh call\n",
    "   (calling the result \"dot_object\")\n",
    "   1. Then directly display the dot_object\n",
    "   2. There are conversions available for dot_object to other formats too"
   ]
  },
  {
   "cell_type": "markdown",
   "metadata": {
    "run_control": {
     "frozen": false,
     "read_only": false
    }
   },
   "source": [
    "# One can read DFAs from files"
   ]
  },
  {
   "cell_type": "code",
   "execution_count": 30,
   "metadata": {
    "run_control": {
     "frozen": false,
     "read_only": false
    }
   },
   "outputs": [],
   "source": [
    "dped1 = md2mc(src=\"File\", fname=\"pedagogical1.dfa\")\n",
    "#machines/dfafiles/pedagogical1.dfa"
   ]
  },
  {
   "cell_type": "code",
   "execution_count": 31,
   "metadata": {
    "run_control": {
     "frozen": false,
     "read_only": false
    }
   },
   "outputs": [
    {
     "data": {
      "text/plain": [
       "{'Delta': {('A', '0'): 'B',\n",
       "  ('A', '1'): 'B',\n",
       "  ('B', '0'): 'IF',\n",
       "  ('B', '1'): 'F',\n",
       "  ('F', '0'): 'B',\n",
       "  ('F', '1'): 'B',\n",
       "  ('IF', '0'): 'A',\n",
       "  ('IF', '1'): 'B'},\n",
       " 'F': {'F', 'IF'},\n",
       " 'Q': {'A', 'B', 'F', 'IF'},\n",
       " 'Sigma': {'0', '1'},\n",
       " 'q0': 'IF'}"
      ]
     },
     "execution_count": 31,
     "metadata": {},
     "output_type": "execute_result"
    }
   ],
   "source": [
    "dped1"
   ]
  },
  {
   "cell_type": "code",
   "execution_count": 32,
   "metadata": {
    "run_control": {
     "frozen": false,
     "read_only": false
    }
   },
   "outputs": [
    {
     "data": {
      "image/svg+xml": [
       "<?xml version=\"1.0\" encoding=\"UTF-8\" standalone=\"no\"?>\n",
       "<!DOCTYPE svg PUBLIC \"-//W3C//DTD SVG 1.1//EN\"\n",
       " \"http://www.w3.org/Graphics/SVG/1.1/DTD/svg11.dtd\">\n",
       "<!-- Generated by graphviz version 2.38.0 (20140413.2041)\n",
       " -->\n",
       "<!-- Title: %3 Pages: 1 -->\n",
       "<svg width=\"388pt\" height=\"113pt\"\n",
       " viewBox=\"0.00 0.00 388.00 113.00\" xmlns=\"http://www.w3.org/2000/svg\" xmlns:xlink=\"http://www.w3.org/1999/xlink\">\n",
       "<g id=\"graph0\" class=\"graph\" transform=\"scale(1 1) rotate(0) translate(4 109)\">\n",
       "<title>%3</title>\n",
       "<polygon fill=\"white\" stroke=\"none\" points=\"-4,4 -4,-109 384,-109 384,4 -4,4\"/>\n",
       "<!-- EMPTY -->\n",
       "<g id=\"node1\" class=\"node\"><title>EMPTY</title>\n",
       "</g>\n",
       "<!-- IF -->\n",
       "<g id=\"node5\" class=\"node\"><title>IF</title>\n",
       "<ellipse fill=\"none\" stroke=\"black\" cx=\"113\" cy=\"-72\" rx=\"18\" ry=\"18\"/>\n",
       "<ellipse fill=\"none\" stroke=\"black\" cx=\"113\" cy=\"-72\" rx=\"22\" ry=\"22\"/>\n",
       "<text text-anchor=\"middle\" x=\"113\" y=\"-67.8\" font-family=\"Times,serif\" font-size=\"14.00\">IF</text>\n",
       "</g>\n",
       "<!-- EMPTY&#45;&gt;IF -->\n",
       "<g id=\"edge1\" class=\"edge\"><title>EMPTY&#45;&gt;IF</title>\n",
       "<path fill=\"none\" stroke=\"black\" d=\"M54.1177,-72C62.5406,-72 71.9629,-72 80.7191,-72\"/>\n",
       "<polygon fill=\"black\" stroke=\"black\" points=\"80.9574,-75.5001 90.9574,-72 80.9573,-68.5001 80.9574,-75.5001\"/>\n",
       "</g>\n",
       "<!-- A -->\n",
       "<g id=\"node2\" class=\"node\"><title>A</title>\n",
       "<ellipse fill=\"none\" stroke=\"black\" cx=\"196\" cy=\"-18\" rx=\"18\" ry=\"18\"/>\n",
       "<text text-anchor=\"middle\" x=\"196\" y=\"-13.8\" font-family=\"Times,serif\" font-size=\"14.00\">A</text>\n",
       "</g>\n",
       "<!-- B -->\n",
       "<g id=\"node3\" class=\"node\"><title>B</title>\n",
       "<ellipse fill=\"none\" stroke=\"black\" cx=\"275\" cy=\"-57\" rx=\"18\" ry=\"18\"/>\n",
       "<text text-anchor=\"middle\" x=\"275\" y=\"-52.8\" font-family=\"Times,serif\" font-size=\"14.00\">B</text>\n",
       "</g>\n",
       "<!-- A&#45;&gt;B -->\n",
       "<g id=\"edge4\" class=\"edge\"><title>A&#45;&gt;B</title>\n",
       "<path fill=\"none\" stroke=\"black\" d=\"M212.582,-25.8922C223.193,-31.2664 237.455,-38.49 249.564,-44.6235\"/>\n",
       "<polygon fill=\"black\" stroke=\"black\" points=\"248.201,-47.8565 258.704,-49.2526 251.364,-41.6118 248.201,-47.8565\"/>\n",
       "<text text-anchor=\"middle\" x=\"235.5\" y=\"-41.8\" font-family=\"Times,serif\" font-size=\"14.00\">0</text>\n",
       "</g>\n",
       "<!-- A&#45;&gt;B -->\n",
       "<g id=\"edge5\" class=\"edge\"><title>A&#45;&gt;B</title>\n",
       "<path fill=\"none\" stroke=\"black\" d=\"M214.029,-15.4392C221.946,-14.9779 231.292,-15.5104 239,-19 246.303,-22.3062 252.772,-27.9356 258.1,-33.8629\"/>\n",
       "<polygon fill=\"black\" stroke=\"black\" points=\"255.621,-36.3635 264.63,-41.9403 261.065,-31.963 255.621,-36.3635\"/>\n",
       "<text text-anchor=\"middle\" x=\"235.5\" y=\"-21.8\" font-family=\"Times,serif\" font-size=\"14.00\">1</text>\n",
       "</g>\n",
       "<!-- F -->\n",
       "<g id=\"node4\" class=\"node\"><title>F</title>\n",
       "<ellipse fill=\"none\" stroke=\"black\" cx=\"358\" cy=\"-57\" rx=\"18\" ry=\"18\"/>\n",
       "<ellipse fill=\"none\" stroke=\"black\" cx=\"358\" cy=\"-57\" rx=\"22\" ry=\"22\"/>\n",
       "<text text-anchor=\"middle\" x=\"358\" y=\"-52.8\" font-family=\"Times,serif\" font-size=\"14.00\">F</text>\n",
       "</g>\n",
       "<!-- B&#45;&gt;F -->\n",
       "<g id=\"edge6\" class=\"edge\"><title>B&#45;&gt;F</title>\n",
       "<path fill=\"none\" stroke=\"black\" d=\"M291.241,-65.1226C297.226,-67.8828 304.265,-70.6176 311,-72 316.904,-73.2118 323.112,-72.5661 328.99,-71.0088\"/>\n",
       "<polygon fill=\"black\" stroke=\"black\" points=\"330.176,-74.3019 338.458,-67.6945 327.863,-67.695 330.176,-74.3019\"/>\n",
       "<text text-anchor=\"middle\" x=\"314.5\" y=\"-74.8\" font-family=\"Times,serif\" font-size=\"14.00\">1</text>\n",
       "</g>\n",
       "<!-- B&#45;&gt;IF -->\n",
       "<g id=\"edge7\" class=\"edge\"><title>B&#45;&gt;IF</title>\n",
       "<path fill=\"none\" stroke=\"black\" d=\"M256.986,-58.5951C230.367,-61.0906 178.466,-65.9563 145.059,-69.0883\"/>\n",
       "<polygon fill=\"black\" stroke=\"black\" points=\"144.547,-65.6208 134.917,-70.039 145.2,-72.5902 144.547,-65.6208\"/>\n",
       "<text text-anchor=\"middle\" x=\"196\" y=\"-67.8\" font-family=\"Times,serif\" font-size=\"14.00\">0</text>\n",
       "</g>\n",
       "<!-- F&#45;&gt;B -->\n",
       "<g id=\"edge8\" class=\"edge\"><title>F&#45;&gt;B</title>\n",
       "<path fill=\"none\" stroke=\"black\" d=\"M335.943,-54.6705C328.115,-54.0565 319.156,-53.6511 311,-54 308.441,-54.1095 305.779,-54.2638 303.118,-54.4453\"/>\n",
       "<polygon fill=\"black\" stroke=\"black\" points=\"302.763,-50.9623 293.071,-55.2425 303.317,-57.9404 302.763,-50.9623\"/>\n",
       "<text text-anchor=\"middle\" x=\"314.5\" y=\"-56.8\" font-family=\"Times,serif\" font-size=\"14.00\">0</text>\n",
       "</g>\n",
       "<!-- F&#45;&gt;B -->\n",
       "<g id=\"edge9\" class=\"edge\"><title>F&#45;&gt;B</title>\n",
       "<path fill=\"none\" stroke=\"black\" d=\"M340.914,-42.7689C332.311,-36.8656 321.378,-32.0093 311,-35 306.535,-36.2869 302.089,-38.3302 297.939,-40.665\"/>\n",
       "<polygon fill=\"black\" stroke=\"black\" points=\"296.002,-37.7488 289.432,-46.0611 299.752,-43.6598 296.002,-37.7488\"/>\n",
       "<text text-anchor=\"middle\" x=\"314.5\" y=\"-37.8\" font-family=\"Times,serif\" font-size=\"14.00\">1</text>\n",
       "</g>\n",
       "<!-- IF&#45;&gt;A -->\n",
       "<g id=\"edge2\" class=\"edge\"><title>IF&#45;&gt;A</title>\n",
       "<path fill=\"none\" stroke=\"black\" d=\"M131.294,-59.1978C138.001,-54.3353 145.79,-48.812 153,-44 158.805,-40.1262 165.163,-36.088 171.136,-32.3814\"/>\n",
       "<polygon fill=\"black\" stroke=\"black\" points=\"173.377,-35.113 180.071,-26.9009 169.717,-29.1461 173.377,-35.113\"/>\n",
       "<text text-anchor=\"middle\" x=\"156.5\" y=\"-46.8\" font-family=\"Times,serif\" font-size=\"14.00\">0</text>\n",
       "</g>\n",
       "<!-- IF&#45;&gt;B -->\n",
       "<g id=\"edge3\" class=\"edge\"><title>IF&#45;&gt;B</title>\n",
       "<path fill=\"none\" stroke=\"black\" d=\"M133.618,-79.8462C139.75,-82.0804 146.59,-84.352 153,-86 179.314,-92.7653 186.916,-92.153 214,-90 225.217,-89.1083 228.75,-90.6426 239,-86 244.301,-83.5989 249.453,-80.1744 254.101,-76.5155\"/>\n",
       "<polygon fill=\"black\" stroke=\"black\" points=\"256.553,-79.0233 261.848,-69.8466 251.986,-73.7183 256.553,-79.0233\"/>\n",
       "<text text-anchor=\"middle\" x=\"196\" y=\"-93.8\" font-family=\"Times,serif\" font-size=\"14.00\">1</text>\n",
       "</g>\n",
       "</g>\n",
       "</svg>\n"
      ],
      "text/plain": [
       "<graphviz.dot.Digraph at 0x1118c3780>"
      ]
     },
     "execution_count": 32,
     "metadata": {},
     "output_type": "execute_result"
    }
   ],
   "source": [
    "dotObj_dfa(dped1)"
   ]
  },
  {
   "cell_type": "code",
   "execution_count": 33,
   "metadata": {
    "run_control": {
     "frozen": false,
     "read_only": false
    }
   },
   "outputs": [
    {
     "data": {
      "image/svg+xml": [
       "<?xml version=\"1.0\" encoding=\"UTF-8\" standalone=\"no\"?>\n",
       "<!DOCTYPE svg PUBLIC \"-//W3C//DTD SVG 1.1//EN\"\n",
       " \"http://www.w3.org/Graphics/SVG/1.1/DTD/svg11.dtd\">\n",
       "<!-- Generated by graphviz version 2.38.0 (20140413.2041)\n",
       " -->\n",
       "<!-- Title: %3 Pages: 1 -->\n",
       "<svg width=\"395pt\" height=\"115pt\"\n",
       " viewBox=\"0.00 0.00 395.00 115.00\" xmlns=\"http://www.w3.org/2000/svg\" xmlns:xlink=\"http://www.w3.org/1999/xlink\">\n",
       "<g id=\"graph0\" class=\"graph\" transform=\"scale(1 1) rotate(0) translate(4 111)\">\n",
       "<title>%3</title>\n",
       "<polygon fill=\"white\" stroke=\"none\" points=\"-4,4 -4,-111 391,-111 391,4 -4,4\"/>\n",
       "<!-- EMPTY -->\n",
       "<g id=\"node1\" class=\"node\"><title>EMPTY</title>\n",
       "</g>\n",
       "<!-- IF -->\n",
       "<g id=\"node5\" class=\"node\"><title>IF</title>\n",
       "<ellipse fill=\"none\" stroke=\"black\" cx=\"113\" cy=\"-72\" rx=\"18\" ry=\"18\"/>\n",
       "<ellipse fill=\"none\" stroke=\"black\" cx=\"113\" cy=\"-72\" rx=\"22\" ry=\"22\"/>\n",
       "<text text-anchor=\"middle\" x=\"113\" y=\"-67.8\" font-family=\"Times,serif\" font-size=\"14.00\">IF</text>\n",
       "</g>\n",
       "<!-- EMPTY&#45;&gt;IF -->\n",
       "<g id=\"edge1\" class=\"edge\"><title>EMPTY&#45;&gt;IF</title>\n",
       "<path fill=\"none\" stroke=\"black\" d=\"M54.1177,-72C62.5406,-72 71.9629,-72 80.7191,-72\"/>\n",
       "<polygon fill=\"black\" stroke=\"black\" points=\"80.9574,-75.5001 90.9574,-72 80.9573,-68.5001 80.9574,-75.5001\"/>\n",
       "</g>\n",
       "<!-- A -->\n",
       "<g id=\"node2\" class=\"node\"><title>A</title>\n",
       "<ellipse fill=\"none\" stroke=\"black\" cx=\"196\" cy=\"-18\" rx=\"18\" ry=\"18\"/>\n",
       "<text text-anchor=\"middle\" x=\"196\" y=\"-13.8\" font-family=\"Times,serif\" font-size=\"14.00\">A</text>\n",
       "</g>\n",
       "<!-- B -->\n",
       "<g id=\"node3\" class=\"node\"><title>B</title>\n",
       "<ellipse fill=\"none\" stroke=\"black\" cx=\"278.5\" cy=\"-72\" rx=\"18\" ry=\"18\"/>\n",
       "<text text-anchor=\"middle\" x=\"278.5\" y=\"-67.8\" font-family=\"Times,serif\" font-size=\"14.00\">B</text>\n",
       "</g>\n",
       "<!-- A&#45;&gt;B -->\n",
       "<g id=\"edge4\" class=\"edge\"><title>A&#45;&gt;B</title>\n",
       "<path fill=\"none\" stroke=\"black\" d=\"M214,-19.9417C223.013,-21.574 233.955,-24.5594 242.5,-30 249.931,-34.7313 256.574,-41.5525 262.024,-48.3263\"/>\n",
       "<polygon fill=\"black\" stroke=\"black\" points=\"259.486,-50.7793 268.259,-56.7203 265.106,-46.6054 259.486,-50.7793\"/>\n",
       "<text text-anchor=\"middle\" x=\"237.25\" y=\"-46.8\" font-family=\"Times,serif\" font-size=\"14.00\">1 </text>\n",
       "<text text-anchor=\"middle\" x=\"237.25\" y=\"-32.8\" font-family=\"Times,serif\" font-size=\"14.00\"> 0</text>\n",
       "</g>\n",
       "<!-- F -->\n",
       "<g id=\"node4\" class=\"node\"><title>F</title>\n",
       "<ellipse fill=\"none\" stroke=\"black\" cx=\"365\" cy=\"-72\" rx=\"18\" ry=\"18\"/>\n",
       "<ellipse fill=\"none\" stroke=\"black\" cx=\"365\" cy=\"-72\" rx=\"22\" ry=\"22\"/>\n",
       "<text text-anchor=\"middle\" x=\"365\" y=\"-67.8\" font-family=\"Times,serif\" font-size=\"14.00\">F</text>\n",
       "</g>\n",
       "<!-- B&#45;&gt;F -->\n",
       "<g id=\"edge5\" class=\"edge\"><title>B&#45;&gt;F</title>\n",
       "<path fill=\"none\" stroke=\"black\" d=\"M296.556,-74.3431C302.251,-75.0202 308.638,-75.6661 314.5,-76 320.31,-76.3309 326.498,-76.2093 332.46,-75.8507\"/>\n",
       "<polygon fill=\"black\" stroke=\"black\" points=\"333.14,-79.3066 342.818,-74.9959 332.564,-72.3303 333.14,-79.3066\"/>\n",
       "<text text-anchor=\"middle\" x=\"319.75\" y=\"-78.8\" font-family=\"Times,serif\" font-size=\"14.00\">1</text>\n",
       "</g>\n",
       "<!-- B&#45;&gt;IF -->\n",
       "<g id=\"edge6\" class=\"edge\"><title>B&#45;&gt;IF</title>\n",
       "<path fill=\"none\" stroke=\"black\" d=\"M260.033,-72C232.711,-72 179.469,-72 145.378,-72\"/>\n",
       "<polygon fill=\"black\" stroke=\"black\" points=\"145.04,-68.5001 135.04,-72 145.04,-75.5001 145.04,-68.5001\"/>\n",
       "<text text-anchor=\"middle\" x=\"196\" y=\"-74.8\" font-family=\"Times,serif\" font-size=\"14.00\">0</text>\n",
       "</g>\n",
       "<!-- F&#45;&gt;B -->\n",
       "<g id=\"edge7\" class=\"edge\"><title>F&#45;&gt;B</title>\n",
       "<path fill=\"none\" stroke=\"black\" d=\"M348.185,-57.2138C341.543,-51.9722 333.41,-46.7065 325,-44 315.564,-40.9634 306.076,-45.3423 298.225,-51.4744\"/>\n",
       "<polygon fill=\"black\" stroke=\"black\" points=\"295.783,-48.9631 290.706,-58.2619 300.474,-54.1591 295.783,-48.9631\"/>\n",
       "<text text-anchor=\"middle\" x=\"319.75\" y=\"-60.8\" font-family=\"Times,serif\" font-size=\"14.00\">1 </text>\n",
       "<text text-anchor=\"middle\" x=\"319.75\" y=\"-46.8\" font-family=\"Times,serif\" font-size=\"14.00\"> 0</text>\n",
       "</g>\n",
       "<!-- IF&#45;&gt;A -->\n",
       "<g id=\"edge2\" class=\"edge\"><title>IF&#45;&gt;A</title>\n",
       "<path fill=\"none\" stroke=\"black\" d=\"M131.294,-59.1978C138.001,-54.3353 145.79,-48.812 153,-44 158.805,-40.1262 165.163,-36.088 171.136,-32.3814\"/>\n",
       "<polygon fill=\"black\" stroke=\"black\" points=\"173.377,-35.113 180.071,-26.9009 169.717,-29.1461 173.377,-35.113\"/>\n",
       "<text text-anchor=\"middle\" x=\"156.5\" y=\"-46.8\" font-family=\"Times,serif\" font-size=\"14.00\">0</text>\n",
       "</g>\n",
       "<!-- IF&#45;&gt;B -->\n",
       "<g id=\"edge3\" class=\"edge\"><title>IF&#45;&gt;B</title>\n",
       "<path fill=\"none\" stroke=\"black\" d=\"M133.618,-79.8462C139.75,-82.0804 146.59,-84.352 153,-86 191.525,-95.9048 204.059,-96.2251 242.5,-86 245.726,-85.142 249.055,-84.0703 252.319,-82.904\"/>\n",
       "<polygon fill=\"black\" stroke=\"black\" points=\"253.692,-86.1255 261.745,-79.2406 251.156,-79.6009 253.692,-86.1255\"/>\n",
       "<text text-anchor=\"middle\" x=\"196\" y=\"-95.8\" font-family=\"Times,serif\" font-size=\"14.00\">1</text>\n",
       "</g>\n",
       "</g>\n",
       "</svg>\n"
      ],
      "text/plain": [
       "<graphviz.dot.Digraph at 0x1118c37b8>"
      ]
     },
     "execution_count": 33,
     "metadata": {},
     "output_type": "execute_result"
    }
   ],
   "source": [
    "dotObj_dfa(dped1, FuseEdges=True)"
   ]
  },
  {
   "cell_type": "code",
   "execution_count": 34,
   "metadata": {
    "run_control": {
     "frozen": false,
     "read_only": false
    }
   },
   "outputs": [],
   "source": [
    "ends0101 = md2mc(src=\"File\", fname=\"endsin0101.dfa\")"
   ]
  },
  {
   "cell_type": "code",
   "execution_count": 35,
   "metadata": {
    "run_control": {
     "frozen": false,
     "read_only": false
    }
   },
   "outputs": [
    {
     "data": {
      "image/svg+xml": [
       "<?xml version=\"1.0\" encoding=\"UTF-8\" standalone=\"no\"?>\n",
       "<!DOCTYPE svg PUBLIC \"-//W3C//DTD SVG 1.1//EN\"\n",
       " \"http://www.w3.org/Graphics/SVG/1.1/DTD/svg11.dtd\">\n",
       "<!-- Generated by graphviz version 2.38.0 (20140413.2041)\n",
       " -->\n",
       "<!-- Title: %3 Pages: 1 -->\n",
       "<svg width=\"524pt\" height=\"164pt\"\n",
       " viewBox=\"0.00 0.00 523.64 164.16\" xmlns=\"http://www.w3.org/2000/svg\" xmlns:xlink=\"http://www.w3.org/1999/xlink\">\n",
       "<g id=\"graph0\" class=\"graph\" transform=\"scale(1 1) rotate(0) translate(4 160.159)\">\n",
       "<title>%3</title>\n",
       "<polygon fill=\"white\" stroke=\"none\" points=\"-4,4 -4,-160.159 519.636,-160.159 519.636,4 -4,4\"/>\n",
       "<!-- EMPTY -->\n",
       "<g id=\"node1\" class=\"node\"><title>EMPTY</title>\n",
       "</g>\n",
       "<!-- I -->\n",
       "<g id=\"node4\" class=\"node\"><title>I</title>\n",
       "<ellipse fill=\"none\" stroke=\"black\" cx=\"109\" cy=\"-53.7121\" rx=\"18\" ry=\"18\"/>\n",
       "<text text-anchor=\"middle\" x=\"109\" y=\"-49.5121\" font-family=\"Times,serif\" font-size=\"14.00\">I</text>\n",
       "</g>\n",
       "<!-- EMPTY&#45;&gt;I -->\n",
       "<g id=\"edge1\" class=\"edge\"><title>EMPTY&#45;&gt;I</title>\n",
       "<path fill=\"none\" stroke=\"black\" d=\"M54.195,-53.7121C62.6538,-53.7121 72.0513,-53.7121 80.5951,-53.7121\"/>\n",
       "<polygon fill=\"black\" stroke=\"black\" points=\"80.8257,-57.2122 90.8257,-53.7121 80.8257,-50.2122 80.8257,-57.2122\"/>\n",
       "</g>\n",
       "<!-- S010 -->\n",
       "<g id=\"node2\" class=\"node\"><title>S010</title>\n",
       "<ellipse fill=\"none\" stroke=\"black\" cx=\"370.921\" cy=\"-69.7121\" rx=\"28.0822\" ry=\"28.0822\"/>\n",
       "<text text-anchor=\"middle\" x=\"370.921\" y=\"-65.5121\" font-family=\"Times,serif\" font-size=\"14.00\">S010</text>\n",
       "</g>\n",
       "<!-- S0 -->\n",
       "<g id=\"node3\" class=\"node\"><title>S0</title>\n",
       "<ellipse fill=\"none\" stroke=\"black\" cx=\"189.447\" cy=\"-104.712\" rx=\"19.3939\" ry=\"19.3939\"/>\n",
       "<text text-anchor=\"middle\" x=\"189.447\" y=\"-100.512\" font-family=\"Times,serif\" font-size=\"14.00\">S0</text>\n",
       "</g>\n",
       "<!-- S010&#45;&gt;S0 -->\n",
       "<g id=\"edge8\" class=\"edge\"><title>S010&#45;&gt;S0</title>\n",
       "<path fill=\"none\" stroke=\"black\" d=\"M344.154,-79.175C330.973,-83.7508 314.593,-89.0344 299.631,-92.7121 270.864,-99.7827 263.385,-100.92 233.894,-103.712 229.204,-104.156 224.217,-104.443 219.358,-104.623\"/>\n",
       "<polygon fill=\"black\" stroke=\"black\" points=\"219.001,-101.13 209.086,-104.866 219.166,-108.129 219.001,-101.13\"/>\n",
       "<text text-anchor=\"middle\" x=\"275.762\" y=\"-105.512\" font-family=\"Times,serif\" font-size=\"14.00\">0</text>\n",
       "</g>\n",
       "<!-- F0101 -->\n",
       "<g id=\"node6\" class=\"node\"><title>F0101</title>\n",
       "<ellipse fill=\"none\" stroke=\"black\" cx=\"478.924\" cy=\"-36.7121\" rx=\"32.9021\" ry=\"32.9021\"/>\n",
       "<ellipse fill=\"none\" stroke=\"black\" cx=\"478.924\" cy=\"-36.7121\" rx=\"36.9254\" ry=\"36.9254\"/>\n",
       "<text text-anchor=\"middle\" x=\"478.924\" y=\"-32.5121\" font-family=\"Times,serif\" font-size=\"14.00\">F0101</text>\n",
       "</g>\n",
       "<!-- S010&#45;&gt;F0101 -->\n",
       "<g id=\"edge9\" class=\"edge\"><title>S010&#45;&gt;F0101</title>\n",
       "<path fill=\"none\" stroke=\"black\" d=\"M398.124,-61.5548C408.961,-58.1812 421.825,-54.1763 434.026,-50.3779\"/>\n",
       "<polygon fill=\"black\" stroke=\"black\" points=\"435.11,-53.7063 443.618,-47.392 433.029,-47.0227 435.11,-53.7063\"/>\n",
       "<text text-anchor=\"middle\" x=\"420.712\" y=\"-58.5121\" font-family=\"Times,serif\" font-size=\"14.00\">1</text>\n",
       "</g>\n",
       "<!-- S0&#45;&gt;S0 -->\n",
       "<g id=\"edge4\" class=\"edge\"><title>S0&#45;&gt;S0</title>\n",
       "<path fill=\"none\" stroke=\"black\" d=\"M182.306,-122.822C180.973,-132.889 183.353,-142.159 189.447,-142.159 193.351,-142.159 195.731,-138.354 196.586,-132.973\"/>\n",
       "<polygon fill=\"black\" stroke=\"black\" points=\"200.086,-132.822 196.588,-122.822 193.086,-132.821 200.086,-132.822\"/>\n",
       "<text text-anchor=\"middle\" x=\"189.447\" y=\"-144.959\" font-family=\"Times,serif\" font-size=\"14.00\">0</text>\n",
       "</g>\n",
       "<!-- S01 -->\n",
       "<g id=\"node5\" class=\"node\"><title>S01</title>\n",
       "<ellipse fill=\"none\" stroke=\"black\" cx=\"275.762\" cy=\"-59.7121\" rx=\"23.7379\" ry=\"23.7379\"/>\n",
       "<text text-anchor=\"middle\" x=\"275.762\" y=\"-55.5121\" font-family=\"Times,serif\" font-size=\"14.00\">S01</text>\n",
       "</g>\n",
       "<!-- S0&#45;&gt;S01 -->\n",
       "<g id=\"edge5\" class=\"edge\"><title>S0&#45;&gt;S01</title>\n",
       "<path fill=\"none\" stroke=\"black\" d=\"M207.105,-95.8215C217.995,-90.0091 232.523,-82.2559 245.323,-75.4239\"/>\n",
       "<polygon fill=\"black\" stroke=\"black\" points=\"247.089,-78.4492 254.263,-70.6529 243.793,-72.2736 247.089,-78.4492\"/>\n",
       "<text text-anchor=\"middle\" x=\"230.394\" y=\"-88.5121\" font-family=\"Times,serif\" font-size=\"14.00\">1</text>\n",
       "</g>\n",
       "<!-- I&#45;&gt;S0 -->\n",
       "<g id=\"edge2\" class=\"edge\"><title>I&#45;&gt;S0</title>\n",
       "<path fill=\"none\" stroke=\"black\" d=\"M124.388,-63.0663C135.529,-70.3093 151.212,-80.5046 164.271,-88.9946\"/>\n",
       "<polygon fill=\"black\" stroke=\"black\" points=\"162.513,-92.0264 172.805,-94.5427 166.328,-86.1576 162.513,-92.0264\"/>\n",
       "<text text-anchor=\"middle\" x=\"148.5\" y=\"-84.5121\" font-family=\"Times,serif\" font-size=\"14.00\">0</text>\n",
       "</g>\n",
       "<!-- I&#45;&gt;I -->\n",
       "<g id=\"edge3\" class=\"edge\"><title>I&#45;&gt;I</title>\n",
       "<path fill=\"none\" stroke=\"black\" d=\"M102.621,-70.7494C101.319,-80.57 103.445,-89.7121 109,-89.7121 112.472,-89.7121 114.604,-86.1409 115.398,-81.065\"/>\n",
       "<polygon fill=\"black\" stroke=\"black\" points=\"118.897,-80.7431 115.379,-70.7494 111.897,-80.7556 118.897,-80.7431\"/>\n",
       "<text text-anchor=\"middle\" x=\"109\" y=\"-92.5121\" font-family=\"Times,serif\" font-size=\"14.00\">1</text>\n",
       "</g>\n",
       "<!-- S01&#45;&gt;S010 -->\n",
       "<g id=\"edge6\" class=\"edge\"><title>S01&#45;&gt;S010</title>\n",
       "<path fill=\"none\" stroke=\"black\" d=\"M299.79,-62.184C309.59,-63.2359 321.277,-64.4904 332.274,-65.6708\"/>\n",
       "<polygon fill=\"black\" stroke=\"black\" points=\"332.205,-69.1835 342.521,-66.7709 332.952,-62.2235 332.205,-69.1835\"/>\n",
       "<text text-anchor=\"middle\" x=\"321.131\" y=\"-67.5121\" font-family=\"Times,serif\" font-size=\"14.00\">0</text>\n",
       "</g>\n",
       "<!-- S01&#45;&gt;I -->\n",
       "<g id=\"edge7\" class=\"edge\"><title>S01&#45;&gt;I</title>\n",
       "<path fill=\"none\" stroke=\"black\" d=\"M251.812,-58.8763C221.844,-57.785 169.444,-55.8768 137.419,-54.7106\"/>\n",
       "<polygon fill=\"black\" stroke=\"black\" points=\"137.133,-51.1979 127.012,-54.3316 136.878,-58.1933 137.133,-51.1979\"/>\n",
       "<text text-anchor=\"middle\" x=\"189.447\" y=\"-60.5121\" font-family=\"Times,serif\" font-size=\"14.00\">1</text>\n",
       "</g>\n",
       "<!-- F0101&#45;&gt;S010 -->\n",
       "<g id=\"edge10\" class=\"edge\"><title>F0101&#45;&gt;S010</title>\n",
       "<path fill=\"none\" stroke=\"black\" d=\"M442.343,-33.0141C433.942,-33.1464 425.129,-34.1335 417.212,-36.7121 411.523,-38.5649 405.953,-41.432 400.774,-44.7191\"/>\n",
       "<polygon fill=\"black\" stroke=\"black\" points=\"398.65,-41.9337 392.475,-50.5427 402.671,-47.6638 398.65,-41.9337\"/>\n",
       "<text text-anchor=\"middle\" x=\"420.712\" y=\"-39.5121\" font-family=\"Times,serif\" font-size=\"14.00\">0</text>\n",
       "</g>\n",
       "<!-- F0101&#45;&gt;I -->\n",
       "<g id=\"edge11\" class=\"edge\"><title>F0101&#45;&gt;I</title>\n",
       "<path fill=\"none\" stroke=\"black\" d=\"M445.314,-20.9853C424.751,-12.4857 397.363,-3.71207 371.921,-3.71207 188.447,-3.71207 188.447,-3.71207 188.447,-3.71207 165.281,-3.71207 143.447,-19.409 128.726,-33.2128\"/>\n",
       "<polygon fill=\"black\" stroke=\"black\" points=\"125.943,-31.0442 121.316,-40.5752 130.876,-36.01 125.943,-31.0442\"/>\n",
       "<text text-anchor=\"middle\" x=\"275.762\" y=\"-6.51207\" font-family=\"Times,serif\" font-size=\"14.00\">1</text>\n",
       "</g>\n",
       "</g>\n",
       "</svg>\n"
      ],
      "text/plain": [
       "<graphviz.dot.Digraph at 0x110ccb898>"
      ]
     },
     "execution_count": 35,
     "metadata": {},
     "output_type": "execute_result"
    }
   ],
   "source": [
    "dotObj_dfa(ends0101)"
   ]
  },
  {
   "cell_type": "code",
   "execution_count": 36,
   "metadata": {
    "run_control": {
     "frozen": false,
     "read_only": false
    }
   },
   "outputs": [],
   "source": [
    "thirdlastis1=md2mc(src=\"File\", fname=\"thirdlastis1.dfa\")\n",
    "#machines/dfafiles/thirdlastis1.dfa"
   ]
  },
  {
   "cell_type": "code",
   "execution_count": 37,
   "metadata": {
    "run_control": {
     "frozen": false,
     "read_only": false
    }
   },
   "outputs": [
    {
     "data": {
      "text/plain": [
       "{'Delta': {('F100', '0'): 'S000',\n",
       "  ('F100', '1'): 'S001',\n",
       "  ('F101', '0'): 'S010',\n",
       "  ('F101', '1'): 'S011',\n",
       "  ('F110', '0'): 'F100',\n",
       "  ('F110', '1'): 'F101',\n",
       "  ('F111', '0'): 'F110',\n",
       "  ('F111', '1'): 'F111',\n",
       "  ('I', '0'): 'S0',\n",
       "  ('I', '1'): 'S1',\n",
       "  ('S0', '0'): 'S00',\n",
       "  ('S0', '1'): 'S01',\n",
       "  ('S00', '0'): 'S000',\n",
       "  ('S00', '1'): 'S001',\n",
       "  ('S000', '0'): 'S000',\n",
       "  ('S000', '1'): 'S001',\n",
       "  ('S001', '0'): 'S010',\n",
       "  ('S001', '1'): 'S011',\n",
       "  ('S01', '0'): 'S010',\n",
       "  ('S01', '1'): 'S011',\n",
       "  ('S010', '0'): 'F100',\n",
       "  ('S010', '1'): 'F101',\n",
       "  ('S011', '0'): 'F110',\n",
       "  ('S011', '1'): 'F111',\n",
       "  ('S1', '0'): 'S10',\n",
       "  ('S1', '1'): 'S11',\n",
       "  ('S10', '0'): 'F100',\n",
       "  ('S10', '1'): 'F101',\n",
       "  ('S11', '0'): 'F110',\n",
       "  ('S11', '1'): 'F111'},\n",
       " 'F': {'F100', 'F101', 'F110', 'F111'},\n",
       " 'Q': {'F100',\n",
       "  'F101',\n",
       "  'F110',\n",
       "  'F111',\n",
       "  'I',\n",
       "  'S0',\n",
       "  'S00',\n",
       "  'S000',\n",
       "  'S001',\n",
       "  'S01',\n",
       "  'S010',\n",
       "  'S011',\n",
       "  'S1',\n",
       "  'S10',\n",
       "  'S11'},\n",
       " 'Sigma': {'0', '1'},\n",
       " 'q0': 'I'}"
      ]
     },
     "execution_count": 37,
     "metadata": {},
     "output_type": "execute_result"
    }
   ],
   "source": [
    "thirdlastis1"
   ]
  },
  {
   "cell_type": "code",
   "execution_count": 38,
   "metadata": {
    "run_control": {
     "frozen": false,
     "read_only": false
    }
   },
   "outputs": [
    {
     "data": {
      "image/svg+xml": [
       "<?xml version=\"1.0\" encoding=\"UTF-8\" standalone=\"no\"?>\n",
       "<!DOCTYPE svg PUBLIC \"-//W3C//DTD SVG 1.1//EN\"\n",
       " \"http://www.w3.org/Graphics/SVG/1.1/DTD/svg11.dtd\">\n",
       "<!-- Generated by graphviz version 2.38.0 (20140413.2041)\n",
       " -->\n",
       "<!-- Title: %3 Pages: 1 -->\n",
       "<svg width=\"1133pt\" height=\"454pt\"\n",
       " viewBox=\"0.00 0.00 1133.04 453.87\" xmlns=\"http://www.w3.org/2000/svg\" xmlns:xlink=\"http://www.w3.org/1999/xlink\">\n",
       "<g id=\"graph0\" class=\"graph\" transform=\"scale(1 1) rotate(0) translate(4 449.869)\">\n",
       "<title>%3</title>\n",
       "<polygon fill=\"white\" stroke=\"none\" points=\"-4,4 -4,-449.869 1129.04,-449.869 1129.04,4 -4,4\"/>\n",
       "<!-- EMPTY -->\n",
       "<g id=\"node1\" class=\"node\"><title>EMPTY</title>\n",
       "</g>\n",
       "<!-- I -->\n",
       "<g id=\"node6\" class=\"node\"><title>I</title>\n",
       "<ellipse fill=\"none\" stroke=\"black\" cx=\"109\" cy=\"-156.869\" rx=\"18\" ry=\"18\"/>\n",
       "<text text-anchor=\"middle\" x=\"109\" y=\"-152.669\" font-family=\"Times,serif\" font-size=\"14.00\">I</text>\n",
       "</g>\n",
       "<!-- EMPTY&#45;&gt;I -->\n",
       "<g id=\"edge1\" class=\"edge\"><title>EMPTY&#45;&gt;I</title>\n",
       "<path fill=\"none\" stroke=\"black\" d=\"M54.195,-156.869C62.6538,-156.869 72.0513,-156.869 80.5951,-156.869\"/>\n",
       "<polygon fill=\"black\" stroke=\"black\" points=\"80.8257,-160.369 90.8257,-156.869 80.8257,-153.369 80.8257,-160.369\"/>\n",
       "</g>\n",
       "<!-- S11 -->\n",
       "<g id=\"node2\" class=\"node\"><title>S11</title>\n",
       "<ellipse fill=\"none\" stroke=\"black\" cx=\"275.438\" cy=\"-261.869\" rx=\"23.5896\" ry=\"23.5896\"/>\n",
       "<text text-anchor=\"middle\" x=\"275.438\" y=\"-257.669\" font-family=\"Times,serif\" font-size=\"14.00\">S11</text>\n",
       "</g>\n",
       "<!-- F111 -->\n",
       "<g id=\"node15\" class=\"node\"><title>F111</title>\n",
       "<ellipse fill=\"none\" stroke=\"black\" cx=\"373.626\" cy=\"-261.869\" rx=\"27.7678\" ry=\"27.7678\"/>\n",
       "<ellipse fill=\"none\" stroke=\"black\" cx=\"373.626\" cy=\"-261.869\" rx=\"31.7859\" ry=\"31.7859\"/>\n",
       "<text text-anchor=\"middle\" x=\"373.626\" y=\"-257.669\" font-family=\"Times,serif\" font-size=\"14.00\">F111</text>\n",
       "</g>\n",
       "<!-- S11&#45;&gt;F111 -->\n",
       "<g id=\"edge15\" class=\"edge\"><title>S11&#45;&gt;F111</title>\n",
       "<path fill=\"none\" stroke=\"black\" d=\"M299.234,-261.869C308.832,-261.869 320.311,-261.869 331.307,-261.869\"/>\n",
       "<polygon fill=\"black\" stroke=\"black\" points=\"331.625,-265.369 341.625,-261.869 331.625,-258.369 331.625,-265.369\"/>\n",
       "<text text-anchor=\"middle\" x=\"320.483\" y=\"-264.669\" font-family=\"Times,serif\" font-size=\"14.00\">1</text>\n",
       "</g>\n",
       "<!-- F110 -->\n",
       "<g id=\"node16\" class=\"node\"><title>F110</title>\n",
       "<ellipse fill=\"none\" stroke=\"black\" cx=\"480.235\" cy=\"-343.869\" rx=\"27.9372\" ry=\"27.9372\"/>\n",
       "<ellipse fill=\"none\" stroke=\"black\" cx=\"480.235\" cy=\"-343.869\" rx=\"31.933\" ry=\"31.933\"/>\n",
       "<text text-anchor=\"middle\" x=\"480.235\" y=\"-339.669\" font-family=\"Times,serif\" font-size=\"14.00\">F110</text>\n",
       "</g>\n",
       "<!-- S11&#45;&gt;F110 -->\n",
       "<g id=\"edge14\" class=\"edge\"><title>S11&#45;&gt;F110</title>\n",
       "<path fill=\"none\" stroke=\"black\" d=\"M288.127,-281.941C299.464,-299.316 318.391,-323.405 341.983,-334.869 371.92,-349.415 409.945,-350.79 438.376,-349.023\"/>\n",
       "<polygon fill=\"black\" stroke=\"black\" points=\"438.684,-352.51 448.384,-348.249 438.144,-345.531 438.684,-352.51\"/>\n",
       "<text text-anchor=\"middle\" x=\"373.626\" y=\"-351.669\" font-family=\"Times,serif\" font-size=\"14.00\">0</text>\n",
       "</g>\n",
       "<!-- S010 -->\n",
       "<g id=\"node3\" class=\"node\"><title>S010</title>\n",
       "<ellipse fill=\"none\" stroke=\"black\" cx=\"890.234\" cy=\"-181.869\" rx=\"28.0822\" ry=\"28.0822\"/>\n",
       "<text text-anchor=\"middle\" x=\"890.234\" y=\"-177.669\" font-family=\"Times,serif\" font-size=\"14.00\">S010</text>\n",
       "</g>\n",
       "<!-- F100 -->\n",
       "<g id=\"node13\" class=\"node\"><title>F100</title>\n",
       "<ellipse fill=\"none\" stroke=\"black\" cx=\"587.492\" cy=\"-263.869\" rx=\"28.1078\" ry=\"28.1078\"/>\n",
       "<ellipse fill=\"none\" stroke=\"black\" cx=\"587.492\" cy=\"-263.869\" rx=\"32.082\" ry=\"32.082\"/>\n",
       "<text text-anchor=\"middle\" x=\"587.492\" y=\"-259.669\" font-family=\"Times,serif\" font-size=\"14.00\">F100</text>\n",
       "</g>\n",
       "<!-- S010&#45;&gt;F100 -->\n",
       "<g id=\"edge20\" class=\"edge\"><title>S010&#45;&gt;F100</title>\n",
       "<path fill=\"none\" stroke=\"black\" d=\"M867.159,-198.758C836.152,-221.308 777.017,-260.119 719.363,-274.869 689.624,-282.476 654.97,-279.04 628.795,-274.072\"/>\n",
       "<polygon fill=\"black\" stroke=\"black\" points=\"629.35,-270.613 618.851,-272.035 627.945,-277.471 629.35,-270.613\"/>\n",
       "<text text-anchor=\"middle\" x=\"740.863\" y=\"-272.669\" font-family=\"Times,serif\" font-size=\"14.00\">0</text>\n",
       "</g>\n",
       "<!-- F101 -->\n",
       "<g id=\"node14\" class=\"node\"><title>F101</title>\n",
       "<ellipse fill=\"none\" stroke=\"black\" cx=\"993.814\" cy=\"-199.869\" rx=\"28.1078\" ry=\"28.1078\"/>\n",
       "<ellipse fill=\"none\" stroke=\"black\" cx=\"993.814\" cy=\"-199.869\" rx=\"32.082\" ry=\"32.082\"/>\n",
       "<text text-anchor=\"middle\" x=\"993.814\" y=\"-195.669\" font-family=\"Times,serif\" font-size=\"14.00\">F101</text>\n",
       "</g>\n",
       "<!-- S010&#45;&gt;F101 -->\n",
       "<g id=\"edge21\" class=\"edge\"><title>S010&#45;&gt;F101</title>\n",
       "<path fill=\"none\" stroke=\"black\" d=\"M916.787,-191.647C923.148,-193.714 930.013,-195.64 936.524,-196.869 941.263,-197.763 946.264,-198.424 951.25,-198.909\"/>\n",
       "<polygon fill=\"black\" stroke=\"black\" points=\"951.139,-202.41 961.374,-199.674 951.666,-195.43 951.139,-202.41\"/>\n",
       "<text text-anchor=\"middle\" x=\"940.024\" y=\"-200.669\" font-family=\"Times,serif\" font-size=\"14.00\">1</text>\n",
       "</g>\n",
       "<!-- S10 -->\n",
       "<g id=\"node4\" class=\"node\"><title>S10</title>\n",
       "<ellipse fill=\"none\" stroke=\"black\" cx=\"480.235\" cy=\"-190.869\" rx=\"23.7379\" ry=\"23.7379\"/>\n",
       "<text text-anchor=\"middle\" x=\"480.235\" y=\"-186.669\" font-family=\"Times,serif\" font-size=\"14.00\">S10</text>\n",
       "</g>\n",
       "<!-- S10&#45;&gt;F100 -->\n",
       "<g id=\"edge12\" class=\"edge\"><title>S10&#45;&gt;F100</title>\n",
       "<path fill=\"none\" stroke=\"black\" d=\"M500.541,-204.258C514.894,-214.212 534.865,-228.063 551.944,-239.908\"/>\n",
       "<polygon fill=\"black\" stroke=\"black\" points=\"550.354,-243.065 560.566,-245.888 554.344,-237.313 550.354,-243.065\"/>\n",
       "<text text-anchor=\"middle\" x=\"533.701\" y=\"-232.669\" font-family=\"Times,serif\" font-size=\"14.00\">0</text>\n",
       "</g>\n",
       "<!-- S10&#45;&gt;F101 -->\n",
       "<g id=\"edge13\" class=\"edge\"><title>S10&#45;&gt;F101</title>\n",
       "<path fill=\"none\" stroke=\"black\" d=\"M497.047,-173.329C502.133,-167.341 507.63,-160.484 512.201,-153.869 531.057,-126.579 525.046,-106.686 555.201,-92.8686 581.295,-80.912 591.131,-91.15 619.782,-92.8686 754.311,-100.938 795.649,-89.5072 918.524,-144.869 933.767,-151.736 948.907,-162.123 961.503,-172.027\"/>\n",
       "<polygon fill=\"black\" stroke=\"black\" points=\"959.418,-174.842 969.389,-178.424 963.827,-169.406 959.418,-174.842\"/>\n",
       "<text text-anchor=\"middle\" x=\"740.863\" y=\"-101.669\" font-family=\"Times,serif\" font-size=\"14.00\">1</text>\n",
       "</g>\n",
       "<!-- S000 -->\n",
       "<g id=\"node5\" class=\"node\"><title>S000</title>\n",
       "<ellipse fill=\"none\" stroke=\"black\" cx=\"691.072\" cy=\"-167.869\" rx=\"28.0822\" ry=\"28.0822\"/>\n",
       "<text text-anchor=\"middle\" x=\"691.072\" y=\"-163.669\" font-family=\"Times,serif\" font-size=\"14.00\">S000</text>\n",
       "</g>\n",
       "<!-- S000&#45;&gt;S000 -->\n",
       "<g id=\"edge16\" class=\"edge\"><title>S000&#45;&gt;S000</title>\n",
       "<path fill=\"none\" stroke=\"black\" d=\"M682.108,-194.971C681.709,-205.449 684.697,-214.159 691.072,-214.159 695.156,-214.159 697.85,-210.585 699.155,-205.26\"/>\n",
       "<polygon fill=\"black\" stroke=\"black\" points=\"702.67,-205.233 700.037,-194.971 695.695,-204.635 702.67,-205.233\"/>\n",
       "<text text-anchor=\"middle\" x=\"691.072\" y=\"-216.959\" font-family=\"Times,serif\" font-size=\"14.00\">0</text>\n",
       "</g>\n",
       "<!-- S001 -->\n",
       "<g id=\"node8\" class=\"node\"><title>S001</title>\n",
       "<ellipse fill=\"none\" stroke=\"black\" cx=\"790.653\" cy=\"-167.869\" rx=\"28.0822\" ry=\"28.0822\"/>\n",
       "<text text-anchor=\"middle\" x=\"790.653\" y=\"-163.669\" font-family=\"Times,serif\" font-size=\"14.00\">S001</text>\n",
       "</g>\n",
       "<!-- S000&#45;&gt;S001 -->\n",
       "<g id=\"edge17\" class=\"edge\"><title>S000&#45;&gt;S001</title>\n",
       "<path fill=\"none\" stroke=\"black\" d=\"M719.514,-167.869C729.595,-167.869 741.192,-167.869 752.015,-167.869\"/>\n",
       "<polygon fill=\"black\" stroke=\"black\" points=\"752.08,-171.369 762.08,-167.869 752.08,-164.369 752.08,-171.369\"/>\n",
       "<text text-anchor=\"middle\" x=\"740.863\" y=\"-170.669\" font-family=\"Times,serif\" font-size=\"14.00\">1</text>\n",
       "</g>\n",
       "<!-- S1 -->\n",
       "<g id=\"node9\" class=\"node\"><title>S1</title>\n",
       "<ellipse fill=\"none\" stroke=\"black\" cx=\"189.447\" cy=\"-190.869\" rx=\"19.3939\" ry=\"19.3939\"/>\n",
       "<text text-anchor=\"middle\" x=\"189.447\" y=\"-186.669\" font-family=\"Times,serif\" font-size=\"14.00\">S1</text>\n",
       "</g>\n",
       "<!-- I&#45;&gt;S1 -->\n",
       "<g id=\"edge3\" class=\"edge\"><title>I&#45;&gt;S1</title>\n",
       "<path fill=\"none\" stroke=\"black\" d=\"M125.875,-163.749C136.158,-168.206 149.808,-174.122 161.734,-179.291\"/>\n",
       "<polygon fill=\"black\" stroke=\"black\" points=\"160.667,-182.643 171.234,-183.408 163.451,-176.22 160.667,-182.643\"/>\n",
       "<text text-anchor=\"middle\" x=\"148.5\" y=\"-178.669\" font-family=\"Times,serif\" font-size=\"14.00\">1</text>\n",
       "</g>\n",
       "<!-- S0 -->\n",
       "<g id=\"node10\" class=\"node\"><title>S0</title>\n",
       "<ellipse fill=\"none\" stroke=\"black\" cx=\"480.235\" cy=\"-125.869\" rx=\"19.3939\" ry=\"19.3939\"/>\n",
       "<text text-anchor=\"middle\" x=\"480.235\" y=\"-121.669\" font-family=\"Times,serif\" font-size=\"14.00\">S0</text>\n",
       "</g>\n",
       "<!-- I&#45;&gt;S0 -->\n",
       "<g id=\"edge2\" class=\"edge\"><title>I&#45;&gt;S0</title>\n",
       "<path fill=\"none\" stroke=\"black\" d=\"M125.566,-149.787C141.142,-143.355 165.957,-134.869 188.447,-134.869 188.447,-134.869 188.447,-134.869 374.626,-134.869 400.393,-134.869 429.6,-132.124 450.591,-129.667\"/>\n",
       "<polygon fill=\"black\" stroke=\"black\" points=\"451.256,-133.111 460.758,-128.424 450.407,-126.163 451.256,-133.111\"/>\n",
       "<text text-anchor=\"middle\" x=\"275.438\" y=\"-137.669\" font-family=\"Times,serif\" font-size=\"14.00\">0</text>\n",
       "</g>\n",
       "<!-- S01 -->\n",
       "<g id=\"node7\" class=\"node\"><title>S01</title>\n",
       "<ellipse fill=\"none\" stroke=\"black\" cx=\"790.653\" cy=\"-23.8686\" rx=\"23.7379\" ry=\"23.7379\"/>\n",
       "<text text-anchor=\"middle\" x=\"790.653\" y=\"-19.6686\" font-family=\"Times,serif\" font-size=\"14.00\">S01</text>\n",
       "</g>\n",
       "<!-- S01&#45;&gt;S010 -->\n",
       "<g id=\"edge10\" class=\"edge\"><title>S01&#45;&gt;S010</title>\n",
       "<path fill=\"none\" stroke=\"black\" d=\"M804.012,-43.8794C820.395,-70.4072 849.512,-117.553 869.094,-149.259\"/>\n",
       "<polygon fill=\"black\" stroke=\"black\" points=\"866.36,-151.493 874.593,-158.162 872.316,-147.815 866.36,-151.493\"/>\n",
       "<text text-anchor=\"middle\" x=\"840.443\" y=\"-110.669\" font-family=\"Times,serif\" font-size=\"14.00\">0</text>\n",
       "</g>\n",
       "<!-- S011 -->\n",
       "<g id=\"node11\" class=\"node\"><title>S011</title>\n",
       "<ellipse fill=\"none\" stroke=\"black\" cx=\"1097.07\" cy=\"-199.869\" rx=\"27.933\" ry=\"27.933\"/>\n",
       "<text text-anchor=\"middle\" x=\"1097.07\" y=\"-195.669\" font-family=\"Times,serif\" font-size=\"14.00\">S011</text>\n",
       "</g>\n",
       "<!-- S01&#45;&gt;S011 -->\n",
       "<g id=\"edge11\" class=\"edge\"><title>S01&#45;&gt;S011</title>\n",
       "<path fill=\"none\" stroke=\"black\" d=\"M813.852,-29.786C839.702,-37.0779 883.348,-50.6446 918.524,-67.8686 969.756,-92.9548 980.726,-103.302 1026.1,-137.869 1040.75,-149.026 1056.16,-162.472 1068.77,-173.985\"/>\n",
       "<polygon fill=\"black\" stroke=\"black\" points=\"1066.51,-176.661 1076.24,-180.867 1071.26,-171.515 1066.51,-176.661\"/>\n",
       "<text text-anchor=\"middle\" x=\"940.024\" y=\"-83.6686\" font-family=\"Times,serif\" font-size=\"14.00\">1</text>\n",
       "</g>\n",
       "<!-- S001&#45;&gt;S010 -->\n",
       "<g id=\"edge18\" class=\"edge\"><title>S001&#45;&gt;S010</title>\n",
       "<path fill=\"none\" stroke=\"black\" d=\"M818.835,-171.768C829.091,-173.24 840.944,-174.94 851.965,-176.522\"/>\n",
       "<polygon fill=\"black\" stroke=\"black\" points=\"851.802,-180.034 862.198,-177.99 852.796,-173.105 851.802,-180.034\"/>\n",
       "<text text-anchor=\"middle\" x=\"840.443\" y=\"-178.669\" font-family=\"Times,serif\" font-size=\"14.00\">0</text>\n",
       "</g>\n",
       "<!-- S001&#45;&gt;S011 -->\n",
       "<g id=\"edge19\" class=\"edge\"><title>S001&#45;&gt;S011</title>\n",
       "<path fill=\"none\" stroke=\"black\" d=\"M817.206,-157.346C830.332,-152.5 846.728,-147.295 861.943,-144.869 934.255,-133.339 956.824,-135.159 1026.1,-158.869 1039.69,-163.518 1053.56,-170.972 1065.33,-178.256\"/>\n",
       "<polygon fill=\"black\" stroke=\"black\" points=\"1063.57,-181.288 1073.88,-183.745 1067.35,-175.397 1063.57,-181.288\"/>\n",
       "<text text-anchor=\"middle\" x=\"940.024\" y=\"-141.669\" font-family=\"Times,serif\" font-size=\"14.00\">1</text>\n",
       "</g>\n",
       "<!-- S1&#45;&gt;S11 -->\n",
       "<g id=\"edge7\" class=\"edge\"><title>S1&#45;&gt;S11</title>\n",
       "<path fill=\"none\" stroke=\"black\" d=\"M205.077,-203.236C217.1,-213.399 234.422,-228.042 248.748,-240.152\"/>\n",
       "<polygon fill=\"black\" stroke=\"black\" points=\"246.877,-243.153 256.773,-246.936 251.396,-237.807 246.877,-243.153\"/>\n",
       "<text text-anchor=\"middle\" x=\"230.394\" y=\"-229.669\" font-family=\"Times,serif\" font-size=\"14.00\">1</text>\n",
       "</g>\n",
       "<!-- S1&#45;&gt;S10 -->\n",
       "<g id=\"edge6\" class=\"edge\"><title>S1&#45;&gt;S10</title>\n",
       "<path fill=\"none\" stroke=\"black\" d=\"M208.951,-190.869C256.749,-190.869 384.853,-190.869 445.941,-190.869\"/>\n",
       "<polygon fill=\"black\" stroke=\"black\" points=\"446.188,-194.369 456.188,-190.869 446.188,-187.369 446.188,-194.369\"/>\n",
       "<text text-anchor=\"middle\" x=\"320.483\" y=\"-193.669\" font-family=\"Times,serif\" font-size=\"14.00\">0</text>\n",
       "</g>\n",
       "<!-- S0&#45;&gt;S01 -->\n",
       "<g id=\"edge5\" class=\"edge\"><title>S0&#45;&gt;S01</title>\n",
       "<path fill=\"none\" stroke=\"black\" d=\"M487.371,-107.694C494.576,-89.3655 508.392,-61.8419 530.201,-47.8686 600.579,-2.77833 704.523,-10.2743 756.918,-17.9364\"/>\n",
       "<polygon fill=\"black\" stroke=\"black\" points=\"756.565,-21.4236 766.985,-19.5052 757.643,-14.5071 756.565,-21.4236\"/>\n",
       "<text text-anchor=\"middle\" x=\"641.282\" y=\"-17.6686\" font-family=\"Times,serif\" font-size=\"14.00\">1</text>\n",
       "</g>\n",
       "<!-- S00 -->\n",
       "<g id=\"node12\" class=\"node\"><title>S00</title>\n",
       "<ellipse fill=\"none\" stroke=\"black\" cx=\"587.492\" cy=\"-125.869\" rx=\"23.7379\" ry=\"23.7379\"/>\n",
       "<text text-anchor=\"middle\" x=\"587.492\" y=\"-121.669\" font-family=\"Times,serif\" font-size=\"14.00\">S00</text>\n",
       "</g>\n",
       "<!-- S0&#45;&gt;S00 -->\n",
       "<g id=\"edge4\" class=\"edge\"><title>S0&#45;&gt;S00</title>\n",
       "<path fill=\"none\" stroke=\"black\" d=\"M500.053,-125.869C514.743,-125.869 535.529,-125.869 553.036,-125.869\"/>\n",
       "<polygon fill=\"black\" stroke=\"black\" points=\"553.429,-129.369 563.429,-125.869 553.429,-122.369 553.429,-129.369\"/>\n",
       "<text text-anchor=\"middle\" x=\"533.701\" y=\"-128.669\" font-family=\"Times,serif\" font-size=\"14.00\">0</text>\n",
       "</g>\n",
       "<!-- S011&#45;&gt;F111 -->\n",
       "<g id=\"edge23\" class=\"edge\"><title>S011&#45;&gt;F111</title>\n",
       "<path fill=\"none\" stroke=\"black\" d=\"M1096.28,-227.853C1095.13,-289.558 1082.93,-431.869 994.814,-431.869 479.235,-431.869 479.235,-431.869 479.235,-431.869 463.739,-431.869 418.829,-348.878 393.173,-298.867\"/>\n",
       "<polygon fill=\"black\" stroke=\"black\" points=\"396.28,-297.257 388.618,-289.941 390.045,-300.439 396.28,-297.257\"/>\n",
       "<text text-anchor=\"middle\" x=\"740.863\" y=\"-434.669\" font-family=\"Times,serif\" font-size=\"14.00\">1</text>\n",
       "</g>\n",
       "<!-- S011&#45;&gt;F110 -->\n",
       "<g id=\"edge22\" class=\"edge\"><title>S011&#45;&gt;F110</title>\n",
       "<path fill=\"none\" stroke=\"black\" d=\"M1093.89,-227.904C1088.09,-280.755 1067.33,-389.869 994.814,-389.869 586.492,-389.869 586.492,-389.869 586.492,-389.869 561.243,-389.869 535.223,-378.617 515.37,-367.243\"/>\n",
       "<polygon fill=\"black\" stroke=\"black\" points=\"517.084,-364.19 506.708,-362.049 513.484,-370.193 517.084,-364.19\"/>\n",
       "<text text-anchor=\"middle\" x=\"790.653\" y=\"-392.669\" font-family=\"Times,serif\" font-size=\"14.00\">0</text>\n",
       "</g>\n",
       "<!-- S00&#45;&gt;S000 -->\n",
       "<g id=\"edge8\" class=\"edge\"><title>S00&#45;&gt;S000</title>\n",
       "<path fill=\"none\" stroke=\"black\" d=\"M610.034,-134.776C623.124,-140.188 640.146,-147.226 655.125,-153.419\"/>\n",
       "<polygon fill=\"black\" stroke=\"black\" points=\"654.033,-156.755 664.611,-157.341 656.707,-150.286 654.033,-156.755\"/>\n",
       "<text text-anchor=\"middle\" x=\"641.282\" y=\"-151.669\" font-family=\"Times,serif\" font-size=\"14.00\">0</text>\n",
       "</g>\n",
       "<!-- S00&#45;&gt;S001 -->\n",
       "<g id=\"edge9\" class=\"edge\"><title>S00&#45;&gt;S001</title>\n",
       "<path fill=\"none\" stroke=\"black\" d=\"M610.879,-119.34C637.446,-112.715 682.754,-104.987 719.363,-116.869 734.976,-121.936 750.023,-131.918 762.16,-141.717\"/>\n",
       "<polygon fill=\"black\" stroke=\"black\" points=\"760.175,-144.622 770.07,-148.41 764.697,-139.279 760.175,-144.622\"/>\n",
       "<text text-anchor=\"middle\" x=\"691.072\" y=\"-119.669\" font-family=\"Times,serif\" font-size=\"14.00\">1</text>\n",
       "</g>\n",
       "<!-- F100&#45;&gt;S000 -->\n",
       "<g id=\"edge24\" class=\"edge\"><title>F100&#45;&gt;S000</title>\n",
       "<path fill=\"none\" stroke=\"black\" d=\"M611.542,-242.085C626.633,-227.822 646.438,-209.106 662.383,-194.037\"/>\n",
       "<polygon fill=\"black\" stroke=\"black\" points=\"664.999,-196.38 669.863,-186.968 660.191,-191.293 664.999,-196.38\"/>\n",
       "<text text-anchor=\"middle\" x=\"641.282\" y=\"-218.669\" font-family=\"Times,serif\" font-size=\"14.00\">0</text>\n",
       "</g>\n",
       "<!-- F100&#45;&gt;S001 -->\n",
       "<g id=\"edge25\" class=\"edge\"><title>F100&#45;&gt;S001</title>\n",
       "<path fill=\"none\" stroke=\"black\" d=\"M619.789,-262.383C647.412,-259.95 688.041,-253.567 719.363,-236.869 737.149,-227.387 753.457,-212.009 765.878,-198.175\"/>\n",
       "<polygon fill=\"black\" stroke=\"black\" points=\"768.827,-200.116 772.724,-190.264 763.534,-195.535 768.827,-200.116\"/>\n",
       "<text text-anchor=\"middle\" x=\"691.072\" y=\"-259.669\" font-family=\"Times,serif\" font-size=\"14.00\">1</text>\n",
       "</g>\n",
       "<!-- F101&#45;&gt;S010 -->\n",
       "<g id=\"edge26\" class=\"edge\"><title>F101&#45;&gt;S010</title>\n",
       "<path fill=\"none\" stroke=\"black\" d=\"M964.773,-185.634C957.985,-182.836 950.633,-180.32 943.524,-178.869 938.71,-177.886 933.599,-177.452 928.531,-177.378\"/>\n",
       "<polygon fill=\"black\" stroke=\"black\" points=\"928.19,-173.886 918.295,-177.674 928.392,-180.883 928.19,-173.886\"/>\n",
       "<text text-anchor=\"middle\" x=\"940.024\" y=\"-181.669\" font-family=\"Times,serif\" font-size=\"14.00\">0</text>\n",
       "</g>\n",
       "<!-- F101&#45;&gt;S011 -->\n",
       "<g id=\"edge27\" class=\"edge\"><title>F101&#45;&gt;S011</title>\n",
       "<path fill=\"none\" stroke=\"black\" d=\"M1026.3,-199.869C1036.57,-199.869 1048.08,-199.869 1058.75,-199.869\"/>\n",
       "<polygon fill=\"black\" stroke=\"black\" points=\"1059.05,-203.369 1069.05,-199.869 1059.05,-196.369 1059.05,-203.369\"/>\n",
       "<text text-anchor=\"middle\" x=\"1047.6\" y=\"-202.669\" font-family=\"Times,serif\" font-size=\"14.00\">1</text>\n",
       "</g>\n",
       "<!-- F111&#45;&gt;F111 -->\n",
       "<g id=\"edge31\" class=\"edge\"><title>F111&#45;&gt;F111</title>\n",
       "<path fill=\"none\" stroke=\"black\" d=\"M363.878,-292.409C363.775,-302.977 367.024,-311.511 373.626,-311.511 377.855,-311.511 380.708,-308.009 382.186,-302.713\"/>\n",
       "<polygon fill=\"black\" stroke=\"black\" points=\"385.705,-302.744 383.373,-292.409 378.751,-301.942 385.705,-302.744\"/>\n",
       "<text text-anchor=\"middle\" x=\"373.626\" y=\"-314.311\" font-family=\"Times,serif\" font-size=\"14.00\">1</text>\n",
       "</g>\n",
       "<!-- F111&#45;&gt;F110 -->\n",
       "<g id=\"edge30\" class=\"edge\"><title>F111&#45;&gt;F110</title>\n",
       "<path fill=\"none\" stroke=\"black\" d=\"M399.152,-281.094C413.215,-292.118 431.053,-306.1 446.322,-318.069\"/>\n",
       "<polygon fill=\"black\" stroke=\"black\" points=\"444.47,-321.065 454.5,-324.48 448.789,-315.556 444.47,-321.065\"/>\n",
       "<text text-anchor=\"middle\" x=\"426.768\" y=\"-308.669\" font-family=\"Times,serif\" font-size=\"14.00\">0</text>\n",
       "</g>\n",
       "<!-- F110&#45;&gt;F100 -->\n",
       "<g id=\"edge28\" class=\"edge\"><title>F110&#45;&gt;F100</title>\n",
       "<path fill=\"none\" stroke=\"black\" d=\"M506.179,-324.91C520.234,-314.228 537.971,-300.747 553.199,-289.173\"/>\n",
       "<polygon fill=\"black\" stroke=\"black\" points=\"555.518,-291.806 561.362,-282.969 551.282,-286.233 555.518,-291.806\"/>\n",
       "<text text-anchor=\"middle\" x=\"533.701\" y=\"-309.669\" font-family=\"Times,serif\" font-size=\"14.00\">0</text>\n",
       "</g>\n",
       "<!-- F110&#45;&gt;F101 -->\n",
       "<g id=\"edge29\" class=\"edge\"><title>F110&#45;&gt;F101</title>\n",
       "<path fill=\"none\" stroke=\"black\" d=\"M512.554,-343.869C533.486,-343.869 561.639,-343.869 586.492,-343.869 586.492,-343.869 586.492,-343.869 891.234,-343.869 941.933,-343.869 969.56,-283.529 982.74,-240.968\"/>\n",
       "<polygon fill=\"black\" stroke=\"black\" points=\"986.174,-241.696 985.636,-231.114 979.458,-239.722 986.174,-241.696\"/>\n",
       "<text text-anchor=\"middle\" x=\"740.863\" y=\"-346.669\" font-family=\"Times,serif\" font-size=\"14.00\">1</text>\n",
       "</g>\n",
       "</g>\n",
       "</svg>\n"
      ],
      "text/plain": [
       "<graphviz.dot.Digraph at 0x11165b8d0>"
      ]
     },
     "execution_count": 38,
     "metadata": {},
     "output_type": "execute_result"
    }
   ],
   "source": [
    "dotObj_dfa(thirdlastis1)"
   ]
  },
  {
   "cell_type": "code",
   "execution_count": 39,
   "metadata": {
    "run_control": {
     "frozen": false,
     "read_only": false
    }
   },
   "outputs": [],
   "source": [
    "dped1=md2mc(src=\"File\", fname=\"pedagogical2.dfa\")\n",
    "#machines/dfafiles/pedagogical2.dfa"
   ]
  },
  {
   "cell_type": "code",
   "execution_count": 40,
   "metadata": {
    "run_control": {
     "frozen": false,
     "read_only": false
    }
   },
   "outputs": [
    {
     "data": {
      "image/svg+xml": [
       "<?xml version=\"1.0\" encoding=\"UTF-8\" standalone=\"no\"?>\n",
       "<!DOCTYPE svg PUBLIC \"-//W3C//DTD SVG 1.1//EN\"\n",
       " \"http://www.w3.org/Graphics/SVG/1.1/DTD/svg11.dtd\">\n",
       "<!-- Generated by graphviz version 2.38.0 (20140413.2041)\n",
       " -->\n",
       "<!-- Title: %3 Pages: 1 -->\n",
       "<svg width=\"473pt\" height=\"74pt\"\n",
       " viewBox=\"0.00 0.00 472.79 74.00\" xmlns=\"http://www.w3.org/2000/svg\" xmlns:xlink=\"http://www.w3.org/1999/xlink\">\n",
       "<g id=\"graph0\" class=\"graph\" transform=\"scale(1 1) rotate(0) translate(4 70)\">\n",
       "<title>%3</title>\n",
       "<polygon fill=\"white\" stroke=\"none\" points=\"-4,4 -4,-70 468.787,-70 468.787,4 -4,4\"/>\n",
       "<!-- EMPTY -->\n",
       "<g id=\"node1\" class=\"node\"><title>EMPTY</title>\n",
       "</g>\n",
       "<!-- I -->\n",
       "<g id=\"node2\" class=\"node\"><title>I</title>\n",
       "<ellipse fill=\"none\" stroke=\"black\" cx=\"109\" cy=\"-18\" rx=\"18\" ry=\"18\"/>\n",
       "<text text-anchor=\"middle\" x=\"109\" y=\"-13.8\" font-family=\"Times,serif\" font-size=\"14.00\">I</text>\n",
       "</g>\n",
       "<!-- EMPTY&#45;&gt;I -->\n",
       "<g id=\"edge1\" class=\"edge\"><title>EMPTY&#45;&gt;I</title>\n",
       "<path fill=\"none\" stroke=\"black\" d=\"M54.195,-18C62.6538,-18 72.0513,-18 80.5951,-18\"/>\n",
       "<polygon fill=\"black\" stroke=\"black\" points=\"80.8257,-21.5001 90.8257,-18 80.8257,-14.5001 80.8257,-21.5001\"/>\n",
       "</g>\n",
       "<!-- A -->\n",
       "<g id=\"node3\" class=\"node\"><title>A</title>\n",
       "<ellipse fill=\"none\" stroke=\"black\" cx=\"188\" cy=\"-48\" rx=\"18\" ry=\"18\"/>\n",
       "<text text-anchor=\"middle\" x=\"188\" y=\"-43.8\" font-family=\"Times,serif\" font-size=\"14.00\">A</text>\n",
       "</g>\n",
       "<!-- I&#45;&gt;A -->\n",
       "<g id=\"edge2\" class=\"edge\"><title>I&#45;&gt;A</title>\n",
       "<path fill=\"none\" stroke=\"black\" d=\"M125.954,-24.216C136.279,-28.2385 149.943,-33.5621 161.726,-38.1528\"/>\n",
       "<polygon fill=\"black\" stroke=\"black\" points=\"160.478,-41.4228 171.066,-41.7919 163.019,-34.9004 160.478,-41.4228\"/>\n",
       "<text text-anchor=\"middle\" x=\"148.5\" y=\"-35.8\" font-family=\"Times,serif\" font-size=\"14.00\">0</text>\n",
       "</g>\n",
       "<!-- B -->\n",
       "<g id=\"node4\" class=\"node\"><title>B</title>\n",
       "<ellipse fill=\"none\" stroke=\"black\" cx=\"267\" cy=\"-31\" rx=\"18\" ry=\"18\"/>\n",
       "<text text-anchor=\"middle\" x=\"267\" y=\"-26.8\" font-family=\"Times,serif\" font-size=\"14.00\">B</text>\n",
       "</g>\n",
       "<!-- I&#45;&gt;B -->\n",
       "<g id=\"edge3\" class=\"edge\"><title>I&#45;&gt;B</title>\n",
       "<path fill=\"none\" stroke=\"black\" d=\"M126.422,-13.1049C145.63,-8.07317 178.325,-1.67034 206,-7 218.146,-9.33908 230.958,-14.1148 241.611,-18.7945\"/>\n",
       "<polygon fill=\"black\" stroke=\"black\" points=\"240.159,-21.9791 250.705,-22.9926 243.093,-15.6236 240.159,-21.9791\"/>\n",
       "<text text-anchor=\"middle\" x=\"188\" y=\"-9.8\" font-family=\"Times,serif\" font-size=\"14.00\">1</text>\n",
       "</g>\n",
       "<!-- A&#45;&gt;B -->\n",
       "<g id=\"edge4\" class=\"edge\"><title>A&#45;&gt;B</title>\n",
       "<path fill=\"none\" stroke=\"black\" d=\"M206.354,-48.5543C213.997,-48.446 223.032,-47.834 231,-46 234.455,-45.2048 237.998,-44.0845 241.441,-42.8103\"/>\n",
       "<polygon fill=\"black\" stroke=\"black\" points=\"242.831,-46.023 250.722,-38.9536 240.144,-39.5589 242.831,-46.023\"/>\n",
       "<text text-anchor=\"middle\" x=\"227.5\" y=\"-49.8\" font-family=\"Times,serif\" font-size=\"14.00\">0</text>\n",
       "</g>\n",
       "<!-- A&#45;&gt;B -->\n",
       "<g id=\"edge5\" class=\"edge\"><title>A&#45;&gt;B</title>\n",
       "<path fill=\"none\" stroke=\"black\" d=\"M202.907,-37.8326C209.051,-33.9464 216.56,-29.9759 224,-28 228.782,-26.73 233.972,-26.3413 239.019,-26.4566\"/>\n",
       "<polygon fill=\"black\" stroke=\"black\" points=\"238.749,-29.9462 249.003,-27.2805 239.325,-22.9699 238.749,-29.9462\"/>\n",
       "<text text-anchor=\"middle\" x=\"227.5\" y=\"-30.8\" font-family=\"Times,serif\" font-size=\"14.00\">1</text>\n",
       "</g>\n",
       "<!-- F1 -->\n",
       "<g id=\"node6\" class=\"node\"><title>F1</title>\n",
       "<ellipse fill=\"none\" stroke=\"black\" cx=\"351.447\" cy=\"-31\" rx=\"19.4029\" ry=\"19.4029\"/>\n",
       "<ellipse fill=\"none\" stroke=\"black\" cx=\"351.447\" cy=\"-31\" rx=\"23.3939\" ry=\"23.3939\"/>\n",
       "<text text-anchor=\"middle\" x=\"351.447\" y=\"-26.8\" font-family=\"Times,serif\" font-size=\"14.00\">F1</text>\n",
       "</g>\n",
       "<!-- B&#45;&gt;F1 -->\n",
       "<g id=\"edge6\" class=\"edge\"><title>B&#45;&gt;F1</title>\n",
       "<path fill=\"none\" stroke=\"black\" d=\"M285.083,-31C294.448,-31 306.379,-31 317.478,-31\"/>\n",
       "<polygon fill=\"black\" stroke=\"black\" points=\"317.753,-34.5001 327.753,-31 317.753,-27.5001 317.753,-34.5001\"/>\n",
       "<text text-anchor=\"middle\" x=\"306.5\" y=\"-33.8\" font-family=\"Times,serif\" font-size=\"14.00\">1</text>\n",
       "</g>\n",
       "<!-- F2 -->\n",
       "<g id=\"node5\" class=\"node\"><title>F2</title>\n",
       "<ellipse fill=\"none\" stroke=\"black\" cx=\"441.341\" cy=\"-31\" rx=\"19.4029\" ry=\"19.4029\"/>\n",
       "<ellipse fill=\"none\" stroke=\"black\" cx=\"441.341\" cy=\"-31\" rx=\"23.3939\" ry=\"23.3939\"/>\n",
       "<text text-anchor=\"middle\" x=\"441.341\" y=\"-26.8\" font-family=\"Times,serif\" font-size=\"14.00\">F2</text>\n",
       "</g>\n",
       "<!-- F1&#45;&gt;F2 -->\n",
       "<g id=\"edge7\" class=\"edge\"><title>F1&#45;&gt;F2</title>\n",
       "<path fill=\"none\" stroke=\"black\" d=\"M375.082,-31C385.026,-31 396.892,-31 407.762,-31\"/>\n",
       "<polygon fill=\"black\" stroke=\"black\" points=\"407.783,-34.5001 417.782,-31 407.782,-27.5001 407.783,-34.5001\"/>\n",
       "<text text-anchor=\"middle\" x=\"396.394\" y=\"-33.8\" font-family=\"Times,serif\" font-size=\"14.00\">0</text>\n",
       "</g>\n",
       "<!-- F1&#45;&gt;F2 -->\n",
       "<g id=\"edge8\" class=\"edge\"><title>F1&#45;&gt;F2</title>\n",
       "<path fill=\"none\" stroke=\"black\" d=\"M372.461,-20.1126C378.808,-17.2076 385.977,-14.4696 392.894,-13 399.228,-11.6542 405.836,-12.565 412.038,-14.5475\"/>\n",
       "<polygon fill=\"black\" stroke=\"black\" points=\"410.774,-17.8118 421.354,-18.3747 413.434,-11.337 410.774,-17.8118\"/>\n",
       "<text text-anchor=\"middle\" x=\"396.394\" y=\"-15.8\" font-family=\"Times,serif\" font-size=\"14.00\">1</text>\n",
       "</g>\n",
       "</g>\n",
       "</svg>\n"
      ],
      "text/plain": [
       "<graphviz.dot.Digraph at 0x1116640f0>"
      ]
     },
     "execution_count": 40,
     "metadata": {},
     "output_type": "execute_result"
    }
   ],
   "source": [
    "dotObj_dfa(dped1)"
   ]
  },
  {
   "cell_type": "code",
   "execution_count": 41,
   "metadata": {
    "run_control": {
     "frozen": false,
     "read_only": false
    }
   },
   "outputs": [],
   "source": [
    "secondLastIs1 = md2mc('''\n",
    "!!------------------------------------------------------------\n",
    "!! This DFA looks for patterns of the form ....1.\n",
    "!! i.e., the second-last (counting from the end-point) is a 1\n",
    "!!\n",
    "!! DFAs find such patterns \"very stressful to handle\",\n",
    "!! as they are kept guessing of the form  'are we there yet?'\n",
    "!! 'are we seeing the second-last' ?\n",
    "!! They must keep all the failure options at hand. Even after\n",
    "!! a 'fleeting glimpse' of the second-last, more inputs can\n",
    "!! come barreling-in to make that \"lucky 1\" a non-second-last.\n",
    "!!\n",
    "!! We take 7 states in the DFA solution.\n",
    "!!------------------------------------------------------------\n",
    "\n",
    "DFA\n",
    "!!------------------------------------------------------------\n",
    "!! State : in ->  tostate !! comment\n",
    "!!------------------------------------------------------------\n",
    "\n",
    "I   :  0 ->  S0  !! Enter at init state I\n",
    "I   :  1 ->  S1  !! Record bit seen in state letter\n",
    "                     !! i.e., S0 means \"state after seeing a 0\"\n",
    "\t\t\t \n",
    "S0  :  0 ->  S00 !! continue recording input seen\n",
    "S0  :  1 ->  S01 !! in state-letter. This is a problem-specific\n",
    "                 !! way of compressing the input seen so far.\n",
    "\n",
    "S1  :  0 ->  F10 !! We now have a \"second last\" available!\n",
    "S1  :  1 ->  F11 !! Both F10 and F10 are \"F\" (final)\n",
    "\n",
    "S00 :  0 ->  S00 !! History of things seen is still 00\n",
    "S00 :  1 ->  S01 !! Remember 01 in the state\n",
    "\n",
    "S01 :  0 ->  F10 !! We again have a second-last of 1\n",
    "S01 :  1 ->  F11 !! We are in F11 because of 11 being last seen\n",
    "\n",
    "F10 :  0 ->  S00 !! The second-last 1 gets pushed-out\n",
    "F10 :  1 ->  S01 !! The second-last 1 gets pushed-out here too\n",
    "\n",
    "F11 :  0 ->  F10 !! Still we have a second-last 1\n",
    "F11 :  1 ->  F11 !! Stay in F11, as last two seen are 11\n",
    "\n",
    "!!------------------------------------------------------------\n",
    "''')"
   ]
  },
  {
   "cell_type": "code",
   "execution_count": null,
   "metadata": {
    "run_control": {
     "frozen": false,
     "read_only": false
    }
   },
   "outputs": [],
   "source": []
  },
  {
   "cell_type": "code",
   "execution_count": 42,
   "metadata": {
    "run_control": {
     "frozen": false,
     "read_only": false
    }
   },
   "outputs": [
    {
     "data": {
      "text/plain": [
       "'0101'"
      ]
     },
     "execution_count": 42,
     "metadata": {},
     "output_type": "execute_result"
    }
   ],
   "source": [
    "nthnumeric(20,['0','1'])"
   ]
  },
  {
   "cell_type": "code",
   "execution_count": 43,
   "metadata": {
    "run_control": {
     "frozen": false,
     "read_only": false
    }
   },
   "outputs": [
    {
     "data": {
      "text/plain": [
       "'S01'"
      ]
     },
     "execution_count": 43,
     "metadata": {},
     "output_type": "execute_result"
    }
   ],
   "source": [
    "run_dfa(secondLastIs1, '0101')"
   ]
  },
  {
   "cell_type": "code",
   "execution_count": 44,
   "metadata": {
    "run_control": {
     "frozen": false,
     "read_only": false
    }
   },
   "outputs": [
    {
     "data": {
      "text/plain": [
       "False"
      ]
     },
     "execution_count": 44,
     "metadata": {},
     "output_type": "execute_result"
    }
   ],
   "source": [
    "accepts_dfa(secondLastIs1, '0101')"
   ]
  },
  {
   "cell_type": "code",
   "execution_count": 45,
   "metadata": {
    "run_control": {
     "frozen": false,
     "read_only": false
    }
   },
   "outputs": [
    {
     "name": "stdout",
     "output_type": "stream",
     "text": [
      "This DFA rejects  \n",
      "This DFA rejects  0\n",
      "This DFA rejects  1\n",
      "This DFA rejects  00\n",
      "This DFA rejects  01\n",
      "This DFA accepts  10\n",
      "This DFA accepts  11\n",
      "This DFA rejects  000\n",
      "This DFA rejects  001\n",
      "This DFA accepts  010\n",
      "This DFA accepts  011\n",
      "This DFA rejects  100\n"
     ]
    }
   ],
   "source": [
    "tests = [ nthnumeric(i, ['0','1']) for i in range(12) ]\n",
    "for t in tests:\n",
    "    if accepts_dfa(secondLastIs1, t):\n",
    "        print(\"This DFA accepts \", t)\n",
    "    else:\n",
    "        print(\"This DFA rejects \", t)"
   ]
  },
  {
   "cell_type": "code",
   "execution_count": 46,
   "metadata": {
    "run_control": {
     "frozen": false,
     "read_only": false
    }
   },
   "outputs": [
    {
     "name": "stdout",
     "output_type": "stream",
     "text": [
      "Help on function run_dfa in module jove.Def_DFA:\n",
      "\n",
      "run_dfa(D, s)\n",
      "    In : D (consistent DFA)\n",
      "         s (string over D's sigma, including \"\")\n",
      "    Out: next state of D[\"q0\"] via string s\n",
      "\n"
     ]
    }
   ],
   "source": [
    "help(run_dfa)"
   ]
  },
  {
   "cell_type": "markdown",
   "metadata": {
    "run_control": {
     "frozen": false,
     "read_only": false
    }
   },
   "source": [
    "# Study DeMorgan's Law on DFA\n",
    "\n",
    "This is an extensive illustration of union, intersection and complementation, DFA minimization, isomorphism test, language equivalence test, and an application of DeMorgan's law\n",
    "\n",
    "## Define a DFA for \"odd 1s\" (over {0,1})"
   ]
  },
  {
   "cell_type": "code",
   "execution_count": 47,
   "metadata": {
    "run_control": {
     "frozen": false,
     "read_only": false
    }
   },
   "outputs": [],
   "source": [
    "dfaOdd1s = md2mc('''\n",
    "DFA\n",
    "I : 0 -> I\n",
    "I : 1 -> F\n",
    "F : 0 -> F \n",
    "F : 1 -> I\n",
    "''')"
   ]
  },
  {
   "cell_type": "code",
   "execution_count": 48,
   "metadata": {
    "run_control": {
     "frozen": false,
     "read_only": false
    }
   },
   "outputs": [
    {
     "data": {
      "image/svg+xml": [
       "<?xml version=\"1.0\" encoding=\"UTF-8\" standalone=\"no\"?>\n",
       "<!DOCTYPE svg PUBLIC \"-//W3C//DTD SVG 1.1//EN\"\n",
       " \"http://www.w3.org/Graphics/SVG/1.1/DTD/svg11.dtd\">\n",
       "<!-- Generated by graphviz version 2.38.0 (20140413.2041)\n",
       " -->\n",
       "<!-- Title: %3 Pages: 1 -->\n",
       "<svg width=\"222pt\" height=\"84pt\"\n",
       " viewBox=\"0.00 0.00 222.00 84.00\" xmlns=\"http://www.w3.org/2000/svg\" xmlns:xlink=\"http://www.w3.org/1999/xlink\">\n",
       "<g id=\"graph0\" class=\"graph\" transform=\"scale(1 1) rotate(0) translate(4 80)\">\n",
       "<title>%3</title>\n",
       "<polygon fill=\"white\" stroke=\"none\" points=\"-4,4 -4,-80 218,-80 218,4 -4,4\"/>\n",
       "<!-- EMPTY -->\n",
       "<g id=\"node1\" class=\"node\"><title>EMPTY</title>\n",
       "</g>\n",
       "<!-- I -->\n",
       "<g id=\"node2\" class=\"node\"><title>I</title>\n",
       "<ellipse fill=\"none\" stroke=\"black\" cx=\"109\" cy=\"-22\" rx=\"18\" ry=\"18\"/>\n",
       "<text text-anchor=\"middle\" x=\"109\" y=\"-17.8\" font-family=\"Times,serif\" font-size=\"14.00\">I</text>\n",
       "</g>\n",
       "<!-- EMPTY&#45;&gt;I -->\n",
       "<g id=\"edge1\" class=\"edge\"><title>EMPTY&#45;&gt;I</title>\n",
       "<path fill=\"none\" stroke=\"black\" d=\"M54.195,-22C62.6538,-22 72.0513,-22 80.5951,-22\"/>\n",
       "<polygon fill=\"black\" stroke=\"black\" points=\"80.8257,-25.5001 90.8257,-22 80.8257,-18.5001 80.8257,-25.5001\"/>\n",
       "</g>\n",
       "<!-- I&#45;&gt;I -->\n",
       "<g id=\"edge2\" class=\"edge\"><title>I&#45;&gt;I</title>\n",
       "<path fill=\"none\" stroke=\"black\" d=\"M102.621,-39.0373C101.319,-48.8579 103.445,-58 109,-58 112.472,-58 114.604,-54.4289 115.398,-49.3529\"/>\n",
       "<polygon fill=\"black\" stroke=\"black\" points=\"118.897,-49.031 115.379,-39.0373 111.897,-49.0435 118.897,-49.031\"/>\n",
       "<text text-anchor=\"middle\" x=\"109\" y=\"-60.8\" font-family=\"Times,serif\" font-size=\"14.00\">0</text>\n",
       "</g>\n",
       "<!-- F -->\n",
       "<g id=\"node3\" class=\"node\"><title>F</title>\n",
       "<ellipse fill=\"none\" stroke=\"black\" cx=\"192\" cy=\"-22\" rx=\"18\" ry=\"18\"/>\n",
       "<ellipse fill=\"none\" stroke=\"black\" cx=\"192\" cy=\"-22\" rx=\"22\" ry=\"22\"/>\n",
       "<text text-anchor=\"middle\" x=\"192\" y=\"-17.8\" font-family=\"Times,serif\" font-size=\"14.00\">F</text>\n",
       "</g>\n",
       "<!-- I&#45;&gt;F -->\n",
       "<g id=\"edge3\" class=\"edge\"><title>I&#45;&gt;F</title>\n",
       "<path fill=\"none\" stroke=\"black\" d=\"M127.178,-22C136.61,-22 148.601,-22 159.637,-22\"/>\n",
       "<polygon fill=\"black\" stroke=\"black\" points=\"159.811,-25.5001 169.811,-22 159.811,-18.5001 159.811,-25.5001\"/>\n",
       "<text text-anchor=\"middle\" x=\"148.5\" y=\"-24.8\" font-family=\"Times,serif\" font-size=\"14.00\">1</text>\n",
       "</g>\n",
       "<!-- F&#45;&gt;I -->\n",
       "<g id=\"edge5\" class=\"edge\"><title>F&#45;&gt;I</title>\n",
       "<path fill=\"none\" stroke=\"black\" d=\"M173.45,-9.63813C165.02,-5.13585 154.669,-1.65948 145,-4 141.26,-4.9053 137.472,-6.28328 133.838,-7.8822\"/>\n",
       "<polygon fill=\"black\" stroke=\"black\" points=\"132.086,-4.84541 124.717,-12.4577 135.225,-11.1023 132.086,-4.84541\"/>\n",
       "<text text-anchor=\"middle\" x=\"148.5\" y=\"-6.8\" font-family=\"Times,serif\" font-size=\"14.00\">1</text>\n",
       "</g>\n",
       "<!-- F&#45;&gt;F -->\n",
       "<g id=\"edge4\" class=\"edge\"><title>F&#45;&gt;F</title>\n",
       "<path fill=\"none\" stroke=\"black\" d=\"M184.317,-42.9908C183.369,-53.0872 185.93,-62 192,-62 195.889,-62 198.337,-58.3422 199.346,-53.0587\"/>\n",
       "<polygon fill=\"black\" stroke=\"black\" points=\"202.846,-53.1023 199.683,-42.9908 195.85,-52.868 202.846,-53.1023\"/>\n",
       "<text text-anchor=\"middle\" x=\"192\" y=\"-64.8\" font-family=\"Times,serif\" font-size=\"14.00\">0</text>\n",
       "</g>\n",
       "</g>\n",
       "</svg>\n"
      ],
      "text/plain": [
       "<graphviz.dot.Digraph at 0x111651ef0>"
      ]
     },
     "execution_count": 48,
     "metadata": {},
     "output_type": "execute_result"
    }
   ],
   "source": [
    "dotObj_dfa(dfaOdd1s)"
   ]
  },
  {
   "cell_type": "markdown",
   "metadata": {
    "run_control": {
     "frozen": false,
     "read_only": false
    }
   },
   "source": [
    "## Define a DFA for \"ends in 0101\""
   ]
  },
  {
   "cell_type": "code",
   "execution_count": 49,
   "metadata": {
    "run_control": {
     "frozen": false,
     "read_only": false
    }
   },
   "outputs": [],
   "source": [
    "ends0101 = md2mc('''\n",
    "DFA \n",
    "I     : 0 -> S0  \n",
    "I     : 1 -> I \n",
    "S0    : 0 -> S0 \n",
    "S0    : 1 -> S01 \n",
    "S01   : 0 -> S010 \n",
    "S01   : 1 -> I \n",
    "S010  : 0 -> S0 \n",
    "S010  : 1 -> F0101 \n",
    "F0101 : 0 -> S010 \n",
    "F0101 : 1 -> I \n",
    "''')"
   ]
  },
  {
   "cell_type": "code",
   "execution_count": 50,
   "metadata": {
    "run_control": {
     "frozen": false,
     "read_only": false
    }
   },
   "outputs": [
    {
     "data": {
      "image/svg+xml": [
       "<?xml version=\"1.0\" encoding=\"UTF-8\" standalone=\"no\"?>\n",
       "<!DOCTYPE svg PUBLIC \"-//W3C//DTD SVG 1.1//EN\"\n",
       " \"http://www.w3.org/Graphics/SVG/1.1/DTD/svg11.dtd\">\n",
       "<!-- Generated by graphviz version 2.38.0 (20140413.2041)\n",
       " -->\n",
       "<!-- Title: %3 Pages: 1 -->\n",
       "<svg width=\"524pt\" height=\"164pt\"\n",
       " viewBox=\"0.00 0.00 523.64 164.16\" xmlns=\"http://www.w3.org/2000/svg\" xmlns:xlink=\"http://www.w3.org/1999/xlink\">\n",
       "<g id=\"graph0\" class=\"graph\" transform=\"scale(1 1) rotate(0) translate(4 160.159)\">\n",
       "<title>%3</title>\n",
       "<polygon fill=\"white\" stroke=\"none\" points=\"-4,4 -4,-160.159 519.636,-160.159 519.636,4 -4,4\"/>\n",
       "<!-- EMPTY -->\n",
       "<g id=\"node1\" class=\"node\"><title>EMPTY</title>\n",
       "</g>\n",
       "<!-- I -->\n",
       "<g id=\"node4\" class=\"node\"><title>I</title>\n",
       "<ellipse fill=\"none\" stroke=\"black\" cx=\"109\" cy=\"-53.7121\" rx=\"18\" ry=\"18\"/>\n",
       "<text text-anchor=\"middle\" x=\"109\" y=\"-49.5121\" font-family=\"Times,serif\" font-size=\"14.00\">I</text>\n",
       "</g>\n",
       "<!-- EMPTY&#45;&gt;I -->\n",
       "<g id=\"edge1\" class=\"edge\"><title>EMPTY&#45;&gt;I</title>\n",
       "<path fill=\"none\" stroke=\"black\" d=\"M54.195,-53.7121C62.6538,-53.7121 72.0513,-53.7121 80.5951,-53.7121\"/>\n",
       "<polygon fill=\"black\" stroke=\"black\" points=\"80.8257,-57.2122 90.8257,-53.7121 80.8257,-50.2122 80.8257,-57.2122\"/>\n",
       "</g>\n",
       "<!-- S010 -->\n",
       "<g id=\"node2\" class=\"node\"><title>S010</title>\n",
       "<ellipse fill=\"none\" stroke=\"black\" cx=\"370.921\" cy=\"-69.7121\" rx=\"28.0822\" ry=\"28.0822\"/>\n",
       "<text text-anchor=\"middle\" x=\"370.921\" y=\"-65.5121\" font-family=\"Times,serif\" font-size=\"14.00\">S010</text>\n",
       "</g>\n",
       "<!-- S0 -->\n",
       "<g id=\"node3\" class=\"node\"><title>S0</title>\n",
       "<ellipse fill=\"none\" stroke=\"black\" cx=\"189.447\" cy=\"-104.712\" rx=\"19.3939\" ry=\"19.3939\"/>\n",
       "<text text-anchor=\"middle\" x=\"189.447\" y=\"-100.512\" font-family=\"Times,serif\" font-size=\"14.00\">S0</text>\n",
       "</g>\n",
       "<!-- S010&#45;&gt;S0 -->\n",
       "<g id=\"edge8\" class=\"edge\"><title>S010&#45;&gt;S0</title>\n",
       "<path fill=\"none\" stroke=\"black\" d=\"M344.154,-79.175C330.973,-83.7508 314.593,-89.0344 299.631,-92.7121 270.864,-99.7827 263.385,-100.92 233.894,-103.712 229.204,-104.156 224.217,-104.443 219.358,-104.623\"/>\n",
       "<polygon fill=\"black\" stroke=\"black\" points=\"219.001,-101.13 209.086,-104.866 219.166,-108.129 219.001,-101.13\"/>\n",
       "<text text-anchor=\"middle\" x=\"275.762\" y=\"-105.512\" font-family=\"Times,serif\" font-size=\"14.00\">0</text>\n",
       "</g>\n",
       "<!-- F0101 -->\n",
       "<g id=\"node6\" class=\"node\"><title>F0101</title>\n",
       "<ellipse fill=\"none\" stroke=\"black\" cx=\"478.924\" cy=\"-36.7121\" rx=\"32.9021\" ry=\"32.9021\"/>\n",
       "<ellipse fill=\"none\" stroke=\"black\" cx=\"478.924\" cy=\"-36.7121\" rx=\"36.9254\" ry=\"36.9254\"/>\n",
       "<text text-anchor=\"middle\" x=\"478.924\" y=\"-32.5121\" font-family=\"Times,serif\" font-size=\"14.00\">F0101</text>\n",
       "</g>\n",
       "<!-- S010&#45;&gt;F0101 -->\n",
       "<g id=\"edge9\" class=\"edge\"><title>S010&#45;&gt;F0101</title>\n",
       "<path fill=\"none\" stroke=\"black\" d=\"M398.124,-61.5548C408.961,-58.1812 421.825,-54.1763 434.026,-50.3779\"/>\n",
       "<polygon fill=\"black\" stroke=\"black\" points=\"435.11,-53.7063 443.618,-47.392 433.029,-47.0227 435.11,-53.7063\"/>\n",
       "<text text-anchor=\"middle\" x=\"420.712\" y=\"-58.5121\" font-family=\"Times,serif\" font-size=\"14.00\">1</text>\n",
       "</g>\n",
       "<!-- S0&#45;&gt;S0 -->\n",
       "<g id=\"edge4\" class=\"edge\"><title>S0&#45;&gt;S0</title>\n",
       "<path fill=\"none\" stroke=\"black\" d=\"M182.306,-122.822C180.973,-132.889 183.353,-142.159 189.447,-142.159 193.351,-142.159 195.731,-138.354 196.586,-132.973\"/>\n",
       "<polygon fill=\"black\" stroke=\"black\" points=\"200.086,-132.822 196.588,-122.822 193.086,-132.821 200.086,-132.822\"/>\n",
       "<text text-anchor=\"middle\" x=\"189.447\" y=\"-144.959\" font-family=\"Times,serif\" font-size=\"14.00\">0</text>\n",
       "</g>\n",
       "<!-- S01 -->\n",
       "<g id=\"node5\" class=\"node\"><title>S01</title>\n",
       "<ellipse fill=\"none\" stroke=\"black\" cx=\"275.762\" cy=\"-59.7121\" rx=\"23.7379\" ry=\"23.7379\"/>\n",
       "<text text-anchor=\"middle\" x=\"275.762\" y=\"-55.5121\" font-family=\"Times,serif\" font-size=\"14.00\">S01</text>\n",
       "</g>\n",
       "<!-- S0&#45;&gt;S01 -->\n",
       "<g id=\"edge5\" class=\"edge\"><title>S0&#45;&gt;S01</title>\n",
       "<path fill=\"none\" stroke=\"black\" d=\"M207.105,-95.8215C217.995,-90.0091 232.523,-82.2559 245.323,-75.4239\"/>\n",
       "<polygon fill=\"black\" stroke=\"black\" points=\"247.089,-78.4492 254.263,-70.6529 243.793,-72.2736 247.089,-78.4492\"/>\n",
       "<text text-anchor=\"middle\" x=\"230.394\" y=\"-88.5121\" font-family=\"Times,serif\" font-size=\"14.00\">1</text>\n",
       "</g>\n",
       "<!-- I&#45;&gt;S0 -->\n",
       "<g id=\"edge2\" class=\"edge\"><title>I&#45;&gt;S0</title>\n",
       "<path fill=\"none\" stroke=\"black\" d=\"M124.388,-63.0663C135.529,-70.3093 151.212,-80.5046 164.271,-88.9946\"/>\n",
       "<polygon fill=\"black\" stroke=\"black\" points=\"162.513,-92.0264 172.805,-94.5427 166.328,-86.1576 162.513,-92.0264\"/>\n",
       "<text text-anchor=\"middle\" x=\"148.5\" y=\"-84.5121\" font-family=\"Times,serif\" font-size=\"14.00\">0</text>\n",
       "</g>\n",
       "<!-- I&#45;&gt;I -->\n",
       "<g id=\"edge3\" class=\"edge\"><title>I&#45;&gt;I</title>\n",
       "<path fill=\"none\" stroke=\"black\" d=\"M102.621,-70.7494C101.319,-80.57 103.445,-89.7121 109,-89.7121 112.472,-89.7121 114.604,-86.1409 115.398,-81.065\"/>\n",
       "<polygon fill=\"black\" stroke=\"black\" points=\"118.897,-80.7431 115.379,-70.7494 111.897,-80.7556 118.897,-80.7431\"/>\n",
       "<text text-anchor=\"middle\" x=\"109\" y=\"-92.5121\" font-family=\"Times,serif\" font-size=\"14.00\">1</text>\n",
       "</g>\n",
       "<!-- S01&#45;&gt;S010 -->\n",
       "<g id=\"edge6\" class=\"edge\"><title>S01&#45;&gt;S010</title>\n",
       "<path fill=\"none\" stroke=\"black\" d=\"M299.79,-62.184C309.59,-63.2359 321.277,-64.4904 332.274,-65.6708\"/>\n",
       "<polygon fill=\"black\" stroke=\"black\" points=\"332.205,-69.1835 342.521,-66.7709 332.952,-62.2235 332.205,-69.1835\"/>\n",
       "<text text-anchor=\"middle\" x=\"321.131\" y=\"-67.5121\" font-family=\"Times,serif\" font-size=\"14.00\">0</text>\n",
       "</g>\n",
       "<!-- S01&#45;&gt;I -->\n",
       "<g id=\"edge7\" class=\"edge\"><title>S01&#45;&gt;I</title>\n",
       "<path fill=\"none\" stroke=\"black\" d=\"M251.812,-58.8763C221.844,-57.785 169.444,-55.8768 137.419,-54.7106\"/>\n",
       "<polygon fill=\"black\" stroke=\"black\" points=\"137.133,-51.1979 127.012,-54.3316 136.878,-58.1933 137.133,-51.1979\"/>\n",
       "<text text-anchor=\"middle\" x=\"189.447\" y=\"-60.5121\" font-family=\"Times,serif\" font-size=\"14.00\">1</text>\n",
       "</g>\n",
       "<!-- F0101&#45;&gt;S010 -->\n",
       "<g id=\"edge10\" class=\"edge\"><title>F0101&#45;&gt;S010</title>\n",
       "<path fill=\"none\" stroke=\"black\" d=\"M442.343,-33.0141C433.942,-33.1464 425.129,-34.1335 417.212,-36.7121 411.523,-38.5649 405.953,-41.432 400.774,-44.7191\"/>\n",
       "<polygon fill=\"black\" stroke=\"black\" points=\"398.65,-41.9337 392.475,-50.5427 402.671,-47.6638 398.65,-41.9337\"/>\n",
       "<text text-anchor=\"middle\" x=\"420.712\" y=\"-39.5121\" font-family=\"Times,serif\" font-size=\"14.00\">0</text>\n",
       "</g>\n",
       "<!-- F0101&#45;&gt;I -->\n",
       "<g id=\"edge11\" class=\"edge\"><title>F0101&#45;&gt;I</title>\n",
       "<path fill=\"none\" stroke=\"black\" d=\"M445.314,-20.9853C424.751,-12.4857 397.363,-3.71207 371.921,-3.71207 188.447,-3.71207 188.447,-3.71207 188.447,-3.71207 165.281,-3.71207 143.447,-19.409 128.726,-33.2128\"/>\n",
       "<polygon fill=\"black\" stroke=\"black\" points=\"125.943,-31.0442 121.316,-40.5752 130.876,-36.01 125.943,-31.0442\"/>\n",
       "<text text-anchor=\"middle\" x=\"275.762\" y=\"-6.51207\" font-family=\"Times,serif\" font-size=\"14.00\">1</text>\n",
       "</g>\n",
       "</g>\n",
       "</svg>\n"
      ],
      "text/plain": [
       "<graphviz.dot.Digraph at 0x111651dd8>"
      ]
     },
     "execution_count": 50,
     "metadata": {},
     "output_type": "execute_result"
    }
   ],
   "source": [
    "dotObj_dfa(ends0101)"
   ]
  },
  {
   "cell_type": "markdown",
   "metadata": {
    "run_control": {
     "frozen": false,
     "read_only": false
    }
   },
   "source": [
    "## Now produce a DFA for the union\n",
    "\n",
    "Union of \"odd 1s\" and \"ends in 0101\"\n"
   ]
  },
  {
   "cell_type": "code",
   "execution_count": 51,
   "metadata": {
    "run_control": {
     "frozen": false,
     "read_only": false
    }
   },
   "outputs": [],
   "source": [
    "odd1sORends0101 = union_dfa(dfaOdd1s,ends0101)"
   ]
  },
  {
   "cell_type": "code",
   "execution_count": 52,
   "metadata": {
    "run_control": {
     "frozen": false,
     "read_only": false
    }
   },
   "outputs": [
    {
     "data": {
      "image/svg+xml": [
       "<?xml version=\"1.0\" encoding=\"UTF-8\" standalone=\"no\"?>\n",
       "<!DOCTYPE svg PUBLIC \"-//W3C//DTD SVG 1.1//EN\"\n",
       " \"http://www.w3.org/Graphics/SVG/1.1/DTD/svg11.dtd\">\n",
       "<!-- Generated by graphviz version 2.38.0 (20140413.2041)\n",
       " -->\n",
       "<!-- Title: %3 Pages: 1 -->\n",
       "<svg width=\"1064pt\" height=\"455pt\"\n",
       " viewBox=\"0.00 0.00 1063.53 455.00\" xmlns=\"http://www.w3.org/2000/svg\" xmlns:xlink=\"http://www.w3.org/1999/xlink\">\n",
       "<g id=\"graph0\" class=\"graph\" transform=\"scale(1 1) rotate(0) translate(4 451)\">\n",
       "<title>%3</title>\n",
       "<polygon fill=\"white\" stroke=\"none\" points=\"-4,4 -4,-451 1059.53,-451 1059.53,4 -4,4\"/>\n",
       "<!-- EMPTY -->\n",
       "<g id=\"node1\" class=\"node\"><title>EMPTY</title>\n",
       "</g>\n",
       "<!-- \\(I_I\\) -->\n",
       "<g id=\"node3\" class=\"node\"><title>\\(I_I\\)</title>\n",
       "<ellipse fill=\"none\" stroke=\"black\" cx=\"117.308\" cy=\"-96\" rx=\"26.118\" ry=\"26.118\"/>\n",
       "<text text-anchor=\"middle\" x=\"117.308\" y=\"-91.8\" font-family=\"Times,serif\" font-size=\"14.00\">(I_I)</text>\n",
       "</g>\n",
       "<!-- EMPTY&#45;&gt;\\(I_I\\) -->\n",
       "<g id=\"edge1\" class=\"edge\"><title>EMPTY&#45;&gt;\\(I_I\\)</title>\n",
       "<path fill=\"none\" stroke=\"black\" d=\"M54.0178,-96C62.3552,-96 71.7368,-96 80.64,-96\"/>\n",
       "<polygon fill=\"black\" stroke=\"black\" points=\"80.7808,-99.5001 90.7807,-96 80.7807,-92.5001 80.7808,-99.5001\"/>\n",
       "</g>\n",
       "<!-- \\(I_S010\\) -->\n",
       "<g id=\"node2\" class=\"node\"><title>\\(I_S010\\)</title>\n",
       "<ellipse fill=\"none\" stroke=\"black\" cx=\"867.099\" cy=\"-305\" rx=\"41.5938\" ry=\"41.5938\"/>\n",
       "<text text-anchor=\"middle\" x=\"867.099\" y=\"-300.8\" font-family=\"Times,serif\" font-size=\"14.00\">(I_S010)</text>\n",
       "</g>\n",
       "<!-- \\(I_S0\\) -->\n",
       "<g id=\"node5\" class=\"node\"><title>\\(I_S0\\)</title>\n",
       "<ellipse fill=\"none\" stroke=\"black\" cx=\"219.32\" cy=\"-277\" rx=\"32.9081\" ry=\"32.9081\"/>\n",
       "<text text-anchor=\"middle\" x=\"219.32\" y=\"-272.8\" font-family=\"Times,serif\" font-size=\"14.00\">(I_S0)</text>\n",
       "</g>\n",
       "<!-- \\(I_S010\\)&#45;&gt;\\(I_S0\\) -->\n",
       "<g id=\"edge11\" class=\"edge\"><title>\\(I_S010\\)&#45;&gt;\\(I_S0\\)</title>\n",
       "<path fill=\"none\" stroke=\"black\" d=\"M847.776,-342.023C826.154,-379.826 786.36,-433 733.583,-433 337.122,-433 337.122,-433 337.122,-433 279.754,-433 247.14,-364.564 231.656,-318.348\"/>\n",
       "<polygon fill=\"black\" stroke=\"black\" points=\"234.907,-317.023 228.521,-308.569 228.241,-319.16 234.907,-317.023\"/>\n",
       "<text text-anchor=\"middle\" x=\"540.761\" y=\"-435.8\" font-family=\"Times,serif\" font-size=\"14.00\">0</text>\n",
       "</g>\n",
       "<!-- \\(F_F0101\\) -->\n",
       "<g id=\"node6\" class=\"node\"><title>\\(F_F0101\\)</title>\n",
       "<ellipse fill=\"none\" stroke=\"black\" cx=\"1003.59\" cy=\"-305\" rx=\"47.8885\" ry=\"47.8885\"/>\n",
       "<ellipse fill=\"none\" stroke=\"black\" cx=\"1003.59\" cy=\"-305\" rx=\"51.8841\" ry=\"51.8841\"/>\n",
       "<text text-anchor=\"middle\" x=\"1003.59\" y=\"-300.8\" font-family=\"Times,serif\" font-size=\"14.00\">(F_F0101)</text>\n",
       "</g>\n",
       "<!-- \\(I_S010\\)&#45;&gt;\\(F_F0101\\) -->\n",
       "<g id=\"edge15\" class=\"edge\"><title>\\(I_S010\\)&#45;&gt;\\(F_F0101\\)</title>\n",
       "<path fill=\"none\" stroke=\"black\" d=\"M908.815,-305C919.114,-305 930.402,-305 941.468,-305\"/>\n",
       "<polygon fill=\"black\" stroke=\"black\" points=\"941.532,-308.5 951.532,-305 941.532,-301.5 941.532,-308.5\"/>\n",
       "<text text-anchor=\"middle\" x=\"930.146\" y=\"-307.8\" font-family=\"Times,serif\" font-size=\"14.00\">1</text>\n",
       "</g>\n",
       "<!-- \\(I_I\\)&#45;&gt;\\(I_S0\\) -->\n",
       "<g id=\"edge5\" class=\"edge\"><title>\\(I_I\\)&#45;&gt;\\(I_S0\\)</title>\n",
       "<path fill=\"none\" stroke=\"black\" d=\"M128.535,-119.857C136.841,-138.677 149.178,-165.426 161.617,-188 171.613,-206.142 183.84,-225.619 194.377,-241.714\"/>\n",
       "<polygon fill=\"black\" stroke=\"black\" points=\"191.601,-243.861 200.033,-250.277 197.442,-240.003 191.601,-243.861\"/>\n",
       "<text text-anchor=\"middle\" x=\"165.117\" y=\"-203.8\" font-family=\"Times,serif\" font-size=\"14.00\">0</text>\n",
       "</g>\n",
       "<!-- \\(F_I\\) -->\n",
       "<g id=\"node8\" class=\"node\"><title>\\(F_I\\)</title>\n",
       "<ellipse fill=\"none\" stroke=\"black\" cx=\"867.099\" cy=\"-131\" rx=\"28.0917\" ry=\"28.0917\"/>\n",
       "<ellipse fill=\"none\" stroke=\"black\" cx=\"867.099\" cy=\"-131\" rx=\"32.0649\" ry=\"32.0649\"/>\n",
       "<text text-anchor=\"middle\" x=\"867.099\" y=\"-126.8\" font-family=\"Times,serif\" font-size=\"14.00\">(F_I)</text>\n",
       "</g>\n",
       "<!-- \\(I_I\\)&#45;&gt;\\(F_I\\) -->\n",
       "<g id=\"edge3\" class=\"edge\"><title>\\(I_I\\)&#45;&gt;\\(F_I\\)</title>\n",
       "<path fill=\"none\" stroke=\"black\" d=\"M137.937,-79.3507C157.132,-64.8057 187.843,-46 218.32,-46 218.32,-46 218.32,-46 733.583,-46 768.285,-46 778.184,-52.5142 807.552,-71 819.232,-78.352 830.292,-88.4901 839.59,-98.3414\"/>\n",
       "<polygon fill=\"black\" stroke=\"black\" points=\"837.022,-100.72 846.336,-105.768 842.203,-96.0128 837.022,-100.72\"/>\n",
       "<text text-anchor=\"middle\" x=\"471.741\" y=\"-48.8\" font-family=\"Times,serif\" font-size=\"14.00\">1</text>\n",
       "</g>\n",
       "<!-- \\(I_S01\\) -->\n",
       "<g id=\"node4\" class=\"node\"><title>\\(I_S01\\)</title>\n",
       "<ellipse fill=\"none\" stroke=\"black\" cx=\"732.583\" cy=\"-200\" rx=\"37.2507\" ry=\"37.2507\"/>\n",
       "<text text-anchor=\"middle\" x=\"732.583\" y=\"-195.8\" font-family=\"Times,serif\" font-size=\"14.00\">(I_S01)</text>\n",
       "</g>\n",
       "<!-- \\(I_S01\\)&#45;&gt;\\(I_S010\\) -->\n",
       "<g id=\"edge8\" class=\"edge\"><title>\\(I_S01\\)&#45;&gt;\\(I_S010\\)</title>\n",
       "<path fill=\"none\" stroke=\"black\" d=\"M769.198,-207.271C782.117,-211.087 796.291,-216.746 807.552,-225 820.42,-234.431 831.645,-247.521 840.73,-260.384\"/>\n",
       "<polygon fill=\"black\" stroke=\"black\" points=\"837.891,-262.433 846.387,-268.763 843.692,-258.516 837.891,-262.433\"/>\n",
       "<text text-anchor=\"middle\" x=\"804.052\" y=\"-227.8\" font-family=\"Times,serif\" font-size=\"14.00\">0</text>\n",
       "</g>\n",
       "<!-- \\(I_S01\\)&#45;&gt;\\(F_I\\) -->\n",
       "<g id=\"edge16\" class=\"edge\"><title>\\(I_S01\\)&#45;&gt;\\(F_I\\)</title>\n",
       "<path fill=\"none\" stroke=\"black\" d=\"M766,-183.121C785.051,-173.201 809.203,-160.625 829.01,-150.312\"/>\n",
       "<polygon fill=\"black\" stroke=\"black\" points=\"830.803,-153.324 838.056,-145.601 827.57,-147.116 830.803,-153.324\"/>\n",
       "<text text-anchor=\"middle\" x=\"804.052\" y=\"-166.8\" font-family=\"Times,serif\" font-size=\"14.00\">1</text>\n",
       "</g>\n",
       "<!-- \\(I_S0\\)&#45;&gt;\\(I_S0\\) -->\n",
       "<g id=\"edge10\" class=\"edge\"><title>\\(I_S0\\)&#45;&gt;\\(I_S0\\)</title>\n",
       "<path fill=\"none\" stroke=\"black\" d=\"M209.198,-308.193C209.09,-318.987 212.465,-327.703 219.32,-327.703 223.819,-327.703 226.819,-323.949 228.319,-318.318\"/>\n",
       "<polygon fill=\"black\" stroke=\"black\" points=\"231.818,-318.518 229.443,-308.193 224.861,-317.746 231.818,-318.518\"/>\n",
       "<text text-anchor=\"middle\" x=\"219.32\" y=\"-330.503\" font-family=\"Times,serif\" font-size=\"14.00\">0</text>\n",
       "</g>\n",
       "<!-- \\(F_S01\\) -->\n",
       "<g id=\"node7\" class=\"node\"><title>\\(F_S01\\)</title>\n",
       "<ellipse fill=\"none\" stroke=\"black\" cx=\"338.122\" cy=\"-277\" rx=\"39.1881\" ry=\"39.1881\"/>\n",
       "<ellipse fill=\"none\" stroke=\"black\" cx=\"338.122\" cy=\"-277\" rx=\"43.1973\" ry=\"43.1973\"/>\n",
       "<text text-anchor=\"middle\" x=\"338.122\" y=\"-272.8\" font-family=\"Times,serif\" font-size=\"14.00\">(F_S01)</text>\n",
       "</g>\n",
       "<!-- \\(I_S0\\)&#45;&gt;\\(F_S01\\) -->\n",
       "<g id=\"edge7\" class=\"edge\"><title>\\(I_S0\\)&#45;&gt;\\(F_S01\\)</title>\n",
       "<path fill=\"none\" stroke=\"black\" d=\"M252.237,-277C262.269,-277 273.625,-277 284.691,-277\"/>\n",
       "<polygon fill=\"black\" stroke=\"black\" points=\"284.727,-280.5 294.727,-277 284.727,-273.5 284.727,-280.5\"/>\n",
       "<text text-anchor=\"middle\" x=\"273.524\" y=\"-279.8\" font-family=\"Times,serif\" font-size=\"14.00\">1</text>\n",
       "</g>\n",
       "<!-- \\(F_F0101\\)&#45;&gt;\\(I_I\\) -->\n",
       "<g id=\"edge17\" class=\"edge\"><title>\\(F_F0101\\)&#45;&gt;\\(I_I\\)</title>\n",
       "<path fill=\"none\" stroke=\"black\" d=\"M1002.23,-252.915C998.598,-165.804 977.33,-0 868.099,-0 218.32,-0 218.32,-0 218.32,-0 180.749,-0 151.81,-35.6967 134.946,-63.5553\"/>\n",
       "<polygon fill=\"black\" stroke=\"black\" points=\"131.883,-61.862 129.9,-72.2697 137.94,-65.37 131.883,-61.862\"/>\n",
       "<text text-anchor=\"middle\" x=\"540.761\" y=\"-2.8\" font-family=\"Times,serif\" font-size=\"14.00\">1</text>\n",
       "</g>\n",
       "<!-- \\(F_S010\\) -->\n",
       "<g id=\"node11\" class=\"node\"><title>\\(F_S010\\)</title>\n",
       "<ellipse fill=\"none\" stroke=\"black\" cx=\"471.741\" cy=\"-301\" rx=\"43.5388\" ry=\"43.5388\"/>\n",
       "<ellipse fill=\"none\" stroke=\"black\" cx=\"471.741\" cy=\"-301\" rx=\"47.5405\" ry=\"47.5405\"/>\n",
       "<text text-anchor=\"middle\" x=\"471.741\" y=\"-296.8\" font-family=\"Times,serif\" font-size=\"14.00\">(F_S010)</text>\n",
       "</g>\n",
       "<!-- \\(F_F0101\\)&#45;&gt;\\(F_S010\\) -->\n",
       "<g id=\"edge6\" class=\"edge\"><title>\\(F_F0101\\)&#45;&gt;\\(F_S010\\)</title>\n",
       "<path fill=\"none\" stroke=\"black\" d=\"M967.858,-342.721C942.699,-365.828 906.483,-391 868.099,-391 599.938,-391 599.938,-391 599.938,-391 564.788,-391 532.551,-367.814 509.325,-344.978\"/>\n",
       "<polygon fill=\"black\" stroke=\"black\" points=\"511.605,-342.304 502.108,-337.606 506.603,-347.201 511.605,-342.304\"/>\n",
       "<text text-anchor=\"middle\" x=\"732.583\" y=\"-393.8\" font-family=\"Times,serif\" font-size=\"14.00\">0</text>\n",
       "</g>\n",
       "<!-- \\(F_S01\\)&#45;&gt;\\(I_I\\) -->\n",
       "<g id=\"edge14\" class=\"edge\"><title>\\(F_S01\\)&#45;&gt;\\(I_I\\)</title>\n",
       "<path fill=\"none\" stroke=\"black\" d=\"M304.162,-249.736C261.037,-214.063 186.232,-152.186 145.929,-118.848\"/>\n",
       "<polygon fill=\"black\" stroke=\"black\" points=\"148.049,-116.059 138.113,-112.382 143.587,-121.453 148.049,-116.059\"/>\n",
       "<text text-anchor=\"middle\" x=\"219.32\" y=\"-207.8\" font-family=\"Times,serif\" font-size=\"14.00\">1</text>\n",
       "</g>\n",
       "<!-- \\(F_S01\\)&#45;&gt;\\(F_S010\\) -->\n",
       "<g id=\"edge2\" class=\"edge\"><title>\\(F_S01\\)&#45;&gt;\\(F_S010\\)</title>\n",
       "<path fill=\"none\" stroke=\"black\" d=\"M380.767,-284.594C391.602,-286.569 403.451,-288.73 414.889,-290.816\"/>\n",
       "<polygon fill=\"black\" stroke=\"black\" points=\"414.334,-294.272 424.799,-292.623 415.589,-287.386 414.334,-294.272\"/>\n",
       "<text text-anchor=\"middle\" x=\"402.721\" y=\"-291.8\" font-family=\"Times,serif\" font-size=\"14.00\">0</text>\n",
       "</g>\n",
       "<!-- \\(F_I\\)&#45;&gt;\\(I_I\\) -->\n",
       "<g id=\"edge13\" class=\"edge\"><title>\\(F_I\\)&#45;&gt;\\(I_I\\)</title>\n",
       "<path fill=\"none\" stroke=\"black\" d=\"M835.174,-125.724C826.278,-124.349 816.549,-122.979 807.552,-122 628.756,-102.54 583.573,-96 403.721,-96 218.32,-96 218.32,-96 218.32,-96 196.931,-96 172.968,-96 153.862,-96\"/>\n",
       "<polygon fill=\"black\" stroke=\"black\" points=\"153.794,-92.5001 143.794,-96 153.794,-99.5001 153.794,-92.5001\"/>\n",
       "<text text-anchor=\"middle\" x=\"471.741\" y=\"-100.8\" font-family=\"Times,serif\" font-size=\"14.00\">1</text>\n",
       "</g>\n",
       "<!-- \\(F_S0\\) -->\n",
       "<g id=\"node9\" class=\"node\"><title>\\(F_S0\\)</title>\n",
       "<ellipse fill=\"none\" stroke=\"black\" cx=\"600.938\" cy=\"-198\" rx=\"34.836\" ry=\"34.836\"/>\n",
       "<ellipse fill=\"none\" stroke=\"black\" cx=\"600.938\" cy=\"-198\" rx=\"38.8544\" ry=\"38.8544\"/>\n",
       "<text text-anchor=\"middle\" x=\"600.938\" y=\"-193.8\" font-family=\"Times,serif\" font-size=\"14.00\">(F_S0)</text>\n",
       "</g>\n",
       "<!-- \\(F_I\\)&#45;&gt;\\(F_S0\\) -->\n",
       "<g id=\"edge18\" class=\"edge\"><title>\\(F_I\\)&#45;&gt;\\(F_S0\\)</title>\n",
       "<path fill=\"none\" stroke=\"black\" d=\"M834.89,-127.281C797.539,-124.004 733.648,-122.168 682.615,-140 666.567,-145.608 650.919,-155.493 637.741,-165.531\"/>\n",
       "<polygon fill=\"black\" stroke=\"black\" points=\"635.538,-162.811 629.874,-171.764 639.885,-168.297 635.538,-162.811\"/>\n",
       "<text text-anchor=\"middle\" x=\"732.583\" y=\"-142.8\" font-family=\"Times,serif\" font-size=\"14.00\">0</text>\n",
       "</g>\n",
       "<!-- \\(F_S0\\)&#45;&gt;\\(I_S01\\) -->\n",
       "<g id=\"edge9\" class=\"edge\"><title>\\(F_S0\\)&#45;&gt;\\(I_S01\\)</title>\n",
       "<path fill=\"none\" stroke=\"black\" d=\"M639.785,-198.584C653.995,-198.803 670.31,-199.055 685.207,-199.285\"/>\n",
       "<polygon fill=\"black\" stroke=\"black\" points=\"685.197,-202.785 695.25,-199.44 685.306,-195.786 685.197,-202.785\"/>\n",
       "<text text-anchor=\"middle\" x=\"661.115\" y=\"-201.8\" font-family=\"Times,serif\" font-size=\"14.00\">1</text>\n",
       "</g>\n",
       "<!-- \\(F_S0\\)&#45;&gt;\\(F_S0\\) -->\n",
       "<g id=\"edge20\" class=\"edge\"><title>\\(F_S0\\)&#45;&gt;\\(F_S0\\)</title>\n",
       "<path fill=\"none\" stroke=\"black\" d=\"M589.713,-235.067C590.048,-246.095 593.789,-254.677 600.938,-254.677 605.629,-254.677 608.853,-250.981 610.61,-245.324\"/>\n",
       "<polygon fill=\"black\" stroke=\"black\" points=\"614.126,-245.479 612.163,-235.067 607.205,-244.43 614.126,-245.479\"/>\n",
       "<text text-anchor=\"middle\" x=\"600.938\" y=\"-257.477\" font-family=\"Times,serif\" font-size=\"14.00\">0</text>\n",
       "</g>\n",
       "<!-- \\(I_F0101\\) -->\n",
       "<g id=\"node10\" class=\"node\"><title>\\(I_F0101\\)</title>\n",
       "<ellipse fill=\"none\" stroke=\"black\" cx=\"732.583\" cy=\"-305\" rx=\"45.9398\" ry=\"45.9398\"/>\n",
       "<ellipse fill=\"none\" stroke=\"black\" cx=\"732.583\" cy=\"-305\" rx=\"49.9373\" ry=\"49.9373\"/>\n",
       "<text text-anchor=\"middle\" x=\"732.583\" y=\"-300.8\" font-family=\"Times,serif\" font-size=\"14.00\">(I_F0101)</text>\n",
       "</g>\n",
       "<!-- \\(I_F0101\\)&#45;&gt;\\(I_S010\\) -->\n",
       "<g id=\"edge4\" class=\"edge\"><title>\\(I_F0101\\)&#45;&gt;\\(I_S010\\)</title>\n",
       "<path fill=\"none\" stroke=\"black\" d=\"M782.927,-305C793.413,-305 804.505,-305 815.053,-305\"/>\n",
       "<polygon fill=\"black\" stroke=\"black\" points=\"815.377,-308.5 825.377,-305 815.377,-301.5 815.377,-308.5\"/>\n",
       "<text text-anchor=\"middle\" x=\"804.052\" y=\"-307.8\" font-family=\"Times,serif\" font-size=\"14.00\">0</text>\n",
       "</g>\n",
       "<!-- \\(I_F0101\\)&#45;&gt;\\(F_I\\) -->\n",
       "<g id=\"edge21\" class=\"edge\"><title>\\(I_F0101\\)&#45;&gt;\\(F_I\\)</title>\n",
       "<path fill=\"none\" stroke=\"black\" d=\"M772.513,-274.733C784.603,-264.215 797.405,-251.82 807.552,-239 824.27,-217.877 838.744,-191.306 849.118,-169.806\"/>\n",
       "<polygon fill=\"black\" stroke=\"black\" points=\"852.346,-171.166 853.448,-160.629 846.015,-168.179 852.346,-171.166\"/>\n",
       "<text text-anchor=\"middle\" x=\"804.052\" y=\"-250.8\" font-family=\"Times,serif\" font-size=\"14.00\">1</text>\n",
       "</g>\n",
       "<!-- \\(F_S010\\)&#45;&gt;\\(F_S0\\) -->\n",
       "<g id=\"edge12\" class=\"edge\"><title>\\(F_S010\\)&#45;&gt;\\(F_S0\\)</title>\n",
       "<path fill=\"none\" stroke=\"black\" d=\"M509.19,-271.484C525.846,-257.998 545.559,-242.034 562.35,-228.438\"/>\n",
       "<polygon fill=\"black\" stroke=\"black\" points=\"564.763,-230.987 570.332,-221.974 560.357,-225.547 564.763,-230.987\"/>\n",
       "<text text-anchor=\"middle\" x=\"540.761\" y=\"-249.8\" font-family=\"Times,serif\" font-size=\"14.00\">0</text>\n",
       "</g>\n",
       "<!-- \\(F_S010\\)&#45;&gt;\\(I_F0101\\) -->\n",
       "<g id=\"edge19\" class=\"edge\"><title>\\(F_S010\\)&#45;&gt;\\(I_F0101\\)</title>\n",
       "<path fill=\"none\" stroke=\"black\" d=\"M519.316,-301.72C562.076,-302.381 625.652,-303.363 672.077,-304.08\"/>\n",
       "<polygon fill=\"black\" stroke=\"black\" points=\"672.247,-307.583 682.3,-304.238 672.355,-300.584 672.247,-307.583\"/>\n",
       "<text text-anchor=\"middle\" x=\"600.938\" y=\"-306.8\" font-family=\"Times,serif\" font-size=\"14.00\">1</text>\n",
       "</g>\n",
       "</g>\n",
       "</svg>\n"
      ],
      "text/plain": [
       "<graphviz.dot.Digraph at 0x111668cc0>"
      ]
     },
     "execution_count": 52,
     "metadata": {},
     "output_type": "execute_result"
    }
   ],
   "source": [
    "dotObj_dfa(odd1sORends0101)"
   ]
  },
  {
   "cell_type": "code",
   "execution_count": 53,
   "metadata": {
    "run_control": {
     "frozen": false,
     "read_only": false
    },
    "scrolled": true
   },
   "outputs": [
    {
     "data": {
      "image/svg+xml": [
       "<?xml version=\"1.0\" encoding=\"UTF-8\" standalone=\"no\"?>\n",
       "<!DOCTYPE svg PUBLIC \"-//W3C//DTD SVG 1.1//EN\"\n",
       " \"http://www.w3.org/Graphics/SVG/1.1/DTD/svg11.dtd\">\n",
       "<!-- Generated by graphviz version 2.38.0 (20140413.2041)\n",
       " -->\n",
       "<!-- Title: %3 Pages: 1 -->\n",
       "<svg width=\"1064pt\" height=\"455pt\"\n",
       " viewBox=\"0.00 0.00 1063.53 455.00\" xmlns=\"http://www.w3.org/2000/svg\" xmlns:xlink=\"http://www.w3.org/1999/xlink\">\n",
       "<g id=\"graph0\" class=\"graph\" transform=\"scale(1 1) rotate(0) translate(4 451)\">\n",
       "<title>%3</title>\n",
       "<polygon fill=\"white\" stroke=\"none\" points=\"-4,4 -4,-451 1059.53,-451 1059.53,4 -4,4\"/>\n",
       "<!-- EMPTY -->\n",
       "<g id=\"node1\" class=\"node\"><title>EMPTY</title>\n",
       "</g>\n",
       "<!-- \\(I_I\\) -->\n",
       "<g id=\"node3\" class=\"node\"><title>\\(I_I\\)</title>\n",
       "<ellipse fill=\"none\" stroke=\"black\" cx=\"117.308\" cy=\"-96\" rx=\"26.118\" ry=\"26.118\"/>\n",
       "<text text-anchor=\"middle\" x=\"117.308\" y=\"-91.8\" font-family=\"Times,serif\" font-size=\"14.00\">(I_I)</text>\n",
       "</g>\n",
       "<!-- EMPTY&#45;&gt;\\(I_I\\) -->\n",
       "<g id=\"edge1\" class=\"edge\"><title>EMPTY&#45;&gt;\\(I_I\\)</title>\n",
       "<path fill=\"none\" stroke=\"black\" d=\"M54.0178,-96C62.3552,-96 71.7368,-96 80.64,-96\"/>\n",
       "<polygon fill=\"black\" stroke=\"black\" points=\"80.7808,-99.5001 90.7807,-96 80.7807,-92.5001 80.7808,-99.5001\"/>\n",
       "</g>\n",
       "<!-- \\(I_S010\\) -->\n",
       "<g id=\"node2\" class=\"node\"><title>\\(I_S010\\)</title>\n",
       "<ellipse fill=\"none\" stroke=\"black\" cx=\"867.099\" cy=\"-305\" rx=\"41.5938\" ry=\"41.5938\"/>\n",
       "<text text-anchor=\"middle\" x=\"867.099\" y=\"-300.8\" font-family=\"Times,serif\" font-size=\"14.00\">(I_S010)</text>\n",
       "</g>\n",
       "<!-- \\(I_S0\\) -->\n",
       "<g id=\"node5\" class=\"node\"><title>\\(I_S0\\)</title>\n",
       "<ellipse fill=\"none\" stroke=\"black\" cx=\"219.32\" cy=\"-277\" rx=\"32.9081\" ry=\"32.9081\"/>\n",
       "<text text-anchor=\"middle\" x=\"219.32\" y=\"-272.8\" font-family=\"Times,serif\" font-size=\"14.00\">(I_S0)</text>\n",
       "</g>\n",
       "<!-- \\(I_S010\\)&#45;&gt;\\(I_S0\\) -->\n",
       "<g id=\"edge11\" class=\"edge\"><title>\\(I_S010\\)&#45;&gt;\\(I_S0\\)</title>\n",
       "<path fill=\"none\" stroke=\"black\" d=\"M847.776,-342.023C826.154,-379.826 786.36,-433 733.583,-433 337.122,-433 337.122,-433 337.122,-433 279.754,-433 247.14,-364.564 231.656,-318.348\"/>\n",
       "<polygon fill=\"black\" stroke=\"black\" points=\"234.907,-317.023 228.521,-308.569 228.241,-319.16 234.907,-317.023\"/>\n",
       "<text text-anchor=\"middle\" x=\"540.761\" y=\"-435.8\" font-family=\"Times,serif\" font-size=\"14.00\">0</text>\n",
       "</g>\n",
       "<!-- \\(F_F0101\\) -->\n",
       "<g id=\"node6\" class=\"node\"><title>\\(F_F0101\\)</title>\n",
       "<ellipse fill=\"none\" stroke=\"black\" cx=\"1003.59\" cy=\"-305\" rx=\"47.8885\" ry=\"47.8885\"/>\n",
       "<ellipse fill=\"none\" stroke=\"black\" cx=\"1003.59\" cy=\"-305\" rx=\"51.8841\" ry=\"51.8841\"/>\n",
       "<text text-anchor=\"middle\" x=\"1003.59\" y=\"-300.8\" font-family=\"Times,serif\" font-size=\"14.00\">(F_F0101)</text>\n",
       "</g>\n",
       "<!-- \\(I_S010\\)&#45;&gt;\\(F_F0101\\) -->\n",
       "<g id=\"edge15\" class=\"edge\"><title>\\(I_S010\\)&#45;&gt;\\(F_F0101\\)</title>\n",
       "<path fill=\"none\" stroke=\"black\" d=\"M908.815,-305C919.114,-305 930.402,-305 941.468,-305\"/>\n",
       "<polygon fill=\"black\" stroke=\"black\" points=\"941.532,-308.5 951.532,-305 941.532,-301.5 941.532,-308.5\"/>\n",
       "<text text-anchor=\"middle\" x=\"930.146\" y=\"-307.8\" font-family=\"Times,serif\" font-size=\"14.00\">1</text>\n",
       "</g>\n",
       "<!-- \\(I_I\\)&#45;&gt;\\(I_S0\\) -->\n",
       "<g id=\"edge5\" class=\"edge\"><title>\\(I_I\\)&#45;&gt;\\(I_S0\\)</title>\n",
       "<path fill=\"none\" stroke=\"black\" d=\"M128.535,-119.857C136.841,-138.677 149.178,-165.426 161.617,-188 171.613,-206.142 183.84,-225.619 194.377,-241.714\"/>\n",
       "<polygon fill=\"black\" stroke=\"black\" points=\"191.601,-243.861 200.033,-250.277 197.442,-240.003 191.601,-243.861\"/>\n",
       "<text text-anchor=\"middle\" x=\"165.117\" y=\"-203.8\" font-family=\"Times,serif\" font-size=\"14.00\">0</text>\n",
       "</g>\n",
       "<!-- \\(F_I\\) -->\n",
       "<g id=\"node8\" class=\"node\"><title>\\(F_I\\)</title>\n",
       "<ellipse fill=\"none\" stroke=\"black\" cx=\"867.099\" cy=\"-131\" rx=\"28.0917\" ry=\"28.0917\"/>\n",
       "<ellipse fill=\"none\" stroke=\"black\" cx=\"867.099\" cy=\"-131\" rx=\"32.0649\" ry=\"32.0649\"/>\n",
       "<text text-anchor=\"middle\" x=\"867.099\" y=\"-126.8\" font-family=\"Times,serif\" font-size=\"14.00\">(F_I)</text>\n",
       "</g>\n",
       "<!-- \\(I_I\\)&#45;&gt;\\(F_I\\) -->\n",
       "<g id=\"edge3\" class=\"edge\"><title>\\(I_I\\)&#45;&gt;\\(F_I\\)</title>\n",
       "<path fill=\"none\" stroke=\"black\" d=\"M137.937,-79.3507C157.132,-64.8057 187.843,-46 218.32,-46 218.32,-46 218.32,-46 733.583,-46 768.285,-46 778.184,-52.5142 807.552,-71 819.232,-78.352 830.292,-88.4901 839.59,-98.3414\"/>\n",
       "<polygon fill=\"black\" stroke=\"black\" points=\"837.022,-100.72 846.336,-105.768 842.203,-96.0128 837.022,-100.72\"/>\n",
       "<text text-anchor=\"middle\" x=\"471.741\" y=\"-48.8\" font-family=\"Times,serif\" font-size=\"14.00\">1</text>\n",
       "</g>\n",
       "<!-- \\(I_S01\\) -->\n",
       "<g id=\"node4\" class=\"node\"><title>\\(I_S01\\)</title>\n",
       "<ellipse fill=\"none\" stroke=\"black\" cx=\"732.583\" cy=\"-200\" rx=\"37.2507\" ry=\"37.2507\"/>\n",
       "<text text-anchor=\"middle\" x=\"732.583\" y=\"-195.8\" font-family=\"Times,serif\" font-size=\"14.00\">(I_S01)</text>\n",
       "</g>\n",
       "<!-- \\(I_S01\\)&#45;&gt;\\(I_S010\\) -->\n",
       "<g id=\"edge8\" class=\"edge\"><title>\\(I_S01\\)&#45;&gt;\\(I_S010\\)</title>\n",
       "<path fill=\"none\" stroke=\"black\" d=\"M769.198,-207.271C782.117,-211.087 796.291,-216.746 807.552,-225 820.42,-234.431 831.645,-247.521 840.73,-260.384\"/>\n",
       "<polygon fill=\"black\" stroke=\"black\" points=\"837.891,-262.433 846.387,-268.763 843.692,-258.516 837.891,-262.433\"/>\n",
       "<text text-anchor=\"middle\" x=\"804.052\" y=\"-227.8\" font-family=\"Times,serif\" font-size=\"14.00\">0</text>\n",
       "</g>\n",
       "<!-- \\(I_S01\\)&#45;&gt;\\(F_I\\) -->\n",
       "<g id=\"edge16\" class=\"edge\"><title>\\(I_S01\\)&#45;&gt;\\(F_I\\)</title>\n",
       "<path fill=\"none\" stroke=\"black\" d=\"M766,-183.121C785.051,-173.201 809.203,-160.625 829.01,-150.312\"/>\n",
       "<polygon fill=\"black\" stroke=\"black\" points=\"830.803,-153.324 838.056,-145.601 827.57,-147.116 830.803,-153.324\"/>\n",
       "<text text-anchor=\"middle\" x=\"804.052\" y=\"-166.8\" font-family=\"Times,serif\" font-size=\"14.00\">1</text>\n",
       "</g>\n",
       "<!-- \\(I_S0\\)&#45;&gt;\\(I_S0\\) -->\n",
       "<g id=\"edge10\" class=\"edge\"><title>\\(I_S0\\)&#45;&gt;\\(I_S0\\)</title>\n",
       "<path fill=\"none\" stroke=\"black\" d=\"M209.198,-308.193C209.09,-318.987 212.465,-327.703 219.32,-327.703 223.819,-327.703 226.819,-323.949 228.319,-318.318\"/>\n",
       "<polygon fill=\"black\" stroke=\"black\" points=\"231.818,-318.518 229.443,-308.193 224.861,-317.746 231.818,-318.518\"/>\n",
       "<text text-anchor=\"middle\" x=\"219.32\" y=\"-330.503\" font-family=\"Times,serif\" font-size=\"14.00\">0</text>\n",
       "</g>\n",
       "<!-- \\(F_S01\\) -->\n",
       "<g id=\"node7\" class=\"node\"><title>\\(F_S01\\)</title>\n",
       "<ellipse fill=\"none\" stroke=\"black\" cx=\"338.122\" cy=\"-277\" rx=\"39.1881\" ry=\"39.1881\"/>\n",
       "<ellipse fill=\"none\" stroke=\"black\" cx=\"338.122\" cy=\"-277\" rx=\"43.1973\" ry=\"43.1973\"/>\n",
       "<text text-anchor=\"middle\" x=\"338.122\" y=\"-272.8\" font-family=\"Times,serif\" font-size=\"14.00\">(F_S01)</text>\n",
       "</g>\n",
       "<!-- \\(I_S0\\)&#45;&gt;\\(F_S01\\) -->\n",
       "<g id=\"edge7\" class=\"edge\"><title>\\(I_S0\\)&#45;&gt;\\(F_S01\\)</title>\n",
       "<path fill=\"none\" stroke=\"black\" d=\"M252.237,-277C262.269,-277 273.625,-277 284.691,-277\"/>\n",
       "<polygon fill=\"black\" stroke=\"black\" points=\"284.727,-280.5 294.727,-277 284.727,-273.5 284.727,-280.5\"/>\n",
       "<text text-anchor=\"middle\" x=\"273.524\" y=\"-279.8\" font-family=\"Times,serif\" font-size=\"14.00\">1</text>\n",
       "</g>\n",
       "<!-- \\(F_F0101\\)&#45;&gt;\\(I_I\\) -->\n",
       "<g id=\"edge17\" class=\"edge\"><title>\\(F_F0101\\)&#45;&gt;\\(I_I\\)</title>\n",
       "<path fill=\"none\" stroke=\"black\" d=\"M1002.23,-252.915C998.598,-165.804 977.33,-0 868.099,-0 218.32,-0 218.32,-0 218.32,-0 180.749,-0 151.81,-35.6967 134.946,-63.5553\"/>\n",
       "<polygon fill=\"black\" stroke=\"black\" points=\"131.883,-61.862 129.9,-72.2697 137.94,-65.37 131.883,-61.862\"/>\n",
       "<text text-anchor=\"middle\" x=\"540.761\" y=\"-2.8\" font-family=\"Times,serif\" font-size=\"14.00\">1</text>\n",
       "</g>\n",
       "<!-- \\(F_S010\\) -->\n",
       "<g id=\"node11\" class=\"node\"><title>\\(F_S010\\)</title>\n",
       "<ellipse fill=\"none\" stroke=\"black\" cx=\"471.741\" cy=\"-301\" rx=\"43.5388\" ry=\"43.5388\"/>\n",
       "<ellipse fill=\"none\" stroke=\"black\" cx=\"471.741\" cy=\"-301\" rx=\"47.5405\" ry=\"47.5405\"/>\n",
       "<text text-anchor=\"middle\" x=\"471.741\" y=\"-296.8\" font-family=\"Times,serif\" font-size=\"14.00\">(F_S010)</text>\n",
       "</g>\n",
       "<!-- \\(F_F0101\\)&#45;&gt;\\(F_S010\\) -->\n",
       "<g id=\"edge6\" class=\"edge\"><title>\\(F_F0101\\)&#45;&gt;\\(F_S010\\)</title>\n",
       "<path fill=\"none\" stroke=\"black\" d=\"M967.858,-342.721C942.699,-365.828 906.483,-391 868.099,-391 599.938,-391 599.938,-391 599.938,-391 564.788,-391 532.551,-367.814 509.325,-344.978\"/>\n",
       "<polygon fill=\"black\" stroke=\"black\" points=\"511.605,-342.304 502.108,-337.606 506.603,-347.201 511.605,-342.304\"/>\n",
       "<text text-anchor=\"middle\" x=\"732.583\" y=\"-393.8\" font-family=\"Times,serif\" font-size=\"14.00\">0</text>\n",
       "</g>\n",
       "<!-- \\(F_S01\\)&#45;&gt;\\(I_I\\) -->\n",
       "<g id=\"edge14\" class=\"edge\"><title>\\(F_S01\\)&#45;&gt;\\(I_I\\)</title>\n",
       "<path fill=\"none\" stroke=\"black\" d=\"M304.162,-249.736C261.037,-214.063 186.232,-152.186 145.929,-118.848\"/>\n",
       "<polygon fill=\"black\" stroke=\"black\" points=\"148.049,-116.059 138.113,-112.382 143.587,-121.453 148.049,-116.059\"/>\n",
       "<text text-anchor=\"middle\" x=\"219.32\" y=\"-207.8\" font-family=\"Times,serif\" font-size=\"14.00\">1</text>\n",
       "</g>\n",
       "<!-- \\(F_S01\\)&#45;&gt;\\(F_S010\\) -->\n",
       "<g id=\"edge2\" class=\"edge\"><title>\\(F_S01\\)&#45;&gt;\\(F_S010\\)</title>\n",
       "<path fill=\"none\" stroke=\"black\" d=\"M380.767,-284.594C391.602,-286.569 403.451,-288.73 414.889,-290.816\"/>\n",
       "<polygon fill=\"black\" stroke=\"black\" points=\"414.334,-294.272 424.799,-292.623 415.589,-287.386 414.334,-294.272\"/>\n",
       "<text text-anchor=\"middle\" x=\"402.721\" y=\"-291.8\" font-family=\"Times,serif\" font-size=\"14.00\">0</text>\n",
       "</g>\n",
       "<!-- \\(F_I\\)&#45;&gt;\\(I_I\\) -->\n",
       "<g id=\"edge13\" class=\"edge\"><title>\\(F_I\\)&#45;&gt;\\(I_I\\)</title>\n",
       "<path fill=\"none\" stroke=\"black\" d=\"M835.174,-125.724C826.278,-124.349 816.549,-122.979 807.552,-122 628.756,-102.54 583.573,-96 403.721,-96 218.32,-96 218.32,-96 218.32,-96 196.931,-96 172.968,-96 153.862,-96\"/>\n",
       "<polygon fill=\"black\" stroke=\"black\" points=\"153.794,-92.5001 143.794,-96 153.794,-99.5001 153.794,-92.5001\"/>\n",
       "<text text-anchor=\"middle\" x=\"471.741\" y=\"-100.8\" font-family=\"Times,serif\" font-size=\"14.00\">1</text>\n",
       "</g>\n",
       "<!-- \\(F_S0\\) -->\n",
       "<g id=\"node9\" class=\"node\"><title>\\(F_S0\\)</title>\n",
       "<ellipse fill=\"none\" stroke=\"black\" cx=\"600.938\" cy=\"-198\" rx=\"34.836\" ry=\"34.836\"/>\n",
       "<ellipse fill=\"none\" stroke=\"black\" cx=\"600.938\" cy=\"-198\" rx=\"38.8544\" ry=\"38.8544\"/>\n",
       "<text text-anchor=\"middle\" x=\"600.938\" y=\"-193.8\" font-family=\"Times,serif\" font-size=\"14.00\">(F_S0)</text>\n",
       "</g>\n",
       "<!-- \\(F_I\\)&#45;&gt;\\(F_S0\\) -->\n",
       "<g id=\"edge18\" class=\"edge\"><title>\\(F_I\\)&#45;&gt;\\(F_S0\\)</title>\n",
       "<path fill=\"none\" stroke=\"black\" d=\"M834.89,-127.281C797.539,-124.004 733.648,-122.168 682.615,-140 666.567,-145.608 650.919,-155.493 637.741,-165.531\"/>\n",
       "<polygon fill=\"black\" stroke=\"black\" points=\"635.538,-162.811 629.874,-171.764 639.885,-168.297 635.538,-162.811\"/>\n",
       "<text text-anchor=\"middle\" x=\"732.583\" y=\"-142.8\" font-family=\"Times,serif\" font-size=\"14.00\">0</text>\n",
       "</g>\n",
       "<!-- \\(F_S0\\)&#45;&gt;\\(I_S01\\) -->\n",
       "<g id=\"edge9\" class=\"edge\"><title>\\(F_S0\\)&#45;&gt;\\(I_S01\\)</title>\n",
       "<path fill=\"none\" stroke=\"black\" d=\"M639.785,-198.584C653.995,-198.803 670.31,-199.055 685.207,-199.285\"/>\n",
       "<polygon fill=\"black\" stroke=\"black\" points=\"685.197,-202.785 695.25,-199.44 685.306,-195.786 685.197,-202.785\"/>\n",
       "<text text-anchor=\"middle\" x=\"661.115\" y=\"-201.8\" font-family=\"Times,serif\" font-size=\"14.00\">1</text>\n",
       "</g>\n",
       "<!-- \\(F_S0\\)&#45;&gt;\\(F_S0\\) -->\n",
       "<g id=\"edge20\" class=\"edge\"><title>\\(F_S0\\)&#45;&gt;\\(F_S0\\)</title>\n",
       "<path fill=\"none\" stroke=\"black\" d=\"M589.713,-235.067C590.048,-246.095 593.789,-254.677 600.938,-254.677 605.629,-254.677 608.853,-250.981 610.61,-245.324\"/>\n",
       "<polygon fill=\"black\" stroke=\"black\" points=\"614.126,-245.479 612.163,-235.067 607.205,-244.43 614.126,-245.479\"/>\n",
       "<text text-anchor=\"middle\" x=\"600.938\" y=\"-257.477\" font-family=\"Times,serif\" font-size=\"14.00\">0</text>\n",
       "</g>\n",
       "<!-- \\(I_F0101\\) -->\n",
       "<g id=\"node10\" class=\"node\"><title>\\(I_F0101\\)</title>\n",
       "<ellipse fill=\"none\" stroke=\"black\" cx=\"732.583\" cy=\"-305\" rx=\"45.9398\" ry=\"45.9398\"/>\n",
       "<ellipse fill=\"none\" stroke=\"black\" cx=\"732.583\" cy=\"-305\" rx=\"49.9373\" ry=\"49.9373\"/>\n",
       "<text text-anchor=\"middle\" x=\"732.583\" y=\"-300.8\" font-family=\"Times,serif\" font-size=\"14.00\">(I_F0101)</text>\n",
       "</g>\n",
       "<!-- \\(I_F0101\\)&#45;&gt;\\(I_S010\\) -->\n",
       "<g id=\"edge4\" class=\"edge\"><title>\\(I_F0101\\)&#45;&gt;\\(I_S010\\)</title>\n",
       "<path fill=\"none\" stroke=\"black\" d=\"M782.927,-305C793.413,-305 804.505,-305 815.053,-305\"/>\n",
       "<polygon fill=\"black\" stroke=\"black\" points=\"815.377,-308.5 825.377,-305 815.377,-301.5 815.377,-308.5\"/>\n",
       "<text text-anchor=\"middle\" x=\"804.052\" y=\"-307.8\" font-family=\"Times,serif\" font-size=\"14.00\">0</text>\n",
       "</g>\n",
       "<!-- \\(I_F0101\\)&#45;&gt;\\(F_I\\) -->\n",
       "<g id=\"edge21\" class=\"edge\"><title>\\(I_F0101\\)&#45;&gt;\\(F_I\\)</title>\n",
       "<path fill=\"none\" stroke=\"black\" d=\"M772.513,-274.733C784.603,-264.215 797.405,-251.82 807.552,-239 824.27,-217.877 838.744,-191.306 849.118,-169.806\"/>\n",
       "<polygon fill=\"black\" stroke=\"black\" points=\"852.346,-171.166 853.448,-160.629 846.015,-168.179 852.346,-171.166\"/>\n",
       "<text text-anchor=\"middle\" x=\"804.052\" y=\"-250.8\" font-family=\"Times,serif\" font-size=\"14.00\">1</text>\n",
       "</g>\n",
       "<!-- \\(F_S010\\)&#45;&gt;\\(F_S0\\) -->\n",
       "<g id=\"edge12\" class=\"edge\"><title>\\(F_S010\\)&#45;&gt;\\(F_S0\\)</title>\n",
       "<path fill=\"none\" stroke=\"black\" d=\"M509.19,-271.484C525.846,-257.998 545.559,-242.034 562.35,-228.438\"/>\n",
       "<polygon fill=\"black\" stroke=\"black\" points=\"564.763,-230.987 570.332,-221.974 560.357,-225.547 564.763,-230.987\"/>\n",
       "<text text-anchor=\"middle\" x=\"540.761\" y=\"-249.8\" font-family=\"Times,serif\" font-size=\"14.00\">0</text>\n",
       "</g>\n",
       "<!-- \\(F_S010\\)&#45;&gt;\\(I_F0101\\) -->\n",
       "<g id=\"edge19\" class=\"edge\"><title>\\(F_S010\\)&#45;&gt;\\(I_F0101\\)</title>\n",
       "<path fill=\"none\" stroke=\"black\" d=\"M519.316,-301.72C562.076,-302.381 625.652,-303.363 672.077,-304.08\"/>\n",
       "<polygon fill=\"black\" stroke=\"black\" points=\"672.247,-307.583 682.3,-304.238 672.355,-300.584 672.247,-307.583\"/>\n",
       "<text text-anchor=\"middle\" x=\"600.938\" y=\"-306.8\" font-family=\"Times,serif\" font-size=\"14.00\">1</text>\n",
       "</g>\n",
       "</g>\n",
       "</svg>\n"
      ],
      "text/plain": [
       "<graphviz.dot.Digraph at 0x111664d68>"
      ]
     },
     "execution_count": 53,
     "metadata": {},
     "output_type": "execute_result"
    }
   ],
   "source": [
    "dotObj_dfa(odd1sORends0101)"
   ]
  },
  {
   "cell_type": "markdown",
   "metadata": {
    "run_control": {
     "frozen": false,
     "read_only": false
    }
   },
   "source": [
    "## Apply DFA minimization"
   ]
  },
  {
   "cell_type": "code",
   "execution_count": 54,
   "metadata": {
    "run_control": {
     "frozen": false,
     "read_only": false
    }
   },
   "outputs": [],
   "source": [
    "Minodd1sORends0101 = min_dfa(odd1sORends0101)"
   ]
  },
  {
   "cell_type": "code",
   "execution_count": 55,
   "metadata": {
    "run_control": {
     "frozen": false,
     "read_only": false
    }
   },
   "outputs": [
    {
     "data": {
      "image/svg+xml": [
       "<?xml version=\"1.0\" encoding=\"UTF-8\" standalone=\"no\"?>\n",
       "<!DOCTYPE svg PUBLIC \"-//W3C//DTD SVG 1.1//EN\"\n",
       " \"http://www.w3.org/Graphics/SVG/1.1/DTD/svg11.dtd\">\n",
       "<!-- Generated by graphviz version 2.38.0 (20140413.2041)\n",
       " -->\n",
       "<!-- Title: %3 Pages: 1 -->\n",
       "<svg width=\"826pt\" height=\"244pt\"\n",
       " viewBox=\"0.00 0.00 825.93 244.00\" xmlns=\"http://www.w3.org/2000/svg\" xmlns:xlink=\"http://www.w3.org/1999/xlink\">\n",
       "<g id=\"graph0\" class=\"graph\" transform=\"scale(1 1) rotate(0) translate(4 240)\">\n",
       "<title>%3</title>\n",
       "<polygon fill=\"white\" stroke=\"none\" points=\"-4,4 -4,-240 821.926,-240 821.926,4 -4,4\"/>\n",
       "<!-- EMPTY -->\n",
       "<g id=\"node1\" class=\"node\"><title>EMPTY</title>\n",
       "</g>\n",
       "<!-- \\(I_I\\) -->\n",
       "<g id=\"node2\" class=\"node\"><title>\\(I_I\\)</title>\n",
       "<ellipse fill=\"none\" stroke=\"black\" cx=\"117.308\" cy=\"-73\" rx=\"26.118\" ry=\"26.118\"/>\n",
       "<text text-anchor=\"middle\" x=\"117.308\" y=\"-68.8\" font-family=\"Times,serif\" font-size=\"14.00\">(I_I)</text>\n",
       "</g>\n",
       "<!-- EMPTY&#45;&gt;\\(I_I\\) -->\n",
       "<g id=\"edge1\" class=\"edge\"><title>EMPTY&#45;&gt;\\(I_I\\)</title>\n",
       "<path fill=\"none\" stroke=\"black\" d=\"M54.0178,-73C62.3552,-73 71.7368,-73 80.64,-73\"/>\n",
       "<polygon fill=\"black\" stroke=\"black\" points=\"80.7808,-76.5001 90.7807,-73 80.7807,-69.5001 80.7808,-76.5001\"/>\n",
       "</g>\n",
       "<!-- \\(I_S010\\) -->\n",
       "<g id=\"node3\" class=\"node\"><title>\\(I_S010\\)</title>\n",
       "<ellipse fill=\"none\" stroke=\"black\" cx=\"228.164\" cy=\"-120\" rx=\"41.5938\" ry=\"41.5938\"/>\n",
       "<text text-anchor=\"middle\" x=\"228.164\" y=\"-115.8\" font-family=\"Times,serif\" font-size=\"14.00\">(I_S010)</text>\n",
       "</g>\n",
       "<!-- \\(I_I\\)&#45;&gt;\\(I_S010\\) -->\n",
       "<g id=\"edge5\" class=\"edge\"><title>\\(I_I\\)&#45;&gt;\\(I_S010\\)</title>\n",
       "<path fill=\"none\" stroke=\"black\" d=\"M141.661,-83.0827C152.921,-87.9446 166.85,-93.9587 180.173,-99.7112\"/>\n",
       "<polygon fill=\"black\" stroke=\"black\" points=\"179.153,-103.083 189.721,-103.833 181.927,-96.6562 179.153,-103.083\"/>\n",
       "<text text-anchor=\"middle\" x=\"165.117\" y=\"-96.8\" font-family=\"Times,serif\" font-size=\"14.00\">0</text>\n",
       "</g>\n",
       "<!-- \\(F_S0\\) -->\n",
       "<g id=\"node6\" class=\"node\"><title>\\(F_S0\\)</title>\n",
       "<ellipse fill=\"none\" stroke=\"black\" cx=\"779.249\" cy=\"-91\" rx=\"34.836\" ry=\"34.836\"/>\n",
       "<ellipse fill=\"none\" stroke=\"black\" cx=\"779.249\" cy=\"-91\" rx=\"38.8544\" ry=\"38.8544\"/>\n",
       "<text text-anchor=\"middle\" x=\"779.249\" y=\"-86.8\" font-family=\"Times,serif\" font-size=\"14.00\">(F_S0)</text>\n",
       "</g>\n",
       "<!-- \\(I_I\\)&#45;&gt;\\(F_S0\\) -->\n",
       "<g id=\"edge3\" class=\"edge\"><title>\\(I_I\\)&#45;&gt;\\(F_S0\\)</title>\n",
       "<path fill=\"none\" stroke=\"black\" d=\"M124.426,-98.614C136.299,-141.215 166.776,-222 227.164,-222 227.164,-222 227.164,-222 648.604,-222 698.666,-222 735.961,-173.069 757.395,-135.017\"/>\n",
       "<polygon fill=\"black\" stroke=\"black\" points=\"760.539,-136.562 762.243,-126.106 754.39,-133.217 760.539,-136.562\"/>\n",
       "<text text-anchor=\"middle\" x=\"438.094\" y=\"-224.8\" font-family=\"Times,serif\" font-size=\"14.00\">1</text>\n",
       "</g>\n",
       "<!-- \\(I_S010\\)&#45;&gt;\\(I_S010\\) -->\n",
       "<g id=\"edge8\" class=\"edge\"><title>\\(I_S010\\)&#45;&gt;\\(I_S010\\)</title>\n",
       "<path fill=\"none\" stroke=\"black\" d=\"M216.609,-160.075C217.168,-171.113 221.019,-179.547 228.164,-179.547 232.852,-179.547 236.122,-175.915 237.975,-170.298\"/>\n",
       "<polygon fill=\"black\" stroke=\"black\" points=\"241.487,-170.521 239.718,-160.075 234.586,-169.345 241.487,-170.521\"/>\n",
       "<text text-anchor=\"middle\" x=\"228.164\" y=\"-182.347\" font-family=\"Times,serif\" font-size=\"14.00\">0</text>\n",
       "</g>\n",
       "<!-- \\(F_F0101\\) -->\n",
       "<g id=\"node5\" class=\"node\"><title>\\(F_F0101\\)</title>\n",
       "<ellipse fill=\"none\" stroke=\"black\" cx=\"364.652\" cy=\"-80\" rx=\"47.8885\" ry=\"47.8885\"/>\n",
       "<ellipse fill=\"none\" stroke=\"black\" cx=\"364.652\" cy=\"-80\" rx=\"51.8841\" ry=\"51.8841\"/>\n",
       "<text text-anchor=\"middle\" x=\"364.652\" y=\"-75.8\" font-family=\"Times,serif\" font-size=\"14.00\">(F_F0101)</text>\n",
       "</g>\n",
       "<!-- \\(I_S010\\)&#45;&gt;\\(F_F0101\\) -->\n",
       "<g id=\"edge6\" class=\"edge\"><title>\\(I_S010\\)&#45;&gt;\\(F_F0101\\)</title>\n",
       "<path fill=\"none\" stroke=\"black\" d=\"M268.425,-108.323C279.804,-104.938 292.484,-101.167 304.784,-97.5087\"/>\n",
       "<polygon fill=\"black\" stroke=\"black\" points=\"305.948,-100.814 314.535,-94.6085 303.953,-94.1046 305.948,-100.814\"/>\n",
       "<text text-anchor=\"middle\" x=\"291.21\" y=\"-105.8\" font-family=\"Times,serif\" font-size=\"14.00\">1</text>\n",
       "</g>\n",
       "<!-- \\(I_F0101\\) -->\n",
       "<g id=\"node4\" class=\"node\"><title>\\(I_F0101\\)</title>\n",
       "<ellipse fill=\"none\" stroke=\"black\" cx=\"647.604\" cy=\"-144\" rx=\"45.9398\" ry=\"45.9398\"/>\n",
       "<ellipse fill=\"none\" stroke=\"black\" cx=\"647.604\" cy=\"-144\" rx=\"49.9373\" ry=\"49.9373\"/>\n",
       "<text text-anchor=\"middle\" x=\"647.604\" y=\"-139.8\" font-family=\"Times,serif\" font-size=\"14.00\">(I_F0101)</text>\n",
       "</g>\n",
       "<!-- \\(I_F0101\\)&#45;&gt;\\(I_S010\\) -->\n",
       "<g id=\"edge4\" class=\"edge\"><title>\\(I_F0101\\)&#45;&gt;\\(I_S010\\)</title>\n",
       "<path fill=\"none\" stroke=\"black\" d=\"M597.696,-147.167C532.414,-150.572 413.333,-153.912 312.71,-141 301.352,-139.542 289.314,-137.078 278.019,-134.34\"/>\n",
       "<polygon fill=\"black\" stroke=\"black\" points=\"278.873,-130.946 268.32,-131.881 277.153,-137.731 278.873,-130.946\"/>\n",
       "<text text-anchor=\"middle\" x=\"438.094\" y=\"-151.8\" font-family=\"Times,serif\" font-size=\"14.00\">0</text>\n",
       "</g>\n",
       "<!-- \\(I_F0101\\)&#45;&gt;\\(F_S0\\) -->\n",
       "<g id=\"edge13\" class=\"edge\"><title>\\(I_F0101\\)&#45;&gt;\\(F_S0\\)</title>\n",
       "<path fill=\"none\" stroke=\"black\" d=\"M694.312,-125.314C707.092,-120.089 720.962,-114.42 733.676,-109.222\"/>\n",
       "<polygon fill=\"black\" stroke=\"black\" points=\"735.204,-112.378 743.136,-105.355 732.555,-105.899 735.204,-112.378\"/>\n",
       "<text text-anchor=\"middle\" x=\"719.072\" y=\"-118.8\" font-family=\"Times,serif\" font-size=\"14.00\">1</text>\n",
       "</g>\n",
       "<!-- \\(F_F0101\\)&#45;&gt;\\(I_I\\) -->\n",
       "<g id=\"edge10\" class=\"edge\"><title>\\(F_F0101\\)&#45;&gt;\\(I_I\\)</title>\n",
       "<path fill=\"none\" stroke=\"black\" d=\"M314.893,-64.4507C300.496,-60.563 284.604,-56.9479 269.71,-55 233.092,-50.2108 223.241,-50.2555 186.617,-55 175.372,-56.4567 163.34,-59.2088 152.556,-62.1308\"/>\n",
       "<polygon fill=\"black\" stroke=\"black\" points=\"151.325,-58.8423 142.666,-64.9476 153.242,-65.5746 151.325,-58.8423\"/>\n",
       "<text text-anchor=\"middle\" x=\"228.164\" y=\"-57.8\" font-family=\"Times,serif\" font-size=\"14.00\">1</text>\n",
       "</g>\n",
       "<!-- \\(F_S010\\) -->\n",
       "<g id=\"node7\" class=\"node\"><title>\\(F_S010\\)</title>\n",
       "<ellipse fill=\"none\" stroke=\"black\" cx=\"507.115\" cy=\"-80\" rx=\"43.5388\" ry=\"43.5388\"/>\n",
       "<ellipse fill=\"none\" stroke=\"black\" cx=\"507.115\" cy=\"-80\" rx=\"47.5405\" ry=\"47.5405\"/>\n",
       "<text text-anchor=\"middle\" x=\"507.115\" y=\"-75.8\" font-family=\"Times,serif\" font-size=\"14.00\">(F_S010)</text>\n",
       "</g>\n",
       "<!-- \\(F_F0101\\)&#45;&gt;\\(F_S010\\) -->\n",
       "<g id=\"edge2\" class=\"edge\"><title>\\(F_F0101\\)&#45;&gt;\\(F_S010\\)</title>\n",
       "<path fill=\"none\" stroke=\"black\" d=\"M416.76,-80C427.341,-80 438.549,-80 449.319,-80\"/>\n",
       "<polygon fill=\"black\" stroke=\"black\" points=\"449.475,-83.5001 459.475,-80 449.475,-76.5001 449.475,-83.5001\"/>\n",
       "<text text-anchor=\"middle\" x=\"438.094\" y=\"-82.8\" font-family=\"Times,serif\" font-size=\"14.00\">0</text>\n",
       "</g>\n",
       "<!-- \\(F_S0\\)&#45;&gt;\\(I_I\\) -->\n",
       "<g id=\"edge7\" class=\"edge\"><title>\\(F_S0\\)&#45;&gt;\\(I_I\\)</title>\n",
       "<path fill=\"none\" stroke=\"black\" d=\"M754.675,-60.951C731.005,-34.4447 691.915,-0 648.604,-0 227.164,-0 227.164,-0 227.164,-0 193.117,-0 161.683,-24.9374 141.438,-45.6618\"/>\n",
       "<polygon fill=\"black\" stroke=\"black\" points=\"138.793,-43.3656 134.502,-53.0524 143.898,-48.156 138.793,-43.3656\"/>\n",
       "<text text-anchor=\"middle\" x=\"438.094\" y=\"-2.8\" font-family=\"Times,serif\" font-size=\"14.00\">1</text>\n",
       "</g>\n",
       "<!-- \\(F_S0\\)&#45;&gt;\\(F_S0\\) -->\n",
       "<g id=\"edge11\" class=\"edge\"><title>\\(F_S0\\)&#45;&gt;\\(F_S0\\)</title>\n",
       "<path fill=\"none\" stroke=\"black\" d=\"M768.024,-128.067C768.359,-139.095 772.101,-147.677 779.249,-147.677 783.94,-147.677 787.164,-143.981 788.921,-138.324\"/>\n",
       "<polygon fill=\"black\" stroke=\"black\" points=\"792.437,-138.479 790.474,-128.067 785.516,-137.43 792.437,-138.479\"/>\n",
       "<text text-anchor=\"middle\" x=\"779.249\" y=\"-150.477\" font-family=\"Times,serif\" font-size=\"14.00\">0</text>\n",
       "</g>\n",
       "<!-- \\(F_S010\\)&#45;&gt;\\(I_F0101\\) -->\n",
       "<g id=\"edge12\" class=\"edge\"><title>\\(F_S010\\)&#45;&gt;\\(I_F0101\\)</title>\n",
       "<path fill=\"none\" stroke=\"black\" d=\"M550.796,-99.7243C563.969,-105.812 578.654,-112.598 592.491,-118.993\"/>\n",
       "<polygon fill=\"black\" stroke=\"black\" points=\"591.36,-122.326 601.906,-123.344 594.297,-115.972 591.36,-122.326\"/>\n",
       "<text text-anchor=\"middle\" x=\"576.135\" y=\"-114.8\" font-family=\"Times,serif\" font-size=\"14.00\">1</text>\n",
       "</g>\n",
       "<!-- \\(F_S010\\)&#45;&gt;\\(F_S0\\) -->\n",
       "<g id=\"edge9\" class=\"edge\"><title>\\(F_S010\\)&#45;&gt;\\(F_S0\\)</title>\n",
       "<path fill=\"none\" stroke=\"black\" d=\"M554.216,-73.4808C592.679,-69.0777 648.87,-65.0533 697.572,-71 708.868,-72.3793 720.86,-74.8066 732.048,-77.5054\"/>\n",
       "<polygon fill=\"black\" stroke=\"black\" points=\"731.5,-80.977 742.053,-80.038 733.217,-74.191 731.5,-80.977\"/>\n",
       "<text text-anchor=\"middle\" x=\"647.604\" y=\"-73.8\" font-family=\"Times,serif\" font-size=\"14.00\">0</text>\n",
       "</g>\n",
       "</g>\n",
       "</svg>\n"
      ],
      "text/plain": [
       "<graphviz.dot.Digraph at 0x111664e80>"
      ]
     },
     "execution_count": 55,
     "metadata": {},
     "output_type": "execute_result"
    }
   ],
   "source": [
    "dotObj_dfa(Minodd1sORends0101)"
   ]
  },
  {
   "cell_type": "markdown",
   "metadata": {
    "run_control": {
     "frozen": false,
     "read_only": false
    }
   },
   "source": [
    "## Minimization vs. Isomorphism vs. Lang. Eql.\n",
    "\n",
    "After minimization, we may not have isomorphic DFA, but we \n",
    "will have language-equivalent DFA"
   ]
  },
  {
   "cell_type": "code",
   "execution_count": 56,
   "metadata": {
    "run_control": {
     "frozen": false,
     "read_only": false
    }
   },
   "outputs": [
    {
     "data": {
      "text/plain": [
       "False"
      ]
     },
     "execution_count": 56,
     "metadata": {},
     "output_type": "execute_result"
    }
   ],
   "source": [
    "iso_dfa(odd1sORends0101, Minodd1sORends0101)"
   ]
  },
  {
   "cell_type": "code",
   "execution_count": 57,
   "metadata": {
    "run_control": {
     "frozen": false,
     "read_only": false
    }
   },
   "outputs": [
    {
     "data": {
      "text/plain": [
       "True"
      ]
     },
     "execution_count": 57,
     "metadata": {},
     "output_type": "execute_result"
    }
   ],
   "source": [
    "langeq_dfa(odd1sORends0101, Minodd1sORends0101)"
   ]
  },
  {
   "cell_type": "markdown",
   "metadata": {
    "run_control": {
     "frozen": false,
     "read_only": false
    }
   },
   "source": [
    "## Now define \"odd 1s\" AND \"ends in 0101\"\n",
    "\n",
    "Define the and of these machines and minimize it"
   ]
  },
  {
   "cell_type": "code",
   "execution_count": 58,
   "metadata": {
    "run_control": {
     "frozen": false,
     "read_only": false
    }
   },
   "outputs": [],
   "source": [
    "odd1sANDends0101 = intersect_dfa(dfaOdd1s,ends0101)"
   ]
  },
  {
   "cell_type": "code",
   "execution_count": 59,
   "metadata": {
    "run_control": {
     "frozen": false,
     "read_only": false
    }
   },
   "outputs": [
    {
     "data": {
      "image/svg+xml": [
       "<?xml version=\"1.0\" encoding=\"UTF-8\" standalone=\"no\"?>\n",
       "<!DOCTYPE svg PUBLIC \"-//W3C//DTD SVG 1.1//EN\"\n",
       " \"http://www.w3.org/Graphics/SVG/1.1/DTD/svg11.dtd\">\n",
       "<!-- Generated by graphviz version 2.38.0 (20140413.2041)\n",
       " -->\n",
       "<!-- Title: %3 Pages: 1 -->\n",
       "<svg width=\"1032pt\" height=\"438pt\"\n",
       " viewBox=\"0.00 0.00 1031.53 438.00\" xmlns=\"http://www.w3.org/2000/svg\" xmlns:xlink=\"http://www.w3.org/1999/xlink\">\n",
       "<g id=\"graph0\" class=\"graph\" transform=\"scale(1 1) rotate(0) translate(4 434)\">\n",
       "<title>%3</title>\n",
       "<polygon fill=\"white\" stroke=\"none\" points=\"-4,4 -4,-434 1027.53,-434 1027.53,4 -4,4\"/>\n",
       "<!-- EMPTY -->\n",
       "<g id=\"node1\" class=\"node\"><title>EMPTY</title>\n",
       "</g>\n",
       "<!-- \\(I_I\\) -->\n",
       "<g id=\"node2\" class=\"node\"><title>\\(I_I\\)</title>\n",
       "<ellipse fill=\"none\" stroke=\"black\" cx=\"117.308\" cy=\"-260\" rx=\"26.118\" ry=\"26.118\"/>\n",
       "<text text-anchor=\"middle\" x=\"117.308\" y=\"-255.8\" font-family=\"Times,serif\" font-size=\"14.00\">(I_I)</text>\n",
       "</g>\n",
       "<!-- EMPTY&#45;&gt;\\(I_I\\) -->\n",
       "<g id=\"edge1\" class=\"edge\"><title>EMPTY&#45;&gt;\\(I_I\\)</title>\n",
       "<path fill=\"none\" stroke=\"black\" d=\"M54.0178,-260C62.3552,-260 71.7368,-260 80.64,-260\"/>\n",
       "<polygon fill=\"black\" stroke=\"black\" points=\"80.7808,-263.5 90.7807,-260 80.7807,-256.5 80.7808,-263.5\"/>\n",
       "</g>\n",
       "<!-- \\(I_S0\\) -->\n",
       "<g id=\"node6\" class=\"node\"><title>\\(I_S0\\)</title>\n",
       "<ellipse fill=\"none\" stroke=\"black\" cx=\"219.32\" cy=\"-159\" rx=\"32.9081\" ry=\"32.9081\"/>\n",
       "<text text-anchor=\"middle\" x=\"219.32\" y=\"-154.8\" font-family=\"Times,serif\" font-size=\"14.00\">(I_S0)</text>\n",
       "</g>\n",
       "<!-- \\(I_I\\)&#45;&gt;\\(I_S0\\) -->\n",
       "<g id=\"edge5\" class=\"edge\"><title>\\(I_I\\)&#45;&gt;\\(I_S0\\)</title>\n",
       "<path fill=\"none\" stroke=\"black\" d=\"M136.652,-241.475C151.029,-226.956 171.338,-206.446 188.107,-189.512\"/>\n",
       "<polygon fill=\"black\" stroke=\"black\" points=\"190.979,-191.586 195.528,-182.017 186.005,-186.66 190.979,-191.586\"/>\n",
       "<text text-anchor=\"middle\" x=\"165.117\" y=\"-218.8\" font-family=\"Times,serif\" font-size=\"14.00\">0</text>\n",
       "</g>\n",
       "<!-- \\(F_I\\) -->\n",
       "<g id=\"node7\" class=\"node\"><title>\\(F_I\\)</title>\n",
       "<ellipse fill=\"none\" stroke=\"black\" cx=\"835.099\" cy=\"-286\" rx=\"28.0651\" ry=\"28.0651\"/>\n",
       "<text text-anchor=\"middle\" x=\"835.099\" y=\"-281.8\" font-family=\"Times,serif\" font-size=\"14.00\">(F_I)</text>\n",
       "</g>\n",
       "<!-- \\(I_I\\)&#45;&gt;\\(F_I\\) -->\n",
       "<g id=\"edge3\" class=\"edge\"><title>\\(I_I\\)&#45;&gt;\\(F_I\\)</title>\n",
       "<path fill=\"none\" stroke=\"black\" d=\"M134.433,-280.034C152.526,-300.093 183.886,-328 218.32,-328 218.32,-328 218.32,-328 705.583,-328 739.094,-328 775.196,-314.939 800.578,-303.383\"/>\n",
       "<polygon fill=\"black\" stroke=\"black\" points=\"802.2,-306.488 809.753,-299.059 799.215,-300.156 802.2,-306.488\"/>\n",
       "<text text-anchor=\"middle\" x=\"459.741\" y=\"-330.8\" font-family=\"Times,serif\" font-size=\"14.00\">1</text>\n",
       "</g>\n",
       "<!-- \\(F_S0\\) -->\n",
       "<g id=\"node3\" class=\"node\"><title>\\(F_S0\\)</title>\n",
       "<ellipse fill=\"none\" stroke=\"black\" cx=\"580.938\" cy=\"-228\" rx=\"34.8545\" ry=\"34.8545\"/>\n",
       "<text text-anchor=\"middle\" x=\"580.938\" y=\"-223.8\" font-family=\"Times,serif\" font-size=\"14.00\">(F_S0)</text>\n",
       "</g>\n",
       "<!-- \\(F_S0\\)&#45;&gt;\\(F_S0\\) -->\n",
       "<g id=\"edge20\" class=\"edge\"><title>\\(F_S0\\)&#45;&gt;\\(F_S0\\)</title>\n",
       "<path fill=\"none\" stroke=\"black\" d=\"M570.439,-261.18C570.493,-272.034 573.993,-280.677 580.938,-280.677 585.496,-280.677 588.57,-276.955 590.16,-271.328\"/>\n",
       "<polygon fill=\"black\" stroke=\"black\" points=\"593.661,-271.539 591.437,-261.18 586.716,-270.664 593.661,-271.539\"/>\n",
       "<text text-anchor=\"middle\" x=\"580.938\" y=\"-283.477\" font-family=\"Times,serif\" font-size=\"14.00\">0</text>\n",
       "</g>\n",
       "<!-- \\(I_S01\\) -->\n",
       "<g id=\"node4\" class=\"node\"><title>\\(I_S01\\)</title>\n",
       "<ellipse fill=\"none\" stroke=\"black\" cx=\"704.583\" cy=\"-213\" rx=\"37.2507\" ry=\"37.2507\"/>\n",
       "<text text-anchor=\"middle\" x=\"704.583\" y=\"-208.8\" font-family=\"Times,serif\" font-size=\"14.00\">(I_S01)</text>\n",
       "</g>\n",
       "<!-- \\(F_S0\\)&#45;&gt;\\(I_S01\\) -->\n",
       "<g id=\"edge9\" class=\"edge\"><title>\\(F_S0\\)&#45;&gt;\\(I_S01\\)</title>\n",
       "<path fill=\"none\" stroke=\"black\" d=\"M615.5,-223.861C628.516,-222.257 643.631,-220.393 657.628,-218.667\"/>\n",
       "<polygon fill=\"black\" stroke=\"black\" points=\"658.079,-222.138 667.576,-217.44 657.222,-215.19 658.079,-222.138\"/>\n",
       "<text text-anchor=\"middle\" x=\"637.115\" y=\"-224.8\" font-family=\"Times,serif\" font-size=\"14.00\">1</text>\n",
       "</g>\n",
       "<!-- \\(I_S01\\)&#45;&gt;\\(F_I\\) -->\n",
       "<g id=\"edge16\" class=\"edge\"><title>\\(I_S01\\)&#45;&gt;\\(F_I\\)</title>\n",
       "<path fill=\"none\" stroke=\"black\" d=\"M737.351,-231.045C756.73,-242.053 781.459,-256.099 801.064,-267.236\"/>\n",
       "<polygon fill=\"black\" stroke=\"black\" points=\"799.528,-270.388 809.952,-272.284 802.986,-264.302 799.528,-270.388\"/>\n",
       "<text text-anchor=\"middle\" x=\"772.052\" y=\"-254.8\" font-family=\"Times,serif\" font-size=\"14.00\">1</text>\n",
       "</g>\n",
       "<!-- \\(I_S010\\) -->\n",
       "<g id=\"node9\" class=\"node\"><title>\\(I_S010\\)</title>\n",
       "<ellipse fill=\"none\" stroke=\"black\" cx=\"835.099\" cy=\"-112\" rx=\"41.5938\" ry=\"41.5938\"/>\n",
       "<text text-anchor=\"middle\" x=\"835.099\" y=\"-107.8\" font-family=\"Times,serif\" font-size=\"14.00\">(I_S010)</text>\n",
       "</g>\n",
       "<!-- \\(I_S01\\)&#45;&gt;\\(I_S010\\) -->\n",
       "<g id=\"edge8\" class=\"edge\"><title>\\(I_S01\\)&#45;&gt;\\(I_S010\\)</title>\n",
       "<path fill=\"none\" stroke=\"black\" d=\"M738.573,-197.286C750.713,-190.828 764.247,-182.797 775.552,-174 784.319,-167.178 792.976,-159.029 800.834,-150.917\"/>\n",
       "<polygon fill=\"black\" stroke=\"black\" points=\"803.497,-153.195 807.807,-143.517 798.402,-148.395 803.497,-153.195\"/>\n",
       "<text text-anchor=\"middle\" x=\"772.052\" y=\"-182.8\" font-family=\"Times,serif\" font-size=\"14.00\">0</text>\n",
       "</g>\n",
       "<!-- \\(F_S01\\) -->\n",
       "<g id=\"node5\" class=\"node\"><title>\\(F_S01\\)</title>\n",
       "<ellipse fill=\"none\" stroke=\"black\" cx=\"334.122\" cy=\"-228\" rx=\"39.1973\" ry=\"39.1973\"/>\n",
       "<text text-anchor=\"middle\" x=\"334.122\" y=\"-223.8\" font-family=\"Times,serif\" font-size=\"14.00\">(F_S01)</text>\n",
       "</g>\n",
       "<!-- \\(F_S01\\)&#45;&gt;\\(I_I\\) -->\n",
       "<g id=\"edge14\" class=\"edge\"><title>\\(F_S01\\)&#45;&gt;\\(I_I\\)</title>\n",
       "<path fill=\"none\" stroke=\"black\" d=\"M295.233,-233.644C255.25,-239.6 192.733,-248.913 153.715,-254.726\"/>\n",
       "<polygon fill=\"black\" stroke=\"black\" points=\"152.746,-251.331 143.371,-256.267 153.777,-258.255 152.746,-251.331\"/>\n",
       "<text text-anchor=\"middle\" x=\"219.32\" y=\"-252.8\" font-family=\"Times,serif\" font-size=\"14.00\">1</text>\n",
       "</g>\n",
       "<!-- \\(F_S010\\) -->\n",
       "<g id=\"node10\" class=\"node\"><title>\\(F_S010\\)</title>\n",
       "<ellipse fill=\"none\" stroke=\"black\" cx=\"459.741\" cy=\"-228\" rx=\"43.5405\" ry=\"43.5405\"/>\n",
       "<text text-anchor=\"middle\" x=\"459.741\" y=\"-223.8\" font-family=\"Times,serif\" font-size=\"14.00\">(F_S010)</text>\n",
       "</g>\n",
       "<!-- \\(F_S01\\)&#45;&gt;\\(F_S010\\) -->\n",
       "<g id=\"edge2\" class=\"edge\"><title>\\(F_S01\\)&#45;&gt;\\(F_S010\\)</title>\n",
       "<path fill=\"none\" stroke=\"black\" d=\"M373.558,-228C383.763,-228 394.965,-228 405.796,-228\"/>\n",
       "<polygon fill=\"black\" stroke=\"black\" points=\"406.022,-231.5 416.022,-228 406.022,-224.5 406.022,-231.5\"/>\n",
       "<text text-anchor=\"middle\" x=\"394.721\" y=\"-230.8\" font-family=\"Times,serif\" font-size=\"14.00\">0</text>\n",
       "</g>\n",
       "<!-- \\(I_S0\\)&#45;&gt;\\(F_S01\\) -->\n",
       "<g id=\"edge7\" class=\"edge\"><title>\\(I_S0\\)&#45;&gt;\\(F_S01\\)</title>\n",
       "<path fill=\"none\" stroke=\"black\" d=\"M247.626,-175.703C260.801,-183.762 276.893,-193.605 291.548,-202.569\"/>\n",
       "<polygon fill=\"black\" stroke=\"black\" points=\"290.091,-205.781 300.448,-208.013 293.743,-199.81 290.091,-205.781\"/>\n",
       "<text text-anchor=\"middle\" x=\"273.524\" y=\"-196.8\" font-family=\"Times,serif\" font-size=\"14.00\">1</text>\n",
       "</g>\n",
       "<!-- \\(I_S0\\)&#45;&gt;\\(I_S0\\) -->\n",
       "<g id=\"edge10\" class=\"edge\"><title>\\(I_S0\\)&#45;&gt;\\(I_S0\\)</title>\n",
       "<path fill=\"none\" stroke=\"black\" d=\"M209.198,-190.193C209.09,-200.987 212.465,-209.703 219.32,-209.703 223.819,-209.703 226.819,-205.949 228.319,-200.318\"/>\n",
       "<polygon fill=\"black\" stroke=\"black\" points=\"231.818,-200.518 229.443,-190.193 224.861,-199.746 231.818,-200.518\"/>\n",
       "<text text-anchor=\"middle\" x=\"219.32\" y=\"-212.503\" font-family=\"Times,serif\" font-size=\"14.00\">0</text>\n",
       "</g>\n",
       "<!-- \\(F_I\\)&#45;&gt;\\(I_I\\) -->\n",
       "<g id=\"edge13\" class=\"edge\"><title>\\(F_I\\)&#45;&gt;\\(I_I\\)</title>\n",
       "<path fill=\"none\" stroke=\"black\" d=\"M822.876,-311.684C804.377,-349.57 763.661,-416 705.583,-416 218.32,-416 218.32,-416 218.32,-416 161.642,-416 135.609,-342.118 124.884,-296.044\"/>\n",
       "<polygon fill=\"black\" stroke=\"black\" points=\"128.267,-295.13 122.707,-286.111 121.429,-296.628 128.267,-295.13\"/>\n",
       "<text text-anchor=\"middle\" x=\"459.741\" y=\"-418.8\" font-family=\"Times,serif\" font-size=\"14.00\">1</text>\n",
       "</g>\n",
       "<!-- \\(F_I\\)&#45;&gt;\\(F_S0\\) -->\n",
       "<g id=\"edge18\" class=\"edge\"><title>\\(F_I\\)&#45;&gt;\\(F_S0\\)</title>\n",
       "<path fill=\"none\" stroke=\"black\" d=\"M806.632,-283.757C771.737,-280.459 709.883,-273.102 658.615,-259 646.501,-255.668 633.71,-250.992 622.12,-246.28\"/>\n",
       "<polygon fill=\"black\" stroke=\"black\" points=\"623.285,-242.973 612.709,-242.342 620.583,-249.431 623.285,-242.973\"/>\n",
       "<text text-anchor=\"middle\" x=\"704.583\" y=\"-280.8\" font-family=\"Times,serif\" font-size=\"14.00\">0</text>\n",
       "</g>\n",
       "<!-- \\(I_F0101\\) -->\n",
       "<g id=\"node8\" class=\"node\"><title>\\(I_F0101\\)</title>\n",
       "<ellipse fill=\"none\" stroke=\"black\" cx=\"704.583\" cy=\"-112\" rx=\"45.9373\" ry=\"45.9373\"/>\n",
       "<text text-anchor=\"middle\" x=\"704.583\" y=\"-107.8\" font-family=\"Times,serif\" font-size=\"14.00\">(I_F0101)</text>\n",
       "</g>\n",
       "<!-- \\(I_F0101\\)&#45;&gt;\\(F_I\\) -->\n",
       "<g id=\"edge21\" class=\"edge\"><title>\\(I_F0101\\)&#45;&gt;\\(F_I\\)</title>\n",
       "<path fill=\"none\" stroke=\"black\" d=\"M746.085,-131.898C756.648,-138.486 767.355,-146.584 775.552,-156 799.074,-183.02 814.712,-221.038 823.863,-248.983\"/>\n",
       "<polygon fill=\"black\" stroke=\"black\" points=\"820.606,-250.293 826.943,-258.784 827.284,-248.195 820.606,-250.293\"/>\n",
       "<text text-anchor=\"middle\" x=\"772.052\" y=\"-158.8\" font-family=\"Times,serif\" font-size=\"14.00\">1</text>\n",
       "</g>\n",
       "<!-- \\(I_F0101\\)&#45;&gt;\\(I_S010\\) -->\n",
       "<g id=\"edge4\" class=\"edge\"><title>\\(I_F0101\\)&#45;&gt;\\(I_S010\\)</title>\n",
       "<path fill=\"none\" stroke=\"black\" d=\"M750.893,-112C761.408,-112 772.666,-112 783.396,-112\"/>\n",
       "<polygon fill=\"black\" stroke=\"black\" points=\"783.48,-115.5 793.48,-112 783.48,-108.5 783.48,-115.5\"/>\n",
       "<text text-anchor=\"middle\" x=\"772.052\" y=\"-114.8\" font-family=\"Times,serif\" font-size=\"14.00\">0</text>\n",
       "</g>\n",
       "<!-- \\(I_S010\\)&#45;&gt;\\(I_S0\\) -->\n",
       "<g id=\"edge11\" class=\"edge\"><title>\\(I_S010\\)&#45;&gt;\\(I_S0\\)</title>\n",
       "<path fill=\"none\" stroke=\"black\" d=\"M804.876,-83.3897C780.437,-62.5661 743.559,-38 705.583,-38 333.122,-38 333.122,-38 333.122,-38 287.645,-38 255.269,-84.2956 237.186,-119.614\"/>\n",
       "<polygon fill=\"black\" stroke=\"black\" points=\"233.952,-118.26 232.682,-128.779 240.234,-121.348 233.952,-118.26\"/>\n",
       "<text text-anchor=\"middle\" x=\"524.761\" y=\"-40.8\" font-family=\"Times,serif\" font-size=\"14.00\">0</text>\n",
       "</g>\n",
       "<!-- \\(F_F0101\\) -->\n",
       "<g id=\"node11\" class=\"node\"><title>\\(F_F0101\\)</title>\n",
       "<ellipse fill=\"none\" stroke=\"black\" cx=\"971.588\" cy=\"-112\" rx=\"47.8885\" ry=\"47.8885\"/>\n",
       "<ellipse fill=\"none\" stroke=\"black\" cx=\"971.588\" cy=\"-112\" rx=\"51.8841\" ry=\"51.8841\"/>\n",
       "<text text-anchor=\"middle\" x=\"971.588\" y=\"-107.8\" font-family=\"Times,serif\" font-size=\"14.00\">(F_F0101)</text>\n",
       "</g>\n",
       "<!-- \\(I_S010\\)&#45;&gt;\\(F_F0101\\) -->\n",
       "<g id=\"edge15\" class=\"edge\"><title>\\(I_S010\\)&#45;&gt;\\(F_F0101\\)</title>\n",
       "<path fill=\"none\" stroke=\"black\" d=\"M876.815,-112C887.114,-112 898.402,-112 909.468,-112\"/>\n",
       "<polygon fill=\"black\" stroke=\"black\" points=\"909.532,-115.5 919.532,-112 909.532,-108.5 909.532,-115.5\"/>\n",
       "<text text-anchor=\"middle\" x=\"898.146\" y=\"-114.8\" font-family=\"Times,serif\" font-size=\"14.00\">1</text>\n",
       "</g>\n",
       "<!-- \\(F_S010\\)&#45;&gt;\\(F_S0\\) -->\n",
       "<g id=\"edge12\" class=\"edge\"><title>\\(F_S010\\)&#45;&gt;\\(F_S0\\)</title>\n",
       "<path fill=\"none\" stroke=\"black\" d=\"M503.437,-228C513.958,-228 525.246,-228 535.832,-228\"/>\n",
       "<polygon fill=\"black\" stroke=\"black\" points=\"536.131,-231.5 546.131,-228 536.131,-224.5 536.131,-231.5\"/>\n",
       "<text text-anchor=\"middle\" x=\"524.761\" y=\"-230.8\" font-family=\"Times,serif\" font-size=\"14.00\">0</text>\n",
       "</g>\n",
       "<!-- \\(F_S010\\)&#45;&gt;\\(I_F0101\\) -->\n",
       "<g id=\"edge19\" class=\"edge\"><title>\\(F_S010\\)&#45;&gt;\\(I_F0101\\)</title>\n",
       "<path fill=\"none\" stroke=\"black\" d=\"M494.922,-202.014C510.118,-191.212 528.549,-179.1 546.261,-170 579.672,-152.836 619.371,-138.239 650.531,-127.982\"/>\n",
       "<polygon fill=\"black\" stroke=\"black\" points=\"651.895,-131.219 660.329,-124.807 649.737,-124.56 651.895,-131.219\"/>\n",
       "<text text-anchor=\"middle\" x=\"580.938\" y=\"-172.8\" font-family=\"Times,serif\" font-size=\"14.00\">1</text>\n",
       "</g>\n",
       "<!-- \\(F_F0101\\)&#45;&gt;\\(I_I\\) -->\n",
       "<g id=\"edge17\" class=\"edge\"><title>\\(F_F0101\\)&#45;&gt;\\(I_I\\)</title>\n",
       "<path fill=\"none\" stroke=\"black\" d=\"M942.743,-68.6979C918.736,-37.1811 880.917,-0 836.099,-0 218.32,-0 218.32,-0 218.32,-0 170.841,-0 137.361,-152.942 124.335,-224.223\"/>\n",
       "<polygon fill=\"black\" stroke=\"black\" points=\"120.881,-223.659 122.563,-234.12 127.771,-224.893 120.881,-223.659\"/>\n",
       "<text text-anchor=\"middle\" x=\"524.761\" y=\"-2.8\" font-family=\"Times,serif\" font-size=\"14.00\">1</text>\n",
       "</g>\n",
       "<!-- \\(F_F0101\\)&#45;&gt;\\(F_S010\\) -->\n",
       "<g id=\"edge6\" class=\"edge\"><title>\\(F_F0101\\)&#45;&gt;\\(F_S010\\)</title>\n",
       "<path fill=\"none\" stroke=\"black\" d=\"M966.842,-163.763C958.185,-240.118 929.665,-374 836.099,-374 579.938,-374 579.938,-374 579.938,-374 553.764,-374 513.754,-316.984 487.423,-274.213\"/>\n",
       "<polygon fill=\"black\" stroke=\"black\" points=\"490.371,-272.324 482.184,-265.599 484.39,-275.961 490.371,-272.324\"/>\n",
       "<text text-anchor=\"middle\" x=\"704.583\" y=\"-376.8\" font-family=\"Times,serif\" font-size=\"14.00\">0</text>\n",
       "</g>\n",
       "</g>\n",
       "</svg>\n"
      ],
      "text/plain": [
       "<graphviz.dot.Digraph at 0x111664898>"
      ]
     },
     "execution_count": 59,
     "metadata": {},
     "output_type": "execute_result"
    }
   ],
   "source": [
    "dotObj_dfa(odd1sANDends0101)"
   ]
  },
  {
   "cell_type": "code",
   "execution_count": 60,
   "metadata": {
    "run_control": {
     "frozen": false,
     "read_only": false
    }
   },
   "outputs": [],
   "source": [
    "Minodd1sANDends0101 = min_dfa(odd1sANDends0101)"
   ]
  },
  {
   "cell_type": "code",
   "execution_count": 61,
   "metadata": {
    "run_control": {
     "frozen": false,
     "read_only": false
    }
   },
   "outputs": [
    {
     "data": {
      "image/svg+xml": [
       "<?xml version=\"1.0\" encoding=\"UTF-8\" standalone=\"no\"?>\n",
       "<!DOCTYPE svg PUBLIC \"-//W3C//DTD SVG 1.1//EN\"\n",
       " \"http://www.w3.org/Graphics/SVG/1.1/DTD/svg11.dtd\">\n",
       "<!-- Generated by graphviz version 2.38.0 (20140413.2041)\n",
       " -->\n",
       "<!-- Title: %3 Pages: 1 -->\n",
       "<svg width=\"793pt\" height=\"258pt\"\n",
       " viewBox=\"0.00 0.00 793.08 257.68\" xmlns=\"http://www.w3.org/2000/svg\" xmlns:xlink=\"http://www.w3.org/1999/xlink\">\n",
       "<g id=\"graph0\" class=\"graph\" transform=\"scale(1 1) rotate(0) translate(4 253.677)\">\n",
       "<title>%3</title>\n",
       "<polygon fill=\"white\" stroke=\"none\" points=\"-4,4 -4,-253.677 789.082,-253.677 789.082,4 -4,4\"/>\n",
       "<!-- EMPTY -->\n",
       "<g id=\"node1\" class=\"node\"><title>EMPTY</title>\n",
       "</g>\n",
       "<!-- \\(I_I\\) -->\n",
       "<g id=\"node3\" class=\"node\"><title>\\(I_I\\)</title>\n",
       "<ellipse fill=\"none\" stroke=\"black\" cx=\"117.308\" cy=\"-62\" rx=\"26.118\" ry=\"26.118\"/>\n",
       "<text text-anchor=\"middle\" x=\"117.308\" y=\"-57.8\" font-family=\"Times,serif\" font-size=\"14.00\">(I_I)</text>\n",
       "</g>\n",
       "<!-- EMPTY&#45;&gt;\\(I_I\\) -->\n",
       "<g id=\"edge1\" class=\"edge\"><title>EMPTY&#45;&gt;\\(I_I\\)</title>\n",
       "<path fill=\"none\" stroke=\"black\" d=\"M54.0178,-62C62.3552,-62 71.7368,-62 80.64,-62\"/>\n",
       "<polygon fill=\"black\" stroke=\"black\" points=\"80.7808,-65.5001 90.7807,-62 80.7807,-58.5001 80.7808,-65.5001\"/>\n",
       "</g>\n",
       "<!-- \\(F_S01\\) -->\n",
       "<g id=\"node2\" class=\"node\"><title>\\(F_S01\\)</title>\n",
       "<ellipse fill=\"none\" stroke=\"black\" cx=\"225.715\" cy=\"-116\" rx=\"39.1973\" ry=\"39.1973\"/>\n",
       "<text text-anchor=\"middle\" x=\"225.715\" y=\"-111.8\" font-family=\"Times,serif\" font-size=\"14.00\">(F_S01)</text>\n",
       "</g>\n",
       "<!-- \\(F_S01\\)&#45;&gt;\\(I_I\\) -->\n",
       "<g id=\"edge10\" class=\"edge\"><title>\\(F_S01\\)&#45;&gt;\\(I_I\\)</title>\n",
       "<path fill=\"none\" stroke=\"black\" d=\"M194.759,-91.7478C186.623,-85.9859 177.576,-80.2774 168.617,-76 163.781,-73.6912 158.496,-71.7022 153.227,-70.0085\"/>\n",
       "<polygon fill=\"black\" stroke=\"black\" points=\"153.817,-66.5353 143.238,-67.1086 151.866,-73.2578 153.817,-66.5353\"/>\n",
       "<text text-anchor=\"middle\" x=\"165.117\" y=\"-78.8\" font-family=\"Times,serif\" font-size=\"14.00\">1</text>\n",
       "</g>\n",
       "<!-- \\(F_S0\\) -->\n",
       "<g id=\"node4\" class=\"node\"><title>\\(F_S0\\)</title>\n",
       "<ellipse fill=\"none\" stroke=\"black\" cx=\"342.491\" cy=\"-183\" rx=\"34.8545\" ry=\"34.8545\"/>\n",
       "<text text-anchor=\"middle\" x=\"342.491\" y=\"-178.8\" font-family=\"Times,serif\" font-size=\"14.00\">(F_S0)</text>\n",
       "</g>\n",
       "<!-- \\(F_S01\\)&#45;&gt;\\(F_S0\\) -->\n",
       "<g id=\"edge2\" class=\"edge\"><title>\\(F_S01\\)&#45;&gt;\\(F_S0\\)</title>\n",
       "<path fill=\"none\" stroke=\"black\" d=\"M259.913,-135.379C273.49,-143.305 289.279,-152.522 303.329,-160.723\"/>\n",
       "<polygon fill=\"black\" stroke=\"black\" points=\"301.87,-163.924 312.27,-165.943 305.399,-157.879 301.87,-163.924\"/>\n",
       "<text text-anchor=\"middle\" x=\"286.314\" y=\"-153.8\" font-family=\"Times,serif\" font-size=\"14.00\">0</text>\n",
       "</g>\n",
       "<!-- \\(I_I\\)&#45;&gt;\\(F_S01\\) -->\n",
       "<g id=\"edge3\" class=\"edge\"><title>\\(I_I\\)&#45;&gt;\\(F_S01\\)</title>\n",
       "<path fill=\"none\" stroke=\"black\" d=\"M138.178,-78.6325C145.27,-84.0291 153.515,-89.7213 161.617,-94 166.874,-96.7768 172.555,-99.3234 178.28,-101.621\"/>\n",
       "<polygon fill=\"black\" stroke=\"black\" points=\"177.297,-104.991 187.888,-105.249 179.769,-98.4419 177.297,-104.991\"/>\n",
       "<text text-anchor=\"middle\" x=\"165.117\" y=\"-100.8\" font-family=\"Times,serif\" font-size=\"14.00\">1</text>\n",
       "</g>\n",
       "<!-- \\(I_I\\)&#45;&gt;\\(I_I\\) -->\n",
       "<g id=\"edge5\" class=\"edge\"><title>\\(I_I\\)&#45;&gt;\\(I_I\\)</title>\n",
       "<path fill=\"none\" stroke=\"black\" d=\"M109.131,-87.0524C108.567,-97.4741 111.293,-106.308 117.308,-106.308 121.162,-106.308 123.666,-102.683 124.819,-97.3369\"/>\n",
       "<polygon fill=\"black\" stroke=\"black\" points=\"128.332,-97.2579 125.486,-87.0524 121.346,-96.805 128.332,-97.2579\"/>\n",
       "<text text-anchor=\"middle\" x=\"117.308\" y=\"-109.108\" font-family=\"Times,serif\" font-size=\"14.00\">0</text>\n",
       "</g>\n",
       "<!-- \\(F_S0\\)&#45;&gt;\\(F_S0\\) -->\n",
       "<g id=\"edge9\" class=\"edge\"><title>\\(F_S0\\)&#45;&gt;\\(F_S0\\)</title>\n",
       "<path fill=\"none\" stroke=\"black\" d=\"M331.991,-216.18C332.045,-227.034 335.545,-235.677 342.491,-235.677 347.048,-235.677 350.122,-231.955 351.713,-226.328\"/>\n",
       "<polygon fill=\"black\" stroke=\"black\" points=\"355.214,-226.539 352.99,-216.18 348.268,-225.664 355.214,-226.539\"/>\n",
       "<text text-anchor=\"middle\" x=\"342.491\" y=\"-238.477\" font-family=\"Times,serif\" font-size=\"14.00\">0</text>\n",
       "</g>\n",
       "<!-- \\(I_F0101\\) -->\n",
       "<g id=\"node5\" class=\"node\"><title>\\(I_F0101\\)</title>\n",
       "<ellipse fill=\"none\" stroke=\"black\" cx=\"466.136\" cy=\"-120\" rx=\"45.9373\" ry=\"45.9373\"/>\n",
       "<text text-anchor=\"middle\" x=\"466.136\" y=\"-115.8\" font-family=\"Times,serif\" font-size=\"14.00\">(I_F0101)</text>\n",
       "</g>\n",
       "<!-- \\(F_S0\\)&#45;&gt;\\(I_F0101\\) -->\n",
       "<g id=\"edge7\" class=\"edge\"><title>\\(F_S0\\)&#45;&gt;\\(I_F0101\\)</title>\n",
       "<path fill=\"none\" stroke=\"black\" d=\"M373.56,-167.427C386.257,-160.851 401.381,-153.019 415.643,-145.632\"/>\n",
       "<polygon fill=\"black\" stroke=\"black\" points=\"417.587,-148.567 424.857,-140.861 414.367,-142.351 417.587,-148.567\"/>\n",
       "<text text-anchor=\"middle\" x=\"398.667\" y=\"-157.8\" font-family=\"Times,serif\" font-size=\"14.00\">1</text>\n",
       "</g>\n",
       "<!-- \\(I_F0101\\)&#45;&gt;\\(F_S01\\) -->\n",
       "<g id=\"edge12\" class=\"edge\"><title>\\(I_F0101\\)&#45;&gt;\\(F_S01\\)</title>\n",
       "<path fill=\"none\" stroke=\"black\" d=\"M420.008,-119.243C378.619,-118.548 317.49,-117.523 275.103,-116.812\"/>\n",
       "<polygon fill=\"black\" stroke=\"black\" points=\"275.079,-113.311 265.022,-116.643 274.961,-120.31 275.079,-113.311\"/>\n",
       "<text text-anchor=\"middle\" x=\"342.491\" y=\"-121.8\" font-family=\"Times,serif\" font-size=\"14.00\">1</text>\n",
       "</g>\n",
       "<!-- \\(I_S010\\) -->\n",
       "<g id=\"node6\" class=\"node\"><title>\\(I_S010\\)</title>\n",
       "<ellipse fill=\"none\" stroke=\"black\" cx=\"596.651\" cy=\"-95\" rx=\"41.5938\" ry=\"41.5938\"/>\n",
       "<text text-anchor=\"middle\" x=\"596.651\" y=\"-90.8\" font-family=\"Times,serif\" font-size=\"14.00\">(I_S010)</text>\n",
       "</g>\n",
       "<!-- \\(I_F0101\\)&#45;&gt;\\(I_S010\\) -->\n",
       "<g id=\"edge4\" class=\"edge\"><title>\\(I_F0101\\)&#45;&gt;\\(I_S010\\)</title>\n",
       "<path fill=\"none\" stroke=\"black\" d=\"M511.364,-111.396C522.371,-109.255 534.249,-106.945 545.517,-104.753\"/>\n",
       "<polygon fill=\"black\" stroke=\"black\" points=\"546.504,-108.126 555.652,-102.781 545.167,-101.255 546.504,-108.126\"/>\n",
       "<text text-anchor=\"middle\" x=\"533.605\" y=\"-110.8\" font-family=\"Times,serif\" font-size=\"14.00\">0</text>\n",
       "</g>\n",
       "<!-- \\(I_S010\\)&#45;&gt;\\(I_I\\) -->\n",
       "<g id=\"edge8\" class=\"edge\"><title>\\(I_S010\\)&#45;&gt;\\(I_I\\)</title>\n",
       "<path fill=\"none\" stroke=\"black\" d=\"M560.726,-73.7929C535.615,-60.5501 500.446,-46 467.136,-46 224.715,-46 224.715,-46 224.715,-46 200.584,-46 173.713,-50.0738 153.011,-54.1102\"/>\n",
       "<polygon fill=\"black\" stroke=\"black\" points=\"152.189,-50.7058 143.09,-56.133 153.587,-57.5647 152.189,-50.7058\"/>\n",
       "<text text-anchor=\"middle\" x=\"342.491\" y=\"-48.8\" font-family=\"Times,serif\" font-size=\"14.00\">0</text>\n",
       "</g>\n",
       "<!-- \\(F_F0101\\) -->\n",
       "<g id=\"node7\" class=\"node\"><title>\\(F_F0101\\)</title>\n",
       "<ellipse fill=\"none\" stroke=\"black\" cx=\"733.14\" cy=\"-95\" rx=\"47.8885\" ry=\"47.8885\"/>\n",
       "<ellipse fill=\"none\" stroke=\"black\" cx=\"733.14\" cy=\"-95\" rx=\"51.8841\" ry=\"51.8841\"/>\n",
       "<text text-anchor=\"middle\" x=\"733.14\" y=\"-90.8\" font-family=\"Times,serif\" font-size=\"14.00\">(F_F0101)</text>\n",
       "</g>\n",
       "<!-- \\(I_S010\\)&#45;&gt;\\(F_F0101\\) -->\n",
       "<g id=\"edge11\" class=\"edge\"><title>\\(I_S010\\)&#45;&gt;\\(F_F0101\\)</title>\n",
       "<path fill=\"none\" stroke=\"black\" d=\"M638.368,-95C648.667,-95 659.955,-95 671.02,-95\"/>\n",
       "<polygon fill=\"black\" stroke=\"black\" points=\"671.085,-98.5001 681.085,-95 671.085,-91.5001 671.085,-98.5001\"/>\n",
       "<text text-anchor=\"middle\" x=\"659.698\" y=\"-97.8\" font-family=\"Times,serif\" font-size=\"14.00\">1</text>\n",
       "</g>\n",
       "<!-- \\(F_F0101\\)&#45;&gt;\\(I_I\\) -->\n",
       "<g id=\"edge13\" class=\"edge\"><title>\\(F_F0101\\)&#45;&gt;\\(I_I\\)</title>\n",
       "<path fill=\"none\" stroke=\"black\" d=\"M699.77,-54.9868C674.924,-29.024 638.101,-0 597.651,-0 224.715,-0 224.715,-0 224.715,-0 193.949,-0 164.15,-19.5895 143.952,-36.7459\"/>\n",
       "<polygon fill=\"black\" stroke=\"black\" points=\"141.605,-34.1494 136.436,-43.398 146.244,-39.3912 141.605,-34.1494\"/>\n",
       "<text text-anchor=\"middle\" x=\"398.667\" y=\"-2.8\" font-family=\"Times,serif\" font-size=\"14.00\">1</text>\n",
       "</g>\n",
       "<!-- \\(F_F0101\\)&#45;&gt;\\(F_S0\\) -->\n",
       "<g id=\"edge6\" class=\"edge\"><title>\\(F_F0101\\)&#45;&gt;\\(F_S0\\)</title>\n",
       "<path fill=\"none\" stroke=\"black\" d=\"M688.397,-121.946C672.962,-130.582 655.208,-139.564 638.198,-146 553.573,-178.019 446.504,-183.528 387.513,-183.825\"/>\n",
       "<polygon fill=\"black\" stroke=\"black\" points=\"387.422,-180.325 377.423,-183.827 387.424,-187.325 387.422,-180.325\"/>\n",
       "<text text-anchor=\"middle\" x=\"533.605\" y=\"-174.8\" font-family=\"Times,serif\" font-size=\"14.00\">0</text>\n",
       "</g>\n",
       "</g>\n",
       "</svg>\n"
      ],
      "text/plain": [
       "<graphviz.dot.Digraph at 0x111664780>"
      ]
     },
     "execution_count": 61,
     "metadata": {},
     "output_type": "execute_result"
    }
   ],
   "source": [
    "dotObj_dfa(Minodd1sANDends0101)"
   ]
  },
  {
   "cell_type": "markdown",
   "metadata": {
    "run_control": {
     "frozen": false,
     "read_only": false
    }
   },
   "source": [
    "## Now, complement the individual machines"
   ]
  },
  {
   "cell_type": "code",
   "execution_count": 62,
   "metadata": {
    "run_control": {
     "frozen": false,
     "read_only": false
    }
   },
   "outputs": [],
   "source": [
    "CdfaOdd1s = comp_dfa(dfaOdd1s)"
   ]
  },
  {
   "cell_type": "code",
   "execution_count": 63,
   "metadata": {
    "run_control": {
     "frozen": false,
     "read_only": false
    }
   },
   "outputs": [],
   "source": [
    "Cends0101 = comp_dfa(ends0101)"
   ]
  },
  {
   "cell_type": "markdown",
   "metadata": {
    "run_control": {
     "frozen": false,
     "read_only": false
    }
   },
   "source": [
    "## Complement of the union of the complements\n",
    "\n",
    "The complement of the union of the complements of M1 and M2 is of course the intersection of M1 and M2! Let us check that!\n"
   ]
  },
  {
   "cell_type": "code",
   "execution_count": 64,
   "metadata": {
    "run_control": {
     "frozen": false,
     "read_only": false
    }
   },
   "outputs": [],
   "source": [
    "C_CdfaOdd1sORCends0101 = comp_dfa(union_dfa(CdfaOdd1s, Cends0101))"
   ]
  },
  {
   "cell_type": "code",
   "execution_count": 65,
   "metadata": {
    "run_control": {
     "frozen": false,
     "read_only": false
    }
   },
   "outputs": [
    {
     "data": {
      "image/svg+xml": [
       "<?xml version=\"1.0\" encoding=\"UTF-8\" standalone=\"no\"?>\n",
       "<!DOCTYPE svg PUBLIC \"-//W3C//DTD SVG 1.1//EN\"\n",
       " \"http://www.w3.org/Graphics/SVG/1.1/DTD/svg11.dtd\">\n",
       "<!-- Generated by graphviz version 2.38.0 (20140413.2041)\n",
       " -->\n",
       "<!-- Title: %3 Pages: 1 -->\n",
       "<svg width=\"1032pt\" height=\"438pt\"\n",
       " viewBox=\"0.00 0.00 1031.53 438.00\" xmlns=\"http://www.w3.org/2000/svg\" xmlns:xlink=\"http://www.w3.org/1999/xlink\">\n",
       "<g id=\"graph0\" class=\"graph\" transform=\"scale(1 1) rotate(0) translate(4 434)\">\n",
       "<title>%3</title>\n",
       "<polygon fill=\"white\" stroke=\"none\" points=\"-4,4 -4,-434 1027.53,-434 1027.53,4 -4,4\"/>\n",
       "<!-- EMPTY -->\n",
       "<g id=\"node1\" class=\"node\"><title>EMPTY</title>\n",
       "</g>\n",
       "<!-- \\(I_I\\) -->\n",
       "<g id=\"node2\" class=\"node\"><title>\\(I_I\\)</title>\n",
       "<ellipse fill=\"none\" stroke=\"black\" cx=\"117.308\" cy=\"-260\" rx=\"26.118\" ry=\"26.118\"/>\n",
       "<text text-anchor=\"middle\" x=\"117.308\" y=\"-255.8\" font-family=\"Times,serif\" font-size=\"14.00\">(I_I)</text>\n",
       "</g>\n",
       "<!-- EMPTY&#45;&gt;\\(I_I\\) -->\n",
       "<g id=\"edge1\" class=\"edge\"><title>EMPTY&#45;&gt;\\(I_I\\)</title>\n",
       "<path fill=\"none\" stroke=\"black\" d=\"M54.0178,-260C62.3552,-260 71.7368,-260 80.64,-260\"/>\n",
       "<polygon fill=\"black\" stroke=\"black\" points=\"80.7808,-263.5 90.7807,-260 80.7807,-256.5 80.7808,-263.5\"/>\n",
       "</g>\n",
       "<!-- \\(I_S0\\) -->\n",
       "<g id=\"node6\" class=\"node\"><title>\\(I_S0\\)</title>\n",
       "<ellipse fill=\"none\" stroke=\"black\" cx=\"219.32\" cy=\"-159\" rx=\"32.9081\" ry=\"32.9081\"/>\n",
       "<text text-anchor=\"middle\" x=\"219.32\" y=\"-154.8\" font-family=\"Times,serif\" font-size=\"14.00\">(I_S0)</text>\n",
       "</g>\n",
       "<!-- \\(I_I\\)&#45;&gt;\\(I_S0\\) -->\n",
       "<g id=\"edge5\" class=\"edge\"><title>\\(I_I\\)&#45;&gt;\\(I_S0\\)</title>\n",
       "<path fill=\"none\" stroke=\"black\" d=\"M136.652,-241.475C151.029,-226.956 171.338,-206.446 188.107,-189.512\"/>\n",
       "<polygon fill=\"black\" stroke=\"black\" points=\"190.979,-191.586 195.528,-182.017 186.005,-186.66 190.979,-191.586\"/>\n",
       "<text text-anchor=\"middle\" x=\"165.117\" y=\"-218.8\" font-family=\"Times,serif\" font-size=\"14.00\">0</text>\n",
       "</g>\n",
       "<!-- \\(F_I\\) -->\n",
       "<g id=\"node7\" class=\"node\"><title>\\(F_I\\)</title>\n",
       "<ellipse fill=\"none\" stroke=\"black\" cx=\"835.099\" cy=\"-286\" rx=\"28.0651\" ry=\"28.0651\"/>\n",
       "<text text-anchor=\"middle\" x=\"835.099\" y=\"-281.8\" font-family=\"Times,serif\" font-size=\"14.00\">(F_I)</text>\n",
       "</g>\n",
       "<!-- \\(I_I\\)&#45;&gt;\\(F_I\\) -->\n",
       "<g id=\"edge3\" class=\"edge\"><title>\\(I_I\\)&#45;&gt;\\(F_I\\)</title>\n",
       "<path fill=\"none\" stroke=\"black\" d=\"M134.433,-280.034C152.526,-300.093 183.886,-328 218.32,-328 218.32,-328 218.32,-328 705.583,-328 739.094,-328 775.196,-314.939 800.578,-303.383\"/>\n",
       "<polygon fill=\"black\" stroke=\"black\" points=\"802.2,-306.488 809.753,-299.059 799.215,-300.156 802.2,-306.488\"/>\n",
       "<text text-anchor=\"middle\" x=\"459.741\" y=\"-330.8\" font-family=\"Times,serif\" font-size=\"14.00\">1</text>\n",
       "</g>\n",
       "<!-- \\(F_S0\\) -->\n",
       "<g id=\"node3\" class=\"node\"><title>\\(F_S0\\)</title>\n",
       "<ellipse fill=\"none\" stroke=\"black\" cx=\"580.938\" cy=\"-228\" rx=\"34.8545\" ry=\"34.8545\"/>\n",
       "<text text-anchor=\"middle\" x=\"580.938\" y=\"-223.8\" font-family=\"Times,serif\" font-size=\"14.00\">(F_S0)</text>\n",
       "</g>\n",
       "<!-- \\(F_S0\\)&#45;&gt;\\(F_S0\\) -->\n",
       "<g id=\"edge20\" class=\"edge\"><title>\\(F_S0\\)&#45;&gt;\\(F_S0\\)</title>\n",
       "<path fill=\"none\" stroke=\"black\" d=\"M570.439,-261.18C570.493,-272.034 573.993,-280.677 580.938,-280.677 585.496,-280.677 588.57,-276.955 590.16,-271.328\"/>\n",
       "<polygon fill=\"black\" stroke=\"black\" points=\"593.661,-271.539 591.437,-261.18 586.716,-270.664 593.661,-271.539\"/>\n",
       "<text text-anchor=\"middle\" x=\"580.938\" y=\"-283.477\" font-family=\"Times,serif\" font-size=\"14.00\">0</text>\n",
       "</g>\n",
       "<!-- \\(I_S01\\) -->\n",
       "<g id=\"node4\" class=\"node\"><title>\\(I_S01\\)</title>\n",
       "<ellipse fill=\"none\" stroke=\"black\" cx=\"704.583\" cy=\"-213\" rx=\"37.2507\" ry=\"37.2507\"/>\n",
       "<text text-anchor=\"middle\" x=\"704.583\" y=\"-208.8\" font-family=\"Times,serif\" font-size=\"14.00\">(I_S01)</text>\n",
       "</g>\n",
       "<!-- \\(F_S0\\)&#45;&gt;\\(I_S01\\) -->\n",
       "<g id=\"edge9\" class=\"edge\"><title>\\(F_S0\\)&#45;&gt;\\(I_S01\\)</title>\n",
       "<path fill=\"none\" stroke=\"black\" d=\"M615.5,-223.861C628.516,-222.257 643.631,-220.393 657.628,-218.667\"/>\n",
       "<polygon fill=\"black\" stroke=\"black\" points=\"658.079,-222.138 667.576,-217.44 657.222,-215.19 658.079,-222.138\"/>\n",
       "<text text-anchor=\"middle\" x=\"637.115\" y=\"-224.8\" font-family=\"Times,serif\" font-size=\"14.00\">1</text>\n",
       "</g>\n",
       "<!-- \\(I_S01\\)&#45;&gt;\\(F_I\\) -->\n",
       "<g id=\"edge16\" class=\"edge\"><title>\\(I_S01\\)&#45;&gt;\\(F_I\\)</title>\n",
       "<path fill=\"none\" stroke=\"black\" d=\"M737.351,-231.045C756.73,-242.053 781.459,-256.099 801.064,-267.236\"/>\n",
       "<polygon fill=\"black\" stroke=\"black\" points=\"799.528,-270.388 809.952,-272.284 802.986,-264.302 799.528,-270.388\"/>\n",
       "<text text-anchor=\"middle\" x=\"772.052\" y=\"-254.8\" font-family=\"Times,serif\" font-size=\"14.00\">1</text>\n",
       "</g>\n",
       "<!-- \\(I_S010\\) -->\n",
       "<g id=\"node9\" class=\"node\"><title>\\(I_S010\\)</title>\n",
       "<ellipse fill=\"none\" stroke=\"black\" cx=\"835.099\" cy=\"-112\" rx=\"41.5938\" ry=\"41.5938\"/>\n",
       "<text text-anchor=\"middle\" x=\"835.099\" y=\"-107.8\" font-family=\"Times,serif\" font-size=\"14.00\">(I_S010)</text>\n",
       "</g>\n",
       "<!-- \\(I_S01\\)&#45;&gt;\\(I_S010\\) -->\n",
       "<g id=\"edge8\" class=\"edge\"><title>\\(I_S01\\)&#45;&gt;\\(I_S010\\)</title>\n",
       "<path fill=\"none\" stroke=\"black\" d=\"M738.573,-197.286C750.713,-190.828 764.247,-182.797 775.552,-174 784.319,-167.178 792.976,-159.029 800.834,-150.917\"/>\n",
       "<polygon fill=\"black\" stroke=\"black\" points=\"803.497,-153.195 807.807,-143.517 798.402,-148.395 803.497,-153.195\"/>\n",
       "<text text-anchor=\"middle\" x=\"772.052\" y=\"-182.8\" font-family=\"Times,serif\" font-size=\"14.00\">0</text>\n",
       "</g>\n",
       "<!-- \\(F_S01\\) -->\n",
       "<g id=\"node5\" class=\"node\"><title>\\(F_S01\\)</title>\n",
       "<ellipse fill=\"none\" stroke=\"black\" cx=\"334.122\" cy=\"-228\" rx=\"39.1973\" ry=\"39.1973\"/>\n",
       "<text text-anchor=\"middle\" x=\"334.122\" y=\"-223.8\" font-family=\"Times,serif\" font-size=\"14.00\">(F_S01)</text>\n",
       "</g>\n",
       "<!-- \\(F_S01\\)&#45;&gt;\\(I_I\\) -->\n",
       "<g id=\"edge14\" class=\"edge\"><title>\\(F_S01\\)&#45;&gt;\\(I_I\\)</title>\n",
       "<path fill=\"none\" stroke=\"black\" d=\"M295.233,-233.644C255.25,-239.6 192.733,-248.913 153.715,-254.726\"/>\n",
       "<polygon fill=\"black\" stroke=\"black\" points=\"152.746,-251.331 143.371,-256.267 153.777,-258.255 152.746,-251.331\"/>\n",
       "<text text-anchor=\"middle\" x=\"219.32\" y=\"-252.8\" font-family=\"Times,serif\" font-size=\"14.00\">1</text>\n",
       "</g>\n",
       "<!-- \\(F_S010\\) -->\n",
       "<g id=\"node10\" class=\"node\"><title>\\(F_S010\\)</title>\n",
       "<ellipse fill=\"none\" stroke=\"black\" cx=\"459.741\" cy=\"-228\" rx=\"43.5405\" ry=\"43.5405\"/>\n",
       "<text text-anchor=\"middle\" x=\"459.741\" y=\"-223.8\" font-family=\"Times,serif\" font-size=\"14.00\">(F_S010)</text>\n",
       "</g>\n",
       "<!-- \\(F_S01\\)&#45;&gt;\\(F_S010\\) -->\n",
       "<g id=\"edge2\" class=\"edge\"><title>\\(F_S01\\)&#45;&gt;\\(F_S010\\)</title>\n",
       "<path fill=\"none\" stroke=\"black\" d=\"M373.558,-228C383.763,-228 394.965,-228 405.796,-228\"/>\n",
       "<polygon fill=\"black\" stroke=\"black\" points=\"406.022,-231.5 416.022,-228 406.022,-224.5 406.022,-231.5\"/>\n",
       "<text text-anchor=\"middle\" x=\"394.721\" y=\"-230.8\" font-family=\"Times,serif\" font-size=\"14.00\">0</text>\n",
       "</g>\n",
       "<!-- \\(I_S0\\)&#45;&gt;\\(F_S01\\) -->\n",
       "<g id=\"edge7\" class=\"edge\"><title>\\(I_S0\\)&#45;&gt;\\(F_S01\\)</title>\n",
       "<path fill=\"none\" stroke=\"black\" d=\"M247.626,-175.703C260.801,-183.762 276.893,-193.605 291.548,-202.569\"/>\n",
       "<polygon fill=\"black\" stroke=\"black\" points=\"290.091,-205.781 300.448,-208.013 293.743,-199.81 290.091,-205.781\"/>\n",
       "<text text-anchor=\"middle\" x=\"273.524\" y=\"-196.8\" font-family=\"Times,serif\" font-size=\"14.00\">1</text>\n",
       "</g>\n",
       "<!-- \\(I_S0\\)&#45;&gt;\\(I_S0\\) -->\n",
       "<g id=\"edge10\" class=\"edge\"><title>\\(I_S0\\)&#45;&gt;\\(I_S0\\)</title>\n",
       "<path fill=\"none\" stroke=\"black\" d=\"M209.198,-190.193C209.09,-200.987 212.465,-209.703 219.32,-209.703 223.819,-209.703 226.819,-205.949 228.319,-200.318\"/>\n",
       "<polygon fill=\"black\" stroke=\"black\" points=\"231.818,-200.518 229.443,-190.193 224.861,-199.746 231.818,-200.518\"/>\n",
       "<text text-anchor=\"middle\" x=\"219.32\" y=\"-212.503\" font-family=\"Times,serif\" font-size=\"14.00\">0</text>\n",
       "</g>\n",
       "<!-- \\(F_I\\)&#45;&gt;\\(I_I\\) -->\n",
       "<g id=\"edge13\" class=\"edge\"><title>\\(F_I\\)&#45;&gt;\\(I_I\\)</title>\n",
       "<path fill=\"none\" stroke=\"black\" d=\"M822.876,-311.684C804.377,-349.57 763.661,-416 705.583,-416 218.32,-416 218.32,-416 218.32,-416 161.642,-416 135.609,-342.118 124.884,-296.044\"/>\n",
       "<polygon fill=\"black\" stroke=\"black\" points=\"128.267,-295.13 122.707,-286.111 121.429,-296.628 128.267,-295.13\"/>\n",
       "<text text-anchor=\"middle\" x=\"459.741\" y=\"-418.8\" font-family=\"Times,serif\" font-size=\"14.00\">1</text>\n",
       "</g>\n",
       "<!-- \\(F_I\\)&#45;&gt;\\(F_S0\\) -->\n",
       "<g id=\"edge18\" class=\"edge\"><title>\\(F_I\\)&#45;&gt;\\(F_S0\\)</title>\n",
       "<path fill=\"none\" stroke=\"black\" d=\"M806.632,-283.757C771.737,-280.459 709.883,-273.102 658.615,-259 646.501,-255.668 633.71,-250.992 622.12,-246.28\"/>\n",
       "<polygon fill=\"black\" stroke=\"black\" points=\"623.285,-242.973 612.709,-242.342 620.583,-249.431 623.285,-242.973\"/>\n",
       "<text text-anchor=\"middle\" x=\"704.583\" y=\"-280.8\" font-family=\"Times,serif\" font-size=\"14.00\">0</text>\n",
       "</g>\n",
       "<!-- \\(I_F0101\\) -->\n",
       "<g id=\"node8\" class=\"node\"><title>\\(I_F0101\\)</title>\n",
       "<ellipse fill=\"none\" stroke=\"black\" cx=\"704.583\" cy=\"-112\" rx=\"45.9373\" ry=\"45.9373\"/>\n",
       "<text text-anchor=\"middle\" x=\"704.583\" y=\"-107.8\" font-family=\"Times,serif\" font-size=\"14.00\">(I_F0101)</text>\n",
       "</g>\n",
       "<!-- \\(I_F0101\\)&#45;&gt;\\(F_I\\) -->\n",
       "<g id=\"edge21\" class=\"edge\"><title>\\(I_F0101\\)&#45;&gt;\\(F_I\\)</title>\n",
       "<path fill=\"none\" stroke=\"black\" d=\"M746.085,-131.898C756.648,-138.486 767.355,-146.584 775.552,-156 799.074,-183.02 814.712,-221.038 823.863,-248.983\"/>\n",
       "<polygon fill=\"black\" stroke=\"black\" points=\"820.606,-250.293 826.943,-258.784 827.284,-248.195 820.606,-250.293\"/>\n",
       "<text text-anchor=\"middle\" x=\"772.052\" y=\"-158.8\" font-family=\"Times,serif\" font-size=\"14.00\">1</text>\n",
       "</g>\n",
       "<!-- \\(I_F0101\\)&#45;&gt;\\(I_S010\\) -->\n",
       "<g id=\"edge4\" class=\"edge\"><title>\\(I_F0101\\)&#45;&gt;\\(I_S010\\)</title>\n",
       "<path fill=\"none\" stroke=\"black\" d=\"M750.893,-112C761.408,-112 772.666,-112 783.396,-112\"/>\n",
       "<polygon fill=\"black\" stroke=\"black\" points=\"783.48,-115.5 793.48,-112 783.48,-108.5 783.48,-115.5\"/>\n",
       "<text text-anchor=\"middle\" x=\"772.052\" y=\"-114.8\" font-family=\"Times,serif\" font-size=\"14.00\">0</text>\n",
       "</g>\n",
       "<!-- \\(I_S010\\)&#45;&gt;\\(I_S0\\) -->\n",
       "<g id=\"edge11\" class=\"edge\"><title>\\(I_S010\\)&#45;&gt;\\(I_S0\\)</title>\n",
       "<path fill=\"none\" stroke=\"black\" d=\"M804.876,-83.3897C780.437,-62.5661 743.559,-38 705.583,-38 333.122,-38 333.122,-38 333.122,-38 287.645,-38 255.269,-84.2956 237.186,-119.614\"/>\n",
       "<polygon fill=\"black\" stroke=\"black\" points=\"233.952,-118.26 232.682,-128.779 240.234,-121.348 233.952,-118.26\"/>\n",
       "<text text-anchor=\"middle\" x=\"524.761\" y=\"-40.8\" font-family=\"Times,serif\" font-size=\"14.00\">0</text>\n",
       "</g>\n",
       "<!-- \\(F_F0101\\) -->\n",
       "<g id=\"node11\" class=\"node\"><title>\\(F_F0101\\)</title>\n",
       "<ellipse fill=\"none\" stroke=\"black\" cx=\"971.588\" cy=\"-112\" rx=\"47.8885\" ry=\"47.8885\"/>\n",
       "<ellipse fill=\"none\" stroke=\"black\" cx=\"971.588\" cy=\"-112\" rx=\"51.8841\" ry=\"51.8841\"/>\n",
       "<text text-anchor=\"middle\" x=\"971.588\" y=\"-107.8\" font-family=\"Times,serif\" font-size=\"14.00\">(F_F0101)</text>\n",
       "</g>\n",
       "<!-- \\(I_S010\\)&#45;&gt;\\(F_F0101\\) -->\n",
       "<g id=\"edge15\" class=\"edge\"><title>\\(I_S010\\)&#45;&gt;\\(F_F0101\\)</title>\n",
       "<path fill=\"none\" stroke=\"black\" d=\"M876.815,-112C887.114,-112 898.402,-112 909.468,-112\"/>\n",
       "<polygon fill=\"black\" stroke=\"black\" points=\"909.532,-115.5 919.532,-112 909.532,-108.5 909.532,-115.5\"/>\n",
       "<text text-anchor=\"middle\" x=\"898.146\" y=\"-114.8\" font-family=\"Times,serif\" font-size=\"14.00\">1</text>\n",
       "</g>\n",
       "<!-- \\(F_S010\\)&#45;&gt;\\(F_S0\\) -->\n",
       "<g id=\"edge12\" class=\"edge\"><title>\\(F_S010\\)&#45;&gt;\\(F_S0\\)</title>\n",
       "<path fill=\"none\" stroke=\"black\" d=\"M503.437,-228C513.958,-228 525.246,-228 535.832,-228\"/>\n",
       "<polygon fill=\"black\" stroke=\"black\" points=\"536.131,-231.5 546.131,-228 536.131,-224.5 536.131,-231.5\"/>\n",
       "<text text-anchor=\"middle\" x=\"524.761\" y=\"-230.8\" font-family=\"Times,serif\" font-size=\"14.00\">0</text>\n",
       "</g>\n",
       "<!-- \\(F_S010\\)&#45;&gt;\\(I_F0101\\) -->\n",
       "<g id=\"edge19\" class=\"edge\"><title>\\(F_S010\\)&#45;&gt;\\(I_F0101\\)</title>\n",
       "<path fill=\"none\" stroke=\"black\" d=\"M494.922,-202.014C510.118,-191.212 528.549,-179.1 546.261,-170 579.672,-152.836 619.371,-138.239 650.531,-127.982\"/>\n",
       "<polygon fill=\"black\" stroke=\"black\" points=\"651.895,-131.219 660.329,-124.807 649.737,-124.56 651.895,-131.219\"/>\n",
       "<text text-anchor=\"middle\" x=\"580.938\" y=\"-172.8\" font-family=\"Times,serif\" font-size=\"14.00\">1</text>\n",
       "</g>\n",
       "<!-- \\(F_F0101\\)&#45;&gt;\\(I_I\\) -->\n",
       "<g id=\"edge17\" class=\"edge\"><title>\\(F_F0101\\)&#45;&gt;\\(I_I\\)</title>\n",
       "<path fill=\"none\" stroke=\"black\" d=\"M942.743,-68.6979C918.736,-37.1811 880.917,-0 836.099,-0 218.32,-0 218.32,-0 218.32,-0 170.841,-0 137.361,-152.942 124.335,-224.223\"/>\n",
       "<polygon fill=\"black\" stroke=\"black\" points=\"120.881,-223.659 122.563,-234.12 127.771,-224.893 120.881,-223.659\"/>\n",
       "<text text-anchor=\"middle\" x=\"524.761\" y=\"-2.8\" font-family=\"Times,serif\" font-size=\"14.00\">1</text>\n",
       "</g>\n",
       "<!-- \\(F_F0101\\)&#45;&gt;\\(F_S010\\) -->\n",
       "<g id=\"edge6\" class=\"edge\"><title>\\(F_F0101\\)&#45;&gt;\\(F_S010\\)</title>\n",
       "<path fill=\"none\" stroke=\"black\" d=\"M966.842,-163.763C958.185,-240.118 929.665,-374 836.099,-374 579.938,-374 579.938,-374 579.938,-374 553.764,-374 513.754,-316.984 487.423,-274.213\"/>\n",
       "<polygon fill=\"black\" stroke=\"black\" points=\"490.371,-272.324 482.184,-265.599 484.39,-275.961 490.371,-272.324\"/>\n",
       "<text text-anchor=\"middle\" x=\"704.583\" y=\"-376.8\" font-family=\"Times,serif\" font-size=\"14.00\">0</text>\n",
       "</g>\n",
       "</g>\n",
       "</svg>\n"
      ],
      "text/plain": [
       "<graphviz.dot.Digraph at 0x111664208>"
      ]
     },
     "execution_count": 65,
     "metadata": {},
     "output_type": "execute_result"
    }
   ],
   "source": [
    "dotObj_dfa(C_CdfaOdd1sORCends0101)"
   ]
  },
  {
   "cell_type": "code",
   "execution_count": 66,
   "metadata": {
    "run_control": {
     "frozen": false,
     "read_only": false
    }
   },
   "outputs": [],
   "source": [
    "MinC_CdfaOdd1sORCends0101 = min_dfa(C_CdfaOdd1sORCends0101)"
   ]
  },
  {
   "cell_type": "markdown",
   "metadata": {
    "run_control": {
     "frozen": false,
     "read_only": false
    }
   },
   "source": [
    "## Minimized Comp(CdfaOdd1s OR Cends0101)\n",
    "\n",
    "This will now pass the isomorphism check, below\n"
   ]
  },
  {
   "cell_type": "code",
   "execution_count": 67,
   "metadata": {
    "run_control": {
     "frozen": false,
     "read_only": false
    }
   },
   "outputs": [
    {
     "data": {
      "image/svg+xml": [
       "<?xml version=\"1.0\" encoding=\"UTF-8\" standalone=\"no\"?>\n",
       "<!DOCTYPE svg PUBLIC \"-//W3C//DTD SVG 1.1//EN\"\n",
       " \"http://www.w3.org/Graphics/SVG/1.1/DTD/svg11.dtd\">\n",
       "<!-- Generated by graphviz version 2.38.0 (20140413.2041)\n",
       " -->\n",
       "<!-- Title: %3 Pages: 1 -->\n",
       "<svg width=\"793pt\" height=\"258pt\"\n",
       " viewBox=\"0.00 0.00 793.08 257.68\" xmlns=\"http://www.w3.org/2000/svg\" xmlns:xlink=\"http://www.w3.org/1999/xlink\">\n",
       "<g id=\"graph0\" class=\"graph\" transform=\"scale(1 1) rotate(0) translate(4 253.677)\">\n",
       "<title>%3</title>\n",
       "<polygon fill=\"white\" stroke=\"none\" points=\"-4,4 -4,-253.677 789.082,-253.677 789.082,4 -4,4\"/>\n",
       "<!-- EMPTY -->\n",
       "<g id=\"node1\" class=\"node\"><title>EMPTY</title>\n",
       "</g>\n",
       "<!-- \\(I_I\\) -->\n",
       "<g id=\"node3\" class=\"node\"><title>\\(I_I\\)</title>\n",
       "<ellipse fill=\"none\" stroke=\"black\" cx=\"117.308\" cy=\"-62\" rx=\"26.118\" ry=\"26.118\"/>\n",
       "<text text-anchor=\"middle\" x=\"117.308\" y=\"-57.8\" font-family=\"Times,serif\" font-size=\"14.00\">(I_I)</text>\n",
       "</g>\n",
       "<!-- EMPTY&#45;&gt;\\(I_I\\) -->\n",
       "<g id=\"edge1\" class=\"edge\"><title>EMPTY&#45;&gt;\\(I_I\\)</title>\n",
       "<path fill=\"none\" stroke=\"black\" d=\"M54.0178,-62C62.3552,-62 71.7368,-62 80.64,-62\"/>\n",
       "<polygon fill=\"black\" stroke=\"black\" points=\"80.7808,-65.5001 90.7807,-62 80.7807,-58.5001 80.7808,-65.5001\"/>\n",
       "</g>\n",
       "<!-- \\(F_S01\\) -->\n",
       "<g id=\"node2\" class=\"node\"><title>\\(F_S01\\)</title>\n",
       "<ellipse fill=\"none\" stroke=\"black\" cx=\"225.715\" cy=\"-116\" rx=\"39.1973\" ry=\"39.1973\"/>\n",
       "<text text-anchor=\"middle\" x=\"225.715\" y=\"-111.8\" font-family=\"Times,serif\" font-size=\"14.00\">(F_S01)</text>\n",
       "</g>\n",
       "<!-- \\(F_S01\\)&#45;&gt;\\(I_I\\) -->\n",
       "<g id=\"edge10\" class=\"edge\"><title>\\(F_S01\\)&#45;&gt;\\(I_I\\)</title>\n",
       "<path fill=\"none\" stroke=\"black\" d=\"M194.759,-91.7478C186.623,-85.9859 177.576,-80.2774 168.617,-76 163.781,-73.6912 158.496,-71.7022 153.227,-70.0085\"/>\n",
       "<polygon fill=\"black\" stroke=\"black\" points=\"153.817,-66.5353 143.238,-67.1086 151.866,-73.2578 153.817,-66.5353\"/>\n",
       "<text text-anchor=\"middle\" x=\"165.117\" y=\"-78.8\" font-family=\"Times,serif\" font-size=\"14.00\">1</text>\n",
       "</g>\n",
       "<!-- \\(F_S0\\) -->\n",
       "<g id=\"node4\" class=\"node\"><title>\\(F_S0\\)</title>\n",
       "<ellipse fill=\"none\" stroke=\"black\" cx=\"342.491\" cy=\"-183\" rx=\"34.8545\" ry=\"34.8545\"/>\n",
       "<text text-anchor=\"middle\" x=\"342.491\" y=\"-178.8\" font-family=\"Times,serif\" font-size=\"14.00\">(F_S0)</text>\n",
       "</g>\n",
       "<!-- \\(F_S01\\)&#45;&gt;\\(F_S0\\) -->\n",
       "<g id=\"edge2\" class=\"edge\"><title>\\(F_S01\\)&#45;&gt;\\(F_S0\\)</title>\n",
       "<path fill=\"none\" stroke=\"black\" d=\"M259.913,-135.379C273.49,-143.305 289.279,-152.522 303.329,-160.723\"/>\n",
       "<polygon fill=\"black\" stroke=\"black\" points=\"301.87,-163.924 312.27,-165.943 305.399,-157.879 301.87,-163.924\"/>\n",
       "<text text-anchor=\"middle\" x=\"286.314\" y=\"-153.8\" font-family=\"Times,serif\" font-size=\"14.00\">0</text>\n",
       "</g>\n",
       "<!-- \\(I_I\\)&#45;&gt;\\(F_S01\\) -->\n",
       "<g id=\"edge3\" class=\"edge\"><title>\\(I_I\\)&#45;&gt;\\(F_S01\\)</title>\n",
       "<path fill=\"none\" stroke=\"black\" d=\"M138.178,-78.6325C145.27,-84.0291 153.515,-89.7213 161.617,-94 166.874,-96.7768 172.555,-99.3234 178.28,-101.621\"/>\n",
       "<polygon fill=\"black\" stroke=\"black\" points=\"177.297,-104.991 187.888,-105.249 179.769,-98.4419 177.297,-104.991\"/>\n",
       "<text text-anchor=\"middle\" x=\"165.117\" y=\"-100.8\" font-family=\"Times,serif\" font-size=\"14.00\">1</text>\n",
       "</g>\n",
       "<!-- \\(I_I\\)&#45;&gt;\\(I_I\\) -->\n",
       "<g id=\"edge5\" class=\"edge\"><title>\\(I_I\\)&#45;&gt;\\(I_I\\)</title>\n",
       "<path fill=\"none\" stroke=\"black\" d=\"M109.131,-87.0524C108.567,-97.4741 111.293,-106.308 117.308,-106.308 121.162,-106.308 123.666,-102.683 124.819,-97.3369\"/>\n",
       "<polygon fill=\"black\" stroke=\"black\" points=\"128.332,-97.2579 125.486,-87.0524 121.346,-96.805 128.332,-97.2579\"/>\n",
       "<text text-anchor=\"middle\" x=\"117.308\" y=\"-109.108\" font-family=\"Times,serif\" font-size=\"14.00\">0</text>\n",
       "</g>\n",
       "<!-- \\(F_S0\\)&#45;&gt;\\(F_S0\\) -->\n",
       "<g id=\"edge9\" class=\"edge\"><title>\\(F_S0\\)&#45;&gt;\\(F_S0\\)</title>\n",
       "<path fill=\"none\" stroke=\"black\" d=\"M331.991,-216.18C332.045,-227.034 335.545,-235.677 342.491,-235.677 347.048,-235.677 350.122,-231.955 351.713,-226.328\"/>\n",
       "<polygon fill=\"black\" stroke=\"black\" points=\"355.214,-226.539 352.99,-216.18 348.268,-225.664 355.214,-226.539\"/>\n",
       "<text text-anchor=\"middle\" x=\"342.491\" y=\"-238.477\" font-family=\"Times,serif\" font-size=\"14.00\">0</text>\n",
       "</g>\n",
       "<!-- \\(I_F0101\\) -->\n",
       "<g id=\"node5\" class=\"node\"><title>\\(I_F0101\\)</title>\n",
       "<ellipse fill=\"none\" stroke=\"black\" cx=\"466.136\" cy=\"-120\" rx=\"45.9373\" ry=\"45.9373\"/>\n",
       "<text text-anchor=\"middle\" x=\"466.136\" y=\"-115.8\" font-family=\"Times,serif\" font-size=\"14.00\">(I_F0101)</text>\n",
       "</g>\n",
       "<!-- \\(F_S0\\)&#45;&gt;\\(I_F0101\\) -->\n",
       "<g id=\"edge7\" class=\"edge\"><title>\\(F_S0\\)&#45;&gt;\\(I_F0101\\)</title>\n",
       "<path fill=\"none\" stroke=\"black\" d=\"M373.56,-167.427C386.257,-160.851 401.381,-153.019 415.643,-145.632\"/>\n",
       "<polygon fill=\"black\" stroke=\"black\" points=\"417.587,-148.567 424.857,-140.861 414.367,-142.351 417.587,-148.567\"/>\n",
       "<text text-anchor=\"middle\" x=\"398.667\" y=\"-157.8\" font-family=\"Times,serif\" font-size=\"14.00\">1</text>\n",
       "</g>\n",
       "<!-- \\(I_F0101\\)&#45;&gt;\\(F_S01\\) -->\n",
       "<g id=\"edge12\" class=\"edge\"><title>\\(I_F0101\\)&#45;&gt;\\(F_S01\\)</title>\n",
       "<path fill=\"none\" stroke=\"black\" d=\"M420.008,-119.243C378.619,-118.548 317.49,-117.523 275.103,-116.812\"/>\n",
       "<polygon fill=\"black\" stroke=\"black\" points=\"275.079,-113.311 265.022,-116.643 274.961,-120.31 275.079,-113.311\"/>\n",
       "<text text-anchor=\"middle\" x=\"342.491\" y=\"-121.8\" font-family=\"Times,serif\" font-size=\"14.00\">1</text>\n",
       "</g>\n",
       "<!-- \\(I_S010\\) -->\n",
       "<g id=\"node6\" class=\"node\"><title>\\(I_S010\\)</title>\n",
       "<ellipse fill=\"none\" stroke=\"black\" cx=\"596.651\" cy=\"-95\" rx=\"41.5938\" ry=\"41.5938\"/>\n",
       "<text text-anchor=\"middle\" x=\"596.651\" y=\"-90.8\" font-family=\"Times,serif\" font-size=\"14.00\">(I_S010)</text>\n",
       "</g>\n",
       "<!-- \\(I_F0101\\)&#45;&gt;\\(I_S010\\) -->\n",
       "<g id=\"edge4\" class=\"edge\"><title>\\(I_F0101\\)&#45;&gt;\\(I_S010\\)</title>\n",
       "<path fill=\"none\" stroke=\"black\" d=\"M511.364,-111.396C522.371,-109.255 534.249,-106.945 545.517,-104.753\"/>\n",
       "<polygon fill=\"black\" stroke=\"black\" points=\"546.504,-108.126 555.652,-102.781 545.167,-101.255 546.504,-108.126\"/>\n",
       "<text text-anchor=\"middle\" x=\"533.605\" y=\"-110.8\" font-family=\"Times,serif\" font-size=\"14.00\">0</text>\n",
       "</g>\n",
       "<!-- \\(I_S010\\)&#45;&gt;\\(I_I\\) -->\n",
       "<g id=\"edge8\" class=\"edge\"><title>\\(I_S010\\)&#45;&gt;\\(I_I\\)</title>\n",
       "<path fill=\"none\" stroke=\"black\" d=\"M560.726,-73.7929C535.615,-60.5501 500.446,-46 467.136,-46 224.715,-46 224.715,-46 224.715,-46 200.584,-46 173.713,-50.0738 153.011,-54.1102\"/>\n",
       "<polygon fill=\"black\" stroke=\"black\" points=\"152.189,-50.7058 143.09,-56.133 153.587,-57.5647 152.189,-50.7058\"/>\n",
       "<text text-anchor=\"middle\" x=\"342.491\" y=\"-48.8\" font-family=\"Times,serif\" font-size=\"14.00\">0</text>\n",
       "</g>\n",
       "<!-- \\(F_F0101\\) -->\n",
       "<g id=\"node7\" class=\"node\"><title>\\(F_F0101\\)</title>\n",
       "<ellipse fill=\"none\" stroke=\"black\" cx=\"733.14\" cy=\"-95\" rx=\"47.8885\" ry=\"47.8885\"/>\n",
       "<ellipse fill=\"none\" stroke=\"black\" cx=\"733.14\" cy=\"-95\" rx=\"51.8841\" ry=\"51.8841\"/>\n",
       "<text text-anchor=\"middle\" x=\"733.14\" y=\"-90.8\" font-family=\"Times,serif\" font-size=\"14.00\">(F_F0101)</text>\n",
       "</g>\n",
       "<!-- \\(I_S010\\)&#45;&gt;\\(F_F0101\\) -->\n",
       "<g id=\"edge11\" class=\"edge\"><title>\\(I_S010\\)&#45;&gt;\\(F_F0101\\)</title>\n",
       "<path fill=\"none\" stroke=\"black\" d=\"M638.368,-95C648.667,-95 659.955,-95 671.02,-95\"/>\n",
       "<polygon fill=\"black\" stroke=\"black\" points=\"671.085,-98.5001 681.085,-95 671.085,-91.5001 671.085,-98.5001\"/>\n",
       "<text text-anchor=\"middle\" x=\"659.698\" y=\"-97.8\" font-family=\"Times,serif\" font-size=\"14.00\">1</text>\n",
       "</g>\n",
       "<!-- \\(F_F0101\\)&#45;&gt;\\(I_I\\) -->\n",
       "<g id=\"edge13\" class=\"edge\"><title>\\(F_F0101\\)&#45;&gt;\\(I_I\\)</title>\n",
       "<path fill=\"none\" stroke=\"black\" d=\"M699.77,-54.9868C674.924,-29.024 638.101,-0 597.651,-0 224.715,-0 224.715,-0 224.715,-0 193.949,-0 164.15,-19.5895 143.952,-36.7459\"/>\n",
       "<polygon fill=\"black\" stroke=\"black\" points=\"141.605,-34.1494 136.436,-43.398 146.244,-39.3912 141.605,-34.1494\"/>\n",
       "<text text-anchor=\"middle\" x=\"398.667\" y=\"-2.8\" font-family=\"Times,serif\" font-size=\"14.00\">1</text>\n",
       "</g>\n",
       "<!-- \\(F_F0101\\)&#45;&gt;\\(F_S0\\) -->\n",
       "<g id=\"edge6\" class=\"edge\"><title>\\(F_F0101\\)&#45;&gt;\\(F_S0\\)</title>\n",
       "<path fill=\"none\" stroke=\"black\" d=\"M688.397,-121.946C672.962,-130.582 655.208,-139.564 638.198,-146 553.573,-178.019 446.504,-183.528 387.513,-183.825\"/>\n",
       "<polygon fill=\"black\" stroke=\"black\" points=\"387.422,-180.325 377.423,-183.827 387.424,-187.325 387.422,-180.325\"/>\n",
       "<text text-anchor=\"middle\" x=\"533.605\" y=\"-174.8\" font-family=\"Times,serif\" font-size=\"14.00\">0</text>\n",
       "</g>\n",
       "</g>\n",
       "</svg>\n"
      ],
      "text/plain": [
       "<graphviz.dot.Digraph at 0x111664080>"
      ]
     },
     "execution_count": 67,
     "metadata": {},
     "output_type": "execute_result"
    }
   ],
   "source": [
    "dotObj_dfa(MinC_CdfaOdd1sORCends0101)"
   ]
  },
  {
   "cell_type": "markdown",
   "metadata": {
    "run_control": {
     "frozen": false,
     "read_only": false
    }
   },
   "source": [
    "## DeMorgan's Law works\n",
    "\n",
    "The same machine, when obtained through two routes, turn out to be isomorphic when minimized\n"
   ]
  },
  {
   "cell_type": "code",
   "execution_count": 68,
   "metadata": {
    "run_control": {
     "frozen": false,
     "read_only": false
    }
   },
   "outputs": [
    {
     "data": {
      "text/plain": [
       "True"
      ]
     },
     "execution_count": 68,
     "metadata": {},
     "output_type": "execute_result"
    }
   ],
   "source": [
    "iso_dfa(MinC_CdfaOdd1sORCends0101, Minodd1sANDends0101)"
   ]
  },
  {
   "cell_type": "markdown",
   "metadata": {
    "run_control": {
     "frozen": false,
     "read_only": false
    }
   },
   "source": [
    "# These are some examples from the book"
   ]
  },
  {
   "cell_type": "code",
   "execution_count": 69,
   "metadata": {
    "run_control": {
     "frozen": false,
     "read_only": false
    }
   },
   "outputs": [],
   "source": [
    "blimp = md2mc('''\n",
    "DFA \n",
    "I1 : a -> F2\n",
    "I1 : b -> F3\n",
    "F2 : a -> S8\n",
    "F2 : b -> S5\n",
    "F3 : a -> S7\n",
    "F3 : b -> S4\n",
    "S4 : a | b -> F6\n",
    "S5 : a | b -> F6\n",
    "F6 : a | b -> F6\n",
    "S7 : a | b -> F6\n",
    "S8 : a -> F6\n",
    "S8 : b -> F9\n",
    "F9 : a -> F9\n",
    "F9 : b -> F6\n",
    "''')"
   ]
  },
  {
   "cell_type": "code",
   "execution_count": 70,
   "metadata": {
    "run_control": {
     "frozen": false,
     "read_only": false
    }
   },
   "outputs": [],
   "source": [
    "dblimp = dotObj_dfa(blimp)"
   ]
  },
  {
   "cell_type": "code",
   "execution_count": 71,
   "metadata": {
    "run_control": {
     "frozen": false,
     "read_only": false
    }
   },
   "outputs": [
    {
     "data": {
      "image/svg+xml": [
       "<?xml version=\"1.0\" encoding=\"UTF-8\" standalone=\"no\"?>\n",
       "<!DOCTYPE svg PUBLIC \"-//W3C//DTD SVG 1.1//EN\"\n",
       " \"http://www.w3.org/Graphics/SVG/1.1/DTD/svg11.dtd\">\n",
       "<!-- Generated by graphviz version 2.38.0 (20140413.2041)\n",
       " -->\n",
       "<!-- Title: %3 Pages: 1 -->\n",
       "<svg width=\"493pt\" height=\"335pt\"\n",
       " viewBox=\"0.00 0.00 493.00 335.45\" xmlns=\"http://www.w3.org/2000/svg\" xmlns:xlink=\"http://www.w3.org/1999/xlink\">\n",
       "<g id=\"graph0\" class=\"graph\" transform=\"scale(1 1) rotate(0) translate(4 331.447)\">\n",
       "<title>%3</title>\n",
       "<polygon fill=\"white\" stroke=\"none\" points=\"-4,4 -4,-331.447 489.003,-331.447 489.003,4 -4,4\"/>\n",
       "<!-- EMPTY -->\n",
       "<g id=\"node1\" class=\"node\"><title>EMPTY</title>\n",
       "</g>\n",
       "<!-- I1 -->\n",
       "<g id=\"node2\" class=\"node\"><title>I1</title>\n",
       "<ellipse fill=\"none\" stroke=\"black\" cx=\"109\" cy=\"-209.447\" rx=\"18\" ry=\"18\"/>\n",
       "<text text-anchor=\"middle\" x=\"109\" y=\"-205.247\" font-family=\"Times,serif\" font-size=\"14.00\">I1</text>\n",
       "</g>\n",
       "<!-- EMPTY&#45;&gt;I1 -->\n",
       "<g id=\"edge1\" class=\"edge\"><title>EMPTY&#45;&gt;I1</title>\n",
       "<path fill=\"none\" stroke=\"black\" d=\"M54.195,-209.447C62.6538,-209.447 72.0513,-209.447 80.5951,-209.447\"/>\n",
       "<polygon fill=\"black\" stroke=\"black\" points=\"80.8257,-212.947 90.8257,-209.447 80.8257,-205.947 80.8257,-212.947\"/>\n",
       "</g>\n",
       "<!-- F3 -->\n",
       "<g id=\"node8\" class=\"node\"><title>F3</title>\n",
       "<ellipse fill=\"none\" stroke=\"black\" cx=\"281.768\" cy=\"-237.447\" rx=\"19.4029\" ry=\"19.4029\"/>\n",
       "<ellipse fill=\"none\" stroke=\"black\" cx=\"281.768\" cy=\"-237.447\" rx=\"23.3939\" ry=\"23.3939\"/>\n",
       "<text text-anchor=\"middle\" x=\"281.768\" y=\"-233.247\" font-family=\"Times,serif\" font-size=\"14.00\">F3</text>\n",
       "</g>\n",
       "<!-- I1&#45;&gt;F3 -->\n",
       "<g id=\"edge3\" class=\"edge\"><title>I1&#45;&gt;F3</title>\n",
       "<path fill=\"none\" stroke=\"black\" d=\"M126.998,-212.234C155.255,-216.867 212.347,-226.228 248.455,-232.149\"/>\n",
       "<polygon fill=\"black\" stroke=\"black\" points=\"248.053,-235.629 258.487,-233.794 249.185,-228.722 248.053,-235.629\"/>\n",
       "<text text-anchor=\"middle\" x=\"192.661\" y=\"-230.247\" font-family=\"Times,serif\" font-size=\"14.00\">b</text>\n",
       "</g>\n",
       "<!-- F2 -->\n",
       "<g id=\"node10\" class=\"node\"><title>F2</title>\n",
       "<ellipse fill=\"none\" stroke=\"black\" cx=\"192.661\" cy=\"-171.447\" rx=\"19.4029\" ry=\"19.4029\"/>\n",
       "<ellipse fill=\"none\" stroke=\"black\" cx=\"192.661\" cy=\"-171.447\" rx=\"23.3939\" ry=\"23.3939\"/>\n",
       "<text text-anchor=\"middle\" x=\"192.661\" y=\"-167.247\" font-family=\"Times,serif\" font-size=\"14.00\">F2</text>\n",
       "</g>\n",
       "<!-- I1&#45;&gt;F2 -->\n",
       "<g id=\"edge2\" class=\"edge\"><title>I1&#45;&gt;F2</title>\n",
       "<path fill=\"none\" stroke=\"black\" d=\"M125.745,-202.12C135.912,-197.389 149.466,-191.082 161.639,-185.417\"/>\n",
       "<polygon fill=\"black\" stroke=\"black\" points=\"163.425,-188.447 171.015,-181.054 160.472,-182.1 163.425,-188.447\"/>\n",
       "<text text-anchor=\"middle\" x=\"148.107\" y=\"-196.247\" font-family=\"Times,serif\" font-size=\"14.00\">a</text>\n",
       "</g>\n",
       "<!-- S7 -->\n",
       "<g id=\"node3\" class=\"node\"><title>S7</title>\n",
       "<ellipse fill=\"none\" stroke=\"black\" cx=\"371.662\" cy=\"-295.447\" rx=\"19.3939\" ry=\"19.3939\"/>\n",
       "<text text-anchor=\"middle\" x=\"371.662\" y=\"-291.247\" font-family=\"Times,serif\" font-size=\"14.00\">S7</text>\n",
       "</g>\n",
       "<!-- F6 -->\n",
       "<g id=\"node7\" class=\"node\"><title>F6</title>\n",
       "<ellipse fill=\"none\" stroke=\"black\" cx=\"461.556\" cy=\"-202.447\" rx=\"19.4029\" ry=\"19.4029\"/>\n",
       "<ellipse fill=\"none\" stroke=\"black\" cx=\"461.556\" cy=\"-202.447\" rx=\"23.3939\" ry=\"23.3939\"/>\n",
       "<text text-anchor=\"middle\" x=\"461.556\" y=\"-198.247\" font-family=\"Times,serif\" font-size=\"14.00\">F6</text>\n",
       "</g>\n",
       "<!-- S7&#45;&gt;F6 -->\n",
       "<g id=\"edge14\" class=\"edge\"><title>S7&#45;&gt;F6</title>\n",
       "<path fill=\"none\" stroke=\"black\" d=\"M387.8,-306.657C397.666,-312.489 410.453,-317.141 420.109,-310.447 444.008,-293.877 453.808,-261.342 457.815,-236.293\"/>\n",
       "<polygon fill=\"black\" stroke=\"black\" points=\"461.323,-236.465 459.201,-226.085 454.387,-235.523 461.323,-236.465\"/>\n",
       "<text text-anchor=\"middle\" x=\"416.609\" y=\"-316.247\" font-family=\"Times,serif\" font-size=\"14.00\">a</text>\n",
       "</g>\n",
       "<!-- S7&#45;&gt;F6 -->\n",
       "<g id=\"edge15\" class=\"edge\"><title>S7&#45;&gt;F6</title>\n",
       "<path fill=\"none\" stroke=\"black\" d=\"M387.992,-284.354C397.699,-276.977 410.236,-266.776 420.109,-256.447 427.898,-248.298 435.548,-238.644 442.061,-229.768\"/>\n",
       "<polygon fill=\"black\" stroke=\"black\" points=\"444.953,-231.741 447.925,-221.572 439.26,-227.668 444.953,-231.741\"/>\n",
       "<text text-anchor=\"middle\" x=\"416.609\" y=\"-265.247\" font-family=\"Times,serif\" font-size=\"14.00\">b</text>\n",
       "</g>\n",
       "<!-- S5 -->\n",
       "<g id=\"node4\" class=\"node\"><title>S5</title>\n",
       "<ellipse fill=\"none\" stroke=\"black\" cx=\"371.662\" cy=\"-171.447\" rx=\"19.3939\" ry=\"19.3939\"/>\n",
       "<text text-anchor=\"middle\" x=\"371.662\" y=\"-167.247\" font-family=\"Times,serif\" font-size=\"14.00\">S5</text>\n",
       "</g>\n",
       "<!-- S5&#45;&gt;F6 -->\n",
       "<g id=\"edge10\" class=\"edge\"><title>S5&#45;&gt;F6</title>\n",
       "<path fill=\"none\" stroke=\"black\" d=\"M390.838,-176.299C399.736,-178.804 410.563,-182.044 420.109,-185.447 423.439,-186.634 426.89,-187.949 430.31,-189.307\"/>\n",
       "<polygon fill=\"black\" stroke=\"black\" points=\"429.157,-192.617 439.737,-193.176 431.815,-186.141 429.157,-192.617\"/>\n",
       "<text text-anchor=\"middle\" x=\"416.609\" y=\"-188.247\" font-family=\"Times,serif\" font-size=\"14.00\">a</text>\n",
       "</g>\n",
       "<!-- S5&#45;&gt;F6 -->\n",
       "<g id=\"edge11\" class=\"edge\"><title>S5&#45;&gt;F6</title>\n",
       "<path fill=\"none\" stroke=\"black\" d=\"M390.291,-165.222C399.448,-162.97 410.667,-161.78 420.109,-165.447 426.904,-168.086 433.253,-172.458 438.816,-177.29\"/>\n",
       "<polygon fill=\"black\" stroke=\"black\" points=\"436.729,-180.139 446.363,-184.549 441.582,-175.094 436.729,-180.139\"/>\n",
       "<text text-anchor=\"middle\" x=\"416.609\" y=\"-168.247\" font-family=\"Times,serif\" font-size=\"14.00\">b</text>\n",
       "</g>\n",
       "<!-- S4 -->\n",
       "<g id=\"node5\" class=\"node\"><title>S4</title>\n",
       "<ellipse fill=\"none\" stroke=\"black\" cx=\"371.662\" cy=\"-237.447\" rx=\"19.3939\" ry=\"19.3939\"/>\n",
       "<text text-anchor=\"middle\" x=\"371.662\" y=\"-233.247\" font-family=\"Times,serif\" font-size=\"14.00\">S4</text>\n",
       "</g>\n",
       "<!-- S4&#45;&gt;F6 -->\n",
       "<g id=\"edge8\" class=\"edge\"><title>S4&#45;&gt;F6</title>\n",
       "<path fill=\"none\" stroke=\"black\" d=\"M391.228,-239.874C400.219,-240.352 411.01,-239.872 420.109,-236.447 426.306,-234.114 432.225,-230.393 437.529,-226.253\"/>\n",
       "<polygon fill=\"black\" stroke=\"black\" points=\"440.024,-228.722 445.31,-219.54 435.452,-223.422 440.024,-228.722\"/>\n",
       "<text text-anchor=\"middle\" x=\"416.609\" y=\"-241.247\" font-family=\"Times,serif\" font-size=\"14.00\">a</text>\n",
       "</g>\n",
       "<!-- S4&#45;&gt;F6 -->\n",
       "<g id=\"edge9\" class=\"edge\"><title>S4&#45;&gt;F6</title>\n",
       "<path fill=\"none\" stroke=\"black\" d=\"M389.397,-229.062C396.609,-225.585 405.191,-221.63 413.109,-218.447 418.122,-216.432 423.498,-214.452 428.765,-212.609\"/>\n",
       "<polygon fill=\"black\" stroke=\"black\" points=\"430.29,-215.788 438.635,-209.261 428.041,-209.159 430.29,-215.788\"/>\n",
       "<text text-anchor=\"middle\" x=\"416.609\" y=\"-221.247\" font-family=\"Times,serif\" font-size=\"14.00\">b</text>\n",
       "</g>\n",
       "<!-- S8 -->\n",
       "<g id=\"node6\" class=\"node\"><title>S8</title>\n",
       "<ellipse fill=\"none\" stroke=\"black\" cx=\"281.768\" cy=\"-114.447\" rx=\"19.3939\" ry=\"19.3939\"/>\n",
       "<text text-anchor=\"middle\" x=\"281.768\" y=\"-110.247\" font-family=\"Times,serif\" font-size=\"14.00\">S8</text>\n",
       "</g>\n",
       "<!-- S8&#45;&gt;F6 -->\n",
       "<g id=\"edge16\" class=\"edge\"><title>S8&#45;&gt;F6</title>\n",
       "<path fill=\"none\" stroke=\"black\" d=\"M301.453,-113.123C324.762,-112.295 365.189,-113.629 395.109,-129.447 414.662,-139.784 431.226,-158.434 442.799,-174.295\"/>\n",
       "<polygon fill=\"black\" stroke=\"black\" points=\"440.108,-176.554 448.702,-182.75 445.847,-172.547 440.108,-176.554\"/>\n",
       "<text text-anchor=\"middle\" x=\"371.662\" y=\"-132.247\" font-family=\"Times,serif\" font-size=\"14.00\">a</text>\n",
       "</g>\n",
       "<!-- F9 -->\n",
       "<g id=\"node9\" class=\"node\"><title>F9</title>\n",
       "<ellipse fill=\"none\" stroke=\"black\" cx=\"371.662\" cy=\"-23.4469\" rx=\"19.4029\" ry=\"19.4029\"/>\n",
       "<ellipse fill=\"none\" stroke=\"black\" cx=\"371.662\" cy=\"-23.4469\" rx=\"23.3939\" ry=\"23.3939\"/>\n",
       "<text text-anchor=\"middle\" x=\"371.662\" y=\"-19.2469\" font-family=\"Times,serif\" font-size=\"14.00\">F9</text>\n",
       "</g>\n",
       "<!-- S8&#45;&gt;F9 -->\n",
       "<g id=\"edge17\" class=\"edge\"><title>S8&#45;&gt;F9</title>\n",
       "<path fill=\"none\" stroke=\"black\" d=\"M296.117,-100.626C309.777,-86.4835 331.266,-64.235 347.67,-47.2516\"/>\n",
       "<polygon fill=\"black\" stroke=\"black\" points=\"350.373,-49.4913 354.802,-39.867 345.338,-44.6282 350.373,-49.4913\"/>\n",
       "<text text-anchor=\"middle\" x=\"326.715\" y=\"-75.2469\" font-family=\"Times,serif\" font-size=\"14.00\">b</text>\n",
       "</g>\n",
       "<!-- F6&#45;&gt;F6 -->\n",
       "<g id=\"edge12\" class=\"edge\"><title>F6&#45;&gt;F6</title>\n",
       "<path fill=\"none\" stroke=\"black\" d=\"M457.467,-225.881C457.185,-235.63 458.548,-243.894 461.556,-243.894 463.389,-243.894 464.611,-240.825 465.222,-236.222\"/>\n",
       "<polygon fill=\"black\" stroke=\"black\" points=\"468.733,-236.016 465.645,-225.881 461.739,-235.73 468.733,-236.016\"/>\n",
       "<text text-anchor=\"middle\" x=\"461.556\" y=\"-246.694\" font-family=\"Times,serif\" font-size=\"14.00\">a</text>\n",
       "</g>\n",
       "<!-- F6&#45;&gt;F6 -->\n",
       "<g id=\"edge13\" class=\"edge\"><title>F6&#45;&gt;F6</title>\n",
       "<path fill=\"none\" stroke=\"black\" d=\"M454.466,-225.015C451.63,-243.162 453.993,-261.894 461.556,-261.894 467.7,-261.894 470.413,-249.528 469.693,-235.157\"/>\n",
       "<polygon fill=\"black\" stroke=\"black\" points=\"473.154,-234.603 468.646,-225.015 466.191,-235.322 473.154,-234.603\"/>\n",
       "<text text-anchor=\"middle\" x=\"461.556\" y=\"-264.694\" font-family=\"Times,serif\" font-size=\"14.00\">b</text>\n",
       "</g>\n",
       "<!-- F3&#45;&gt;S7 -->\n",
       "<g id=\"edge6\" class=\"edge\"><title>F3&#45;&gt;S7</title>\n",
       "<path fill=\"none\" stroke=\"black\" d=\"M301.84,-250.032C314.845,-258.614 332.183,-270.055 346.203,-279.307\"/>\n",
       "<polygon fill=\"black\" stroke=\"black\" points=\"344.584,-282.431 354.858,-285.018 348.439,-276.589 344.584,-282.431\"/>\n",
       "<text text-anchor=\"middle\" x=\"326.715\" y=\"-271.247\" font-family=\"Times,serif\" font-size=\"14.00\">a</text>\n",
       "</g>\n",
       "<!-- F3&#45;&gt;S4 -->\n",
       "<g id=\"edge7\" class=\"edge\"><title>F3&#45;&gt;S4</title>\n",
       "<path fill=\"none\" stroke=\"black\" d=\"M305.403,-237.447C316.463,-237.447 329.899,-237.447 341.698,-237.447\"/>\n",
       "<polygon fill=\"black\" stroke=\"black\" points=\"341.958,-240.947 351.958,-237.447 341.958,-233.947 341.958,-240.947\"/>\n",
       "<text text-anchor=\"middle\" x=\"326.715\" y=\"-240.247\" font-family=\"Times,serif\" font-size=\"14.00\">b</text>\n",
       "</g>\n",
       "<!-- F9&#45;&gt;F6 -->\n",
       "<g id=\"edge19\" class=\"edge\"><title>F9&#45;&gt;F6</title>\n",
       "<path fill=\"none\" stroke=\"black\" d=\"M387.938,-40.6391C398.116,-52.7743 411.208,-69.7792 420.109,-86.4469 434.438,-113.279 445.355,-146.219 452.215,-170.132\"/>\n",
       "<polygon fill=\"black\" stroke=\"black\" points=\"448.848,-171.091 454.904,-179.784 455.591,-169.212 448.848,-171.091\"/>\n",
       "<text text-anchor=\"middle\" x=\"416.609\" y=\"-89.2469\" font-family=\"Times,serif\" font-size=\"14.00\">b</text>\n",
       "</g>\n",
       "<!-- F9&#45;&gt;F9 -->\n",
       "<g id=\"edge18\" class=\"edge\"><title>F9&#45;&gt;F9</title>\n",
       "<path fill=\"none\" stroke=\"black\" d=\"M363.575,-45.6203C362.693,-55.9065 365.389,-64.8937 371.662,-64.8937 375.681,-64.8937 378.232,-61.2054 379.314,-55.85\"/>\n",
       "<polygon fill=\"black\" stroke=\"black\" points=\"382.821,-55.7601 379.749,-45.6203 375.827,-55.4625 382.821,-55.7601\"/>\n",
       "<text text-anchor=\"middle\" x=\"371.662\" y=\"-67.6937\" font-family=\"Times,serif\" font-size=\"14.00\">a</text>\n",
       "</g>\n",
       "<!-- F2&#45;&gt;S5 -->\n",
       "<g id=\"edge5\" class=\"edge\"><title>F2&#45;&gt;S5</title>\n",
       "<path fill=\"none\" stroke=\"black\" d=\"M216.438,-171.447C248.508,-171.447 306.955,-171.447 341.957,-171.447\"/>\n",
       "<polygon fill=\"black\" stroke=\"black\" points=\"342.012,-174.947 352.012,-171.447 342.012,-167.947 342.012,-174.947\"/>\n",
       "<text text-anchor=\"middle\" x=\"281.768\" y=\"-174.247\" font-family=\"Times,serif\" font-size=\"14.00\">b</text>\n",
       "</g>\n",
       "<!-- F2&#45;&gt;S8 -->\n",
       "<g id=\"edge4\" class=\"edge\"><title>F2&#45;&gt;S8</title>\n",
       "<path fill=\"none\" stroke=\"black\" d=\"M212.46,-158.147C219.234,-153.43 226.968,-148.133 234.108,-143.447 241.172,-138.81 248.935,-133.91 256.067,-129.483\"/>\n",
       "<polygon fill=\"black\" stroke=\"black\" points=\"257.987,-132.412 264.664,-124.185 254.314,-126.452 257.987,-132.412\"/>\n",
       "<text text-anchor=\"middle\" x=\"237.215\" y=\"-146.247\" font-family=\"Times,serif\" font-size=\"14.00\">a</text>\n",
       "</g>\n",
       "</g>\n",
       "</svg>\n"
      ],
      "text/plain": [
       "<graphviz.dot.Digraph at 0x1116415c0>"
      ]
     },
     "execution_count": 71,
     "metadata": {},
     "output_type": "execute_result"
    }
   ],
   "source": [
    "dblimp"
   ]
  },
  {
   "cell_type": "code",
   "execution_count": 72,
   "metadata": {
    "run_control": {
     "frozen": false,
     "read_only": false
    }
   },
   "outputs": [],
   "source": [
    "dblimp = dotObj_dfa(blimp, FuseEdges=True)"
   ]
  },
  {
   "cell_type": "code",
   "execution_count": 73,
   "metadata": {
    "run_control": {
     "frozen": false,
     "read_only": false
    }
   },
   "outputs": [
    {
     "data": {
      "image/svg+xml": [
       "<?xml version=\"1.0\" encoding=\"UTF-8\" standalone=\"no\"?>\n",
       "<!DOCTYPE svg PUBLIC \"-//W3C//DTD SVG 1.1//EN\"\n",
       " \"http://www.w3.org/Graphics/SVG/1.1/DTD/svg11.dtd\">\n",
       "<!-- Generated by graphviz version 2.38.0 (20140413.2041)\n",
       " -->\n",
       "<!-- Title: %3 Pages: 1 -->\n",
       "<svg width=\"529pt\" height=\"314pt\"\n",
       " viewBox=\"0.00 0.00 529.18 313.89\" xmlns=\"http://www.w3.org/2000/svg\" xmlns:xlink=\"http://www.w3.org/1999/xlink\">\n",
       "<g id=\"graph0\" class=\"graph\" transform=\"scale(1 1) rotate(0) translate(4 309.894)\">\n",
       "<title>%3</title>\n",
       "<polygon fill=\"white\" stroke=\"none\" points=\"-4,4 -4,-309.894 525.183,-309.894 525.183,4 -4,4\"/>\n",
       "<!-- EMPTY -->\n",
       "<g id=\"node1\" class=\"node\"><title>EMPTY</title>\n",
       "</g>\n",
       "<!-- I1 -->\n",
       "<g id=\"node2\" class=\"node\"><title>I1</title>\n",
       "<ellipse fill=\"none\" stroke=\"black\" cx=\"109\" cy=\"-203.447\" rx=\"18\" ry=\"18\"/>\n",
       "<text text-anchor=\"middle\" x=\"109\" y=\"-199.247\" font-family=\"Times,serif\" font-size=\"14.00\">I1</text>\n",
       "</g>\n",
       "<!-- EMPTY&#45;&gt;I1 -->\n",
       "<g id=\"edge1\" class=\"edge\"><title>EMPTY&#45;&gt;I1</title>\n",
       "<path fill=\"none\" stroke=\"black\" d=\"M54.195,-203.447C62.6538,-203.447 72.0513,-203.447 80.5951,-203.447\"/>\n",
       "<polygon fill=\"black\" stroke=\"black\" points=\"80.8257,-206.947 90.8257,-203.447 80.8257,-199.947 80.8257,-206.947\"/>\n",
       "</g>\n",
       "<!-- F3 -->\n",
       "<g id=\"node8\" class=\"node\"><title>F3</title>\n",
       "<ellipse fill=\"none\" stroke=\"black\" cx=\"282.554\" cy=\"-229.447\" rx=\"19.4029\" ry=\"19.4029\"/>\n",
       "<ellipse fill=\"none\" stroke=\"black\" cx=\"282.554\" cy=\"-229.447\" rx=\"23.3939\" ry=\"23.3939\"/>\n",
       "<text text-anchor=\"middle\" x=\"282.554\" y=\"-225.247\" font-family=\"Times,serif\" font-size=\"14.00\">F3</text>\n",
       "</g>\n",
       "<!-- I1&#45;&gt;F3 -->\n",
       "<g id=\"edge3\" class=\"edge\"><title>I1&#45;&gt;F3</title>\n",
       "<path fill=\"none\" stroke=\"black\" d=\"M127.076,-206.035C155.463,-210.337 212.818,-219.029 249.093,-224.527\"/>\n",
       "<polygon fill=\"black\" stroke=\"black\" points=\"248.759,-228.016 259.171,-226.054 249.808,-221.095 248.759,-228.016\"/>\n",
       "<text text-anchor=\"middle\" x=\"192.661\" y=\"-223.247\" font-family=\"Times,serif\" font-size=\"14.00\">b</text>\n",
       "</g>\n",
       "<!-- F2 -->\n",
       "<g id=\"node10\" class=\"node\"><title>F2</title>\n",
       "<ellipse fill=\"none\" stroke=\"black\" cx=\"192.661\" cy=\"-164.447\" rx=\"19.4029\" ry=\"19.4029\"/>\n",
       "<ellipse fill=\"none\" stroke=\"black\" cx=\"192.661\" cy=\"-164.447\" rx=\"23.3939\" ry=\"23.3939\"/>\n",
       "<text text-anchor=\"middle\" x=\"192.661\" y=\"-160.247\" font-family=\"Times,serif\" font-size=\"14.00\">F2</text>\n",
       "</g>\n",
       "<!-- I1&#45;&gt;F2 -->\n",
       "<g id=\"edge2\" class=\"edge\"><title>I1&#45;&gt;F2</title>\n",
       "<path fill=\"none\" stroke=\"black\" d=\"M125.745,-195.927C136.086,-190.988 149.932,-184.376 162.265,-178.486\"/>\n",
       "<polygon fill=\"black\" stroke=\"black\" points=\"163.802,-181.63 171.317,-174.163 160.785,-175.314 163.802,-181.63\"/>\n",
       "<text text-anchor=\"middle\" x=\"148.107\" y=\"-189.247\" font-family=\"Times,serif\" font-size=\"14.00\">a</text>\n",
       "</g>\n",
       "<!-- S7 -->\n",
       "<g id=\"node3\" class=\"node\"><title>S7</title>\n",
       "<ellipse fill=\"none\" stroke=\"black\" cx=\"404.342\" cy=\"-286.447\" rx=\"19.3939\" ry=\"19.3939\"/>\n",
       "<text text-anchor=\"middle\" x=\"404.342\" y=\"-282.247\" font-family=\"Times,serif\" font-size=\"14.00\">S7</text>\n",
       "</g>\n",
       "<!-- F6 -->\n",
       "<g id=\"node7\" class=\"node\"><title>F6</title>\n",
       "<ellipse fill=\"none\" stroke=\"black\" cx=\"497.736\" cy=\"-164.447\" rx=\"19.4029\" ry=\"19.4029\"/>\n",
       "<ellipse fill=\"none\" stroke=\"black\" cx=\"497.736\" cy=\"-164.447\" rx=\"23.3939\" ry=\"23.3939\"/>\n",
       "<text text-anchor=\"middle\" x=\"497.736\" y=\"-160.247\" font-family=\"Times,serif\" font-size=\"14.00\">F6</text>\n",
       "</g>\n",
       "<!-- S7&#45;&gt;F6 -->\n",
       "<g id=\"edge11\" class=\"edge\"><title>S7&#45;&gt;F6</title>\n",
       "<path fill=\"none\" stroke=\"black\" d=\"M419.148,-273.12C429.898,-262.384 444.862,-246.63 456.289,-231.447 465.208,-219.595 473.876,-205.667 480.885,-193.589\"/>\n",
       "<polygon fill=\"black\" stroke=\"black\" points=\"483.994,-195.201 485.897,-184.778 477.91,-191.739 483.994,-195.201\"/>\n",
       "<text text-anchor=\"middle\" x=\"451.039\" y=\"-261.247\" font-family=\"Times,serif\" font-size=\"14.00\">a </text>\n",
       "<text text-anchor=\"middle\" x=\"451.039\" y=\"-247.247\" font-family=\"Times,serif\" font-size=\"14.00\"> b</text>\n",
       "</g>\n",
       "<!-- S5 -->\n",
       "<g id=\"node4\" class=\"node\"><title>S5</title>\n",
       "<ellipse fill=\"none\" stroke=\"black\" cx=\"343.448\" cy=\"-164.447\" rx=\"19.3939\" ry=\"19.3939\"/>\n",
       "<text text-anchor=\"middle\" x=\"343.448\" y=\"-160.247\" font-family=\"Times,serif\" font-size=\"14.00\">S5</text>\n",
       "</g>\n",
       "<!-- S5&#45;&gt;F6 -->\n",
       "<g id=\"edge9\" class=\"edge\"><title>S5&#45;&gt;F6</title>\n",
       "<path fill=\"none\" stroke=\"black\" d=\"M363.122,-164.447C388.201,-164.447 433.168,-164.447 463.952,-164.447\"/>\n",
       "<polygon fill=\"black\" stroke=\"black\" points=\"464.193,-167.947 474.193,-164.447 464.193,-160.947 464.193,-167.947\"/>\n",
       "<text text-anchor=\"middle\" x=\"404.342\" y=\"-181.247\" font-family=\"Times,serif\" font-size=\"14.00\">a </text>\n",
       "<text text-anchor=\"middle\" x=\"404.342\" y=\"-167.247\" font-family=\"Times,serif\" font-size=\"14.00\"> b</text>\n",
       "</g>\n",
       "<!-- S4 -->\n",
       "<g id=\"node5\" class=\"node\"><title>S4</title>\n",
       "<ellipse fill=\"none\" stroke=\"black\" cx=\"404.342\" cy=\"-229.447\" rx=\"19.3939\" ry=\"19.3939\"/>\n",
       "<text text-anchor=\"middle\" x=\"404.342\" y=\"-225.247\" font-family=\"Times,serif\" font-size=\"14.00\">S4</text>\n",
       "</g>\n",
       "<!-- S4&#45;&gt;F6 -->\n",
       "<g id=\"edge8\" class=\"edge\"><title>S4&#45;&gt;F6</title>\n",
       "<path fill=\"none\" stroke=\"black\" d=\"M420.846,-218.421C434.166,-208.947 453.683,-195.066 469.588,-183.754\"/>\n",
       "<polygon fill=\"black\" stroke=\"black\" points=\"471.87,-186.426 477.991,-177.778 467.813,-180.722 471.87,-186.426\"/>\n",
       "<text text-anchor=\"middle\" x=\"451.039\" y=\"-216.247\" font-family=\"Times,serif\" font-size=\"14.00\">a </text>\n",
       "<text text-anchor=\"middle\" x=\"451.039\" y=\"-202.247\" font-family=\"Times,serif\" font-size=\"14.00\"> b</text>\n",
       "</g>\n",
       "<!-- S8 -->\n",
       "<g id=\"node6\" class=\"node\"><title>S8</title>\n",
       "<ellipse fill=\"none\" stroke=\"black\" cx=\"282.554\" cy=\"-114.447\" rx=\"19.3939\" ry=\"19.3939\"/>\n",
       "<text text-anchor=\"middle\" x=\"282.554\" y=\"-110.247\" font-family=\"Times,serif\" font-size=\"14.00\">S8</text>\n",
       "</g>\n",
       "<!-- S8&#45;&gt;F6 -->\n",
       "<g id=\"edge12\" class=\"edge\"><title>S8&#45;&gt;F6</title>\n",
       "<path fill=\"none\" stroke=\"black\" d=\"M301.819,-118.272C329.244,-124.067 382.659,-135.554 427.789,-146.447 439.973,-149.388 453.313,-152.821 464.985,-155.895\"/>\n",
       "<polygon fill=\"black\" stroke=\"black\" points=\"464.179,-159.302 474.742,-158.483 465.974,-152.536 464.179,-159.302\"/>\n",
       "<text text-anchor=\"middle\" x=\"404.342\" y=\"-149.247\" font-family=\"Times,serif\" font-size=\"14.00\">a</text>\n",
       "</g>\n",
       "<!-- F9 -->\n",
       "<g id=\"node9\" class=\"node\"><title>F9</title>\n",
       "<ellipse fill=\"none\" stroke=\"black\" cx=\"404.342\" cy=\"-23.4469\" rx=\"19.4029\" ry=\"19.4029\"/>\n",
       "<ellipse fill=\"none\" stroke=\"black\" cx=\"404.342\" cy=\"-23.4469\" rx=\"23.3939\" ry=\"23.3939\"/>\n",
       "<text text-anchor=\"middle\" x=\"404.342\" y=\"-19.2469\" font-family=\"Times,serif\" font-size=\"14.00\">F9</text>\n",
       "</g>\n",
       "<!-- S8&#45;&gt;F9 -->\n",
       "<g id=\"edge13\" class=\"edge\"><title>S8&#45;&gt;F9</title>\n",
       "<path fill=\"none\" stroke=\"black\" d=\"M298.726,-102.922C318.436,-87.9481 353.16,-61.5693 377.165,-43.3328\"/>\n",
       "<polygon fill=\"black\" stroke=\"black\" points=\"379.321,-46.0902 385.167,-37.2539 375.087,-40.5161 379.321,-46.0902\"/>\n",
       "<text text-anchor=\"middle\" x=\"343.448\" y=\"-85.2469\" font-family=\"Times,serif\" font-size=\"14.00\">b</text>\n",
       "</g>\n",
       "<!-- F6&#45;&gt;F6 -->\n",
       "<g id=\"edge10\" class=\"edge\"><title>F6&#45;&gt;F6</title>\n",
       "<path fill=\"none\" stroke=\"black\" d=\"M489.281,-186.62C488.359,-196.906 491.177,-205.894 497.736,-205.894 501.937,-205.894 504.604,-202.205 505.735,-196.85\"/>\n",
       "<polygon fill=\"black\" stroke=\"black\" points=\"509.242,-196.766 506.19,-186.62 502.249,-196.455 509.242,-196.766\"/>\n",
       "<text text-anchor=\"middle\" x=\"497.736\" y=\"-222.694\" font-family=\"Times,serif\" font-size=\"14.00\">a </text>\n",
       "<text text-anchor=\"middle\" x=\"497.736\" y=\"-208.694\" font-family=\"Times,serif\" font-size=\"14.00\"> b</text>\n",
       "</g>\n",
       "<!-- F3&#45;&gt;S7 -->\n",
       "<g id=\"edge6\" class=\"edge\"><title>F3&#45;&gt;S7</title>\n",
       "<path fill=\"none\" stroke=\"black\" d=\"M304.147,-239.246C324.425,-248.895 355.463,-263.664 377.412,-274.108\"/>\n",
       "<polygon fill=\"black\" stroke=\"black\" points=\"375.961,-277.294 386.495,-278.43 378.969,-270.973 375.961,-277.294\"/>\n",
       "<text text-anchor=\"middle\" x=\"343.448\" y=\"-268.247\" font-family=\"Times,serif\" font-size=\"14.00\">a</text>\n",
       "</g>\n",
       "<!-- F3&#45;&gt;S4 -->\n",
       "<g id=\"edge7\" class=\"edge\"><title>F3&#45;&gt;S4</title>\n",
       "<path fill=\"none\" stroke=\"black\" d=\"M306.086,-229.447C325.477,-229.447 353.568,-229.447 374.58,-229.447\"/>\n",
       "<polygon fill=\"black\" stroke=\"black\" points=\"374.839,-232.947 384.839,-229.447 374.839,-225.947 374.839,-232.947\"/>\n",
       "<text text-anchor=\"middle\" x=\"343.448\" y=\"-232.247\" font-family=\"Times,serif\" font-size=\"14.00\">b</text>\n",
       "</g>\n",
       "<!-- F9&#45;&gt;F6 -->\n",
       "<g id=\"edge15\" class=\"edge\"><title>F9&#45;&gt;F6</title>\n",
       "<path fill=\"none\" stroke=\"black\" d=\"M420.604,-40.3784C431.284,-52.6694 445.51,-69.9658 456.289,-86.4469 466.151,-101.527 475.524,-119.298 482.759,-134.065\"/>\n",
       "<polygon fill=\"black\" stroke=\"black\" points=\"479.701,-135.782 487.188,-143.277 486.009,-132.748 479.701,-135.782\"/>\n",
       "<text text-anchor=\"middle\" x=\"451.039\" y=\"-89.2469\" font-family=\"Times,serif\" font-size=\"14.00\">b</text>\n",
       "</g>\n",
       "<!-- F9&#45;&gt;F9 -->\n",
       "<g id=\"edge14\" class=\"edge\"><title>F9&#45;&gt;F9</title>\n",
       "<path fill=\"none\" stroke=\"black\" d=\"M395.887,-45.6203C394.965,-55.9065 397.783,-64.8937 404.342,-64.8937 408.544,-64.8937 411.21,-61.2054 412.341,-55.85\"/>\n",
       "<polygon fill=\"black\" stroke=\"black\" points=\"415.849,-55.766 412.796,-45.6203 408.855,-55.4549 415.849,-55.766\"/>\n",
       "<text text-anchor=\"middle\" x=\"404.342\" y=\"-67.6937\" font-family=\"Times,serif\" font-size=\"14.00\">a</text>\n",
       "</g>\n",
       "<!-- F2&#45;&gt;S5 -->\n",
       "<g id=\"edge5\" class=\"edge\"><title>F2&#45;&gt;S5</title>\n",
       "<path fill=\"none\" stroke=\"black\" d=\"M216.258,-164.447C242.353,-164.447 285.327,-164.447 313.76,-164.447\"/>\n",
       "<polygon fill=\"black\" stroke=\"black\" points=\"313.879,-167.947 323.879,-164.447 313.879,-160.947 313.879,-167.947\"/>\n",
       "<text text-anchor=\"middle\" x=\"237.608\" y=\"-167.247\" font-family=\"Times,serif\" font-size=\"14.00\">b</text>\n",
       "</g>\n",
       "<!-- F2&#45;&gt;S8 -->\n",
       "<g id=\"edge4\" class=\"edge\"><title>F2&#45;&gt;S8</title>\n",
       "<path fill=\"none\" stroke=\"black\" d=\"M209.302,-147.575C216.329,-140.822 225.068,-133.469 234.108,-128.447 240.02,-125.162 246.784,-122.574 253.318,-120.564\"/>\n",
       "<polygon fill=\"black\" stroke=\"black\" points=\"254.507,-123.867 263.238,-117.864 252.67,-117.113 254.507,-123.867\"/>\n",
       "<text text-anchor=\"middle\" x=\"237.608\" y=\"-131.247\" font-family=\"Times,serif\" font-size=\"14.00\">a</text>\n",
       "</g>\n",
       "</g>\n",
       "</svg>\n"
      ],
      "text/plain": [
       "<graphviz.dot.Digraph at 0x1118c3668>"
      ]
     },
     "execution_count": 73,
     "metadata": {},
     "output_type": "execute_result"
    }
   ],
   "source": [
    "dblimp"
   ]
  },
  {
   "cell_type": "code",
   "execution_count": 74,
   "metadata": {
    "run_control": {
     "frozen": false,
     "read_only": false
    }
   },
   "outputs": [],
   "source": [
    "mblimp = min_dfa(blimp)"
   ]
  },
  {
   "cell_type": "code",
   "execution_count": 75,
   "metadata": {
    "run_control": {
     "frozen": false,
     "read_only": false
    }
   },
   "outputs": [],
   "source": [
    "dmblimp = dotObj_dfa(mblimp)"
   ]
  },
  {
   "cell_type": "code",
   "execution_count": 76,
   "metadata": {
    "run_control": {
     "frozen": false,
     "read_only": false
    }
   },
   "outputs": [
    {
     "data": {
      "image/svg+xml": [
       "<?xml version=\"1.0\" encoding=\"UTF-8\" standalone=\"no\"?>\n",
       "<!DOCTYPE svg PUBLIC \"-//W3C//DTD SVG 1.1//EN\"\n",
       " \"http://www.w3.org/Graphics/SVG/1.1/DTD/svg11.dtd\">\n",
       "<!-- Generated by graphviz version 2.38.0 (20140413.2041)\n",
       " -->\n",
       "<!-- Title: %3 Pages: 1 -->\n",
       "<svg width=\"397pt\" height=\"119pt\"\n",
       " viewBox=\"0.00 0.00 396.68 118.89\" xmlns=\"http://www.w3.org/2000/svg\" xmlns:xlink=\"http://www.w3.org/1999/xlink\">\n",
       "<g id=\"graph0\" class=\"graph\" transform=\"scale(1 1) rotate(0) translate(4 114.894)\">\n",
       "<title>%3</title>\n",
       "<polygon fill=\"white\" stroke=\"none\" points=\"-4,4 -4,-114.894 392.681,-114.894 392.681,4 -4,4\"/>\n",
       "<!-- EMPTY -->\n",
       "<g id=\"node1\" class=\"node\"><title>EMPTY</title>\n",
       "</g>\n",
       "<!-- I1 -->\n",
       "<g id=\"node3\" class=\"node\"><title>I1</title>\n",
       "<ellipse fill=\"none\" stroke=\"black\" cx=\"109\" cy=\"-23.4469\" rx=\"18\" ry=\"18\"/>\n",
       "<text text-anchor=\"middle\" x=\"109\" y=\"-19.2469\" font-family=\"Times,serif\" font-size=\"14.00\">I1</text>\n",
       "</g>\n",
       "<!-- EMPTY&#45;&gt;I1 -->\n",
       "<g id=\"edge1\" class=\"edge\"><title>EMPTY&#45;&gt;I1</title>\n",
       "<path fill=\"none\" stroke=\"black\" d=\"M54.195,-23.4469C62.6538,-23.4469 72.0513,-23.4469 80.5951,-23.4469\"/>\n",
       "<polygon fill=\"black\" stroke=\"black\" points=\"80.8257,-26.947 90.8257,-23.4469 80.8257,-19.947 80.8257,-26.947\"/>\n",
       "</g>\n",
       "<!-- S7 -->\n",
       "<g id=\"node2\" class=\"node\"><title>S7</title>\n",
       "<ellipse fill=\"none\" stroke=\"black\" cx=\"279.341\" cy=\"-23.4469\" rx=\"19.3939\" ry=\"19.3939\"/>\n",
       "<text text-anchor=\"middle\" x=\"279.341\" y=\"-19.2469\" font-family=\"Times,serif\" font-size=\"14.00\">S7</text>\n",
       "</g>\n",
       "<!-- F9 -->\n",
       "<g id=\"node4\" class=\"node\"><title>F9</title>\n",
       "<ellipse fill=\"none\" stroke=\"black\" cx=\"365.234\" cy=\"-23.4469\" rx=\"19.4029\" ry=\"19.4029\"/>\n",
       "<ellipse fill=\"none\" stroke=\"black\" cx=\"365.234\" cy=\"-23.4469\" rx=\"23.3939\" ry=\"23.3939\"/>\n",
       "<text text-anchor=\"middle\" x=\"365.234\" y=\"-19.2469\" font-family=\"Times,serif\" font-size=\"14.00\">F9</text>\n",
       "</g>\n",
       "<!-- S7&#45;&gt;F9 -->\n",
       "<g id=\"edge6\" class=\"edge\"><title>S7&#45;&gt;F9</title>\n",
       "<path fill=\"none\" stroke=\"black\" d=\"M298.959,-23.4469C308.471,-23.4469 320.328,-23.4469 331.318,-23.4469\"/>\n",
       "<polygon fill=\"black\" stroke=\"black\" points=\"331.483,-26.947 341.483,-23.4469 331.483,-19.947 331.483,-26.947\"/>\n",
       "<text text-anchor=\"middle\" x=\"320.287\" y=\"-26.2469\" font-family=\"Times,serif\" font-size=\"14.00\">a</text>\n",
       "</g>\n",
       "<!-- S7&#45;&gt;F9 -->\n",
       "<g id=\"edge7\" class=\"edge\"><title>S7&#45;&gt;F9</title>\n",
       "<path fill=\"none\" stroke=\"black\" d=\"M296.43,-13.5192C302.568,-10.2735 309.778,-7.08348 316.787,-5.44687 323.093,-3.97461 329.689,-4.83152 335.889,-6.80151\"/>\n",
       "<polygon fill=\"black\" stroke=\"black\" points=\"334.628,-10.067 345.207,-10.6386 337.293,-3.5944 334.628,-10.067\"/>\n",
       "<text text-anchor=\"middle\" x=\"320.287\" y=\"-8.24687\" font-family=\"Times,serif\" font-size=\"14.00\">b</text>\n",
       "</g>\n",
       "<!-- F3 -->\n",
       "<g id=\"node5\" class=\"node\"><title>F3</title>\n",
       "<ellipse fill=\"none\" stroke=\"black\" cx=\"193.447\" cy=\"-23.4469\" rx=\"19.4029\" ry=\"19.4029\"/>\n",
       "<ellipse fill=\"none\" stroke=\"black\" cx=\"193.447\" cy=\"-23.4469\" rx=\"23.3939\" ry=\"23.3939\"/>\n",
       "<text text-anchor=\"middle\" x=\"193.447\" y=\"-19.2469\" font-family=\"Times,serif\" font-size=\"14.00\">F3</text>\n",
       "</g>\n",
       "<!-- I1&#45;&gt;F3 -->\n",
       "<g id=\"edge2\" class=\"edge\"><title>I1&#45;&gt;F3</title>\n",
       "<path fill=\"none\" stroke=\"black\" d=\"M127.083,-23.4469C136.448,-23.4469 148.379,-23.4469 159.478,-23.4469\"/>\n",
       "<polygon fill=\"black\" stroke=\"black\" points=\"159.753,-26.947 169.753,-23.4469 159.753,-19.947 159.753,-26.947\"/>\n",
       "<text text-anchor=\"middle\" x=\"148.5\" y=\"-26.2469\" font-family=\"Times,serif\" font-size=\"14.00\">a</text>\n",
       "</g>\n",
       "<!-- I1&#45;&gt;F3 -->\n",
       "<g id=\"edge3\" class=\"edge\"><title>I1&#45;&gt;F3</title>\n",
       "<path fill=\"none\" stroke=\"black\" d=\"M124.717,-13.9046C130.75,-10.5299 137.96,-7.15095 145,-5.44687 151.294,-3.92333 157.885,-4.75841 164.083,-6.72333\"/>\n",
       "<polygon fill=\"black\" stroke=\"black\" points=\"162.823,-9.98936 173.402,-10.5645 165.49,-3.5176 162.823,-9.98936\"/>\n",
       "<text text-anchor=\"middle\" x=\"148.5\" y=\"-8.24687\" font-family=\"Times,serif\" font-size=\"14.00\">b</text>\n",
       "</g>\n",
       "<!-- F9&#45;&gt;F9 -->\n",
       "<g id=\"edge8\" class=\"edge\"><title>F9&#45;&gt;F9</title>\n",
       "<path fill=\"none\" stroke=\"black\" d=\"M361.146,-46.8814C360.864,-56.63 362.227,-64.8937 365.234,-64.8937 367.067,-64.8937 368.289,-61.8251 368.901,-57.2218\"/>\n",
       "<polygon fill=\"black\" stroke=\"black\" points=\"372.412,-57.016 369.323,-46.8814 365.418,-56.7301 372.412,-57.016\"/>\n",
       "<text text-anchor=\"middle\" x=\"365.234\" y=\"-67.6937\" font-family=\"Times,serif\" font-size=\"14.00\">a</text>\n",
       "</g>\n",
       "<!-- F9&#45;&gt;F9 -->\n",
       "<g id=\"edge9\" class=\"edge\"><title>F9&#45;&gt;F9</title>\n",
       "<path fill=\"none\" stroke=\"black\" d=\"M358.144,-46.0152C355.309,-64.1618 357.672,-82.8937 365.234,-82.8937 371.379,-82.8937 374.091,-70.5277 373.371,-56.1571\"/>\n",
       "<polygon fill=\"black\" stroke=\"black\" points=\"376.833,-55.6029 372.324,-46.0152 369.87,-56.3217 376.833,-55.6029\"/>\n",
       "<text text-anchor=\"middle\" x=\"365.234\" y=\"-85.6937\" font-family=\"Times,serif\" font-size=\"14.00\">b</text>\n",
       "</g>\n",
       "<!-- F3&#45;&gt;S7 -->\n",
       "<g id=\"edge4\" class=\"edge\"><title>F3&#45;&gt;S7</title>\n",
       "<path fill=\"none\" stroke=\"black\" d=\"M216.929,-23.4469C226.976,-23.4469 238.937,-23.4469 249.622,-23.4469\"/>\n",
       "<polygon fill=\"black\" stroke=\"black\" points=\"249.764,-26.947 259.764,-23.4469 249.764,-19.947 249.764,-26.947\"/>\n",
       "<text text-anchor=\"middle\" x=\"238.394\" y=\"-26.2469\" font-family=\"Times,serif\" font-size=\"14.00\">a</text>\n",
       "</g>\n",
       "<!-- F3&#45;&gt;S7 -->\n",
       "<g id=\"edge5\" class=\"edge\"><title>F3&#45;&gt;S7</title>\n",
       "<path fill=\"none\" stroke=\"black\" d=\"M213.474,-10.6386C222.002,-6.3683 232.285,-3.20342 241.894,-5.44687 245.618,-6.31632 249.398,-7.62417 253.044,-9.14587\"/>\n",
       "<polygon fill=\"black\" stroke=\"black\" points=\"251.717,-12.39 262.251,-13.5192 254.72,-6.06705 251.717,-12.39\"/>\n",
       "<text text-anchor=\"middle\" x=\"238.394\" y=\"-8.24687\" font-family=\"Times,serif\" font-size=\"14.00\">b</text>\n",
       "</g>\n",
       "</g>\n",
       "</svg>\n"
      ],
      "text/plain": [
       "<graphviz.dot.Digraph at 0x1118c3978>"
      ]
     },
     "execution_count": 76,
     "metadata": {},
     "output_type": "execute_result"
    }
   ],
   "source": [
    "dmblimp"
   ]
  },
  {
   "cell_type": "markdown",
   "metadata": {
    "run_control": {
     "frozen": false,
     "read_only": false
    }
   },
   "source": [
    "# Minimized \"blimp\" machine\n",
    "\n",
    "The minimized blimp machine is indeed quite small.\n"
   ]
  }
 ],
 "metadata": {
  "kernelspec": {
   "display_name": "Python 3",
   "language": "python",
   "name": "python3"
  },
  "language_info": {
   "codemirror_mode": {
    "name": "ipython",
    "version": 3
   },
   "file_extension": ".py",
   "mimetype": "text/x-python",
   "name": "python",
   "nbconvert_exporter": "python",
   "pygments_lexer": "ipython3",
   "version": "3.6.0"
  },
  "toc": {
   "colors": {
    "hover_highlight": "#DAA520",
    "running_highlight": "#FF0000",
    "selected_highlight": "#FFD700"
   },
   "moveMenuLeft": true,
   "nav_menu": {
    "height": "318px",
    "width": "252px"
   },
   "navigate_menu": true,
   "number_sections": true,
   "sideBar": true,
   "threshold": 4,
   "toc_cell": false,
   "toc_section_display": "block",
   "toc_window_display": false,
   "widenNotebook": false
  }
 },
 "nbformat": 4,
 "nbformat_minor": 1
}
