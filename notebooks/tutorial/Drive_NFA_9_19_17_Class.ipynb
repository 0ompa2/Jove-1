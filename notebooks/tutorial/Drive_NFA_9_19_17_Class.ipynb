{
 "cells": [
  {
   "cell_type": "markdown",
   "metadata": {
    "run_control": {
     "frozen": false,
     "read_only": false
    }
   },
   "source": [
    "# Chapter 7 fully illustrated using Jove"
   ]
  },
  {
   "cell_type": "code",
   "execution_count": 1,
   "metadata": {
    "run_control": {
     "frozen": false,
     "read_only": false
    }
   },
   "outputs": [
    {
     "data": {
      "image/jpeg": "[encoded data removed]",
      "text/html": [
       "\n",
       "        <iframe\n",
       "            width=\"400\"\n",
       "            height=\"300\"\n",
       "            src=\"https://www.youtube.com/embed/xjFtLF95uBc\"\n",
       "            frameborder=\"0\"\n",
       "            allowfullscreen\n",
       "        ></iframe>\n",
       "        "
      ],
      "text/plain": [
       "<IPython.lib.display.YouTubeVideo at 0x1063ab160>"
      ]
     },
     "execution_count": 1,
     "metadata": {},
     "output_type": "execute_result"
    }
   ],
   "source": [
    "# PLAY this Youtube to know how to use the contents of this file + follow some of the Def_DFA.ipynb defns\n",
    "\n",
    "from IPython.display import YouTubeVideo\n",
    "YouTubeVideo('xjFtLF95uBc')"
   ]
  },
  {
   "cell_type": "code",
   "execution_count": 2,
   "metadata": {
    "run_control": {
     "frozen": false,
     "read_only": false
    }
   },
   "outputs": [
    {
     "name": "stdout",
     "output_type": "stream",
     "text": [
      "You may use any of these help commands:\n",
      "help(ResetStNum)\n",
      "help(NxtStateStr)\n",
      "\n",
      "You may use any of these help commands:\n",
      "help(md2mc)\n",
      ".. and if you want to dig more, then ..\n",
      "help(default_line_attr)\n",
      "help(length_ok_input_items)\n",
      "help(union_line_attr_list_fld)\n",
      "help(extend_rsltdict)\n",
      "help(form_delta)\n",
      "help(get_machine_components)\n",
      "\n",
      "You may use any of these help commands:\n",
      "help(mkp_dfa)\n",
      "help(mk_dfa)\n",
      "help(totalize_dfa)\n",
      "help(addtosigma_delta)\n",
      "help(step_dfa)\n",
      "help(run_dfa)\n",
      "help(accepts_dfa)\n",
      "help(comp_dfa)\n",
      "help(union_dfa)\n",
      "help(intersect_dfa)\n",
      "help(pruneUnreach)\n",
      "help(iso_dfa)\n",
      "help(langeq_dfa)\n",
      "help(same_status)\n",
      "help(h_langeq_dfa)\n",
      "help(fixptDist)\n",
      "help(min_dfa)\n",
      "help(pairFR)\n",
      "help(state_combos)\n",
      "help(sepFinNonFin)\n",
      "help(bash_eql_classes)\n",
      "help(listminus)\n",
      "help(bash_1)\n",
      "help(mk_rep_eqc)\n",
      "help(F_of)\n",
      "help(rep_of_s)\n",
      "help(q0_of)\n",
      "help(Delta_of)\n",
      "help(mk_state_eqc_name)\n",
      "\n",
      "You may use any of these help commands:\n",
      "help(mk_nfa)\n",
      "help(totalize_nfa)\n",
      "help(step_nfa)\n",
      "help(run_nfa)\n",
      "help(ec_step_nfa)\n",
      "help(Eclosure)\n",
      "help(Echelp)\n",
      "help(accepts_nfa)\n",
      "help(nfa2dfa)\n",
      "help(n2d)\n",
      "help(inSets)\n",
      "help(rev_dfa)\n",
      "help(min_dfa_brz)\n",
      "\n",
      "You may use any of these help commands:\n",
      "help(re2nfa)\n",
      "\n",
      "You may use any of these help commands:\n",
      "help(RE2Str)\n",
      "help(mk_gnfa)\n",
      "help(mk_gnfa_from_D)\n",
      "help(dfa2nfa)\n",
      "help(del_gnfa_states)\n",
      "help(gnfa_w_REStr)\n",
      "help(del_one_gnfa_state)\n",
      "help(Edges_Exist_Via)\n",
      "help(choose_state_to_del)\n",
      "help(form_alt_RE)\n",
      "help(form_concat_RE)\n",
      "help(form_kleene_RE)\n",
      "\n"
     ]
    }
   ],
   "source": [
    "from jove.DotBashers import *\n",
    "from jove.Def_md2mc import *\n",
    "from jove.Def_NFA   import *\n",
    "from jove.Def_DFA   import *\n",
    "from jove.Def_RE2NFA    import *\n",
    "from jove.Def_NFA2RE    import *"
   ]
  },
  {
   "cell_type": "markdown",
   "metadata": {
    "run_control": {
     "frozen": false,
     "read_only": false
    }
   },
   "source": [
    "An NFA is a machine $(Q, \\Sigma, \\delta, Q_0, F)$ which is somewhat like a DFA \n",
    "except that \n",
    "\n",
    "1. It can start from a __set__ of starting states $Q_0$\n",
    "    > i.e., the NFA can start from more than one starting state\n",
    "    \n",
    "2. Its transition function $\\delta$ maps $Q\\times (\\Sigma\\cup \\{\\varepsilon\\})$ to $2^{Q}$\n",
    "    > i.e., the NFA takes a state $Q$ and a symbol and returns a set of states\n",
    "    \n",
    "You can see these aspects being illustrated in the NFA to follow"
   ]
  },
  {
   "cell_type": "markdown",
   "metadata": {
    "run_control": {
     "frozen": false,
     "read_only": false
    }
   },
   "source": [
    "# Limitations of DFA"
   ]
  },
  {
   "cell_type": "code",
   "execution_count": 3,
   "metadata": {
    "run_control": {
     "frozen": false,
     "read_only": false
    }
   },
   "outputs": [
    {
     "data": {
      "image/svg+xml": [
       "<?xml version=\"1.0\" encoding=\"UTF-8\" standalone=\"no\"?>\n",
       "<!DOCTYPE svg PUBLIC \"-//W3C//DTD SVG 1.1//EN\"\n",
       " \"http://www.w3.org/Graphics/SVG/1.1/DTD/svg11.dtd\">\n",
       "<!-- Generated by graphviz version 2.38.0 (20140413.2041)\n",
       " -->\n",
       "<!-- Title: %3 Pages: 1 -->\n",
       "<svg width=\"307pt\" height=\"94pt\"\n",
       " viewBox=\"0.00 0.00 307.39 94.00\" xmlns=\"http://www.w3.org/2000/svg\" xmlns:xlink=\"http://www.w3.org/1999/xlink\">\n",
       "<g id=\"graph0\" class=\"graph\" transform=\"scale(1 1) rotate(0) translate(4 90)\">\n",
       "<title>%3</title>\n",
       "<polygon fill=\"white\" stroke=\"none\" points=\"-4,4 -4,-90 303.394,-90 303.394,4 -4,4\"/>\n",
       "<!-- EMPTY -->\n",
       "<g id=\"node1\" class=\"node\"><title>EMPTY</title>\n",
       "</g>\n",
       "<!-- I -->\n",
       "<g id=\"node3\" class=\"node\"><title>I</title>\n",
       "<ellipse fill=\"none\" stroke=\"black\" cx=\"109\" cy=\"-22\" rx=\"18\" ry=\"18\"/>\n",
       "<text text-anchor=\"middle\" x=\"109\" y=\"-17.8\" font-family=\"Times,serif\" font-size=\"14.00\">I</text>\n",
       "</g>\n",
       "<!-- EMPTY&#45;&gt;I -->\n",
       "<g id=\"edge1\" class=\"edge\"><title>EMPTY&#45;&gt;I</title>\n",
       "<path fill=\"none\" stroke=\"black\" d=\"M54.195,-22C62.6538,-22 72.0513,-22 80.5951,-22\"/>\n",
       "<polygon fill=\"black\" stroke=\"black\" points=\"80.8257,-25.5001 90.8257,-22 80.8257,-18.5001 80.8257,-25.5001\"/>\n",
       "</g>\n",
       "<!-- S0 -->\n",
       "<g id=\"node2\" class=\"node\"><title>S0</title>\n",
       "<ellipse fill=\"none\" stroke=\"black\" cx=\"189.447\" cy=\"-22\" rx=\"19.3939\" ry=\"19.3939\"/>\n",
       "<text text-anchor=\"middle\" x=\"189.447\" y=\"-17.8\" font-family=\"Times,serif\" font-size=\"14.00\">S0</text>\n",
       "</g>\n",
       "<!-- F -->\n",
       "<g id=\"node4\" class=\"node\"><title>F</title>\n",
       "<ellipse fill=\"none\" stroke=\"black\" cx=\"277.394\" cy=\"-22\" rx=\"18\" ry=\"18\"/>\n",
       "<ellipse fill=\"none\" stroke=\"black\" cx=\"277.394\" cy=\"-22\" rx=\"22\" ry=\"22\"/>\n",
       "<text text-anchor=\"middle\" x=\"277.394\" y=\"-17.8\" font-family=\"Times,serif\" font-size=\"14.00\">F</text>\n",
       "</g>\n",
       "<!-- S0&#45;&gt;F -->\n",
       "<g id=\"edge4\" class=\"edge\"><title>S0&#45;&gt;F</title>\n",
       "<path fill=\"none\" stroke=\"black\" d=\"M209.096,-22C219.635,-22 233.084,-22 245.185,-22\"/>\n",
       "<polygon fill=\"black\" stroke=\"black\" points=\"245.365,-25.5001 255.365,-22 245.365,-18.5001 245.365,-25.5001\"/>\n",
       "<text text-anchor=\"middle\" x=\"232.144\" y=\"-38.8\" font-family=\"Times,serif\" font-size=\"14.00\">1 </text>\n",
       "<text text-anchor=\"middle\" x=\"232.144\" y=\"-24.8\" font-family=\"Times,serif\" font-size=\"14.00\"> 0</text>\n",
       "</g>\n",
       "<!-- I&#45;&gt;S0 -->\n",
       "<g id=\"edge3\" class=\"edge\"><title>I&#45;&gt;S0</title>\n",
       "<path fill=\"none\" stroke=\"black\" d=\"M127.022,-22C136.583,-22 148.77,-22 159.763,-22\"/>\n",
       "<polygon fill=\"black\" stroke=\"black\" points=\"159.813,-25.5001 169.813,-22 159.813,-18.5001 159.813,-25.5001\"/>\n",
       "<text text-anchor=\"middle\" x=\"148.5\" y=\"-24.8\" font-family=\"Times,serif\" font-size=\"14.00\">1</text>\n",
       "</g>\n",
       "<!-- I&#45;&gt;I -->\n",
       "<g id=\"edge2\" class=\"edge\"><title>I&#45;&gt;I</title>\n",
       "<path fill=\"none\" stroke=\"black\" d=\"M102.621,-39.0373C101.319,-48.8579 103.445,-58 109,-58 112.472,-58 114.604,-54.4289 115.398,-49.3529\"/>\n",
       "<polygon fill=\"black\" stroke=\"black\" points=\"118.897,-49.031 115.379,-39.0373 111.897,-49.0435 118.897,-49.031\"/>\n",
       "<text text-anchor=\"middle\" x=\"109\" y=\"-74.8\" font-family=\"Times,serif\" font-size=\"14.00\">1 </text>\n",
       "<text text-anchor=\"middle\" x=\"109\" y=\"-60.8\" font-family=\"Times,serif\" font-size=\"14.00\"> 0</text>\n",
       "</g>\n",
       "</g>\n",
       "</svg>\n"
      ],
      "text/plain": [
       "<graphviz.dot.Digraph at 0x106bdaeb8>"
      ]
     },
     "execution_count": 3,
     "metadata": {},
     "output_type": "execute_result"
    }
   ],
   "source": [
    "secondlast = md2mc('''\n",
    "NFA\n",
    "I  : 0 -> I\n",
    "I  : 1 -> I, S0\n",
    "S0 : 0 | 1 -> F\n",
    "''')\n",
    "dotObj_nfa(secondlast, FuseEdges=True)"
   ]
  },
  {
   "cell_type": "code",
   "execution_count": 4,
   "metadata": {
    "run_control": {
     "frozen": false,
     "read_only": false
    }
   },
   "outputs": [
    {
     "data": {
      "image/svg+xml": [
       "<?xml version=\"1.0\" encoding=\"UTF-8\" standalone=\"no\"?>\n",
       "<!DOCTYPE svg PUBLIC \"-//W3C//DTD SVG 1.1//EN\"\n",
       " \"http://www.w3.org/Graphics/SVG/1.1/DTD/svg11.dtd\">\n",
       "<!-- Generated by graphviz version 2.38.0 (20140413.2041)\n",
       " -->\n",
       "<!-- Title: %3 Pages: 1 -->\n",
       "<svg width=\"393pt\" height=\"94pt\"\n",
       " viewBox=\"0.00 0.00 392.79 94.00\" xmlns=\"http://www.w3.org/2000/svg\" xmlns:xlink=\"http://www.w3.org/1999/xlink\">\n",
       "<g id=\"graph0\" class=\"graph\" transform=\"scale(1 1) rotate(0) translate(4 90)\">\n",
       "<title>%3</title>\n",
       "<polygon fill=\"white\" stroke=\"none\" points=\"-4,4 -4,-90 388.787,-90 388.787,4 -4,4\"/>\n",
       "<!-- EMPTY -->\n",
       "<g id=\"node1\" class=\"node\"><title>EMPTY</title>\n",
       "</g>\n",
       "<!-- I -->\n",
       "<g id=\"node4\" class=\"node\"><title>I</title>\n",
       "<ellipse fill=\"none\" stroke=\"black\" cx=\"109\" cy=\"-22\" rx=\"18\" ry=\"18\"/>\n",
       "<text text-anchor=\"middle\" x=\"109\" y=\"-17.8\" font-family=\"Times,serif\" font-size=\"14.00\">I</text>\n",
       "</g>\n",
       "<!-- EMPTY&#45;&gt;I -->\n",
       "<g id=\"edge1\" class=\"edge\"><title>EMPTY&#45;&gt;I</title>\n",
       "<path fill=\"none\" stroke=\"black\" d=\"M54.195,-22C62.6538,-22 72.0513,-22 80.5951,-22\"/>\n",
       "<polygon fill=\"black\" stroke=\"black\" points=\"80.8257,-25.5001 90.8257,-22 80.8257,-18.5001 80.8257,-25.5001\"/>\n",
       "</g>\n",
       "<!-- S0 -->\n",
       "<g id=\"node2\" class=\"node\"><title>S0</title>\n",
       "<ellipse fill=\"none\" stroke=\"black\" cx=\"189.447\" cy=\"-22\" rx=\"19.3939\" ry=\"19.3939\"/>\n",
       "<text text-anchor=\"middle\" x=\"189.447\" y=\"-17.8\" font-family=\"Times,serif\" font-size=\"14.00\">S0</text>\n",
       "</g>\n",
       "<!-- S1 -->\n",
       "<g id=\"node3\" class=\"node\"><title>S1</title>\n",
       "<ellipse fill=\"none\" stroke=\"black\" cx=\"274.841\" cy=\"-22\" rx=\"19.3939\" ry=\"19.3939\"/>\n",
       "<text text-anchor=\"middle\" x=\"274.841\" y=\"-17.8\" font-family=\"Times,serif\" font-size=\"14.00\">S1</text>\n",
       "</g>\n",
       "<!-- S0&#45;&gt;S1 -->\n",
       "<g id=\"edge4\" class=\"edge\"><title>S0&#45;&gt;S1</title>\n",
       "<path fill=\"none\" stroke=\"black\" d=\"M208.955,-22C219.643,-22 233.313,-22 245.347,-22\"/>\n",
       "<polygon fill=\"black\" stroke=\"black\" points=\"245.385,-25.5001 255.385,-22 245.385,-18.5001 245.385,-25.5001\"/>\n",
       "<text text-anchor=\"middle\" x=\"232.144\" y=\"-38.8\" font-family=\"Times,serif\" font-size=\"14.00\">1 </text>\n",
       "<text text-anchor=\"middle\" x=\"232.144\" y=\"-24.8\" font-family=\"Times,serif\" font-size=\"14.00\"> 0</text>\n",
       "</g>\n",
       "<!-- F -->\n",
       "<g id=\"node5\" class=\"node\"><title>F</title>\n",
       "<ellipse fill=\"none\" stroke=\"black\" cx=\"362.787\" cy=\"-22\" rx=\"18\" ry=\"18\"/>\n",
       "<ellipse fill=\"none\" stroke=\"black\" cx=\"362.787\" cy=\"-22\" rx=\"22\" ry=\"22\"/>\n",
       "<text text-anchor=\"middle\" x=\"362.787\" y=\"-17.8\" font-family=\"Times,serif\" font-size=\"14.00\">F</text>\n",
       "</g>\n",
       "<!-- S1&#45;&gt;F -->\n",
       "<g id=\"edge5\" class=\"edge\"><title>S1&#45;&gt;F</title>\n",
       "<path fill=\"none\" stroke=\"black\" d=\"M294.49,-22C305.029,-22 318.478,-22 330.579,-22\"/>\n",
       "<polygon fill=\"black\" stroke=\"black\" points=\"330.759,-25.5001 340.759,-22 330.759,-18.5001 330.759,-25.5001\"/>\n",
       "<text text-anchor=\"middle\" x=\"317.537\" y=\"-38.8\" font-family=\"Times,serif\" font-size=\"14.00\">1 </text>\n",
       "<text text-anchor=\"middle\" x=\"317.537\" y=\"-24.8\" font-family=\"Times,serif\" font-size=\"14.00\"> 0</text>\n",
       "</g>\n",
       "<!-- I&#45;&gt;S0 -->\n",
       "<g id=\"edge3\" class=\"edge\"><title>I&#45;&gt;S0</title>\n",
       "<path fill=\"none\" stroke=\"black\" d=\"M127.022,-22C136.583,-22 148.77,-22 159.763,-22\"/>\n",
       "<polygon fill=\"black\" stroke=\"black\" points=\"159.813,-25.5001 169.813,-22 159.813,-18.5001 159.813,-25.5001\"/>\n",
       "<text text-anchor=\"middle\" x=\"148.5\" y=\"-24.8\" font-family=\"Times,serif\" font-size=\"14.00\">1</text>\n",
       "</g>\n",
       "<!-- I&#45;&gt;I -->\n",
       "<g id=\"edge2\" class=\"edge\"><title>I&#45;&gt;I</title>\n",
       "<path fill=\"none\" stroke=\"black\" d=\"M102.621,-39.0373C101.319,-48.8579 103.445,-58 109,-58 112.472,-58 114.604,-54.4289 115.398,-49.3529\"/>\n",
       "<polygon fill=\"black\" stroke=\"black\" points=\"118.897,-49.031 115.379,-39.0373 111.897,-49.0435 118.897,-49.031\"/>\n",
       "<text text-anchor=\"middle\" x=\"109\" y=\"-74.8\" font-family=\"Times,serif\" font-size=\"14.00\">1 </text>\n",
       "<text text-anchor=\"middle\" x=\"109\" y=\"-60.8\" font-family=\"Times,serif\" font-size=\"14.00\"> 0</text>\n",
       "</g>\n",
       "</g>\n",
       "</svg>\n"
      ],
      "text/plain": [
       "<graphviz.dot.Digraph at 0x106a2c6d8>"
      ]
     },
     "execution_count": 4,
     "metadata": {},
     "output_type": "execute_result"
    }
   ],
   "source": [
    "thirdlast = md2mc('''\n",
    "NFA\n",
    "I  : 0 -> I\n",
    "I  : 1 -> I, S0\n",
    "S0 : 0 | 1 -> S1\n",
    "S1 : 0 | 1 -> F\n",
    "''')\n",
    "dotObj_nfa(thirdlast, FuseEdges=True)"
   ]
  },
  {
   "cell_type": "code",
   "execution_count": 5,
   "metadata": {
    "run_control": {
     "frozen": false,
     "read_only": false
    }
   },
   "outputs": [
    {
     "data": {
      "image/svg+xml": [
       "<?xml version=\"1.0\" encoding=\"UTF-8\" standalone=\"no\"?>\n",
       "<!DOCTYPE svg PUBLIC \"-//W3C//DTD SVG 1.1//EN\"\n",
       " \"http://www.w3.org/Graphics/SVG/1.1/DTD/svg11.dtd\">\n",
       "<!-- Generated by graphviz version 2.38.0 (20140413.2041)\n",
       " -->\n",
       "<!-- Title: %3 Pages: 1 -->\n",
       "<svg width=\"478pt\" height=\"94pt\"\n",
       " viewBox=\"0.00 0.00 478.18 94.00\" xmlns=\"http://www.w3.org/2000/svg\" xmlns:xlink=\"http://www.w3.org/1999/xlink\">\n",
       "<g id=\"graph0\" class=\"graph\" transform=\"scale(1 1) rotate(0) translate(4 90)\">\n",
       "<title>%3</title>\n",
       "<polygon fill=\"white\" stroke=\"none\" points=\"-4,4 -4,-90 474.181,-90 474.181,4 -4,4\"/>\n",
       "<!-- EMPTY -->\n",
       "<g id=\"node1\" class=\"node\"><title>EMPTY</title>\n",
       "</g>\n",
       "<!-- I -->\n",
       "<g id=\"node5\" class=\"node\"><title>I</title>\n",
       "<ellipse fill=\"none\" stroke=\"black\" cx=\"109\" cy=\"-22\" rx=\"18\" ry=\"18\"/>\n",
       "<text text-anchor=\"middle\" x=\"109\" y=\"-17.8\" font-family=\"Times,serif\" font-size=\"14.00\">I</text>\n",
       "</g>\n",
       "<!-- EMPTY&#45;&gt;I -->\n",
       "<g id=\"edge1\" class=\"edge\"><title>EMPTY&#45;&gt;I</title>\n",
       "<path fill=\"none\" stroke=\"black\" d=\"M54.195,-22C62.6538,-22 72.0513,-22 80.5951,-22\"/>\n",
       "<polygon fill=\"black\" stroke=\"black\" points=\"80.8257,-25.5001 90.8257,-22 80.8257,-18.5001 80.8257,-25.5001\"/>\n",
       "</g>\n",
       "<!-- S2 -->\n",
       "<g id=\"node2\" class=\"node\"><title>S2</title>\n",
       "<ellipse fill=\"none\" stroke=\"black\" cx=\"360.234\" cy=\"-22\" rx=\"19.3939\" ry=\"19.3939\"/>\n",
       "<text text-anchor=\"middle\" x=\"360.234\" y=\"-17.8\" font-family=\"Times,serif\" font-size=\"14.00\">S2</text>\n",
       "</g>\n",
       "<!-- F -->\n",
       "<g id=\"node6\" class=\"node\"><title>F</title>\n",
       "<ellipse fill=\"none\" stroke=\"black\" cx=\"448.181\" cy=\"-22\" rx=\"18\" ry=\"18\"/>\n",
       "<ellipse fill=\"none\" stroke=\"black\" cx=\"448.181\" cy=\"-22\" rx=\"22\" ry=\"22\"/>\n",
       "<text text-anchor=\"middle\" x=\"448.181\" y=\"-17.8\" font-family=\"Times,serif\" font-size=\"14.00\">F</text>\n",
       "</g>\n",
       "<!-- S2&#45;&gt;F -->\n",
       "<g id=\"edge6\" class=\"edge\"><title>S2&#45;&gt;F</title>\n",
       "<path fill=\"none\" stroke=\"black\" d=\"M379.884,-22C390.423,-22 403.872,-22 415.973,-22\"/>\n",
       "<polygon fill=\"black\" stroke=\"black\" points=\"416.153,-25.5001 426.153,-22 416.153,-18.5001 416.153,-25.5001\"/>\n",
       "<text text-anchor=\"middle\" x=\"402.931\" y=\"-38.8\" font-family=\"Times,serif\" font-size=\"14.00\">1 </text>\n",
       "<text text-anchor=\"middle\" x=\"402.931\" y=\"-24.8\" font-family=\"Times,serif\" font-size=\"14.00\"> 0</text>\n",
       "</g>\n",
       "<!-- S0 -->\n",
       "<g id=\"node3\" class=\"node\"><title>S0</title>\n",
       "<ellipse fill=\"none\" stroke=\"black\" cx=\"189.447\" cy=\"-22\" rx=\"19.3939\" ry=\"19.3939\"/>\n",
       "<text text-anchor=\"middle\" x=\"189.447\" y=\"-17.8\" font-family=\"Times,serif\" font-size=\"14.00\">S0</text>\n",
       "</g>\n",
       "<!-- S1 -->\n",
       "<g id=\"node4\" class=\"node\"><title>S1</title>\n",
       "<ellipse fill=\"none\" stroke=\"black\" cx=\"274.841\" cy=\"-22\" rx=\"19.3939\" ry=\"19.3939\"/>\n",
       "<text text-anchor=\"middle\" x=\"274.841\" y=\"-17.8\" font-family=\"Times,serif\" font-size=\"14.00\">S1</text>\n",
       "</g>\n",
       "<!-- S0&#45;&gt;S1 -->\n",
       "<g id=\"edge4\" class=\"edge\"><title>S0&#45;&gt;S1</title>\n",
       "<path fill=\"none\" stroke=\"black\" d=\"M208.955,-22C219.643,-22 233.313,-22 245.347,-22\"/>\n",
       "<polygon fill=\"black\" stroke=\"black\" points=\"245.385,-25.5001 255.385,-22 245.385,-18.5001 245.385,-25.5001\"/>\n",
       "<text text-anchor=\"middle\" x=\"232.144\" y=\"-38.8\" font-family=\"Times,serif\" font-size=\"14.00\">1 </text>\n",
       "<text text-anchor=\"middle\" x=\"232.144\" y=\"-24.8\" font-family=\"Times,serif\" font-size=\"14.00\"> 0</text>\n",
       "</g>\n",
       "<!-- S1&#45;&gt;S2 -->\n",
       "<g id=\"edge5\" class=\"edge\"><title>S1&#45;&gt;S2</title>\n",
       "<path fill=\"none\" stroke=\"black\" d=\"M294.348,-22C305.037,-22 318.707,-22 330.74,-22\"/>\n",
       "<polygon fill=\"black\" stroke=\"black\" points=\"330.778,-25.5001 340.778,-22 330.778,-18.5001 330.778,-25.5001\"/>\n",
       "<text text-anchor=\"middle\" x=\"317.537\" y=\"-38.8\" font-family=\"Times,serif\" font-size=\"14.00\">1 </text>\n",
       "<text text-anchor=\"middle\" x=\"317.537\" y=\"-24.8\" font-family=\"Times,serif\" font-size=\"14.00\"> 0</text>\n",
       "</g>\n",
       "<!-- I&#45;&gt;S0 -->\n",
       "<g id=\"edge3\" class=\"edge\"><title>I&#45;&gt;S0</title>\n",
       "<path fill=\"none\" stroke=\"black\" d=\"M127.022,-22C136.583,-22 148.77,-22 159.763,-22\"/>\n",
       "<polygon fill=\"black\" stroke=\"black\" points=\"159.813,-25.5001 169.813,-22 159.813,-18.5001 159.813,-25.5001\"/>\n",
       "<text text-anchor=\"middle\" x=\"148.5\" y=\"-24.8\" font-family=\"Times,serif\" font-size=\"14.00\">1</text>\n",
       "</g>\n",
       "<!-- I&#45;&gt;I -->\n",
       "<g id=\"edge2\" class=\"edge\"><title>I&#45;&gt;I</title>\n",
       "<path fill=\"none\" stroke=\"black\" d=\"M102.621,-39.0373C101.319,-48.8579 103.445,-58 109,-58 112.472,-58 114.604,-54.4289 115.398,-49.3529\"/>\n",
       "<polygon fill=\"black\" stroke=\"black\" points=\"118.897,-49.031 115.379,-39.0373 111.897,-49.0435 118.897,-49.031\"/>\n",
       "<text text-anchor=\"middle\" x=\"109\" y=\"-74.8\" font-family=\"Times,serif\" font-size=\"14.00\">1 </text>\n",
       "<text text-anchor=\"middle\" x=\"109\" y=\"-60.8\" font-family=\"Times,serif\" font-size=\"14.00\"> 0</text>\n",
       "</g>\n",
       "</g>\n",
       "</svg>\n"
      ],
      "text/plain": [
       "<graphviz.dot.Digraph at 0x106bda940>"
      ]
     },
     "execution_count": 5,
     "metadata": {},
     "output_type": "execute_result"
    }
   ],
   "source": [
    "fourthlast = md2mc('''\n",
    "NFA\n",
    "I  : 0 -> I\n",
    "I  : 1 -> I, S0\n",
    "S0 : 0 | 1 -> S1\n",
    "S1 : 0 | 1 -> S2\n",
    "S2 : 0 | 1 -> F\n",
    "''')\n",
    "dotObj_nfa(fourthlast, FuseEdges=True)"
   ]
  },
  {
   "cell_type": "code",
   "execution_count": 6,
   "metadata": {
    "run_control": {
     "frozen": false,
     "read_only": false
    }
   },
   "outputs": [
    {
     "data": {
      "image/svg+xml": [
       "<?xml version=\"1.0\" encoding=\"UTF-8\" standalone=\"no\"?>\n",
       "<!DOCTYPE svg PUBLIC \"-//W3C//DTD SVG 1.1//EN\"\n",
       " \"http://www.w3.org/Graphics/SVG/1.1/DTD/svg11.dtd\">\n",
       "<!-- Generated by graphviz version 2.38.0 (20140413.2041)\n",
       " -->\n",
       "<!-- Title: %3 Pages: 1 -->\n",
       "<svg width=\"564pt\" height=\"94pt\"\n",
       " viewBox=\"0.00 0.00 563.57 94.00\" xmlns=\"http://www.w3.org/2000/svg\" xmlns:xlink=\"http://www.w3.org/1999/xlink\">\n",
       "<g id=\"graph0\" class=\"graph\" transform=\"scale(1 1) rotate(0) translate(4 90)\">\n",
       "<title>%3</title>\n",
       "<polygon fill=\"white\" stroke=\"none\" points=\"-4,4 -4,-90 559.575,-90 559.575,4 -4,4\"/>\n",
       "<!-- EMPTY -->\n",
       "<g id=\"node1\" class=\"node\"><title>EMPTY</title>\n",
       "</g>\n",
       "<!-- I -->\n",
       "<g id=\"node6\" class=\"node\"><title>I</title>\n",
       "<ellipse fill=\"none\" stroke=\"black\" cx=\"109\" cy=\"-22\" rx=\"18\" ry=\"18\"/>\n",
       "<text text-anchor=\"middle\" x=\"109\" y=\"-17.8\" font-family=\"Times,serif\" font-size=\"14.00\">I</text>\n",
       "</g>\n",
       "<!-- EMPTY&#45;&gt;I -->\n",
       "<g id=\"edge1\" class=\"edge\"><title>EMPTY&#45;&gt;I</title>\n",
       "<path fill=\"none\" stroke=\"black\" d=\"M54.195,-22C62.6538,-22 72.0513,-22 80.5951,-22\"/>\n",
       "<polygon fill=\"black\" stroke=\"black\" points=\"80.8257,-25.5001 90.8257,-22 80.8257,-18.5001 80.8257,-25.5001\"/>\n",
       "</g>\n",
       "<!-- S3 -->\n",
       "<g id=\"node2\" class=\"node\"><title>S3</title>\n",
       "<ellipse fill=\"none\" stroke=\"black\" cx=\"445.628\" cy=\"-22\" rx=\"19.3939\" ry=\"19.3939\"/>\n",
       "<text text-anchor=\"middle\" x=\"445.628\" y=\"-17.8\" font-family=\"Times,serif\" font-size=\"14.00\">S3</text>\n",
       "</g>\n",
       "<!-- F -->\n",
       "<g id=\"node7\" class=\"node\"><title>F</title>\n",
       "<ellipse fill=\"none\" stroke=\"black\" cx=\"533.575\" cy=\"-22\" rx=\"18\" ry=\"18\"/>\n",
       "<ellipse fill=\"none\" stroke=\"black\" cx=\"533.575\" cy=\"-22\" rx=\"22\" ry=\"22\"/>\n",
       "<text text-anchor=\"middle\" x=\"533.575\" y=\"-17.8\" font-family=\"Times,serif\" font-size=\"14.00\">F</text>\n",
       "</g>\n",
       "<!-- S3&#45;&gt;F -->\n",
       "<g id=\"edge7\" class=\"edge\"><title>S3&#45;&gt;F</title>\n",
       "<path fill=\"none\" stroke=\"black\" d=\"M465.277,-22C475.816,-22 489.266,-22 501.367,-22\"/>\n",
       "<polygon fill=\"black\" stroke=\"black\" points=\"501.547,-25.5001 511.547,-22 501.546,-18.5001 501.547,-25.5001\"/>\n",
       "<text text-anchor=\"middle\" x=\"488.325\" y=\"-38.8\" font-family=\"Times,serif\" font-size=\"14.00\">1 </text>\n",
       "<text text-anchor=\"middle\" x=\"488.325\" y=\"-24.8\" font-family=\"Times,serif\" font-size=\"14.00\"> 0</text>\n",
       "</g>\n",
       "<!-- S2 -->\n",
       "<g id=\"node3\" class=\"node\"><title>S2</title>\n",
       "<ellipse fill=\"none\" stroke=\"black\" cx=\"360.234\" cy=\"-22\" rx=\"19.3939\" ry=\"19.3939\"/>\n",
       "<text text-anchor=\"middle\" x=\"360.234\" y=\"-17.8\" font-family=\"Times,serif\" font-size=\"14.00\">S2</text>\n",
       "</g>\n",
       "<!-- S2&#45;&gt;S3 -->\n",
       "<g id=\"edge6\" class=\"edge\"><title>S2&#45;&gt;S3</title>\n",
       "<path fill=\"none\" stroke=\"black\" d=\"M379.742,-22C390.431,-22 404.1,-22 416.134,-22\"/>\n",
       "<polygon fill=\"black\" stroke=\"black\" points=\"416.172,-25.5001 426.172,-22 416.172,-18.5001 416.172,-25.5001\"/>\n",
       "<text text-anchor=\"middle\" x=\"402.931\" y=\"-38.8\" font-family=\"Times,serif\" font-size=\"14.00\">1 </text>\n",
       "<text text-anchor=\"middle\" x=\"402.931\" y=\"-24.8\" font-family=\"Times,serif\" font-size=\"14.00\"> 0</text>\n",
       "</g>\n",
       "<!-- S0 -->\n",
       "<g id=\"node4\" class=\"node\"><title>S0</title>\n",
       "<ellipse fill=\"none\" stroke=\"black\" cx=\"189.447\" cy=\"-22\" rx=\"19.3939\" ry=\"19.3939\"/>\n",
       "<text text-anchor=\"middle\" x=\"189.447\" y=\"-17.8\" font-family=\"Times,serif\" font-size=\"14.00\">S0</text>\n",
       "</g>\n",
       "<!-- S1 -->\n",
       "<g id=\"node5\" class=\"node\"><title>S1</title>\n",
       "<ellipse fill=\"none\" stroke=\"black\" cx=\"274.841\" cy=\"-22\" rx=\"19.3939\" ry=\"19.3939\"/>\n",
       "<text text-anchor=\"middle\" x=\"274.841\" y=\"-17.8\" font-family=\"Times,serif\" font-size=\"14.00\">S1</text>\n",
       "</g>\n",
       "<!-- S0&#45;&gt;S1 -->\n",
       "<g id=\"edge4\" class=\"edge\"><title>S0&#45;&gt;S1</title>\n",
       "<path fill=\"none\" stroke=\"black\" d=\"M208.955,-22C219.643,-22 233.313,-22 245.347,-22\"/>\n",
       "<polygon fill=\"black\" stroke=\"black\" points=\"245.385,-25.5001 255.385,-22 245.385,-18.5001 245.385,-25.5001\"/>\n",
       "<text text-anchor=\"middle\" x=\"232.144\" y=\"-38.8\" font-family=\"Times,serif\" font-size=\"14.00\">1 </text>\n",
       "<text text-anchor=\"middle\" x=\"232.144\" y=\"-24.8\" font-family=\"Times,serif\" font-size=\"14.00\"> 0</text>\n",
       "</g>\n",
       "<!-- S1&#45;&gt;S2 -->\n",
       "<g id=\"edge5\" class=\"edge\"><title>S1&#45;&gt;S2</title>\n",
       "<path fill=\"none\" stroke=\"black\" d=\"M294.348,-22C305.037,-22 318.707,-22 330.74,-22\"/>\n",
       "<polygon fill=\"black\" stroke=\"black\" points=\"330.778,-25.5001 340.778,-22 330.778,-18.5001 330.778,-25.5001\"/>\n",
       "<text text-anchor=\"middle\" x=\"317.537\" y=\"-38.8\" font-family=\"Times,serif\" font-size=\"14.00\">1 </text>\n",
       "<text text-anchor=\"middle\" x=\"317.537\" y=\"-24.8\" font-family=\"Times,serif\" font-size=\"14.00\"> 0</text>\n",
       "</g>\n",
       "<!-- I&#45;&gt;S0 -->\n",
       "<g id=\"edge3\" class=\"edge\"><title>I&#45;&gt;S0</title>\n",
       "<path fill=\"none\" stroke=\"black\" d=\"M127.022,-22C136.583,-22 148.77,-22 159.763,-22\"/>\n",
       "<polygon fill=\"black\" stroke=\"black\" points=\"159.813,-25.5001 169.813,-22 159.813,-18.5001 159.813,-25.5001\"/>\n",
       "<text text-anchor=\"middle\" x=\"148.5\" y=\"-24.8\" font-family=\"Times,serif\" font-size=\"14.00\">1</text>\n",
       "</g>\n",
       "<!-- I&#45;&gt;I -->\n",
       "<g id=\"edge2\" class=\"edge\"><title>I&#45;&gt;I</title>\n",
       "<path fill=\"none\" stroke=\"black\" d=\"M102.621,-39.0373C101.319,-48.8579 103.445,-58 109,-58 112.472,-58 114.604,-54.4289 115.398,-49.3529\"/>\n",
       "<polygon fill=\"black\" stroke=\"black\" points=\"118.897,-49.031 115.379,-39.0373 111.897,-49.0435 118.897,-49.031\"/>\n",
       "<text text-anchor=\"middle\" x=\"109\" y=\"-74.8\" font-family=\"Times,serif\" font-size=\"14.00\">1 </text>\n",
       "<text text-anchor=\"middle\" x=\"109\" y=\"-60.8\" font-family=\"Times,serif\" font-size=\"14.00\"> 0</text>\n",
       "</g>\n",
       "</g>\n",
       "</svg>\n"
      ],
      "text/plain": [
       "<graphviz.dot.Digraph at 0x10751f2b0>"
      ]
     },
     "execution_count": 6,
     "metadata": {},
     "output_type": "execute_result"
    }
   ],
   "source": [
    "fifthlast = md2mc('''\n",
    "NFA\n",
    "I  : 0 -> I\n",
    "I  : 1 -> I, S0\n",
    "S0 : 0 | 1 -> S1\n",
    "S1 : 0 | 1 -> S2\n",
    "S2 : 0 | 1 -> S3\n",
    "S3 : 0 | 1 -> F\n",
    "''')\n",
    "dotObj_nfa(fifthlast, FuseEdges=True)"
   ]
  },
  {
   "cell_type": "code",
   "execution_count": 7,
   "metadata": {
    "run_control": {
     "frozen": false,
     "read_only": false
    }
   },
   "outputs": [
    {
     "data": {
      "image/svg+xml": [
       "<?xml version=\"1.0\" encoding=\"UTF-8\" standalone=\"no\"?>\n",
       "<!DOCTYPE svg PUBLIC \"-//W3C//DTD SVG 1.1//EN\"\n",
       " \"http://www.w3.org/Graphics/SVG/1.1/DTD/svg11.dtd\">\n",
       "<!-- Generated by graphviz version 2.38.0 (20140413.2041)\n",
       " -->\n",
       "<!-- Title: %3 Pages: 1 -->\n",
       "<svg width=\"451pt\" height=\"225pt\"\n",
       " viewBox=\"0.00 0.00 450.72 225.00\" xmlns=\"http://www.w3.org/2000/svg\" xmlns:xlink=\"http://www.w3.org/1999/xlink\">\n",
       "<g id=\"graph0\" class=\"graph\" transform=\"scale(1 1) rotate(0) translate(4 221)\">\n",
       "<title>%3</title>\n",
       "<polygon fill=\"white\" stroke=\"none\" points=\"-4,4 -4,-221 446.718,-221 446.718,4 -4,4\"/>\n",
       "<!-- EMPTY -->\n",
       "<g id=\"node1\" class=\"node\"><title>EMPTY</title>\n",
       "</g>\n",
       "<!-- I -->\n",
       "<g id=\"node2\" class=\"node\"><title>I</title>\n",
       "<ellipse fill=\"none\" stroke=\"black\" cx=\"109\" cy=\"-18\" rx=\"18\" ry=\"18\"/>\n",
       "<text text-anchor=\"middle\" x=\"109\" y=\"-13.8\" font-family=\"Times,serif\" font-size=\"14.00\">I</text>\n",
       "</g>\n",
       "<!-- EMPTY&#45;&gt;I -->\n",
       "<g id=\"edge1\" class=\"edge\"><title>EMPTY&#45;&gt;I</title>\n",
       "<path fill=\"none\" stroke=\"black\" d=\"M54.195,-18C62.6538,-18 72.0513,-18 80.5951,-18\"/>\n",
       "<polygon fill=\"black\" stroke=\"black\" points=\"80.8257,-21.5001 90.8257,-18 80.8257,-14.5001 80.8257,-21.5001\"/>\n",
       "</g>\n",
       "<!-- I&#45;&gt;I -->\n",
       "<g id=\"edge3\" class=\"edge\"><title>I&#45;&gt;I</title>\n",
       "<path fill=\"none\" stroke=\"black\" d=\"M102.621,-35.0373C101.319,-44.8579 103.445,-54 109,-54 112.472,-54 114.604,-50.4289 115.398,-45.3529\"/>\n",
       "<polygon fill=\"black\" stroke=\"black\" points=\"118.897,-45.031 115.379,-35.0373 111.897,-45.0435 118.897,-45.031\"/>\n",
       "<text text-anchor=\"middle\" x=\"109\" y=\"-56.8\" font-family=\"Times,serif\" font-size=\"14.00\">0</text>\n",
       "</g>\n",
       "<!-- I_S0 -->\n",
       "<g id=\"node3\" class=\"node\"><title>I_S0</title>\n",
       "<ellipse fill=\"none\" stroke=\"black\" cx=\"196.814\" cy=\"-67\" rx=\"26.6284\" ry=\"26.6284\"/>\n",
       "<text text-anchor=\"middle\" x=\"196.814\" y=\"-62.8\" font-family=\"Times,serif\" font-size=\"14.00\">I_S0</text>\n",
       "</g>\n",
       "<!-- I&#45;&gt;I_S0 -->\n",
       "<g id=\"edge2\" class=\"edge\"><title>I&#45;&gt;I_S0</title>\n",
       "<path fill=\"none\" stroke=\"black\" d=\"M124.948,-26.5351C135.716,-32.684 150.646,-41.2091 164.026,-48.8494\"/>\n",
       "<polygon fill=\"black\" stroke=\"black\" points=\"162.552,-52.0381 172.972,-53.9574 166.024,-45.9593 162.552,-52.0381\"/>\n",
       "<text text-anchor=\"middle\" x=\"148.5\" y=\"-44.8\" font-family=\"Times,serif\" font-size=\"14.00\">1</text>\n",
       "</g>\n",
       "<!-- F_I -->\n",
       "<g id=\"node4\" class=\"node\"><title>F_I</title>\n",
       "<ellipse fill=\"none\" stroke=\"black\" cx=\"416.326\" cy=\"-63\" rx=\"22.3004\" ry=\"22.3004\"/>\n",
       "<ellipse fill=\"none\" stroke=\"black\" cx=\"416.326\" cy=\"-63\" rx=\"26.2841\" ry=\"26.2841\"/>\n",
       "<text text-anchor=\"middle\" x=\"416.326\" y=\"-58.8\" font-family=\"Times,serif\" font-size=\"14.00\">F_I</text>\n",
       "</g>\n",
       "<!-- I_S0&#45;&gt;F_I -->\n",
       "<g id=\"edge5\" class=\"edge\"><title>I_S0&#45;&gt;F_I</title>\n",
       "<path fill=\"none\" stroke=\"black\" d=\"M203.97,-92.9761C212.502,-122.456 231.061,-169.144 266.627,-190 297.416,-208.055 316.292,-208.302 346.934,-190 379.868,-170.33 397.876,-128.727 407.029,-98.483\"/>\n",
       "<polygon fill=\"black\" stroke=\"black\" points=\"410.439,-99.2854 409.802,-88.7097 403.705,-97.3745 410.439,-99.2854\"/>\n",
       "<text text-anchor=\"middle\" x=\"306.781\" y=\"-205.8\" font-family=\"Times,serif\" font-size=\"14.00\">0</text>\n",
       "</g>\n",
       "<!-- F_I_S0 -->\n",
       "<g id=\"node5\" class=\"node\"><title>F_I_S0</title>\n",
       "<ellipse fill=\"none\" stroke=\"black\" cx=\"306.781\" cy=\"-109\" rx=\"36.2924\" ry=\"36.2924\"/>\n",
       "<ellipse fill=\"none\" stroke=\"black\" cx=\"306.781\" cy=\"-109\" rx=\"40.3078\" ry=\"40.3078\"/>\n",
       "<text text-anchor=\"middle\" x=\"306.781\" y=\"-104.8\" font-family=\"Times,serif\" font-size=\"14.00\">F_I_S0</text>\n",
       "</g>\n",
       "<!-- I_S0&#45;&gt;F_I_S0 -->\n",
       "<g id=\"edge4\" class=\"edge\"><title>I_S0&#45;&gt;F_I_S0</title>\n",
       "<path fill=\"none\" stroke=\"black\" d=\"M222.043,-76.4256C233.042,-80.7042 246.437,-85.915 259.26,-90.903\"/>\n",
       "<polygon fill=\"black\" stroke=\"black\" points=\"258.315,-94.2911 268.904,-94.6547 260.853,-87.7674 258.315,-94.2911\"/>\n",
       "<text text-anchor=\"middle\" x=\"245.127\" y=\"-89.8\" font-family=\"Times,serif\" font-size=\"14.00\">1</text>\n",
       "</g>\n",
       "<!-- F_I&#45;&gt;I -->\n",
       "<g id=\"edge9\" class=\"edge\"><title>F_I&#45;&gt;I</title>\n",
       "<path fill=\"none\" stroke=\"black\" d=\"M391.771,-52.6744C378.809,-47.5228 362.284,-41.8043 346.934,-39 271.848,-25.2819 181.673,-20.4257 137.341,-18.7859\"/>\n",
       "<polygon fill=\"black\" stroke=\"black\" points=\"137.209,-15.2794 127.095,-18.4349 136.969,-22.2753 137.209,-15.2794\"/>\n",
       "<text text-anchor=\"middle\" x=\"245.127\" y=\"-28.8\" font-family=\"Times,serif\" font-size=\"14.00\">0</text>\n",
       "</g>\n",
       "<!-- F_I&#45;&gt;I_S0 -->\n",
       "<g id=\"edge8\" class=\"edge\"><title>F_I&#45;&gt;I_S0</title>\n",
       "<path fill=\"none\" stroke=\"black\" d=\"M390.906,-55.3936C377.977,-51.7597 361.75,-47.8138 346.934,-46 311.507,-41.6629 301.928,-40.7334 266.627,-46 255.088,-47.7216 242.808,-50.9825 231.864,-54.4304\"/>\n",
       "<polygon fill=\"black\" stroke=\"black\" points=\"230.644,-51.1473 222.249,-57.6105 232.843,-57.7933 230.644,-51.1473\"/>\n",
       "<text text-anchor=\"middle\" x=\"306.781\" y=\"-48.8\" font-family=\"Times,serif\" font-size=\"14.00\">1</text>\n",
       "</g>\n",
       "<!-- F_I_S0&#45;&gt;F_I -->\n",
       "<g id=\"edge7\" class=\"edge\"><title>F_I_S0&#45;&gt;F_I</title>\n",
       "<path fill=\"none\" stroke=\"black\" d=\"M343.891,-93.5547C356.314,-88.2412 370.151,-82.3225 382.314,-77.12\"/>\n",
       "<polygon fill=\"black\" stroke=\"black\" points=\"383.833,-80.2772 391.651,-73.1265 381.08,-73.8412 383.833,-80.2772\"/>\n",
       "<text text-anchor=\"middle\" x=\"368.434\" y=\"-86.8\" font-family=\"Times,serif\" font-size=\"14.00\">0</text>\n",
       "</g>\n",
       "<!-- F_I_S0&#45;&gt;F_I_S0 -->\n",
       "<g id=\"edge6\" class=\"edge\"><title>F_I_S0&#45;&gt;F_I_S0</title>\n",
       "<path fill=\"none\" stroke=\"black\" d=\"M295.575,-147.587C296.014,-158.635 299.749,-167.154 306.781,-167.154 311.395,-167.154 314.59,-163.485 316.365,-157.84\"/>\n",
       "<polygon fill=\"black\" stroke=\"black\" points=\"319.882,-158.011 317.987,-147.587 312.967,-156.918 319.882,-158.011\"/>\n",
       "<text text-anchor=\"middle\" x=\"306.781\" y=\"-169.954\" font-family=\"Times,serif\" font-size=\"14.00\">1</text>\n",
       "</g>\n",
       "</g>\n",
       "</svg>\n"
      ],
      "text/plain": [
       "<graphviz.dot.Digraph at 0x10751fb00>"
      ]
     },
     "execution_count": 7,
     "metadata": {},
     "output_type": "execute_result"
    }
   ],
   "source": [
    "dotObj_dfa(min_dfa(nfa2dfa(secondlast)))"
   ]
  },
  {
   "cell_type": "code",
   "execution_count": 8,
   "metadata": {
    "run_control": {
     "frozen": false,
     "read_only": false
    }
   },
   "outputs": [
    {
     "data": {
      "image/svg+xml": [
       "<?xml version=\"1.0\" encoding=\"UTF-8\" standalone=\"no\"?>\n",
       "<!DOCTYPE svg PUBLIC \"-//W3C//DTD SVG 1.1//EN\"\n",
       " \"http://www.w3.org/Graphics/SVG/1.1/DTD/svg11.dtd\">\n",
       "<!-- Generated by graphviz version 2.38.0 (20140413.2041)\n",
       " -->\n",
       "<!-- Title: %3 Pages: 1 -->\n",
       "<svg width=\"782pt\" height=\"288pt\"\n",
       " viewBox=\"0.00 0.00 782.46 288.00\" xmlns=\"http://www.w3.org/2000/svg\" xmlns:xlink=\"http://www.w3.org/1999/xlink\">\n",
       "<g id=\"graph0\" class=\"graph\" transform=\"scale(1 1) rotate(0) translate(4 284)\">\n",
       "<title>%3</title>\n",
       "<polygon fill=\"white\" stroke=\"none\" points=\"-4,4 -4,-284 778.462,-284 778.462,4 -4,4\"/>\n",
       "<!-- EMPTY -->\n",
       "<g id=\"node1\" class=\"node\"><title>EMPTY</title>\n",
       "</g>\n",
       "<!-- St0 -->\n",
       "<g id=\"node5\" class=\"node\"><title>St0</title>\n",
       "<ellipse fill=\"none\" stroke=\"black\" cx=\"112.904\" cy=\"-25\" rx=\"21.8081\" ry=\"21.8081\"/>\n",
       "<text text-anchor=\"middle\" x=\"112.904\" y=\"-20.8\" font-family=\"Times,serif\" font-size=\"14.00\">St0</text>\n",
       "</g>\n",
       "<!-- EMPTY&#45;&gt;St0 -->\n",
       "<g id=\"edge1\" class=\"edge\"><title>EMPTY&#45;&gt;St0</title>\n",
       "<path fill=\"none\" stroke=\"black\" d=\"M54.0878,-25C62.501,-25 71.9126,-25 80.6587,-25\"/>\n",
       "<polygon fill=\"black\" stroke=\"black\" points=\"80.8854,-28.5001 90.8853,-25 80.8853,-21.5001 80.8854,-28.5001\"/>\n",
       "</g>\n",
       "<!-- St1 -->\n",
       "<g id=\"node2\" class=\"node\"><title>St1</title>\n",
       "<ellipse fill=\"none\" stroke=\"black\" cx=\"286.519\" cy=\"-105\" rx=\"21.8081\" ry=\"21.8081\"/>\n",
       "<text text-anchor=\"middle\" x=\"286.519\" y=\"-100.8\" font-family=\"Times,serif\" font-size=\"14.00\">St1</text>\n",
       "</g>\n",
       "<!-- St3 -->\n",
       "<g id=\"node6\" class=\"node\"><title>St3</title>\n",
       "<ellipse fill=\"none\" stroke=\"black\" cx=\"472.135\" cy=\"-138\" rx=\"21.8229\" ry=\"21.8229\"/>\n",
       "<ellipse fill=\"none\" stroke=\"black\" cx=\"472.135\" cy=\"-138\" rx=\"25.8081\" ry=\"25.8081\"/>\n",
       "<text text-anchor=\"middle\" x=\"472.135\" y=\"-133.8\" font-family=\"Times,serif\" font-size=\"14.00\">St3</text>\n",
       "</g>\n",
       "<!-- St1&#45;&gt;St3 -->\n",
       "<g id=\"edge7\" class=\"edge\"><title>St1&#45;&gt;St3</title>\n",
       "<path fill=\"none\" stroke=\"black\" d=\"M308.225,-108.721C339.345,-114.314 398.548,-124.955 436.366,-131.751\"/>\n",
       "<polygon fill=\"black\" stroke=\"black\" points=\"435.963,-135.235 446.424,-133.559 437.201,-128.345 435.963,-135.235\"/>\n",
       "<text text-anchor=\"middle\" x=\"377.327\" y=\"-128.8\" font-family=\"Times,serif\" font-size=\"14.00\">0</text>\n",
       "</g>\n",
       "<!-- St5 -->\n",
       "<g id=\"node8\" class=\"node\"><title>St5</title>\n",
       "<ellipse fill=\"none\" stroke=\"black\" cx=\"377.327\" cy=\"-180\" rx=\"21.8229\" ry=\"21.8229\"/>\n",
       "<ellipse fill=\"none\" stroke=\"black\" cx=\"377.327\" cy=\"-180\" rx=\"25.8081\" ry=\"25.8081\"/>\n",
       "<text text-anchor=\"middle\" x=\"377.327\" y=\"-175.8\" font-family=\"Times,serif\" font-size=\"14.00\">St5</text>\n",
       "</g>\n",
       "<!-- St1&#45;&gt;St5 -->\n",
       "<g id=\"edge6\" class=\"edge\"><title>St1&#45;&gt;St5</title>\n",
       "<path fill=\"none\" stroke=\"black\" d=\"M303.808,-118.756C316.483,-129.461 334.35,-144.55 349.178,-157.072\"/>\n",
       "<polygon fill=\"black\" stroke=\"black\" points=\"347.152,-159.942 357.05,-163.72 351.668,-154.594 347.152,-159.942\"/>\n",
       "<text text-anchor=\"middle\" x=\"329.923\" y=\"-145.8\" font-family=\"Times,serif\" font-size=\"14.00\">1</text>\n",
       "</g>\n",
       "<!-- St6 -->\n",
       "<g id=\"node3\" class=\"node\"><title>St6</title>\n",
       "<ellipse fill=\"none\" stroke=\"black\" cx=\"657.75\" cy=\"-83\" rx=\"21.8081\" ry=\"21.8081\"/>\n",
       "<text text-anchor=\"middle\" x=\"657.75\" y=\"-78.8\" font-family=\"Times,serif\" font-size=\"14.00\">St6</text>\n",
       "</g>\n",
       "<!-- St7 -->\n",
       "<g id=\"node7\" class=\"node\"><title>St7</title>\n",
       "<ellipse fill=\"none\" stroke=\"black\" cx=\"566.943\" cy=\"-92\" rx=\"21.8229\" ry=\"21.8229\"/>\n",
       "<ellipse fill=\"none\" stroke=\"black\" cx=\"566.943\" cy=\"-92\" rx=\"25.8081\" ry=\"25.8081\"/>\n",
       "<text text-anchor=\"middle\" x=\"566.943\" y=\"-87.8\" font-family=\"Times,serif\" font-size=\"14.00\">St7</text>\n",
       "</g>\n",
       "<!-- St6&#45;&gt;St7 -->\n",
       "<g id=\"edge8\" class=\"edge\"><title>St6&#45;&gt;St7</title>\n",
       "<path fill=\"none\" stroke=\"black\" d=\"M637.577,-74.4442C629.36,-71.8061 619.647,-70.0494 610.846,-72 606.985,-72.8558 603.059,-74.0966 599.23,-75.5474\"/>\n",
       "<polygon fill=\"black\" stroke=\"black\" points=\"597.824,-72.3421 590,-79.4869 600.572,-78.7802 597.824,-72.3421\"/>\n",
       "<text text-anchor=\"middle\" x=\"614.346\" y=\"-74.8\" font-family=\"Times,serif\" font-size=\"14.00\">1</text>\n",
       "</g>\n",
       "<!-- St4 -->\n",
       "<g id=\"node9\" class=\"node\"><title>St4</title>\n",
       "<ellipse fill=\"none\" stroke=\"black\" cx=\"748.558\" cy=\"-123\" rx=\"21.8229\" ry=\"21.8229\"/>\n",
       "<ellipse fill=\"none\" stroke=\"black\" cx=\"748.558\" cy=\"-123\" rx=\"25.8081\" ry=\"25.8081\"/>\n",
       "<text text-anchor=\"middle\" x=\"748.558\" y=\"-118.8\" font-family=\"Times,serif\" font-size=\"14.00\">St4</text>\n",
       "</g>\n",
       "<!-- St6&#45;&gt;St4 -->\n",
       "<g id=\"edge9\" class=\"edge\"><title>St6&#45;&gt;St4</title>\n",
       "<path fill=\"none\" stroke=\"black\" d=\"M678.02,-91.6794C688.915,-96.5865 702.819,-102.849 715.327,-108.483\"/>\n",
       "<polygon fill=\"black\" stroke=\"black\" points=\"713.992,-111.72 724.547,-112.636 716.867,-105.338 713.992,-111.72\"/>\n",
       "<text text-anchor=\"middle\" x=\"701.154\" y=\"-105.8\" font-family=\"Times,serif\" font-size=\"14.00\">0</text>\n",
       "</g>\n",
       "<!-- St2 -->\n",
       "<g id=\"node4\" class=\"node\"><title>St2</title>\n",
       "<ellipse fill=\"none\" stroke=\"black\" cx=\"199.712\" cy=\"-69\" rx=\"21.8081\" ry=\"21.8081\"/>\n",
       "<text text-anchor=\"middle\" x=\"199.712\" y=\"-64.8\" font-family=\"Times,serif\" font-size=\"14.00\">St2</text>\n",
       "</g>\n",
       "<!-- St2&#45;&gt;St1 -->\n",
       "<g id=\"edge4\" class=\"edge\"><title>St2&#45;&gt;St1</title>\n",
       "<path fill=\"none\" stroke=\"black\" d=\"M220.381,-77.3496C231.085,-81.8933 244.533,-87.6017 256.426,-92.6502\"/>\n",
       "<polygon fill=\"black\" stroke=\"black\" points=\"255.384,-96.0099 265.956,-96.6957 258.119,-89.5664 255.384,-96.0099\"/>\n",
       "<text text-anchor=\"middle\" x=\"243.115\" y=\"-91.8\" font-family=\"Times,serif\" font-size=\"14.00\">1</text>\n",
       "</g>\n",
       "<!-- St2&#45;&gt;St6 -->\n",
       "<g id=\"edge5\" class=\"edge\"><title>St2&#45;&gt;St6</title>\n",
       "<path fill=\"none\" stroke=\"black\" d=\"M218.876,-58.1577C235.591,-49.2182 261.378,-38 285.519,-38 285.519,-38 285.519,-38 567.943,-38 591.64,-38 615.426,-50.9068 632.41,-62.8958\"/>\n",
       "<polygon fill=\"black\" stroke=\"black\" points=\"630.52,-65.8524 640.634,-69.0084 634.696,-60.2342 630.52,-65.8524\"/>\n",
       "<text text-anchor=\"middle\" x=\"424.731\" y=\"-40.8\" font-family=\"Times,serif\" font-size=\"14.00\">0</text>\n",
       "</g>\n",
       "<!-- St0&#45;&gt;St2 -->\n",
       "<g id=\"edge2\" class=\"edge\"><title>St0&#45;&gt;St2</title>\n",
       "<path fill=\"none\" stroke=\"black\" d=\"M132.725,-34.765C143.925,-40.5755 158.342,-48.0555 170.842,-54.5409\"/>\n",
       "<polygon fill=\"black\" stroke=\"black\" points=\"169.454,-57.7637 179.943,-59.2623 172.678,-51.5502 169.454,-57.7637\"/>\n",
       "<text text-anchor=\"middle\" x=\"156.308\" y=\"-51.8\" font-family=\"Times,serif\" font-size=\"14.00\">1</text>\n",
       "</g>\n",
       "<!-- St0&#45;&gt;St0 -->\n",
       "<g id=\"edge3\" class=\"edge\"><title>St0&#45;&gt;St0</title>\n",
       "<path fill=\"none\" stroke=\"black\" d=\"M105.587,-45.9403C104.684,-56.0125 107.123,-64.9039 112.904,-64.9039 116.607,-64.9039 118.939,-61.2549 119.9,-55.984\"/>\n",
       "<polygon fill=\"black\" stroke=\"black\" points=\"123.399,-56.0471 120.221,-45.9403 116.403,-55.8233 123.399,-56.0471\"/>\n",
       "<text text-anchor=\"middle\" x=\"112.904\" y=\"-67.7039\" font-family=\"Times,serif\" font-size=\"14.00\">0</text>\n",
       "</g>\n",
       "<!-- St3&#45;&gt;St7 -->\n",
       "<g id=\"edge12\" class=\"edge\"><title>St3&#45;&gt;St7</title>\n",
       "<path fill=\"none\" stroke=\"black\" d=\"M495.601,-126.865C507.143,-121.144 521.406,-114.074 534.065,-107.8\"/>\n",
       "<polygon fill=\"black\" stroke=\"black\" points=\"535.956,-110.769 543.362,-103.192 532.847,-104.497 535.956,-110.769\"/>\n",
       "<text text-anchor=\"middle\" x=\"519.539\" y=\"-119.8\" font-family=\"Times,serif\" font-size=\"14.00\">1</text>\n",
       "</g>\n",
       "<!-- St3&#45;&gt;St4 -->\n",
       "<g id=\"edge13\" class=\"edge\"><title>St3&#45;&gt;St4</title>\n",
       "<path fill=\"none\" stroke=\"black\" d=\"M498.46,-136.616C547.573,-133.931 655.863,-128.012 712.099,-124.938\"/>\n",
       "<polygon fill=\"black\" stroke=\"black\" points=\"712.5,-128.422 722.294,-124.381 712.118,-121.432 712.5,-128.422\"/>\n",
       "<text text-anchor=\"middle\" x=\"614.346\" y=\"-133.8\" font-family=\"Times,serif\" font-size=\"14.00\">0</text>\n",
       "</g>\n",
       "<!-- St7&#45;&gt;St1 -->\n",
       "<g id=\"edge14\" class=\"edge\"><title>St7&#45;&gt;St1</title>\n",
       "<path fill=\"none\" stroke=\"black\" d=\"M540.816,-93.1732C489.853,-95.5527 374.453,-100.941 318.753,-103.542\"/>\n",
       "<polygon fill=\"black\" stroke=\"black\" points=\"318.272,-100.06 308.446,-104.023 318.599,-107.053 318.272,-100.06\"/>\n",
       "<text text-anchor=\"middle\" x=\"424.731\" y=\"-101.8\" font-family=\"Times,serif\" font-size=\"14.00\">1</text>\n",
       "</g>\n",
       "<!-- St7&#45;&gt;St6 -->\n",
       "<g id=\"edge15\" class=\"edge\"><title>St7&#45;&gt;St6</title>\n",
       "<path fill=\"none\" stroke=\"black\" d=\"M593.154,-89.445C603.23,-88.4239 614.94,-87.2372 625.544,-86.1625\"/>\n",
       "<polygon fill=\"black\" stroke=\"black\" points=\"626.083,-89.6259 635.679,-85.1354 625.377,-82.6616 626.083,-89.6259\"/>\n",
       "<text text-anchor=\"middle\" x=\"614.346\" y=\"-90.8\" font-family=\"Times,serif\" font-size=\"14.00\">0</text>\n",
       "</g>\n",
       "<!-- St5&#45;&gt;St3 -->\n",
       "<g id=\"edge11\" class=\"edge\"><title>St5&#45;&gt;St3</title>\n",
       "<path fill=\"none\" stroke=\"black\" d=\"M401.268,-169.618C412.646,-164.469 426.578,-158.164 438.999,-152.543\"/>\n",
       "<polygon fill=\"black\" stroke=\"black\" points=\"440.468,-155.72 448.136,-148.408 437.582,-149.342 440.468,-155.72\"/>\n",
       "<text text-anchor=\"middle\" x=\"424.731\" y=\"-163.8\" font-family=\"Times,serif\" font-size=\"14.00\">0</text>\n",
       "</g>\n",
       "<!-- St5&#45;&gt;St5 -->\n",
       "<g id=\"edge10\" class=\"edge\"><title>St5&#45;&gt;St5</title>\n",
       "<path fill=\"none\" stroke=\"black\" d=\"M368.778,-204.824C368.188,-215.15 371.038,-223.904 377.327,-223.904 381.356,-223.904 383.973,-220.311 385.179,-215.014\"/>\n",
       "<polygon fill=\"black\" stroke=\"black\" points=\"388.686,-215.039 385.876,-204.824 381.702,-214.562 388.686,-215.039\"/>\n",
       "<text text-anchor=\"middle\" x=\"377.327\" y=\"-226.704\" font-family=\"Times,serif\" font-size=\"14.00\">1</text>\n",
       "</g>\n",
       "<!-- St4&#45;&gt;St2 -->\n",
       "<g id=\"edge16\" class=\"edge\"><title>St4&#45;&gt;St2</title>\n",
       "<path fill=\"none\" stroke=\"black\" d=\"M743.591,-148.566C735.596,-189.697 713.4,-266 658.75,-266 285.519,-266 285.519,-266 285.519,-266 214.682,-266 202.293,-157.211 200.602,-101.319\"/>\n",
       "<polygon fill=\"black\" stroke=\"black\" points=\"204.099,-101.142 200.396,-91.2155 197.101,-101.285 204.099,-101.142\"/>\n",
       "<text text-anchor=\"middle\" x=\"472.135\" y=\"-268.8\" font-family=\"Times,serif\" font-size=\"14.00\">1</text>\n",
       "</g>\n",
       "<!-- St4&#45;&gt;St0 -->\n",
       "<g id=\"edge17\" class=\"edge\"><title>St4&#45;&gt;St0</title>\n",
       "<path fill=\"none\" stroke=\"black\" d=\"M741.518,-97.8123C731.214,-61.827 706.555,-0 658.75,-0 198.712,-0 198.712,-0 198.712,-0 179.39,-0 158.565,-6.0442 142.387,-12.1887\"/>\n",
       "<polygon fill=\"black\" stroke=\"black\" points=\"140.942,-8.99723 132.969,-15.9744 143.553,-15.4921 140.942,-8.99723\"/>\n",
       "<text text-anchor=\"middle\" x=\"424.731\" y=\"-2.8\" font-family=\"Times,serif\" font-size=\"14.00\">0</text>\n",
       "</g>\n",
       "</g>\n",
       "</svg>\n"
      ],
      "text/plain": [
       "<graphviz.dot.Digraph at 0x107528dd8>"
      ]
     },
     "execution_count": 8,
     "metadata": {},
     "output_type": "execute_result"
    }
   ],
   "source": [
    "dotObj_dfa(min_dfa(nfa2dfa(thirdlast)))"
   ]
  },
  {
   "cell_type": "code",
   "execution_count": 9,
   "metadata": {
    "run_control": {
     "frozen": false,
     "read_only": false
    }
   },
   "outputs": [
    {
     "data": {
      "image/svg+xml": [
       "<?xml version=\"1.0\" encoding=\"UTF-8\" standalone=\"no\"?>\n",
       "<!DOCTYPE svg PUBLIC \"-//W3C//DTD SVG 1.1//EN\"\n",
       " \"http://www.w3.org/Graphics/SVG/1.1/DTD/svg11.dtd\">\n",
       "<!-- Generated by graphviz version 2.38.0 (20140413.2041)\n",
       " -->\n",
       "<!-- Title: %3 Pages: 1 -->\n",
       "<svg width=\"1561pt\" height=\"405pt\"\n",
       " viewBox=\"0.00 0.00 1561.34 405.00\" xmlns=\"http://www.w3.org/2000/svg\" xmlns:xlink=\"http://www.w3.org/1999/xlink\">\n",
       "<g id=\"graph0\" class=\"graph\" transform=\"scale(1 1) rotate(0) translate(4 401)\">\n",
       "<title>%3</title>\n",
       "<polygon fill=\"white\" stroke=\"none\" points=\"-4,4 -4,-401 1557.34,-401 1557.34,4 -4,4\"/>\n",
       "<!-- EMPTY -->\n",
       "<g id=\"node1\" class=\"node\"><title>EMPTY</title>\n",
       "</g>\n",
       "<!-- St0 -->\n",
       "<g id=\"node9\" class=\"node\"><title>St0</title>\n",
       "<ellipse fill=\"none\" stroke=\"black\" cx=\"112.904\" cy=\"-26\" rx=\"21.8081\" ry=\"21.8081\"/>\n",
       "<text text-anchor=\"middle\" x=\"112.904\" y=\"-21.8\" font-family=\"Times,serif\" font-size=\"14.00\">St0</text>\n",
       "</g>\n",
       "<!-- EMPTY&#45;&gt;St0 -->\n",
       "<g id=\"edge1\" class=\"edge\"><title>EMPTY&#45;&gt;St0</title>\n",
       "<path fill=\"none\" stroke=\"black\" d=\"M54.0878,-26C62.501,-26 71.9126,-26 80.6587,-26\"/>\n",
       "<polygon fill=\"black\" stroke=\"black\" points=\"80.8854,-29.5001 90.8853,-26 80.8853,-22.5001 80.8854,-29.5001\"/>\n",
       "</g>\n",
       "<!-- St1 -->\n",
       "<g id=\"node2\" class=\"node\"><title>St1</title>\n",
       "<ellipse fill=\"none\" stroke=\"black\" cx=\"286.519\" cy=\"-119\" rx=\"21.8081\" ry=\"21.8081\"/>\n",
       "<text text-anchor=\"middle\" x=\"286.519\" y=\"-114.8\" font-family=\"Times,serif\" font-size=\"14.00\">St1</text>\n",
       "</g>\n",
       "<!-- St5 -->\n",
       "<g id=\"node3\" class=\"node\"><title>St5</title>\n",
       "<ellipse fill=\"none\" stroke=\"black\" cx=\"373.327\" cy=\"-285\" rx=\"21.8081\" ry=\"21.8081\"/>\n",
       "<text text-anchor=\"middle\" x=\"373.327\" y=\"-280.8\" font-family=\"Times,serif\" font-size=\"14.00\">St5</text>\n",
       "</g>\n",
       "<!-- St1&#45;&gt;St5 -->\n",
       "<g id=\"edge6\" class=\"edge\"><title>St1&#45;&gt;St5</title>\n",
       "<path fill=\"none\" stroke=\"black\" d=\"M297.414,-138.367C312.287,-167.48 340.496,-222.696 357.735,-256.437\"/>\n",
       "<polygon fill=\"black\" stroke=\"black\" points=\"354.829,-258.443 362.496,-265.756 361.063,-255.259 354.829,-258.443\"/>\n",
       "<text text-anchor=\"middle\" x=\"329.923\" y=\"-209.8\" font-family=\"Times,serif\" font-size=\"14.00\">1</text>\n",
       "</g>\n",
       "<!-- St6 -->\n",
       "<g id=\"node8\" class=\"node\"><title>St6</title>\n",
       "<ellipse fill=\"none\" stroke=\"black\" cx=\"874.74\" cy=\"-214\" rx=\"21.8081\" ry=\"21.8081\"/>\n",
       "<text text-anchor=\"middle\" x=\"874.74\" y=\"-209.8\" font-family=\"Times,serif\" font-size=\"14.00\">St6</text>\n",
       "</g>\n",
       "<!-- St1&#45;&gt;St6 -->\n",
       "<g id=\"edge7\" class=\"edge\"><title>St1&#45;&gt;St6</title>\n",
       "<path fill=\"none\" stroke=\"black\" d=\"M306.991,-127.434C323.925,-133.998 349.291,-142 372.327,-142 372.327,-142 372.327,-142 625.033,-142 707.952,-142 800.506,-179.383 845.757,-200.276\"/>\n",
       "<polygon fill=\"black\" stroke=\"black\" points=\"844.392,-203.502 854.931,-204.587 847.369,-197.166 844.392,-203.502\"/>\n",
       "<text text-anchor=\"middle\" x=\"572.208\" y=\"-144.8\" font-family=\"Times,serif\" font-size=\"14.00\">0</text>\n",
       "</g>\n",
       "<!-- St10 -->\n",
       "<g id=\"node11\" class=\"node\"><title>St10</title>\n",
       "<ellipse fill=\"none\" stroke=\"black\" cx=\"468.557\" cy=\"-201\" rx=\"26.1751\" ry=\"26.1751\"/>\n",
       "<ellipse fill=\"none\" stroke=\"black\" cx=\"468.557\" cy=\"-201\" rx=\"30.1522\" ry=\"30.1522\"/>\n",
       "<text text-anchor=\"middle\" x=\"468.557\" y=\"-196.8\" font-family=\"Times,serif\" font-size=\"14.00\">St10</text>\n",
       "</g>\n",
       "<!-- St5&#45;&gt;St10 -->\n",
       "<g id=\"edge10\" class=\"edge\"><title>St5&#45;&gt;St10</title>\n",
       "<path fill=\"none\" stroke=\"black\" d=\"M390.142,-270.751C403.179,-259.005 422.032,-242.018 437.869,-227.748\"/>\n",
       "<polygon fill=\"black\" stroke=\"black\" points=\"440.276,-230.291 445.363,-220.997 435.591,-225.09 440.276,-230.291\"/>\n",
       "<text text-anchor=\"middle\" x=\"416.731\" y=\"-251.8\" font-family=\"Times,serif\" font-size=\"14.00\">1</text>\n",
       "</g>\n",
       "<!-- St15 -->\n",
       "<g id=\"node17\" class=\"node\"><title>St15</title>\n",
       "<ellipse fill=\"none\" stroke=\"black\" cx=\"572.208\" cy=\"-231\" rx=\"26.1751\" ry=\"26.1751\"/>\n",
       "<ellipse fill=\"none\" stroke=\"black\" cx=\"572.208\" cy=\"-231\" rx=\"30.1522\" ry=\"30.1522\"/>\n",
       "<text text-anchor=\"middle\" x=\"572.208\" y=\"-226.8\" font-family=\"Times,serif\" font-size=\"14.00\">St15</text>\n",
       "</g>\n",
       "<!-- St5&#45;&gt;St15 -->\n",
       "<g id=\"edge11\" class=\"edge\"><title>St5&#45;&gt;St15</title>\n",
       "<path fill=\"none\" stroke=\"black\" d=\"M395.581,-285.398C420.816,-285.281 463.889,-283.204 498.882,-272 512.465,-267.651 526.338,-260.551 538.253,-253.472\"/>\n",
       "<polygon fill=\"black\" stroke=\"black\" points=\"540.274,-256.338 546.946,-248.108 536.598,-250.38 540.274,-256.338\"/>\n",
       "<text text-anchor=\"middle\" x=\"468.557\" y=\"-286.8\" font-family=\"Times,serif\" font-size=\"14.00\">0</text>\n",
       "</g>\n",
       "<!-- St2 -->\n",
       "<g id=\"node4\" class=\"node\"><title>St2</title>\n",
       "<ellipse fill=\"none\" stroke=\"black\" cx=\"199.712\" cy=\"-74\" rx=\"21.8081\" ry=\"21.8081\"/>\n",
       "<text text-anchor=\"middle\" x=\"199.712\" y=\"-69.8\" font-family=\"Times,serif\" font-size=\"14.00\">St2</text>\n",
       "</g>\n",
       "<!-- St2&#45;&gt;St1 -->\n",
       "<g id=\"edge4\" class=\"edge\"><title>St2&#45;&gt;St1</title>\n",
       "<path fill=\"none\" stroke=\"black\" d=\"M219.533,-83.987C230.733,-89.9295 245.15,-97.5795 257.65,-104.212\"/>\n",
       "<polygon fill=\"black\" stroke=\"black\" points=\"256.276,-107.445 266.75,-109.041 259.557,-101.262 256.276,-107.445\"/>\n",
       "<text text-anchor=\"middle\" x=\"243.115\" y=\"-100.8\" font-family=\"Times,serif\" font-size=\"14.00\">1</text>\n",
       "</g>\n",
       "<!-- St13 -->\n",
       "<g id=\"node7\" class=\"node\"><title>St13</title>\n",
       "<ellipse fill=\"none\" stroke=\"black\" cx=\"1155.58\" cy=\"-194\" rx=\"26.1523\" ry=\"26.1523\"/>\n",
       "<text text-anchor=\"middle\" x=\"1155.58\" y=\"-189.8\" font-family=\"Times,serif\" font-size=\"14.00\">St13</text>\n",
       "</g>\n",
       "<!-- St2&#45;&gt;St13 -->\n",
       "<g id=\"edge5\" class=\"edge\"><title>St2&#45;&gt;St13</title>\n",
       "<path fill=\"none\" stroke=\"black\" d=\"M219.33,-64.0494C236.137,-56.0014 261.796,-46 285.519,-46 285.519,-46 285.519,-46 1061.36,-46 1114.07,-46 1138.16,-114.046 1148.21,-157.859\"/>\n",
       "<polygon fill=\"black\" stroke=\"black\" points=\"1144.84,-158.84 1150.36,-167.881 1151.68,-157.369 1144.84,-158.84\"/>\n",
       "<text text-anchor=\"middle\" x=\"675.859\" y=\"-48.8\" font-family=\"Times,serif\" font-size=\"14.00\">0</text>\n",
       "</g>\n",
       "<!-- St11 -->\n",
       "<g id=\"node5\" class=\"node\"><title>St11</title>\n",
       "<ellipse fill=\"none\" stroke=\"black\" cx=\"1432.53\" cy=\"-219\" rx=\"26.0035\" ry=\"26.0035\"/>\n",
       "<text text-anchor=\"middle\" x=\"1432.53\" y=\"-214.8\" font-family=\"Times,serif\" font-size=\"14.00\">St11</text>\n",
       "</g>\n",
       "<!-- St7 -->\n",
       "<g id=\"node15\" class=\"node\"><title>St7</title>\n",
       "<ellipse fill=\"none\" stroke=\"black\" cx=\"1060.36\" cy=\"-162\" rx=\"21.8229\" ry=\"21.8229\"/>\n",
       "<ellipse fill=\"none\" stroke=\"black\" cx=\"1060.36\" cy=\"-162\" rx=\"25.8081\" ry=\"25.8081\"/>\n",
       "<text text-anchor=\"middle\" x=\"1060.36\" y=\"-157.8\" font-family=\"Times,serif\" font-size=\"14.00\">St7</text>\n",
       "</g>\n",
       "<!-- St11&#45;&gt;St7 -->\n",
       "<g id=\"edge16\" class=\"edge\"><title>St11&#45;&gt;St7</title>\n",
       "<path fill=\"none\" stroke=\"black\" d=\"M1418.47,-196.994C1402.74,-173.619 1373.98,-140 1338.62,-140 1154.58,-140 1154.58,-140 1154.58,-140 1134.43,-140 1112.46,-144.932 1094.91,-150.126\"/>\n",
       "<polygon fill=\"black\" stroke=\"black\" points=\"1093.64,-146.856 1085.14,-153.179 1095.73,-153.538 1093.64,-146.856\"/>\n",
       "<text text-anchor=\"middle\" x=\"1246.81\" y=\"-142.8\" font-family=\"Times,serif\" font-size=\"14.00\">1</text>\n",
       "</g>\n",
       "<!-- St8 -->\n",
       "<g id=\"node16\" class=\"node\"><title>St8</title>\n",
       "<ellipse fill=\"none\" stroke=\"black\" cx=\"1527.43\" cy=\"-299\" rx=\"21.8229\" ry=\"21.8229\"/>\n",
       "<ellipse fill=\"none\" stroke=\"black\" cx=\"1527.43\" cy=\"-299\" rx=\"25.8081\" ry=\"25.8081\"/>\n",
       "<text text-anchor=\"middle\" x=\"1527.43\" y=\"-294.8\" font-family=\"Times,serif\" font-size=\"14.00\">St8</text>\n",
       "</g>\n",
       "<!-- St11&#45;&gt;St8 -->\n",
       "<g id=\"edge17\" class=\"edge\"><title>St11&#45;&gt;St8</title>\n",
       "<path fill=\"none\" stroke=\"black\" d=\"M1452.78,-235.576C1466.23,-247.161 1484.38,-262.793 1499.3,-275.639\"/>\n",
       "<polygon fill=\"black\" stroke=\"black\" points=\"1497.35,-278.572 1507.21,-282.445 1501.91,-273.268 1497.35,-278.572\"/>\n",
       "<text text-anchor=\"middle\" x=\"1480.03\" y=\"-264.8\" font-family=\"Times,serif\" font-size=\"14.00\">0</text>\n",
       "</g>\n",
       "<!-- St9 -->\n",
       "<g id=\"node6\" class=\"node\"><title>St9</title>\n",
       "<ellipse fill=\"none\" stroke=\"black\" cx=\"1246.81\" cy=\"-238\" rx=\"21.8081\" ry=\"21.8081\"/>\n",
       "<text text-anchor=\"middle\" x=\"1246.81\" y=\"-233.8\" font-family=\"Times,serif\" font-size=\"14.00\">St9</text>\n",
       "</g>\n",
       "<!-- St12 -->\n",
       "<g id=\"node12\" class=\"node\"><title>St12</title>\n",
       "<ellipse fill=\"none\" stroke=\"black\" cx=\"779.51\" cy=\"-280\" rx=\"26.1751\" ry=\"26.1751\"/>\n",
       "<ellipse fill=\"none\" stroke=\"black\" cx=\"779.51\" cy=\"-280\" rx=\"30.1522\" ry=\"30.1522\"/>\n",
       "<text text-anchor=\"middle\" x=\"779.51\" y=\"-275.8\" font-family=\"Times,serif\" font-size=\"14.00\">St12</text>\n",
       "</g>\n",
       "<!-- St9&#45;&gt;St12 -->\n",
       "<g id=\"edge14\" class=\"edge\"><title>St9&#45;&gt;St12</title>\n",
       "<path fill=\"none\" stroke=\"black\" d=\"M1230.45,-252.702C1213.69,-267.135 1185.39,-287 1156.58,-287 873.74,-287 873.74,-287 873.74,-287 856.164,-287 836.777,-285.748 820.256,-284.302\"/>\n",
       "<polygon fill=\"black\" stroke=\"black\" points=\"820.141,-280.777 809.86,-283.336 819.493,-287.747 820.141,-280.777\"/>\n",
       "<text text-anchor=\"middle\" x=\"1012.95\" y=\"-289.8\" font-family=\"Times,serif\" font-size=\"14.00\">1</text>\n",
       "</g>\n",
       "<!-- St4 -->\n",
       "<g id=\"node13\" class=\"node\"><title>St4</title>\n",
       "<ellipse fill=\"none\" stroke=\"black\" cx=\"1337.62\" cy=\"-251\" rx=\"21.8229\" ry=\"21.8229\"/>\n",
       "<ellipse fill=\"none\" stroke=\"black\" cx=\"1337.62\" cy=\"-251\" rx=\"25.8081\" ry=\"25.8081\"/>\n",
       "<text text-anchor=\"middle\" x=\"1337.62\" y=\"-246.8\" font-family=\"Times,serif\" font-size=\"14.00\">St4</text>\n",
       "</g>\n",
       "<!-- St9&#45;&gt;St4 -->\n",
       "<g id=\"edge15\" class=\"edge\"><title>St9&#45;&gt;St4</title>\n",
       "<path fill=\"none\" stroke=\"black\" d=\"M1266.57,-227.918C1274.88,-224.68 1284.78,-222.504 1293.72,-225 1298.4,-226.308 1303.08,-228.281 1307.54,-230.568\"/>\n",
       "<polygon fill=\"black\" stroke=\"black\" points=\"1305.88,-233.653 1316.3,-235.588 1309.36,-227.58 1305.88,-233.653\"/>\n",
       "<text text-anchor=\"middle\" x=\"1290.22\" y=\"-227.8\" font-family=\"Times,serif\" font-size=\"14.00\">0</text>\n",
       "</g>\n",
       "<!-- St13&#45;&gt;St11 -->\n",
       "<g id=\"edge9\" class=\"edge\"><title>St13&#45;&gt;St11</title>\n",
       "<path fill=\"none\" stroke=\"black\" d=\"M1181.86,-196.16C1209.38,-198.524 1254.68,-202.451 1293.72,-206 1328.73,-209.184 1368.74,-212.974 1396.59,-215.639\"/>\n",
       "<polygon fill=\"black\" stroke=\"black\" points=\"1396.35,-219.131 1406.64,-216.601 1397.02,-212.163 1396.35,-219.131\"/>\n",
       "<text text-anchor=\"middle\" x=\"1290.22\" y=\"-208.8\" font-family=\"Times,serif\" font-size=\"14.00\">0</text>\n",
       "</g>\n",
       "<!-- St13&#45;&gt;St9 -->\n",
       "<g id=\"edge8\" class=\"edge\"><title>St13&#45;&gt;St9</title>\n",
       "<path fill=\"none\" stroke=\"black\" d=\"M1179.56,-205.331C1191.13,-211.037 1205.27,-218.007 1217.5,-224.04\"/>\n",
       "<polygon fill=\"black\" stroke=\"black\" points=\"1216.31,-227.353 1226.83,-228.637 1219.4,-221.075 1216.31,-227.353\"/>\n",
       "<text text-anchor=\"middle\" x=\"1203.41\" y=\"-221.8\" font-family=\"Times,serif\" font-size=\"14.00\">1</text>\n",
       "</g>\n",
       "<!-- St14 -->\n",
       "<g id=\"node10\" class=\"node\"><title>St14</title>\n",
       "<ellipse fill=\"none\" stroke=\"black\" cx=\"675.859\" cy=\"-252\" rx=\"26.1751\" ry=\"26.1751\"/>\n",
       "<ellipse fill=\"none\" stroke=\"black\" cx=\"675.859\" cy=\"-252\" rx=\"30.1522\" ry=\"30.1522\"/>\n",
       "<text text-anchor=\"middle\" x=\"675.859\" y=\"-247.8\" font-family=\"Times,serif\" font-size=\"14.00\">St14</text>\n",
       "</g>\n",
       "<!-- St6&#45;&gt;St14 -->\n",
       "<g id=\"edge12\" class=\"edge\"><title>St6&#45;&gt;St14</title>\n",
       "<path fill=\"none\" stroke=\"black\" d=\"M852.79,-214.725C827.847,-215.923 785.055,-219.039 749.185,-227 737.448,-229.605 724.971,-233.492 713.745,-237.429\"/>\n",
       "<polygon fill=\"black\" stroke=\"black\" points=\"712.459,-234.172 704.251,-240.871 714.845,-240.753 712.459,-234.172\"/>\n",
       "<text text-anchor=\"middle\" x=\"779.51\" y=\"-229.8\" font-family=\"Times,serif\" font-size=\"14.00\">1</text>\n",
       "</g>\n",
       "<!-- St3 -->\n",
       "<g id=\"node14\" class=\"node\"><title>St3</title>\n",
       "<ellipse fill=\"none\" stroke=\"black\" cx=\"965.547\" cy=\"-181\" rx=\"21.8229\" ry=\"21.8229\"/>\n",
       "<ellipse fill=\"none\" stroke=\"black\" cx=\"965.547\" cy=\"-181\" rx=\"25.8081\" ry=\"25.8081\"/>\n",
       "<text text-anchor=\"middle\" x=\"965.547\" y=\"-176.8\" font-family=\"Times,serif\" font-size=\"14.00\">St3</text>\n",
       "</g>\n",
       "<!-- St6&#45;&gt;St3 -->\n",
       "<g id=\"edge13\" class=\"edge\"><title>St6&#45;&gt;St3</title>\n",
       "<path fill=\"none\" stroke=\"black\" d=\"M895.449,-206.676C906.094,-202.721 919.515,-197.734 931.691,-193.209\"/>\n",
       "<polygon fill=\"black\" stroke=\"black\" points=\"932.958,-196.472 941.112,-189.708 930.52,-189.911 932.958,-196.472\"/>\n",
       "<text text-anchor=\"middle\" x=\"918.143\" y=\"-202.8\" font-family=\"Times,serif\" font-size=\"14.00\">0</text>\n",
       "</g>\n",
       "<!-- St0&#45;&gt;St2 -->\n",
       "<g id=\"edge2\" class=\"edge\"><title>St0&#45;&gt;St2</title>\n",
       "<path fill=\"none\" stroke=\"black\" d=\"M132.306,-36.4153C143.753,-42.894 158.679,-51.342 171.48,-58.5873\"/>\n",
       "<polygon fill=\"black\" stroke=\"black\" points=\"169.919,-61.7253 180.345,-63.605 173.367,-55.6334 169.919,-61.7253\"/>\n",
       "<text text-anchor=\"middle\" x=\"156.308\" y=\"-54.8\" font-family=\"Times,serif\" font-size=\"14.00\">1</text>\n",
       "</g>\n",
       "<!-- St0&#45;&gt;St0 -->\n",
       "<g id=\"edge3\" class=\"edge\"><title>St0&#45;&gt;St0</title>\n",
       "<path fill=\"none\" stroke=\"black\" d=\"M105.587,-46.9403C104.684,-57.0125 107.123,-65.9039 112.904,-65.9039 116.607,-65.9039 118.939,-62.2549 119.9,-56.984\"/>\n",
       "<polygon fill=\"black\" stroke=\"black\" points=\"123.399,-57.0471 120.221,-46.9403 116.403,-56.8233 123.399,-57.0471\"/>\n",
       "<text text-anchor=\"middle\" x=\"112.904\" y=\"-68.7039\" font-family=\"Times,serif\" font-size=\"14.00\">0</text>\n",
       "</g>\n",
       "<!-- St14&#45;&gt;St12 -->\n",
       "<g id=\"edge22\" class=\"edge\"><title>St14&#45;&gt;St12</title>\n",
       "<path fill=\"none\" stroke=\"black\" d=\"M705.174,-259.8C715.988,-262.778 728.506,-266.226 740.104,-269.421\"/>\n",
       "<polygon fill=\"black\" stroke=\"black\" points=\"739.423,-272.864 749.994,-272.145 741.282,-266.115 739.423,-272.864\"/>\n",
       "<text text-anchor=\"middle\" x=\"727.685\" y=\"-269.8\" font-family=\"Times,serif\" font-size=\"14.00\">1</text>\n",
       "</g>\n",
       "<!-- St14&#45;&gt;St4 -->\n",
       "<g id=\"edge23\" class=\"edge\"><title>St14&#45;&gt;St4</title>\n",
       "<path fill=\"none\" stroke=\"black\" d=\"M695.378,-275.678C708.628,-290.784 727.84,-309.289 749.185,-319 817.52,-350.091 842.068,-337 917.143,-337 917.143,-337 917.143,-337 1156.58,-337 1215.5,-337 1275.6,-299.037 1309.31,-273.557\"/>\n",
       "<polygon fill=\"black\" stroke=\"black\" points=\"1311.52,-276.267 1317.29,-267.378 1307.24,-270.731 1311.52,-276.267\"/>\n",
       "<text text-anchor=\"middle\" x=\"1012.95\" y=\"-339.8\" font-family=\"Times,serif\" font-size=\"14.00\">0</text>\n",
       "</g>\n",
       "<!-- St10&#45;&gt;St10 -->\n",
       "<g id=\"edge18\" class=\"edge\"><title>St10&#45;&gt;St10</title>\n",
       "<path fill=\"none\" stroke=\"black\" d=\"M459.191,-230.254C458.989,-240.76 462.111,-249.326 468.557,-249.326 472.686,-249.326 475.451,-245.81 476.852,-240.521\"/>\n",
       "<polygon fill=\"black\" stroke=\"black\" points=\"480.366,-240.563 477.922,-230.254 473.404,-239.837 480.366,-240.563\"/>\n",
       "<text text-anchor=\"middle\" x=\"468.557\" y=\"-252.126\" font-family=\"Times,serif\" font-size=\"14.00\">1</text>\n",
       "</g>\n",
       "<!-- St10&#45;&gt;St15 -->\n",
       "<g id=\"edge19\" class=\"edge\"><title>St10&#45;&gt;St15</title>\n",
       "<path fill=\"none\" stroke=\"black\" d=\"M497.872,-209.357C508.686,-212.548 521.203,-216.242 532.802,-219.665\"/>\n",
       "<polygon fill=\"black\" stroke=\"black\" points=\"532.11,-223.11 542.691,-222.584 534.091,-216.397 532.11,-223.11\"/>\n",
       "<text text-anchor=\"middle\" x=\"520.382\" y=\"-219.8\" font-family=\"Times,serif\" font-size=\"14.00\">0</text>\n",
       "</g>\n",
       "<!-- St12&#45;&gt;St5 -->\n",
       "<g id=\"edge26\" class=\"edge\"><title>St12&#45;&gt;St5</title>\n",
       "<path fill=\"none\" stroke=\"black\" d=\"M757.678,-301.678C738.507,-319.211 708.349,-341 676.859,-341 467.557,-341 467.557,-341 467.557,-341 440.213,-341 413.971,-323.079 396.334,-307.513\"/>\n",
       "<polygon fill=\"black\" stroke=\"black\" points=\"398.58,-304.822 388.864,-300.599 393.826,-309.96 398.58,-304.822\"/>\n",
       "<text text-anchor=\"middle\" x=\"572.208\" y=\"-343.8\" font-family=\"Times,serif\" font-size=\"14.00\">1</text>\n",
       "</g>\n",
       "<!-- St12&#45;&gt;St6 -->\n",
       "<g id=\"edge27\" class=\"edge\"><title>St12&#45;&gt;St6</title>\n",
       "<path fill=\"none\" stroke=\"black\" d=\"M805.005,-262.659C818.282,-253.26 834.675,-241.655 848.122,-232.136\"/>\n",
       "<polygon fill=\"black\" stroke=\"black\" points=\"850.33,-234.86 856.47,-226.226 846.286,-229.147 850.33,-234.86\"/>\n",
       "<text text-anchor=\"middle\" x=\"831.336\" y=\"-248.8\" font-family=\"Times,serif\" font-size=\"14.00\">0</text>\n",
       "</g>\n",
       "<!-- St4&#45;&gt;St11 -->\n",
       "<g id=\"edge29\" class=\"edge\"><title>St4&#45;&gt;St11</title>\n",
       "<path fill=\"none\" stroke=\"black\" d=\"M1362.55,-242.759C1373.38,-239.027 1386.38,-234.551 1398.15,-230.495\"/>\n",
       "<polygon fill=\"black\" stroke=\"black\" points=\"1399.37,-233.779 1407.68,-227.213 1397.09,-227.16 1399.37,-233.779\"/>\n",
       "<text text-anchor=\"middle\" x=\"1385.03\" y=\"-238.8\" font-family=\"Times,serif\" font-size=\"14.00\">0</text>\n",
       "</g>\n",
       "<!-- St4&#45;&gt;St9 -->\n",
       "<g id=\"edge28\" class=\"edge\"><title>St4&#45;&gt;St9</title>\n",
       "<path fill=\"none\" stroke=\"black\" d=\"M1311.95,-247.388C1301.68,-245.886 1289.65,-244.125 1278.8,-242.537\"/>\n",
       "<polygon fill=\"black\" stroke=\"black\" points=\"1279.26,-239.066 1268.86,-241.081 1278.25,-245.992 1279.26,-239.066\"/>\n",
       "<text text-anchor=\"middle\" x=\"1290.22\" y=\"-247.8\" font-family=\"Times,serif\" font-size=\"14.00\">1</text>\n",
       "</g>\n",
       "<!-- St3&#45;&gt;St7 -->\n",
       "<g id=\"edge24\" class=\"edge\"><title>St3&#45;&gt;St7</title>\n",
       "<path fill=\"none\" stroke=\"black\" d=\"M991.418,-175.908C1001.7,-173.804 1013.78,-171.33 1024.89,-169.056\"/>\n",
       "<polygon fill=\"black\" stroke=\"black\" points=\"1025.64,-172.474 1034.74,-167.04 1024.24,-165.617 1025.64,-172.474\"/>\n",
       "<text text-anchor=\"middle\" x=\"1012.95\" y=\"-175.8\" font-family=\"Times,serif\" font-size=\"14.00\">1</text>\n",
       "</g>\n",
       "<!-- St3&#45;&gt;St8 -->\n",
       "<g id=\"edge25\" class=\"edge\"><title>St3&#45;&gt;St8</title>\n",
       "<path fill=\"none\" stroke=\"black\" d=\"M985.736,-197.883C1033.45,-238.055 1162.75,-336 1289.22,-336 1289.22,-336 1289.22,-336 1433.53,-336 1455.5,-336 1478.45,-326.957 1496.05,-317.812\"/>\n",
       "<polygon fill=\"black\" stroke=\"black\" points=\"1498.15,-320.654 1505.23,-312.777 1494.78,-314.515 1498.15,-320.654\"/>\n",
       "<text text-anchor=\"middle\" x=\"1246.81\" y=\"-338.8\" font-family=\"Times,serif\" font-size=\"14.00\">0</text>\n",
       "</g>\n",
       "<!-- St7&#45;&gt;St1 -->\n",
       "<g id=\"edge30\" class=\"edge\"><title>St7&#45;&gt;St1</title>\n",
       "<path fill=\"none\" stroke=\"black\" d=\"M1046.25,-140.273C1030.48,-117.193 1001.7,-84 966.547,-84 830.336,-84 830.336,-84 830.336,-84 738.934,-84 716.435,-96 625.033,-96 372.327,-96 372.327,-96 372.327,-96 353.251,-96 332.576,-101.488 316.415,-107.102\"/>\n",
       "<polygon fill=\"black\" stroke=\"black\" points=\"315.17,-103.831 306.991,-110.566 317.585,-110.401 315.17,-103.831\"/>\n",
       "<text text-anchor=\"middle\" x=\"675.859\" y=\"-98.8\" font-family=\"Times,serif\" font-size=\"14.00\">1</text>\n",
       "</g>\n",
       "<!-- St7&#45;&gt;St13 -->\n",
       "<g id=\"edge31\" class=\"edge\"><title>St7&#45;&gt;St13</title>\n",
       "<path fill=\"none\" stroke=\"black\" d=\"M1085.36,-170.241C1096.15,-173.944 1109.08,-178.38 1120.82,-182.411\"/>\n",
       "<polygon fill=\"black\" stroke=\"black\" points=\"1119.74,-185.74 1130.33,-185.676 1122.01,-179.119 1119.74,-185.74\"/>\n",
       "<text text-anchor=\"middle\" x=\"1107.76\" y=\"-181.8\" font-family=\"Times,serif\" font-size=\"14.00\">0</text>\n",
       "</g>\n",
       "<!-- St8&#45;&gt;St2 -->\n",
       "<g id=\"edge32\" class=\"edge\"><title>St8&#45;&gt;St2</title>\n",
       "<path fill=\"none\" stroke=\"black\" d=\"M1514.27,-321.51C1498.99,-346.392 1470.28,-383 1433.53,-383 285.519,-383 285.519,-383 285.519,-383 228.67,-383 208.538,-186.037 202.731,-106.616\"/>\n",
       "<polygon fill=\"black\" stroke=\"black\" points=\"206.193,-105.954 202.004,-96.2225 199.21,-106.442 206.193,-105.954\"/>\n",
       "<text text-anchor=\"middle\" x=\"874.74\" y=\"-385.8\" font-family=\"Times,serif\" font-size=\"14.00\">1</text>\n",
       "</g>\n",
       "<!-- St8&#45;&gt;St0 -->\n",
       "<g id=\"edge33\" class=\"edge\"><title>St8&#45;&gt;St0</title>\n",
       "<path fill=\"none\" stroke=\"black\" d=\"M1524.01,-273.249C1516.49,-200.722 1490.54,-0 1433.53,-0 198.712,-0 198.712,-0 198.712,-0 179.327,-0 158.501,-6.28597 142.338,-12.6763\"/>\n",
       "<polygon fill=\"black\" stroke=\"black\" points=\"140.805,-9.5238 132.932,-16.6134 143.508,-15.981 140.805,-9.5238\"/>\n",
       "<text text-anchor=\"middle\" x=\"831.336\" y=\"-2.8\" font-family=\"Times,serif\" font-size=\"14.00\">0</text>\n",
       "</g>\n",
       "<!-- St15&#45;&gt;St14 -->\n",
       "<g id=\"edge20\" class=\"edge\"><title>St15&#45;&gt;St14</title>\n",
       "<path fill=\"none\" stroke=\"black\" d=\"M602.065,-236.962C612.581,-239.134 624.65,-241.627 635.898,-243.951\"/>\n",
       "<polygon fill=\"black\" stroke=\"black\" points=\"635.428,-247.428 645.929,-246.024 636.844,-240.573 635.428,-247.428\"/>\n",
       "<text text-anchor=\"middle\" x=\"624.033\" y=\"-245.8\" font-family=\"Times,serif\" font-size=\"14.00\">1</text>\n",
       "</g>\n",
       "<!-- St15&#45;&gt;St3 -->\n",
       "<g id=\"edge21\" class=\"edge\"><title>St15&#45;&gt;St3</title>\n",
       "<path fill=\"none\" stroke=\"black\" d=\"M599.345,-217.012C645.761,-193.701 746.053,-150.19 834.836,-158 867.274,-160.854 903.754,-167.648 929.745,-173.116\"/>\n",
       "<polygon fill=\"black\" stroke=\"black\" points=\"929.341,-176.609 939.853,-175.288 930.811,-169.765 929.341,-176.609\"/>\n",
       "<text text-anchor=\"middle\" x=\"779.51\" y=\"-166.8\" font-family=\"Times,serif\" font-size=\"14.00\">0</text>\n",
       "</g>\n",
       "</g>\n",
       "</svg>\n"
      ],
      "text/plain": [
       "<graphviz.dot.Digraph at 0x107528550>"
      ]
     },
     "execution_count": 9,
     "metadata": {},
     "output_type": "execute_result"
    }
   ],
   "source": [
    "dotObj_dfa(min_dfa(nfa2dfa(fourthlast)))"
   ]
  },
  {
   "cell_type": "code",
   "execution_count": 10,
   "metadata": {
    "run_control": {
     "frozen": false,
     "read_only": false
    }
   },
   "outputs": [
    {
     "data": {
      "image/svg+xml": [
       "<?xml version=\"1.0\" encoding=\"UTF-8\" standalone=\"no\"?>\n",
       "<!DOCTYPE svg PUBLIC \"-//W3C//DTD SVG 1.1//EN\"\n",
       " \"http://www.w3.org/Graphics/SVG/1.1/DTD/svg11.dtd\">\n",
       "<!-- Generated by graphviz version 2.38.0 (20140413.2041)\n",
       " -->\n",
       "<!-- Title: %3 Pages: 1 -->\n",
       "<svg width=\"3156pt\" height=\"738pt\"\n",
       " viewBox=\"0.00 0.00 3155.76 738.00\" xmlns=\"http://www.w3.org/2000/svg\" xmlns:xlink=\"http://www.w3.org/1999/xlink\">\n",
       "<g id=\"graph0\" class=\"graph\" transform=\"scale(1 1) rotate(0) translate(4 734)\">\n",
       "<title>%3</title>\n",
       "<polygon fill=\"white\" stroke=\"none\" points=\"-4,4 -4,-734 3151.76,-734 3151.76,4 -4,4\"/>\n",
       "<!-- EMPTY -->\n",
       "<g id=\"node1\" class=\"node\"><title>EMPTY</title>\n",
       "</g>\n",
       "<!-- St21 -->\n",
       "<g id=\"node3\" class=\"node\"><title>St21</title>\n",
       "<ellipse fill=\"none\" stroke=\"black\" cx=\"117.326\" cy=\"-31\" rx=\"26.1523\" ry=\"26.1523\"/>\n",
       "<text text-anchor=\"middle\" x=\"117.326\" y=\"-26.8\" font-family=\"Times,serif\" font-size=\"14.00\">St21</text>\n",
       "</g>\n",
       "<!-- EMPTY&#45;&gt;St21 -->\n",
       "<g id=\"edge1\" class=\"edge\"><title>EMPTY&#45;&gt;St21</title>\n",
       "<path fill=\"none\" stroke=\"black\" d=\"M54.0229,-31C62.3619,-31 71.7453,-31 80.6503,-31\"/>\n",
       "<polygon fill=\"black\" stroke=\"black\" points=\"80.793,-34.5001 90.793,-31 80.793,-27.5001 80.793,-34.5001\"/>\n",
       "</g>\n",
       "<!-- St2 -->\n",
       "<g id=\"node2\" class=\"node\"><title>St2</title>\n",
       "<ellipse fill=\"none\" stroke=\"black\" cx=\"789.815\" cy=\"-153\" rx=\"21.8081\" ry=\"21.8081\"/>\n",
       "<text text-anchor=\"middle\" x=\"789.815\" y=\"-148.8\" font-family=\"Times,serif\" font-size=\"14.00\">St2</text>\n",
       "</g>\n",
       "<!-- St9 -->\n",
       "<g id=\"node6\" class=\"node\"><title>St9</title>\n",
       "<ellipse fill=\"none\" stroke=\"black\" cx=\"876.622\" cy=\"-262\" rx=\"21.8081\" ry=\"21.8081\"/>\n",
       "<text text-anchor=\"middle\" x=\"876.622\" y=\"-257.8\" font-family=\"Times,serif\" font-size=\"14.00\">St9</text>\n",
       "</g>\n",
       "<!-- St2&#45;&gt;St9 -->\n",
       "<g id=\"edge11\" class=\"edge\"><title>St2&#45;&gt;St9</title>\n",
       "<path fill=\"none\" stroke=\"black\" d=\"M804.066,-170.031C818.069,-188.029 840.293,-216.593 856.259,-237.113\"/>\n",
       "<polygon fill=\"black\" stroke=\"black\" points=\"853.561,-239.345 862.464,-245.088 859.086,-235.047 853.561,-239.345\"/>\n",
       "<text text-anchor=\"middle\" x=\"833.218\" y=\"-213.8\" font-family=\"Times,serif\" font-size=\"14.00\">0</text>\n",
       "</g>\n",
       "<!-- St19 -->\n",
       "<g id=\"node15\" class=\"node\"><title>St19</title>\n",
       "<ellipse fill=\"none\" stroke=\"black\" cx=\"1954.68\" cy=\"-282\" rx=\"26.1523\" ry=\"26.1523\"/>\n",
       "<text text-anchor=\"middle\" x=\"1954.68\" y=\"-277.8\" font-family=\"Times,serif\" font-size=\"14.00\">St19</text>\n",
       "</g>\n",
       "<!-- St2&#45;&gt;St19 -->\n",
       "<g id=\"edge10\" class=\"edge\"><title>St2&#45;&gt;St19</title>\n",
       "<path fill=\"none\" stroke=\"black\" d=\"M811.48,-156.275C886.244,-167.831 1149.77,-206 1368.61,-206 1368.61,-206 1368.61,-206 1604.9,-206 1722.89,-206 1858.3,-248.041 1919.95,-269.586\"/>\n",
       "<polygon fill=\"black\" stroke=\"black\" points=\"1918.95,-272.945 1929.55,-272.983 1921.29,-266.346 1918.95,-272.945\"/>\n",
       "<text text-anchor=\"middle\" x=\"1369.61\" y=\"-208.8\" font-family=\"Times,serif\" font-size=\"14.00\">1</text>\n",
       "</g>\n",
       "<!-- St21&#45;&gt;St21 -->\n",
       "<g id=\"edge3\" class=\"edge\"><title>St21&#45;&gt;St21</title>\n",
       "<path fill=\"none\" stroke=\"black\" d=\"M109.148,-56.0622C108.584,-66.4879 111.31,-75.3256 117.326,-75.3256 121.179,-75.3256 123.683,-71.6986 124.836,-66.3506\"/>\n",
       "<polygon fill=\"black\" stroke=\"black\" points=\"128.349,-66.2676 125.503,-56.0622 121.364,-65.8149 128.349,-66.2676\"/>\n",
       "<text text-anchor=\"middle\" x=\"117.326\" y=\"-78.1256\" font-family=\"Times,serif\" font-size=\"14.00\">0</text>\n",
       "</g>\n",
       "<!-- St15 -->\n",
       "<g id=\"node10\" class=\"node\"><title>St15</title>\n",
       "<ellipse fill=\"none\" stroke=\"black\" cx=\"212.977\" cy=\"-92\" rx=\"26.1523\" ry=\"26.1523\"/>\n",
       "<text text-anchor=\"middle\" x=\"212.977\" y=\"-87.8\" font-family=\"Times,serif\" font-size=\"14.00\">St15</text>\n",
       "</g>\n",
       "<!-- St21&#45;&gt;St15 -->\n",
       "<g id=\"edge2\" class=\"edge\"><title>St21&#45;&gt;St15</title>\n",
       "<path fill=\"none\" stroke=\"black\" d=\"M140.046,-45.1479C152.457,-53.2319 168.209,-63.4917 181.806,-72.3483\"/>\n",
       "<polygon fill=\"black\" stroke=\"black\" points=\"180.084,-75.4036 190.374,-77.9288 183.905,-69.5381 180.084,-75.4036\"/>\n",
       "<text text-anchor=\"middle\" x=\"165.151\" y=\"-66.8\" font-family=\"Times,serif\" font-size=\"14.00\">1</text>\n",
       "</g>\n",
       "<!-- St10 -->\n",
       "<g id=\"node4\" class=\"node\"><title>St10</title>\n",
       "<ellipse fill=\"none\" stroke=\"black\" cx=\"403.631\" cy=\"-539\" rx=\"26.1523\" ry=\"26.1523\"/>\n",
       "<text text-anchor=\"middle\" x=\"403.631\" y=\"-534.8\" font-family=\"Times,serif\" font-size=\"14.00\">St10</text>\n",
       "</g>\n",
       "<!-- St24 -->\n",
       "<g id=\"node8\" class=\"node\"><title>St24</title>\n",
       "<ellipse fill=\"none\" stroke=\"black\" cx=\"499.283\" cy=\"-458\" rx=\"26.1523\" ry=\"26.1523\"/>\n",
       "<text text-anchor=\"middle\" x=\"499.283\" y=\"-453.8\" font-family=\"Times,serif\" font-size=\"14.00\">St24</text>\n",
       "</g>\n",
       "<!-- St10&#45;&gt;St24 -->\n",
       "<g id=\"edge17\" class=\"edge\"><title>St10&#45;&gt;St24</title>\n",
       "<path fill=\"none\" stroke=\"black\" d=\"M421.388,-518.808C429.061,-510.112 438.532,-500.103 447.957,-492 454.141,-486.683 461.182,-481.476 467.998,-476.797\"/>\n",
       "<polygon fill=\"black\" stroke=\"black\" points=\"470.044,-479.639 476.429,-471.184 466.165,-473.812 470.044,-479.639\"/>\n",
       "<text text-anchor=\"middle\" x=\"451.457\" y=\"-494.8\" font-family=\"Times,serif\" font-size=\"14.00\">0</text>\n",
       "</g>\n",
       "<!-- St18 -->\n",
       "<g id=\"node9\" class=\"node\"><title>St18</title>\n",
       "<ellipse fill=\"none\" stroke=\"black\" cx=\"1269.96\" cy=\"-474\" rx=\"26.1523\" ry=\"26.1523\"/>\n",
       "<text text-anchor=\"middle\" x=\"1269.96\" y=\"-469.8\" font-family=\"Times,serif\" font-size=\"14.00\">St18</text>\n",
       "</g>\n",
       "<!-- St10&#45;&gt;St18 -->\n",
       "<g id=\"edge16\" class=\"edge\"><title>St10&#45;&gt;St18</title>\n",
       "<path fill=\"none\" stroke=\"black\" d=\"M429.005,-531.272C447.747,-526.012 474.393,-520 498.283,-520 498.283,-520 498.283,-520 834.218,-520 966.237,-520 999.991,-521.621 1130.83,-504 1166.41,-499.208 1206.44,-490.094 1234.21,-483.164\"/>\n",
       "<polygon fill=\"black\" stroke=\"black\" points=\"1235.39,-486.477 1244.22,-480.628 1233.67,-479.692 1235.39,-486.477\"/>\n",
       "<text text-anchor=\"middle\" x=\"833.218\" y=\"-522.8\" font-family=\"Times,serif\" font-size=\"14.00\">1</text>\n",
       "</g>\n",
       "<!-- St11 -->\n",
       "<g id=\"node5\" class=\"node\"><title>St11</title>\n",
       "<ellipse fill=\"none\" stroke=\"black\" cx=\"308.304\" cy=\"-580\" rx=\"26.0035\" ry=\"26.0035\"/>\n",
       "<text text-anchor=\"middle\" x=\"308.304\" y=\"-575.8\" font-family=\"Times,serif\" font-size=\"14.00\">St11</text>\n",
       "</g>\n",
       "<!-- St11&#45;&gt;St10 -->\n",
       "<g id=\"edge9\" class=\"edge\"><title>St11&#45;&gt;St10</title>\n",
       "<path fill=\"none\" stroke=\"black\" d=\"M332.374,-569.865C343.618,-564.925 357.343,-558.896 369.668,-553.481\"/>\n",
       "<polygon fill=\"black\" stroke=\"black\" points=\"371.431,-556.53 379.179,-549.303 368.616,-550.121 371.431,-556.53\"/>\n",
       "<text text-anchor=\"middle\" x=\"355.806\" y=\"-563.8\" font-family=\"Times,serif\" font-size=\"14.00\">0</text>\n",
       "</g>\n",
       "<!-- St6 -->\n",
       "<g id=\"node11\" class=\"node\"><title>St6</title>\n",
       "<ellipse fill=\"none\" stroke=\"black\" cx=\"1464.84\" cy=\"-508\" rx=\"21.8081\" ry=\"21.8081\"/>\n",
       "<text text-anchor=\"middle\" x=\"1464.84\" y=\"-503.8\" font-family=\"Times,serif\" font-size=\"14.00\">St6</text>\n",
       "</g>\n",
       "<!-- St11&#45;&gt;St6 -->\n",
       "<g id=\"edge8\" class=\"edge\"><title>St11&#45;&gt;St6</title>\n",
       "<path fill=\"none\" stroke=\"black\" d=\"M320.079,-603.72C334.544,-631.567 363.077,-674 402.631,-674 402.631,-674 402.631,-674 834.218,-674 941.035,-674 967.687,-669 1074.5,-669 1074.5,-669 1074.5,-669 1223.14,-669 1319.69,-669 1406.84,-578.393 1444.36,-533.123\"/>\n",
       "<polygon fill=\"black\" stroke=\"black\" points=\"1447.18,-535.197 1450.78,-525.23 1441.75,-530.78 1447.18,-535.197\"/>\n",
       "<text text-anchor=\"middle\" x=\"876.622\" y=\"-676.8\" font-family=\"Times,serif\" font-size=\"14.00\">1</text>\n",
       "</g>\n",
       "<!-- St17 -->\n",
       "<g id=\"node21\" class=\"node\"><title>St17</title>\n",
       "<ellipse fill=\"none\" stroke=\"black\" cx=\"971.852\" cy=\"-356\" rx=\"26.1751\" ry=\"26.1751\"/>\n",
       "<ellipse fill=\"none\" stroke=\"black\" cx=\"971.852\" cy=\"-356\" rx=\"30.1522\" ry=\"30.1522\"/>\n",
       "<text text-anchor=\"middle\" x=\"971.852\" y=\"-351.8\" font-family=\"Times,serif\" font-size=\"14.00\">St17</text>\n",
       "</g>\n",
       "<!-- St9&#45;&gt;St17 -->\n",
       "<g id=\"edge20\" class=\"edge\"><title>St9&#45;&gt;St17</title>\n",
       "<path fill=\"none\" stroke=\"black\" d=\"M891.105,-279.12C898.348,-288.005 907.601,-298.88 916.526,-308 923.92,-315.556 932.311,-323.321 940.248,-330.345\"/>\n",
       "<polygon fill=\"black\" stroke=\"black\" points=\"938.143,-333.153 947.981,-337.086 942.743,-327.877 938.143,-333.153\"/>\n",
       "<text text-anchor=\"middle\" x=\"920.026\" y=\"-317.8\" font-family=\"Times,serif\" font-size=\"14.00\">1</text>\n",
       "</g>\n",
       "<!-- St23 -->\n",
       "<g id=\"node33\" class=\"node\"><title>St23</title>\n",
       "<ellipse fill=\"none\" stroke=\"black\" cx=\"2252.79\" cy=\"-252\" rx=\"26.1751\" ry=\"26.1751\"/>\n",
       "<ellipse fill=\"none\" stroke=\"black\" cx=\"2252.79\" cy=\"-252\" rx=\"30.1522\" ry=\"30.1522\"/>\n",
       "<text text-anchor=\"middle\" x=\"2252.79\" y=\"-247.8\" font-family=\"Times,serif\" font-size=\"14.00\">St23</text>\n",
       "</g>\n",
       "<!-- St9&#45;&gt;St23 -->\n",
       "<g id=\"edge21\" class=\"edge\"><title>St9&#45;&gt;St23</title>\n",
       "<path fill=\"none\" stroke=\"black\" d=\"M897.367,-254.608C938.689,-239.518 1037.61,-205.383 1123.83,-191 1467.08,-133.74 1557.85,-152 1905.85,-152 1905.85,-152 1905.85,-152 2154.56,-152 2191.16,-152 2218.43,-186.857 2234.63,-215.412\"/>\n",
       "<polygon fill=\"black\" stroke=\"black\" points=\"2231.67,-217.281 2239.5,-224.41 2237.82,-213.949 2231.67,-217.281\"/>\n",
       "<text text-anchor=\"middle\" x=\"1556.07\" y=\"-152.8\" font-family=\"Times,serif\" font-size=\"14.00\">0</text>\n",
       "</g>\n",
       "<!-- St4 -->\n",
       "<g id=\"node7\" class=\"node\"><title>St4</title>\n",
       "<ellipse fill=\"none\" stroke=\"black\" cx=\"2633.28\" cy=\"-286\" rx=\"21.8081\" ry=\"21.8081\"/>\n",
       "<text text-anchor=\"middle\" x=\"2633.28\" y=\"-281.8\" font-family=\"Times,serif\" font-size=\"14.00\">St4</text>\n",
       "</g>\n",
       "<!-- St12 -->\n",
       "<g id=\"node26\" class=\"node\"><title>St12</title>\n",
       "<ellipse fill=\"none\" stroke=\"black\" cx=\"1075.5\" cy=\"-378\" rx=\"26.1751\" ry=\"26.1751\"/>\n",
       "<ellipse fill=\"none\" stroke=\"black\" cx=\"1075.5\" cy=\"-378\" rx=\"30.1522\" ry=\"30.1522\"/>\n",
       "<text text-anchor=\"middle\" x=\"1075.5\" y=\"-373.8\" font-family=\"Times,serif\" font-size=\"14.00\">St12</text>\n",
       "</g>\n",
       "<!-- St4&#45;&gt;St12 -->\n",
       "<g id=\"edge23\" class=\"edge\"><title>St4&#45;&gt;St12</title>\n",
       "<path fill=\"none\" stroke=\"black\" d=\"M2612.31,-278.941C2549.53,-256.771 2359.86,-190 2353.02,-190 2105.15,-190 2105.15,-190 2105.15,-190 1873.54,-190 1836.51,-336 1604.9,-336 1173.73,-336 1173.73,-336 1173.73,-336 1151.18,-336 1127.93,-345.637 1109.82,-355.678\"/>\n",
       "<polygon fill=\"black\" stroke=\"black\" points=\"1107.72,-352.852 1100.85,-360.917 1111.25,-358.897 1107.72,-352.852\"/>\n",
       "<text text-anchor=\"middle\" x=\"1855.03\" y=\"-281.8\" font-family=\"Times,serif\" font-size=\"14.00\">0</text>\n",
       "</g>\n",
       "<!-- St7 -->\n",
       "<g id=\"node30\" class=\"node\"><title>St7</title>\n",
       "<ellipse fill=\"none\" stroke=\"black\" cx=\"2724.09\" cy=\"-415\" rx=\"21.8229\" ry=\"21.8229\"/>\n",
       "<ellipse fill=\"none\" stroke=\"black\" cx=\"2724.09\" cy=\"-415\" rx=\"25.8081\" ry=\"25.8081\"/>\n",
       "<text text-anchor=\"middle\" x=\"2724.09\" y=\"-410.8\" font-family=\"Times,serif\" font-size=\"14.00\">St7</text>\n",
       "</g>\n",
       "<!-- St4&#45;&gt;St7 -->\n",
       "<g id=\"edge22\" class=\"edge\"><title>St4&#45;&gt;St7</title>\n",
       "<path fill=\"none\" stroke=\"black\" d=\"M2646.45,-303.666C2660.98,-324.777 2685.51,-360.409 2702.9,-385.671\"/>\n",
       "<polygon fill=\"black\" stroke=\"black\" points=\"2700.17,-387.882 2708.73,-394.134 2705.94,-383.912 2700.17,-387.882\"/>\n",
       "<text text-anchor=\"middle\" x=\"2676.69\" y=\"-353.8\" font-family=\"Times,serif\" font-size=\"14.00\">1</text>\n",
       "</g>\n",
       "<!-- St14 -->\n",
       "<g id=\"node20\" class=\"node\"><title>St14</title>\n",
       "<ellipse fill=\"none\" stroke=\"black\" cx=\"3117.43\" cy=\"-85\" rx=\"26.1751\" ry=\"26.1751\"/>\n",
       "<ellipse fill=\"none\" stroke=\"black\" cx=\"3117.43\" cy=\"-85\" rx=\"30.1522\" ry=\"30.1522\"/>\n",
       "<text text-anchor=\"middle\" x=\"3117.43\" y=\"-80.8\" font-family=\"Times,serif\" font-size=\"14.00\">St14</text>\n",
       "</g>\n",
       "<!-- St24&#45;&gt;St14 -->\n",
       "<g id=\"edge33\" class=\"edge\"><title>St24&#45;&gt;St14</title>\n",
       "<path fill=\"none\" stroke=\"black\" d=\"M503.741,-432.044C516.658,-340.475 565.687,-38 649.759,-38 649.759,-38 649.759,-38 3014.78,-38 3039.62,-38 3064.99,-49.707 3084.16,-61.4355\"/>\n",
       "<polygon fill=\"black\" stroke=\"black\" points=\"3082.48,-64.5112 3092.78,-66.963 3086.26,-58.6186 3082.48,-64.5112\"/>\n",
       "<text text-anchor=\"middle\" x=\"1803.2\" y=\"-40.8\" font-family=\"Times,serif\" font-size=\"14.00\">0</text>\n",
       "</g>\n",
       "<!-- St13 -->\n",
       "<g id=\"node25\" class=\"node\"><title>St13</title>\n",
       "<ellipse fill=\"none\" stroke=\"black\" cx=\"598.934\" cy=\"-616\" rx=\"26.1751\" ry=\"26.1751\"/>\n",
       "<ellipse fill=\"none\" stroke=\"black\" cx=\"598.934\" cy=\"-616\" rx=\"30.1522\" ry=\"30.1522\"/>\n",
       "<text text-anchor=\"middle\" x=\"598.934\" y=\"-611.8\" font-family=\"Times,serif\" font-size=\"14.00\">St13</text>\n",
       "</g>\n",
       "<!-- St24&#45;&gt;St13 -->\n",
       "<g id=\"edge32\" class=\"edge\"><title>St24&#45;&gt;St13</title>\n",
       "<path fill=\"none\" stroke=\"black\" d=\"M513.861,-479.969C530.173,-506.363 557.725,-550.943 576.822,-581.84\"/>\n",
       "<polygon fill=\"black\" stroke=\"black\" points=\"573.976,-583.893 582.211,-590.56 579.93,-580.213 573.976,-583.893\"/>\n",
       "<text text-anchor=\"middle\" x=\"547.108\" y=\"-539.8\" font-family=\"Times,serif\" font-size=\"14.00\">1</text>\n",
       "</g>\n",
       "<!-- St16 -->\n",
       "<g id=\"node19\" class=\"node\"><title>St16</title>\n",
       "<ellipse fill=\"none\" stroke=\"black\" cx=\"1369.61\" cy=\"-532\" rx=\"26.1751\" ry=\"26.1751\"/>\n",
       "<ellipse fill=\"none\" stroke=\"black\" cx=\"1369.61\" cy=\"-532\" rx=\"30.1522\" ry=\"30.1522\"/>\n",
       "<text text-anchor=\"middle\" x=\"1369.61\" y=\"-527.8\" font-family=\"Times,serif\" font-size=\"14.00\">St16</text>\n",
       "</g>\n",
       "<!-- St18&#45;&gt;St16 -->\n",
       "<g id=\"edge31\" class=\"edge\"><title>St18&#45;&gt;St16</title>\n",
       "<path fill=\"none\" stroke=\"black\" d=\"M1293.12,-487.161C1305.31,-494.399 1320.69,-503.536 1334.39,-511.671\"/>\n",
       "<polygon fill=\"black\" stroke=\"black\" points=\"1332.71,-514.744 1343.09,-516.842 1336.28,-508.726 1332.71,-514.744\"/>\n",
       "<text text-anchor=\"middle\" x=\"1317.79\" y=\"-505.8\" font-family=\"Times,serif\" font-size=\"14.00\">0</text>\n",
       "</g>\n",
       "<!-- St29 -->\n",
       "<g id=\"node28\" class=\"node\"><title>St29</title>\n",
       "<ellipse fill=\"none\" stroke=\"black\" cx=\"2451.25\" cy=\"-340\" rx=\"26.1751\" ry=\"26.1751\"/>\n",
       "<ellipse fill=\"none\" stroke=\"black\" cx=\"2451.25\" cy=\"-340\" rx=\"30.1522\" ry=\"30.1522\"/>\n",
       "<text text-anchor=\"middle\" x=\"2451.25\" y=\"-335.8\" font-family=\"Times,serif\" font-size=\"14.00\">St29</text>\n",
       "</g>\n",
       "<!-- St18&#45;&gt;St29 -->\n",
       "<g id=\"edge30\" class=\"edge\"><title>St18&#45;&gt;St29</title>\n",
       "<path fill=\"none\" stroke=\"black\" d=\"M1296.28,-472.092C1322.37,-469.93 1364.16,-465.919 1399.94,-460 1458.26,-450.351 1471.73,-442.325 1529.75,-431 1572.05,-422.743 1582.63,-420.392 1625.4,-415 1713.6,-403.88 1735.98,-403.658 1824.7,-398 1940.1,-390.64 1969.43,-396.826 2084.65,-387 2203.89,-376.832 2344,-356.441 2410.87,-346.187\"/>\n",
       "<polygon fill=\"black\" stroke=\"black\" points=\"2411.61,-349.615 2420.96,-344.632 2410.54,-342.696 2411.61,-349.615\"/>\n",
       "<text text-anchor=\"middle\" x=\"1855.03\" y=\"-400.8\" font-family=\"Times,serif\" font-size=\"14.00\">1</text>\n",
       "</g>\n",
       "<!-- St15&#45;&gt;St11 -->\n",
       "<g id=\"edge5\" class=\"edge\"><title>St15&#45;&gt;St11</title>\n",
       "<path fill=\"none\" stroke=\"black\" d=\"M218.929,-117.892C234.513,-199.383 282.581,-450.725 300.488,-544.36\"/>\n",
       "<polygon fill=\"black\" stroke=\"black\" points=\"297.104,-545.3 302.421,-554.464 303.98,-543.985 297.104,-545.3\"/>\n",
       "<text text-anchor=\"middle\" x=\"260.802\" y=\"-353.8\" font-family=\"Times,serif\" font-size=\"14.00\">0</text>\n",
       "</g>\n",
       "<!-- St22 -->\n",
       "<g id=\"node16\" class=\"node\"><title>St22</title>\n",
       "<ellipse fill=\"none\" stroke=\"black\" cx=\"698.585\" cy=\"-111\" rx=\"26.1523\" ry=\"26.1523\"/>\n",
       "<text text-anchor=\"middle\" x=\"698.585\" y=\"-106.8\" font-family=\"Times,serif\" font-size=\"14.00\">St22</text>\n",
       "</g>\n",
       "<!-- St15&#45;&gt;St22 -->\n",
       "<g id=\"edge4\" class=\"edge\"><title>St15&#45;&gt;St22</title>\n",
       "<path fill=\"none\" stroke=\"black\" d=\"M238.735,-85.3998C257.43,-80.9924 283.796,-76 307.304,-76 307.304,-76 307.304,-76 599.934,-76 623.091,-76 647.622,-84.8303 666.304,-93.6202\"/>\n",
       "<polygon fill=\"black\" stroke=\"black\" points=\"664.987,-96.8731 675.502,-98.166 668.088,-90.5976 664.987,-96.8731\"/>\n",
       "<text text-anchor=\"middle\" x=\"451.457\" y=\"-78.8\" font-family=\"Times,serif\" font-size=\"14.00\">1</text>\n",
       "</g>\n",
       "<!-- St27 -->\n",
       "<g id=\"node13\" class=\"node\"><title>St27</title>\n",
       "<ellipse fill=\"none\" stroke=\"black\" cx=\"1556.07\" cy=\"-466\" rx=\"26.1523\" ry=\"26.1523\"/>\n",
       "<text text-anchor=\"middle\" x=\"1556.07\" y=\"-461.8\" font-family=\"Times,serif\" font-size=\"14.00\">St27</text>\n",
       "</g>\n",
       "<!-- St6&#45;&gt;St27 -->\n",
       "<g id=\"edge15\" class=\"edge\"><title>St6&#45;&gt;St27</title>\n",
       "<path fill=\"none\" stroke=\"black\" d=\"M1485.2,-498.887C1496.15,-493.734 1510.12,-487.158 1522.69,-481.243\"/>\n",
       "<polygon fill=\"black\" stroke=\"black\" points=\"1524.39,-484.308 1531.95,-476.883 1521.41,-477.975 1524.39,-484.308\"/>\n",
       "<text text-anchor=\"middle\" x=\"1508.25\" y=\"-492.8\" font-family=\"Times,serif\" font-size=\"14.00\">0</text>\n",
       "</g>\n",
       "<!-- St31 -->\n",
       "<g id=\"node17\" class=\"node\"><title>St31</title>\n",
       "<ellipse fill=\"none\" stroke=\"black\" cx=\"1755.37\" cy=\"-494\" rx=\"26.1523\" ry=\"26.1523\"/>\n",
       "<text text-anchor=\"middle\" x=\"1755.37\" y=\"-489.8\" font-family=\"Times,serif\" font-size=\"14.00\">St31</text>\n",
       "</g>\n",
       "<!-- St6&#45;&gt;St31 -->\n",
       "<g id=\"edge14\" class=\"edge\"><title>St6&#45;&gt;St31</title>\n",
       "<path fill=\"none\" stroke=\"black\" d=\"M1486.87,-507.11C1494.68,-506.772 1503.62,-506.378 1511.75,-506 1585.38,-502.575 1671.57,-498.233 1718.84,-495.823\"/>\n",
       "<polygon fill=\"black\" stroke=\"black\" points=\"1719.07,-499.316 1728.88,-495.31 1718.71,-492.325 1719.07,-499.316\"/>\n",
       "<text text-anchor=\"middle\" x=\"1603.9\" y=\"-504.8\" font-family=\"Times,serif\" font-size=\"14.00\">1</text>\n",
       "</g>\n",
       "<!-- St3 -->\n",
       "<g id=\"node12\" class=\"node\"><title>St3</title>\n",
       "<ellipse fill=\"none\" stroke=\"black\" cx=\"2546.48\" cy=\"-217\" rx=\"21.8081\" ry=\"21.8081\"/>\n",
       "<text text-anchor=\"middle\" x=\"2546.48\" y=\"-212.8\" font-family=\"Times,serif\" font-size=\"14.00\">St3</text>\n",
       "</g>\n",
       "<!-- St3&#45;&gt;St4 -->\n",
       "<g id=\"edge12\" class=\"edge\"><title>St3&#45;&gt;St4</title>\n",
       "<path fill=\"none\" stroke=\"black\" d=\"M2566.09,-226.856C2574.74,-231.807 2584.96,-238.194 2593.38,-245 2599.57,-250.003 2605.74,-255.953 2611.29,-261.747\"/>\n",
       "<polygon fill=\"black\" stroke=\"black\" points=\"2609.05,-264.478 2618.41,-269.447 2614.19,-259.727 2609.05,-264.478\"/>\n",
       "<text text-anchor=\"middle\" x=\"2589.88\" y=\"-247.8\" font-family=\"Times,serif\" font-size=\"14.00\">1</text>\n",
       "</g>\n",
       "<!-- St28 -->\n",
       "<g id=\"node14\" class=\"node\"><title>St28</title>\n",
       "<ellipse fill=\"none\" stroke=\"black\" cx=\"2914.13\" cy=\"-236\" rx=\"26.1523\" ry=\"26.1523\"/>\n",
       "<text text-anchor=\"middle\" x=\"2914.13\" y=\"-231.8\" font-family=\"Times,serif\" font-size=\"14.00\">St28</text>\n",
       "</g>\n",
       "<!-- St3&#45;&gt;St28 -->\n",
       "<g id=\"edge13\" class=\"edge\"><title>St3&#45;&gt;St28</title>\n",
       "<path fill=\"none\" stroke=\"black\" d=\"M2568.36,-214.697C2585.51,-213.005 2610.44,-211 2632.28,-211 2632.28,-211 2632.28,-211 2819.9,-211 2840.21,-211 2862.19,-216.605 2879.7,-222.506\"/>\n",
       "<polygon fill=\"black\" stroke=\"black\" points=\"2878.85,-225.92 2889.45,-225.976 2881.2,-219.325 2878.85,-225.92\"/>\n",
       "<text text-anchor=\"middle\" x=\"2724.09\" y=\"-213.8\" font-family=\"Times,serif\" font-size=\"14.00\">0</text>\n",
       "</g>\n",
       "<!-- St1 -->\n",
       "<g id=\"node18\" class=\"node\"><title>St1</title>\n",
       "<ellipse fill=\"none\" stroke=\"black\" cx=\"1174.73\" cy=\"-436\" rx=\"21.8229\" ry=\"21.8229\"/>\n",
       "<ellipse fill=\"none\" stroke=\"black\" cx=\"1174.73\" cy=\"-436\" rx=\"25.8081\" ry=\"25.8081\"/>\n",
       "<text text-anchor=\"middle\" x=\"1174.73\" y=\"-431.8\" font-family=\"Times,serif\" font-size=\"14.00\">St1</text>\n",
       "</g>\n",
       "<!-- St27&#45;&gt;St1 -->\n",
       "<g id=\"edge29\" class=\"edge\"><title>St27&#45;&gt;St1</title>\n",
       "<path fill=\"none\" stroke=\"black\" d=\"M1529.78,-462.69C1483.53,-456.786 1382.16,-444.54 1296.29,-439 1267.53,-437.145 1234.85,-436.418 1210.78,-436.141\"/>\n",
       "<polygon fill=\"black\" stroke=\"black\" points=\"1210.73,-432.641 1200.69,-436.046 1210.66,-439.64 1210.73,-432.641\"/>\n",
       "<text text-anchor=\"middle\" x=\"1369.61\" y=\"-450.8\" font-family=\"Times,serif\" font-size=\"14.00\">0</text>\n",
       "</g>\n",
       "<!-- St20 -->\n",
       "<g id=\"node24\" class=\"node\"><title>St20</title>\n",
       "<ellipse fill=\"none\" stroke=\"black\" cx=\"1655.72\" cy=\"-454\" rx=\"26.1751\" ry=\"26.1751\"/>\n",
       "<ellipse fill=\"none\" stroke=\"black\" cx=\"1655.72\" cy=\"-454\" rx=\"30.1522\" ry=\"30.1522\"/>\n",
       "<text text-anchor=\"middle\" x=\"1655.72\" y=\"-449.8\" font-family=\"Times,serif\" font-size=\"14.00\">St20</text>\n",
       "</g>\n",
       "<!-- St27&#45;&gt;St20 -->\n",
       "<g id=\"edge28\" class=\"edge\"><title>St27&#45;&gt;St20</title>\n",
       "<path fill=\"none\" stroke=\"black\" d=\"M1582.44,-463.718C1590.44,-462.935 1599.29,-462.001 1607.4,-461 1610.09,-460.668 1612.86,-460.306 1615.65,-459.929\"/>\n",
       "<polygon fill=\"black\" stroke=\"black\" points=\"1616.3,-463.371 1625.72,-458.514 1615.33,-456.44 1616.3,-463.371\"/>\n",
       "<text text-anchor=\"middle\" x=\"1603.9\" y=\"-464.8\" font-family=\"Times,serif\" font-size=\"14.00\">1</text>\n",
       "</g>\n",
       "<!-- St5 -->\n",
       "<g id=\"node22\" class=\"node\"><title>St5</title>\n",
       "<ellipse fill=\"none\" stroke=\"black\" cx=\"2352.02\" cy=\"-489\" rx=\"21.8229\" ry=\"21.8229\"/>\n",
       "<ellipse fill=\"none\" stroke=\"black\" cx=\"2352.02\" cy=\"-489\" rx=\"25.8081\" ry=\"25.8081\"/>\n",
       "<text text-anchor=\"middle\" x=\"2352.02\" y=\"-484.8\" font-family=\"Times,serif\" font-size=\"14.00\">St5</text>\n",
       "</g>\n",
       "<!-- St28&#45;&gt;St5 -->\n",
       "<g id=\"edge24\" class=\"edge\"><title>St28&#45;&gt;St5</title>\n",
       "<path fill=\"none\" stroke=\"black\" d=\"M2902.18,-259.718C2880.17,-304.572 2826.1,-401.654 2749.99,-450 2688.45,-489.099 2663.8,-490 2590.88,-490 2450.25,-490 2450.25,-490 2450.25,-490 2429.69,-490 2406.69,-489.774 2388.22,-489.536\"/>\n",
       "<polygon fill=\"black\" stroke=\"black\" points=\"2388.24,-486.037 2378.2,-489.401 2388.15,-493.036 2388.24,-486.037\"/>\n",
       "<text text-anchor=\"middle\" x=\"2633.28\" y=\"-492.8\" font-family=\"Times,serif\" font-size=\"14.00\">1</text>\n",
       "</g>\n",
       "<!-- St30 -->\n",
       "<g id=\"node31\" class=\"node\"><title>St30</title>\n",
       "<ellipse fill=\"none\" stroke=\"black\" cx=\"3013.78\" cy=\"-182\" rx=\"26.1751\" ry=\"26.1751\"/>\n",
       "<ellipse fill=\"none\" stroke=\"black\" cx=\"3013.78\" cy=\"-182\" rx=\"30.1522\" ry=\"30.1522\"/>\n",
       "<text text-anchor=\"middle\" x=\"3013.78\" y=\"-177.8\" font-family=\"Times,serif\" font-size=\"14.00\">St30</text>\n",
       "</g>\n",
       "<!-- St28&#45;&gt;St30 -->\n",
       "<g id=\"edge25\" class=\"edge\"><title>St28&#45;&gt;St30</title>\n",
       "<path fill=\"none\" stroke=\"black\" d=\"M2937.78,-223.476C2949.68,-216.894 2964.53,-208.683 2977.87,-201.307\"/>\n",
       "<polygon fill=\"black\" stroke=\"black\" points=\"2979.75,-204.267 2986.8,-196.365 2976.36,-198.141 2979.75,-204.267\"/>\n",
       "<text text-anchor=\"middle\" x=\"2961.95\" y=\"-213.8\" font-family=\"Times,serif\" font-size=\"14.00\">0</text>\n",
       "</g>\n",
       "<!-- St26 -->\n",
       "<g id=\"node27\" class=\"node\"><title>St26</title>\n",
       "<ellipse fill=\"none\" stroke=\"black\" cx=\"2054.33\" cy=\"-298\" rx=\"26.1751\" ry=\"26.1751\"/>\n",
       "<ellipse fill=\"none\" stroke=\"black\" cx=\"2054.33\" cy=\"-298\" rx=\"30.1522\" ry=\"30.1522\"/>\n",
       "<text text-anchor=\"middle\" x=\"2054.33\" y=\"-293.8\" font-family=\"Times,serif\" font-size=\"14.00\">St26</text>\n",
       "</g>\n",
       "<!-- St19&#45;&gt;St26 -->\n",
       "<g id=\"edge18\" class=\"edge\"><title>St19&#45;&gt;St26</title>\n",
       "<path fill=\"none\" stroke=\"black\" d=\"M1980.82,-286.12C1990.95,-287.779 2002.86,-289.732 2014.08,-291.569\"/>\n",
       "<polygon fill=\"black\" stroke=\"black\" points=\"2013.68,-295.05 2024.11,-293.213 2014.81,-288.142 2013.68,-295.05\"/>\n",
       "<text text-anchor=\"middle\" x=\"2002.5\" y=\"-292.8\" font-family=\"Times,serif\" font-size=\"14.00\">1</text>\n",
       "</g>\n",
       "<!-- St0 -->\n",
       "<g id=\"node32\" class=\"node\"><title>St0</title>\n",
       "<ellipse fill=\"none\" stroke=\"black\" cx=\"2153.56\" cy=\"-267\" rx=\"21.8229\" ry=\"21.8229\"/>\n",
       "<ellipse fill=\"none\" stroke=\"black\" cx=\"2153.56\" cy=\"-267\" rx=\"25.8081\" ry=\"25.8081\"/>\n",
       "<text text-anchor=\"middle\" x=\"2153.56\" y=\"-262.8\" font-family=\"Times,serif\" font-size=\"14.00\">St0</text>\n",
       "</g>\n",
       "<!-- St19&#45;&gt;St0 -->\n",
       "<g id=\"edge19\" class=\"edge\"><title>St19&#45;&gt;St0</title>\n",
       "<path fill=\"none\" stroke=\"black\" d=\"M1976.68,-267.064C1989.65,-258.781 2007,-249.307 2024,-245 2055.97,-236.899 2093.18,-245.14 2119.32,-253.748\"/>\n",
       "<polygon fill=\"black\" stroke=\"black\" points=\"2118.51,-257.172 2129.1,-257.158 2120.81,-250.562 2118.51,-257.172\"/>\n",
       "<text text-anchor=\"middle\" x=\"2054.33\" y=\"-247.8\" font-family=\"Times,serif\" font-size=\"14.00\">0</text>\n",
       "</g>\n",
       "<!-- St22&#45;&gt;St2 -->\n",
       "<g id=\"edge6\" class=\"edge\"><title>St22&#45;&gt;St2</title>\n",
       "<path fill=\"none\" stroke=\"black\" d=\"M723.029,-122.035C734.519,-127.443 748.447,-133.999 760.524,-139.684\"/>\n",
       "<polygon fill=\"black\" stroke=\"black\" points=\"759.192,-142.925 769.731,-144.017 762.173,-136.592 759.192,-142.925\"/>\n",
       "<text text-anchor=\"middle\" x=\"746.411\" y=\"-137.8\" font-family=\"Times,serif\" font-size=\"14.00\">1</text>\n",
       "</g>\n",
       "<!-- St22&#45;&gt;St3 -->\n",
       "<g id=\"edge7\" class=\"edge\"><title>St22&#45;&gt;St3</title>\n",
       "<path fill=\"none\" stroke=\"black\" d=\"M721.394,-97.1671C738.914,-87.384 764.52,-76 788.815,-76 788.815,-76 788.815,-76 2107.15,-76 2269.44,-76 2449.99,-164.674 2517.77,-201.38\"/>\n",
       "<polygon fill=\"black\" stroke=\"black\" points=\"2516.49,-204.667 2526.94,-206.402 2519.85,-198.528 2516.49,-204.667\"/>\n",
       "<text text-anchor=\"middle\" x=\"1603.9\" y=\"-78.8\" font-family=\"Times,serif\" font-size=\"14.00\">0</text>\n",
       "</g>\n",
       "<!-- St25 -->\n",
       "<g id=\"node23\" class=\"node\"><title>St25</title>\n",
       "<ellipse fill=\"none\" stroke=\"black\" cx=\"1855.03\" cy=\"-451\" rx=\"26.1751\" ry=\"26.1751\"/>\n",
       "<ellipse fill=\"none\" stroke=\"black\" cx=\"1855.03\" cy=\"-451\" rx=\"30.1522\" ry=\"30.1522\"/>\n",
       "<text text-anchor=\"middle\" x=\"1855.03\" y=\"-446.8\" font-family=\"Times,serif\" font-size=\"14.00\">St25</text>\n",
       "</g>\n",
       "<!-- St31&#45;&gt;St25 -->\n",
       "<g id=\"edge26\" class=\"edge\"><title>St31&#45;&gt;St25</title>\n",
       "<path fill=\"none\" stroke=\"black\" d=\"M1780.01,-483.591C1791.26,-478.639 1804.96,-472.607 1817.5,-467.084\"/>\n",
       "<polygon fill=\"black\" stroke=\"black\" points=\"1819.06,-470.22 1826.8,-462.987 1816.24,-463.814 1819.06,-470.22\"/>\n",
       "<text text-anchor=\"middle\" x=\"1803.2\" y=\"-476.8\" font-family=\"Times,serif\" font-size=\"14.00\">1</text>\n",
       "</g>\n",
       "<!-- St8 -->\n",
       "<g id=\"node29\" class=\"node\"><title>St8</title>\n",
       "<ellipse fill=\"none\" stroke=\"black\" cx=\"2818.9\" cy=\"-299\" rx=\"21.8229\" ry=\"21.8229\"/>\n",
       "<ellipse fill=\"none\" stroke=\"black\" cx=\"2818.9\" cy=\"-299\" rx=\"25.8081\" ry=\"25.8081\"/>\n",
       "<text text-anchor=\"middle\" x=\"2818.9\" y=\"-294.8\" font-family=\"Times,serif\" font-size=\"14.00\">St8</text>\n",
       "</g>\n",
       "<!-- St31&#45;&gt;St8 -->\n",
       "<g id=\"edge27\" class=\"edge\"><title>St31&#45;&gt;St8</title>\n",
       "<path fill=\"none\" stroke=\"black\" d=\"M1781.77,-495.557C1840,-499.336 1987.53,-510.101 2109.65,-529 2196.73,-542.475 2215.5,-570 2303.61,-570 2303.61,-570 2303.61,-570 2677.69,-570 2782.2,-570 2808.9,-409.036 2815.65,-335.214\"/>\n",
       "<polygon fill=\"black\" stroke=\"black\" points=\"2819.16,-335.242 2816.51,-324.985 2812.18,-334.657 2819.16,-335.242\"/>\n",
       "<text text-anchor=\"middle\" x=\"2304.61\" y=\"-572.8\" font-family=\"Times,serif\" font-size=\"14.00\">0</text>\n",
       "</g>\n",
       "<!-- St1&#45;&gt;St24 -->\n",
       "<g id=\"edge57\" class=\"edge\"><title>St1&#45;&gt;St24</title>\n",
       "<path fill=\"none\" stroke=\"black\" d=\"M1149.1,-441.533C1129.53,-445.446 1101.4,-450 1076.5,-450 597.934,-450 597.934,-450 597.934,-450 577.219,-450 554.115,-451.81 535.583,-453.709\"/>\n",
       "<polygon fill=\"black\" stroke=\"black\" points=\"535.095,-450.241 525.527,-454.792 535.845,-457.2 535.095,-450.241\"/>\n",
       "<text text-anchor=\"middle\" x=\"833.218\" y=\"-452.8\" font-family=\"Times,serif\" font-size=\"14.00\">0</text>\n",
       "</g>\n",
       "<!-- St1&#45;&gt;St18 -->\n",
       "<g id=\"edge56\" class=\"edge\"><title>St1&#45;&gt;St18</title>\n",
       "<path fill=\"none\" stroke=\"black\" d=\"M1199.26,-445.589C1210.32,-450.1 1223.71,-455.557 1235.79,-460.478\"/>\n",
       "<polygon fill=\"black\" stroke=\"black\" points=\"1234.54,-463.748 1245.12,-464.282 1237.18,-457.266 1234.54,-463.748\"/>\n",
       "<text text-anchor=\"middle\" x=\"1222.14\" y=\"-459.8\" font-family=\"Times,serif\" font-size=\"14.00\">1</text>\n",
       "</g>\n",
       "<!-- St16&#45;&gt;St10 -->\n",
       "<g id=\"edge61\" class=\"edge\"><title>St16&#45;&gt;St10</title>\n",
       "<path fill=\"none\" stroke=\"black\" d=\"M1340.9,-542.479C1311.96,-552.469 1265.02,-566 1223.14,-566 919.026,-566 919.026,-566 919.026,-566 738.9,-566 523.782,-549.285 440.243,-542.158\"/>\n",
       "<polygon fill=\"black\" stroke=\"black\" points=\"440.294,-538.65 430.03,-541.279 439.693,-545.624 440.294,-538.65\"/>\n",
       "<text text-anchor=\"middle\" x=\"876.622\" y=\"-568.8\" font-family=\"Times,serif\" font-size=\"14.00\">0</text>\n",
       "</g>\n",
       "<!-- St16&#45;&gt;St6 -->\n",
       "<g id=\"edge60\" class=\"edge\"><title>St16&#45;&gt;St6</title>\n",
       "<path fill=\"none\" stroke=\"black\" d=\"M1399.09,-524.669C1410.08,-521.84 1422.66,-518.602 1433.79,-515.736\"/>\n",
       "<polygon fill=\"black\" stroke=\"black\" points=\"1434.71,-519.114 1443.52,-513.232 1432.96,-512.335 1434.71,-519.114\"/>\n",
       "<text text-anchor=\"middle\" x=\"1421.44\" y=\"-522.8\" font-family=\"Times,serif\" font-size=\"14.00\">1</text>\n",
       "</g>\n",
       "<!-- St14&#45;&gt;St21 -->\n",
       "<g id=\"edge65\" class=\"edge\"><title>St14&#45;&gt;St21</title>\n",
       "<path fill=\"none\" stroke=\"black\" d=\"M3100.78,-59.4972C3083.23,-34.4599 3052.28,-0 3014.78,-0 211.977,-0 211.977,-0 211.977,-0 190.735,-0 168.093,-7.27686 150.393,-14.7793\"/>\n",
       "<polygon fill=\"black\" stroke=\"black\" points=\"148.813,-11.652 141.109,-18.9258 151.667,-18.0435 148.813,-11.652\"/>\n",
       "<text text-anchor=\"middle\" x=\"1603.9\" y=\"-2.8\" font-family=\"Times,serif\" font-size=\"14.00\">0</text>\n",
       "</g>\n",
       "<!-- St14&#45;&gt;St15 -->\n",
       "<g id=\"edge64\" class=\"edge\"><title>St14&#45;&gt;St15</title>\n",
       "<path fill=\"none\" stroke=\"black\" d=\"M3114.79,-115.434C3107.58,-241.479 3076.36,-716 3014.78,-716 307.304,-716 307.304,-716 307.304,-716 247.513,-716 221.825,-262.1 215.56,-128.544\"/>\n",
       "<polygon fill=\"black\" stroke=\"black\" points=\"219.05,-128.242 215.094,-118.414 212.057,-128.564 219.05,-128.242\"/>\n",
       "<text text-anchor=\"middle\" x=\"1655.72\" y=\"-718.8\" font-family=\"Times,serif\" font-size=\"14.00\">1</text>\n",
       "</g>\n",
       "<!-- St17&#45;&gt;St12 -->\n",
       "<g id=\"edge39\" class=\"edge\"><title>St17&#45;&gt;St12</title>\n",
       "<path fill=\"none\" stroke=\"black\" d=\"M1001.71,-362.245C1012.22,-364.521 1024.29,-367.134 1035.54,-369.568\"/>\n",
       "<polygon fill=\"black\" stroke=\"black\" points=\"1035.06,-373.044 1045.57,-371.739 1036.54,-366.203 1035.06,-373.044\"/>\n",
       "<text text-anchor=\"middle\" x=\"1023.68\" y=\"-370.8\" font-family=\"Times,serif\" font-size=\"14.00\">0</text>\n",
       "</g>\n",
       "<!-- St17&#45;&gt;St7 -->\n",
       "<g id=\"edge38\" class=\"edge\"><title>St17&#45;&gt;St7</title>\n",
       "<path fill=\"none\" stroke=\"black\" d=\"M994.291,-376.622C1059.22,-436.807 1261.68,-608 1463.84,-608 1463.84,-608 1463.84,-608 2504.07,-608 2600.37,-608 2674.37,-501.679 2706.13,-446.863\"/>\n",
       "<polygon fill=\"black\" stroke=\"black\" points=\"2709.32,-448.323 2711.21,-437.898 2703.24,-444.87 2709.32,-448.323\"/>\n",
       "<text text-anchor=\"middle\" x=\"1855.03\" y=\"-610.8\" font-family=\"Times,serif\" font-size=\"14.00\">1</text>\n",
       "</g>\n",
       "<!-- St5&#45;&gt;St16 -->\n",
       "<g id=\"edge47\" class=\"edge\"><title>St5&#45;&gt;St16</title>\n",
       "<path fill=\"none\" stroke=\"black\" d=\"M2326.63,-494.3C2250.07,-510.457 2007.53,-558 1804.2,-558 1463.84,-558 1463.84,-558 1463.84,-558 1444.74,-558 1424.22,-552.872 1407.3,-547.171\"/>\n",
       "<polygon fill=\"black\" stroke=\"black\" points=\"1408.39,-543.845 1397.8,-543.783 1406.04,-550.438 1408.39,-543.845\"/>\n",
       "<text text-anchor=\"middle\" x=\"1855.03\" y=\"-560.8\" font-family=\"Times,serif\" font-size=\"14.00\">0</text>\n",
       "</g>\n",
       "<!-- St5&#45;&gt;St29 -->\n",
       "<g id=\"edge46\" class=\"edge\"><title>St5&#45;&gt;St29</title>\n",
       "<path fill=\"none\" stroke=\"black\" d=\"M2366.95,-467.652C2382.98,-443.076 2409.53,-402.4 2428.34,-373.575\"/>\n",
       "<polygon fill=\"black\" stroke=\"black\" points=\"2431.37,-375.328 2433.91,-365.04 2425.51,-371.502 2431.37,-375.328\"/>\n",
       "<text text-anchor=\"middle\" x=\"2399.42\" y=\"-421.8\" font-family=\"Times,serif\" font-size=\"14.00\">1</text>\n",
       "</g>\n",
       "<!-- St25&#45;&gt;St9 -->\n",
       "<g id=\"edge51\" class=\"edge\"><title>St25&#45;&gt;St9</title>\n",
       "<path fill=\"none\" stroke=\"black\" d=\"M1831.03,-432.062C1777.91,-390.305 1641.12,-294 1509.25,-294 970.852,-294 970.852,-294 970.852,-294 948.039,-294 923.703,-285.322 905.617,-277.004\"/>\n",
       "<polygon fill=\"black\" stroke=\"black\" points=\"906.788,-273.683 896.262,-272.478 903.74,-279.984 906.788,-273.683\"/>\n",
       "<text text-anchor=\"middle\" x=\"1369.61\" y=\"-296.8\" font-family=\"Times,serif\" font-size=\"14.00\">0</text>\n",
       "</g>\n",
       "<!-- St25&#45;&gt;St19 -->\n",
       "<g id=\"edge50\" class=\"edge\"><title>St25&#45;&gt;St19</title>\n",
       "<path fill=\"none\" stroke=\"black\" d=\"M1871.29,-425.076C1875.83,-417.339 1880.81,-408.834 1885.35,-401 1902.53,-371.402 1921.94,-337.551 1935.67,-313.54\"/>\n",
       "<polygon fill=\"black\" stroke=\"black\" points=\"1938.72,-315.268 1940.64,-304.849 1932.64,-311.794 1938.72,-315.268\"/>\n",
       "<text text-anchor=\"middle\" x=\"1906.85\" y=\"-371.8\" font-family=\"Times,serif\" font-size=\"14.00\">1</text>\n",
       "</g>\n",
       "<!-- St20&#45;&gt;St27 -->\n",
       "<g id=\"edge55\" class=\"edge\"><title>St20&#45;&gt;St27</title>\n",
       "<path fill=\"none\" stroke=\"black\" d=\"M1626.98,-443.607C1618.42,-441.68 1608.99,-440.861 1600.4,-443 1596.21,-444.042 1591.99,-445.571 1587.91,-447.354\"/>\n",
       "<polygon fill=\"black\" stroke=\"black\" points=\"1586.15,-444.317 1578.72,-451.865 1589.24,-450.601 1586.15,-444.317\"/>\n",
       "<text text-anchor=\"middle\" x=\"1603.9\" y=\"-445.8\" font-family=\"Times,serif\" font-size=\"14.00\">0</text>\n",
       "</g>\n",
       "<!-- St20&#45;&gt;St31 -->\n",
       "<g id=\"edge54\" class=\"edge\"><title>St20&#45;&gt;St31</title>\n",
       "<path fill=\"none\" stroke=\"black\" d=\"M1684.18,-465.249C1695.76,-469.989 1709.33,-475.547 1721.43,-480.506\"/>\n",
       "<polygon fill=\"black\" stroke=\"black\" points=\"1720.18,-483.776 1730.76,-484.327 1722.83,-477.298 1720.18,-483.776\"/>\n",
       "<text text-anchor=\"middle\" x=\"1707.55\" y=\"-479.8\" font-family=\"Times,serif\" font-size=\"14.00\">1</text>\n",
       "</g>\n",
       "<!-- St13&#45;&gt;St11 -->\n",
       "<g id=\"edge63\" class=\"edge\"><title>St13&#45;&gt;St11</title>\n",
       "<path fill=\"none\" stroke=\"black\" d=\"M568.789,-612.365C515.309,-605.694 401.726,-591.528 344.22,-584.355\"/>\n",
       "<polygon fill=\"black\" stroke=\"black\" points=\"344.519,-580.865 334.162,-583.1 343.652,-587.811 344.519,-580.865\"/>\n",
       "<text text-anchor=\"middle\" x=\"451.457\" y=\"-600.8\" font-family=\"Times,serif\" font-size=\"14.00\">0</text>\n",
       "</g>\n",
       "<!-- St13&#45;&gt;St22 -->\n",
       "<g id=\"edge62\" class=\"edge\"><title>St13&#45;&gt;St22</title>\n",
       "<path fill=\"none\" stroke=\"black\" d=\"M605.678,-586.295C622.622,-498.667 672.359,-241.454 690.694,-146.635\"/>\n",
       "<polygon fill=\"black\" stroke=\"black\" points=\"694.158,-147.156 692.621,-136.673 687.286,-145.827 694.158,-147.156\"/>\n",
       "<text text-anchor=\"middle\" x=\"650.759\" y=\"-366.8\" font-family=\"Times,serif\" font-size=\"14.00\">1</text>\n",
       "</g>\n",
       "<!-- St12&#45;&gt;St1 -->\n",
       "<g id=\"edge45\" class=\"edge\"><title>St12&#45;&gt;St1</title>\n",
       "<path fill=\"none\" stroke=\"black\" d=\"M1102.05,-393.239C1114.67,-400.765 1129.98,-409.902 1143.21,-417.794\"/>\n",
       "<polygon fill=\"black\" stroke=\"black\" points=\"1141.6,-420.907 1151.98,-423.024 1145.19,-414.895 1141.6,-420.907\"/>\n",
       "<text text-anchor=\"middle\" x=\"1127.33\" y=\"-413.8\" font-family=\"Times,serif\" font-size=\"14.00\">0</text>\n",
       "</g>\n",
       "<!-- St12&#45;&gt;St20 -->\n",
       "<g id=\"edge44\" class=\"edge\"><title>St12&#45;&gt;St20</title>\n",
       "<path fill=\"none\" stroke=\"black\" d=\"M1105.85,-379.836C1125.13,-380.888 1150.92,-382 1173.73,-382 1173.73,-382 1173.73,-382 1422.44,-382 1494.81,-382 1574.41,-414.284 1619.11,-435.616\"/>\n",
       "<polygon fill=\"black\" stroke=\"black\" points=\"1617.85,-438.893 1628.37,-440.118 1620.91,-432.597 1617.85,-438.893\"/>\n",
       "<text text-anchor=\"middle\" x=\"1369.61\" y=\"-384.8\" font-family=\"Times,serif\" font-size=\"14.00\">1</text>\n",
       "</g>\n",
       "<!-- St26&#45;&gt;St26 -->\n",
       "<g id=\"edge34\" class=\"edge\"><title>St26&#45;&gt;St26</title>\n",
       "<path fill=\"none\" stroke=\"black\" d=\"M2044.96,-327.254C2044.76,-337.76 2047.88,-346.326 2054.33,-346.326 2058.46,-346.326 2061.22,-342.81 2062.62,-337.521\"/>\n",
       "<polygon fill=\"black\" stroke=\"black\" points=\"2066.14,-337.563 2063.69,-327.254 2059.18,-336.837 2066.14,-337.563\"/>\n",
       "<text text-anchor=\"middle\" x=\"2054.33\" y=\"-349.126\" font-family=\"Times,serif\" font-size=\"14.00\">1</text>\n",
       "</g>\n",
       "<!-- St26&#45;&gt;St0 -->\n",
       "<g id=\"edge35\" class=\"edge\"><title>St26&#45;&gt;St0</title>\n",
       "<path fill=\"none\" stroke=\"black\" d=\"M2083.45,-289.034C2094.56,-285.493 2107.41,-281.396 2118.99,-277.702\"/>\n",
       "<polygon fill=\"black\" stroke=\"black\" points=\"2120.31,-280.956 2128.77,-274.583 2118.18,-274.287 2120.31,-280.956\"/>\n",
       "<text text-anchor=\"middle\" x=\"2106.15\" y=\"-285.8\" font-family=\"Times,serif\" font-size=\"14.00\">0</text>\n",
       "</g>\n",
       "<!-- St29&#45;&gt;St2 -->\n",
       "<g id=\"edge58\" class=\"edge\"><title>St29&#45;&gt;St2</title>\n",
       "<path fill=\"none\" stroke=\"black\" d=\"M2431.87,-316.432C2403.42,-281.381 2345.48,-215.422 2283.11,-176 2272.92,-169.556 2125.78,-114 2107.15,-114 875.622,-114 875.622,-114 875.622,-114 854.155,-114 832.196,-124.443 816.003,-134.521\"/>\n",
       "<polygon fill=\"black\" stroke=\"black\" points=\"814.076,-131.598 807.639,-140.014 817.919,-137.449 814.076,-131.598\"/>\n",
       "<text text-anchor=\"middle\" x=\"1603.9\" y=\"-116.8\" font-family=\"Times,serif\" font-size=\"14.00\">1</text>\n",
       "</g>\n",
       "<!-- St29&#45;&gt;St3 -->\n",
       "<g id=\"edge59\" class=\"edge\"><title>St29&#45;&gt;St3</title>\n",
       "<path fill=\"none\" stroke=\"black\" d=\"M2470.22,-316.284C2486.29,-295.084 2509.77,-264.104 2526.22,-242.404\"/>\n",
       "<polygon fill=\"black\" stroke=\"black\" points=\"2529.11,-244.381 2532.36,-234.297 2523.53,-240.152 2529.11,-244.381\"/>\n",
       "<text text-anchor=\"middle\" x=\"2503.07\" y=\"-277.8\" font-family=\"Times,serif\" font-size=\"14.00\">0</text>\n",
       "</g>\n",
       "<!-- St8&#45;&gt;St4 -->\n",
       "<g id=\"edge52\" class=\"edge\"><title>St8&#45;&gt;St4</title>\n",
       "<path fill=\"none\" stroke=\"black\" d=\"M2793,-297.237C2760,-294.901 2701.76,-290.778 2665.76,-288.228\"/>\n",
       "<polygon fill=\"black\" stroke=\"black\" points=\"2665.57,-284.706 2655.35,-287.491 2665.07,-291.689 2665.57,-284.706\"/>\n",
       "<text text-anchor=\"middle\" x=\"2724.09\" y=\"-297.8\" font-family=\"Times,serif\" font-size=\"14.00\">1</text>\n",
       "</g>\n",
       "<!-- St8&#45;&gt;St28 -->\n",
       "<g id=\"edge53\" class=\"edge\"><title>St8&#45;&gt;St28</title>\n",
       "<path fill=\"none\" stroke=\"black\" d=\"M2841.05,-284.704C2853.48,-276.306 2869.39,-265.555 2883.1,-256.291\"/>\n",
       "<polygon fill=\"black\" stroke=\"black\" points=\"2885.41,-258.956 2891.73,-250.457 2881.49,-253.156 2885.41,-258.956\"/>\n",
       "<text text-anchor=\"middle\" x=\"2866.3\" y=\"-272.8\" font-family=\"Times,serif\" font-size=\"14.00\">0</text>\n",
       "</g>\n",
       "<!-- St7&#45;&gt;St25 -->\n",
       "<g id=\"edge42\" class=\"edge\"><title>St7&#45;&gt;St25</title>\n",
       "<path fill=\"none\" stroke=\"black\" d=\"M2698.73,-420.513C2680.96,-424.056 2656.25,-428 2634.28,-428 2450.25,-428 2450.25,-428 2450.25,-428 2405.86,-428 2298.17,-464 2253.79,-464 1953.68,-464 1953.68,-464 1953.68,-464 1934.23,-464 1912.8,-461.436 1894.98,-458.586\"/>\n",
       "<polygon fill=\"black\" stroke=\"black\" points=\"1895.39,-455.106 1884.95,-456.891 1894.22,-462.008 1895.39,-455.106\"/>\n",
       "<text text-anchor=\"middle\" x=\"2304.61\" y=\"-460.8\" font-family=\"Times,serif\" font-size=\"14.00\">1</text>\n",
       "</g>\n",
       "<!-- St7&#45;&gt;St8 -->\n",
       "<g id=\"edge43\" class=\"edge\"><title>St7&#45;&gt;St8</title>\n",
       "<path fill=\"none\" stroke=\"black\" d=\"M2741.04,-395.059C2756.05,-376.302 2778.67,-348.037 2795.48,-327.017\"/>\n",
       "<polygon fill=\"black\" stroke=\"black\" points=\"2798.33,-329.064 2801.84,-319.069 2792.86,-324.691 2798.33,-329.064\"/>\n",
       "<text text-anchor=\"middle\" x=\"2771.49\" y=\"-363.8\" font-family=\"Times,serif\" font-size=\"14.00\">0</text>\n",
       "</g>\n",
       "<!-- St30&#45;&gt;St14 -->\n",
       "<g id=\"edge49\" class=\"edge\"><title>St30&#45;&gt;St14</title>\n",
       "<path fill=\"none\" stroke=\"black\" d=\"M3036.34,-161.429C3051.16,-147.282 3071.03,-128.327 3087.26,-112.833\"/>\n",
       "<polygon fill=\"black\" stroke=\"black\" points=\"3090.09,-114.977 3094.9,-105.542 3085.25,-109.913 3090.09,-114.977\"/>\n",
       "<text text-anchor=\"middle\" x=\"3065.6\" y=\"-139.8\" font-family=\"Times,serif\" font-size=\"14.00\">0</text>\n",
       "</g>\n",
       "<!-- St30&#45;&gt;St13 -->\n",
       "<g id=\"edge48\" class=\"edge\"><title>St30&#45;&gt;St13</title>\n",
       "<path fill=\"none\" stroke=\"black\" d=\"M3013.15,-212.644C3013.62,-319.037 3008.03,-666 2915.13,-666 1420.44,-666 1420.44,-666 1420.44,-666 1331.38,-666 1312.2,-631 1223.14,-631 1074.5,-631 1074.5,-631 1074.5,-631 986.99,-631 965.135,-628 877.622,-628 697.585,-628 697.585,-628 697.585,-628 678.166,-628 656.736,-625.633 638.911,-623.002\"/>\n",
       "<polygon fill=\"black\" stroke=\"black\" points=\"639.295,-619.52 628.875,-621.438 638.217,-626.436 639.295,-619.52\"/>\n",
       "<text text-anchor=\"middle\" x=\"1803.2\" y=\"-668.8\" font-family=\"Times,serif\" font-size=\"14.00\">1</text>\n",
       "</g>\n",
       "<!-- St0&#45;&gt;St17 -->\n",
       "<g id=\"edge36\" class=\"edge\"><title>St0&#45;&gt;St17</title>\n",
       "<path fill=\"none\" stroke=\"black\" d=\"M2144.1,-291.576C2134.16,-316.204 2115.03,-352.728 2084.65,-369 2060.89,-381.727 2050.82,-371.763 2024,-369 1707.67,-336.399 1636.8,-248 1318.79,-248 1074.5,-248 1074.5,-248 1074.5,-248 1034.43,-248 1005.51,-287.918 988.994,-319.217\"/>\n",
       "<polygon fill=\"black\" stroke=\"black\" points=\"985.848,-317.683 984.467,-328.187 992.097,-320.837 985.848,-317.683\"/>\n",
       "<text text-anchor=\"middle\" x=\"1556.07\" y=\"-277.8\" font-family=\"Times,serif\" font-size=\"14.00\">1</text>\n",
       "</g>\n",
       "<!-- St0&#45;&gt;St23 -->\n",
       "<g id=\"edge37\" class=\"edge\"><title>St0&#45;&gt;St23</title>\n",
       "<path fill=\"none\" stroke=\"black\" d=\"M2179.34,-263.176C2189.42,-261.621 2201.32,-259.786 2212.53,-258.057\"/>\n",
       "<polygon fill=\"black\" stroke=\"black\" points=\"2213.2,-261.494 2222.55,-256.51 2212.14,-254.576 2213.2,-261.494\"/>\n",
       "<text text-anchor=\"middle\" x=\"2200.96\" y=\"-262.8\" font-family=\"Times,serif\" font-size=\"14.00\">0</text>\n",
       "</g>\n",
       "<!-- St23&#45;&gt;St5 -->\n",
       "<g id=\"edge40\" class=\"edge\"><title>St23&#45;&gt;St5</title>\n",
       "<path fill=\"none\" stroke=\"black\" d=\"M2265.32,-280.118C2283.36,-324.075 2318.15,-408.884 2337.39,-455.786\"/>\n",
       "<polygon fill=\"black\" stroke=\"black\" points=\"2334.21,-457.267 2341.25,-465.19 2340.69,-454.61 2334.21,-457.267\"/>\n",
       "<text text-anchor=\"middle\" x=\"2304.61\" y=\"-387.8\" font-family=\"Times,serif\" font-size=\"14.00\">1</text>\n",
       "</g>\n",
       "<!-- St23&#45;&gt;St30 -->\n",
       "<g id=\"edge41\" class=\"edge\"><title>St23&#45;&gt;St30</title>\n",
       "<path fill=\"none\" stroke=\"black\" d=\"M2277.4,-233.762C2312.86,-208.251 2382.92,-165 2450.25,-165 2450.25,-165 2450.25,-165 2915.13,-165 2934.93,-165 2956.66,-168.434 2974.58,-172.215\"/>\n",
       "<polygon fill=\"black\" stroke=\"black\" points=\"2973.86,-175.64 2984.38,-174.395 2975.38,-168.807 2973.86,-175.64\"/>\n",
       "<text text-anchor=\"middle\" x=\"2633.28\" y=\"-167.8\" font-family=\"Times,serif\" font-size=\"14.00\">0</text>\n",
       "</g>\n",
       "</g>\n",
       "</svg>\n"
      ],
      "text/plain": [
       "<graphviz.dot.Digraph at 0x107506780>"
      ]
     },
     "execution_count": 10,
     "metadata": {},
     "output_type": "execute_result"
    }
   ],
   "source": [
    "dotObj_dfa(min_dfa(nfa2dfa(fifthlast)))"
   ]
  },
  {
   "cell_type": "code",
   "execution_count": 11,
   "metadata": {
    "run_control": {
     "frozen": false,
     "read_only": false
    }
   },
   "outputs": [
    {
     "data": {
      "text/plain": [
       "4"
      ]
     },
     "execution_count": 11,
     "metadata": {},
     "output_type": "execute_result"
    }
   ],
   "source": [
    "len(min_dfa(nfa2dfa(secondlast))[\"Q\"])"
   ]
  },
  {
   "cell_type": "code",
   "execution_count": 12,
   "metadata": {
    "run_control": {
     "frozen": false,
     "read_only": false
    }
   },
   "outputs": [
    {
     "data": {
      "text/plain": [
       "8"
      ]
     },
     "execution_count": 12,
     "metadata": {},
     "output_type": "execute_result"
    }
   ],
   "source": [
    "len(min_dfa(nfa2dfa(thirdlast))[\"Q\"])"
   ]
  },
  {
   "cell_type": "code",
   "execution_count": 13,
   "metadata": {
    "run_control": {
     "frozen": false,
     "read_only": false
    }
   },
   "outputs": [
    {
     "data": {
      "text/plain": [
       "16"
      ]
     },
     "execution_count": 13,
     "metadata": {},
     "output_type": "execute_result"
    }
   ],
   "source": [
    "len(min_dfa(nfa2dfa(fourthlast))[\"Q\"])"
   ]
  },
  {
   "cell_type": "code",
   "execution_count": 14,
   "metadata": {
    "run_control": {
     "frozen": false,
     "read_only": false
    }
   },
   "outputs": [
    {
     "data": {
      "text/plain": [
       "32"
      ]
     },
     "execution_count": 14,
     "metadata": {},
     "output_type": "execute_result"
    }
   ],
   "source": [
    "len(min_dfa(nfa2dfa(fifthlast))[\"Q\"])"
   ]
  },
  {
   "cell_type": "markdown",
   "metadata": {
    "run_control": {
     "frozen": false,
     "read_only": false
    }
   },
   "source": [
    "## Clear evidence of exponential blowup!"
   ]
  },
  {
   "cell_type": "markdown",
   "metadata": {
    "run_control": {
     "frozen": false,
     "read_only": false
    }
   },
   "source": [
    "### Another problem with DFA : No natural way to specify many languages"
   ]
  },
  {
   "cell_type": "code",
   "execution_count": 15,
   "metadata": {
    "run_control": {
     "frozen": false,
     "read_only": false
    }
   },
   "outputs": [
    {
     "data": {
      "image/svg+xml": [
       "<?xml version=\"1.0\" encoding=\"UTF-8\" standalone=\"no\"?>\n",
       "<!DOCTYPE svg PUBLIC \"-//W3C//DTD SVG 1.1//EN\"\n",
       " \"http://www.w3.org/Graphics/SVG/1.1/DTD/svg11.dtd\">\n",
       "<!-- Generated by graphviz version 2.38.0 (20140413.2041)\n",
       " -->\n",
       "<!-- Title: %3 Pages: 1 -->\n",
       "<svg width=\"304pt\" height=\"186pt\"\n",
       " viewBox=\"0.00 0.00 303.89 186.36\" xmlns=\"http://www.w3.org/2000/svg\" xmlns:xlink=\"http://www.w3.org/1999/xlink\">\n",
       "<g id=\"graph0\" class=\"graph\" transform=\"scale(1 1) rotate(0) translate(4 182.359)\">\n",
       "<title>%3</title>\n",
       "<polygon fill=\"white\" stroke=\"none\" points=\"-4,4 -4,-182.359 299.894,-182.359 299.894,4 -4,4\"/>\n",
       "<!-- EMPTY -->\n",
       "<g id=\"node1\" class=\"node\"><title>EMPTY</title>\n",
       "</g>\n",
       "<!-- I -->\n",
       "<g id=\"node3\" class=\"node\"><title>I</title>\n",
       "<ellipse fill=\"none\" stroke=\"black\" cx=\"109\" cy=\"-77.4087\" rx=\"18\" ry=\"18\"/>\n",
       "<text text-anchor=\"middle\" x=\"109\" y=\"-73.2087\" font-family=\"Times,serif\" font-size=\"14.00\">I</text>\n",
       "</g>\n",
       "<!-- EMPTY&#45;&gt;I -->\n",
       "<g id=\"edge1\" class=\"edge\"><title>EMPTY&#45;&gt;I</title>\n",
       "<path fill=\"none\" stroke=\"black\" d=\"M54.195,-77.4087C62.6538,-77.4087 72.0513,-77.4087 80.5951,-77.4087\"/>\n",
       "<polygon fill=\"black\" stroke=\"black\" points=\"80.8257,-80.9088 90.8257,-77.4087 80.8257,-73.9088 80.8257,-80.9088\"/>\n",
       "</g>\n",
       "<!-- Se -->\n",
       "<g id=\"node2\" class=\"node\"><title>Se</title>\n",
       "<ellipse fill=\"none\" stroke=\"black\" cx=\"189.447\" cy=\"-159.409\" rx=\"18.9007\" ry=\"18.9007\"/>\n",
       "<text text-anchor=\"middle\" x=\"189.447\" y=\"-155.209\" font-family=\"Times,serif\" font-size=\"14.00\">Se</text>\n",
       "</g>\n",
       "<!-- F -->\n",
       "<g id=\"node6\" class=\"node\"><title>F</title>\n",
       "<ellipse fill=\"none\" stroke=\"black\" cx=\"273.894\" cy=\"-75.4087\" rx=\"18\" ry=\"18\"/>\n",
       "<ellipse fill=\"none\" stroke=\"black\" cx=\"273.894\" cy=\"-75.4087\" rx=\"22\" ry=\"22\"/>\n",
       "<text text-anchor=\"middle\" x=\"273.894\" y=\"-71.2087\" font-family=\"Times,serif\" font-size=\"14.00\">F</text>\n",
       "</g>\n",
       "<!-- Se&#45;&gt;F -->\n",
       "<g id=\"edge8\" class=\"edge\"><title>Se&#45;&gt;F</title>\n",
       "<path fill=\"none\" stroke=\"black\" d=\"M203.329,-146.284C216.017,-133.357 235.648,-113.356 250.825,-97.8933\"/>\n",
       "<polygon fill=\"black\" stroke=\"black\" points=\"253.361,-100.306 257.868,-90.7179 248.365,-95.403 253.361,-100.306\"/>\n",
       "<text text-anchor=\"middle\" x=\"230.394\" y=\"-123.209\" font-family=\"Times,serif\" font-size=\"14.00\">b</text>\n",
       "</g>\n",
       "<!-- I&#45;&gt;Se -->\n",
       "<g id=\"edge7\" class=\"edge\"><title>I&#45;&gt;Se</title>\n",
       "<path fill=\"none\" stroke=\"black\" d=\"M122.257,-90.2212C134.66,-103.186 154.036,-123.439 168.625,-138.689\"/>\n",
       "<polygon fill=\"black\" stroke=\"black\" points=\"166.314,-141.336 175.756,-146.143 171.372,-136.497 166.314,-141.336\"/>\n",
       "<text text-anchor=\"middle\" x=\"148.5\" y=\"-123.209\" font-family=\"Times,serif\" font-size=\"14.00\">e</text>\n",
       "</g>\n",
       "<!-- Sb -->\n",
       "<g id=\"node4\" class=\"node\"><title>Sb</title>\n",
       "<ellipse fill=\"none\" stroke=\"black\" cx=\"189.447\" cy=\"-103.409\" rx=\"19.3939\" ry=\"19.3939\"/>\n",
       "<text text-anchor=\"middle\" x=\"189.447\" y=\"-99.2087\" font-family=\"Times,serif\" font-size=\"14.00\">Sb</text>\n",
       "</g>\n",
       "<!-- I&#45;&gt;Sb -->\n",
       "<g id=\"edge3\" class=\"edge\"><title>I&#45;&gt;Sb</title>\n",
       "<path fill=\"none\" stroke=\"black\" d=\"M126.254,-82.7959C136.32,-86.1321 149.502,-90.5012 161.139,-94.3578\"/>\n",
       "<polygon fill=\"black\" stroke=\"black\" points=\"160.256,-97.7525 170.849,-97.5763 162.458,-91.1079 160.256,-97.7525\"/>\n",
       "<text text-anchor=\"middle\" x=\"148.5\" y=\"-94.2087\" font-family=\"Times,serif\" font-size=\"14.00\">b</text>\n",
       "</g>\n",
       "<!-- Sc -->\n",
       "<g id=\"node5\" class=\"node\"><title>Sc</title>\n",
       "<ellipse fill=\"none\" stroke=\"black\" cx=\"189.447\" cy=\"-47.4087\" rx=\"18.9007\" ry=\"18.9007\"/>\n",
       "<text text-anchor=\"middle\" x=\"189.447\" y=\"-43.2087\" font-family=\"Times,serif\" font-size=\"14.00\">Sc</text>\n",
       "</g>\n",
       "<!-- I&#45;&gt;Sc -->\n",
       "<g id=\"edge5\" class=\"edge\"><title>I&#45;&gt;Sc</title>\n",
       "<path fill=\"none\" stroke=\"black\" d=\"M126.254,-71.1927C136.562,-67.2507 150.138,-62.059 161.975,-57.5322\"/>\n",
       "<polygon fill=\"black\" stroke=\"black\" points=\"163.309,-60.7692 171.399,-53.9281 160.809,-54.231 163.309,-60.7692\"/>\n",
       "<text text-anchor=\"middle\" x=\"148.5\" y=\"-66.2087\" font-family=\"Times,serif\" font-size=\"14.00\">c</text>\n",
       "</g>\n",
       "<!-- I&#45;&gt;F -->\n",
       "<g id=\"edge2\" class=\"edge\"><title>I&#45;&gt;F</title>\n",
       "<path fill=\"none\" stroke=\"black\" d=\"M117.791,-61.5318C127.357,-44.0624 145.392,-16.9343 170,-5.40868 185.654,1.92332 193.075,1.56205 208.894,-5.40868 228.727,-14.1489 245.085,-32.4066 256.297,-48.0842\"/>\n",
       "<polygon fill=\"black\" stroke=\"black\" points=\"253.47,-50.1501 261.987,-56.4517 259.258,-46.2142 253.47,-50.1501\"/>\n",
       "<text text-anchor=\"middle\" x=\"189.447\" y=\"-8.20868\" font-family=\"Times,serif\" font-size=\"14.00\">a</text>\n",
       "</g>\n",
       "<!-- Sb&#45;&gt;F -->\n",
       "<g id=\"edge4\" class=\"edge\"><title>Sb&#45;&gt;F</title>\n",
       "<path fill=\"none\" stroke=\"black\" d=\"M208.337,-97.3331C218.446,-93.8997 231.348,-89.5181 242.956,-85.5758\"/>\n",
       "<polygon fill=\"black\" stroke=\"black\" points=\"244.378,-88.7893 252.722,-82.2594 242.127,-82.1611 244.378,-88.7893\"/>\n",
       "<text text-anchor=\"middle\" x=\"230.394\" y=\"-93.2087\" font-family=\"Times,serif\" font-size=\"14.00\">a</text>\n",
       "</g>\n",
       "<!-- Sc&#45;&gt;F -->\n",
       "<g id=\"edge6\" class=\"edge\"><title>Sc&#45;&gt;F</title>\n",
       "<path fill=\"none\" stroke=\"black\" d=\"M207.53,-53.2103C217.848,-56.7143 231.28,-61.2762 243.283,-65.3525\"/>\n",
       "<polygon fill=\"black\" stroke=\"black\" points=\"242.335,-68.7267 252.929,-68.6284 244.586,-62.0985 242.335,-68.7267\"/>\n",
       "<text text-anchor=\"middle\" x=\"230.394\" y=\"-64.2087\" font-family=\"Times,serif\" font-size=\"14.00\">d</text>\n",
       "</g>\n",
       "</g>\n",
       "</svg>\n"
      ],
      "text/plain": [
       "<graphviz.dot.Digraph at 0x106bda3c8>"
      ]
     },
     "execution_count": 15,
     "metadata": {},
     "output_type": "execute_result"
    }
   ],
   "source": [
    "# NFA for the language {'a','ba','cd','eb'}\n",
    "nfa_abcde = md2mc('''\n",
    "NFA\n",
    "I   : a -> F\n",
    "I   : b -> Sb\n",
    "Sb  : a -> F\n",
    "I   : c -> Sc\n",
    "Sc  : d -> F\n",
    "I   : e -> Se\n",
    "Se  : b -> F\n",
    "''')\n",
    "dotObj_nfa(nfa_abcde)"
   ]
  },
  {
   "cell_type": "code",
   "execution_count": 16,
   "metadata": {
    "run_control": {
     "frozen": false,
     "read_only": false
    }
   },
   "outputs": [
    {
     "data": {
      "image/svg+xml": [
       "<?xml version=\"1.0\" encoding=\"UTF-8\" standalone=\"no\"?>\n",
       "<!DOCTYPE svg PUBLIC \"-//W3C//DTD SVG 1.1//EN\"\n",
       " \"http://www.w3.org/Graphics/SVG/1.1/DTD/svg11.dtd\">\n",
       "<!-- Generated by graphviz version 2.38.0 (20140413.2041)\n",
       " -->\n",
       "<!-- Title: %3 Pages: 1 -->\n",
       "<svg width=\"424pt\" height=\"304pt\"\n",
       " viewBox=\"0.00 0.00 423.89 303.72\" xmlns=\"http://www.w3.org/2000/svg\" xmlns:xlink=\"http://www.w3.org/1999/xlink\">\n",
       "<g id=\"graph0\" class=\"graph\" transform=\"scale(1 1) rotate(0) translate(4 299.724)\">\n",
       "<title>%3</title>\n",
       "<polygon fill=\"white\" stroke=\"none\" points=\"-4,4 -4,-299.724 419.894,-299.724 419.894,4 -4,4\"/>\n",
       "<!-- EMPTY -->\n",
       "<g id=\"node1\" class=\"node\"><title>EMPTY</title>\n",
       "</g>\n",
       "<!-- I -->\n",
       "<g id=\"node2\" class=\"node\"><title>I</title>\n",
       "<ellipse fill=\"none\" stroke=\"black\" cx=\"109\" cy=\"-100.724\" rx=\"18\" ry=\"18\"/>\n",
       "<text text-anchor=\"middle\" x=\"109\" y=\"-96.5236\" font-family=\"Times,serif\" font-size=\"14.00\">I</text>\n",
       "</g>\n",
       "<!-- EMPTY&#45;&gt;I -->\n",
       "<g id=\"edge1\" class=\"edge\"><title>EMPTY&#45;&gt;I</title>\n",
       "<path fill=\"none\" stroke=\"black\" d=\"M54.195,-100.724C62.6538,-100.724 72.0513,-100.724 80.5951,-100.724\"/>\n",
       "<polygon fill=\"black\" stroke=\"black\" points=\"80.8257,-104.224 90.8257,-100.724 80.8257,-97.2237 80.8257,-104.224\"/>\n",
       "</g>\n",
       "<!-- Sb -->\n",
       "<g id=\"node3\" class=\"node\"><title>Sb</title>\n",
       "<ellipse fill=\"none\" stroke=\"black\" cx=\"189.447\" cy=\"-206.724\" rx=\"19.3939\" ry=\"19.3939\"/>\n",
       "<text text-anchor=\"middle\" x=\"189.447\" y=\"-202.524\" font-family=\"Times,serif\" font-size=\"14.00\">Sb</text>\n",
       "</g>\n",
       "<!-- I&#45;&gt;Sb -->\n",
       "<g id=\"edge4\" class=\"edge\"><title>I&#45;&gt;Sb</title>\n",
       "<path fill=\"none\" stroke=\"black\" d=\"M116.261,-117.406C122.263,-132.088 132.28,-153.582 145,-169.724 150.73,-176.995 158.065,-183.887 165.07,-189.708\"/>\n",
       "<polygon fill=\"black\" stroke=\"black\" points=\"163.014,-192.545 173.026,-196.009 167.359,-187.057 163.014,-192.545\"/>\n",
       "<text text-anchor=\"middle\" x=\"148.5\" y=\"-181.524\" font-family=\"Times,serif\" font-size=\"14.00\">b</text>\n",
       "</g>\n",
       "<!-- Sc -->\n",
       "<g id=\"node4\" class=\"node\"><title>Sc</title>\n",
       "<ellipse fill=\"none\" stroke=\"black\" cx=\"189.447\" cy=\"-100.724\" rx=\"18.9007\" ry=\"18.9007\"/>\n",
       "<text text-anchor=\"middle\" x=\"189.447\" y=\"-96.5236\" font-family=\"Times,serif\" font-size=\"14.00\">Sc</text>\n",
       "</g>\n",
       "<!-- I&#45;&gt;Sc -->\n",
       "<g id=\"edge6\" class=\"edge\"><title>I&#45;&gt;Sc</title>\n",
       "<path fill=\"none\" stroke=\"black\" d=\"M127.022,-100.724C136.72,-100.724 149.118,-100.724 160.233,-100.724\"/>\n",
       "<polygon fill=\"black\" stroke=\"black\" points=\"160.367,-104.224 170.366,-100.724 160.366,-97.2237 160.367,-104.224\"/>\n",
       "<text text-anchor=\"middle\" x=\"148.5\" y=\"-103.524\" font-family=\"Times,serif\" font-size=\"14.00\">c</text>\n",
       "</g>\n",
       "<!-- Se -->\n",
       "<g id=\"node5\" class=\"node\"><title>Se</title>\n",
       "<ellipse fill=\"none\" stroke=\"black\" cx=\"189.447\" cy=\"-44.7236\" rx=\"18.9007\" ry=\"18.9007\"/>\n",
       "<text text-anchor=\"middle\" x=\"189.447\" y=\"-40.5236\" font-family=\"Times,serif\" font-size=\"14.00\">Se</text>\n",
       "</g>\n",
       "<!-- I&#45;&gt;Se -->\n",
       "<g id=\"edge3\" class=\"edge\"><title>I&#45;&gt;Se</title>\n",
       "<path fill=\"none\" stroke=\"black\" d=\"M124.025,-90.7119C135.449,-82.5569 151.818,-70.8714 165.197,-61.3207\"/>\n",
       "<polygon fill=\"black\" stroke=\"black\" points=\"167.37,-64.0701 173.475,-55.4113 163.303,-58.3728 167.37,-64.0701\"/>\n",
       "<text text-anchor=\"middle\" x=\"148.5\" y=\"-77.5236\" font-family=\"Times,serif\" font-size=\"14.00\">e</text>\n",
       "</g>\n",
       "<!-- BH -->\n",
       "<g id=\"node6\" class=\"node\"><title>BH</title>\n",
       "<ellipse fill=\"none\" stroke=\"black\" cx=\"380.894\" cy=\"-93.7236\" rx=\"22.2841\" ry=\"22.2841\"/>\n",
       "<text text-anchor=\"middle\" x=\"380.894\" y=\"-89.5236\" font-family=\"Times,serif\" font-size=\"14.00\">BH</text>\n",
       "</g>\n",
       "<!-- I&#45;&gt;BH -->\n",
       "<g id=\"edge5\" class=\"edge\"><title>I&#45;&gt;BH</title>\n",
       "<path fill=\"none\" stroke=\"black\" d=\"M116.288,-84.0827C124.928,-63.8989 142.591,-30.8286 170,-16.7236 233.175,15.7872 268.157,-3.25861 327.894,-41.7236 339.299,-49.0676 350.194,-59.2729 359.038,-68.6993\"/>\n",
       "<polygon fill=\"black\" stroke=\"black\" points=\"356.652,-71.2784 365.951,-76.3544 361.847,-66.5869 356.652,-71.2784\"/>\n",
       "<text text-anchor=\"middle\" x=\"230.394\" y=\"-3.52362\" font-family=\"Times,serif\" font-size=\"14.00\">d</text>\n",
       "</g>\n",
       "<!-- F -->\n",
       "<g id=\"node7\" class=\"node\"><title>F</title>\n",
       "<ellipse fill=\"none\" stroke=\"black\" cx=\"273.894\" cy=\"-189.724\" rx=\"18\" ry=\"18\"/>\n",
       "<ellipse fill=\"none\" stroke=\"black\" cx=\"273.894\" cy=\"-189.724\" rx=\"22\" ry=\"22\"/>\n",
       "<text text-anchor=\"middle\" x=\"273.894\" y=\"-185.524\" font-family=\"Times,serif\" font-size=\"14.00\">F</text>\n",
       "</g>\n",
       "<!-- I&#45;&gt;F -->\n",
       "<g id=\"edge2\" class=\"edge\"><title>I&#45;&gt;F</title>\n",
       "<path fill=\"none\" stroke=\"black\" d=\"M125.033,-108.937C152.318,-123.845 210.373,-155.564 245.067,-174.52\"/>\n",
       "<polygon fill=\"black\" stroke=\"black\" points=\"243.734,-177.78 254.188,-179.503 247.09,-171.637 243.734,-177.78\"/>\n",
       "<text text-anchor=\"middle\" x=\"189.447\" y=\"-157.524\" font-family=\"Times,serif\" font-size=\"14.00\">a</text>\n",
       "</g>\n",
       "<!-- Sb&#45;&gt;BH -->\n",
       "<g id=\"edge11\" class=\"edge\"><title>Sb&#45;&gt;BH</title>\n",
       "<path fill=\"none\" stroke=\"black\" d=\"M206.902,-216.035C234.475,-230.264 290.646,-253.223 327.894,-227.724 360.916,-205.117 372.972,-158.247 377.37,-126.385\"/>\n",
       "<polygon fill=\"black\" stroke=\"black\" points=\"380.875,-126.557 378.588,-116.212 373.924,-125.725 380.875,-126.557\"/>\n",
       "<text text-anchor=\"middle\" x=\"273.894\" y=\"-284.524\" font-family=\"Times,serif\" font-size=\"14.00\">d </text>\n",
       "<text text-anchor=\"middle\" x=\"273.894\" y=\"-270.524\" font-family=\"Times,serif\" font-size=\"14.00\"> c </text>\n",
       "<text text-anchor=\"middle\" x=\"273.894\" y=\"-256.524\" font-family=\"Times,serif\" font-size=\"14.00\"> e </text>\n",
       "<text text-anchor=\"middle\" x=\"273.894\" y=\"-242.524\" font-family=\"Times,serif\" font-size=\"14.00\"> b</text>\n",
       "</g>\n",
       "<!-- Sb&#45;&gt;F -->\n",
       "<g id=\"edge10\" class=\"edge\"><title>Sb&#45;&gt;F</title>\n",
       "<path fill=\"none\" stroke=\"black\" d=\"M208.744,-202.951C218.551,-200.929 230.896,-198.383 242.131,-196.067\"/>\n",
       "<polygon fill=\"black\" stroke=\"black\" points=\"242.945,-199.473 252.032,-194.025 241.531,-192.617 242.945,-199.473\"/>\n",
       "<text text-anchor=\"middle\" x=\"230.394\" y=\"-202.524\" font-family=\"Times,serif\" font-size=\"14.00\">a</text>\n",
       "</g>\n",
       "<!-- Sc&#45;&gt;BH -->\n",
       "<g id=\"edge13\" class=\"edge\"><title>Sc&#45;&gt;BH</title>\n",
       "<path fill=\"none\" stroke=\"black\" d=\"M208.612,-100.052C240.832,-98.8619 308.351,-96.3671 348.32,-94.8903\"/>\n",
       "<polygon fill=\"black\" stroke=\"black\" points=\"348.466,-98.3873 358.33,-94.5204 348.208,-91.3921 348.466,-98.3873\"/>\n",
       "<text text-anchor=\"middle\" x=\"273.894\" y=\"-143.524\" font-family=\"Times,serif\" font-size=\"14.00\">c </text>\n",
       "<text text-anchor=\"middle\" x=\"273.894\" y=\"-129.524\" font-family=\"Times,serif\" font-size=\"14.00\"> a </text>\n",
       "<text text-anchor=\"middle\" x=\"273.894\" y=\"-115.524\" font-family=\"Times,serif\" font-size=\"14.00\"> e </text>\n",
       "<text text-anchor=\"middle\" x=\"273.894\" y=\"-101.524\" font-family=\"Times,serif\" font-size=\"14.00\"> b</text>\n",
       "</g>\n",
       "<!-- Sc&#45;&gt;F -->\n",
       "<g id=\"edge14\" class=\"edge\"><title>Sc&#45;&gt;F</title>\n",
       "<path fill=\"none\" stroke=\"black\" d=\"M206.961,-108.662C215.648,-113.381 226.086,-119.958 233.894,-127.724 236.871,-130.685 247.157,-147.094 256.418,-162.286\"/>\n",
       "<polygon fill=\"black\" stroke=\"black\" points=\"253.512,-164.243 261.689,-170.98 259.497,-160.614 253.512,-164.243\"/>\n",
       "<text text-anchor=\"middle\" x=\"230.394\" y=\"-130.524\" font-family=\"Times,serif\" font-size=\"14.00\">d</text>\n",
       "</g>\n",
       "<!-- Se&#45;&gt;BH -->\n",
       "<g id=\"edge8\" class=\"edge\"><title>Se&#45;&gt;BH</title>\n",
       "<path fill=\"none\" stroke=\"black\" d=\"M208.045,-39.8244C229.337,-34.7378 266.042,-28.6853 295.894,-37.7236 318.464,-44.5573 340.513,-59.6765 356.354,-72.4843\"/>\n",
       "<polygon fill=\"black\" stroke=\"black\" points=\"354.125,-75.1836 364.041,-78.9152 358.617,-69.8144 354.125,-75.1836\"/>\n",
       "<text text-anchor=\"middle\" x=\"273.894\" y=\"-82.5236\" font-family=\"Times,serif\" font-size=\"14.00\">d </text>\n",
       "<text text-anchor=\"middle\" x=\"273.894\" y=\"-68.5236\" font-family=\"Times,serif\" font-size=\"14.00\"> a </text>\n",
       "<text text-anchor=\"middle\" x=\"273.894\" y=\"-54.5236\" font-family=\"Times,serif\" font-size=\"14.00\"> c </text>\n",
       "<text text-anchor=\"middle\" x=\"273.894\" y=\"-40.5236\" font-family=\"Times,serif\" font-size=\"14.00\"> e</text>\n",
       "</g>\n",
       "<!-- Se&#45;&gt;F -->\n",
       "<g id=\"edge9\" class=\"edge\"><title>Se&#45;&gt;F</title>\n",
       "<path fill=\"none\" stroke=\"black\" d=\"M202.343,-58.7795C211.823,-70.495 224.946,-87.9237 233.894,-104.724 244.8,-125.201 242.01,-132.733 251.894,-153.724 253.237,-156.577 254.732,-159.503 256.288,-162.394\"/>\n",
       "<polygon fill=\"black\" stroke=\"black\" points=\"253.393,-164.385 261.355,-171.375 259.49,-160.946 253.393,-164.385\"/>\n",
       "<text text-anchor=\"middle\" x=\"230.394\" y=\"-107.524\" font-family=\"Times,serif\" font-size=\"14.00\">b</text>\n",
       "</g>\n",
       "<!-- BH&#45;&gt;BH -->\n",
       "<g id=\"edge12\" class=\"edge\"><title>BH&#45;&gt;BH</title>\n",
       "<path fill=\"none\" stroke=\"black\" d=\"M370.108,-113.675C368.275,-124.371 371.87,-134.115 380.894,-134.115 386.815,-134.115 390.399,-129.919 391.645,-124.011\"/>\n",
       "<polygon fill=\"black\" stroke=\"black\" points=\"395.146,-123.686 391.68,-113.675 388.147,-123.663 395.146,-123.686\"/>\n",
       "<text text-anchor=\"middle\" x=\"380.894\" y=\"-192.915\" font-family=\"Times,serif\" font-size=\"14.00\">a </text>\n",
       "<text text-anchor=\"middle\" x=\"380.894\" y=\"-178.915\" font-family=\"Times,serif\" font-size=\"14.00\"> e </text>\n",
       "<text text-anchor=\"middle\" x=\"380.894\" y=\"-164.915\" font-family=\"Times,serif\" font-size=\"14.00\"> b </text>\n",
       "<text text-anchor=\"middle\" x=\"380.894\" y=\"-150.915\" font-family=\"Times,serif\" font-size=\"14.00\"> d </text>\n",
       "<text text-anchor=\"middle\" x=\"380.894\" y=\"-136.915\" font-family=\"Times,serif\" font-size=\"14.00\"> c</text>\n",
       "</g>\n",
       "<!-- F&#45;&gt;BH -->\n",
       "<g id=\"edge7\" class=\"edge\"><title>F&#45;&gt;BH</title>\n",
       "<path fill=\"none\" stroke=\"black\" d=\"M290.841,-175.143C308.264,-159.214 336.348,-133.537 356.317,-115.279\"/>\n",
       "<polygon fill=\"black\" stroke=\"black\" points=\"358.778,-117.772 363.796,-108.441 354.054,-112.606 358.778,-117.772\"/>\n",
       "<text text-anchor=\"middle\" x=\"320.894\" y=\"-212.524\" font-family=\"Times,serif\" font-size=\"14.00\">a </text>\n",
       "<text text-anchor=\"middle\" x=\"320.894\" y=\"-198.524\" font-family=\"Times,serif\" font-size=\"14.00\"> e </text>\n",
       "<text text-anchor=\"middle\" x=\"320.894\" y=\"-184.524\" font-family=\"Times,serif\" font-size=\"14.00\"> b </text>\n",
       "<text text-anchor=\"middle\" x=\"320.894\" y=\"-170.524\" font-family=\"Times,serif\" font-size=\"14.00\"> d </text>\n",
       "<text text-anchor=\"middle\" x=\"320.894\" y=\"-156.524\" font-family=\"Times,serif\" font-size=\"14.00\"> c</text>\n",
       "</g>\n",
       "</g>\n",
       "</svg>\n"
      ],
      "text/plain": [
       "<graphviz.dot.Digraph at 0x107506b70>"
      ]
     },
     "execution_count": 16,
     "metadata": {},
     "output_type": "execute_result"
    }
   ],
   "source": [
    "# With DFA we do something else (build DFA for 'a' with alphabet being {a,b,c,d,e} etc...)\n",
    "# This results in this DFA\n",
    "dotObj_dfa_w_bh(min_dfa(nfa2dfa(nfa_abcde)), FuseEdges=True)"
   ]
  },
  {
   "cell_type": "markdown",
   "metadata": {
    "run_control": {
     "frozen": false,
     "read_only": false
    }
   },
   "source": [
    "# Chapter-7: Nondeterministic Finite Automata\n",
    "\n",
    "In this chapter, we will cover virtually all aspects of NFA, following the style of presentation used in Chapter-3 on DFA. We will sometimes be (re-) writing print (and dot-object generation) routines that look quite similar to those defined for DFA. This is because the routines are short, and we want a self-contained notebook. Besides there are subtle differences between an NFA and a DFA and it's best to make these differences manifest in dedicated routines -- than overload the former routines with extra arguments. \n",
    "\n",
    "<span style=\"color:blue\"> **We begin defining NFA by providing its structure. ** </span>\n",
    "\n",
    "We will first set up a series of definitions ending at the mk_nfa function that helps build NFA. \n",
    "\n",
    "Unlike with a DFA, there is no mkp_nfa function, as all NFAs are partial! (We can define a mktot_nfa function to print all moves, including unspecified moves leading to the se({}) state.)\n",
    "\n",
    "We will define step_nfa, run_nfa and accepts_nfa which are key functions that clearly spell out how NFA differ from DFA.\n",
    "\n",
    "We will also be defining functions for displaying NFA with the help of the _dot_ tool. The design will be similar to that with DFA.\n",
    "\n",
    "<span style=\"color:blue\"> **------** </span>\n",
    "\n",
    "<span style=\"color:red\"> __We will follow Kozen and endow an NFA with multiple start states __ </span>\n",
    "\n",
    "\n",
    "\n",
    "This will allow the NFA to be more naturally handled. For instance, the reverse of a DFA is an NFA. When we reverse a DFA, all its final states become initial states of the NFA (that models the reversed language). There are 2 ways to handle this:\n",
    "\n",
    "1. Introduce a fake new initial state and jump from it via $\\varepsilon$ onto (what were the final state of the DFA).\n",
    "\n",
    "2. Don't introduce the fake new initial state, but rather allow the NFA to start from all of F being really its start state.\n",
    "\n",
    "    * Of course, in almost all situations, this is a minor difference\n",
    "    \n",
    "    * But to enjoy the topic as completely as one can, it is best to be \"clean\" and follow clean definitions.\n",
    "    \n",
    "        - I've seen Ed Clarke also use multiple initial states\n",
    "        \n",
    "        - Hence our code will be for this relaxed setup\n",
    "        \n",
    "        - Of course if you __REALLY__ wanted to have only one start state, then make it a singleton set of states and work that through your NFA.\n",
    "\n",
    "\n",
    "<br>\n",
    "\n",
    "__So now, following Brzozowski, we have__\n",
    "\n",
    "<br>\n",
    "\n",
    "An NFA is a quintuple $(Q,\\Sigma,\\delta,Q_0,F)$, where:\n",
    "\n",
    "* $Q$ is a _finite nonempty_ set of states.\n",
    "\n",
    "* $\\Sigma$ is a _finite nonempty_ alphabet containing _symbols_.\n",
    "\n",
    "* $\\delta$ is a (partial)\n",
    "\ttransition function, containing a set of _transitions_. The transitions take\n",
    "    a pair from $Q\\times \\Sigma$ and return a __subset__ of states in $Q$. All this is succinctly\n",
    "    captured by writing\n",
    "    $\\delta: Q\\times \\Sigma \\rightarrow 2^Q$. \n",
    "    Here we use $2^Q$ to denote the powerset of $Q$.\n",
    "    \n",
    "  \n",
    "* $Q_0\\subseteq Q$, is __a set of initial states__.  Notice that we change from q0 (or $q_0$) which is what you find books such as Sipser and Linz using.\n",
    "\n",
    "\n",
    "* $F\\subseteq Q$ is a _finite_ (and _possibly empty_) set of\n",
    "\tfinal (or _accepting_) states. These are shown as double-circled nodes in the graph of a DFA. \n",
    " \n",
    "> There is no other change. I.e. $\\delta$ remains the same as before.\n",
    "> It is that when an NFA starts, it can find itself in a set of start states.\n",
    "> Most NFAs start from a __singleton__ Q0, which is then, effectively, an NFA\n",
    " that matches most books say.\n",
    "\n",
    "Some terminology:\n",
    "\n",
    "> We call $Q$,$\\Sigma$, $\\delta$, $Q_0$, and $F$ the **_traits_** of the NFA.\n",
    "\n",
    "> We will call an NFA **_structurally consistent_** or simply **\"consistent\"** if its traits pass the aforesaid checks.\n",
    "\n",
    "\n",
    "Here is how the checks will be broken down:\n",
    "\n",
    "* The supplied $\\delta$ function will be checked to see if it has allowed domain and range points. \n",
    " - The domain points must be a subset of $Q\\times \\Sigma$\n",
    " - The range points must be a subset of $2^Q$\n",
    "  We do no insist that the supplied $\\delta$ be total.\n",
    "    \n",
    "* $Q_0\\subseteq Q$, is _the_ initial state.\n",
    "\n",
    "* $F\\subseteq Q$ is a _finite_ (and _possibly empty_) set of\n",
    "\tfinal (or _accepting_) states.  \n",
    "    \n",
    "We will often use the state set({}) to be the equivalent of a black-hole state for an NFA."
   ]
  },
  {
   "cell_type": "code",
   "execution_count": 17,
   "metadata": {
    "run_control": {
     "frozen": false,
     "read_only": false
    }
   },
   "outputs": [
    {
     "data": {
      "image/svg+xml": [
       "<?xml version=\"1.0\" encoding=\"UTF-8\" standalone=\"no\"?>\n",
       "<!DOCTYPE svg PUBLIC \"-//W3C//DTD SVG 1.1//EN\"\n",
       " \"http://www.w3.org/Graphics/SVG/1.1/DTD/svg11.dtd\">\n",
       "<!-- Generated by graphviz version 2.38.0 (20140413.2041)\n",
       " -->\n",
       "<!-- Title: %3 Pages: 1 -->\n",
       "<svg width=\"222pt\" height=\"106pt\"\n",
       " viewBox=\"0.00 0.00 222.00 106.00\" xmlns=\"http://www.w3.org/2000/svg\" xmlns:xlink=\"http://www.w3.org/1999/xlink\">\n",
       "<g id=\"graph0\" class=\"graph\" transform=\"scale(1 1) rotate(0) translate(4 102)\">\n",
       "<title>%3</title>\n",
       "<polygon fill=\"white\" stroke=\"none\" points=\"-4,4 -4,-102 218,-102 218,4 -4,4\"/>\n",
       "<!-- EMPTY -->\n",
       "<g id=\"node1\" class=\"node\"><title>EMPTY</title>\n",
       "</g>\n",
       "<!-- I -->\n",
       "<g id=\"node3\" class=\"node\"><title>I</title>\n",
       "<ellipse fill=\"none\" stroke=\"black\" cx=\"109\" cy=\"-51\" rx=\"18\" ry=\"18\"/>\n",
       "<text text-anchor=\"middle\" x=\"109\" y=\"-46.8\" font-family=\"Times,serif\" font-size=\"14.00\">I</text>\n",
       "</g>\n",
       "<!-- EMPTY&#45;&gt;I -->\n",
       "<g id=\"edge1\" class=\"edge\"><title>EMPTY&#45;&gt;I</title>\n",
       "<path fill=\"none\" stroke=\"black\" d=\"M54.195,-51C62.6538,-51 72.0513,-51 80.5951,-51\"/>\n",
       "<polygon fill=\"black\" stroke=\"black\" points=\"80.8257,-54.5001 90.8257,-51 80.8257,-47.5001 80.8257,-54.5001\"/>\n",
       "</g>\n",
       "<!-- A -->\n",
       "<g id=\"node2\" class=\"node\"><title>A</title>\n",
       "<ellipse fill=\"none\" stroke=\"black\" cx=\"192\" cy=\"-80\" rx=\"18\" ry=\"18\"/>\n",
       "<text text-anchor=\"middle\" x=\"192\" y=\"-75.8\" font-family=\"Times,serif\" font-size=\"14.00\">A</text>\n",
       "</g>\n",
       "<!-- I&#45;&gt;A -->\n",
       "<g id=\"edge2\" class=\"edge\"><title>I&#45;&gt;A</title>\n",
       "<path fill=\"none\" stroke=\"black\" d=\"M126.392,-56.8686C137.553,-60.8648 152.556,-66.2362 165.295,-70.797\"/>\n",
       "<polygon fill=\"black\" stroke=\"black\" points=\"164.315,-74.1635 174.909,-74.2391 166.674,-67.5731 164.315,-74.1635\"/>\n",
       "<text text-anchor=\"middle\" x=\"148.5\" y=\"-67.8\" font-family=\"Times,serif\" font-size=\"14.00\">0</text>\n",
       "</g>\n",
       "<!-- F -->\n",
       "<g id=\"node4\" class=\"node\"><title>F</title>\n",
       "<ellipse fill=\"none\" stroke=\"black\" cx=\"192\" cy=\"-22\" rx=\"18\" ry=\"18\"/>\n",
       "<ellipse fill=\"none\" stroke=\"black\" cx=\"192\" cy=\"-22\" rx=\"22\" ry=\"22\"/>\n",
       "<text text-anchor=\"middle\" x=\"192\" y=\"-17.8\" font-family=\"Times,serif\" font-size=\"14.00\">F</text>\n",
       "</g>\n",
       "<!-- I&#45;&gt;F -->\n",
       "<g id=\"edge3\" class=\"edge\"><title>I&#45;&gt;F</title>\n",
       "<path fill=\"none\" stroke=\"black\" d=\"M126.392,-45.1314C136.432,-41.5368 149.579,-36.8296 161.392,-32.6004\"/>\n",
       "<polygon fill=\"black\" stroke=\"black\" points=\"162.668,-35.8613 170.903,-29.1953 160.308,-29.2709 162.668,-35.8613\"/>\n",
       "<text text-anchor=\"middle\" x=\"148.5\" y=\"-40.8\" font-family=\"Times,serif\" font-size=\"14.00\">0</text>\n",
       "</g>\n",
       "</g>\n",
       "</svg>\n"
      ],
      "text/plain": [
       "<graphviz.dot.Digraph at 0x10751f9b0>"
      ]
     },
     "execution_count": 17,
     "metadata": {},
     "output_type": "execute_result"
    }
   ],
   "source": [
    "nfa1 = md2mc('''NFA\n",
    "I : 0 -> A\n",
    "I : 0 -> F''')\n",
    "dotObj_nfa(nfa1)"
   ]
  },
  {
   "cell_type": "code",
   "execution_count": 18,
   "metadata": {
    "run_control": {
     "frozen": false,
     "read_only": false
    }
   },
   "outputs": [
    {
     "data": {
      "image/svg+xml": [
       "<?xml version=\"1.0\" encoding=\"UTF-8\" standalone=\"no\"?>\n",
       "<!DOCTYPE svg PUBLIC \"-//W3C//DTD SVG 1.1//EN\"\n",
       " \"http://www.w3.org/Graphics/SVG/1.1/DTD/svg11.dtd\">\n",
       "<!-- Generated by graphviz version 2.38.0 (20140413.2041)\n",
       " -->\n",
       "<!-- Title: %3 Pages: 1 -->\n",
       "<svg width=\"222pt\" height=\"106pt\"\n",
       " viewBox=\"0.00 0.00 222.00 106.00\" xmlns=\"http://www.w3.org/2000/svg\" xmlns:xlink=\"http://www.w3.org/1999/xlink\">\n",
       "<g id=\"graph0\" class=\"graph\" transform=\"scale(1 1) rotate(0) translate(4 102)\">\n",
       "<title>%3</title>\n",
       "<polygon fill=\"white\" stroke=\"none\" points=\"-4,4 -4,-102 218,-102 218,4 -4,4\"/>\n",
       "<!-- EMPTY -->\n",
       "<g id=\"node1\" class=\"node\"><title>EMPTY</title>\n",
       "</g>\n",
       "<!-- I -->\n",
       "<g id=\"node3\" class=\"node\"><title>I</title>\n",
       "<ellipse fill=\"none\" stroke=\"black\" cx=\"109\" cy=\"-51\" rx=\"18\" ry=\"18\"/>\n",
       "<text text-anchor=\"middle\" x=\"109\" y=\"-46.8\" font-family=\"Times,serif\" font-size=\"14.00\">I</text>\n",
       "</g>\n",
       "<!-- EMPTY&#45;&gt;I -->\n",
       "<g id=\"edge1\" class=\"edge\"><title>EMPTY&#45;&gt;I</title>\n",
       "<path fill=\"none\" stroke=\"black\" d=\"M54.195,-51C62.6538,-51 72.0513,-51 80.5951,-51\"/>\n",
       "<polygon fill=\"black\" stroke=\"black\" points=\"80.8257,-54.5001 90.8257,-51 80.8257,-47.5001 80.8257,-54.5001\"/>\n",
       "</g>\n",
       "<!-- A -->\n",
       "<g id=\"node2\" class=\"node\"><title>A</title>\n",
       "<ellipse fill=\"none\" stroke=\"black\" cx=\"192\" cy=\"-80\" rx=\"18\" ry=\"18\"/>\n",
       "<text text-anchor=\"middle\" x=\"192\" y=\"-75.8\" font-family=\"Times,serif\" font-size=\"14.00\">A</text>\n",
       "</g>\n",
       "<!-- I&#45;&gt;A -->\n",
       "<g id=\"edge3\" class=\"edge\"><title>I&#45;&gt;A</title>\n",
       "<path fill=\"none\" stroke=\"black\" d=\"M126.392,-56.8686C137.553,-60.8648 152.556,-66.2362 165.295,-70.797\"/>\n",
       "<polygon fill=\"black\" stroke=\"black\" points=\"164.315,-74.1635 174.909,-74.2391 166.674,-67.5731 164.315,-74.1635\"/>\n",
       "<text text-anchor=\"middle\" x=\"148.5\" y=\"-67.8\" font-family=\"Times,serif\" font-size=\"14.00\">0</text>\n",
       "</g>\n",
       "<!-- F -->\n",
       "<g id=\"node4\" class=\"node\"><title>F</title>\n",
       "<ellipse fill=\"none\" stroke=\"black\" cx=\"192\" cy=\"-22\" rx=\"18\" ry=\"18\"/>\n",
       "<ellipse fill=\"none\" stroke=\"black\" cx=\"192\" cy=\"-22\" rx=\"22\" ry=\"22\"/>\n",
       "<text text-anchor=\"middle\" x=\"192\" y=\"-17.8\" font-family=\"Times,serif\" font-size=\"14.00\">F</text>\n",
       "</g>\n",
       "<!-- I&#45;&gt;F -->\n",
       "<g id=\"edge2\" class=\"edge\"><title>I&#45;&gt;F</title>\n",
       "<path fill=\"none\" stroke=\"black\" d=\"M126.392,-45.1314C136.432,-41.5368 149.579,-36.8296 161.392,-32.6004\"/>\n",
       "<polygon fill=\"black\" stroke=\"black\" points=\"162.668,-35.8613 170.903,-29.1953 160.308,-29.2709 162.668,-35.8613\"/>\n",
       "<text text-anchor=\"middle\" x=\"148.5\" y=\"-40.8\" font-family=\"Times,serif\" font-size=\"14.00\">&#39;&#39;</text>\n",
       "</g>\n",
       "</g>\n",
       "</svg>\n"
      ],
      "text/plain": [
       "<graphviz.dot.Digraph at 0x1075069b0>"
      ]
     },
     "execution_count": 18,
     "metadata": {},
     "output_type": "execute_result"
    }
   ],
   "source": [
    "nfa2 = md2mc('''NFA\n",
    "I : '' -> F\n",
    "I : 0  -> A\n",
    "''')\n",
    "dotObj_nfa(nfa2)"
   ]
  },
  {
   "cell_type": "markdown",
   "metadata": {
    "run_control": {
     "frozen": false,
     "read_only": false
    }
   },
   "source": [
    "# The $\\delta$ function of the NFA"
   ]
  },
  {
   "cell_type": "code",
   "execution_count": 19,
   "metadata": {
    "run_control": {
     "frozen": false,
     "read_only": false
    }
   },
   "outputs": [
    {
     "name": "stdout",
     "output_type": "stream",
     "text": [
      "Help on function step_nfa in module jove.Def_NFA:\n",
      "\n",
      "step_nfa(N, q, c)\n",
      "    In : N (consistent NFA)\n",
      "         q (state in N)\n",
      "         c (symbol in N's sigma or \"\")\n",
      "    Out: The set of states reached via N's Delta.\n",
      "    EClosure is NOT performed.\n",
      "    If the move is not defined, return {}.\n",
      "\n"
     ]
    }
   ],
   "source": [
    "help(step_nfa)"
   ]
  },
  {
   "cell_type": "code",
   "execution_count": 20,
   "metadata": {
    "run_control": {
     "frozen": false,
     "read_only": false
    }
   },
   "outputs": [
    {
     "data": {
      "text/plain": [
       "set()"
      ]
     },
     "execution_count": 20,
     "metadata": {},
     "output_type": "execute_result"
    }
   ],
   "source": [
    "step_nfa(nfa1, 'I', '')"
   ]
  },
  {
   "cell_type": "code",
   "execution_count": 21,
   "metadata": {
    "run_control": {
     "frozen": false,
     "read_only": false
    }
   },
   "outputs": [
    {
     "data": {
      "text/plain": [
       "{'A', 'F'}"
      ]
     },
     "execution_count": 21,
     "metadata": {},
     "output_type": "execute_result"
    }
   ],
   "source": [
    "step_nfa(nfa1, 'I', '0')"
   ]
  },
  {
   "cell_type": "code",
   "execution_count": 22,
   "metadata": {
    "run_control": {
     "frozen": false,
     "read_only": false
    }
   },
   "outputs": [
    {
     "data": {
      "text/plain": [
       "{'F'}"
      ]
     },
     "execution_count": 22,
     "metadata": {},
     "output_type": "execute_result"
    }
   ],
   "source": [
    "step_nfa(nfa2, 'I','')"
   ]
  },
  {
   "cell_type": "code",
   "execution_count": 23,
   "metadata": {
    "run_control": {
     "frozen": false,
     "read_only": false
    }
   },
   "outputs": [],
   "source": [
    "fig71a = md2mc('''\n",
    "NFA\n",
    "I  : 0 -> I\n",
    "I  : 1 -> I, S0\n",
    "S0 : 0 | 1 -> S1\n",
    "S1 : 0 | 1 -> F\n",
    "''')"
   ]
  },
  {
   "cell_type": "code",
   "execution_count": 24,
   "metadata": {
    "run_control": {
     "frozen": false,
     "read_only": false
    }
   },
   "outputs": [
    {
     "data": {
      "image/svg+xml": [
       "<?xml version=\"1.0\" encoding=\"UTF-8\" standalone=\"no\"?>\n",
       "<!DOCTYPE svg PUBLIC \"-//W3C//DTD SVG 1.1//EN\"\n",
       " \"http://www.w3.org/Graphics/SVG/1.1/DTD/svg11.dtd\">\n",
       "<!-- Generated by graphviz version 2.38.0 (20140413.2041)\n",
       " -->\n",
       "<!-- Title: %3 Pages: 1 -->\n",
       "<svg width=\"393pt\" height=\"94pt\"\n",
       " viewBox=\"0.00 0.00 392.79 94.00\" xmlns=\"http://www.w3.org/2000/svg\" xmlns:xlink=\"http://www.w3.org/1999/xlink\">\n",
       "<g id=\"graph0\" class=\"graph\" transform=\"scale(1 1) rotate(0) translate(4 90)\">\n",
       "<title>%3</title>\n",
       "<polygon fill=\"white\" stroke=\"none\" points=\"-4,4 -4,-90 388.787,-90 388.787,4 -4,4\"/>\n",
       "<!-- EMPTY -->\n",
       "<g id=\"node1\" class=\"node\"><title>EMPTY</title>\n",
       "</g>\n",
       "<!-- I -->\n",
       "<g id=\"node4\" class=\"node\"><title>I</title>\n",
       "<ellipse fill=\"none\" stroke=\"black\" cx=\"109\" cy=\"-22\" rx=\"18\" ry=\"18\"/>\n",
       "<text text-anchor=\"middle\" x=\"109\" y=\"-17.8\" font-family=\"Times,serif\" font-size=\"14.00\">I</text>\n",
       "</g>\n",
       "<!-- EMPTY&#45;&gt;I -->\n",
       "<g id=\"edge1\" class=\"edge\"><title>EMPTY&#45;&gt;I</title>\n",
       "<path fill=\"none\" stroke=\"black\" d=\"M54.195,-22C62.6538,-22 72.0513,-22 80.5951,-22\"/>\n",
       "<polygon fill=\"black\" stroke=\"black\" points=\"80.8257,-25.5001 90.8257,-22 80.8257,-18.5001 80.8257,-25.5001\"/>\n",
       "</g>\n",
       "<!-- S0 -->\n",
       "<g id=\"node2\" class=\"node\"><title>S0</title>\n",
       "<ellipse fill=\"none\" stroke=\"black\" cx=\"189.447\" cy=\"-22\" rx=\"19.3939\" ry=\"19.3939\"/>\n",
       "<text text-anchor=\"middle\" x=\"189.447\" y=\"-17.8\" font-family=\"Times,serif\" font-size=\"14.00\">S0</text>\n",
       "</g>\n",
       "<!-- S1 -->\n",
       "<g id=\"node3\" class=\"node\"><title>S1</title>\n",
       "<ellipse fill=\"none\" stroke=\"black\" cx=\"274.841\" cy=\"-22\" rx=\"19.3939\" ry=\"19.3939\"/>\n",
       "<text text-anchor=\"middle\" x=\"274.841\" y=\"-17.8\" font-family=\"Times,serif\" font-size=\"14.00\">S1</text>\n",
       "</g>\n",
       "<!-- S0&#45;&gt;S1 -->\n",
       "<g id=\"edge4\" class=\"edge\"><title>S0&#45;&gt;S1</title>\n",
       "<path fill=\"none\" stroke=\"black\" d=\"M208.955,-22C219.643,-22 233.313,-22 245.347,-22\"/>\n",
       "<polygon fill=\"black\" stroke=\"black\" points=\"245.385,-25.5001 255.385,-22 245.385,-18.5001 245.385,-25.5001\"/>\n",
       "<text text-anchor=\"middle\" x=\"232.144\" y=\"-38.8\" font-family=\"Times,serif\" font-size=\"14.00\">1 </text>\n",
       "<text text-anchor=\"middle\" x=\"232.144\" y=\"-24.8\" font-family=\"Times,serif\" font-size=\"14.00\"> 0</text>\n",
       "</g>\n",
       "<!-- F -->\n",
       "<g id=\"node5\" class=\"node\"><title>F</title>\n",
       "<ellipse fill=\"none\" stroke=\"black\" cx=\"362.787\" cy=\"-22\" rx=\"18\" ry=\"18\"/>\n",
       "<ellipse fill=\"none\" stroke=\"black\" cx=\"362.787\" cy=\"-22\" rx=\"22\" ry=\"22\"/>\n",
       "<text text-anchor=\"middle\" x=\"362.787\" y=\"-17.8\" font-family=\"Times,serif\" font-size=\"14.00\">F</text>\n",
       "</g>\n",
       "<!-- S1&#45;&gt;F -->\n",
       "<g id=\"edge5\" class=\"edge\"><title>S1&#45;&gt;F</title>\n",
       "<path fill=\"none\" stroke=\"black\" d=\"M294.49,-22C305.029,-22 318.478,-22 330.579,-22\"/>\n",
       "<polygon fill=\"black\" stroke=\"black\" points=\"330.759,-25.5001 340.759,-22 330.759,-18.5001 330.759,-25.5001\"/>\n",
       "<text text-anchor=\"middle\" x=\"317.537\" y=\"-38.8\" font-family=\"Times,serif\" font-size=\"14.00\">1 </text>\n",
       "<text text-anchor=\"middle\" x=\"317.537\" y=\"-24.8\" font-family=\"Times,serif\" font-size=\"14.00\"> 0</text>\n",
       "</g>\n",
       "<!-- I&#45;&gt;S0 -->\n",
       "<g id=\"edge3\" class=\"edge\"><title>I&#45;&gt;S0</title>\n",
       "<path fill=\"none\" stroke=\"black\" d=\"M127.022,-22C136.583,-22 148.77,-22 159.763,-22\"/>\n",
       "<polygon fill=\"black\" stroke=\"black\" points=\"159.813,-25.5001 169.813,-22 159.813,-18.5001 159.813,-25.5001\"/>\n",
       "<text text-anchor=\"middle\" x=\"148.5\" y=\"-24.8\" font-family=\"Times,serif\" font-size=\"14.00\">1</text>\n",
       "</g>\n",
       "<!-- I&#45;&gt;I -->\n",
       "<g id=\"edge2\" class=\"edge\"><title>I&#45;&gt;I</title>\n",
       "<path fill=\"none\" stroke=\"black\" d=\"M102.621,-39.0373C101.319,-48.8579 103.445,-58 109,-58 112.472,-58 114.604,-54.4289 115.398,-49.3529\"/>\n",
       "<polygon fill=\"black\" stroke=\"black\" points=\"118.897,-49.031 115.379,-39.0373 111.897,-49.0435 118.897,-49.031\"/>\n",
       "<text text-anchor=\"middle\" x=\"109\" y=\"-74.8\" font-family=\"Times,serif\" font-size=\"14.00\">1 </text>\n",
       "<text text-anchor=\"middle\" x=\"109\" y=\"-60.8\" font-family=\"Times,serif\" font-size=\"14.00\"> 0</text>\n",
       "</g>\n",
       "</g>\n",
       "</svg>\n"
      ],
      "text/plain": [
       "<graphviz.dot.Digraph at 0x106bda080>"
      ]
     },
     "execution_count": 24,
     "metadata": {},
     "output_type": "execute_result"
    }
   ],
   "source": [
    "dotObj_nfa(fig71a, FuseEdges=True)"
   ]
  },
  {
   "cell_type": "code",
   "execution_count": 25,
   "metadata": {
    "run_control": {
     "frozen": false,
     "read_only": false
    }
   },
   "outputs": [],
   "source": [
    "fig71b = md2mc('''\n",
    "NFA\n",
    "I  : 0 | 1 -> I\n",
    "I  : '' -> S0\n",
    "S0 : 1  -> S1\n",
    "S1 : 0 | 1 -> S2\n",
    "S2 : 0 | 1 -> F\n",
    "''')"
   ]
  },
  {
   "cell_type": "code",
   "execution_count": 26,
   "metadata": {
    "run_control": {
     "frozen": false,
     "read_only": false
    }
   },
   "outputs": [
    {
     "data": {
      "image/svg+xml": [
       "<?xml version=\"1.0\" encoding=\"UTF-8\" standalone=\"no\"?>\n",
       "<!DOCTYPE svg PUBLIC \"-//W3C//DTD SVG 1.1//EN\"\n",
       " \"http://www.w3.org/Graphics/SVG/1.1/DTD/svg11.dtd\">\n",
       "<!-- Generated by graphviz version 2.38.0 (20140413.2041)\n",
       " -->\n",
       "<!-- Title: %3 Pages: 1 -->\n",
       "<svg width=\"473pt\" height=\"94pt\"\n",
       " viewBox=\"0.00 0.00 472.73 94.00\" xmlns=\"http://www.w3.org/2000/svg\" xmlns:xlink=\"http://www.w3.org/1999/xlink\">\n",
       "<g id=\"graph0\" class=\"graph\" transform=\"scale(1 1) rotate(0) translate(4 90)\">\n",
       "<title>%3</title>\n",
       "<polygon fill=\"white\" stroke=\"none\" points=\"-4,4 -4,-90 468.726,-90 468.726,4 -4,4\"/>\n",
       "<!-- EMPTY -->\n",
       "<g id=\"node1\" class=\"node\"><title>EMPTY</title>\n",
       "</g>\n",
       "<!-- I -->\n",
       "<g id=\"node5\" class=\"node\"><title>I</title>\n",
       "<ellipse fill=\"none\" stroke=\"black\" cx=\"109\" cy=\"-22\" rx=\"18\" ry=\"18\"/>\n",
       "<text text-anchor=\"middle\" x=\"109\" y=\"-17.8\" font-family=\"Times,serif\" font-size=\"14.00\">I</text>\n",
       "</g>\n",
       "<!-- EMPTY&#45;&gt;I -->\n",
       "<g id=\"edge1\" class=\"edge\"><title>EMPTY&#45;&gt;I</title>\n",
       "<path fill=\"none\" stroke=\"black\" d=\"M54.195,-22C62.6538,-22 72.0513,-22 80.5951,-22\"/>\n",
       "<polygon fill=\"black\" stroke=\"black\" points=\"80.8257,-25.5001 90.8257,-22 80.8257,-18.5001 80.8257,-25.5001\"/>\n",
       "</g>\n",
       "<!-- S2 -->\n",
       "<g id=\"node2\" class=\"node\"><title>S2</title>\n",
       "<ellipse fill=\"none\" stroke=\"black\" cx=\"354.779\" cy=\"-22\" rx=\"19.3939\" ry=\"19.3939\"/>\n",
       "<text text-anchor=\"middle\" x=\"354.779\" y=\"-17.8\" font-family=\"Times,serif\" font-size=\"14.00\">S2</text>\n",
       "</g>\n",
       "<!-- F -->\n",
       "<g id=\"node6\" class=\"node\"><title>F</title>\n",
       "<ellipse fill=\"none\" stroke=\"black\" cx=\"442.726\" cy=\"-22\" rx=\"18\" ry=\"18\"/>\n",
       "<ellipse fill=\"none\" stroke=\"black\" cx=\"442.726\" cy=\"-22\" rx=\"22\" ry=\"22\"/>\n",
       "<text text-anchor=\"middle\" x=\"442.726\" y=\"-17.8\" font-family=\"Times,serif\" font-size=\"14.00\">F</text>\n",
       "</g>\n",
       "<!-- S2&#45;&gt;F -->\n",
       "<g id=\"edge6\" class=\"edge\"><title>S2&#45;&gt;F</title>\n",
       "<path fill=\"none\" stroke=\"black\" d=\"M374.428,-22C384.967,-22 398.417,-22 410.518,-22\"/>\n",
       "<polygon fill=\"black\" stroke=\"black\" points=\"410.698,-25.5001 420.698,-22 410.698,-18.5001 410.698,-25.5001\"/>\n",
       "<text text-anchor=\"middle\" x=\"397.476\" y=\"-38.8\" font-family=\"Times,serif\" font-size=\"14.00\">1 </text>\n",
       "<text text-anchor=\"middle\" x=\"397.476\" y=\"-24.8\" font-family=\"Times,serif\" font-size=\"14.00\"> 0</text>\n",
       "</g>\n",
       "<!-- S0 -->\n",
       "<g id=\"node3\" class=\"node\"><title>S0</title>\n",
       "<ellipse fill=\"none\" stroke=\"black\" cx=\"187.492\" cy=\"-22\" rx=\"19.3939\" ry=\"19.3939\"/>\n",
       "<text text-anchor=\"middle\" x=\"187.492\" y=\"-17.8\" font-family=\"Times,serif\" font-size=\"14.00\">S0</text>\n",
       "</g>\n",
       "<!-- S1 -->\n",
       "<g id=\"node4\" class=\"node\"><title>S1</title>\n",
       "<ellipse fill=\"none\" stroke=\"black\" cx=\"269.386\" cy=\"-22\" rx=\"19.3939\" ry=\"19.3939\"/>\n",
       "<text text-anchor=\"middle\" x=\"269.386\" y=\"-17.8\" font-family=\"Times,serif\" font-size=\"14.00\">S1</text>\n",
       "</g>\n",
       "<!-- S0&#45;&gt;S1 -->\n",
       "<g id=\"edge4\" class=\"edge\"><title>S0&#45;&gt;S1</title>\n",
       "<path fill=\"none\" stroke=\"black\" d=\"M207.022,-22C216.633,-22 228.592,-22 239.394,-22\"/>\n",
       "<polygon fill=\"black\" stroke=\"black\" points=\"239.679,-25.5001 249.679,-22 239.679,-18.5001 239.679,-25.5001\"/>\n",
       "<text text-anchor=\"middle\" x=\"228.439\" y=\"-24.8\" font-family=\"Times,serif\" font-size=\"14.00\">1</text>\n",
       "</g>\n",
       "<!-- S1&#45;&gt;S2 -->\n",
       "<g id=\"edge5\" class=\"edge\"><title>S1&#45;&gt;S2</title>\n",
       "<path fill=\"none\" stroke=\"black\" d=\"M288.893,-22C299.582,-22 313.252,-22 325.285,-22\"/>\n",
       "<polygon fill=\"black\" stroke=\"black\" points=\"325.323,-25.5001 335.323,-22 325.323,-18.5001 325.323,-25.5001\"/>\n",
       "<text text-anchor=\"middle\" x=\"312.082\" y=\"-38.8\" font-family=\"Times,serif\" font-size=\"14.00\">1 </text>\n",
       "<text text-anchor=\"middle\" x=\"312.082\" y=\"-24.8\" font-family=\"Times,serif\" font-size=\"14.00\"> 0</text>\n",
       "</g>\n",
       "<!-- I&#45;&gt;S0 -->\n",
       "<g id=\"edge3\" class=\"edge\"><title>I&#45;&gt;S0</title>\n",
       "<path fill=\"none\" stroke=\"black\" d=\"M127.357,-22C136.321,-22 147.493,-22 157.705,-22\"/>\n",
       "<polygon fill=\"black\" stroke=\"black\" points=\"157.867,-25.5001 167.867,-22 157.867,-18.5001 157.867,-25.5001\"/>\n",
       "<text text-anchor=\"middle\" x=\"147.522\" y=\"-24.8\" font-family=\"Times,serif\" font-size=\"14.00\">&#39;&#39;</text>\n",
       "</g>\n",
       "<!-- I&#45;&gt;I -->\n",
       "<g id=\"edge2\" class=\"edge\"><title>I&#45;&gt;I</title>\n",
       "<path fill=\"none\" stroke=\"black\" d=\"M102.621,-39.0373C101.319,-48.8579 103.445,-58 109,-58 112.472,-58 114.604,-54.4289 115.398,-49.3529\"/>\n",
       "<polygon fill=\"black\" stroke=\"black\" points=\"118.897,-49.031 115.379,-39.0373 111.897,-49.0435 118.897,-49.031\"/>\n",
       "<text text-anchor=\"middle\" x=\"109\" y=\"-74.8\" font-family=\"Times,serif\" font-size=\"14.00\">1 </text>\n",
       "<text text-anchor=\"middle\" x=\"109\" y=\"-60.8\" font-family=\"Times,serif\" font-size=\"14.00\"> 0</text>\n",
       "</g>\n",
       "</g>\n",
       "</svg>\n"
      ],
      "text/plain": [
       "<graphviz.dot.Digraph at 0x107528128>"
      ]
     },
     "execution_count": 26,
     "metadata": {},
     "output_type": "execute_result"
    }
   ],
   "source": [
    "dotObj_nfa(fig71b, FuseEdges=True)"
   ]
  },
  {
   "cell_type": "markdown",
   "metadata": {
    "run_control": {
     "frozen": false,
     "read_only": false
    }
   },
   "source": [
    "# Stepping and Running NFA\n",
    "\n",
    "Now that we've defined NFA and allied actions such as consistency checking and printing, let's write functions to step and run them.\n",
    "\n",
    "* How the state transition function $\\delta$ \"works\"\n",
    "  - captured in step_nfa"
   ]
  },
  {
   "cell_type": "code",
   "execution_count": 27,
   "metadata": {
    "run_control": {
     "frozen": false,
     "read_only": false
    }
   },
   "outputs": [
    {
     "name": "stdout",
     "output_type": "stream",
     "text": [
      "Help on function step_nfa in module jove.Def_NFA:\n",
      "\n",
      "step_nfa(N, q, c)\n",
      "    In : N (consistent NFA)\n",
      "         q (state in N)\n",
      "         c (symbol in N's sigma or \"\")\n",
      "    Out: The set of states reached via N's Delta.\n",
      "    EClosure is NOT performed.\n",
      "    If the move is not defined, return {}.\n",
      "\n"
     ]
    }
   ],
   "source": [
    "help(step_nfa)"
   ]
  },
  {
   "cell_type": "code",
   "execution_count": 28,
   "metadata": {
    "run_control": {
     "frozen": false,
     "read_only": false
    }
   },
   "outputs": [
    {
     "data": {
      "text/plain": [
       "{'S0'}"
      ]
     },
     "execution_count": 28,
     "metadata": {},
     "output_type": "execute_result"
    }
   ],
   "source": [
    "step_nfa(fig71b, \"I\", '')"
   ]
  },
  {
   "cell_type": "code",
   "execution_count": 29,
   "metadata": {
    "run_control": {
     "frozen": false,
     "read_only": false
    }
   },
   "outputs": [
    {
     "data": {
      "text/plain": [
       "set()"
      ]
     },
     "execution_count": 29,
     "metadata": {},
     "output_type": "execute_result"
    }
   ],
   "source": [
    "step_nfa(fig71b, \"S0\", '')"
   ]
  },
  {
   "cell_type": "code",
   "execution_count": 30,
   "metadata": {
    "run_control": {
     "frozen": false,
     "read_only": false
    }
   },
   "outputs": [
    {
     "data": {
      "text/plain": [
       "{'I'}"
      ]
     },
     "execution_count": 30,
     "metadata": {},
     "output_type": "execute_result"
    }
   ],
   "source": [
    "step_nfa(fig71b, \"I\", '0')"
   ]
  },
  {
   "cell_type": "code",
   "execution_count": 31,
   "metadata": {
    "run_control": {
     "frozen": false,
     "read_only": false
    }
   },
   "outputs": [
    {
     "name": "stdout",
     "output_type": "stream",
     "text": [
      "Help on function run_nfa in module jove.Def_NFA:\n",
      "\n",
      "run_nfa(N, S, s, chatty=False)\n",
      "    In : N (consistent NFA)\n",
      "         S (SET of states S belonging to N's states)\n",
      "         s (string over N's alphabet)\n",
      "    Out: SET of states reached after processing s.\n",
      "    Run the NFA starting with a SET of states S on string,\n",
      "    with EClosure wherever necessary. Return set of states reached.\n",
      "\n"
     ]
    }
   ],
   "source": [
    "help(run_nfa)"
   ]
  },
  {
   "cell_type": "code",
   "execution_count": 32,
   "metadata": {
    "run_control": {
     "frozen": false,
     "read_only": false
    }
   },
   "outputs": [
    {
     "data": {
      "text/plain": [
       "{'I', 'S0'}"
      ]
     },
     "execution_count": 32,
     "metadata": {},
     "output_type": "execute_result"
    }
   ],
   "source": [
    "run_nfa(fig71b, \"I\", \"0\")"
   ]
  },
  {
   "cell_type": "code",
   "execution_count": 33,
   "metadata": {
    "run_control": {
     "frozen": false,
     "read_only": false
    }
   },
   "outputs": [
    {
     "name": "stdout",
     "output_type": "stream",
     "text": [
      "States reached =  {'S0', 'I'}\n"
     ]
    },
    {
     "data": {
      "text/plain": [
       "{'I', 'S0'}"
      ]
     },
     "execution_count": 33,
     "metadata": {},
     "output_type": "execute_result"
    }
   ],
   "source": [
    "run_nfa(fig71b, \"I\", \"0\", chatty=True)"
   ]
  },
  {
   "cell_type": "code",
   "execution_count": 34,
   "metadata": {
    "run_control": {
     "frozen": false,
     "read_only": false
    }
   },
   "outputs": [
    {
     "data": {
      "text/plain": [
       "{'I'}"
      ]
     },
     "execution_count": 34,
     "metadata": {},
     "output_type": "execute_result"
    }
   ],
   "source": [
    "step_nfa(fig71b, \"I\", '1')"
   ]
  },
  {
   "cell_type": "code",
   "execution_count": 35,
   "metadata": {
    "run_control": {
     "frozen": false,
     "read_only": false
    }
   },
   "outputs": [
    {
     "data": {
      "text/plain": [
       "{'I', 'S0', 'S1'}"
      ]
     },
     "execution_count": 35,
     "metadata": {},
     "output_type": "execute_result"
    }
   ],
   "source": [
    "run_nfa(fig71b, \"I\", '1')"
   ]
  },
  {
   "cell_type": "code",
   "execution_count": 36,
   "metadata": {
    "run_control": {
     "frozen": false,
     "read_only": false
    }
   },
   "outputs": [
    {
     "data": {
      "text/plain": [
       "{'I', 'S0'}"
      ]
     },
     "execution_count": 36,
     "metadata": {},
     "output_type": "execute_result"
    }
   ],
   "source": [
    "run_nfa(fig71b, {\"I\"}, \"\")"
   ]
  },
  {
   "cell_type": "code",
   "execution_count": 37,
   "metadata": {
    "run_control": {
     "frozen": false,
     "read_only": false
    }
   },
   "outputs": [
    {
     "data": {
      "text/plain": [
       "{'I', 'S0'}"
      ]
     },
     "execution_count": 37,
     "metadata": {},
     "output_type": "execute_result"
    }
   ],
   "source": [
    "Eclosure(fig71b, {\"I\"})"
   ]
  },
  {
   "cell_type": "markdown",
   "metadata": {
    "run_control": {
     "frozen": false,
     "read_only": false
    }
   },
   "source": [
    "# The EClosure Function (defined on a set of states)"
   ]
  },
  {
   "cell_type": "code",
   "execution_count": 38,
   "metadata": {
    "run_control": {
     "frozen": false,
     "read_only": false
    }
   },
   "outputs": [
    {
     "data": {
      "text/plain": [
       "{'F', 'I', 'S0', 'S1'}"
      ]
     },
     "execution_count": 38,
     "metadata": {},
     "output_type": "execute_result"
    }
   ],
   "source": [
    "run_nfa(fig71b, {\"I\"}, \"0101\")"
   ]
  },
  {
   "cell_type": "code",
   "execution_count": 39,
   "metadata": {
    "run_control": {
     "frozen": false,
     "read_only": false
    }
   },
   "outputs": [
    {
     "name": "stdout",
     "output_type": "stream",
     "text": [
      "States reached =  {'S0', 'I'}\n",
      "States reached =  {'S0', 'S1', 'I'}\n",
      "States reached =  {'S2', 'S0', 'I'}\n",
      "States reached =  {'F', 'S0', 'S1', 'I'}\n"
     ]
    },
    {
     "data": {
      "text/plain": [
       "{'F', 'I', 'S0', 'S1'}"
      ]
     },
     "execution_count": 39,
     "metadata": {},
     "output_type": "execute_result"
    }
   ],
   "source": [
    "run_nfa(fig71b, {\"I\"}, \"0101\", True)"
   ]
  },
  {
   "cell_type": "code",
   "execution_count": 40,
   "metadata": {
    "run_control": {
     "frozen": false,
     "read_only": false
    }
   },
   "outputs": [],
   "source": [
    "import ipywidgets as wdg\n",
    "def run_nfa_slider(firstTime, N, s, n):\n",
    "    \"\"\"Run NFA N from N[\"Q0\"] (which is a set..) on substring s[0:n]\n",
    "    \"\"\"\n",
    "    if firstTime:\n",
    "        print(\"Eclosure of N's start state is\")\n",
    "        print(Eclosure(N, N[\"Q0\"]))\n",
    "        firstTime = False\n",
    "    S = N[\"Q0\"] \n",
    "    if (n > len(s)):\n",
    "        n = len(s)\n",
    "    print(\"string = \", s[0:n])\n",
    "    run_nfa(N, S, s[0:n], True)\n",
    "    \n",
    "def run_nfa_int(N1, N2):\n",
    "    \"\"\"Run interactively from the given NFA .. from {q0} \n",
    "       on input string's substring\n",
    "       as picked by slider.\n",
    "    \"\"\"\n",
    "    inp = input(\"Please provide string: \")\n",
    "    wdg.interact(run_nfa_slider, firstTime=True, N = {'N1': N1, 'N2': N2}, \n",
    "                 s = inp, n=(0,32) )"
   ]
  },
  {
   "cell_type": "code",
   "execution_count": 41,
   "metadata": {
    "run_control": {
     "frozen": false,
     "read_only": false
    }
   },
   "outputs": [
    {
     "name": "stdout",
     "output_type": "stream",
     "text": [
      "Eclosure of N's start state is\n",
      "{'I'}\n",
      "string =  01001\n",
      "States reached =  {'I'}\n",
      "States reached =  {'S0', 'I'}\n",
      "States reached =  {'S1', 'I'}\n",
      "States reached =  {'F', 'I'}\n",
      "States reached =  {'S0', 'I'}\n"
     ]
    }
   ],
   "source": [
    "run_nfa_int(fig71a, fig71b)"
   ]
  },
  {
   "cell_type": "code",
   "execution_count": 42,
   "metadata": {
    "run_control": {
     "frozen": false,
     "read_only": false
    }
   },
   "outputs": [
    {
     "data": {
      "image/svg+xml": [
       "<?xml version=\"1.0\" encoding=\"UTF-8\" standalone=\"no\"?>\n",
       "<!DOCTYPE svg PUBLIC \"-//W3C//DTD SVG 1.1//EN\"\n",
       " \"http://www.w3.org/Graphics/SVG/1.1/DTD/svg11.dtd\">\n",
       "<!-- Generated by graphviz version 2.38.0 (20140413.2041)\n",
       " -->\n",
       "<!-- Title: %3 Pages: 1 -->\n",
       "<svg width=\"532pt\" height=\"207pt\"\n",
       " viewBox=\"0.00 0.00 532.13 207.00\" xmlns=\"http://www.w3.org/2000/svg\" xmlns:xlink=\"http://www.w3.org/1999/xlink\">\n",
       "<g id=\"graph0\" class=\"graph\" transform=\"scale(1 1) rotate(0) translate(4 203)\">\n",
       "<title>%3</title>\n",
       "<polygon fill=\"white\" stroke=\"none\" points=\"-4,4 -4,-203 528.135,-203 528.135,4 -4,4\"/>\n",
       "<!-- EMPTY -->\n",
       "<g id=\"node1\" class=\"node\"><title>EMPTY</title>\n",
       "</g>\n",
       "<!-- I -->\n",
       "<g id=\"node8\" class=\"node\"><title>I</title>\n",
       "<ellipse fill=\"none\" stroke=\"black\" cx=\"109\" cy=\"-34\" rx=\"18\" ry=\"18\"/>\n",
       "<text text-anchor=\"middle\" x=\"109\" y=\"-29.8\" font-family=\"Times,serif\" font-size=\"14.00\">I</text>\n",
       "</g>\n",
       "<!-- EMPTY&#45;&gt;I -->\n",
       "<g id=\"edge1\" class=\"edge\"><title>EMPTY&#45;&gt;I</title>\n",
       "<path fill=\"none\" stroke=\"black\" d=\"M54.195,-34C62.6538,-34 72.0513,-34 80.5951,-34\"/>\n",
       "<polygon fill=\"black\" stroke=\"black\" points=\"80.8257,-37.5001 90.8257,-34 80.8257,-30.5001 80.8257,-37.5001\"/>\n",
       "</g>\n",
       "<!-- D -->\n",
       "<g id=\"node2\" class=\"node\"><title>D</title>\n",
       "<ellipse fill=\"none\" stroke=\"black\" cx=\"342.09\" cy=\"-81\" rx=\"18\" ry=\"18\"/>\n",
       "<text text-anchor=\"middle\" x=\"342.09\" y=\"-76.8\" font-family=\"Times,serif\" font-size=\"14.00\">D</text>\n",
       "</g>\n",
       "<!-- A -->\n",
       "<g id=\"node4\" class=\"node\"><title>A</title>\n",
       "<ellipse fill=\"none\" stroke=\"black\" cx=\"186.045\" cy=\"-104\" rx=\"18\" ry=\"18\"/>\n",
       "<text text-anchor=\"middle\" x=\"186.045\" y=\"-99.8\" font-family=\"Times,serif\" font-size=\"14.00\">A</text>\n",
       "</g>\n",
       "<!-- D&#45;&gt;A -->\n",
       "<g id=\"edge8\" class=\"edge\"><title>D&#45;&gt;A</title>\n",
       "<path fill=\"none\" stroke=\"black\" d=\"M323.939,-83.5607C297.288,-87.5399 245.709,-95.241 214.034,-99.9704\"/>\n",
       "<polygon fill=\"black\" stroke=\"black\" points=\"213.492,-96.5123 204.119,-101.451 214.526,-103.436 213.492,-96.5123\"/>\n",
       "<text text-anchor=\"middle\" x=\"263.09\" y=\"-97.8\" font-family=\"Times,serif\" font-size=\"14.00\">&#39;&#39;</text>\n",
       "</g>\n",
       "<!-- G -->\n",
       "<g id=\"node7\" class=\"node\"><title>G</title>\n",
       "<ellipse fill=\"none\" stroke=\"black\" cx=\"419.135\" cy=\"-81\" rx=\"18\" ry=\"18\"/>\n",
       "<text text-anchor=\"middle\" x=\"419.135\" y=\"-76.8\" font-family=\"Times,serif\" font-size=\"14.00\">G</text>\n",
       "</g>\n",
       "<!-- D&#45;&gt;G -->\n",
       "<g id=\"edge9\" class=\"edge\"><title>D&#45;&gt;G</title>\n",
       "<path fill=\"none\" stroke=\"black\" d=\"M360.119,-81C369.17,-81 380.516,-81 390.768,-81\"/>\n",
       "<polygon fill=\"black\" stroke=\"black\" points=\"390.914,-84.5001 400.914,-81 390.913,-77.5001 390.914,-84.5001\"/>\n",
       "<text text-anchor=\"middle\" x=\"380.612\" y=\"-83.8\" font-family=\"Times,serif\" font-size=\"14.00\">&#39;&#39;</text>\n",
       "</g>\n",
       "<!-- E -->\n",
       "<g id=\"node3\" class=\"node\"><title>E</title>\n",
       "<ellipse fill=\"none\" stroke=\"black\" cx=\"342.09\" cy=\"-154\" rx=\"18\" ry=\"18\"/>\n",
       "<text text-anchor=\"middle\" x=\"342.09\" y=\"-149.8\" font-family=\"Times,serif\" font-size=\"14.00\">E</text>\n",
       "</g>\n",
       "<!-- E&#45;&gt;A -->\n",
       "<g id=\"edge10\" class=\"edge\"><title>E&#45;&gt;A</title>\n",
       "<path fill=\"none\" stroke=\"black\" d=\"M327.141,-164.032C307.909,-176.53 272.516,-194.671 245.09,-181 223.726,-170.351 208.153,-147.675 198.548,-129.675\"/>\n",
       "<polygon fill=\"black\" stroke=\"black\" points=\"201.438,-127.631 193.827,-120.261 195.181,-130.769 201.438,-127.631\"/>\n",
       "<text text-anchor=\"middle\" x=\"263.09\" y=\"-187.8\" font-family=\"Times,serif\" font-size=\"14.00\">&#39;&#39;</text>\n",
       "</g>\n",
       "<!-- E&#45;&gt;G -->\n",
       "<g id=\"edge11\" class=\"edge\"><title>E&#45;&gt;G</title>\n",
       "<path fill=\"none\" stroke=\"black\" d=\"M355.482,-141.946C367.105,-130.639 384.683,-113.54 398.265,-100.329\"/>\n",
       "<polygon fill=\"black\" stroke=\"black\" points=\"400.997,-102.554 405.724,-93.0724 396.116,-97.5363 400.997,-102.554\"/>\n",
       "<text text-anchor=\"middle\" x=\"380.612\" y=\"-121.8\" font-family=\"Times,serif\" font-size=\"14.00\">&#39;&#39;</text>\n",
       "</g>\n",
       "<!-- B -->\n",
       "<g id=\"node5\" class=\"node\"><title>B</title>\n",
       "<ellipse fill=\"none\" stroke=\"black\" cx=\"263.09\" cy=\"-50\" rx=\"18\" ry=\"18\"/>\n",
       "<text text-anchor=\"middle\" x=\"263.09\" y=\"-45.8\" font-family=\"Times,serif\" font-size=\"14.00\">B</text>\n",
       "</g>\n",
       "<!-- A&#45;&gt;B -->\n",
       "<g id=\"edge5\" class=\"edge\"><title>A&#45;&gt;B</title>\n",
       "<path fill=\"none\" stroke=\"black\" d=\"M200.432,-92.7776C206.854,-87.528 214.726,-81.2837 222.045,-76 227.426,-72.1154 233.358,-68.1176 238.97,-64.4572\"/>\n",
       "<polygon fill=\"black\" stroke=\"black\" points=\"240.874,-67.394 247.4,-59.0479 237.093,-61.5025 240.874,-67.394\"/>\n",
       "<text text-anchor=\"middle\" x=\"224.567\" y=\"-78.8\" font-family=\"Times,serif\" font-size=\"14.00\">&#39;&#39;</text>\n",
       "</g>\n",
       "<!-- C -->\n",
       "<g id=\"node6\" class=\"node\"><title>C</title>\n",
       "<ellipse fill=\"none\" stroke=\"black\" cx=\"263.09\" cy=\"-154\" rx=\"18\" ry=\"18\"/>\n",
       "<text text-anchor=\"middle\" x=\"263.09\" y=\"-149.8\" font-family=\"Times,serif\" font-size=\"14.00\">C</text>\n",
       "</g>\n",
       "<!-- A&#45;&gt;C -->\n",
       "<g id=\"edge4\" class=\"edge\"><title>A&#45;&gt;C</title>\n",
       "<path fill=\"none\" stroke=\"black\" d=\"M201.514,-113.641C212.208,-120.765 226.979,-130.607 239.258,-138.788\"/>\n",
       "<polygon fill=\"black\" stroke=\"black\" points=\"237.402,-141.757 247.665,-144.389 241.283,-135.932 237.402,-141.757\"/>\n",
       "<text text-anchor=\"middle\" x=\"224.567\" y=\"-132.8\" font-family=\"Times,serif\" font-size=\"14.00\">&#39;&#39;</text>\n",
       "</g>\n",
       "<!-- B&#45;&gt;D -->\n",
       "<g id=\"edge6\" class=\"edge\"><title>B&#45;&gt;D</title>\n",
       "<path fill=\"none\" stroke=\"black\" d=\"M280.044,-56.4232C290.369,-60.5798 304.033,-66.0809 315.815,-70.8246\"/>\n",
       "<polygon fill=\"black\" stroke=\"black\" points=\"314.572,-74.097 325.156,-74.585 317.187,-67.6035 314.572,-74.097\"/>\n",
       "<text text-anchor=\"middle\" x=\"302.59\" y=\"-68.8\" font-family=\"Times,serif\" font-size=\"14.00\">1</text>\n",
       "</g>\n",
       "<!-- C&#45;&gt;E -->\n",
       "<g id=\"edge7\" class=\"edge\"><title>C&#45;&gt;E</title>\n",
       "<path fill=\"none\" stroke=\"black\" d=\"M281.179,-154C290.749,-154 302.907,-154 313.766,-154\"/>\n",
       "<polygon fill=\"black\" stroke=\"black\" points=\"314.049,-157.5 324.049,-154 314.049,-150.5 314.049,-157.5\"/>\n",
       "<text text-anchor=\"middle\" x=\"302.59\" y=\"-156.8\" font-family=\"Times,serif\" font-size=\"14.00\">0</text>\n",
       "</g>\n",
       "<!-- F -->\n",
       "<g id=\"node9\" class=\"node\"><title>F</title>\n",
       "<ellipse fill=\"none\" stroke=\"black\" cx=\"502.135\" cy=\"-81\" rx=\"18\" ry=\"18\"/>\n",
       "<ellipse fill=\"none\" stroke=\"black\" cx=\"502.135\" cy=\"-81\" rx=\"22\" ry=\"22\"/>\n",
       "<text text-anchor=\"middle\" x=\"502.135\" y=\"-76.8\" font-family=\"Times,serif\" font-size=\"14.00\">F</text>\n",
       "</g>\n",
       "<!-- G&#45;&gt;F -->\n",
       "<g id=\"edge12\" class=\"edge\"><title>G&#45;&gt;F</title>\n",
       "<path fill=\"none\" stroke=\"black\" d=\"M437.313,-81C446.744,-81 458.736,-81 469.772,-81\"/>\n",
       "<polygon fill=\"black\" stroke=\"black\" points=\"469.946,-84.5001 479.946,-81 469.946,-77.5001 469.946,-84.5001\"/>\n",
       "<text text-anchor=\"middle\" x=\"458.635\" y=\"-83.8\" font-family=\"Times,serif\" font-size=\"14.00\">1</text>\n",
       "</g>\n",
       "<!-- I&#45;&gt;A -->\n",
       "<g id=\"edge2\" class=\"edge\"><title>I&#45;&gt;A</title>\n",
       "<path fill=\"none\" stroke=\"black\" d=\"M122.73,-45.8745C134.266,-56.6348 151.461,-72.6735 164.868,-85.179\"/>\n",
       "<polygon fill=\"black\" stroke=\"black\" points=\"162.552,-87.8056 172.252,-92.0672 167.327,-82.6868 162.552,-87.8056\"/>\n",
       "<text text-anchor=\"middle\" x=\"147.522\" y=\"-73.8\" font-family=\"Times,serif\" font-size=\"14.00\">&#39;&#39;</text>\n",
       "</g>\n",
       "<!-- I&#45;&gt;G -->\n",
       "<g id=\"edge3\" class=\"edge\"><title>I&#45;&gt;G</title>\n",
       "<path fill=\"none\" stroke=\"black\" d=\"M123.82,-23.4286C138.271,-13.4478 162.016,-0 185.045,-0 185.045,-0 185.045,-0 343.09,-0 373.755,-0 395.398,-31.6252 407.321,-55.3537\"/>\n",
       "<polygon fill=\"black\" stroke=\"black\" points=\"404.257,-57.0622 411.694,-64.6084 410.587,-54.0717 404.257,-57.0622\"/>\n",
       "<text text-anchor=\"middle\" x=\"263.09\" y=\"-2.8\" font-family=\"Times,serif\" font-size=\"14.00\">&#39;&#39;</text>\n",
       "</g>\n",
       "</g>\n",
       "</svg>\n"
      ],
      "text/plain": [
       "<graphviz.dot.Digraph at 0x10751f630>"
      ]
     },
     "execution_count": 42,
     "metadata": {},
     "output_type": "execute_result"
    }
   ],
   "source": [
    "fig74a = md2mc('''\n",
    "NFA\n",
    "I : '' -> A, G\n",
    "A : '' -> B, C\n",
    "B : 1  -> D\n",
    "C : 0  -> E\n",
    "D : '' -> A, G\n",
    "E : '' -> A, G\n",
    "G : 1  -> F\n",
    "''')\n",
    "dotObj_nfa(fig74a)"
   ]
  },
  {
   "cell_type": "code",
   "execution_count": 43,
   "metadata": {
    "run_control": {
     "frozen": false,
     "read_only": false
    }
   },
   "outputs": [
    {
     "name": "stdout",
     "output_type": "stream",
     "text": [
      "Eclosure of N's start state is\n",
      "{'A', 'B', 'C', 'G', 'I'}\n",
      "string =  01000\n",
      "States reached =  {'E', 'A', 'B', 'C', 'G'}\n",
      "States reached =  {'D', 'F', 'A', 'B', 'C', 'G'}\n",
      "States reached =  {'E', 'A', 'B', 'C', 'G'}\n",
      "States reached =  {'E', 'A', 'B', 'C', 'G'}\n",
      "States reached =  {'E', 'A', 'B', 'C', 'G'}\n"
     ]
    }
   ],
   "source": [
    "run_nfa_int(fig74a, fig71b)"
   ]
  },
  {
   "cell_type": "markdown",
   "metadata": {
    "run_control": {
     "frozen": false,
     "read_only": false
    }
   },
   "source": [
    "# DFA to NFA conversion (!)\n",
    "\n",
    "This is a useful helper and helps understand the theory, but not widely used.\n",
    "Its main use is within \"NFA2RE\". Suppose you want to convert a DFA to an RE? \n",
    "Then use dfa2nfa and then NFA2RE :-)"
   ]
  },
  {
   "cell_type": "code",
   "execution_count": 44,
   "metadata": {
    "run_control": {
     "frozen": false,
     "read_only": false
    }
   },
   "outputs": [],
   "source": [
    "def dfa2nfa(D):\n",
    "    \"\"\"Given a DFA D, make a language-equivalent NFA.\n",
    "    \"\"\"\n",
    "    assert(\n",
    "    is_partially_consistent_dfa(D)\n",
    "    ), \"DFA given to dfa2nfa is not part. consist.\"\n",
    "    return { \"Q\"     : D[\"Q\"],\n",
    "             \"Sigma\" : D[\"Sigma\"],\n",
    "             \"Delta\" : dict((a,{b}) for (a,b) in D[\"Delta\"].items()),\n",
    "             \"Q0\"    : { D[\"q0\"] },\n",
    "             \"F\"     : D[\"F\"] }  "
   ]
  },
  {
   "cell_type": "markdown",
   "metadata": {
    "run_control": {
     "frozen": false,
     "read_only": false
    }
   },
   "source": [
    "# NFA to DFA conversion\n",
    "\n",
    "\n",
    "* Input: An NFA, N\n",
    "\n",
    "* Output: A language-equivalent DFA, D\n",
    "\n",
    "* Method: Subset Construction\n",
    "\n",
    "  - Data structure to maintain : \n",
    "  \n",
    "    * A set called \"Unexpanded\" (UNEXP for short), which holds SETS of states of the given NFA, N\n",
    "    \n",
    "    * These serve as the states of the DFA (D) being built\n",
    "    \n",
    "      - Note that UNEXP is a set of state-sets (set of 'set-of-states' if you will)\n",
    "\n",
    "> * Let INIT = D[\"q0\"] (DFA's initial state) =  Eclosure of N[\"Q0\"]  \n",
    "\n",
    "> * Add INIT to UNEXP\n",
    "\n",
    "---\n",
    "  \n",
    "> WHILE (UNEXP $\\neq \\emptyset$) DO\n",
    "\n",
    "> > Choose a state S from UNEXP\n",
    "\n",
    "> > Delete S from UNEXP\n",
    "\n",
    "> > Expand(S)   --   Expand(S) will add all the 'c' moves out of S where c $\\in \\Sigma$\n",
    "\n",
    "> END WHILE \n",
    "\n",
    "** Expand(S): **\n",
    "\n",
    "> For each symbol $c$ in $\\Sigma$\n",
    "\n",
    "> > For each state s ∈ S do  --  Recall that S is a set of states\n",
    "\n",
    "> > > Let $NS_c$ = $\\delta(s,c)$ --  Find the next __set of states__ the NFA can be, starting from s, moving on c \n",
    "\n",
    "> > > Let $NSE_c$ = Eclose($NS_c$)   --  Eclose $NS_c$ which means Eclose every state in $NS_c$ and union them\n",
    "\n",
    "> > > Introduce a transition in D from S to $NSE_c$\n",
    "\n",
    "> > If $NSE_c$ does not exist in the DFA D, add it to UNEXP\n",
    "\n",
    "** Eclose(S): **\n",
    "\n",
    "> For each state $x \\in S$:\n",
    "\n",
    "> > Move $x$ through $\\varepsilon$, obtaining a set of next state $S_x$\n",
    "\n",
    "> Union these $S_x$ and return that union"
   ]
  },
  {
   "cell_type": "markdown",
   "metadata": {
    "run_control": {
     "frozen": false,
     "read_only": false
    }
   },
   "source": [
    "# The Actual NFA 2 DFA Conversion Code"
   ]
  },
  {
   "cell_type": "code",
   "execution_count": 45,
   "metadata": {
    "run_control": {
     "frozen": false,
     "read_only": false
    }
   },
   "outputs": [],
   "source": [
    "def nfa2dfa(N):\n",
    "    \"\"\"In : N (consistent NFA)\n",
    "       Out: A consistent DFA that is language-equivalent to N.\n",
    "    \"\"\"\n",
    "    assert(\n",
    "        is_consistent_nfa(N)\n",
    "    ), \"nfa2dfa was given an inconsistent NFA.\"\n",
    "    # EClose the starting state of the NFA\n",
    "    EC = Eclosure(N, N[\"Q0\"])\n",
    "    return n2d(Frontier=[EC], Visited=[EC], Delta=dict({}), Nfa=N)\n",
    "\n",
    "\n",
    "def n2d(Frontier, Visited, Delta, Nfa):\n",
    "    \"\"\"Helper for nfa2dfa.\n",
    "       ---\n",
    "       In : Frontier (list of state sets; initially Eclosed Q0)\n",
    "            Visited  (list of visited state sets; initially Eclosed Q0)\n",
    "            Delta    (the DFA transition function being formed)\n",
    "            Nfa      (the NFA being converted)\n",
    "       Helper to nfa2dfa. Given a (BFS) frontier, a Visited\n",
    "       set of states, the Delta being formed, and NFA Nfa, see\n",
    "       if all new moves are in Visited:\n",
    "         do last gasp of Delta update; make and return a DFA;\n",
    "       else: extend Frontier, Visited, Delta; recurse.\n",
    "    \"\"\"\n",
    "    All_c_Moves = [ ((Q,c),ec_step_nfa(Nfa,Q,c)) \n",
    "                   for Q in Frontier \n",
    "                   for c in Nfa[\"Sigma\"] ]\n",
    "    New_c_Moves = list(filter(lambda QcQ: trTrg(QcQ) not in Visited, \n",
    "                              All_c_Moves))  \n",
    "    if New_c_Moves == []:\n",
    "        # Add last-gasp c-moves that curl back!\n",
    "        last_gasp_c_moves = dict([ ((mkSSnam(Qfrom),c),mkSSnam(Qto)) \n",
    "                                  for ((Qfrom, c), Qto) in All_c_Moves ])\n",
    "        Delta.update(last_gasp_c_moves)\n",
    "                  \n",
    "        # DFA states are visited states\n",
    "        DFA_Q = { mkSSnam(Q) for Q in Visited }\n",
    "                  \n",
    "        # Retain alphabet\n",
    "        DFA_Sigma = Nfa[\"Sigma\"]\n",
    "                  \n",
    "        # Delta is ready to go\n",
    "        DFA_Delta = Delta\n",
    "                  \n",
    "        # DFA starts at Eclosure of Nfa's Q0 set of states\n",
    "        DFA_q0 = mkSSnam(Eclosure(Nfa, Nfa[\"Q0\"]))\n",
    "                  \n",
    "        # DFA's final states are those in visited that contain an NFA \n",
    "        # F-state but don't retain any empty sets, in case the NFA given \n",
    "        # has no F-states!\n",
    "        # This is another corner-case (i.e. don't shove-in black hole \n",
    "        # states!)\n",
    "        DFA_F = set(map(lambda Q: mkSSnam(Q), \n",
    "                        filter(lambda Q: (Nfa[\"F\"]&Q) != set({}), \n",
    "                               Visited)))\n",
    "                  \n",
    "        # Make the DFA; send it to the DFA-shrink to bask ugly long \n",
    "        # state names...\n",
    "        return shrink_dfastates(mk_dfa(DFA_Q, \n",
    "                                       DFA_Sigma, \n",
    "                                       DFA_Delta, \n",
    "                                       DFA_q0, \n",
    "                                       DFA_F))\n",
    "    else:\n",
    "        newFrontier = list(map(lambda QcQ: trTrg(QcQ), New_c_Moves)) \n",
    "        newVisited = Visited + newFrontier\n",
    "                  \n",
    "        # Even though the NFA has not closed back on itself, we MUST \n",
    "        # accommodate for the \"curl-backs\" along the way !!  Thus, run it\n",
    "        # over All_c_Moves which may include \"partial revisits along the \n",
    "        # way\". We MUST pick up those curl-backs!\n",
    "        NewMovesDelta = dict([ ((mkSSnam(Qfrom),c),mkSSnam(Qto)) \n",
    "                              for ((Qfrom, c), Qto) in All_c_Moves ]) \n",
    "        Delta.update(NewMovesDelta)\n",
    "        return n2d(newFrontier, newVisited, Delta, Nfa)\n",
    "                                  \n",
    "#---NFA to DFA"
   ]
  },
  {
   "cell_type": "code",
   "execution_count": 46,
   "metadata": {
    "run_control": {
     "frozen": false,
     "read_only": false
    }
   },
   "outputs": [
    {
     "data": {
      "image/svg+xml": [
       "<?xml version=\"1.0\" encoding=\"UTF-8\" standalone=\"no\"?>\n",
       "<!DOCTYPE svg PUBLIC \"-//W3C//DTD SVG 1.1//EN\"\n",
       " \"http://www.w3.org/Graphics/SVG/1.1/DTD/svg11.dtd\">\n",
       "<!-- Generated by graphviz version 2.38.0 (20140413.2041)\n",
       " -->\n",
       "<!-- Title: %3 Pages: 1 -->\n",
       "<svg width=\"532pt\" height=\"207pt\"\n",
       " viewBox=\"0.00 0.00 532.13 207.00\" xmlns=\"http://www.w3.org/2000/svg\" xmlns:xlink=\"http://www.w3.org/1999/xlink\">\n",
       "<g id=\"graph0\" class=\"graph\" transform=\"scale(1 1) rotate(0) translate(4 203)\">\n",
       "<title>%3</title>\n",
       "<polygon fill=\"white\" stroke=\"none\" points=\"-4,4 -4,-203 528.135,-203 528.135,4 -4,4\"/>\n",
       "<!-- EMPTY -->\n",
       "<g id=\"node1\" class=\"node\"><title>EMPTY</title>\n",
       "</g>\n",
       "<!-- I -->\n",
       "<g id=\"node8\" class=\"node\"><title>I</title>\n",
       "<ellipse fill=\"none\" stroke=\"black\" cx=\"109\" cy=\"-34\" rx=\"18\" ry=\"18\"/>\n",
       "<text text-anchor=\"middle\" x=\"109\" y=\"-29.8\" font-family=\"Times,serif\" font-size=\"14.00\">I</text>\n",
       "</g>\n",
       "<!-- EMPTY&#45;&gt;I -->\n",
       "<g id=\"edge1\" class=\"edge\"><title>EMPTY&#45;&gt;I</title>\n",
       "<path fill=\"none\" stroke=\"black\" d=\"M54.195,-34C62.6538,-34 72.0513,-34 80.5951,-34\"/>\n",
       "<polygon fill=\"black\" stroke=\"black\" points=\"80.8257,-37.5001 90.8257,-34 80.8257,-30.5001 80.8257,-37.5001\"/>\n",
       "</g>\n",
       "<!-- D -->\n",
       "<g id=\"node2\" class=\"node\"><title>D</title>\n",
       "<ellipse fill=\"none\" stroke=\"black\" cx=\"342.09\" cy=\"-81\" rx=\"18\" ry=\"18\"/>\n",
       "<text text-anchor=\"middle\" x=\"342.09\" y=\"-76.8\" font-family=\"Times,serif\" font-size=\"14.00\">D</text>\n",
       "</g>\n",
       "<!-- A -->\n",
       "<g id=\"node4\" class=\"node\"><title>A</title>\n",
       "<ellipse fill=\"none\" stroke=\"black\" cx=\"186.045\" cy=\"-104\" rx=\"18\" ry=\"18\"/>\n",
       "<text text-anchor=\"middle\" x=\"186.045\" y=\"-99.8\" font-family=\"Times,serif\" font-size=\"14.00\">A</text>\n",
       "</g>\n",
       "<!-- D&#45;&gt;A -->\n",
       "<g id=\"edge8\" class=\"edge\"><title>D&#45;&gt;A</title>\n",
       "<path fill=\"none\" stroke=\"black\" d=\"M323.939,-83.5607C297.288,-87.5399 245.709,-95.241 214.034,-99.9704\"/>\n",
       "<polygon fill=\"black\" stroke=\"black\" points=\"213.492,-96.5123 204.119,-101.451 214.526,-103.436 213.492,-96.5123\"/>\n",
       "<text text-anchor=\"middle\" x=\"263.09\" y=\"-97.8\" font-family=\"Times,serif\" font-size=\"14.00\">&#39;&#39;</text>\n",
       "</g>\n",
       "<!-- G -->\n",
       "<g id=\"node7\" class=\"node\"><title>G</title>\n",
       "<ellipse fill=\"none\" stroke=\"black\" cx=\"419.135\" cy=\"-81\" rx=\"18\" ry=\"18\"/>\n",
       "<text text-anchor=\"middle\" x=\"419.135\" y=\"-76.8\" font-family=\"Times,serif\" font-size=\"14.00\">G</text>\n",
       "</g>\n",
       "<!-- D&#45;&gt;G -->\n",
       "<g id=\"edge9\" class=\"edge\"><title>D&#45;&gt;G</title>\n",
       "<path fill=\"none\" stroke=\"black\" d=\"M360.119,-81C369.17,-81 380.516,-81 390.768,-81\"/>\n",
       "<polygon fill=\"black\" stroke=\"black\" points=\"390.914,-84.5001 400.914,-81 390.913,-77.5001 390.914,-84.5001\"/>\n",
       "<text text-anchor=\"middle\" x=\"380.612\" y=\"-83.8\" font-family=\"Times,serif\" font-size=\"14.00\">&#39;&#39;</text>\n",
       "</g>\n",
       "<!-- E -->\n",
       "<g id=\"node3\" class=\"node\"><title>E</title>\n",
       "<ellipse fill=\"none\" stroke=\"black\" cx=\"342.09\" cy=\"-154\" rx=\"18\" ry=\"18\"/>\n",
       "<text text-anchor=\"middle\" x=\"342.09\" y=\"-149.8\" font-family=\"Times,serif\" font-size=\"14.00\">E</text>\n",
       "</g>\n",
       "<!-- E&#45;&gt;A -->\n",
       "<g id=\"edge10\" class=\"edge\"><title>E&#45;&gt;A</title>\n",
       "<path fill=\"none\" stroke=\"black\" d=\"M327.141,-164.032C307.909,-176.53 272.516,-194.671 245.09,-181 223.726,-170.351 208.153,-147.675 198.548,-129.675\"/>\n",
       "<polygon fill=\"black\" stroke=\"black\" points=\"201.438,-127.631 193.827,-120.261 195.181,-130.769 201.438,-127.631\"/>\n",
       "<text text-anchor=\"middle\" x=\"263.09\" y=\"-187.8\" font-family=\"Times,serif\" font-size=\"14.00\">&#39;&#39;</text>\n",
       "</g>\n",
       "<!-- E&#45;&gt;G -->\n",
       "<g id=\"edge11\" class=\"edge\"><title>E&#45;&gt;G</title>\n",
       "<path fill=\"none\" stroke=\"black\" d=\"M355.482,-141.946C367.105,-130.639 384.683,-113.54 398.265,-100.329\"/>\n",
       "<polygon fill=\"black\" stroke=\"black\" points=\"400.997,-102.554 405.724,-93.0724 396.116,-97.5363 400.997,-102.554\"/>\n",
       "<text text-anchor=\"middle\" x=\"380.612\" y=\"-121.8\" font-family=\"Times,serif\" font-size=\"14.00\">&#39;&#39;</text>\n",
       "</g>\n",
       "<!-- B -->\n",
       "<g id=\"node5\" class=\"node\"><title>B</title>\n",
       "<ellipse fill=\"none\" stroke=\"black\" cx=\"263.09\" cy=\"-50\" rx=\"18\" ry=\"18\"/>\n",
       "<text text-anchor=\"middle\" x=\"263.09\" y=\"-45.8\" font-family=\"Times,serif\" font-size=\"14.00\">B</text>\n",
       "</g>\n",
       "<!-- A&#45;&gt;B -->\n",
       "<g id=\"edge5\" class=\"edge\"><title>A&#45;&gt;B</title>\n",
       "<path fill=\"none\" stroke=\"black\" d=\"M200.432,-92.7776C206.854,-87.528 214.726,-81.2837 222.045,-76 227.426,-72.1154 233.358,-68.1176 238.97,-64.4572\"/>\n",
       "<polygon fill=\"black\" stroke=\"black\" points=\"240.874,-67.394 247.4,-59.0479 237.093,-61.5025 240.874,-67.394\"/>\n",
       "<text text-anchor=\"middle\" x=\"224.567\" y=\"-78.8\" font-family=\"Times,serif\" font-size=\"14.00\">&#39;&#39;</text>\n",
       "</g>\n",
       "<!-- C -->\n",
       "<g id=\"node6\" class=\"node\"><title>C</title>\n",
       "<ellipse fill=\"none\" stroke=\"black\" cx=\"263.09\" cy=\"-154\" rx=\"18\" ry=\"18\"/>\n",
       "<text text-anchor=\"middle\" x=\"263.09\" y=\"-149.8\" font-family=\"Times,serif\" font-size=\"14.00\">C</text>\n",
       "</g>\n",
       "<!-- A&#45;&gt;C -->\n",
       "<g id=\"edge4\" class=\"edge\"><title>A&#45;&gt;C</title>\n",
       "<path fill=\"none\" stroke=\"black\" d=\"M201.514,-113.641C212.208,-120.765 226.979,-130.607 239.258,-138.788\"/>\n",
       "<polygon fill=\"black\" stroke=\"black\" points=\"237.402,-141.757 247.665,-144.389 241.283,-135.932 237.402,-141.757\"/>\n",
       "<text text-anchor=\"middle\" x=\"224.567\" y=\"-132.8\" font-family=\"Times,serif\" font-size=\"14.00\">&#39;&#39;</text>\n",
       "</g>\n",
       "<!-- B&#45;&gt;D -->\n",
       "<g id=\"edge6\" class=\"edge\"><title>B&#45;&gt;D</title>\n",
       "<path fill=\"none\" stroke=\"black\" d=\"M280.044,-56.4232C290.369,-60.5798 304.033,-66.0809 315.815,-70.8246\"/>\n",
       "<polygon fill=\"black\" stroke=\"black\" points=\"314.572,-74.097 325.156,-74.585 317.187,-67.6035 314.572,-74.097\"/>\n",
       "<text text-anchor=\"middle\" x=\"302.59\" y=\"-68.8\" font-family=\"Times,serif\" font-size=\"14.00\">1</text>\n",
       "</g>\n",
       "<!-- C&#45;&gt;E -->\n",
       "<g id=\"edge7\" class=\"edge\"><title>C&#45;&gt;E</title>\n",
       "<path fill=\"none\" stroke=\"black\" d=\"M281.179,-154C290.749,-154 302.907,-154 313.766,-154\"/>\n",
       "<polygon fill=\"black\" stroke=\"black\" points=\"314.049,-157.5 324.049,-154 314.049,-150.5 314.049,-157.5\"/>\n",
       "<text text-anchor=\"middle\" x=\"302.59\" y=\"-156.8\" font-family=\"Times,serif\" font-size=\"14.00\">0</text>\n",
       "</g>\n",
       "<!-- F -->\n",
       "<g id=\"node9\" class=\"node\"><title>F</title>\n",
       "<ellipse fill=\"none\" stroke=\"black\" cx=\"502.135\" cy=\"-81\" rx=\"18\" ry=\"18\"/>\n",
       "<ellipse fill=\"none\" stroke=\"black\" cx=\"502.135\" cy=\"-81\" rx=\"22\" ry=\"22\"/>\n",
       "<text text-anchor=\"middle\" x=\"502.135\" y=\"-76.8\" font-family=\"Times,serif\" font-size=\"14.00\">F</text>\n",
       "</g>\n",
       "<!-- G&#45;&gt;F -->\n",
       "<g id=\"edge12\" class=\"edge\"><title>G&#45;&gt;F</title>\n",
       "<path fill=\"none\" stroke=\"black\" d=\"M437.313,-81C446.744,-81 458.736,-81 469.772,-81\"/>\n",
       "<polygon fill=\"black\" stroke=\"black\" points=\"469.946,-84.5001 479.946,-81 469.946,-77.5001 469.946,-84.5001\"/>\n",
       "<text text-anchor=\"middle\" x=\"458.635\" y=\"-83.8\" font-family=\"Times,serif\" font-size=\"14.00\">1</text>\n",
       "</g>\n",
       "<!-- I&#45;&gt;A -->\n",
       "<g id=\"edge2\" class=\"edge\"><title>I&#45;&gt;A</title>\n",
       "<path fill=\"none\" stroke=\"black\" d=\"M122.73,-45.8745C134.266,-56.6348 151.461,-72.6735 164.868,-85.179\"/>\n",
       "<polygon fill=\"black\" stroke=\"black\" points=\"162.552,-87.8056 172.252,-92.0672 167.327,-82.6868 162.552,-87.8056\"/>\n",
       "<text text-anchor=\"middle\" x=\"147.522\" y=\"-73.8\" font-family=\"Times,serif\" font-size=\"14.00\">&#39;&#39;</text>\n",
       "</g>\n",
       "<!-- I&#45;&gt;G -->\n",
       "<g id=\"edge3\" class=\"edge\"><title>I&#45;&gt;G</title>\n",
       "<path fill=\"none\" stroke=\"black\" d=\"M123.82,-23.4286C138.271,-13.4478 162.016,-0 185.045,-0 185.045,-0 185.045,-0 343.09,-0 373.755,-0 395.398,-31.6252 407.321,-55.3537\"/>\n",
       "<polygon fill=\"black\" stroke=\"black\" points=\"404.257,-57.0622 411.694,-64.6084 410.587,-54.0717 404.257,-57.0622\"/>\n",
       "<text text-anchor=\"middle\" x=\"263.09\" y=\"-2.8\" font-family=\"Times,serif\" font-size=\"14.00\">&#39;&#39;</text>\n",
       "</g>\n",
       "</g>\n",
       "</svg>\n"
      ],
      "text/plain": [
       "<graphviz.dot.Digraph at 0x107528b38>"
      ]
     },
     "execution_count": 46,
     "metadata": {},
     "output_type": "execute_result"
    }
   ],
   "source": [
    "fig74a = md2mc('''\n",
    "NFA\n",
    "I : '' -> A, G\n",
    "A : '' -> B, C\n",
    "B : 1  -> D\n",
    "C : 0  -> E\n",
    "D : '' -> A, G\n",
    "E : '' -> A, G\n",
    "G : 1  -> F\n",
    "''')\n",
    "dotObj_nfa(fig74a)"
   ]
  },
  {
   "cell_type": "code",
   "execution_count": 47,
   "metadata": {
    "run_control": {
     "frozen": false,
     "read_only": false
    }
   },
   "outputs": [
    {
     "data": {
      "image/svg+xml": [
       "<?xml version=\"1.0\" encoding=\"UTF-8\" standalone=\"no\"?>\n",
       "<!DOCTYPE svg PUBLIC \"-//W3C//DTD SVG 1.1//EN\"\n",
       " \"http://www.w3.org/Graphics/SVG/1.1/DTD/svg11.dtd\">\n",
       "<!-- Generated by graphviz version 2.38.0 (20140413.2041)\n",
       " -->\n",
       "<!-- Title: %3 Pages: 1 -->\n",
       "<svg width=\"324pt\" height=\"117pt\"\n",
       " viewBox=\"0.00 0.00 324.42 116.81\" xmlns=\"http://www.w3.org/2000/svg\" xmlns:xlink=\"http://www.w3.org/1999/xlink\">\n",
       "<g id=\"graph0\" class=\"graph\" transform=\"scale(1 1) rotate(0) translate(4 112.808)\">\n",
       "<title>%3</title>\n",
       "<polygon fill=\"white\" stroke=\"none\" points=\"-4,4 -4,-112.808 320.423,-112.808 320.423,4 -4,4\"/>\n",
       "<!-- EMPTY -->\n",
       "<g id=\"node1\" class=\"node\"><title>EMPTY</title>\n",
       "</g>\n",
       "<!-- St0 -->\n",
       "<g id=\"node3\" class=\"node\"><title>St0</title>\n",
       "<ellipse fill=\"none\" stroke=\"black\" cx=\"112.904\" cy=\"-21.9039\" rx=\"21.8081\" ry=\"21.8081\"/>\n",
       "<text text-anchor=\"middle\" x=\"112.904\" y=\"-17.7039\" font-family=\"Times,serif\" font-size=\"14.00\">St0</text>\n",
       "</g>\n",
       "<!-- EMPTY&#45;&gt;St0 -->\n",
       "<g id=\"edge1\" class=\"edge\"><title>EMPTY&#45;&gt;St0</title>\n",
       "<path fill=\"none\" stroke=\"black\" d=\"M54.0878,-21.9039C62.501,-21.9039 71.9126,-21.9039 80.6587,-21.9039\"/>\n",
       "<polygon fill=\"black\" stroke=\"black\" points=\"80.8854,-25.404 90.8853,-21.9039 80.8853,-18.404 80.8854,-25.404\"/>\n",
       "</g>\n",
       "<!-- St2 -->\n",
       "<g id=\"node2\" class=\"node\"><title>St2</title>\n",
       "<ellipse fill=\"none\" stroke=\"black\" cx=\"199.712\" cy=\"-54.9039\" rx=\"21.8081\" ry=\"21.8081\"/>\n",
       "<text text-anchor=\"middle\" x=\"199.712\" y=\"-50.7039\" font-family=\"Times,serif\" font-size=\"14.00\">St2</text>\n",
       "</g>\n",
       "<!-- St2&#45;&gt;St2 -->\n",
       "<g id=\"edge7\" class=\"edge\"><title>St2&#45;&gt;St2</title>\n",
       "<path fill=\"none\" stroke=\"black\" d=\"M192.069,-75.4352C191.012,-85.6745 193.559,-94.8077 199.712,-94.8077 203.653,-94.8077 206.115,-91.0594 207.097,-85.6733\"/>\n",
       "<polygon fill=\"black\" stroke=\"black\" points=\"210.602,-85.5198 207.354,-75.4352 203.604,-85.3443 210.602,-85.5198\"/>\n",
       "<text text-anchor=\"middle\" x=\"199.712\" y=\"-97.6077\" font-family=\"Times,serif\" font-size=\"14.00\">0</text>\n",
       "</g>\n",
       "<!-- St1 -->\n",
       "<g id=\"node4\" class=\"node\"><title>St1</title>\n",
       "<ellipse fill=\"none\" stroke=\"black\" cx=\"290.519\" cy=\"-33.9039\" rx=\"21.8229\" ry=\"21.8229\"/>\n",
       "<ellipse fill=\"none\" stroke=\"black\" cx=\"290.519\" cy=\"-33.9039\" rx=\"25.8081\" ry=\"25.8081\"/>\n",
       "<text text-anchor=\"middle\" x=\"290.519\" y=\"-29.7039\" font-family=\"Times,serif\" font-size=\"14.00\">St1</text>\n",
       "</g>\n",
       "<!-- St2&#45;&gt;St1 -->\n",
       "<g id=\"edge6\" class=\"edge\"><title>St2&#45;&gt;St1</title>\n",
       "<path fill=\"none\" stroke=\"black\" d=\"M221.901,-53.0587C229.732,-52.1352 238.639,-50.798 246.615,-48.9039 249.84,-48.1382 253.161,-47.2199 256.461,-46.2199\"/>\n",
       "<polygon fill=\"black\" stroke=\"black\" points=\"257.757,-49.4783 266.175,-43.0448 255.583,-42.8247 257.757,-49.4783\"/>\n",
       "<text text-anchor=\"middle\" x=\"243.115\" y=\"-53.7039\" font-family=\"Times,serif\" font-size=\"14.00\">1</text>\n",
       "</g>\n",
       "<!-- St0&#45;&gt;St2 -->\n",
       "<g id=\"edge3\" class=\"edge\"><title>St0&#45;&gt;St2</title>\n",
       "<path fill=\"none\" stroke=\"black\" d=\"M133.574,-29.5577C144.277,-33.7227 157.725,-38.9554 169.618,-43.5832\"/>\n",
       "<polygon fill=\"black\" stroke=\"black\" points=\"168.56,-46.927 179.149,-47.2916 171.098,-40.4034 168.56,-46.927\"/>\n",
       "<text text-anchor=\"middle\" x=\"156.308\" y=\"-42.7039\" font-family=\"Times,serif\" font-size=\"14.00\">0</text>\n",
       "</g>\n",
       "<!-- St0&#45;&gt;St1 -->\n",
       "<g id=\"edge2\" class=\"edge\"><title>St0&#45;&gt;St1</title>\n",
       "<path fill=\"none\" stroke=\"black\" d=\"M134.253,-16.2507C155.985,-11.0017 191.387,-4.71911 221.615,-9.90386 233.41,-11.9268 245.875,-15.7914 256.862,-19.8379\"/>\n",
       "<polygon fill=\"black\" stroke=\"black\" points=\"255.886,-23.2129 266.475,-23.5577 258.412,-16.6847 255.886,-23.2129\"/>\n",
       "<text text-anchor=\"middle\" x=\"199.712\" y=\"-12.7039\" font-family=\"Times,serif\" font-size=\"14.00\">1</text>\n",
       "</g>\n",
       "<!-- St1&#45;&gt;St2 -->\n",
       "<g id=\"edge5\" class=\"edge\"><title>St1&#45;&gt;St2</title>\n",
       "<path fill=\"none\" stroke=\"black\" d=\"M264.602,-32.2004C256.527,-32.23 247.597,-32.8875 239.615,-34.9039 235.669,-35.9007 231.67,-37.3568 227.814,-39.036\"/>\n",
       "<polygon fill=\"black\" stroke=\"black\" points=\"226.071,-35.9925 218.631,-43.5357 229.151,-42.2784 226.071,-35.9925\"/>\n",
       "<text text-anchor=\"middle\" x=\"243.115\" y=\"-37.7039\" font-family=\"Times,serif\" font-size=\"14.00\">0</text>\n",
       "</g>\n",
       "<!-- St1&#45;&gt;St1 -->\n",
       "<g id=\"edge4\" class=\"edge\"><title>St1&#45;&gt;St1</title>\n",
       "<path fill=\"none\" stroke=\"black\" d=\"M281.97,-58.7276C281.381,-69.0541 284.23,-77.8077 290.519,-77.8077 294.548,-77.8077 297.166,-74.2152 298.372,-68.9182\"/>\n",
       "<polygon fill=\"black\" stroke=\"black\" points=\"301.878,-68.9431 299.069,-58.7276 294.894,-68.4654 301.878,-68.9431\"/>\n",
       "<text text-anchor=\"middle\" x=\"290.519\" y=\"-80.6077\" font-family=\"Times,serif\" font-size=\"14.00\">1</text>\n",
       "</g>\n",
       "</g>\n",
       "</svg>\n"
      ],
      "text/plain": [
       "<graphviz.dot.Digraph at 0x107506b38>"
      ]
     },
     "execution_count": 47,
     "metadata": {},
     "output_type": "execute_result"
    }
   ],
   "source": [
    "dotObj_dfa(nfa2dfa(fig74a))"
   ]
  },
  {
   "cell_type": "markdown",
   "metadata": {
    "editable": false,
    "run_control": {
     "frozen": false,
     "read_only": false
    }
   },
   "source": [
    "# Brzozowski's DFA Minimization\n",
    "\n",
    "Picking up from our earlier discussions, to minimize a DFA using Brzozowski's algorithm, here are the steps:\n",
    "\n",
    "* Make sure that the given DFA has no unreachable states\n",
    "* Reverse the DFA\n",
    "* Determinize it\n",
    "* Reverse that DFA\n",
    "* Determinize it\n",
    "\n",
    "Thus we need to write a routine to reverse a DFA. We already have a way to ensure that a DFA does not have unreachable states (in another Jupyter notebook; we won't bother to include it here, and trust the user to always provide such DFA only).\n",
    "\n",
    "We can observe that if a DFA has black-hole states, then those states won't matter in the reversed machine (reversed NFA). Thus, we can work with __partial__ dfa (i.e., DFA that are partially consistent)."
   ]
  },
  {
   "cell_type": "markdown",
   "metadata": {
    "editable": false,
    "run_control": {
     "frozen": false,
     "read_only": false
    }
   },
   "source": [
    "## DFA reversal"
   ]
  },
  {
   "cell_type": "code",
   "execution_count": 48,
   "metadata": {
    "run_control": {
     "frozen": false,
     "read_only": false
    }
   },
   "outputs": [],
   "source": [
    "def inSets(D,trg,ch):\n",
    "    \"\"\"In : D   = partially consistent dfa,\n",
    "            trg = a target state in D[\"q\"]\n",
    "            ch  = a member of D[\"Sigma\"]\n",
    "       Out: a set of states. { q s.t. Delta[q,ch] == trg }\n",
    "    \"\"\"\n",
    "    return { q for q in D[\"Q\"] if D[\"Delta\"][(q,ch)] == trg }\n",
    "\n",
    "def rev_dfa(D):\n",
    "    \"\"\"In : D = a partially consistent DFA without any unreachable states.\n",
    "       Out: A consistent NFA whose language is D's language reversed.\n",
    "    \"\"\"\n",
    "    # 1. Given that NFAs start from a SET of states, we already have that\n",
    "    #   info. No need to add any transitions from \"a new initial state\" \n",
    "    #   etc\n",
    "    \n",
    "    # 2. Now add the inSets of each state as the NFA next set of states\n",
    "    NDict = { (q,ch) : inSets(D,q,ch) \n",
    "              for q in D[\"Q\"] \n",
    "              for ch in D[\"Sigma\"] }\n",
    "    \n",
    "    # Notice that we retain D[\"Q\"] and start from Q0 = D[\"F\"]\n",
    "    # going backwards along NDict toward F_dfa = { D[\"q0\"] }\n",
    "    return mk_nfa(D[\"Q\"], D[\"Sigma\"], NDict, D[\"F\"], {D[\"q0\"]})"
   ]
  },
  {
   "cell_type": "code",
   "execution_count": 49,
   "metadata": {
    "run_control": {
     "frozen": false,
     "read_only": false
    }
   },
   "outputs": [],
   "source": [
    "nfaMultiQ0 = md2mc('''\n",
    "NFA\n",
    "I0 : a | b | c -> A, B\n",
    "I0 : c -> F\n",
    "I1 : a | b -> A, B\n",
    "A  : c -> F\n",
    "B  : d -> F\n",
    "''')"
   ]
  },
  {
   "cell_type": "code",
   "execution_count": 50,
   "metadata": {
    "run_control": {
     "frozen": false,
     "read_only": false
    }
   },
   "outputs": [
    {
     "data": {
      "image/svg+xml": [
       "<?xml version=\"1.0\" encoding=\"UTF-8\" standalone=\"no\"?>\n",
       "<!DOCTYPE svg PUBLIC \"-//W3C//DTD SVG 1.1//EN\"\n",
       " \"http://www.w3.org/Graphics/SVG/1.1/DTD/svg11.dtd\">\n",
       "<!-- Generated by graphviz version 2.38.0 (20140413.2041)\n",
       " -->\n",
       "<!-- Title: %3 Pages: 1 -->\n",
       "<svg width=\"301pt\" height=\"315pt\"\n",
       " viewBox=\"0.00 0.00 301.00 315.05\" xmlns=\"http://www.w3.org/2000/svg\" xmlns:xlink=\"http://www.w3.org/1999/xlink\">\n",
       "<g id=\"graph0\" class=\"graph\" transform=\"scale(1 1) rotate(0) translate(4 311.045)\">\n",
       "<title>%3</title>\n",
       "<polygon fill=\"white\" stroke=\"none\" points=\"-4,4 -4,-311.045 297,-311.045 297,4 -4,4\"/>\n",
       "<!-- EMPTY -->\n",
       "<g id=\"node1\" class=\"node\"><title>EMPTY</title>\n",
       "</g>\n",
       "<!-- I1 -->\n",
       "<g id=\"node2\" class=\"node\"><title>I1</title>\n",
       "<ellipse fill=\"none\" stroke=\"black\" cx=\"109\" cy=\"-256.045\" rx=\"18\" ry=\"18\"/>\n",
       "<text text-anchor=\"middle\" x=\"109\" y=\"-251.845\" font-family=\"Times,serif\" font-size=\"14.00\">I1</text>\n",
       "</g>\n",
       "<!-- EMPTY&#45;&gt;I1 -->\n",
       "<g id=\"edge1\" class=\"edge\"><title>EMPTY&#45;&gt;I1</title>\n",
       "<path fill=\"none\" stroke=\"black\" d=\"M52.4373,-215.068C63.0633,-222.905 75.4253,-232.022 85.7873,-239.664\"/>\n",
       "<polygon fill=\"black\" stroke=\"black\" points=\"83.8137,-242.557 93.9391,-245.676 87.9685,-236.923 83.8137,-242.557\"/>\n",
       "</g>\n",
       "<!-- I0 -->\n",
       "<g id=\"node4\" class=\"node\"><title>I0</title>\n",
       "<ellipse fill=\"none\" stroke=\"black\" cx=\"109\" cy=\"-108.045\" rx=\"18\" ry=\"18\"/>\n",
       "<text text-anchor=\"middle\" x=\"109\" y=\"-103.845\" font-family=\"Times,serif\" font-size=\"14.00\">I0</text>\n",
       "</g>\n",
       "<!-- EMPTY&#45;&gt;I0 -->\n",
       "<g id=\"edge2\" class=\"edge\"><title>EMPTY&#45;&gt;I0</title>\n",
       "<path fill=\"none\" stroke=\"black\" d=\"M44.1892,-179.035C57.2099,-164.549 75.5231,-144.176 89.1931,-128.968\"/>\n",
       "<polygon fill=\"black\" stroke=\"black\" points=\"92.1647,-130.898 96.2468,-121.121 86.9587,-126.218 92.1647,-130.898\"/>\n",
       "</g>\n",
       "<!-- A -->\n",
       "<g id=\"node3\" class=\"node\"><title>A</title>\n",
       "<ellipse fill=\"none\" stroke=\"black\" cx=\"188\" cy=\"-71.0455\" rx=\"18\" ry=\"18\"/>\n",
       "<text text-anchor=\"middle\" x=\"188\" y=\"-66.8455\" font-family=\"Times,serif\" font-size=\"14.00\">A</text>\n",
       "</g>\n",
       "<!-- I1&#45;&gt;A -->\n",
       "<g id=\"edge10\" class=\"edge\"><title>I1&#45;&gt;A</title>\n",
       "<path fill=\"none\" stroke=\"black\" d=\"M124.543,-246.41C133.759,-239.558 145.187,-229.553 152,-218.045 163.799,-198.116 175.972,-135.747 182.39,-98.9625\"/>\n",
       "<polygon fill=\"black\" stroke=\"black\" points=\"185.878,-99.33 184.117,-88.8827 178.979,-98.1482 185.878,-99.33\"/>\n",
       "<text text-anchor=\"middle\" x=\"148.5\" y=\"-228.845\" font-family=\"Times,serif\" font-size=\"14.00\">a</text>\n",
       "</g>\n",
       "<!-- I1&#45;&gt;A -->\n",
       "<g id=\"edge12\" class=\"edge\"><title>I1&#45;&gt;A</title>\n",
       "<path fill=\"none\" stroke=\"black\" d=\"M111.706,-237.916C114.91,-210.362 123.552,-156.936 145,-117.045 150.454,-106.902 158.639,-97.2366 166.339,-89.4076\"/>\n",
       "<polygon fill=\"black\" stroke=\"black\" points=\"168.997,-91.7059 173.758,-82.2408 164.134,-86.6713 168.997,-91.7059\"/>\n",
       "<text text-anchor=\"middle\" x=\"148.5\" y=\"-119.845\" font-family=\"Times,serif\" font-size=\"14.00\">b</text>\n",
       "</g>\n",
       "<!-- B -->\n",
       "<g id=\"node5\" class=\"node\"><title>B</title>\n",
       "<ellipse fill=\"none\" stroke=\"black\" cx=\"188\" cy=\"-200.045\" rx=\"18\" ry=\"18\"/>\n",
       "<text text-anchor=\"middle\" x=\"188\" y=\"-195.845\" font-family=\"Times,serif\" font-size=\"14.00\">B</text>\n",
       "</g>\n",
       "<!-- I1&#45;&gt;B -->\n",
       "<g id=\"edge11\" class=\"edge\"><title>I1&#45;&gt;B</title>\n",
       "<path fill=\"none\" stroke=\"black\" d=\"M123.522,-266.752C132.095,-272.158 143.19,-276.525 152,-271.045 167.317,-261.519 176.128,-243.098 181.078,-227.407\"/>\n",
       "<polygon fill=\"black\" stroke=\"black\" points=\"184.495,-228.183 183.803,-217.611 177.751,-226.307 184.495,-228.183\"/>\n",
       "<text text-anchor=\"middle\" x=\"148.5\" y=\"-275.845\" font-family=\"Times,serif\" font-size=\"14.00\">a</text>\n",
       "</g>\n",
       "<!-- I1&#45;&gt;B -->\n",
       "<g id=\"edge13\" class=\"edge\"><title>I1&#45;&gt;B</title>\n",
       "<path fill=\"none\" stroke=\"black\" d=\"M118.632,-271.732C126.868,-284.598 139.794,-299.428 152,-291.045 172.411,-277.027 180.924,-249.316 184.471,-228.138\"/>\n",
       "<polygon fill=\"black\" stroke=\"black\" points=\"187.962,-228.448 185.878,-218.061 181.029,-227.481 187.962,-228.448\"/>\n",
       "<text text-anchor=\"middle\" x=\"148.5\" y=\"-295.845\" font-family=\"Times,serif\" font-size=\"14.00\">b</text>\n",
       "</g>\n",
       "<!-- F -->\n",
       "<g id=\"node6\" class=\"node\"><title>F</title>\n",
       "<ellipse fill=\"none\" stroke=\"black\" cx=\"271\" cy=\"-71.0455\" rx=\"18\" ry=\"18\"/>\n",
       "<ellipse fill=\"none\" stroke=\"black\" cx=\"271\" cy=\"-71.0455\" rx=\"22\" ry=\"22\"/>\n",
       "<text text-anchor=\"middle\" x=\"271\" y=\"-66.8455\" font-family=\"Times,serif\" font-size=\"14.00\">F</text>\n",
       "</g>\n",
       "<!-- A&#45;&gt;F -->\n",
       "<g id=\"edge14\" class=\"edge\"><title>A&#45;&gt;F</title>\n",
       "<path fill=\"none\" stroke=\"black\" d=\"M206.178,-71.0455C215.61,-71.0455 227.601,-71.0455 238.637,-71.0455\"/>\n",
       "<polygon fill=\"black\" stroke=\"black\" points=\"238.811,-74.5456 248.811,-71.0455 238.811,-67.5456 238.811,-74.5456\"/>\n",
       "<text text-anchor=\"middle\" x=\"227.5\" y=\"-73.8455\" font-family=\"Times,serif\" font-size=\"14.00\">c</text>\n",
       "</g>\n",
       "<!-- I0&#45;&gt;A -->\n",
       "<g id=\"edge3\" class=\"edge\"><title>I0&#45;&gt;A</title>\n",
       "<path fill=\"none\" stroke=\"black\" d=\"M112.971,-90.3285C116.944,-72.8662 125.85,-47.1011 145,-35.0455 155.004,-28.7474 165.098,-36.8293 172.883,-46.9185\"/>\n",
       "<polygon fill=\"black\" stroke=\"black\" points=\"170.032,-48.9503 178.584,-55.2038 175.798,-44.9818 170.032,-48.9503\"/>\n",
       "<text text-anchor=\"middle\" x=\"148.5\" y=\"-37.8455\" font-family=\"Times,serif\" font-size=\"14.00\">a</text>\n",
       "</g>\n",
       "<!-- I0&#45;&gt;A -->\n",
       "<g id=\"edge5\" class=\"edge\"><title>I0&#45;&gt;A</title>\n",
       "<path fill=\"none\" stroke=\"black\" d=\"M110.887,-89.8451C113.058,-67.6934 120.402,-31.1347 145,-14.0455 160.113,-3.54605 171.913,-24.8196 179.107,-44.2956\"/>\n",
       "<polygon fill=\"black\" stroke=\"black\" points=\"175.822,-45.5079 182.352,-53.8511 182.451,-43.2567 175.822,-45.5079\"/>\n",
       "<text text-anchor=\"middle\" x=\"148.5\" y=\"-16.8455\" font-family=\"Times,serif\" font-size=\"14.00\">b</text>\n",
       "</g>\n",
       "<!-- I0&#45;&gt;A -->\n",
       "<g id=\"edge7\" class=\"edge\"><title>I0&#45;&gt;A</title>\n",
       "<path fill=\"none\" stroke=\"black\" d=\"M119.831,-93.3937C126.024,-85.5098 134.774,-76.5098 145,-72.0455 149.604,-70.0355 154.771,-69.0346 159.864,-68.6454\"/>\n",
       "<polygon fill=\"black\" stroke=\"black\" points=\"160.036,-72.1445 170.013,-68.5782 159.99,-65.1446 160.036,-72.1445\"/>\n",
       "<text text-anchor=\"middle\" x=\"148.5\" y=\"-74.8455\" font-family=\"Times,serif\" font-size=\"14.00\">c</text>\n",
       "</g>\n",
       "<!-- I0&#45;&gt;B -->\n",
       "<g id=\"edge4\" class=\"edge\"><title>I0&#45;&gt;B</title>\n",
       "<path fill=\"none\" stroke=\"black\" d=\"M111.545,-126.139C114.378,-146.966 122.389,-180.43 145,-197.045 149.308,-200.211 154.581,-201.813 159.918,-202.486\"/>\n",
       "<polygon fill=\"black\" stroke=\"black\" points=\"159.914,-205.987 170.019,-202.803 160.134,-198.991 159.914,-205.987\"/>\n",
       "<text text-anchor=\"middle\" x=\"148.5\" y=\"-202.845\" font-family=\"Times,serif\" font-size=\"14.00\">a</text>\n",
       "</g>\n",
       "<!-- I0&#45;&gt;B -->\n",
       "<g id=\"edge6\" class=\"edge\"><title>I0&#45;&gt;B</title>\n",
       "<path fill=\"none\" stroke=\"black\" d=\"M118.993,-123.229C125.626,-133.943 135.172,-148.404 145,-160.045 151.349,-167.567 158.973,-175.176 165.973,-181.71\"/>\n",
       "<polygon fill=\"black\" stroke=\"black\" points=\"164.036,-184.679 173.789,-188.816 168.744,-179.499 164.036,-184.679\"/>\n",
       "<text text-anchor=\"middle\" x=\"148.5\" y=\"-169.845\" font-family=\"Times,serif\" font-size=\"14.00\">b</text>\n",
       "</g>\n",
       "<!-- I0&#45;&gt;B -->\n",
       "<g id=\"edge9\" class=\"edge\"><title>I0&#45;&gt;B</title>\n",
       "<path fill=\"none\" stroke=\"black\" d=\"M124.291,-117.677C132.954,-123.96 143.866,-132.708 152,-142.045 160.663,-151.991 168.453,-164.353 174.472,-175.107\"/>\n",
       "<polygon fill=\"black\" stroke=\"black\" points=\"171.461,-176.896 179.283,-184.041 177.624,-173.577 171.461,-176.896\"/>\n",
       "<text text-anchor=\"middle\" x=\"148.5\" y=\"-144.845\" font-family=\"Times,serif\" font-size=\"14.00\">c</text>\n",
       "</g>\n",
       "<!-- I0&#45;&gt;F -->\n",
       "<g id=\"edge8\" class=\"edge\"><title>I0&#45;&gt;F</title>\n",
       "<path fill=\"none\" stroke=\"black\" d=\"M110.41,-89.9409C112.031,-66.5622 118.747,-26.6714 145,-8.04546 178.914,16.016 223.336,-20.2332 249.068,-46.9197\"/>\n",
       "<polygon fill=\"black\" stroke=\"black\" points=\"246.734,-49.549 256.114,-54.4759 251.854,-44.7751 246.734,-49.549\"/>\n",
       "<text text-anchor=\"middle\" x=\"188\" y=\"-14.8455\" font-family=\"Times,serif\" font-size=\"14.00\">c</text>\n",
       "</g>\n",
       "<!-- B&#45;&gt;F -->\n",
       "<g id=\"edge15\" class=\"edge\"><title>B&#45;&gt;F</title>\n",
       "<path fill=\"none\" stroke=\"black\" d=\"M198.292,-185.248C211.599,-164.054 236.313,-124.695 252.959,-98.1852\"/>\n",
       "<polygon fill=\"black\" stroke=\"black\" points=\"256.124,-99.7254 258.478,-89.3953 250.196,-96.003 256.124,-99.7254\"/>\n",
       "<text text-anchor=\"middle\" x=\"227.5\" y=\"-145.845\" font-family=\"Times,serif\" font-size=\"14.00\">d</text>\n",
       "</g>\n",
       "</g>\n",
       "</svg>\n"
      ],
      "text/plain": [
       "<graphviz.dot.Digraph at 0x106a648d0>"
      ]
     },
     "execution_count": 50,
     "metadata": {},
     "output_type": "execute_result"
    }
   ],
   "source": [
    "dotObj_nfa(nfaMultiQ0)"
   ]
  },
  {
   "cell_type": "code",
   "execution_count": 51,
   "metadata": {
    "run_control": {
     "frozen": false,
     "read_only": false
    }
   },
   "outputs": [
    {
     "data": {
      "image/svg+xml": [
       "<?xml version=\"1.0\" encoding=\"UTF-8\" standalone=\"no\"?>\n",
       "<!DOCTYPE svg PUBLIC \"-//W3C//DTD SVG 1.1//EN\"\n",
       " \"http://www.w3.org/Graphics/SVG/1.1/DTD/svg11.dtd\">\n",
       "<!-- Generated by graphviz version 2.38.0 (20140413.2041)\n",
       " -->\n",
       "<!-- Title: %3 Pages: 1 -->\n",
       "<svg width=\"307pt\" height=\"224pt\"\n",
       " viewBox=\"0.00 0.00 307.21 224.26\" xmlns=\"http://www.w3.org/2000/svg\" xmlns:xlink=\"http://www.w3.org/1999/xlink\">\n",
       "<g id=\"graph0\" class=\"graph\" transform=\"scale(1 1) rotate(0) translate(4 220.256)\">\n",
       "<title>%3</title>\n",
       "<polygon fill=\"white\" stroke=\"none\" points=\"-4,4 -4,-220.256 303.214,-220.256 303.214,4 -4,4\"/>\n",
       "<!-- EMPTY -->\n",
       "<g id=\"node1\" class=\"node\"><title>EMPTY</title>\n",
       "</g>\n",
       "<!-- I1 -->\n",
       "<g id=\"node2\" class=\"node\"><title>I1</title>\n",
       "<ellipse fill=\"none\" stroke=\"black\" cx=\"109\" cy=\"-157.256\" rx=\"18\" ry=\"18\"/>\n",
       "<text text-anchor=\"middle\" x=\"109\" y=\"-153.056\" font-family=\"Times,serif\" font-size=\"14.00\">I1</text>\n",
       "</g>\n",
       "<!-- EMPTY&#45;&gt;I1 -->\n",
       "<g id=\"edge1\" class=\"edge\"><title>EMPTY&#45;&gt;I1</title>\n",
       "<path fill=\"none\" stroke=\"black\" d=\"M54.195,-130.354C63.5295,-135.021 74.0073,-140.26 83.2194,-144.866\"/>\n",
       "<polygon fill=\"black\" stroke=\"black\" points=\"81.7507,-148.045 92.2602,-149.387 84.8812,-141.784 81.7507,-148.045\"/>\n",
       "</g>\n",
       "<!-- I0 -->\n",
       "<g id=\"node4\" class=\"node\"><title>I0</title>\n",
       "<ellipse fill=\"none\" stroke=\"black\" cx=\"109\" cy=\"-40.2565\" rx=\"18\" ry=\"18\"/>\n",
       "<text text-anchor=\"middle\" x=\"109\" y=\"-36.0565\" font-family=\"Times,serif\" font-size=\"14.00\">I0</text>\n",
       "</g>\n",
       "<!-- EMPTY&#45;&gt;I0 -->\n",
       "<g id=\"edge2\" class=\"edge\"><title>EMPTY&#45;&gt;I0</title>\n",
       "<path fill=\"none\" stroke=\"black\" d=\"M46.9589,-99.0086C59.3563,-87.076 75.5236,-71.5151 88.1048,-59.4056\"/>\n",
       "<polygon fill=\"black\" stroke=\"black\" points=\"90.6315,-61.8315 95.4092,-52.3751 85.7772,-56.7881 90.6315,-61.8315\"/>\n",
       "</g>\n",
       "<!-- A -->\n",
       "<g id=\"node3\" class=\"node\"><title>A</title>\n",
       "<ellipse fill=\"none\" stroke=\"black\" cx=\"194.214\" cy=\"-44.2565\" rx=\"18\" ry=\"18\"/>\n",
       "<text text-anchor=\"middle\" x=\"194.214\" y=\"-40.0565\" font-family=\"Times,serif\" font-size=\"14.00\">A</text>\n",
       "</g>\n",
       "<!-- I1&#45;&gt;A -->\n",
       "<g id=\"edge6\" class=\"edge\"><title>I1&#45;&gt;A</title>\n",
       "<path fill=\"none\" stroke=\"black\" d=\"M125.895,-149.794C136.404,-144.127 149.754,-135.408 158.214,-124.256 173.249,-104.437 165.513,-93.7143 176.214,-71.2565 176.777,-70.0751 177.381,-68.8818 178.013,-67.6889\"/>\n",
       "<polygon fill=\"black\" stroke=\"black\" points=\"181.208,-69.1578 183.214,-58.7547 175.158,-65.6359 181.208,-69.1578\"/>\n",
       "<text text-anchor=\"middle\" x=\"151.607\" y=\"-153.056\" font-family=\"Times,serif\" font-size=\"14.00\">a </text>\n",
       "<text text-anchor=\"middle\" x=\"151.607\" y=\"-139.056\" font-family=\"Times,serif\" font-size=\"14.00\"> b</text>\n",
       "</g>\n",
       "<!-- B -->\n",
       "<g id=\"node5\" class=\"node\"><title>B</title>\n",
       "<ellipse fill=\"none\" stroke=\"black\" cx=\"194.214\" cy=\"-98.2565\" rx=\"18\" ry=\"18\"/>\n",
       "<text text-anchor=\"middle\" x=\"194.214\" y=\"-94.0565\" font-family=\"Times,serif\" font-size=\"14.00\">B</text>\n",
       "</g>\n",
       "<!-- I1&#45;&gt;B -->\n",
       "<g id=\"edge7\" class=\"edge\"><title>I1&#45;&gt;B</title>\n",
       "<path fill=\"none\" stroke=\"black\" d=\"M120.934,-171.422C130.847,-182.492 145.766,-194.702 158.214,-186.256 177.795,-172.972 186.421,-146.813 190.222,-126.453\"/>\n",
       "<polygon fill=\"black\" stroke=\"black\" points=\"193.701,-126.857 191.801,-116.434 186.787,-125.766 193.701,-126.857\"/>\n",
       "<text text-anchor=\"middle\" x=\"151.607\" y=\"-205.056\" font-family=\"Times,serif\" font-size=\"14.00\">a </text>\n",
       "<text text-anchor=\"middle\" x=\"151.607\" y=\"-191.056\" font-family=\"Times,serif\" font-size=\"14.00\"> b</text>\n",
       "</g>\n",
       "<!-- F -->\n",
       "<g id=\"node6\" class=\"node\"><title>F</title>\n",
       "<ellipse fill=\"none\" stroke=\"black\" cx=\"277.214\" cy=\"-44.2565\" rx=\"18\" ry=\"18\"/>\n",
       "<ellipse fill=\"none\" stroke=\"black\" cx=\"277.214\" cy=\"-44.2565\" rx=\"22\" ry=\"22\"/>\n",
       "<text text-anchor=\"middle\" x=\"277.214\" y=\"-40.0565\" font-family=\"Times,serif\" font-size=\"14.00\">F</text>\n",
       "</g>\n",
       "<!-- A&#45;&gt;F -->\n",
       "<g id=\"edge8\" class=\"edge\"><title>A&#45;&gt;F</title>\n",
       "<path fill=\"none\" stroke=\"black\" d=\"M212.392,-44.2565C221.823,-44.2565 233.815,-44.2565 244.851,-44.2565\"/>\n",
       "<polygon fill=\"black\" stroke=\"black\" points=\"245.025,-47.7566 255.025,-44.2565 245.025,-40.7566 245.025,-47.7566\"/>\n",
       "<text text-anchor=\"middle\" x=\"233.714\" y=\"-47.0565\" font-family=\"Times,serif\" font-size=\"14.00\">c</text>\n",
       "</g>\n",
       "<!-- I0&#45;&gt;A -->\n",
       "<g id=\"edge3\" class=\"edge\"><title>I0&#45;&gt;A</title>\n",
       "<path fill=\"none\" stroke=\"black\" d=\"M125.579,-32.6633C134.995,-29.0025 147.257,-25.8708 158.214,-28.2565 161.715,-29.0187 165.285,-30.1637 168.741,-31.4976\"/>\n",
       "<polygon fill=\"black\" stroke=\"black\" points=\"167.468,-34.7616 178.03,-35.5963 170.294,-28.3573 167.468,-34.7616\"/>\n",
       "<text text-anchor=\"middle\" x=\"151.607\" y=\"-59.0565\" font-family=\"Times,serif\" font-size=\"14.00\">c </text>\n",
       "<text text-anchor=\"middle\" x=\"151.607\" y=\"-45.0565\" font-family=\"Times,serif\" font-size=\"14.00\"> a </text>\n",
       "<text text-anchor=\"middle\" x=\"151.607\" y=\"-31.0565\" font-family=\"Times,serif\" font-size=\"14.00\"> b</text>\n",
       "</g>\n",
       "<!-- I0&#45;&gt;B -->\n",
       "<g id=\"edge4\" class=\"edge\"><title>I0&#45;&gt;B</title>\n",
       "<path fill=\"none\" stroke=\"black\" d=\"M122.834,-52.2448C129.262,-57.9885 137.3,-64.7895 145,-70.2565 152.602,-75.6534 161.308,-80.9527 169.211,-85.4638\"/>\n",
       "<polygon fill=\"black\" stroke=\"black\" points=\"167.566,-88.5537 178.007,-90.3561 170.969,-82.4364 167.566,-88.5537\"/>\n",
       "<text text-anchor=\"middle\" x=\"151.607\" y=\"-109.056\" font-family=\"Times,serif\" font-size=\"14.00\">c </text>\n",
       "<text text-anchor=\"middle\" x=\"151.607\" y=\"-95.0565\" font-family=\"Times,serif\" font-size=\"14.00\"> a </text>\n",
       "<text text-anchor=\"middle\" x=\"151.607\" y=\"-81.0565\" font-family=\"Times,serif\" font-size=\"14.00\"> b</text>\n",
       "</g>\n",
       "<!-- I0&#45;&gt;F -->\n",
       "<g id=\"edge5\" class=\"edge\"><title>I0&#45;&gt;F</title>\n",
       "<path fill=\"none\" stroke=\"black\" d=\"M123.812,-29.7499C136.614,-20.7189 156.589,-8.36766 176.214,-3.25648 191.697,0.776128 196.859,1.24017 212.214,-3.25648 226.544,-7.45287 240.71,-15.95 252.057,-24.1261\"/>\n",
       "<polygon fill=\"black\" stroke=\"black\" points=\"250.054,-26.9992 260.141,-30.2392 254.276,-21.4158 250.054,-26.9992\"/>\n",
       "<text text-anchor=\"middle\" x=\"194.214\" y=\"-6.05648\" font-family=\"Times,serif\" font-size=\"14.00\">c</text>\n",
       "</g>\n",
       "<!-- B&#45;&gt;F -->\n",
       "<g id=\"edge9\" class=\"edge\"><title>B&#45;&gt;F</title>\n",
       "<path fill=\"none\" stroke=\"black\" d=\"M209.695,-88.6024C220.893,-81.1367 236.694,-70.6028 250.086,-61.6748\"/>\n",
       "<polygon fill=\"black\" stroke=\"black\" points=\"252.087,-64.5475 258.466,-56.0882 248.204,-58.7231 252.087,-64.5475\"/>\n",
       "<text text-anchor=\"middle\" x=\"233.714\" y=\"-77.0565\" font-family=\"Times,serif\" font-size=\"14.00\">d</text>\n",
       "</g>\n",
       "</g>\n",
       "</svg>\n"
      ],
      "text/plain": [
       "<graphviz.dot.Digraph at 0x106a64dd8>"
      ]
     },
     "execution_count": 51,
     "metadata": {},
     "output_type": "execute_result"
    }
   ],
   "source": [
    "dotObj_nfa(nfaMultiQ0, FuseEdges=True)"
   ]
  },
  {
   "cell_type": "code",
   "execution_count": 52,
   "metadata": {
    "run_control": {
     "frozen": false,
     "read_only": false
    }
   },
   "outputs": [],
   "source": [
    "dfaMQ0 = nfa2dfa(nfaMultiQ0)"
   ]
  },
  {
   "cell_type": "code",
   "execution_count": 53,
   "metadata": {
    "run_control": {
     "frozen": false,
     "read_only": false
    }
   },
   "outputs": [
    {
     "data": {
      "image/svg+xml": [
       "<?xml version=\"1.0\" encoding=\"UTF-8\" standalone=\"no\"?>\n",
       "<!DOCTYPE svg PUBLIC \"-//W3C//DTD SVG 1.1//EN\"\n",
       " \"http://www.w3.org/Graphics/SVG/1.1/DTD/svg11.dtd\">\n",
       "<!-- Generated by graphviz version 2.38.0 (20140413.2041)\n",
       " -->\n",
       "<!-- Title: %3 Pages: 1 -->\n",
       "<svg width=\"368pt\" height=\"160pt\"\n",
       " viewBox=\"0.00 0.00 367.83 159.97\" xmlns=\"http://www.w3.org/2000/svg\" xmlns:xlink=\"http://www.w3.org/1999/xlink\">\n",
       "<g id=\"graph0\" class=\"graph\" transform=\"scale(1 1) rotate(0) translate(4 155.967)\">\n",
       "<title>%3</title>\n",
       "<polygon fill=\"white\" stroke=\"none\" points=\"-4,4 -4,-155.967 363.831,-155.967 363.831,4 -4,4\"/>\n",
       "<!-- EMPTY -->\n",
       "<g id=\"node1\" class=\"node\"><title>EMPTY</title>\n",
       "</g>\n",
       "<!-- I0_I1 -->\n",
       "<g id=\"node2\" class=\"node\"><title>I0_I1</title>\n",
       "<ellipse fill=\"none\" stroke=\"black\" cx=\"120.262\" cy=\"-88.1536\" rx=\"29.0257\" ry=\"29.0257\"/>\n",
       "<text text-anchor=\"middle\" x=\"120.262\" y=\"-83.9536\" font-family=\"Times,serif\" font-size=\"14.00\">I0_I1</text>\n",
       "</g>\n",
       "<!-- EMPTY&#45;&gt;I0_I1 -->\n",
       "<g id=\"edge1\" class=\"edge\"><title>EMPTY&#45;&gt;I0_I1</title>\n",
       "<path fill=\"none\" stroke=\"black\" d=\"M54.3967,-88.1536C62.5695,-88.1536 71.7499,-88.1536 80.5754,-88.1536\"/>\n",
       "<polygon fill=\"black\" stroke=\"black\" points=\"80.6912,-91.6537 90.6912,-88.1536 80.6911,-84.6537 80.6912,-91.6537\"/>\n",
       "</g>\n",
       "<!-- A_B -->\n",
       "<g id=\"node3\" class=\"node\"><title>A_B</title>\n",
       "<ellipse fill=\"none\" stroke=\"black\" cx=\"232.677\" cy=\"-125.154\" rx=\"26.6284\" ry=\"26.6284\"/>\n",
       "<text text-anchor=\"middle\" x=\"232.677\" y=\"-120.954\" font-family=\"Times,serif\" font-size=\"14.00\">A_B</text>\n",
       "</g>\n",
       "<!-- I0_I1&#45;&gt;A_B -->\n",
       "<g id=\"edge3\" class=\"edge\"><title>I0_I1&#45;&gt;A_B</title>\n",
       "<path fill=\"none\" stroke=\"black\" d=\"M148.273,-97.2048C162.937,-102.119 181.229,-108.249 196.943,-113.514\"/>\n",
       "<polygon fill=\"black\" stroke=\"black\" points=\"196.24,-116.97 206.834,-116.828 198.464,-110.332 196.24,-116.97\"/>\n",
       "<text text-anchor=\"middle\" x=\"171.024\" y=\"-108.954\" font-family=\"Times,serif\" font-size=\"14.00\">a</text>\n",
       "</g>\n",
       "<!-- I0_I1&#45;&gt;A_B -->\n",
       "<g id=\"edge4\" class=\"edge\"><title>I0_I1&#45;&gt;A_B</title>\n",
       "<path fill=\"none\" stroke=\"black\" d=\"M149.353,-84.4011C157.607,-84.1555 166.556,-84.7465 174.524,-87.1536 184.79,-90.2549 194.901,-95.8722 203.698,-101.853\"/>\n",
       "<polygon fill=\"black\" stroke=\"black\" points=\"201.862,-104.845 212.014,-107.876 205.968,-99.1754 201.862,-104.845\"/>\n",
       "<text text-anchor=\"middle\" x=\"171.024\" y=\"-89.9536\" font-family=\"Times,serif\" font-size=\"14.00\">b</text>\n",
       "</g>\n",
       "<!-- A_B_F -->\n",
       "<g id=\"node5\" class=\"node\"><title>A_B_F</title>\n",
       "<ellipse fill=\"none\" stroke=\"black\" cx=\"232.677\" cy=\"-40.1536\" rx=\"36.2924\" ry=\"36.2924\"/>\n",
       "<ellipse fill=\"none\" stroke=\"black\" cx=\"232.677\" cy=\"-40.1536\" rx=\"40.3078\" ry=\"40.3078\"/>\n",
       "<text text-anchor=\"middle\" x=\"232.677\" y=\"-35.9536\" font-family=\"Times,serif\" font-size=\"14.00\">A_B_F</text>\n",
       "</g>\n",
       "<!-- I0_I1&#45;&gt;A_B_F -->\n",
       "<g id=\"edge2\" class=\"edge\"><title>I0_I1&#45;&gt;A_B_F</title>\n",
       "<path fill=\"none\" stroke=\"black\" d=\"M147.429,-76.7783C159.026,-71.7365 173.014,-65.6557 186.231,-59.9101\"/>\n",
       "<polygon fill=\"black\" stroke=\"black\" points=\"187.898,-63.0019 195.674,-55.8052 185.107,-56.5822 187.898,-63.0019\"/>\n",
       "<text text-anchor=\"middle\" x=\"171.024\" y=\"-69.9536\" font-family=\"Times,serif\" font-size=\"14.00\">c</text>\n",
       "</g>\n",
       "<!-- F -->\n",
       "<g id=\"node4\" class=\"node\"><title>F</title>\n",
       "<ellipse fill=\"none\" stroke=\"black\" cx=\"337.831\" cy=\"-82.1536\" rx=\"18\" ry=\"18\"/>\n",
       "<ellipse fill=\"none\" stroke=\"black\" cx=\"337.831\" cy=\"-82.1536\" rx=\"22\" ry=\"22\"/>\n",
       "<text text-anchor=\"middle\" x=\"337.831\" y=\"-77.9536\" font-family=\"Times,serif\" font-size=\"14.00\">F</text>\n",
       "</g>\n",
       "<!-- A_B&#45;&gt;F -->\n",
       "<g id=\"edge7\" class=\"edge\"><title>A_B&#45;&gt;F</title>\n",
       "<path fill=\"none\" stroke=\"black\" d=\"M259.603,-124.883C271.678,-123.927 285.963,-121.571 297.831,-116.154 303.837,-113.412 309.609,-109.442 314.787,-105.175\"/>\n",
       "<polygon fill=\"black\" stroke=\"black\" points=\"317.277,-107.643 322.381,-98.3592 312.601,-102.434 317.277,-107.643\"/>\n",
       "<text text-anchor=\"middle\" x=\"294.331\" y=\"-121.954\" font-family=\"Times,serif\" font-size=\"14.00\">c</text>\n",
       "</g>\n",
       "<!-- A_B&#45;&gt;F -->\n",
       "<g id=\"edge8\" class=\"edge\"><title>A_B&#45;&gt;F</title>\n",
       "<path fill=\"none\" stroke=\"black\" d=\"M257.062,-113.416C267.313,-108.451 279.555,-102.763 290.831,-98.1536 296.016,-96.0341 301.598,-93.94 307.025,-92.0002\"/>\n",
       "<polygon fill=\"black\" stroke=\"black\" points=\"308.21,-95.2939 316.505,-88.7029 305.91,-88.6824 308.21,-95.2939\"/>\n",
       "<text text-anchor=\"middle\" x=\"294.331\" y=\"-100.954\" font-family=\"Times,serif\" font-size=\"14.00\">d</text>\n",
       "</g>\n",
       "<!-- A_B_F&#45;&gt;F -->\n",
       "<g id=\"edge5\" class=\"edge\"><title>A_B_F&#45;&gt;F</title>\n",
       "<path fill=\"none\" stroke=\"black\" d=\"M270.417,-54.1833C279.411,-57.697 288.991,-61.5062 297.831,-65.1536 301.14,-66.519 304.595,-67.9768 308.02,-69.4431\"/>\n",
       "<polygon fill=\"black\" stroke=\"black\" points=\"306.887,-72.7664 317.455,-73.5279 309.668,-66.3427 306.887,-72.7664\"/>\n",
       "<text text-anchor=\"middle\" x=\"294.331\" y=\"-67.9536\" font-family=\"Times,serif\" font-size=\"14.00\">c</text>\n",
       "</g>\n",
       "<!-- A_B_F&#45;&gt;F -->\n",
       "<g id=\"edge6\" class=\"edge\"><title>A_B_F&#45;&gt;F</title>\n",
       "<path fill=\"none\" stroke=\"black\" d=\"M273.057,-39.0119C281.499,-39.9103 290.175,-41.7491 297.831,-45.1536 304.477,-48.1092 310.692,-52.6946 316.121,-57.6434\"/>\n",
       "<polygon fill=\"black\" stroke=\"black\" points=\"313.93,-60.4029 323.472,-65.0066 318.884,-55.457 313.93,-60.4029\"/>\n",
       "<text text-anchor=\"middle\" x=\"294.331\" y=\"-47.9536\" font-family=\"Times,serif\" font-size=\"14.00\">d</text>\n",
       "</g>\n",
       "</g>\n",
       "</svg>\n"
      ],
      "text/plain": [
       "<graphviz.dot.Digraph at 0x106a64f98>"
      ]
     },
     "execution_count": 53,
     "metadata": {},
     "output_type": "execute_result"
    }
   ],
   "source": [
    "dotObj_dfa(dfaMQ0)"
   ]
  },
  {
   "cell_type": "code",
   "execution_count": 54,
   "metadata": {
    "run_control": {
     "frozen": false,
     "read_only": false
    }
   },
   "outputs": [
    {
     "data": {
      "image/svg+xml": [
       "<?xml version=\"1.0\" encoding=\"UTF-8\" standalone=\"no\"?>\n",
       "<!DOCTYPE svg PUBLIC \"-//W3C//DTD SVG 1.1//EN\"\n",
       " \"http://www.w3.org/Graphics/SVG/1.1/DTD/svg11.dtd\">\n",
       "<!-- Generated by graphviz version 2.38.0 (20140413.2041)\n",
       " -->\n",
       "<!-- Title: %3 Pages: 1 -->\n",
       "<svg width=\"375pt\" height=\"160pt\"\n",
       " viewBox=\"0.00 0.00 374.83 159.97\" xmlns=\"http://www.w3.org/2000/svg\" xmlns:xlink=\"http://www.w3.org/1999/xlink\">\n",
       "<g id=\"graph0\" class=\"graph\" transform=\"scale(1 1) rotate(0) translate(4 155.967)\">\n",
       "<title>%3</title>\n",
       "<polygon fill=\"white\" stroke=\"none\" points=\"-4,4 -4,-155.967 370.831,-155.967 370.831,4 -4,4\"/>\n",
       "<!-- EMPTY -->\n",
       "<g id=\"node1\" class=\"node\"><title>EMPTY</title>\n",
       "</g>\n",
       "<!-- I0_I1 -->\n",
       "<g id=\"node2\" class=\"node\"><title>I0_I1</title>\n",
       "<ellipse fill=\"none\" stroke=\"black\" cx=\"120.262\" cy=\"-88.1536\" rx=\"29.0257\" ry=\"29.0257\"/>\n",
       "<text text-anchor=\"middle\" x=\"120.262\" y=\"-83.9536\" font-family=\"Times,serif\" font-size=\"14.00\">I0_I1</text>\n",
       "</g>\n",
       "<!-- EMPTY&#45;&gt;I0_I1 -->\n",
       "<g id=\"edge1\" class=\"edge\"><title>EMPTY&#45;&gt;I0_I1</title>\n",
       "<path fill=\"none\" stroke=\"black\" d=\"M54.3967,-88.1536C62.5695,-88.1536 71.7499,-88.1536 80.5754,-88.1536\"/>\n",
       "<polygon fill=\"black\" stroke=\"black\" points=\"80.6912,-91.6537 90.6912,-88.1536 80.6911,-84.6537 80.6912,-91.6537\"/>\n",
       "</g>\n",
       "<!-- A_B -->\n",
       "<g id=\"node3\" class=\"node\"><title>A_B</title>\n",
       "<ellipse fill=\"none\" stroke=\"black\" cx=\"236.177\" cy=\"-125.154\" rx=\"26.6284\" ry=\"26.6284\"/>\n",
       "<text text-anchor=\"middle\" x=\"236.177\" y=\"-120.954\" font-family=\"Times,serif\" font-size=\"14.00\">A_B</text>\n",
       "</g>\n",
       "<!-- I0_I1&#45;&gt;A_B -->\n",
       "<g id=\"edge3\" class=\"edge\"><title>I0_I1&#45;&gt;A_B</title>\n",
       "<path fill=\"none\" stroke=\"black\" d=\"M148.258,-96.9221C163.841,-101.983 183.607,-108.403 200.351,-113.842\"/>\n",
       "<polygon fill=\"black\" stroke=\"black\" points=\"199.729,-117.32 210.321,-117.08 201.891,-110.662 199.729,-117.32\"/>\n",
       "<text text-anchor=\"middle\" x=\"172.774\" y=\"-122.954\" font-family=\"Times,serif\" font-size=\"14.00\">a </text>\n",
       "<text text-anchor=\"middle\" x=\"172.774\" y=\"-108.954\" font-family=\"Times,serif\" font-size=\"14.00\"> b</text>\n",
       "</g>\n",
       "<!-- A_B_F -->\n",
       "<g id=\"node5\" class=\"node\"><title>A_B_F</title>\n",
       "<ellipse fill=\"none\" stroke=\"black\" cx=\"236.177\" cy=\"-40.1536\" rx=\"36.2924\" ry=\"36.2924\"/>\n",
       "<ellipse fill=\"none\" stroke=\"black\" cx=\"236.177\" cy=\"-40.1536\" rx=\"40.3078\" ry=\"40.3078\"/>\n",
       "<text text-anchor=\"middle\" x=\"236.177\" y=\"-35.9536\" font-family=\"Times,serif\" font-size=\"14.00\">A_B_F</text>\n",
       "</g>\n",
       "<!-- I0_I1&#45;&gt;A_B_F -->\n",
       "<g id=\"edge2\" class=\"edge\"><title>I0_I1&#45;&gt;A_B_F</title>\n",
       "<path fill=\"none\" stroke=\"black\" d=\"M147.396,-77.1414C159.897,-71.8739 175.233,-65.4119 189.569,-59.3712\"/>\n",
       "<polygon fill=\"black\" stroke=\"black\" points=\"190.95,-62.5877 198.806,-55.4793 188.232,-56.137 190.95,-62.5877\"/>\n",
       "<text text-anchor=\"middle\" x=\"172.774\" y=\"-71.9536\" font-family=\"Times,serif\" font-size=\"14.00\">c</text>\n",
       "</g>\n",
       "<!-- F -->\n",
       "<g id=\"node4\" class=\"node\"><title>F</title>\n",
       "<ellipse fill=\"none\" stroke=\"black\" cx=\"344.831\" cy=\"-86.1536\" rx=\"18\" ry=\"18\"/>\n",
       "<ellipse fill=\"none\" stroke=\"black\" cx=\"344.831\" cy=\"-86.1536\" rx=\"22\" ry=\"22\"/>\n",
       "<text text-anchor=\"middle\" x=\"344.831\" y=\"-81.9536\" font-family=\"Times,serif\" font-size=\"14.00\">F</text>\n",
       "</g>\n",
       "<!-- A_B&#45;&gt;F -->\n",
       "<g id=\"edge5\" class=\"edge\"><title>A_B&#45;&gt;F</title>\n",
       "<path fill=\"none\" stroke=\"black\" d=\"M261.646,-116.206C277.23,-110.507 297.52,-103.088 314.04,-97.0472\"/>\n",
       "<polygon fill=\"black\" stroke=\"black\" points=\"315.574,-100.213 323.763,-93.4917 313.17,-93.6389 315.574,-100.213\"/>\n",
       "<text text-anchor=\"middle\" x=\"299.581\" y=\"-119.954\" font-family=\"Times,serif\" font-size=\"14.00\">c </text>\n",
       "<text text-anchor=\"middle\" x=\"299.581\" y=\"-105.954\" font-family=\"Times,serif\" font-size=\"14.00\"> d</text>\n",
       "</g>\n",
       "<!-- A_B_F&#45;&gt;F -->\n",
       "<g id=\"edge4\" class=\"edge\"><title>A_B_F&#45;&gt;F</title>\n",
       "<path fill=\"none\" stroke=\"black\" d=\"M273.806,-55.0002C283.894,-59.1742 294.816,-63.7719 304.831,-68.1536 308.243,-69.6462 311.807,-71.2414 315.336,-72.8424\"/>\n",
       "<polygon fill=\"black\" stroke=\"black\" points=\"313.911,-76.0394 324.459,-77.0274 316.829,-69.6768 313.911,-76.0394\"/>\n",
       "<text text-anchor=\"middle\" x=\"299.581\" y=\"-84.9536\" font-family=\"Times,serif\" font-size=\"14.00\">c </text>\n",
       "<text text-anchor=\"middle\" x=\"299.581\" y=\"-70.9536\" font-family=\"Times,serif\" font-size=\"14.00\"> d</text>\n",
       "</g>\n",
       "</g>\n",
       "</svg>\n"
      ],
      "text/plain": [
       "<graphviz.dot.Digraph at 0x106a64e80>"
      ]
     },
     "execution_count": 54,
     "metadata": {},
     "output_type": "execute_result"
    }
   ],
   "source": [
    "dotObj_dfa(dfaMQ0, FuseEdges=True)"
   ]
  },
  {
   "cell_type": "code",
   "execution_count": 55,
   "metadata": {
    "run_control": {
     "frozen": false,
     "read_only": false
    }
   },
   "outputs": [
    {
     "data": {
      "image/svg+xml": [
       "<?xml version=\"1.0\" encoding=\"UTF-8\" standalone=\"no\"?>\n",
       "<!DOCTYPE svg PUBLIC \"-//W3C//DTD SVG 1.1//EN\"\n",
       " \"http://www.w3.org/Graphics/SVG/1.1/DTD/svg11.dtd\">\n",
       "<!-- Generated by graphviz version 2.38.0 (20140413.2041)\n",
       " -->\n",
       "<!-- Title: %3 Pages: 1 -->\n",
       "<svg width=\"330pt\" height=\"340pt\"\n",
       " viewBox=\"0.00 0.00 330.42 339.66\" xmlns=\"http://www.w3.org/2000/svg\" xmlns:xlink=\"http://www.w3.org/1999/xlink\">\n",
       "<g id=\"graph0\" class=\"graph\" transform=\"scale(1 1) rotate(0) translate(4 335.658)\">\n",
       "<title>%3</title>\n",
       "<polygon fill=\"white\" stroke=\"none\" points=\"-4,4 -4,-335.658 326.423,-335.658 326.423,4 -4,4\"/>\n",
       "<!-- EMPTY -->\n",
       "<g id=\"node1\" class=\"node\"><title>EMPTY</title>\n",
       "</g>\n",
       "<!-- St1 -->\n",
       "<g id=\"node2\" class=\"node\"><title>St1</title>\n",
       "<ellipse fill=\"none\" stroke=\"black\" cx=\"205.712\" cy=\"-207.658\" rx=\"21.8081\" ry=\"21.8081\"/>\n",
       "<text text-anchor=\"middle\" x=\"205.712\" y=\"-203.458\" font-family=\"Times,serif\" font-size=\"14.00\">St1</text>\n",
       "</g>\n",
       "<!-- EMPTY&#45;&gt;St1 -->\n",
       "<g id=\"edge1\" class=\"edge\"><title>EMPTY&#45;&gt;St1</title>\n",
       "<path fill=\"none\" stroke=\"black\" d=\"M54.1601,-307.507C84.1626,-299.327 133.377,-282.328 165.808,-252.658 172.489,-246.545 179.158,-239.34 185.039,-232.509\"/>\n",
       "<polygon fill=\"black\" stroke=\"black\" points=\"187.8,-234.663 191.534,-224.748 182.432,-230.171 187.8,-234.663\"/>\n",
       "</g>\n",
       "<!-- St0 -->\n",
       "<g id=\"node5\" class=\"node\"><title>St0</title>\n",
       "<ellipse fill=\"none\" stroke=\"black\" cx=\"118.904\" cy=\"-156.658\" rx=\"21.8081\" ry=\"21.8081\"/>\n",
       "<text text-anchor=\"middle\" x=\"118.904\" y=\"-152.458\" font-family=\"Times,serif\" font-size=\"14.00\">St0</text>\n",
       "</g>\n",
       "<!-- EMPTY&#45;&gt;St0 -->\n",
       "<g id=\"edge2\" class=\"edge\"><title>EMPTY&#45;&gt;St0</title>\n",
       "<path fill=\"none\" stroke=\"black\" d=\"M42.3187,-295.51C46.2784,-290.198 50.4577,-284.299 54,-278.658 73.3073,-247.911 92.193,-210.717 104.365,-185.541\"/>\n",
       "<polygon fill=\"black\" stroke=\"black\" points=\"107.679,-186.725 108.842,-176.194 101.366,-183.701 107.679,-186.725\"/>\n",
       "</g>\n",
       "<!-- St4 -->\n",
       "<g id=\"node6\" class=\"node\"><title>St4</title>\n",
       "<ellipse fill=\"none\" stroke=\"black\" cx=\"296.519\" cy=\"-64.658\" rx=\"21.8229\" ry=\"21.8229\"/>\n",
       "<ellipse fill=\"none\" stroke=\"black\" cx=\"296.519\" cy=\"-64.658\" rx=\"25.8081\" ry=\"25.8081\"/>\n",
       "<text text-anchor=\"middle\" x=\"296.519\" y=\"-60.458\" font-family=\"Times,serif\" font-size=\"14.00\">St4</text>\n",
       "</g>\n",
       "<!-- St1&#45;&gt;St4 -->\n",
       "<g id=\"edge7\" class=\"edge\"><title>St1&#45;&gt;St4</title>\n",
       "<path fill=\"none\" stroke=\"black\" d=\"M218.14,-189.256C232.935,-165.433 258.92,-123.592 276.66,-95.0252\"/>\n",
       "<polygon fill=\"black\" stroke=\"black\" points=\"279.803,-96.5982 282.106,-86.2565 273.857,-92.9051 279.803,-96.5982\"/>\n",
       "<text text-anchor=\"middle\" x=\"249.115\" y=\"-148.458\" font-family=\"Times,serif\" font-size=\"14.00\">c</text>\n",
       "</g>\n",
       "<!-- St2 -->\n",
       "<g id=\"node3\" class=\"node\"><title>St2</title>\n",
       "<ellipse fill=\"none\" stroke=\"black\" cx=\"205.712\" cy=\"-65.658\" rx=\"21.8081\" ry=\"21.8081\"/>\n",
       "<text text-anchor=\"middle\" x=\"205.712\" y=\"-61.458\" font-family=\"Times,serif\" font-size=\"14.00\">St2</text>\n",
       "</g>\n",
       "<!-- St2&#45;&gt;St4 -->\n",
       "<g id=\"edge8\" class=\"edge\"><title>St2&#45;&gt;St4</title>\n",
       "<path fill=\"none\" stroke=\"black\" d=\"M225.129,-55.1532C231.423,-52.1092 238.638,-49.1939 245.615,-47.658 251.685,-46.3219 258.047,-46.8907 264.117,-48.4479\"/>\n",
       "<polygon fill=\"black\" stroke=\"black\" points=\"263.362,-51.8897 273.957,-51.84 265.644,-45.2719 263.362,-51.8897\"/>\n",
       "<text text-anchor=\"middle\" x=\"249.115\" y=\"-50.458\" font-family=\"Times,serif\" font-size=\"14.00\">a</text>\n",
       "</g>\n",
       "<!-- St2&#45;&gt;St4 -->\n",
       "<g id=\"edge9\" class=\"edge\"><title>St2&#45;&gt;St4</title>\n",
       "<path fill=\"none\" stroke=\"black\" d=\"M227.758,-65.421C237.475,-65.3116 249.279,-65.1787 260.295,-65.0547\"/>\n",
       "<polygon fill=\"black\" stroke=\"black\" points=\"260.561,-68.552 270.521,-64.9395 260.482,-61.5524 260.561,-68.552\"/>\n",
       "<text text-anchor=\"middle\" x=\"249.115\" y=\"-68.458\" font-family=\"Times,serif\" font-size=\"14.00\">b</text>\n",
       "</g>\n",
       "<!-- St3 -->\n",
       "<g id=\"node4\" class=\"node\"><title>St3</title>\n",
       "<ellipse fill=\"none\" stroke=\"black\" cx=\"27\" cy=\"-119.658\" rx=\"21.8081\" ry=\"21.8081\"/>\n",
       "<text text-anchor=\"middle\" x=\"27\" y=\"-115.458\" font-family=\"Times,serif\" font-size=\"14.00\">St3</text>\n",
       "</g>\n",
       "<!-- St3&#45;&gt;St1 -->\n",
       "<g id=\"edge14\" class=\"edge\"><title>St3&#45;&gt;St1</title>\n",
       "<path fill=\"none\" stroke=\"black\" d=\"M29.7654,-141.556C33.166,-168.347 43.0907,-213.046 72,-236.658 104.291,-263.032 127.4,-252.879 165.808,-236.658 170.821,-234.541 175.78,-231.646 180.395,-228.5\"/>\n",
       "<polygon fill=\"black\" stroke=\"black\" points=\"182.827,-231.054 188.767,-222.281 178.652,-225.435 182.827,-231.054\"/>\n",
       "<text text-anchor=\"middle\" x=\"118.904\" y=\"-255.458\" font-family=\"Times,serif\" font-size=\"14.00\">a</text>\n",
       "</g>\n",
       "<!-- St3&#45;&gt;St1 -->\n",
       "<g id=\"edge21\" class=\"edge\"><title>St3&#45;&gt;St1</title>\n",
       "<path fill=\"none\" stroke=\"black\" d=\"M34.894,-140.33C41.6144,-157.056 53.5494,-179.724 72,-191.658 102.41,-211.328 145.064,-212.962 173.731,-211.24\"/>\n",
       "<polygon fill=\"black\" stroke=\"black\" points=\"174.279,-214.708 183.979,-210.446 173.738,-207.729 174.279,-214.708\"/>\n",
       "<text text-anchor=\"middle\" x=\"118.904\" y=\"-214.458\" font-family=\"Times,serif\" font-size=\"14.00\">b</text>\n",
       "</g>\n",
       "<!-- St3&#45;&gt;St2 -->\n",
       "<g id=\"edge13\" class=\"edge\"><title>St3&#45;&gt;St2</title>\n",
       "<path fill=\"none\" stroke=\"black\" d=\"M33.5542,-98.6121C42.0052,-71.777 61.0476,-27.2246 97,-13.658 115.216,-6.78414 122.462,-7.137 140.808,-13.658 157.014,-19.4187 172.095,-31.2409 183.533,-42.1591\"/>\n",
       "<polygon fill=\"black\" stroke=\"black\" points=\"181.299,-44.8761 190.838,-49.4878 186.257,-39.9344 181.299,-44.8761\"/>\n",
       "<text text-anchor=\"middle\" x=\"118.904\" y=\"-16.458\" font-family=\"Times,serif\" font-size=\"14.00\">a</text>\n",
       "</g>\n",
       "<!-- St3&#45;&gt;St2 -->\n",
       "<g id=\"edge20\" class=\"edge\"><title>St3&#45;&gt;St2</title>\n",
       "<path fill=\"none\" stroke=\"black\" d=\"M45.8041,-107.913C53.5826,-103.218 62.9754,-98.116 72,-94.658 105.634,-81.7703 146.371,-73.9383 173.765,-69.7166\"/>\n",
       "<polygon fill=\"black\" stroke=\"black\" points=\"174.537,-73.1409 183.921,-68.2229 173.518,-66.2154 174.537,-73.1409\"/>\n",
       "<text text-anchor=\"middle\" x=\"118.904\" y=\"-89.458\" font-family=\"Times,serif\" font-size=\"14.00\">b</text>\n",
       "</g>\n",
       "<!-- St3&#45;&gt;St3 -->\n",
       "<g id=\"edge10\" class=\"edge\"><title>St3&#45;&gt;St3</title>\n",
       "<path fill=\"none\" stroke=\"black\" d=\"M24.7769,-141.817C24.5949,-151.377 25.3359,-159.562 27,-159.562 28.014,-159.562 28.6853,-156.522 29.0138,-151.985\"/>\n",
       "<polygon fill=\"black\" stroke=\"black\" points=\"32.5165,-151.887 29.2231,-141.817 25.518,-151.743 32.5165,-151.887\"/>\n",
       "<text text-anchor=\"middle\" x=\"27\" y=\"-162.362\" font-family=\"Times,serif\" font-size=\"14.00\">c</text>\n",
       "</g>\n",
       "<!-- St3&#45;&gt;St3 -->\n",
       "<g id=\"edge12\" class=\"edge\"><title>St3&#45;&gt;St3</title>\n",
       "<path fill=\"none\" stroke=\"black\" d=\"M23.1595,-141.339C21.5714,-159.108 22.8516,-177.562 27,-177.562 30.3382,-177.562 31.8191,-165.613 31.4428,-151.687\"/>\n",
       "<polygon fill=\"black\" stroke=\"black\" points=\"34.9158,-151.119 30.8405,-141.339 27.9276,-151.526 34.9158,-151.119\"/>\n",
       "<text text-anchor=\"middle\" x=\"27\" y=\"-180.362\" font-family=\"Times,serif\" font-size=\"14.00\">a</text>\n",
       "</g>\n",
       "<!-- St3&#45;&gt;St3 -->\n",
       "<g id=\"edge16\" class=\"edge\"><title>St3&#45;&gt;St3</title>\n",
       "<path fill=\"none\" stroke=\"black\" d=\"M22.0994,-141.027C18.511,-166.202 20.1445,-195.562 27,-195.562 32.945,-195.562 34.963,-173.482 33.054,-151.201\"/>\n",
       "<polygon fill=\"black\" stroke=\"black\" points=\"36.505,-150.569 31.9006,-141.027 29.5495,-151.358 36.505,-150.569\"/>\n",
       "<text text-anchor=\"middle\" x=\"27\" y=\"-198.362\" font-family=\"Times,serif\" font-size=\"14.00\">d</text>\n",
       "</g>\n",
       "<!-- St3&#45;&gt;St3 -->\n",
       "<g id=\"edge19\" class=\"edge\"><title>St3&#45;&gt;St3</title>\n",
       "<path fill=\"none\" stroke=\"black\" d=\"M21.342,-140.881C15.4578,-173.025 17.3438,-213.562 27,-213.562 35.6755,-213.562 38.079,-180.841 34.2104,-150.884\"/>\n",
       "<polygon fill=\"black\" stroke=\"black\" points=\"37.6503,-150.226 32.658,-140.881 30.7331,-151.3 37.6503,-150.226\"/>\n",
       "<text text-anchor=\"middle\" x=\"27\" y=\"-216.362\" font-family=\"Times,serif\" font-size=\"14.00\">b</text>\n",
       "</g>\n",
       "<!-- St3&#45;&gt;St0 -->\n",
       "<g id=\"edge11\" class=\"edge\"><title>St3&#45;&gt;St0</title>\n",
       "<path fill=\"none\" stroke=\"black\" d=\"M38.3225,-138.763C45.9035,-150.638 57.4096,-164.891 72,-171.658 77.8898,-174.39 84.4166,-174.096 90.6561,-172.358\"/>\n",
       "<polygon fill=\"black\" stroke=\"black\" points=\"92.0559,-175.569 100.092,-168.664 89.504,-169.05 92.0559,-175.569\"/>\n",
       "<text text-anchor=\"middle\" x=\"75.5\" y=\"-176.458\" font-family=\"Times,serif\" font-size=\"14.00\">c</text>\n",
       "</g>\n",
       "<!-- St3&#45;&gt;St0 -->\n",
       "<g id=\"edge15\" class=\"edge\"><title>St3&#45;&gt;St0</title>\n",
       "<path fill=\"none\" stroke=\"black\" d=\"M47.5078,-127.686C59.6424,-132.68 75.4655,-139.192 89.0359,-144.777\"/>\n",
       "<polygon fill=\"black\" stroke=\"black\" points=\"87.8546,-148.076 98.4341,-148.645 90.5187,-141.603 87.8546,-148.076\"/>\n",
       "<text text-anchor=\"middle\" x=\"75.5\" y=\"-143.458\" font-family=\"Times,serif\" font-size=\"14.00\">a</text>\n",
       "</g>\n",
       "<!-- St3&#45;&gt;St0 -->\n",
       "<g id=\"edge18\" class=\"edge\"><title>St3&#45;&gt;St0</title>\n",
       "<path fill=\"none\" stroke=\"black\" d=\"M49.0238,-116.756C58.4986,-116.273 69.6362,-116.884 79,-120.658 85.652,-123.339 91.8595,-127.724 97.2767,-132.528\"/>\n",
       "<polygon fill=\"black\" stroke=\"black\" points=\"95.0164,-135.213 104.608,-139.714 99.9168,-130.215 95.0164,-135.213\"/>\n",
       "<text text-anchor=\"middle\" x=\"75.5\" y=\"-123.458\" font-family=\"Times,serif\" font-size=\"14.00\">d</text>\n",
       "</g>\n",
       "<!-- St3&#45;&gt;St0 -->\n",
       "<g id=\"edge22\" class=\"edge\"><title>St3&#45;&gt;St0</title>\n",
       "<path fill=\"none\" stroke=\"black\" d=\"M44.9919,-106.244C55.1337,-99.9547 68.1151,-94.9661 79,-100.658 90.1157,-106.471 98.6947,-117.065 104.933,-127.488\"/>\n",
       "<polygon fill=\"black\" stroke=\"black\" points=\"101.967,-129.362 109.816,-136.478 108.118,-126.02 101.967,-129.362\"/>\n",
       "<text text-anchor=\"middle\" x=\"75.5\" y=\"-103.458\" font-family=\"Times,serif\" font-size=\"14.00\">b</text>\n",
       "</g>\n",
       "<!-- St3&#45;&gt;St4 -->\n",
       "<g id=\"edge17\" class=\"edge\"><title>St3&#45;&gt;St4</title>\n",
       "<path fill=\"none\" stroke=\"black\" d=\"M31.954,-98.2274C38.9063,-68.1547 56.6107,-15.8452 97,-4.65803 157.392,12.0695 227.427,-21.6815 266.078,-45.0052\"/>\n",
       "<polygon fill=\"black\" stroke=\"black\" points=\"264.405,-48.0859 274.748,-50.3823 268.094,-42.1371 264.405,-48.0859\"/>\n",
       "<text text-anchor=\"middle\" x=\"162.308\" y=\"-6.45803\" font-family=\"Times,serif\" font-size=\"14.00\">d</text>\n",
       "</g>\n",
       "<!-- St0&#45;&gt;St1 -->\n",
       "<g id=\"edge3\" class=\"edge\"><title>St0&#45;&gt;St1</title>\n",
       "<path fill=\"none\" stroke=\"black\" d=\"M138.306,-167.724C149.831,-174.655 164.883,-183.707 177.743,-191.44\"/>\n",
       "<polygon fill=\"black\" stroke=\"black\" points=\"176.263,-194.634 186.637,-196.789 179.871,-188.636 176.263,-194.634\"/>\n",
       "<text text-anchor=\"middle\" x=\"162.308\" y=\"-187.458\" font-family=\"Times,serif\" font-size=\"14.00\">c</text>\n",
       "</g>\n",
       "<!-- St0&#45;&gt;St1 -->\n",
       "<g id=\"edge5\" class=\"edge\"><title>St0&#45;&gt;St1</title>\n",
       "<path fill=\"none\" stroke=\"black\" d=\"M140.989,-156.264C149.147,-156.896 158.307,-158.619 165.808,-162.658 173.912,-167.022 181.088,-173.801 187.001,-180.786\"/>\n",
       "<polygon fill=\"black\" stroke=\"black\" points=\"184.442,-183.197 193.341,-188.946 189.97,-178.902 184.442,-183.197\"/>\n",
       "<text text-anchor=\"middle\" x=\"162.308\" y=\"-165.458\" font-family=\"Times,serif\" font-size=\"14.00\">d</text>\n",
       "</g>\n",
       "<!-- St0&#45;&gt;St2 -->\n",
       "<g id=\"edge4\" class=\"edge\"><title>St0&#45;&gt;St2</title>\n",
       "<path fill=\"none\" stroke=\"black\" d=\"M134.676,-140.807C148.053,-126.453 167.928,-105.127 183.092,-88.8562\"/>\n",
       "<polygon fill=\"black\" stroke=\"black\" points=\"185.851,-91.0292 190.108,-81.3274 180.73,-86.2568 185.851,-91.0292\"/>\n",
       "<text text-anchor=\"middle\" x=\"162.308\" y=\"-117.458\" font-family=\"Times,serif\" font-size=\"14.00\">c</text>\n",
       "</g>\n",
       "<!-- St0&#45;&gt;St2 -->\n",
       "<g id=\"edge6\" class=\"edge\"><title>St0&#45;&gt;St2</title>\n",
       "<path fill=\"none\" stroke=\"black\" d=\"M128.239,-136.559C134.891,-122.39 145.323,-103.692 158.808,-90.658 163.689,-85.9396 169.638,-81.8439 175.613,-78.41\"/>\n",
       "<polygon fill=\"black\" stroke=\"black\" points=\"177.637,-81.3012 184.875,-73.564 174.392,-75.0988 177.637,-81.3012\"/>\n",
       "<text text-anchor=\"middle\" x=\"162.308\" y=\"-93.458\" font-family=\"Times,serif\" font-size=\"14.00\">d</text>\n",
       "</g>\n",
       "</g>\n",
       "</svg>\n"
      ],
      "text/plain": [
       "<graphviz.dot.Digraph at 0x106a6f0b8>"
      ]
     },
     "execution_count": 55,
     "metadata": {},
     "output_type": "execute_result"
    }
   ],
   "source": [
    "dotObj_nfa(rev_dfa(dfaMQ0))"
   ]
  },
  {
   "cell_type": "code",
   "execution_count": 56,
   "metadata": {
    "run_control": {
     "frozen": false,
     "read_only": false
    }
   },
   "outputs": [
    {
     "data": {
      "image/svg+xml": [
       "<?xml version=\"1.0\" encoding=\"UTF-8\" standalone=\"no\"?>\n",
       "<!DOCTYPE svg PUBLIC \"-//W3C//DTD SVG 1.1//EN\"\n",
       " \"http://www.w3.org/Graphics/SVG/1.1/DTD/svg11.dtd\">\n",
       "<!-- Generated by graphviz version 2.38.0 (20140413.2041)\n",
       " -->\n",
       "<!-- Title: %3 Pages: 1 -->\n",
       "<svg width=\"346pt\" height=\"250pt\"\n",
       " viewBox=\"0.00 0.00 346.42 249.90\" xmlns=\"http://www.w3.org/2000/svg\" xmlns:xlink=\"http://www.w3.org/1999/xlink\">\n",
       "<g id=\"graph0\" class=\"graph\" transform=\"scale(1 1) rotate(0) translate(4 245.904)\">\n",
       "<title>%3</title>\n",
       "<polygon fill=\"white\" stroke=\"none\" points=\"-4,4 -4,-245.904 342.423,-245.904 342.423,4 -4,4\"/>\n",
       "<!-- EMPTY -->\n",
       "<g id=\"node1\" class=\"node\"><title>EMPTY</title>\n",
       "</g>\n",
       "<!-- St1 -->\n",
       "<g id=\"node2\" class=\"node\"><title>St1</title>\n",
       "<ellipse fill=\"none\" stroke=\"black\" cx=\"218.212\" cy=\"-77\" rx=\"21.8081\" ry=\"21.8081\"/>\n",
       "<text text-anchor=\"middle\" x=\"218.212\" y=\"-72.8\" font-family=\"Times,serif\" font-size=\"14.00\">St1</text>\n",
       "</g>\n",
       "<!-- EMPTY&#45;&gt;St1 -->\n",
       "<g id=\"edge1\" class=\"edge\"><title>EMPTY&#45;&gt;St1</title>\n",
       "<path fill=\"none\" stroke=\"black\" d=\"M55.0557,-16.6718C86.3241,-16.2294 139.399,-19.228 178.308,-41 184.459,-44.4418 190.411,-49.0467 195.734,-53.8106\"/>\n",
       "<polygon fill=\"black\" stroke=\"black\" points=\"193.384,-56.4064 203.031,-60.787 198.222,-51.3467 193.384,-56.4064\"/>\n",
       "</g>\n",
       "<!-- St0 -->\n",
       "<g id=\"node5\" class=\"node\"><title>St0</title>\n",
       "<ellipse fill=\"none\" stroke=\"black\" cx=\"127.904\" cy=\"-123\" rx=\"21.8081\" ry=\"21.8081\"/>\n",
       "<text text-anchor=\"middle\" x=\"127.904\" y=\"-118.8\" font-family=\"Times,serif\" font-size=\"14.00\">St0</text>\n",
       "</g>\n",
       "<!-- EMPTY&#45;&gt;St0 -->\n",
       "<g id=\"edge2\" class=\"edge\"><title>EMPTY&#45;&gt;St0</title>\n",
       "<path fill=\"none\" stroke=\"black\" d=\"M46.0536,-36.2896C62.5213,-53.9509 87.5195,-80.761 105.356,-99.8905\"/>\n",
       "<polygon fill=\"black\" stroke=\"black\" points=\"102.9,-102.389 112.28,-107.316 108.02,-97.6151 102.9,-102.389\"/>\n",
       "</g>\n",
       "<!-- St4 -->\n",
       "<g id=\"node6\" class=\"node\"><title>St4</title>\n",
       "<ellipse fill=\"none\" stroke=\"black\" cx=\"312.519\" cy=\"-150\" rx=\"21.8229\" ry=\"21.8229\"/>\n",
       "<ellipse fill=\"none\" stroke=\"black\" cx=\"312.519\" cy=\"-150\" rx=\"25.8081\" ry=\"25.8081\"/>\n",
       "<text text-anchor=\"middle\" x=\"312.519\" y=\"-145.8\" font-family=\"Times,serif\" font-size=\"14.00\">St4</text>\n",
       "</g>\n",
       "<!-- St1&#45;&gt;St4 -->\n",
       "<g id=\"edge5\" class=\"edge\"><title>St1&#45;&gt;St4</title>\n",
       "<path fill=\"none\" stroke=\"black\" d=\"M236.142,-90.3893C249.405,-100.878 268.136,-115.691 283.608,-127.927\"/>\n",
       "<polygon fill=\"black\" stroke=\"black\" points=\"281.798,-130.957 291.813,-134.415 286.14,-125.467 281.798,-130.957\"/>\n",
       "<text text-anchor=\"middle\" x=\"263.365\" y=\"-118.8\" font-family=\"Times,serif\" font-size=\"14.00\">c</text>\n",
       "</g>\n",
       "<!-- St2 -->\n",
       "<g id=\"node3\" class=\"node\"><title>St2</title>\n",
       "<ellipse fill=\"none\" stroke=\"black\" cx=\"218.212\" cy=\"-150\" rx=\"21.8081\" ry=\"21.8081\"/>\n",
       "<text text-anchor=\"middle\" x=\"218.212\" y=\"-145.8\" font-family=\"Times,serif\" font-size=\"14.00\">St2</text>\n",
       "</g>\n",
       "<!-- St2&#45;&gt;St4 -->\n",
       "<g id=\"edge6\" class=\"edge\"><title>St2&#45;&gt;St4</title>\n",
       "<path fill=\"none\" stroke=\"black\" d=\"M240.158,-150C250.772,-150 263.952,-150 276.086,-150\"/>\n",
       "<polygon fill=\"black\" stroke=\"black\" points=\"276.389,-153.5 286.389,-150 276.389,-146.5 276.389,-153.5\"/>\n",
       "<text text-anchor=\"middle\" x=\"263.365\" y=\"-166.8\" font-family=\"Times,serif\" font-size=\"14.00\">a </text>\n",
       "<text text-anchor=\"middle\" x=\"263.365\" y=\"-152.8\" font-family=\"Times,serif\" font-size=\"14.00\"> b</text>\n",
       "</g>\n",
       "<!-- St3 -->\n",
       "<g id=\"node4\" class=\"node\"><title>St3</title>\n",
       "<ellipse fill=\"none\" stroke=\"black\" cx=\"28\" cy=\"-146\" rx=\"21.8081\" ry=\"21.8081\"/>\n",
       "<text text-anchor=\"middle\" x=\"28\" y=\"-141.8\" font-family=\"Times,serif\" font-size=\"14.00\">St3</text>\n",
       "</g>\n",
       "<!-- St3&#45;&gt;St1 -->\n",
       "<g id=\"edge10\" class=\"edge\"><title>St3&#45;&gt;St1</title>\n",
       "<path fill=\"none\" stroke=\"black\" d=\"M39.8277,-127.495C52.7048,-107.531 76.2486,-76.8749 106,-64 132.108,-52.7017 164.709,-58.5692 187.848,-65.6687\"/>\n",
       "<polygon fill=\"black\" stroke=\"black\" points=\"186.854,-69.0264 197.447,-68.8499 189.056,-62.3817 186.854,-69.0264\"/>\n",
       "<text text-anchor=\"middle\" x=\"127.904\" y=\"-80.8\" font-family=\"Times,serif\" font-size=\"14.00\">a </text>\n",
       "<text text-anchor=\"middle\" x=\"127.904\" y=\"-66.8\" font-family=\"Times,serif\" font-size=\"14.00\"> b</text>\n",
       "</g>\n",
       "<!-- St3&#45;&gt;St2 -->\n",
       "<g id=\"edge9\" class=\"edge\"><title>St3&#45;&gt;St2</title>\n",
       "<path fill=\"none\" stroke=\"black\" d=\"M47.121,-157.201C55.0614,-161.479 64.6804,-165.844 74,-168 119.166,-178.45 133.033,-177.966 178.308,-168 182.014,-167.184 185.788,-165.979 189.455,-164.572\"/>\n",
       "<polygon fill=\"black\" stroke=\"black\" points=\"191.023,-167.707 198.794,-160.505 188.228,-161.289 191.023,-167.707\"/>\n",
       "<text text-anchor=\"middle\" x=\"127.904\" y=\"-192.8\" font-family=\"Times,serif\" font-size=\"14.00\">a </text>\n",
       "<text text-anchor=\"middle\" x=\"127.904\" y=\"-178.8\" font-family=\"Times,serif\" font-size=\"14.00\"> b</text>\n",
       "</g>\n",
       "<!-- St3&#45;&gt;St3 -->\n",
       "<g id=\"edge7\" class=\"edge\"><title>St3&#45;&gt;St3</title>\n",
       "<path fill=\"none\" stroke=\"black\" d=\"M18.5928,-166.121C17.1455,-176.525 20.2812,-185.904 28,-185.904 33.0654,-185.904 36.1571,-181.865 37.2751,-176.148\"/>\n",
       "<polygon fill=\"black\" stroke=\"black\" points=\"40.775,-176.166 37.4072,-166.121 33.7756,-176.074 40.775,-176.166\"/>\n",
       "<text text-anchor=\"middle\" x=\"28\" y=\"-230.704\" font-family=\"Times,serif\" font-size=\"14.00\">c </text>\n",
       "<text text-anchor=\"middle\" x=\"28\" y=\"-216.704\" font-family=\"Times,serif\" font-size=\"14.00\"> a </text>\n",
       "<text text-anchor=\"middle\" x=\"28\" y=\"-202.704\" font-family=\"Times,serif\" font-size=\"14.00\"> d </text>\n",
       "<text text-anchor=\"middle\" x=\"28\" y=\"-188.704\" font-family=\"Times,serif\" font-size=\"14.00\"> b</text>\n",
       "</g>\n",
       "<!-- St3&#45;&gt;St0 -->\n",
       "<g id=\"edge8\" class=\"edge\"><title>St3&#45;&gt;St0</title>\n",
       "<path fill=\"none\" stroke=\"black\" d=\"M44.1742,-130.571C52.2755,-123.44 62.8595,-115.735 74,-112 81.545,-109.47 89.8986,-109.825 97.6965,-111.43\"/>\n",
       "<polygon fill=\"black\" stroke=\"black\" points=\"96.943,-114.852 107.513,-114.123 98.7951,-108.102 96.943,-114.852\"/>\n",
       "<text text-anchor=\"middle\" x=\"81\" y=\"-156.8\" font-family=\"Times,serif\" font-size=\"14.00\">c </text>\n",
       "<text text-anchor=\"middle\" x=\"81\" y=\"-142.8\" font-family=\"Times,serif\" font-size=\"14.00\"> a </text>\n",
       "<text text-anchor=\"middle\" x=\"81\" y=\"-128.8\" font-family=\"Times,serif\" font-size=\"14.00\"> d </text>\n",
       "<text text-anchor=\"middle\" x=\"81\" y=\"-114.8\" font-family=\"Times,serif\" font-size=\"14.00\"> b</text>\n",
       "</g>\n",
       "<!-- St3&#45;&gt;St4 -->\n",
       "<g id=\"edge11\" class=\"edge\"><title>St3&#45;&gt;St4</title>\n",
       "<path fill=\"none\" stroke=\"black\" d=\"M42.9027,-162.531C56.9728,-177.817 80.2741,-199.425 106,-208 151.769,-223.256 260.889,-185.526 268.615,-182 274.031,-179.528 279.423,-176.29 284.464,-172.823\"/>\n",
       "<polygon fill=\"black\" stroke=\"black\" points=\"286.577,-175.614 292.558,-166.868 282.429,-169.975 286.577,-175.614\"/>\n",
       "<text text-anchor=\"middle\" x=\"173.058\" y=\"-211.8\" font-family=\"Times,serif\" font-size=\"14.00\">d</text>\n",
       "</g>\n",
       "<!-- St0&#45;&gt;St1 -->\n",
       "<g id=\"edge3\" class=\"edge\"><title>St0&#45;&gt;St1</title>\n",
       "<path fill=\"none\" stroke=\"black\" d=\"M147.632,-113.245C159.808,-106.902 175.897,-98.5208 189.537,-91.4157\"/>\n",
       "<polygon fill=\"black\" stroke=\"black\" points=\"191.259,-94.4654 198.511,-86.7414 188.025,-88.2571 191.259,-94.4654\"/>\n",
       "<text text-anchor=\"middle\" x=\"173.058\" y=\"-118.8\" font-family=\"Times,serif\" font-size=\"14.00\">c </text>\n",
       "<text text-anchor=\"middle\" x=\"173.058\" y=\"-104.8\" font-family=\"Times,serif\" font-size=\"14.00\"> d</text>\n",
       "</g>\n",
       "<!-- St0&#45;&gt;St2 -->\n",
       "<g id=\"edge4\" class=\"edge\"><title>St0&#45;&gt;St2</title>\n",
       "<path fill=\"none\" stroke=\"black\" d=\"M148.942,-129.127C160.266,-132.589 174.641,-136.984 187.277,-140.848\"/>\n",
       "<polygon fill=\"black\" stroke=\"black\" points=\"186.36,-144.227 196.947,-143.804 188.407,-137.533 186.36,-144.227\"/>\n",
       "<text text-anchor=\"middle\" x=\"173.058\" y=\"-155.8\" font-family=\"Times,serif\" font-size=\"14.00\">c </text>\n",
       "<text text-anchor=\"middle\" x=\"173.058\" y=\"-141.8\" font-family=\"Times,serif\" font-size=\"14.00\"> d</text>\n",
       "</g>\n",
       "</g>\n",
       "</svg>\n"
      ],
      "text/plain": [
       "<graphviz.dot.Digraph at 0x106a6f438>"
      ]
     },
     "execution_count": 56,
     "metadata": {},
     "output_type": "execute_result"
    }
   ],
   "source": [
    "dotObj_nfa(rev_dfa(dfaMQ0), FuseEdges=True)"
   ]
  },
  {
   "cell_type": "code",
   "execution_count": 57,
   "metadata": {
    "run_control": {
     "frozen": false,
     "read_only": false
    }
   },
   "outputs": [
    {
     "name": "stdout",
     "output_type": "stream",
     "text": [
      "Help on function min_dfa_brz in module jove.Def_NFA:\n",
      "\n",
      "min_dfa_brz(D)\n",
      "    Minimize a DFA as per Brzozowski's algorithm.\n",
      "\n"
     ]
    }
   ],
   "source": [
    "help(min_dfa_brz)"
   ]
  },
  {
   "cell_type": "code",
   "execution_count": 58,
   "metadata": {
    "run_control": {
     "frozen": false,
     "read_only": false
    }
   },
   "outputs": [
    {
     "data": {
      "image/svg+xml": [
       "<?xml version=\"1.0\" encoding=\"UTF-8\" standalone=\"no\"?>\n",
       "<!DOCTYPE svg PUBLIC \"-//W3C//DTD SVG 1.1//EN\"\n",
       " \"http://www.w3.org/Graphics/SVG/1.1/DTD/svg11.dtd\">\n",
       "<!-- Generated by graphviz version 2.38.0 (20140413.2041)\n",
       " -->\n",
       "<!-- Title: %3 Pages: 1 -->\n",
       "<svg width=\"368pt\" height=\"160pt\"\n",
       " viewBox=\"0.00 0.00 367.83 159.97\" xmlns=\"http://www.w3.org/2000/svg\" xmlns:xlink=\"http://www.w3.org/1999/xlink\">\n",
       "<g id=\"graph0\" class=\"graph\" transform=\"scale(1 1) rotate(0) translate(4 155.967)\">\n",
       "<title>%3</title>\n",
       "<polygon fill=\"white\" stroke=\"none\" points=\"-4,4 -4,-155.967 363.831,-155.967 363.831,4 -4,4\"/>\n",
       "<!-- EMPTY -->\n",
       "<g id=\"node1\" class=\"node\"><title>EMPTY</title>\n",
       "</g>\n",
       "<!-- I0_I1 -->\n",
       "<g id=\"node2\" class=\"node\"><title>I0_I1</title>\n",
       "<ellipse fill=\"none\" stroke=\"black\" cx=\"120.262\" cy=\"-88.1536\" rx=\"29.0257\" ry=\"29.0257\"/>\n",
       "<text text-anchor=\"middle\" x=\"120.262\" y=\"-83.9536\" font-family=\"Times,serif\" font-size=\"14.00\">I0_I1</text>\n",
       "</g>\n",
       "<!-- EMPTY&#45;&gt;I0_I1 -->\n",
       "<g id=\"edge1\" class=\"edge\"><title>EMPTY&#45;&gt;I0_I1</title>\n",
       "<path fill=\"none\" stroke=\"black\" d=\"M54.3967,-88.1536C62.5695,-88.1536 71.7499,-88.1536 80.5754,-88.1536\"/>\n",
       "<polygon fill=\"black\" stroke=\"black\" points=\"80.6912,-91.6537 90.6912,-88.1536 80.6911,-84.6537 80.6912,-91.6537\"/>\n",
       "</g>\n",
       "<!-- A_B -->\n",
       "<g id=\"node3\" class=\"node\"><title>A_B</title>\n",
       "<ellipse fill=\"none\" stroke=\"black\" cx=\"232.677\" cy=\"-125.154\" rx=\"26.6284\" ry=\"26.6284\"/>\n",
       "<text text-anchor=\"middle\" x=\"232.677\" y=\"-120.954\" font-family=\"Times,serif\" font-size=\"14.00\">A_B</text>\n",
       "</g>\n",
       "<!-- I0_I1&#45;&gt;A_B -->\n",
       "<g id=\"edge3\" class=\"edge\"><title>I0_I1&#45;&gt;A_B</title>\n",
       "<path fill=\"none\" stroke=\"black\" d=\"M148.273,-97.2048C162.937,-102.119 181.229,-108.249 196.943,-113.514\"/>\n",
       "<polygon fill=\"black\" stroke=\"black\" points=\"196.24,-116.97 206.834,-116.828 198.464,-110.332 196.24,-116.97\"/>\n",
       "<text text-anchor=\"middle\" x=\"171.024\" y=\"-108.954\" font-family=\"Times,serif\" font-size=\"14.00\">a</text>\n",
       "</g>\n",
       "<!-- I0_I1&#45;&gt;A_B -->\n",
       "<g id=\"edge4\" class=\"edge\"><title>I0_I1&#45;&gt;A_B</title>\n",
       "<path fill=\"none\" stroke=\"black\" d=\"M149.353,-84.4011C157.607,-84.1555 166.556,-84.7465 174.524,-87.1536 184.79,-90.2549 194.901,-95.8722 203.698,-101.853\"/>\n",
       "<polygon fill=\"black\" stroke=\"black\" points=\"201.862,-104.845 212.014,-107.876 205.968,-99.1754 201.862,-104.845\"/>\n",
       "<text text-anchor=\"middle\" x=\"171.024\" y=\"-89.9536\" font-family=\"Times,serif\" font-size=\"14.00\">b</text>\n",
       "</g>\n",
       "<!-- A_B_F -->\n",
       "<g id=\"node5\" class=\"node\"><title>A_B_F</title>\n",
       "<ellipse fill=\"none\" stroke=\"black\" cx=\"232.677\" cy=\"-40.1536\" rx=\"36.2924\" ry=\"36.2924\"/>\n",
       "<ellipse fill=\"none\" stroke=\"black\" cx=\"232.677\" cy=\"-40.1536\" rx=\"40.3078\" ry=\"40.3078\"/>\n",
       "<text text-anchor=\"middle\" x=\"232.677\" y=\"-35.9536\" font-family=\"Times,serif\" font-size=\"14.00\">A_B_F</text>\n",
       "</g>\n",
       "<!-- I0_I1&#45;&gt;A_B_F -->\n",
       "<g id=\"edge2\" class=\"edge\"><title>I0_I1&#45;&gt;A_B_F</title>\n",
       "<path fill=\"none\" stroke=\"black\" d=\"M147.429,-76.7783C159.026,-71.7365 173.014,-65.6557 186.231,-59.9101\"/>\n",
       "<polygon fill=\"black\" stroke=\"black\" points=\"187.898,-63.0019 195.674,-55.8052 185.107,-56.5822 187.898,-63.0019\"/>\n",
       "<text text-anchor=\"middle\" x=\"171.024\" y=\"-69.9536\" font-family=\"Times,serif\" font-size=\"14.00\">c</text>\n",
       "</g>\n",
       "<!-- F -->\n",
       "<g id=\"node4\" class=\"node\"><title>F</title>\n",
       "<ellipse fill=\"none\" stroke=\"black\" cx=\"337.831\" cy=\"-82.1536\" rx=\"18\" ry=\"18\"/>\n",
       "<ellipse fill=\"none\" stroke=\"black\" cx=\"337.831\" cy=\"-82.1536\" rx=\"22\" ry=\"22\"/>\n",
       "<text text-anchor=\"middle\" x=\"337.831\" y=\"-77.9536\" font-family=\"Times,serif\" font-size=\"14.00\">F</text>\n",
       "</g>\n",
       "<!-- A_B&#45;&gt;F -->\n",
       "<g id=\"edge7\" class=\"edge\"><title>A_B&#45;&gt;F</title>\n",
       "<path fill=\"none\" stroke=\"black\" d=\"M259.603,-124.883C271.678,-123.927 285.963,-121.571 297.831,-116.154 303.837,-113.412 309.609,-109.442 314.787,-105.175\"/>\n",
       "<polygon fill=\"black\" stroke=\"black\" points=\"317.277,-107.643 322.381,-98.3592 312.601,-102.434 317.277,-107.643\"/>\n",
       "<text text-anchor=\"middle\" x=\"294.331\" y=\"-121.954\" font-family=\"Times,serif\" font-size=\"14.00\">c</text>\n",
       "</g>\n",
       "<!-- A_B&#45;&gt;F -->\n",
       "<g id=\"edge8\" class=\"edge\"><title>A_B&#45;&gt;F</title>\n",
       "<path fill=\"none\" stroke=\"black\" d=\"M257.062,-113.416C267.313,-108.451 279.555,-102.763 290.831,-98.1536 296.016,-96.0341 301.598,-93.94 307.025,-92.0002\"/>\n",
       "<polygon fill=\"black\" stroke=\"black\" points=\"308.21,-95.2939 316.505,-88.7029 305.91,-88.6824 308.21,-95.2939\"/>\n",
       "<text text-anchor=\"middle\" x=\"294.331\" y=\"-100.954\" font-family=\"Times,serif\" font-size=\"14.00\">d</text>\n",
       "</g>\n",
       "<!-- A_B_F&#45;&gt;F -->\n",
       "<g id=\"edge5\" class=\"edge\"><title>A_B_F&#45;&gt;F</title>\n",
       "<path fill=\"none\" stroke=\"black\" d=\"M270.417,-54.1833C279.411,-57.697 288.991,-61.5062 297.831,-65.1536 301.14,-66.519 304.595,-67.9768 308.02,-69.4431\"/>\n",
       "<polygon fill=\"black\" stroke=\"black\" points=\"306.887,-72.7664 317.455,-73.5279 309.668,-66.3427 306.887,-72.7664\"/>\n",
       "<text text-anchor=\"middle\" x=\"294.331\" y=\"-67.9536\" font-family=\"Times,serif\" font-size=\"14.00\">c</text>\n",
       "</g>\n",
       "<!-- A_B_F&#45;&gt;F -->\n",
       "<g id=\"edge6\" class=\"edge\"><title>A_B_F&#45;&gt;F</title>\n",
       "<path fill=\"none\" stroke=\"black\" d=\"M273.057,-39.0119C281.499,-39.9103 290.175,-41.7491 297.831,-45.1536 304.477,-48.1092 310.692,-52.6946 316.121,-57.6434\"/>\n",
       "<polygon fill=\"black\" stroke=\"black\" points=\"313.93,-60.4029 323.472,-65.0066 318.884,-55.457 313.93,-60.4029\"/>\n",
       "<text text-anchor=\"middle\" x=\"294.331\" y=\"-47.9536\" font-family=\"Times,serif\" font-size=\"14.00\">d</text>\n",
       "</g>\n",
       "</g>\n",
       "</svg>\n"
      ],
      "text/plain": [
       "<graphviz.dot.Digraph at 0x106a6f400>"
      ]
     },
     "execution_count": 58,
     "metadata": {},
     "output_type": "execute_result"
    }
   ],
   "source": [
    "dotObj_dfa(dfaMQ0)"
   ]
  },
  {
   "cell_type": "code",
   "execution_count": null,
   "metadata": {
    "run_control": {
     "frozen": false,
     "read_only": false
    }
   },
   "outputs": [],
   "source": []
  },
  {
   "cell_type": "code",
   "execution_count": 59,
   "metadata": {
    "run_control": {
     "frozen": false,
     "read_only": false
    }
   },
   "outputs": [
    {
     "data": {
      "image/svg+xml": [
       "<?xml version=\"1.0\" encoding=\"UTF-8\" standalone=\"no\"?>\n",
       "<!DOCTYPE svg PUBLIC \"-//W3C//DTD SVG 1.1//EN\"\n",
       " \"http://www.w3.org/Graphics/SVG/1.1/DTD/svg11.dtd\">\n",
       "<!-- Generated by graphviz version 2.38.0 (20140413.2041)\n",
       " -->\n",
       "<!-- Title: %3 Pages: 1 -->\n",
       "<svg width=\"332pt\" height=\"126pt\"\n",
       " viewBox=\"0.00 0.00 332.42 125.81\" xmlns=\"http://www.w3.org/2000/svg\" xmlns:xlink=\"http://www.w3.org/1999/xlink\">\n",
       "<g id=\"graph0\" class=\"graph\" transform=\"scale(1 1) rotate(0) translate(4 121.808)\">\n",
       "<title>%3</title>\n",
       "<polygon fill=\"white\" stroke=\"none\" points=\"-4,4 -4,-121.808 328.423,-121.808 328.423,4 -4,4\"/>\n",
       "<!-- EMPTY -->\n",
       "<g id=\"node1\" class=\"node\"><title>EMPTY</title>\n",
       "</g>\n",
       "<!-- St4 -->\n",
       "<g id=\"node3\" class=\"node\"><title>St4</title>\n",
       "<ellipse fill=\"none\" stroke=\"black\" cx=\"112.904\" cy=\"-62.9039\" rx=\"21.8081\" ry=\"21.8081\"/>\n",
       "<text text-anchor=\"middle\" x=\"112.904\" y=\"-58.7039\" font-family=\"Times,serif\" font-size=\"14.00\">St4</text>\n",
       "</g>\n",
       "<!-- EMPTY&#45;&gt;St4 -->\n",
       "<g id=\"edge1\" class=\"edge\"><title>EMPTY&#45;&gt;St4</title>\n",
       "<path fill=\"none\" stroke=\"black\" d=\"M54.0878,-62.9039C62.501,-62.9039 71.9126,-62.9039 80.6587,-62.9039\"/>\n",
       "<polygon fill=\"black\" stroke=\"black\" points=\"80.8854,-66.404 90.8853,-62.9039 80.8853,-59.404 80.8854,-66.404\"/>\n",
       "</g>\n",
       "<!-- St1 -->\n",
       "<g id=\"node2\" class=\"node\"><title>St1</title>\n",
       "<ellipse fill=\"none\" stroke=\"black\" cx=\"203.712\" cy=\"-95.9039\" rx=\"21.8081\" ry=\"21.8081\"/>\n",
       "<text text-anchor=\"middle\" x=\"203.712\" y=\"-91.7039\" font-family=\"Times,serif\" font-size=\"14.00\">St1</text>\n",
       "</g>\n",
       "<!-- St0 -->\n",
       "<g id=\"node5\" class=\"node\"><title>St0</title>\n",
       "<ellipse fill=\"none\" stroke=\"black\" cx=\"298.519\" cy=\"-60.9039\" rx=\"21.8229\" ry=\"21.8229\"/>\n",
       "<ellipse fill=\"none\" stroke=\"black\" cx=\"298.519\" cy=\"-60.9039\" rx=\"25.8081\" ry=\"25.8081\"/>\n",
       "<text text-anchor=\"middle\" x=\"298.519\" y=\"-56.7039\" font-family=\"Times,serif\" font-size=\"14.00\">St0</text>\n",
       "</g>\n",
       "<!-- St1&#45;&gt;St0 -->\n",
       "<g id=\"edge7\" class=\"edge\"><title>St1&#45;&gt;St0</title>\n",
       "<path fill=\"none\" stroke=\"black\" d=\"M225.648,-98.427C234.789,-98.7888 245.482,-98.187 254.615,-94.9039 260.719,-92.7097 266.618,-89.2688 271.987,-85.402\"/>\n",
       "<polygon fill=\"black\" stroke=\"black\" points=\"274.282,-88.0493 279.942,-79.0929 269.932,-82.5648 274.282,-88.0493\"/>\n",
       "<text text-anchor=\"middle\" x=\"251.115\" y=\"-98.7039\" font-family=\"Times,serif\" font-size=\"14.00\">c</text>\n",
       "</g>\n",
       "<!-- St1&#45;&gt;St0 -->\n",
       "<g id=\"edge8\" class=\"edge\"><title>St1&#45;&gt;St0</title>\n",
       "<path fill=\"none\" stroke=\"black\" d=\"M223.752,-86.9498C231.132,-83.6174 239.697,-79.9167 247.615,-76.9039 252.824,-74.9221 258.397,-72.9727 263.861,-71.1537\"/>\n",
       "<polygon fill=\"black\" stroke=\"black\" points=\"265.042,-74.4503 273.479,-68.0414 262.887,-67.7903 265.042,-74.4503\"/>\n",
       "<text text-anchor=\"middle\" x=\"251.115\" y=\"-79.7039\" font-family=\"Times,serif\" font-size=\"14.00\">d</text>\n",
       "</g>\n",
       "<!-- St4&#45;&gt;St1 -->\n",
       "<g id=\"edge3\" class=\"edge\"><title>St4&#45;&gt;St1</title>\n",
       "<path fill=\"none\" stroke=\"black\" d=\"M133.664,-70.6184C139.789,-72.984 146.568,-75.576 152.808,-77.9039 159.417,-80.3697 166.539,-82.9713 173.275,-85.4068\"/>\n",
       "<polygon fill=\"black\" stroke=\"black\" points=\"172.168,-88.7282 182.763,-88.8208 174.538,-82.1417 172.168,-88.7282\"/>\n",
       "<text text-anchor=\"middle\" x=\"156.308\" y=\"-83.7039\" font-family=\"Times,serif\" font-size=\"14.00\">a</text>\n",
       "</g>\n",
       "<!-- St4&#45;&gt;St1 -->\n",
       "<g id=\"edge4\" class=\"edge\"><title>St4&#45;&gt;St1</title>\n",
       "<path fill=\"none\" stroke=\"black\" d=\"M134.521,-58.0388C142.615,-57.0252 151.853,-57.0085 159.808,-59.9039 167.517,-62.7098 174.805,-67.5768 181.112,-72.8414\"/>\n",
       "<polygon fill=\"black\" stroke=\"black\" points=\"178.783,-75.4543 188.534,-79.5974 183.495,-70.2776 178.783,-75.4543\"/>\n",
       "<text text-anchor=\"middle\" x=\"156.308\" y=\"-62.7039\" font-family=\"Times,serif\" font-size=\"14.00\">b</text>\n",
       "</g>\n",
       "<!-- St3 -->\n",
       "<g id=\"node4\" class=\"node\"><title>St3</title>\n",
       "<ellipse fill=\"none\" stroke=\"black\" cx=\"203.712\" cy=\"-25.9039\" rx=\"21.8229\" ry=\"21.8229\"/>\n",
       "<ellipse fill=\"none\" stroke=\"black\" cx=\"203.712\" cy=\"-25.9039\" rx=\"25.8081\" ry=\"25.8081\"/>\n",
       "<text text-anchor=\"middle\" x=\"203.712\" y=\"-21.7039\" font-family=\"Times,serif\" font-size=\"14.00\">St3</text>\n",
       "</g>\n",
       "<!-- St4&#45;&gt;St3 -->\n",
       "<g id=\"edge2\" class=\"edge\"><title>St4&#45;&gt;St3</title>\n",
       "<path fill=\"none\" stroke=\"black\" d=\"M132.077,-51.518C138.473,-47.8118 145.814,-43.8883 152.808,-40.9039 157.904,-38.7291 163.419,-36.7363 168.859,-34.9629\"/>\n",
       "<polygon fill=\"black\" stroke=\"black\" points=\"169.933,-38.2947 178.467,-32.0159 167.88,-31.6025 169.933,-38.2947\"/>\n",
       "<text text-anchor=\"middle\" x=\"156.308\" y=\"-43.7039\" font-family=\"Times,serif\" font-size=\"14.00\">c</text>\n",
       "</g>\n",
       "<!-- St3&#45;&gt;St0 -->\n",
       "<g id=\"edge5\" class=\"edge\"><title>St3&#45;&gt;St0</title>\n",
       "<path fill=\"none\" stroke=\"black\" d=\"M228.376,-34.2693C236.692,-37.2542 246.087,-40.6772 254.615,-43.9039 257.861,-45.1319 261.237,-46.431 264.605,-47.742\"/>\n",
       "<polygon fill=\"black\" stroke=\"black\" points=\"263.379,-51.0206 273.966,-51.419 265.938,-44.5052 263.379,-51.0206\"/>\n",
       "<text text-anchor=\"middle\" x=\"251.115\" y=\"-46.7039\" font-family=\"Times,serif\" font-size=\"14.00\">c</text>\n",
       "</g>\n",
       "<!-- St3&#45;&gt;St0 -->\n",
       "<g id=\"edge6\" class=\"edge\"><title>St3&#45;&gt;St0</title>\n",
       "<path fill=\"none\" stroke=\"black\" d=\"M229.427,-21.1569C237.658,-20.5514 246.732,-20.9739 254.615,-23.9039 261.182,-26.3441 267.415,-30.2902 272.992,-34.7155\"/>\n",
       "<polygon fill=\"black\" stroke=\"black\" points=\"270.827,-37.471 280.657,-41.4222 275.436,-32.203 270.827,-37.471\"/>\n",
       "<text text-anchor=\"middle\" x=\"251.115\" y=\"-26.7039\" font-family=\"Times,serif\" font-size=\"14.00\">d</text>\n",
       "</g>\n",
       "</g>\n",
       "</svg>\n"
      ],
      "text/plain": [
       "<graphviz.dot.Digraph at 0x106a644a8>"
      ]
     },
     "execution_count": 59,
     "metadata": {},
     "output_type": "execute_result"
    }
   ],
   "source": [
    "dotObj_dfa(min_dfa_brz(dfaMQ0))"
   ]
  },
  {
   "cell_type": "markdown",
   "metadata": {
    "run_control": {
     "frozen": false,
     "read_only": false
    }
   },
   "source": [
    "# Brzozowski Minimization : All Steps "
   ]
  },
  {
   "cell_type": "code",
   "execution_count": 60,
   "metadata": {
    "run_control": {
     "frozen": false,
     "read_only": false
    }
   },
   "outputs": [],
   "source": [
    "blimp = md2mc('''\n",
    "DFA \n",
    "I1 : a -> F2\n",
    "I1 : b -> F3\n",
    "F2 : a -> S8\n",
    "F2 : b -> S5\n",
    "F3 : a -> S7\n",
    "F3 : b -> S4\n",
    "S4 : a | b -> F6\n",
    "S5 : a | b -> F6\n",
    "F6 : a | b -> F6\n",
    "S7 : a | b -> F6\n",
    "S8 : a -> F6\n",
    "S8 : b -> F9\n",
    "F9 : a -> F9\n",
    "F9 : b -> F6\n",
    "''')"
   ]
  },
  {
   "cell_type": "code",
   "execution_count": 61,
   "metadata": {
    "run_control": {
     "frozen": false,
     "read_only": false
    }
   },
   "outputs": [],
   "source": [
    "DOblimp = dotObj_dfa(blimp)"
   ]
  },
  {
   "cell_type": "code",
   "execution_count": 62,
   "metadata": {
    "run_control": {
     "frozen": false,
     "read_only": false
    }
   },
   "outputs": [
    {
     "data": {
      "image/svg+xml": [
       "<?xml version=\"1.0\" encoding=\"UTF-8\" standalone=\"no\"?>\n",
       "<!DOCTYPE svg PUBLIC \"-//W3C//DTD SVG 1.1//EN\"\n",
       " \"http://www.w3.org/Graphics/SVG/1.1/DTD/svg11.dtd\">\n",
       "<!-- Generated by graphviz version 2.38.0 (20140413.2041)\n",
       " -->\n",
       "<!-- Title: %3 Pages: 1 -->\n",
       "<svg width=\"493pt\" height=\"335pt\"\n",
       " viewBox=\"0.00 0.00 493.00 335.45\" xmlns=\"http://www.w3.org/2000/svg\" xmlns:xlink=\"http://www.w3.org/1999/xlink\">\n",
       "<g id=\"graph0\" class=\"graph\" transform=\"scale(1 1) rotate(0) translate(4 331.447)\">\n",
       "<title>%3</title>\n",
       "<polygon fill=\"white\" stroke=\"none\" points=\"-4,4 -4,-331.447 489.003,-331.447 489.003,4 -4,4\"/>\n",
       "<!-- EMPTY -->\n",
       "<g id=\"node1\" class=\"node\"><title>EMPTY</title>\n",
       "</g>\n",
       "<!-- I1 -->\n",
       "<g id=\"node6\" class=\"node\"><title>I1</title>\n",
       "<ellipse fill=\"none\" stroke=\"black\" cx=\"109\" cy=\"-213.447\" rx=\"18\" ry=\"18\"/>\n",
       "<text text-anchor=\"middle\" x=\"109\" y=\"-209.247\" font-family=\"Times,serif\" font-size=\"14.00\">I1</text>\n",
       "</g>\n",
       "<!-- EMPTY&#45;&gt;I1 -->\n",
       "<g id=\"edge1\" class=\"edge\"><title>EMPTY&#45;&gt;I1</title>\n",
       "<path fill=\"none\" stroke=\"black\" d=\"M54.195,-213.447C62.6538,-213.447 72.0513,-213.447 80.5951,-213.447\"/>\n",
       "<polygon fill=\"black\" stroke=\"black\" points=\"80.8257,-216.947 90.8257,-213.447 80.8257,-209.947 80.8257,-216.947\"/>\n",
       "</g>\n",
       "<!-- S7 -->\n",
       "<g id=\"node2\" class=\"node\"><title>S7</title>\n",
       "<ellipse fill=\"none\" stroke=\"black\" cx=\"371.662\" cy=\"-295.447\" rx=\"19.3939\" ry=\"19.3939\"/>\n",
       "<text text-anchor=\"middle\" x=\"371.662\" y=\"-291.247\" font-family=\"Times,serif\" font-size=\"14.00\">S7</text>\n",
       "</g>\n",
       "<!-- F6 -->\n",
       "<g id=\"node7\" class=\"node\"><title>F6</title>\n",
       "<ellipse fill=\"none\" stroke=\"black\" cx=\"461.556\" cy=\"-202.447\" rx=\"19.4029\" ry=\"19.4029\"/>\n",
       "<ellipse fill=\"none\" stroke=\"black\" cx=\"461.556\" cy=\"-202.447\" rx=\"23.3939\" ry=\"23.3939\"/>\n",
       "<text text-anchor=\"middle\" x=\"461.556\" y=\"-198.247\" font-family=\"Times,serif\" font-size=\"14.00\">F6</text>\n",
       "</g>\n",
       "<!-- S7&#45;&gt;F6 -->\n",
       "<g id=\"edge14\" class=\"edge\"><title>S7&#45;&gt;F6</title>\n",
       "<path fill=\"none\" stroke=\"black\" d=\"M387.8,-306.657C397.666,-312.489 410.453,-317.141 420.109,-310.447 444.008,-293.877 453.808,-261.342 457.815,-236.293\"/>\n",
       "<polygon fill=\"black\" stroke=\"black\" points=\"461.323,-236.465 459.201,-226.085 454.387,-235.523 461.323,-236.465\"/>\n",
       "<text text-anchor=\"middle\" x=\"416.609\" y=\"-316.247\" font-family=\"Times,serif\" font-size=\"14.00\">a</text>\n",
       "</g>\n",
       "<!-- S7&#45;&gt;F6 -->\n",
       "<g id=\"edge15\" class=\"edge\"><title>S7&#45;&gt;F6</title>\n",
       "<path fill=\"none\" stroke=\"black\" d=\"M387.992,-284.354C397.699,-276.977 410.236,-266.776 420.109,-256.447 427.898,-248.298 435.548,-238.644 442.061,-229.768\"/>\n",
       "<polygon fill=\"black\" stroke=\"black\" points=\"444.953,-231.741 447.925,-221.572 439.26,-227.668 444.953,-231.741\"/>\n",
       "<text text-anchor=\"middle\" x=\"416.609\" y=\"-265.247\" font-family=\"Times,serif\" font-size=\"14.00\">b</text>\n",
       "</g>\n",
       "<!-- S4 -->\n",
       "<g id=\"node3\" class=\"node\"><title>S4</title>\n",
       "<ellipse fill=\"none\" stroke=\"black\" cx=\"371.662\" cy=\"-237.447\" rx=\"19.3939\" ry=\"19.3939\"/>\n",
       "<text text-anchor=\"middle\" x=\"371.662\" y=\"-233.247\" font-family=\"Times,serif\" font-size=\"14.00\">S4</text>\n",
       "</g>\n",
       "<!-- S4&#45;&gt;F6 -->\n",
       "<g id=\"edge8\" class=\"edge\"><title>S4&#45;&gt;F6</title>\n",
       "<path fill=\"none\" stroke=\"black\" d=\"M391.228,-239.874C400.219,-240.352 411.01,-239.872 420.109,-236.447 426.306,-234.114 432.225,-230.393 437.529,-226.253\"/>\n",
       "<polygon fill=\"black\" stroke=\"black\" points=\"440.024,-228.722 445.31,-219.54 435.452,-223.422 440.024,-228.722\"/>\n",
       "<text text-anchor=\"middle\" x=\"416.609\" y=\"-241.247\" font-family=\"Times,serif\" font-size=\"14.00\">a</text>\n",
       "</g>\n",
       "<!-- S4&#45;&gt;F6 -->\n",
       "<g id=\"edge9\" class=\"edge\"><title>S4&#45;&gt;F6</title>\n",
       "<path fill=\"none\" stroke=\"black\" d=\"M389.397,-229.062C396.609,-225.585 405.191,-221.63 413.109,-218.447 418.122,-216.432 423.498,-214.452 428.765,-212.609\"/>\n",
       "<polygon fill=\"black\" stroke=\"black\" points=\"430.29,-215.788 438.635,-209.261 428.041,-209.159 430.29,-215.788\"/>\n",
       "<text text-anchor=\"middle\" x=\"416.609\" y=\"-221.247\" font-family=\"Times,serif\" font-size=\"14.00\">b</text>\n",
       "</g>\n",
       "<!-- S5 -->\n",
       "<g id=\"node4\" class=\"node\"><title>S5</title>\n",
       "<ellipse fill=\"none\" stroke=\"black\" cx=\"371.662\" cy=\"-171.447\" rx=\"19.3939\" ry=\"19.3939\"/>\n",
       "<text text-anchor=\"middle\" x=\"371.662\" y=\"-167.247\" font-family=\"Times,serif\" font-size=\"14.00\">S5</text>\n",
       "</g>\n",
       "<!-- S5&#45;&gt;F6 -->\n",
       "<g id=\"edge10\" class=\"edge\"><title>S5&#45;&gt;F6</title>\n",
       "<path fill=\"none\" stroke=\"black\" d=\"M390.838,-176.299C399.736,-178.804 410.563,-182.044 420.109,-185.447 423.439,-186.634 426.89,-187.949 430.31,-189.307\"/>\n",
       "<polygon fill=\"black\" stroke=\"black\" points=\"429.157,-192.617 439.737,-193.176 431.815,-186.141 429.157,-192.617\"/>\n",
       "<text text-anchor=\"middle\" x=\"416.609\" y=\"-188.247\" font-family=\"Times,serif\" font-size=\"14.00\">a</text>\n",
       "</g>\n",
       "<!-- S5&#45;&gt;F6 -->\n",
       "<g id=\"edge11\" class=\"edge\"><title>S5&#45;&gt;F6</title>\n",
       "<path fill=\"none\" stroke=\"black\" d=\"M390.291,-165.222C399.448,-162.97 410.667,-161.78 420.109,-165.447 426.904,-168.086 433.253,-172.458 438.816,-177.29\"/>\n",
       "<polygon fill=\"black\" stroke=\"black\" points=\"436.729,-180.139 446.363,-184.549 441.582,-175.094 436.729,-180.139\"/>\n",
       "<text text-anchor=\"middle\" x=\"416.609\" y=\"-168.247\" font-family=\"Times,serif\" font-size=\"14.00\">b</text>\n",
       "</g>\n",
       "<!-- S8 -->\n",
       "<g id=\"node5\" class=\"node\"><title>S8</title>\n",
       "<ellipse fill=\"none\" stroke=\"black\" cx=\"281.768\" cy=\"-114.447\" rx=\"19.3939\" ry=\"19.3939\"/>\n",
       "<text text-anchor=\"middle\" x=\"281.768\" y=\"-110.247\" font-family=\"Times,serif\" font-size=\"14.00\">S8</text>\n",
       "</g>\n",
       "<!-- S8&#45;&gt;F6 -->\n",
       "<g id=\"edge16\" class=\"edge\"><title>S8&#45;&gt;F6</title>\n",
       "<path fill=\"none\" stroke=\"black\" d=\"M301.453,-113.123C324.762,-112.295 365.189,-113.629 395.109,-129.447 414.662,-139.784 431.226,-158.434 442.799,-174.295\"/>\n",
       "<polygon fill=\"black\" stroke=\"black\" points=\"440.108,-176.554 448.702,-182.75 445.847,-172.547 440.108,-176.554\"/>\n",
       "<text text-anchor=\"middle\" x=\"371.662\" y=\"-132.247\" font-family=\"Times,serif\" font-size=\"14.00\">a</text>\n",
       "</g>\n",
       "<!-- F9 -->\n",
       "<g id=\"node10\" class=\"node\"><title>F9</title>\n",
       "<ellipse fill=\"none\" stroke=\"black\" cx=\"371.662\" cy=\"-23.4469\" rx=\"19.4029\" ry=\"19.4029\"/>\n",
       "<ellipse fill=\"none\" stroke=\"black\" cx=\"371.662\" cy=\"-23.4469\" rx=\"23.3939\" ry=\"23.3939\"/>\n",
       "<text text-anchor=\"middle\" x=\"371.662\" y=\"-19.2469\" font-family=\"Times,serif\" font-size=\"14.00\">F9</text>\n",
       "</g>\n",
       "<!-- S8&#45;&gt;F9 -->\n",
       "<g id=\"edge17\" class=\"edge\"><title>S8&#45;&gt;F9</title>\n",
       "<path fill=\"none\" stroke=\"black\" d=\"M296.117,-100.626C309.777,-86.4835 331.266,-64.235 347.67,-47.2516\"/>\n",
       "<polygon fill=\"black\" stroke=\"black\" points=\"350.373,-49.4913 354.802,-39.867 345.338,-44.6282 350.373,-49.4913\"/>\n",
       "<text text-anchor=\"middle\" x=\"326.715\" y=\"-75.2469\" font-family=\"Times,serif\" font-size=\"14.00\">b</text>\n",
       "</g>\n",
       "<!-- F3 -->\n",
       "<g id=\"node8\" class=\"node\"><title>F3</title>\n",
       "<ellipse fill=\"none\" stroke=\"black\" cx=\"281.768\" cy=\"-237.447\" rx=\"19.4029\" ry=\"19.4029\"/>\n",
       "<ellipse fill=\"none\" stroke=\"black\" cx=\"281.768\" cy=\"-237.447\" rx=\"23.3939\" ry=\"23.3939\"/>\n",
       "<text text-anchor=\"middle\" x=\"281.768\" y=\"-233.247\" font-family=\"Times,serif\" font-size=\"14.00\">F3</text>\n",
       "</g>\n",
       "<!-- I1&#45;&gt;F3 -->\n",
       "<g id=\"edge3\" class=\"edge\"><title>I1&#45;&gt;F3</title>\n",
       "<path fill=\"none\" stroke=\"black\" d=\"M126.998,-215.836C155.255,-219.807 212.347,-227.831 248.455,-232.906\"/>\n",
       "<polygon fill=\"black\" stroke=\"black\" points=\"248.097,-236.39 258.487,-234.315 249.072,-229.458 248.097,-236.39\"/>\n",
       "<text text-anchor=\"middle\" x=\"192.661\" y=\"-231.247\" font-family=\"Times,serif\" font-size=\"14.00\">b</text>\n",
       "</g>\n",
       "<!-- F2 -->\n",
       "<g id=\"node9\" class=\"node\"><title>F2</title>\n",
       "<ellipse fill=\"none\" stroke=\"black\" cx=\"192.661\" cy=\"-171.447\" rx=\"19.4029\" ry=\"19.4029\"/>\n",
       "<ellipse fill=\"none\" stroke=\"black\" cx=\"192.661\" cy=\"-171.447\" rx=\"23.3939\" ry=\"23.3939\"/>\n",
       "<text text-anchor=\"middle\" x=\"192.661\" y=\"-167.247\" font-family=\"Times,serif\" font-size=\"14.00\">F2</text>\n",
       "</g>\n",
       "<!-- I1&#45;&gt;F2 -->\n",
       "<g id=\"edge2\" class=\"edge\"><title>I1&#45;&gt;F2</title>\n",
       "<path fill=\"none\" stroke=\"black\" d=\"M125.36,-205.547C135.742,-200.207 149.783,-192.986 162.27,-186.563\"/>\n",
       "<polygon fill=\"black\" stroke=\"black\" points=\"164.139,-189.538 171.431,-181.852 160.937,-183.313 164.139,-189.538\"/>\n",
       "<text text-anchor=\"middle\" x=\"148.107\" y=\"-198.247\" font-family=\"Times,serif\" font-size=\"14.00\">a</text>\n",
       "</g>\n",
       "<!-- F6&#45;&gt;F6 -->\n",
       "<g id=\"edge12\" class=\"edge\"><title>F6&#45;&gt;F6</title>\n",
       "<path fill=\"none\" stroke=\"black\" d=\"M457.467,-225.881C457.185,-235.63 458.548,-243.894 461.556,-243.894 463.389,-243.894 464.611,-240.825 465.222,-236.222\"/>\n",
       "<polygon fill=\"black\" stroke=\"black\" points=\"468.733,-236.016 465.645,-225.881 461.739,-235.73 468.733,-236.016\"/>\n",
       "<text text-anchor=\"middle\" x=\"461.556\" y=\"-246.694\" font-family=\"Times,serif\" font-size=\"14.00\">a</text>\n",
       "</g>\n",
       "<!-- F6&#45;&gt;F6 -->\n",
       "<g id=\"edge13\" class=\"edge\"><title>F6&#45;&gt;F6</title>\n",
       "<path fill=\"none\" stroke=\"black\" d=\"M454.466,-225.015C451.63,-243.162 453.993,-261.894 461.556,-261.894 467.7,-261.894 470.413,-249.528 469.693,-235.157\"/>\n",
       "<polygon fill=\"black\" stroke=\"black\" points=\"473.154,-234.603 468.646,-225.015 466.191,-235.322 473.154,-234.603\"/>\n",
       "<text text-anchor=\"middle\" x=\"461.556\" y=\"-264.694\" font-family=\"Times,serif\" font-size=\"14.00\">b</text>\n",
       "</g>\n",
       "<!-- F3&#45;&gt;S7 -->\n",
       "<g id=\"edge6\" class=\"edge\"><title>F3&#45;&gt;S7</title>\n",
       "<path fill=\"none\" stroke=\"black\" d=\"M301.84,-250.032C314.845,-258.614 332.183,-270.055 346.203,-279.307\"/>\n",
       "<polygon fill=\"black\" stroke=\"black\" points=\"344.584,-282.431 354.858,-285.018 348.439,-276.589 344.584,-282.431\"/>\n",
       "<text text-anchor=\"middle\" x=\"326.715\" y=\"-271.247\" font-family=\"Times,serif\" font-size=\"14.00\">a</text>\n",
       "</g>\n",
       "<!-- F3&#45;&gt;S4 -->\n",
       "<g id=\"edge7\" class=\"edge\"><title>F3&#45;&gt;S4</title>\n",
       "<path fill=\"none\" stroke=\"black\" d=\"M305.403,-237.447C316.463,-237.447 329.899,-237.447 341.698,-237.447\"/>\n",
       "<polygon fill=\"black\" stroke=\"black\" points=\"341.958,-240.947 351.958,-237.447 341.958,-233.947 341.958,-240.947\"/>\n",
       "<text text-anchor=\"middle\" x=\"326.715\" y=\"-240.247\" font-family=\"Times,serif\" font-size=\"14.00\">b</text>\n",
       "</g>\n",
       "<!-- F2&#45;&gt;S5 -->\n",
       "<g id=\"edge5\" class=\"edge\"><title>F2&#45;&gt;S5</title>\n",
       "<path fill=\"none\" stroke=\"black\" d=\"M216.438,-171.447C248.508,-171.447 306.955,-171.447 341.957,-171.447\"/>\n",
       "<polygon fill=\"black\" stroke=\"black\" points=\"342.012,-174.947 352.012,-171.447 342.012,-167.947 342.012,-174.947\"/>\n",
       "<text text-anchor=\"middle\" x=\"281.768\" y=\"-174.247\" font-family=\"Times,serif\" font-size=\"14.00\">b</text>\n",
       "</g>\n",
       "<!-- F2&#45;&gt;S8 -->\n",
       "<g id=\"edge4\" class=\"edge\"><title>F2&#45;&gt;S8</title>\n",
       "<path fill=\"none\" stroke=\"black\" d=\"M212.46,-158.147C219.234,-153.43 226.968,-148.133 234.108,-143.447 241.172,-138.81 248.935,-133.91 256.067,-129.483\"/>\n",
       "<polygon fill=\"black\" stroke=\"black\" points=\"257.987,-132.412 264.664,-124.185 254.314,-126.452 257.987,-132.412\"/>\n",
       "<text text-anchor=\"middle\" x=\"237.215\" y=\"-146.247\" font-family=\"Times,serif\" font-size=\"14.00\">a</text>\n",
       "</g>\n",
       "<!-- F9&#45;&gt;F6 -->\n",
       "<g id=\"edge19\" class=\"edge\"><title>F9&#45;&gt;F6</title>\n",
       "<path fill=\"none\" stroke=\"black\" d=\"M387.938,-40.6391C398.116,-52.7743 411.208,-69.7792 420.109,-86.4469 434.438,-113.279 445.355,-146.219 452.215,-170.132\"/>\n",
       "<polygon fill=\"black\" stroke=\"black\" points=\"448.848,-171.091 454.904,-179.784 455.591,-169.212 448.848,-171.091\"/>\n",
       "<text text-anchor=\"middle\" x=\"416.609\" y=\"-89.2469\" font-family=\"Times,serif\" font-size=\"14.00\">b</text>\n",
       "</g>\n",
       "<!-- F9&#45;&gt;F9 -->\n",
       "<g id=\"edge18\" class=\"edge\"><title>F9&#45;&gt;F9</title>\n",
       "<path fill=\"none\" stroke=\"black\" d=\"M363.575,-45.6203C362.693,-55.9065 365.389,-64.8937 371.662,-64.8937 375.681,-64.8937 378.232,-61.2054 379.314,-55.85\"/>\n",
       "<polygon fill=\"black\" stroke=\"black\" points=\"382.821,-55.7601 379.749,-45.6203 375.827,-55.4625 382.821,-55.7601\"/>\n",
       "<text text-anchor=\"middle\" x=\"371.662\" y=\"-67.6937\" font-family=\"Times,serif\" font-size=\"14.00\">a</text>\n",
       "</g>\n",
       "</g>\n",
       "</svg>\n"
      ],
      "text/plain": [
       "<graphviz.dot.Digraph at 0x107506908>"
      ]
     },
     "execution_count": 62,
     "metadata": {},
     "output_type": "execute_result"
    }
   ],
   "source": [
    "DOblimp"
   ]
  },
  {
   "cell_type": "code",
   "execution_count": 63,
   "metadata": {
    "run_control": {
     "frozen": false,
     "read_only": false
    }
   },
   "outputs": [
    {
     "data": {
      "image/svg+xml": [
       "<?xml version=\"1.0\" encoding=\"UTF-8\" standalone=\"no\"?>\n",
       "<!DOCTYPE svg PUBLIC \"-//W3C//DTD SVG 1.1//EN\"\n",
       " \"http://www.w3.org/Graphics/SVG/1.1/DTD/svg11.dtd\">\n",
       "<!-- Generated by graphviz version 2.38.0 (20140413.2041)\n",
       " -->\n",
       "<!-- Title: %3 Pages: 1 -->\n",
       "<svg width=\"529pt\" height=\"314pt\"\n",
       " viewBox=\"0.00 0.00 529.18 313.89\" xmlns=\"http://www.w3.org/2000/svg\" xmlns:xlink=\"http://www.w3.org/1999/xlink\">\n",
       "<g id=\"graph0\" class=\"graph\" transform=\"scale(1 1) rotate(0) translate(4 309.894)\">\n",
       "<title>%3</title>\n",
       "<polygon fill=\"white\" stroke=\"none\" points=\"-4,4 -4,-309.894 525.183,-309.894 525.183,4 -4,4\"/>\n",
       "<!-- EMPTY -->\n",
       "<g id=\"node1\" class=\"node\"><title>EMPTY</title>\n",
       "</g>\n",
       "<!-- I1 -->\n",
       "<g id=\"node6\" class=\"node\"><title>I1</title>\n",
       "<ellipse fill=\"none\" stroke=\"black\" cx=\"109\" cy=\"-202.447\" rx=\"18\" ry=\"18\"/>\n",
       "<text text-anchor=\"middle\" x=\"109\" y=\"-198.247\" font-family=\"Times,serif\" font-size=\"14.00\">I1</text>\n",
       "</g>\n",
       "<!-- EMPTY&#45;&gt;I1 -->\n",
       "<g id=\"edge1\" class=\"edge\"><title>EMPTY&#45;&gt;I1</title>\n",
       "<path fill=\"none\" stroke=\"black\" d=\"M54.195,-202.447C62.6538,-202.447 72.0513,-202.447 80.5951,-202.447\"/>\n",
       "<polygon fill=\"black\" stroke=\"black\" points=\"80.8257,-205.947 90.8257,-202.447 80.8257,-198.947 80.8257,-205.947\"/>\n",
       "</g>\n",
       "<!-- S7 -->\n",
       "<g id=\"node2\" class=\"node\"><title>S7</title>\n",
       "<ellipse fill=\"none\" stroke=\"black\" cx=\"404.342\" cy=\"-286.447\" rx=\"19.3939\" ry=\"19.3939\"/>\n",
       "<text text-anchor=\"middle\" x=\"404.342\" y=\"-282.247\" font-family=\"Times,serif\" font-size=\"14.00\">S7</text>\n",
       "</g>\n",
       "<!-- F6 -->\n",
       "<g id=\"node7\" class=\"node\"><title>F6</title>\n",
       "<ellipse fill=\"none\" stroke=\"black\" cx=\"497.736\" cy=\"-164.447\" rx=\"19.4029\" ry=\"19.4029\"/>\n",
       "<ellipse fill=\"none\" stroke=\"black\" cx=\"497.736\" cy=\"-164.447\" rx=\"23.3939\" ry=\"23.3939\"/>\n",
       "<text text-anchor=\"middle\" x=\"497.736\" y=\"-160.247\" font-family=\"Times,serif\" font-size=\"14.00\">F6</text>\n",
       "</g>\n",
       "<!-- S7&#45;&gt;F6 -->\n",
       "<g id=\"edge11\" class=\"edge\"><title>S7&#45;&gt;F6</title>\n",
       "<path fill=\"none\" stroke=\"black\" d=\"M419.148,-273.12C429.898,-262.384 444.862,-246.63 456.289,-231.447 465.208,-219.595 473.876,-205.667 480.885,-193.589\"/>\n",
       "<polygon fill=\"black\" stroke=\"black\" points=\"483.994,-195.201 485.897,-184.778 477.91,-191.739 483.994,-195.201\"/>\n",
       "<text text-anchor=\"middle\" x=\"451.039\" y=\"-261.247\" font-family=\"Times,serif\" font-size=\"14.00\">a </text>\n",
       "<text text-anchor=\"middle\" x=\"451.039\" y=\"-247.247\" font-family=\"Times,serif\" font-size=\"14.00\"> b</text>\n",
       "</g>\n",
       "<!-- S4 -->\n",
       "<g id=\"node3\" class=\"node\"><title>S4</title>\n",
       "<ellipse fill=\"none\" stroke=\"black\" cx=\"404.342\" cy=\"-229.447\" rx=\"19.3939\" ry=\"19.3939\"/>\n",
       "<text text-anchor=\"middle\" x=\"404.342\" y=\"-225.247\" font-family=\"Times,serif\" font-size=\"14.00\">S4</text>\n",
       "</g>\n",
       "<!-- S4&#45;&gt;F6 -->\n",
       "<g id=\"edge8\" class=\"edge\"><title>S4&#45;&gt;F6</title>\n",
       "<path fill=\"none\" stroke=\"black\" d=\"M420.846,-218.421C434.166,-208.947 453.683,-195.066 469.588,-183.754\"/>\n",
       "<polygon fill=\"black\" stroke=\"black\" points=\"471.87,-186.426 477.991,-177.778 467.813,-180.722 471.87,-186.426\"/>\n",
       "<text text-anchor=\"middle\" x=\"451.039\" y=\"-216.247\" font-family=\"Times,serif\" font-size=\"14.00\">a </text>\n",
       "<text text-anchor=\"middle\" x=\"451.039\" y=\"-202.247\" font-family=\"Times,serif\" font-size=\"14.00\"> b</text>\n",
       "</g>\n",
       "<!-- S5 -->\n",
       "<g id=\"node4\" class=\"node\"><title>S5</title>\n",
       "<ellipse fill=\"none\" stroke=\"black\" cx=\"343.448\" cy=\"-164.447\" rx=\"19.3939\" ry=\"19.3939\"/>\n",
       "<text text-anchor=\"middle\" x=\"343.448\" y=\"-160.247\" font-family=\"Times,serif\" font-size=\"14.00\">S5</text>\n",
       "</g>\n",
       "<!-- S5&#45;&gt;F6 -->\n",
       "<g id=\"edge9\" class=\"edge\"><title>S5&#45;&gt;F6</title>\n",
       "<path fill=\"none\" stroke=\"black\" d=\"M363.122,-164.447C388.201,-164.447 433.168,-164.447 463.952,-164.447\"/>\n",
       "<polygon fill=\"black\" stroke=\"black\" points=\"464.193,-167.947 474.193,-164.447 464.193,-160.947 464.193,-167.947\"/>\n",
       "<text text-anchor=\"middle\" x=\"404.342\" y=\"-181.247\" font-family=\"Times,serif\" font-size=\"14.00\">a </text>\n",
       "<text text-anchor=\"middle\" x=\"404.342\" y=\"-167.247\" font-family=\"Times,serif\" font-size=\"14.00\"> b</text>\n",
       "</g>\n",
       "<!-- S8 -->\n",
       "<g id=\"node5\" class=\"node\"><title>S8</title>\n",
       "<ellipse fill=\"none\" stroke=\"black\" cx=\"282.554\" cy=\"-114.447\" rx=\"19.3939\" ry=\"19.3939\"/>\n",
       "<text text-anchor=\"middle\" x=\"282.554\" y=\"-110.247\" font-family=\"Times,serif\" font-size=\"14.00\">S8</text>\n",
       "</g>\n",
       "<!-- S8&#45;&gt;F6 -->\n",
       "<g id=\"edge12\" class=\"edge\"><title>S8&#45;&gt;F6</title>\n",
       "<path fill=\"none\" stroke=\"black\" d=\"M301.819,-118.272C329.244,-124.067 382.659,-135.554 427.789,-146.447 439.973,-149.388 453.313,-152.821 464.985,-155.895\"/>\n",
       "<polygon fill=\"black\" stroke=\"black\" points=\"464.179,-159.302 474.742,-158.483 465.974,-152.536 464.179,-159.302\"/>\n",
       "<text text-anchor=\"middle\" x=\"404.342\" y=\"-149.247\" font-family=\"Times,serif\" font-size=\"14.00\">a</text>\n",
       "</g>\n",
       "<!-- F9 -->\n",
       "<g id=\"node10\" class=\"node\"><title>F9</title>\n",
       "<ellipse fill=\"none\" stroke=\"black\" cx=\"404.342\" cy=\"-23.4469\" rx=\"19.4029\" ry=\"19.4029\"/>\n",
       "<ellipse fill=\"none\" stroke=\"black\" cx=\"404.342\" cy=\"-23.4469\" rx=\"23.3939\" ry=\"23.3939\"/>\n",
       "<text text-anchor=\"middle\" x=\"404.342\" y=\"-19.2469\" font-family=\"Times,serif\" font-size=\"14.00\">F9</text>\n",
       "</g>\n",
       "<!-- S8&#45;&gt;F9 -->\n",
       "<g id=\"edge13\" class=\"edge\"><title>S8&#45;&gt;F9</title>\n",
       "<path fill=\"none\" stroke=\"black\" d=\"M298.726,-102.922C318.436,-87.9481 353.16,-61.5693 377.165,-43.3328\"/>\n",
       "<polygon fill=\"black\" stroke=\"black\" points=\"379.321,-46.0902 385.167,-37.2539 375.087,-40.5161 379.321,-46.0902\"/>\n",
       "<text text-anchor=\"middle\" x=\"343.448\" y=\"-85.2469\" font-family=\"Times,serif\" font-size=\"14.00\">b</text>\n",
       "</g>\n",
       "<!-- F3 -->\n",
       "<g id=\"node8\" class=\"node\"><title>F3</title>\n",
       "<ellipse fill=\"none\" stroke=\"black\" cx=\"282.554\" cy=\"-229.447\" rx=\"19.4029\" ry=\"19.4029\"/>\n",
       "<ellipse fill=\"none\" stroke=\"black\" cx=\"282.554\" cy=\"-229.447\" rx=\"23.3939\" ry=\"23.3939\"/>\n",
       "<text text-anchor=\"middle\" x=\"282.554\" y=\"-225.247\" font-family=\"Times,serif\" font-size=\"14.00\">F3</text>\n",
       "</g>\n",
       "<!-- I1&#45;&gt;F3 -->\n",
       "<g id=\"edge3\" class=\"edge\"><title>I1&#45;&gt;F3</title>\n",
       "<path fill=\"none\" stroke=\"black\" d=\"M127.076,-205.134C155.463,-209.602 212.818,-218.629 249.093,-224.338\"/>\n",
       "<polygon fill=\"black\" stroke=\"black\" points=\"248.748,-227.827 259.171,-225.924 249.837,-220.912 248.748,-227.827\"/>\n",
       "<text text-anchor=\"middle\" x=\"192.661\" y=\"-222.247\" font-family=\"Times,serif\" font-size=\"14.00\">b</text>\n",
       "</g>\n",
       "<!-- F2 -->\n",
       "<g id=\"node9\" class=\"node\"><title>F2</title>\n",
       "<ellipse fill=\"none\" stroke=\"black\" cx=\"192.661\" cy=\"-164.447\" rx=\"19.4029\" ry=\"19.4029\"/>\n",
       "<ellipse fill=\"none\" stroke=\"black\" cx=\"192.661\" cy=\"-164.447\" rx=\"23.3939\" ry=\"23.3939\"/>\n",
       "<text text-anchor=\"middle\" x=\"192.661\" y=\"-160.247\" font-family=\"Times,serif\" font-size=\"14.00\">F2</text>\n",
       "</g>\n",
       "<!-- I1&#45;&gt;F2 -->\n",
       "<g id=\"edge2\" class=\"edge\"><title>I1&#45;&gt;F2</title>\n",
       "<path fill=\"none\" stroke=\"black\" d=\"M125.745,-195.12C135.912,-190.389 149.466,-184.082 161.639,-178.417\"/>\n",
       "<polygon fill=\"black\" stroke=\"black\" points=\"163.425,-181.447 171.015,-174.054 160.472,-175.1 163.425,-181.447\"/>\n",
       "<text text-anchor=\"middle\" x=\"148.107\" y=\"-189.247\" font-family=\"Times,serif\" font-size=\"14.00\">a</text>\n",
       "</g>\n",
       "<!-- F6&#45;&gt;F6 -->\n",
       "<g id=\"edge10\" class=\"edge\"><title>F6&#45;&gt;F6</title>\n",
       "<path fill=\"none\" stroke=\"black\" d=\"M489.281,-186.62C488.359,-196.906 491.177,-205.894 497.736,-205.894 501.937,-205.894 504.604,-202.205 505.735,-196.85\"/>\n",
       "<polygon fill=\"black\" stroke=\"black\" points=\"509.242,-196.766 506.19,-186.62 502.249,-196.455 509.242,-196.766\"/>\n",
       "<text text-anchor=\"middle\" x=\"497.736\" y=\"-222.694\" font-family=\"Times,serif\" font-size=\"14.00\">a </text>\n",
       "<text text-anchor=\"middle\" x=\"497.736\" y=\"-208.694\" font-family=\"Times,serif\" font-size=\"14.00\"> b</text>\n",
       "</g>\n",
       "<!-- F3&#45;&gt;S7 -->\n",
       "<g id=\"edge6\" class=\"edge\"><title>F3&#45;&gt;S7</title>\n",
       "<path fill=\"none\" stroke=\"black\" d=\"M304.147,-239.246C324.425,-248.895 355.463,-263.664 377.412,-274.108\"/>\n",
       "<polygon fill=\"black\" stroke=\"black\" points=\"375.961,-277.294 386.495,-278.43 378.969,-270.973 375.961,-277.294\"/>\n",
       "<text text-anchor=\"middle\" x=\"343.448\" y=\"-269.247\" font-family=\"Times,serif\" font-size=\"14.00\">a</text>\n",
       "</g>\n",
       "<!-- F3&#45;&gt;S4 -->\n",
       "<g id=\"edge7\" class=\"edge\"><title>F3&#45;&gt;S4</title>\n",
       "<path fill=\"none\" stroke=\"black\" d=\"M306.086,-229.447C325.477,-229.447 353.568,-229.447 374.58,-229.447\"/>\n",
       "<polygon fill=\"black\" stroke=\"black\" points=\"374.839,-232.947 384.839,-229.447 374.839,-225.947 374.839,-232.947\"/>\n",
       "<text text-anchor=\"middle\" x=\"343.448\" y=\"-232.247\" font-family=\"Times,serif\" font-size=\"14.00\">b</text>\n",
       "</g>\n",
       "<!-- F2&#45;&gt;S5 -->\n",
       "<g id=\"edge5\" class=\"edge\"><title>F2&#45;&gt;S5</title>\n",
       "<path fill=\"none\" stroke=\"black\" d=\"M216.258,-164.447C242.353,-164.447 285.327,-164.447 313.76,-164.447\"/>\n",
       "<polygon fill=\"black\" stroke=\"black\" points=\"313.879,-167.947 323.879,-164.447 313.879,-160.947 313.879,-167.947\"/>\n",
       "<text text-anchor=\"middle\" x=\"237.608\" y=\"-167.247\" font-family=\"Times,serif\" font-size=\"14.00\">b</text>\n",
       "</g>\n",
       "<!-- F2&#45;&gt;S8 -->\n",
       "<g id=\"edge4\" class=\"edge\"><title>F2&#45;&gt;S8</title>\n",
       "<path fill=\"none\" stroke=\"black\" d=\"M209.302,-147.575C216.329,-140.822 225.068,-133.469 234.108,-128.447 240.02,-125.162 246.784,-122.574 253.318,-120.564\"/>\n",
       "<polygon fill=\"black\" stroke=\"black\" points=\"254.507,-123.867 263.238,-117.864 252.67,-117.113 254.507,-123.867\"/>\n",
       "<text text-anchor=\"middle\" x=\"237.608\" y=\"-131.247\" font-family=\"Times,serif\" font-size=\"14.00\">a</text>\n",
       "</g>\n",
       "<!-- F9&#45;&gt;F6 -->\n",
       "<g id=\"edge15\" class=\"edge\"><title>F9&#45;&gt;F6</title>\n",
       "<path fill=\"none\" stroke=\"black\" d=\"M420.604,-40.3784C431.284,-52.6694 445.51,-69.9658 456.289,-86.4469 466.151,-101.527 475.524,-119.298 482.759,-134.065\"/>\n",
       "<polygon fill=\"black\" stroke=\"black\" points=\"479.701,-135.782 487.188,-143.277 486.009,-132.748 479.701,-135.782\"/>\n",
       "<text text-anchor=\"middle\" x=\"451.039\" y=\"-89.2469\" font-family=\"Times,serif\" font-size=\"14.00\">b</text>\n",
       "</g>\n",
       "<!-- F9&#45;&gt;F9 -->\n",
       "<g id=\"edge14\" class=\"edge\"><title>F9&#45;&gt;F9</title>\n",
       "<path fill=\"none\" stroke=\"black\" d=\"M395.887,-45.6203C394.965,-55.9065 397.783,-64.8937 404.342,-64.8937 408.544,-64.8937 411.21,-61.2054 412.341,-55.85\"/>\n",
       "<polygon fill=\"black\" stroke=\"black\" points=\"415.849,-55.766 412.796,-45.6203 408.855,-55.4549 415.849,-55.766\"/>\n",
       "<text text-anchor=\"middle\" x=\"404.342\" y=\"-67.6937\" font-family=\"Times,serif\" font-size=\"14.00\">a</text>\n",
       "</g>\n",
       "</g>\n",
       "</svg>\n"
      ],
      "text/plain": [
       "<graphviz.dot.Digraph at 0x107506978>"
      ]
     },
     "execution_count": 63,
     "metadata": {},
     "output_type": "execute_result"
    }
   ],
   "source": [
    "dotObj_dfa(blimp, FuseEdges=True)"
   ]
  },
  {
   "cell_type": "markdown",
   "metadata": {
    "run_control": {
     "frozen": false,
     "read_only": false
    }
   },
   "source": [
    "# Classical minimization results in the following"
   ]
  },
  {
   "cell_type": "code",
   "execution_count": 64,
   "metadata": {
    "run_control": {
     "frozen": false,
     "read_only": false
    }
   },
   "outputs": [
    {
     "data": {
      "image/svg+xml": [
       "<?xml version=\"1.0\" encoding=\"UTF-8\" standalone=\"no\"?>\n",
       "<!DOCTYPE svg PUBLIC \"-//W3C//DTD SVG 1.1//EN\"\n",
       " \"http://www.w3.org/Graphics/SVG/1.1/DTD/svg11.dtd\">\n",
       "<!-- Generated by graphviz version 2.38.0 (20140413.2041)\n",
       " -->\n",
       "<!-- Title: %3 Pages: 1 -->\n",
       "<svg width=\"397pt\" height=\"119pt\"\n",
       " viewBox=\"0.00 0.00 396.68 118.89\" xmlns=\"http://www.w3.org/2000/svg\" xmlns:xlink=\"http://www.w3.org/1999/xlink\">\n",
       "<g id=\"graph0\" class=\"graph\" transform=\"scale(1 1) rotate(0) translate(4 114.894)\">\n",
       "<title>%3</title>\n",
       "<polygon fill=\"white\" stroke=\"none\" points=\"-4,4 -4,-114.894 392.681,-114.894 392.681,4 -4,4\"/>\n",
       "<!-- EMPTY -->\n",
       "<g id=\"node1\" class=\"node\"><title>EMPTY</title>\n",
       "</g>\n",
       "<!-- I1 -->\n",
       "<g id=\"node2\" class=\"node\"><title>I1</title>\n",
       "<ellipse fill=\"none\" stroke=\"black\" cx=\"109\" cy=\"-23.4469\" rx=\"18\" ry=\"18\"/>\n",
       "<text text-anchor=\"middle\" x=\"109\" y=\"-19.2469\" font-family=\"Times,serif\" font-size=\"14.00\">I1</text>\n",
       "</g>\n",
       "<!-- EMPTY&#45;&gt;I1 -->\n",
       "<g id=\"edge1\" class=\"edge\"><title>EMPTY&#45;&gt;I1</title>\n",
       "<path fill=\"none\" stroke=\"black\" d=\"M54.195,-23.4469C62.6538,-23.4469 72.0513,-23.4469 80.5951,-23.4469\"/>\n",
       "<polygon fill=\"black\" stroke=\"black\" points=\"80.8257,-26.947 90.8257,-23.4469 80.8257,-19.947 80.8257,-26.947\"/>\n",
       "</g>\n",
       "<!-- F3 -->\n",
       "<g id=\"node5\" class=\"node\"><title>F3</title>\n",
       "<ellipse fill=\"none\" stroke=\"black\" cx=\"193.447\" cy=\"-23.4469\" rx=\"19.4029\" ry=\"19.4029\"/>\n",
       "<ellipse fill=\"none\" stroke=\"black\" cx=\"193.447\" cy=\"-23.4469\" rx=\"23.3939\" ry=\"23.3939\"/>\n",
       "<text text-anchor=\"middle\" x=\"193.447\" y=\"-19.2469\" font-family=\"Times,serif\" font-size=\"14.00\">F3</text>\n",
       "</g>\n",
       "<!-- I1&#45;&gt;F3 -->\n",
       "<g id=\"edge2\" class=\"edge\"><title>I1&#45;&gt;F3</title>\n",
       "<path fill=\"none\" stroke=\"black\" d=\"M127.083,-23.4469C136.448,-23.4469 148.379,-23.4469 159.478,-23.4469\"/>\n",
       "<polygon fill=\"black\" stroke=\"black\" points=\"159.753,-26.947 169.753,-23.4469 159.753,-19.947 159.753,-26.947\"/>\n",
       "<text text-anchor=\"middle\" x=\"148.5\" y=\"-26.2469\" font-family=\"Times,serif\" font-size=\"14.00\">a</text>\n",
       "</g>\n",
       "<!-- I1&#45;&gt;F3 -->\n",
       "<g id=\"edge3\" class=\"edge\"><title>I1&#45;&gt;F3</title>\n",
       "<path fill=\"none\" stroke=\"black\" d=\"M124.717,-13.9046C130.75,-10.5299 137.96,-7.15095 145,-5.44687 151.294,-3.92333 157.885,-4.75841 164.083,-6.72333\"/>\n",
       "<polygon fill=\"black\" stroke=\"black\" points=\"162.823,-9.98936 173.402,-10.5645 165.49,-3.5176 162.823,-9.98936\"/>\n",
       "<text text-anchor=\"middle\" x=\"148.5\" y=\"-8.24687\" font-family=\"Times,serif\" font-size=\"14.00\">b</text>\n",
       "</g>\n",
       "<!-- S5 -->\n",
       "<g id=\"node3\" class=\"node\"><title>S5</title>\n",
       "<ellipse fill=\"none\" stroke=\"black\" cx=\"279.341\" cy=\"-23.4469\" rx=\"19.3939\" ry=\"19.3939\"/>\n",
       "<text text-anchor=\"middle\" x=\"279.341\" y=\"-19.2469\" font-family=\"Times,serif\" font-size=\"14.00\">S5</text>\n",
       "</g>\n",
       "<!-- F6 -->\n",
       "<g id=\"node4\" class=\"node\"><title>F6</title>\n",
       "<ellipse fill=\"none\" stroke=\"black\" cx=\"365.234\" cy=\"-23.4469\" rx=\"19.4029\" ry=\"19.4029\"/>\n",
       "<ellipse fill=\"none\" stroke=\"black\" cx=\"365.234\" cy=\"-23.4469\" rx=\"23.3939\" ry=\"23.3939\"/>\n",
       "<text text-anchor=\"middle\" x=\"365.234\" y=\"-19.2469\" font-family=\"Times,serif\" font-size=\"14.00\">F6</text>\n",
       "</g>\n",
       "<!-- S5&#45;&gt;F6 -->\n",
       "<g id=\"edge6\" class=\"edge\"><title>S5&#45;&gt;F6</title>\n",
       "<path fill=\"none\" stroke=\"black\" d=\"M298.959,-23.4469C308.471,-23.4469 320.328,-23.4469 331.318,-23.4469\"/>\n",
       "<polygon fill=\"black\" stroke=\"black\" points=\"331.483,-26.947 341.483,-23.4469 331.483,-19.947 331.483,-26.947\"/>\n",
       "<text text-anchor=\"middle\" x=\"320.287\" y=\"-26.2469\" font-family=\"Times,serif\" font-size=\"14.00\">a</text>\n",
       "</g>\n",
       "<!-- S5&#45;&gt;F6 -->\n",
       "<g id=\"edge7\" class=\"edge\"><title>S5&#45;&gt;F6</title>\n",
       "<path fill=\"none\" stroke=\"black\" d=\"M296.43,-13.5192C302.568,-10.2735 309.778,-7.08348 316.787,-5.44687 323.093,-3.97461 329.689,-4.83152 335.889,-6.80151\"/>\n",
       "<polygon fill=\"black\" stroke=\"black\" points=\"334.628,-10.067 345.207,-10.6386 337.293,-3.5944 334.628,-10.067\"/>\n",
       "<text text-anchor=\"middle\" x=\"320.287\" y=\"-8.24687\" font-family=\"Times,serif\" font-size=\"14.00\">b</text>\n",
       "</g>\n",
       "<!-- F6&#45;&gt;F6 -->\n",
       "<g id=\"edge8\" class=\"edge\"><title>F6&#45;&gt;F6</title>\n",
       "<path fill=\"none\" stroke=\"black\" d=\"M361.146,-46.8814C360.864,-56.63 362.227,-64.8937 365.234,-64.8937 367.067,-64.8937 368.289,-61.8251 368.901,-57.2218\"/>\n",
       "<polygon fill=\"black\" stroke=\"black\" points=\"372.412,-57.016 369.323,-46.8814 365.418,-56.7301 372.412,-57.016\"/>\n",
       "<text text-anchor=\"middle\" x=\"365.234\" y=\"-67.6937\" font-family=\"Times,serif\" font-size=\"14.00\">a</text>\n",
       "</g>\n",
       "<!-- F6&#45;&gt;F6 -->\n",
       "<g id=\"edge9\" class=\"edge\"><title>F6&#45;&gt;F6</title>\n",
       "<path fill=\"none\" stroke=\"black\" d=\"M358.144,-46.0152C355.309,-64.1618 357.672,-82.8937 365.234,-82.8937 371.379,-82.8937 374.091,-70.5277 373.371,-56.1571\"/>\n",
       "<polygon fill=\"black\" stroke=\"black\" points=\"376.833,-55.6029 372.324,-46.0152 369.87,-56.3217 376.833,-55.6029\"/>\n",
       "<text text-anchor=\"middle\" x=\"365.234\" y=\"-85.6937\" font-family=\"Times,serif\" font-size=\"14.00\">b</text>\n",
       "</g>\n",
       "<!-- F3&#45;&gt;S5 -->\n",
       "<g id=\"edge4\" class=\"edge\"><title>F3&#45;&gt;S5</title>\n",
       "<path fill=\"none\" stroke=\"black\" d=\"M216.929,-23.4469C226.976,-23.4469 238.937,-23.4469 249.622,-23.4469\"/>\n",
       "<polygon fill=\"black\" stroke=\"black\" points=\"249.764,-26.947 259.764,-23.4469 249.764,-19.947 249.764,-26.947\"/>\n",
       "<text text-anchor=\"middle\" x=\"238.394\" y=\"-26.2469\" font-family=\"Times,serif\" font-size=\"14.00\">a</text>\n",
       "</g>\n",
       "<!-- F3&#45;&gt;S5 -->\n",
       "<g id=\"edge5\" class=\"edge\"><title>F3&#45;&gt;S5</title>\n",
       "<path fill=\"none\" stroke=\"black\" d=\"M213.474,-10.6386C222.002,-6.3683 232.285,-3.20342 241.894,-5.44687 245.618,-6.31632 249.398,-7.62417 253.044,-9.14587\"/>\n",
       "<polygon fill=\"black\" stroke=\"black\" points=\"251.717,-12.39 262.251,-13.5192 254.72,-6.06705 251.717,-12.39\"/>\n",
       "<text text-anchor=\"middle\" x=\"238.394\" y=\"-8.24687\" font-family=\"Times,serif\" font-size=\"14.00\">b</text>\n",
       "</g>\n",
       "</g>\n",
       "</svg>\n"
      ],
      "text/plain": [
       "<graphviz.dot.Digraph at 0x106a797f0>"
      ]
     },
     "execution_count": 64,
     "metadata": {},
     "output_type": "execute_result"
    }
   ],
   "source": [
    "classic_min = min_dfa(blimp)\n",
    "dotObj_dfa(classic_min)"
   ]
  },
  {
   "cell_type": "markdown",
   "metadata": {
    "run_control": {
     "frozen": false,
     "read_only": false
    }
   },
   "source": [
    "# Now let's study Brzozowski minimization; its code is a one-liner!"
   ]
  },
  {
   "cell_type": "code",
   "execution_count": 65,
   "metadata": {
    "run_control": {
     "frozen": false,
     "read_only": false
    }
   },
   "outputs": [],
   "source": [
    "# Brzozowski Minimizer code\n",
    "def min_dfa_brz(D):\n",
    "    \"\"\"Minimize a DFA as per Brzozowski's algorithm.\n",
    "    \"\"\"\n",
    "    return nfa2dfa(rev_dfa(nfa2dfa(rev_dfa(D))))"
   ]
  },
  {
   "cell_type": "markdown",
   "metadata": {
    "run_control": {
     "frozen": false,
     "read_only": false
    }
   },
   "source": [
    "## Step 1: Reverse the given DFA"
   ]
  },
  {
   "cell_type": "code",
   "execution_count": 66,
   "metadata": {
    "run_control": {
     "frozen": false,
     "read_only": false
    },
    "scrolled": true
   },
   "outputs": [
    {
     "data": {
      "image/svg+xml": [
       "<?xml version=\"1.0\" encoding=\"UTF-8\" standalone=\"no\"?>\n",
       "<!DOCTYPE svg PUBLIC \"-//W3C//DTD SVG 1.1//EN\"\n",
       " \"http://www.w3.org/Graphics/SVG/1.1/DTD/svg11.dtd\">\n",
       "<!-- Generated by graphviz version 2.38.0 (20140413.2041)\n",
       " -->\n",
       "<!-- Title: %3 Pages: 1 -->\n",
       "<svg width=\"469pt\" height=\"353pt\"\n",
       " viewBox=\"0.00 0.00 469.00 352.53\" xmlns=\"http://www.w3.org/2000/svg\" xmlns:xlink=\"http://www.w3.org/1999/xlink\">\n",
       "<g id=\"graph0\" class=\"graph\" transform=\"scale(1 1) rotate(0) translate(4 348.532)\">\n",
       "<title>%3</title>\n",
       "<polygon fill=\"white\" stroke=\"none\" points=\"-4,4 -4,-348.532 465.003,-348.532 465.003,4 -4,4\"/>\n",
       "<!-- EMPTY -->\n",
       "<g id=\"node1\" class=\"node\"><title>EMPTY</title>\n",
       "</g>\n",
       "<!-- F6 -->\n",
       "<g id=\"node2\" class=\"node\"><title>F6</title>\n",
       "<ellipse fill=\"none\" stroke=\"black\" cx=\"110.447\" cy=\"-190\" rx=\"19.3939\" ry=\"19.3939\"/>\n",
       "<text text-anchor=\"middle\" x=\"110.447\" y=\"-185.8\" font-family=\"Times,serif\" font-size=\"14.00\">F6</text>\n",
       "</g>\n",
       "<!-- EMPTY&#45;&gt;F6 -->\n",
       "<g id=\"edge1\" class=\"edge\"><title>EMPTY&#45;&gt;F6</title>\n",
       "<path fill=\"none\" stroke=\"black\" d=\"M42.9386,-108.342C56.4359,-124.913 76.353,-149.367 90.8718,-167.194\"/>\n",
       "<polygon fill=\"black\" stroke=\"black\" points=\"88.4849,-169.805 97.5138,-175.349 93.9125,-165.385 88.4849,-169.805\"/>\n",
       "</g>\n",
       "<!-- F3 -->\n",
       "<g id=\"node3\" class=\"node\"><title>F3</title>\n",
       "<ellipse fill=\"none\" stroke=\"black\" cx=\"274.234\" cy=\"-278\" rx=\"19.3939\" ry=\"19.3939\"/>\n",
       "<text text-anchor=\"middle\" x=\"274.234\" y=\"-273.8\" font-family=\"Times,serif\" font-size=\"14.00\">F3</text>\n",
       "</g>\n",
       "<!-- EMPTY&#45;&gt;F3 -->\n",
       "<g id=\"edge2\" class=\"edge\"><title>EMPTY&#45;&gt;F3</title>\n",
       "<path fill=\"none\" stroke=\"black\" d=\"M29.991,-108.22C34.7627,-144.61 49.6964,-227.467 91,-282 126.614,-329.022 157.063,-359.016 211.787,-337 229.626,-329.823 245.195,-314.718 256.198,-301.589\"/>\n",
       "<polygon fill=\"black\" stroke=\"black\" points=\"258.943,-303.76 262.438,-293.758 253.469,-299.397 258.943,-303.76\"/>\n",
       "</g>\n",
       "<!-- F9 -->\n",
       "<g id=\"node5\" class=\"node\"><title>F9</title>\n",
       "<ellipse fill=\"none\" stroke=\"black\" cx=\"192.341\" cy=\"-47\" rx=\"19.3939\" ry=\"19.3939\"/>\n",
       "<text text-anchor=\"middle\" x=\"192.341\" y=\"-42.8\" font-family=\"Times,serif\" font-size=\"14.00\">F9</text>\n",
       "</g>\n",
       "<!-- EMPTY&#45;&gt;F9 -->\n",
       "<g id=\"edge4\" class=\"edge\"><title>EMPTY&#45;&gt;F9</title>\n",
       "<path fill=\"none\" stroke=\"black\" d=\"M54.2435,-83.0913C84.0912,-75.2338 132.64,-62.4531 163.239,-54.3979\"/>\n",
       "<polygon fill=\"black\" stroke=\"black\" points=\"164.474,-57.6921 173.253,-51.7615 162.692,-50.9227 164.474,-57.6921\"/>\n",
       "</g>\n",
       "<!-- F2 -->\n",
       "<g id=\"node8\" class=\"node\"><title>F2</title>\n",
       "<ellipse fill=\"none\" stroke=\"black\" cx=\"355.342\" cy=\"-151\" rx=\"19.3939\" ry=\"19.3939\"/>\n",
       "<text text-anchor=\"middle\" x=\"355.342\" y=\"-146.8\" font-family=\"Times,serif\" font-size=\"14.00\">F2</text>\n",
       "</g>\n",
       "<!-- EMPTY&#45;&gt;F2 -->\n",
       "<g id=\"edge3\" class=\"edge\"><title>EMPTY&#45;&gt;F2</title>\n",
       "<path fill=\"none\" stroke=\"black\" d=\"M34.8679,-71.7872C46.108,-45.4889 71.0935,-0 109.447,-0 109.447,-0 109.447,-0 275.234,-0 329.506,-0 346.617,-77.4819 351.958,-121.441\"/>\n",
       "<polygon fill=\"black\" stroke=\"black\" points=\"348.498,-122.003 353.053,-131.569 355.457,-121.25 348.498,-122.003\"/>\n",
       "</g>\n",
       "<!-- F6&#45;&gt;F6 -->\n",
       "<g id=\"edge5\" class=\"edge\"><title>F6&#45;&gt;F6</title>\n",
       "<path fill=\"none\" stroke=\"black\" d=\"M107.172,-209.267C106.718,-218.876 107.81,-227.447 110.447,-227.447 112.054,-227.447 113.087,-224.264 113.546,-219.603\"/>\n",
       "<polygon fill=\"black\" stroke=\"black\" points=\"117.051,-219.325 113.722,-209.267 110.052,-219.206 117.051,-219.325\"/>\n",
       "<text text-anchor=\"middle\" x=\"110.447\" y=\"-230.247\" font-family=\"Times,serif\" font-size=\"14.00\">a</text>\n",
       "</g>\n",
       "<!-- F6&#45;&gt;F6 -->\n",
       "<g id=\"edge10\" class=\"edge\"><title>F6&#45;&gt;F6</title>\n",
       "<path fill=\"none\" stroke=\"black\" d=\"M104.989,-208.747C102.159,-226.351 103.978,-245.447 110.447,-245.447 115.652,-245.447 117.847,-233.082 117.031,-219.079\"/>\n",
       "<polygon fill=\"black\" stroke=\"black\" points=\"120.468,-218.309 115.905,-208.747 113.509,-219.067 120.468,-218.309\"/>\n",
       "<text text-anchor=\"middle\" x=\"110.447\" y=\"-248.247\" font-family=\"Times,serif\" font-size=\"14.00\">b</text>\n",
       "</g>\n",
       "<!-- S5 -->\n",
       "<g id=\"node4\" class=\"node\"><title>S5</title>\n",
       "<ellipse fill=\"none\" stroke=\"black\" cx=\"192.341\" cy=\"-136\" rx=\"19.3939\" ry=\"19.3939\"/>\n",
       "<text text-anchor=\"middle\" x=\"192.341\" y=\"-131.8\" font-family=\"Times,serif\" font-size=\"14.00\">S5</text>\n",
       "</g>\n",
       "<!-- F6&#45;&gt;S5 -->\n",
       "<g id=\"edge8\" class=\"edge\"><title>F6&#45;&gt;S5</title>\n",
       "<path fill=\"none\" stroke=\"black\" d=\"M116.304,-171.149C121.385,-155.714 131.037,-134.874 147.894,-125 153.227,-121.876 159.434,-121.75 165.459,-123.062\"/>\n",
       "<polygon fill=\"black\" stroke=\"black\" points=\"164.645,-126.481 175.239,-126.353 166.878,-119.847 164.645,-126.481\"/>\n",
       "<text text-anchor=\"middle\" x=\"151.394\" y=\"-127.8\" font-family=\"Times,serif\" font-size=\"14.00\">a</text>\n",
       "</g>\n",
       "<!-- F6&#45;&gt;S5 -->\n",
       "<g id=\"edge13\" class=\"edge\"><title>F6&#45;&gt;S5</title>\n",
       "<path fill=\"none\" stroke=\"black\" d=\"M126.055,-178.159C132.604,-173.013 140.504,-167.025 147.894,-162 153.618,-158.108 159.932,-154.149 165.931,-150.535\"/>\n",
       "<polygon fill=\"black\" stroke=\"black\" points=\"168.139,-153.295 174.969,-145.195 164.579,-147.268 168.139,-153.295\"/>\n",
       "<text text-anchor=\"middle\" x=\"151.394\" y=\"-164.8\" font-family=\"Times,serif\" font-size=\"14.00\">b</text>\n",
       "</g>\n",
       "<!-- F6&#45;&gt;F9 -->\n",
       "<g id=\"edge14\" class=\"edge\"><title>F6&#45;&gt;F9</title>\n",
       "<path fill=\"none\" stroke=\"black\" d=\"M117.801,-171.825C124.292,-154.195 135.201,-126.965 147.894,-105 155.046,-92.6226 164.409,-79.8065 172.61,-69.3795\"/>\n",
       "<polygon fill=\"black\" stroke=\"black\" points=\"175.339,-71.5711 178.874,-61.5835 169.882,-67.1866 175.339,-71.5711\"/>\n",
       "<text text-anchor=\"middle\" x=\"151.394\" y=\"-107.8\" font-family=\"Times,serif\" font-size=\"14.00\">b</text>\n",
       "</g>\n",
       "<!-- S7 -->\n",
       "<g id=\"node6\" class=\"node\"><title>S7</title>\n",
       "<ellipse fill=\"none\" stroke=\"black\" cx=\"192.341\" cy=\"-252\" rx=\"19.3939\" ry=\"19.3939\"/>\n",
       "<text text-anchor=\"middle\" x=\"192.341\" y=\"-247.8\" font-family=\"Times,serif\" font-size=\"14.00\">S7</text>\n",
       "</g>\n",
       "<!-- F6&#45;&gt;S7 -->\n",
       "<g id=\"edge6\" class=\"edge\"><title>F6&#45;&gt;S7</title>\n",
       "<path fill=\"none\" stroke=\"black\" d=\"M126.474,-201.662C138.303,-210.841 154.985,-223.787 168.47,-234.252\"/>\n",
       "<polygon fill=\"black\" stroke=\"black\" points=\"166.335,-237.025 176.381,-240.391 170.626,-231.495 166.335,-237.025\"/>\n",
       "<text text-anchor=\"middle\" x=\"151.394\" y=\"-225.8\" font-family=\"Times,serif\" font-size=\"14.00\">a</text>\n",
       "</g>\n",
       "<!-- F6&#45;&gt;S7 -->\n",
       "<g id=\"edge11\" class=\"edge\"><title>F6&#45;&gt;S7</title>\n",
       "<path fill=\"none\" stroke=\"black\" d=\"M120.596,-206.79C127.005,-217.121 136.454,-229.893 147.894,-238 152.385,-241.183 157.639,-243.67 162.909,-245.603\"/>\n",
       "<polygon fill=\"black\" stroke=\"black\" points=\"162.283,-249.073 172.871,-248.678 164.348,-242.384 162.283,-249.073\"/>\n",
       "<text text-anchor=\"middle\" x=\"151.394\" y=\"-244.8\" font-family=\"Times,serif\" font-size=\"14.00\">b</text>\n",
       "</g>\n",
       "<!-- S4 -->\n",
       "<g id=\"node7\" class=\"node\"><title>S4</title>\n",
       "<ellipse fill=\"none\" stroke=\"black\" cx=\"192.341\" cy=\"-309\" rx=\"19.3939\" ry=\"19.3939\"/>\n",
       "<text text-anchor=\"middle\" x=\"192.341\" y=\"-304.8\" font-family=\"Times,serif\" font-size=\"14.00\">S4</text>\n",
       "</g>\n",
       "<!-- F6&#45;&gt;S4 -->\n",
       "<g id=\"edge7\" class=\"edge\"><title>F6&#45;&gt;S4</title>\n",
       "<path fill=\"none\" stroke=\"black\" d=\"M119.16,-207.65C125.873,-222.228 136.321,-243.182 147.894,-260 154.634,-269.795 163.118,-279.764 170.796,-288.131\"/>\n",
       "<polygon fill=\"black\" stroke=\"black\" points=\"168.425,-290.719 177.827,-295.604 173.523,-285.922 168.425,-290.719\"/>\n",
       "<text text-anchor=\"middle\" x=\"151.394\" y=\"-271.8\" font-family=\"Times,serif\" font-size=\"14.00\">a</text>\n",
       "</g>\n",
       "<!-- F6&#45;&gt;S4 -->\n",
       "<g id=\"edge12\" class=\"edge\"><title>F6&#45;&gt;S4</title>\n",
       "<path fill=\"none\" stroke=\"black\" d=\"M114.403,-209.291C118.555,-230.578 127.962,-264.762 147.894,-287 152.338,-291.958 158.159,-295.948 164.089,-299.095\"/>\n",
       "<polygon fill=\"black\" stroke=\"black\" points=\"162.771,-302.342 173.317,-303.367 165.712,-295.99 162.771,-302.342\"/>\n",
       "<text text-anchor=\"middle\" x=\"151.394\" y=\"-296.8\" font-family=\"Times,serif\" font-size=\"14.00\">b</text>\n",
       "</g>\n",
       "<!-- S8 -->\n",
       "<g id=\"node9\" class=\"node\"><title>S8</title>\n",
       "<ellipse fill=\"none\" stroke=\"black\" cx=\"274.234\" cy=\"-187\" rx=\"19.3939\" ry=\"19.3939\"/>\n",
       "<text text-anchor=\"middle\" x=\"274.234\" y=\"-182.8\" font-family=\"Times,serif\" font-size=\"14.00\">S8</text>\n",
       "</g>\n",
       "<!-- F6&#45;&gt;S8 -->\n",
       "<g id=\"edge9\" class=\"edge\"><title>F6&#45;&gt;S8</title>\n",
       "<path fill=\"none\" stroke=\"black\" d=\"M130.006,-189.656C157.97,-189.137 211.151,-188.151 244.253,-187.537\"/>\n",
       "<polygon fill=\"black\" stroke=\"black\" points=\"244.71,-191.03 254.643,-187.345 244.58,-184.031 244.71,-191.03\"/>\n",
       "<text text-anchor=\"middle\" x=\"192.341\" y=\"-191.8\" font-family=\"Times,serif\" font-size=\"14.00\">a</text>\n",
       "</g>\n",
       "<!-- I1 -->\n",
       "<g id=\"node10\" class=\"node\"><title>I1</title>\n",
       "<ellipse fill=\"none\" stroke=\"black\" cx=\"439.003\" cy=\"-195\" rx=\"18\" ry=\"18\"/>\n",
       "<ellipse fill=\"none\" stroke=\"black\" cx=\"439.003\" cy=\"-195\" rx=\"22\" ry=\"22\"/>\n",
       "<text text-anchor=\"middle\" x=\"439.003\" y=\"-190.8\" font-family=\"Times,serif\" font-size=\"14.00\">I1</text>\n",
       "</g>\n",
       "<!-- F3&#45;&gt;I1 -->\n",
       "<g id=\"edge15\" class=\"edge\"><title>F3&#45;&gt;I1</title>\n",
       "<path fill=\"none\" stroke=\"black\" d=\"M292.04,-269.43C319.956,-255.195 376.164,-226.533 410.103,-209.227\"/>\n",
       "<polygon fill=\"black\" stroke=\"black\" points=\"411.724,-212.329 419.042,-204.668 408.544,-206.093 411.724,-212.329\"/>\n",
       "<text text-anchor=\"middle\" x=\"355.342\" y=\"-249.8\" font-family=\"Times,serif\" font-size=\"14.00\">b</text>\n",
       "</g>\n",
       "<!-- S5&#45;&gt;F2 -->\n",
       "<g id=\"edge16\" class=\"edge\"><title>S5&#45;&gt;F2</title>\n",
       "<path fill=\"none\" stroke=\"black\" d=\"M211.839,-137.608C231.976,-139.371 265.124,-142.307 293.681,-145 304.16,-145.988 315.652,-147.114 325.788,-148.122\"/>\n",
       "<polygon fill=\"black\" stroke=\"black\" points=\"325.463,-151.606 335.762,-149.118 326.159,-144.641 325.463,-151.606\"/>\n",
       "<text text-anchor=\"middle\" x=\"274.234\" y=\"-147.8\" font-family=\"Times,serif\" font-size=\"14.00\">b</text>\n",
       "</g>\n",
       "<!-- F9&#45;&gt;F9 -->\n",
       "<g id=\"edge17\" class=\"edge\"><title>F9&#45;&gt;F9</title>\n",
       "<path fill=\"none\" stroke=\"black\" d=\"M185.199,-65.1096C183.866,-75.1766 186.247,-84.4469 192.341,-84.4469 196.244,-84.4469 198.624,-80.6423 199.48,-75.2611\"/>\n",
       "<polygon fill=\"black\" stroke=\"black\" points=\"202.98,-75.1102 199.482,-65.1096 195.98,-75.109 202.98,-75.1102\"/>\n",
       "<text text-anchor=\"middle\" x=\"192.341\" y=\"-87.2469\" font-family=\"Times,serif\" font-size=\"14.00\">a</text>\n",
       "</g>\n",
       "<!-- F9&#45;&gt;S8 -->\n",
       "<g id=\"edge18\" class=\"edge\"><title>F9&#45;&gt;S8</title>\n",
       "<path fill=\"none\" stroke=\"black\" d=\"M202.819,-63.6096C216.634,-87.8173 242.417,-132.999 258.658,-161.457\"/>\n",
       "<polygon fill=\"black\" stroke=\"black\" points=\"255.772,-163.461 263.768,-170.412 261.851,-159.992 255.772,-163.461\"/>\n",
       "<text text-anchor=\"middle\" x=\"233.287\" y=\"-124.8\" font-family=\"Times,serif\" font-size=\"14.00\">b</text>\n",
       "</g>\n",
       "<!-- S7&#45;&gt;F3 -->\n",
       "<g id=\"edge19\" class=\"edge\"><title>S7&#45;&gt;F3</title>\n",
       "<path fill=\"none\" stroke=\"black\" d=\"M211.686,-256.032C219.496,-257.905 228.661,-260.314 236.787,-263 239.971,-264.052 243.271,-265.251 246.526,-266.502\"/>\n",
       "<polygon fill=\"black\" stroke=\"black\" points=\"245.414,-269.827 255.997,-270.316 248.029,-263.334 245.414,-269.827\"/>\n",
       "<text text-anchor=\"middle\" x=\"233.287\" y=\"-265.8\" font-family=\"Times,serif\" font-size=\"14.00\">a</text>\n",
       "</g>\n",
       "<!-- S4&#45;&gt;F3 -->\n",
       "<g id=\"edge20\" class=\"edge\"><title>S4&#45;&gt;F3</title>\n",
       "<path fill=\"none\" stroke=\"black\" d=\"M210.676,-302.273C221.146,-298.211 234.705,-292.95 246.522,-288.365\"/>\n",
       "<polygon fill=\"black\" stroke=\"black\" points=\"247.876,-291.594 255.932,-284.713 245.344,-285.068 247.876,-291.594\"/>\n",
       "<text text-anchor=\"middle\" x=\"233.287\" y=\"-297.8\" font-family=\"Times,serif\" font-size=\"14.00\">b</text>\n",
       "</g>\n",
       "<!-- F2&#45;&gt;I1 -->\n",
       "<g id=\"edge21\" class=\"edge\"><title>F2&#45;&gt;I1</title>\n",
       "<path fill=\"none\" stroke=\"black\" d=\"M372.867,-159.904C383.563,-165.667 397.757,-173.315 410.165,-180\"/>\n",
       "<polygon fill=\"black\" stroke=\"black\" points=\"408.753,-183.216 419.217,-184.878 412.074,-177.053 408.753,-183.216\"/>\n",
       "<text text-anchor=\"middle\" x=\"395.896\" y=\"-175.8\" font-family=\"Times,serif\" font-size=\"14.00\">a</text>\n",
       "</g>\n",
       "<!-- S8&#45;&gt;F2 -->\n",
       "<g id=\"edge22\" class=\"edge\"><title>S8&#45;&gt;F2</title>\n",
       "<path fill=\"none\" stroke=\"black\" d=\"M292.4,-179.189C302.766,-174.471 316.192,-168.361 327.892,-163.037\"/>\n",
       "<polygon fill=\"black\" stroke=\"black\" points=\"329.558,-166.124 337.21,-158.796 326.659,-159.753 329.558,-166.124\"/>\n",
       "<text text-anchor=\"middle\" x=\"314.788\" y=\"-173.8\" font-family=\"Times,serif\" font-size=\"14.00\">a</text>\n",
       "</g>\n",
       "</g>\n",
       "</svg>\n"
      ],
      "text/plain": [
       "<graphviz.dot.Digraph at 0x10755fb70>"
      ]
     },
     "execution_count": 66,
     "metadata": {},
     "output_type": "execute_result"
    }
   ],
   "source": [
    "rblimp = rev_dfa(blimp)\n",
    "DOrblimp = dotObj_nfa(rblimp)\n",
    "DOrblimp"
   ]
  },
  {
   "cell_type": "code",
   "execution_count": 67,
   "metadata": {
    "run_control": {
     "frozen": false,
     "read_only": false
    }
   },
   "outputs": [
    {
     "data": {
      "image/svg+xml": [
       "<?xml version=\"1.0\" encoding=\"UTF-8\" standalone=\"no\"?>\n",
       "<!DOCTYPE svg PUBLIC \"-//W3C//DTD SVG 1.1//EN\"\n",
       " \"http://www.w3.org/Graphics/SVG/1.1/DTD/svg11.dtd\">\n",
       "<!-- Generated by graphviz version 2.38.0 (20140413.2041)\n",
       " -->\n",
       "<!-- Title: %3 Pages: 1 -->\n",
       "<svg width=\"504pt\" height=\"323pt\"\n",
       " viewBox=\"0.00 0.00 504.40 322.63\" xmlns=\"http://www.w3.org/2000/svg\" xmlns:xlink=\"http://www.w3.org/1999/xlink\">\n",
       "<g id=\"graph0\" class=\"graph\" transform=\"scale(1 1) rotate(0) translate(4 318.633)\">\n",
       "<title>%3</title>\n",
       "<polygon fill=\"white\" stroke=\"none\" points=\"-4,4 -4,-318.633 500.396,-318.633 500.396,4 -4,4\"/>\n",
       "<!-- EMPTY -->\n",
       "<g id=\"node1\" class=\"node\"><title>EMPTY</title>\n",
       "</g>\n",
       "<!-- F6 -->\n",
       "<g id=\"node2\" class=\"node\"><title>F6</title>\n",
       "<ellipse fill=\"none\" stroke=\"black\" cx=\"110.447\" cy=\"-164.633\" rx=\"19.3939\" ry=\"19.3939\"/>\n",
       "<text text-anchor=\"middle\" x=\"110.447\" y=\"-160.433\" font-family=\"Times,serif\" font-size=\"14.00\">F6</text>\n",
       "</g>\n",
       "<!-- EMPTY&#45;&gt;F6 -->\n",
       "<g id=\"edge1\" class=\"edge\"><title>EMPTY&#45;&gt;F6</title>\n",
       "<path fill=\"none\" stroke=\"black\" d=\"M47.3018,-223.386C59.6118,-211.748 75.5726,-196.658 88.2365,-184.686\"/>\n",
       "<polygon fill=\"black\" stroke=\"black\" points=\"90.7712,-187.106 95.6334,-177.693 85.9622,-182.019 90.7712,-187.106\"/>\n",
       "</g>\n",
       "<!-- F3 -->\n",
       "<g id=\"node3\" class=\"node\"><title>F3</title>\n",
       "<ellipse fill=\"none\" stroke=\"black\" cx=\"309.628\" cy=\"-62.6335\" rx=\"19.3939\" ry=\"19.3939\"/>\n",
       "<text text-anchor=\"middle\" x=\"309.628\" y=\"-58.4335\" font-family=\"Times,serif\" font-size=\"14.00\">F3</text>\n",
       "</g>\n",
       "<!-- EMPTY&#45;&gt;F3 -->\n",
       "<g id=\"edge2\" class=\"edge\"><title>EMPTY&#45;&gt;F3</title>\n",
       "<path fill=\"none\" stroke=\"black\" d=\"M32.858,-223.304C46.3426,-176.64 89.1287,-53.7192 176.394,-6.63346 214.372,13.8586 261.447,-18.9625 287.954,-42.3701\"/>\n",
       "<polygon fill=\"black\" stroke=\"black\" points=\"285.747,-45.0945 295.487,-49.2628 290.472,-39.9301 285.747,-45.0945\"/>\n",
       "</g>\n",
       "<!-- F9 -->\n",
       "<g id=\"node5\" class=\"node\"><title>F9</title>\n",
       "<ellipse fill=\"none\" stroke=\"black\" cx=\"195.841\" cy=\"-197.633\" rx=\"19.3939\" ry=\"19.3939\"/>\n",
       "<text text-anchor=\"middle\" x=\"195.841\" y=\"-193.433\" font-family=\"Times,serif\" font-size=\"14.00\">F9</text>\n",
       "</g>\n",
       "<!-- EMPTY&#45;&gt;F9 -->\n",
       "<g id=\"edge4\" class=\"edge\"><title>EMPTY&#45;&gt;F9</title>\n",
       "<path fill=\"none\" stroke=\"black\" d=\"M54.0992,-255.299C81.8289,-267.761 126.045,-281.582 158.394,-262.633 171.958,-254.688 180.857,-239.642 186.463,-226.025\"/>\n",
       "<polygon fill=\"black\" stroke=\"black\" points=\"189.806,-227.078 189.983,-216.485 183.238,-224.655 189.806,-227.078\"/>\n",
       "</g>\n",
       "<!-- F2 -->\n",
       "<g id=\"node8\" class=\"node\"><title>F2</title>\n",
       "<ellipse fill=\"none\" stroke=\"black\" cx=\"390.736\" cy=\"-243.633\" rx=\"19.3939\" ry=\"19.3939\"/>\n",
       "<text text-anchor=\"middle\" x=\"390.736\" y=\"-239.433\" font-family=\"Times,serif\" font-size=\"14.00\">F2</text>\n",
       "</g>\n",
       "<!-- EMPTY&#45;&gt;F2 -->\n",
       "<g id=\"edge3\" class=\"edge\"><title>EMPTY&#45;&gt;F2</title>\n",
       "<path fill=\"none\" stroke=\"black\" d=\"M37.7736,-259.678C50.9505,-281.296 76.5968,-314.633 109.447,-314.633 109.447,-314.633 109.447,-314.633 310.628,-314.633 338.76,-314.633 361.439,-289.458 375.184,-269.089\"/>\n",
       "<polygon fill=\"black\" stroke=\"black\" points=\"378.261,-270.773 380.688,-260.459 372.359,-267.009 378.261,-270.773\"/>\n",
       "</g>\n",
       "<!-- F6&#45;&gt;F6 -->\n",
       "<g id=\"edge5\" class=\"edge\"><title>F6&#45;&gt;F6</title>\n",
       "<path fill=\"none\" stroke=\"black\" d=\"M103.975,-183.13C102.876,-193.046 105.033,-202.08 110.447,-202.08 113.831,-202.08 115.942,-198.551 116.782,-193.484\"/>\n",
       "<polygon fill=\"black\" stroke=\"black\" points=\"120.286,-193.175 116.918,-183.13 113.286,-193.083 120.286,-193.175\"/>\n",
       "<text text-anchor=\"middle\" x=\"110.447\" y=\"-218.88\" font-family=\"Times,serif\" font-size=\"14.00\">a </text>\n",
       "<text text-anchor=\"middle\" x=\"110.447\" y=\"-204.88\" font-family=\"Times,serif\" font-size=\"14.00\"> b</text>\n",
       "</g>\n",
       "<!-- S5 -->\n",
       "<g id=\"node4\" class=\"node\"><title>S5</title>\n",
       "<ellipse fill=\"none\" stroke=\"black\" cx=\"252.734\" cy=\"-274.633\" rx=\"19.3939\" ry=\"19.3939\"/>\n",
       "<text text-anchor=\"middle\" x=\"252.734\" y=\"-270.433\" font-family=\"Times,serif\" font-size=\"14.00\">S5</text>\n",
       "</g>\n",
       "<!-- F6&#45;&gt;S5 -->\n",
       "<g id=\"edge8\" class=\"edge\"><title>F6&#45;&gt;S5</title>\n",
       "<path fill=\"none\" stroke=\"black\" d=\"M118.927,-182.372C128.853,-203.668 148.44,-238.854 176.394,-257.633 190.097,-266.839 208.045,-271.123 222.986,-273.089\"/>\n",
       "<polygon fill=\"black\" stroke=\"black\" points=\"222.923,-276.601 233.23,-274.148 223.643,-269.638 222.923,-276.601\"/>\n",
       "<text text-anchor=\"middle\" x=\"153.144\" y=\"-259.433\" font-family=\"Times,serif\" font-size=\"14.00\">a </text>\n",
       "<text text-anchor=\"middle\" x=\"153.144\" y=\"-245.433\" font-family=\"Times,serif\" font-size=\"14.00\"> b</text>\n",
       "</g>\n",
       "<!-- F6&#45;&gt;F9 -->\n",
       "<g id=\"edge10\" class=\"edge\"><title>F6&#45;&gt;F9</title>\n",
       "<path fill=\"none\" stroke=\"black\" d=\"M128.726,-171.471C140.131,-175.984 155.3,-181.987 168.231,-187.104\"/>\n",
       "<polygon fill=\"black\" stroke=\"black\" points=\"166.997,-190.379 177.583,-190.805 169.573,-183.871 166.997,-190.379\"/>\n",
       "<text text-anchor=\"middle\" x=\"153.144\" y=\"-186.433\" font-family=\"Times,serif\" font-size=\"14.00\">b</text>\n",
       "</g>\n",
       "<!-- S7 -->\n",
       "<g id=\"node6\" class=\"node\"><title>S7</title>\n",
       "<ellipse fill=\"none\" stroke=\"black\" cx=\"195.841\" cy=\"-91.6335\" rx=\"19.3939\" ry=\"19.3939\"/>\n",
       "<text text-anchor=\"middle\" x=\"195.841\" y=\"-87.4335\" font-family=\"Times,serif\" font-size=\"14.00\">S7</text>\n",
       "</g>\n",
       "<!-- F6&#45;&gt;S7 -->\n",
       "<g id=\"edge6\" class=\"edge\"><title>F6&#45;&gt;S7</title>\n",
       "<path fill=\"none\" stroke=\"black\" d=\"M118.111,-146.587C123.978,-133.127 133.799,-115.294 147.894,-104.633 153.206,-100.616 159.692,-97.8401 166.128,-95.922\"/>\n",
       "<polygon fill=\"black\" stroke=\"black\" points=\"167.109,-99.286 176.023,-93.5588 165.483,-92.4775 167.109,-99.286\"/>\n",
       "<text text-anchor=\"middle\" x=\"153.144\" y=\"-121.433\" font-family=\"Times,serif\" font-size=\"14.00\">a </text>\n",
       "<text text-anchor=\"middle\" x=\"153.144\" y=\"-107.433\" font-family=\"Times,serif\" font-size=\"14.00\"> b</text>\n",
       "</g>\n",
       "<!-- S4 -->\n",
       "<g id=\"node7\" class=\"node\"><title>S4</title>\n",
       "<ellipse fill=\"none\" stroke=\"black\" cx=\"195.841\" cy=\"-34.6335\" rx=\"19.3939\" ry=\"19.3939\"/>\n",
       "<text text-anchor=\"middle\" x=\"195.841\" y=\"-30.4335\" font-family=\"Times,serif\" font-size=\"14.00\">S4</text>\n",
       "</g>\n",
       "<!-- F6&#45;&gt;S4 -->\n",
       "<g id=\"edge7\" class=\"edge\"><title>F6&#45;&gt;S4</title>\n",
       "<path fill=\"none\" stroke=\"black\" d=\"M115.101,-145.475C119.835,-124.616 129.723,-91.1054 147.894,-67.6335 153.743,-60.078 161.798,-53.5521 169.586,-48.3447\"/>\n",
       "<polygon fill=\"black\" stroke=\"black\" points=\"171.482,-51.2876 178.133,-43.041 167.791,-45.3396 171.482,-51.2876\"/>\n",
       "<text text-anchor=\"middle\" x=\"153.144\" y=\"-84.4335\" font-family=\"Times,serif\" font-size=\"14.00\">a </text>\n",
       "<text text-anchor=\"middle\" x=\"153.144\" y=\"-70.4335\" font-family=\"Times,serif\" font-size=\"14.00\"> b</text>\n",
       "</g>\n",
       "<!-- S8 -->\n",
       "<g id=\"node9\" class=\"node\"><title>S8</title>\n",
       "<ellipse fill=\"none\" stroke=\"black\" cx=\"309.628\" cy=\"-197.633\" rx=\"19.3939\" ry=\"19.3939\"/>\n",
       "<text text-anchor=\"middle\" x=\"309.628\" y=\"-193.433\" font-family=\"Times,serif\" font-size=\"14.00\">S8</text>\n",
       "</g>\n",
       "<!-- F6&#45;&gt;S8 -->\n",
       "<g id=\"edge9\" class=\"edge\"><title>F6&#45;&gt;S8</title>\n",
       "<path fill=\"none\" stroke=\"black\" d=\"M129.659,-159.827C150.554,-155.054 185.741,-149.292 215.287,-155.633 239.7,-160.873 265.433,-173.013 283.682,-182.901\"/>\n",
       "<polygon fill=\"black\" stroke=\"black\" points=\"282.059,-186.003 292.497,-187.818 285.469,-179.89 282.059,-186.003\"/>\n",
       "<text text-anchor=\"middle\" x=\"195.841\" y=\"-158.433\" font-family=\"Times,serif\" font-size=\"14.00\">a</text>\n",
       "</g>\n",
       "<!-- I1 -->\n",
       "<g id=\"node10\" class=\"node\"><title>I1</title>\n",
       "<ellipse fill=\"none\" stroke=\"black\" cx=\"474.396\" cy=\"-198.633\" rx=\"18\" ry=\"18\"/>\n",
       "<ellipse fill=\"none\" stroke=\"black\" cx=\"474.396\" cy=\"-198.633\" rx=\"22\" ry=\"22\"/>\n",
       "<text text-anchor=\"middle\" x=\"474.396\" y=\"-194.433\" font-family=\"Times,serif\" font-size=\"14.00\">I1</text>\n",
       "</g>\n",
       "<!-- F3&#45;&gt;I1 -->\n",
       "<g id=\"edge11\" class=\"edge\"><title>F3&#45;&gt;I1</title>\n",
       "<path fill=\"none\" stroke=\"black\" d=\"M325.073,-74.7026C353.02,-98.0538 414.758,-149.639 449.118,-178.348\"/>\n",
       "<polygon fill=\"black\" stroke=\"black\" points=\"446.905,-181.059 456.823,-184.785 451.393,-175.688 446.905,-181.059\"/>\n",
       "<text text-anchor=\"middle\" x=\"390.736\" y=\"-147.433\" font-family=\"Times,serif\" font-size=\"14.00\">b</text>\n",
       "</g>\n",
       "<!-- S5&#45;&gt;F2 -->\n",
       "<g id=\"edge12\" class=\"edge\"><title>S5&#45;&gt;F2</title>\n",
       "<path fill=\"none\" stroke=\"black\" d=\"M271.794,-270.517C294.758,-265.283 334.656,-256.188 361.618,-250.043\"/>\n",
       "<polygon fill=\"black\" stroke=\"black\" points=\"362.629,-253.402 371.601,-247.767 361.073,-246.577 362.629,-253.402\"/>\n",
       "<text text-anchor=\"middle\" x=\"309.628\" y=\"-269.433\" font-family=\"Times,serif\" font-size=\"14.00\">b</text>\n",
       "</g>\n",
       "<!-- F9&#45;&gt;F9 -->\n",
       "<g id=\"edge13\" class=\"edge\"><title>F9&#45;&gt;F9</title>\n",
       "<path fill=\"none\" stroke=\"black\" d=\"M188.342,-215.743C186.943,-225.81 189.442,-235.08 195.841,-235.08 199.94,-235.08 202.438,-231.276 203.337,-225.895\"/>\n",
       "<polygon fill=\"black\" stroke=\"black\" points=\"206.837,-225.744 203.339,-215.743 199.837,-225.742 206.837,-225.744\"/>\n",
       "<text text-anchor=\"middle\" x=\"195.841\" y=\"-237.88\" font-family=\"Times,serif\" font-size=\"14.00\">a</text>\n",
       "</g>\n",
       "<!-- F9&#45;&gt;S8 -->\n",
       "<g id=\"edge14\" class=\"edge\"><title>F9&#45;&gt;S8</title>\n",
       "<path fill=\"none\" stroke=\"black\" d=\"M215.3,-197.633C232.857,-197.633 259.534,-197.633 279.877,-197.633\"/>\n",
       "<polygon fill=\"black\" stroke=\"black\" points=\"280.141,-201.134 290.141,-197.633 280.141,-194.134 280.141,-201.134\"/>\n",
       "<text text-anchor=\"middle\" x=\"252.734\" y=\"-200.433\" font-family=\"Times,serif\" font-size=\"14.00\">b</text>\n",
       "</g>\n",
       "<!-- S7&#45;&gt;F3 -->\n",
       "<g id=\"edge15\" class=\"edge\"><title>S7&#45;&gt;F3</title>\n",
       "<path fill=\"none\" stroke=\"black\" d=\"M214.801,-86.9741C232.647,-82.3446 260.261,-75.1809 280.918,-69.822\"/>\n",
       "<polygon fill=\"black\" stroke=\"black\" points=\"281.911,-73.1803 290.712,-67.2813 280.154,-66.4046 281.911,-73.1803\"/>\n",
       "<text text-anchor=\"middle\" x=\"252.734\" y=\"-84.4335\" font-family=\"Times,serif\" font-size=\"14.00\">a</text>\n",
       "</g>\n",
       "<!-- S4&#45;&gt;F3 -->\n",
       "<g id=\"edge16\" class=\"edge\"><title>S4&#45;&gt;F3</title>\n",
       "<path fill=\"none\" stroke=\"black\" d=\"M215.243,-37.961C230.579,-40.8727 252.946,-45.4409 272.181,-50.6335 275.172,-51.4408 278.279,-52.3507 281.36,-53.2994\"/>\n",
       "<polygon fill=\"black\" stroke=\"black\" points=\"280.357,-56.6533 290.949,-56.3835 282.501,-49.9895 280.357,-56.6533\"/>\n",
       "<text text-anchor=\"middle\" x=\"252.734\" y=\"-53.4335\" font-family=\"Times,serif\" font-size=\"14.00\">b</text>\n",
       "</g>\n",
       "<!-- F2&#45;&gt;I1 -->\n",
       "<g id=\"edge17\" class=\"edge\"><title>F2&#45;&gt;I1</title>\n",
       "<path fill=\"none\" stroke=\"black\" d=\"M408.261,-234.527C418.957,-228.633 433.151,-220.811 445.558,-213.974\"/>\n",
       "<polygon fill=\"black\" stroke=\"black\" points=\"447.542,-216.877 454.611,-208.986 444.163,-210.747 447.542,-216.877\"/>\n",
       "<text text-anchor=\"middle\" x=\"431.289\" y=\"-225.433\" font-family=\"Times,serif\" font-size=\"14.00\">a</text>\n",
       "</g>\n",
       "<!-- S8&#45;&gt;F2 -->\n",
       "<g id=\"edge18\" class=\"edge\"><title>S8&#45;&gt;F2</title>\n",
       "<path fill=\"none\" stroke=\"black\" d=\"M327.019,-207.165C337.91,-213.498 352.419,-221.934 364.738,-229.098\"/>\n",
       "<polygon fill=\"black\" stroke=\"black\" points=\"363.232,-232.271 373.636,-234.272 366.751,-226.219 363.232,-232.271\"/>\n",
       "<text text-anchor=\"middle\" x=\"350.182\" y=\"-225.433\" font-family=\"Times,serif\" font-size=\"14.00\">a</text>\n",
       "</g>\n",
       "</g>\n",
       "</svg>\n"
      ],
      "text/plain": [
       "<graphviz.dot.Digraph at 0x10755fa58>"
      ]
     },
     "execution_count": 67,
     "metadata": {},
     "output_type": "execute_result"
    }
   ],
   "source": [
    "dotObj_nfa(rblimp, FuseEdges=True)"
   ]
  },
  {
   "cell_type": "markdown",
   "metadata": {
    "run_control": {
     "frozen": false,
     "read_only": false
    }
   },
   "source": [
    "## Step 2: Determinize the result of Step 1"
   ]
  },
  {
   "cell_type": "code",
   "execution_count": 68,
   "metadata": {
    "run_control": {
     "frozen": false,
     "read_only": false
    }
   },
   "outputs": [
    {
     "data": {
      "text/plain": [
       "{'Delta': {('St0', 'a'): 'St2',\n",
       "  ('St0', 'b'): 'St2',\n",
       "  ('St1', 'a'): 'St0',\n",
       "  ('St1', 'b'): 'St0',\n",
       "  ('St2', 'a'): 'St3',\n",
       "  ('St2', 'b'): 'St3',\n",
       "  ('St3', 'a'): 'St3',\n",
       "  ('St3', 'b'): 'St3'},\n",
       " 'F': {'St0', 'St3'},\n",
       " 'Q': {'St0', 'St1', 'St2', 'St3'},\n",
       " 'Sigma': {'a', 'b'},\n",
       " 'q0': 'St1'}"
      ]
     },
     "execution_count": 68,
     "metadata": {},
     "output_type": "execute_result"
    }
   ],
   "source": [
    "drblimp = nfa2dfa(rblimp)\n",
    "drblimp"
   ]
  },
  {
   "cell_type": "code",
   "execution_count": 69,
   "metadata": {
    "run_control": {
     "frozen": false,
     "read_only": false
    }
   },
   "outputs": [
    {
     "data": {
      "image/svg+xml": [
       "<?xml version=\"1.0\" encoding=\"UTF-8\" standalone=\"no\"?>\n",
       "<!DOCTYPE svg PUBLIC \"-//W3C//DTD SVG 1.1//EN\"\n",
       " \"http://www.w3.org/Graphics/SVG/1.1/DTD/svg11.dtd\">\n",
       "<!-- Generated by graphviz version 2.38.0 (20140413.2041)\n",
       " -->\n",
       "<!-- Title: %3 Pages: 1 -->\n",
       "<svg width=\"419pt\" height=\"124pt\"\n",
       " viewBox=\"0.00 0.00 419.23 123.81\" xmlns=\"http://www.w3.org/2000/svg\" xmlns:xlink=\"http://www.w3.org/1999/xlink\">\n",
       "<g id=\"graph0\" class=\"graph\" transform=\"scale(1 1) rotate(0) translate(4 119.808)\">\n",
       "<title>%3</title>\n",
       "<polygon fill=\"white\" stroke=\"none\" points=\"-4,4 -4,-119.808 415.231,-119.808 415.231,4 -4,4\"/>\n",
       "<!-- EMPTY -->\n",
       "<g id=\"node1\" class=\"node\"><title>EMPTY</title>\n",
       "</g>\n",
       "<!-- St1 -->\n",
       "<g id=\"node2\" class=\"node\"><title>St1</title>\n",
       "<ellipse fill=\"none\" stroke=\"black\" cx=\"112.904\" cy=\"-25.9039\" rx=\"21.8081\" ry=\"21.8081\"/>\n",
       "<text text-anchor=\"middle\" x=\"112.904\" y=\"-21.7039\" font-family=\"Times,serif\" font-size=\"14.00\">St1</text>\n",
       "</g>\n",
       "<!-- EMPTY&#45;&gt;St1 -->\n",
       "<g id=\"edge1\" class=\"edge\"><title>EMPTY&#45;&gt;St1</title>\n",
       "<path fill=\"none\" stroke=\"black\" d=\"M54.0878,-25.9039C62.501,-25.9039 71.9126,-25.9039 80.6587,-25.9039\"/>\n",
       "<polygon fill=\"black\" stroke=\"black\" points=\"80.8854,-29.404 90.8853,-25.9039 80.8853,-22.404 80.8854,-29.404\"/>\n",
       "</g>\n",
       "<!-- St0 -->\n",
       "<g id=\"node5\" class=\"node\"><title>St0</title>\n",
       "<ellipse fill=\"none\" stroke=\"black\" cx=\"203.712\" cy=\"-25.9039\" rx=\"21.8229\" ry=\"21.8229\"/>\n",
       "<ellipse fill=\"none\" stroke=\"black\" cx=\"203.712\" cy=\"-25.9039\" rx=\"25.8081\" ry=\"25.8081\"/>\n",
       "<text text-anchor=\"middle\" x=\"203.712\" y=\"-21.7039\" font-family=\"Times,serif\" font-size=\"14.00\">St0</text>\n",
       "</g>\n",
       "<!-- St1&#45;&gt;St0 -->\n",
       "<g id=\"edge2\" class=\"edge\"><title>St1&#45;&gt;St0</title>\n",
       "<path fill=\"none\" stroke=\"black\" d=\"M134.95,-25.9039C144.668,-25.9039 156.471,-25.9039 167.487,-25.9039\"/>\n",
       "<polygon fill=\"black\" stroke=\"black\" points=\"167.713,-29.404 177.713,-25.9039 167.713,-22.404 167.713,-29.404\"/>\n",
       "<text text-anchor=\"middle\" x=\"156.308\" y=\"-28.7039\" font-family=\"Times,serif\" font-size=\"14.00\">a</text>\n",
       "</g>\n",
       "<!-- St1&#45;&gt;St0 -->\n",
       "<g id=\"edge3\" class=\"edge\"><title>St1&#45;&gt;St0</title>\n",
       "<path fill=\"none\" stroke=\"black\" d=\"M132.322,-15.3991C138.615,-12.355 145.83,-9.43978 152.808,-7.90386 159.065,-6.5265 165.606,-7.22673 171.815,-8.97717\"/>\n",
       "<polygon fill=\"black\" stroke=\"black\" points=\"170.617,-12.2657 181.21,-12.4447 173.041,-5.69865 170.617,-12.2657\"/>\n",
       "<text text-anchor=\"middle\" x=\"156.308\" y=\"-10.7039\" font-family=\"Times,serif\" font-size=\"14.00\">b</text>\n",
       "</g>\n",
       "<!-- St2 -->\n",
       "<g id=\"node3\" class=\"node\"><title>St2</title>\n",
       "<ellipse fill=\"none\" stroke=\"black\" cx=\"294.519\" cy=\"-25.9039\" rx=\"21.8081\" ry=\"21.8081\"/>\n",
       "<text text-anchor=\"middle\" x=\"294.519\" y=\"-21.7039\" font-family=\"Times,serif\" font-size=\"14.00\">St2</text>\n",
       "</g>\n",
       "<!-- St3 -->\n",
       "<g id=\"node4\" class=\"node\"><title>St3</title>\n",
       "<ellipse fill=\"none\" stroke=\"black\" cx=\"385.327\" cy=\"-25.9039\" rx=\"21.8229\" ry=\"21.8229\"/>\n",
       "<ellipse fill=\"none\" stroke=\"black\" cx=\"385.327\" cy=\"-25.9039\" rx=\"25.8081\" ry=\"25.8081\"/>\n",
       "<text text-anchor=\"middle\" x=\"385.327\" y=\"-21.7039\" font-family=\"Times,serif\" font-size=\"14.00\">St3</text>\n",
       "</g>\n",
       "<!-- St2&#45;&gt;St3 -->\n",
       "<g id=\"edge6\" class=\"edge\"><title>St2&#45;&gt;St3</title>\n",
       "<path fill=\"none\" stroke=\"black\" d=\"M316.566,-25.9039C326.283,-25.9039 338.087,-25.9039 349.103,-25.9039\"/>\n",
       "<polygon fill=\"black\" stroke=\"black\" points=\"349.329,-29.404 359.329,-25.9039 349.329,-22.404 349.329,-29.404\"/>\n",
       "<text text-anchor=\"middle\" x=\"337.923\" y=\"-28.7039\" font-family=\"Times,serif\" font-size=\"14.00\">a</text>\n",
       "</g>\n",
       "<!-- St2&#45;&gt;St3 -->\n",
       "<g id=\"edge7\" class=\"edge\"><title>St2&#45;&gt;St3</title>\n",
       "<path fill=\"none\" stroke=\"black\" d=\"M313.937,-15.3991C320.231,-12.355 327.446,-9.43978 334.423,-7.90386 340.68,-6.5265 347.222,-7.22673 353.431,-8.97717\"/>\n",
       "<polygon fill=\"black\" stroke=\"black\" points=\"352.233,-12.2657 362.826,-12.4447 354.656,-5.69865 352.233,-12.2657\"/>\n",
       "<text text-anchor=\"middle\" x=\"337.923\" y=\"-10.7039\" font-family=\"Times,serif\" font-size=\"14.00\">b</text>\n",
       "</g>\n",
       "<!-- St3&#45;&gt;St3 -->\n",
       "<g id=\"edge8\" class=\"edge\"><title>St3&#45;&gt;St3</title>\n",
       "<path fill=\"none\" stroke=\"black\" d=\"M381.031,-51.6087C380.84,-61.5472 382.272,-69.8077 385.327,-69.8077 387.236,-69.8077 388.512,-66.5809 389.153,-61.7345\"/>\n",
       "<polygon fill=\"black\" stroke=\"black\" points=\"392.655,-61.7602 389.623,-51.6087 385.663,-61.4357 392.655,-61.7602\"/>\n",
       "<text text-anchor=\"middle\" x=\"385.327\" y=\"-72.6077\" font-family=\"Times,serif\" font-size=\"14.00\">a</text>\n",
       "</g>\n",
       "<!-- St3&#45;&gt;St3 -->\n",
       "<g id=\"edge9\" class=\"edge\"><title>St3&#45;&gt;St3</title>\n",
       "<path fill=\"none\" stroke=\"black\" d=\"M377.721,-50.6941C375.065,-69.1781 377.6,-87.8077 385.327,-87.8077 391.605,-87.8077 394.456,-75.5093 393.879,-60.9829\"/>\n",
       "<polygon fill=\"black\" stroke=\"black\" points=\"397.334,-60.3314 392.933,-50.6941 390.364,-60.9727 397.334,-60.3314\"/>\n",
       "<text text-anchor=\"middle\" x=\"385.327\" y=\"-90.6077\" font-family=\"Times,serif\" font-size=\"14.00\">b</text>\n",
       "</g>\n",
       "<!-- St0&#45;&gt;St2 -->\n",
       "<g id=\"edge4\" class=\"edge\"><title>St0&#45;&gt;St2</title>\n",
       "<path fill=\"none\" stroke=\"black\" d=\"M229.923,-25.9039C239.999,-25.9039 251.709,-25.9039 262.313,-25.9039\"/>\n",
       "<polygon fill=\"black\" stroke=\"black\" points=\"262.449,-29.404 272.449,-25.9039 262.448,-22.404 262.449,-29.404\"/>\n",
       "<text text-anchor=\"middle\" x=\"251.115\" y=\"-28.7039\" font-family=\"Times,serif\" font-size=\"14.00\">a</text>\n",
       "</g>\n",
       "<!-- St0&#45;&gt;St2 -->\n",
       "<g id=\"edge5\" class=\"edge\"><title>St0&#45;&gt;St2</title>\n",
       "<path fill=\"none\" stroke=\"black\" d=\"M226.213,-12.4447C234.886,-8.53035 245.081,-5.80503 254.615,-7.90386 258.322,-8.71982 262.096,-9.92505 265.763,-11.3321\"/>\n",
       "<polygon fill=\"black\" stroke=\"black\" points=\"264.536,-14.615 275.101,-15.3991 267.331,-8.19721 264.536,-14.615\"/>\n",
       "<text text-anchor=\"middle\" x=\"251.115\" y=\"-10.7039\" font-family=\"Times,serif\" font-size=\"14.00\">b</text>\n",
       "</g>\n",
       "</g>\n",
       "</svg>\n"
      ],
      "text/plain": [
       "<graphviz.dot.Digraph at 0x10751fcc0>"
      ]
     },
     "execution_count": 69,
     "metadata": {},
     "output_type": "execute_result"
    }
   ],
   "source": [
    "DOdrblimp = dotObj_dfa(drblimp)\n",
    "DOdrblimp"
   ]
  },
  {
   "cell_type": "markdown",
   "metadata": {
    "run_control": {
     "frozen": false,
     "read_only": false
    }
   },
   "source": [
    "## Step 3: Reverse the result of Step 2"
   ]
  },
  {
   "cell_type": "code",
   "execution_count": 70,
   "metadata": {
    "run_control": {
     "frozen": false,
     "read_only": false
    }
   },
   "outputs": [
    {
     "data": {
      "image/svg+xml": [
       "<?xml version=\"1.0\" encoding=\"UTF-8\" standalone=\"no\"?>\n",
       "<!DOCTYPE svg PUBLIC \"-//W3C//DTD SVG 1.1//EN\"\n",
       " \"http://www.w3.org/Graphics/SVG/1.1/DTD/svg11.dtd\">\n",
       "<!-- Generated by graphviz version 2.38.0 (20140413.2041)\n",
       " -->\n",
       "<!-- Title: %3 Pages: 1 -->\n",
       "<svg width=\"411pt\" height=\"144pt\"\n",
       " viewBox=\"0.00 0.00 411.23 143.90\" xmlns=\"http://www.w3.org/2000/svg\" xmlns:xlink=\"http://www.w3.org/1999/xlink\">\n",
       "<g id=\"graph0\" class=\"graph\" transform=\"scale(1 1) rotate(0) translate(4 139.904)\">\n",
       "<title>%3</title>\n",
       "<polygon fill=\"white\" stroke=\"none\" points=\"-4,4 -4,-139.904 407.231,-139.904 407.231,4 -4,4\"/>\n",
       "<!-- EMPTY -->\n",
       "<g id=\"node1\" class=\"node\"><title>EMPTY</title>\n",
       "</g>\n",
       "<!-- St3 -->\n",
       "<g id=\"node2\" class=\"node\"><title>St3</title>\n",
       "<ellipse fill=\"none\" stroke=\"black\" cx=\"112.904\" cy=\"-50\" rx=\"21.8081\" ry=\"21.8081\"/>\n",
       "<text text-anchor=\"middle\" x=\"112.904\" y=\"-45.8\" font-family=\"Times,serif\" font-size=\"14.00\">St3</text>\n",
       "</g>\n",
       "<!-- EMPTY&#45;&gt;St3 -->\n",
       "<g id=\"edge1\" class=\"edge\"><title>EMPTY&#45;&gt;St3</title>\n",
       "<path fill=\"none\" stroke=\"black\" d=\"M54.0878,-27.9496C63.1317,-31.3988 73.3291,-35.288 82.6136,-38.829\"/>\n",
       "<polygon fill=\"black\" stroke=\"black\" points=\"81.6414,-42.2041 92.2321,-42.4974 84.1359,-35.6636 81.6414,-42.2041\"/>\n",
       "</g>\n",
       "<!-- St0 -->\n",
       "<g id=\"node4\" class=\"node\"><title>St0</title>\n",
       "<ellipse fill=\"none\" stroke=\"black\" cx=\"286.519\" cy=\"-33\" rx=\"21.8081\" ry=\"21.8081\"/>\n",
       "<text text-anchor=\"middle\" x=\"286.519\" y=\"-28.8\" font-family=\"Times,serif\" font-size=\"14.00\">St0</text>\n",
       "</g>\n",
       "<!-- EMPTY&#45;&gt;St0 -->\n",
       "<g id=\"edge2\" class=\"edge\"><title>EMPTY&#45;&gt;St0</title>\n",
       "<path fill=\"none\" stroke=\"black\" d=\"M54.0417,-17.2226C95.1473,-16.3571 177.506,-16.0906 246.615,-25 249.342,-25.3516 252.164,-25.7877 254.984,-26.2735\"/>\n",
       "<polygon fill=\"black\" stroke=\"black\" points=\"254.543,-29.7524 265.022,-28.1884 255.855,-22.8764 254.543,-29.7524\"/>\n",
       "</g>\n",
       "<!-- St3&#45;&gt;St3 -->\n",
       "<g id=\"edge5\" class=\"edge\"><title>St3&#45;&gt;St3</title>\n",
       "<path fill=\"none\" stroke=\"black\" d=\"M109.212,-71.7542C108.861,-81.4866 110.091,-89.9039 112.904,-89.9039 114.662,-89.9039 115.802,-86.6159 116.323,-81.7738\"/>\n",
       "<polygon fill=\"black\" stroke=\"black\" points=\"119.823,-81.8455 116.595,-71.7542 112.825,-81.6556 119.823,-81.8455\"/>\n",
       "<text text-anchor=\"middle\" x=\"112.904\" y=\"-92.7039\" font-family=\"Times,serif\" font-size=\"14.00\">a</text>\n",
       "</g>\n",
       "<!-- St3&#45;&gt;St3 -->\n",
       "<g id=\"edge7\" class=\"edge\"><title>St3&#45;&gt;St3</title>\n",
       "<path fill=\"none\" stroke=\"black\" d=\"M106.595,-71.0793C103.809,-89.0308 105.912,-107.904 112.904,-107.904 118.585,-107.904 121.039,-95.4447 120.265,-81.1437\"/>\n",
       "<polygon fill=\"black\" stroke=\"black\" points=\"123.733,-80.6614 119.213,-71.0793 116.771,-81.3888 123.733,-80.6614\"/>\n",
       "<text text-anchor=\"middle\" x=\"112.904\" y=\"-110.704\" font-family=\"Times,serif\" font-size=\"14.00\">b</text>\n",
       "</g>\n",
       "<!-- St2 -->\n",
       "<g id=\"node3\" class=\"node\"><title>St2</title>\n",
       "<ellipse fill=\"none\" stroke=\"black\" cx=\"199.712\" cy=\"-60\" rx=\"21.8081\" ry=\"21.8081\"/>\n",
       "<text text-anchor=\"middle\" x=\"199.712\" y=\"-55.8\" font-family=\"Times,serif\" font-size=\"14.00\">St2</text>\n",
       "</g>\n",
       "<!-- St3&#45;&gt;St2 -->\n",
       "<g id=\"edge6\" class=\"edge\"><title>St3&#45;&gt;St2</title>\n",
       "<path fill=\"none\" stroke=\"black\" d=\"M134.867,-53.493C140.668,-54.3887 146.973,-55.2966 152.808,-56 157.491,-56.5646 162.453,-57.0813 167.315,-57.5422\"/>\n",
       "<polygon fill=\"black\" stroke=\"black\" points=\"167.387,-61.0623 177.657,-58.4592 168.006,-54.0896 167.387,-61.0623\"/>\n",
       "<text text-anchor=\"middle\" x=\"156.308\" y=\"-59.8\" font-family=\"Times,serif\" font-size=\"14.00\">a</text>\n",
       "</g>\n",
       "<!-- St3&#45;&gt;St2 -->\n",
       "<g id=\"edge8\" class=\"edge\"><title>St3&#45;&gt;St2</title>\n",
       "<path fill=\"none\" stroke=\"black\" d=\"M133.115,-40.4926C141.338,-37.5853 151.045,-35.694 159.808,-38 164.029,-39.1108 168.273,-40.7956 172.326,-42.7485\"/>\n",
       "<polygon fill=\"black\" stroke=\"black\" points=\"170.881,-45.9464 181.338,-47.6481 174.224,-39.7965 170.881,-45.9464\"/>\n",
       "<text text-anchor=\"middle\" x=\"156.308\" y=\"-40.8\" font-family=\"Times,serif\" font-size=\"14.00\">b</text>\n",
       "</g>\n",
       "<!-- St2&#45;&gt;St0 -->\n",
       "<g id=\"edge3\" class=\"edge\"><title>St2&#45;&gt;St0</title>\n",
       "<path fill=\"none\" stroke=\"black\" d=\"M221.42,-55.1121C229.357,-53.1017 238.462,-50.6284 246.615,-48 249.785,-46.9783 253.071,-45.8395 256.33,-44.6587\"/>\n",
       "<polygon fill=\"black\" stroke=\"black\" points=\"257.755,-47.8624 265.881,-41.0649 255.289,-41.3108 257.755,-47.8624\"/>\n",
       "<text text-anchor=\"middle\" x=\"243.115\" y=\"-52.8\" font-family=\"Times,serif\" font-size=\"14.00\">a</text>\n",
       "</g>\n",
       "<!-- St2&#45;&gt;St0 -->\n",
       "<g id=\"edge4\" class=\"edge\"><title>St2&#45;&gt;St0</title>\n",
       "<path fill=\"none\" stroke=\"black\" d=\"M215.574,-44.8098C222.303,-38.9909 230.735,-33.0264 239.615,-30 244.373,-28.3786 249.566,-27.7358 254.693,-27.6884\"/>\n",
       "<polygon fill=\"black\" stroke=\"black\" points=\"254.77,-31.1992 264.962,-28.3045 255.189,-24.2118 254.77,-31.1992\"/>\n",
       "<text text-anchor=\"middle\" x=\"243.115\" y=\"-32.8\" font-family=\"Times,serif\" font-size=\"14.00\">b</text>\n",
       "</g>\n",
       "<!-- St1 -->\n",
       "<g id=\"node5\" class=\"node\"><title>St1</title>\n",
       "<ellipse fill=\"none\" stroke=\"black\" cx=\"377.327\" cy=\"-33\" rx=\"21.8229\" ry=\"21.8229\"/>\n",
       "<ellipse fill=\"none\" stroke=\"black\" cx=\"377.327\" cy=\"-33\" rx=\"25.8081\" ry=\"25.8081\"/>\n",
       "<text text-anchor=\"middle\" x=\"377.327\" y=\"-28.8\" font-family=\"Times,serif\" font-size=\"14.00\">St1</text>\n",
       "</g>\n",
       "<!-- St0&#45;&gt;St1 -->\n",
       "<g id=\"edge9\" class=\"edge\"><title>St0&#45;&gt;St1</title>\n",
       "<path fill=\"none\" stroke=\"black\" d=\"M308.566,-33C318.283,-33 330.087,-33 341.103,-33\"/>\n",
       "<polygon fill=\"black\" stroke=\"black\" points=\"341.329,-36.5001 351.329,-33 341.329,-29.5001 341.329,-36.5001\"/>\n",
       "<text text-anchor=\"middle\" x=\"329.923\" y=\"-35.8\" font-family=\"Times,serif\" font-size=\"14.00\">a</text>\n",
       "</g>\n",
       "<!-- St0&#45;&gt;St1 -->\n",
       "<g id=\"edge10\" class=\"edge\"><title>St0&#45;&gt;St1</title>\n",
       "<path fill=\"none\" stroke=\"black\" d=\"M305.937,-22.4952C312.231,-19.4511 319.446,-16.5359 326.423,-15 332.68,-13.6226 339.222,-14.3229 345.431,-16.0733\"/>\n",
       "<polygon fill=\"black\" stroke=\"black\" points=\"344.233,-19.3618 354.826,-19.5408 346.656,-12.7948 344.233,-19.3618\"/>\n",
       "<text text-anchor=\"middle\" x=\"329.923\" y=\"-17.8\" font-family=\"Times,serif\" font-size=\"14.00\">b</text>\n",
       "</g>\n",
       "</g>\n",
       "</svg>\n"
      ],
      "text/plain": [
       "<graphviz.dot.Digraph at 0x10751f6d8>"
      ]
     },
     "execution_count": 70,
     "metadata": {},
     "output_type": "execute_result"
    }
   ],
   "source": [
    "rdrblimp = rev_dfa(drblimp)\n",
    "DOrdrblimp = dotObj_nfa(rdrblimp)\n",
    "DOrdrblimp"
   ]
  },
  {
   "cell_type": "markdown",
   "metadata": {
    "collapsed": true,
    "run_control": {
     "frozen": false,
     "read_only": false
    }
   },
   "source": [
    "## Step 4: Determinize the result of Step 3"
   ]
  },
  {
   "cell_type": "code",
   "execution_count": 71,
   "metadata": {
    "run_control": {
     "frozen": false,
     "read_only": false
    }
   },
   "outputs": [
    {
     "data": {
      "image/svg+xml": [
       "<?xml version=\"1.0\" encoding=\"UTF-8\" standalone=\"no\"?>\n",
       "<!DOCTYPE svg PUBLIC \"-//W3C//DTD SVG 1.1//EN\"\n",
       " \"http://www.w3.org/Graphics/SVG/1.1/DTD/svg11.dtd\">\n",
       "<!-- Generated by graphviz version 2.38.0 (20140413.2041)\n",
       " -->\n",
       "<!-- Title: %3 Pages: 1 -->\n",
       "<svg width=\"419pt\" height=\"124pt\"\n",
       " viewBox=\"0.00 0.00 419.23 123.81\" xmlns=\"http://www.w3.org/2000/svg\" xmlns:xlink=\"http://www.w3.org/1999/xlink\">\n",
       "<g id=\"graph0\" class=\"graph\" transform=\"scale(1 1) rotate(0) translate(4 119.808)\">\n",
       "<title>%3</title>\n",
       "<polygon fill=\"white\" stroke=\"none\" points=\"-4,4 -4,-119.808 415.231,-119.808 415.231,4 -4,4\"/>\n",
       "<!-- EMPTY -->\n",
       "<g id=\"node1\" class=\"node\"><title>EMPTY</title>\n",
       "</g>\n",
       "<!-- St3 -->\n",
       "<g id=\"node3\" class=\"node\"><title>St3</title>\n",
       "<ellipse fill=\"none\" stroke=\"black\" cx=\"112.904\" cy=\"-25.9039\" rx=\"21.8081\" ry=\"21.8081\"/>\n",
       "<text text-anchor=\"middle\" x=\"112.904\" y=\"-21.7039\" font-family=\"Times,serif\" font-size=\"14.00\">St3</text>\n",
       "</g>\n",
       "<!-- EMPTY&#45;&gt;St3 -->\n",
       "<g id=\"edge1\" class=\"edge\"><title>EMPTY&#45;&gt;St3</title>\n",
       "<path fill=\"none\" stroke=\"black\" d=\"M54.0878,-25.9039C62.501,-25.9039 71.9126,-25.9039 80.6587,-25.9039\"/>\n",
       "<polygon fill=\"black\" stroke=\"black\" points=\"80.8854,-29.404 90.8853,-25.9039 80.8853,-22.404 80.8854,-29.404\"/>\n",
       "</g>\n",
       "<!-- St1 -->\n",
       "<g id=\"node2\" class=\"node\"><title>St1</title>\n",
       "<ellipse fill=\"none\" stroke=\"black\" cx=\"294.519\" cy=\"-25.9039\" rx=\"21.8081\" ry=\"21.8081\"/>\n",
       "<text text-anchor=\"middle\" x=\"294.519\" y=\"-21.7039\" font-family=\"Times,serif\" font-size=\"14.00\">St1</text>\n",
       "</g>\n",
       "<!-- St2 -->\n",
       "<g id=\"node4\" class=\"node\"><title>St2</title>\n",
       "<ellipse fill=\"none\" stroke=\"black\" cx=\"385.327\" cy=\"-25.9039\" rx=\"21.8229\" ry=\"21.8229\"/>\n",
       "<ellipse fill=\"none\" stroke=\"black\" cx=\"385.327\" cy=\"-25.9039\" rx=\"25.8081\" ry=\"25.8081\"/>\n",
       "<text text-anchor=\"middle\" x=\"385.327\" y=\"-21.7039\" font-family=\"Times,serif\" font-size=\"14.00\">St2</text>\n",
       "</g>\n",
       "<!-- St1&#45;&gt;St2 -->\n",
       "<g id=\"edge6\" class=\"edge\"><title>St1&#45;&gt;St2</title>\n",
       "<path fill=\"none\" stroke=\"black\" d=\"M316.566,-25.9039C326.283,-25.9039 338.087,-25.9039 349.103,-25.9039\"/>\n",
       "<polygon fill=\"black\" stroke=\"black\" points=\"349.329,-29.404 359.329,-25.9039 349.329,-22.404 349.329,-29.404\"/>\n",
       "<text text-anchor=\"middle\" x=\"337.923\" y=\"-28.7039\" font-family=\"Times,serif\" font-size=\"14.00\">a</text>\n",
       "</g>\n",
       "<!-- St1&#45;&gt;St2 -->\n",
       "<g id=\"edge7\" class=\"edge\"><title>St1&#45;&gt;St2</title>\n",
       "<path fill=\"none\" stroke=\"black\" d=\"M313.937,-15.3991C320.231,-12.355 327.446,-9.43978 334.423,-7.90386 340.68,-6.5265 347.222,-7.22673 353.431,-8.97717\"/>\n",
       "<polygon fill=\"black\" stroke=\"black\" points=\"352.233,-12.2657 362.826,-12.4447 354.656,-5.69865 352.233,-12.2657\"/>\n",
       "<text text-anchor=\"middle\" x=\"337.923\" y=\"-10.7039\" font-family=\"Times,serif\" font-size=\"14.00\">b</text>\n",
       "</g>\n",
       "<!-- St0 -->\n",
       "<g id=\"node5\" class=\"node\"><title>St0</title>\n",
       "<ellipse fill=\"none\" stroke=\"black\" cx=\"203.712\" cy=\"-25.9039\" rx=\"21.8229\" ry=\"21.8229\"/>\n",
       "<ellipse fill=\"none\" stroke=\"black\" cx=\"203.712\" cy=\"-25.9039\" rx=\"25.8081\" ry=\"25.8081\"/>\n",
       "<text text-anchor=\"middle\" x=\"203.712\" y=\"-21.7039\" font-family=\"Times,serif\" font-size=\"14.00\">St0</text>\n",
       "</g>\n",
       "<!-- St3&#45;&gt;St0 -->\n",
       "<g id=\"edge2\" class=\"edge\"><title>St3&#45;&gt;St0</title>\n",
       "<path fill=\"none\" stroke=\"black\" d=\"M134.95,-25.9039C144.668,-25.9039 156.471,-25.9039 167.487,-25.9039\"/>\n",
       "<polygon fill=\"black\" stroke=\"black\" points=\"167.713,-29.404 177.713,-25.9039 167.713,-22.404 167.713,-29.404\"/>\n",
       "<text text-anchor=\"middle\" x=\"156.308\" y=\"-28.7039\" font-family=\"Times,serif\" font-size=\"14.00\">a</text>\n",
       "</g>\n",
       "<!-- St3&#45;&gt;St0 -->\n",
       "<g id=\"edge3\" class=\"edge\"><title>St3&#45;&gt;St0</title>\n",
       "<path fill=\"none\" stroke=\"black\" d=\"M132.322,-15.3991C138.615,-12.355 145.83,-9.43978 152.808,-7.90386 159.065,-6.5265 165.606,-7.22673 171.815,-8.97717\"/>\n",
       "<polygon fill=\"black\" stroke=\"black\" points=\"170.617,-12.2657 181.21,-12.4447 173.041,-5.69865 170.617,-12.2657\"/>\n",
       "<text text-anchor=\"middle\" x=\"156.308\" y=\"-10.7039\" font-family=\"Times,serif\" font-size=\"14.00\">b</text>\n",
       "</g>\n",
       "<!-- St2&#45;&gt;St2 -->\n",
       "<g id=\"edge8\" class=\"edge\"><title>St2&#45;&gt;St2</title>\n",
       "<path fill=\"none\" stroke=\"black\" d=\"M381.031,-51.6087C380.84,-61.5472 382.272,-69.8077 385.327,-69.8077 387.236,-69.8077 388.512,-66.5809 389.153,-61.7345\"/>\n",
       "<polygon fill=\"black\" stroke=\"black\" points=\"392.655,-61.7602 389.623,-51.6087 385.663,-61.4357 392.655,-61.7602\"/>\n",
       "<text text-anchor=\"middle\" x=\"385.327\" y=\"-72.6077\" font-family=\"Times,serif\" font-size=\"14.00\">a</text>\n",
       "</g>\n",
       "<!-- St2&#45;&gt;St2 -->\n",
       "<g id=\"edge9\" class=\"edge\"><title>St2&#45;&gt;St2</title>\n",
       "<path fill=\"none\" stroke=\"black\" d=\"M377.721,-50.6941C375.065,-69.1781 377.6,-87.8077 385.327,-87.8077 391.605,-87.8077 394.456,-75.5093 393.879,-60.9829\"/>\n",
       "<polygon fill=\"black\" stroke=\"black\" points=\"397.334,-60.3314 392.933,-50.6941 390.364,-60.9727 397.334,-60.3314\"/>\n",
       "<text text-anchor=\"middle\" x=\"385.327\" y=\"-90.6077\" font-family=\"Times,serif\" font-size=\"14.00\">b</text>\n",
       "</g>\n",
       "<!-- St0&#45;&gt;St1 -->\n",
       "<g id=\"edge4\" class=\"edge\"><title>St0&#45;&gt;St1</title>\n",
       "<path fill=\"none\" stroke=\"black\" d=\"M229.923,-25.9039C239.999,-25.9039 251.709,-25.9039 262.313,-25.9039\"/>\n",
       "<polygon fill=\"black\" stroke=\"black\" points=\"262.449,-29.404 272.449,-25.9039 262.448,-22.404 262.449,-29.404\"/>\n",
       "<text text-anchor=\"middle\" x=\"251.115\" y=\"-28.7039\" font-family=\"Times,serif\" font-size=\"14.00\">a</text>\n",
       "</g>\n",
       "<!-- St0&#45;&gt;St1 -->\n",
       "<g id=\"edge5\" class=\"edge\"><title>St0&#45;&gt;St1</title>\n",
       "<path fill=\"none\" stroke=\"black\" d=\"M226.213,-12.4447C234.886,-8.53035 245.081,-5.80503 254.615,-7.90386 258.322,-8.71982 262.096,-9.92505 265.763,-11.3321\"/>\n",
       "<polygon fill=\"black\" stroke=\"black\" points=\"264.536,-14.615 275.101,-15.3991 267.331,-8.19721 264.536,-14.615\"/>\n",
       "<text text-anchor=\"middle\" x=\"251.115\" y=\"-10.7039\" font-family=\"Times,serif\" font-size=\"14.00\">b</text>\n",
       "</g>\n",
       "</g>\n",
       "</svg>\n"
      ],
      "text/plain": [
       "<graphviz.dot.Digraph at 0x106bda390>"
      ]
     },
     "execution_count": 71,
     "metadata": {},
     "output_type": "execute_result"
    }
   ],
   "source": [
    "drdrblimp = nfa2dfa(rdrblimp)\n",
    "DOdrdrblimp = dotObj_dfa(drdrblimp)\n",
    "DOdrdrblimp"
   ]
  },
  {
   "cell_type": "markdown",
   "metadata": {
    "run_control": {
     "frozen": false,
     "read_only": false
    }
   },
   "source": [
    "## End result is isomorphic!"
   ]
  },
  {
   "cell_type": "code",
   "execution_count": 72,
   "metadata": {
    "run_control": {
     "frozen": false,
     "read_only": false
    }
   },
   "outputs": [
    {
     "data": {
      "text/plain": [
       "True"
      ]
     },
     "execution_count": 72,
     "metadata": {},
     "output_type": "execute_result"
    }
   ],
   "source": [
    "iso_dfa(drdrblimp, classic_min)"
   ]
  },
  {
   "cell_type": "markdown",
   "metadata": {
    "run_control": {
     "frozen": false,
     "read_only": false
    }
   },
   "source": [
    "# RE to NFA"
   ]
  },
  {
   "cell_type": "code",
   "execution_count": 73,
   "metadata": {
    "run_control": {
     "frozen": false,
     "read_only": false
    }
   },
   "outputs": [
    {
     "name": "stderr",
     "output_type": "stream",
     "text": [
      "Generating LALR tables\n"
     ]
    },
    {
     "data": {
      "image/svg+xml": [
       "<?xml version=\"1.0\" encoding=\"UTF-8\" standalone=\"no\"?>\n",
       "<!DOCTYPE svg PUBLIC \"-//W3C//DTD SVG 1.1//EN\"\n",
       " \"http://www.w3.org/Graphics/SVG/1.1/DTD/svg11.dtd\">\n",
       "<!-- Generated by graphviz version 2.38.0 (20140413.2041)\n",
       " -->\n",
       "<!-- Title: %3 Pages: 1 -->\n",
       "<svg width=\"150pt\" height=\"60pt\"\n",
       " viewBox=\"0.00 0.00 149.81 59.81\" xmlns=\"http://www.w3.org/2000/svg\" xmlns:xlink=\"http://www.w3.org/1999/xlink\">\n",
       "<g id=\"graph0\" class=\"graph\" transform=\"scale(1 1) rotate(0) translate(4 55.8077)\">\n",
       "<title>%3</title>\n",
       "<polygon fill=\"white\" stroke=\"none\" points=\"-4,4 -4,-55.8077 145.808,-55.8077 145.808,4 -4,4\"/>\n",
       "<!-- EMPTY -->\n",
       "<g id=\"node1\" class=\"node\"><title>EMPTY</title>\n",
       "</g>\n",
       "<!-- St1 -->\n",
       "<g id=\"node2\" class=\"node\"><title>St1</title>\n",
       "<ellipse fill=\"none\" stroke=\"black\" cx=\"115.904\" cy=\"-25.9039\" rx=\"21.8229\" ry=\"21.8229\"/>\n",
       "<ellipse fill=\"none\" stroke=\"black\" cx=\"115.904\" cy=\"-25.9039\" rx=\"25.8081\" ry=\"25.8081\"/>\n",
       "<text text-anchor=\"middle\" x=\"115.904\" y=\"-21.7039\" font-family=\"Times,serif\" font-size=\"14.00\">St1</text>\n",
       "</g>\n",
       "<!-- EMPTY&#45;&gt;St1 -->\n",
       "<g id=\"edge1\" class=\"edge\"><title>EMPTY&#45;&gt;St1</title>\n",
       "<path fill=\"none\" stroke=\"black\" d=\"M54.074,-25.9039C62.107,-25.9039 71.0887,-25.9039 79.6326,-25.9039\"/>\n",
       "<polygon fill=\"black\" stroke=\"black\" points=\"79.744,-29.404 89.744,-25.9039 79.7439,-22.404 79.744,-29.404\"/>\n",
       "</g>\n",
       "</g>\n",
       "</svg>\n"
      ],
      "text/plain": [
       "<graphviz.dot.Digraph at 0x10751f470>"
      ]
     },
     "execution_count": 73,
     "metadata": {},
     "output_type": "execute_result"
    }
   ],
   "source": [
    "dotObj_nfa(re2nfa(\"''\"))"
   ]
  },
  {
   "cell_type": "code",
   "execution_count": 74,
   "metadata": {
    "run_control": {
     "frozen": false,
     "read_only": false
    }
   },
   "outputs": [
    {
     "name": "stderr",
     "output_type": "stream",
     "text": [
      "Generating LALR tables\n"
     ]
    },
    {
     "data": {
      "image/svg+xml": [
       "<?xml version=\"1.0\" encoding=\"UTF-8\" standalone=\"no\"?>\n",
       "<!DOCTYPE svg PUBLIC \"-//W3C//DTD SVG 1.1//EN\"\n",
       " \"http://www.w3.org/Graphics/SVG/1.1/DTD/svg11.dtd\">\n",
       "<!-- Generated by graphviz version 2.38.0 (20140413.2041)\n",
       " -->\n",
       "<!-- Title: %3 Pages: 1 -->\n",
       "<svg width=\"237pt\" height=\"60pt\"\n",
       " viewBox=\"0.00 0.00 236.83 59.81\" xmlns=\"http://www.w3.org/2000/svg\" xmlns:xlink=\"http://www.w3.org/1999/xlink\">\n",
       "<g id=\"graph0\" class=\"graph\" transform=\"scale(1 1) rotate(0) translate(4 55.8077)\">\n",
       "<title>%3</title>\n",
       "<polygon fill=\"white\" stroke=\"none\" points=\"-4,4 -4,-55.8077 232.829,-55.8077 232.829,4 -4,4\"/>\n",
       "<!-- EMPTY -->\n",
       "<g id=\"node1\" class=\"node\"><title>EMPTY</title>\n",
       "</g>\n",
       "<!-- St1 -->\n",
       "<g id=\"node2\" class=\"node\"><title>St1</title>\n",
       "<ellipse fill=\"none\" stroke=\"black\" cx=\"112.904\" cy=\"-25.9039\" rx=\"21.8081\" ry=\"21.8081\"/>\n",
       "<text text-anchor=\"middle\" x=\"112.904\" y=\"-21.7039\" font-family=\"Times,serif\" font-size=\"14.00\">St1</text>\n",
       "</g>\n",
       "<!-- EMPTY&#45;&gt;St1 -->\n",
       "<g id=\"edge1\" class=\"edge\"><title>EMPTY&#45;&gt;St1</title>\n",
       "<path fill=\"none\" stroke=\"black\" d=\"M54.0878,-25.9039C62.501,-25.9039 71.9126,-25.9039 80.6587,-25.9039\"/>\n",
       "<polygon fill=\"black\" stroke=\"black\" points=\"80.8854,-29.404 90.8853,-25.9039 80.8853,-22.404 80.8854,-29.404\"/>\n",
       "</g>\n",
       "<!-- St2 -->\n",
       "<g id=\"node3\" class=\"node\"><title>St2</title>\n",
       "<ellipse fill=\"none\" stroke=\"black\" cx=\"202.925\" cy=\"-25.9039\" rx=\"21.8229\" ry=\"21.8229\"/>\n",
       "<ellipse fill=\"none\" stroke=\"black\" cx=\"202.925\" cy=\"-25.9039\" rx=\"25.8081\" ry=\"25.8081\"/>\n",
       "<text text-anchor=\"middle\" x=\"202.925\" y=\"-21.7039\" font-family=\"Times,serif\" font-size=\"14.00\">St2</text>\n",
       "</g>\n",
       "<!-- St1&#45;&gt;St2 -->\n",
       "<g id=\"edge2\" class=\"edge\"><title>St1&#45;&gt;St2</title>\n",
       "<path fill=\"none\" stroke=\"black\" d=\"M135.211,-25.9039C144.599,-25.9039 155.884,-25.9039 166.479,-25.9039\"/>\n",
       "<polygon fill=\"black\" stroke=\"black\" points=\"166.75,-29.404 176.75,-25.9039 166.75,-22.404 166.75,-29.404\"/>\n",
       "<text text-anchor=\"middle\" x=\"155.915\" y=\"-28.7039\" font-family=\"Times,serif\" font-size=\"14.00\">a</text>\n",
       "</g>\n",
       "</g>\n",
       "</svg>\n"
      ],
      "text/plain": [
       "<graphviz.dot.Digraph at 0x10751ffd0>"
      ]
     },
     "execution_count": 74,
     "metadata": {},
     "output_type": "execute_result"
    }
   ],
   "source": [
    "dotObj_nfa(re2nfa(\"a\"))"
   ]
  },
  {
   "cell_type": "code",
   "execution_count": 75,
   "metadata": {
    "run_control": {
     "frozen": false,
     "read_only": false
    }
   },
   "outputs": [
    {
     "name": "stderr",
     "output_type": "stream",
     "text": [
      "Generating LALR tables\n"
     ]
    },
    {
     "data": {
      "image/svg+xml": [
       "<?xml version=\"1.0\" encoding=\"UTF-8\" standalone=\"no\"?>\n",
       "<!DOCTYPE svg PUBLIC \"-//W3C//DTD SVG 1.1//EN\"\n",
       " \"http://www.w3.org/Graphics/SVG/1.1/DTD/svg11.dtd\">\n",
       "<!-- Generated by graphviz version 2.38.0 (20140413.2041)\n",
       " -->\n",
       "<!-- Title: %3 Pages: 1 -->\n",
       "<svg width=\"408pt\" height=\"60pt\"\n",
       " viewBox=\"0.00 0.00 408.49 59.81\" xmlns=\"http://www.w3.org/2000/svg\" xmlns:xlink=\"http://www.w3.org/1999/xlink\">\n",
       "<g id=\"graph0\" class=\"graph\" transform=\"scale(1 1) rotate(0) translate(4 55.8077)\">\n",
       "<title>%3</title>\n",
       "<polygon fill=\"white\" stroke=\"none\" points=\"-4,4 -4,-55.8077 404.49,-55.8077 404.49,4 -4,4\"/>\n",
       "<!-- EMPTY -->\n",
       "<g id=\"node1\" class=\"node\"><title>EMPTY</title>\n",
       "</g>\n",
       "<!-- St1 -->\n",
       "<g id=\"node2\" class=\"node\"><title>St1</title>\n",
       "<ellipse fill=\"none\" stroke=\"black\" cx=\"112.904\" cy=\"-25.9039\" rx=\"21.8081\" ry=\"21.8081\"/>\n",
       "<text text-anchor=\"middle\" x=\"112.904\" y=\"-21.7039\" font-family=\"Times,serif\" font-size=\"14.00\">St1</text>\n",
       "</g>\n",
       "<!-- EMPTY&#45;&gt;St1 -->\n",
       "<g id=\"edge1\" class=\"edge\"><title>EMPTY&#45;&gt;St1</title>\n",
       "<path fill=\"none\" stroke=\"black\" d=\"M54.0878,-25.9039C62.501,-25.9039 71.9126,-25.9039 80.6587,-25.9039\"/>\n",
       "<polygon fill=\"black\" stroke=\"black\" points=\"80.8854,-29.404 90.8853,-25.9039 80.8853,-22.404 80.8854,-29.404\"/>\n",
       "</g>\n",
       "<!-- St2 -->\n",
       "<g id=\"node3\" class=\"node\"><title>St2</title>\n",
       "<ellipse fill=\"none\" stroke=\"black\" cx=\"198.925\" cy=\"-25.9039\" rx=\"21.8081\" ry=\"21.8081\"/>\n",
       "<text text-anchor=\"middle\" x=\"198.925\" y=\"-21.7039\" font-family=\"Times,serif\" font-size=\"14.00\">St2</text>\n",
       "</g>\n",
       "<!-- St1&#45;&gt;St2 -->\n",
       "<g id=\"edge2\" class=\"edge\"><title>St1&#45;&gt;St2</title>\n",
       "<path fill=\"none\" stroke=\"black\" d=\"M135.106,-25.9039C144.732,-25.9039 156.307,-25.9039 166.885,-25.9039\"/>\n",
       "<polygon fill=\"black\" stroke=\"black\" points=\"167.021,-29.404 177.021,-25.9039 167.021,-22.404 167.021,-29.404\"/>\n",
       "<text text-anchor=\"middle\" x=\"155.915\" y=\"-28.7039\" font-family=\"Times,serif\" font-size=\"14.00\">a</text>\n",
       "</g>\n",
       "<!-- St3 -->\n",
       "<g id=\"node4\" class=\"node\"><title>St3</title>\n",
       "<ellipse fill=\"none\" stroke=\"black\" cx=\"283.778\" cy=\"-25.9039\" rx=\"21.8081\" ry=\"21.8081\"/>\n",
       "<text text-anchor=\"middle\" x=\"283.778\" y=\"-21.7039\" font-family=\"Times,serif\" font-size=\"14.00\">St3</text>\n",
       "</g>\n",
       "<!-- St2&#45;&gt;St3 -->\n",
       "<g id=\"edge4\" class=\"edge\"><title>St2&#45;&gt;St3</title>\n",
       "<path fill=\"none\" stroke=\"black\" d=\"M220.833,-25.9039C230.083,-25.9039 241.16,-25.9039 251.373,-25.9039\"/>\n",
       "<polygon fill=\"black\" stroke=\"black\" points=\"251.589,-29.404 261.589,-25.9039 251.589,-22.404 251.589,-29.404\"/>\n",
       "<text text-anchor=\"middle\" x=\"241.352\" y=\"-28.7039\" font-family=\"Times,serif\" font-size=\"14.00\">&#39;&#39;</text>\n",
       "</g>\n",
       "<!-- St4 -->\n",
       "<g id=\"node5\" class=\"node\"><title>St4</title>\n",
       "<ellipse fill=\"none\" stroke=\"black\" cx=\"374.586\" cy=\"-25.9039\" rx=\"21.8229\" ry=\"21.8229\"/>\n",
       "<ellipse fill=\"none\" stroke=\"black\" cx=\"374.586\" cy=\"-25.9039\" rx=\"25.8081\" ry=\"25.8081\"/>\n",
       "<text text-anchor=\"middle\" x=\"374.586\" y=\"-21.7039\" font-family=\"Times,serif\" font-size=\"14.00\">St4</text>\n",
       "</g>\n",
       "<!-- St3&#45;&gt;St4 -->\n",
       "<g id=\"edge3\" class=\"edge\"><title>St3&#45;&gt;St4</title>\n",
       "<path fill=\"none\" stroke=\"black\" d=\"M305.824,-25.9039C315.542,-25.9039 327.346,-25.9039 338.361,-25.9039\"/>\n",
       "<polygon fill=\"black\" stroke=\"black\" points=\"338.588,-29.404 348.588,-25.9039 338.588,-22.404 338.588,-29.404\"/>\n",
       "<text text-anchor=\"middle\" x=\"327.182\" y=\"-28.7039\" font-family=\"Times,serif\" font-size=\"14.00\">b</text>\n",
       "</g>\n",
       "</g>\n",
       "</svg>\n"
      ],
      "text/plain": [
       "<graphviz.dot.Digraph at 0x106a64f60>"
      ]
     },
     "execution_count": 75,
     "metadata": {},
     "output_type": "execute_result"
    }
   ],
   "source": [
    "dotObj_nfa(re2nfa(\"ab\"))"
   ]
  },
  {
   "cell_type": "code",
   "execution_count": 76,
   "metadata": {
    "run_control": {
     "frozen": false,
     "read_only": false
    }
   },
   "outputs": [
    {
     "name": "stderr",
     "output_type": "stream",
     "text": [
      "Generating LALR tables\n"
     ]
    },
    {
     "data": {
      "image/svg+xml": [
       "<?xml version=\"1.0\" encoding=\"UTF-8\" standalone=\"no\"?>\n",
       "<!DOCTYPE svg PUBLIC \"-//W3C//DTD SVG 1.1//EN\"\n",
       " \"http://www.w3.org/Graphics/SVG/1.1/DTD/svg11.dtd\">\n",
       "<!-- Generated by graphviz version 2.38.0 (20140413.2041)\n",
       " -->\n",
       "<!-- Title: %3 Pages: 1 -->\n",
       "<svg width=\"238pt\" height=\"130pt\"\n",
       " viewBox=\"0.00 0.00 237.62 129.81\" xmlns=\"http://www.w3.org/2000/svg\" xmlns:xlink=\"http://www.w3.org/1999/xlink\">\n",
       "<g id=\"graph0\" class=\"graph\" transform=\"scale(1 1) rotate(0) translate(4 125.808)\">\n",
       "<title>%3</title>\n",
       "<polygon fill=\"white\" stroke=\"none\" points=\"-4,4 -4,-125.808 233.615,-125.808 233.615,4 -4,4\"/>\n",
       "<!-- EMPTY -->\n",
       "<g id=\"node1\" class=\"node\"><title>EMPTY</title>\n",
       "</g>\n",
       "<!-- St1 -->\n",
       "<g id=\"node2\" class=\"node\"><title>St1</title>\n",
       "<ellipse fill=\"none\" stroke=\"black\" cx=\"112.904\" cy=\"-93.9039\" rx=\"21.8081\" ry=\"21.8081\"/>\n",
       "<text text-anchor=\"middle\" x=\"112.904\" y=\"-89.7039\" font-family=\"Times,serif\" font-size=\"14.00\">St1</text>\n",
       "</g>\n",
       "<!-- EMPTY&#45;&gt;St1 -->\n",
       "<g id=\"edge1\" class=\"edge\"><title>EMPTY&#45;&gt;St1</title>\n",
       "<path fill=\"none\" stroke=\"black\" d=\"M54.0878,-74.6098C63.061,-77.6043 73.1698,-80.9777 82.3958,-84.0566\"/>\n",
       "<polygon fill=\"black\" stroke=\"black\" points=\"81.3713,-87.4044 91.965,-87.25 83.5872,-80.7643 81.3713,-87.4044\"/>\n",
       "</g>\n",
       "<!-- St3 -->\n",
       "<g id=\"node3\" class=\"node\"><title>St3</title>\n",
       "<ellipse fill=\"none\" stroke=\"black\" cx=\"112.904\" cy=\"-29.9039\" rx=\"21.8081\" ry=\"21.8081\"/>\n",
       "<text text-anchor=\"middle\" x=\"112.904\" y=\"-25.7039\" font-family=\"Times,serif\" font-size=\"14.00\">St3</text>\n",
       "</g>\n",
       "<!-- EMPTY&#45;&gt;St3 -->\n",
       "<g id=\"edge2\" class=\"edge\"><title>EMPTY&#45;&gt;St3</title>\n",
       "<path fill=\"none\" stroke=\"black\" d=\"M54.0878,-54.7106C63.2993,-50.7583 73.7075,-46.2925 83.1289,-42.2501\"/>\n",
       "<polygon fill=\"black\" stroke=\"black\" points=\"84.6884,-45.3896 92.4982,-38.2301 81.9283,-38.9567 84.6884,-45.3896\"/>\n",
       "</g>\n",
       "<!-- St2 -->\n",
       "<g id=\"node4\" class=\"node\"><title>St2</title>\n",
       "<ellipse fill=\"none\" stroke=\"black\" cx=\"203.712\" cy=\"-95.9039\" rx=\"21.8229\" ry=\"21.8229\"/>\n",
       "<ellipse fill=\"none\" stroke=\"black\" cx=\"203.712\" cy=\"-95.9039\" rx=\"25.8081\" ry=\"25.8081\"/>\n",
       "<text text-anchor=\"middle\" x=\"203.712\" y=\"-91.7039\" font-family=\"Times,serif\" font-size=\"14.00\">St2</text>\n",
       "</g>\n",
       "<!-- St1&#45;&gt;St2 -->\n",
       "<g id=\"edge3\" class=\"edge\"><title>St1&#45;&gt;St2</title>\n",
       "<path fill=\"none\" stroke=\"black\" d=\"M134.95,-94.3778C144.668,-94.5967 156.471,-94.8625 167.487,-95.1106\"/>\n",
       "<polygon fill=\"black\" stroke=\"black\" points=\"167.637,-98.6148 177.713,-95.3409 167.795,-91.6165 167.637,-98.6148\"/>\n",
       "<text text-anchor=\"middle\" x=\"156.308\" y=\"-97.7039\" font-family=\"Times,serif\" font-size=\"14.00\">a</text>\n",
       "</g>\n",
       "<!-- St4 -->\n",
       "<g id=\"node5\" class=\"node\"><title>St4</title>\n",
       "<ellipse fill=\"none\" stroke=\"black\" cx=\"203.712\" cy=\"-25.9039\" rx=\"21.8229\" ry=\"21.8229\"/>\n",
       "<ellipse fill=\"none\" stroke=\"black\" cx=\"203.712\" cy=\"-25.9039\" rx=\"25.8081\" ry=\"25.8081\"/>\n",
       "<text text-anchor=\"middle\" x=\"203.712\" y=\"-21.7039\" font-family=\"Times,serif\" font-size=\"14.00\">St4</text>\n",
       "</g>\n",
       "<!-- St3&#45;&gt;St4 -->\n",
       "<g id=\"edge4\" class=\"edge\"><title>St3&#45;&gt;St4</title>\n",
       "<path fill=\"none\" stroke=\"black\" d=\"M134.95,-28.9559C144.668,-28.5182 156.471,-27.9866 167.487,-27.4904\"/>\n",
       "<polygon fill=\"black\" stroke=\"black\" points=\"167.881,-30.9763 177.713,-27.0298 167.566,-23.9834 167.881,-30.9763\"/>\n",
       "<text text-anchor=\"middle\" x=\"156.308\" y=\"-31.7039\" font-family=\"Times,serif\" font-size=\"14.00\">b</text>\n",
       "</g>\n",
       "</g>\n",
       "</svg>\n"
      ],
      "text/plain": [
       "<graphviz.dot.Digraph at 0x106a8bcc0>"
      ]
     },
     "execution_count": 76,
     "metadata": {},
     "output_type": "execute_result"
    }
   ],
   "source": [
    "dotObj_nfa(re2nfa(\"a+b\"))"
   ]
  },
  {
   "cell_type": "code",
   "execution_count": 77,
   "metadata": {
    "run_control": {
     "frozen": false,
     "read_only": false
    }
   },
   "outputs": [
    {
     "name": "stderr",
     "output_type": "stream",
     "text": [
      "Generating LALR tables\n"
     ]
    },
    {
     "data": {
      "image/svg+xml": [
       "<?xml version=\"1.0\" encoding=\"UTF-8\" standalone=\"no\"?>\n",
       "<!DOCTYPE svg PUBLIC \"-//W3C//DTD SVG 1.1//EN\"\n",
       " \"http://www.w3.org/Graphics/SVG/1.1/DTD/svg11.dtd\">\n",
       "<!-- Generated by graphviz version 2.38.0 (20140413.2041)\n",
       " -->\n",
       "<!-- Title: %3 Pages: 1 -->\n",
       "<svg width=\"322pt\" height=\"92pt\"\n",
       " viewBox=\"0.00 0.00 321.68 91.81\" xmlns=\"http://www.w3.org/2000/svg\" xmlns:xlink=\"http://www.w3.org/1999/xlink\">\n",
       "<g id=\"graph0\" class=\"graph\" transform=\"scale(1 1) rotate(0) translate(4 87.8077)\">\n",
       "<title>%3</title>\n",
       "<polygon fill=\"white\" stroke=\"none\" points=\"-4,4 -4,-87.8077 317.682,-87.8077 317.682,4 -4,4\"/>\n",
       "<!-- EMPTY -->\n",
       "<g id=\"node1\" class=\"node\"><title>EMPTY</title>\n",
       "</g>\n",
       "<!-- St3 -->\n",
       "<g id=\"node4\" class=\"node\"><title>St3</title>\n",
       "<ellipse fill=\"none\" stroke=\"black\" cx=\"116.904\" cy=\"-57.9039\" rx=\"21.8229\" ry=\"21.8229\"/>\n",
       "<ellipse fill=\"none\" stroke=\"black\" cx=\"116.904\" cy=\"-57.9039\" rx=\"25.8081\" ry=\"25.8081\"/>\n",
       "<text text-anchor=\"middle\" x=\"116.904\" y=\"-53.7039\" font-family=\"Times,serif\" font-size=\"14.00\">St3</text>\n",
       "</g>\n",
       "<!-- EMPTY&#45;&gt;St3 -->\n",
       "<g id=\"edge1\" class=\"edge\"><title>EMPTY&#45;&gt;St3</title>\n",
       "<path fill=\"none\" stroke=\"black\" d=\"M54.3741,-57.9039C62.6615,-57.9039 71.9472,-57.9039 80.7431,-57.9039\"/>\n",
       "<polygon fill=\"black\" stroke=\"black\" points=\"80.7546,-61.404 90.7546,-57.9039 80.7546,-54.404 80.7546,-61.404\"/>\n",
       "</g>\n",
       "<!-- St1 -->\n",
       "<g id=\"node2\" class=\"node\"><title>St1</title>\n",
       "<ellipse fill=\"none\" stroke=\"black\" cx=\"205.757\" cy=\"-21.9039\" rx=\"21.8081\" ry=\"21.8081\"/>\n",
       "<text text-anchor=\"middle\" x=\"205.757\" y=\"-17.7039\" font-family=\"Times,serif\" font-size=\"14.00\">St1</text>\n",
       "</g>\n",
       "<!-- St2 -->\n",
       "<g id=\"node3\" class=\"node\"><title>St2</title>\n",
       "<ellipse fill=\"none\" stroke=\"black\" cx=\"291.778\" cy=\"-57.9039\" rx=\"21.8081\" ry=\"21.8081\"/>\n",
       "<text text-anchor=\"middle\" x=\"291.778\" y=\"-53.7039\" font-family=\"Times,serif\" font-size=\"14.00\">St2</text>\n",
       "</g>\n",
       "<!-- St1&#45;&gt;St2 -->\n",
       "<g id=\"edge3\" class=\"edge\"><title>St1&#45;&gt;St2</title>\n",
       "<path fill=\"none\" stroke=\"black\" d=\"M226.244,-30.2535C236.849,-34.7971 250.172,-40.5056 261.954,-45.5541\"/>\n",
       "<polygon fill=\"black\" stroke=\"black\" points=\"260.826,-48.8783 271.396,-49.5995 263.583,-42.444 260.826,-48.8783\"/>\n",
       "<text text-anchor=\"middle\" x=\"248.767\" y=\"-44.7039\" font-family=\"Times,serif\" font-size=\"14.00\">a</text>\n",
       "</g>\n",
       "<!-- St2&#45;&gt;St3 -->\n",
       "<g id=\"edge4\" class=\"edge\"><title>St2&#45;&gt;St3</title>\n",
       "<path fill=\"none\" stroke=\"black\" d=\"M269.788,-59.1808C263.987,-59.4798 257.689,-59.7545 251.874,-59.9039 218.413,-60.7634 180.239,-60.0247 153.224,-59.213\"/>\n",
       "<polygon fill=\"black\" stroke=\"black\" points=\"153.199,-55.7105 143.093,-58.8894 152.976,-62.7069 153.199,-55.7105\"/>\n",
       "<text text-anchor=\"middle\" x=\"205.757\" y=\"-62.7039\" font-family=\"Times,serif\" font-size=\"14.00\">&#39;&#39;</text>\n",
       "</g>\n",
       "<!-- St3&#45;&gt;St1 -->\n",
       "<g id=\"edge2\" class=\"edge\"><title>St3&#45;&gt;St1</title>\n",
       "<path fill=\"none\" stroke=\"black\" d=\"M141.179,-48.2565C151.827,-43.8427 164.553,-38.568 175.812,-33.9012\"/>\n",
       "<polygon fill=\"black\" stroke=\"black\" points=\"177.342,-37.0559 185.24,-29.9935 174.662,-30.5893 177.342,-37.0559\"/>\n",
       "<text text-anchor=\"middle\" x=\"163.33\" y=\"-42.7039\" font-family=\"Times,serif\" font-size=\"14.00\">&#39;&#39;</text>\n",
       "</g>\n",
       "</g>\n",
       "</svg>\n"
      ],
      "text/plain": [
       "<graphviz.dot.Digraph at 0x106a9ddd8>"
      ]
     },
     "execution_count": 77,
     "metadata": {},
     "output_type": "execute_result"
    }
   ],
   "source": [
    "dotObj_nfa(re2nfa(\"a*\"))"
   ]
  },
  {
   "cell_type": "code",
   "execution_count": 78,
   "metadata": {
    "run_control": {
     "frozen": false,
     "read_only": false
    }
   },
   "outputs": [
    {
     "name": "stderr",
     "output_type": "stream",
     "text": [
      "Generating LALR tables\n"
     ]
    },
    {
     "data": {
      "image/svg+xml": [
       "<?xml version=\"1.0\" encoding=\"UTF-8\" standalone=\"no\"?>\n",
       "<!DOCTYPE svg PUBLIC \"-//W3C//DTD SVG 1.1//EN\"\n",
       " \"http://www.w3.org/Graphics/SVG/1.1/DTD/svg11.dtd\">\n",
       "<!-- Generated by graphviz version 2.38.0 (20140413.2041)\n",
       " -->\n",
       "<!-- Title: %3 Pages: 1 -->\n",
       "<svg width=\"236pt\" height=\"60pt\"\n",
       " viewBox=\"0.00 0.00 235.66 59.81\" xmlns=\"http://www.w3.org/2000/svg\" xmlns:xlink=\"http://www.w3.org/1999/xlink\">\n",
       "<g id=\"graph0\" class=\"graph\" transform=\"scale(1 1) rotate(0) translate(4 55.8077)\">\n",
       "<title>%3</title>\n",
       "<polygon fill=\"white\" stroke=\"none\" points=\"-4,4 -4,-55.8077 231.66,-55.8077 231.66,4 -4,4\"/>\n",
       "<!-- EMPTY -->\n",
       "<g id=\"node1\" class=\"node\"><title>EMPTY</title>\n",
       "</g>\n",
       "<!-- St2 -->\n",
       "<g id=\"node3\" class=\"node\"><title>St2</title>\n",
       "<ellipse fill=\"none\" stroke=\"black\" cx=\"116.904\" cy=\"-25.9039\" rx=\"21.8229\" ry=\"21.8229\"/>\n",
       "<ellipse fill=\"none\" stroke=\"black\" cx=\"116.904\" cy=\"-25.9039\" rx=\"25.8081\" ry=\"25.8081\"/>\n",
       "<text text-anchor=\"middle\" x=\"116.904\" y=\"-21.7039\" font-family=\"Times,serif\" font-size=\"14.00\">St2</text>\n",
       "</g>\n",
       "<!-- EMPTY&#45;&gt;St2 -->\n",
       "<g id=\"edge1\" class=\"edge\"><title>EMPTY&#45;&gt;St2</title>\n",
       "<path fill=\"none\" stroke=\"black\" d=\"M54.3741,-25.9039C62.6615,-25.9039 71.9472,-25.9039 80.7431,-25.9039\"/>\n",
       "<polygon fill=\"black\" stroke=\"black\" points=\"80.7546,-29.404 90.7546,-25.9039 80.7546,-22.404 80.7546,-29.404\"/>\n",
       "</g>\n",
       "<!-- St1 -->\n",
       "<g id=\"node2\" class=\"node\"><title>St1</title>\n",
       "<ellipse fill=\"none\" stroke=\"black\" cx=\"205.757\" cy=\"-25.9039\" rx=\"21.8081\" ry=\"21.8081\"/>\n",
       "<text text-anchor=\"middle\" x=\"205.757\" y=\"-21.7039\" font-family=\"Times,serif\" font-size=\"14.00\">St1</text>\n",
       "</g>\n",
       "<!-- St1&#45;&gt;St2 -->\n",
       "<g id=\"edge3\" class=\"edge\"><title>St1&#45;&gt;St2</title>\n",
       "<path fill=\"none\" stroke=\"black\" d=\"M186.339,-15.3991C180.045,-12.355 172.83,-9.43978 165.853,-7.90386 160.208,-6.66135 154.339,-7.21024 148.723,-8.72092\"/>\n",
       "<polygon fill=\"black\" stroke=\"black\" points=\"147.168,-5.5634 138.991,-12.2997 149.584,-12.1333 147.168,-5.5634\"/>\n",
       "<text text-anchor=\"middle\" x=\"163.33\" y=\"-10.7039\" font-family=\"Times,serif\" font-size=\"14.00\">&#39;&#39;</text>\n",
       "</g>\n",
       "<!-- St2&#45;&gt;St1 -->\n",
       "<g id=\"edge2\" class=\"edge\"><title>St2&#45;&gt;St1</title>\n",
       "<path fill=\"none\" stroke=\"black\" d=\"M143.025,-25.9039C152.619,-25.9039 163.671,-25.9039 173.748,-25.9039\"/>\n",
       "<polygon fill=\"black\" stroke=\"black\" points=\"173.796,-29.404 183.796,-25.9039 173.796,-22.404 173.796,-29.404\"/>\n",
       "<text text-anchor=\"middle\" x=\"163.33\" y=\"-28.7039\" font-family=\"Times,serif\" font-size=\"14.00\">&#39;&#39;</text>\n",
       "</g>\n",
       "</g>\n",
       "</svg>\n"
      ],
      "text/plain": [
       "<graphviz.dot.Digraph at 0x1075498d0>"
      ]
     },
     "execution_count": 78,
     "metadata": {},
     "output_type": "execute_result"
    }
   ],
   "source": [
    "dotObj_nfa(re2nfa(\"''*\"))"
   ]
  },
  {
   "cell_type": "code",
   "execution_count": null,
   "metadata": {
    "run_control": {
     "frozen": false,
     "read_only": false
    }
   },
   "outputs": [],
   "source": []
  }
 ],
 "metadata": {
  "kernelspec": {
   "display_name": "Python 3",
   "language": "python",
   "name": "python3"
  },
  "language_info": {
   "codemirror_mode": {
    "name": "ipython",
    "version": 3
   },
   "file_extension": ".py",
   "mimetype": "text/x-python",
   "name": "python",
   "nbconvert_exporter": "python",
   "pygments_lexer": "ipython3",
   "version": "3.6.0"
  },
  "toc": {
   "colors": {
    "hover_highlight": "#DAA520",
    "running_highlight": "#FF0000",
    "selected_highlight": "#FFD700"
   },
   "moveMenuLeft": true,
   "nav_menu": {
    "height": "318px",
    "width": "252px"
   },
   "navigate_menu": true,
   "number_sections": true,
   "sideBar": true,
   "threshold": 4,
   "toc_cell": false,
   "toc_section_display": "block",
   "toc_window_display": false,
   "widenNotebook": false
  },
  "widgets": {
   "state": {
    "0eba837ccfd74c59ac86044f5bfb928c": {
     "views": [
      {
       "cell_index": 51
      }
     ]
    },
    "da8c1febcd1549de8f2ac26552a3763f": {
     "views": [
      {
       "cell_index": 49
      }
     ]
    }
   },
   "version": "1.2.0"
  }
 },
 "nbformat": 4,
 "nbformat_minor": 1
}
