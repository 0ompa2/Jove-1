{
 "cells": [
  {
   "cell_type": "markdown",
   "metadata": {
    "run_control": {
     "frozen": false,
     "read_only": false
    }
   },
   "source": [
    "*Hints on Solving Asg1's Q10*"
   ]
  },
  {
   "cell_type": "code",
   "execution_count": null,
   "metadata": {
    "run_control": {
     "frozen": false,
     "read_only": false
    }
   },
   "outputs": [],
   "source": [
    "from jove.DotBashers import *\n",
    "from jove.Def_md2mc import *\n",
    "from jove.Def_DFA   import *\n",
    "from jove.LangDef   import *"
   ]
  },
  {
   "cell_type": "markdown",
   "metadata": {
    "run_control": {
     "frozen": false,
     "read_only": false
    }
   },
   "source": [
    "*Change the problem*\n",
    "\n",
    "Design a DFA with alphabet {0,1} such that\n",
    "\n",
    "* it accepts all odd-length strings which begin with a 1\n",
    "* it rejects all other strings"
   ]
  },
  {
   "cell_type": "markdown",
   "metadata": {
    "run_control": {
     "frozen": false,
     "read_only": false
    }
   },
   "source": [
    "*Solution outline*:\n",
    "\n",
    "Describe your solution in a few sentences. This helps you form your design\n",
    "strategy. Then you can incrementally code-up and test the machine.\n",
    "\n",
    "* I will call my machine D1Odd to signify that it is a DFA for strings that are odd in length when starting with a 1.\n",
    "* All other cases are separately handled:\n",
    " - starting with a 0 \n",
    "    * reject\n",
    " - starting with a 1, but even length\n",
    "    * reject"
   ]
  },
  {
   "cell_type": "code",
   "execution_count": null,
   "metadata": {
    "run_control": {
     "frozen": false,
     "read_only": false
    }
   },
   "outputs": [],
   "source": [
    "# Odd starting with 1\n",
    "\n",
    "D1Odd = md2mc('''\n",
    "DFA !! IMPORTANT: this is required to tell the markdown converter \n",
    "    !! the expected machine type\n",
    "    \n",
    " \n",
    "''')\n",
    "\n",
    "#..use the right dotObj command of the DFA with the right FuseEdges boolean value..\n",
    "dotObj_dfa(D1Odd)"
   ]
  },
  {
   "cell_type": "code",
   "execution_count": null,
   "metadata": {
    "run_control": {
     "frozen": false,
     "read_only": false
    }
   },
   "outputs": [],
   "source": [
    "D1Odd"
   ]
  },
  {
   "cell_type": "markdown",
   "metadata": {
    "run_control": {
     "frozen": false,
     "read_only": false
    }
   },
   "source": [
    "*Show it accepts only the requested strings*"
   ]
  },
  {
   "cell_type": "code",
   "execution_count": null,
   "metadata": {
    "run_control": {
     "frozen": false,
     "read_only": false
    }
   },
   "outputs": [],
   "source": [
    "help(accepts_dfa)"
   ]
  },
  {
   "cell_type": "code",
   "execution_count": null,
   "metadata": {
    "run_control": {
     "frozen": false,
     "read_only": false
    }
   },
   "outputs": [],
   "source": [
    "TestStrs "
   ]
  },
  {
   "cell_type": "code",
   "execution_count": null,
   "metadata": {
    "run_control": {
     "frozen": false,
     "read_only": false
    }
   },
   "outputs": [],
   "source": [
    "TestStrs"
   ]
  },
  {
   "cell_type": "code",
   "execution_count": null,
   "metadata": {
    "run_control": {
     "frozen": false,
     "read_only": false
    }
   },
   "outputs": [],
   "source": [
    "# Test the DFA\n",
    "\n",
    "# ..Write some Python code that prints the strings the DFA accepts..\n",
    "# ..End this printout with a statement saying \"All other strings are rejected\"..\n",
    "\n",
    "for loop in Python\n",
    "    if ...\n",
    "        print acceptance\n",
    "print(...)"
   ]
  },
  {
   "cell_type": "code",
   "execution_count": null,
   "metadata": {
    "run_control": {
     "frozen": false,
     "read_only": false
    }
   },
   "outputs": [],
   "source": []
  }
 ],
 "metadata": {
  "kernelspec": {
   "display_name": "Python 3",
   "language": "python",
   "name": "python3"
  },
  "language_info": {
   "codemirror_mode": {
    "name": "ipython",
    "version": 3
   },
   "file_extension": ".py",
   "mimetype": "text/x-python",
   "name": "python",
   "nbconvert_exporter": "python",
   "pygments_lexer": "ipython3",
   "version": "3.6.0"
  },
  "toc": {
   "colors": {
    "hover_highlight": "#DAA520",
    "running_highlight": "#FF0000",
    "selected_highlight": "#FFD700"
   },
   "moveMenuLeft": true,
   "nav_menu": {
    "height": "318px",
    "width": "252px"
   },
   "navigate_menu": true,
   "number_sections": true,
   "sideBar": true,
   "threshold": 4,
   "toc_cell": false,
   "toc_section_display": "block",
   "toc_window_display": false,
   "widenNotebook": false
  }
 },
 "nbformat": 4,
 "nbformat_minor": 1
}
