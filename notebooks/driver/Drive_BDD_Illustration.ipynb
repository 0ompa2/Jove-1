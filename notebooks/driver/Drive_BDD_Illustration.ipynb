{
 "cells": [
  {
   "cell_type": "code",
   "execution_count": 1,
   "metadata": {
    "run_control": {
     "frozen": false,
     "read_only": false
    }
   },
   "outputs": [
    {
     "name": "stdout",
     "output_type": "stream",
     "text": [
      "You may use any of these help commands:\n",
      "help(ResetStNum)\n",
      "help(NxtStateStr)\n",
      "\n",
      "You may use any of these help commands:\n",
      "help(mkp_dfa)\n",
      "help(mk_dfa)\n",
      "help(totalize_dfa)\n",
      "help(addtosigma_delta)\n",
      "help(step_dfa)\n",
      "help(run_dfa)\n",
      "help(accepts_dfa)\n",
      "help(comp_dfa)\n",
      "help(union_dfa)\n",
      "help(intersect_dfa)\n",
      "help(pruneUnreach)\n",
      "help(iso_dfa)\n",
      "help(langeq_dfa)\n",
      "help(same_status)\n",
      "help(h_langeq_dfa)\n",
      "help(fixptDist)\n",
      "help(min_dfa)\n",
      "help(pairFR)\n",
      "help(state_combos)\n",
      "help(sepFinNonFin)\n",
      "help(bash_eql_classes)\n",
      "help(listminus)\n",
      "help(bash_1)\n",
      "help(mk_rep_eqc)\n",
      "help(F_of)\n",
      "help(rep_of_s)\n",
      "help(q0_of)\n",
      "help(Delta_of)\n",
      "help(mk_state_eqc_name)\n",
      "\n",
      "You may use any of these help commands:\n",
      "help(mk_nfa)\n",
      "help(totalize_nfa)\n",
      "help(step_nfa)\n",
      "help(run_nfa)\n",
      "help(ec_step_nfa)\n",
      "help(Eclosure)\n",
      "help(Echelp)\n",
      "help(accepts_nfa)\n",
      "help(nfa2dfa)\n",
      "help(n2d)\n",
      "help(inSets)\n",
      "help(rev_dfa)\n",
      "help(min_dfa_brz)\n",
      "\n",
      "You may use any of these help commands:\n",
      "help(re2nfa)\n",
      "\n",
      "You may use any of these help commands:\n",
      "help(RE2Str)\n",
      "help(mk_gnfa)\n",
      "help(mk_gnfa_from_D)\n",
      "help(dfa2nfa)\n",
      "help(del_gnfa_states)\n",
      "help(gnfa_w_REStr)\n",
      "help(del_one_gnfa_state)\n",
      "help(Edges_Exist_Via)\n",
      "help(choose_state_to_del)\n",
      "help(form_alt_RE)\n",
      "help(form_concat_RE)\n",
      "help(form_kleene_RE)\n",
      "\n",
      "You may use any of these help commands:\n",
      "help(md2mc)\n",
      ".. and if you want to dig more, then ..\n",
      "help(default_line_attr)\n",
      "help(length_ok_input_items)\n",
      "help(union_line_attr_list_fld)\n",
      "help(extend_rsltdict)\n",
      "help(form_delta)\n",
      "help(get_machine_components)\n",
      "\n"
     ]
    }
   ],
   "source": [
    "import sys\n",
    "sys.path[0:0] = ['../..']        # Append to the beginning of the search path\n",
    "from jove.StateNameSanitizers import *\n",
    "from jove.DotBashers import *\n",
    "from jove.Def_DFA import *\n",
    "from jove.Def_NFA import *\n",
    "from jove.Def_RE2NFA import *\n",
    "from jove.Def_NFA2RE import *\n",
    "from jove.Def_md2mc import *"
   ]
  },
  {
   "cell_type": "markdown",
   "metadata": {
    "run_control": {
     "frozen": false,
     "read_only": false
    }
   },
   "source": [
    "** IMPORTANT NOTE: RESTART AND RUN ALL CELLS SO THAT THE STATES GET NUMBERED\n",
    "CORRECTLY AS PER THE EMBEDDED DESCRIPTIONS IN THIS NOTEBOOK **"
   ]
  },
  {
   "cell_type": "code",
   "execution_count": 2,
   "metadata": {
    "run_control": {
     "frozen": false,
     "read_only": false
    }
   },
   "outputs": [
    {
     "data": {
      "text/plain": [
       "0"
      ]
     },
     "execution_count": 2,
     "metadata": {},
     "output_type": "execute_result"
    }
   ],
   "source": [
    "# Reset the state numbering counter\n",
    "ResetStNum()"
   ]
  },
  {
   "cell_type": "markdown",
   "metadata": {
    "run_control": {
     "frozen": false,
     "read_only": false
    }
   },
   "source": [
    " # BDDs: Efficient Data Stuctures for Boolean Function Representation\n",
    " \n",
    " Boolean functions occur widely in computer science. In order to represent and manipulate large Boolean\n",
    " functions, one must choose good data structures. A data structure called BDDs often works well. In fact,\n",
    " Prof. Donald Knuth [has said](https://en.wikipedia.org/wiki/Binary_decision_diagram)  in his lecture\n",
    " _Fun With Binary Decision Diagrams_  that BDDs are\"one of the only really fundamental data structures \n",
    " that came out in the last twenty-five years.\"\n",
    " \n",
    " We are studying BDDs in our book because BDDs are nothing but a small variant of \n",
    " minimal DFAs for a simple language that one\n",
    " can obtain from a given Boolean function. Given that we have studied minimal\n",
    " DFAs extensively, it looks quite opportune to point out yet another amazing connection\n",
    " in computer science -- specifically, the study of Boolean functions being another application of minimal DFA.\n",
    " \n",
    " In this narrative, we will cover all the required basics one by one; we assume very little by the way of\n",
    " prerequisites."
   ]
  },
  {
   "cell_type": "markdown",
   "metadata": {
    "run_control": {
     "frozen": false,
     "read_only": false
    }
   },
   "source": [
    "## Boolean functions, and viewing their on-sets as formal languages"
   ]
  },
  {
   "cell_type": "markdown",
   "metadata": {
    "run_control": {
     "frozen": false,
     "read_only": false
    }
   },
   "source": [
    "A Boolean function f(x1,x0) admits a truth-table of four entries with the\n",
    "truth-table output (called \"personality\") defining the function for the\n",
    "standard order of enumeration of x0 and x1. For AND, taking the inputs \n",
    "x1,x0 through 00, 01, 10 and 11, the outputs of AND are 0001 (the string\n",
    "0001 is its personality). The personality has $2^2$ bits (for a $2$-input\n",
    "Boolean function). There are $2^{2^2} = 16$ personalities for a $2$-input\n",
    "Boolean function. Each personality defines a Boolean function; thus, there\n",
    "are $16$ possible Boolean functions.\n",
    "\n",
    "Here are personalities of some common functions: \n",
    "\n",
    "```\n",
    " Inputs  Personalities\n",
    "----------------------\n",
    "| x1 x0 | OR XOR NOR |\n",
    "----------------------\n",
    "| 0  0  | 0  0   1   |\n",
    "| 0  1  | 1  1   0   |\n",
    "| 1  0  | 1  1   0   |\n",
    "| 1  1  | 1  0   0   |\n",
    "----------------------\n",
    "```\n",
    "\n",
    "In general, an $N$-input truth-table has $2^N$ \n",
    "truth-table rows and a personality of length $2^N$, thus admitting $2^{2^N}$\n",
    "Boolean functions of $N$ inputs.\n",
    "\n",
    "It is impractical (and insane) to be building truth-tables for Boolean functions with\n",
    "many inputs. Even a $64$-input Boolean function will have a truth-table of $2^{64}$ rows.\n",
    "Suppose we want to even print one such truth-table. At 80 rows printed per sheet of paper and\n",
    "five grams of weight per sheet, we will need 46-billion tons of paper to print. Even a \n",
    "newborn human baby would be dead of ripe old age by the time this many pages are printed.\n",
    "\n",
    "Yet, there is a method by which _many_ 64-input Boolean functions can be exactly\n",
    "represented using alternative representations than truth-tables. (To emphasize this a bit,\n",
    "not all functions can be so represented, but it works for many Boolean functions occurring in practice.)\n",
    "\n",
    "One such representation is called a Binary Decision Diagram.\n",
    "\n",
    "Binary Decision Diagrams (BDD) are graph structures that summarize a Boolean function's\n",
    "on-sets (sets of inputs for which the function is true). The on-set of the AND function\n",
    "is {11} while that for the OR function is {01, 10, 11}.\n",
    "\n",
    "One can read on-sets as a formal language. The language of an OR-gate is thus {01, 10, 11}\n",
    "(its on-set) and the language of (the on-set of) an AND-gate is {11}."
   ]
  },
  {
   "cell_type": "markdown",
   "metadata": {
    "run_control": {
     "frozen": false,
     "read_only": false
    }
   },
   "source": [
    "## Minimal DFA for the on-set of an XOR and OR\n",
    "\n",
    "In order to drive the point home with respect to how minimal DFA can be made to encode\n",
    "the on-set of functions, let us build a minimal DFA for the language of XOR's on-set and also OR's on-set."
   ]
  },
  {
   "cell_type": "code",
   "execution_count": 3,
   "metadata": {
    "run_control": {
     "frozen": false,
     "read_only": false
    }
   },
   "outputs": [
    {
     "name": "stderr",
     "output_type": "stream",
     "text": [
      "Generating LALR tables\n"
     ]
    },
    {
     "data": {
      "image/svg+xml": [
       "<?xml version=\"1.0\" encoding=\"UTF-8\" standalone=\"no\"?>\n",
       "<!DOCTYPE svg PUBLIC \"-//W3C//DTD SVG 1.1//EN\"\n",
       " \"http://www.w3.org/Graphics/SVG/1.1/DTD/svg11.dtd\">\n",
       "<!-- Generated by graphviz version 2.38.0 (20140413.2041)\n",
       " -->\n",
       "<!-- Title: %3 Pages: 1 -->\n",
       "<svg width=\"324pt\" height=\"114pt\"\n",
       " viewBox=\"0.00 0.00 324.42 113.81\" xmlns=\"http://www.w3.org/2000/svg\" xmlns:xlink=\"http://www.w3.org/1999/xlink\">\n",
       "<g id=\"graph0\" class=\"graph\" transform=\"scale(1 1) rotate(0) translate(4 109.808)\">\n",
       "<title>%3</title>\n",
       "<polygon fill=\"white\" stroke=\"none\" points=\"-4,4 -4,-109.808 320.423,-109.808 320.423,4 -4,4\"/>\n",
       "<!-- EMPTY -->\n",
       "<g id=\"node1\" class=\"node\"><title>EMPTY</title>\n",
       "</g>\n",
       "<!-- St1 -->\n",
       "<g id=\"node3\" class=\"node\"><title>St1</title>\n",
       "<ellipse fill=\"none\" stroke=\"black\" cx=\"112.904\" cy=\"-54.9039\" rx=\"21.8081\" ry=\"21.8081\"/>\n",
       "<text text-anchor=\"middle\" x=\"112.904\" y=\"-50.7039\" font-family=\"Times,serif\" font-size=\"14.00\">St1</text>\n",
       "</g>\n",
       "<!-- EMPTY&#45;&gt;St1 -->\n",
       "<g id=\"edge1\" class=\"edge\"><title>EMPTY&#45;&gt;St1</title>\n",
       "<path fill=\"none\" stroke=\"black\" d=\"M54.0878,-54.9039C62.501,-54.9039 71.9126,-54.9039 80.6587,-54.9039\"/>\n",
       "<polygon fill=\"black\" stroke=\"black\" points=\"80.8854,-58.404 90.8853,-54.9039 80.8853,-51.404 80.8854,-58.404\"/>\n",
       "</g>\n",
       "<!-- St3 -->\n",
       "<g id=\"node2\" class=\"node\"><title>St3</title>\n",
       "<ellipse fill=\"none\" stroke=\"black\" cx=\"199.712\" cy=\"-83.9039\" rx=\"21.8081\" ry=\"21.8081\"/>\n",
       "<text text-anchor=\"middle\" x=\"199.712\" y=\"-79.7039\" font-family=\"Times,serif\" font-size=\"14.00\">St3</text>\n",
       "</g>\n",
       "<!-- St4 -->\n",
       "<g id=\"node5\" class=\"node\"><title>St4</title>\n",
       "<ellipse fill=\"none\" stroke=\"black\" cx=\"290.519\" cy=\"-54.9039\" rx=\"21.8229\" ry=\"21.8229\"/>\n",
       "<ellipse fill=\"none\" stroke=\"black\" cx=\"290.519\" cy=\"-54.9039\" rx=\"25.8081\" ry=\"25.8081\"/>\n",
       "<text text-anchor=\"middle\" x=\"290.519\" y=\"-50.7039\" font-family=\"Times,serif\" font-size=\"14.00\">St4</text>\n",
       "</g>\n",
       "<!-- St3&#45;&gt;St4 -->\n",
       "<g id=\"edge4\" class=\"edge\"><title>St3&#45;&gt;St4</title>\n",
       "<path fill=\"none\" stroke=\"black\" d=\"M220.863,-77.3233C231.259,-73.9288 244.212,-69.699 256.057,-65.831\"/>\n",
       "<polygon fill=\"black\" stroke=\"black\" points=\"257.246,-69.1245 265.666,-62.6932 255.073,-62.4703 257.246,-69.1245\"/>\n",
       "<text text-anchor=\"middle\" x=\"243.115\" y=\"-73.7039\" font-family=\"Times,serif\" font-size=\"14.00\">0</text>\n",
       "</g>\n",
       "<!-- St1&#45;&gt;St3 -->\n",
       "<g id=\"edge2\" class=\"edge\"><title>St1&#45;&gt;St3</title>\n",
       "<path fill=\"none\" stroke=\"black\" d=\"M134.002,-61.7765C144.458,-65.3519 157.444,-69.7924 169.032,-73.755\"/>\n",
       "<polygon fill=\"black\" stroke=\"black\" points=\"168.163,-77.1567 178.758,-77.0806 170.428,-70.5332 168.163,-77.1567\"/>\n",
       "<text text-anchor=\"middle\" x=\"156.308\" y=\"-72.7039\" font-family=\"Times,serif\" font-size=\"14.00\">1</text>\n",
       "</g>\n",
       "<!-- St2 -->\n",
       "<g id=\"node4\" class=\"node\"><title>St2</title>\n",
       "<ellipse fill=\"none\" stroke=\"black\" cx=\"199.712\" cy=\"-21.9039\" rx=\"21.8081\" ry=\"21.8081\"/>\n",
       "<text text-anchor=\"middle\" x=\"199.712\" y=\"-17.7039\" font-family=\"Times,serif\" font-size=\"14.00\">St2</text>\n",
       "</g>\n",
       "<!-- St1&#45;&gt;St2 -->\n",
       "<g id=\"edge3\" class=\"edge\"><title>St1&#45;&gt;St2</title>\n",
       "<path fill=\"none\" stroke=\"black\" d=\"M133.574,-47.2501C144.277,-43.085 157.725,-37.8523 169.618,-33.2245\"/>\n",
       "<polygon fill=\"black\" stroke=\"black\" points=\"171.098,-36.4043 179.149,-29.5162 168.56,-29.8808 171.098,-36.4043\"/>\n",
       "<text text-anchor=\"middle\" x=\"156.308\" y=\"-42.7039\" font-family=\"Times,serif\" font-size=\"14.00\">0</text>\n",
       "</g>\n",
       "<!-- St2&#45;&gt;St4 -->\n",
       "<g id=\"edge5\" class=\"edge\"><title>St2&#45;&gt;St4</title>\n",
       "<path fill=\"none\" stroke=\"black\" d=\"M220.421,-29.2276C231.066,-33.1832 244.487,-38.1703 256.663,-42.6949\"/>\n",
       "<polygon fill=\"black\" stroke=\"black\" points=\"255.492,-45.9933 266.085,-46.1957 257.93,-39.4317 255.492,-45.9933\"/>\n",
       "<text text-anchor=\"middle\" x=\"243.115\" y=\"-41.7039\" font-family=\"Times,serif\" font-size=\"14.00\">1</text>\n",
       "</g>\n",
       "</g>\n",
       "</svg>\n"
      ],
      "text/plain": [
       "<graphviz.dot.Digraph at 0x10d355e48>"
      ]
     },
     "execution_count": 3,
     "metadata": {},
     "output_type": "execute_result"
    }
   ],
   "source": [
    "L_XOR = \"(01+10)\"\n",
    "dotObj_dfa(min_dfa(nfa2dfa(re2nfa(L_XOR))), STATENAME_MAXSIZE=4)"
   ]
  },
  {
   "cell_type": "code",
   "execution_count": 4,
   "metadata": {
    "run_control": {
     "frozen": false,
     "read_only": false
    }
   },
   "outputs": [
    {
     "name": "stderr",
     "output_type": "stream",
     "text": [
      "Generating LALR tables\n"
     ]
    }
   ],
   "source": [
    "doXOR = dotObj_dfa(min_dfa(nfa2dfa(re2nfa(L_XOR))), STATENAME_MAXSIZE=4)"
   ]
  },
  {
   "cell_type": "code",
   "execution_count": 5,
   "metadata": {
    "run_control": {
     "frozen": false,
     "read_only": false
    }
   },
   "outputs": [
    {
     "data": {
      "text/plain": [
       "'/Users/ganesh/repos/atmm/book/CH17/XORdfaNoBH.dot.pdf'"
      ]
     },
     "execution_count": 5,
     "metadata": {},
     "output_type": "execute_result"
    }
   ],
   "source": [
    "doXOR.render('/Users/ganesh/repos/atmm/book/CH17/XORdfaNoBH.dot')"
   ]
  },
  {
   "cell_type": "markdown",
   "metadata": {
    "run_control": {
     "frozen": false,
     "read_only": false
    }
   },
   "source": [
    "It is easy to see that both 01 and 10 lead to the final state, namely St8, whereas 00 and 11 go to BH. Also excessively long inputs (of length more than two) also go to BH."
   ]
  },
  {
   "cell_type": "code",
   "execution_count": 6,
   "metadata": {
    "run_control": {
     "frozen": false,
     "read_only": false
    }
   },
   "outputs": [
    {
     "name": "stderr",
     "output_type": "stream",
     "text": [
      "Generating LALR tables\n"
     ]
    },
    {
     "data": {
      "image/svg+xml": [
       "<?xml version=\"1.0\" encoding=\"UTF-8\" standalone=\"no\"?>\n",
       "<!DOCTYPE svg PUBLIC \"-//W3C//DTD SVG 1.1//EN\"\n",
       " \"http://www.w3.org/Graphics/SVG/1.1/DTD/svg11.dtd\">\n",
       "<!-- Generated by graphviz version 2.38.0 (20140413.2041)\n",
       " -->\n",
       "<!-- Title: %3 Pages: 1 -->\n",
       "<svg width=\"324pt\" height=\"114pt\"\n",
       " viewBox=\"0.00 0.00 324.42 113.81\" xmlns=\"http://www.w3.org/2000/svg\" xmlns:xlink=\"http://www.w3.org/1999/xlink\">\n",
       "<g id=\"graph0\" class=\"graph\" transform=\"scale(1 1) rotate(0) translate(4 109.808)\">\n",
       "<title>%3</title>\n",
       "<polygon fill=\"white\" stroke=\"none\" points=\"-4,4 -4,-109.808 320.423,-109.808 320.423,4 -4,4\"/>\n",
       "<!-- EMPTY -->\n",
       "<g id=\"node1\" class=\"node\"><title>EMPTY</title>\n",
       "</g>\n",
       "<!-- St1 -->\n",
       "<g id=\"node2\" class=\"node\"><title>St1</title>\n",
       "<ellipse fill=\"none\" stroke=\"black\" cx=\"112.904\" cy=\"-54.9039\" rx=\"21.8081\" ry=\"21.8081\"/>\n",
       "<text text-anchor=\"middle\" x=\"112.904\" y=\"-50.7039\" font-family=\"Times,serif\" font-size=\"14.00\">St1</text>\n",
       "</g>\n",
       "<!-- EMPTY&#45;&gt;St1 -->\n",
       "<g id=\"edge1\" class=\"edge\"><title>EMPTY&#45;&gt;St1</title>\n",
       "<path fill=\"none\" stroke=\"black\" d=\"M54.0878,-54.9039C62.501,-54.9039 71.9126,-54.9039 80.6587,-54.9039\"/>\n",
       "<polygon fill=\"black\" stroke=\"black\" points=\"80.8854,-58.404 90.8853,-54.9039 80.8853,-51.404 80.8854,-58.404\"/>\n",
       "</g>\n",
       "<!-- St4 -->\n",
       "<g id=\"node3\" class=\"node\"><title>St4</title>\n",
       "<ellipse fill=\"none\" stroke=\"black\" cx=\"199.712\" cy=\"-83.9039\" rx=\"21.8081\" ry=\"21.8081\"/>\n",
       "<text text-anchor=\"middle\" x=\"199.712\" y=\"-79.7039\" font-family=\"Times,serif\" font-size=\"14.00\">St4</text>\n",
       "</g>\n",
       "<!-- St1&#45;&gt;St4 -->\n",
       "<g id=\"edge3\" class=\"edge\"><title>St1&#45;&gt;St4</title>\n",
       "<path fill=\"none\" stroke=\"black\" d=\"M134.002,-61.7765C144.458,-65.3519 157.444,-69.7924 169.032,-73.755\"/>\n",
       "<polygon fill=\"black\" stroke=\"black\" points=\"168.163,-77.1567 178.758,-77.0806 170.428,-70.5332 168.163,-77.1567\"/>\n",
       "<text text-anchor=\"middle\" x=\"156.308\" y=\"-73.7039\" font-family=\"Times,serif\" font-size=\"14.00\">0</text>\n",
       "</g>\n",
       "<!-- St2 -->\n",
       "<g id=\"node4\" class=\"node\"><title>St2</title>\n",
       "<ellipse fill=\"none\" stroke=\"black\" cx=\"199.712\" cy=\"-21.9039\" rx=\"21.8081\" ry=\"21.8081\"/>\n",
       "<text text-anchor=\"middle\" x=\"199.712\" y=\"-17.7039\" font-family=\"Times,serif\" font-size=\"14.00\">St2</text>\n",
       "</g>\n",
       "<!-- St1&#45;&gt;St2 -->\n",
       "<g id=\"edge2\" class=\"edge\"><title>St1&#45;&gt;St2</title>\n",
       "<path fill=\"none\" stroke=\"black\" d=\"M133.574,-47.2501C144.277,-43.085 157.725,-37.8523 169.618,-33.2245\"/>\n",
       "<polygon fill=\"black\" stroke=\"black\" points=\"171.098,-36.4043 179.149,-29.5162 168.56,-29.8808 171.098,-36.4043\"/>\n",
       "<text text-anchor=\"middle\" x=\"156.308\" y=\"-42.7039\" font-family=\"Times,serif\" font-size=\"14.00\">1</text>\n",
       "</g>\n",
       "<!-- St5 -->\n",
       "<g id=\"node5\" class=\"node\"><title>St5</title>\n",
       "<ellipse fill=\"none\" stroke=\"black\" cx=\"290.519\" cy=\"-46.9039\" rx=\"21.8229\" ry=\"21.8229\"/>\n",
       "<ellipse fill=\"none\" stroke=\"black\" cx=\"290.519\" cy=\"-46.9039\" rx=\"25.8081\" ry=\"25.8081\"/>\n",
       "<text text-anchor=\"middle\" x=\"290.519\" y=\"-42.7039\" font-family=\"Times,serif\" font-size=\"14.00\">St5</text>\n",
       "</g>\n",
       "<!-- St4&#45;&gt;St5 -->\n",
       "<g id=\"edge6\" class=\"edge\"><title>St4&#45;&gt;St5</title>\n",
       "<path fill=\"none\" stroke=\"black\" d=\"M220.421,-75.6924C231.146,-71.2238 244.69,-65.5809 256.94,-60.4775\"/>\n",
       "<polygon fill=\"black\" stroke=\"black\" points=\"258.522,-63.6099 266.407,-56.5331 255.83,-57.1482 258.522,-63.6099\"/>\n",
       "<text text-anchor=\"middle\" x=\"243.115\" y=\"-70.7039\" font-family=\"Times,serif\" font-size=\"14.00\">1</text>\n",
       "</g>\n",
       "<!-- St2&#45;&gt;St5 -->\n",
       "<g id=\"edge4\" class=\"edge\"><title>St2&#45;&gt;St5</title>\n",
       "<path fill=\"none\" stroke=\"black\" d=\"M221.309,-27.7022C231.455,-30.5582 243.954,-34.0769 255.47,-37.3186\"/>\n",
       "<polygon fill=\"black\" stroke=\"black\" points=\"254.678,-40.7317 265.252,-40.0725 256.575,-33.9936 254.678,-40.7317\"/>\n",
       "<text text-anchor=\"middle\" x=\"243.115\" y=\"-37.7039\" font-family=\"Times,serif\" font-size=\"14.00\">1</text>\n",
       "</g>\n",
       "<!-- St2&#45;&gt;St5 -->\n",
       "<g id=\"edge5\" class=\"edge\"><title>St2&#45;&gt;St5</title>\n",
       "<path fill=\"none\" stroke=\"black\" d=\"M220.718,-15.5278C228.896,-13.8828 238.357,-13.2324 246.615,-15.9039 252.08,-17.6715 257.434,-20.4238 262.405,-23.5746\"/>\n",
       "<polygon fill=\"black\" stroke=\"black\" points=\"260.691,-26.6487 270.881,-29.5498 264.724,-20.9274 260.691,-26.6487\"/>\n",
       "<text text-anchor=\"middle\" x=\"243.115\" y=\"-18.7039\" font-family=\"Times,serif\" font-size=\"14.00\">0</text>\n",
       "</g>\n",
       "</g>\n",
       "</svg>\n"
      ],
      "text/plain": [
       "<graphviz.dot.Digraph at 0x10d7955c0>"
      ]
     },
     "execution_count": 6,
     "metadata": {},
     "output_type": "execute_result"
    }
   ],
   "source": [
    "L_OR = \"(01+10+11)\"\n",
    "dotObj_dfa(min_dfa(nfa2dfa(re2nfa(L_OR))), STATENAME_MAXSIZE=4)"
   ]
  },
  {
   "cell_type": "code",
   "execution_count": 7,
   "metadata": {
    "run_control": {
     "frozen": false,
     "read_only": false
    }
   },
   "outputs": [
    {
     "name": "stderr",
     "output_type": "stream",
     "text": [
      "Generating LALR tables\n"
     ]
    }
   ],
   "source": [
    "doOR = dotObj_dfa(min_dfa(nfa2dfa(re2nfa(L_OR))), STATENAME_MAXSIZE=4)"
   ]
  },
  {
   "cell_type": "code",
   "execution_count": 8,
   "metadata": {
    "run_control": {
     "frozen": false,
     "read_only": false
    }
   },
   "outputs": [
    {
     "data": {
      "text/plain": [
       "'/Users/ganesh/repos/atmm/book/CH17/ORdfaNoBH.dot.pdf'"
      ]
     },
     "execution_count": 8,
     "metadata": {},
     "output_type": "execute_result"
    }
   ],
   "source": [
    "doOR.render('/Users/ganesh/repos/atmm/book/CH17/ORdfaNoBH.dot')"
   ]
  },
  {
   "cell_type": "markdown",
   "metadata": {
    "run_control": {
     "frozen": false,
     "read_only": false
    }
   },
   "source": [
    "One can build BDDs corresponding to these functions as will be describe in the book. Also see the section at the end on building BDDs.\n",
    "\n",
    "It is easy to compare the BDDs to these minimal DFA and note the following:\n",
    "\n",
    "* The minimal DFA keep edges marked 0/1 . The BDD eliminates such \"redundant decoding\" edges, short-circuiting the graph at those edges\n",
    "\n",
    "* The minimal DFA shows what happens when strings with excessive lengths are fed. The BDD stops with a ``0'' node or a ``1'' node at the leaf, and does not carry on to show what happens when an excessively long string is fed.\n",
    "\n",
    "* The BDD does show the BH state as the ``0'' node.\n",
    "\n",
    "So far, the advantage of minimal DFA (or BDD) over truth-tables hasn't been quite apparent. We now proceed to demonstrate that for larger functions, with the right decoding order of the variables, BDDs (and minimal DFA) can indeed be far more compact (whereas truth-tables are guaranteed exponential)"
   ]
  },
  {
   "cell_type": "markdown",
   "metadata": {
    "run_control": {
     "frozen": false,
     "read_only": false
    }
   },
   "source": [
    "## Building minimal DFA for the language of on-sets"
   ]
  },
  {
   "cell_type": "markdown",
   "metadata": {
    "run_control": {
     "frozen": false,
     "read_only": false
    }
   },
   "source": [
    "Suppose there is a 6-input Boolean function modeling a magnitude comparator that \n",
    "compares the binary value coming in through input ports x2,x1,x0 against the binary\n",
    "value coming through ports y2,y1,y0.\n",
    "\n",
    "The function is \"<\" where \"A < B\" means the usual \"less than\" comparison.\n",
    "\n",
    "More specifically, we write \"x2,x1,x0 < y2,y1,y0\" and we interpret the word x2,x1,x0\n",
    "using the standard positional binary notation (likewise also for y2,y1,y0).\n",
    "\n",
    "Here are some examples:\n",
    "\n",
    "* 000 < 001  because 0 is < 1  (and 0 is encoded in binary as 000 and 1 as 001)\n",
    "\n",
    "* 010 < 110  because 2 is < 6  (and 2 is encoded as 010 while 6 is encoded as 110)\n",
    "\n",
    "* 110 < 111  because 6 < 7\n",
    "\n",
    "```\n",
    "Here is a circuit schematic of such a comparator:\n",
    "\n",
    "      --------\n",
    "      |      |\n",
    "x2 -->|      |\n",
    "x1 -->|      |\n",
    "x0 -->|      |\n",
    "      |   <  |--> Output\n",
    "y2 -->|      |\n",
    "y1 -->|      |\n",
    "y0 -->|      |\n",
    "      |      |\n",
    "      --------\n",
    "\n",
    "\n",
    "```\n",
    "\n",
    "Let us now define a language of strings of length 6 representing the values of \n",
    "x2,x1,x0,y2,y1,y0 written adjacently, such that for those x,y values, the function\n",
    "outputs a 1. Call this language L.\n",
    "\n",
    "For instance, L contains 010101 because 010 is < 101 (i.e. 2 < 5)\n",
    "\n",
    "The reader may verify that this is the full L language written out as a regular expression.\n",
    "Of the $2^6 = 64$ strings, we have 28 strings in L's language. The regular expression for L is called R, and is defined below:\n",
    "\n",
    "```\n",
    "R =     \"(000001+000011+000111+001011+001111+\\\n",
    "          010011+010111+011111+100101+100111+\\\n",
    "          101111+110111+000010+000101+000110+\\\n",
    "          001010+001101+001110+010101+010110+\\\n",
    "          011101+011110+100110+101110+000100+\\\n",
    "          001100+010100+011100)\"\n",
    "```\n",
    "\n",
    "Let us build a minimal DFA for R."
   ]
  },
  {
   "cell_type": "code",
   "execution_count": 9,
   "metadata": {
    "run_control": {
     "frozen": false,
     "read_only": false
    }
   },
   "outputs": [
    {
     "name": "stderr",
     "output_type": "stream",
     "text": [
      "Generating LALR tables\n"
     ]
    },
    {
     "data": {
      "image/svg+xml": [
       "<?xml version=\"1.0\" encoding=\"UTF-8\" standalone=\"no\"?>\n",
       "<!DOCTYPE svg PUBLIC \"-//W3C//DTD SVG 1.1//EN\"\n",
       " \"http://www.w3.org/Graphics/SVG/1.1/DTD/svg11.dtd\">\n",
       "<!-- Generated by graphviz version 2.38.0 (20140413.2041)\n",
       " -->\n",
       "<!-- Title: %3 Pages: 1 -->\n",
       "<svg width=\"732pt\" height=\"477pt\"\n",
       " viewBox=\"0.00 0.00 731.71 476.65\" xmlns=\"http://www.w3.org/2000/svg\" xmlns:xlink=\"http://www.w3.org/1999/xlink\">\n",
       "<g id=\"graph0\" class=\"graph\" transform=\"scale(1 1) rotate(0) translate(4 472.651)\">\n",
       "<title>%3</title>\n",
       "<polygon fill=\"white\" stroke=\"none\" points=\"-4,4 -4,-472.651 727.715,-472.651 727.715,4 -4,4\"/>\n",
       "<!-- EMPTY -->\n",
       "<g id=\"node1\" class=\"node\"><title>EMPTY</title>\n",
       "</g>\n",
       "<!-- St1 -->\n",
       "<g id=\"node18\" class=\"node\"><title>St1</title>\n",
       "<ellipse fill=\"none\" stroke=\"black\" cx=\"112.904\" cy=\"-258.326\" rx=\"21.8081\" ry=\"21.8081\"/>\n",
       "<text text-anchor=\"middle\" x=\"112.904\" y=\"-254.126\" font-family=\"Times,serif\" font-size=\"14.00\">St1</text>\n",
       "</g>\n",
       "<!-- EMPTY&#45;&gt;St1 -->\n",
       "<g id=\"edge1\" class=\"edge\"><title>EMPTY&#45;&gt;St1</title>\n",
       "<path fill=\"none\" stroke=\"black\" d=\"M54.0878,-258.326C62.501,-258.326 71.9126,-258.326 80.6587,-258.326\"/>\n",
       "<polygon fill=\"black\" stroke=\"black\" points=\"80.8854,-261.826 90.8853,-258.326 80.8853,-254.826 80.8854,-261.826\"/>\n",
       "</g>\n",
       "<!-- St18 -->\n",
       "<g id=\"node2\" class=\"node\"><title>St18</title>\n",
       "<ellipse fill=\"none\" stroke=\"black\" cx=\"204.133\" cy=\"-288.326\" rx=\"26.1523\" ry=\"26.1523\"/>\n",
       "<text text-anchor=\"middle\" x=\"204.133\" y=\"-284.126\" font-family=\"Times,serif\" font-size=\"14.00\">St18</text>\n",
       "</g>\n",
       "<!-- St41 -->\n",
       "<g id=\"node6\" class=\"node\"><title>St41</title>\n",
       "<ellipse fill=\"none\" stroke=\"black\" cx=\"299.785\" cy=\"-371.326\" rx=\"26.1523\" ry=\"26.1523\"/>\n",
       "<text text-anchor=\"middle\" x=\"299.785\" y=\"-367.126\" font-family=\"Times,serif\" font-size=\"14.00\">St41</text>\n",
       "</g>\n",
       "<!-- St18&#45;&gt;St41 -->\n",
       "<g id=\"edge6\" class=\"edge\"><title>St18&#45;&gt;St41</title>\n",
       "<path fill=\"none\" stroke=\"black\" d=\"M224.538,-305.523C238.225,-317.654 256.738,-334.061 271.854,-347.458\"/>\n",
       "<polygon fill=\"black\" stroke=\"black\" points=\"269.599,-350.137 279.405,-354.15 274.242,-344.898 269.599,-350.137\"/>\n",
       "<text text-anchor=\"middle\" x=\"251.959\" y=\"-335.126\" font-family=\"Times,serif\" font-size=\"14.00\">1</text>\n",
       "</g>\n",
       "<!-- St22 -->\n",
       "<g id=\"node20\" class=\"node\"><title>St22</title>\n",
       "<ellipse fill=\"none\" stroke=\"black\" cx=\"299.785\" cy=\"-229.326\" rx=\"26.1523\" ry=\"26.1523\"/>\n",
       "<text text-anchor=\"middle\" x=\"299.785\" y=\"-225.126\" font-family=\"Times,serif\" font-size=\"14.00\">St22</text>\n",
       "</g>\n",
       "<!-- St18&#45;&gt;St22 -->\n",
       "<g id=\"edge7\" class=\"edge\"><title>St18&#45;&gt;St22</title>\n",
       "<path fill=\"none\" stroke=\"black\" d=\"M226.854,-274.642C239.265,-266.823 255.017,-256.899 268.614,-248.333\"/>\n",
       "<polygon fill=\"black\" stroke=\"black\" points=\"270.586,-251.227 277.181,-242.935 266.855,-245.305 270.586,-251.227\"/>\n",
       "<text text-anchor=\"middle\" x=\"251.959\" y=\"-264.126\" font-family=\"Times,serif\" font-size=\"14.00\">0</text>\n",
       "</g>\n",
       "<!-- St5 -->\n",
       "<g id=\"node3\" class=\"node\"><title>St5</title>\n",
       "<ellipse fill=\"none\" stroke=\"black\" cx=\"491.087\" cy=\"-209.326\" rx=\"21.8081\" ry=\"21.8081\"/>\n",
       "<text text-anchor=\"middle\" x=\"491.087\" y=\"-205.126\" font-family=\"Times,serif\" font-size=\"14.00\">St5</text>\n",
       "</g>\n",
       "<!-- St25 -->\n",
       "<g id=\"node10\" class=\"node\"><title>St25</title>\n",
       "<ellipse fill=\"none\" stroke=\"black\" cx=\"590.238\" cy=\"-201.326\" rx=\"26.1523\" ry=\"26.1523\"/>\n",
       "<text text-anchor=\"middle\" x=\"590.238\" y=\"-197.126\" font-family=\"Times,serif\" font-size=\"14.00\">St25</text>\n",
       "</g>\n",
       "<!-- St5&#45;&gt;St25 -->\n",
       "<g id=\"edge27\" class=\"edge\"><title>St5&#45;&gt;St25</title>\n",
       "<path fill=\"none\" stroke=\"black\" d=\"M512.727,-205.379C519.883,-204.174 527.975,-202.992 535.413,-202.326 541.316,-201.796 547.599,-201.468 553.709,-201.274\"/>\n",
       "<polygon fill=\"black\" stroke=\"black\" points=\"553.811,-204.772 563.734,-201.061 553.662,-197.774 553.811,-204.772\"/>\n",
       "<text text-anchor=\"middle\" x=\"540.663\" y=\"-205.126\" font-family=\"Times,serif\" font-size=\"14.00\">1</text>\n",
       "</g>\n",
       "<!-- St65 -->\n",
       "<g id=\"node19\" class=\"node\"><title>St65</title>\n",
       "<ellipse fill=\"none\" stroke=\"black\" cx=\"590.238\" cy=\"-272.326\" rx=\"26.1523\" ry=\"26.1523\"/>\n",
       "<text text-anchor=\"middle\" x=\"590.238\" y=\"-268.126\" font-family=\"Times,serif\" font-size=\"14.00\">St65</text>\n",
       "</g>\n",
       "<!-- St5&#45;&gt;St65 -->\n",
       "<g id=\"edge28\" class=\"edge\"><title>St5&#45;&gt;St65</title>\n",
       "<path fill=\"none\" stroke=\"black\" d=\"M510.906,-218.965C521.42,-224.559 534.635,-231.942 545.913,-239.326 550.879,-242.577 556.015,-246.219 560.939,-249.863\"/>\n",
       "<polygon fill=\"black\" stroke=\"black\" points=\"558.872,-252.688 568.958,-255.931 563.096,-247.106 558.872,-252.688\"/>\n",
       "<text text-anchor=\"middle\" x=\"540.663\" y=\"-242.126\" font-family=\"Times,serif\" font-size=\"14.00\">0</text>\n",
       "</g>\n",
       "<!-- St23 -->\n",
       "<g id=\"node4\" class=\"node\"><title>St23</title>\n",
       "<ellipse fill=\"none\" stroke=\"black\" cx=\"395.436\" cy=\"-229.326\" rx=\"26.1523\" ry=\"26.1523\"/>\n",
       "<text text-anchor=\"middle\" x=\"395.436\" y=\"-225.126\" font-family=\"Times,serif\" font-size=\"14.00\">St23</text>\n",
       "</g>\n",
       "<!-- St23&#45;&gt;St5 -->\n",
       "<g id=\"edge24\" class=\"edge\"><title>St23&#45;&gt;St5</title>\n",
       "<path fill=\"none\" stroke=\"black\" d=\"M421.533,-223.966C433.215,-221.471 447.217,-218.481 459.512,-215.855\"/>\n",
       "<polygon fill=\"black\" stroke=\"black\" points=\"460.301,-219.266 469.35,-213.754 458.839,-212.42 460.301,-219.266\"/>\n",
       "<text text-anchor=\"middle\" x=\"443.261\" y=\"-223.126\" font-family=\"Times,serif\" font-size=\"14.00\">0</text>\n",
       "</g>\n",
       "<!-- St27 -->\n",
       "<g id=\"node15\" class=\"node\"><title>St27</title>\n",
       "<ellipse fill=\"none\" stroke=\"black\" cx=\"491.087\" cy=\"-275.326\" rx=\"26.1523\" ry=\"26.1523\"/>\n",
       "<text text-anchor=\"middle\" x=\"491.087\" y=\"-271.126\" font-family=\"Times,serif\" font-size=\"14.00\">St27</text>\n",
       "</g>\n",
       "<!-- St23&#45;&gt;St27 -->\n",
       "<g id=\"edge23\" class=\"edge\"><title>St23&#45;&gt;St27</title>\n",
       "<path fill=\"none\" stroke=\"black\" d=\"M419.585,-240.696C431.153,-246.378 445.337,-253.345 457.942,-259.536\"/>\n",
       "<polygon fill=\"black\" stroke=\"black\" points=\"456.685,-262.818 467.203,-264.086 459.771,-256.535 456.685,-262.818\"/>\n",
       "<text text-anchor=\"middle\" x=\"443.261\" y=\"-257.126\" font-family=\"Times,serif\" font-size=\"14.00\">1</text>\n",
       "</g>\n",
       "<!-- St17 -->\n",
       "<g id=\"node5\" class=\"node\"><title>St17</title>\n",
       "<ellipse fill=\"none\" stroke=\"black\" cx=\"395.436\" cy=\"-300.326\" rx=\"26.1523\" ry=\"26.1523\"/>\n",
       "<text text-anchor=\"middle\" x=\"395.436\" y=\"-296.126\" font-family=\"Times,serif\" font-size=\"14.00\">St17</text>\n",
       "</g>\n",
       "<!-- St19 -->\n",
       "<g id=\"node8\" class=\"node\"><title>St19</title>\n",
       "<ellipse fill=\"none\" stroke=\"black\" cx=\"491.087\" cy=\"-346.326\" rx=\"26.1523\" ry=\"26.1523\"/>\n",
       "<text text-anchor=\"middle\" x=\"491.087\" y=\"-342.126\" font-family=\"Times,serif\" font-size=\"14.00\">St19</text>\n",
       "</g>\n",
       "<!-- St17&#45;&gt;St19 -->\n",
       "<g id=\"edge15\" class=\"edge\"><title>St17&#45;&gt;St19</title>\n",
       "<path fill=\"none\" stroke=\"black\" d=\"M418.792,-312.518C425.493,-316.085 432.888,-319.934 439.761,-323.326 445.471,-326.143 451.598,-329.043 457.543,-331.795\"/>\n",
       "<polygon fill=\"black\" stroke=\"black\" points=\"456.1,-334.983 466.65,-335.962 459.013,-328.618 456.1,-334.983\"/>\n",
       "<text text-anchor=\"middle\" x=\"443.261\" y=\"-330.126\" font-family=\"Times,serif\" font-size=\"14.00\">1</text>\n",
       "</g>\n",
       "<!-- St42 -->\n",
       "<g id=\"node7\" class=\"node\"><title>St42</title>\n",
       "<ellipse fill=\"none\" stroke=\"black\" cx=\"395.436\" cy=\"-442.326\" rx=\"26.1523\" ry=\"26.1523\"/>\n",
       "<text text-anchor=\"middle\" x=\"395.436\" y=\"-438.126\" font-family=\"Times,serif\" font-size=\"14.00\">St42</text>\n",
       "</g>\n",
       "<!-- St41&#45;&gt;St42 -->\n",
       "<g id=\"edge12\" class=\"edge\"><title>St41&#45;&gt;St42</title>\n",
       "<path fill=\"none\" stroke=\"black\" d=\"M321.569,-387.083C334.632,-396.987 351.661,-409.896 365.971,-420.745\"/>\n",
       "<polygon fill=\"black\" stroke=\"black\" points=\"363.948,-423.604 374.032,-426.857 368.177,-418.026 363.948,-423.604\"/>\n",
       "<text text-anchor=\"middle\" x=\"347.61\" y=\"-412.126\" font-family=\"Times,serif\" font-size=\"14.00\">0</text>\n",
       "</g>\n",
       "<!-- St49 -->\n",
       "<g id=\"node17\" class=\"node\"><title>St49</title>\n",
       "<ellipse fill=\"none\" stroke=\"black\" cx=\"395.436\" cy=\"-371.326\" rx=\"26.1523\" ry=\"26.1523\"/>\n",
       "<text text-anchor=\"middle\" x=\"395.436\" y=\"-367.126\" font-family=\"Times,serif\" font-size=\"14.00\">St49</text>\n",
       "</g>\n",
       "<!-- St41&#45;&gt;St49 -->\n",
       "<g id=\"edge11\" class=\"edge\"><title>St41&#45;&gt;St49</title>\n",
       "<path fill=\"none\" stroke=\"black\" d=\"M326.375,-371.326C336.389,-371.326 348.047,-371.326 358.855,-371.326\"/>\n",
       "<polygon fill=\"black\" stroke=\"black\" points=\"358.876,-374.826 368.876,-371.326 358.876,-367.826 358.876,-374.826\"/>\n",
       "<text text-anchor=\"middle\" x=\"347.61\" y=\"-374.126\" font-family=\"Times,serif\" font-size=\"14.00\">1</text>\n",
       "</g>\n",
       "<!-- St42&#45;&gt;St19 -->\n",
       "<g id=\"edge20\" class=\"edge\"><title>St42&#45;&gt;St19</title>\n",
       "<path fill=\"none\" stroke=\"black\" d=\"M419.492,-431.457C428.63,-426.45 438.827,-419.923 446.761,-412.326 456.916,-402.601 465.889,-390.073 472.997,-378.55\"/>\n",
       "<polygon fill=\"black\" stroke=\"black\" points=\"476.214,-379.986 478.285,-369.596 470.186,-376.427 476.214,-379.986\"/>\n",
       "<text text-anchor=\"middle\" x=\"443.261\" y=\"-421.126\" font-family=\"Times,serif\" font-size=\"14.00\">0</text>\n",
       "</g>\n",
       "<!-- St42&#45;&gt;St27 -->\n",
       "<g id=\"edge19\" class=\"edge\"><title>St42&#45;&gt;St27</title>\n",
       "<path fill=\"none\" stroke=\"black\" d=\"M412.118,-421.439C415.478,-416.59 418.88,-411.368 421.761,-406.326 444.752,-366.084 441.771,-351.567 464.761,-311.326 466.022,-309.119 467.382,-306.879 468.795,-304.651\"/>\n",
       "<polygon fill=\"black\" stroke=\"black\" points=\"471.783,-306.477 474.405,-296.212 465.954,-302.602 471.783,-306.477\"/>\n",
       "<text text-anchor=\"middle\" x=\"443.261\" y=\"-370.126\" font-family=\"Times,serif\" font-size=\"14.00\">1</text>\n",
       "</g>\n",
       "<!-- St19&#45;&gt;St65 -->\n",
       "<g id=\"edge25\" class=\"edge\"><title>St19&#45;&gt;St65</title>\n",
       "<path fill=\"none\" stroke=\"black\" d=\"M512.978,-331.576C523.026,-324.383 535.191,-315.532 545.913,-307.326 550.832,-303.561 556.002,-299.488 560.99,-295.498\"/>\n",
       "<polygon fill=\"black\" stroke=\"black\" points=\"563.548,-297.931 569.135,-288.929 559.153,-292.483 563.548,-297.931\"/>\n",
       "<text text-anchor=\"middle\" x=\"540.663\" y=\"-318.126\" font-family=\"Times,serif\" font-size=\"14.00\">1</text>\n",
       "</g>\n",
       "<!-- St16 -->\n",
       "<g id=\"node9\" class=\"node\"><title>St16</title>\n",
       "<ellipse fill=\"none\" stroke=\"black\" cx=\"299.785\" cy=\"-300.326\" rx=\"26.1523\" ry=\"26.1523\"/>\n",
       "<text text-anchor=\"middle\" x=\"299.785\" y=\"-296.126\" font-family=\"Times,serif\" font-size=\"14.00\">St16</text>\n",
       "</g>\n",
       "<!-- St16&#45;&gt;St17 -->\n",
       "<g id=\"edge8\" class=\"edge\"><title>St16&#45;&gt;St17</title>\n",
       "<path fill=\"none\" stroke=\"black\" d=\"M326.375,-300.326C336.389,-300.326 348.047,-300.326 358.855,-300.326\"/>\n",
       "<polygon fill=\"black\" stroke=\"black\" points=\"358.876,-303.826 368.876,-300.326 358.876,-296.826 358.876,-303.826\"/>\n",
       "<text text-anchor=\"middle\" x=\"347.61\" y=\"-303.126\" font-family=\"Times,serif\" font-size=\"14.00\">0</text>\n",
       "</g>\n",
       "<!-- St67 -->\n",
       "<g id=\"node22\" class=\"node\"><title>St67</title>\n",
       "<ellipse fill=\"none\" stroke=\"black\" cx=\"693.389\" cy=\"-239.326\" rx=\"26.1751\" ry=\"26.1751\"/>\n",
       "<ellipse fill=\"none\" stroke=\"black\" cx=\"693.389\" cy=\"-239.326\" rx=\"30.1522\" ry=\"30.1522\"/>\n",
       "<text text-anchor=\"middle\" x=\"693.389\" y=\"-235.126\" font-family=\"Times,serif\" font-size=\"14.00\">St67</text>\n",
       "</g>\n",
       "<!-- St25&#45;&gt;St67 -->\n",
       "<g id=\"edge31\" class=\"edge\"><title>St25&#45;&gt;St67</title>\n",
       "<path fill=\"none\" stroke=\"black\" d=\"M615.21,-210.331C627.15,-214.817 641.857,-220.342 655.218,-225.361\"/>\n",
       "<polygon fill=\"black\" stroke=\"black\" points=\"654.059,-228.665 664.651,-228.905 656.521,-222.112 654.059,-228.665\"/>\n",
       "<text text-anchor=\"middle\" x=\"639.814\" y=\"-239.126\" font-family=\"Times,serif\" font-size=\"14.00\">1 </text>\n",
       "<text text-anchor=\"middle\" x=\"639.814\" y=\"-225.126\" font-family=\"Times,serif\" font-size=\"14.00\"> 0</text>\n",
       "</g>\n",
       "<!-- St12 -->\n",
       "<g id=\"node11\" class=\"node\"><title>St12</title>\n",
       "<ellipse fill=\"none\" stroke=\"black\" cx=\"395.436\" cy=\"-26.3256\" rx=\"26.1523\" ry=\"26.1523\"/>\n",
       "<text text-anchor=\"middle\" x=\"395.436\" y=\"-22.1256\" font-family=\"Times,serif\" font-size=\"14.00\">St12</text>\n",
       "</g>\n",
       "<!-- St13 -->\n",
       "<g id=\"node13\" class=\"node\"><title>St13</title>\n",
       "<ellipse fill=\"none\" stroke=\"black\" cx=\"491.087\" cy=\"-143.326\" rx=\"26.1523\" ry=\"26.1523\"/>\n",
       "<text text-anchor=\"middle\" x=\"491.087\" y=\"-139.126\" font-family=\"Times,serif\" font-size=\"14.00\">St13</text>\n",
       "</g>\n",
       "<!-- St12&#45;&gt;St13 -->\n",
       "<g id=\"edge16\" class=\"edge\"><title>St12&#45;&gt;St13</title>\n",
       "<path fill=\"none\" stroke=\"black\" d=\"M419.395,-37.4559C428.73,-42.8058 439.099,-49.899 446.761,-58.3256 460.081,-72.975 470.409,-92.4768 477.634,-109.105\"/>\n",
       "<polygon fill=\"black\" stroke=\"black\" points=\"474.467,-110.607 481.528,-118.505 480.934,-107.927 474.467,-110.607\"/>\n",
       "<text text-anchor=\"middle\" x=\"443.261\" y=\"-61.1256\" font-family=\"Times,serif\" font-size=\"14.00\">1</text>\n",
       "</g>\n",
       "<!-- St4 -->\n",
       "<g id=\"node12\" class=\"node\"><title>St4</title>\n",
       "<ellipse fill=\"none\" stroke=\"black\" cx=\"395.436\" cy=\"-92.3256\" rx=\"21.8081\" ry=\"21.8081\"/>\n",
       "<text text-anchor=\"middle\" x=\"395.436\" y=\"-88.1256\" font-family=\"Times,serif\" font-size=\"14.00\">St4</text>\n",
       "</g>\n",
       "<!-- St4&#45;&gt;St5 -->\n",
       "<g id=\"edge17\" class=\"edge\"><title>St4&#45;&gt;St5</title>\n",
       "<path fill=\"none\" stroke=\"black\" d=\"M414.745,-103.375C425.299,-110.522 438.142,-120.654 446.761,-132.326 459.803,-149.986 453.682,-159.372 464.761,-178.326 466.112,-180.635 467.629,-182.952 469.231,-185.22\"/>\n",
       "<polygon fill=\"black\" stroke=\"black\" points=\"466.807,-187.811 475.669,-193.618 472.363,-183.552 466.807,-187.811\"/>\n",
       "<text text-anchor=\"middle\" x=\"443.261\" y=\"-137.126\" font-family=\"Times,serif\" font-size=\"14.00\">1</text>\n",
       "</g>\n",
       "<!-- St13&#45;&gt;St25 -->\n",
       "<g id=\"edge26\" class=\"edge\"><title>St13&#45;&gt;St25</title>\n",
       "<path fill=\"none\" stroke=\"black\" d=\"M514.132,-156.487C527.299,-164.347 544.217,-174.447 558.662,-183.071\"/>\n",
       "<polygon fill=\"black\" stroke=\"black\" points=\"556.9,-186.096 567.28,-188.217 560.488,-180.085 556.9,-186.096\"/>\n",
       "<text text-anchor=\"middle\" x=\"540.663\" y=\"-179.126\" font-family=\"Times,serif\" font-size=\"14.00\">1</text>\n",
       "</g>\n",
       "<!-- St32 -->\n",
       "<g id=\"node14\" class=\"node\"><title>St32</title>\n",
       "<ellipse fill=\"none\" stroke=\"black\" cx=\"395.436\" cy=\"-158.326\" rx=\"26.1523\" ry=\"26.1523\"/>\n",
       "<text text-anchor=\"middle\" x=\"395.436\" y=\"-154.126\" font-family=\"Times,serif\" font-size=\"14.00\">St32</text>\n",
       "</g>\n",
       "<!-- St32&#45;&gt;St13 -->\n",
       "<g id=\"edge22\" class=\"edge\"><title>St32&#45;&gt;St13</title>\n",
       "<path fill=\"none\" stroke=\"black\" d=\"M421.635,-154.243C427.579,-153.283 433.893,-152.266 439.761,-151.326 444.637,-150.544 449.778,-149.723 454.838,-148.917\"/>\n",
       "<polygon fill=\"black\" stroke=\"black\" points=\"455.673,-152.329 464.999,-147.301 454.573,-145.416 455.673,-152.329\"/>\n",
       "<text text-anchor=\"middle\" x=\"443.261\" y=\"-154.126\" font-family=\"Times,serif\" font-size=\"14.00\">0</text>\n",
       "</g>\n",
       "<!-- St32&#45;&gt;St27 -->\n",
       "<g id=\"edge21\" class=\"edge\"><title>St32&#45;&gt;St27</title>\n",
       "<path fill=\"none\" stroke=\"black\" d=\"M417.405,-172.915C427.244,-180.534 438.575,-190.514 446.761,-201.326 458.285,-216.545 455.12,-223.848 464.761,-240.326 465.9,-242.272 467.12,-244.243 468.388,-246.208\"/>\n",
       "<polygon fill=\"black\" stroke=\"black\" points=\"465.623,-248.366 474.136,-254.672 471.413,-244.433 465.623,-248.366\"/>\n",
       "<text text-anchor=\"middle\" x=\"443.261\" y=\"-205.126\" font-family=\"Times,serif\" font-size=\"14.00\">1</text>\n",
       "</g>\n",
       "<!-- St27&#45;&gt;St25 -->\n",
       "<g id=\"edge29\" class=\"edge\"><title>St27&#45;&gt;St25</title>\n",
       "<path fill=\"none\" stroke=\"black\" d=\"M516.707,-268.129C526.365,-264.598 537.198,-259.708 545.913,-253.326 554.374,-247.129 562.201,-238.933 568.809,-230.885\"/>\n",
       "<polygon fill=\"black\" stroke=\"black\" points=\"571.596,-233.002 574.987,-222.965 566.077,-228.697 571.596,-233.002\"/>\n",
       "<text text-anchor=\"middle\" x=\"540.663\" y=\"-276.126\" font-family=\"Times,serif\" font-size=\"14.00\">1 </text>\n",
       "<text text-anchor=\"middle\" x=\"540.663\" y=\"-262.126\" font-family=\"Times,serif\" font-size=\"14.00\"> 0</text>\n",
       "</g>\n",
       "<!-- St3 -->\n",
       "<g id=\"node16\" class=\"node\"><title>St3</title>\n",
       "<ellipse fill=\"none\" stroke=\"black\" cx=\"299.785\" cy=\"-92.3256\" rx=\"21.8081\" ry=\"21.8081\"/>\n",
       "<text text-anchor=\"middle\" x=\"299.785\" y=\"-88.1256\" font-family=\"Times,serif\" font-size=\"14.00\">St3</text>\n",
       "</g>\n",
       "<!-- St3&#45;&gt;St12 -->\n",
       "<g id=\"edge9\" class=\"edge\"><title>St3&#45;&gt;St12</title>\n",
       "<path fill=\"none\" stroke=\"black\" d=\"M318.4,-79.9115C331.422,-70.7344 349.462,-58.0207 364.702,-47.2802\"/>\n",
       "<polygon fill=\"black\" stroke=\"black\" points=\"367.135,-49.8476 373.293,-41.226 363.102,-44.1257 367.135,-49.8476\"/>\n",
       "<text text-anchor=\"middle\" x=\"347.61\" y=\"-64.1256\" font-family=\"Times,serif\" font-size=\"14.00\">1</text>\n",
       "</g>\n",
       "<!-- St3&#45;&gt;St4 -->\n",
       "<g id=\"edge10\" class=\"edge\"><title>St3&#45;&gt;St4</title>\n",
       "<path fill=\"none\" stroke=\"black\" d=\"M322.035,-92.3256C334.129,-92.3256 349.506,-92.3256 362.975,-92.3256\"/>\n",
       "<polygon fill=\"black\" stroke=\"black\" points=\"363.269,-95.8257 373.269,-92.3256 363.269,-88.8257 363.269,-95.8257\"/>\n",
       "<text text-anchor=\"middle\" x=\"347.61\" y=\"-95.1256\" font-family=\"Times,serif\" font-size=\"14.00\">0</text>\n",
       "</g>\n",
       "<!-- St49&#45;&gt;St27 -->\n",
       "<g id=\"edge18\" class=\"edge\"><title>St49&#45;&gt;St27</title>\n",
       "<path fill=\"none\" stroke=\"black\" d=\"M411.693,-350.181C415.076,-345.344 418.594,-340.194 421.761,-335.326 430.24,-322.292 428.751,-316.305 439.761,-305.326 445.109,-299.993 451.589,-295.23 458.093,-291.155\"/>\n",
       "<polygon fill=\"black\" stroke=\"black\" points=\"459.998,-294.095 466.874,-286.035 456.473,-288.048 459.998,-294.095\"/>\n",
       "<text text-anchor=\"middle\" x=\"443.261\" y=\"-308.126\" font-family=\"Times,serif\" font-size=\"14.00\">1</text>\n",
       "</g>\n",
       "<!-- St1&#45;&gt;St18 -->\n",
       "<g id=\"edge3\" class=\"edge\"><title>St1&#45;&gt;St18</title>\n",
       "<path fill=\"none\" stroke=\"black\" d=\"M134.151,-265.133C144.516,-268.618 157.41,-272.953 169.237,-276.929\"/>\n",
       "<polygon fill=\"black\" stroke=\"black\" points=\"168.247,-280.289 178.841,-280.158 170.478,-273.654 168.247,-280.289\"/>\n",
       "<text text-anchor=\"middle\" x=\"156.308\" y=\"-276.126\" font-family=\"Times,serif\" font-size=\"14.00\">0</text>\n",
       "</g>\n",
       "<!-- St8 -->\n",
       "<g id=\"node21\" class=\"node\"><title>St8</title>\n",
       "<ellipse fill=\"none\" stroke=\"black\" cx=\"204.133\" cy=\"-222.326\" rx=\"21.8081\" ry=\"21.8081\"/>\n",
       "<text text-anchor=\"middle\" x=\"204.133\" y=\"-218.126\" font-family=\"Times,serif\" font-size=\"14.00\">St8</text>\n",
       "</g>\n",
       "<!-- St1&#45;&gt;St8 -->\n",
       "<g id=\"edge2\" class=\"edge\"><title>St1&#45;&gt;St8</title>\n",
       "<path fill=\"none\" stroke=\"black\" d=\"M133.707,-250.336C145.49,-245.582 160.659,-239.462 173.811,-234.156\"/>\n",
       "<polygon fill=\"black\" stroke=\"black\" points=\"175.422,-237.28 183.386,-230.293 172.803,-230.789 175.422,-237.28\"/>\n",
       "<text text-anchor=\"middle\" x=\"156.308\" y=\"-246.126\" font-family=\"Times,serif\" font-size=\"14.00\">1</text>\n",
       "</g>\n",
       "<!-- St65&#45;&gt;St67 -->\n",
       "<g id=\"edge30\" class=\"edge\"><title>St65&#45;&gt;St67</title>\n",
       "<path fill=\"none\" stroke=\"black\" d=\"M615.466,-264.421C627.203,-260.592 641.566,-255.906 654.69,-251.625\"/>\n",
       "<polygon fill=\"black\" stroke=\"black\" points=\"655.999,-254.879 664.421,-248.45 653.828,-248.224 655.999,-254.879\"/>\n",
       "<text text-anchor=\"middle\" x=\"639.814\" y=\"-261.126\" font-family=\"Times,serif\" font-size=\"14.00\">1</text>\n",
       "</g>\n",
       "<!-- St22&#45;&gt;St23 -->\n",
       "<g id=\"edge14\" class=\"edge\"><title>St22&#45;&gt;St23</title>\n",
       "<path fill=\"none\" stroke=\"black\" d=\"M326.375,-229.326C336.389,-229.326 348.047,-229.326 358.855,-229.326\"/>\n",
       "<polygon fill=\"black\" stroke=\"black\" points=\"358.876,-232.826 368.876,-229.326 358.876,-225.826 358.876,-232.826\"/>\n",
       "<text text-anchor=\"middle\" x=\"347.61\" y=\"-232.126\" font-family=\"Times,serif\" font-size=\"14.00\">0</text>\n",
       "</g>\n",
       "<!-- St22&#45;&gt;St32 -->\n",
       "<g id=\"edge13\" class=\"edge\"><title>St22&#45;&gt;St32</title>\n",
       "<path fill=\"none\" stroke=\"black\" d=\"M321.569,-213.568C334.632,-203.665 351.661,-190.755 365.971,-179.906\"/>\n",
       "<polygon fill=\"black\" stroke=\"black\" points=\"368.177,-182.625 374.032,-173.794 363.948,-177.047 368.177,-182.625\"/>\n",
       "<text text-anchor=\"middle\" x=\"347.61\" y=\"-199.126\" font-family=\"Times,serif\" font-size=\"14.00\">1</text>\n",
       "</g>\n",
       "<!-- St8&#45;&gt;St16 -->\n",
       "<g id=\"edge4\" class=\"edge\"><title>St8&#45;&gt;St16</title>\n",
       "<path fill=\"none\" stroke=\"black\" d=\"M226.123,-226.289C235.737,-228.852 246.875,-232.941 255.459,-239.326 255.882,-239.64 267.038,-255.351 277.921,-270.747\"/>\n",
       "<polygon fill=\"black\" stroke=\"black\" points=\"275.242,-273.02 283.87,-279.168 280.959,-268.981 275.242,-273.02\"/>\n",
       "<text text-anchor=\"middle\" x=\"251.959\" y=\"-243.126\" font-family=\"Times,serif\" font-size=\"14.00\">1</text>\n",
       "</g>\n",
       "<!-- St8&#45;&gt;St3 -->\n",
       "<g id=\"edge5\" class=\"edge\"><title>St8&#45;&gt;St3</title>\n",
       "<path fill=\"none\" stroke=\"black\" d=\"M217.764,-204.793C233.822,-182.502 261.679,-143.833 280.173,-118.161\"/>\n",
       "<polygon fill=\"black\" stroke=\"black\" points=\"283.05,-120.155 286.055,-109.995 277.37,-116.063 283.05,-120.155\"/>\n",
       "<text text-anchor=\"middle\" x=\"251.959\" y=\"-164.126\" font-family=\"Times,serif\" font-size=\"14.00\">0</text>\n",
       "</g>\n",
       "</g>\n",
       "</svg>\n"
      ],
      "text/plain": [
       "<graphviz.dot.Digraph at 0x10d79b0f0>"
      ]
     },
     "execution_count": 9,
     "metadata": {},
     "output_type": "execute_result"
    }
   ],
   "source": [
    "R =     \"(000001+000011+000111+001011+001111+\\\n",
    "          010011+010111+011111+100101+100111+\\\n",
    "          101111+110111+000010+000101+000110+\\\n",
    "          001010+001101+001110+010101+010110+\\\n",
    "          011101+011110+100110+101110+000100+\\\n",
    "          001100+010100+011100)\"\n",
    "N      = re2nfa(R)\n",
    "Dbloat = nfa2dfa(N)\n",
    "D      = min_dfa(Dbloat)\n",
    "doBadLTNoBH = dotObj_dfa(D, FuseEdges=True)\n",
    "doBadLTNoBH"
   ]
  },
  {
   "cell_type": "code",
   "execution_count": 10,
   "metadata": {
    "run_control": {
     "frozen": false,
     "read_only": false
    }
   },
   "outputs": [
    {
     "data": {
      "text/plain": [
       "'/Users/ganesh/repos/atmm/book/CH17/doBadLTNoBH.dot.pdf'"
      ]
     },
     "execution_count": 10,
     "metadata": {},
     "output_type": "execute_result"
    }
   ],
   "source": [
    "doBadLTNoBH.render('/Users/ganesh/repos/atmm/book/CH17/doBadLTNoBH.dot')"
   ]
  },
  {
   "cell_type": "markdown",
   "metadata": {
    "run_control": {
     "frozen": false,
     "read_only": false
    }
   },
   "source": [
    "This machine appears to be rather large -- in fact exponential in the x2,x1,x0 bits (those are the first three bits to arrive at this machine, and the machine grows exponentially with respect to these inputs). It then collapses soon as soon as the y bits come in.\n",
    "\n",
    "Size aside, this DFA acts as a representation of the \"<\" function. Take the starting state: all paths from it leading to the final state are in the on-set of this function; any path of length six that goes to the BH state is in the off-set of this function. Strings of length greater than six can be entertained, but they have no meaning with respect to our problem that involves only six variables. \n",
    "\n",
    "Let us take an example. String 001100 is accepted. Here is the accepting path:\n",
    "\n",
    "* St1 --0--> St18 --0--> St22 --1--> St32 --1--> St27 --0--> St9 --0--> St35 \n",
    "\n",
    "The rejecting paths include strings of length six that are not in the language being modeled, or strings of higher lengths than six. These strings cause the execution to enter the \"black hole\" state (that is not shown in our diagrams).\n",
    " \n",
    "Also notice that the _nodes_ in this minimal automaton graph represent Boolean functions. Thus, state St1 is a function of all the six input bits. States St18 and St8 are functions of the five bits x1,x0,y2,y1,y0. In fact, the further we go away from the initial state, the lesser the remaining bits are in deciding the \"fate of the function\". \n",
    "\n",
    "Take state St18 which is one step away from the initial state. All paths leading to the final state represent the on-set of a Boolean function of inputs x1,x0,y2,y1,y0. Paths leading to state BH (not shown) are in the off-set (not shown)"
   ]
  },
  {
   "cell_type": "markdown",
   "metadata": {
    "run_control": {
     "frozen": false,
     "read_only": false
    }
   },
   "source": [
    "But suppose another astute person jumps in and tells us that it will be a small minimal DFA if we were to have considered strings x2,y2,x1,y1,x0,y0 to be in the language. That is, we mix the bits (and call the language Lmix, and the regular expression Rmix).\n",
    "\n",
    "We have the following Rmix."
   ]
  },
  {
   "cell_type": "code",
   "execution_count": 11,
   "metadata": {
    "run_control": {
     "frozen": false,
     "read_only": false
    }
   },
   "outputs": [],
   "source": [
    "Rmix =  \"(000001+000111+001101+011111+110001+\\\n",
    "          110111+111101+000101+000110+010111+\\\n",
    "          011011+011101+011110+110101+110110+\\\n",
    "          000100+010011+010101+010110+011001+\\\n",
    "          011010+011100+110100+010001+010010+\\\n",
    "          010100+011000+010000)\" "
   ]
  },
  {
   "cell_type": "markdown",
   "metadata": {
    "run_control": {
     "frozen": false,
     "read_only": false
    }
   },
   "source": [
    "We still have 28 entries, but the entries now represent x2,y2,x1,y1,x0,y0. For instance,\n",
    "take the fifth member of Rmix which is 110001. This means 100 < 101 which means 4 < 5, which is true. Let us now build a minimum DFA for Rmix."
   ]
  },
  {
   "cell_type": "code",
   "execution_count": 12,
   "metadata": {
    "run_control": {
     "frozen": false,
     "read_only": false
    }
   },
   "outputs": [
    {
     "name": "stderr",
     "output_type": "stream",
     "text": [
      "Generating LALR tables\n"
     ]
    }
   ],
   "source": [
    "Dmix = min_dfa(nfa2dfa(re2nfa(Rmix)))"
   ]
  },
  {
   "cell_type": "code",
   "execution_count": 13,
   "metadata": {
    "run_control": {
     "frozen": false,
     "read_only": false
    }
   },
   "outputs": [
    {
     "data": {
      "image/svg+xml": [
       "<?xml version=\"1.0\" encoding=\"UTF-8\" standalone=\"no\"?>\n",
       "<!DOCTYPE svg PUBLIC \"-//W3C//DTD SVG 1.1//EN\"\n",
       " \"http://www.w3.org/Graphics/SVG/1.1/DTD/svg11.dtd\">\n",
       "<!-- Generated by graphviz version 2.38.0 (20140413.2041)\n",
       " -->\n",
       "<!-- Title: %3 Pages: 1 -->\n",
       "<svg width=\"739pt\" height=\"193pt\"\n",
       " viewBox=\"0.00 0.00 738.71 192.65\" xmlns=\"http://www.w3.org/2000/svg\" xmlns:xlink=\"http://www.w3.org/1999/xlink\">\n",
       "<g id=\"graph0\" class=\"graph\" transform=\"scale(1 1) rotate(0) translate(4 188.651)\">\n",
       "<title>%3</title>\n",
       "<polygon fill=\"white\" stroke=\"none\" points=\"-4,4 -4,-188.651 734.715,-188.651 734.715,4 -4,4\"/>\n",
       "<!-- EMPTY -->\n",
       "<g id=\"node1\" class=\"node\"><title>EMPTY</title>\n",
       "</g>\n",
       "<!-- St1 -->\n",
       "<g id=\"node11\" class=\"node\"><title>St1</title>\n",
       "<ellipse fill=\"none\" stroke=\"black\" cx=\"112.904\" cy=\"-70.3256\" rx=\"21.8081\" ry=\"21.8081\"/>\n",
       "<text text-anchor=\"middle\" x=\"112.904\" y=\"-66.1256\" font-family=\"Times,serif\" font-size=\"14.00\">St1</text>\n",
       "</g>\n",
       "<!-- EMPTY&#45;&gt;St1 -->\n",
       "<g id=\"edge1\" class=\"edge\"><title>EMPTY&#45;&gt;St1</title>\n",
       "<path fill=\"none\" stroke=\"black\" d=\"M54.0878,-70.3256C62.501,-70.3256 71.9126,-70.3256 80.6587,-70.3256\"/>\n",
       "<polygon fill=\"black\" stroke=\"black\" points=\"80.8854,-73.8257 90.8853,-70.3256 80.8853,-66.8257 80.8854,-73.8257\"/>\n",
       "</g>\n",
       "<!-- St25 -->\n",
       "<g id=\"node2\" class=\"node\"><title>St25</title>\n",
       "<ellipse fill=\"none\" stroke=\"black\" cx=\"299.785\" cy=\"-98.3256\" rx=\"26.1523\" ry=\"26.1523\"/>\n",
       "<text text-anchor=\"middle\" x=\"299.785\" y=\"-94.1256\" font-family=\"Times,serif\" font-size=\"14.00\">St25</text>\n",
       "</g>\n",
       "<!-- St4 -->\n",
       "<g id=\"node3\" class=\"node\"><title>St4</title>\n",
       "<ellipse fill=\"none\" stroke=\"black\" cx=\"398.936\" cy=\"-92.3256\" rx=\"21.8081\" ry=\"21.8081\"/>\n",
       "<text text-anchor=\"middle\" x=\"398.936\" y=\"-88.1256\" font-family=\"Times,serif\" font-size=\"14.00\">St4</text>\n",
       "</g>\n",
       "<!-- St25&#45;&gt;St4 -->\n",
       "<g id=\"edge8\" class=\"edge\"><title>St25&#45;&gt;St4</title>\n",
       "<path fill=\"none\" stroke=\"black\" d=\"M326.31,-96.7492C338.731,-95.9821 353.769,-95.0533 366.853,-94.2452\"/>\n",
       "<polygon fill=\"black\" stroke=\"black\" points=\"367.075,-97.7383 376.84,-93.6284 366.644,-90.7516 367.075,-97.7383\"/>\n",
       "<text text-anchor=\"middle\" x=\"349.36\" y=\"-99.1256\" font-family=\"Times,serif\" font-size=\"14.00\">0</text>\n",
       "</g>\n",
       "<!-- St48 -->\n",
       "<g id=\"node7\" class=\"node\"><title>St48</title>\n",
       "<ellipse fill=\"none\" stroke=\"black\" cx=\"398.936\" cy=\"-158.326\" rx=\"26.1523\" ry=\"26.1523\"/>\n",
       "<text text-anchor=\"middle\" x=\"398.936\" y=\"-154.126\" font-family=\"Times,serif\" font-size=\"14.00\">St48</text>\n",
       "</g>\n",
       "<!-- St25&#45;&gt;St48 -->\n",
       "<g id=\"edge7\" class=\"edge\"><title>St25&#45;&gt;St48</title>\n",
       "<path fill=\"none\" stroke=\"black\" d=\"M322.83,-111.941C335.996,-120.072 352.914,-130.521 367.359,-139.442\"/>\n",
       "<polygon fill=\"black\" stroke=\"black\" points=\"365.631,-142.488 375.978,-144.765 369.309,-136.532 365.631,-142.488\"/>\n",
       "<text text-anchor=\"middle\" x=\"349.36\" y=\"-133.126\" font-family=\"Times,serif\" font-size=\"14.00\">1</text>\n",
       "</g>\n",
       "<!-- St27 -->\n",
       "<g id=\"node6\" class=\"node\"><title>St27</title>\n",
       "<ellipse fill=\"none\" stroke=\"black\" cx=\"498.087\" cy=\"-65.3256\" rx=\"26.1523\" ry=\"26.1523\"/>\n",
       "<text text-anchor=\"middle\" x=\"498.087\" y=\"-61.1256\" font-family=\"Times,serif\" font-size=\"14.00\">St27</text>\n",
       "</g>\n",
       "<!-- St4&#45;&gt;St27 -->\n",
       "<g id=\"edge11\" class=\"edge\"><title>St4&#45;&gt;St27</title>\n",
       "<path fill=\"none\" stroke=\"black\" d=\"M420.539,-86.5996C432.73,-83.2115 448.487,-78.8324 462.533,-74.9287\"/>\n",
       "<polygon fill=\"black\" stroke=\"black\" points=\"463.685,-78.2412 472.383,-72.1912 461.811,-71.4968 463.685,-78.2412\"/>\n",
       "<text text-anchor=\"middle\" x=\"448.511\" y=\"-83.1256\" font-family=\"Times,serif\" font-size=\"14.00\">1</text>\n",
       "</g>\n",
       "<!-- St51 -->\n",
       "<g id=\"node8\" class=\"node\"><title>St51</title>\n",
       "<ellipse fill=\"none\" stroke=\"black\" cx=\"498.087\" cy=\"-136.326\" rx=\"26.1523\" ry=\"26.1523\"/>\n",
       "<text text-anchor=\"middle\" x=\"498.087\" y=\"-132.126\" font-family=\"Times,serif\" font-size=\"14.00\">St51</text>\n",
       "</g>\n",
       "<!-- St4&#45;&gt;St51 -->\n",
       "<g id=\"edge12\" class=\"edge\"><title>St4&#45;&gt;St51</title>\n",
       "<path fill=\"none\" stroke=\"black\" d=\"M419.13,-101.019C432.012,-106.853 449.312,-114.688 464.341,-121.495\"/>\n",
       "<polygon fill=\"black\" stroke=\"black\" points=\"463.267,-124.851 473.821,-125.788 466.155,-118.474 463.267,-124.851\"/>\n",
       "<text text-anchor=\"middle\" x=\"448.511\" y=\"-120.126\" font-family=\"Times,serif\" font-size=\"14.00\">0</text>\n",
       "</g>\n",
       "<!-- St12 -->\n",
       "<g id=\"node4\" class=\"node\"><title>St12</title>\n",
       "<ellipse fill=\"none\" stroke=\"black\" cx=\"597.238\" cy=\"-65.3256\" rx=\"26.1523\" ry=\"26.1523\"/>\n",
       "<text text-anchor=\"middle\" x=\"597.238\" y=\"-61.1256\" font-family=\"Times,serif\" font-size=\"14.00\">St12</text>\n",
       "</g>\n",
       "<!-- St18 -->\n",
       "<g id=\"node14\" class=\"node\"><title>St18</title>\n",
       "<ellipse fill=\"none\" stroke=\"black\" cx=\"700.389\" cy=\"-103.326\" rx=\"26.1751\" ry=\"26.1751\"/>\n",
       "<ellipse fill=\"none\" stroke=\"black\" cx=\"700.389\" cy=\"-103.326\" rx=\"30.1522\" ry=\"30.1522\"/>\n",
       "<text text-anchor=\"middle\" x=\"700.389\" y=\"-99.1256\" font-family=\"Times,serif\" font-size=\"14.00\">St18</text>\n",
       "</g>\n",
       "<!-- St12&#45;&gt;St18 -->\n",
       "<g id=\"edge17\" class=\"edge\"><title>St12&#45;&gt;St18</title>\n",
       "<path fill=\"none\" stroke=\"black\" d=\"M622.21,-74.3311C634.15,-78.8169 648.857,-84.3419 662.218,-89.3614\"/>\n",
       "<polygon fill=\"black\" stroke=\"black\" points=\"661.059,-92.6646 671.651,-92.905 663.521,-86.1118 661.059,-92.6646\"/>\n",
       "<text text-anchor=\"middle\" x=\"646.814\" y=\"-103.126\" font-family=\"Times,serif\" font-size=\"14.00\">1 </text>\n",
       "<text text-anchor=\"middle\" x=\"646.814\" y=\"-89.1256\" font-family=\"Times,serif\" font-size=\"14.00\"> 0</text>\n",
       "</g>\n",
       "<!-- St24 -->\n",
       "<g id=\"node5\" class=\"node\"><title>St24</title>\n",
       "<ellipse fill=\"none\" stroke=\"black\" cx=\"204.133\" cy=\"-100.326\" rx=\"26.1523\" ry=\"26.1523\"/>\n",
       "<text text-anchor=\"middle\" x=\"204.133\" y=\"-96.1256\" font-family=\"Times,serif\" font-size=\"14.00\">St24</text>\n",
       "</g>\n",
       "<!-- St24&#45;&gt;St25 -->\n",
       "<g id=\"edge4\" class=\"edge\"><title>St24&#45;&gt;St25</title>\n",
       "<path fill=\"none\" stroke=\"black\" d=\"M230.724,-99.7791C240.738,-99.5652 252.396,-99.3163 263.204,-99.0854\"/>\n",
       "<polygon fill=\"black\" stroke=\"black\" points=\"263.302,-102.584 273.225,-98.8714 263.152,-95.5859 263.302,-102.584\"/>\n",
       "<text text-anchor=\"middle\" x=\"251.959\" y=\"-103.126\" font-family=\"Times,serif\" font-size=\"14.00\">1</text>\n",
       "</g>\n",
       "<!-- St27&#45;&gt;St12 -->\n",
       "<g id=\"edge15\" class=\"edge\"><title>St27&#45;&gt;St12</title>\n",
       "<path fill=\"none\" stroke=\"black\" d=\"M524.612,-65.3256C535.657,-65.3256 548.771,-65.3256 560.74,-65.3256\"/>\n",
       "<polygon fill=\"black\" stroke=\"black\" points=\"560.883,-68.8257 570.883,-65.3256 560.883,-61.8257 560.883,-68.8257\"/>\n",
       "<text text-anchor=\"middle\" x=\"547.663\" y=\"-82.1256\" font-family=\"Times,serif\" font-size=\"14.00\">1 </text>\n",
       "<text text-anchor=\"middle\" x=\"547.663\" y=\"-68.1256\" font-family=\"Times,serif\" font-size=\"14.00\"> 0</text>\n",
       "</g>\n",
       "<!-- St48&#45;&gt;St51 -->\n",
       "<g id=\"edge10\" class=\"edge\"><title>St48&#45;&gt;St51</title>\n",
       "<path fill=\"none\" stroke=\"black\" d=\"M424.702,-152.717C436.034,-150.151 449.662,-147.065 462.022,-144.266\"/>\n",
       "<polygon fill=\"black\" stroke=\"black\" points=\"463.048,-147.623 472.028,-142 461.502,-140.795 463.048,-147.623\"/>\n",
       "<text text-anchor=\"middle\" x=\"448.511\" y=\"-151.126\" font-family=\"Times,serif\" font-size=\"14.00\">1</text>\n",
       "</g>\n",
       "<!-- St64 -->\n",
       "<g id=\"node10\" class=\"node\"><title>St64</title>\n",
       "<ellipse fill=\"none\" stroke=\"black\" cx=\"597.238\" cy=\"-136.326\" rx=\"26.1523\" ry=\"26.1523\"/>\n",
       "<text text-anchor=\"middle\" x=\"597.238\" y=\"-132.126\" font-family=\"Times,serif\" font-size=\"14.00\">St64</text>\n",
       "</g>\n",
       "<!-- St51&#45;&gt;St64 -->\n",
       "<g id=\"edge14\" class=\"edge\"><title>St51&#45;&gt;St64</title>\n",
       "<path fill=\"none\" stroke=\"black\" d=\"M524.612,-136.326C535.657,-136.326 548.771,-136.326 560.74,-136.326\"/>\n",
       "<polygon fill=\"black\" stroke=\"black\" points=\"560.883,-139.826 570.883,-136.326 560.883,-132.826 560.883,-139.826\"/>\n",
       "<text text-anchor=\"middle\" x=\"547.663\" y=\"-139.126\" font-family=\"Times,serif\" font-size=\"14.00\">0</text>\n",
       "</g>\n",
       "<!-- St10 -->\n",
       "<g id=\"node9\" class=\"node\"><title>St10</title>\n",
       "<ellipse fill=\"none\" stroke=\"black\" cx=\"398.936\" cy=\"-26.3256\" rx=\"26.1523\" ry=\"26.1523\"/>\n",
       "<text text-anchor=\"middle\" x=\"398.936\" y=\"-22.1256\" font-family=\"Times,serif\" font-size=\"14.00\">St10</text>\n",
       "</g>\n",
       "<!-- St10&#45;&gt;St27 -->\n",
       "<g id=\"edge13\" class=\"edge\"><title>St10&#45;&gt;St27</title>\n",
       "<path fill=\"none\" stroke=\"black\" d=\"M424.231,-34.3634C433.539,-37.5832 444.213,-41.4463 453.761,-45.3256 457.268,-46.7503 460.903,-48.3034 464.509,-49.8939\"/>\n",
       "<polygon fill=\"black\" stroke=\"black\" points=\"463.323,-53.1988 473.877,-54.1281 466.206,-46.8201 463.323,-53.1988\"/>\n",
       "<text text-anchor=\"middle\" x=\"448.511\" y=\"-62.1256\" font-family=\"Times,serif\" font-size=\"14.00\">1 </text>\n",
       "<text text-anchor=\"middle\" x=\"448.511\" y=\"-48.1256\" font-family=\"Times,serif\" font-size=\"14.00\"> 0</text>\n",
       "</g>\n",
       "<!-- St64&#45;&gt;St18 -->\n",
       "<g id=\"edge16\" class=\"edge\"><title>St64&#45;&gt;St18</title>\n",
       "<path fill=\"none\" stroke=\"black\" d=\"M622.466,-128.421C634.203,-124.592 648.566,-119.906 661.69,-115.625\"/>\n",
       "<polygon fill=\"black\" stroke=\"black\" points=\"662.999,-118.879 671.421,-112.45 660.828,-112.224 662.999,-118.879\"/>\n",
       "<text text-anchor=\"middle\" x=\"646.814\" y=\"-125.126\" font-family=\"Times,serif\" font-size=\"14.00\">1</text>\n",
       "</g>\n",
       "<!-- St1&#45;&gt;St24 -->\n",
       "<g id=\"edge2\" class=\"edge\"><title>St1&#45;&gt;St24</title>\n",
       "<path fill=\"none\" stroke=\"black\" d=\"M134.151,-77.1331C144.516,-80.6176 157.41,-84.953 169.237,-88.9293\"/>\n",
       "<polygon fill=\"black\" stroke=\"black\" points=\"168.247,-92.2889 178.841,-92.1583 170.478,-85.6539 168.247,-92.2889\"/>\n",
       "<text text-anchor=\"middle\" x=\"156.308\" y=\"-88.1256\" font-family=\"Times,serif\" font-size=\"14.00\">1</text>\n",
       "</g>\n",
       "<!-- St8 -->\n",
       "<g id=\"node13\" class=\"node\"><title>St8</title>\n",
       "<ellipse fill=\"none\" stroke=\"black\" cx=\"204.133\" cy=\"-34.3256\" rx=\"21.8081\" ry=\"21.8081\"/>\n",
       "<text text-anchor=\"middle\" x=\"204.133\" y=\"-30.1256\" font-family=\"Times,serif\" font-size=\"14.00\">St8</text>\n",
       "</g>\n",
       "<!-- St1&#45;&gt;St8 -->\n",
       "<g id=\"edge3\" class=\"edge\"><title>St1&#45;&gt;St8</title>\n",
       "<path fill=\"none\" stroke=\"black\" d=\"M133.707,-62.336C145.49,-57.582 160.659,-51.462 173.811,-46.1558\"/>\n",
       "<polygon fill=\"black\" stroke=\"black\" points=\"175.422,-49.2802 183.386,-42.2928 172.803,-42.7886 175.422,-49.2802\"/>\n",
       "<text text-anchor=\"middle\" x=\"156.308\" y=\"-58.1256\" font-family=\"Times,serif\" font-size=\"14.00\">0</text>\n",
       "</g>\n",
       "<!-- St9 -->\n",
       "<g id=\"node12\" class=\"node\"><title>St9</title>\n",
       "<ellipse fill=\"none\" stroke=\"black\" cx=\"299.785\" cy=\"-26.3256\" rx=\"21.8081\" ry=\"21.8081\"/>\n",
       "<text text-anchor=\"middle\" x=\"299.785\" y=\"-22.1256\" font-family=\"Times,serif\" font-size=\"14.00\">St9</text>\n",
       "</g>\n",
       "<!-- St9&#45;&gt;St10 -->\n",
       "<g id=\"edge9\" class=\"edge\"><title>St9&#45;&gt;St10</title>\n",
       "<path fill=\"none\" stroke=\"black\" d=\"M321.865,-26.3256C333.694,-26.3256 348.767,-26.3256 362.37,-26.3256\"/>\n",
       "<polygon fill=\"black\" stroke=\"black\" points=\"362.408,-29.8257 372.408,-26.3256 362.408,-22.8257 362.408,-29.8257\"/>\n",
       "<text text-anchor=\"middle\" x=\"349.36\" y=\"-43.1256\" font-family=\"Times,serif\" font-size=\"14.00\">1 </text>\n",
       "<text text-anchor=\"middle\" x=\"349.36\" y=\"-29.1256\" font-family=\"Times,serif\" font-size=\"14.00\"> 0</text>\n",
       "</g>\n",
       "<!-- St8&#45;&gt;St25 -->\n",
       "<g id=\"edge6\" class=\"edge\"><title>St8&#45;&gt;St25</title>\n",
       "<path fill=\"none\" stroke=\"black\" d=\"M222.748,-46.3635C235.77,-55.2625 253.81,-67.5909 269.051,-78.006\"/>\n",
       "<polygon fill=\"black\" stroke=\"black\" points=\"267.41,-81.1241 277.641,-83.8767 271.36,-75.3448 267.41,-81.1241\"/>\n",
       "<text text-anchor=\"middle\" x=\"251.959\" y=\"-71.1256\" font-family=\"Times,serif\" font-size=\"14.00\">0</text>\n",
       "</g>\n",
       "<!-- St8&#45;&gt;St9 -->\n",
       "<g id=\"edge5\" class=\"edge\"><title>St8&#45;&gt;St9</title>\n",
       "<path fill=\"none\" stroke=\"black\" d=\"M225.774,-30.3848C232.93,-29.1801 241.022,-27.9969 248.459,-27.3256 254.592,-26.772 261.162,-26.4473 267.464,-26.2676\"/>\n",
       "<polygon fill=\"black\" stroke=\"black\" points=\"267.754,-29.7631 277.691,-26.0871 267.63,-22.7642 267.754,-29.7631\"/>\n",
       "<text text-anchor=\"middle\" x=\"251.959\" y=\"-30.1256\" font-family=\"Times,serif\" font-size=\"14.00\">1</text>\n",
       "</g>\n",
       "</g>\n",
       "</svg>\n"
      ],
      "text/plain": [
       "<graphviz.dot.Digraph at 0x10d79b8d0>"
      ]
     },
     "execution_count": 13,
     "metadata": {},
     "output_type": "execute_result"
    }
   ],
   "source": [
    "doGoodLTNoBH = dotObj_dfa(Dmix, FuseEdges=True)\n",
    "doGoodLTNoBH"
   ]
  },
  {
   "cell_type": "code",
   "execution_count": 14,
   "metadata": {
    "run_control": {
     "frozen": false,
     "read_only": false
    }
   },
   "outputs": [
    {
     "data": {
      "text/plain": [
       "'/Users/ganesh/repos/atmm/book/CH17/doGoodLTNoBH.dot.pdf'"
      ]
     },
     "execution_count": 14,
     "metadata": {},
     "output_type": "execute_result"
    }
   ],
   "source": [
    "doGoodLTNoBH.render('/Users/ganesh/repos/atmm/book/CH17/doGoodLTNoBH.dot')"
   ]
  },
  {
   "cell_type": "markdown",
   "metadata": {
    "run_control": {
     "frozen": false,
     "read_only": false
    }
   },
   "source": [
    "We see that this minimal DFA is much smaller. The reason is that as soon as an x2 comes, a y2 bit is fed. In a positional encoding of binary numbers, this allows a DFA to immediately decide whether X < Y for X = x2x1x0 and Y = y2y1y0. \n",
    "\n",
    "The DFA that sees x2,x1,x0,y2,y1,y0 on the other hand cannot take a decision until bit y2 comes along. This means that this DFA has to build a full tree after seeing merely x2,x1,x0 and this would already be exponential in size. "
   ]
  },
  {
   "cell_type": "markdown",
   "metadata": {
    "run_control": {
     "frozen": false,
     "read_only": false
    }
   },
   "source": [
    "This machine appears to be linearly sized w.r.t. the number of inputs. \n",
    "\n",
    "This DFA also acts as a representation of the \"<\" function.  State St1 is a function of all the six input bits. States St2 and St3 are functions of the five bits y2,x1,y1,x0,y0. In fact, the further we go away from the initial state, the lesser the remaining bits are in deciding the \"fate of the function\". But the bits come in an interleaved manner. \n",
    "\n",
    "Take St2 as representing a Boolean function: paths from it to the final state represent the on-set of a Boolean function of inputs y2,x1,y1,x0,y0 and paths leading to BH are in the off-set.\n"
   ]
  },
  {
   "cell_type": "markdown",
   "metadata": {
    "run_control": {
     "frozen": false,
     "read_only": false
    }
   },
   "source": [
    "## Boolean subfunctions in the DFA\n",
    "\n",
    "Each state of the minimal DFA obtained in this manner represents a Boolean function.\n"
   ]
  },
  {
   "cell_type": "markdown",
   "metadata": {
    "run_control": {
     "frozen": false,
     "read_only": false
    }
   },
   "source": [
    "# Building BDDs from minimal DFA for on-set languages\n",
    "\n",
    "A BDD is obtained from a minimal DFA by following some \"cleanup\" steps:\n",
    "\n",
    "* When a 0,1 jump is made from one state to the other, short-circuit the jump\n",
    " \n",
    "  - This means that whether a 0 or a 1 comes, we go to the same state. That is \n",
    "    a redundant binary decoding situation\n",
    "    \n",
    "* When we see two distinct nodes represent the same Boolean function, merge them\n",
    "\n",
    "   - This merging step is already being done during state minimization\n",
    "   \n",
    "Let us obtain BDDs using our BDD tool and then compare it with our minimal DFA to get an idea of what these optmizations do."
   ]
  },
  {
   "cell_type": "code",
   "execution_count": 15,
   "metadata": {
    "run_control": {
     "frozen": false,
     "read_only": false
    }
   },
   "outputs": [
    {
     "data": {
      "text/plain": [
       "True"
      ]
     },
     "execution_count": 15,
     "metadata": {},
     "output_type": "execute_result"
    }
   ],
   "source": [
    "import webbrowser\n",
    "\n",
    "# This is the URL for our BDD tool that can be opened on a new tab\n",
    "url = 'http://formal.cs.utah.edu:8080/pbl/BDD.php'\n",
    "webbrowser.open(url)"
   ]
  },
  {
   "cell_type": "markdown",
   "metadata": {
    "run_control": {
     "frozen": false,
     "read_only": false
    }
   },
   "source": [
    "```\n",
    "1) The BDD for XOR can be drawn as follows:\n",
    "\n",
    "Var_Order : x1 x0\n",
    " \n",
    "Main_Exp : x1 XOR x0\n",
    "\n",
    "\n",
    "2) The BDD for OR can be drawn as follows:\n",
    "\n",
    "Var_Order : x1 x0\n",
    " \n",
    "Main_Exp : x1 XOR x0\n",
    "\n",
    "\n",
    "\n",
    "3) The BDD for the comparator that uses the inefficient variable order can be drawn as follows.\n",
    "\n",
    "#3-bit comparator with the inefficient variable order\n",
    "#First declare the variables and specify variable orderings\n",
    "\n",
    "Var_Order : x2 x1 x0 y2 y1 y0\n",
    " \n",
    "Main_Exp : (!x2 & y2) | (x2 <=> y2) &  ( (!x1 & y1) | (x1 <=> y1) & (!x0 & y0) )\n",
    "\n",
    "4) The BDD for the comparator that uses the better variable order is easily obtained: simply change Var_Order\n",
    "\n",
    "Var_Order : x2 y2 x1 y1 x0 y0\n",
    "```\n",
    "\n",
    "You will be able to see these BDDs and be able to relate them to the aforesaid DFA.\n",
    "This material will be covered in Chapter 17 of our book."
   ]
  },
  {
   "cell_type": "markdown",
   "metadata": {
    "run_control": {
     "frozen": false,
     "read_only": false
    }
   },
   "source": [
    "** END **"
   ]
  }
 ],
 "metadata": {
  "kernelspec": {
   "display_name": "Python 3",
   "language": "python",
   "name": "python3"
  },
  "language_info": {
   "codemirror_mode": {
    "name": "ipython",
    "version": 3
   },
   "file_extension": ".py",
   "mimetype": "text/x-python",
   "name": "python",
   "nbconvert_exporter": "python",
   "pygments_lexer": "ipython3",
   "version": "3.6.0"
  },
  "toc": {
   "colors": {
    "hover_highlight": "#DAA520",
    "running_highlight": "#FF0000",
    "selected_highlight": "#FFD700"
   },
   "moveMenuLeft": true,
   "nav_menu": {
    "height": "318px",
    "width": "252px"
   },
   "navigate_menu": true,
   "number_sections": true,
   "sideBar": true,
   "threshold": 4,
   "toc_cell": false,
   "toc_section_display": "block",
   "toc_window_display": false,
   "widenNotebook": false
  }
 },
 "nbformat": 4,
 "nbformat_minor": 2
}
