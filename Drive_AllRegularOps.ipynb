{
 "cells": [
  {
   "cell_type": "code",
   "execution_count": 1,
   "metadata": {
    "run_control": {
     "frozen": false,
     "read_only": false
    }
   },
   "outputs": [
    {
     "name": "stdout",
     "output_type": "stream",
     "text": [
      "You may use any of these help commands:\n",
      "help(ResetStNum)\n",
      "help(NxtStateStr)\n",
      "\n",
      "You may use any of these help commands:\n",
      "help(mkp_dfa)\n",
      "help(mk_dfa)\n",
      "help(totalize_dfa)\n",
      "help(addtosigma_delta)\n",
      "help(step_dfa)\n",
      "help(run_dfa)\n",
      "help(accepts_dfa)\n",
      "help(comp_dfa)\n",
      "help(union_dfa)\n",
      "help(intersect_dfa)\n",
      "help(pruneUnreach)\n",
      "help(iso_dfa)\n",
      "help(langeq_dfa)\n",
      "help(same_status)\n",
      "help(h_langeq_dfa)\n",
      "help(fixptDist)\n",
      "help(min_dfa)\n",
      "help(pairFR)\n",
      "help(state_combos)\n",
      "help(sepFinNonFin)\n",
      "help(bash_eql_classes)\n",
      "help(listminus)\n",
      "help(bash_1)\n",
      "help(mk_rep_eqc)\n",
      "help(F_of)\n",
      "help(rep_of_s)\n",
      "help(q0_of)\n",
      "help(Delta_of)\n",
      "help(mk_state_eqc_name)\n",
      "\n",
      "You may use any of these help commands:\n",
      "help(mk_nfa)\n",
      "help(totalize_nfa)\n",
      "help(step_nfa)\n",
      "help(run_nfa)\n",
      "help(ec_step_nfa)\n",
      "help(Eclosure)\n",
      "help(Echelp)\n",
      "help(accepts_nfa)\n",
      "help(nfa2dfa)\n",
      "help(n2d)\n",
      "help(inSets)\n",
      "help(rev_dfa)\n",
      "help(min_dfa_brz)\n",
      "\n",
      "You may use any of these help commands:\n",
      "help(re2nfa)\n",
      "\n",
      "You may use any of these help commands:\n",
      "help(RE2Str)\n",
      "help(mk_gnfa)\n",
      "help(mk_gnfa_from_D)\n",
      "help(dfa2nfa)\n",
      "help(del_gnfa_states)\n",
      "help(gnfa_w_REStr)\n",
      "help(del_one_gnfa_state)\n",
      "help(Edges_Exist_Via)\n",
      "help(choose_state_to_del)\n",
      "help(form_alt_RE)\n",
      "help(form_concat_RE)\n",
      "help(form_kleene_RE)\n",
      "\n",
      "You may use any of these help commands:\n",
      "help(md2mc)\n",
      ".. and if you want to dig more, then ..\n",
      "help(default_line_attr)\n",
      "help(length_ok_input_items)\n",
      "help(union_line_attr_list_fld)\n",
      "help(extend_rsltdict)\n",
      "help(form_delta)\n",
      "help(get_machine_components)\n",
      "\n"
     ]
    }
   ],
   "source": [
    "from Imports.DotBashers import *\n",
    "from Imports.Def_DFA import *\n",
    "from Imports.Def_NFA import *\n",
    "from Imports.Def_RE2NFA import *\n",
    "from Imports.Def_NFA2RE import *\n",
    "from Imports.Def_md2mc import *"
   ]
  },
  {
   "cell_type": "markdown",
   "metadata": {
    "run_control": {
     "frozen": false,
     "read_only": false
    }
   },
   "source": [
    " # Problem Set One"
   ]
  },
  {
   "cell_type": "markdown",
   "metadata": {
    "run_control": {
     "frozen": false,
     "read_only": false
    }
   },
   "source": [
    "1) LOdd1Three0 : Set of strings over {0,1} with an odd # of 1s OR exactly three 0s. \n",
    "\n",
    "* Hint on how to arrive at the language:\n",
    "\n",
    "  - develop NFAs for the two cases and perform their union. Obtain DFA\n",
    "\n",
    "  - develop REs for the two cases and perform the union. \n",
    "\n",
    "  - Testing the creations:\n",
    "\n",
    "    .   Come up with language for even # of 1s and separately for \"other than three 0s\". \n",
    " \n",
    "    .   Do two intersections. \n",
    " \n",
    "    .   Is the language empty?\n",
    "\n",
    "\n",
    "2) Language of strings over {0,1} with exactly two occurrences of 0101 in it.\n",
    "\n",
    " * Come up with it directly (take overlaps into account, i.e. 010101 has two occurrences in it\n",
    "\n",
    " * Come up in another way\n",
    "\n",
    "Notes:\n",
    "\n",
    "* Most of the problem students will have in this course is interpreting English (technical English)\n",
    "\n",
    "* So again, read the writeup at the beginning of Module6 (should be ready soon today) and work on using the tool.\n",
    "\n",
    "\n",
    "\n"
   ]
  },
  {
   "cell_type": "markdown",
   "metadata": {
    "run_control": {
     "frozen": false,
     "read_only": false
    }
   },
   "source": [
    "__Solutions__\n",
    "\n",
    "1) LOdd1Three0 : Set of strings over {0,1} with an odd # of 1s OR exactly three 0s. \n",
    "\n",
    "* Hint on how to arrive at the language:\n",
    "\n",
    "  - develop NFAs for the two cases and perform their union. Obtain DFA\n",
    "\n",
    "  - develop REs for the two cases and perform the union. \n",
    "\n",
    "  - Testing the creations:\n",
    "\n",
    "    .   Come up with language for even # of 1s and separately for \"other than three 0s\". \n",
    " \n",
    "    .   Do two intersections. \n",
    " \n",
    "    .   Is the language empty?\n",
    "\n",
    "\n",
    "2) Language of strings over {0,1} with exactly two occurrences of 0101 in it.\n",
    "\n",
    " * Come up with it directly (take overlaps into account, i.e. 010101 has two occurrences in it\n",
    "\n",
    " * Come up in another way\n",
    "\n",
    "Notes:\n",
    "\n",
    "* Most of the problem students will have in this course is interpreting English (technical English)\n",
    "\n",
    "* So again, read the writeup at the beginning of Module6 (should be ready soon today) and work on using the tool.\n",
    "\n",
    "\n",
    "\n"
   ]
  },
  {
   "cell_type": "code",
   "execution_count": 2,
   "metadata": {
    "run_control": {
     "frozen": false,
     "read_only": false
    }
   },
   "outputs": [
    {
     "name": "stderr",
     "output_type": "stream",
     "text": [
      "Generating LALR tables\n"
     ]
    },
    {
     "data": {
      "image/svg+xml": [
       "<?xml version=\"1.0\" encoding=\"UTF-8\" standalone=\"no\"?>\n",
       "<!DOCTYPE svg PUBLIC \"-//W3C//DTD SVG 1.1//EN\"\n",
       " \"http://www.w3.org/Graphics/SVG/1.1/DTD/svg11.dtd\">\n",
       "<!-- Generated by graphviz version 2.38.0 (20140413.2041)\n",
       " -->\n",
       "<!-- Title: %3 Pages: 1 -->\n",
       "<svg width=\"238pt\" height=\"92pt\"\n",
       " viewBox=\"0.00 0.00 237.62 91.81\" xmlns=\"http://www.w3.org/2000/svg\" xmlns:xlink=\"http://www.w3.org/1999/xlink\">\n",
       "<g id=\"graph0\" class=\"graph\" transform=\"scale(1 1) rotate(0) translate(4 87.8077)\">\n",
       "<title>%3</title>\n",
       "<polygon fill=\"white\" stroke=\"none\" points=\"-4,4 -4,-87.8077 233.615,-87.8077 233.615,4 -4,4\"/>\n",
       "<!-- EMPTY -->\n",
       "<g id=\"node1\" class=\"node\"><title>EMPTY</title>\n",
       "</g>\n",
       "<!-- St7 -->\n",
       "<g id=\"node2\" class=\"node\"><title>St7</title>\n",
       "<ellipse fill=\"none\" stroke=\"black\" cx=\"112.904\" cy=\"-25.9039\" rx=\"21.8081\" ry=\"21.8081\"/>\n",
       "<text text-anchor=\"middle\" x=\"112.904\" y=\"-21.7039\" font-family=\"Times,serif\" font-size=\"14.00\">St7</text>\n",
       "</g>\n",
       "<!-- EMPTY&#45;&gt;St7 -->\n",
       "<g id=\"edge1\" class=\"edge\"><title>EMPTY&#45;&gt;St7</title>\n",
       "<path fill=\"none\" stroke=\"black\" d=\"M54.0878,-25.9039C62.501,-25.9039 71.9126,-25.9039 80.6587,-25.9039\"/>\n",
       "<polygon fill=\"black\" stroke=\"black\" points=\"80.8854,-29.404 90.8853,-25.9039 80.8853,-22.404 80.8854,-29.404\"/>\n",
       "</g>\n",
       "<!-- St7&#45;&gt;St7 -->\n",
       "<g id=\"edge3\" class=\"edge\"><title>St7&#45;&gt;St7</title>\n",
       "<path fill=\"none\" stroke=\"black\" d=\"M105.587,-46.8442C104.684,-56.9164 107.123,-65.8077 112.904,-65.8077 116.607,-65.8077 118.939,-62.1587 119.9,-56.8879\"/>\n",
       "<polygon fill=\"black\" stroke=\"black\" points=\"123.399,-56.9509 120.221,-46.8442 116.403,-56.7272 123.399,-56.9509\"/>\n",
       "<text text-anchor=\"middle\" x=\"112.904\" y=\"-68.6077\" font-family=\"Times,serif\" font-size=\"14.00\">0</text>\n",
       "</g>\n",
       "<!-- St6 -->\n",
       "<g id=\"node3\" class=\"node\"><title>St6</title>\n",
       "<ellipse fill=\"none\" stroke=\"black\" cx=\"203.712\" cy=\"-25.9039\" rx=\"21.8229\" ry=\"21.8229\"/>\n",
       "<ellipse fill=\"none\" stroke=\"black\" cx=\"203.712\" cy=\"-25.9039\" rx=\"25.8081\" ry=\"25.8081\"/>\n",
       "<text text-anchor=\"middle\" x=\"203.712\" y=\"-21.7039\" font-family=\"Times,serif\" font-size=\"14.00\">St6</text>\n",
       "</g>\n",
       "<!-- St7&#45;&gt;St6 -->\n",
       "<g id=\"edge2\" class=\"edge\"><title>St7&#45;&gt;St6</title>\n",
       "<path fill=\"none\" stroke=\"black\" d=\"M134.95,-25.9039C144.668,-25.9039 156.471,-25.9039 167.487,-25.9039\"/>\n",
       "<polygon fill=\"black\" stroke=\"black\" points=\"167.713,-29.404 177.713,-25.9039 167.713,-22.404 167.713,-29.404\"/>\n",
       "<text text-anchor=\"middle\" x=\"156.308\" y=\"-28.7039\" font-family=\"Times,serif\" font-size=\"14.00\">1</text>\n",
       "</g>\n",
       "<!-- St6&#45;&gt;St7 -->\n",
       "<g id=\"edge4\" class=\"edge\"><title>St6&#45;&gt;St7</title>\n",
       "<path fill=\"none\" stroke=\"black\" d=\"M181.21,-12.4447C172.537,-8.53035 162.342,-5.80503 152.808,-7.90386 149.101,-8.71982 145.327,-9.92505 141.66,-11.3321\"/>\n",
       "<polygon fill=\"black\" stroke=\"black\" points=\"140.092,-8.19721 132.322,-15.3991 142.888,-14.615 140.092,-8.19721\"/>\n",
       "<text text-anchor=\"middle\" x=\"156.308\" y=\"-10.7039\" font-family=\"Times,serif\" font-size=\"14.00\">1</text>\n",
       "</g>\n",
       "<!-- St6&#45;&gt;St6 -->\n",
       "<g id=\"edge5\" class=\"edge\"><title>St6&#45;&gt;St6</title>\n",
       "<path fill=\"none\" stroke=\"black\" d=\"M195.162,-50.7276C194.573,-61.0541 197.423,-69.8077 203.712,-69.8077 207.741,-69.8077 210.358,-66.2152 211.564,-60.9182\"/>\n",
       "<polygon fill=\"black\" stroke=\"black\" points=\"215.07,-60.9431 212.261,-50.7276 208.087,-60.4654 215.07,-60.9431\"/>\n",
       "<text text-anchor=\"middle\" x=\"203.712\" y=\"-72.6077\" font-family=\"Times,serif\" font-size=\"14.00\">0</text>\n",
       "</g>\n",
       "</g>\n",
       "</svg>\n"
      ],
      "text/plain": [
       "<graphviz.dot.Digraph at 0x107130240>"
      ]
     },
     "execution_count": 2,
     "metadata": {},
     "output_type": "execute_result"
    }
   ],
   "source": [
    "RE_Odd1s  = \"0* 1 0* (1 0* 1 0*)*\"\n",
    "NFA_Odd1s = re2nfa(RE_Odd1s)\n",
    "DO_Odd1s  = dotObj_dfa(min_dfa(nfa2dfa(NFA_Odd1s)))\n",
    "DO_Odd1s"
   ]
  },
  {
   "cell_type": "code",
   "execution_count": 3,
   "metadata": {
    "run_control": {
     "frozen": false,
     "read_only": false
    }
   },
   "outputs": [
    {
     "name": "stderr",
     "output_type": "stream",
     "text": [
      "Generating LALR tables\n"
     ]
    },
    {
     "data": {
      "image/svg+xml": [
       "<?xml version=\"1.0\" encoding=\"UTF-8\" standalone=\"no\"?>\n",
       "<!DOCTYPE svg PUBLIC \"-//W3C//DTD SVG 1.1//EN\"\n",
       " \"http://www.w3.org/Graphics/SVG/1.1/DTD/svg11.dtd\">\n",
       "<!-- Generated by graphviz version 2.38.0 (20140413.2041)\n",
       " -->\n",
       "<!-- Title: %3 Pages: 1 -->\n",
       "<svg width=\"411pt\" height=\"92pt\"\n",
       " viewBox=\"0.00 0.00 411.23 91.81\" xmlns=\"http://www.w3.org/2000/svg\" xmlns:xlink=\"http://www.w3.org/1999/xlink\">\n",
       "<g id=\"graph0\" class=\"graph\" transform=\"scale(1 1) rotate(0) translate(4 87.8077)\">\n",
       "<title>%3</title>\n",
       "<polygon fill=\"white\" stroke=\"none\" points=\"-4,4 -4,-87.8077 407.231,-87.8077 407.231,4 -4,4\"/>\n",
       "<!-- EMPTY -->\n",
       "<g id=\"node1\" class=\"node\"><title>EMPTY</title>\n",
       "</g>\n",
       "<!-- St6 -->\n",
       "<g id=\"node2\" class=\"node\"><title>St6</title>\n",
       "<ellipse fill=\"none\" stroke=\"black\" cx=\"112.904\" cy=\"-25.9039\" rx=\"21.8081\" ry=\"21.8081\"/>\n",
       "<text text-anchor=\"middle\" x=\"112.904\" y=\"-21.7039\" font-family=\"Times,serif\" font-size=\"14.00\">St6</text>\n",
       "</g>\n",
       "<!-- EMPTY&#45;&gt;St6 -->\n",
       "<g id=\"edge1\" class=\"edge\"><title>EMPTY&#45;&gt;St6</title>\n",
       "<path fill=\"none\" stroke=\"black\" d=\"M54.0878,-25.9039C62.501,-25.9039 71.9126,-25.9039 80.6587,-25.9039\"/>\n",
       "<polygon fill=\"black\" stroke=\"black\" points=\"80.8854,-29.404 90.8853,-25.9039 80.8853,-22.404 80.8854,-29.404\"/>\n",
       "</g>\n",
       "<!-- St6&#45;&gt;St6 -->\n",
       "<g id=\"edge2\" class=\"edge\"><title>St6&#45;&gt;St6</title>\n",
       "<path fill=\"none\" stroke=\"black\" d=\"M105.587,-46.8442C104.684,-56.9164 107.123,-65.8077 112.904,-65.8077 116.607,-65.8077 118.939,-62.1587 119.9,-56.8879\"/>\n",
       "<polygon fill=\"black\" stroke=\"black\" points=\"123.399,-56.9509 120.221,-46.8442 116.403,-56.7272 123.399,-56.9509\"/>\n",
       "<text text-anchor=\"middle\" x=\"112.904\" y=\"-68.6077\" font-family=\"Times,serif\" font-size=\"14.00\">1</text>\n",
       "</g>\n",
       "<!-- St3 -->\n",
       "<g id=\"node3\" class=\"node\"><title>St3</title>\n",
       "<ellipse fill=\"none\" stroke=\"black\" cx=\"199.712\" cy=\"-25.9039\" rx=\"21.8081\" ry=\"21.8081\"/>\n",
       "<text text-anchor=\"middle\" x=\"199.712\" y=\"-21.7039\" font-family=\"Times,serif\" font-size=\"14.00\">St3</text>\n",
       "</g>\n",
       "<!-- St6&#45;&gt;St3 -->\n",
       "<g id=\"edge3\" class=\"edge\"><title>St6&#45;&gt;St3</title>\n",
       "<path fill=\"none\" stroke=\"black\" d=\"M134.868,-25.9039C144.755,-25.9039 156.753,-25.9039 167.667,-25.9039\"/>\n",
       "<polygon fill=\"black\" stroke=\"black\" points=\"167.695,-29.404 177.695,-25.9039 167.695,-22.404 167.695,-29.404\"/>\n",
       "<text text-anchor=\"middle\" x=\"156.308\" y=\"-28.7039\" font-family=\"Times,serif\" font-size=\"14.00\">0</text>\n",
       "</g>\n",
       "<!-- St3&#45;&gt;St3 -->\n",
       "<g id=\"edge4\" class=\"edge\"><title>St3&#45;&gt;St3</title>\n",
       "<path fill=\"none\" stroke=\"black\" d=\"M192.069,-46.4352C191.012,-56.6745 193.559,-65.8077 199.712,-65.8077 203.653,-65.8077 206.115,-62.0594 207.097,-56.6733\"/>\n",
       "<polygon fill=\"black\" stroke=\"black\" points=\"210.602,-56.5198 207.354,-46.4352 203.604,-56.3443 210.602,-56.5198\"/>\n",
       "<text text-anchor=\"middle\" x=\"199.712\" y=\"-68.6077\" font-family=\"Times,serif\" font-size=\"14.00\">1</text>\n",
       "</g>\n",
       "<!-- St5 -->\n",
       "<g id=\"node4\" class=\"node\"><title>St5</title>\n",
       "<ellipse fill=\"none\" stroke=\"black\" cx=\"286.519\" cy=\"-25.9039\" rx=\"21.8081\" ry=\"21.8081\"/>\n",
       "<text text-anchor=\"middle\" x=\"286.519\" y=\"-21.7039\" font-family=\"Times,serif\" font-size=\"14.00\">St5</text>\n",
       "</g>\n",
       "<!-- St3&#45;&gt;St5 -->\n",
       "<g id=\"edge5\" class=\"edge\"><title>St3&#45;&gt;St5</title>\n",
       "<path fill=\"none\" stroke=\"black\" d=\"M221.675,-25.9039C231.563,-25.9039 243.561,-25.9039 254.475,-25.9039\"/>\n",
       "<polygon fill=\"black\" stroke=\"black\" points=\"254.503,-29.404 264.503,-25.9039 254.503,-22.404 254.503,-29.404\"/>\n",
       "<text text-anchor=\"middle\" x=\"243.115\" y=\"-28.7039\" font-family=\"Times,serif\" font-size=\"14.00\">0</text>\n",
       "</g>\n",
       "<!-- St5&#45;&gt;St5 -->\n",
       "<g id=\"edge6\" class=\"edge\"><title>St5&#45;&gt;St5</title>\n",
       "<path fill=\"none\" stroke=\"black\" d=\"M278.877,-46.4352C277.82,-56.6745 280.367,-65.8077 286.519,-65.8077 290.461,-65.8077 292.923,-62.0594 293.905,-56.6733\"/>\n",
       "<polygon fill=\"black\" stroke=\"black\" points=\"297.41,-56.5198 294.162,-46.4352 290.412,-56.3443 297.41,-56.5198\"/>\n",
       "<text text-anchor=\"middle\" x=\"286.519\" y=\"-68.6077\" font-family=\"Times,serif\" font-size=\"14.00\">1</text>\n",
       "</g>\n",
       "<!-- St8 -->\n",
       "<g id=\"node5\" class=\"node\"><title>St8</title>\n",
       "<ellipse fill=\"none\" stroke=\"black\" cx=\"377.327\" cy=\"-25.9039\" rx=\"21.8229\" ry=\"21.8229\"/>\n",
       "<ellipse fill=\"none\" stroke=\"black\" cx=\"377.327\" cy=\"-25.9039\" rx=\"25.8081\" ry=\"25.8081\"/>\n",
       "<text text-anchor=\"middle\" x=\"377.327\" y=\"-21.7039\" font-family=\"Times,serif\" font-size=\"14.00\">St8</text>\n",
       "</g>\n",
       "<!-- St5&#45;&gt;St8 -->\n",
       "<g id=\"edge7\" class=\"edge\"><title>St5&#45;&gt;St8</title>\n",
       "<path fill=\"none\" stroke=\"black\" d=\"M308.566,-25.9039C318.283,-25.9039 330.087,-25.9039 341.103,-25.9039\"/>\n",
       "<polygon fill=\"black\" stroke=\"black\" points=\"341.329,-29.404 351.329,-25.9039 341.329,-22.404 341.329,-29.404\"/>\n",
       "<text text-anchor=\"middle\" x=\"329.923\" y=\"-28.7039\" font-family=\"Times,serif\" font-size=\"14.00\">0</text>\n",
       "</g>\n",
       "<!-- St8&#45;&gt;St8 -->\n",
       "<g id=\"edge8\" class=\"edge\"><title>St8&#45;&gt;St8</title>\n",
       "<path fill=\"none\" stroke=\"black\" d=\"M368.778,-50.7276C368.188,-61.0541 371.038,-69.8077 377.327,-69.8077 381.356,-69.8077 383.973,-66.2152 385.179,-60.9182\"/>\n",
       "<polygon fill=\"black\" stroke=\"black\" points=\"388.686,-60.9431 385.876,-50.7276 381.702,-60.4654 388.686,-60.9431\"/>\n",
       "<text text-anchor=\"middle\" x=\"377.327\" y=\"-72.6077\" font-family=\"Times,serif\" font-size=\"14.00\">1</text>\n",
       "</g>\n",
       "</g>\n",
       "</svg>\n"
      ],
      "text/plain": [
       "<graphviz.dot.Digraph at 0x108b1eb70>"
      ]
     },
     "execution_count": 3,
     "metadata": {},
     "output_type": "execute_result"
    }
   ],
   "source": [
    "RE_Ex3z = \"1* 0 1* 0 1* 0 1* \"\n",
    "NFA_Ex3z = re2nfa(RE_Ex3z)\n",
    "DO_Ex3z  = dotObj_dfa(min_dfa(nfa2dfa(NFA_Ex3z)))\n",
    "DO_Ex3z"
   ]
  },
  {
   "cell_type": "code",
   "execution_count": 4,
   "metadata": {
    "run_control": {
     "frozen": false,
     "read_only": false
    }
   },
   "outputs": [
    {
     "name": "stderr",
     "output_type": "stream",
     "text": [
      "Generating LALR tables\n"
     ]
    },
    {
     "data": {
      "image/svg+xml": [
       "<?xml version=\"1.0\" encoding=\"UTF-8\" standalone=\"no\"?>\n",
       "<!DOCTYPE svg PUBLIC \"-//W3C//DTD SVG 1.1//EN\"\n",
       " \"http://www.w3.org/Graphics/SVG/1.1/DTD/svg11.dtd\">\n",
       "<!-- Generated by graphviz version 2.38.0 (20140413.2041)\n",
       " -->\n",
       "<!-- Title: %3 Pages: 1 -->\n",
       "<svg width=\"748pt\" height=\"195pt\"\n",
       " viewBox=\"0.00 0.00 747.87 194.65\" xmlns=\"http://www.w3.org/2000/svg\" xmlns:xlink=\"http://www.w3.org/1999/xlink\">\n",
       "<g id=\"graph0\" class=\"graph\" transform=\"scale(1 1) rotate(0) translate(4 190.651)\">\n",
       "<title>%3</title>\n",
       "<polygon fill=\"white\" stroke=\"none\" points=\"-4,4 -4,-190.651 743.871,-190.651 743.871,4 -4,4\"/>\n",
       "<!-- EMPTY -->\n",
       "<g id=\"node1\" class=\"node\"><title>EMPTY</title>\n",
       "</g>\n",
       "<!-- St23 -->\n",
       "<g id=\"node3\" class=\"node\"><title>St23</title>\n",
       "<ellipse fill=\"none\" stroke=\"black\" cx=\"117.326\" cy=\"-67.3256\" rx=\"26.1523\" ry=\"26.1523\"/>\n",
       "<text text-anchor=\"middle\" x=\"117.326\" y=\"-63.1256\" font-family=\"Times,serif\" font-size=\"14.00\">St23</text>\n",
       "</g>\n",
       "<!-- EMPTY&#45;&gt;St23 -->\n",
       "<g id=\"edge1\" class=\"edge\"><title>EMPTY&#45;&gt;St23</title>\n",
       "<path fill=\"none\" stroke=\"black\" d=\"M54.0229,-67.3256C62.3619,-67.3256 71.7453,-67.3256 80.6503,-67.3256\"/>\n",
       "<polygon fill=\"black\" stroke=\"black\" points=\"80.793,-70.8257 90.793,-67.3256 80.793,-63.8257 80.793,-70.8257\"/>\n",
       "</g>\n",
       "<!-- St28 -->\n",
       "<g id=\"node2\" class=\"node\"><title>St28</title>\n",
       "<ellipse fill=\"none\" stroke=\"black\" cx=\"216.977\" cy=\"-105.326\" rx=\"26.1523\" ry=\"26.1523\"/>\n",
       "<text text-anchor=\"middle\" x=\"216.977\" y=\"-101.126\" font-family=\"Times,serif\" font-size=\"14.00\">St28</text>\n",
       "</g>\n",
       "<!-- St0 -->\n",
       "<g id=\"node5\" class=\"node\"><title>St0</title>\n",
       "<ellipse fill=\"none\" stroke=\"black\" cx=\"316.206\" cy=\"-141.326\" rx=\"21.8081\" ry=\"21.8081\"/>\n",
       "<text text-anchor=\"middle\" x=\"316.206\" y=\"-137.126\" font-family=\"Times,serif\" font-size=\"14.00\">St0</text>\n",
       "</g>\n",
       "<!-- St28&#45;&gt;St0 -->\n",
       "<g id=\"edge7\" class=\"edge\"><title>St28&#45;&gt;St0</title>\n",
       "<path fill=\"none\" stroke=\"black\" d=\"M242.011,-114.224C255.225,-119.117 271.726,-125.227 285.714,-130.406\"/>\n",
       "<polygon fill=\"black\" stroke=\"black\" points=\"284.78,-133.792 295.373,-133.982 287.21,-127.228 284.78,-133.792\"/>\n",
       "<text text-anchor=\"middle\" x=\"268.802\" y=\"-129.126\" font-family=\"Times,serif\" font-size=\"14.00\">0</text>\n",
       "</g>\n",
       "<!-- St9 -->\n",
       "<g id=\"node11\" class=\"node\"><title>St9</title>\n",
       "<ellipse fill=\"none\" stroke=\"black\" cx=\"316.206\" cy=\"-67.3256\" rx=\"21.8229\" ry=\"21.8229\"/>\n",
       "<ellipse fill=\"none\" stroke=\"black\" cx=\"316.206\" cy=\"-67.3256\" rx=\"25.8081\" ry=\"25.8081\"/>\n",
       "<text text-anchor=\"middle\" x=\"316.206\" y=\"-63.1256\" font-family=\"Times,serif\" font-size=\"14.00\">St9</text>\n",
       "</g>\n",
       "<!-- St28&#45;&gt;St9 -->\n",
       "<g id=\"edge6\" class=\"edge\"><title>St28&#45;&gt;St9</title>\n",
       "<path fill=\"none\" stroke=\"black\" d=\"M242.011,-95.9323C254.11,-91.2036 268.966,-85.3974 282.126,-80.2545\"/>\n",
       "<polygon fill=\"black\" stroke=\"black\" points=\"283.744,-83.3798 291.784,-76.4797 281.196,-76.86 283.744,-83.3798\"/>\n",
       "<text text-anchor=\"middle\" x=\"268.802\" y=\"-89.1256\" font-family=\"Times,serif\" font-size=\"14.00\">1</text>\n",
       "</g>\n",
       "<!-- St23&#45;&gt;St28 -->\n",
       "<g id=\"edge3\" class=\"edge\"><title>St23&#45;&gt;St28</title>\n",
       "<path fill=\"none\" stroke=\"black\" d=\"M142.464,-76.7189C154.526,-81.4126 169.315,-87.1678 182.459,-92.2823\"/>\n",
       "<polygon fill=\"black\" stroke=\"black\" points=\"181.527,-95.6756 192.116,-96.0404 184.066,-89.1521 181.527,-95.6756\"/>\n",
       "<text text-anchor=\"middle\" x=\"165.151\" y=\"-89.1256\" font-family=\"Times,serif\" font-size=\"14.00\">0</text>\n",
       "</g>\n",
       "<!-- St17 -->\n",
       "<g id=\"node6\" class=\"node\"><title>St17</title>\n",
       "<ellipse fill=\"none\" stroke=\"black\" cx=\"216.977\" cy=\"-30.3256\" rx=\"26.1751\" ry=\"26.1751\"/>\n",
       "<ellipse fill=\"none\" stroke=\"black\" cx=\"216.977\" cy=\"-30.3256\" rx=\"30.1522\" ry=\"30.1522\"/>\n",
       "<text text-anchor=\"middle\" x=\"216.977\" y=\"-26.1256\" font-family=\"Times,serif\" font-size=\"14.00\">St17</text>\n",
       "</g>\n",
       "<!-- St23&#45;&gt;St17 -->\n",
       "<g id=\"edge2\" class=\"edge\"><title>St23&#45;&gt;St17</title>\n",
       "<path fill=\"none\" stroke=\"black\" d=\"M142.464,-58.1795C153.427,-54.0256 166.644,-49.0179 178.829,-44.4007\"/>\n",
       "<polygon fill=\"black\" stroke=\"black\" points=\"180.207,-47.6216 188.318,-40.8054 177.727,-41.0757 180.207,-47.6216\"/>\n",
       "<text text-anchor=\"middle\" x=\"165.151\" y=\"-53.1256\" font-family=\"Times,serif\" font-size=\"14.00\">1</text>\n",
       "</g>\n",
       "<!-- St30 -->\n",
       "<g id=\"node4\" class=\"node\"><title>St30</title>\n",
       "<ellipse fill=\"none\" stroke=\"black\" cx=\"713.546\" cy=\"-87.3256\" rx=\"26.1523\" ry=\"26.1523\"/>\n",
       "<text text-anchor=\"middle\" x=\"713.546\" y=\"-83.1256\" font-family=\"Times,serif\" font-size=\"14.00\">St30</text>\n",
       "</g>\n",
       "<!-- St30&#45;&gt;St30 -->\n",
       "<g id=\"edge19\" class=\"edge\"><title>St30&#45;&gt;St30</title>\n",
       "<path fill=\"none\" stroke=\"black\" d=\"M704.997,-112.388C704.407,-122.813 707.257,-131.651 713.546,-131.651 717.575,-131.651 720.192,-128.024 721.398,-122.676\"/>\n",
       "<polygon fill=\"black\" stroke=\"black\" points=\"724.911,-122.601 722.095,-112.388 717.927,-122.128 724.911,-122.601\"/>\n",
       "<text text-anchor=\"middle\" x=\"713.546\" y=\"-134.451\" font-family=\"Times,serif\" font-size=\"14.00\">0</text>\n",
       "</g>\n",
       "<!-- St8 -->\n",
       "<g id=\"node7\" class=\"node\"><title>St8</title>\n",
       "<ellipse fill=\"none\" stroke=\"black\" cx=\"613.895\" cy=\"-50.3256\" rx=\"21.8229\" ry=\"21.8229\"/>\n",
       "<ellipse fill=\"none\" stroke=\"black\" cx=\"613.895\" cy=\"-50.3256\" rx=\"25.8081\" ry=\"25.8081\"/>\n",
       "<text text-anchor=\"middle\" x=\"613.895\" y=\"-46.1256\" font-family=\"Times,serif\" font-size=\"14.00\">St8</text>\n",
       "</g>\n",
       "<!-- St30&#45;&gt;St8 -->\n",
       "<g id=\"edge18\" class=\"edge\"><title>St30&#45;&gt;St8</title>\n",
       "<path fill=\"none\" stroke=\"black\" d=\"M688.786,-78.3232C676.504,-73.6692 661.317,-67.915 647.912,-62.8359\"/>\n",
       "<polygon fill=\"black\" stroke=\"black\" points=\"649.125,-59.5526 638.533,-59.2823 646.644,-66.0985 649.125,-59.5526\"/>\n",
       "<text text-anchor=\"middle\" x=\"665.72\" y=\"-74.1256\" font-family=\"Times,serif\" font-size=\"14.00\">1</text>\n",
       "</g>\n",
       "<!-- St25 -->\n",
       "<g id=\"node9\" class=\"node\"><title>St25</title>\n",
       "<ellipse fill=\"none\" stroke=\"black\" cx=\"415.436\" cy=\"-104.326\" rx=\"26.1751\" ry=\"26.1751\"/>\n",
       "<ellipse fill=\"none\" stroke=\"black\" cx=\"415.436\" cy=\"-104.326\" rx=\"30.1522\" ry=\"30.1522\"/>\n",
       "<text text-anchor=\"middle\" x=\"415.436\" y=\"-100.126\" font-family=\"Times,serif\" font-size=\"14.00\">St25</text>\n",
       "</g>\n",
       "<!-- St0&#45;&gt;St25 -->\n",
       "<g id=\"edge10\" class=\"edge\"><title>St0&#45;&gt;St25</title>\n",
       "<path fill=\"none\" stroke=\"black\" d=\"M331.415,-125.104C339.073,-117.583 349.183,-109.417 360.11,-105.326 364.726,-103.597 369.721,-102.533 374.747,-101.933\"/>\n",
       "<polygon fill=\"black\" stroke=\"black\" points=\"375.237,-105.41 384.999,-101.292 374.8,-98.4232 375.237,-105.41\"/>\n",
       "<text text-anchor=\"middle\" x=\"363.61\" y=\"-108.126\" font-family=\"Times,serif\" font-size=\"14.00\">1</text>\n",
       "</g>\n",
       "<!-- St13 -->\n",
       "<g id=\"node10\" class=\"node\"><title>St13</title>\n",
       "<ellipse fill=\"none\" stroke=\"black\" cx=\"613.895\" cy=\"-156.326\" rx=\"26.1751\" ry=\"26.1751\"/>\n",
       "<ellipse fill=\"none\" stroke=\"black\" cx=\"613.895\" cy=\"-156.326\" rx=\"30.1522\" ry=\"30.1522\"/>\n",
       "<text text-anchor=\"middle\" x=\"613.895\" y=\"-152.126\" font-family=\"Times,serif\" font-size=\"14.00\">St13</text>\n",
       "</g>\n",
       "<!-- St0&#45;&gt;St13 -->\n",
       "<g id=\"edge11\" class=\"edge\"><title>St0&#45;&gt;St13</title>\n",
       "<path fill=\"none\" stroke=\"black\" d=\"M338.471,-142.404C387.642,-144.899 509.834,-151.097 573.267,-154.315\"/>\n",
       "<polygon fill=\"black\" stroke=\"black\" points=\"573.127,-157.813 583.292,-154.824 573.482,-150.822 573.127,-157.813\"/>\n",
       "<text text-anchor=\"middle\" x=\"467.261\" y=\"-152.126\" font-family=\"Times,serif\" font-size=\"14.00\">0</text>\n",
       "</g>\n",
       "<!-- St17&#45;&gt;St23 -->\n",
       "<g id=\"edge4\" class=\"edge\"><title>St17&#45;&gt;St23</title>\n",
       "<path fill=\"none\" stroke=\"black\" d=\"M186.549,-27.3158C178.283,-27.4116 169.432,-28.4335 161.651,-31.3256 155.395,-33.651 149.395,-37.2952 143.959,-41.3898\"/>\n",
       "<polygon fill=\"black\" stroke=\"black\" points=\"141.378,-38.9848 135.927,-48.07 145.853,-44.3669 141.378,-38.9848\"/>\n",
       "<text text-anchor=\"middle\" x=\"165.151\" y=\"-34.1256\" font-family=\"Times,serif\" font-size=\"14.00\">1</text>\n",
       "</g>\n",
       "<!-- St17&#45;&gt;St9 -->\n",
       "<g id=\"edge5\" class=\"edge\"><title>St17&#45;&gt;St9</title>\n",
       "<path fill=\"none\" stroke=\"black\" d=\"M247.414,-27.2916C255.68,-27.387 264.528,-28.4148 272.302,-31.3256 278.788,-33.7538 284.985,-37.6171 290.553,-41.9292\"/>\n",
       "<polygon fill=\"black\" stroke=\"black\" points=\"288.336,-44.6383 298.22,-48.453 292.872,-39.307 288.336,-44.6383\"/>\n",
       "<text text-anchor=\"middle\" x=\"268.802\" y=\"-34.1256\" font-family=\"Times,serif\" font-size=\"14.00\">0</text>\n",
       "</g>\n",
       "<!-- St8&#45;&gt;St30 -->\n",
       "<g id=\"edge20\" class=\"edge\"><title>St8&#45;&gt;St30</title>\n",
       "<path fill=\"none\" stroke=\"black\" d=\"M639.882,-47.3497C649.334,-47.1018 660.024,-47.9077 669.22,-51.3256 675.477,-53.651 681.477,-57.2952 686.912,-61.3898\"/>\n",
       "<polygon fill=\"black\" stroke=\"black\" points=\"685.018,-64.3669 694.945,-68.07 689.494,-58.9848 685.018,-64.3669\"/>\n",
       "<text text-anchor=\"middle\" x=\"665.72\" y=\"-54.1256\" font-family=\"Times,serif\" font-size=\"14.00\">1</text>\n",
       "</g>\n",
       "<!-- St8&#45;&gt;St8 -->\n",
       "<g id=\"edge21\" class=\"edge\"><title>St8&#45;&gt;St8</title>\n",
       "<path fill=\"none\" stroke=\"black\" d=\"M604.632,-74.7058C603.873,-85.224 606.961,-94.2295 613.895,-94.2295 618.445,-94.2295 621.339,-90.3511 622.576,-84.7121\"/>\n",
       "<polygon fill=\"black\" stroke=\"black\" points=\"626.072,-84.892 623.157,-74.7058 619.083,-84.4859 626.072,-84.892\"/>\n",
       "<text text-anchor=\"middle\" x=\"613.895\" y=\"-97.0295\" font-family=\"Times,serif\" font-size=\"14.00\">0</text>\n",
       "</g>\n",
       "<!-- St6 -->\n",
       "<g id=\"node8\" class=\"node\"><title>St6</title>\n",
       "<ellipse fill=\"none\" stroke=\"black\" cx=\"514.665\" cy=\"-104.326\" rx=\"21.8229\" ry=\"21.8229\"/>\n",
       "<ellipse fill=\"none\" stroke=\"black\" cx=\"514.665\" cy=\"-104.326\" rx=\"25.8081\" ry=\"25.8081\"/>\n",
       "<text text-anchor=\"middle\" x=\"514.665\" y=\"-100.126\" font-family=\"Times,serif\" font-size=\"14.00\">St6</text>\n",
       "</g>\n",
       "<!-- St6&#45;&gt;St8 -->\n",
       "<g id=\"edge17\" class=\"edge\"><title>St6&#45;&gt;St8</title>\n",
       "<path fill=\"none\" stroke=\"black\" d=\"M537.728,-92.0722C550.781,-84.8227 567.518,-75.5273 581.884,-67.5487\"/>\n",
       "<polygon fill=\"black\" stroke=\"black\" points=\"583.876,-70.4457 590.919,-62.5305 580.478,-64.3261 583.876,-70.4457\"/>\n",
       "<text text-anchor=\"middle\" x=\"562.069\" y=\"-82.1256\" font-family=\"Times,serif\" font-size=\"14.00\">0</text>\n",
       "</g>\n",
       "<!-- St6&#45;&gt;St13 -->\n",
       "<g id=\"edge16\" class=\"edge\"><title>St6&#45;&gt;St13</title>\n",
       "<path fill=\"none\" stroke=\"black\" d=\"M540.66,-104.802C548.911,-105.737 557.927,-107.636 565.569,-111.326 573.035,-114.93 580.097,-120.147 586.377,-125.761\"/>\n",
       "<polygon fill=\"black\" stroke=\"black\" points=\"584.255,-128.576 593.885,-132.993 589.111,-123.535 584.255,-128.576\"/>\n",
       "<text text-anchor=\"middle\" x=\"562.069\" y=\"-114.126\" font-family=\"Times,serif\" font-size=\"14.00\">1</text>\n",
       "</g>\n",
       "<!-- St25&#45;&gt;St0 -->\n",
       "<g id=\"edge12\" class=\"edge\"><title>St25&#45;&gt;St0</title>\n",
       "<path fill=\"none\" stroke=\"black\" d=\"M386.683,-114.887C374.134,-119.662 359.295,-125.309 346.56,-130.155\"/>\n",
       "<polygon fill=\"black\" stroke=\"black\" points=\"344.983,-127.01 336.882,-133.838 347.473,-133.553 344.983,-127.01\"/>\n",
       "<text text-anchor=\"middle\" x=\"363.61\" y=\"-127.126\" font-family=\"Times,serif\" font-size=\"14.00\">1</text>\n",
       "</g>\n",
       "<!-- St25&#45;&gt;St6 -->\n",
       "<g id=\"edge13\" class=\"edge\"><title>St25&#45;&gt;St6</title>\n",
       "<path fill=\"none\" stroke=\"black\" d=\"M445.872,-104.326C456.1,-104.326 467.677,-104.326 478.333,-104.326\"/>\n",
       "<polygon fill=\"black\" stroke=\"black\" points=\"478.597,-107.826 488.597,-104.326 478.597,-100.826 478.597,-107.826\"/>\n",
       "<text text-anchor=\"middle\" x=\"467.261\" y=\"-107.126\" font-family=\"Times,serif\" font-size=\"14.00\">0</text>\n",
       "</g>\n",
       "<!-- St13&#45;&gt;St30 -->\n",
       "<g id=\"edge15\" class=\"edge\"><title>St13&#45;&gt;St30</title>\n",
       "<path fill=\"none\" stroke=\"black\" d=\"M639.033,-139.269C652.41,-129.817 669.141,-117.995 683.262,-108.018\"/>\n",
       "<polygon fill=\"black\" stroke=\"black\" points=\"685.516,-110.711 691.663,-102.082 681.476,-104.994 685.516,-110.711\"/>\n",
       "<text text-anchor=\"middle\" x=\"665.72\" y=\"-125.126\" font-family=\"Times,serif\" font-size=\"14.00\">0</text>\n",
       "</g>\n",
       "<!-- St13&#45;&gt;St6 -->\n",
       "<g id=\"edge14\" class=\"edge\"><title>St13&#45;&gt;St6</title>\n",
       "<path fill=\"none\" stroke=\"black\" d=\"M586.779,-142.358C574.445,-135.762 559.632,-127.84 546.726,-120.938\"/>\n",
       "<polygon fill=\"black\" stroke=\"black\" points=\"548.197,-117.755 537.728,-116.125 544.896,-123.928 548.197,-117.755\"/>\n",
       "<text text-anchor=\"middle\" x=\"562.069\" y=\"-133.126\" font-family=\"Times,serif\" font-size=\"14.00\">1</text>\n",
       "</g>\n",
       "<!-- St9&#45;&gt;St28 -->\n",
       "<g id=\"edge8\" class=\"edge\"><title>St9&#45;&gt;St28</title>\n",
       "<path fill=\"none\" stroke=\"black\" d=\"M290.523,-63.3611C282.295,-62.9416 273.214,-63.4858 265.302,-66.3256 257.411,-69.1582 249.897,-73.9385 243.274,-79.2003\"/>\n",
       "<polygon fill=\"black\" stroke=\"black\" points=\"240.672,-76.8226 235.4,-86.0124 245.253,-82.1163 240.672,-76.8226\"/>\n",
       "<text text-anchor=\"middle\" x=\"268.802\" y=\"-69.1256\" font-family=\"Times,serif\" font-size=\"14.00\">1</text>\n",
       "</g>\n",
       "<!-- St9&#45;&gt;St25 -->\n",
       "<g id=\"edge9\" class=\"edge\"><title>St9&#45;&gt;St25</title>\n",
       "<path fill=\"none\" stroke=\"black\" d=\"M342.114,-64.8025C350.272,-64.7645 359.254,-65.5892 367.11,-68.3256 373.252,-70.4648 379.237,-73.7314 384.77,-77.4409\"/>\n",
       "<polygon fill=\"black\" stroke=\"black\" points=\"382.923,-80.4272 393.052,-83.5363 387.073,-74.7897 382.923,-80.4272\"/>\n",
       "<text text-anchor=\"middle\" x=\"363.61\" y=\"-71.1256\" font-family=\"Times,serif\" font-size=\"14.00\">0</text>\n",
       "</g>\n",
       "</g>\n",
       "</svg>\n"
      ],
      "text/plain": [
       "<graphviz.dot.Digraph at 0x108b26860>"
      ]
     },
     "execution_count": 4,
     "metadata": {},
     "output_type": "execute_result"
    }
   ],
   "source": [
    "RE_O13z  = \"0* 1 0* (1 0* 1 0*)* + 1* 0 1* 0 1* 0 1* \"\n",
    "NFA_O13z = re2nfa(RE_O13z)\n",
    "MD_O13z  = min_dfa(nfa2dfa(NFA_O13z))\n",
    "DO_O13z  = dotObj_dfa(MD_O13z)\n",
    "DO_O13z"
   ]
  },
  {
   "cell_type": "code",
   "execution_count": 5,
   "metadata": {
    "run_control": {
     "frozen": false,
     "read_only": false
    },
    "scrolled": true
   },
   "outputs": [
    {
     "name": "stderr",
     "output_type": "stream",
     "text": [
      "Generating LALR tables\n"
     ]
    },
    {
     "data": {
      "image/svg+xml": [
       "<?xml version=\"1.0\" encoding=\"UTF-8\" standalone=\"no\"?>\n",
       "<!DOCTYPE svg PUBLIC \"-//W3C//DTD SVG 1.1//EN\"\n",
       " \"http://www.w3.org/Graphics/SVG/1.1/DTD/svg11.dtd\">\n",
       "<!-- Generated by graphviz version 2.38.0 (20140413.2041)\n",
       " -->\n",
       "<!-- Title: %3 Pages: 1 -->\n",
       "<svg width=\"617pt\" height=\"273pt\"\n",
       " viewBox=\"0.00 0.00 616.85 272.81\" xmlns=\"http://www.w3.org/2000/svg\" xmlns:xlink=\"http://www.w3.org/1999/xlink\">\n",
       "<g id=\"graph0\" class=\"graph\" transform=\"scale(1 1) rotate(0) translate(4 268.808)\">\n",
       "<title>%3</title>\n",
       "<polygon fill=\"white\" stroke=\"none\" points=\"-4,4 -4,-268.808 612.846,-268.808 612.846,4 -4,4\"/>\n",
       "<!-- EMPTY -->\n",
       "<g id=\"node1\" class=\"node\"><title>EMPTY</title>\n",
       "</g>\n",
       "<!-- St1 -->\n",
       "<g id=\"node5\" class=\"node\"><title>St1</title>\n",
       "<ellipse fill=\"none\" stroke=\"black\" cx=\"112.904\" cy=\"-62.9039\" rx=\"21.8081\" ry=\"21.8081\"/>\n",
       "<text text-anchor=\"middle\" x=\"112.904\" y=\"-58.7039\" font-family=\"Times,serif\" font-size=\"14.00\">St1</text>\n",
       "</g>\n",
       "<!-- EMPTY&#45;&gt;St1 -->\n",
       "<g id=\"edge1\" class=\"edge\"><title>EMPTY&#45;&gt;St1</title>\n",
       "<path fill=\"none\" stroke=\"black\" d=\"M54.0878,-62.9039C62.501,-62.9039 71.9126,-62.9039 80.6587,-62.9039\"/>\n",
       "<polygon fill=\"black\" stroke=\"black\" points=\"80.8854,-66.404 90.8853,-62.9039 80.8853,-59.404 80.8854,-66.404\"/>\n",
       "</g>\n",
       "<!-- St6 -->\n",
       "<g id=\"node2\" class=\"node\"><title>St6</title>\n",
       "<ellipse fill=\"none\" stroke=\"black\" cx=\"298.519\" cy=\"-136.904\" rx=\"21.8081\" ry=\"21.8081\"/>\n",
       "<text text-anchor=\"middle\" x=\"298.519\" y=\"-132.704\" font-family=\"Times,serif\" font-size=\"14.00\">St6</text>\n",
       "</g>\n",
       "<!-- St8 -->\n",
       "<g id=\"node6\" class=\"node\"><title>St8</title>\n",
       "<ellipse fill=\"none\" stroke=\"black\" cx=\"393.327\" cy=\"-173.904\" rx=\"21.8229\" ry=\"21.8229\"/>\n",
       "<ellipse fill=\"none\" stroke=\"black\" cx=\"393.327\" cy=\"-173.904\" rx=\"25.8081\" ry=\"25.8081\"/>\n",
       "<text text-anchor=\"middle\" x=\"393.327\" y=\"-169.704\" font-family=\"Times,serif\" font-size=\"14.00\">St8</text>\n",
       "</g>\n",
       "<!-- St6&#45;&gt;St8 -->\n",
       "<g id=\"edge11\" class=\"edge\"><title>St6&#45;&gt;St8</title>\n",
       "<path fill=\"none\" stroke=\"black\" d=\"M319.201,-144.751C330.933,-149.428 346.122,-155.483 359.614,-160.862\"/>\n",
       "<polygon fill=\"black\" stroke=\"black\" points=\"358.48,-164.178 369.065,-164.63 361.072,-157.675 358.48,-164.178\"/>\n",
       "<text text-anchor=\"middle\" x=\"345.923\" y=\"-159.704\" font-family=\"Times,serif\" font-size=\"14.00\">0</text>\n",
       "</g>\n",
       "<!-- St7 -->\n",
       "<g id=\"node10\" class=\"node\"><title>St7</title>\n",
       "<ellipse fill=\"none\" stroke=\"black\" cx=\"393.327\" cy=\"-99.9039\" rx=\"21.8229\" ry=\"21.8229\"/>\n",
       "<ellipse fill=\"none\" stroke=\"black\" cx=\"393.327\" cy=\"-99.9039\" rx=\"25.8081\" ry=\"25.8081\"/>\n",
       "<text text-anchor=\"middle\" x=\"393.327\" y=\"-95.7039\" font-family=\"Times,serif\" font-size=\"14.00\">St7</text>\n",
       "</g>\n",
       "<!-- St6&#45;&gt;St7 -->\n",
       "<g id=\"edge10\" class=\"edge\"><title>St6&#45;&gt;St7</title>\n",
       "<path fill=\"none\" stroke=\"black\" d=\"M319.201,-129.057C330.933,-124.38 346.122,-118.325 359.614,-112.946\"/>\n",
       "<polygon fill=\"black\" stroke=\"black\" points=\"361.072,-116.132 369.065,-109.178 358.48,-109.63 361.072,-116.132\"/>\n",
       "<text text-anchor=\"middle\" x=\"345.923\" y=\"-122.704\" font-family=\"Times,serif\" font-size=\"14.00\">1</text>\n",
       "</g>\n",
       "<!-- St5 -->\n",
       "<g id=\"node3\" class=\"node\"><title>St5</title>\n",
       "<ellipse fill=\"none\" stroke=\"black\" cx=\"488.135\" cy=\"-210.904\" rx=\"21.8081\" ry=\"21.8081\"/>\n",
       "<text text-anchor=\"middle\" x=\"488.135\" y=\"-206.704\" font-family=\"Times,serif\" font-size=\"14.00\">St5</text>\n",
       "</g>\n",
       "<!-- St5&#45;&gt;St5 -->\n",
       "<g id=\"edge19\" class=\"edge\"><title>St5&#45;&gt;St5</title>\n",
       "<path fill=\"none\" stroke=\"black\" d=\"M479.765,-231.435C478.606,-241.674 481.396,-250.808 488.135,-250.808 492.451,-250.808 495.148,-247.059 496.224,-241.673\"/>\n",
       "<polygon fill=\"black\" stroke=\"black\" points=\"499.729,-241.528 496.505,-231.435 492.732,-241.335 499.729,-241.528\"/>\n",
       "<text text-anchor=\"middle\" x=\"488.135\" y=\"-253.608\" font-family=\"Times,serif\" font-size=\"14.00\">0</text>\n",
       "</g>\n",
       "<!-- St2 -->\n",
       "<g id=\"node9\" class=\"node\"><title>St2</title>\n",
       "<ellipse fill=\"none\" stroke=\"black\" cx=\"582.943\" cy=\"-173.904\" rx=\"21.8229\" ry=\"21.8229\"/>\n",
       "<ellipse fill=\"none\" stroke=\"black\" cx=\"582.943\" cy=\"-173.904\" rx=\"25.8081\" ry=\"25.8081\"/>\n",
       "<text text-anchor=\"middle\" x=\"582.943\" y=\"-169.704\" font-family=\"Times,serif\" font-size=\"14.00\">St2</text>\n",
       "</g>\n",
       "<!-- St5&#45;&gt;St2 -->\n",
       "<g id=\"edge18\" class=\"edge\"><title>St5&#45;&gt;St2</title>\n",
       "<path fill=\"none\" stroke=\"black\" d=\"M508.817,-203.057C520.549,-198.38 535.737,-192.325 549.229,-186.946\"/>\n",
       "<polygon fill=\"black\" stroke=\"black\" points=\"550.688,-190.132 558.68,-183.178 548.095,-183.63 550.688,-190.132\"/>\n",
       "<text text-anchor=\"middle\" x=\"535.539\" y=\"-196.704\" font-family=\"Times,serif\" font-size=\"14.00\">1</text>\n",
       "</g>\n",
       "<!-- St4 -->\n",
       "<g id=\"node4\" class=\"node\"><title>St4</title>\n",
       "<ellipse fill=\"none\" stroke=\"black\" cx=\"203.712\" cy=\"-99.9039\" rx=\"21.8081\" ry=\"21.8081\"/>\n",
       "<text text-anchor=\"middle\" x=\"203.712\" y=\"-95.7039\" font-family=\"Times,serif\" font-size=\"14.00\">St4</text>\n",
       "</g>\n",
       "<!-- St4&#45;&gt;St6 -->\n",
       "<g id=\"edge7\" class=\"edge\"><title>St4&#45;&gt;St6</title>\n",
       "<path fill=\"none\" stroke=\"black\" d=\"M224.394,-107.751C237.19,-112.852 254.1,-119.594 268.435,-125.309\"/>\n",
       "<polygon fill=\"black\" stroke=\"black\" points=\"267.28,-128.616 277.866,-129.068 269.873,-122.114 267.28,-128.616\"/>\n",
       "<text text-anchor=\"middle\" x=\"251.115\" y=\"-122.704\" font-family=\"Times,serif\" font-size=\"14.00\">0</text>\n",
       "</g>\n",
       "<!-- St3 -->\n",
       "<g id=\"node7\" class=\"node\"><title>St3</title>\n",
       "<ellipse fill=\"none\" stroke=\"black\" cx=\"298.519\" cy=\"-62.9039\" rx=\"21.8229\" ry=\"21.8229\"/>\n",
       "<ellipse fill=\"none\" stroke=\"black\" cx=\"298.519\" cy=\"-62.9039\" rx=\"25.8081\" ry=\"25.8081\"/>\n",
       "<text text-anchor=\"middle\" x=\"298.519\" y=\"-58.7039\" font-family=\"Times,serif\" font-size=\"14.00\">St3</text>\n",
       "</g>\n",
       "<!-- St4&#45;&gt;St3 -->\n",
       "<g id=\"edge6\" class=\"edge\"><title>St4&#45;&gt;St3</title>\n",
       "<path fill=\"none\" stroke=\"black\" d=\"M224.394,-92.0571C236.125,-87.38 251.314,-81.3248 264.806,-75.9458\"/>\n",
       "<polygon fill=\"black\" stroke=\"black\" points=\"266.264,-79.1324 274.257,-72.1779 263.672,-72.63 266.264,-79.1324\"/>\n",
       "<text text-anchor=\"middle\" x=\"251.115\" y=\"-85.7039\" font-family=\"Times,serif\" font-size=\"14.00\">1</text>\n",
       "</g>\n",
       "<!-- St1&#45;&gt;St4 -->\n",
       "<g id=\"edge3\" class=\"edge\"><title>St1&#45;&gt;St4</title>\n",
       "<path fill=\"none\" stroke=\"black\" d=\"M133.613,-71.1154C145.341,-76.0014 160.438,-82.2914 173.528,-87.745\"/>\n",
       "<polygon fill=\"black\" stroke=\"black\" points=\"172.48,-91.1002 183.057,-91.7153 175.173,-84.6386 172.48,-91.1002\"/>\n",
       "<text text-anchor=\"middle\" x=\"156.308\" y=\"-84.7039\" font-family=\"Times,serif\" font-size=\"14.00\">0</text>\n",
       "</g>\n",
       "<!-- St9 -->\n",
       "<g id=\"node11\" class=\"node\"><title>St9</title>\n",
       "<ellipse fill=\"none\" stroke=\"black\" cx=\"203.712\" cy=\"-25.9039\" rx=\"21.8229\" ry=\"21.8229\"/>\n",
       "<ellipse fill=\"none\" stroke=\"black\" cx=\"203.712\" cy=\"-25.9039\" rx=\"25.8081\" ry=\"25.8081\"/>\n",
       "<text text-anchor=\"middle\" x=\"203.712\" y=\"-21.7039\" font-family=\"Times,serif\" font-size=\"14.00\">St9</text>\n",
       "</g>\n",
       "<!-- St1&#45;&gt;St9 -->\n",
       "<g id=\"edge2\" class=\"edge\"><title>St1&#45;&gt;St9</title>\n",
       "<path fill=\"none\" stroke=\"black\" d=\"M133.613,-54.6924C144.339,-50.2238 157.883,-44.5809 170.132,-39.4775\"/>\n",
       "<polygon fill=\"black\" stroke=\"black\" points=\"171.715,-42.6099 179.599,-35.5331 169.022,-36.1482 171.715,-42.6099\"/>\n",
       "<text text-anchor=\"middle\" x=\"156.308\" y=\"-49.7039\" font-family=\"Times,serif\" font-size=\"14.00\">1</text>\n",
       "</g>\n",
       "<!-- St8&#45;&gt;St5 -->\n",
       "<g id=\"edge15\" class=\"edge\"><title>St8&#45;&gt;St5</title>\n",
       "<path fill=\"none\" stroke=\"black\" d=\"M417.746,-183.241C429.985,-188.12 445.076,-194.136 458.056,-199.311\"/>\n",
       "<polygon fill=\"black\" stroke=\"black\" points=\"456.903,-202.619 467.488,-203.071 459.495,-196.117 456.903,-202.619\"/>\n",
       "<text text-anchor=\"middle\" x=\"440.731\" y=\"-196.704\" font-family=\"Times,serif\" font-size=\"14.00\">0</text>\n",
       "</g>\n",
       "<!-- St0 -->\n",
       "<g id=\"node8\" class=\"node\"><title>St0</title>\n",
       "<ellipse fill=\"none\" stroke=\"black\" cx=\"488.135\" cy=\"-136.904\" rx=\"21.8229\" ry=\"21.8229\"/>\n",
       "<ellipse fill=\"none\" stroke=\"black\" cx=\"488.135\" cy=\"-136.904\" rx=\"25.8081\" ry=\"25.8081\"/>\n",
       "<text text-anchor=\"middle\" x=\"488.135\" y=\"-132.704\" font-family=\"Times,serif\" font-size=\"14.00\">St0</text>\n",
       "</g>\n",
       "<!-- St8&#45;&gt;St0 -->\n",
       "<g id=\"edge14\" class=\"edge\"><title>St8&#45;&gt;St0</title>\n",
       "<path fill=\"none\" stroke=\"black\" d=\"M417.746,-164.567C428.848,-160.141 442.297,-154.78 454.388,-149.959\"/>\n",
       "<polygon fill=\"black\" stroke=\"black\" points=\"455.73,-153.192 463.723,-146.238 453.138,-146.69 455.73,-153.192\"/>\n",
       "<text text-anchor=\"middle\" x=\"440.731\" y=\"-159.704\" font-family=\"Times,serif\" font-size=\"14.00\">1</text>\n",
       "</g>\n",
       "<!-- St3&#45;&gt;St4 -->\n",
       "<g id=\"edge8\" class=\"edge\"><title>St3&#45;&gt;St4</title>\n",
       "<path fill=\"none\" stroke=\"black\" d=\"M272.796,-59.5158C264.566,-59.2672 255.493,-59.9763 247.615,-62.9039 239.707,-65.8431 232.281,-70.9669 225.902,-76.4813\"/>\n",
       "<polygon fill=\"black\" stroke=\"black\" points=\"223.294,-74.1302 218.425,-83.54 228.099,-79.2203 223.294,-74.1302\"/>\n",
       "<text text-anchor=\"middle\" x=\"251.115\" y=\"-65.7039\" font-family=\"Times,serif\" font-size=\"14.00\">1</text>\n",
       "</g>\n",
       "<!-- St3&#45;&gt;St7 -->\n",
       "<g id=\"edge9\" class=\"edge\"><title>St3&#45;&gt;St7</title>\n",
       "<path fill=\"none\" stroke=\"black\" d=\"M324.506,-60.1616C332.67,-60.109 341.635,-60.9805 349.423,-63.9039 355.906,-66.3373 362.103,-70.203 367.67,-74.5157\"/>\n",
       "<polygon fill=\"black\" stroke=\"black\" points=\"365.453,-77.2248 375.338,-81.0394 369.989,-71.8934 365.453,-77.2248\"/>\n",
       "<text text-anchor=\"middle\" x=\"345.923\" y=\"-66.7039\" font-family=\"Times,serif\" font-size=\"14.00\">0</text>\n",
       "</g>\n",
       "<!-- St0&#45;&gt;St8 -->\n",
       "<g id=\"edge16\" class=\"edge\"><title>St0&#45;&gt;St8</title>\n",
       "<path fill=\"none\" stroke=\"black\" d=\"M462.412,-133.516C454.181,-133.267 445.108,-133.976 437.231,-136.904 430.665,-139.344 424.431,-143.29 418.854,-147.715\"/>\n",
       "<polygon fill=\"black\" stroke=\"black\" points=\"416.41,-145.203 411.189,-154.422 421.02,-150.471 416.41,-145.203\"/>\n",
       "<text text-anchor=\"middle\" x=\"440.731\" y=\"-139.704\" font-family=\"Times,serif\" font-size=\"14.00\">1</text>\n",
       "</g>\n",
       "<!-- St0&#45;&gt;St2 -->\n",
       "<g id=\"edge17\" class=\"edge\"><title>St0&#45;&gt;St2</title>\n",
       "<path fill=\"none\" stroke=\"black\" d=\"M514.122,-134.162C522.285,-134.109 531.25,-134.98 539.039,-137.904 545.522,-140.337 551.718,-144.203 557.286,-148.516\"/>\n",
       "<polygon fill=\"black\" stroke=\"black\" points=\"555.069,-151.225 564.953,-155.039 559.605,-145.893 555.069,-151.225\"/>\n",
       "<text text-anchor=\"middle\" x=\"535.539\" y=\"-140.704\" font-family=\"Times,serif\" font-size=\"14.00\">0</text>\n",
       "</g>\n",
       "<!-- St2&#45;&gt;St5 -->\n",
       "<g id=\"edge20\" class=\"edge\"><title>St2&#45;&gt;St5</title>\n",
       "<path fill=\"none\" stroke=\"black\" d=\"M557.22,-170.516C548.989,-170.267 539.916,-170.976 532.039,-173.904 524.13,-176.843 516.704,-181.967 510.325,-187.481\"/>\n",
       "<polygon fill=\"black\" stroke=\"black\" points=\"507.717,-185.13 502.848,-194.54 512.523,-190.22 507.717,-185.13\"/>\n",
       "<text text-anchor=\"middle\" x=\"535.539\" y=\"-176.704\" font-family=\"Times,serif\" font-size=\"14.00\">1</text>\n",
       "</g>\n",
       "<!-- St2&#45;&gt;St2 -->\n",
       "<g id=\"edge21\" class=\"edge\"><title>St2&#45;&gt;St2</title>\n",
       "<path fill=\"none\" stroke=\"black\" d=\"M574.393,-198.728C573.804,-209.054 576.653,-217.808 582.943,-217.808 586.971,-217.808 589.589,-214.215 590.795,-208.918\"/>\n",
       "<polygon fill=\"black\" stroke=\"black\" points=\"594.301,-208.943 591.492,-198.728 587.317,-208.465 594.301,-208.943\"/>\n",
       "<text text-anchor=\"middle\" x=\"582.943\" y=\"-220.608\" font-family=\"Times,serif\" font-size=\"14.00\">0</text>\n",
       "</g>\n",
       "<!-- St7&#45;&gt;St6 -->\n",
       "<g id=\"edge12\" class=\"edge\"><title>St7&#45;&gt;St6</title>\n",
       "<path fill=\"none\" stroke=\"black\" d=\"M367.604,-96.5158C359.373,-96.2672 350.301,-96.9763 342.423,-99.9039 334.514,-102.843 327.089,-107.967 320.71,-113.481\"/>\n",
       "<polygon fill=\"black\" stroke=\"black\" points=\"318.102,-111.13 313.233,-120.54 322.907,-116.22 318.102,-111.13\"/>\n",
       "<text text-anchor=\"middle\" x=\"345.923\" y=\"-102.704\" font-family=\"Times,serif\" font-size=\"14.00\">1</text>\n",
       "</g>\n",
       "<!-- St7&#45;&gt;St0 -->\n",
       "<g id=\"edge13\" class=\"edge\"><title>St7&#45;&gt;St0</title>\n",
       "<path fill=\"none\" stroke=\"black\" d=\"M419.314,-97.1616C427.478,-97.109 436.443,-97.9805 444.231,-100.904 450.714,-103.337 456.911,-107.203 462.478,-111.516\"/>\n",
       "<polygon fill=\"black\" stroke=\"black\" points=\"460.261,-114.225 470.145,-118.039 464.797,-108.893 460.261,-114.225\"/>\n",
       "<text text-anchor=\"middle\" x=\"440.731\" y=\"-103.704\" font-family=\"Times,serif\" font-size=\"14.00\">0</text>\n",
       "</g>\n",
       "<!-- St9&#45;&gt;St1 -->\n",
       "<g id=\"edge4\" class=\"edge\"><title>St9&#45;&gt;St1</title>\n",
       "<path fill=\"none\" stroke=\"black\" d=\"M177.894,-22.9436C169.656,-22.855 160.603,-23.76 152.808,-26.9039 146.156,-29.5863 139.949,-33.9722 134.532,-38.7756\"/>\n",
       "<polygon fill=\"black\" stroke=\"black\" points=\"131.892,-36.4624 127.201,-45.9622 136.792,-41.4611 131.892,-36.4624\"/>\n",
       "<text text-anchor=\"middle\" x=\"156.308\" y=\"-29.7039\" font-family=\"Times,serif\" font-size=\"14.00\">1</text>\n",
       "</g>\n",
       "<!-- St9&#45;&gt;St3 -->\n",
       "<g id=\"edge5\" class=\"edge\"><title>St9&#45;&gt;St3</title>\n",
       "<path fill=\"none\" stroke=\"black\" d=\"M229.699,-23.1616C237.862,-23.109 246.827,-23.9805 254.615,-26.9039 261.099,-29.3373 267.295,-33.203 272.863,-37.5157\"/>\n",
       "<polygon fill=\"black\" stroke=\"black\" points=\"270.646,-40.2248 280.53,-44.0394 275.182,-34.8934 270.646,-40.2248\"/>\n",
       "<text text-anchor=\"middle\" x=\"251.115\" y=\"-29.7039\" font-family=\"Times,serif\" font-size=\"14.00\">0</text>\n",
       "</g>\n",
       "</g>\n",
       "</svg>\n"
      ],
      "text/plain": [
       "<graphviz.dot.Digraph at 0x108b26d30>"
      ]
     },
     "execution_count": 5,
     "metadata": {},
     "output_type": "execute_result"
    }
   ],
   "source": [
    "RE_O13z  = \"0* 1 0* (1 0* 1 0*)* + 1* 0 1* 0 1* 0 1* \"\n",
    "NFA_O13z = re2nfa(RE_O13z)\n",
    "NMD_O13z  = nfa2dfa(NFA_O13z)\n",
    "MD_O13zB  = min_dfa_brz(NMD_O13z)\n",
    "DO_O13zB  = dotObj_dfa(MD_O13zB)\n",
    "DO_O13zB"
   ]
  },
  {
   "cell_type": "code",
   "execution_count": 6,
   "metadata": {
    "run_control": {
     "frozen": false,
     "read_only": false
    }
   },
   "outputs": [
    {
     "data": {
      "text/plain": [
       "True"
      ]
     },
     "execution_count": 6,
     "metadata": {},
     "output_type": "execute_result"
    }
   ],
   "source": [
    "iso_dfa(MD_O13z,MD_O13zB)"
   ]
  },
  {
   "cell_type": "code",
   "execution_count": 7,
   "metadata": {
    "run_control": {
     "frozen": false,
     "read_only": false
    }
   },
   "outputs": [
    {
     "data": {
      "text/plain": [
       "True"
      ]
     },
     "execution_count": 7,
     "metadata": {},
     "output_type": "execute_result"
    }
   ],
   "source": [
    "langeq_dfa(NMD_O13z,MD_O13z)"
   ]
  },
  {
   "cell_type": "code",
   "execution_count": 8,
   "metadata": {
    "run_control": {
     "frozen": false,
     "read_only": false
    }
   },
   "outputs": [
    {
     "data": {
      "text/plain": [
       "False"
      ]
     },
     "execution_count": 8,
     "metadata": {},
     "output_type": "execute_result"
    }
   ],
   "source": [
    "iso_dfa(NMD_O13z, MD_O13z)"
   ]
  },
  {
   "cell_type": "code",
   "execution_count": 9,
   "metadata": {
    "run_control": {
     "frozen": false,
     "read_only": false
    }
   },
   "outputs": [
    {
     "name": "stderr",
     "output_type": "stream",
     "text": [
      "Generating LALR tables\n"
     ]
    },
    {
     "data": {
      "image/svg+xml": [
       "<?xml version=\"1.0\" encoding=\"UTF-8\" standalone=\"no\"?>\n",
       "<!DOCTYPE svg PUBLIC \"-//W3C//DTD SVG 1.1//EN\"\n",
       " \"http://www.w3.org/Graphics/SVG/1.1/DTD/svg11.dtd\">\n",
       "<!-- Generated by graphviz version 2.38.0 (20140413.2041)\n",
       " -->\n",
       "<!-- Title: %3 Pages: 1 -->\n",
       "<svg width=\"150pt\" height=\"60pt\"\n",
       " viewBox=\"0.00 0.00 149.81 59.81\" xmlns=\"http://www.w3.org/2000/svg\" xmlns:xlink=\"http://www.w3.org/1999/xlink\">\n",
       "<g id=\"graph0\" class=\"graph\" transform=\"scale(1 1) rotate(0) translate(4 55.8077)\">\n",
       "<title>%3</title>\n",
       "<polygon fill=\"white\" stroke=\"none\" points=\"-4,4 -4,-55.8077 145.808,-55.8077 145.808,4 -4,4\"/>\n",
       "<!-- EMPTY -->\n",
       "<g id=\"node1\" class=\"node\"><title>EMPTY</title>\n",
       "</g>\n",
       "<!-- St1 -->\n",
       "<g id=\"node2\" class=\"node\"><title>St1</title>\n",
       "<ellipse fill=\"none\" stroke=\"black\" cx=\"115.904\" cy=\"-25.9039\" rx=\"21.8229\" ry=\"21.8229\"/>\n",
       "<ellipse fill=\"none\" stroke=\"black\" cx=\"115.904\" cy=\"-25.9039\" rx=\"25.8081\" ry=\"25.8081\"/>\n",
       "<text text-anchor=\"middle\" x=\"115.904\" y=\"-21.7039\" font-family=\"Times,serif\" font-size=\"14.00\">St1</text>\n",
       "</g>\n",
       "<!-- EMPTY&#45;&gt;St1 -->\n",
       "<g id=\"edge1\" class=\"edge\"><title>EMPTY&#45;&gt;St1</title>\n",
       "<path fill=\"none\" stroke=\"black\" d=\"M54.074,-25.9039C62.107,-25.9039 71.0887,-25.9039 79.6326,-25.9039\"/>\n",
       "<polygon fill=\"black\" stroke=\"black\" points=\"79.744,-29.404 89.744,-25.9039 79.7439,-22.404 79.744,-29.404\"/>\n",
       "</g>\n",
       "</g>\n",
       "</svg>\n"
      ],
      "text/plain": [
       "<graphviz.dot.Digraph at 0x108b29dd8>"
      ]
     },
     "execution_count": 9,
     "metadata": {},
     "output_type": "execute_result"
    }
   ],
   "source": [
    "dotObj_dfa(min_dfa(nfa2dfa(re2nfa(\"''\"))))"
   ]
  },
  {
   "cell_type": "code",
   "execution_count": 10,
   "metadata": {
    "run_control": {
     "frozen": false,
     "read_only": false
    }
   },
   "outputs": [
    {
     "name": "stderr",
     "output_type": "stream",
     "text": [
      "Generating LALR tables\n"
     ]
    },
    {
     "data": {
      "image/svg+xml": [
       "<?xml version=\"1.0\" encoding=\"UTF-8\" standalone=\"no\"?>\n",
       "<!DOCTYPE svg PUBLIC \"-//W3C//DTD SVG 1.1//EN\"\n",
       " \"http://www.w3.org/Graphics/SVG/1.1/DTD/svg11.dtd\">\n",
       "<!-- Generated by graphviz version 2.38.0 (20140413.2041)\n",
       " -->\n",
       "<!-- Title: %3 Pages: 1 -->\n",
       "<svg width=\"355pt\" height=\"84pt\"\n",
       " viewBox=\"0.00 0.00 355.29 84.25\" xmlns=\"http://www.w3.org/2000/svg\" xmlns:xlink=\"http://www.w3.org/1999/xlink\">\n",
       "<g id=\"graph0\" class=\"graph\" transform=\"scale(1 1) rotate(0) translate(4 80.2453)\">\n",
       "<title>%3</title>\n",
       "<polygon fill=\"white\" stroke=\"none\" points=\"-4,4 -4,-80.2453 351.288,-80.2453 351.288,4 -4,4\"/>\n",
       "<!-- EMPTY -->\n",
       "<g id=\"node1\" class=\"node\"><title>EMPTY</title>\n",
       "</g>\n",
       "<!-- St1 -->\n",
       "<g id=\"node3\" class=\"node\"><title>St1</title>\n",
       "<ellipse fill=\"none\" stroke=\"black\" cx=\"112.904\" cy=\"-38.1226\" rx=\"21.8081\" ry=\"21.8081\"/>\n",
       "<text text-anchor=\"middle\" x=\"112.904\" y=\"-33.9226\" font-family=\"Times,serif\" font-size=\"14.00\">St1</text>\n",
       "</g>\n",
       "<!-- EMPTY&#45;&gt;St1 -->\n",
       "<g id=\"edge1\" class=\"edge\"><title>EMPTY&#45;&gt;St1</title>\n",
       "<path fill=\"none\" stroke=\"black\" d=\"M54.0878,-38.1226C62.501,-38.1226 71.9126,-38.1226 80.6587,-38.1226\"/>\n",
       "<polygon fill=\"black\" stroke=\"black\" points=\"80.8854,-41.6227 90.8853,-38.1226 80.8853,-34.6227 80.8854,-41.6227\"/>\n",
       "</g>\n",
       "<!-- St2_St3 -->\n",
       "<g id=\"node2\" class=\"node\"><title>St2_St3</title>\n",
       "<ellipse fill=\"none\" stroke=\"black\" cx=\"215.144\" cy=\"-38.1226\" rx=\"38.2457\" ry=\"38.2457\"/>\n",
       "<text text-anchor=\"middle\" x=\"215.144\" y=\"-33.9226\" font-family=\"Times,serif\" font-size=\"14.00\">St2_St3</text>\n",
       "</g>\n",
       "<!-- St4 -->\n",
       "<g id=\"node4\" class=\"node\"><title>St4</title>\n",
       "<ellipse fill=\"none\" stroke=\"black\" cx=\"321.385\" cy=\"-38.1226\" rx=\"21.8229\" ry=\"21.8229\"/>\n",
       "<ellipse fill=\"none\" stroke=\"black\" cx=\"321.385\" cy=\"-38.1226\" rx=\"25.8081\" ry=\"25.8081\"/>\n",
       "<text text-anchor=\"middle\" x=\"321.385\" y=\"-33.9226\" font-family=\"Times,serif\" font-size=\"14.00\">St4</text>\n",
       "</g>\n",
       "<!-- St2_St3&#45;&gt;St4 -->\n",
       "<g id=\"edge3\" class=\"edge\"><title>St2_St3&#45;&gt;St4</title>\n",
       "<path fill=\"none\" stroke=\"black\" d=\"M253.483,-38.1226C263.802,-38.1226 274.964,-38.1226 285.159,-38.1226\"/>\n",
       "<polygon fill=\"black\" stroke=\"black\" points=\"285.357,-41.6227 295.357,-38.1226 285.357,-34.6227 285.357,-41.6227\"/>\n",
       "<text text-anchor=\"middle\" x=\"274.374\" y=\"-40.9226\" font-family=\"Times,serif\" font-size=\"14.00\">a</text>\n",
       "</g>\n",
       "<!-- St1&#45;&gt;St2_St3 -->\n",
       "<g id=\"edge2\" class=\"edge\"><title>St1&#45;&gt;St2_St3</title>\n",
       "<path fill=\"none\" stroke=\"black\" d=\"M135.162,-38.1226C144.402,-38.1226 155.628,-38.1226 166.68,-38.1226\"/>\n",
       "<polygon fill=\"black\" stroke=\"black\" points=\"166.72,-41.6227 176.72,-38.1226 166.72,-34.6227 166.72,-41.6227\"/>\n",
       "<text text-anchor=\"middle\" x=\"155.915\" y=\"-40.9226\" font-family=\"Times,serif\" font-size=\"14.00\">a</text>\n",
       "</g>\n",
       "</g>\n",
       "</svg>\n"
      ],
      "text/plain": [
       "<graphviz.dot.Digraph at 0x108b94518>"
      ]
     },
     "execution_count": 10,
     "metadata": {},
     "output_type": "execute_result"
    }
   ],
   "source": [
    "D1 = min_dfa(nfa2dfa(re2nfa(\"aa\")))\n",
    "dotObj_dfa(D1)"
   ]
  },
  {
   "cell_type": "code",
   "execution_count": 11,
   "metadata": {
    "run_control": {
     "frozen": false,
     "read_only": false
    }
   },
   "outputs": [
    {
     "name": "stderr",
     "output_type": "stream",
     "text": [
      "Generating LALR tables\n"
     ]
    },
    {
     "data": {
      "image/svg+xml": [
       "<?xml version=\"1.0\" encoding=\"UTF-8\" standalone=\"no\"?>\n",
       "<!DOCTYPE svg PUBLIC \"-//W3C//DTD SVG 1.1//EN\"\n",
       " \"http://www.w3.org/Graphics/SVG/1.1/DTD/svg11.dtd\">\n",
       "<!-- Generated by graphviz version 2.38.0 (20140413.2041)\n",
       " -->\n",
       "<!-- Title: %3 Pages: 1 -->\n",
       "<svg width=\"357pt\" height=\"84pt\"\n",
       " viewBox=\"0.00 0.00 356.86 84.25\" xmlns=\"http://www.w3.org/2000/svg\" xmlns:xlink=\"http://www.w3.org/1999/xlink\">\n",
       "<g id=\"graph0\" class=\"graph\" transform=\"scale(1 1) rotate(0) translate(4 80.2453)\">\n",
       "<title>%3</title>\n",
       "<polygon fill=\"white\" stroke=\"none\" points=\"-4,4 -4,-80.2453 352.861,-80.2453 352.861,4 -4,4\"/>\n",
       "<!-- EMPTY -->\n",
       "<g id=\"node1\" class=\"node\"><title>EMPTY</title>\n",
       "</g>\n",
       "<!-- St1 -->\n",
       "<g id=\"node3\" class=\"node\"><title>St1</title>\n",
       "<ellipse fill=\"none\" stroke=\"black\" cx=\"112.904\" cy=\"-38.1226\" rx=\"21.8081\" ry=\"21.8081\"/>\n",
       "<text text-anchor=\"middle\" x=\"112.904\" y=\"-33.9226\" font-family=\"Times,serif\" font-size=\"14.00\">St1</text>\n",
       "</g>\n",
       "<!-- EMPTY&#45;&gt;St1 -->\n",
       "<g id=\"edge1\" class=\"edge\"><title>EMPTY&#45;&gt;St1</title>\n",
       "<path fill=\"none\" stroke=\"black\" d=\"M54.0878,-38.1226C62.501,-38.1226 71.9126,-38.1226 80.6587,-38.1226\"/>\n",
       "<polygon fill=\"black\" stroke=\"black\" points=\"80.8854,-41.6227 90.8853,-38.1226 80.8853,-34.6227 80.8854,-41.6227\"/>\n",
       "</g>\n",
       "<!-- St2_St3 -->\n",
       "<g id=\"node2\" class=\"node\"><title>St2_St3</title>\n",
       "<ellipse fill=\"none\" stroke=\"black\" cx=\"215.93\" cy=\"-38.1226\" rx=\"38.2457\" ry=\"38.2457\"/>\n",
       "<text text-anchor=\"middle\" x=\"215.93\" y=\"-33.9226\" font-family=\"Times,serif\" font-size=\"14.00\">St2_St3</text>\n",
       "</g>\n",
       "<!-- St4 -->\n",
       "<g id=\"node4\" class=\"node\"><title>St4</title>\n",
       "<ellipse fill=\"none\" stroke=\"black\" cx=\"322.957\" cy=\"-38.1226\" rx=\"21.8229\" ry=\"21.8229\"/>\n",
       "<ellipse fill=\"none\" stroke=\"black\" cx=\"322.957\" cy=\"-38.1226\" rx=\"25.8081\" ry=\"25.8081\"/>\n",
       "<text text-anchor=\"middle\" x=\"322.957\" y=\"-33.9226\" font-family=\"Times,serif\" font-size=\"14.00\">St4</text>\n",
       "</g>\n",
       "<!-- St2_St3&#45;&gt;St4 -->\n",
       "<g id=\"edge3\" class=\"edge\"><title>St2_St3&#45;&gt;St4</title>\n",
       "<path fill=\"none\" stroke=\"black\" d=\"M254.255,-38.1226C264.867,-38.1226 276.386,-38.1226 286.861,-38.1226\"/>\n",
       "<polygon fill=\"black\" stroke=\"black\" points=\"286.917,-41.6227 296.917,-38.1226 286.917,-34.6227 286.917,-41.6227\"/>\n",
       "<text text-anchor=\"middle\" x=\"275.553\" y=\"-40.9226\" font-family=\"Times,serif\" font-size=\"14.00\">b</text>\n",
       "</g>\n",
       "<!-- St1&#45;&gt;St2_St3 -->\n",
       "<g id=\"edge2\" class=\"edge\"><title>St1&#45;&gt;St2_St3</title>\n",
       "<path fill=\"none\" stroke=\"black\" d=\"M134.837,-38.1226C144.403,-38.1226 156.154,-38.1226 167.678,-38.1226\"/>\n",
       "<polygon fill=\"black\" stroke=\"black\" points=\"167.686,-41.6227 177.686,-38.1226 167.686,-34.6227 167.686,-41.6227\"/>\n",
       "<text text-anchor=\"middle\" x=\"156.308\" y=\"-40.9226\" font-family=\"Times,serif\" font-size=\"14.00\">b</text>\n",
       "</g>\n",
       "</g>\n",
       "</svg>\n"
      ],
      "text/plain": [
       "<graphviz.dot.Digraph at 0x108b94ef0>"
      ]
     },
     "execution_count": 11,
     "metadata": {},
     "output_type": "execute_result"
    }
   ],
   "source": [
    "D2 = min_dfa(nfa2dfa(re2nfa(\"bb\")))\n",
    "dotObj_dfa(D2)"
   ]
  },
  {
   "cell_type": "code",
   "execution_count": 12,
   "metadata": {
    "run_control": {
     "frozen": false,
     "read_only": false
    }
   },
   "outputs": [
    {
     "data": {
      "text/plain": [
       "{'Delta': {('BH', 'a'): 'BH',\n",
       "  (\"{'St1'}\", 'a'): \"{'St2', 'St3'}\",\n",
       "  (\"{'St2', 'St3'}\", 'a'): \"{'St4'}\",\n",
       "  (\"{'St4'}\", 'a'): 'BH'},\n",
       " 'F': {\"{'St4'}\"},\n",
       " 'Q': {'BH', \"{'St1'}\", \"{'St2', 'St3'}\", \"{'St4'}\"},\n",
       " 'Sigma': {'a'},\n",
       " 'q0': \"{'St1'}\"}"
      ]
     },
     "execution_count": 12,
     "metadata": {},
     "output_type": "execute_result"
    }
   ],
   "source": [
    "D1"
   ]
  },
  {
   "cell_type": "code",
   "execution_count": 13,
   "metadata": {
    "run_control": {
     "frozen": false,
     "read_only": false
    }
   },
   "outputs": [
    {
     "data": {
      "text/plain": [
       "{'Delta': {('BH', 'b'): 'BH',\n",
       "  (\"{'St1'}\", 'b'): \"{'St2', 'St3'}\",\n",
       "  (\"{'St2', 'St3'}\", 'b'): \"{'St4'}\",\n",
       "  (\"{'St4'}\", 'b'): 'BH'},\n",
       " 'F': {\"{'St4'}\"},\n",
       " 'Q': {'BH', \"{'St1'}\", \"{'St2', 'St3'}\", \"{'St4'}\"},\n",
       " 'Sigma': {'b'},\n",
       " 'q0': \"{'St1'}\"}"
      ]
     },
     "execution_count": 13,
     "metadata": {},
     "output_type": "execute_result"
    }
   ],
   "source": [
    "D2"
   ]
  },
  {
   "cell_type": "code",
   "execution_count": 14,
   "metadata": {
    "run_control": {
     "frozen": false,
     "read_only": false
    }
   },
   "outputs": [
    {
     "name": "stdout",
     "output_type": "stream",
     "text": [
      "Union on DFA with different alphabets.\n",
      "Making alphabets the same (taking unions).\n"
     ]
    },
    {
     "data": {
      "image/svg+xml": [
       "<?xml version=\"1.0\" encoding=\"UTF-8\" standalone=\"no\"?>\n",
       "<!DOCTYPE svg PUBLIC \"-//W3C//DTD SVG 1.1//EN\"\n",
       " \"http://www.w3.org/Graphics/SVG/1.1/DTD/svg11.dtd\">\n",
       "<!-- Generated by graphviz version 2.38.0 (20140413.2041)\n",
       " -->\n",
       "<!-- Title: %3 Pages: 1 -->\n",
       "<svg width=\"682pt\" height=\"298pt\"\n",
       " viewBox=\"0.00 0.00 682.20 297.88\" xmlns=\"http://www.w3.org/2000/svg\" xmlns:xlink=\"http://www.w3.org/1999/xlink\">\n",
       "<g id=\"graph0\" class=\"graph\" transform=\"scale(1 1) rotate(0) translate(4 293.878)\">\n",
       "<title>%3</title>\n",
       "<polygon fill=\"white\" stroke=\"none\" points=\"-4,4 -4,-293.878 678.2,-293.878 678.2,4 -4,4\"/>\n",
       "<!-- EMPTY -->\n",
       "<g id=\"node1\" class=\"node\"><title>EMPTY</title>\n",
       "</g>\n",
       "<!-- \\(&quot;St1&quot;_&quot;St1&quot;\\) -->\n",
       "<g id=\"node4\" class=\"node\"><title>\\(&quot;St1&quot;_&quot;St1&quot;\\)</title>\n",
       "<ellipse fill=\"none\" stroke=\"black\" cx=\"149.452\" cy=\"-158.939\" rx=\"58.4045\" ry=\"58.4045\"/>\n",
       "<text text-anchor=\"middle\" x=\"149.452\" y=\"-154.739\" font-family=\"Times,serif\" font-size=\"14.00\">(&quot;St1&quot;_&quot;St1&quot;)</text>\n",
       "</g>\n",
       "<!-- EMPTY&#45;&gt;\\(&quot;St1&quot;_&quot;St1&quot;\\) -->\n",
       "<g id=\"edge1\" class=\"edge\"><title>EMPTY&#45;&gt;\\(&quot;St1&quot;_&quot;St1&quot;\\)</title>\n",
       "<path fill=\"none\" stroke=\"black\" d=\"M54.1363,-158.939C62.0631,-158.939 71.1646,-158.939 80.5182,-158.939\"/>\n",
       "<polygon fill=\"black\" stroke=\"black\" points=\"80.7233,-162.439 90.7233,-158.939 80.7232,-155.439 80.7233,-162.439\"/>\n",
       "</g>\n",
       "<!-- \\(BH_&quot;St2_St3&quot;\\) -->\n",
       "<g id=\"node2\" class=\"node\"><title>\\(BH_&quot;St2_St3&quot;\\)</title>\n",
       "<ellipse fill=\"none\" stroke=\"black\" cx=\"318.844\" cy=\"-221.939\" rx=\"67.8783\" ry=\"67.8783\"/>\n",
       "<text text-anchor=\"middle\" x=\"318.844\" y=\"-217.739\" font-family=\"Times,serif\" font-size=\"14.00\">(BH_&quot;St2_St3&quot;)</text>\n",
       "</g>\n",
       "<!-- \\(BH_BH\\) -->\n",
       "<g id=\"node5\" class=\"node\"><title>\\(BH_BH\\)</title>\n",
       "<ellipse fill=\"none\" stroke=\"black\" cx=\"629.212\" cy=\"-141.939\" rx=\"44.9768\" ry=\"44.9768\"/>\n",
       "<text text-anchor=\"middle\" x=\"629.212\" y=\"-137.739\" font-family=\"Times,serif\" font-size=\"14.00\">(BH_BH)</text>\n",
       "</g>\n",
       "<!-- \\(BH_&quot;St2_St3&quot;\\)&#45;&gt;\\(BH_BH\\) -->\n",
       "<g id=\"edge9\" class=\"edge\"><title>\\(BH_&quot;St2_St3&quot;\\)&#45;&gt;\\(BH_BH\\)</title>\n",
       "<path fill=\"none\" stroke=\"black\" d=\"M386.823,-227.6C431.849,-229.049 491.774,-226.333 541.223,-207.939 558.155,-201.641 574.536,-190.886 588.429,-179.865\"/>\n",
       "<polygon fill=\"black\" stroke=\"black\" points=\"590.812,-182.436 596.307,-173.377 586.362,-177.033 590.812,-182.436\"/>\n",
       "<text text-anchor=\"middle\" x=\"485.503\" y=\"-229.739\" font-family=\"Times,serif\" font-size=\"14.00\">a</text>\n",
       "</g>\n",
       "<!-- \\(BH_&quot;St4&quot;\\) -->\n",
       "<g id=\"node6\" class=\"node\"><title>\\(BH_&quot;St4&quot;\\)</title>\n",
       "<ellipse fill=\"none\" stroke=\"black\" cx=\"485.503\" cy=\"-142.939\" rx=\"51.9257\" ry=\"51.9257\"/>\n",
       "<ellipse fill=\"none\" stroke=\"black\" cx=\"485.503\" cy=\"-142.939\" rx=\"55.9415\" ry=\"55.9415\"/>\n",
       "<text text-anchor=\"middle\" x=\"485.503\" y=\"-138.739\" font-family=\"Times,serif\" font-size=\"14.00\">(BH_&quot;St4&quot;)</text>\n",
       "</g>\n",
       "<!-- \\(BH_&quot;St2_St3&quot;\\)&#45;&gt;\\(BH_&quot;St4&quot;\\) -->\n",
       "<g id=\"edge5\" class=\"edge\"><title>\\(BH_&quot;St2_St3&quot;\\)&#45;&gt;\\(BH_&quot;St4&quot;\\)</title>\n",
       "<path fill=\"none\" stroke=\"black\" d=\"M380.689,-192.747C395.343,-185.716 410.974,-178.217 425.541,-171.228\"/>\n",
       "<polygon fill=\"black\" stroke=\"black\" points=\"427.436,-174.2 434.938,-166.719 424.408,-167.889 427.436,-174.2\"/>\n",
       "<text text-anchor=\"middle\" x=\"408.283\" y=\"-182.739\" font-family=\"Times,serif\" font-size=\"14.00\">b</text>\n",
       "</g>\n",
       "<!-- \\(&quot;St2_St3&quot;_BH\\) -->\n",
       "<g id=\"node3\" class=\"node\"><title>\\(&quot;St2_St3&quot;_BH\\)</title>\n",
       "<ellipse fill=\"none\" stroke=\"black\" cx=\"318.844\" cy=\"-67.9391\" rx=\"67.8783\" ry=\"67.8783\"/>\n",
       "<text text-anchor=\"middle\" x=\"318.844\" y=\"-63.7391\" font-family=\"Times,serif\" font-size=\"14.00\">(&quot;St2_St3&quot;_BH)</text>\n",
       "</g>\n",
       "<!-- \\(&quot;St2_St3&quot;_BH\\)&#45;&gt;\\(BH_BH\\) -->\n",
       "<g id=\"edge10\" class=\"edge\"><title>\\(&quot;St2_St3&quot;_BH\\)&#45;&gt;\\(BH_BH\\)</title>\n",
       "<path fill=\"none\" stroke=\"black\" d=\"M385.519,-54.1589C430.782,-47.6427 491.5,-44.911 541.223,-63.9391 560.744,-71.4091 578.643,-85.5021 593.063,-99.6764\"/>\n",
       "<polygon fill=\"black\" stroke=\"black\" points=\"590.786,-102.354 600.277,-107.061 595.793,-97.4623 590.786,-102.354\"/>\n",
       "<text text-anchor=\"middle\" x=\"485.503\" y=\"-66.7391\" font-family=\"Times,serif\" font-size=\"14.00\">b</text>\n",
       "</g>\n",
       "<!-- \\(&quot;St2_St3&quot;_BH\\)&#45;&gt;\\(BH_&quot;St4&quot;\\) -->\n",
       "<g id=\"edge7\" class=\"edge\"><title>\\(&quot;St2_St3&quot;_BH\\)&#45;&gt;\\(BH_&quot;St4&quot;\\)</title>\n",
       "<path fill=\"none\" stroke=\"black\" d=\"M381.157,-95.8663C395.558,-102.426 410.878,-109.404 425.19,-115.923\"/>\n",
       "<polygon fill=\"black\" stroke=\"black\" points=\"423.878,-119.171 434.429,-120.131 426.78,-112.801 423.878,-119.171\"/>\n",
       "<text text-anchor=\"middle\" x=\"408.283\" y=\"-112.739\" font-family=\"Times,serif\" font-size=\"14.00\">a</text>\n",
       "</g>\n",
       "<!-- \\(&quot;St1&quot;_&quot;St1&quot;\\)&#45;&gt;\\(BH_&quot;St2_St3&quot;\\) -->\n",
       "<g id=\"edge4\" class=\"edge\"><title>\\(&quot;St1&quot;_&quot;St1&quot;\\)&#45;&gt;\\(BH_&quot;St2_St3&quot;\\)</title>\n",
       "<path fill=\"none\" stroke=\"black\" d=\"M204.337,-179.219C217.461,-184.159 231.709,-189.521 245.535,-194.725\"/>\n",
       "<polygon fill=\"black\" stroke=\"black\" points=\"244.428,-198.048 255.02,-198.295 246.894,-191.497 244.428,-198.048\"/>\n",
       "<text text-anchor=\"middle\" x=\"229.405\" y=\"-190.739\" font-family=\"Times,serif\" font-size=\"14.00\">b</text>\n",
       "</g>\n",
       "<!-- \\(&quot;St1&quot;_&quot;St1&quot;\\)&#45;&gt;\\(&quot;St2_St3&quot;_BH\\) -->\n",
       "<g id=\"edge11\" class=\"edge\"><title>\\(&quot;St1&quot;_&quot;St1&quot;\\)&#45;&gt;\\(&quot;St2_St3&quot;_BH\\)</title>\n",
       "<path fill=\"none\" stroke=\"black\" d=\"M201.129,-131.389C216.474,-123.047 233.583,-113.746 249.868,-104.893\"/>\n",
       "<polygon fill=\"black\" stroke=\"black\" points=\"251.7,-107.881 258.814,-100.03 248.357,-101.731 251.7,-107.881\"/>\n",
       "<text text-anchor=\"middle\" x=\"229.405\" y=\"-119.739\" font-family=\"Times,serif\" font-size=\"14.00\">a</text>\n",
       "</g>\n",
       "<!-- \\(BH_BH\\)&#45;&gt;\\(BH_BH\\) -->\n",
       "<g id=\"edge2\" class=\"edge\"><title>\\(BH_BH\\)&#45;&gt;\\(BH_BH\\)</title>\n",
       "<path fill=\"none\" stroke=\"black\" d=\"M623.147,-186.665C623.645,-197.174 625.667,-204.928 629.212,-204.928 631.483,-204.928 633.129,-201.746 634.149,-196.696\"/>\n",
       "<polygon fill=\"black\" stroke=\"black\" points=\"637.638,-196.994 635.277,-186.665 630.682,-196.212 637.638,-196.994\"/>\n",
       "<text text-anchor=\"middle\" x=\"629.212\" y=\"-207.728\" font-family=\"Times,serif\" font-size=\"14.00\">a</text>\n",
       "</g>\n",
       "<!-- \\(BH_BH\\)&#45;&gt;\\(BH_BH\\) -->\n",
       "<g id=\"edge8\" class=\"edge\"><title>\\(BH_BH\\)&#45;&gt;\\(BH_BH\\)</title>\n",
       "<path fill=\"none\" stroke=\"black\" d=\"M617.082,-185.267C615.758,-205.366 619.802,-222.928 629.212,-222.928 637.005,-222.928 641.117,-210.884 641.549,-195.329\"/>\n",
       "<polygon fill=\"black\" stroke=\"black\" points=\"645.047,-195.193 641.342,-185.267 638.048,-195.337 645.047,-195.193\"/>\n",
       "<text text-anchor=\"middle\" x=\"629.212\" y=\"-225.728\" font-family=\"Times,serif\" font-size=\"14.00\">b</text>\n",
       "</g>\n",
       "<!-- \\(BH_&quot;St4&quot;\\)&#45;&gt;\\(BH_BH\\) -->\n",
       "<g id=\"edge3\" class=\"edge\"><title>\\(BH_&quot;St4&quot;\\)&#45;&gt;\\(BH_BH\\)</title>\n",
       "<path fill=\"none\" stroke=\"black\" d=\"M541.291,-142.552C552.033,-142.477 563.295,-142.397 574.018,-142.322\"/>\n",
       "<polygon fill=\"black\" stroke=\"black\" points=\"574.123,-145.821 584.098,-142.25 574.074,-138.821 574.123,-145.821\"/>\n",
       "<text text-anchor=\"middle\" x=\"562.723\" y=\"-145.739\" font-family=\"Times,serif\" font-size=\"14.00\">b</text>\n",
       "</g>\n",
       "<!-- \\(BH_&quot;St4&quot;\\)&#45;&gt;\\(BH_BH\\) -->\n",
       "<g id=\"edge6\" class=\"edge\"><title>\\(BH_&quot;St4&quot;\\)&#45;&gt;\\(BH_BH\\)</title>\n",
       "<path fill=\"none\" stroke=\"black\" d=\"M538.58,-125.707C547.741,-124.247 557.224,-123.727 566.223,-124.939 569.486,-125.378 572.82,-125.942 576.165,-126.596\"/>\n",
       "<polygon fill=\"black\" stroke=\"black\" points=\"575.658,-130.068 586.175,-128.793 577.158,-123.23 575.658,-130.068\"/>\n",
       "<text text-anchor=\"middle\" x=\"562.723\" y=\"-127.739\" font-family=\"Times,serif\" font-size=\"14.00\">a</text>\n",
       "</g>\n",
       "</g>\n",
       "</svg>\n"
      ],
      "text/plain": [
       "<graphviz.dot.Digraph at 0x108b9f2e8>"
      ]
     },
     "execution_count": 14,
     "metadata": {},
     "output_type": "execute_result"
    }
   ],
   "source": [
    "D1or2 = min_dfa(union_dfa(D1,D2))\n",
    "D1or2p = pruneUnreach(D1or2)\n",
    "dotObj_dfa(D1or2)"
   ]
  },
  {
   "cell_type": "code",
   "execution_count": 15,
   "metadata": {
    "run_control": {
     "frozen": false,
     "read_only": false
    }
   },
   "outputs": [
    {
     "data": {
      "image/svg+xml": [
       "<?xml version=\"1.0\" encoding=\"UTF-8\" standalone=\"no\"?>\n",
       "<!DOCTYPE svg PUBLIC \"-//W3C//DTD SVG 1.1//EN\"\n",
       " \"http://www.w3.org/Graphics/SVG/1.1/DTD/svg11.dtd\">\n",
       "<!-- Generated by graphviz version 2.38.0 (20140413.2041)\n",
       " -->\n",
       "<!-- Title: %3 Pages: 1 -->\n",
       "<svg width=\"682pt\" height=\"298pt\"\n",
       " viewBox=\"0.00 0.00 682.20 297.88\" xmlns=\"http://www.w3.org/2000/svg\" xmlns:xlink=\"http://www.w3.org/1999/xlink\">\n",
       "<g id=\"graph0\" class=\"graph\" transform=\"scale(1 1) rotate(0) translate(4 293.878)\">\n",
       "<title>%3</title>\n",
       "<polygon fill=\"white\" stroke=\"none\" points=\"-4,4 -4,-293.878 678.2,-293.878 678.2,4 -4,4\"/>\n",
       "<!-- EMPTY -->\n",
       "<g id=\"node1\" class=\"node\"><title>EMPTY</title>\n",
       "</g>\n",
       "<!-- \\(&quot;St1&quot;_&quot;St1&quot;\\) -->\n",
       "<g id=\"node4\" class=\"node\"><title>\\(&quot;St1&quot;_&quot;St1&quot;\\)</title>\n",
       "<ellipse fill=\"none\" stroke=\"black\" cx=\"149.452\" cy=\"-158.939\" rx=\"58.4045\" ry=\"58.4045\"/>\n",
       "<text text-anchor=\"middle\" x=\"149.452\" y=\"-154.739\" font-family=\"Times,serif\" font-size=\"14.00\">(&quot;St1&quot;_&quot;St1&quot;)</text>\n",
       "</g>\n",
       "<!-- EMPTY&#45;&gt;\\(&quot;St1&quot;_&quot;St1&quot;\\) -->\n",
       "<g id=\"edge1\" class=\"edge\"><title>EMPTY&#45;&gt;\\(&quot;St1&quot;_&quot;St1&quot;\\)</title>\n",
       "<path fill=\"none\" stroke=\"black\" d=\"M54.1363,-158.939C62.0631,-158.939 71.1646,-158.939 80.5182,-158.939\"/>\n",
       "<polygon fill=\"black\" stroke=\"black\" points=\"80.7233,-162.439 90.7233,-158.939 80.7232,-155.439 80.7233,-162.439\"/>\n",
       "</g>\n",
       "<!-- \\(BH_&quot;St2_St3&quot;\\) -->\n",
       "<g id=\"node2\" class=\"node\"><title>\\(BH_&quot;St2_St3&quot;\\)</title>\n",
       "<ellipse fill=\"none\" stroke=\"black\" cx=\"318.844\" cy=\"-221.939\" rx=\"67.8783\" ry=\"67.8783\"/>\n",
       "<text text-anchor=\"middle\" x=\"318.844\" y=\"-217.739\" font-family=\"Times,serif\" font-size=\"14.00\">(BH_&quot;St2_St3&quot;)</text>\n",
       "</g>\n",
       "<!-- \\(BH_BH\\) -->\n",
       "<g id=\"node5\" class=\"node\"><title>\\(BH_BH\\)</title>\n",
       "<ellipse fill=\"none\" stroke=\"black\" cx=\"629.212\" cy=\"-141.939\" rx=\"44.9768\" ry=\"44.9768\"/>\n",
       "<text text-anchor=\"middle\" x=\"629.212\" y=\"-137.739\" font-family=\"Times,serif\" font-size=\"14.00\">(BH_BH)</text>\n",
       "</g>\n",
       "<!-- \\(BH_&quot;St2_St3&quot;\\)&#45;&gt;\\(BH_BH\\) -->\n",
       "<g id=\"edge8\" class=\"edge\"><title>\\(BH_&quot;St2_St3&quot;\\)&#45;&gt;\\(BH_BH\\)</title>\n",
       "<path fill=\"none\" stroke=\"black\" d=\"M386.823,-227.6C431.849,-229.049 491.774,-226.333 541.223,-207.939 558.155,-201.641 574.536,-190.886 588.429,-179.865\"/>\n",
       "<polygon fill=\"black\" stroke=\"black\" points=\"590.812,-182.436 596.307,-173.377 586.362,-177.033 590.812,-182.436\"/>\n",
       "<text text-anchor=\"middle\" x=\"485.503\" y=\"-229.739\" font-family=\"Times,serif\" font-size=\"14.00\">a</text>\n",
       "</g>\n",
       "<!-- \\(BH_&quot;St4&quot;\\) -->\n",
       "<g id=\"node6\" class=\"node\"><title>\\(BH_&quot;St4&quot;\\)</title>\n",
       "<ellipse fill=\"none\" stroke=\"black\" cx=\"485.503\" cy=\"-142.939\" rx=\"51.9257\" ry=\"51.9257\"/>\n",
       "<ellipse fill=\"none\" stroke=\"black\" cx=\"485.503\" cy=\"-142.939\" rx=\"55.9415\" ry=\"55.9415\"/>\n",
       "<text text-anchor=\"middle\" x=\"485.503\" y=\"-138.739\" font-family=\"Times,serif\" font-size=\"14.00\">(BH_&quot;St4&quot;)</text>\n",
       "</g>\n",
       "<!-- \\(BH_&quot;St2_St3&quot;\\)&#45;&gt;\\(BH_&quot;St4&quot;\\) -->\n",
       "<g id=\"edge5\" class=\"edge\"><title>\\(BH_&quot;St2_St3&quot;\\)&#45;&gt;\\(BH_&quot;St4&quot;\\)</title>\n",
       "<path fill=\"none\" stroke=\"black\" d=\"M380.689,-192.747C395.343,-185.716 410.974,-178.217 425.541,-171.228\"/>\n",
       "<polygon fill=\"black\" stroke=\"black\" points=\"427.436,-174.2 434.938,-166.719 424.408,-167.889 427.436,-174.2\"/>\n",
       "<text text-anchor=\"middle\" x=\"408.283\" y=\"-182.739\" font-family=\"Times,serif\" font-size=\"14.00\">b</text>\n",
       "</g>\n",
       "<!-- \\(&quot;St2_St3&quot;_BH\\) -->\n",
       "<g id=\"node3\" class=\"node\"><title>\\(&quot;St2_St3&quot;_BH\\)</title>\n",
       "<ellipse fill=\"none\" stroke=\"black\" cx=\"318.844\" cy=\"-67.9391\" rx=\"67.8783\" ry=\"67.8783\"/>\n",
       "<text text-anchor=\"middle\" x=\"318.844\" y=\"-63.7391\" font-family=\"Times,serif\" font-size=\"14.00\">(&quot;St2_St3&quot;_BH)</text>\n",
       "</g>\n",
       "<!-- \\(&quot;St2_St3&quot;_BH\\)&#45;&gt;\\(BH_BH\\) -->\n",
       "<g id=\"edge9\" class=\"edge\"><title>\\(&quot;St2_St3&quot;_BH\\)&#45;&gt;\\(BH_BH\\)</title>\n",
       "<path fill=\"none\" stroke=\"black\" d=\"M385.519,-54.1589C430.782,-47.6427 491.5,-44.911 541.223,-63.9391 560.744,-71.4091 578.643,-85.5021 593.063,-99.6764\"/>\n",
       "<polygon fill=\"black\" stroke=\"black\" points=\"590.786,-102.354 600.277,-107.061 595.793,-97.4623 590.786,-102.354\"/>\n",
       "<text text-anchor=\"middle\" x=\"485.503\" y=\"-66.7391\" font-family=\"Times,serif\" font-size=\"14.00\">b</text>\n",
       "</g>\n",
       "<!-- \\(&quot;St2_St3&quot;_BH\\)&#45;&gt;\\(BH_&quot;St4&quot;\\) -->\n",
       "<g id=\"edge10\" class=\"edge\"><title>\\(&quot;St2_St3&quot;_BH\\)&#45;&gt;\\(BH_&quot;St4&quot;\\)</title>\n",
       "<path fill=\"none\" stroke=\"black\" d=\"M381.157,-95.8663C395.558,-102.426 410.878,-109.404 425.19,-115.923\"/>\n",
       "<polygon fill=\"black\" stroke=\"black\" points=\"423.878,-119.171 434.429,-120.131 426.78,-112.801 423.878,-119.171\"/>\n",
       "<text text-anchor=\"middle\" x=\"408.283\" y=\"-112.739\" font-family=\"Times,serif\" font-size=\"14.00\">a</text>\n",
       "</g>\n",
       "<!-- \\(&quot;St1&quot;_&quot;St1&quot;\\)&#45;&gt;\\(BH_&quot;St2_St3&quot;\\) -->\n",
       "<g id=\"edge4\" class=\"edge\"><title>\\(&quot;St1&quot;_&quot;St1&quot;\\)&#45;&gt;\\(BH_&quot;St2_St3&quot;\\)</title>\n",
       "<path fill=\"none\" stroke=\"black\" d=\"M204.337,-179.219C217.461,-184.159 231.709,-189.521 245.535,-194.725\"/>\n",
       "<polygon fill=\"black\" stroke=\"black\" points=\"244.428,-198.048 255.02,-198.295 246.894,-191.497 244.428,-198.048\"/>\n",
       "<text text-anchor=\"middle\" x=\"229.405\" y=\"-190.739\" font-family=\"Times,serif\" font-size=\"14.00\">b</text>\n",
       "</g>\n",
       "<!-- \\(&quot;St1&quot;_&quot;St1&quot;\\)&#45;&gt;\\(&quot;St2_St3&quot;_BH\\) -->\n",
       "<g id=\"edge11\" class=\"edge\"><title>\\(&quot;St1&quot;_&quot;St1&quot;\\)&#45;&gt;\\(&quot;St2_St3&quot;_BH\\)</title>\n",
       "<path fill=\"none\" stroke=\"black\" d=\"M201.129,-131.389C216.474,-123.047 233.583,-113.746 249.868,-104.893\"/>\n",
       "<polygon fill=\"black\" stroke=\"black\" points=\"251.7,-107.881 258.814,-100.03 248.357,-101.731 251.7,-107.881\"/>\n",
       "<text text-anchor=\"middle\" x=\"229.405\" y=\"-119.739\" font-family=\"Times,serif\" font-size=\"14.00\">a</text>\n",
       "</g>\n",
       "<!-- \\(BH_BH\\)&#45;&gt;\\(BH_BH\\) -->\n",
       "<g id=\"edge2\" class=\"edge\"><title>\\(BH_BH\\)&#45;&gt;\\(BH_BH\\)</title>\n",
       "<path fill=\"none\" stroke=\"black\" d=\"M623.147,-186.665C623.645,-197.174 625.667,-204.928 629.212,-204.928 631.483,-204.928 633.129,-201.746 634.149,-196.696\"/>\n",
       "<polygon fill=\"black\" stroke=\"black\" points=\"637.638,-196.994 635.277,-186.665 630.682,-196.212 637.638,-196.994\"/>\n",
       "<text text-anchor=\"middle\" x=\"629.212\" y=\"-207.728\" font-family=\"Times,serif\" font-size=\"14.00\">a</text>\n",
       "</g>\n",
       "<!-- \\(BH_BH\\)&#45;&gt;\\(BH_BH\\) -->\n",
       "<g id=\"edge7\" class=\"edge\"><title>\\(BH_BH\\)&#45;&gt;\\(BH_BH\\)</title>\n",
       "<path fill=\"none\" stroke=\"black\" d=\"M617.082,-185.267C615.758,-205.366 619.802,-222.928 629.212,-222.928 637.005,-222.928 641.117,-210.884 641.549,-195.329\"/>\n",
       "<polygon fill=\"black\" stroke=\"black\" points=\"645.047,-195.193 641.342,-185.267 638.048,-195.337 645.047,-195.193\"/>\n",
       "<text text-anchor=\"middle\" x=\"629.212\" y=\"-225.728\" font-family=\"Times,serif\" font-size=\"14.00\">b</text>\n",
       "</g>\n",
       "<!-- \\(BH_&quot;St4&quot;\\)&#45;&gt;\\(BH_BH\\) -->\n",
       "<g id=\"edge3\" class=\"edge\"><title>\\(BH_&quot;St4&quot;\\)&#45;&gt;\\(BH_BH\\)</title>\n",
       "<path fill=\"none\" stroke=\"black\" d=\"M541.291,-142.552C552.033,-142.477 563.295,-142.397 574.018,-142.322\"/>\n",
       "<polygon fill=\"black\" stroke=\"black\" points=\"574.123,-145.821 584.098,-142.25 574.074,-138.821 574.123,-145.821\"/>\n",
       "<text text-anchor=\"middle\" x=\"562.723\" y=\"-145.739\" font-family=\"Times,serif\" font-size=\"14.00\">b</text>\n",
       "</g>\n",
       "<!-- \\(BH_&quot;St4&quot;\\)&#45;&gt;\\(BH_BH\\) -->\n",
       "<g id=\"edge6\" class=\"edge\"><title>\\(BH_&quot;St4&quot;\\)&#45;&gt;\\(BH_BH\\)</title>\n",
       "<path fill=\"none\" stroke=\"black\" d=\"M538.58,-125.707C547.741,-124.247 557.224,-123.727 566.223,-124.939 569.486,-125.378 572.82,-125.942 576.165,-126.596\"/>\n",
       "<polygon fill=\"black\" stroke=\"black\" points=\"575.658,-130.068 586.175,-128.793 577.158,-123.23 575.658,-130.068\"/>\n",
       "<text text-anchor=\"middle\" x=\"562.723\" y=\"-127.739\" font-family=\"Times,serif\" font-size=\"14.00\">a</text>\n",
       "</g>\n",
       "</g>\n",
       "</svg>\n"
      ],
      "text/plain": [
       "<graphviz.dot.Digraph at 0x108b9f0b8>"
      ]
     },
     "execution_count": 15,
     "metadata": {},
     "output_type": "execute_result"
    }
   ],
   "source": [
    "dotObj_dfa(D1or2p)"
   ]
  },
  {
   "cell_type": "code",
   "execution_count": 16,
   "metadata": {
    "run_control": {
     "frozen": false,
     "read_only": false
    }
   },
   "outputs": [
    {
     "name": "stdout",
     "output_type": "stream",
     "text": [
      "Intersection on DFA with different alphabets.\n",
      "Making alphabets the same (taking unions).\n"
     ]
    },
    {
     "data": {
      "image/svg+xml": [
       "<?xml version=\"1.0\" encoding=\"UTF-8\" standalone=\"no\"?>\n",
       "<!DOCTYPE svg PUBLIC \"-//W3C//DTD SVG 1.1//EN\"\n",
       " \"http://www.w3.org/Graphics/SVG/1.1/DTD/svg11.dtd\">\n",
       "<!-- Generated by graphviz version 2.38.0 (20140413.2041)\n",
       " -->\n",
       "<!-- Title: %3 Pages: 1 -->\n",
       "<svg width=\"202pt\" height=\"175pt\"\n",
       " viewBox=\"0.00 0.00 202.44 175.44\" xmlns=\"http://www.w3.org/2000/svg\" xmlns:xlink=\"http://www.w3.org/1999/xlink\">\n",
       "<g id=\"graph0\" class=\"graph\" transform=\"scale(1 1) rotate(0) translate(4 171.441)\">\n",
       "<title>%3</title>\n",
       "<polygon fill=\"white\" stroke=\"none\" points=\"-4,4 -4,-171.441 198.441,-171.441 198.441,4 -4,4\"/>\n",
       "<!-- EMPTY -->\n",
       "<g id=\"node1\" class=\"node\"><title>EMPTY</title>\n",
       "</g>\n",
       "<!-- \\(BH_&quot;St4&quot;\\) -->\n",
       "<g id=\"node2\" class=\"node\"><title>\\(BH_&quot;St4&quot;\\)</title>\n",
       "<ellipse fill=\"none\" stroke=\"black\" cx=\"142.72\" cy=\"-51.7203\" rx=\"51.9416\" ry=\"51.9416\"/>\n",
       "<text text-anchor=\"middle\" x=\"142.72\" y=\"-47.5203\" font-family=\"Times,serif\" font-size=\"14.00\">(BH_&quot;St4&quot;)</text>\n",
       "</g>\n",
       "<!-- EMPTY&#45;&gt;\\(BH_&quot;St4&quot;\\) -->\n",
       "<g id=\"edge1\" class=\"edge\"><title>EMPTY&#45;&gt;\\(BH_&quot;St4&quot;\\)</title>\n",
       "<path fill=\"none\" stroke=\"black\" d=\"M54.0897,-51.7203C62.0837,-51.7203 71.2388,-51.7203 80.5489,-51.7203\"/>\n",
       "<polygon fill=\"black\" stroke=\"black\" points=\"80.6647,-55.2204 90.6646,-51.7203 80.6646,-48.2204 80.6647,-55.2204\"/>\n",
       "</g>\n",
       "<!-- \\(BH_&quot;St4&quot;\\)&#45;&gt;\\(BH_&quot;St4&quot;\\) -->\n",
       "<g id=\"edge2\" class=\"edge\"><title>\\(BH_&quot;St4&quot;\\)&#45;&gt;\\(BH_&quot;St4&quot;\\)</title>\n",
       "<path fill=\"none\" stroke=\"black\" d=\"M136.389,-103.102C137.055,-113.77 139.166,-121.441 142.72,-121.441 144.998,-121.441 146.682,-118.292 147.774,-113.225\"/>\n",
       "<polygon fill=\"black\" stroke=\"black\" points=\"151.272,-113.462 149.052,-103.102 144.327,-112.585 151.272,-113.462\"/>\n",
       "<text text-anchor=\"middle\" x=\"142.72\" y=\"-124.241\" font-family=\"Times,serif\" font-size=\"14.00\">a</text>\n",
       "</g>\n",
       "<!-- \\(BH_&quot;St4&quot;\\)&#45;&gt;\\(BH_&quot;St4&quot;\\) -->\n",
       "<g id=\"edge3\" class=\"edge\"><title>\\(BH_&quot;St4&quot;\\)&#45;&gt;\\(BH_&quot;St4&quot;\\)</title>\n",
       "<path fill=\"none\" stroke=\"black\" d=\"M129.675,-102.201C128.938,-122.447 133.287,-139.441 142.72,-139.441 150.533,-139.441 154.857,-127.787 155.695,-112.282\"/>\n",
       "<polygon fill=\"black\" stroke=\"black\" points=\"159.195,-112.225 155.765,-102.201 152.195,-112.176 159.195,-112.225\"/>\n",
       "<text text-anchor=\"middle\" x=\"142.72\" y=\"-142.241\" font-family=\"Times,serif\" font-size=\"14.00\">b</text>\n",
       "</g>\n",
       "</g>\n",
       "</svg>\n"
      ],
      "text/plain": [
       "<graphviz.dot.Digraph at 0x108b9f940>"
      ]
     },
     "execution_count": 16,
     "metadata": {},
     "output_type": "execute_result"
    }
   ],
   "source": [
    "D1and2 = min_dfa(intersect_dfa(D1,D2))\n",
    "D1and2p = pruneUnreach(D1and2)\n",
    "dotObj_dfa(D1and2)"
   ]
  },
  {
   "cell_type": "code",
   "execution_count": 17,
   "metadata": {
    "run_control": {
     "frozen": false,
     "read_only": false
    }
   },
   "outputs": [
    {
     "data": {
      "image/svg+xml": [
       "<?xml version=\"1.0\" encoding=\"UTF-8\" standalone=\"no\"?>\n",
       "<!DOCTYPE svg PUBLIC \"-//W3C//DTD SVG 1.1//EN\"\n",
       " \"http://www.w3.org/Graphics/SVG/1.1/DTD/svg11.dtd\">\n",
       "<!-- Generated by graphviz version 2.38.0 (20140413.2041)\n",
       " -->\n",
       "<!-- Title: %3 Pages: 1 -->\n",
       "<svg width=\"202pt\" height=\"175pt\"\n",
       " viewBox=\"0.00 0.00 202.44 175.44\" xmlns=\"http://www.w3.org/2000/svg\" xmlns:xlink=\"http://www.w3.org/1999/xlink\">\n",
       "<g id=\"graph0\" class=\"graph\" transform=\"scale(1 1) rotate(0) translate(4 171.441)\">\n",
       "<title>%3</title>\n",
       "<polygon fill=\"white\" stroke=\"none\" points=\"-4,4 -4,-171.441 198.441,-171.441 198.441,4 -4,4\"/>\n",
       "<!-- EMPTY -->\n",
       "<g id=\"node1\" class=\"node\"><title>EMPTY</title>\n",
       "</g>\n",
       "<!-- \\(BH_&quot;St4&quot;\\) -->\n",
       "<g id=\"node2\" class=\"node\"><title>\\(BH_&quot;St4&quot;\\)</title>\n",
       "<ellipse fill=\"none\" stroke=\"black\" cx=\"142.72\" cy=\"-51.7203\" rx=\"51.9416\" ry=\"51.9416\"/>\n",
       "<text text-anchor=\"middle\" x=\"142.72\" y=\"-47.5203\" font-family=\"Times,serif\" font-size=\"14.00\">(BH_&quot;St4&quot;)</text>\n",
       "</g>\n",
       "<!-- EMPTY&#45;&gt;\\(BH_&quot;St4&quot;\\) -->\n",
       "<g id=\"edge1\" class=\"edge\"><title>EMPTY&#45;&gt;\\(BH_&quot;St4&quot;\\)</title>\n",
       "<path fill=\"none\" stroke=\"black\" d=\"M54.0897,-51.7203C62.0837,-51.7203 71.2388,-51.7203 80.5489,-51.7203\"/>\n",
       "<polygon fill=\"black\" stroke=\"black\" points=\"80.6647,-55.2204 90.6646,-51.7203 80.6646,-48.2204 80.6647,-55.2204\"/>\n",
       "</g>\n",
       "<!-- \\(BH_&quot;St4&quot;\\)&#45;&gt;\\(BH_&quot;St4&quot;\\) -->\n",
       "<g id=\"edge2\" class=\"edge\"><title>\\(BH_&quot;St4&quot;\\)&#45;&gt;\\(BH_&quot;St4&quot;\\)</title>\n",
       "<path fill=\"none\" stroke=\"black\" d=\"M136.389,-103.102C137.055,-113.77 139.166,-121.441 142.72,-121.441 144.998,-121.441 146.682,-118.292 147.774,-113.225\"/>\n",
       "<polygon fill=\"black\" stroke=\"black\" points=\"151.272,-113.462 149.052,-103.102 144.327,-112.585 151.272,-113.462\"/>\n",
       "<text text-anchor=\"middle\" x=\"142.72\" y=\"-124.241\" font-family=\"Times,serif\" font-size=\"14.00\">b</text>\n",
       "</g>\n",
       "<!-- \\(BH_&quot;St4&quot;\\)&#45;&gt;\\(BH_&quot;St4&quot;\\) -->\n",
       "<g id=\"edge3\" class=\"edge\"><title>\\(BH_&quot;St4&quot;\\)&#45;&gt;\\(BH_&quot;St4&quot;\\)</title>\n",
       "<path fill=\"none\" stroke=\"black\" d=\"M129.675,-102.201C128.938,-122.447 133.287,-139.441 142.72,-139.441 150.533,-139.441 154.857,-127.787 155.695,-112.282\"/>\n",
       "<polygon fill=\"black\" stroke=\"black\" points=\"159.195,-112.225 155.765,-102.201 152.195,-112.176 159.195,-112.225\"/>\n",
       "<text text-anchor=\"middle\" x=\"142.72\" y=\"-142.241\" font-family=\"Times,serif\" font-size=\"14.00\">a</text>\n",
       "</g>\n",
       "</g>\n",
       "</svg>\n"
      ],
      "text/plain": [
       "<graphviz.dot.Digraph at 0x108b9f7f0>"
      ]
     },
     "execution_count": 17,
     "metadata": {},
     "output_type": "execute_result"
    }
   ],
   "source": [
    "dotObj_dfa(D1and2p)"
   ]
  },
  {
   "cell_type": "code",
   "execution_count": 18,
   "metadata": {
    "run_control": {
     "frozen": false,
     "read_only": false
    }
   },
   "outputs": [
    {
     "name": "stdout",
     "output_type": "stream",
     "text": [
      "The DFA are NOT language equivalent!\n",
      "Path leading to counterexample is: \n",
      "[(\"{'St1'}\", \"{'St1'}\"), (\"{'St2', 'St3'}\", \"{'St2', 'St3'}\"), (\"{'St4', 'St5'}\", \"{'St4', 'St5'}\"), (\"{'St6', 'St7'}\", \"{'St6', 'St7'}\"), (\"{'St8', 'St9'}\", 'BH'), (\"{'St10'}\", 'BH')]\n"
     ]
    },
    {
     "name": "stderr",
     "output_type": "stream",
     "text": [
      "Generating LALR tables\n",
      "Generating LALR tables\n"
     ]
    },
    {
     "data": {
      "text/plain": [
       "False"
      ]
     },
     "execution_count": 18,
     "metadata": {},
     "output_type": "execute_result"
    }
   ],
   "source": [
    "d1=nfa2dfa(re2nfa(\"abcde\"))\n",
    "d2=nfa2dfa(re2nfa(\"abced\"))\n",
    "langeq_dfa(d1,d2,True)"
   ]
  },
  {
   "cell_type": "code",
   "execution_count": 19,
   "metadata": {
    "run_control": {
     "frozen": false,
     "read_only": false
    }
   },
   "outputs": [
    {
     "data": {
      "image/svg+xml": [
       "<?xml version=\"1.0\" encoding=\"UTF-8\" standalone=\"no\"?>\n",
       "<!DOCTYPE svg PUBLIC \"-//W3C//DTD SVG 1.1//EN\"\n",
       " \"http://www.w3.org/Graphics/SVG/1.1/DTD/svg11.dtd\">\n",
       "<!-- Generated by graphviz version 2.38.0 (20140413.2041)\n",
       " -->\n",
       "<!-- Title: %3 Pages: 1 -->\n",
       "<svg width=\"721pt\" height=\"84pt\"\n",
       " viewBox=\"0.00 0.00 721.08 84.25\" xmlns=\"http://www.w3.org/2000/svg\" xmlns:xlink=\"http://www.w3.org/1999/xlink\">\n",
       "<g id=\"graph0\" class=\"graph\" transform=\"scale(1 1) rotate(0) translate(4 80.2453)\">\n",
       "<title>%3</title>\n",
       "<polygon fill=\"white\" stroke=\"none\" points=\"-4,4 -4,-80.2453 717.082,-80.2453 717.082,4 -4,4\"/>\n",
       "<!-- EMPTY -->\n",
       "<g id=\"node1\" class=\"node\"><title>EMPTY</title>\n",
       "</g>\n",
       "<!-- St1 -->\n",
       "<g id=\"node5\" class=\"node\"><title>St1</title>\n",
       "<ellipse fill=\"none\" stroke=\"black\" cx=\"112.904\" cy=\"-38.1226\" rx=\"21.8081\" ry=\"21.8081\"/>\n",
       "<text text-anchor=\"middle\" x=\"112.904\" y=\"-33.9226\" font-family=\"Times,serif\" font-size=\"14.00\">St1</text>\n",
       "</g>\n",
       "<!-- EMPTY&#45;&gt;St1 -->\n",
       "<g id=\"edge1\" class=\"edge\"><title>EMPTY&#45;&gt;St1</title>\n",
       "<path fill=\"none\" stroke=\"black\" d=\"M54.0878,-38.1226C62.501,-38.1226 71.9126,-38.1226 80.6587,-38.1226\"/>\n",
       "<polygon fill=\"black\" stroke=\"black\" points=\"80.8854,-41.6227 90.8853,-38.1226 80.8853,-34.6227 80.8854,-41.6227\"/>\n",
       "</g>\n",
       "<!-- St6_St7 -->\n",
       "<g id=\"node2\" class=\"node\"><title>St6_St7</title>\n",
       "<ellipse fill=\"none\" stroke=\"black\" cx=\"452.849\" cy=\"-38.1226\" rx=\"38.2457\" ry=\"38.2457\"/>\n",
       "<text text-anchor=\"middle\" x=\"452.849\" y=\"-33.9226\" font-family=\"Times,serif\" font-size=\"14.00\">St6_St7</text>\n",
       "</g>\n",
       "<!-- St8_St9 -->\n",
       "<g id=\"node3\" class=\"node\"><title>St8_St9</title>\n",
       "<ellipse fill=\"none\" stroke=\"black\" cx=\"572.094\" cy=\"-38.1226\" rx=\"38.2457\" ry=\"38.2457\"/>\n",
       "<text text-anchor=\"middle\" x=\"572.094\" y=\"-33.9226\" font-family=\"Times,serif\" font-size=\"14.00\">St8_St9</text>\n",
       "</g>\n",
       "<!-- St6_St7&#45;&gt;St8_St9 -->\n",
       "<g id=\"edge5\" class=\"edge\"><title>St6_St7&#45;&gt;St8_St9</title>\n",
       "<path fill=\"none\" stroke=\"black\" d=\"M491.268,-38.1226C501.527,-38.1226 512.787,-38.1226 523.533,-38.1226\"/>\n",
       "<polygon fill=\"black\" stroke=\"black\" points=\"523.628,-41.6227 533.628,-38.1226 523.628,-34.6227 523.628,-41.6227\"/>\n",
       "<text text-anchor=\"middle\" x=\"512.471\" y=\"-40.9226\" font-family=\"Times,serif\" font-size=\"14.00\">d</text>\n",
       "</g>\n",
       "<!-- St10 -->\n",
       "<g id=\"node7\" class=\"node\"><title>St10</title>\n",
       "<ellipse fill=\"none\" stroke=\"black\" cx=\"682.756\" cy=\"-38.1226\" rx=\"26.1751\" ry=\"26.1751\"/>\n",
       "<ellipse fill=\"none\" stroke=\"black\" cx=\"682.756\" cy=\"-38.1226\" rx=\"30.1522\" ry=\"30.1522\"/>\n",
       "<text text-anchor=\"middle\" x=\"682.756\" y=\"-33.9226\" font-family=\"Times,serif\" font-size=\"14.00\">St10</text>\n",
       "</g>\n",
       "<!-- St8_St9&#45;&gt;St10 -->\n",
       "<g id=\"edge6\" class=\"edge\"><title>St8_St9&#45;&gt;St10</title>\n",
       "<path fill=\"none\" stroke=\"black\" d=\"M610.489,-38.1226C620.711,-38.1226 631.821,-38.1226 642.161,-38.1226\"/>\n",
       "<polygon fill=\"black\" stroke=\"black\" points=\"642.183,-41.6227 652.183,-38.1226 642.183,-34.6227 642.183,-41.6227\"/>\n",
       "<text text-anchor=\"middle\" x=\"631.324\" y=\"-40.9226\" font-family=\"Times,serif\" font-size=\"14.00\">e</text>\n",
       "</g>\n",
       "<!-- St2_St3 -->\n",
       "<g id=\"node4\" class=\"node\"><title>St2_St3</title>\n",
       "<ellipse fill=\"none\" stroke=\"black\" cx=\"215.144\" cy=\"-38.1226\" rx=\"38.2457\" ry=\"38.2457\"/>\n",
       "<text text-anchor=\"middle\" x=\"215.144\" y=\"-33.9226\" font-family=\"Times,serif\" font-size=\"14.00\">St2_St3</text>\n",
       "</g>\n",
       "<!-- St4_St5 -->\n",
       "<g id=\"node6\" class=\"node\"><title>St4_St5</title>\n",
       "<ellipse fill=\"none\" stroke=\"black\" cx=\"334.39\" cy=\"-38.1226\" rx=\"38.2457\" ry=\"38.2457\"/>\n",
       "<text text-anchor=\"middle\" x=\"334.39\" y=\"-33.9226\" font-family=\"Times,serif\" font-size=\"14.00\">St4_St5</text>\n",
       "</g>\n",
       "<!-- St2_St3&#45;&gt;St4_St5 -->\n",
       "<g id=\"edge3\" class=\"edge\"><title>St2_St3&#45;&gt;St4_St5</title>\n",
       "<path fill=\"none\" stroke=\"black\" d=\"M253.564,-38.1226C263.823,-38.1226 275.083,-38.1226 285.828,-38.1226\"/>\n",
       "<polygon fill=\"black\" stroke=\"black\" points=\"285.923,-41.6227 295.923,-38.1226 285.923,-34.6227 285.923,-41.6227\"/>\n",
       "<text text-anchor=\"middle\" x=\"274.767\" y=\"-40.9226\" font-family=\"Times,serif\" font-size=\"14.00\">b</text>\n",
       "</g>\n",
       "<!-- St1&#45;&gt;St2_St3 -->\n",
       "<g id=\"edge2\" class=\"edge\"><title>St1&#45;&gt;St2_St3</title>\n",
       "<path fill=\"none\" stroke=\"black\" d=\"M135.162,-38.1226C144.402,-38.1226 155.628,-38.1226 166.68,-38.1226\"/>\n",
       "<polygon fill=\"black\" stroke=\"black\" points=\"166.72,-41.6227 176.72,-38.1226 166.72,-34.6227 166.72,-41.6227\"/>\n",
       "<text text-anchor=\"middle\" x=\"155.915\" y=\"-40.9226\" font-family=\"Times,serif\" font-size=\"14.00\">a</text>\n",
       "</g>\n",
       "<!-- St4_St5&#45;&gt;St6_St7 -->\n",
       "<g id=\"edge4\" class=\"edge\"><title>St4_St5&#45;&gt;St6_St7</title>\n",
       "<path fill=\"none\" stroke=\"black\" d=\"M372.558,-38.1226C382.748,-38.1226 393.933,-38.1226 404.606,-38.1226\"/>\n",
       "<polygon fill=\"black\" stroke=\"black\" points=\"404.634,-41.6227 414.634,-38.1226 404.634,-34.6227 404.634,-41.6227\"/>\n",
       "<text text-anchor=\"middle\" x=\"393.619\" y=\"-40.9226\" font-family=\"Times,serif\" font-size=\"14.00\">c</text>\n",
       "</g>\n",
       "</g>\n",
       "</svg>\n"
      ],
      "text/plain": [
       "<graphviz.dot.Digraph at 0x108bba390>"
      ]
     },
     "execution_count": 19,
     "metadata": {},
     "output_type": "execute_result"
    }
   ],
   "source": [
    "dotObj_dfa(d1)"
   ]
  },
  {
   "cell_type": "code",
   "execution_count": 20,
   "metadata": {
    "run_control": {
     "frozen": false,
     "read_only": false
    }
   },
   "outputs": [
    {
     "data": {
      "image/svg+xml": [
       "<?xml version=\"1.0\" encoding=\"UTF-8\" standalone=\"no\"?>\n",
       "<!DOCTYPE svg PUBLIC \"-//W3C//DTD SVG 1.1//EN\"\n",
       " \"http://www.w3.org/Graphics/SVG/1.1/DTD/svg11.dtd\">\n",
       "<!-- Generated by graphviz version 2.38.0 (20140413.2041)\n",
       " -->\n",
       "<!-- Title: %3 Pages: 1 -->\n",
       "<svg width=\"721pt\" height=\"84pt\"\n",
       " viewBox=\"0.00 0.00 721.08 84.25\" xmlns=\"http://www.w3.org/2000/svg\" xmlns:xlink=\"http://www.w3.org/1999/xlink\">\n",
       "<g id=\"graph0\" class=\"graph\" transform=\"scale(1 1) rotate(0) translate(4 80.2453)\">\n",
       "<title>%3</title>\n",
       "<polygon fill=\"white\" stroke=\"none\" points=\"-4,4 -4,-80.2453 717.082,-80.2453 717.082,4 -4,4\"/>\n",
       "<!-- EMPTY -->\n",
       "<g id=\"node1\" class=\"node\"><title>EMPTY</title>\n",
       "</g>\n",
       "<!-- St1 -->\n",
       "<g id=\"node5\" class=\"node\"><title>St1</title>\n",
       "<ellipse fill=\"none\" stroke=\"black\" cx=\"112.904\" cy=\"-38.1226\" rx=\"21.8081\" ry=\"21.8081\"/>\n",
       "<text text-anchor=\"middle\" x=\"112.904\" y=\"-33.9226\" font-family=\"Times,serif\" font-size=\"14.00\">St1</text>\n",
       "</g>\n",
       "<!-- EMPTY&#45;&gt;St1 -->\n",
       "<g id=\"edge1\" class=\"edge\"><title>EMPTY&#45;&gt;St1</title>\n",
       "<path fill=\"none\" stroke=\"black\" d=\"M54.0878,-38.1226C62.501,-38.1226 71.9126,-38.1226 80.6587,-38.1226\"/>\n",
       "<polygon fill=\"black\" stroke=\"black\" points=\"80.8854,-41.6227 90.8853,-38.1226 80.8853,-34.6227 80.8854,-41.6227\"/>\n",
       "</g>\n",
       "<!-- St6_St7 -->\n",
       "<g id=\"node2\" class=\"node\"><title>St6_St7</title>\n",
       "<ellipse fill=\"none\" stroke=\"black\" cx=\"452.849\" cy=\"-38.1226\" rx=\"38.2457\" ry=\"38.2457\"/>\n",
       "<text text-anchor=\"middle\" x=\"452.849\" y=\"-33.9226\" font-family=\"Times,serif\" font-size=\"14.00\">St6_St7</text>\n",
       "</g>\n",
       "<!-- St8_St9 -->\n",
       "<g id=\"node3\" class=\"node\"><title>St8_St9</title>\n",
       "<ellipse fill=\"none\" stroke=\"black\" cx=\"571.308\" cy=\"-38.1226\" rx=\"38.2457\" ry=\"38.2457\"/>\n",
       "<text text-anchor=\"middle\" x=\"571.308\" y=\"-33.9226\" font-family=\"Times,serif\" font-size=\"14.00\">St8_St9</text>\n",
       "</g>\n",
       "<!-- St6_St7&#45;&gt;St8_St9 -->\n",
       "<g id=\"edge5\" class=\"edge\"><title>St6_St7&#45;&gt;St8_St9</title>\n",
       "<path fill=\"none\" stroke=\"black\" d=\"M491.017,-38.1226C501.207,-38.1226 512.392,-38.1226 523.065,-38.1226\"/>\n",
       "<polygon fill=\"black\" stroke=\"black\" points=\"523.093,-41.6227 533.093,-38.1226 523.093,-34.6227 523.093,-41.6227\"/>\n",
       "<text text-anchor=\"middle\" x=\"512.078\" y=\"-40.9226\" font-family=\"Times,serif\" font-size=\"14.00\">e</text>\n",
       "</g>\n",
       "<!-- St10 -->\n",
       "<g id=\"node7\" class=\"node\"><title>St10</title>\n",
       "<ellipse fill=\"none\" stroke=\"black\" cx=\"682.756\" cy=\"-38.1226\" rx=\"26.1751\" ry=\"26.1751\"/>\n",
       "<ellipse fill=\"none\" stroke=\"black\" cx=\"682.756\" cy=\"-38.1226\" rx=\"30.1522\" ry=\"30.1522\"/>\n",
       "<text text-anchor=\"middle\" x=\"682.756\" y=\"-33.9226\" font-family=\"Times,serif\" font-size=\"14.00\">St10</text>\n",
       "</g>\n",
       "<!-- St8_St9&#45;&gt;St10 -->\n",
       "<g id=\"edge6\" class=\"edge\"><title>St8_St9&#45;&gt;St10</title>\n",
       "<path fill=\"none\" stroke=\"black\" d=\"M609.668,-38.1226C620.071,-38.1226 631.409,-38.1226 641.948,-38.1226\"/>\n",
       "<polygon fill=\"black\" stroke=\"black\" points=\"642.156,-41.6227 652.156,-38.1226 642.156,-34.6227 642.156,-41.6227\"/>\n",
       "<text text-anchor=\"middle\" x=\"630.93\" y=\"-40.9226\" font-family=\"Times,serif\" font-size=\"14.00\">d</text>\n",
       "</g>\n",
       "<!-- St2_St3 -->\n",
       "<g id=\"node4\" class=\"node\"><title>St2_St3</title>\n",
       "<ellipse fill=\"none\" stroke=\"black\" cx=\"215.144\" cy=\"-38.1226\" rx=\"38.2457\" ry=\"38.2457\"/>\n",
       "<text text-anchor=\"middle\" x=\"215.144\" y=\"-33.9226\" font-family=\"Times,serif\" font-size=\"14.00\">St2_St3</text>\n",
       "</g>\n",
       "<!-- St4_St5 -->\n",
       "<g id=\"node6\" class=\"node\"><title>St4_St5</title>\n",
       "<ellipse fill=\"none\" stroke=\"black\" cx=\"334.39\" cy=\"-38.1226\" rx=\"38.2457\" ry=\"38.2457\"/>\n",
       "<text text-anchor=\"middle\" x=\"334.39\" y=\"-33.9226\" font-family=\"Times,serif\" font-size=\"14.00\">St4_St5</text>\n",
       "</g>\n",
       "<!-- St2_St3&#45;&gt;St4_St5 -->\n",
       "<g id=\"edge3\" class=\"edge\"><title>St2_St3&#45;&gt;St4_St5</title>\n",
       "<path fill=\"none\" stroke=\"black\" d=\"M253.564,-38.1226C263.823,-38.1226 275.083,-38.1226 285.828,-38.1226\"/>\n",
       "<polygon fill=\"black\" stroke=\"black\" points=\"285.923,-41.6227 295.923,-38.1226 285.923,-34.6227 285.923,-41.6227\"/>\n",
       "<text text-anchor=\"middle\" x=\"274.767\" y=\"-40.9226\" font-family=\"Times,serif\" font-size=\"14.00\">b</text>\n",
       "</g>\n",
       "<!-- St1&#45;&gt;St2_St3 -->\n",
       "<g id=\"edge2\" class=\"edge\"><title>St1&#45;&gt;St2_St3</title>\n",
       "<path fill=\"none\" stroke=\"black\" d=\"M135.162,-38.1226C144.402,-38.1226 155.628,-38.1226 166.68,-38.1226\"/>\n",
       "<polygon fill=\"black\" stroke=\"black\" points=\"166.72,-41.6227 176.72,-38.1226 166.72,-34.6227 166.72,-41.6227\"/>\n",
       "<text text-anchor=\"middle\" x=\"155.915\" y=\"-40.9226\" font-family=\"Times,serif\" font-size=\"14.00\">a</text>\n",
       "</g>\n",
       "<!-- St4_St5&#45;&gt;St6_St7 -->\n",
       "<g id=\"edge4\" class=\"edge\"><title>St4_St5&#45;&gt;St6_St7</title>\n",
       "<path fill=\"none\" stroke=\"black\" d=\"M372.558,-38.1226C382.748,-38.1226 393.933,-38.1226 404.606,-38.1226\"/>\n",
       "<polygon fill=\"black\" stroke=\"black\" points=\"404.634,-41.6227 414.634,-38.1226 404.634,-34.6227 404.634,-41.6227\"/>\n",
       "<text text-anchor=\"middle\" x=\"393.619\" y=\"-40.9226\" font-family=\"Times,serif\" font-size=\"14.00\">c</text>\n",
       "</g>\n",
       "</g>\n",
       "</svg>\n"
      ],
      "text/plain": [
       "<graphviz.dot.Digraph at 0x108bba668>"
      ]
     },
     "execution_count": 20,
     "metadata": {},
     "output_type": "execute_result"
    }
   ],
   "source": [
    "dotObj_dfa(d2)"
   ]
  },
  {
   "cell_type": "code",
   "execution_count": 21,
   "metadata": {
    "run_control": {
     "frozen": false,
     "read_only": false
    }
   },
   "outputs": [
    {
     "name": "stdout",
     "output_type": "stream",
     "text": [
      "The DFA are NOT language equivalent!\n",
      "Path leading to counterexample is: \n",
      "[('St3', 'St4'), ('St0', 'BH'), ('St5', 'BH')]\n"
     ]
    },
    {
     "name": "stderr",
     "output_type": "stream",
     "text": [
      "Generating LALR tables\n",
      "Generating LALR tables\n"
     ]
    },
    {
     "data": {
      "text/plain": [
       "False"
      ]
     },
     "execution_count": 21,
     "metadata": {},
     "output_type": "execute_result"
    }
   ],
   "source": [
    "d1a=nfa2dfa(re2nfa(\"aa*+bc\"))\n",
    "d2a=nfa2dfa(re2nfa(\"a(a*+bc)\"))\n",
    "langeq_dfa(d1a,d2a,True)"
   ]
  },
  {
   "cell_type": "code",
   "execution_count": 22,
   "metadata": {
    "run_control": {
     "frozen": false,
     "read_only": false
    }
   },
   "outputs": [
    {
     "data": {
      "image/svg+xml": [
       "<?xml version=\"1.0\" encoding=\"UTF-8\" standalone=\"no\"?>\n",
       "<!DOCTYPE svg PUBLIC \"-//W3C//DTD SVG 1.1//EN\"\n",
       " \"http://www.w3.org/Graphics/SVG/1.1/DTD/svg11.dtd\">\n",
       "<!-- Generated by graphviz version 2.38.0 (20140413.2041)\n",
       " -->\n",
       "<!-- Title: %3 Pages: 1 -->\n",
       "<svg width=\"332pt\" height=\"162pt\"\n",
       " viewBox=\"0.00 0.00 331.64 161.81\" xmlns=\"http://www.w3.org/2000/svg\" xmlns:xlink=\"http://www.w3.org/1999/xlink\">\n",
       "<g id=\"graph0\" class=\"graph\" transform=\"scale(1 1) rotate(0) translate(4 157.808)\">\n",
       "<title>%3</title>\n",
       "<polygon fill=\"white\" stroke=\"none\" points=\"-4,4 -4,-157.808 327.637,-157.808 327.637,4 -4,4\"/>\n",
       "<!-- EMPTY -->\n",
       "<g id=\"node1\" class=\"node\"><title>EMPTY</title>\n",
       "</g>\n",
       "<!-- St3 -->\n",
       "<g id=\"node2\" class=\"node\"><title>St3</title>\n",
       "<ellipse fill=\"none\" stroke=\"black\" cx=\"112.904\" cy=\"-77.9039\" rx=\"21.8081\" ry=\"21.8081\"/>\n",
       "<text text-anchor=\"middle\" x=\"112.904\" y=\"-73.7039\" font-family=\"Times,serif\" font-size=\"14.00\">St3</text>\n",
       "</g>\n",
       "<!-- EMPTY&#45;&gt;St3 -->\n",
       "<g id=\"edge1\" class=\"edge\"><title>EMPTY&#45;&gt;St3</title>\n",
       "<path fill=\"none\" stroke=\"black\" d=\"M54.0878,-77.9039C62.501,-77.9039 71.9126,-77.9039 80.6587,-77.9039\"/>\n",
       "<polygon fill=\"black\" stroke=\"black\" points=\"80.8854,-81.404 90.8853,-77.9039 80.8853,-74.404 80.8854,-81.404\"/>\n",
       "</g>\n",
       "<!-- St0 -->\n",
       "<g id=\"node3\" class=\"node\"><title>St0</title>\n",
       "<ellipse fill=\"none\" stroke=\"black\" cx=\"203.712\" cy=\"-109.904\" rx=\"21.8081\" ry=\"21.8081\"/>\n",
       "<text text-anchor=\"middle\" x=\"203.712\" y=\"-105.704\" font-family=\"Times,serif\" font-size=\"14.00\">St0</text>\n",
       "</g>\n",
       "<!-- St3&#45;&gt;St0 -->\n",
       "<g id=\"edge2\" class=\"edge\"><title>St3&#45;&gt;St0</title>\n",
       "<path fill=\"none\" stroke=\"black\" d=\"M134.056,-85.1652C145.719,-89.3678 160.602,-94.7307 173.528,-99.3883\"/>\n",
       "<polygon fill=\"black\" stroke=\"black\" points=\"172.351,-102.684 182.945,-102.782 174.724,-96.0988 172.351,-102.684\"/>\n",
       "<text text-anchor=\"middle\" x=\"156.308\" y=\"-96.7039\" font-family=\"Times,serif\" font-size=\"14.00\">b</text>\n",
       "</g>\n",
       "<!-- St4 -->\n",
       "<g id=\"node5\" class=\"node\"><title>St4</title>\n",
       "<ellipse fill=\"none\" stroke=\"black\" cx=\"203.712\" cy=\"-39.9039\" rx=\"21.8229\" ry=\"21.8229\"/>\n",
       "<ellipse fill=\"none\" stroke=\"black\" cx=\"203.712\" cy=\"-39.9039\" rx=\"25.8081\" ry=\"25.8081\"/>\n",
       "<text text-anchor=\"middle\" x=\"203.712\" y=\"-35.7039\" font-family=\"Times,serif\" font-size=\"14.00\">St4</text>\n",
       "</g>\n",
       "<!-- St3&#45;&gt;St4 -->\n",
       "<g id=\"edge3\" class=\"edge\"><title>St3&#45;&gt;St4</title>\n",
       "<path fill=\"none\" stroke=\"black\" d=\"M133.613,-69.4704C144.339,-64.8811 157.883,-59.0857 170.132,-53.8444\"/>\n",
       "<polygon fill=\"black\" stroke=\"black\" points=\"171.783,-56.9451 179.599,-49.7934 169.029,-50.5095 171.783,-56.9451\"/>\n",
       "<text text-anchor=\"middle\" x=\"156.308\" y=\"-64.7039\" font-family=\"Times,serif\" font-size=\"14.00\">a</text>\n",
       "</g>\n",
       "<!-- St5 -->\n",
       "<g id=\"node4\" class=\"node\"><title>St5</title>\n",
       "<ellipse fill=\"none\" stroke=\"black\" cx=\"297.733\" cy=\"-127.904\" rx=\"21.8229\" ry=\"21.8229\"/>\n",
       "<ellipse fill=\"none\" stroke=\"black\" cx=\"297.733\" cy=\"-127.904\" rx=\"25.8081\" ry=\"25.8081\"/>\n",
       "<text text-anchor=\"middle\" x=\"297.733\" y=\"-123.704\" font-family=\"Times,serif\" font-size=\"14.00\">St5</text>\n",
       "</g>\n",
       "<!-- St0&#45;&gt;St5 -->\n",
       "<g id=\"edge4\" class=\"edge\"><title>St0&#45;&gt;St5</title>\n",
       "<path fill=\"none\" stroke=\"black\" d=\"M225.593,-113.988C236.364,-116.095 249.786,-118.721 262.06,-121.122\"/>\n",
       "<polygon fill=\"black\" stroke=\"black\" points=\"261.53,-124.584 272.016,-123.069 262.874,-117.714 261.53,-124.584\"/>\n",
       "<text text-anchor=\"middle\" x=\"250.722\" y=\"-121.704\" font-family=\"Times,serif\" font-size=\"14.00\">c</text>\n",
       "</g>\n",
       "<!-- St1 -->\n",
       "<g id=\"node6\" class=\"node\"><title>St1</title>\n",
       "<ellipse fill=\"none\" stroke=\"black\" cx=\"297.733\" cy=\"-25.9039\" rx=\"21.8229\" ry=\"21.8229\"/>\n",
       "<ellipse fill=\"none\" stroke=\"black\" cx=\"297.733\" cy=\"-25.9039\" rx=\"25.8081\" ry=\"25.8081\"/>\n",
       "<text text-anchor=\"middle\" x=\"297.733\" y=\"-21.7039\" font-family=\"Times,serif\" font-size=\"14.00\">St1</text>\n",
       "</g>\n",
       "<!-- St4&#45;&gt;St1 -->\n",
       "<g id=\"edge5\" class=\"edge\"><title>St4&#45;&gt;St1</title>\n",
       "<path fill=\"none\" stroke=\"black\" d=\"M229.372,-36.1521C239.377,-34.6299 251.113,-32.8444 261.962,-31.1939\"/>\n",
       "<polygon fill=\"black\" stroke=\"black\" points=\"262.645,-34.6303 272.005,-29.666 261.592,-27.7099 262.645,-34.6303\"/>\n",
       "<text text-anchor=\"middle\" x=\"250.722\" y=\"-36.7039\" font-family=\"Times,serif\" font-size=\"14.00\">a</text>\n",
       "</g>\n",
       "<!-- St1&#45;&gt;St1 -->\n",
       "<g id=\"edge6\" class=\"edge\"><title>St1&#45;&gt;St1</title>\n",
       "<path fill=\"none\" stroke=\"black\" d=\"M289.184,-50.7276C288.594,-61.0541 291.444,-69.8077 297.733,-69.8077 301.762,-69.8077 304.38,-66.2152 305.585,-60.9182\"/>\n",
       "<polygon fill=\"black\" stroke=\"black\" points=\"309.092,-60.9431 306.282,-50.7276 302.108,-60.4654 309.092,-60.9431\"/>\n",
       "<text text-anchor=\"middle\" x=\"297.733\" y=\"-72.6077\" font-family=\"Times,serif\" font-size=\"14.00\">a</text>\n",
       "</g>\n",
       "</g>\n",
       "</svg>\n"
      ],
      "text/plain": [
       "<graphviz.dot.Digraph at 0x108bc4d68>"
      ]
     },
     "execution_count": 22,
     "metadata": {},
     "output_type": "execute_result"
    }
   ],
   "source": [
    "dotObj_dfa(d1a)"
   ]
  },
  {
   "cell_type": "code",
   "execution_count": 23,
   "metadata": {
    "run_control": {
     "frozen": false,
     "read_only": false
    }
   },
   "outputs": [
    {
     "data": {
      "image/svg+xml": [
       "<?xml version=\"1.0\" encoding=\"UTF-8\" standalone=\"no\"?>\n",
       "<!DOCTYPE svg PUBLIC \"-//W3C//DTD SVG 1.1//EN\"\n",
       " \"http://www.w3.org/Graphics/SVG/1.1/DTD/svg11.dtd\">\n",
       "<!-- Generated by graphviz version 2.38.0 (20140413.2041)\n",
       " -->\n",
       "<!-- Title: %3 Pages: 1 -->\n",
       "<svg width=\"426pt\" height=\"158pt\"\n",
       " viewBox=\"0.00 0.00 425.66 157.81\" xmlns=\"http://www.w3.org/2000/svg\" xmlns:xlink=\"http://www.w3.org/1999/xlink\">\n",
       "<g id=\"graph0\" class=\"graph\" transform=\"scale(1 1) rotate(0) translate(4 153.808)\">\n",
       "<title>%3</title>\n",
       "<polygon fill=\"white\" stroke=\"none\" points=\"-4,4 -4,-153.808 421.659,-153.808 421.659,4 -4,4\"/>\n",
       "<!-- EMPTY -->\n",
       "<g id=\"node1\" class=\"node\"><title>EMPTY</title>\n",
       "</g>\n",
       "<!-- St4 -->\n",
       "<g id=\"node3\" class=\"node\"><title>St4</title>\n",
       "<ellipse fill=\"none\" stroke=\"black\" cx=\"112.904\" cy=\"-81.9039\" rx=\"21.8081\" ry=\"21.8081\"/>\n",
       "<text text-anchor=\"middle\" x=\"112.904\" y=\"-77.7039\" font-family=\"Times,serif\" font-size=\"14.00\">St4</text>\n",
       "</g>\n",
       "<!-- EMPTY&#45;&gt;St4 -->\n",
       "<g id=\"edge1\" class=\"edge\"><title>EMPTY&#45;&gt;St4</title>\n",
       "<path fill=\"none\" stroke=\"black\" d=\"M54.0878,-81.9039C62.501,-81.9039 71.9126,-81.9039 80.6587,-81.9039\"/>\n",
       "<polygon fill=\"black\" stroke=\"black\" points=\"80.8854,-85.404 90.8853,-81.9039 80.8853,-78.404 80.8854,-85.404\"/>\n",
       "</g>\n",
       "<!-- St0 -->\n",
       "<g id=\"node2\" class=\"node\"><title>St0</title>\n",
       "<ellipse fill=\"none\" stroke=\"black\" cx=\"297.733\" cy=\"-123.904\" rx=\"21.8081\" ry=\"21.8081\"/>\n",
       "<text text-anchor=\"middle\" x=\"297.733\" y=\"-119.704\" font-family=\"Times,serif\" font-size=\"14.00\">St0</text>\n",
       "</g>\n",
       "<!-- St5 -->\n",
       "<g id=\"node4\" class=\"node\"><title>St5</title>\n",
       "<ellipse fill=\"none\" stroke=\"black\" cx=\"391.755\" cy=\"-123.904\" rx=\"21.8229\" ry=\"21.8229\"/>\n",
       "<ellipse fill=\"none\" stroke=\"black\" cx=\"391.755\" cy=\"-123.904\" rx=\"25.8081\" ry=\"25.8081\"/>\n",
       "<text text-anchor=\"middle\" x=\"391.755\" y=\"-119.704\" font-family=\"Times,serif\" font-size=\"14.00\">St5</text>\n",
       "</g>\n",
       "<!-- St0&#45;&gt;St5 -->\n",
       "<g id=\"edge5\" class=\"edge\"><title>St0&#45;&gt;St5</title>\n",
       "<path fill=\"none\" stroke=\"black\" d=\"M320.076,-123.904C330.589,-123.904 343.541,-123.904 355.473,-123.904\"/>\n",
       "<polygon fill=\"black\" stroke=\"black\" points=\"355.61,-127.404 365.609,-123.904 355.609,-120.404 355.61,-127.404\"/>\n",
       "<text text-anchor=\"middle\" x=\"344.744\" y=\"-126.704\" font-family=\"Times,serif\" font-size=\"14.00\">c</text>\n",
       "</g>\n",
       "<!-- St2 -->\n",
       "<g id=\"node6\" class=\"node\"><title>St2</title>\n",
       "<ellipse fill=\"none\" stroke=\"black\" cx=\"202.925\" cy=\"-81.9039\" rx=\"21.8229\" ry=\"21.8229\"/>\n",
       "<ellipse fill=\"none\" stroke=\"black\" cx=\"202.925\" cy=\"-81.9039\" rx=\"25.8081\" ry=\"25.8081\"/>\n",
       "<text text-anchor=\"middle\" x=\"202.925\" y=\"-77.7039\" font-family=\"Times,serif\" font-size=\"14.00\">St2</text>\n",
       "</g>\n",
       "<!-- St4&#45;&gt;St2 -->\n",
       "<g id=\"edge2\" class=\"edge\"><title>St4&#45;&gt;St2</title>\n",
       "<path fill=\"none\" stroke=\"black\" d=\"M135.211,-81.9039C144.599,-81.9039 155.884,-81.9039 166.479,-81.9039\"/>\n",
       "<polygon fill=\"black\" stroke=\"black\" points=\"166.75,-85.404 176.75,-81.9039 166.75,-78.404 166.75,-85.404\"/>\n",
       "<text text-anchor=\"middle\" x=\"155.915\" y=\"-84.7039\" font-family=\"Times,serif\" font-size=\"14.00\">a</text>\n",
       "</g>\n",
       "<!-- St1 -->\n",
       "<g id=\"node5\" class=\"node\"><title>St1</title>\n",
       "<ellipse fill=\"none\" stroke=\"black\" cx=\"297.733\" cy=\"-25.9039\" rx=\"21.8229\" ry=\"21.8229\"/>\n",
       "<ellipse fill=\"none\" stroke=\"black\" cx=\"297.733\" cy=\"-25.9039\" rx=\"25.8081\" ry=\"25.8081\"/>\n",
       "<text text-anchor=\"middle\" x=\"297.733\" y=\"-21.7039\" font-family=\"Times,serif\" font-size=\"14.00\">St1</text>\n",
       "</g>\n",
       "<!-- St1&#45;&gt;St1 -->\n",
       "<g id=\"edge6\" class=\"edge\"><title>St1&#45;&gt;St1</title>\n",
       "<path fill=\"none\" stroke=\"black\" d=\"M289.184,-50.7276C288.594,-61.0541 291.444,-69.8077 297.733,-69.8077 301.762,-69.8077 304.38,-66.2152 305.585,-60.9182\"/>\n",
       "<polygon fill=\"black\" stroke=\"black\" points=\"309.092,-60.9431 306.282,-50.7276 302.108,-60.4654 309.092,-60.9431\"/>\n",
       "<text text-anchor=\"middle\" x=\"297.733\" y=\"-72.6077\" font-family=\"Times,serif\" font-size=\"14.00\">a</text>\n",
       "</g>\n",
       "<!-- St2&#45;&gt;St0 -->\n",
       "<g id=\"edge3\" class=\"edge\"><title>St2&#45;&gt;St0</title>\n",
       "<path fill=\"none\" stroke=\"black\" d=\"M226.867,-92.2859C239.393,-97.9546 255.014,-105.024 268.308,-111.04\"/>\n",
       "<polygon fill=\"black\" stroke=\"black\" points=\"266.945,-114.265 277.498,-115.199 269.831,-107.887 266.945,-114.265\"/>\n",
       "<text text-anchor=\"middle\" x=\"250.329\" y=\"-107.704\" font-family=\"Times,serif\" font-size=\"14.00\">b</text>\n",
       "</g>\n",
       "<!-- St2&#45;&gt;St1 -->\n",
       "<g id=\"edge4\" class=\"edge\"><title>St2&#45;&gt;St1</title>\n",
       "<path fill=\"none\" stroke=\"black\" d=\"M225.451,-68.9156C237.546,-61.6175 252.842,-52.3875 266.162,-44.3507\"/>\n",
       "<polygon fill=\"black\" stroke=\"black\" points=\"268.249,-47.1788 275.003,-39.0157 264.633,-41.1853 268.249,-47.1788\"/>\n",
       "<text text-anchor=\"middle\" x=\"250.329\" y=\"-58.7039\" font-family=\"Times,serif\" font-size=\"14.00\">a</text>\n",
       "</g>\n",
       "</g>\n",
       "</svg>\n"
      ],
      "text/plain": [
       "<graphviz.dot.Digraph at 0x108bc4eb8>"
      ]
     },
     "execution_count": 23,
     "metadata": {},
     "output_type": "execute_result"
    }
   ],
   "source": [
    "dotObj_dfa(d2a)"
   ]
  },
  {
   "cell_type": "code",
   "execution_count": 24,
   "metadata": {
    "run_control": {
     "frozen": false,
     "read_only": false
    }
   },
   "outputs": [
    {
     "name": "stderr",
     "output_type": "stream",
     "text": [
      "Generating LALR tables\n",
      "Generating LALR tables\n"
     ]
    },
    {
     "data": {
      "text/plain": [
       "True"
      ]
     },
     "execution_count": 24,
     "metadata": {},
     "output_type": "execute_result"
    }
   ],
   "source": [
    "d1b=nfa2dfa(re2nfa(\"aaa*+aa*bc+bcaa*+bcbc\"))\n",
    "d2b=nfa2dfa(re2nfa(\"(aa*+bc)(aa*+bc)\"))\n",
    "langeq_dfa(d1b,d2b,True)"
   ]
  },
  {
   "cell_type": "code",
   "execution_count": 25,
   "metadata": {
    "run_control": {
     "frozen": false,
     "read_only": false
    }
   },
   "outputs": [
    {
     "data": {
      "image/svg+xml": [
       "<?xml version=\"1.0\" encoding=\"UTF-8\" standalone=\"no\"?>\n",
       "<!DOCTYPE svg PUBLIC \"-//W3C//DTD SVG 1.1//EN\"\n",
       " \"http://www.w3.org/Graphics/SVG/1.1/DTD/svg11.dtd\">\n",
       "<!-- Generated by graphviz version 2.38.0 (20140413.2041)\n",
       " -->\n",
       "<!-- Title: %3 Pages: 1 -->\n",
       "<svg width=\"624pt\" height=\"325pt\"\n",
       " viewBox=\"0.00 0.00 624.31 324.81\" xmlns=\"http://www.w3.org/2000/svg\" xmlns:xlink=\"http://www.w3.org/1999/xlink\">\n",
       "<g id=\"graph0\" class=\"graph\" transform=\"scale(1 1) rotate(0) translate(4 320.808)\">\n",
       "<title>%3</title>\n",
       "<polygon fill=\"white\" stroke=\"none\" points=\"-4,4 -4,-320.808 620.313,-320.808 620.313,4 -4,4\"/>\n",
       "<!-- EMPTY -->\n",
       "<g id=\"node1\" class=\"node\"><title>EMPTY</title>\n",
       "</g>\n",
       "<!-- St5 -->\n",
       "<g id=\"node5\" class=\"node\"><title>St5</title>\n",
       "<ellipse fill=\"none\" stroke=\"black\" cx=\"112.904\" cy=\"-197.904\" rx=\"21.8081\" ry=\"21.8081\"/>\n",
       "<text text-anchor=\"middle\" x=\"112.904\" y=\"-193.704\" font-family=\"Times,serif\" font-size=\"14.00\">St5</text>\n",
       "</g>\n",
       "<!-- EMPTY&#45;&gt;St5 -->\n",
       "<g id=\"edge1\" class=\"edge\"><title>EMPTY&#45;&gt;St5</title>\n",
       "<path fill=\"none\" stroke=\"black\" d=\"M54.0878,-197.904C62.501,-197.904 71.9126,-197.904 80.6587,-197.904\"/>\n",
       "<polygon fill=\"black\" stroke=\"black\" points=\"80.8854,-201.404 90.8853,-197.904 80.8853,-194.404 80.8854,-201.404\"/>\n",
       "</g>\n",
       "<!-- St1 -->\n",
       "<g id=\"node2\" class=\"node\"><title>St1</title>\n",
       "<ellipse fill=\"none\" stroke=\"black\" cx=\"199.712\" cy=\"-229.904\" rx=\"21.8081\" ry=\"21.8081\"/>\n",
       "<text text-anchor=\"middle\" x=\"199.712\" y=\"-225.704\" font-family=\"Times,serif\" font-size=\"14.00\">St1</text>\n",
       "</g>\n",
       "<!-- St7 -->\n",
       "<g id=\"node3\" class=\"node\"><title>St7</title>\n",
       "<ellipse fill=\"none\" stroke=\"black\" cx=\"496.388\" cy=\"-290.904\" rx=\"21.8081\" ry=\"21.8081\"/>\n",
       "<text text-anchor=\"middle\" x=\"496.388\" y=\"-286.704\" font-family=\"Times,serif\" font-size=\"14.00\">St7</text>\n",
       "</g>\n",
       "<!-- St1&#45;&gt;St7 -->\n",
       "<g id=\"edge5\" class=\"edge\"><title>St1&#45;&gt;St7</title>\n",
       "<path fill=\"none\" stroke=\"black\" d=\"M217.92,-242.43C230.208,-250.891 247.405,-261.776 263.829,-268.904 307.349,-287.79 319.85,-290.328 366.833,-296.904 401.454,-301.75 410.526,-297.682 445.484,-297.904 448.595,-297.924 449.383,-298.155 452.484,-297.904 456.32,-297.593 460.331,-297.128 464.294,-296.583\"/>\n",
       "<polygon fill=\"black\" stroke=\"black\" points=\"465.173,-299.989 474.522,-295.003 464.105,-293.071 465.173,-299.989\"/>\n",
       "<text text-anchor=\"middle\" x=\"345.333\" y=\"-296.704\" font-family=\"Times,serif\" font-size=\"14.00\">b</text>\n",
       "</g>\n",
       "<!-- St11 -->\n",
       "<g id=\"node11\" class=\"node\"><title>St11</title>\n",
       "<ellipse fill=\"none\" stroke=\"black\" cx=\"293.831\" cy=\"-229.904\" rx=\"26.0032\" ry=\"26.0032\"/>\n",
       "<ellipse fill=\"none\" stroke=\"black\" cx=\"293.831\" cy=\"-229.904\" rx=\"30.0035\" ry=\"30.0035\"/>\n",
       "<text text-anchor=\"middle\" x=\"293.831\" y=\"-225.704\" font-family=\"Times,serif\" font-size=\"14.00\">St11</text>\n",
       "</g>\n",
       "<!-- St1&#45;&gt;St11 -->\n",
       "<g id=\"edge6\" class=\"edge\"><title>St1&#45;&gt;St11</title>\n",
       "<path fill=\"none\" stroke=\"black\" d=\"M222.077,-229.904C231.422,-229.904 242.691,-229.904 253.462,-229.904\"/>\n",
       "<polygon fill=\"black\" stroke=\"black\" points=\"253.557,-233.404 263.557,-229.904 253.557,-226.404 253.557,-233.404\"/>\n",
       "<text text-anchor=\"middle\" x=\"242.722\" y=\"-232.704\" font-family=\"Times,serif\" font-size=\"14.00\">a</text>\n",
       "</g>\n",
       "<!-- St3 -->\n",
       "<g id=\"node9\" class=\"node\"><title>St3</title>\n",
       "<ellipse fill=\"none\" stroke=\"black\" cx=\"590.409\" cy=\"-290.904\" rx=\"21.8229\" ry=\"21.8229\"/>\n",
       "<ellipse fill=\"none\" stroke=\"black\" cx=\"590.409\" cy=\"-290.904\" rx=\"25.8081\" ry=\"25.8081\"/>\n",
       "<text text-anchor=\"middle\" x=\"590.409\" y=\"-286.704\" font-family=\"Times,serif\" font-size=\"14.00\">St3</text>\n",
       "</g>\n",
       "<!-- St7&#45;&gt;St3 -->\n",
       "<g id=\"edge9\" class=\"edge\"><title>St7&#45;&gt;St3</title>\n",
       "<path fill=\"none\" stroke=\"black\" d=\"M518.731,-290.904C529.243,-290.904 542.195,-290.904 554.128,-290.904\"/>\n",
       "<polygon fill=\"black\" stroke=\"black\" points=\"554.264,-294.404 564.264,-290.904 554.264,-287.404 554.264,-294.404\"/>\n",
       "<text text-anchor=\"middle\" x=\"543.399\" y=\"-293.704\" font-family=\"Times,serif\" font-size=\"14.00\">c</text>\n",
       "</g>\n",
       "<!-- St6 -->\n",
       "<g id=\"node4\" class=\"node\"><title>St6</title>\n",
       "<ellipse fill=\"none\" stroke=\"black\" cx=\"397.158\" cy=\"-122.904\" rx=\"21.8081\" ry=\"21.8081\"/>\n",
       "<text text-anchor=\"middle\" x=\"397.158\" y=\"-118.704\" font-family=\"Times,serif\" font-size=\"14.00\">St6</text>\n",
       "</g>\n",
       "<!-- St2 -->\n",
       "<g id=\"node12\" class=\"node\"><title>St2</title>\n",
       "<ellipse fill=\"none\" stroke=\"black\" cx=\"496.388\" cy=\"-127.904\" rx=\"21.8229\" ry=\"21.8229\"/>\n",
       "<ellipse fill=\"none\" stroke=\"black\" cx=\"496.388\" cy=\"-127.904\" rx=\"25.8081\" ry=\"25.8081\"/>\n",
       "<text text-anchor=\"middle\" x=\"496.388\" y=\"-123.704\" font-family=\"Times,serif\" font-size=\"14.00\">St2</text>\n",
       "</g>\n",
       "<!-- St6&#45;&gt;St2 -->\n",
       "<g id=\"edge12\" class=\"edge\"><title>St6&#45;&gt;St2</title>\n",
       "<path fill=\"none\" stroke=\"black\" d=\"M419.256,-123.989C431.184,-124.602 446.407,-125.385 460.101,-126.089\"/>\n",
       "<polygon fill=\"black\" stroke=\"black\" points=\"460.028,-129.59 470.195,-126.608 460.388,-122.599 460.028,-129.59\"/>\n",
       "<text text-anchor=\"middle\" x=\"448.984\" y=\"-128.704\" font-family=\"Times,serif\" font-size=\"14.00\">c</text>\n",
       "</g>\n",
       "<!-- St5&#45;&gt;St1 -->\n",
       "<g id=\"edge3\" class=\"edge\"><title>St5&#45;&gt;St1</title>\n",
       "<path fill=\"none\" stroke=\"black\" d=\"M133.574,-205.326C144.201,-209.336 157.533,-214.366 169.363,-218.83\"/>\n",
       "<polygon fill=\"black\" stroke=\"black\" points=\"168.263,-222.156 178.855,-222.411 170.734,-215.606 168.263,-222.156\"/>\n",
       "<text text-anchor=\"middle\" x=\"156.308\" y=\"-216.704\" font-family=\"Times,serif\" font-size=\"14.00\">a</text>\n",
       "</g>\n",
       "<!-- St9 -->\n",
       "<g id=\"node6\" class=\"node\"><title>St9</title>\n",
       "<ellipse fill=\"none\" stroke=\"black\" cx=\"199.712\" cy=\"-156.904\" rx=\"21.8081\" ry=\"21.8081\"/>\n",
       "<text text-anchor=\"middle\" x=\"199.712\" y=\"-152.704\" font-family=\"Times,serif\" font-size=\"14.00\">St9</text>\n",
       "</g>\n",
       "<!-- St5&#45;&gt;St9 -->\n",
       "<g id=\"edge2\" class=\"edge\"><title>St5&#45;&gt;St9</title>\n",
       "<path fill=\"none\" stroke=\"black\" d=\"M133.148,-188.6C144.1,-183.306 158.024,-176.574 170.222,-170.677\"/>\n",
       "<polygon fill=\"black\" stroke=\"black\" points=\"172.064,-173.674 179.544,-166.171 169.017,-167.372 172.064,-173.674\"/>\n",
       "<text text-anchor=\"middle\" x=\"156.308\" y=\"-181.704\" font-family=\"Times,serif\" font-size=\"14.00\">b</text>\n",
       "</g>\n",
       "<!-- St12 -->\n",
       "<g id=\"node7\" class=\"node\"><title>St12</title>\n",
       "<ellipse fill=\"none\" stroke=\"black\" cx=\"293.831\" cy=\"-122.904\" rx=\"26.1523\" ry=\"26.1523\"/>\n",
       "<text text-anchor=\"middle\" x=\"293.831\" y=\"-118.704\" font-family=\"Times,serif\" font-size=\"14.00\">St12</text>\n",
       "</g>\n",
       "<!-- St9&#45;&gt;St12 -->\n",
       "<g id=\"edge4\" class=\"edge\"><title>St9&#45;&gt;St12</title>\n",
       "<path fill=\"none\" stroke=\"black\" d=\"M220.7,-149.526C232.001,-145.355 246.424,-140.032 259.398,-135.243\"/>\n",
       "<polygon fill=\"black\" stroke=\"black\" points=\"260.792,-138.46 268.962,-131.714 258.369,-131.893 260.792,-138.46\"/>\n",
       "<text text-anchor=\"middle\" x=\"242.722\" y=\"-145.704\" font-family=\"Times,serif\" font-size=\"14.00\">c</text>\n",
       "</g>\n",
       "<!-- St12&#45;&gt;St6 -->\n",
       "<g id=\"edge7\" class=\"edge\"><title>St12&#45;&gt;St6</title>\n",
       "<path fill=\"none\" stroke=\"black\" d=\"M320.4,-122.904C333.855,-122.904 350.47,-122.904 364.707,-122.904\"/>\n",
       "<polygon fill=\"black\" stroke=\"black\" points=\"365.04,-126.404 375.04,-122.904 365.04,-119.404 365.04,-126.404\"/>\n",
       "<text text-anchor=\"middle\" x=\"345.333\" y=\"-125.704\" font-family=\"Times,serif\" font-size=\"14.00\">b</text>\n",
       "</g>\n",
       "<!-- St0 -->\n",
       "<g id=\"node10\" class=\"node\"><title>St0</title>\n",
       "<ellipse fill=\"none\" stroke=\"black\" cx=\"397.158\" cy=\"-52.9039\" rx=\"21.8229\" ry=\"21.8229\"/>\n",
       "<ellipse fill=\"none\" stroke=\"black\" cx=\"397.158\" cy=\"-52.9039\" rx=\"25.8081\" ry=\"25.8081\"/>\n",
       "<text text-anchor=\"middle\" x=\"397.158\" y=\"-48.7039\" font-family=\"Times,serif\" font-size=\"14.00\">St0</text>\n",
       "</g>\n",
       "<!-- St12&#45;&gt;St0 -->\n",
       "<g id=\"edge8\" class=\"edge\"><title>St12&#45;&gt;St0</title>\n",
       "<path fill=\"none\" stroke=\"black\" d=\"M315.826,-108.4C330.499,-98.2632 350.298,-84.5853 366.569,-73.3451\"/>\n",
       "<polygon fill=\"black\" stroke=\"black\" points=\"368.952,-75.9529 375.19,-67.3893 364.973,-70.1936 368.952,-75.9529\"/>\n",
       "<text text-anchor=\"middle\" x=\"345.333\" y=\"-93.7039\" font-family=\"Times,serif\" font-size=\"14.00\">a</text>\n",
       "</g>\n",
       "<!-- St8 -->\n",
       "<g id=\"node8\" class=\"node\"><title>St8</title>\n",
       "<ellipse fill=\"none\" stroke=\"black\" cx=\"496.388\" cy=\"-25.9039\" rx=\"21.8229\" ry=\"21.8229\"/>\n",
       "<ellipse fill=\"none\" stroke=\"black\" cx=\"496.388\" cy=\"-25.9039\" rx=\"25.8081\" ry=\"25.8081\"/>\n",
       "<text text-anchor=\"middle\" x=\"496.388\" y=\"-21.7039\" font-family=\"Times,serif\" font-size=\"14.00\">St8</text>\n",
       "</g>\n",
       "<!-- St8&#45;&gt;St8 -->\n",
       "<g id=\"edge16\" class=\"edge\"><title>St8&#45;&gt;St8</title>\n",
       "<path fill=\"none\" stroke=\"black\" d=\"M487.839,-50.7276C487.249,-61.0541 490.099,-69.8077 496.388,-69.8077 500.417,-69.8077 503.034,-66.2152 504.24,-60.9182\"/>\n",
       "<polygon fill=\"black\" stroke=\"black\" points=\"507.747,-60.9431 504.937,-50.7276 500.763,-60.4654 507.747,-60.9431\"/>\n",
       "<text text-anchor=\"middle\" x=\"496.388\" y=\"-72.6077\" font-family=\"Times,serif\" font-size=\"14.00\">a</text>\n",
       "</g>\n",
       "<!-- St0&#45;&gt;St8 -->\n",
       "<g id=\"edge13\" class=\"edge\"><title>St0&#45;&gt;St8</title>\n",
       "<path fill=\"none\" stroke=\"black\" d=\"M422.193,-46.2297C433.996,-42.952 448.423,-38.9458 461.338,-35.3593\"/>\n",
       "<polygon fill=\"black\" stroke=\"black\" points=\"462.594,-38.643 471.293,-32.5948 460.721,-31.8982 462.594,-38.643\"/>\n",
       "<text text-anchor=\"middle\" x=\"448.984\" y=\"-42.7039\" font-family=\"Times,serif\" font-size=\"14.00\">a</text>\n",
       "</g>\n",
       "<!-- St11&#45;&gt;St7 -->\n",
       "<g id=\"edge10\" class=\"edge\"><title>St11&#45;&gt;St7</title>\n",
       "<path fill=\"none\" stroke=\"black\" d=\"M320.554,-243.853C334.024,-250.69 350.977,-258.577 366.833,-263.904 399.324,-274.819 437.973,-282.224 464.352,-286.478\"/>\n",
       "<polygon fill=\"black\" stroke=\"black\" points=\"464.089,-289.979 474.508,-288.058 465.165,-283.062 464.089,-289.979\"/>\n",
       "<text text-anchor=\"middle\" x=\"397.158\" y=\"-281.704\" font-family=\"Times,serif\" font-size=\"14.00\">b</text>\n",
       "</g>\n",
       "<!-- St10 -->\n",
       "<g id=\"node13\" class=\"node\"><title>St10</title>\n",
       "<ellipse fill=\"none\" stroke=\"black\" cx=\"397.158\" cy=\"-192.904\" rx=\"26.1751\" ry=\"26.1751\"/>\n",
       "<ellipse fill=\"none\" stroke=\"black\" cx=\"397.158\" cy=\"-192.904\" rx=\"30.1522\" ry=\"30.1522\"/>\n",
       "<text text-anchor=\"middle\" x=\"397.158\" y=\"-188.704\" font-family=\"Times,serif\" font-size=\"14.00\">St10</text>\n",
       "</g>\n",
       "<!-- St11&#45;&gt;St10 -->\n",
       "<g id=\"edge11\" class=\"edge\"><title>St11&#45;&gt;St10</title>\n",
       "<path fill=\"none\" stroke=\"black\" d=\"M322.252,-219.891C333.536,-215.771 346.784,-210.933 358.924,-206.5\"/>\n",
       "<polygon fill=\"black\" stroke=\"black\" points=\"360.171,-209.771 368.363,-203.053 357.77,-203.196 360.171,-209.771\"/>\n",
       "<text text-anchor=\"middle\" x=\"345.333\" y=\"-214.704\" font-family=\"Times,serif\" font-size=\"14.00\">a</text>\n",
       "</g>\n",
       "<!-- St10&#45;&gt;St7 -->\n",
       "<g id=\"edge14\" class=\"edge\"><title>St10&#45;&gt;St7</title>\n",
       "<path fill=\"none\" stroke=\"black\" d=\"M419.256,-214.168C435.095,-230.133 456.745,-251.955 472.909,-268.247\"/>\n",
       "<polygon fill=\"black\" stroke=\"black\" points=\"470.826,-271.117 480.354,-275.751 475.796,-266.187 470.826,-271.117\"/>\n",
       "<text text-anchor=\"middle\" x=\"448.984\" y=\"-249.704\" font-family=\"Times,serif\" font-size=\"14.00\">b</text>\n",
       "</g>\n",
       "<!-- St10&#45;&gt;St10 -->\n",
       "<g id=\"edge15\" class=\"edge\"><title>St10&#45;&gt;St10</title>\n",
       "<path fill=\"none\" stroke=\"black\" d=\"M387.793,-222.158C387.591,-232.664 390.713,-241.229 397.158,-241.229 401.287,-241.229 404.053,-237.714 405.454,-232.425\"/>\n",
       "<polygon fill=\"black\" stroke=\"black\" points=\"408.968,-232.467 406.524,-222.158 402.006,-231.741 408.968,-232.467\"/>\n",
       "<text text-anchor=\"middle\" x=\"397.158\" y=\"-244.029\" font-family=\"Times,serif\" font-size=\"14.00\">a</text>\n",
       "</g>\n",
       "</g>\n",
       "</svg>\n"
      ],
      "text/plain": [
       "<graphviz.dot.Digraph at 0x108bbf128>"
      ]
     },
     "execution_count": 25,
     "metadata": {},
     "output_type": "execute_result"
    }
   ],
   "source": [
    "dotObj_dfa(d1b)"
   ]
  },
  {
   "cell_type": "code",
   "execution_count": 26,
   "metadata": {
    "run_control": {
     "frozen": false,
     "read_only": false
    }
   },
   "outputs": [
    {
     "data": {
      "image/svg+xml": [
       "<?xml version=\"1.0\" encoding=\"UTF-8\" standalone=\"no\"?>\n",
       "<!DOCTYPE svg PUBLIC \"-//W3C//DTD SVG 1.1//EN\"\n",
       " \"http://www.w3.org/Graphics/SVG/1.1/DTD/svg11.dtd\">\n",
       "<!-- Generated by graphviz version 2.38.0 (20140413.2041)\n",
       " -->\n",
       "<!-- Title: %3 Pages: 1 -->\n",
       "<svg width=\"616pt\" height=\"289pt\"\n",
       " viewBox=\"0.00 0.00 616.12 288.99\" xmlns=\"http://www.w3.org/2000/svg\" xmlns:xlink=\"http://www.w3.org/1999/xlink\">\n",
       "<g id=\"graph0\" class=\"graph\" transform=\"scale(1 1) rotate(0) translate(4 284.991)\">\n",
       "<title>%3</title>\n",
       "<polygon fill=\"white\" stroke=\"none\" points=\"-4,4 -4,-284.991 612.118,-284.991 612.118,4 -4,4\"/>\n",
       "<!-- EMPTY -->\n",
       "<g id=\"node1\" class=\"node\"><title>EMPTY</title>\n",
       "</g>\n",
       "<!-- St7 -->\n",
       "<g id=\"node3\" class=\"node\"><title>St7</title>\n",
       "<ellipse fill=\"none\" stroke=\"black\" cx=\"112.904\" cy=\"-90.0868\" rx=\"21.8081\" ry=\"21.8081\"/>\n",
       "<text text-anchor=\"middle\" x=\"112.904\" y=\"-85.8868\" font-family=\"Times,serif\" font-size=\"14.00\">St7</text>\n",
       "</g>\n",
       "<!-- EMPTY&#45;&gt;St7 -->\n",
       "<g id=\"edge1\" class=\"edge\"><title>EMPTY&#45;&gt;St7</title>\n",
       "<path fill=\"none\" stroke=\"black\" d=\"M54.0878,-90.0868C62.501,-90.0868 71.9126,-90.0868 80.6587,-90.0868\"/>\n",
       "<polygon fill=\"black\" stroke=\"black\" points=\"80.8854,-93.5869 90.8853,-90.0868 80.8853,-86.5869 80.8854,-93.5869\"/>\n",
       "</g>\n",
       "<!-- St8 -->\n",
       "<g id=\"node2\" class=\"node\"><title>St8</title>\n",
       "<ellipse fill=\"none\" stroke=\"black\" cx=\"298.577\" cy=\"-165.087\" rx=\"21.8081\" ry=\"21.8081\"/>\n",
       "<text text-anchor=\"middle\" x=\"298.577\" y=\"-160.887\" font-family=\"Times,serif\" font-size=\"14.00\">St8</text>\n",
       "</g>\n",
       "<!-- St9 -->\n",
       "<g id=\"node5\" class=\"node\"><title>St9</title>\n",
       "<ellipse fill=\"none\" stroke=\"black\" cx=\"488.192\" cy=\"-36.0868\" rx=\"21.8081\" ry=\"21.8081\"/>\n",
       "<text text-anchor=\"middle\" x=\"488.192\" y=\"-31.8868\" font-family=\"Times,serif\" font-size=\"14.00\">St9</text>\n",
       "</g>\n",
       "<!-- St8&#45;&gt;St9 -->\n",
       "<g id=\"edge7\" class=\"edge\"><title>St8&#45;&gt;St9</title>\n",
       "<path fill=\"none\" stroke=\"black\" d=\"M320.927,-164.943C346.45,-163.787 389.449,-158.616 419.288,-138.087 445.205,-120.256 463.838,-88.9907 474.954,-65.7612\"/>\n",
       "<polygon fill=\"black\" stroke=\"black\" points=\"478.278,-66.9097 479.258,-56.3602 471.913,-63.9961 478.278,-66.9097\"/>\n",
       "<text text-anchor=\"middle\" x=\"393.384\" y=\"-161.887\" font-family=\"Times,serif\" font-size=\"14.00\">b</text>\n",
       "</g>\n",
       "<!-- St2 -->\n",
       "<g id=\"node10\" class=\"node\"><title>St2</title>\n",
       "<ellipse fill=\"none\" stroke=\"black\" cx=\"393.384\" cy=\"-223.087\" rx=\"21.8229\" ry=\"21.8229\"/>\n",
       "<ellipse fill=\"none\" stroke=\"black\" cx=\"393.384\" cy=\"-223.087\" rx=\"25.8081\" ry=\"25.8081\"/>\n",
       "<text text-anchor=\"middle\" x=\"393.384\" y=\"-218.887\" font-family=\"Times,serif\" font-size=\"14.00\">St2</text>\n",
       "</g>\n",
       "<!-- St8&#45;&gt;St2 -->\n",
       "<g id=\"edge8\" class=\"edge\"><title>St8&#45;&gt;St2</title>\n",
       "<path fill=\"none\" stroke=\"black\" d=\"M317.471,-176.27C330.121,-184.175 347.386,-194.965 362.153,-204.194\"/>\n",
       "<polygon fill=\"black\" stroke=\"black\" points=\"360.626,-207.367 370.961,-209.699 364.336,-201.431 360.626,-207.367\"/>\n",
       "<text text-anchor=\"middle\" x=\"345.981\" y=\"-198.887\" font-family=\"Times,serif\" font-size=\"14.00\">a</text>\n",
       "</g>\n",
       "<!-- St4 -->\n",
       "<g id=\"node4\" class=\"node\"><title>St4</title>\n",
       "<ellipse fill=\"none\" stroke=\"black\" cx=\"204.133\" cy=\"-125.087\" rx=\"21.8081\" ry=\"21.8081\"/>\n",
       "<text text-anchor=\"middle\" x=\"204.133\" y=\"-120.887\" font-family=\"Times,serif\" font-size=\"14.00\">St4</text>\n",
       "</g>\n",
       "<!-- St7&#45;&gt;St4 -->\n",
       "<g id=\"edge2\" class=\"edge\"><title>St7&#45;&gt;St4</title>\n",
       "<path fill=\"none\" stroke=\"black\" d=\"M133.707,-97.8545C145.49,-102.476 160.659,-108.426 173.811,-113.585\"/>\n",
       "<polygon fill=\"black\" stroke=\"black\" points=\"172.798,-116.948 183.386,-117.341 175.354,-110.431 172.798,-116.948\"/>\n",
       "<text text-anchor=\"middle\" x=\"156.308\" y=\"-110.887\" font-family=\"Times,serif\" font-size=\"14.00\">b</text>\n",
       "</g>\n",
       "<!-- St10 -->\n",
       "<g id=\"node6\" class=\"node\"><title>St10</title>\n",
       "<ellipse fill=\"none\" stroke=\"black\" cx=\"204.133\" cy=\"-46.0868\" rx=\"26.1523\" ry=\"26.1523\"/>\n",
       "<text text-anchor=\"middle\" x=\"204.133\" y=\"-41.8868\" font-family=\"Times,serif\" font-size=\"14.00\">St10</text>\n",
       "</g>\n",
       "<!-- St7&#45;&gt;St10 -->\n",
       "<g id=\"edge3\" class=\"edge\"><title>St7&#45;&gt;St10</title>\n",
       "<path fill=\"none\" stroke=\"black\" d=\"M132.827,-80.7556C143.942,-75.2748 158.284,-68.2027 171.112,-61.8768\"/>\n",
       "<polygon fill=\"black\" stroke=\"black\" points=\"172.697,-64.9976 180.118,-57.4358 169.601,-58.7194 172.697,-64.9976\"/>\n",
       "<text text-anchor=\"middle\" x=\"156.308\" y=\"-73.8868\" font-family=\"Times,serif\" font-size=\"14.00\">a</text>\n",
       "</g>\n",
       "<!-- St4&#45;&gt;St8 -->\n",
       "<g id=\"edge4\" class=\"edge\"><title>St4&#45;&gt;St8</title>\n",
       "<path fill=\"none\" stroke=\"black\" d=\"M224.738,-133.57C237.571,-139.122 254.555,-146.472 268.895,-152.677\"/>\n",
       "<polygon fill=\"black\" stroke=\"black\" points=\"267.749,-155.994 278.317,-156.753 270.529,-149.57 267.749,-155.994\"/>\n",
       "<text text-anchor=\"middle\" x=\"251.566\" y=\"-149.887\" font-family=\"Times,serif\" font-size=\"14.00\">c</text>\n",
       "</g>\n",
       "<!-- St6 -->\n",
       "<g id=\"node11\" class=\"node\"><title>St6</title>\n",
       "<ellipse fill=\"none\" stroke=\"black\" cx=\"582.214\" cy=\"-36.0868\" rx=\"21.8229\" ry=\"21.8229\"/>\n",
       "<ellipse fill=\"none\" stroke=\"black\" cx=\"582.214\" cy=\"-36.0868\" rx=\"25.8081\" ry=\"25.8081\"/>\n",
       "<text text-anchor=\"middle\" x=\"582.214\" y=\"-31.8868\" font-family=\"Times,serif\" font-size=\"14.00\">St6</text>\n",
       "</g>\n",
       "<!-- St9&#45;&gt;St6 -->\n",
       "<g id=\"edge9\" class=\"edge\"><title>St9&#45;&gt;St6</title>\n",
       "<path fill=\"none\" stroke=\"black\" d=\"M510.535,-36.0868C521.048,-36.0868 533.999,-36.0868 545.932,-36.0868\"/>\n",
       "<polygon fill=\"black\" stroke=\"black\" points=\"546.068,-39.5869 556.068,-36.0868 546.068,-32.5869 546.068,-39.5869\"/>\n",
       "<text text-anchor=\"middle\" x=\"535.203\" y=\"-38.8868\" font-family=\"Times,serif\" font-size=\"14.00\">c</text>\n",
       "</g>\n",
       "<!-- St10&#45;&gt;St9 -->\n",
       "<g id=\"edge5\" class=\"edge\"><title>St10&#45;&gt;St9</title>\n",
       "<path fill=\"none\" stroke=\"black\" d=\"M226.63,-31.765C239.423,-24.0743 256.308,-15.3243 272.673,-11.0868 346.612,8.05935 370.434,-0.613617 444.288,-20.0868 448.821,-21.282 453.542,-22.7756 458.124,-24.3666\"/>\n",
       "<polygon fill=\"black\" stroke=\"black\" points=\"457.213,-27.7604 467.806,-27.9273 459.629,-21.1906 457.213,-27.7604\"/>\n",
       "<text text-anchor=\"middle\" x=\"345.981\" y=\"-3.88683\" font-family=\"Times,serif\" font-size=\"14.00\">b</text>\n",
       "</g>\n",
       "<!-- St0 -->\n",
       "<g id=\"node9\" class=\"node\"><title>St0</title>\n",
       "<ellipse fill=\"none\" stroke=\"black\" cx=\"298.577\" cy=\"-46.0868\" rx=\"21.8229\" ry=\"21.8229\"/>\n",
       "<ellipse fill=\"none\" stroke=\"black\" cx=\"298.577\" cy=\"-46.0868\" rx=\"25.8081\" ry=\"25.8081\"/>\n",
       "<text text-anchor=\"middle\" x=\"298.577\" y=\"-41.8868\" font-family=\"Times,serif\" font-size=\"14.00\">St0</text>\n",
       "</g>\n",
       "<!-- St10&#45;&gt;St0 -->\n",
       "<g id=\"edge6\" class=\"edge\"><title>St10&#45;&gt;St0</title>\n",
       "<path fill=\"none\" stroke=\"black\" d=\"M230.884,-46.0868C240.661,-46.0868 251.968,-46.0868 262.464,-46.0868\"/>\n",
       "<polygon fill=\"black\" stroke=\"black\" points=\"262.602,-49.5869 272.602,-46.0868 262.602,-42.5869 262.602,-49.5869\"/>\n",
       "<text text-anchor=\"middle\" x=\"251.566\" y=\"-48.8868\" font-family=\"Times,serif\" font-size=\"14.00\">a</text>\n",
       "</g>\n",
       "<!-- St1 -->\n",
       "<g id=\"node7\" class=\"node\"><title>St1</title>\n",
       "<ellipse fill=\"none\" stroke=\"black\" cx=\"393.384\" cy=\"-71.0868\" rx=\"21.8229\" ry=\"21.8229\"/>\n",
       "<ellipse fill=\"none\" stroke=\"black\" cx=\"393.384\" cy=\"-71.0868\" rx=\"25.8081\" ry=\"25.8081\"/>\n",
       "<text text-anchor=\"middle\" x=\"393.384\" y=\"-66.8868\" font-family=\"Times,serif\" font-size=\"14.00\">St1</text>\n",
       "</g>\n",
       "<!-- St1&#45;&gt;St9 -->\n",
       "<g id=\"edge13\" class=\"edge\"><title>St1&#45;&gt;St9</title>\n",
       "<path fill=\"none\" stroke=\"black\" d=\"M417.804,-62.2549C430.042,-57.6395 445.134,-51.9481 458.113,-47.0531\"/>\n",
       "<polygon fill=\"black\" stroke=\"black\" points=\"459.424,-50.2996 467.545,-43.4961 456.954,-43.7499 459.424,-50.2996\"/>\n",
       "<text text-anchor=\"middle\" x=\"440.788\" y=\"-57.8868\" font-family=\"Times,serif\" font-size=\"14.00\">b</text>\n",
       "</g>\n",
       "<!-- St1&#45;&gt;St1 -->\n",
       "<g id=\"edge14\" class=\"edge\"><title>St1&#45;&gt;St1</title>\n",
       "<path fill=\"none\" stroke=\"black\" d=\"M384.835,-95.9105C384.246,-106.237 387.095,-114.991 393.384,-114.991 397.413,-114.991 400.031,-111.398 401.237,-106.101\"/>\n",
       "<polygon fill=\"black\" stroke=\"black\" points=\"404.743,-106.126 401.934,-95.9105 397.759,-105.648 404.743,-106.126\"/>\n",
       "<text text-anchor=\"middle\" x=\"393.384\" y=\"-117.791\" font-family=\"Times,serif\" font-size=\"14.00\">a</text>\n",
       "</g>\n",
       "<!-- St3 -->\n",
       "<g id=\"node8\" class=\"node\"><title>St3</title>\n",
       "<ellipse fill=\"none\" stroke=\"black\" cx=\"488.192\" cy=\"-223.087\" rx=\"21.8229\" ry=\"21.8229\"/>\n",
       "<ellipse fill=\"none\" stroke=\"black\" cx=\"488.192\" cy=\"-223.087\" rx=\"25.8081\" ry=\"25.8081\"/>\n",
       "<text text-anchor=\"middle\" x=\"488.192\" y=\"-218.887\" font-family=\"Times,serif\" font-size=\"14.00\">St3</text>\n",
       "</g>\n",
       "<!-- St3&#45;&gt;St3 -->\n",
       "<g id=\"edge15\" class=\"edge\"><title>St3&#45;&gt;St3</title>\n",
       "<path fill=\"none\" stroke=\"black\" d=\"M479.643,-247.911C479.053,-258.237 481.903,-266.991 488.192,-266.991 492.221,-266.991 494.838,-263.398 496.044,-258.101\"/>\n",
       "<polygon fill=\"black\" stroke=\"black\" points=\"499.551,-258.126 496.741,-247.911 492.567,-257.648 499.551,-258.126\"/>\n",
       "<text text-anchor=\"middle\" x=\"488.192\" y=\"-269.791\" font-family=\"Times,serif\" font-size=\"14.00\">a</text>\n",
       "</g>\n",
       "<!-- St0&#45;&gt;St9 -->\n",
       "<g id=\"edge10\" class=\"edge\"><title>St0&#45;&gt;St9</title>\n",
       "<path fill=\"none\" stroke=\"black\" d=\"M322.621,-35.7407C335.525,-30.513 352.076,-24.729 367.481,-22.0868 397.662,-16.9101 432.457,-22.227 456.728,-27.7318\"/>\n",
       "<polygon fill=\"black\" stroke=\"black\" points=\"456.221,-31.2097 466.763,-30.1546 457.864,-24.4053 456.221,-31.2097\"/>\n",
       "<text text-anchor=\"middle\" x=\"393.384\" y=\"-24.8868\" font-family=\"Times,serif\" font-size=\"14.00\">b</text>\n",
       "</g>\n",
       "<!-- St0&#45;&gt;St1 -->\n",
       "<g id=\"edge11\" class=\"edge\"><title>St0&#45;&gt;St1</title>\n",
       "<path fill=\"none\" stroke=\"black\" d=\"M323.961,-52.6553C334.511,-55.4974 347.039,-58.872 358.473,-61.9521\"/>\n",
       "<polygon fill=\"black\" stroke=\"black\" points=\"357.597,-65.3407 368.163,-64.5622 359.418,-58.5816 357.597,-65.3407\"/>\n",
       "<text text-anchor=\"middle\" x=\"345.981\" y=\"-62.8868\" font-family=\"Times,serif\" font-size=\"14.00\">a</text>\n",
       "</g>\n",
       "<!-- St2&#45;&gt;St3 -->\n",
       "<g id=\"edge12\" class=\"edge\"><title>St2&#45;&gt;St3</title>\n",
       "<path fill=\"none\" stroke=\"black\" d=\"M419.745,-223.087C429.646,-223.087 441.17,-223.087 451.861,-223.087\"/>\n",
       "<polygon fill=\"black\" stroke=\"black\" points=\"452.184,-226.587 462.184,-223.087 452.184,-219.587 452.184,-226.587\"/>\n",
       "<text text-anchor=\"middle\" x=\"440.788\" y=\"-225.887\" font-family=\"Times,serif\" font-size=\"14.00\">a</text>\n",
       "</g>\n",
       "</g>\n",
       "</svg>\n"
      ],
      "text/plain": [
       "<graphviz.dot.Digraph at 0x108bbff98>"
      ]
     },
     "execution_count": 26,
     "metadata": {},
     "output_type": "execute_result"
    }
   ],
   "source": [
    "dotObj_dfa(d2b)"
   ]
  },
  {
   "cell_type": "code",
   "execution_count": 27,
   "metadata": {
    "run_control": {
     "frozen": false,
     "read_only": false
    }
   },
   "outputs": [
    {
     "data": {
      "text/plain": [
       "False"
      ]
     },
     "execution_count": 27,
     "metadata": {},
     "output_type": "execute_result"
    }
   ],
   "source": [
    "iso_dfa(d1b,d2b)"
   ]
  },
  {
   "cell_type": "code",
   "execution_count": 28,
   "metadata": {
    "run_control": {
     "frozen": false,
     "read_only": false
    }
   },
   "outputs": [],
   "source": [
    "d1c=min_dfa(d1b)"
   ]
  },
  {
   "cell_type": "code",
   "execution_count": 29,
   "metadata": {
    "run_control": {
     "frozen": false,
     "read_only": false
    }
   },
   "outputs": [],
   "source": [
    "d2c=min_dfa(d2b)"
   ]
  },
  {
   "cell_type": "code",
   "execution_count": 30,
   "metadata": {
    "run_control": {
     "frozen": false,
     "read_only": false
    }
   },
   "outputs": [
    {
     "data": {
      "text/plain": [
       "True"
      ]
     },
     "execution_count": 30,
     "metadata": {},
     "output_type": "execute_result"
    }
   ],
   "source": [
    "iso_dfa(d1c,d2c)"
   ]
  },
  {
   "cell_type": "code",
   "execution_count": 31,
   "metadata": {
    "run_control": {
     "frozen": false,
     "read_only": false
    }
   },
   "outputs": [
    {
     "data": {
      "image/svg+xml": [
       "<?xml version=\"1.0\" encoding=\"UTF-8\" standalone=\"no\"?>\n",
       "<!DOCTYPE svg PUBLIC \"-//W3C//DTD SVG 1.1//EN\"\n",
       " \"http://www.w3.org/Graphics/SVG/1.1/DTD/svg11.dtd\">\n",
       "<!-- Generated by graphviz version 2.38.0 (20140413.2041)\n",
       " -->\n",
       "<!-- Title: %3 Pages: 1 -->\n",
       "<svg width=\"521pt\" height=\"203pt\"\n",
       " viewBox=\"0.00 0.00 520.66 202.90\" xmlns=\"http://www.w3.org/2000/svg\" xmlns:xlink=\"http://www.w3.org/1999/xlink\">\n",
       "<g id=\"graph0\" class=\"graph\" transform=\"scale(1 1) rotate(0) translate(4 198.904)\">\n",
       "<title>%3</title>\n",
       "<polygon fill=\"white\" stroke=\"none\" points=\"-4,4 -4,-198.904 516.662,-198.904 516.662,4 -4,4\"/>\n",
       "<!-- EMPTY -->\n",
       "<g id=\"node1\" class=\"node\"><title>EMPTY</title>\n",
       "</g>\n",
       "<!-- St5 -->\n",
       "<g id=\"node4\" class=\"node\"><title>St5</title>\n",
       "<ellipse fill=\"none\" stroke=\"black\" cx=\"112.904\" cy=\"-73.9039\" rx=\"21.8081\" ry=\"21.8081\"/>\n",
       "<text text-anchor=\"middle\" x=\"112.904\" y=\"-69.7039\" font-family=\"Times,serif\" font-size=\"14.00\">St5</text>\n",
       "</g>\n",
       "<!-- EMPTY&#45;&gt;St5 -->\n",
       "<g id=\"edge1\" class=\"edge\"><title>EMPTY&#45;&gt;St5</title>\n",
       "<path fill=\"none\" stroke=\"black\" d=\"M54.0878,-73.9039C62.501,-73.9039 71.9126,-73.9039 80.6587,-73.9039\"/>\n",
       "<polygon fill=\"black\" stroke=\"black\" points=\"80.8854,-77.404 90.8853,-73.9039 80.8853,-70.404 80.8854,-77.404\"/>\n",
       "</g>\n",
       "<!-- St1 -->\n",
       "<g id=\"node2\" class=\"node\"><title>St1</title>\n",
       "<ellipse fill=\"none\" stroke=\"black\" cx=\"199.712\" cy=\"-102.904\" rx=\"21.8081\" ry=\"21.8081\"/>\n",
       "<text text-anchor=\"middle\" x=\"199.712\" y=\"-98.7039\" font-family=\"Times,serif\" font-size=\"14.00\">St1</text>\n",
       "</g>\n",
       "<!-- St7 -->\n",
       "<g id=\"node3\" class=\"node\"><title>St7</title>\n",
       "<ellipse fill=\"none\" stroke=\"black\" cx=\"392.737\" cy=\"-123.904\" rx=\"21.8081\" ry=\"21.8081\"/>\n",
       "<text text-anchor=\"middle\" x=\"392.737\" y=\"-119.704\" font-family=\"Times,serif\" font-size=\"14.00\">St7</text>\n",
       "</g>\n",
       "<!-- St1&#45;&gt;St7 -->\n",
       "<g id=\"edge5\" class=\"edge\"><title>St1&#45;&gt;St7</title>\n",
       "<path fill=\"none\" stroke=\"black\" d=\"M211.131,-121.787C221.82,-138.996 240.208,-163.297 263.829,-173.904 288.157,-184.828 298.496,-182.226 323.833,-173.904 340.833,-168.32 357.079,-156.67 369.416,-146.02\"/>\n",
       "<polygon fill=\"black\" stroke=\"black\" points=\"371.849,-148.538 376.927,-139.239 367.159,-143.342 371.849,-148.538\"/>\n",
       "<text text-anchor=\"middle\" x=\"293.831\" y=\"-183.704\" font-family=\"Times,serif\" font-size=\"14.00\">b</text>\n",
       "</g>\n",
       "<!-- St11 -->\n",
       "<g id=\"node9\" class=\"node\"><title>St11</title>\n",
       "<ellipse fill=\"none\" stroke=\"black\" cx=\"293.831\" cy=\"-102.904\" rx=\"26.0032\" ry=\"26.0032\"/>\n",
       "<ellipse fill=\"none\" stroke=\"black\" cx=\"293.831\" cy=\"-102.904\" rx=\"30.0035\" ry=\"30.0035\"/>\n",
       "<text text-anchor=\"middle\" x=\"293.831\" y=\"-98.7039\" font-family=\"Times,serif\" font-size=\"14.00\">St11</text>\n",
       "</g>\n",
       "<!-- St1&#45;&gt;St11 -->\n",
       "<g id=\"edge6\" class=\"edge\"><title>St1&#45;&gt;St11</title>\n",
       "<path fill=\"none\" stroke=\"black\" d=\"M222.077,-102.904C231.422,-102.904 242.691,-102.904 253.462,-102.904\"/>\n",
       "<polygon fill=\"black\" stroke=\"black\" points=\"253.557,-106.404 263.557,-102.904 253.557,-99.404 253.557,-106.404\"/>\n",
       "<text text-anchor=\"middle\" x=\"242.722\" y=\"-105.704\" font-family=\"Times,serif\" font-size=\"14.00\">a</text>\n",
       "</g>\n",
       "<!-- St3 -->\n",
       "<g id=\"node8\" class=\"node\"><title>St3</title>\n",
       "<ellipse fill=\"none\" stroke=\"black\" cx=\"486.758\" cy=\"-123.904\" rx=\"21.8229\" ry=\"21.8229\"/>\n",
       "<ellipse fill=\"none\" stroke=\"black\" cx=\"486.758\" cy=\"-123.904\" rx=\"25.8081\" ry=\"25.8081\"/>\n",
       "<text text-anchor=\"middle\" x=\"486.758\" y=\"-119.704\" font-family=\"Times,serif\" font-size=\"14.00\">St3</text>\n",
       "</g>\n",
       "<!-- St7&#45;&gt;St3 -->\n",
       "<g id=\"edge9\" class=\"edge\"><title>St7&#45;&gt;St3</title>\n",
       "<path fill=\"none\" stroke=\"black\" d=\"M415.08,-123.904C425.592,-123.904 438.544,-123.904 450.476,-123.904\"/>\n",
       "<polygon fill=\"black\" stroke=\"black\" points=\"450.613,-127.404 460.613,-123.904 450.613,-120.404 450.613,-127.404\"/>\n",
       "<text text-anchor=\"middle\" x=\"439.747\" y=\"-126.704\" font-family=\"Times,serif\" font-size=\"14.00\">c</text>\n",
       "</g>\n",
       "<!-- St5&#45;&gt;St1 -->\n",
       "<g id=\"edge3\" class=\"edge\"><title>St5&#45;&gt;St1</title>\n",
       "<path fill=\"none\" stroke=\"black\" d=\"M134.002,-80.7765C144.458,-84.3519 157.444,-88.7924 169.032,-92.755\"/>\n",
       "<polygon fill=\"black\" stroke=\"black\" points=\"168.163,-96.1567 178.758,-96.0806 170.428,-89.5332 168.163,-96.1567\"/>\n",
       "<text text-anchor=\"middle\" x=\"156.308\" y=\"-92.7039\" font-family=\"Times,serif\" font-size=\"14.00\">a</text>\n",
       "</g>\n",
       "<!-- St9 -->\n",
       "<g id=\"node5\" class=\"node\"><title>St9</title>\n",
       "<ellipse fill=\"none\" stroke=\"black\" cx=\"199.712\" cy=\"-37.9039\" rx=\"21.8081\" ry=\"21.8081\"/>\n",
       "<text text-anchor=\"middle\" x=\"199.712\" y=\"-33.7039\" font-family=\"Times,serif\" font-size=\"14.00\">St9</text>\n",
       "</g>\n",
       "<!-- St5&#45;&gt;St9 -->\n",
       "<g id=\"edge2\" class=\"edge\"><title>St5&#45;&gt;St9</title>\n",
       "<path fill=\"none\" stroke=\"black\" d=\"M133.574,-65.5543C144.277,-61.0106 157.725,-55.3022 169.618,-50.2537\"/>\n",
       "<polygon fill=\"black\" stroke=\"black\" points=\"171.311,-53.3374 179.149,-46.2082 168.576,-46.8939 171.311,-53.3374\"/>\n",
       "<text text-anchor=\"middle\" x=\"156.308\" y=\"-60.7039\" font-family=\"Times,serif\" font-size=\"14.00\">b</text>\n",
       "</g>\n",
       "<!-- St12 -->\n",
       "<g id=\"node6\" class=\"node\"><title>St12</title>\n",
       "<ellipse fill=\"none\" stroke=\"black\" cx=\"293.831\" cy=\"-28.9039\" rx=\"26.1523\" ry=\"26.1523\"/>\n",
       "<text text-anchor=\"middle\" x=\"293.831\" y=\"-24.7039\" font-family=\"Times,serif\" font-size=\"14.00\">St12</text>\n",
       "</g>\n",
       "<!-- St9&#45;&gt;St12 -->\n",
       "<g id=\"edge4\" class=\"edge\"><title>St9&#45;&gt;St12</title>\n",
       "<path fill=\"none\" stroke=\"black\" d=\"M221.615,-35.8616C232.126,-34.8347 245.157,-33.5615 257.188,-32.3861\"/>\n",
       "<polygon fill=\"black\" stroke=\"black\" points=\"257.803,-35.8428 267.415,-31.387 257.122,-28.876 257.803,-35.8428\"/>\n",
       "<text text-anchor=\"middle\" x=\"242.722\" y=\"-37.7039\" font-family=\"Times,serif\" font-size=\"14.00\">c</text>\n",
       "</g>\n",
       "<!-- St12&#45;&gt;St7 -->\n",
       "<g id=\"edge7\" class=\"edge\"><title>St12&#45;&gt;St7</title>\n",
       "<path fill=\"none\" stroke=\"black\" d=\"M313.515,-47.2208C329.445,-62.8376 352.385,-85.3256 369.305,-101.913\"/>\n",
       "<polygon fill=\"black\" stroke=\"black\" points=\"367.017,-104.572 376.608,-109.073 371.918,-99.5733 367.017,-104.572\"/>\n",
       "<text text-anchor=\"middle\" x=\"345.333\" y=\"-85.7039\" font-family=\"Times,serif\" font-size=\"14.00\">b</text>\n",
       "</g>\n",
       "<!-- St8 -->\n",
       "<g id=\"node7\" class=\"node\"><title>St8</title>\n",
       "<ellipse fill=\"none\" stroke=\"black\" cx=\"392.737\" cy=\"-25.9039\" rx=\"21.8229\" ry=\"21.8229\"/>\n",
       "<ellipse fill=\"none\" stroke=\"black\" cx=\"392.737\" cy=\"-25.9039\" rx=\"25.8081\" ry=\"25.8081\"/>\n",
       "<text text-anchor=\"middle\" x=\"392.737\" y=\"-21.7039\" font-family=\"Times,serif\" font-size=\"14.00\">St8</text>\n",
       "</g>\n",
       "<!-- St12&#45;&gt;St8 -->\n",
       "<g id=\"edge8\" class=\"edge\"><title>St12&#45;&gt;St8</title>\n",
       "<path fill=\"none\" stroke=\"black\" d=\"M320.292,-28.1156C331.395,-27.7719 344.595,-27.3633 356.61,-26.9913\"/>\n",
       "<polygon fill=\"black\" stroke=\"black\" points=\"356.894,-30.4843 366.781,-26.6764 356.678,-23.4876 356.894,-30.4843\"/>\n",
       "<text text-anchor=\"middle\" x=\"345.333\" y=\"-30.7039\" font-family=\"Times,serif\" font-size=\"14.00\">a</text>\n",
       "</g>\n",
       "<!-- St8&#45;&gt;St8 -->\n",
       "<g id=\"edge12\" class=\"edge\"><title>St8&#45;&gt;St8</title>\n",
       "<path fill=\"none\" stroke=\"black\" d=\"M384.187,-50.7276C383.598,-61.0541 386.448,-69.8077 392.737,-69.8077 396.766,-69.8077 399.383,-66.2152 400.589,-60.9182\"/>\n",
       "<polygon fill=\"black\" stroke=\"black\" points=\"404.095,-60.9431 401.286,-50.7276 397.112,-60.4654 404.095,-60.9431\"/>\n",
       "<text text-anchor=\"middle\" x=\"392.737\" y=\"-72.6077\" font-family=\"Times,serif\" font-size=\"14.00\">a</text>\n",
       "</g>\n",
       "<!-- St11&#45;&gt;St7 -->\n",
       "<g id=\"edge10\" class=\"edge\"><title>St11&#45;&gt;St7</title>\n",
       "<path fill=\"none\" stroke=\"black\" d=\"M323.382,-109.091C335.213,-111.655 348.961,-114.634 361.012,-117.246\"/>\n",
       "<polygon fill=\"black\" stroke=\"black\" points=\"360.56,-120.729 371.074,-119.426 362.042,-113.888 360.56,-120.729\"/>\n",
       "<text text-anchor=\"middle\" x=\"345.333\" y=\"-117.704\" font-family=\"Times,serif\" font-size=\"14.00\">b</text>\n",
       "</g>\n",
       "<!-- St11&#45;&gt;St11 -->\n",
       "<g id=\"edge11\" class=\"edge\"><title>St11&#45;&gt;St11</title>\n",
       "<path fill=\"none\" stroke=\"black\" d=\"M284.477,-131.486C284.17,-142.138 287.288,-150.906 293.831,-150.906 298.125,-150.906 300.944,-147.13 302.288,-141.523\"/>\n",
       "<polygon fill=\"black\" stroke=\"black\" points=\"305.781,-141.758 303.185,-131.486 298.808,-141.134 305.781,-141.758\"/>\n",
       "<text text-anchor=\"middle\" x=\"293.831\" y=\"-153.706\" font-family=\"Times,serif\" font-size=\"14.00\">a</text>\n",
       "</g>\n",
       "</g>\n",
       "</svg>\n"
      ],
      "text/plain": [
       "<graphviz.dot.Digraph at 0x108bbfc18>"
      ]
     },
     "execution_count": 31,
     "metadata": {},
     "output_type": "execute_result"
    }
   ],
   "source": [
    "dotObj_dfa(d1c)"
   ]
  },
  {
   "cell_type": "code",
   "execution_count": 32,
   "metadata": {
    "run_control": {
     "frozen": false,
     "read_only": false
    }
   },
   "outputs": [
    {
     "data": {
      "image/svg+xml": [
       "<?xml version=\"1.0\" encoding=\"UTF-8\" standalone=\"no\"?>\n",
       "<!DOCTYPE svg PUBLIC \"-//W3C//DTD SVG 1.1//EN\"\n",
       " \"http://www.w3.org/Graphics/SVG/1.1/DTD/svg11.dtd\">\n",
       "<!-- Generated by graphviz version 2.38.0 (20140413.2041)\n",
       " -->\n",
       "<!-- Title: %3 Pages: 1 -->\n",
       "<svg width=\"521pt\" height=\"256pt\"\n",
       " viewBox=\"0.00 0.00 521.31 255.81\" xmlns=\"http://www.w3.org/2000/svg\" xmlns:xlink=\"http://www.w3.org/1999/xlink\">\n",
       "<g id=\"graph0\" class=\"graph\" transform=\"scale(1 1) rotate(0) translate(4 251.808)\">\n",
       "<title>%3</title>\n",
       "<polygon fill=\"white\" stroke=\"none\" points=\"-4,4 -4,-251.808 517.31,-251.808 517.31,4 -4,4\"/>\n",
       "<!-- EMPTY -->\n",
       "<g id=\"node1\" class=\"node\"><title>EMPTY</title>\n",
       "</g>\n",
       "<!-- St7 -->\n",
       "<g id=\"node3\" class=\"node\"><title>St7</title>\n",
       "<ellipse fill=\"none\" stroke=\"black\" cx=\"112.904\" cy=\"-149.904\" rx=\"21.8081\" ry=\"21.8081\"/>\n",
       "<text text-anchor=\"middle\" x=\"112.904\" y=\"-145.704\" font-family=\"Times,serif\" font-size=\"14.00\">St7</text>\n",
       "</g>\n",
       "<!-- EMPTY&#45;&gt;St7 -->\n",
       "<g id=\"edge1\" class=\"edge\"><title>EMPTY&#45;&gt;St7</title>\n",
       "<path fill=\"none\" stroke=\"black\" d=\"M54.0878,-149.904C62.501,-149.904 71.9126,-149.904 80.6587,-149.904\"/>\n",
       "<polygon fill=\"black\" stroke=\"black\" points=\"80.8854,-153.404 90.8853,-149.904 80.8853,-146.404 80.8854,-153.404\"/>\n",
       "</g>\n",
       "<!-- St8 -->\n",
       "<g id=\"node2\" class=\"node\"><title>St8</title>\n",
       "<ellipse fill=\"none\" stroke=\"black\" cx=\"298.577\" cy=\"-179.904\" rx=\"21.8081\" ry=\"21.8081\"/>\n",
       "<text text-anchor=\"middle\" x=\"298.577\" y=\"-175.704\" font-family=\"Times,serif\" font-size=\"14.00\">St8</text>\n",
       "</g>\n",
       "<!-- St9 -->\n",
       "<g id=\"node5\" class=\"node\"><title>St9</title>\n",
       "<ellipse fill=\"none\" stroke=\"black\" cx=\"393.384\" cy=\"-119.904\" rx=\"21.8081\" ry=\"21.8081\"/>\n",
       "<text text-anchor=\"middle\" x=\"393.384\" y=\"-115.704\" font-family=\"Times,serif\" font-size=\"14.00\">St9</text>\n",
       "</g>\n",
       "<!-- St8&#45;&gt;St9 -->\n",
       "<g id=\"edge7\" class=\"edge\"><title>St8&#45;&gt;St9</title>\n",
       "<path fill=\"none\" stroke=\"black\" d=\"M317.471,-168.335C331.209,-159.454 350.39,-147.053 365.903,-137.024\"/>\n",
       "<polygon fill=\"black\" stroke=\"black\" points=\"368.047,-139.805 374.545,-131.437 364.247,-133.927 368.047,-139.805\"/>\n",
       "<text text-anchor=\"middle\" x=\"345.981\" y=\"-154.704\" font-family=\"Times,serif\" font-size=\"14.00\">b</text>\n",
       "</g>\n",
       "<!-- St3 -->\n",
       "<g id=\"node8\" class=\"node\"><title>St3</title>\n",
       "<ellipse fill=\"none\" stroke=\"black\" cx=\"393.384\" cy=\"-189.904\" rx=\"21.8229\" ry=\"21.8229\"/>\n",
       "<ellipse fill=\"none\" stroke=\"black\" cx=\"393.384\" cy=\"-189.904\" rx=\"25.8081\" ry=\"25.8081\"/>\n",
       "<text text-anchor=\"middle\" x=\"393.384\" y=\"-185.704\" font-family=\"Times,serif\" font-size=\"14.00\">St3</text>\n",
       "</g>\n",
       "<!-- St8&#45;&gt;St3 -->\n",
       "<g id=\"edge8\" class=\"edge\"><title>St8&#45;&gt;St3</title>\n",
       "<path fill=\"none\" stroke=\"black\" d=\"M320.636,-182.173C331.499,-183.344 345.036,-184.802 357.415,-186.136\"/>\n",
       "<polygon fill=\"black\" stroke=\"black\" points=\"357.139,-189.626 367.456,-187.218 357.889,-182.667 357.139,-189.626\"/>\n",
       "<text text-anchor=\"middle\" x=\"345.981\" y=\"-188.704\" font-family=\"Times,serif\" font-size=\"14.00\">a</text>\n",
       "</g>\n",
       "<!-- St4 -->\n",
       "<g id=\"node4\" class=\"node\"><title>St4</title>\n",
       "<ellipse fill=\"none\" stroke=\"black\" cx=\"204.133\" cy=\"-179.904\" rx=\"21.8081\" ry=\"21.8081\"/>\n",
       "<text text-anchor=\"middle\" x=\"204.133\" y=\"-175.704\" font-family=\"Times,serif\" font-size=\"14.00\">St4</text>\n",
       "</g>\n",
       "<!-- St7&#45;&gt;St4 -->\n",
       "<g id=\"edge2\" class=\"edge\"><title>St7&#45;&gt;St4</title>\n",
       "<path fill=\"none\" stroke=\"black\" d=\"M134.151,-156.711C145.674,-160.585 160.325,-165.511 173.158,-169.826\"/>\n",
       "<polygon fill=\"black\" stroke=\"black\" points=\"172.372,-173.254 182.966,-173.123 174.603,-166.619 172.372,-173.254\"/>\n",
       "<text text-anchor=\"middle\" x=\"156.308\" y=\"-167.704\" font-family=\"Times,serif\" font-size=\"14.00\">b</text>\n",
       "</g>\n",
       "<!-- St10 -->\n",
       "<g id=\"node6\" class=\"node\"><title>St10</title>\n",
       "<ellipse fill=\"none\" stroke=\"black\" cx=\"204.133\" cy=\"-113.904\" rx=\"26.1523\" ry=\"26.1523\"/>\n",
       "<text text-anchor=\"middle\" x=\"204.133\" y=\"-109.704\" font-family=\"Times,serif\" font-size=\"14.00\">St10</text>\n",
       "</g>\n",
       "<!-- St7&#45;&gt;St10 -->\n",
       "<g id=\"edge3\" class=\"edge\"><title>St7&#45;&gt;St10</title>\n",
       "<path fill=\"none\" stroke=\"black\" d=\"M133.707,-141.914C144.321,-137.632 157.683,-132.241 169.843,-127.335\"/>\n",
       "<polygon fill=\"black\" stroke=\"black\" points=\"171.298,-130.522 179.262,-123.535 168.679,-124.031 171.298,-130.522\"/>\n",
       "<text text-anchor=\"middle\" x=\"156.308\" y=\"-137.704\" font-family=\"Times,serif\" font-size=\"14.00\">a</text>\n",
       "</g>\n",
       "<!-- St4&#45;&gt;St8 -->\n",
       "<g id=\"edge4\" class=\"edge\"><title>St4&#45;&gt;St8</title>\n",
       "<path fill=\"none\" stroke=\"black\" d=\"M226.11,-179.904C237.964,-179.904 253.013,-179.904 266.241,-179.904\"/>\n",
       "<polygon fill=\"black\" stroke=\"black\" points=\"266.363,-183.404 276.363,-179.904 266.363,-176.404 266.363,-183.404\"/>\n",
       "<text text-anchor=\"middle\" x=\"251.566\" y=\"-182.704\" font-family=\"Times,serif\" font-size=\"14.00\">c</text>\n",
       "</g>\n",
       "<!-- St6 -->\n",
       "<g id=\"node7\" class=\"node\"><title>St6</title>\n",
       "<ellipse fill=\"none\" stroke=\"black\" cx=\"487.406\" cy=\"-119.904\" rx=\"21.8229\" ry=\"21.8229\"/>\n",
       "<ellipse fill=\"none\" stroke=\"black\" cx=\"487.406\" cy=\"-119.904\" rx=\"25.8081\" ry=\"25.8081\"/>\n",
       "<text text-anchor=\"middle\" x=\"487.406\" y=\"-115.704\" font-family=\"Times,serif\" font-size=\"14.00\">St6</text>\n",
       "</g>\n",
       "<!-- St9&#45;&gt;St6 -->\n",
       "<g id=\"edge9\" class=\"edge\"><title>St9&#45;&gt;St6</title>\n",
       "<path fill=\"none\" stroke=\"black\" d=\"M415.727,-119.904C426.24,-119.904 439.192,-119.904 451.124,-119.904\"/>\n",
       "<polygon fill=\"black\" stroke=\"black\" points=\"451.261,-123.404 461.261,-119.904 451.261,-116.404 451.261,-123.404\"/>\n",
       "<text text-anchor=\"middle\" x=\"440.395\" y=\"-122.704\" font-family=\"Times,serif\" font-size=\"14.00\">c</text>\n",
       "</g>\n",
       "<!-- St10&#45;&gt;St9 -->\n",
       "<g id=\"edge5\" class=\"edge\"><title>St10&#45;&gt;St9</title>\n",
       "<path fill=\"none\" stroke=\"black\" d=\"M230.777,-114.726C264.781,-115.815 324.743,-117.736 361.289,-118.907\"/>\n",
       "<polygon fill=\"black\" stroke=\"black\" points=\"361.272,-122.409 371.379,-119.231 361.497,-115.412 361.272,-122.409\"/>\n",
       "<text text-anchor=\"middle\" x=\"298.577\" y=\"-120.704\" font-family=\"Times,serif\" font-size=\"14.00\">b</text>\n",
       "</g>\n",
       "<!-- St0 -->\n",
       "<g id=\"node9\" class=\"node\"><title>St0</title>\n",
       "<ellipse fill=\"none\" stroke=\"black\" cx=\"298.577\" cy=\"-25.9039\" rx=\"21.8229\" ry=\"21.8229\"/>\n",
       "<ellipse fill=\"none\" stroke=\"black\" cx=\"298.577\" cy=\"-25.9039\" rx=\"25.8081\" ry=\"25.8081\"/>\n",
       "<text text-anchor=\"middle\" x=\"298.577\" y=\"-21.7039\" font-family=\"Times,serif\" font-size=\"14.00\">St0</text>\n",
       "</g>\n",
       "<!-- St10&#45;&gt;St0 -->\n",
       "<g id=\"edge6\" class=\"edge\"><title>St10&#45;&gt;St0</title>\n",
       "<path fill=\"none\" stroke=\"black\" d=\"M223.841,-96.0958C237.588,-83.0089 256.442,-65.0617 271.643,-50.5912\"/>\n",
       "<polygon fill=\"black\" stroke=\"black\" points=\"274.383,-52.8151 279.213,-43.3852 269.556,-47.745 274.383,-52.8151\"/>\n",
       "<text text-anchor=\"middle\" x=\"251.566\" y=\"-75.7039\" font-family=\"Times,serif\" font-size=\"14.00\">a</text>\n",
       "</g>\n",
       "<!-- St3&#45;&gt;St3 -->\n",
       "<g id=\"edge12\" class=\"edge\"><title>St3&#45;&gt;St3</title>\n",
       "<path fill=\"none\" stroke=\"black\" d=\"M384.835,-214.728C384.246,-225.054 387.095,-233.808 393.384,-233.808 397.413,-233.808 400.031,-230.215 401.237,-224.918\"/>\n",
       "<polygon fill=\"black\" stroke=\"black\" points=\"404.743,-224.943 401.934,-214.728 397.759,-224.465 404.743,-224.943\"/>\n",
       "<text text-anchor=\"middle\" x=\"393.384\" y=\"-236.608\" font-family=\"Times,serif\" font-size=\"14.00\">a</text>\n",
       "</g>\n",
       "<!-- St0&#45;&gt;St9 -->\n",
       "<g id=\"edge10\" class=\"edge\"><title>St0&#45;&gt;St9</title>\n",
       "<path fill=\"none\" stroke=\"black\" d=\"M317.471,-44.028C332.409,-59.1578 353.782,-80.8056 369.879,-97.109\"/>\n",
       "<polygon fill=\"black\" stroke=\"black\" points=\"367.789,-99.9742 377.305,-104.631 372.77,-95.0561 367.789,-99.9742\"/>\n",
       "<text text-anchor=\"middle\" x=\"345.981\" y=\"-78.7039\" font-family=\"Times,serif\" font-size=\"14.00\">b</text>\n",
       "</g>\n",
       "<!-- St0&#45;&gt;St0 -->\n",
       "<g id=\"edge11\" class=\"edge\"><title>St0&#45;&gt;St0</title>\n",
       "<path fill=\"none\" stroke=\"black\" d=\"M290.027,-50.7276C289.438,-61.0541 292.288,-69.8077 298.577,-69.8077 302.606,-69.8077 305.223,-66.2152 306.429,-60.9182\"/>\n",
       "<polygon fill=\"black\" stroke=\"black\" points=\"309.935,-60.9431 307.126,-50.7276 302.952,-60.4654 309.935,-60.9431\"/>\n",
       "<text text-anchor=\"middle\" x=\"298.577\" y=\"-72.6077\" font-family=\"Times,serif\" font-size=\"14.00\">a</text>\n",
       "</g>\n",
       "</g>\n",
       "</svg>\n"
      ],
      "text/plain": [
       "<graphviz.dot.Digraph at 0x108bd8128>"
      ]
     },
     "execution_count": 32,
     "metadata": {},
     "output_type": "execute_result"
    }
   ],
   "source": [
    "dotObj_dfa(d2c)"
   ]
  },
  {
   "cell_type": "code",
   "execution_count": 33,
   "metadata": {
    "run_control": {
     "frozen": false,
     "read_only": false
    }
   },
   "outputs": [
    {
     "name": "stdout",
     "output_type": "stream",
     "text": [
      "The DFA are NOT language equivalent!\n",
      "Path leading to counterexample is: \n",
      "[('St9', 'St7'), ('St8', 'St4'), ('St12', 'St8'), ('St1', 'St2')]\n"
     ]
    },
    {
     "name": "stderr",
     "output_type": "stream",
     "text": [
      "Generating LALR tables\n",
      "Generating LALR tables\n"
     ]
    },
    {
     "data": {
      "text/plain": [
       "False"
      ]
     },
     "execution_count": 33,
     "metadata": {},
     "output_type": "execute_result"
    }
   ],
   "source": [
    "d1d=nfa2dfa(re2nfa(\"aaa*+aa*bc+bcaaa*+bcbc\"))\n",
    "d2d=nfa2dfa(re2nfa(\"(aa*+bc)(aa*+bc)\"))\n",
    "langeq_dfa(d1d,d2d,True)"
   ]
  },
  {
   "cell_type": "code",
   "execution_count": 34,
   "metadata": {
    "run_control": {
     "frozen": false,
     "read_only": false
    }
   },
   "outputs": [
    {
     "name": "stdout",
     "output_type": "stream",
     "text": [
      "The DFA are NOT language equivalent!\n",
      "Path leading to counterexample is: \n",
      "[('St9', 'St7'), ('St8', 'St4'), ('St12', 'St8'), ('St1', 'St2')]\n"
     ]
    },
    {
     "name": "stderr",
     "output_type": "stream",
     "text": [
      "Generating LALR tables\n",
      "Generating LALR tables\n"
     ]
    },
    {
     "data": {
      "text/plain": [
       "False"
      ]
     },
     "execution_count": 34,
     "metadata": {},
     "output_type": "execute_result"
    }
   ],
   "source": [
    "d1d=nfa2dfa(re2nfa(\"a a a*+a a* b c+ b c a a a*+b c b c\"))\n",
    "d2d=nfa2dfa(re2nfa(\"(a a*+b c)(a a*+b c)\"))\n",
    "langeq_dfa(d1d,d2d,True)"
   ]
  },
  {
   "cell_type": "code",
   "execution_count": 35,
   "metadata": {
    "run_control": {
     "frozen": false,
     "read_only": false
    }
   },
   "outputs": [
    {
     "data": {
      "image/svg+xml": [
       "<?xml version=\"1.0\" encoding=\"UTF-8\" standalone=\"no\"?>\n",
       "<!DOCTYPE svg PUBLIC \"-//W3C//DTD SVG 1.1//EN\"\n",
       " \"http://www.w3.org/Graphics/SVG/1.1/DTD/svg11.dtd\">\n",
       "<!-- Generated by graphviz version 2.38.0 (20140413.2041)\n",
       " -->\n",
       "<!-- Title: %3 Pages: 1 -->\n",
       "<svg width=\"625pt\" height=\"360pt\"\n",
       " viewBox=\"0.00 0.00 625.16 359.91\" xmlns=\"http://www.w3.org/2000/svg\" xmlns:xlink=\"http://www.w3.org/1999/xlink\">\n",
       "<g id=\"graph0\" class=\"graph\" transform=\"scale(1 1) rotate(0) translate(4 355.906)\">\n",
       "<title>%3</title>\n",
       "<polygon fill=\"white\" stroke=\"none\" points=\"-4,4 -4,-355.906 621.157,-355.906 621.157,4 -4,4\"/>\n",
       "<!-- EMPTY -->\n",
       "<g id=\"node1\" class=\"node\"><title>EMPTY</title>\n",
       "</g>\n",
       "<!-- St9 -->\n",
       "<g id=\"node7\" class=\"node\"><title>St9</title>\n",
       "<ellipse fill=\"none\" stroke=\"black\" cx=\"112.904\" cy=\"-199.002\" rx=\"21.8081\" ry=\"21.8081\"/>\n",
       "<text text-anchor=\"middle\" x=\"112.904\" y=\"-194.802\" font-family=\"Times,serif\" font-size=\"14.00\">St9</text>\n",
       "</g>\n",
       "<!-- EMPTY&#45;&gt;St9 -->\n",
       "<g id=\"edge1\" class=\"edge\"><title>EMPTY&#45;&gt;St9</title>\n",
       "<path fill=\"none\" stroke=\"black\" d=\"M54.0878,-199.002C62.501,-199.002 71.9126,-199.002 80.6587,-199.002\"/>\n",
       "<polygon fill=\"black\" stroke=\"black\" points=\"80.8854,-202.502 90.8853,-199.002 80.8853,-195.502 80.8854,-202.502\"/>\n",
       "</g>\n",
       "<!-- St1 -->\n",
       "<g id=\"node2\" class=\"node\"><title>St1</title>\n",
       "<ellipse fill=\"none\" stroke=\"black\" cx=\"389.482\" cy=\"-290.002\" rx=\"21.8081\" ry=\"21.8081\"/>\n",
       "<text text-anchor=\"middle\" x=\"389.482\" y=\"-285.802\" font-family=\"Times,serif\" font-size=\"14.00\">St1</text>\n",
       "</g>\n",
       "<!-- St6 -->\n",
       "<g id=\"node12\" class=\"node\"><title>St6</title>\n",
       "<ellipse fill=\"none\" stroke=\"black\" cx=\"492.81\" cy=\"-294.002\" rx=\"21.8229\" ry=\"21.8229\"/>\n",
       "<ellipse fill=\"none\" stroke=\"black\" cx=\"492.81\" cy=\"-294.002\" rx=\"25.8081\" ry=\"25.8081\"/>\n",
       "<text text-anchor=\"middle\" x=\"492.81\" y=\"-289.802\" font-family=\"Times,serif\" font-size=\"14.00\">St6</text>\n",
       "</g>\n",
       "<!-- St1&#45;&gt;St6 -->\n",
       "<g id=\"edge13\" class=\"edge\"><title>St1&#45;&gt;St6</title>\n",
       "<path fill=\"none\" stroke=\"black\" d=\"M411.477,-290.831C424.571,-291.347 441.746,-292.025 456.854,-292.622\"/>\n",
       "<polygon fill=\"black\" stroke=\"black\" points=\"456.776,-296.121 466.907,-293.019 457.052,-289.127 456.776,-296.121\"/>\n",
       "<text text-anchor=\"middle\" x=\"440.984\" y=\"-294.802\" font-family=\"Times,serif\" font-size=\"14.00\">a</text>\n",
       "</g>\n",
       "<!-- St8 -->\n",
       "<g id=\"node3\" class=\"node\"><title>St8</title>\n",
       "<ellipse fill=\"none\" stroke=\"black\" cx=\"199.712\" cy=\"-228.002\" rx=\"21.8081\" ry=\"21.8081\"/>\n",
       "<text text-anchor=\"middle\" x=\"199.712\" y=\"-223.802\" font-family=\"Times,serif\" font-size=\"14.00\">St8</text>\n",
       "</g>\n",
       "<!-- St12 -->\n",
       "<g id=\"node8\" class=\"node\"><title>St12</title>\n",
       "<ellipse fill=\"none\" stroke=\"black\" cx=\"290.155\" cy=\"-228.002\" rx=\"26.1523\" ry=\"26.1523\"/>\n",
       "<text text-anchor=\"middle\" x=\"290.155\" y=\"-223.802\" font-family=\"Times,serif\" font-size=\"14.00\">St12</text>\n",
       "</g>\n",
       "<!-- St8&#45;&gt;St12 -->\n",
       "<g id=\"edge4\" class=\"edge\"><title>St8&#45;&gt;St12</title>\n",
       "<path fill=\"none\" stroke=\"black\" d=\"M221.671,-228.002C231.194,-228.002 242.729,-228.002 253.548,-228.002\"/>\n",
       "<polygon fill=\"black\" stroke=\"black\" points=\"253.612,-231.502 263.612,-228.002 253.612,-224.502 253.612,-231.502\"/>\n",
       "<text text-anchor=\"middle\" x=\"242.722\" y=\"-230.802\" font-family=\"Times,serif\" font-size=\"14.00\">c</text>\n",
       "</g>\n",
       "<!-- St10 -->\n",
       "<g id=\"node4\" class=\"node\"><title>St10</title>\n",
       "<ellipse fill=\"none\" stroke=\"black\" cx=\"492.81\" cy=\"-128.002\" rx=\"26.1523\" ry=\"26.1523\"/>\n",
       "<text text-anchor=\"middle\" x=\"492.81\" y=\"-123.802\" font-family=\"Times,serif\" font-size=\"14.00\">St10</text>\n",
       "</g>\n",
       "<!-- St5 -->\n",
       "<g id=\"node14\" class=\"node\"><title>St5</title>\n",
       "<ellipse fill=\"none\" stroke=\"black\" cx=\"591.253\" cy=\"-128.002\" rx=\"21.8229\" ry=\"21.8229\"/>\n",
       "<ellipse fill=\"none\" stroke=\"black\" cx=\"591.253\" cy=\"-128.002\" rx=\"25.8081\" ry=\"25.8081\"/>\n",
       "<text text-anchor=\"middle\" x=\"591.253\" y=\"-123.802\" font-family=\"Times,serif\" font-size=\"14.00\">St5</text>\n",
       "</g>\n",
       "<!-- St10&#45;&gt;St5 -->\n",
       "<g id=\"edge9\" class=\"edge\"><title>St10&#45;&gt;St5</title>\n",
       "<path fill=\"none\" stroke=\"black\" d=\"M519.149,-128.002C530.113,-128.002 543.131,-128.002 555.014,-128.002\"/>\n",
       "<polygon fill=\"black\" stroke=\"black\" points=\"555.083,-131.502 565.083,-128.002 555.083,-124.502 555.083,-131.502\"/>\n",
       "<text text-anchor=\"middle\" x=\"544.242\" y=\"-130.802\" font-family=\"Times,serif\" font-size=\"14.00\">c</text>\n",
       "</g>\n",
       "<!-- St3 -->\n",
       "<g id=\"node5\" class=\"node\"><title>St3</title>\n",
       "<ellipse fill=\"none\" stroke=\"black\" cx=\"389.482\" cy=\"-222.002\" rx=\"21.8081\" ry=\"21.8081\"/>\n",
       "<text text-anchor=\"middle\" x=\"389.482\" y=\"-217.802\" font-family=\"Times,serif\" font-size=\"14.00\">St3</text>\n",
       "</g>\n",
       "<!-- St13 -->\n",
       "<g id=\"node13\" class=\"node\"><title>St13</title>\n",
       "<ellipse fill=\"none\" stroke=\"black\" cx=\"492.81\" cy=\"-220.002\" rx=\"26.1751\" ry=\"26.1751\"/>\n",
       "<ellipse fill=\"none\" stroke=\"black\" cx=\"492.81\" cy=\"-220.002\" rx=\"30.1522\" ry=\"30.1522\"/>\n",
       "<text text-anchor=\"middle\" x=\"492.81\" y=\"-215.802\" font-family=\"Times,serif\" font-size=\"14.00\">St13</text>\n",
       "</g>\n",
       "<!-- St3&#45;&gt;St13 -->\n",
       "<g id=\"edge12\" class=\"edge\"><title>St3&#45;&gt;St13</title>\n",
       "<path fill=\"none\" stroke=\"black\" d=\"M411.477,-221.587C423.21,-221.356 438.221,-221.059 452.084,-220.786\"/>\n",
       "<polygon fill=\"black\" stroke=\"black\" points=\"452.46,-224.279 462.389,-220.582 452.322,-217.281 452.46,-224.279\"/>\n",
       "<text text-anchor=\"middle\" x=\"440.984\" y=\"-224.802\" font-family=\"Times,serif\" font-size=\"14.00\">c</text>\n",
       "</g>\n",
       "<!-- St0 -->\n",
       "<g id=\"node6\" class=\"node\"><title>St0</title>\n",
       "<ellipse fill=\"none\" stroke=\"black\" cx=\"199.712\" cy=\"-166.002\" rx=\"21.8081\" ry=\"21.8081\"/>\n",
       "<text text-anchor=\"middle\" x=\"199.712\" y=\"-161.802\" font-family=\"Times,serif\" font-size=\"14.00\">St0</text>\n",
       "</g>\n",
       "<!-- St0&#45;&gt;St10 -->\n",
       "<g id=\"edge5\" class=\"edge\"><title>St0&#45;&gt;St10</title>\n",
       "<path fill=\"none\" stroke=\"black\" d=\"M221.533,-163.789C260.434,-159.638 346.791,-150.35 419.484,-142.002 430.602,-140.725 433.462,-140.938 444.484,-139.002 448.482,-138.299 452.65,-137.472 456.781,-136.592\"/>\n",
       "<polygon fill=\"black\" stroke=\"black\" points=\"457.867,-139.936 466.862,-134.337 456.339,-133.105 457.867,-139.936\"/>\n",
       "<text text-anchor=\"middle\" x=\"337.981\" y=\"-154.802\" font-family=\"Times,serif\" font-size=\"14.00\">b</text>\n",
       "</g>\n",
       "<!-- St2 -->\n",
       "<g id=\"node10\" class=\"node\"><title>St2</title>\n",
       "<ellipse fill=\"none\" stroke=\"black\" cx=\"290.155\" cy=\"-116.002\" rx=\"21.8229\" ry=\"21.8229\"/>\n",
       "<ellipse fill=\"none\" stroke=\"black\" cx=\"290.155\" cy=\"-116.002\" rx=\"25.8081\" ry=\"25.8081\"/>\n",
       "<text text-anchor=\"middle\" x=\"290.155\" y=\"-111.802\" font-family=\"Times,serif\" font-size=\"14.00\">St2</text>\n",
       "</g>\n",
       "<!-- St0&#45;&gt;St2 -->\n",
       "<g id=\"edge6\" class=\"edge\"><title>St0&#45;&gt;St2</title>\n",
       "<path fill=\"none\" stroke=\"black\" d=\"M218.764,-154.505C225.276,-150.453 232.721,-145.931 239.615,-142.002 245.375,-138.719 251.584,-135.339 257.595,-132.146\"/>\n",
       "<polygon fill=\"black\" stroke=\"black\" points=\"259.554,-135.071 266.782,-127.325 256.301,-128.872 259.554,-135.071\"/>\n",
       "<text text-anchor=\"middle\" x=\"242.722\" y=\"-144.802\" font-family=\"Times,serif\" font-size=\"14.00\">a</text>\n",
       "</g>\n",
       "<!-- St9&#45;&gt;St8 -->\n",
       "<g id=\"edge2\" class=\"edge\"><title>St9&#45;&gt;St8</title>\n",
       "<path fill=\"none\" stroke=\"black\" d=\"M134.002,-205.874C144.458,-209.45 157.444,-213.89 169.032,-217.853\"/>\n",
       "<polygon fill=\"black\" stroke=\"black\" points=\"168.163,-221.255 178.758,-221.178 170.428,-214.631 168.163,-221.255\"/>\n",
       "<text text-anchor=\"middle\" x=\"156.308\" y=\"-217.802\" font-family=\"Times,serif\" font-size=\"14.00\">b</text>\n",
       "</g>\n",
       "<!-- St9&#45;&gt;St0 -->\n",
       "<g id=\"edge3\" class=\"edge\"><title>St9&#45;&gt;St0</title>\n",
       "<path fill=\"none\" stroke=\"black\" d=\"M133.574,-191.348C144.277,-187.183 157.725,-181.95 169.618,-177.322\"/>\n",
       "<polygon fill=\"black\" stroke=\"black\" points=\"171.098,-180.502 179.149,-173.614 168.56,-173.979 171.098,-180.502\"/>\n",
       "<text text-anchor=\"middle\" x=\"156.308\" y=\"-186.802\" font-family=\"Times,serif\" font-size=\"14.00\">a</text>\n",
       "</g>\n",
       "<!-- St12&#45;&gt;St1 -->\n",
       "<g id=\"edge8\" class=\"edge\"><title>St12&#45;&gt;St1</title>\n",
       "<path fill=\"none\" stroke=\"black\" d=\"M312.755,-241.762C327.268,-251.006 346.489,-263.251 361.934,-273.09\"/>\n",
       "<polygon fill=\"black\" stroke=\"black\" points=\"360.214,-276.144 370.528,-278.565 363.975,-270.24 360.214,-276.144\"/>\n",
       "<text text-anchor=\"middle\" x=\"337.981\" y=\"-261.802\" font-family=\"Times,serif\" font-size=\"14.00\">a</text>\n",
       "</g>\n",
       "<!-- St12&#45;&gt;St3 -->\n",
       "<g id=\"edge7\" class=\"edge\"><title>St12&#45;&gt;St3</title>\n",
       "<path fill=\"none\" stroke=\"black\" d=\"M316.472,-226.441C329.005,-225.668 344.246,-224.729 357.473,-223.913\"/>\n",
       "<polygon fill=\"black\" stroke=\"black\" points=\"357.794,-227.4 367.559,-223.292 357.363,-220.414 357.794,-227.4\"/>\n",
       "<text text-anchor=\"middle\" x=\"337.981\" y=\"-228.802\" font-family=\"Times,serif\" font-size=\"14.00\">b</text>\n",
       "</g>\n",
       "<!-- St11 -->\n",
       "<g id=\"node9\" class=\"node\"><title>St11</title>\n",
       "<ellipse fill=\"none\" stroke=\"black\" cx=\"389.482\" cy=\"-30.0017\" rx=\"26.0032\" ry=\"26.0032\"/>\n",
       "<ellipse fill=\"none\" stroke=\"black\" cx=\"389.482\" cy=\"-30.0017\" rx=\"30.0035\" ry=\"30.0035\"/>\n",
       "<text text-anchor=\"middle\" x=\"389.482\" y=\"-25.8017\" font-family=\"Times,serif\" font-size=\"14.00\">St11</text>\n",
       "</g>\n",
       "<!-- St11&#45;&gt;St10 -->\n",
       "<g id=\"edge14\" class=\"edge\"><title>St11&#45;&gt;St10</title>\n",
       "<path fill=\"none\" stroke=\"black\" d=\"M411.971,-50.785C427.79,-66.0842 449.365,-86.9504 466.099,-103.135\"/>\n",
       "<polygon fill=\"black\" stroke=\"black\" points=\"463.787,-105.769 473.409,-110.205 468.654,-100.737 463.787,-105.769\"/>\n",
       "<text text-anchor=\"middle\" x=\"440.984\" y=\"-84.8017\" font-family=\"Times,serif\" font-size=\"14.00\">b</text>\n",
       "</g>\n",
       "<!-- St11&#45;&gt;St11 -->\n",
       "<g id=\"edge15\" class=\"edge\"><title>St11&#45;&gt;St11</title>\n",
       "<path fill=\"none\" stroke=\"black\" d=\"M380.128,-58.584C379.821,-69.2356 382.939,-78.0035 389.482,-78.0035 393.776,-78.0035 396.595,-74.2275 397.939,-68.6211\"/>\n",
       "<polygon fill=\"black\" stroke=\"black\" points=\"401.432,-68.856 398.837,-58.584 394.46,-68.2323 401.432,-68.856\"/>\n",
       "<text text-anchor=\"middle\" x=\"389.482\" y=\"-80.8035\" font-family=\"Times,serif\" font-size=\"14.00\">a</text>\n",
       "</g>\n",
       "<!-- St2&#45;&gt;St10 -->\n",
       "<g id=\"edge10\" class=\"edge\"><title>St2&#45;&gt;St10</title>\n",
       "<path fill=\"none\" stroke=\"black\" d=\"M316.162,-117.497C351.459,-119.608 416.066,-123.472 456.318,-125.879\"/>\n",
       "<polygon fill=\"black\" stroke=\"black\" points=\"456.296,-129.384 466.487,-126.487 456.714,-122.397 456.296,-129.384\"/>\n",
       "<text text-anchor=\"middle\" x=\"389.482\" y=\"-126.802\" font-family=\"Times,serif\" font-size=\"14.00\">b</text>\n",
       "</g>\n",
       "<!-- St2&#45;&gt;St11 -->\n",
       "<g id=\"edge11\" class=\"edge\"><title>St2&#45;&gt;St11</title>\n",
       "<path fill=\"none\" stroke=\"black\" d=\"M310.384,-99.0109C324.065,-86.9222 342.717,-70.4406 358.363,-56.616\"/>\n",
       "<polygon fill=\"black\" stroke=\"black\" points=\"361.052,-58.9105 366.228,-49.6662 356.417,-53.6649 361.052,-58.9105\"/>\n",
       "<text text-anchor=\"middle\" x=\"337.981\" y=\"-78.8017\" font-family=\"Times,serif\" font-size=\"14.00\">a</text>\n",
       "</g>\n",
       "<!-- St7 -->\n",
       "<g id=\"node11\" class=\"node\"><title>St7</title>\n",
       "<ellipse fill=\"none\" stroke=\"black\" cx=\"591.253\" cy=\"-294.002\" rx=\"21.8229\" ry=\"21.8229\"/>\n",
       "<ellipse fill=\"none\" stroke=\"black\" cx=\"591.253\" cy=\"-294.002\" rx=\"25.8081\" ry=\"25.8081\"/>\n",
       "<text text-anchor=\"middle\" x=\"591.253\" y=\"-289.802\" font-family=\"Times,serif\" font-size=\"14.00\">St7</text>\n",
       "</g>\n",
       "<!-- St7&#45;&gt;St7 -->\n",
       "<g id=\"edge17\" class=\"edge\"><title>St7&#45;&gt;St7</title>\n",
       "<path fill=\"none\" stroke=\"black\" d=\"M582.704,-318.825C582.114,-329.152 584.964,-337.906 591.253,-337.906 595.282,-337.906 597.899,-334.313 599.105,-329.016\"/>\n",
       "<polygon fill=\"black\" stroke=\"black\" points=\"602.612,-329.041 599.802,-318.825 595.628,-328.563 602.612,-329.041\"/>\n",
       "<text text-anchor=\"middle\" x=\"591.253\" y=\"-340.706\" font-family=\"Times,serif\" font-size=\"14.00\">a</text>\n",
       "</g>\n",
       "<!-- St6&#45;&gt;St7 -->\n",
       "<g id=\"edge16\" class=\"edge\"><title>St6&#45;&gt;St7</title>\n",
       "<path fill=\"none\" stroke=\"black\" d=\"M518.897,-294.002C529.948,-294.002 543.123,-294.002 555.127,-294.002\"/>\n",
       "<polygon fill=\"black\" stroke=\"black\" points=\"555.291,-297.502 565.291,-294.002 555.291,-290.502 555.291,-297.502\"/>\n",
       "<text text-anchor=\"middle\" x=\"544.242\" y=\"-296.802\" font-family=\"Times,serif\" font-size=\"14.00\">a</text>\n",
       "</g>\n",
       "</g>\n",
       "</svg>\n"
      ],
      "text/plain": [
       "<graphviz.dot.Digraph at 0x108be71d0>"
      ]
     },
     "execution_count": 35,
     "metadata": {},
     "output_type": "execute_result"
    }
   ],
   "source": [
    "dotObj_dfa(d1d)"
   ]
  },
  {
   "cell_type": "code",
   "execution_count": 36,
   "metadata": {
    "run_control": {
     "frozen": false,
     "read_only": false
    }
   },
   "outputs": [
    {
     "data": {
      "image/svg+xml": [
       "<?xml version=\"1.0\" encoding=\"UTF-8\" standalone=\"no\"?>\n",
       "<!DOCTYPE svg PUBLIC \"-//W3C//DTD SVG 1.1//EN\"\n",
       " \"http://www.w3.org/Graphics/SVG/1.1/DTD/svg11.dtd\">\n",
       "<!-- Generated by graphviz version 2.38.0 (20140413.2041)\n",
       " -->\n",
       "<!-- Title: %3 Pages: 1 -->\n",
       "<svg width=\"616pt\" height=\"289pt\"\n",
       " viewBox=\"0.00 0.00 616.12 288.99\" xmlns=\"http://www.w3.org/2000/svg\" xmlns:xlink=\"http://www.w3.org/1999/xlink\">\n",
       "<g id=\"graph0\" class=\"graph\" transform=\"scale(1 1) rotate(0) translate(4 284.991)\">\n",
       "<title>%3</title>\n",
       "<polygon fill=\"white\" stroke=\"none\" points=\"-4,4 -4,-284.991 612.118,-284.991 612.118,4 -4,4\"/>\n",
       "<!-- EMPTY -->\n",
       "<g id=\"node1\" class=\"node\"><title>EMPTY</title>\n",
       "</g>\n",
       "<!-- St7 -->\n",
       "<g id=\"node3\" class=\"node\"><title>St7</title>\n",
       "<ellipse fill=\"none\" stroke=\"black\" cx=\"112.904\" cy=\"-90.0868\" rx=\"21.8081\" ry=\"21.8081\"/>\n",
       "<text text-anchor=\"middle\" x=\"112.904\" y=\"-85.8868\" font-family=\"Times,serif\" font-size=\"14.00\">St7</text>\n",
       "</g>\n",
       "<!-- EMPTY&#45;&gt;St7 -->\n",
       "<g id=\"edge1\" class=\"edge\"><title>EMPTY&#45;&gt;St7</title>\n",
       "<path fill=\"none\" stroke=\"black\" d=\"M54.0878,-90.0868C62.501,-90.0868 71.9126,-90.0868 80.6587,-90.0868\"/>\n",
       "<polygon fill=\"black\" stroke=\"black\" points=\"80.8854,-93.5869 90.8853,-90.0868 80.8853,-86.5869 80.8854,-93.5869\"/>\n",
       "</g>\n",
       "<!-- St8 -->\n",
       "<g id=\"node2\" class=\"node\"><title>St8</title>\n",
       "<ellipse fill=\"none\" stroke=\"black\" cx=\"298.577\" cy=\"-165.087\" rx=\"21.8081\" ry=\"21.8081\"/>\n",
       "<text text-anchor=\"middle\" x=\"298.577\" y=\"-160.887\" font-family=\"Times,serif\" font-size=\"14.00\">St8</text>\n",
       "</g>\n",
       "<!-- St9 -->\n",
       "<g id=\"node5\" class=\"node\"><title>St9</title>\n",
       "<ellipse fill=\"none\" stroke=\"black\" cx=\"488.192\" cy=\"-36.0868\" rx=\"21.8081\" ry=\"21.8081\"/>\n",
       "<text text-anchor=\"middle\" x=\"488.192\" y=\"-31.8868\" font-family=\"Times,serif\" font-size=\"14.00\">St9</text>\n",
       "</g>\n",
       "<!-- St8&#45;&gt;St9 -->\n",
       "<g id=\"edge7\" class=\"edge\"><title>St8&#45;&gt;St9</title>\n",
       "<path fill=\"none\" stroke=\"black\" d=\"M320.927,-164.943C346.45,-163.787 389.449,-158.616 419.288,-138.087 445.205,-120.256 463.838,-88.9907 474.954,-65.7612\"/>\n",
       "<polygon fill=\"black\" stroke=\"black\" points=\"478.278,-66.9097 479.258,-56.3602 471.913,-63.9961 478.278,-66.9097\"/>\n",
       "<text text-anchor=\"middle\" x=\"393.384\" y=\"-161.887\" font-family=\"Times,serif\" font-size=\"14.00\">b</text>\n",
       "</g>\n",
       "<!-- St2 -->\n",
       "<g id=\"node10\" class=\"node\"><title>St2</title>\n",
       "<ellipse fill=\"none\" stroke=\"black\" cx=\"393.384\" cy=\"-223.087\" rx=\"21.8229\" ry=\"21.8229\"/>\n",
       "<ellipse fill=\"none\" stroke=\"black\" cx=\"393.384\" cy=\"-223.087\" rx=\"25.8081\" ry=\"25.8081\"/>\n",
       "<text text-anchor=\"middle\" x=\"393.384\" y=\"-218.887\" font-family=\"Times,serif\" font-size=\"14.00\">St2</text>\n",
       "</g>\n",
       "<!-- St8&#45;&gt;St2 -->\n",
       "<g id=\"edge8\" class=\"edge\"><title>St8&#45;&gt;St2</title>\n",
       "<path fill=\"none\" stroke=\"black\" d=\"M317.471,-176.27C330.121,-184.175 347.386,-194.965 362.153,-204.194\"/>\n",
       "<polygon fill=\"black\" stroke=\"black\" points=\"360.626,-207.367 370.961,-209.699 364.336,-201.431 360.626,-207.367\"/>\n",
       "<text text-anchor=\"middle\" x=\"345.981\" y=\"-198.887\" font-family=\"Times,serif\" font-size=\"14.00\">a</text>\n",
       "</g>\n",
       "<!-- St4 -->\n",
       "<g id=\"node4\" class=\"node\"><title>St4</title>\n",
       "<ellipse fill=\"none\" stroke=\"black\" cx=\"204.133\" cy=\"-125.087\" rx=\"21.8081\" ry=\"21.8081\"/>\n",
       "<text text-anchor=\"middle\" x=\"204.133\" y=\"-120.887\" font-family=\"Times,serif\" font-size=\"14.00\">St4</text>\n",
       "</g>\n",
       "<!-- St7&#45;&gt;St4 -->\n",
       "<g id=\"edge2\" class=\"edge\"><title>St7&#45;&gt;St4</title>\n",
       "<path fill=\"none\" stroke=\"black\" d=\"M133.707,-97.8545C145.49,-102.476 160.659,-108.426 173.811,-113.585\"/>\n",
       "<polygon fill=\"black\" stroke=\"black\" points=\"172.798,-116.948 183.386,-117.341 175.354,-110.431 172.798,-116.948\"/>\n",
       "<text text-anchor=\"middle\" x=\"156.308\" y=\"-110.887\" font-family=\"Times,serif\" font-size=\"14.00\">b</text>\n",
       "</g>\n",
       "<!-- St10 -->\n",
       "<g id=\"node6\" class=\"node\"><title>St10</title>\n",
       "<ellipse fill=\"none\" stroke=\"black\" cx=\"204.133\" cy=\"-46.0868\" rx=\"26.1523\" ry=\"26.1523\"/>\n",
       "<text text-anchor=\"middle\" x=\"204.133\" y=\"-41.8868\" font-family=\"Times,serif\" font-size=\"14.00\">St10</text>\n",
       "</g>\n",
       "<!-- St7&#45;&gt;St10 -->\n",
       "<g id=\"edge3\" class=\"edge\"><title>St7&#45;&gt;St10</title>\n",
       "<path fill=\"none\" stroke=\"black\" d=\"M132.827,-80.7556C143.942,-75.2748 158.284,-68.2027 171.112,-61.8768\"/>\n",
       "<polygon fill=\"black\" stroke=\"black\" points=\"172.697,-64.9976 180.118,-57.4358 169.601,-58.7194 172.697,-64.9976\"/>\n",
       "<text text-anchor=\"middle\" x=\"156.308\" y=\"-73.8868\" font-family=\"Times,serif\" font-size=\"14.00\">a</text>\n",
       "</g>\n",
       "<!-- St4&#45;&gt;St8 -->\n",
       "<g id=\"edge4\" class=\"edge\"><title>St4&#45;&gt;St8</title>\n",
       "<path fill=\"none\" stroke=\"black\" d=\"M224.738,-133.57C237.571,-139.122 254.555,-146.472 268.895,-152.677\"/>\n",
       "<polygon fill=\"black\" stroke=\"black\" points=\"267.749,-155.994 278.317,-156.753 270.529,-149.57 267.749,-155.994\"/>\n",
       "<text text-anchor=\"middle\" x=\"251.566\" y=\"-149.887\" font-family=\"Times,serif\" font-size=\"14.00\">c</text>\n",
       "</g>\n",
       "<!-- St6 -->\n",
       "<g id=\"node11\" class=\"node\"><title>St6</title>\n",
       "<ellipse fill=\"none\" stroke=\"black\" cx=\"582.214\" cy=\"-36.0868\" rx=\"21.8229\" ry=\"21.8229\"/>\n",
       "<ellipse fill=\"none\" stroke=\"black\" cx=\"582.214\" cy=\"-36.0868\" rx=\"25.8081\" ry=\"25.8081\"/>\n",
       "<text text-anchor=\"middle\" x=\"582.214\" y=\"-31.8868\" font-family=\"Times,serif\" font-size=\"14.00\">St6</text>\n",
       "</g>\n",
       "<!-- St9&#45;&gt;St6 -->\n",
       "<g id=\"edge9\" class=\"edge\"><title>St9&#45;&gt;St6</title>\n",
       "<path fill=\"none\" stroke=\"black\" d=\"M510.535,-36.0868C521.048,-36.0868 533.999,-36.0868 545.932,-36.0868\"/>\n",
       "<polygon fill=\"black\" stroke=\"black\" points=\"546.068,-39.5869 556.068,-36.0868 546.068,-32.5869 546.068,-39.5869\"/>\n",
       "<text text-anchor=\"middle\" x=\"535.203\" y=\"-38.8868\" font-family=\"Times,serif\" font-size=\"14.00\">c</text>\n",
       "</g>\n",
       "<!-- St10&#45;&gt;St9 -->\n",
       "<g id=\"edge5\" class=\"edge\"><title>St10&#45;&gt;St9</title>\n",
       "<path fill=\"none\" stroke=\"black\" d=\"M226.63,-31.765C239.423,-24.0743 256.308,-15.3243 272.673,-11.0868 346.612,8.05935 370.434,-0.613617 444.288,-20.0868 448.821,-21.282 453.542,-22.7756 458.124,-24.3666\"/>\n",
       "<polygon fill=\"black\" stroke=\"black\" points=\"457.213,-27.7604 467.806,-27.9273 459.629,-21.1906 457.213,-27.7604\"/>\n",
       "<text text-anchor=\"middle\" x=\"345.981\" y=\"-3.88683\" font-family=\"Times,serif\" font-size=\"14.00\">b</text>\n",
       "</g>\n",
       "<!-- St0 -->\n",
       "<g id=\"node9\" class=\"node\"><title>St0</title>\n",
       "<ellipse fill=\"none\" stroke=\"black\" cx=\"298.577\" cy=\"-46.0868\" rx=\"21.8229\" ry=\"21.8229\"/>\n",
       "<ellipse fill=\"none\" stroke=\"black\" cx=\"298.577\" cy=\"-46.0868\" rx=\"25.8081\" ry=\"25.8081\"/>\n",
       "<text text-anchor=\"middle\" x=\"298.577\" y=\"-41.8868\" font-family=\"Times,serif\" font-size=\"14.00\">St0</text>\n",
       "</g>\n",
       "<!-- St10&#45;&gt;St0 -->\n",
       "<g id=\"edge6\" class=\"edge\"><title>St10&#45;&gt;St0</title>\n",
       "<path fill=\"none\" stroke=\"black\" d=\"M230.884,-46.0868C240.661,-46.0868 251.968,-46.0868 262.464,-46.0868\"/>\n",
       "<polygon fill=\"black\" stroke=\"black\" points=\"262.602,-49.5869 272.602,-46.0868 262.602,-42.5869 262.602,-49.5869\"/>\n",
       "<text text-anchor=\"middle\" x=\"251.566\" y=\"-48.8868\" font-family=\"Times,serif\" font-size=\"14.00\">a</text>\n",
       "</g>\n",
       "<!-- St1 -->\n",
       "<g id=\"node7\" class=\"node\"><title>St1</title>\n",
       "<ellipse fill=\"none\" stroke=\"black\" cx=\"393.384\" cy=\"-71.0868\" rx=\"21.8229\" ry=\"21.8229\"/>\n",
       "<ellipse fill=\"none\" stroke=\"black\" cx=\"393.384\" cy=\"-71.0868\" rx=\"25.8081\" ry=\"25.8081\"/>\n",
       "<text text-anchor=\"middle\" x=\"393.384\" y=\"-66.8868\" font-family=\"Times,serif\" font-size=\"14.00\">St1</text>\n",
       "</g>\n",
       "<!-- St1&#45;&gt;St9 -->\n",
       "<g id=\"edge13\" class=\"edge\"><title>St1&#45;&gt;St9</title>\n",
       "<path fill=\"none\" stroke=\"black\" d=\"M417.804,-62.2549C430.042,-57.6395 445.134,-51.9481 458.113,-47.0531\"/>\n",
       "<polygon fill=\"black\" stroke=\"black\" points=\"459.424,-50.2996 467.545,-43.4961 456.954,-43.7499 459.424,-50.2996\"/>\n",
       "<text text-anchor=\"middle\" x=\"440.788\" y=\"-57.8868\" font-family=\"Times,serif\" font-size=\"14.00\">b</text>\n",
       "</g>\n",
       "<!-- St1&#45;&gt;St1 -->\n",
       "<g id=\"edge14\" class=\"edge\"><title>St1&#45;&gt;St1</title>\n",
       "<path fill=\"none\" stroke=\"black\" d=\"M384.835,-95.9105C384.246,-106.237 387.095,-114.991 393.384,-114.991 397.413,-114.991 400.031,-111.398 401.237,-106.101\"/>\n",
       "<polygon fill=\"black\" stroke=\"black\" points=\"404.743,-106.126 401.934,-95.9105 397.759,-105.648 404.743,-106.126\"/>\n",
       "<text text-anchor=\"middle\" x=\"393.384\" y=\"-117.791\" font-family=\"Times,serif\" font-size=\"14.00\">a</text>\n",
       "</g>\n",
       "<!-- St3 -->\n",
       "<g id=\"node8\" class=\"node\"><title>St3</title>\n",
       "<ellipse fill=\"none\" stroke=\"black\" cx=\"488.192\" cy=\"-223.087\" rx=\"21.8229\" ry=\"21.8229\"/>\n",
       "<ellipse fill=\"none\" stroke=\"black\" cx=\"488.192\" cy=\"-223.087\" rx=\"25.8081\" ry=\"25.8081\"/>\n",
       "<text text-anchor=\"middle\" x=\"488.192\" y=\"-218.887\" font-family=\"Times,serif\" font-size=\"14.00\">St3</text>\n",
       "</g>\n",
       "<!-- St3&#45;&gt;St3 -->\n",
       "<g id=\"edge15\" class=\"edge\"><title>St3&#45;&gt;St3</title>\n",
       "<path fill=\"none\" stroke=\"black\" d=\"M479.643,-247.911C479.053,-258.237 481.903,-266.991 488.192,-266.991 492.221,-266.991 494.838,-263.398 496.044,-258.101\"/>\n",
       "<polygon fill=\"black\" stroke=\"black\" points=\"499.551,-258.126 496.741,-247.911 492.567,-257.648 499.551,-258.126\"/>\n",
       "<text text-anchor=\"middle\" x=\"488.192\" y=\"-269.791\" font-family=\"Times,serif\" font-size=\"14.00\">a</text>\n",
       "</g>\n",
       "<!-- St0&#45;&gt;St9 -->\n",
       "<g id=\"edge10\" class=\"edge\"><title>St0&#45;&gt;St9</title>\n",
       "<path fill=\"none\" stroke=\"black\" d=\"M322.621,-35.7407C335.525,-30.513 352.076,-24.729 367.481,-22.0868 397.662,-16.9101 432.457,-22.227 456.728,-27.7318\"/>\n",
       "<polygon fill=\"black\" stroke=\"black\" points=\"456.221,-31.2097 466.763,-30.1546 457.864,-24.4053 456.221,-31.2097\"/>\n",
       "<text text-anchor=\"middle\" x=\"393.384\" y=\"-24.8868\" font-family=\"Times,serif\" font-size=\"14.00\">b</text>\n",
       "</g>\n",
       "<!-- St0&#45;&gt;St1 -->\n",
       "<g id=\"edge11\" class=\"edge\"><title>St0&#45;&gt;St1</title>\n",
       "<path fill=\"none\" stroke=\"black\" d=\"M323.961,-52.6553C334.511,-55.4974 347.039,-58.872 358.473,-61.9521\"/>\n",
       "<polygon fill=\"black\" stroke=\"black\" points=\"357.597,-65.3407 368.163,-64.5622 359.418,-58.5816 357.597,-65.3407\"/>\n",
       "<text text-anchor=\"middle\" x=\"345.981\" y=\"-62.8868\" font-family=\"Times,serif\" font-size=\"14.00\">a</text>\n",
       "</g>\n",
       "<!-- St2&#45;&gt;St3 -->\n",
       "<g id=\"edge12\" class=\"edge\"><title>St2&#45;&gt;St3</title>\n",
       "<path fill=\"none\" stroke=\"black\" d=\"M419.745,-223.087C429.646,-223.087 441.17,-223.087 451.861,-223.087\"/>\n",
       "<polygon fill=\"black\" stroke=\"black\" points=\"452.184,-226.587 462.184,-223.087 452.184,-219.587 452.184,-226.587\"/>\n",
       "<text text-anchor=\"middle\" x=\"440.788\" y=\"-225.887\" font-family=\"Times,serif\" font-size=\"14.00\">a</text>\n",
       "</g>\n",
       "</g>\n",
       "</svg>\n"
      ],
      "text/plain": [
       "<graphviz.dot.Digraph at 0x108be74a8>"
      ]
     },
     "execution_count": 36,
     "metadata": {},
     "output_type": "execute_result"
    }
   ],
   "source": [
    "dotObj_dfa(d2d)"
   ]
  },
  {
   "cell_type": "code",
   "execution_count": 37,
   "metadata": {
    "run_control": {
     "frozen": false,
     "read_only": false
    }
   },
   "outputs": [
    {
     "name": "stderr",
     "output_type": "stream",
     "text": [
      "Generating LALR tables\n"
     ]
    },
    {
     "data": {
      "image/svg+xml": [
       "<?xml version=\"1.0\" encoding=\"UTF-8\" standalone=\"no\"?>\n",
       "<!DOCTYPE svg PUBLIC \"-//W3C//DTD SVG 1.1//EN\"\n",
       " \"http://www.w3.org/Graphics/SVG/1.1/DTD/svg11.dtd\">\n",
       "<!-- Generated by graphviz version 2.38.0 (20140413.2041)\n",
       " -->\n",
       "<!-- Title: %3 Pages: 1 -->\n",
       "<svg width=\"612pt\" height=\"198pt\"\n",
       " viewBox=\"0.00 0.00 612.03 198.23\" xmlns=\"http://www.w3.org/2000/svg\" xmlns:xlink=\"http://www.w3.org/1999/xlink\">\n",
       "<g id=\"graph0\" class=\"graph\" transform=\"scale(1 1) rotate(0) translate(4 194.229)\">\n",
       "<title>%3</title>\n",
       "<polygon fill=\"white\" stroke=\"none\" points=\"-4,4 -4,-194.229 608.028,-194.229 608.028,4 -4,4\"/>\n",
       "<!-- EMPTY -->\n",
       "<g id=\"node1\" class=\"node\"><title>EMPTY</title>\n",
       "</g>\n",
       "<!-- St9 -->\n",
       "<g id=\"node7\" class=\"node\"><title>St9</title>\n",
       "<ellipse fill=\"none\" stroke=\"black\" cx=\"112.904\" cy=\"-84.9039\" rx=\"21.8081\" ry=\"21.8081\"/>\n",
       "<text text-anchor=\"middle\" x=\"112.904\" y=\"-80.7039\" font-family=\"Times,serif\" font-size=\"14.00\">St9</text>\n",
       "</g>\n",
       "<!-- EMPTY&#45;&gt;St9 -->\n",
       "<g id=\"edge1\" class=\"edge\"><title>EMPTY&#45;&gt;St9</title>\n",
       "<path fill=\"none\" stroke=\"black\" d=\"M54.0878,-84.9039C62.501,-84.9039 71.9126,-84.9039 80.6587,-84.9039\"/>\n",
       "<polygon fill=\"black\" stroke=\"black\" points=\"80.8854,-88.404 90.8853,-84.9039 80.8853,-81.404 80.8854,-88.404\"/>\n",
       "</g>\n",
       "<!-- St0 -->\n",
       "<g id=\"node2\" class=\"node\"><title>St0</title>\n",
       "<ellipse fill=\"none\" stroke=\"black\" cx=\"286.519\" cy=\"-51.9039\" rx=\"21.8081\" ry=\"21.8081\"/>\n",
       "<text text-anchor=\"middle\" x=\"286.519\" y=\"-47.7039\" font-family=\"Times,serif\" font-size=\"14.00\">St0</text>\n",
       "</g>\n",
       "<!-- St8 -->\n",
       "<g id=\"node8\" class=\"node\"><title>St8</title>\n",
       "<ellipse fill=\"none\" stroke=\"black\" cx=\"381.217\" cy=\"-47.9039\" rx=\"21.8229\" ry=\"21.8229\"/>\n",
       "<ellipse fill=\"none\" stroke=\"black\" cx=\"381.217\" cy=\"-47.9039\" rx=\"25.8081\" ry=\"25.8081\"/>\n",
       "<text text-anchor=\"middle\" x=\"381.217\" y=\"-43.7039\" font-family=\"Times,serif\" font-size=\"14.00\">St8</text>\n",
       "</g>\n",
       "<!-- St0&#45;&gt;St8 -->\n",
       "<g id=\"edge7\" class=\"edge\"><title>St0&#45;&gt;St8</title>\n",
       "<path fill=\"none\" stroke=\"black\" d=\"M308.554,-50.9962C319.404,-50.528 332.925,-49.9446 345.289,-49.4111\"/>\n",
       "<polygon fill=\"black\" stroke=\"black\" points=\"345.479,-52.9062 355.318,-48.9783 345.177,-45.9127 345.479,-52.9062\"/>\n",
       "<text text-anchor=\"middle\" x=\"331.868\" y=\"-53.7039\" font-family=\"Times,serif\" font-size=\"14.00\">n</text>\n",
       "</g>\n",
       "<!-- St2 -->\n",
       "<g id=\"node3\" class=\"node\"><title>St2</title>\n",
       "<ellipse fill=\"none\" stroke=\"black\" cx=\"381.217\" cy=\"-115.904\" rx=\"21.8081\" ry=\"21.8081\"/>\n",
       "<text text-anchor=\"middle\" x=\"381.217\" y=\"-111.704\" font-family=\"Times,serif\" font-size=\"14.00\">St2</text>\n",
       "</g>\n",
       "<!-- St5 -->\n",
       "<g id=\"node9\" class=\"node\"><title>St5</title>\n",
       "<ellipse fill=\"none\" stroke=\"black\" cx=\"476.024\" cy=\"-127.904\" rx=\"21.8229\" ry=\"21.8229\"/>\n",
       "<ellipse fill=\"none\" stroke=\"black\" cx=\"476.024\" cy=\"-127.904\" rx=\"25.8081\" ry=\"25.8081\"/>\n",
       "<text text-anchor=\"middle\" x=\"476.024\" y=\"-123.704\" font-family=\"Times,serif\" font-size=\"14.00\">St5</text>\n",
       "</g>\n",
       "<!-- St2&#45;&gt;St5 -->\n",
       "<g id=\"edge8\" class=\"edge\"><title>St2&#45;&gt;St5</title>\n",
       "<path fill=\"none\" stroke=\"black\" d=\"M403.276,-118.627C414.139,-120.031 427.676,-121.782 440.055,-123.382\"/>\n",
       "<polygon fill=\"black\" stroke=\"black\" points=\"439.73,-126.869 450.096,-124.681 440.628,-119.927 439.73,-126.869\"/>\n",
       "<text text-anchor=\"middle\" x=\"428.621\" y=\"-125.704\" font-family=\"Times,serif\" font-size=\"14.00\">e</text>\n",
       "</g>\n",
       "<!-- St7 -->\n",
       "<g id=\"node4\" class=\"node\"><title>St7</title>\n",
       "<ellipse fill=\"none\" stroke=\"black\" cx=\"286.519\" cy=\"-113.904\" rx=\"21.8081\" ry=\"21.8081\"/>\n",
       "<text text-anchor=\"middle\" x=\"286.519\" y=\"-109.704\" font-family=\"Times,serif\" font-size=\"14.00\">St7</text>\n",
       "</g>\n",
       "<!-- St7&#45;&gt;St2 -->\n",
       "<g id=\"edge6\" class=\"edge\"><title>St7&#45;&gt;St2</title>\n",
       "<path fill=\"none\" stroke=\"black\" d=\"M308.554,-114.358C320.524,-114.616 335.744,-114.944 349.076,-115.232\"/>\n",
       "<polygon fill=\"black\" stroke=\"black\" points=\"349.192,-118.735 359.265,-115.452 349.343,-111.737 349.192,-118.735\"/>\n",
       "<text text-anchor=\"middle\" x=\"331.868\" y=\"-118.704\" font-family=\"Times,serif\" font-size=\"14.00\">m</text>\n",
       "</g>\n",
       "<!-- St6 -->\n",
       "<g id=\"node5\" class=\"node\"><title>St6</title>\n",
       "<ellipse fill=\"none\" stroke=\"black\" cx=\"199.712\" cy=\"-113.904\" rx=\"21.8081\" ry=\"21.8081\"/>\n",
       "<text text-anchor=\"middle\" x=\"199.712\" y=\"-109.704\" font-family=\"Times,serif\" font-size=\"14.00\">St6</text>\n",
       "</g>\n",
       "<!-- St6&#45;&gt;St7 -->\n",
       "<g id=\"edge4\" class=\"edge\"><title>St6&#45;&gt;St7</title>\n",
       "<path fill=\"none\" stroke=\"black\" d=\"M221.675,-113.904C231.563,-113.904 243.561,-113.904 254.475,-113.904\"/>\n",
       "<polygon fill=\"black\" stroke=\"black\" points=\"254.503,-117.404 264.503,-113.904 254.503,-110.404 254.503,-117.404\"/>\n",
       "<text text-anchor=\"middle\" x=\"243.115\" y=\"-116.704\" font-family=\"Times,serif\" font-size=\"14.00\">a</text>\n",
       "</g>\n",
       "<!-- St4 -->\n",
       "<g id=\"node6\" class=\"node\"><title>St4</title>\n",
       "<ellipse fill=\"none\" stroke=\"black\" cx=\"199.712\" cy=\"-51.9039\" rx=\"21.8081\" ry=\"21.8081\"/>\n",
       "<text text-anchor=\"middle\" x=\"199.712\" y=\"-47.7039\" font-family=\"Times,serif\" font-size=\"14.00\">St4</text>\n",
       "</g>\n",
       "<!-- St4&#45;&gt;St0 -->\n",
       "<g id=\"edge5\" class=\"edge\"><title>St4&#45;&gt;St0</title>\n",
       "<path fill=\"none\" stroke=\"black\" d=\"M221.675,-51.9039C231.563,-51.9039 243.561,-51.9039 254.475,-51.9039\"/>\n",
       "<polygon fill=\"black\" stroke=\"black\" points=\"254.503,-55.404 264.503,-51.9039 254.503,-48.404 254.503,-55.404\"/>\n",
       "<text text-anchor=\"middle\" x=\"243.115\" y=\"-54.7039\" font-family=\"Times,serif\" font-size=\"14.00\">o</text>\n",
       "</g>\n",
       "<!-- St9&#45;&gt;St6 -->\n",
       "<g id=\"edge2\" class=\"edge\"><title>St9&#45;&gt;St6</title>\n",
       "<path fill=\"none\" stroke=\"black\" d=\"M134.002,-91.7765C144.458,-95.3519 157.444,-99.7924 169.032,-103.755\"/>\n",
       "<polygon fill=\"black\" stroke=\"black\" points=\"168.163,-107.157 178.758,-107.081 170.428,-100.533 168.163,-107.157\"/>\n",
       "<text text-anchor=\"middle\" x=\"156.308\" y=\"-103.704\" font-family=\"Times,serif\" font-size=\"14.00\">j</text>\n",
       "</g>\n",
       "<!-- St9&#45;&gt;St4 -->\n",
       "<g id=\"edge3\" class=\"edge\"><title>St9&#45;&gt;St4</title>\n",
       "<path fill=\"none\" stroke=\"black\" d=\"M133.574,-77.2501C144.277,-73.085 157.725,-67.8523 169.618,-63.2245\"/>\n",
       "<polygon fill=\"black\" stroke=\"black\" points=\"171.098,-66.4043 179.149,-59.5162 168.56,-59.8808 171.098,-66.4043\"/>\n",
       "<text text-anchor=\"middle\" x=\"156.308\" y=\"-72.7039\" font-family=\"Times,serif\" font-size=\"14.00\">b</text>\n",
       "</g>\n",
       "<!-- St1 -->\n",
       "<g id=\"node10\" class=\"node\"><title>St1</title>\n",
       "<ellipse fill=\"none\" stroke=\"black\" cx=\"476.024\" cy=\"-25.9039\" rx=\"21.8229\" ry=\"21.8229\"/>\n",
       "<ellipse fill=\"none\" stroke=\"black\" cx=\"476.024\" cy=\"-25.9039\" rx=\"25.8081\" ry=\"25.8081\"/>\n",
       "<text text-anchor=\"middle\" x=\"476.024\" y=\"-21.7039\" font-family=\"Times,serif\" font-size=\"14.00\">St1</text>\n",
       "</g>\n",
       "<!-- St8&#45;&gt;St1 -->\n",
       "<g id=\"edge9\" class=\"edge\"><title>St8&#45;&gt;St1</title>\n",
       "<path fill=\"none\" stroke=\"black\" d=\"M406.601,-42.1236C416.963,-39.6674 429.231,-36.7591 440.499,-34.0882\"/>\n",
       "<polygon fill=\"black\" stroke=\"black\" points=\"441.558,-37.4342 450.481,-31.7219 439.943,-30.6229 441.558,-37.4342\"/>\n",
       "<text text-anchor=\"middle\" x=\"428.621\" y=\"-40.7039\" font-family=\"Times,serif\" font-size=\"14.00\">d</text>\n",
       "</g>\n",
       "<!-- St10 -->\n",
       "<g id=\"node11\" class=\"node\"><title>St10</title>\n",
       "<ellipse fill=\"none\" stroke=\"black\" cx=\"573.702\" cy=\"-127.904\" rx=\"26.1751\" ry=\"26.1751\"/>\n",
       "<ellipse fill=\"none\" stroke=\"black\" cx=\"573.702\" cy=\"-127.904\" rx=\"30.1522\" ry=\"30.1522\"/>\n",
       "<text text-anchor=\"middle\" x=\"573.702\" y=\"-123.704\" font-family=\"Times,serif\" font-size=\"14.00\">St10</text>\n",
       "</g>\n",
       "<!-- St5&#45;&gt;St10 -->\n",
       "<g id=\"edge10\" class=\"edge\"><title>St5&#45;&gt;St10</title>\n",
       "<path fill=\"none\" stroke=\"black\" d=\"M502.163,-127.904C511.63,-127.904 522.642,-127.904 533.111,-127.904\"/>\n",
       "<polygon fill=\"black\" stroke=\"black\" points=\"533.321,-131.404 543.321,-127.904 533.321,-124.404 533.321,-131.404\"/>\n",
       "<text text-anchor=\"middle\" x=\"522.652\" y=\"-130.704\" font-family=\"Times,serif\" font-size=\"14.00\">s</text>\n",
       "</g>\n",
       "<!-- St1&#45;&gt;St1 -->\n",
       "<g id=\"edge11\" class=\"edge\"><title>St1&#45;&gt;St1</title>\n",
       "<path fill=\"none\" stroke=\"black\" d=\"M467.475,-50.7276C466.886,-61.0541 469.735,-69.8077 476.024,-69.8077 480.053,-69.8077 482.671,-66.2152 483.877,-60.9182\"/>\n",
       "<polygon fill=\"black\" stroke=\"black\" points=\"487.383,-60.9431 484.574,-50.7276 480.399,-60.4654 487.383,-60.9431\"/>\n",
       "<text text-anchor=\"middle\" x=\"476.024\" y=\"-72.6077\" font-family=\"Times,serif\" font-size=\"14.00\">d</text>\n",
       "</g>\n",
       "<!-- St10&#45;&gt;St10 -->\n",
       "<g id=\"edge12\" class=\"edge\"><title>St10&#45;&gt;St10</title>\n",
       "<path fill=\"none\" stroke=\"black\" d=\"M564.336,-157.158C564.135,-167.664 567.257,-176.229 573.702,-176.229 577.831,-176.229 580.596,-172.714 581.997,-167.425\"/>\n",
       "<polygon fill=\"black\" stroke=\"black\" points=\"585.512,-167.467 583.068,-157.158 578.55,-166.741 585.512,-167.467\"/>\n",
       "<text text-anchor=\"middle\" x=\"573.702\" y=\"-179.029\" font-family=\"Times,serif\" font-size=\"14.00\">s</text>\n",
       "</g>\n",
       "</g>\n",
       "</svg>\n"
      ],
      "text/plain": [
       "<graphviz.dot.Digraph at 0x108bedb70>"
      ]
     },
     "execution_count": 37,
     "metadata": {},
     "output_type": "execute_result"
    }
   ],
   "source": [
    "d1d=nfa2dfa(re2nfa(\"james*+bond*\"))\n",
    "dotObj_dfa(d1d)"
   ]
  },
  {
   "cell_type": "code",
   "execution_count": 38,
   "metadata": {
    "run_control": {
     "frozen": false,
     "read_only": false
    }
   },
   "outputs": [
    {
     "name": "stderr",
     "output_type": "stream",
     "text": [
      "Generating LALR tables\n"
     ]
    },
    {
     "data": {
      "image/svg+xml": [
       "<?xml version=\"1.0\" encoding=\"UTF-8\" standalone=\"no\"?>\n",
       "<!DOCTYPE svg PUBLIC \"-//W3C//DTD SVG 1.1//EN\"\n",
       " \"http://www.w3.org/Graphics/SVG/1.1/DTD/svg11.dtd\">\n",
       "<!-- Generated by graphviz version 2.38.0 (20140413.2041)\n",
       " -->\n",
       "<!-- Title: %3 Pages: 1 -->\n",
       "<svg width=\"612pt\" height=\"198pt\"\n",
       " viewBox=\"0.00 0.00 612.03 198.23\" xmlns=\"http://www.w3.org/2000/svg\" xmlns:xlink=\"http://www.w3.org/1999/xlink\">\n",
       "<g id=\"graph0\" class=\"graph\" transform=\"scale(1 1) rotate(0) translate(4 194.229)\">\n",
       "<title>%3</title>\n",
       "<polygon fill=\"white\" stroke=\"none\" points=\"-4,4 -4,-194.229 608.028,-194.229 608.028,4 -4,4\"/>\n",
       "<!-- EMPTY -->\n",
       "<g id=\"node1\" class=\"node\"><title>EMPTY</title>\n",
       "</g>\n",
       "<!-- St9 -->\n",
       "<g id=\"node7\" class=\"node\"><title>St9</title>\n",
       "<ellipse fill=\"none\" stroke=\"black\" cx=\"112.904\" cy=\"-84.9039\" rx=\"21.8081\" ry=\"21.8081\"/>\n",
       "<text text-anchor=\"middle\" x=\"112.904\" y=\"-80.7039\" font-family=\"Times,serif\" font-size=\"14.00\">St9</text>\n",
       "</g>\n",
       "<!-- EMPTY&#45;&gt;St9 -->\n",
       "<g id=\"edge1\" class=\"edge\"><title>EMPTY&#45;&gt;St9</title>\n",
       "<path fill=\"none\" stroke=\"black\" d=\"M54.0878,-84.9039C62.501,-84.9039 71.9126,-84.9039 80.6587,-84.9039\"/>\n",
       "<polygon fill=\"black\" stroke=\"black\" points=\"80.8854,-88.404 90.8853,-84.9039 80.8853,-81.404 80.8854,-88.404\"/>\n",
       "</g>\n",
       "<!-- St0 -->\n",
       "<g id=\"node2\" class=\"node\"><title>St0</title>\n",
       "<ellipse fill=\"none\" stroke=\"black\" cx=\"286.519\" cy=\"-51.9039\" rx=\"21.8081\" ry=\"21.8081\"/>\n",
       "<text text-anchor=\"middle\" x=\"286.519\" y=\"-47.7039\" font-family=\"Times,serif\" font-size=\"14.00\">St0</text>\n",
       "</g>\n",
       "<!-- St8 -->\n",
       "<g id=\"node8\" class=\"node\"><title>St8</title>\n",
       "<ellipse fill=\"none\" stroke=\"black\" cx=\"381.217\" cy=\"-47.9039\" rx=\"21.8229\" ry=\"21.8229\"/>\n",
       "<ellipse fill=\"none\" stroke=\"black\" cx=\"381.217\" cy=\"-47.9039\" rx=\"25.8081\" ry=\"25.8081\"/>\n",
       "<text text-anchor=\"middle\" x=\"381.217\" y=\"-43.7039\" font-family=\"Times,serif\" font-size=\"14.00\">St8</text>\n",
       "</g>\n",
       "<!-- St0&#45;&gt;St8 -->\n",
       "<g id=\"edge7\" class=\"edge\"><title>St0&#45;&gt;St8</title>\n",
       "<path fill=\"none\" stroke=\"black\" d=\"M308.554,-50.9962C319.404,-50.528 332.925,-49.9446 345.289,-49.4111\"/>\n",
       "<polygon fill=\"black\" stroke=\"black\" points=\"345.479,-52.9062 355.318,-48.9783 345.177,-45.9127 345.479,-52.9062\"/>\n",
       "<text text-anchor=\"middle\" x=\"331.868\" y=\"-53.7039\" font-family=\"Times,serif\" font-size=\"14.00\">n</text>\n",
       "</g>\n",
       "<!-- St2 -->\n",
       "<g id=\"node3\" class=\"node\"><title>St2</title>\n",
       "<ellipse fill=\"none\" stroke=\"black\" cx=\"381.217\" cy=\"-115.904\" rx=\"21.8081\" ry=\"21.8081\"/>\n",
       "<text text-anchor=\"middle\" x=\"381.217\" y=\"-111.704\" font-family=\"Times,serif\" font-size=\"14.00\">St2</text>\n",
       "</g>\n",
       "<!-- St5 -->\n",
       "<g id=\"node9\" class=\"node\"><title>St5</title>\n",
       "<ellipse fill=\"none\" stroke=\"black\" cx=\"476.024\" cy=\"-127.904\" rx=\"21.8229\" ry=\"21.8229\"/>\n",
       "<ellipse fill=\"none\" stroke=\"black\" cx=\"476.024\" cy=\"-127.904\" rx=\"25.8081\" ry=\"25.8081\"/>\n",
       "<text text-anchor=\"middle\" x=\"476.024\" y=\"-123.704\" font-family=\"Times,serif\" font-size=\"14.00\">St5</text>\n",
       "</g>\n",
       "<!-- St2&#45;&gt;St5 -->\n",
       "<g id=\"edge8\" class=\"edge\"><title>St2&#45;&gt;St5</title>\n",
       "<path fill=\"none\" stroke=\"black\" d=\"M403.276,-118.627C414.139,-120.031 427.676,-121.782 440.055,-123.382\"/>\n",
       "<polygon fill=\"black\" stroke=\"black\" points=\"439.73,-126.869 450.096,-124.681 440.628,-119.927 439.73,-126.869\"/>\n",
       "<text text-anchor=\"middle\" x=\"428.621\" y=\"-125.704\" font-family=\"Times,serif\" font-size=\"14.00\">e</text>\n",
       "</g>\n",
       "<!-- St7 -->\n",
       "<g id=\"node4\" class=\"node\"><title>St7</title>\n",
       "<ellipse fill=\"none\" stroke=\"black\" cx=\"286.519\" cy=\"-113.904\" rx=\"21.8081\" ry=\"21.8081\"/>\n",
       "<text text-anchor=\"middle\" x=\"286.519\" y=\"-109.704\" font-family=\"Times,serif\" font-size=\"14.00\">St7</text>\n",
       "</g>\n",
       "<!-- St7&#45;&gt;St2 -->\n",
       "<g id=\"edge6\" class=\"edge\"><title>St7&#45;&gt;St2</title>\n",
       "<path fill=\"none\" stroke=\"black\" d=\"M308.554,-114.358C320.524,-114.616 335.744,-114.944 349.076,-115.232\"/>\n",
       "<polygon fill=\"black\" stroke=\"black\" points=\"349.192,-118.735 359.265,-115.452 349.343,-111.737 349.192,-118.735\"/>\n",
       "<text text-anchor=\"middle\" x=\"331.868\" y=\"-118.704\" font-family=\"Times,serif\" font-size=\"14.00\">m</text>\n",
       "</g>\n",
       "<!-- St6 -->\n",
       "<g id=\"node5\" class=\"node\"><title>St6</title>\n",
       "<ellipse fill=\"none\" stroke=\"black\" cx=\"199.712\" cy=\"-113.904\" rx=\"21.8081\" ry=\"21.8081\"/>\n",
       "<text text-anchor=\"middle\" x=\"199.712\" y=\"-109.704\" font-family=\"Times,serif\" font-size=\"14.00\">St6</text>\n",
       "</g>\n",
       "<!-- St6&#45;&gt;St7 -->\n",
       "<g id=\"edge4\" class=\"edge\"><title>St6&#45;&gt;St7</title>\n",
       "<path fill=\"none\" stroke=\"black\" d=\"M221.675,-113.904C231.563,-113.904 243.561,-113.904 254.475,-113.904\"/>\n",
       "<polygon fill=\"black\" stroke=\"black\" points=\"254.503,-117.404 264.503,-113.904 254.503,-110.404 254.503,-117.404\"/>\n",
       "<text text-anchor=\"middle\" x=\"243.115\" y=\"-116.704\" font-family=\"Times,serif\" font-size=\"14.00\">a</text>\n",
       "</g>\n",
       "<!-- St4 -->\n",
       "<g id=\"node6\" class=\"node\"><title>St4</title>\n",
       "<ellipse fill=\"none\" stroke=\"black\" cx=\"199.712\" cy=\"-51.9039\" rx=\"21.8081\" ry=\"21.8081\"/>\n",
       "<text text-anchor=\"middle\" x=\"199.712\" y=\"-47.7039\" font-family=\"Times,serif\" font-size=\"14.00\">St4</text>\n",
       "</g>\n",
       "<!-- St4&#45;&gt;St0 -->\n",
       "<g id=\"edge5\" class=\"edge\"><title>St4&#45;&gt;St0</title>\n",
       "<path fill=\"none\" stroke=\"black\" d=\"M221.675,-51.9039C231.563,-51.9039 243.561,-51.9039 254.475,-51.9039\"/>\n",
       "<polygon fill=\"black\" stroke=\"black\" points=\"254.503,-55.404 264.503,-51.9039 254.503,-48.404 254.503,-55.404\"/>\n",
       "<text text-anchor=\"middle\" x=\"243.115\" y=\"-54.7039\" font-family=\"Times,serif\" font-size=\"14.00\">o</text>\n",
       "</g>\n",
       "<!-- St9&#45;&gt;St6 -->\n",
       "<g id=\"edge2\" class=\"edge\"><title>St9&#45;&gt;St6</title>\n",
       "<path fill=\"none\" stroke=\"black\" d=\"M134.002,-91.7765C144.458,-95.3519 157.444,-99.7924 169.032,-103.755\"/>\n",
       "<polygon fill=\"black\" stroke=\"black\" points=\"168.163,-107.157 178.758,-107.081 170.428,-100.533 168.163,-107.157\"/>\n",
       "<text text-anchor=\"middle\" x=\"156.308\" y=\"-103.704\" font-family=\"Times,serif\" font-size=\"14.00\">j</text>\n",
       "</g>\n",
       "<!-- St9&#45;&gt;St4 -->\n",
       "<g id=\"edge3\" class=\"edge\"><title>St9&#45;&gt;St4</title>\n",
       "<path fill=\"none\" stroke=\"black\" d=\"M133.574,-77.2501C144.277,-73.085 157.725,-67.8523 169.618,-63.2245\"/>\n",
       "<polygon fill=\"black\" stroke=\"black\" points=\"171.098,-66.4043 179.149,-59.5162 168.56,-59.8808 171.098,-66.4043\"/>\n",
       "<text text-anchor=\"middle\" x=\"156.308\" y=\"-72.7039\" font-family=\"Times,serif\" font-size=\"14.00\">b</text>\n",
       "</g>\n",
       "<!-- St1 -->\n",
       "<g id=\"node10\" class=\"node\"><title>St1</title>\n",
       "<ellipse fill=\"none\" stroke=\"black\" cx=\"476.024\" cy=\"-25.9039\" rx=\"21.8229\" ry=\"21.8229\"/>\n",
       "<ellipse fill=\"none\" stroke=\"black\" cx=\"476.024\" cy=\"-25.9039\" rx=\"25.8081\" ry=\"25.8081\"/>\n",
       "<text text-anchor=\"middle\" x=\"476.024\" y=\"-21.7039\" font-family=\"Times,serif\" font-size=\"14.00\">St1</text>\n",
       "</g>\n",
       "<!-- St8&#45;&gt;St1 -->\n",
       "<g id=\"edge9\" class=\"edge\"><title>St8&#45;&gt;St1</title>\n",
       "<path fill=\"none\" stroke=\"black\" d=\"M406.601,-42.1236C416.963,-39.6674 429.231,-36.7591 440.499,-34.0882\"/>\n",
       "<polygon fill=\"black\" stroke=\"black\" points=\"441.558,-37.4342 450.481,-31.7219 439.943,-30.6229 441.558,-37.4342\"/>\n",
       "<text text-anchor=\"middle\" x=\"428.621\" y=\"-40.7039\" font-family=\"Times,serif\" font-size=\"14.00\">d</text>\n",
       "</g>\n",
       "<!-- St10 -->\n",
       "<g id=\"node11\" class=\"node\"><title>St10</title>\n",
       "<ellipse fill=\"none\" stroke=\"black\" cx=\"573.702\" cy=\"-127.904\" rx=\"26.1751\" ry=\"26.1751\"/>\n",
       "<ellipse fill=\"none\" stroke=\"black\" cx=\"573.702\" cy=\"-127.904\" rx=\"30.1522\" ry=\"30.1522\"/>\n",
       "<text text-anchor=\"middle\" x=\"573.702\" y=\"-123.704\" font-family=\"Times,serif\" font-size=\"14.00\">St10</text>\n",
       "</g>\n",
       "<!-- St5&#45;&gt;St10 -->\n",
       "<g id=\"edge10\" class=\"edge\"><title>St5&#45;&gt;St10</title>\n",
       "<path fill=\"none\" stroke=\"black\" d=\"M502.163,-127.904C511.63,-127.904 522.642,-127.904 533.111,-127.904\"/>\n",
       "<polygon fill=\"black\" stroke=\"black\" points=\"533.321,-131.404 543.321,-127.904 533.321,-124.404 533.321,-131.404\"/>\n",
       "<text text-anchor=\"middle\" x=\"522.652\" y=\"-130.704\" font-family=\"Times,serif\" font-size=\"14.00\">s</text>\n",
       "</g>\n",
       "<!-- St1&#45;&gt;St1 -->\n",
       "<g id=\"edge11\" class=\"edge\"><title>St1&#45;&gt;St1</title>\n",
       "<path fill=\"none\" stroke=\"black\" d=\"M467.475,-50.7276C466.886,-61.0541 469.735,-69.8077 476.024,-69.8077 480.053,-69.8077 482.671,-66.2152 483.877,-60.9182\"/>\n",
       "<polygon fill=\"black\" stroke=\"black\" points=\"487.383,-60.9431 484.574,-50.7276 480.399,-60.4654 487.383,-60.9431\"/>\n",
       "<text text-anchor=\"middle\" x=\"476.024\" y=\"-72.6077\" font-family=\"Times,serif\" font-size=\"14.00\">d</text>\n",
       "</g>\n",
       "<!-- St10&#45;&gt;St10 -->\n",
       "<g id=\"edge12\" class=\"edge\"><title>St10&#45;&gt;St10</title>\n",
       "<path fill=\"none\" stroke=\"black\" d=\"M564.336,-157.158C564.135,-167.664 567.257,-176.229 573.702,-176.229 577.831,-176.229 580.596,-172.714 581.997,-167.425\"/>\n",
       "<polygon fill=\"black\" stroke=\"black\" points=\"585.512,-167.467 583.068,-157.158 578.55,-166.741 585.512,-167.467\"/>\n",
       "<text text-anchor=\"middle\" x=\"573.702\" y=\"-179.029\" font-family=\"Times,serif\" font-size=\"14.00\">s</text>\n",
       "</g>\n",
       "</g>\n",
       "</svg>\n"
      ],
      "text/plain": [
       "<graphviz.dot.Digraph at 0x108bed438>"
      ]
     },
     "execution_count": 38,
     "metadata": {},
     "output_type": "execute_result"
    }
   ],
   "source": [
    "d1d=nfa2dfa(re2nfa(\"ja mes*+bo nd*\"))\n",
    "dotObj_dfa(d1d)"
   ]
  },
  {
   "cell_type": "code",
   "execution_count": 39,
   "metadata": {
    "run_control": {
     "frozen": false,
     "read_only": false
    }
   },
   "outputs": [
    {
     "name": "stderr",
     "output_type": "stream",
     "text": [
      "Generating LALR tables\n"
     ]
    },
    {
     "data": {
      "image/svg+xml": [
       "<?xml version=\"1.0\" encoding=\"UTF-8\" standalone=\"no\"?>\n",
       "<!DOCTYPE svg PUBLIC \"-//W3C//DTD SVG 1.1//EN\"\n",
       " \"http://www.w3.org/Graphics/SVG/1.1/DTD/svg11.dtd\">\n",
       "<!-- Generated by graphviz version 2.38.0 (20140413.2041)\n",
       " -->\n",
       "<!-- Title: %3 Pages: 1 -->\n",
       "<svg width=\"150pt\" height=\"60pt\"\n",
       " viewBox=\"0.00 0.00 149.81 59.81\" xmlns=\"http://www.w3.org/2000/svg\" xmlns:xlink=\"http://www.w3.org/1999/xlink\">\n",
       "<g id=\"graph0\" class=\"graph\" transform=\"scale(1 1) rotate(0) translate(4 55.8077)\">\n",
       "<title>%3</title>\n",
       "<polygon fill=\"white\" stroke=\"none\" points=\"-4,4 -4,-55.8077 145.808,-55.8077 145.808,4 -4,4\"/>\n",
       "<!-- EMPTY -->\n",
       "<g id=\"node1\" class=\"node\"><title>EMPTY</title>\n",
       "</g>\n",
       "<!-- St1 -->\n",
       "<g id=\"node2\" class=\"node\"><title>St1</title>\n",
       "<ellipse fill=\"none\" stroke=\"black\" cx=\"115.904\" cy=\"-25.9039\" rx=\"21.8229\" ry=\"21.8229\"/>\n",
       "<ellipse fill=\"none\" stroke=\"black\" cx=\"115.904\" cy=\"-25.9039\" rx=\"25.8081\" ry=\"25.8081\"/>\n",
       "<text text-anchor=\"middle\" x=\"115.904\" y=\"-21.7039\" font-family=\"Times,serif\" font-size=\"14.00\">St1</text>\n",
       "</g>\n",
       "<!-- EMPTY&#45;&gt;St1 -->\n",
       "<g id=\"edge1\" class=\"edge\"><title>EMPTY&#45;&gt;St1</title>\n",
       "<path fill=\"none\" stroke=\"black\" d=\"M54.074,-25.9039C62.107,-25.9039 71.0887,-25.9039 79.6326,-25.9039\"/>\n",
       "<polygon fill=\"black\" stroke=\"black\" points=\"79.744,-29.404 89.744,-25.9039 79.7439,-22.404 79.744,-29.404\"/>\n",
       "</g>\n",
       "</g>\n",
       "</svg>\n"
      ],
      "text/plain": [
       "<graphviz.dot.Digraph at 0x108be7cc0>"
      ]
     },
     "execution_count": 39,
     "metadata": {},
     "output_type": "execute_result"
    }
   ],
   "source": [
    "d1d=nfa2dfa(re2nfa(\"''\"))\n",
    "dotObj_dfa(d1d)"
   ]
  },
  {
   "cell_type": "code",
   "execution_count": 40,
   "metadata": {
    "run_control": {
     "frozen": false,
     "read_only": false
    }
   },
   "outputs": [
    {
     "name": "stdout",
     "output_type": "stream",
     "text": [
      "Help on function md2mc in module Imports.Def_md2mc:\n",
      "\n",
      "md2mc(src='None', fname='None')\n",
      "    md2mc converts a markdown source to a machine (mc).\n",
      "    \n",
      "    One can feed the markdown in three ways, shown via \n",
      "    pseudo-examples:\n",
      "    \n",
      "    1) md2mc()\n",
      "    \n",
      "       It means you will provide a file-name\n",
      "       (you will be prompted for one). Then the markdown is read from\n",
      "       that file. \n",
      "       \n",
      "    2) md2mc(src=\"<any string S other than 'File'>\")\n",
      "    \n",
      "       S is now taken as the markdown string and parsed. This is \n",
      "       bound to be a multi-line file. \n",
      "       \n",
      "       There is a Jupyter bug that if the parser (or any process) \n",
      "       consuming a multi-line input throws an exception, you will get \n",
      "       a strange error message: \n",
      "       ERROR:root:An unexpected error occurred while tokenizing input\n",
      "       Ignore it please, and instead spend your time fixing the \n",
      "       markdown input. See for details:\n",
      "       https://github.com/ipython/ipython/issues/6864\n",
      "       \n",
      "       \n",
      "    3) md2mc(src=\"File\", fname=\"<your file name path>\")\n",
      "    \n",
      "       Obviously, you should not be feeding a markdown with contents \n",
      "       \"File\". It is not legit markdown syntax. So if src=\"File\", \n",
      "       then fname is taken to be the path-name to a file that is \n",
      "       opened and read.\n",
      "     \n",
      "    In all cases, the returned result is a machine structure (dict).\n",
      "\n"
     ]
    }
   ],
   "source": [
    "help(md2mc)"
   ]
  },
  {
   "cell_type": "code",
   "execution_count": 41,
   "metadata": {
    "run_control": {
     "frozen": false,
     "read_only": false
    }
   },
   "outputs": [
    {
     "name": "stderr",
     "output_type": "stream",
     "text": [
      "Generating LALR tables\n"
     ]
    },
    {
     "data": {
      "image/svg+xml": [
       "<?xml version=\"1.0\" encoding=\"UTF-8\" standalone=\"no\"?>\n",
       "<!DOCTYPE svg PUBLIC \"-//W3C//DTD SVG 1.1//EN\"\n",
       " \"http://www.w3.org/Graphics/SVG/1.1/DTD/svg11.dtd\">\n",
       "<!-- Generated by graphviz version 2.38.0 (20140413.2041)\n",
       " -->\n",
       "<!-- Title: %3 Pages: 1 -->\n",
       "<svg width=\"494pt\" height=\"118pt\"\n",
       " viewBox=\"0.00 0.00 494.21 118.29\" xmlns=\"http://www.w3.org/2000/svg\" xmlns:xlink=\"http://www.w3.org/1999/xlink\">\n",
       "<g id=\"graph0\" class=\"graph\" transform=\"scale(1 1) rotate(0) translate(4 114.29)\">\n",
       "<title>%3</title>\n",
       "<polygon fill=\"white\" stroke=\"none\" points=\"-4,4 -4,-114.29 490.212,-114.29 490.212,4 -4,4\"/>\n",
       "<!-- EMPTY -->\n",
       "<g id=\"node1\" class=\"node\"><title>EMPTY</title>\n",
       "</g>\n",
       "<!-- I -->\n",
       "<g id=\"node5\" class=\"node\"><title>I</title>\n",
       "<ellipse fill=\"none\" stroke=\"black\" cx=\"109\" cy=\"-28.2903\" rx=\"18\" ry=\"18\"/>\n",
       "<text text-anchor=\"middle\" x=\"109\" y=\"-24.0903\" font-family=\"Times,serif\" font-size=\"14.00\">I</text>\n",
       "</g>\n",
       "<!-- EMPTY&#45;&gt;I -->\n",
       "<g id=\"edge1\" class=\"edge\"><title>EMPTY&#45;&gt;I</title>\n",
       "<path fill=\"none\" stroke=\"black\" d=\"M54.195,-28.2903C62.6538,-28.2903 72.0513,-28.2903 80.5951,-28.2903\"/>\n",
       "<polygon fill=\"black\" stroke=\"black\" points=\"80.8257,-31.7904 90.8257,-28.2903 80.8257,-24.7904 80.8257,-31.7904\"/>\n",
       "</g>\n",
       "<!-- S010 -->\n",
       "<g id=\"node2\" class=\"node\"><title>S010</title>\n",
       "<ellipse fill=\"none\" stroke=\"black\" cx=\"370.921\" cy=\"-28.2903\" rx=\"28.0822\" ry=\"28.0822\"/>\n",
       "<text text-anchor=\"middle\" x=\"370.921\" y=\"-24.0903\" font-family=\"Times,serif\" font-size=\"14.00\">S010</text>\n",
       "</g>\n",
       "<!-- F -->\n",
       "<g id=\"node6\" class=\"node\"><title>F</title>\n",
       "<ellipse fill=\"none\" stroke=\"black\" cx=\"464.212\" cy=\"-28.2903\" rx=\"18\" ry=\"18\"/>\n",
       "<ellipse fill=\"none\" stroke=\"black\" cx=\"464.212\" cy=\"-28.2903\" rx=\"22\" ry=\"22\"/>\n",
       "<text text-anchor=\"middle\" x=\"464.212\" y=\"-24.0903\" font-family=\"Times,serif\" font-size=\"14.00\">F</text>\n",
       "</g>\n",
       "<!-- S010&#45;&gt;F -->\n",
       "<g id=\"edge9\" class=\"edge\"><title>S010&#45;&gt;F</title>\n",
       "<path fill=\"none\" stroke=\"black\" d=\"M399.311,-28.2903C409.553,-28.2903 421.262,-28.2903 431.836,-28.2903\"/>\n",
       "<polygon fill=\"black\" stroke=\"black\" points=\"431.934,-31.7904 441.934,-28.2903 431.934,-24.7904 431.934,-31.7904\"/>\n",
       "<text text-anchor=\"middle\" x=\"420.712\" y=\"-31.0903\" font-family=\"Times,serif\" font-size=\"14.00\">0</text>\n",
       "</g>\n",
       "<!-- S010&#45;&gt;F -->\n",
       "<g id=\"edge10\" class=\"edge\"><title>S010&#45;&gt;F</title>\n",
       "<path fill=\"none\" stroke=\"black\" d=\"M395.539,-14.3051C404.402,-10.6203 414.647,-8.1895 424.212,-10.2903 427.926,-11.1062 431.709,-12.3114 435.384,-13.7184\"/>\n",
       "<polygon fill=\"black\" stroke=\"black\" points=\"434.179,-17.0107 444.745,-17.7854 436.968,-10.5904 434.179,-17.0107\"/>\n",
       "<text text-anchor=\"middle\" x=\"420.712\" y=\"-13.0903\" font-family=\"Times,serif\" font-size=\"14.00\">1</text>\n",
       "</g>\n",
       "<!-- S0 -->\n",
       "<g id=\"node3\" class=\"node\"><title>S0</title>\n",
       "<ellipse fill=\"none\" stroke=\"black\" cx=\"189.447\" cy=\"-28.2903\" rx=\"19.3939\" ry=\"19.3939\"/>\n",
       "<text text-anchor=\"middle\" x=\"189.447\" y=\"-24.0903\" font-family=\"Times,serif\" font-size=\"14.00\">S0</text>\n",
       "</g>\n",
       "<!-- S01 -->\n",
       "<g id=\"node4\" class=\"node\"><title>S01</title>\n",
       "<ellipse fill=\"none\" stroke=\"black\" cx=\"275.762\" cy=\"-28.2903\" rx=\"23.7379\" ry=\"23.7379\"/>\n",
       "<text text-anchor=\"middle\" x=\"275.762\" y=\"-24.0903\" font-family=\"Times,serif\" font-size=\"14.00\">S01</text>\n",
       "</g>\n",
       "<!-- S0&#45;&gt;S01 -->\n",
       "<g id=\"edge5\" class=\"edge\"><title>S0&#45;&gt;S01</title>\n",
       "<path fill=\"none\" stroke=\"black\" d=\"M209.159,-28.2903C218.645,-28.2903 230.452,-28.2903 241.425,-28.2903\"/>\n",
       "<polygon fill=\"black\" stroke=\"black\" points=\"241.587,-31.7904 251.587,-28.2903 241.587,-24.7904 241.587,-31.7904\"/>\n",
       "<text text-anchor=\"middle\" x=\"230.394\" y=\"-31.0903\" font-family=\"Times,serif\" font-size=\"14.00\">0</text>\n",
       "</g>\n",
       "<!-- S0&#45;&gt;S01 -->\n",
       "<g id=\"edge6\" class=\"edge\"><title>S0&#45;&gt;S01</title>\n",
       "<path fill=\"none\" stroke=\"black\" d=\"M206.536,-18.3626C212.674,-15.1169 219.884,-11.9269 226.894,-10.2903 233.249,-8.80663 239.9,-9.65866 246.155,-11.6275\"/>\n",
       "<polygon fill=\"black\" stroke=\"black\" points=\"244.975,-14.9262 255.556,-15.4655 247.62,-8.44544 244.975,-14.9262\"/>\n",
       "<text text-anchor=\"middle\" x=\"230.394\" y=\"-13.0903\" font-family=\"Times,serif\" font-size=\"14.00\">1</text>\n",
       "</g>\n",
       "<!-- S01&#45;&gt;S010 -->\n",
       "<g id=\"edge7\" class=\"edge\"><title>S01&#45;&gt;S010</title>\n",
       "<path fill=\"none\" stroke=\"black\" d=\"M299.79,-28.2903C309.59,-28.2903 321.277,-28.2903 332.274,-28.2903\"/>\n",
       "<polygon fill=\"black\" stroke=\"black\" points=\"332.522,-31.7904 342.521,-28.2903 332.521,-24.7904 332.522,-31.7904\"/>\n",
       "<text text-anchor=\"middle\" x=\"321.131\" y=\"-31.0903\" font-family=\"Times,serif\" font-size=\"14.00\">0</text>\n",
       "</g>\n",
       "<!-- S01&#45;&gt;S010 -->\n",
       "<g id=\"edge8\" class=\"edge\"><title>S01&#45;&gt;S010</title>\n",
       "<path fill=\"none\" stroke=\"black\" d=\"M297.416,-17.213C303.725,-14.3787 310.803,-11.7274 317.631,-10.2903 323.71,-9.01093 330.056,-9.52812 336.147,-11.0154\"/>\n",
       "<polygon fill=\"black\" stroke=\"black\" points=\"335.469,-14.4775 346.062,-14.2885 337.663,-7.83025 335.469,-14.4775\"/>\n",
       "<text text-anchor=\"middle\" x=\"321.131\" y=\"-13.0903\" font-family=\"Times,serif\" font-size=\"14.00\">1</text>\n",
       "</g>\n",
       "<!-- I&#45;&gt;S0 -->\n",
       "<g id=\"edge2\" class=\"edge\"><title>I&#45;&gt;S0</title>\n",
       "<path fill=\"none\" stroke=\"black\" d=\"M127.022,-28.2903C136.583,-28.2903 148.77,-28.2903 159.763,-28.2903\"/>\n",
       "<polygon fill=\"black\" stroke=\"black\" points=\"159.813,-31.7904 169.813,-28.2903 159.813,-24.7904 159.813,-31.7904\"/>\n",
       "<text text-anchor=\"middle\" x=\"148.5\" y=\"-31.0903\" font-family=\"Times,serif\" font-size=\"14.00\">0</text>\n",
       "</g>\n",
       "<!-- I&#45;&gt;I -->\n",
       "<g id=\"edge3\" class=\"edge\"><title>I&#45;&gt;I</title>\n",
       "<path fill=\"none\" stroke=\"black\" d=\"M105.764,-46.0721C105.214,-55.6053 106.293,-64.2903 109,-64.2903 110.65,-64.2903 111.694,-61.0652 112.135,-56.3884\"/>\n",
       "<polygon fill=\"black\" stroke=\"black\" points=\"115.638,-56.1059 112.236,-46.0721 108.638,-56.0373 115.638,-56.1059\"/>\n",
       "<text text-anchor=\"middle\" x=\"109\" y=\"-67.0903\" font-family=\"Times,serif\" font-size=\"14.00\">0</text>\n",
       "</g>\n",
       "<!-- I&#45;&gt;I -->\n",
       "<g id=\"edge4\" class=\"edge\"><title>I&#45;&gt;I</title>\n",
       "<path fill=\"none\" stroke=\"black\" d=\"M103.684,-45.7106C100.654,-63.0813 102.426,-82.2903 109,-82.2903 114.29,-82.2903 116.471,-69.8521 115.542,-55.9423\"/>\n",
       "<polygon fill=\"black\" stroke=\"black\" points=\"118.981,-55.2232 114.316,-45.7106 112.031,-56.056 118.981,-55.2232\"/>\n",
       "<text text-anchor=\"middle\" x=\"109\" y=\"-85.0903\" font-family=\"Times,serif\" font-size=\"14.00\">1</text>\n",
       "</g>\n",
       "</g>\n",
       "</svg>\n"
      ],
      "text/plain": [
       "<graphviz.dot.Digraph at 0x108be77f0>"
      ]
     },
     "execution_count": 41,
     "metadata": {},
     "output_type": "execute_result"
    }
   ],
   "source": [
    "test = md2mc(src=\"File\", fname=\"nfafiles/endsin0101.nfa\")\n",
    "dotObj_nfa(test)"
   ]
  },
  {
   "cell_type": "code",
   "execution_count": 42,
   "metadata": {
    "run_control": {
     "frozen": false,
     "read_only": false
    },
    "scrolled": true
   },
   "outputs": [
    {
     "name": "stderr",
     "output_type": "stream",
     "text": [
      "Generating LALR tables\n"
     ]
    },
    {
     "data": {
      "image/svg+xml": [
       "<?xml version=\"1.0\" encoding=\"UTF-8\" standalone=\"no\"?>\n",
       "<!DOCTYPE svg PUBLIC \"-//W3C//DTD SVG 1.1//EN\"\n",
       " \"http://www.w3.org/Graphics/SVG/1.1/DTD/svg11.dtd\">\n",
       "<!-- Generated by graphviz version 2.38.0 (20140413.2041)\n",
       " -->\n",
       "<!-- Title: %3 Pages: 1 -->\n",
       "<svg width=\"477pt\" height=\"215pt\"\n",
       " viewBox=\"0.00 0.00 477.43 214.87\" xmlns=\"http://www.w3.org/2000/svg\" xmlns:xlink=\"http://www.w3.org/1999/xlink\">\n",
       "<g id=\"graph0\" class=\"graph\" transform=\"scale(1 1) rotate(0) translate(4 210.874)\">\n",
       "<title>%3</title>\n",
       "<polygon fill=\"white\" stroke=\"none\" points=\"-4,4 -4,-210.874 473.432,-210.874 473.432,4 -4,4\"/>\n",
       "<!-- EMPTY -->\n",
       "<g id=\"node1\" class=\"node\"><title>EMPTY</title>\n",
       "</g>\n",
       "<!-- I -->\n",
       "<g id=\"node2\" class=\"node\"><title>I</title>\n",
       "<ellipse fill=\"none\" stroke=\"black\" cx=\"109\" cy=\"-80.4271\" rx=\"18\" ry=\"18\"/>\n",
       "<text text-anchor=\"middle\" x=\"109\" y=\"-76.2271\" font-family=\"Times,serif\" font-size=\"14.00\">I</text>\n",
       "</g>\n",
       "<!-- EMPTY&#45;&gt;I -->\n",
       "<g id=\"edge1\" class=\"edge\"><title>EMPTY&#45;&gt;I</title>\n",
       "<path fill=\"none\" stroke=\"black\" d=\"M54.195,-80.4271C62.6538,-80.4271 72.0513,-80.4271 80.5951,-80.4271\"/>\n",
       "<polygon fill=\"black\" stroke=\"black\" points=\"80.8257,-83.9272 90.8257,-80.4271 80.8257,-76.9272 80.8257,-83.9272\"/>\n",
       "</g>\n",
       "<!-- A1 -->\n",
       "<g id=\"node4\" class=\"node\"><title>A1</title>\n",
       "<ellipse fill=\"none\" stroke=\"black\" cx=\"190.915\" cy=\"-50.4271\" rx=\"20.8304\" ry=\"20.8304\"/>\n",
       "<text text-anchor=\"middle\" x=\"190.915\" y=\"-46.2271\" font-family=\"Times,serif\" font-size=\"14.00\">A1</text>\n",
       "</g>\n",
       "<!-- I&#45;&gt;A1 -->\n",
       "<g id=\"edge3\" class=\"edge\"><title>I&#45;&gt;A1</title>\n",
       "<path fill=\"none\" stroke=\"black\" d=\"M126.172,-74.3561C136.291,-70.5573 149.611,-65.5573 161.456,-61.1105\"/>\n",
       "<polygon fill=\"black\" stroke=\"black\" points=\"162.825,-64.3351 170.957,-57.5438 160.365,-57.7816 162.825,-64.3351\"/>\n",
       "<text text-anchor=\"middle\" x=\"148.5\" y=\"-70.2271\" font-family=\"Times,serif\" font-size=\"14.00\">1</text>\n",
       "</g>\n",
       "<!-- A0 -->\n",
       "<g id=\"node5\" class=\"node\"><title>A0</title>\n",
       "<ellipse fill=\"none\" stroke=\"black\" cx=\"190.915\" cy=\"-110.427\" rx=\"20.8304\" ry=\"20.8304\"/>\n",
       "<text text-anchor=\"middle\" x=\"190.915\" y=\"-106.227\" font-family=\"Times,serif\" font-size=\"14.00\">A0</text>\n",
       "</g>\n",
       "<!-- I&#45;&gt;A0 -->\n",
       "<g id=\"edge2\" class=\"edge\"><title>I&#45;&gt;A0</title>\n",
       "<path fill=\"none\" stroke=\"black\" d=\"M126.172,-86.498C136.291,-90.2968 149.611,-95.2969 161.456,-99.7437\"/>\n",
       "<polygon fill=\"black\" stroke=\"black\" points=\"160.365,-103.073 170.957,-103.31 162.825,-96.5191 160.365,-103.073\"/>\n",
       "<text text-anchor=\"middle\" x=\"148.5\" y=\"-99.2271\" font-family=\"Times,serif\" font-size=\"14.00\">0</text>\n",
       "</g>\n",
       "<!-- C1 -->\n",
       "<g id=\"node3\" class=\"node\"><title>C1</title>\n",
       "<ellipse fill=\"none\" stroke=\"black\" cx=\"359.111\" cy=\"-101.427\" rx=\"20.3544\" ry=\"20.3544\"/>\n",
       "<text text-anchor=\"middle\" x=\"359.111\" y=\"-97.2271\" font-family=\"Times,serif\" font-size=\"14.00\">C1</text>\n",
       "</g>\n",
       "<!-- F2 -->\n",
       "<g id=\"node11\" class=\"node\"><title>F2</title>\n",
       "<ellipse fill=\"none\" stroke=\"black\" cx=\"445.985\" cy=\"-44.4271\" rx=\"19.4029\" ry=\"19.4029\"/>\n",
       "<ellipse fill=\"none\" stroke=\"black\" cx=\"445.985\" cy=\"-44.4271\" rx=\"23.3939\" ry=\"23.3939\"/>\n",
       "<text text-anchor=\"middle\" x=\"445.985\" y=\"-40.2271\" font-family=\"Times,serif\" font-size=\"14.00\">F2</text>\n",
       "</g>\n",
       "<!-- C1&#45;&gt;F2 -->\n",
       "<g id=\"edge15\" class=\"edge\"><title>C1&#45;&gt;F2</title>\n",
       "<path fill=\"none\" stroke=\"black\" d=\"M376.476,-90.4369C388.093,-82.6348 403.967,-71.9744 417.509,-62.8794\"/>\n",
       "<polygon fill=\"black\" stroke=\"black\" points=\"419.654,-65.6555 426.004,-57.1746 415.751,-59.8443 419.654,-65.6555\"/>\n",
       "<text text-anchor=\"middle\" x=\"401.038\" y=\"-78.2271\" font-family=\"Times,serif\" font-size=\"14.00\">0</text>\n",
       "</g>\n",
       "<!-- F1 -->\n",
       "<g id=\"node12\" class=\"node\"><title>F1</title>\n",
       "<ellipse fill=\"none\" stroke=\"black\" cx=\"445.985\" cy=\"-113.427\" rx=\"19.4029\" ry=\"19.4029\"/>\n",
       "<ellipse fill=\"none\" stroke=\"black\" cx=\"445.985\" cy=\"-113.427\" rx=\"23.3939\" ry=\"23.3939\"/>\n",
       "<text text-anchor=\"middle\" x=\"445.985\" y=\"-109.227\" font-family=\"Times,serif\" font-size=\"14.00\">F1</text>\n",
       "</g>\n",
       "<!-- C1&#45;&gt;F1 -->\n",
       "<g id=\"edge14\" class=\"edge\"><title>C1&#45;&gt;F1</title>\n",
       "<path fill=\"none\" stroke=\"black\" d=\"M379.37,-104.15C389.181,-105.537 401.376,-107.261 412.581,-108.846\"/>\n",
       "<polygon fill=\"black\" stroke=\"black\" points=\"412.105,-112.313 422.496,-110.247 413.085,-105.382 412.105,-112.313\"/>\n",
       "<text text-anchor=\"middle\" x=\"401.038\" y=\"-111.227\" font-family=\"Times,serif\" font-size=\"14.00\">1</text>\n",
       "</g>\n",
       "<!-- B1 -->\n",
       "<g id=\"node8\" class=\"node\"><title>B1</title>\n",
       "<ellipse fill=\"none\" stroke=\"black\" cx=\"275.257\" cy=\"-79.4271\" rx=\"20.3544\" ry=\"20.3544\"/>\n",
       "<text text-anchor=\"middle\" x=\"275.257\" y=\"-75.2271\" font-family=\"Times,serif\" font-size=\"14.00\">B1</text>\n",
       "</g>\n",
       "<!-- A1&#45;&gt;B1 -->\n",
       "<g id=\"edge10\" class=\"edge\"><title>A1&#45;&gt;B1</title>\n",
       "<path fill=\"none\" stroke=\"black\" d=\"M211.314,-55.4828C219.289,-57.7054 228.573,-60.4797 236.83,-63.4271 240.124,-64.603 243.544,-65.9224 246.917,-67.2858\"/>\n",
       "<polygon fill=\"black\" stroke=\"black\" points=\"245.584,-70.5218 256.159,-71.1622 248.292,-64.0667 245.584,-70.5218\"/>\n",
       "<text text-anchor=\"middle\" x=\"233.33\" y=\"-66.2271\" font-family=\"Times,serif\" font-size=\"14.00\">1</text>\n",
       "</g>\n",
       "<!-- B2 -->\n",
       "<g id=\"node9\" class=\"node\"><title>B2</title>\n",
       "<ellipse fill=\"none\" stroke=\"black\" cx=\"275.257\" cy=\"-20.4271\" rx=\"20.3544\" ry=\"20.3544\"/>\n",
       "<text text-anchor=\"middle\" x=\"275.257\" y=\"-16.2271\" font-family=\"Times,serif\" font-size=\"14.00\">B2</text>\n",
       "</g>\n",
       "<!-- A1&#45;&gt;B2 -->\n",
       "<g id=\"edge11\" class=\"edge\"><title>A1&#45;&gt;B2</title>\n",
       "<path fill=\"none\" stroke=\"black\" d=\"M211.013,-43.4691C221.449,-39.667 234.571,-34.8862 246.153,-30.6663\"/>\n",
       "<polygon fill=\"black\" stroke=\"black\" points=\"247.632,-33.8528 255.829,-27.141 245.235,-27.2757 247.632,-33.8528\"/>\n",
       "<text text-anchor=\"middle\" x=\"233.33\" y=\"-39.2271\" font-family=\"Times,serif\" font-size=\"14.00\">0</text>\n",
       "</g>\n",
       "<!-- B0 -->\n",
       "<g id=\"node6\" class=\"node\"><title>B0</title>\n",
       "<ellipse fill=\"none\" stroke=\"black\" cx=\"275.257\" cy=\"-138.427\" rx=\"20.3544\" ry=\"20.3544\"/>\n",
       "<text text-anchor=\"middle\" x=\"275.257\" y=\"-134.227\" font-family=\"Times,serif\" font-size=\"14.00\">B0</text>\n",
       "</g>\n",
       "<!-- A0&#45;&gt;B0 -->\n",
       "<g id=\"edge4\" class=\"edge\"><title>A0&#45;&gt;B0</title>\n",
       "<path fill=\"none\" stroke=\"black\" d=\"M211.013,-116.921C221.375,-120.445 234.386,-124.869 245.908,-128.787\"/>\n",
       "<polygon fill=\"black\" stroke=\"black\" points=\"244.952,-132.159 255.547,-132.065 247.206,-125.532 244.952,-132.159\"/>\n",
       "<text text-anchor=\"middle\" x=\"233.33\" y=\"-128.227\" font-family=\"Times,serif\" font-size=\"14.00\">1</text>\n",
       "</g>\n",
       "<!-- A0&#45;&gt;B1 -->\n",
       "<g id=\"edge5\" class=\"edge\"><title>A0&#45;&gt;B1</title>\n",
       "<path fill=\"none\" stroke=\"black\" d=\"M211.013,-103.237C221.449,-99.3083 234.571,-94.3682 246.153,-90.0076\"/>\n",
       "<polygon fill=\"black\" stroke=\"black\" points=\"247.704,-93.1638 255.829,-86.3648 245.237,-86.6126 247.704,-93.1638\"/>\n",
       "<text text-anchor=\"middle\" x=\"233.33\" y=\"-99.2271\" font-family=\"Times,serif\" font-size=\"14.00\">0</text>\n",
       "</g>\n",
       "<!-- B0&#45;&gt;C1 -->\n",
       "<g id=\"edge7\" class=\"edge\"><title>B0&#45;&gt;C1</title>\n",
       "<path fill=\"none\" stroke=\"black\" d=\"M294.423,-130.216C305.201,-125.344 319.066,-119.076 331.107,-113.634\"/>\n",
       "<polygon fill=\"black\" stroke=\"black\" points=\"332.607,-116.797 340.278,-109.488 329.724,-110.418 332.607,-116.797\"/>\n",
       "<text text-anchor=\"middle\" x=\"317.184\" y=\"-124.227\" font-family=\"Times,serif\" font-size=\"14.00\">1</text>\n",
       "</g>\n",
       "<!-- C0 -->\n",
       "<g id=\"node10\" class=\"node\"><title>C0</title>\n",
       "<ellipse fill=\"none\" stroke=\"black\" cx=\"359.111\" cy=\"-168.427\" rx=\"20.3544\" ry=\"20.3544\"/>\n",
       "<text text-anchor=\"middle\" x=\"359.111\" y=\"-164.227\" font-family=\"Times,serif\" font-size=\"14.00\">C0</text>\n",
       "</g>\n",
       "<!-- B0&#45;&gt;C0 -->\n",
       "<g id=\"edge6\" class=\"edge\"><title>B0&#45;&gt;C0</title>\n",
       "<path fill=\"none\" stroke=\"black\" d=\"M294.831,-145.235C305.192,-149.032 318.31,-153.84 329.912,-158.092\"/>\n",
       "<polygon fill=\"black\" stroke=\"black\" points=\"329.017,-161.492 339.611,-161.647 331.426,-154.919 329.017,-161.492\"/>\n",
       "<text text-anchor=\"middle\" x=\"317.184\" y=\"-157.227\" font-family=\"Times,serif\" font-size=\"14.00\">0</text>\n",
       "</g>\n",
       "<!-- C2 -->\n",
       "<g id=\"node7\" class=\"node\"><title>C2</title>\n",
       "<ellipse fill=\"none\" stroke=\"black\" cx=\"359.111\" cy=\"-35.4271\" rx=\"20.3544\" ry=\"20.3544\"/>\n",
       "<text text-anchor=\"middle\" x=\"359.111\" y=\"-31.2271\" font-family=\"Times,serif\" font-size=\"14.00\">C2</text>\n",
       "</g>\n",
       "<!-- C2&#45;&gt;F2 -->\n",
       "<g id=\"edge17\" class=\"edge\"><title>C2&#45;&gt;F2</title>\n",
       "<path fill=\"none\" stroke=\"black\" d=\"M379.622,-35.1394C387.395,-35.2142 396.409,-35.5384 404.538,-36.4271 407.247,-36.7232 410.044,-37.108 412.844,-37.5488\"/>\n",
       "<polygon fill=\"black\" stroke=\"black\" points=\"412.38,-41.0213 422.839,-39.3307 413.609,-34.1299 412.38,-41.0213\"/>\n",
       "<text text-anchor=\"middle\" x=\"401.038\" y=\"-39.2271\" font-family=\"Times,serif\" font-size=\"14.00\">1</text>\n",
       "</g>\n",
       "<!-- B1&#45;&gt;C1 -->\n",
       "<g id=\"edge12\" class=\"edge\"><title>B1&#45;&gt;C1</title>\n",
       "<path fill=\"none\" stroke=\"black\" d=\"M295.242,-84.5296C305.366,-87.2508 318.034,-90.6555 329.341,-93.6944\"/>\n",
       "<polygon fill=\"black\" stroke=\"black\" points=\"328.664,-97.1366 339.229,-96.3522 330.481,-90.3765 328.664,-97.1366\"/>\n",
       "<text text-anchor=\"middle\" x=\"317.184\" y=\"-94.2271\" font-family=\"Times,serif\" font-size=\"14.00\">0</text>\n",
       "</g>\n",
       "<!-- B1&#45;&gt;C2 -->\n",
       "<g id=\"edge13\" class=\"edge\"><title>B1&#45;&gt;C2</title>\n",
       "<path fill=\"none\" stroke=\"black\" d=\"M293.616,-70.0958C304.686,-64.1456 319.244,-56.3198 331.728,-49.6094\"/>\n",
       "<polygon fill=\"black\" stroke=\"black\" points=\"333.626,-52.5625 340.777,-44.7449 330.312,-46.3968 333.626,-52.5625\"/>\n",
       "<text text-anchor=\"middle\" x=\"317.184\" y=\"-62.2271\" font-family=\"Times,serif\" font-size=\"14.00\">1</text>\n",
       "</g>\n",
       "<!-- B2&#45;&gt;C2 -->\n",
       "<g id=\"edge16\" class=\"edge\"><title>B2&#45;&gt;C2</title>\n",
       "<path fill=\"none\" stroke=\"black\" d=\"M295.87,-19.4621C303.657,-19.4436 312.654,-19.8808 320.684,-21.4271 323.954,-22.0567 327.314,-22.9424 330.614,-23.966\"/>\n",
       "<polygon fill=\"black\" stroke=\"black\" points=\"329.595,-27.3178 340.19,-27.3325 331.917,-20.714 329.595,-27.3178\"/>\n",
       "<text text-anchor=\"middle\" x=\"317.184\" y=\"-24.2271\" font-family=\"Times,serif\" font-size=\"14.00\">0</text>\n",
       "</g>\n",
       "<!-- C0&#45;&gt;F1 -->\n",
       "<g id=\"edge9\" class=\"edge\"><title>C0&#45;&gt;F1</title>\n",
       "<path fill=\"none\" stroke=\"black\" d=\"M376.88,-157.561C388.451,-150.062 404.102,-139.92 417.482,-131.249\"/>\n",
       "<polygon fill=\"black\" stroke=\"black\" points=\"419.393,-134.182 425.882,-125.807 415.586,-128.308 419.393,-134.182\"/>\n",
       "<text text-anchor=\"middle\" x=\"401.038\" y=\"-146.227\" font-family=\"Times,serif\" font-size=\"14.00\">0</text>\n",
       "</g>\n",
       "<!-- F0 -->\n",
       "<g id=\"node13\" class=\"node\"><title>F0</title>\n",
       "<ellipse fill=\"none\" stroke=\"black\" cx=\"445.985\" cy=\"-183.427\" rx=\"19.4029\" ry=\"19.4029\"/>\n",
       "<ellipse fill=\"none\" stroke=\"black\" cx=\"445.985\" cy=\"-183.427\" rx=\"23.3939\" ry=\"23.3939\"/>\n",
       "<text text-anchor=\"middle\" x=\"445.985\" y=\"-179.227\" font-family=\"Times,serif\" font-size=\"14.00\">F0</text>\n",
       "</g>\n",
       "<!-- C0&#45;&gt;F0 -->\n",
       "<g id=\"edge8\" class=\"edge\"><title>C0&#45;&gt;F0</title>\n",
       "<path fill=\"none\" stroke=\"black\" d=\"M379.37,-171.831C389.256,-173.578 401.563,-175.753 412.838,-177.746\"/>\n",
       "<polygon fill=\"black\" stroke=\"black\" points=\"412.347,-181.213 422.803,-179.507 413.565,-174.32 412.347,-181.213\"/>\n",
       "<text text-anchor=\"middle\" x=\"401.038\" y=\"-179.227\" font-family=\"Times,serif\" font-size=\"14.00\">1</text>\n",
       "</g>\n",
       "</g>\n",
       "</svg>\n"
      ],
      "text/plain": [
       "<graphviz.dot.Digraph at 0x108bed9b0>"
      ]
     },
     "execution_count": 42,
     "metadata": {},
     "output_type": "execute_result"
    }
   ],
   "source": [
    "# NFA for 0101 within hamming dist of 2\n",
    "nfamd1 = md2mc(src=\"File\", fname=\"nfafiles/nfa0101h2.nfa\")\n",
    "dotObj_nfa(nfamd1)"
   ]
  },
  {
   "cell_type": "code",
   "execution_count": 43,
   "metadata": {
    "run_control": {
     "frozen": false,
     "read_only": false
    }
   },
   "outputs": [
    {
     "data": {
      "image/svg+xml": [
       "<?xml version=\"1.0\" encoding=\"UTF-8\" standalone=\"no\"?>\n",
       "<!DOCTYPE svg PUBLIC \"-//W3C//DTD SVG 1.1//EN\"\n",
       " \"http://www.w3.org/Graphics/SVG/1.1/DTD/svg11.dtd\">\n",
       "<!-- Generated by graphviz version 2.38.0 (20140413.2041)\n",
       " -->\n",
       "<!-- Title: %3 Pages: 1 -->\n",
       "<svg width=\"477pt\" height=\"207pt\"\n",
       " viewBox=\"0.00 0.00 477.43 206.87\" xmlns=\"http://www.w3.org/2000/svg\" xmlns:xlink=\"http://www.w3.org/1999/xlink\">\n",
       "<g id=\"graph0\" class=\"graph\" transform=\"scale(1 1) rotate(0) translate(4 202.874)\">\n",
       "<title>%3</title>\n",
       "<polygon fill=\"white\" stroke=\"none\" points=\"-4,4 -4,-202.874 473.432,-202.874 473.432,4 -4,4\"/>\n",
       "<!-- EMPTY -->\n",
       "<g id=\"node1\" class=\"node\"><title>EMPTY</title>\n",
       "</g>\n",
       "<!-- I -->\n",
       "<g id=\"node10\" class=\"node\"><title>I</title>\n",
       "<ellipse fill=\"none\" stroke=\"black\" cx=\"109\" cy=\"-122.447\" rx=\"18\" ry=\"18\"/>\n",
       "<text text-anchor=\"middle\" x=\"109\" y=\"-118.247\" font-family=\"Times,serif\" font-size=\"14.00\">I</text>\n",
       "</g>\n",
       "<!-- EMPTY&#45;&gt;I -->\n",
       "<g id=\"edge1\" class=\"edge\"><title>EMPTY&#45;&gt;I</title>\n",
       "<path fill=\"none\" stroke=\"black\" d=\"M54.195,-122.447C62.6538,-122.447 72.0513,-122.447 80.5951,-122.447\"/>\n",
       "<polygon fill=\"black\" stroke=\"black\" points=\"80.8257,-125.947 90.8257,-122.447 80.8257,-118.947 80.8257,-125.947\"/>\n",
       "</g>\n",
       "<!-- C0 -->\n",
       "<g id=\"node2\" class=\"node\"><title>C0</title>\n",
       "<ellipse fill=\"none\" stroke=\"black\" cx=\"359.111\" cy=\"-30.4469\" rx=\"20.3544\" ry=\"20.3544\"/>\n",
       "<text text-anchor=\"middle\" x=\"359.111\" y=\"-26.2469\" font-family=\"Times,serif\" font-size=\"14.00\">C0</text>\n",
       "</g>\n",
       "<!-- F1 -->\n",
       "<g id=\"node11\" class=\"node\"><title>F1</title>\n",
       "<ellipse fill=\"none\" stroke=\"black\" cx=\"445.985\" cy=\"-92.4469\" rx=\"19.4029\" ry=\"19.4029\"/>\n",
       "<ellipse fill=\"none\" stroke=\"black\" cx=\"445.985\" cy=\"-92.4469\" rx=\"23.3939\" ry=\"23.3939\"/>\n",
       "<text text-anchor=\"middle\" x=\"445.985\" y=\"-88.2469\" font-family=\"Times,serif\" font-size=\"14.00\">F1</text>\n",
       "</g>\n",
       "<!-- C0&#45;&gt;F1 -->\n",
       "<g id=\"edge17\" class=\"edge\"><title>C0&#45;&gt;F1</title>\n",
       "<path fill=\"none\" stroke=\"black\" d=\"M376.075,-42.1086C387.926,-50.7652 404.361,-62.7714 418.209,-72.8872\"/>\n",
       "<polygon fill=\"black\" stroke=\"black\" points=\"416.293,-75.8221 426.433,-78.8946 420.423,-70.1696 416.293,-75.8221\"/>\n",
       "<text text-anchor=\"middle\" x=\"401.038\" y=\"-66.2469\" font-family=\"Times,serif\" font-size=\"14.00\">0</text>\n",
       "</g>\n",
       "<!-- F0 -->\n",
       "<g id=\"node12\" class=\"node\"><title>F0</title>\n",
       "<ellipse fill=\"none\" stroke=\"black\" cx=\"445.985\" cy=\"-23.4469\" rx=\"19.4029\" ry=\"19.4029\"/>\n",
       "<ellipse fill=\"none\" stroke=\"black\" cx=\"445.985\" cy=\"-23.4469\" rx=\"23.3939\" ry=\"23.3939\"/>\n",
       "<text text-anchor=\"middle\" x=\"445.985\" y=\"-19.2469\" font-family=\"Times,serif\" font-size=\"14.00\">F0</text>\n",
       "</g>\n",
       "<!-- C0&#45;&gt;F0 -->\n",
       "<g id=\"edge16\" class=\"edge\"><title>C0&#45;&gt;F0</title>\n",
       "<path fill=\"none\" stroke=\"black\" d=\"M379.473,-26.8218C385.263,-25.8789 391.64,-24.9793 397.538,-24.4469 402.187,-24.0272 407.103,-23.7444 411.938,-23.5583\"/>\n",
       "<polygon fill=\"black\" stroke=\"black\" points=\"412.358,-27.0486 422.264,-23.29 412.176,-20.051 412.358,-27.0486\"/>\n",
       "<text text-anchor=\"middle\" x=\"401.038\" y=\"-27.2469\" font-family=\"Times,serif\" font-size=\"14.00\">1</text>\n",
       "</g>\n",
       "<!-- C2 -->\n",
       "<g id=\"node3\" class=\"node\"><title>C2</title>\n",
       "<ellipse fill=\"none\" stroke=\"black\" cx=\"359.111\" cy=\"-171.447\" rx=\"20.3544\" ry=\"20.3544\"/>\n",
       "<text text-anchor=\"middle\" x=\"359.111\" y=\"-167.247\" font-family=\"Times,serif\" font-size=\"14.00\">C2</text>\n",
       "</g>\n",
       "<!-- F2 -->\n",
       "<g id=\"node13\" class=\"node\"><title>F2</title>\n",
       "<ellipse fill=\"none\" stroke=\"black\" cx=\"445.985\" cy=\"-164.447\" rx=\"19.4029\" ry=\"19.4029\"/>\n",
       "<ellipse fill=\"none\" stroke=\"black\" cx=\"445.985\" cy=\"-164.447\" rx=\"23.3939\" ry=\"23.3939\"/>\n",
       "<text text-anchor=\"middle\" x=\"445.985\" y=\"-160.247\" font-family=\"Times,serif\" font-size=\"14.00\">F2</text>\n",
       "</g>\n",
       "<!-- C2&#45;&gt;F2 -->\n",
       "<g id=\"edge13\" class=\"edge\"><title>C2&#45;&gt;F2</title>\n",
       "<path fill=\"none\" stroke=\"black\" d=\"M379.796,-169.823C389.445,-169.028 401.321,-168.048 412.282,-167.144\"/>\n",
       "<polygon fill=\"black\" stroke=\"black\" points=\"412.729,-170.619 422.408,-166.309 412.154,-163.643 412.729,-170.619\"/>\n",
       "<text text-anchor=\"middle\" x=\"401.038\" y=\"-171.247\" font-family=\"Times,serif\" font-size=\"14.00\">1</text>\n",
       "</g>\n",
       "<!-- A1 -->\n",
       "<g id=\"node4\" class=\"node\"><title>A1</title>\n",
       "<ellipse fill=\"none\" stroke=\"black\" cx=\"190.915\" cy=\"-150.447\" rx=\"20.8304\" ry=\"20.8304\"/>\n",
       "<text text-anchor=\"middle\" x=\"190.915\" y=\"-146.247\" font-family=\"Times,serif\" font-size=\"14.00\">A1</text>\n",
       "</g>\n",
       "<!-- B2 -->\n",
       "<g id=\"node5\" class=\"node\"><title>B2</title>\n",
       "<ellipse fill=\"none\" stroke=\"black\" cx=\"275.257\" cy=\"-178.447\" rx=\"20.3544\" ry=\"20.3544\"/>\n",
       "<text text-anchor=\"middle\" x=\"275.257\" y=\"-174.247\" font-family=\"Times,serif\" font-size=\"14.00\">B2</text>\n",
       "</g>\n",
       "<!-- A1&#45;&gt;B2 -->\n",
       "<g id=\"edge5\" class=\"edge\"><title>A1&#45;&gt;B2</title>\n",
       "<path fill=\"none\" stroke=\"black\" d=\"M211.013,-156.941C221.375,-160.465 234.386,-164.889 245.908,-168.807\"/>\n",
       "<polygon fill=\"black\" stroke=\"black\" points=\"244.952,-172.179 255.547,-172.084 247.206,-165.551 244.952,-172.179\"/>\n",
       "<text text-anchor=\"middle\" x=\"233.33\" y=\"-168.247\" font-family=\"Times,serif\" font-size=\"14.00\">0</text>\n",
       "</g>\n",
       "<!-- B1 -->\n",
       "<g id=\"node9\" class=\"node\"><title>B1</title>\n",
       "<ellipse fill=\"none\" stroke=\"black\" cx=\"275.257\" cy=\"-119.447\" rx=\"20.3544\" ry=\"20.3544\"/>\n",
       "<text text-anchor=\"middle\" x=\"275.257\" y=\"-115.247\" font-family=\"Times,serif\" font-size=\"14.00\">B1</text>\n",
       "</g>\n",
       "<!-- A1&#45;&gt;B1 -->\n",
       "<g id=\"edge4\" class=\"edge\"><title>A1&#45;&gt;B1</title>\n",
       "<path fill=\"none\" stroke=\"black\" d=\"M211.013,-143.257C221.449,-139.328 234.571,-134.388 246.153,-130.027\"/>\n",
       "<polygon fill=\"black\" stroke=\"black\" points=\"247.704,-133.184 255.829,-126.385 245.237,-126.632 247.704,-133.184\"/>\n",
       "<text text-anchor=\"middle\" x=\"233.33\" y=\"-139.247\" font-family=\"Times,serif\" font-size=\"14.00\">1</text>\n",
       "</g>\n",
       "<!-- B2&#45;&gt;C2 -->\n",
       "<g id=\"edge10\" class=\"edge\"><title>B2&#45;&gt;C2</title>\n",
       "<path fill=\"none\" stroke=\"black\" d=\"M295.655,-176.788C305.472,-175.948 317.598,-174.911 328.547,-173.975\"/>\n",
       "<polygon fill=\"black\" stroke=\"black\" points=\"328.903,-177.458 338.569,-173.118 328.307,-170.483 328.903,-177.458\"/>\n",
       "<text text-anchor=\"middle\" x=\"317.184\" y=\"-178.247\" font-family=\"Times,serif\" font-size=\"14.00\">0</text>\n",
       "</g>\n",
       "<!-- B0 -->\n",
       "<g id=\"node6\" class=\"node\"><title>B0</title>\n",
       "<ellipse fill=\"none\" stroke=\"black\" cx=\"275.257\" cy=\"-60.4469\" rx=\"20.3544\" ry=\"20.3544\"/>\n",
       "<text text-anchor=\"middle\" x=\"275.257\" y=\"-56.2469\" font-family=\"Times,serif\" font-size=\"14.00\">B0</text>\n",
       "</g>\n",
       "<!-- B0&#45;&gt;C0 -->\n",
       "<g id=\"edge12\" class=\"edge\"><title>B0&#45;&gt;C0</title>\n",
       "<path fill=\"none\" stroke=\"black\" d=\"M290.225,-46.1637C296.759,-40.46 305.007,-34.5245 313.684,-31.4469 318.347,-29.793 323.461,-28.905 328.508,-28.5028\"/>\n",
       "<polygon fill=\"black\" stroke=\"black\" points=\"328.691,-31.9997 338.608,-28.2702 328.53,-25.0015 328.691,-31.9997\"/>\n",
       "<text text-anchor=\"middle\" x=\"317.184\" y=\"-34.2469\" font-family=\"Times,serif\" font-size=\"14.00\">0</text>\n",
       "</g>\n",
       "<!-- C1 -->\n",
       "<g id=\"node8\" class=\"node\"><title>C1</title>\n",
       "<ellipse fill=\"none\" stroke=\"black\" cx=\"359.111\" cy=\"-100.447\" rx=\"20.3544\" ry=\"20.3544\"/>\n",
       "<text text-anchor=\"middle\" x=\"359.111\" y=\"-96.2469\" font-family=\"Times,serif\" font-size=\"14.00\">C1</text>\n",
       "</g>\n",
       "<!-- B0&#45;&gt;C1 -->\n",
       "<g id=\"edge11\" class=\"edge\"><title>B0&#45;&gt;C1</title>\n",
       "<path fill=\"none\" stroke=\"black\" d=\"M294.018,-69.1263C304.852,-74.4204 318.914,-81.2924 331.106,-87.2501\"/>\n",
       "<polygon fill=\"black\" stroke=\"black\" points=\"329.863,-90.5384 340.385,-91.7844 332.937,-84.2492 329.863,-90.5384\"/>\n",
       "<text text-anchor=\"middle\" x=\"317.184\" y=\"-85.2469\" font-family=\"Times,serif\" font-size=\"14.00\">1</text>\n",
       "</g>\n",
       "<!-- A0 -->\n",
       "<g id=\"node7\" class=\"node\"><title>A0</title>\n",
       "<ellipse fill=\"none\" stroke=\"black\" cx=\"190.915\" cy=\"-90.4469\" rx=\"20.8304\" ry=\"20.8304\"/>\n",
       "<text text-anchor=\"middle\" x=\"190.915\" y=\"-86.2469\" font-family=\"Times,serif\" font-size=\"14.00\">A0</text>\n",
       "</g>\n",
       "<!-- A0&#45;&gt;B0 -->\n",
       "<g id=\"edge6\" class=\"edge\"><title>A0&#45;&gt;B0</title>\n",
       "<path fill=\"none\" stroke=\"black\" d=\"M211.013,-83.4889C221.449,-79.6868 234.571,-74.906 246.153,-70.6861\"/>\n",
       "<polygon fill=\"black\" stroke=\"black\" points=\"247.632,-73.8726 255.829,-67.1608 245.235,-67.2955 247.632,-73.8726\"/>\n",
       "<text text-anchor=\"middle\" x=\"233.33\" y=\"-79.2469\" font-family=\"Times,serif\" font-size=\"14.00\">1</text>\n",
       "</g>\n",
       "<!-- A0&#45;&gt;B1 -->\n",
       "<g id=\"edge7\" class=\"edge\"><title>A0&#45;&gt;B1</title>\n",
       "<path fill=\"none\" stroke=\"black\" d=\"M211.314,-95.5026C219.289,-97.7252 228.573,-100.499 236.83,-103.447 240.124,-104.623 243.544,-105.942 246.917,-107.306\"/>\n",
       "<polygon fill=\"black\" stroke=\"black\" points=\"245.584,-110.542 256.159,-111.182 248.292,-104.086 245.584,-110.542\"/>\n",
       "<text text-anchor=\"middle\" x=\"233.33\" y=\"-106.247\" font-family=\"Times,serif\" font-size=\"14.00\">0</text>\n",
       "</g>\n",
       "<!-- C1&#45;&gt;F1 -->\n",
       "<g id=\"edge14\" class=\"edge\"><title>C1&#45;&gt;F1</title>\n",
       "<path fill=\"none\" stroke=\"black\" d=\"M379.796,-98.5914C389.445,-97.6819 401.321,-96.5625 412.282,-95.5294\"/>\n",
       "<polygon fill=\"black\" stroke=\"black\" points=\"412.78,-98.998 422.408,-94.575 412.123,-92.0289 412.78,-98.998\"/>\n",
       "<text text-anchor=\"middle\" x=\"401.038\" y=\"-100.247\" font-family=\"Times,serif\" font-size=\"14.00\">1</text>\n",
       "</g>\n",
       "<!-- C1&#45;&gt;F2 -->\n",
       "<g id=\"edge15\" class=\"edge\"><title>C1&#45;&gt;F2</title>\n",
       "<path fill=\"none\" stroke=\"black\" d=\"M376.075,-112.485C388.005,-121.481 404.582,-133.981 418.488,-144.466\"/>\n",
       "<polygon fill=\"black\" stroke=\"black\" points=\"416.644,-147.459 426.735,-150.685 420.858,-141.87 416.644,-147.459\"/>\n",
       "<text text-anchor=\"middle\" x=\"401.038\" y=\"-137.247\" font-family=\"Times,serif\" font-size=\"14.00\">0</text>\n",
       "</g>\n",
       "<!-- B1&#45;&gt;C2 -->\n",
       "<g id=\"edge8\" class=\"edge\"><title>B1&#45;&gt;C2</title>\n",
       "<path fill=\"none\" stroke=\"black\" d=\"M292.822,-129.97C304.36,-137.3 319.961,-147.211 333.019,-155.506\"/>\n",
       "<polygon fill=\"black\" stroke=\"black\" points=\"331.254,-158.532 341.571,-160.94 335.007,-152.623 331.254,-158.532\"/>\n",
       "<text text-anchor=\"middle\" x=\"317.184\" y=\"-150.247\" font-family=\"Times,serif\" font-size=\"14.00\">1</text>\n",
       "</g>\n",
       "<!-- B1&#45;&gt;C1 -->\n",
       "<g id=\"edge9\" class=\"edge\"><title>B1&#45;&gt;C1</title>\n",
       "<path fill=\"none\" stroke=\"black\" d=\"M294.252,-111.694C300.325,-109.354 307.207,-106.998 313.684,-105.447 318.435,-104.309 323.535,-103.429 328.526,-102.748\"/>\n",
       "<polygon fill=\"black\" stroke=\"black\" points=\"328.93,-106.225 338.468,-101.612 328.136,-99.2699 328.93,-106.225\"/>\n",
       "<text text-anchor=\"middle\" x=\"317.184\" y=\"-108.247\" font-family=\"Times,serif\" font-size=\"14.00\">0</text>\n",
       "</g>\n",
       "<!-- I&#45;&gt;A1 -->\n",
       "<g id=\"edge2\" class=\"edge\"><title>I&#45;&gt;A1</title>\n",
       "<path fill=\"none\" stroke=\"black\" d=\"M126.172,-128.113C136.291,-131.659 149.611,-136.325 161.456,-140.476\"/>\n",
       "<polygon fill=\"black\" stroke=\"black\" points=\"160.362,-143.801 170.957,-143.805 162.677,-137.195 160.362,-143.801\"/>\n",
       "<text text-anchor=\"middle\" x=\"148.5\" y=\"-140.247\" font-family=\"Times,serif\" font-size=\"14.00\">1</text>\n",
       "</g>\n",
       "<!-- I&#45;&gt;A0 -->\n",
       "<g id=\"edge3\" class=\"edge\"><title>I&#45;&gt;A0</title>\n",
       "<path fill=\"none\" stroke=\"black\" d=\"M126.172,-115.971C136.363,-111.891 149.798,-106.511 161.706,-101.742\"/>\n",
       "<polygon fill=\"black\" stroke=\"black\" points=\"163.262,-104.889 171.245,-97.9229 160.66,-98.3911 163.262,-104.889\"/>\n",
       "<text text-anchor=\"middle\" x=\"148.5\" y=\"-111.247\" font-family=\"Times,serif\" font-size=\"14.00\">0</text>\n",
       "</g>\n",
       "</g>\n",
       "</svg>\n"
      ],
      "text/plain": [
       "<graphviz.dot.Digraph at 0x108bcd940>"
      ]
     },
     "execution_count": 43,
     "metadata": {},
     "output_type": "execute_result"
    }
   ],
   "source": [
    "dfamd1=nfa2dfa(nfamd1)\n",
    "dotObj_dfa(dfamd1)"
   ]
  },
  {
   "cell_type": "code",
   "execution_count": 44,
   "metadata": {
    "run_control": {
     "frozen": false,
     "read_only": false
    }
   },
   "outputs": [],
   "source": [
    "m1=min_dfa(dfamd1)"
   ]
  },
  {
   "cell_type": "code",
   "execution_count": 45,
   "metadata": {
    "run_control": {
     "frozen": false,
     "read_only": false
    }
   },
   "outputs": [],
   "source": [
    "m2=min_dfa_brz(dfamd1)"
   ]
  },
  {
   "cell_type": "code",
   "execution_count": 46,
   "metadata": {
    "run_control": {
     "frozen": false,
     "read_only": false
    }
   },
   "outputs": [
    {
     "data": {
      "image/svg+xml": [
       "<?xml version=\"1.0\" encoding=\"UTF-8\" standalone=\"no\"?>\n",
       "<!DOCTYPE svg PUBLIC \"-//W3C//DTD SVG 1.1//EN\"\n",
       " \"http://www.w3.org/Graphics/SVG/1.1/DTD/svg11.dtd\">\n",
       "<!-- Generated by graphviz version 2.38.0 (20140413.2041)\n",
       " -->\n",
       "<!-- Title: %3 Pages: 1 -->\n",
       "<svg width=\"477pt\" height=\"168pt\"\n",
       " viewBox=\"0.00 0.00 477.43 168.43\" xmlns=\"http://www.w3.org/2000/svg\" xmlns:xlink=\"http://www.w3.org/1999/xlink\">\n",
       "<g id=\"graph0\" class=\"graph\" transform=\"scale(1 1) rotate(0) translate(4 164.427)\">\n",
       "<title>%3</title>\n",
       "<polygon fill=\"white\" stroke=\"none\" points=\"-4,4 -4,-164.427 473.432,-164.427 473.432,4 -4,4\"/>\n",
       "<!-- EMPTY -->\n",
       "<g id=\"node1\" class=\"node\"><title>EMPTY</title>\n",
       "</g>\n",
       "<!-- I -->\n",
       "<g id=\"node6\" class=\"node\"><title>I</title>\n",
       "<ellipse fill=\"none\" stroke=\"black\" cx=\"109\" cy=\"-79.4271\" rx=\"18\" ry=\"18\"/>\n",
       "<text text-anchor=\"middle\" x=\"109\" y=\"-75.2271\" font-family=\"Times,serif\" font-size=\"14.00\">I</text>\n",
       "</g>\n",
       "<!-- EMPTY&#45;&gt;I -->\n",
       "<g id=\"edge1\" class=\"edge\"><title>EMPTY&#45;&gt;I</title>\n",
       "<path fill=\"none\" stroke=\"black\" d=\"M54.195,-79.4271C62.6538,-79.4271 72.0513,-79.4271 80.5951,-79.4271\"/>\n",
       "<polygon fill=\"black\" stroke=\"black\" points=\"80.8257,-82.9272 90.8257,-79.4271 80.8257,-75.9272 80.8257,-82.9272\"/>\n",
       "</g>\n",
       "<!-- B2 -->\n",
       "<g id=\"node2\" class=\"node\"><title>B2</title>\n",
       "<ellipse fill=\"none\" stroke=\"black\" cx=\"275.257\" cy=\"-20.4271\" rx=\"20.3544\" ry=\"20.3544\"/>\n",
       "<text text-anchor=\"middle\" x=\"275.257\" y=\"-16.2271\" font-family=\"Times,serif\" font-size=\"14.00\">B2</text>\n",
       "</g>\n",
       "<!-- C2 -->\n",
       "<g id=\"node7\" class=\"node\"><title>C2</title>\n",
       "<ellipse fill=\"none\" stroke=\"black\" cx=\"359.111\" cy=\"-57.4271\" rx=\"20.3544\" ry=\"20.3544\"/>\n",
       "<text text-anchor=\"middle\" x=\"359.111\" y=\"-53.2271\" font-family=\"Times,serif\" font-size=\"14.00\">C2</text>\n",
       "</g>\n",
       "<!-- B2&#45;&gt;C2 -->\n",
       "<g id=\"edge10\" class=\"edge\"><title>B2&#45;&gt;C2</title>\n",
       "<path fill=\"none\" stroke=\"black\" d=\"M294.493,-28.0121C302.556,-31.4206 312.129,-35.5428 320.684,-39.4271 324.102,-40.979 327.678,-42.6441 331.206,-44.3122\"/>\n",
       "<polygon fill=\"black\" stroke=\"black\" points=\"329.76,-47.5006 340.292,-48.6592 332.781,-41.186 329.76,-47.5006\"/>\n",
       "<text text-anchor=\"middle\" x=\"317.184\" y=\"-42.2271\" font-family=\"Times,serif\" font-size=\"14.00\">0</text>\n",
       "</g>\n",
       "<!-- A0 -->\n",
       "<g id=\"node3\" class=\"node\"><title>A0</title>\n",
       "<ellipse fill=\"none\" stroke=\"black\" cx=\"190.915\" cy=\"-107.427\" rx=\"20.8304\" ry=\"20.8304\"/>\n",
       "<text text-anchor=\"middle\" x=\"190.915\" y=\"-103.227\" font-family=\"Times,serif\" font-size=\"14.00\">A0</text>\n",
       "</g>\n",
       "<!-- B1 -->\n",
       "<g id=\"node4\" class=\"node\"><title>B1</title>\n",
       "<ellipse fill=\"none\" stroke=\"black\" cx=\"275.257\" cy=\"-79.4271\" rx=\"20.3544\" ry=\"20.3544\"/>\n",
       "<text text-anchor=\"middle\" x=\"275.257\" y=\"-75.2271\" font-family=\"Times,serif\" font-size=\"14.00\">B1</text>\n",
       "</g>\n",
       "<!-- A0&#45;&gt;B1 -->\n",
       "<g id=\"edge7\" class=\"edge\"><title>A0&#45;&gt;B1</title>\n",
       "<path fill=\"none\" stroke=\"black\" d=\"M211.013,-100.933C221.375,-97.4093 234.386,-92.9851 245.908,-89.067\"/>\n",
       "<polygon fill=\"black\" stroke=\"black\" points=\"247.206,-92.3226 255.547,-85.7895 244.952,-85.6953 247.206,-92.3226\"/>\n",
       "<text text-anchor=\"middle\" x=\"233.33\" y=\"-97.2271\" font-family=\"Times,serif\" font-size=\"14.00\">0</text>\n",
       "</g>\n",
       "<!-- B0 -->\n",
       "<g id=\"node8\" class=\"node\"><title>B0</title>\n",
       "<ellipse fill=\"none\" stroke=\"black\" cx=\"275.257\" cy=\"-138.427\" rx=\"20.3544\" ry=\"20.3544\"/>\n",
       "<text text-anchor=\"middle\" x=\"275.257\" y=\"-134.227\" font-family=\"Times,serif\" font-size=\"14.00\">B0</text>\n",
       "</g>\n",
       "<!-- A0&#45;&gt;B0 -->\n",
       "<g id=\"edge6\" class=\"edge\"><title>A0&#45;&gt;B0</title>\n",
       "<path fill=\"none\" stroke=\"black\" d=\"M211.013,-114.617C221.449,-118.546 234.571,-123.486 246.153,-127.847\"/>\n",
       "<polygon fill=\"black\" stroke=\"black\" points=\"245.237,-131.242 255.829,-131.489 247.704,-124.69 245.237,-131.242\"/>\n",
       "<text text-anchor=\"middle\" x=\"233.33\" y=\"-127.227\" font-family=\"Times,serif\" font-size=\"14.00\">1</text>\n",
       "</g>\n",
       "<!-- C0 -->\n",
       "<g id=\"node5\" class=\"node\"><title>C0</title>\n",
       "<ellipse fill=\"none\" stroke=\"black\" cx=\"359.111\" cy=\"-131.427\" rx=\"20.3544\" ry=\"20.3544\"/>\n",
       "<text text-anchor=\"middle\" x=\"359.111\" y=\"-127.227\" font-family=\"Times,serif\" font-size=\"14.00\">C0</text>\n",
       "</g>\n",
       "<!-- B1&#45;&gt;C0 -->\n",
       "<g id=\"edge9\" class=\"edge\"><title>B1&#45;&gt;C0</title>\n",
       "<path fill=\"none\" stroke=\"black\" d=\"M292.822,-89.9501C304.36,-97.2802 319.961,-107.191 333.019,-115.486\"/>\n",
       "<polygon fill=\"black\" stroke=\"black\" points=\"331.254,-118.512 341.571,-120.92 335.007,-112.603 331.254,-118.512\"/>\n",
       "<text text-anchor=\"middle\" x=\"317.184\" y=\"-110.227\" font-family=\"Times,serif\" font-size=\"14.00\">0</text>\n",
       "</g>\n",
       "<!-- B1&#45;&gt;C2 -->\n",
       "<g id=\"edge8\" class=\"edge\"><title>B1&#45;&gt;C2</title>\n",
       "<path fill=\"none\" stroke=\"black\" d=\"M292.636,-67.948C298.923,-64.1725 306.354,-60.4315 313.684,-58.4271 318.245,-57.1801 323.167,-56.4728 328.018,-56.1183\"/>\n",
       "<polygon fill=\"black\" stroke=\"black\" points=\"328.452,-59.6077 338.352,-55.8331 328.259,-52.6104 328.452,-59.6077\"/>\n",
       "<text text-anchor=\"middle\" x=\"317.184\" y=\"-61.2271\" font-family=\"Times,serif\" font-size=\"14.00\">1</text>\n",
       "</g>\n",
       "<!-- F1 -->\n",
       "<g id=\"node10\" class=\"node\"><title>F1</title>\n",
       "<ellipse fill=\"none\" stroke=\"black\" cx=\"445.985\" cy=\"-94.4271\" rx=\"19.4029\" ry=\"19.4029\"/>\n",
       "<ellipse fill=\"none\" stroke=\"black\" cx=\"445.985\" cy=\"-94.4271\" rx=\"23.3939\" ry=\"23.3939\"/>\n",
       "<text text-anchor=\"middle\" x=\"445.985\" y=\"-90.2271\" font-family=\"Times,serif\" font-size=\"14.00\">F1</text>\n",
       "</g>\n",
       "<!-- C0&#45;&gt;F1 -->\n",
       "<g id=\"edge14\" class=\"edge\"><title>C0&#45;&gt;F1</title>\n",
       "<path fill=\"none\" stroke=\"black\" d=\"M372.117,-115.254C378.698,-107.745 387.546,-99.5755 397.538,-95.4271 402.147,-93.5138 407.23,-92.4498 412.306,-91.9403\"/>\n",
       "<polygon fill=\"black\" stroke=\"black\" points=\"412.689,-95.4291 422.559,-91.579 412.442,-88.4334 412.689,-95.4291\"/>\n",
       "<text text-anchor=\"middle\" x=\"401.038\" y=\"-98.2271\" font-family=\"Times,serif\" font-size=\"14.00\">1</text>\n",
       "</g>\n",
       "<!-- C0&#45;&gt;F1 -->\n",
       "<g id=\"edge15\" class=\"edge\"><title>C0&#45;&gt;F1</title>\n",
       "<path fill=\"none\" stroke=\"black\" d=\"M378.111,-123.58C388.785,-118.927 402.588,-112.91 414.88,-107.551\"/>\n",
       "<polygon fill=\"black\" stroke=\"black\" points=\"416.556,-110.639 424.324,-103.434 413.759,-104.222 416.556,-110.639\"/>\n",
       "<text text-anchor=\"middle\" x=\"401.038\" y=\"-117.227\" font-family=\"Times,serif\" font-size=\"14.00\">0</text>\n",
       "</g>\n",
       "<!-- I&#45;&gt;A0 -->\n",
       "<g id=\"edge3\" class=\"edge\"><title>I&#45;&gt;A0</title>\n",
       "<path fill=\"none\" stroke=\"black\" d=\"M126.172,-85.0933C136.291,-88.6388 149.611,-93.3055 161.456,-97.4559\"/>\n",
       "<polygon fill=\"black\" stroke=\"black\" points=\"160.362,-100.781 170.957,-100.785 162.677,-94.175 160.362,-100.781\"/>\n",
       "<text text-anchor=\"middle\" x=\"148.5\" y=\"-97.2271\" font-family=\"Times,serif\" font-size=\"14.00\">0</text>\n",
       "</g>\n",
       "<!-- A1 -->\n",
       "<g id=\"node9\" class=\"node\"><title>A1</title>\n",
       "<ellipse fill=\"none\" stroke=\"black\" cx=\"190.915\" cy=\"-47.4271\" rx=\"20.8304\" ry=\"20.8304\"/>\n",
       "<text text-anchor=\"middle\" x=\"190.915\" y=\"-43.2271\" font-family=\"Times,serif\" font-size=\"14.00\">A1</text>\n",
       "</g>\n",
       "<!-- I&#45;&gt;A1 -->\n",
       "<g id=\"edge2\" class=\"edge\"><title>I&#45;&gt;A1</title>\n",
       "<path fill=\"none\" stroke=\"black\" d=\"M126.172,-72.9514C136.363,-68.8708 149.798,-63.4908 161.706,-58.7226\"/>\n",
       "<polygon fill=\"black\" stroke=\"black\" points=\"163.262,-61.8697 171.245,-54.9031 160.66,-55.3713 163.262,-61.8697\"/>\n",
       "<text text-anchor=\"middle\" x=\"148.5\" y=\"-68.2271\" font-family=\"Times,serif\" font-size=\"14.00\">1</text>\n",
       "</g>\n",
       "<!-- C2&#45;&gt;F1 -->\n",
       "<g id=\"edge13\" class=\"edge\"><title>C2&#45;&gt;F1</title>\n",
       "<path fill=\"none\" stroke=\"black\" d=\"M379.714,-54.984C387.666,-54.7213 396.785,-55.376 404.538,-58.4271 411.121,-61.0174 417.328,-65.1954 422.813,-69.804\"/>\n",
       "<polygon fill=\"black\" stroke=\"black\" points=\"420.575,-72.5017 430.29,-76.7293 425.331,-67.3662 420.575,-72.5017\"/>\n",
       "<text text-anchor=\"middle\" x=\"401.038\" y=\"-61.2271\" font-family=\"Times,serif\" font-size=\"14.00\">1</text>\n",
       "</g>\n",
       "<!-- B0&#45;&gt;C0 -->\n",
       "<g id=\"edge11\" class=\"edge\"><title>B0&#45;&gt;C0</title>\n",
       "<path fill=\"none\" stroke=\"black\" d=\"M295.619,-134.807C301.409,-133.865 307.786,-132.964 313.684,-132.427 318.393,-131.999 323.393,-131.718 328.275,-131.539\"/>\n",
       "<polygon fill=\"black\" stroke=\"black\" points=\"328.702,-135.03 338.616,-131.292 328.535,-128.032 328.702,-135.03\"/>\n",
       "<text text-anchor=\"middle\" x=\"317.184\" y=\"-135.227\" font-family=\"Times,serif\" font-size=\"14.00\">1</text>\n",
       "</g>\n",
       "<!-- B0&#45;&gt;C0 -->\n",
       "<g id=\"edge12\" class=\"edge\"><title>B0&#45;&gt;C0</title>\n",
       "<path fill=\"none\" stroke=\"black\" d=\"M294.866,-144.859C302.827,-146.813 312.219,-148.06 320.684,-146.427 323.983,-145.791 327.361,-144.865 330.672,-143.782\"/>\n",
       "<polygon fill=\"black\" stroke=\"black\" points=\"332.123,-146.976 340.259,-140.189 329.667,-140.421 332.123,-146.976\"/>\n",
       "<text text-anchor=\"middle\" x=\"317.184\" y=\"-149.227\" font-family=\"Times,serif\" font-size=\"14.00\">0</text>\n",
       "</g>\n",
       "<!-- A1&#45;&gt;B2 -->\n",
       "<g id=\"edge5\" class=\"edge\"><title>A1&#45;&gt;B2</title>\n",
       "<path fill=\"none\" stroke=\"black\" d=\"M207.525,-34.3946C214.014,-29.738 221.881,-25.0082 229.83,-22.4271 234.539,-20.8981 239.676,-20.0096 244.732,-19.5366\"/>\n",
       "<polygon fill=\"black\" stroke=\"black\" points=\"245.001,-23.0281 254.832,-19.0775 244.683,-16.0353 245.001,-23.0281\"/>\n",
       "<text text-anchor=\"middle\" x=\"233.33\" y=\"-25.2271\" font-family=\"Times,serif\" font-size=\"14.00\">0</text>\n",
       "</g>\n",
       "<!-- A1&#45;&gt;B1 -->\n",
       "<g id=\"edge4\" class=\"edge\"><title>A1&#45;&gt;B1</title>\n",
       "<path fill=\"none\" stroke=\"black\" d=\"M210.6,-54.6884C221.202,-58.8086 234.674,-64.0441 246.491,-68.6367\"/>\n",
       "<polygon fill=\"black\" stroke=\"black\" points=\"245.341,-71.9447 255.93,-72.3047 247.877,-65.4201 245.341,-71.9447\"/>\n",
       "<text text-anchor=\"middle\" x=\"233.33\" y=\"-67.2271\" font-family=\"Times,serif\" font-size=\"14.00\">1</text>\n",
       "</g>\n",
       "</g>\n",
       "</svg>\n"
      ],
      "text/plain": [
       "<graphviz.dot.Digraph at 0x108bed160>"
      ]
     },
     "execution_count": 46,
     "metadata": {},
     "output_type": "execute_result"
    }
   ],
   "source": [
    "dotObj_dfa(m1)"
   ]
  },
  {
   "cell_type": "code",
   "execution_count": 47,
   "metadata": {
    "run_control": {
     "frozen": false,
     "read_only": false
    }
   },
   "outputs": [
    {
     "data": {
      "image/svg+xml": [
       "<?xml version=\"1.0\" encoding=\"UTF-8\" standalone=\"no\"?>\n",
       "<!DOCTYPE svg PUBLIC \"-//W3C//DTD SVG 1.1//EN\"\n",
       " \"http://www.w3.org/Graphics/SVG/1.1/DTD/svg11.dtd\">\n",
       "<!-- Generated by graphviz version 2.38.0 (20140413.2041)\n",
       " -->\n",
       "<!-- Title: %3 Pages: 1 -->\n",
       "<svg width=\"498pt\" height=\"178pt\"\n",
       " viewBox=\"0.00 0.00 498.04 178.35\" xmlns=\"http://www.w3.org/2000/svg\" xmlns:xlink=\"http://www.w3.org/1999/xlink\">\n",
       "<g id=\"graph0\" class=\"graph\" transform=\"scale(1 1) rotate(0) translate(4 174.352)\">\n",
       "<title>%3</title>\n",
       "<polygon fill=\"white\" stroke=\"none\" points=\"-4,4 -4,-174.352 494.039,-174.352 494.039,4 -4,4\"/>\n",
       "<!-- EMPTY -->\n",
       "<g id=\"node1\" class=\"node\"><title>EMPTY</title>\n",
       "</g>\n",
       "<!-- St9 -->\n",
       "<g id=\"node9\" class=\"node\"><title>St9</title>\n",
       "<ellipse fill=\"none\" stroke=\"black\" cx=\"112.904\" cy=\"-86.4479\" rx=\"21.8081\" ry=\"21.8081\"/>\n",
       "<text text-anchor=\"middle\" x=\"112.904\" y=\"-82.2479\" font-family=\"Times,serif\" font-size=\"14.00\">St9</text>\n",
       "</g>\n",
       "<!-- EMPTY&#45;&gt;St9 -->\n",
       "<g id=\"edge1\" class=\"edge\"><title>EMPTY&#45;&gt;St9</title>\n",
       "<path fill=\"none\" stroke=\"black\" d=\"M54.0878,-86.4479C62.501,-86.4479 71.9126,-86.4479 80.6587,-86.4479\"/>\n",
       "<polygon fill=\"black\" stroke=\"black\" points=\"80.8854,-89.948 90.8853,-86.4479 80.8853,-82.948 80.8854,-89.948\"/>\n",
       "</g>\n",
       "<!-- St0 -->\n",
       "<g id=\"node2\" class=\"node\"><title>St0</title>\n",
       "<ellipse fill=\"none\" stroke=\"black\" cx=\"373.327\" cy=\"-111.448\" rx=\"21.8081\" ry=\"21.8081\"/>\n",
       "<text text-anchor=\"middle\" x=\"373.327\" y=\"-107.248\" font-family=\"Times,serif\" font-size=\"14.00\">St0</text>\n",
       "</g>\n",
       "<!-- St1 -->\n",
       "<g id=\"node10\" class=\"node\"><title>St1</title>\n",
       "<ellipse fill=\"none\" stroke=\"black\" cx=\"464.135\" cy=\"-74.4479\" rx=\"21.8229\" ry=\"21.8229\"/>\n",
       "<ellipse fill=\"none\" stroke=\"black\" cx=\"464.135\" cy=\"-74.4479\" rx=\"25.8081\" ry=\"25.8081\"/>\n",
       "<text text-anchor=\"middle\" x=\"464.135\" y=\"-70.2479\" font-family=\"Times,serif\" font-size=\"14.00\">St1</text>\n",
       "</g>\n",
       "<!-- St0&#45;&gt;St1 -->\n",
       "<g id=\"edge13\" class=\"edge\"><title>St0&#45;&gt;St1</title>\n",
       "<path fill=\"none\" stroke=\"black\" d=\"M394.036,-103.236C404.762,-98.7678 418.306,-93.1249 430.555,-88.0216\"/>\n",
       "<polygon fill=\"black\" stroke=\"black\" points=\"432.138,-91.1539 440.023,-84.0771 429.446,-84.6922 432.138,-91.1539\"/>\n",
       "<text text-anchor=\"middle\" x=\"416.731\" y=\"-98.2479\" font-family=\"Times,serif\" font-size=\"14.00\">1</text>\n",
       "</g>\n",
       "<!-- St7 -->\n",
       "<g id=\"node3\" class=\"node\"><title>St7</title>\n",
       "<ellipse fill=\"none\" stroke=\"black\" cx=\"373.327\" cy=\"-37.4479\" rx=\"21.8081\" ry=\"21.8081\"/>\n",
       "<text text-anchor=\"middle\" x=\"373.327\" y=\"-33.2479\" font-family=\"Times,serif\" font-size=\"14.00\">St7</text>\n",
       "</g>\n",
       "<!-- St7&#45;&gt;St1 -->\n",
       "<g id=\"edge14\" class=\"edge\"><title>St7&#45;&gt;St1</title>\n",
       "<path fill=\"none\" stroke=\"black\" d=\"M395.453,-34.9986C403.441,-34.8153 412.472,-35.5278 420.231,-38.4479 426.712,-40.887 432.908,-44.7552 438.475,-49.0686\"/>\n",
       "<polygon fill=\"black\" stroke=\"black\" points=\"436.258,-51.7776 446.142,-55.5921 440.794,-46.4462 436.258,-51.7776\"/>\n",
       "<text text-anchor=\"middle\" x=\"416.731\" y=\"-41.2479\" font-family=\"Times,serif\" font-size=\"14.00\">1</text>\n",
       "</g>\n",
       "<!-- St7&#45;&gt;St1 -->\n",
       "<g id=\"edge15\" class=\"edge\"><title>St7&#45;&gt;St1</title>\n",
       "<path fill=\"none\" stroke=\"black\" d=\"M394.036,-45.6594C404.762,-50.128 418.306,-55.7708 430.555,-60.8742\"/>\n",
       "<polygon fill=\"black\" stroke=\"black\" points=\"429.446,-64.2035 440.023,-64.8186 432.138,-57.7419 429.446,-64.2035\"/>\n",
       "<text text-anchor=\"middle\" x=\"416.731\" y=\"-59.2479\" font-family=\"Times,serif\" font-size=\"14.00\">0</text>\n",
       "</g>\n",
       "<!-- St6 -->\n",
       "<g id=\"node4\" class=\"node\"><title>St6</title>\n",
       "<ellipse fill=\"none\" stroke=\"black\" cx=\"199.712\" cy=\"-115.448\" rx=\"21.8081\" ry=\"21.8081\"/>\n",
       "<text text-anchor=\"middle\" x=\"199.712\" y=\"-111.248\" font-family=\"Times,serif\" font-size=\"14.00\">St6</text>\n",
       "</g>\n",
       "<!-- St8 -->\n",
       "<g id=\"node7\" class=\"node\"><title>St8</title>\n",
       "<ellipse fill=\"none\" stroke=\"black\" cx=\"286.519\" cy=\"-86.4479\" rx=\"21.8081\" ry=\"21.8081\"/>\n",
       "<text text-anchor=\"middle\" x=\"286.519\" y=\"-82.2479\" font-family=\"Times,serif\" font-size=\"14.00\">St8</text>\n",
       "</g>\n",
       "<!-- St6&#45;&gt;St8 -->\n",
       "<g id=\"edge4\" class=\"edge\"><title>St6&#45;&gt;St8</title>\n",
       "<path fill=\"none\" stroke=\"black\" d=\"M220.81,-108.575C231.266,-105 244.252,-100.559 255.84,-96.5967\"/>\n",
       "<polygon fill=\"black\" stroke=\"black\" points=\"257.236,-99.8185 265.565,-93.2711 254.971,-93.195 257.236,-99.8185\"/>\n",
       "<text text-anchor=\"middle\" x=\"243.115\" y=\"-105.248\" font-family=\"Times,serif\" font-size=\"14.00\">1</text>\n",
       "</g>\n",
       "<!-- St3 -->\n",
       "<g id=\"node8\" class=\"node\"><title>St3</title>\n",
       "<ellipse fill=\"none\" stroke=\"black\" cx=\"286.519\" cy=\"-148.448\" rx=\"21.8081\" ry=\"21.8081\"/>\n",
       "<text text-anchor=\"middle\" x=\"286.519\" y=\"-144.248\" font-family=\"Times,serif\" font-size=\"14.00\">St3</text>\n",
       "</g>\n",
       "<!-- St6&#45;&gt;St3 -->\n",
       "<g id=\"edge5\" class=\"edge\"><title>St6&#45;&gt;St3</title>\n",
       "<path fill=\"none\" stroke=\"black\" d=\"M220.381,-123.102C231.085,-127.267 244.533,-132.499 256.426,-137.127\"/>\n",
       "<polygon fill=\"black\" stroke=\"black\" points=\"255.368,-140.471 265.956,-140.836 257.906,-133.947 255.368,-140.471\"/>\n",
       "<text text-anchor=\"middle\" x=\"243.115\" y=\"-136.248\" font-family=\"Times,serif\" font-size=\"14.00\">0</text>\n",
       "</g>\n",
       "<!-- St4 -->\n",
       "<g id=\"node5\" class=\"node\"><title>St4</title>\n",
       "<ellipse fill=\"none\" stroke=\"black\" cx=\"286.519\" cy=\"-24.4479\" rx=\"21.8081\" ry=\"21.8081\"/>\n",
       "<text text-anchor=\"middle\" x=\"286.519\" y=\"-20.2479\" font-family=\"Times,serif\" font-size=\"14.00\">St4</text>\n",
       "</g>\n",
       "<!-- St4&#45;&gt;St7 -->\n",
       "<g id=\"edge11\" class=\"edge\"><title>St4&#45;&gt;St7</title>\n",
       "<path fill=\"none\" stroke=\"black\" d=\"M302.919,-9.50943C311.682,-2.85934 322.965,2.64837 333.423,-1.44788 340.101,-4.06359 346.319,-8.42332 351.738,-13.2227\"/>\n",
       "<polygon fill=\"black\" stroke=\"black\" points=\"349.478,-15.9088 359.065,-20.4171 354.382,-10.9137 349.478,-15.9088\"/>\n",
       "<text text-anchor=\"middle\" x=\"329.923\" y=\"-4.24788\" font-family=\"Times,serif\" font-size=\"14.00\">1</text>\n",
       "</g>\n",
       "<!-- St4&#45;&gt;St7 -->\n",
       "<g id=\"edge12\" class=\"edge\"><title>St4&#45;&gt;St7</title>\n",
       "<path fill=\"none\" stroke=\"black\" d=\"M308.483,-27.6614C318.445,-29.1884 330.549,-31.0438 341.529,-32.7269\"/>\n",
       "<polygon fill=\"black\" stroke=\"black\" points=\"341.19,-36.2157 351.604,-34.2714 342.25,-29.2965 341.19,-36.2157\"/>\n",
       "<text text-anchor=\"middle\" x=\"329.923\" y=\"-34.2479\" font-family=\"Times,serif\" font-size=\"14.00\">0</text>\n",
       "</g>\n",
       "<!-- St5 -->\n",
       "<g id=\"node6\" class=\"node\"><title>St5</title>\n",
       "<ellipse fill=\"none\" stroke=\"black\" cx=\"199.712\" cy=\"-53.4479\" rx=\"21.8081\" ry=\"21.8081\"/>\n",
       "<text text-anchor=\"middle\" x=\"199.712\" y=\"-49.2479\" font-family=\"Times,serif\" font-size=\"14.00\">St5</text>\n",
       "</g>\n",
       "<!-- St5&#45;&gt;St4 -->\n",
       "<g id=\"edge6\" class=\"edge\"><title>St5&#45;&gt;St4</title>\n",
       "<path fill=\"none\" stroke=\"black\" d=\"M217.595,-40.0644C224.115,-35.6004 231.866,-31.094 239.615,-28.4479 244.29,-26.8517 249.381,-25.7928 254.414,-25.1048\"/>\n",
       "<polygon fill=\"black\" stroke=\"black\" points=\"254.884,-28.5763 264.515,-24.1605 254.232,-21.6067 254.884,-28.5763\"/>\n",
       "<text text-anchor=\"middle\" x=\"243.115\" y=\"-31.2479\" font-family=\"Times,serif\" font-size=\"14.00\">1</text>\n",
       "</g>\n",
       "<!-- St5&#45;&gt;St8 -->\n",
       "<g id=\"edge7\" class=\"edge\"><title>St5&#45;&gt;St8</title>\n",
       "<path fill=\"none\" stroke=\"black\" d=\"M220.381,-61.1017C231.085,-65.2667 244.533,-70.4994 256.426,-75.1272\"/>\n",
       "<polygon fill=\"black\" stroke=\"black\" points=\"255.368,-78.471 265.956,-78.8356 257.906,-71.9474 255.368,-78.471\"/>\n",
       "<text text-anchor=\"middle\" x=\"243.115\" y=\"-74.2479\" font-family=\"Times,serif\" font-size=\"14.00\">0</text>\n",
       "</g>\n",
       "<!-- St8&#45;&gt;St0 -->\n",
       "<g id=\"edge8\" class=\"edge\"><title>St8&#45;&gt;St0</title>\n",
       "<path fill=\"none\" stroke=\"black\" d=\"M307.618,-92.3725C317.998,-95.4325 330.871,-99.2274 342.396,-102.625\"/>\n",
       "<polygon fill=\"black\" stroke=\"black\" points=\"341.498,-106.009 352.079,-105.479 343.477,-99.2943 341.498,-106.009\"/>\n",
       "<text text-anchor=\"middle\" x=\"329.923\" y=\"-103.248\" font-family=\"Times,serif\" font-size=\"14.00\">1</text>\n",
       "</g>\n",
       "<!-- St8&#45;&gt;St7 -->\n",
       "<g id=\"edge9\" class=\"edge\"><title>St8&#45;&gt;St7</title>\n",
       "<path fill=\"none\" stroke=\"black\" d=\"M305.921,-75.8156C317.368,-69.2019 332.294,-60.5779 345.095,-53.1817\"/>\n",
       "<polygon fill=\"black\" stroke=\"black\" points=\"347.053,-56.0928 353.961,-48.0594 343.551,-50.0317 347.053,-56.0928\"/>\n",
       "<text text-anchor=\"middle\" x=\"329.923\" y=\"-66.2479\" font-family=\"Times,serif\" font-size=\"14.00\">0</text>\n",
       "</g>\n",
       "<!-- St3&#45;&gt;St0 -->\n",
       "<g id=\"edge10\" class=\"edge\"><title>St3&#45;&gt;St0</title>\n",
       "<path fill=\"none\" stroke=\"black\" d=\"M306.764,-140.052C317.638,-135.308 331.444,-129.284 343.579,-123.99\"/>\n",
       "<polygon fill=\"black\" stroke=\"black\" points=\"345.099,-127.145 352.865,-119.939 342.3,-120.729 345.099,-127.145\"/>\n",
       "<text text-anchor=\"middle\" x=\"329.923\" y=\"-134.248\" font-family=\"Times,serif\" font-size=\"14.00\">0</text>\n",
       "</g>\n",
       "<!-- St9&#45;&gt;St6 -->\n",
       "<g id=\"edge2\" class=\"edge\"><title>St9&#45;&gt;St6</title>\n",
       "<path fill=\"none\" stroke=\"black\" d=\"M134.002,-93.3205C144.458,-96.8959 157.444,-101.336 169.032,-105.299\"/>\n",
       "<polygon fill=\"black\" stroke=\"black\" points=\"168.163,-108.701 178.758,-108.625 170.428,-102.077 168.163,-108.701\"/>\n",
       "<text text-anchor=\"middle\" x=\"156.308\" y=\"-105.248\" font-family=\"Times,serif\" font-size=\"14.00\">1</text>\n",
       "</g>\n",
       "<!-- St9&#45;&gt;St5 -->\n",
       "<g id=\"edge3\" class=\"edge\"><title>St9&#45;&gt;St5</title>\n",
       "<path fill=\"none\" stroke=\"black\" d=\"M133.574,-78.7941C144.277,-74.629 157.725,-69.3963 169.618,-64.7685\"/>\n",
       "<polygon fill=\"black\" stroke=\"black\" points=\"171.098,-67.9483 179.149,-61.0602 168.56,-61.4248 171.098,-67.9483\"/>\n",
       "<text text-anchor=\"middle\" x=\"156.308\" y=\"-74.2479\" font-family=\"Times,serif\" font-size=\"14.00\">0</text>\n",
       "</g>\n",
       "</g>\n",
       "</svg>\n"
      ],
      "text/plain": [
       "<graphviz.dot.Digraph at 0x108b1b630>"
      ]
     },
     "execution_count": 47,
     "metadata": {},
     "output_type": "execute_result"
    }
   ],
   "source": [
    "dotObj_dfa(m2)"
   ]
  },
  {
   "cell_type": "code",
   "execution_count": null,
   "metadata": {
    "run_control": {
     "frozen": false,
     "read_only": false
    }
   },
   "outputs": [],
   "source": []
  },
  {
   "cell_type": "code",
   "execution_count": 48,
   "metadata": {
    "run_control": {
     "frozen": false,
     "read_only": false
    }
   },
   "outputs": [
    {
     "data": {
      "text/plain": [
       "True"
      ]
     },
     "execution_count": 48,
     "metadata": {},
     "output_type": "execute_result"
    }
   ],
   "source": [
    "iso_dfa(m1,m2)"
   ]
  },
  {
   "cell_type": "code",
   "execution_count": 49,
   "metadata": {
    "run_control": {
     "frozen": false,
     "read_only": false
    }
   },
   "outputs": [
    {
     "name": "stdout",
     "output_type": "stream",
     "text": [
      "Help on function del_gnfa_states in module Imports.Def_NFA2RE:\n",
      "\n",
      "del_gnfa_states(Gin, DelList=[])\n",
      "    Given a GNFA Gin with no unreachable states, \n",
      "    delete all states but f\n",
      "    or Real_I and Real_F.\n",
      "    If DelList is given, follow the state deletion\n",
      "    order mentioned therein; else choose order internally.\n",
      "    \n",
      "    Return a triple (Gfinal, dotObj_List, final_re_str), where\n",
      "      Gfinal       : the final GNFA\n",
      "      dotObj_List  : a list of Dot objects recording the process of\n",
      "                     deleting states and forming intermediate REs\n",
      "      final_re_str : the final RE as a string (ready to be fed to  \n",
      "                     re2nfa for converting back to an NFA)\n",
      "\n"
     ]
    }
   ],
   "source": [
    "help(del_gnfa_states)"
   ]
  },
  {
   "cell_type": "code",
   "execution_count": 50,
   "metadata": {
    "run_control": {
     "frozen": false,
     "read_only": false
    }
   },
   "outputs": [
    {
     "data": {
      "image/svg+xml": [
       "<?xml version=\"1.0\" encoding=\"UTF-8\" standalone=\"no\"?>\n",
       "<!DOCTYPE svg PUBLIC \"-//W3C//DTD SVG 1.1//EN\"\n",
       " \"http://www.w3.org/Graphics/SVG/1.1/DTD/svg11.dtd\">\n",
       "<!-- Generated by graphviz version 2.38.0 (20140413.2041)\n",
       " -->\n",
       "<!-- Title: %3 Pages: 1 -->\n",
       "<svg width=\"698pt\" height=\"210pt\"\n",
       " viewBox=\"0.00 0.00 698.19 209.87\" xmlns=\"http://www.w3.org/2000/svg\" xmlns:xlink=\"http://www.w3.org/1999/xlink\">\n",
       "<g id=\"graph0\" class=\"graph\" transform=\"scale(1 1) rotate(0) translate(4 205.874)\">\n",
       "<title>%3</title>\n",
       "<polygon fill=\"white\" stroke=\"none\" points=\"-4,4 -4,-205.874 694.186,-205.874 694.186,4 -4,4\"/>\n",
       "<!-- EMPTY -->\n",
       "<g id=\"node1\" class=\"node\"><title>EMPTY</title>\n",
       "</g>\n",
       "<!-- Real_I -->\n",
       "<g id=\"node10\" class=\"node\"><title>Real_I</title>\n",
       "<ellipse fill=\"none\" stroke=\"black\" cx=\"124.679\" cy=\"-122.447\" rx=\"33.8596\" ry=\"33.8596\"/>\n",
       "<text text-anchor=\"middle\" x=\"124.679\" y=\"-118.247\" font-family=\"Times,serif\" font-size=\"14.00\">Real_I</text>\n",
       "</g>\n",
       "<!-- EMPTY&#45;&gt;Real_I -->\n",
       "<g id=\"edge1\" class=\"edge\"><title>EMPTY&#45;&gt;Real_I</title>\n",
       "<path fill=\"none\" stroke=\"black\" d=\"M54.1448,-122.447C62.3457,-122.447 71.6258,-122.447 80.6729,-122.447\"/>\n",
       "<polygon fill=\"black\" stroke=\"black\" points=\"80.7185,-125.947 90.7184,-122.447 80.7184,-118.947 80.7185,-125.947\"/>\n",
       "</g>\n",
       "<!-- I -->\n",
       "<g id=\"node2\" class=\"node\"><title>I</title>\n",
       "<ellipse fill=\"none\" stroke=\"black\" cx=\"217.404\" cy=\"-122.447\" rx=\"18\" ry=\"18\"/>\n",
       "<text text-anchor=\"middle\" x=\"217.404\" y=\"-118.247\" font-family=\"Times,serif\" font-size=\"14.00\">I</text>\n",
       "</g>\n",
       "<!-- A1 -->\n",
       "<g id=\"node3\" class=\"node\"><title>A1</title>\n",
       "<ellipse fill=\"none\" stroke=\"black\" cx=\"299.319\" cy=\"-150.447\" rx=\"20.8304\" ry=\"20.8304\"/>\n",
       "<text text-anchor=\"middle\" x=\"299.319\" y=\"-146.247\" font-family=\"Times,serif\" font-size=\"14.00\">A1</text>\n",
       "</g>\n",
       "<!-- I&#45;&gt;A1 -->\n",
       "<g id=\"edge3\" class=\"edge\"><title>I&#45;&gt;A1</title>\n",
       "<path fill=\"none\" stroke=\"black\" d=\"M234.576,-128.113C244.695,-131.659 258.014,-136.325 269.86,-140.476\"/>\n",
       "<polygon fill=\"black\" stroke=\"black\" points=\"268.766,-143.801 279.361,-143.805 271.081,-137.195 268.766,-143.801\"/>\n",
       "<text text-anchor=\"middle\" x=\"256.904\" y=\"-140.247\" font-family=\"Times,serif\" font-size=\"14.00\">1</text>\n",
       "</g>\n",
       "<!-- A0 -->\n",
       "<g id=\"node4\" class=\"node\"><title>A0</title>\n",
       "<ellipse fill=\"none\" stroke=\"black\" cx=\"299.319\" cy=\"-90.4469\" rx=\"20.8304\" ry=\"20.8304\"/>\n",
       "<text text-anchor=\"middle\" x=\"299.319\" y=\"-86.2469\" font-family=\"Times,serif\" font-size=\"14.00\">A0</text>\n",
       "</g>\n",
       "<!-- I&#45;&gt;A0 -->\n",
       "<g id=\"edge2\" class=\"edge\"><title>I&#45;&gt;A0</title>\n",
       "<path fill=\"none\" stroke=\"black\" d=\"M234.576,-115.971C244.766,-111.891 258.202,-106.511 270.11,-101.742\"/>\n",
       "<polygon fill=\"black\" stroke=\"black\" points=\"271.666,-104.889 279.648,-97.9229 269.064,-98.3911 271.666,-104.889\"/>\n",
       "<text text-anchor=\"middle\" x=\"256.904\" y=\"-111.247\" font-family=\"Times,serif\" font-size=\"14.00\">0</text>\n",
       "</g>\n",
       "<!-- B1 -->\n",
       "<g id=\"node12\" class=\"node\"><title>B1</title>\n",
       "<ellipse fill=\"none\" stroke=\"black\" cx=\"383.661\" cy=\"-122.447\" rx=\"20.3544\" ry=\"20.3544\"/>\n",
       "<text text-anchor=\"middle\" x=\"383.661\" y=\"-118.247\" font-family=\"Times,serif\" font-size=\"14.00\">B1</text>\n",
       "</g>\n",
       "<!-- A1&#45;&gt;B1 -->\n",
       "<g id=\"edge10\" class=\"edge\"><title>A1&#45;&gt;B1</title>\n",
       "<path fill=\"none\" stroke=\"black\" d=\"M319.416,-143.953C329.779,-140.429 342.789,-136.005 354.312,-132.087\"/>\n",
       "<polygon fill=\"black\" stroke=\"black\" points=\"355.609,-135.342 363.95,-128.809 353.356,-128.715 355.609,-135.342\"/>\n",
       "<text text-anchor=\"middle\" x=\"341.734\" y=\"-140.247\" font-family=\"Times,serif\" font-size=\"14.00\">1</text>\n",
       "</g>\n",
       "<!-- B2 -->\n",
       "<g id=\"node13\" class=\"node\"><title>B2</title>\n",
       "<ellipse fill=\"none\" stroke=\"black\" cx=\"383.661\" cy=\"-181.447\" rx=\"20.3544\" ry=\"20.3544\"/>\n",
       "<text text-anchor=\"middle\" x=\"383.661\" y=\"-177.247\" font-family=\"Times,serif\" font-size=\"14.00\">B2</text>\n",
       "</g>\n",
       "<!-- A1&#45;&gt;B2 -->\n",
       "<g id=\"edge11\" class=\"edge\"><title>A1&#45;&gt;B2</title>\n",
       "<path fill=\"none\" stroke=\"black\" d=\"M319.416,-157.637C329.852,-161.566 342.974,-166.506 354.557,-170.866\"/>\n",
       "<polygon fill=\"black\" stroke=\"black\" points=\"353.641,-174.261 364.233,-174.509 356.107,-167.71 353.641,-174.261\"/>\n",
       "<text text-anchor=\"middle\" x=\"341.734\" y=\"-170.247\" font-family=\"Times,serif\" font-size=\"14.00\">0</text>\n",
       "</g>\n",
       "<!-- A0&#45;&gt;B1 -->\n",
       "<g id=\"edge5\" class=\"edge\"><title>A0&#45;&gt;B1</title>\n",
       "<path fill=\"none\" stroke=\"black\" d=\"M319.003,-97.7082C329.605,-101.828 343.077,-107.064 354.895,-111.656\"/>\n",
       "<polygon fill=\"black\" stroke=\"black\" points=\"353.745,-114.964 364.334,-115.325 356.281,-108.44 353.745,-114.964\"/>\n",
       "<text text-anchor=\"middle\" x=\"341.734\" y=\"-110.247\" font-family=\"Times,serif\" font-size=\"14.00\">0</text>\n",
       "</g>\n",
       "<!-- B0 -->\n",
       "<g id=\"node14\" class=\"node\"><title>B0</title>\n",
       "<ellipse fill=\"none\" stroke=\"black\" cx=\"383.661\" cy=\"-63.4469\" rx=\"20.3544\" ry=\"20.3544\"/>\n",
       "<text text-anchor=\"middle\" x=\"383.661\" y=\"-59.2469\" font-family=\"Times,serif\" font-size=\"14.00\">B0</text>\n",
       "</g>\n",
       "<!-- A0&#45;&gt;B0 -->\n",
       "<g id=\"edge4\" class=\"edge\"><title>A0&#45;&gt;B0</title>\n",
       "<path fill=\"none\" stroke=\"black\" d=\"M315.928,-77.4144C322.418,-72.7578 330.284,-68.0279 338.234,-65.4469 342.943,-63.9179 348.08,-63.0294 353.136,-62.5564\"/>\n",
       "<polygon fill=\"black\" stroke=\"black\" points=\"353.405,-66.0479 363.235,-62.0973 353.087,-59.0551 353.405,-66.0479\"/>\n",
       "<text text-anchor=\"middle\" x=\"341.734\" y=\"-68.2469\" font-family=\"Times,serif\" font-size=\"14.00\">1</text>\n",
       "</g>\n",
       "<!-- F1 -->\n",
       "<g id=\"node5\" class=\"node\"><title>F1</title>\n",
       "<ellipse fill=\"none\" stroke=\"black\" cx=\"550.389\" cy=\"-76.4469\" rx=\"19.3939\" ry=\"19.3939\"/>\n",
       "<text text-anchor=\"middle\" x=\"550.389\" y=\"-72.2469\" font-family=\"Times,serif\" font-size=\"14.00\">F1</text>\n",
       "</g>\n",
       "<!-- Real_F -->\n",
       "<g id=\"node15\" class=\"node\"><title>Real_F</title>\n",
       "<ellipse fill=\"none\" stroke=\"black\" cx=\"650.533\" cy=\"-76.4469\" rx=\"35.7905\" ry=\"35.7905\"/>\n",
       "<ellipse fill=\"none\" stroke=\"black\" cx=\"650.533\" cy=\"-76.4469\" rx=\"39.806\" ry=\"39.806\"/>\n",
       "<text text-anchor=\"middle\" x=\"650.533\" y=\"-72.2469\" font-family=\"Times,serif\" font-size=\"14.00\">Real_F</text>\n",
       "</g>\n",
       "<!-- F1&#45;&gt;Real_F -->\n",
       "<g id=\"edge20\" class=\"edge\"><title>F1&#45;&gt;Real_F</title>\n",
       "<path fill=\"none\" stroke=\"black\" d=\"M569.849,-76.4469C578.692,-76.4469 589.743,-76.4469 600.772,-76.4469\"/>\n",
       "<polygon fill=\"black\" stroke=\"black\" points=\"600.832,-79.947 610.832,-76.4469 600.832,-72.947 600.832,-79.947\"/>\n",
       "<text text-anchor=\"middle\" x=\"590.358\" y=\"-79.2469\" font-family=\"Times,serif\" font-size=\"14.00\">&#39;&#39;</text>\n",
       "</g>\n",
       "<!-- C0 -->\n",
       "<g id=\"node6\" class=\"node\"><title>C0</title>\n",
       "<ellipse fill=\"none\" stroke=\"black\" cx=\"467.515\" cy=\"-33.4469\" rx=\"20.3544\" ry=\"20.3544\"/>\n",
       "<text text-anchor=\"middle\" x=\"467.515\" y=\"-29.2469\" font-family=\"Times,serif\" font-size=\"14.00\">C0</text>\n",
       "</g>\n",
       "<!-- C0&#45;&gt;F1 -->\n",
       "<g id=\"edge9\" class=\"edge\"><title>C0&#45;&gt;F1</title>\n",
       "<path fill=\"none\" stroke=\"black\" d=\"M486.063,-42.7772C497.169,-48.6822 511.71,-56.4133 524.056,-62.9779\"/>\n",
       "<polygon fill=\"black\" stroke=\"black\" points=\"522.504,-66.1166 532.977,-67.7209 525.791,-59.9359 522.504,-66.1166\"/>\n",
       "<text text-anchor=\"middle\" x=\"509.442\" y=\"-59.2469\" font-family=\"Times,serif\" font-size=\"14.00\">0</text>\n",
       "</g>\n",
       "<!-- F0 -->\n",
       "<g id=\"node7\" class=\"node\"><title>F0</title>\n",
       "<ellipse fill=\"none\" stroke=\"black\" cx=\"550.389\" cy=\"-19.4469\" rx=\"19.3939\" ry=\"19.3939\"/>\n",
       "<text text-anchor=\"middle\" x=\"550.389\" y=\"-15.2469\" font-family=\"Times,serif\" font-size=\"14.00\">F0</text>\n",
       "</g>\n",
       "<!-- C0&#45;&gt;F0 -->\n",
       "<g id=\"edge8\" class=\"edge\"><title>C0&#45;&gt;F0</title>\n",
       "<path fill=\"none\" stroke=\"black\" d=\"M486.865,-25.7983C492.843,-23.6539 499.579,-21.5959 505.942,-20.4469 510.578,-19.6097 515.537,-19.1214 520.385,-18.8616\"/>\n",
       "<polygon fill=\"black\" stroke=\"black\" points=\"520.744,-22.354 530.656,-18.6112 520.573,-15.3561 520.744,-22.354\"/>\n",
       "<text text-anchor=\"middle\" x=\"509.442\" y=\"-23.2469\" font-family=\"Times,serif\" font-size=\"14.00\">1</text>\n",
       "</g>\n",
       "<!-- F0&#45;&gt;Real_F -->\n",
       "<g id=\"edge21\" class=\"edge\"><title>F0&#45;&gt;Real_F</title>\n",
       "<path fill=\"none\" stroke=\"black\" d=\"M567.595,-28.8593C578.314,-35.0845 592.905,-43.5584 606.805,-51.6312\"/>\n",
       "<polygon fill=\"black\" stroke=\"black\" points=\"605.387,-54.855 615.792,-56.8506 608.902,-48.8018 605.387,-54.855\"/>\n",
       "<text text-anchor=\"middle\" x=\"590.358\" y=\"-46.2469\" font-family=\"Times,serif\" font-size=\"14.00\">&#39;&#39;</text>\n",
       "</g>\n",
       "<!-- C1 -->\n",
       "<g id=\"node8\" class=\"node\"><title>C1</title>\n",
       "<ellipse fill=\"none\" stroke=\"black\" cx=\"467.515\" cy=\"-100.447\" rx=\"20.3544\" ry=\"20.3544\"/>\n",
       "<text text-anchor=\"middle\" x=\"467.515\" y=\"-96.2469\" font-family=\"Times,serif\" font-size=\"14.00\">C1</text>\n",
       "</g>\n",
       "<!-- C1&#45;&gt;F1 -->\n",
       "<g id=\"edge14\" class=\"edge\"><title>C1&#45;&gt;F1</title>\n",
       "<path fill=\"none\" stroke=\"black\" d=\"M487.272,-94.8805C497.49,-91.8483 510.329,-88.0381 521.679,-84.67\"/>\n",
       "<polygon fill=\"black\" stroke=\"black\" points=\"522.975,-87.9364 531.566,-81.736 520.983,-81.2257 522.975,-87.9364\"/>\n",
       "<text text-anchor=\"middle\" x=\"509.442\" y=\"-92.2469\" font-family=\"Times,serif\" font-size=\"14.00\">1</text>\n",
       "</g>\n",
       "<!-- F2 -->\n",
       "<g id=\"node9\" class=\"node\"><title>F2</title>\n",
       "<ellipse fill=\"none\" stroke=\"black\" cx=\"550.389\" cy=\"-133.447\" rx=\"19.3939\" ry=\"19.3939\"/>\n",
       "<text text-anchor=\"middle\" x=\"550.389\" y=\"-129.247\" font-family=\"Times,serif\" font-size=\"14.00\">F2</text>\n",
       "</g>\n",
       "<!-- C1&#45;&gt;F2 -->\n",
       "<g id=\"edge15\" class=\"edge\"><title>C1&#45;&gt;F2</title>\n",
       "<path fill=\"none\" stroke=\"black\" d=\"M486.866,-107.935C497.498,-112.273 511.068,-117.81 522.846,-122.616\"/>\n",
       "<polygon fill=\"black\" stroke=\"black\" points=\"521.635,-125.902 532.216,-126.44 524.279,-119.421 521.635,-125.902\"/>\n",
       "<text text-anchor=\"middle\" x=\"509.442\" y=\"-121.247\" font-family=\"Times,serif\" font-size=\"14.00\">0</text>\n",
       "</g>\n",
       "<!-- F2&#45;&gt;Real_F -->\n",
       "<g id=\"edge19\" class=\"edge\"><title>F2&#45;&gt;Real_F</title>\n",
       "<path fill=\"none\" stroke=\"black\" d=\"M567.595,-124.034C578.314,-117.809 592.905,-109.335 606.805,-101.262\"/>\n",
       "<polygon fill=\"black\" stroke=\"black\" points=\"608.902,-104.092 615.792,-96.0431 605.387,-98.0387 608.902,-104.092\"/>\n",
       "<text text-anchor=\"middle\" x=\"590.358\" y=\"-115.247\" font-family=\"Times,serif\" font-size=\"14.00\">&#39;&#39;</text>\n",
       "</g>\n",
       "<!-- Real_I&#45;&gt;I -->\n",
       "<g id=\"edge18\" class=\"edge\"><title>Real_I&#45;&gt;I</title>\n",
       "<path fill=\"none\" stroke=\"black\" d=\"M158.433,-122.447C168.463,-122.447 179.387,-122.447 189.021,-122.447\"/>\n",
       "<polygon fill=\"black\" stroke=\"black\" points=\"189.232,-125.947 199.232,-122.447 189.232,-118.947 189.232,-125.947\"/>\n",
       "<text text-anchor=\"middle\" x=\"178.881\" y=\"-125.247\" font-family=\"Times,serif\" font-size=\"14.00\">&#39;&#39;</text>\n",
       "</g>\n",
       "<!-- C2 -->\n",
       "<g id=\"node11\" class=\"node\"><title>C2</title>\n",
       "<ellipse fill=\"none\" stroke=\"black\" cx=\"467.515\" cy=\"-167.447\" rx=\"20.3544\" ry=\"20.3544\"/>\n",
       "<text text-anchor=\"middle\" x=\"467.515\" y=\"-163.247\" font-family=\"Times,serif\" font-size=\"14.00\">C2</text>\n",
       "</g>\n",
       "<!-- C2&#45;&gt;F2 -->\n",
       "<g id=\"edge17\" class=\"edge\"><title>C2&#45;&gt;F2</title>\n",
       "<path fill=\"none\" stroke=\"black\" d=\"M486.866,-159.732C497.498,-155.262 511.068,-149.557 522.846,-144.605\"/>\n",
       "<polygon fill=\"black\" stroke=\"black\" points=\"524.354,-147.769 532.216,-140.666 521.641,-141.316 524.354,-147.769\"/>\n",
       "<text text-anchor=\"middle\" x=\"509.442\" y=\"-155.247\" font-family=\"Times,serif\" font-size=\"14.00\">1</text>\n",
       "</g>\n",
       "<!-- B1&#45;&gt;C1 -->\n",
       "<g id=\"edge12\" class=\"edge\"><title>B1&#45;&gt;C1</title>\n",
       "<path fill=\"none\" stroke=\"black\" d=\"M402.72,-114.944C408.797,-112.621 415.666,-110.211 422.088,-108.447 426.844,-107.14 431.947,-105.993 436.939,-105.005\"/>\n",
       "<polygon fill=\"black\" stroke=\"black\" points=\"437.667,-108.43 446.881,-103.202 436.417,-101.543 437.667,-108.43\"/>\n",
       "<text text-anchor=\"middle\" x=\"425.588\" y=\"-111.247\" font-family=\"Times,serif\" font-size=\"14.00\">0</text>\n",
       "</g>\n",
       "<!-- B1&#45;&gt;C2 -->\n",
       "<g id=\"edge13\" class=\"edge\"><title>B1&#45;&gt;C2</title>\n",
       "<path fill=\"none\" stroke=\"black\" d=\"M402.02,-131.99C413.089,-138.076 427.648,-146.079 440.131,-152.942\"/>\n",
       "<polygon fill=\"black\" stroke=\"black\" points=\"438.731,-156.167 449.181,-157.917 442.104,-150.033 438.731,-156.167\"/>\n",
       "<text text-anchor=\"middle\" x=\"425.588\" y=\"-149.247\" font-family=\"Times,serif\" font-size=\"14.00\">1</text>\n",
       "</g>\n",
       "<!-- B2&#45;&gt;C2 -->\n",
       "<g id=\"edge16\" class=\"edge\"><title>B2&#45;&gt;C2</title>\n",
       "<path fill=\"none\" stroke=\"black\" d=\"M404.059,-178.129C413.947,-176.438 426.179,-174.346 437.19,-172.463\"/>\n",
       "<polygon fill=\"black\" stroke=\"black\" points=\"437.989,-175.877 447.256,-170.741 436.809,-168.977 437.989,-175.877\"/>\n",
       "<text text-anchor=\"middle\" x=\"425.588\" y=\"-178.247\" font-family=\"Times,serif\" font-size=\"14.00\">0</text>\n",
       "</g>\n",
       "<!-- B0&#45;&gt;C0 -->\n",
       "<g id=\"edge6\" class=\"edge\"><title>B0&#45;&gt;C0</title>\n",
       "<path fill=\"none\" stroke=\"black\" d=\"M398.629,-49.1637C405.163,-43.46 413.411,-37.5245 422.088,-34.4469 426.75,-32.793 431.865,-31.905 436.912,-31.5028\"/>\n",
       "<polygon fill=\"black\" stroke=\"black\" points=\"437.095,-34.9997 447.011,-31.2702 436.933,-28.0015 437.095,-34.9997\"/>\n",
       "<text text-anchor=\"middle\" x=\"425.588\" y=\"-37.2469\" font-family=\"Times,serif\" font-size=\"14.00\">0</text>\n",
       "</g>\n",
       "<!-- B0&#45;&gt;C1 -->\n",
       "<g id=\"edge7\" class=\"edge\"><title>B0&#45;&gt;C1</title>\n",
       "<path fill=\"none\" stroke=\"black\" d=\"M402.827,-71.6584C413.604,-76.5301 427.47,-82.7976 439.51,-88.2401\"/>\n",
       "<polygon fill=\"black\" stroke=\"black\" points=\"438.127,-91.4559 448.681,-92.3856 441.01,-85.0773 438.127,-91.4559\"/>\n",
       "<text text-anchor=\"middle\" x=\"425.588\" y=\"-86.2469\" font-family=\"Times,serif\" font-size=\"14.00\">1</text>\n",
       "</g>\n",
       "</g>\n",
       "</svg>\n"
      ],
      "text/plain": [
       "<graphviz.dot.Digraph at 0x108bab2b0>"
      ]
     },
     "execution_count": 50,
     "metadata": {},
     "output_type": "execute_result"
    }
   ],
   "source": [
    "gnfamd1=mk_gnfa(nfamd1)\n",
    "dotObj_gnfa(gnfamd1)"
   ]
  },
  {
   "cell_type": "code",
   "execution_count": 51,
   "metadata": {
    "run_control": {
     "frozen": false,
     "read_only": false
    }
   },
   "outputs": [
    {
     "name": "stdout",
     "output_type": "stream",
     "text": [
      "**** Eliminating state I ****\n",
      "**** Eliminating state C1 ****\n",
      "**** Eliminating state F2 ****\n",
      "**** Eliminating state A1 ****\n",
      "**** Eliminating state A0 ****\n",
      "**** Eliminating state F1 ****\n",
      "**** Eliminating state B0 ****\n",
      "**** Eliminating state C2 ****\n",
      "**** Eliminating state B1 ****\n",
      "**** Eliminating state B2 ****\n",
      "**** Eliminating state C0 ****\n",
      "**** Eliminating state F0 ****\n"
     ]
    }
   ],
   "source": [
    "(Gfinal, dotObj_List, final_re_str) = del_gnfa_states(gnfamd1)"
   ]
  },
  {
   "cell_type": "code",
   "execution_count": 55,
   "metadata": {
    "run_control": {
     "frozen": false,
     "read_only": false
    }
   },
   "outputs": [
    {
     "data": {
      "text/plain": [
       "'(((((0 1) 0) 1) + (((((0 1) 0) 0) + ((((1 0) (0 1)) + ((((((0 0) + (1 1)) + (1 1)) (((1 1) + (((0 1) + (0 0)) + (0 0))) + (((0 1) + (0 0)) + (0 0)))) + ((0 1) (((1 1) + (1 0)) + (1 0)))) + ((0 1) (((1 1) + (1 0)) + (1 0))))) + ((((((0 0) + (1 1)) + (1 1)) (((1 1) + (((0 1) + (0 0)) + (0 0))) + (((0 1) + (0 0)) + (0 0)))) + ((0 1) (((1 1) + (1 0)) + (1 0)))) + ((0 1) (((1 1) + (1 0)) + (1 0)))))) + ((((1 0) (0 1)) + ((((((0 0) + (1 1)) + (1 1)) (((1 1) + (((0 1) + (0 0)) + (0 0))) + (((0 1) + (0 0)) + (0 0)))) + ((0 1) (((1 1) + (1 0)) + (1 0)))) + ((0 1) (((1 1) + (1 0)) + (1 0))))) + ((((((0 0) + (1 1)) + (1 1)) (((1 1) + (((0 1) + (0 0)) + (0 0))) + (((0 1) + (0 0)) + (0 0)))) + ((0 1) (((1 1) + (1 0)) + (1 0)))) + ((0 1) (((1 1) + (1 0)) + (1 0))))))) + (((((0 1) 0) 0) + ((((1 0) (0 1)) + ((((((0 0) + (1 1)) + (1 1)) (((1 1) + (((0 1) + (0 0)) + (0 0))) + (((0 1) + (0 0)) + (0 0)))) + ((0 1) (((1 1) + (1 0)) + (1 0)))) + ((0 1) (((1 1) + (1 0)) + (1 0))))) + ((((((0 0) + (1 1)) + (1 1)) (((1 1) + (((0 1) + (0 0)) + (0 0))) + (((0 1) + (0 0)) + (0 0)))) + ((0 1) (((1 1) + (1 0)) + (1 0)))) + ((0 1) (((1 1) + (1 0)) + (1 0)))))) + ((((1 0) (0 1)) + ((((((0 0) + (1 1)) + (1 1)) (((1 1) + (((0 1) + (0 0)) + (0 0))) + (((0 1) + (0 0)) + (0 0)))) + ((0 1) (((1 1) + (1 0)) + (1 0)))) + ((0 1) (((1 1) + (1 0)) + (1 0))))) + ((((((0 0) + (1 1)) + (1 1)) (((1 1) + (((0 1) + (0 0)) + (0 0))) + (((0 1) + (0 0)) + (0 0)))) + ((0 1) (((1 1) + (1 0)) + (1 0)))) + ((0 1) (((1 1) + (1 0)) + (1 0)))))))'"
      ]
     },
     "execution_count": 55,
     "metadata": {},
     "output_type": "execute_result"
    }
   ],
   "source": [
    "final_re_str"
   ]
  },
  {
   "cell_type": "code",
   "execution_count": 56,
   "metadata": {
    "run_control": {
     "frozen": false,
     "read_only": false
    }
   },
   "outputs": [
    {
     "data": {
      "image/svg+xml": [
       "<?xml version=\"1.0\" encoding=\"UTF-8\" standalone=\"no\"?>\n",
       "<!DOCTYPE svg PUBLIC \"-//W3C//DTD SVG 1.1//EN\"\n",
       " \"http://www.w3.org/Graphics/SVG/1.1/DTD/svg11.dtd\">\n",
       "<!-- Generated by graphviz version 2.38.0 (20140413.2041)\n",
       " -->\n",
       "<!-- Title: %3 Pages: 1 -->\n",
       "<svg width=\"698pt\" height=\"210pt\"\n",
       " viewBox=\"0.00 0.00 698.19 209.87\" xmlns=\"http://www.w3.org/2000/svg\" xmlns:xlink=\"http://www.w3.org/1999/xlink\">\n",
       "<g id=\"graph0\" class=\"graph\" transform=\"scale(1 1) rotate(0) translate(4 205.874)\">\n",
       "<title>%3</title>\n",
       "<polygon fill=\"white\" stroke=\"none\" points=\"-4,4 -4,-205.874 694.186,-205.874 694.186,4 -4,4\"/>\n",
       "<!-- EMPTY -->\n",
       "<g id=\"node1\" class=\"node\"><title>EMPTY</title>\n",
       "</g>\n",
       "<!-- Real_I -->\n",
       "<g id=\"node10\" class=\"node\"><title>Real_I</title>\n",
       "<ellipse fill=\"none\" stroke=\"black\" cx=\"124.679\" cy=\"-122.447\" rx=\"33.8596\" ry=\"33.8596\"/>\n",
       "<text text-anchor=\"middle\" x=\"124.679\" y=\"-118.247\" font-family=\"Times,serif\" font-size=\"14.00\">Real_I</text>\n",
       "</g>\n",
       "<!-- EMPTY&#45;&gt;Real_I -->\n",
       "<g id=\"edge1\" class=\"edge\"><title>EMPTY&#45;&gt;Real_I</title>\n",
       "<path fill=\"none\" stroke=\"black\" d=\"M54.1448,-122.447C62.3457,-122.447 71.6258,-122.447 80.6729,-122.447\"/>\n",
       "<polygon fill=\"black\" stroke=\"black\" points=\"80.7185,-125.947 90.7184,-122.447 80.7184,-118.947 80.7185,-125.947\"/>\n",
       "</g>\n",
       "<!-- I -->\n",
       "<g id=\"node2\" class=\"node\"><title>I</title>\n",
       "<ellipse fill=\"none\" stroke=\"black\" cx=\"217.404\" cy=\"-122.447\" rx=\"18\" ry=\"18\"/>\n",
       "<text text-anchor=\"middle\" x=\"217.404\" y=\"-118.247\" font-family=\"Times,serif\" font-size=\"14.00\">I</text>\n",
       "</g>\n",
       "<!-- A1 -->\n",
       "<g id=\"node3\" class=\"node\"><title>A1</title>\n",
       "<ellipse fill=\"none\" stroke=\"black\" cx=\"299.319\" cy=\"-150.447\" rx=\"20.8304\" ry=\"20.8304\"/>\n",
       "<text text-anchor=\"middle\" x=\"299.319\" y=\"-146.247\" font-family=\"Times,serif\" font-size=\"14.00\">A1</text>\n",
       "</g>\n",
       "<!-- I&#45;&gt;A1 -->\n",
       "<g id=\"edge3\" class=\"edge\"><title>I&#45;&gt;A1</title>\n",
       "<path fill=\"none\" stroke=\"black\" d=\"M234.576,-128.113C244.695,-131.659 258.014,-136.325 269.86,-140.476\"/>\n",
       "<polygon fill=\"black\" stroke=\"black\" points=\"268.766,-143.801 279.361,-143.805 271.081,-137.195 268.766,-143.801\"/>\n",
       "<text text-anchor=\"middle\" x=\"256.904\" y=\"-140.247\" font-family=\"Times,serif\" font-size=\"14.00\">1</text>\n",
       "</g>\n",
       "<!-- A0 -->\n",
       "<g id=\"node4\" class=\"node\"><title>A0</title>\n",
       "<ellipse fill=\"none\" stroke=\"black\" cx=\"299.319\" cy=\"-90.4469\" rx=\"20.8304\" ry=\"20.8304\"/>\n",
       "<text text-anchor=\"middle\" x=\"299.319\" y=\"-86.2469\" font-family=\"Times,serif\" font-size=\"14.00\">A0</text>\n",
       "</g>\n",
       "<!-- I&#45;&gt;A0 -->\n",
       "<g id=\"edge2\" class=\"edge\"><title>I&#45;&gt;A0</title>\n",
       "<path fill=\"none\" stroke=\"black\" d=\"M234.576,-115.971C244.766,-111.891 258.202,-106.511 270.11,-101.742\"/>\n",
       "<polygon fill=\"black\" stroke=\"black\" points=\"271.666,-104.889 279.648,-97.9229 269.064,-98.3911 271.666,-104.889\"/>\n",
       "<text text-anchor=\"middle\" x=\"256.904\" y=\"-111.247\" font-family=\"Times,serif\" font-size=\"14.00\">0</text>\n",
       "</g>\n",
       "<!-- B1 -->\n",
       "<g id=\"node12\" class=\"node\"><title>B1</title>\n",
       "<ellipse fill=\"none\" stroke=\"black\" cx=\"383.661\" cy=\"-122.447\" rx=\"20.3544\" ry=\"20.3544\"/>\n",
       "<text text-anchor=\"middle\" x=\"383.661\" y=\"-118.247\" font-family=\"Times,serif\" font-size=\"14.00\">B1</text>\n",
       "</g>\n",
       "<!-- A1&#45;&gt;B1 -->\n",
       "<g id=\"edge10\" class=\"edge\"><title>A1&#45;&gt;B1</title>\n",
       "<path fill=\"none\" stroke=\"black\" d=\"M319.416,-143.953C329.779,-140.429 342.789,-136.005 354.312,-132.087\"/>\n",
       "<polygon fill=\"black\" stroke=\"black\" points=\"355.609,-135.342 363.95,-128.809 353.356,-128.715 355.609,-135.342\"/>\n",
       "<text text-anchor=\"middle\" x=\"341.734\" y=\"-140.247\" font-family=\"Times,serif\" font-size=\"14.00\">1</text>\n",
       "</g>\n",
       "<!-- B2 -->\n",
       "<g id=\"node13\" class=\"node\"><title>B2</title>\n",
       "<ellipse fill=\"none\" stroke=\"black\" cx=\"383.661\" cy=\"-181.447\" rx=\"20.3544\" ry=\"20.3544\"/>\n",
       "<text text-anchor=\"middle\" x=\"383.661\" y=\"-177.247\" font-family=\"Times,serif\" font-size=\"14.00\">B2</text>\n",
       "</g>\n",
       "<!-- A1&#45;&gt;B2 -->\n",
       "<g id=\"edge11\" class=\"edge\"><title>A1&#45;&gt;B2</title>\n",
       "<path fill=\"none\" stroke=\"black\" d=\"M319.416,-157.637C329.852,-161.566 342.974,-166.506 354.557,-170.866\"/>\n",
       "<polygon fill=\"black\" stroke=\"black\" points=\"353.641,-174.261 364.233,-174.509 356.107,-167.71 353.641,-174.261\"/>\n",
       "<text text-anchor=\"middle\" x=\"341.734\" y=\"-170.247\" font-family=\"Times,serif\" font-size=\"14.00\">0</text>\n",
       "</g>\n",
       "<!-- A0&#45;&gt;B1 -->\n",
       "<g id=\"edge5\" class=\"edge\"><title>A0&#45;&gt;B1</title>\n",
       "<path fill=\"none\" stroke=\"black\" d=\"M319.003,-97.7082C329.605,-101.828 343.077,-107.064 354.895,-111.656\"/>\n",
       "<polygon fill=\"black\" stroke=\"black\" points=\"353.745,-114.964 364.334,-115.325 356.281,-108.44 353.745,-114.964\"/>\n",
       "<text text-anchor=\"middle\" x=\"341.734\" y=\"-110.247\" font-family=\"Times,serif\" font-size=\"14.00\">0</text>\n",
       "</g>\n",
       "<!-- B0 -->\n",
       "<g id=\"node14\" class=\"node\"><title>B0</title>\n",
       "<ellipse fill=\"none\" stroke=\"black\" cx=\"383.661\" cy=\"-63.4469\" rx=\"20.3544\" ry=\"20.3544\"/>\n",
       "<text text-anchor=\"middle\" x=\"383.661\" y=\"-59.2469\" font-family=\"Times,serif\" font-size=\"14.00\">B0</text>\n",
       "</g>\n",
       "<!-- A0&#45;&gt;B0 -->\n",
       "<g id=\"edge4\" class=\"edge\"><title>A0&#45;&gt;B0</title>\n",
       "<path fill=\"none\" stroke=\"black\" d=\"M315.928,-77.4144C322.418,-72.7578 330.284,-68.0279 338.234,-65.4469 342.943,-63.9179 348.08,-63.0294 353.136,-62.5564\"/>\n",
       "<polygon fill=\"black\" stroke=\"black\" points=\"353.405,-66.0479 363.235,-62.0973 353.087,-59.0551 353.405,-66.0479\"/>\n",
       "<text text-anchor=\"middle\" x=\"341.734\" y=\"-68.2469\" font-family=\"Times,serif\" font-size=\"14.00\">1</text>\n",
       "</g>\n",
       "<!-- F1 -->\n",
       "<g id=\"node5\" class=\"node\"><title>F1</title>\n",
       "<ellipse fill=\"none\" stroke=\"black\" cx=\"550.389\" cy=\"-76.4469\" rx=\"19.3939\" ry=\"19.3939\"/>\n",
       "<text text-anchor=\"middle\" x=\"550.389\" y=\"-72.2469\" font-family=\"Times,serif\" font-size=\"14.00\">F1</text>\n",
       "</g>\n",
       "<!-- Real_F -->\n",
       "<g id=\"node15\" class=\"node\"><title>Real_F</title>\n",
       "<ellipse fill=\"none\" stroke=\"black\" cx=\"650.533\" cy=\"-76.4469\" rx=\"35.7905\" ry=\"35.7905\"/>\n",
       "<ellipse fill=\"none\" stroke=\"black\" cx=\"650.533\" cy=\"-76.4469\" rx=\"39.806\" ry=\"39.806\"/>\n",
       "<text text-anchor=\"middle\" x=\"650.533\" y=\"-72.2469\" font-family=\"Times,serif\" font-size=\"14.00\">Real_F</text>\n",
       "</g>\n",
       "<!-- F1&#45;&gt;Real_F -->\n",
       "<g id=\"edge20\" class=\"edge\"><title>F1&#45;&gt;Real_F</title>\n",
       "<path fill=\"none\" stroke=\"black\" d=\"M569.849,-76.4469C578.692,-76.4469 589.743,-76.4469 600.772,-76.4469\"/>\n",
       "<polygon fill=\"black\" stroke=\"black\" points=\"600.832,-79.947 610.832,-76.4469 600.832,-72.947 600.832,-79.947\"/>\n",
       "<text text-anchor=\"middle\" x=\"590.358\" y=\"-79.2469\" font-family=\"Times,serif\" font-size=\"14.00\">&#39;&#39;</text>\n",
       "</g>\n",
       "<!-- C0 -->\n",
       "<g id=\"node6\" class=\"node\"><title>C0</title>\n",
       "<ellipse fill=\"none\" stroke=\"black\" cx=\"467.515\" cy=\"-33.4469\" rx=\"20.3544\" ry=\"20.3544\"/>\n",
       "<text text-anchor=\"middle\" x=\"467.515\" y=\"-29.2469\" font-family=\"Times,serif\" font-size=\"14.00\">C0</text>\n",
       "</g>\n",
       "<!-- C0&#45;&gt;F1 -->\n",
       "<g id=\"edge9\" class=\"edge\"><title>C0&#45;&gt;F1</title>\n",
       "<path fill=\"none\" stroke=\"black\" d=\"M486.063,-42.7772C497.169,-48.6822 511.71,-56.4133 524.056,-62.9779\"/>\n",
       "<polygon fill=\"black\" stroke=\"black\" points=\"522.504,-66.1166 532.977,-67.7209 525.791,-59.9359 522.504,-66.1166\"/>\n",
       "<text text-anchor=\"middle\" x=\"509.442\" y=\"-59.2469\" font-family=\"Times,serif\" font-size=\"14.00\">0</text>\n",
       "</g>\n",
       "<!-- F0 -->\n",
       "<g id=\"node7\" class=\"node\"><title>F0</title>\n",
       "<ellipse fill=\"none\" stroke=\"black\" cx=\"550.389\" cy=\"-19.4469\" rx=\"19.3939\" ry=\"19.3939\"/>\n",
       "<text text-anchor=\"middle\" x=\"550.389\" y=\"-15.2469\" font-family=\"Times,serif\" font-size=\"14.00\">F0</text>\n",
       "</g>\n",
       "<!-- C0&#45;&gt;F0 -->\n",
       "<g id=\"edge8\" class=\"edge\"><title>C0&#45;&gt;F0</title>\n",
       "<path fill=\"none\" stroke=\"black\" d=\"M486.865,-25.7983C492.843,-23.6539 499.579,-21.5959 505.942,-20.4469 510.578,-19.6097 515.537,-19.1214 520.385,-18.8616\"/>\n",
       "<polygon fill=\"black\" stroke=\"black\" points=\"520.744,-22.354 530.656,-18.6112 520.573,-15.3561 520.744,-22.354\"/>\n",
       "<text text-anchor=\"middle\" x=\"509.442\" y=\"-23.2469\" font-family=\"Times,serif\" font-size=\"14.00\">1</text>\n",
       "</g>\n",
       "<!-- F0&#45;&gt;Real_F -->\n",
       "<g id=\"edge21\" class=\"edge\"><title>F0&#45;&gt;Real_F</title>\n",
       "<path fill=\"none\" stroke=\"black\" d=\"M567.595,-28.8593C578.314,-35.0845 592.905,-43.5584 606.805,-51.6312\"/>\n",
       "<polygon fill=\"black\" stroke=\"black\" points=\"605.387,-54.855 615.792,-56.8506 608.902,-48.8018 605.387,-54.855\"/>\n",
       "<text text-anchor=\"middle\" x=\"590.358\" y=\"-46.2469\" font-family=\"Times,serif\" font-size=\"14.00\">&#39;&#39;</text>\n",
       "</g>\n",
       "<!-- C1 -->\n",
       "<g id=\"node8\" class=\"node\"><title>C1</title>\n",
       "<ellipse fill=\"none\" stroke=\"black\" cx=\"467.515\" cy=\"-100.447\" rx=\"20.3544\" ry=\"20.3544\"/>\n",
       "<text text-anchor=\"middle\" x=\"467.515\" y=\"-96.2469\" font-family=\"Times,serif\" font-size=\"14.00\">C1</text>\n",
       "</g>\n",
       "<!-- C1&#45;&gt;F1 -->\n",
       "<g id=\"edge14\" class=\"edge\"><title>C1&#45;&gt;F1</title>\n",
       "<path fill=\"none\" stroke=\"black\" d=\"M487.272,-94.8805C497.49,-91.8483 510.329,-88.0381 521.679,-84.67\"/>\n",
       "<polygon fill=\"black\" stroke=\"black\" points=\"522.975,-87.9364 531.566,-81.736 520.983,-81.2257 522.975,-87.9364\"/>\n",
       "<text text-anchor=\"middle\" x=\"509.442\" y=\"-92.2469\" font-family=\"Times,serif\" font-size=\"14.00\">1</text>\n",
       "</g>\n",
       "<!-- F2 -->\n",
       "<g id=\"node9\" class=\"node\"><title>F2</title>\n",
       "<ellipse fill=\"none\" stroke=\"black\" cx=\"550.389\" cy=\"-133.447\" rx=\"19.3939\" ry=\"19.3939\"/>\n",
       "<text text-anchor=\"middle\" x=\"550.389\" y=\"-129.247\" font-family=\"Times,serif\" font-size=\"14.00\">F2</text>\n",
       "</g>\n",
       "<!-- C1&#45;&gt;F2 -->\n",
       "<g id=\"edge15\" class=\"edge\"><title>C1&#45;&gt;F2</title>\n",
       "<path fill=\"none\" stroke=\"black\" d=\"M486.866,-107.935C497.498,-112.273 511.068,-117.81 522.846,-122.616\"/>\n",
       "<polygon fill=\"black\" stroke=\"black\" points=\"521.635,-125.902 532.216,-126.44 524.279,-119.421 521.635,-125.902\"/>\n",
       "<text text-anchor=\"middle\" x=\"509.442\" y=\"-121.247\" font-family=\"Times,serif\" font-size=\"14.00\">0</text>\n",
       "</g>\n",
       "<!-- F2&#45;&gt;Real_F -->\n",
       "<g id=\"edge19\" class=\"edge\"><title>F2&#45;&gt;Real_F</title>\n",
       "<path fill=\"none\" stroke=\"black\" d=\"M567.595,-124.034C578.314,-117.809 592.905,-109.335 606.805,-101.262\"/>\n",
       "<polygon fill=\"black\" stroke=\"black\" points=\"608.902,-104.092 615.792,-96.0431 605.387,-98.0387 608.902,-104.092\"/>\n",
       "<text text-anchor=\"middle\" x=\"590.358\" y=\"-115.247\" font-family=\"Times,serif\" font-size=\"14.00\">&#39;&#39;</text>\n",
       "</g>\n",
       "<!-- Real_I&#45;&gt;I -->\n",
       "<g id=\"edge18\" class=\"edge\"><title>Real_I&#45;&gt;I</title>\n",
       "<path fill=\"none\" stroke=\"black\" d=\"M158.433,-122.447C168.463,-122.447 179.387,-122.447 189.021,-122.447\"/>\n",
       "<polygon fill=\"black\" stroke=\"black\" points=\"189.232,-125.947 199.232,-122.447 189.232,-118.947 189.232,-125.947\"/>\n",
       "<text text-anchor=\"middle\" x=\"178.881\" y=\"-125.247\" font-family=\"Times,serif\" font-size=\"14.00\">&#39;&#39;</text>\n",
       "</g>\n",
       "<!-- C2 -->\n",
       "<g id=\"node11\" class=\"node\"><title>C2</title>\n",
       "<ellipse fill=\"none\" stroke=\"black\" cx=\"467.515\" cy=\"-167.447\" rx=\"20.3544\" ry=\"20.3544\"/>\n",
       "<text text-anchor=\"middle\" x=\"467.515\" y=\"-163.247\" font-family=\"Times,serif\" font-size=\"14.00\">C2</text>\n",
       "</g>\n",
       "<!-- C2&#45;&gt;F2 -->\n",
       "<g id=\"edge17\" class=\"edge\"><title>C2&#45;&gt;F2</title>\n",
       "<path fill=\"none\" stroke=\"black\" d=\"M486.866,-159.732C497.498,-155.262 511.068,-149.557 522.846,-144.605\"/>\n",
       "<polygon fill=\"black\" stroke=\"black\" points=\"524.354,-147.769 532.216,-140.666 521.641,-141.316 524.354,-147.769\"/>\n",
       "<text text-anchor=\"middle\" x=\"509.442\" y=\"-155.247\" font-family=\"Times,serif\" font-size=\"14.00\">1</text>\n",
       "</g>\n",
       "<!-- B1&#45;&gt;C1 -->\n",
       "<g id=\"edge12\" class=\"edge\"><title>B1&#45;&gt;C1</title>\n",
       "<path fill=\"none\" stroke=\"black\" d=\"M402.72,-114.944C408.797,-112.621 415.666,-110.211 422.088,-108.447 426.844,-107.14 431.947,-105.993 436.939,-105.005\"/>\n",
       "<polygon fill=\"black\" stroke=\"black\" points=\"437.667,-108.43 446.881,-103.202 436.417,-101.543 437.667,-108.43\"/>\n",
       "<text text-anchor=\"middle\" x=\"425.588\" y=\"-111.247\" font-family=\"Times,serif\" font-size=\"14.00\">0</text>\n",
       "</g>\n",
       "<!-- B1&#45;&gt;C2 -->\n",
       "<g id=\"edge13\" class=\"edge\"><title>B1&#45;&gt;C2</title>\n",
       "<path fill=\"none\" stroke=\"black\" d=\"M402.02,-131.99C413.089,-138.076 427.648,-146.079 440.131,-152.942\"/>\n",
       "<polygon fill=\"black\" stroke=\"black\" points=\"438.731,-156.167 449.181,-157.917 442.104,-150.033 438.731,-156.167\"/>\n",
       "<text text-anchor=\"middle\" x=\"425.588\" y=\"-149.247\" font-family=\"Times,serif\" font-size=\"14.00\">1</text>\n",
       "</g>\n",
       "<!-- B2&#45;&gt;C2 -->\n",
       "<g id=\"edge16\" class=\"edge\"><title>B2&#45;&gt;C2</title>\n",
       "<path fill=\"none\" stroke=\"black\" d=\"M404.059,-178.129C413.947,-176.438 426.179,-174.346 437.19,-172.463\"/>\n",
       "<polygon fill=\"black\" stroke=\"black\" points=\"437.989,-175.877 447.256,-170.741 436.809,-168.977 437.989,-175.877\"/>\n",
       "<text text-anchor=\"middle\" x=\"425.588\" y=\"-178.247\" font-family=\"Times,serif\" font-size=\"14.00\">0</text>\n",
       "</g>\n",
       "<!-- B0&#45;&gt;C0 -->\n",
       "<g id=\"edge6\" class=\"edge\"><title>B0&#45;&gt;C0</title>\n",
       "<path fill=\"none\" stroke=\"black\" d=\"M398.629,-49.1637C405.163,-43.46 413.411,-37.5245 422.088,-34.4469 426.75,-32.793 431.865,-31.905 436.912,-31.5028\"/>\n",
       "<polygon fill=\"black\" stroke=\"black\" points=\"437.095,-34.9997 447.011,-31.2702 436.933,-28.0015 437.095,-34.9997\"/>\n",
       "<text text-anchor=\"middle\" x=\"425.588\" y=\"-37.2469\" font-family=\"Times,serif\" font-size=\"14.00\">0</text>\n",
       "</g>\n",
       "<!-- B0&#45;&gt;C1 -->\n",
       "<g id=\"edge7\" class=\"edge\"><title>B0&#45;&gt;C1</title>\n",
       "<path fill=\"none\" stroke=\"black\" d=\"M402.827,-71.6584C413.604,-76.5301 427.47,-82.7976 439.51,-88.2401\"/>\n",
       "<polygon fill=\"black\" stroke=\"black\" points=\"438.127,-91.4559 448.681,-92.3856 441.01,-85.0773 438.127,-91.4559\"/>\n",
       "<text text-anchor=\"middle\" x=\"425.588\" y=\"-86.2469\" font-family=\"Times,serif\" font-size=\"14.00\">1</text>\n",
       "</g>\n",
       "</g>\n",
       "</svg>\n"
      ],
      "text/plain": [
       "<graphviz.dot.Digraph at 0x108b94438>"
      ]
     },
     "execution_count": 56,
     "metadata": {},
     "output_type": "execute_result"
    }
   ],
   "source": [
    "dotObj_List[0]"
   ]
  },
  {
   "cell_type": "code",
   "execution_count": null,
   "metadata": {
    "run_control": {
     "frozen": false,
     "read_only": false
    }
   },
   "outputs": [],
   "source": [
    "dotObj_List[1]"
   ]
  },
  {
   "cell_type": "code",
   "execution_count": null,
   "metadata": {
    "run_control": {
     "frozen": false,
     "read_only": false
    }
   },
   "outputs": [],
   "source": [
    "dotObj_List[2]"
   ]
  },
  {
   "cell_type": "code",
   "execution_count": null,
   "metadata": {
    "run_control": {
     "frozen": false,
     "read_only": false
    }
   },
   "outputs": [],
   "source": [
    "dotObj_List[3]"
   ]
  },
  {
   "cell_type": "code",
   "execution_count": null,
   "metadata": {
    "run_control": {
     "frozen": false,
     "read_only": false
    }
   },
   "outputs": [],
   "source": [
    "dotObj_List[4]"
   ]
  },
  {
   "cell_type": "code",
   "execution_count": null,
   "metadata": {
    "run_control": {
     "frozen": false,
     "read_only": false
    }
   },
   "outputs": [],
   "source": [
    "len(dotObj_List)"
   ]
  },
  {
   "cell_type": "code",
   "execution_count": null,
   "metadata": {
    "run_control": {
     "frozen": false,
     "read_only": false
    }
   },
   "outputs": [],
   "source": [
    "dotObj_List[11]"
   ]
  },
  {
   "cell_type": "code",
   "execution_count": null,
   "metadata": {
    "run_control": {
     "frozen": false,
     "read_only": false
    }
   },
   "outputs": [],
   "source": [
    "final_re_str"
   ]
  },
  {
   "cell_type": "code",
   "execution_count": null,
   "metadata": {
    "run_control": {
     "frozen": false,
     "read_only": false
    }
   },
   "outputs": [],
   "source": [
    "fullcircle=min_dfa(nfa2dfa(re2nfa(final_re_str)))"
   ]
  },
  {
   "cell_type": "code",
   "execution_count": null,
   "metadata": {
    "run_control": {
     "frozen": false,
     "read_only": false
    }
   },
   "outputs": [],
   "source": [
    "dotObj_dfa(fullcircle)"
   ]
  },
  {
   "cell_type": "code",
   "execution_count": null,
   "metadata": {
    "run_control": {
     "frozen": false,
     "read_only": false
    }
   },
   "outputs": [],
   "source": [
    "h2_from_re = min_dfa(nfa2dfa(re2nfa(\"(0+1)(0+1)01 + (0+1)1(0+1)1 + (0+1)10(0+1) + 0(0+1)(0+1)1 + 0(0+1)0(0+1) + 01(0+1)(0+1)\")))"
   ]
  },
  {
   "cell_type": "code",
   "execution_count": null,
   "metadata": {
    "run_control": {
     "frozen": false,
     "read_only": false
    }
   },
   "outputs": [],
   "source": [
    "dotObj_dfa(h2_from_re)"
   ]
  },
  {
   "cell_type": "code",
   "execution_count": null,
   "metadata": {
    "run_control": {
     "frozen": false,
     "read_only": false
    }
   },
   "outputs": [],
   "source": [
    "iso_dfa(fullcircle,h2_from_re)"
   ]
  },
  {
   "cell_type": "code",
   "execution_count": null,
   "metadata": {
    "run_control": {
     "frozen": false,
     "read_only": false
    }
   },
   "outputs": [],
   "source": [
    "epsre = dotObj_nfa(re2nfa(\"''\"), True)\n",
    "epsre.source"
   ]
  },
  {
   "cell_type": "code",
   "execution_count": null,
   "metadata": {
    "run_control": {
     "frozen": false,
     "read_only": false
    }
   },
   "outputs": [],
   "source": [
    "epsre"
   ]
  },
  {
   "cell_type": "code",
   "execution_count": null,
   "metadata": {
    "run_control": {
     "frozen": false,
     "read_only": false
    },
    "scrolled": true
   },
   "outputs": [],
   "source": [
    "are = dotObj_nfa(re2nfa(\"a\"), True)\n",
    "are.source"
   ]
  },
  {
   "cell_type": "code",
   "execution_count": null,
   "metadata": {
    "run_control": {
     "frozen": false,
     "read_only": false
    }
   },
   "outputs": [],
   "source": [
    "are"
   ]
  },
  {
   "cell_type": "code",
   "execution_count": null,
   "metadata": {
    "run_control": {
     "frozen": false,
     "read_only": false
    }
   },
   "outputs": [],
   "source": [
    "aplusbre = dotObj_nfa(re2nfa(\"a+b\"), True)\n",
    "aplusbre.source"
   ]
  },
  {
   "cell_type": "code",
   "execution_count": null,
   "metadata": {
    "run_control": {
     "frozen": false,
     "read_only": false
    }
   },
   "outputs": [],
   "source": [
    "aplusbre"
   ]
  },
  {
   "cell_type": "code",
   "execution_count": null,
   "metadata": {
    "run_control": {
     "frozen": false,
     "read_only": false
    }
   },
   "outputs": [],
   "source": [
    "abre = dotObj_nfa(re2nfa(\"ab\"), True)\n",
    "abre.source"
   ]
  },
  {
   "cell_type": "code",
   "execution_count": null,
   "metadata": {
    "run_control": {
     "frozen": false,
     "read_only": false
    }
   },
   "outputs": [],
   "source": [
    "abre"
   ]
  },
  {
   "cell_type": "code",
   "execution_count": null,
   "metadata": {
    "run_control": {
     "frozen": false,
     "read_only": false
    }
   },
   "outputs": [],
   "source": [
    "arestar = dotObj_nfa(re2nfa(\"a*\"), True)\n",
    "arestar.source"
   ]
  },
  {
   "cell_type": "code",
   "execution_count": null,
   "metadata": {
    "run_control": {
     "frozen": false,
     "read_only": false
    }
   },
   "outputs": [],
   "source": [
    "arestar"
   ]
  },
  {
   "cell_type": "code",
   "execution_count": null,
   "metadata": {
    "run_control": {
     "frozen": false,
     "read_only": false
    }
   },
   "outputs": [],
   "source": [
    "aplusbstar = dotObj_nfa(re2nfa(\"(a+b)*\"), True)\n",
    "aplusbstar.source"
   ]
  },
  {
   "cell_type": "code",
   "execution_count": null,
   "metadata": {
    "run_control": {
     "frozen": false,
     "read_only": false
    }
   },
   "outputs": [],
   "source": [
    "aplusbstar"
   ]
  },
  {
   "cell_type": "code",
   "execution_count": null,
   "metadata": {
    "run_control": {
     "frozen": false,
     "read_only": false
    }
   },
   "outputs": [],
   "source": [
    "aplusb_aplusbstar = dotObj_nfa(re2nfa(\"(a+b)(a+b)*\"), True)\n",
    "aplusb_aplusbstar.source"
   ]
  },
  {
   "cell_type": "code",
   "execution_count": null,
   "metadata": {
    "run_control": {
     "frozen": false,
     "read_only": false
    }
   },
   "outputs": [],
   "source": [
    "aplusb_aplusbstar"
   ]
  },
  {
   "cell_type": "code",
   "execution_count": null,
   "metadata": {
    "run_control": {
     "frozen": false,
     "read_only": false
    }
   },
   "outputs": [],
   "source": [
    "aplusb_aplusb = dotObj_nfa(re2nfa(\"(a+b)(a+b)\"), True)"
   ]
  },
  {
   "cell_type": "code",
   "execution_count": null,
   "metadata": {
    "run_control": {
     "frozen": false,
     "read_only": false
    }
   },
   "outputs": [],
   "source": [
    "aplusb_aplusb"
   ]
  },
  {
   "cell_type": "code",
   "execution_count": null,
   "metadata": {
    "run_control": {
     "frozen": false,
     "read_only": false
    }
   },
   "outputs": [],
   "source": [
    "aplusb_aplusb.source"
   ]
  },
  {
   "cell_type": "code",
   "execution_count": null,
   "metadata": {
    "run_control": {
     "frozen": false,
     "read_only": false
    }
   },
   "outputs": [],
   "source": [
    "DOodd1s_or_30s = dotObj_nfa(re2nfa(\"0* 1 0* (1 0* 1 0*)* + 1* 0 1* 0 1* 0 1* \"), True)"
   ]
  },
  {
   "cell_type": "code",
   "execution_count": null,
   "metadata": {
    "run_control": {
     "frozen": false,
     "read_only": false
    }
   },
   "outputs": [],
   "source": [
    "DOodd1s_or_30s"
   ]
  },
  {
   "cell_type": "code",
   "execution_count": null,
   "metadata": {
    "run_control": {
     "frozen": false,
     "read_only": false
    }
   },
   "outputs": [],
   "source": [
    "DOodd1s_or_30s = dotObj_nfa(re2nfa(\"0* 1 0* (1 0* 1 0*)* + 1* 0 1* 0 1* 0 1* \"), False)"
   ]
  },
  {
   "cell_type": "code",
   "execution_count": null,
   "metadata": {
    "run_control": {
     "frozen": false,
     "read_only": false
    }
   },
   "outputs": [],
   "source": [
    "DOodd1s_or_30s"
   ]
  },
  {
   "cell_type": "code",
   "execution_count": null,
   "metadata": {
    "run_control": {
     "frozen": false,
     "read_only": false
    }
   },
   "outputs": [],
   "source": [
    "DOodd1s_or_30s.source"
   ]
  },
  {
   "cell_type": "code",
   "execution_count": null,
   "metadata": {
    "run_control": {
     "frozen": false,
     "read_only": false
    }
   },
   "outputs": [],
   "source": []
  },
  {
   "cell_type": "code",
   "execution_count": null,
   "metadata": {
    "run_control": {
     "frozen": false,
     "read_only": false
    }
   },
   "outputs": [],
   "source": [
    "DOodd1s_or_30s_mind = dotObj_dfa(min_dfa(nfa2dfa(re2nfa(\"0* 1 0* (1 0* 1 0*)* + 1* 0 1* 0 1* 0 1* \"))))\n",
    "DOodd1s_or_30s_mind"
   ]
  },
  {
   "cell_type": "code",
   "execution_count": null,
   "metadata": {
    "run_control": {
     "frozen": false,
     "read_only": false
    }
   },
   "outputs": [],
   "source": [
    "DOodd1s_or_30s_mind.source"
   ]
  },
  {
   "cell_type": "markdown",
   "metadata": {
    "collapsed": true,
    "run_control": {
     "frozen": false,
     "read_only": false
    }
   },
   "source": [
    "# Designing DFA that accept within a Hamming Distance"
   ]
  },
  {
   "cell_type": "markdown",
   "metadata": {
    "run_control": {
     "frozen": false,
     "read_only": false
    }
   },
   "source": [
    "Given a regular language, say (0+1)* 0101 (0+1)* (i.e., all bit-strings with an occurrence of 0101 in it), let us come up with \n",
    "\n",
    "1. An RE that represents strings within a Hamming distance of 2 from strings in this language\n",
    "\n",
    "2. An NFA that represents strings within a Hamming distance of 2 from strings in this language\n"
   ]
  },
  {
   "cell_type": "code",
   "execution_count": null,
   "metadata": {
    "run_control": {
     "frozen": false,
     "read_only": false
    }
   },
   "outputs": [],
   "source": [
    "h2_0101_re = (\"(0+1)* ( (0+1)(0+1)01 +\" + \n",
    "                      \" (0+1)1(0+1)1 +\" + \n",
    "                      \" (0+1)10(0+1) +\" + \n",
    "                      \" 0(0+1)(0+1)1 +\" +\n",
    "                      \" 0(0+1)0(0+1) +\" +\n",
    "                      \" 01(0+1)(0+1) )\" +\n",
    "              \"(0+1)*\")"
   ]
  },
  {
   "cell_type": "code",
   "execution_count": null,
   "metadata": {
    "run_control": {
     "frozen": false,
     "read_only": false
    }
   },
   "outputs": [],
   "source": [
    "h2_0101_re"
   ]
  },
  {
   "cell_type": "code",
   "execution_count": null,
   "metadata": {
    "run_control": {
     "frozen": false,
     "read_only": false
    }
   },
   "outputs": [],
   "source": [
    "minD_h2_0101_re = min_dfa(nfa2dfa(re2nfa(h2_0101_re)))"
   ]
  },
  {
   "cell_type": "code",
   "execution_count": null,
   "metadata": {
    "run_control": {
     "frozen": false,
     "read_only": false
    }
   },
   "outputs": [],
   "source": [
    "DO_minD_h2_0101_re = dotObj_dfa(minD_h2_0101_re)"
   ]
  },
  {
   "cell_type": "code",
   "execution_count": null,
   "metadata": {
    "run_control": {
     "frozen": false,
     "read_only": false
    }
   },
   "outputs": [],
   "source": [
    "DO_minD_h2_0101_re"
   ]
  },
  {
   "cell_type": "code",
   "execution_count": null,
   "metadata": {
    "run_control": {
     "frozen": false,
     "read_only": false
    }
   },
   "outputs": [],
   "source": [
    "DO_minD_h2_0101_re.source"
   ]
  },
  {
   "cell_type": "code",
   "execution_count": null,
   "metadata": {
    "run_control": {
     "frozen": false,
     "read_only": false
    }
   },
   "outputs": [],
   "source": [
    "h2_0101_nfa_md = '''\n",
    "NFA\n",
    "!!--------------------------------------------\n",
    "!! We are supposed to process (0+1)*0101(0+1)*\n",
    "!! with up to two \"dings\" allowed\n",
    "!!\n",
    "!! Approach: Silently error-correct, but remember\n",
    "!! each \"ding\" in a new state name.\n",
    "!! After two dings, do not error-correct anymore\n",
    "!!--------------------------------------------\n",
    "\n",
    "!!-- pattern for (0+1)* is the usual\n",
    "!!-- no error-correction needed here :-)\n",
    "I : 0 | 1 -> I\n",
    "\n",
    "!!-- Now comes the opportunity to exit I via 0101\n",
    "!!-- The state names are A,B,C,D with ding-count\n",
    "!!-- Thus A0 is A with 0 dings\n",
    "!!-- C2 is C with 2 dings; etc\n",
    "\n",
    "!!-- Ding-less traversal -- how lucky!\n",
    "I  : 0 -> A0\n",
    "A0 : 1 -> B0\n",
    "B0 : 0 -> C0\n",
    "C0 : 1 -> F\n",
    "!!-- Phew, finally at F\n",
    "F  : 0 | 1 -> F\n",
    "\n",
    "!!-- First ding in any of these cases\n",
    "I  : 1 -> A1\n",
    "A0 : 0 -> B1\n",
    "B0 : 1 -> C1\n",
    "C0 : 0 -> F  !!-- ding-recording un-nec.; just goto F\n",
    "\n",
    "!!-- Second ding in any of these cases\n",
    "A1 : 0 -> B2\n",
    "B1 : 1 -> C2\n",
    "C1 : 0 -> F  !!-- ding-recording un-nec.; just goto F\n",
    "\n",
    "!!-- No more dings allowed!\n",
    "B2 : 0 -> C2\n",
    "C2 : 1 -> F\n",
    "\n",
    "!!-- Allow one-dingers to finish fine\n",
    "A1 : 1 -> B1\n",
    "B1 : 0 -> C1\n",
    "C1 : 1 -> F\n",
    "\n",
    "'''"
   ]
  },
  {
   "cell_type": "code",
   "execution_count": null,
   "metadata": {
    "run_control": {
     "frozen": false,
     "read_only": false
    }
   },
   "outputs": [],
   "source": [
    "h2_0101_nfa = md2mc(h2_0101_nfa_md)"
   ]
  },
  {
   "cell_type": "code",
   "execution_count": null,
   "metadata": {
    "run_control": {
     "frozen": false,
     "read_only": false
    }
   },
   "outputs": [],
   "source": [
    "DO_h2_0101_nfa = dotObj_nfa(h2_0101_nfa)\n",
    "DO_h2_0101_nfa"
   ]
  },
  {
   "cell_type": "code",
   "execution_count": null,
   "metadata": {
    "run_control": {
     "frozen": false,
     "read_only": false
    }
   },
   "outputs": [],
   "source": [
    "DO_h2_0101_nfa.source"
   ]
  },
  {
   "cell_type": "code",
   "execution_count": null,
   "metadata": {
    "run_control": {
     "frozen": false,
     "read_only": false
    }
   },
   "outputs": [],
   "source": [
    "minD_h2_0101_nfa = min_dfa(nfa2dfa(h2_0101_nfa))\n",
    "DO_minD_h2_0101_nfa = dotObj_dfa(minD_h2_0101_nfa)\n",
    "DO_minD_h2_0101_nfa"
   ]
  },
  {
   "cell_type": "code",
   "execution_count": null,
   "metadata": {
    "run_control": {
     "frozen": false,
     "read_only": false
    }
   },
   "outputs": [],
   "source": [
    "DO_minD_h2_0101_nfa.source"
   ]
  },
  {
   "cell_type": "code",
   "execution_count": null,
   "metadata": {
    "run_control": {
     "frozen": false,
     "read_only": false
    }
   },
   "outputs": [],
   "source": [
    "iso_dfa(minD_h2_0101_re, minD_h2_0101_nfa)"
   ]
  },
  {
   "cell_type": "code",
   "execution_count": null,
   "metadata": {
    "run_control": {
     "frozen": false,
     "read_only": false
    }
   },
   "outputs": [],
   "source": [
    "nfaEx = md2mc('''NFA\n",
    "I : '' -> B\n",
    "I : a  -> A\n",
    "!!A : b  -> I\n",
    "A : q  -> F\n",
    "A : r  -> B\n",
    "B : s  -> B\n",
    "B : p  -> F\n",
    "F : t  -> A\n",
    "''')\n",
    "DO_nfaEx = dotObj_nfa(nfaEx)\n",
    "DO_nfaEx"
   ]
  },
  {
   "cell_type": "code",
   "execution_count": null,
   "metadata": {
    "run_control": {
     "frozen": false,
     "read_only": false
    }
   },
   "outputs": [],
   "source": [
    "DO_nfaEx.source"
   ]
  },
  {
   "cell_type": "code",
   "execution_count": null,
   "metadata": {
    "run_control": {
     "frozen": false,
     "read_only": false
    }
   },
   "outputs": [],
   "source": [
    "GNFA_nfaEx = mk_gnfa(nfaEx)"
   ]
  },
  {
   "cell_type": "code",
   "execution_count": null,
   "metadata": {
    "run_control": {
     "frozen": false,
     "read_only": false
    }
   },
   "outputs": [],
   "source": [
    "dotObj_gnfa(GNFA_nfaEx).source"
   ]
  },
  {
   "cell_type": "code",
   "execution_count": null,
   "metadata": {
    "run_control": {
     "frozen": false,
     "read_only": false
    }
   },
   "outputs": [],
   "source": [
    "help(del_gnfa_states)"
   ]
  },
  {
   "cell_type": "code",
   "execution_count": null,
   "metadata": {
    "run_control": {
     "frozen": false,
     "read_only": false
    }
   },
   "outputs": [],
   "source": [
    "(Gfinal, do_list, final_re) = del_gnfa_states(GNFA_nfaEx)"
   ]
  },
  {
   "cell_type": "code",
   "execution_count": null,
   "metadata": {
    "run_control": {
     "frozen": false,
     "read_only": false
    }
   },
   "outputs": [],
   "source": [
    "final_re"
   ]
  },
  {
   "cell_type": "code",
   "execution_count": null,
   "metadata": {
    "run_control": {
     "frozen": false,
     "read_only": false
    }
   },
   "outputs": [],
   "source": [
    "final_re"
   ]
  },
  {
   "cell_type": "code",
   "execution_count": null,
   "metadata": {
    "run_control": {
     "frozen": false,
     "read_only": false
    }
   },
   "outputs": [],
   "source": []
  },
  {
   "cell_type": "code",
   "execution_count": null,
   "metadata": {
    "run_control": {
     "frozen": false,
     "read_only": false
    }
   },
   "outputs": [],
   "source": [
    "do_list[0]"
   ]
  },
  {
   "cell_type": "code",
   "execution_count": null,
   "metadata": {
    "run_control": {
     "frozen": false,
     "read_only": false
    }
   },
   "outputs": [],
   "source": [
    "do_list[0].source"
   ]
  },
  {
   "cell_type": "code",
   "execution_count": null,
   "metadata": {
    "run_control": {
     "frozen": false,
     "read_only": false
    }
   },
   "outputs": [],
   "source": [
    "do_list[1]"
   ]
  },
  {
   "cell_type": "code",
   "execution_count": null,
   "metadata": {
    "run_control": {
     "frozen": false,
     "read_only": false
    }
   },
   "outputs": [],
   "source": [
    "do_list[1].source"
   ]
  },
  {
   "cell_type": "code",
   "execution_count": null,
   "metadata": {
    "run_control": {
     "frozen": false,
     "read_only": false
    }
   },
   "outputs": [],
   "source": [
    "do_list[1]"
   ]
  },
  {
   "cell_type": "code",
   "execution_count": null,
   "metadata": {
    "run_control": {
     "frozen": false,
     "read_only": false
    }
   },
   "outputs": [],
   "source": []
  },
  {
   "cell_type": "code",
   "execution_count": null,
   "metadata": {
    "run_control": {
     "frozen": false,
     "read_only": false
    }
   },
   "outputs": [],
   "source": [
    "do_list[2]"
   ]
  },
  {
   "cell_type": "code",
   "execution_count": null,
   "metadata": {
    "run_control": {
     "frozen": false,
     "read_only": false
    }
   },
   "outputs": [],
   "source": [
    "do_list[2].source"
   ]
  },
  {
   "cell_type": "code",
   "execution_count": null,
   "metadata": {
    "run_control": {
     "frozen": false,
     "read_only": false
    }
   },
   "outputs": [],
   "source": [
    "do_list[3]"
   ]
  },
  {
   "cell_type": "code",
   "execution_count": null,
   "metadata": {
    "run_control": {
     "frozen": false,
     "read_only": false
    }
   },
   "outputs": [],
   "source": [
    "do_list[3].source"
   ]
  },
  {
   "cell_type": "code",
   "execution_count": null,
   "metadata": {
    "run_control": {
     "frozen": false,
     "read_only": false
    }
   },
   "outputs": [],
   "source": [
    "do_list[4]"
   ]
  },
  {
   "cell_type": "code",
   "execution_count": null,
   "metadata": {
    "run_control": {
     "frozen": false,
     "read_only": false
    }
   },
   "outputs": [],
   "source": [
    "do_list[4].source"
   ]
  },
  {
   "cell_type": "code",
   "execution_count": null,
   "metadata": {
    "run_control": {
     "frozen": false,
     "read_only": false
    }
   },
   "outputs": [],
   "source": [
    "re_mindfa = min_dfa(nfa2dfa(re2nfa(final_re)))"
   ]
  },
  {
   "cell_type": "code",
   "execution_count": null,
   "metadata": {
    "run_control": {
     "frozen": false,
     "read_only": false
    }
   },
   "outputs": [],
   "source": [
    "dir_mindfa = min_dfa(nfa2dfa(nfaEx))"
   ]
  },
  {
   "cell_type": "code",
   "execution_count": null,
   "metadata": {
    "run_control": {
     "frozen": false,
     "read_only": false
    }
   },
   "outputs": [],
   "source": [
    "iso_dfa(re_mindfa,dir_mindfa)"
   ]
  },
  {
   "cell_type": "code",
   "execution_count": null,
   "metadata": {
    "run_control": {
     "frozen": false,
     "read_only": false
    }
   },
   "outputs": [],
   "source": [
    "dotObj_dfa(dir_mindfa)"
   ]
  },
  {
   "cell_type": "code",
   "execution_count": null,
   "metadata": {
    "run_control": {
     "frozen": false,
     "read_only": false
    }
   },
   "outputs": [],
   "source": [
    "dotObj_dfa(dir_mindfa).source"
   ]
  },
  {
   "cell_type": "code",
   "execution_count": null,
   "metadata": {
    "run_control": {
     "frozen": false,
     "read_only": false
    }
   },
   "outputs": [],
   "source": [
    "dotObj_dfa(re_mindfa)"
   ]
  },
  {
   "cell_type": "code",
   "execution_count": null,
   "metadata": {
    "run_control": {
     "frozen": false,
     "read_only": false
    }
   },
   "outputs": [],
   "source": [
    "dotObj_dfa(re_mindfa).source"
   ]
  },
  {
   "cell_type": "code",
   "execution_count": null,
   "metadata": {
    "run_control": {
     "frozen": false,
     "read_only": false
    }
   },
   "outputs": [],
   "source": [
    "dot_san_str('\"\"')"
   ]
  },
  {
   "cell_type": "code",
   "execution_count": null,
   "metadata": {
    "run_control": {
     "frozen": false,
     "read_only": false
    }
   },
   "outputs": [],
   "source": [
    "nfaExp = md2mc('''NFA\n",
    "I : a -> A1\n",
    "I : n -> B1\n",
    "A1 : b -> AB1\n",
    "B1 : o -> AB1\n",
    "AB1 : c -> A2\n",
    "AB1 : p -> B2\n",
    "A2 : d -> AB2\n",
    "B2 : q -> AB2\n",
    "AB2 : e -> A3\n",
    "AB2 : r -> B3\n",
    "A3 : f -> AB3\n",
    "B3 : s -> AB3\n",
    "AB3 : g -> A4\n",
    "AB3 : t -> B4\n",
    "A4 : h -> FAB4\n",
    "B4 : u -> FAB4\n",
    "''')\n",
    "DO_nfaExp = dotObj_nfa(nfaExp)\n",
    "DO_nfaExp"
   ]
  },
  {
   "cell_type": "code",
   "execution_count": null,
   "metadata": {
    "run_control": {
     "frozen": false,
     "read_only": false
    }
   },
   "outputs": [],
   "source": [
    "gnfaExp = mk_gnfa(nfaExp)\n",
    "DO_gnfaExp = dotObj_gnfa(gnfaExp)\n",
    "DO_gnfaExp"
   ]
  },
  {
   "cell_type": "code",
   "execution_count": null,
   "metadata": {
    "run_control": {
     "frozen": false,
     "read_only": false
    }
   },
   "outputs": [],
   "source": [
    "(Gfinal, dotObj_List, final_re_str) = del_gnfa_states(gnfaExp)"
   ]
  },
  {
   "cell_type": "code",
   "execution_count": null,
   "metadata": {
    "run_control": {
     "frozen": false,
     "read_only": false
    }
   },
   "outputs": [],
   "source": [
    "final_re_str"
   ]
  },
  {
   "cell_type": "code",
   "execution_count": null,
   "metadata": {
    "run_control": {
     "frozen": false,
     "read_only": false
    }
   },
   "outputs": [],
   "source": [
    "dotObj_gnfa(Gfinal)"
   ]
  },
  {
   "cell_type": "code",
   "execution_count": null,
   "metadata": {
    "run_control": {
     "frozen": false,
     "read_only": false
    }
   },
   "outputs": [],
   "source": [
    "nfaExer = md2mc('''NFA\n",
    "I1 : a -> X\n",
    "I2 : b -> X\n",
    "I3 : c -> X\n",
    "X  : p | q -> X\n",
    "X  : m -> F1\n",
    "X  : n -> F2\n",
    "''')\n",
    "DO_nfaExer = dotObj_nfa(nfaExer)\n",
    "DO_nfaExer\n",
    "gnfaExer = mk_gnfa(nfaExer)\n",
    "DO_gnfaExer = dotObj_gnfa(gnfaExer)\n",
    "DO_gnfaExer\n",
    "(G, DO, RE) = del_gnfa_states(gnfaExer)"
   ]
  },
  {
   "cell_type": "code",
   "execution_count": null,
   "metadata": {
    "run_control": {
     "frozen": false,
     "read_only": false
    }
   },
   "outputs": [],
   "source": [
    "RE"
   ]
  },
  {
   "cell_type": "code",
   "execution_count": null,
   "metadata": {
    "run_control": {
     "frozen": false,
     "read_only": false
    }
   },
   "outputs": [],
   "source": [
    "DO_nfaExer"
   ]
  },
  {
   "cell_type": "code",
   "execution_count": null,
   "metadata": {
    "run_control": {
     "frozen": false,
     "read_only": false
    }
   },
   "outputs": [],
   "source": [
    "DO_nfaExer.source"
   ]
  },
  {
   "cell_type": "code",
   "execution_count": null,
   "metadata": {
    "run_control": {
     "frozen": false,
     "read_only": false
    }
   },
   "outputs": [],
   "source": [
    "DO[0]"
   ]
  },
  {
   "cell_type": "code",
   "execution_count": null,
   "metadata": {
    "run_control": {
     "frozen": false,
     "read_only": false
    }
   },
   "outputs": [],
   "source": []
  },
  {
   "cell_type": "code",
   "execution_count": null,
   "metadata": {
    "run_control": {
     "frozen": false,
     "read_only": false
    }
   },
   "outputs": [],
   "source": [
    "DO[1]"
   ]
  },
  {
   "cell_type": "code",
   "execution_count": null,
   "metadata": {
    "run_control": {
     "frozen": false,
     "read_only": false
    }
   },
   "outputs": [],
   "source": [
    "DO[2]"
   ]
  },
  {
   "cell_type": "code",
   "execution_count": null,
   "metadata": {
    "run_control": {
     "frozen": false,
     "read_only": false
    }
   },
   "outputs": [],
   "source": [
    "DO[3]"
   ]
  },
  {
   "cell_type": "code",
   "execution_count": null,
   "metadata": {
    "run_control": {
     "frozen": false,
     "read_only": false
    }
   },
   "outputs": [],
   "source": [
    "DO[4]"
   ]
  },
  {
   "cell_type": "code",
   "execution_count": null,
   "metadata": {
    "run_control": {
     "frozen": false,
     "read_only": false
    }
   },
   "outputs": [],
   "source": [
    "DO[5]"
   ]
  },
  {
   "cell_type": "code",
   "execution_count": null,
   "metadata": {
    "run_control": {
     "frozen": false,
     "read_only": false
    }
   },
   "outputs": [],
   "source": [
    "DO[6]"
   ]
  },
  {
   "cell_type": "code",
   "execution_count": null,
   "metadata": {
    "run_control": {
     "frozen": false,
     "read_only": false
    }
   },
   "outputs": [],
   "source": [
    "nfaExer = md2mc('''NFA\n",
    "I1 : a -> X\n",
    "I2 : b -> X\n",
    "I3 : c -> X\n",
    "X  : p | q -> X\n",
    "X  : m -> F1\n",
    "X  : n -> F2\n",
    "''')\n",
    "DO_nfaExer = dotObj_nfa(nfaExer)\n",
    "DO_nfaExer\n",
    "gnfaExer = mk_gnfa(nfaExer)\n",
    "DO_gnfaExer = dotObj_gnfa(gnfaExer)\n",
    "DO_gnfaExer\n",
    "(G, DO, RE) = del_gnfa_states(gnfaExer, DelList=[\"X\", \"I1\", \"I2\",\"I3\",\"F1\",\"F2\"])"
   ]
  },
  {
   "cell_type": "code",
   "execution_count": null,
   "metadata": {
    "run_control": {
     "frozen": false,
     "read_only": false
    }
   },
   "outputs": [],
   "source": [
    "DO_gnfaExer"
   ]
  },
  {
   "cell_type": "code",
   "execution_count": null,
   "metadata": {
    "run_control": {
     "frozen": false,
     "read_only": false
    }
   },
   "outputs": [],
   "source": [
    "len(DO)"
   ]
  },
  {
   "cell_type": "code",
   "execution_count": null,
   "metadata": {
    "run_control": {
     "frozen": false,
     "read_only": false
    }
   },
   "outputs": [],
   "source": [
    "DO_gnfaExer.source"
   ]
  },
  {
   "cell_type": "code",
   "execution_count": null,
   "metadata": {
    "run_control": {
     "frozen": false,
     "read_only": false
    }
   },
   "outputs": [],
   "source": [
    "RE"
   ]
  },
  {
   "cell_type": "code",
   "execution_count": null,
   "metadata": {
    "run_control": {
     "frozen": false,
     "read_only": false
    }
   },
   "outputs": [],
   "source": [
    "DO[0]"
   ]
  },
  {
   "cell_type": "code",
   "execution_count": null,
   "metadata": {
    "run_control": {
     "frozen": false,
     "read_only": false
    }
   },
   "outputs": [],
   "source": [
    "DO[1]"
   ]
  },
  {
   "cell_type": "code",
   "execution_count": null,
   "metadata": {
    "run_control": {
     "frozen": false,
     "read_only": false
    }
   },
   "outputs": [],
   "source": [
    "DO[1].source"
   ]
  },
  {
   "cell_type": "code",
   "execution_count": null,
   "metadata": {
    "run_control": {
     "frozen": false,
     "read_only": false
    }
   },
   "outputs": [],
   "source": [
    "DO[2]"
   ]
  },
  {
   "cell_type": "code",
   "execution_count": null,
   "metadata": {
    "run_control": {
     "frozen": false,
     "read_only": false
    }
   },
   "outputs": [],
   "source": [
    "DO[3]"
   ]
  },
  {
   "cell_type": "code",
   "execution_count": null,
   "metadata": {
    "run_control": {
     "frozen": false,
     "read_only": false
    }
   },
   "outputs": [],
   "source": [
    "DO[4]"
   ]
  },
  {
   "cell_type": "code",
   "execution_count": null,
   "metadata": {
    "run_control": {
     "frozen": false,
     "read_only": false
    }
   },
   "outputs": [],
   "source": [
    "DO[5]"
   ]
  },
  {
   "cell_type": "code",
   "execution_count": null,
   "metadata": {
    "run_control": {
     "frozen": false,
     "read_only": false
    }
   },
   "outputs": [],
   "source": [
    "DO[6]"
   ]
  },
  {
   "cell_type": "code",
   "execution_count": null,
   "metadata": {
    "run_control": {
     "frozen": false,
     "read_only": false
    }
   },
   "outputs": [],
   "source": [
    "RE"
   ]
  },
  {
   "cell_type": "code",
   "execution_count": null,
   "metadata": {
    "run_control": {
     "frozen": false,
     "read_only": false
    }
   },
   "outputs": [],
   "source": []
  },
  {
   "cell_type": "code",
   "execution_count": null,
   "metadata": {
    "run_control": {
     "frozen": false,
     "read_only": false
    }
   },
   "outputs": [],
   "source": [
    "sylv_11_13 = min_dfa(nfa2dfa(re2nfa(\"(11111111111+1111111111111)*\")))"
   ]
  },
  {
   "cell_type": "code",
   "execution_count": null,
   "metadata": {
    "run_control": {
     "frozen": false,
     "read_only": false
    }
   },
   "outputs": [],
   "source": [
    "dotObj_dfa(sylv_11_13)"
   ]
  },
  {
   "cell_type": "code",
   "execution_count": null,
   "metadata": {
    "run_control": {
     "frozen": false,
     "read_only": false
    }
   },
   "outputs": [],
   "source": [
    "sylv_11_13"
   ]
  },
  {
   "cell_type": "code",
   "execution_count": null,
   "metadata": {
    "run_control": {
     "frozen": false,
     "read_only": false
    }
   },
   "outputs": [],
   "source": [
    "sylv_3_5 = min_dfa(nfa2dfa(re2nfa(\"(111+11111)*\")))"
   ]
  },
  {
   "cell_type": "code",
   "execution_count": null,
   "metadata": {
    "run_control": {
     "frozen": false,
     "read_only": false
    }
   },
   "outputs": [],
   "source": [
    "len(sylv_3_5[\"Q\"]) - 2"
   ]
  },
  {
   "cell_type": "code",
   "execution_count": null,
   "metadata": {
    "run_control": {
     "frozen": false,
     "read_only": false
    }
   },
   "outputs": [],
   "source": [
    "3*5-3-5"
   ]
  },
  {
   "cell_type": "code",
   "execution_count": null,
   "metadata": {
    "run_control": {
     "frozen": false,
     "read_only": false
    }
   },
   "outputs": [],
   "source": [
    "dotObj_dfa(sylv_3_5)"
   ]
  },
  {
   "cell_type": "code",
   "execution_count": null,
   "metadata": {
    "run_control": {
     "frozen": false,
     "read_only": false
    }
   },
   "outputs": [],
   "source": [
    "dotObj_nfa(re2nfa(\"(111+11111)*\"))"
   ]
  },
  {
   "cell_type": "code",
   "execution_count": null,
   "metadata": {
    "run_control": {
     "frozen": false,
     "read_only": false
    }
   },
   "outputs": [],
   "source": [
    "nfa_3_5 = re2nfa(\"(111+11111)*\")"
   ]
  },
  {
   "cell_type": "code",
   "execution_count": null,
   "metadata": {
    "run_control": {
     "frozen": false,
     "read_only": false
    },
    "scrolled": true
   },
   "outputs": [],
   "source": [
    "nfa_3_5"
   ]
  },
  {
   "cell_type": "code",
   "execution_count": null,
   "metadata": {
    "run_control": {
     "frozen": false,
     "read_only": false
    },
    "scrolled": true
   },
   "outputs": [],
   "source": [
    "dotObj_nfa(nfa_3_5)"
   ]
  },
  {
   "cell_type": "code",
   "execution_count": null,
   "metadata": {
    "run_control": {
     "frozen": false,
     "read_only": false
    }
   },
   "outputs": [],
   "source": [
    "Gnfa_3_5 = mk_gnfa(nfa_3_5)"
   ]
  },
  {
   "cell_type": "code",
   "execution_count": null,
   "metadata": {
    "run_control": {
     "frozen": false,
     "read_only": false
    }
   },
   "outputs": [],
   "source": [
    "Gnfa_3_5"
   ]
  },
  {
   "cell_type": "code",
   "execution_count": null,
   "metadata": {
    "run_control": {
     "frozen": false,
     "read_only": false
    }
   },
   "outputs": [],
   "source": [
    "dotObj_gnfa(Gnfa_3_5)"
   ]
  },
  {
   "cell_type": "code",
   "execution_count": null,
   "metadata": {
    "run_control": {
     "frozen": false,
     "read_only": false
    }
   },
   "outputs": [],
   "source": [
    "(Gfinal, dotObj_List, final_re_str) = del_gnfa_states(Gnfa_3_5)"
   ]
  },
  {
   "cell_type": "code",
   "execution_count": null,
   "metadata": {
    "run_control": {
     "frozen": false,
     "read_only": false
    }
   },
   "outputs": [],
   "source": [
    "len(dotObj_List)"
   ]
  },
  {
   "cell_type": "code",
   "execution_count": null,
   "metadata": {
    "run_control": {
     "frozen": false,
     "read_only": false
    }
   },
   "outputs": [],
   "source": [
    "dotObj_List[0]"
   ]
  },
  {
   "cell_type": "code",
   "execution_count": null,
   "metadata": {
    "run_control": {
     "frozen": false,
     "read_only": false
    }
   },
   "outputs": [],
   "source": [
    "dotObj_List[1]"
   ]
  },
  {
   "cell_type": "code",
   "execution_count": null,
   "metadata": {
    "run_control": {
     "frozen": false,
     "read_only": false
    }
   },
   "outputs": [],
   "source": [
    "dotObj_List[2]"
   ]
  },
  {
   "cell_type": "code",
   "execution_count": null,
   "metadata": {
    "run_control": {
     "frozen": false,
     "read_only": false
    }
   },
   "outputs": [],
   "source": [
    "dotObj_List[3]"
   ]
  },
  {
   "cell_type": "code",
   "execution_count": null,
   "metadata": {
    "run_control": {
     "frozen": false,
     "read_only": false
    }
   },
   "outputs": [],
   "source": [
    "dotObj_List[4]"
   ]
  },
  {
   "cell_type": "code",
   "execution_count": null,
   "metadata": {
    "run_control": {
     "frozen": false,
     "read_only": false
    }
   },
   "outputs": [],
   "source": [
    "dotObj_List[5]"
   ]
  },
  {
   "cell_type": "code",
   "execution_count": null,
   "metadata": {
    "run_control": {
     "frozen": false,
     "read_only": false
    }
   },
   "outputs": [],
   "source": [
    "dotObj_List[6]"
   ]
  },
  {
   "cell_type": "code",
   "execution_count": null,
   "metadata": {
    "run_control": {
     "frozen": false,
     "read_only": false
    }
   },
   "outputs": [],
   "source": [
    "dotObj_List[7]"
   ]
  },
  {
   "cell_type": "code",
   "execution_count": null,
   "metadata": {
    "run_control": {
     "frozen": false,
     "read_only": false
    }
   },
   "outputs": [],
   "source": [
    "dotObj_List[8]"
   ]
  },
  {
   "cell_type": "code",
   "execution_count": null,
   "metadata": {
    "run_control": {
     "frozen": false,
     "read_only": false
    }
   },
   "outputs": [],
   "source": [
    "dotObj_List[9]"
   ]
  },
  {
   "cell_type": "code",
   "execution_count": null,
   "metadata": {
    "run_control": {
     "frozen": false,
     "read_only": false
    }
   },
   "outputs": [],
   "source": [
    "dotObj_List[10]"
   ]
  },
  {
   "cell_type": "code",
   "execution_count": null,
   "metadata": {
    "run_control": {
     "frozen": false,
     "read_only": false
    }
   },
   "outputs": [],
   "source": [
    "dotObj_List[11]"
   ]
  },
  {
   "cell_type": "code",
   "execution_count": null,
   "metadata": {
    "run_control": {
     "frozen": false,
     "read_only": false
    }
   },
   "outputs": [],
   "source": [
    "dotObj_List[12]"
   ]
  },
  {
   "cell_type": "code",
   "execution_count": null,
   "metadata": {
    "run_control": {
     "frozen": false,
     "read_only": false
    }
   },
   "outputs": [],
   "source": [
    "dotObj_List[13]"
   ]
  },
  {
   "cell_type": "code",
   "execution_count": null,
   "metadata": {
    "run_control": {
     "frozen": false,
     "read_only": false
    }
   },
   "outputs": [],
   "source": [
    "dotObj_List[14]"
   ]
  },
  {
   "cell_type": "code",
   "execution_count": null,
   "metadata": {
    "run_control": {
     "frozen": false,
     "read_only": false
    }
   },
   "outputs": [],
   "source": [
    "dotObj_List[15]"
   ]
  },
  {
   "cell_type": "code",
   "execution_count": null,
   "metadata": {
    "run_control": {
     "frozen": false,
     "read_only": false
    }
   },
   "outputs": [],
   "source": [
    "dotObj_List[16]"
   ]
  },
  {
   "cell_type": "code",
   "execution_count": null,
   "metadata": {
    "run_control": {
     "frozen": false,
     "read_only": false
    }
   },
   "outputs": [],
   "source": [
    "dotObj_List[17]"
   ]
  },
  {
   "cell_type": "code",
   "execution_count": null,
   "metadata": {
    "run_control": {
     "frozen": false,
     "read_only": false
    }
   },
   "outputs": [],
   "source": [
    "len(dotObj_List)"
   ]
  },
  {
   "cell_type": "code",
   "execution_count": null,
   "metadata": {
    "run_control": {
     "frozen": false,
     "read_only": false
    }
   },
   "outputs": [],
   "source": [
    "final_re_str"
   ]
  },
  {
   "cell_type": "code",
   "execution_count": null,
   "metadata": {
    "run_control": {
     "frozen": false,
     "read_only": false
    }
   },
   "outputs": [],
   "source": [
    "dotObj_gnfa(mk_gnfa(re2nfa(\"(111+11111)*\")))"
   ]
  },
  {
   "cell_type": "code",
   "execution_count": null,
   "metadata": {
    "run_control": {
     "frozen": false,
     "read_only": false
    }
   },
   "outputs": [],
   "source": [
    "minD_renfare = min_dfa(nfa2dfa(re2nfa(final_re_str)))"
   ]
  },
  {
   "cell_type": "code",
   "execution_count": null,
   "metadata": {
    "run_control": {
     "frozen": false,
     "read_only": false
    }
   },
   "outputs": [],
   "source": [
    "DOminD_renfare = dotObj_dfa(minD_renfare)"
   ]
  },
  {
   "cell_type": "code",
   "execution_count": null,
   "metadata": {
    "run_control": {
     "frozen": false,
     "read_only": false
    }
   },
   "outputs": [],
   "source": [
    "DOminD_renfare"
   ]
  },
  {
   "cell_type": "code",
   "execution_count": null,
   "metadata": {
    "run_control": {
     "frozen": false,
     "read_only": false
    }
   },
   "outputs": [],
   "source": [
    "dotObj_dfa(min_dfa(nfa2dfa(nfa_3_5)))"
   ]
  },
  {
   "cell_type": "code",
   "execution_count": null,
   "metadata": {
    "run_control": {
     "frozen": false,
     "read_only": false
    }
   },
   "outputs": [],
   "source": [
    "dotObj_dfa(min_dfa(nfa2dfa(re2nfa(\"(111+11111)*\"))))"
   ]
  },
  {
   "cell_type": "code",
   "execution_count": null,
   "metadata": {
    "run_control": {
     "frozen": false,
     "read_only": false
    }
   },
   "outputs": [],
   "source": [
    "sylv_3_5 = min_dfa(nfa2dfa(re2nfa(\"(111+11111)*\")))"
   ]
  },
  {
   "cell_type": "code",
   "execution_count": null,
   "metadata": {
    "run_control": {
     "frozen": false,
     "read_only": false
    }
   },
   "outputs": [],
   "source": [
    "len(sylv_3_5[\"Q\"]) - 1 - 1"
   ]
  },
  {
   "cell_type": "code",
   "execution_count": null,
   "metadata": {
    "run_control": {
     "frozen": false,
     "read_only": false
    }
   },
   "outputs": [],
   "source": [
    "DO_sylv_3_5 = dotObj_dfa(sylv_3_5)"
   ]
  },
  {
   "cell_type": "code",
   "execution_count": null,
   "metadata": {
    "run_control": {
     "frozen": false,
     "read_only": false
    }
   },
   "outputs": [],
   "source": [
    "DO_sylv_3_5.source"
   ]
  },
  {
   "cell_type": "code",
   "execution_count": null,
   "metadata": {
    "run_control": {
     "frozen": false,
     "read_only": false
    }
   },
   "outputs": [],
   "source": [
    "non_sylv_3_6 = min_dfa(nfa2dfa(re2nfa(\"(111+111111)*\")))"
   ]
  },
  {
   "cell_type": "code",
   "execution_count": null,
   "metadata": {
    "run_control": {
     "frozen": false,
     "read_only": false
    }
   },
   "outputs": [],
   "source": [
    "DO_non_sylv_3_6 = dotObj_dfa(non_sylv_3_6)"
   ]
  },
  {
   "cell_type": "code",
   "execution_count": null,
   "metadata": {
    "run_control": {
     "frozen": false,
     "read_only": false
    }
   },
   "outputs": [],
   "source": [
    "DO_non_sylv_3_6"
   ]
  },
  {
   "cell_type": "code",
   "execution_count": null,
   "metadata": {
    "run_control": {
     "frozen": false,
     "read_only": false
    }
   },
   "outputs": [],
   "source": [
    "DO_non_sylv_3_6.source"
   ]
  },
  {
   "cell_type": "code",
   "execution_count": null,
   "metadata": {
    "run_control": {
     "frozen": false,
     "read_only": false
    }
   },
   "outputs": [],
   "source": [
    "non_sylv_prefix_and_3_6 = min_dfa(nfa2dfa(re2nfa(\"111(111+111111)*\")))"
   ]
  },
  {
   "cell_type": "code",
   "execution_count": null,
   "metadata": {
    "run_control": {
     "frozen": false,
     "read_only": false
    }
   },
   "outputs": [],
   "source": [
    "DO_non = dotObj_dfa(non_sylv_prefix_and_3_6)"
   ]
  },
  {
   "cell_type": "code",
   "execution_count": null,
   "metadata": {
    "run_control": {
     "frozen": false,
     "read_only": false
    }
   },
   "outputs": [],
   "source": [
    "DO_non"
   ]
  },
  {
   "cell_type": "code",
   "execution_count": null,
   "metadata": {
    "run_control": {
     "frozen": false,
     "read_only": false
    }
   },
   "outputs": [],
   "source": [
    "DO_non.source"
   ]
  },
  {
   "cell_type": "code",
   "execution_count": null,
   "metadata": {
    "run_control": {
     "frozen": false,
     "read_only": false
    }
   },
   "outputs": [],
   "source": [
    "stamp_3_5_7 = min_dfa(nfa2dfa(re2nfa(\"(111+11111+1111111)*\")))"
   ]
  },
  {
   "cell_type": "code",
   "execution_count": null,
   "metadata": {
    "run_control": {
     "frozen": false,
     "read_only": false
    }
   },
   "outputs": [],
   "source": [
    "DOstamp_3_5_7 = dotObj_dfa(stamp_3_5_7)"
   ]
  },
  {
   "cell_type": "code",
   "execution_count": null,
   "metadata": {
    "run_control": {
     "frozen": false,
     "read_only": false
    }
   },
   "outputs": [],
   "source": [
    "DOstamp_3_5_7"
   ]
  },
  {
   "cell_type": "code",
   "execution_count": null,
   "metadata": {
    "run_control": {
     "frozen": false,
     "read_only": false
    }
   },
   "outputs": [],
   "source": [
    "DOstamp_3_5_7.source"
   ]
  },
  {
   "cell_type": "code",
   "execution_count": null,
   "metadata": {
    "run_control": {
     "frozen": false,
     "read_only": false
    }
   },
   "outputs": [],
   "source": [
    "len(min_dfa(nfa2dfa(re2nfa(\"(111+1111111111111)*\")))[\"Q\"]) - 2"
   ]
  },
  {
   "cell_type": "code",
   "execution_count": null,
   "metadata": {
    "run_control": {
     "frozen": false,
     "read_only": false
    }
   },
   "outputs": [],
   "source": [
    "dfaBESame = md2mc('''\n",
    "DFA !! Begins and ends with same; epsilon allowed\n",
    "IF  : 0 -> F0\n",
    "IF  : 1 -> F1\n",
    "!!\n",
    "F0  : 0 -> F0\n",
    "F0  : 1 -> S01\n",
    "S01 : 1 -> S01\n",
    "S01 : 0 -> F0\n",
    "!!\n",
    "F1  : 1 -> F1\n",
    "F1  : 0 -> S10\n",
    "S10 : 0 -> S10\n",
    "S10 : 1 -> F1\n",
    "''')\n",
    "DOdfaBESame = dotObj_dfa(dfaBESame)\n",
    "DOdfaBESame"
   ]
  },
  {
   "cell_type": "code",
   "execution_count": null,
   "metadata": {
    "run_control": {
     "frozen": false,
     "read_only": false
    }
   },
   "outputs": [],
   "source": [
    "nfaBESame = apply_h_dfa(dfaBESame, lambda x: '0')"
   ]
  },
  {
   "cell_type": "code",
   "execution_count": null,
   "metadata": {
    "run_control": {
     "frozen": false,
     "read_only": false
    }
   },
   "outputs": [],
   "source": [
    "nfaBESame"
   ]
  },
  {
   "cell_type": "code",
   "execution_count": null,
   "metadata": {
    "run_control": {
     "frozen": false,
     "read_only": false
    }
   },
   "outputs": [],
   "source": [
    "DONFABESame = dotObj_nfa(nfaBESame)"
   ]
  },
  {
   "cell_type": "code",
   "execution_count": null,
   "metadata": {
    "run_control": {
     "frozen": false,
     "read_only": false
    }
   },
   "outputs": [],
   "source": [
    "DONFABESame"
   ]
  },
  {
   "cell_type": "code",
   "execution_count": null,
   "metadata": {
    "run_control": {
     "frozen": false,
     "read_only": false
    }
   },
   "outputs": [],
   "source": [
    "dotObj_dfa(nfa2dfa(nfaBESame))"
   ]
  },
  {
   "cell_type": "code",
   "execution_count": null,
   "metadata": {
    "run_control": {
     "frozen": false,
     "read_only": false
    }
   },
   "outputs": [],
   "source": [
    "dotObj_dfa(min_dfa(nfa2dfa(nfaBESame)))"
   ]
  },
  {
   "cell_type": "code",
   "execution_count": null,
   "metadata": {
    "run_control": {
     "frozen": false,
     "read_only": false
    }
   },
   "outputs": [],
   "source": [
    "blimp = md2mc('''\n",
    "DFA \n",
    "I1 : a -> F2\n",
    "I1 : b -> F3\n",
    "F2 : a -> S8\n",
    "F2 : b -> S5\n",
    "F3 : a -> S7\n",
    "F3 : b -> S4\n",
    "S4 : a | b -> F6\n",
    "S5 : a | b -> F6\n",
    "F6 : a | b -> F6\n",
    "S7 : a | b -> F6\n",
    "S8 : a -> F6\n",
    "S8 : b -> F9\n",
    "F9 : a -> F9\n",
    "F9 : b -> F6\n",
    "''')"
   ]
  },
  {
   "cell_type": "code",
   "execution_count": null,
   "metadata": {
    "run_control": {
     "frozen": false,
     "read_only": false
    }
   },
   "outputs": [],
   "source": [
    "blimpnfa = apply_h_dfa(blimp, lambda x: 'a')"
   ]
  },
  {
   "cell_type": "code",
   "execution_count": null,
   "metadata": {
    "run_control": {
     "frozen": false,
     "read_only": false
    }
   },
   "outputs": [],
   "source": [
    "dotObj_nfa(blimpnfa)"
   ]
  },
  {
   "cell_type": "code",
   "execution_count": null,
   "metadata": {
    "run_control": {
     "frozen": false,
     "read_only": false
    }
   },
   "outputs": [],
   "source": [
    "dotObj_nfa(blimpnfa).source"
   ]
  },
  {
   "cell_type": "code",
   "execution_count": null,
   "metadata": {
    "run_control": {
     "frozen": false,
     "read_only": false
    }
   },
   "outputs": [],
   "source": [
    "dotObj_dfa(nfa2dfa(blimpnfa))"
   ]
  },
  {
   "cell_type": "code",
   "execution_count": null,
   "metadata": {
    "run_control": {
     "frozen": false,
     "read_only": false
    }
   },
   "outputs": [],
   "source": [
    "dotObj_dfa(min_dfa(nfa2dfa(blimpnfa)))"
   ]
  },
  {
   "cell_type": "code",
   "execution_count": null,
   "metadata": {
    "run_control": {
     "frozen": false,
     "read_only": false
    }
   },
   "outputs": [],
   "source": [
    "dotObj_dfa(min_dfa(nfa2dfa(blimpnfa))).source"
   ]
  },
  {
   "cell_type": "code",
   "execution_count": null,
   "metadata": {
    "run_control": {
     "frozen": false,
     "read_only": false
    }
   },
   "outputs": [],
   "source": [
    "testdfa = md2mc('''DFA\n",
    "I : 0 | 1 -> I\n",
    "I : 2 -> F\n",
    "''')"
   ]
  },
  {
   "cell_type": "code",
   "execution_count": null,
   "metadata": {
    "run_control": {
     "frozen": false,
     "read_only": false
    }
   },
   "outputs": [],
   "source": [
    "dotObj_dfa_w_bh(testdfa)"
   ]
  },
  {
   "cell_type": "code",
   "execution_count": null,
   "metadata": {
    "run_control": {
     "frozen": false,
     "read_only": false
    }
   },
   "outputs": [],
   "source": [
    "help(dotObj_dfa_w_bh)"
   ]
  },
  {
   "cell_type": "code",
   "execution_count": null,
   "metadata": {
    "run_control": {
     "frozen": false,
     "read_only": false
    }
   },
   "outputs": [],
   "source": [
    "dotObj_dfa(testdfa, FuseEdges=True)"
   ]
  },
  {
   "cell_type": "code",
   "execution_count": null,
   "metadata": {
    "run_control": {
     "frozen": false,
     "read_only": false
    }
   },
   "outputs": [],
   "source": [
    "dotObj_dfa(min_dfa(nfa2dfa(re2nfa(\"(111+1111111111111)*\"))))"
   ]
  },
  {
   "cell_type": "code",
   "execution_count": null,
   "metadata": {
    "run_control": {
     "frozen": false,
     "read_only": false
    }
   },
   "outputs": [],
   "source": [
    "dotObj_dfa(min_dfa(nfa2dfa(re2nfa(\"(111+1111111111111)*\"))))"
   ]
  },
  {
   "cell_type": "code",
   "execution_count": null,
   "metadata": {
    "run_control": {
     "frozen": false,
     "read_only": false
    }
   },
   "outputs": [],
   "source": [
    "ResetStNum()"
   ]
  },
  {
   "cell_type": "code",
   "execution_count": null,
   "metadata": {
    "run_control": {
     "frozen": false,
     "read_only": false
    }
   },
   "outputs": [],
   "source": [
    "dotObj_dfa(min_dfa(nfa2dfa(re2nfa(\"(111+1111111111111)*\"))))"
   ]
  },
  {
   "cell_type": "code",
   "execution_count": null,
   "metadata": {
    "run_control": {
     "frozen": false,
     "read_only": false
    }
   },
   "outputs": [],
   "source": [
    "ResetStNum()"
   ]
  },
  {
   "cell_type": "code",
   "execution_count": null,
   "metadata": {
    "run_control": {
     "frozen": false,
     "read_only": false
    }
   },
   "outputs": [],
   "source": [
    "dotObj_dfa(min_dfa(nfa2dfa(re2nfa(\"(111+1111111111111)*\"))))"
   ]
  },
  {
   "cell_type": "code",
   "execution_count": null,
   "metadata": {
    "run_control": {
     "frozen": false,
     "read_only": false
    }
   },
   "outputs": [],
   "source": []
  }
 ],
 "metadata": {
  "kernelspec": {
   "display_name": "Python 3",
   "language": "python",
   "name": "python3"
  },
  "language_info": {
   "codemirror_mode": {
    "name": "ipython",
    "version": 3
   },
   "file_extension": ".py",
   "mimetype": "text/x-python",
   "name": "python",
   "nbconvert_exporter": "python",
   "pygments_lexer": "ipython3",
   "version": "3.6.0"
  },
  "toc": {
   "colors": {
    "hover_highlight": "#DAA520",
    "running_highlight": "#FF0000",
    "selected_highlight": "#FFD700"
   },
   "moveMenuLeft": true,
   "nav_menu": {
    "height": "318px",
    "width": "252px"
   },
   "navigate_menu": true,
   "number_sections": true,
   "sideBar": true,
   "threshold": 4,
   "toc_cell": false,
   "toc_section_display": "block",
   "toc_window_display": false,
   "widenNotebook": false
  }
 },
 "nbformat": 4,
 "nbformat_minor": 1
}
