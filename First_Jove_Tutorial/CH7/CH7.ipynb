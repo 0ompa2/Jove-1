{
 "cells": [
  {
   "cell_type": "markdown",
   "metadata": {},
   "source": [
    "# Exercises on NFA\n",
    "\n",
    "You may wish to watch my lecture on NFA a little, then play with the\n",
    "code below, and then finish watching.\n"
   ]
  },
  {
   "cell_type": "code",
   "execution_count": 84,
   "metadata": {
    "run_control": {
     "frozen": false,
     "read_only": false
    }
   },
   "outputs": [
    {
     "data": {
      "image/jpeg": "[encoded data removed]",
      "text/html": [
       "\n",
       "        <iframe\n",
       "            width=\"400\"\n",
       "            height=\"300\"\n",
       "            src=\"https://www.youtube.com/embed/xjFtLF95uBc\"\n",
       "            frameborder=\"0\"\n",
       "            allowfullscreen\n",
       "        ></iframe>\n",
       "        "
      ],
      "text/plain": [
       "<IPython.lib.display.YouTubeVideo at 0x1075997b8>"
      ]
     },
     "execution_count": 84,
     "metadata": {},
     "output_type": "execute_result"
    }
   ],
   "source": [
    "# This Youtube video walks through this notebook\n",
    "from IPython.display import YouTubeVideo\n",
    "YouTubeVideo('xjFtLF95uBc')"
   ]
  },
  {
   "cell_type": "code",
   "execution_count": 85,
   "metadata": {
    "run_control": {
     "frozen": false,
     "read_only": false
    }
   },
   "outputs": [],
   "source": [
    "from jove.DotBashers import *\n",
    "from jove.Def_md2mc  import *\n",
    "from jove.Def_NFA    import *"
   ]
  },
  {
   "cell_type": "code",
   "execution_count": 86,
   "metadata": {
    "run_control": {
     "frozen": false,
     "read_only": false
    }
   },
   "outputs": [],
   "source": [
    "# Our automd markdown works for NFA also. Here is the NFA for\n",
    "# the language \"ends in 0101\"\n",
    "\n",
    "nfa_ends0101 = md2mc('''\n",
    "!!---------------------------------------------------------------------------\n",
    "!! This NFA looks for patterns of the form \n",
    "!!\n",
    "!!     ......<some 0's and 1's>.....0101\n",
    "!!\n",
    "!! i.e., all strings that end in 0101.\n",
    "!!\n",
    "!! This example (over and above thirdlastis1.nfa) also illustrates\n",
    "!! the power of nondeterminism. Anytime we see a 0 from state I, we\n",
    "!! can have the NFA speculate that it is seeing the beginning of a\n",
    "!! 0101 pattern! If the NFA fails in its guess, it pays no price\n",
    "!! (because another guess is soon coming from behind).\n",
    "!!\n",
    "!! * We take 4 states in the NFA solution. The DFA solution takes\n",
    "!!   5 states.\n",
    "!!\n",
    "!! * This shows how burden is shifted from the\n",
    "!!   human to the computer doing the NFA simulation.\n",
    "!!   Even though the savings in states is not dramatic,\n",
    "!!   the effort to build this NFA is much lower than building\n",
    "!!   the corresponding DFA.\n",
    "!! \n",
    "!!-----------------------------------------------------------------\n",
    "!! For NFA, each line can be as follows:\n",
    "!!\n",
    "!! State : in1 | in2 ...  ->  COmma, Separated, State, List  !! comment\n",
    "!!-----------------------------------------------------------------\n",
    "\n",
    "NFA\n",
    "\n",
    "I    : 1   -> I      !! I goes to I upon 1\n",
    "\n",
    "I    : 0   -> S0, I  !! I goes to S0 and I upon 0\n",
    "\n",
    "S0   : 1   -> S01    !! S0 goes to S01 upon 1\n",
    "\n",
    "S01  : 0   -> S010   !! S01 goes to S010 upon 0\n",
    "\n",
    "S010 : 1   -> F      !! S010 goes to F upon F\n",
    "\n",
    "!!---\n",
    "''')"
   ]
  },
  {
   "cell_type": "code",
   "execution_count": 87,
   "metadata": {
    "run_control": {
     "frozen": false,
     "read_only": false
    }
   },
   "outputs": [
    {
     "data": {
      "text/plain": [
       "{'Delta': {('I', '0'): {'I', 'S0'},\n",
       "  ('I', '1'): {'I'},\n",
       "  ('S0', '1'): {'S01'},\n",
       "  ('S01', '0'): {'S010'},\n",
       "  ('S010', '1'): {'F'}},\n",
       " 'F': {'F'},\n",
       " 'Q': {'F', 'I', 'S0', 'S01', 'S010'},\n",
       " 'Q0': {'I'},\n",
       " 'Sigma': {'0', '1'}}"
      ]
     },
     "execution_count": 87,
     "metadata": {},
     "output_type": "execute_result"
    }
   ],
   "source": [
    "nfa_ends0101"
   ]
  },
  {
   "cell_type": "code",
   "execution_count": 88,
   "metadata": {
    "run_control": {
     "frozen": false,
     "read_only": false
    },
    "scrolled": false
   },
   "outputs": [
    {
     "data": {
      "image/svg+xml": [
       "<?xml version=\"1.0\" encoding=\"UTF-8\" standalone=\"no\"?>\n",
       "<!DOCTYPE svg PUBLIC \"-//W3C//DTD SVG 1.1//EN\"\n",
       " \"http://www.w3.org/Graphics/SVG/1.1/DTD/svg11.dtd\">\n",
       "<!-- Generated by graphviz version 2.38.0 (20140413.2041)\n",
       " -->\n",
       "<!-- Title: %3 Pages: 1 -->\n",
       "<svg width=\"494pt\" height=\"118pt\"\n",
       " viewBox=\"0.00 0.00 494.21 118.29\" xmlns=\"http://www.w3.org/2000/svg\" xmlns:xlink=\"http://www.w3.org/1999/xlink\">\n",
       "<g id=\"graph0\" class=\"graph\" transform=\"scale(1 1) rotate(0) translate(4 114.29)\">\n",
       "<title>%3</title>\n",
       "<polygon fill=\"white\" stroke=\"none\" points=\"-4,4 -4,-114.29 490.212,-114.29 490.212,4 -4,4\"/>\n",
       "<!-- EMPTY -->\n",
       "<g id=\"node1\" class=\"node\"><title>EMPTY</title>\n",
       "</g>\n",
       "<!-- I -->\n",
       "<g id=\"node2\" class=\"node\"><title>I</title>\n",
       "<ellipse fill=\"none\" stroke=\"black\" cx=\"109\" cy=\"-28.2903\" rx=\"18\" ry=\"18\"/>\n",
       "<text text-anchor=\"middle\" x=\"109\" y=\"-24.0903\" font-family=\"Times,serif\" font-size=\"14.00\">I</text>\n",
       "</g>\n",
       "<!-- EMPTY&#45;&gt;I -->\n",
       "<g id=\"edge1\" class=\"edge\"><title>EMPTY&#45;&gt;I</title>\n",
       "<path fill=\"none\" stroke=\"black\" d=\"M54.195,-28.2903C62.6538,-28.2903 72.0513,-28.2903 80.5951,-28.2903\"/>\n",
       "<polygon fill=\"black\" stroke=\"black\" points=\"80.8257,-31.7904 90.8257,-28.2903 80.8257,-24.7904 80.8257,-31.7904\"/>\n",
       "</g>\n",
       "<!-- I&#45;&gt;I -->\n",
       "<g id=\"edge2\" class=\"edge\"><title>I&#45;&gt;I</title>\n",
       "<path fill=\"none\" stroke=\"black\" d=\"M105.764,-46.0721C105.214,-55.6053 106.293,-64.2903 109,-64.2903 110.65,-64.2903 111.694,-61.0652 112.135,-56.3884\"/>\n",
       "<polygon fill=\"black\" stroke=\"black\" points=\"115.638,-56.1059 112.236,-46.0721 108.638,-56.0373 115.638,-56.1059\"/>\n",
       "<text text-anchor=\"middle\" x=\"109\" y=\"-67.0903\" font-family=\"Times,serif\" font-size=\"14.00\">1</text>\n",
       "</g>\n",
       "<!-- I&#45;&gt;I -->\n",
       "<g id=\"edge3\" class=\"edge\"><title>I&#45;&gt;I</title>\n",
       "<path fill=\"none\" stroke=\"black\" d=\"M103.684,-45.7106C100.654,-63.0813 102.426,-82.2903 109,-82.2903 114.29,-82.2903 116.471,-69.8521 115.542,-55.9423\"/>\n",
       "<polygon fill=\"black\" stroke=\"black\" points=\"118.981,-55.2232 114.316,-45.7106 112.031,-56.056 118.981,-55.2232\"/>\n",
       "<text text-anchor=\"middle\" x=\"109\" y=\"-85.0903\" font-family=\"Times,serif\" font-size=\"14.00\">0</text>\n",
       "</g>\n",
       "<!-- S0 -->\n",
       "<g id=\"node3\" class=\"node\"><title>S0</title>\n",
       "<ellipse fill=\"none\" stroke=\"black\" cx=\"189.447\" cy=\"-28.2903\" rx=\"19.3939\" ry=\"19.3939\"/>\n",
       "<text text-anchor=\"middle\" x=\"189.447\" y=\"-24.0903\" font-family=\"Times,serif\" font-size=\"14.00\">S0</text>\n",
       "</g>\n",
       "<!-- I&#45;&gt;S0 -->\n",
       "<g id=\"edge4\" class=\"edge\"><title>I&#45;&gt;S0</title>\n",
       "<path fill=\"none\" stroke=\"black\" d=\"M127.022,-28.2903C136.583,-28.2903 148.77,-28.2903 159.763,-28.2903\"/>\n",
       "<polygon fill=\"black\" stroke=\"black\" points=\"159.813,-31.7904 169.813,-28.2903 159.813,-24.7904 159.813,-31.7904\"/>\n",
       "<text text-anchor=\"middle\" x=\"148.5\" y=\"-31.0903\" font-family=\"Times,serif\" font-size=\"14.00\">0</text>\n",
       "</g>\n",
       "<!-- S01 -->\n",
       "<g id=\"node5\" class=\"node\"><title>S01</title>\n",
       "<ellipse fill=\"none\" stroke=\"black\" cx=\"275.762\" cy=\"-28.2903\" rx=\"23.7379\" ry=\"23.7379\"/>\n",
       "<text text-anchor=\"middle\" x=\"275.762\" y=\"-24.0903\" font-family=\"Times,serif\" font-size=\"14.00\">S01</text>\n",
       "</g>\n",
       "<!-- S0&#45;&gt;S01 -->\n",
       "<g id=\"edge5\" class=\"edge\"><title>S0&#45;&gt;S01</title>\n",
       "<path fill=\"none\" stroke=\"black\" d=\"M209.159,-28.2903C218.645,-28.2903 230.452,-28.2903 241.425,-28.2903\"/>\n",
       "<polygon fill=\"black\" stroke=\"black\" points=\"241.587,-31.7904 251.587,-28.2903 241.587,-24.7904 241.587,-31.7904\"/>\n",
       "<text text-anchor=\"middle\" x=\"230.394\" y=\"-31.0903\" font-family=\"Times,serif\" font-size=\"14.00\">1</text>\n",
       "</g>\n",
       "<!-- S010 -->\n",
       "<g id=\"node4\" class=\"node\"><title>S010</title>\n",
       "<ellipse fill=\"none\" stroke=\"black\" cx=\"370.921\" cy=\"-28.2903\" rx=\"28.0822\" ry=\"28.0822\"/>\n",
       "<text text-anchor=\"middle\" x=\"370.921\" y=\"-24.0903\" font-family=\"Times,serif\" font-size=\"14.00\">S010</text>\n",
       "</g>\n",
       "<!-- F -->\n",
       "<g id=\"node6\" class=\"node\"><title>F</title>\n",
       "<ellipse fill=\"none\" stroke=\"black\" cx=\"464.212\" cy=\"-28.2903\" rx=\"18\" ry=\"18\"/>\n",
       "<ellipse fill=\"none\" stroke=\"black\" cx=\"464.212\" cy=\"-28.2903\" rx=\"22\" ry=\"22\"/>\n",
       "<text text-anchor=\"middle\" x=\"464.212\" y=\"-24.0903\" font-family=\"Times,serif\" font-size=\"14.00\">F</text>\n",
       "</g>\n",
       "<!-- S010&#45;&gt;F -->\n",
       "<g id=\"edge7\" class=\"edge\"><title>S010&#45;&gt;F</title>\n",
       "<path fill=\"none\" stroke=\"black\" d=\"M399.311,-28.2903C409.553,-28.2903 421.262,-28.2903 431.836,-28.2903\"/>\n",
       "<polygon fill=\"black\" stroke=\"black\" points=\"431.934,-31.7904 441.934,-28.2903 431.934,-24.7904 431.934,-31.7904\"/>\n",
       "<text text-anchor=\"middle\" x=\"420.712\" y=\"-31.0903\" font-family=\"Times,serif\" font-size=\"14.00\">1</text>\n",
       "</g>\n",
       "<!-- S01&#45;&gt;S010 -->\n",
       "<g id=\"edge6\" class=\"edge\"><title>S01&#45;&gt;S010</title>\n",
       "<path fill=\"none\" stroke=\"black\" d=\"M299.79,-28.2903C309.59,-28.2903 321.277,-28.2903 332.274,-28.2903\"/>\n",
       "<polygon fill=\"black\" stroke=\"black\" points=\"332.522,-31.7904 342.521,-28.2903 332.521,-24.7904 332.522,-31.7904\"/>\n",
       "<text text-anchor=\"middle\" x=\"321.131\" y=\"-31.0903\" font-family=\"Times,serif\" font-size=\"14.00\">0</text>\n",
       "</g>\n",
       "</g>\n",
       "</svg>\n"
      ],
      "text/plain": [
       "<graphviz.dot.Digraph at 0x107599f98>"
      ]
     },
     "execution_count": 88,
     "metadata": {},
     "output_type": "execute_result"
    }
   ],
   "source": [
    "dotObj_nfa(nfa_ends0101)"
   ]
  },
  {
   "cell_type": "code",
   "execution_count": 89,
   "metadata": {
    "run_control": {
     "frozen": false,
     "read_only": false
    }
   },
   "outputs": [
    {
     "data": {
      "image/svg+xml": [
       "<?xml version=\"1.0\" encoding=\"UTF-8\" standalone=\"no\"?>\n",
       "<!DOCTYPE svg PUBLIC \"-//W3C//DTD SVG 1.1//EN\"\n",
       " \"http://www.w3.org/Graphics/SVG/1.1/DTD/svg11.dtd\">\n",
       "<!-- Generated by graphviz version 2.38.0 (20140413.2041)\n",
       " -->\n",
       "<!-- Title: %3 Pages: 1 -->\n",
       "<svg width=\"494pt\" height=\"100pt\"\n",
       " viewBox=\"0.00 0.00 494.21 100.29\" xmlns=\"http://www.w3.org/2000/svg\" xmlns:xlink=\"http://www.w3.org/1999/xlink\">\n",
       "<g id=\"graph0\" class=\"graph\" transform=\"scale(1 1) rotate(0) translate(4 96.2903)\">\n",
       "<title>%3</title>\n",
       "<polygon fill=\"white\" stroke=\"none\" points=\"-4,4 -4,-96.2903 490.212,-96.2903 490.212,4 -4,4\"/>\n",
       "<!-- EMPTY -->\n",
       "<g id=\"node1\" class=\"node\"><title>EMPTY</title>\n",
       "</g>\n",
       "<!-- I -->\n",
       "<g id=\"node2\" class=\"node\"><title>I</title>\n",
       "<ellipse fill=\"none\" stroke=\"black\" cx=\"109\" cy=\"-28.2903\" rx=\"18\" ry=\"18\"/>\n",
       "<text text-anchor=\"middle\" x=\"109\" y=\"-24.0903\" font-family=\"Times,serif\" font-size=\"14.00\">I</text>\n",
       "</g>\n",
       "<!-- EMPTY&#45;&gt;I -->\n",
       "<g id=\"edge1\" class=\"edge\"><title>EMPTY&#45;&gt;I</title>\n",
       "<path fill=\"none\" stroke=\"black\" d=\"M54.195,-28.2903C62.6538,-28.2903 72.0513,-28.2903 80.5951,-28.2903\"/>\n",
       "<polygon fill=\"black\" stroke=\"black\" points=\"80.8257,-31.7904 90.8257,-28.2903 80.8257,-24.7904 80.8257,-31.7904\"/>\n",
       "</g>\n",
       "<!-- I&#45;&gt;I -->\n",
       "<g id=\"edge2\" class=\"edge\"><title>I&#45;&gt;I</title>\n",
       "<path fill=\"none\" stroke=\"black\" d=\"M102.621,-45.3276C101.319,-55.1482 103.445,-64.2903 109,-64.2903 112.472,-64.2903 114.604,-60.7192 115.398,-55.6432\"/>\n",
       "<polygon fill=\"black\" stroke=\"black\" points=\"118.897,-55.3214 115.379,-45.3276 111.897,-55.3339 118.897,-55.3214\"/>\n",
       "<text text-anchor=\"middle\" x=\"109\" y=\"-81.0903\" font-family=\"Times,serif\" font-size=\"14.00\">1 </text>\n",
       "<text text-anchor=\"middle\" x=\"109\" y=\"-67.0903\" font-family=\"Times,serif\" font-size=\"14.00\"> 0</text>\n",
       "</g>\n",
       "<!-- S0 -->\n",
       "<g id=\"node3\" class=\"node\"><title>S0</title>\n",
       "<ellipse fill=\"none\" stroke=\"black\" cx=\"189.447\" cy=\"-28.2903\" rx=\"19.3939\" ry=\"19.3939\"/>\n",
       "<text text-anchor=\"middle\" x=\"189.447\" y=\"-24.0903\" font-family=\"Times,serif\" font-size=\"14.00\">S0</text>\n",
       "</g>\n",
       "<!-- I&#45;&gt;S0 -->\n",
       "<g id=\"edge3\" class=\"edge\"><title>I&#45;&gt;S0</title>\n",
       "<path fill=\"none\" stroke=\"black\" d=\"M127.022,-28.2903C136.583,-28.2903 148.77,-28.2903 159.763,-28.2903\"/>\n",
       "<polygon fill=\"black\" stroke=\"black\" points=\"159.813,-31.7904 169.813,-28.2903 159.813,-24.7904 159.813,-31.7904\"/>\n",
       "<text text-anchor=\"middle\" x=\"148.5\" y=\"-31.0903\" font-family=\"Times,serif\" font-size=\"14.00\">0</text>\n",
       "</g>\n",
       "<!-- S01 -->\n",
       "<g id=\"node5\" class=\"node\"><title>S01</title>\n",
       "<ellipse fill=\"none\" stroke=\"black\" cx=\"275.762\" cy=\"-28.2903\" rx=\"23.7379\" ry=\"23.7379\"/>\n",
       "<text text-anchor=\"middle\" x=\"275.762\" y=\"-24.0903\" font-family=\"Times,serif\" font-size=\"14.00\">S01</text>\n",
       "</g>\n",
       "<!-- S0&#45;&gt;S01 -->\n",
       "<g id=\"edge4\" class=\"edge\"><title>S0&#45;&gt;S01</title>\n",
       "<path fill=\"none\" stroke=\"black\" d=\"M209.159,-28.2903C218.645,-28.2903 230.452,-28.2903 241.425,-28.2903\"/>\n",
       "<polygon fill=\"black\" stroke=\"black\" points=\"241.587,-31.7904 251.587,-28.2903 241.587,-24.7904 241.587,-31.7904\"/>\n",
       "<text text-anchor=\"middle\" x=\"230.394\" y=\"-31.0903\" font-family=\"Times,serif\" font-size=\"14.00\">1</text>\n",
       "</g>\n",
       "<!-- S010 -->\n",
       "<g id=\"node4\" class=\"node\"><title>S010</title>\n",
       "<ellipse fill=\"none\" stroke=\"black\" cx=\"370.921\" cy=\"-28.2903\" rx=\"28.0822\" ry=\"28.0822\"/>\n",
       "<text text-anchor=\"middle\" x=\"370.921\" y=\"-24.0903\" font-family=\"Times,serif\" font-size=\"14.00\">S010</text>\n",
       "</g>\n",
       "<!-- F -->\n",
       "<g id=\"node6\" class=\"node\"><title>F</title>\n",
       "<ellipse fill=\"none\" stroke=\"black\" cx=\"464.212\" cy=\"-28.2903\" rx=\"18\" ry=\"18\"/>\n",
       "<ellipse fill=\"none\" stroke=\"black\" cx=\"464.212\" cy=\"-28.2903\" rx=\"22\" ry=\"22\"/>\n",
       "<text text-anchor=\"middle\" x=\"464.212\" y=\"-24.0903\" font-family=\"Times,serif\" font-size=\"14.00\">F</text>\n",
       "</g>\n",
       "<!-- S010&#45;&gt;F -->\n",
       "<g id=\"edge6\" class=\"edge\"><title>S010&#45;&gt;F</title>\n",
       "<path fill=\"none\" stroke=\"black\" d=\"M399.311,-28.2903C409.553,-28.2903 421.262,-28.2903 431.836,-28.2903\"/>\n",
       "<polygon fill=\"black\" stroke=\"black\" points=\"431.934,-31.7904 441.934,-28.2903 431.934,-24.7904 431.934,-31.7904\"/>\n",
       "<text text-anchor=\"middle\" x=\"420.712\" y=\"-31.0903\" font-family=\"Times,serif\" font-size=\"14.00\">1</text>\n",
       "</g>\n",
       "<!-- S01&#45;&gt;S010 -->\n",
       "<g id=\"edge5\" class=\"edge\"><title>S01&#45;&gt;S010</title>\n",
       "<path fill=\"none\" stroke=\"black\" d=\"M299.79,-28.2903C309.59,-28.2903 321.277,-28.2903 332.274,-28.2903\"/>\n",
       "<polygon fill=\"black\" stroke=\"black\" points=\"332.522,-31.7904 342.521,-28.2903 332.521,-24.7904 332.522,-31.7904\"/>\n",
       "<text text-anchor=\"middle\" x=\"321.131\" y=\"-31.0903\" font-family=\"Times,serif\" font-size=\"14.00\">0</text>\n",
       "</g>\n",
       "</g>\n",
       "</svg>\n"
      ],
      "text/plain": [
       "<graphviz.dot.Digraph at 0x107599ef0>"
      ]
     },
     "execution_count": 89,
     "metadata": {},
     "output_type": "execute_result"
    }
   ],
   "source": [
    "dotObj_nfa(nfa_ends0101, FuseEdges=True)"
   ]
  },
  {
   "cell_type": "markdown",
   "metadata": {},
   "source": [
    "# NFA in \"raw\" format\n",
    "\n",
    "You never need to specify NFA "
   ]
  },
  {
   "cell_type": "code",
   "execution_count": 16,
   "metadata": {
    "code_folding": [],
    "run_control": {
     "frozen": false,
     "read_only": false
    }
   },
   "outputs": [
    {
     "data": {
      "text/plain": [
       "{'Delta': {('I', ''): {'S0'},\n",
       "  ('I', '0'): {'I'},\n",
       "  ('I', '1'): {'I', 'S0'},\n",
       "  ('S0', '1'): {'S1'},\n",
       "  ('S1', '0'): {'S2'},\n",
       "  ('S1', '1'): {'S2'},\n",
       "  ('S2', '0'): {'F'},\n",
       "  ('S2', '1'): {'F'}},\n",
       " 'F': {'F'},\n",
       " 'Q': {'F', 'I', 'S0', 'S1', 'S2'},\n",
       " 'Q0': {'I'},\n",
       " 'Sigma': {'0', '1'}}"
      ]
     },
     "execution_count": 16,
     "metadata": {},
     "output_type": "execute_result"
    }
   ],
   "source": [
    "NFA_fig61ab = { 'Q': {'I', 'S0', 'S1', 'S2', 'F'},\n",
    "                'Sigma': {'0', '1'},\n",
    "                'Delta': { # \n",
    "                             ('I', '0')  : {'I'},\n",
    "                             ('I', '1')  : {'I', 'S0'},\n",
    "                             ('I', '')   : {'S0'},\n",
    "                             #\n",
    "                             ('S0', '1') : {'S1'},\n",
    "                             #\n",
    "                             ('S1', '0') : {'S2'},\n",
    "                             ('S1', '1') : {'S2'},\n",
    "                             #\n",
    "                             ('S2', '0') : {'F'},\n",
    "                             ('S2', '1') : {'F'},\n",
    "               },\n",
    "                  'Q0': {'I'}, \n",
    "                  'F' : {'F'}   \n",
    "                }\n",
    "NFA_fig61ab"
   ]
  },
  {
   "cell_type": "code",
   "execution_count": 17,
   "metadata": {
    "editable": false,
    "run_control": {
     "frozen": false,
     "read_only": false
    }
   },
   "outputs": [
    {
     "data": {
      "text/plain": [
       "{'S0'}"
      ]
     },
     "execution_count": 17,
     "metadata": {},
     "output_type": "execute_result"
    }
   ],
   "source": [
    "step_nfa(NFA_fig61ab, \"I\", \"\")"
   ]
  },
  {
   "cell_type": "code",
   "execution_count": 18,
   "metadata": {
    "editable": false,
    "run_control": {
     "frozen": false,
     "read_only": false
    }
   },
   "outputs": [
    {
     "data": {
      "text/plain": [
       "{'I'}"
      ]
     },
     "execution_count": 18,
     "metadata": {},
     "output_type": "execute_result"
    }
   ],
   "source": [
    "step_nfa(NFA_fig61ab, \"I\", \"0\")"
   ]
  },
  {
   "cell_type": "code",
   "execution_count": 19,
   "metadata": {
    "editable": false,
    "run_control": {
     "frozen": false,
     "read_only": false
    }
   },
   "outputs": [
    {
     "data": {
      "text/plain": [
       "{'I', 'S0'}"
      ]
     },
     "execution_count": 19,
     "metadata": {},
     "output_type": "execute_result"
    }
   ],
   "source": [
    "step_nfa(NFA_fig61ab, \"I\", \"1\")"
   ]
  },
  {
   "cell_type": "code",
   "execution_count": 20,
   "metadata": {
    "run_control": {
     "frozen": false,
     "read_only": false
    }
   },
   "outputs": [
    {
     "data": {
      "image/svg+xml": [
       "<?xml version=\"1.0\" encoding=\"UTF-8\" standalone=\"no\"?>\n",
       "<!DOCTYPE svg PUBLIC \"-//W3C//DTD SVG 1.1//EN\"\n",
       " \"http://www.w3.org/Graphics/SVG/1.1/DTD/svg11.dtd\">\n",
       "<!-- Generated by graphviz version 2.38.0 (20140413.2041)\n",
       " -->\n",
       "<!-- Title: G Pages: 1 -->\n",
       "<svg width=\"564pt\" height=\"110pt\"\n",
       " viewBox=\"0.00 0.00 564.22 110.34\" xmlns=\"http://www.w3.org/2000/svg\" xmlns:xlink=\"http://www.w3.org/1999/xlink\">\n",
       "<g id=\"graph0\" class=\"graph\" transform=\"scale(1 1) rotate(0) translate(4 106.342)\">\n",
       "<title>G</title>\n",
       "<polygon fill=\"white\" stroke=\"none\" points=\"-4,4 -4,-106.342 560.223,-106.342 560.223,4 -4,4\"/>\n",
       "<g id=\"node1\" class=\"node\"><title></title>\n",
       "</g>\n",
       "<!-- A0 -->\n",
       "<g id=\"node5\" class=\"node\"><title>A0</title>\n",
       "<ellipse fill=\"none\" stroke=\"black\" cx=\"111.915\" cy=\"-49.915\" rx=\"20.8304\" ry=\"20.8304\"/>\n",
       "<text text-anchor=\"middle\" x=\"111.915\" y=\"-45.715\" font-family=\"Times,serif\" font-size=\"14.00\">A0</text>\n",
       "</g>\n",
       "<!-- &#45;&gt;A0 -->\n",
       "<g id=\"edge1\" class=\"edge\"><title>&#45;&gt;A0</title>\n",
       "<path fill=\"none\" stroke=\"black\" d=\"M54.2348,-49.915C62.6673,-49.915 72.0756,-49.915 80.766,-49.915\"/>\n",
       "<polygon fill=\"black\" stroke=\"black\" points=\"80.8965,-53.4151 90.8965,-49.915 80.8964,-46.4151 80.8965,-53.4151\"/>\n",
       "</g>\n",
       "<!-- B1 -->\n",
       "<g id=\"node2\" class=\"node\"><title>B1</title>\n",
       "<ellipse fill=\"none\" stroke=\"black\" cx=\"364.941\" cy=\"-81.915\" rx=\"20.3544\" ry=\"20.3544\"/>\n",
       "<text text-anchor=\"middle\" x=\"364.941\" y=\"-77.715\" font-family=\"Times,serif\" font-size=\"14.00\">B1</text>\n",
       "</g>\n",
       "<!-- B2 -->\n",
       "<g id=\"node4\" class=\"node\"><title>B2</title>\n",
       "<ellipse fill=\"none\" stroke=\"black\" cx=\"448.795\" cy=\"-81.915\" rx=\"20.3544\" ry=\"20.3544\"/>\n",
       "<text text-anchor=\"middle\" x=\"448.795\" y=\"-77.715\" font-family=\"Times,serif\" font-size=\"14.00\">B2</text>\n",
       "</g>\n",
       "<!-- B1&#45;&gt;B2 -->\n",
       "<g id=\"edge6\" class=\"edge\"><title>B1&#45;&gt;B2</title>\n",
       "<path fill=\"none\" stroke=\"black\" d=\"M385.756,-81.915C395.408,-81.915 407.218,-81.915 417.933,-81.915\"/>\n",
       "<polygon fill=\"black\" stroke=\"black\" points=\"418.163,-85.4151 428.163,-81.915 418.163,-78.4151 418.163,-85.4151\"/>\n",
       "<text text-anchor=\"middle\" x=\"406.868\" y=\"-84.715\" font-family=\"Times,serif\" font-size=\"14.00\">1</text>\n",
       "</g>\n",
       "<!-- B0 -->\n",
       "<g id=\"node3\" class=\"node\"><title>B0</title>\n",
       "<ellipse fill=\"none\" stroke=\"black\" cx=\"281.087\" cy=\"-49.915\" rx=\"20.3544\" ry=\"20.3544\"/>\n",
       "<text text-anchor=\"middle\" x=\"281.087\" y=\"-45.715\" font-family=\"Times,serif\" font-size=\"14.00\">B0</text>\n",
       "</g>\n",
       "<!-- B0&#45;&gt;B1 -->\n",
       "<g id=\"edge5\" class=\"edge\"><title>B0&#45;&gt;B1</title>\n",
       "<path fill=\"none\" stroke=\"black\" d=\"M300.253,-57.0169C310.777,-61.131 324.245,-66.3961 336.083,-71.024\"/>\n",
       "<polygon fill=\"black\" stroke=\"black\" points=\"334.955,-74.341 345.543,-74.7224 337.504,-67.8215 334.955,-74.341\"/>\n",
       "<text text-anchor=\"middle\" x=\"323.014\" y=\"-68.715\" font-family=\"Times,serif\" font-size=\"14.00\">1</text>\n",
       "</g>\n",
       "<!-- B0&#45;&gt;A0 -->\n",
       "<g id=\"edge4\" class=\"edge\"><title>B0&#45;&gt;A0</title>\n",
       "<path fill=\"none\" stroke=\"black\" d=\"M260.711,-53.0018C254.921,-53.7893 248.547,-54.5235 242.66,-54.915 201.937,-57.6232 191.556,-57.5888 150.83,-54.915 148.279,-54.7476 145.638,-54.5174 142.992,-54.2471\"/>\n",
       "<polygon fill=\"black\" stroke=\"black\" points=\"143.28,-50.7568 132.937,-53.0542 142.455,-57.7081 143.28,-50.7568\"/>\n",
       "</g>\n",
       "<!-- F -->\n",
       "<g id=\"node7\" class=\"node\"><title>F</title>\n",
       "<ellipse fill=\"none\" stroke=\"black\" cx=\"534.223\" cy=\"-53.915\" rx=\"18\" ry=\"18\"/>\n",
       "<ellipse fill=\"none\" stroke=\"black\" cx=\"534.223\" cy=\"-53.915\" rx=\"22\" ry=\"22\"/>\n",
       "<text text-anchor=\"middle\" x=\"534.223\" y=\"-49.715\" font-family=\"Times,serif\" font-size=\"14.00\">F</text>\n",
       "</g>\n",
       "<!-- B2&#45;&gt;F -->\n",
       "<g id=\"edge7\" class=\"edge\"><title>B2&#45;&gt;F</title>\n",
       "<path fill=\"none\" stroke=\"black\" d=\"M468.311,-75.7009C478.558,-72.2616 491.544,-67.9032 503.204,-63.9898\"/>\n",
       "<polygon fill=\"black\" stroke=\"black\" points=\"504.641,-67.1997 513.007,-60.6997 502.413,-60.5635 504.641,-67.1997\"/>\n",
       "<text text-anchor=\"middle\" x=\"490.723\" y=\"-70.715\" font-family=\"Times,serif\" font-size=\"14.00\">1</text>\n",
       "</g>\n",
       "<!-- A1 -->\n",
       "<g id=\"node6\" class=\"node\"><title>A1</title>\n",
       "<ellipse fill=\"none\" stroke=\"black\" cx=\"196.745\" cy=\"-20.915\" rx=\"20.8304\" ry=\"20.8304\"/>\n",
       "<text text-anchor=\"middle\" x=\"196.745\" y=\"-16.715\" font-family=\"Times,serif\" font-size=\"14.00\">A1</text>\n",
       "</g>\n",
       "<!-- A0&#45;&gt;A1 -->\n",
       "<g id=\"edge2\" class=\"edge\"><title>A0&#45;&gt;A1</title>\n",
       "<path fill=\"none\" stroke=\"black\" d=\"M132.126,-43.1889C142.476,-39.5654 155.452,-35.0222 166.981,-30.9856\"/>\n",
       "<polygon fill=\"black\" stroke=\"black\" points=\"168.357,-34.2125 176.638,-27.6046 166.043,-27.6058 168.357,-34.2125\"/>\n",
       "<text text-anchor=\"middle\" x=\"154.33\" y=\"-39.715\" font-family=\"Times,serif\" font-size=\"14.00\">0</text>\n",
       "</g>\n",
       "<!-- A1&#45;&gt;B0 -->\n",
       "<g id=\"edge3\" class=\"edge\"><title>A1&#45;&gt;B0</title>\n",
       "<path fill=\"none\" stroke=\"black\" d=\"M216.843,-27.6411C227.279,-31.3164 240.401,-35.9378 251.983,-40.0171\"/>\n",
       "<polygon fill=\"black\" stroke=\"black\" points=\"251.064,-43.4042 261.659,-43.4249 253.39,-36.8017 251.064,-43.4042\"/>\n",
       "<text text-anchor=\"middle\" x=\"239.16\" y=\"-39.715\" font-family=\"Times,serif\" font-size=\"14.00\">0</text>\n",
       "</g>\n",
       "<!-- F&#45;&gt;B0 -->\n",
       "<g id=\"edge8\" class=\"edge\"><title>F&#45;&gt;B0</title>\n",
       "<path fill=\"none\" stroke=\"black\" d=\"M512.202,-53.5802C467.608,-52.8699 363.403,-51.2102 311.935,-50.3904\"/>\n",
       "<polygon fill=\"black\" stroke=\"black\" points=\"311.848,-46.8887 301.793,-50.2289 311.736,-53.8878 311.848,-46.8887\"/>\n",
       "</g>\n",
       "</g>\n",
       "</svg>\n"
      ],
      "text/plain": [
       "<graphviz.files.Source at 0x1075046d8>"
      ]
     },
     "execution_count": 20,
     "metadata": {},
     "output_type": "execute_result"
    }
   ],
   "source": [
    "# NFA for ((aa)+(bbb)+)+\n",
    "NFA23 = { 'Q': {'A0','A1','B0','B1','B2','F'},\n",
    "          'Sigma': {'0', '1'},\n",
    "          'Delta': { # \n",
    "                     ('A0', '0') : {'A1'},\n",
    "                     ('A1', '0') : {'B0'},\n",
    "                     #\n",
    "                     ('B0', '')  : {'A0'},\n",
    "                     #\n",
    "                     ('B0', '1') : {'B1'},\n",
    "                     ('B1', '1') : {'B2'},\n",
    "                     ('B2', '1') : {'F'},\n",
    "                     # \n",
    "                     ('F', '')   : {'B0'},\n",
    "                   },\n",
    "          'Q0': {'A0'}, \n",
    "          'F' : {'F'}   \n",
    "        }\n",
    "Source(dot_nfa(NFA23))"
   ]
  },
  {
   "cell_type": "code",
   "execution_count": 21,
   "metadata": {
    "run_control": {
     "frozen": false,
     "read_only": false
    }
   },
   "outputs": [
    {
     "data": {
      "image/svg+xml": [
       "<?xml version=\"1.0\" encoding=\"UTF-8\" standalone=\"no\"?>\n",
       "<!DOCTYPE svg PUBLIC \"-//W3C//DTD SVG 1.1//EN\"\n",
       " \"http://www.w3.org/Graphics/SVG/1.1/DTD/svg11.dtd\">\n",
       "<!-- Generated by graphviz version 2.38.0 (20140413.2041)\n",
       " -->\n",
       "<!-- Title: G Pages: 1 -->\n",
       "<svg width=\"570pt\" height=\"116pt\"\n",
       " viewBox=\"0.00 0.00 570.12 116.34\" xmlns=\"http://www.w3.org/2000/svg\" xmlns:xlink=\"http://www.w3.org/1999/xlink\">\n",
       "<g id=\"graph0\" class=\"graph\" transform=\"scale(1 1) rotate(0) translate(4 112.342)\">\n",
       "<title>G</title>\n",
       "<polygon fill=\"white\" stroke=\"none\" points=\"-4,4 -4,-112.342 566.115,-112.342 566.115,4 -4,4\"/>\n",
       "<g id=\"node1\" class=\"node\"><title></title>\n",
       "</g>\n",
       "<!-- A0 -->\n",
       "<g id=\"node5\" class=\"node\"><title>A0</title>\n",
       "<ellipse fill=\"none\" stroke=\"black\" cx=\"111.915\" cy=\"-55.915\" rx=\"20.8304\" ry=\"20.8304\"/>\n",
       "<text text-anchor=\"middle\" x=\"111.915\" y=\"-51.715\" font-family=\"Times,serif\" font-size=\"14.00\">A0</text>\n",
       "</g>\n",
       "<!-- &#45;&gt;A0 -->\n",
       "<g id=\"edge1\" class=\"edge\"><title>&#45;&gt;A0</title>\n",
       "<path fill=\"none\" stroke=\"black\" d=\"M54.2348,-55.915C62.6673,-55.915 72.0756,-55.915 80.766,-55.915\"/>\n",
       "<polygon fill=\"black\" stroke=\"black\" points=\"80.8965,-59.4151 90.8965,-55.915 80.8964,-52.4151 80.8965,-59.4151\"/>\n",
       "</g>\n",
       "<!-- B1 -->\n",
       "<g id=\"node2\" class=\"node\"><title>B1</title>\n",
       "<ellipse fill=\"none\" stroke=\"black\" cx=\"364.941\" cy=\"-87.915\" rx=\"20.3544\" ry=\"20.3544\"/>\n",
       "<text text-anchor=\"middle\" x=\"364.941\" y=\"-83.715\" font-family=\"Times,serif\" font-size=\"14.00\">B1</text>\n",
       "</g>\n",
       "<!-- B2 -->\n",
       "<g id=\"node4\" class=\"node\"><title>B2</title>\n",
       "<ellipse fill=\"none\" stroke=\"black\" cx=\"454.688\" cy=\"-87.915\" rx=\"20.3544\" ry=\"20.3544\"/>\n",
       "<text text-anchor=\"middle\" x=\"454.688\" y=\"-83.715\" font-family=\"Times,serif\" font-size=\"14.00\">B2</text>\n",
       "</g>\n",
       "<!-- B1&#45;&gt;B2 -->\n",
       "<g id=\"edge6\" class=\"edge\"><title>B1&#45;&gt;B2</title>\n",
       "<path fill=\"none\" stroke=\"black\" d=\"M385.415,-87.915C396.697,-87.915 411.134,-87.915 423.824,-87.915\"/>\n",
       "<polygon fill=\"black\" stroke=\"black\" points=\"423.965,-91.4151 433.965,-87.915 423.965,-84.4151 423.965,-91.4151\"/>\n",
       "<text text-anchor=\"middle\" x=\"409.815\" y=\"-90.715\" font-family=\"Times,serif\" font-size=\"14.00\">1</text>\n",
       "</g>\n",
       "<!-- B0 -->\n",
       "<g id=\"node3\" class=\"node\"><title>B0</title>\n",
       "<ellipse fill=\"none\" stroke=\"black\" cx=\"281.087\" cy=\"-55.915\" rx=\"20.3544\" ry=\"20.3544\"/>\n",
       "<text text-anchor=\"middle\" x=\"281.087\" y=\"-51.715\" font-family=\"Times,serif\" font-size=\"14.00\">B0</text>\n",
       "</g>\n",
       "<!-- B0&#45;&gt;B1 -->\n",
       "<g id=\"edge5\" class=\"edge\"><title>B0&#45;&gt;B1</title>\n",
       "<path fill=\"none\" stroke=\"black\" d=\"M300.253,-63.0169C310.777,-67.131 324.245,-72.3961 336.083,-77.024\"/>\n",
       "<polygon fill=\"black\" stroke=\"black\" points=\"334.955,-80.341 345.543,-80.7224 337.504,-73.8215 334.955,-80.341\"/>\n",
       "<text text-anchor=\"middle\" x=\"323.014\" y=\"-74.715\" font-family=\"Times,serif\" font-size=\"14.00\">1</text>\n",
       "</g>\n",
       "<!-- B0&#45;&gt;A0 -->\n",
       "<g id=\"edge4\" class=\"edge\"><title>B0&#45;&gt;A0</title>\n",
       "<path fill=\"none\" stroke=\"black\" d=\"M260.67,-57.1501C254.878,-57.4651 248.514,-57.7587 242.66,-57.915 201.861,-59.0043 191.629,-58.9903 150.83,-57.915 148.293,-57.8482 145.662,-57.7562 143.022,-57.6481\"/>\n",
       "<polygon fill=\"black\" stroke=\"black\" points=\"143.133,-54.1495 132.978,-57.1711 142.8,-61.1417 143.133,-54.1495\"/>\n",
       "<text text-anchor=\"middle\" x=\"196.745\" y=\"-60.715\" font-family=\"Times,serif\" font-size=\"14.00\">@</text>\n",
       "</g>\n",
       "<!-- F -->\n",
       "<g id=\"node7\" class=\"node\"><title>F</title>\n",
       "<ellipse fill=\"none\" stroke=\"black\" cx=\"540.115\" cy=\"-59.915\" rx=\"18\" ry=\"18\"/>\n",
       "<ellipse fill=\"none\" stroke=\"black\" cx=\"540.115\" cy=\"-59.915\" rx=\"22\" ry=\"22\"/>\n",
       "<text text-anchor=\"middle\" x=\"540.115\" y=\"-55.715\" font-family=\"Times,serif\" font-size=\"14.00\">F</text>\n",
       "</g>\n",
       "<!-- B2&#45;&gt;F -->\n",
       "<g id=\"edge7\" class=\"edge\"><title>B2&#45;&gt;F</title>\n",
       "<path fill=\"none\" stroke=\"black\" d=\"M474.203,-81.7009C484.451,-78.2616 497.437,-73.9032 509.097,-69.9898\"/>\n",
       "<polygon fill=\"black\" stroke=\"black\" points=\"510.533,-73.1997 518.9,-66.6997 508.306,-66.5635 510.533,-73.1997\"/>\n",
       "<text text-anchor=\"middle\" x=\"496.615\" y=\"-76.715\" font-family=\"Times,serif\" font-size=\"14.00\">1</text>\n",
       "</g>\n",
       "<!-- A1 -->\n",
       "<g id=\"node6\" class=\"node\"><title>A1</title>\n",
       "<ellipse fill=\"none\" stroke=\"black\" cx=\"196.745\" cy=\"-20.915\" rx=\"20.8304\" ry=\"20.8304\"/>\n",
       "<text text-anchor=\"middle\" x=\"196.745\" y=\"-16.715\" font-family=\"Times,serif\" font-size=\"14.00\">A1</text>\n",
       "</g>\n",
       "<!-- A0&#45;&gt;A1 -->\n",
       "<g id=\"edge2\" class=\"edge\"><title>A0&#45;&gt;A1</title>\n",
       "<path fill=\"none\" stroke=\"black\" d=\"M131.71,-47.973C142.375,-43.4665 155.927,-37.7402 167.815,-32.717\"/>\n",
       "<polygon fill=\"black\" stroke=\"black\" points=\"169.46,-35.8214 177.309,-28.7051 166.736,-29.3734 169.46,-35.8214\"/>\n",
       "<text text-anchor=\"middle\" x=\"154.33\" y=\"-42.715\" font-family=\"Times,serif\" font-size=\"14.00\">0</text>\n",
       "</g>\n",
       "<!-- A1&#45;&gt;B0 -->\n",
       "<g id=\"edge3\" class=\"edge\"><title>A1&#45;&gt;B0</title>\n",
       "<path fill=\"none\" stroke=\"black\" d=\"M216.43,-28.8571C227.106,-33.3951 240.692,-39.17 252.569,-44.2183\"/>\n",
       "<polygon fill=\"black\" stroke=\"black\" points=\"251.47,-47.5541 262.042,-48.2449 254.208,-41.1119 251.47,-47.5541\"/>\n",
       "<text text-anchor=\"middle\" x=\"239.16\" y=\"-42.715\" font-family=\"Times,serif\" font-size=\"14.00\">0</text>\n",
       "</g>\n",
       "<!-- F&#45;&gt;B0 -->\n",
       "<g id=\"edge8\" class=\"edge\"><title>F&#45;&gt;B0</title>\n",
       "<path fill=\"none\" stroke=\"black\" d=\"M518.073,-59.5858C505.587,-59.3906 489.448,-59.1384 475.115,-58.915 417.316,-58.0143 349.781,-56.9655 311.865,-56.3771\"/>\n",
       "<polygon fill=\"black\" stroke=\"black\" points=\"311.593,-52.8725 301.54,-56.2168 311.485,-59.8717 311.593,-52.8725\"/>\n",
       "<text text-anchor=\"middle\" x=\"409.815\" y=\"-60.715\" font-family=\"Times,serif\" font-size=\"14.00\">@</text>\n",
       "</g>\n",
       "</g>\n",
       "</svg>\n"
      ],
      "text/plain": [
       "<graphviz.files.Source at 0x108184748>"
      ]
     },
     "execution_count": 21,
     "metadata": {},
     "output_type": "execute_result"
    }
   ],
   "source": [
    "Source(dot_nfa(NFA23, visible_eps=True))"
   ]
  },
  {
   "cell_type": "code",
   "execution_count": 22,
   "metadata": {
    "editable": false,
    "run_control": {
     "frozen": false,
     "read_only": false
    }
   },
   "outputs": [
    {
     "data": {
      "text/plain": [
       "{'A0'}"
      ]
     },
     "execution_count": 22,
     "metadata": {},
     "output_type": "execute_result"
    }
   ],
   "source": [
    "NFA23[\"Q0\"]"
   ]
  },
  {
   "cell_type": "code",
   "execution_count": 23,
   "metadata": {
    "editable": false,
    "run_control": {
     "frozen": false,
     "read_only": false
    }
   },
   "outputs": [
    {
     "name": "stdout",
     "output_type": "stream",
     "text": [
      "States reached =  {'A1'}\n"
     ]
    },
    {
     "data": {
      "text/plain": [
       "{'A1'}"
      ]
     },
     "execution_count": 23,
     "metadata": {},
     "output_type": "execute_result"
    }
   ],
   "source": [
    "run_nfa(NFA23, NFA23[\"Q0\"], '0', True)"
   ]
  },
  {
   "cell_type": "code",
   "execution_count": 24,
   "metadata": {
    "editable": false,
    "run_control": {
     "frozen": false,
     "read_only": false
    }
   },
   "outputs": [
    {
     "data": {
      "image/svg+xml": [
       "<?xml version=\"1.0\" encoding=\"UTF-8\" standalone=\"no\"?>\n",
       "<!DOCTYPE svg PUBLIC \"-//W3C//DTD SVG 1.1//EN\"\n",
       " \"http://www.w3.org/Graphics/SVG/1.1/DTD/svg11.dtd\">\n",
       "<!-- Generated by graphviz version 2.38.0 (20140413.2041)\n",
       " -->\n",
       "<!-- Title: G Pages: 1 -->\n",
       "<svg width=\"468pt\" height=\"112pt\"\n",
       " viewBox=\"0.00 0.00 467.68 112.00\" xmlns=\"http://www.w3.org/2000/svg\" xmlns:xlink=\"http://www.w3.org/1999/xlink\">\n",
       "<g id=\"graph0\" class=\"graph\" transform=\"scale(1 1) rotate(0) translate(4 108)\">\n",
       "<title>G</title>\n",
       "<polygon fill=\"white\" stroke=\"none\" points=\"-4,4 -4,-108 463.681,-108 463.681,4 -4,4\"/>\n",
       "<g id=\"node1\" class=\"node\"><title></title>\n",
       "</g>\n",
       "<!-- I -->\n",
       "<g id=\"node3\" class=\"node\"><title>I</title>\n",
       "<ellipse fill=\"none\" stroke=\"black\" cx=\"109\" cy=\"-22\" rx=\"18\" ry=\"18\"/>\n",
       "<text text-anchor=\"middle\" x=\"109\" y=\"-17.8\" font-family=\"Times,serif\" font-size=\"14.00\">I</text>\n",
       "</g>\n",
       "<!-- &#45;&gt;I -->\n",
       "<g id=\"edge1\" class=\"edge\"><title>&#45;&gt;I</title>\n",
       "<path fill=\"none\" stroke=\"black\" d=\"M54.195,-22C62.6538,-22 72.0513,-22 80.5951,-22\"/>\n",
       "<polygon fill=\"black\" stroke=\"black\" points=\"80.8257,-25.5001 90.8257,-22 80.8257,-18.5001 80.8257,-25.5001\"/>\n",
       "</g>\n",
       "<!-- S1 -->\n",
       "<g id=\"node2\" class=\"node\"><title>S1</title>\n",
       "<ellipse fill=\"none\" stroke=\"black\" cx=\"271.341\" cy=\"-22\" rx=\"19.3939\" ry=\"19.3939\"/>\n",
       "<text text-anchor=\"middle\" x=\"271.341\" y=\"-17.8\" font-family=\"Times,serif\" font-size=\"14.00\">S1</text>\n",
       "</g>\n",
       "<!-- S2 -->\n",
       "<g id=\"node4\" class=\"node\"><title>S2</title>\n",
       "<ellipse fill=\"none\" stroke=\"black\" cx=\"353.234\" cy=\"-22\" rx=\"19.3939\" ry=\"19.3939\"/>\n",
       "<text text-anchor=\"middle\" x=\"353.234\" y=\"-17.8\" font-family=\"Times,serif\" font-size=\"14.00\">S2</text>\n",
       "</g>\n",
       "<!-- S1&#45;&gt;S2 -->\n",
       "<g id=\"edge7\" class=\"edge\"><title>S1&#45;&gt;S2</title>\n",
       "<path fill=\"none\" stroke=\"black\" d=\"M290.871,-22C300.482,-22 312.441,-22 323.243,-22\"/>\n",
       "<polygon fill=\"black\" stroke=\"black\" points=\"323.528,-25.5001 333.528,-22 323.528,-18.5001 323.528,-25.5001\"/>\n",
       "<text text-anchor=\"middle\" x=\"312.287\" y=\"-24.8\" font-family=\"Times,serif\" font-size=\"14.00\">0</text>\n",
       "</g>\n",
       "<!-- S1&#45;&gt;S2 -->\n",
       "<g id=\"edge8\" class=\"edge\"><title>S1&#45;&gt;S2</title>\n",
       "<path fill=\"none\" stroke=\"black\" d=\"M287.218,-10.7423C295.427,-5.8494 305.929,-1.69819 315.787,-4 319.511,-4.86945 323.292,-6.1773 326.938,-7.69901\"/>\n",
       "<polygon fill=\"black\" stroke=\"black\" points=\"325.61,-10.9431 336.145,-12.0723 328.614,-4.62018 325.61,-10.9431\"/>\n",
       "<text text-anchor=\"middle\" x=\"312.287\" y=\"-6.8\" font-family=\"Times,serif\" font-size=\"14.00\">1</text>\n",
       "</g>\n",
       "<!-- I&#45;&gt;I -->\n",
       "<g id=\"edge2\" class=\"edge\"><title>I&#45;&gt;I</title>\n",
       "<path fill=\"none\" stroke=\"black\" d=\"M105.764,-39.7817C105.214,-49.3149 106.293,-58 109,-58 110.65,-58 111.694,-54.7749 112.135,-50.0981\"/>\n",
       "<polygon fill=\"black\" stroke=\"black\" points=\"115.638,-49.8156 112.236,-39.7817 108.638,-49.7469 115.638,-49.8156\"/>\n",
       "<text text-anchor=\"middle\" x=\"109\" y=\"-60.8\" font-family=\"Times,serif\" font-size=\"14.00\">0</text>\n",
       "</g>\n",
       "<!-- I&#45;&gt;I -->\n",
       "<g id=\"edge3\" class=\"edge\"><title>I&#45;&gt;I</title>\n",
       "<path fill=\"none\" stroke=\"black\" d=\"M103.684,-39.4203C100.654,-56.791 102.426,-76 109,-76 114.29,-76 116.471,-63.5617 115.542,-49.652\"/>\n",
       "<polygon fill=\"black\" stroke=\"black\" points=\"118.981,-48.9328 114.316,-39.4203 112.031,-49.7657 118.981,-48.9328\"/>\n",
       "<text text-anchor=\"middle\" x=\"109\" y=\"-78.8\" font-family=\"Times,serif\" font-size=\"14.00\">1</text>\n",
       "</g>\n",
       "<!-- S0 -->\n",
       "<g id=\"node5\" class=\"node\"><title>S0</title>\n",
       "<ellipse fill=\"none\" stroke=\"black\" cx=\"189.447\" cy=\"-22\" rx=\"19.3939\" ry=\"19.3939\"/>\n",
       "<text text-anchor=\"middle\" x=\"189.447\" y=\"-17.8\" font-family=\"Times,serif\" font-size=\"14.00\">S0</text>\n",
       "</g>\n",
       "<!-- I&#45;&gt;S0 -->\n",
       "<g id=\"edge4\" class=\"edge\"><title>I&#45;&gt;S0</title>\n",
       "<path fill=\"none\" stroke=\"black\" d=\"M127.022,-22C136.583,-22 148.77,-22 159.763,-22\"/>\n",
       "<polygon fill=\"black\" stroke=\"black\" points=\"159.813,-25.5001 169.813,-22 159.813,-18.5001 159.813,-25.5001\"/>\n",
       "<text text-anchor=\"middle\" x=\"148.5\" y=\"-24.8\" font-family=\"Times,serif\" font-size=\"14.00\">1</text>\n",
       "</g>\n",
       "<!-- I&#45;&gt;S0 -->\n",
       "<g id=\"edge5\" class=\"edge\"><title>I&#45;&gt;S0</title>\n",
       "<path fill=\"none\" stroke=\"black\" d=\"M127.081,-20.8282C132.778,-20.4897 139.16,-20.1667 145,-20 149.713,-19.8655 154.711,-19.9155 159.575,-20.0681\"/>\n",
       "<polygon fill=\"black\" stroke=\"black\" points=\"159.699,-23.5772 169.847,-20.5342 160.016,-16.5844 159.699,-23.5772\"/>\n",
       "</g>\n",
       "<!-- F -->\n",
       "<g id=\"node6\" class=\"node\"><title>F</title>\n",
       "<ellipse fill=\"none\" stroke=\"black\" cx=\"437.681\" cy=\"-22\" rx=\"18\" ry=\"18\"/>\n",
       "<ellipse fill=\"none\" stroke=\"black\" cx=\"437.681\" cy=\"-22\" rx=\"22\" ry=\"22\"/>\n",
       "<text text-anchor=\"middle\" x=\"437.681\" y=\"-17.8\" font-family=\"Times,serif\" font-size=\"14.00\">F</text>\n",
       "</g>\n",
       "<!-- S2&#45;&gt;F -->\n",
       "<g id=\"edge9\" class=\"edge\"><title>S2&#45;&gt;F</title>\n",
       "<path fill=\"none\" stroke=\"black\" d=\"M372.943,-22C382.52,-22 394.436,-22 405.364,-22\"/>\n",
       "<polygon fill=\"black\" stroke=\"black\" points=\"405.431,-25.5001 415.431,-22 405.431,-18.5001 405.431,-25.5001\"/>\n",
       "<text text-anchor=\"middle\" x=\"394.181\" y=\"-24.8\" font-family=\"Times,serif\" font-size=\"14.00\">0</text>\n",
       "</g>\n",
       "<!-- S2&#45;&gt;F -->\n",
       "<g id=\"edge10\" class=\"edge\"><title>S2&#45;&gt;F</title>\n",
       "<path fill=\"none\" stroke=\"black\" d=\"M370.324,-12.0723C376.461,-8.82659 383.671,-5.63661 390.681,-4 397.039,-2.51573 403.683,-3.50584 409.881,-5.63\"/>\n",
       "<polygon fill=\"black\" stroke=\"black\" points=\"408.585,-8.88387 419.148,-9.7088 411.405,-2.47695 408.585,-8.88387\"/>\n",
       "<text text-anchor=\"middle\" x=\"394.181\" y=\"-6.8\" font-family=\"Times,serif\" font-size=\"14.00\">1</text>\n",
       "</g>\n",
       "<!-- S0&#45;&gt;S1 -->\n",
       "<g id=\"edge6\" class=\"edge\"><title>S0&#45;&gt;S1</title>\n",
       "<path fill=\"none\" stroke=\"black\" d=\"M208.977,-22C218.588,-22 230.548,-22 241.349,-22\"/>\n",
       "<polygon fill=\"black\" stroke=\"black\" points=\"241.634,-25.5001 251.634,-22 241.634,-18.5001 241.634,-25.5001\"/>\n",
       "<text text-anchor=\"middle\" x=\"230.394\" y=\"-24.8\" font-family=\"Times,serif\" font-size=\"14.00\">1</text>\n",
       "</g>\n",
       "</g>\n",
       "</svg>\n"
      ],
      "text/plain": [
       "<graphviz.files.Source at 0x108184668>"
      ]
     },
     "execution_count": 24,
     "metadata": {},
     "output_type": "execute_result"
    }
   ],
   "source": [
    "Source(dot_nfa(NFA_fig61ab))"
   ]
  },
  {
   "cell_type": "code",
   "execution_count": 25,
   "metadata": {
    "editable": false,
    "run_control": {
     "frozen": false,
     "read_only": false
    }
   },
   "outputs": [
    {
     "data": {
      "text/plain": [
       "{'A0'}"
      ]
     },
     "execution_count": 25,
     "metadata": {},
     "output_type": "execute_result"
    }
   ],
   "source": [
    "run_nfa(NFA23, set({'A0'}), '', True)"
   ]
  },
  {
   "cell_type": "code",
   "execution_count": 26,
   "metadata": {
    "editable": false,
    "run_control": {
     "frozen": false,
     "read_only": false
    }
   },
   "outputs": [
    {
     "data": {
      "text/plain": [
       "{'I', 'S0'}"
      ]
     },
     "execution_count": 26,
     "metadata": {},
     "output_type": "execute_result"
    }
   ],
   "source": [
    "Eclosure(NFA_fig61ab, {\"I\"})"
   ]
  },
  {
   "cell_type": "code",
   "execution_count": 27,
   "metadata": {
    "editable": false,
    "run_control": {
     "frozen": false,
     "read_only": false
    }
   },
   "outputs": [
    {
     "data": {
      "text/plain": [
       "{'S0'}"
      ]
     },
     "execution_count": 27,
     "metadata": {},
     "output_type": "execute_result"
    }
   ],
   "source": [
    "Eclosure(NFA_fig61ab, {\"S0\"})"
   ]
  },
  {
   "cell_type": "code",
   "execution_count": 28,
   "metadata": {
    "editable": false,
    "run_control": {
     "frozen": false,
     "read_only": false
    }
   },
   "outputs": [
    {
     "data": {
      "text/plain": [
       "{'I', 'S0'}"
      ]
     },
     "execution_count": 28,
     "metadata": {},
     "output_type": "execute_result"
    }
   ],
   "source": [
    "run_nfa(NFA_fig61ab,{\"I\"},\"\")"
   ]
  },
  {
   "cell_type": "code",
   "execution_count": 29,
   "metadata": {
    "editable": false,
    "run_control": {
     "frozen": false,
     "read_only": false
    }
   },
   "outputs": [
    {
     "data": {
      "text/plain": [
       "{'I', 'S0'}"
      ]
     },
     "execution_count": 29,
     "metadata": {},
     "output_type": "execute_result"
    }
   ],
   "source": [
    "run_nfa(NFA_fig61ab,{\"I\"},\"\", True)"
   ]
  },
  {
   "cell_type": "code",
   "execution_count": 30,
   "metadata": {
    "editable": false,
    "run_control": {
     "frozen": false,
     "read_only": false
    }
   },
   "outputs": [
    {
     "data": {
      "text/plain": [
       "{'I', 'S0'}"
      ]
     },
     "execution_count": 30,
     "metadata": {},
     "output_type": "execute_result"
    }
   ],
   "source": [
    "run_nfa(NFA_fig61ab,{\"I\"},\"0\")"
   ]
  },
  {
   "cell_type": "code",
   "execution_count": 31,
   "metadata": {
    "editable": false,
    "run_control": {
     "frozen": false,
     "read_only": false
    }
   },
   "outputs": [
    {
     "data": {
      "text/plain": [
       "{'I', 'S0', 'S1'}"
      ]
     },
     "execution_count": 31,
     "metadata": {},
     "output_type": "execute_result"
    }
   ],
   "source": [
    "run_nfa(NFA_fig61ab,{\"I\"},\"1\")"
   ]
  },
  {
   "cell_type": "code",
   "execution_count": 32,
   "metadata": {
    "editable": false,
    "run_control": {
     "frozen": false,
     "read_only": false
    }
   },
   "outputs": [
    {
     "data": {
      "text/plain": [
       "{'F', 'I', 'S0'}"
      ]
     },
     "execution_count": 32,
     "metadata": {},
     "output_type": "execute_result"
    }
   ],
   "source": [
    "run_nfa(NFA_fig61ab,{\"I\"},\"100\")"
   ]
  },
  {
   "cell_type": "code",
   "execution_count": 33,
   "metadata": {
    "editable": false,
    "run_control": {
     "frozen": false,
     "read_only": false
    }
   },
   "outputs": [
    {
     "name": "stdout",
     "output_type": "stream",
     "text": [
      "States reached =  {'S1', 'I', 'S0'}\n",
      "States reached =  {'I', 'S2', 'S0'}\n",
      "States reached =  {'I', 'S0', 'F'}\n"
     ]
    },
    {
     "data": {
      "text/plain": [
       "{'F', 'I', 'S0'}"
      ]
     },
     "execution_count": 33,
     "metadata": {},
     "output_type": "execute_result"
    }
   ],
   "source": [
    "run_nfa(NFA_fig61ab,{\"I\"},\"100\", True)"
   ]
  },
  {
   "cell_type": "code",
   "execution_count": 34,
   "metadata": {
    "editable": false,
    "run_control": {
     "frozen": false,
     "read_only": false
    }
   },
   "outputs": [
    {
     "data": {
      "text/plain": [
       "{'F', 'I', 'S0', 'S2'}"
      ]
     },
     "execution_count": 34,
     "metadata": {},
     "output_type": "execute_result"
    }
   ],
   "source": [
    "run_nfa(NFA_fig61ab,{\"I\"},\"00110\")"
   ]
  },
  {
   "cell_type": "code",
   "execution_count": 35,
   "metadata": {
    "editable": false,
    "run_control": {
     "frozen": false,
     "read_only": false
    }
   },
   "outputs": [
    {
     "name": "stdout",
     "output_type": "stream",
     "text": [
      "States reached =  {'I', 'S0'}\n",
      "States reached =  {'I', 'S0'}\n",
      "States reached =  {'S1', 'I', 'S0'}\n",
      "States reached =  {'S0', 'S1', 'S2', 'I'}\n",
      "States reached =  {'S0', 'S2', 'F', 'I'}\n"
     ]
    },
    {
     "data": {
      "text/plain": [
       "{'F', 'I', 'S0', 'S2'}"
      ]
     },
     "execution_count": 35,
     "metadata": {},
     "output_type": "execute_result"
    }
   ],
   "source": [
    "run_nfa(NFA_fig61ab,{\"I\"},\"00110\", True)"
   ]
  },
  {
   "cell_type": "code",
   "execution_count": 36,
   "metadata": {
    "editable": false,
    "run_control": {
     "frozen": false,
     "read_only": false
    },
    "scrolled": true
   },
   "outputs": [
    {
     "data": {
      "text/plain": [
       "False"
      ]
     },
     "execution_count": 36,
     "metadata": {},
     "output_type": "execute_result"
    }
   ],
   "source": [
    "accepts_nfa(NFA_fig61ab, \"\")"
   ]
  },
  {
   "cell_type": "code",
   "execution_count": 37,
   "metadata": {
    "editable": false,
    "run_control": {
     "frozen": false,
     "read_only": false
    }
   },
   "outputs": [
    {
     "name": "stdout",
     "output_type": "stream",
     "text": [
      "NFA rejects ''\n"
     ]
    },
    {
     "data": {
      "text/plain": [
       "False"
      ]
     },
     "execution_count": 37,
     "metadata": {},
     "output_type": "execute_result"
    }
   ],
   "source": [
    "accepts_nfa(NFA_fig61ab, \"\", True)"
   ]
  },
  {
   "cell_type": "code",
   "execution_count": 38,
   "metadata": {
    "editable": false,
    "run_control": {
     "frozen": false,
     "read_only": false
    }
   },
   "outputs": [
    {
     "name": "stdout",
     "output_type": "stream",
     "text": [
      "States reached =  {'I', 'S0'}\n",
      "NFA rejects '0'\n"
     ]
    },
    {
     "data": {
      "text/plain": [
       "False"
      ]
     },
     "execution_count": 38,
     "metadata": {},
     "output_type": "execute_result"
    }
   ],
   "source": [
    "accepts_nfa(NFA_fig61ab, \"0\", True)"
   ]
  },
  {
   "cell_type": "code",
   "execution_count": 39,
   "metadata": {
    "editable": false,
    "run_control": {
     "frozen": false,
     "read_only": false
    }
   },
   "outputs": [
    {
     "name": "stdout",
     "output_type": "stream",
     "text": [
      "States reached =  {'S1', 'I', 'S0'}\n",
      "States reached =  {'I', 'S2', 'S0'}\n",
      "States reached =  {'I', 'S0', 'F'}\n",
      "NFA accepts '100' by reaching {'I', 'S0', 'F'}\n"
     ]
    },
    {
     "data": {
      "text/plain": [
       "True"
      ]
     },
     "execution_count": 39,
     "metadata": {},
     "output_type": "execute_result"
    }
   ],
   "source": [
    "accepts_nfa(NFA_fig61ab, \"100\", True)"
   ]
  },
  {
   "cell_type": "code",
   "execution_count": 40,
   "metadata": {
    "editable": false,
    "run_control": {
     "frozen": false,
     "read_only": false
    }
   },
   "outputs": [
    {
     "data": {
      "image/svg+xml": [
       "<?xml version=\"1.0\" encoding=\"UTF-8\" standalone=\"no\"?>\n",
       "<!DOCTYPE svg PUBLIC \"-//W3C//DTD SVG 1.1//EN\"\n",
       " \"http://www.w3.org/Graphics/SVG/1.1/DTD/svg11.dtd\">\n",
       "<!-- Generated by graphviz version 2.38.0 (20140413.2041)\n",
       " -->\n",
       "<!-- Title: %3 Pages: 1 -->\n",
       "<svg width=\"570pt\" height=\"116pt\"\n",
       " viewBox=\"0.00 0.00 570.12 116.34\" xmlns=\"http://www.w3.org/2000/svg\" xmlns:xlink=\"http://www.w3.org/1999/xlink\">\n",
       "<g id=\"graph0\" class=\"graph\" transform=\"scale(1 1) rotate(0) translate(4 112.342)\">\n",
       "<title>%3</title>\n",
       "<polygon fill=\"white\" stroke=\"none\" points=\"-4,4 -4,-112.342 566.115,-112.342 566.115,4 -4,4\"/>\n",
       "<!-- EMPTY -->\n",
       "<g id=\"node1\" class=\"node\"><title>EMPTY</title>\n",
       "</g>\n",
       "<!-- A0 -->\n",
       "<g id=\"node5\" class=\"node\"><title>A0</title>\n",
       "<ellipse fill=\"none\" stroke=\"black\" cx=\"111.915\" cy=\"-55.915\" rx=\"20.8304\" ry=\"20.8304\"/>\n",
       "<text text-anchor=\"middle\" x=\"111.915\" y=\"-51.715\" font-family=\"Times,serif\" font-size=\"14.00\">A0</text>\n",
       "</g>\n",
       "<!-- EMPTY&#45;&gt;A0 -->\n",
       "<g id=\"edge1\" class=\"edge\"><title>EMPTY&#45;&gt;A0</title>\n",
       "<path fill=\"none\" stroke=\"black\" d=\"M54.2348,-55.915C62.6673,-55.915 72.0756,-55.915 80.766,-55.915\"/>\n",
       "<polygon fill=\"black\" stroke=\"black\" points=\"80.8965,-59.4151 90.8965,-55.915 80.8964,-52.4151 80.8965,-59.4151\"/>\n",
       "</g>\n",
       "<!-- B1 -->\n",
       "<g id=\"node2\" class=\"node\"><title>B1</title>\n",
       "<ellipse fill=\"none\" stroke=\"black\" cx=\"364.941\" cy=\"-87.915\" rx=\"20.3544\" ry=\"20.3544\"/>\n",
       "<text text-anchor=\"middle\" x=\"364.941\" y=\"-83.715\" font-family=\"Times,serif\" font-size=\"14.00\">B1</text>\n",
       "</g>\n",
       "<!-- B2 -->\n",
       "<g id=\"node4\" class=\"node\"><title>B2</title>\n",
       "<ellipse fill=\"none\" stroke=\"black\" cx=\"454.688\" cy=\"-87.915\" rx=\"20.3544\" ry=\"20.3544\"/>\n",
       "<text text-anchor=\"middle\" x=\"454.688\" y=\"-83.715\" font-family=\"Times,serif\" font-size=\"14.00\">B2</text>\n",
       "</g>\n",
       "<!-- B1&#45;&gt;B2 -->\n",
       "<g id=\"edge6\" class=\"edge\"><title>B1&#45;&gt;B2</title>\n",
       "<path fill=\"none\" stroke=\"black\" d=\"M385.415,-87.915C396.697,-87.915 411.134,-87.915 423.824,-87.915\"/>\n",
       "<polygon fill=\"black\" stroke=\"black\" points=\"423.965,-91.4151 433.965,-87.915 423.965,-84.4151 423.965,-91.4151\"/>\n",
       "<text text-anchor=\"middle\" x=\"409.815\" y=\"-90.715\" font-family=\"Times,serif\" font-size=\"14.00\">1</text>\n",
       "</g>\n",
       "<!-- B0 -->\n",
       "<g id=\"node3\" class=\"node\"><title>B0</title>\n",
       "<ellipse fill=\"none\" stroke=\"black\" cx=\"281.087\" cy=\"-55.915\" rx=\"20.3544\" ry=\"20.3544\"/>\n",
       "<text text-anchor=\"middle\" x=\"281.087\" y=\"-51.715\" font-family=\"Times,serif\" font-size=\"14.00\">B0</text>\n",
       "</g>\n",
       "<!-- B0&#45;&gt;B1 -->\n",
       "<g id=\"edge5\" class=\"edge\"><title>B0&#45;&gt;B1</title>\n",
       "<path fill=\"none\" stroke=\"black\" d=\"M300.253,-63.0169C310.777,-67.131 324.245,-72.3961 336.083,-77.024\"/>\n",
       "<polygon fill=\"black\" stroke=\"black\" points=\"334.955,-80.341 345.543,-80.7224 337.504,-73.8215 334.955,-80.341\"/>\n",
       "<text text-anchor=\"middle\" x=\"323.014\" y=\"-74.715\" font-family=\"Times,serif\" font-size=\"14.00\">1</text>\n",
       "</g>\n",
       "<!-- B0&#45;&gt;A0 -->\n",
       "<g id=\"edge4\" class=\"edge\"><title>B0&#45;&gt;A0</title>\n",
       "<path fill=\"none\" stroke=\"black\" d=\"M260.67,-57.1501C254.878,-57.4651 248.514,-57.7587 242.66,-57.915 201.861,-59.0043 191.629,-58.9903 150.83,-57.915 148.293,-57.8482 145.662,-57.7562 143.022,-57.6481\"/>\n",
       "<polygon fill=\"black\" stroke=\"black\" points=\"143.133,-54.1495 132.978,-57.1711 142.8,-61.1417 143.133,-54.1495\"/>\n",
       "<text text-anchor=\"middle\" x=\"196.745\" y=\"-60.715\" font-family=\"Times,serif\" font-size=\"14.00\">@</text>\n",
       "</g>\n",
       "<!-- F -->\n",
       "<g id=\"node7\" class=\"node\"><title>F</title>\n",
       "<ellipse fill=\"none\" stroke=\"black\" cx=\"540.115\" cy=\"-59.915\" rx=\"18\" ry=\"18\"/>\n",
       "<ellipse fill=\"none\" stroke=\"black\" cx=\"540.115\" cy=\"-59.915\" rx=\"22\" ry=\"22\"/>\n",
       "<text text-anchor=\"middle\" x=\"540.115\" y=\"-55.715\" font-family=\"Times,serif\" font-size=\"14.00\">F</text>\n",
       "</g>\n",
       "<!-- B2&#45;&gt;F -->\n",
       "<g id=\"edge7\" class=\"edge\"><title>B2&#45;&gt;F</title>\n",
       "<path fill=\"none\" stroke=\"black\" d=\"M474.203,-81.7009C484.451,-78.2616 497.437,-73.9032 509.097,-69.9898\"/>\n",
       "<polygon fill=\"black\" stroke=\"black\" points=\"510.533,-73.1997 518.9,-66.6997 508.306,-66.5635 510.533,-73.1997\"/>\n",
       "<text text-anchor=\"middle\" x=\"496.615\" y=\"-76.715\" font-family=\"Times,serif\" font-size=\"14.00\">1</text>\n",
       "</g>\n",
       "<!-- A1 -->\n",
       "<g id=\"node6\" class=\"node\"><title>A1</title>\n",
       "<ellipse fill=\"none\" stroke=\"black\" cx=\"196.745\" cy=\"-20.915\" rx=\"20.8304\" ry=\"20.8304\"/>\n",
       "<text text-anchor=\"middle\" x=\"196.745\" y=\"-16.715\" font-family=\"Times,serif\" font-size=\"14.00\">A1</text>\n",
       "</g>\n",
       "<!-- A0&#45;&gt;A1 -->\n",
       "<g id=\"edge2\" class=\"edge\"><title>A0&#45;&gt;A1</title>\n",
       "<path fill=\"none\" stroke=\"black\" d=\"M131.71,-47.973C142.375,-43.4665 155.927,-37.7402 167.815,-32.717\"/>\n",
       "<polygon fill=\"black\" stroke=\"black\" points=\"169.46,-35.8214 177.309,-28.7051 166.736,-29.3734 169.46,-35.8214\"/>\n",
       "<text text-anchor=\"middle\" x=\"154.33\" y=\"-42.715\" font-family=\"Times,serif\" font-size=\"14.00\">0</text>\n",
       "</g>\n",
       "<!-- A1&#45;&gt;B0 -->\n",
       "<g id=\"edge3\" class=\"edge\"><title>A1&#45;&gt;B0</title>\n",
       "<path fill=\"none\" stroke=\"black\" d=\"M216.43,-28.8571C227.106,-33.3951 240.692,-39.17 252.569,-44.2183\"/>\n",
       "<polygon fill=\"black\" stroke=\"black\" points=\"251.47,-47.5541 262.042,-48.2449 254.208,-41.1119 251.47,-47.5541\"/>\n",
       "<text text-anchor=\"middle\" x=\"239.16\" y=\"-42.715\" font-family=\"Times,serif\" font-size=\"14.00\">0</text>\n",
       "</g>\n",
       "<!-- F&#45;&gt;B0 -->\n",
       "<g id=\"edge8\" class=\"edge\"><title>F&#45;&gt;B0</title>\n",
       "<path fill=\"none\" stroke=\"black\" d=\"M518.073,-59.5858C505.587,-59.3906 489.448,-59.1384 475.115,-58.915 417.316,-58.0143 349.781,-56.9655 311.865,-56.3771\"/>\n",
       "<polygon fill=\"black\" stroke=\"black\" points=\"311.593,-52.8725 301.54,-56.2168 311.485,-59.8717 311.593,-52.8725\"/>\n",
       "<text text-anchor=\"middle\" x=\"409.815\" y=\"-60.715\" font-family=\"Times,serif\" font-size=\"14.00\">@</text>\n",
       "</g>\n",
       "</g>\n",
       "</svg>\n"
      ],
      "text/plain": [
       "<graphviz.dot.Digraph at 0x108184860>"
      ]
     },
     "execution_count": 40,
     "metadata": {},
     "output_type": "execute_result"
    }
   ],
   "source": [
    "dotObj_nfa(NFA23, visible_eps=True, nfaName=\"NFA23\")"
   ]
  },
  {
   "cell_type": "code",
   "execution_count": 41,
   "metadata": {
    "run_control": {
     "frozen": false,
     "read_only": false
    }
   },
   "outputs": [
    {
     "data": {
      "image/svg+xml": [
       "<?xml version=\"1.0\" encoding=\"UTF-8\" standalone=\"no\"?>\n",
       "<!DOCTYPE svg PUBLIC \"-//W3C//DTD SVG 1.1//EN\"\n",
       " \"http://www.w3.org/Graphics/SVG/1.1/DTD/svg11.dtd\">\n",
       "<!-- Generated by graphviz version 2.38.0 (20140413.2041)\n",
       " -->\n",
       "<!-- Title: %3 Pages: 1 -->\n",
       "<svg width=\"564pt\" height=\"116pt\"\n",
       " viewBox=\"0.00 0.00 564.22 116.34\" xmlns=\"http://www.w3.org/2000/svg\" xmlns:xlink=\"http://www.w3.org/1999/xlink\">\n",
       "<g id=\"graph0\" class=\"graph\" transform=\"scale(1 1) rotate(0) translate(4 112.342)\">\n",
       "<title>%3</title>\n",
       "<polygon fill=\"white\" stroke=\"none\" points=\"-4,4 -4,-112.342 560.223,-112.342 560.223,4 -4,4\"/>\n",
       "<!-- EMPTY -->\n",
       "<g id=\"node1\" class=\"node\"><title>EMPTY</title>\n",
       "</g>\n",
       "<!-- A0 -->\n",
       "<g id=\"node5\" class=\"node\"><title>A0</title>\n",
       "<ellipse fill=\"none\" stroke=\"black\" cx=\"111.915\" cy=\"-55.915\" rx=\"20.8304\" ry=\"20.8304\"/>\n",
       "<text text-anchor=\"middle\" x=\"111.915\" y=\"-51.715\" font-family=\"Times,serif\" font-size=\"14.00\">A0</text>\n",
       "</g>\n",
       "<!-- EMPTY&#45;&gt;A0 -->\n",
       "<g id=\"edge1\" class=\"edge\"><title>EMPTY&#45;&gt;A0</title>\n",
       "<path fill=\"none\" stroke=\"black\" d=\"M54.2348,-55.915C62.6673,-55.915 72.0756,-55.915 80.766,-55.915\"/>\n",
       "<polygon fill=\"black\" stroke=\"black\" points=\"80.8965,-59.4151 90.8965,-55.915 80.8964,-52.4151 80.8965,-59.4151\"/>\n",
       "</g>\n",
       "<!-- B1 -->\n",
       "<g id=\"node2\" class=\"node\"><title>B1</title>\n",
       "<ellipse fill=\"none\" stroke=\"black\" cx=\"364.941\" cy=\"-87.915\" rx=\"20.3544\" ry=\"20.3544\"/>\n",
       "<text text-anchor=\"middle\" x=\"364.941\" y=\"-83.715\" font-family=\"Times,serif\" font-size=\"14.00\">B1</text>\n",
       "</g>\n",
       "<!-- B2 -->\n",
       "<g id=\"node4\" class=\"node\"><title>B2</title>\n",
       "<ellipse fill=\"none\" stroke=\"black\" cx=\"448.795\" cy=\"-87.915\" rx=\"20.3544\" ry=\"20.3544\"/>\n",
       "<text text-anchor=\"middle\" x=\"448.795\" y=\"-83.715\" font-family=\"Times,serif\" font-size=\"14.00\">B2</text>\n",
       "</g>\n",
       "<!-- B1&#45;&gt;B2 -->\n",
       "<g id=\"edge6\" class=\"edge\"><title>B1&#45;&gt;B2</title>\n",
       "<path fill=\"none\" stroke=\"black\" d=\"M385.756,-87.915C395.408,-87.915 407.218,-87.915 417.933,-87.915\"/>\n",
       "<polygon fill=\"black\" stroke=\"black\" points=\"418.163,-91.4151 428.163,-87.915 418.163,-84.4151 418.163,-91.4151\"/>\n",
       "<text text-anchor=\"middle\" x=\"406.868\" y=\"-90.715\" font-family=\"Times,serif\" font-size=\"14.00\">1</text>\n",
       "</g>\n",
       "<!-- B0 -->\n",
       "<g id=\"node3\" class=\"node\"><title>B0</title>\n",
       "<ellipse fill=\"none\" stroke=\"black\" cx=\"281.087\" cy=\"-55.915\" rx=\"20.3544\" ry=\"20.3544\"/>\n",
       "<text text-anchor=\"middle\" x=\"281.087\" y=\"-51.715\" font-family=\"Times,serif\" font-size=\"14.00\">B0</text>\n",
       "</g>\n",
       "<!-- B0&#45;&gt;B1 -->\n",
       "<g id=\"edge5\" class=\"edge\"><title>B0&#45;&gt;B1</title>\n",
       "<path fill=\"none\" stroke=\"black\" d=\"M300.253,-63.0169C310.777,-67.131 324.245,-72.3961 336.083,-77.024\"/>\n",
       "<polygon fill=\"black\" stroke=\"black\" points=\"334.955,-80.341 345.543,-80.7224 337.504,-73.8215 334.955,-80.341\"/>\n",
       "<text text-anchor=\"middle\" x=\"323.014\" y=\"-74.715\" font-family=\"Times,serif\" font-size=\"14.00\">1</text>\n",
       "</g>\n",
       "<!-- B0&#45;&gt;A0 -->\n",
       "<g id=\"edge4\" class=\"edge\"><title>B0&#45;&gt;A0</title>\n",
       "<path fill=\"none\" stroke=\"black\" d=\"M260.67,-57.1501C254.878,-57.4651 248.514,-57.7587 242.66,-57.915 201.861,-59.0043 191.629,-58.9903 150.83,-57.915 148.293,-57.8482 145.662,-57.7562 143.022,-57.6481\"/>\n",
       "<polygon fill=\"black\" stroke=\"black\" points=\"143.133,-54.1495 132.978,-57.1711 142.8,-61.1417 143.133,-54.1495\"/>\n",
       "<text text-anchor=\"middle\" x=\"196.745\" y=\"-60.715\" font-family=\"Times,serif\" font-size=\"14.00\">&#39;&#39;</text>\n",
       "</g>\n",
       "<!-- F -->\n",
       "<g id=\"node7\" class=\"node\"><title>F</title>\n",
       "<ellipse fill=\"none\" stroke=\"black\" cx=\"534.223\" cy=\"-59.915\" rx=\"18\" ry=\"18\"/>\n",
       "<ellipse fill=\"none\" stroke=\"black\" cx=\"534.223\" cy=\"-59.915\" rx=\"22\" ry=\"22\"/>\n",
       "<text text-anchor=\"middle\" x=\"534.223\" y=\"-55.715\" font-family=\"Times,serif\" font-size=\"14.00\">F</text>\n",
       "</g>\n",
       "<!-- B2&#45;&gt;F -->\n",
       "<g id=\"edge7\" class=\"edge\"><title>B2&#45;&gt;F</title>\n",
       "<path fill=\"none\" stroke=\"black\" d=\"M468.311,-81.7009C478.558,-78.2616 491.544,-73.9032 503.204,-69.9898\"/>\n",
       "<polygon fill=\"black\" stroke=\"black\" points=\"504.641,-73.1997 513.007,-66.6997 502.413,-66.5635 504.641,-73.1997\"/>\n",
       "<text text-anchor=\"middle\" x=\"490.723\" y=\"-76.715\" font-family=\"Times,serif\" font-size=\"14.00\">1</text>\n",
       "</g>\n",
       "<!-- A1 -->\n",
       "<g id=\"node6\" class=\"node\"><title>A1</title>\n",
       "<ellipse fill=\"none\" stroke=\"black\" cx=\"196.745\" cy=\"-20.915\" rx=\"20.8304\" ry=\"20.8304\"/>\n",
       "<text text-anchor=\"middle\" x=\"196.745\" y=\"-16.715\" font-family=\"Times,serif\" font-size=\"14.00\">A1</text>\n",
       "</g>\n",
       "<!-- A0&#45;&gt;A1 -->\n",
       "<g id=\"edge2\" class=\"edge\"><title>A0&#45;&gt;A1</title>\n",
       "<path fill=\"none\" stroke=\"black\" d=\"M131.71,-47.973C142.375,-43.4665 155.927,-37.7402 167.815,-32.717\"/>\n",
       "<polygon fill=\"black\" stroke=\"black\" points=\"169.46,-35.8214 177.309,-28.7051 166.736,-29.3734 169.46,-35.8214\"/>\n",
       "<text text-anchor=\"middle\" x=\"154.33\" y=\"-42.715\" font-family=\"Times,serif\" font-size=\"14.00\">0</text>\n",
       "</g>\n",
       "<!-- A1&#45;&gt;B0 -->\n",
       "<g id=\"edge3\" class=\"edge\"><title>A1&#45;&gt;B0</title>\n",
       "<path fill=\"none\" stroke=\"black\" d=\"M216.43,-28.8571C227.106,-33.3951 240.692,-39.17 252.569,-44.2183\"/>\n",
       "<polygon fill=\"black\" stroke=\"black\" points=\"251.47,-47.5541 262.042,-48.2449 254.208,-41.1119 251.47,-47.5541\"/>\n",
       "<text text-anchor=\"middle\" x=\"239.16\" y=\"-42.715\" font-family=\"Times,serif\" font-size=\"14.00\">0</text>\n",
       "</g>\n",
       "<!-- F&#45;&gt;B0 -->\n",
       "<g id=\"edge8\" class=\"edge\"><title>F&#45;&gt;B0</title>\n",
       "<path fill=\"none\" stroke=\"black\" d=\"M512.202,-59.5802C467.608,-58.8699 363.403,-57.2102 311.935,-56.3904\"/>\n",
       "<polygon fill=\"black\" stroke=\"black\" points=\"311.848,-52.8887 301.793,-56.2289 311.736,-59.8878 311.848,-52.8887\"/>\n",
       "<text text-anchor=\"middle\" x=\"406.868\" y=\"-60.715\" font-family=\"Times,serif\" font-size=\"14.00\">&#39;&#39;</text>\n",
       "</g>\n",
       "</g>\n",
       "</svg>\n"
      ],
      "text/plain": [
       "<graphviz.dot.Digraph at 0x1075040f0>"
      ]
     },
     "execution_count": 41,
     "metadata": {},
     "output_type": "execute_result"
    }
   ],
   "source": [
    "dotObj_nfa(NFA23, visible_eps=False, nfaName=\"NFA23\")"
   ]
  },
  {
   "cell_type": "code",
   "execution_count": 42,
   "metadata": {
    "editable": false,
    "run_control": {
     "frozen": false,
     "read_only": false
    }
   },
   "outputs": [
    {
     "data": {
      "image/svg+xml": [
       "<?xml version=\"1.0\" encoding=\"UTF-8\" standalone=\"no\"?>\n",
       "<!DOCTYPE svg PUBLIC \"-//W3C//DTD SVG 1.1//EN\"\n",
       " \"http://www.w3.org/Graphics/SVG/1.1/DTD/svg11.dtd\">\n",
       "<!-- Generated by graphviz version 2.38.0 (20140413.2041)\n",
       " -->\n",
       "<!-- Title: %3 Pages: 1 -->\n",
       "<svg width=\"649pt\" height=\"129pt\"\n",
       " viewBox=\"0.00 0.00 648.68 129.42\" xmlns=\"http://www.w3.org/2000/svg\" xmlns:xlink=\"http://www.w3.org/1999/xlink\">\n",
       "<g id=\"graph0\" class=\"graph\" transform=\"scale(1 1) rotate(0) translate(4 125.424)\">\n",
       "<title>%3</title>\n",
       "<polygon fill=\"white\" stroke=\"none\" points=\"-4,4 -4,-125.424 644.677,-125.424 644.677,4 -4,4\"/>\n",
       "<!-- EMPTY -->\n",
       "<g id=\"node1\" class=\"node\"><title>EMPTY</title>\n",
       "</g>\n",
       "<!-- A0 -->\n",
       "<g id=\"node6\" class=\"node\"><title>A0</title>\n",
       "<ellipse fill=\"none\" stroke=\"black\" cx=\"111.915\" cy=\"-35.9971\" rx=\"20.8304\" ry=\"20.8304\"/>\n",
       "<text text-anchor=\"middle\" x=\"111.915\" y=\"-31.7971\" font-family=\"Times,serif\" font-size=\"14.00\">A0</text>\n",
       "</g>\n",
       "<!-- EMPTY&#45;&gt;A0 -->\n",
       "<g id=\"edge1\" class=\"edge\"><title>EMPTY&#45;&gt;A0</title>\n",
       "<path fill=\"none\" stroke=\"black\" d=\"M54.2348,-35.9971C62.6673,-35.9971 72.0756,-35.9971 80.766,-35.9971\"/>\n",
       "<polygon fill=\"black\" stroke=\"black\" points=\"80.8965,-39.4972 90.8965,-35.9971 80.8964,-32.4972 80.8965,-39.4972\"/>\n",
       "</g>\n",
       "<!-- B1 -->\n",
       "<g id=\"node2\" class=\"node\"><title>B1</title>\n",
       "<ellipse fill=\"none\" stroke=\"black\" cx=\"395.401\" cy=\"-69.9971\" rx=\"20.3544\" ry=\"20.3544\"/>\n",
       "<text text-anchor=\"middle\" x=\"395.401\" y=\"-65.7971\" font-family=\"Times,serif\" font-size=\"14.00\">B1</text>\n",
       "</g>\n",
       "<!-- B2 -->\n",
       "<g id=\"node5\" class=\"node\"><title>B2</title>\n",
       "<ellipse fill=\"none\" stroke=\"black\" cx=\"479.255\" cy=\"-100.997\" rx=\"20.3544\" ry=\"20.3544\"/>\n",
       "<text text-anchor=\"middle\" x=\"479.255\" y=\"-96.7971\" font-family=\"Times,serif\" font-size=\"14.00\">B2</text>\n",
       "</g>\n",
       "<!-- B1&#45;&gt;B2 -->\n",
       "<g id=\"edge6\" class=\"edge\"><title>B1&#45;&gt;B2</title>\n",
       "<path fill=\"none\" stroke=\"black\" d=\"M414.975,-77.0314C425.336,-80.9553 438.454,-85.9234 450.056,-90.3175\"/>\n",
       "<polygon fill=\"black\" stroke=\"black\" points=\"449.163,-93.7218 459.755,-93.9905 451.643,-87.1756 449.163,-93.7218\"/>\n",
       "<text text-anchor=\"middle\" x=\"437.328\" y=\"-88.7971\" font-family=\"Times,serif\" font-size=\"14.00\">1</text>\n",
       "</g>\n",
       "<!-- A0_B0 -->\n",
       "<g id=\"node3\" class=\"node\"><title>A0_B0</title>\n",
       "<ellipse fill=\"none\" stroke=\"black\" cx=\"296.317\" cy=\"-69.9971\" rx=\"35.8147\" ry=\"35.8147\"/>\n",
       "<text text-anchor=\"middle\" x=\"296.317\" y=\"-65.7971\" font-family=\"Times,serif\" font-size=\"14.00\">A0_B0</text>\n",
       "</g>\n",
       "<!-- A0_B0&#45;&gt;B1 -->\n",
       "<g id=\"edge4\" class=\"edge\"><title>A0_B0&#45;&gt;B1</title>\n",
       "<path fill=\"none\" stroke=\"black\" d=\"M332.092,-69.9971C342.753,-69.9971 354.38,-69.9971 364.671,-69.9971\"/>\n",
       "<polygon fill=\"black\" stroke=\"black\" points=\"364.817,-73.4972 374.817,-69.9971 364.817,-66.4972 364.817,-73.4972\"/>\n",
       "<text text-anchor=\"middle\" x=\"353.474\" y=\"-72.7971\" font-family=\"Times,serif\" font-size=\"14.00\">1</text>\n",
       "</g>\n",
       "<!-- A1 -->\n",
       "<g id=\"node4\" class=\"node\"><title>A1</title>\n",
       "<ellipse fill=\"none\" stroke=\"black\" cx=\"196.745\" cy=\"-35.9971\" rx=\"20.8304\" ry=\"20.8304\"/>\n",
       "<text text-anchor=\"middle\" x=\"196.745\" y=\"-31.7971\" font-family=\"Times,serif\" font-size=\"14.00\">A1</text>\n",
       "</g>\n",
       "<!-- A0_B0&#45;&gt;A1 -->\n",
       "<g id=\"edge5\" class=\"edge\"><title>A0_B0&#45;&gt;A1</title>\n",
       "<path fill=\"none\" stroke=\"black\" d=\"M268.889,-46.7439C260.979,-41.1397 251.928,-35.9277 242.66,-32.9971 237.882,-31.4862 232.679,-30.9204 227.565,-30.9211\"/>\n",
       "<polygon fill=\"black\" stroke=\"black\" points=\"227.101,-27.4441 217.354,-31.5968 227.563,-34.4288 227.101,-27.4441\"/>\n",
       "<text text-anchor=\"middle\" x=\"239.16\" y=\"-35.7971\" font-family=\"Times,serif\" font-size=\"14.00\">0</text>\n",
       "</g>\n",
       "<!-- A1&#45;&gt;A0_B0 -->\n",
       "<g id=\"edge3\" class=\"edge\"><title>A1&#45;&gt;A0_B0</title>\n",
       "<path fill=\"none\" stroke=\"black\" d=\"M216.549,-43.7301C222.616,-46.1461 229.392,-48.7621 235.66,-50.9971 240.971,-52.8909 246.579,-54.7974 252.146,-56.6337\"/>\n",
       "<polygon fill=\"black\" stroke=\"black\" points=\"251.457,-60.0895 262.049,-59.8451 253.616,-53.4309 251.457,-60.0895\"/>\n",
       "<text text-anchor=\"middle\" x=\"239.16\" y=\"-56.7971\" font-family=\"Times,serif\" font-size=\"14.00\">0</text>\n",
       "</g>\n",
       "<!-- A0_B0_F -->\n",
       "<g id=\"node7\" class=\"node\"><title>A0_B0_F</title>\n",
       "<ellipse fill=\"none\" stroke=\"black\" cx=\"591.679\" cy=\"-48.9971\" rx=\"44.9944\" ry=\"44.9944\"/>\n",
       "<ellipse fill=\"none\" stroke=\"black\" cx=\"591.679\" cy=\"-48.9971\" rx=\"48.9941\" ry=\"48.9941\"/>\n",
       "<text text-anchor=\"middle\" x=\"591.679\" y=\"-44.7971\" font-family=\"Times,serif\" font-size=\"14.00\">A0_B0_F</text>\n",
       "</g>\n",
       "<!-- B2&#45;&gt;A0_B0_F -->\n",
       "<g id=\"edge7\" class=\"edge\"><title>B2&#45;&gt;A0_B0_F</title>\n",
       "<path fill=\"none\" stroke=\"black\" d=\"M497.997,-92.6424C508.799,-87.5554 523.225,-80.7622 537.472,-74.0529\"/>\n",
       "<polygon fill=\"black\" stroke=\"black\" points=\"539.213,-77.1018 546.769,-69.6749 536.231,-70.7688 539.213,-77.1018\"/>\n",
       "<text text-anchor=\"middle\" x=\"521.182\" y=\"-84.7971\" font-family=\"Times,serif\" font-size=\"14.00\">1</text>\n",
       "</g>\n",
       "<!-- A0&#45;&gt;A1 -->\n",
       "<g id=\"edge2\" class=\"edge\"><title>A0&#45;&gt;A1</title>\n",
       "<path fill=\"none\" stroke=\"black\" d=\"M132.966,-35.9971C142.661,-35.9971 154.508,-35.9971 165.287,-35.9971\"/>\n",
       "<polygon fill=\"black\" stroke=\"black\" points=\"165.592,-39.4972 175.592,-35.9971 165.592,-32.4972 165.592,-39.4972\"/>\n",
       "<text text-anchor=\"middle\" x=\"154.33\" y=\"-38.7971\" font-family=\"Times,serif\" font-size=\"14.00\">0</text>\n",
       "</g>\n",
       "<!-- A0_B0_F&#45;&gt;B1 -->\n",
       "<g id=\"edge8\" class=\"edge\"><title>A0_B0_F&#45;&gt;B1</title>\n",
       "<path fill=\"none\" stroke=\"black\" d=\"M542.63,-50.8691C517.577,-52.2006 486.474,-54.41 458.828,-57.9971 447.829,-59.4242 435.845,-61.5803 425.344,-63.6729\"/>\n",
       "<polygon fill=\"black\" stroke=\"black\" points=\"424.517,-60.2696 415.429,-65.7152 425.93,-67.1257 424.517,-60.2696\"/>\n",
       "<text text-anchor=\"middle\" x=\"479.255\" y=\"-60.7971\" font-family=\"Times,serif\" font-size=\"14.00\">1</text>\n",
       "</g>\n",
       "<!-- A0_B0_F&#45;&gt;A1 -->\n",
       "<g id=\"edge9\" class=\"edge\"><title>A0_B0_F&#45;&gt;A1</title>\n",
       "<path fill=\"none\" stroke=\"black\" d=\"M549.858,-23.0395C529.707,-12.6054 504.554,-2.99706 480.255,-2.99706 295.317,-2.99706 295.317,-2.99706 295.317,-2.99706 270.382,-2.99706 243.662,-12.7878 224.5,-21.7035\"/>\n",
       "<polygon fill=\"black\" stroke=\"black\" points=\"222.938,-18.571 215.48,-26.096 226.003,-24.8645 222.938,-18.571\"/>\n",
       "<text text-anchor=\"middle\" x=\"395.401\" y=\"-5.79706\" font-family=\"Times,serif\" font-size=\"14.00\">0</text>\n",
       "</g>\n",
       "</g>\n",
       "</svg>\n"
      ],
      "text/plain": [
       "<graphviz.dot.Digraph at 0x1075044e0>"
      ]
     },
     "execution_count": 42,
     "metadata": {},
     "output_type": "execute_result"
    }
   ],
   "source": [
    "n2DFA23 = nfa2dfa(NFA23)\n",
    "dotObj_dfa(n2DFA23, \"n2dNFA23\")"
   ]
  },
  {
   "cell_type": "code",
   "execution_count": 43,
   "metadata": {
    "editable": false,
    "run_control": {
     "frozen": false,
     "read_only": false
    }
   },
   "outputs": [
    {
     "data": {
      "image/svg+xml": [
       "<?xml version=\"1.0\" encoding=\"UTF-8\" standalone=\"no\"?>\n",
       "<!DOCTYPE svg PUBLIC \"-//W3C//DTD SVG 1.1//EN\"\n",
       " \"http://www.w3.org/Graphics/SVG/1.1/DTD/svg11.dtd\">\n",
       "<!-- Generated by graphviz version 2.38.0 (20140413.2041)\n",
       " -->\n",
       "<!-- Title: %3 Pages: 1 -->\n",
       "<svg width=\"782pt\" height=\"296pt\"\n",
       " viewBox=\"0.00 0.00 782.46 296.00\" xmlns=\"http://www.w3.org/2000/svg\" xmlns:xlink=\"http://www.w3.org/1999/xlink\">\n",
       "<g id=\"graph0\" class=\"graph\" transform=\"scale(1 1) rotate(0) translate(4 292)\">\n",
       "<title>%3</title>\n",
       "<polygon fill=\"white\" stroke=\"none\" points=\"-4,4 -4,-292 778.462,-292 778.462,4 -4,4\"/>\n",
       "<!-- EMPTY -->\n",
       "<g id=\"node1\" class=\"node\"><title>EMPTY</title>\n",
       "</g>\n",
       "<!-- St7 -->\n",
       "<g id=\"node4\" class=\"node\"><title>St7</title>\n",
       "<ellipse fill=\"none\" stroke=\"black\" cx=\"112.904\" cy=\"-49\" rx=\"21.8081\" ry=\"21.8081\"/>\n",
       "<text text-anchor=\"middle\" x=\"112.904\" y=\"-44.8\" font-family=\"Times,serif\" font-size=\"14.00\">St7</text>\n",
       "</g>\n",
       "<!-- EMPTY&#45;&gt;St7 -->\n",
       "<g id=\"edge1\" class=\"edge\"><title>EMPTY&#45;&gt;St7</title>\n",
       "<path fill=\"none\" stroke=\"black\" d=\"M54.0878,-49C62.501,-49 71.9126,-49 80.6587,-49\"/>\n",
       "<polygon fill=\"black\" stroke=\"black\" points=\"80.8854,-52.5001 90.8853,-49 80.8853,-45.5001 80.8854,-52.5001\"/>\n",
       "</g>\n",
       "<!-- St5 -->\n",
       "<g id=\"node2\" class=\"node\"><title>St5</title>\n",
       "<ellipse fill=\"none\" stroke=\"black\" cx=\"199.712\" cy=\"-124\" rx=\"21.8081\" ry=\"21.8081\"/>\n",
       "<text text-anchor=\"middle\" x=\"199.712\" y=\"-119.8\" font-family=\"Times,serif\" font-size=\"14.00\">St5</text>\n",
       "</g>\n",
       "<!-- St6 -->\n",
       "<g id=\"node3\" class=\"node\"><title>St6</title>\n",
       "<ellipse fill=\"none\" stroke=\"black\" cx=\"286.519\" cy=\"-221\" rx=\"21.8081\" ry=\"21.8081\"/>\n",
       "<text text-anchor=\"middle\" x=\"286.519\" y=\"-216.8\" font-family=\"Times,serif\" font-size=\"14.00\">St6</text>\n",
       "</g>\n",
       "<!-- St5&#45;&gt;St6 -->\n",
       "<g id=\"edge5\" class=\"edge\"><title>St5&#45;&gt;St6</title>\n",
       "<path fill=\"none\" stroke=\"black\" d=\"M214.19,-140.705C221.586,-149.764 230.984,-161.1 239.615,-171 247.442,-179.976 256.243,-189.658 264.03,-198.089\"/>\n",
       "<polygon fill=\"black\" stroke=\"black\" points=\"261.47,-200.476 270.838,-205.424 266.6,-195.713 261.47,-200.476\"/>\n",
       "<text text-anchor=\"middle\" x=\"243.115\" y=\"-181.8\" font-family=\"Times,serif\" font-size=\"14.00\">0</text>\n",
       "</g>\n",
       "<!-- St4 -->\n",
       "<g id=\"node5\" class=\"node\"><title>St4</title>\n",
       "<ellipse fill=\"none\" stroke=\"black\" cx=\"468.135\" cy=\"-172\" rx=\"21.8081\" ry=\"21.8081\"/>\n",
       "<text text-anchor=\"middle\" x=\"468.135\" y=\"-167.8\" font-family=\"Times,serif\" font-size=\"14.00\">St4</text>\n",
       "</g>\n",
       "<!-- St5&#45;&gt;St4 -->\n",
       "<g id=\"edge4\" class=\"edge\"><title>St5&#45;&gt;St4</title>\n",
       "<path fill=\"none\" stroke=\"black\" d=\"M221.617,-127.766C268.308,-136.179 381.265,-156.529 436.158,-166.419\"/>\n",
       "<polygon fill=\"black\" stroke=\"black\" points=\"435.864,-169.922 446.326,-168.251 437.105,-163.033 435.864,-169.922\"/>\n",
       "<text text-anchor=\"middle\" x=\"329.923\" y=\"-150.8\" font-family=\"Times,serif\" font-size=\"14.00\">1</text>\n",
       "</g>\n",
       "<!-- St3 -->\n",
       "<g id=\"node7\" class=\"node\"><title>St3</title>\n",
       "<ellipse fill=\"none\" stroke=\"black\" cx=\"748.558\" cy=\"-79\" rx=\"21.8229\" ry=\"21.8229\"/>\n",
       "<ellipse fill=\"none\" stroke=\"black\" cx=\"748.558\" cy=\"-79\" rx=\"25.8081\" ry=\"25.8081\"/>\n",
       "<text text-anchor=\"middle\" x=\"748.558\" y=\"-74.8\" font-family=\"Times,serif\" font-size=\"14.00\">St3</text>\n",
       "</g>\n",
       "<!-- St6&#45;&gt;St3 -->\n",
       "<g id=\"edge9\" class=\"edge\"><title>St6&#45;&gt;St3</title>\n",
       "<path fill=\"none\" stroke=\"black\" d=\"M302.275,-236.615C318.716,-252.249 346.881,-274 376.327,-274 376.327,-274 376.327,-274 654.75,-274 724.315,-274 741.794,-171.567 746.146,-115.183\"/>\n",
       "<polygon fill=\"black\" stroke=\"black\" points=\"749.659,-115.106 746.834,-104.894 742.674,-114.639 749.659,-115.106\"/>\n",
       "<text text-anchor=\"middle\" x=\"511.539\" y=\"-276.8\" font-family=\"Times,serif\" font-size=\"14.00\">0</text>\n",
       "</g>\n",
       "<!-- St1 -->\n",
       "<g id=\"node8\" class=\"node\"><title>St1</title>\n",
       "<ellipse fill=\"none\" stroke=\"black\" cx=\"377.327\" cy=\"-217\" rx=\"21.8229\" ry=\"21.8229\"/>\n",
       "<ellipse fill=\"none\" stroke=\"black\" cx=\"377.327\" cy=\"-217\" rx=\"25.8081\" ry=\"25.8081\"/>\n",
       "<text text-anchor=\"middle\" x=\"377.327\" y=\"-212.8\" font-family=\"Times,serif\" font-size=\"14.00\">St1</text>\n",
       "</g>\n",
       "<!-- St6&#45;&gt;St1 -->\n",
       "<g id=\"edge8\" class=\"edge\"><title>St6&#45;&gt;St1</title>\n",
       "<path fill=\"none\" stroke=\"black\" d=\"M308.553,-221.41C316.366,-221.454 325.303,-221.378 333.423,-221 335.973,-220.881 338.606,-220.723 341.254,-220.538\"/>\n",
       "<polygon fill=\"black\" stroke=\"black\" points=\"341.713,-224.013 351.399,-219.719 341.15,-217.036 341.713,-224.013\"/>\n",
       "<text text-anchor=\"middle\" x=\"329.923\" y=\"-223.8\" font-family=\"Times,serif\" font-size=\"14.00\">1</text>\n",
       "</g>\n",
       "<!-- St7&#45;&gt;St5 -->\n",
       "<g id=\"edge2\" class=\"edge\"><title>St7&#45;&gt;St5</title>\n",
       "<path fill=\"none\" stroke=\"black\" d=\"M129.856,-63.1069C142.649,-74.4206 160.79,-90.4642 175.241,-103.243\"/>\n",
       "<polygon fill=\"black\" stroke=\"black\" points=\"173.022,-105.953 182.831,-109.956 177.659,-100.71 173.022,-105.953\"/>\n",
       "<text text-anchor=\"middle\" x=\"156.308\" y=\"-91.8\" font-family=\"Times,serif\" font-size=\"14.00\">1</text>\n",
       "</g>\n",
       "<!-- St7&#45;&gt;St7 -->\n",
       "<g id=\"edge3\" class=\"edge\"><title>St7&#45;&gt;St7</title>\n",
       "<path fill=\"none\" stroke=\"black\" d=\"M105.587,-69.9403C104.684,-80.0125 107.123,-88.9039 112.904,-88.9039 116.607,-88.9039 118.939,-85.2549 119.9,-79.984\"/>\n",
       "<polygon fill=\"black\" stroke=\"black\" points=\"123.399,-80.0471 120.221,-69.9403 116.403,-79.8233 123.399,-80.0471\"/>\n",
       "<text text-anchor=\"middle\" x=\"112.904\" y=\"-91.7039\" font-family=\"Times,serif\" font-size=\"14.00\">0</text>\n",
       "</g>\n",
       "<!-- St2 -->\n",
       "<g id=\"node6\" class=\"node\"><title>St2</title>\n",
       "<ellipse fill=\"none\" stroke=\"black\" cx=\"653.75\" cy=\"-147\" rx=\"21.8229\" ry=\"21.8229\"/>\n",
       "<ellipse fill=\"none\" stroke=\"black\" cx=\"653.75\" cy=\"-147\" rx=\"25.8081\" ry=\"25.8081\"/>\n",
       "<text text-anchor=\"middle\" x=\"653.75\" y=\"-142.8\" font-family=\"Times,serif\" font-size=\"14.00\">St2</text>\n",
       "</g>\n",
       "<!-- St4&#45;&gt;St2 -->\n",
       "<g id=\"edge7\" class=\"edge\"><title>St4&#45;&gt;St2</title>\n",
       "<path fill=\"none\" stroke=\"black\" d=\"M490.197,-172.617C513.51,-172.947 552.118,-172.443 584.846,-167 596.356,-165.086 608.667,-161.841 619.603,-158.515\"/>\n",
       "<polygon fill=\"black\" stroke=\"black\" points=\"620.722,-161.832 629.197,-155.474 618.607,-155.159 620.722,-161.832\"/>\n",
       "<text text-anchor=\"middle\" x=\"558.943\" y=\"-173.8\" font-family=\"Times,serif\" font-size=\"14.00\">0</text>\n",
       "</g>\n",
       "<!-- St0 -->\n",
       "<g id=\"node9\" class=\"node\"><title>St0</title>\n",
       "<ellipse fill=\"none\" stroke=\"black\" cx=\"558.943\" cy=\"-100\" rx=\"21.8229\" ry=\"21.8229\"/>\n",
       "<ellipse fill=\"none\" stroke=\"black\" cx=\"558.943\" cy=\"-100\" rx=\"25.8081\" ry=\"25.8081\"/>\n",
       "<text text-anchor=\"middle\" x=\"558.943\" y=\"-95.8\" font-family=\"Times,serif\" font-size=\"14.00\">St0</text>\n",
       "</g>\n",
       "<!-- St4&#45;&gt;St0 -->\n",
       "<g id=\"edge6\" class=\"edge\"><title>St4&#45;&gt;St0</title>\n",
       "<path fill=\"none\" stroke=\"black\" d=\"M485.839,-158.457C498.271,-148.378 515.527,-134.388 530.041,-122.621\"/>\n",
       "<polygon fill=\"black\" stroke=\"black\" points=\"532.649,-125.012 538.213,-115.996 528.24,-119.575 532.649,-125.012\"/>\n",
       "<text text-anchor=\"middle\" x=\"511.539\" y=\"-143.8\" font-family=\"Times,serif\" font-size=\"14.00\">1</text>\n",
       "</g>\n",
       "<!-- St2&#45;&gt;St3 -->\n",
       "<g id=\"edge13\" class=\"edge\"><title>St2&#45;&gt;St3</title>\n",
       "<path fill=\"none\" stroke=\"black\" d=\"M675.347,-131.909C688.084,-122.577 704.623,-110.458 718.659,-100.174\"/>\n",
       "<polygon fill=\"black\" stroke=\"black\" points=\"721.021,-102.783 727.019,-94.0492 716.883,-97.1363 721.021,-102.783\"/>\n",
       "<text text-anchor=\"middle\" x=\"701.154\" y=\"-118.8\" font-family=\"Times,serif\" font-size=\"14.00\">0</text>\n",
       "</g>\n",
       "<!-- St2&#45;&gt;St1 -->\n",
       "<g id=\"edge12\" class=\"edge\"><title>St2&#45;&gt;St1</title>\n",
       "<path fill=\"none\" stroke=\"black\" d=\"M632.934,-162.838C620.029,-172.208 602.386,-183.322 584.846,-189 526.738,-207.81 455.467,-213.988 413.658,-216.014\"/>\n",
       "<polygon fill=\"black\" stroke=\"black\" points=\"413.278,-212.527 403.438,-216.455 413.579,-219.521 413.278,-212.527\"/>\n",
       "<text text-anchor=\"middle\" x=\"511.539\" y=\"-208.8\" font-family=\"Times,serif\" font-size=\"14.00\">1</text>\n",
       "</g>\n",
       "<!-- St3&#45;&gt;St5 -->\n",
       "<g id=\"edge16\" class=\"edge\"><title>St3&#45;&gt;St5</title>\n",
       "<path fill=\"none\" stroke=\"black\" d=\"M725.825,-66.5241C707.49,-57.1791 680.23,-46 654.75,-46 285.519,-46 285.519,-46 285.519,-46 254.968,-46 230.685,-73.7616 216.065,-96.1602\"/>\n",
       "<polygon fill=\"black\" stroke=\"black\" points=\"213.054,-94.3751 210.762,-104.719 219.004,-98.0622 213.054,-94.3751\"/>\n",
       "<text text-anchor=\"middle\" x=\"468.135\" y=\"-48.8\" font-family=\"Times,serif\" font-size=\"14.00\">1</text>\n",
       "</g>\n",
       "<!-- St3&#45;&gt;St7 -->\n",
       "<g id=\"edge17\" class=\"edge\"><title>St3&#45;&gt;St7</title>\n",
       "<path fill=\"none\" stroke=\"black\" d=\"M734.519,-56.9941C718.814,-33.6186 690.086,-0 654.75,-0 198.712,-0 198.712,-0 198.712,-0 175.398,-0 152.732,-14.054 136.706,-27.1087\"/>\n",
       "<polygon fill=\"black\" stroke=\"black\" points=\"134.264,-24.592 128.962,-33.7647 138.827,-29.9004 134.264,-24.592\"/>\n",
       "<text text-anchor=\"middle\" x=\"424.731\" y=\"-2.8\" font-family=\"Times,serif\" font-size=\"14.00\">0</text>\n",
       "</g>\n",
       "<!-- St1&#45;&gt;St6 -->\n",
       "<g id=\"edge15\" class=\"edge\"><title>St1&#45;&gt;St6</title>\n",
       "<path fill=\"none\" stroke=\"black\" d=\"M353.857,-205.84C345.321,-202.885 335.475,-201.007 326.423,-203 322.716,-203.816 318.943,-205.021 315.276,-206.428\"/>\n",
       "<polygon fill=\"black\" stroke=\"black\" points=\"313.708,-203.293 305.937,-210.495 316.503,-209.711 313.708,-203.293\"/>\n",
       "<text text-anchor=\"middle\" x=\"329.923\" y=\"-205.8\" font-family=\"Times,serif\" font-size=\"14.00\">0</text>\n",
       "</g>\n",
       "<!-- St1&#45;&gt;St4 -->\n",
       "<g id=\"edge14\" class=\"edge\"><title>St1&#45;&gt;St4</title>\n",
       "<path fill=\"none\" stroke=\"black\" d=\"M400.737,-205.645C412.448,-199.711 426.889,-192.393 439.309,-186.099\"/>\n",
       "<polygon fill=\"black\" stroke=\"black\" points=\"440.997,-189.168 448.335,-181.526 437.833,-182.924 440.997,-189.168\"/>\n",
       "<text text-anchor=\"middle\" x=\"424.731\" y=\"-196.8\" font-family=\"Times,serif\" font-size=\"14.00\">1</text>\n",
       "</g>\n",
       "<!-- St0&#45;&gt;St2 -->\n",
       "<g id=\"edge11\" class=\"edge\"><title>St0&#45;&gt;St2</title>\n",
       "<path fill=\"none\" stroke=\"black\" d=\"M582.409,-111.377C594.064,-117.28 608.494,-124.588 621.245,-131.045\"/>\n",
       "<polygon fill=\"black\" stroke=\"black\" points=\"619.667,-134.169 630.169,-135.564 622.829,-127.924 619.667,-134.169\"/>\n",
       "<text text-anchor=\"middle\" x=\"606.346\" y=\"-127.8\" font-family=\"Times,serif\" font-size=\"14.00\">0</text>\n",
       "</g>\n",
       "<!-- St0&#45;&gt;St0 -->\n",
       "<g id=\"edge10\" class=\"edge\"><title>St0&#45;&gt;St0</title>\n",
       "<path fill=\"none\" stroke=\"black\" d=\"M550.393,-124.824C549.804,-135.15 552.653,-143.904 558.943,-143.904 562.971,-143.904 565.589,-140.311 566.795,-135.014\"/>\n",
       "<polygon fill=\"black\" stroke=\"black\" points=\"570.301,-135.039 567.492,-124.824 563.317,-134.562 570.301,-135.039\"/>\n",
       "<text text-anchor=\"middle\" x=\"558.943\" y=\"-146.704\" font-family=\"Times,serif\" font-size=\"14.00\">1</text>\n",
       "</g>\n",
       "</g>\n",
       "</svg>\n"
      ],
      "text/plain": [
       "<graphviz.dot.Digraph at 0x1075047f0>"
      ]
     },
     "execution_count": 43,
     "metadata": {},
     "output_type": "execute_result"
    }
   ],
   "source": [
    "n2DFA61 = nfa2dfa(NFA_fig61ab)\n",
    "dotObj_dfa(n2DFA61, \"n2dNFA_fig61ab\")"
   ]
  },
  {
   "cell_type": "code",
   "execution_count": 44,
   "metadata": {
    "editable": false,
    "run_control": {
     "frozen": false,
     "read_only": false
    }
   },
   "outputs": [
    {
     "data": {
      "image/svg+xml": [
       "<?xml version=\"1.0\" encoding=\"UTF-8\" standalone=\"no\"?>\n",
       "<!DOCTYPE svg PUBLIC \"-//W3C//DTD SVG 1.1//EN\"\n",
       " \"http://www.w3.org/Graphics/SVG/1.1/DTD/svg11.dtd\">\n",
       "<!-- Generated by graphviz version 2.38.0 (20140413.2041)\n",
       " -->\n",
       "<!-- Title: %3 Pages: 1 -->\n",
       "<svg width=\"468pt\" height=\"112pt\"\n",
       " viewBox=\"0.00 0.00 467.68 112.00\" xmlns=\"http://www.w3.org/2000/svg\" xmlns:xlink=\"http://www.w3.org/1999/xlink\">\n",
       "<g id=\"graph0\" class=\"graph\" transform=\"scale(1 1) rotate(0) translate(4 108)\">\n",
       "<title>%3</title>\n",
       "<polygon fill=\"white\" stroke=\"none\" points=\"-4,4 -4,-108 463.681,-108 463.681,4 -4,4\"/>\n",
       "<!-- EMPTY -->\n",
       "<g id=\"node1\" class=\"node\"><title>EMPTY</title>\n",
       "</g>\n",
       "<!-- I -->\n",
       "<g id=\"node3\" class=\"node\"><title>I</title>\n",
       "<ellipse fill=\"none\" stroke=\"black\" cx=\"109\" cy=\"-22\" rx=\"18\" ry=\"18\"/>\n",
       "<text text-anchor=\"middle\" x=\"109\" y=\"-17.8\" font-family=\"Times,serif\" font-size=\"14.00\">I</text>\n",
       "</g>\n",
       "<!-- EMPTY&#45;&gt;I -->\n",
       "<g id=\"edge1\" class=\"edge\"><title>EMPTY&#45;&gt;I</title>\n",
       "<path fill=\"none\" stroke=\"black\" d=\"M54.195,-22C62.6538,-22 72.0513,-22 80.5951,-22\"/>\n",
       "<polygon fill=\"black\" stroke=\"black\" points=\"80.8257,-25.5001 90.8257,-22 80.8257,-18.5001 80.8257,-25.5001\"/>\n",
       "</g>\n",
       "<!-- S1 -->\n",
       "<g id=\"node2\" class=\"node\"><title>S1</title>\n",
       "<ellipse fill=\"none\" stroke=\"black\" cx=\"271.341\" cy=\"-22\" rx=\"19.3939\" ry=\"19.3939\"/>\n",
       "<text text-anchor=\"middle\" x=\"271.341\" y=\"-17.8\" font-family=\"Times,serif\" font-size=\"14.00\">S1</text>\n",
       "</g>\n",
       "<!-- S2 -->\n",
       "<g id=\"node4\" class=\"node\"><title>S2</title>\n",
       "<ellipse fill=\"none\" stroke=\"black\" cx=\"353.234\" cy=\"-22\" rx=\"19.3939\" ry=\"19.3939\"/>\n",
       "<text text-anchor=\"middle\" x=\"353.234\" y=\"-17.8\" font-family=\"Times,serif\" font-size=\"14.00\">S2</text>\n",
       "</g>\n",
       "<!-- S1&#45;&gt;S2 -->\n",
       "<g id=\"edge7\" class=\"edge\"><title>S1&#45;&gt;S2</title>\n",
       "<path fill=\"none\" stroke=\"black\" d=\"M290.871,-22C300.482,-22 312.441,-22 323.243,-22\"/>\n",
       "<polygon fill=\"black\" stroke=\"black\" points=\"323.528,-25.5001 333.528,-22 323.528,-18.5001 323.528,-25.5001\"/>\n",
       "<text text-anchor=\"middle\" x=\"312.287\" y=\"-24.8\" font-family=\"Times,serif\" font-size=\"14.00\">0</text>\n",
       "</g>\n",
       "<!-- S1&#45;&gt;S2 -->\n",
       "<g id=\"edge8\" class=\"edge\"><title>S1&#45;&gt;S2</title>\n",
       "<path fill=\"none\" stroke=\"black\" d=\"M287.218,-10.7423C295.427,-5.8494 305.929,-1.69819 315.787,-4 319.511,-4.86945 323.292,-6.1773 326.938,-7.69901\"/>\n",
       "<polygon fill=\"black\" stroke=\"black\" points=\"325.61,-10.9431 336.145,-12.0723 328.614,-4.62018 325.61,-10.9431\"/>\n",
       "<text text-anchor=\"middle\" x=\"312.287\" y=\"-6.8\" font-family=\"Times,serif\" font-size=\"14.00\">1</text>\n",
       "</g>\n",
       "<!-- I&#45;&gt;I -->\n",
       "<g id=\"edge2\" class=\"edge\"><title>I&#45;&gt;I</title>\n",
       "<path fill=\"none\" stroke=\"black\" d=\"M105.764,-39.7817C105.214,-49.3149 106.293,-58 109,-58 110.65,-58 111.694,-54.7749 112.135,-50.0981\"/>\n",
       "<polygon fill=\"black\" stroke=\"black\" points=\"115.638,-49.8156 112.236,-39.7817 108.638,-49.7469 115.638,-49.8156\"/>\n",
       "<text text-anchor=\"middle\" x=\"109\" y=\"-60.8\" font-family=\"Times,serif\" font-size=\"14.00\">0</text>\n",
       "</g>\n",
       "<!-- I&#45;&gt;I -->\n",
       "<g id=\"edge3\" class=\"edge\"><title>I&#45;&gt;I</title>\n",
       "<path fill=\"none\" stroke=\"black\" d=\"M103.684,-39.4203C100.654,-56.791 102.426,-76 109,-76 114.29,-76 116.471,-63.5617 115.542,-49.652\"/>\n",
       "<polygon fill=\"black\" stroke=\"black\" points=\"118.981,-48.9328 114.316,-39.4203 112.031,-49.7657 118.981,-48.9328\"/>\n",
       "<text text-anchor=\"middle\" x=\"109\" y=\"-78.8\" font-family=\"Times,serif\" font-size=\"14.00\">1</text>\n",
       "</g>\n",
       "<!-- S0 -->\n",
       "<g id=\"node5\" class=\"node\"><title>S0</title>\n",
       "<ellipse fill=\"none\" stroke=\"black\" cx=\"189.447\" cy=\"-22\" rx=\"19.3939\" ry=\"19.3939\"/>\n",
       "<text text-anchor=\"middle\" x=\"189.447\" y=\"-17.8\" font-family=\"Times,serif\" font-size=\"14.00\">S0</text>\n",
       "</g>\n",
       "<!-- I&#45;&gt;S0 -->\n",
       "<g id=\"edge4\" class=\"edge\"><title>I&#45;&gt;S0</title>\n",
       "<path fill=\"none\" stroke=\"black\" d=\"M127.022,-22C136.583,-22 148.77,-22 159.763,-22\"/>\n",
       "<polygon fill=\"black\" stroke=\"black\" points=\"159.813,-25.5001 169.813,-22 159.813,-18.5001 159.813,-25.5001\"/>\n",
       "<text text-anchor=\"middle\" x=\"148.5\" y=\"-24.8\" font-family=\"Times,serif\" font-size=\"14.00\">1</text>\n",
       "</g>\n",
       "<!-- I&#45;&gt;S0 -->\n",
       "<g id=\"edge5\" class=\"edge\"><title>I&#45;&gt;S0</title>\n",
       "<path fill=\"none\" stroke=\"black\" d=\"M124.717,-12.4577C130.75,-9.08304 137.96,-5.70409 145,-4 151.457,-2.43683 158.2,-3.68618 164.393,-6.11797\"/>\n",
       "<polygon fill=\"black\" stroke=\"black\" points=\"163.042,-9.35512 173.554,-10.6784 166.161,-3.08864 163.042,-9.35512\"/>\n",
       "<text text-anchor=\"middle\" x=\"148.5\" y=\"-6.8\" font-family=\"Times,serif\" font-size=\"14.00\">&#39;&#39;</text>\n",
       "</g>\n",
       "<!-- F -->\n",
       "<g id=\"node6\" class=\"node\"><title>F</title>\n",
       "<ellipse fill=\"none\" stroke=\"black\" cx=\"437.681\" cy=\"-22\" rx=\"18\" ry=\"18\"/>\n",
       "<ellipse fill=\"none\" stroke=\"black\" cx=\"437.681\" cy=\"-22\" rx=\"22\" ry=\"22\"/>\n",
       "<text text-anchor=\"middle\" x=\"437.681\" y=\"-17.8\" font-family=\"Times,serif\" font-size=\"14.00\">F</text>\n",
       "</g>\n",
       "<!-- S2&#45;&gt;F -->\n",
       "<g id=\"edge9\" class=\"edge\"><title>S2&#45;&gt;F</title>\n",
       "<path fill=\"none\" stroke=\"black\" d=\"M372.943,-22C382.52,-22 394.436,-22 405.364,-22\"/>\n",
       "<polygon fill=\"black\" stroke=\"black\" points=\"405.431,-25.5001 415.431,-22 405.431,-18.5001 405.431,-25.5001\"/>\n",
       "<text text-anchor=\"middle\" x=\"394.181\" y=\"-24.8\" font-family=\"Times,serif\" font-size=\"14.00\">0</text>\n",
       "</g>\n",
       "<!-- S2&#45;&gt;F -->\n",
       "<g id=\"edge10\" class=\"edge\"><title>S2&#45;&gt;F</title>\n",
       "<path fill=\"none\" stroke=\"black\" d=\"M370.324,-12.0723C376.461,-8.82659 383.671,-5.63661 390.681,-4 397.039,-2.51573 403.683,-3.50584 409.881,-5.63\"/>\n",
       "<polygon fill=\"black\" stroke=\"black\" points=\"408.585,-8.88387 419.148,-9.7088 411.405,-2.47695 408.585,-8.88387\"/>\n",
       "<text text-anchor=\"middle\" x=\"394.181\" y=\"-6.8\" font-family=\"Times,serif\" font-size=\"14.00\">1</text>\n",
       "</g>\n",
       "<!-- S0&#45;&gt;S1 -->\n",
       "<g id=\"edge6\" class=\"edge\"><title>S0&#45;&gt;S1</title>\n",
       "<path fill=\"none\" stroke=\"black\" d=\"M208.977,-22C218.588,-22 230.548,-22 241.349,-22\"/>\n",
       "<polygon fill=\"black\" stroke=\"black\" points=\"241.634,-25.5001 251.634,-22 241.634,-18.5001 241.634,-25.5001\"/>\n",
       "<text text-anchor=\"middle\" x=\"230.394\" y=\"-24.8\" font-family=\"Times,serif\" font-size=\"14.00\">1</text>\n",
       "</g>\n",
       "</g>\n",
       "</svg>\n"
      ],
      "text/plain": [
       "<graphviz.dot.Digraph at 0x107504780>"
      ]
     },
     "execution_count": 44,
     "metadata": {},
     "output_type": "execute_result"
    }
   ],
   "source": [
    "dotObj_nfa(NFA_fig61ab,visible_eps=False,nfaName=\"NFA_fig61ab\")"
   ]
  },
  {
   "cell_type": "code",
   "execution_count": 45,
   "metadata": {
    "run_control": {
     "frozen": false,
     "read_only": false
    }
   },
   "outputs": [
    {
     "data": {
      "image/svg+xml": [
       "<?xml version=\"1.0\" encoding=\"UTF-8\" standalone=\"no\"?>\n",
       "<!DOCTYPE svg PUBLIC \"-//W3C//DTD SVG 1.1//EN\"\n",
       " \"http://www.w3.org/Graphics/SVG/1.1/DTD/svg11.dtd\">\n",
       "<!-- Generated by graphviz version 2.38.0 (20140413.2041)\n",
       " -->\n",
       "<!-- Title: %3 Pages: 1 -->\n",
       "<svg width=\"474pt\" height=\"112pt\"\n",
       " viewBox=\"0.00 0.00 473.57 112.00\" xmlns=\"http://www.w3.org/2000/svg\" xmlns:xlink=\"http://www.w3.org/1999/xlink\">\n",
       "<g id=\"graph0\" class=\"graph\" transform=\"scale(1 1) rotate(0) translate(4 108)\">\n",
       "<title>%3</title>\n",
       "<polygon fill=\"white\" stroke=\"none\" points=\"-4,4 -4,-108 469.574,-108 469.574,4 -4,4\"/>\n",
       "<!-- EMPTY -->\n",
       "<g id=\"node1\" class=\"node\"><title>EMPTY</title>\n",
       "</g>\n",
       "<!-- I -->\n",
       "<g id=\"node3\" class=\"node\"><title>I</title>\n",
       "<ellipse fill=\"none\" stroke=\"black\" cx=\"109\" cy=\"-22\" rx=\"18\" ry=\"18\"/>\n",
       "<text text-anchor=\"middle\" x=\"109\" y=\"-17.8\" font-family=\"Times,serif\" font-size=\"14.00\">I</text>\n",
       "</g>\n",
       "<!-- EMPTY&#45;&gt;I -->\n",
       "<g id=\"edge1\" class=\"edge\"><title>EMPTY&#45;&gt;I</title>\n",
       "<path fill=\"none\" stroke=\"black\" d=\"M54.195,-22C62.6538,-22 72.0513,-22 80.5951,-22\"/>\n",
       "<polygon fill=\"black\" stroke=\"black\" points=\"80.8257,-25.5001 90.8257,-22 80.8257,-18.5001 80.8257,-25.5001\"/>\n",
       "</g>\n",
       "<!-- S1 -->\n",
       "<g id=\"node2\" class=\"node\"><title>S1</title>\n",
       "<ellipse fill=\"none\" stroke=\"black\" cx=\"277.233\" cy=\"-22\" rx=\"19.3939\" ry=\"19.3939\"/>\n",
       "<text text-anchor=\"middle\" x=\"277.233\" y=\"-17.8\" font-family=\"Times,serif\" font-size=\"14.00\">S1</text>\n",
       "</g>\n",
       "<!-- S2 -->\n",
       "<g id=\"node4\" class=\"node\"><title>S2</title>\n",
       "<ellipse fill=\"none\" stroke=\"black\" cx=\"359.127\" cy=\"-22\" rx=\"19.3939\" ry=\"19.3939\"/>\n",
       "<text text-anchor=\"middle\" x=\"359.127\" y=\"-17.8\" font-family=\"Times,serif\" font-size=\"14.00\">S2</text>\n",
       "</g>\n",
       "<!-- S1&#45;&gt;S2 -->\n",
       "<g id=\"edge7\" class=\"edge\"><title>S1&#45;&gt;S2</title>\n",
       "<path fill=\"none\" stroke=\"black\" d=\"M296.763,-22C306.374,-22 318.334,-22 329.135,-22\"/>\n",
       "<polygon fill=\"black\" stroke=\"black\" points=\"329.421,-25.5001 339.421,-22 329.421,-18.5001 329.421,-25.5001\"/>\n",
       "<text text-anchor=\"middle\" x=\"318.18\" y=\"-24.8\" font-family=\"Times,serif\" font-size=\"14.00\">0</text>\n",
       "</g>\n",
       "<!-- S1&#45;&gt;S2 -->\n",
       "<g id=\"edge8\" class=\"edge\"><title>S1&#45;&gt;S2</title>\n",
       "<path fill=\"none\" stroke=\"black\" d=\"M293.111,-10.7423C301.32,-5.8494 311.821,-1.69819 321.68,-4 325.404,-4.86945 329.184,-6.1773 332.831,-7.69901\"/>\n",
       "<polygon fill=\"black\" stroke=\"black\" points=\"331.503,-10.9431 342.037,-12.0723 334.506,-4.62018 331.503,-10.9431\"/>\n",
       "<text text-anchor=\"middle\" x=\"318.18\" y=\"-6.8\" font-family=\"Times,serif\" font-size=\"14.00\">1</text>\n",
       "</g>\n",
       "<!-- I&#45;&gt;I -->\n",
       "<g id=\"edge2\" class=\"edge\"><title>I&#45;&gt;I</title>\n",
       "<path fill=\"none\" stroke=\"black\" d=\"M105.764,-39.7817C105.214,-49.3149 106.293,-58 109,-58 110.65,-58 111.694,-54.7749 112.135,-50.0981\"/>\n",
       "<polygon fill=\"black\" stroke=\"black\" points=\"115.638,-49.8156 112.236,-39.7817 108.638,-49.7469 115.638,-49.8156\"/>\n",
       "<text text-anchor=\"middle\" x=\"109\" y=\"-60.8\" font-family=\"Times,serif\" font-size=\"14.00\">0</text>\n",
       "</g>\n",
       "<!-- I&#45;&gt;I -->\n",
       "<g id=\"edge3\" class=\"edge\"><title>I&#45;&gt;I</title>\n",
       "<path fill=\"none\" stroke=\"black\" d=\"M103.684,-39.4203C100.654,-56.791 102.426,-76 109,-76 114.29,-76 116.471,-63.5617 115.542,-49.652\"/>\n",
       "<polygon fill=\"black\" stroke=\"black\" points=\"118.981,-48.9328 114.316,-39.4203 112.031,-49.7657 118.981,-48.9328\"/>\n",
       "<text text-anchor=\"middle\" x=\"109\" y=\"-78.8\" font-family=\"Times,serif\" font-size=\"14.00\">1</text>\n",
       "</g>\n",
       "<!-- S0 -->\n",
       "<g id=\"node5\" class=\"node\"><title>S0</title>\n",
       "<ellipse fill=\"none\" stroke=\"black\" cx=\"195.339\" cy=\"-22\" rx=\"19.3939\" ry=\"19.3939\"/>\n",
       "<text text-anchor=\"middle\" x=\"195.339\" y=\"-17.8\" font-family=\"Times,serif\" font-size=\"14.00\">S0</text>\n",
       "</g>\n",
       "<!-- I&#45;&gt;S0 -->\n",
       "<g id=\"edge4\" class=\"edge\"><title>I&#45;&gt;S0</title>\n",
       "<path fill=\"none\" stroke=\"black\" d=\"M127.067,-22C138.123,-22 152.798,-22 165.62,-22\"/>\n",
       "<polygon fill=\"black\" stroke=\"black\" points=\"165.834,-25.5001 175.834,-22 165.834,-18.5001 165.834,-25.5001\"/>\n",
       "<text text-anchor=\"middle\" x=\"151.446\" y=\"-24.8\" font-family=\"Times,serif\" font-size=\"14.00\">1</text>\n",
       "</g>\n",
       "<!-- I&#45;&gt;S0 -->\n",
       "<g id=\"edge5\" class=\"edge\"><title>I&#45;&gt;S0</title>\n",
       "<path fill=\"none\" stroke=\"black\" d=\"M124.717,-12.4577C130.75,-9.08304 137.96,-5.70409 145,-4 153.101,-2.03906 161.707,-3.77325 169.425,-6.81383\"/>\n",
       "<polygon fill=\"black\" stroke=\"black\" points=\"168.086,-10.0529 178.621,-11.1841 171.091,-3.73057 168.086,-10.0529\"/>\n",
       "<text text-anchor=\"middle\" x=\"151.446\" y=\"-6.8\" font-family=\"Times,serif\" font-size=\"14.00\">@</text>\n",
       "</g>\n",
       "<!-- F -->\n",
       "<g id=\"node6\" class=\"node\"><title>F</title>\n",
       "<ellipse fill=\"none\" stroke=\"black\" cx=\"443.574\" cy=\"-22\" rx=\"18\" ry=\"18\"/>\n",
       "<ellipse fill=\"none\" stroke=\"black\" cx=\"443.574\" cy=\"-22\" rx=\"22\" ry=\"22\"/>\n",
       "<text text-anchor=\"middle\" x=\"443.574\" y=\"-17.8\" font-family=\"Times,serif\" font-size=\"14.00\">F</text>\n",
       "</g>\n",
       "<!-- S2&#45;&gt;F -->\n",
       "<g id=\"edge9\" class=\"edge\"><title>S2&#45;&gt;F</title>\n",
       "<path fill=\"none\" stroke=\"black\" d=\"M378.835,-22C388.412,-22 400.328,-22 411.257,-22\"/>\n",
       "<polygon fill=\"black\" stroke=\"black\" points=\"411.323,-25.5001 421.323,-22 411.323,-18.5001 411.323,-25.5001\"/>\n",
       "<text text-anchor=\"middle\" x=\"400.074\" y=\"-24.8\" font-family=\"Times,serif\" font-size=\"14.00\">0</text>\n",
       "</g>\n",
       "<!-- S2&#45;&gt;F -->\n",
       "<g id=\"edge10\" class=\"edge\"><title>S2&#45;&gt;F</title>\n",
       "<path fill=\"none\" stroke=\"black\" d=\"M376.216,-12.0723C382.354,-8.82659 389.564,-5.63661 396.574,-4 402.931,-2.51573 409.575,-3.50584 415.773,-5.63\"/>\n",
       "<polygon fill=\"black\" stroke=\"black\" points=\"414.478,-8.88387 425.041,-9.7088 417.298,-2.47695 414.478,-8.88387\"/>\n",
       "<text text-anchor=\"middle\" x=\"400.074\" y=\"-6.8\" font-family=\"Times,serif\" font-size=\"14.00\">1</text>\n",
       "</g>\n",
       "<!-- S0&#45;&gt;S1 -->\n",
       "<g id=\"edge6\" class=\"edge\"><title>S0&#45;&gt;S1</title>\n",
       "<path fill=\"none\" stroke=\"black\" d=\"M214.869,-22C224.481,-22 236.44,-22 247.241,-22\"/>\n",
       "<polygon fill=\"black\" stroke=\"black\" points=\"247.527,-25.5001 257.527,-22 247.527,-18.5001 247.527,-25.5001\"/>\n",
       "<text text-anchor=\"middle\" x=\"236.286\" y=\"-24.8\" font-family=\"Times,serif\" font-size=\"14.00\">1</text>\n",
       "</g>\n",
       "</g>\n",
       "</svg>\n"
      ],
      "text/plain": [
       "<graphviz.dot.Digraph at 0x107504d30>"
      ]
     },
     "execution_count": 45,
     "metadata": {},
     "output_type": "execute_result"
    }
   ],
   "source": [
    "dotObj_nfa(NFA_fig61ab,visible_eps=True,nfaName=\"NFA_fig61ab\")"
   ]
  },
  {
   "cell_type": "code",
   "execution_count": 46,
   "metadata": {
    "run_control": {
     "frozen": false,
     "read_only": false
    }
   },
   "outputs": [
    {
     "data": {
      "image/svg+xml": [
       "<?xml version=\"1.0\" encoding=\"UTF-8\" standalone=\"no\"?>\n",
       "<!DOCTYPE svg PUBLIC \"-//W3C//DTD SVG 1.1//EN\"\n",
       " \"http://www.w3.org/Graphics/SVG/1.1/DTD/svg11.dtd\">\n",
       "<!-- Generated by graphviz version 2.38.0 (20140413.2041)\n",
       " -->\n",
       "<!-- Title: %3 Pages: 1 -->\n",
       "<svg width=\"782pt\" height=\"296pt\"\n",
       " viewBox=\"0.00 0.00 782.46 296.00\" xmlns=\"http://www.w3.org/2000/svg\" xmlns:xlink=\"http://www.w3.org/1999/xlink\">\n",
       "<g id=\"graph0\" class=\"graph\" transform=\"scale(1 1) rotate(0) translate(4 292)\">\n",
       "<title>%3</title>\n",
       "<polygon fill=\"white\" stroke=\"none\" points=\"-4,4 -4,-292 778.462,-292 778.462,4 -4,4\"/>\n",
       "<!-- EMPTY -->\n",
       "<g id=\"node1\" class=\"node\"><title>EMPTY</title>\n",
       "</g>\n",
       "<!-- St7 -->\n",
       "<g id=\"node4\" class=\"node\"><title>St7</title>\n",
       "<ellipse fill=\"none\" stroke=\"black\" cx=\"112.904\" cy=\"-49\" rx=\"21.8081\" ry=\"21.8081\"/>\n",
       "<text text-anchor=\"middle\" x=\"112.904\" y=\"-44.8\" font-family=\"Times,serif\" font-size=\"14.00\">St7</text>\n",
       "</g>\n",
       "<!-- EMPTY&#45;&gt;St7 -->\n",
       "<g id=\"edge1\" class=\"edge\"><title>EMPTY&#45;&gt;St7</title>\n",
       "<path fill=\"none\" stroke=\"black\" d=\"M54.0878,-49C62.501,-49 71.9126,-49 80.6587,-49\"/>\n",
       "<polygon fill=\"black\" stroke=\"black\" points=\"80.8854,-52.5001 90.8853,-49 80.8853,-45.5001 80.8854,-52.5001\"/>\n",
       "</g>\n",
       "<!-- St5 -->\n",
       "<g id=\"node2\" class=\"node\"><title>St5</title>\n",
       "<ellipse fill=\"none\" stroke=\"black\" cx=\"199.712\" cy=\"-124\" rx=\"21.8081\" ry=\"21.8081\"/>\n",
       "<text text-anchor=\"middle\" x=\"199.712\" y=\"-119.8\" font-family=\"Times,serif\" font-size=\"14.00\">St5</text>\n",
       "</g>\n",
       "<!-- St6 -->\n",
       "<g id=\"node3\" class=\"node\"><title>St6</title>\n",
       "<ellipse fill=\"none\" stroke=\"black\" cx=\"286.519\" cy=\"-221\" rx=\"21.8081\" ry=\"21.8081\"/>\n",
       "<text text-anchor=\"middle\" x=\"286.519\" y=\"-216.8\" font-family=\"Times,serif\" font-size=\"14.00\">St6</text>\n",
       "</g>\n",
       "<!-- St5&#45;&gt;St6 -->\n",
       "<g id=\"edge5\" class=\"edge\"><title>St5&#45;&gt;St6</title>\n",
       "<path fill=\"none\" stroke=\"black\" d=\"M214.19,-140.705C221.586,-149.764 230.984,-161.1 239.615,-171 247.442,-179.976 256.243,-189.658 264.03,-198.089\"/>\n",
       "<polygon fill=\"black\" stroke=\"black\" points=\"261.47,-200.476 270.838,-205.424 266.6,-195.713 261.47,-200.476\"/>\n",
       "<text text-anchor=\"middle\" x=\"243.115\" y=\"-181.8\" font-family=\"Times,serif\" font-size=\"14.00\">0</text>\n",
       "</g>\n",
       "<!-- St4 -->\n",
       "<g id=\"node5\" class=\"node\"><title>St4</title>\n",
       "<ellipse fill=\"none\" stroke=\"black\" cx=\"468.135\" cy=\"-172\" rx=\"21.8081\" ry=\"21.8081\"/>\n",
       "<text text-anchor=\"middle\" x=\"468.135\" y=\"-167.8\" font-family=\"Times,serif\" font-size=\"14.00\">St4</text>\n",
       "</g>\n",
       "<!-- St5&#45;&gt;St4 -->\n",
       "<g id=\"edge4\" class=\"edge\"><title>St5&#45;&gt;St4</title>\n",
       "<path fill=\"none\" stroke=\"black\" d=\"M221.617,-127.766C268.308,-136.179 381.265,-156.529 436.158,-166.419\"/>\n",
       "<polygon fill=\"black\" stroke=\"black\" points=\"435.864,-169.922 446.326,-168.251 437.105,-163.033 435.864,-169.922\"/>\n",
       "<text text-anchor=\"middle\" x=\"329.923\" y=\"-150.8\" font-family=\"Times,serif\" font-size=\"14.00\">1</text>\n",
       "</g>\n",
       "<!-- St3 -->\n",
       "<g id=\"node7\" class=\"node\"><title>St3</title>\n",
       "<ellipse fill=\"none\" stroke=\"black\" cx=\"748.558\" cy=\"-79\" rx=\"21.8229\" ry=\"21.8229\"/>\n",
       "<ellipse fill=\"none\" stroke=\"black\" cx=\"748.558\" cy=\"-79\" rx=\"25.8081\" ry=\"25.8081\"/>\n",
       "<text text-anchor=\"middle\" x=\"748.558\" y=\"-74.8\" font-family=\"Times,serif\" font-size=\"14.00\">St3</text>\n",
       "</g>\n",
       "<!-- St6&#45;&gt;St3 -->\n",
       "<g id=\"edge9\" class=\"edge\"><title>St6&#45;&gt;St3</title>\n",
       "<path fill=\"none\" stroke=\"black\" d=\"M302.275,-236.615C318.716,-252.249 346.881,-274 376.327,-274 376.327,-274 376.327,-274 654.75,-274 724.315,-274 741.794,-171.567 746.146,-115.183\"/>\n",
       "<polygon fill=\"black\" stroke=\"black\" points=\"749.659,-115.106 746.834,-104.894 742.674,-114.639 749.659,-115.106\"/>\n",
       "<text text-anchor=\"middle\" x=\"511.539\" y=\"-276.8\" font-family=\"Times,serif\" font-size=\"14.00\">0</text>\n",
       "</g>\n",
       "<!-- St1 -->\n",
       "<g id=\"node8\" class=\"node\"><title>St1</title>\n",
       "<ellipse fill=\"none\" stroke=\"black\" cx=\"377.327\" cy=\"-217\" rx=\"21.8229\" ry=\"21.8229\"/>\n",
       "<ellipse fill=\"none\" stroke=\"black\" cx=\"377.327\" cy=\"-217\" rx=\"25.8081\" ry=\"25.8081\"/>\n",
       "<text text-anchor=\"middle\" x=\"377.327\" y=\"-212.8\" font-family=\"Times,serif\" font-size=\"14.00\">St1</text>\n",
       "</g>\n",
       "<!-- St6&#45;&gt;St1 -->\n",
       "<g id=\"edge8\" class=\"edge\"><title>St6&#45;&gt;St1</title>\n",
       "<path fill=\"none\" stroke=\"black\" d=\"M308.553,-221.41C316.366,-221.454 325.303,-221.378 333.423,-221 335.973,-220.881 338.606,-220.723 341.254,-220.538\"/>\n",
       "<polygon fill=\"black\" stroke=\"black\" points=\"341.713,-224.013 351.399,-219.719 341.15,-217.036 341.713,-224.013\"/>\n",
       "<text text-anchor=\"middle\" x=\"329.923\" y=\"-223.8\" font-family=\"Times,serif\" font-size=\"14.00\">1</text>\n",
       "</g>\n",
       "<!-- St7&#45;&gt;St5 -->\n",
       "<g id=\"edge2\" class=\"edge\"><title>St7&#45;&gt;St5</title>\n",
       "<path fill=\"none\" stroke=\"black\" d=\"M129.856,-63.1069C142.649,-74.4206 160.79,-90.4642 175.241,-103.243\"/>\n",
       "<polygon fill=\"black\" stroke=\"black\" points=\"173.022,-105.953 182.831,-109.956 177.659,-100.71 173.022,-105.953\"/>\n",
       "<text text-anchor=\"middle\" x=\"156.308\" y=\"-91.8\" font-family=\"Times,serif\" font-size=\"14.00\">1</text>\n",
       "</g>\n",
       "<!-- St7&#45;&gt;St7 -->\n",
       "<g id=\"edge3\" class=\"edge\"><title>St7&#45;&gt;St7</title>\n",
       "<path fill=\"none\" stroke=\"black\" d=\"M105.587,-69.9403C104.684,-80.0125 107.123,-88.9039 112.904,-88.9039 116.607,-88.9039 118.939,-85.2549 119.9,-79.984\"/>\n",
       "<polygon fill=\"black\" stroke=\"black\" points=\"123.399,-80.0471 120.221,-69.9403 116.403,-79.8233 123.399,-80.0471\"/>\n",
       "<text text-anchor=\"middle\" x=\"112.904\" y=\"-91.7039\" font-family=\"Times,serif\" font-size=\"14.00\">0</text>\n",
       "</g>\n",
       "<!-- St2 -->\n",
       "<g id=\"node6\" class=\"node\"><title>St2</title>\n",
       "<ellipse fill=\"none\" stroke=\"black\" cx=\"653.75\" cy=\"-147\" rx=\"21.8229\" ry=\"21.8229\"/>\n",
       "<ellipse fill=\"none\" stroke=\"black\" cx=\"653.75\" cy=\"-147\" rx=\"25.8081\" ry=\"25.8081\"/>\n",
       "<text text-anchor=\"middle\" x=\"653.75\" y=\"-142.8\" font-family=\"Times,serif\" font-size=\"14.00\">St2</text>\n",
       "</g>\n",
       "<!-- St4&#45;&gt;St2 -->\n",
       "<g id=\"edge7\" class=\"edge\"><title>St4&#45;&gt;St2</title>\n",
       "<path fill=\"none\" stroke=\"black\" d=\"M490.197,-172.617C513.51,-172.947 552.118,-172.443 584.846,-167 596.356,-165.086 608.667,-161.841 619.603,-158.515\"/>\n",
       "<polygon fill=\"black\" stroke=\"black\" points=\"620.722,-161.832 629.197,-155.474 618.607,-155.159 620.722,-161.832\"/>\n",
       "<text text-anchor=\"middle\" x=\"558.943\" y=\"-173.8\" font-family=\"Times,serif\" font-size=\"14.00\">0</text>\n",
       "</g>\n",
       "<!-- St0 -->\n",
       "<g id=\"node9\" class=\"node\"><title>St0</title>\n",
       "<ellipse fill=\"none\" stroke=\"black\" cx=\"558.943\" cy=\"-100\" rx=\"21.8229\" ry=\"21.8229\"/>\n",
       "<ellipse fill=\"none\" stroke=\"black\" cx=\"558.943\" cy=\"-100\" rx=\"25.8081\" ry=\"25.8081\"/>\n",
       "<text text-anchor=\"middle\" x=\"558.943\" y=\"-95.8\" font-family=\"Times,serif\" font-size=\"14.00\">St0</text>\n",
       "</g>\n",
       "<!-- St4&#45;&gt;St0 -->\n",
       "<g id=\"edge6\" class=\"edge\"><title>St4&#45;&gt;St0</title>\n",
       "<path fill=\"none\" stroke=\"black\" d=\"M485.839,-158.457C498.271,-148.378 515.527,-134.388 530.041,-122.621\"/>\n",
       "<polygon fill=\"black\" stroke=\"black\" points=\"532.649,-125.012 538.213,-115.996 528.24,-119.575 532.649,-125.012\"/>\n",
       "<text text-anchor=\"middle\" x=\"511.539\" y=\"-143.8\" font-family=\"Times,serif\" font-size=\"14.00\">1</text>\n",
       "</g>\n",
       "<!-- St2&#45;&gt;St3 -->\n",
       "<g id=\"edge13\" class=\"edge\"><title>St2&#45;&gt;St3</title>\n",
       "<path fill=\"none\" stroke=\"black\" d=\"M675.347,-131.909C688.084,-122.577 704.623,-110.458 718.659,-100.174\"/>\n",
       "<polygon fill=\"black\" stroke=\"black\" points=\"721.021,-102.783 727.019,-94.0492 716.883,-97.1363 721.021,-102.783\"/>\n",
       "<text text-anchor=\"middle\" x=\"701.154\" y=\"-118.8\" font-family=\"Times,serif\" font-size=\"14.00\">0</text>\n",
       "</g>\n",
       "<!-- St2&#45;&gt;St1 -->\n",
       "<g id=\"edge12\" class=\"edge\"><title>St2&#45;&gt;St1</title>\n",
       "<path fill=\"none\" stroke=\"black\" d=\"M632.934,-162.838C620.029,-172.208 602.386,-183.322 584.846,-189 526.738,-207.81 455.467,-213.988 413.658,-216.014\"/>\n",
       "<polygon fill=\"black\" stroke=\"black\" points=\"413.278,-212.527 403.438,-216.455 413.579,-219.521 413.278,-212.527\"/>\n",
       "<text text-anchor=\"middle\" x=\"511.539\" y=\"-208.8\" font-family=\"Times,serif\" font-size=\"14.00\">1</text>\n",
       "</g>\n",
       "<!-- St3&#45;&gt;St5 -->\n",
       "<g id=\"edge16\" class=\"edge\"><title>St3&#45;&gt;St5</title>\n",
       "<path fill=\"none\" stroke=\"black\" d=\"M725.825,-66.5241C707.49,-57.1791 680.23,-46 654.75,-46 285.519,-46 285.519,-46 285.519,-46 254.968,-46 230.685,-73.7616 216.065,-96.1602\"/>\n",
       "<polygon fill=\"black\" stroke=\"black\" points=\"213.054,-94.3751 210.762,-104.719 219.004,-98.0622 213.054,-94.3751\"/>\n",
       "<text text-anchor=\"middle\" x=\"468.135\" y=\"-48.8\" font-family=\"Times,serif\" font-size=\"14.00\">1</text>\n",
       "</g>\n",
       "<!-- St3&#45;&gt;St7 -->\n",
       "<g id=\"edge17\" class=\"edge\"><title>St3&#45;&gt;St7</title>\n",
       "<path fill=\"none\" stroke=\"black\" d=\"M734.519,-56.9941C718.814,-33.6186 690.086,-0 654.75,-0 198.712,-0 198.712,-0 198.712,-0 175.398,-0 152.732,-14.054 136.706,-27.1087\"/>\n",
       "<polygon fill=\"black\" stroke=\"black\" points=\"134.264,-24.592 128.962,-33.7647 138.827,-29.9004 134.264,-24.592\"/>\n",
       "<text text-anchor=\"middle\" x=\"424.731\" y=\"-2.8\" font-family=\"Times,serif\" font-size=\"14.00\">0</text>\n",
       "</g>\n",
       "<!-- St1&#45;&gt;St6 -->\n",
       "<g id=\"edge15\" class=\"edge\"><title>St1&#45;&gt;St6</title>\n",
       "<path fill=\"none\" stroke=\"black\" d=\"M353.857,-205.84C345.321,-202.885 335.475,-201.007 326.423,-203 322.716,-203.816 318.943,-205.021 315.276,-206.428\"/>\n",
       "<polygon fill=\"black\" stroke=\"black\" points=\"313.708,-203.293 305.937,-210.495 316.503,-209.711 313.708,-203.293\"/>\n",
       "<text text-anchor=\"middle\" x=\"329.923\" y=\"-205.8\" font-family=\"Times,serif\" font-size=\"14.00\">0</text>\n",
       "</g>\n",
       "<!-- St1&#45;&gt;St4 -->\n",
       "<g id=\"edge14\" class=\"edge\"><title>St1&#45;&gt;St4</title>\n",
       "<path fill=\"none\" stroke=\"black\" d=\"M400.737,-205.645C412.448,-199.711 426.889,-192.393 439.309,-186.099\"/>\n",
       "<polygon fill=\"black\" stroke=\"black\" points=\"440.997,-189.168 448.335,-181.526 437.833,-182.924 440.997,-189.168\"/>\n",
       "<text text-anchor=\"middle\" x=\"424.731\" y=\"-196.8\" font-family=\"Times,serif\" font-size=\"14.00\">1</text>\n",
       "</g>\n",
       "<!-- St0&#45;&gt;St2 -->\n",
       "<g id=\"edge11\" class=\"edge\"><title>St0&#45;&gt;St2</title>\n",
       "<path fill=\"none\" stroke=\"black\" d=\"M582.409,-111.377C594.064,-117.28 608.494,-124.588 621.245,-131.045\"/>\n",
       "<polygon fill=\"black\" stroke=\"black\" points=\"619.667,-134.169 630.169,-135.564 622.829,-127.924 619.667,-134.169\"/>\n",
       "<text text-anchor=\"middle\" x=\"606.346\" y=\"-127.8\" font-family=\"Times,serif\" font-size=\"14.00\">0</text>\n",
       "</g>\n",
       "<!-- St0&#45;&gt;St0 -->\n",
       "<g id=\"edge10\" class=\"edge\"><title>St0&#45;&gt;St0</title>\n",
       "<path fill=\"none\" stroke=\"black\" d=\"M550.393,-124.824C549.804,-135.15 552.653,-143.904 558.943,-143.904 562.971,-143.904 565.589,-140.311 566.795,-135.014\"/>\n",
       "<polygon fill=\"black\" stroke=\"black\" points=\"570.301,-135.039 567.492,-124.824 563.317,-134.562 570.301,-135.039\"/>\n",
       "<text text-anchor=\"middle\" x=\"558.943\" y=\"-146.704\" font-family=\"Times,serif\" font-size=\"14.00\">1</text>\n",
       "</g>\n",
       "</g>\n",
       "</svg>\n"
      ],
      "text/plain": [
       "<graphviz.dot.Digraph at 0x1075049e8>"
      ]
     },
     "execution_count": 46,
     "metadata": {},
     "output_type": "execute_result"
    }
   ],
   "source": [
    "dotObj_dfa(nfa2dfa(NFA_fig61ab), 'n1')"
   ]
  },
  {
   "cell_type": "markdown",
   "metadata": {
    "editable": false,
    "run_control": {
     "frozen": false,
     "read_only": false
    }
   },
   "source": [
    "# Brzozowski's DFA Minimization\n",
    "\n",
    "Picking up from our earlier discussions, to minimize a DFA using Brzozowski's algorithm, here are the steps:\n",
    "\n",
    "* Make sure that the given DFA has no unreachable states\n",
    "* Reverse the DFA\n",
    "* Determinize it\n",
    "* Reverse that DFA\n",
    "* Determinize it\n",
    "\n",
    "Thus we need to write a routine to reverse a DFA. We already have a way to ensure that a DFA does not have unreachable states (in another Jupyter notebook; we won't bother to include it here, and trust the user to always provide such DFA only).\n",
    "\n",
    "We can observe that if a DFA has black-hole states, then those states won't matter in the reversed machine (reversed NFA). Thus, we can work with __partial__ dfa (i.e., DFA that are partially consistent)."
   ]
  },
  {
   "cell_type": "markdown",
   "metadata": {
    "editable": false,
    "run_control": {
     "frozen": false,
     "read_only": false
    }
   },
   "source": [
    "## DFA reversal"
   ]
  },
  {
   "cell_type": "code",
   "execution_count": 47,
   "metadata": {
    "run_control": {
     "frozen": false,
     "read_only": false
    }
   },
   "outputs": [],
   "source": [
    "def inSets(D,trg,ch):\n",
    "    \"\"\"In : D   = partially consistent dfa,\n",
    "            trg = a target state in D[\"q\"]\n",
    "            ch  = a member of D[\"Sigma\"]\n",
    "       Out: a set of states. { q s.t. Delta[q,ch] == trg }\n",
    "    \"\"\"\n",
    "    return { q for q in D[\"Q\"] if D[\"Delta\"][(q,ch)] == trg }\n",
    "\n",
    "def rev_dfa(D):\n",
    "    \"\"\"In : D = a partially consistent DFA without any unreachable states.\n",
    "       Out: A consistent NFA whose language is D's language reversed.\n",
    "    \"\"\"\n",
    "    # 1. Given that NFAs start from a SET of states, we already have that\n",
    "    #   info. No need to add any transitions from \"a new initial state\" \n",
    "    #   etc\n",
    "    \n",
    "    # 2. Now add the inSets of each state as the NFA next set of states\n",
    "    NDict = { (q,ch) : inSets(D,q,ch) \n",
    "              for q in D[\"Q\"] \n",
    "              for ch in D[\"Sigma\"] }\n",
    "    \n",
    "    # Notice that we retain D[\"Q\"] and start from Q0 = D[\"F\"]\n",
    "    # going backwards along NDict toward F_dfa = { D[\"q0\"] }\n",
    "    return mk_nfa(D[\"Q\"], D[\"Sigma\"], NDict, D[\"F\"], {D[\"q0\"]})"
   ]
  },
  {
   "cell_type": "code",
   "execution_count": 48,
   "metadata": {
    "run_control": {
     "frozen": false,
     "read_only": false
    }
   },
   "outputs": [
    {
     "data": {
      "image/svg+xml": [
       "<?xml version=\"1.0\" encoding=\"UTF-8\" standalone=\"no\"?>\n",
       "<!DOCTYPE svg PUBLIC \"-//W3C//DTD SVG 1.1//EN\"\n",
       " \"http://www.w3.org/Graphics/SVG/1.1/DTD/svg11.dtd\">\n",
       "<!-- Generated by graphviz version 2.38.0 (20140413.2041)\n",
       " -->\n",
       "<!-- Title: %3 Pages: 1 -->\n",
       "<svg width=\"301pt\" height=\"137pt\"\n",
       " viewBox=\"0.00 0.00 301.00 137.00\" xmlns=\"http://www.w3.org/2000/svg\" xmlns:xlink=\"http://www.w3.org/1999/xlink\">\n",
       "<g id=\"graph0\" class=\"graph\" transform=\"scale(1 1) rotate(0) translate(4 133)\">\n",
       "<title>%3</title>\n",
       "<polygon fill=\"white\" stroke=\"none\" points=\"-4,4 -4,-133 297,-133 297,4 -4,4\"/>\n",
       "<!-- EMPTY -->\n",
       "<g id=\"node1\" class=\"node\"><title>EMPTY</title>\n",
       "</g>\n",
       "<!-- IF -->\n",
       "<g id=\"node4\" class=\"node\"><title>IF</title>\n",
       "<ellipse fill=\"none\" stroke=\"black\" cx=\"113\" cy=\"-75\" rx=\"18\" ry=\"18\"/>\n",
       "<ellipse fill=\"none\" stroke=\"black\" cx=\"113\" cy=\"-75\" rx=\"22\" ry=\"22\"/>\n",
       "<text text-anchor=\"middle\" x=\"113\" y=\"-70.8\" font-family=\"Times,serif\" font-size=\"14.00\">IF</text>\n",
       "</g>\n",
       "<!-- EMPTY&#45;&gt;IF -->\n",
       "<g id=\"edge1\" class=\"edge\"><title>EMPTY&#45;&gt;IF</title>\n",
       "<path fill=\"none\" stroke=\"black\" d=\"M54.1177,-75C62.5406,-75 71.9629,-75 80.7191,-75\"/>\n",
       "<polygon fill=\"black\" stroke=\"black\" points=\"80.9574,-78.5001 90.9574,-75 80.9573,-71.5001 80.9574,-78.5001\"/>\n",
       "</g>\n",
       "<!-- B -->\n",
       "<g id=\"node2\" class=\"node\"><title>B</title>\n",
       "<ellipse fill=\"none\" stroke=\"black\" cx=\"275\" cy=\"-75\" rx=\"18\" ry=\"18\"/>\n",
       "<text text-anchor=\"middle\" x=\"275\" y=\"-70.8\" font-family=\"Times,serif\" font-size=\"14.00\">B</text>\n",
       "</g>\n",
       "<!-- B&#45;&gt;B -->\n",
       "<g id=\"edge7\" class=\"edge\"><title>B&#45;&gt;B</title>\n",
       "<path fill=\"none\" stroke=\"black\" d=\"M268.266,-92.0373C266.892,-101.858 269.137,-111 275,-111 278.665,-111 280.916,-107.429 281.753,-102.353\"/>\n",
       "<polygon fill=\"black\" stroke=\"black\" points=\"285.252,-102.031 281.734,-92.0373 278.252,-102.044 285.252,-102.031\"/>\n",
       "<text text-anchor=\"middle\" x=\"275\" y=\"-113.8\" font-family=\"Times,serif\" font-size=\"14.00\">1</text>\n",
       "</g>\n",
       "<!-- B&#45;&gt;IF -->\n",
       "<g id=\"edge6\" class=\"edge\"><title>B&#45;&gt;IF</title>\n",
       "<path fill=\"none\" stroke=\"black\" d=\"M256.935,-75.7202C244.929,-76.1898 228.485,-76.7586 214,-77 198.002,-77.2666 193.998,-77.2499 178,-77 167.358,-76.8338 155.724,-76.5121 145.329,-76.1746\"/>\n",
       "<polygon fill=\"black\" stroke=\"black\" points=\"145.152,-72.6666 135.038,-75.8229 144.913,-79.6625 145.152,-72.6666\"/>\n",
       "<text text-anchor=\"middle\" x=\"196\" y=\"-79.8\" font-family=\"Times,serif\" font-size=\"14.00\">0</text>\n",
       "</g>\n",
       "<!-- A -->\n",
       "<g id=\"node3\" class=\"node\"><title>A</title>\n",
       "<ellipse fill=\"none\" stroke=\"black\" cx=\"196\" cy=\"-18\" rx=\"18\" ry=\"18\"/>\n",
       "<text text-anchor=\"middle\" x=\"196\" y=\"-13.8\" font-family=\"Times,serif\" font-size=\"14.00\">A</text>\n",
       "</g>\n",
       "<!-- A&#45;&gt;B -->\n",
       "<g id=\"edge4\" class=\"edge\"><title>A&#45;&gt;B</title>\n",
       "<path fill=\"none\" stroke=\"black\" d=\"M211.123,-28.4547C222.52,-36.8913 238.758,-48.9118 251.878,-58.6237\"/>\n",
       "<polygon fill=\"black\" stroke=\"black\" points=\"249.847,-61.4749 259.967,-64.6116 254.012,-55.8487 249.847,-61.4749\"/>\n",
       "<text text-anchor=\"middle\" x=\"235.5\" y=\"-50.8\" font-family=\"Times,serif\" font-size=\"14.00\">0</text>\n",
       "</g>\n",
       "<!-- A&#45;&gt;A -->\n",
       "<g id=\"edge5\" class=\"edge\"><title>A&#45;&gt;A</title>\n",
       "<path fill=\"none\" stroke=\"black\" d=\"M189.266,-35.0373C187.892,-44.8579 190.137,-54 196,-54 199.665,-54 201.916,-50.4289 202.753,-45.3529\"/>\n",
       "<polygon fill=\"black\" stroke=\"black\" points=\"206.252,-45.0307 202.734,-35.0373 199.252,-45.0439 206.252,-45.0307\"/>\n",
       "<text text-anchor=\"middle\" x=\"196\" y=\"-56.8\" font-family=\"Times,serif\" font-size=\"14.00\">1</text>\n",
       "</g>\n",
       "<!-- IF&#45;&gt;A -->\n",
       "<g id=\"edge2\" class=\"edge\"><title>IF&#45;&gt;A</title>\n",
       "<path fill=\"none\" stroke=\"black\" d=\"M131.576,-62.6318C143.522,-54.2252 159.436,-43.0264 172.335,-33.9498\"/>\n",
       "<polygon fill=\"black\" stroke=\"black\" points=\"174.533,-36.6827 180.697,-28.0654 170.504,-30.958 174.533,-36.6827\"/>\n",
       "<text text-anchor=\"middle\" x=\"156.5\" y=\"-48.8\" font-family=\"Times,serif\" font-size=\"14.00\">0</text>\n",
       "</g>\n",
       "<!-- IF&#45;&gt;IF -->\n",
       "<g id=\"edge3\" class=\"edge\"><title>IF&#45;&gt;IF</title>\n",
       "<path fill=\"none\" stroke=\"black\" d=\"M105.683,-95.9908C104.78,-106.087 107.219,-115 113,-115 116.704,-115 119.036,-111.342 119.996,-106.059\"/>\n",
       "<polygon fill=\"black\" stroke=\"black\" points=\"123.496,-106.097 120.317,-95.9908 116.5,-105.874 123.496,-106.097\"/>\n",
       "<text text-anchor=\"middle\" x=\"113\" y=\"-117.8\" font-family=\"Times,serif\" font-size=\"14.00\">1</text>\n",
       "</g>\n",
       "</g>\n",
       "</svg>\n"
      ],
      "text/plain": [
       "<graphviz.dot.Digraph at 0x107592d30>"
      ]
     },
     "execution_count": 48,
     "metadata": {},
     "output_type": "execute_result"
    }
   ],
   "source": [
    "DFA34 = { 'Q': {'A', 'IF', 'B'},\n",
    "          'Sigma': {'0', '1'},\n",
    "          'Delta': { ('IF', '0'): 'A',\n",
    "                     ('IF', '1'): 'IF',\n",
    "                     ('A', '0'): 'B',\n",
    "                     ('A', '1'): 'A',\n",
    "                     ('B', '0'): 'IF',\n",
    "                     ('B', '1'): 'B' },\n",
    "          'q0': 'IF', \n",
    "          'F': {'IF'}   \n",
    "        }\n",
    "dotObj_dfa(DFA34, \"DFA34\")"
   ]
  },
  {
   "cell_type": "code",
   "execution_count": 49,
   "metadata": {
    "editable": false,
    "run_control": {
     "frozen": false,
     "read_only": false
    }
   },
   "outputs": [
    {
     "data": {
      "image/svg+xml": [
       "<?xml version=\"1.0\" encoding=\"UTF-8\" standalone=\"no\"?>\n",
       "<!DOCTYPE svg PUBLIC \"-//W3C//DTD SVG 1.1//EN\"\n",
       " \"http://www.w3.org/Graphics/SVG/1.1/DTD/svg11.dtd\">\n",
       "<!-- Generated by graphviz version 2.38.0 (20140413.2041)\n",
       " -->\n",
       "<!-- Title: %3 Pages: 1 -->\n",
       "<svg width=\"301pt\" height=\"137pt\"\n",
       " viewBox=\"0.00 0.00 301.00 137.00\" xmlns=\"http://www.w3.org/2000/svg\" xmlns:xlink=\"http://www.w3.org/1999/xlink\">\n",
       "<g id=\"graph0\" class=\"graph\" transform=\"scale(1 1) rotate(0) translate(4 133)\">\n",
       "<title>%3</title>\n",
       "<polygon fill=\"white\" stroke=\"none\" points=\"-4,4 -4,-133 297,-133 297,4 -4,4\"/>\n",
       "<!-- EMPTY -->\n",
       "<g id=\"node1\" class=\"node\"><title>EMPTY</title>\n",
       "</g>\n",
       "<!-- IF -->\n",
       "<g id=\"node4\" class=\"node\"><title>IF</title>\n",
       "<ellipse fill=\"none\" stroke=\"black\" cx=\"113\" cy=\"-75\" rx=\"18\" ry=\"18\"/>\n",
       "<ellipse fill=\"none\" stroke=\"black\" cx=\"113\" cy=\"-75\" rx=\"22\" ry=\"22\"/>\n",
       "<text text-anchor=\"middle\" x=\"113\" y=\"-70.8\" font-family=\"Times,serif\" font-size=\"14.00\">IF</text>\n",
       "</g>\n",
       "<!-- EMPTY&#45;&gt;IF -->\n",
       "<g id=\"edge1\" class=\"edge\"><title>EMPTY&#45;&gt;IF</title>\n",
       "<path fill=\"none\" stroke=\"black\" d=\"M54.1177,-75C62.5406,-75 71.9629,-75 80.7191,-75\"/>\n",
       "<polygon fill=\"black\" stroke=\"black\" points=\"80.9574,-78.5001 90.9574,-75 80.9573,-71.5001 80.9574,-78.5001\"/>\n",
       "</g>\n",
       "<!-- B -->\n",
       "<g id=\"node2\" class=\"node\"><title>B</title>\n",
       "<ellipse fill=\"none\" stroke=\"black\" cx=\"196\" cy=\"-18\" rx=\"18\" ry=\"18\"/>\n",
       "<text text-anchor=\"middle\" x=\"196\" y=\"-13.8\" font-family=\"Times,serif\" font-size=\"14.00\">B</text>\n",
       "</g>\n",
       "<!-- B&#45;&gt;B -->\n",
       "<g id=\"edge4\" class=\"edge\"><title>B&#45;&gt;B</title>\n",
       "<path fill=\"none\" stroke=\"black\" d=\"M189.266,-35.0373C187.892,-44.8579 190.137,-54 196,-54 199.665,-54 201.916,-50.4289 202.753,-45.3529\"/>\n",
       "<polygon fill=\"black\" stroke=\"black\" points=\"206.252,-45.0307 202.734,-35.0373 199.252,-45.0439 206.252,-45.0307\"/>\n",
       "<text text-anchor=\"middle\" x=\"196\" y=\"-56.8\" font-family=\"Times,serif\" font-size=\"14.00\">1</text>\n",
       "</g>\n",
       "<!-- A -->\n",
       "<g id=\"node3\" class=\"node\"><title>A</title>\n",
       "<ellipse fill=\"none\" stroke=\"black\" cx=\"275\" cy=\"-75\" rx=\"18\" ry=\"18\"/>\n",
       "<text text-anchor=\"middle\" x=\"275\" y=\"-70.8\" font-family=\"Times,serif\" font-size=\"14.00\">A</text>\n",
       "</g>\n",
       "<!-- B&#45;&gt;A -->\n",
       "<g id=\"edge5\" class=\"edge\"><title>B&#45;&gt;A</title>\n",
       "<path fill=\"none\" stroke=\"black\" d=\"M211.123,-28.4547C222.52,-36.8913 238.758,-48.9118 251.878,-58.6237\"/>\n",
       "<polygon fill=\"black\" stroke=\"black\" points=\"249.847,-61.4749 259.967,-64.6116 254.012,-55.8487 249.847,-61.4749\"/>\n",
       "<text text-anchor=\"middle\" x=\"235.5\" y=\"-50.8\" font-family=\"Times,serif\" font-size=\"14.00\">0</text>\n",
       "</g>\n",
       "<!-- A&#45;&gt;A -->\n",
       "<g id=\"edge6\" class=\"edge\"><title>A&#45;&gt;A</title>\n",
       "<path fill=\"none\" stroke=\"black\" d=\"M268.266,-92.0373C266.892,-101.858 269.137,-111 275,-111 278.665,-111 280.916,-107.429 281.753,-102.353\"/>\n",
       "<polygon fill=\"black\" stroke=\"black\" points=\"285.252,-102.031 281.734,-92.0373 278.252,-102.044 285.252,-102.031\"/>\n",
       "<text text-anchor=\"middle\" x=\"275\" y=\"-113.8\" font-family=\"Times,serif\" font-size=\"14.00\">1</text>\n",
       "</g>\n",
       "<!-- A&#45;&gt;IF -->\n",
       "<g id=\"edge7\" class=\"edge\"><title>A&#45;&gt;IF</title>\n",
       "<path fill=\"none\" stroke=\"black\" d=\"M256.935,-75.7202C244.929,-76.1898 228.485,-76.7586 214,-77 198.002,-77.2666 193.998,-77.2499 178,-77 167.358,-76.8338 155.724,-76.5121 145.329,-76.1746\"/>\n",
       "<polygon fill=\"black\" stroke=\"black\" points=\"145.152,-72.6666 135.038,-75.8229 144.913,-79.6625 145.152,-72.6666\"/>\n",
       "<text text-anchor=\"middle\" x=\"196\" y=\"-79.8\" font-family=\"Times,serif\" font-size=\"14.00\">0</text>\n",
       "</g>\n",
       "<!-- IF&#45;&gt;B -->\n",
       "<g id=\"edge3\" class=\"edge\"><title>IF&#45;&gt;B</title>\n",
       "<path fill=\"none\" stroke=\"black\" d=\"M131.576,-62.6318C143.522,-54.2252 159.436,-43.0264 172.335,-33.9498\"/>\n",
       "<polygon fill=\"black\" stroke=\"black\" points=\"174.533,-36.6827 180.697,-28.0654 170.504,-30.958 174.533,-36.6827\"/>\n",
       "<text text-anchor=\"middle\" x=\"156.5\" y=\"-48.8\" font-family=\"Times,serif\" font-size=\"14.00\">0</text>\n",
       "</g>\n",
       "<!-- IF&#45;&gt;IF -->\n",
       "<g id=\"edge2\" class=\"edge\"><title>IF&#45;&gt;IF</title>\n",
       "<path fill=\"none\" stroke=\"black\" d=\"M105.683,-95.9908C104.78,-106.087 107.219,-115 113,-115 116.704,-115 119.036,-111.342 119.996,-106.059\"/>\n",
       "<polygon fill=\"black\" stroke=\"black\" points=\"123.496,-106.097 120.317,-95.9908 116.5,-105.874 123.496,-106.097\"/>\n",
       "<text text-anchor=\"middle\" x=\"113\" y=\"-117.8\" font-family=\"Times,serif\" font-size=\"14.00\">1</text>\n",
       "</g>\n",
       "</g>\n",
       "</svg>\n"
      ],
      "text/plain": [
       "<graphviz.dot.Digraph at 0x107592a58>"
      ]
     },
     "execution_count": 49,
     "metadata": {},
     "output_type": "execute_result"
    }
   ],
   "source": [
    "DFA34_rev = rev_dfa(DFA34)\n",
    "dotObj_nfa(DFA34_rev, \"DFA34_rev\")"
   ]
  },
  {
   "cell_type": "code",
   "execution_count": 50,
   "metadata": {
    "editable": false,
    "run_control": {
     "frozen": false,
     "read_only": false
    }
   },
   "outputs": [
    {
     "data": {
      "image/svg+xml": [
       "<?xml version=\"1.0\" encoding=\"UTF-8\" standalone=\"no\"?>\n",
       "<!DOCTYPE svg PUBLIC \"-//W3C//DTD SVG 1.1//EN\"\n",
       " \"http://www.w3.org/Graphics/SVG/1.1/DTD/svg11.dtd\">\n",
       "<!-- Generated by graphviz version 2.38.0 (20140413.2041)\n",
       " -->\n",
       "<!-- Title: %3 Pages: 1 -->\n",
       "<svg width=\"301pt\" height=\"137pt\"\n",
       " viewBox=\"0.00 0.00 301.00 137.00\" xmlns=\"http://www.w3.org/2000/svg\" xmlns:xlink=\"http://www.w3.org/1999/xlink\">\n",
       "<g id=\"graph0\" class=\"graph\" transform=\"scale(1 1) rotate(0) translate(4 133)\">\n",
       "<title>%3</title>\n",
       "<polygon fill=\"white\" stroke=\"none\" points=\"-4,4 -4,-133 297,-133 297,4 -4,4\"/>\n",
       "<!-- EMPTY -->\n",
       "<g id=\"node1\" class=\"node\"><title>EMPTY</title>\n",
       "</g>\n",
       "<!-- IF -->\n",
       "<g id=\"node4\" class=\"node\"><title>IF</title>\n",
       "<ellipse fill=\"none\" stroke=\"black\" cx=\"113\" cy=\"-75\" rx=\"18\" ry=\"18\"/>\n",
       "<ellipse fill=\"none\" stroke=\"black\" cx=\"113\" cy=\"-75\" rx=\"22\" ry=\"22\"/>\n",
       "<text text-anchor=\"middle\" x=\"113\" y=\"-70.8\" font-family=\"Times,serif\" font-size=\"14.00\">IF</text>\n",
       "</g>\n",
       "<!-- EMPTY&#45;&gt;IF -->\n",
       "<g id=\"edge1\" class=\"edge\"><title>EMPTY&#45;&gt;IF</title>\n",
       "<path fill=\"none\" stroke=\"black\" d=\"M54.1177,-75C62.5406,-75 71.9629,-75 80.7191,-75\"/>\n",
       "<polygon fill=\"black\" stroke=\"black\" points=\"80.9574,-78.5001 90.9574,-75 80.9573,-71.5001 80.9574,-78.5001\"/>\n",
       "</g>\n",
       "<!-- A -->\n",
       "<g id=\"node2\" class=\"node\"><title>A</title>\n",
       "<ellipse fill=\"none\" stroke=\"black\" cx=\"275\" cy=\"-75\" rx=\"18\" ry=\"18\"/>\n",
       "<text text-anchor=\"middle\" x=\"275\" y=\"-70.8\" font-family=\"Times,serif\" font-size=\"14.00\">A</text>\n",
       "</g>\n",
       "<!-- A&#45;&gt;A -->\n",
       "<g id=\"edge6\" class=\"edge\"><title>A&#45;&gt;A</title>\n",
       "<path fill=\"none\" stroke=\"black\" d=\"M268.266,-92.0373C266.892,-101.858 269.137,-111 275,-111 278.665,-111 280.916,-107.429 281.753,-102.353\"/>\n",
       "<polygon fill=\"black\" stroke=\"black\" points=\"285.252,-102.031 281.734,-92.0373 278.252,-102.044 285.252,-102.031\"/>\n",
       "<text text-anchor=\"middle\" x=\"275\" y=\"-113.8\" font-family=\"Times,serif\" font-size=\"14.00\">1</text>\n",
       "</g>\n",
       "<!-- A&#45;&gt;IF -->\n",
       "<g id=\"edge7\" class=\"edge\"><title>A&#45;&gt;IF</title>\n",
       "<path fill=\"none\" stroke=\"black\" d=\"M256.935,-75.7202C244.929,-76.1898 228.485,-76.7586 214,-77 198.002,-77.2666 193.998,-77.2499 178,-77 167.358,-76.8338 155.724,-76.5121 145.329,-76.1746\"/>\n",
       "<polygon fill=\"black\" stroke=\"black\" points=\"145.152,-72.6666 135.038,-75.8229 144.913,-79.6625 145.152,-72.6666\"/>\n",
       "<text text-anchor=\"middle\" x=\"196\" y=\"-79.8\" font-family=\"Times,serif\" font-size=\"14.00\">0</text>\n",
       "</g>\n",
       "<!-- B -->\n",
       "<g id=\"node3\" class=\"node\"><title>B</title>\n",
       "<ellipse fill=\"none\" stroke=\"black\" cx=\"196\" cy=\"-18\" rx=\"18\" ry=\"18\"/>\n",
       "<text text-anchor=\"middle\" x=\"196\" y=\"-13.8\" font-family=\"Times,serif\" font-size=\"14.00\">B</text>\n",
       "</g>\n",
       "<!-- B&#45;&gt;A -->\n",
       "<g id=\"edge5\" class=\"edge\"><title>B&#45;&gt;A</title>\n",
       "<path fill=\"none\" stroke=\"black\" d=\"M211.123,-28.4547C222.52,-36.8913 238.758,-48.9118 251.878,-58.6237\"/>\n",
       "<polygon fill=\"black\" stroke=\"black\" points=\"249.847,-61.4749 259.967,-64.6116 254.012,-55.8487 249.847,-61.4749\"/>\n",
       "<text text-anchor=\"middle\" x=\"235.5\" y=\"-50.8\" font-family=\"Times,serif\" font-size=\"14.00\">0</text>\n",
       "</g>\n",
       "<!-- B&#45;&gt;B -->\n",
       "<g id=\"edge4\" class=\"edge\"><title>B&#45;&gt;B</title>\n",
       "<path fill=\"none\" stroke=\"black\" d=\"M189.266,-35.0373C187.892,-44.8579 190.137,-54 196,-54 199.665,-54 201.916,-50.4289 202.753,-45.3529\"/>\n",
       "<polygon fill=\"black\" stroke=\"black\" points=\"206.252,-45.0307 202.734,-35.0373 199.252,-45.0439 206.252,-45.0307\"/>\n",
       "<text text-anchor=\"middle\" x=\"196\" y=\"-56.8\" font-family=\"Times,serif\" font-size=\"14.00\">1</text>\n",
       "</g>\n",
       "<!-- IF&#45;&gt;B -->\n",
       "<g id=\"edge3\" class=\"edge\"><title>IF&#45;&gt;B</title>\n",
       "<path fill=\"none\" stroke=\"black\" d=\"M131.576,-62.6318C143.522,-54.2252 159.436,-43.0264 172.335,-33.9498\"/>\n",
       "<polygon fill=\"black\" stroke=\"black\" points=\"174.533,-36.6827 180.697,-28.0654 170.504,-30.958 174.533,-36.6827\"/>\n",
       "<text text-anchor=\"middle\" x=\"156.5\" y=\"-48.8\" font-family=\"Times,serif\" font-size=\"14.00\">0</text>\n",
       "</g>\n",
       "<!-- IF&#45;&gt;IF -->\n",
       "<g id=\"edge2\" class=\"edge\"><title>IF&#45;&gt;IF</title>\n",
       "<path fill=\"none\" stroke=\"black\" d=\"M105.683,-95.9908C104.78,-106.087 107.219,-115 113,-115 116.704,-115 119.036,-111.342 119.996,-106.059\"/>\n",
       "<polygon fill=\"black\" stroke=\"black\" points=\"123.496,-106.097 120.317,-95.9908 116.5,-105.874 123.496,-106.097\"/>\n",
       "<text text-anchor=\"middle\" x=\"113\" y=\"-117.8\" font-family=\"Times,serif\" font-size=\"14.00\">1</text>\n",
       "</g>\n",
       "</g>\n",
       "</svg>\n"
      ],
      "text/plain": [
       "<graphviz.dot.Digraph at 0x107592860>"
      ]
     },
     "execution_count": 50,
     "metadata": {},
     "output_type": "execute_result"
    }
   ],
   "source": [
    "DFA34_rev_det = nfa2dfa(DFA34_rev)\n",
    "dotObj_dfa(DFA34_rev_det, \"DFA34_rev_det\")"
   ]
  },
  {
   "cell_type": "code",
   "execution_count": 51,
   "metadata": {
    "editable": false,
    "run_control": {
     "frozen": false,
     "read_only": false
    }
   },
   "outputs": [
    {
     "data": {
      "image/svg+xml": [
       "<?xml version=\"1.0\" encoding=\"UTF-8\" standalone=\"no\"?>\n",
       "<!DOCTYPE svg PUBLIC \"-//W3C//DTD SVG 1.1//EN\"\n",
       " \"http://www.w3.org/Graphics/SVG/1.1/DTD/svg11.dtd\">\n",
       "<!-- Generated by graphviz version 2.38.0 (20140413.2041)\n",
       " -->\n",
       "<!-- Title: %3 Pages: 1 -->\n",
       "<svg width=\"301pt\" height=\"137pt\"\n",
       " viewBox=\"0.00 0.00 301.00 137.00\" xmlns=\"http://www.w3.org/2000/svg\" xmlns:xlink=\"http://www.w3.org/1999/xlink\">\n",
       "<g id=\"graph0\" class=\"graph\" transform=\"scale(1 1) rotate(0) translate(4 133)\">\n",
       "<title>%3</title>\n",
       "<polygon fill=\"white\" stroke=\"none\" points=\"-4,4 -4,-133 297,-133 297,4 -4,4\"/>\n",
       "<!-- EMPTY -->\n",
       "<g id=\"node1\" class=\"node\"><title>EMPTY</title>\n",
       "</g>\n",
       "<!-- IF -->\n",
       "<g id=\"node4\" class=\"node\"><title>IF</title>\n",
       "<ellipse fill=\"none\" stroke=\"black\" cx=\"113\" cy=\"-75\" rx=\"18\" ry=\"18\"/>\n",
       "<ellipse fill=\"none\" stroke=\"black\" cx=\"113\" cy=\"-75\" rx=\"22\" ry=\"22\"/>\n",
       "<text text-anchor=\"middle\" x=\"113\" y=\"-70.8\" font-family=\"Times,serif\" font-size=\"14.00\">IF</text>\n",
       "</g>\n",
       "<!-- EMPTY&#45;&gt;IF -->\n",
       "<g id=\"edge1\" class=\"edge\"><title>EMPTY&#45;&gt;IF</title>\n",
       "<path fill=\"none\" stroke=\"black\" d=\"M54.1177,-75C62.5406,-75 71.9629,-75 80.7191,-75\"/>\n",
       "<polygon fill=\"black\" stroke=\"black\" points=\"80.9574,-78.5001 90.9574,-75 80.9573,-71.5001 80.9574,-78.5001\"/>\n",
       "</g>\n",
       "<!-- A -->\n",
       "<g id=\"node2\" class=\"node\"><title>A</title>\n",
       "<ellipse fill=\"none\" stroke=\"black\" cx=\"196\" cy=\"-18\" rx=\"18\" ry=\"18\"/>\n",
       "<text text-anchor=\"middle\" x=\"196\" y=\"-13.8\" font-family=\"Times,serif\" font-size=\"14.00\">A</text>\n",
       "</g>\n",
       "<!-- A&#45;&gt;A -->\n",
       "<g id=\"edge4\" class=\"edge\"><title>A&#45;&gt;A</title>\n",
       "<path fill=\"none\" stroke=\"black\" d=\"M189.266,-35.0373C187.892,-44.8579 190.137,-54 196,-54 199.665,-54 201.916,-50.4289 202.753,-45.3529\"/>\n",
       "<polygon fill=\"black\" stroke=\"black\" points=\"206.252,-45.0307 202.734,-35.0373 199.252,-45.0439 206.252,-45.0307\"/>\n",
       "<text text-anchor=\"middle\" x=\"196\" y=\"-56.8\" font-family=\"Times,serif\" font-size=\"14.00\">1</text>\n",
       "</g>\n",
       "<!-- B -->\n",
       "<g id=\"node3\" class=\"node\"><title>B</title>\n",
       "<ellipse fill=\"none\" stroke=\"black\" cx=\"275\" cy=\"-75\" rx=\"18\" ry=\"18\"/>\n",
       "<text text-anchor=\"middle\" x=\"275\" y=\"-70.8\" font-family=\"Times,serif\" font-size=\"14.00\">B</text>\n",
       "</g>\n",
       "<!-- A&#45;&gt;B -->\n",
       "<g id=\"edge5\" class=\"edge\"><title>A&#45;&gt;B</title>\n",
       "<path fill=\"none\" stroke=\"black\" d=\"M211.123,-28.4547C222.52,-36.8913 238.758,-48.9118 251.878,-58.6237\"/>\n",
       "<polygon fill=\"black\" stroke=\"black\" points=\"249.847,-61.4749 259.967,-64.6116 254.012,-55.8487 249.847,-61.4749\"/>\n",
       "<text text-anchor=\"middle\" x=\"235.5\" y=\"-50.8\" font-family=\"Times,serif\" font-size=\"14.00\">0</text>\n",
       "</g>\n",
       "<!-- B&#45;&gt;B -->\n",
       "<g id=\"edge2\" class=\"edge\"><title>B&#45;&gt;B</title>\n",
       "<path fill=\"none\" stroke=\"black\" d=\"M268.266,-92.0373C266.892,-101.858 269.137,-111 275,-111 278.665,-111 280.916,-107.429 281.753,-102.353\"/>\n",
       "<polygon fill=\"black\" stroke=\"black\" points=\"285.252,-102.031 281.734,-92.0373 278.252,-102.044 285.252,-102.031\"/>\n",
       "<text text-anchor=\"middle\" x=\"275\" y=\"-113.8\" font-family=\"Times,serif\" font-size=\"14.00\">1</text>\n",
       "</g>\n",
       "<!-- B&#45;&gt;IF -->\n",
       "<g id=\"edge3\" class=\"edge\"><title>B&#45;&gt;IF</title>\n",
       "<path fill=\"none\" stroke=\"black\" d=\"M256.935,-75.7202C244.929,-76.1898 228.485,-76.7586 214,-77 198.002,-77.2666 193.998,-77.2499 178,-77 167.358,-76.8338 155.724,-76.5121 145.329,-76.1746\"/>\n",
       "<polygon fill=\"black\" stroke=\"black\" points=\"145.152,-72.6666 135.038,-75.8229 144.913,-79.6625 145.152,-72.6666\"/>\n",
       "<text text-anchor=\"middle\" x=\"196\" y=\"-79.8\" font-family=\"Times,serif\" font-size=\"14.00\">0</text>\n",
       "</g>\n",
       "<!-- IF&#45;&gt;A -->\n",
       "<g id=\"edge7\" class=\"edge\"><title>IF&#45;&gt;A</title>\n",
       "<path fill=\"none\" stroke=\"black\" d=\"M131.576,-62.6318C143.522,-54.2252 159.436,-43.0264 172.335,-33.9498\"/>\n",
       "<polygon fill=\"black\" stroke=\"black\" points=\"174.533,-36.6827 180.697,-28.0654 170.504,-30.958 174.533,-36.6827\"/>\n",
       "<text text-anchor=\"middle\" x=\"156.5\" y=\"-48.8\" font-family=\"Times,serif\" font-size=\"14.00\">0</text>\n",
       "</g>\n",
       "<!-- IF&#45;&gt;IF -->\n",
       "<g id=\"edge6\" class=\"edge\"><title>IF&#45;&gt;IF</title>\n",
       "<path fill=\"none\" stroke=\"black\" d=\"M105.683,-95.9908C104.78,-106.087 107.219,-115 113,-115 116.704,-115 119.036,-111.342 119.996,-106.059\"/>\n",
       "<polygon fill=\"black\" stroke=\"black\" points=\"123.496,-106.097 120.317,-95.9908 116.5,-105.874 123.496,-106.097\"/>\n",
       "<text text-anchor=\"middle\" x=\"113\" y=\"-117.8\" font-family=\"Times,serif\" font-size=\"14.00\">1</text>\n",
       "</g>\n",
       "</g>\n",
       "</svg>\n"
      ],
      "text/plain": [
       "<graphviz.dot.Digraph at 0x107592160>"
      ]
     },
     "execution_count": 51,
     "metadata": {},
     "output_type": "execute_result"
    }
   ],
   "source": [
    "DFA34_rev_det_rev = rev_dfa(DFA34_rev_det)\n",
    "dotObj_nfa(DFA34_rev_det_rev, \"DFA34_rev_det_rev\")"
   ]
  },
  {
   "cell_type": "code",
   "execution_count": 52,
   "metadata": {
    "editable": false,
    "run_control": {
     "frozen": false,
     "read_only": false
    }
   },
   "outputs": [
    {
     "data": {
      "image/svg+xml": [
       "<?xml version=\"1.0\" encoding=\"UTF-8\" standalone=\"no\"?>\n",
       "<!DOCTYPE svg PUBLIC \"-//W3C//DTD SVG 1.1//EN\"\n",
       " \"http://www.w3.org/Graphics/SVG/1.1/DTD/svg11.dtd\">\n",
       "<!-- Generated by graphviz version 2.38.0 (20140413.2041)\n",
       " -->\n",
       "<!-- Title: %3 Pages: 1 -->\n",
       "<svg width=\"337pt\" height=\"155pt\"\n",
       " viewBox=\"0.00 0.00 337.26 154.90\" xmlns=\"http://www.w3.org/2000/svg\" xmlns:xlink=\"http://www.w3.org/1999/xlink\">\n",
       "<g id=\"graph0\" class=\"graph\" transform=\"scale(1 1) rotate(0) translate(4 150.903)\">\n",
       "<title>%3</title>\n",
       "<polygon fill=\"white\" stroke=\"none\" points=\"-4,4 -4,-150.903 333.257,-150.903 333.257,4 -4,4\"/>\n",
       "<!-- EMPTY -->\n",
       "<g id=\"node1\" class=\"node\"><title>EMPTY</title>\n",
       "</g>\n",
       "<!-- &quot;IF&quot; -->\n",
       "<g id=\"node4\" class=\"node\"><title>&quot;IF&quot;</title>\n",
       "<ellipse fill=\"none\" stroke=\"black\" cx=\"120.19\" cy=\"-85.7131\" rx=\"25.3549\" ry=\"25.3549\"/>\n",
       "<ellipse fill=\"none\" stroke=\"black\" cx=\"120.19\" cy=\"-85.7131\" rx=\"29.3811\" ry=\"29.3811\"/>\n",
       "<text text-anchor=\"middle\" x=\"120.19\" y=\"-81.5131\" font-family=\"Times,serif\" font-size=\"14.00\">&quot;IF&quot;</text>\n",
       "</g>\n",
       "<!-- EMPTY&#45;&gt;&quot;IF&quot; -->\n",
       "<g id=\"edge1\" class=\"edge\"><title>EMPTY&#45;&gt;&quot;IF&quot;</title>\n",
       "<path fill=\"none\" stroke=\"black\" d=\"M54.3759,-85.7131C62.6179,-85.7131 71.8854,-85.7131 80.7788,-85.7131\"/>\n",
       "<polygon fill=\"black\" stroke=\"black\" points=\"80.9634,-89.2132 90.9633,-85.7131 80.9633,-82.2132 80.9634,-89.2132\"/>\n",
       "</g>\n",
       "<!-- &quot;B&quot; -->\n",
       "<g id=\"node2\" class=\"node\"><title>&quot;B&quot;</title>\n",
       "<ellipse fill=\"none\" stroke=\"black\" cx=\"306.031\" cy=\"-85.7131\" rx=\"23.4526\" ry=\"23.4526\"/>\n",
       "<text text-anchor=\"middle\" x=\"306.031\" y=\"-81.5131\" font-family=\"Times,serif\" font-size=\"14.00\">&quot;B&quot;</text>\n",
       "</g>\n",
       "<!-- &quot;B&quot;&#45;&gt;&quot;B&quot; -->\n",
       "<g id=\"edge6\" class=\"edge\"><title>&quot;B&quot;&#45;&gt;&quot;B&quot;</title>\n",
       "<path fill=\"none\" stroke=\"black\" d=\"M297.945,-107.768C297.062,-117.999 299.758,-126.938 306.031,-126.938 310.05,-126.938 312.601,-123.27 313.683,-117.943\"/>\n",
       "<polygon fill=\"black\" stroke=\"black\" points=\"317.188,-117.908 314.118,-107.768 310.194,-117.609 317.188,-117.908\"/>\n",
       "<text text-anchor=\"middle\" x=\"306.031\" y=\"-129.738\" font-family=\"Times,serif\" font-size=\"14.00\">1</text>\n",
       "</g>\n",
       "<!-- &quot;B&quot;&#45;&gt;&quot;IF&quot; -->\n",
       "<g id=\"edge7\" class=\"edge\"><title>&quot;B&quot;&#45;&gt;&quot;IF&quot;</title>\n",
       "<path fill=\"none\" stroke=\"black\" d=\"M282.701,-86.9944C270.109,-87.6531 254.085,-88.3849 239.806,-88.7131 218.733,-89.1975 213.454,-89.157 192.38,-88.7131 181.806,-88.4904 170.354,-88.0819 159.79,-87.6364\"/>\n",
       "<polygon fill=\"black\" stroke=\"black\" points=\"159.733,-84.1305 149.588,-87.1842 159.423,-91.1237 159.733,-84.1305\"/>\n",
       "<text text-anchor=\"middle\" x=\"216.093\" y=\"-91.5131\" font-family=\"Times,serif\" font-size=\"14.00\">0</text>\n",
       "</g>\n",
       "<!-- &quot;A&quot; -->\n",
       "<g id=\"node3\" class=\"node\"><title>&quot;A&quot;</title>\n",
       "<ellipse fill=\"none\" stroke=\"black\" cx=\"216.093\" cy=\"-23.7131\" rx=\"23.9282\" ry=\"23.9282\"/>\n",
       "<text text-anchor=\"middle\" x=\"216.093\" y=\"-19.5131\" font-family=\"Times,serif\" font-size=\"14.00\">&quot;A&quot;</text>\n",
       "</g>\n",
       "<!-- &quot;A&quot;&#45;&gt;&quot;B&quot; -->\n",
       "<g id=\"edge5\" class=\"edge\"><title>&quot;A&quot;&#45;&gt;&quot;B&quot;</title>\n",
       "<path fill=\"none\" stroke=\"black\" d=\"M236.174,-37.1662C248.44,-45.8139 264.558,-57.1779 278.116,-66.7369\"/>\n",
       "<polygon fill=\"black\" stroke=\"black\" points=\"276.4,-69.8095 286.59,-72.7112 280.434,-64.0884 276.4,-69.8095\"/>\n",
       "<text text-anchor=\"middle\" x=\"261.306\" y=\"-58.5131\" font-family=\"Times,serif\" font-size=\"14.00\">0</text>\n",
       "</g>\n",
       "<!-- &quot;A&quot;&#45;&gt;&quot;A&quot; -->\n",
       "<g id=\"edge4\" class=\"edge\"><title>&quot;A&quot;&#45;&gt;&quot;A&quot;</title>\n",
       "<path fill=\"none\" stroke=\"black\" d=\"M208.006,-46.0291C207.124,-56.3813 209.82,-65.4263 216.093,-65.4263 220.112,-65.4263 222.663,-61.7142 223.745,-56.3244\"/>\n",
       "<polygon fill=\"black\" stroke=\"black\" points=\"227.254,-56.168 224.18,-46.0291 220.261,-55.8723 227.254,-56.168\"/>\n",
       "<text text-anchor=\"middle\" x=\"216.093\" y=\"-68.2263\" font-family=\"Times,serif\" font-size=\"14.00\">1</text>\n",
       "</g>\n",
       "<!-- &quot;IF&quot;&#45;&gt;&quot;A&quot; -->\n",
       "<g id=\"edge3\" class=\"edge\"><title>&quot;IF&quot;&#45;&gt;&quot;A&quot;</title>\n",
       "<path fill=\"none\" stroke=\"black\" d=\"M144.886,-70.0679C157.811,-61.5341 173.882,-50.9233 187.385,-42.0078\"/>\n",
       "<polygon fill=\"black\" stroke=\"black\" points=\"189.412,-44.8636 195.828,-36.4328 185.555,-39.022 189.412,-44.8636\"/>\n",
       "<text text-anchor=\"middle\" x=\"170.88\" y=\"-57.5131\" font-family=\"Times,serif\" font-size=\"14.00\">0</text>\n",
       "</g>\n",
       "<!-- &quot;IF&quot;&#45;&gt;&quot;IF&quot; -->\n",
       "<g id=\"edge2\" class=\"edge\"><title>&quot;IF&quot;&#45;&gt;&quot;IF&quot;</title>\n",
       "<path fill=\"none\" stroke=\"black\" d=\"M111.584,-113.812C111.302,-124.283 114.17,-132.903 120.19,-132.903 124.046,-132.903 126.609,-129.366 127.879,-124.07\"/>\n",
       "<polygon fill=\"black\" stroke=\"black\" points=\"131.392,-124.084 128.796,-113.812 124.42,-123.461 131.392,-124.084\"/>\n",
       "<text text-anchor=\"middle\" x=\"120.19\" y=\"-135.703\" font-family=\"Times,serif\" font-size=\"14.00\">1</text>\n",
       "</g>\n",
       "</g>\n",
       "</svg>\n"
      ],
      "text/plain": [
       "<graphviz.dot.Digraph at 0x107592320>"
      ]
     },
     "execution_count": 52,
     "metadata": {},
     "output_type": "execute_result"
    }
   ],
   "source": [
    "DFA34_rev_det_rev_det = nfa2dfa(DFA34_rev_det_rev)\n",
    "dotObj_dfa(DFA34_rev_det_rev_det, \"DFA34_rev_det_rev_det\")"
   ]
  },
  {
   "cell_type": "markdown",
   "metadata": {
    "editable": false,
    "run_control": {
     "frozen": false,
     "read_only": false
    }
   },
   "source": [
    "__TRY NEW EXAMPLE HERE__"
   ]
  },
  {
   "cell_type": "code",
   "execution_count": 53,
   "metadata": {
    "editable": false,
    "run_control": {
     "frozen": false,
     "read_only": false
    }
   },
   "outputs": [
    {
     "data": {
      "image/svg+xml": [
       "<?xml version=\"1.0\" encoding=\"UTF-8\" standalone=\"no\"?>\n",
       "<!DOCTYPE svg PUBLIC \"-//W3C//DTD SVG 1.1//EN\"\n",
       " \"http://www.w3.org/Graphics/SVG/1.1/DTD/svg11.dtd\">\n",
       "<!-- Generated by graphviz version 2.38.0 (20140413.2041)\n",
       " -->\n",
       "<!-- Title: %3 Pages: 1 -->\n",
       "<svg width=\"649pt\" height=\"129pt\"\n",
       " viewBox=\"0.00 0.00 648.68 129.42\" xmlns=\"http://www.w3.org/2000/svg\" xmlns:xlink=\"http://www.w3.org/1999/xlink\">\n",
       "<g id=\"graph0\" class=\"graph\" transform=\"scale(1 1) rotate(0) translate(4 125.424)\">\n",
       "<title>%3</title>\n",
       "<polygon fill=\"white\" stroke=\"none\" points=\"-4,4 -4,-125.424 644.677,-125.424 644.677,4 -4,4\"/>\n",
       "<!-- EMPTY -->\n",
       "<g id=\"node1\" class=\"node\"><title>EMPTY</title>\n",
       "</g>\n",
       "<!-- A0 -->\n",
       "<g id=\"node6\" class=\"node\"><title>A0</title>\n",
       "<ellipse fill=\"none\" stroke=\"black\" cx=\"111.915\" cy=\"-35.9971\" rx=\"20.8304\" ry=\"20.8304\"/>\n",
       "<text text-anchor=\"middle\" x=\"111.915\" y=\"-31.7971\" font-family=\"Times,serif\" font-size=\"14.00\">A0</text>\n",
       "</g>\n",
       "<!-- EMPTY&#45;&gt;A0 -->\n",
       "<g id=\"edge1\" class=\"edge\"><title>EMPTY&#45;&gt;A0</title>\n",
       "<path fill=\"none\" stroke=\"black\" d=\"M54.2348,-35.9971C62.6673,-35.9971 72.0756,-35.9971 80.766,-35.9971\"/>\n",
       "<polygon fill=\"black\" stroke=\"black\" points=\"80.8965,-39.4972 90.8965,-35.9971 80.8964,-32.4972 80.8965,-39.4972\"/>\n",
       "</g>\n",
       "<!-- B1 -->\n",
       "<g id=\"node2\" class=\"node\"><title>B1</title>\n",
       "<ellipse fill=\"none\" stroke=\"black\" cx=\"395.401\" cy=\"-69.9971\" rx=\"20.3544\" ry=\"20.3544\"/>\n",
       "<text text-anchor=\"middle\" x=\"395.401\" y=\"-65.7971\" font-family=\"Times,serif\" font-size=\"14.00\">B1</text>\n",
       "</g>\n",
       "<!-- B2 -->\n",
       "<g id=\"node5\" class=\"node\"><title>B2</title>\n",
       "<ellipse fill=\"none\" stroke=\"black\" cx=\"479.255\" cy=\"-100.997\" rx=\"20.3544\" ry=\"20.3544\"/>\n",
       "<text text-anchor=\"middle\" x=\"479.255\" y=\"-96.7971\" font-family=\"Times,serif\" font-size=\"14.00\">B2</text>\n",
       "</g>\n",
       "<!-- B1&#45;&gt;B2 -->\n",
       "<g id=\"edge6\" class=\"edge\"><title>B1&#45;&gt;B2</title>\n",
       "<path fill=\"none\" stroke=\"black\" d=\"M414.975,-77.0314C425.336,-80.9553 438.454,-85.9234 450.056,-90.3175\"/>\n",
       "<polygon fill=\"black\" stroke=\"black\" points=\"449.163,-93.7218 459.755,-93.9905 451.643,-87.1756 449.163,-93.7218\"/>\n",
       "<text text-anchor=\"middle\" x=\"437.328\" y=\"-88.7971\" font-family=\"Times,serif\" font-size=\"14.00\">1</text>\n",
       "</g>\n",
       "<!-- A0_B0 -->\n",
       "<g id=\"node3\" class=\"node\"><title>A0_B0</title>\n",
       "<ellipse fill=\"none\" stroke=\"black\" cx=\"296.317\" cy=\"-69.9971\" rx=\"35.8147\" ry=\"35.8147\"/>\n",
       "<text text-anchor=\"middle\" x=\"296.317\" y=\"-65.7971\" font-family=\"Times,serif\" font-size=\"14.00\">A0_B0</text>\n",
       "</g>\n",
       "<!-- A0_B0&#45;&gt;B1 -->\n",
       "<g id=\"edge4\" class=\"edge\"><title>A0_B0&#45;&gt;B1</title>\n",
       "<path fill=\"none\" stroke=\"black\" d=\"M332.092,-69.9971C342.753,-69.9971 354.38,-69.9971 364.671,-69.9971\"/>\n",
       "<polygon fill=\"black\" stroke=\"black\" points=\"364.817,-73.4972 374.817,-69.9971 364.817,-66.4972 364.817,-73.4972\"/>\n",
       "<text text-anchor=\"middle\" x=\"353.474\" y=\"-72.7971\" font-family=\"Times,serif\" font-size=\"14.00\">1</text>\n",
       "</g>\n",
       "<!-- A1 -->\n",
       "<g id=\"node4\" class=\"node\"><title>A1</title>\n",
       "<ellipse fill=\"none\" stroke=\"black\" cx=\"196.745\" cy=\"-35.9971\" rx=\"20.8304\" ry=\"20.8304\"/>\n",
       "<text text-anchor=\"middle\" x=\"196.745\" y=\"-31.7971\" font-family=\"Times,serif\" font-size=\"14.00\">A1</text>\n",
       "</g>\n",
       "<!-- A0_B0&#45;&gt;A1 -->\n",
       "<g id=\"edge5\" class=\"edge\"><title>A0_B0&#45;&gt;A1</title>\n",
       "<path fill=\"none\" stroke=\"black\" d=\"M268.889,-46.7439C260.979,-41.1397 251.928,-35.9277 242.66,-32.9971 237.882,-31.4862 232.679,-30.9204 227.565,-30.9211\"/>\n",
       "<polygon fill=\"black\" stroke=\"black\" points=\"227.101,-27.4441 217.354,-31.5968 227.563,-34.4288 227.101,-27.4441\"/>\n",
       "<text text-anchor=\"middle\" x=\"239.16\" y=\"-35.7971\" font-family=\"Times,serif\" font-size=\"14.00\">0</text>\n",
       "</g>\n",
       "<!-- A1&#45;&gt;A0_B0 -->\n",
       "<g id=\"edge3\" class=\"edge\"><title>A1&#45;&gt;A0_B0</title>\n",
       "<path fill=\"none\" stroke=\"black\" d=\"M216.549,-43.7301C222.616,-46.1461 229.392,-48.7621 235.66,-50.9971 240.971,-52.8909 246.579,-54.7974 252.146,-56.6337\"/>\n",
       "<polygon fill=\"black\" stroke=\"black\" points=\"251.457,-60.0895 262.049,-59.8451 253.616,-53.4309 251.457,-60.0895\"/>\n",
       "<text text-anchor=\"middle\" x=\"239.16\" y=\"-56.7971\" font-family=\"Times,serif\" font-size=\"14.00\">0</text>\n",
       "</g>\n",
       "<!-- A0_B0_F -->\n",
       "<g id=\"node7\" class=\"node\"><title>A0_B0_F</title>\n",
       "<ellipse fill=\"none\" stroke=\"black\" cx=\"591.679\" cy=\"-48.9971\" rx=\"44.9944\" ry=\"44.9944\"/>\n",
       "<ellipse fill=\"none\" stroke=\"black\" cx=\"591.679\" cy=\"-48.9971\" rx=\"48.9941\" ry=\"48.9941\"/>\n",
       "<text text-anchor=\"middle\" x=\"591.679\" y=\"-44.7971\" font-family=\"Times,serif\" font-size=\"14.00\">A0_B0_F</text>\n",
       "</g>\n",
       "<!-- B2&#45;&gt;A0_B0_F -->\n",
       "<g id=\"edge7\" class=\"edge\"><title>B2&#45;&gt;A0_B0_F</title>\n",
       "<path fill=\"none\" stroke=\"black\" d=\"M497.997,-92.6424C508.799,-87.5554 523.225,-80.7622 537.472,-74.0529\"/>\n",
       "<polygon fill=\"black\" stroke=\"black\" points=\"539.213,-77.1018 546.769,-69.6749 536.231,-70.7688 539.213,-77.1018\"/>\n",
       "<text text-anchor=\"middle\" x=\"521.182\" y=\"-84.7971\" font-family=\"Times,serif\" font-size=\"14.00\">1</text>\n",
       "</g>\n",
       "<!-- A0&#45;&gt;A1 -->\n",
       "<g id=\"edge2\" class=\"edge\"><title>A0&#45;&gt;A1</title>\n",
       "<path fill=\"none\" stroke=\"black\" d=\"M132.966,-35.9971C142.661,-35.9971 154.508,-35.9971 165.287,-35.9971\"/>\n",
       "<polygon fill=\"black\" stroke=\"black\" points=\"165.592,-39.4972 175.592,-35.9971 165.592,-32.4972 165.592,-39.4972\"/>\n",
       "<text text-anchor=\"middle\" x=\"154.33\" y=\"-38.7971\" font-family=\"Times,serif\" font-size=\"14.00\">0</text>\n",
       "</g>\n",
       "<!-- A0_B0_F&#45;&gt;B1 -->\n",
       "<g id=\"edge8\" class=\"edge\"><title>A0_B0_F&#45;&gt;B1</title>\n",
       "<path fill=\"none\" stroke=\"black\" d=\"M542.63,-50.8691C517.577,-52.2006 486.474,-54.41 458.828,-57.9971 447.829,-59.4242 435.845,-61.5803 425.344,-63.6729\"/>\n",
       "<polygon fill=\"black\" stroke=\"black\" points=\"424.517,-60.2696 415.429,-65.7152 425.93,-67.1257 424.517,-60.2696\"/>\n",
       "<text text-anchor=\"middle\" x=\"479.255\" y=\"-60.7971\" font-family=\"Times,serif\" font-size=\"14.00\">1</text>\n",
       "</g>\n",
       "<!-- A0_B0_F&#45;&gt;A1 -->\n",
       "<g id=\"edge9\" class=\"edge\"><title>A0_B0_F&#45;&gt;A1</title>\n",
       "<path fill=\"none\" stroke=\"black\" d=\"M549.858,-23.0395C529.707,-12.6054 504.554,-2.99706 480.255,-2.99706 295.317,-2.99706 295.317,-2.99706 295.317,-2.99706 270.382,-2.99706 243.662,-12.7878 224.5,-21.7035\"/>\n",
       "<polygon fill=\"black\" stroke=\"black\" points=\"222.938,-18.571 215.48,-26.096 226.003,-24.8645 222.938,-18.571\"/>\n",
       "<text text-anchor=\"middle\" x=\"395.401\" y=\"-5.79706\" font-family=\"Times,serif\" font-size=\"14.00\">0</text>\n",
       "</g>\n",
       "</g>\n",
       "</svg>\n"
      ],
      "text/plain": [
       "<graphviz.dot.Digraph at 0x1075920f0>"
      ]
     },
     "execution_count": 53,
     "metadata": {},
     "output_type": "execute_result"
    }
   ],
   "source": [
    "dotObj_dfa(n2DFA23, \"n2DFA23\")"
   ]
  },
  {
   "cell_type": "code",
   "execution_count": 54,
   "metadata": {
    "editable": false,
    "run_control": {
     "frozen": false,
     "read_only": false
    }
   },
   "outputs": [
    {
     "data": {
      "image/svg+xml": [
       "<?xml version=\"1.0\" encoding=\"UTF-8\" standalone=\"no\"?>\n",
       "<!DOCTYPE svg PUBLIC \"-//W3C//DTD SVG 1.1//EN\"\n",
       " \"http://www.w3.org/Graphics/SVG/1.1/DTD/svg11.dtd\">\n",
       "<!-- Generated by graphviz version 2.38.0 (20140413.2041)\n",
       " -->\n",
       "<!-- Title: %3 Pages: 1 -->\n",
       "<svg width=\"585pt\" height=\"268pt\"\n",
       " viewBox=\"0.00 0.00 584.85 268.00\" xmlns=\"http://www.w3.org/2000/svg\" xmlns:xlink=\"http://www.w3.org/1999/xlink\">\n",
       "<g id=\"graph0\" class=\"graph\" transform=\"scale(1 1) rotate(0) translate(4 264)\">\n",
       "<title>%3</title>\n",
       "<polygon fill=\"white\" stroke=\"none\" points=\"-4,4 -4,-264 580.846,-264 580.846,4 -4,4\"/>\n",
       "<!-- EMPTY -->\n",
       "<g id=\"node1\" class=\"node\"><title>EMPTY</title>\n",
       "</g>\n",
       "<!-- St2 -->\n",
       "<g id=\"node5\" class=\"node\"><title>St2</title>\n",
       "<ellipse fill=\"none\" stroke=\"black\" cx=\"112.904\" cy=\"-204\" rx=\"21.8081\" ry=\"21.8081\"/>\n",
       "<text text-anchor=\"middle\" x=\"112.904\" y=\"-199.8\" font-family=\"Times,serif\" font-size=\"14.00\">St2</text>\n",
       "</g>\n",
       "<!-- EMPTY&#45;&gt;St2 -->\n",
       "<g id=\"edge1\" class=\"edge\"><title>EMPTY&#45;&gt;St2</title>\n",
       "<path fill=\"none\" stroke=\"black\" d=\"M54.0878,-204C62.501,-204 71.9126,-204 80.6587,-204\"/>\n",
       "<polygon fill=\"black\" stroke=\"black\" points=\"80.8854,-207.5 90.8853,-204 80.8853,-200.5 80.8854,-207.5\"/>\n",
       "</g>\n",
       "<!-- St5 -->\n",
       "<g id=\"node2\" class=\"node\"><title>St5</title>\n",
       "<ellipse fill=\"none\" stroke=\"black\" cx=\"199.712\" cy=\"-146\" rx=\"21.8081\" ry=\"21.8081\"/>\n",
       "<text text-anchor=\"middle\" x=\"199.712\" y=\"-141.8\" font-family=\"Times,serif\" font-size=\"14.00\">St5</text>\n",
       "</g>\n",
       "<!-- St0 -->\n",
       "<g id=\"node7\" class=\"node\"><title>St0</title>\n",
       "<ellipse fill=\"none\" stroke=\"black\" cx=\"286.519\" cy=\"-133\" rx=\"21.8081\" ry=\"21.8081\"/>\n",
       "<text text-anchor=\"middle\" x=\"286.519\" y=\"-128.8\" font-family=\"Times,serif\" font-size=\"14.00\">St0</text>\n",
       "</g>\n",
       "<!-- St5&#45;&gt;St0 -->\n",
       "<g id=\"edge14\" class=\"edge\"><title>St5&#45;&gt;St0</title>\n",
       "<path fill=\"none\" stroke=\"black\" d=\"M221.675,-142.787C231.637,-141.259 243.742,-139.404 254.721,-137.721\"/>\n",
       "<polygon fill=\"black\" stroke=\"black\" points=\"255.443,-141.151 264.797,-136.177 254.382,-134.232 255.443,-141.151\"/>\n",
       "<text text-anchor=\"middle\" x=\"243.115\" y=\"-142.8\" font-family=\"Times,serif\" font-size=\"14.00\">1</text>\n",
       "</g>\n",
       "<!-- St1 -->\n",
       "<g id=\"node3\" class=\"node\"><title>St1</title>\n",
       "<ellipse fill=\"none\" stroke=\"black\" cx=\"373.327\" cy=\"-118\" rx=\"21.8081\" ry=\"21.8081\"/>\n",
       "<text text-anchor=\"middle\" x=\"373.327\" y=\"-113.8\" font-family=\"Times,serif\" font-size=\"14.00\">St1</text>\n",
       "</g>\n",
       "<!-- St3 -->\n",
       "<g id=\"node6\" class=\"node\"><title>St3</title>\n",
       "<ellipse fill=\"none\" stroke=\"black\" cx=\"460.135\" cy=\"-81\" rx=\"21.8081\" ry=\"21.8081\"/>\n",
       "<text text-anchor=\"middle\" x=\"460.135\" y=\"-76.8\" font-family=\"Times,serif\" font-size=\"14.00\">St3</text>\n",
       "</g>\n",
       "<!-- St1&#45;&gt;St3 -->\n",
       "<g id=\"edge4\" class=\"edge\"><title>St1&#45;&gt;St3</title>\n",
       "<path fill=\"none\" stroke=\"black\" d=\"M393.571,-109.604C404.446,-104.86 418.252,-98.8365 430.387,-93.5421\"/>\n",
       "<polygon fill=\"black\" stroke=\"black\" points=\"431.907,-96.6976 439.673,-89.4907 429.108,-90.2816 431.907,-96.6976\"/>\n",
       "<text text-anchor=\"middle\" x=\"416.731\" y=\"-103.8\" font-family=\"Times,serif\" font-size=\"14.00\">0</text>\n",
       "</g>\n",
       "<!-- St4 -->\n",
       "<g id=\"node4\" class=\"node\"><title>St4</title>\n",
       "<ellipse fill=\"none\" stroke=\"black\" cx=\"112.904\" cy=\"-69\" rx=\"21.8081\" ry=\"21.8081\"/>\n",
       "<text text-anchor=\"middle\" x=\"112.904\" y=\"-64.8\" font-family=\"Times,serif\" font-size=\"14.00\">St4</text>\n",
       "</g>\n",
       "<!-- St4&#45;&gt;St5 -->\n",
       "<g id=\"edge12\" class=\"edge\"><title>St4&#45;&gt;St5</title>\n",
       "<path fill=\"none\" stroke=\"black\" d=\"M129.282,-83.9201C136.376,-90.7268 144.95,-98.8464 152.808,-106 159.774,-112.342 167.454,-119.117 174.505,-125.254\"/>\n",
       "<polygon fill=\"black\" stroke=\"black\" points=\"172.563,-128.202 182.415,-132.101 177.145,-122.91 172.563,-128.202\"/>\n",
       "<text text-anchor=\"middle\" x=\"156.308\" y=\"-114.8\" font-family=\"Times,serif\" font-size=\"14.00\">0</text>\n",
       "</g>\n",
       "<!-- St4&#45;&gt;St4 -->\n",
       "<g id=\"edge11\" class=\"edge\"><title>St4&#45;&gt;St4</title>\n",
       "<path fill=\"none\" stroke=\"black\" d=\"M105.587,-89.9403C104.684,-100.013 107.123,-108.904 112.904,-108.904 116.607,-108.904 118.939,-105.255 119.9,-99.984\"/>\n",
       "<polygon fill=\"black\" stroke=\"black\" points=\"123.399,-100.047 120.221,-89.9403 116.403,-99.8233 123.399,-100.047\"/>\n",
       "<text text-anchor=\"middle\" x=\"112.904\" y=\"-125.704\" font-family=\"Times,serif\" font-size=\"14.00\">1 </text>\n",
       "<text text-anchor=\"middle\" x=\"112.904\" y=\"-111.704\" font-family=\"Times,serif\" font-size=\"14.00\"> 0</text>\n",
       "</g>\n",
       "<!-- St4&#45;&gt;St3 -->\n",
       "<g id=\"edge9\" class=\"edge\"><title>St4&#45;&gt;St3</title>\n",
       "<path fill=\"none\" stroke=\"black\" d=\"M133.376,-60.5662C150.309,-54.0021 175.676,-46 198.712,-46 198.712,-46 198.712,-46 374.327,-46 394.965,-46 416.437,-54.966 432.612,-63.822\"/>\n",
       "<polygon fill=\"black\" stroke=\"black\" points=\"431.07,-66.9731 441.477,-68.955 434.577,-60.9153 431.07,-66.9731\"/>\n",
       "<text text-anchor=\"middle\" x=\"286.519\" y=\"-48.8\" font-family=\"Times,serif\" font-size=\"14.00\">1</text>\n",
       "</g>\n",
       "<!-- St4&#45;&gt;St0 -->\n",
       "<g id=\"edge13\" class=\"edge\"><title>St4&#45;&gt;St0</title>\n",
       "<path fill=\"none\" stroke=\"black\" d=\"M134.513,-73.9722C156.463,-79.5323 192.045,-89.3085 221.615,-101 233.753,-105.799 246.705,-112.057 257.753,-117.764\"/>\n",
       "<polygon fill=\"black\" stroke=\"black\" points=\"256.425,-121.021 266.903,-122.588 259.689,-114.828 256.425,-121.021\"/>\n",
       "<text text-anchor=\"middle\" x=\"199.712\" y=\"-103.8\" font-family=\"Times,serif\" font-size=\"14.00\">0</text>\n",
       "</g>\n",
       "<!-- St6 -->\n",
       "<g id=\"node8\" class=\"node\"><title>St6</title>\n",
       "<ellipse fill=\"none\" stroke=\"black\" cx=\"550.943\" cy=\"-28\" rx=\"21.8229\" ry=\"21.8229\"/>\n",
       "<ellipse fill=\"none\" stroke=\"black\" cx=\"550.943\" cy=\"-28\" rx=\"25.8081\" ry=\"25.8081\"/>\n",
       "<text text-anchor=\"middle\" x=\"550.943\" y=\"-23.8\" font-family=\"Times,serif\" font-size=\"14.00\">St6</text>\n",
       "</g>\n",
       "<!-- St4&#45;&gt;St6 -->\n",
       "<g id=\"edge10\" class=\"edge\"><title>St4&#45;&gt;St6</title>\n",
       "<path fill=\"none\" stroke=\"black\" d=\"M125.261,-50.8711C139.633,-30.4276 166.444,-0 198.712,-0 198.712,-0 198.712,-0 461.135,-0 480.73,-0 501.679,-6.27714 518.306,-12.8872\"/>\n",
       "<polygon fill=\"black\" stroke=\"black\" points=\"516.979,-16.1259 527.554,-16.7727 519.69,-9.67233 516.979,-16.1259\"/>\n",
       "<text text-anchor=\"middle\" x=\"329.923\" y=\"-2.8\" font-family=\"Times,serif\" font-size=\"14.00\">1</text>\n",
       "</g>\n",
       "<!-- St2&#45;&gt;St5 -->\n",
       "<g id=\"edge5\" class=\"edge\"><title>St2&#45;&gt;St5</title>\n",
       "<path fill=\"none\" stroke=\"black\" d=\"M131.215,-191.287C137.913,-186.435 145.672,-180.896 152.808,-176 159.068,-171.704 165.883,-167.174 172.299,-162.971\"/>\n",
       "<polygon fill=\"black\" stroke=\"black\" points=\"174.239,-165.885 180.712,-157.497 170.421,-160.018 174.239,-165.885\"/>\n",
       "<text text-anchor=\"middle\" x=\"156.308\" y=\"-178.8\" font-family=\"Times,serif\" font-size=\"14.00\">1</text>\n",
       "</g>\n",
       "<!-- St3&#45;&gt;St1 -->\n",
       "<g id=\"edge8\" class=\"edge\"><title>St3&#45;&gt;St1</title>\n",
       "<path fill=\"none\" stroke=\"black\" d=\"M438.403,-77.7714C430.294,-77.3266 421.075,-77.8654 413.231,-81 406.209,-83.8059 399.731,-88.5491 394.157,-93.7199\"/>\n",
       "<polygon fill=\"black\" stroke=\"black\" points=\"391.633,-91.2947 387.15,-100.894 396.641,-96.1856 391.633,-91.2947\"/>\n",
       "<text text-anchor=\"middle\" x=\"416.731\" y=\"-83.8\" font-family=\"Times,serif\" font-size=\"14.00\">0</text>\n",
       "</g>\n",
       "<!-- St3&#45;&gt;St2 -->\n",
       "<g id=\"edge6\" class=\"edge\"><title>St3&#45;&gt;St2</title>\n",
       "<path fill=\"none\" stroke=\"black\" d=\"M457.838,-102.911C453.876,-147.794 437.938,-246 374.327,-246 198.712,-246 198.712,-246 198.712,-246 176.808,-246 154.719,-234.61 138.577,-223.693\"/>\n",
       "<polygon fill=\"black\" stroke=\"black\" points=\"140.432,-220.717 130.26,-217.752 136.363,-226.413 140.432,-220.717\"/>\n",
       "<text text-anchor=\"middle\" x=\"286.519\" y=\"-248.8\" font-family=\"Times,serif\" font-size=\"14.00\">0</text>\n",
       "</g>\n",
       "<!-- St3&#45;&gt;St6 -->\n",
       "<g id=\"edge7\" class=\"edge\"><title>St3&#45;&gt;St6</title>\n",
       "<path fill=\"none\" stroke=\"black\" d=\"M479.536,-70.0184C491.094,-63.1205 506.281,-54.0567 519.591,-46.1136\"/>\n",
       "<polygon fill=\"black\" stroke=\"black\" points=\"521.644,-48.9643 528.438,-40.834 518.057,-42.9533 521.644,-48.9643\"/>\n",
       "<text text-anchor=\"middle\" x=\"503.539\" y=\"-60.8\" font-family=\"Times,serif\" font-size=\"14.00\">0</text>\n",
       "</g>\n",
       "<!-- St0&#45;&gt;St1 -->\n",
       "<g id=\"edge3\" class=\"edge\"><title>St0&#45;&gt;St1</title>\n",
       "<path fill=\"none\" stroke=\"black\" d=\"M308.483,-129.292C318.445,-127.53 330.549,-125.389 341.529,-123.447\"/>\n",
       "<polygon fill=\"black\" stroke=\"black\" points=\"342.367,-126.853 351.604,-121.665 341.148,-119.96 342.367,-126.853\"/>\n",
       "<text text-anchor=\"middle\" x=\"329.923\" y=\"-128.8\" font-family=\"Times,serif\" font-size=\"14.00\">1</text>\n",
       "</g>\n",
       "<!-- St0&#45;&gt;St2 -->\n",
       "<g id=\"edge2\" class=\"edge\"><title>St0&#45;&gt;St2</title>\n",
       "<path fill=\"none\" stroke=\"black\" d=\"M269.159,-146.72C256.802,-156.449 239.047,-169.126 221.615,-177 197.005,-188.117 167.078,-195.152 145.021,-199.244\"/>\n",
       "<polygon fill=\"black\" stroke=\"black\" points=\"144.128,-195.847 134.883,-201.021 145.337,-202.742 144.128,-195.847\"/>\n",
       "<text text-anchor=\"middle\" x=\"199.712\" y=\"-194.8\" font-family=\"Times,serif\" font-size=\"14.00\">1</text>\n",
       "</g>\n",
       "</g>\n",
       "</svg>\n"
      ],
      "text/plain": [
       "<graphviz.dot.Digraph at 0x107592ef0>"
      ]
     },
     "execution_count": 54,
     "metadata": {},
     "output_type": "execute_result"
    }
   ],
   "source": [
    "rev_n2DFA23 = rev_dfa(n2DFA23)\n",
    "dotObj_nfa(rev_n2DFA23, \"rev23\")"
   ]
  },
  {
   "cell_type": "code",
   "execution_count": 55,
   "metadata": {
    "editable": false,
    "run_control": {
     "frozen": false,
     "read_only": false
    }
   },
   "outputs": [
    {
     "data": {
      "image/svg+xml": [
       "<?xml version=\"1.0\" encoding=\"UTF-8\" standalone=\"no\"?>\n",
       "<!DOCTYPE svg PUBLIC \"-//W3C//DTD SVG 1.1//EN\"\n",
       " \"http://www.w3.org/Graphics/SVG/1.1/DTD/svg11.dtd\">\n",
       "<!-- Generated by graphviz version 2.38.0 (20140413.2041)\n",
       " -->\n",
       "<!-- Title: %3 Pages: 1 -->\n",
       "<svg width=\"585pt\" height=\"268pt\"\n",
       " viewBox=\"0.00 0.00 584.85 268.00\" xmlns=\"http://www.w3.org/2000/svg\" xmlns:xlink=\"http://www.w3.org/1999/xlink\">\n",
       "<g id=\"graph0\" class=\"graph\" transform=\"scale(1 1) rotate(0) translate(4 264)\">\n",
       "<title>%3</title>\n",
       "<polygon fill=\"white\" stroke=\"none\" points=\"-4,4 -4,-264 580.846,-264 580.846,4 -4,4\"/>\n",
       "<!-- EMPTY -->\n",
       "<g id=\"node1\" class=\"node\"><title>EMPTY</title>\n",
       "</g>\n",
       "<!-- St2 -->\n",
       "<g id=\"node5\" class=\"node\"><title>St2</title>\n",
       "<ellipse fill=\"none\" stroke=\"black\" cx=\"112.904\" cy=\"-204\" rx=\"21.8081\" ry=\"21.8081\"/>\n",
       "<text text-anchor=\"middle\" x=\"112.904\" y=\"-199.8\" font-family=\"Times,serif\" font-size=\"14.00\">St2</text>\n",
       "</g>\n",
       "<!-- EMPTY&#45;&gt;St2 -->\n",
       "<g id=\"edge1\" class=\"edge\"><title>EMPTY&#45;&gt;St2</title>\n",
       "<path fill=\"none\" stroke=\"black\" d=\"M54.0878,-204C62.501,-204 71.9126,-204 80.6587,-204\"/>\n",
       "<polygon fill=\"black\" stroke=\"black\" points=\"80.8854,-207.5 90.8853,-204 80.8853,-200.5 80.8854,-207.5\"/>\n",
       "</g>\n",
       "<!-- St5 -->\n",
       "<g id=\"node2\" class=\"node\"><title>St5</title>\n",
       "<ellipse fill=\"none\" stroke=\"black\" cx=\"199.712\" cy=\"-146\" rx=\"21.8081\" ry=\"21.8081\"/>\n",
       "<text text-anchor=\"middle\" x=\"199.712\" y=\"-141.8\" font-family=\"Times,serif\" font-size=\"14.00\">St5</text>\n",
       "</g>\n",
       "<!-- St0 -->\n",
       "<g id=\"node7\" class=\"node\"><title>St0</title>\n",
       "<ellipse fill=\"none\" stroke=\"black\" cx=\"286.519\" cy=\"-133\" rx=\"21.8081\" ry=\"21.8081\"/>\n",
       "<text text-anchor=\"middle\" x=\"286.519\" y=\"-128.8\" font-family=\"Times,serif\" font-size=\"14.00\">St0</text>\n",
       "</g>\n",
       "<!-- St5&#45;&gt;St0 -->\n",
       "<g id=\"edge14\" class=\"edge\"><title>St5&#45;&gt;St0</title>\n",
       "<path fill=\"none\" stroke=\"black\" d=\"M221.675,-142.787C231.637,-141.259 243.742,-139.404 254.721,-137.721\"/>\n",
       "<polygon fill=\"black\" stroke=\"black\" points=\"255.443,-141.151 264.797,-136.177 254.382,-134.232 255.443,-141.151\"/>\n",
       "<text text-anchor=\"middle\" x=\"243.115\" y=\"-142.8\" font-family=\"Times,serif\" font-size=\"14.00\">1</text>\n",
       "</g>\n",
       "<!-- St1 -->\n",
       "<g id=\"node3\" class=\"node\"><title>St1</title>\n",
       "<ellipse fill=\"none\" stroke=\"black\" cx=\"373.327\" cy=\"-118\" rx=\"21.8081\" ry=\"21.8081\"/>\n",
       "<text text-anchor=\"middle\" x=\"373.327\" y=\"-113.8\" font-family=\"Times,serif\" font-size=\"14.00\">St1</text>\n",
       "</g>\n",
       "<!-- St3 -->\n",
       "<g id=\"node6\" class=\"node\"><title>St3</title>\n",
       "<ellipse fill=\"none\" stroke=\"black\" cx=\"460.135\" cy=\"-81\" rx=\"21.8081\" ry=\"21.8081\"/>\n",
       "<text text-anchor=\"middle\" x=\"460.135\" y=\"-76.8\" font-family=\"Times,serif\" font-size=\"14.00\">St3</text>\n",
       "</g>\n",
       "<!-- St1&#45;&gt;St3 -->\n",
       "<g id=\"edge4\" class=\"edge\"><title>St1&#45;&gt;St3</title>\n",
       "<path fill=\"none\" stroke=\"black\" d=\"M393.571,-109.604C404.446,-104.86 418.252,-98.8365 430.387,-93.5421\"/>\n",
       "<polygon fill=\"black\" stroke=\"black\" points=\"431.907,-96.6976 439.673,-89.4907 429.108,-90.2816 431.907,-96.6976\"/>\n",
       "<text text-anchor=\"middle\" x=\"416.731\" y=\"-103.8\" font-family=\"Times,serif\" font-size=\"14.00\">0</text>\n",
       "</g>\n",
       "<!-- St4 -->\n",
       "<g id=\"node4\" class=\"node\"><title>St4</title>\n",
       "<ellipse fill=\"none\" stroke=\"black\" cx=\"112.904\" cy=\"-69\" rx=\"21.8081\" ry=\"21.8081\"/>\n",
       "<text text-anchor=\"middle\" x=\"112.904\" y=\"-64.8\" font-family=\"Times,serif\" font-size=\"14.00\">St4</text>\n",
       "</g>\n",
       "<!-- St4&#45;&gt;St5 -->\n",
       "<g id=\"edge12\" class=\"edge\"><title>St4&#45;&gt;St5</title>\n",
       "<path fill=\"none\" stroke=\"black\" d=\"M129.282,-83.9201C136.376,-90.7268 144.95,-98.8464 152.808,-106 159.774,-112.342 167.454,-119.117 174.505,-125.254\"/>\n",
       "<polygon fill=\"black\" stroke=\"black\" points=\"172.563,-128.202 182.415,-132.101 177.145,-122.91 172.563,-128.202\"/>\n",
       "<text text-anchor=\"middle\" x=\"156.308\" y=\"-114.8\" font-family=\"Times,serif\" font-size=\"14.00\">0</text>\n",
       "</g>\n",
       "<!-- St4&#45;&gt;St4 -->\n",
       "<g id=\"edge11\" class=\"edge\"><title>St4&#45;&gt;St4</title>\n",
       "<path fill=\"none\" stroke=\"black\" d=\"M105.587,-89.9403C104.684,-100.013 107.123,-108.904 112.904,-108.904 116.607,-108.904 118.939,-105.255 119.9,-99.984\"/>\n",
       "<polygon fill=\"black\" stroke=\"black\" points=\"123.399,-100.047 120.221,-89.9403 116.403,-99.8233 123.399,-100.047\"/>\n",
       "<text text-anchor=\"middle\" x=\"112.904\" y=\"-125.704\" font-family=\"Times,serif\" font-size=\"14.00\">1 </text>\n",
       "<text text-anchor=\"middle\" x=\"112.904\" y=\"-111.704\" font-family=\"Times,serif\" font-size=\"14.00\"> 0</text>\n",
       "</g>\n",
       "<!-- St4&#45;&gt;St3 -->\n",
       "<g id=\"edge9\" class=\"edge\"><title>St4&#45;&gt;St3</title>\n",
       "<path fill=\"none\" stroke=\"black\" d=\"M133.376,-60.5662C150.309,-54.0021 175.676,-46 198.712,-46 198.712,-46 198.712,-46 374.327,-46 394.965,-46 416.437,-54.966 432.612,-63.822\"/>\n",
       "<polygon fill=\"black\" stroke=\"black\" points=\"431.07,-66.9731 441.477,-68.955 434.577,-60.9153 431.07,-66.9731\"/>\n",
       "<text text-anchor=\"middle\" x=\"286.519\" y=\"-48.8\" font-family=\"Times,serif\" font-size=\"14.00\">1</text>\n",
       "</g>\n",
       "<!-- St4&#45;&gt;St0 -->\n",
       "<g id=\"edge13\" class=\"edge\"><title>St4&#45;&gt;St0</title>\n",
       "<path fill=\"none\" stroke=\"black\" d=\"M134.513,-73.9722C156.463,-79.5323 192.045,-89.3085 221.615,-101 233.753,-105.799 246.705,-112.057 257.753,-117.764\"/>\n",
       "<polygon fill=\"black\" stroke=\"black\" points=\"256.425,-121.021 266.903,-122.588 259.689,-114.828 256.425,-121.021\"/>\n",
       "<text text-anchor=\"middle\" x=\"199.712\" y=\"-103.8\" font-family=\"Times,serif\" font-size=\"14.00\">0</text>\n",
       "</g>\n",
       "<!-- St6 -->\n",
       "<g id=\"node8\" class=\"node\"><title>St6</title>\n",
       "<ellipse fill=\"none\" stroke=\"black\" cx=\"550.943\" cy=\"-28\" rx=\"21.8229\" ry=\"21.8229\"/>\n",
       "<ellipse fill=\"none\" stroke=\"black\" cx=\"550.943\" cy=\"-28\" rx=\"25.8081\" ry=\"25.8081\"/>\n",
       "<text text-anchor=\"middle\" x=\"550.943\" y=\"-23.8\" font-family=\"Times,serif\" font-size=\"14.00\">St6</text>\n",
       "</g>\n",
       "<!-- St4&#45;&gt;St6 -->\n",
       "<g id=\"edge10\" class=\"edge\"><title>St4&#45;&gt;St6</title>\n",
       "<path fill=\"none\" stroke=\"black\" d=\"M125.261,-50.8711C139.633,-30.4276 166.444,-0 198.712,-0 198.712,-0 198.712,-0 461.135,-0 480.73,-0 501.679,-6.27714 518.306,-12.8872\"/>\n",
       "<polygon fill=\"black\" stroke=\"black\" points=\"516.979,-16.1259 527.554,-16.7727 519.69,-9.67233 516.979,-16.1259\"/>\n",
       "<text text-anchor=\"middle\" x=\"329.923\" y=\"-2.8\" font-family=\"Times,serif\" font-size=\"14.00\">1</text>\n",
       "</g>\n",
       "<!-- St2&#45;&gt;St5 -->\n",
       "<g id=\"edge5\" class=\"edge\"><title>St2&#45;&gt;St5</title>\n",
       "<path fill=\"none\" stroke=\"black\" d=\"M131.215,-191.287C137.913,-186.435 145.672,-180.896 152.808,-176 159.068,-171.704 165.883,-167.174 172.299,-162.971\"/>\n",
       "<polygon fill=\"black\" stroke=\"black\" points=\"174.239,-165.885 180.712,-157.497 170.421,-160.018 174.239,-165.885\"/>\n",
       "<text text-anchor=\"middle\" x=\"156.308\" y=\"-178.8\" font-family=\"Times,serif\" font-size=\"14.00\">1</text>\n",
       "</g>\n",
       "<!-- St3&#45;&gt;St1 -->\n",
       "<g id=\"edge8\" class=\"edge\"><title>St3&#45;&gt;St1</title>\n",
       "<path fill=\"none\" stroke=\"black\" d=\"M438.403,-77.7714C430.294,-77.3266 421.075,-77.8654 413.231,-81 406.209,-83.8059 399.731,-88.5491 394.157,-93.7199\"/>\n",
       "<polygon fill=\"black\" stroke=\"black\" points=\"391.633,-91.2947 387.15,-100.894 396.641,-96.1856 391.633,-91.2947\"/>\n",
       "<text text-anchor=\"middle\" x=\"416.731\" y=\"-83.8\" font-family=\"Times,serif\" font-size=\"14.00\">0</text>\n",
       "</g>\n",
       "<!-- St3&#45;&gt;St2 -->\n",
       "<g id=\"edge6\" class=\"edge\"><title>St3&#45;&gt;St2</title>\n",
       "<path fill=\"none\" stroke=\"black\" d=\"M457.838,-102.911C453.876,-147.794 437.938,-246 374.327,-246 198.712,-246 198.712,-246 198.712,-246 176.808,-246 154.719,-234.61 138.577,-223.693\"/>\n",
       "<polygon fill=\"black\" stroke=\"black\" points=\"140.432,-220.717 130.26,-217.752 136.363,-226.413 140.432,-220.717\"/>\n",
       "<text text-anchor=\"middle\" x=\"286.519\" y=\"-248.8\" font-family=\"Times,serif\" font-size=\"14.00\">0</text>\n",
       "</g>\n",
       "<!-- St3&#45;&gt;St6 -->\n",
       "<g id=\"edge7\" class=\"edge\"><title>St3&#45;&gt;St6</title>\n",
       "<path fill=\"none\" stroke=\"black\" d=\"M479.536,-70.0184C491.094,-63.1205 506.281,-54.0567 519.591,-46.1136\"/>\n",
       "<polygon fill=\"black\" stroke=\"black\" points=\"521.644,-48.9643 528.438,-40.834 518.057,-42.9533 521.644,-48.9643\"/>\n",
       "<text text-anchor=\"middle\" x=\"503.539\" y=\"-60.8\" font-family=\"Times,serif\" font-size=\"14.00\">0</text>\n",
       "</g>\n",
       "<!-- St0&#45;&gt;St1 -->\n",
       "<g id=\"edge3\" class=\"edge\"><title>St0&#45;&gt;St1</title>\n",
       "<path fill=\"none\" stroke=\"black\" d=\"M308.483,-129.292C318.445,-127.53 330.549,-125.389 341.529,-123.447\"/>\n",
       "<polygon fill=\"black\" stroke=\"black\" points=\"342.367,-126.853 351.604,-121.665 341.148,-119.96 342.367,-126.853\"/>\n",
       "<text text-anchor=\"middle\" x=\"329.923\" y=\"-128.8\" font-family=\"Times,serif\" font-size=\"14.00\">1</text>\n",
       "</g>\n",
       "<!-- St0&#45;&gt;St2 -->\n",
       "<g id=\"edge2\" class=\"edge\"><title>St0&#45;&gt;St2</title>\n",
       "<path fill=\"none\" stroke=\"black\" d=\"M269.159,-146.72C256.802,-156.449 239.047,-169.126 221.615,-177 197.005,-188.117 167.078,-195.152 145.021,-199.244\"/>\n",
       "<polygon fill=\"black\" stroke=\"black\" points=\"144.128,-195.847 134.883,-201.021 145.337,-202.742 144.128,-195.847\"/>\n",
       "<text text-anchor=\"middle\" x=\"199.712\" y=\"-194.8\" font-family=\"Times,serif\" font-size=\"14.00\">1</text>\n",
       "</g>\n",
       "</g>\n",
       "</svg>\n"
      ],
      "text/plain": [
       "<graphviz.dot.Digraph at 0x10758d2e8>"
      ]
     },
     "execution_count": 55,
     "metadata": {},
     "output_type": "execute_result"
    }
   ],
   "source": [
    "det_rev_n2DFA23 = nfa2dfa(rev_dfa(n2DFA23))\n",
    "dotObj_nfa(rev_n2DFA23, \"rev23\")"
   ]
  },
  {
   "cell_type": "code",
   "execution_count": 56,
   "metadata": {
    "editable": false,
    "run_control": {
     "frozen": false,
     "read_only": false
    }
   },
   "outputs": [
    {
     "data": {
      "image/svg+xml": [
       "<?xml version=\"1.0\" encoding=\"UTF-8\" standalone=\"no\"?>\n",
       "<!DOCTYPE svg PUBLIC \"-//W3C//DTD SVG 1.1//EN\"\n",
       " \"http://www.w3.org/Graphics/SVG/1.1/DTD/svg11.dtd\">\n",
       "<!-- Generated by graphviz version 2.38.0 (20140413.2041)\n",
       " -->\n",
       "<!-- Title: %3 Pages: 1 -->\n",
       "<svg width=\"585pt\" height=\"130pt\"\n",
       " viewBox=\"0.00 0.00 584.85 129.90\" xmlns=\"http://www.w3.org/2000/svg\" xmlns:xlink=\"http://www.w3.org/1999/xlink\">\n",
       "<g id=\"graph0\" class=\"graph\" transform=\"scale(1 1) rotate(0) translate(4 125.904)\">\n",
       "<title>%3</title>\n",
       "<polygon fill=\"white\" stroke=\"none\" points=\"-4,4 -4,-125.904 580.846,-125.904 580.846,4 -4,4\"/>\n",
       "<!-- EMPTY -->\n",
       "<g id=\"node1\" class=\"node\"><title>EMPTY</title>\n",
       "</g>\n",
       "<!-- St3 -->\n",
       "<g id=\"node6\" class=\"node\"><title>St3</title>\n",
       "<ellipse fill=\"none\" stroke=\"black\" cx=\"112.904\" cy=\"-33\" rx=\"21.8081\" ry=\"21.8081\"/>\n",
       "<text text-anchor=\"middle\" x=\"112.904\" y=\"-28.8\" font-family=\"Times,serif\" font-size=\"14.00\">St3</text>\n",
       "</g>\n",
       "<!-- EMPTY&#45;&gt;St3 -->\n",
       "<g id=\"edge1\" class=\"edge\"><title>EMPTY&#45;&gt;St3</title>\n",
       "<path fill=\"none\" stroke=\"black\" d=\"M54.0878,-33C62.501,-33 71.9126,-33 80.6587,-33\"/>\n",
       "<polygon fill=\"black\" stroke=\"black\" points=\"80.8854,-36.5001 90.8853,-33 80.8853,-29.5001 80.8854,-36.5001\"/>\n",
       "</g>\n",
       "<!-- St6 -->\n",
       "<g id=\"node2\" class=\"node\"><title>St6</title>\n",
       "<ellipse fill=\"none\" stroke=\"black\" cx=\"460.135\" cy=\"-100\" rx=\"21.8081\" ry=\"21.8081\"/>\n",
       "<text text-anchor=\"middle\" x=\"460.135\" y=\"-95.8\" font-family=\"Times,serif\" font-size=\"14.00\">St6</text>\n",
       "</g>\n",
       "<!-- St1 -->\n",
       "<g id=\"node7\" class=\"node\"><title>St1</title>\n",
       "<ellipse fill=\"none\" stroke=\"black\" cx=\"550.943\" cy=\"-46\" rx=\"21.8229\" ry=\"21.8229\"/>\n",
       "<ellipse fill=\"none\" stroke=\"black\" cx=\"550.943\" cy=\"-46\" rx=\"25.8081\" ry=\"25.8081\"/>\n",
       "<text text-anchor=\"middle\" x=\"550.943\" y=\"-41.8\" font-family=\"Times,serif\" font-size=\"14.00\">St1</text>\n",
       "</g>\n",
       "<!-- St6&#45;&gt;St1 -->\n",
       "<g id=\"edge7\" class=\"edge\"><title>St6&#45;&gt;St1</title>\n",
       "<path fill=\"none\" stroke=\"black\" d=\"M479.536,-88.8112C491.094,-81.7831 506.281,-72.5483 519.591,-64.4554\"/>\n",
       "<polygon fill=\"black\" stroke=\"black\" points=\"521.712,-67.2623 528.438,-59.0762 518.075,-61.2812 521.712,-67.2623\"/>\n",
       "<text text-anchor=\"middle\" x=\"503.539\" y=\"-78.8\" font-family=\"Times,serif\" font-size=\"14.00\">1</text>\n",
       "</g>\n",
       "<!-- St5 -->\n",
       "<g id=\"node3\" class=\"node\"><title>St5</title>\n",
       "<ellipse fill=\"none\" stroke=\"black\" cx=\"373.327\" cy=\"-62\" rx=\"21.8081\" ry=\"21.8081\"/>\n",
       "<text text-anchor=\"middle\" x=\"373.327\" y=\"-57.8\" font-family=\"Times,serif\" font-size=\"14.00\">St5</text>\n",
       "</g>\n",
       "<!-- St5&#45;&gt;St6 -->\n",
       "<g id=\"edge6\" class=\"edge\"><title>St5&#45;&gt;St6</title>\n",
       "<path fill=\"none\" stroke=\"black\" d=\"M393.571,-70.6228C404.523,-75.5299 418.448,-81.7692 430.645,-87.2345\"/>\n",
       "<polygon fill=\"black\" stroke=\"black\" points=\"429.41,-90.5163 439.967,-91.4113 432.272,-84.1282 429.41,-90.5163\"/>\n",
       "<text text-anchor=\"middle\" x=\"416.731\" y=\"-84.8\" font-family=\"Times,serif\" font-size=\"14.00\">1</text>\n",
       "</g>\n",
       "<!-- St4 -->\n",
       "<g id=\"node4\" class=\"node\"><title>St4</title>\n",
       "<ellipse fill=\"none\" stroke=\"black\" cx=\"199.712\" cy=\"-33\" rx=\"21.8081\" ry=\"21.8081\"/>\n",
       "<text text-anchor=\"middle\" x=\"199.712\" y=\"-28.8\" font-family=\"Times,serif\" font-size=\"14.00\">St4</text>\n",
       "</g>\n",
       "<!-- St2 -->\n",
       "<g id=\"node5\" class=\"node\"><title>St2</title>\n",
       "<ellipse fill=\"none\" stroke=\"black\" cx=\"286.519\" cy=\"-62\" rx=\"21.8081\" ry=\"21.8081\"/>\n",
       "<text text-anchor=\"middle\" x=\"286.519\" y=\"-57.8\" font-family=\"Times,serif\" font-size=\"14.00\">St2</text>\n",
       "</g>\n",
       "<!-- St4&#45;&gt;St2 -->\n",
       "<g id=\"edge3\" class=\"edge\"><title>St4&#45;&gt;St2</title>\n",
       "<path fill=\"none\" stroke=\"black\" d=\"M220.402,-40.9081C226.524,-43.2815 233.319,-45.8293 239.615,-48 244.703,-49.7542 250.146,-51.5145 255.441,-53.1661\"/>\n",
       "<polygon fill=\"black\" stroke=\"black\" points=\"254.722,-56.6059 265.308,-56.178 256.766,-49.9109 254.722,-56.6059\"/>\n",
       "<text text-anchor=\"middle\" x=\"243.115\" y=\"-53.8\" font-family=\"Times,serif\" font-size=\"14.00\">0</text>\n",
       "</g>\n",
       "<!-- St2&#45;&gt;St5 -->\n",
       "<g id=\"edge4\" class=\"edge\"><title>St2&#45;&gt;St5</title>\n",
       "<path fill=\"none\" stroke=\"black\" d=\"M308.483,-62C318.371,-62 330.369,-62 341.283,-62\"/>\n",
       "<polygon fill=\"black\" stroke=\"black\" points=\"341.311,-65.5001 351.311,-62 341.311,-58.5001 341.311,-65.5001\"/>\n",
       "<text text-anchor=\"middle\" x=\"329.923\" y=\"-64.8\" font-family=\"Times,serif\" font-size=\"14.00\">1</text>\n",
       "</g>\n",
       "<!-- St2&#45;&gt;St4 -->\n",
       "<g id=\"edge5\" class=\"edge\"><title>St2&#45;&gt;St4</title>\n",
       "<path fill=\"none\" stroke=\"black\" d=\"M271.191,-46.1527C264.435,-39.843 255.836,-33.3049 246.615,-30 241.884,-28.304 236.704,-27.6233 231.583,-27.5611\"/>\n",
       "<polygon fill=\"black\" stroke=\"black\" points=\"231.088,-24.0843 221.315,-28.1751 231.506,-31.0718 231.088,-24.0843\"/>\n",
       "<text text-anchor=\"middle\" x=\"243.115\" y=\"-32.8\" font-family=\"Times,serif\" font-size=\"14.00\">0</text>\n",
       "</g>\n",
       "<!-- St3&#45;&gt;St4 -->\n",
       "<g id=\"edge2\" class=\"edge\"><title>St3&#45;&gt;St4</title>\n",
       "<path fill=\"none\" stroke=\"black\" d=\"M134.868,-33C144.755,-33 156.753,-33 167.667,-33\"/>\n",
       "<polygon fill=\"black\" stroke=\"black\" points=\"167.695,-36.5001 177.695,-33 167.695,-29.5001 167.695,-36.5001\"/>\n",
       "<text text-anchor=\"middle\" x=\"156.308\" y=\"-35.8\" font-family=\"Times,serif\" font-size=\"14.00\">0</text>\n",
       "</g>\n",
       "<!-- St1&#45;&gt;St5 -->\n",
       "<g id=\"edge8\" class=\"edge\"><title>St1&#45;&gt;St5</title>\n",
       "<path fill=\"none\" stroke=\"black\" d=\"M525.078,-47.7977C502.427,-49.4841 468.061,-52.1652 438.231,-55 427.481,-56.0216 415.729,-57.2708 405.268,-58.4297\"/>\n",
       "<polygon fill=\"black\" stroke=\"black\" points=\"404.869,-54.9524 395.322,-59.5467 405.65,-61.9087 404.869,-54.9524\"/>\n",
       "<text text-anchor=\"middle\" x=\"460.135\" y=\"-57.8\" font-family=\"Times,serif\" font-size=\"14.00\">1</text>\n",
       "</g>\n",
       "<!-- St1&#45;&gt;St4 -->\n",
       "<g id=\"edge9\" class=\"edge\"><title>St1&#45;&gt;St4</title>\n",
       "<path fill=\"none\" stroke=\"black\" d=\"M530.948,-29.3929C513.887,-16.2168 487.527,-0 461.135,-0 285.519,-0 285.519,-0 285.519,-0 265.049,-0 243.574,-8.45366 227.357,-16.8036\"/>\n",
       "<polygon fill=\"black\" stroke=\"black\" points=\"225.573,-13.7893 218.462,-21.6433 228.919,-19.9379 225.573,-13.7893\"/>\n",
       "<text text-anchor=\"middle\" x=\"373.327\" y=\"-2.8\" font-family=\"Times,serif\" font-size=\"14.00\">0</text>\n",
       "</g>\n",
       "</g>\n",
       "</svg>\n"
      ],
      "text/plain": [
       "<graphviz.dot.Digraph at 0x10758d780>"
      ]
     },
     "execution_count": 56,
     "metadata": {},
     "output_type": "execute_result"
    }
   ],
   "source": [
    "n2DFA23\n",
    "dotObj_dfa(nfa2dfa(rev_dfa(nfa2dfa(rev_dfa(n2DFA23)))), \"rdrd\")"
   ]
  },
  {
   "cell_type": "code",
   "execution_count": 57,
   "metadata": {
    "editable": false,
    "run_control": {
     "frozen": false,
     "read_only": false
    }
   },
   "outputs": [
    {
     "data": {
      "image/svg+xml": [
       "<?xml version=\"1.0\" encoding=\"UTF-8\" standalone=\"no\"?>\n",
       "<!DOCTYPE svg PUBLIC \"-//W3C//DTD SVG 1.1//EN\"\n",
       " \"http://www.w3.org/Graphics/SVG/1.1/DTD/svg11.dtd\">\n",
       "<!-- Generated by graphviz version 2.38.0 (20140413.2041)\n",
       " -->\n",
       "<!-- Title: %3 Pages: 1 -->\n",
       "<svg width=\"470pt\" height=\"149pt\"\n",
       " viewBox=\"0.00 0.00 469.68 149.00\" xmlns=\"http://www.w3.org/2000/svg\" xmlns:xlink=\"http://www.w3.org/1999/xlink\">\n",
       "<g id=\"graph0\" class=\"graph\" transform=\"scale(1 1) rotate(0) translate(4 145)\">\n",
       "<title>%3</title>\n",
       "<polygon fill=\"white\" stroke=\"none\" points=\"-4,4 -4,-145 465.684,-145 465.684,4 -4,4\"/>\n",
       "<!-- EMPTY -->\n",
       "<g id=\"node1\" class=\"node\"><title>EMPTY</title>\n",
       "</g>\n",
       "<!-- IF -->\n",
       "<g id=\"node6\" class=\"node\"><title>IF</title>\n",
       "<ellipse fill=\"none\" stroke=\"black\" cx=\"113\" cy=\"-75\" rx=\"18\" ry=\"18\"/>\n",
       "<ellipse fill=\"none\" stroke=\"black\" cx=\"113\" cy=\"-75\" rx=\"22\" ry=\"22\"/>\n",
       "<text text-anchor=\"middle\" x=\"113\" y=\"-70.8\" font-family=\"Times,serif\" font-size=\"14.00\">IF</text>\n",
       "</g>\n",
       "<!-- EMPTY&#45;&gt;IF -->\n",
       "<g id=\"edge1\" class=\"edge\"><title>EMPTY&#45;&gt;IF</title>\n",
       "<path fill=\"none\" stroke=\"black\" d=\"M54.1177,-75C62.5406,-75 71.9629,-75 80.7191,-75\"/>\n",
       "<polygon fill=\"black\" stroke=\"black\" points=\"80.9574,-78.5001 90.9574,-75 80.9573,-71.5001 80.9574,-78.5001\"/>\n",
       "</g>\n",
       "<!-- A1 -->\n",
       "<g id=\"node2\" class=\"node\"><title>A1</title>\n",
       "<ellipse fill=\"none\" stroke=\"black\" cx=\"277.915\" cy=\"-100\" rx=\"20.8304\" ry=\"20.8304\"/>\n",
       "<text text-anchor=\"middle\" x=\"277.915\" y=\"-95.8\" font-family=\"Times,serif\" font-size=\"14.00\">A1</text>\n",
       "</g>\n",
       "<!-- B -->\n",
       "<g id=\"node3\" class=\"node\"><title>B</title>\n",
       "<ellipse fill=\"none\" stroke=\"black\" cx=\"359.83\" cy=\"-109\" rx=\"18\" ry=\"18\"/>\n",
       "<text text-anchor=\"middle\" x=\"359.83\" y=\"-104.8\" font-family=\"Times,serif\" font-size=\"14.00\">B</text>\n",
       "</g>\n",
       "<!-- A1&#45;&gt;B -->\n",
       "<g id=\"edge6\" class=\"edge\"><title>A1&#45;&gt;B</title>\n",
       "<path fill=\"none\" stroke=\"black\" d=\"M299.081,-102.271C308.999,-103.388 321.094,-104.75 331.801,-105.956\"/>\n",
       "<polygon fill=\"black\" stroke=\"black\" points=\"331.584,-109.454 341.913,-107.095 332.367,-102.498 331.584,-109.454\"/>\n",
       "<text text-anchor=\"middle\" x=\"320.33\" y=\"-108.8\" font-family=\"Times,serif\" font-size=\"14.00\">0</text>\n",
       "</g>\n",
       "<!-- A -->\n",
       "<g id=\"node5\" class=\"node\"><title>A</title>\n",
       "<ellipse fill=\"none\" stroke=\"black\" cx=\"196\" cy=\"-75\" rx=\"18\" ry=\"18\"/>\n",
       "<text text-anchor=\"middle\" x=\"196\" y=\"-70.8\" font-family=\"Times,serif\" font-size=\"14.00\">A</text>\n",
       "</g>\n",
       "<!-- A1&#45;&gt;A -->\n",
       "<g id=\"edge7\" class=\"edge\"><title>A1&#45;&gt;A</title>\n",
       "<path fill=\"none\" stroke=\"black\" d=\"M262.328,-85.8129C255.752,-80.3803 247.55,-74.8148 239,-72 234.218,-70.4255 228.968,-69.9154 223.85,-70.0109\"/>\n",
       "<polygon fill=\"black\" stroke=\"black\" points=\"223.369,-66.5397 213.718,-70.9105 223.988,-73.5123 223.369,-66.5397\"/>\n",
       "<text text-anchor=\"middle\" x=\"235.5\" y=\"-74.8\" font-family=\"Times,serif\" font-size=\"14.00\">1</text>\n",
       "</g>\n",
       "<!-- B1 -->\n",
       "<g id=\"node4\" class=\"node\"><title>B1</title>\n",
       "<ellipse fill=\"none\" stroke=\"black\" cx=\"441.257\" cy=\"-58\" rx=\"20.3544\" ry=\"20.3544\"/>\n",
       "<text text-anchor=\"middle\" x=\"441.257\" y=\"-53.8\" font-family=\"Times,serif\" font-size=\"14.00\">B1</text>\n",
       "</g>\n",
       "<!-- B&#45;&gt;B1 -->\n",
       "<g id=\"edge11\" class=\"edge\"><title>B&#45;&gt;B1</title>\n",
       "<path fill=\"none\" stroke=\"black\" d=\"M371.434,-94.6391C377.76,-86.9663 386.386,-77.9107 395.83,-72 400.425,-69.1241 405.66,-66.7945 410.884,-64.9221\"/>\n",
       "<polygon fill=\"black\" stroke=\"black\" points=\"412.233,-68.1682 420.747,-61.8618 410.159,-61.4826 412.233,-68.1682\"/>\n",
       "<text text-anchor=\"middle\" x=\"399.33\" y=\"-74.8\" font-family=\"Times,serif\" font-size=\"14.00\">1</text>\n",
       "</g>\n",
       "<!-- B&#45;&gt;IF -->\n",
       "<g id=\"edge10\" class=\"edge\"><title>B&#45;&gt;IF</title>\n",
       "<path fill=\"none\" stroke=\"black\" d=\"M343.368,-116.296C337.356,-118.954 330.356,-121.836 323.83,-124 295.524,-133.387 286.39,-135.054 257,-130 215.26,-122.822 170.122,-103.296 141.96,-89.5591\"/>\n",
       "<polygon fill=\"black\" stroke=\"black\" points=\"143.253,-86.2929 132.741,-84.9714 140.134,-92.5599 143.253,-86.2929\"/>\n",
       "<text text-anchor=\"middle\" x=\"235.5\" y=\"-129.8\" font-family=\"Times,serif\" font-size=\"14.00\">0</text>\n",
       "</g>\n",
       "<!-- B1&#45;&gt;B -->\n",
       "<g id=\"edge9\" class=\"edge\"><title>B1&#45;&gt;B</title>\n",
       "<path fill=\"none\" stroke=\"black\" d=\"M426.078,-71.7896C419.377,-77.8554 411.055,-84.7728 402.83,-90 397.637,-93.2998 391.776,-96.3312 386.116,-98.9577\"/>\n",
       "<polygon fill=\"black\" stroke=\"black\" points=\"384.694,-95.7593 376.934,-102.972 387.498,-102.173 384.694,-95.7593\"/>\n",
       "<text text-anchor=\"middle\" x=\"399.33\" y=\"-96.8\" font-family=\"Times,serif\" font-size=\"14.00\">1</text>\n",
       "</g>\n",
       "<!-- B1&#45;&gt;IF -->\n",
       "<g id=\"edge8\" class=\"edge\"><title>B1&#45;&gt;IF</title>\n",
       "<path fill=\"none\" stroke=\"black\" d=\"M428.471,-41.8438C414.457,-24.682 389.345,-0 360.83,-0 195,-0 195,-0 195,-0 166.324,-0 143.499,-25.6206 129.481,-46.9128\"/>\n",
       "<polygon fill=\"black\" stroke=\"black\" points=\"126.333,-45.3462 124.021,-55.6856 132.276,-49.045 126.333,-45.3462\"/>\n",
       "<text text-anchor=\"middle\" x=\"277.915\" y=\"-2.8\" font-family=\"Times,serif\" font-size=\"14.00\">0</text>\n",
       "</g>\n",
       "<!-- A&#45;&gt;A1 -->\n",
       "<g id=\"edge5\" class=\"edge\"><title>A&#45;&gt;A1</title>\n",
       "<path fill=\"none\" stroke=\"black\" d=\"M212.444,-82.3527C218.453,-85.0184 225.457,-87.8897 232,-90 236.785,-91.5433 241.932,-92.9321 246.974,-94.1493\"/>\n",
       "<polygon fill=\"black\" stroke=\"black\" points=\"246.502,-97.6302 257.025,-96.4007 248.032,-90.7995 246.502,-97.6302\"/>\n",
       "<text text-anchor=\"middle\" x=\"235.5\" y=\"-95.8\" font-family=\"Times,serif\" font-size=\"14.00\">1</text>\n",
       "</g>\n",
       "<!-- A&#45;&gt;B1 -->\n",
       "<g id=\"edge4\" class=\"edge\"><title>A&#45;&gt;B1</title>\n",
       "<path fill=\"none\" stroke=\"black\" d=\"M213.622,-70.5517C219.398,-69.1793 225.946,-67.8158 232,-67 295.213,-58.4817 370.098,-57.4267 410.621,-57.596\"/>\n",
       "<polygon fill=\"black\" stroke=\"black\" points=\"410.604,-61.0959 420.628,-57.6663 410.653,-54.0961 410.604,-61.0959\"/>\n",
       "<text text-anchor=\"middle\" x=\"320.33\" y=\"-62.8\" font-family=\"Times,serif\" font-size=\"14.00\">0</text>\n",
       "</g>\n",
       "<!-- IF&#45;&gt;A -->\n",
       "<g id=\"edge2\" class=\"edge\"><title>IF&#45;&gt;A</title>\n",
       "<path fill=\"none\" stroke=\"black\" d=\"M135.282,-75C145.266,-75 157.278,-75 167.903,-75\"/>\n",
       "<polygon fill=\"black\" stroke=\"black\" points=\"167.94,-78.5001 177.939,-75 167.939,-71.5001 167.94,-78.5001\"/>\n",
       "<text text-anchor=\"middle\" x=\"156.5\" y=\"-77.8\" font-family=\"Times,serif\" font-size=\"14.00\">0</text>\n",
       "</g>\n",
       "<!-- IF&#45;&gt;IF -->\n",
       "<g id=\"edge3\" class=\"edge\"><title>IF&#45;&gt;IF</title>\n",
       "<path fill=\"none\" stroke=\"black\" d=\"M105.683,-95.9908C104.78,-106.087 107.219,-115 113,-115 116.704,-115 119.036,-111.342 119.996,-106.059\"/>\n",
       "<polygon fill=\"black\" stroke=\"black\" points=\"123.496,-106.097 120.317,-95.9908 116.5,-105.874 123.496,-106.097\"/>\n",
       "<text text-anchor=\"middle\" x=\"113\" y=\"-117.8\" font-family=\"Times,serif\" font-size=\"14.00\">1</text>\n",
       "</g>\n",
       "</g>\n",
       "</svg>\n"
      ],
      "text/plain": [
       "<graphviz.dot.Digraph at 0x107592e80>"
      ]
     },
     "execution_count": 57,
     "metadata": {},
     "output_type": "execute_result"
    }
   ],
   "source": [
    "D34bl = { 'Q': {'A', 'IF', 'B', 'A1', 'B1'},\n",
    "          'Sigma': {'0', '1'},\n",
    "          'Delta': { ('IF', '0'): 'A',\n",
    "                     ('IF', '1'): 'IF',\n",
    "                     ('A', '0'): 'B1',\n",
    "                     ('A', '1'): 'A1',\n",
    "                     ('A1', '0'): 'B',\n",
    "                     ('A1', '1'): 'A',\n",
    "                     ('B1', '0'): 'IF',\n",
    "                     ('B1', '1'): 'B',\n",
    "                     ('B','0') : 'IF',\n",
    "                     ('B', '1'): 'B1' },\n",
    "          'q0': 'IF', \n",
    "          'F': {'IF'}   \n",
    "        }\n",
    "\n",
    "dotObj_dfa(D34bl, \"D34bl\")"
   ]
  },
  {
   "cell_type": "code",
   "execution_count": 58,
   "metadata": {
    "editable": false,
    "run_control": {
     "frozen": false,
     "read_only": false
    },
    "scrolled": true
   },
   "outputs": [
    {
     "data": {
      "image/svg+xml": [
       "<?xml version=\"1.0\" encoding=\"UTF-8\" standalone=\"no\"?>\n",
       "<!DOCTYPE svg PUBLIC \"-//W3C//DTD SVG 1.1//EN\"\n",
       " \"http://www.w3.org/Graphics/SVG/1.1/DTD/svg11.dtd\">\n",
       "<!-- Generated by graphviz version 2.38.0 (20140413.2041)\n",
       " -->\n",
       "<!-- Title: %3 Pages: 1 -->\n",
       "<svg width=\"397pt\" height=\"190pt\"\n",
       " viewBox=\"0.00 0.00 397.20 189.91\" xmlns=\"http://www.w3.org/2000/svg\" xmlns:xlink=\"http://www.w3.org/1999/xlink\">\n",
       "<g id=\"graph0\" class=\"graph\" transform=\"scale(1 1) rotate(0) translate(4 185.91)\">\n",
       "<title>%3</title>\n",
       "<polygon fill=\"white\" stroke=\"none\" points=\"-4,4 -4,-185.91 393.2,-185.91 393.2,4 -4,4\"/>\n",
       "<!-- EMPTY -->\n",
       "<g id=\"node1\" class=\"node\"><title>EMPTY</title>\n",
       "</g>\n",
       "<!-- &quot;IF&quot; -->\n",
       "<g id=\"node4\" class=\"node\"><title>&quot;IF&quot;</title>\n",
       "<ellipse fill=\"none\" stroke=\"black\" cx=\"120.19\" cy=\"-111.943\" rx=\"25.3549\" ry=\"25.3549\"/>\n",
       "<ellipse fill=\"none\" stroke=\"black\" cx=\"120.19\" cy=\"-111.943\" rx=\"29.3811\" ry=\"29.3811\"/>\n",
       "<text text-anchor=\"middle\" x=\"120.19\" y=\"-107.743\" font-family=\"Times,serif\" font-size=\"14.00\">&quot;IF&quot;</text>\n",
       "</g>\n",
       "<!-- EMPTY&#45;&gt;&quot;IF&quot; -->\n",
       "<g id=\"edge1\" class=\"edge\"><title>EMPTY&#45;&gt;&quot;IF&quot;</title>\n",
       "<path fill=\"none\" stroke=\"black\" d=\"M54.3759,-111.943C62.6179,-111.943 71.8854,-111.943 80.7788,-111.943\"/>\n",
       "<polygon fill=\"black\" stroke=\"black\" points=\"80.9634,-115.443 90.9633,-111.943 80.9633,-108.443 80.9634,-115.443\"/>\n",
       "</g>\n",
       "<!-- &quot;B_B1&quot; -->\n",
       "<g id=\"node2\" class=\"node\"><title>&quot;B_B1&quot;</title>\n",
       "<ellipse fill=\"none\" stroke=\"black\" cx=\"351.233\" cy=\"-111.943\" rx=\"37.9344\" ry=\"37.9344\"/>\n",
       "<text text-anchor=\"middle\" x=\"351.233\" y=\"-107.743\" font-family=\"Times,serif\" font-size=\"14.00\">&quot;B_B1&quot;</text>\n",
       "</g>\n",
       "<!-- &quot;B_B1&quot;&#45;&gt;&quot;B_B1&quot; -->\n",
       "<g id=\"edge6\" class=\"edge\"><title>&quot;B_B1&quot;&#45;&gt;&quot;B_B1&quot;</title>\n",
       "<path fill=\"none\" stroke=\"black\" d=\"M340.382,-148.546C340.706,-159.436 344.323,-167.91 351.233,-167.91 355.768,-167.91 358.885,-164.261 360.583,-158.674\"/>\n",
       "<polygon fill=\"black\" stroke=\"black\" points=\"364.08,-158.951 362.084,-148.546 357.156,-157.925 364.08,-158.951\"/>\n",
       "<text text-anchor=\"middle\" x=\"351.233\" y=\"-170.71\" font-family=\"Times,serif\" font-size=\"14.00\">1</text>\n",
       "</g>\n",
       "<!-- &quot;B_B1&quot;&#45;&gt;&quot;IF&quot; -->\n",
       "<g id=\"edge7\" class=\"edge\"><title>&quot;B_B1&quot;&#45;&gt;&quot;IF&quot;</title>\n",
       "<path fill=\"none\" stroke=\"black\" d=\"M313.252,-115.858C299.742,-117.11 284.328,-118.329 270.266,-118.943 235.683,-120.454 226.954,-120.639 192.38,-118.943 181.681,-118.418 170.111,-117.453 159.471,-116.403\"/>\n",
       "<polygon fill=\"black\" stroke=\"black\" points=\"159.515,-112.889 149.207,-115.338 158.792,-119.851 159.515,-112.889\"/>\n",
       "<text text-anchor=\"middle\" x=\"231.323\" y=\"-122.743\" font-family=\"Times,serif\" font-size=\"14.00\">0</text>\n",
       "</g>\n",
       "<!-- &quot;A_A1&quot; -->\n",
       "<g id=\"node3\" class=\"node\"><title>&quot;A_A1&quot;</title>\n",
       "<ellipse fill=\"none\" stroke=\"black\" cx=\"231.323\" cy=\"-38.9431\" rx=\"38.8862\" ry=\"38.8862\"/>\n",
       "<text text-anchor=\"middle\" x=\"231.323\" y=\"-34.7431\" font-family=\"Times,serif\" font-size=\"14.00\">&quot;A_A1&quot;</text>\n",
       "</g>\n",
       "<!-- &quot;A_A1&quot;&#45;&gt;&quot;B_B1&quot; -->\n",
       "<g id=\"edge5\" class=\"edge\"><title>&quot;A_A1&quot;&#45;&gt;&quot;B_B1&quot;</title>\n",
       "<path fill=\"none\" stroke=\"black\" d=\"M264.855,-59.0839C278.741,-67.6813 295.094,-77.8055 309.752,-86.8804\"/>\n",
       "<polygon fill=\"black\" stroke=\"black\" points=\"308.277,-90.084 318.622,-92.3722 311.962,-84.1323 308.277,-90.084\"/>\n",
       "<text text-anchor=\"middle\" x=\"291.766\" y=\"-79.7431\" font-family=\"Times,serif\" font-size=\"14.00\">0</text>\n",
       "</g>\n",
       "<!-- &quot;A_A1&quot;&#45;&gt;&quot;A_A1&quot; -->\n",
       "<g id=\"edge4\" class=\"edge\"><title>&quot;A_A1&quot;&#45;&gt;&quot;A_A1&quot;</title>\n",
       "<path fill=\"none\" stroke=\"black\" d=\"M220.107,-76.4564C220.494,-87.4053 224.233,-95.8862 231.323,-95.8862 235.976,-95.8862 239.185,-92.2338 240.952,-86.6283\"/>\n",
       "<polygon fill=\"black\" stroke=\"black\" points=\"244.455,-86.8765 242.539,-76.4564 237.539,-85.7969 244.455,-86.8765\"/>\n",
       "<text text-anchor=\"middle\" x=\"231.323\" y=\"-98.6862\" font-family=\"Times,serif\" font-size=\"14.00\">1</text>\n",
       "</g>\n",
       "<!-- &quot;IF&quot;&#45;&gt;&quot;A_A1&quot; -->\n",
       "<g id=\"edge3\" class=\"edge\"><title>&quot;IF&quot;&#45;&gt;&quot;A_A1&quot;</title>\n",
       "<path fill=\"none\" stroke=\"black\" d=\"M144.87,-96.1032C157.971,-87.3398 174.614,-76.2072 189.725,-66.0995\"/>\n",
       "<polygon fill=\"black\" stroke=\"black\" points=\"192.04,-68.7614 198.406,-60.2923 188.149,-62.9431 192.04,-68.7614\"/>\n",
       "<text text-anchor=\"middle\" x=\"170.88\" y=\"-81.7431\" font-family=\"Times,serif\" font-size=\"14.00\">0</text>\n",
       "</g>\n",
       "<!-- &quot;IF&quot;&#45;&gt;&quot;IF&quot; -->\n",
       "<g id=\"edge2\" class=\"edge\"><title>&quot;IF&quot;&#45;&gt;&quot;IF&quot;</title>\n",
       "<path fill=\"none\" stroke=\"black\" d=\"M111.584,-140.042C111.302,-150.513 114.17,-159.133 120.19,-159.133 124.046,-159.133 126.609,-155.596 127.879,-150.3\"/>\n",
       "<polygon fill=\"black\" stroke=\"black\" points=\"131.392,-150.314 128.796,-140.042 124.42,-149.691 131.392,-150.314\"/>\n",
       "<text text-anchor=\"middle\" x=\"120.19\" y=\"-161.933\" font-family=\"Times,serif\" font-size=\"14.00\">1</text>\n",
       "</g>\n",
       "</g>\n",
       "</svg>\n"
      ],
      "text/plain": [
       "<graphviz.dot.Digraph at 0x107504f60>"
      ]
     },
     "execution_count": 58,
     "metadata": {},
     "output_type": "execute_result"
    }
   ],
   "source": [
    "dotObj_dfa(nfa2dfa(rev_dfa(nfa2dfa(rev_dfa(D34bl)))), \"D34bl_rdrd\")"
   ]
  },
  {
   "cell_type": "code",
   "execution_count": 59,
   "metadata": {
    "run_control": {
     "frozen": false,
     "read_only": false
    }
   },
   "outputs": [],
   "source": [
    "nfaMultiQ0 = md2mc('''\n",
    "NFA\n",
    "I0 : a | b | c -> A, B\n",
    "I0 : c -> F\n",
    "I1 : a | b -> A, B\n",
    "A  : c -> F\n",
    "B  : d -> F\n",
    "''')"
   ]
  },
  {
   "cell_type": "code",
   "execution_count": 60,
   "metadata": {
    "run_control": {
     "frozen": false,
     "read_only": false
    }
   },
   "outputs": [
    {
     "data": {
      "image/svg+xml": [
       "<?xml version=\"1.0\" encoding=\"UTF-8\" standalone=\"no\"?>\n",
       "<!DOCTYPE svg PUBLIC \"-//W3C//DTD SVG 1.1//EN\"\n",
       " \"http://www.w3.org/Graphics/SVG/1.1/DTD/svg11.dtd\">\n",
       "<!-- Generated by graphviz version 2.38.0 (20140413.2041)\n",
       " -->\n",
       "<!-- Title: %3 Pages: 1 -->\n",
       "<svg width=\"301pt\" height=\"314pt\"\n",
       " viewBox=\"0.00 0.00 301.00 314.04\" xmlns=\"http://www.w3.org/2000/svg\" xmlns:xlink=\"http://www.w3.org/1999/xlink\">\n",
       "<g id=\"graph0\" class=\"graph\" transform=\"scale(1 1) rotate(0) translate(4 310.036)\">\n",
       "<title>%3</title>\n",
       "<polygon fill=\"white\" stroke=\"none\" points=\"-4,4 -4,-310.036 297,-310.036 297,4 -4,4\"/>\n",
       "<!-- EMPTY -->\n",
       "<g id=\"node1\" class=\"node\"><title>EMPTY</title>\n",
       "</g>\n",
       "<!-- I1 -->\n",
       "<g id=\"node2\" class=\"node\"><title>I1</title>\n",
       "<ellipse fill=\"none\" stroke=\"black\" cx=\"109\" cy=\"-255.036\" rx=\"18\" ry=\"18\"/>\n",
       "<text text-anchor=\"middle\" x=\"109\" y=\"-250.836\" font-family=\"Times,serif\" font-size=\"14.00\">I1</text>\n",
       "</g>\n",
       "<!-- EMPTY&#45;&gt;I1 -->\n",
       "<g id=\"edge1\" class=\"edge\"><title>EMPTY&#45;&gt;I1</title>\n",
       "<path fill=\"none\" stroke=\"black\" d=\"M52.4373,-214.058C63.0633,-221.895 75.4253,-231.012 85.7873,-238.654\"/>\n",
       "<polygon fill=\"black\" stroke=\"black\" points=\"83.8137,-241.547 93.9391,-244.666 87.9685,-235.914 83.8137,-241.547\"/>\n",
       "</g>\n",
       "<!-- I0 -->\n",
       "<g id=\"node3\" class=\"node\"><title>I0</title>\n",
       "<ellipse fill=\"none\" stroke=\"black\" cx=\"109\" cy=\"-107.036\" rx=\"18\" ry=\"18\"/>\n",
       "<text text-anchor=\"middle\" x=\"109\" y=\"-102.836\" font-family=\"Times,serif\" font-size=\"14.00\">I0</text>\n",
       "</g>\n",
       "<!-- EMPTY&#45;&gt;I0 -->\n",
       "<g id=\"edge2\" class=\"edge\"><title>EMPTY&#45;&gt;I0</title>\n",
       "<path fill=\"none\" stroke=\"black\" d=\"M44.1892,-178.025C57.2099,-163.54 75.5231,-143.166 89.1931,-127.958\"/>\n",
       "<polygon fill=\"black\" stroke=\"black\" points=\"92.1647,-129.888 96.2468,-120.111 86.9587,-125.209 92.1647,-129.888\"/>\n",
       "</g>\n",
       "<!-- B -->\n",
       "<g id=\"node4\" class=\"node\"><title>B</title>\n",
       "<ellipse fill=\"none\" stroke=\"black\" cx=\"188\" cy=\"-199.036\" rx=\"18\" ry=\"18\"/>\n",
       "<text text-anchor=\"middle\" x=\"188\" y=\"-194.836\" font-family=\"Times,serif\" font-size=\"14.00\">B</text>\n",
       "</g>\n",
       "<!-- I1&#45;&gt;B -->\n",
       "<g id=\"edge10\" class=\"edge\"><title>I1&#45;&gt;B</title>\n",
       "<path fill=\"none\" stroke=\"black\" d=\"M123.522,-265.742C132.095,-271.149 143.19,-275.515 152,-270.036 167.317,-260.51 176.128,-242.089 181.078,-226.398\"/>\n",
       "<polygon fill=\"black\" stroke=\"black\" points=\"184.495,-227.174 183.803,-216.601 177.751,-225.298 184.495,-227.174\"/>\n",
       "<text text-anchor=\"middle\" x=\"148.5\" y=\"-274.836\" font-family=\"Times,serif\" font-size=\"14.00\">a</text>\n",
       "</g>\n",
       "<!-- I1&#45;&gt;B -->\n",
       "<g id=\"edge12\" class=\"edge\"><title>I1&#45;&gt;B</title>\n",
       "<path fill=\"none\" stroke=\"black\" d=\"M118.632,-270.722C126.868,-283.588 139.794,-298.418 152,-290.036 172.411,-276.017 180.924,-248.306 184.471,-227.128\"/>\n",
       "<polygon fill=\"black\" stroke=\"black\" points=\"187.962,-227.439 185.878,-217.051 181.029,-226.471 187.962,-227.439\"/>\n",
       "<text text-anchor=\"middle\" x=\"148.5\" y=\"-294.836\" font-family=\"Times,serif\" font-size=\"14.00\">b</text>\n",
       "</g>\n",
       "<!-- A -->\n",
       "<g id=\"node5\" class=\"node\"><title>A</title>\n",
       "<ellipse fill=\"none\" stroke=\"black\" cx=\"188\" cy=\"-70.0357\" rx=\"18\" ry=\"18\"/>\n",
       "<text text-anchor=\"middle\" x=\"188\" y=\"-65.8357\" font-family=\"Times,serif\" font-size=\"14.00\">A</text>\n",
       "</g>\n",
       "<!-- I1&#45;&gt;A -->\n",
       "<g id=\"edge11\" class=\"edge\"><title>I1&#45;&gt;A</title>\n",
       "<path fill=\"none\" stroke=\"black\" d=\"M112.08,-237.093C115.733,-210.343 124.912,-158.985 145,-120.036 150.729,-108.927 159.313,-98.1134 167.231,-89.4005\"/>\n",
       "<polygon fill=\"black\" stroke=\"black\" points=\"169.87,-91.7046 174.214,-82.0414 164.792,-86.8864 169.87,-91.7046\"/>\n",
       "<text text-anchor=\"middle\" x=\"148.5\" y=\"-122.836\" font-family=\"Times,serif\" font-size=\"14.00\">a</text>\n",
       "</g>\n",
       "<!-- I1&#45;&gt;A -->\n",
       "<g id=\"edge13\" class=\"edge\"><title>I1&#45;&gt;A</title>\n",
       "<path fill=\"none\" stroke=\"black\" d=\"M124.543,-245.4C133.759,-238.549 145.187,-228.543 152,-217.036 163.799,-197.106 175.972,-134.737 182.39,-97.9527\"/>\n",
       "<polygon fill=\"black\" stroke=\"black\" points=\"185.878,-98.3203 184.117,-87.8729 178.979,-97.1385 185.878,-98.3203\"/>\n",
       "<text text-anchor=\"middle\" x=\"148.5\" y=\"-227.836\" font-family=\"Times,serif\" font-size=\"14.00\">b</text>\n",
       "</g>\n",
       "<!-- I0&#45;&gt;B -->\n",
       "<g id=\"edge3\" class=\"edge\"><title>I0&#45;&gt;B</title>\n",
       "<path fill=\"none\" stroke=\"black\" d=\"M123.705,-117.865C132.352,-125.061 143.459,-135.002 152,-145.036 159.793,-154.19 167.218,-165.19 173.209,-174.866\"/>\n",
       "<polygon fill=\"black\" stroke=\"black\" points=\"170.327,-176.865 178.477,-183.634 176.327,-173.26 170.327,-176.865\"/>\n",
       "<text text-anchor=\"middle\" x=\"148.5\" y=\"-147.836\" font-family=\"Times,serif\" font-size=\"14.00\">a</text>\n",
       "</g>\n",
       "<!-- I0&#45;&gt;B -->\n",
       "<g id=\"edge5\" class=\"edge\"><title>I0&#45;&gt;B</title>\n",
       "<path fill=\"none\" stroke=\"black\" d=\"M111.545,-125.129C114.378,-145.956 122.389,-179.421 145,-196.036 149.308,-199.201 154.581,-200.803 159.918,-201.476\"/>\n",
       "<polygon fill=\"black\" stroke=\"black\" points=\"159.914,-204.978 170.019,-201.793 160.134,-197.981 159.914,-204.978\"/>\n",
       "<text text-anchor=\"middle\" x=\"148.5\" y=\"-201.836\" font-family=\"Times,serif\" font-size=\"14.00\">b</text>\n",
       "</g>\n",
       "<!-- I0&#45;&gt;B -->\n",
       "<g id=\"edge7\" class=\"edge\"><title>I0&#45;&gt;B</title>\n",
       "<path fill=\"none\" stroke=\"black\" d=\"M118.993,-122.219C125.626,-132.934 135.172,-147.394 145,-159.036 151.349,-166.557 158.973,-174.166 165.973,-180.7\"/>\n",
       "<polygon fill=\"black\" stroke=\"black\" points=\"164.036,-183.669 173.789,-187.806 168.744,-178.489 164.036,-183.669\"/>\n",
       "<text text-anchor=\"middle\" x=\"148.5\" y=\"-168.836\" font-family=\"Times,serif\" font-size=\"14.00\">c</text>\n",
       "</g>\n",
       "<!-- I0&#45;&gt;A -->\n",
       "<g id=\"edge4\" class=\"edge\"><title>I0&#45;&gt;A</title>\n",
       "<path fill=\"none\" stroke=\"black\" d=\"M112.971,-89.3188C116.944,-71.8564 125.85,-46.0913 145,-34.0357 155.004,-27.7376 165.098,-35.8195 172.883,-45.9087\"/>\n",
       "<polygon fill=\"black\" stroke=\"black\" points=\"170.032,-47.9405 178.584,-54.194 175.798,-43.972 170.032,-47.9405\"/>\n",
       "<text text-anchor=\"middle\" x=\"148.5\" y=\"-36.8357\" font-family=\"Times,serif\" font-size=\"14.00\">a</text>\n",
       "</g>\n",
       "<!-- I0&#45;&gt;A -->\n",
       "<g id=\"edge6\" class=\"edge\"><title>I0&#45;&gt;A</title>\n",
       "<path fill=\"none\" stroke=\"black\" d=\"M110.951,-89.0223C113.189,-67.0994 120.602,-30.9226 145,-14.0357 159.806,-3.78774 171.543,-24.163 178.804,-43.1455\"/>\n",
       "<polygon fill=\"black\" stroke=\"black\" points=\"175.57,-44.4997 182.185,-52.7755 182.174,-42.1807 175.57,-44.4997\"/>\n",
       "<text text-anchor=\"middle\" x=\"148.5\" y=\"-16.8357\" font-family=\"Times,serif\" font-size=\"14.00\">b</text>\n",
       "</g>\n",
       "<!-- I0&#45;&gt;A -->\n",
       "<g id=\"edge9\" class=\"edge\"><title>I0&#45;&gt;A</title>\n",
       "<path fill=\"none\" stroke=\"black\" d=\"M119.831,-92.384C126.024,-84.5001 134.774,-75.5001 145,-71.0357 149.604,-69.0257 154.771,-68.0249 159.864,-67.6357\"/>\n",
       "<polygon fill=\"black\" stroke=\"black\" points=\"160.036,-71.1347 170.013,-67.5685 159.99,-64.1349 160.036,-71.1347\"/>\n",
       "<text text-anchor=\"middle\" x=\"148.5\" y=\"-73.8357\" font-family=\"Times,serif\" font-size=\"14.00\">c</text>\n",
       "</g>\n",
       "<!-- F -->\n",
       "<g id=\"node6\" class=\"node\"><title>F</title>\n",
       "<ellipse fill=\"none\" stroke=\"black\" cx=\"271\" cy=\"-70.0357\" rx=\"18\" ry=\"18\"/>\n",
       "<ellipse fill=\"none\" stroke=\"black\" cx=\"271\" cy=\"-70.0357\" rx=\"22\" ry=\"22\"/>\n",
       "<text text-anchor=\"middle\" x=\"271\" y=\"-65.8357\" font-family=\"Times,serif\" font-size=\"14.00\">F</text>\n",
       "</g>\n",
       "<!-- I0&#45;&gt;F -->\n",
       "<g id=\"edge8\" class=\"edge\"><title>I0&#45;&gt;F</title>\n",
       "<path fill=\"none\" stroke=\"black\" d=\"M110.501,-88.7076C112.239,-65.5036 119.101,-26.3496 145,-8.03571 178.843,15.8956 223.289,-19.8629 249.045,-46.2098\"/>\n",
       "<polygon fill=\"black\" stroke=\"black\" points=\"246.684,-48.8078 256.097,-53.6706 251.771,-43.9992 246.684,-48.8078\"/>\n",
       "<text text-anchor=\"middle\" x=\"188\" y=\"-14.8357\" font-family=\"Times,serif\" font-size=\"14.00\">c</text>\n",
       "</g>\n",
       "<!-- B&#45;&gt;F -->\n",
       "<g id=\"edge15\" class=\"edge\"><title>B&#45;&gt;F</title>\n",
       "<path fill=\"none\" stroke=\"black\" d=\"M198.292,-184.238C211.599,-163.044 236.313,-123.685 252.959,-97.1755\"/>\n",
       "<polygon fill=\"black\" stroke=\"black\" points=\"256.124,-98.7157 258.478,-88.3855 250.196,-94.9933 256.124,-98.7157\"/>\n",
       "<text text-anchor=\"middle\" x=\"227.5\" y=\"-144.836\" font-family=\"Times,serif\" font-size=\"14.00\">d</text>\n",
       "</g>\n",
       "<!-- A&#45;&gt;F -->\n",
       "<g id=\"edge14\" class=\"edge\"><title>A&#45;&gt;F</title>\n",
       "<path fill=\"none\" stroke=\"black\" d=\"M206.178,-70.0357C215.61,-70.0357 227.601,-70.0357 238.637,-70.0357\"/>\n",
       "<polygon fill=\"black\" stroke=\"black\" points=\"238.811,-73.5358 248.811,-70.0357 238.811,-66.5358 238.811,-73.5358\"/>\n",
       "<text text-anchor=\"middle\" x=\"227.5\" y=\"-72.8357\" font-family=\"Times,serif\" font-size=\"14.00\">c</text>\n",
       "</g>\n",
       "</g>\n",
       "</svg>\n"
      ],
      "text/plain": [
       "<graphviz.dot.Digraph at 0x108184cf8>"
      ]
     },
     "execution_count": 60,
     "metadata": {},
     "output_type": "execute_result"
    }
   ],
   "source": [
    "dotObj_nfa(nfaMultiQ0)"
   ]
  },
  {
   "cell_type": "code",
   "execution_count": 61,
   "metadata": {
    "run_control": {
     "frozen": false,
     "read_only": false
    }
   },
   "outputs": [
    {
     "data": {
      "image/svg+xml": [
       "<?xml version=\"1.0\" encoding=\"UTF-8\" standalone=\"no\"?>\n",
       "<!DOCTYPE svg PUBLIC \"-//W3C//DTD SVG 1.1//EN\"\n",
       " \"http://www.w3.org/Graphics/SVG/1.1/DTD/svg11.dtd\">\n",
       "<!-- Generated by graphviz version 2.38.0 (20140413.2041)\n",
       " -->\n",
       "<!-- Title: %3 Pages: 1 -->\n",
       "<svg width=\"308pt\" height=\"228pt\"\n",
       " viewBox=\"0.00 0.00 308.00 228.21\" xmlns=\"http://www.w3.org/2000/svg\" xmlns:xlink=\"http://www.w3.org/1999/xlink\">\n",
       "<g id=\"graph0\" class=\"graph\" transform=\"scale(1 1) rotate(0) translate(4 224.208)\">\n",
       "<title>%3</title>\n",
       "<polygon fill=\"white\" stroke=\"none\" points=\"-4,4 -4,-224.208 304,-224.208 304,4 -4,4\"/>\n",
       "<!-- EMPTY -->\n",
       "<g id=\"node1\" class=\"node\"><title>EMPTY</title>\n",
       "</g>\n",
       "<!-- I1 -->\n",
       "<g id=\"node2\" class=\"node\"><title>I1</title>\n",
       "<ellipse fill=\"none\" stroke=\"black\" cx=\"109\" cy=\"-53.208\" rx=\"18\" ry=\"18\"/>\n",
       "<text text-anchor=\"middle\" x=\"109\" y=\"-49.008\" font-family=\"Times,serif\" font-size=\"14.00\">I1</text>\n",
       "</g>\n",
       "<!-- EMPTY&#45;&gt;I1 -->\n",
       "<g id=\"edge1\" class=\"edge\"><title>EMPTY&#45;&gt;I1</title>\n",
       "<path fill=\"none\" stroke=\"black\" d=\"M54.195,-70.6946C63.2006,-67.7678 73.2703,-64.4951 82.2409,-61.5797\"/>\n",
       "<polygon fill=\"black\" stroke=\"black\" points=\"83.3582,-64.8969 91.7867,-58.4773 81.1945,-58.2396 83.3582,-64.8969\"/>\n",
       "</g>\n",
       "<!-- I0 -->\n",
       "<g id=\"node3\" class=\"node\"><title>I0</title>\n",
       "<ellipse fill=\"none\" stroke=\"black\" cx=\"109\" cy=\"-138.208\" rx=\"18\" ry=\"18\"/>\n",
       "<text text-anchor=\"middle\" x=\"109\" y=\"-134.008\" font-family=\"Times,serif\" font-size=\"14.00\">I0</text>\n",
       "</g>\n",
       "<!-- EMPTY&#45;&gt;I0 -->\n",
       "<g id=\"edge2\" class=\"edge\"><title>EMPTY&#45;&gt;I0</title>\n",
       "<path fill=\"none\" stroke=\"black\" d=\"M52.4373,-97.2305C63.0633,-105.067 75.4253,-114.184 85.7873,-121.826\"/>\n",
       "<polygon fill=\"black\" stroke=\"black\" points=\"83.8137,-124.719 93.9391,-127.838 87.9685,-119.086 83.8137,-124.719\"/>\n",
       "</g>\n",
       "<!-- B -->\n",
       "<g id=\"node4\" class=\"node\"><title>B</title>\n",
       "<ellipse fill=\"none\" stroke=\"black\" cx=\"195\" cy=\"-164.208\" rx=\"18\" ry=\"18\"/>\n",
       "<text text-anchor=\"middle\" x=\"195\" y=\"-160.008\" font-family=\"Times,serif\" font-size=\"14.00\">B</text>\n",
       "</g>\n",
       "<!-- I1&#45;&gt;B -->\n",
       "<g id=\"edge6\" class=\"edge\"><title>I1&#45;&gt;B</title>\n",
       "<path fill=\"none\" stroke=\"black\" d=\"M127.079,-53.9927C137.601,-55.3656 150.634,-58.8076 159,-67.208 179.85,-88.1447 166.179,-103.713 177,-131.208 178.084,-133.963 179.327,-136.792 180.636,-139.579\"/>\n",
       "<polygon fill=\"black\" stroke=\"black\" points=\"177.608,-141.35 185.21,-148.729 183.869,-138.22 177.608,-141.35\"/>\n",
       "<text text-anchor=\"middle\" x=\"152\" y=\"-84.008\" font-family=\"Times,serif\" font-size=\"14.00\">b </text>\n",
       "<text text-anchor=\"middle\" x=\"152\" y=\"-70.008\" font-family=\"Times,serif\" font-size=\"14.00\"> a</text>\n",
       "</g>\n",
       "<!-- A -->\n",
       "<g id=\"node5\" class=\"node\"><title>A</title>\n",
       "<ellipse fill=\"none\" stroke=\"black\" cx=\"195\" cy=\"-104.208\" rx=\"18\" ry=\"18\"/>\n",
       "<text text-anchor=\"middle\" x=\"195\" y=\"-100.008\" font-family=\"Times,serif\" font-size=\"14.00\">A</text>\n",
       "</g>\n",
       "<!-- I1&#45;&gt;A -->\n",
       "<g id=\"edge7\" class=\"edge\"><title>I1&#45;&gt;A</title>\n",
       "<path fill=\"none\" stroke=\"black\" d=\"M116.864,-36.6752C125.704,-17.8232 141.969,8.91477 159,-3.20799 181.944,-19.5396 189.985,-52.0014 192.729,-75.7301\"/>\n",
       "<polygon fill=\"black\" stroke=\"black\" points=\"189.265,-76.2847 193.652,-85.9286 196.236,-75.6539 189.265,-76.2847\"/>\n",
       "<text text-anchor=\"middle\" x=\"152\" y=\"-20.008\" font-family=\"Times,serif\" font-size=\"14.00\">b </text>\n",
       "<text text-anchor=\"middle\" x=\"152\" y=\"-6.00799\" font-family=\"Times,serif\" font-size=\"14.00\"> a</text>\n",
       "</g>\n",
       "<!-- I0&#45;&gt;B -->\n",
       "<g id=\"edge3\" class=\"edge\"><title>I0&#45;&gt;B</title>\n",
       "<path fill=\"none\" stroke=\"black\" d=\"M126.596,-143.345C138.331,-146.977 154.304,-151.921 167.756,-156.085\"/>\n",
       "<polygon fill=\"black\" stroke=\"black\" points=\"166.851,-159.468 177.439,-159.082 168.921,-152.781 166.851,-159.468\"/>\n",
       "<text text-anchor=\"middle\" x=\"152\" y=\"-183.008\" font-family=\"Times,serif\" font-size=\"14.00\">c </text>\n",
       "<text text-anchor=\"middle\" x=\"152\" y=\"-169.008\" font-family=\"Times,serif\" font-size=\"14.00\"> b </text>\n",
       "<text text-anchor=\"middle\" x=\"152\" y=\"-155.008\" font-family=\"Times,serif\" font-size=\"14.00\"> a</text>\n",
       "</g>\n",
       "<!-- I0&#45;&gt;A -->\n",
       "<g id=\"edge4\" class=\"edge\"><title>I0&#45;&gt;A</title>\n",
       "<path fill=\"none\" stroke=\"black\" d=\"M119.878,-123.865C126.088,-116.167 134.838,-107.417 145,-103.208 151.839,-100.375 159.689,-99.5832 167.073,-99.7723\"/>\n",
       "<polygon fill=\"black\" stroke=\"black\" points=\"166.796,-103.261 177.047,-100.582 167.363,-96.2842 166.796,-103.261\"/>\n",
       "<text text-anchor=\"middle\" x=\"152\" y=\"-134.008\" font-family=\"Times,serif\" font-size=\"14.00\">c </text>\n",
       "<text text-anchor=\"middle\" x=\"152\" y=\"-120.008\" font-family=\"Times,serif\" font-size=\"14.00\"> b </text>\n",
       "<text text-anchor=\"middle\" x=\"152\" y=\"-106.008\" font-family=\"Times,serif\" font-size=\"14.00\"> a</text>\n",
       "</g>\n",
       "<!-- F -->\n",
       "<g id=\"node6\" class=\"node\"><title>F</title>\n",
       "<ellipse fill=\"none\" stroke=\"black\" cx=\"278\" cy=\"-164.208\" rx=\"18\" ry=\"18\"/>\n",
       "<ellipse fill=\"none\" stroke=\"black\" cx=\"278\" cy=\"-164.208\" rx=\"22\" ry=\"22\"/>\n",
       "<text text-anchor=\"middle\" x=\"278\" y=\"-160.008\" font-family=\"Times,serif\" font-size=\"14.00\">F</text>\n",
       "</g>\n",
       "<!-- I0&#45;&gt;F -->\n",
       "<g id=\"edge5\" class=\"edge\"><title>I0&#45;&gt;F</title>\n",
       "<path fill=\"none\" stroke=\"black\" d=\"M114.766,-155.349C119.746,-169.638 129.105,-189.078 145,-198.208 178.554,-217.481 223.098,-198.262 250.902,-181.86\"/>\n",
       "<polygon fill=\"black\" stroke=\"black\" points=\"252.975,-184.694 259.65,-176.466 249.301,-178.736 252.975,-184.694\"/>\n",
       "<text text-anchor=\"middle\" x=\"195\" y=\"-209.008\" font-family=\"Times,serif\" font-size=\"14.00\">c</text>\n",
       "</g>\n",
       "<!-- B&#45;&gt;F -->\n",
       "<g id=\"edge9\" class=\"edge\"><title>B&#45;&gt;F</title>\n",
       "<path fill=\"none\" stroke=\"black\" d=\"M213.178,-164.208C222.61,-164.208 234.601,-164.208 245.637,-164.208\"/>\n",
       "<polygon fill=\"black\" stroke=\"black\" points=\"245.811,-167.708 255.811,-164.208 245.811,-160.708 245.811,-167.708\"/>\n",
       "<text text-anchor=\"middle\" x=\"234.5\" y=\"-167.008\" font-family=\"Times,serif\" font-size=\"14.00\">d</text>\n",
       "</g>\n",
       "<!-- A&#45;&gt;F -->\n",
       "<g id=\"edge8\" class=\"edge\"><title>A&#45;&gt;F</title>\n",
       "<path fill=\"none\" stroke=\"black\" d=\"M210.109,-114.659C221.595,-123.167 238.097,-135.391 251.836,-145.568\"/>\n",
       "<polygon fill=\"black\" stroke=\"black\" points=\"249.845,-148.449 259.964,-151.589 254.012,-142.824 249.845,-148.449\"/>\n",
       "<text text-anchor=\"middle\" x=\"234.5\" y=\"-137.008\" font-family=\"Times,serif\" font-size=\"14.00\">c</text>\n",
       "</g>\n",
       "</g>\n",
       "</svg>\n"
      ],
      "text/plain": [
       "<graphviz.dot.Digraph at 0x10758d978>"
      ]
     },
     "execution_count": 61,
     "metadata": {},
     "output_type": "execute_result"
    }
   ],
   "source": [
    "dotObj_nfa(nfaMultiQ0, FuseEdges=True)"
   ]
  },
  {
   "cell_type": "code",
   "execution_count": 62,
   "metadata": {
    "run_control": {
     "frozen": false,
     "read_only": false
    }
   },
   "outputs": [],
   "source": [
    "dfaMQ0 = nfa2dfa(nfaMultiQ0)"
   ]
  },
  {
   "cell_type": "code",
   "execution_count": 63,
   "metadata": {
    "run_control": {
     "frozen": false,
     "read_only": false
    }
   },
   "outputs": [
    {
     "data": {
      "image/svg+xml": [
       "<?xml version=\"1.0\" encoding=\"UTF-8\" standalone=\"no\"?>\n",
       "<!DOCTYPE svg PUBLIC \"-//W3C//DTD SVG 1.1//EN\"\n",
       " \"http://www.w3.org/Graphics/SVG/1.1/DTD/svg11.dtd\">\n",
       "<!-- Generated by graphviz version 2.38.0 (20140413.2041)\n",
       " -->\n",
       "<!-- Title: %3 Pages: 1 -->\n",
       "<svg width=\"368pt\" height=\"160pt\"\n",
       " viewBox=\"0.00 0.00 367.83 159.97\" xmlns=\"http://www.w3.org/2000/svg\" xmlns:xlink=\"http://www.w3.org/1999/xlink\">\n",
       "<g id=\"graph0\" class=\"graph\" transform=\"scale(1 1) rotate(0) translate(4 155.967)\">\n",
       "<title>%3</title>\n",
       "<polygon fill=\"white\" stroke=\"none\" points=\"-4,4 -4,-155.967 363.831,-155.967 363.831,4 -4,4\"/>\n",
       "<!-- EMPTY -->\n",
       "<g id=\"node1\" class=\"node\"><title>EMPTY</title>\n",
       "</g>\n",
       "<!-- I0_I1 -->\n",
       "<g id=\"node2\" class=\"node\"><title>I0_I1</title>\n",
       "<ellipse fill=\"none\" stroke=\"black\" cx=\"120.262\" cy=\"-88.1536\" rx=\"29.0257\" ry=\"29.0257\"/>\n",
       "<text text-anchor=\"middle\" x=\"120.262\" y=\"-83.9536\" font-family=\"Times,serif\" font-size=\"14.00\">I0_I1</text>\n",
       "</g>\n",
       "<!-- EMPTY&#45;&gt;I0_I1 -->\n",
       "<g id=\"edge1\" class=\"edge\"><title>EMPTY&#45;&gt;I0_I1</title>\n",
       "<path fill=\"none\" stroke=\"black\" d=\"M54.3967,-88.1536C62.5695,-88.1536 71.7499,-88.1536 80.5754,-88.1536\"/>\n",
       "<polygon fill=\"black\" stroke=\"black\" points=\"80.6912,-91.6537 90.6912,-88.1536 80.6911,-84.6537 80.6912,-91.6537\"/>\n",
       "</g>\n",
       "<!-- A_B -->\n",
       "<g id=\"node3\" class=\"node\"><title>A_B</title>\n",
       "<ellipse fill=\"none\" stroke=\"black\" cx=\"232.677\" cy=\"-125.154\" rx=\"26.6284\" ry=\"26.6284\"/>\n",
       "<text text-anchor=\"middle\" x=\"232.677\" y=\"-120.954\" font-family=\"Times,serif\" font-size=\"14.00\">A_B</text>\n",
       "</g>\n",
       "<!-- I0_I1&#45;&gt;A_B -->\n",
       "<g id=\"edge3\" class=\"edge\"><title>I0_I1&#45;&gt;A_B</title>\n",
       "<path fill=\"none\" stroke=\"black\" d=\"M148.273,-97.2048C162.937,-102.119 181.229,-108.249 196.943,-113.514\"/>\n",
       "<polygon fill=\"black\" stroke=\"black\" points=\"196.24,-116.97 206.834,-116.828 198.464,-110.332 196.24,-116.97\"/>\n",
       "<text text-anchor=\"middle\" x=\"171.024\" y=\"-108.954\" font-family=\"Times,serif\" font-size=\"14.00\">b</text>\n",
       "</g>\n",
       "<!-- I0_I1&#45;&gt;A_B -->\n",
       "<g id=\"edge4\" class=\"edge\"><title>I0_I1&#45;&gt;A_B</title>\n",
       "<path fill=\"none\" stroke=\"black\" d=\"M149.353,-84.4011C157.607,-84.1555 166.556,-84.7465 174.524,-87.1536 184.79,-90.2549 194.901,-95.8722 203.698,-101.853\"/>\n",
       "<polygon fill=\"black\" stroke=\"black\" points=\"201.862,-104.845 212.014,-107.876 205.968,-99.1754 201.862,-104.845\"/>\n",
       "<text text-anchor=\"middle\" x=\"171.024\" y=\"-89.9536\" font-family=\"Times,serif\" font-size=\"14.00\">a</text>\n",
       "</g>\n",
       "<!-- A_B_F -->\n",
       "<g id=\"node4\" class=\"node\"><title>A_B_F</title>\n",
       "<ellipse fill=\"none\" stroke=\"black\" cx=\"232.677\" cy=\"-40.1536\" rx=\"36.2924\" ry=\"36.2924\"/>\n",
       "<ellipse fill=\"none\" stroke=\"black\" cx=\"232.677\" cy=\"-40.1536\" rx=\"40.3078\" ry=\"40.3078\"/>\n",
       "<text text-anchor=\"middle\" x=\"232.677\" y=\"-35.9536\" font-family=\"Times,serif\" font-size=\"14.00\">A_B_F</text>\n",
       "</g>\n",
       "<!-- I0_I1&#45;&gt;A_B_F -->\n",
       "<g id=\"edge2\" class=\"edge\"><title>I0_I1&#45;&gt;A_B_F</title>\n",
       "<path fill=\"none\" stroke=\"black\" d=\"M147.429,-76.7783C159.026,-71.7365 173.014,-65.6557 186.231,-59.9101\"/>\n",
       "<polygon fill=\"black\" stroke=\"black\" points=\"187.898,-63.0019 195.674,-55.8052 185.107,-56.5822 187.898,-63.0019\"/>\n",
       "<text text-anchor=\"middle\" x=\"171.024\" y=\"-69.9536\" font-family=\"Times,serif\" font-size=\"14.00\">c</text>\n",
       "</g>\n",
       "<!-- F -->\n",
       "<g id=\"node5\" class=\"node\"><title>F</title>\n",
       "<ellipse fill=\"none\" stroke=\"black\" cx=\"337.831\" cy=\"-82.1536\" rx=\"18\" ry=\"18\"/>\n",
       "<ellipse fill=\"none\" stroke=\"black\" cx=\"337.831\" cy=\"-82.1536\" rx=\"22\" ry=\"22\"/>\n",
       "<text text-anchor=\"middle\" x=\"337.831\" y=\"-77.9536\" font-family=\"Times,serif\" font-size=\"14.00\">F</text>\n",
       "</g>\n",
       "<!-- A_B&#45;&gt;F -->\n",
       "<g id=\"edge7\" class=\"edge\"><title>A_B&#45;&gt;F</title>\n",
       "<path fill=\"none\" stroke=\"black\" d=\"M259.603,-124.883C271.678,-123.927 285.963,-121.571 297.831,-116.154 303.837,-113.412 309.609,-109.442 314.787,-105.175\"/>\n",
       "<polygon fill=\"black\" stroke=\"black\" points=\"317.277,-107.643 322.381,-98.3592 312.601,-102.434 317.277,-107.643\"/>\n",
       "<text text-anchor=\"middle\" x=\"294.331\" y=\"-121.954\" font-family=\"Times,serif\" font-size=\"14.00\">c</text>\n",
       "</g>\n",
       "<!-- A_B&#45;&gt;F -->\n",
       "<g id=\"edge8\" class=\"edge\"><title>A_B&#45;&gt;F</title>\n",
       "<path fill=\"none\" stroke=\"black\" d=\"M257.062,-113.416C267.313,-108.451 279.555,-102.763 290.831,-98.1536 296.016,-96.0341 301.598,-93.94 307.025,-92.0002\"/>\n",
       "<polygon fill=\"black\" stroke=\"black\" points=\"308.21,-95.2939 316.505,-88.7029 305.91,-88.6824 308.21,-95.2939\"/>\n",
       "<text text-anchor=\"middle\" x=\"294.331\" y=\"-100.954\" font-family=\"Times,serif\" font-size=\"14.00\">d</text>\n",
       "</g>\n",
       "<!-- A_B_F&#45;&gt;F -->\n",
       "<g id=\"edge5\" class=\"edge\"><title>A_B_F&#45;&gt;F</title>\n",
       "<path fill=\"none\" stroke=\"black\" d=\"M270.417,-54.1833C279.411,-57.697 288.991,-61.5062 297.831,-65.1536 301.14,-66.519 304.595,-67.9768 308.02,-69.4431\"/>\n",
       "<polygon fill=\"black\" stroke=\"black\" points=\"306.887,-72.7664 317.455,-73.5279 309.668,-66.3427 306.887,-72.7664\"/>\n",
       "<text text-anchor=\"middle\" x=\"294.331\" y=\"-67.9536\" font-family=\"Times,serif\" font-size=\"14.00\">c</text>\n",
       "</g>\n",
       "<!-- A_B_F&#45;&gt;F -->\n",
       "<g id=\"edge6\" class=\"edge\"><title>A_B_F&#45;&gt;F</title>\n",
       "<path fill=\"none\" stroke=\"black\" d=\"M273.057,-39.0119C281.499,-39.9103 290.175,-41.7491 297.831,-45.1536 304.477,-48.1092 310.692,-52.6946 316.121,-57.6434\"/>\n",
       "<polygon fill=\"black\" stroke=\"black\" points=\"313.93,-60.4029 323.472,-65.0066 318.884,-55.457 313.93,-60.4029\"/>\n",
       "<text text-anchor=\"middle\" x=\"294.331\" y=\"-47.9536\" font-family=\"Times,serif\" font-size=\"14.00\">d</text>\n",
       "</g>\n",
       "</g>\n",
       "</svg>\n"
      ],
      "text/plain": [
       "<graphviz.dot.Digraph at 0x1081a35f8>"
      ]
     },
     "execution_count": 63,
     "metadata": {},
     "output_type": "execute_result"
    }
   ],
   "source": [
    "dotObj_dfa(dfaMQ0)"
   ]
  },
  {
   "cell_type": "code",
   "execution_count": 64,
   "metadata": {
    "run_control": {
     "frozen": false,
     "read_only": false
    }
   },
   "outputs": [
    {
     "data": {
      "image/svg+xml": [
       "<?xml version=\"1.0\" encoding=\"UTF-8\" standalone=\"no\"?>\n",
       "<!DOCTYPE svg PUBLIC \"-//W3C//DTD SVG 1.1//EN\"\n",
       " \"http://www.w3.org/Graphics/SVG/1.1/DTD/svg11.dtd\">\n",
       "<!-- Generated by graphviz version 2.38.0 (20140413.2041)\n",
       " -->\n",
       "<!-- Title: %3 Pages: 1 -->\n",
       "<svg width=\"375pt\" height=\"160pt\"\n",
       " viewBox=\"0.00 0.00 374.83 159.97\" xmlns=\"http://www.w3.org/2000/svg\" xmlns:xlink=\"http://www.w3.org/1999/xlink\">\n",
       "<g id=\"graph0\" class=\"graph\" transform=\"scale(1 1) rotate(0) translate(4 155.967)\">\n",
       "<title>%3</title>\n",
       "<polygon fill=\"white\" stroke=\"none\" points=\"-4,4 -4,-155.967 370.831,-155.967 370.831,4 -4,4\"/>\n",
       "<!-- EMPTY -->\n",
       "<g id=\"node1\" class=\"node\"><title>EMPTY</title>\n",
       "</g>\n",
       "<!-- I0_I1 -->\n",
       "<g id=\"node2\" class=\"node\"><title>I0_I1</title>\n",
       "<ellipse fill=\"none\" stroke=\"black\" cx=\"120.262\" cy=\"-88.1536\" rx=\"29.0257\" ry=\"29.0257\"/>\n",
       "<text text-anchor=\"middle\" x=\"120.262\" y=\"-83.9536\" font-family=\"Times,serif\" font-size=\"14.00\">I0_I1</text>\n",
       "</g>\n",
       "<!-- EMPTY&#45;&gt;I0_I1 -->\n",
       "<g id=\"edge1\" class=\"edge\"><title>EMPTY&#45;&gt;I0_I1</title>\n",
       "<path fill=\"none\" stroke=\"black\" d=\"M54.3967,-88.1536C62.5695,-88.1536 71.7499,-88.1536 80.5754,-88.1536\"/>\n",
       "<polygon fill=\"black\" stroke=\"black\" points=\"80.6912,-91.6537 90.6912,-88.1536 80.6911,-84.6537 80.6912,-91.6537\"/>\n",
       "</g>\n",
       "<!-- A_B -->\n",
       "<g id=\"node3\" class=\"node\"><title>A_B</title>\n",
       "<ellipse fill=\"none\" stroke=\"black\" cx=\"236.177\" cy=\"-125.154\" rx=\"26.6284\" ry=\"26.6284\"/>\n",
       "<text text-anchor=\"middle\" x=\"236.177\" y=\"-120.954\" font-family=\"Times,serif\" font-size=\"14.00\">A_B</text>\n",
       "</g>\n",
       "<!-- I0_I1&#45;&gt;A_B -->\n",
       "<g id=\"edge3\" class=\"edge\"><title>I0_I1&#45;&gt;A_B</title>\n",
       "<path fill=\"none\" stroke=\"black\" d=\"M148.258,-96.9221C163.841,-101.983 183.607,-108.403 200.351,-113.842\"/>\n",
       "<polygon fill=\"black\" stroke=\"black\" points=\"199.729,-117.32 210.321,-117.08 201.891,-110.662 199.729,-117.32\"/>\n",
       "<text text-anchor=\"middle\" x=\"172.774\" y=\"-122.954\" font-family=\"Times,serif\" font-size=\"14.00\">b </text>\n",
       "<text text-anchor=\"middle\" x=\"172.774\" y=\"-108.954\" font-family=\"Times,serif\" font-size=\"14.00\"> a</text>\n",
       "</g>\n",
       "<!-- A_B_F -->\n",
       "<g id=\"node4\" class=\"node\"><title>A_B_F</title>\n",
       "<ellipse fill=\"none\" stroke=\"black\" cx=\"236.177\" cy=\"-40.1536\" rx=\"36.2924\" ry=\"36.2924\"/>\n",
       "<ellipse fill=\"none\" stroke=\"black\" cx=\"236.177\" cy=\"-40.1536\" rx=\"40.3078\" ry=\"40.3078\"/>\n",
       "<text text-anchor=\"middle\" x=\"236.177\" y=\"-35.9536\" font-family=\"Times,serif\" font-size=\"14.00\">A_B_F</text>\n",
       "</g>\n",
       "<!-- I0_I1&#45;&gt;A_B_F -->\n",
       "<g id=\"edge2\" class=\"edge\"><title>I0_I1&#45;&gt;A_B_F</title>\n",
       "<path fill=\"none\" stroke=\"black\" d=\"M147.396,-77.1414C159.897,-71.8739 175.233,-65.4119 189.569,-59.3712\"/>\n",
       "<polygon fill=\"black\" stroke=\"black\" points=\"190.95,-62.5877 198.806,-55.4793 188.232,-56.137 190.95,-62.5877\"/>\n",
       "<text text-anchor=\"middle\" x=\"172.774\" y=\"-71.9536\" font-family=\"Times,serif\" font-size=\"14.00\">c</text>\n",
       "</g>\n",
       "<!-- F -->\n",
       "<g id=\"node5\" class=\"node\"><title>F</title>\n",
       "<ellipse fill=\"none\" stroke=\"black\" cx=\"344.831\" cy=\"-86.1536\" rx=\"18\" ry=\"18\"/>\n",
       "<ellipse fill=\"none\" stroke=\"black\" cx=\"344.831\" cy=\"-86.1536\" rx=\"22\" ry=\"22\"/>\n",
       "<text text-anchor=\"middle\" x=\"344.831\" y=\"-81.9536\" font-family=\"Times,serif\" font-size=\"14.00\">F</text>\n",
       "</g>\n",
       "<!-- A_B&#45;&gt;F -->\n",
       "<g id=\"edge5\" class=\"edge\"><title>A_B&#45;&gt;F</title>\n",
       "<path fill=\"none\" stroke=\"black\" d=\"M261.646,-116.206C277.23,-110.507 297.52,-103.088 314.04,-97.0472\"/>\n",
       "<polygon fill=\"black\" stroke=\"black\" points=\"315.574,-100.213 323.763,-93.4917 313.17,-93.6389 315.574,-100.213\"/>\n",
       "<text text-anchor=\"middle\" x=\"299.581\" y=\"-119.954\" font-family=\"Times,serif\" font-size=\"14.00\">c </text>\n",
       "<text text-anchor=\"middle\" x=\"299.581\" y=\"-105.954\" font-family=\"Times,serif\" font-size=\"14.00\"> d</text>\n",
       "</g>\n",
       "<!-- A_B_F&#45;&gt;F -->\n",
       "<g id=\"edge4\" class=\"edge\"><title>A_B_F&#45;&gt;F</title>\n",
       "<path fill=\"none\" stroke=\"black\" d=\"M273.806,-55.0002C283.894,-59.1742 294.816,-63.7719 304.831,-68.1536 308.243,-69.6462 311.807,-71.2414 315.336,-72.8424\"/>\n",
       "<polygon fill=\"black\" stroke=\"black\" points=\"313.911,-76.0394 324.459,-77.0274 316.829,-69.6768 313.911,-76.0394\"/>\n",
       "<text text-anchor=\"middle\" x=\"299.581\" y=\"-84.9536\" font-family=\"Times,serif\" font-size=\"14.00\">c </text>\n",
       "<text text-anchor=\"middle\" x=\"299.581\" y=\"-70.9536\" font-family=\"Times,serif\" font-size=\"14.00\"> d</text>\n",
       "</g>\n",
       "</g>\n",
       "</svg>\n"
      ],
      "text/plain": [
       "<graphviz.dot.Digraph at 0x10758ddd8>"
      ]
     },
     "execution_count": 64,
     "metadata": {},
     "output_type": "execute_result"
    }
   ],
   "source": [
    "dotObj_dfa(dfaMQ0, FuseEdges=True)"
   ]
  },
  {
   "cell_type": "code",
   "execution_count": 65,
   "metadata": {
    "run_control": {
     "frozen": false,
     "read_only": false
    }
   },
   "outputs": [
    {
     "data": {
      "image/svg+xml": [
       "<?xml version=\"1.0\" encoding=\"UTF-8\" standalone=\"no\"?>\n",
       "<!DOCTYPE svg PUBLIC \"-//W3C//DTD SVG 1.1//EN\"\n",
       " \"http://www.w3.org/Graphics/SVG/1.1/DTD/svg11.dtd\">\n",
       "<!-- Generated by graphviz version 2.38.0 (20140413.2041)\n",
       " -->\n",
       "<!-- Title: %3 Pages: 1 -->\n",
       "<svg width=\"330pt\" height=\"357pt\"\n",
       " viewBox=\"0.00 0.00 330.42 356.90\" xmlns=\"http://www.w3.org/2000/svg\" xmlns:xlink=\"http://www.w3.org/1999/xlink\">\n",
       "<g id=\"graph0\" class=\"graph\" transform=\"scale(1 1) rotate(0) translate(4 352.904)\">\n",
       "<title>%3</title>\n",
       "<polygon fill=\"white\" stroke=\"none\" points=\"-4,4 -4,-352.904 326.423,-352.904 326.423,4 -4,4\"/>\n",
       "<!-- EMPTY -->\n",
       "<g id=\"node1\" class=\"node\"><title>EMPTY</title>\n",
       "</g>\n",
       "<!-- St1 -->\n",
       "<g id=\"node4\" class=\"node\"><title>St1</title>\n",
       "<ellipse fill=\"none\" stroke=\"black\" cx=\"205.712\" cy=\"-107\" rx=\"21.8081\" ry=\"21.8081\"/>\n",
       "<text text-anchor=\"middle\" x=\"205.712\" y=\"-102.8\" font-family=\"Times,serif\" font-size=\"14.00\">St1</text>\n",
       "</g>\n",
       "<!-- EMPTY&#45;&gt;St1 -->\n",
       "<g id=\"edge1\" class=\"edge\"><title>EMPTY&#45;&gt;St1</title>\n",
       "<path fill=\"none\" stroke=\"black\" d=\"M54.1001,-15.2848C84.2741,-13.5997 133.872,-15.4937 165.808,-41 177.651,-50.4588 186.659,-64.5741 193.009,-77.3262\"/>\n",
       "<polygon fill=\"black\" stroke=\"black\" points=\"189.976,-79.1053 197.35,-86.7124 196.329,-76.1668 189.976,-79.1053\"/>\n",
       "</g>\n",
       "<!-- St4 -->\n",
       "<g id=\"node5\" class=\"node\"><title>St4</title>\n",
       "<ellipse fill=\"none\" stroke=\"black\" cx=\"118.904\" cy=\"-125\" rx=\"21.8081\" ry=\"21.8081\"/>\n",
       "<text text-anchor=\"middle\" x=\"118.904\" y=\"-120.8\" font-family=\"Times,serif\" font-size=\"14.00\">St4</text>\n",
       "</g>\n",
       "<!-- EMPTY&#45;&gt;St4 -->\n",
       "<g id=\"edge2\" class=\"edge\"><title>EMPTY&#45;&gt;St4</title>\n",
       "<path fill=\"none\" stroke=\"black\" d=\"M43.251,-36.1511C58.155,-53.8893 80.9436,-81.0113 97.422,-100.623\"/>\n",
       "<polygon fill=\"black\" stroke=\"black\" points=\"94.9438,-103.115 104.056,-108.519 100.303,-98.6116 94.9438,-103.115\"/>\n",
       "</g>\n",
       "<!-- St2 -->\n",
       "<g id=\"node2\" class=\"node\"><title>St2</title>\n",
       "<ellipse fill=\"none\" stroke=\"black\" cx=\"27\" cy=\"-199\" rx=\"21.8081\" ry=\"21.8081\"/>\n",
       "<text text-anchor=\"middle\" x=\"27\" y=\"-194.8\" font-family=\"Times,serif\" font-size=\"14.00\">St2</text>\n",
       "</g>\n",
       "<!-- St2&#45;&gt;St2 -->\n",
       "<g id=\"edge4\" class=\"edge\"><title>St2&#45;&gt;St2</title>\n",
       "<path fill=\"none\" stroke=\"black\" d=\"M24.7769,-221.159C24.5949,-230.719 25.3359,-238.904 27,-238.904 28.014,-238.904 28.6853,-235.864 29.0138,-231.327\"/>\n",
       "<polygon fill=\"black\" stroke=\"black\" points=\"32.5165,-231.229 29.2231,-221.159 25.518,-231.085 32.5165,-231.229\"/>\n",
       "<text text-anchor=\"middle\" x=\"27\" y=\"-241.704\" font-family=\"Times,serif\" font-size=\"14.00\">c</text>\n",
       "</g>\n",
       "<!-- St2&#45;&gt;St2 -->\n",
       "<g id=\"edge6\" class=\"edge\"><title>St2&#45;&gt;St2</title>\n",
       "<path fill=\"none\" stroke=\"black\" d=\"M23.1595,-220.681C21.5714,-238.45 22.8516,-256.904 27,-256.904 30.3382,-256.904 31.8191,-244.955 31.4428,-231.029\"/>\n",
       "<polygon fill=\"black\" stroke=\"black\" points=\"34.9158,-230.461 30.8405,-220.681 27.9276,-230.868 34.9158,-230.461\"/>\n",
       "<text text-anchor=\"middle\" x=\"27\" y=\"-259.704\" font-family=\"Times,serif\" font-size=\"14.00\">b</text>\n",
       "</g>\n",
       "<!-- St2&#45;&gt;St2 -->\n",
       "<g id=\"edge10\" class=\"edge\"><title>St2&#45;&gt;St2</title>\n",
       "<path fill=\"none\" stroke=\"black\" d=\"M22.0994,-220.369C18.511,-245.543 20.1445,-274.904 27,-274.904 32.945,-274.904 34.963,-252.824 33.054,-230.543\"/>\n",
       "<polygon fill=\"black\" stroke=\"black\" points=\"36.505,-229.911 31.9006,-220.369 29.5495,-230.7 36.505,-229.911\"/>\n",
       "<text text-anchor=\"middle\" x=\"27\" y=\"-277.704\" font-family=\"Times,serif\" font-size=\"14.00\">d</text>\n",
       "</g>\n",
       "<!-- St2&#45;&gt;St2 -->\n",
       "<g id=\"edge13\" class=\"edge\"><title>St2&#45;&gt;St2</title>\n",
       "<path fill=\"none\" stroke=\"black\" d=\"M21.342,-220.223C15.4578,-252.367 17.3438,-292.904 27,-292.904 35.6755,-292.904 38.079,-260.183 34.2104,-230.225\"/>\n",
       "<polygon fill=\"black\" stroke=\"black\" points=\"37.6503,-229.568 32.658,-220.223 30.7331,-230.642 37.6503,-229.568\"/>\n",
       "<text text-anchor=\"middle\" x=\"27\" y=\"-295.704\" font-family=\"Times,serif\" font-size=\"14.00\">a</text>\n",
       "</g>\n",
       "<!-- St3 -->\n",
       "<g id=\"node3\" class=\"node\"><title>St3</title>\n",
       "<ellipse fill=\"none\" stroke=\"black\" cx=\"205.712\" cy=\"-239\" rx=\"21.8081\" ry=\"21.8081\"/>\n",
       "<text text-anchor=\"middle\" x=\"205.712\" y=\"-234.8\" font-family=\"Times,serif\" font-size=\"14.00\">St3</text>\n",
       "</g>\n",
       "<!-- St2&#45;&gt;St3 -->\n",
       "<g id=\"edge9\" class=\"edge\"><title>St2&#45;&gt;St3</title>\n",
       "<path fill=\"none\" stroke=\"black\" d=\"M35.7192,-219.347C42.7452,-234.968 54.6826,-255.714 72,-267 106.929,-289.764 127.266,-282.899 165.808,-267 170.777,-264.95 175.715,-262.152 180.322,-259.114\"/>\n",
       "<polygon fill=\"black\" stroke=\"black\" points=\"182.607,-261.782 188.693,-253.109 178.527,-256.094 182.607,-261.782\"/>\n",
       "<text text-anchor=\"middle\" x=\"118.904\" y=\"-284.8\" font-family=\"Times,serif\" font-size=\"14.00\">b</text>\n",
       "</g>\n",
       "<!-- St2&#45;&gt;St3 -->\n",
       "<g id=\"edge16\" class=\"edge\"><title>St2&#45;&gt;St3</title>\n",
       "<path fill=\"none\" stroke=\"black\" d=\"M41.1295,-215.84C49.0188,-224.546 59.8673,-234.309 72,-239 105.157,-251.819 146.553,-249.186 174.213,-245.07\"/>\n",
       "<polygon fill=\"black\" stroke=\"black\" points=\"174.794,-248.522 184.095,-243.45 173.661,-241.614 174.794,-248.522\"/>\n",
       "<text text-anchor=\"middle\" x=\"118.904\" y=\"-251.8\" font-family=\"Times,serif\" font-size=\"14.00\">a</text>\n",
       "</g>\n",
       "<!-- St2&#45;&gt;St1 -->\n",
       "<g id=\"edge7\" class=\"edge\"><title>St2&#45;&gt;St1</title>\n",
       "<path fill=\"none\" stroke=\"black\" d=\"M32.6727,-177.78C40.3591,-148.887 58.7934,-98.6351 97,-80 124.532,-66.5711 136.993,-73.6029 165.808,-84 170.075,-85.5396 174.398,-87.5568 178.536,-89.7574\"/>\n",
       "<polygon fill=\"black\" stroke=\"black\" points=\"176.789,-92.7906 187.201,-94.7535 180.286,-86.7263 176.789,-92.7906\"/>\n",
       "<text text-anchor=\"middle\" x=\"118.904\" y=\"-82.8\" font-family=\"Times,serif\" font-size=\"14.00\">b</text>\n",
       "</g>\n",
       "<!-- St2&#45;&gt;St1 -->\n",
       "<g id=\"edge14\" class=\"edge\"><title>St2&#45;&gt;St1</title>\n",
       "<path fill=\"none\" stroke=\"black\" d=\"M48.7905,-202.418C58.2182,-203.211 69.3835,-203.073 79,-200 120.82,-186.635 159.97,-153.043 183.135,-130.113\"/>\n",
       "<polygon fill=\"black\" stroke=\"black\" points=\"185.828,-132.367 190.359,-122.79 180.844,-127.451 185.828,-132.367\"/>\n",
       "<text text-anchor=\"middle\" x=\"118.904\" y=\"-195.8\" font-family=\"Times,serif\" font-size=\"14.00\">a</text>\n",
       "</g>\n",
       "<!-- St2&#45;&gt;St4 -->\n",
       "<g id=\"edge5\" class=\"edge\"><title>St2&#45;&gt;St4</title>\n",
       "<path fill=\"none\" stroke=\"black\" d=\"M44.4898,-185.427C58.1767,-174.162 77.844,-157.973 93.3781,-145.187\"/>\n",
       "<polygon fill=\"black\" stroke=\"black\" points=\"96.022,-147.544 101.519,-138.487 91.5734,-142.14 96.022,-147.544\"/>\n",
       "<text text-anchor=\"middle\" x=\"75.5\" y=\"-164.8\" font-family=\"Times,serif\" font-size=\"14.00\">c</text>\n",
       "</g>\n",
       "<!-- St2&#45;&gt;St4 -->\n",
       "<g id=\"edge8\" class=\"edge\"><title>St2&#45;&gt;St4</title>\n",
       "<path fill=\"none\" stroke=\"black\" d=\"M38.1317,-179.787C45.8426,-166.866 57.5748,-150.362 72,-140 76.5963,-136.698 81.9602,-134.095 87.3673,-132.051\"/>\n",
       "<polygon fill=\"black\" stroke=\"black\" points=\"88.5479,-135.348 96.9902,-128.947 86.3986,-128.686 88.5479,-135.348\"/>\n",
       "<text text-anchor=\"middle\" x=\"75.5\" y=\"-142.8\" font-family=\"Times,serif\" font-size=\"14.00\">b</text>\n",
       "</g>\n",
       "<!-- St2&#45;&gt;St4 -->\n",
       "<g id=\"edge12\" class=\"edge\"><title>St2&#45;&gt;St4</title>\n",
       "<path fill=\"none\" stroke=\"black\" d=\"M32.9631,-177.791C38.7493,-158.399 50.406,-130.844 72,-118 76.9366,-115.064 82.6811,-114.304 88.4014,-114.737\"/>\n",
       "<polygon fill=\"black\" stroke=\"black\" points=\"88.0241,-118.226 98.492,-116.592 89.2895,-111.342 88.0241,-118.226\"/>\n",
       "<text text-anchor=\"middle\" x=\"75.5\" y=\"-120.8\" font-family=\"Times,serif\" font-size=\"14.00\">d</text>\n",
       "</g>\n",
       "<!-- St2&#45;&gt;St4 -->\n",
       "<g id=\"edge15\" class=\"edge\"><title>St2&#45;&gt;St4</title>\n",
       "<path fill=\"none\" stroke=\"black\" d=\"M48.1952,-193.038C58.1409,-189.448 69.9148,-184.166 79,-177 87.631,-170.192 95.3307,-161.027 101.557,-152.288\"/>\n",
       "<polygon fill=\"black\" stroke=\"black\" points=\"104.593,-154.045 107.271,-143.794 98.7851,-150.137 104.593,-154.045\"/>\n",
       "<text text-anchor=\"middle\" x=\"75.5\" y=\"-184.8\" font-family=\"Times,serif\" font-size=\"14.00\">a</text>\n",
       "</g>\n",
       "<!-- St0 -->\n",
       "<g id=\"node6\" class=\"node\"><title>St0</title>\n",
       "<ellipse fill=\"none\" stroke=\"black\" cx=\"296.519\" cy=\"-239\" rx=\"21.8229\" ry=\"21.8229\"/>\n",
       "<ellipse fill=\"none\" stroke=\"black\" cx=\"296.519\" cy=\"-239\" rx=\"25.8081\" ry=\"25.8081\"/>\n",
       "<text text-anchor=\"middle\" x=\"296.519\" y=\"-234.8\" font-family=\"Times,serif\" font-size=\"14.00\">St0</text>\n",
       "</g>\n",
       "<!-- St2&#45;&gt;St0 -->\n",
       "<g id=\"edge11\" class=\"edge\"><title>St2&#45;&gt;St0</title>\n",
       "<path fill=\"none\" stroke=\"black\" d=\"M33.7873,-220.255C42.4048,-246.693 61.5364,-289.623 97,-300 157.388,-317.67 227.695,-282.904 266.336,-258.979\"/>\n",
       "<polygon fill=\"black\" stroke=\"black\" points=\"268.44,-261.789 274.997,-253.467 264.682,-255.883 268.44,-261.789\"/>\n",
       "<text text-anchor=\"middle\" x=\"162.308\" y=\"-305.8\" font-family=\"Times,serif\" font-size=\"14.00\">d</text>\n",
       "</g>\n",
       "<!-- St3&#45;&gt;St0 -->\n",
       "<g id=\"edge17\" class=\"edge\"><title>St3&#45;&gt;St0</title>\n",
       "<path fill=\"none\" stroke=\"black\" d=\"M227.758,-239C237.475,-239 249.279,-239 260.295,-239\"/>\n",
       "<polygon fill=\"black\" stroke=\"black\" points=\"260.521,-242.5 270.521,-239 260.521,-235.5 260.521,-242.5\"/>\n",
       "<text text-anchor=\"middle\" x=\"249.115\" y=\"-241.8\" font-family=\"Times,serif\" font-size=\"14.00\">b</text>\n",
       "</g>\n",
       "<!-- St3&#45;&gt;St0 -->\n",
       "<g id=\"edge18\" class=\"edge\"><title>St3&#45;&gt;St0</title>\n",
       "<path fill=\"none\" stroke=\"black\" d=\"M225.129,-228.495C231.423,-225.451 238.638,-222.536 245.615,-221 251.873,-219.623 258.414,-220.323 264.623,-222.073\"/>\n",
       "<polygon fill=\"black\" stroke=\"black\" points=\"263.425,-225.362 274.018,-225.541 265.849,-218.795 263.425,-225.362\"/>\n",
       "<text text-anchor=\"middle\" x=\"249.115\" y=\"-223.8\" font-family=\"Times,serif\" font-size=\"14.00\">a</text>\n",
       "</g>\n",
       "<!-- St1&#45;&gt;St0 -->\n",
       "<g id=\"edge3\" class=\"edge\"><title>St1&#45;&gt;St0</title>\n",
       "<path fill=\"none\" stroke=\"black\" d=\"M218.689,-124.802C233.236,-146.425 257.994,-183.224 275.467,-209.196\"/>\n",
       "<polygon fill=\"black\" stroke=\"black\" points=\"272.603,-211.208 281.089,-217.551 278.411,-207.3 272.603,-211.208\"/>\n",
       "<text text-anchor=\"middle\" x=\"249.115\" y=\"-175.8\" font-family=\"Times,serif\" font-size=\"14.00\">c</text>\n",
       "</g>\n",
       "<!-- St4&#45;&gt;St3 -->\n",
       "<g id=\"edge19\" class=\"edge\"><title>St4&#45;&gt;St3</title>\n",
       "<path fill=\"none\" stroke=\"black\" d=\"M128.702,-144.706C137.626,-164.238 151.178,-192.568 158.808,-202 164.545,-209.093 171.851,-215.732 178.938,-221.373\"/>\n",
       "<polygon fill=\"black\" stroke=\"black\" points=\"176.963,-224.267 187.051,-227.504 181.183,-218.682 176.963,-224.267\"/>\n",
       "<text text-anchor=\"middle\" x=\"162.308\" y=\"-213.8\" font-family=\"Times,serif\" font-size=\"14.00\">c</text>\n",
       "</g>\n",
       "<!-- St4&#45;&gt;St3 -->\n",
       "<g id=\"edge21\" class=\"edge\"><title>St4&#45;&gt;St3</title>\n",
       "<path fill=\"none\" stroke=\"black\" d=\"M133.168,-141.629C142.448,-153.364 155.057,-169.514 165.808,-184 172.674,-193.253 180.017,-203.529 186.453,-212.671\"/>\n",
       "<polygon fill=\"black\" stroke=\"black\" points=\"183.696,-214.836 192.3,-221.018 189.429,-210.82 183.696,-214.836\"/>\n",
       "<text text-anchor=\"middle\" x=\"162.308\" y=\"-186.8\" font-family=\"Times,serif\" font-size=\"14.00\">d</text>\n",
       "</g>\n",
       "<!-- St4&#45;&gt;St1 -->\n",
       "<g id=\"edge20\" class=\"edge\"><title>St4&#45;&gt;St1</title>\n",
       "<path fill=\"none\" stroke=\"black\" d=\"M133.165,-107.969C139.949,-100.65 148.868,-92.8932 158.808,-89 165.234,-86.4829 172.166,-87.3366 178.647,-89.6877\"/>\n",
       "<polygon fill=\"black\" stroke=\"black\" points=\"177.174,-92.8627 187.709,-93.9853 180.173,-86.5379 177.174,-92.8627\"/>\n",
       "<text text-anchor=\"middle\" x=\"162.308\" y=\"-91.8\" font-family=\"Times,serif\" font-size=\"14.00\">c</text>\n",
       "</g>\n",
       "<!-- St4&#45;&gt;St1 -->\n",
       "<g id=\"edge22\" class=\"edge\"><title>St4&#45;&gt;St1</title>\n",
       "<path fill=\"none\" stroke=\"black\" d=\"M140.433,-120.643C150.567,-118.492 162.996,-115.854 174.215,-113.473\"/>\n",
       "<polygon fill=\"black\" stroke=\"black\" points=\"175.022,-116.88 184.077,-111.38 173.568,-110.032 175.022,-116.88\"/>\n",
       "<text text-anchor=\"middle\" x=\"162.308\" y=\"-119.8\" font-family=\"Times,serif\" font-size=\"14.00\">d</text>\n",
       "</g>\n",
       "</g>\n",
       "</svg>\n"
      ],
      "text/plain": [
       "<graphviz.dot.Digraph at 0x10758d588>"
      ]
     },
     "execution_count": 65,
     "metadata": {},
     "output_type": "execute_result"
    }
   ],
   "source": [
    "dotObj_nfa(rev_dfa(dfaMQ0))"
   ]
  },
  {
   "cell_type": "code",
   "execution_count": 66,
   "metadata": {
    "run_control": {
     "frozen": false,
     "read_only": false
    }
   },
   "outputs": [
    {
     "data": {
      "image/svg+xml": [
       "<?xml version=\"1.0\" encoding=\"UTF-8\" standalone=\"no\"?>\n",
       "<!DOCTYPE svg PUBLIC \"-//W3C//DTD SVG 1.1//EN\"\n",
       " \"http://www.w3.org/Graphics/SVG/1.1/DTD/svg11.dtd\">\n",
       "<!-- Generated by graphviz version 2.38.0 (20140413.2041)\n",
       " -->\n",
       "<!-- Title: %3 Pages: 1 -->\n",
       "<svg width=\"346pt\" height=\"250pt\"\n",
       " viewBox=\"0.00 0.00 346.42 249.90\" xmlns=\"http://www.w3.org/2000/svg\" xmlns:xlink=\"http://www.w3.org/1999/xlink\">\n",
       "<g id=\"graph0\" class=\"graph\" transform=\"scale(1 1) rotate(0) translate(4 245.904)\">\n",
       "<title>%3</title>\n",
       "<polygon fill=\"white\" stroke=\"none\" points=\"-4,4 -4,-245.904 342.423,-245.904 342.423,4 -4,4\"/>\n",
       "<!-- EMPTY -->\n",
       "<g id=\"node1\" class=\"node\"><title>EMPTY</title>\n",
       "</g>\n",
       "<!-- St1 -->\n",
       "<g id=\"node4\" class=\"node\"><title>St1</title>\n",
       "<ellipse fill=\"none\" stroke=\"black\" cx=\"218.212\" cy=\"-72\" rx=\"21.8081\" ry=\"21.8081\"/>\n",
       "<text text-anchor=\"middle\" x=\"218.212\" y=\"-67.8\" font-family=\"Times,serif\" font-size=\"14.00\">St1</text>\n",
       "</g>\n",
       "<!-- EMPTY&#45;&gt;St1 -->\n",
       "<g id=\"edge1\" class=\"edge\"><title>EMPTY&#45;&gt;St1</title>\n",
       "<path fill=\"none\" stroke=\"black\" d=\"M55.0668,-17.1635C86.1126,-17.2249 138.738,-20.7388 178.308,-41 183.496,-43.6569 188.654,-47.0679 193.435,-50.6506\"/>\n",
       "<polygon fill=\"black\" stroke=\"black\" points=\"191.569,-53.6398 201.562,-57.1591 195.945,-48.1761 191.569,-53.6398\"/>\n",
       "</g>\n",
       "<!-- St4 -->\n",
       "<g id=\"node5\" class=\"node\"><title>St4</title>\n",
       "<ellipse fill=\"none\" stroke=\"black\" cx=\"127.904\" cy=\"-123\" rx=\"21.8081\" ry=\"21.8081\"/>\n",
       "<text text-anchor=\"middle\" x=\"127.904\" y=\"-118.8\" font-family=\"Times,serif\" font-size=\"14.00\">St4</text>\n",
       "</g>\n",
       "<!-- EMPTY&#45;&gt;St4 -->\n",
       "<g id=\"edge2\" class=\"edge\"><title>EMPTY&#45;&gt;St4</title>\n",
       "<path fill=\"none\" stroke=\"black\" d=\"M46.0536,-36.2896C62.5213,-53.9509 87.5195,-80.761 105.356,-99.8905\"/>\n",
       "<polygon fill=\"black\" stroke=\"black\" points=\"102.9,-102.389 112.28,-107.316 108.02,-97.6151 102.9,-102.389\"/>\n",
       "</g>\n",
       "<!-- St2 -->\n",
       "<g id=\"node2\" class=\"node\"><title>St2</title>\n",
       "<ellipse fill=\"none\" stroke=\"black\" cx=\"28\" cy=\"-146\" rx=\"21.8081\" ry=\"21.8081\"/>\n",
       "<text text-anchor=\"middle\" x=\"28\" y=\"-141.8\" font-family=\"Times,serif\" font-size=\"14.00\">St2</text>\n",
       "</g>\n",
       "<!-- St2&#45;&gt;St2 -->\n",
       "<g id=\"edge4\" class=\"edge\"><title>St2&#45;&gt;St2</title>\n",
       "<path fill=\"none\" stroke=\"black\" d=\"M18.5928,-166.121C17.1455,-176.525 20.2812,-185.904 28,-185.904 33.0654,-185.904 36.1571,-181.865 37.2751,-176.148\"/>\n",
       "<polygon fill=\"black\" stroke=\"black\" points=\"40.775,-176.166 37.4072,-166.121 33.7756,-176.074 40.775,-176.166\"/>\n",
       "<text text-anchor=\"middle\" x=\"28\" y=\"-230.704\" font-family=\"Times,serif\" font-size=\"14.00\">c </text>\n",
       "<text text-anchor=\"middle\" x=\"28\" y=\"-216.704\" font-family=\"Times,serif\" font-size=\"14.00\"> b </text>\n",
       "<text text-anchor=\"middle\" x=\"28\" y=\"-202.704\" font-family=\"Times,serif\" font-size=\"14.00\"> d </text>\n",
       "<text text-anchor=\"middle\" x=\"28\" y=\"-188.704\" font-family=\"Times,serif\" font-size=\"14.00\"> a</text>\n",
       "</g>\n",
       "<!-- St3 -->\n",
       "<g id=\"node3\" class=\"node\"><title>St3</title>\n",
       "<ellipse fill=\"none\" stroke=\"black\" cx=\"218.212\" cy=\"-161\" rx=\"21.8081\" ry=\"21.8081\"/>\n",
       "<text text-anchor=\"middle\" x=\"218.212\" y=\"-156.8\" font-family=\"Times,serif\" font-size=\"14.00\">St3</text>\n",
       "</g>\n",
       "<!-- St2&#45;&gt;St3 -->\n",
       "<g id=\"edge7\" class=\"edge\"><title>St2&#45;&gt;St3</title>\n",
       "<path fill=\"none\" stroke=\"black\" d=\"M47.121,-157.201C55.0614,-161.479 64.6804,-165.844 74,-168 112.015,-176.795 157.169,-172.195 186.467,-167.307\"/>\n",
       "<polygon fill=\"black\" stroke=\"black\" points=\"187.271,-170.719 196.501,-165.517 186.042,-163.827 187.271,-170.719\"/>\n",
       "<text text-anchor=\"middle\" x=\"127.904\" y=\"-189.8\" font-family=\"Times,serif\" font-size=\"14.00\">b </text>\n",
       "<text text-anchor=\"middle\" x=\"127.904\" y=\"-175.8\" font-family=\"Times,serif\" font-size=\"14.00\"> a</text>\n",
       "</g>\n",
       "<!-- St2&#45;&gt;St1 -->\n",
       "<g id=\"edge6\" class=\"edge\"><title>St2&#45;&gt;St1</title>\n",
       "<path fill=\"none\" stroke=\"black\" d=\"M39.8277,-127.495C52.7048,-107.531 76.2486,-76.8749 106,-64 131.728,-52.8663 163.937,-56.8895 187.061,-62.484\"/>\n",
       "<polygon fill=\"black\" stroke=\"black\" points=\"186.427,-65.9369 196.99,-65.1162 188.221,-59.1706 186.427,-65.9369\"/>\n",
       "<text text-anchor=\"middle\" x=\"127.904\" y=\"-80.8\" font-family=\"Times,serif\" font-size=\"14.00\">b </text>\n",
       "<text text-anchor=\"middle\" x=\"127.904\" y=\"-66.8\" font-family=\"Times,serif\" font-size=\"14.00\"> a</text>\n",
       "</g>\n",
       "<!-- St2&#45;&gt;St4 -->\n",
       "<g id=\"edge5\" class=\"edge\"><title>St2&#45;&gt;St4</title>\n",
       "<path fill=\"none\" stroke=\"black\" d=\"M44.1742,-130.571C52.2755,-123.44 62.8595,-115.735 74,-112 81.545,-109.47 89.8986,-109.825 97.6965,-111.43\"/>\n",
       "<polygon fill=\"black\" stroke=\"black\" points=\"96.943,-114.852 107.513,-114.123 98.7951,-108.102 96.943,-114.852\"/>\n",
       "<text text-anchor=\"middle\" x=\"81\" y=\"-156.8\" font-family=\"Times,serif\" font-size=\"14.00\">c </text>\n",
       "<text text-anchor=\"middle\" x=\"81\" y=\"-142.8\" font-family=\"Times,serif\" font-size=\"14.00\"> b </text>\n",
       "<text text-anchor=\"middle\" x=\"81\" y=\"-128.8\" font-family=\"Times,serif\" font-size=\"14.00\"> d </text>\n",
       "<text text-anchor=\"middle\" x=\"81\" y=\"-114.8\" font-family=\"Times,serif\" font-size=\"14.00\"> a</text>\n",
       "</g>\n",
       "<!-- St0 -->\n",
       "<g id=\"node6\" class=\"node\"><title>St0</title>\n",
       "<ellipse fill=\"none\" stroke=\"black\" cx=\"312.519\" cy=\"-161\" rx=\"21.8229\" ry=\"21.8229\"/>\n",
       "<ellipse fill=\"none\" stroke=\"black\" cx=\"312.519\" cy=\"-161\" rx=\"25.8081\" ry=\"25.8081\"/>\n",
       "<text text-anchor=\"middle\" x=\"312.519\" y=\"-156.8\" font-family=\"Times,serif\" font-size=\"14.00\">St0</text>\n",
       "</g>\n",
       "<!-- St2&#45;&gt;St0 -->\n",
       "<g id=\"edge8\" class=\"edge\"><title>St2&#45;&gt;St0</title>\n",
       "<path fill=\"none\" stroke=\"black\" d=\"M43.0041,-161.969C57.1495,-176.693 80.5049,-197.381 106,-205 141.736,-215.679 239.927,-204.152 268.615,-193 274.164,-190.843 279.622,-187.762 284.688,-184.354\"/>\n",
       "<polygon fill=\"black\" stroke=\"black\" points=\"286.793,-187.15 292.789,-178.416 282.655,-181.505 286.793,-187.15\"/>\n",
       "<text text-anchor=\"middle\" x=\"173.058\" y=\"-211.8\" font-family=\"Times,serif\" font-size=\"14.00\">d</text>\n",
       "</g>\n",
       "<!-- St3&#45;&gt;St0 -->\n",
       "<g id=\"edge9\" class=\"edge\"><title>St3&#45;&gt;St0</title>\n",
       "<path fill=\"none\" stroke=\"black\" d=\"M240.158,-161C250.772,-161 263.952,-161 276.086,-161\"/>\n",
       "<polygon fill=\"black\" stroke=\"black\" points=\"276.389,-164.5 286.389,-161 276.389,-157.5 276.389,-164.5\"/>\n",
       "<text text-anchor=\"middle\" x=\"263.365\" y=\"-177.8\" font-family=\"Times,serif\" font-size=\"14.00\">b </text>\n",
       "<text text-anchor=\"middle\" x=\"263.365\" y=\"-163.8\" font-family=\"Times,serif\" font-size=\"14.00\"> a</text>\n",
       "</g>\n",
       "<!-- St1&#45;&gt;St0 -->\n",
       "<g id=\"edge3\" class=\"edge\"><title>St1&#45;&gt;St0</title>\n",
       "<path fill=\"none\" stroke=\"black\" d=\"M234.454,-86.6965C248.398,-100.14 269.307,-120.301 285.83,-136.231\"/>\n",
       "<polygon fill=\"black\" stroke=\"black\" points=\"283.443,-138.792 293.072,-143.213 288.302,-133.753 283.443,-138.792\"/>\n",
       "<text text-anchor=\"middle\" x=\"263.365\" y=\"-122.8\" font-family=\"Times,serif\" font-size=\"14.00\">c</text>\n",
       "</g>\n",
       "<!-- St4&#45;&gt;St3 -->\n",
       "<g id=\"edge10\" class=\"edge\"><title>St4&#45;&gt;St3</title>\n",
       "<path fill=\"none\" stroke=\"black\" d=\"M149.382,-129.213C158.384,-132.157 169.004,-135.921 178.308,-140 182.075,-141.652 185.97,-143.532 189.774,-145.473\"/>\n",
       "<polygon fill=\"black\" stroke=\"black\" points=\"188.445,-148.73 198.919,-150.328 191.727,-142.547 188.445,-148.73\"/>\n",
       "<text text-anchor=\"middle\" x=\"173.058\" y=\"-156.8\" font-family=\"Times,serif\" font-size=\"14.00\">c </text>\n",
       "<text text-anchor=\"middle\" x=\"173.058\" y=\"-142.8\" font-family=\"Times,serif\" font-size=\"14.00\"> d</text>\n",
       "</g>\n",
       "<!-- St4&#45;&gt;St1 -->\n",
       "<g id=\"edge11\" class=\"edge\"><title>St4&#45;&gt;St1</title>\n",
       "<path fill=\"none\" stroke=\"black\" d=\"M147.201,-112.433C159.634,-105.253 176.289,-95.6338 190.236,-87.5794\"/>\n",
       "<polygon fill=\"black\" stroke=\"black\" points=\"192.028,-90.5857 198.938,-82.5537 188.528,-84.524 192.028,-90.5857\"/>\n",
       "<text text-anchor=\"middle\" x=\"173.058\" y=\"-116.8\" font-family=\"Times,serif\" font-size=\"14.00\">c </text>\n",
       "<text text-anchor=\"middle\" x=\"173.058\" y=\"-102.8\" font-family=\"Times,serif\" font-size=\"14.00\"> d</text>\n",
       "</g>\n",
       "</g>\n",
       "</svg>\n"
      ],
      "text/plain": [
       "<graphviz.dot.Digraph at 0x10758d8d0>"
      ]
     },
     "execution_count": 66,
     "metadata": {},
     "output_type": "execute_result"
    }
   ],
   "source": [
    "dotObj_nfa(rev_dfa(dfaMQ0), FuseEdges=True)"
   ]
  },
  {
   "cell_type": "code",
   "execution_count": 67,
   "metadata": {
    "run_control": {
     "frozen": false,
     "read_only": false
    }
   },
   "outputs": [
    {
     "name": "stdout",
     "output_type": "stream",
     "text": [
      "Help on function min_dfa_brz in module jove.Def_NFA:\n",
      "\n",
      "min_dfa_brz(D)\n",
      "    Minimize a DFA as per Brzozowski's algorithm.\n",
      "\n"
     ]
    }
   ],
   "source": [
    "help(min_dfa_brz)"
   ]
  },
  {
   "cell_type": "code",
   "execution_count": 68,
   "metadata": {
    "run_control": {
     "frozen": false,
     "read_only": false
    }
   },
   "outputs": [
    {
     "data": {
      "image/svg+xml": [
       "<?xml version=\"1.0\" encoding=\"UTF-8\" standalone=\"no\"?>\n",
       "<!DOCTYPE svg PUBLIC \"-//W3C//DTD SVG 1.1//EN\"\n",
       " \"http://www.w3.org/Graphics/SVG/1.1/DTD/svg11.dtd\">\n",
       "<!-- Generated by graphviz version 2.38.0 (20140413.2041)\n",
       " -->\n",
       "<!-- Title: %3 Pages: 1 -->\n",
       "<svg width=\"368pt\" height=\"160pt\"\n",
       " viewBox=\"0.00 0.00 367.83 159.97\" xmlns=\"http://www.w3.org/2000/svg\" xmlns:xlink=\"http://www.w3.org/1999/xlink\">\n",
       "<g id=\"graph0\" class=\"graph\" transform=\"scale(1 1) rotate(0) translate(4 155.967)\">\n",
       "<title>%3</title>\n",
       "<polygon fill=\"white\" stroke=\"none\" points=\"-4,4 -4,-155.967 363.831,-155.967 363.831,4 -4,4\"/>\n",
       "<!-- EMPTY -->\n",
       "<g id=\"node1\" class=\"node\"><title>EMPTY</title>\n",
       "</g>\n",
       "<!-- I0_I1 -->\n",
       "<g id=\"node2\" class=\"node\"><title>I0_I1</title>\n",
       "<ellipse fill=\"none\" stroke=\"black\" cx=\"120.262\" cy=\"-88.1536\" rx=\"29.0257\" ry=\"29.0257\"/>\n",
       "<text text-anchor=\"middle\" x=\"120.262\" y=\"-83.9536\" font-family=\"Times,serif\" font-size=\"14.00\">I0_I1</text>\n",
       "</g>\n",
       "<!-- EMPTY&#45;&gt;I0_I1 -->\n",
       "<g id=\"edge1\" class=\"edge\"><title>EMPTY&#45;&gt;I0_I1</title>\n",
       "<path fill=\"none\" stroke=\"black\" d=\"M54.3967,-88.1536C62.5695,-88.1536 71.7499,-88.1536 80.5754,-88.1536\"/>\n",
       "<polygon fill=\"black\" stroke=\"black\" points=\"80.6912,-91.6537 90.6912,-88.1536 80.6911,-84.6537 80.6912,-91.6537\"/>\n",
       "</g>\n",
       "<!-- A_B -->\n",
       "<g id=\"node3\" class=\"node\"><title>A_B</title>\n",
       "<ellipse fill=\"none\" stroke=\"black\" cx=\"232.677\" cy=\"-125.154\" rx=\"26.6284\" ry=\"26.6284\"/>\n",
       "<text text-anchor=\"middle\" x=\"232.677\" y=\"-120.954\" font-family=\"Times,serif\" font-size=\"14.00\">A_B</text>\n",
       "</g>\n",
       "<!-- I0_I1&#45;&gt;A_B -->\n",
       "<g id=\"edge3\" class=\"edge\"><title>I0_I1&#45;&gt;A_B</title>\n",
       "<path fill=\"none\" stroke=\"black\" d=\"M148.273,-97.2048C162.937,-102.119 181.229,-108.249 196.943,-113.514\"/>\n",
       "<polygon fill=\"black\" stroke=\"black\" points=\"196.24,-116.97 206.834,-116.828 198.464,-110.332 196.24,-116.97\"/>\n",
       "<text text-anchor=\"middle\" x=\"171.024\" y=\"-108.954\" font-family=\"Times,serif\" font-size=\"14.00\">b</text>\n",
       "</g>\n",
       "<!-- I0_I1&#45;&gt;A_B -->\n",
       "<g id=\"edge4\" class=\"edge\"><title>I0_I1&#45;&gt;A_B</title>\n",
       "<path fill=\"none\" stroke=\"black\" d=\"M149.353,-84.4011C157.607,-84.1555 166.556,-84.7465 174.524,-87.1536 184.79,-90.2549 194.901,-95.8722 203.698,-101.853\"/>\n",
       "<polygon fill=\"black\" stroke=\"black\" points=\"201.862,-104.845 212.014,-107.876 205.968,-99.1754 201.862,-104.845\"/>\n",
       "<text text-anchor=\"middle\" x=\"171.024\" y=\"-89.9536\" font-family=\"Times,serif\" font-size=\"14.00\">a</text>\n",
       "</g>\n",
       "<!-- A_B_F -->\n",
       "<g id=\"node4\" class=\"node\"><title>A_B_F</title>\n",
       "<ellipse fill=\"none\" stroke=\"black\" cx=\"232.677\" cy=\"-40.1536\" rx=\"36.2924\" ry=\"36.2924\"/>\n",
       "<ellipse fill=\"none\" stroke=\"black\" cx=\"232.677\" cy=\"-40.1536\" rx=\"40.3078\" ry=\"40.3078\"/>\n",
       "<text text-anchor=\"middle\" x=\"232.677\" y=\"-35.9536\" font-family=\"Times,serif\" font-size=\"14.00\">A_B_F</text>\n",
       "</g>\n",
       "<!-- I0_I1&#45;&gt;A_B_F -->\n",
       "<g id=\"edge2\" class=\"edge\"><title>I0_I1&#45;&gt;A_B_F</title>\n",
       "<path fill=\"none\" stroke=\"black\" d=\"M147.429,-76.7783C159.026,-71.7365 173.014,-65.6557 186.231,-59.9101\"/>\n",
       "<polygon fill=\"black\" stroke=\"black\" points=\"187.898,-63.0019 195.674,-55.8052 185.107,-56.5822 187.898,-63.0019\"/>\n",
       "<text text-anchor=\"middle\" x=\"171.024\" y=\"-69.9536\" font-family=\"Times,serif\" font-size=\"14.00\">c</text>\n",
       "</g>\n",
       "<!-- F -->\n",
       "<g id=\"node5\" class=\"node\"><title>F</title>\n",
       "<ellipse fill=\"none\" stroke=\"black\" cx=\"337.831\" cy=\"-82.1536\" rx=\"18\" ry=\"18\"/>\n",
       "<ellipse fill=\"none\" stroke=\"black\" cx=\"337.831\" cy=\"-82.1536\" rx=\"22\" ry=\"22\"/>\n",
       "<text text-anchor=\"middle\" x=\"337.831\" y=\"-77.9536\" font-family=\"Times,serif\" font-size=\"14.00\">F</text>\n",
       "</g>\n",
       "<!-- A_B&#45;&gt;F -->\n",
       "<g id=\"edge7\" class=\"edge\"><title>A_B&#45;&gt;F</title>\n",
       "<path fill=\"none\" stroke=\"black\" d=\"M259.603,-124.883C271.678,-123.927 285.963,-121.571 297.831,-116.154 303.837,-113.412 309.609,-109.442 314.787,-105.175\"/>\n",
       "<polygon fill=\"black\" stroke=\"black\" points=\"317.277,-107.643 322.381,-98.3592 312.601,-102.434 317.277,-107.643\"/>\n",
       "<text text-anchor=\"middle\" x=\"294.331\" y=\"-121.954\" font-family=\"Times,serif\" font-size=\"14.00\">c</text>\n",
       "</g>\n",
       "<!-- A_B&#45;&gt;F -->\n",
       "<g id=\"edge8\" class=\"edge\"><title>A_B&#45;&gt;F</title>\n",
       "<path fill=\"none\" stroke=\"black\" d=\"M257.062,-113.416C267.313,-108.451 279.555,-102.763 290.831,-98.1536 296.016,-96.0341 301.598,-93.94 307.025,-92.0002\"/>\n",
       "<polygon fill=\"black\" stroke=\"black\" points=\"308.21,-95.2939 316.505,-88.7029 305.91,-88.6824 308.21,-95.2939\"/>\n",
       "<text text-anchor=\"middle\" x=\"294.331\" y=\"-100.954\" font-family=\"Times,serif\" font-size=\"14.00\">d</text>\n",
       "</g>\n",
       "<!-- A_B_F&#45;&gt;F -->\n",
       "<g id=\"edge5\" class=\"edge\"><title>A_B_F&#45;&gt;F</title>\n",
       "<path fill=\"none\" stroke=\"black\" d=\"M270.417,-54.1833C279.411,-57.697 288.991,-61.5062 297.831,-65.1536 301.14,-66.519 304.595,-67.9768 308.02,-69.4431\"/>\n",
       "<polygon fill=\"black\" stroke=\"black\" points=\"306.887,-72.7664 317.455,-73.5279 309.668,-66.3427 306.887,-72.7664\"/>\n",
       "<text text-anchor=\"middle\" x=\"294.331\" y=\"-67.9536\" font-family=\"Times,serif\" font-size=\"14.00\">c</text>\n",
       "</g>\n",
       "<!-- A_B_F&#45;&gt;F -->\n",
       "<g id=\"edge6\" class=\"edge\"><title>A_B_F&#45;&gt;F</title>\n",
       "<path fill=\"none\" stroke=\"black\" d=\"M273.057,-39.0119C281.499,-39.9103 290.175,-41.7491 297.831,-45.1536 304.477,-48.1092 310.692,-52.6946 316.121,-57.6434\"/>\n",
       "<polygon fill=\"black\" stroke=\"black\" points=\"313.93,-60.4029 323.472,-65.0066 318.884,-55.457 313.93,-60.4029\"/>\n",
       "<text text-anchor=\"middle\" x=\"294.331\" y=\"-47.9536\" font-family=\"Times,serif\" font-size=\"14.00\">d</text>\n",
       "</g>\n",
       "</g>\n",
       "</svg>\n"
      ],
      "text/plain": [
       "<graphviz.dot.Digraph at 0x10758d5c0>"
      ]
     },
     "execution_count": 68,
     "metadata": {},
     "output_type": "execute_result"
    }
   ],
   "source": [
    "dotObj_dfa(dfaMQ0)"
   ]
  },
  {
   "cell_type": "code",
   "execution_count": null,
   "metadata": {
    "run_control": {
     "frozen": false,
     "read_only": false
    }
   },
   "outputs": [],
   "source": []
  },
  {
   "cell_type": "code",
   "execution_count": 69,
   "metadata": {
    "run_control": {
     "frozen": false,
     "read_only": false
    }
   },
   "outputs": [
    {
     "data": {
      "image/svg+xml": [
       "<?xml version=\"1.0\" encoding=\"UTF-8\" standalone=\"no\"?>\n",
       "<!DOCTYPE svg PUBLIC \"-//W3C//DTD SVG 1.1//EN\"\n",
       " \"http://www.w3.org/Graphics/SVG/1.1/DTD/svg11.dtd\">\n",
       "<!-- Generated by graphviz version 2.38.0 (20140413.2041)\n",
       " -->\n",
       "<!-- Title: %3 Pages: 1 -->\n",
       "<svg width=\"332pt\" height=\"126pt\"\n",
       " viewBox=\"0.00 0.00 332.42 125.81\" xmlns=\"http://www.w3.org/2000/svg\" xmlns:xlink=\"http://www.w3.org/1999/xlink\">\n",
       "<g id=\"graph0\" class=\"graph\" transform=\"scale(1 1) rotate(0) translate(4 121.808)\">\n",
       "<title>%3</title>\n",
       "<polygon fill=\"white\" stroke=\"none\" points=\"-4,4 -4,-121.808 328.423,-121.808 328.423,4 -4,4\"/>\n",
       "<!-- EMPTY -->\n",
       "<g id=\"node1\" class=\"node\"><title>EMPTY</title>\n",
       "</g>\n",
       "<!-- St3 -->\n",
       "<g id=\"node2\" class=\"node\"><title>St3</title>\n",
       "<ellipse fill=\"none\" stroke=\"black\" cx=\"112.904\" cy=\"-62.9039\" rx=\"21.8081\" ry=\"21.8081\"/>\n",
       "<text text-anchor=\"middle\" x=\"112.904\" y=\"-58.7039\" font-family=\"Times,serif\" font-size=\"14.00\">St3</text>\n",
       "</g>\n",
       "<!-- EMPTY&#45;&gt;St3 -->\n",
       "<g id=\"edge1\" class=\"edge\"><title>EMPTY&#45;&gt;St3</title>\n",
       "<path fill=\"none\" stroke=\"black\" d=\"M54.0878,-62.9039C62.501,-62.9039 71.9126,-62.9039 80.6587,-62.9039\"/>\n",
       "<polygon fill=\"black\" stroke=\"black\" points=\"80.8854,-66.404 90.8853,-62.9039 80.8853,-59.404 80.8854,-66.404\"/>\n",
       "</g>\n",
       "<!-- St2 -->\n",
       "<g id=\"node3\" class=\"node\"><title>St2</title>\n",
       "<ellipse fill=\"none\" stroke=\"black\" cx=\"203.712\" cy=\"-95.9039\" rx=\"21.8081\" ry=\"21.8081\"/>\n",
       "<text text-anchor=\"middle\" x=\"203.712\" y=\"-91.7039\" font-family=\"Times,serif\" font-size=\"14.00\">St2</text>\n",
       "</g>\n",
       "<!-- St3&#45;&gt;St2 -->\n",
       "<g id=\"edge3\" class=\"edge\"><title>St3&#45;&gt;St2</title>\n",
       "<path fill=\"none\" stroke=\"black\" d=\"M133.664,-70.6184C139.789,-72.984 146.568,-75.576 152.808,-77.9039 159.417,-80.3697 166.539,-82.9713 173.275,-85.4068\"/>\n",
       "<polygon fill=\"black\" stroke=\"black\" points=\"172.168,-88.7282 182.763,-88.8208 174.538,-82.1417 172.168,-88.7282\"/>\n",
       "<text text-anchor=\"middle\" x=\"156.308\" y=\"-83.7039\" font-family=\"Times,serif\" font-size=\"14.00\">b</text>\n",
       "</g>\n",
       "<!-- St3&#45;&gt;St2 -->\n",
       "<g id=\"edge4\" class=\"edge\"><title>St3&#45;&gt;St2</title>\n",
       "<path fill=\"none\" stroke=\"black\" d=\"M134.521,-58.0388C142.615,-57.0252 151.853,-57.0085 159.808,-59.9039 167.517,-62.7098 174.805,-67.5768 181.112,-72.8414\"/>\n",
       "<polygon fill=\"black\" stroke=\"black\" points=\"178.783,-75.4543 188.534,-79.5974 183.495,-70.2776 178.783,-75.4543\"/>\n",
       "<text text-anchor=\"middle\" x=\"156.308\" y=\"-62.7039\" font-family=\"Times,serif\" font-size=\"14.00\">a</text>\n",
       "</g>\n",
       "<!-- St1 -->\n",
       "<g id=\"node4\" class=\"node\"><title>St1</title>\n",
       "<ellipse fill=\"none\" stroke=\"black\" cx=\"203.712\" cy=\"-25.9039\" rx=\"21.8229\" ry=\"21.8229\"/>\n",
       "<ellipse fill=\"none\" stroke=\"black\" cx=\"203.712\" cy=\"-25.9039\" rx=\"25.8081\" ry=\"25.8081\"/>\n",
       "<text text-anchor=\"middle\" x=\"203.712\" y=\"-21.7039\" font-family=\"Times,serif\" font-size=\"14.00\">St1</text>\n",
       "</g>\n",
       "<!-- St3&#45;&gt;St1 -->\n",
       "<g id=\"edge2\" class=\"edge\"><title>St3&#45;&gt;St1</title>\n",
       "<path fill=\"none\" stroke=\"black\" d=\"M132.077,-51.518C138.473,-47.8118 145.814,-43.8883 152.808,-40.9039 157.904,-38.7291 163.419,-36.7363 168.859,-34.9629\"/>\n",
       "<polygon fill=\"black\" stroke=\"black\" points=\"169.933,-38.2947 178.467,-32.0159 167.88,-31.6025 169.933,-38.2947\"/>\n",
       "<text text-anchor=\"middle\" x=\"156.308\" y=\"-43.7039\" font-family=\"Times,serif\" font-size=\"14.00\">c</text>\n",
       "</g>\n",
       "<!-- St4 -->\n",
       "<g id=\"node5\" class=\"node\"><title>St4</title>\n",
       "<ellipse fill=\"none\" stroke=\"black\" cx=\"298.519\" cy=\"-60.9039\" rx=\"21.8229\" ry=\"21.8229\"/>\n",
       "<ellipse fill=\"none\" stroke=\"black\" cx=\"298.519\" cy=\"-60.9039\" rx=\"25.8081\" ry=\"25.8081\"/>\n",
       "<text text-anchor=\"middle\" x=\"298.519\" y=\"-56.7039\" font-family=\"Times,serif\" font-size=\"14.00\">St4</text>\n",
       "</g>\n",
       "<!-- St2&#45;&gt;St4 -->\n",
       "<g id=\"edge7\" class=\"edge\"><title>St2&#45;&gt;St4</title>\n",
       "<path fill=\"none\" stroke=\"black\" d=\"M225.648,-98.427C234.789,-98.7888 245.482,-98.187 254.615,-94.9039 260.719,-92.7097 266.618,-89.2688 271.987,-85.402\"/>\n",
       "<polygon fill=\"black\" stroke=\"black\" points=\"274.282,-88.0493 279.942,-79.0929 269.932,-82.5648 274.282,-88.0493\"/>\n",
       "<text text-anchor=\"middle\" x=\"251.115\" y=\"-98.7039\" font-family=\"Times,serif\" font-size=\"14.00\">c</text>\n",
       "</g>\n",
       "<!-- St2&#45;&gt;St4 -->\n",
       "<g id=\"edge8\" class=\"edge\"><title>St2&#45;&gt;St4</title>\n",
       "<path fill=\"none\" stroke=\"black\" d=\"M223.752,-86.9498C231.132,-83.6174 239.697,-79.9167 247.615,-76.9039 252.824,-74.9221 258.397,-72.9727 263.861,-71.1537\"/>\n",
       "<polygon fill=\"black\" stroke=\"black\" points=\"265.042,-74.4503 273.479,-68.0414 262.887,-67.7903 265.042,-74.4503\"/>\n",
       "<text text-anchor=\"middle\" x=\"251.115\" y=\"-79.7039\" font-family=\"Times,serif\" font-size=\"14.00\">d</text>\n",
       "</g>\n",
       "<!-- St1&#45;&gt;St4 -->\n",
       "<g id=\"edge5\" class=\"edge\"><title>St1&#45;&gt;St4</title>\n",
       "<path fill=\"none\" stroke=\"black\" d=\"M228.376,-34.2693C236.692,-37.2542 246.087,-40.6772 254.615,-43.9039 257.861,-45.1319 261.237,-46.431 264.605,-47.742\"/>\n",
       "<polygon fill=\"black\" stroke=\"black\" points=\"263.379,-51.0206 273.966,-51.419 265.938,-44.5052 263.379,-51.0206\"/>\n",
       "<text text-anchor=\"middle\" x=\"251.115\" y=\"-46.7039\" font-family=\"Times,serif\" font-size=\"14.00\">c</text>\n",
       "</g>\n",
       "<!-- St1&#45;&gt;St4 -->\n",
       "<g id=\"edge6\" class=\"edge\"><title>St1&#45;&gt;St4</title>\n",
       "<path fill=\"none\" stroke=\"black\" d=\"M229.427,-21.1569C237.658,-20.5514 246.732,-20.9739 254.615,-23.9039 261.182,-26.3441 267.415,-30.2902 272.992,-34.7155\"/>\n",
       "<polygon fill=\"black\" stroke=\"black\" points=\"270.827,-37.471 280.657,-41.4222 275.436,-32.203 270.827,-37.471\"/>\n",
       "<text text-anchor=\"middle\" x=\"251.115\" y=\"-26.7039\" font-family=\"Times,serif\" font-size=\"14.00\">d</text>\n",
       "</g>\n",
       "</g>\n",
       "</svg>\n"
      ],
      "text/plain": [
       "<graphviz.dot.Digraph at 0x107592cf8>"
      ]
     },
     "execution_count": 69,
     "metadata": {},
     "output_type": "execute_result"
    }
   ],
   "source": [
    "dotObj_dfa(min_dfa_brz(dfaMQ0))"
   ]
  },
  {
   "cell_type": "code",
   "execution_count": 70,
   "metadata": {
    "run_control": {
     "frozen": false,
     "read_only": false
    }
   },
   "outputs": [],
   "source": [
    "thirdlast1alt = md2mc('''\n",
    "NFA\n",
    "I : 0   -> I    !! On input 0 in the init state I, stay in I\n",
    "                !! On input 1, fork two paths, one staying in I\n",
    "                !! and the other going to state A.\n",
    "I : 1   -> I,A  !! Threads that land in state A must enter \n",
    "                !! the final state in two more steps. \n",
    "A : 0|1 -> B    !! A move out of F kills this speculative \n",
    "B : 0|1 -> F    !! token, but more tokens may be on their way\n",
    "''')"
   ]
  },
  {
   "cell_type": "code",
   "execution_count": 71,
   "metadata": {
    "run_control": {
     "frozen": false,
     "read_only": false
    }
   },
   "outputs": [
    {
     "data": {
      "image/svg+xml": [
       "<?xml version=\"1.0\" encoding=\"UTF-8\" standalone=\"no\"?>\n",
       "<!DOCTYPE svg PUBLIC \"-//W3C//DTD SVG 1.1//EN\"\n",
       " \"http://www.w3.org/Graphics/SVG/1.1/DTD/svg11.dtd\">\n",
       "<!-- Generated by graphviz version 2.38.0 (20140413.2041)\n",
       " -->\n",
       "<!-- Title: %3 Pages: 1 -->\n",
       "<svg width=\"380pt\" height=\"112pt\"\n",
       " viewBox=\"0.00 0.00 380.00 112.00\" xmlns=\"http://www.w3.org/2000/svg\" xmlns:xlink=\"http://www.w3.org/1999/xlink\">\n",
       "<g id=\"graph0\" class=\"graph\" transform=\"scale(1 1) rotate(0) translate(4 108)\">\n",
       "<title>%3</title>\n",
       "<polygon fill=\"white\" stroke=\"none\" points=\"-4,4 -4,-108 376,-108 376,4 -4,4\"/>\n",
       "<!-- EMPTY -->\n",
       "<g id=\"node1\" class=\"node\"><title>EMPTY</title>\n",
       "</g>\n",
       "<!-- I -->\n",
       "<g id=\"node2\" class=\"node\"><title>I</title>\n",
       "<ellipse fill=\"none\" stroke=\"black\" cx=\"109\" cy=\"-22\" rx=\"18\" ry=\"18\"/>\n",
       "<text text-anchor=\"middle\" x=\"109\" y=\"-17.8\" font-family=\"Times,serif\" font-size=\"14.00\">I</text>\n",
       "</g>\n",
       "<!-- EMPTY&#45;&gt;I -->\n",
       "<g id=\"edge1\" class=\"edge\"><title>EMPTY&#45;&gt;I</title>\n",
       "<path fill=\"none\" stroke=\"black\" d=\"M54.195,-22C62.6538,-22 72.0513,-22 80.5951,-22\"/>\n",
       "<polygon fill=\"black\" stroke=\"black\" points=\"80.8257,-25.5001 90.8257,-22 80.8257,-18.5001 80.8257,-25.5001\"/>\n",
       "</g>\n",
       "<!-- I&#45;&gt;I -->\n",
       "<g id=\"edge2\" class=\"edge\"><title>I&#45;&gt;I</title>\n",
       "<path fill=\"none\" stroke=\"black\" d=\"M105.764,-39.7817C105.214,-49.3149 106.293,-58 109,-58 110.65,-58 111.694,-54.7749 112.135,-50.0981\"/>\n",
       "<polygon fill=\"black\" stroke=\"black\" points=\"115.638,-49.8156 112.236,-39.7817 108.638,-49.7469 115.638,-49.8156\"/>\n",
       "<text text-anchor=\"middle\" x=\"109\" y=\"-60.8\" font-family=\"Times,serif\" font-size=\"14.00\">0</text>\n",
       "</g>\n",
       "<!-- I&#45;&gt;I -->\n",
       "<g id=\"edge3\" class=\"edge\"><title>I&#45;&gt;I</title>\n",
       "<path fill=\"none\" stroke=\"black\" d=\"M103.684,-39.4203C100.654,-56.791 102.426,-76 109,-76 114.29,-76 116.471,-63.5617 115.542,-49.652\"/>\n",
       "<polygon fill=\"black\" stroke=\"black\" points=\"118.981,-48.9328 114.316,-39.4203 112.031,-49.7657 118.981,-48.9328\"/>\n",
       "<text text-anchor=\"middle\" x=\"109\" y=\"-78.8\" font-family=\"Times,serif\" font-size=\"14.00\">1</text>\n",
       "</g>\n",
       "<!-- A -->\n",
       "<g id=\"node4\" class=\"node\"><title>A</title>\n",
       "<ellipse fill=\"none\" stroke=\"black\" cx=\"188\" cy=\"-22\" rx=\"18\" ry=\"18\"/>\n",
       "<text text-anchor=\"middle\" x=\"188\" y=\"-17.8\" font-family=\"Times,serif\" font-size=\"14.00\">A</text>\n",
       "</g>\n",
       "<!-- I&#45;&gt;A -->\n",
       "<g id=\"edge4\" class=\"edge\"><title>I&#45;&gt;A</title>\n",
       "<path fill=\"none\" stroke=\"black\" d=\"M127.089,-22C136.659,-22 148.817,-22 159.677,-22\"/>\n",
       "<polygon fill=\"black\" stroke=\"black\" points=\"159.959,-25.5001 169.959,-22 159.959,-18.5001 159.959,-25.5001\"/>\n",
       "<text text-anchor=\"middle\" x=\"148.5\" y=\"-24.8\" font-family=\"Times,serif\" font-size=\"14.00\">1</text>\n",
       "</g>\n",
       "<!-- B -->\n",
       "<g id=\"node3\" class=\"node\"><title>B</title>\n",
       "<ellipse fill=\"none\" stroke=\"black\" cx=\"267\" cy=\"-22\" rx=\"18\" ry=\"18\"/>\n",
       "<text text-anchor=\"middle\" x=\"267\" y=\"-17.8\" font-family=\"Times,serif\" font-size=\"14.00\">B</text>\n",
       "</g>\n",
       "<!-- F -->\n",
       "<g id=\"node5\" class=\"node\"><title>F</title>\n",
       "<ellipse fill=\"none\" stroke=\"black\" cx=\"350\" cy=\"-22\" rx=\"18\" ry=\"18\"/>\n",
       "<ellipse fill=\"none\" stroke=\"black\" cx=\"350\" cy=\"-22\" rx=\"22\" ry=\"22\"/>\n",
       "<text text-anchor=\"middle\" x=\"350\" y=\"-17.8\" font-family=\"Times,serif\" font-size=\"14.00\">F</text>\n",
       "</g>\n",
       "<!-- B&#45;&gt;F -->\n",
       "<g id=\"edge7\" class=\"edge\"><title>B&#45;&gt;F</title>\n",
       "<path fill=\"none\" stroke=\"black\" d=\"M285.178,-22C294.61,-22 306.601,-22 317.637,-22\"/>\n",
       "<polygon fill=\"black\" stroke=\"black\" points=\"317.811,-25.5001 327.811,-22 317.811,-18.5001 317.811,-25.5001\"/>\n",
       "<text text-anchor=\"middle\" x=\"306.5\" y=\"-24.8\" font-family=\"Times,serif\" font-size=\"14.00\">0</text>\n",
       "</g>\n",
       "<!-- B&#45;&gt;F -->\n",
       "<g id=\"edge8\" class=\"edge\"><title>B&#45;&gt;F</title>\n",
       "<path fill=\"none\" stroke=\"black\" d=\"M282.717,-12.4577C288.75,-9.08304 295.96,-5.70409 303,-4 309.345,-2.46403 315.984,-3.43319 322.181,-5.55343\"/>\n",
       "<polygon fill=\"black\" stroke=\"black\" points=\"320.888,-8.80816 331.45,-9.63813 323.711,-2.40258 320.888,-8.80816\"/>\n",
       "<text text-anchor=\"middle\" x=\"306.5\" y=\"-6.8\" font-family=\"Times,serif\" font-size=\"14.00\">1</text>\n",
       "</g>\n",
       "<!-- A&#45;&gt;B -->\n",
       "<g id=\"edge5\" class=\"edge\"><title>A&#45;&gt;B</title>\n",
       "<path fill=\"none\" stroke=\"black\" d=\"M206.089,-22C215.659,-22 227.817,-22 238.677,-22\"/>\n",
       "<polygon fill=\"black\" stroke=\"black\" points=\"238.959,-25.5001 248.959,-22 238.959,-18.5001 238.959,-25.5001\"/>\n",
       "<text text-anchor=\"middle\" x=\"227.5\" y=\"-24.8\" font-family=\"Times,serif\" font-size=\"14.00\">0</text>\n",
       "</g>\n",
       "<!-- A&#45;&gt;B -->\n",
       "<g id=\"edge6\" class=\"edge\"><title>A&#45;&gt;B</title>\n",
       "<path fill=\"none\" stroke=\"black\" d=\"M202.598,-11.2082C210.631,-6.11089 221.131,-1.61089 231,-4 234.74,-4.9053 238.528,-6.28328 242.162,-7.8822\"/>\n",
       "<polygon fill=\"black\" stroke=\"black\" points=\"240.775,-11.1023 251.283,-12.4577 243.914,-4.84541 240.775,-11.1023\"/>\n",
       "<text text-anchor=\"middle\" x=\"227.5\" y=\"-6.8\" font-family=\"Times,serif\" font-size=\"14.00\">1</text>\n",
       "</g>\n",
       "</g>\n",
       "</svg>\n"
      ],
      "text/plain": [
       "<graphviz.dot.Digraph at 0x107599518>"
      ]
     },
     "execution_count": 71,
     "metadata": {},
     "output_type": "execute_result"
    }
   ],
   "source": [
    "dotObj_nfa(thirdlast1alt)"
   ]
  },
  {
   "cell_type": "code",
   "execution_count": 72,
   "metadata": {
    "run_control": {
     "frozen": false,
     "read_only": false
    }
   },
   "outputs": [],
   "source": [
    "blimp = md2mc('''\n",
    "DFA \n",
    "I1 : a -> F2\n",
    "I1 : b -> F3\n",
    "F2 : a -> S8\n",
    "F2 : b -> S5\n",
    "F3 : a -> S7\n",
    "F3 : b -> S4\n",
    "S4 : a | b -> F6\n",
    "S5 : a | b -> F6\n",
    "F6 : a | b -> F6\n",
    "S7 : a | b -> F6\n",
    "S8 : a -> F6\n",
    "S8 : b -> F9\n",
    "F9 : a -> F9\n",
    "F9 : b -> F6\n",
    "''')"
   ]
  },
  {
   "cell_type": "code",
   "execution_count": 73,
   "metadata": {
    "run_control": {
     "frozen": false,
     "read_only": false
    }
   },
   "outputs": [],
   "source": [
    "DOblimp = dotObj_dfa(blimp)"
   ]
  },
  {
   "cell_type": "code",
   "execution_count": 74,
   "metadata": {
    "run_control": {
     "frozen": false,
     "read_only": false
    }
   },
   "outputs": [
    {
     "data": {
      "image/svg+xml": [
       "<?xml version=\"1.0\" encoding=\"UTF-8\" standalone=\"no\"?>\n",
       "<!DOCTYPE svg PUBLIC \"-//W3C//DTD SVG 1.1//EN\"\n",
       " \"http://www.w3.org/Graphics/SVG/1.1/DTD/svg11.dtd\">\n",
       "<!-- Generated by graphviz version 2.38.0 (20140413.2041)\n",
       " -->\n",
       "<!-- Title: %3 Pages: 1 -->\n",
       "<svg width=\"493pt\" height=\"307pt\"\n",
       " viewBox=\"0.00 0.00 493.00 306.89\" xmlns=\"http://www.w3.org/2000/svg\" xmlns:xlink=\"http://www.w3.org/1999/xlink\">\n",
       "<g id=\"graph0\" class=\"graph\" transform=\"scale(1 1) rotate(0) translate(4 302.894)\">\n",
       "<title>%3</title>\n",
       "<polygon fill=\"white\" stroke=\"none\" points=\"-4,4 -4,-302.894 489.003,-302.894 489.003,4 -4,4\"/>\n",
       "<!-- EMPTY -->\n",
       "<g id=\"node1\" class=\"node\"><title>EMPTY</title>\n",
       "</g>\n",
       "<!-- I1 -->\n",
       "<g id=\"node6\" class=\"node\"><title>I1</title>\n",
       "<ellipse fill=\"none\" stroke=\"black\" cx=\"109\" cy=\"-153.447\" rx=\"18\" ry=\"18\"/>\n",
       "<text text-anchor=\"middle\" x=\"109\" y=\"-149.247\" font-family=\"Times,serif\" font-size=\"14.00\">I1</text>\n",
       "</g>\n",
       "<!-- EMPTY&#45;&gt;I1 -->\n",
       "<g id=\"edge1\" class=\"edge\"><title>EMPTY&#45;&gt;I1</title>\n",
       "<path fill=\"none\" stroke=\"black\" d=\"M54.195,-153.447C62.6538,-153.447 72.0513,-153.447 80.5951,-153.447\"/>\n",
       "<polygon fill=\"black\" stroke=\"black\" points=\"80.8257,-156.947 90.8257,-153.447 80.8257,-149.947 80.8257,-156.947\"/>\n",
       "</g>\n",
       "<!-- S7 -->\n",
       "<g id=\"node2\" class=\"node\"><title>S7</title>\n",
       "<ellipse fill=\"none\" stroke=\"black\" cx=\"371.662\" cy=\"-279.447\" rx=\"19.3939\" ry=\"19.3939\"/>\n",
       "<text text-anchor=\"middle\" x=\"371.662\" y=\"-275.247\" font-family=\"Times,serif\" font-size=\"14.00\">S7</text>\n",
       "</g>\n",
       "<!-- F6 -->\n",
       "<g id=\"node8\" class=\"node\"><title>F6</title>\n",
       "<ellipse fill=\"none\" stroke=\"black\" cx=\"461.556\" cy=\"-148.447\" rx=\"19.4029\" ry=\"19.4029\"/>\n",
       "<ellipse fill=\"none\" stroke=\"black\" cx=\"461.556\" cy=\"-148.447\" rx=\"23.3939\" ry=\"23.3939\"/>\n",
       "<text text-anchor=\"middle\" x=\"461.556\" y=\"-144.247\" font-family=\"Times,serif\" font-size=\"14.00\">F6</text>\n",
       "</g>\n",
       "<!-- S7&#45;&gt;F6 -->\n",
       "<g id=\"edge14\" class=\"edge\"><title>S7&#45;&gt;F6</title>\n",
       "<path fill=\"none\" stroke=\"black\" d=\"M390.467,-274.443C400.356,-270.859 412.218,-265.109 420.109,-256.447 439.137,-235.561 449.477,-204.884 454.926,-181.557\"/>\n",
       "<polygon fill=\"black\" stroke=\"black\" points=\"458.357,-182.251 457.036,-171.739 451.513,-180.78 458.357,-182.251\"/>\n",
       "<text text-anchor=\"middle\" x=\"416.609\" y=\"-265.247\" font-family=\"Times,serif\" font-size=\"14.00\">a</text>\n",
       "</g>\n",
       "<!-- S7&#45;&gt;F6 -->\n",
       "<g id=\"edge15\" class=\"edge\"><title>S7&#45;&gt;F6</title>\n",
       "<path fill=\"none\" stroke=\"black\" d=\"M384.569,-264.585C388.05,-260.102 391.805,-255.128 395.109,-250.447 412.23,-226.189 430.362,-197.681 443.188,-176.979\"/>\n",
       "<polygon fill=\"black\" stroke=\"black\" points=\"446.245,-178.69 448.514,-168.341 440.287,-175.016 446.245,-178.69\"/>\n",
       "<text text-anchor=\"middle\" x=\"416.609\" y=\"-226.247\" font-family=\"Times,serif\" font-size=\"14.00\">b</text>\n",
       "</g>\n",
       "<!-- S8 -->\n",
       "<g id=\"node3\" class=\"node\"><title>S8</title>\n",
       "<ellipse fill=\"none\" stroke=\"black\" cx=\"281.768\" cy=\"-88.4469\" rx=\"19.3939\" ry=\"19.3939\"/>\n",
       "<text text-anchor=\"middle\" x=\"281.768\" y=\"-84.2469\" font-family=\"Times,serif\" font-size=\"14.00\">S8</text>\n",
       "</g>\n",
       "<!-- F9 -->\n",
       "<g id=\"node7\" class=\"node\"><title>F9</title>\n",
       "<ellipse fill=\"none\" stroke=\"black\" cx=\"371.662\" cy=\"-129.447\" rx=\"19.4029\" ry=\"19.4029\"/>\n",
       "<ellipse fill=\"none\" stroke=\"black\" cx=\"371.662\" cy=\"-129.447\" rx=\"23.3939\" ry=\"23.3939\"/>\n",
       "<text text-anchor=\"middle\" x=\"371.662\" y=\"-125.247\" font-family=\"Times,serif\" font-size=\"14.00\">F9</text>\n",
       "</g>\n",
       "<!-- S8&#45;&gt;F9 -->\n",
       "<g id=\"edge17\" class=\"edge\"><title>S8&#45;&gt;F9</title>\n",
       "<path fill=\"none\" stroke=\"black\" d=\"M299.715,-96.3521C311.388,-101.797 327.21,-109.178 340.951,-115.588\"/>\n",
       "<polygon fill=\"black\" stroke=\"black\" points=\"339.513,-118.779 350.055,-119.834 342.472,-112.435 339.513,-118.779\"/>\n",
       "<text text-anchor=\"middle\" x=\"326.715\" y=\"-113.247\" font-family=\"Times,serif\" font-size=\"14.00\">b</text>\n",
       "</g>\n",
       "<!-- S8&#45;&gt;F6 -->\n",
       "<g id=\"edge16\" class=\"edge\"><title>S8&#45;&gt;F6</title>\n",
       "<path fill=\"none\" stroke=\"black\" d=\"M300.691,-83.1518C323.557,-77.3839 363.883,-70.5754 395.109,-83.4469 413.797,-91.1504 429.968,-107.06 441.56,-121.21\"/>\n",
       "<polygon fill=\"black\" stroke=\"black\" points=\"438.93,-123.53 447.84,-129.263 444.45,-119.225 438.93,-123.53\"/>\n",
       "<text text-anchor=\"middle\" x=\"371.662\" y=\"-86.2469\" font-family=\"Times,serif\" font-size=\"14.00\">a</text>\n",
       "</g>\n",
       "<!-- S4 -->\n",
       "<g id=\"node4\" class=\"node\"><title>S4</title>\n",
       "<ellipse fill=\"none\" stroke=\"black\" cx=\"371.662\" cy=\"-222.447\" rx=\"19.3939\" ry=\"19.3939\"/>\n",
       "<text text-anchor=\"middle\" x=\"371.662\" y=\"-218.247\" font-family=\"Times,serif\" font-size=\"14.00\">S4</text>\n",
       "</g>\n",
       "<!-- S4&#45;&gt;F6 -->\n",
       "<g id=\"edge8\" class=\"edge\"><title>S4&#45;&gt;F6</title>\n",
       "<path fill=\"none\" stroke=\"black\" d=\"M387.176,-210.227C400.213,-199.251 419.647,-182.889 435.24,-169.761\"/>\n",
       "<polygon fill=\"black\" stroke=\"black\" points=\"437.595,-172.354 442.99,-163.236 433.086,-166.999 437.595,-172.354\"/>\n",
       "<text text-anchor=\"middle\" x=\"416.609\" y=\"-191.247\" font-family=\"Times,serif\" font-size=\"14.00\">a</text>\n",
       "</g>\n",
       "<!-- S4&#45;&gt;F6 -->\n",
       "<g id=\"edge9\" class=\"edge\"><title>S4&#45;&gt;F6</title>\n",
       "<path fill=\"none\" stroke=\"black\" d=\"M384.566,-207.583C388.047,-203.101 391.803,-198.127 395.109,-193.447 403.645,-181.364 401.529,-174.654 413.109,-165.447 417.646,-161.839 423.013,-158.96 428.476,-156.674\"/>\n",
       "<polygon fill=\"black\" stroke=\"black\" points=\"430.02,-159.839 438.254,-153.171 427.659,-153.249 430.02,-159.839\"/>\n",
       "<text text-anchor=\"middle\" x=\"416.609\" y=\"-168.247\" font-family=\"Times,serif\" font-size=\"14.00\">b</text>\n",
       "</g>\n",
       "<!-- S5 -->\n",
       "<g id=\"node5\" class=\"node\"><title>S5</title>\n",
       "<ellipse fill=\"none\" stroke=\"black\" cx=\"371.662\" cy=\"-19.4469\" rx=\"19.3939\" ry=\"19.3939\"/>\n",
       "<text text-anchor=\"middle\" x=\"371.662\" y=\"-15.2469\" font-family=\"Times,serif\" font-size=\"14.00\">S5</text>\n",
       "</g>\n",
       "<!-- S5&#45;&gt;F6 -->\n",
       "<g id=\"edge10\" class=\"edge\"><title>S5&#45;&gt;F6</title>\n",
       "<path fill=\"none\" stroke=\"black\" d=\"M390.417,-26.0795C400.289,-30.5403 412.151,-37.2903 420.109,-46.4469 437.261,-66.1829 447.648,-94.0786 453.594,-115.71\"/>\n",
       "<polygon fill=\"black\" stroke=\"black\" points=\"450.219,-116.641 456.093,-125.459 457,-114.903 450.219,-116.641\"/>\n",
       "<text text-anchor=\"middle\" x=\"416.609\" y=\"-49.2469\" font-family=\"Times,serif\" font-size=\"14.00\">a</text>\n",
       "</g>\n",
       "<!-- S5&#45;&gt;F6 -->\n",
       "<g id=\"edge11\" class=\"edge\"><title>S5&#45;&gt;F6</title>\n",
       "<path fill=\"none\" stroke=\"black\" d=\"M391.057,-16.0014C400.65,-15.258 412.034,-16.1584 420.109,-22.4469 448.037,-44.1968 456.999,-85.4084 459.708,-114.776\"/>\n",
       "<polygon fill=\"black\" stroke=\"black\" points=\"456.235,-115.28 460.447,-125.002 463.217,-114.776 456.235,-115.28\"/>\n",
       "<text text-anchor=\"middle\" x=\"416.609\" y=\"-25.2469\" font-family=\"Times,serif\" font-size=\"14.00\">b</text>\n",
       "</g>\n",
       "<!-- F3 -->\n",
       "<g id=\"node9\" class=\"node\"><title>F3</title>\n",
       "<ellipse fill=\"none\" stroke=\"black\" cx=\"281.768\" cy=\"-222.447\" rx=\"19.4029\" ry=\"19.4029\"/>\n",
       "<ellipse fill=\"none\" stroke=\"black\" cx=\"281.768\" cy=\"-222.447\" rx=\"23.3939\" ry=\"23.3939\"/>\n",
       "<text text-anchor=\"middle\" x=\"281.768\" y=\"-218.247\" font-family=\"Times,serif\" font-size=\"14.00\">F3</text>\n",
       "</g>\n",
       "<!-- I1&#45;&gt;F3 -->\n",
       "<g id=\"edge3\" class=\"edge\"><title>I1&#45;&gt;F3</title>\n",
       "<path fill=\"none\" stroke=\"black\" d=\"M126.065,-159.938C154.449,-171.407 213.899,-195.428 250.275,-210.126\"/>\n",
       "<polygon fill=\"black\" stroke=\"black\" points=\"249.295,-213.505 259.878,-214.006 251.918,-207.015 249.295,-213.505\"/>\n",
       "<text text-anchor=\"middle\" x=\"192.661\" y=\"-199.247\" font-family=\"Times,serif\" font-size=\"14.00\">b</text>\n",
       "</g>\n",
       "<!-- F2 -->\n",
       "<g id=\"node10\" class=\"node\"><title>F2</title>\n",
       "<ellipse fill=\"none\" stroke=\"black\" cx=\"192.661\" cy=\"-88.4469\" rx=\"19.4029\" ry=\"19.4029\"/>\n",
       "<ellipse fill=\"none\" stroke=\"black\" cx=\"192.661\" cy=\"-88.4469\" rx=\"23.3939\" ry=\"23.3939\"/>\n",
       "<text text-anchor=\"middle\" x=\"192.661\" y=\"-84.2469\" font-family=\"Times,serif\" font-size=\"14.00\">F2</text>\n",
       "</g>\n",
       "<!-- I1&#45;&gt;F2 -->\n",
       "<g id=\"edge2\" class=\"edge\"><title>I1&#45;&gt;F2</title>\n",
       "<path fill=\"none\" stroke=\"black\" d=\"M123.485,-142.713C134.997,-133.55 151.876,-120.114 165.959,-108.905\"/>\n",
       "<polygon fill=\"black\" stroke=\"black\" points=\"168.222,-111.577 173.866,-102.611 163.862,-106.1 168.222,-111.577\"/>\n",
       "<text text-anchor=\"middle\" x=\"148.107\" y=\"-128.247\" font-family=\"Times,serif\" font-size=\"14.00\">a</text>\n",
       "</g>\n",
       "<!-- F9&#45;&gt;F9 -->\n",
       "<g id=\"edge18\" class=\"edge\"><title>F9&#45;&gt;F9</title>\n",
       "<path fill=\"none\" stroke=\"black\" d=\"M363.575,-151.62C362.693,-161.906 365.389,-170.894 371.662,-170.894 375.681,-170.894 378.232,-167.205 379.314,-161.85\"/>\n",
       "<polygon fill=\"black\" stroke=\"black\" points=\"382.821,-161.76 379.749,-151.62 375.827,-161.463 382.821,-161.76\"/>\n",
       "<text text-anchor=\"middle\" x=\"371.662\" y=\"-173.694\" font-family=\"Times,serif\" font-size=\"14.00\">a</text>\n",
       "</g>\n",
       "<!-- F9&#45;&gt;F6 -->\n",
       "<g id=\"edge19\" class=\"edge\"><title>F9&#45;&gt;F6</title>\n",
       "<path fill=\"none\" stroke=\"black\" d=\"M395.562,-128.777C403.423,-128.977 412.224,-129.684 420.109,-131.447 423.559,-132.218 427.087,-133.269 430.551,-134.471\"/>\n",
       "<polygon fill=\"black\" stroke=\"black\" points=\"429.442,-137.795 440.03,-138.16 431.98,-131.272 429.442,-137.795\"/>\n",
       "<text text-anchor=\"middle\" x=\"416.609\" y=\"-134.247\" font-family=\"Times,serif\" font-size=\"14.00\">b</text>\n",
       "</g>\n",
       "<!-- F6&#45;&gt;F6 -->\n",
       "<g id=\"edge12\" class=\"edge\"><title>F6&#45;&gt;F6</title>\n",
       "<path fill=\"none\" stroke=\"black\" d=\"M457.467,-171.881C457.185,-181.63 458.548,-189.894 461.556,-189.894 463.389,-189.894 464.611,-186.825 465.222,-182.222\"/>\n",
       "<polygon fill=\"black\" stroke=\"black\" points=\"468.733,-182.016 465.645,-171.881 461.739,-181.73 468.733,-182.016\"/>\n",
       "<text text-anchor=\"middle\" x=\"461.556\" y=\"-192.694\" font-family=\"Times,serif\" font-size=\"14.00\">a</text>\n",
       "</g>\n",
       "<!-- F6&#45;&gt;F6 -->\n",
       "<g id=\"edge13\" class=\"edge\"><title>F6&#45;&gt;F6</title>\n",
       "<path fill=\"none\" stroke=\"black\" d=\"M454.466,-171.015C451.63,-189.162 453.993,-207.894 461.556,-207.894 467.7,-207.894 470.413,-195.528 469.693,-181.157\"/>\n",
       "<polygon fill=\"black\" stroke=\"black\" points=\"473.154,-180.603 468.646,-171.015 466.191,-181.322 473.154,-180.603\"/>\n",
       "<text text-anchor=\"middle\" x=\"461.556\" y=\"-210.694\" font-family=\"Times,serif\" font-size=\"14.00\">b</text>\n",
       "</g>\n",
       "<!-- F3&#45;&gt;S7 -->\n",
       "<g id=\"edge6\" class=\"edge\"><title>F3&#45;&gt;S7</title>\n",
       "<path fill=\"none\" stroke=\"black\" d=\"M301.84,-234.815C314.845,-243.249 332.183,-254.493 346.203,-263.585\"/>\n",
       "<polygon fill=\"black\" stroke=\"black\" points=\"344.563,-266.693 354.858,-269.198 348.372,-260.82 344.563,-266.693\"/>\n",
       "<text text-anchor=\"middle\" x=\"326.715\" y=\"-256.247\" font-family=\"Times,serif\" font-size=\"14.00\">a</text>\n",
       "</g>\n",
       "<!-- F3&#45;&gt;S4 -->\n",
       "<g id=\"edge7\" class=\"edge\"><title>F3&#45;&gt;S4</title>\n",
       "<path fill=\"none\" stroke=\"black\" d=\"M305.403,-222.447C316.463,-222.447 329.899,-222.447 341.698,-222.447\"/>\n",
       "<polygon fill=\"black\" stroke=\"black\" points=\"341.958,-225.947 351.958,-222.447 341.958,-218.947 341.958,-225.947\"/>\n",
       "<text text-anchor=\"middle\" x=\"326.715\" y=\"-225.247\" font-family=\"Times,serif\" font-size=\"14.00\">b</text>\n",
       "</g>\n",
       "<!-- F2&#45;&gt;S8 -->\n",
       "<g id=\"edge4\" class=\"edge\"><title>F2&#45;&gt;S8</title>\n",
       "<path fill=\"none\" stroke=\"black\" d=\"M216.547,-88.4469C227.43,-88.4469 240.555,-88.4469 252.095,-88.4469\"/>\n",
       "<polygon fill=\"black\" stroke=\"black\" points=\"252.138,-91.947 262.138,-88.4469 252.138,-84.947 252.138,-91.947\"/>\n",
       "<text text-anchor=\"middle\" x=\"237.215\" y=\"-91.2469\" font-family=\"Times,serif\" font-size=\"14.00\">a</text>\n",
       "</g>\n",
       "<!-- F2&#45;&gt;S5 -->\n",
       "<g id=\"edge5\" class=\"edge\"><title>F2&#45;&gt;S5</title>\n",
       "<path fill=\"none\" stroke=\"black\" d=\"M211.665,-74.3527C224.139,-65.2082 241.473,-53.6889 258.321,-46.4469 285.649,-34.7004 319.012,-27.5029 342.248,-23.5256\"/>\n",
       "<polygon fill=\"black\" stroke=\"black\" points=\"342.843,-26.975 352.154,-21.9201 341.723,-20.0652 342.843,-26.975\"/>\n",
       "<text text-anchor=\"middle\" x=\"281.768\" y=\"-49.2469\" font-family=\"Times,serif\" font-size=\"14.00\">b</text>\n",
       "</g>\n",
       "</g>\n",
       "</svg>\n"
      ],
      "text/plain": [
       "<graphviz.dot.Digraph at 0x1075a1828>"
      ]
     },
     "execution_count": 74,
     "metadata": {},
     "output_type": "execute_result"
    }
   ],
   "source": [
    "DOblimp"
   ]
  },
  {
   "cell_type": "code",
   "execution_count": 75,
   "metadata": {
    "run_control": {
     "frozen": false,
     "read_only": false
    }
   },
   "outputs": [
    {
     "data": {
      "image/svg+xml": [
       "<?xml version=\"1.0\" encoding=\"UTF-8\" standalone=\"no\"?>\n",
       "<!DOCTYPE svg PUBLIC \"-//W3C//DTD SVG 1.1//EN\"\n",
       " \"http://www.w3.org/Graphics/SVG/1.1/DTD/svg11.dtd\">\n",
       "<!-- Generated by graphviz version 2.38.0 (20140413.2041)\n",
       " -->\n",
       "<!-- Title: %3 Pages: 1 -->\n",
       "<svg width=\"529pt\" height=\"308pt\"\n",
       " viewBox=\"0.00 0.00 529.18 307.89\" xmlns=\"http://www.w3.org/2000/svg\" xmlns:xlink=\"http://www.w3.org/1999/xlink\">\n",
       "<g id=\"graph0\" class=\"graph\" transform=\"scale(1 1) rotate(0) translate(4 303.894)\">\n",
       "<title>%3</title>\n",
       "<polygon fill=\"white\" stroke=\"none\" points=\"-4,4 -4,-303.894 525.183,-303.894 525.183,4 -4,4\"/>\n",
       "<!-- EMPTY -->\n",
       "<g id=\"node1\" class=\"node\"><title>EMPTY</title>\n",
       "</g>\n",
       "<!-- I1 -->\n",
       "<g id=\"node6\" class=\"node\"><title>I1</title>\n",
       "<ellipse fill=\"none\" stroke=\"black\" cx=\"109\" cy=\"-156.447\" rx=\"18\" ry=\"18\"/>\n",
       "<text text-anchor=\"middle\" x=\"109\" y=\"-152.247\" font-family=\"Times,serif\" font-size=\"14.00\">I1</text>\n",
       "</g>\n",
       "<!-- EMPTY&#45;&gt;I1 -->\n",
       "<g id=\"edge1\" class=\"edge\"><title>EMPTY&#45;&gt;I1</title>\n",
       "<path fill=\"none\" stroke=\"black\" d=\"M54.195,-156.447C62.6538,-156.447 72.0513,-156.447 80.5951,-156.447\"/>\n",
       "<polygon fill=\"black\" stroke=\"black\" points=\"80.8257,-159.947 90.8257,-156.447 80.8257,-152.947 80.8257,-159.947\"/>\n",
       "</g>\n",
       "<!-- S7 -->\n",
       "<g id=\"node2\" class=\"node\"><title>S7</title>\n",
       "<ellipse fill=\"none\" stroke=\"black\" cx=\"404.342\" cy=\"-280.447\" rx=\"19.3939\" ry=\"19.3939\"/>\n",
       "<text text-anchor=\"middle\" x=\"404.342\" y=\"-276.247\" font-family=\"Times,serif\" font-size=\"14.00\">S7</text>\n",
       "</g>\n",
       "<!-- F6 -->\n",
       "<g id=\"node8\" class=\"node\"><title>F6</title>\n",
       "<ellipse fill=\"none\" stroke=\"black\" cx=\"497.736\" cy=\"-130.447\" rx=\"19.4029\" ry=\"19.4029\"/>\n",
       "<ellipse fill=\"none\" stroke=\"black\" cx=\"497.736\" cy=\"-130.447\" rx=\"23.3939\" ry=\"23.3939\"/>\n",
       "<text text-anchor=\"middle\" x=\"497.736\" y=\"-126.247\" font-family=\"Times,serif\" font-size=\"14.00\">F6</text>\n",
       "</g>\n",
       "<!-- S7&#45;&gt;F6 -->\n",
       "<g id=\"edge11\" class=\"edge\"><title>S7&#45;&gt;F6</title>\n",
       "<path fill=\"none\" stroke=\"black\" d=\"M417.072,-265.456C420.547,-260.97 424.344,-256.026 427.789,-251.447 440.694,-234.29 445.166,-230.809 456.289,-212.447 466.233,-196.032 475.806,-176.831 483.14,-161.138\"/>\n",
       "<polygon fill=\"black\" stroke=\"black\" points=\"486.401,-162.424 487.401,-151.876 480.042,-159.498 486.401,-162.424\"/>\n",
       "<text text-anchor=\"middle\" x=\"451.039\" y=\"-245.247\" font-family=\"Times,serif\" font-size=\"14.00\">b </text>\n",
       "<text text-anchor=\"middle\" x=\"451.039\" y=\"-231.247\" font-family=\"Times,serif\" font-size=\"14.00\"> a</text>\n",
       "</g>\n",
       "<!-- S8 -->\n",
       "<g id=\"node3\" class=\"node\"><title>S8</title>\n",
       "<ellipse fill=\"none\" stroke=\"black\" cx=\"282.554\" cy=\"-92.4469\" rx=\"19.3939\" ry=\"19.3939\"/>\n",
       "<text text-anchor=\"middle\" x=\"282.554\" y=\"-88.2469\" font-family=\"Times,serif\" font-size=\"14.00\">S8</text>\n",
       "</g>\n",
       "<!-- F9 -->\n",
       "<g id=\"node7\" class=\"node\"><title>F9</title>\n",
       "<ellipse fill=\"none\" stroke=\"black\" cx=\"404.342\" cy=\"-130.447\" rx=\"19.4029\" ry=\"19.4029\"/>\n",
       "<ellipse fill=\"none\" stroke=\"black\" cx=\"404.342\" cy=\"-130.447\" rx=\"23.3939\" ry=\"23.3939\"/>\n",
       "<text text-anchor=\"middle\" x=\"404.342\" y=\"-126.247\" font-family=\"Times,serif\" font-size=\"14.00\">F9</text>\n",
       "</g>\n",
       "<!-- S8&#45;&gt;F9 -->\n",
       "<g id=\"edge13\" class=\"edge\"><title>S8&#45;&gt;F9</title>\n",
       "<path fill=\"none\" stroke=\"black\" d=\"M301.23,-98.0539C319.741,-103.926 349.199,-113.271 371.728,-120.418\"/>\n",
       "<polygon fill=\"black\" stroke=\"black\" points=\"370.938,-123.839 381.528,-123.527 373.054,-117.167 370.938,-123.839\"/>\n",
       "<text text-anchor=\"middle\" x=\"343.448\" y=\"-120.247\" font-family=\"Times,serif\" font-size=\"14.00\">b</text>\n",
       "</g>\n",
       "<!-- S8&#45;&gt;F6 -->\n",
       "<g id=\"edge12\" class=\"edge\"><title>S8&#45;&gt;F6</title>\n",
       "<path fill=\"none\" stroke=\"black\" d=\"M301.792,-87.5104C329.634,-80.839 384.106,-71.2122 427.789,-84.4469 443.789,-89.2946 459.468,-99.2173 471.821,-108.61\"/>\n",
       "<polygon fill=\"black\" stroke=\"black\" points=\"469.8,-111.474 479.805,-114.959 474.157,-105.995 469.8,-111.474\"/>\n",
       "<text text-anchor=\"middle\" x=\"404.342\" y=\"-87.2469\" font-family=\"Times,serif\" font-size=\"14.00\">a</text>\n",
       "</g>\n",
       "<!-- S4 -->\n",
       "<g id=\"node4\" class=\"node\"><title>S4</title>\n",
       "<ellipse fill=\"none\" stroke=\"black\" cx=\"404.342\" cy=\"-223.447\" rx=\"19.3939\" ry=\"19.3939\"/>\n",
       "<text text-anchor=\"middle\" x=\"404.342\" y=\"-219.247\" font-family=\"Times,serif\" font-size=\"14.00\">S4</text>\n",
       "</g>\n",
       "<!-- S4&#45;&gt;F6 -->\n",
       "<g id=\"edge8\" class=\"edge\"><title>S4&#45;&gt;F6</title>\n",
       "<path fill=\"none\" stroke=\"black\" d=\"M418.827,-209.724C433.252,-195.046 456.388,-171.503 473.707,-153.88\"/>\n",
       "<polygon fill=\"black\" stroke=\"black\" points=\"476.218,-156.318 480.731,-146.733 471.226,-151.412 476.218,-156.318\"/>\n",
       "<text text-anchor=\"middle\" x=\"451.039\" y=\"-197.247\" font-family=\"Times,serif\" font-size=\"14.00\">b </text>\n",
       "<text text-anchor=\"middle\" x=\"451.039\" y=\"-183.247\" font-family=\"Times,serif\" font-size=\"14.00\"> a</text>\n",
       "</g>\n",
       "<!-- S5 -->\n",
       "<g id=\"node5\" class=\"node\"><title>S5</title>\n",
       "<ellipse fill=\"none\" stroke=\"black\" cx=\"343.448\" cy=\"-19.4469\" rx=\"19.3939\" ry=\"19.3939\"/>\n",
       "<text text-anchor=\"middle\" x=\"343.448\" y=\"-15.2469\" font-family=\"Times,serif\" font-size=\"14.00\">S5</text>\n",
       "</g>\n",
       "<!-- S5&#45;&gt;F6 -->\n",
       "<g id=\"edge9\" class=\"edge\"><title>S5&#45;&gt;F6</title>\n",
       "<path fill=\"none\" stroke=\"black\" d=\"M362.83,-16.7003C380.531,-14.9568 407.528,-14.7307 427.789,-25.4469 456.55,-40.6591 475.205,-73.8033 485.765,-98.8113\"/>\n",
       "<polygon fill=\"black\" stroke=\"black\" points=\"482.587,-100.291 489.547,-108.279 489.088,-97.6943 482.587,-100.291\"/>\n",
       "<text text-anchor=\"middle\" x=\"404.342\" y=\"-42.2469\" font-family=\"Times,serif\" font-size=\"14.00\">b </text>\n",
       "<text text-anchor=\"middle\" x=\"404.342\" y=\"-28.2469\" font-family=\"Times,serif\" font-size=\"14.00\"> a</text>\n",
       "</g>\n",
       "<!-- F3 -->\n",
       "<g id=\"node9\" class=\"node\"><title>F3</title>\n",
       "<ellipse fill=\"none\" stroke=\"black\" cx=\"282.554\" cy=\"-223.447\" rx=\"19.4029\" ry=\"19.4029\"/>\n",
       "<ellipse fill=\"none\" stroke=\"black\" cx=\"282.554\" cy=\"-223.447\" rx=\"23.3939\" ry=\"23.3939\"/>\n",
       "<text text-anchor=\"middle\" x=\"282.554\" y=\"-219.247\" font-family=\"Times,serif\" font-size=\"14.00\">F3</text>\n",
       "</g>\n",
       "<!-- I1&#45;&gt;F3 -->\n",
       "<g id=\"edge3\" class=\"edge\"><title>I1&#45;&gt;F3</title>\n",
       "<path fill=\"none\" stroke=\"black\" d=\"M126.139,-162.75C154.654,-173.886 214.377,-197.211 250.921,-211.483\"/>\n",
       "<polygon fill=\"black\" stroke=\"black\" points=\"249.98,-214.873 260.568,-215.251 252.527,-208.353 249.98,-214.873\"/>\n",
       "<text text-anchor=\"middle\" x=\"192.661\" y=\"-201.247\" font-family=\"Times,serif\" font-size=\"14.00\">b</text>\n",
       "</g>\n",
       "<!-- F2 -->\n",
       "<g id=\"node10\" class=\"node\"><title>F2</title>\n",
       "<ellipse fill=\"none\" stroke=\"black\" cx=\"192.661\" cy=\"-92.4469\" rx=\"19.4029\" ry=\"19.4029\"/>\n",
       "<ellipse fill=\"none\" stroke=\"black\" cx=\"192.661\" cy=\"-92.4469\" rx=\"23.3939\" ry=\"23.3939\"/>\n",
       "<text text-anchor=\"middle\" x=\"192.661\" y=\"-88.2469\" font-family=\"Times,serif\" font-size=\"14.00\">F2</text>\n",
       "</g>\n",
       "<!-- I1&#45;&gt;F2 -->\n",
       "<g id=\"edge2\" class=\"edge\"><title>I1&#45;&gt;F2</title>\n",
       "<path fill=\"none\" stroke=\"black\" d=\"M123.853,-145.59C135.233,-136.671 151.674,-123.785 165.517,-112.936\"/>\n",
       "<polygon fill=\"black\" stroke=\"black\" points=\"168.02,-115.421 173.732,-106.498 163.702,-109.912 168.02,-115.421\"/>\n",
       "<text text-anchor=\"middle\" x=\"148.107\" y=\"-131.247\" font-family=\"Times,serif\" font-size=\"14.00\">a</text>\n",
       "</g>\n",
       "<!-- F9&#45;&gt;F9 -->\n",
       "<g id=\"edge14\" class=\"edge\"><title>F9&#45;&gt;F9</title>\n",
       "<path fill=\"none\" stroke=\"black\" d=\"M395.887,-152.62C394.965,-162.906 397.783,-171.894 404.342,-171.894 408.544,-171.894 411.21,-168.205 412.341,-162.85\"/>\n",
       "<polygon fill=\"black\" stroke=\"black\" points=\"415.849,-162.766 412.796,-152.62 408.855,-162.455 415.849,-162.766\"/>\n",
       "<text text-anchor=\"middle\" x=\"404.342\" y=\"-174.694\" font-family=\"Times,serif\" font-size=\"14.00\">a</text>\n",
       "</g>\n",
       "<!-- F9&#45;&gt;F6 -->\n",
       "<g id=\"edge15\" class=\"edge\"><title>F9&#45;&gt;F6</title>\n",
       "<path fill=\"none\" stroke=\"black\" d=\"M427.934,-130.447C438.809,-130.447 452.053,-130.447 464.007,-130.447\"/>\n",
       "<polygon fill=\"black\" stroke=\"black\" points=\"464.087,-133.947 474.087,-130.447 464.087,-126.947 464.087,-133.947\"/>\n",
       "<text text-anchor=\"middle\" x=\"451.039\" y=\"-133.247\" font-family=\"Times,serif\" font-size=\"14.00\">b</text>\n",
       "</g>\n",
       "<!-- F6&#45;&gt;F6 -->\n",
       "<g id=\"edge10\" class=\"edge\"><title>F6&#45;&gt;F6</title>\n",
       "<path fill=\"none\" stroke=\"black\" d=\"M489.281,-152.62C488.359,-162.906 491.177,-171.894 497.736,-171.894 501.937,-171.894 504.604,-168.205 505.735,-162.85\"/>\n",
       "<polygon fill=\"black\" stroke=\"black\" points=\"509.242,-162.766 506.19,-152.62 502.249,-162.455 509.242,-162.766\"/>\n",
       "<text text-anchor=\"middle\" x=\"497.736\" y=\"-188.694\" font-family=\"Times,serif\" font-size=\"14.00\">b </text>\n",
       "<text text-anchor=\"middle\" x=\"497.736\" y=\"-174.694\" font-family=\"Times,serif\" font-size=\"14.00\"> a</text>\n",
       "</g>\n",
       "<!-- F3&#45;&gt;S7 -->\n",
       "<g id=\"edge6\" class=\"edge\"><title>F3&#45;&gt;S7</title>\n",
       "<path fill=\"none\" stroke=\"black\" d=\"M304.147,-233.246C324.425,-242.895 355.463,-257.664 377.412,-268.108\"/>\n",
       "<polygon fill=\"black\" stroke=\"black\" points=\"375.961,-271.294 386.495,-272.43 378.969,-264.973 375.961,-271.294\"/>\n",
       "<text text-anchor=\"middle\" x=\"343.448\" y=\"-263.247\" font-family=\"Times,serif\" font-size=\"14.00\">a</text>\n",
       "</g>\n",
       "<!-- F3&#45;&gt;S4 -->\n",
       "<g id=\"edge7\" class=\"edge\"><title>F3&#45;&gt;S4</title>\n",
       "<path fill=\"none\" stroke=\"black\" d=\"M306.086,-223.447C325.477,-223.447 353.568,-223.447 374.58,-223.447\"/>\n",
       "<polygon fill=\"black\" stroke=\"black\" points=\"374.839,-226.947 384.839,-223.447 374.839,-219.947 374.839,-226.947\"/>\n",
       "<text text-anchor=\"middle\" x=\"343.448\" y=\"-226.247\" font-family=\"Times,serif\" font-size=\"14.00\">b</text>\n",
       "</g>\n",
       "<!-- F2&#45;&gt;S8 -->\n",
       "<g id=\"edge4\" class=\"edge\"><title>F2&#45;&gt;S8</title>\n",
       "<path fill=\"none\" stroke=\"black\" d=\"M216.296,-92.4469C227.355,-92.4469 240.791,-92.4469 252.59,-92.4469\"/>\n",
       "<polygon fill=\"black\" stroke=\"black\" points=\"252.851,-95.947 262.851,-92.4469 252.851,-88.947 252.851,-95.947\"/>\n",
       "<text text-anchor=\"middle\" x=\"237.608\" y=\"-95.2469\" font-family=\"Times,serif\" font-size=\"14.00\">a</text>\n",
       "</g>\n",
       "<!-- F2&#45;&gt;S5 -->\n",
       "<g id=\"edge5\" class=\"edge\"><title>F2&#45;&gt;S5</title>\n",
       "<path fill=\"none\" stroke=\"black\" d=\"M214.037,-82.4496C240.637,-69.3988 287.227,-46.5403 316.374,-32.2395\"/>\n",
       "<polygon fill=\"black\" stroke=\"black\" points=\"318.101,-35.2913 325.537,-27.7443 315.017,-29.0069 318.101,-35.2913\"/>\n",
       "<text text-anchor=\"middle\" x=\"237.608\" y=\"-76.2469\" font-family=\"Times,serif\" font-size=\"14.00\">b</text>\n",
       "</g>\n",
       "</g>\n",
       "</svg>\n"
      ],
      "text/plain": [
       "<graphviz.dot.Digraph at 0x1075a12b0>"
      ]
     },
     "execution_count": 75,
     "metadata": {},
     "output_type": "execute_result"
    }
   ],
   "source": [
    "dotObj_dfa(blimp, True)"
   ]
  },
  {
   "cell_type": "code",
   "execution_count": 76,
   "metadata": {
    "run_control": {
     "frozen": false,
     "read_only": false
    }
   },
   "outputs": [
    {
     "data": {
      "image/svg+xml": [
       "<?xml version=\"1.0\" encoding=\"UTF-8\" standalone=\"no\"?>\n",
       "<!DOCTYPE svg PUBLIC \"-//W3C//DTD SVG 1.1//EN\"\n",
       " \"http://www.w3.org/Graphics/SVG/1.1/DTD/svg11.dtd\">\n",
       "<!-- Generated by graphviz version 2.38.0 (20140413.2041)\n",
       " -->\n",
       "<!-- Title: %3 Pages: 1 -->\n",
       "<svg width=\"469pt\" height=\"353pt\"\n",
       " viewBox=\"0.00 0.00 469.00 352.54\" xmlns=\"http://www.w3.org/2000/svg\" xmlns:xlink=\"http://www.w3.org/1999/xlink\">\n",
       "<g id=\"graph0\" class=\"graph\" transform=\"scale(1 1) rotate(0) translate(4 348.538)\">\n",
       "<title>%3</title>\n",
       "<polygon fill=\"white\" stroke=\"none\" points=\"-4,4 -4,-348.538 465.003,-348.538 465.003,4 -4,4\"/>\n",
       "<!-- EMPTY -->\n",
       "<g id=\"node1\" class=\"node\"><title>EMPTY</title>\n",
       "</g>\n",
       "<!-- F9 -->\n",
       "<g id=\"node4\" class=\"node\"><title>F9</title>\n",
       "<ellipse fill=\"none\" stroke=\"black\" cx=\"192.341\" cy=\"-47\" rx=\"19.3939\" ry=\"19.3939\"/>\n",
       "<text text-anchor=\"middle\" x=\"192.341\" y=\"-42.8\" font-family=\"Times,serif\" font-size=\"14.00\">F9</text>\n",
       "</g>\n",
       "<!-- EMPTY&#45;&gt;F9 -->\n",
       "<g id=\"edge1\" class=\"edge\"><title>EMPTY&#45;&gt;F9</title>\n",
       "<path fill=\"none\" stroke=\"black\" d=\"M54.2435,-81.4126C84.0912,-73.9206 132.64,-61.7344 163.239,-54.0538\"/>\n",
       "<polygon fill=\"black\" stroke=\"black\" points=\"164.406,-57.3694 173.253,-51.5401 162.702,-50.58 164.406,-57.3694\"/>\n",
       "</g>\n",
       "<!-- F3 -->\n",
       "<g id=\"node5\" class=\"node\"><title>F3</title>\n",
       "<ellipse fill=\"none\" stroke=\"black\" cx=\"274.234\" cy=\"-278\" rx=\"19.3939\" ry=\"19.3939\"/>\n",
       "<text text-anchor=\"middle\" x=\"274.234\" y=\"-273.8\" font-family=\"Times,serif\" font-size=\"14.00\">F3</text>\n",
       "</g>\n",
       "<!-- EMPTY&#45;&gt;F3 -->\n",
       "<g id=\"edge3\" class=\"edge\"><title>EMPTY&#45;&gt;F3</title>\n",
       "<path fill=\"none\" stroke=\"black\" d=\"M29.9033,-106.126C34.542,-142.745 49.2852,-226.748 91,-282 126.542,-329.076 157.063,-359.016 211.787,-337 229.626,-329.823 245.195,-314.718 256.198,-301.589\"/>\n",
       "<polygon fill=\"black\" stroke=\"black\" points=\"258.943,-303.76 262.438,-293.758 253.469,-299.397 258.943,-303.76\"/>\n",
       "</g>\n",
       "<!-- F6 -->\n",
       "<g id=\"node6\" class=\"node\"><title>F6</title>\n",
       "<ellipse fill=\"none\" stroke=\"black\" cx=\"110.447\" cy=\"-190\" rx=\"19.3939\" ry=\"19.3939\"/>\n",
       "<text text-anchor=\"middle\" x=\"110.447\" y=\"-185.8\" font-family=\"Times,serif\" font-size=\"14.00\">F6</text>\n",
       "</g>\n",
       "<!-- EMPTY&#45;&gt;F6 -->\n",
       "<g id=\"edge2\" class=\"edge\"><title>EMPTY&#45;&gt;F6</title>\n",
       "<path fill=\"none\" stroke=\"black\" d=\"M42.5611,-106.236C56.2106,-123.33 76.6604,-148.94 91.3526,-167.34\"/>\n",
       "<polygon fill=\"black\" stroke=\"black\" points=\"88.6779,-169.599 97.6528,-175.23 94.148,-165.231 88.6779,-169.599\"/>\n",
       "</g>\n",
       "<!-- F2 -->\n",
       "<g id=\"node9\" class=\"node\"><title>F2</title>\n",
       "<ellipse fill=\"none\" stroke=\"black\" cx=\"355.342\" cy=\"-155\" rx=\"19.3939\" ry=\"19.3939\"/>\n",
       "<text text-anchor=\"middle\" x=\"355.342\" y=\"-150.8\" font-family=\"Times,serif\" font-size=\"14.00\">F2</text>\n",
       "</g>\n",
       "<!-- EMPTY&#45;&gt;F2 -->\n",
       "<g id=\"edge4\" class=\"edge\"><title>EMPTY&#45;&gt;F2</title>\n",
       "<path fill=\"none\" stroke=\"black\" d=\"M35.1738,-69.7663C46.6546,-43.9906 71.7679,-0 109.447,-0 109.447,-0 109.447,-0 275.234,-0 330.894,-0 347.412,-80.274 352.299,-125.284\"/>\n",
       "<polygon fill=\"black\" stroke=\"black\" points=\"348.828,-125.748 353.265,-135.369 355.796,-125.081 348.828,-125.748\"/>\n",
       "</g>\n",
       "<!-- S7 -->\n",
       "<g id=\"node2\" class=\"node\"><title>S7</title>\n",
       "<ellipse fill=\"none\" stroke=\"black\" cx=\"192.341\" cy=\"-252\" rx=\"19.3939\" ry=\"19.3939\"/>\n",
       "<text text-anchor=\"middle\" x=\"192.341\" y=\"-247.8\" font-family=\"Times,serif\" font-size=\"14.00\">S7</text>\n",
       "</g>\n",
       "<!-- S7&#45;&gt;F3 -->\n",
       "<g id=\"edge5\" class=\"edge\"><title>S7&#45;&gt;F3</title>\n",
       "<path fill=\"none\" stroke=\"black\" d=\"M211.686,-256.032C219.496,-257.905 228.661,-260.314 236.787,-263 239.971,-264.052 243.271,-265.251 246.526,-266.502\"/>\n",
       "<polygon fill=\"black\" stroke=\"black\" points=\"245.414,-269.827 255.997,-270.316 248.029,-263.334 245.414,-269.827\"/>\n",
       "<text text-anchor=\"middle\" x=\"233.287\" y=\"-265.8\" font-family=\"Times,serif\" font-size=\"14.00\">a</text>\n",
       "</g>\n",
       "<!-- S8 -->\n",
       "<g id=\"node3\" class=\"node\"><title>S8</title>\n",
       "<ellipse fill=\"none\" stroke=\"black\" cx=\"274.234\" cy=\"-187\" rx=\"19.3939\" ry=\"19.3939\"/>\n",
       "<text text-anchor=\"middle\" x=\"274.234\" y=\"-182.8\" font-family=\"Times,serif\" font-size=\"14.00\">S8</text>\n",
       "</g>\n",
       "<!-- S8&#45;&gt;F2 -->\n",
       "<g id=\"edge6\" class=\"edge\"><title>S8&#45;&gt;F2</title>\n",
       "<path fill=\"none\" stroke=\"black\" d=\"M292.4,-180.056C302.695,-175.892 316.008,-170.507 327.652,-165.797\"/>\n",
       "<polygon fill=\"black\" stroke=\"black\" points=\"328.979,-169.035 336.937,-162.04 326.354,-162.546 328.979,-169.035\"/>\n",
       "<text text-anchor=\"middle\" x=\"314.788\" y=\"-174.8\" font-family=\"Times,serif\" font-size=\"14.00\">a</text>\n",
       "</g>\n",
       "<!-- F9&#45;&gt;S8 -->\n",
       "<g id=\"edge7\" class=\"edge\"><title>F9&#45;&gt;S8</title>\n",
       "<path fill=\"none\" stroke=\"black\" d=\"M202.819,-63.6096C216.634,-87.8173 242.417,-132.999 258.658,-161.457\"/>\n",
       "<polygon fill=\"black\" stroke=\"black\" points=\"255.772,-163.461 263.768,-170.412 261.851,-159.992 255.772,-163.461\"/>\n",
       "<text text-anchor=\"middle\" x=\"233.287\" y=\"-124.8\" font-family=\"Times,serif\" font-size=\"14.00\">b</text>\n",
       "</g>\n",
       "<!-- F9&#45;&gt;F9 -->\n",
       "<g id=\"edge8\" class=\"edge\"><title>F9&#45;&gt;F9</title>\n",
       "<path fill=\"none\" stroke=\"black\" d=\"M185.199,-65.1096C183.866,-75.1766 186.247,-84.4469 192.341,-84.4469 196.244,-84.4469 198.624,-80.6423 199.48,-75.2611\"/>\n",
       "<polygon fill=\"black\" stroke=\"black\" points=\"202.98,-75.1102 199.482,-65.1096 195.98,-75.109 202.98,-75.1102\"/>\n",
       "<text text-anchor=\"middle\" x=\"192.341\" y=\"-87.2469\" font-family=\"Times,serif\" font-size=\"14.00\">a</text>\n",
       "</g>\n",
       "<!-- I1 -->\n",
       "<g id=\"node10\" class=\"node\"><title>I1</title>\n",
       "<ellipse fill=\"none\" stroke=\"black\" cx=\"439.003\" cy=\"-208\" rx=\"18\" ry=\"18\"/>\n",
       "<ellipse fill=\"none\" stroke=\"black\" cx=\"439.003\" cy=\"-208\" rx=\"22\" ry=\"22\"/>\n",
       "<text text-anchor=\"middle\" x=\"439.003\" y=\"-203.8\" font-family=\"Times,serif\" font-size=\"14.00\">I1</text>\n",
       "</g>\n",
       "<!-- F3&#45;&gt;I1 -->\n",
       "<g id=\"edge9\" class=\"edge\"><title>F3&#45;&gt;I1</title>\n",
       "<path fill=\"none\" stroke=\"black\" d=\"M292.346,-270.641C320.13,-258.692 375.352,-234.943 409.248,-220.366\"/>\n",
       "<polygon fill=\"black\" stroke=\"black\" points=\"410.811,-223.504 418.615,-216.338 408.046,-217.073 410.811,-223.504\"/>\n",
       "<text text-anchor=\"middle\" x=\"355.342\" y=\"-254.8\" font-family=\"Times,serif\" font-size=\"14.00\">b</text>\n",
       "</g>\n",
       "<!-- F6&#45;&gt;S7 -->\n",
       "<g id=\"edge10\" class=\"edge\"><title>F6&#45;&gt;S7</title>\n",
       "<path fill=\"none\" stroke=\"black\" d=\"M120.596,-206.79C127.005,-217.121 136.454,-229.893 147.894,-238 152.385,-241.183 157.639,-243.67 162.909,-245.603\"/>\n",
       "<polygon fill=\"black\" stroke=\"black\" points=\"162.283,-249.073 172.871,-248.678 164.348,-242.384 162.283,-249.073\"/>\n",
       "<text text-anchor=\"middle\" x=\"151.394\" y=\"-244.8\" font-family=\"Times,serif\" font-size=\"14.00\">b</text>\n",
       "</g>\n",
       "<!-- F6&#45;&gt;S7 -->\n",
       "<g id=\"edge15\" class=\"edge\"><title>F6&#45;&gt;S7</title>\n",
       "<path fill=\"none\" stroke=\"black\" d=\"M127.449,-200.401C135.795,-205.986 146.076,-213.122 154.894,-220 159.828,-223.848 164.968,-228.159 169.78,-232.339\"/>\n",
       "<polygon fill=\"black\" stroke=\"black\" points=\"167.664,-235.14 177.472,-239.146 172.303,-229.898 167.664,-235.14\"/>\n",
       "<text text-anchor=\"middle\" x=\"151.394\" y=\"-222.8\" font-family=\"Times,serif\" font-size=\"14.00\">a</text>\n",
       "</g>\n",
       "<!-- F6&#45;&gt;S8 -->\n",
       "<g id=\"edge16\" class=\"edge\"><title>F6&#45;&gt;S8</title>\n",
       "<path fill=\"none\" stroke=\"black\" d=\"M130.006,-189.656C157.97,-189.137 211.151,-188.151 244.253,-187.537\"/>\n",
       "<polygon fill=\"black\" stroke=\"black\" points=\"244.71,-191.03 254.643,-187.345 244.58,-184.031 244.71,-191.03\"/>\n",
       "<text text-anchor=\"middle\" x=\"192.341\" y=\"-191.8\" font-family=\"Times,serif\" font-size=\"14.00\">a</text>\n",
       "</g>\n",
       "<!-- F6&#45;&gt;F9 -->\n",
       "<g id=\"edge11\" class=\"edge\"><title>F6&#45;&gt;F9</title>\n",
       "<path fill=\"none\" stroke=\"black\" d=\"M120.017,-172.882C127.239,-158.62 137.955,-137.833 147.894,-120 156.905,-103.831 167.523,-85.9701 176.007,-71.9624\"/>\n",
       "<polygon fill=\"black\" stroke=\"black\" points=\"179.027,-73.7325 181.235,-63.3703 173.047,-70.0936 179.027,-73.7325\"/>\n",
       "<text text-anchor=\"middle\" x=\"151.394\" y=\"-122.8\" font-family=\"Times,serif\" font-size=\"14.00\">b</text>\n",
       "</g>\n",
       "<!-- F6&#45;&gt;F6 -->\n",
       "<g id=\"edge14\" class=\"edge\"><title>F6&#45;&gt;F6</title>\n",
       "<path fill=\"none\" stroke=\"black\" d=\"M107.172,-209.267C106.718,-218.876 107.81,-227.447 110.447,-227.447 112.054,-227.447 113.087,-224.264 113.546,-219.603\"/>\n",
       "<polygon fill=\"black\" stroke=\"black\" points=\"117.051,-219.325 113.722,-209.267 110.052,-219.206 117.051,-219.325\"/>\n",
       "<text text-anchor=\"middle\" x=\"110.447\" y=\"-230.247\" font-family=\"Times,serif\" font-size=\"14.00\">b</text>\n",
       "</g>\n",
       "<!-- F6&#45;&gt;F6 -->\n",
       "<g id=\"edge19\" class=\"edge\"><title>F6&#45;&gt;F6</title>\n",
       "<path fill=\"none\" stroke=\"black\" d=\"M104.989,-208.747C102.159,-226.351 103.978,-245.447 110.447,-245.447 115.652,-245.447 117.847,-233.082 117.031,-219.079\"/>\n",
       "<polygon fill=\"black\" stroke=\"black\" points=\"120.468,-218.309 115.905,-208.747 113.509,-219.067 120.468,-218.309\"/>\n",
       "<text text-anchor=\"middle\" x=\"110.447\" y=\"-248.247\" font-family=\"Times,serif\" font-size=\"14.00\">a</text>\n",
       "</g>\n",
       "<!-- S4 -->\n",
       "<g id=\"node7\" class=\"node\"><title>S4</title>\n",
       "<ellipse fill=\"none\" stroke=\"black\" cx=\"192.341\" cy=\"-309\" rx=\"19.3939\" ry=\"19.3939\"/>\n",
       "<text text-anchor=\"middle\" x=\"192.341\" y=\"-304.8\" font-family=\"Times,serif\" font-size=\"14.00\">S4</text>\n",
       "</g>\n",
       "<!-- F6&#45;&gt;S4 -->\n",
       "<g id=\"edge12\" class=\"edge\"><title>F6&#45;&gt;S4</title>\n",
       "<path fill=\"none\" stroke=\"black\" d=\"M119.16,-207.65C125.873,-222.228 136.321,-243.182 147.894,-260 154.634,-269.795 163.118,-279.764 170.796,-288.131\"/>\n",
       "<polygon fill=\"black\" stroke=\"black\" points=\"168.425,-290.719 177.827,-295.604 173.523,-285.922 168.425,-290.719\"/>\n",
       "<text text-anchor=\"middle\" x=\"151.394\" y=\"-271.8\" font-family=\"Times,serif\" font-size=\"14.00\">b</text>\n",
       "</g>\n",
       "<!-- F6&#45;&gt;S4 -->\n",
       "<g id=\"edge17\" class=\"edge\"><title>F6&#45;&gt;S4</title>\n",
       "<path fill=\"none\" stroke=\"black\" d=\"M114.403,-209.291C118.555,-230.578 127.962,-264.762 147.894,-287 152.338,-291.958 158.159,-295.948 164.089,-299.095\"/>\n",
       "<polygon fill=\"black\" stroke=\"black\" points=\"162.771,-302.342 173.317,-303.367 165.712,-295.99 162.771,-302.342\"/>\n",
       "<text text-anchor=\"middle\" x=\"151.394\" y=\"-296.8\" font-family=\"Times,serif\" font-size=\"14.00\">a</text>\n",
       "</g>\n",
       "<!-- S5 -->\n",
       "<g id=\"node8\" class=\"node\"><title>S5</title>\n",
       "<ellipse fill=\"none\" stroke=\"black\" cx=\"192.341\" cy=\"-136\" rx=\"19.3939\" ry=\"19.3939\"/>\n",
       "<text text-anchor=\"middle\" x=\"192.341\" y=\"-131.8\" font-family=\"Times,serif\" font-size=\"14.00\">S5</text>\n",
       "</g>\n",
       "<!-- F6&#45;&gt;S5 -->\n",
       "<g id=\"edge13\" class=\"edge\"><title>F6&#45;&gt;S5</title>\n",
       "<path fill=\"none\" stroke=\"black\" d=\"M126.055,-178.159C132.604,-173.013 140.504,-167.025 147.894,-162 153.618,-158.108 159.932,-154.149 165.931,-150.535\"/>\n",
       "<polygon fill=\"black\" stroke=\"black\" points=\"168.139,-153.295 174.969,-145.195 164.579,-147.268 168.139,-153.295\"/>\n",
       "<text text-anchor=\"middle\" x=\"151.394\" y=\"-164.8\" font-family=\"Times,serif\" font-size=\"14.00\">b</text>\n",
       "</g>\n",
       "<!-- F6&#45;&gt;S5 -->\n",
       "<g id=\"edge18\" class=\"edge\"><title>F6&#45;&gt;S5</title>\n",
       "<path fill=\"none\" stroke=\"black\" d=\"M119.322,-172.589C125.419,-161.276 135.003,-147.319 147.894,-140 152.274,-137.513 157.311,-136.048 162.367,-135.242\"/>\n",
       "<polygon fill=\"black\" stroke=\"black\" points=\"162.891,-138.711 172.568,-134.397 162.313,-131.735 162.891,-138.711\"/>\n",
       "<text text-anchor=\"middle\" x=\"151.394\" y=\"-142.8\" font-family=\"Times,serif\" font-size=\"14.00\">a</text>\n",
       "</g>\n",
       "<!-- S4&#45;&gt;F3 -->\n",
       "<g id=\"edge20\" class=\"edge\"><title>S4&#45;&gt;F3</title>\n",
       "<path fill=\"none\" stroke=\"black\" d=\"M210.676,-302.273C221.146,-298.211 234.705,-292.95 246.522,-288.365\"/>\n",
       "<polygon fill=\"black\" stroke=\"black\" points=\"247.876,-291.594 255.932,-284.713 245.344,-285.068 247.876,-291.594\"/>\n",
       "<text text-anchor=\"middle\" x=\"233.287\" y=\"-297.8\" font-family=\"Times,serif\" font-size=\"14.00\">b</text>\n",
       "</g>\n",
       "<!-- S5&#45;&gt;F2 -->\n",
       "<g id=\"edge21\" class=\"edge\"><title>S5&#45;&gt;F2</title>\n",
       "<path fill=\"none\" stroke=\"black\" d=\"M211.878,-137.25C232.049,-138.707 265.226,-141.383 293.681,-145 304.29,-146.348 315.887,-148.173 326.073,-149.895\"/>\n",
       "<polygon fill=\"black\" stroke=\"black\" points=\"325.627,-153.369 336.077,-151.627 326.821,-146.472 325.627,-153.369\"/>\n",
       "<text text-anchor=\"middle\" x=\"274.234\" y=\"-147.8\" font-family=\"Times,serif\" font-size=\"14.00\">b</text>\n",
       "</g>\n",
       "<!-- F2&#45;&gt;I1 -->\n",
       "<g id=\"edge22\" class=\"edge\"><title>F2&#45;&gt;I1</title>\n",
       "<path fill=\"none\" stroke=\"black\" d=\"M372.087,-165.219C383.233,-172.453 398.452,-182.331 411.458,-190.772\"/>\n",
       "<polygon fill=\"black\" stroke=\"black\" points=\"409.738,-193.828 420.031,-196.336 413.549,-187.956 409.738,-193.828\"/>\n",
       "<text text-anchor=\"middle\" x=\"395.896\" y=\"-184.8\" font-family=\"Times,serif\" font-size=\"14.00\">a</text>\n",
       "</g>\n",
       "</g>\n",
       "</svg>\n"
      ],
      "text/plain": [
       "<graphviz.dot.Digraph at 0x1075cd048>"
      ]
     },
     "execution_count": 76,
     "metadata": {},
     "output_type": "execute_result"
    }
   ],
   "source": [
    "rblimp = rev_dfa(blimp)\n",
    "DOrblimp = dotObj_nfa(rblimp)\n",
    "DOrblimp"
   ]
  },
  {
   "cell_type": "code",
   "execution_count": 77,
   "metadata": {
    "run_control": {
     "frozen": false,
     "read_only": false
    }
   },
   "outputs": [
    {
     "data": {
      "image/svg+xml": [
       "<?xml version=\"1.0\" encoding=\"UTF-8\" standalone=\"no\"?>\n",
       "<!DOCTYPE svg PUBLIC \"-//W3C//DTD SVG 1.1//EN\"\n",
       " \"http://www.w3.org/Graphics/SVG/1.1/DTD/svg11.dtd\">\n",
       "<!-- Generated by graphviz version 2.38.0 (20140413.2041)\n",
       " -->\n",
       "<!-- Title: %3 Pages: 1 -->\n",
       "<svg width=\"504pt\" height=\"322pt\"\n",
       " viewBox=\"0.00 0.00 504.40 321.87\" xmlns=\"http://www.w3.org/2000/svg\" xmlns:xlink=\"http://www.w3.org/1999/xlink\">\n",
       "<g id=\"graph0\" class=\"graph\" transform=\"scale(1 1) rotate(0) translate(4 317.867)\">\n",
       "<title>%3</title>\n",
       "<polygon fill=\"white\" stroke=\"none\" points=\"-4,4 -4,-317.867 500.396,-317.867 500.396,4 -4,4\"/>\n",
       "<!-- EMPTY -->\n",
       "<g id=\"node1\" class=\"node\"><title>EMPTY</title>\n",
       "</g>\n",
       "<!-- F9 -->\n",
       "<g id=\"node4\" class=\"node\"><title>F9</title>\n",
       "<ellipse fill=\"none\" stroke=\"black\" cx=\"195.841\" cy=\"-234.867\" rx=\"19.3939\" ry=\"19.3939\"/>\n",
       "<text text-anchor=\"middle\" x=\"195.841\" y=\"-230.667\" font-family=\"Times,serif\" font-size=\"14.00\">F9</text>\n",
       "</g>\n",
       "<!-- EMPTY&#45;&gt;F9 -->\n",
       "<g id=\"edge1\" class=\"edge\"><title>EMPTY&#45;&gt;F9</title>\n",
       "<path fill=\"none\" stroke=\"black\" d=\"M54.0688,-223.898C84.4023,-226.261 134.344,-230.153 165.868,-232.609\"/>\n",
       "<polygon fill=\"black\" stroke=\"black\" points=\"165.946,-236.126 176.188,-233.413 166.49,-229.147 165.946,-236.126\"/>\n",
       "</g>\n",
       "<!-- F3 -->\n",
       "<g id=\"node5\" class=\"node\"><title>F3</title>\n",
       "<ellipse fill=\"none\" stroke=\"black\" cx=\"309.628\" cy=\"-60.8666\" rx=\"19.3939\" ry=\"19.3939\"/>\n",
       "<text text-anchor=\"middle\" x=\"309.628\" y=\"-56.6666\" font-family=\"Times,serif\" font-size=\"14.00\">F3</text>\n",
       "</g>\n",
       "<!-- EMPTY&#45;&gt;F3 -->\n",
       "<g id=\"edge3\" class=\"edge\"><title>EMPTY&#45;&gt;F3</title>\n",
       "<path fill=\"none\" stroke=\"black\" d=\"M33.5389,-203.754C48.2199,-159.449 92.8432,-46.2857 176.394,-5.86655 214.933,12.7778 261.452,-18.5406 287.781,-41.0458\"/>\n",
       "<polygon fill=\"black\" stroke=\"black\" points=\"285.466,-43.6711 295.272,-47.6821 290.108,-38.4313 285.466,-43.6711\"/>\n",
       "</g>\n",
       "<!-- F6 -->\n",
       "<g id=\"node6\" class=\"node\"><title>F6</title>\n",
       "<ellipse fill=\"none\" stroke=\"black\" cx=\"110.447\" cy=\"-144.867\" rx=\"19.3939\" ry=\"19.3939\"/>\n",
       "<text text-anchor=\"middle\" x=\"110.447\" y=\"-140.667\" font-family=\"Times,serif\" font-size=\"14.00\">F6</text>\n",
       "</g>\n",
       "<!-- EMPTY&#45;&gt;F6 -->\n",
       "<g id=\"edge2\" class=\"edge\"><title>EMPTY&#45;&gt;F6</title>\n",
       "<path fill=\"none\" stroke=\"black\" d=\"M47.3018,-203.619C59.6118,-191.981 75.5726,-176.891 88.2365,-164.919\"/>\n",
       "<polygon fill=\"black\" stroke=\"black\" points=\"90.7712,-167.339 95.6334,-157.926 85.9622,-162.252 90.7712,-167.339\"/>\n",
       "</g>\n",
       "<!-- F2 -->\n",
       "<g id=\"node9\" class=\"node\"><title>F2</title>\n",
       "<ellipse fill=\"none\" stroke=\"black\" cx=\"390.736\" cy=\"-164.867\" rx=\"19.3939\" ry=\"19.3939\"/>\n",
       "<text text-anchor=\"middle\" x=\"390.736\" y=\"-160.667\" font-family=\"Times,serif\" font-size=\"14.00\">F2</text>\n",
       "</g>\n",
       "<!-- EMPTY&#45;&gt;F2 -->\n",
       "<g id=\"edge4\" class=\"edge\"><title>EMPTY&#45;&gt;F2</title>\n",
       "<path fill=\"none\" stroke=\"black\" d=\"M34.5684,-240.043C45.5638,-266.854 70.4093,-313.867 109.447,-313.867 109.447,-313.867 109.447,-313.867 310.628,-313.867 364.201,-313.867 381.603,-237.796 387.174,-194.363\"/>\n",
       "<polygon fill=\"black\" stroke=\"black\" points=\"390.66,-194.68 388.324,-184.346 383.706,-193.881 390.66,-194.68\"/>\n",
       "</g>\n",
       "<!-- S7 -->\n",
       "<g id=\"node2\" class=\"node\"><title>S7</title>\n",
       "<ellipse fill=\"none\" stroke=\"black\" cx=\"195.841\" cy=\"-90.8666\" rx=\"19.3939\" ry=\"19.3939\"/>\n",
       "<text text-anchor=\"middle\" x=\"195.841\" y=\"-86.6666\" font-family=\"Times,serif\" font-size=\"14.00\">S7</text>\n",
       "</g>\n",
       "<!-- S7&#45;&gt;F3 -->\n",
       "<g id=\"edge5\" class=\"edge\"><title>S7&#45;&gt;F3</title>\n",
       "<path fill=\"none\" stroke=\"black\" d=\"M214.801,-86.0465C232.647,-81.2573 260.261,-73.8467 280.918,-68.3029\"/>\n",
       "<polygon fill=\"black\" stroke=\"black\" points=\"281.961,-71.647 290.712,-65.6746 280.147,-64.8862 281.961,-71.647\"/>\n",
       "<text text-anchor=\"middle\" x=\"252.734\" y=\"-83.6666\" font-family=\"Times,serif\" font-size=\"14.00\">a</text>\n",
       "</g>\n",
       "<!-- S8 -->\n",
       "<g id=\"node3\" class=\"node\"><title>S8</title>\n",
       "<ellipse fill=\"none\" stroke=\"black\" cx=\"309.628\" cy=\"-188.867\" rx=\"19.3939\" ry=\"19.3939\"/>\n",
       "<text text-anchor=\"middle\" x=\"309.628\" y=\"-184.667\" font-family=\"Times,serif\" font-size=\"14.00\">S8</text>\n",
       "</g>\n",
       "<!-- S8&#45;&gt;F2 -->\n",
       "<g id=\"edge6\" class=\"edge\"><title>S8&#45;&gt;F2</title>\n",
       "<path fill=\"none\" stroke=\"black\" d=\"M328.579,-183.421C338.491,-180.413 351.014,-176.614 362.143,-173.238\"/>\n",
       "<polygon fill=\"black\" stroke=\"black\" points=\"363.303,-176.543 371.856,-170.291 361.271,-169.845 363.303,-176.543\"/>\n",
       "<text text-anchor=\"middle\" x=\"350.182\" y=\"-180.667\" font-family=\"Times,serif\" font-size=\"14.00\">a</text>\n",
       "</g>\n",
       "<!-- F9&#45;&gt;S8 -->\n",
       "<g id=\"edge7\" class=\"edge\"><title>F9&#45;&gt;S8</title>\n",
       "<path fill=\"none\" stroke=\"black\" d=\"M214.307,-227.679C232.437,-220.219 261.022,-208.456 281.975,-199.834\"/>\n",
       "<polygon fill=\"black\" stroke=\"black\" points=\"283.368,-203.046 291.284,-196.004 280.704,-196.572 283.368,-203.046\"/>\n",
       "<text text-anchor=\"middle\" x=\"252.734\" y=\"-221.667\" font-family=\"Times,serif\" font-size=\"14.00\">b</text>\n",
       "</g>\n",
       "<!-- F9&#45;&gt;F9 -->\n",
       "<g id=\"edge8\" class=\"edge\"><title>F9&#45;&gt;F9</title>\n",
       "<path fill=\"none\" stroke=\"black\" d=\"M188.342,-252.976C186.943,-263.043 189.442,-272.313 195.841,-272.313 199.94,-272.313 202.438,-268.509 203.337,-263.128\"/>\n",
       "<polygon fill=\"black\" stroke=\"black\" points=\"206.837,-262.977 203.339,-252.976 199.837,-262.976 206.837,-262.977\"/>\n",
       "<text text-anchor=\"middle\" x=\"195.841\" y=\"-275.113\" font-family=\"Times,serif\" font-size=\"14.00\">a</text>\n",
       "</g>\n",
       "<!-- I1 -->\n",
       "<g id=\"node10\" class=\"node\"><title>I1</title>\n",
       "<ellipse fill=\"none\" stroke=\"black\" cx=\"474.396\" cy=\"-123.867\" rx=\"18\" ry=\"18\"/>\n",
       "<ellipse fill=\"none\" stroke=\"black\" cx=\"474.396\" cy=\"-123.867\" rx=\"22\" ry=\"22\"/>\n",
       "<text text-anchor=\"middle\" x=\"474.396\" y=\"-119.667\" font-family=\"Times,serif\" font-size=\"14.00\">I1</text>\n",
       "</g>\n",
       "<!-- F3&#45;&gt;I1 -->\n",
       "<g id=\"edge9\" class=\"edge\"><title>F3&#45;&gt;I1</title>\n",
       "<path fill=\"none\" stroke=\"black\" d=\"M328.047,-67.6087C355.814,-78.3561 410.418,-99.4907 444.223,-112.575\"/>\n",
       "<polygon fill=\"black\" stroke=\"black\" points=\"442.991,-115.851 453.58,-116.197 445.518,-109.323 442.991,-115.851\"/>\n",
       "<text text-anchor=\"middle\" x=\"390.736\" y=\"-101.667\" font-family=\"Times,serif\" font-size=\"14.00\">b</text>\n",
       "</g>\n",
       "<!-- F6&#45;&gt;S7 -->\n",
       "<g id=\"edge10\" class=\"edge\"><title>F6&#45;&gt;S7</title>\n",
       "<path fill=\"none\" stroke=\"black\" d=\"M117.636,-126.624C123.246,-113.246 132.955,-96.0461 147.894,-87.8666 153.629,-84.7262 160.369,-83.8436 166.924,-84.1136\"/>\n",
       "<polygon fill=\"black\" stroke=\"black\" points=\"166.552,-87.5941 176.902,-85.3279 167.398,-80.6453 166.552,-87.5941\"/>\n",
       "<text text-anchor=\"middle\" x=\"153.144\" y=\"-104.667\" font-family=\"Times,serif\" font-size=\"14.00\">b </text>\n",
       "<text text-anchor=\"middle\" x=\"153.144\" y=\"-90.6666\" font-family=\"Times,serif\" font-size=\"14.00\"> a</text>\n",
       "</g>\n",
       "<!-- F6&#45;&gt;S8 -->\n",
       "<g id=\"edge15\" class=\"edge\"><title>F6&#45;&gt;S8</title>\n",
       "<path fill=\"none\" stroke=\"black\" d=\"M125.779,-157.089C132.152,-161.864 139.993,-166.898 147.894,-169.867 191.85,-186.384 246.91,-189.433 279.847,-189.559\"/>\n",
       "<polygon fill=\"black\" stroke=\"black\" points=\"280.14,-193.058 290.121,-189.505 280.103,-186.058 280.14,-193.058\"/>\n",
       "<text text-anchor=\"middle\" x=\"195.841\" y=\"-188.667\" font-family=\"Times,serif\" font-size=\"14.00\">a</text>\n",
       "</g>\n",
       "<!-- F6&#45;&gt;F9 -->\n",
       "<g id=\"edge11\" class=\"edge\"><title>F6&#45;&gt;F9</title>\n",
       "<path fill=\"none\" stroke=\"black\" d=\"M121.723,-160.917C128.581,-171.105 138.108,-184.31 147.894,-194.867 155.133,-202.677 163.833,-210.455 171.766,-217.048\"/>\n",
       "<polygon fill=\"black\" stroke=\"black\" points=\"169.688,-219.869 179.662,-223.441 174.093,-214.429 169.688,-219.869\"/>\n",
       "<text text-anchor=\"middle\" x=\"153.144\" y=\"-207.667\" font-family=\"Times,serif\" font-size=\"14.00\">b</text>\n",
       "</g>\n",
       "<!-- F6&#45;&gt;F6 -->\n",
       "<g id=\"edge14\" class=\"edge\"><title>F6&#45;&gt;F6</title>\n",
       "<path fill=\"none\" stroke=\"black\" d=\"M103.975,-163.363C102.876,-173.279 105.033,-182.313 110.447,-182.313 113.831,-182.313 115.942,-178.784 116.782,-173.717\"/>\n",
       "<polygon fill=\"black\" stroke=\"black\" points=\"120.286,-173.408 116.918,-163.363 113.286,-173.316 120.286,-173.408\"/>\n",
       "<text text-anchor=\"middle\" x=\"110.447\" y=\"-199.113\" font-family=\"Times,serif\" font-size=\"14.00\">b </text>\n",
       "<text text-anchor=\"middle\" x=\"110.447\" y=\"-185.113\" font-family=\"Times,serif\" font-size=\"14.00\"> a</text>\n",
       "</g>\n",
       "<!-- S4 -->\n",
       "<g id=\"node7\" class=\"node\"><title>S4</title>\n",
       "<ellipse fill=\"none\" stroke=\"black\" cx=\"195.841\" cy=\"-33.8666\" rx=\"19.3939\" ry=\"19.3939\"/>\n",
       "<text text-anchor=\"middle\" x=\"195.841\" y=\"-29.6666\" font-family=\"Times,serif\" font-size=\"14.00\">S4</text>\n",
       "</g>\n",
       "<!-- F6&#45;&gt;S4 -->\n",
       "<g id=\"edge12\" class=\"edge\"><title>F6&#45;&gt;S4</title>\n",
       "<path fill=\"none\" stroke=\"black\" d=\"M114.494,-125.509C118.669,-104.996 128.044,-72.8626 147.894,-52.8666 153.054,-47.6677 159.828,-43.8403 166.619,-41.0424\"/>\n",
       "<polygon fill=\"black\" stroke=\"black\" points=\"168.1,-44.2329 176.394,-37.6399 165.799,-37.6219 168.1,-44.2329\"/>\n",
       "<text text-anchor=\"middle\" x=\"153.144\" y=\"-69.6666\" font-family=\"Times,serif\" font-size=\"14.00\">b </text>\n",
       "<text text-anchor=\"middle\" x=\"153.144\" y=\"-55.6666\" font-family=\"Times,serif\" font-size=\"14.00\"> a</text>\n",
       "</g>\n",
       "<!-- S5 -->\n",
       "<g id=\"node8\" class=\"node\"><title>S5</title>\n",
       "<ellipse fill=\"none\" stroke=\"black\" cx=\"252.734\" cy=\"-137.867\" rx=\"19.3939\" ry=\"19.3939\"/>\n",
       "<text text-anchor=\"middle\" x=\"252.734\" y=\"-133.667\" font-family=\"Times,serif\" font-size=\"14.00\">S5</text>\n",
       "</g>\n",
       "<!-- F6&#45;&gt;S5 -->\n",
       "<g id=\"edge13\" class=\"edge\"><title>F6&#45;&gt;S5</title>\n",
       "<path fill=\"none\" stroke=\"black\" d=\"M129.977,-143.184C135.716,-142.705 142.063,-142.219 147.894,-141.867 173.197,-140.339 202.006,-139.283 222.85,-138.641\"/>\n",
       "<polygon fill=\"black\" stroke=\"black\" points=\"223.071,-142.136 232.963,-138.343 222.864,-135.14 223.071,-142.136\"/>\n",
       "<text text-anchor=\"middle\" x=\"153.144\" y=\"-158.667\" font-family=\"Times,serif\" font-size=\"14.00\">b </text>\n",
       "<text text-anchor=\"middle\" x=\"153.144\" y=\"-144.667\" font-family=\"Times,serif\" font-size=\"14.00\"> a</text>\n",
       "</g>\n",
       "<!-- S4&#45;&gt;F3 -->\n",
       "<g id=\"edge16\" class=\"edge\"><title>S4&#45;&gt;F3</title>\n",
       "<path fill=\"none\" stroke=\"black\" d=\"M215.209,-37.3201C230.526,-40.3067 252.883,-44.9144 272.181,-49.8666 275.062,-50.6058 278.056,-51.4251 281.035,-52.2734\"/>\n",
       "<polygon fill=\"black\" stroke=\"black\" points=\"280.333,-55.7156 290.916,-55.1952 282.319,-49.003 280.333,-55.7156\"/>\n",
       "<text text-anchor=\"middle\" x=\"252.734\" y=\"-52.6666\" font-family=\"Times,serif\" font-size=\"14.00\">b</text>\n",
       "</g>\n",
       "<!-- S5&#45;&gt;F2 -->\n",
       "<g id=\"edge17\" class=\"edge\"><title>S5&#45;&gt;F2</title>\n",
       "<path fill=\"none\" stroke=\"black\" d=\"M272.143,-139.188C287.484,-140.499 309.853,-142.896 329.075,-146.867 340.129,-149.15 352.082,-152.5 362.431,-155.693\"/>\n",
       "<polygon fill=\"black\" stroke=\"black\" points=\"361.563,-159.089 372.153,-158.788 363.686,-152.419 361.563,-159.089\"/>\n",
       "<text text-anchor=\"middle\" x=\"309.628\" y=\"-149.667\" font-family=\"Times,serif\" font-size=\"14.00\">b</text>\n",
       "</g>\n",
       "<!-- F2&#45;&gt;I1 -->\n",
       "<g id=\"edge18\" class=\"edge\"><title>F2&#45;&gt;I1</title>\n",
       "<path fill=\"none\" stroke=\"black\" d=\"M408.656,-156.371C419.303,-151.026 433.299,-143.999 445.553,-137.846\"/>\n",
       "<polygon fill=\"black\" stroke=\"black\" points=\"447.134,-140.969 454.5,-133.354 443.993,-134.713 447.134,-140.969\"/>\n",
       "<text text-anchor=\"middle\" x=\"431.289\" y=\"-148.667\" font-family=\"Times,serif\" font-size=\"14.00\">a</text>\n",
       "</g>\n",
       "</g>\n",
       "</svg>\n"
      ],
      "text/plain": [
       "<graphviz.dot.Digraph at 0x1075992e8>"
      ]
     },
     "execution_count": 77,
     "metadata": {},
     "output_type": "execute_result"
    }
   ],
   "source": [
    "dotObj_nfa(rblimp, FuseEdges=True)"
   ]
  },
  {
   "cell_type": "code",
   "execution_count": 78,
   "metadata": {
    "run_control": {
     "frozen": false,
     "read_only": false
    }
   },
   "outputs": [
    {
     "data": {
      "text/plain": [
       "'// NO_St28\\ndigraph {\\n\\tgraph [rankdir=LR]\\n\\t\\tEMPTY [label=\"\" shape=plaintext]\\n\\t\\tS7 [label=S7 peripheries=1 shape=circle]\\n\\t\\tS8 [label=S8 peripheries=1 shape=circle]\\n\\t\\tF9 [label=F9 peripheries=1 shape=circle]\\n\\t\\tF3 [label=F3 peripheries=1 shape=circle]\\n\\t\\tF6 [label=F6 peripheries=1 shape=circle]\\n\\t\\tS4 [label=S4 peripheries=1 shape=circle]\\n\\t\\tS5 [label=S5 peripheries=1 shape=circle]\\n\\t\\tF2 [label=F2 peripheries=1 shape=circle]\\n\\t\\tI1 [label=I1 peripheries=2 shape=circle]\\n\\t\\t\\tEMPTY -> F9\\n\\t\\t\\tEMPTY -> F6\\n\\t\\t\\tEMPTY -> F3\\n\\t\\t\\tEMPTY -> F2\\n\\t\\t\\tS7 -> F3 [label=a]\\n\\t\\t\\tS8 -> F2 [label=a]\\n\\t\\t\\tF9 -> S8 [label=b]\\n\\t\\t\\tF9 -> F9 [label=a]\\n\\t\\t\\tF3 -> I1 [label=b]\\n\\t\\t\\tF6 -> S7 [label=b]\\n\\t\\t\\tF6 -> F9 [label=b]\\n\\t\\t\\tF6 -> S4 [label=b]\\n\\t\\t\\tF6 -> S5 [label=b]\\n\\t\\t\\tF6 -> F6 [label=b]\\n\\t\\t\\tF6 -> S7 [label=a]\\n\\t\\t\\tF6 -> S8 [label=a]\\n\\t\\t\\tF6 -> S4 [label=a]\\n\\t\\t\\tF6 -> S5 [label=a]\\n\\t\\t\\tF6 -> F6 [label=a]\\n\\t\\t\\tS4 -> F3 [label=b]\\n\\t\\t\\tS5 -> F2 [label=b]\\n\\t\\t\\tF2 -> I1 [label=a]\\n}'"
      ]
     },
     "execution_count": 78,
     "metadata": {},
     "output_type": "execute_result"
    }
   ],
   "source": [
    "DOrblimp.source"
   ]
  },
  {
   "cell_type": "code",
   "execution_count": 79,
   "metadata": {
    "run_control": {
     "frozen": false,
     "read_only": false
    }
   },
   "outputs": [
    {
     "data": {
      "text/plain": [
       "{'Delta': {('St0', 'a'): 'St0',\n",
       "  ('St0', 'b'): 'St0',\n",
       "  ('St1', 'a'): 'St0',\n",
       "  ('St1', 'b'): 'St0',\n",
       "  ('St2', 'a'): 'St3',\n",
       "  ('St2', 'b'): 'St3',\n",
       "  ('St3', 'a'): 'St1',\n",
       "  ('St3', 'b'): 'St1'},\n",
       " 'F': {'St0', 'St3'},\n",
       " 'Q': {'St0', 'St1', 'St2', 'St3'},\n",
       " 'Sigma': {'a', 'b'},\n",
       " 'q0': 'St2'}"
      ]
     },
     "execution_count": 79,
     "metadata": {},
     "output_type": "execute_result"
    }
   ],
   "source": [
    "drblimp = nfa2dfa(rblimp)\n",
    "drblimp"
   ]
  },
  {
   "cell_type": "code",
   "execution_count": 80,
   "metadata": {
    "run_control": {
     "frozen": false,
     "read_only": false
    }
   },
   "outputs": [
    {
     "data": {
      "image/svg+xml": [
       "<?xml version=\"1.0\" encoding=\"UTF-8\" standalone=\"no\"?>\n",
       "<!DOCTYPE svg PUBLIC \"-//W3C//DTD SVG 1.1//EN\"\n",
       " \"http://www.w3.org/Graphics/SVG/1.1/DTD/svg11.dtd\">\n",
       "<!-- Generated by graphviz version 2.38.0 (20140413.2041)\n",
       " -->\n",
       "<!-- Title: %3 Pages: 1 -->\n",
       "<svg width=\"419pt\" height=\"124pt\"\n",
       " viewBox=\"0.00 0.00 419.23 123.81\" xmlns=\"http://www.w3.org/2000/svg\" xmlns:xlink=\"http://www.w3.org/1999/xlink\">\n",
       "<g id=\"graph0\" class=\"graph\" transform=\"scale(1 1) rotate(0) translate(4 119.808)\">\n",
       "<title>%3</title>\n",
       "<polygon fill=\"white\" stroke=\"none\" points=\"-4,4 -4,-119.808 415.231,-119.808 415.231,4 -4,4\"/>\n",
       "<!-- EMPTY -->\n",
       "<g id=\"node1\" class=\"node\"><title>EMPTY</title>\n",
       "</g>\n",
       "<!-- St2 -->\n",
       "<g id=\"node2\" class=\"node\"><title>St2</title>\n",
       "<ellipse fill=\"none\" stroke=\"black\" cx=\"112.904\" cy=\"-25.9039\" rx=\"21.8081\" ry=\"21.8081\"/>\n",
       "<text text-anchor=\"middle\" x=\"112.904\" y=\"-21.7039\" font-family=\"Times,serif\" font-size=\"14.00\">St2</text>\n",
       "</g>\n",
       "<!-- EMPTY&#45;&gt;St2 -->\n",
       "<g id=\"edge1\" class=\"edge\"><title>EMPTY&#45;&gt;St2</title>\n",
       "<path fill=\"none\" stroke=\"black\" d=\"M54.0878,-25.9039C62.501,-25.9039 71.9126,-25.9039 80.6587,-25.9039\"/>\n",
       "<polygon fill=\"black\" stroke=\"black\" points=\"80.8854,-29.404 90.8853,-25.9039 80.8853,-22.404 80.8854,-29.404\"/>\n",
       "</g>\n",
       "<!-- St3 -->\n",
       "<g id=\"node4\" class=\"node\"><title>St3</title>\n",
       "<ellipse fill=\"none\" stroke=\"black\" cx=\"203.712\" cy=\"-25.9039\" rx=\"21.8229\" ry=\"21.8229\"/>\n",
       "<ellipse fill=\"none\" stroke=\"black\" cx=\"203.712\" cy=\"-25.9039\" rx=\"25.8081\" ry=\"25.8081\"/>\n",
       "<text text-anchor=\"middle\" x=\"203.712\" y=\"-21.7039\" font-family=\"Times,serif\" font-size=\"14.00\">St3</text>\n",
       "</g>\n",
       "<!-- St2&#45;&gt;St3 -->\n",
       "<g id=\"edge2\" class=\"edge\"><title>St2&#45;&gt;St3</title>\n",
       "<path fill=\"none\" stroke=\"black\" d=\"M134.95,-25.9039C144.668,-25.9039 156.471,-25.9039 167.487,-25.9039\"/>\n",
       "<polygon fill=\"black\" stroke=\"black\" points=\"167.713,-29.404 177.713,-25.9039 167.713,-22.404 167.713,-29.404\"/>\n",
       "<text text-anchor=\"middle\" x=\"156.308\" y=\"-28.7039\" font-family=\"Times,serif\" font-size=\"14.00\">b</text>\n",
       "</g>\n",
       "<!-- St2&#45;&gt;St3 -->\n",
       "<g id=\"edge3\" class=\"edge\"><title>St2&#45;&gt;St3</title>\n",
       "<path fill=\"none\" stroke=\"black\" d=\"M132.322,-15.3991C138.615,-12.355 145.83,-9.43978 152.808,-7.90386 159.065,-6.5265 165.606,-7.22673 171.815,-8.97717\"/>\n",
       "<polygon fill=\"black\" stroke=\"black\" points=\"170.617,-12.2657 181.21,-12.4447 173.041,-5.69865 170.617,-12.2657\"/>\n",
       "<text text-anchor=\"middle\" x=\"156.308\" y=\"-10.7039\" font-family=\"Times,serif\" font-size=\"14.00\">a</text>\n",
       "</g>\n",
       "<!-- St1 -->\n",
       "<g id=\"node3\" class=\"node\"><title>St1</title>\n",
       "<ellipse fill=\"none\" stroke=\"black\" cx=\"294.519\" cy=\"-25.9039\" rx=\"21.8081\" ry=\"21.8081\"/>\n",
       "<text text-anchor=\"middle\" x=\"294.519\" y=\"-21.7039\" font-family=\"Times,serif\" font-size=\"14.00\">St1</text>\n",
       "</g>\n",
       "<!-- St0 -->\n",
       "<g id=\"node5\" class=\"node\"><title>St0</title>\n",
       "<ellipse fill=\"none\" stroke=\"black\" cx=\"385.327\" cy=\"-25.9039\" rx=\"21.8229\" ry=\"21.8229\"/>\n",
       "<ellipse fill=\"none\" stroke=\"black\" cx=\"385.327\" cy=\"-25.9039\" rx=\"25.8081\" ry=\"25.8081\"/>\n",
       "<text text-anchor=\"middle\" x=\"385.327\" y=\"-21.7039\" font-family=\"Times,serif\" font-size=\"14.00\">St0</text>\n",
       "</g>\n",
       "<!-- St1&#45;&gt;St0 -->\n",
       "<g id=\"edge6\" class=\"edge\"><title>St1&#45;&gt;St0</title>\n",
       "<path fill=\"none\" stroke=\"black\" d=\"M316.566,-25.9039C326.283,-25.9039 338.087,-25.9039 349.103,-25.9039\"/>\n",
       "<polygon fill=\"black\" stroke=\"black\" points=\"349.329,-29.404 359.329,-25.9039 349.329,-22.404 349.329,-29.404\"/>\n",
       "<text text-anchor=\"middle\" x=\"337.923\" y=\"-28.7039\" font-family=\"Times,serif\" font-size=\"14.00\">b</text>\n",
       "</g>\n",
       "<!-- St1&#45;&gt;St0 -->\n",
       "<g id=\"edge7\" class=\"edge\"><title>St1&#45;&gt;St0</title>\n",
       "<path fill=\"none\" stroke=\"black\" d=\"M313.937,-15.3991C320.231,-12.355 327.446,-9.43978 334.423,-7.90386 340.68,-6.5265 347.222,-7.22673 353.431,-8.97717\"/>\n",
       "<polygon fill=\"black\" stroke=\"black\" points=\"352.233,-12.2657 362.826,-12.4447 354.656,-5.69865 352.233,-12.2657\"/>\n",
       "<text text-anchor=\"middle\" x=\"337.923\" y=\"-10.7039\" font-family=\"Times,serif\" font-size=\"14.00\">a</text>\n",
       "</g>\n",
       "<!-- St3&#45;&gt;St1 -->\n",
       "<g id=\"edge4\" class=\"edge\"><title>St3&#45;&gt;St1</title>\n",
       "<path fill=\"none\" stroke=\"black\" d=\"M229.923,-25.9039C239.999,-25.9039 251.709,-25.9039 262.313,-25.9039\"/>\n",
       "<polygon fill=\"black\" stroke=\"black\" points=\"262.449,-29.404 272.449,-25.9039 262.448,-22.404 262.449,-29.404\"/>\n",
       "<text text-anchor=\"middle\" x=\"251.115\" y=\"-28.7039\" font-family=\"Times,serif\" font-size=\"14.00\">b</text>\n",
       "</g>\n",
       "<!-- St3&#45;&gt;St1 -->\n",
       "<g id=\"edge5\" class=\"edge\"><title>St3&#45;&gt;St1</title>\n",
       "<path fill=\"none\" stroke=\"black\" d=\"M226.213,-12.4447C234.886,-8.53035 245.081,-5.80503 254.615,-7.90386 258.322,-8.71982 262.096,-9.92505 265.763,-11.3321\"/>\n",
       "<polygon fill=\"black\" stroke=\"black\" points=\"264.536,-14.615 275.101,-15.3991 267.331,-8.19721 264.536,-14.615\"/>\n",
       "<text text-anchor=\"middle\" x=\"251.115\" y=\"-10.7039\" font-family=\"Times,serif\" font-size=\"14.00\">a</text>\n",
       "</g>\n",
       "<!-- St0&#45;&gt;St0 -->\n",
       "<g id=\"edge8\" class=\"edge\"><title>St0&#45;&gt;St0</title>\n",
       "<path fill=\"none\" stroke=\"black\" d=\"M381.031,-51.6087C380.84,-61.5472 382.272,-69.8077 385.327,-69.8077 387.236,-69.8077 388.512,-66.5809 389.153,-61.7345\"/>\n",
       "<polygon fill=\"black\" stroke=\"black\" points=\"392.655,-61.7602 389.623,-51.6087 385.663,-61.4357 392.655,-61.7602\"/>\n",
       "<text text-anchor=\"middle\" x=\"385.327\" y=\"-72.6077\" font-family=\"Times,serif\" font-size=\"14.00\">b</text>\n",
       "</g>\n",
       "<!-- St0&#45;&gt;St0 -->\n",
       "<g id=\"edge9\" class=\"edge\"><title>St0&#45;&gt;St0</title>\n",
       "<path fill=\"none\" stroke=\"black\" d=\"M377.721,-50.6941C375.065,-69.1781 377.6,-87.8077 385.327,-87.8077 391.605,-87.8077 394.456,-75.5093 393.879,-60.9829\"/>\n",
       "<polygon fill=\"black\" stroke=\"black\" points=\"397.334,-60.3314 392.933,-50.6941 390.364,-60.9727 397.334,-60.3314\"/>\n",
       "<text text-anchor=\"middle\" x=\"385.327\" y=\"-90.6077\" font-family=\"Times,serif\" font-size=\"14.00\">a</text>\n",
       "</g>\n",
       "</g>\n",
       "</svg>\n"
      ],
      "text/plain": [
       "<graphviz.dot.Digraph at 0x107599198>"
      ]
     },
     "execution_count": 80,
     "metadata": {},
     "output_type": "execute_result"
    }
   ],
   "source": [
    "DOdrblimp = dotObj_dfa(drblimp)\n",
    "DOdrblimp"
   ]
  },
  {
   "cell_type": "code",
   "execution_count": 81,
   "metadata": {
    "run_control": {
     "frozen": false,
     "read_only": false
    }
   },
   "outputs": [
    {
     "data": {
      "text/plain": [
       "'// do_St30\\ndigraph {\\n\\tgraph [rankdir=LR]\\n\\t\\tEMPTY [label=\"\" shape=plaintext]\\n\\t\\tSt2 [label=St2 peripheries=1 shape=circle]\\n\\t\\tSt1 [label=St1 peripheries=1 shape=circle]\\n\\t\\tSt3 [label=St3 peripheries=2 shape=circle]\\n\\t\\tSt0 [label=St0 peripheries=2 shape=circle]\\n\\t\\t\\tEMPTY -> St2\\n\\t\\t\\tSt2 -> St3 [label=b]\\n\\t\\t\\tSt2 -> St3 [label=a]\\n\\t\\t\\tSt3 -> St1 [label=b]\\n\\t\\t\\tSt3 -> St1 [label=a]\\n\\t\\t\\tSt1 -> St0 [label=b]\\n\\t\\t\\tSt1 -> St0 [label=a]\\n\\t\\t\\tSt0 -> St0 [label=b]\\n\\t\\t\\tSt0 -> St0 [label=a]\\n}'"
      ]
     },
     "execution_count": 81,
     "metadata": {},
     "output_type": "execute_result"
    }
   ],
   "source": [
    "DOdrblimp.source"
   ]
  },
  {
   "cell_type": "code",
   "execution_count": 82,
   "metadata": {
    "run_control": {
     "frozen": false,
     "read_only": false
    }
   },
   "outputs": [
    {
     "data": {
      "image/svg+xml": [
       "<?xml version=\"1.0\" encoding=\"UTF-8\" standalone=\"no\"?>\n",
       "<!DOCTYPE svg PUBLIC \"-//W3C//DTD SVG 1.1//EN\"\n",
       " \"http://www.w3.org/Graphics/SVG/1.1/DTD/svg11.dtd\">\n",
       "<!-- Generated by graphviz version 2.38.0 (20140413.2041)\n",
       " -->\n",
       "<!-- Title: %3 Pages: 1 -->\n",
       "<svg width=\"411pt\" height=\"130pt\"\n",
       " viewBox=\"0.00 0.00 411.23 129.81\" xmlns=\"http://www.w3.org/2000/svg\" xmlns:xlink=\"http://www.w3.org/1999/xlink\">\n",
       "<g id=\"graph0\" class=\"graph\" transform=\"scale(1 1) rotate(0) translate(4 125.808)\">\n",
       "<title>%3</title>\n",
       "<polygon fill=\"white\" stroke=\"none\" points=\"-4,4 -4,-125.808 407.231,-125.808 407.231,4 -4,4\"/>\n",
       "<!-- EMPTY -->\n",
       "<g id=\"node1\" class=\"node\"><title>EMPTY</title>\n",
       "</g>\n",
       "<!-- St3 -->\n",
       "<g id=\"node2\" class=\"node\"><title>St3</title>\n",
       "<ellipse fill=\"none\" stroke=\"black\" cx=\"286.519\" cy=\"-95.9039\" rx=\"21.8081\" ry=\"21.8081\"/>\n",
       "<text text-anchor=\"middle\" x=\"286.519\" y=\"-91.7039\" font-family=\"Times,serif\" font-size=\"14.00\">St3</text>\n",
       "</g>\n",
       "<!-- EMPTY&#45;&gt;St3 -->\n",
       "<g id=\"edge1\" class=\"edge\"><title>EMPTY&#45;&gt;St3</title>\n",
       "<path fill=\"none\" stroke=\"black\" d=\"M54.0819,-109.078C65.3188,-112.194 78.6827,-115.364 91,-116.904 148.919,-124.144 216.73,-112.201 255.054,-103.567\"/>\n",
       "<polygon fill=\"black\" stroke=\"black\" points=\"256.104,-106.916 265.049,-101.238 254.516,-100.099 256.104,-106.916\"/>\n",
       "</g>\n",
       "<!-- St0 -->\n",
       "<g id=\"node4\" class=\"node\"><title>St0</title>\n",
       "<ellipse fill=\"none\" stroke=\"black\" cx=\"112.904\" cy=\"-21.9039\" rx=\"21.8081\" ry=\"21.8081\"/>\n",
       "<text text-anchor=\"middle\" x=\"112.904\" y=\"-17.7039\" font-family=\"Times,serif\" font-size=\"14.00\">St0</text>\n",
       "</g>\n",
       "<!-- EMPTY&#45;&gt;St0 -->\n",
       "<g id=\"edge2\" class=\"edge\"><title>EMPTY&#45;&gt;St0</title>\n",
       "<path fill=\"none\" stroke=\"black\" d=\"M47.4601,-82.5811C59.8078,-70.9551 75.8461,-55.8542 88.8337,-43.6257\"/>\n",
       "<polygon fill=\"black\" stroke=\"black\" points=\"91.5844,-45.8431 96.4657,-36.4397 86.7858,-40.7466 91.5844,-45.8431\"/>\n",
       "</g>\n",
       "<!-- St2 -->\n",
       "<g id=\"node5\" class=\"node\"><title>St2</title>\n",
       "<ellipse fill=\"none\" stroke=\"black\" cx=\"377.327\" cy=\"-95.9039\" rx=\"21.8229\" ry=\"21.8229\"/>\n",
       "<ellipse fill=\"none\" stroke=\"black\" cx=\"377.327\" cy=\"-95.9039\" rx=\"25.8081\" ry=\"25.8081\"/>\n",
       "<text text-anchor=\"middle\" x=\"377.327\" y=\"-91.7039\" font-family=\"Times,serif\" font-size=\"14.00\">St2</text>\n",
       "</g>\n",
       "<!-- St3&#45;&gt;St2 -->\n",
       "<g id=\"edge9\" class=\"edge\"><title>St3&#45;&gt;St2</title>\n",
       "<path fill=\"none\" stroke=\"black\" d=\"M308.566,-95.9039C318.283,-95.9039 330.087,-95.9039 341.103,-95.9039\"/>\n",
       "<polygon fill=\"black\" stroke=\"black\" points=\"341.329,-99.404 351.329,-95.9039 341.329,-92.404 341.329,-99.404\"/>\n",
       "<text text-anchor=\"middle\" x=\"329.923\" y=\"-98.7039\" font-family=\"Times,serif\" font-size=\"14.00\">b</text>\n",
       "</g>\n",
       "<!-- St3&#45;&gt;St2 -->\n",
       "<g id=\"edge10\" class=\"edge\"><title>St3&#45;&gt;St2</title>\n",
       "<path fill=\"none\" stroke=\"black\" d=\"M305.937,-85.3991C312.231,-82.355 319.446,-79.4398 326.423,-77.9039 332.68,-76.5265 339.222,-77.2267 345.431,-78.9772\"/>\n",
       "<polygon fill=\"black\" stroke=\"black\" points=\"344.233,-82.2657 354.826,-82.4447 346.656,-75.6987 344.233,-82.2657\"/>\n",
       "<text text-anchor=\"middle\" x=\"329.923\" y=\"-80.7039\" font-family=\"Times,serif\" font-size=\"14.00\">a</text>\n",
       "</g>\n",
       "<!-- St1 -->\n",
       "<g id=\"node3\" class=\"node\"><title>St1</title>\n",
       "<ellipse fill=\"none\" stroke=\"black\" cx=\"199.712\" cy=\"-58.9039\" rx=\"21.8081\" ry=\"21.8081\"/>\n",
       "<text text-anchor=\"middle\" x=\"199.712\" y=\"-54.7039\" font-family=\"Times,serif\" font-size=\"14.00\">St1</text>\n",
       "</g>\n",
       "<!-- St1&#45;&gt;St3 -->\n",
       "<g id=\"edge3\" class=\"edge\"><title>St1&#45;&gt;St3</title>\n",
       "<path fill=\"none\" stroke=\"black\" d=\"M219.956,-67.2997C230.83,-72.0441 244.636,-78.0673 256.771,-83.3617\"/>\n",
       "<polygon fill=\"black\" stroke=\"black\" points=\"255.492,-86.6223 266.058,-87.4131 258.292,-80.2063 255.492,-86.6223\"/>\n",
       "<text text-anchor=\"middle\" x=\"243.115\" y=\"-81.7039\" font-family=\"Times,serif\" font-size=\"14.00\">b</text>\n",
       "</g>\n",
       "<!-- St1&#45;&gt;St3 -->\n",
       "<g id=\"edge4\" class=\"edge\"><title>St1&#45;&gt;St3</title>\n",
       "<path fill=\"none\" stroke=\"black\" d=\"M221.443,-55.6753C229.553,-55.2305 238.771,-55.7692 246.615,-58.9039 253.637,-61.7098 260.116,-66.4529 265.69,-71.6238\"/>\n",
       "<polygon fill=\"black\" stroke=\"black\" points=\"263.205,-74.0894 272.696,-78.7983 268.213,-69.1986 263.205,-74.0894\"/>\n",
       "<text text-anchor=\"middle\" x=\"243.115\" y=\"-61.7039\" font-family=\"Times,serif\" font-size=\"14.00\">a</text>\n",
       "</g>\n",
       "<!-- St0&#45;&gt;St1 -->\n",
       "<g id=\"edge5\" class=\"edge\"><title>St0&#45;&gt;St1</title>\n",
       "<path fill=\"none\" stroke=\"black\" d=\"M133.148,-30.2997C144.023,-35.0441 157.828,-41.0673 169.964,-46.3617\"/>\n",
       "<polygon fill=\"black\" stroke=\"black\" points=\"168.685,-49.6223 179.25,-50.4131 171.484,-43.2063 168.685,-49.6223\"/>\n",
       "<text text-anchor=\"middle\" x=\"156.308\" y=\"-44.7039\" font-family=\"Times,serif\" font-size=\"14.00\">b</text>\n",
       "</g>\n",
       "<!-- St0&#45;&gt;St1 -->\n",
       "<g id=\"edge7\" class=\"edge\"><title>St0&#45;&gt;St1</title>\n",
       "<path fill=\"none\" stroke=\"black\" d=\"M134.635,-18.6753C142.745,-18.2305 151.963,-18.7692 159.808,-21.9039 166.83,-24.7098 173.308,-29.4529 178.882,-34.6238\"/>\n",
       "<polygon fill=\"black\" stroke=\"black\" points=\"176.398,-37.0894 185.889,-41.7983 181.406,-32.1986 176.398,-37.0894\"/>\n",
       "<text text-anchor=\"middle\" x=\"156.308\" y=\"-24.7039\" font-family=\"Times,serif\" font-size=\"14.00\">a</text>\n",
       "</g>\n",
       "<!-- St0&#45;&gt;St0 -->\n",
       "<g id=\"edge6\" class=\"edge\"><title>St0&#45;&gt;St0</title>\n",
       "<path fill=\"none\" stroke=\"black\" d=\"M109.212,-43.6581C108.861,-53.3905 110.091,-61.8077 112.904,-61.8077 114.662,-61.8077 115.802,-58.5198 116.323,-53.6777\"/>\n",
       "<polygon fill=\"black\" stroke=\"black\" points=\"119.823,-53.7494 116.595,-43.6581 112.825,-53.5594 119.823,-53.7494\"/>\n",
       "<text text-anchor=\"middle\" x=\"112.904\" y=\"-64.6077\" font-family=\"Times,serif\" font-size=\"14.00\">b</text>\n",
       "</g>\n",
       "<!-- St0&#45;&gt;St0 -->\n",
       "<g id=\"edge8\" class=\"edge\"><title>St0&#45;&gt;St0</title>\n",
       "<path fill=\"none\" stroke=\"black\" d=\"M106.595,-42.9831C103.809,-60.9347 105.912,-79.8077 112.904,-79.8077 118.585,-79.8077 121.039,-67.3486 120.265,-53.0476\"/>\n",
       "<polygon fill=\"black\" stroke=\"black\" points=\"123.733,-52.5653 119.213,-42.9831 116.771,-53.2927 123.733,-52.5653\"/>\n",
       "<text text-anchor=\"middle\" x=\"112.904\" y=\"-82.6077\" font-family=\"Times,serif\" font-size=\"14.00\">a</text>\n",
       "</g>\n",
       "</g>\n",
       "</svg>\n"
      ],
      "text/plain": [
       "<graphviz.dot.Digraph at 0x107599400>"
      ]
     },
     "execution_count": 82,
     "metadata": {},
     "output_type": "execute_result"
    }
   ],
   "source": [
    "rdrblimp = rev_dfa(drblimp)\n",
    "DOrdrblimp = dotObj_nfa(rdrblimp)\n",
    "DOrdrblimp"
   ]
  },
  {
   "cell_type": "code",
   "execution_count": 83,
   "metadata": {
    "run_control": {
     "frozen": false,
     "read_only": false
    }
   },
   "outputs": [
    {
     "data": {
      "text/plain": [
       "'// NO_St31\\ndigraph {\\n\\tgraph [rankdir=LR]\\n\\t\\tEMPTY [label=\"\" shape=plaintext]\\n\\t\\tSt3 [label=St3 peripheries=1 shape=circle]\\n\\t\\tSt1 [label=St1 peripheries=1 shape=circle]\\n\\t\\tSt0 [label=St0 peripheries=1 shape=circle]\\n\\t\\tSt2 [label=St2 peripheries=2 shape=circle]\\n\\t\\t\\tEMPTY -> St3\\n\\t\\t\\tEMPTY -> St0\\n\\t\\t\\tSt1 -> St3 [label=b]\\n\\t\\t\\tSt1 -> St3 [label=a]\\n\\t\\t\\tSt0 -> St1 [label=b]\\n\\t\\t\\tSt0 -> St0 [label=b]\\n\\t\\t\\tSt0 -> St1 [label=a]\\n\\t\\t\\tSt0 -> St0 [label=a]\\n\\t\\t\\tSt3 -> St2 [label=b]\\n\\t\\t\\tSt3 -> St2 [label=a]\\n}'"
      ]
     },
     "execution_count": 83,
     "metadata": {},
     "output_type": "execute_result"
    }
   ],
   "source": [
    "DOrdrblimp.source"
   ]
  },
  {
   "cell_type": "code",
   "execution_count": null,
   "metadata": {
    "run_control": {
     "frozen": false,
     "read_only": false
    }
   },
   "outputs": [],
   "source": []
  },
  {
   "cell_type": "code",
   "execution_count": null,
   "metadata": {
    "run_control": {
     "frozen": false,
     "read_only": false
    }
   },
   "outputs": [],
   "source": [
    "drdrblimp = nfa2dfa(rdrblimp)\n",
    "DOdrdrblimp = dotObj_dfa(drdrblimp)\n",
    "DOdrdrblimp"
   ]
  },
  {
   "cell_type": "code",
   "execution_count": null,
   "metadata": {
    "run_control": {
     "frozen": false,
     "read_only": false
    }
   },
   "outputs": [],
   "source": [
    "DOdrdrblimp.source"
   ]
  },
  {
   "cell_type": "code",
   "execution_count": null,
   "metadata": {
    "run_control": {
     "frozen": false,
     "read_only": false
    }
   },
   "outputs": [],
   "source": []
  },
  {
   "cell_type": "code",
   "execution_count": null,
   "metadata": {
    "run_control": {
     "frozen": false,
     "read_only": false
    }
   },
   "outputs": [],
   "source": [
    "nfahas01 = md2mc('''\n",
    "NFA \n",
    "I : 0 | 1 -> I\n",
    "I : '' -> A\n",
    "A : 0  -> B\n",
    "B : 1  -> C\n",
    "C : 0 | 1 -> C\n",
    "C : '' -> F\n",
    "''')\n",
    "DOhas01 = dotObj_nfa(nfahas01)\n",
    "DOhas01"
   ]
  },
  {
   "cell_type": "code",
   "execution_count": null,
   "metadata": {
    "run_control": {
     "frozen": false,
     "read_only": false
    }
   },
   "outputs": [],
   "source": [
    "dfahas01 = nfa2dfa(nfahas01)\n",
    "DOdfahas01 = dotObj_dfa(dfahas01)\n",
    "DOdfahas01"
   ]
  }
 ],
 "metadata": {
  "kernelspec": {
   "display_name": "Python 3",
   "language": "python",
   "name": "python3"
  },
  "language_info": {
   "codemirror_mode": {
    "name": "ipython",
    "version": 3
   },
   "file_extension": ".py",
   "mimetype": "text/x-python",
   "name": "python",
   "nbconvert_exporter": "python",
   "pygments_lexer": "ipython3",
   "version": "3.6.0"
  },
  "toc": {
   "colors": {
    "hover_highlight": "#DAA520",
    "running_highlight": "#FF0000",
    "selected_highlight": "#FFD700"
   },
   "moveMenuLeft": true,
   "nav_menu": {
    "height": "318px",
    "width": "252px"
   },
   "navigate_menu": true,
   "number_sections": true,
   "sideBar": true,
   "threshold": 4,
   "toc_cell": false,
   "toc_section_display": "block",
   "toc_window_display": false,
   "widenNotebook": false
  }
 },
 "nbformat": 4,
 "nbformat_minor": 1
}
