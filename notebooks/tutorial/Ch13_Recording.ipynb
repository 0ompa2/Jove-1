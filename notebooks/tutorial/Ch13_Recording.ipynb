{
 "cells": [
  {
   "cell_type": "code",
   "execution_count": 4,
   "metadata": {
    "run_control": {
     "frozen": false,
     "read_only": false
    }
   },
   "outputs": [
    {
     "data": {
      "image/jpeg": "[encoded data removed]",
      "text/html": [
       "\n",
       "        <iframe\n",
       "            width=\"400\"\n",
       "            height=\"300\"\n",
       "            src=\"https://www.youtube.com/embed/E1X8OTWUxJ0\"\n",
       "            frameborder=\"0\"\n",
       "            allowfullscreen\n",
       "        ></iframe>\n",
       "        "
      ],
      "text/plain": [
       "<IPython.lib.display.YouTubeVideo at 0x10a4a8198>"
      ]
     },
     "execution_count": 4,
     "metadata": {},
     "output_type": "execute_result"
    }
   ],
   "source": [
    "# This Youtube video walks through this notebook\n",
    "from IPython.display import YouTubeVideo\n",
    "YouTubeVideo('E1X8OTWUxJ0')"
   ]
  },
  {
   "cell_type": "markdown",
   "metadata": {
    "run_control": {
     "frozen": false,
     "read_only": false
    }
   },
   "source": [
    "# Turing Machines"
   ]
  },
  {
   "cell_type": "code",
   "execution_count": 5,
   "metadata": {
    "run_control": {
     "frozen": false,
     "read_only": false
    }
   },
   "outputs": [
    {
     "ename": "ModuleNotFoundError",
     "evalue": "No module named 'lex'",
     "output_type": "error",
     "traceback": [
      "\u001b[0;31m---------------------------------------------------------------------------\u001b[0m",
      "\u001b[0;31mModuleNotFoundError\u001b[0m                       Traceback (most recent call last)",
      "\u001b[0;32m<ipython-input-5-1eb71a2c994c>\u001b[0m in \u001b[0;36m<module>\u001b[0;34m()\u001b[0m\n\u001b[1;32m      1\u001b[0m \u001b[0;32mfrom\u001b[0m \u001b[0mjove\u001b[0m\u001b[0;34m.\u001b[0m\u001b[0mDef_TM\u001b[0m     \u001b[0;32mimport\u001b[0m \u001b[0;34m*\u001b[0m\u001b[0;34m\u001b[0m\u001b[0m\n\u001b[0;32m----> 2\u001b[0;31m \u001b[0;32mfrom\u001b[0m \u001b[0mjove\u001b[0m\u001b[0;34m.\u001b[0m\u001b[0mDef_md2mc\u001b[0m  \u001b[0;32mimport\u001b[0m \u001b[0;34m*\u001b[0m\u001b[0;34m\u001b[0m\u001b[0m\n\u001b[0m\u001b[1;32m      3\u001b[0m \u001b[0;32mfrom\u001b[0m \u001b[0mjove\u001b[0m\u001b[0;34m.\u001b[0m\u001b[0mDotBashers\u001b[0m \u001b[0;32mimport\u001b[0m \u001b[0;34m*\u001b[0m\u001b[0;34m\u001b[0m\u001b[0m\n",
      "\u001b[0;32m/Users/ganesh/repos/Jove/notebooks/tutorial/jove/Def_md2mc.py\u001b[0m in \u001b[0;36m<module>\u001b[0;34m()\u001b[0m\n\u001b[1;32m     49\u001b[0m \u001b[0;31m# In[1]:\u001b[0m\u001b[0;34m\u001b[0m\u001b[0;34m\u001b[0m\u001b[0m\n\u001b[1;32m     50\u001b[0m \u001b[0;34m\u001b[0m\u001b[0m\n\u001b[0;32m---> 51\u001b[0;31m \u001b[0;32mfrom\u001b[0m \u001b[0mlex\u001b[0m \u001b[0;32mimport\u001b[0m \u001b[0mlex\u001b[0m\u001b[0;34m\u001b[0m\u001b[0m\n\u001b[0m\u001b[1;32m     52\u001b[0m \u001b[0;32mfrom\u001b[0m \u001b[0myacc\u001b[0m \u001b[0;32mimport\u001b[0m \u001b[0myacc\u001b[0m\u001b[0;34m\u001b[0m\u001b[0m\n\u001b[1;32m     53\u001b[0m \u001b[0;34m\u001b[0m\u001b[0m\n",
      "\u001b[0;31mModuleNotFoundError\u001b[0m: No module named 'lex'"
     ]
    }
   ],
   "source": [
    "from jove.Def_TM     import *\n",
    "from jove.Def_md2mc  import *\n",
    "from jove.DotBashers import *"
   ]
  },
  {
   "cell_type": "markdown",
   "metadata": {
    "run_control": {
     "frozen": false,
     "read_only": false
    }
   },
   "source": [
    "# DTM: accepts \"w#w\" (markdown)"
   ]
  },
  {
   "cell_type": "code",
   "execution_count": null,
   "metadata": {
    "run_control": {
     "frozen": false,
     "read_only": false
    }
   },
   "outputs": [],
   "source": [
    "flipperTM = md2mc('''TM\n",
    "I : . ; ., S -> F\n",
    "I : 0 ; 1, R -> I\n",
    "I : 1 ; 0, R -> I\n",
    "''')\n",
    "DOflipperTM = dotObj_tm(flipperTM, FuseEdges=True)\n",
    "DOflipperTM\n"
   ]
  },
  {
   "cell_type": "code",
   "execution_count": null,
   "metadata": {
    "run_control": {
     "frozen": false,
     "read_only": false
    }
   },
   "outputs": [],
   "source": [
    "explore_tm(flipperTM, \"010011\", 100)"
   ]
  },
  {
   "cell_type": "code",
   "execution_count": null,
   "metadata": {
    "run_control": {
     "frozen": false,
     "read_only": false
    }
   },
   "outputs": [],
   "source": [
    "help(explore_tm)"
   ]
  },
  {
   "cell_type": "code",
   "execution_count": null,
   "metadata": {
    "run_control": {
     "frozen": false,
     "read_only": false
    }
   },
   "outputs": [],
   "source": [
    "wpw_tm = md2mc(src='File', fname=\"machines/tmfiles/wpw.tm\")\n",
    "dotObj_tm(wpw_tm, FuseEdges = True)"
   ]
  },
  {
   "cell_type": "code",
   "execution_count": null,
   "metadata": {
    "run_control": {
     "frozen": false,
     "read_only": false
    }
   },
   "outputs": [],
   "source": [
    "DOwpw = dotObj_tm(wpw_tm, FuseEdges = True)"
   ]
  },
  {
   "cell_type": "code",
   "execution_count": null,
   "metadata": {
    "run_control": {
     "frozen": false,
     "read_only": false
    }
   },
   "outputs": [],
   "source": [
    "explore_tm(wpw_tm, \"001#001\", 120)"
   ]
  },
  {
   "cell_type": "code",
   "execution_count": null,
   "metadata": {
    "run_control": {
     "frozen": false,
     "read_only": false
    }
   },
   "outputs": [],
   "source": [
    "wwndtm_md = md2mc(src='File', fname=\"machines/tmfiles/wwndtm.tm\")\n",
    "dotObj_tm(wwndtm_md)"
   ]
  },
  {
   "cell_type": "code",
   "execution_count": null,
   "metadata": {
    "run_control": {
     "frozen": false,
     "read_only": false
    }
   },
   "outputs": [],
   "source": [
    "DOwwndtm = dotObj_tm(wwndtm_md, FuseEdges=True)\n",
    "DOwwndtm"
   ]
  },
  {
   "cell_type": "code",
   "execution_count": null,
   "metadata": {
    "run_control": {
     "frozen": false,
     "read_only": false
    }
   },
   "outputs": [],
   "source": [
    "explore_tm(wwndtm_md, \"001001\", 170)"
   ]
  },
  {
   "cell_type": "code",
   "execution_count": null,
   "metadata": {
    "run_control": {
     "frozen": false,
     "read_only": false
    }
   },
   "outputs": [],
   "source": [
    "addtm = {\n",
    "    # This TM adds two numbers in base 2.\n",
    "    #\n",
    "    # Input: matches the regex \"[01][01]*\\+[01][01]*\"\n",
    "    #        Interpreted as a+b where a and b are unsigned integers in big-endian\n",
    "    #          form\n",
    "    # Output: Occurs on a halt in the \"done\" state.\n",
    "    #         The sum of the numbers in big endian form.\n",
    "    #         No other characters will be on the tape.\n",
    "    #         There willbe no leading zeros on the answer.\n",
    "    # Errors: The only errors that can occur are input errors which lead to\n",
    "    #           a halt on the \"error\" state. This indicates the input does\n",
    "    #           not conform to the input requirement.\n",
    "    # Detail: There is no length maximums on the input.\n",
    "    #         The numbers can be of different lengths.\n",
    "    #         Leading zeros on inputs only cause a longer runtime.\n",
    "    \"Q\": {\n",
    "        # final states\n",
    "        \"done\", \"error\",\n",
    "\n",
    "        # input validation states\n",
    "        \"start\",\n",
    "        \"check_a\",\n",
    "        \"check_b_start\",\n",
    "        \"check_b\",\n",
    "\n",
    "        # adder states\n",
    "        \"read_next_b_digit\",\n",
    "        \"0_scan_to_a\",\n",
    "        \"1_scan_to_a\",\n",
    "        \"n_scan_to_a\",\n",
    "        \"0_scan_to_a_digit\",\n",
    "        \"1_scan_to_a_digit\",\n",
    "        \"n_scan_to_a_digit\",\n",
    "        \"0_scan_to_output\",\n",
    "        \"1_scan_to_output\",\n",
    "        \"c0_scan_to_output\",\n",
    "        \"write_carry\",\n",
    "        \"scan_to_b\",\n",
    "        \"scan_to_b_digit\",\n",
    "\n",
    "        # answer formatting states\n",
    "        \"erase_until_sum\",\n",
    "        \"find_end_of_sum\",\n",
    "        \"read_msb_of_sum\",\n",
    "        \"0_check_end_of_sum\",\n",
    "        \"1_check_end_of_sum\",\n",
    "        \"0_write_last_digit\",\n",
    "        \"1_write_last_digit\",\n",
    "        \"write_last_0\",\n",
    "        \"write_last_1\",\n",
    "        \"0_find_end_of_sum\",\n",
    "        \"1_find_end_of_sum\",\n",
    "        \"0_find_answer\",\n",
    "        \"1_find_answer\",\n",
    "        \"write_0\",\n",
    "        \"write_1\",\n",
    "        \"find_start_of_sum\",\n",
    "        \"find_start_of_answer\",\n",
    "        \"erase_leading_zeros\",\n",
    "    },\n",
    "\n",
    "    \"Sigma\" : {'0', '1', '+'},\n",
    "\n",
    "    \"Gamma\" : {'.',\n",
    "               '0', '1', '+',\n",
    "               'a', # right side marker for a input\n",
    "               'b', # right side marker for b input\n",
    "               'c', # carry indicator\n",
    "               'X', # 0 used indicator\n",
    "               'Y', # 1 used indicator\n",
    "               's', # left side of answer space marker\n",
    "               },\n",
    "\n",
    "    \"Delta\" : {\n",
    "        # Begin input validation\n",
    "        (\"start\", '.') : { (\"error\", '.', 'S') },\n",
    "        (\"start\", '+') : { (\"error\", '.', 'S') },\n",
    "        (\"start\", '0') : { (\"check_a\", '0', 'R') },\n",
    "        (\"start\", '1') : { (\"check_a\", '1', 'R') },\n",
    "        #\n",
    "        (\"check_a\", '0') : { (\"check_a\", '0', 'R') },\n",
    "        (\"check_a\", '1') : { (\"check_a\", '1', 'R') },\n",
    "        (\"check_a\", '.') : { (\"error\", '.', 'S') },\n",
    "        (\"check_a\", '+') : { (\"check_b_start\", 'a', 'R') },\n",
    "        #\n",
    "        (\"check_b_start\", '0') : { (\"check_b\", '0', 'R') },\n",
    "        (\"check_b_start\", '1') : { (\"check_b\", '1', 'R') },\n",
    "        (\"check_b_start\", '.') : { (\"error\", '.', 'S') },\n",
    "        (\"check_b_start\", '+') : { (\"error\", '+', 'S') },\n",
    "        #\n",
    "        (\"check_b\", '0') : { (\"check_b\", '0', 'R') },\n",
    "        (\"check_b\", '1') : { (\"check_b\", '1', 'R') },\n",
    "        (\"check_b\", '.') : { (\"read_next_b_digit\", 'b', 'L') },\n",
    "        (\"check_b\", '+') : { (\"error\", '+', 'S') },\n",
    "        # End input validation\n",
    "\n",
    "        # Begin adder\n",
    "        (\"read_next_b_digit\", '0') : { (\"0_scan_to_a\", 'X', 'L') },\n",
    "        (\"read_next_b_digit\", '1') : { (\"1_scan_to_a\", 'Y', 'L') },\n",
    "        #\n",
    "        (\"0_scan_to_a\", '0') : { (\"0_scan_to_a\", '0', 'L') },\n",
    "        (\"0_scan_to_a\", '1') : { (\"0_scan_to_a\", '1', 'L') },\n",
    "        (\"0_scan_to_a\", 'a') : { (\"0_scan_to_a_digit\", 'a', 'L') },\n",
    "        #\n",
    "        (\"1_scan_to_a\", '0') : { (\"1_scan_to_a\", '0', 'L') },\n",
    "        (\"1_scan_to_a\", '1') : { (\"1_scan_to_a\", '1', 'L') },\n",
    "        (\"1_scan_to_a\", 'a') : { (\"1_scan_to_a_digit\", 'a', 'L') },\n",
    "        #\n",
    "        (\"n_scan_to_a\", '0') : { (\"n_scan_to_a\", '0', 'L') },\n",
    "        (\"n_scan_to_a\", '1') : { (\"n_scan_to_a\", '1', 'L') },\n",
    "        (\"n_scan_to_a\", 'a') : { (\"n_scan_to_a_digit\", 'a', 'L') },\n",
    "        #\n",
    "        (\"0_scan_to_a_digit\", 'X') : { (\"0_scan_to_a_digit\", 'X', 'L') },\n",
    "        (\"0_scan_to_a_digit\", 'Y') : { (\"0_scan_to_a_digit\", 'Y', 'L') },\n",
    "        (\"0_scan_to_a_digit\", '0') : { (\"0_scan_to_output\", 'X', 'R') },\n",
    "        (\"0_scan_to_a_digit\", '1') : { (\"1_scan_to_output\", 'Y', 'R') },\n",
    "        (\"0_scan_to_a_digit\", '.') : { (\"0_scan_to_output\", 's', 'R') },\n",
    "        (\"0_scan_to_a_digit\", 's') : { (\"0_scan_to_output\", 's', 'R') },\n",
    "        #\n",
    "        (\"1_scan_to_a_digit\", 'X') : { (\"1_scan_to_a_digit\", 'X', 'L') },\n",
    "        (\"1_scan_to_a_digit\", 'Y') : { (\"1_scan_to_a_digit\", 'Y', 'L') },\n",
    "        (\"1_scan_to_a_digit\", '0') : { (\"1_scan_to_output\", 'X', 'R') },\n",
    "        (\"1_scan_to_a_digit\", '1') : { (\"c0_scan_to_output\", 'Y', 'R') },\n",
    "        (\"1_scan_to_a_digit\", '.') : { (\"1_scan_to_output\", 's', 'R') },\n",
    "        (\"1_scan_to_a_digit\", 's') : { (\"1_scan_to_output\", 's', 'R') },\n",
    "        #\n",
    "        (\"n_scan_to_a_digit\", 'X') : { (\"n_scan_to_a_digit\", 'X', 'L') },\n",
    "        (\"n_scan_to_a_digit\", 'Y') : { (\"n_scan_to_a_digit\", 'Y', 'L') },\n",
    "        (\"n_scan_to_a_digit\", '0') : { (\"0_scan_to_output\", 'X', 'R') },\n",
    "        (\"n_scan_to_a_digit\", '1') : { (\"1_scan_to_output\", 'Y', 'R') },\n",
    "        (\"n_scan_to_a_digit\", '.') : { (\"erase_until_sum\", 's', 'R') },\n",
    "        (\"n_scan_to_a_digit\", 's') : { (\"erase_until_sum\", 's', 'R') },\n",
    "        #\n",
    "        (\"0_scan_to_output\", '0') : { (\"0_scan_to_output\", '0', 'R') },\n",
    "        (\"0_scan_to_output\", '1') : { (\"0_scan_to_output\", '1', 'R') },\n",
    "        (\"0_scan_to_output\", 'X') : { (\"0_scan_to_output\", 'X', 'R') },\n",
    "        (\"0_scan_to_output\", 'Y') : { (\"0_scan_to_output\", 'Y', 'R') },\n",
    "        (\"0_scan_to_output\", 'a') : { (\"0_scan_to_output\", 'a', 'R') },\n",
    "        (\"0_scan_to_output\", 'b') : { (\"0_scan_to_output\", 'b', 'R') },\n",
    "        (\"0_scan_to_output\", '.') : { (\"scan_to_b\", '0', 'L') },\n",
    "        (\"0_scan_to_output\", 'c') : { (\"scan_to_b\", '1', 'L') },\n",
    "        #\n",
    "        (\"1_scan_to_output\", '0') : { (\"1_scan_to_output\", '0', 'R') },\n",
    "        (\"1_scan_to_output\", '1') : { (\"1_scan_to_output\", '1', 'R') },\n",
    "        (\"1_scan_to_output\", 'X') : { (\"1_scan_to_output\", 'X', 'R') },\n",
    "        (\"1_scan_to_output\", 'Y') : { (\"1_scan_to_output\", 'Y', 'R') },\n",
    "        (\"1_scan_to_output\", 'a') : { (\"1_scan_to_output\", 'a', 'R') },\n",
    "        (\"1_scan_to_output\", 'b') : { (\"1_scan_to_output\", 'b', 'R') },\n",
    "        (\"1_scan_to_output\", '.') : { (\"scan_to_b\", '1', 'L') },\n",
    "        (\"1_scan_to_output\", 'c') : { (\"write_carry\", '0', 'R') },\n",
    "        #\n",
    "        (\"c0_scan_to_output\", '0') : { (\"c0_scan_to_output\", '0', 'R') },\n",
    "        (\"c0_scan_to_output\", '1') : { (\"c0_scan_to_output\", '1', 'R') },\n",
    "        (\"c0_scan_to_output\", 'X') : { (\"c0_scan_to_output\", 'X', 'R') },\n",
    "        (\"c0_scan_to_output\", 'Y') : { (\"c0_scan_to_output\", 'Y', 'R') },\n",
    "        (\"c0_scan_to_output\", 'a') : { (\"c0_scan_to_output\", 'a', 'R') },\n",
    "        (\"c0_scan_to_output\", 'b') : { (\"c0_scan_to_output\", 'b', 'R') },\n",
    "        (\"c0_scan_to_output\", '.') : { (\"write_carry\", '0', 'R') },\n",
    "        (\"c0_scan_to_output\", 'c') : { (\"write_carry\", '1', 'R') },\n",
    "        #\n",
    "        (\"write_carry\", '.') : { (\"scan_to_b\", 'c', 'L') },\n",
    "        #\n",
    "        (\"scan_to_b\", '0') : { (\"scan_to_b\", '0', 'L') },\n",
    "        (\"scan_to_b\", '1') : { (\"scan_to_b\", '1', 'L') },\n",
    "        (\"scan_to_b\", 'b') : { (\"scan_to_b_digit\", 'b', 'L') },\n",
    "        #\n",
    "        (\"scan_to_b_digit\", 'X') : { (\"scan_to_b_digit\", 'X', 'L') },\n",
    "        (\"scan_to_b_digit\", 'Y') : { (\"scan_to_b_digit\", 'Y', 'L') },\n",
    "        (\"scan_to_b_digit\", '0') : { (\"read_next_b_digit\", '0', 'S') },\n",
    "        (\"scan_to_b_digit\", '1') : { (\"read_next_b_digit\", '1', 'S') },\n",
    "        (\"scan_to_b_digit\", 'a') : { (\"n_scan_to_a\", 'a', 'S') },\n",
    "        # End adder\n",
    "\n",
    "        # Begin answer formatting\n",
    "        (\"erase_until_sum\", '0') : { (\"erase_until_sum\", '.', 'R') },\n",
    "        (\"erase_until_sum\", '1') : { (\"erase_until_sum\", '.', 'R') },\n",
    "        (\"erase_until_sum\", 'X') : { (\"erase_until_sum\", '.', 'R') },\n",
    "        (\"erase_until_sum\", 'Y') : { (\"erase_until_sum\", '.', 'R') },\n",
    "        (\"erase_until_sum\", 'a') : { (\"erase_until_sum\", '.', 'R') },\n",
    "        (\"erase_until_sum\", 'b') : { (\"find_end_of_sum\", '.', 'R') },\n",
    "        #\n",
    "        (\"find_end_of_sum\", '0') : { (\"find_end_of_sum\", '0', 'R') },\n",
    "        (\"find_end_of_sum\", '1') : { (\"find_end_of_sum\", '1', 'R') },\n",
    "        (\"find_end_of_sum\", 'c') : { (\"read_msb_of_sum\", '1', 'S') },\n",
    "        (\"find_end_of_sum\", '.') : { (\"read_msb_of_sum\", '.', 'L') },\n",
    "        #\n",
    "        (\"read_msb_of_sum\", '0') : { (\"0_check_end_of_sum\", '.', 'L') },\n",
    "        (\"read_msb_of_sum\", '1') : { (\"1_check_end_of_sum\", '.', 'L') },\n",
    "        #\n",
    "        (\"0_check_end_of_sum\", '0') : { (\"0_find_end_of_sum\", '0', 'L') },\n",
    "        (\"0_check_end_of_sum\", '1') : { (\"0_find_end_of_sum\", '1', 'L') },\n",
    "        (\"0_check_end_of_sum\", '.') : { (\"0_write_last_digit\", '.', 'L') },\n",
    "        #\n",
    "        (\"1_check_end_of_sum\", '0') : { (\"1_find_end_of_sum\", '0', 'L') },\n",
    "        (\"1_check_end_of_sum\", '1') : { (\"1_find_end_of_sum\", '1', 'L') },\n",
    "        (\"1_check_end_of_sum\", '.') : { (\"1_write_last_digit\", '.', 'L') },\n",
    "        #\n",
    "        (\"0_write_last_digit\", '.') : { (\"0_write_last_digit\", '.', 'L') },\n",
    "        (\"0_write_last_digit\", '0') : { (\"write_last_0\", '0', 'R') },\n",
    "        (\"0_write_last_digit\", '1') : { (\"write_last_0\", '1', 'R') },\n",
    "        (\"0_write_last_digit\", 's') : { (\"write_last_0\", '.', 'R') },\n",
    "        #\n",
    "        (\"1_write_last_digit\", '.') : { (\"1_write_last_digit\", '.', 'L') },\n",
    "        (\"1_write_last_digit\", '0') : { (\"write_last_1\", '0', 'R') },\n",
    "        (\"1_write_last_digit\", '1') : { (\"write_last_1\", '1', 'R') },\n",
    "        (\"1_write_last_digit\", 's') : { (\"write_last_1\", '.', 'R') },\n",
    "        #\n",
    "        (\"write_last_0\", '.') : { (\"find_start_of_answer\", '0', 'S') },\n",
    "        #\n",
    "        (\"write_last_1\", '.') : { (\"find_start_of_answer\", '1', 'S') },\n",
    "        #\n",
    "        (\"0_find_end_of_sum\", '0') : { (\"0_find_end_of_sum\", '0', 'L') },\n",
    "        (\"0_find_end_of_sum\", '1') : { (\"0_find_end_of_sum\", '1', 'L') },\n",
    "        (\"0_find_end_of_sum\", '.') : { (\"0_find_answer\", '.', 'L') },\n",
    "        #\n",
    "        (\"1_find_end_of_sum\", '0') : { (\"1_find_end_of_sum\", '0', 'L') },\n",
    "        (\"1_find_end_of_sum\", '1') : { (\"1_find_end_of_sum\", '1', 'L') },\n",
    "        (\"1_find_end_of_sum\", '.') : { (\"1_find_answer\", '.', 'L') },\n",
    "        #\n",
    "        (\"0_find_answer\", '.') : { (\"0_find_answer\", '.', 'L') },\n",
    "        (\"0_find_answer\", '0') : { (\"write_0\", '0', 'R') },\n",
    "        (\"0_find_answer\", '1') : { (\"write_0\", '1', 'R') },\n",
    "        (\"0_find_answer\", 's') : { (\"write_0\", '.', 'R') },\n",
    "        #\n",
    "        (\"1_find_answer\", '.') : { (\"1_find_answer\", '.', 'L') },\n",
    "        (\"1_find_answer\", '0') : { (\"write_1\", '0', 'R') },\n",
    "        (\"1_find_answer\", '1') : { (\"write_1\", '1', 'R') },\n",
    "        (\"1_find_answer\", 's') : { (\"write_1\", '.', 'R') },\n",
    "        #\n",
    "        (\"write_0\", '.') : { (\"find_start_of_sum\", '0', 'R') },\n",
    "        #\n",
    "        (\"write_1\", '.') : { (\"find_start_of_sum\", '1', 'R') },\n",
    "        #\n",
    "        (\"find_start_of_sum\", '.') : { (\"find_start_of_sum\", '.', 'R') },\n",
    "        (\"find_start_of_sum\", '0') : { (\"find_end_of_sum\", '0', 'S') },\n",
    "        (\"find_start_of_sum\", '1') : { (\"find_end_of_sum\", '1', 'S') },\n",
    "        #\n",
    "        (\"find_start_of_answer\", '0') : { (\"find_start_of_answer\", '0', 'L') },\n",
    "        (\"find_start_of_answer\", '1') : { (\"find_start_of_answer\", '1', 'L') },\n",
    "        (\"find_start_of_answer\", '.') : { (\"erase_leading_zeros\", '.', 'R') },\n",
    "        #\n",
    "        (\"erase_leading_zeros\", '0') : { (\"erase_leading_zeros\", '.', 'R') },\n",
    "        (\"erase_leading_zeros\", '1') : { (\"done\", '1', 'S') },\n",
    "        (\"erase_leading_zeros\", '.') : { (\"done\", '0', 'S') },\n",
    "        # End answer formatting\n",
    "    },\n",
    "\n",
    "    \"q0\"    : \"start\",\n",
    "\n",
    "    \"B\"     : '.',\n",
    "\n",
    "    \"F\"     : {\"done\"}\n",
    "}"
   ]
  },
  {
   "cell_type": "code",
   "execution_count": null,
   "metadata": {
    "run_control": {
     "frozen": false,
     "read_only": false
    }
   },
   "outputs": [],
   "source": [
    "dotObj_tm(addtm)"
   ]
  },
  {
   "cell_type": "code",
   "execution_count": null,
   "metadata": {
    "run_control": {
     "frozen": false,
     "read_only": false
    }
   },
   "outputs": [],
   "source": [
    "dotObj_tm(addtm, FuseEdges=True)"
   ]
  },
  {
   "cell_type": "code",
   "execution_count": null,
   "metadata": {
    "run_control": {
     "frozen": false,
     "read_only": false
    }
   },
   "outputs": [],
   "source": [
    "addtmobj = dotObj_tm(addtm)"
   ]
  },
  {
   "cell_type": "code",
   "execution_count": null,
   "metadata": {
    "run_control": {
     "frozen": false,
     "read_only": false
    }
   },
   "outputs": [],
   "source": [
    "explore_tm(addtm, \"11111101+11111101\", 735)"
   ]
  },
  {
   "cell_type": "code",
   "execution_count": null,
   "metadata": {
    "run_control": {
     "frozen": false,
     "read_only": false
    }
   },
   "outputs": [],
   "source": [
    "dec_doub = md2mc(src='File', fname='machines/tmfiles/decimal_double_tm.tm')\n",
    "dotObj_tm(dec_doub)"
   ]
  },
  {
   "cell_type": "code",
   "execution_count": null,
   "metadata": {
    "run_control": {
     "frozen": false,
     "read_only": false
    }
   },
   "outputs": [],
   "source": [
    "dotObj_tm(dec_doub, FuseEdges = True)"
   ]
  },
  {
   "cell_type": "code",
   "execution_count": null,
   "metadata": {
    "run_control": {
     "frozen": false,
     "read_only": false
    }
   },
   "outputs": [],
   "source": [
    "# Doubles the number given on the tape in decimal!\n",
    "explore_tm(dec_doub, \"231\", 100)"
   ]
  },
  {
   "cell_type": "code",
   "execution_count": null,
   "metadata": {
    "run_control": {
     "frozen": false,
     "read_only": false
    }
   },
   "outputs": [],
   "source": [
    "collatz_tm = md2mc(src='File', fname='machines/tmfiles/collatz_tm.tm')\n",
    "dotObj_tm(collatz_tm)"
   ]
  },
  {
   "cell_type": "code",
   "execution_count": null,
   "metadata": {
    "run_control": {
     "frozen": false,
     "read_only": false
    }
   },
   "outputs": [],
   "source": [
    "DOcollatz = dotObj_tm(collatz_tm, FuseEdges=True)\n",
    "DOcollatz"
   ]
  },
  {
   "cell_type": "code",
   "execution_count": null,
   "metadata": {
    "run_control": {
     "frozen": false,
     "read_only": false
    }
   },
   "outputs": [],
   "source": [
    "# Will loop if the Collatz (\"3x+1\") program will ever loop!\n",
    "explore_tm(collatz_tm, \"0110\", 100)"
   ]
  },
  {
   "cell_type": "code",
   "execution_count": null,
   "metadata": {
    "run_control": {
     "frozen": false,
     "read_only": false
    }
   },
   "outputs": [],
   "source": [
    "shiftl_tm = md2mc(src='File', fname='machines/tmfiles/shift_left_tm.tm')\n",
    "dotObj_tm(shiftl_tm)"
   ]
  },
  {
   "cell_type": "code",
   "execution_count": null,
   "metadata": {
    "run_control": {
     "frozen": false,
     "read_only": false
    }
   },
   "outputs": [],
   "source": [
    "dotObj_tm(shiftl_tm, FuseEdges=True)"
   ]
  },
  {
   "cell_type": "code",
   "execution_count": null,
   "metadata": {
    "run_control": {
     "frozen": false,
     "read_only": false
    }
   },
   "outputs": [],
   "source": [
    "explore_tm(shiftl_tm, \"abaaba\", 100)"
   ]
  },
  {
   "cell_type": "code",
   "execution_count": null,
   "metadata": {
    "run_control": {
     "frozen": false,
     "read_only": false
    }
   },
   "outputs": [],
   "source": [
    "shiftr_tm = md2mc(src='File', fname='machines/tmfiles/shift_right_tm.tm')\n",
    "dotObj_tm(shiftr_tm)"
   ]
  },
  {
   "cell_type": "code",
   "execution_count": null,
   "metadata": {
    "run_control": {
     "frozen": false,
     "read_only": false
    }
   },
   "outputs": [],
   "source": [
    "dotObj_tm(shiftr_tm, True)"
   ]
  },
  {
   "cell_type": "code",
   "execution_count": null,
   "metadata": {
    "run_control": {
     "frozen": false,
     "read_only": false
    }
   },
   "outputs": [],
   "source": [
    "explore_tm(shiftr_tm, \"ababba\", 100)"
   ]
  },
  {
   "cell_type": "code",
   "execution_count": null,
   "metadata": {
    "run_control": {
     "frozen": false,
     "read_only": false
    }
   },
   "outputs": [],
   "source": []
  },
  {
   "cell_type": "code",
   "execution_count": null,
   "metadata": {
    "run_control": {
     "frozen": false,
     "read_only": false
    }
   },
   "outputs": [],
   "source": []
  },
  {
   "cell_type": "code",
   "execution_count": null,
   "metadata": {
    "run_control": {
     "frozen": false,
     "read_only": false
    }
   },
   "outputs": [],
   "source": []
  }
 ],
 "metadata": {
  "kernelspec": {
   "display_name": "Python 3",
   "language": "python",
   "name": "python3"
  },
  "language_info": {
   "codemirror_mode": {
    "name": "ipython",
    "version": 3
   },
   "file_extension": ".py",
   "mimetype": "text/x-python",
   "name": "python",
   "nbconvert_exporter": "python",
   "pygments_lexer": "ipython3",
   "version": "3.6.0"
  },
  "toc": {
   "colors": {
    "hover_highlight": "#DAA520",
    "running_highlight": "#FF0000",
    "selected_highlight": "#FFD700"
   },
   "moveMenuLeft": true,
   "nav_menu": {
    "height": "318px",
    "width": "252px"
   },
   "navigate_menu": true,
   "number_sections": true,
   "sideBar": true,
   "threshold": 4,
   "toc_cell": false,
   "toc_section_display": "block",
   "toc_window_display": false,
   "widenNotebook": false
  }
 },
 "nbformat": 4,
 "nbformat_minor": 1
}
