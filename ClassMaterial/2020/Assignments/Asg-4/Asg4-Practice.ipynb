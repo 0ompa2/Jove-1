{
 "cells": [
  {
   "cell_type": "markdown",
   "metadata": {
    "run_control": {
     "frozen": false,
     "read_only": false
    }
   },
   "source": [
    "# Exercises on NFA\n",
    "\n",
    "Illustration of NFA : animation + subset construction"
   ]
  },
  {
   "cell_type": "code",
   "execution_count": null,
   "metadata": {
    "run_control": {
     "frozen": false,
     "read_only": false
    }
   },
   "outputs": [],
   "source": [
    "#----TURN THESE ON IF RUNNING ON JOVE ON COLAB BY REMOVING THE ''' ... '''\n",
    "\n",
    "'''\n",
    "! if [ ! -d Jove ]; then git clone https://github.com/ganeshutah/Jove Jove; fi\n",
    "import sys\n",
    "sys.path.append('./Jove')\n",
    "sys.path.append('./Jove/jove')\n",
    "\n",
    "from jove.DotBashers import *\n",
    "from jove.Def_md2mc  import *\n",
    "from jove.Def_NFA    import *\n",
    "from jove.Def_DFA    import *\n",
    "from jove.AnimateNFA import *\n",
    "'''\n",
    "\n",
    "#----TURN THESE ON IF RUNNING ON OWN INSTALLATION (default turned-on)\n",
    "\n",
    "import sys\n",
    "sys.path[0:0] = ['../..' , '../../3rdparty',\n",
    "                 \n",
    "                 '../../..' , '../../../3rdparty',\n",
    "                 \n",
    "                 '../../../..' , '../../../../3rdparty',\n",
    "                 \n",
    "                 ] # Put these at the head of the search path\n",
    "from jove.DotBashers import *\n",
    "from jove.Def_md2mc  import *\n",
    "from jove.Def_NFA    import *\n",
    "from jove.Def_DFA    import *\n",
    "from jove.AnimateNFA import *"
   ]
  },
  {
   "cell_type": "markdown",
   "metadata": {},
   "source": [
    "# NFA illustrated in subset construction in the book"
   ]
  },
  {
   "cell_type": "code",
   "execution_count": null,
   "metadata": {},
   "outputs": [],
   "source": [
    "# First define animation widgets!!\n",
    "\n",
    "import ipywidgets as wdg\n",
    "def run_nfa_slider(N, s, n):\n",
    "    \"\"\"Run NFA N from N[\"Q0\"] (which is a set..) on substring s[0:n]\n",
    "    \"\"\"\n",
    "    S = N[\"Q0\"] \n",
    "    if (n > len(s)):\n",
    "        n = len(s)\n",
    "    print(\"string = \", s[0:n])\n",
    "    run_nfa(N, S, s[0:n], True)\n",
    "    \n",
    "def run_nfa_int(N1, N2):\n",
    "    \"\"\"Run interactively from the given NFA .. from {q0} \n",
    "       on input string's substring\n",
    "       as picked by slider.\n",
    "    \"\"\"\n",
    "    inp = input(\"Please provide string: \")\n",
    "    wdg.interact(run_nfa_slider, N = {'N1': N1, 'N2': N2}, \n",
    "                 s = inp, n=(0,32))"
   ]
  },
  {
   "cell_type": "code",
   "execution_count": null,
   "metadata": {},
   "outputs": [],
   "source": [
    "nfass = md2mc('''\n",
    "NFA \n",
    "\n",
    "I : '' -> A, G\n",
    "\n",
    "A : '' -> B, C\n",
    "\n",
    "B : 1 -> D\n",
    "\n",
    "C : 0 -> E\n",
    "\n",
    "D : '' -> A, G\n",
    "\n",
    "E : '' -> A, G\n",
    "\n",
    "G : 1 -> F\n",
    "\n",
    "''')"
   ]
  },
  {
   "cell_type": "code",
   "execution_count": null,
   "metadata": {},
   "outputs": [],
   "source": [
    "nfa3L = md2mc('''\n",
    "\n",
    "NFA\n",
    "\n",
    "\n",
    "I : 0|1 -> I\n",
    "\n",
    "I : '' -> A\n",
    "\n",
    "A : 1 -> B\n",
    "\n",
    "B : 0|1 -> C\n",
    "\n",
    "C : 0|1 -> F\n",
    "\n",
    "''')\n",
    "              \n",
    "              "
   ]
  },
  {
   "cell_type": "code",
   "execution_count": null,
   "metadata": {},
   "outputs": [],
   "source": [
    "dotObj_nfa(nfass)"
   ]
  },
  {
   "cell_type": "code",
   "execution_count": null,
   "metadata": {},
   "outputs": [],
   "source": [
    "dotObj_nfa(nfa3L, FuseEdges=\"True\")"
   ]
  },
  {
   "cell_type": "code",
   "execution_count": null,
   "metadata": {},
   "outputs": [],
   "source": [
    "dotObj_nfa(nfass)"
   ]
  },
  {
   "cell_type": "code",
   "execution_count": null,
   "metadata": {},
   "outputs": [],
   "source": []
  },
  {
   "cell_type": "markdown",
   "metadata": {},
   "source": [
    "## This example is highly worth studying via animations\n",
    "\n",
    "Put it in animate mode, and then single-step to see the EClosure of states"
   ]
  },
  {
   "cell_type": "code",
   "execution_count": null,
   "metadata": {},
   "outputs": [],
   "source": [
    "AnimateNFA(nfass, FuseEdges=False)"
   ]
  },
  {
   "cell_type": "code",
   "execution_count": null,
   "metadata": {},
   "outputs": [],
   "source": [
    "AnimateNFA(nfa3L, FuseEdges=False)"
   ]
  },
  {
   "cell_type": "code",
   "execution_count": null,
   "metadata": {},
   "outputs": [],
   "source": [
    "dotObj_nfa(nfass, FuseEdges=\"True\")"
   ]
  },
  {
   "cell_type": "code",
   "execution_count": null,
   "metadata": {},
   "outputs": [],
   "source": [
    "dotObj_nfa(nfa3L, FuseEdges=\"True\")"
   ]
  },
  {
   "cell_type": "code",
   "execution_count": null,
   "metadata": {},
   "outputs": [],
   "source": []
  },
  {
   "cell_type": "markdown",
   "metadata": {
    "run_control": {
     "frozen": false,
     "read_only": false
    }
   },
   "source": [
    "# Let's understand EClosure etc"
   ]
  },
  {
   "cell_type": "code",
   "execution_count": null,
   "metadata": {},
   "outputs": [],
   "source": [
    "run_nfa_int(nfass, nfa3L)"
   ]
  },
  {
   "cell_type": "code",
   "execution_count": null,
   "metadata": {},
   "outputs": [],
   "source": []
  }
 ],
 "metadata": {
  "kernelspec": {
   "display_name": "Python 3",
   "language": "python",
   "name": "python3"
  },
  "language_info": {
   "codemirror_mode": {
    "name": "ipython",
    "version": 3
   },
   "file_extension": ".py",
   "mimetype": "text/x-python",
   "name": "python",
   "nbconvert_exporter": "python",
   "pygments_lexer": "ipython3",
   "version": "3.7.3"
  },
  "toc": {
   "colors": {
    "hover_highlight": "#DAA520",
    "running_highlight": "#FF0000",
    "selected_highlight": "#FFD700"
   },
   "moveMenuLeft": true,
   "nav_menu": {
    "height": "121px",
    "width": "252px"
   },
   "navigate_menu": true,
   "number_sections": true,
   "sideBar": true,
   "threshold": 4,
   "toc_cell": false,
   "toc_section_display": "block",
   "toc_window_display": false,
   "widenNotebook": false
  },
  "widgets": {
   "state": {
    "430c92ee02b34ec1912bf03c8de1e6dc": {
     "views": [
      {
       "cell_index": 20
      }
     ]
    }
   },
   "version": "1.2.0"
  }
 },
 "nbformat": 4,
 "nbformat_minor": 2
}
