{
 "cells": [
  {
   "cell_type": "code",
   "execution_count": 1,
   "metadata": {
    "run_control": {
     "frozen": false,
     "read_only": false
    }
   },
   "outputs": [
    {
     "name": "stdout",
     "output_type": "stream",
     "text": [
      "You may use any of these help commands:\n",
      "help(ResetStNum)\n",
      "help(NxtStateStr)\n",
      "\n",
      "You may use any of these help commands:\n",
      "help(mkp_dfa)\n",
      "help(mk_dfa)\n",
      "help(totalize_dfa)\n",
      "help(addtosigma_delta)\n",
      "help(step_dfa)\n",
      "help(run_dfa)\n",
      "help(accepts_dfa)\n",
      "help(comp_dfa)\n",
      "help(union_dfa)\n",
      "help(intersect_dfa)\n",
      "help(pruneUnreach)\n",
      "help(iso_dfa)\n",
      "help(langeq_dfa)\n",
      "help(same_status)\n",
      "help(h_langeq_dfa)\n",
      "help(fixptDist)\n",
      "help(min_dfa)\n",
      "help(pairFR)\n",
      "help(state_combos)\n",
      "help(sepFinNonFin)\n",
      "help(bash_eql_classes)\n",
      "help(listminus)\n",
      "help(bash_1)\n",
      "help(mk_rep_eqc)\n",
      "help(F_of)\n",
      "help(rep_of_s)\n",
      "help(q0_of)\n",
      "help(Delta_of)\n",
      "help(mk_state_eqc_name)\n",
      "\n",
      "You may use any of these help commands:\n",
      "help(mk_nfa)\n",
      "help(totalize_nfa)\n",
      "help(step_nfa)\n",
      "help(run_nfa)\n",
      "help(ec_step_nfa)\n",
      "help(Eclosure)\n",
      "help(Echelp)\n",
      "help(accepts_nfa)\n",
      "help(nfa2dfa)\n",
      "help(n2d)\n",
      "help(inSets)\n",
      "help(rev_dfa)\n",
      "help(min_dfa_brz)\n",
      "\n",
      "You may use any of these help commands:\n",
      "help(re2nfa)\n",
      "\n",
      "You may use any of these help commands:\n",
      "help(RE2Str)\n",
      "help(mk_gnfa)\n",
      "help(mk_gnfa_from_D)\n",
      "help(dfa2nfa)\n",
      "help(del_gnfa_states)\n",
      "help(gnfa_w_REStr)\n",
      "help(del_one_gnfa_state)\n",
      "help(Edges_Exist_Via)\n",
      "help(choose_state_to_del)\n",
      "help(form_alt_RE)\n",
      "help(form_concat_RE)\n",
      "help(form_kleene_RE)\n",
      "\n",
      "You may use any of these help commands:\n",
      "help(md2mc)\n",
      ".. and if you want to dig more, then ..\n",
      "help(default_line_attr)\n",
      "help(length_ok_input_items)\n",
      "help(union_line_attr_list_fld)\n",
      "help(extend_rsltdict)\n",
      "help(form_delta)\n",
      "help(get_machine_components)\n",
      "\n"
     ]
    }
   ],
   "source": [
    "from jove.StateNameSanitizers import *\n",
    "from jove.DotBashers import *\n",
    "from jove.Def_DFA import *\n",
    "from jove.Def_NFA import *\n",
    "from jove.Def_RE2NFA import *\n",
    "from jove.Def_NFA2RE import *\n",
    "from jove.Def_md2mc import *"
   ]
  },
  {
   "cell_type": "markdown",
   "metadata": {
    "run_control": {
     "frozen": false,
     "read_only": false
    }
   },
   "source": [
    "** IMPORTANT NOTE: RESTART AND RUN ALL CELLS SO THAT THE STATES GET NUMBERED\n",
    "CORRECTLY AS PER THE EMBEDDED DESCRIPTIONS IN THIS NOTEBOOK **"
   ]
  },
  {
   "cell_type": "code",
   "execution_count": 2,
   "metadata": {
    "run_control": {
     "frozen": false,
     "read_only": false
    }
   },
   "outputs": [
    {
     "data": {
      "text/plain": [
       "0"
      ]
     },
     "execution_count": 2,
     "metadata": {},
     "output_type": "execute_result"
    }
   ],
   "source": [
    "# Reset the state numbering counter\n",
    "ResetStNum()"
   ]
  },
  {
   "cell_type": "markdown",
   "metadata": {
    "run_control": {
     "frozen": false,
     "read_only": false
    }
   },
   "source": [
    " # BDDs: Efficient Data Stuctures for Boolean Function Representation\n",
    " \n",
    " Boolean functions occur widely in computer science. In order to represent and manipulate large Boolean\n",
    " functions, one must choose good data structures. A data structure called BDDs often works well. In fact,\n",
    " Prof. Donald Knuth [has said](https://en.wikipedia.org/wiki/Binary_decision_diagram)  in his lecture\n",
    " _Fun With Binary Decision Diagrams_  that BDDs are\"one of the only really fundamental data structures \n",
    " that came out in the last twenty-five years.\"\n",
    " \n",
    " We are studying BDDs in our book because BDDs are nothing but a small variant of \n",
    " minimal DFAs for a simple language that one\n",
    " can obtain from a given Boolean function. Given that we have studied minimal\n",
    " DFAs extensively, it looks quite opportune to point out yet another amazing connection\n",
    " in computer science -- specifically, the study of Boolean functions being another application of minimal DFA.\n",
    " \n",
    " In this narrative, we will cover all the required basics one by one; we assume very little by the way of\n",
    " prerequisites."
   ]
  },
  {
   "cell_type": "markdown",
   "metadata": {
    "run_control": {
     "frozen": false,
     "read_only": false
    }
   },
   "source": [
    "## Boolean functions, and viewing their on-sets as formal languages"
   ]
  },
  {
   "cell_type": "markdown",
   "metadata": {
    "run_control": {
     "frozen": false,
     "read_only": false
    }
   },
   "source": [
    "A Boolean function f(x1,x0) admits a truth-table of four entries with the\n",
    "truth-table output (called \"personality\") defining the function for the\n",
    "standard order of enumeration of x0 and x1. For AND, taking the inputs \n",
    "x1,x0 through 00, 01, 10 and 11, the outputs of AND are 0001 (the string\n",
    "0001 is its personality). The personality has $2^2$ bits (for a $2$-input\n",
    "Boolean function). There are $2^{2^2} = 16$ personalities for a $2$-input\n",
    "Boolean function. Each personality defines a Boolean function; thus, there\n",
    "are $16$ possible Boolean functions.\n",
    "\n",
    "Here are personalities of some common functions: \n",
    "\n",
    "```\n",
    " Inputs  Personalities\n",
    "----------------------\n",
    "| x1 x0 | OR XOR NOR |\n",
    "----------------------\n",
    "| 0  0  | 0  0   1   |\n",
    "| 0  1  | 1  1   0   |\n",
    "| 1  0  | 1  1   0   |\n",
    "| 1  1  | 1  0   0   |\n",
    "----------------------\n",
    "```\n",
    "\n",
    "In general, an $N$-input truth-table has $2^N$ \n",
    "truth-table rows and a personality of length $2^N$, thus admitting $2^{2^N}$\n",
    "Boolean functions of $N$ inputs.\n",
    "\n",
    "It is impractical (and insane) to be building truth-tables for Boolean functions with\n",
    "many inputs. Even a $64$-input Boolean function will have a truth-table of $2^{64}$ rows.\n",
    "Suppose we want to even print one such truth-table. At 80 rows printed per sheet of paper and\n",
    "five grams of weight per sheet, we will need 46-billion tons of paper to print. Even a \n",
    "newborn human baby would be dead of ripe old age by the time this many pages are printed.\n",
    "\n",
    "Yet, there is a method by which _many_ 64-input Boolean functions can be exactly\n",
    "represented using alternative representations than truth-tables. (To emphasize this a bit,\n",
    "not all functions can be so represented, but it works for many Boolean functions occurring in practice.)\n",
    "\n",
    "One such representation is called a Binary Decision Diagram.\n",
    "\n",
    "Binary Decision Diagrams (BDD) are graph structures that summarize a Boolean function's\n",
    "on-sets (sets of inputs for which the function is true). The on-set of the AND function\n",
    "is {11} while that for the OR function is {01, 10, 11}.\n",
    "\n",
    "One can read on-sets as a formal language. The language of an OR-gate is thus {01, 10, 11}\n",
    "(its on-set) and the language of (the on-set of) an AND-gate is {11}."
   ]
  },
  {
   "cell_type": "markdown",
   "metadata": {
    "run_control": {
     "frozen": false,
     "read_only": false
    }
   },
   "source": [
    "## Minimal DFA for the on-set of an XOR and OR\n",
    "\n",
    "In order to drive the point home with respect to how minimal DFA can be made to encode\n",
    "the on-set of functions, let us build a minimal DFA for the language of XOR's on-set and also OR's on-set."
   ]
  },
  {
   "cell_type": "code",
   "execution_count": 5,
   "metadata": {
    "run_control": {
     "frozen": false,
     "read_only": false
    }
   },
   "outputs": [
    {
     "data": {
      "image/svg+xml": [
       "<?xml version=\"1.0\" encoding=\"UTF-8\" standalone=\"no\"?>\n",
       "<!DOCTYPE svg PUBLIC \"-//W3C//DTD SVG 1.1//EN\"\n",
       " \"http://www.w3.org/Graphics/SVG/1.1/DTD/svg11.dtd\">\n",
       "<!-- Generated by graphviz version 2.38.0 (20140413.2041)\n",
       " -->\n",
       "<!-- Title: %3 Pages: 1 -->\n",
       "<svg width=\"416pt\" height=\"129pt\"\n",
       " viewBox=\"0.00 0.00 415.71 129.18\" xmlns=\"http://www.w3.org/2000/svg\" xmlns:xlink=\"http://www.w3.org/1999/xlink\">\n",
       "<g id=\"graph0\" class=\"graph\" transform=\"scale(1 1) rotate(0) translate(4 125.176)\">\n",
       "<title>%3</title>\n",
       "<polygon fill=\"white\" stroke=\"none\" points=\"-4,4 -4,-125.176 411.707,-125.176 411.707,4 -4,4\"/>\n",
       "<!-- EMPTY -->\n",
       "<g id=\"node1\" class=\"node\"><title>EMPTY</title>\n",
       "</g>\n",
       "<!-- St1 -->\n",
       "<g id=\"node3\" class=\"node\"><title>St1</title>\n",
       "<ellipse fill=\"none\" stroke=\"black\" cx=\"112.904\" cy=\"-62.7845\" rx=\"21.8081\" ry=\"21.8081\"/>\n",
       "<text text-anchor=\"middle\" x=\"112.904\" y=\"-58.5845\" font-family=\"Times,serif\" font-size=\"14.00\">St1</text>\n",
       "</g>\n",
       "<!-- EMPTY&#45;&gt;St1 -->\n",
       "<g id=\"edge1\" class=\"edge\"><title>EMPTY&#45;&gt;St1</title>\n",
       "<path fill=\"none\" stroke=\"black\" d=\"M54.0878,-62.7845C62.501,-62.7845 71.9126,-62.7845 80.6587,-62.7845\"/>\n",
       "<polygon fill=\"black\" stroke=\"black\" points=\"80.8854,-66.2846 90.8853,-62.7845 80.8853,-59.2846 80.8854,-66.2846\"/>\n",
       "</g>\n",
       "<!-- St3 -->\n",
       "<g id=\"node2\" class=\"node\"><title>St3</title>\n",
       "<ellipse fill=\"none\" stroke=\"black\" cx=\"199.712\" cy=\"-91.7845\" rx=\"21.8081\" ry=\"21.8081\"/>\n",
       "<text text-anchor=\"middle\" x=\"199.712\" y=\"-87.5845\" font-family=\"Times,serif\" font-size=\"14.00\">St3</text>\n",
       "</g>\n",
       "<!-- BH -->\n",
       "<g id=\"node4\" class=\"node\"><title>BH</title>\n",
       "<ellipse fill=\"none\" stroke=\"black\" cx=\"385.315\" cy=\"-52.7845\" rx=\"22.2841\" ry=\"22.2841\"/>\n",
       "<text text-anchor=\"middle\" x=\"385.315\" y=\"-48.5845\" font-family=\"Times,serif\" font-size=\"14.00\">BH</text>\n",
       "</g>\n",
       "<!-- St3&#45;&gt;BH -->\n",
       "<g id=\"edge4\" class=\"edge\"><title>St3&#45;&gt;BH</title>\n",
       "<path fill=\"none\" stroke=\"black\" d=\"M221.729,-95.0567C250.694,-98.6314 303.948,-101.798 344.923,-84.7845 350.658,-82.4035 356.22,-78.9086 361.27,-75.0935\"/>\n",
       "<polygon fill=\"black\" stroke=\"black\" points=\"363.753,-77.5822 369.226,-68.5107 359.29,-72.1889 363.753,-77.5822\"/>\n",
       "<text text-anchor=\"middle\" x=\"290.519\" y=\"-101.585\" font-family=\"Times,serif\" font-size=\"14.00\">1</text>\n",
       "</g>\n",
       "<!-- St4 -->\n",
       "<g id=\"node6\" class=\"node\"><title>St4</title>\n",
       "<ellipse fill=\"none\" stroke=\"black\" cx=\"290.519\" cy=\"-52.7845\" rx=\"21.8229\" ry=\"21.8229\"/>\n",
       "<ellipse fill=\"none\" stroke=\"black\" cx=\"290.519\" cy=\"-52.7845\" rx=\"25.8081\" ry=\"25.8081\"/>\n",
       "<text text-anchor=\"middle\" x=\"290.519\" y=\"-48.5845\" font-family=\"Times,serif\" font-size=\"14.00\">St4</text>\n",
       "</g>\n",
       "<!-- St3&#45;&gt;St4 -->\n",
       "<g id=\"edge5\" class=\"edge\"><title>St3&#45;&gt;St4</title>\n",
       "<path fill=\"none\" stroke=\"black\" d=\"M219.982,-83.3221C230.876,-78.5377 244.781,-72.4315 257.289,-66.9387\"/>\n",
       "<polygon fill=\"black\" stroke=\"black\" points=\"258.76,-70.1154 266.508,-62.8898 255.945,-63.7061 258.76,-70.1154\"/>\n",
       "<text text-anchor=\"middle\" x=\"243.115\" y=\"-77.5845\" font-family=\"Times,serif\" font-size=\"14.00\">0</text>\n",
       "</g>\n",
       "<!-- St1&#45;&gt;St3 -->\n",
       "<g id=\"edge2\" class=\"edge\"><title>St1&#45;&gt;St3</title>\n",
       "<path fill=\"none\" stroke=\"black\" d=\"M134.002,-69.6571C144.458,-73.2326 157.444,-77.6731 169.032,-81.6357\"/>\n",
       "<polygon fill=\"black\" stroke=\"black\" points=\"168.163,-85.0374 178.758,-84.9613 170.428,-78.4139 168.163,-85.0374\"/>\n",
       "<text text-anchor=\"middle\" x=\"156.308\" y=\"-81.5845\" font-family=\"Times,serif\" font-size=\"14.00\">1</text>\n",
       "</g>\n",
       "<!-- St2 -->\n",
       "<g id=\"node5\" class=\"node\"><title>St2</title>\n",
       "<ellipse fill=\"none\" stroke=\"black\" cx=\"199.712\" cy=\"-29.7845\" rx=\"21.8081\" ry=\"21.8081\"/>\n",
       "<text text-anchor=\"middle\" x=\"199.712\" y=\"-25.5845\" font-family=\"Times,serif\" font-size=\"14.00\">St2</text>\n",
       "</g>\n",
       "<!-- St1&#45;&gt;St2 -->\n",
       "<g id=\"edge3\" class=\"edge\"><title>St1&#45;&gt;St2</title>\n",
       "<path fill=\"none\" stroke=\"black\" d=\"M133.574,-55.1307C144.277,-50.9657 157.725,-45.733 169.618,-41.1052\"/>\n",
       "<polygon fill=\"black\" stroke=\"black\" points=\"171.098,-44.285 179.149,-37.3968 168.56,-37.7614 171.098,-44.285\"/>\n",
       "<text text-anchor=\"middle\" x=\"156.308\" y=\"-50.5845\" font-family=\"Times,serif\" font-size=\"14.00\">0</text>\n",
       "</g>\n",
       "<!-- BH&#45;&gt;BH -->\n",
       "<g id=\"edge8\" class=\"edge\"><title>BH&#45;&gt;BH</title>\n",
       "<path fill=\"none\" stroke=\"black\" d=\"M377.266,-73.9809C376.273,-84.1763 378.956,-93.1763 385.315,-93.1763 389.389,-93.1763 391.954,-89.4827 393.01,-84.1474\"/>\n",
       "<polygon fill=\"black\" stroke=\"black\" points=\"396.514,-84.0964 393.364,-73.9809 389.518,-83.8533 396.514,-84.0964\"/>\n",
       "<text text-anchor=\"middle\" x=\"385.315\" y=\"-109.976\" font-family=\"Times,serif\" font-size=\"14.00\">1 </text>\n",
       "<text text-anchor=\"middle\" x=\"385.315\" y=\"-95.9763\" font-family=\"Times,serif\" font-size=\"14.00\"> 0</text>\n",
       "</g>\n",
       "<!-- St2&#45;&gt;BH -->\n",
       "<g id=\"edge7\" class=\"edge\"><title>St2&#45;&gt;BH</title>\n",
       "<path fill=\"none\" stroke=\"black\" d=\"M219.43,-19.508C242.547,-8.19533 282.921,7.04267 316.423,-3.78452 332.943,-9.12348 348.827,-20.1465 361.071,-30.3877\"/>\n",
       "<polygon fill=\"black\" stroke=\"black\" points=\"359.102,-33.3158 368.93,-37.2733 363.715,-28.0508 359.102,-33.3158\"/>\n",
       "<text text-anchor=\"middle\" x=\"290.519\" y=\"-6.58452\" font-family=\"Times,serif\" font-size=\"14.00\">0</text>\n",
       "</g>\n",
       "<!-- St2&#45;&gt;St4 -->\n",
       "<g id=\"edge6\" class=\"edge\"><title>St2&#45;&gt;St4</title>\n",
       "<path fill=\"none\" stroke=\"black\" d=\"M221.309,-35.119C231.455,-37.7465 243.954,-40.9837 255.47,-43.9661\"/>\n",
       "<polygon fill=\"black\" stroke=\"black\" points=\"254.694,-47.3807 265.252,-46.4997 256.449,-40.6042 254.694,-47.3807\"/>\n",
       "<text text-anchor=\"middle\" x=\"243.115\" y=\"-44.5845\" font-family=\"Times,serif\" font-size=\"14.00\">1</text>\n",
       "</g>\n",
       "<!-- St4&#45;&gt;BH -->\n",
       "<g id=\"edge9\" class=\"edge\"><title>St4&#45;&gt;BH</title>\n",
       "<path fill=\"none\" stroke=\"black\" d=\"M316.876,-52.7845C327.887,-52.7845 340.904,-52.7845 352.55,-52.7845\"/>\n",
       "<polygon fill=\"black\" stroke=\"black\" points=\"352.763,-56.2846 362.763,-52.7845 352.763,-49.2846 352.763,-56.2846\"/>\n",
       "<text text-anchor=\"middle\" x=\"339.673\" y=\"-69.5845\" font-family=\"Times,serif\" font-size=\"14.00\">1 </text>\n",
       "<text text-anchor=\"middle\" x=\"339.673\" y=\"-55.5845\" font-family=\"Times,serif\" font-size=\"14.00\"> 0</text>\n",
       "</g>\n",
       "</g>\n",
       "</svg>\n"
      ],
      "text/plain": [
       "<graphviz.dot.Digraph at 0x11284e4a8>"
      ]
     },
     "execution_count": 5,
     "metadata": {},
     "output_type": "execute_result"
    }
   ],
   "source": [
    "L_XOR = \"(01+10)\"\n",
    "dotObj_dfa_w_bh(min_dfa(nfa2dfa(re2nfa(L_XOR))), FuseEdges=True, STATENAME_MAXSIZE=4)"
   ]
  },
  {
   "cell_type": "code",
   "execution_count": 7,
   "metadata": {
    "run_control": {
     "frozen": false,
     "read_only": false
    }
   },
   "outputs": [],
   "source": [
    "doXOR = dotObj_dfa_w_bh(min_dfa(nfa2dfa(re2nfa(L_XOR))), FuseEdges=True, STATENAME_MAXSIZE=4)"
   ]
  },
  {
   "cell_type": "code",
   "execution_count": 8,
   "metadata": {
    "run_control": {
     "frozen": false,
     "read_only": false
    }
   },
   "outputs": [
    {
     "data": {
      "text/plain": [
       "'/Users/ganesh/repos/atmm/book/CH17/XORdfa.dot.pdf'"
      ]
     },
     "execution_count": 8,
     "metadata": {},
     "output_type": "execute_result"
    }
   ],
   "source": [
    "doXOR.render('/Users/ganesh/repos/atmm/book/CH17/XORdfa.dot')"
   ]
  },
  {
   "cell_type": "markdown",
   "metadata": {
    "run_control": {
     "frozen": false,
     "read_only": false
    }
   },
   "source": [
    "It is easy to see that both 01 and 10 lead to the final state, namely St8, whereas 00 and 11 go to BH. Also excessively long inputs (of length more than two) also go to BH."
   ]
  },
  {
   "cell_type": "code",
   "execution_count": 9,
   "metadata": {
    "run_control": {
     "frozen": false,
     "read_only": false
    }
   },
   "outputs": [
    {
     "data": {
      "image/svg+xml": [
       "<?xml version=\"1.0\" encoding=\"UTF-8\" standalone=\"no\"?>\n",
       "<!DOCTYPE svg PUBLIC \"-//W3C//DTD SVG 1.1//EN\"\n",
       " \"http://www.w3.org/Graphics/SVG/1.1/DTD/svg11.dtd\">\n",
       "<!-- Generated by graphviz version 2.38.0 (20140413.2041)\n",
       " -->\n",
       "<!-- Title: %3 Pages: 1 -->\n",
       "<svg width=\"419pt\" height=\"152pt\"\n",
       " viewBox=\"0.00 0.00 419.21 152.30\" xmlns=\"http://www.w3.org/2000/svg\" xmlns:xlink=\"http://www.w3.org/1999/xlink\">\n",
       "<g id=\"graph0\" class=\"graph\" transform=\"scale(1 1) rotate(0) translate(4 148.296)\">\n",
       "<title>%3</title>\n",
       "<polygon fill=\"white\" stroke=\"none\" points=\"-4,4 -4,-148.296 415.207,-148.296 415.207,4 -4,4\"/>\n",
       "<!-- EMPTY -->\n",
       "<g id=\"node1\" class=\"node\"><title>EMPTY</title>\n",
       "</g>\n",
       "<!-- St1 -->\n",
       "<g id=\"node3\" class=\"node\"><title>St1</title>\n",
       "<ellipse fill=\"none\" stroke=\"black\" cx=\"112.904\" cy=\"-54.9039\" rx=\"21.8081\" ry=\"21.8081\"/>\n",
       "<text text-anchor=\"middle\" x=\"112.904\" y=\"-50.7039\" font-family=\"Times,serif\" font-size=\"14.00\">St1</text>\n",
       "</g>\n",
       "<!-- EMPTY&#45;&gt;St1 -->\n",
       "<g id=\"edge1\" class=\"edge\"><title>EMPTY&#45;&gt;St1</title>\n",
       "<path fill=\"none\" stroke=\"black\" d=\"M54.0878,-54.9039C62.501,-54.9039 71.9126,-54.9039 80.6587,-54.9039\"/>\n",
       "<polygon fill=\"black\" stroke=\"black\" points=\"80.8854,-58.404 90.8853,-54.9039 80.8853,-51.404 80.8854,-58.404\"/>\n",
       "</g>\n",
       "<!-- St4 -->\n",
       "<g id=\"node2\" class=\"node\"><title>St4</title>\n",
       "<ellipse fill=\"none\" stroke=\"black\" cx=\"199.712\" cy=\"-83.9039\" rx=\"21.8081\" ry=\"21.8081\"/>\n",
       "<text text-anchor=\"middle\" x=\"199.712\" y=\"-79.7039\" font-family=\"Times,serif\" font-size=\"14.00\">St4</text>\n",
       "</g>\n",
       "<!-- BH -->\n",
       "<g id=\"node4\" class=\"node\"><title>BH</title>\n",
       "<ellipse fill=\"none\" stroke=\"black\" cx=\"388.815\" cy=\"-75.9039\" rx=\"22.2841\" ry=\"22.2841\"/>\n",
       "<text text-anchor=\"middle\" x=\"388.815\" y=\"-71.7039\" font-family=\"Times,serif\" font-size=\"14.00\">BH</text>\n",
       "</g>\n",
       "<!-- St4&#45;&gt;BH -->\n",
       "<g id=\"edge6\" class=\"edge\"><title>St4&#45;&gt;BH</title>\n",
       "<path fill=\"none\" stroke=\"black\" d=\"M221.887,-86.7802C250.695,-90.1703 303.765,-94.5551 348.423,-87.9039 351.506,-87.4448 354.681,-86.794 357.827,-86.0303\"/>\n",
       "<polygon fill=\"black\" stroke=\"black\" points=\"358.938,-89.3543 367.634,-83.3016 357.061,-82.6105 358.938,-89.3543\"/>\n",
       "<text text-anchor=\"middle\" x=\"294.019\" y=\"-93.7039\" font-family=\"Times,serif\" font-size=\"14.00\">0</text>\n",
       "</g>\n",
       "<!-- St3 -->\n",
       "<g id=\"node6\" class=\"node\"><title>St3</title>\n",
       "<ellipse fill=\"none\" stroke=\"black\" cx=\"294.019\" cy=\"-39.9039\" rx=\"21.8229\" ry=\"21.8229\"/>\n",
       "<ellipse fill=\"none\" stroke=\"black\" cx=\"294.019\" cy=\"-39.9039\" rx=\"25.8081\" ry=\"25.8081\"/>\n",
       "<text text-anchor=\"middle\" x=\"294.019\" y=\"-35.7039\" font-family=\"Times,serif\" font-size=\"14.00\">St3</text>\n",
       "</g>\n",
       "<!-- St4&#45;&gt;St3 -->\n",
       "<g id=\"edge5\" class=\"edge\"><title>St4&#45;&gt;St3</title>\n",
       "<path fill=\"none\" stroke=\"black\" d=\"M219.838,-74.787C231.766,-69.1014 247.412,-61.6432 261.175,-55.083\"/>\n",
       "<polygon fill=\"black\" stroke=\"black\" points=\"262.812,-58.18 270.333,-50.7177 259.8,-51.8611 262.812,-58.18\"/>\n",
       "<text text-anchor=\"middle\" x=\"244.865\" y=\"-67.7039\" font-family=\"Times,serif\" font-size=\"14.00\">1</text>\n",
       "</g>\n",
       "<!-- St1&#45;&gt;St4 -->\n",
       "<g id=\"edge3\" class=\"edge\"><title>St1&#45;&gt;St4</title>\n",
       "<path fill=\"none\" stroke=\"black\" d=\"M134.002,-61.7765C144.458,-65.3519 157.444,-69.7924 169.032,-73.755\"/>\n",
       "<polygon fill=\"black\" stroke=\"black\" points=\"168.163,-77.1567 178.758,-77.0806 170.428,-70.5332 168.163,-77.1567\"/>\n",
       "<text text-anchor=\"middle\" x=\"156.308\" y=\"-73.7039\" font-family=\"Times,serif\" font-size=\"14.00\">0</text>\n",
       "</g>\n",
       "<!-- St2 -->\n",
       "<g id=\"node5\" class=\"node\"><title>St2</title>\n",
       "<ellipse fill=\"none\" stroke=\"black\" cx=\"199.712\" cy=\"-21.9039\" rx=\"21.8081\" ry=\"21.8081\"/>\n",
       "<text text-anchor=\"middle\" x=\"199.712\" y=\"-17.7039\" font-family=\"Times,serif\" font-size=\"14.00\">St2</text>\n",
       "</g>\n",
       "<!-- St1&#45;&gt;St2 -->\n",
       "<g id=\"edge2\" class=\"edge\"><title>St1&#45;&gt;St2</title>\n",
       "<path fill=\"none\" stroke=\"black\" d=\"M133.574,-47.2501C144.277,-43.085 157.725,-37.8523 169.618,-33.2245\"/>\n",
       "<polygon fill=\"black\" stroke=\"black\" points=\"171.098,-36.4043 179.149,-29.5162 168.56,-29.8808 171.098,-36.4043\"/>\n",
       "<text text-anchor=\"middle\" x=\"156.308\" y=\"-42.7039\" font-family=\"Times,serif\" font-size=\"14.00\">1</text>\n",
       "</g>\n",
       "<!-- BH&#45;&gt;BH -->\n",
       "<g id=\"edge8\" class=\"edge\"><title>BH&#45;&gt;BH</title>\n",
       "<path fill=\"none\" stroke=\"black\" d=\"M380.766,-97.1002C379.773,-107.296 382.456,-116.296 388.815,-116.296 392.889,-116.296 395.454,-112.602 396.51,-107.267\"/>\n",
       "<polygon fill=\"black\" stroke=\"black\" points=\"400.014,-107.216 396.864,-97.1002 393.018,-106.973 400.014,-107.216\"/>\n",
       "<text text-anchor=\"middle\" x=\"388.815\" y=\"-133.096\" font-family=\"Times,serif\" font-size=\"14.00\">1 </text>\n",
       "<text text-anchor=\"middle\" x=\"388.815\" y=\"-119.096\" font-family=\"Times,serif\" font-size=\"14.00\"> 0</text>\n",
       "</g>\n",
       "<!-- St2&#45;&gt;St3 -->\n",
       "<g id=\"edge4\" class=\"edge\"><title>St2&#45;&gt;St3</title>\n",
       "<path fill=\"none\" stroke=\"black\" d=\"M222.049,-20.6859C230.821,-20.6107 241.033,-21.0745 250.115,-22.9039 253.598,-23.6053 257.162,-24.5739 260.674,-25.6959\"/>\n",
       "<polygon fill=\"black\" stroke=\"black\" points=\"259.73,-29.0758 270.324,-29.1702 262.101,-22.4897 259.73,-29.0758\"/>\n",
       "<text text-anchor=\"middle\" x=\"244.865\" y=\"-39.7039\" font-family=\"Times,serif\" font-size=\"14.00\">1 </text>\n",
       "<text text-anchor=\"middle\" x=\"244.865\" y=\"-25.7039\" font-family=\"Times,serif\" font-size=\"14.00\"> 0</text>\n",
       "</g>\n",
       "<!-- St3&#45;&gt;BH -->\n",
       "<g id=\"edge7\" class=\"edge\"><title>St3&#45;&gt;BH</title>\n",
       "<path fill=\"none\" stroke=\"black\" d=\"M318.468,-48.527C327.811,-52.0039 338.647,-56.0886 348.423,-59.9039 351.685,-61.1769 355.091,-62.5275 358.475,-63.8832\"/>\n",
       "<polygon fill=\"black\" stroke=\"black\" points=\"357.235,-67.157 367.818,-67.6575 359.857,-60.6666 357.235,-67.157\"/>\n",
       "<text text-anchor=\"middle\" x=\"343.173\" y=\"-76.7039\" font-family=\"Times,serif\" font-size=\"14.00\">1 </text>\n",
       "<text text-anchor=\"middle\" x=\"343.173\" y=\"-62.7039\" font-family=\"Times,serif\" font-size=\"14.00\"> 0</text>\n",
       "</g>\n",
       "</g>\n",
       "</svg>\n"
      ],
      "text/plain": [
       "<graphviz.dot.Digraph at 0x1128090f0>"
      ]
     },
     "execution_count": 9,
     "metadata": {},
     "output_type": "execute_result"
    }
   ],
   "source": [
    "L_OR = \"(01+10+11)\"\n",
    "dotObj_dfa_w_bh(min_dfa(nfa2dfa(re2nfa(L_OR))), FuseEdges=True, STATENAME_MAXSIZE=4)"
   ]
  },
  {
   "cell_type": "code",
   "execution_count": 10,
   "metadata": {
    "run_control": {
     "frozen": false,
     "read_only": false
    }
   },
   "outputs": [],
   "source": [
    "doOR = dotObj_dfa_w_bh(min_dfa(nfa2dfa(re2nfa(L_OR))), FuseEdges=True, STATENAME_MAXSIZE=4)"
   ]
  },
  {
   "cell_type": "code",
   "execution_count": 11,
   "metadata": {
    "run_control": {
     "frozen": false,
     "read_only": false
    }
   },
   "outputs": [
    {
     "data": {
      "text/plain": [
       "'/Users/ganesh/repos/atmm/book/CH17/ORdfa.dot.pdf'"
      ]
     },
     "execution_count": 11,
     "metadata": {},
     "output_type": "execute_result"
    }
   ],
   "source": [
    "doOR.render('/Users/ganesh/repos/atmm/book/CH17/ORdfa.dot')"
   ]
  },
  {
   "cell_type": "markdown",
   "metadata": {
    "run_control": {
     "frozen": false,
     "read_only": false
    }
   },
   "source": [
    "One can build BDDs corresponding to these functions as will be describe in the book. Also see the section at the end on building BDDs.\n",
    "\n",
    "It is easy to compare the BDDs to these minimal DFA and note the following:\n",
    "\n",
    "* The minimal DFA keep edges marked 0/1 . The BDD eliminates such \"redundant decoding\" edges, short-circuiting the graph at those edges\n",
    "\n",
    "* The minimal DFA shows what happens when strings with excessive lengths are fed. The BDD stops with a ``0'' node or a ``1'' node at the leaf, and does not carry on to show what happens when an excessively long string is fed.\n",
    "\n",
    "* The BDD does show the BH state as the ``0'' node.\n",
    "\n",
    "So far, the advantage of minimal DFA (or BDD) over truth-tables hasn't been quite apparent. We now proceed to demonstrate that for larger functions, with the right decoding order of the variables, BDDs (and minimal DFA) can indeed be far more compact (whereas truth-tables are guaranteed exponential)"
   ]
  },
  {
   "cell_type": "markdown",
   "metadata": {
    "run_control": {
     "frozen": false,
     "read_only": false
    }
   },
   "source": [
    "## Building minimal DFA for the language of on-sets"
   ]
  },
  {
   "cell_type": "markdown",
   "metadata": {
    "run_control": {
     "frozen": false,
     "read_only": false
    }
   },
   "source": [
    "Suppose there is a 6-input Boolean function modeling a magnitude comparator that \n",
    "compares the binary value coming in through input ports x2,x1,x0 against the binary\n",
    "value coming through ports y2,y1,y0.\n",
    "\n",
    "The function is \"<\" where \"A < B\" means the usual \"less than\" comparison.\n",
    "\n",
    "More specifically, we write \"x2,x1,x0 < y2,y1,y0\" and we interpret the word x2,x1,x0\n",
    "using the standard positional binary notation (likewise also for y2,y1,y0).\n",
    "\n",
    "Here are some examples:\n",
    "\n",
    "* 000 < 001  because 0 is < 1  (and 0 is encoded in binary as 000 and 1 as 001)\n",
    "\n",
    "* 010 < 110  because 2 is < 6  (and 2 is encoded as 010 while 6 is encoded as 110)\n",
    "\n",
    "* 110 < 111  because 6 < 7\n",
    "\n",
    "```\n",
    "Here is a circuit schematic of such a comparator:\n",
    "\n",
    "      --------\n",
    "      |      |\n",
    "x2 -->|      |\n",
    "x1 -->|      |\n",
    "x0 -->|      |\n",
    "      |   <  |--> Output\n",
    "y2 -->|      |\n",
    "y1 -->|      |\n",
    "y0 -->|      |\n",
    "      |      |\n",
    "      --------\n",
    "\n",
    "\n",
    "```\n",
    "\n",
    "Let us now define a language of strings of length 6 representing the values of \n",
    "x2,x1,x0,y2,y1,y0 written adjacently, such that for those x,y values, the function\n",
    "outputs a 1. Call this language L.\n",
    "\n",
    "For instance, L contains 010101 because 010 is < 101 (i.e. 2 < 5)\n",
    "\n",
    "The reader may verify that this is the full L language written out as a regular expression.\n",
    "Of the $2^6 = 64$ strings, we have 28 strings in L's language. The regular expression for L is called R, and is defined below:\n",
    "\n",
    "```\n",
    "R =     \"(000001+000011+000111+001011+001111+\\\n",
    "          010011+010111+011111+100101+100111+\\\n",
    "          101111+110111+000010+000101+000110+\\\n",
    "          001010+001101+001110+010101+010110+\\\n",
    "          011101+011110+100110+101110+000100+\\\n",
    "          001100+010100+011100)\"\n",
    "```\n",
    "\n",
    "Let us build a minimal DFA for R."
   ]
  },
  {
   "cell_type": "code",
   "execution_count": 12,
   "metadata": {
    "run_control": {
     "frozen": false,
     "read_only": false
    }
   },
   "outputs": [
    {
     "data": {
      "image/svg+xml": [
       "<?xml version=\"1.0\" encoding=\"UTF-8\" standalone=\"no\"?>\n",
       "<!DOCTYPE svg PUBLIC \"-//W3C//DTD SVG 1.1//EN\"\n",
       " \"http://www.w3.org/Graphics/SVG/1.1/DTD/svg11.dtd\">\n",
       "<!-- Generated by graphviz version 2.38.0 (20140413.2041)\n",
       " -->\n",
       "<!-- Title: %3 Pages: 1 -->\n",
       "<svg width=\"823pt\" height=\"536pt\"\n",
       " viewBox=\"0.00 0.00 823.00 536.00\" xmlns=\"http://www.w3.org/2000/svg\" xmlns:xlink=\"http://www.w3.org/1999/xlink\">\n",
       "<g id=\"graph0\" class=\"graph\" transform=\"scale(1 1) rotate(0) translate(4 532)\">\n",
       "<title>%3</title>\n",
       "<polygon fill=\"white\" stroke=\"none\" points=\"-4,4 -4,-532 818.999,-532 818.999,4 -4,4\"/>\n",
       "<!-- EMPTY -->\n",
       "<g id=\"node1\" class=\"node\"><title>EMPTY</title>\n",
       "</g>\n",
       "<!-- St1 -->\n",
       "<g id=\"node3\" class=\"node\"><title>St1</title>\n",
       "<ellipse fill=\"none\" stroke=\"black\" cx=\"112.904\" cy=\"-307\" rx=\"21.8081\" ry=\"21.8081\"/>\n",
       "<text text-anchor=\"middle\" x=\"112.904\" y=\"-302.8\" font-family=\"Times,serif\" font-size=\"14.00\">St1</text>\n",
       "</g>\n",
       "<!-- EMPTY&#45;&gt;St1 -->\n",
       "<g id=\"edge1\" class=\"edge\"><title>EMPTY&#45;&gt;St1</title>\n",
       "<path fill=\"none\" stroke=\"black\" d=\"M54.0878,-307C62.501,-307 71.9126,-307 80.6587,-307\"/>\n",
       "<polygon fill=\"black\" stroke=\"black\" points=\"80.8854,-310.5 90.8853,-307 80.8853,-303.5 80.8854,-310.5\"/>\n",
       "</g>\n",
       "<!-- St25 -->\n",
       "<g id=\"node2\" class=\"node\"><title>St25</title>\n",
       "<ellipse fill=\"none\" stroke=\"black\" cx=\"590.238\" cy=\"-201\" rx=\"26.1523\" ry=\"26.1523\"/>\n",
       "<text text-anchor=\"middle\" x=\"590.238\" y=\"-196.8\" font-family=\"Times,serif\" font-size=\"14.00\">St25</text>\n",
       "</g>\n",
       "<!-- St67 -->\n",
       "<g id=\"node23\" class=\"node\"><title>St67</title>\n",
       "<ellipse fill=\"none\" stroke=\"black\" cx=\"693.389\" cy=\"-218\" rx=\"26.1751\" ry=\"26.1751\"/>\n",
       "<ellipse fill=\"none\" stroke=\"black\" cx=\"693.389\" cy=\"-218\" rx=\"30.1522\" ry=\"30.1522\"/>\n",
       "<text text-anchor=\"middle\" x=\"693.389\" y=\"-213.8\" font-family=\"Times,serif\" font-size=\"14.00\">St67</text>\n",
       "</g>\n",
       "<!-- St25&#45;&gt;St67 -->\n",
       "<g id=\"edge40\" class=\"edge\"><title>St25&#45;&gt;St67</title>\n",
       "<path fill=\"none\" stroke=\"black\" d=\"M616.568,-201.203C625.612,-201.594 635.842,-202.401 645.064,-204 648.131,-204.532 651.28,-205.194 654.427,-205.94\"/>\n",
       "<polygon fill=\"black\" stroke=\"black\" points=\"653.804,-209.395 664.365,-208.547 655.58,-202.624 653.804,-209.395\"/>\n",
       "<text text-anchor=\"middle\" x=\"639.814\" y=\"-220.8\" font-family=\"Times,serif\" font-size=\"14.00\">1 </text>\n",
       "<text text-anchor=\"middle\" x=\"639.814\" y=\"-206.8\" font-family=\"Times,serif\" font-size=\"14.00\"> 0</text>\n",
       "</g>\n",
       "<!-- St8 -->\n",
       "<g id=\"node6\" class=\"node\"><title>St8</title>\n",
       "<ellipse fill=\"none\" stroke=\"black\" cx=\"204.133\" cy=\"-357\" rx=\"21.8081\" ry=\"21.8081\"/>\n",
       "<text text-anchor=\"middle\" x=\"204.133\" y=\"-352.8\" font-family=\"Times,serif\" font-size=\"14.00\">St8</text>\n",
       "</g>\n",
       "<!-- St1&#45;&gt;St8 -->\n",
       "<g id=\"edge2\" class=\"edge\"><title>St1&#45;&gt;St8</title>\n",
       "<path fill=\"none\" stroke=\"black\" d=\"M132.392,-317.36C144.955,-324.399 161.784,-333.83 175.876,-341.726\"/>\n",
       "<polygon fill=\"black\" stroke=\"black\" points=\"174.234,-344.818 184.669,-346.653 177.656,-338.711 174.234,-344.818\"/>\n",
       "<text text-anchor=\"middle\" x=\"156.308\" y=\"-334.8\" font-family=\"Times,serif\" font-size=\"14.00\">1</text>\n",
       "</g>\n",
       "<!-- St18 -->\n",
       "<g id=\"node15\" class=\"node\"><title>St18</title>\n",
       "<ellipse fill=\"none\" stroke=\"black\" cx=\"204.133\" cy=\"-250\" rx=\"26.1523\" ry=\"26.1523\"/>\n",
       "<text text-anchor=\"middle\" x=\"204.133\" y=\"-245.8\" font-family=\"Times,serif\" font-size=\"14.00\">St18</text>\n",
       "</g>\n",
       "<!-- St1&#45;&gt;St18 -->\n",
       "<g id=\"edge3\" class=\"edge\"><title>St1&#45;&gt;St18</title>\n",
       "<path fill=\"none\" stroke=\"black\" d=\"M131.961,-295.465C143.741,-287.94 159.405,-277.934 173.039,-269.225\"/>\n",
       "<polygon fill=\"black\" stroke=\"black\" points=\"175.1,-272.061 181.644,-263.728 171.332,-266.162 175.1,-272.061\"/>\n",
       "<text text-anchor=\"middle\" x=\"156.308\" y=\"-284.8\" font-family=\"Times,serif\" font-size=\"14.00\">0</text>\n",
       "</g>\n",
       "<!-- St23 -->\n",
       "<g id=\"node4\" class=\"node\"><title>St23</title>\n",
       "<ellipse fill=\"none\" stroke=\"black\" cx=\"395.436\" cy=\"-179\" rx=\"26.1523\" ry=\"26.1523\"/>\n",
       "<text text-anchor=\"middle\" x=\"395.436\" y=\"-174.8\" font-family=\"Times,serif\" font-size=\"14.00\">St23</text>\n",
       "</g>\n",
       "<!-- St43 -->\n",
       "<g id=\"node10\" class=\"node\"><title>St43</title>\n",
       "<ellipse fill=\"none\" stroke=\"black\" cx=\"491.087\" cy=\"-104\" rx=\"26.1523\" ry=\"26.1523\"/>\n",
       "<text text-anchor=\"middle\" x=\"491.087\" y=\"-99.8\" font-family=\"Times,serif\" font-size=\"14.00\">St43</text>\n",
       "</g>\n",
       "<!-- St23&#45;&gt;St43 -->\n",
       "<g id=\"edge29\" class=\"edge\"><title>St23&#45;&gt;St43</title>\n",
       "<path fill=\"none\" stroke=\"black\" d=\"M411.532,-157.957C422.524,-142.844 436.101,-124.681 439.761,-122 444.557,-118.487 450.104,-115.606 455.726,-113.259\"/>\n",
       "<polygon fill=\"black\" stroke=\"black\" points=\"456.961,-116.534 465.139,-109.798 454.545,-109.964 456.961,-116.534\"/>\n",
       "<text text-anchor=\"middle\" x=\"443.261\" y=\"-124.8\" font-family=\"Times,serif\" font-size=\"14.00\">1</text>\n",
       "</g>\n",
       "<!-- St24 -->\n",
       "<g id=\"node21\" class=\"node\"><title>St24</title>\n",
       "<ellipse fill=\"none\" stroke=\"black\" cx=\"491.087\" cy=\"-254\" rx=\"26.1523\" ry=\"26.1523\"/>\n",
       "<text text-anchor=\"middle\" x=\"491.087\" y=\"-249.8\" font-family=\"Times,serif\" font-size=\"14.00\">St24</text>\n",
       "</g>\n",
       "<!-- St23&#45;&gt;St24 -->\n",
       "<g id=\"edge30\" class=\"edge\"><title>St23&#45;&gt;St24</title>\n",
       "<path fill=\"none\" stroke=\"black\" d=\"M416.546,-194.924C425.767,-202.242 436.832,-211.044 446.761,-219 451.595,-222.874 456.723,-227 461.695,-231.011\"/>\n",
       "<polygon fill=\"black\" stroke=\"black\" points=\"459.857,-234.025 469.836,-237.585 464.255,-228.579 459.857,-234.025\"/>\n",
       "<text text-anchor=\"middle\" x=\"443.261\" y=\"-221.8\" font-family=\"Times,serif\" font-size=\"14.00\">0</text>\n",
       "</g>\n",
       "<!-- St33 -->\n",
       "<g id=\"node5\" class=\"node\"><title>St33</title>\n",
       "<ellipse fill=\"none\" stroke=\"black\" cx=\"491.087\" cy=\"-181\" rx=\"26.1523\" ry=\"26.1523\"/>\n",
       "<text text-anchor=\"middle\" x=\"491.087\" y=\"-176.8\" font-family=\"Times,serif\" font-size=\"14.00\">St33</text>\n",
       "</g>\n",
       "<!-- St33&#45;&gt;St25 -->\n",
       "<g id=\"edge33\" class=\"edge\"><title>St33&#45;&gt;St25</title>\n",
       "<path fill=\"none\" stroke=\"black\" d=\"M517.513,-180.096C526.566,-180.258 536.778,-181.001 545.913,-183 549.548,-183.796 553.265,-184.88 556.92,-186.126\"/>\n",
       "<polygon fill=\"black\" stroke=\"black\" points=\"555.757,-189.428 566.348,-189.71 558.245,-182.885 555.757,-189.428\"/>\n",
       "<text text-anchor=\"middle\" x=\"540.663\" y=\"-185.8\" font-family=\"Times,serif\" font-size=\"14.00\">1</text>\n",
       "</g>\n",
       "<!-- BH -->\n",
       "<g id=\"node12\" class=\"node\"><title>BH</title>\n",
       "<ellipse fill=\"none\" stroke=\"black\" cx=\"792.607\" cy=\"-326\" rx=\"22.2841\" ry=\"22.2841\"/>\n",
       "<text text-anchor=\"middle\" x=\"792.607\" y=\"-321.8\" font-family=\"Times,serif\" font-size=\"14.00\">BH</text>\n",
       "</g>\n",
       "<!-- St33&#45;&gt;BH -->\n",
       "<g id=\"edge34\" class=\"edge\"><title>St33&#45;&gt;BH</title>\n",
       "<path fill=\"none\" stroke=\"black\" d=\"M516.29,-172.572C561.454,-158.483 659.775,-135.717 723.715,-179 762.216,-205.063 779.307,-258.806 786.582,-293.585\"/>\n",
       "<polygon fill=\"black\" stroke=\"black\" points=\"783.206,-294.562 788.537,-303.718 790.079,-293.236 783.206,-294.562\"/>\n",
       "<text text-anchor=\"middle\" x=\"639.814\" y=\"-157.8\" font-family=\"Times,serif\" font-size=\"14.00\">0</text>\n",
       "</g>\n",
       "<!-- St16 -->\n",
       "<g id=\"node9\" class=\"node\"><title>St16</title>\n",
       "<ellipse fill=\"none\" stroke=\"black\" cx=\"299.785\" cy=\"-459\" rx=\"26.1523\" ry=\"26.1523\"/>\n",
       "<text text-anchor=\"middle\" x=\"299.785\" y=\"-454.8\" font-family=\"Times,serif\" font-size=\"14.00\">St16</text>\n",
       "</g>\n",
       "<!-- St8&#45;&gt;St16 -->\n",
       "<g id=\"edge4\" class=\"edge\"><title>St8&#45;&gt;St16</title>\n",
       "<path fill=\"none\" stroke=\"black\" d=\"M219.766,-372.938C234.416,-388.893 257.213,-413.723 274.563,-432.62\"/>\n",
       "<polygon fill=\"black\" stroke=\"black\" points=\"272.048,-435.055 281.389,-440.054 277.204,-430.32 272.048,-435.055\"/>\n",
       "<text text-anchor=\"middle\" x=\"251.959\" y=\"-414.8\" font-family=\"Times,serif\" font-size=\"14.00\">1</text>\n",
       "</g>\n",
       "<!-- St3 -->\n",
       "<g id=\"node17\" class=\"node\"><title>St3</title>\n",
       "<ellipse fill=\"none\" stroke=\"black\" cx=\"299.785\" cy=\"-357\" rx=\"21.8081\" ry=\"21.8081\"/>\n",
       "<text text-anchor=\"middle\" x=\"299.785\" y=\"-352.8\" font-family=\"Times,serif\" font-size=\"14.00\">St3</text>\n",
       "</g>\n",
       "<!-- St8&#45;&gt;St3 -->\n",
       "<g id=\"edge5\" class=\"edge\"><title>St8&#45;&gt;St3</title>\n",
       "<path fill=\"none\" stroke=\"black\" d=\"M226.384,-357C238.478,-357 253.855,-357 267.324,-357\"/>\n",
       "<polygon fill=\"black\" stroke=\"black\" points=\"267.618,-360.5 277.618,-357 267.618,-353.5 267.618,-360.5\"/>\n",
       "<text text-anchor=\"middle\" x=\"251.959\" y=\"-359.8\" font-family=\"Times,serif\" font-size=\"14.00\">0</text>\n",
       "</g>\n",
       "<!-- St65 -->\n",
       "<g id=\"node7\" class=\"node\"><title>St65</title>\n",
       "<ellipse fill=\"none\" stroke=\"black\" cx=\"590.238\" cy=\"-272\" rx=\"26.1523\" ry=\"26.1523\"/>\n",
       "<text text-anchor=\"middle\" x=\"590.238\" y=\"-267.8\" font-family=\"Times,serif\" font-size=\"14.00\">St65</text>\n",
       "</g>\n",
       "<!-- St65&#45;&gt;BH -->\n",
       "<g id=\"edge39\" class=\"edge\"><title>St65&#45;&gt;BH</title>\n",
       "<path fill=\"none\" stroke=\"black\" d=\"M616.502,-275.44C643.428,-279.456 687.133,-286.985 723.715,-298 736.782,-301.935 750.79,-307.474 762.668,-312.588\"/>\n",
       "<polygon fill=\"black\" stroke=\"black\" points=\"761.515,-315.905 772.077,-316.739 764.341,-309.5 761.515,-315.905\"/>\n",
       "<text text-anchor=\"middle\" x=\"693.389\" y=\"-300.8\" font-family=\"Times,serif\" font-size=\"14.00\">0</text>\n",
       "</g>\n",
       "<!-- St65&#45;&gt;St67 -->\n",
       "<g id=\"edge38\" class=\"edge\"><title>St65&#45;&gt;St67</title>\n",
       "<path fill=\"none\" stroke=\"black\" d=\"M613.687,-260.016C626.387,-253.236 642.557,-244.603 656.932,-236.929\"/>\n",
       "<polygon fill=\"black\" stroke=\"black\" points=\"658.891,-239.851 666.065,-232.053 655.595,-233.675 658.891,-239.851\"/>\n",
       "<text text-anchor=\"middle\" x=\"639.814\" y=\"-251.8\" font-family=\"Times,serif\" font-size=\"14.00\">1</text>\n",
       "</g>\n",
       "<!-- St49 -->\n",
       "<g id=\"node8\" class=\"node\"><title>St49</title>\n",
       "<ellipse fill=\"none\" stroke=\"black\" cx=\"395.436\" cy=\"-33\" rx=\"26.1523\" ry=\"26.1523\"/>\n",
       "<text text-anchor=\"middle\" x=\"395.436\" y=\"-28.8\" font-family=\"Times,serif\" font-size=\"14.00\">St49</text>\n",
       "</g>\n",
       "<!-- St49&#45;&gt;St43 -->\n",
       "<g id=\"edge23\" class=\"edge\"><title>St49&#45;&gt;St43</title>\n",
       "<path fill=\"none\" stroke=\"black\" d=\"M420.991,-39.4459C429.622,-42.4192 439.077,-46.5304 446.761,-52 455.306,-58.0814 463.158,-66.2428 469.763,-74.2947\"/>\n",
       "<polygon fill=\"black\" stroke=\"black\" points=\"467.03,-76.4822 475.931,-82.229 472.557,-72.1859 467.03,-76.4822\"/>\n",
       "<text text-anchor=\"middle\" x=\"443.261\" y=\"-54.8\" font-family=\"Times,serif\" font-size=\"14.00\">1</text>\n",
       "</g>\n",
       "<!-- St49&#45;&gt;BH -->\n",
       "<g id=\"edge24\" class=\"edge\"><title>St49&#45;&gt;BH</title>\n",
       "<path fill=\"none\" stroke=\"black\" d=\"M418.753,-20.3357C437.259,-11.0295 464.574,-0 490.087,-0 490.087,-0 490.087,-0 694.389,-0 755.213,-0 781.095,-211.034 788.888,-293.516\"/>\n",
       "<polygon fill=\"black\" stroke=\"black\" points=\"785.413,-293.953 789.81,-303.593 792.384,-293.315 785.413,-293.953\"/>\n",
       "<text text-anchor=\"middle\" x=\"590.238\" y=\"-2.8\" font-family=\"Times,serif\" font-size=\"14.00\">0</text>\n",
       "</g>\n",
       "<!-- St16&#45;&gt;BH -->\n",
       "<g id=\"edge8\" class=\"edge\"><title>St16&#45;&gt;BH</title>\n",
       "<path fill=\"none\" stroke=\"black\" d=\"M319.026,-477.62C336.679,-493.576 365.021,-514 394.436,-514 394.436,-514 394.436,-514 694.389,-514 763.63,-514 783.611,-412.138 789.335,-358.372\"/>\n",
       "<polygon fill=\"black\" stroke=\"black\" points=\"792.83,-358.593 790.3,-348.304 785.862,-357.925 792.83,-358.593\"/>\n",
       "<text text-anchor=\"middle\" x=\"540.663\" y=\"-516.8\" font-family=\"Times,serif\" font-size=\"14.00\">1</text>\n",
       "</g>\n",
       "<!-- St17 -->\n",
       "<g id=\"node18\" class=\"node\"><title>St17</title>\n",
       "<ellipse fill=\"none\" stroke=\"black\" cx=\"395.436\" cy=\"-459\" rx=\"26.1523\" ry=\"26.1523\"/>\n",
       "<text text-anchor=\"middle\" x=\"395.436\" y=\"-454.8\" font-family=\"Times,serif\" font-size=\"14.00\">St17</text>\n",
       "</g>\n",
       "<!-- St16&#45;&gt;St17 -->\n",
       "<g id=\"edge9\" class=\"edge\"><title>St16&#45;&gt;St17</title>\n",
       "<path fill=\"none\" stroke=\"black\" d=\"M326.375,-459C336.389,-459 348.047,-459 358.855,-459\"/>\n",
       "<polygon fill=\"black\" stroke=\"black\" points=\"358.876,-462.5 368.876,-459 358.876,-455.5 358.876,-462.5\"/>\n",
       "<text text-anchor=\"middle\" x=\"347.61\" y=\"-461.8\" font-family=\"Times,serif\" font-size=\"14.00\">0</text>\n",
       "</g>\n",
       "<!-- St43&#45;&gt;St25 -->\n",
       "<g id=\"edge37\" class=\"edge\"><title>St43&#45;&gt;St25</title>\n",
       "<path fill=\"none\" stroke=\"black\" d=\"M512.187,-119.887C522.603,-128.435 535.324,-139.38 545.913,-150 552.9,-157.009 560.035,-165 566.445,-172.544\"/>\n",
       "<polygon fill=\"black\" stroke=\"black\" points=\"563.98,-175.053 573.075,-180.487 569.354,-170.567 563.98,-175.053\"/>\n",
       "<text text-anchor=\"middle\" x=\"540.663\" y=\"-166.8\" font-family=\"Times,serif\" font-size=\"14.00\">1 </text>\n",
       "<text text-anchor=\"middle\" x=\"540.663\" y=\"-152.8\" font-family=\"Times,serif\" font-size=\"14.00\"> 0</text>\n",
       "</g>\n",
       "<!-- St42 -->\n",
       "<g id=\"node11\" class=\"node\"><title>St42</title>\n",
       "<ellipse fill=\"none\" stroke=\"black\" cx=\"395.436\" cy=\"-250\" rx=\"26.1523\" ry=\"26.1523\"/>\n",
       "<text text-anchor=\"middle\" x=\"395.436\" y=\"-245.8\" font-family=\"Times,serif\" font-size=\"14.00\">St42</text>\n",
       "</g>\n",
       "<!-- St42&#45;&gt;St43 -->\n",
       "<g id=\"edge25\" class=\"edge\"><title>St42&#45;&gt;St43</title>\n",
       "<path fill=\"none\" stroke=\"black\" d=\"M411.638,-228.819C415.023,-223.984 418.557,-218.844 421.761,-214 439.204,-187.633 458.101,-157.041 471.591,-134.822\"/>\n",
       "<polygon fill=\"black\" stroke=\"black\" points=\"474.657,-136.516 476.841,-126.148 468.668,-132.891 474.657,-136.516\"/>\n",
       "<text text-anchor=\"middle\" x=\"443.261\" y=\"-187.8\" font-family=\"Times,serif\" font-size=\"14.00\">1</text>\n",
       "</g>\n",
       "<!-- St19 -->\n",
       "<g id=\"node19\" class=\"node\"><title>St19</title>\n",
       "<ellipse fill=\"none\" stroke=\"black\" cx=\"491.087\" cy=\"-326\" rx=\"26.1523\" ry=\"26.1523\"/>\n",
       "<text text-anchor=\"middle\" x=\"491.087\" y=\"-321.8\" font-family=\"Times,serif\" font-size=\"14.00\">St19</text>\n",
       "</g>\n",
       "<!-- St42&#45;&gt;St19 -->\n",
       "<g id=\"edge26\" class=\"edge\"><title>St42&#45;&gt;St19</title>\n",
       "<path fill=\"none\" stroke=\"black\" d=\"M416.297,-266.118C429.616,-276.926 447.35,-291.318 462.095,-303.284\"/>\n",
       "<polygon fill=\"black\" stroke=\"black\" points=\"459.961,-306.06 469.932,-309.644 464.372,-300.624 459.961,-306.06\"/>\n",
       "<text text-anchor=\"middle\" x=\"443.261\" y=\"-293.8\" font-family=\"Times,serif\" font-size=\"14.00\">0</text>\n",
       "</g>\n",
       "<!-- BH&#45;&gt;BH -->\n",
       "<g id=\"edge16\" class=\"edge\"><title>BH&#45;&gt;BH</title>\n",
       "<path fill=\"none\" stroke=\"black\" d=\"M784.558,-347.196C783.564,-357.392 786.247,-366.392 792.607,-366.392 796.681,-366.392 799.246,-362.698 800.302,-357.363\"/>\n",
       "<polygon fill=\"black\" stroke=\"black\" points=\"803.806,-357.312 800.655,-347.196 796.81,-357.069 803.806,-357.312\"/>\n",
       "<text text-anchor=\"middle\" x=\"792.607\" y=\"-383.192\" font-family=\"Times,serif\" font-size=\"14.00\">1 </text>\n",
       "<text text-anchor=\"middle\" x=\"792.607\" y=\"-369.192\" font-family=\"Times,serif\" font-size=\"14.00\"> 0</text>\n",
       "</g>\n",
       "<!-- St41 -->\n",
       "<g id=\"node13\" class=\"node\"><title>St41</title>\n",
       "<ellipse fill=\"none\" stroke=\"black\" cx=\"299.785\" cy=\"-250\" rx=\"26.1523\" ry=\"26.1523\"/>\n",
       "<text text-anchor=\"middle\" x=\"299.785\" y=\"-245.8\" font-family=\"Times,serif\" font-size=\"14.00\">St41</text>\n",
       "</g>\n",
       "<!-- St41&#45;&gt;St49 -->\n",
       "<g id=\"edge12\" class=\"edge\"><title>St41&#45;&gt;St49</title>\n",
       "<path fill=\"none\" stroke=\"black\" d=\"M317.081,-229.934C320.491,-224.96 323.76,-219.478 326.11,-214 342.192,-176.512 331.024,-162.636 344.11,-124 352.208,-100.091 356.785,-95.0299 369.11,-73 370.848,-69.8932 372.723,-66.6927 374.639,-63.5191\"/>\n",
       "<polygon fill=\"black\" stroke=\"black\" points=\"377.781,-65.0922 380.066,-54.7466 371.829,-61.4094 377.781,-65.0922\"/>\n",
       "<text text-anchor=\"middle\" x=\"347.61\" y=\"-126.8\" font-family=\"Times,serif\" font-size=\"14.00\">1</text>\n",
       "</g>\n",
       "<!-- St41&#45;&gt;St42 -->\n",
       "<g id=\"edge13\" class=\"edge\"><title>St41&#45;&gt;St42</title>\n",
       "<path fill=\"none\" stroke=\"black\" d=\"M326.375,-250C336.389,-250 348.047,-250 358.855,-250\"/>\n",
       "<polygon fill=\"black\" stroke=\"black\" points=\"358.876,-253.5 368.876,-250 358.876,-246.5 358.876,-253.5\"/>\n",
       "<text text-anchor=\"middle\" x=\"347.61\" y=\"-252.8\" font-family=\"Times,serif\" font-size=\"14.00\">0</text>\n",
       "</g>\n",
       "<!-- St12 -->\n",
       "<g id=\"node14\" class=\"node\"><title>St12</title>\n",
       "<ellipse fill=\"none\" stroke=\"black\" cx=\"395.436\" cy=\"-325\" rx=\"26.1523\" ry=\"26.1523\"/>\n",
       "<text text-anchor=\"middle\" x=\"395.436\" y=\"-320.8\" font-family=\"Times,serif\" font-size=\"14.00\">St12</text>\n",
       "</g>\n",
       "<!-- St12&#45;&gt;St33 -->\n",
       "<g id=\"edge19\" class=\"edge\"><title>St12&#45;&gt;St33</title>\n",
       "<path fill=\"none\" stroke=\"black\" d=\"M410.471,-303.011C424.215,-281.529 445.797,-247.932 464.761,-219 466.445,-216.431 468.2,-213.768 469.965,-211.1\"/>\n",
       "<polygon fill=\"black\" stroke=\"black\" points=\"472.95,-212.932 475.565,-202.665 467.118,-209.06 472.95,-212.932\"/>\n",
       "<text text-anchor=\"middle\" x=\"443.261\" y=\"-259.8\" font-family=\"Times,serif\" font-size=\"14.00\">1</text>\n",
       "</g>\n",
       "<!-- St12&#45;&gt;BH -->\n",
       "<g id=\"edge20\" class=\"edge\"><title>St12&#45;&gt;BH</title>\n",
       "<path fill=\"none\" stroke=\"black\" d=\"M411.973,-345.956C423.558,-361.438 437.72,-379.998 439.761,-381 442.554,-382.37 443.657,-381.207 446.761,-381 583.431,-371.869 619.084,-372.221 752.215,-340 755.389,-339.232 758.665,-338.301 761.908,-337.289\"/>\n",
       "<polygon fill=\"black\" stroke=\"black\" points=\"763.048,-340.598 771.406,-334.087 760.812,-333.965 763.048,-340.598\"/>\n",
       "<text text-anchor=\"middle\" x=\"590.238\" y=\"-375.8\" font-family=\"Times,serif\" font-size=\"14.00\">0</text>\n",
       "</g>\n",
       "<!-- St18&#45;&gt;St41 -->\n",
       "<g id=\"edge6\" class=\"edge\"><title>St18&#45;&gt;St41</title>\n",
       "<path fill=\"none\" stroke=\"black\" d=\"M230.724,-250C240.738,-250 252.396,-250 263.204,-250\"/>\n",
       "<polygon fill=\"black\" stroke=\"black\" points=\"263.225,-253.5 273.225,-250 263.225,-246.5 263.225,-253.5\"/>\n",
       "<text text-anchor=\"middle\" x=\"251.959\" y=\"-252.8\" font-family=\"Times,serif\" font-size=\"14.00\">1</text>\n",
       "</g>\n",
       "<!-- St22 -->\n",
       "<g id=\"node22\" class=\"node\"><title>St22</title>\n",
       "<ellipse fill=\"none\" stroke=\"black\" cx=\"299.785\" cy=\"-179\" rx=\"26.1523\" ry=\"26.1523\"/>\n",
       "<text text-anchor=\"middle\" x=\"299.785\" y=\"-174.8\" font-family=\"Times,serif\" font-size=\"14.00\">St22</text>\n",
       "</g>\n",
       "<!-- St18&#45;&gt;St22 -->\n",
       "<g id=\"edge7\" class=\"edge\"><title>St18&#45;&gt;St22</title>\n",
       "<path fill=\"none\" stroke=\"black\" d=\"M225.918,-234.243C238.981,-224.339 256.01,-211.429 270.32,-200.58\"/>\n",
       "<polygon fill=\"black\" stroke=\"black\" points=\"272.526,-203.299 278.381,-194.469 268.297,-197.721 272.526,-203.299\"/>\n",
       "<text text-anchor=\"middle\" x=\"251.959\" y=\"-219.8\" font-family=\"Times,serif\" font-size=\"14.00\">0</text>\n",
       "</g>\n",
       "<!-- St4 -->\n",
       "<g id=\"node16\" class=\"node\"><title>St4</title>\n",
       "<ellipse fill=\"none\" stroke=\"black\" cx=\"395.436\" cy=\"-391\" rx=\"21.8081\" ry=\"21.8081\"/>\n",
       "<text text-anchor=\"middle\" x=\"395.436\" y=\"-386.8\" font-family=\"Times,serif\" font-size=\"14.00\">St4</text>\n",
       "</g>\n",
       "<!-- St4&#45;&gt;BH -->\n",
       "<g id=\"edge22\" class=\"edge\"><title>St4&#45;&gt;BH</title>\n",
       "<path fill=\"none\" stroke=\"black\" d=\"M415.204,-401.151C433.696,-410.191 463.027,-422 490.087,-422 490.087,-422 490.087,-422 694.389,-422 732.749,-422 761.44,-383.69 777.37,-355.472\"/>\n",
       "<polygon fill=\"black\" stroke=\"black\" points=\"780.618,-356.823 782.278,-346.359 774.455,-353.503 780.618,-356.823\"/>\n",
       "<text text-anchor=\"middle\" x=\"590.238\" y=\"-424.8\" font-family=\"Times,serif\" font-size=\"14.00\">0</text>\n",
       "</g>\n",
       "<!-- St4&#45;&gt;St24 -->\n",
       "<g id=\"edge21\" class=\"edge\"><title>St4&#45;&gt;St24</title>\n",
       "<path fill=\"none\" stroke=\"black\" d=\"M410.506,-374.575C414.284,-369.954 418.283,-364.86 421.761,-360 442.79,-330.615 444.996,-321.249 464.761,-291 466.318,-288.617 467.947,-286.161 469.595,-283.7\"/>\n",
       "<polygon fill=\"black\" stroke=\"black\" points=\"472.494,-285.66 475.199,-275.416 466.696,-281.738 472.494,-285.66\"/>\n",
       "<text text-anchor=\"middle\" x=\"443.261\" y=\"-334.8\" font-family=\"Times,serif\" font-size=\"14.00\">1</text>\n",
       "</g>\n",
       "<!-- St3&#45;&gt;St12 -->\n",
       "<g id=\"edge10\" class=\"edge\"><title>St3&#45;&gt;St12</title>\n",
       "<path fill=\"none\" stroke=\"black\" d=\"M320.646,-350.214C332.198,-346.266 347.072,-341.184 360.435,-336.618\"/>\n",
       "<polygon fill=\"black\" stroke=\"black\" points=\"361.949,-339.799 370.28,-333.254 359.686,-333.175 361.949,-339.799\"/>\n",
       "<text text-anchor=\"middle\" x=\"347.61\" y=\"-344.8\" font-family=\"Times,serif\" font-size=\"14.00\">1</text>\n",
       "</g>\n",
       "<!-- St3&#45;&gt;St4 -->\n",
       "<g id=\"edge11\" class=\"edge\"><title>St3&#45;&gt;St4</title>\n",
       "<path fill=\"none\" stroke=\"black\" d=\"M320.646,-364.211C333.559,-368.899 350.622,-375.093 365.087,-380.345\"/>\n",
       "<polygon fill=\"black\" stroke=\"black\" points=\"364.009,-383.677 374.603,-383.8 366.398,-377.097 364.009,-383.677\"/>\n",
       "<text text-anchor=\"middle\" x=\"347.61\" y=\"-378.8\" font-family=\"Times,serif\" font-size=\"14.00\">0</text>\n",
       "</g>\n",
       "<!-- St17&#45;&gt;BH -->\n",
       "<g id=\"edge18\" class=\"edge\"><title>St17&#45;&gt;BH</title>\n",
       "<path fill=\"none\" stroke=\"black\" d=\"M421.347,-464.363C440.143,-467.944 466.614,-472 490.087,-472 490.087,-472 490.087,-472 694.389,-472 748.826,-472 774.642,-400.81 785.264,-357.852\"/>\n",
       "<polygon fill=\"black\" stroke=\"black\" points=\"788.732,-358.391 787.589,-347.858 781.914,-356.804 788.732,-358.391\"/>\n",
       "<text text-anchor=\"middle\" x=\"590.238\" y=\"-474.8\" font-family=\"Times,serif\" font-size=\"14.00\">0</text>\n",
       "</g>\n",
       "<!-- St17&#45;&gt;St19 -->\n",
       "<g id=\"edge17\" class=\"edge\"><title>St17&#45;&gt;St19</title>\n",
       "<path fill=\"none\" stroke=\"black\" d=\"M411.275,-437.926C426.869,-415.779 451.529,-380.758 469.11,-355.79\"/>\n",
       "<polygon fill=\"black\" stroke=\"black\" points=\"472.111,-357.608 475.007,-347.416 466.388,-353.577 472.111,-357.608\"/>\n",
       "<text text-anchor=\"middle\" x=\"443.261\" y=\"-399.8\" font-family=\"Times,serif\" font-size=\"14.00\">1</text>\n",
       "</g>\n",
       "<!-- St19&#45;&gt;St65 -->\n",
       "<g id=\"edge31\" class=\"edge\"><title>St19&#45;&gt;St65</title>\n",
       "<path fill=\"none\" stroke=\"black\" d=\"M513.361,-311.507C520.282,-306.994 528.073,-302.123 535.413,-298 542.13,-294.226 549.479,-290.454 556.528,-287\"/>\n",
       "<polygon fill=\"black\" stroke=\"black\" points=\"558.366,-290 565.867,-282.518 555.337,-283.69 558.366,-290\"/>\n",
       "<text text-anchor=\"middle\" x=\"540.663\" y=\"-300.8\" font-family=\"Times,serif\" font-size=\"14.00\">1</text>\n",
       "</g>\n",
       "<!-- St19&#45;&gt;BH -->\n",
       "<g id=\"edge32\" class=\"edge\"><title>St19&#45;&gt;BH</title>\n",
       "<path fill=\"none\" stroke=\"black\" d=\"M517.624,-326C572.094,-326 699.586,-326 759.467,-326\"/>\n",
       "<polygon fill=\"black\" stroke=\"black\" points=\"759.829,-329.5 769.828,-326 759.828,-322.5 759.829,-329.5\"/>\n",
       "<text text-anchor=\"middle\" x=\"639.814\" y=\"-328.8\" font-family=\"Times,serif\" font-size=\"14.00\">0</text>\n",
       "</g>\n",
       "<!-- St32 -->\n",
       "<g id=\"node20\" class=\"node\"><title>St32</title>\n",
       "<ellipse fill=\"none\" stroke=\"black\" cx=\"395.436\" cy=\"-108\" rx=\"26.1523\" ry=\"26.1523\"/>\n",
       "<text text-anchor=\"middle\" x=\"395.436\" y=\"-103.8\" font-family=\"Times,serif\" font-size=\"14.00\">St32</text>\n",
       "</g>\n",
       "<!-- St32&#45;&gt;St33 -->\n",
       "<g id=\"edge28\" class=\"edge\"><title>St32&#45;&gt;St33</title>\n",
       "<path fill=\"none\" stroke=\"black\" d=\"M417.21,-122.849C426.365,-129.501 437.194,-137.518 446.761,-145 451.918,-149.032 457.34,-153.417 462.537,-157.695\"/>\n",
       "<polygon fill=\"black\" stroke=\"black\" points=\"460.516,-160.566 470.445,-164.262 464.988,-155.181 460.516,-160.566\"/>\n",
       "<text text-anchor=\"middle\" x=\"443.261\" y=\"-147.8\" font-family=\"Times,serif\" font-size=\"14.00\">0</text>\n",
       "</g>\n",
       "<!-- St32&#45;&gt;St43 -->\n",
       "<g id=\"edge27\" class=\"edge\"><title>St32&#45;&gt;St43</title>\n",
       "<path fill=\"none\" stroke=\"black\" d=\"M413.497,-88.515C420.806,-81.596 429.924,-74.6288 439.761,-71 448.928,-67.6185 458.113,-71.111 466.08,-76.9067\"/>\n",
       "<polygon fill=\"black\" stroke=\"black\" points=\"464.016,-79.7467 473.889,-83.5886 468.566,-74.4279 464.016,-79.7467\"/>\n",
       "<text text-anchor=\"middle\" x=\"443.261\" y=\"-73.8\" font-family=\"Times,serif\" font-size=\"14.00\">1</text>\n",
       "</g>\n",
       "<!-- St24&#45;&gt;St25 -->\n",
       "<g id=\"edge35\" class=\"edge\"><title>St24&#45;&gt;St25</title>\n",
       "<path fill=\"none\" stroke=\"black\" d=\"M514.62,-241.708C527.494,-234.684 543.835,-225.769 557.94,-218.074\"/>\n",
       "<polygon fill=\"black\" stroke=\"black\" points=\"559.725,-221.088 566.828,-213.226 556.373,-214.942 559.725,-221.088\"/>\n",
       "<text text-anchor=\"middle\" x=\"540.663\" y=\"-232.8\" font-family=\"Times,serif\" font-size=\"14.00\">1</text>\n",
       "</g>\n",
       "<!-- St24&#45;&gt;St65 -->\n",
       "<g id=\"edge36\" class=\"edge\"><title>St24&#45;&gt;St65</title>\n",
       "<path fill=\"none\" stroke=\"black\" d=\"M517.405,-255.984C526.447,-256.913 536.68,-258.219 545.913,-260 548.786,-260.555 551.748,-261.204 554.71,-261.909\"/>\n",
       "<polygon fill=\"black\" stroke=\"black\" points=\"554.098,-265.365 564.655,-264.461 555.838,-258.585 554.098,-265.365\"/>\n",
       "<text text-anchor=\"middle\" x=\"540.663\" y=\"-262.8\" font-family=\"Times,serif\" font-size=\"14.00\">0</text>\n",
       "</g>\n",
       "<!-- St22&#45;&gt;St23 -->\n",
       "<g id=\"edge15\" class=\"edge\"><title>St22&#45;&gt;St23</title>\n",
       "<path fill=\"none\" stroke=\"black\" d=\"M326.375,-179C336.389,-179 348.047,-179 358.855,-179\"/>\n",
       "<polygon fill=\"black\" stroke=\"black\" points=\"358.876,-182.5 368.876,-179 358.876,-175.5 358.876,-182.5\"/>\n",
       "<text text-anchor=\"middle\" x=\"347.61\" y=\"-181.8\" font-family=\"Times,serif\" font-size=\"14.00\">0</text>\n",
       "</g>\n",
       "<!-- St22&#45;&gt;St32 -->\n",
       "<g id=\"edge14\" class=\"edge\"><title>St22&#45;&gt;St32</title>\n",
       "<path fill=\"none\" stroke=\"black\" d=\"M321.569,-163.243C334.632,-153.339 351.661,-140.429 365.971,-129.58\"/>\n",
       "<polygon fill=\"black\" stroke=\"black\" points=\"368.177,-132.299 374.032,-123.469 363.948,-126.721 368.177,-132.299\"/>\n",
       "<text text-anchor=\"middle\" x=\"347.61\" y=\"-148.8\" font-family=\"Times,serif\" font-size=\"14.00\">1</text>\n",
       "</g>\n",
       "<!-- St67&#45;&gt;BH -->\n",
       "<g id=\"edge41\" class=\"edge\"><title>St67&#45;&gt;BH</title>\n",
       "<path fill=\"none\" stroke=\"black\" d=\"M722.993,-225.181C733.18,-228.868 744.122,-234.264 752.215,-242 767.107,-256.235 776.951,-277.213 783.074,-294.643\"/>\n",
       "<polygon fill=\"black\" stroke=\"black\" points=\"779.833,-295.995 786.259,-304.418 786.489,-293.826 779.833,-295.995\"/>\n",
       "<text text-anchor=\"middle\" x=\"746.965\" y=\"-258.8\" font-family=\"Times,serif\" font-size=\"14.00\">1 </text>\n",
       "<text text-anchor=\"middle\" x=\"746.965\" y=\"-244.8\" font-family=\"Times,serif\" font-size=\"14.00\"> 0</text>\n",
       "</g>\n",
       "</g>\n",
       "</svg>\n"
      ],
      "text/plain": [
       "<graphviz.dot.Digraph at 0x112861e10>"
      ]
     },
     "execution_count": 12,
     "metadata": {},
     "output_type": "execute_result"
    }
   ],
   "source": [
    "R =     \"(000001+000011+000111+001011+001111+\\\n",
    "          010011+010111+011111+100101+100111+\\\n",
    "          101111+110111+000010+000101+000110+\\\n",
    "          001010+001101+001110+010101+010110+\\\n",
    "          011101+011110+100110+101110+000100+\\\n",
    "          001100+010100+011100)\"\n",
    "N      = re2nfa(R)\n",
    "Dbloat = nfa2dfa(N)\n",
    "D      = min_dfa(Dbloat)\n",
    "doBadLT = dotObj_dfa_w_bh(D, FuseEdges=True)\n",
    "doBadLT"
   ]
  },
  {
   "cell_type": "code",
   "execution_count": 13,
   "metadata": {
    "run_control": {
     "frozen": false,
     "read_only": false
    }
   },
   "outputs": [
    {
     "data": {
      "text/plain": [
       "'/Users/ganesh/repos/atmm/book/CH17/doBadLT.dot.pdf'"
      ]
     },
     "execution_count": 13,
     "metadata": {},
     "output_type": "execute_result"
    }
   ],
   "source": [
    "doBadLT.render('/Users/ganesh/repos/atmm/book/CH17/doBadLT.dot')"
   ]
  },
  {
   "cell_type": "markdown",
   "metadata": {
    "run_control": {
     "frozen": false,
     "read_only": false
    }
   },
   "source": [
    "This machine appears to be rather large -- in fact exponential in the x2,x1,x0 bits (those are the first three bits to arrive at this machine, and the machine grows exponentially with respect to these inputs). It then collapses soon as soon as the y bits come in.\n",
    "\n",
    "Size aside, this DFA acts as a representation of the \"<\" function. Take the starting state: all paths from it leading to the final state are in the on-set of this function; any path of length six that goes to the BH state is in the off-set of this function. Strings of length greater than six can be entertained, but they have no meaning with respect to our problem that involves only six variables. \n",
    "\n",
    "Let us take an example. String 001100 is accepted. Here is the accepting path:\n",
    "\n",
    "* St1 --0--> St18 --0--> St22 --1--> St32 --1--> St27 --0--> St9 --0--> St35 \n",
    "\n",
    "Here is a rejecting path:\n",
    "\n",
    "* St1 --0--> St18 --0--> St22 --1--> St32 --0--> St33 --0--> BH --1--> BH\n",
    "\n",
    "Also notice that the _nodes_ in this minimal automaton graph represent Boolean functions. Thus, state St1 is a function of all the six input bits. States St18 and St8 are functions of the five bits x1,x0,y2,y1,y0. In fact, the further we go away from the initial state, the lesser the remaining bits are in deciding the \"fate of the function\". \n",
    "\n",
    "Take state St18 which is one step away from the initial state. All paths leading to the final state represent the on-set of a Boolean function of inputs x1,x0,y2,y1,y0. Paths leading to BH are in the off-set."
   ]
  },
  {
   "cell_type": "markdown",
   "metadata": {
    "run_control": {
     "frozen": false,
     "read_only": false
    }
   },
   "source": [
    "But suppose another astute person jumps in and tells us that it will be a small minimal DFA if we were to have considered strings x2,y2,x1,y1,x0,y0 to be in the language. That is, we mix the bits (and call the language Lmix, and the regular expression Rmix).\n",
    "\n",
    "We have the following Rmix."
   ]
  },
  {
   "cell_type": "code",
   "execution_count": 14,
   "metadata": {
    "run_control": {
     "frozen": false,
     "read_only": false
    }
   },
   "outputs": [],
   "source": [
    "Rmix =  \"(000001+000111+001101+011111+110001+\\\n",
    "          110111+111101+000101+000110+010111+\\\n",
    "          011011+011101+011110+110101+110110+\\\n",
    "          000100+010011+010101+010110+011001+\\\n",
    "          011010+011100+110100+010001+010010+\\\n",
    "          010100+011000+010000)\" "
   ]
  },
  {
   "cell_type": "markdown",
   "metadata": {
    "run_control": {
     "frozen": false,
     "read_only": false
    }
   },
   "source": [
    "We still have 28 entries, but the entries now represent x2,y2,x1,y1,x0,y0. For instance,\n",
    "take the fifth member of Rmix which is 110001. This means 100 < 101 which means 4 < 5, which is true. Let us now build a minimum DFA for Rmix."
   ]
  },
  {
   "cell_type": "code",
   "execution_count": 15,
   "metadata": {
    "run_control": {
     "frozen": false,
     "read_only": false
    }
   },
   "outputs": [],
   "source": [
    "Dmix = min_dfa(nfa2dfa(re2nfa(Rmix)))"
   ]
  },
  {
   "cell_type": "code",
   "execution_count": 16,
   "metadata": {
    "run_control": {
     "frozen": false,
     "read_only": false
    }
   },
   "outputs": [
    {
     "data": {
      "image/svg+xml": [
       "<?xml version=\"1.0\" encoding=\"UTF-8\" standalone=\"no\"?>\n",
       "<!DOCTYPE svg PUBLIC \"-//W3C//DTD SVG 1.1//EN\"\n",
       " \"http://www.w3.org/Graphics/SVG/1.1/DTD/svg11.dtd\">\n",
       "<!-- Generated by graphviz version 2.38.0 (20140413.2041)\n",
       " -->\n",
       "<!-- Title: %3 Pages: 1 -->\n",
       "<svg width=\"830pt\" height=\"247pt\"\n",
       " viewBox=\"0.00 0.00 830.00 247.33\" xmlns=\"http://www.w3.org/2000/svg\" xmlns:xlink=\"http://www.w3.org/1999/xlink\">\n",
       "<g id=\"graph0\" class=\"graph\" transform=\"scale(1 1) rotate(0) translate(4 243.326)\">\n",
       "<title>%3</title>\n",
       "<polygon fill=\"white\" stroke=\"none\" points=\"-4,4 -4,-243.326 825.999,-243.326 825.999,4 -4,4\"/>\n",
       "<!-- EMPTY -->\n",
       "<g id=\"node1\" class=\"node\"><title>EMPTY</title>\n",
       "</g>\n",
       "<!-- St1 -->\n",
       "<g id=\"node6\" class=\"node\"><title>St1</title>\n",
       "<ellipse fill=\"none\" stroke=\"black\" cx=\"112.904\" cy=\"-69\" rx=\"21.8081\" ry=\"21.8081\"/>\n",
       "<text text-anchor=\"middle\" x=\"112.904\" y=\"-64.8\" font-family=\"Times,serif\" font-size=\"14.00\">St1</text>\n",
       "</g>\n",
       "<!-- EMPTY&#45;&gt;St1 -->\n",
       "<g id=\"edge1\" class=\"edge\"><title>EMPTY&#45;&gt;St1</title>\n",
       "<path fill=\"none\" stroke=\"black\" d=\"M54.0878,-69C62.501,-69 71.9126,-69 80.6587,-69\"/>\n",
       "<polygon fill=\"black\" stroke=\"black\" points=\"80.8854,-72.5001 90.8853,-69 80.8853,-65.5001 80.8854,-72.5001\"/>\n",
       "</g>\n",
       "<!-- St25 -->\n",
       "<g id=\"node2\" class=\"node\"><title>St25</title>\n",
       "<ellipse fill=\"none\" stroke=\"black\" cx=\"299.785\" cy=\"-76\" rx=\"26.1523\" ry=\"26.1523\"/>\n",
       "<text text-anchor=\"middle\" x=\"299.785\" y=\"-71.8\" font-family=\"Times,serif\" font-size=\"14.00\">St25</text>\n",
       "</g>\n",
       "<!-- St61 -->\n",
       "<g id=\"node4\" class=\"node\"><title>St61</title>\n",
       "<ellipse fill=\"none\" stroke=\"black\" cx=\"398.936\" cy=\"-54\" rx=\"26.1523\" ry=\"26.1523\"/>\n",
       "<text text-anchor=\"middle\" x=\"398.936\" y=\"-49.8\" font-family=\"Times,serif\" font-size=\"14.00\">St61</text>\n",
       "</g>\n",
       "<!-- St25&#45;&gt;St61 -->\n",
       "<g id=\"edge8\" class=\"edge\"><title>St25&#45;&gt;St61</title>\n",
       "<path fill=\"none\" stroke=\"black\" d=\"M325.551,-70.3915C336.883,-67.8255 350.51,-64.7395 362.87,-61.9406\"/>\n",
       "<polygon fill=\"black\" stroke=\"black\" points=\"363.896,-65.2969 372.876,-59.6747 362.35,-58.4698 363.896,-65.2969\"/>\n",
       "<text text-anchor=\"middle\" x=\"349.36\" y=\"-68.8\" font-family=\"Times,serif\" font-size=\"14.00\">1</text>\n",
       "</g>\n",
       "<!-- St26 -->\n",
       "<g id=\"node5\" class=\"node\"><title>St26</title>\n",
       "<ellipse fill=\"none\" stroke=\"black\" cx=\"398.936\" cy=\"-125\" rx=\"26.1523\" ry=\"26.1523\"/>\n",
       "<text text-anchor=\"middle\" x=\"398.936\" y=\"-120.8\" font-family=\"Times,serif\" font-size=\"14.00\">St26</text>\n",
       "</g>\n",
       "<!-- St25&#45;&gt;St26 -->\n",
       "<g id=\"edge9\" class=\"edge\"><title>St25&#45;&gt;St26</title>\n",
       "<path fill=\"none\" stroke=\"black\" d=\"M323.808,-87.6123C336.391,-93.9588 352.172,-101.918 365.935,-108.86\"/>\n",
       "<polygon fill=\"black\" stroke=\"black\" points=\"364.573,-112.093 375.078,-113.471 367.725,-105.843 364.573,-112.093\"/>\n",
       "<text text-anchor=\"middle\" x=\"349.36\" y=\"-104.8\" font-family=\"Times,serif\" font-size=\"14.00\">0</text>\n",
       "</g>\n",
       "<!-- St28 -->\n",
       "<g id=\"node3\" class=\"node\"><title>St28</title>\n",
       "<ellipse fill=\"none\" stroke=\"black\" cx=\"597.238\" cy=\"-213\" rx=\"26.1523\" ry=\"26.1523\"/>\n",
       "<text text-anchor=\"middle\" x=\"597.238\" y=\"-208.8\" font-family=\"Times,serif\" font-size=\"14.00\">St28</text>\n",
       "</g>\n",
       "<!-- St13 -->\n",
       "<g id=\"node15\" class=\"node\"><title>St13</title>\n",
       "<ellipse fill=\"none\" stroke=\"black\" cx=\"700.389\" cy=\"-196\" rx=\"26.1751\" ry=\"26.1751\"/>\n",
       "<ellipse fill=\"none\" stroke=\"black\" cx=\"700.389\" cy=\"-196\" rx=\"30.1522\" ry=\"30.1522\"/>\n",
       "<text text-anchor=\"middle\" x=\"700.389\" y=\"-191.8\" font-family=\"Times,serif\" font-size=\"14.00\">St13</text>\n",
       "</g>\n",
       "<!-- St28&#45;&gt;St13 -->\n",
       "<g id=\"edge22\" class=\"edge\"><title>St28&#45;&gt;St13</title>\n",
       "<path fill=\"none\" stroke=\"black\" d=\"M623.242,-208.798C634.394,-206.923 647.797,-204.671 660.23,-202.581\"/>\n",
       "<polygon fill=\"black\" stroke=\"black\" points=\"661.092,-205.986 670.374,-200.876 659.932,-199.082 661.092,-205.986\"/>\n",
       "<text text-anchor=\"middle\" x=\"646.814\" y=\"-221.8\" font-family=\"Times,serif\" font-size=\"14.00\">1 </text>\n",
       "<text text-anchor=\"middle\" x=\"646.814\" y=\"-207.8\" font-family=\"Times,serif\" font-size=\"14.00\"> 0</text>\n",
       "</g>\n",
       "<!-- BH -->\n",
       "<g id=\"node7\" class=\"node\"><title>BH</title>\n",
       "<ellipse fill=\"none\" stroke=\"black\" cx=\"799.607\" cy=\"-88\" rx=\"22.2841\" ry=\"22.2841\"/>\n",
       "<text text-anchor=\"middle\" x=\"799.607\" y=\"-83.8\" font-family=\"Times,serif\" font-size=\"14.00\">BH</text>\n",
       "</g>\n",
       "<!-- St61&#45;&gt;BH -->\n",
       "<g id=\"edge13\" class=\"edge\"><title>St61&#45;&gt;BH</title>\n",
       "<path fill=\"none\" stroke=\"black\" d=\"M425.457,-50.7461C445.024,-48.5312 472.717,-46 497.087,-46 497.087,-46 497.087,-46 701.389,-46 726.986,-46 753.494,-58.4212 772.352,-69.7538\"/>\n",
       "<polygon fill=\"black\" stroke=\"black\" points=\"770.63,-72.8055 780.957,-75.1704 774.359,-66.8814 770.63,-72.8055\"/>\n",
       "<text text-anchor=\"middle\" x=\"597.238\" y=\"-48.8\" font-family=\"Times,serif\" font-size=\"14.00\">0</text>\n",
       "</g>\n",
       "<!-- St62 -->\n",
       "<g id=\"node11\" class=\"node\"><title>St62</title>\n",
       "<ellipse fill=\"none\" stroke=\"black\" cx=\"498.087\" cy=\"-110\" rx=\"26.1523\" ry=\"26.1523\"/>\n",
       "<text text-anchor=\"middle\" x=\"498.087\" y=\"-105.8\" font-family=\"Times,serif\" font-size=\"14.00\">St62</text>\n",
       "</g>\n",
       "<!-- St61&#45;&gt;St62 -->\n",
       "<g id=\"edge12\" class=\"edge\"><title>St61&#45;&gt;St62</title>\n",
       "<path fill=\"none\" stroke=\"black\" d=\"M422.468,-66.9883C435.435,-74.4626 451.917,-83.9631 466.091,-92.1332\"/>\n",
       "<polygon fill=\"black\" stroke=\"black\" points=\"464.6,-95.3135 475.011,-97.2752 468.096,-89.2489 464.6,-95.3135\"/>\n",
       "<text text-anchor=\"middle\" x=\"448.511\" y=\"-86.8\" font-family=\"Times,serif\" font-size=\"14.00\">1</text>\n",
       "</g>\n",
       "<!-- St34 -->\n",
       "<g id=\"node8\" class=\"node\"><title>St34</title>\n",
       "<ellipse fill=\"none\" stroke=\"black\" cx=\"498.087\" cy=\"-196\" rx=\"26.1523\" ry=\"26.1523\"/>\n",
       "<text text-anchor=\"middle\" x=\"498.087\" y=\"-191.8\" font-family=\"Times,serif\" font-size=\"14.00\">St34</text>\n",
       "</g>\n",
       "<!-- St26&#45;&gt;St34 -->\n",
       "<g id=\"edge14\" class=\"edge\"><title>St26&#45;&gt;St34</title>\n",
       "<path fill=\"none\" stroke=\"black\" d=\"M420.539,-140.057C434.356,-150.155 452.753,-163.6 468.049,-174.778\"/>\n",
       "<polygon fill=\"black\" stroke=\"black\" points=\"466.04,-177.645 476.178,-180.72 470.17,-171.993 466.04,-177.645\"/>\n",
       "<text text-anchor=\"middle\" x=\"448.511\" y=\"-165.8\" font-family=\"Times,serif\" font-size=\"14.00\">1</text>\n",
       "</g>\n",
       "<!-- St26&#45;&gt;St62 -->\n",
       "<g id=\"edge15\" class=\"edge\"><title>St26&#45;&gt;St62</title>\n",
       "<path fill=\"none\" stroke=\"black\" d=\"M425.207,-121.098C436.339,-119.379 449.611,-117.33 461.703,-115.463\"/>\n",
       "<polygon fill=\"black\" stroke=\"black\" points=\"462.593,-118.867 471.942,-113.882 461.525,-111.949 462.593,-118.867\"/>\n",
       "<text text-anchor=\"middle\" x=\"448.511\" y=\"-120.8\" font-family=\"Times,serif\" font-size=\"14.00\">0</text>\n",
       "</g>\n",
       "<!-- St8 -->\n",
       "<g id=\"node10\" class=\"node\"><title>St8</title>\n",
       "<ellipse fill=\"none\" stroke=\"black\" cx=\"204.133\" cy=\"-99\" rx=\"21.8081\" ry=\"21.8081\"/>\n",
       "<text text-anchor=\"middle\" x=\"204.133\" y=\"-94.8\" font-family=\"Times,serif\" font-size=\"14.00\">St8</text>\n",
       "</g>\n",
       "<!-- St1&#45;&gt;St8 -->\n",
       "<g id=\"edge3\" class=\"edge\"><title>St1&#45;&gt;St8</title>\n",
       "<path fill=\"none\" stroke=\"black\" d=\"M134.151,-75.8075C145.674,-79.6815 160.325,-84.6073 173.158,-88.922\"/>\n",
       "<polygon fill=\"black\" stroke=\"black\" points=\"172.372,-92.3501 182.966,-92.2195 174.603,-85.7151 172.372,-92.3501\"/>\n",
       "<text text-anchor=\"middle\" x=\"156.308\" y=\"-86.8\" font-family=\"Times,serif\" font-size=\"14.00\">0</text>\n",
       "</g>\n",
       "<!-- St24 -->\n",
       "<g id=\"node14\" class=\"node\"><title>St24</title>\n",
       "<ellipse fill=\"none\" stroke=\"black\" cx=\"204.133\" cy=\"-33\" rx=\"26.1523\" ry=\"26.1523\"/>\n",
       "<text text-anchor=\"middle\" x=\"204.133\" y=\"-28.8\" font-family=\"Times,serif\" font-size=\"14.00\">St24</text>\n",
       "</g>\n",
       "<!-- St1&#45;&gt;St24 -->\n",
       "<g id=\"edge2\" class=\"edge\"><title>St1&#45;&gt;St24</title>\n",
       "<path fill=\"none\" stroke=\"black\" d=\"M133.707,-61.0104C144.321,-56.728 157.683,-51.3372 169.843,-46.4312\"/>\n",
       "<polygon fill=\"black\" stroke=\"black\" points=\"171.298,-49.6184 179.262,-42.6311 168.679,-43.1269 171.298,-49.6184\"/>\n",
       "<text text-anchor=\"middle\" x=\"156.308\" y=\"-56.8\" font-family=\"Times,serif\" font-size=\"14.00\">1</text>\n",
       "</g>\n",
       "<!-- BH&#45;&gt;BH -->\n",
       "<g id=\"edge10\" class=\"edge\"><title>BH&#45;&gt;BH</title>\n",
       "<path fill=\"none\" stroke=\"black\" d=\"M791.558,-109.196C790.564,-119.392 793.247,-128.392 799.607,-128.392 803.681,-128.392 806.246,-124.698 807.302,-119.363\"/>\n",
       "<polygon fill=\"black\" stroke=\"black\" points=\"810.806,-119.312 807.655,-109.196 803.81,-119.069 810.806,-119.312\"/>\n",
       "<text text-anchor=\"middle\" x=\"799.607\" y=\"-145.192\" font-family=\"Times,serif\" font-size=\"14.00\">1 </text>\n",
       "<text text-anchor=\"middle\" x=\"799.607\" y=\"-131.192\" font-family=\"Times,serif\" font-size=\"14.00\"> 0</text>\n",
       "</g>\n",
       "<!-- St34&#45;&gt;St28 -->\n",
       "<g id=\"edge19\" class=\"edge\"><title>St34&#45;&gt;St28</title>\n",
       "<path fill=\"none\" stroke=\"black\" d=\"M524.106,-200.378C535.35,-202.345 548.816,-204.702 561.053,-206.843\"/>\n",
       "<polygon fill=\"black\" stroke=\"black\" points=\"560.513,-210.302 570.966,-208.578 561.719,-203.406 560.513,-210.302\"/>\n",
       "<text text-anchor=\"middle\" x=\"547.663\" y=\"-221.8\" font-family=\"Times,serif\" font-size=\"14.00\">1 </text>\n",
       "<text text-anchor=\"middle\" x=\"547.663\" y=\"-207.8\" font-family=\"Times,serif\" font-size=\"14.00\"> 0</text>\n",
       "</g>\n",
       "<!-- St9 -->\n",
       "<g id=\"node9\" class=\"node\"><title>St9</title>\n",
       "<ellipse fill=\"none\" stroke=\"black\" cx=\"299.785\" cy=\"-146\" rx=\"21.8081\" ry=\"21.8081\"/>\n",
       "<text text-anchor=\"middle\" x=\"299.785\" y=\"-141.8\" font-family=\"Times,serif\" font-size=\"14.00\">St9</text>\n",
       "</g>\n",
       "<!-- St10 -->\n",
       "<g id=\"node13\" class=\"node\"><title>St10</title>\n",
       "<ellipse fill=\"none\" stroke=\"black\" cx=\"398.936\" cy=\"-196\" rx=\"26.1523\" ry=\"26.1523\"/>\n",
       "<text text-anchor=\"middle\" x=\"398.936\" y=\"-191.8\" font-family=\"Times,serif\" font-size=\"14.00\">St10</text>\n",
       "</g>\n",
       "<!-- St9&#45;&gt;St10 -->\n",
       "<g id=\"edge11\" class=\"edge\"><title>St9&#45;&gt;St10</title>\n",
       "<path fill=\"none\" stroke=\"black\" d=\"M319.516,-155.641C332.667,-162.409 350.582,-171.629 365.969,-179.548\"/>\n",
       "<polygon fill=\"black\" stroke=\"black\" points=\"364.665,-182.813 375.158,-184.277 367.868,-176.589 364.665,-182.813\"/>\n",
       "<text text-anchor=\"middle\" x=\"349.36\" y=\"-189.8\" font-family=\"Times,serif\" font-size=\"14.00\">1 </text>\n",
       "<text text-anchor=\"middle\" x=\"349.36\" y=\"-175.8\" font-family=\"Times,serif\" font-size=\"14.00\"> 0</text>\n",
       "</g>\n",
       "<!-- St8&#45;&gt;St25 -->\n",
       "<g id=\"edge7\" class=\"edge\"><title>St8&#45;&gt;St25</title>\n",
       "<path fill=\"none\" stroke=\"black\" d=\"M225.918,-93.8956C237.143,-91.1387 251.296,-87.6628 264.136,-84.5093\"/>\n",
       "<polygon fill=\"black\" stroke=\"black\" points=\"265.195,-87.8534 274.072,-82.0693 263.525,-81.0554 265.195,-87.8534\"/>\n",
       "<text text-anchor=\"middle\" x=\"251.959\" y=\"-91.8\" font-family=\"Times,serif\" font-size=\"14.00\">0</text>\n",
       "</g>\n",
       "<!-- St8&#45;&gt;St9 -->\n",
       "<g id=\"edge6\" class=\"edge\"><title>St8&#45;&gt;St9</title>\n",
       "<path fill=\"none\" stroke=\"black\" d=\"M224.085,-108.511C237.414,-115.2 255.479,-124.267 270.506,-131.808\"/>\n",
       "<polygon fill=\"black\" stroke=\"black\" points=\"269.353,-135.146 279.861,-136.503 272.493,-128.889 269.353,-135.146\"/>\n",
       "<text text-anchor=\"middle\" x=\"251.959\" y=\"-126.8\" font-family=\"Times,serif\" font-size=\"14.00\">1</text>\n",
       "</g>\n",
       "<!-- St62&#45;&gt;BH -->\n",
       "<g id=\"edge17\" class=\"edge\"><title>St62&#45;&gt;BH</title>\n",
       "<path fill=\"none\" stroke=\"black\" d=\"M524.366,-108.143C578.802,-104.145 707.016,-94.7274 766.835,-90.3336\"/>\n",
       "<polygon fill=\"black\" stroke=\"black\" points=\"767.459,-93.7973 777.176,-89.5741 766.946,-86.8161 767.459,-93.7973\"/>\n",
       "<text text-anchor=\"middle\" x=\"646.814\" y=\"-102.8\" font-family=\"Times,serif\" font-size=\"14.00\">1</text>\n",
       "</g>\n",
       "<!-- St54 -->\n",
       "<g id=\"node12\" class=\"node\"><title>St54</title>\n",
       "<ellipse fill=\"none\" stroke=\"black\" cx=\"597.238\" cy=\"-142\" rx=\"26.1523\" ry=\"26.1523\"/>\n",
       "<text text-anchor=\"middle\" x=\"597.238\" y=\"-137.8\" font-family=\"Times,serif\" font-size=\"14.00\">St54</text>\n",
       "</g>\n",
       "<!-- St62&#45;&gt;St54 -->\n",
       "<g id=\"edge18\" class=\"edge\"><title>St62&#45;&gt;St54</title>\n",
       "<path fill=\"none\" stroke=\"black\" d=\"M523.602,-118.075C535.312,-121.932 549.517,-126.611 562.248,-130.804\"/>\n",
       "<polygon fill=\"black\" stroke=\"black\" points=\"561.474,-134.234 572.067,-134.038 563.664,-127.586 561.474,-134.234\"/>\n",
       "<text text-anchor=\"middle\" x=\"547.663\" y=\"-129.8\" font-family=\"Times,serif\" font-size=\"14.00\">0</text>\n",
       "</g>\n",
       "<!-- St54&#45;&gt;BH -->\n",
       "<g id=\"edge21\" class=\"edge\"><title>St54&#45;&gt;BH</title>\n",
       "<path fill=\"none\" stroke=\"black\" d=\"M623.263,-136.581C655.096,-129.506 711.65,-116.324 759.215,-102 762.342,-101.058 765.587,-100.015 768.812,-98.9349\"/>\n",
       "<polygon fill=\"black\" stroke=\"black\" points=\"769.986,-102.232 778.287,-95.6496 767.693,-95.6187 769.986,-102.232\"/>\n",
       "<text text-anchor=\"middle\" x=\"700.389\" y=\"-128.8\" font-family=\"Times,serif\" font-size=\"14.00\">0</text>\n",
       "</g>\n",
       "<!-- St54&#45;&gt;St13 -->\n",
       "<g id=\"edge20\" class=\"edge\"><title>St54&#45;&gt;St13</title>\n",
       "<path fill=\"none\" stroke=\"black\" d=\"M620.687,-153.984C633.387,-160.764 649.557,-169.397 663.932,-177.071\"/>\n",
       "<polygon fill=\"black\" stroke=\"black\" points=\"662.595,-180.325 673.065,-181.947 665.891,-174.149 662.595,-180.325\"/>\n",
       "<text text-anchor=\"middle\" x=\"646.814\" y=\"-173.8\" font-family=\"Times,serif\" font-size=\"14.00\">1</text>\n",
       "</g>\n",
       "<!-- St10&#45;&gt;St34 -->\n",
       "<g id=\"edge16\" class=\"edge\"><title>St10&#45;&gt;St34</title>\n",
       "<path fill=\"none\" stroke=\"black\" d=\"M425.461,-196C436.505,-196 449.62,-196 461.589,-196\"/>\n",
       "<polygon fill=\"black\" stroke=\"black\" points=\"461.732,-199.5 471.732,-196 461.732,-192.5 461.732,-199.5\"/>\n",
       "<text text-anchor=\"middle\" x=\"448.511\" y=\"-212.8\" font-family=\"Times,serif\" font-size=\"14.00\">1 </text>\n",
       "<text text-anchor=\"middle\" x=\"448.511\" y=\"-198.8\" font-family=\"Times,serif\" font-size=\"14.00\"> 0</text>\n",
       "</g>\n",
       "<!-- St24&#45;&gt;St25 -->\n",
       "<g id=\"edge4\" class=\"edge\"><title>St24&#45;&gt;St25</title>\n",
       "<path fill=\"none\" stroke=\"black\" d=\"M228.283,-43.6292C239.764,-48.9009 253.823,-55.3559 266.357,-61.1108\"/>\n",
       "<polygon fill=\"black\" stroke=\"black\" points=\"265.028,-64.352 275.577,-65.344 267.949,-57.9905 265.028,-64.352\"/>\n",
       "<text text-anchor=\"middle\" x=\"251.959\" y=\"-58.8\" font-family=\"Times,serif\" font-size=\"14.00\">1</text>\n",
       "</g>\n",
       "<!-- St24&#45;&gt;BH -->\n",
       "<g id=\"edge5\" class=\"edge\"><title>St24&#45;&gt;BH</title>\n",
       "<path fill=\"none\" stroke=\"black\" d=\"M227.451,-20.3357C245.957,-11.0295 273.271,-0 298.785,-0 298.785,-0 298.785,-0 701.389,-0 737.638,-0 766.404,-34.0435 782.973,-59.7818\"/>\n",
       "<polygon fill=\"black\" stroke=\"black\" points=\"780.096,-61.7859 788.317,-68.4699 786.059,-58.1185 780.096,-61.7859\"/>\n",
       "<text text-anchor=\"middle\" x=\"498.087\" y=\"-2.8\" font-family=\"Times,serif\" font-size=\"14.00\">0</text>\n",
       "</g>\n",
       "<!-- St13&#45;&gt;BH -->\n",
       "<g id=\"edge23\" class=\"edge\"><title>St13&#45;&gt;BH</title>\n",
       "<path fill=\"none\" stroke=\"black\" d=\"M725.591,-178.537C736.53,-170.009 749.215,-159.186 759.215,-148 767.822,-138.372 775.917,-126.705 782.503,-116.229\"/>\n",
       "<polygon fill=\"black\" stroke=\"black\" points=\"785.662,-117.771 787.877,-107.41 779.684,-114.128 785.662,-117.771\"/>\n",
       "<text text-anchor=\"middle\" x=\"753.965\" y=\"-175.8\" font-family=\"Times,serif\" font-size=\"14.00\">1 </text>\n",
       "<text text-anchor=\"middle\" x=\"753.965\" y=\"-161.8\" font-family=\"Times,serif\" font-size=\"14.00\"> 0</text>\n",
       "</g>\n",
       "</g>\n",
       "</svg>\n"
      ],
      "text/plain": [
       "<graphviz.dot.Digraph at 0x1128c5780>"
      ]
     },
     "execution_count": 16,
     "metadata": {},
     "output_type": "execute_result"
    }
   ],
   "source": [
    "doGoodLT = dotObj_dfa_w_bh(Dmix, FuseEdges=True)\n",
    "doGoodLT"
   ]
  },
  {
   "cell_type": "code",
   "execution_count": 17,
   "metadata": {
    "run_control": {
     "frozen": false,
     "read_only": false
    }
   },
   "outputs": [
    {
     "data": {
      "text/plain": [
       "'/Users/ganesh/repos/atmm/book/CH17/doGoodLT.dot.pdf'"
      ]
     },
     "execution_count": 17,
     "metadata": {},
     "output_type": "execute_result"
    }
   ],
   "source": [
    "doGoodLT.render('/Users/ganesh/repos/atmm/book/CH17/doGoodLT.dot')"
   ]
  },
  {
   "cell_type": "markdown",
   "metadata": {
    "run_control": {
     "frozen": false,
     "read_only": false
    }
   },
   "source": [
    "We see that this minimal DFA is much smaller. The reason is that as soon as an x2 comes, a y2 bit is fed. In a positional encoding of binary numbers, this allows a DFA to immediately decide whether X < Y for X = x2x1x0 and Y = y2y1y0. \n",
    "\n",
    "The DFA that sees x2,x1,x0,y2,y1,y0 on the other hand cannot take a decision until bit y2 comes along. This means that this DFA has to build a full tree after seeing merely x2,x1,x0 and this would already be exponential in size. "
   ]
  },
  {
   "cell_type": "markdown",
   "metadata": {
    "run_control": {
     "frozen": false,
     "read_only": false
    }
   },
   "source": [
    "This machine appears to be linearly sized w.r.t. the number of inputs. \n",
    "\n",
    "This DFA also acts as a representation of the \"<\" function.  State St1 is a function of all the six input bits. States St2 and St3 are functions of the five bits y2,x1,y1,x0,y0. In fact, the further we go away from the initial state, the lesser the remaining bits are in deciding the \"fate of the function\". But the bits come in an interleaved manner. \n",
    "\n",
    "Take St2 as representing a Boolean function: paths from it to the final state represent the on-set of a Boolean function of inputs y2,x1,y1,x0,y0 and paths leading to BH are in the off-set.\n"
   ]
  },
  {
   "cell_type": "markdown",
   "metadata": {
    "run_control": {
     "frozen": false,
     "read_only": false
    }
   },
   "source": [
    "## Boolean subfunctions in the DFA\n",
    "\n",
    "Each state of the minimal DFA obtained in this manner represents a Boolean function.\n"
   ]
  },
  {
   "cell_type": "markdown",
   "metadata": {
    "run_control": {
     "frozen": false,
     "read_only": false
    }
   },
   "source": [
    "# Building BDDs from minimal DFA for on-set languages\n",
    "\n",
    "A BDD is obtained from a minimal DFA by following some \"cleanup\" steps:\n",
    "\n",
    "* When a 0,1 jump is made from one state to the other, short-circuit the jump\n",
    " \n",
    "  - This means that whether a 0 or a 1 comes, we go to the same state. That is \n",
    "    a redundant binary decoding situation\n",
    "    \n",
    "* When we see two distinct nodes represent the same Boolean function, merge them\n",
    "\n",
    "   - This merging step is already being done during state minimization\n",
    "   \n",
    "Let us obtain BDDs using our BDD tool and then compare it with our minimal DFA to get an idea of what these optmizations do."
   ]
  },
  {
   "cell_type": "code",
   "execution_count": 18,
   "metadata": {
    "run_control": {
     "frozen": false,
     "read_only": false
    }
   },
   "outputs": [
    {
     "data": {
      "text/plain": [
       "True"
      ]
     },
     "execution_count": 18,
     "metadata": {},
     "output_type": "execute_result"
    }
   ],
   "source": [
    "import webbrowser\n",
    "\n",
    "# This is the URL for our BDD tool that can be opened on a new tab\n",
    "url = 'http://formal.cs.utah.edu:8080/pbl/BDD.php'\n",
    "webbrowser.open(url)"
   ]
  },
  {
   "cell_type": "markdown",
   "metadata": {
    "run_control": {
     "frozen": false,
     "read_only": false
    }
   },
   "source": [
    "```\n",
    "1) The BDD for XOR can be drawn as follows:\n",
    "\n",
    "Var_Order : x1 x0\n",
    " \n",
    "Main_Exp : x1 ^ x0\n",
    "\n",
    "\n",
    "2) The BDD for OR can be drawn as follows:\n",
    "\n",
    "\n",
    "3) The BDD for the comparator that uses the inefficient variable order can be drawn as follows.\n",
    "\n",
    "#3-bit comparator with the inefficient variable order\n",
    "#First declare the variables and specify variable orderings\n",
    "\n",
    "Var_Order : x2 x1 x0 y2 y1 y0\n",
    " \n",
    "Main_Exp : (!x2 & y2) | (x2 <=> y2) &  ( (!x1 & y1) | (x1 <=> y1) & (!x0 & y0) )\n",
    "\n",
    "4) The BDD for the comparator that uses the better variable order is easily obtained: simply change Var_Order\n",
    "\n",
    "Var_Order : x2 y2 x1 y1 x0 y0\n",
    "```\n",
    "\n",
    "You will be able to see these BDDs and be able to relate them to the aforesaid DFA.\n",
    "This material will be covered in Chapter 17 of our book."
   ]
  },
  {
   "cell_type": "markdown",
   "metadata": {
    "run_control": {
     "frozen": false,
     "read_only": false
    }
   },
   "source": [
    "** END **"
   ]
  }
 ],
 "metadata": {
  "kernelspec": {
   "display_name": "Python 3",
   "language": "python",
   "name": "python3"
  },
  "language_info": {
   "codemirror_mode": {
    "name": "ipython",
    "version": 3
   },
   "file_extension": ".py",
   "mimetype": "text/x-python",
   "name": "python",
   "nbconvert_exporter": "python",
   "pygments_lexer": "ipython3",
   "version": "3.6.0"
  },
  "toc": {
   "colors": {
    "hover_highlight": "#DAA520",
    "running_highlight": "#FF0000",
    "selected_highlight": "#FFD700"
   },
   "moveMenuLeft": true,
   "nav_menu": {
    "height": "318px",
    "width": "252px"
   },
   "navigate_menu": true,
   "number_sections": true,
   "sideBar": true,
   "threshold": 4,
   "toc_cell": false,
   "toc_section_display": "block",
   "toc_window_display": false,
   "widenNotebook": false
  }
 },
 "nbformat": 4,
 "nbformat_minor": 2
}
