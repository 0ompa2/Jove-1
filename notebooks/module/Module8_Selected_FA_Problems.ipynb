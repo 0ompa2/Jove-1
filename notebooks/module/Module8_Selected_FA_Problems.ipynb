{
 "cells": [
  {
   "cell_type": "markdown",
   "metadata": {
    "run_control": {
     "frozen": false,
     "read_only": false
    }
   },
   "source": [
    " # Problem Set One"
   ]
  },
  {
   "cell_type": "markdown",
   "metadata": {
    "run_control": {
     "frozen": false,
     "read_only": false
    }
   },
   "source": [
    "1) LOdd1Three0 : Set of strings over {0,1} with an odd # of 1s OR exactly three 0s. \n",
    "\n",
    "* Hint on how to arrive at the language:\n",
    "\n",
    "  - develop NFAs for the two cases and perform their union. Obtain DFA\n",
    "\n",
    "  - develop REs for the two cases and perform the union. \n",
    "\n",
    "  - Testing the creations:\n",
    "\n",
    "    .   Come up with language for even # of 1s and separately for \"other than three 0s\". \n",
    " \n",
    "    .   Do two intersections. \n",
    " \n",
    "    .   Is the language empty?\n",
    "\n",
    "\n",
    "2) Language of strings over {0,1} with exactly two occurrences of 0101 in it.\n",
    "\n",
    " * Come up with it directly (take overlaps into account, i.e. 010101 has two occurrences in it\n",
    "\n",
    " * Come up in another way\n",
    "\n",
    "Notes:\n",
    "\n",
    "* Most of the problem students will have in this course is interpreting English (technical English)\n",
    "\n",
    "* So again, read the writeup at the beginning of Module6 (should be ready soon today) and work on using the tool.\n",
    "\n",
    "\n",
    "\n"
   ]
  },
  {
   "cell_type": "code",
   "execution_count": 1,
   "metadata": {
    "run_control": {
     "frozen": false,
     "read_only": false
    }
   },
   "outputs": [],
   "source": [
    "      \n",
    "\n",
    "from jove.Module5_RE  import re2nfa\n",
    "from jove.Module4_NFA import min_dfa_brz, nfa2dfa\n",
    "from jove.Module3_DFA import min_dfa, langeq_dfa, iso_dfa, pruneUnreach\n",
    "from jove.Module3_DFA import union_dfa, intersect_dfa, totalize_dfa\n",
    "from jove.DotBashers  import dotObj_dfa \n",
    "\n",
    " \n"
   ]
  },
  {
   "cell_type": "markdown",
   "metadata": {
    "run_control": {
     "frozen": false,
     "read_only": false
    }
   },
   "source": [
    "__Solutions__\n",
    "\n",
    "1) LOdd1Three0 : Set of strings over {0,1} with an odd # of 1s OR exactly three 0s. \n",
    "\n",
    "* Hint on how to arrive at the language:\n",
    "\n",
    "  - develop NFAs for the two cases and perform their union. Obtain DFA\n",
    "\n",
    "  - develop REs for the two cases and perform the union. \n",
    "\n",
    "  - Testing the creations:\n",
    "\n",
    "    .   Come up with language for even # of 1s and separately for \"other than three 0s\". \n",
    " \n",
    "    .   Do two intersections. \n",
    " \n",
    "    .   Is the language empty?\n",
    "\n",
    "\n",
    "2) Language of strings over {0,1} with exactly two occurrences of 0101 in it.\n",
    "\n",
    " * Come up with it directly (take overlaps into account, i.e. 010101 has two occurrences in it\n",
    "\n",
    " * Come up in another way\n",
    "\n",
    "Notes:\n",
    "\n",
    "* Most of the problem students will have in this course is interpreting English (technical English)\n",
    "\n",
    "* So again, read the writeup at the beginning of Module6 (should be ready soon today) and work on using the tool.\n",
    "\n",
    "\n",
    "\n"
   ]
  },
  {
   "cell_type": "code",
   "execution_count": 2,
   "metadata": {
    "run_control": {
     "frozen": false,
     "read_only": false
    }
   },
   "outputs": [],
   "source": [
    "RE_Odd1s  = \"0* 1 0* (1 0* 1 0*)*\"\n",
    "NFA_Odd1s = re2nfa(RE_Odd1s)\n",
    "DO_Odd1s  = dotObj_dfa(min_dfa(nfa2dfa(NFA_Odd1s)))\n",
    "DO_Odd1s"
   ]
  },
  {
   "cell_type": "code",
   "execution_count": 3,
   "metadata": {
    "run_control": {
     "frozen": false,
     "read_only": false
    }
   },
   "outputs": [],
   "source": [
    "RE_Ex3z = \"1* 0 1* 0 1* 0 1* \"\n",
    "NFA_Ex3z = re2nfa(RE_Ex3z)\n",
    "DO_Ex3z  = dotObj_dfa(min_dfa(nfa2dfa(NFA_Ex3z)))\n",
    "DO_Ex3z"
   ]
  },
  {
   "cell_type": "code",
   "execution_count": 4,
   "metadata": {
    "run_control": {
     "frozen": false,
     "read_only": false
    }
   },
   "outputs": [],
   "source": [
    "RE_O13z  = \"0* 1 0* (1 0* 1 0*)* + 1* 0 1* 0 1* 0 1* \"\n",
    "NFA_O13z = re2nfa(RE_O13z)\n",
    "MD_O13z  = min_dfa(nfa2dfa(NFA_O13z))\n",
    "DO_O13z  = dotObj_dfa(MD_O13z)\n",
    "DO_O13z"
   ]
  },
  {
   "cell_type": "code",
   "execution_count": 5,
   "metadata": {
    "run_control": {
     "frozen": false,
     "read_only": false
    },
    "scrolled": true
   },
   "outputs": [],
   "source": [
    "RE_O13z  = \"0* 1 0* (1 0* 1 0*)* + 1* 0 1* 0 1* 0 1* \"\n",
    "NFA_O13z = re2nfa(RE_O13z)\n",
    "NMD_O13z  = nfa2dfa(NFA_O13z)\n",
    "MD_O13zB  = min_dfa_brz(NMD_O13z)\n",
    "DO_O13zB  = dotObj_dfa(MD_O13zB)\n",
    "DO_O13zB"
   ]
  },
  {
   "cell_type": "code",
   "execution_count": 6,
   "metadata": {
    "run_control": {
     "frozen": false,
     "read_only": false
    }
   },
   "outputs": [],
   "source": [
    "iso_dfa(MD_O13z,MD_O13zB)"
   ]
  },
  {
   "cell_type": "code",
   "execution_count": 7,
   "metadata": {
    "run_control": {
     "frozen": false,
     "read_only": false
    }
   },
   "outputs": [],
   "source": [
    "langeq_dfa(NMD_O13z,MD_O13z)"
   ]
  },
  {
   "cell_type": "code",
   "execution_count": 8,
   "metadata": {
    "run_control": {
     "frozen": false,
     "read_only": false
    }
   },
   "outputs": [],
   "source": [
    "iso_dfa(NMD_O13z, MD_O13z)"
   ]
  },
  {
   "cell_type": "code",
   "execution_count": 9,
   "metadata": {
    "run_control": {
     "frozen": false,
     "read_only": false
    }
   },
   "outputs": [],
   "source": [
    "dotObj_dfa(min_dfa(nfa2dfa(re2nfa(\"''\"))))"
   ]
  },
  {
   "cell_type": "code",
   "execution_count": 10,
   "metadata": {
    "run_control": {
     "frozen": false,
     "read_only": false
    }
   },
   "outputs": [],
   "source": [
    "D1 = min_dfa(nfa2dfa(re2nfa(\"aa\")))\n",
    "dotObj_dfa(D1)"
   ]
  },
  {
   "cell_type": "code",
   "execution_count": 11,
   "metadata": {
    "run_control": {
     "frozen": false,
     "read_only": false
    }
   },
   "outputs": [],
   "source": [
    "D2 = min_dfa(nfa2dfa(re2nfa(\"bb\")))\n",
    "dotObj_dfa(D2)"
   ]
  },
  {
   "cell_type": "code",
   "execution_count": 12,
   "metadata": {
    "run_control": {
     "frozen": false,
     "read_only": false
    }
   },
   "outputs": [],
   "source": [
    "D1"
   ]
  },
  {
   "cell_type": "code",
   "execution_count": 13,
   "metadata": {
    "run_control": {
     "frozen": false,
     "read_only": false
    }
   },
   "outputs": [],
   "source": [
    "D2"
   ]
  },
  {
   "cell_type": "code",
   "execution_count": 14,
   "metadata": {
    "run_control": {
     "frozen": false,
     "read_only": false
    }
   },
   "outputs": [],
   "source": [
    "D1or2 = min_dfa(union_dfa(D1,D2))\n",
    "D1or2p = pruneUnreach(D1or2)\n",
    "dotObj_dfa(D1or2)"
   ]
  },
  {
   "cell_type": "code",
   "execution_count": 15,
   "metadata": {
    "run_control": {
     "frozen": false,
     "read_only": false
    }
   },
   "outputs": [],
   "source": [
    "dotObj_dfa(D1or2p)"
   ]
  },
  {
   "cell_type": "code",
   "execution_count": 16,
   "metadata": {
    "run_control": {
     "frozen": false,
     "read_only": false
    }
   },
   "outputs": [],
   "source": [
    "D1and2 = min_dfa(intersect_dfa(D1,D2))\n",
    "D1and2p = pruneUnreach(D1and2)\n",
    "dotObj_dfa(D1and2)"
   ]
  },
  {
   "cell_type": "code",
   "execution_count": 17,
   "metadata": {
    "run_control": {
     "frozen": false,
     "read_only": false
    }
   },
   "outputs": [],
   "source": [
    "dotObj_dfa(D1and2p)"
   ]
  },
  {
   "cell_type": "code",
   "execution_count": 18,
   "metadata": {
    "run_control": {
     "frozen": false,
     "read_only": false
    }
   },
   "outputs": [],
   "source": [
    "d1=nfa2dfa(re2nfa(\"abcde\"))\n",
    "d2=nfa2dfa(re2nfa(\"abced\"))\n",
    "langeq_dfa(d1,d2,True)"
   ]
  },
  {
   "cell_type": "code",
   "execution_count": 19,
   "metadata": {
    "run_control": {
     "frozen": false,
     "read_only": false
    }
   },
   "outputs": [],
   "source": [
    "dotObj_dfa(d1)"
   ]
  },
  {
   "cell_type": "code",
   "execution_count": 20,
   "metadata": {
    "run_control": {
     "frozen": false,
     "read_only": false
    }
   },
   "outputs": [],
   "source": [
    "dotObj_dfa(d2)"
   ]
  },
  {
   "cell_type": "code",
   "execution_count": 21,
   "metadata": {
    "run_control": {
     "frozen": false,
     "read_only": false
    }
   },
   "outputs": [],
   "source": [
    "d1a=nfa2dfa(re2nfa(\"aa*+bc\"))\n",
    "d2a=nfa2dfa(re2nfa(\"a(a*+bc)\"))\n",
    "langeq_dfa(d1a,d2a,True)"
   ]
  },
  {
   "cell_type": "code",
   "execution_count": 22,
   "metadata": {
    "run_control": {
     "frozen": false,
     "read_only": false
    }
   },
   "outputs": [],
   "source": [
    "dotObj_dfa(d1a)"
   ]
  },
  {
   "cell_type": "code",
   "execution_count": 23,
   "metadata": {
    "run_control": {
     "frozen": false,
     "read_only": false
    }
   },
   "outputs": [],
   "source": [
    "dotObj_dfa(d2a)"
   ]
  },
  {
   "cell_type": "code",
   "execution_count": 24,
   "metadata": {
    "run_control": {
     "frozen": false,
     "read_only": false
    }
   },
   "outputs": [],
   "source": [
    "d1b=nfa2dfa(re2nfa(\"aaa*+aa*bc+bcaa*+bcbc\"))\n",
    "d2b=nfa2dfa(re2nfa(\"(aa*+bc)(aa*+bc)\"))\n",
    "langeq_dfa(d1b,d2b,True)"
   ]
  },
  {
   "cell_type": "code",
   "execution_count": 25,
   "metadata": {
    "run_control": {
     "frozen": false,
     "read_only": false
    }
   },
   "outputs": [],
   "source": [
    "dotObj_dfa(d1b)"
   ]
  },
  {
   "cell_type": "code",
   "execution_count": 26,
   "metadata": {
    "run_control": {
     "frozen": false,
     "read_only": false
    }
   },
   "outputs": [],
   "source": [
    "dotObj_dfa(d2b)"
   ]
  },
  {
   "cell_type": "code",
   "execution_count": 27,
   "metadata": {
    "run_control": {
     "frozen": false,
     "read_only": false
    }
   },
   "outputs": [],
   "source": [
    "iso_dfa(d1b,d2b)"
   ]
  },
  {
   "cell_type": "code",
   "execution_count": 28,
   "metadata": {
    "run_control": {
     "frozen": false,
     "read_only": false
    }
   },
   "outputs": [],
   "source": [
    "d1c=min_dfa(d1b)"
   ]
  },
  {
   "cell_type": "code",
   "execution_count": 29,
   "metadata": {
    "run_control": {
     "frozen": false,
     "read_only": false
    }
   },
   "outputs": [],
   "source": [
    "d2c=min_dfa(d2b)"
   ]
  },
  {
   "cell_type": "code",
   "execution_count": 30,
   "metadata": {
    "run_control": {
     "frozen": false,
     "read_only": false
    }
   },
   "outputs": [],
   "source": [
    "iso_dfa(d1c,d2c)"
   ]
  },
  {
   "cell_type": "code",
   "execution_count": 31,
   "metadata": {
    "run_control": {
     "frozen": false,
     "read_only": false
    }
   },
   "outputs": [],
   "source": [
    "dotObj_dfa(d1c)"
   ]
  },
  {
   "cell_type": "code",
   "execution_count": 32,
   "metadata": {
    "run_control": {
     "frozen": false,
     "read_only": false
    }
   },
   "outputs": [],
   "source": [
    "dotObj_dfa(d2c)"
   ]
  },
  {
   "cell_type": "code",
   "execution_count": 33,
   "metadata": {
    "run_control": {
     "frozen": false,
     "read_only": false
    }
   },
   "outputs": [],
   "source": [
    "d1d=nfa2dfa(re2nfa(\"aaa*+aa*bc+bcaaa*+bcbc\"))\n",
    "d2d=nfa2dfa(re2nfa(\"(aa*+bc)(aa*+bc)\"))\n",
    "langeq_dfa(d1d,d2d,True)"
   ]
  },
  {
   "cell_type": "code",
   "execution_count": 34,
   "metadata": {
    "run_control": {
     "frozen": false,
     "read_only": false
    }
   },
   "outputs": [],
   "source": [
    "d1d=nfa2dfa(re2nfa(\"a a a*+a a* b c+ b c a a a*+b c b c\"))\n",
    "d2d=nfa2dfa(re2nfa(\"(a a*+b c)(a a*+b c)\"))\n",
    "langeq_dfa(d1d,d2d,True)"
   ]
  },
  {
   "cell_type": "code",
   "execution_count": 35,
   "metadata": {
    "run_control": {
     "frozen": false,
     "read_only": false
    }
   },
   "outputs": [],
   "source": [
    "dotObj_dfa(d1d)"
   ]
  },
  {
   "cell_type": "code",
   "execution_count": 36,
   "metadata": {
    "run_control": {
     "frozen": false,
     "read_only": false
    }
   },
   "outputs": [],
   "source": [
    "dotObj_dfa(d2d)"
   ]
  },
  {
   "cell_type": "code",
   "execution_count": 37,
   "metadata": {
    "run_control": {
     "frozen": false,
     "read_only": false
    }
   },
   "outputs": [],
   "source": [
    "d1d=nfa2dfa(re2nfa(\"james*+bond*\"))\n",
    "dotObj_dfa(d1d)"
   ]
  },
  {
   "cell_type": "code",
   "execution_count": 38,
   "metadata": {
    "run_control": {
     "frozen": false,
     "read_only": false
    }
   },
   "outputs": [],
   "source": [
    "d1d=nfa2dfa(re2nfa(\"ja mes*+bo nd*\"))\n",
    "dotObj_dfa(d1d)"
   ]
  }
 ],
 "metadata": {
  "kernelspec": {
   "display_name": "Python 3",
   "language": "python",
   "name": "python3"
  },
  "language_info": {
   "codemirror_mode": {
    "name": "ipython",
    "version": 3
   },
   "file_extension": ".py",
   "mimetype": "text/x-python",
   "name": "python",
   "nbconvert_exporter": "python",
   "pygments_lexer": "ipython3",
   "version": "3.6.0"
  },
  "toc": {
   "colors": {
    "hover_highlight": "#DAA520",
    "running_highlight": "#FF0000",
    "selected_highlight": "#FFD700"
   },
   "moveMenuLeft": true,
   "nav_menu": {
    "height": "318px",
    "width": "252px"
   },
   "navigate_menu": true,
   "number_sections": true,
   "sideBar": true,
   "threshold": 4,
   "toc_cell": false,
   "toc_section_display": "block",
   "toc_window_display": false,
   "widenNotebook": false
  }
 },
 "nbformat": 4,
 "nbformat_minor": 1
}
