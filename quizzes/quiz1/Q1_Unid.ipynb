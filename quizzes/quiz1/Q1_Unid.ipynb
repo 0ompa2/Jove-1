{
 "cells": [
  {
   "cell_type": "markdown",
   "metadata": {
    "run_control": {
     "frozen": false,
     "read_only": false
    }
   },
   "source": [
    "# Quiz-1 : Jove part\n",
    "\n",
    "Goal: This Jupyter notebook is designed to help you learn these topics:\n",
    "\n",
    "* about Jupyter notebooks themselves\n",
    "* basic markdown syntax\n",
    "* the history of this subject\n",
    "\n",
    "\n",
    "Instructions:\n",
    "\n",
    "* Sections 1-5 are for you to read, execute, and practice. The ACTUAL answers to be submitted are only for the questions given in Section 6 below.\n",
    "\n",
    "* If you ran the suggested modules in Section 7 below, write a few bullets requested there."
   ]
  },
  {
   "cell_type": "markdown",
   "metadata": {
    "run_control": {
     "frozen": false,
     "read_only": false
    }
   },
   "source": [
    "# Jupyter notebook tutorial\n",
    "\n",
    "The way to learn this material is to first learn Jupyter, thanks to a __fantastic__ tutorial by Corey Schafer. Please note that Jupyter lab is a recent creation and I recommend that you use that."
   ]
  },
  {
   "cell_type": "code",
   "execution_count": null,
   "metadata": {
    "run_control": {
     "frozen": false,
     "read_only": false
    }
   },
   "outputs": [],
   "source": [
    "from IPython.display import YouTubeVideo\n",
    "\n",
    "YouTubeVideo\n",
    "from IPython.display import YouTubeVideo\n",
    "YouTubeVideo('HW29067qVWk')"
   ]
  },
  {
   "cell_type": "markdown",
   "metadata": {
    "run_control": {
     "frozen": false,
     "read_only": false
    }
   },
   "source": [
    "# A Mini Markdown Tutorial"
   ]
  },
  {
   "cell_type": "markdown",
   "metadata": {
    "run_control": {
     "frozen": false,
     "read_only": false
    }
   },
   "source": [
    "Markdown is becoming a popular way to input text and have it rendered beautifully. Here is a  [quick overview](http://harishv.me/blog/What-is-Markdown), [here is a nice interactive tutorial](http://www.markdowntutorial.com), and [here is a quick reference](http://commonmark.org/help/).\n",
    "\n",
    "\n",
    "Here are some handy commands for use in the rest of these Jupyter notes.\n",
    "\n",
    "<b> - Bold text </b>\n",
    "\n",
    "<strong> - Important text </strong>\n",
    "\n",
    "<i> - Italic text </i>\n",
    "\n",
    "<em> - Emphasized text </em>\n",
    "\n",
    "<mark> - Marked text </mark>\n",
    "\n",
    "<small> - Small text </small>\n",
    "\n",
    "<del> - Deleted text </del>\n",
    "\n",
    "<ins> - Inserted text </ins>\n",
    "\n",
    "<sub> - Subscript text </sub>\n",
    "\n",
    "<sup> - Superscript text </sup>\n",
    "\n",
    " <span style=\"color:blue\"> ** typeset something in blue with emphasis added ** </span>\n",
    " \n",
    " <font size=\"4\"> \n",
    "\n",
    "<p>\n",
    "\n",
    "<br>\n",
    "\n",
    "<br>\n",
    "\n",
    "Here is how to add spacing and paragraphs\n",
    "\n",
    "<p>\n",
    "\n",
    "<br>\n",
    "\n",
    "\n",
    "<br>\n",
    "\n",
    "\n",
    "\n",
    "<p>\n",
    "\n",
    " <font size=\"5\"> \n",
    "\n",
    "Here is how you control your font size\n",
    "\n",
    "</font>"
   ]
  },
  {
   "cell_type": "markdown",
   "metadata": {
    "run_control": {
     "frozen": false,
     "read_only": false
    }
   },
   "source": [
    "# Basics of Computability\n",
    "\n",
    "\n",
    "## An overview lecture on computability\n",
    "\n",
    "The word **computability** captures what can be achieved using a computer, ie *what is the true power of a computer?* (forgetting how long it takes to compute something; just the possibility of exhibiting an answer or implementing a clever algorithm). In that sense, you can study computability even on a simple device such as a Turing machine. "
   ]
  },
  {
   "cell_type": "code",
   "execution_count": null,
   "metadata": {
    "run_control": {
     "frozen": false,
     "read_only": false
    }
   },
   "outputs": [],
   "source": [
    "from IPython.display import YouTubeVideo\n",
    "YouTubeVideo('NSo-yUsv5LA')"
   ]
  },
  {
   "cell_type": "markdown",
   "metadata": {
    "run_control": {
     "frozen": false,
     "read_only": false
    }
   },
   "source": [
    "## Mike Davey's Turing machine\n",
    "\n",
    "Here is a **fantastic** Turing machine built by Mike Davey!"
   ]
  },
  {
   "cell_type": "markdown",
   "metadata": {
    "run_control": {
     "frozen": false,
     "read_only": false
    }
   },
   "source": [
    "<span style=\"color:blue\"> **Youtube Video of Mike Davey's Turing Machine ** </span>"
   ]
  },
  {
   "cell_type": "code",
   "execution_count": null,
   "metadata": {
    "run_control": {
     "frozen": false,
     "read_only": false
    }
   },
   "outputs": [],
   "source": [
    "from IPython.display import YouTubeVideo\n",
    "YouTubeVideo('E3keLeMwfHY')"
   ]
  },
  {
   "cell_type": "markdown",
   "metadata": {
    "run_control": {
     "frozen": false,
     "read_only": false
    }
   },
   "source": [
    "# History of the topic:\n",
    "\n",
    "Humans cannot exist in this intellectual society without having the means for unambiguous communication. Unless they can use symbols to write down things and have full confidence that another human or computer will understand it exactly as intended, things can go horribly wrong. For example, if we write down an expression of the form 3 \\* 4 + 5 \\* 6, something tells us that it was intended to communicate 42 (i.e. (3\\*4)+(5\\*6)) and not 360 (if we calculate it as 3\\*(4+5)\\*6). Yet, such obvious precedence rules (that \\* carries more precedence than +) that are known by elementary school children are not \"known\" to a computer. We must explicitly instruct computer front-end parsers to calculate such expressions obeying the right precedences. Yet, the discovery of operator-precedence parsing wasn't easy. Early compilers had extremely hairy rules for parsing even such expressions.  They for instance replaced '+' by \")))+(((\", '*' by \"))*((\", etc. The resulting complexity and impenetrability of early compilers is covered in a historic paper entitled \"History of writing compilers\" by [Knuth][KnuthCompilerHistory].  \n",
    "\n",
    "The design of modern formal languages -- whether they be programming languages, scripting languages or even regular-expression specification languages -- is really a marvel of human ingenuity. This point comes up again in [Padua's LCPC 2014 conference keynote][padualcpc] where it is made clear how Fortran compilers dealt with expressions such as (2 \\* (3 + 4) - (8 - 7)) in entirely ad-hoc ways, as they did not have a formal understanding of operator precedence and context-free parsing. \n",
    "\n",
    "\n",
    "Even if reliable parsing is available, it must be guaranteed that just forgetting a \",\" (comma) somewhere must not result in a legal program with an entirely different meaning; yet, historically this has happened!\n",
    "\n",
    "## Lost Comma results in Lost Spacecraft \n",
    "\n",
    "The syntax of an early computer languaged -- notably Fortran -- proved too brittle, not lending itself to easy error correction. Here is an eye-opening story, supposedly from Mariner-1 (although there is some controversy on whether this story is entirely true -- see [Wikipedia on Mariner][mariner] -- it is a good story!). Apparently this spacecraft was lost because someone forgot to type a comma!  How so?\n",
    "\n",
    "Here was the intended loop:\n",
    "\n",
    "> The loop that faulted was intended to be something like\n",
    "> \n",
    "\n",
    "> DO 10 I = 1,100\n",
    "\n",
    "> ...loop body...\n",
    "\n",
    "> 10 CONTINUE\n",
    "\n",
    "However, someone did not type a comma after the I = 1 and the code looked like this:\n",
    "\n",
    "> DO 10 I = 1 100\n",
    "\n",
    "> 10 CONTINUE\n",
    "\n",
    "\n",
    "Now, in Fortran, blanks are not significant, and so the \"DO\" statement without the comman becomes\n",
    "\n",
    "> DO10I = 1100\n",
    "> \n",
    "\n",
    "i.e., a fresh variable DO10I gets assigned 1100. Then the loop body executes once. Finally, the \"10 CONTINUE\" serves as a no op. The result is that the loop body is executed exact once, and not 100 times as was intended!!\n",
    "\n",
    "## Please do not \"Wing\" Scanners and Parsers\n",
    "\n",
    "The challenge of writing reliable (correct) scanners and parsers arises in a number of other contexts besides parsing programs. A Unix command of the form 'rm file\\[0-1\\]\\[0-1\\]\\[0-1\\]\\*' must remove files ending in two or more occurrences of \\[0-1\\], and not remove a file named file0; recognizing this needs a regular-expression parser (otherwise known as a *scanner*). Another practical example of regular language parsing is in [deep packet inspection systems][deeppkt] that help filter out spam traveling at high speeds (e.g., 10 Gbps). In this case, scanning must be correct *and* extremely fast. Writing fast scanners is still a hot research topic as evidenced by recent papers in prestigious conferences (e.g., by [Mytkowicz et al.][MadanParallelFSM]). The Micron company sells chips implementing fast scanning, in the form of the [Micron Automaton Processor!][MicronAutomatonProcessor].\n",
    "\n",
    "All these stories tell us that significant progress was achieved in the 20th centry (around the 1960s) in terms of  theories of Regular Languages and Context-Free Languages. These theories underlie our ability to *unambiguously parse* sentences belonging to *formal languages*. These developments form centerpieces of this course where, thanks to these innovations, we can teach these topics in a nice and convenient way using Jupyter notebooks to today's undergraduates!\n",
    "\n",
    "[MicronAutomatonProcessor]: http://www.micronautomata.com/\n",
    "\n",
    "[MadanParallelFSM]: https://www.microsoft.com/en-us/research/wp-content/uploads/2016/02/asplos302-mytkowicz.pdf\n",
    "\n",
    "[KnuthCompilerHistory]: http://dl.acm.org/citation.cfm?id=806098\n",
    "\n",
    "[padualcpc]:  https://parasol.tamu.edu/lcpc2014/keynote-padua.pdf\n",
    "\n",
    "\n",
    "[mariner]: https://en.wikipedia.org/wiki/Mariner_1\n",
    "\n",
    "[deeppkt]: http://ieeexplore.ieee.org/xpl/login.jsp?tp=&arnumber=6847977&url=http%3A%2F%2Fieeexplore.ieee.org%2Fxpls%2Fabs_all.jsp%3Farnumber%3D6847977\n",
    "\n"
   ]
  },
  {
   "cell_type": "markdown",
   "metadata": {
    "run_control": {
     "frozen": false,
     "read_only": false
    }
   },
   "source": [
    "\n",
    "# Answer the following questions\n",
    "\n",
    "Please insert a new cell below each question (split the markdown cell below the question and then insert a new markdown cell). Then provide your answer in this new cell.\n",
    "\n",
    "## Type a bulleted list of three items in Markdown below\n",
    "\n",
    "Let the bullet text be B1, B2 and B3. Provide these bullets in a markdown cell that you insert here.\n",
    "\n",
    "## Run all the videos embedded in this notebook and summarize\n",
    "\n",
    "Summarize your observations in about six bullets per video\n",
    "\n",
    "## What is one key similarity between a real computer and Mike Davey's mechanical Turing Machine?\n",
    "\n",
    "Answer in two sentences by creating a markdown cell here. Explain your answer.\n",
    "\n",
    "## Show you can create a code cell for the factorial function\n",
    "\n",
    "Insert a code cell here and show you can run your code to generate factorial(4). Write this function in Python.\n",
    "\n",
    "## What are lexers (otherwise known as scanners) and parsers? How are they used for deep packet inspection?  \n",
    "Describe your answer by providing a markdown cell here. Answer in about 4 sentences.\n",
    "\n",
    "\n"
   ]
  },
  {
   "cell_type": "markdown",
   "metadata": {},
   "source": [
    "# Extra Learning and Experience\n",
    "\n",
    "This section recommends some pre-existing Jove modules to play with and have fun.  \n",
    "\n",
    "* notebooks/driver/Drive_LangDef.ipynb\n",
    "* notebooks/module/Module1_computability.ipynb\n",
    "* notebooks/module/Module2_LanguageOps.ipynb\n",
    "\n",
    "If you ran these modules, provide a few bullets below and write down your experience in 1-2 sentences.\n",
    "\n",
    "* ..\n",
    "* ..\n"
   ]
  }
 ],
 "metadata": {
  "kernelspec": {
   "display_name": "Python 3",
   "language": "python",
   "name": "python3"
  },
  "language_info": {
   "codemirror_mode": {
    "name": "ipython",
    "version": 3
   },
   "file_extension": ".py",
   "mimetype": "text/x-python",
   "name": "python",
   "nbconvert_exporter": "python",
   "pygments_lexer": "ipython3",
   "version": "3.6.0"
  },
  "toc": {
   "colors": {
    "hover_highlight": "#DAA520",
    "running_highlight": "#FF0000",
    "selected_highlight": "#FFD700"
   },
   "moveMenuLeft": true,
   "nav_menu": {
    "height": "30px",
    "width": "252px"
   },
   "navigate_menu": true,
   "number_sections": true,
   "sideBar": true,
   "threshold": 4,
   "toc_cell": false,
   "toc_section_display": "block",
   "toc_window_display": false,
   "widenNotebook": false
  }
 },
 "nbformat": 4,
 "nbformat_minor": 2
}
