{
 "cells": [
  {
   "cell_type": "markdown",
   "metadata": {
    "run_control": {
     "frozen": false,
     "read_only": false
    }
   },
   "source": [
    "# Exercises on NFA\n",
    "\n",
    "You may wish to watch my lecture on NFA a little, then play with the\n",
    "code below, and then finish watching."
   ]
  },
  {
   "cell_type": "code",
   "execution_count": 1,
   "metadata": {
    "run_control": {
     "frozen": false,
     "read_only": false
    }
   },
   "outputs": [
    {
     "data": {
      "image/jpeg": "[encoded data removed]",
      "text/html": [
       "\n",
       "        <iframe\n",
       "            width=\"400\"\n",
       "            height=\"300\"\n",
       "            src=\"https://www.youtube.com/embed/xjFtLF95uBc\"\n",
       "            frameborder=\"0\"\n",
       "            allowfullscreen\n",
       "        ></iframe>\n",
       "        "
      ],
      "text/plain": [
       "<IPython.lib.display.YouTubeVideo at 0x102bcd4e0>"
      ]
     },
     "execution_count": 1,
     "metadata": {},
     "output_type": "execute_result"
    }
   ],
   "source": [
    "# This Youtube video walks through this notebook\n",
    "from IPython.display import YouTubeVideo\n",
    "YouTubeVideo('xjFtLF95uBc')"
   ]
  },
  {
   "cell_type": "code",
   "execution_count": 2,
   "metadata": {
    "run_control": {
     "frozen": false,
     "read_only": false
    }
   },
   "outputs": [
    {
     "name": "stdout",
     "output_type": "stream",
     "text": [
      "You may use any of these help commands:\n",
      "help(ResetStNum)\n",
      "help(NxtStateStr)\n",
      "\n",
      "You may use any of these help commands:\n",
      "help(md2mc)\n",
      ".. and if you want to dig more, then ..\n",
      "help(default_line_attr)\n",
      "help(length_ok_input_items)\n",
      "help(union_line_attr_list_fld)\n",
      "help(extend_rsltdict)\n",
      "help(form_delta)\n",
      "help(get_machine_components)\n",
      "\n",
      "You may use any of these help commands:\n",
      "help(mkp_dfa)\n",
      "help(mk_dfa)\n",
      "help(totalize_dfa)\n",
      "help(addtosigma_delta)\n",
      "help(step_dfa)\n",
      "help(run_dfa)\n",
      "help(accepts_dfa)\n",
      "help(comp_dfa)\n",
      "help(union_dfa)\n",
      "help(intersect_dfa)\n",
      "help(pruneUnreach)\n",
      "help(iso_dfa)\n",
      "help(langeq_dfa)\n",
      "help(same_status)\n",
      "help(h_langeq_dfa)\n",
      "help(fixptDist)\n",
      "help(min_dfa)\n",
      "help(pairFR)\n",
      "help(state_combos)\n",
      "help(sepFinNonFin)\n",
      "help(bash_eql_classes)\n",
      "help(listminus)\n",
      "help(bash_1)\n",
      "help(mk_rep_eqc)\n",
      "help(F_of)\n",
      "help(rep_of_s)\n",
      "help(q0_of)\n",
      "help(Delta_of)\n",
      "help(mk_state_eqc_name)\n",
      "\n",
      "You may use any of these help commands:\n",
      "help(mk_nfa)\n",
      "help(totalize_nfa)\n",
      "help(step_nfa)\n",
      "help(run_nfa)\n",
      "help(ec_step_nfa)\n",
      "help(Eclosure)\n",
      "help(Echelp)\n",
      "help(accepts_nfa)\n",
      "help(nfa2dfa)\n",
      "help(n2d)\n",
      "help(inSets)\n",
      "help(rev_dfa)\n",
      "help(min_dfa_brz)\n",
      "\n"
     ]
    }
   ],
   "source": [
    "import sys\n",
    "sys.path[0:0] = ['../..','../../3rdparty'] # Put these at the head of the search path\n",
    "from jove.DotBashers import *\n",
    "from jove.Def_md2mc  import *\n",
    "from jove.Def_NFA    import *\n",
    "from jove.Def_DFA    import *"
   ]
  },
  {
   "cell_type": "code",
   "execution_count": 3,
   "metadata": {
    "run_control": {
     "frozen": false,
     "read_only": false
    }
   },
   "outputs": [
    {
     "name": "stderr",
     "output_type": "stream",
     "text": [
      "Generating LALR tables\n"
     ]
    }
   ],
   "source": [
    "# Our automd markdown works for NFA also. Here is the NFA for\n",
    "# the language \"ends in 0101\"\n",
    "\n",
    "NFA_ends0101 = md2mc(''' \n",
    "!!---------------------------------------------------------------------------\n",
    "!! This NFA looks for patterns of the form \n",
    "!!\n",
    "!!     ......<some 0's and 1's>.....0101\n",
    "!!\n",
    "!! i.e., all strings that end in 0101.\n",
    "!!\n",
    "!! This example (over and above thirdlastis1.nfa) also illustrates\n",
    "!! the power of nondeterminism. Anytime we see a 0 from state I, we\n",
    "!! can have the NFA speculate that it is seeing the beginning of a\n",
    "!! 0101 pattern! If the NFA fails in its guess, it pays no price\n",
    "!! (because another guess is soon coming from behind).\n",
    "!!\n",
    "!! * We take 4 states in the NFA solution. The DFA solution takes\n",
    "!!   5 states.\n",
    "!!\n",
    "!! * This shows how burden is shifted from the\n",
    "!!   human to the computer doing the NFA simulation.\n",
    "!!   Even though the savings in states is not dramatic,\n",
    "!!   the effort to build this NFA is much lower than building\n",
    "!!   the corresponding DFA.\n",
    "!! \n",
    "!!-----------------------------------------------------------------\n",
    "!! For NFA, each line can be as follows:\n",
    "!!\n",
    "!! State : in1 | in2 ...  ->  COmma, Separated, State, List  !! comment\n",
    "!!-----------------------------------------------------------------\n",
    "\n",
    "NFA\n",
    "\n",
    "I    : 1   -> I      !! I goes to I upon 1\n",
    "\n",
    "I    : 0   -> S0, I  !! I goes to S0 and I upon 0\n",
    "\n",
    "S0   : 1   -> S01    !! S0 goes to S01 upon 1\n",
    "\n",
    "S01  : 0   -> S010   !! S01 goes to S010 upon 0\n",
    "\n",
    "S010 : 1   -> F      !! S010 goes to F upon F\n",
    "\n",
    "!!---\n",
    "''')"
   ]
  },
  {
   "cell_type": "code",
   "execution_count": 4,
   "metadata": {
    "run_control": {
     "frozen": false,
     "read_only": false
    }
   },
   "outputs": [
    {
     "data": {
      "text/plain": [
       "{'Delta': {('I', '0'): {'I', 'S0'},\n",
       "  ('I', '1'): {'I'},\n",
       "  ('S0', '1'): {'S01'},\n",
       "  ('S01', '0'): {'S010'},\n",
       "  ('S010', '1'): {'F'}},\n",
       " 'F': {'F'},\n",
       " 'Q': {'F', 'I', 'S0', 'S01', 'S010'},\n",
       " 'Q0': {'I'},\n",
       " 'Sigma': {'0', '1'}}"
      ]
     },
     "execution_count": 4,
     "metadata": {},
     "output_type": "execute_result"
    }
   ],
   "source": [
    "# Now let us see the dict version of the NFA\n",
    "NFA_ends0101 "
   ]
  },
  {
   "cell_type": "code",
   "execution_count": 5,
   "metadata": {
    "run_control": {
     "frozen": false,
     "read_only": false
    }
   },
   "outputs": [
    {
     "data": {
      "image/svg+xml": [
       "<?xml version=\"1.0\" encoding=\"UTF-8\" standalone=\"no\"?>\n",
       "<!DOCTYPE svg PUBLIC \"-//W3C//DTD SVG 1.1//EN\"\n",
       " \"http://www.w3.org/Graphics/SVG/1.1/DTD/svg11.dtd\">\n",
       "<!-- Generated by graphviz version 2.38.0 (20140413.2041)\n",
       " -->\n",
       "<!-- Title: %3 Pages: 1 -->\n",
       "<svg width=\"494pt\" height=\"118pt\"\n",
       " viewBox=\"0.00 0.00 494.21 118.29\" xmlns=\"http://www.w3.org/2000/svg\" xmlns:xlink=\"http://www.w3.org/1999/xlink\">\n",
       "<g id=\"graph0\" class=\"graph\" transform=\"scale(1 1) rotate(0) translate(4 114.29)\">\n",
       "<title>%3</title>\n",
       "<polygon fill=\"white\" stroke=\"none\" points=\"-4,4 -4,-114.29 490.212,-114.29 490.212,4 -4,4\"/>\n",
       "<!-- EMPTY -->\n",
       "<g id=\"node1\" class=\"node\"><title>EMPTY</title>\n",
       "</g>\n",
       "<!-- I -->\n",
       "<g id=\"node3\" class=\"node\"><title>I</title>\n",
       "<ellipse fill=\"none\" stroke=\"black\" cx=\"109\" cy=\"-28.2903\" rx=\"18\" ry=\"18\"/>\n",
       "<text text-anchor=\"middle\" x=\"109\" y=\"-24.0903\" font-family=\"Times,serif\" font-size=\"14.00\">I</text>\n",
       "</g>\n",
       "<!-- EMPTY&#45;&gt;I -->\n",
       "<g id=\"edge1\" class=\"edge\"><title>EMPTY&#45;&gt;I</title>\n",
       "<path fill=\"none\" stroke=\"black\" d=\"M54.195,-28.2903C62.6538,-28.2903 72.0513,-28.2903 80.5951,-28.2903\"/>\n",
       "<polygon fill=\"black\" stroke=\"black\" points=\"80.8257,-31.7904 90.8257,-28.2903 80.8257,-24.7904 80.8257,-31.7904\"/>\n",
       "</g>\n",
       "<!-- S01 -->\n",
       "<g id=\"node2\" class=\"node\"><title>S01</title>\n",
       "<ellipse fill=\"none\" stroke=\"black\" cx=\"275.762\" cy=\"-28.2903\" rx=\"23.7379\" ry=\"23.7379\"/>\n",
       "<text text-anchor=\"middle\" x=\"275.762\" y=\"-24.0903\" font-family=\"Times,serif\" font-size=\"14.00\">S01</text>\n",
       "</g>\n",
       "<!-- S010 -->\n",
       "<g id=\"node5\" class=\"node\"><title>S010</title>\n",
       "<ellipse fill=\"none\" stroke=\"black\" cx=\"370.921\" cy=\"-28.2903\" rx=\"28.0822\" ry=\"28.0822\"/>\n",
       "<text text-anchor=\"middle\" x=\"370.921\" y=\"-24.0903\" font-family=\"Times,serif\" font-size=\"14.00\">S010</text>\n",
       "</g>\n",
       "<!-- S01&#45;&gt;S010 -->\n",
       "<g id=\"edge6\" class=\"edge\"><title>S01&#45;&gt;S010</title>\n",
       "<path fill=\"none\" stroke=\"black\" d=\"M299.79,-28.2903C309.59,-28.2903 321.277,-28.2903 332.274,-28.2903\"/>\n",
       "<polygon fill=\"black\" stroke=\"black\" points=\"332.522,-31.7904 342.521,-28.2903 332.521,-24.7904 332.522,-31.7904\"/>\n",
       "<text text-anchor=\"middle\" x=\"321.131\" y=\"-31.0903\" font-family=\"Times,serif\" font-size=\"14.00\">0</text>\n",
       "</g>\n",
       "<!-- I&#45;&gt;I -->\n",
       "<g id=\"edge2\" class=\"edge\"><title>I&#45;&gt;I</title>\n",
       "<path fill=\"none\" stroke=\"black\" d=\"M105.764,-46.0721C105.214,-55.6053 106.293,-64.2903 109,-64.2903 110.65,-64.2903 111.694,-61.0652 112.135,-56.3884\"/>\n",
       "<polygon fill=\"black\" stroke=\"black\" points=\"115.638,-56.1059 112.236,-46.0721 108.638,-56.0373 115.638,-56.1059\"/>\n",
       "<text text-anchor=\"middle\" x=\"109\" y=\"-67.0903\" font-family=\"Times,serif\" font-size=\"14.00\">1</text>\n",
       "</g>\n",
       "<!-- I&#45;&gt;I -->\n",
       "<g id=\"edge3\" class=\"edge\"><title>I&#45;&gt;I</title>\n",
       "<path fill=\"none\" stroke=\"black\" d=\"M103.684,-45.7106C100.654,-63.0813 102.426,-82.2903 109,-82.2903 114.29,-82.2903 116.471,-69.8521 115.542,-55.9423\"/>\n",
       "<polygon fill=\"black\" stroke=\"black\" points=\"118.981,-55.2232 114.316,-45.7106 112.031,-56.056 118.981,-55.2232\"/>\n",
       "<text text-anchor=\"middle\" x=\"109\" y=\"-85.0903\" font-family=\"Times,serif\" font-size=\"14.00\">0</text>\n",
       "</g>\n",
       "<!-- S0 -->\n",
       "<g id=\"node4\" class=\"node\"><title>S0</title>\n",
       "<ellipse fill=\"none\" stroke=\"black\" cx=\"189.447\" cy=\"-28.2903\" rx=\"19.3939\" ry=\"19.3939\"/>\n",
       "<text text-anchor=\"middle\" x=\"189.447\" y=\"-24.0903\" font-family=\"Times,serif\" font-size=\"14.00\">S0</text>\n",
       "</g>\n",
       "<!-- I&#45;&gt;S0 -->\n",
       "<g id=\"edge4\" class=\"edge\"><title>I&#45;&gt;S0</title>\n",
       "<path fill=\"none\" stroke=\"black\" d=\"M127.022,-28.2903C136.583,-28.2903 148.77,-28.2903 159.763,-28.2903\"/>\n",
       "<polygon fill=\"black\" stroke=\"black\" points=\"159.813,-31.7904 169.813,-28.2903 159.813,-24.7904 159.813,-31.7904\"/>\n",
       "<text text-anchor=\"middle\" x=\"148.5\" y=\"-31.0903\" font-family=\"Times,serif\" font-size=\"14.00\">0</text>\n",
       "</g>\n",
       "<!-- S0&#45;&gt;S01 -->\n",
       "<g id=\"edge5\" class=\"edge\"><title>S0&#45;&gt;S01</title>\n",
       "<path fill=\"none\" stroke=\"black\" d=\"M209.159,-28.2903C218.645,-28.2903 230.452,-28.2903 241.425,-28.2903\"/>\n",
       "<polygon fill=\"black\" stroke=\"black\" points=\"241.587,-31.7904 251.587,-28.2903 241.587,-24.7904 241.587,-31.7904\"/>\n",
       "<text text-anchor=\"middle\" x=\"230.394\" y=\"-31.0903\" font-family=\"Times,serif\" font-size=\"14.00\">1</text>\n",
       "</g>\n",
       "<!-- F -->\n",
       "<g id=\"node6\" class=\"node\"><title>F</title>\n",
       "<ellipse fill=\"none\" stroke=\"black\" cx=\"464.212\" cy=\"-28.2903\" rx=\"18\" ry=\"18\"/>\n",
       "<ellipse fill=\"none\" stroke=\"black\" cx=\"464.212\" cy=\"-28.2903\" rx=\"22\" ry=\"22\"/>\n",
       "<text text-anchor=\"middle\" x=\"464.212\" y=\"-24.0903\" font-family=\"Times,serif\" font-size=\"14.00\">F</text>\n",
       "</g>\n",
       "<!-- S010&#45;&gt;F -->\n",
       "<g id=\"edge7\" class=\"edge\"><title>S010&#45;&gt;F</title>\n",
       "<path fill=\"none\" stroke=\"black\" d=\"M399.311,-28.2903C409.553,-28.2903 421.262,-28.2903 431.836,-28.2903\"/>\n",
       "<polygon fill=\"black\" stroke=\"black\" points=\"431.934,-31.7904 441.934,-28.2903 431.934,-24.7904 431.934,-31.7904\"/>\n",
       "<text text-anchor=\"middle\" x=\"420.712\" y=\"-31.0903\" font-family=\"Times,serif\" font-size=\"14.00\">1</text>\n",
       "</g>\n",
       "</g>\n",
       "</svg>\n"
      ],
      "text/plain": [
       "<graphviz.dot.Digraph at 0x10520a6a0>"
      ]
     },
     "execution_count": 5,
     "metadata": {},
     "output_type": "execute_result"
    }
   ],
   "source": [
    "# Let's see the drawing of this NFA\n",
    "\n",
    "dotObj_nfa(NFA_ends0101)  "
   ]
  },
  {
   "cell_type": "code",
   "execution_count": 6,
   "metadata": {
    "run_control": {
     "frozen": false,
     "read_only": false
    }
   },
   "outputs": [
    {
     "data": {
      "image/svg+xml": [
       "<?xml version=\"1.0\" encoding=\"UTF-8\" standalone=\"no\"?>\n",
       "<!DOCTYPE svg PUBLIC \"-//W3C//DTD SVG 1.1//EN\"\n",
       " \"http://www.w3.org/Graphics/SVG/1.1/DTD/svg11.dtd\">\n",
       "<!-- Generated by graphviz version 2.38.0 (20140413.2041)\n",
       " -->\n",
       "<!-- Title: %3 Pages: 1 -->\n",
       "<svg width=\"494pt\" height=\"100pt\"\n",
       " viewBox=\"0.00 0.00 494.21 100.29\" xmlns=\"http://www.w3.org/2000/svg\" xmlns:xlink=\"http://www.w3.org/1999/xlink\">\n",
       "<g id=\"graph0\" class=\"graph\" transform=\"scale(1 1) rotate(0) translate(4 96.2903)\">\n",
       "<title>%3</title>\n",
       "<polygon fill=\"white\" stroke=\"none\" points=\"-4,4 -4,-96.2903 490.212,-96.2903 490.212,4 -4,4\"/>\n",
       "<!-- EMPTY -->\n",
       "<g id=\"node1\" class=\"node\"><title>EMPTY</title>\n",
       "</g>\n",
       "<!-- I -->\n",
       "<g id=\"node3\" class=\"node\"><title>I</title>\n",
       "<ellipse fill=\"none\" stroke=\"black\" cx=\"109\" cy=\"-28.2903\" rx=\"18\" ry=\"18\"/>\n",
       "<text text-anchor=\"middle\" x=\"109\" y=\"-24.0903\" font-family=\"Times,serif\" font-size=\"14.00\">I</text>\n",
       "</g>\n",
       "<!-- EMPTY&#45;&gt;I -->\n",
       "<g id=\"edge1\" class=\"edge\"><title>EMPTY&#45;&gt;I</title>\n",
       "<path fill=\"none\" stroke=\"black\" d=\"M54.195,-28.2903C62.6538,-28.2903 72.0513,-28.2903 80.5951,-28.2903\"/>\n",
       "<polygon fill=\"black\" stroke=\"black\" points=\"80.8257,-31.7904 90.8257,-28.2903 80.8257,-24.7904 80.8257,-31.7904\"/>\n",
       "</g>\n",
       "<!-- S01 -->\n",
       "<g id=\"node2\" class=\"node\"><title>S01</title>\n",
       "<ellipse fill=\"none\" stroke=\"black\" cx=\"275.762\" cy=\"-28.2903\" rx=\"23.7379\" ry=\"23.7379\"/>\n",
       "<text text-anchor=\"middle\" x=\"275.762\" y=\"-24.0903\" font-family=\"Times,serif\" font-size=\"14.00\">S01</text>\n",
       "</g>\n",
       "<!-- S010 -->\n",
       "<g id=\"node5\" class=\"node\"><title>S010</title>\n",
       "<ellipse fill=\"none\" stroke=\"black\" cx=\"370.921\" cy=\"-28.2903\" rx=\"28.0822\" ry=\"28.0822\"/>\n",
       "<text text-anchor=\"middle\" x=\"370.921\" y=\"-24.0903\" font-family=\"Times,serif\" font-size=\"14.00\">S010</text>\n",
       "</g>\n",
       "<!-- S01&#45;&gt;S010 -->\n",
       "<g id=\"edge5\" class=\"edge\"><title>S01&#45;&gt;S010</title>\n",
       "<path fill=\"none\" stroke=\"black\" d=\"M299.79,-28.2903C309.59,-28.2903 321.277,-28.2903 332.274,-28.2903\"/>\n",
       "<polygon fill=\"black\" stroke=\"black\" points=\"332.522,-31.7904 342.521,-28.2903 332.521,-24.7904 332.522,-31.7904\"/>\n",
       "<text text-anchor=\"middle\" x=\"321.131\" y=\"-31.0903\" font-family=\"Times,serif\" font-size=\"14.00\">0</text>\n",
       "</g>\n",
       "<!-- I&#45;&gt;I -->\n",
       "<g id=\"edge2\" class=\"edge\"><title>I&#45;&gt;I</title>\n",
       "<path fill=\"none\" stroke=\"black\" d=\"M102.621,-45.3276C101.319,-55.1482 103.445,-64.2903 109,-64.2903 112.472,-64.2903 114.604,-60.7192 115.398,-55.6432\"/>\n",
       "<polygon fill=\"black\" stroke=\"black\" points=\"118.897,-55.3214 115.379,-45.3276 111.897,-55.3339 118.897,-55.3214\"/>\n",
       "<text text-anchor=\"middle\" x=\"109\" y=\"-81.0903\" font-family=\"Times,serif\" font-size=\"14.00\">0 </text>\n",
       "<text text-anchor=\"middle\" x=\"109\" y=\"-67.0903\" font-family=\"Times,serif\" font-size=\"14.00\"> 1</text>\n",
       "</g>\n",
       "<!-- S0 -->\n",
       "<g id=\"node4\" class=\"node\"><title>S0</title>\n",
       "<ellipse fill=\"none\" stroke=\"black\" cx=\"189.447\" cy=\"-28.2903\" rx=\"19.3939\" ry=\"19.3939\"/>\n",
       "<text text-anchor=\"middle\" x=\"189.447\" y=\"-24.0903\" font-family=\"Times,serif\" font-size=\"14.00\">S0</text>\n",
       "</g>\n",
       "<!-- I&#45;&gt;S0 -->\n",
       "<g id=\"edge3\" class=\"edge\"><title>I&#45;&gt;S0</title>\n",
       "<path fill=\"none\" stroke=\"black\" d=\"M127.022,-28.2903C136.583,-28.2903 148.77,-28.2903 159.763,-28.2903\"/>\n",
       "<polygon fill=\"black\" stroke=\"black\" points=\"159.813,-31.7904 169.813,-28.2903 159.813,-24.7904 159.813,-31.7904\"/>\n",
       "<text text-anchor=\"middle\" x=\"148.5\" y=\"-31.0903\" font-family=\"Times,serif\" font-size=\"14.00\">0</text>\n",
       "</g>\n",
       "<!-- S0&#45;&gt;S01 -->\n",
       "<g id=\"edge4\" class=\"edge\"><title>S0&#45;&gt;S01</title>\n",
       "<path fill=\"none\" stroke=\"black\" d=\"M209.159,-28.2903C218.645,-28.2903 230.452,-28.2903 241.425,-28.2903\"/>\n",
       "<polygon fill=\"black\" stroke=\"black\" points=\"241.587,-31.7904 251.587,-28.2903 241.587,-24.7904 241.587,-31.7904\"/>\n",
       "<text text-anchor=\"middle\" x=\"230.394\" y=\"-31.0903\" font-family=\"Times,serif\" font-size=\"14.00\">1</text>\n",
       "</g>\n",
       "<!-- F -->\n",
       "<g id=\"node6\" class=\"node\"><title>F</title>\n",
       "<ellipse fill=\"none\" stroke=\"black\" cx=\"464.212\" cy=\"-28.2903\" rx=\"18\" ry=\"18\"/>\n",
       "<ellipse fill=\"none\" stroke=\"black\" cx=\"464.212\" cy=\"-28.2903\" rx=\"22\" ry=\"22\"/>\n",
       "<text text-anchor=\"middle\" x=\"464.212\" y=\"-24.0903\" font-family=\"Times,serif\" font-size=\"14.00\">F</text>\n",
       "</g>\n",
       "<!-- S010&#45;&gt;F -->\n",
       "<g id=\"edge6\" class=\"edge\"><title>S010&#45;&gt;F</title>\n",
       "<path fill=\"none\" stroke=\"black\" d=\"M399.311,-28.2903C409.553,-28.2903 421.262,-28.2903 431.836,-28.2903\"/>\n",
       "<polygon fill=\"black\" stroke=\"black\" points=\"431.934,-31.7904 441.934,-28.2903 431.934,-24.7904 431.934,-31.7904\"/>\n",
       "<text text-anchor=\"middle\" x=\"420.712\" y=\"-31.0903\" font-family=\"Times,serif\" font-size=\"14.00\">1</text>\n",
       "</g>\n",
       "</g>\n",
       "</svg>\n"
      ],
      "text/plain": [
       "<graphviz.dot.Digraph at 0x105239128>"
      ]
     },
     "execution_count": 6,
     "metadata": {},
     "output_type": "execute_result"
    }
   ],
   "source": [
    "# The drawing produces separated self-loops. Let's fuse 'em\n",
    "\n",
    "# Now we are going to fuse the separate self-loops into one\n",
    "\n",
    "dotObj_nfa(NFA_ends0101, FuseEdges=True) "
   ]
  },
  {
   "cell_type": "markdown",
   "metadata": {
    "run_control": {
     "frozen": false,
     "read_only": false
    }
   },
   "source": [
    "# NFA for 3rd-last is 1"
   ]
  },
  {
   "cell_type": "code",
   "execution_count": 7,
   "metadata": {
    "run_control": {
     "frozen": false,
     "read_only": false
    }
   },
   "outputs": [],
   "source": [
    "# Here is the automd (markdown) for an NF whose third-last symbol is a 1\n",
    "\n",
    "NFA_3rdlast_1 = md2mc('''\n",
    "NFA\n",
    "\n",
    "I : 0  | 1  -> I  !! Upon a 0 or a 1, continue to stay in state I\n",
    "\n",
    "I : ''      -> S0 !! Nondeterministically transition to state S0\n",
    "\n",
    "S0 : 1      -> S1 !! This is the key \"1\" (third-last being 1) seen\n",
    "\n",
    "S1 : 0 | 1  -> S2 !! One 0/1 takes the NFA to S2\n",
    "\n",
    "S2 : 0 | 1  -> F  !! One more 0/1 takes the NFA to F\n",
    "\n",
    "''')"
   ]
  },
  {
   "cell_type": "code",
   "execution_count": 8,
   "metadata": {
    "run_control": {
     "frozen": false,
     "read_only": false
    }
   },
   "outputs": [
    {
     "data": {
      "text/plain": [
       "{'Delta': {('I', ''): {'S0'},\n",
       "  ('I', '0'): {'I'},\n",
       "  ('I', '1'): {'I'},\n",
       "  ('S0', '1'): {'S1'},\n",
       "  ('S1', '0'): {'S2'},\n",
       "  ('S1', '1'): {'S2'},\n",
       "  ('S2', '0'): {'F'},\n",
       "  ('S2', '1'): {'F'}},\n",
       " 'F': {'F'},\n",
       " 'Q': {'F', 'I', 'S0', 'S1', 'S2'},\n",
       " 'Q0': {'I'},\n",
       " 'Sigma': {'0', '1'}}"
      ]
     },
     "execution_count": 8,
     "metadata": {},
     "output_type": "execute_result"
    }
   ],
   "source": [
    "# Let us see its internal representation\n",
    "\n",
    "NFA_3rdlast_1"
   ]
  },
  {
   "cell_type": "code",
   "execution_count": 9,
   "metadata": {
    "run_control": {
     "frozen": false,
     "read_only": false
    }
   },
   "outputs": [
    {
     "data": {
      "image/svg+xml": [
       "<?xml version=\"1.0\" encoding=\"UTF-8\" standalone=\"no\"?>\n",
       "<!DOCTYPE svg PUBLIC \"-//W3C//DTD SVG 1.1//EN\"\n",
       " \"http://www.w3.org/Graphics/SVG/1.1/DTD/svg11.dtd\">\n",
       "<!-- Generated by graphviz version 2.38.0 (20140413.2041)\n",
       " -->\n",
       "<!-- Title: %3 Pages: 1 -->\n",
       "<svg width=\"473pt\" height=\"94pt\"\n",
       " viewBox=\"0.00 0.00 472.73 94.00\" xmlns=\"http://www.w3.org/2000/svg\" xmlns:xlink=\"http://www.w3.org/1999/xlink\">\n",
       "<g id=\"graph0\" class=\"graph\" transform=\"scale(1 1) rotate(0) translate(4 90)\">\n",
       "<title>%3</title>\n",
       "<polygon fill=\"white\" stroke=\"none\" points=\"-4,4 -4,-90 468.726,-90 468.726,4 -4,4\"/>\n",
       "<!-- EMPTY -->\n",
       "<g id=\"node1\" class=\"node\"><title>EMPTY</title>\n",
       "</g>\n",
       "<!-- I -->\n",
       "<g id=\"node2\" class=\"node\"><title>I</title>\n",
       "<ellipse fill=\"none\" stroke=\"black\" cx=\"109\" cy=\"-22\" rx=\"18\" ry=\"18\"/>\n",
       "<text text-anchor=\"middle\" x=\"109\" y=\"-17.8\" font-family=\"Times,serif\" font-size=\"14.00\">I</text>\n",
       "</g>\n",
       "<!-- EMPTY&#45;&gt;I -->\n",
       "<g id=\"edge1\" class=\"edge\"><title>EMPTY&#45;&gt;I</title>\n",
       "<path fill=\"none\" stroke=\"black\" d=\"M54.195,-22C62.6538,-22 72.0513,-22 80.5951,-22\"/>\n",
       "<polygon fill=\"black\" stroke=\"black\" points=\"80.8257,-25.5001 90.8257,-22 80.8257,-18.5001 80.8257,-25.5001\"/>\n",
       "</g>\n",
       "<!-- I&#45;&gt;I -->\n",
       "<g id=\"edge2\" class=\"edge\"><title>I&#45;&gt;I</title>\n",
       "<path fill=\"none\" stroke=\"black\" d=\"M102.621,-39.0373C101.319,-48.8579 103.445,-58 109,-58 112.472,-58 114.604,-54.4289 115.398,-49.3529\"/>\n",
       "<polygon fill=\"black\" stroke=\"black\" points=\"118.897,-49.031 115.379,-39.0373 111.897,-49.0435 118.897,-49.031\"/>\n",
       "<text text-anchor=\"middle\" x=\"109\" y=\"-74.8\" font-family=\"Times,serif\" font-size=\"14.00\">0 </text>\n",
       "<text text-anchor=\"middle\" x=\"109\" y=\"-60.8\" font-family=\"Times,serif\" font-size=\"14.00\"> 1</text>\n",
       "</g>\n",
       "<!-- S0 -->\n",
       "<g id=\"node5\" class=\"node\"><title>S0</title>\n",
       "<ellipse fill=\"none\" stroke=\"black\" cx=\"187.492\" cy=\"-22\" rx=\"19.3939\" ry=\"19.3939\"/>\n",
       "<text text-anchor=\"middle\" x=\"187.492\" y=\"-17.8\" font-family=\"Times,serif\" font-size=\"14.00\">S0</text>\n",
       "</g>\n",
       "<!-- I&#45;&gt;S0 -->\n",
       "<g id=\"edge3\" class=\"edge\"><title>I&#45;&gt;S0</title>\n",
       "<path fill=\"none\" stroke=\"black\" d=\"M127.357,-22C136.321,-22 147.493,-22 157.705,-22\"/>\n",
       "<polygon fill=\"black\" stroke=\"black\" points=\"157.867,-25.5001 167.867,-22 157.867,-18.5001 157.867,-25.5001\"/>\n",
       "<text text-anchor=\"middle\" x=\"147.522\" y=\"-24.8\" font-family=\"Times,serif\" font-size=\"14.00\">&#39;&#39;</text>\n",
       "</g>\n",
       "<!-- S1 -->\n",
       "<g id=\"node3\" class=\"node\"><title>S1</title>\n",
       "<ellipse fill=\"none\" stroke=\"black\" cx=\"269.386\" cy=\"-22\" rx=\"19.3939\" ry=\"19.3939\"/>\n",
       "<text text-anchor=\"middle\" x=\"269.386\" y=\"-17.8\" font-family=\"Times,serif\" font-size=\"14.00\">S1</text>\n",
       "</g>\n",
       "<!-- S2 -->\n",
       "<g id=\"node4\" class=\"node\"><title>S2</title>\n",
       "<ellipse fill=\"none\" stroke=\"black\" cx=\"354.779\" cy=\"-22\" rx=\"19.3939\" ry=\"19.3939\"/>\n",
       "<text text-anchor=\"middle\" x=\"354.779\" y=\"-17.8\" font-family=\"Times,serif\" font-size=\"14.00\">S2</text>\n",
       "</g>\n",
       "<!-- S1&#45;&gt;S2 -->\n",
       "<g id=\"edge5\" class=\"edge\"><title>S1&#45;&gt;S2</title>\n",
       "<path fill=\"none\" stroke=\"black\" d=\"M288.893,-22C299.582,-22 313.252,-22 325.285,-22\"/>\n",
       "<polygon fill=\"black\" stroke=\"black\" points=\"325.323,-25.5001 335.323,-22 325.323,-18.5001 325.323,-25.5001\"/>\n",
       "<text text-anchor=\"middle\" x=\"312.082\" y=\"-38.8\" font-family=\"Times,serif\" font-size=\"14.00\">0 </text>\n",
       "<text text-anchor=\"middle\" x=\"312.082\" y=\"-24.8\" font-family=\"Times,serif\" font-size=\"14.00\"> 1</text>\n",
       "</g>\n",
       "<!-- F -->\n",
       "<g id=\"node6\" class=\"node\"><title>F</title>\n",
       "<ellipse fill=\"none\" stroke=\"black\" cx=\"442.726\" cy=\"-22\" rx=\"18\" ry=\"18\"/>\n",
       "<ellipse fill=\"none\" stroke=\"black\" cx=\"442.726\" cy=\"-22\" rx=\"22\" ry=\"22\"/>\n",
       "<text text-anchor=\"middle\" x=\"442.726\" y=\"-17.8\" font-family=\"Times,serif\" font-size=\"14.00\">F</text>\n",
       "</g>\n",
       "<!-- S2&#45;&gt;F -->\n",
       "<g id=\"edge6\" class=\"edge\"><title>S2&#45;&gt;F</title>\n",
       "<path fill=\"none\" stroke=\"black\" d=\"M374.428,-22C384.967,-22 398.417,-22 410.518,-22\"/>\n",
       "<polygon fill=\"black\" stroke=\"black\" points=\"410.698,-25.5001 420.698,-22 410.698,-18.5001 410.698,-25.5001\"/>\n",
       "<text text-anchor=\"middle\" x=\"397.476\" y=\"-38.8\" font-family=\"Times,serif\" font-size=\"14.00\">0 </text>\n",
       "<text text-anchor=\"middle\" x=\"397.476\" y=\"-24.8\" font-family=\"Times,serif\" font-size=\"14.00\"> 1</text>\n",
       "</g>\n",
       "<!-- S0&#45;&gt;S1 -->\n",
       "<g id=\"edge4\" class=\"edge\"><title>S0&#45;&gt;S1</title>\n",
       "<path fill=\"none\" stroke=\"black\" d=\"M207.022,-22C216.633,-22 228.592,-22 239.394,-22\"/>\n",
       "<polygon fill=\"black\" stroke=\"black\" points=\"239.679,-25.5001 249.679,-22 239.679,-18.5001 239.679,-25.5001\"/>\n",
       "<text text-anchor=\"middle\" x=\"228.439\" y=\"-24.8\" font-family=\"Times,serif\" font-size=\"14.00\">1</text>\n",
       "</g>\n",
       "</g>\n",
       "</svg>\n"
      ],
      "text/plain": [
       "<graphviz.dot.Digraph at 0x105205ba8>"
      ]
     },
     "execution_count": 9,
     "metadata": {},
     "output_type": "execute_result"
    }
   ],
   "source": [
    "# Let us see this NFA drawn out\n",
    "\n",
    "dotObj_nfa(NFA_3rdlast_1, FuseEdges=True)"
   ]
  },
  {
   "cell_type": "code",
   "execution_count": 10,
   "metadata": {
    "run_control": {
     "frozen": false,
     "read_only": false
    }
   },
   "outputs": [
    {
     "data": {
      "text/plain": [
       "{'S0'}"
      ]
     },
     "execution_count": 10,
     "metadata": {},
     "output_type": "execute_result"
    }
   ],
   "source": [
    "# Let's step the NFA on epsilon   \n",
    "step_nfa(NFA_3rdlast_1, \"I\", \"\")"
   ]
  },
  {
   "cell_type": "code",
   "execution_count": 11,
   "metadata": {
    "run_control": {
     "frozen": false,
     "read_only": false
    }
   },
   "outputs": [
    {
     "data": {
      "text/plain": [
       "{'I'}"
      ]
     },
     "execution_count": 11,
     "metadata": {},
     "output_type": "execute_result"
    }
   ],
   "source": [
    "# Let's step it on '0'  \n",
    "step_nfa(NFA_3rdlast_1, \"I\", \"0\")"
   ]
  },
  {
   "cell_type": "code",
   "execution_count": 12,
   "metadata": {
    "run_control": {
     "frozen": false,
     "read_only": false
    }
   },
   "outputs": [
    {
     "data": {
      "text/plain": [
       "{'I'}"
      ]
     },
     "execution_count": 12,
     "metadata": {},
     "output_type": "execute_result"
    }
   ],
   "source": [
    "# Step it on a \"1\" to see two next states. That shows nondeterminism!\n",
    "\n",
    "step_nfa(NFA_3rdlast_1, \"I\", \"1\")  "
   ]
  },
  {
   "cell_type": "code",
   "execution_count": 13,
   "metadata": {
    "run_control": {
     "frozen": false,
     "read_only": false
    }
   },
   "outputs": [
    {
     "data": {
      "text/plain": [
       "{'I', 'S0'}"
      ]
     },
     "execution_count": 13,
     "metadata": {},
     "output_type": "execute_result"
    }
   ],
   "source": [
    "# What is the Eclosure of the set of states {I} ?\n",
    "\n",
    "Eclosure(NFA_3rdlast_1, {\"I\"})"
   ]
  },
  {
   "cell_type": "code",
   "execution_count": 14,
   "metadata": {
    "run_control": {
     "frozen": false,
     "read_only": false
    }
   },
   "outputs": [
    {
     "name": "stdout",
     "output_type": "stream",
     "text": [
      "Help on function accepts_nfa in module jove.Def_NFA:\n",
      "\n",
      "accepts_nfa(N, s, chatty=False)\n",
      "    NFA acceptance.\n",
      "    Input : N : given NFA\n",
      "            s : given string\n",
      "            chatty : Boolean (prints accepting path,\n",
      "                     which is the state-sets encountered).\n",
      "\n"
     ]
    }
   ],
   "source": [
    "help(accepts_nfa)"
   ]
  },
  {
   "cell_type": "code",
   "execution_count": 15,
   "metadata": {
    "run_control": {
     "frozen": false,
     "read_only": false
    }
   },
   "outputs": [
    {
     "name": "stdout",
     "output_type": "stream",
     "text": [
      "States reached =  {'I', 'S0'}\n",
      "States reached =  {'I', 'S1', 'S0'}\n",
      "States reached =  {'I', 'S2', 'S0'}\n",
      "States reached =  {'I', 'F', 'S0'}\n",
      "States reached =  {'I', 'S1', 'S0'}\n",
      "States reached =  {'I', 'S2', 'S0'}\n",
      "States reached =  {'I', 'F', 'S0'}\n",
      "NFA accepts '0100100' by reaching {'I', 'F', 'S0'}\n"
     ]
    },
    {
     "data": {
      "text/plain": [
       "True"
      ]
     },
     "execution_count": 15,
     "metadata": {},
     "output_type": "execute_result"
    }
   ],
   "source": [
    "accepts_nfa(NFA_3rdlast_1, \"0100100\", chatty=True)"
   ]
  },
  {
   "cell_type": "markdown",
   "metadata": {
    "run_control": {
     "frozen": false,
     "read_only": false
    }
   },
   "source": [
    "# Let us run NFA interactively via widgets\n",
    "\n",
    "We have two NFA to play with, namely nfa_ends0101 and NFA_3rdlast_1\n"
   ]
  },
  {
   "cell_type": "code",
   "execution_count": 16,
   "metadata": {
    "run_control": {
     "frozen": false,
     "read_only": false
    }
   },
   "outputs": [],
   "source": [
    "import ipywidgets as wdg\n",
    "def run_nfa_slider(N, s, n):\n",
    "    \"\"\"Run NFA N from N[\"Q0\"] (which is a set..) on substring s[0:n]\n",
    "    \"\"\"\n",
    "    S = N[\"Q0\"] \n",
    "    if (n > len(s)):\n",
    "        n = len(s)\n",
    "    print(\"string = \", s[0:n])\n",
    "    run_nfa(N, S, s[0:n], True)\n",
    "    \n",
    "def run_nfa_int(N1, N2):\n",
    "    \"\"\"Run interactively from the given NFA .. from {q0} \n",
    "       on input string's substring\n",
    "       as picked by slider.\n",
    "    \"\"\"\n",
    "    inp = input(\"Please provide string: \")\n",
    "    wdg.interact(run_nfa_slider, N = {'N1': N1, 'N2': N2}, \n",
    "                 s = inp, n=(0,32))\n",
    "    \n",
    "def test_run_nfa_int(N1, N2):\n",
    "    \"\"\"Test the interactive run of NFA.\n",
    "    \"\"\"\n",
    "    run_nfa_int(N1, N2)\n",
    "\n",
    "#-- enable this later. test_run_nfa_int()"
   ]
  },
  {
   "cell_type": "markdown",
   "metadata": {
    "run_control": {
     "frozen": false,
     "read_only": false
    }
   },
   "source": [
    "## Once you run the command below, provide a string\n",
    "\n",
    "Provide a string of 0's and 1's. Then you can use the pull-down to pick the NFA\n",
    "to test, and the slider to incrementally consume more of the input string\n"
   ]
  },
  {
   "cell_type": "code",
   "execution_count": 17,
   "metadata": {
    "run_control": {
     "frozen": false,
     "read_only": false
    }
   },
   "outputs": [
    {
     "name": "stdout",
     "output_type": "stream",
     "text": [
      "string =  0110101010\n",
      "States reached =  {'I', 'S0'}\n",
      "States reached =  {'S01', 'I'}\n",
      "States reached =  {'I'}\n",
      "States reached =  {'I', 'S0'}\n",
      "States reached =  {'S01', 'I'}\n",
      "States reached =  {'I', 'S0', 'S010'}\n",
      "States reached =  {'S01', 'I', 'F'}\n",
      "States reached =  {'I', 'S0', 'S010'}\n",
      "States reached =  {'S01', 'I', 'F'}\n",
      "States reached =  {'I', 'S0', 'S010'}\n"
     ]
    }
   ],
   "source": [
    "test_run_nfa_int(NFA_ends0101, NFA_3rdlast_1)"
   ]
  },
  {
   "cell_type": "markdown",
   "metadata": {
    "run_control": {
     "frozen": false,
     "read_only": false
    }
   },
   "source": [
    "# NFA to DFA conversion\n",
    "\n",
    "Let's do the NFA to DFA conversion on two NFA, one being 3rd-last is 1\n",
    "and another being fourth-last is 1. You'll see the state explosion\n"
   ]
  },
  {
   "cell_type": "code",
   "execution_count": 18,
   "metadata": {
    "run_control": {
     "frozen": false,
     "read_only": false
    }
   },
   "outputs": [],
   "source": [
    "# Here is the automd (markdown) for an NF whose third-last symbol is a 1\n",
    "\n",
    "NFA_4thlast_1 = md2mc('''\n",
    "NFA\n",
    "\n",
    "I : 0  | 1  -> I  !! Upon a 0 or a 1, continue to stay in state I\n",
    "\n",
    "I : ''      -> S0 !! Nondeterministically transition to state S0\n",
    "\n",
    "S0 : 1      -> S1 !! This is the key \"1\" (third-last being 1) seen\n",
    "\n",
    "S1 : 0 | 1  -> S2 !! One 0/1 takes the NFA to S2\n",
    "\n",
    "S2 : 0 | 1  -> S3 !! One more 0/1 takes the NFA to S3\n",
    "\n",
    "S3 : 0 | 1  -> F  !! Now we are at the final state\n",
    "\n",
    "''')"
   ]
  },
  {
   "cell_type": "code",
   "execution_count": 19,
   "metadata": {
    "run_control": {
     "frozen": false,
     "read_only": false
    }
   },
   "outputs": [
    {
     "data": {
      "image/svg+xml": [
       "<?xml version=\"1.0\" encoding=\"UTF-8\" standalone=\"no\"?>\n",
       "<!DOCTYPE svg PUBLIC \"-//W3C//DTD SVG 1.1//EN\"\n",
       " \"http://www.w3.org/Graphics/SVG/1.1/DTD/svg11.dtd\">\n",
       "<!-- Generated by graphviz version 2.38.0 (20140413.2041)\n",
       " -->\n",
       "<!-- Title: %3 Pages: 1 -->\n",
       "<svg width=\"782pt\" height=\"288pt\"\n",
       " viewBox=\"0.00 0.00 782.46 288.00\" xmlns=\"http://www.w3.org/2000/svg\" xmlns:xlink=\"http://www.w3.org/1999/xlink\">\n",
       "<g id=\"graph0\" class=\"graph\" transform=\"scale(1 1) rotate(0) translate(4 284)\">\n",
       "<title>%3</title>\n",
       "<polygon fill=\"white\" stroke=\"none\" points=\"-4,4 -4,-284 778.462,-284 778.462,4 -4,4\"/>\n",
       "<!-- EMPTY -->\n",
       "<g id=\"node1\" class=\"node\"><title>EMPTY</title>\n",
       "</g>\n",
       "<!-- St7 -->\n",
       "<g id=\"node2\" class=\"node\"><title>St7</title>\n",
       "<ellipse fill=\"none\" stroke=\"black\" cx=\"112.904\" cy=\"-29\" rx=\"21.8081\" ry=\"21.8081\"/>\n",
       "<text text-anchor=\"middle\" x=\"112.904\" y=\"-24.8\" font-family=\"Times,serif\" font-size=\"14.00\">St7</text>\n",
       "</g>\n",
       "<!-- EMPTY&#45;&gt;St7 -->\n",
       "<g id=\"edge1\" class=\"edge\"><title>EMPTY&#45;&gt;St7</title>\n",
       "<path fill=\"none\" stroke=\"black\" d=\"M54.0878,-29C62.501,-29 71.9126,-29 80.6587,-29\"/>\n",
       "<polygon fill=\"black\" stroke=\"black\" points=\"80.8854,-32.5001 90.8853,-29 80.8853,-25.5001 80.8854,-32.5001\"/>\n",
       "</g>\n",
       "<!-- St7&#45;&gt;St7 -->\n",
       "<g id=\"edge2\" class=\"edge\"><title>St7&#45;&gt;St7</title>\n",
       "<path fill=\"none\" stroke=\"black\" d=\"M105.587,-49.9403C104.684,-60.0125 107.123,-68.9039 112.904,-68.9039 116.607,-68.9039 118.939,-65.2549 119.9,-59.984\"/>\n",
       "<polygon fill=\"black\" stroke=\"black\" points=\"123.399,-60.0471 120.221,-49.9403 116.403,-59.8233 123.399,-60.0471\"/>\n",
       "<text text-anchor=\"middle\" x=\"112.904\" y=\"-71.7039\" font-family=\"Times,serif\" font-size=\"14.00\">0</text>\n",
       "</g>\n",
       "<!-- St5 -->\n",
       "<g id=\"node5\" class=\"node\"><title>St5</title>\n",
       "<ellipse fill=\"none\" stroke=\"black\" cx=\"199.712\" cy=\"-85\" rx=\"21.8081\" ry=\"21.8081\"/>\n",
       "<text text-anchor=\"middle\" x=\"199.712\" y=\"-80.8\" font-family=\"Times,serif\" font-size=\"14.00\">St5</text>\n",
       "</g>\n",
       "<!-- St7&#45;&gt;St5 -->\n",
       "<g id=\"edge3\" class=\"edge\"><title>St7&#45;&gt;St5</title>\n",
       "<path fill=\"none\" stroke=\"black\" d=\"M131.889,-40.8762C143.662,-48.6498 159.244,-58.9388 172.399,-67.6256\"/>\n",
       "<polygon fill=\"black\" stroke=\"black\" points=\"170.769,-70.7434 181.043,-73.333 174.627,-64.902 170.769,-70.7434\"/>\n",
       "<text text-anchor=\"middle\" x=\"156.308\" y=\"-61.8\" font-family=\"Times,serif\" font-size=\"14.00\">1</text>\n",
       "</g>\n",
       "<!-- St4 -->\n",
       "<g id=\"node3\" class=\"node\"><title>St4</title>\n",
       "<ellipse fill=\"none\" stroke=\"black\" cx=\"286.519\" cy=\"-104\" rx=\"21.8081\" ry=\"21.8081\"/>\n",
       "<text text-anchor=\"middle\" x=\"286.519\" y=\"-99.8\" font-family=\"Times,serif\" font-size=\"14.00\">St4</text>\n",
       "</g>\n",
       "<!-- St0 -->\n",
       "<g id=\"node6\" class=\"node\"><title>St0</title>\n",
       "<ellipse fill=\"none\" stroke=\"black\" cx=\"377.327\" cy=\"-130\" rx=\"21.8229\" ry=\"21.8229\"/>\n",
       "<ellipse fill=\"none\" stroke=\"black\" cx=\"377.327\" cy=\"-130\" rx=\"25.8081\" ry=\"25.8081\"/>\n",
       "<text text-anchor=\"middle\" x=\"377.327\" y=\"-125.8\" font-family=\"Times,serif\" font-size=\"14.00\">St0</text>\n",
       "</g>\n",
       "<!-- St4&#45;&gt;St0 -->\n",
       "<g id=\"edge9\" class=\"edge\"><title>St4&#45;&gt;St0</title>\n",
       "<path fill=\"none\" stroke=\"black\" d=\"M307.671,-109.9C317.883,-112.89 330.564,-116.602 342.238,-120.02\"/>\n",
       "<polygon fill=\"black\" stroke=\"black\" points=\"341.569,-123.471 352.15,-122.922 343.536,-116.753 341.569,-123.471\"/>\n",
       "<text text-anchor=\"middle\" x=\"329.923\" y=\"-119.8\" font-family=\"Times,serif\" font-size=\"14.00\">1</text>\n",
       "</g>\n",
       "<!-- St2 -->\n",
       "<g id=\"node7\" class=\"node\"><title>St2</title>\n",
       "<ellipse fill=\"none\" stroke=\"black\" cx=\"472.135\" cy=\"-142\" rx=\"21.8229\" ry=\"21.8229\"/>\n",
       "<ellipse fill=\"none\" stroke=\"black\" cx=\"472.135\" cy=\"-142\" rx=\"25.8081\" ry=\"25.8081\"/>\n",
       "<text text-anchor=\"middle\" x=\"472.135\" y=\"-137.8\" font-family=\"Times,serif\" font-size=\"14.00\">St2</text>\n",
       "</g>\n",
       "<!-- St4&#45;&gt;St2 -->\n",
       "<g id=\"edge8\" class=\"edge\"><title>St4&#45;&gt;St2</title>\n",
       "<path fill=\"none\" stroke=\"black\" d=\"M294.822,-124.382C304.098,-146.831 322.471,-181.766 351.423,-197 371.8,-207.722 381.526,-204.687 403.231,-197 419.654,-191.183 435.008,-179.517 446.946,-168.419\"/>\n",
       "<polygon fill=\"black\" stroke=\"black\" points=\"449.557,-170.762 454.275,-161.276 444.671,-165.75 449.557,-170.762\"/>\n",
       "<text text-anchor=\"middle\" x=\"377.327\" y=\"-206.8\" font-family=\"Times,serif\" font-size=\"14.00\">0</text>\n",
       "</g>\n",
       "<!-- St6 -->\n",
       "<g id=\"node4\" class=\"node\"><title>St6</title>\n",
       "<ellipse fill=\"none\" stroke=\"black\" cx=\"657.75\" cy=\"-83\" rx=\"21.8081\" ry=\"21.8081\"/>\n",
       "<text text-anchor=\"middle\" x=\"657.75\" y=\"-78.8\" font-family=\"Times,serif\" font-size=\"14.00\">St6</text>\n",
       "</g>\n",
       "<!-- St1 -->\n",
       "<g id=\"node8\" class=\"node\"><title>St1</title>\n",
       "<ellipse fill=\"none\" stroke=\"black\" cx=\"566.943\" cy=\"-92\" rx=\"21.8229\" ry=\"21.8229\"/>\n",
       "<ellipse fill=\"none\" stroke=\"black\" cx=\"566.943\" cy=\"-92\" rx=\"25.8081\" ry=\"25.8081\"/>\n",
       "<text text-anchor=\"middle\" x=\"566.943\" y=\"-87.8\" font-family=\"Times,serif\" font-size=\"14.00\">St1</text>\n",
       "</g>\n",
       "<!-- St6&#45;&gt;St1 -->\n",
       "<g id=\"edge7\" class=\"edge\"><title>St6&#45;&gt;St1</title>\n",
       "<path fill=\"none\" stroke=\"black\" d=\"M637.577,-74.4442C629.36,-71.8061 619.647,-70.0494 610.846,-72 606.985,-72.8558 603.059,-74.0966 599.23,-75.5474\"/>\n",
       "<polygon fill=\"black\" stroke=\"black\" points=\"597.824,-72.3421 590,-79.4869 600.572,-78.7802 597.824,-72.3421\"/>\n",
       "<text text-anchor=\"middle\" x=\"614.346\" y=\"-74.8\" font-family=\"Times,serif\" font-size=\"14.00\">1</text>\n",
       "</g>\n",
       "<!-- St3 -->\n",
       "<g id=\"node9\" class=\"node\"><title>St3</title>\n",
       "<ellipse fill=\"none\" stroke=\"black\" cx=\"748.558\" cy=\"-123\" rx=\"21.8229\" ry=\"21.8229\"/>\n",
       "<ellipse fill=\"none\" stroke=\"black\" cx=\"748.558\" cy=\"-123\" rx=\"25.8081\" ry=\"25.8081\"/>\n",
       "<text text-anchor=\"middle\" x=\"748.558\" y=\"-118.8\" font-family=\"Times,serif\" font-size=\"14.00\">St3</text>\n",
       "</g>\n",
       "<!-- St6&#45;&gt;St3 -->\n",
       "<g id=\"edge6\" class=\"edge\"><title>St6&#45;&gt;St3</title>\n",
       "<path fill=\"none\" stroke=\"black\" d=\"M678.02,-91.6794C688.915,-96.5865 702.819,-102.849 715.327,-108.483\"/>\n",
       "<polygon fill=\"black\" stroke=\"black\" points=\"713.992,-111.72 724.547,-112.636 716.867,-105.338 713.992,-111.72\"/>\n",
       "<text text-anchor=\"middle\" x=\"701.154\" y=\"-105.8\" font-family=\"Times,serif\" font-size=\"14.00\">0</text>\n",
       "</g>\n",
       "<!-- St5&#45;&gt;St4 -->\n",
       "<g id=\"edge5\" class=\"edge\"><title>St5&#45;&gt;St4</title>\n",
       "<path fill=\"none\" stroke=\"black\" d=\"M221.241,-89.5994C231.375,-91.8697 243.804,-94.6542 255.023,-97.1676\"/>\n",
       "<polygon fill=\"black\" stroke=\"black\" points=\"254.362,-100.606 264.885,-99.3771 255.892,-93.7755 254.362,-100.606\"/>\n",
       "<text text-anchor=\"middle\" x=\"243.115\" y=\"-98.8\" font-family=\"Times,serif\" font-size=\"14.00\">1</text>\n",
       "</g>\n",
       "<!-- St5&#45;&gt;St6 -->\n",
       "<g id=\"edge4\" class=\"edge\"><title>St5&#45;&gt;St6</title>\n",
       "<path fill=\"none\" stroke=\"black\" d=\"M216.183,-70.1289C232.191,-56.3594 258.586,-38 285.519,-38 285.519,-38 285.519,-38 567.943,-38 591.64,-38 615.426,-50.9068 632.41,-62.8958\"/>\n",
       "<polygon fill=\"black\" stroke=\"black\" points=\"630.52,-65.8524 640.634,-69.0084 634.696,-60.2342 630.52,-65.8524\"/>\n",
       "<text text-anchor=\"middle\" x=\"424.731\" y=\"-40.8\" font-family=\"Times,serif\" font-size=\"14.00\">0</text>\n",
       "</g>\n",
       "<!-- St0&#45;&gt;St0 -->\n",
       "<g id=\"edge17\" class=\"edge\"><title>St0&#45;&gt;St0</title>\n",
       "<path fill=\"none\" stroke=\"black\" d=\"M368.778,-154.824C368.188,-165.15 371.038,-173.904 377.327,-173.904 381.356,-173.904 383.973,-170.311 385.179,-165.014\"/>\n",
       "<polygon fill=\"black\" stroke=\"black\" points=\"388.686,-165.039 385.876,-154.824 381.702,-164.562 388.686,-165.039\"/>\n",
       "<text text-anchor=\"middle\" x=\"377.327\" y=\"-176.704\" font-family=\"Times,serif\" font-size=\"14.00\">1</text>\n",
       "</g>\n",
       "<!-- St0&#45;&gt;St2 -->\n",
       "<g id=\"edge16\" class=\"edge\"><title>St0&#45;&gt;St2</title>\n",
       "<path fill=\"none\" stroke=\"black\" d=\"M403.198,-133.216C413.289,-134.521 425.125,-136.051 436.066,-137.466\"/>\n",
       "<polygon fill=\"black\" stroke=\"black\" points=\"435.829,-140.964 446.195,-138.775 436.727,-134.022 435.829,-140.964\"/>\n",
       "<text text-anchor=\"middle\" x=\"424.731\" y=\"-139.8\" font-family=\"Times,serif\" font-size=\"14.00\">0</text>\n",
       "</g>\n",
       "<!-- St2&#45;&gt;St1 -->\n",
       "<g id=\"edge15\" class=\"edge\"><title>St2&#45;&gt;St1</title>\n",
       "<path fill=\"none\" stroke=\"black\" d=\"M495.333,-129.417C501.971,-125.7 509.28,-121.65 516.039,-118 521.905,-114.832 528.191,-111.505 534.255,-108.329\"/>\n",
       "<polygon fill=\"black\" stroke=\"black\" points=\"536.258,-111.232 543.51,-103.507 533.024,-105.024 536.258,-111.232\"/>\n",
       "<text text-anchor=\"middle\" x=\"519.539\" y=\"-120.8\" font-family=\"Times,serif\" font-size=\"14.00\">1</text>\n",
       "</g>\n",
       "<!-- St2&#45;&gt;St3 -->\n",
       "<g id=\"edge14\" class=\"edge\"><title>St2&#45;&gt;St3</title>\n",
       "<path fill=\"none\" stroke=\"black\" d=\"M498.46,-140.247C547.698,-136.838 656.414,-129.31 712.527,-125.425\"/>\n",
       "<polygon fill=\"black\" stroke=\"black\" points=\"712.956,-128.904 722.69,-124.722 712.472,-121.921 712.956,-128.904\"/>\n",
       "<text text-anchor=\"middle\" x=\"614.346\" y=\"-135.8\" font-family=\"Times,serif\" font-size=\"14.00\">0</text>\n",
       "</g>\n",
       "<!-- St1&#45;&gt;St4 -->\n",
       "<g id=\"edge13\" class=\"edge\"><title>St1&#45;&gt;St4</title>\n",
       "<path fill=\"none\" stroke=\"black\" d=\"M540.796,-91.3282C500.68,-90.4867 419.754,-89.7315 351.423,-95 340.532,-95.8398 328.667,-97.3453 318.15,-98.8878\"/>\n",
       "<polygon fill=\"black\" stroke=\"black\" points=\"317.522,-95.4431 308.169,-100.419 318.584,-102.362 317.522,-95.4431\"/>\n",
       "<text text-anchor=\"middle\" x=\"424.731\" y=\"-94.8\" font-family=\"Times,serif\" font-size=\"14.00\">1</text>\n",
       "</g>\n",
       "<!-- St1&#45;&gt;St6 -->\n",
       "<g id=\"edge12\" class=\"edge\"><title>St1&#45;&gt;St6</title>\n",
       "<path fill=\"none\" stroke=\"black\" d=\"M593.154,-89.445C603.23,-88.4239 614.94,-87.2372 625.544,-86.1625\"/>\n",
       "<polygon fill=\"black\" stroke=\"black\" points=\"626.083,-89.6259 635.679,-85.1354 625.377,-82.6616 626.083,-89.6259\"/>\n",
       "<text text-anchor=\"middle\" x=\"614.346\" y=\"-90.8\" font-family=\"Times,serif\" font-size=\"14.00\">0</text>\n",
       "</g>\n",
       "<!-- St3&#45;&gt;St7 -->\n",
       "<g id=\"edge10\" class=\"edge\"><title>St3&#45;&gt;St7</title>\n",
       "<path fill=\"none\" stroke=\"black\" d=\"M741.518,-97.8123C731.214,-61.827 706.555,-0 658.75,-0 198.712,-0 198.712,-0 198.712,-0 178.996,-0 158.022,-7.10383 141.864,-14.2796\"/>\n",
       "<polygon fill=\"black\" stroke=\"black\" points=\"140.039,-11.27 132.481,-18.694 143.019,-17.6041 140.039,-11.27\"/>\n",
       "<text text-anchor=\"middle\" x=\"424.731\" y=\"-2.8\" font-family=\"Times,serif\" font-size=\"14.00\">0</text>\n",
       "</g>\n",
       "<!-- St3&#45;&gt;St5 -->\n",
       "<g id=\"edge11\" class=\"edge\"><title>St3&#45;&gt;St5</title>\n",
       "<path fill=\"none\" stroke=\"black\" d=\"M743.591,-148.566C735.596,-189.697 713.4,-266 658.75,-266 285.519,-266 285.519,-266 285.519,-266 220.589,-266 205.268,-169.308 201.724,-117.268\"/>\n",
       "<polygon fill=\"black\" stroke=\"black\" points=\"205.214,-116.978 201.147,-107.194 198.225,-117.378 205.214,-116.978\"/>\n",
       "<text text-anchor=\"middle\" x=\"472.135\" y=\"-268.8\" font-family=\"Times,serif\" font-size=\"14.00\">1</text>\n",
       "</g>\n",
       "</g>\n",
       "</svg>\n"
      ],
      "text/plain": [
       "<graphviz.dot.Digraph at 0x105239cc0>"
      ]
     },
     "execution_count": 19,
     "metadata": {},
     "output_type": "execute_result"
    }
   ],
   "source": [
    "dotObj_dfa(nfa2dfa(NFA_3rdlast_1), FuseEdges=True)"
   ]
  },
  {
   "cell_type": "code",
   "execution_count": 20,
   "metadata": {
    "run_control": {
     "frozen": false,
     "read_only": false
    }
   },
   "outputs": [
    {
     "data": {
      "image/svg+xml": [
       "<?xml version=\"1.0\" encoding=\"UTF-8\" standalone=\"no\"?>\n",
       "<!DOCTYPE svg PUBLIC \"-//W3C//DTD SVG 1.1//EN\"\n",
       " \"http://www.w3.org/Graphics/SVG/1.1/DTD/svg11.dtd\">\n",
       "<!-- Generated by graphviz version 2.38.0 (20140413.2041)\n",
       " -->\n",
       "<!-- Title: %3 Pages: 1 -->\n",
       "<svg width=\"1561pt\" height=\"490pt\"\n",
       " viewBox=\"0.00 0.00 1561.34 490.00\" xmlns=\"http://www.w3.org/2000/svg\" xmlns:xlink=\"http://www.w3.org/1999/xlink\">\n",
       "<g id=\"graph0\" class=\"graph\" transform=\"scale(1 1) rotate(0) translate(4 486)\">\n",
       "<title>%3</title>\n",
       "<polygon fill=\"white\" stroke=\"none\" points=\"-4,4 -4,-486 1557.34,-486 1557.34,4 -4,4\"/>\n",
       "<!-- EMPTY -->\n",
       "<g id=\"node1\" class=\"node\"><title>EMPTY</title>\n",
       "</g>\n",
       "<!-- St15 -->\n",
       "<g id=\"node9\" class=\"node\"><title>St15</title>\n",
       "<ellipse fill=\"none\" stroke=\"black\" cx=\"117.326\" cy=\"-108\" rx=\"26.1523\" ry=\"26.1523\"/>\n",
       "<text text-anchor=\"middle\" x=\"117.326\" y=\"-103.8\" font-family=\"Times,serif\" font-size=\"14.00\">St15</text>\n",
       "</g>\n",
       "<!-- EMPTY&#45;&gt;St15 -->\n",
       "<g id=\"edge1\" class=\"edge\"><title>EMPTY&#45;&gt;St15</title>\n",
       "<path fill=\"none\" stroke=\"black\" d=\"M54.0229,-108C62.3619,-108 71.7453,-108 80.6503,-108\"/>\n",
       "<polygon fill=\"black\" stroke=\"black\" points=\"80.793,-111.5 90.793,-108 80.793,-104.5 80.793,-111.5\"/>\n",
       "</g>\n",
       "<!-- St12 -->\n",
       "<g id=\"node2\" class=\"node\"><title>St12</title>\n",
       "<ellipse fill=\"none\" stroke=\"black\" cx=\"394.788\" cy=\"-161\" rx=\"26.1523\" ry=\"26.1523\"/>\n",
       "<text text-anchor=\"middle\" x=\"394.788\" y=\"-156.8\" font-family=\"Times,serif\" font-size=\"14.00\">St12</text>\n",
       "</g>\n",
       "<!-- St2 -->\n",
       "<g id=\"node11\" class=\"node\"><title>St2</title>\n",
       "<ellipse fill=\"none\" stroke=\"black\" cx=\"490.017\" cy=\"-211\" rx=\"21.8229\" ry=\"21.8229\"/>\n",
       "<ellipse fill=\"none\" stroke=\"black\" cx=\"490.017\" cy=\"-211\" rx=\"25.8081\" ry=\"25.8081\"/>\n",
       "<text text-anchor=\"middle\" x=\"490.017\" y=\"-206.8\" font-family=\"Times,serif\" font-size=\"14.00\">St2</text>\n",
       "</g>\n",
       "<!-- St12&#45;&gt;St2 -->\n",
       "<g id=\"edge15\" class=\"edge\"><title>St12&#45;&gt;St2</title>\n",
       "<path fill=\"none\" stroke=\"black\" d=\"M418.356,-173.104C430.151,-179.429 444.775,-187.272 457.653,-194.179\"/>\n",
       "<polygon fill=\"black\" stroke=\"black\" points=\"456.19,-197.366 466.657,-199.008 459.499,-191.197 456.19,-197.366\"/>\n",
       "<text text-anchor=\"middle\" x=\"442.614\" y=\"-190.8\" font-family=\"Times,serif\" font-size=\"14.00\">1</text>\n",
       "</g>\n",
       "<!-- St6 -->\n",
       "<g id=\"node12\" class=\"node\"><title>St6</title>\n",
       "<ellipse fill=\"none\" stroke=\"black\" cx=\"1146.52\" cy=\"-179\" rx=\"21.8229\" ry=\"21.8229\"/>\n",
       "<ellipse fill=\"none\" stroke=\"black\" cx=\"1146.52\" cy=\"-179\" rx=\"25.8081\" ry=\"25.8081\"/>\n",
       "<text text-anchor=\"middle\" x=\"1146.52\" y=\"-174.8\" font-family=\"Times,serif\" font-size=\"14.00\">St6</text>\n",
       "</g>\n",
       "<!-- St12&#45;&gt;St6 -->\n",
       "<g id=\"edge14\" class=\"edge\"><title>St12&#45;&gt;St6</title>\n",
       "<path fill=\"none\" stroke=\"black\" d=\"M411.072,-139.923C427.727,-119.631 456.396,-92 489.017,-92 489.017,-92 489.017,-92 728.88,-92 841.791,-92 872.653,-59.1855 982.803,-84 1035.31,-95.828 1087.53,-131.693 1118.15,-155.813\"/>\n",
       "<polygon fill=\"black\" stroke=\"black\" points=\"1116.21,-158.741 1126.2,-162.274 1120.59,-153.283 1116.21,-158.741\"/>\n",
       "<text text-anchor=\"middle\" x=\"775.284\" y=\"-94.8\" font-family=\"Times,serif\" font-size=\"14.00\">0</text>\n",
       "</g>\n",
       "<!-- St9 -->\n",
       "<g id=\"node3\" class=\"node\"><title>St9</title>\n",
       "<ellipse fill=\"none\" stroke=\"black\" cx=\"303.559\" cy=\"-294\" rx=\"21.8081\" ry=\"21.8081\"/>\n",
       "<text text-anchor=\"middle\" x=\"303.559\" y=\"-289.8\" font-family=\"Times,serif\" font-size=\"14.00\">St9</text>\n",
       "</g>\n",
       "<!-- St9&#45;&gt;St12 -->\n",
       "<g id=\"edge8\" class=\"edge\"><title>St9&#45;&gt;St12</title>\n",
       "<path fill=\"none\" stroke=\"black\" d=\"M316.592,-276.063C331.209,-254.276 356.084,-217.199 373.641,-191.03\"/>\n",
       "<polygon fill=\"black\" stroke=\"black\" points=\"376.624,-192.866 379.289,-182.611 370.811,-188.966 376.624,-192.866\"/>\n",
       "<text text-anchor=\"middle\" x=\"346.962\" y=\"-238.8\" font-family=\"Times,serif\" font-size=\"14.00\">0</text>\n",
       "</g>\n",
       "<!-- St8 -->\n",
       "<g id=\"node4\" class=\"node\"><title>St8</title>\n",
       "<ellipse fill=\"none\" stroke=\"black\" cx=\"866.092\" cy=\"-135\" rx=\"21.8081\" ry=\"21.8081\"/>\n",
       "<text text-anchor=\"middle\" x=\"866.092\" y=\"-130.8\" font-family=\"Times,serif\" font-size=\"14.00\">St8</text>\n",
       "</g>\n",
       "<!-- St9&#45;&gt;St8 -->\n",
       "<g id=\"edge9\" class=\"edge\"><title>St9&#45;&gt;St8</title>\n",
       "<path fill=\"none\" stroke=\"black\" d=\"M307.577,-272.425C316.617,-212.089 345.857,-46 393.788,-46 393.788,-46 393.788,-46 776.284,-46 810.888,-46 836.691,-80.1303 851.323,-106.12\"/>\n",
       "<polygon fill=\"black\" stroke=\"black\" points=\"848.402,-108.08 856.203,-115.248 854.575,-104.779 848.402,-108.08\"/>\n",
       "<text text-anchor=\"middle\" x=\"584.825\" y=\"-48.8\" font-family=\"Times,serif\" font-size=\"14.00\">1</text>\n",
       "</g>\n",
       "<!-- St0 -->\n",
       "<g id=\"node10\" class=\"node\"><title>St0</title>\n",
       "<ellipse fill=\"none\" stroke=\"black\" cx=\"956.9\" cy=\"-142\" rx=\"21.8229\" ry=\"21.8229\"/>\n",
       "<ellipse fill=\"none\" stroke=\"black\" cx=\"956.9\" cy=\"-142\" rx=\"25.8081\" ry=\"25.8081\"/>\n",
       "<text text-anchor=\"middle\" x=\"956.9\" y=\"-137.8\" font-family=\"Times,serif\" font-size=\"14.00\">St0</text>\n",
       "</g>\n",
       "<!-- St8&#45;&gt;St0 -->\n",
       "<g id=\"edge17\" class=\"edge\"><title>St8&#45;&gt;St0</title>\n",
       "<path fill=\"none\" stroke=\"black\" d=\"M888.138,-136.659C897.856,-137.425 909.659,-138.355 920.675,-139.224\"/>\n",
       "<polygon fill=\"black\" stroke=\"black\" points=\"920.657,-142.733 930.901,-140.03 921.207,-135.755 920.657,-142.733\"/>\n",
       "<text text-anchor=\"middle\" x=\"909.496\" y=\"-141.8\" font-family=\"Times,serif\" font-size=\"14.00\">1</text>\n",
       "</g>\n",
       "<!-- St4 -->\n",
       "<g id=\"node15\" class=\"node\"><title>St4</title>\n",
       "<ellipse fill=\"none\" stroke=\"black\" cx=\"1051.71\" cy=\"-164\" rx=\"21.8229\" ry=\"21.8229\"/>\n",
       "<ellipse fill=\"none\" stroke=\"black\" cx=\"1051.71\" cy=\"-164\" rx=\"25.8081\" ry=\"25.8081\"/>\n",
       "<text text-anchor=\"middle\" x=\"1051.71\" y=\"-159.8\" font-family=\"Times,serif\" font-size=\"14.00\">St4</text>\n",
       "</g>\n",
       "<!-- St8&#45;&gt;St4 -->\n",
       "<g id=\"edge16\" class=\"edge\"><title>St8&#45;&gt;St4</title>\n",
       "<path fill=\"none\" stroke=\"black\" d=\"M882.822,-120.855C894.999,-110.909 912.808,-98.4419 930.996,-93 953.055,-86.3998 961.63,-83.952 982.803,-93 1002.52,-101.426 1019.25,-118.699 1031.17,-134.098\"/>\n",
       "<polygon fill=\"black\" stroke=\"black\" points=\"1028.53,-136.42 1037.28,-142.392 1034.17,-132.266 1028.53,-136.42\"/>\n",
       "<text text-anchor=\"middle\" x=\"956.9\" y=\"-95.8\" font-family=\"Times,serif\" font-size=\"14.00\">0</text>\n",
       "</g>\n",
       "<!-- St13 -->\n",
       "<g id=\"node5\" class=\"node\"><title>St13</title>\n",
       "<ellipse fill=\"none\" stroke=\"black\" cx=\"1336.55\" cy=\"-352\" rx=\"26.1523\" ry=\"26.1523\"/>\n",
       "<text text-anchor=\"middle\" x=\"1336.55\" y=\"-347.8\" font-family=\"Times,serif\" font-size=\"14.00\">St13</text>\n",
       "</g>\n",
       "<!-- St10 -->\n",
       "<g id=\"node6\" class=\"node\"><title>St10</title>\n",
       "<ellipse fill=\"none\" stroke=\"black\" cx=\"680.055\" cy=\"-318\" rx=\"26.1523\" ry=\"26.1523\"/>\n",
       "<text text-anchor=\"middle\" x=\"680.055\" y=\"-313.8\" font-family=\"Times,serif\" font-size=\"14.00\">St10</text>\n",
       "</g>\n",
       "<!-- St13&#45;&gt;St10 -->\n",
       "<g id=\"edge7\" class=\"edge\"><title>St13&#45;&gt;St10</title>\n",
       "<path fill=\"none\" stroke=\"black\" d=\"M1310.07,-350.676C1208.86,-345.419 835.019,-325.998 717.001,-319.867\"/>\n",
       "<polygon fill=\"black\" stroke=\"black\" points=\"716.88,-316.356 706.712,-319.333 716.517,-323.347 716.88,-316.356\"/>\n",
       "<text text-anchor=\"middle\" x=\"1004.3\" y=\"-337.8\" font-family=\"Times,serif\" font-size=\"14.00\">1</text>\n",
       "</g>\n",
       "<!-- St14 -->\n",
       "<g id=\"node8\" class=\"node\"><title>St14</title>\n",
       "<ellipse fill=\"none\" stroke=\"black\" cx=\"1432.2\" cy=\"-269\" rx=\"26.1523\" ry=\"26.1523\"/>\n",
       "<text text-anchor=\"middle\" x=\"1432.2\" y=\"-264.8\" font-family=\"Times,serif\" font-size=\"14.00\">St14</text>\n",
       "</g>\n",
       "<!-- St13&#45;&gt;St14 -->\n",
       "<g id=\"edge6\" class=\"edge\"><title>St13&#45;&gt;St14</title>\n",
       "<path fill=\"none\" stroke=\"black\" d=\"M1356.96,-334.802C1370.64,-322.672 1389.16,-306.264 1404.27,-292.868\"/>\n",
       "<polygon fill=\"black\" stroke=\"black\" points=\"1406.66,-295.428 1411.82,-286.176 1402.02,-290.189 1406.66,-295.428\"/>\n",
       "<text text-anchor=\"middle\" x=\"1384.38\" y=\"-315.8\" font-family=\"Times,serif\" font-size=\"14.00\">0</text>\n",
       "</g>\n",
       "<!-- St5 -->\n",
       "<g id=\"node16\" class=\"node\"><title>St5</title>\n",
       "<ellipse fill=\"none\" stroke=\"black\" cx=\"584.825\" cy=\"-289\" rx=\"21.8229\" ry=\"21.8229\"/>\n",
       "<ellipse fill=\"none\" stroke=\"black\" cx=\"584.825\" cy=\"-289\" rx=\"25.8081\" ry=\"25.8081\"/>\n",
       "<text text-anchor=\"middle\" x=\"584.825\" y=\"-284.8\" font-family=\"Times,serif\" font-size=\"14.00\">St5</text>\n",
       "</g>\n",
       "<!-- St10&#45;&gt;St5 -->\n",
       "<g id=\"edge12\" class=\"edge\"><title>St10&#45;&gt;St5</title>\n",
       "<path fill=\"none\" stroke=\"black\" d=\"M656.102,-306.089C649.643,-303.103 642.524,-300.143 635.729,-298 630.993,-296.507 625.921,-295.234 620.892,-294.158\"/>\n",
       "<polygon fill=\"black\" stroke=\"black\" points=\"621.228,-290.659 610.748,-292.217 619.912,-297.535 621.228,-290.659\"/>\n",
       "<text text-anchor=\"middle\" x=\"632.229\" y=\"-300.8\" font-family=\"Times,serif\" font-size=\"14.00\">0</text>\n",
       "</g>\n",
       "<!-- St1 -->\n",
       "<g id=\"node17\" class=\"node\"><title>St1</title>\n",
       "<ellipse fill=\"none\" stroke=\"black\" cx=\"775.284\" cy=\"-156\" rx=\"21.8229\" ry=\"21.8229\"/>\n",
       "<ellipse fill=\"none\" stroke=\"black\" cx=\"775.284\" cy=\"-156\" rx=\"25.8081\" ry=\"25.8081\"/>\n",
       "<text text-anchor=\"middle\" x=\"775.284\" y=\"-151.8\" font-family=\"Times,serif\" font-size=\"14.00\">St1</text>\n",
       "</g>\n",
       "<!-- St10&#45;&gt;St1 -->\n",
       "<g id=\"edge13\" class=\"edge\"><title>St10&#45;&gt;St1</title>\n",
       "<path fill=\"none\" stroke=\"black\" d=\"M694.018,-295.475C710.275,-267.226 738.224,-218.659 756.479,-186.94\"/>\n",
       "<polygon fill=\"black\" stroke=\"black\" points=\"759.626,-188.488 761.58,-178.075 753.559,-184.996 759.626,-188.488\"/>\n",
       "<text text-anchor=\"middle\" x=\"727.88\" y=\"-244.8\" font-family=\"Times,serif\" font-size=\"14.00\">1</text>\n",
       "</g>\n",
       "<!-- St11 -->\n",
       "<g id=\"node7\" class=\"node\"><title>St11</title>\n",
       "<ellipse fill=\"none\" stroke=\"black\" cx=\"212.653\" cy=\"-400\" rx=\"26.0035\" ry=\"26.0035\"/>\n",
       "<text text-anchor=\"middle\" x=\"212.653\" y=\"-395.8\" font-family=\"Times,serif\" font-size=\"14.00\">St11</text>\n",
       "</g>\n",
       "<!-- St11&#45;&gt;St9 -->\n",
       "<g id=\"edge5\" class=\"edge\"><title>St11&#45;&gt;St9</title>\n",
       "<path fill=\"none\" stroke=\"black\" d=\"M229.96,-380.558C244.632,-363.065 266.254,-337.285 282.085,-318.41\"/>\n",
       "<polygon fill=\"black\" stroke=\"black\" points=\"284.947,-320.444 288.691,-310.533 279.584,-315.946 284.947,-320.444\"/>\n",
       "<text text-anchor=\"middle\" x=\"260.155\" y=\"-349.8\" font-family=\"Times,serif\" font-size=\"14.00\">1</text>\n",
       "</g>\n",
       "<!-- St11&#45;&gt;St13 -->\n",
       "<g id=\"edge4\" class=\"edge\"><title>St11&#45;&gt;St13</title>\n",
       "<path fill=\"none\" stroke=\"black\" d=\"M237.037,-409.075C254.744,-415.135 279.821,-422 302.559,-422 302.559,-422 302.559,-422 1242.32,-422 1271.32,-422 1297.06,-400.078 1314.11,-380.77\"/>\n",
       "<polygon fill=\"black\" stroke=\"black\" points=\"1316.88,-382.907 1320.64,-373.002 1311.53,-378.4 1316.88,-382.907\"/>\n",
       "<text text-anchor=\"middle\" x=\"775.284\" y=\"-424.8\" font-family=\"Times,serif\" font-size=\"14.00\">0</text>\n",
       "</g>\n",
       "<!-- St3 -->\n",
       "<g id=\"node13\" class=\"node\"><title>St3</title>\n",
       "<ellipse fill=\"none\" stroke=\"black\" cx=\"1241.32\" cy=\"-300\" rx=\"21.8229\" ry=\"21.8229\"/>\n",
       "<ellipse fill=\"none\" stroke=\"black\" cx=\"1241.32\" cy=\"-300\" rx=\"25.8081\" ry=\"25.8081\"/>\n",
       "<text text-anchor=\"middle\" x=\"1241.32\" y=\"-295.8\" font-family=\"Times,serif\" font-size=\"14.00\">St3</text>\n",
       "</g>\n",
       "<!-- St14&#45;&gt;St3 -->\n",
       "<g id=\"edge11\" class=\"edge\"><title>St14&#45;&gt;St3</title>\n",
       "<path fill=\"none\" stroke=\"black\" d=\"M1405.9,-273.153C1372.68,-278.604 1314.23,-288.198 1276.93,-294.319\"/>\n",
       "<polygon fill=\"black\" stroke=\"black\" points=\"1276.32,-290.874 1267.02,-295.947 1277.45,-297.781 1276.32,-290.874\"/>\n",
       "<text text-anchor=\"middle\" x=\"1336.55\" y=\"-291.8\" font-family=\"Times,serif\" font-size=\"14.00\">1</text>\n",
       "</g>\n",
       "<!-- St7 -->\n",
       "<g id=\"node14\" class=\"node\"><title>St7</title>\n",
       "<ellipse fill=\"none\" stroke=\"black\" cx=\"1527.43\" cy=\"-210\" rx=\"21.8229\" ry=\"21.8229\"/>\n",
       "<ellipse fill=\"none\" stroke=\"black\" cx=\"1527.43\" cy=\"-210\" rx=\"25.8081\" ry=\"25.8081\"/>\n",
       "<text text-anchor=\"middle\" x=\"1527.43\" y=\"-205.8\" font-family=\"Times,serif\" font-size=\"14.00\">St7</text>\n",
       "</g>\n",
       "<!-- St14&#45;&gt;St7 -->\n",
       "<g id=\"edge10\" class=\"edge\"><title>St14&#45;&gt;St7</title>\n",
       "<path fill=\"none\" stroke=\"black\" d=\"M1454.83,-255.316C1467.27,-247.441 1483.09,-237.432 1496.69,-228.824\"/>\n",
       "<polygon fill=\"black\" stroke=\"black\" points=\"1498.67,-231.712 1505.25,-223.406 1494.93,-225.797 1498.67,-231.712\"/>\n",
       "<text text-anchor=\"middle\" x=\"1480.03\" y=\"-244.8\" font-family=\"Times,serif\" font-size=\"14.00\">0</text>\n",
       "</g>\n",
       "<!-- St15&#45;&gt;St11 -->\n",
       "<g id=\"edge3\" class=\"edge\"><title>St15&#45;&gt;St11</title>\n",
       "<path fill=\"none\" stroke=\"black\" d=\"M126.283,-132.896C142.951,-185.046 181.562,-305.852 200.614,-365.461\"/>\n",
       "<polygon fill=\"black\" stroke=\"black\" points=\"197.338,-366.708 203.716,-375.167 204.005,-364.576 197.338,-366.708\"/>\n",
       "<text text-anchor=\"middle\" x=\"165.151\" y=\"-265.8\" font-family=\"Times,serif\" font-size=\"14.00\">1</text>\n",
       "</g>\n",
       "<!-- St15&#45;&gt;St15 -->\n",
       "<g id=\"edge2\" class=\"edge\"><title>St15&#45;&gt;St15</title>\n",
       "<path fill=\"none\" stroke=\"black\" d=\"M109.148,-133.062C108.584,-143.488 111.31,-152.326 117.326,-152.326 121.179,-152.326 123.683,-148.699 124.836,-143.351\"/>\n",
       "<polygon fill=\"black\" stroke=\"black\" points=\"128.349,-143.268 125.503,-133.062 121.364,-142.815 128.349,-143.268\"/>\n",
       "<text text-anchor=\"middle\" x=\"117.326\" y=\"-155.126\" font-family=\"Times,serif\" font-size=\"14.00\">0</text>\n",
       "</g>\n",
       "<!-- St0&#45;&gt;St0 -->\n",
       "<g id=\"edge33\" class=\"edge\"><title>St0&#45;&gt;St0</title>\n",
       "<path fill=\"none\" stroke=\"black\" d=\"M948.35,-166.824C947.761,-177.15 950.611,-185.904 956.9,-185.904 960.929,-185.904 963.546,-182.311 964.752,-177.014\"/>\n",
       "<polygon fill=\"black\" stroke=\"black\" points=\"968.258,-177.039 965.449,-166.824 961.275,-176.562 968.258,-177.039\"/>\n",
       "<text text-anchor=\"middle\" x=\"956.9\" y=\"-188.704\" font-family=\"Times,serif\" font-size=\"14.00\">1</text>\n",
       "</g>\n",
       "<!-- St0&#45;&gt;St4 -->\n",
       "<g id=\"edge32\" class=\"edge\"><title>St0&#45;&gt;St4</title>\n",
       "<path fill=\"none\" stroke=\"black\" d=\"M982.284,-147.78C992.646,-150.237 1004.91,-153.145 1016.18,-155.816\"/>\n",
       "<polygon fill=\"black\" stroke=\"black\" points=\"1015.63,-159.281 1026.16,-158.182 1017.24,-152.47 1015.63,-159.281\"/>\n",
       "<text text-anchor=\"middle\" x=\"1004.3\" y=\"-156.8\" font-family=\"Times,serif\" font-size=\"14.00\">0</text>\n",
       "</g>\n",
       "<!-- St2&#45;&gt;St5 -->\n",
       "<g id=\"edge28\" class=\"edge\"><title>St2&#45;&gt;St5</title>\n",
       "<path fill=\"none\" stroke=\"black\" d=\"M510.7,-227.542C524.078,-238.786 541.952,-253.808 556.68,-266.186\"/>\n",
       "<polygon fill=\"black\" stroke=\"black\" points=\"554.582,-268.995 564.49,-272.75 559.086,-263.636 554.582,-268.995\"/>\n",
       "<text text-anchor=\"middle\" x=\"537.421\" y=\"-255.8\" font-family=\"Times,serif\" font-size=\"14.00\">0</text>\n",
       "</g>\n",
       "<!-- St2&#45;&gt;St1 -->\n",
       "<g id=\"edge29\" class=\"edge\"><title>St2&#45;&gt;St1</title>\n",
       "<path fill=\"none\" stroke=\"black\" d=\"M515.66,-206.215C566.093,-196.423 681.213,-174.071 739.336,-162.786\"/>\n",
       "<polygon fill=\"black\" stroke=\"black\" points=\"740.347,-166.155 749.497,-160.813 739.013,-159.283 740.347,-166.155\"/>\n",
       "<text text-anchor=\"middle\" x=\"632.229\" y=\"-187.8\" font-family=\"Times,serif\" font-size=\"14.00\">1</text>\n",
       "</g>\n",
       "<!-- St6&#45;&gt;St3 -->\n",
       "<g id=\"edge27\" class=\"edge\"><title>St6&#45;&gt;St3</title>\n",
       "<path fill=\"none\" stroke=\"black\" d=\"M1163.05,-199.253C1178.24,-219.058 1201.51,-249.396 1218.54,-271.606\"/>\n",
       "<polygon fill=\"black\" stroke=\"black\" points=\"1215.87,-273.877 1224.74,-279.681 1221.43,-269.616 1215.87,-273.877\"/>\n",
       "<text text-anchor=\"middle\" x=\"1193.92\" y=\"-246.8\" font-family=\"Times,serif\" font-size=\"14.00\">1</text>\n",
       "</g>\n",
       "<!-- St6&#45;&gt;St7 -->\n",
       "<g id=\"edge26\" class=\"edge\"><title>St6&#45;&gt;St7</title>\n",
       "<path fill=\"none\" stroke=\"black\" d=\"M1172.72,-179.418C1191.39,-179.692 1217.44,-180 1240.32,-180 1240.32,-180 1240.32,-180 1433.2,-180 1454.44,-180 1477.14,-187.138 1494.82,-194.451\"/>\n",
       "<polygon fill=\"black\" stroke=\"black\" points=\"1493.52,-197.703 1504.09,-198.487 1496.32,-191.285 1493.52,-197.703\"/>\n",
       "<text text-anchor=\"middle\" x=\"1336.55\" y=\"-182.8\" font-family=\"Times,serif\" font-size=\"14.00\">0</text>\n",
       "</g>\n",
       "<!-- St3&#45;&gt;St9 -->\n",
       "<g id=\"edge21\" class=\"edge\"><title>St3&#45;&gt;St9</title>\n",
       "<path fill=\"none\" stroke=\"black\" d=\"M1225.94,-321.213C1209.64,-342.451 1180.96,-372 1147.52,-372 393.788,-372 393.788,-372 393.788,-372 362.182,-372 336.379,-343.917 320.794,-321.452\"/>\n",
       "<polygon fill=\"black\" stroke=\"black\" points=\"323.568,-319.3 315.139,-312.882 317.726,-323.156 323.568,-319.3\"/>\n",
       "<text text-anchor=\"middle\" x=\"775.284\" y=\"-374.8\" font-family=\"Times,serif\" font-size=\"14.00\">1</text>\n",
       "</g>\n",
       "<!-- St3&#45;&gt;St13 -->\n",
       "<g id=\"edge20\" class=\"edge\"><title>St3&#45;&gt;St13</title>\n",
       "<path fill=\"none\" stroke=\"black\" d=\"M1264.83,-311.364C1273.46,-315.815 1283.36,-321.037 1292.23,-326 1296.41,-328.341 1300.78,-330.867 1305.06,-333.392\"/>\n",
       "<polygon fill=\"black\" stroke=\"black\" points=\"1303.28,-336.402 1313.66,-338.514 1306.86,-330.389 1303.28,-336.402\"/>\n",
       "<text text-anchor=\"middle\" x=\"1288.73\" y=\"-328.8\" font-family=\"Times,serif\" font-size=\"14.00\">0</text>\n",
       "</g>\n",
       "<!-- St7&#45;&gt;St11 -->\n",
       "<g id=\"edge19\" class=\"edge\"><title>St7&#45;&gt;St11</title>\n",
       "<path fill=\"none\" stroke=\"black\" d=\"M1522.77,-235.681C1512.73,-300.939 1482.26,-468 1433.2,-468 302.559,-468 302.559,-468 302.559,-468 275.183,-468 251.014,-447.408 234.813,-428.887\"/>\n",
       "<polygon fill=\"black\" stroke=\"black\" points=\"237.456,-426.593 228.371,-421.143 232.075,-431.069 237.456,-426.593\"/>\n",
       "<text text-anchor=\"middle\" x=\"866.092\" y=\"-470.8\" font-family=\"Times,serif\" font-size=\"14.00\">1</text>\n",
       "</g>\n",
       "<!-- St7&#45;&gt;St15 -->\n",
       "<g id=\"edge18\" class=\"edge\"><title>St7&#45;&gt;St15</title>\n",
       "<path fill=\"none\" stroke=\"black\" d=\"M1526.44,-183.828C1524.95,-127.534 1512.78,-0 1433.2,-0 211.653,-0 211.653,-0 211.653,-0 171.903,-0 145.325,-42.402 131.019,-74.0689\"/>\n",
       "<polygon fill=\"black\" stroke=\"black\" points=\"127.702,-72.9235 126.972,-83.4931 134.134,-75.6855 127.702,-72.9235\"/>\n",
       "<text text-anchor=\"middle\" x=\"822.688\" y=\"-2.8\" font-family=\"Times,serif\" font-size=\"14.00\">0</text>\n",
       "</g>\n",
       "<!-- St4&#45;&gt;St2 -->\n",
       "<g id=\"edge31\" class=\"edge\"><title>St4&#45;&gt;St2</title>\n",
       "<path fill=\"none\" stroke=\"black\" d=\"M1031.68,-180.605C1018.81,-190.772 1000.91,-202.956 982.803,-209 875.567,-244.791 841.932,-224 728.88,-224 583.825,-224 583.825,-224 583.825,-224 564.558,-224 543.257,-221.218 525.926,-218.228\"/>\n",
       "<polygon fill=\"black\" stroke=\"black\" points=\"526.168,-214.715 515.702,-216.363 524.912,-221.601 526.168,-214.715\"/>\n",
       "<text text-anchor=\"middle\" x=\"775.284\" y=\"-229.8\" font-family=\"Times,serif\" font-size=\"14.00\">1</text>\n",
       "</g>\n",
       "<!-- St4&#45;&gt;St6 -->\n",
       "<g id=\"edge30\" class=\"edge\"><title>St4&#45;&gt;St6</title>\n",
       "<path fill=\"none\" stroke=\"black\" d=\"M1077.58,-168.02C1087.75,-169.664 1099.7,-171.595 1110.71,-173.375\"/>\n",
       "<polygon fill=\"black\" stroke=\"black\" points=\"1110.47,-176.881 1120.9,-175.021 1111.58,-169.97 1110.47,-176.881\"/>\n",
       "<text text-anchor=\"middle\" x=\"1099.11\" y=\"-174.8\" font-family=\"Times,serif\" font-size=\"14.00\">0</text>\n",
       "</g>\n",
       "<!-- St5&#45;&gt;St10 -->\n",
       "<g id=\"edge23\" class=\"edge\"><title>St5&#45;&gt;St10</title>\n",
       "<path fill=\"none\" stroke=\"black\" d=\"M607.399,-302.586C614.018,-306.192 621.475,-309.713 628.729,-312 633.413,-313.476 638.446,-314.594 643.454,-315.44\"/>\n",
       "<polygon fill=\"black\" stroke=\"black\" points=\"643.197,-318.937 653.579,-316.82 644.143,-312.001 643.197,-318.937\"/>\n",
       "<text text-anchor=\"middle\" x=\"632.229\" y=\"-316.8\" font-family=\"Times,serif\" font-size=\"14.00\">1</text>\n",
       "</g>\n",
       "<!-- St5&#45;&gt;St14 -->\n",
       "<g id=\"edge22\" class=\"edge\"><title>St5&#45;&gt;St14</title>\n",
       "<path fill=\"none\" stroke=\"black\" d=\"M610.826,-286.551C638.549,-283.944 684.612,-279.933 724.38,-278 965.43,-266.285 1025.91,-262.057 1267.23,-265 1311.42,-265.539 1362.3,-266.895 1395.51,-267.879\"/>\n",
       "<polygon fill=\"black\" stroke=\"black\" points=\"1395.54,-271.381 1405.64,-268.184 1395.75,-264.384 1395.54,-271.381\"/>\n",
       "<text text-anchor=\"middle\" x=\"1004.3\" y=\"-268.8\" font-family=\"Times,serif\" font-size=\"14.00\">0</text>\n",
       "</g>\n",
       "<!-- St1&#45;&gt;St12 -->\n",
       "<g id=\"edge24\" class=\"edge\"><title>St1&#45;&gt;St12</title>\n",
       "<path fill=\"none\" stroke=\"black\" d=\"M749.466,-151.05C730.746,-147.744 704.391,-144 681.055,-144 489.017,-144 489.017,-144 489.017,-144 469.35,-144 447.722,-147.707 430.253,-151.658\"/>\n",
       "<polygon fill=\"black\" stroke=\"black\" points=\"429.409,-148.262 420.494,-153.987 431.034,-155.07 429.409,-148.262\"/>\n",
       "<text text-anchor=\"middle\" x=\"584.825\" y=\"-146.8\" font-family=\"Times,serif\" font-size=\"14.00\">0</text>\n",
       "</g>\n",
       "<!-- St1&#45;&gt;St8 -->\n",
       "<g id=\"edge25\" class=\"edge\"><title>St1&#45;&gt;St8</title>\n",
       "<path fill=\"none\" stroke=\"black\" d=\"M800.551,-150.262C811.089,-147.77 823.546,-144.824 834.692,-142.189\"/>\n",
       "<polygon fill=\"black\" stroke=\"black\" points=\"835.54,-145.585 844.466,-139.877 833.929,-138.772 835.54,-145.585\"/>\n",
       "<text text-anchor=\"middle\" x=\"822.688\" y=\"-148.8\" font-family=\"Times,serif\" font-size=\"14.00\">1</text>\n",
       "</g>\n",
       "</g>\n",
       "</svg>\n"
      ],
      "text/plain": [
       "<graphviz.dot.Digraph at 0x1052399e8>"
      ]
     },
     "execution_count": 20,
     "metadata": {},
     "output_type": "execute_result"
    }
   ],
   "source": [
    "dotObj_dfa(nfa2dfa(NFA_4thlast_1), FuseEdges=True)"
   ]
  },
  {
   "cell_type": "code",
   "execution_count": null,
   "metadata": {
    "run_control": {
     "frozen": false,
     "read_only": false
    }
   },
   "outputs": [],
   "source": []
  },
  {
   "cell_type": "markdown",
   "metadata": {
    "run_control": {
     "frozen": false,
     "read_only": false
    }
   },
   "source": [
    "# Brzozowski's DFA minimization\n",
    "\n",
    "We will practice Brzozowski minimization on \"blimp\", a bloated DFA\n",
    "\n",
    "\n",
    "\n",
    "Picking up from our earlier discussions, to minimize a DFA using Brzozowski's algorithm, here are the steps:\n",
    "\n",
    "* Make sure that the given DFA has no unreachable states\n",
    "* Reverse the DFA\n",
    "* Determinize it\n",
    "* Reverse that DFA\n",
    "* Determinize it\n",
    "\n",
    "Thus we need to write a routine to reverse a DFA. We already have a way to ensure that a DFA does not have unreachable states (in another Jupyter notebook; we won't bother to include it here, and trust the user to always provide such DFA only).\n",
    "\n",
    "We can observe that if a DFA has black-hole states, then those states won't matter in the reversed machine (reversed NFA). Thus, we can work with __partial__ dfa (i.e., DFA that are partially consistent)."
   ]
  },
  {
   "cell_type": "code",
   "execution_count": 21,
   "metadata": {
    "run_control": {
     "frozen": false,
     "read_only": false
    }
   },
   "outputs": [],
   "source": [
    "blimp = md2mc('''\n",
    "DFA \n",
    "I1 : a -> F2\n",
    "I1 : b -> F3\n",
    "F2 : a -> S8\n",
    "F2 : b -> S5\n",
    "F3 : a -> S7\n",
    "F3 : b -> S4\n",
    "S4 : a | b -> F6\n",
    "S5 : a | b -> F6\n",
    "F6 : a | b -> F6\n",
    "S7 : a | b -> F6\n",
    "S8 : a -> F6\n",
    "S8 : b -> F9\n",
    "F9 : a -> F9\n",
    "F9 : b -> F6\n",
    "''')"
   ]
  },
  {
   "cell_type": "code",
   "execution_count": 22,
   "metadata": {
    "run_control": {
     "frozen": false,
     "read_only": false
    }
   },
   "outputs": [
    {
     "data": {
      "image/svg+xml": [
       "<?xml version=\"1.0\" encoding=\"UTF-8\" standalone=\"no\"?>\n",
       "<!DOCTYPE svg PUBLIC \"-//W3C//DTD SVG 1.1//EN\"\n",
       " \"http://www.w3.org/Graphics/SVG/1.1/DTD/svg11.dtd\">\n",
       "<!-- Generated by graphviz version 2.38.0 (20140413.2041)\n",
       " -->\n",
       "<!-- Title: %3 Pages: 1 -->\n",
       "<svg width=\"529pt\" height=\"306pt\"\n",
       " viewBox=\"0.00 0.00 529.18 306.45\" xmlns=\"http://www.w3.org/2000/svg\" xmlns:xlink=\"http://www.w3.org/1999/xlink\">\n",
       "<g id=\"graph0\" class=\"graph\" transform=\"scale(1 1) rotate(0) translate(4 302.447)\">\n",
       "<title>%3</title>\n",
       "<polygon fill=\"white\" stroke=\"none\" points=\"-4,4 -4,-302.447 525.183,-302.447 525.183,4 -4,4\"/>\n",
       "<!-- EMPTY -->\n",
       "<g id=\"node1\" class=\"node\"><title>EMPTY</title>\n",
       "</g>\n",
       "<!-- I1 -->\n",
       "<g id=\"node2\" class=\"node\"><title>I1</title>\n",
       "<ellipse fill=\"none\" stroke=\"black\" cx=\"109\" cy=\"-126.447\" rx=\"18\" ry=\"18\"/>\n",
       "<text text-anchor=\"middle\" x=\"109\" y=\"-122.247\" font-family=\"Times,serif\" font-size=\"14.00\">I1</text>\n",
       "</g>\n",
       "<!-- EMPTY&#45;&gt;I1 -->\n",
       "<g id=\"edge1\" class=\"edge\"><title>EMPTY&#45;&gt;I1</title>\n",
       "<path fill=\"none\" stroke=\"black\" d=\"M54.195,-126.447C62.6538,-126.447 72.0513,-126.447 80.5951,-126.447\"/>\n",
       "<polygon fill=\"black\" stroke=\"black\" points=\"80.8257,-129.947 90.8257,-126.447 80.8257,-122.947 80.8257,-129.947\"/>\n",
       "</g>\n",
       "<!-- F2 -->\n",
       "<g id=\"node8\" class=\"node\"><title>F2</title>\n",
       "<ellipse fill=\"none\" stroke=\"black\" cx=\"192.661\" cy=\"-176.447\" rx=\"19.4029\" ry=\"19.4029\"/>\n",
       "<ellipse fill=\"none\" stroke=\"black\" cx=\"192.661\" cy=\"-176.447\" rx=\"23.3939\" ry=\"23.3939\"/>\n",
       "<text text-anchor=\"middle\" x=\"192.661\" y=\"-172.247\" font-family=\"Times,serif\" font-size=\"14.00\">F2</text>\n",
       "</g>\n",
       "<!-- I1&#45;&gt;F2 -->\n",
       "<g id=\"edge2\" class=\"edge\"><title>I1&#45;&gt;F2</title>\n",
       "<path fill=\"none\" stroke=\"black\" d=\"M124.978,-135.618C135.752,-142.215 150.607,-151.31 163.561,-159.242\"/>\n",
       "<polygon fill=\"black\" stroke=\"black\" points=\"161.797,-162.265 172.153,-164.502 165.452,-156.296 161.797,-162.265\"/>\n",
       "<text text-anchor=\"middle\" x=\"148.107\" y=\"-154.247\" font-family=\"Times,serif\" font-size=\"14.00\">a</text>\n",
       "</g>\n",
       "<!-- F3 -->\n",
       "<g id=\"node10\" class=\"node\"><title>F3</title>\n",
       "<ellipse fill=\"none\" stroke=\"black\" cx=\"282.554\" cy=\"-76.4469\" rx=\"19.4029\" ry=\"19.4029\"/>\n",
       "<ellipse fill=\"none\" stroke=\"black\" cx=\"282.554\" cy=\"-76.4469\" rx=\"23.3939\" ry=\"23.3939\"/>\n",
       "<text text-anchor=\"middle\" x=\"282.554\" y=\"-72.2469\" font-family=\"Times,serif\" font-size=\"14.00\">F3</text>\n",
       "</g>\n",
       "<!-- I1&#45;&gt;F3 -->\n",
       "<g id=\"edge3\" class=\"edge\"><title>I1&#45;&gt;F3</title>\n",
       "<path fill=\"none\" stroke=\"black\" d=\"M126.449,-121.653C154.889,-113.364 213.699,-96.2236 250.172,-85.5934\"/>\n",
       "<polygon fill=\"black\" stroke=\"black\" points=\"251.202,-88.939 259.823,-82.7806 249.243,-82.2186 251.202,-88.939\"/>\n",
       "<text text-anchor=\"middle\" x=\"192.661\" y=\"-112.247\" font-family=\"Times,serif\" font-size=\"14.00\">b</text>\n",
       "</g>\n",
       "<!-- S4 -->\n",
       "<g id=\"node3\" class=\"node\"><title>S4</title>\n",
       "<ellipse fill=\"none\" stroke=\"black\" cx=\"404.342\" cy=\"-76.4469\" rx=\"19.3939\" ry=\"19.3939\"/>\n",
       "<text text-anchor=\"middle\" x=\"404.342\" y=\"-72.2469\" font-family=\"Times,serif\" font-size=\"14.00\">S4</text>\n",
       "</g>\n",
       "<!-- F6 -->\n",
       "<g id=\"node7\" class=\"node\"><title>F6</title>\n",
       "<ellipse fill=\"none\" stroke=\"black\" cx=\"497.736\" cy=\"-137.447\" rx=\"19.4029\" ry=\"19.4029\"/>\n",
       "<ellipse fill=\"none\" stroke=\"black\" cx=\"497.736\" cy=\"-137.447\" rx=\"23.3939\" ry=\"23.3939\"/>\n",
       "<text text-anchor=\"middle\" x=\"497.736\" y=\"-133.247\" font-family=\"Times,serif\" font-size=\"14.00\">F6</text>\n",
       "</g>\n",
       "<!-- S4&#45;&gt;F6 -->\n",
       "<g id=\"edge8\" class=\"edge\"><title>S4&#45;&gt;F6</title>\n",
       "<path fill=\"none\" stroke=\"black\" d=\"M422.247,-85.2303C432.353,-90.6857 445.32,-98.0484 456.289,-105.447 461.234,-108.783 466.345,-112.55 471.201,-116.297\"/>\n",
       "<polygon fill=\"black\" stroke=\"black\" points=\"469.041,-119.051 479.056,-122.507 473.381,-113.56 469.041,-119.051\"/>\n",
       "<text text-anchor=\"middle\" x=\"451.039\" y=\"-122.247\" font-family=\"Times,serif\" font-size=\"14.00\">b </text>\n",
       "<text text-anchor=\"middle\" x=\"451.039\" y=\"-108.247\" font-family=\"Times,serif\" font-size=\"14.00\"> a</text>\n",
       "</g>\n",
       "<!-- S5 -->\n",
       "<g id=\"node4\" class=\"node\"><title>S5</title>\n",
       "<ellipse fill=\"none\" stroke=\"black\" cx=\"343.448\" cy=\"-270.447\" rx=\"19.3939\" ry=\"19.3939\"/>\n",
       "<text text-anchor=\"middle\" x=\"343.448\" y=\"-266.247\" font-family=\"Times,serif\" font-size=\"14.00\">S5</text>\n",
       "</g>\n",
       "<!-- S5&#45;&gt;F6 -->\n",
       "<g id=\"edge9\" class=\"edge\"><title>S5&#45;&gt;F6</title>\n",
       "<path fill=\"none\" stroke=\"black\" d=\"M363.073,-270.781C387.423,-270.217 430.052,-265.654 456.289,-242.447 476.937,-224.182 487.112,-194.148 492.085,-170.87\"/>\n",
       "<polygon fill=\"black\" stroke=\"black\" points=\"495.524,-171.52 493.968,-161.04 488.649,-170.203 495.524,-171.52\"/>\n",
       "<text text-anchor=\"middle\" x=\"404.342\" y=\"-287.247\" font-family=\"Times,serif\" font-size=\"14.00\">b </text>\n",
       "<text text-anchor=\"middle\" x=\"404.342\" y=\"-273.247\" font-family=\"Times,serif\" font-size=\"14.00\"> a</text>\n",
       "</g>\n",
       "<!-- S7 -->\n",
       "<g id=\"node5\" class=\"node\"><title>S7</title>\n",
       "<ellipse fill=\"none\" stroke=\"black\" cx=\"404.342\" cy=\"-19.4469\" rx=\"19.3939\" ry=\"19.3939\"/>\n",
       "<text text-anchor=\"middle\" x=\"404.342\" y=\"-15.2469\" font-family=\"Times,serif\" font-size=\"14.00\">S7</text>\n",
       "</g>\n",
       "<!-- S7&#45;&gt;F6 -->\n",
       "<g id=\"edge11\" class=\"edge\"><title>S7&#45;&gt;F6</title>\n",
       "<path fill=\"none\" stroke=\"black\" d=\"M420.281,-31.4756C431.075,-40.6277 445.579,-53.9163 456.289,-67.4469 466.032,-79.7564 474.983,-94.6724 481.973,-107.567\"/>\n",
       "<polygon fill=\"black\" stroke=\"black\" points=\"478.94,-109.32 486.7,-116.533 485.133,-106.055 478.94,-109.32\"/>\n",
       "<text text-anchor=\"middle\" x=\"451.039\" y=\"-84.2469\" font-family=\"Times,serif\" font-size=\"14.00\">b </text>\n",
       "<text text-anchor=\"middle\" x=\"451.039\" y=\"-70.2469\" font-family=\"Times,serif\" font-size=\"14.00\"> a</text>\n",
       "</g>\n",
       "<!-- S8 -->\n",
       "<g id=\"node6\" class=\"node\"><title>S8</title>\n",
       "<ellipse fill=\"none\" stroke=\"black\" cx=\"282.554\" cy=\"-176.447\" rx=\"19.3939\" ry=\"19.3939\"/>\n",
       "<text text-anchor=\"middle\" x=\"282.554\" y=\"-172.247\" font-family=\"Times,serif\" font-size=\"14.00\">S8</text>\n",
       "</g>\n",
       "<!-- S8&#45;&gt;F6 -->\n",
       "<g id=\"edge12\" class=\"edge\"><title>S8&#45;&gt;F6</title>\n",
       "<path fill=\"none\" stroke=\"black\" d=\"M300.14,-184.907C327.586,-197.696 383.788,-218.721 427.789,-201.447 447.105,-193.863 464.232,-178.041 476.584,-164.027\"/>\n",
       "<polygon fill=\"black\" stroke=\"black\" points=\"479.526,-165.966 483.285,-156.061 474.17,-161.46 479.526,-165.966\"/>\n",
       "<text text-anchor=\"middle\" x=\"404.342\" y=\"-211.247\" font-family=\"Times,serif\" font-size=\"14.00\">a</text>\n",
       "</g>\n",
       "<!-- F9 -->\n",
       "<g id=\"node9\" class=\"node\"><title>F9</title>\n",
       "<ellipse fill=\"none\" stroke=\"black\" cx=\"404.342\" cy=\"-137.447\" rx=\"19.4029\" ry=\"19.4029\"/>\n",
       "<ellipse fill=\"none\" stroke=\"black\" cx=\"404.342\" cy=\"-137.447\" rx=\"23.3939\" ry=\"23.3939\"/>\n",
       "<text text-anchor=\"middle\" x=\"404.342\" y=\"-133.247\" font-family=\"Times,serif\" font-size=\"14.00\">F9</text>\n",
       "</g>\n",
       "<!-- S8&#45;&gt;F9 -->\n",
       "<g id=\"edge13\" class=\"edge\"><title>S8&#45;&gt;F9</title>\n",
       "<path fill=\"none\" stroke=\"black\" d=\"M301.23,-170.692C319.854,-164.629 349.559,-154.957 372.14,-147.606\"/>\n",
       "<polygon fill=\"black\" stroke=\"black\" points=\"373.523,-150.836 381.948,-144.412 371.356,-144.18 373.523,-150.836\"/>\n",
       "<text text-anchor=\"middle\" x=\"343.448\" y=\"-166.247\" font-family=\"Times,serif\" font-size=\"14.00\">b</text>\n",
       "</g>\n",
       "<!-- F6&#45;&gt;F6 -->\n",
       "<g id=\"edge10\" class=\"edge\"><title>F6&#45;&gt;F6</title>\n",
       "<path fill=\"none\" stroke=\"black\" d=\"M489.281,-159.62C488.359,-169.906 491.177,-178.894 497.736,-178.894 501.937,-178.894 504.604,-175.205 505.735,-169.85\"/>\n",
       "<polygon fill=\"black\" stroke=\"black\" points=\"509.242,-169.766 506.19,-159.62 502.249,-169.455 509.242,-169.766\"/>\n",
       "<text text-anchor=\"middle\" x=\"497.736\" y=\"-195.694\" font-family=\"Times,serif\" font-size=\"14.00\">b </text>\n",
       "<text text-anchor=\"middle\" x=\"497.736\" y=\"-181.694\" font-family=\"Times,serif\" font-size=\"14.00\"> a</text>\n",
       "</g>\n",
       "<!-- F2&#45;&gt;S5 -->\n",
       "<g id=\"edge5\" class=\"edge\"><title>F2&#45;&gt;S5</title>\n",
       "<path fill=\"none\" stroke=\"black\" d=\"M212.807,-188.543C239.694,-205.53 288.637,-236.45 318.085,-255.055\"/>\n",
       "<polygon fill=\"black\" stroke=\"black\" points=\"316.229,-258.022 326.553,-260.405 319.968,-252.105 316.229,-258.022\"/>\n",
       "<text text-anchor=\"middle\" x=\"237.608\" y=\"-209.247\" font-family=\"Times,serif\" font-size=\"14.00\">b</text>\n",
       "</g>\n",
       "<!-- F2&#45;&gt;S8 -->\n",
       "<g id=\"edge4\" class=\"edge\"><title>F2&#45;&gt;S8</title>\n",
       "<path fill=\"none\" stroke=\"black\" d=\"M216.296,-176.447C227.355,-176.447 240.791,-176.447 252.59,-176.447\"/>\n",
       "<polygon fill=\"black\" stroke=\"black\" points=\"252.851,-179.947 262.851,-176.447 252.851,-172.947 252.851,-179.947\"/>\n",
       "<text text-anchor=\"middle\" x=\"237.608\" y=\"-179.247\" font-family=\"Times,serif\" font-size=\"14.00\">a</text>\n",
       "</g>\n",
       "<!-- F9&#45;&gt;F6 -->\n",
       "<g id=\"edge15\" class=\"edge\"><title>F9&#45;&gt;F6</title>\n",
       "<path fill=\"none\" stroke=\"black\" d=\"M427.934,-137.447C438.809,-137.447 452.053,-137.447 464.007,-137.447\"/>\n",
       "<polygon fill=\"black\" stroke=\"black\" points=\"464.087,-140.947 474.087,-137.447 464.087,-133.947 464.087,-140.947\"/>\n",
       "<text text-anchor=\"middle\" x=\"451.039\" y=\"-140.247\" font-family=\"Times,serif\" font-size=\"14.00\">b</text>\n",
       "</g>\n",
       "<!-- F9&#45;&gt;F9 -->\n",
       "<g id=\"edge14\" class=\"edge\"><title>F9&#45;&gt;F9</title>\n",
       "<path fill=\"none\" stroke=\"black\" d=\"M395.887,-159.62C394.965,-169.906 397.783,-178.894 404.342,-178.894 408.544,-178.894 411.21,-175.205 412.341,-169.85\"/>\n",
       "<polygon fill=\"black\" stroke=\"black\" points=\"415.849,-169.766 412.796,-159.62 408.855,-169.455 415.849,-169.766\"/>\n",
       "<text text-anchor=\"middle\" x=\"404.342\" y=\"-181.694\" font-family=\"Times,serif\" font-size=\"14.00\">a</text>\n",
       "</g>\n",
       "<!-- F3&#45;&gt;S4 -->\n",
       "<g id=\"edge7\" class=\"edge\"><title>F3&#45;&gt;S4</title>\n",
       "<path fill=\"none\" stroke=\"black\" d=\"M306.086,-76.4469C325.477,-76.4469 353.568,-76.4469 374.58,-76.4469\"/>\n",
       "<polygon fill=\"black\" stroke=\"black\" points=\"374.839,-79.947 384.839,-76.4469 374.839,-72.947 374.839,-79.947\"/>\n",
       "<text text-anchor=\"middle\" x=\"343.448\" y=\"-79.2469\" font-family=\"Times,serif\" font-size=\"14.00\">b</text>\n",
       "</g>\n",
       "<!-- F3&#45;&gt;S7 -->\n",
       "<g id=\"edge6\" class=\"edge\"><title>F3&#45;&gt;S7</title>\n",
       "<path fill=\"none\" stroke=\"black\" d=\"M304.147,-66.6482C324.425,-56.9991 355.463,-42.2296 377.412,-31.7854\"/>\n",
       "<polygon fill=\"black\" stroke=\"black\" points=\"378.969,-34.9208 386.495,-27.4635 375.961,-28.5999 378.969,-34.9208\"/>\n",
       "<text text-anchor=\"middle\" x=\"343.448\" y=\"-59.2469\" font-family=\"Times,serif\" font-size=\"14.00\">a</text>\n",
       "</g>\n",
       "</g>\n",
       "</svg>\n"
      ],
      "text/plain": [
       "<graphviz.dot.Digraph at 0x1049a0cc0>"
      ]
     },
     "execution_count": 22,
     "metadata": {},
     "output_type": "execute_result"
    }
   ],
   "source": [
    "dotObj_dfa(blimp, FuseEdges=True)"
   ]
  },
  {
   "cell_type": "code",
   "execution_count": 23,
   "metadata": {
    "run_control": {
     "frozen": false,
     "read_only": false
    }
   },
   "outputs": [
    {
     "data": {
      "text/plain": [
       "<function jove.Def_NFA.rev_dfa>"
      ]
     },
     "execution_count": 23,
     "metadata": {},
     "output_type": "execute_result"
    }
   ],
   "source": [
    "rev_dfa"
   ]
  },
  {
   "cell_type": "code",
   "execution_count": 24,
   "metadata": {
    "run_control": {
     "frozen": false,
     "read_only": false
    }
   },
   "outputs": [
    {
     "data": {
      "text/plain": [
       "<function jove.Def_NFA.nfa2dfa>"
      ]
     },
     "execution_count": 24,
     "metadata": {},
     "output_type": "execute_result"
    }
   ],
   "source": [
    "nfa2dfa"
   ]
  },
  {
   "cell_type": "code",
   "execution_count": 25,
   "metadata": {
    "run_control": {
     "frozen": false,
     "read_only": false
    }
   },
   "outputs": [
    {
     "data": {
      "image/svg+xml": [
       "<?xml version=\"1.0\" encoding=\"UTF-8\" standalone=\"no\"?>\n",
       "<!DOCTYPE svg PUBLIC \"-//W3C//DTD SVG 1.1//EN\"\n",
       " \"http://www.w3.org/Graphics/SVG/1.1/DTD/svg11.dtd\">\n",
       "<!-- Generated by graphviz version 2.38.0 (20140413.2041)\n",
       " -->\n",
       "<!-- Title: %3 Pages: 1 -->\n",
       "<svg width=\"430pt\" height=\"106pt\"\n",
       " viewBox=\"0.00 0.00 429.73 105.81\" xmlns=\"http://www.w3.org/2000/svg\" xmlns:xlink=\"http://www.w3.org/1999/xlink\">\n",
       "<g id=\"graph0\" class=\"graph\" transform=\"scale(1 1) rotate(0) translate(4 101.808)\">\n",
       "<title>%3</title>\n",
       "<polygon fill=\"white\" stroke=\"none\" points=\"-4,4 -4,-101.808 425.731,-101.808 425.731,4 -4,4\"/>\n",
       "<!-- EMPTY -->\n",
       "<g id=\"node1\" class=\"node\"><title>EMPTY</title>\n",
       "</g>\n",
       "<!-- St3 -->\n",
       "<g id=\"node3\" class=\"node\"><title>St3</title>\n",
       "<ellipse fill=\"none\" stroke=\"black\" cx=\"112.904\" cy=\"-25.9039\" rx=\"21.8081\" ry=\"21.8081\"/>\n",
       "<text text-anchor=\"middle\" x=\"112.904\" y=\"-21.7039\" font-family=\"Times,serif\" font-size=\"14.00\">St3</text>\n",
       "</g>\n",
       "<!-- EMPTY&#45;&gt;St3 -->\n",
       "<g id=\"edge1\" class=\"edge\"><title>EMPTY&#45;&gt;St3</title>\n",
       "<path fill=\"none\" stroke=\"black\" d=\"M54.0878,-25.9039C62.501,-25.9039 71.9126,-25.9039 80.6587,-25.9039\"/>\n",
       "<polygon fill=\"black\" stroke=\"black\" points=\"80.8854,-29.404 90.8853,-25.9039 80.8853,-22.404 80.8854,-29.404\"/>\n",
       "</g>\n",
       "<!-- St2 -->\n",
       "<g id=\"node2\" class=\"node\"><title>St2</title>\n",
       "<ellipse fill=\"none\" stroke=\"black\" cx=\"301.519\" cy=\"-25.9039\" rx=\"21.8081\" ry=\"21.8081\"/>\n",
       "<text text-anchor=\"middle\" x=\"301.519\" y=\"-21.7039\" font-family=\"Times,serif\" font-size=\"14.00\">St2</text>\n",
       "</g>\n",
       "<!-- St0 -->\n",
       "<g id=\"node4\" class=\"node\"><title>St0</title>\n",
       "<ellipse fill=\"none\" stroke=\"black\" cx=\"395.827\" cy=\"-25.9039\" rx=\"21.8229\" ry=\"21.8229\"/>\n",
       "<ellipse fill=\"none\" stroke=\"black\" cx=\"395.827\" cy=\"-25.9039\" rx=\"25.8081\" ry=\"25.8081\"/>\n",
       "<text text-anchor=\"middle\" x=\"395.827\" y=\"-21.7039\" font-family=\"Times,serif\" font-size=\"14.00\">St0</text>\n",
       "</g>\n",
       "<!-- St2&#45;&gt;St0 -->\n",
       "<g id=\"edge4\" class=\"edge\"><title>St2&#45;&gt;St0</title>\n",
       "<path fill=\"none\" stroke=\"black\" d=\"M323.465,-25.9039C334.08,-25.9039 347.26,-25.9039 359.394,-25.9039\"/>\n",
       "<polygon fill=\"black\" stroke=\"black\" points=\"359.697,-29.404 369.697,-25.9039 359.697,-22.404 359.697,-29.404\"/>\n",
       "<text text-anchor=\"middle\" x=\"346.673\" y=\"-42.7039\" font-family=\"Times,serif\" font-size=\"14.00\">b </text>\n",
       "<text text-anchor=\"middle\" x=\"346.673\" y=\"-28.7039\" font-family=\"Times,serif\" font-size=\"14.00\"> a</text>\n",
       "</g>\n",
       "<!-- St1 -->\n",
       "<g id=\"node5\" class=\"node\"><title>St1</title>\n",
       "<ellipse fill=\"none\" stroke=\"black\" cx=\"207.212\" cy=\"-25.9039\" rx=\"21.8229\" ry=\"21.8229\"/>\n",
       "<ellipse fill=\"none\" stroke=\"black\" cx=\"207.212\" cy=\"-25.9039\" rx=\"25.8081\" ry=\"25.8081\"/>\n",
       "<text text-anchor=\"middle\" x=\"207.212\" y=\"-21.7039\" font-family=\"Times,serif\" font-size=\"14.00\">St1</text>\n",
       "</g>\n",
       "<!-- St3&#45;&gt;St1 -->\n",
       "<g id=\"edge2\" class=\"edge\"><title>St3&#45;&gt;St1</title>\n",
       "<path fill=\"none\" stroke=\"black\" d=\"M134.85,-25.9039C145.464,-25.9039 158.645,-25.9039 170.779,-25.9039\"/>\n",
       "<polygon fill=\"black\" stroke=\"black\" points=\"171.082,-29.404 181.081,-25.9039 171.081,-22.404 171.082,-29.404\"/>\n",
       "<text text-anchor=\"middle\" x=\"158.058\" y=\"-42.7039\" font-family=\"Times,serif\" font-size=\"14.00\">b </text>\n",
       "<text text-anchor=\"middle\" x=\"158.058\" y=\"-28.7039\" font-family=\"Times,serif\" font-size=\"14.00\"> a</text>\n",
       "</g>\n",
       "<!-- St0&#45;&gt;St0 -->\n",
       "<g id=\"edge5\" class=\"edge\"><title>St0&#45;&gt;St0</title>\n",
       "<path fill=\"none\" stroke=\"black\" d=\"M386.935,-50.2841C386.207,-60.8022 389.171,-69.8077 395.827,-69.8077 400.195,-69.8077 402.973,-65.9294 404.161,-60.2903\"/>\n",
       "<polygon fill=\"black\" stroke=\"black\" points=\"407.657,-60.4635 404.719,-50.2841 400.668,-60.0736 407.657,-60.4635\"/>\n",
       "<text text-anchor=\"middle\" x=\"395.827\" y=\"-86.6077\" font-family=\"Times,serif\" font-size=\"14.00\">b </text>\n",
       "<text text-anchor=\"middle\" x=\"395.827\" y=\"-72.6077\" font-family=\"Times,serif\" font-size=\"14.00\"> a</text>\n",
       "</g>\n",
       "<!-- St1&#45;&gt;St2 -->\n",
       "<g id=\"edge3\" class=\"edge\"><title>St1&#45;&gt;St2</title>\n",
       "<path fill=\"none\" stroke=\"black\" d=\"M233.435,-25.9039C244.47,-25.9039 257.53,-25.9039 269.18,-25.9039\"/>\n",
       "<polygon fill=\"black\" stroke=\"black\" points=\"269.386,-29.404 279.385,-25.9039 269.385,-22.404 269.386,-29.404\"/>\n",
       "<text text-anchor=\"middle\" x=\"256.365\" y=\"-42.7039\" font-family=\"Times,serif\" font-size=\"14.00\">b </text>\n",
       "<text text-anchor=\"middle\" x=\"256.365\" y=\"-28.7039\" font-family=\"Times,serif\" font-size=\"14.00\"> a</text>\n",
       "</g>\n",
       "</g>\n",
       "</svg>\n"
      ],
      "text/plain": [
       "<graphviz.dot.Digraph at 0x1049a0eb8>"
      ]
     },
     "execution_count": 25,
     "metadata": {},
     "output_type": "execute_result"
    }
   ],
   "source": [
    "# Brzozowski minimization is R;D;R;D\n",
    "\n",
    "dotObj_dfa(nfa2dfa(rev_dfa(nfa2dfa(rev_dfa(blimp)))), FuseEdges = True)"
   ]
  },
  {
   "cell_type": "code",
   "execution_count": 26,
   "metadata": {
    "run_control": {
     "frozen": false,
     "read_only": false
    }
   },
   "outputs": [
    {
     "data": {
      "text/plain": [
       "<function jove.Def_NFA.min_dfa_brz>"
      ]
     },
     "execution_count": 26,
     "metadata": {},
     "output_type": "execute_result"
    }
   ],
   "source": [
    "# This is also directly available as a single command\n",
    "\n",
    "min_dfa_brz"
   ]
  },
  {
   "cell_type": "code",
   "execution_count": 27,
   "metadata": {
    "run_control": {
     "frozen": false,
     "read_only": false
    }
   },
   "outputs": [
    {
     "data": {
      "image/svg+xml": [
       "<?xml version=\"1.0\" encoding=\"UTF-8\" standalone=\"no\"?>\n",
       "<!DOCTYPE svg PUBLIC \"-//W3C//DTD SVG 1.1//EN\"\n",
       " \"http://www.w3.org/Graphics/SVG/1.1/DTD/svg11.dtd\">\n",
       "<!-- Generated by graphviz version 2.38.0 (20140413.2041)\n",
       " -->\n",
       "<!-- Title: %3 Pages: 1 -->\n",
       "<svg width=\"430pt\" height=\"106pt\"\n",
       " viewBox=\"0.00 0.00 429.73 105.81\" xmlns=\"http://www.w3.org/2000/svg\" xmlns:xlink=\"http://www.w3.org/1999/xlink\">\n",
       "<g id=\"graph0\" class=\"graph\" transform=\"scale(1 1) rotate(0) translate(4 101.808)\">\n",
       "<title>%3</title>\n",
       "<polygon fill=\"white\" stroke=\"none\" points=\"-4,4 -4,-101.808 425.731,-101.808 425.731,4 -4,4\"/>\n",
       "<!-- EMPTY -->\n",
       "<g id=\"node1\" class=\"node\"><title>EMPTY</title>\n",
       "</g>\n",
       "<!-- St3 -->\n",
       "<g id=\"node3\" class=\"node\"><title>St3</title>\n",
       "<ellipse fill=\"none\" stroke=\"black\" cx=\"112.904\" cy=\"-25.9039\" rx=\"21.8081\" ry=\"21.8081\"/>\n",
       "<text text-anchor=\"middle\" x=\"112.904\" y=\"-21.7039\" font-family=\"Times,serif\" font-size=\"14.00\">St3</text>\n",
       "</g>\n",
       "<!-- EMPTY&#45;&gt;St3 -->\n",
       "<g id=\"edge1\" class=\"edge\"><title>EMPTY&#45;&gt;St3</title>\n",
       "<path fill=\"none\" stroke=\"black\" d=\"M54.0878,-25.9039C62.501,-25.9039 71.9126,-25.9039 80.6587,-25.9039\"/>\n",
       "<polygon fill=\"black\" stroke=\"black\" points=\"80.8854,-29.404 90.8853,-25.9039 80.8853,-22.404 80.8854,-29.404\"/>\n",
       "</g>\n",
       "<!-- St2 -->\n",
       "<g id=\"node2\" class=\"node\"><title>St2</title>\n",
       "<ellipse fill=\"none\" stroke=\"black\" cx=\"301.519\" cy=\"-25.9039\" rx=\"21.8081\" ry=\"21.8081\"/>\n",
       "<text text-anchor=\"middle\" x=\"301.519\" y=\"-21.7039\" font-family=\"Times,serif\" font-size=\"14.00\">St2</text>\n",
       "</g>\n",
       "<!-- St0 -->\n",
       "<g id=\"node4\" class=\"node\"><title>St0</title>\n",
       "<ellipse fill=\"none\" stroke=\"black\" cx=\"395.827\" cy=\"-25.9039\" rx=\"21.8229\" ry=\"21.8229\"/>\n",
       "<ellipse fill=\"none\" stroke=\"black\" cx=\"395.827\" cy=\"-25.9039\" rx=\"25.8081\" ry=\"25.8081\"/>\n",
       "<text text-anchor=\"middle\" x=\"395.827\" y=\"-21.7039\" font-family=\"Times,serif\" font-size=\"14.00\">St0</text>\n",
       "</g>\n",
       "<!-- St2&#45;&gt;St0 -->\n",
       "<g id=\"edge4\" class=\"edge\"><title>St2&#45;&gt;St0</title>\n",
       "<path fill=\"none\" stroke=\"black\" d=\"M323.465,-25.9039C334.08,-25.9039 347.26,-25.9039 359.394,-25.9039\"/>\n",
       "<polygon fill=\"black\" stroke=\"black\" points=\"359.697,-29.404 369.697,-25.9039 359.697,-22.404 359.697,-29.404\"/>\n",
       "<text text-anchor=\"middle\" x=\"346.673\" y=\"-42.7039\" font-family=\"Times,serif\" font-size=\"14.00\">b </text>\n",
       "<text text-anchor=\"middle\" x=\"346.673\" y=\"-28.7039\" font-family=\"Times,serif\" font-size=\"14.00\"> a</text>\n",
       "</g>\n",
       "<!-- St1 -->\n",
       "<g id=\"node5\" class=\"node\"><title>St1</title>\n",
       "<ellipse fill=\"none\" stroke=\"black\" cx=\"207.212\" cy=\"-25.9039\" rx=\"21.8229\" ry=\"21.8229\"/>\n",
       "<ellipse fill=\"none\" stroke=\"black\" cx=\"207.212\" cy=\"-25.9039\" rx=\"25.8081\" ry=\"25.8081\"/>\n",
       "<text text-anchor=\"middle\" x=\"207.212\" y=\"-21.7039\" font-family=\"Times,serif\" font-size=\"14.00\">St1</text>\n",
       "</g>\n",
       "<!-- St3&#45;&gt;St1 -->\n",
       "<g id=\"edge2\" class=\"edge\"><title>St3&#45;&gt;St1</title>\n",
       "<path fill=\"none\" stroke=\"black\" d=\"M134.85,-25.9039C145.464,-25.9039 158.645,-25.9039 170.779,-25.9039\"/>\n",
       "<polygon fill=\"black\" stroke=\"black\" points=\"171.082,-29.404 181.081,-25.9039 171.081,-22.404 171.082,-29.404\"/>\n",
       "<text text-anchor=\"middle\" x=\"158.058\" y=\"-42.7039\" font-family=\"Times,serif\" font-size=\"14.00\">b </text>\n",
       "<text text-anchor=\"middle\" x=\"158.058\" y=\"-28.7039\" font-family=\"Times,serif\" font-size=\"14.00\"> a</text>\n",
       "</g>\n",
       "<!-- St0&#45;&gt;St0 -->\n",
       "<g id=\"edge5\" class=\"edge\"><title>St0&#45;&gt;St0</title>\n",
       "<path fill=\"none\" stroke=\"black\" d=\"M386.935,-50.2841C386.207,-60.8022 389.171,-69.8077 395.827,-69.8077 400.195,-69.8077 402.973,-65.9294 404.161,-60.2903\"/>\n",
       "<polygon fill=\"black\" stroke=\"black\" points=\"407.657,-60.4635 404.719,-50.2841 400.668,-60.0736 407.657,-60.4635\"/>\n",
       "<text text-anchor=\"middle\" x=\"395.827\" y=\"-86.6077\" font-family=\"Times,serif\" font-size=\"14.00\">b </text>\n",
       "<text text-anchor=\"middle\" x=\"395.827\" y=\"-72.6077\" font-family=\"Times,serif\" font-size=\"14.00\"> a</text>\n",
       "</g>\n",
       "<!-- St1&#45;&gt;St2 -->\n",
       "<g id=\"edge3\" class=\"edge\"><title>St1&#45;&gt;St2</title>\n",
       "<path fill=\"none\" stroke=\"black\" d=\"M233.435,-25.9039C244.47,-25.9039 257.53,-25.9039 269.18,-25.9039\"/>\n",
       "<polygon fill=\"black\" stroke=\"black\" points=\"269.386,-29.404 279.385,-25.9039 269.385,-22.404 269.386,-29.404\"/>\n",
       "<text text-anchor=\"middle\" x=\"256.365\" y=\"-42.7039\" font-family=\"Times,serif\" font-size=\"14.00\">b </text>\n",
       "<text text-anchor=\"middle\" x=\"256.365\" y=\"-28.7039\" font-family=\"Times,serif\" font-size=\"14.00\"> a</text>\n",
       "</g>\n",
       "</g>\n",
       "</svg>\n"
      ],
      "text/plain": [
       "<graphviz.dot.Digraph at 0x1049a0f60>"
      ]
     },
     "execution_count": 27,
     "metadata": {},
     "output_type": "execute_result"
    }
   ],
   "source": [
    "dotObj_dfa(min_dfa_brz(blimp), FuseEdges = True)"
   ]
  },
  {
   "cell_type": "code",
   "execution_count": 28,
   "metadata": {
    "run_control": {
     "frozen": false,
     "read_only": false
    }
   },
   "outputs": [
    {
     "data": {
      "image/svg+xml": [
       "<?xml version=\"1.0\" encoding=\"UTF-8\" standalone=\"no\"?>\n",
       "<!DOCTYPE svg PUBLIC \"-//W3C//DTD SVG 1.1//EN\"\n",
       " \"http://www.w3.org/Graphics/SVG/1.1/DTD/svg11.dtd\">\n",
       "<!-- Generated by graphviz version 2.38.0 (20140413.2041)\n",
       " -->\n",
       "<!-- Title: %3 Pages: 1 -->\n",
       "<svg width=\"407pt\" height=\"101pt\"\n",
       " viewBox=\"0.00 0.00 407.18 100.89\" xmlns=\"http://www.w3.org/2000/svg\" xmlns:xlink=\"http://www.w3.org/1999/xlink\">\n",
       "<g id=\"graph0\" class=\"graph\" transform=\"scale(1 1) rotate(0) translate(4 96.8937)\">\n",
       "<title>%3</title>\n",
       "<polygon fill=\"white\" stroke=\"none\" points=\"-4,4 -4,-96.8937 403.181,-96.8937 403.181,4 -4,4\"/>\n",
       "<!-- EMPTY -->\n",
       "<g id=\"node1\" class=\"node\"><title>EMPTY</title>\n",
       "</g>\n",
       "<!-- I1 -->\n",
       "<g id=\"node2\" class=\"node\"><title>I1</title>\n",
       "<ellipse fill=\"none\" stroke=\"black\" cx=\"109\" cy=\"-23.4469\" rx=\"18\" ry=\"18\"/>\n",
       "<text text-anchor=\"middle\" x=\"109\" y=\"-19.2469\" font-family=\"Times,serif\" font-size=\"14.00\">I1</text>\n",
       "</g>\n",
       "<!-- EMPTY&#45;&gt;I1 -->\n",
       "<g id=\"edge1\" class=\"edge\"><title>EMPTY&#45;&gt;I1</title>\n",
       "<path fill=\"none\" stroke=\"black\" d=\"M54.195,-23.4469C62.6538,-23.4469 72.0513,-23.4469 80.5951,-23.4469\"/>\n",
       "<polygon fill=\"black\" stroke=\"black\" points=\"80.8257,-26.947 90.8257,-23.4469 80.8257,-19.947 80.8257,-26.947\"/>\n",
       "</g>\n",
       "<!-- F2 -->\n",
       "<g id=\"node5\" class=\"node\"><title>F2</title>\n",
       "<ellipse fill=\"none\" stroke=\"black\" cx=\"196.947\" cy=\"-23.4469\" rx=\"19.4029\" ry=\"19.4029\"/>\n",
       "<ellipse fill=\"none\" stroke=\"black\" cx=\"196.947\" cy=\"-23.4469\" rx=\"23.3939\" ry=\"23.3939\"/>\n",
       "<text text-anchor=\"middle\" x=\"196.947\" y=\"-19.2469\" font-family=\"Times,serif\" font-size=\"14.00\">F2</text>\n",
       "</g>\n",
       "<!-- I1&#45;&gt;F2 -->\n",
       "<g id=\"edge2\" class=\"edge\"><title>I1&#45;&gt;F2</title>\n",
       "<path fill=\"none\" stroke=\"black\" d=\"M127.393,-23.4469C137.636,-23.4469 150.928,-23.4469 163.077,-23.4469\"/>\n",
       "<polygon fill=\"black\" stroke=\"black\" points=\"163.355,-26.947 173.355,-23.4469 163.355,-19.947 163.355,-26.947\"/>\n",
       "<text text-anchor=\"middle\" x=\"150.25\" y=\"-40.2469\" font-family=\"Times,serif\" font-size=\"14.00\">b </text>\n",
       "<text text-anchor=\"middle\" x=\"150.25\" y=\"-26.2469\" font-family=\"Times,serif\" font-size=\"14.00\"> a</text>\n",
       "</g>\n",
       "<!-- S7 -->\n",
       "<g id=\"node3\" class=\"node\"><title>S7</title>\n",
       "<ellipse fill=\"none\" stroke=\"black\" cx=\"286.341\" cy=\"-23.4469\" rx=\"19.3939\" ry=\"19.3939\"/>\n",
       "<text text-anchor=\"middle\" x=\"286.341\" y=\"-19.2469\" font-family=\"Times,serif\" font-size=\"14.00\">S7</text>\n",
       "</g>\n",
       "<!-- F6 -->\n",
       "<g id=\"node4\" class=\"node\"><title>F6</title>\n",
       "<ellipse fill=\"none\" stroke=\"black\" cx=\"375.734\" cy=\"-23.4469\" rx=\"19.4029\" ry=\"19.4029\"/>\n",
       "<ellipse fill=\"none\" stroke=\"black\" cx=\"375.734\" cy=\"-23.4469\" rx=\"23.3939\" ry=\"23.3939\"/>\n",
       "<text text-anchor=\"middle\" x=\"375.734\" y=\"-19.2469\" font-family=\"Times,serif\" font-size=\"14.00\">F6</text>\n",
       "</g>\n",
       "<!-- S7&#45;&gt;F6 -->\n",
       "<g id=\"edge4\" class=\"edge\"><title>S7&#45;&gt;F6</title>\n",
       "<path fill=\"none\" stroke=\"black\" d=\"M305.875,-23.4469C316.338,-23.4469 329.721,-23.4469 341.902,-23.4469\"/>\n",
       "<polygon fill=\"black\" stroke=\"black\" points=\"342.193,-26.947 352.193,-23.4469 342.193,-19.947 342.193,-26.947\"/>\n",
       "<text text-anchor=\"middle\" x=\"329.037\" y=\"-40.2469\" font-family=\"Times,serif\" font-size=\"14.00\">b </text>\n",
       "<text text-anchor=\"middle\" x=\"329.037\" y=\"-26.2469\" font-family=\"Times,serif\" font-size=\"14.00\"> a</text>\n",
       "</g>\n",
       "<!-- F6&#45;&gt;F6 -->\n",
       "<g id=\"edge5\" class=\"edge\"><title>F6&#45;&gt;F6</title>\n",
       "<path fill=\"none\" stroke=\"black\" d=\"M367.28,-45.6203C366.358,-55.9065 369.176,-64.8937 375.734,-64.8937 379.936,-64.8937 382.602,-61.2054 383.734,-55.85\"/>\n",
       "<polygon fill=\"black\" stroke=\"black\" points=\"387.241,-55.766 384.189,-45.6203 380.248,-55.4549 387.241,-55.766\"/>\n",
       "<text text-anchor=\"middle\" x=\"375.734\" y=\"-81.6937\" font-family=\"Times,serif\" font-size=\"14.00\">b </text>\n",
       "<text text-anchor=\"middle\" x=\"375.734\" y=\"-67.6937\" font-family=\"Times,serif\" font-size=\"14.00\"> a</text>\n",
       "</g>\n",
       "<!-- F2&#45;&gt;S7 -->\n",
       "<g id=\"edge3\" class=\"edge\"><title>F2&#45;&gt;S7</title>\n",
       "<path fill=\"none\" stroke=\"black\" d=\"M220.453,-23.4469C231.45,-23.4469 244.809,-23.4469 256.541,-23.4469\"/>\n",
       "<polygon fill=\"black\" stroke=\"black\" points=\"256.743,-26.947 266.743,-23.4469 256.743,-19.947 256.743,-26.947\"/>\n",
       "<text text-anchor=\"middle\" x=\"243.644\" y=\"-40.2469\" font-family=\"Times,serif\" font-size=\"14.00\">b </text>\n",
       "<text text-anchor=\"middle\" x=\"243.644\" y=\"-26.2469\" font-family=\"Times,serif\" font-size=\"14.00\"> a</text>\n",
       "</g>\n",
       "</g>\n",
       "</svg>\n"
      ],
      "text/plain": [
       "<graphviz.dot.Digraph at 0x1049a0c88>"
      ]
     },
     "execution_count": 28,
     "metadata": {},
     "output_type": "execute_result"
    }
   ],
   "source": [
    "# Same result as standard minimization\n",
    "\n",
    "dotObj_dfa(min_dfa(blimp), FuseEdges = True)"
   ]
  },
  {
   "cell_type": "code",
   "execution_count": null,
   "metadata": {
    "run_control": {
     "frozen": false,
     "read_only": false
    }
   },
   "outputs": [],
   "source": []
  }
 ],
 "metadata": {
  "kernelspec": {
   "display_name": "Python 3",
   "language": "python",
   "name": "python3"
  },
  "language_info": {
   "codemirror_mode": {
    "name": "ipython",
    "version": 3
   },
   "file_extension": ".py",
   "mimetype": "text/x-python",
   "name": "python",
   "nbconvert_exporter": "python",
   "pygments_lexer": "ipython3",
   "version": "3.6.0"
  },
  "toc": {
   "colors": {
    "hover_highlight": "#DAA520",
    "running_highlight": "#FF0000",
    "selected_highlight": "#FFD700"
   },
   "moveMenuLeft": true,
   "nav_menu": {
    "height": "121px",
    "width": "252px"
   },
   "navigate_menu": true,
   "number_sections": true,
   "sideBar": true,
   "threshold": 4,
   "toc_cell": false,
   "toc_section_display": "block",
   "toc_window_display": false,
   "widenNotebook": false
  }
 },
 "nbformat": 4,
 "nbformat_minor": 2
}
