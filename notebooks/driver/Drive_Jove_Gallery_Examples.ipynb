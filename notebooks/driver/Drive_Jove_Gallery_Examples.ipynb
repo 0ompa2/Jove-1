{
 "cells": [
  {
   "cell_type": "markdown",
   "metadata": {
    "run_control": {
     "frozen": false,
     "read_only": false
    }
   },
   "source": [
    "# Jove helps teach models of computation using Jupyter \n",
    "\n",
    "Included are modules on:\n",
    "\n",
    "* Sets, strings and languages\n",
    "* Language operations\n",
    "* Construction of and operations on DFA and NFA\n",
    "* Regular expression parsing and automata inter-conversion\n",
    "* Derivate-based parsing\n",
    "* Pushdown automata\n",
    "* The construction of parsers using context-free productions, including\n",
    "  a full lexer/parser for Jove's own markdown syntax\n",
    "* Studies of parsing: ambiguity, associativity, precedence\n",
    "* Turing machines (including one for the Collatz problem)\n",
    "\n",
    "For a complete Jove top-level reference, kindly refer to https://github.com/ganeshutah/Jove from where you can download and obtain Jove. You can also visit this Github link now and poke around (the NBViewer will display the contents).\n",
    "\n",
    "Once you are in the top-level Gallery link we provide, feel free to explore the hierarchy of modules found there.\n",
    "\n",
    "These notebooks should give you an idea of the contents.\n",
    "\n",
    "* [DFA Illustrations (has a Youtube)](http://nbviewer.jupyter.org/github/ganeshutah/Jove/blob/master/notebooks/tutorial/DFAUnit2.ipynb)\n",
    "\n",
    "* [Regular Operations](http://nbviewer.jupyter.org/github/ganeshutah/Jove/blob/master/notebooks/driver/Drive_AllRegularOps.ipynb)\n",
    "\n",
    "* [PDA Operations](http://nbviewer.jupyter.org/github/ganeshutah/Jove/blob/master/notebooks/driver/Drive_PDA_Based_Parsing.ipynb)\n",
    "\n",
    "* [TM Operations](http://nbviewer.jupyter.org/github/ganeshutah/Jove/blob/master/notebooks/driver/Drive_TM.ipynb)"
   ]
  },
  {
   "cell_type": "code",
   "execution_count": 243,
   "metadata": {
    "run_control": {
     "frozen": false,
     "read_only": false
    }
   },
   "outputs": [
    {
     "data": {
      "image/jpeg": "[encoded data removed]",
      "text/html": [
       "\n",
       "        <iframe\n",
       "            width=\"400\"\n",
       "            height=\"300\"\n",
       "            src=\"https://www.youtube.com/embed/dGcLHtYLgDU\"\n",
       "            frameborder=\"0\"\n",
       "            allowfullscreen\n",
       "        ></iframe>\n",
       "        "
      ],
      "text/plain": [
       "<IPython.lib.display.YouTubeVideo at 0x10e129e10>"
      ]
     },
     "execution_count": 243,
     "metadata": {},
     "output_type": "execute_result"
    }
   ],
   "source": [
    "from IPython.display import YouTubeVideo\n",
    "YouTubeVideo('dGcLHtYLgDU')"
   ]
  },
  {
   "cell_type": "code",
   "execution_count": 244,
   "metadata": {
    "run_control": {
     "frozen": false,
     "read_only": false
    }
   },
   "outputs": [],
   "source": [
    "from jove.DotBashers import *\n",
    "from jove.Def_DFA import *\n",
    "from jove.Def_NFA import *\n",
    "from jove.Def_RE2NFA import *\n",
    "from jove.Def_NFA2RE import *\n",
    "from jove.Def_md2mc import *"
   ]
  },
  {
   "cell_type": "markdown",
   "metadata": {
    "run_control": {
     "frozen": false,
     "read_only": false
    }
   },
   "source": [
    " # Jove allows you to set problems in markdown and have students solve"
   ]
  },
  {
   "cell_type": "markdown",
   "metadata": {
    "run_control": {
     "frozen": false,
     "read_only": false
    }
   },
   "source": [
    "1) LOdd1Three0 : Set of strings over {0,1} with an odd # of 1s OR exactly three 0s. \n",
    "\n",
    "* Hint on how to arrive at the language:\n",
    "\n",
    "  - develop NFAs for the two cases and perform their union. Obtain DFA\n",
    "\n",
    "  - develop REs for the two cases and perform the union. \n",
    "\n",
    "  - Testing the creations:\n",
    "\n",
    "    .   Come up with language for even # of 1s and separately for \"other than three 0s\". \n",
    " \n",
    "    .   Do two intersections. \n",
    " \n",
    "    .   Is the language empty?\n",
    "\n",
    "\n",
    "2) Language of strings over {0,1} with exactly two occurrences of 0101 in it.\n",
    "\n",
    " * Come up with it directly (take overlaps into account, i.e. 010101 has two occurrences in it\n",
    "\n",
    " * Come up in another way\n",
    "\n",
    "Notes:\n",
    "\n",
    "* Most of the problem students will have in this course is interpreting English (technical English)\n",
    "\n",
    "* So again, read the writeup at the beginning of Module6 (should be ready soon today) and work on using the tool.\n",
    "\n",
    "\n",
    "\n"
   ]
  },
  {
   "cell_type": "markdown",
   "metadata": {
    "run_control": {
     "frozen": false,
     "read_only": false
    }
   },
   "source": [
    "__Solutions__\n",
    "\n",
    "1) LOdd1Three0 : Set of strings over {0,1} with an odd # of 1s OR exactly three 0s. \n",
    "\n",
    "* Hint on how to arrive at the language:\n",
    "\n",
    "  - develop NFAs for the two cases and perform their union. Obtain DFA\n",
    "\n",
    "  - develop REs for the two cases and perform the union. \n",
    "\n",
    "  - Testing the creations:\n",
    "\n",
    "    .   Come up with language for even # of 1s and separately for \"other than three 0s\". \n",
    " \n",
    "    .   Do two intersections. \n",
    " \n",
    "    .   Is the language empty?\n",
    "\n",
    "\n",
    "2) Language of strings over {0,1} with exactly two occurrences of 0101 in it.\n",
    "\n",
    " * Come up with it directly (take overlaps into account, i.e. 010101 has two occurrences in it\n",
    "\n",
    " * Come up in another way\n",
    "\n",
    "Notes:\n",
    "\n",
    "* Most of the problem students will have in this course is interpreting English (technical English)\n",
    "\n",
    "* So again, read the writeup at the beginning of Module6 (should be ready soon today) and work on using the tool.\n",
    "\n",
    "\n",
    "\n"
   ]
  },
  {
   "cell_type": "code",
   "execution_count": 245,
   "metadata": {
    "run_control": {
     "frozen": false,
     "read_only": false
    }
   },
   "outputs": [
    {
     "data": {
      "image/svg+xml": [
       "<?xml version=\"1.0\" encoding=\"UTF-8\" standalone=\"no\"?>\n",
       "<!DOCTYPE svg PUBLIC \"-//W3C//DTD SVG 1.1//EN\"\n",
       " \"http://www.w3.org/Graphics/SVG/1.1/DTD/svg11.dtd\">\n",
       "<!-- Generated by graphviz version 2.38.0 (20140413.2041)\n",
       " -->\n",
       "<!-- Title: %3 Pages: 1 -->\n",
       "<svg width=\"238pt\" height=\"92pt\"\n",
       " viewBox=\"0.00 0.00 237.62 91.81\" xmlns=\"http://www.w3.org/2000/svg\" xmlns:xlink=\"http://www.w3.org/1999/xlink\">\n",
       "<g id=\"graph0\" class=\"graph\" transform=\"scale(1 1) rotate(0) translate(4 87.8077)\">\n",
       "<title>%3</title>\n",
       "<polygon fill=\"white\" stroke=\"none\" points=\"-4,4 -4,-87.8077 233.615,-87.8077 233.615,4 -4,4\"/>\n",
       "<!-- EMPTY -->\n",
       "<g id=\"node1\" class=\"node\"><title>EMPTY</title>\n",
       "</g>\n",
       "<!-- St0 -->\n",
       "<g id=\"node2\" class=\"node\"><title>St0</title>\n",
       "<ellipse fill=\"none\" stroke=\"black\" cx=\"112.904\" cy=\"-25.9039\" rx=\"21.8081\" ry=\"21.8081\"/>\n",
       "<text text-anchor=\"middle\" x=\"112.904\" y=\"-21.7039\" font-family=\"Times,serif\" font-size=\"14.00\">St0</text>\n",
       "</g>\n",
       "<!-- EMPTY&#45;&gt;St0 -->\n",
       "<g id=\"edge1\" class=\"edge\"><title>EMPTY&#45;&gt;St0</title>\n",
       "<path fill=\"none\" stroke=\"black\" d=\"M54.0878,-25.9039C62.501,-25.9039 71.9126,-25.9039 80.6587,-25.9039\"/>\n",
       "<polygon fill=\"black\" stroke=\"black\" points=\"80.8854,-29.404 90.8853,-25.9039 80.8853,-22.404 80.8854,-29.404\"/>\n",
       "</g>\n",
       "<!-- St0&#45;&gt;St0 -->\n",
       "<g id=\"edge3\" class=\"edge\"><title>St0&#45;&gt;St0</title>\n",
       "<path fill=\"none\" stroke=\"black\" d=\"M105.587,-46.8442C104.684,-56.9164 107.123,-65.8077 112.904,-65.8077 116.607,-65.8077 118.939,-62.1587 119.9,-56.8879\"/>\n",
       "<polygon fill=\"black\" stroke=\"black\" points=\"123.399,-56.9509 120.221,-46.8442 116.403,-56.7272 123.399,-56.9509\"/>\n",
       "<text text-anchor=\"middle\" x=\"112.904\" y=\"-68.6077\" font-family=\"Times,serif\" font-size=\"14.00\">0</text>\n",
       "</g>\n",
       "<!-- St1 -->\n",
       "<g id=\"node3\" class=\"node\"><title>St1</title>\n",
       "<ellipse fill=\"none\" stroke=\"black\" cx=\"203.712\" cy=\"-25.9039\" rx=\"21.8229\" ry=\"21.8229\"/>\n",
       "<ellipse fill=\"none\" stroke=\"black\" cx=\"203.712\" cy=\"-25.9039\" rx=\"25.8081\" ry=\"25.8081\"/>\n",
       "<text text-anchor=\"middle\" x=\"203.712\" y=\"-21.7039\" font-family=\"Times,serif\" font-size=\"14.00\">St1</text>\n",
       "</g>\n",
       "<!-- St0&#45;&gt;St1 -->\n",
       "<g id=\"edge2\" class=\"edge\"><title>St0&#45;&gt;St1</title>\n",
       "<path fill=\"none\" stroke=\"black\" d=\"M134.95,-25.9039C144.668,-25.9039 156.471,-25.9039 167.487,-25.9039\"/>\n",
       "<polygon fill=\"black\" stroke=\"black\" points=\"167.713,-29.404 177.713,-25.9039 167.713,-22.404 167.713,-29.404\"/>\n",
       "<text text-anchor=\"middle\" x=\"156.308\" y=\"-28.7039\" font-family=\"Times,serif\" font-size=\"14.00\">1</text>\n",
       "</g>\n",
       "<!-- St1&#45;&gt;St0 -->\n",
       "<g id=\"edge4\" class=\"edge\"><title>St1&#45;&gt;St0</title>\n",
       "<path fill=\"none\" stroke=\"black\" d=\"M181.21,-12.4447C172.537,-8.53035 162.342,-5.80503 152.808,-7.90386 149.101,-8.71982 145.327,-9.92505 141.66,-11.3321\"/>\n",
       "<polygon fill=\"black\" stroke=\"black\" points=\"140.092,-8.19721 132.322,-15.3991 142.888,-14.615 140.092,-8.19721\"/>\n",
       "<text text-anchor=\"middle\" x=\"156.308\" y=\"-10.7039\" font-family=\"Times,serif\" font-size=\"14.00\">1</text>\n",
       "</g>\n",
       "<!-- St1&#45;&gt;St1 -->\n",
       "<g id=\"edge5\" class=\"edge\"><title>St1&#45;&gt;St1</title>\n",
       "<path fill=\"none\" stroke=\"black\" d=\"M195.162,-50.7276C194.573,-61.0541 197.423,-69.8077 203.712,-69.8077 207.741,-69.8077 210.358,-66.2152 211.564,-60.9182\"/>\n",
       "<polygon fill=\"black\" stroke=\"black\" points=\"215.07,-60.9431 212.261,-50.7276 208.087,-60.4654 215.07,-60.9431\"/>\n",
       "<text text-anchor=\"middle\" x=\"203.712\" y=\"-72.6077\" font-family=\"Times,serif\" font-size=\"14.00\">0</text>\n",
       "</g>\n",
       "</g>\n",
       "</svg>\n"
      ],
      "text/plain": [
       "<graphviz.dot.Digraph at 0x10e2123c8>"
      ]
     },
     "execution_count": 245,
     "metadata": {},
     "output_type": "execute_result"
    }
   ],
   "source": [
    "RE_Odd1s  = \"(0* 1 0* (1 0* 1 0*)*)\"\n",
    "NFA_Odd1s = re2nfa(RE_Odd1s)\n",
    "DO_Odd1s  = dotObj_dfa(min_dfa(nfa2dfa(NFA_Odd1s)))\n",
    "DO_Odd1s"
   ]
  },
  {
   "cell_type": "code",
   "execution_count": 246,
   "metadata": {
    "run_control": {
     "frozen": false,
     "read_only": false
    }
   },
   "outputs": [
    {
     "data": {
      "image/svg+xml": [
       "<?xml version=\"1.0\" encoding=\"UTF-8\" standalone=\"no\"?>\n",
       "<!DOCTYPE svg PUBLIC \"-//W3C//DTD SVG 1.1//EN\"\n",
       " \"http://www.w3.org/Graphics/SVG/1.1/DTD/svg11.dtd\">\n",
       "<!-- Generated by graphviz version 2.38.0 (20140413.2041)\n",
       " -->\n",
       "<!-- Title: %3 Pages: 1 -->\n",
       "<svg width=\"653pt\" height=\"281pt\"\n",
       " viewBox=\"0.00 0.00 653.06 280.65\" xmlns=\"http://www.w3.org/2000/svg\" xmlns:xlink=\"http://www.w3.org/1999/xlink\">\n",
       "<g id=\"graph0\" class=\"graph\" transform=\"scale(1 1) rotate(0) translate(4 276.651)\">\n",
       "<title>%3</title>\n",
       "<polygon fill=\"white\" stroke=\"none\" points=\"-4,4 -4,-276.651 649.064,-276.651 649.064,4 -4,4\"/>\n",
       "<!-- EMPTY -->\n",
       "<g id=\"node1\" class=\"node\"><title>EMPTY</title>\n",
       "</g>\n",
       "<!-- St22 -->\n",
       "<g id=\"node4\" class=\"node\"><title>St22</title>\n",
       "<ellipse fill=\"none\" stroke=\"black\" cx=\"117.326\" cy=\"-67.3256\" rx=\"26.1523\" ry=\"26.1523\"/>\n",
       "<text text-anchor=\"middle\" x=\"117.326\" y=\"-63.1256\" font-family=\"Times,serif\" font-size=\"14.00\">St22</text>\n",
       "</g>\n",
       "<!-- EMPTY&#45;&gt;St22 -->\n",
       "<g id=\"edge1\" class=\"edge\"><title>EMPTY&#45;&gt;St22</title>\n",
       "<path fill=\"none\" stroke=\"black\" d=\"M54.0229,-67.3256C62.3619,-67.3256 71.7453,-67.3256 80.6503,-67.3256\"/>\n",
       "<polygon fill=\"black\" stroke=\"black\" points=\"80.793,-70.8257 90.793,-67.3256 80.793,-63.8257 80.793,-70.8257\"/>\n",
       "</g>\n",
       "<!-- St29 -->\n",
       "<g id=\"node2\" class=\"node\"><title>St29</title>\n",
       "<ellipse fill=\"none\" stroke=\"black\" cx=\"320.628\" cy=\"-141.326\" rx=\"26.1523\" ry=\"26.1523\"/>\n",
       "<text text-anchor=\"middle\" x=\"320.628\" y=\"-137.126\" font-family=\"Times,serif\" font-size=\"14.00\">St29</text>\n",
       "</g>\n",
       "<!-- St2 -->\n",
       "<g id=\"node7\" class=\"node\"><title>St2</title>\n",
       "<ellipse fill=\"none\" stroke=\"black\" cx=\"419.857\" cy=\"-177.326\" rx=\"21.8229\" ry=\"21.8229\"/>\n",
       "<ellipse fill=\"none\" stroke=\"black\" cx=\"419.857\" cy=\"-177.326\" rx=\"25.8081\" ry=\"25.8081\"/>\n",
       "<text text-anchor=\"middle\" x=\"419.857\" y=\"-173.126\" font-family=\"Times,serif\" font-size=\"14.00\">St2</text>\n",
       "</g>\n",
       "<!-- St29&#45;&gt;St2 -->\n",
       "<g id=\"edge11\" class=\"edge\"><title>St29&#45;&gt;St2</title>\n",
       "<path fill=\"none\" stroke=\"black\" d=\"M345.662,-150.224C357.762,-154.704 372.618,-160.205 385.777,-165.077\"/>\n",
       "<polygon fill=\"black\" stroke=\"black\" points=\"384.842,-168.463 395.435,-168.653 387.273,-161.899 384.842,-168.463\"/>\n",
       "<text text-anchor=\"middle\" x=\"372.454\" y=\"-164.126\" font-family=\"Times,serif\" font-size=\"14.00\">0</text>\n",
       "</g>\n",
       "<!-- St6 -->\n",
       "<g id=\"node11\" class=\"node\"><title>St6</title>\n",
       "<ellipse fill=\"none\" stroke=\"black\" cx=\"419.857\" cy=\"-103.326\" rx=\"21.8229\" ry=\"21.8229\"/>\n",
       "<ellipse fill=\"none\" stroke=\"black\" cx=\"419.857\" cy=\"-103.326\" rx=\"25.8081\" ry=\"25.8081\"/>\n",
       "<text text-anchor=\"middle\" x=\"419.857\" y=\"-99.1256\" font-family=\"Times,serif\" font-size=\"14.00\">St6</text>\n",
       "</g>\n",
       "<!-- St29&#45;&gt;St6 -->\n",
       "<g id=\"edge10\" class=\"edge\"><title>St29&#45;&gt;St6</title>\n",
       "<path fill=\"none\" stroke=\"black\" d=\"M345.662,-131.932C357.762,-127.204 372.618,-121.397 385.777,-116.254\"/>\n",
       "<polygon fill=\"black\" stroke=\"black\" points=\"387.395,-119.38 395.435,-112.48 384.847,-112.86 387.395,-119.38\"/>\n",
       "<text text-anchor=\"middle\" x=\"372.454\" y=\"-125.126\" font-family=\"Times,serif\" font-size=\"14.00\">1</text>\n",
       "</g>\n",
       "<!-- St23 -->\n",
       "<g id=\"node3\" class=\"node\"><title>St23</title>\n",
       "<ellipse fill=\"none\" stroke=\"black\" cx=\"515.087\" cy=\"-214.326\" rx=\"26.1523\" ry=\"26.1523\"/>\n",
       "<text text-anchor=\"middle\" x=\"515.087\" y=\"-210.126\" font-family=\"Times,serif\" font-size=\"14.00\">St23</text>\n",
       "</g>\n",
       "<!-- St23&#45;&gt;St23 -->\n",
       "<g id=\"edge19\" class=\"edge\"><title>St23&#45;&gt;St23</title>\n",
       "<path fill=\"none\" stroke=\"black\" d=\"M506.538,-239.388C505.948,-249.813 508.798,-258.651 515.087,-258.651 519.116,-258.651 521.733,-255.024 522.939,-249.676\"/>\n",
       "<polygon fill=\"black\" stroke=\"black\" points=\"526.452,-249.601 523.636,-239.388 519.468,-249.128 526.452,-249.601\"/>\n",
       "<text text-anchor=\"middle\" x=\"515.087\" y=\"-261.451\" font-family=\"Times,serif\" font-size=\"14.00\">0</text>\n",
       "</g>\n",
       "<!-- St26 -->\n",
       "<g id=\"node6\" class=\"node\"><title>St26</title>\n",
       "<ellipse fill=\"none\" stroke=\"black\" cx=\"614.738\" cy=\"-177.326\" rx=\"26.1751\" ry=\"26.1751\"/>\n",
       "<ellipse fill=\"none\" stroke=\"black\" cx=\"614.738\" cy=\"-177.326\" rx=\"30.1522\" ry=\"30.1522\"/>\n",
       "<text text-anchor=\"middle\" x=\"614.738\" y=\"-173.126\" font-family=\"Times,serif\" font-size=\"14.00\">St26</text>\n",
       "</g>\n",
       "<!-- St23&#45;&gt;St26 -->\n",
       "<g id=\"edge18\" class=\"edge\"><title>St23&#45;&gt;St26</title>\n",
       "<path fill=\"none\" stroke=\"black\" d=\"M540.225,-205.18C551.189,-201.026 564.405,-196.018 576.591,-191.401\"/>\n",
       "<polygon fill=\"black\" stroke=\"black\" points=\"577.968,-194.622 586.08,-187.805 575.488,-188.076 577.968,-194.622\"/>\n",
       "<text text-anchor=\"middle\" x=\"562.913\" y=\"-199.126\" font-family=\"Times,serif\" font-size=\"14.00\">1</text>\n",
       "</g>\n",
       "<!-- St27 -->\n",
       "<g id=\"node5\" class=\"node\"><title>St27</title>\n",
       "<ellipse fill=\"none\" stroke=\"black\" cx=\"216.977\" cy=\"-105.326\" rx=\"26.1523\" ry=\"26.1523\"/>\n",
       "<text text-anchor=\"middle\" x=\"216.977\" y=\"-101.126\" font-family=\"Times,serif\" font-size=\"14.00\">St27</text>\n",
       "</g>\n",
       "<!-- St22&#45;&gt;St27 -->\n",
       "<g id=\"edge3\" class=\"edge\"><title>St22&#45;&gt;St27</title>\n",
       "<path fill=\"none\" stroke=\"black\" d=\"M142.464,-76.7189C154.526,-81.4126 169.315,-87.1678 182.459,-92.2823\"/>\n",
       "<polygon fill=\"black\" stroke=\"black\" points=\"181.527,-95.6756 192.116,-96.0404 184.066,-89.1521 181.527,-95.6756\"/>\n",
       "<text text-anchor=\"middle\" x=\"165.151\" y=\"-89.1256\" font-family=\"Times,serif\" font-size=\"14.00\">0</text>\n",
       "</g>\n",
       "<!-- St15 -->\n",
       "<g id=\"node9\" class=\"node\"><title>St15</title>\n",
       "<ellipse fill=\"none\" stroke=\"black\" cx=\"216.977\" cy=\"-30.3256\" rx=\"26.1751\" ry=\"26.1751\"/>\n",
       "<ellipse fill=\"none\" stroke=\"black\" cx=\"216.977\" cy=\"-30.3256\" rx=\"30.1522\" ry=\"30.1522\"/>\n",
       "<text text-anchor=\"middle\" x=\"216.977\" y=\"-26.1256\" font-family=\"Times,serif\" font-size=\"14.00\">St15</text>\n",
       "</g>\n",
       "<!-- St22&#45;&gt;St15 -->\n",
       "<g id=\"edge2\" class=\"edge\"><title>St22&#45;&gt;St15</title>\n",
       "<path fill=\"none\" stroke=\"black\" d=\"M142.464,-58.1795C153.427,-54.0256 166.644,-49.0179 178.829,-44.4007\"/>\n",
       "<polygon fill=\"black\" stroke=\"black\" points=\"180.207,-47.6216 188.318,-40.8054 177.727,-41.0757 180.207,-47.6216\"/>\n",
       "<text text-anchor=\"middle\" x=\"165.151\" y=\"-53.1256\" font-family=\"Times,serif\" font-size=\"14.00\">1</text>\n",
       "</g>\n",
       "<!-- St27&#45;&gt;St29 -->\n",
       "<g id=\"edge7\" class=\"edge\"><title>St27&#45;&gt;St29</title>\n",
       "<path fill=\"none\" stroke=\"black\" d=\"M242.067,-113.857C255.137,-118.486 271.505,-124.283 285.832,-129.357\"/>\n",
       "<polygon fill=\"black\" stroke=\"black\" points=\"284.764,-132.691 295.359,-132.731 287.101,-126.093 284.764,-132.691\"/>\n",
       "<text text-anchor=\"middle\" x=\"268.802\" y=\"-128.126\" font-family=\"Times,serif\" font-size=\"14.00\">0</text>\n",
       "</g>\n",
       "<!-- St16 -->\n",
       "<g id=\"node10\" class=\"node\"><title>St16</title>\n",
       "<ellipse fill=\"none\" stroke=\"black\" cx=\"320.628\" cy=\"-66.3256\" rx=\"26.1751\" ry=\"26.1751\"/>\n",
       "<ellipse fill=\"none\" stroke=\"black\" cx=\"320.628\" cy=\"-66.3256\" rx=\"30.1522\" ry=\"30.1522\"/>\n",
       "<text text-anchor=\"middle\" x=\"320.628\" y=\"-62.1256\" font-family=\"Times,serif\" font-size=\"14.00\">St16</text>\n",
       "</g>\n",
       "<!-- St27&#45;&gt;St16 -->\n",
       "<g id=\"edge6\" class=\"edge\"><title>St27&#45;&gt;St16</title>\n",
       "<path fill=\"none\" stroke=\"black\" d=\"M241.809,-96.1818C253.898,-91.5439 268.856,-85.8049 282.418,-80.6017\"/>\n",
       "<polygon fill=\"black\" stroke=\"black\" points=\"283.903,-83.7809 291.986,-76.931 281.395,-77.2454 283.903,-83.7809\"/>\n",
       "<text text-anchor=\"middle\" x=\"268.802\" y=\"-90.1256\" font-family=\"Times,serif\" font-size=\"14.00\">1</text>\n",
       "</g>\n",
       "<!-- St26&#45;&gt;St23 -->\n",
       "<g id=\"edge20\" class=\"edge\"><title>St26&#45;&gt;St23</title>\n",
       "<path fill=\"none\" stroke=\"black\" d=\"M584.599,-173.617C576.253,-173.535 567.288,-174.42 559.413,-177.326 552.803,-179.764 546.518,-183.709 540.889,-188.134\"/>\n",
       "<polygon fill=\"black\" stroke=\"black\" points=\"538.414,-185.647 533.148,-194.841 542.998,-190.937 538.414,-185.647\"/>\n",
       "<text text-anchor=\"middle\" x=\"562.913\" y=\"-180.126\" font-family=\"Times,serif\" font-size=\"14.00\">1</text>\n",
       "</g>\n",
       "<!-- St26&#45;&gt;St26 -->\n",
       "<g id=\"edge21\" class=\"edge\"><title>St26&#45;&gt;St26</title>\n",
       "<path fill=\"none\" stroke=\"black\" d=\"M605.372,-206.58C605.171,-217.086 608.293,-225.651 614.738,-225.651 618.867,-225.651 621.632,-222.136 623.033,-216.847\"/>\n",
       "<polygon fill=\"black\" stroke=\"black\" points=\"626.548,-216.889 624.104,-206.58 619.586,-216.163 626.548,-216.889\"/>\n",
       "<text text-anchor=\"middle\" x=\"614.738\" y=\"-228.451\" font-family=\"Times,serif\" font-size=\"14.00\">0</text>\n",
       "</g>\n",
       "<!-- St2&#45;&gt;St23 -->\n",
       "<g id=\"edge15\" class=\"edge\"><title>St2&#45;&gt;St23</title>\n",
       "<path fill=\"none\" stroke=\"black\" d=\"M444.383,-186.662C455.45,-191.054 468.839,-196.368 480.913,-201.16\"/>\n",
       "<polygon fill=\"black\" stroke=\"black\" points=\"479.659,-204.428 490.244,-204.863 482.241,-197.921 479.659,-204.428\"/>\n",
       "<text text-anchor=\"middle\" x=\"467.261\" y=\"-199.126\" font-family=\"Times,serif\" font-size=\"14.00\">0</text>\n",
       "</g>\n",
       "<!-- St8 -->\n",
       "<g id=\"node8\" class=\"node\"><title>St8</title>\n",
       "<ellipse fill=\"none\" stroke=\"black\" cx=\"515.087\" cy=\"-140.326\" rx=\"21.8229\" ry=\"21.8229\"/>\n",
       "<ellipse fill=\"none\" stroke=\"black\" cx=\"515.087\" cy=\"-140.326\" rx=\"25.8081\" ry=\"25.8081\"/>\n",
       "<text text-anchor=\"middle\" x=\"515.087\" y=\"-136.126\" font-family=\"Times,serif\" font-size=\"14.00\">St8</text>\n",
       "</g>\n",
       "<!-- St2&#45;&gt;St8 -->\n",
       "<g id=\"edge14\" class=\"edge\"><title>St2&#45;&gt;St8</title>\n",
       "<path fill=\"none\" stroke=\"black\" d=\"M444.383,-167.989C455.535,-163.563 469.045,-158.201 481.191,-153.381\"/>\n",
       "<polygon fill=\"black\" stroke=\"black\" points=\"482.565,-156.601 490.569,-149.659 479.983,-150.095 482.565,-156.601\"/>\n",
       "<text text-anchor=\"middle\" x=\"467.261\" y=\"-163.126\" font-family=\"Times,serif\" font-size=\"14.00\">1</text>\n",
       "</g>\n",
       "<!-- St8&#45;&gt;St26 -->\n",
       "<g id=\"edge17\" class=\"edge\"><title>St8&#45;&gt;St26</title>\n",
       "<path fill=\"none\" stroke=\"black\" d=\"M540.948,-137.778C549.243,-137.719 558.407,-138.538 566.413,-141.326 572.554,-143.464 578.54,-146.731 584.073,-150.44\"/>\n",
       "<polygon fill=\"black\" stroke=\"black\" points=\"582.226,-153.426 592.354,-156.535 586.375,-147.789 582.226,-153.426\"/>\n",
       "<text text-anchor=\"middle\" x=\"562.913\" y=\"-144.126\" font-family=\"Times,serif\" font-size=\"14.00\">0</text>\n",
       "</g>\n",
       "<!-- St8&#45;&gt;St2 -->\n",
       "<g id=\"edge16\" class=\"edge\"><title>St8&#45;&gt;St2</title>\n",
       "<path fill=\"none\" stroke=\"black\" d=\"M489.155,-136.909C480.855,-136.658 471.705,-137.373 463.761,-140.326 457.195,-142.766 450.962,-146.712 445.384,-151.137\"/>\n",
       "<polygon fill=\"black\" stroke=\"black\" points=\"442.941,-148.625 437.72,-157.844 447.55,-153.893 442.941,-148.625\"/>\n",
       "<text text-anchor=\"middle\" x=\"467.261\" y=\"-143.126\" font-family=\"Times,serif\" font-size=\"14.00\">1</text>\n",
       "</g>\n",
       "<!-- St15&#45;&gt;St22 -->\n",
       "<g id=\"edge4\" class=\"edge\"><title>St15&#45;&gt;St22</title>\n",
       "<path fill=\"none\" stroke=\"black\" d=\"M186.549,-27.3158C178.283,-27.4116 169.432,-28.4335 161.651,-31.3256 155.395,-33.651 149.395,-37.2952 143.959,-41.3898\"/>\n",
       "<polygon fill=\"black\" stroke=\"black\" points=\"141.378,-38.9848 135.927,-48.07 145.853,-44.3669 141.378,-38.9848\"/>\n",
       "<text text-anchor=\"middle\" x=\"165.151\" y=\"-34.1256\" font-family=\"Times,serif\" font-size=\"14.00\">1</text>\n",
       "</g>\n",
       "<!-- St15&#45;&gt;St16 -->\n",
       "<g id=\"edge5\" class=\"edge\"><title>St15&#45;&gt;St16</title>\n",
       "<path fill=\"none\" stroke=\"black\" d=\"M247.303,-27.6014C255.567,-27.7017 264.443,-28.6546 272.302,-31.3256 278.129,-33.3057 283.833,-36.2909 289.15,-39.6987\"/>\n",
       "<polygon fill=\"black\" stroke=\"black\" points=\"287.499,-42.8176 297.685,-45.7302 291.538,-37.1008 287.499,-42.8176\"/>\n",
       "<text text-anchor=\"middle\" x=\"268.802\" y=\"-34.1256\" font-family=\"Times,serif\" font-size=\"14.00\">0</text>\n",
       "</g>\n",
       "<!-- St16&#45;&gt;St27 -->\n",
       "<g id=\"edge8\" class=\"edge\"><title>St16&#45;&gt;St27</title>\n",
       "<path fill=\"none\" stroke=\"black\" d=\"M290.231,-63.4003C281.966,-63.4974 273.107,-64.4989 265.302,-67.3256 257.5,-70.1512 250.02,-74.8343 243.402,-79.9647\"/>\n",
       "<polygon fill=\"black\" stroke=\"black\" points=\"240.919,-77.4798 235.521,-86.5962 245.426,-82.836 240.919,-77.4798\"/>\n",
       "<text text-anchor=\"middle\" x=\"268.802\" y=\"-70.1256\" font-family=\"Times,serif\" font-size=\"14.00\">1</text>\n",
       "</g>\n",
       "<!-- St16&#45;&gt;St6 -->\n",
       "<g id=\"edge9\" class=\"edge\"><title>St16&#45;&gt;St6</title>\n",
       "<path fill=\"none\" stroke=\"black\" d=\"M351.065,-63.2916C359.331,-63.387 368.18,-64.4148 375.954,-67.3256 382.439,-69.7538 388.636,-73.6171 394.204,-77.9292\"/>\n",
       "<polygon fill=\"black\" stroke=\"black\" points=\"391.987,-80.6383 401.871,-84.453 396.523,-75.307 391.987,-80.6383\"/>\n",
       "<text text-anchor=\"middle\" x=\"372.454\" y=\"-70.1256\" font-family=\"Times,serif\" font-size=\"14.00\">0</text>\n",
       "</g>\n",
       "<!-- St6&#45;&gt;St29 -->\n",
       "<g id=\"edge12\" class=\"edge\"><title>St6&#45;&gt;St29</title>\n",
       "<path fill=\"none\" stroke=\"black\" d=\"M393.938,-100.091C385.779,-99.8754 376.8,-100.565 368.954,-103.326 361.126,-106.079 353.636,-110.735 347.016,-115.861\"/>\n",
       "<polygon fill=\"black\" stroke=\"black\" points=\"344.53,-113.379 339.137,-122.499 349.04,-118.733 344.53,-113.379\"/>\n",
       "<text text-anchor=\"middle\" x=\"372.454\" y=\"-106.126\" font-family=\"Times,serif\" font-size=\"14.00\">1</text>\n",
       "</g>\n",
       "<!-- St6&#45;&gt;St8 -->\n",
       "<g id=\"edge13\" class=\"edge\"><title>St6&#45;&gt;St8</title>\n",
       "<path fill=\"none\" stroke=\"black\" d=\"M445.836,-100.605C453.999,-100.554 462.966,-101.421 470.761,-104.326 477.288,-106.757 483.536,-110.622 489.156,-114.935\"/>\n",
       "<polygon fill=\"black\" stroke=\"black\" points=\"486.996,-117.692 496.899,-121.459 491.507,-112.339 486.996,-117.692\"/>\n",
       "<text text-anchor=\"middle\" x=\"467.261\" y=\"-107.126\" font-family=\"Times,serif\" font-size=\"14.00\">0</text>\n",
       "</g>\n",
       "</g>\n",
       "</svg>\n"
      ],
      "text/plain": [
       "<graphviz.dot.Digraph at 0x10e212f28>"
      ]
     },
     "execution_count": 246,
     "metadata": {},
     "output_type": "execute_result"
    }
   ],
   "source": [
    "RE_Ex3z = \"1* 0 1* 0 1* 0 1* + (0* 1 0* (1 0* 1 0*)*)\"\n",
    "NFA_Ex3z = re2nfa(RE_Ex3z)\n",
    "DO_Ex3z  = dotObj_dfa(min_dfa(nfa2dfa(NFA_Ex3z)))\n",
    "DO_Ex3z"
   ]
  },
  {
   "cell_type": "markdown",
   "metadata": {
    "run_control": {
     "frozen": false,
     "read_only": false
    }
   },
   "source": [
    "# Check out all remaining modules of Jove covering these\n",
    "\n",
    "* Brzozowski derivatives for parsing\n",
    "* Brzozowski minimization\n",
    "* Context-free parsing\n",
    "* (soon to come) [Binary Decision Diagrams; obtain now from software/ at](http://www.cs.utah.edu/fv)\n",
    "* (soon to come) Post Correspondence Problem"
   ]
  }
 ],
 "metadata": {
  "kernelspec": {
   "display_name": "Python 3",
   "language": "python",
   "name": "python3"
  },
  "language_info": {
   "codemirror_mode": {
    "name": "ipython",
    "version": 3
   },
   "file_extension": ".py",
   "mimetype": "text/x-python",
   "name": "python",
   "nbconvert_exporter": "python",
   "pygments_lexer": "ipython3",
   "version": "3.6.0"
  },
  "toc": {
   "colors": {
    "hover_highlight": "#DAA520",
    "running_highlight": "#FF0000",
    "selected_highlight": "#FFD700"
   },
   "moveMenuLeft": true,
   "nav_menu": {
    "height": "318px",
    "width": "252px"
   },
   "navigate_menu": true,
   "number_sections": true,
   "sideBar": true,
   "threshold": 4,
   "toc_cell": false,
   "toc_section_display": "block",
   "toc_window_display": false,
   "widenNotebook": false
  }
 },
 "nbformat": 4,
 "nbformat_minor": 2
}
