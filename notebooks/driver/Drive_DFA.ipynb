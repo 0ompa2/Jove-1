{
 "cells": [
  {
   "cell_type": "code",
   "execution_count": 1,
   "metadata": {
    "run_control": {
     "frozen": false,
     "read_only": false
    }
   },
   "outputs": [
    {
     "name": "stdout",
     "output_type": "stream",
     "text": [
      "You may use any of these help commands:\n",
      "help(ResetStNum)\n",
      "help(NxtStateStr)\n",
      "\n",
      "You may use any of these help commands:\n",
      "help(md2mc)\n",
      ".. and if you want to dig more, then ..\n",
      "help(default_line_attr)\n",
      "help(length_ok_input_items)\n",
      "help(union_line_attr_list_fld)\n",
      "help(extend_rsltdict)\n",
      "help(form_delta)\n",
      "help(get_machine_components)\n",
      "\n",
      "You may use any of these help commands:\n",
      "help(mkp_dfa)\n",
      "help(mk_dfa)\n",
      "help(totalize_dfa)\n",
      "help(addtosigma_delta)\n",
      "help(step_dfa)\n",
      "help(run_dfa)\n",
      "help(accepts_dfa)\n",
      "help(comp_dfa)\n",
      "help(union_dfa)\n",
      "help(intersect_dfa)\n",
      "help(pruneUnreach)\n",
      "help(iso_dfa)\n",
      "help(langeq_dfa)\n",
      "help(same_status)\n",
      "help(h_langeq_dfa)\n",
      "help(fixptDist)\n",
      "help(min_dfa)\n",
      "help(pairFR)\n",
      "help(state_combos)\n",
      "help(sepFinNonFin)\n",
      "help(bash_eql_classes)\n",
      "help(listminus)\n",
      "help(bash_1)\n",
      "help(mk_rep_eqc)\n",
      "help(F_of)\n",
      "help(rep_of_s)\n",
      "help(q0_of)\n",
      "help(Delta_of)\n",
      "help(mk_state_eqc_name)\n",
      "\n"
     ]
    }
   ],
   "source": [
    "import sys\n",
    "sys.path[0:0] = ['../..']        # Append to the beginning of the search path\n",
    "from jove.DotBashers import *\n",
    "from jove.Def_md2mc  import *\n",
    "from jove.Def_DFA    import *"
   ]
  },
  {
   "cell_type": "code",
   "execution_count": 2,
   "metadata": {
    "run_control": {
     "frozen": false,
     "read_only": false
    }
   },
   "outputs": [
    {
     "name": "stderr",
     "output_type": "stream",
     "text": [
      "Generating LALR tables\n"
     ]
    }
   ],
   "source": [
    "ev0end1 = md2mc('''\n",
    "DFA\n",
    "I : 0 -> A\n",
    "A : 0 | 1 -> I\n",
    "I : 1 -> F\n",
    "F : 0 | 1 -> I\n",
    "''')"
   ]
  },
  {
   "cell_type": "code",
   "execution_count": 3,
   "metadata": {
    "run_control": {
     "frozen": false,
     "read_only": false
    }
   },
   "outputs": [],
   "source": [
    "doev0end1 = dotObj_dfa(ev0end1)"
   ]
  },
  {
   "cell_type": "code",
   "execution_count": 4,
   "metadata": {
    "run_control": {
     "frozen": false,
     "read_only": false
    }
   },
   "outputs": [
    {
     "data": {
      "text/plain": [
       "{'Delta': {('A', '0'): 'I',\n",
       "  ('A', '1'): 'I',\n",
       "  ('F', '0'): 'I',\n",
       "  ('F', '1'): 'I',\n",
       "  ('I', '0'): 'A',\n",
       "  ('I', '1'): 'F'},\n",
       " 'F': {'F'},\n",
       " 'Q': {'A', 'F', 'I'},\n",
       " 'Sigma': {'0', '1'},\n",
       " 'q0': 'I'}"
      ]
     },
     "execution_count": 4,
     "metadata": {},
     "output_type": "execute_result"
    }
   ],
   "source": [
    "ev0end1"
   ]
  },
  {
   "cell_type": "code",
   "execution_count": 5,
   "metadata": {
    "run_control": {
     "frozen": false,
     "read_only": false
    }
   },
   "outputs": [
    {
     "data": {
      "text/plain": [
       "'// do_St1\\ndigraph {\\n\\tgraph [rankdir=LR]\\n\\t\\tEMPTY [label=\"\" shape=plaintext]\\n\\t\\tI [label=I peripheries=1 shape=circle]\\n\\t\\tA [label=A peripheries=1 shape=circle]\\n\\t\\tF [label=F peripheries=2 shape=circle]\\n\\t\\t\\tEMPTY -> I\\n\\t\\t\\tI -> A [label=0]\\n\\t\\t\\tA -> I [label=0]\\n\\t\\t\\tA -> I [label=1]\\n\\t\\t\\tI -> F [label=1]\\n\\t\\t\\tF -> I [label=0]\\n\\t\\t\\tF -> I [label=1]\\n}'"
      ]
     },
     "execution_count": 5,
     "metadata": {},
     "output_type": "execute_result"
    }
   ],
   "source": [
    "doev0end1.source"
   ]
  },
  {
   "cell_type": "code",
   "execution_count": 6,
   "metadata": {
    "run_control": {
     "frozen": false,
     "read_only": false
    }
   },
   "outputs": [
    {
     "data": {
      "text/plain": [
       "True"
      ]
     },
     "execution_count": 6,
     "metadata": {},
     "output_type": "execute_result"
    }
   ],
   "source": [
    "is_partially_consistent_dfa(ev0end1)"
   ]
  },
  {
   "cell_type": "code",
   "execution_count": 7,
   "metadata": {
    "run_control": {
     "frozen": false,
     "read_only": false
    }
   },
   "outputs": [],
   "source": [
    "tev0end1 = totalize_dfa(ev0end1)"
   ]
  },
  {
   "cell_type": "code",
   "execution_count": 8,
   "metadata": {
    "run_control": {
     "frozen": false,
     "read_only": false
    }
   },
   "outputs": [
    {
     "data": {
      "image/svg+xml": [
       "<?xml version=\"1.0\" encoding=\"UTF-8\" standalone=\"no\"?>\n",
       "<!DOCTYPE svg PUBLIC \"-//W3C//DTD SVG 1.1//EN\"\n",
       " \"http://www.w3.org/Graphics/SVG/1.1/DTD/svg11.dtd\">\n",
       "<!-- Generated by graphviz version 2.38.0 (20140413.2041)\n",
       " -->\n",
       "<!-- Title: %3 Pages: 1 -->\n",
       "<svg width=\"222pt\" height=\"172pt\"\n",
       " viewBox=\"0.00 0.00 222.00 172.00\" xmlns=\"http://www.w3.org/2000/svg\" xmlns:xlink=\"http://www.w3.org/1999/xlink\">\n",
       "<g id=\"graph0\" class=\"graph\" transform=\"scale(1 1) rotate(0) translate(4 168)\">\n",
       "<title>%3</title>\n",
       "<polygon fill=\"white\" stroke=\"none\" points=\"-4,4 -4,-168 218,-168 218,4 -4,4\"/>\n",
       "<!-- EMPTY -->\n",
       "<g id=\"node1\" class=\"node\"><title>EMPTY</title>\n",
       "</g>\n",
       "<!-- I -->\n",
       "<g id=\"node2\" class=\"node\"><title>I</title>\n",
       "<ellipse fill=\"none\" stroke=\"black\" cx=\"109\" cy=\"-77\" rx=\"18\" ry=\"18\"/>\n",
       "<text text-anchor=\"middle\" x=\"109\" y=\"-72.8\" font-family=\"Times,serif\" font-size=\"14.00\">I</text>\n",
       "</g>\n",
       "<!-- EMPTY&#45;&gt;I -->\n",
       "<g id=\"edge1\" class=\"edge\"><title>EMPTY&#45;&gt;I</title>\n",
       "<path fill=\"none\" stroke=\"black\" d=\"M54.195,-77C62.6538,-77 72.0513,-77 80.5951,-77\"/>\n",
       "<polygon fill=\"black\" stroke=\"black\" points=\"80.8257,-80.5001 90.8257,-77 80.8257,-73.5001 80.8257,-80.5001\"/>\n",
       "</g>\n",
       "<!-- A -->\n",
       "<g id=\"node3\" class=\"node\"><title>A</title>\n",
       "<ellipse fill=\"none\" stroke=\"black\" cx=\"192\" cy=\"-133\" rx=\"18\" ry=\"18\"/>\n",
       "<text text-anchor=\"middle\" x=\"192\" y=\"-128.8\" font-family=\"Times,serif\" font-size=\"14.00\">A</text>\n",
       "</g>\n",
       "<!-- I&#45;&gt;A -->\n",
       "<g id=\"edge2\" class=\"edge\"><title>I&#45;&gt;A</title>\n",
       "<path fill=\"none\" stroke=\"black\" d=\"M113.197,-94.5657C117.324,-111.556 126.328,-136.387 145,-148 151.921,-152.305 160.204,-151.191 167.822,-148.148\"/>\n",
       "<polygon fill=\"black\" stroke=\"black\" points=\"169.62,-151.162 176.964,-143.525 166.461,-144.915 169.62,-151.162\"/>\n",
       "<text text-anchor=\"middle\" x=\"148.5\" y=\"-152.8\" font-family=\"Times,serif\" font-size=\"14.00\">0</text>\n",
       "</g>\n",
       "<!-- F -->\n",
       "<g id=\"node4\" class=\"node\"><title>F</title>\n",
       "<ellipse fill=\"none\" stroke=\"black\" cx=\"192\" cy=\"-22\" rx=\"18\" ry=\"18\"/>\n",
       "<ellipse fill=\"none\" stroke=\"black\" cx=\"192\" cy=\"-22\" rx=\"22\" ry=\"22\"/>\n",
       "<text text-anchor=\"middle\" x=\"192\" y=\"-17.8\" font-family=\"Times,serif\" font-size=\"14.00\">F</text>\n",
       "</g>\n",
       "<!-- I&#45;&gt;F -->\n",
       "<g id=\"edge5\" class=\"edge\"><title>I&#45;&gt;F</title>\n",
       "<path fill=\"none\" stroke=\"black\" d=\"M124.481,-67.1671C135.68,-59.5632 151.481,-48.8342 164.872,-39.7409\"/>\n",
       "<polygon fill=\"black\" stroke=\"black\" points=\"166.945,-42.564 173.252,-34.0509 163.013,-36.7728 166.945,-42.564\"/>\n",
       "<text text-anchor=\"middle\" x=\"148.5\" y=\"-54.8\" font-family=\"Times,serif\" font-size=\"14.00\">1</text>\n",
       "</g>\n",
       "<!-- A&#45;&gt;I -->\n",
       "<g id=\"edge3\" class=\"edge\"><title>A&#45;&gt;I</title>\n",
       "<path fill=\"none\" stroke=\"black\" d=\"M174.973,-126.858C165.797,-122.977 154.297,-117.477 145,-111 139.344,-107.059 133.747,-102.188 128.743,-97.3769\"/>\n",
       "<polygon fill=\"black\" stroke=\"black\" points=\"130.969,-94.6501 121.445,-90.0071 125.995,-99.5755 130.969,-94.6501\"/>\n",
       "<text text-anchor=\"middle\" x=\"148.5\" y=\"-116.8\" font-family=\"Times,serif\" font-size=\"14.00\">0</text>\n",
       "</g>\n",
       "<!-- A&#45;&gt;I -->\n",
       "<g id=\"edge4\" class=\"edge\"><title>A&#45;&gt;I</title>\n",
       "<path fill=\"none\" stroke=\"black\" d=\"M180.272,-119.266C173.04,-110.759 162.864,-100.133 152,-93 147.19,-89.8414 141.665,-87.1749 136.237,-84.9789\"/>\n",
       "<polygon fill=\"black\" stroke=\"black\" points=\"137.341,-81.656 126.746,-81.53 134.95,-88.235 137.341,-81.656\"/>\n",
       "<text text-anchor=\"middle\" x=\"148.5\" y=\"-95.8\" font-family=\"Times,serif\" font-size=\"14.00\">1</text>\n",
       "</g>\n",
       "<!-- F&#45;&gt;I -->\n",
       "<g id=\"edge6\" class=\"edge\"><title>F&#45;&gt;I</title>\n",
       "<path fill=\"none\" stroke=\"black\" d=\"M169.671,-22.9537C161.468,-24.1151 152.323,-26.4416 145,-31 136.366,-36.3744 129.083,-44.7026 123.435,-52.8036\"/>\n",
       "<polygon fill=\"black\" stroke=\"black\" points=\"120.404,-51.0455 117.96,-61.3545 126.3,-54.8199 120.404,-51.0455\"/>\n",
       "<text text-anchor=\"middle\" x=\"148.5\" y=\"-33.8\" font-family=\"Times,serif\" font-size=\"14.00\">0</text>\n",
       "</g>\n",
       "<!-- F&#45;&gt;I -->\n",
       "<g id=\"edge7\" class=\"edge\"><title>F&#45;&gt;I</title>\n",
       "<path fill=\"none\" stroke=\"black\" d=\"M173.045,-10.5006C164.141,-6.34636 153.502,-3.81404 145,-9 130.448,-17.8762 121.69,-34.9499 116.573,-49.7676\"/>\n",
       "<polygon fill=\"black\" stroke=\"black\" points=\"113.163,-48.9507 113.587,-59.5371 119.857,-50.9973 113.163,-48.9507\"/>\n",
       "<text text-anchor=\"middle\" x=\"148.5\" y=\"-11.8\" font-family=\"Times,serif\" font-size=\"14.00\">1</text>\n",
       "</g>\n",
       "</g>\n",
       "</svg>\n"
      ],
      "text/plain": [
       "<graphviz.dot.Digraph at 0x10a1fcb70>"
      ]
     },
     "execution_count": 8,
     "metadata": {},
     "output_type": "execute_result"
    }
   ],
   "source": [
    "dotObj_dfa_w_bh(tev0end1)"
   ]
  },
  {
   "cell_type": "code",
   "execution_count": 9,
   "metadata": {
    "run_control": {
     "frozen": false,
     "read_only": false
    }
   },
   "outputs": [
    {
     "data": {
      "image/svg+xml": [
       "<?xml version=\"1.0\" encoding=\"UTF-8\" standalone=\"no\"?>\n",
       "<!DOCTYPE svg PUBLIC \"-//W3C//DTD SVG 1.1//EN\"\n",
       " \"http://www.w3.org/Graphics/SVG/1.1/DTD/svg11.dtd\">\n",
       "<!-- Generated by graphviz version 2.38.0 (20140413.2041)\n",
       " -->\n",
       "<!-- Title: %3 Pages: 1 -->\n",
       "<svg width=\"226pt\" height=\"130pt\"\n",
       " viewBox=\"0.00 0.00 225.50 130.00\" xmlns=\"http://www.w3.org/2000/svg\" xmlns:xlink=\"http://www.w3.org/1999/xlink\">\n",
       "<g id=\"graph0\" class=\"graph\" transform=\"scale(1 1) rotate(0) translate(4 126)\">\n",
       "<title>%3</title>\n",
       "<polygon fill=\"white\" stroke=\"none\" points=\"-4,4 -4,-126 221.5,-126 221.5,4 -4,4\"/>\n",
       "<!-- EMPTY -->\n",
       "<g id=\"node1\" class=\"node\"><title>EMPTY</title>\n",
       "</g>\n",
       "<!-- I -->\n",
       "<g id=\"node2\" class=\"node\"><title>I</title>\n",
       "<ellipse fill=\"none\" stroke=\"black\" cx=\"109\" cy=\"-58\" rx=\"18\" ry=\"18\"/>\n",
       "<text text-anchor=\"middle\" x=\"109\" y=\"-53.8\" font-family=\"Times,serif\" font-size=\"14.00\">I</text>\n",
       "</g>\n",
       "<!-- EMPTY&#45;&gt;I -->\n",
       "<g id=\"edge1\" class=\"edge\"><title>EMPTY&#45;&gt;I</title>\n",
       "<path fill=\"none\" stroke=\"black\" d=\"M54.195,-58C62.6538,-58 72.0513,-58 80.5951,-58\"/>\n",
       "<polygon fill=\"black\" stroke=\"black\" points=\"80.8257,-61.5001 90.8257,-58 80.8257,-54.5001 80.8257,-61.5001\"/>\n",
       "</g>\n",
       "<!-- A -->\n",
       "<g id=\"node3\" class=\"node\"><title>A</title>\n",
       "<ellipse fill=\"none\" stroke=\"black\" cx=\"195.5\" cy=\"-95\" rx=\"18\" ry=\"18\"/>\n",
       "<text text-anchor=\"middle\" x=\"195.5\" y=\"-90.8\" font-family=\"Times,serif\" font-size=\"14.00\">A</text>\n",
       "</g>\n",
       "<!-- I&#45;&gt;A -->\n",
       "<g id=\"edge2\" class=\"edge\"><title>I&#45;&gt;A</title>\n",
       "<path fill=\"none\" stroke=\"black\" d=\"M117.118,-74.604C122.868,-85.714 132.129,-99.456 145,-106 152.699,-109.914 161.767,-109.213 170.024,-106.859\"/>\n",
       "<polygon fill=\"black\" stroke=\"black\" points=\"171.363,-110.095 179.547,-103.366 168.953,-103.523 171.363,-110.095\"/>\n",
       "<text text-anchor=\"middle\" x=\"150.25\" y=\"-110.8\" font-family=\"Times,serif\" font-size=\"14.00\">0</text>\n",
       "</g>\n",
       "<!-- F -->\n",
       "<g id=\"node4\" class=\"node\"><title>F</title>\n",
       "<ellipse fill=\"none\" stroke=\"black\" cx=\"195.5\" cy=\"-22\" rx=\"18\" ry=\"18\"/>\n",
       "<ellipse fill=\"none\" stroke=\"black\" cx=\"195.5\" cy=\"-22\" rx=\"22\" ry=\"22\"/>\n",
       "<text text-anchor=\"middle\" x=\"195.5\" y=\"-17.8\" font-family=\"Times,serif\" font-size=\"14.00\">F</text>\n",
       "</g>\n",
       "<!-- I&#45;&gt;F -->\n",
       "<g id=\"edge4\" class=\"edge\"><title>I&#45;&gt;F</title>\n",
       "<path fill=\"none\" stroke=\"black\" d=\"M125.548,-50.0946C131.57,-47.126 138.555,-43.7961 145,-41 151.468,-38.194 158.497,-35.3662 165.172,-32.7809\"/>\n",
       "<polygon fill=\"black\" stroke=\"black\" points=\"166.49,-36.0244 174.592,-29.1974 164.001,-29.4818 166.49,-36.0244\"/>\n",
       "<text text-anchor=\"middle\" x=\"150.25\" y=\"-43.8\" font-family=\"Times,serif\" font-size=\"14.00\">1</text>\n",
       "</g>\n",
       "<!-- A&#45;&gt;I -->\n",
       "<g id=\"edge3\" class=\"edge\"><title>A&#45;&gt;I</title>\n",
       "<path fill=\"none\" stroke=\"black\" d=\"M179.587,-86.2623C172.432,-82.2549 163.659,-77.6051 155.5,-74 149.368,-71.2906 142.621,-68.711 136.244,-66.4449\"/>\n",
       "<polygon fill=\"black\" stroke=\"black\" points=\"137.262,-63.0944 126.668,-63.1686 134.996,-69.7174 137.262,-63.0944\"/>\n",
       "<text text-anchor=\"middle\" x=\"150.25\" y=\"-90.8\" font-family=\"Times,serif\" font-size=\"14.00\">1 </text>\n",
       "<text text-anchor=\"middle\" x=\"150.25\" y=\"-76.8\" font-family=\"Times,serif\" font-size=\"14.00\"> 0</text>\n",
       "</g>\n",
       "<!-- F&#45;&gt;I -->\n",
       "<g id=\"edge5\" class=\"edge\"><title>F&#45;&gt;I</title>\n",
       "<path fill=\"none\" stroke=\"black\" d=\"M177.432,-9.36721C167.617,-3.73962 155.242,0.510382 145,-5 134.145,-10.8397 126.097,-21.6846 120.474,-32.0503\"/>\n",
       "<polygon fill=\"black\" stroke=\"black\" points=\"117.212,-30.7547 115.98,-41.2778 123.505,-33.8195 117.212,-30.7547\"/>\n",
       "<text text-anchor=\"middle\" x=\"150.25\" y=\"-21.8\" font-family=\"Times,serif\" font-size=\"14.00\">1 </text>\n",
       "<text text-anchor=\"middle\" x=\"150.25\" y=\"-7.8\" font-family=\"Times,serif\" font-size=\"14.00\"> 0</text>\n",
       "</g>\n",
       "</g>\n",
       "</svg>\n"
      ],
      "text/plain": [
       "<graphviz.dot.Digraph at 0x10a1fc860>"
      ]
     },
     "execution_count": 9,
     "metadata": {},
     "output_type": "execute_result"
    }
   ],
   "source": [
    "dotObj_dfa_w_bh(tev0end1, FuseEdges=True)"
   ]
  },
  {
   "cell_type": "code",
   "execution_count": 10,
   "metadata": {
    "run_control": {
     "frozen": false,
     "read_only": false
    }
   },
   "outputs": [
    {
     "data": {
      "text/plain": [
       "{'Delta': {('A', '0'): 'I',\n",
       "  ('A', '1'): 'I',\n",
       "  ('F', '0'): 'I',\n",
       "  ('F', '1'): 'I',\n",
       "  ('I', '0'): 'A',\n",
       "  ('I', '1'): 'F'},\n",
       " 'F': {'F'},\n",
       " 'Q': {'A', 'F', 'I'},\n",
       " 'Sigma': {'0', '1'},\n",
       " 'q0': 'I'}"
      ]
     },
     "execution_count": 10,
     "metadata": {},
     "output_type": "execute_result"
    }
   ],
   "source": [
    "ev0end1"
   ]
  },
  {
   "cell_type": "code",
   "execution_count": 11,
   "metadata": {
    "run_control": {
     "frozen": false,
     "read_only": false
    }
   },
   "outputs": [
    {
     "name": "stderr",
     "output_type": "stream",
     "text": [
      "Generating LALR tables\n"
     ]
    }
   ],
   "source": [
    "ev0 = md2mc('''\n",
    "DFA\n",
    "IF : 0 -> A\n",
    "A  : 0 -> IF\n",
    "''')"
   ]
  },
  {
   "cell_type": "code",
   "execution_count": 12,
   "metadata": {
    "run_control": {
     "frozen": false,
     "read_only": false
    }
   },
   "outputs": [
    {
     "data": {
      "text/plain": [
       "{'Delta': {('A', '0'): 'IF', ('IF', '0'): 'A'},\n",
       " 'F': {'IF'},\n",
       " 'Q': {'A', 'IF'},\n",
       " 'Sigma': {'0'},\n",
       " 'q0': 'IF'}"
      ]
     },
     "execution_count": 12,
     "metadata": {},
     "output_type": "execute_result"
    }
   ],
   "source": [
    "ev0"
   ]
  },
  {
   "cell_type": "code",
   "execution_count": 13,
   "metadata": {
    "run_control": {
     "frozen": false,
     "read_only": false
    }
   },
   "outputs": [],
   "source": [
    "dev0 = dotObj_dfa(ev0)"
   ]
  },
  {
   "cell_type": "code",
   "execution_count": 14,
   "metadata": {
    "run_control": {
     "frozen": false,
     "read_only": false
    }
   },
   "outputs": [
    {
     "data": {
      "image/svg+xml": [
       "<?xml version=\"1.0\" encoding=\"UTF-8\" standalone=\"no\"?>\n",
       "<!DOCTYPE svg PUBLIC \"-//W3C//DTD SVG 1.1//EN\"\n",
       " \"http://www.w3.org/Graphics/SVG/1.1/DTD/svg11.dtd\">\n",
       "<!-- Generated by graphviz version 2.38.0 (20140413.2041)\n",
       " -->\n",
       "<!-- Title: %3 Pages: 1 -->\n",
       "<svg width=\"222pt\" height=\"52pt\"\n",
       " viewBox=\"0.00 0.00 222.00 52.00\" xmlns=\"http://www.w3.org/2000/svg\" xmlns:xlink=\"http://www.w3.org/1999/xlink\">\n",
       "<g id=\"graph0\" class=\"graph\" transform=\"scale(1 1) rotate(0) translate(4 48)\">\n",
       "<title>%3</title>\n",
       "<polygon fill=\"white\" stroke=\"none\" points=\"-4,4 -4,-48 218,-48 218,4 -4,4\"/>\n",
       "<!-- EMPTY -->\n",
       "<g id=\"node1\" class=\"node\"><title>EMPTY</title>\n",
       "</g>\n",
       "<!-- IF -->\n",
       "<g id=\"node3\" class=\"node\"><title>IF</title>\n",
       "<ellipse fill=\"none\" stroke=\"black\" cx=\"113\" cy=\"-22\" rx=\"18\" ry=\"18\"/>\n",
       "<ellipse fill=\"none\" stroke=\"black\" cx=\"113\" cy=\"-22\" rx=\"22\" ry=\"22\"/>\n",
       "<text text-anchor=\"middle\" x=\"113\" y=\"-17.8\" font-family=\"Times,serif\" font-size=\"14.00\">IF</text>\n",
       "</g>\n",
       "<!-- EMPTY&#45;&gt;IF -->\n",
       "<g id=\"edge1\" class=\"edge\"><title>EMPTY&#45;&gt;IF</title>\n",
       "<path fill=\"none\" stroke=\"black\" d=\"M54.1177,-22C62.5406,-22 71.9629,-22 80.7191,-22\"/>\n",
       "<polygon fill=\"black\" stroke=\"black\" points=\"80.9574,-25.5001 90.9574,-22 80.9573,-18.5001 80.9574,-25.5001\"/>\n",
       "</g>\n",
       "<!-- A -->\n",
       "<g id=\"node2\" class=\"node\"><title>A</title>\n",
       "<ellipse fill=\"none\" stroke=\"black\" cx=\"196\" cy=\"-22\" rx=\"18\" ry=\"18\"/>\n",
       "<text text-anchor=\"middle\" x=\"196\" y=\"-17.8\" font-family=\"Times,serif\" font-size=\"14.00\">A</text>\n",
       "</g>\n",
       "<!-- A&#45;&gt;IF -->\n",
       "<g id=\"edge3\" class=\"edge\"><title>A&#45;&gt;IF</title>\n",
       "<path fill=\"none\" stroke=\"black\" d=\"M180.283,-12.4577C174.25,-9.08304 167.04,-5.70409 160,-4 153.655,-2.46403 147.016,-3.43319 140.819,-5.55343\"/>\n",
       "<polygon fill=\"black\" stroke=\"black\" points=\"139.289,-2.40258 131.55,-9.63813 142.112,-8.80816 139.289,-2.40258\"/>\n",
       "<text text-anchor=\"middle\" x=\"156.5\" y=\"-6.8\" font-family=\"Times,serif\" font-size=\"14.00\">0</text>\n",
       "</g>\n",
       "<!-- IF&#45;&gt;A -->\n",
       "<g id=\"edge2\" class=\"edge\"><title>IF&#45;&gt;A</title>\n",
       "<path fill=\"none\" stroke=\"black\" d=\"M135.282,-22C145.266,-22 157.278,-22 167.903,-22\"/>\n",
       "<polygon fill=\"black\" stroke=\"black\" points=\"167.94,-25.5001 177.939,-22 167.939,-18.5001 167.94,-25.5001\"/>\n",
       "<text text-anchor=\"middle\" x=\"156.5\" y=\"-24.8\" font-family=\"Times,serif\" font-size=\"14.00\">0</text>\n",
       "</g>\n",
       "</g>\n",
       "</svg>\n"
      ],
      "text/plain": [
       "<graphviz.dot.Digraph at 0x10a1fce80>"
      ]
     },
     "execution_count": 14,
     "metadata": {},
     "output_type": "execute_result"
    }
   ],
   "source": [
    "dev0"
   ]
  },
  {
   "cell_type": "code",
   "execution_count": 15,
   "metadata": {
    "run_control": {
     "frozen": false,
     "read_only": false
    }
   },
   "outputs": [
    {
     "data": {
      "text/plain": [
       "'// do_St4\\ndigraph {\\n\\tgraph [rankdir=LR]\\n\\t\\tEMPTY [label=\"\" shape=plaintext]\\n\\t\\tA [label=A peripheries=1 shape=circle]\\n\\t\\tIF [label=IF peripheries=2 shape=circle]\\n\\t\\t\\tEMPTY -> IF\\n\\t\\t\\tIF -> A [label=0]\\n\\t\\t\\tA -> IF [label=0]\\n}'"
      ]
     },
     "execution_count": 15,
     "metadata": {},
     "output_type": "execute_result"
    }
   ],
   "source": [
    "dev0.source"
   ]
  },
  {
   "cell_type": "code",
   "execution_count": 16,
   "metadata": {
    "run_control": {
     "frozen": false,
     "read_only": false
    }
   },
   "outputs": [
    {
     "data": {
      "image/svg+xml": [
       "<?xml version=\"1.0\" encoding=\"UTF-8\" standalone=\"no\"?>\n",
       "<!DOCTYPE svg PUBLIC \"-//W3C//DTD SVG 1.1//EN\"\n",
       " \"http://www.w3.org/Graphics/SVG/1.1/DTD/svg11.dtd\">\n",
       "<!-- Generated by graphviz version 2.38.0 (20140413.2041)\n",
       " -->\n",
       "<!-- Title: %3 Pages: 1 -->\n",
       "<svg width=\"222pt\" height=\"52pt\"\n",
       " viewBox=\"0.00 0.00 222.00 52.00\" xmlns=\"http://www.w3.org/2000/svg\" xmlns:xlink=\"http://www.w3.org/1999/xlink\">\n",
       "<g id=\"graph0\" class=\"graph\" transform=\"scale(1 1) rotate(0) translate(4 48)\">\n",
       "<title>%3</title>\n",
       "<polygon fill=\"white\" stroke=\"none\" points=\"-4,4 -4,-48 218,-48 218,4 -4,4\"/>\n",
       "<!-- EMPTY -->\n",
       "<g id=\"node1\" class=\"node\"><title>EMPTY</title>\n",
       "</g>\n",
       "<!-- IF -->\n",
       "<g id=\"node3\" class=\"node\"><title>IF</title>\n",
       "<ellipse fill=\"none\" stroke=\"black\" cx=\"113\" cy=\"-22\" rx=\"18\" ry=\"18\"/>\n",
       "<ellipse fill=\"none\" stroke=\"black\" cx=\"113\" cy=\"-22\" rx=\"22\" ry=\"22\"/>\n",
       "<text text-anchor=\"middle\" x=\"113\" y=\"-17.8\" font-family=\"Times,serif\" font-size=\"14.00\">IF</text>\n",
       "</g>\n",
       "<!-- EMPTY&#45;&gt;IF -->\n",
       "<g id=\"edge1\" class=\"edge\"><title>EMPTY&#45;&gt;IF</title>\n",
       "<path fill=\"none\" stroke=\"black\" d=\"M54.1177,-22C62.5406,-22 71.9629,-22 80.7191,-22\"/>\n",
       "<polygon fill=\"black\" stroke=\"black\" points=\"80.9574,-25.5001 90.9574,-22 80.9573,-18.5001 80.9574,-25.5001\"/>\n",
       "</g>\n",
       "<!-- A -->\n",
       "<g id=\"node2\" class=\"node\"><title>A</title>\n",
       "<ellipse fill=\"none\" stroke=\"black\" cx=\"196\" cy=\"-22\" rx=\"18\" ry=\"18\"/>\n",
       "<text text-anchor=\"middle\" x=\"196\" y=\"-17.8\" font-family=\"Times,serif\" font-size=\"14.00\">A</text>\n",
       "</g>\n",
       "<!-- A&#45;&gt;IF -->\n",
       "<g id=\"edge3\" class=\"edge\"><title>A&#45;&gt;IF</title>\n",
       "<path fill=\"none\" stroke=\"black\" d=\"M180.283,-12.4577C174.25,-9.08304 167.04,-5.70409 160,-4 153.655,-2.46403 147.016,-3.43319 140.819,-5.55343\"/>\n",
       "<polygon fill=\"black\" stroke=\"black\" points=\"139.289,-2.40258 131.55,-9.63813 142.112,-8.80816 139.289,-2.40258\"/>\n",
       "<text text-anchor=\"middle\" x=\"156.5\" y=\"-6.8\" font-family=\"Times,serif\" font-size=\"14.00\">0</text>\n",
       "</g>\n",
       "<!-- IF&#45;&gt;A -->\n",
       "<g id=\"edge2\" class=\"edge\"><title>IF&#45;&gt;A</title>\n",
       "<path fill=\"none\" stroke=\"black\" d=\"M135.282,-22C145.266,-22 157.278,-22 167.903,-22\"/>\n",
       "<polygon fill=\"black\" stroke=\"black\" points=\"167.94,-25.5001 177.939,-22 167.939,-18.5001 167.94,-25.5001\"/>\n",
       "<text text-anchor=\"middle\" x=\"156.5\" y=\"-24.8\" font-family=\"Times,serif\" font-size=\"14.00\">0</text>\n",
       "</g>\n",
       "</g>\n",
       "</svg>\n"
      ],
      "text/plain": [
       "<graphviz.dot.Digraph at 0x10a1fce80>"
      ]
     },
     "execution_count": 16,
     "metadata": {},
     "output_type": "execute_result"
    }
   ],
   "source": [
    "dev0"
   ]
  },
  {
   "cell_type": "code",
   "execution_count": 17,
   "metadata": {
    "run_control": {
     "frozen": false,
     "read_only": false
    }
   },
   "outputs": [],
   "source": [
    "ev0_bh =  addtosigma_dfa(ev0, set({'1'}))"
   ]
  },
  {
   "cell_type": "code",
   "execution_count": 18,
   "metadata": {
    "run_control": {
     "frozen": false,
     "read_only": false
    }
   },
   "outputs": [
    {
     "data": {
      "text/plain": [
       "{'Delta': {('A', '0'): 'IF', ('IF', '0'): 'A'},\n",
       " 'F': {'IF'},\n",
       " 'Q': {'A', 'IF'},\n",
       " 'Sigma': {'0', '1'},\n",
       " 'q0': 'IF'}"
      ]
     },
     "execution_count": 18,
     "metadata": {},
     "output_type": "execute_result"
    }
   ],
   "source": [
    "ev0_bh"
   ]
  },
  {
   "cell_type": "code",
   "execution_count": 19,
   "metadata": {
    "run_control": {
     "frozen": false,
     "read_only": false
    }
   },
   "outputs": [],
   "source": [
    "ev0_bh_totalize = totalize_dfa(ev0_bh)"
   ]
  },
  {
   "cell_type": "code",
   "execution_count": 20,
   "metadata": {
    "run_control": {
     "frozen": false,
     "read_only": false
    }
   },
   "outputs": [
    {
     "data": {
      "text/plain": [
       "{'Delta': {('A', '0'): 'IF', ('IF', '0'): 'A'},\n",
       " 'F': {'IF'},\n",
       " 'Q': {'A', 'IF'},\n",
       " 'Sigma': {'0', '1'},\n",
       " 'q0': 'IF'}"
      ]
     },
     "execution_count": 20,
     "metadata": {},
     "output_type": "execute_result"
    }
   ],
   "source": [
    "ev0_bh"
   ]
  },
  {
   "cell_type": "code",
   "execution_count": 21,
   "metadata": {
    "run_control": {
     "frozen": false,
     "read_only": false
    }
   },
   "outputs": [],
   "source": [
    "do_ev0_tot = dotObj_dfa_w_bh(ev0_bh_totalize)"
   ]
  },
  {
   "cell_type": "code",
   "execution_count": 22,
   "metadata": {
    "run_control": {
     "frozen": false,
     "read_only": false
    }
   },
   "outputs": [
    {
     "data": {
      "text/plain": [
       "'// do_St5\\ndigraph {\\n\\tgraph [rankdir=LR]\\n\\t\\tEMPTY [label=\"\" shape=plaintext]\\n\\t\\tA [label=A peripheries=1 shape=circle]\\n\\t\\tBH [label=BH peripheries=1 shape=circle]\\n\\t\\tIF [label=IF peripheries=2 shape=circle]\\n\\t\\t\\tEMPTY -> IF\\n\\t\\t\\tIF -> A [label=0]\\n\\t\\t\\tA -> IF [label=0]\\n\\t\\t\\tA -> BH [label=1]\\n\\t\\t\\tIF -> BH [label=1]\\n\\t\\t\\tBH -> BH [label=1]\\n\\t\\t\\tBH -> BH [label=0]\\n}'"
      ]
     },
     "execution_count": 22,
     "metadata": {},
     "output_type": "execute_result"
    }
   ],
   "source": [
    "do_ev0_tot.source"
   ]
  },
  {
   "cell_type": "code",
   "execution_count": 23,
   "metadata": {
    "run_control": {
     "frozen": false,
     "read_only": false
    }
   },
   "outputs": [
    {
     "data": {
      "image/svg+xml": [
       "<?xml version=\"1.0\" encoding=\"UTF-8\" standalone=\"no\"?>\n",
       "<!DOCTYPE svg PUBLIC \"-//W3C//DTD SVG 1.1//EN\"\n",
       " \"http://www.w3.org/Graphics/SVG/1.1/DTD/svg11.dtd\">\n",
       "<!-- Generated by graphviz version 2.38.0 (20140413.2041)\n",
       " -->\n",
       "<!-- Title: %3 Pages: 1 -->\n",
       "<svg width=\"310pt\" height=\"117pt\"\n",
       " viewBox=\"0.00 0.00 309.78 116.78\" xmlns=\"http://www.w3.org/2000/svg\" xmlns:xlink=\"http://www.w3.org/1999/xlink\">\n",
       "<g id=\"graph0\" class=\"graph\" transform=\"scale(1 1) rotate(0) translate(4 112.784)\">\n",
       "<title>%3</title>\n",
       "<polygon fill=\"white\" stroke=\"none\" points=\"-4,4 -4,-112.784 305.784,-112.784 305.784,4 -4,4\"/>\n",
       "<!-- EMPTY -->\n",
       "<g id=\"node1\" class=\"node\"><title>EMPTY</title>\n",
       "</g>\n",
       "<!-- IF -->\n",
       "<g id=\"node4\" class=\"node\"><title>IF</title>\n",
       "<ellipse fill=\"none\" stroke=\"black\" cx=\"113\" cy=\"-35.3918\" rx=\"18\" ry=\"18\"/>\n",
       "<ellipse fill=\"none\" stroke=\"black\" cx=\"113\" cy=\"-35.3918\" rx=\"22\" ry=\"22\"/>\n",
       "<text text-anchor=\"middle\" x=\"113\" y=\"-31.1918\" font-family=\"Times,serif\" font-size=\"14.00\">IF</text>\n",
       "</g>\n",
       "<!-- EMPTY&#45;&gt;IF -->\n",
       "<g id=\"edge1\" class=\"edge\"><title>EMPTY&#45;&gt;IF</title>\n",
       "<path fill=\"none\" stroke=\"black\" d=\"M54.1177,-35.3918C62.5406,-35.3918 71.9629,-35.3918 80.7191,-35.3918\"/>\n",
       "<polygon fill=\"black\" stroke=\"black\" points=\"80.9574,-38.8919 90.9574,-35.3918 80.9573,-31.8919 80.9574,-38.8919\"/>\n",
       "</g>\n",
       "<!-- A -->\n",
       "<g id=\"node2\" class=\"node\"><title>A</title>\n",
       "<ellipse fill=\"none\" stroke=\"black\" cx=\"196\" cy=\"-52.3918\" rx=\"18\" ry=\"18\"/>\n",
       "<text text-anchor=\"middle\" x=\"196\" y=\"-48.1918\" font-family=\"Times,serif\" font-size=\"14.00\">A</text>\n",
       "</g>\n",
       "<!-- BH -->\n",
       "<g id=\"node3\" class=\"node\"><title>BH</title>\n",
       "<ellipse fill=\"none\" stroke=\"black\" cx=\"279.392\" cy=\"-22.3918\" rx=\"22.2841\" ry=\"22.2841\"/>\n",
       "<text text-anchor=\"middle\" x=\"279.392\" y=\"-18.1918\" font-family=\"Times,serif\" font-size=\"14.00\">BH</text>\n",
       "</g>\n",
       "<!-- A&#45;&gt;BH -->\n",
       "<g id=\"edge4\" class=\"edge\"><title>A&#45;&gt;BH</title>\n",
       "<path fill=\"none\" stroke=\"black\" d=\"M213.08,-46.4648C223.142,-42.7561 236.42,-37.8621 248.375,-33.4557\"/>\n",
       "<polygon fill=\"black\" stroke=\"black\" points=\"249.833,-36.6483 258.006,-29.9058 247.412,-30.0803 249.833,-36.6483\"/>\n",
       "<text text-anchor=\"middle\" x=\"235.5\" y=\"-41.1918\" font-family=\"Times,serif\" font-size=\"14.00\">1</text>\n",
       "</g>\n",
       "<!-- A&#45;&gt;IF -->\n",
       "<g id=\"edge3\" class=\"edge\"><title>A&#45;&gt;IF</title>\n",
       "<path fill=\"none\" stroke=\"black\" d=\"M181.093,-42.2244C174.949,-38.3382 167.44,-34.3677 160,-32.3918 155.224,-31.1234 150.075,-30.6414 145.012,-30.6403\"/>\n",
       "<polygon fill=\"black\" stroke=\"black\" points=\"144.67,-27.154 134.885,-31.2155 145.067,-34.1427 144.67,-27.154\"/>\n",
       "<text text-anchor=\"middle\" x=\"156.5\" y=\"-35.1918\" font-family=\"Times,serif\" font-size=\"14.00\">0</text>\n",
       "</g>\n",
       "<!-- BH&#45;&gt;BH -->\n",
       "<g id=\"edge6\" class=\"edge\"><title>BH&#45;&gt;BH</title>\n",
       "<path fill=\"none\" stroke=\"black\" d=\"M275.501,-44.8217C275.183,-54.4985 276.48,-62.7836 279.392,-62.7836 281.166,-62.7836 282.341,-59.707 282.916,-55.1138\"/>\n",
       "<polygon fill=\"black\" stroke=\"black\" points=\"286.424,-54.9399 283.282,-44.8217 279.429,-54.6909 286.424,-54.9399\"/>\n",
       "<text text-anchor=\"middle\" x=\"279.392\" y=\"-65.5836\" font-family=\"Times,serif\" font-size=\"14.00\">1</text>\n",
       "</g>\n",
       "<!-- BH&#45;&gt;BH -->\n",
       "<g id=\"edge7\" class=\"edge\"><title>BH&#45;&gt;BH</title>\n",
       "<path fill=\"none\" stroke=\"black\" d=\"M272.718,-43.9522C269.867,-61.9636 272.091,-80.7836 279.392,-80.7836 285.324,-80.7836 287.904,-68.3594 287.134,-54.0395\"/>\n",
       "<polygon fill=\"black\" stroke=\"black\" points=\"290.599,-53.5277 286.065,-43.9522 283.638,-54.2653 290.599,-53.5277\"/>\n",
       "<text text-anchor=\"middle\" x=\"279.392\" y=\"-83.5836\" font-family=\"Times,serif\" font-size=\"14.00\">0</text>\n",
       "</g>\n",
       "<!-- IF&#45;&gt;A -->\n",
       "<g id=\"edge2\" class=\"edge\"><title>IF&#45;&gt;A</title>\n",
       "<path fill=\"none\" stroke=\"black\" d=\"M133.469,-44.2806C139.595,-46.6939 146.469,-49.0177 153,-50.3918 157.625,-51.365 162.598,-51.9739 167.446,-52.3404\"/>\n",
       "<polygon fill=\"black\" stroke=\"black\" points=\"167.529,-55.8477 177.677,-52.8032 167.846,-48.8548 167.529,-55.8477\"/>\n",
       "<text text-anchor=\"middle\" x=\"156.5\" y=\"-54.1918\" font-family=\"Times,serif\" font-size=\"14.00\">0</text>\n",
       "</g>\n",
       "<!-- IF&#45;&gt;BH -->\n",
       "<g id=\"edge5\" class=\"edge\"><title>IF&#45;&gt;BH</title>\n",
       "<path fill=\"none\" stroke=\"black\" d=\"M133.091,-26.168C145.552,-20.6717 162.354,-14.229 178,-11.3918 201.212,-7.18264 227.756,-10.4364 247.717,-14.4712\"/>\n",
       "<polygon fill=\"black\" stroke=\"black\" points=\"246.986,-17.8939 257.504,-16.6169 248.485,-11.0563 246.986,-17.8939\"/>\n",
       "<text text-anchor=\"middle\" x=\"196\" y=\"-14.1918\" font-family=\"Times,serif\" font-size=\"14.00\">1</text>\n",
       "</g>\n",
       "</g>\n",
       "</svg>\n"
      ],
      "text/plain": [
       "<graphviz.dot.Digraph at 0x10a211b70>"
      ]
     },
     "execution_count": 23,
     "metadata": {},
     "output_type": "execute_result"
    }
   ],
   "source": [
    "do_ev0_tot"
   ]
  },
  {
   "cell_type": "code",
   "execution_count": 24,
   "metadata": {
    "run_control": {
     "frozen": false,
     "read_only": false
    }
   },
   "outputs": [
    {
     "data": {
      "image/svg+xml": [
       "<?xml version=\"1.0\" encoding=\"UTF-8\" standalone=\"no\"?>\n",
       "<!DOCTYPE svg PUBLIC \"-//W3C//DTD SVG 1.1//EN\"\n",
       " \"http://www.w3.org/Graphics/SVG/1.1/DTD/svg11.dtd\">\n",
       "<!-- Generated by graphviz version 2.38.0 (20140413.2041)\n",
       " -->\n",
       "<!-- Title: %3 Pages: 1 -->\n",
       "<svg width=\"310pt\" height=\"99pt\"\n",
       " viewBox=\"0.00 0.00 309.78 98.78\" xmlns=\"http://www.w3.org/2000/svg\" xmlns:xlink=\"http://www.w3.org/1999/xlink\">\n",
       "<g id=\"graph0\" class=\"graph\" transform=\"scale(1 1) rotate(0) translate(4 94.7836)\">\n",
       "<title>%3</title>\n",
       "<polygon fill=\"white\" stroke=\"none\" points=\"-4,4 -4,-94.7836 305.784,-94.7836 305.784,4 -4,4\"/>\n",
       "<!-- EMPTY -->\n",
       "<g id=\"node1\" class=\"node\"><title>EMPTY</title>\n",
       "</g>\n",
       "<!-- IF -->\n",
       "<g id=\"node4\" class=\"node\"><title>IF</title>\n",
       "<ellipse fill=\"none\" stroke=\"black\" cx=\"113\" cy=\"-35.3918\" rx=\"18\" ry=\"18\"/>\n",
       "<ellipse fill=\"none\" stroke=\"black\" cx=\"113\" cy=\"-35.3918\" rx=\"22\" ry=\"22\"/>\n",
       "<text text-anchor=\"middle\" x=\"113\" y=\"-31.1918\" font-family=\"Times,serif\" font-size=\"14.00\">IF</text>\n",
       "</g>\n",
       "<!-- EMPTY&#45;&gt;IF -->\n",
       "<g id=\"edge1\" class=\"edge\"><title>EMPTY&#45;&gt;IF</title>\n",
       "<path fill=\"none\" stroke=\"black\" d=\"M54.1177,-35.3918C62.5406,-35.3918 71.9629,-35.3918 80.7191,-35.3918\"/>\n",
       "<polygon fill=\"black\" stroke=\"black\" points=\"80.9574,-38.8919 90.9574,-35.3918 80.9573,-31.8919 80.9574,-38.8919\"/>\n",
       "</g>\n",
       "<!-- A -->\n",
       "<g id=\"node2\" class=\"node\"><title>A</title>\n",
       "<ellipse fill=\"none\" stroke=\"black\" cx=\"196\" cy=\"-52.3918\" rx=\"18\" ry=\"18\"/>\n",
       "<text text-anchor=\"middle\" x=\"196\" y=\"-48.1918\" font-family=\"Times,serif\" font-size=\"14.00\">A</text>\n",
       "</g>\n",
       "<!-- BH -->\n",
       "<g id=\"node3\" class=\"node\"><title>BH</title>\n",
       "<ellipse fill=\"none\" stroke=\"black\" cx=\"279.392\" cy=\"-22.3918\" rx=\"22.2841\" ry=\"22.2841\"/>\n",
       "<text text-anchor=\"middle\" x=\"279.392\" y=\"-18.1918\" font-family=\"Times,serif\" font-size=\"14.00\">BH</text>\n",
       "</g>\n",
       "<!-- A&#45;&gt;BH -->\n",
       "<g id=\"edge4\" class=\"edge\"><title>A&#45;&gt;BH</title>\n",
       "<path fill=\"none\" stroke=\"black\" d=\"M213.08,-46.4648C223.142,-42.7561 236.42,-37.8621 248.375,-33.4557\"/>\n",
       "<polygon fill=\"black\" stroke=\"black\" points=\"249.833,-36.6483 258.006,-29.9058 247.412,-30.0803 249.833,-36.6483\"/>\n",
       "<text text-anchor=\"middle\" x=\"235.5\" y=\"-41.1918\" font-family=\"Times,serif\" font-size=\"14.00\">1</text>\n",
       "</g>\n",
       "<!-- A&#45;&gt;IF -->\n",
       "<g id=\"edge3\" class=\"edge\"><title>A&#45;&gt;IF</title>\n",
       "<path fill=\"none\" stroke=\"black\" d=\"M181.093,-42.2244C174.949,-38.3382 167.44,-34.3677 160,-32.3918 155.224,-31.1234 150.075,-30.6414 145.012,-30.6403\"/>\n",
       "<polygon fill=\"black\" stroke=\"black\" points=\"144.67,-27.154 134.885,-31.2155 145.067,-34.1427 144.67,-27.154\"/>\n",
       "<text text-anchor=\"middle\" x=\"156.5\" y=\"-35.1918\" font-family=\"Times,serif\" font-size=\"14.00\">0</text>\n",
       "</g>\n",
       "<!-- BH&#45;&gt;BH -->\n",
       "<g id=\"edge6\" class=\"edge\"><title>BH&#45;&gt;BH</title>\n",
       "<path fill=\"none\" stroke=\"black\" d=\"M271.709,-43.5882C270.761,-53.7836 273.321,-62.7836 279.392,-62.7836 283.281,-62.7836 285.729,-59.09 286.737,-53.7547\"/>\n",
       "<polygon fill=\"black\" stroke=\"black\" points=\"290.241,-53.6987 287.075,-43.5882 283.245,-53.4666 290.241,-53.6987\"/>\n",
       "<text text-anchor=\"middle\" x=\"279.392\" y=\"-79.5836\" font-family=\"Times,serif\" font-size=\"14.00\">1 </text>\n",
       "<text text-anchor=\"middle\" x=\"279.392\" y=\"-65.5836\" font-family=\"Times,serif\" font-size=\"14.00\"> 0</text>\n",
       "</g>\n",
       "<!-- IF&#45;&gt;A -->\n",
       "<g id=\"edge2\" class=\"edge\"><title>IF&#45;&gt;A</title>\n",
       "<path fill=\"none\" stroke=\"black\" d=\"M133.469,-44.2806C139.595,-46.6939 146.469,-49.0177 153,-50.3918 157.625,-51.365 162.598,-51.9739 167.446,-52.3404\"/>\n",
       "<polygon fill=\"black\" stroke=\"black\" points=\"167.529,-55.8477 177.677,-52.8032 167.846,-48.8548 167.529,-55.8477\"/>\n",
       "<text text-anchor=\"middle\" x=\"156.5\" y=\"-54.1918\" font-family=\"Times,serif\" font-size=\"14.00\">0</text>\n",
       "</g>\n",
       "<!-- IF&#45;&gt;BH -->\n",
       "<g id=\"edge5\" class=\"edge\"><title>IF&#45;&gt;BH</title>\n",
       "<path fill=\"none\" stroke=\"black\" d=\"M133.091,-26.168C145.552,-20.6717 162.354,-14.229 178,-11.3918 201.212,-7.18264 227.756,-10.4364 247.717,-14.4712\"/>\n",
       "<polygon fill=\"black\" stroke=\"black\" points=\"246.986,-17.8939 257.504,-16.6169 248.485,-11.0563 246.986,-17.8939\"/>\n",
       "<text text-anchor=\"middle\" x=\"196\" y=\"-14.1918\" font-family=\"Times,serif\" font-size=\"14.00\">1</text>\n",
       "</g>\n",
       "</g>\n",
       "</svg>\n"
      ],
      "text/plain": [
       "<graphviz.dot.Digraph at 0x10a211748>"
      ]
     },
     "execution_count": 24,
     "metadata": {},
     "output_type": "execute_result"
    }
   ],
   "source": [
    "dotObj_dfa_w_bh(ev0_bh_totalize, FuseEdges=True)"
   ]
  },
  {
   "cell_type": "markdown",
   "metadata": {
    "run_control": {
     "frozen": false,
     "read_only": false
    }
   },
   "source": [
    "<span style=\"color:blue\"> **Here is how we will represent a DFA in Python (taking Figure 3.4's example from the book). You can clearly see how the traits of the DFA are encoded. We prefer a Python dictionary, as it supports a number of convenient operations, and also one can add additional fields easily. ** </span>"
   ]
  },
  {
   "cell_type": "code",
   "execution_count": 25,
   "metadata": {
    "code_folding": [],
    "run_control": {
     "frozen": false,
     "read_only": false
    }
   },
   "outputs": [],
   "source": [
    "DFA_fig34 = { 'Q': {'A', 'IF', 'B'},\n",
    "              'Sigma': {'0', '1'},\n",
    "              'Delta': { ('IF', '0'): 'A',\n",
    "                         ('IF', '1'): 'IF',\n",
    "                         ('A', '0'): 'B',\n",
    "                         ('A', '1'): 'A',\n",
    "                         ('B', '0'): 'IF',\n",
    "                         ('B', '1'): 'B' },\n",
    "              'q0': 'IF', \n",
    "              'F': {'IF'}   \n",
    "            }"
   ]
  },
  {
   "cell_type": "markdown",
   "metadata": {
    "run_control": {
     "frozen": false,
     "read_only": false
    }
   },
   "source": [
    "<span style=\"color:blue\"> **We can now write routines to print DFA using dot. The main routines are listed below.** </span>\n",
    "\n",
    "* dot_dfa_w_bh : lists all states of a DFA including black-hole states\n",
    "* dot_dfa      : lists all isNotBH states (see below for a defn), i.e. suppress black-holes\n",
    "     - Usually there are too many transitions to them and that clutters the view\n",
    "     "
   ]
  },
  {
   "cell_type": "markdown",
   "metadata": {
    "run_control": {
     "frozen": false,
     "read_only": false
    }
   },
   "source": [
    "======"
   ]
  },
  {
   "cell_type": "code",
   "execution_count": 26,
   "metadata": {
    "code_folding": [],
    "run_control": {
     "frozen": false,
     "read_only": false
    }
   },
   "outputs": [],
   "source": [
    "# Some tests pertaining to totalize_dfa, is_consistent_dfa, etc\n",
    "\n",
    "DFA_fig34 = { 'Q': {'A', 'IF', 'B'},\n",
    "              'Sigma': {'0', '1'},\n",
    "              'Delta': { ('IF', '0'): 'A',\n",
    "                         ('IF', '1'): 'IF',\n",
    "                         ('A', '0'): 'B',\n",
    "                         ('A', '1'): 'A',\n",
    "                         ('B', '0'): 'IF',\n",
    "                         ('B', '1'): 'B' },\n",
    "              'q0': 'IF', \n",
    "              'F': {'IF'}   \n",
    "            }\n",
    "\n",
    "def tests_dfa_consist():\n",
    "    \"\"\"Some tests wrt DFA routines.\n",
    "    \"\"\"\n",
    "    DFA_fig34_Q     = DFA_fig34[\"Q\"]\n",
    "    DFA_fig34_Sigma = DFA_fig34[\"Sigma\"]\n",
    "    randQ           = random.choice(list(DFA_fig34_Q))\n",
    "    randSym         = random.choice(list(DFA_fig34_Sigma))\n",
    "\n",
    "    DFA_fig34_deepcopy  = copy.deepcopy(DFA_fig34)\n",
    "\n",
    "    print('is_consistent_dfa(DFA_fig34) =', \n",
    "           is_consistent_dfa(DFA_fig34) )\n",
    "    print('Removing mapping for ' + \n",
    "          \"(\" + randQ + \",\" + randSym + \")\" + \n",
    "          \"from DFA_fig34_deepcopy\")\n",
    "    DFA_fig34_deepcopy[\"Delta\"].pop((randQ,randSym))\n",
    "    print('is_consistent_dfa(DFA_fig34_deepcopy) =', \n",
    "         is_consistent_dfa(DFA_fig34_deepcopy) )\n",
    "\n",
    "    totalized = totalize_dfa(DFA_fig34_deepcopy)\n",
    "    print ( 'is_consistent_dfa(totalized) =', \n",
    "          is_consistent_dfa(totalized) )\n",
    "\n",
    "    assert(totalized == totalize_dfa(totalized)) # Must pass  "
   ]
  },
  {
   "cell_type": "code",
   "execution_count": 27,
   "metadata": {
    "run_control": {
     "frozen": false,
     "read_only": false
    }
   },
   "outputs": [
    {
     "name": "stderr",
     "output_type": "stream",
     "text": [
      "Generating LALR tables\n"
     ]
    },
    {
     "data": {
      "image/svg+xml": [
       "<?xml version=\"1.0\" encoding=\"UTF-8\" standalone=\"no\"?>\n",
       "<!DOCTYPE svg PUBLIC \"-//W3C//DTD SVG 1.1//EN\"\n",
       " \"http://www.w3.org/Graphics/SVG/1.1/DTD/svg11.dtd\">\n",
       "<!-- Generated by graphviz version 2.38.0 (20140413.2041)\n",
       " -->\n",
       "<!-- Title: %3 Pages: 1 -->\n",
       "<svg width=\"324pt\" height=\"192pt\"\n",
       " viewBox=\"0.00 0.00 323.63 191.74\" xmlns=\"http://www.w3.org/2000/svg\" xmlns:xlink=\"http://www.w3.org/1999/xlink\">\n",
       "<g id=\"graph0\" class=\"graph\" transform=\"scale(1 1) rotate(0) translate(4 187.737)\">\n",
       "<title>%3</title>\n",
       "<polygon fill=\"white\" stroke=\"none\" points=\"-4,4 -4,-187.737 319.631,-187.737 319.631,4 -4,4\"/>\n",
       "<!-- EMPTY -->\n",
       "<g id=\"node1\" class=\"node\"><title>EMPTY</title>\n",
       "</g>\n",
       "<!-- IF -->\n",
       "<g id=\"node6\" class=\"node\"><title>IF</title>\n",
       "<ellipse fill=\"none\" stroke=\"black\" cx=\"113\" cy=\"-79.8686\" rx=\"18\" ry=\"18\"/>\n",
       "<ellipse fill=\"none\" stroke=\"black\" cx=\"113\" cy=\"-79.8686\" rx=\"22\" ry=\"22\"/>\n",
       "<text text-anchor=\"middle\" x=\"113\" y=\"-75.6686\" font-family=\"Times,serif\" font-size=\"14.00\">IF</text>\n",
       "</g>\n",
       "<!-- EMPTY&#45;&gt;IF -->\n",
       "<g id=\"edge1\" class=\"edge\"><title>EMPTY&#45;&gt;IF</title>\n",
       "<path fill=\"none\" stroke=\"black\" d=\"M54.1177,-79.8686C62.5406,-79.8686 71.9629,-79.8686 80.7191,-79.8686\"/>\n",
       "<polygon fill=\"black\" stroke=\"black\" points=\"80.9574,-83.3687 90.9574,-79.8686 80.9573,-76.3687 80.9574,-83.3687\"/>\n",
       "</g>\n",
       "<!-- S10 -->\n",
       "<g id=\"node2\" class=\"node\"><title>S10</title>\n",
       "<ellipse fill=\"none\" stroke=\"black\" cx=\"291.762\" cy=\"-23.8686\" rx=\"23.7379\" ry=\"23.7379\"/>\n",
       "<text text-anchor=\"middle\" x=\"291.762\" y=\"-19.6686\" font-family=\"Times,serif\" font-size=\"14.00\">S10</text>\n",
       "</g>\n",
       "<!-- S10&#45;&gt;S10 -->\n",
       "<g id=\"edge10\" class=\"edge\"><title>S10&#45;&gt;S10</title>\n",
       "<path fill=\"none\" stroke=\"black\" d=\"M283.641,-46.6939C282.868,-56.9055 285.575,-65.7372 291.762,-65.7372 295.726,-65.7372 298.262,-62.1127 299.369,-56.8228\"/>\n",
       "<polygon fill=\"black\" stroke=\"black\" points=\"302.871,-56.8587 299.883,-46.6939 295.88,-56.5034 302.871,-56.8587\"/>\n",
       "<text text-anchor=\"middle\" x=\"291.762\" y=\"-68.5372\" font-family=\"Times,serif\" font-size=\"14.00\">0</text>\n",
       "</g>\n",
       "<!-- F1 -->\n",
       "<g id=\"node5\" class=\"node\"><title>F1</title>\n",
       "<ellipse fill=\"none\" stroke=\"black\" cx=\"201.447\" cy=\"-23.8686\" rx=\"19.4029\" ry=\"19.4029\"/>\n",
       "<ellipse fill=\"none\" stroke=\"black\" cx=\"201.447\" cy=\"-23.8686\" rx=\"23.3939\" ry=\"23.3939\"/>\n",
       "<text text-anchor=\"middle\" x=\"201.447\" y=\"-19.6686\" font-family=\"Times,serif\" font-size=\"14.00\">F1</text>\n",
       "</g>\n",
       "<!-- S10&#45;&gt;F1 -->\n",
       "<g id=\"edge11\" class=\"edge\"><title>S10&#45;&gt;F1</title>\n",
       "<path fill=\"none\" stroke=\"black\" d=\"M270.077,-12.7746C261.749,-9.52944 251.98,-7.23799 242.894,-8.8686 239.473,-9.4825 235.963,-10.3667 232.509,-11.4031\"/>\n",
       "<polygon fill=\"black\" stroke=\"black\" points=\"231.379,-8.09038 223.043,-14.6287 233.637,-14.7163 231.379,-8.09038\"/>\n",
       "<text text-anchor=\"middle\" x=\"246.394\" y=\"-11.6686\" font-family=\"Times,serif\" font-size=\"14.00\">1</text>\n",
       "</g>\n",
       "<!-- S01 -->\n",
       "<g id=\"node3\" class=\"node\"><title>S01</title>\n",
       "<ellipse fill=\"none\" stroke=\"black\" cx=\"291.762\" cy=\"-127.869\" rx=\"23.7379\" ry=\"23.7379\"/>\n",
       "<text text-anchor=\"middle\" x=\"291.762\" y=\"-123.669\" font-family=\"Times,serif\" font-size=\"14.00\">S01</text>\n",
       "</g>\n",
       "<!-- S01&#45;&gt;S01 -->\n",
       "<g id=\"edge6\" class=\"edge\"><title>S01&#45;&gt;S01</title>\n",
       "<path fill=\"none\" stroke=\"black\" d=\"M283.641,-150.694C282.868,-160.906 285.575,-169.737 291.762,-169.737 295.726,-169.737 298.262,-166.113 299.369,-160.823\"/>\n",
       "<polygon fill=\"black\" stroke=\"black\" points=\"302.871,-160.859 299.883,-150.694 295.88,-160.503 302.871,-160.859\"/>\n",
       "<text text-anchor=\"middle\" x=\"291.762\" y=\"-172.537\" font-family=\"Times,serif\" font-size=\"14.00\">1</text>\n",
       "</g>\n",
       "<!-- F0 -->\n",
       "<g id=\"node4\" class=\"node\"><title>F0</title>\n",
       "<ellipse fill=\"none\" stroke=\"black\" cx=\"201.447\" cy=\"-120.869\" rx=\"19.4029\" ry=\"19.4029\"/>\n",
       "<ellipse fill=\"none\" stroke=\"black\" cx=\"201.447\" cy=\"-120.869\" rx=\"23.3939\" ry=\"23.3939\"/>\n",
       "<text text-anchor=\"middle\" x=\"201.447\" y=\"-116.669\" font-family=\"Times,serif\" font-size=\"14.00\">F0</text>\n",
       "</g>\n",
       "<!-- S01&#45;&gt;F0 -->\n",
       "<g id=\"edge7\" class=\"edge\"><title>S01&#45;&gt;F0</title>\n",
       "<path fill=\"none\" stroke=\"black\" d=\"M271.615,-115.045C265.017,-111.326 257.395,-107.759 249.894,-105.869 243.99,-104.381 237.742,-104.848 231.786,-106.308\"/>\n",
       "<polygon fill=\"black\" stroke=\"black\" points=\"230.523,-103.04 222.15,-109.531 232.744,-109.678 230.523,-103.04\"/>\n",
       "<text text-anchor=\"middle\" x=\"246.394\" y=\"-108.669\" font-family=\"Times,serif\" font-size=\"14.00\">0</text>\n",
       "</g>\n",
       "<!-- F0&#45;&gt;S01 -->\n",
       "<g id=\"edge5\" class=\"edge\"><title>F0&#45;&gt;S01</title>\n",
       "<path fill=\"none\" stroke=\"black\" d=\"M225.19,-122.671C235.105,-123.457 246.921,-124.394 257.773,-125.254\"/>\n",
       "<polygon fill=\"black\" stroke=\"black\" points=\"257.544,-128.747 267.789,-126.048 258.097,-121.768 257.544,-128.747\"/>\n",
       "<text text-anchor=\"middle\" x=\"246.394\" y=\"-126.669\" font-family=\"Times,serif\" font-size=\"14.00\">1</text>\n",
       "</g>\n",
       "<!-- F0&#45;&gt;F0 -->\n",
       "<g id=\"edge4\" class=\"edge\"><title>F0&#45;&gt;F0</title>\n",
       "<path fill=\"none\" stroke=\"black\" d=\"M193.36,-143.042C192.478,-153.328 195.173,-162.315 201.447,-162.315 205.466,-162.315 208.016,-158.627 209.099,-153.272\"/>\n",
       "<polygon fill=\"black\" stroke=\"black\" points=\"212.606,-153.182 209.534,-143.042 205.612,-152.884 212.606,-153.182\"/>\n",
       "<text text-anchor=\"middle\" x=\"201.447\" y=\"-165.115\" font-family=\"Times,serif\" font-size=\"14.00\">0</text>\n",
       "</g>\n",
       "<!-- F1&#45;&gt;S10 -->\n",
       "<g id=\"edge9\" class=\"edge\"><title>F1&#45;&gt;S10</title>\n",
       "<path fill=\"none\" stroke=\"black\" d=\"M225.106,-25.8462C230.9,-26.2703 237.124,-26.6549 242.894,-26.8686 247.736,-27.0479 252.849,-26.9907 257.861,-26.7953\"/>\n",
       "<polygon fill=\"black\" stroke=\"black\" points=\"258.099,-30.2876 267.887,-26.2314 257.706,-23.2986 258.099,-30.2876\"/>\n",
       "<text text-anchor=\"middle\" x=\"246.394\" y=\"-30.6686\" font-family=\"Times,serif\" font-size=\"14.00\">0</text>\n",
       "</g>\n",
       "<!-- F1&#45;&gt;F1 -->\n",
       "<g id=\"edge8\" class=\"edge\"><title>F1&#45;&gt;F1</title>\n",
       "<path fill=\"none\" stroke=\"black\" d=\"M193.36,-46.0421C192.478,-56.3282 195.173,-65.3155 201.447,-65.3155 205.466,-65.3155 208.016,-61.6271 209.099,-56.2717\"/>\n",
       "<polygon fill=\"black\" stroke=\"black\" points=\"212.606,-56.1818 209.534,-46.0421 205.612,-55.8843 212.606,-56.1818\"/>\n",
       "<text text-anchor=\"middle\" x=\"201.447\" y=\"-68.1155\" font-family=\"Times,serif\" font-size=\"14.00\">1</text>\n",
       "</g>\n",
       "<!-- IF&#45;&gt;F0 -->\n",
       "<g id=\"edge2\" class=\"edge\"><title>IF&#45;&gt;F0</title>\n",
       "<path fill=\"none\" stroke=\"black\" d=\"M133.185,-88.9678C144.205,-94.1941 158.281,-100.87 170.705,-106.763\"/>\n",
       "<polygon fill=\"black\" stroke=\"black\" points=\"169.271,-109.956 179.806,-111.079 172.27,-103.631 169.271,-109.956\"/>\n",
       "<text text-anchor=\"middle\" x=\"156.5\" y=\"-104.669\" font-family=\"Times,serif\" font-size=\"14.00\">0</text>\n",
       "</g>\n",
       "<!-- IF&#45;&gt;F1 -->\n",
       "<g id=\"edge3\" class=\"edge\"><title>IF&#45;&gt;F1</title>\n",
       "<path fill=\"none\" stroke=\"black\" d=\"M131.912,-68.2654C143.758,-60.5916 159.52,-50.3809 172.942,-41.6865\"/>\n",
       "<polygon fill=\"black\" stroke=\"black\" points=\"174.869,-44.6083 181.359,-36.2339 171.063,-38.7333 174.869,-44.6083\"/>\n",
       "<text text-anchor=\"middle\" x=\"156.5\" y=\"-56.6686\" font-family=\"Times,serif\" font-size=\"14.00\">1</text>\n",
       "</g>\n",
       "</g>\n",
       "</svg>\n"
      ],
      "text/plain": [
       "<graphviz.dot.Digraph at 0x10a1fcf28>"
      ]
     },
     "execution_count": 27,
     "metadata": {},
     "output_type": "execute_result"
    }
   ],
   "source": [
    "dfaBESame = md2mc('''\n",
    "DFA !! Begins and ends with same; epsilon allowed\n",
    "IF  : 0 -> F0\n",
    "IF  : 1 -> F1\n",
    "!!\n",
    "F0  : 0 -> F0\n",
    "F0  : 1 -> S01\n",
    "S01 : 1 -> S01\n",
    "S01 : 0 -> F0\n",
    "!!\n",
    "F1  : 1 -> F1\n",
    "F1  : 0 -> S10\n",
    "S10 : 0 -> S10\n",
    "S10 : 1 -> F1\n",
    "''')\n",
    "DOdfaBESame = dotObj_dfa(dfaBESame)\n",
    "DOdfaBESame"
   ]
  },
  {
   "cell_type": "code",
   "execution_count": 28,
   "metadata": {
    "run_control": {
     "frozen": false,
     "read_only": false
    }
   },
   "outputs": [
    {
     "data": {
      "text/plain": [
       "'// do_St7\\ndigraph {\\n\\tgraph [rankdir=LR]\\n\\t\\tEMPTY [label=\"\" shape=plaintext]\\n\\t\\tS10 [label=S10 peripheries=1 shape=circle]\\n\\t\\tS01 [label=S01 peripheries=1 shape=circle]\\n\\t\\tF0 [label=F0 peripheries=2 shape=circle]\\n\\t\\tF1 [label=F1 peripheries=2 shape=circle]\\n\\t\\tIF [label=IF peripheries=2 shape=circle]\\n\\t\\t\\tEMPTY -> IF\\n\\t\\t\\tIF -> F0 [label=0]\\n\\t\\t\\tIF -> F1 [label=1]\\n\\t\\t\\tF0 -> F0 [label=0]\\n\\t\\t\\tF0 -> S01 [label=1]\\n\\t\\t\\tS01 -> S01 [label=1]\\n\\t\\t\\tS01 -> F0 [label=0]\\n\\t\\t\\tF1 -> F1 [label=1]\\n\\t\\t\\tF1 -> S10 [label=0]\\n\\t\\t\\tS10 -> S10 [label=0]\\n\\t\\t\\tS10 -> F1 [label=1]\\n}'"
      ]
     },
     "execution_count": 28,
     "metadata": {},
     "output_type": "execute_result"
    }
   ],
   "source": [
    "DOdfaBESame.source"
   ]
  },
  {
   "cell_type": "markdown",
   "metadata": {
    "run_control": {
     "frozen": false,
     "read_only": false
    }
   },
   "source": [
    "### Let us now administer some tests to print dot-strings generated.\n",
    "\n",
    "We will demonstrate two ways to print automata: \n",
    "\n",
    "1. First generate a dot string via dot_dfa or dot_dfa_w_bh\n",
    "   (calling the result \"dot_string\") \n",
    "   1. Then use the srcObj = Source(dot_string) call\n",
    "   2. Thereafter we can display the srcObj object directly into the browser\n",
    "   3. Or, one can also later convert the dot_string to svg or PDF\n",
    "2. OR, one can directly generate a dot object via the dotObj_dfa or dotObj_dfa_w_bh call\n",
    "   (calling the result \"dot_object\")\n",
    "   1. Then directly display the dot_object\n",
    "   2. There are conversions available for dot_object to other formats too"
   ]
  },
  {
   "cell_type": "code",
   "execution_count": 29,
   "metadata": {
    "code_folding": [],
    "run_control": {
     "frozen": false,
     "read_only": false
    }
   },
   "outputs": [],
   "source": [
    "DFA_fig34 = { 'Q': {'A', 'IF', 'B'},\n",
    "              'Sigma': {'0', '1'},\n",
    "              'Delta': { ('IF', '0'): 'A',\n",
    "                         ('IF', '1'): 'IF',\n",
    "                         ('A', '0'): 'B',\n",
    "                         ('A', '1'): 'A',\n",
    "                         ('B', '0'): 'IF',\n",
    "                         ('B', '1'): 'B' },\n",
    "              'q0': 'IF', \n",
    "              'F': {'IF'}   \n",
    "            }\n",
    "\n",
    "def dfa_dot_tests():\n",
    "    \"\"\"Some dot-routine related tests.\n",
    "    \"\"\"\n",
    "    dot_string = dot_dfa(DFA_fig34)\n",
    "    dot_object1 = Source(dot_string)\n",
    "    return dot_object1.source"
   ]
  },
  {
   "cell_type": "markdown",
   "metadata": {
    "run_control": {
     "frozen": false,
     "read_only": false
    }
   },
   "source": [
    "Let us test functions step_dfa, run_dfa, and accepts_dfa"
   ]
  },
  {
   "cell_type": "code",
   "execution_count": 30,
   "metadata": {
    "code_folding": [],
    "run_control": {
     "frozen": false,
     "read_only": false
    }
   },
   "outputs": [],
   "source": [
    "# Some tests of step, run, etc.\n",
    "\n",
    "DFA_fig34 = { 'Q': {'A', 'IF', 'B'},\n",
    "              'Sigma': {'0', '1'},\n",
    "              'Delta': { ('IF', '0'): 'A',\n",
    "                         ('IF', '1'): 'IF',\n",
    "                         ('A', '0'): 'B',\n",
    "                         ('A', '1'): 'A',\n",
    "                         ('B', '0'): 'IF',\n",
    "                         ('B', '1'): 'B' },\n",
    "              'q0': 'IF', \n",
    "              'F': {'IF'}   \n",
    "            }\n",
    "\n",
    "def step_run_accepts_tests():\n",
    "    print(\"step_dfa(DFA_fig34, 'IF', '1') = \", \n",
    "          step_dfa(DFA_fig34, 'IF', '1'))\n",
    "    print(\"step_dfa(DFA_fig34, 'A', '0') = \", \n",
    "          step_dfa(DFA_fig34, 'A', '0'))\n",
    "\n",
    "    print(\"run_dfa(DFA_fig34, '101001') = \", \n",
    "          run_dfa(DFA_fig34, '101001'))\n",
    "    print(\"run_dfa(DFA_fig34, '101000') = \", \n",
    "          run_dfa(DFA_fig34, '101000'))\n",
    "\n",
    "    print(\"accepts_dfa(DFA_fig34, '101001') = \", \n",
    "          accepts_dfa(DFA_fig34, '101001')) \n",
    "    print(\"accepts_dfa(DFA_fig34, '101000') = \", \n",
    "          accepts_dfa(DFA_fig34, '101000')) "
   ]
  },
  {
   "cell_type": "code",
   "execution_count": 31,
   "metadata": {
    "run_control": {
     "frozen": false,
     "read_only": false
    }
   },
   "outputs": [
    {
     "data": {
      "image/svg+xml": [
       "<?xml version=\"1.0\" encoding=\"UTF-8\" standalone=\"no\"?>\n",
       "<!DOCTYPE svg PUBLIC \"-//W3C//DTD SVG 1.1//EN\"\n",
       " \"http://www.w3.org/Graphics/SVG/1.1/DTD/svg11.dtd\">\n",
       "<!-- Generated by graphviz version 2.38.0 (20140413.2041)\n",
       " -->\n",
       "<!-- Title: %3 Pages: 1 -->\n",
       "<svg width=\"301pt\" height=\"137pt\"\n",
       " viewBox=\"0.00 0.00 301.00 137.00\" xmlns=\"http://www.w3.org/2000/svg\" xmlns:xlink=\"http://www.w3.org/1999/xlink\">\n",
       "<g id=\"graph0\" class=\"graph\" transform=\"scale(1 1) rotate(0) translate(4 133)\">\n",
       "<title>%3</title>\n",
       "<polygon fill=\"white\" stroke=\"none\" points=\"-4,4 -4,-133 297,-133 297,4 -4,4\"/>\n",
       "<!-- EMPTY -->\n",
       "<g id=\"node1\" class=\"node\"><title>EMPTY</title>\n",
       "</g>\n",
       "<!-- IF -->\n",
       "<g id=\"node4\" class=\"node\"><title>IF</title>\n",
       "<ellipse fill=\"none\" stroke=\"black\" cx=\"113\" cy=\"-75\" rx=\"18\" ry=\"18\"/>\n",
       "<ellipse fill=\"none\" stroke=\"black\" cx=\"113\" cy=\"-75\" rx=\"22\" ry=\"22\"/>\n",
       "<text text-anchor=\"middle\" x=\"113\" y=\"-70.8\" font-family=\"Times,serif\" font-size=\"14.00\">IF</text>\n",
       "</g>\n",
       "<!-- EMPTY&#45;&gt;IF -->\n",
       "<g id=\"edge1\" class=\"edge\"><title>EMPTY&#45;&gt;IF</title>\n",
       "<path fill=\"none\" stroke=\"black\" d=\"M54.1177,-75C62.5406,-75 71.9629,-75 80.7191,-75\"/>\n",
       "<polygon fill=\"black\" stroke=\"black\" points=\"80.9574,-78.5001 90.9574,-75 80.9573,-71.5001 80.9574,-78.5001\"/>\n",
       "</g>\n",
       "<!-- B -->\n",
       "<g id=\"node2\" class=\"node\"><title>B</title>\n",
       "<ellipse fill=\"none\" stroke=\"black\" cx=\"275\" cy=\"-75\" rx=\"18\" ry=\"18\"/>\n",
       "<text text-anchor=\"middle\" x=\"275\" y=\"-70.8\" font-family=\"Times,serif\" font-size=\"14.00\">B</text>\n",
       "</g>\n",
       "<!-- B&#45;&gt;B -->\n",
       "<g id=\"edge7\" class=\"edge\"><title>B&#45;&gt;B</title>\n",
       "<path fill=\"none\" stroke=\"black\" d=\"M268.266,-92.0373C266.892,-101.858 269.137,-111 275,-111 278.665,-111 280.916,-107.429 281.753,-102.353\"/>\n",
       "<polygon fill=\"black\" stroke=\"black\" points=\"285.252,-102.031 281.734,-92.0373 278.252,-102.044 285.252,-102.031\"/>\n",
       "<text text-anchor=\"middle\" x=\"275\" y=\"-113.8\" font-family=\"Times,serif\" font-size=\"14.00\">1</text>\n",
       "</g>\n",
       "<!-- B&#45;&gt;IF -->\n",
       "<g id=\"edge6\" class=\"edge\"><title>B&#45;&gt;IF</title>\n",
       "<path fill=\"none\" stroke=\"black\" d=\"M256.935,-75.7202C244.929,-76.1898 228.485,-76.7586 214,-77 198.002,-77.2666 193.998,-77.2499 178,-77 167.358,-76.8338 155.724,-76.5121 145.329,-76.1746\"/>\n",
       "<polygon fill=\"black\" stroke=\"black\" points=\"145.152,-72.6666 135.038,-75.8229 144.913,-79.6625 145.152,-72.6666\"/>\n",
       "<text text-anchor=\"middle\" x=\"196\" y=\"-79.8\" font-family=\"Times,serif\" font-size=\"14.00\">0</text>\n",
       "</g>\n",
       "<!-- A -->\n",
       "<g id=\"node3\" class=\"node\"><title>A</title>\n",
       "<ellipse fill=\"none\" stroke=\"black\" cx=\"196\" cy=\"-18\" rx=\"18\" ry=\"18\"/>\n",
       "<text text-anchor=\"middle\" x=\"196\" y=\"-13.8\" font-family=\"Times,serif\" font-size=\"14.00\">A</text>\n",
       "</g>\n",
       "<!-- A&#45;&gt;B -->\n",
       "<g id=\"edge4\" class=\"edge\"><title>A&#45;&gt;B</title>\n",
       "<path fill=\"none\" stroke=\"black\" d=\"M211.123,-28.4547C222.52,-36.8913 238.758,-48.9118 251.878,-58.6237\"/>\n",
       "<polygon fill=\"black\" stroke=\"black\" points=\"249.847,-61.4749 259.967,-64.6116 254.012,-55.8487 249.847,-61.4749\"/>\n",
       "<text text-anchor=\"middle\" x=\"235.5\" y=\"-50.8\" font-family=\"Times,serif\" font-size=\"14.00\">0</text>\n",
       "</g>\n",
       "<!-- A&#45;&gt;A -->\n",
       "<g id=\"edge5\" class=\"edge\"><title>A&#45;&gt;A</title>\n",
       "<path fill=\"none\" stroke=\"black\" d=\"M189.266,-35.0373C187.892,-44.8579 190.137,-54 196,-54 199.665,-54 201.916,-50.4289 202.753,-45.3529\"/>\n",
       "<polygon fill=\"black\" stroke=\"black\" points=\"206.252,-45.0307 202.734,-35.0373 199.252,-45.0439 206.252,-45.0307\"/>\n",
       "<text text-anchor=\"middle\" x=\"196\" y=\"-56.8\" font-family=\"Times,serif\" font-size=\"14.00\">1</text>\n",
       "</g>\n",
       "<!-- IF&#45;&gt;A -->\n",
       "<g id=\"edge2\" class=\"edge\"><title>IF&#45;&gt;A</title>\n",
       "<path fill=\"none\" stroke=\"black\" d=\"M131.576,-62.6318C143.522,-54.2252 159.436,-43.0264 172.335,-33.9498\"/>\n",
       "<polygon fill=\"black\" stroke=\"black\" points=\"174.533,-36.6827 180.697,-28.0654 170.504,-30.958 174.533,-36.6827\"/>\n",
       "<text text-anchor=\"middle\" x=\"156.5\" y=\"-48.8\" font-family=\"Times,serif\" font-size=\"14.00\">0</text>\n",
       "</g>\n",
       "<!-- IF&#45;&gt;IF -->\n",
       "<g id=\"edge3\" class=\"edge\"><title>IF&#45;&gt;IF</title>\n",
       "<path fill=\"none\" stroke=\"black\" d=\"M105.683,-95.9908C104.78,-106.087 107.219,-115 113,-115 116.704,-115 119.036,-111.342 119.996,-106.059\"/>\n",
       "<polygon fill=\"black\" stroke=\"black\" points=\"123.496,-106.097 120.317,-95.9908 116.5,-105.874 123.496,-106.097\"/>\n",
       "<text text-anchor=\"middle\" x=\"113\" y=\"-117.8\" font-family=\"Times,serif\" font-size=\"14.00\">1</text>\n",
       "</g>\n",
       "</g>\n",
       "</svg>\n"
      ],
      "text/plain": [
       "<graphviz.dot.Digraph at 0x10a0507b8>"
      ]
     },
     "execution_count": 31,
     "metadata": {},
     "output_type": "execute_result"
    }
   ],
   "source": [
    "dotObj_dfa(DFA_fig34, \"DFA_fig34\")"
   ]
  },
  {
   "cell_type": "code",
   "execution_count": 32,
   "metadata": {
    "code_folding": [],
    "run_control": {
     "frozen": false,
     "read_only": false
    }
   },
   "outputs": [
    {
     "data": {
      "image/svg+xml": [
       "<?xml version=\"1.0\" encoding=\"UTF-8\" standalone=\"no\"?>\n",
       "<!DOCTYPE svg PUBLIC \"-//W3C//DTD SVG 1.1//EN\"\n",
       " \"http://www.w3.org/Graphics/SVG/1.1/DTD/svg11.dtd\">\n",
       "<!-- Generated by graphviz version 2.38.0 (20140413.2041)\n",
       " -->\n",
       "<!-- Title: %3 Pages: 1 -->\n",
       "<svg width=\"309pt\" height=\"117pt\"\n",
       " viewBox=\"0.00 0.00 309.00 117.00\" xmlns=\"http://www.w3.org/2000/svg\" xmlns:xlink=\"http://www.w3.org/1999/xlink\">\n",
       "<g id=\"graph0\" class=\"graph\" transform=\"scale(1 1) rotate(0) translate(4 113)\">\n",
       "<title>%3</title>\n",
       "<polygon fill=\"white\" stroke=\"none\" points=\"-4,4 -4,-113 305,-113 305,4 -4,4\"/>\n",
       "<!-- EMPTY -->\n",
       "<g id=\"node1\" class=\"node\"><title>EMPTY</title>\n",
       "</g>\n",
       "<!-- IF -->\n",
       "<g id=\"node2\" class=\"node\"><title>IF</title>\n",
       "<ellipse fill=\"none\" stroke=\"black\" cx=\"109\" cy=\"-22\" rx=\"18\" ry=\"18\"/>\n",
       "<text text-anchor=\"middle\" x=\"109\" y=\"-17.8\" font-family=\"Times,serif\" font-size=\"14.00\">IF</text>\n",
       "</g>\n",
       "<!-- EMPTY&#45;&gt;IF -->\n",
       "<g id=\"edge1\" class=\"edge\"><title>EMPTY&#45;&gt;IF</title>\n",
       "<path fill=\"none\" stroke=\"black\" d=\"M54.195,-22C62.6538,-22 72.0513,-22 80.5951,-22\"/>\n",
       "<polygon fill=\"black\" stroke=\"black\" points=\"80.8257,-25.5001 90.8257,-22 80.8257,-18.5001 80.8257,-25.5001\"/>\n",
       "</g>\n",
       "<!-- IF&#45;&gt;IF -->\n",
       "<g id=\"edge3\" class=\"edge\"><title>IF&#45;&gt;IF</title>\n",
       "<path fill=\"none\" stroke=\"black\" d=\"M102.621,-39.0373C101.319,-48.8579 103.445,-58 109,-58 112.472,-58 114.604,-54.4289 115.398,-49.3529\"/>\n",
       "<polygon fill=\"black\" stroke=\"black\" points=\"118.897,-49.031 115.379,-39.0373 111.897,-49.0435 118.897,-49.031\"/>\n",
       "<text text-anchor=\"middle\" x=\"109\" y=\"-60.8\" font-family=\"Times,serif\" font-size=\"14.00\">1</text>\n",
       "</g>\n",
       "<!-- A -->\n",
       "<g id=\"node4\" class=\"node\"><title>A</title>\n",
       "<ellipse fill=\"none\" stroke=\"black\" cx=\"192\" cy=\"-55\" rx=\"18\" ry=\"18\"/>\n",
       "<ellipse fill=\"none\" stroke=\"black\" cx=\"192\" cy=\"-55\" rx=\"22\" ry=\"22\"/>\n",
       "<text text-anchor=\"middle\" x=\"192\" y=\"-50.8\" font-family=\"Times,serif\" font-size=\"14.00\">A</text>\n",
       "</g>\n",
       "<!-- IF&#45;&gt;A -->\n",
       "<g id=\"edge2\" class=\"edge\"><title>IF&#45;&gt;A</title>\n",
       "<path fill=\"none\" stroke=\"black\" d=\"M126.003,-28.5197C136.262,-32.6994 149.881,-38.2476 162.001,-43.1854\"/>\n",
       "<polygon fill=\"black\" stroke=\"black\" points=\"160.725,-46.445 171.307,-46.9767 163.366,-39.9624 160.725,-46.445\"/>\n",
       "<text text-anchor=\"middle\" x=\"148.5\" y=\"-40.8\" font-family=\"Times,serif\" font-size=\"14.00\">0</text>\n",
       "</g>\n",
       "<!-- B -->\n",
       "<g id=\"node3\" class=\"node\"><title>B</title>\n",
       "<ellipse fill=\"none\" stroke=\"black\" cx=\"279\" cy=\"-22\" rx=\"18\" ry=\"18\"/>\n",
       "<ellipse fill=\"none\" stroke=\"black\" cx=\"279\" cy=\"-22\" rx=\"22\" ry=\"22\"/>\n",
       "<text text-anchor=\"middle\" x=\"279\" y=\"-17.8\" font-family=\"Times,serif\" font-size=\"14.00\">B</text>\n",
       "</g>\n",
       "<!-- B&#45;&gt;IF -->\n",
       "<g id=\"edge6\" class=\"edge\"><title>B&#45;&gt;IF</title>\n",
       "<path fill=\"none\" stroke=\"black\" d=\"M257.384,-17.129C244.908,-14.4332 228.633,-11.36 214,-10 194.528,-8.1903 189.46,-8.07304 170,-10 159.016,-11.0877 147.064,-13.2693 136.739,-15.4777\"/>\n",
       "<polygon fill=\"black\" stroke=\"black\" points=\"135.664,-12.132 126.677,-17.744 137.202,-18.961 135.664,-12.132\"/>\n",
       "<text text-anchor=\"middle\" x=\"192\" y=\"-12.8\" font-family=\"Times,serif\" font-size=\"14.00\">0</text>\n",
       "</g>\n",
       "<!-- B&#45;&gt;B -->\n",
       "<g id=\"edge7\" class=\"edge\"><title>B&#45;&gt;B</title>\n",
       "<path fill=\"none\" stroke=\"black\" d=\"M271.317,-42.9908C270.369,-53.0872 272.93,-62 279,-62 282.889,-62 285.337,-58.3422 286.346,-53.0587\"/>\n",
       "<polygon fill=\"black\" stroke=\"black\" points=\"289.846,-53.1023 286.683,-42.9908 282.85,-52.868 289.846,-53.1023\"/>\n",
       "<text text-anchor=\"middle\" x=\"279\" y=\"-64.8\" font-family=\"Times,serif\" font-size=\"14.00\">1</text>\n",
       "</g>\n",
       "<!-- A&#45;&gt;B -->\n",
       "<g id=\"edge4\" class=\"edge\"><title>A&#45;&gt;B</title>\n",
       "<path fill=\"none\" stroke=\"black\" d=\"M212.714,-47.3462C223.366,-43.2109 236.728,-38.0231 248.585,-33.4199\"/>\n",
       "<polygon fill=\"black\" stroke=\"black\" points=\"250.043,-36.6086 258.098,-29.7266 247.509,-30.0831 250.043,-36.6086\"/>\n",
       "<text text-anchor=\"middle\" x=\"235.5\" y=\"-41.8\" font-family=\"Times,serif\" font-size=\"14.00\">0</text>\n",
       "</g>\n",
       "<!-- A&#45;&gt;A -->\n",
       "<g id=\"edge5\" class=\"edge\"><title>A&#45;&gt;A</title>\n",
       "<path fill=\"none\" stroke=\"black\" d=\"M184.317,-75.9908C183.369,-86.0872 185.93,-95 192,-95 195.889,-95 198.337,-91.3422 199.346,-86.0587\"/>\n",
       "<polygon fill=\"black\" stroke=\"black\" points=\"202.846,-86.1023 199.683,-75.9908 195.85,-85.868 202.846,-86.1023\"/>\n",
       "<text text-anchor=\"middle\" x=\"192\" y=\"-97.8\" font-family=\"Times,serif\" font-size=\"14.00\">1</text>\n",
       "</g>\n",
       "</g>\n",
       "</svg>\n"
      ],
      "text/plain": [
       "<graphviz.dot.Digraph at 0x10a64cac8>"
      ]
     },
     "execution_count": 32,
     "metadata": {},
     "output_type": "execute_result"
    }
   ],
   "source": [
    "# Run a complementation test\n",
    "DFA_fig34_comp = comp_dfa(DFA_fig34)\n",
    "dotObj_dfa(DFA_fig34_comp, \"DFA_fig34_comp\")\n",
    "dotObj_dfa(DFA_fig34)\n",
    "dotObj_dfa(DFA_fig34_comp, \"DFA_fig34_comp\")"
   ]
  },
  {
   "cell_type": "code",
   "execution_count": 33,
   "metadata": {
    "run_control": {
     "frozen": false,
     "read_only": false
    }
   },
   "outputs": [
    {
     "data": {
      "image/svg+xml": [
       "<?xml version=\"1.0\" encoding=\"UTF-8\" standalone=\"no\"?>\n",
       "<!DOCTYPE svg PUBLIC \"-//W3C//DTD SVG 1.1//EN\"\n",
       " \"http://www.w3.org/Graphics/SVG/1.1/DTD/svg11.dtd\">\n",
       "<!-- Generated by graphviz version 2.38.0 (20140413.2041)\n",
       " -->\n",
       "<!-- Title: %3 Pages: 1 -->\n",
       "<svg width=\"309pt\" height=\"117pt\"\n",
       " viewBox=\"0.00 0.00 309.00 117.00\" xmlns=\"http://www.w3.org/2000/svg\" xmlns:xlink=\"http://www.w3.org/1999/xlink\">\n",
       "<g id=\"graph0\" class=\"graph\" transform=\"scale(1 1) rotate(0) translate(4 113)\">\n",
       "<title>%3</title>\n",
       "<polygon fill=\"white\" stroke=\"none\" points=\"-4,4 -4,-113 305,-113 305,4 -4,4\"/>\n",
       "<!-- EMPTY -->\n",
       "<g id=\"node1\" class=\"node\"><title>EMPTY</title>\n",
       "</g>\n",
       "<!-- IF -->\n",
       "<g id=\"node2\" class=\"node\"><title>IF</title>\n",
       "<ellipse fill=\"none\" stroke=\"black\" cx=\"109\" cy=\"-22\" rx=\"18\" ry=\"18\"/>\n",
       "<text text-anchor=\"middle\" x=\"109\" y=\"-17.8\" font-family=\"Times,serif\" font-size=\"14.00\">IF</text>\n",
       "</g>\n",
       "<!-- EMPTY&#45;&gt;IF -->\n",
       "<g id=\"edge1\" class=\"edge\"><title>EMPTY&#45;&gt;IF</title>\n",
       "<path fill=\"none\" stroke=\"black\" d=\"M54.195,-22C62.6538,-22 72.0513,-22 80.5951,-22\"/>\n",
       "<polygon fill=\"black\" stroke=\"black\" points=\"80.8257,-25.5001 90.8257,-22 80.8257,-18.5001 80.8257,-25.5001\"/>\n",
       "</g>\n",
       "<!-- IF&#45;&gt;IF -->\n",
       "<g id=\"edge3\" class=\"edge\"><title>IF&#45;&gt;IF</title>\n",
       "<path fill=\"none\" stroke=\"black\" d=\"M102.621,-39.0373C101.319,-48.8579 103.445,-58 109,-58 112.472,-58 114.604,-54.4289 115.398,-49.3529\"/>\n",
       "<polygon fill=\"black\" stroke=\"black\" points=\"118.897,-49.031 115.379,-39.0373 111.897,-49.0435 118.897,-49.031\"/>\n",
       "<text text-anchor=\"middle\" x=\"109\" y=\"-60.8\" font-family=\"Times,serif\" font-size=\"14.00\">1</text>\n",
       "</g>\n",
       "<!-- A -->\n",
       "<g id=\"node4\" class=\"node\"><title>A</title>\n",
       "<ellipse fill=\"none\" stroke=\"black\" cx=\"192\" cy=\"-55\" rx=\"18\" ry=\"18\"/>\n",
       "<ellipse fill=\"none\" stroke=\"black\" cx=\"192\" cy=\"-55\" rx=\"22\" ry=\"22\"/>\n",
       "<text text-anchor=\"middle\" x=\"192\" y=\"-50.8\" font-family=\"Times,serif\" font-size=\"14.00\">A</text>\n",
       "</g>\n",
       "<!-- IF&#45;&gt;A -->\n",
       "<g id=\"edge2\" class=\"edge\"><title>IF&#45;&gt;A</title>\n",
       "<path fill=\"none\" stroke=\"black\" d=\"M126.003,-28.5197C136.262,-32.6994 149.881,-38.2476 162.001,-43.1854\"/>\n",
       "<polygon fill=\"black\" stroke=\"black\" points=\"160.725,-46.445 171.307,-46.9767 163.366,-39.9624 160.725,-46.445\"/>\n",
       "<text text-anchor=\"middle\" x=\"148.5\" y=\"-40.8\" font-family=\"Times,serif\" font-size=\"14.00\">0</text>\n",
       "</g>\n",
       "<!-- B -->\n",
       "<g id=\"node3\" class=\"node\"><title>B</title>\n",
       "<ellipse fill=\"none\" stroke=\"black\" cx=\"279\" cy=\"-22\" rx=\"18\" ry=\"18\"/>\n",
       "<ellipse fill=\"none\" stroke=\"black\" cx=\"279\" cy=\"-22\" rx=\"22\" ry=\"22\"/>\n",
       "<text text-anchor=\"middle\" x=\"279\" y=\"-17.8\" font-family=\"Times,serif\" font-size=\"14.00\">B</text>\n",
       "</g>\n",
       "<!-- B&#45;&gt;IF -->\n",
       "<g id=\"edge6\" class=\"edge\"><title>B&#45;&gt;IF</title>\n",
       "<path fill=\"none\" stroke=\"black\" d=\"M257.384,-17.129C244.908,-14.4332 228.633,-11.36 214,-10 194.528,-8.1903 189.46,-8.07304 170,-10 159.016,-11.0877 147.064,-13.2693 136.739,-15.4777\"/>\n",
       "<polygon fill=\"black\" stroke=\"black\" points=\"135.664,-12.132 126.677,-17.744 137.202,-18.961 135.664,-12.132\"/>\n",
       "<text text-anchor=\"middle\" x=\"192\" y=\"-12.8\" font-family=\"Times,serif\" font-size=\"14.00\">0</text>\n",
       "</g>\n",
       "<!-- B&#45;&gt;B -->\n",
       "<g id=\"edge7\" class=\"edge\"><title>B&#45;&gt;B</title>\n",
       "<path fill=\"none\" stroke=\"black\" d=\"M271.317,-42.9908C270.369,-53.0872 272.93,-62 279,-62 282.889,-62 285.337,-58.3422 286.346,-53.0587\"/>\n",
       "<polygon fill=\"black\" stroke=\"black\" points=\"289.846,-53.1023 286.683,-42.9908 282.85,-52.868 289.846,-53.1023\"/>\n",
       "<text text-anchor=\"middle\" x=\"279\" y=\"-64.8\" font-family=\"Times,serif\" font-size=\"14.00\">1</text>\n",
       "</g>\n",
       "<!-- A&#45;&gt;B -->\n",
       "<g id=\"edge4\" class=\"edge\"><title>A&#45;&gt;B</title>\n",
       "<path fill=\"none\" stroke=\"black\" d=\"M212.714,-47.3462C223.366,-43.2109 236.728,-38.0231 248.585,-33.4199\"/>\n",
       "<polygon fill=\"black\" stroke=\"black\" points=\"250.043,-36.6086 258.098,-29.7266 247.509,-30.0831 250.043,-36.6086\"/>\n",
       "<text text-anchor=\"middle\" x=\"235.5\" y=\"-41.8\" font-family=\"Times,serif\" font-size=\"14.00\">0</text>\n",
       "</g>\n",
       "<!-- A&#45;&gt;A -->\n",
       "<g id=\"edge5\" class=\"edge\"><title>A&#45;&gt;A</title>\n",
       "<path fill=\"none\" stroke=\"black\" d=\"M184.317,-75.9908C183.369,-86.0872 185.93,-95 192,-95 195.889,-95 198.337,-91.3422 199.346,-86.0587\"/>\n",
       "<polygon fill=\"black\" stroke=\"black\" points=\"202.846,-86.1023 199.683,-75.9908 195.85,-85.868 202.846,-86.1023\"/>\n",
       "<text text-anchor=\"middle\" x=\"192\" y=\"-97.8\" font-family=\"Times,serif\" font-size=\"14.00\">1</text>\n",
       "</g>\n",
       "</g>\n",
       "</svg>\n"
      ],
      "text/plain": [
       "<graphviz.dot.Digraph at 0x10a64c908>"
      ]
     },
     "execution_count": 33,
     "metadata": {},
     "output_type": "execute_result"
    }
   ],
   "source": [
    "dotObj_dfa(DFA_fig34_comp)"
   ]
  },
  {
   "cell_type": "code",
   "execution_count": 34,
   "metadata": {
    "run_control": {
     "frozen": false,
     "read_only": false
    }
   },
   "outputs": [
    {
     "data": {
      "image/svg+xml": [
       "<?xml version=\"1.0\" encoding=\"UTF-8\" standalone=\"no\"?>\n",
       "<!DOCTYPE svg PUBLIC \"-//W3C//DTD SVG 1.1//EN\"\n",
       " \"http://www.w3.org/Graphics/SVG/1.1/DTD/svg11.dtd\">\n",
       "<!-- Generated by graphviz version 2.38.0 (20140413.2041)\n",
       " -->\n",
       "<!-- Title: %3 Pages: 1 -->\n",
       "<svg width=\"412pt\" height=\"188pt\"\n",
       " viewBox=\"0.00 0.00 412.10 188.34\" xmlns=\"http://www.w3.org/2000/svg\" xmlns:xlink=\"http://www.w3.org/1999/xlink\">\n",
       "<g id=\"graph0\" class=\"graph\" transform=\"scale(1 1) rotate(0) translate(4 184.336)\">\n",
       "<title>%3</title>\n",
       "<polygon fill=\"white\" stroke=\"none\" points=\"-4,4 -4,-184.336 408.104,-184.336 408.104,4 -4,4\"/>\n",
       "<!-- EMPTY -->\n",
       "<g id=\"node1\" class=\"node\"><title>EMPTY</title>\n",
       "</g>\n",
       "<!-- \\(IF_IF\\) -->\n",
       "<g id=\"node4\" class=\"node\"><title>\\(IF_IF\\)</title>\n",
       "<ellipse fill=\"none\" stroke=\"black\" cx=\"131.145\" cy=\"-108.191\" rx=\"36.2759\" ry=\"36.2759\"/>\n",
       "<ellipse fill=\"none\" stroke=\"black\" cx=\"131.145\" cy=\"-108.191\" rx=\"40.2904\" ry=\"40.2904\"/>\n",
       "<text text-anchor=\"middle\" x=\"131.145\" y=\"-103.991\" font-family=\"Times,serif\" font-size=\"14.00\">(IF_IF)</text>\n",
       "</g>\n",
       "<!-- EMPTY&#45;&gt;\\(IF_IF\\) -->\n",
       "<g id=\"edge1\" class=\"edge\"><title>EMPTY&#45;&gt;\\(IF_IF\\)</title>\n",
       "<path fill=\"none\" stroke=\"black\" d=\"M54.0398,-108.191C62.1135,-108.191 71.296,-108.191 80.4211,-108.191\"/>\n",
       "<polygon fill=\"black\" stroke=\"black\" points=\"80.6371,-111.691 90.6371,-108.191 80.637,-104.691 80.6371,-111.691\"/>\n",
       "</g>\n",
       "<!-- \\(A_A\\) -->\n",
       "<g id=\"node2\" class=\"node\"><title>\\(A_A\\)</title>\n",
       "<ellipse fill=\"none\" stroke=\"black\" cx=\"251.481\" cy=\"-37.1914\" rx=\"33.3631\" ry=\"33.3631\"/>\n",
       "<ellipse fill=\"none\" stroke=\"black\" cx=\"251.481\" cy=\"-37.1914\" rx=\"37.3837\" ry=\"37.3837\"/>\n",
       "<text text-anchor=\"middle\" x=\"251.481\" y=\"-32.9914\" font-family=\"Times,serif\" font-size=\"14.00\">(A_A)</text>\n",
       "</g>\n",
       "<!-- \\(A_A\\)&#45;&gt;\\(A_A\\) -->\n",
       "<g id=\"edge6\" class=\"edge\"><title>\\(A_A\\)&#45;&gt;\\(A_A\\)</title>\n",
       "<path fill=\"none\" stroke=\"black\" d=\"M240.623,-73.0225C240.895,-83.8888 244.514,-92.3827 251.481,-92.3827 256.053,-92.3827 259.184,-88.7247 260.872,-83.1387\"/>\n",
       "<polygon fill=\"black\" stroke=\"black\" points=\"264.368,-83.4214 262.34,-73.0225 257.44,-82.4165 264.368,-83.4214\"/>\n",
       "<text text-anchor=\"middle\" x=\"251.481\" y=\"-95.1827\" font-family=\"Times,serif\" font-size=\"14.00\">1</text>\n",
       "</g>\n",
       "<!-- \\(B_B\\) -->\n",
       "<g id=\"node3\" class=\"node\"><title>\\(B_B\\)</title>\n",
       "<ellipse fill=\"none\" stroke=\"black\" cx=\"367.888\" cy=\"-108.191\" rx=\"32.4083\" ry=\"32.4083\"/>\n",
       "<ellipse fill=\"none\" stroke=\"black\" cx=\"367.888\" cy=\"-108.191\" rx=\"36.4323\" ry=\"36.4323\"/>\n",
       "<text text-anchor=\"middle\" x=\"367.888\" y=\"-103.991\" font-family=\"Times,serif\" font-size=\"14.00\">(B_B)</text>\n",
       "</g>\n",
       "<!-- \\(A_A\\)&#45;&gt;\\(B_B\\) -->\n",
       "<g id=\"edge3\" class=\"edge\"><title>\\(A_A\\)&#45;&gt;\\(B_B\\)</title>\n",
       "<path fill=\"none\" stroke=\"black\" d=\"M283.441,-56.405C297.142,-64.9074 313.407,-75.0011 327.922,-84.0091\"/>\n",
       "<polygon fill=\"black\" stroke=\"black\" points=\"326.352,-87.1543 336.695,-89.4535 330.043,-81.2066 326.352,-87.1543\"/>\n",
       "<text text-anchor=\"middle\" x=\"310.173\" y=\"-76.9914\" font-family=\"Times,serif\" font-size=\"14.00\">0</text>\n",
       "</g>\n",
       "<!-- \\(B_B\\)&#45;&gt;\\(B_B\\) -->\n",
       "<g id=\"edge5\" class=\"edge\"><title>\\(B_B\\)&#45;&gt;\\(B_B\\)</title>\n",
       "<path fill=\"none\" stroke=\"black\" d=\"M357.394,-142.866C357.554,-153.79 361.052,-162.407 367.888,-162.407 372.374,-162.407 375.423,-158.696 377.034,-153.057\"/>\n",
       "<polygon fill=\"black\" stroke=\"black\" points=\"380.54,-153.239 378.382,-142.866 373.601,-152.321 380.54,-153.239\"/>\n",
       "<text text-anchor=\"middle\" x=\"367.888\" y=\"-165.207\" font-family=\"Times,serif\" font-size=\"14.00\">1</text>\n",
       "</g>\n",
       "<!-- \\(B_B\\)&#45;&gt;\\(IF_IF\\) -->\n",
       "<g id=\"edge7\" class=\"edge\"><title>\\(B_B\\)&#45;&gt;\\(IF_IF\\)</title>\n",
       "<path fill=\"none\" stroke=\"black\" d=\"M331.501,-112.032C318.103,-113.309 302.701,-114.565 288.673,-115.191 255.647,-116.666 247.319,-116.596 214.29,-115.191 203.67,-114.74 192.298,-113.961 181.505,-113.083\"/>\n",
       "<polygon fill=\"black\" stroke=\"black\" points=\"181.639,-109.582 171.378,-112.218 181.044,-116.556 181.639,-109.582\"/>\n",
       "<text text-anchor=\"middle\" x=\"251.481\" y=\"-118.991\" font-family=\"Times,serif\" font-size=\"14.00\">0</text>\n",
       "</g>\n",
       "<!-- \\(IF_IF\\)&#45;&gt;\\(A_A\\) -->\n",
       "<g id=\"edge4\" class=\"edge\"><title>\\(IF_IF\\)&#45;&gt;\\(A_A\\)</title>\n",
       "<path fill=\"none\" stroke=\"black\" d=\"M166.055,-87.8456C179.856,-79.5657 195.913,-69.9317 210.296,-61.302\"/>\n",
       "<polygon fill=\"black\" stroke=\"black\" points=\"212.226,-64.2258 219,-56.0797 208.624,-58.2233 212.226,-64.2258\"/>\n",
       "<text text-anchor=\"middle\" x=\"192.79\" y=\"-74.9914\" font-family=\"Times,serif\" font-size=\"14.00\">0</text>\n",
       "</g>\n",
       "<!-- \\(IF_IF\\)&#45;&gt;\\(IF_IF\\) -->\n",
       "<g id=\"edge2\" class=\"edge\"><title>\\(IF_IF\\)&#45;&gt;\\(IF_IF\\)</title>\n",
       "<path fill=\"none\" stroke=\"black\" d=\"M120.324,-147.049C120.798,-157.96 124.405,-166.336 131.145,-166.336 135.568,-166.336 138.642,-162.729 140.367,-157.165\"/>\n",
       "<polygon fill=\"black\" stroke=\"black\" points=\"143.862,-157.473 141.966,-147.049 136.947,-156.379 143.862,-157.473\"/>\n",
       "<text text-anchor=\"middle\" x=\"131.145\" y=\"-169.136\" font-family=\"Times,serif\" font-size=\"14.00\">1</text>\n",
       "</g>\n",
       "</g>\n",
       "</svg>\n"
      ],
      "text/plain": [
       "<graphviz.dot.Digraph at 0x10a64c128>"
      ]
     },
     "execution_count": 34,
     "metadata": {},
     "output_type": "execute_result"
    }
   ],
   "source": [
    "# One more test\n",
    "du     = union_dfa(DFA_fig34, DFA_fig34_comp)\n",
    "dotObj_dfa(du, \"orig union\")\n",
    "pdu    = pruneUnreach(du)\n",
    "pdu\n",
    "pduObj = dotObj_dfa(pdu, \"union of 34 and comp\")\n",
    "pduObj\n",
    "\n"
   ]
  },
  {
   "cell_type": "code",
   "execution_count": 35,
   "metadata": {
    "code_folding": [],
    "run_control": {
     "frozen": false,
     "read_only": false
    }
   },
   "outputs": [
    {
     "data": {
      "image/svg+xml": [
       "<?xml version=\"1.0\" encoding=\"UTF-8\" standalone=\"no\"?>\n",
       "<!DOCTYPE svg PUBLIC \"-//W3C//DTD SVG 1.1//EN\"\n",
       " \"http://www.w3.org/Graphics/SVG/1.1/DTD/svg11.dtd\">\n",
       "<!-- Generated by graphviz version 2.38.0 (20140413.2041)\n",
       " -->\n",
       "<!-- Title: %3 Pages: 1 -->\n",
       "<svg width=\"301pt\" height=\"137pt\"\n",
       " viewBox=\"0.00 0.00 301.00 137.00\" xmlns=\"http://www.w3.org/2000/svg\" xmlns:xlink=\"http://www.w3.org/1999/xlink\">\n",
       "<g id=\"graph0\" class=\"graph\" transform=\"scale(1 1) rotate(0) translate(4 133)\">\n",
       "<title>%3</title>\n",
       "<polygon fill=\"white\" stroke=\"none\" points=\"-4,4 -4,-133 297,-133 297,4 -4,4\"/>\n",
       "<!-- EMPTY -->\n",
       "<g id=\"node1\" class=\"node\"><title>EMPTY</title>\n",
       "</g>\n",
       "<!-- IF -->\n",
       "<g id=\"node4\" class=\"node\"><title>IF</title>\n",
       "<ellipse fill=\"none\" stroke=\"black\" cx=\"113\" cy=\"-75\" rx=\"18\" ry=\"18\"/>\n",
       "<ellipse fill=\"none\" stroke=\"black\" cx=\"113\" cy=\"-75\" rx=\"22\" ry=\"22\"/>\n",
       "<text text-anchor=\"middle\" x=\"113\" y=\"-70.8\" font-family=\"Times,serif\" font-size=\"14.00\">IF</text>\n",
       "</g>\n",
       "<!-- EMPTY&#45;&gt;IF -->\n",
       "<g id=\"edge1\" class=\"edge\"><title>EMPTY&#45;&gt;IF</title>\n",
       "<path fill=\"none\" stroke=\"black\" d=\"M54.1177,-75C62.5406,-75 71.9629,-75 80.7191,-75\"/>\n",
       "<polygon fill=\"black\" stroke=\"black\" points=\"80.9574,-78.5001 90.9574,-75 80.9573,-71.5001 80.9574,-78.5001\"/>\n",
       "</g>\n",
       "<!-- B -->\n",
       "<g id=\"node2\" class=\"node\"><title>B</title>\n",
       "<ellipse fill=\"none\" stroke=\"black\" cx=\"275\" cy=\"-75\" rx=\"18\" ry=\"18\"/>\n",
       "<text text-anchor=\"middle\" x=\"275\" y=\"-70.8\" font-family=\"Times,serif\" font-size=\"14.00\">B</text>\n",
       "</g>\n",
       "<!-- B&#45;&gt;B -->\n",
       "<g id=\"edge7\" class=\"edge\"><title>B&#45;&gt;B</title>\n",
       "<path fill=\"none\" stroke=\"black\" d=\"M268.266,-92.0373C266.892,-101.858 269.137,-111 275,-111 278.665,-111 280.916,-107.429 281.753,-102.353\"/>\n",
       "<polygon fill=\"black\" stroke=\"black\" points=\"285.252,-102.031 281.734,-92.0373 278.252,-102.044 285.252,-102.031\"/>\n",
       "<text text-anchor=\"middle\" x=\"275\" y=\"-113.8\" font-family=\"Times,serif\" font-size=\"14.00\">1</text>\n",
       "</g>\n",
       "<!-- B&#45;&gt;IF -->\n",
       "<g id=\"edge6\" class=\"edge\"><title>B&#45;&gt;IF</title>\n",
       "<path fill=\"none\" stroke=\"black\" d=\"M256.935,-75.7202C244.929,-76.1898 228.485,-76.7586 214,-77 198.002,-77.2666 193.998,-77.2499 178,-77 167.358,-76.8338 155.724,-76.5121 145.329,-76.1746\"/>\n",
       "<polygon fill=\"black\" stroke=\"black\" points=\"145.152,-72.6666 135.038,-75.8229 144.913,-79.6625 145.152,-72.6666\"/>\n",
       "<text text-anchor=\"middle\" x=\"196\" y=\"-79.8\" font-family=\"Times,serif\" font-size=\"14.00\">0</text>\n",
       "</g>\n",
       "<!-- A -->\n",
       "<g id=\"node3\" class=\"node\"><title>A</title>\n",
       "<ellipse fill=\"none\" stroke=\"black\" cx=\"196\" cy=\"-18\" rx=\"18\" ry=\"18\"/>\n",
       "<text text-anchor=\"middle\" x=\"196\" y=\"-13.8\" font-family=\"Times,serif\" font-size=\"14.00\">A</text>\n",
       "</g>\n",
       "<!-- A&#45;&gt;B -->\n",
       "<g id=\"edge4\" class=\"edge\"><title>A&#45;&gt;B</title>\n",
       "<path fill=\"none\" stroke=\"black\" d=\"M211.123,-28.4547C222.52,-36.8913 238.758,-48.9118 251.878,-58.6237\"/>\n",
       "<polygon fill=\"black\" stroke=\"black\" points=\"249.847,-61.4749 259.967,-64.6116 254.012,-55.8487 249.847,-61.4749\"/>\n",
       "<text text-anchor=\"middle\" x=\"235.5\" y=\"-50.8\" font-family=\"Times,serif\" font-size=\"14.00\">0</text>\n",
       "</g>\n",
       "<!-- A&#45;&gt;A -->\n",
       "<g id=\"edge5\" class=\"edge\"><title>A&#45;&gt;A</title>\n",
       "<path fill=\"none\" stroke=\"black\" d=\"M189.266,-35.0373C187.892,-44.8579 190.137,-54 196,-54 199.665,-54 201.916,-50.4289 202.753,-45.3529\"/>\n",
       "<polygon fill=\"black\" stroke=\"black\" points=\"206.252,-45.0307 202.734,-35.0373 199.252,-45.0439 206.252,-45.0307\"/>\n",
       "<text text-anchor=\"middle\" x=\"196\" y=\"-56.8\" font-family=\"Times,serif\" font-size=\"14.00\">1</text>\n",
       "</g>\n",
       "<!-- IF&#45;&gt;A -->\n",
       "<g id=\"edge2\" class=\"edge\"><title>IF&#45;&gt;A</title>\n",
       "<path fill=\"none\" stroke=\"black\" d=\"M131.576,-62.6318C143.522,-54.2252 159.436,-43.0264 172.335,-33.9498\"/>\n",
       "<polygon fill=\"black\" stroke=\"black\" points=\"174.533,-36.6827 180.697,-28.0654 170.504,-30.958 174.533,-36.6827\"/>\n",
       "<text text-anchor=\"middle\" x=\"156.5\" y=\"-48.8\" font-family=\"Times,serif\" font-size=\"14.00\">0</text>\n",
       "</g>\n",
       "<!-- IF&#45;&gt;IF -->\n",
       "<g id=\"edge3\" class=\"edge\"><title>IF&#45;&gt;IF</title>\n",
       "<path fill=\"none\" stroke=\"black\" d=\"M105.683,-95.9908C104.78,-106.087 107.219,-115 113,-115 116.704,-115 119.036,-111.342 119.996,-106.059\"/>\n",
       "<polygon fill=\"black\" stroke=\"black\" points=\"123.496,-106.097 120.317,-95.9908 116.5,-105.874 123.496,-106.097\"/>\n",
       "<text text-anchor=\"middle\" x=\"113\" y=\"-117.8\" font-family=\"Times,serif\" font-size=\"14.00\">1</text>\n",
       "</g>\n",
       "</g>\n",
       "</svg>\n"
      ],
      "text/plain": [
       "<graphviz.dot.Digraph at 0x10a6536a0>"
      ]
     },
     "execution_count": 35,
     "metadata": {},
     "output_type": "execute_result"
    }
   ],
   "source": [
    "D34 = {   'Q': {'A', 'IF', 'B'},\n",
    "          'Sigma': {'0', '1'},\n",
    "          'Delta': { ('IF', '0'): 'A',\n",
    "                     ('IF', '1'): 'IF',\n",
    "                     ('A', '0'): 'B',\n",
    "                     ('A', '1'): 'A',\n",
    "                     ('B', '0'): 'IF',\n",
    "                     ('B', '1'): 'B' },\n",
    "          'q0': 'IF', \n",
    "          'F': {'IF'}   \n",
    "        }\n",
    "\n",
    "D34bl = { 'Q': {'A', 'IF', 'B', 'A1', 'B1'},\n",
    "          'Sigma': {'0', '1'},\n",
    "          'Delta': { ('IF', '0'): 'A',\n",
    "                     ('IF', '1'): 'IF',\n",
    "                     ('A', '0'): 'B1',\n",
    "                     ('A', '1'): 'A1',\n",
    "                     ('A1', '0'): 'B',\n",
    "                     ('A1', '1'): 'A',\n",
    "                     ('B1', '0'): 'IF',\n",
    "                     ('B1', '1'): 'B',\n",
    "                     ('B','0') : 'IF',\n",
    "                     ('B', '1'): 'B1' },\n",
    "          'q0': 'IF', \n",
    "          'F': {'IF'}   \n",
    "        }\n",
    "\n",
    "\n",
    "d34 = dotObj_dfa(D34, \"D34\")\n",
    "d34 # Display it!"
   ]
  },
  {
   "cell_type": "code",
   "execution_count": 36,
   "metadata": {
    "run_control": {
     "frozen": false,
     "read_only": false
    }
   },
   "outputs": [
    {
     "data": {
      "text/plain": [
       "True"
      ]
     },
     "execution_count": 36,
     "metadata": {},
     "output_type": "execute_result"
    }
   ],
   "source": [
    "langeq_dfa(D34,D34bl,False)"
   ]
  },
  {
   "cell_type": "code",
   "execution_count": 37,
   "metadata": {
    "run_control": {
     "frozen": false,
     "read_only": false
    }
   },
   "outputs": [
    {
     "data": {
      "text/plain": [
       "False"
      ]
     },
     "execution_count": 37,
     "metadata": {},
     "output_type": "execute_result"
    }
   ],
   "source": [
    "iso_dfa(D34,D34bl)"
   ]
  },
  {
   "cell_type": "code",
   "execution_count": 38,
   "metadata": {
    "run_control": {
     "frozen": false,
     "read_only": false
    }
   },
   "outputs": [
    {
     "data": {
      "text/plain": [
       "{'Delta': {('A', '0'): 'B',\n",
       "  ('A', '1'): 'A',\n",
       "  ('B', '0'): 'IF',\n",
       "  ('B', '1'): 'B',\n",
       "  ('IF', '0'): 'A',\n",
       "  ('IF', '1'): 'IF'},\n",
       " 'F': {'IF'},\n",
       " 'Q': {'A', 'B', 'IF'},\n",
       " 'Sigma': {'0', '1'},\n",
       " 'q0': 'IF'}"
      ]
     },
     "execution_count": 38,
     "metadata": {},
     "output_type": "execute_result"
    }
   ],
   "source": [
    "DFA_fig34\n",
    "d34 = DFA_fig34\n",
    "d34"
   ]
  },
  {
   "cell_type": "code",
   "execution_count": 39,
   "metadata": {
    "run_control": {
     "frozen": false,
     "read_only": false
    }
   },
   "outputs": [
    {
     "data": {
      "text/plain": [
       "{'Delta': {('A', '0'): 'B',\n",
       "  ('A', '1'): 'A',\n",
       "  ('B', '0'): 'IF',\n",
       "  ('B', '1'): 'B',\n",
       "  ('IF', '0'): 'A',\n",
       "  ('IF', '1'): 'IF'},\n",
       " 'F': {'A', 'B'},\n",
       " 'Q': {'A', 'B', 'IF'},\n",
       " 'Sigma': {'0', '1'},\n",
       " 'q0': 'IF'}"
      ]
     },
     "execution_count": 39,
     "metadata": {},
     "output_type": "execute_result"
    }
   ],
   "source": [
    "d34c = DFA_fig34_comp\n",
    "d34c"
   ]
  },
  {
   "cell_type": "code",
   "execution_count": 40,
   "metadata": {
    "run_control": {
     "frozen": false,
     "read_only": false
    }
   },
   "outputs": [
    {
     "data": {
      "text/plain": [
       "True"
      ]
     },
     "execution_count": 40,
     "metadata": {},
     "output_type": "execute_result"
    }
   ],
   "source": [
    "iso_dfa(d34,d34)"
   ]
  },
  {
   "cell_type": "code",
   "execution_count": 41,
   "metadata": {
    "run_control": {
     "frozen": false,
     "read_only": false
    }
   },
   "outputs": [
    {
     "data": {
      "text/plain": [
       "False"
      ]
     },
     "execution_count": 41,
     "metadata": {},
     "output_type": "execute_result"
    }
   ],
   "source": [
    "iso_dfa(d34,d34c)"
   ]
  },
  {
   "cell_type": "code",
   "execution_count": 42,
   "metadata": {
    "run_control": {
     "frozen": false,
     "read_only": false
    }
   },
   "outputs": [],
   "source": [
    "d34v1 = {'Delta': {('A', '0'): 'B',\n",
    "  ('A', '1'): 'B',\n",
    "  ('B', '0'): 'IF',\n",
    "  ('B', '1'): 'B',\n",
    "  ('IF', '0'): 'A',\n",
    "  ('IF', '1'): 'IF'},\n",
    " 'F': {'IF'},\n",
    " 'Q': {'A', 'B', 'IF'},\n",
    " 'Sigma': {'0', '1'},\n",
    " 'q0': 'IF'}"
   ]
  },
  {
   "cell_type": "code",
   "execution_count": 43,
   "metadata": {
    "run_control": {
     "frozen": false,
     "read_only": false
    }
   },
   "outputs": [
    {
     "data": {
      "image/svg+xml": [
       "<?xml version=\"1.0\" encoding=\"UTF-8\" standalone=\"no\"?>\n",
       "<!DOCTYPE svg PUBLIC \"-//W3C//DTD SVG 1.1//EN\"\n",
       " \"http://www.w3.org/Graphics/SVG/1.1/DTD/svg11.dtd\">\n",
       "<!-- Generated by graphviz version 2.38.0 (20140413.2041)\n",
       " -->\n",
       "<!-- Title: %3 Pages: 1 -->\n",
       "<svg width=\"301pt\" height=\"113pt\"\n",
       " viewBox=\"0.00 0.00 301.00 113.00\" xmlns=\"http://www.w3.org/2000/svg\" xmlns:xlink=\"http://www.w3.org/1999/xlink\">\n",
       "<g id=\"graph0\" class=\"graph\" transform=\"scale(1 1) rotate(0) translate(4 109)\">\n",
       "<title>%3</title>\n",
       "<polygon fill=\"white\" stroke=\"none\" points=\"-4,4 -4,-109 297,-109 297,4 -4,4\"/>\n",
       "<!-- EMPTY -->\n",
       "<g id=\"node1\" class=\"node\"><title>EMPTY</title>\n",
       "</g>\n",
       "<!-- IF -->\n",
       "<g id=\"node4\" class=\"node\"><title>IF</title>\n",
       "<ellipse fill=\"none\" stroke=\"black\" cx=\"113\" cy=\"-51\" rx=\"18\" ry=\"18\"/>\n",
       "<ellipse fill=\"none\" stroke=\"black\" cx=\"113\" cy=\"-51\" rx=\"22\" ry=\"22\"/>\n",
       "<text text-anchor=\"middle\" x=\"113\" y=\"-46.8\" font-family=\"Times,serif\" font-size=\"14.00\">IF</text>\n",
       "</g>\n",
       "<!-- EMPTY&#45;&gt;IF -->\n",
       "<g id=\"edge1\" class=\"edge\"><title>EMPTY&#45;&gt;IF</title>\n",
       "<path fill=\"none\" stroke=\"black\" d=\"M54.1177,-51C62.5406,-51 71.9629,-51 80.7191,-51\"/>\n",
       "<polygon fill=\"black\" stroke=\"black\" points=\"80.9574,-54.5001 90.9574,-51 80.9573,-47.5001 80.9574,-54.5001\"/>\n",
       "</g>\n",
       "<!-- B -->\n",
       "<g id=\"node2\" class=\"node\"><title>B</title>\n",
       "<ellipse fill=\"none\" stroke=\"black\" cx=\"275\" cy=\"-43\" rx=\"18\" ry=\"18\"/>\n",
       "<text text-anchor=\"middle\" x=\"275\" y=\"-38.8\" font-family=\"Times,serif\" font-size=\"14.00\">B</text>\n",
       "</g>\n",
       "<!-- B&#45;&gt;B -->\n",
       "<g id=\"edge5\" class=\"edge\"><title>B&#45;&gt;B</title>\n",
       "<path fill=\"none\" stroke=\"black\" d=\"M268.266,-60.0373C266.892,-69.8579 269.137,-79 275,-79 278.665,-79 280.916,-75.4289 281.753,-70.3529\"/>\n",
       "<polygon fill=\"black\" stroke=\"black\" points=\"285.252,-70.0307 281.734,-60.0373 278.252,-70.0439 285.252,-70.0307\"/>\n",
       "<text text-anchor=\"middle\" x=\"275\" y=\"-81.8\" font-family=\"Times,serif\" font-size=\"14.00\">1</text>\n",
       "</g>\n",
       "<!-- B&#45;&gt;IF -->\n",
       "<g id=\"edge4\" class=\"edge\"><title>B&#45;&gt;IF</title>\n",
       "<path fill=\"none\" stroke=\"black\" d=\"M256.972,-46.3825C251.28,-47.3892 244.887,-48.3864 239,-49 207.267,-52.3079 170.761,-52.4764 145.427,-52.0201\"/>\n",
       "<polygon fill=\"black\" stroke=\"black\" points=\"145.376,-48.5182 135.301,-51.7937 145.22,-55.5164 145.376,-48.5182\"/>\n",
       "<text text-anchor=\"middle\" x=\"196\" y=\"-54.8\" font-family=\"Times,serif\" font-size=\"14.00\">0</text>\n",
       "</g>\n",
       "<!-- A -->\n",
       "<g id=\"node3\" class=\"node\"><title>A</title>\n",
       "<ellipse fill=\"none\" stroke=\"black\" cx=\"196\" cy=\"-18\" rx=\"18\" ry=\"18\"/>\n",
       "<text text-anchor=\"middle\" x=\"196\" y=\"-13.8\" font-family=\"Times,serif\" font-size=\"14.00\">A</text>\n",
       "</g>\n",
       "<!-- A&#45;&gt;B -->\n",
       "<g id=\"edge2\" class=\"edge\"><title>A&#45;&gt;B</title>\n",
       "<path fill=\"none\" stroke=\"black\" d=\"M213.33,-23.3019C223.436,-26.5832 236.635,-30.8685 248.14,-34.6038\"/>\n",
       "<polygon fill=\"black\" stroke=\"black\" points=\"247.102,-37.9466 257.694,-37.7058 249.263,-31.2887 247.102,-37.9466\"/>\n",
       "<text text-anchor=\"middle\" x=\"235.5\" y=\"-33.8\" font-family=\"Times,serif\" font-size=\"14.00\">0</text>\n",
       "</g>\n",
       "<!-- A&#45;&gt;B -->\n",
       "<g id=\"edge3\" class=\"edge\"><title>A&#45;&gt;B</title>\n",
       "<path fill=\"none\" stroke=\"black\" d=\"M212.965,-11.4541C220.985,-9.12696 230.731,-7.78952 239,-11 245.246,-13.4248 251.057,-17.5414 256.079,-22.0292\"/>\n",
       "<polygon fill=\"black\" stroke=\"black\" points=\"253.717,-24.6167 263.271,-29.1973 258.659,-19.6589 253.717,-24.6167\"/>\n",
       "<text text-anchor=\"middle\" x=\"235.5\" y=\"-13.8\" font-family=\"Times,serif\" font-size=\"14.00\">1</text>\n",
       "</g>\n",
       "<!-- IF&#45;&gt;A -->\n",
       "<g id=\"edge6\" class=\"edge\"><title>IF&#45;&gt;A</title>\n",
       "<path fill=\"none\" stroke=\"black\" d=\"M133.608,-43.0116C144.399,-38.6151 157.916,-33.1083 169.517,-28.3819\"/>\n",
       "<polygon fill=\"black\" stroke=\"black\" points=\"171.162,-31.491 179.103,-24.4767 168.521,-25.0084 171.162,-31.491\"/>\n",
       "<text text-anchor=\"middle\" x=\"156.5\" y=\"-36.8\" font-family=\"Times,serif\" font-size=\"14.00\">0</text>\n",
       "</g>\n",
       "<!-- IF&#45;&gt;IF -->\n",
       "<g id=\"edge7\" class=\"edge\"><title>IF&#45;&gt;IF</title>\n",
       "<path fill=\"none\" stroke=\"black\" d=\"M105.683,-71.9908C104.78,-82.0872 107.219,-91 113,-91 116.704,-91 119.036,-87.3422 119.996,-82.0587\"/>\n",
       "<polygon fill=\"black\" stroke=\"black\" points=\"123.496,-82.0973 120.317,-71.9908 116.5,-81.8741 123.496,-82.0973\"/>\n",
       "<text text-anchor=\"middle\" x=\"113\" y=\"-93.8\" font-family=\"Times,serif\" font-size=\"14.00\">1</text>\n",
       "</g>\n",
       "</g>\n",
       "</svg>\n"
      ],
      "text/plain": [
       "<graphviz.dot.Digraph at 0x10a23ef60>"
      ]
     },
     "execution_count": 43,
     "metadata": {},
     "output_type": "execute_result"
    }
   ],
   "source": [
    "dotObj_dfa(d34v1)"
   ]
  },
  {
   "cell_type": "code",
   "execution_count": 44,
   "metadata": {
    "run_control": {
     "frozen": false,
     "read_only": false
    }
   },
   "outputs": [],
   "source": [
    "d34v2 = {'Delta': {('A', '0'): 'B',\n",
    "  ('A', '1'): 'B',\n",
    "  ('B', '0'): 'IF',\n",
    "  ('B', '1'): 'B',\n",
    "  ('IF', '0'): 'A',\n",
    "  ('IF', '1'): 'IF'},\n",
    " 'F': {'IF', 'B'},\n",
    " 'Q': {'A', 'B', 'IF'},\n",
    " 'Sigma': {'0', '1'},\n",
    " 'q0': 'IF'}"
   ]
  },
  {
   "cell_type": "code",
   "execution_count": 45,
   "metadata": {
    "run_control": {
     "frozen": false,
     "read_only": false
    }
   },
   "outputs": [
    {
     "data": {
      "text/plain": [
       "False"
      ]
     },
     "execution_count": 45,
     "metadata": {},
     "output_type": "execute_result"
    }
   ],
   "source": [
    "iso_dfa(d34,d34v1)"
   ]
  },
  {
   "cell_type": "code",
   "execution_count": 46,
   "metadata": {
    "run_control": {
     "frozen": false,
     "read_only": false
    }
   },
   "outputs": [
    {
     "data": {
      "text/plain": [
       "False"
      ]
     },
     "execution_count": 46,
     "metadata": {},
     "output_type": "execute_result"
    }
   ],
   "source": [
    "iso_dfa(d34,d34v2)"
   ]
  },
  {
   "cell_type": "code",
   "execution_count": 47,
   "metadata": {
    "run_control": {
     "frozen": false,
     "read_only": false
    }
   },
   "outputs": [
    {
     "data": {
      "text/plain": [
       "False"
      ]
     },
     "execution_count": 47,
     "metadata": {},
     "output_type": "execute_result"
    }
   ],
   "source": [
    "iso_dfa(d34v1,d34v2)"
   ]
  },
  {
   "cell_type": "code",
   "execution_count": 48,
   "metadata": {
    "run_control": {
     "frozen": false,
     "read_only": false
    }
   },
   "outputs": [
    {
     "data": {
      "image/svg+xml": [
       "<?xml version=\"1.0\" encoding=\"UTF-8\" standalone=\"no\"?>\n",
       "<!DOCTYPE svg PUBLIC \"-//W3C//DTD SVG 1.1//EN\"\n",
       " \"http://www.w3.org/Graphics/SVG/1.1/DTD/svg11.dtd\">\n",
       "<!-- Generated by graphviz version 2.38.0 (20140413.2041)\n",
       " -->\n",
       "<!-- Title: %3 Pages: 1 -->\n",
       "<svg width=\"396pt\" height=\"157pt\"\n",
       " viewBox=\"0.00 0.00 396.10 157.34\" xmlns=\"http://www.w3.org/2000/svg\" xmlns:xlink=\"http://www.w3.org/1999/xlink\">\n",
       "<g id=\"graph0\" class=\"graph\" transform=\"scale(1 1) rotate(0) translate(4 153.336)\">\n",
       "<title>%3</title>\n",
       "<polygon fill=\"white\" stroke=\"none\" points=\"-4,4 -4,-153.336 392.104,-153.336 392.104,4 -4,4\"/>\n",
       "<!-- EMPTY -->\n",
       "<g id=\"node1\" class=\"node\"><title>EMPTY</title>\n",
       "</g>\n",
       "<!-- \\(IF_IF\\) -->\n",
       "<g id=\"node4\" class=\"node\"><title>\\(IF_IF\\)</title>\n",
       "<ellipse fill=\"none\" stroke=\"black\" cx=\"131.145\" cy=\"-77.1914\" rx=\"36.2759\" ry=\"36.2759\"/>\n",
       "<ellipse fill=\"none\" stroke=\"black\" cx=\"131.145\" cy=\"-77.1914\" rx=\"40.2904\" ry=\"40.2904\"/>\n",
       "<text text-anchor=\"middle\" x=\"131.145\" y=\"-72.9914\" font-family=\"Times,serif\" font-size=\"14.00\">(IF_IF)</text>\n",
       "</g>\n",
       "<!-- EMPTY&#45;&gt;\\(IF_IF\\) -->\n",
       "<g id=\"edge1\" class=\"edge\"><title>EMPTY&#45;&gt;\\(IF_IF\\)</title>\n",
       "<path fill=\"none\" stroke=\"black\" d=\"M54.0398,-77.1914C62.1135,-77.1914 71.296,-77.1914 80.4211,-77.1914\"/>\n",
       "<polygon fill=\"black\" stroke=\"black\" points=\"80.6371,-80.6915 90.6371,-77.1914 80.637,-73.6915 80.6371,-80.6915\"/>\n",
       "</g>\n",
       "<!-- \\(A_A\\) -->\n",
       "<g id=\"node2\" class=\"node\"><title>\\(A_A\\)</title>\n",
       "<ellipse fill=\"none\" stroke=\"black\" cx=\"247.481\" cy=\"-33.1914\" rx=\"33.3839\" ry=\"33.3839\"/>\n",
       "<text text-anchor=\"middle\" x=\"247.481\" y=\"-28.9914\" font-family=\"Times,serif\" font-size=\"14.00\">(A_A)</text>\n",
       "</g>\n",
       "<!-- \\(B_B\\) -->\n",
       "<g id=\"node3\" class=\"node\"><title>\\(B_B\\)</title>\n",
       "<ellipse fill=\"none\" stroke=\"black\" cx=\"355.888\" cy=\"-70.1914\" rx=\"32.4324\" ry=\"32.4324\"/>\n",
       "<text text-anchor=\"middle\" x=\"355.888\" y=\"-65.9914\" font-family=\"Times,serif\" font-size=\"14.00\">(B_B)</text>\n",
       "</g>\n",
       "<!-- \\(A_A\\)&#45;&gt;\\(B_B\\) -->\n",
       "<g id=\"edge3\" class=\"edge\"><title>\\(A_A\\)&#45;&gt;\\(B_B\\)</title>\n",
       "<path fill=\"none\" stroke=\"black\" d=\"M278.973,-43.7941C290.296,-47.7313 303.309,-52.256 315.325,-56.4345\"/>\n",
       "<polygon fill=\"black\" stroke=\"black\" points=\"314.532,-59.864 325.126,-59.8425 316.831,-53.2523 314.532,-59.864\"/>\n",
       "<text text-anchor=\"middle\" x=\"302.173\" y=\"-54.9914\" font-family=\"Times,serif\" font-size=\"14.00\">0</text>\n",
       "</g>\n",
       "<!-- \\(A_A\\)&#45;&gt;\\(B_B\\) -->\n",
       "<g id=\"edge7\" class=\"edge\"><title>\\(A_A\\)&#45;&gt;\\(B_B\\)</title>\n",
       "<path fill=\"none\" stroke=\"black\" d=\"M280.528,-29.6134C288.885,-29.6412 297.762,-30.5494 305.673,-33.1914 311.927,-35.2802 318.025,-38.5108 323.679,-42.2116\"/>\n",
       "<polygon fill=\"black\" stroke=\"black\" points=\"321.996,-45.313 332.156,-48.3176 326.088,-39.633 321.996,-45.313\"/>\n",
       "<text text-anchor=\"middle\" x=\"302.173\" y=\"-35.9914\" font-family=\"Times,serif\" font-size=\"14.00\">1</text>\n",
       "</g>\n",
       "<!-- \\(B_B\\)&#45;&gt;\\(B_B\\) -->\n",
       "<g id=\"edge5\" class=\"edge\"><title>\\(B_B\\)&#45;&gt;\\(B_B\\)</title>\n",
       "<path fill=\"none\" stroke=\"black\" d=\"M346.141,-101.084C346.037,-111.774 349.287,-120.407 355.888,-120.407 360.22,-120.407 363.109,-116.689 364.554,-111.112\"/>\n",
       "<polygon fill=\"black\" stroke=\"black\" points=\"368.043,-111.402 365.636,-101.084 361.083,-110.651 368.043,-111.402\"/>\n",
       "<text text-anchor=\"middle\" x=\"355.888\" y=\"-123.207\" font-family=\"Times,serif\" font-size=\"14.00\">1</text>\n",
       "</g>\n",
       "<!-- \\(B_B\\)&#45;&gt;\\(IF_IF\\) -->\n",
       "<g id=\"edge6\" class=\"edge\"><title>\\(B_B\\)&#45;&gt;\\(IF_IF\\)</title>\n",
       "<path fill=\"none\" stroke=\"black\" d=\"M323.491,-72.682C310.279,-73.6325 294.737,-74.6233 280.673,-75.1914 247.741,-76.5215 210.672,-77.022 181.804,-77.1897\"/>\n",
       "<polygon fill=\"black\" stroke=\"black\" points=\"181.547,-73.6908 171.563,-77.2374 181.579,-80.6907 181.547,-73.6908\"/>\n",
       "<text text-anchor=\"middle\" x=\"247.481\" y=\"-78.9914\" font-family=\"Times,serif\" font-size=\"14.00\">0</text>\n",
       "</g>\n",
       "<!-- \\(IF_IF\\)&#45;&gt;\\(A_A\\) -->\n",
       "<g id=\"edge4\" class=\"edge\"><title>\\(IF_IF\\)&#45;&gt;\\(A_A\\)</title>\n",
       "<path fill=\"none\" stroke=\"black\" d=\"M168.951,-63.0273C181.005,-58.3887 194.447,-53.2155 206.71,-48.4966\"/>\n",
       "<polygon fill=\"black\" stroke=\"black\" points=\"208.166,-51.6864 216.242,-44.8283 205.652,-45.1534 208.166,-51.6864\"/>\n",
       "<text text-anchor=\"middle\" x=\"192.79\" y=\"-57.9914\" font-family=\"Times,serif\" font-size=\"14.00\">0</text>\n",
       "</g>\n",
       "<!-- \\(IF_IF\\)&#45;&gt;\\(IF_IF\\) -->\n",
       "<g id=\"edge2\" class=\"edge\"><title>\\(IF_IF\\)&#45;&gt;\\(IF_IF\\)</title>\n",
       "<path fill=\"none\" stroke=\"black\" d=\"M120.324,-116.049C120.798,-126.96 124.405,-135.336 131.145,-135.336 135.568,-135.336 138.642,-131.729 140.367,-126.165\"/>\n",
       "<polygon fill=\"black\" stroke=\"black\" points=\"143.862,-126.473 141.966,-116.049 136.947,-125.379 143.862,-126.473\"/>\n",
       "<text text-anchor=\"middle\" x=\"131.145\" y=\"-138.136\" font-family=\"Times,serif\" font-size=\"14.00\">1</text>\n",
       "</g>\n",
       "</g>\n",
       "</svg>\n"
      ],
      "text/plain": [
       "<graphviz.dot.Digraph at 0x10a202ba8>"
      ]
     },
     "execution_count": 48,
     "metadata": {},
     "output_type": "execute_result"
    }
   ],
   "source": [
    "div1 = pruneUnreach(intersect_dfa(d34v1,d34v2))\n",
    "dotObj_dfa(div1)"
   ]
  },
  {
   "cell_type": "code",
   "execution_count": 49,
   "metadata": {
    "run_control": {
     "frozen": false,
     "read_only": false
    }
   },
   "outputs": [
    {
     "data": {
      "image/svg+xml": [
       "<?xml version=\"1.0\" encoding=\"UTF-8\" standalone=\"no\"?>\n",
       "<!DOCTYPE svg PUBLIC \"-//W3C//DTD SVG 1.1//EN\"\n",
       " \"http://www.w3.org/Graphics/SVG/1.1/DTD/svg11.dtd\">\n",
       "<!-- Generated by graphviz version 2.38.0 (20140413.2041)\n",
       " -->\n",
       "<!-- Title: %3 Pages: 1 -->\n",
       "<svg width=\"404pt\" height=\"157pt\"\n",
       " viewBox=\"0.00 0.00 404.10 157.34\" xmlns=\"http://www.w3.org/2000/svg\" xmlns:xlink=\"http://www.w3.org/1999/xlink\">\n",
       "<g id=\"graph0\" class=\"graph\" transform=\"scale(1 1) rotate(0) translate(4 153.336)\">\n",
       "<title>%3</title>\n",
       "<polygon fill=\"white\" stroke=\"none\" points=\"-4,4 -4,-153.336 400.104,-153.336 400.104,4 -4,4\"/>\n",
       "<!-- EMPTY -->\n",
       "<g id=\"node1\" class=\"node\"><title>EMPTY</title>\n",
       "</g>\n",
       "<!-- \\(IF_IF\\) -->\n",
       "<g id=\"node4\" class=\"node\"><title>\\(IF_IF\\)</title>\n",
       "<ellipse fill=\"none\" stroke=\"black\" cx=\"131.145\" cy=\"-77.1914\" rx=\"36.2759\" ry=\"36.2759\"/>\n",
       "<ellipse fill=\"none\" stroke=\"black\" cx=\"131.145\" cy=\"-77.1914\" rx=\"40.2904\" ry=\"40.2904\"/>\n",
       "<text text-anchor=\"middle\" x=\"131.145\" y=\"-72.9914\" font-family=\"Times,serif\" font-size=\"14.00\">(IF_IF)</text>\n",
       "</g>\n",
       "<!-- EMPTY&#45;&gt;\\(IF_IF\\) -->\n",
       "<g id=\"edge1\" class=\"edge\"><title>EMPTY&#45;&gt;\\(IF_IF\\)</title>\n",
       "<path fill=\"none\" stroke=\"black\" d=\"M54.0398,-77.1914C62.1135,-77.1914 71.296,-77.1914 80.4211,-77.1914\"/>\n",
       "<polygon fill=\"black\" stroke=\"black\" points=\"80.6371,-80.6915 90.6371,-77.1914 80.637,-73.6915 80.6371,-80.6915\"/>\n",
       "</g>\n",
       "<!-- \\(A_A\\) -->\n",
       "<g id=\"node2\" class=\"node\"><title>\\(A_A\\)</title>\n",
       "<ellipse fill=\"none\" stroke=\"black\" cx=\"247.481\" cy=\"-33.1914\" rx=\"33.3839\" ry=\"33.3839\"/>\n",
       "<text text-anchor=\"middle\" x=\"247.481\" y=\"-28.9914\" font-family=\"Times,serif\" font-size=\"14.00\">(A_A)</text>\n",
       "</g>\n",
       "<!-- \\(B_B\\) -->\n",
       "<g id=\"node3\" class=\"node\"><title>\\(B_B\\)</title>\n",
       "<ellipse fill=\"none\" stroke=\"black\" cx=\"359.888\" cy=\"-70.1914\" rx=\"32.4083\" ry=\"32.4083\"/>\n",
       "<ellipse fill=\"none\" stroke=\"black\" cx=\"359.888\" cy=\"-70.1914\" rx=\"36.4323\" ry=\"36.4323\"/>\n",
       "<text text-anchor=\"middle\" x=\"359.888\" y=\"-65.9914\" font-family=\"Times,serif\" font-size=\"14.00\">(B_B)</text>\n",
       "</g>\n",
       "<!-- \\(A_A\\)&#45;&gt;\\(B_B\\) -->\n",
       "<g id=\"edge3\" class=\"edge\"><title>\\(A_A\\)&#45;&gt;\\(B_B\\)</title>\n",
       "<path fill=\"none\" stroke=\"black\" d=\"M279.236,-43.4979C290.513,-47.2773 303.497,-51.6285 315.665,-55.7062\"/>\n",
       "<polygon fill=\"black\" stroke=\"black\" points=\"314.606,-59.0427 325.2,-58.9017 316.831,-52.4055 314.606,-59.0427\"/>\n",
       "<text text-anchor=\"middle\" x=\"302.173\" y=\"-53.9914\" font-family=\"Times,serif\" font-size=\"14.00\">0</text>\n",
       "</g>\n",
       "<!-- \\(A_A\\)&#45;&gt;\\(B_B\\) -->\n",
       "<g id=\"edge7\" class=\"edge\"><title>\\(A_A\\)&#45;&gt;\\(B_B\\)</title>\n",
       "<path fill=\"none\" stroke=\"black\" d=\"M280.483,-28.997C288.84,-28.879 297.729,-29.6462 305.673,-32.1914 311.845,-34.169 317.911,-37.1546 323.612,-40.6002\"/>\n",
       "<polygon fill=\"black\" stroke=\"black\" points=\"321.962,-43.7058 332.231,-46.3146 325.83,-37.8716 321.962,-43.7058\"/>\n",
       "<text text-anchor=\"middle\" x=\"302.173\" y=\"-34.9914\" font-family=\"Times,serif\" font-size=\"14.00\">1</text>\n",
       "</g>\n",
       "<!-- \\(B_B\\)&#45;&gt;\\(B_B\\) -->\n",
       "<g id=\"edge5\" class=\"edge\"><title>\\(B_B\\)&#45;&gt;\\(B_B\\)</title>\n",
       "<path fill=\"none\" stroke=\"black\" d=\"M349.394,-104.866C349.554,-115.79 353.052,-124.407 359.888,-124.407 364.374,-124.407 367.423,-120.696 369.034,-115.057\"/>\n",
       "<polygon fill=\"black\" stroke=\"black\" points=\"372.54,-115.239 370.382,-104.866 365.601,-114.321 372.54,-115.239\"/>\n",
       "<text text-anchor=\"middle\" x=\"359.888\" y=\"-127.207\" font-family=\"Times,serif\" font-size=\"14.00\">1</text>\n",
       "</g>\n",
       "<!-- \\(B_B\\)&#45;&gt;\\(IF_IF\\) -->\n",
       "<g id=\"edge6\" class=\"edge\"><title>\\(B_B\\)&#45;&gt;\\(IF_IF\\)</title>\n",
       "<path fill=\"none\" stroke=\"black\" d=\"M323.476,-72.8341C310.074,-73.7346 294.677,-74.6498 280.673,-75.1914 247.738,-76.465 210.67,-76.9654 181.803,-77.1472\"/>\n",
       "<polygon fill=\"black\" stroke=\"black\" points=\"181.543,-73.6484 171.562,-77.2006 181.58,-80.6483 181.543,-73.6484\"/>\n",
       "<text text-anchor=\"middle\" x=\"247.481\" y=\"-78.9914\" font-family=\"Times,serif\" font-size=\"14.00\">0</text>\n",
       "</g>\n",
       "<!-- \\(IF_IF\\)&#45;&gt;\\(A_A\\) -->\n",
       "<g id=\"edge4\" class=\"edge\"><title>\\(IF_IF\\)&#45;&gt;\\(A_A\\)</title>\n",
       "<path fill=\"none\" stroke=\"black\" d=\"M168.951,-63.0273C181.005,-58.3887 194.447,-53.2155 206.71,-48.4966\"/>\n",
       "<polygon fill=\"black\" stroke=\"black\" points=\"208.166,-51.6864 216.242,-44.8283 205.652,-45.1534 208.166,-51.6864\"/>\n",
       "<text text-anchor=\"middle\" x=\"192.79\" y=\"-57.9914\" font-family=\"Times,serif\" font-size=\"14.00\">0</text>\n",
       "</g>\n",
       "<!-- \\(IF_IF\\)&#45;&gt;\\(IF_IF\\) -->\n",
       "<g id=\"edge2\" class=\"edge\"><title>\\(IF_IF\\)&#45;&gt;\\(IF_IF\\)</title>\n",
       "<path fill=\"none\" stroke=\"black\" d=\"M120.324,-116.049C120.798,-126.96 124.405,-135.336 131.145,-135.336 135.568,-135.336 138.642,-131.729 140.367,-126.165\"/>\n",
       "<polygon fill=\"black\" stroke=\"black\" points=\"143.862,-126.473 141.966,-116.049 136.947,-125.379 143.862,-126.473\"/>\n",
       "<text text-anchor=\"middle\" x=\"131.145\" y=\"-138.136\" font-family=\"Times,serif\" font-size=\"14.00\">1</text>\n",
       "</g>\n",
       "</g>\n",
       "</svg>\n"
      ],
      "text/plain": [
       "<graphviz.dot.Digraph at 0x10a202be0>"
      ]
     },
     "execution_count": 49,
     "metadata": {},
     "output_type": "execute_result"
    }
   ],
   "source": [
    "div2 = pruneUnreach(union_dfa(d34v1,d34v2))\n",
    "dotObj_dfa(div2)"
   ]
  },
  {
   "cell_type": "code",
   "execution_count": 50,
   "metadata": {
    "run_control": {
     "frozen": false,
     "read_only": false
    }
   },
   "outputs": [
    {
     "data": {
      "text/plain": [
       "False"
      ]
     },
     "execution_count": 50,
     "metadata": {},
     "output_type": "execute_result"
    }
   ],
   "source": [
    "iso_dfa(div1,div2)"
   ]
  },
  {
   "cell_type": "code",
   "execution_count": 51,
   "metadata": {
    "run_control": {
     "frozen": false,
     "read_only": false
    }
   },
   "outputs": [
    {
     "name": "stdout",
     "output_type": "stream",
     "text": [
      "The DFA are NOT language equivalent!\n",
      "Path leading to counterexample is: \n",
      "[(('IF', 'IF'), ('IF', 'IF')), (('A', 'A'), ('A', 'A')), (('B', 'B'), ('B', 'B'))]\n"
     ]
    },
    {
     "data": {
      "text/plain": [
       "False"
      ]
     },
     "execution_count": 51,
     "metadata": {},
     "output_type": "execute_result"
    }
   ],
   "source": [
    "langeq_dfa(div1,div2,True)"
   ]
  },
  {
   "cell_type": "code",
   "execution_count": 52,
   "metadata": {
    "run_control": {
     "frozen": false,
     "read_only": false
    }
   },
   "outputs": [
    {
     "data": {
      "image/svg+xml": [
       "<?xml version=\"1.0\" encoding=\"UTF-8\" standalone=\"no\"?>\n",
       "<!DOCTYPE svg PUBLIC \"-//W3C//DTD SVG 1.1//EN\"\n",
       " \"http://www.w3.org/Graphics/SVG/1.1/DTD/svg11.dtd\">\n",
       "<!-- Generated by graphviz version 2.38.0 (20140413.2041)\n",
       " -->\n",
       "<!-- Title: %3 Pages: 1 -->\n",
       "<svg width=\"470pt\" height=\"149pt\"\n",
       " viewBox=\"0.00 0.00 469.68 149.00\" xmlns=\"http://www.w3.org/2000/svg\" xmlns:xlink=\"http://www.w3.org/1999/xlink\">\n",
       "<g id=\"graph0\" class=\"graph\" transform=\"scale(1 1) rotate(0) translate(4 145)\">\n",
       "<title>%3</title>\n",
       "<polygon fill=\"white\" stroke=\"none\" points=\"-4,4 -4,-145 465.684,-145 465.684,4 -4,4\"/>\n",
       "<!-- EMPTY -->\n",
       "<g id=\"node1\" class=\"node\"><title>EMPTY</title>\n",
       "</g>\n",
       "<!-- IF -->\n",
       "<g id=\"node6\" class=\"node\"><title>IF</title>\n",
       "<ellipse fill=\"none\" stroke=\"black\" cx=\"113\" cy=\"-75\" rx=\"18\" ry=\"18\"/>\n",
       "<ellipse fill=\"none\" stroke=\"black\" cx=\"113\" cy=\"-75\" rx=\"22\" ry=\"22\"/>\n",
       "<text text-anchor=\"middle\" x=\"113\" y=\"-70.8\" font-family=\"Times,serif\" font-size=\"14.00\">IF</text>\n",
       "</g>\n",
       "<!-- EMPTY&#45;&gt;IF -->\n",
       "<g id=\"edge1\" class=\"edge\"><title>EMPTY&#45;&gt;IF</title>\n",
       "<path fill=\"none\" stroke=\"black\" d=\"M54.1177,-75C62.5406,-75 71.9629,-75 80.7191,-75\"/>\n",
       "<polygon fill=\"black\" stroke=\"black\" points=\"80.9574,-78.5001 90.9574,-75 80.9573,-71.5001 80.9574,-78.5001\"/>\n",
       "</g>\n",
       "<!-- B -->\n",
       "<g id=\"node2\" class=\"node\"><title>B</title>\n",
       "<ellipse fill=\"none\" stroke=\"black\" cx=\"359.83\" cy=\"-109\" rx=\"18\" ry=\"18\"/>\n",
       "<text text-anchor=\"middle\" x=\"359.83\" y=\"-104.8\" font-family=\"Times,serif\" font-size=\"14.00\">B</text>\n",
       "</g>\n",
       "<!-- B1 -->\n",
       "<g id=\"node4\" class=\"node\"><title>B1</title>\n",
       "<ellipse fill=\"none\" stroke=\"black\" cx=\"441.257\" cy=\"-58\" rx=\"20.3544\" ry=\"20.3544\"/>\n",
       "<text text-anchor=\"middle\" x=\"441.257\" y=\"-53.8\" font-family=\"Times,serif\" font-size=\"14.00\">B1</text>\n",
       "</g>\n",
       "<!-- B&#45;&gt;B1 -->\n",
       "<g id=\"edge11\" class=\"edge\"><title>B&#45;&gt;B1</title>\n",
       "<path fill=\"none\" stroke=\"black\" d=\"M376.934,-102.972C384.989,-99.6477 394.725,-95.151 402.83,-90 408.099,-86.6513 413.408,-82.609 418.305,-78.5413\"/>\n",
       "<polygon fill=\"black\" stroke=\"black\" points=\"420.824,-80.9898 426.078,-71.7896 416.233,-75.7051 420.824,-80.9898\"/>\n",
       "<text text-anchor=\"middle\" x=\"399.33\" y=\"-96.8\" font-family=\"Times,serif\" font-size=\"14.00\">1</text>\n",
       "</g>\n",
       "<!-- B&#45;&gt;IF -->\n",
       "<g id=\"edge10\" class=\"edge\"><title>B&#45;&gt;IF</title>\n",
       "<path fill=\"none\" stroke=\"black\" d=\"M343.368,-116.296C337.356,-118.954 330.356,-121.836 323.83,-124 295.524,-133.387 286.39,-135.054 257,-130 215.26,-122.822 170.122,-103.296 141.96,-89.5591\"/>\n",
       "<polygon fill=\"black\" stroke=\"black\" points=\"143.253,-86.2929 132.741,-84.9714 140.134,-92.5599 143.253,-86.2929\"/>\n",
       "<text text-anchor=\"middle\" x=\"235.5\" y=\"-129.8\" font-family=\"Times,serif\" font-size=\"14.00\">0</text>\n",
       "</g>\n",
       "<!-- A1 -->\n",
       "<g id=\"node3\" class=\"node\"><title>A1</title>\n",
       "<ellipse fill=\"none\" stroke=\"black\" cx=\"277.915\" cy=\"-100\" rx=\"20.8304\" ry=\"20.8304\"/>\n",
       "<text text-anchor=\"middle\" x=\"277.915\" y=\"-95.8\" font-family=\"Times,serif\" font-size=\"14.00\">A1</text>\n",
       "</g>\n",
       "<!-- A1&#45;&gt;B -->\n",
       "<g id=\"edge6\" class=\"edge\"><title>A1&#45;&gt;B</title>\n",
       "<path fill=\"none\" stroke=\"black\" d=\"M299.081,-102.271C308.999,-103.388 321.094,-104.75 331.801,-105.956\"/>\n",
       "<polygon fill=\"black\" stroke=\"black\" points=\"331.584,-109.454 341.913,-107.095 332.367,-102.498 331.584,-109.454\"/>\n",
       "<text text-anchor=\"middle\" x=\"320.33\" y=\"-108.8\" font-family=\"Times,serif\" font-size=\"14.00\">0</text>\n",
       "</g>\n",
       "<!-- A -->\n",
       "<g id=\"node5\" class=\"node\"><title>A</title>\n",
       "<ellipse fill=\"none\" stroke=\"black\" cx=\"196\" cy=\"-75\" rx=\"18\" ry=\"18\"/>\n",
       "<text text-anchor=\"middle\" x=\"196\" y=\"-70.8\" font-family=\"Times,serif\" font-size=\"14.00\">A</text>\n",
       "</g>\n",
       "<!-- A1&#45;&gt;A -->\n",
       "<g id=\"edge7\" class=\"edge\"><title>A1&#45;&gt;A</title>\n",
       "<path fill=\"none\" stroke=\"black\" d=\"M257.025,-96.4007C249.145,-94.7604 240.059,-92.5992 232,-90 228.626,-88.9119 225.13,-87.6214 221.711,-86.2611\"/>\n",
       "<polygon fill=\"black\" stroke=\"black\" points=\"223.018,-83.014 212.444,-82.3527 220.298,-89.4638 223.018,-83.014\"/>\n",
       "<text text-anchor=\"middle\" x=\"235.5\" y=\"-95.8\" font-family=\"Times,serif\" font-size=\"14.00\">1</text>\n",
       "</g>\n",
       "<!-- B1&#45;&gt;B -->\n",
       "<g id=\"edge9\" class=\"edge\"><title>B1&#45;&gt;B</title>\n",
       "<path fill=\"none\" stroke=\"black\" d=\"M421.347,-63.9009C413.159,-66.8921 403.675,-70.9666 395.83,-76 390.203,-79.6108 384.672,-84.1908 379.727,-88.7806\"/>\n",
       "<polygon fill=\"black\" stroke=\"black\" points=\"377.196,-86.3606 372.511,-95.8633 382.1,-91.3564 377.196,-86.3606\"/>\n",
       "<text text-anchor=\"middle\" x=\"399.33\" y=\"-78.8\" font-family=\"Times,serif\" font-size=\"14.00\">1</text>\n",
       "</g>\n",
       "<!-- B1&#45;&gt;IF -->\n",
       "<g id=\"edge8\" class=\"edge\"><title>B1&#45;&gt;IF</title>\n",
       "<path fill=\"none\" stroke=\"black\" d=\"M428.471,-41.8438C414.457,-24.682 389.345,-0 360.83,-0 195,-0 195,-0 195,-0 166.324,-0 143.499,-25.6206 129.481,-46.9128\"/>\n",
       "<polygon fill=\"black\" stroke=\"black\" points=\"126.333,-45.3462 124.021,-55.6856 132.276,-49.045 126.333,-45.3462\"/>\n",
       "<text text-anchor=\"middle\" x=\"277.915\" y=\"-2.8\" font-family=\"Times,serif\" font-size=\"14.00\">0</text>\n",
       "</g>\n",
       "<!-- A&#45;&gt;A1 -->\n",
       "<g id=\"edge5\" class=\"edge\"><title>A&#45;&gt;A1</title>\n",
       "<path fill=\"none\" stroke=\"black\" d=\"M214.086,-73.3572C221.843,-73.1281 231.042,-73.59 239,-76 243.483,-77.3576 247.951,-79.4014 252.165,-81.7341\"/>\n",
       "<polygon fill=\"black\" stroke=\"black\" points=\"250.547,-84.849 260.889,-87.1482 254.238,-78.9012 250.547,-84.849\"/>\n",
       "<text text-anchor=\"middle\" x=\"235.5\" y=\"-78.8\" font-family=\"Times,serif\" font-size=\"14.00\">1</text>\n",
       "</g>\n",
       "<!-- A&#45;&gt;B1 -->\n",
       "<g id=\"edge4\" class=\"edge\"><title>A&#45;&gt;B1</title>\n",
       "<path fill=\"none\" stroke=\"black\" d=\"M214.072,-72.8708C219.767,-72.208 226.151,-71.5164 232,-71 295.466,-65.3963 370.022,-61.3564 410.476,-59.3765\"/>\n",
       "<polygon fill=\"black\" stroke=\"black\" points=\"410.888,-62.8608 420.708,-58.8842 410.551,-55.8689 410.888,-62.8608\"/>\n",
       "<text text-anchor=\"middle\" x=\"320.33\" y=\"-67.8\" font-family=\"Times,serif\" font-size=\"14.00\">0</text>\n",
       "</g>\n",
       "<!-- IF&#45;&gt;A -->\n",
       "<g id=\"edge2\" class=\"edge\"><title>IF&#45;&gt;A</title>\n",
       "<path fill=\"none\" stroke=\"black\" d=\"M135.282,-75C145.266,-75 157.278,-75 167.903,-75\"/>\n",
       "<polygon fill=\"black\" stroke=\"black\" points=\"167.94,-78.5001 177.939,-75 167.939,-71.5001 167.94,-78.5001\"/>\n",
       "<text text-anchor=\"middle\" x=\"156.5\" y=\"-77.8\" font-family=\"Times,serif\" font-size=\"14.00\">0</text>\n",
       "</g>\n",
       "<!-- IF&#45;&gt;IF -->\n",
       "<g id=\"edge3\" class=\"edge\"><title>IF&#45;&gt;IF</title>\n",
       "<path fill=\"none\" stroke=\"black\" d=\"M105.683,-95.9908C104.78,-106.087 107.219,-115 113,-115 116.704,-115 119.036,-111.342 119.996,-106.059\"/>\n",
       "<polygon fill=\"black\" stroke=\"black\" points=\"123.496,-106.097 120.317,-95.9908 116.5,-105.874 123.496,-106.097\"/>\n",
       "<text text-anchor=\"middle\" x=\"113\" y=\"-117.8\" font-family=\"Times,serif\" font-size=\"14.00\">1</text>\n",
       "</g>\n",
       "</g>\n",
       "</svg>\n"
      ],
      "text/plain": [
       "<graphviz.dot.Digraph at 0x10a23e2e8>"
      ]
     },
     "execution_count": 52,
     "metadata": {},
     "output_type": "execute_result"
    }
   ],
   "source": [
    "d34bl = dotObj_dfa(D34bl, \"D34bl\")\n",
    "d34bl # Display it!"
   ]
  },
  {
   "cell_type": "code",
   "execution_count": 53,
   "metadata": {
    "run_control": {
     "frozen": false,
     "read_only": false
    }
   },
   "outputs": [],
   "source": [
    "d34bl = dotObj_dfa(D34bl, FuseEdges=True, dfaName=\"D34bl\")"
   ]
  },
  {
   "cell_type": "code",
   "execution_count": 54,
   "metadata": {
    "run_control": {
     "frozen": false,
     "read_only": false
    }
   },
   "outputs": [
    {
     "data": {
      "image/svg+xml": [
       "<?xml version=\"1.0\" encoding=\"UTF-8\" standalone=\"no\"?>\n",
       "<!DOCTYPE svg PUBLIC \"-//W3C//DTD SVG 1.1//EN\"\n",
       " \"http://www.w3.org/Graphics/SVG/1.1/DTD/svg11.dtd\">\n",
       "<!-- Generated by graphviz version 2.38.0 (20140413.2041)\n",
       " -->\n",
       "<!-- Title: %3 Pages: 1 -->\n",
       "<svg width=\"470pt\" height=\"149pt\"\n",
       " viewBox=\"0.00 0.00 469.68 149.00\" xmlns=\"http://www.w3.org/2000/svg\" xmlns:xlink=\"http://www.w3.org/1999/xlink\">\n",
       "<g id=\"graph0\" class=\"graph\" transform=\"scale(1 1) rotate(0) translate(4 145)\">\n",
       "<title>%3</title>\n",
       "<polygon fill=\"white\" stroke=\"none\" points=\"-4,4 -4,-145 465.684,-145 465.684,4 -4,4\"/>\n",
       "<!-- EMPTY -->\n",
       "<g id=\"node1\" class=\"node\"><title>EMPTY</title>\n",
       "</g>\n",
       "<!-- IF -->\n",
       "<g id=\"node6\" class=\"node\"><title>IF</title>\n",
       "<ellipse fill=\"none\" stroke=\"black\" cx=\"113\" cy=\"-75\" rx=\"18\" ry=\"18\"/>\n",
       "<ellipse fill=\"none\" stroke=\"black\" cx=\"113\" cy=\"-75\" rx=\"22\" ry=\"22\"/>\n",
       "<text text-anchor=\"middle\" x=\"113\" y=\"-70.8\" font-family=\"Times,serif\" font-size=\"14.00\">IF</text>\n",
       "</g>\n",
       "<!-- EMPTY&#45;&gt;IF -->\n",
       "<g id=\"edge1\" class=\"edge\"><title>EMPTY&#45;&gt;IF</title>\n",
       "<path fill=\"none\" stroke=\"black\" d=\"M54.1177,-75C62.5406,-75 71.9629,-75 80.7191,-75\"/>\n",
       "<polygon fill=\"black\" stroke=\"black\" points=\"80.9574,-78.5001 90.9574,-75 80.9573,-71.5001 80.9574,-78.5001\"/>\n",
       "</g>\n",
       "<!-- B -->\n",
       "<g id=\"node2\" class=\"node\"><title>B</title>\n",
       "<ellipse fill=\"none\" stroke=\"black\" cx=\"359.83\" cy=\"-109\" rx=\"18\" ry=\"18\"/>\n",
       "<text text-anchor=\"middle\" x=\"359.83\" y=\"-104.8\" font-family=\"Times,serif\" font-size=\"14.00\">B</text>\n",
       "</g>\n",
       "<!-- B1 -->\n",
       "<g id=\"node4\" class=\"node\"><title>B1</title>\n",
       "<ellipse fill=\"none\" stroke=\"black\" cx=\"441.257\" cy=\"-58\" rx=\"20.3544\" ry=\"20.3544\"/>\n",
       "<text text-anchor=\"middle\" x=\"441.257\" y=\"-53.8\" font-family=\"Times,serif\" font-size=\"14.00\">B1</text>\n",
       "</g>\n",
       "<!-- B&#45;&gt;B1 -->\n",
       "<g id=\"edge11\" class=\"edge\"><title>B&#45;&gt;B1</title>\n",
       "<path fill=\"none\" stroke=\"black\" d=\"M376.934,-102.972C384.989,-99.6477 394.725,-95.151 402.83,-90 408.099,-86.6513 413.408,-82.609 418.305,-78.5413\"/>\n",
       "<polygon fill=\"black\" stroke=\"black\" points=\"420.824,-80.9898 426.078,-71.7896 416.233,-75.7051 420.824,-80.9898\"/>\n",
       "<text text-anchor=\"middle\" x=\"399.33\" y=\"-96.8\" font-family=\"Times,serif\" font-size=\"14.00\">1</text>\n",
       "</g>\n",
       "<!-- B&#45;&gt;IF -->\n",
       "<g id=\"edge10\" class=\"edge\"><title>B&#45;&gt;IF</title>\n",
       "<path fill=\"none\" stroke=\"black\" d=\"M343.368,-116.296C337.356,-118.954 330.356,-121.836 323.83,-124 295.524,-133.387 286.39,-135.054 257,-130 215.26,-122.822 170.122,-103.296 141.96,-89.5591\"/>\n",
       "<polygon fill=\"black\" stroke=\"black\" points=\"143.253,-86.2929 132.741,-84.9714 140.134,-92.5599 143.253,-86.2929\"/>\n",
       "<text text-anchor=\"middle\" x=\"235.5\" y=\"-129.8\" font-family=\"Times,serif\" font-size=\"14.00\">0</text>\n",
       "</g>\n",
       "<!-- A1 -->\n",
       "<g id=\"node3\" class=\"node\"><title>A1</title>\n",
       "<ellipse fill=\"none\" stroke=\"black\" cx=\"277.915\" cy=\"-100\" rx=\"20.8304\" ry=\"20.8304\"/>\n",
       "<text text-anchor=\"middle\" x=\"277.915\" y=\"-95.8\" font-family=\"Times,serif\" font-size=\"14.00\">A1</text>\n",
       "</g>\n",
       "<!-- A1&#45;&gt;B -->\n",
       "<g id=\"edge6\" class=\"edge\"><title>A1&#45;&gt;B</title>\n",
       "<path fill=\"none\" stroke=\"black\" d=\"M299.081,-102.271C308.999,-103.388 321.094,-104.75 331.801,-105.956\"/>\n",
       "<polygon fill=\"black\" stroke=\"black\" points=\"331.584,-109.454 341.913,-107.095 332.367,-102.498 331.584,-109.454\"/>\n",
       "<text text-anchor=\"middle\" x=\"320.33\" y=\"-108.8\" font-family=\"Times,serif\" font-size=\"14.00\">0</text>\n",
       "</g>\n",
       "<!-- A -->\n",
       "<g id=\"node5\" class=\"node\"><title>A</title>\n",
       "<ellipse fill=\"none\" stroke=\"black\" cx=\"196\" cy=\"-75\" rx=\"18\" ry=\"18\"/>\n",
       "<text text-anchor=\"middle\" x=\"196\" y=\"-70.8\" font-family=\"Times,serif\" font-size=\"14.00\">A</text>\n",
       "</g>\n",
       "<!-- A1&#45;&gt;A -->\n",
       "<g id=\"edge7\" class=\"edge\"><title>A1&#45;&gt;A</title>\n",
       "<path fill=\"none\" stroke=\"black\" d=\"M257.025,-96.4007C249.145,-94.7604 240.059,-92.5992 232,-90 228.626,-88.9119 225.13,-87.6214 221.711,-86.2611\"/>\n",
       "<polygon fill=\"black\" stroke=\"black\" points=\"223.018,-83.014 212.444,-82.3527 220.298,-89.4638 223.018,-83.014\"/>\n",
       "<text text-anchor=\"middle\" x=\"235.5\" y=\"-95.8\" font-family=\"Times,serif\" font-size=\"14.00\">1</text>\n",
       "</g>\n",
       "<!-- B1&#45;&gt;B -->\n",
       "<g id=\"edge9\" class=\"edge\"><title>B1&#45;&gt;B</title>\n",
       "<path fill=\"none\" stroke=\"black\" d=\"M421.347,-63.9009C413.159,-66.8921 403.675,-70.9666 395.83,-76 390.203,-79.6108 384.672,-84.1908 379.727,-88.7806\"/>\n",
       "<polygon fill=\"black\" stroke=\"black\" points=\"377.196,-86.3606 372.511,-95.8633 382.1,-91.3564 377.196,-86.3606\"/>\n",
       "<text text-anchor=\"middle\" x=\"399.33\" y=\"-78.8\" font-family=\"Times,serif\" font-size=\"14.00\">1</text>\n",
       "</g>\n",
       "<!-- B1&#45;&gt;IF -->\n",
       "<g id=\"edge8\" class=\"edge\"><title>B1&#45;&gt;IF</title>\n",
       "<path fill=\"none\" stroke=\"black\" d=\"M428.471,-41.8438C414.457,-24.682 389.345,-0 360.83,-0 195,-0 195,-0 195,-0 166.324,-0 143.499,-25.6206 129.481,-46.9128\"/>\n",
       "<polygon fill=\"black\" stroke=\"black\" points=\"126.333,-45.3462 124.021,-55.6856 132.276,-49.045 126.333,-45.3462\"/>\n",
       "<text text-anchor=\"middle\" x=\"277.915\" y=\"-2.8\" font-family=\"Times,serif\" font-size=\"14.00\">0</text>\n",
       "</g>\n",
       "<!-- A&#45;&gt;A1 -->\n",
       "<g id=\"edge5\" class=\"edge\"><title>A&#45;&gt;A1</title>\n",
       "<path fill=\"none\" stroke=\"black\" d=\"M214.086,-73.3572C221.843,-73.1281 231.042,-73.59 239,-76 243.483,-77.3576 247.951,-79.4014 252.165,-81.7341\"/>\n",
       "<polygon fill=\"black\" stroke=\"black\" points=\"250.547,-84.849 260.889,-87.1482 254.238,-78.9012 250.547,-84.849\"/>\n",
       "<text text-anchor=\"middle\" x=\"235.5\" y=\"-78.8\" font-family=\"Times,serif\" font-size=\"14.00\">1</text>\n",
       "</g>\n",
       "<!-- A&#45;&gt;B1 -->\n",
       "<g id=\"edge4\" class=\"edge\"><title>A&#45;&gt;B1</title>\n",
       "<path fill=\"none\" stroke=\"black\" d=\"M214.072,-72.8708C219.767,-72.208 226.151,-71.5164 232,-71 295.466,-65.3963 370.022,-61.3564 410.476,-59.3765\"/>\n",
       "<polygon fill=\"black\" stroke=\"black\" points=\"410.888,-62.8608 420.708,-58.8842 410.551,-55.8689 410.888,-62.8608\"/>\n",
       "<text text-anchor=\"middle\" x=\"320.33\" y=\"-67.8\" font-family=\"Times,serif\" font-size=\"14.00\">0</text>\n",
       "</g>\n",
       "<!-- IF&#45;&gt;A -->\n",
       "<g id=\"edge2\" class=\"edge\"><title>IF&#45;&gt;A</title>\n",
       "<path fill=\"none\" stroke=\"black\" d=\"M135.282,-75C145.266,-75 157.278,-75 167.903,-75\"/>\n",
       "<polygon fill=\"black\" stroke=\"black\" points=\"167.94,-78.5001 177.939,-75 167.939,-71.5001 167.94,-78.5001\"/>\n",
       "<text text-anchor=\"middle\" x=\"156.5\" y=\"-77.8\" font-family=\"Times,serif\" font-size=\"14.00\">0</text>\n",
       "</g>\n",
       "<!-- IF&#45;&gt;IF -->\n",
       "<g id=\"edge3\" class=\"edge\"><title>IF&#45;&gt;IF</title>\n",
       "<path fill=\"none\" stroke=\"black\" d=\"M105.683,-95.9908C104.78,-106.087 107.219,-115 113,-115 116.704,-115 119.036,-111.342 119.996,-106.059\"/>\n",
       "<polygon fill=\"black\" stroke=\"black\" points=\"123.496,-106.097 120.317,-95.9908 116.5,-105.874 123.496,-106.097\"/>\n",
       "<text text-anchor=\"middle\" x=\"113\" y=\"-117.8\" font-family=\"Times,serif\" font-size=\"14.00\">1</text>\n",
       "</g>\n",
       "</g>\n",
       "</svg>\n"
      ],
      "text/plain": [
       "<graphviz.dot.Digraph at 0x10a23e320>"
      ]
     },
     "execution_count": 54,
     "metadata": {},
     "output_type": "execute_result"
    }
   ],
   "source": [
    "d34bl"
   ]
  },
  {
   "cell_type": "code",
   "execution_count": 55,
   "metadata": {
    "run_control": {
     "frozen": false,
     "read_only": false
    }
   },
   "outputs": [
    {
     "data": {
      "text/plain": [
       "False"
      ]
     },
     "execution_count": 55,
     "metadata": {},
     "output_type": "execute_result"
    }
   ],
   "source": [
    "iso_dfa(D34,D34bl)"
   ]
  },
  {
   "cell_type": "code",
   "execution_count": 56,
   "metadata": {
    "run_control": {
     "frozen": false,
     "read_only": false
    }
   },
   "outputs": [
    {
     "data": {
      "text/plain": [
       "True"
      ]
     },
     "execution_count": 56,
     "metadata": {},
     "output_type": "execute_result"
    }
   ],
   "source": [
    "langeq_dfa(D34,D34bl)"
   ]
  },
  {
   "cell_type": "markdown",
   "metadata": {
    "collapsed": true,
    "run_control": {
     "frozen": false,
     "read_only": false
    }
   },
   "source": [
    "#### "
   ]
  },
  {
   "cell_type": "code",
   "execution_count": 57,
   "metadata": {
    "run_control": {
     "frozen": false,
     "read_only": false
    }
   },
   "outputs": [
    {
     "data": {
      "text/plain": [
       "{'Delta': {(('A', 'A'), '0'): ('B', 'B'),\n",
       "  (('A', 'A'), '1'): ('A', 'A'),\n",
       "  (('B', 'B'), '0'): ('IF', 'IF'),\n",
       "  (('B', 'B'), '1'): ('B', 'B'),\n",
       "  (('IF', 'IF'), '0'): ('A', 'A'),\n",
       "  (('IF', 'IF'), '1'): ('IF', 'IF')},\n",
       " 'F': {('A', 'A'), ('B', 'B'), ('IF', 'IF')},\n",
       " 'Q': {('A', 'A'), ('B', 'B'), ('IF', 'IF')},\n",
       " 'Sigma': {'0', '1'},\n",
       " 'q0': ('IF', 'IF')}"
      ]
     },
     "execution_count": 57,
     "metadata": {},
     "output_type": "execute_result"
    }
   ],
   "source": [
    "du"
   ]
  },
  {
   "cell_type": "code",
   "execution_count": 58,
   "metadata": {
    "run_control": {
     "frozen": false,
     "read_only": false
    }
   },
   "outputs": [
    {
     "data": {
      "image/svg+xml": [
       "<?xml version=\"1.0\" encoding=\"UTF-8\" standalone=\"no\"?>\n",
       "<!DOCTYPE svg PUBLIC \"-//W3C//DTD SVG 1.1//EN\"\n",
       " \"http://www.w3.org/Graphics/SVG/1.1/DTD/svg11.dtd\">\n",
       "<!-- Generated by graphviz version 2.38.0 (20140413.2041)\n",
       " -->\n",
       "<!-- Title: %3 Pages: 1 -->\n",
       "<svg width=\"470pt\" height=\"149pt\"\n",
       " viewBox=\"0.00 0.00 469.68 149.00\" xmlns=\"http://www.w3.org/2000/svg\" xmlns:xlink=\"http://www.w3.org/1999/xlink\">\n",
       "<g id=\"graph0\" class=\"graph\" transform=\"scale(1 1) rotate(0) translate(4 145)\">\n",
       "<title>%3</title>\n",
       "<polygon fill=\"white\" stroke=\"none\" points=\"-4,4 -4,-145 465.684,-145 465.684,4 -4,4\"/>\n",
       "<!-- EMPTY -->\n",
       "<g id=\"node1\" class=\"node\"><title>EMPTY</title>\n",
       "</g>\n",
       "<!-- IF -->\n",
       "<g id=\"node6\" class=\"node\"><title>IF</title>\n",
       "<ellipse fill=\"none\" stroke=\"black\" cx=\"113\" cy=\"-75\" rx=\"18\" ry=\"18\"/>\n",
       "<ellipse fill=\"none\" stroke=\"black\" cx=\"113\" cy=\"-75\" rx=\"22\" ry=\"22\"/>\n",
       "<text text-anchor=\"middle\" x=\"113\" y=\"-70.8\" font-family=\"Times,serif\" font-size=\"14.00\">IF</text>\n",
       "</g>\n",
       "<!-- EMPTY&#45;&gt;IF -->\n",
       "<g id=\"edge1\" class=\"edge\"><title>EMPTY&#45;&gt;IF</title>\n",
       "<path fill=\"none\" stroke=\"black\" d=\"M54.1177,-75C62.5406,-75 71.9629,-75 80.7191,-75\"/>\n",
       "<polygon fill=\"black\" stroke=\"black\" points=\"80.9574,-78.5001 90.9574,-75 80.9573,-71.5001 80.9574,-78.5001\"/>\n",
       "</g>\n",
       "<!-- B -->\n",
       "<g id=\"node2\" class=\"node\"><title>B</title>\n",
       "<ellipse fill=\"none\" stroke=\"black\" cx=\"359.83\" cy=\"-109\" rx=\"18\" ry=\"18\"/>\n",
       "<text text-anchor=\"middle\" x=\"359.83\" y=\"-104.8\" font-family=\"Times,serif\" font-size=\"14.00\">B</text>\n",
       "</g>\n",
       "<!-- B1 -->\n",
       "<g id=\"node5\" class=\"node\"><title>B1</title>\n",
       "<ellipse fill=\"none\" stroke=\"black\" cx=\"441.257\" cy=\"-58\" rx=\"20.3544\" ry=\"20.3544\"/>\n",
       "<text text-anchor=\"middle\" x=\"441.257\" y=\"-53.8\" font-family=\"Times,serif\" font-size=\"14.00\">B1</text>\n",
       "</g>\n",
       "<!-- B&#45;&gt;B1 -->\n",
       "<g id=\"edge8\" class=\"edge\"><title>B&#45;&gt;B1</title>\n",
       "<path fill=\"none\" stroke=\"black\" d=\"M376.934,-102.972C384.989,-99.6477 394.725,-95.151 402.83,-90 408.099,-86.6513 413.408,-82.609 418.305,-78.5413\"/>\n",
       "<polygon fill=\"black\" stroke=\"black\" points=\"420.824,-80.9898 426.078,-71.7896 416.233,-75.7051 420.824,-80.9898\"/>\n",
       "<text text-anchor=\"middle\" x=\"399.33\" y=\"-96.8\" font-family=\"Times,serif\" font-size=\"14.00\">1</text>\n",
       "</g>\n",
       "<!-- B&#45;&gt;IF -->\n",
       "<g id=\"edge6\" class=\"edge\"><title>B&#45;&gt;IF</title>\n",
       "<path fill=\"none\" stroke=\"black\" d=\"M343.368,-116.296C337.356,-118.954 330.356,-121.836 323.83,-124 295.524,-133.387 286.39,-135.054 257,-130 215.26,-122.822 170.122,-103.296 141.96,-89.5591\"/>\n",
       "<polygon fill=\"black\" stroke=\"black\" points=\"143.253,-86.2929 132.741,-84.9714 140.134,-92.5599 143.253,-86.2929\"/>\n",
       "<text text-anchor=\"middle\" x=\"235.5\" y=\"-129.8\" font-family=\"Times,serif\" font-size=\"14.00\">0</text>\n",
       "</g>\n",
       "<!-- A1 -->\n",
       "<g id=\"node3\" class=\"node\"><title>A1</title>\n",
       "<ellipse fill=\"none\" stroke=\"black\" cx=\"277.915\" cy=\"-100\" rx=\"20.8304\" ry=\"20.8304\"/>\n",
       "<text text-anchor=\"middle\" x=\"277.915\" y=\"-95.8\" font-family=\"Times,serif\" font-size=\"14.00\">A1</text>\n",
       "</g>\n",
       "<!-- A1&#45;&gt;B -->\n",
       "<g id=\"edge11\" class=\"edge\"><title>A1&#45;&gt;B</title>\n",
       "<path fill=\"none\" stroke=\"black\" d=\"M299.081,-102.271C308.999,-103.388 321.094,-104.75 331.801,-105.956\"/>\n",
       "<polygon fill=\"black\" stroke=\"black\" points=\"331.584,-109.454 341.913,-107.095 332.367,-102.498 331.584,-109.454\"/>\n",
       "<text text-anchor=\"middle\" x=\"320.33\" y=\"-108.8\" font-family=\"Times,serif\" font-size=\"14.00\">0</text>\n",
       "</g>\n",
       "<!-- A -->\n",
       "<g id=\"node4\" class=\"node\"><title>A</title>\n",
       "<ellipse fill=\"none\" stroke=\"black\" cx=\"196\" cy=\"-75\" rx=\"18\" ry=\"18\"/>\n",
       "<text text-anchor=\"middle\" x=\"196\" y=\"-70.8\" font-family=\"Times,serif\" font-size=\"14.00\">A</text>\n",
       "</g>\n",
       "<!-- A1&#45;&gt;A -->\n",
       "<g id=\"edge5\" class=\"edge\"><title>A1&#45;&gt;A</title>\n",
       "<path fill=\"none\" stroke=\"black\" d=\"M262.328,-85.8129C255.752,-80.3803 247.55,-74.8148 239,-72 234.218,-70.4255 228.968,-69.9154 223.85,-70.0109\"/>\n",
       "<polygon fill=\"black\" stroke=\"black\" points=\"223.369,-66.5397 213.718,-70.9105 223.988,-73.5123 223.369,-66.5397\"/>\n",
       "<text text-anchor=\"middle\" x=\"235.5\" y=\"-74.8\" font-family=\"Times,serif\" font-size=\"14.00\">1</text>\n",
       "</g>\n",
       "<!-- A&#45;&gt;A1 -->\n",
       "<g id=\"edge3\" class=\"edge\"><title>A&#45;&gt;A1</title>\n",
       "<path fill=\"none\" stroke=\"black\" d=\"M212.444,-82.3527C218.453,-85.0184 225.457,-87.8897 232,-90 236.785,-91.5433 241.932,-92.9321 246.974,-94.1493\"/>\n",
       "<polygon fill=\"black\" stroke=\"black\" points=\"246.502,-97.6302 257.025,-96.4007 248.032,-90.7995 246.502,-97.6302\"/>\n",
       "<text text-anchor=\"middle\" x=\"235.5\" y=\"-95.8\" font-family=\"Times,serif\" font-size=\"14.00\">1</text>\n",
       "</g>\n",
       "<!-- A&#45;&gt;B1 -->\n",
       "<g id=\"edge7\" class=\"edge\"><title>A&#45;&gt;B1</title>\n",
       "<path fill=\"none\" stroke=\"black\" d=\"M213.622,-70.5517C219.398,-69.1793 225.946,-67.8158 232,-67 295.213,-58.4817 370.098,-57.4267 410.621,-57.596\"/>\n",
       "<polygon fill=\"black\" stroke=\"black\" points=\"410.604,-61.0959 420.628,-57.6663 410.653,-54.0961 410.604,-61.0959\"/>\n",
       "<text text-anchor=\"middle\" x=\"320.33\" y=\"-62.8\" font-family=\"Times,serif\" font-size=\"14.00\">0</text>\n",
       "</g>\n",
       "<!-- B1&#45;&gt;B -->\n",
       "<g id=\"edge2\" class=\"edge\"><title>B1&#45;&gt;B</title>\n",
       "<path fill=\"none\" stroke=\"black\" d=\"M421.347,-63.9009C413.159,-66.8921 403.675,-70.9666 395.83,-76 390.203,-79.6108 384.672,-84.1908 379.727,-88.7806\"/>\n",
       "<polygon fill=\"black\" stroke=\"black\" points=\"377.196,-86.3606 372.511,-95.8633 382.1,-91.3564 377.196,-86.3606\"/>\n",
       "<text text-anchor=\"middle\" x=\"399.33\" y=\"-78.8\" font-family=\"Times,serif\" font-size=\"14.00\">1</text>\n",
       "</g>\n",
       "<!-- B1&#45;&gt;IF -->\n",
       "<g id=\"edge4\" class=\"edge\"><title>B1&#45;&gt;IF</title>\n",
       "<path fill=\"none\" stroke=\"black\" d=\"M428.471,-41.8438C414.457,-24.682 389.345,-0 360.83,-0 195,-0 195,-0 195,-0 166.324,-0 143.499,-25.6206 129.481,-46.9128\"/>\n",
       "<polygon fill=\"black\" stroke=\"black\" points=\"126.333,-45.3462 124.021,-55.6856 132.276,-49.045 126.333,-45.3462\"/>\n",
       "<text text-anchor=\"middle\" x=\"277.915\" y=\"-2.8\" font-family=\"Times,serif\" font-size=\"14.00\">0</text>\n",
       "</g>\n",
       "<!-- IF&#45;&gt;A -->\n",
       "<g id=\"edge9\" class=\"edge\"><title>IF&#45;&gt;A</title>\n",
       "<path fill=\"none\" stroke=\"black\" d=\"M135.282,-75C145.266,-75 157.278,-75 167.903,-75\"/>\n",
       "<polygon fill=\"black\" stroke=\"black\" points=\"167.94,-78.5001 177.939,-75 167.939,-71.5001 167.94,-78.5001\"/>\n",
       "<text text-anchor=\"middle\" x=\"156.5\" y=\"-77.8\" font-family=\"Times,serif\" font-size=\"14.00\">0</text>\n",
       "</g>\n",
       "<!-- IF&#45;&gt;IF -->\n",
       "<g id=\"edge10\" class=\"edge\"><title>IF&#45;&gt;IF</title>\n",
       "<path fill=\"none\" stroke=\"black\" d=\"M105.683,-95.9908C104.78,-106.087 107.219,-115 113,-115 116.704,-115 119.036,-111.342 119.996,-106.059\"/>\n",
       "<polygon fill=\"black\" stroke=\"black\" points=\"123.496,-106.097 120.317,-95.9908 116.5,-105.874 123.496,-106.097\"/>\n",
       "<text text-anchor=\"middle\" x=\"113\" y=\"-117.8\" font-family=\"Times,serif\" font-size=\"14.00\">1</text>\n",
       "</g>\n",
       "</g>\n",
       "</svg>\n"
      ],
      "text/plain": [
       "<graphviz.dot.Digraph at 0x10a64cfd0>"
      ]
     },
     "execution_count": 58,
     "metadata": {},
     "output_type": "execute_result"
    }
   ],
   "source": [
    "dotObj_dfa(pruneUnreach(D34bl), \"D34bl\")"
   ]
  },
  {
   "cell_type": "code",
   "execution_count": 59,
   "metadata": {
    "run_control": {
     "frozen": false,
     "read_only": false
    }
   },
   "outputs": [],
   "source": [
    "### DFA minimization (another example)"
   ]
  },
  {
   "cell_type": "code",
   "execution_count": 60,
   "metadata": {
    "code_folding": [],
    "run_control": {
     "frozen": false,
     "read_only": false
    }
   },
   "outputs": [
    {
     "data": {
      "image/svg+xml": [
       "<?xml version=\"1.0\" encoding=\"UTF-8\" standalone=\"no\"?>\n",
       "<!DOCTYPE svg PUBLIC \"-//W3C//DTD SVG 1.1//EN\"\n",
       " \"http://www.w3.org/Graphics/SVG/1.1/DTD/svg11.dtd\">\n",
       "<!-- Generated by graphviz version 2.38.0 (20140413.2041)\n",
       " -->\n",
       "<!-- Title: %3 Pages: 1 -->\n",
       "<svg width=\"400pt\" height=\"157pt\"\n",
       " viewBox=\"0.00 0.00 399.57 156.89\" xmlns=\"http://www.w3.org/2000/svg\" xmlns:xlink=\"http://www.w3.org/1999/xlink\">\n",
       "<g id=\"graph0\" class=\"graph\" transform=\"scale(1 1) rotate(0) translate(4 152.894)\">\n",
       "<title>%3</title>\n",
       "<polygon fill=\"white\" stroke=\"none\" points=\"-4,4 -4,-152.894 395.575,-152.894 395.575,4 -4,4\"/>\n",
       "<!-- EMPTY -->\n",
       "<g id=\"node1\" class=\"node\"><title>EMPTY</title>\n",
       "</g>\n",
       "<!-- S1 -->\n",
       "<g id=\"node3\" class=\"node\"><title>S1</title>\n",
       "<ellipse fill=\"none\" stroke=\"black\" cx=\"110.447\" cy=\"-60.4469\" rx=\"19.3939\" ry=\"19.3939\"/>\n",
       "<text text-anchor=\"middle\" x=\"110.447\" y=\"-56.2469\" font-family=\"Times,serif\" font-size=\"14.00\">S1</text>\n",
       "</g>\n",
       "<!-- EMPTY&#45;&gt;S1 -->\n",
       "<g id=\"edge1\" class=\"edge\"><title>EMPTY&#45;&gt;S1</title>\n",
       "<path fill=\"none\" stroke=\"black\" d=\"M54.2186,-60.4469C62.6822,-60.4469 72.1072,-60.4469 80.7407,-60.4469\"/>\n",
       "<polygon fill=\"black\" stroke=\"black\" points=\"80.7613,-63.947 90.7613,-60.4469 80.7613,-56.947 80.7613,-63.947\"/>\n",
       "</g>\n",
       "<!-- S4 -->\n",
       "<g id=\"node2\" class=\"node\"><title>S4</title>\n",
       "<ellipse fill=\"none\" stroke=\"black\" cx=\"282.234\" cy=\"-89.4469\" rx=\"19.3939\" ry=\"19.3939\"/>\n",
       "<text text-anchor=\"middle\" x=\"282.234\" y=\"-85.2469\" font-family=\"Times,serif\" font-size=\"14.00\">S4</text>\n",
       "</g>\n",
       "<!-- S6 -->\n",
       "<g id=\"node7\" class=\"node\"><title>S6</title>\n",
       "<ellipse fill=\"none\" stroke=\"black\" cx=\"368.128\" cy=\"-61.4469\" rx=\"19.4029\" ry=\"19.4029\"/>\n",
       "<ellipse fill=\"none\" stroke=\"black\" cx=\"368.128\" cy=\"-61.4469\" rx=\"23.3939\" ry=\"23.3939\"/>\n",
       "<text text-anchor=\"middle\" x=\"368.128\" y=\"-57.2469\" font-family=\"Times,serif\" font-size=\"14.00\">S6</text>\n",
       "</g>\n",
       "<!-- S4&#45;&gt;S6 -->\n",
       "<g id=\"edge10\" class=\"edge\"><title>S4&#45;&gt;S6</title>\n",
       "<path fill=\"none\" stroke=\"black\" d=\"M300.98,-95.6808C309.018,-97.5547 318.526,-98.4194 326.681,-95.4469 332.903,-93.1792 338.832,-89.487 344.138,-85.3539\"/>\n",
       "<polygon fill=\"black\" stroke=\"black\" points=\"346.636,-87.8218 351.918,-78.6375 342.061,-82.5233 346.636,-87.8218\"/>\n",
       "<text text-anchor=\"middle\" x=\"323.181\" y=\"-99.2469\" font-family=\"Times,serif\" font-size=\"14.00\">b</text>\n",
       "</g>\n",
       "<!-- S4&#45;&gt;S6 -->\n",
       "<g id=\"edge11\" class=\"edge\"><title>S4&#45;&gt;S6</title>\n",
       "<path fill=\"none\" stroke=\"black\" d=\"M301.026,-83.5088C311.172,-80.1226 324.177,-75.7819 335.964,-71.8479\"/>\n",
       "<polygon fill=\"black\" stroke=\"black\" points=\"337.112,-75.1549 345.489,-68.6689 334.896,-68.5149 337.112,-75.1549\"/>\n",
       "<text text-anchor=\"middle\" x=\"323.181\" y=\"-80.2469\" font-family=\"Times,serif\" font-size=\"14.00\">a</text>\n",
       "</g>\n",
       "<!-- S3 -->\n",
       "<g id=\"node5\" class=\"node\"><title>S3</title>\n",
       "<ellipse fill=\"none\" stroke=\"black\" cx=\"196.341\" cy=\"-89.4469\" rx=\"19.4029\" ry=\"19.4029\"/>\n",
       "<ellipse fill=\"none\" stroke=\"black\" cx=\"196.341\" cy=\"-89.4469\" rx=\"23.3939\" ry=\"23.3939\"/>\n",
       "<text text-anchor=\"middle\" x=\"196.341\" y=\"-85.2469\" font-family=\"Times,serif\" font-size=\"14.00\">S3</text>\n",
       "</g>\n",
       "<!-- S1&#45;&gt;S3 -->\n",
       "<g id=\"edge2\" class=\"edge\"><title>S1&#45;&gt;S3</title>\n",
       "<path fill=\"none\" stroke=\"black\" d=\"M129.239,-66.597C139.459,-70.1301 152.583,-74.6665 164.439,-78.7648\"/>\n",
       "<polygon fill=\"black\" stroke=\"black\" points=\"163.413,-82.1135 174.008,-82.0727 165.7,-75.4976 163.413,-82.1135\"/>\n",
       "<text text-anchor=\"middle\" x=\"151.394\" y=\"-78.2469\" font-family=\"Times,serif\" font-size=\"14.00\">b</text>\n",
       "</g>\n",
       "<!-- S2 -->\n",
       "<g id=\"node6\" class=\"node\"><title>S2</title>\n",
       "<ellipse fill=\"none\" stroke=\"black\" cx=\"196.341\" cy=\"-24.4469\" rx=\"19.4029\" ry=\"19.4029\"/>\n",
       "<ellipse fill=\"none\" stroke=\"black\" cx=\"196.341\" cy=\"-24.4469\" rx=\"23.3939\" ry=\"23.3939\"/>\n",
       "<text text-anchor=\"middle\" x=\"196.341\" y=\"-20.2469\" font-family=\"Times,serif\" font-size=\"14.00\">S2</text>\n",
       "</g>\n",
       "<!-- S1&#45;&gt;S2 -->\n",
       "<g id=\"edge3\" class=\"edge\"><title>S1&#45;&gt;S2</title>\n",
       "<path fill=\"none\" stroke=\"black\" d=\"M128.83,-52.9876C139.282,-48.5024 152.876,-42.6691 165.048,-37.4459\"/>\n",
       "<polygon fill=\"black\" stroke=\"black\" points=\"166.608,-40.5851 174.417,-33.4253 163.848,-34.1524 166.608,-40.5851\"/>\n",
       "<text text-anchor=\"middle\" x=\"151.394\" y=\"-48.2469\" font-family=\"Times,serif\" font-size=\"14.00\">a</text>\n",
       "</g>\n",
       "<!-- S5 -->\n",
       "<g id=\"node4\" class=\"node\"><title>S5</title>\n",
       "<ellipse fill=\"none\" stroke=\"black\" cx=\"282.234\" cy=\"-19.4469\" rx=\"19.3939\" ry=\"19.3939\"/>\n",
       "<text text-anchor=\"middle\" x=\"282.234\" y=\"-15.2469\" font-family=\"Times,serif\" font-size=\"14.00\">S5</text>\n",
       "</g>\n",
       "<!-- S5&#45;&gt;S6 -->\n",
       "<g id=\"edge8\" class=\"edge\"><title>S5&#45;&gt;S6</title>\n",
       "<path fill=\"none\" stroke=\"black\" d=\"M300.211,-27.9462C310.971,-33.3327 325.176,-40.4443 337.73,-46.7291\"/>\n",
       "<polygon fill=\"black\" stroke=\"black\" points=\"336.414,-49.9847 346.923,-51.3317 339.548,-43.7253 336.414,-49.9847\"/>\n",
       "<text text-anchor=\"middle\" x=\"323.181\" y=\"-43.2469\" font-family=\"Times,serif\" font-size=\"14.00\">b</text>\n",
       "</g>\n",
       "<!-- S5&#45;&gt;S6 -->\n",
       "<g id=\"edge9\" class=\"edge\"><title>S5&#45;&gt;S6</title>\n",
       "<path fill=\"none\" stroke=\"black\" d=\"M301.646,-16.8605C309.638,-16.487 318.923,-17.0971 326.681,-20.4469 334.297,-23.7354 341.225,-29.1989 347.111,-35.0822\"/>\n",
       "<polygon fill=\"black\" stroke=\"black\" points=\"344.661,-37.5902 353.982,-42.6267 349.837,-32.8767 344.661,-37.5902\"/>\n",
       "<text text-anchor=\"middle\" x=\"323.181\" y=\"-23.2469\" font-family=\"Times,serif\" font-size=\"14.00\">a</text>\n",
       "</g>\n",
       "<!-- S3&#45;&gt;S4 -->\n",
       "<g id=\"edge6\" class=\"edge\"><title>S3&#45;&gt;S4</title>\n",
       "<path fill=\"none\" stroke=\"black\" d=\"M220.025,-90.246C227.869,-90.437 236.714,-90.5576 244.787,-90.4469 247.335,-90.4119 249.982,-90.3632 252.635,-90.306\"/>\n",
       "<polygon fill=\"black\" stroke=\"black\" points=\"252.786,-93.8035 262.695,-90.0539 252.61,-86.8057 252.786,-93.8035\"/>\n",
       "<text text-anchor=\"middle\" x=\"241.287\" y=\"-93.2469\" font-family=\"Times,serif\" font-size=\"14.00\">b</text>\n",
       "</g>\n",
       "<!-- S3&#45;&gt;S5 -->\n",
       "<g id=\"edge4\" class=\"edge\"><title>S3&#45;&gt;S5</title>\n",
       "<path fill=\"none\" stroke=\"black\" d=\"M215.702,-76.193C224.645,-69.5686 235.454,-61.3059 244.787,-53.4469 249.913,-49.1306 255.273,-44.3146 260.256,-39.6961\"/>\n",
       "<polygon fill=\"black\" stroke=\"black\" points=\"262.805,-42.1034 267.689,-32.7013 258.008,-37.0057 262.805,-42.1034\"/>\n",
       "<text text-anchor=\"middle\" x=\"241.287\" y=\"-62.2469\" font-family=\"Times,serif\" font-size=\"14.00\">a</text>\n",
       "</g>\n",
       "<!-- S2&#45;&gt;S4 -->\n",
       "<g id=\"edge5\" class=\"edge\"><title>S2&#45;&gt;S4</title>\n",
       "<path fill=\"none\" stroke=\"black\" d=\"M219.463,-28.3539C227.941,-30.6088 237.353,-34.0996 244.787,-39.4469 253.682,-45.8448 261.275,-55.0821 267.191,-63.8803\"/>\n",
       "<polygon fill=\"black\" stroke=\"black\" points=\"264.26,-65.7941 272.535,-72.4108 270.192,-62.0781 264.26,-65.7941\"/>\n",
       "<text text-anchor=\"middle\" x=\"241.287\" y=\"-42.2469\" font-family=\"Times,serif\" font-size=\"14.00\">a</text>\n",
       "</g>\n",
       "<!-- S2&#45;&gt;S5 -->\n",
       "<g id=\"edge7\" class=\"edge\"><title>S2&#45;&gt;S5</title>\n",
       "<path fill=\"none\" stroke=\"black\" d=\"M216.275,-11.6247C222.803,-7.90526 230.35,-4.33858 237.787,-2.44687 244.072,-0.848255 250.675,-1.91231 256.783,-4.12992\"/>\n",
       "<polygon fill=\"black\" stroke=\"black\" points=\"255.313,-7.30603 265.856,-8.34737 258.263,-0.958273 255.313,-7.30603\"/>\n",
       "<text text-anchor=\"middle\" x=\"241.287\" y=\"-5.24687\" font-family=\"Times,serif\" font-size=\"14.00\">b</text>\n",
       "</g>\n",
       "<!-- S6&#45;&gt;S6 -->\n",
       "<g id=\"edge12\" class=\"edge\"><title>S6&#45;&gt;S6</title>\n",
       "<path fill=\"none\" stroke=\"black\" d=\"M364.039,-84.8814C363.757,-94.63 365.12,-102.894 368.128,-102.894 369.961,-102.894 371.183,-99.8251 371.794,-95.2218\"/>\n",
       "<polygon fill=\"black\" stroke=\"black\" points=\"375.306,-95.016 372.217,-84.8814 368.311,-94.7301 375.306,-95.016\"/>\n",
       "<text text-anchor=\"middle\" x=\"368.128\" y=\"-105.694\" font-family=\"Times,serif\" font-size=\"14.00\">b</text>\n",
       "</g>\n",
       "<!-- S6&#45;&gt;S6 -->\n",
       "<g id=\"edge13\" class=\"edge\"><title>S6&#45;&gt;S6</title>\n",
       "<path fill=\"none\" stroke=\"black\" d=\"M361.038,-84.0152C358.202,-102.162 360.566,-120.894 368.128,-120.894 374.273,-120.894 376.985,-108.528 376.265,-94.1571\"/>\n",
       "<polygon fill=\"black\" stroke=\"black\" points=\"379.726,-93.6029 375.218,-84.0152 372.763,-94.3217 379.726,-93.6029\"/>\n",
       "<text text-anchor=\"middle\" x=\"368.128\" y=\"-123.694\" font-family=\"Times,serif\" font-size=\"14.00\">a</text>\n",
       "</g>\n",
       "</g>\n",
       "</svg>\n"
      ],
      "text/plain": [
       "<graphviz.dot.Digraph at 0x10a656278>"
      ]
     },
     "execution_count": 60,
     "metadata": {},
     "output_type": "execute_result"
    }
   ],
   "source": [
    "Bloat1 = {'Q': {'S1', 'S3', 'S2', 'S5', 'S4', 'S6' },\n",
    "          'Sigma': {'b', 'a'},\n",
    "          'Delta': { ('S1','b') : 'S3',\n",
    "                     ('S1','a') : 'S2',\n",
    "                     ('S3','a') : 'S5',\n",
    "                     ('S2','a') : 'S4',\n",
    "                     ('S3','b') : 'S4',\n",
    "                     ('S2','b') : 'S5',\n",
    "                     ('S5','b') : 'S6',\n",
    "                     ('S5','a') : 'S6',\n",
    "                     ('S4','b') : 'S6',\n",
    "                     ('S4','a') : 'S6',\n",
    "                     ('S6','b') : 'S6',\n",
    "                     ('S6','a') : 'S6' },\n",
    "          'q0': 'S1', \n",
    "          'F': {'S2','S3','S6'}   \n",
    "        }\n",
    "\n",
    "\n",
    "Bloat1O = dotObj_dfa(Bloat1, dfaName=\"Bloat1\")\n",
    "Bloat1O # Display it!"
   ]
  },
  {
   "cell_type": "code",
   "execution_count": 61,
   "metadata": {
    "run_control": {
     "frozen": false,
     "read_only": false
    }
   },
   "outputs": [
    {
     "data": {
      "image/svg+xml": [
       "<?xml version=\"1.0\" encoding=\"UTF-8\" standalone=\"no\"?>\n",
       "<!DOCTYPE svg PUBLIC \"-//W3C//DTD SVG 1.1//EN\"\n",
       " \"http://www.w3.org/Graphics/SVG/1.1/DTD/svg11.dtd\">\n",
       "<!-- Generated by graphviz version 2.38.0 (20140413.2041)\n",
       " -->\n",
       "<!-- Title: %3 Pages: 1 -->\n",
       "<svg width=\"403pt\" height=\"134pt\"\n",
       " viewBox=\"0.00 0.00 403.07 134.11\" xmlns=\"http://www.w3.org/2000/svg\" xmlns:xlink=\"http://www.w3.org/1999/xlink\">\n",
       "<g id=\"graph0\" class=\"graph\" transform=\"scale(1 1) rotate(0) translate(4 130.108)\">\n",
       "<title>%3</title>\n",
       "<polygon fill=\"white\" stroke=\"none\" points=\"-4,4 -4,-130.108 399.075,-130.108 399.075,4 -4,4\"/>\n",
       "<!-- EMPTY -->\n",
       "<g id=\"node1\" class=\"node\"><title>EMPTY</title>\n",
       "</g>\n",
       "<!-- S1 -->\n",
       "<g id=\"node3\" class=\"node\"><title>S1</title>\n",
       "<ellipse fill=\"none\" stroke=\"black\" cx=\"110.447\" cy=\"-59.661\" rx=\"19.3939\" ry=\"19.3939\"/>\n",
       "<text text-anchor=\"middle\" x=\"110.447\" y=\"-55.461\" font-family=\"Times,serif\" font-size=\"14.00\">S1</text>\n",
       "</g>\n",
       "<!-- EMPTY&#45;&gt;S1 -->\n",
       "<g id=\"edge1\" class=\"edge\"><title>EMPTY&#45;&gt;S1</title>\n",
       "<path fill=\"none\" stroke=\"black\" d=\"M54.2186,-59.661C62.6822,-59.661 72.1072,-59.661 80.7407,-59.661\"/>\n",
       "<polygon fill=\"black\" stroke=\"black\" points=\"80.7613,-63.1611 90.7613,-59.661 80.7613,-56.1611 80.7613,-63.1611\"/>\n",
       "</g>\n",
       "<!-- S4 -->\n",
       "<g id=\"node2\" class=\"node\"><title>S4</title>\n",
       "<ellipse fill=\"none\" stroke=\"black\" cx=\"282.234\" cy=\"-84.661\" rx=\"19.3939\" ry=\"19.3939\"/>\n",
       "<text text-anchor=\"middle\" x=\"282.234\" y=\"-80.461\" font-family=\"Times,serif\" font-size=\"14.00\">S4</text>\n",
       "</g>\n",
       "<!-- S6 -->\n",
       "<g id=\"node7\" class=\"node\"><title>S6</title>\n",
       "<ellipse fill=\"none\" stroke=\"black\" cx=\"371.628\" cy=\"-56.661\" rx=\"19.4029\" ry=\"19.4029\"/>\n",
       "<ellipse fill=\"none\" stroke=\"black\" cx=\"371.628\" cy=\"-56.661\" rx=\"23.3939\" ry=\"23.3939\"/>\n",
       "<text text-anchor=\"middle\" x=\"371.628\" y=\"-52.461\" font-family=\"Times,serif\" font-size=\"14.00\">S6</text>\n",
       "</g>\n",
       "<!-- S4&#45;&gt;S6 -->\n",
       "<g id=\"edge9\" class=\"edge\"><title>S4&#45;&gt;S6</title>\n",
       "<path fill=\"none\" stroke=\"black\" d=\"M300.92,-78.9948C311.861,-75.4894 326.222,-70.8882 339.065,-66.7735\"/>\n",
       "<polygon fill=\"black\" stroke=\"black\" points=\"340.489,-69.9925 348.944,-63.6082 338.353,-63.3263 340.489,-69.9925\"/>\n",
       "<text text-anchor=\"middle\" x=\"324.931\" y=\"-89.461\" font-family=\"Times,serif\" font-size=\"14.00\">b </text>\n",
       "<text text-anchor=\"middle\" x=\"324.931\" y=\"-75.461\" font-family=\"Times,serif\" font-size=\"14.00\"> a</text>\n",
       "</g>\n",
       "<!-- S3 -->\n",
       "<g id=\"node5\" class=\"node\"><title>S3</title>\n",
       "<ellipse fill=\"none\" stroke=\"black\" cx=\"196.341\" cy=\"-88.661\" rx=\"19.4029\" ry=\"19.4029\"/>\n",
       "<ellipse fill=\"none\" stroke=\"black\" cx=\"196.341\" cy=\"-88.661\" rx=\"23.3939\" ry=\"23.3939\"/>\n",
       "<text text-anchor=\"middle\" x=\"196.341\" y=\"-84.461\" font-family=\"Times,serif\" font-size=\"14.00\">S3</text>\n",
       "</g>\n",
       "<!-- S1&#45;&gt;S3 -->\n",
       "<g id=\"edge2\" class=\"edge\"><title>S1&#45;&gt;S3</title>\n",
       "<path fill=\"none\" stroke=\"black\" d=\"M129.239,-65.8111C139.459,-69.3442 152.583,-73.8806 164.439,-77.9789\"/>\n",
       "<polygon fill=\"black\" stroke=\"black\" points=\"163.413,-81.3276 174.008,-81.2868 165.7,-74.7117 163.413,-81.3276\"/>\n",
       "<text text-anchor=\"middle\" x=\"151.394\" y=\"-77.461\" font-family=\"Times,serif\" font-size=\"14.00\">b</text>\n",
       "</g>\n",
       "<!-- S2 -->\n",
       "<g id=\"node6\" class=\"node\"><title>S2</title>\n",
       "<ellipse fill=\"none\" stroke=\"black\" cx=\"196.341\" cy=\"-23.661\" rx=\"19.4029\" ry=\"19.4029\"/>\n",
       "<ellipse fill=\"none\" stroke=\"black\" cx=\"196.341\" cy=\"-23.661\" rx=\"23.3939\" ry=\"23.3939\"/>\n",
       "<text text-anchor=\"middle\" x=\"196.341\" y=\"-19.461\" font-family=\"Times,serif\" font-size=\"14.00\">S2</text>\n",
       "</g>\n",
       "<!-- S1&#45;&gt;S2 -->\n",
       "<g id=\"edge3\" class=\"edge\"><title>S1&#45;&gt;S2</title>\n",
       "<path fill=\"none\" stroke=\"black\" d=\"M128.83,-52.2018C139.282,-47.7166 152.876,-41.8832 165.048,-36.66\"/>\n",
       "<polygon fill=\"black\" stroke=\"black\" points=\"166.608,-39.7992 174.417,-32.6394 163.848,-33.3665 166.608,-39.7992\"/>\n",
       "<text text-anchor=\"middle\" x=\"151.394\" y=\"-47.461\" font-family=\"Times,serif\" font-size=\"14.00\">a</text>\n",
       "</g>\n",
       "<!-- S5 -->\n",
       "<g id=\"node4\" class=\"node\"><title>S5</title>\n",
       "<ellipse fill=\"none\" stroke=\"black\" cx=\"282.234\" cy=\"-27.661\" rx=\"19.3939\" ry=\"19.3939\"/>\n",
       "<text text-anchor=\"middle\" x=\"282.234\" y=\"-23.461\" font-family=\"Times,serif\" font-size=\"14.00\">S5</text>\n",
       "</g>\n",
       "<!-- S5&#45;&gt;S6 -->\n",
       "<g id=\"edge8\" class=\"edge\"><title>S5&#45;&gt;S6</title>\n",
       "<path fill=\"none\" stroke=\"black\" d=\"M301.741,-31.1548C310.475,-33.0168 320.977,-35.5655 330.181,-38.661 333.742,-39.8585 337.417,-41.2548 341.033,-42.7304\"/>\n",
       "<polygon fill=\"black\" stroke=\"black\" points=\"339.781,-46.0015 350.35,-46.7394 342.548,-39.5716 339.781,-46.0015\"/>\n",
       "<text text-anchor=\"middle\" x=\"324.931\" y=\"-55.461\" font-family=\"Times,serif\" font-size=\"14.00\">b </text>\n",
       "<text text-anchor=\"middle\" x=\"324.931\" y=\"-41.461\" font-family=\"Times,serif\" font-size=\"14.00\"> a</text>\n",
       "</g>\n",
       "<!-- S3&#45;&gt;S4 -->\n",
       "<g id=\"edge6\" class=\"edge\"><title>S3&#45;&gt;S4</title>\n",
       "<path fill=\"none\" stroke=\"black\" d=\"M220.046,-89.962C227.891,-90.1933 236.732,-90.211 244.787,-89.661 247.352,-89.4859 250.011,-89.2422 252.672,-88.9559\"/>\n",
       "<polygon fill=\"black\" stroke=\"black\" points=\"253.255,-92.4103 262.743,-87.6951 252.386,-85.4645 253.255,-92.4103\"/>\n",
       "<text text-anchor=\"middle\" x=\"241.287\" y=\"-92.461\" font-family=\"Times,serif\" font-size=\"14.00\">b</text>\n",
       "</g>\n",
       "<!-- S3&#45;&gt;S5 -->\n",
       "<g id=\"edge4\" class=\"edge\"><title>S3&#45;&gt;S5</title>\n",
       "<path fill=\"none\" stroke=\"black\" d=\"M215.959,-75.1231C228.314,-66.1397 244.628,-54.2778 257.856,-44.6599\"/>\n",
       "<polygon fill=\"black\" stroke=\"black\" points=\"260,-47.4282 266.03,-38.7165 255.883,-41.7666 260,-47.4282\"/>\n",
       "<text text-anchor=\"middle\" x=\"241.287\" y=\"-61.461\" font-family=\"Times,serif\" font-size=\"14.00\">a</text>\n",
       "</g>\n",
       "<!-- S2&#45;&gt;S4 -->\n",
       "<g id=\"edge5\" class=\"edge\"><title>S2&#45;&gt;S4</title>\n",
       "<path fill=\"none\" stroke=\"black\" d=\"M219.875,-26.7068C228.218,-28.6085 237.428,-31.6867 244.787,-36.661 249.799,-40.0486 257.719,-50.1679 264.897,-60.247\"/>\n",
       "<polygon fill=\"black\" stroke=\"black\" points=\"262.091,-62.342 270.672,-68.5554 267.838,-58.3466 262.091,-62.342\"/>\n",
       "<text text-anchor=\"middle\" x=\"241.287\" y=\"-39.461\" font-family=\"Times,serif\" font-size=\"14.00\">a</text>\n",
       "</g>\n",
       "<!-- S2&#45;&gt;S5 -->\n",
       "<g id=\"edge7\" class=\"edge\"><title>S2&#45;&gt;S5</title>\n",
       "<path fill=\"none\" stroke=\"black\" d=\"M214.499,-8.81844C223.337,-2.96539 234.411,1.66098 244.787,-1.66098 249.84,-3.27835 254.789,-5.88132 259.33,-8.8294\"/>\n",
       "<polygon fill=\"black\" stroke=\"black\" points=\"257.335,-11.7062 267.482,-14.7555 261.451,-6.04428 257.335,-11.7062\"/>\n",
       "<text text-anchor=\"middle\" x=\"241.287\" y=\"-4.46098\" font-family=\"Times,serif\" font-size=\"14.00\">b</text>\n",
       "</g>\n",
       "<!-- S6&#45;&gt;S6 -->\n",
       "<g id=\"edge10\" class=\"edge\"><title>S6&#45;&gt;S6</title>\n",
       "<path fill=\"none\" stroke=\"black\" d=\"M363.174,-78.8344C362.251,-89.1206 365.069,-98.1078 371.628,-98.1078 375.83,-98.1078 378.496,-94.4195 379.628,-89.0641\"/>\n",
       "<polygon fill=\"black\" stroke=\"black\" points=\"383.135,-88.9801 380.083,-78.8344 376.142,-88.669 383.135,-88.9801\"/>\n",
       "<text text-anchor=\"middle\" x=\"371.628\" y=\"-114.908\" font-family=\"Times,serif\" font-size=\"14.00\">b </text>\n",
       "<text text-anchor=\"middle\" x=\"371.628\" y=\"-100.908\" font-family=\"Times,serif\" font-size=\"14.00\"> a</text>\n",
       "</g>\n",
       "</g>\n",
       "</svg>\n"
      ],
      "text/plain": [
       "<graphviz.dot.Digraph at 0x10a653c88>"
      ]
     },
     "execution_count": 61,
     "metadata": {},
     "output_type": "execute_result"
    }
   ],
   "source": [
    "dotObj_dfa(Bloat1, FuseEdges=True, dfaName=\"Bloat1\")"
   ]
  },
  {
   "cell_type": "code",
   "execution_count": 62,
   "metadata": {
    "run_control": {
     "frozen": false,
     "read_only": false
    }
   },
   "outputs": [
    {
     "name": "stderr",
     "output_type": "stream",
     "text": [
      "Generating LALR tables\n"
     ]
    },
    {
     "data": {
      "image/svg+xml": [
       "<?xml version=\"1.0\" encoding=\"UTF-8\" standalone=\"no\"?>\n",
       "<!DOCTYPE svg PUBLIC \"-//W3C//DTD SVG 1.1//EN\"\n",
       " \"http://www.w3.org/Graphics/SVG/1.1/DTD/svg11.dtd\">\n",
       "<!-- Generated by graphviz version 2.38.0 (20140413.2041)\n",
       " -->\n",
       "<!-- Title: %3 Pages: 1 -->\n",
       "<svg width=\"425pt\" height=\"171pt\"\n",
       " viewBox=\"0.00 0.00 425.14 170.73\" xmlns=\"http://www.w3.org/2000/svg\" xmlns:xlink=\"http://www.w3.org/1999/xlink\">\n",
       "<g id=\"graph0\" class=\"graph\" transform=\"scale(1 1) rotate(0) translate(4 166.73)\">\n",
       "<title>%3</title>\n",
       "<polygon fill=\"white\" stroke=\"none\" points=\"-4,4 -4,-166.73 421.138,-166.73 421.138,4 -4,4\"/>\n",
       "<!-- EMPTY -->\n",
       "<g id=\"node1\" class=\"node\"><title>EMPTY</title>\n",
       "</g>\n",
       "<!-- IS1 -->\n",
       "<g id=\"node2\" class=\"node\"><title>IS1</title>\n",
       "<ellipse fill=\"none\" stroke=\"black\" cx=\"113.392\" cy=\"-70.3652\" rx=\"22.2841\" ry=\"22.2841\"/>\n",
       "<text text-anchor=\"middle\" x=\"113.392\" y=\"-66.1652\" font-family=\"Times,serif\" font-size=\"14.00\">IS1</text>\n",
       "</g>\n",
       "<!-- EMPTY&#45;&gt;IS1 -->\n",
       "<g id=\"edge1\" class=\"edge\"><title>EMPTY&#45;&gt;IS1</title>\n",
       "<path fill=\"none\" stroke=\"black\" d=\"M54.2395,-70.3652C62.6329,-70.3652 72.0141,-70.3652 80.7503,-70.3652\"/>\n",
       "<polygon fill=\"black\" stroke=\"black\" points=\"80.9769,-73.8653 90.9769,-70.3652 80.9768,-66.8653 80.9769,-73.8653\"/>\n",
       "</g>\n",
       "<!-- FS2 -->\n",
       "<g id=\"node5\" class=\"node\"><title>FS2</title>\n",
       "<ellipse fill=\"none\" stroke=\"black\" cx=\"207.149\" cy=\"-103.365\" rx=\"24.2499\" ry=\"24.2499\"/>\n",
       "<ellipse fill=\"none\" stroke=\"black\" cx=\"207.149\" cy=\"-103.365\" rx=\"28.231\" ry=\"28.231\"/>\n",
       "<text text-anchor=\"middle\" x=\"207.149\" y=\"-99.1652\" font-family=\"Times,serif\" font-size=\"14.00\">FS2</text>\n",
       "</g>\n",
       "<!-- IS1&#45;&gt;FS2 -->\n",
       "<g id=\"edge2\" class=\"edge\"><title>IS1&#45;&gt;FS2</title>\n",
       "<path fill=\"none\" stroke=\"black\" d=\"M134.756,-77.689C145.337,-81.4946 158.575,-86.2553 170.767,-90.6401\"/>\n",
       "<polygon fill=\"black\" stroke=\"black\" points=\"169.655,-93.9598 180.25,-94.0507 172.024,-87.3729 169.655,-93.9598\"/>\n",
       "<text text-anchor=\"middle\" x=\"157.284\" y=\"-90.1652\" font-family=\"Times,serif\" font-size=\"14.00\">a</text>\n",
       "</g>\n",
       "<!-- FS3 -->\n",
       "<g id=\"node6\" class=\"node\"><title>FS3</title>\n",
       "<ellipse fill=\"none\" stroke=\"black\" cx=\"207.149\" cy=\"-28.3652\" rx=\"24.2499\" ry=\"24.2499\"/>\n",
       "<ellipse fill=\"none\" stroke=\"black\" cx=\"207.149\" cy=\"-28.3652\" rx=\"28.231\" ry=\"28.231\"/>\n",
       "<text text-anchor=\"middle\" x=\"207.149\" y=\"-24.1652\" font-family=\"Times,serif\" font-size=\"14.00\">FS3</text>\n",
       "</g>\n",
       "<!-- IS1&#45;&gt;FS3 -->\n",
       "<g id=\"edge3\" class=\"edge\"><title>IS1&#45;&gt;FS3</title>\n",
       "<path fill=\"none\" stroke=\"black\" d=\"M134.302,-61.2518C145.222,-56.2532 159.069,-49.9148 171.687,-44.1395\"/>\n",
       "<polygon fill=\"black\" stroke=\"black\" points=\"173.391,-47.209 181.027,-39.8644 170.477,-40.844 173.391,-47.209\"/>\n",
       "<text text-anchor=\"middle\" x=\"157.284\" y=\"-55.1652\" font-family=\"Times,serif\" font-size=\"14.00\">b</text>\n",
       "</g>\n",
       "<!-- S4 -->\n",
       "<g id=\"node3\" class=\"node\"><title>S4</title>\n",
       "<ellipse fill=\"none\" stroke=\"black\" cx=\"297.961\" cy=\"-98.3652\" rx=\"19.3939\" ry=\"19.3939\"/>\n",
       "<text text-anchor=\"middle\" x=\"297.961\" y=\"-94.1652\" font-family=\"Times,serif\" font-size=\"14.00\">S4</text>\n",
       "</g>\n",
       "<!-- FS6 -->\n",
       "<g id=\"node7\" class=\"node\"><title>FS6</title>\n",
       "<ellipse fill=\"none\" stroke=\"black\" cx=\"388.773\" cy=\"-70.3652\" rx=\"24.2499\" ry=\"24.2499\"/>\n",
       "<ellipse fill=\"none\" stroke=\"black\" cx=\"388.773\" cy=\"-70.3652\" rx=\"28.231\" ry=\"28.231\"/>\n",
       "<text text-anchor=\"middle\" x=\"388.773\" y=\"-66.1652\" font-family=\"Times,serif\" font-size=\"14.00\">FS6</text>\n",
       "</g>\n",
       "<!-- S4&#45;&gt;FS6 -->\n",
       "<g id=\"edge8\" class=\"edge\"><title>S4&#45;&gt;FS6</title>\n",
       "<path fill=\"none\" stroke=\"black\" d=\"M316.632,-104.388C324.656,-106.219 334.172,-107.109 342.408,-104.365 348.27,-102.412 353.986,-99.3722 359.273,-95.8959\"/>\n",
       "<polygon fill=\"black\" stroke=\"black\" points=\"361.694,-98.463 367.719,-89.7484 357.575,-92.8034 361.694,-98.463\"/>\n",
       "<text text-anchor=\"middle\" x=\"338.908\" y=\"-108.165\" font-family=\"Times,serif\" font-size=\"14.00\">a</text>\n",
       "</g>\n",
       "<!-- S4&#45;&gt;FS6 -->\n",
       "<g id=\"edge9\" class=\"edge\"><title>S4&#45;&gt;FS6</title>\n",
       "<path fill=\"none\" stroke=\"black\" d=\"M316.732,-92.429C322.663,-90.4708 329.312,-88.2997 335.408,-86.3652 340.674,-84.6938 346.249,-82.9566 351.72,-81.2695\"/>\n",
       "<polygon fill=\"black\" stroke=\"black\" points=\"352.832,-84.5894 361.368,-78.3122 350.781,-77.8967 352.832,-84.5894\"/>\n",
       "<text text-anchor=\"middle\" x=\"338.908\" y=\"-89.1652\" font-family=\"Times,serif\" font-size=\"14.00\">b</text>\n",
       "</g>\n",
       "<!-- S5 -->\n",
       "<g id=\"node4\" class=\"node\"><title>S5</title>\n",
       "<ellipse fill=\"none\" stroke=\"black\" cx=\"297.961\" cy=\"-28.3652\" rx=\"19.3939\" ry=\"19.3939\"/>\n",
       "<text text-anchor=\"middle\" x=\"297.961\" y=\"-24.1652\" font-family=\"Times,serif\" font-size=\"14.00\">S5</text>\n",
       "</g>\n",
       "<!-- S5&#45;&gt;FS6 -->\n",
       "<g id=\"edge10\" class=\"edge\"><title>S5&#45;&gt;FS6</title>\n",
       "<path fill=\"none\" stroke=\"black\" d=\"M316.085,-36.4632C326.712,-41.4888 340.742,-48.1239 353.571,-54.1909\"/>\n",
       "<polygon fill=\"black\" stroke=\"black\" points=\"352.098,-57.3659 362.635,-58.4771 355.091,-51.0378 352.098,-57.3659\"/>\n",
       "<text text-anchor=\"middle\" x=\"338.908\" y=\"-51.1652\" font-family=\"Times,serif\" font-size=\"14.00\">a</text>\n",
       "</g>\n",
       "<!-- S5&#45;&gt;FS6 -->\n",
       "<g id=\"edge11\" class=\"edge\"><title>S5&#45;&gt;FS6</title>\n",
       "<path fill=\"none\" stroke=\"black\" d=\"M317.27,-25.4396C325.243,-24.8978 334.542,-25.2831 342.408,-28.3652 349.856,-31.2836 356.812,-36.0627 362.932,-41.3716\"/>\n",
       "<polygon fill=\"black\" stroke=\"black\" points=\"360.548,-43.934 370.21,-48.2795 365.367,-38.8567 360.548,-43.934\"/>\n",
       "<text text-anchor=\"middle\" x=\"338.908\" y=\"-31.1652\" font-family=\"Times,serif\" font-size=\"14.00\">b</text>\n",
       "</g>\n",
       "<!-- FS2&#45;&gt;S4 -->\n",
       "<g id=\"edge4\" class=\"edge\"><title>FS2&#45;&gt;S4</title>\n",
       "<path fill=\"none\" stroke=\"black\" d=\"M235.763,-101.811C246.042,-101.232 257.729,-100.574 268.116,-99.9891\"/>\n",
       "<polygon fill=\"black\" stroke=\"black\" points=\"268.569,-103.469 278.356,-99.4126 268.176,-96.4803 268.569,-103.469\"/>\n",
       "<text text-anchor=\"middle\" x=\"257.014\" y=\"-104.165\" font-family=\"Times,serif\" font-size=\"14.00\">a</text>\n",
       "</g>\n",
       "<!-- FS2&#45;&gt;S5 -->\n",
       "<g id=\"edge5\" class=\"edge\"><title>FS2&#45;&gt;S5</title>\n",
       "<path fill=\"none\" stroke=\"black\" d=\"M230.399,-86.6239C239.836,-79.3504 250.861,-70.6197 260.514,-62.3652 265.607,-58.0101 270.953,-53.1788 275.934,-48.5578\"/>\n",
       "<polygon fill=\"black\" stroke=\"black\" points=\"278.482,-50.967 283.371,-41.568 273.688,-45.8662 278.482,-50.967\"/>\n",
       "<text text-anchor=\"middle\" x=\"257.014\" y=\"-71.1652\" font-family=\"Times,serif\" font-size=\"14.00\">b</text>\n",
       "</g>\n",
       "<!-- FS3&#45;&gt;S4 -->\n",
       "<g id=\"edge7\" class=\"edge\"><title>FS3&#45;&gt;S4</title>\n",
       "<path fill=\"none\" stroke=\"black\" d=\"M234.71,-35.1959C243.489,-38.2829 252.938,-42.5717 260.514,-48.3652 269.217,-55.0211 276.771,-64.3108 282.71,-73.0787\"/>\n",
       "<polygon fill=\"black\" stroke=\"black\" points=\"279.778,-74.9903 288.093,-81.5558 285.687,-71.2378 279.778,-74.9903\"/>\n",
       "<text text-anchor=\"middle\" x=\"257.014\" y=\"-51.1652\" font-family=\"Times,serif\" font-size=\"14.00\">b</text>\n",
       "</g>\n",
       "<!-- FS3&#45;&gt;S5 -->\n",
       "<g id=\"edge6\" class=\"edge\"><title>FS3&#45;&gt;S5</title>\n",
       "<path fill=\"none\" stroke=\"black\" d=\"M232.128,-14.9171C240.95,-11.4805 251.089,-9.27523 260.514,-11.3652 264.208,-12.1842 267.971,-13.4182 271.608,-14.8548\"/>\n",
       "<polygon fill=\"black\" stroke=\"black\" points=\"270.253,-18.083 280.81,-18.9848 273.12,-11.6968 270.253,-18.083\"/>\n",
       "<text text-anchor=\"middle\" x=\"257.014\" y=\"-14.1652\" font-family=\"Times,serif\" font-size=\"14.00\">a</text>\n",
       "</g>\n",
       "<!-- FS6&#45;&gt;FS6 -->\n",
       "<g id=\"edge12\" class=\"edge\"><title>FS6&#45;&gt;FS6</title>\n",
       "<path fill=\"none\" stroke=\"black\" d=\"M384.277,-98.4324C384.181,-108.512 385.679,-116.73 388.773,-116.73 390.706,-116.73 392.017,-113.52 392.704,-108.652\"/>\n",
       "<polygon fill=\"black\" stroke=\"black\" points=\"396.212,-108.61 393.269,-98.4324 389.222,-108.224 396.212,-108.61\"/>\n",
       "<text text-anchor=\"middle\" x=\"388.773\" y=\"-119.53\" font-family=\"Times,serif\" font-size=\"14.00\">a</text>\n",
       "</g>\n",
       "<!-- FS6&#45;&gt;FS6 -->\n",
       "<g id=\"edge13\" class=\"edge\"><title>FS6&#45;&gt;FS6</title>\n",
       "<path fill=\"none\" stroke=\"black\" d=\"M380.608,-97.817C378.223,-116.47 380.945,-134.73 388.773,-134.73 395.133,-134.73 398.122,-122.676 397.74,-108.15\"/>\n",
       "<polygon fill=\"black\" stroke=\"black\" points=\"401.202,-107.516 396.937,-97.817 394.223,-108.058 401.202,-107.516\"/>\n",
       "<text text-anchor=\"middle\" x=\"388.773\" y=\"-137.53\" font-family=\"Times,serif\" font-size=\"14.00\">b</text>\n",
       "</g>\n",
       "</g>\n",
       "</svg>\n"
      ],
      "text/plain": [
       "<graphviz.dot.Digraph at 0x10a653828>"
      ]
     },
     "execution_count": 62,
     "metadata": {},
     "output_type": "execute_result"
    }
   ],
   "source": [
    "bloated_dfa = md2mc('''\n",
    "DFA\n",
    "IS1 : a -> FS2\n",
    "IS1 : b -> FS3\n",
    "FS2 : a -> S4\n",
    "FS2 : b -> S5\n",
    "FS3 : a -> S5\n",
    "FS3 : b -> S4\n",
    "S4  : a | b -> FS6\n",
    "S5  : a | b -> FS6\n",
    "FS6 : a | b -> FS6\n",
    "''')\n",
    "dotObj_dfa(bloated_dfa)"
   ]
  },
  {
   "cell_type": "code",
   "execution_count": 63,
   "metadata": {
    "run_control": {
     "frozen": false,
     "read_only": false
    }
   },
   "outputs": [
    {
     "data": {
      "text/plain": [
       "'// do_St22\\ndigraph {\\n\\tgraph [rankdir=LR]\\n\\t\\tEMPTY [label=\"\" shape=plaintext]\\n\\t\\tIS1 [label=IS1 peripheries=1 shape=circle]\\n\\t\\tS4 [label=S4 peripheries=1 shape=circle]\\n\\t\\tS5 [label=S5 peripheries=1 shape=circle]\\n\\t\\tFS2 [label=FS2 peripheries=2 shape=circle]\\n\\t\\tFS3 [label=FS3 peripheries=2 shape=circle]\\n\\t\\tFS6 [label=FS6 peripheries=2 shape=circle]\\n\\t\\t\\tEMPTY -> IS1\\n\\t\\t\\tIS1 -> FS2 [label=a]\\n\\t\\t\\tIS1 -> FS3 [label=b]\\n\\t\\t\\tFS2 -> S4 [label=a]\\n\\t\\t\\tFS2 -> S5 [label=b]\\n\\t\\t\\tFS3 -> S5 [label=a]\\n\\t\\t\\tFS3 -> S4 [label=b]\\n\\t\\t\\tS4 -> FS6 [label=a]\\n\\t\\t\\tS4 -> FS6 [label=b]\\n\\t\\t\\tS5 -> FS6 [label=a]\\n\\t\\t\\tS5 -> FS6 [label=b]\\n\\t\\t\\tFS6 -> FS6 [label=a]\\n\\t\\t\\tFS6 -> FS6 [label=b]\\n}'"
      ]
     },
     "execution_count": 63,
     "metadata": {},
     "output_type": "execute_result"
    }
   ],
   "source": [
    "dotObj_dfa(bloated_dfa).source"
   ]
  },
  {
   "cell_type": "code",
   "execution_count": null,
   "metadata": {
    "run_control": {
     "frozen": false,
     "read_only": false
    }
   },
   "outputs": [],
   "source": []
  },
  {
   "cell_type": "markdown",
   "metadata": {
    "run_control": {
     "frozen": false,
     "read_only": false
    }
   },
   "source": [
    "\n",
    "Now, here is how the computation proceeds for this example:\n",
    "-------------------------------------------------------- \n",
    " \n",
    " <br>\n",
    " \n",
    "<font size=\"3\"> \n",
    "\n",
    "\n",
    "```\n",
    " \n",
    "Frame-0                  Frame-1                   Frame-2                    \n",
    "                                                                                                     \n",
    "S2  -1                   S2   0                    S2   0                     \n",
    "\n",
    "S3  -1  -1               S3   0  -1                S3   0  -1                 \n",
    "\n",
    "S4  -1  -1  -1           S4  -1   0   0            S4   2   0   0             \n",
    "\n",
    "S5  -1  -1  -1  -1       S5  -1   0   0  -1        S5   2   0   0  -1         \n",
    "\n",
    "S6  -1  -1  -1  -1  -1   S6   0  -1  -1   0   0    S6   0   1   1   0   0     \n",
    "\n",
    "    S1  S2  S3  S4  S5       S1  S2  S3  S4  S5        S1  S2  S3  S4  S5        \n",
    "\n",
    "Initial                  0-distinguishable         1-distinguishable                         \n",
    "     \n",
    "     \n",
    "Frame-3                 Frame-4     \n",
    "                        =\n",
    "                        Frame-3\n",
    "\n",
    "S2   0\n",
    "\n",
    "S3   0  -1\n",
    "\n",
    "S4   2   0   0\n",
    "\n",
    "S5   2   0   0  -1\n",
    "\n",
    "S6   0   1   1   0   0\n",
    "\n",
    "    S1  S2  S3  S4  S5\n",
    "    \n",
    "2-distinguishable \n",
    "     \n",
    "```\n",
    "</font>"
   ]
  },
  {
   "cell_type": "markdown",
   "metadata": {
    "run_control": {
     "frozen": false,
     "read_only": false
    }
   },
   "source": [
    "Here is the algorithm, going frame by frame.\n",
    "\n",
    "- Initial Frame: \n",
    "\n",
    "     The initial frame is drawn to clash all _combinations_ of states taken two at a time.\n",
    "     Since we have 6 states, we have $6\\choose 2$ = $15$ entries. We put a -1 against each\n",
    "     such pair to denote that they have not been found distinguishable yet.\n",
    "\n",
    "- Frame *0-distinguishable*: We now put a 0 where a pair of states is 0-distinguishable. This means the states are distinguisable after consuming $\\varepsilon$. This of course means that the states are themselves distinguishable. This is only possible if one is a final state and the other is not (in that case, one state, after consuming $\\varepsilon$ accepts_dfa, and another state after consuming $\\varepsilon$ does not accept.\n",
    "\n",
    "  - So for instance, notice that (S3,S1) and (S4,S2) are 0-distinguishable, meaning that one is a final and the other is a non-final state.\n",
    "\n",
    "- Frame *1-distinguishable*: We now put a 1 where a pair of states is 1-distinguishable. This means the states are distinguisable after consuming a string of length $1$ (a single symbol). This is only possible if one state transitions to a final state and the other transitions to a non-final state after consuming a member of $\\Sigma$. \n",
    "\n",
    "  State pairs (S6,S2) and (S6,S3) are of this kind. While both S6 and S2 are final states (hence _0-indistinguishable_), after consuming an 'a' (or a 'b') they respectively go to a final/non-final state.\n",
    " This means that\n",
    "\n",
    "  - after processing **the same symbol** one state -- let's say pre_p -- finds itself landing in a state p and another state  -- let's say pre_q -- finds itself landing in a state q such that (p,q) is 0-distinguishable.\n",
    "  \n",
    "  - When this happens, states pre-p and pre-q are **1-distinguishable**.\n",
    "\n",
    "- Frame *2-distinguishable*: We now put a 2 where a pair of states is 2-distinguishable. This means the states are distinguisable after consuming a string of length $2$ (a string of length $2$). This is only possible if one state transitions to a state (say p) and the other transitions to state (say q) after consuming a member of $\\Sigma$ such that (p,q) is **1-distinguishable**. State pairs (S5,S1) and (S4,S1) are 2-distinguishable because\n",
    "\n",
    "  - after processing **the same symbol** one state -- let's say pre_p -- finds itself landing in a state p and another state  -- let's say pre_q -- finds itself landing in a state q such that (p,q) is 0-distinguishable.\n",
    "  \n",
    "  - When this happens, states pre-p and pre-q are **1-distinguishable**.\n",
    "  \n",
    "  - One example is this:\n",
    "  \n",
    "    - S5 and S1 are 2-distinguishable.\n",
    "    \n",
    "    - This is because after seeing an 'aa', S1 lands in a non-final state while S5 lands in a final state\n",
    "    \n",
    "    - Observe that \"aa\" = \"a\" + \"a\" . Thus, after eating the first \"a\", S1 lands in S2 while S5 lands in S6, and (S2,S6) have already been deemed 1-distinguishable.\n",
    "    \n",
    "    - Thus, when we mark (S5,S1) as 2-distinguishable, we are sending the matrix entry at (S5,S2) from \n",
    "      -1 to 2\n",
    " \n",
    "\n",
    "\n",
    "  - Now, in search of 3-distinguishability, we catch hold of all pairs in the matrix and see if we can send another -1 entry to \"3\". This appears not to happen. \n",
    "  \n",
    "     - Thus, if (S2,S3) is pushed via any sequence of symbols (any string) of any length, it\n",
    "       always stays in the same type of state. Thus, after seeing 'ababba', S2 is in S6, while S3 \n",
    "        is also in S6.\n",
    "\n",
    "\n",
    " - Thus, given no changes in the matrix, we stop."
   ]
  },
  {
   "cell_type": "code",
   "execution_count": 64,
   "metadata": {
    "run_control": {
     "frozen": false,
     "read_only": false
    }
   },
   "outputs": [
    {
     "data": {
      "image/svg+xml": [
       "<?xml version=\"1.0\" encoding=\"UTF-8\" standalone=\"no\"?>\n",
       "<!DOCTYPE svg PUBLIC \"-//W3C//DTD SVG 1.1//EN\"\n",
       " \"http://www.w3.org/Graphics/SVG/1.1/DTD/svg11.dtd\">\n",
       "<!-- Generated by graphviz version 2.38.0 (20140413.2041)\n",
       " -->\n",
       "<!-- Title: %3 Pages: 1 -->\n",
       "<svg width=\"410pt\" height=\"101pt\"\n",
       " viewBox=\"0.00 0.00 410.07 100.89\" xmlns=\"http://www.w3.org/2000/svg\" xmlns:xlink=\"http://www.w3.org/1999/xlink\">\n",
       "<g id=\"graph0\" class=\"graph\" transform=\"scale(1 1) rotate(0) translate(4 96.8937)\">\n",
       "<title>%3</title>\n",
       "<polygon fill=\"white\" stroke=\"none\" points=\"-4,4 -4,-96.8937 406.075,-96.8937 406.075,4 -4,4\"/>\n",
       "<!-- EMPTY -->\n",
       "<g id=\"node1\" class=\"node\"><title>EMPTY</title>\n",
       "</g>\n",
       "<!-- S1 -->\n",
       "<g id=\"node3\" class=\"node\"><title>S1</title>\n",
       "<ellipse fill=\"none\" stroke=\"black\" cx=\"110.447\" cy=\"-23.4469\" rx=\"19.3939\" ry=\"19.3939\"/>\n",
       "<text text-anchor=\"middle\" x=\"110.447\" y=\"-19.2469\" font-family=\"Times,serif\" font-size=\"14.00\">S1</text>\n",
       "</g>\n",
       "<!-- EMPTY&#45;&gt;S1 -->\n",
       "<g id=\"edge1\" class=\"edge\"><title>EMPTY&#45;&gt;S1</title>\n",
       "<path fill=\"none\" stroke=\"black\" d=\"M54.2186,-23.4469C62.6822,-23.4469 72.1072,-23.4469 80.7407,-23.4469\"/>\n",
       "<polygon fill=\"black\" stroke=\"black\" points=\"80.7613,-26.947 90.7613,-23.4469 80.7613,-19.947 80.7613,-26.947\"/>\n",
       "</g>\n",
       "<!-- S4 -->\n",
       "<g id=\"node2\" class=\"node\"><title>S4</title>\n",
       "<ellipse fill=\"none\" stroke=\"black\" cx=\"289.234\" cy=\"-23.4469\" rx=\"19.3939\" ry=\"19.3939\"/>\n",
       "<text text-anchor=\"middle\" x=\"289.234\" y=\"-19.2469\" font-family=\"Times,serif\" font-size=\"14.00\">S4</text>\n",
       "</g>\n",
       "<!-- S6 -->\n",
       "<g id=\"node5\" class=\"node\"><title>S6</title>\n",
       "<ellipse fill=\"none\" stroke=\"black\" cx=\"378.628\" cy=\"-23.4469\" rx=\"19.4029\" ry=\"19.4029\"/>\n",
       "<ellipse fill=\"none\" stroke=\"black\" cx=\"378.628\" cy=\"-23.4469\" rx=\"23.3939\" ry=\"23.3939\"/>\n",
       "<text text-anchor=\"middle\" x=\"378.628\" y=\"-19.2469\" font-family=\"Times,serif\" font-size=\"14.00\">S6</text>\n",
       "</g>\n",
       "<!-- S4&#45;&gt;S6 -->\n",
       "<g id=\"edge4\" class=\"edge\"><title>S4&#45;&gt;S6</title>\n",
       "<path fill=\"none\" stroke=\"black\" d=\"M308.768,-23.4469C319.232,-23.4469 332.615,-23.4469 344.795,-23.4469\"/>\n",
       "<polygon fill=\"black\" stroke=\"black\" points=\"345.087,-26.947 355.087,-23.4469 345.086,-19.947 345.087,-26.947\"/>\n",
       "<text text-anchor=\"middle\" x=\"331.931\" y=\"-40.2469\" font-family=\"Times,serif\" font-size=\"14.00\">b </text>\n",
       "<text text-anchor=\"middle\" x=\"331.931\" y=\"-26.2469\" font-family=\"Times,serif\" font-size=\"14.00\"> a</text>\n",
       "</g>\n",
       "<!-- S3 -->\n",
       "<g id=\"node4\" class=\"node\"><title>S3</title>\n",
       "<ellipse fill=\"none\" stroke=\"black\" cx=\"199.841\" cy=\"-23.4469\" rx=\"19.4029\" ry=\"19.4029\"/>\n",
       "<ellipse fill=\"none\" stroke=\"black\" cx=\"199.841\" cy=\"-23.4469\" rx=\"23.3939\" ry=\"23.3939\"/>\n",
       "<text text-anchor=\"middle\" x=\"199.841\" y=\"-19.2469\" font-family=\"Times,serif\" font-size=\"14.00\">S3</text>\n",
       "</g>\n",
       "<!-- S1&#45;&gt;S3 -->\n",
       "<g id=\"edge2\" class=\"edge\"><title>S1&#45;&gt;S3</title>\n",
       "<path fill=\"none\" stroke=\"black\" d=\"M129.981,-23.4469C140.444,-23.4469 153.827,-23.4469 166.008,-23.4469\"/>\n",
       "<polygon fill=\"black\" stroke=\"black\" points=\"166.299,-26.947 176.299,-23.4469 166.299,-19.947 166.299,-26.947\"/>\n",
       "<text text-anchor=\"middle\" x=\"153.144\" y=\"-40.2469\" font-family=\"Times,serif\" font-size=\"14.00\">b </text>\n",
       "<text text-anchor=\"middle\" x=\"153.144\" y=\"-26.2469\" font-family=\"Times,serif\" font-size=\"14.00\"> a</text>\n",
       "</g>\n",
       "<!-- S3&#45;&gt;S4 -->\n",
       "<g id=\"edge3\" class=\"edge\"><title>S3&#45;&gt;S4</title>\n",
       "<path fill=\"none\" stroke=\"black\" d=\"M223.347,-23.4469C234.343,-23.4469 247.703,-23.4469 259.435,-23.4469\"/>\n",
       "<polygon fill=\"black\" stroke=\"black\" points=\"259.637,-26.947 269.637,-23.4469 259.637,-19.947 259.637,-26.947\"/>\n",
       "<text text-anchor=\"middle\" x=\"246.537\" y=\"-40.2469\" font-family=\"Times,serif\" font-size=\"14.00\">b </text>\n",
       "<text text-anchor=\"middle\" x=\"246.537\" y=\"-26.2469\" font-family=\"Times,serif\" font-size=\"14.00\"> a</text>\n",
       "</g>\n",
       "<!-- S6&#45;&gt;S6 -->\n",
       "<g id=\"edge5\" class=\"edge\"><title>S6&#45;&gt;S6</title>\n",
       "<path fill=\"none\" stroke=\"black\" d=\"M370.174,-45.6203C369.251,-55.9065 372.069,-64.8937 378.628,-64.8937 382.83,-64.8937 385.496,-61.2054 386.628,-55.85\"/>\n",
       "<polygon fill=\"black\" stroke=\"black\" points=\"390.135,-55.766 387.083,-45.6203 383.142,-55.4549 390.135,-55.766\"/>\n",
       "<text text-anchor=\"middle\" x=\"378.628\" y=\"-81.6937\" font-family=\"Times,serif\" font-size=\"14.00\">b </text>\n",
       "<text text-anchor=\"middle\" x=\"378.628\" y=\"-67.6937\" font-family=\"Times,serif\" font-size=\"14.00\"> a</text>\n",
       "</g>\n",
       "</g>\n",
       "</svg>\n"
      ],
      "text/plain": [
       "<graphviz.dot.Digraph at 0x10a656f28>"
      ]
     },
     "execution_count": 64,
     "metadata": {},
     "output_type": "execute_result"
    }
   ],
   "source": [
    "dotObj_dfa(min_dfa(Bloat1), FuseEdges=True, dfaName=\"shrunkBloat1\")"
   ]
  },
  {
   "cell_type": "code",
   "execution_count": 65,
   "metadata": {
    "run_control": {
     "frozen": false,
     "read_only": false
    }
   },
   "outputs": [
    {
     "data": {
      "text/plain": [
       "'// do_St23\\ndigraph {\\n\\tgraph [rankdir=LR]\\n\\t\\tEMPTY [label=\"\" shape=plaintext]\\n\\t\\tS4 [label=S4 peripheries=1 shape=circle]\\n\\t\\tS1 [label=S1 peripheries=1 shape=circle]\\n\\t\\tS3 [label=S3 peripheries=2 shape=circle]\\n\\t\\tS6 [label=S6 peripheries=2 shape=circle]\\n\\t\\t\\tEMPTY -> S1\\n\\t\\t\\tS1 -> S3 [label=b]\\n\\t\\t\\tS1 -> S3 [label=a]\\n\\t\\t\\tS3 -> S4 [label=a]\\n\\t\\t\\tS3 -> S4 [label=b]\\n\\t\\t\\tS4 -> S6 [label=b]\\n\\t\\t\\tS4 -> S6 [label=a]\\n\\t\\t\\tS6 -> S6 [label=b]\\n\\t\\t\\tS6 -> S6 [label=a]\\n}'"
      ]
     },
     "execution_count": 65,
     "metadata": {},
     "output_type": "execute_result"
    }
   ],
   "source": [
    "min_bloat = min_dfa(Bloat1)\n",
    "dotObj_dfa(min_bloat).source"
   ]
  },
  {
   "cell_type": "code",
   "execution_count": 66,
   "metadata": {
    "run_control": {
     "frozen": false,
     "read_only": false
    }
   },
   "outputs": [],
   "source": [
    "prd34b1 = pruneUnreach(D34bl)"
   ]
  },
  {
   "cell_type": "code",
   "execution_count": 67,
   "metadata": {
    "run_control": {
     "frozen": false,
     "read_only": false
    }
   },
   "outputs": [
    {
     "data": {
      "image/svg+xml": [
       "<?xml version=\"1.0\" encoding=\"UTF-8\" standalone=\"no\"?>\n",
       "<!DOCTYPE svg PUBLIC \"-//W3C//DTD SVG 1.1//EN\"\n",
       " \"http://www.w3.org/Graphics/SVG/1.1/DTD/svg11.dtd\">\n",
       "<!-- Generated by graphviz version 2.38.0 (20140413.2041)\n",
       " -->\n",
       "<!-- Title: %3 Pages: 1 -->\n",
       "<svg width=\"470pt\" height=\"149pt\"\n",
       " viewBox=\"0.00 0.00 469.68 149.00\" xmlns=\"http://www.w3.org/2000/svg\" xmlns:xlink=\"http://www.w3.org/1999/xlink\">\n",
       "<g id=\"graph0\" class=\"graph\" transform=\"scale(1 1) rotate(0) translate(4 145)\">\n",
       "<title>%3</title>\n",
       "<polygon fill=\"white\" stroke=\"none\" points=\"-4,4 -4,-145 465.684,-145 465.684,4 -4,4\"/>\n",
       "<!-- EMPTY -->\n",
       "<g id=\"node1\" class=\"node\"><title>EMPTY</title>\n",
       "</g>\n",
       "<!-- IF -->\n",
       "<g id=\"node6\" class=\"node\"><title>IF</title>\n",
       "<ellipse fill=\"none\" stroke=\"black\" cx=\"113\" cy=\"-75\" rx=\"18\" ry=\"18\"/>\n",
       "<ellipse fill=\"none\" stroke=\"black\" cx=\"113\" cy=\"-75\" rx=\"22\" ry=\"22\"/>\n",
       "<text text-anchor=\"middle\" x=\"113\" y=\"-70.8\" font-family=\"Times,serif\" font-size=\"14.00\">IF</text>\n",
       "</g>\n",
       "<!-- EMPTY&#45;&gt;IF -->\n",
       "<g id=\"edge1\" class=\"edge\"><title>EMPTY&#45;&gt;IF</title>\n",
       "<path fill=\"none\" stroke=\"black\" d=\"M54.1177,-75C62.5406,-75 71.9629,-75 80.7191,-75\"/>\n",
       "<polygon fill=\"black\" stroke=\"black\" points=\"80.9574,-78.5001 90.9574,-75 80.9573,-71.5001 80.9574,-78.5001\"/>\n",
       "</g>\n",
       "<!-- B -->\n",
       "<g id=\"node2\" class=\"node\"><title>B</title>\n",
       "<ellipse fill=\"none\" stroke=\"black\" cx=\"359.83\" cy=\"-109\" rx=\"18\" ry=\"18\"/>\n",
       "<text text-anchor=\"middle\" x=\"359.83\" y=\"-104.8\" font-family=\"Times,serif\" font-size=\"14.00\">B</text>\n",
       "</g>\n",
       "<!-- B1 -->\n",
       "<g id=\"node5\" class=\"node\"><title>B1</title>\n",
       "<ellipse fill=\"none\" stroke=\"black\" cx=\"441.257\" cy=\"-58\" rx=\"20.3544\" ry=\"20.3544\"/>\n",
       "<text text-anchor=\"middle\" x=\"441.257\" y=\"-53.8\" font-family=\"Times,serif\" font-size=\"14.00\">B1</text>\n",
       "</g>\n",
       "<!-- B&#45;&gt;B1 -->\n",
       "<g id=\"edge8\" class=\"edge\"><title>B&#45;&gt;B1</title>\n",
       "<path fill=\"none\" stroke=\"black\" d=\"M376.934,-102.972C384.989,-99.6477 394.725,-95.151 402.83,-90 408.099,-86.6513 413.408,-82.609 418.305,-78.5413\"/>\n",
       "<polygon fill=\"black\" stroke=\"black\" points=\"420.824,-80.9898 426.078,-71.7896 416.233,-75.7051 420.824,-80.9898\"/>\n",
       "<text text-anchor=\"middle\" x=\"399.33\" y=\"-96.8\" font-family=\"Times,serif\" font-size=\"14.00\">1</text>\n",
       "</g>\n",
       "<!-- B&#45;&gt;IF -->\n",
       "<g id=\"edge6\" class=\"edge\"><title>B&#45;&gt;IF</title>\n",
       "<path fill=\"none\" stroke=\"black\" d=\"M343.368,-116.296C337.356,-118.954 330.356,-121.836 323.83,-124 295.524,-133.387 286.39,-135.054 257,-130 215.26,-122.822 170.122,-103.296 141.96,-89.5591\"/>\n",
       "<polygon fill=\"black\" stroke=\"black\" points=\"143.253,-86.2929 132.741,-84.9714 140.134,-92.5599 143.253,-86.2929\"/>\n",
       "<text text-anchor=\"middle\" x=\"235.5\" y=\"-129.8\" font-family=\"Times,serif\" font-size=\"14.00\">0</text>\n",
       "</g>\n",
       "<!-- A1 -->\n",
       "<g id=\"node3\" class=\"node\"><title>A1</title>\n",
       "<ellipse fill=\"none\" stroke=\"black\" cx=\"277.915\" cy=\"-100\" rx=\"20.8304\" ry=\"20.8304\"/>\n",
       "<text text-anchor=\"middle\" x=\"277.915\" y=\"-95.8\" font-family=\"Times,serif\" font-size=\"14.00\">A1</text>\n",
       "</g>\n",
       "<!-- A1&#45;&gt;B -->\n",
       "<g id=\"edge11\" class=\"edge\"><title>A1&#45;&gt;B</title>\n",
       "<path fill=\"none\" stroke=\"black\" d=\"M299.081,-102.271C308.999,-103.388 321.094,-104.75 331.801,-105.956\"/>\n",
       "<polygon fill=\"black\" stroke=\"black\" points=\"331.584,-109.454 341.913,-107.095 332.367,-102.498 331.584,-109.454\"/>\n",
       "<text text-anchor=\"middle\" x=\"320.33\" y=\"-108.8\" font-family=\"Times,serif\" font-size=\"14.00\">0</text>\n",
       "</g>\n",
       "<!-- A -->\n",
       "<g id=\"node4\" class=\"node\"><title>A</title>\n",
       "<ellipse fill=\"none\" stroke=\"black\" cx=\"196\" cy=\"-75\" rx=\"18\" ry=\"18\"/>\n",
       "<text text-anchor=\"middle\" x=\"196\" y=\"-70.8\" font-family=\"Times,serif\" font-size=\"14.00\">A</text>\n",
       "</g>\n",
       "<!-- A1&#45;&gt;A -->\n",
       "<g id=\"edge5\" class=\"edge\"><title>A1&#45;&gt;A</title>\n",
       "<path fill=\"none\" stroke=\"black\" d=\"M262.328,-85.8129C255.752,-80.3803 247.55,-74.8148 239,-72 234.218,-70.4255 228.968,-69.9154 223.85,-70.0109\"/>\n",
       "<polygon fill=\"black\" stroke=\"black\" points=\"223.369,-66.5397 213.718,-70.9105 223.988,-73.5123 223.369,-66.5397\"/>\n",
       "<text text-anchor=\"middle\" x=\"235.5\" y=\"-74.8\" font-family=\"Times,serif\" font-size=\"14.00\">1</text>\n",
       "</g>\n",
       "<!-- A&#45;&gt;A1 -->\n",
       "<g id=\"edge3\" class=\"edge\"><title>A&#45;&gt;A1</title>\n",
       "<path fill=\"none\" stroke=\"black\" d=\"M212.444,-82.3527C218.453,-85.0184 225.457,-87.8897 232,-90 236.785,-91.5433 241.932,-92.9321 246.974,-94.1493\"/>\n",
       "<polygon fill=\"black\" stroke=\"black\" points=\"246.502,-97.6302 257.025,-96.4007 248.032,-90.7995 246.502,-97.6302\"/>\n",
       "<text text-anchor=\"middle\" x=\"235.5\" y=\"-95.8\" font-family=\"Times,serif\" font-size=\"14.00\">1</text>\n",
       "</g>\n",
       "<!-- A&#45;&gt;B1 -->\n",
       "<g id=\"edge7\" class=\"edge\"><title>A&#45;&gt;B1</title>\n",
       "<path fill=\"none\" stroke=\"black\" d=\"M213.622,-70.5517C219.398,-69.1793 225.946,-67.8158 232,-67 295.213,-58.4817 370.098,-57.4267 410.621,-57.596\"/>\n",
       "<polygon fill=\"black\" stroke=\"black\" points=\"410.604,-61.0959 420.628,-57.6663 410.653,-54.0961 410.604,-61.0959\"/>\n",
       "<text text-anchor=\"middle\" x=\"320.33\" y=\"-62.8\" font-family=\"Times,serif\" font-size=\"14.00\">0</text>\n",
       "</g>\n",
       "<!-- B1&#45;&gt;B -->\n",
       "<g id=\"edge2\" class=\"edge\"><title>B1&#45;&gt;B</title>\n",
       "<path fill=\"none\" stroke=\"black\" d=\"M421.347,-63.9009C413.159,-66.8921 403.675,-70.9666 395.83,-76 390.203,-79.6108 384.672,-84.1908 379.727,-88.7806\"/>\n",
       "<polygon fill=\"black\" stroke=\"black\" points=\"377.196,-86.3606 372.511,-95.8633 382.1,-91.3564 377.196,-86.3606\"/>\n",
       "<text text-anchor=\"middle\" x=\"399.33\" y=\"-78.8\" font-family=\"Times,serif\" font-size=\"14.00\">1</text>\n",
       "</g>\n",
       "<!-- B1&#45;&gt;IF -->\n",
       "<g id=\"edge4\" class=\"edge\"><title>B1&#45;&gt;IF</title>\n",
       "<path fill=\"none\" stroke=\"black\" d=\"M428.471,-41.8438C414.457,-24.682 389.345,-0 360.83,-0 195,-0 195,-0 195,-0 166.324,-0 143.499,-25.6206 129.481,-46.9128\"/>\n",
       "<polygon fill=\"black\" stroke=\"black\" points=\"126.333,-45.3462 124.021,-55.6856 132.276,-49.045 126.333,-45.3462\"/>\n",
       "<text text-anchor=\"middle\" x=\"277.915\" y=\"-2.8\" font-family=\"Times,serif\" font-size=\"14.00\">0</text>\n",
       "</g>\n",
       "<!-- IF&#45;&gt;A -->\n",
       "<g id=\"edge9\" class=\"edge\"><title>IF&#45;&gt;A</title>\n",
       "<path fill=\"none\" stroke=\"black\" d=\"M135.282,-75C145.266,-75 157.278,-75 167.903,-75\"/>\n",
       "<polygon fill=\"black\" stroke=\"black\" points=\"167.94,-78.5001 177.939,-75 167.939,-71.5001 167.94,-78.5001\"/>\n",
       "<text text-anchor=\"middle\" x=\"156.5\" y=\"-77.8\" font-family=\"Times,serif\" font-size=\"14.00\">0</text>\n",
       "</g>\n",
       "<!-- IF&#45;&gt;IF -->\n",
       "<g id=\"edge10\" class=\"edge\"><title>IF&#45;&gt;IF</title>\n",
       "<path fill=\"none\" stroke=\"black\" d=\"M105.683,-95.9908C104.78,-106.087 107.219,-115 113,-115 116.704,-115 119.036,-111.342 119.996,-106.059\"/>\n",
       "<polygon fill=\"black\" stroke=\"black\" points=\"123.496,-106.097 120.317,-95.9908 116.5,-105.874 123.496,-106.097\"/>\n",
       "<text text-anchor=\"middle\" x=\"113\" y=\"-117.8\" font-family=\"Times,serif\" font-size=\"14.00\">1</text>\n",
       "</g>\n",
       "</g>\n",
       "</svg>\n"
      ],
      "text/plain": [
       "<graphviz.dot.Digraph at 0x10a23e588>"
      ]
     },
     "execution_count": 67,
     "metadata": {},
     "output_type": "execute_result"
    }
   ],
   "source": [
    "dotObj_dfa(prd34b1, \"prd34b1\")"
   ]
  },
  {
   "cell_type": "code",
   "execution_count": 68,
   "metadata": {
    "run_control": {
     "frozen": false,
     "read_only": false
    }
   },
   "outputs": [
    {
     "data": {
      "image/svg+xml": [
       "<?xml version=\"1.0\" encoding=\"UTF-8\" standalone=\"no\"?>\n",
       "<!DOCTYPE svg PUBLIC \"-//W3C//DTD SVG 1.1//EN\"\n",
       " \"http://www.w3.org/Graphics/SVG/1.1/DTD/svg11.dtd\">\n",
       "<!-- Generated by graphviz version 2.38.0 (20140413.2041)\n",
       " -->\n",
       "<!-- Title: %3 Pages: 1 -->\n",
       "<svg width=\"307pt\" height=\"142pt\"\n",
       " viewBox=\"0.00 0.00 306.83 141.92\" xmlns=\"http://www.w3.org/2000/svg\" xmlns:xlink=\"http://www.w3.org/1999/xlink\">\n",
       "<g id=\"graph0\" class=\"graph\" transform=\"scale(1 1) rotate(0) translate(4 137.915)\">\n",
       "<title>%3</title>\n",
       "<polygon fill=\"white\" stroke=\"none\" points=\"-4,4 -4,-137.915 302.83,-137.915 302.83,4 -4,4\"/>\n",
       "<!-- EMPTY -->\n",
       "<g id=\"node1\" class=\"node\"><title>EMPTY</title>\n",
       "</g>\n",
       "<!-- IF -->\n",
       "<g id=\"node4\" class=\"node\"><title>IF</title>\n",
       "<ellipse fill=\"none\" stroke=\"black\" cx=\"113\" cy=\"-79.915\" rx=\"18\" ry=\"18\"/>\n",
       "<ellipse fill=\"none\" stroke=\"black\" cx=\"113\" cy=\"-79.915\" rx=\"22\" ry=\"22\"/>\n",
       "<text text-anchor=\"middle\" x=\"113\" y=\"-75.715\" font-family=\"Times,serif\" font-size=\"14.00\">IF</text>\n",
       "</g>\n",
       "<!-- EMPTY&#45;&gt;IF -->\n",
       "<g id=\"edge1\" class=\"edge\"><title>EMPTY&#45;&gt;IF</title>\n",
       "<path fill=\"none\" stroke=\"black\" d=\"M54.1177,-79.915C62.5406,-79.915 71.9629,-79.915 80.7191,-79.915\"/>\n",
       "<polygon fill=\"black\" stroke=\"black\" points=\"80.9574,-83.4151 90.9574,-79.915 80.9573,-76.4151 80.9574,-83.4151\"/>\n",
       "</g>\n",
       "<!-- B -->\n",
       "<g id=\"node2\" class=\"node\"><title>B</title>\n",
       "<ellipse fill=\"none\" stroke=\"black\" cx=\"280.83\" cy=\"-79.915\" rx=\"18\" ry=\"18\"/>\n",
       "<text text-anchor=\"middle\" x=\"280.83\" y=\"-75.715\" font-family=\"Times,serif\" font-size=\"14.00\">B</text>\n",
       "</g>\n",
       "<!-- B&#45;&gt;B -->\n",
       "<g id=\"edge2\" class=\"edge\"><title>B&#45;&gt;B</title>\n",
       "<path fill=\"none\" stroke=\"black\" d=\"M274.096,-96.9523C272.722,-106.773 274.967,-115.915 280.83,-115.915 284.495,-115.915 286.746,-112.344 287.583,-107.268\"/>\n",
       "<polygon fill=\"black\" stroke=\"black\" points=\"291.082,-106.946 287.564,-96.9523 284.082,-106.959 291.082,-106.946\"/>\n",
       "<text text-anchor=\"middle\" x=\"280.83\" y=\"-118.715\" font-family=\"Times,serif\" font-size=\"14.00\">1</text>\n",
       "</g>\n",
       "<!-- B&#45;&gt;IF -->\n",
       "<g id=\"edge4\" class=\"edge\"><title>B&#45;&gt;IF</title>\n",
       "<path fill=\"none\" stroke=\"black\" d=\"M262.769,-80.9952C250.766,-81.6996 234.323,-82.5529 219.83,-82.915 201.245,-83.3794 196.586,-83.3504 178,-82.915 167.353,-82.6656 155.718,-82.1832 145.324,-81.6768\"/>\n",
       "<polygon fill=\"black\" stroke=\"black\" points=\"145.2,-78.166 135.034,-81.1493 144.841,-85.1568 145.2,-78.166\"/>\n",
       "<text text-anchor=\"middle\" x=\"198.915\" y=\"-85.715\" font-family=\"Times,serif\" font-size=\"14.00\">0</text>\n",
       "</g>\n",
       "<!-- A1 -->\n",
       "<g id=\"node3\" class=\"node\"><title>A1</title>\n",
       "<ellipse fill=\"none\" stroke=\"black\" cx=\"198.915\" cy=\"-20.915\" rx=\"20.8304\" ry=\"20.8304\"/>\n",
       "<text text-anchor=\"middle\" x=\"198.915\" y=\"-16.715\" font-family=\"Times,serif\" font-size=\"14.00\">A1</text>\n",
       "</g>\n",
       "<!-- A1&#45;&gt;B -->\n",
       "<g id=\"edge5\" class=\"edge\"><title>A1&#45;&gt;B</title>\n",
       "<path fill=\"none\" stroke=\"black\" d=\"M216.473,-33.1399C228.474,-42 244.823,-54.0702 257.907,-63.7299\"/>\n",
       "<polygon fill=\"black\" stroke=\"black\" points=\"255.832,-66.5479 265.956,-69.6717 259.989,-60.9164 255.832,-66.5479\"/>\n",
       "<text text-anchor=\"middle\" x=\"241.33\" y=\"-56.715\" font-family=\"Times,serif\" font-size=\"14.00\">0</text>\n",
       "</g>\n",
       "<!-- A1&#45;&gt;A1 -->\n",
       "<g id=\"edge3\" class=\"edge\"><title>A1&#45;&gt;A1</title>\n",
       "<path fill=\"none\" stroke=\"black\" d=\"M191.317,-40.5376C190.148,-50.684 192.681,-59.83 198.915,-59.83 202.909,-59.83 205.384,-56.0765 206.339,-50.711\"/>\n",
       "<polygon fill=\"black\" stroke=\"black\" points=\"209.842,-50.596 206.513,-40.5376 202.843,-50.4763 209.842,-50.596\"/>\n",
       "<text text-anchor=\"middle\" x=\"198.915\" y=\"-62.63\" font-family=\"Times,serif\" font-size=\"14.00\">1</text>\n",
       "</g>\n",
       "<!-- IF&#45;&gt;A1 -->\n",
       "<g id=\"edge6\" class=\"edge\"><title>IF&#45;&gt;A1</title>\n",
       "<path fill=\"none\" stroke=\"black\" d=\"M131.387,-67.6902C143.438,-59.2177 159.663,-47.8099 173.073,-38.3813\"/>\n",
       "<polygon fill=\"black\" stroke=\"black\" points=\"175.239,-41.1368 181.407,-32.522 171.213,-35.4105 175.239,-41.1368\"/>\n",
       "<text text-anchor=\"middle\" x=\"156.5\" y=\"-54.715\" font-family=\"Times,serif\" font-size=\"14.00\">0</text>\n",
       "</g>\n",
       "<!-- IF&#45;&gt;IF -->\n",
       "<g id=\"edge7\" class=\"edge\"><title>IF&#45;&gt;IF</title>\n",
       "<path fill=\"none\" stroke=\"black\" d=\"M105.683,-100.906C104.78,-111.002 107.219,-119.915 113,-119.915 116.704,-119.915 119.036,-116.257 119.996,-110.974\"/>\n",
       "<polygon fill=\"black\" stroke=\"black\" points=\"123.496,-111.012 120.317,-100.906 116.5,-110.789 123.496,-111.012\"/>\n",
       "<text text-anchor=\"middle\" x=\"113\" y=\"-122.715\" font-family=\"Times,serif\" font-size=\"14.00\">1</text>\n",
       "</g>\n",
       "</g>\n",
       "</svg>\n"
      ],
      "text/plain": [
       "<graphviz.dot.Digraph at 0x10a23a320>"
      ]
     },
     "execution_count": 68,
     "metadata": {},
     "output_type": "execute_result"
    }
   ],
   "source": [
    "dotObj_dfa(min_dfa(prd34b1), \"prd34b1min\")"
   ]
  },
  {
   "cell_type": "code",
   "execution_count": 69,
   "metadata": {
    "run_control": {
     "frozen": false,
     "read_only": false
    }
   },
   "outputs": [
    {
     "name": "stderr",
     "output_type": "stream",
     "text": [
      "Generating LALR tables\n"
     ]
    }
   ],
   "source": [
    "third1dfa=md2mc(src=\"File\", fname=\"machines/dfafiles/thirdlastis1.dfa\")"
   ]
  },
  {
   "cell_type": "code",
   "execution_count": 70,
   "metadata": {
    "run_control": {
     "frozen": false,
     "read_only": false
    }
   },
   "outputs": [
    {
     "data": {
      "text/plain": [
       "{'Delta': {('F100', '0'): 'S000',\n",
       "  ('F100', '1'): 'S001',\n",
       "  ('F101', '0'): 'S010',\n",
       "  ('F101', '1'): 'S011',\n",
       "  ('F110', '0'): 'F100',\n",
       "  ('F110', '1'): 'F101',\n",
       "  ('F111', '0'): 'F110',\n",
       "  ('F111', '1'): 'F111',\n",
       "  ('I', '0'): 'S0',\n",
       "  ('I', '1'): 'S1',\n",
       "  ('S0', '0'): 'S00',\n",
       "  ('S0', '1'): 'S01',\n",
       "  ('S00', '0'): 'S000',\n",
       "  ('S00', '1'): 'S001',\n",
       "  ('S000', '0'): 'S000',\n",
       "  ('S000', '1'): 'S001',\n",
       "  ('S001', '0'): 'S010',\n",
       "  ('S001', '1'): 'S011',\n",
       "  ('S01', '0'): 'S010',\n",
       "  ('S01', '1'): 'S011',\n",
       "  ('S010', '0'): 'F100',\n",
       "  ('S010', '1'): 'F101',\n",
       "  ('S011', '0'): 'F110',\n",
       "  ('S011', '1'): 'F111',\n",
       "  ('S1', '0'): 'S10',\n",
       "  ('S1', '1'): 'S11',\n",
       "  ('S10', '0'): 'F100',\n",
       "  ('S10', '1'): 'F101',\n",
       "  ('S11', '0'): 'F110',\n",
       "  ('S11', '1'): 'F111'},\n",
       " 'F': {'F100', 'F101', 'F110', 'F111'},\n",
       " 'Q': {'F100',\n",
       "  'F101',\n",
       "  'F110',\n",
       "  'F111',\n",
       "  'I',\n",
       "  'S0',\n",
       "  'S00',\n",
       "  'S000',\n",
       "  'S001',\n",
       "  'S01',\n",
       "  'S010',\n",
       "  'S011',\n",
       "  'S1',\n",
       "  'S10',\n",
       "  'S11'},\n",
       " 'Sigma': {'0', '1'},\n",
       " 'q0': 'I'}"
      ]
     },
     "execution_count": 70,
     "metadata": {},
     "output_type": "execute_result"
    }
   ],
   "source": [
    "third1dfa"
   ]
  },
  {
   "cell_type": "code",
   "execution_count": 71,
   "metadata": {
    "run_control": {
     "frozen": false,
     "read_only": false
    }
   },
   "outputs": [
    {
     "data": {
      "image/svg+xml": [
       "<?xml version=\"1.0\" encoding=\"UTF-8\" standalone=\"no\"?>\n",
       "<!DOCTYPE svg PUBLIC \"-//W3C//DTD SVG 1.1//EN\"\n",
       " \"http://www.w3.org/Graphics/SVG/1.1/DTD/svg11.dtd\">\n",
       "<!-- Generated by graphviz version 2.38.0 (20140413.2041)\n",
       " -->\n",
       "<!-- Title: %3 Pages: 1 -->\n",
       "<svg width=\"1133pt\" height=\"423pt\"\n",
       " viewBox=\"0.00 0.00 1133.04 423.11\" xmlns=\"http://www.w3.org/2000/svg\" xmlns:xlink=\"http://www.w3.org/1999/xlink\">\n",
       "<g id=\"graph0\" class=\"graph\" transform=\"scale(1 1) rotate(0) translate(4 419.11)\">\n",
       "<title>%3</title>\n",
       "<polygon fill=\"white\" stroke=\"none\" points=\"-4,4 -4,-419.11 1129.04,-419.11 1129.04,4 -4,4\"/>\n",
       "<!-- EMPTY -->\n",
       "<g id=\"node1\" class=\"node\"><title>EMPTY</title>\n",
       "</g>\n",
       "<!-- I -->\n",
       "<g id=\"node7\" class=\"node\"><title>I</title>\n",
       "<ellipse fill=\"none\" stroke=\"black\" cx=\"109\" cy=\"-102.11\" rx=\"18\" ry=\"18\"/>\n",
       "<text text-anchor=\"middle\" x=\"109\" y=\"-97.9096\" font-family=\"Times,serif\" font-size=\"14.00\">I</text>\n",
       "</g>\n",
       "<!-- EMPTY&#45;&gt;I -->\n",
       "<g id=\"edge1\" class=\"edge\"><title>EMPTY&#45;&gt;I</title>\n",
       "<path fill=\"none\" stroke=\"black\" d=\"M54.195,-102.11C62.6538,-102.11 72.0513,-102.11 80.5951,-102.11\"/>\n",
       "<polygon fill=\"black\" stroke=\"black\" points=\"80.8257,-105.61 90.8257,-102.11 80.8257,-98.6097 80.8257,-105.61\"/>\n",
       "</g>\n",
       "<!-- S000 -->\n",
       "<g id=\"node2\" class=\"node\"><title>S000</title>\n",
       "<ellipse fill=\"none\" stroke=\"black\" cx=\"898.234\" cy=\"-137.11\" rx=\"28.0822\" ry=\"28.0822\"/>\n",
       "<text text-anchor=\"middle\" x=\"898.234\" y=\"-132.91\" font-family=\"Times,serif\" font-size=\"14.00\">S000</text>\n",
       "</g>\n",
       "<!-- S000&#45;&gt;S000 -->\n",
       "<g id=\"edge16\" class=\"edge\"><title>S000&#45;&gt;S000</title>\n",
       "<path fill=\"none\" stroke=\"black\" d=\"M889.269,-164.212C888.87,-174.69 891.859,-183.4 898.234,-183.4 902.318,-183.4 905.012,-179.826 906.316,-174.501\"/>\n",
       "<polygon fill=\"black\" stroke=\"black\" points=\"909.831,-174.474 907.199,-164.212 902.857,-173.876 909.831,-174.474\"/>\n",
       "<text text-anchor=\"middle\" x=\"898.234\" y=\"-186.2\" font-family=\"Times,serif\" font-size=\"14.00\">0</text>\n",
       "</g>\n",
       "<!-- S001 -->\n",
       "<g id=\"node5\" class=\"node\"><title>S001</title>\n",
       "<ellipse fill=\"none\" stroke=\"black\" cx=\"997.814\" cy=\"-233.11\" rx=\"28.0822\" ry=\"28.0822\"/>\n",
       "<text text-anchor=\"middle\" x=\"997.814\" y=\"-228.91\" font-family=\"Times,serif\" font-size=\"14.00\">S001</text>\n",
       "</g>\n",
       "<!-- S000&#45;&gt;S001 -->\n",
       "<g id=\"edge17\" class=\"edge\"><title>S000&#45;&gt;S001</title>\n",
       "<path fill=\"none\" stroke=\"black\" d=\"M918.981,-156.537C933.53,-170.85 953.496,-190.493 969.563,-206.3\"/>\n",
       "<polygon fill=\"black\" stroke=\"black\" points=\"967.514,-209.193 977.097,-213.711 972.423,-204.203 967.514,-209.193\"/>\n",
       "<text text-anchor=\"middle\" x=\"948.024\" y=\"-190.91\" font-family=\"Times,serif\" font-size=\"14.00\">1</text>\n",
       "</g>\n",
       "<!-- S011 -->\n",
       "<g id=\"node3\" class=\"node\"><title>S011</title>\n",
       "<ellipse fill=\"none\" stroke=\"black\" cx=\"1097.07\" cy=\"-313.11\" rx=\"27.933\" ry=\"27.933\"/>\n",
       "<text text-anchor=\"middle\" x=\"1097.07\" y=\"-308.91\" font-family=\"Times,serif\" font-size=\"14.00\">S011</text>\n",
       "</g>\n",
       "<!-- F111 -->\n",
       "<g id=\"node14\" class=\"node\"><title>F111</title>\n",
       "<ellipse fill=\"none\" stroke=\"black\" cx=\"373.626\" cy=\"-303.11\" rx=\"27.7678\" ry=\"27.7678\"/>\n",
       "<ellipse fill=\"none\" stroke=\"black\" cx=\"373.626\" cy=\"-303.11\" rx=\"31.7859\" ry=\"31.7859\"/>\n",
       "<text text-anchor=\"middle\" x=\"373.626\" y=\"-298.91\" font-family=\"Times,serif\" font-size=\"14.00\">F111</text>\n",
       "</g>\n",
       "<!-- S011&#45;&gt;F111 -->\n",
       "<g id=\"edge23\" class=\"edge\"><title>S011&#45;&gt;F111</title>\n",
       "<path fill=\"none\" stroke=\"black\" d=\"M1082.77,-337.622C1066.64,-363.661 1036.84,-401.11 998.814,-401.11 479.235,-401.11 479.235,-401.11 479.235,-401.11 441.959,-401.11 412.49,-367.559 394.455,-339.719\"/>\n",
       "<polygon fill=\"black\" stroke=\"black\" points=\"397.25,-337.585 389.005,-330.93 391.301,-341.274 397.25,-337.585\"/>\n",
       "<text text-anchor=\"middle\" x=\"740.863\" y=\"-403.91\" font-family=\"Times,serif\" font-size=\"14.00\">1</text>\n",
       "</g>\n",
       "<!-- F110 -->\n",
       "<g id=\"node15\" class=\"node\"><title>F110</title>\n",
       "<ellipse fill=\"none\" stroke=\"black\" cx=\"480.235\" cy=\"-271.11\" rx=\"27.9372\" ry=\"27.9372\"/>\n",
       "<ellipse fill=\"none\" stroke=\"black\" cx=\"480.235\" cy=\"-271.11\" rx=\"31.933\" ry=\"31.933\"/>\n",
       "<text text-anchor=\"middle\" x=\"480.235\" y=\"-266.91\" font-family=\"Times,serif\" font-size=\"14.00\">F110</text>\n",
       "</g>\n",
       "<!-- S011&#45;&gt;F110 -->\n",
       "<g id=\"edge22\" class=\"edge\"><title>S011&#45;&gt;F110</title>\n",
       "<path fill=\"none\" stroke=\"black\" d=\"M1074.64,-329.977C1055.79,-343.105 1027.02,-359.11 998.814,-359.11 586.492,-359.11 586.492,-359.11 586.492,-359.11 551.824,-359.11 522.553,-330.664 503.749,-306.119\"/>\n",
       "<polygon fill=\"black\" stroke=\"black\" points=\"506.52,-303.979 497.78,-297.991 500.878,-308.122 506.52,-303.979\"/>\n",
       "<text text-anchor=\"middle\" x=\"794.653\" y=\"-361.91\" font-family=\"Times,serif\" font-size=\"14.00\">0</text>\n",
       "</g>\n",
       "<!-- S1 -->\n",
       "<g id=\"node4\" class=\"node\"><title>S1</title>\n",
       "<ellipse fill=\"none\" stroke=\"black\" cx=\"189.447\" cy=\"-141.11\" rx=\"19.3939\" ry=\"19.3939\"/>\n",
       "<text text-anchor=\"middle\" x=\"189.447\" y=\"-136.91\" font-family=\"Times,serif\" font-size=\"14.00\">S1</text>\n",
       "</g>\n",
       "<!-- S11 -->\n",
       "<g id=\"node10\" class=\"node\"><title>S11</title>\n",
       "<ellipse fill=\"none\" stroke=\"black\" cx=\"275.438\" cy=\"-239.11\" rx=\"23.5896\" ry=\"23.5896\"/>\n",
       "<text text-anchor=\"middle\" x=\"275.438\" y=\"-234.91\" font-family=\"Times,serif\" font-size=\"14.00\">S11</text>\n",
       "</g>\n",
       "<!-- S1&#45;&gt;S11 -->\n",
       "<g id=\"edge7\" class=\"edge\"><title>S1&#45;&gt;S11</title>\n",
       "<path fill=\"none\" stroke=\"black\" d=\"M202.84,-155.57C215.958,-170.875 236.915,-195.328 252.774,-213.832\"/>\n",
       "<polygon fill=\"black\" stroke=\"black\" points=\"250.273,-216.292 259.438,-221.607 255.588,-211.736 250.273,-216.292\"/>\n",
       "<text text-anchor=\"middle\" x=\"230.394\" y=\"-192.91\" font-family=\"Times,serif\" font-size=\"14.00\">1</text>\n",
       "</g>\n",
       "<!-- S10 -->\n",
       "<g id=\"node12\" class=\"node\"><title>S10</title>\n",
       "<ellipse fill=\"none\" stroke=\"black\" cx=\"480.235\" cy=\"-141.11\" rx=\"23.7379\" ry=\"23.7379\"/>\n",
       "<text text-anchor=\"middle\" x=\"480.235\" y=\"-136.91\" font-family=\"Times,serif\" font-size=\"14.00\">S10</text>\n",
       "</g>\n",
       "<!-- S1&#45;&gt;S10 -->\n",
       "<g id=\"edge6\" class=\"edge\"><title>S1&#45;&gt;S10</title>\n",
       "<path fill=\"none\" stroke=\"black\" d=\"M208.951,-141.11C256.749,-141.11 384.853,-141.11 445.941,-141.11\"/>\n",
       "<polygon fill=\"black\" stroke=\"black\" points=\"446.188,-144.61 456.188,-141.11 446.188,-137.61 446.188,-144.61\"/>\n",
       "<text text-anchor=\"middle\" x=\"320.483\" y=\"-143.91\" font-family=\"Times,serif\" font-size=\"14.00\">0</text>\n",
       "</g>\n",
       "<!-- S001&#45;&gt;S011 -->\n",
       "<g id=\"edge19\" class=\"edge\"><title>S001&#45;&gt;S011</title>\n",
       "<path fill=\"none\" stroke=\"black\" d=\"M1020.4,-250.864C1034.09,-262.128 1051.98,-276.842 1066.93,-289.136\"/>\n",
       "<polygon fill=\"black\" stroke=\"black\" points=\"1064.94,-292.03 1074.88,-295.68 1069.38,-286.624 1064.94,-292.03\"/>\n",
       "<text text-anchor=\"middle\" x=\"1047.6\" y=\"-278.91\" font-family=\"Times,serif\" font-size=\"14.00\">1</text>\n",
       "</g>\n",
       "<!-- S010 -->\n",
       "<g id=\"node11\" class=\"node\"><title>S010</title>\n",
       "<ellipse fill=\"none\" stroke=\"black\" cx=\"691.072\" cy=\"-257.11\" rx=\"28.0822\" ry=\"28.0822\"/>\n",
       "<text text-anchor=\"middle\" x=\"691.072\" y=\"-252.91\" font-family=\"Times,serif\" font-size=\"14.00\">S010</text>\n",
       "</g>\n",
       "<!-- S001&#45;&gt;S010 -->\n",
       "<g id=\"edge18\" class=\"edge\"><title>S001&#45;&gt;S010</title>\n",
       "<path fill=\"none\" stroke=\"black\" d=\"M969.563,-237.718C963.63,-238.611 957.377,-239.467 951.524,-240.11 872.769,-248.759 780.047,-253.539 729.529,-255.69\"/>\n",
       "<polygon fill=\"black\" stroke=\"black\" points=\"729.256,-252.198 719.41,-256.109 729.546,-259.192 729.256,-252.198\"/>\n",
       "<text text-anchor=\"middle\" x=\"848.443\" y=\"-252.91\" font-family=\"Times,serif\" font-size=\"14.00\">0</text>\n",
       "</g>\n",
       "<!-- S00 -->\n",
       "<g id=\"node6\" class=\"node\"><title>S00</title>\n",
       "<ellipse fill=\"none\" stroke=\"black\" cx=\"794.653\" cy=\"-83.1096\" rx=\"23.7379\" ry=\"23.7379\"/>\n",
       "<text text-anchor=\"middle\" x=\"794.653\" y=\"-78.9096\" font-family=\"Times,serif\" font-size=\"14.00\">S00</text>\n",
       "</g>\n",
       "<!-- S00&#45;&gt;S000 -->\n",
       "<g id=\"edge8\" class=\"edge\"><title>S00&#45;&gt;S000</title>\n",
       "<path fill=\"none\" stroke=\"black\" d=\"M816.209,-94.0373C829.876,-101.302 848.133,-111.008 863.858,-119.367\"/>\n",
       "<polygon fill=\"black\" stroke=\"black\" points=\"862.297,-122.501 872.769,-124.104 865.582,-116.32 862.297,-122.501\"/>\n",
       "<text text-anchor=\"middle\" x=\"848.443\" y=\"-114.91\" font-family=\"Times,serif\" font-size=\"14.00\">0</text>\n",
       "</g>\n",
       "<!-- S00&#45;&gt;S001 -->\n",
       "<g id=\"edge9\" class=\"edge\"><title>S00&#45;&gt;S001</title>\n",
       "<path fill=\"none\" stroke=\"black\" d=\"M818.074,-77.0124C845.903,-70.8294 893.696,-64.8891 926.524,-86.1096 963.931,-110.29 981.914,-160.336 990.215,-195.282\"/>\n",
       "<polygon fill=\"black\" stroke=\"black\" points=\"986.821,-196.144 992.4,-205.151 993.656,-194.63 986.821,-196.144\"/>\n",
       "<text text-anchor=\"middle\" x=\"898.234\" y=\"-88.9096\" font-family=\"Times,serif\" font-size=\"14.00\">1</text>\n",
       "</g>\n",
       "<!-- I&#45;&gt;S1 -->\n",
       "<g id=\"edge3\" class=\"edge\"><title>I&#45;&gt;S1</title>\n",
       "<path fill=\"none\" stroke=\"black\" d=\"M125.499,-109.815C135.998,-115.035 150.131,-122.061 162.345,-128.133\"/>\n",
       "<polygon fill=\"black\" stroke=\"black\" points=\"161.11,-131.428 171.623,-132.745 164.226,-125.16 161.11,-131.428\"/>\n",
       "<text text-anchor=\"middle\" x=\"148.5\" y=\"-125.91\" font-family=\"Times,serif\" font-size=\"14.00\">1</text>\n",
       "</g>\n",
       "<!-- S0 -->\n",
       "<g id=\"node8\" class=\"node\"><title>S0</title>\n",
       "<ellipse fill=\"none\" stroke=\"black\" cx=\"480.235\" cy=\"-62.1096\" rx=\"19.3939\" ry=\"19.3939\"/>\n",
       "<text text-anchor=\"middle\" x=\"480.235\" y=\"-57.9096\" font-family=\"Times,serif\" font-size=\"14.00\">S0</text>\n",
       "</g>\n",
       "<!-- I&#45;&gt;S0 -->\n",
       "<g id=\"edge2\" class=\"edge\"><title>I&#45;&gt;S0</title>\n",
       "<path fill=\"none\" stroke=\"black\" d=\"M125.499,-94.3837C141.024,-87.3678 165.802,-78.1096 188.447,-78.1096 188.447,-78.1096 188.447,-78.1096 374.626,-78.1096 400.873,-78.1096 430.404,-73.1267 451.379,-68.7224\"/>\n",
       "<polygon fill=\"black\" stroke=\"black\" points=\"452.201,-72.1254 461.221,-66.5665 450.703,-65.2875 452.201,-72.1254\"/>\n",
       "<text text-anchor=\"middle\" x=\"275.438\" y=\"-80.9096\" font-family=\"Times,serif\" font-size=\"14.00\">0</text>\n",
       "</g>\n",
       "<!-- S0&#45;&gt;S00 -->\n",
       "<g id=\"edge4\" class=\"edge\"><title>S0&#45;&gt;S00</title>\n",
       "<path fill=\"none\" stroke=\"black\" d=\"M496.251,-50.2388C524.686,-29.2249 588.58,11.0348 644.782,-3.10958 690.939,-14.7261 738.377,-43.7433 766.938,-63.4443\"/>\n",
       "<polygon fill=\"black\" stroke=\"black\" points=\"764.979,-66.3453 775.174,-69.2297 769.003,-60.6174 764.979,-66.3453\"/>\n",
       "<text text-anchor=\"middle\" x=\"641.282\" y=\"-5.90958\" font-family=\"Times,serif\" font-size=\"14.00\">0</text>\n",
       "</g>\n",
       "<!-- S01 -->\n",
       "<g id=\"node9\" class=\"node\"><title>S01</title>\n",
       "<ellipse fill=\"none\" stroke=\"black\" cx=\"587.492\" cy=\"-62.1096\" rx=\"23.7379\" ry=\"23.7379\"/>\n",
       "<text text-anchor=\"middle\" x=\"587.492\" y=\"-57.9096\" font-family=\"Times,serif\" font-size=\"14.00\">S01</text>\n",
       "</g>\n",
       "<!-- S0&#45;&gt;S01 -->\n",
       "<g id=\"edge5\" class=\"edge\"><title>S0&#45;&gt;S01</title>\n",
       "<path fill=\"none\" stroke=\"black\" d=\"M500.053,-62.1096C514.743,-62.1096 535.529,-62.1096 553.036,-62.1096\"/>\n",
       "<polygon fill=\"black\" stroke=\"black\" points=\"553.429,-65.6097 563.429,-62.1096 553.429,-58.6097 553.429,-65.6097\"/>\n",
       "<text text-anchor=\"middle\" x=\"533.701\" y=\"-64.9096\" font-family=\"Times,serif\" font-size=\"14.00\">1</text>\n",
       "</g>\n",
       "<!-- S01&#45;&gt;S011 -->\n",
       "<g id=\"edge11\" class=\"edge\"><title>S01&#45;&gt;S011</title>\n",
       "<path fill=\"none\" stroke=\"black\" d=\"M609.329,-51.787C629.477,-42.7691 661.124,-31.1096 690.072,-31.1096 690.072,-31.1096 690.072,-31.1096 998.814,-31.1096 1049.82,-31.1096 1079.92,-198.078 1091.08,-275.06\"/>\n",
       "<polygon fill=\"black\" stroke=\"black\" points=\"1087.66,-275.888 1092.53,-285.299 1094.59,-274.907 1087.66,-275.888\"/>\n",
       "<text text-anchor=\"middle\" x=\"848.443\" y=\"-33.9096\" font-family=\"Times,serif\" font-size=\"14.00\">1</text>\n",
       "</g>\n",
       "<!-- S01&#45;&gt;S010 -->\n",
       "<g id=\"edge10\" class=\"edge\"><title>S01&#45;&gt;S010</title>\n",
       "<path fill=\"none\" stroke=\"black\" d=\"M599.965,-82.491C611.527,-103.171 629.76,-136.171 644.782,-165.11 654.609,-184.041 665.158,-205.403 673.601,-222.775\"/>\n",
       "<polygon fill=\"black\" stroke=\"black\" points=\"670.547,-224.5 678.057,-231.974 676.847,-221.449 670.547,-224.5\"/>\n",
       "<text text-anchor=\"middle\" x=\"641.282\" y=\"-167.91\" font-family=\"Times,serif\" font-size=\"14.00\">0</text>\n",
       "</g>\n",
       "<!-- S11&#45;&gt;F111 -->\n",
       "<g id=\"edge15\" class=\"edge\"><title>S11&#45;&gt;F111</title>\n",
       "<path fill=\"none\" stroke=\"black\" d=\"M295.442,-251.754C307.593,-259.839 323.712,-270.564 338.077,-280.122\"/>\n",
       "<polygon fill=\"black\" stroke=\"black\" points=\"336.478,-283.262 346.743,-285.888 340.356,-277.434 336.478,-283.262\"/>\n",
       "<text text-anchor=\"middle\" x=\"320.483\" y=\"-272.91\" font-family=\"Times,serif\" font-size=\"14.00\">1</text>\n",
       "</g>\n",
       "<!-- S11&#45;&gt;F110 -->\n",
       "<g id=\"edge14\" class=\"edge\"><title>S11&#45;&gt;F110</title>\n",
       "<path fill=\"none\" stroke=\"black\" d=\"M299.448,-239.118C325.379,-239.496 368.689,-241.241 405.268,-248.11 416.922,-250.298 429.323,-253.707 440.573,-257.237\"/>\n",
       "<polygon fill=\"black\" stroke=\"black\" points=\"439.524,-260.576 450.116,-260.342 441.69,-253.919 439.524,-260.576\"/>\n",
       "<text text-anchor=\"middle\" x=\"373.626\" y=\"-250.91\" font-family=\"Times,serif\" font-size=\"14.00\">0</text>\n",
       "</g>\n",
       "<!-- F101 -->\n",
       "<g id=\"node13\" class=\"node\"><title>F101</title>\n",
       "<ellipse fill=\"none\" stroke=\"black\" cx=\"587.492\" cy=\"-271.11\" rx=\"28.1078\" ry=\"28.1078\"/>\n",
       "<ellipse fill=\"none\" stroke=\"black\" cx=\"587.492\" cy=\"-271.11\" rx=\"32.082\" ry=\"32.082\"/>\n",
       "<text text-anchor=\"middle\" x=\"587.492\" y=\"-266.91\" font-family=\"Times,serif\" font-size=\"14.00\">F101</text>\n",
       "</g>\n",
       "<!-- S010&#45;&gt;F101 -->\n",
       "<g id=\"edge21\" class=\"edge\"><title>S010&#45;&gt;F101</title>\n",
       "<path fill=\"none\" stroke=\"black\" d=\"M663.013,-260.839C652.766,-262.251 640.855,-263.893 629.603,-265.444\"/>\n",
       "<polygon fill=\"black\" stroke=\"black\" points=\"628.95,-262 619.521,-266.833 629.905,-268.935 628.95,-262\"/>\n",
       "<text text-anchor=\"middle\" x=\"641.282\" y=\"-266.91\" font-family=\"Times,serif\" font-size=\"14.00\">1</text>\n",
       "</g>\n",
       "<!-- F100 -->\n",
       "<g id=\"node16\" class=\"node\"><title>F100</title>\n",
       "<ellipse fill=\"none\" stroke=\"black\" cx=\"794.653\" cy=\"-201.11\" rx=\"28.1078\" ry=\"28.1078\"/>\n",
       "<ellipse fill=\"none\" stroke=\"black\" cx=\"794.653\" cy=\"-201.11\" rx=\"32.082\" ry=\"32.082\"/>\n",
       "<text text-anchor=\"middle\" x=\"794.653\" y=\"-196.91\" font-family=\"Times,serif\" font-size=\"14.00\">F100</text>\n",
       "</g>\n",
       "<!-- S010&#45;&gt;F100 -->\n",
       "<g id=\"edge20\" class=\"edge\"><title>S010&#45;&gt;F100</title>\n",
       "<path fill=\"none\" stroke=\"black\" d=\"M716.146,-243.838C728.254,-237.163 743.193,-228.927 756.715,-221.473\"/>\n",
       "<polygon fill=\"black\" stroke=\"black\" points=\"758.729,-224.359 765.797,-216.466 755.35,-218.229 758.729,-224.359\"/>\n",
       "<text text-anchor=\"middle\" x=\"740.863\" y=\"-233.91\" font-family=\"Times,serif\" font-size=\"14.00\">0</text>\n",
       "</g>\n",
       "<!-- S10&#45;&gt;F101 -->\n",
       "<g id=\"edge13\" class=\"edge\"><title>S10&#45;&gt;F101</title>\n",
       "<path fill=\"none\" stroke=\"black\" d=\"M495.87,-159.186C512.385,-179.582 539.587,-213.179 559.887,-238.251\"/>\n",
       "<polygon fill=\"black\" stroke=\"black\" points=\"557.2,-240.494 566.213,-246.064 562.64,-236.089 557.2,-240.494\"/>\n",
       "<text text-anchor=\"middle\" x=\"533.701\" y=\"-212.91\" font-family=\"Times,serif\" font-size=\"14.00\">1</text>\n",
       "</g>\n",
       "<!-- S10&#45;&gt;F100 -->\n",
       "<g id=\"edge12\" class=\"edge\"><title>S10&#45;&gt;F100</title>\n",
       "<path fill=\"none\" stroke=\"black\" d=\"M504.015,-137.08C535.887,-132.193 595.424,-125.804 644.782,-136.11 685.262,-144.561 728.21,-164.656 757.519,-180.283\"/>\n",
       "<polygon fill=\"black\" stroke=\"black\" points=\"756.077,-183.483 766.536,-185.179 759.418,-177.331 756.077,-183.483\"/>\n",
       "<text text-anchor=\"middle\" x=\"641.282\" y=\"-138.91\" font-family=\"Times,serif\" font-size=\"14.00\">0</text>\n",
       "</g>\n",
       "<!-- F101&#45;&gt;S011 -->\n",
       "<g id=\"edge27\" class=\"edge\"><title>F101&#45;&gt;S011</title>\n",
       "<path fill=\"none\" stroke=\"black\" d=\"M614.861,-288.678C634.684,-300.187 662.974,-313.11 690.072,-313.11 690.072,-313.11 690.072,-313.11 998.814,-313.11 1018.57,-313.11 1040.59,-313.11 1058.68,-313.11\"/>\n",
       "<polygon fill=\"black\" stroke=\"black\" points=\"1058.82,-316.61 1068.82,-313.11 1058.82,-309.61 1058.82,-316.61\"/>\n",
       "<text text-anchor=\"middle\" x=\"848.443\" y=\"-315.91\" font-family=\"Times,serif\" font-size=\"14.00\">1</text>\n",
       "</g>\n",
       "<!-- F101&#45;&gt;S010 -->\n",
       "<g id=\"edge26\" class=\"edge\"><title>F101&#45;&gt;S010</title>\n",
       "<path fill=\"none\" stroke=\"black\" d=\"M615.504,-254.568C622.513,-251.083 630.223,-247.917 637.782,-246.11 643.196,-244.815 648.944,-244.732 654.573,-245.363\"/>\n",
       "<polygon fill=\"black\" stroke=\"black\" points=\"654.013,-248.818 664.477,-247.163 655.265,-241.931 654.013,-248.818\"/>\n",
       "<text text-anchor=\"middle\" x=\"641.282\" y=\"-248.91\" font-family=\"Times,serif\" font-size=\"14.00\">0</text>\n",
       "</g>\n",
       "<!-- F111&#45;&gt;F111 -->\n",
       "<g id=\"edge31\" class=\"edge\"><title>F111&#45;&gt;F111</title>\n",
       "<path fill=\"none\" stroke=\"black\" d=\"M363.878,-333.65C363.775,-344.218 367.024,-352.752 373.626,-352.752 377.855,-352.752 380.708,-349.25 382.186,-343.954\"/>\n",
       "<polygon fill=\"black\" stroke=\"black\" points=\"385.705,-343.985 383.373,-333.65 378.751,-343.183 385.705,-343.985\"/>\n",
       "<text text-anchor=\"middle\" x=\"373.626\" y=\"-355.552\" font-family=\"Times,serif\" font-size=\"14.00\">1</text>\n",
       "</g>\n",
       "<!-- F111&#45;&gt;F110 -->\n",
       "<g id=\"edge30\" class=\"edge\"><title>F111&#45;&gt;F110</title>\n",
       "<path fill=\"none\" stroke=\"black\" d=\"M404.044,-294.111C415.091,-290.731 427.836,-286.833 439.657,-283.217\"/>\n",
       "<polygon fill=\"black\" stroke=\"black\" points=\"440.773,-286.535 449.312,-280.263 438.725,-279.841 440.773,-286.535\"/>\n",
       "<text text-anchor=\"middle\" x=\"426.768\" y=\"-290.91\" font-family=\"Times,serif\" font-size=\"14.00\">0</text>\n",
       "</g>\n",
       "<!-- F110&#45;&gt;F101 -->\n",
       "<g id=\"edge29\" class=\"edge\"><title>F110&#45;&gt;F101</title>\n",
       "<path fill=\"none\" stroke=\"black\" d=\"M512.246,-271.11C522.448,-271.11 533.962,-271.11 544.823,-271.11\"/>\n",
       "<polygon fill=\"black\" stroke=\"black\" points=\"544.974,-274.61 554.974,-271.11 544.974,-267.61 544.974,-274.61\"/>\n",
       "<text text-anchor=\"middle\" x=\"533.701\" y=\"-273.91\" font-family=\"Times,serif\" font-size=\"14.00\">1</text>\n",
       "</g>\n",
       "<!-- F110&#45;&gt;F100 -->\n",
       "<g id=\"edge28\" class=\"edge\"><title>F110&#45;&gt;F100</title>\n",
       "<path fill=\"none\" stroke=\"black\" d=\"M507.15,-253.502C520.854,-245.049 538.302,-235.59 555.201,-230.11 621.91,-208.477 703.869,-202.751 752.259,-201.369\"/>\n",
       "<polygon fill=\"black\" stroke=\"black\" points=\"752.435,-204.866 762.35,-201.13 752.27,-197.868 752.435,-204.866\"/>\n",
       "<text text-anchor=\"middle\" x=\"641.282\" y=\"-213.91\" font-family=\"Times,serif\" font-size=\"14.00\">0</text>\n",
       "</g>\n",
       "<!-- F100&#45;&gt;S000 -->\n",
       "<g id=\"edge24\" class=\"edge\"><title>F100&#45;&gt;S000</title>\n",
       "<path fill=\"none\" stroke=\"black\" d=\"M822.342,-184.294C835.458,-176.031 851.365,-166.009 865.14,-157.33\"/>\n",
       "<polygon fill=\"black\" stroke=\"black\" points=\"867.238,-160.145 873.833,-151.853 863.507,-154.222 867.238,-160.145\"/>\n",
       "<text text-anchor=\"middle\" x=\"848.443\" y=\"-171.91\" font-family=\"Times,serif\" font-size=\"14.00\">0</text>\n",
       "</g>\n",
       "<!-- F100&#45;&gt;S001 -->\n",
       "<g id=\"edge25\" class=\"edge\"><title>F100&#45;&gt;S001</title>\n",
       "<path fill=\"none\" stroke=\"black\" d=\"M826.644,-206.039C862.406,-211.728 921.19,-221.08 959.45,-227.166\"/>\n",
       "<polygon fill=\"black\" stroke=\"black\" points=\"959.235,-230.676 969.661,-228.79 960.335,-223.763 959.235,-230.676\"/>\n",
       "<text text-anchor=\"middle\" x=\"898.234\" y=\"-224.91\" font-family=\"Times,serif\" font-size=\"14.00\">1</text>\n",
       "</g>\n",
       "</g>\n",
       "</svg>\n"
      ],
      "text/plain": [
       "<graphviz.dot.Digraph at 0x10a23e1d0>"
      ]
     },
     "execution_count": 71,
     "metadata": {},
     "output_type": "execute_result"
    }
   ],
   "source": [
    "dotObj_dfa(third1dfa)"
   ]
  },
  {
   "cell_type": "code",
   "execution_count": 72,
   "metadata": {
    "run_control": {
     "frozen": false,
     "read_only": false
    }
   },
   "outputs": [],
   "source": [
    "ends0101 =\\\n",
    "\"\\\n",
    "DFA\\\n",
    " \\\n",
    "I     : 0 -> S0 \\\n",
    "I     : 1 -> I \\\n",
    "S0    : 0 -> S0 \\\n",
    "S0    : 1 -> S01 \\\n",
    "S01   : 0 -> S010 \\\n",
    "S01   : 1 -> I \\\n",
    "S010  : 0 -> S0 \\\n",
    "S010  : 1 -> F0101 \\\n",
    "F0101 : 0 -> S010 \\\n",
    "F0101 : 1 -> I \\\n",
    "\""
   ]
  },
  {
   "cell_type": "code",
   "execution_count": 73,
   "metadata": {
    "run_control": {
     "frozen": false,
     "read_only": false
    }
   },
   "outputs": [
    {
     "data": {
      "text/plain": [
       "'DFA I     : 0 -> S0 I     : 1 -> I S0    : 0 -> S0 S0    : 1 -> S01 S01   : 0 -> S010 S01   : 1 -> I S010  : 0 -> S0 S010  : 1 -> F0101 F0101 : 0 -> S010 F0101 : 1 -> I '"
      ]
     },
     "execution_count": 73,
     "metadata": {},
     "output_type": "execute_result"
    }
   ],
   "source": [
    "ends0101"
   ]
  },
  {
   "cell_type": "code",
   "execution_count": 74,
   "metadata": {
    "run_control": {
     "frozen": false,
     "read_only": false
    }
   },
   "outputs": [
    {
     "name": "stderr",
     "output_type": "stream",
     "text": [
      "Generating LALR tables\n"
     ]
    }
   ],
   "source": [
    "dfaends0101=md2mc(ends0101)"
   ]
  },
  {
   "cell_type": "code",
   "execution_count": 75,
   "metadata": {
    "run_control": {
     "frozen": false,
     "read_only": false
    }
   },
   "outputs": [
    {
     "data": {
      "text/plain": [
       "{'Delta': {('F0101', '0'): 'S010',\n",
       "  ('F0101', '1'): 'I',\n",
       "  ('I', '0'): 'S0',\n",
       "  ('I', '1'): 'I',\n",
       "  ('S0', '0'): 'S0',\n",
       "  ('S0', '1'): 'S01',\n",
       "  ('S01', '0'): 'S010',\n",
       "  ('S01', '1'): 'I',\n",
       "  ('S010', '0'): 'S0',\n",
       "  ('S010', '1'): 'F0101'},\n",
       " 'F': {'F0101'},\n",
       " 'Q': {'F0101', 'I', 'S0', 'S01', 'S010'},\n",
       " 'Sigma': {'0', '1'},\n",
       " 'q0': 'I'}"
      ]
     },
     "execution_count": 75,
     "metadata": {},
     "output_type": "execute_result"
    }
   ],
   "source": [
    "dfaends0101"
   ]
  },
  {
   "cell_type": "code",
   "execution_count": 76,
   "metadata": {
    "run_control": {
     "frozen": false,
     "read_only": false
    }
   },
   "outputs": [
    {
     "name": "stderr",
     "output_type": "stream",
     "text": [
      "Generating LALR tables\n"
     ]
    }
   ],
   "source": [
    "dped1 = md2mc(src=\"File\", fname=\"machines/dfafiles/pedagogical1.dfa\")\n",
    "#machines/dfafiles/pedagogical1.dfa"
   ]
  },
  {
   "cell_type": "code",
   "execution_count": 77,
   "metadata": {
    "run_control": {
     "frozen": false,
     "read_only": false
    }
   },
   "outputs": [
    {
     "data": {
      "text/plain": [
       "{'Delta': {('A', '0'): 'B',\n",
       "  ('A', '1'): 'B',\n",
       "  ('B', '0'): 'IF',\n",
       "  ('B', '1'): 'F',\n",
       "  ('F', '0'): 'B',\n",
       "  ('F', '1'): 'B',\n",
       "  ('IF', '0'): 'A',\n",
       "  ('IF', '1'): 'B'},\n",
       " 'F': {'F', 'IF'},\n",
       " 'Q': {'A', 'B', 'F', 'IF'},\n",
       " 'Sigma': {'0', '1'},\n",
       " 'q0': 'IF'}"
      ]
     },
     "execution_count": 77,
     "metadata": {},
     "output_type": "execute_result"
    }
   ],
   "source": [
    "dped1"
   ]
  },
  {
   "cell_type": "code",
   "execution_count": 78,
   "metadata": {
    "run_control": {
     "frozen": false,
     "read_only": false
    }
   },
   "outputs": [
    {
     "data": {
      "image/svg+xml": [
       "<?xml version=\"1.0\" encoding=\"UTF-8\" standalone=\"no\"?>\n",
       "<!DOCTYPE svg PUBLIC \"-//W3C//DTD SVG 1.1//EN\"\n",
       " \"http://www.w3.org/Graphics/SVG/1.1/DTD/svg11.dtd\">\n",
       "<!-- Generated by graphviz version 2.38.0 (20140413.2041)\n",
       " -->\n",
       "<!-- Title: %3 Pages: 1 -->\n",
       "<svg width=\"388pt\" height=\"113pt\"\n",
       " viewBox=\"0.00 0.00 388.00 113.00\" xmlns=\"http://www.w3.org/2000/svg\" xmlns:xlink=\"http://www.w3.org/1999/xlink\">\n",
       "<g id=\"graph0\" class=\"graph\" transform=\"scale(1 1) rotate(0) translate(4 109)\">\n",
       "<title>%3</title>\n",
       "<polygon fill=\"white\" stroke=\"none\" points=\"-4,4 -4,-109 384,-109 384,4 -4,4\"/>\n",
       "<!-- EMPTY -->\n",
       "<g id=\"node1\" class=\"node\"><title>EMPTY</title>\n",
       "</g>\n",
       "<!-- IF -->\n",
       "<g id=\"node5\" class=\"node\"><title>IF</title>\n",
       "<ellipse fill=\"none\" stroke=\"black\" cx=\"113\" cy=\"-72\" rx=\"18\" ry=\"18\"/>\n",
       "<ellipse fill=\"none\" stroke=\"black\" cx=\"113\" cy=\"-72\" rx=\"22\" ry=\"22\"/>\n",
       "<text text-anchor=\"middle\" x=\"113\" y=\"-67.8\" font-family=\"Times,serif\" font-size=\"14.00\">IF</text>\n",
       "</g>\n",
       "<!-- EMPTY&#45;&gt;IF -->\n",
       "<g id=\"edge1\" class=\"edge\"><title>EMPTY&#45;&gt;IF</title>\n",
       "<path fill=\"none\" stroke=\"black\" d=\"M54.1177,-72C62.5406,-72 71.9629,-72 80.7191,-72\"/>\n",
       "<polygon fill=\"black\" stroke=\"black\" points=\"80.9574,-75.5001 90.9574,-72 80.9573,-68.5001 80.9574,-75.5001\"/>\n",
       "</g>\n",
       "<!-- B -->\n",
       "<g id=\"node2\" class=\"node\"><title>B</title>\n",
       "<ellipse fill=\"none\" stroke=\"black\" cx=\"275\" cy=\"-57\" rx=\"18\" ry=\"18\"/>\n",
       "<text text-anchor=\"middle\" x=\"275\" y=\"-52.8\" font-family=\"Times,serif\" font-size=\"14.00\">B</text>\n",
       "</g>\n",
       "<!-- F -->\n",
       "<g id=\"node4\" class=\"node\"><title>F</title>\n",
       "<ellipse fill=\"none\" stroke=\"black\" cx=\"358\" cy=\"-57\" rx=\"18\" ry=\"18\"/>\n",
       "<ellipse fill=\"none\" stroke=\"black\" cx=\"358\" cy=\"-57\" rx=\"22\" ry=\"22\"/>\n",
       "<text text-anchor=\"middle\" x=\"358\" y=\"-52.8\" font-family=\"Times,serif\" font-size=\"14.00\">F</text>\n",
       "</g>\n",
       "<!-- B&#45;&gt;F -->\n",
       "<g id=\"edge6\" class=\"edge\"><title>B&#45;&gt;F</title>\n",
       "<path fill=\"none\" stroke=\"black\" d=\"M291.241,-65.1226C297.226,-67.8828 304.265,-70.6176 311,-72 316.904,-73.2118 323.112,-72.5661 328.99,-71.0088\"/>\n",
       "<polygon fill=\"black\" stroke=\"black\" points=\"330.176,-74.3019 338.458,-67.6945 327.863,-67.695 330.176,-74.3019\"/>\n",
       "<text text-anchor=\"middle\" x=\"314.5\" y=\"-74.8\" font-family=\"Times,serif\" font-size=\"14.00\">1</text>\n",
       "</g>\n",
       "<!-- B&#45;&gt;IF -->\n",
       "<g id=\"edge7\" class=\"edge\"><title>B&#45;&gt;IF</title>\n",
       "<path fill=\"none\" stroke=\"black\" d=\"M256.986,-58.5951C230.367,-61.0906 178.466,-65.9563 145.059,-69.0883\"/>\n",
       "<polygon fill=\"black\" stroke=\"black\" points=\"144.547,-65.6208 134.917,-70.039 145.2,-72.5902 144.547,-65.6208\"/>\n",
       "<text text-anchor=\"middle\" x=\"196\" y=\"-67.8\" font-family=\"Times,serif\" font-size=\"14.00\">0</text>\n",
       "</g>\n",
       "<!-- A -->\n",
       "<g id=\"node3\" class=\"node\"><title>A</title>\n",
       "<ellipse fill=\"none\" stroke=\"black\" cx=\"196\" cy=\"-18\" rx=\"18\" ry=\"18\"/>\n",
       "<text text-anchor=\"middle\" x=\"196\" y=\"-13.8\" font-family=\"Times,serif\" font-size=\"14.00\">A</text>\n",
       "</g>\n",
       "<!-- A&#45;&gt;B -->\n",
       "<g id=\"edge4\" class=\"edge\"><title>A&#45;&gt;B</title>\n",
       "<path fill=\"none\" stroke=\"black\" d=\"M212.582,-25.8922C223.193,-31.2664 237.455,-38.49 249.564,-44.6235\"/>\n",
       "<polygon fill=\"black\" stroke=\"black\" points=\"248.201,-47.8565 258.704,-49.2526 251.364,-41.6118 248.201,-47.8565\"/>\n",
       "<text text-anchor=\"middle\" x=\"235.5\" y=\"-40.8\" font-family=\"Times,serif\" font-size=\"14.00\">0</text>\n",
       "</g>\n",
       "<!-- A&#45;&gt;B -->\n",
       "<g id=\"edge5\" class=\"edge\"><title>A&#45;&gt;B</title>\n",
       "<path fill=\"none\" stroke=\"black\" d=\"M214.014,-14.9076C221.928,-14.2302 231.276,-14.5533 239,-18 246.711,-21.4407 253.431,-27.5128 258.865,-33.856\"/>\n",
       "<polygon fill=\"black\" stroke=\"black\" points=\"256.159,-36.0784 265.039,-41.8581 261.702,-31.8025 256.159,-36.0784\"/>\n",
       "<text text-anchor=\"middle\" x=\"235.5\" y=\"-20.8\" font-family=\"Times,serif\" font-size=\"14.00\">1</text>\n",
       "</g>\n",
       "<!-- F&#45;&gt;B -->\n",
       "<g id=\"edge8\" class=\"edge\"><title>F&#45;&gt;B</title>\n",
       "<path fill=\"none\" stroke=\"black\" d=\"M335.943,-54.6705C328.115,-54.0565 319.156,-53.6511 311,-54 308.441,-54.1095 305.779,-54.2638 303.118,-54.4453\"/>\n",
       "<polygon fill=\"black\" stroke=\"black\" points=\"302.763,-50.9623 293.071,-55.2425 303.317,-57.9404 302.763,-50.9623\"/>\n",
       "<text text-anchor=\"middle\" x=\"314.5\" y=\"-56.8\" font-family=\"Times,serif\" font-size=\"14.00\">0</text>\n",
       "</g>\n",
       "<!-- F&#45;&gt;B -->\n",
       "<g id=\"edge9\" class=\"edge\"><title>F&#45;&gt;B</title>\n",
       "<path fill=\"none\" stroke=\"black\" d=\"M340.914,-42.7689C332.311,-36.8656 321.378,-32.0093 311,-35 306.535,-36.2869 302.089,-38.3302 297.939,-40.665\"/>\n",
       "<polygon fill=\"black\" stroke=\"black\" points=\"296.002,-37.7488 289.432,-46.0611 299.752,-43.6598 296.002,-37.7488\"/>\n",
       "<text text-anchor=\"middle\" x=\"314.5\" y=\"-37.8\" font-family=\"Times,serif\" font-size=\"14.00\">1</text>\n",
       "</g>\n",
       "<!-- IF&#45;&gt;B -->\n",
       "<g id=\"edge3\" class=\"edge\"><title>IF&#45;&gt;B</title>\n",
       "<path fill=\"none\" stroke=\"black\" d=\"M133.618,-79.8462C139.75,-82.0804 146.59,-84.352 153,-86 179.314,-92.7653 186.916,-92.153 214,-90 225.217,-89.1083 228.75,-90.6426 239,-86 244.301,-83.5989 249.453,-80.1744 254.101,-76.5155\"/>\n",
       "<polygon fill=\"black\" stroke=\"black\" points=\"256.553,-79.0233 261.848,-69.8466 251.986,-73.7183 256.553,-79.0233\"/>\n",
       "<text text-anchor=\"middle\" x=\"196\" y=\"-93.8\" font-family=\"Times,serif\" font-size=\"14.00\">1</text>\n",
       "</g>\n",
       "<!-- IF&#45;&gt;A -->\n",
       "<g id=\"edge2\" class=\"edge\"><title>IF&#45;&gt;A</title>\n",
       "<path fill=\"none\" stroke=\"black\" d=\"M131.294,-59.1978C138.001,-54.3353 145.79,-48.812 153,-44 158.805,-40.1262 165.163,-36.088 171.136,-32.3814\"/>\n",
       "<polygon fill=\"black\" stroke=\"black\" points=\"173.377,-35.113 180.071,-26.9009 169.717,-29.1461 173.377,-35.113\"/>\n",
       "<text text-anchor=\"middle\" x=\"156.5\" y=\"-46.8\" font-family=\"Times,serif\" font-size=\"14.00\">0</text>\n",
       "</g>\n",
       "</g>\n",
       "</svg>\n"
      ],
      "text/plain": [
       "<graphviz.dot.Digraph at 0x10a667400>"
      ]
     },
     "execution_count": 78,
     "metadata": {},
     "output_type": "execute_result"
    }
   ],
   "source": [
    "dotObj_dfa(dped1)"
   ]
  },
  {
   "cell_type": "code",
   "execution_count": 79,
   "metadata": {
    "run_control": {
     "frozen": false,
     "read_only": false
    }
   },
   "outputs": [
    {
     "data": {
      "image/svg+xml": [
       "<?xml version=\"1.0\" encoding=\"UTF-8\" standalone=\"no\"?>\n",
       "<!DOCTYPE svg PUBLIC \"-//W3C//DTD SVG 1.1//EN\"\n",
       " \"http://www.w3.org/Graphics/SVG/1.1/DTD/svg11.dtd\">\n",
       "<!-- Generated by graphviz version 2.38.0 (20140413.2041)\n",
       " -->\n",
       "<!-- Title: %3 Pages: 1 -->\n",
       "<svg width=\"395pt\" height=\"115pt\"\n",
       " viewBox=\"0.00 0.00 395.00 115.00\" xmlns=\"http://www.w3.org/2000/svg\" xmlns:xlink=\"http://www.w3.org/1999/xlink\">\n",
       "<g id=\"graph0\" class=\"graph\" transform=\"scale(1 1) rotate(0) translate(4 111)\">\n",
       "<title>%3</title>\n",
       "<polygon fill=\"white\" stroke=\"none\" points=\"-4,4 -4,-111 391,-111 391,4 -4,4\"/>\n",
       "<!-- EMPTY -->\n",
       "<g id=\"node1\" class=\"node\"><title>EMPTY</title>\n",
       "</g>\n",
       "<!-- IF -->\n",
       "<g id=\"node5\" class=\"node\"><title>IF</title>\n",
       "<ellipse fill=\"none\" stroke=\"black\" cx=\"113\" cy=\"-72\" rx=\"18\" ry=\"18\"/>\n",
       "<ellipse fill=\"none\" stroke=\"black\" cx=\"113\" cy=\"-72\" rx=\"22\" ry=\"22\"/>\n",
       "<text text-anchor=\"middle\" x=\"113\" y=\"-67.8\" font-family=\"Times,serif\" font-size=\"14.00\">IF</text>\n",
       "</g>\n",
       "<!-- EMPTY&#45;&gt;IF -->\n",
       "<g id=\"edge1\" class=\"edge\"><title>EMPTY&#45;&gt;IF</title>\n",
       "<path fill=\"none\" stroke=\"black\" d=\"M54.1177,-72C62.5406,-72 71.9629,-72 80.7191,-72\"/>\n",
       "<polygon fill=\"black\" stroke=\"black\" points=\"80.9574,-75.5001 90.9574,-72 80.9573,-68.5001 80.9574,-75.5001\"/>\n",
       "</g>\n",
       "<!-- B -->\n",
       "<g id=\"node2\" class=\"node\"><title>B</title>\n",
       "<ellipse fill=\"none\" stroke=\"black\" cx=\"278.5\" cy=\"-72\" rx=\"18\" ry=\"18\"/>\n",
       "<text text-anchor=\"middle\" x=\"278.5\" y=\"-67.8\" font-family=\"Times,serif\" font-size=\"14.00\">B</text>\n",
       "</g>\n",
       "<!-- F -->\n",
       "<g id=\"node4\" class=\"node\"><title>F</title>\n",
       "<ellipse fill=\"none\" stroke=\"black\" cx=\"365\" cy=\"-72\" rx=\"18\" ry=\"18\"/>\n",
       "<ellipse fill=\"none\" stroke=\"black\" cx=\"365\" cy=\"-72\" rx=\"22\" ry=\"22\"/>\n",
       "<text text-anchor=\"middle\" x=\"365\" y=\"-67.8\" font-family=\"Times,serif\" font-size=\"14.00\">F</text>\n",
       "</g>\n",
       "<!-- B&#45;&gt;F -->\n",
       "<g id=\"edge5\" class=\"edge\"><title>B&#45;&gt;F</title>\n",
       "<path fill=\"none\" stroke=\"black\" d=\"M296.556,-74.3431C302.251,-75.0202 308.638,-75.6661 314.5,-76 320.31,-76.3309 326.498,-76.2093 332.46,-75.8507\"/>\n",
       "<polygon fill=\"black\" stroke=\"black\" points=\"333.14,-79.3066 342.818,-74.9959 332.564,-72.3303 333.14,-79.3066\"/>\n",
       "<text text-anchor=\"middle\" x=\"319.75\" y=\"-78.8\" font-family=\"Times,serif\" font-size=\"14.00\">1</text>\n",
       "</g>\n",
       "<!-- B&#45;&gt;IF -->\n",
       "<g id=\"edge6\" class=\"edge\"><title>B&#45;&gt;IF</title>\n",
       "<path fill=\"none\" stroke=\"black\" d=\"M260.033,-72C232.711,-72 179.469,-72 145.378,-72\"/>\n",
       "<polygon fill=\"black\" stroke=\"black\" points=\"145.04,-68.5001 135.04,-72 145.04,-75.5001 145.04,-68.5001\"/>\n",
       "<text text-anchor=\"middle\" x=\"196\" y=\"-74.8\" font-family=\"Times,serif\" font-size=\"14.00\">0</text>\n",
       "</g>\n",
       "<!-- A -->\n",
       "<g id=\"node3\" class=\"node\"><title>A</title>\n",
       "<ellipse fill=\"none\" stroke=\"black\" cx=\"196\" cy=\"-18\" rx=\"18\" ry=\"18\"/>\n",
       "<text text-anchor=\"middle\" x=\"196\" y=\"-13.8\" font-family=\"Times,serif\" font-size=\"14.00\">A</text>\n",
       "</g>\n",
       "<!-- A&#45;&gt;B -->\n",
       "<g id=\"edge4\" class=\"edge\"><title>A&#45;&gt;B</title>\n",
       "<path fill=\"none\" stroke=\"black\" d=\"M214,-19.9417C223.013,-21.574 233.955,-24.5594 242.5,-30 249.931,-34.7313 256.574,-41.5525 262.024,-48.3263\"/>\n",
       "<polygon fill=\"black\" stroke=\"black\" points=\"259.486,-50.7793 268.259,-56.7203 265.106,-46.6054 259.486,-50.7793\"/>\n",
       "<text text-anchor=\"middle\" x=\"237.25\" y=\"-46.8\" font-family=\"Times,serif\" font-size=\"14.00\">1 </text>\n",
       "<text text-anchor=\"middle\" x=\"237.25\" y=\"-32.8\" font-family=\"Times,serif\" font-size=\"14.00\"> 0</text>\n",
       "</g>\n",
       "<!-- F&#45;&gt;B -->\n",
       "<g id=\"edge7\" class=\"edge\"><title>F&#45;&gt;B</title>\n",
       "<path fill=\"none\" stroke=\"black\" d=\"M348.185,-57.2138C341.543,-51.9722 333.41,-46.7065 325,-44 315.564,-40.9634 306.076,-45.3423 298.225,-51.4744\"/>\n",
       "<polygon fill=\"black\" stroke=\"black\" points=\"295.783,-48.9631 290.706,-58.2619 300.474,-54.1591 295.783,-48.9631\"/>\n",
       "<text text-anchor=\"middle\" x=\"319.75\" y=\"-60.8\" font-family=\"Times,serif\" font-size=\"14.00\">1 </text>\n",
       "<text text-anchor=\"middle\" x=\"319.75\" y=\"-46.8\" font-family=\"Times,serif\" font-size=\"14.00\"> 0</text>\n",
       "</g>\n",
       "<!-- IF&#45;&gt;B -->\n",
       "<g id=\"edge3\" class=\"edge\"><title>IF&#45;&gt;B</title>\n",
       "<path fill=\"none\" stroke=\"black\" d=\"M133.618,-79.8462C139.75,-82.0804 146.59,-84.352 153,-86 191.525,-95.9048 204.059,-96.2251 242.5,-86 245.726,-85.142 249.055,-84.0703 252.319,-82.904\"/>\n",
       "<polygon fill=\"black\" stroke=\"black\" points=\"253.692,-86.1255 261.745,-79.2406 251.156,-79.6009 253.692,-86.1255\"/>\n",
       "<text text-anchor=\"middle\" x=\"196\" y=\"-95.8\" font-family=\"Times,serif\" font-size=\"14.00\">1</text>\n",
       "</g>\n",
       "<!-- IF&#45;&gt;A -->\n",
       "<g id=\"edge2\" class=\"edge\"><title>IF&#45;&gt;A</title>\n",
       "<path fill=\"none\" stroke=\"black\" d=\"M131.294,-59.1978C138.001,-54.3353 145.79,-48.812 153,-44 158.805,-40.1262 165.163,-36.088 171.136,-32.3814\"/>\n",
       "<polygon fill=\"black\" stroke=\"black\" points=\"173.377,-35.113 180.071,-26.9009 169.717,-29.1461 173.377,-35.113\"/>\n",
       "<text text-anchor=\"middle\" x=\"156.5\" y=\"-46.8\" font-family=\"Times,serif\" font-size=\"14.00\">0</text>\n",
       "</g>\n",
       "</g>\n",
       "</svg>\n"
      ],
      "text/plain": [
       "<graphviz.dot.Digraph at 0x10a67d630>"
      ]
     },
     "execution_count": 79,
     "metadata": {},
     "output_type": "execute_result"
    }
   ],
   "source": [
    "dotObj_dfa(dped1, FuseEdges=True)"
   ]
  },
  {
   "cell_type": "code",
   "execution_count": 80,
   "metadata": {
    "run_control": {
     "frozen": false,
     "read_only": false
    }
   },
   "outputs": [
    {
     "name": "stderr",
     "output_type": "stream",
     "text": [
      "Generating LALR tables\n"
     ]
    },
    {
     "data": {
      "image/svg+xml": [
       "<?xml version=\"1.0\" encoding=\"UTF-8\" standalone=\"no\"?>\n",
       "<!DOCTYPE svg PUBLIC \"-//W3C//DTD SVG 1.1//EN\"\n",
       " \"http://www.w3.org/Graphics/SVG/1.1/DTD/svg11.dtd\">\n",
       "<!-- Generated by graphviz version 2.38.0 (20140413.2041)\n",
       " -->\n",
       "<!-- Title: %3 Pages: 1 -->\n",
       "<svg width=\"524pt\" height=\"164pt\"\n",
       " viewBox=\"0.00 0.00 523.64 164.16\" xmlns=\"http://www.w3.org/2000/svg\" xmlns:xlink=\"http://www.w3.org/1999/xlink\">\n",
       "<g id=\"graph0\" class=\"graph\" transform=\"scale(1 1) rotate(0) translate(4 160.159)\">\n",
       "<title>%3</title>\n",
       "<polygon fill=\"white\" stroke=\"none\" points=\"-4,4 -4,-160.159 519.636,-160.159 519.636,4 -4,4\"/>\n",
       "<!-- EMPTY -->\n",
       "<g id=\"node1\" class=\"node\"><title>EMPTY</title>\n",
       "</g>\n",
       "<!-- I -->\n",
       "<g id=\"node3\" class=\"node\"><title>I</title>\n",
       "<ellipse fill=\"none\" stroke=\"black\" cx=\"109\" cy=\"-53.7121\" rx=\"18\" ry=\"18\"/>\n",
       "<text text-anchor=\"middle\" x=\"109\" y=\"-49.5121\" font-family=\"Times,serif\" font-size=\"14.00\">I</text>\n",
       "</g>\n",
       "<!-- EMPTY&#45;&gt;I -->\n",
       "<g id=\"edge1\" class=\"edge\"><title>EMPTY&#45;&gt;I</title>\n",
       "<path fill=\"none\" stroke=\"black\" d=\"M54.195,-53.7121C62.6538,-53.7121 72.0513,-53.7121 80.5951,-53.7121\"/>\n",
       "<polygon fill=\"black\" stroke=\"black\" points=\"80.8257,-57.2122 90.8257,-53.7121 80.8257,-50.2122 80.8257,-57.2122\"/>\n",
       "</g>\n",
       "<!-- S010 -->\n",
       "<g id=\"node2\" class=\"node\"><title>S010</title>\n",
       "<ellipse fill=\"none\" stroke=\"black\" cx=\"370.921\" cy=\"-69.7121\" rx=\"28.0822\" ry=\"28.0822\"/>\n",
       "<text text-anchor=\"middle\" x=\"370.921\" y=\"-65.5121\" font-family=\"Times,serif\" font-size=\"14.00\">S010</text>\n",
       "</g>\n",
       "<!-- S0 -->\n",
       "<g id=\"node4\" class=\"node\"><title>S0</title>\n",
       "<ellipse fill=\"none\" stroke=\"black\" cx=\"189.447\" cy=\"-104.712\" rx=\"19.3939\" ry=\"19.3939\"/>\n",
       "<text text-anchor=\"middle\" x=\"189.447\" y=\"-100.512\" font-family=\"Times,serif\" font-size=\"14.00\">S0</text>\n",
       "</g>\n",
       "<!-- S010&#45;&gt;S0 -->\n",
       "<g id=\"edge8\" class=\"edge\"><title>S010&#45;&gt;S0</title>\n",
       "<path fill=\"none\" stroke=\"black\" d=\"M344.154,-79.175C330.973,-83.7508 314.593,-89.0344 299.631,-92.7121 270.864,-99.7827 263.385,-100.92 233.894,-103.712 229.204,-104.156 224.217,-104.443 219.358,-104.623\"/>\n",
       "<polygon fill=\"black\" stroke=\"black\" points=\"219.001,-101.13 209.086,-104.866 219.166,-108.129 219.001,-101.13\"/>\n",
       "<text text-anchor=\"middle\" x=\"275.762\" y=\"-105.512\" font-family=\"Times,serif\" font-size=\"14.00\">0</text>\n",
       "</g>\n",
       "<!-- F0101 -->\n",
       "<g id=\"node6\" class=\"node\"><title>F0101</title>\n",
       "<ellipse fill=\"none\" stroke=\"black\" cx=\"478.924\" cy=\"-36.7121\" rx=\"32.9021\" ry=\"32.9021\"/>\n",
       "<ellipse fill=\"none\" stroke=\"black\" cx=\"478.924\" cy=\"-36.7121\" rx=\"36.9254\" ry=\"36.9254\"/>\n",
       "<text text-anchor=\"middle\" x=\"478.924\" y=\"-32.5121\" font-family=\"Times,serif\" font-size=\"14.00\">F0101</text>\n",
       "</g>\n",
       "<!-- S010&#45;&gt;F0101 -->\n",
       "<g id=\"edge9\" class=\"edge\"><title>S010&#45;&gt;F0101</title>\n",
       "<path fill=\"none\" stroke=\"black\" d=\"M398.124,-61.5548C408.961,-58.1812 421.825,-54.1763 434.026,-50.3779\"/>\n",
       "<polygon fill=\"black\" stroke=\"black\" points=\"435.11,-53.7063 443.618,-47.392 433.029,-47.0227 435.11,-53.7063\"/>\n",
       "<text text-anchor=\"middle\" x=\"420.712\" y=\"-58.5121\" font-family=\"Times,serif\" font-size=\"14.00\">1</text>\n",
       "</g>\n",
       "<!-- I&#45;&gt;I -->\n",
       "<g id=\"edge3\" class=\"edge\"><title>I&#45;&gt;I</title>\n",
       "<path fill=\"none\" stroke=\"black\" d=\"M102.621,-70.7494C101.319,-80.57 103.445,-89.7121 109,-89.7121 112.472,-89.7121 114.604,-86.1409 115.398,-81.065\"/>\n",
       "<polygon fill=\"black\" stroke=\"black\" points=\"118.897,-80.7431 115.379,-70.7494 111.897,-80.7556 118.897,-80.7431\"/>\n",
       "<text text-anchor=\"middle\" x=\"109\" y=\"-92.5121\" font-family=\"Times,serif\" font-size=\"14.00\">1</text>\n",
       "</g>\n",
       "<!-- I&#45;&gt;S0 -->\n",
       "<g id=\"edge2\" class=\"edge\"><title>I&#45;&gt;S0</title>\n",
       "<path fill=\"none\" stroke=\"black\" d=\"M124.388,-63.0663C135.529,-70.3093 151.212,-80.5046 164.271,-88.9946\"/>\n",
       "<polygon fill=\"black\" stroke=\"black\" points=\"162.513,-92.0264 172.805,-94.5427 166.328,-86.1576 162.513,-92.0264\"/>\n",
       "<text text-anchor=\"middle\" x=\"148.5\" y=\"-84.5121\" font-family=\"Times,serif\" font-size=\"14.00\">0</text>\n",
       "</g>\n",
       "<!-- S0&#45;&gt;S0 -->\n",
       "<g id=\"edge4\" class=\"edge\"><title>S0&#45;&gt;S0</title>\n",
       "<path fill=\"none\" stroke=\"black\" d=\"M182.306,-122.822C180.973,-132.889 183.353,-142.159 189.447,-142.159 193.351,-142.159 195.731,-138.354 196.586,-132.973\"/>\n",
       "<polygon fill=\"black\" stroke=\"black\" points=\"200.086,-132.822 196.588,-122.822 193.086,-132.821 200.086,-132.822\"/>\n",
       "<text text-anchor=\"middle\" x=\"189.447\" y=\"-144.959\" font-family=\"Times,serif\" font-size=\"14.00\">0</text>\n",
       "</g>\n",
       "<!-- S01 -->\n",
       "<g id=\"node5\" class=\"node\"><title>S01</title>\n",
       "<ellipse fill=\"none\" stroke=\"black\" cx=\"275.762\" cy=\"-59.7121\" rx=\"23.7379\" ry=\"23.7379\"/>\n",
       "<text text-anchor=\"middle\" x=\"275.762\" y=\"-55.5121\" font-family=\"Times,serif\" font-size=\"14.00\">S01</text>\n",
       "</g>\n",
       "<!-- S0&#45;&gt;S01 -->\n",
       "<g id=\"edge5\" class=\"edge\"><title>S0&#45;&gt;S01</title>\n",
       "<path fill=\"none\" stroke=\"black\" d=\"M207.105,-95.8215C217.995,-90.0091 232.523,-82.2559 245.323,-75.4239\"/>\n",
       "<polygon fill=\"black\" stroke=\"black\" points=\"247.089,-78.4492 254.263,-70.6529 243.793,-72.2736 247.089,-78.4492\"/>\n",
       "<text text-anchor=\"middle\" x=\"230.394\" y=\"-88.5121\" font-family=\"Times,serif\" font-size=\"14.00\">1</text>\n",
       "</g>\n",
       "<!-- S01&#45;&gt;S010 -->\n",
       "<g id=\"edge6\" class=\"edge\"><title>S01&#45;&gt;S010</title>\n",
       "<path fill=\"none\" stroke=\"black\" d=\"M299.79,-62.184C309.59,-63.2359 321.277,-64.4904 332.274,-65.6708\"/>\n",
       "<polygon fill=\"black\" stroke=\"black\" points=\"332.205,-69.1835 342.521,-66.7709 332.952,-62.2235 332.205,-69.1835\"/>\n",
       "<text text-anchor=\"middle\" x=\"321.131\" y=\"-67.5121\" font-family=\"Times,serif\" font-size=\"14.00\">0</text>\n",
       "</g>\n",
       "<!-- S01&#45;&gt;I -->\n",
       "<g id=\"edge7\" class=\"edge\"><title>S01&#45;&gt;I</title>\n",
       "<path fill=\"none\" stroke=\"black\" d=\"M251.812,-58.8763C221.844,-57.785 169.444,-55.8768 137.419,-54.7106\"/>\n",
       "<polygon fill=\"black\" stroke=\"black\" points=\"137.133,-51.1979 127.012,-54.3316 136.878,-58.1933 137.133,-51.1979\"/>\n",
       "<text text-anchor=\"middle\" x=\"189.447\" y=\"-60.5121\" font-family=\"Times,serif\" font-size=\"14.00\">1</text>\n",
       "</g>\n",
       "<!-- F0101&#45;&gt;S010 -->\n",
       "<g id=\"edge10\" class=\"edge\"><title>F0101&#45;&gt;S010</title>\n",
       "<path fill=\"none\" stroke=\"black\" d=\"M442.343,-33.0141C433.942,-33.1464 425.129,-34.1335 417.212,-36.7121 411.523,-38.5649 405.953,-41.432 400.774,-44.7191\"/>\n",
       "<polygon fill=\"black\" stroke=\"black\" points=\"398.65,-41.9337 392.475,-50.5427 402.671,-47.6638 398.65,-41.9337\"/>\n",
       "<text text-anchor=\"middle\" x=\"420.712\" y=\"-39.5121\" font-family=\"Times,serif\" font-size=\"14.00\">0</text>\n",
       "</g>\n",
       "<!-- F0101&#45;&gt;I -->\n",
       "<g id=\"edge11\" class=\"edge\"><title>F0101&#45;&gt;I</title>\n",
       "<path fill=\"none\" stroke=\"black\" d=\"M445.314,-20.9853C424.751,-12.4857 397.363,-3.71207 371.921,-3.71207 188.447,-3.71207 188.447,-3.71207 188.447,-3.71207 165.281,-3.71207 143.447,-19.409 128.726,-33.2128\"/>\n",
       "<polygon fill=\"black\" stroke=\"black\" points=\"125.943,-31.0442 121.316,-40.5752 130.876,-36.01 125.943,-31.0442\"/>\n",
       "<text text-anchor=\"middle\" x=\"275.762\" y=\"-6.51207\" font-family=\"Times,serif\" font-size=\"14.00\">1</text>\n",
       "</g>\n",
       "</g>\n",
       "</svg>\n"
      ],
      "text/plain": [
       "<graphviz.dot.Digraph at 0x10a677208>"
      ]
     },
     "execution_count": 80,
     "metadata": {},
     "output_type": "execute_result"
    }
   ],
   "source": [
    "dotObj_dfa(md2mc(ends0101))"
   ]
  },
  {
   "cell_type": "code",
   "execution_count": 81,
   "metadata": {
    "run_control": {
     "frozen": false,
     "read_only": false
    }
   },
   "outputs": [
    {
     "name": "stderr",
     "output_type": "stream",
     "text": [
      "Generating LALR tables\n"
     ]
    }
   ],
   "source": [
    "thirdlastis1=md2mc(src=\"File\", fname=\"machines/dfafiles/thirdlastis1.dfa\")\n",
    "#machines/dfafiles/thirdlastis1.dfa"
   ]
  },
  {
   "cell_type": "code",
   "execution_count": 82,
   "metadata": {
    "run_control": {
     "frozen": false,
     "read_only": false
    }
   },
   "outputs": [
    {
     "data": {
      "text/plain": [
       "{'Delta': {('F100', '0'): 'S000',\n",
       "  ('F100', '1'): 'S001',\n",
       "  ('F101', '0'): 'S010',\n",
       "  ('F101', '1'): 'S011',\n",
       "  ('F110', '0'): 'F100',\n",
       "  ('F110', '1'): 'F101',\n",
       "  ('F111', '0'): 'F110',\n",
       "  ('F111', '1'): 'F111',\n",
       "  ('I', '0'): 'S0',\n",
       "  ('I', '1'): 'S1',\n",
       "  ('S0', '0'): 'S00',\n",
       "  ('S0', '1'): 'S01',\n",
       "  ('S00', '0'): 'S000',\n",
       "  ('S00', '1'): 'S001',\n",
       "  ('S000', '0'): 'S000',\n",
       "  ('S000', '1'): 'S001',\n",
       "  ('S001', '0'): 'S010',\n",
       "  ('S001', '1'): 'S011',\n",
       "  ('S01', '0'): 'S010',\n",
       "  ('S01', '1'): 'S011',\n",
       "  ('S010', '0'): 'F100',\n",
       "  ('S010', '1'): 'F101',\n",
       "  ('S011', '0'): 'F110',\n",
       "  ('S011', '1'): 'F111',\n",
       "  ('S1', '0'): 'S10',\n",
       "  ('S1', '1'): 'S11',\n",
       "  ('S10', '0'): 'F100',\n",
       "  ('S10', '1'): 'F101',\n",
       "  ('S11', '0'): 'F110',\n",
       "  ('S11', '1'): 'F111'},\n",
       " 'F': {'F100', 'F101', 'F110', 'F111'},\n",
       " 'Q': {'F100',\n",
       "  'F101',\n",
       "  'F110',\n",
       "  'F111',\n",
       "  'I',\n",
       "  'S0',\n",
       "  'S00',\n",
       "  'S000',\n",
       "  'S001',\n",
       "  'S01',\n",
       "  'S010',\n",
       "  'S011',\n",
       "  'S1',\n",
       "  'S10',\n",
       "  'S11'},\n",
       " 'Sigma': {'0', '1'},\n",
       " 'q0': 'I'}"
      ]
     },
     "execution_count": 82,
     "metadata": {},
     "output_type": "execute_result"
    }
   ],
   "source": [
    "thirdlastis1"
   ]
  },
  {
   "cell_type": "code",
   "execution_count": 83,
   "metadata": {
    "run_control": {
     "frozen": false,
     "read_only": false
    }
   },
   "outputs": [
    {
     "data": {
      "image/svg+xml": [
       "<?xml version=\"1.0\" encoding=\"UTF-8\" standalone=\"no\"?>\n",
       "<!DOCTYPE svg PUBLIC \"-//W3C//DTD SVG 1.1//EN\"\n",
       " \"http://www.w3.org/Graphics/SVG/1.1/DTD/svg11.dtd\">\n",
       "<!-- Generated by graphviz version 2.38.0 (20140413.2041)\n",
       " -->\n",
       "<!-- Title: %3 Pages: 1 -->\n",
       "<svg width=\"1133pt\" height=\"423pt\"\n",
       " viewBox=\"0.00 0.00 1133.04 423.11\" xmlns=\"http://www.w3.org/2000/svg\" xmlns:xlink=\"http://www.w3.org/1999/xlink\">\n",
       "<g id=\"graph0\" class=\"graph\" transform=\"scale(1 1) rotate(0) translate(4 419.11)\">\n",
       "<title>%3</title>\n",
       "<polygon fill=\"white\" stroke=\"none\" points=\"-4,4 -4,-419.11 1129.04,-419.11 1129.04,4 -4,4\"/>\n",
       "<!-- EMPTY -->\n",
       "<g id=\"node1\" class=\"node\"><title>EMPTY</title>\n",
       "</g>\n",
       "<!-- I -->\n",
       "<g id=\"node7\" class=\"node\"><title>I</title>\n",
       "<ellipse fill=\"none\" stroke=\"black\" cx=\"109\" cy=\"-102.11\" rx=\"18\" ry=\"18\"/>\n",
       "<text text-anchor=\"middle\" x=\"109\" y=\"-97.9096\" font-family=\"Times,serif\" font-size=\"14.00\">I</text>\n",
       "</g>\n",
       "<!-- EMPTY&#45;&gt;I -->\n",
       "<g id=\"edge1\" class=\"edge\"><title>EMPTY&#45;&gt;I</title>\n",
       "<path fill=\"none\" stroke=\"black\" d=\"M54.195,-102.11C62.6538,-102.11 72.0513,-102.11 80.5951,-102.11\"/>\n",
       "<polygon fill=\"black\" stroke=\"black\" points=\"80.8257,-105.61 90.8257,-102.11 80.8257,-98.6097 80.8257,-105.61\"/>\n",
       "</g>\n",
       "<!-- S000 -->\n",
       "<g id=\"node2\" class=\"node\"><title>S000</title>\n",
       "<ellipse fill=\"none\" stroke=\"black\" cx=\"898.234\" cy=\"-137.11\" rx=\"28.0822\" ry=\"28.0822\"/>\n",
       "<text text-anchor=\"middle\" x=\"898.234\" y=\"-132.91\" font-family=\"Times,serif\" font-size=\"14.00\">S000</text>\n",
       "</g>\n",
       "<!-- S000&#45;&gt;S000 -->\n",
       "<g id=\"edge16\" class=\"edge\"><title>S000&#45;&gt;S000</title>\n",
       "<path fill=\"none\" stroke=\"black\" d=\"M889.269,-164.212C888.87,-174.69 891.859,-183.4 898.234,-183.4 902.318,-183.4 905.012,-179.826 906.316,-174.501\"/>\n",
       "<polygon fill=\"black\" stroke=\"black\" points=\"909.831,-174.474 907.199,-164.212 902.857,-173.876 909.831,-174.474\"/>\n",
       "<text text-anchor=\"middle\" x=\"898.234\" y=\"-186.2\" font-family=\"Times,serif\" font-size=\"14.00\">0</text>\n",
       "</g>\n",
       "<!-- S001 -->\n",
       "<g id=\"node5\" class=\"node\"><title>S001</title>\n",
       "<ellipse fill=\"none\" stroke=\"black\" cx=\"997.814\" cy=\"-233.11\" rx=\"28.0822\" ry=\"28.0822\"/>\n",
       "<text text-anchor=\"middle\" x=\"997.814\" y=\"-228.91\" font-family=\"Times,serif\" font-size=\"14.00\">S001</text>\n",
       "</g>\n",
       "<!-- S000&#45;&gt;S001 -->\n",
       "<g id=\"edge17\" class=\"edge\"><title>S000&#45;&gt;S001</title>\n",
       "<path fill=\"none\" stroke=\"black\" d=\"M918.981,-156.537C933.53,-170.85 953.496,-190.493 969.563,-206.3\"/>\n",
       "<polygon fill=\"black\" stroke=\"black\" points=\"967.514,-209.193 977.097,-213.711 972.423,-204.203 967.514,-209.193\"/>\n",
       "<text text-anchor=\"middle\" x=\"948.024\" y=\"-190.91\" font-family=\"Times,serif\" font-size=\"14.00\">1</text>\n",
       "</g>\n",
       "<!-- S011 -->\n",
       "<g id=\"node3\" class=\"node\"><title>S011</title>\n",
       "<ellipse fill=\"none\" stroke=\"black\" cx=\"1097.07\" cy=\"-313.11\" rx=\"27.933\" ry=\"27.933\"/>\n",
       "<text text-anchor=\"middle\" x=\"1097.07\" y=\"-308.91\" font-family=\"Times,serif\" font-size=\"14.00\">S011</text>\n",
       "</g>\n",
       "<!-- F111 -->\n",
       "<g id=\"node14\" class=\"node\"><title>F111</title>\n",
       "<ellipse fill=\"none\" stroke=\"black\" cx=\"373.626\" cy=\"-303.11\" rx=\"27.7678\" ry=\"27.7678\"/>\n",
       "<ellipse fill=\"none\" stroke=\"black\" cx=\"373.626\" cy=\"-303.11\" rx=\"31.7859\" ry=\"31.7859\"/>\n",
       "<text text-anchor=\"middle\" x=\"373.626\" y=\"-298.91\" font-family=\"Times,serif\" font-size=\"14.00\">F111</text>\n",
       "</g>\n",
       "<!-- S011&#45;&gt;F111 -->\n",
       "<g id=\"edge23\" class=\"edge\"><title>S011&#45;&gt;F111</title>\n",
       "<path fill=\"none\" stroke=\"black\" d=\"M1082.77,-337.622C1066.64,-363.661 1036.84,-401.11 998.814,-401.11 479.235,-401.11 479.235,-401.11 479.235,-401.11 441.959,-401.11 412.49,-367.559 394.455,-339.719\"/>\n",
       "<polygon fill=\"black\" stroke=\"black\" points=\"397.25,-337.585 389.005,-330.93 391.301,-341.274 397.25,-337.585\"/>\n",
       "<text text-anchor=\"middle\" x=\"740.863\" y=\"-403.91\" font-family=\"Times,serif\" font-size=\"14.00\">1</text>\n",
       "</g>\n",
       "<!-- F110 -->\n",
       "<g id=\"node15\" class=\"node\"><title>F110</title>\n",
       "<ellipse fill=\"none\" stroke=\"black\" cx=\"480.235\" cy=\"-271.11\" rx=\"27.9372\" ry=\"27.9372\"/>\n",
       "<ellipse fill=\"none\" stroke=\"black\" cx=\"480.235\" cy=\"-271.11\" rx=\"31.933\" ry=\"31.933\"/>\n",
       "<text text-anchor=\"middle\" x=\"480.235\" y=\"-266.91\" font-family=\"Times,serif\" font-size=\"14.00\">F110</text>\n",
       "</g>\n",
       "<!-- S011&#45;&gt;F110 -->\n",
       "<g id=\"edge22\" class=\"edge\"><title>S011&#45;&gt;F110</title>\n",
       "<path fill=\"none\" stroke=\"black\" d=\"M1074.64,-329.977C1055.79,-343.105 1027.02,-359.11 998.814,-359.11 586.492,-359.11 586.492,-359.11 586.492,-359.11 551.824,-359.11 522.553,-330.664 503.749,-306.119\"/>\n",
       "<polygon fill=\"black\" stroke=\"black\" points=\"506.52,-303.979 497.78,-297.991 500.878,-308.122 506.52,-303.979\"/>\n",
       "<text text-anchor=\"middle\" x=\"794.653\" y=\"-361.91\" font-family=\"Times,serif\" font-size=\"14.00\">0</text>\n",
       "</g>\n",
       "<!-- S1 -->\n",
       "<g id=\"node4\" class=\"node\"><title>S1</title>\n",
       "<ellipse fill=\"none\" stroke=\"black\" cx=\"189.447\" cy=\"-141.11\" rx=\"19.3939\" ry=\"19.3939\"/>\n",
       "<text text-anchor=\"middle\" x=\"189.447\" y=\"-136.91\" font-family=\"Times,serif\" font-size=\"14.00\">S1</text>\n",
       "</g>\n",
       "<!-- S11 -->\n",
       "<g id=\"node10\" class=\"node\"><title>S11</title>\n",
       "<ellipse fill=\"none\" stroke=\"black\" cx=\"275.438\" cy=\"-239.11\" rx=\"23.5896\" ry=\"23.5896\"/>\n",
       "<text text-anchor=\"middle\" x=\"275.438\" y=\"-234.91\" font-family=\"Times,serif\" font-size=\"14.00\">S11</text>\n",
       "</g>\n",
       "<!-- S1&#45;&gt;S11 -->\n",
       "<g id=\"edge7\" class=\"edge\"><title>S1&#45;&gt;S11</title>\n",
       "<path fill=\"none\" stroke=\"black\" d=\"M202.84,-155.57C215.958,-170.875 236.915,-195.328 252.774,-213.832\"/>\n",
       "<polygon fill=\"black\" stroke=\"black\" points=\"250.273,-216.292 259.438,-221.607 255.588,-211.736 250.273,-216.292\"/>\n",
       "<text text-anchor=\"middle\" x=\"230.394\" y=\"-192.91\" font-family=\"Times,serif\" font-size=\"14.00\">1</text>\n",
       "</g>\n",
       "<!-- S10 -->\n",
       "<g id=\"node12\" class=\"node\"><title>S10</title>\n",
       "<ellipse fill=\"none\" stroke=\"black\" cx=\"480.235\" cy=\"-141.11\" rx=\"23.7379\" ry=\"23.7379\"/>\n",
       "<text text-anchor=\"middle\" x=\"480.235\" y=\"-136.91\" font-family=\"Times,serif\" font-size=\"14.00\">S10</text>\n",
       "</g>\n",
       "<!-- S1&#45;&gt;S10 -->\n",
       "<g id=\"edge6\" class=\"edge\"><title>S1&#45;&gt;S10</title>\n",
       "<path fill=\"none\" stroke=\"black\" d=\"M208.951,-141.11C256.749,-141.11 384.853,-141.11 445.941,-141.11\"/>\n",
       "<polygon fill=\"black\" stroke=\"black\" points=\"446.188,-144.61 456.188,-141.11 446.188,-137.61 446.188,-144.61\"/>\n",
       "<text text-anchor=\"middle\" x=\"320.483\" y=\"-143.91\" font-family=\"Times,serif\" font-size=\"14.00\">0</text>\n",
       "</g>\n",
       "<!-- S001&#45;&gt;S011 -->\n",
       "<g id=\"edge19\" class=\"edge\"><title>S001&#45;&gt;S011</title>\n",
       "<path fill=\"none\" stroke=\"black\" d=\"M1020.4,-250.864C1034.09,-262.128 1051.98,-276.842 1066.93,-289.136\"/>\n",
       "<polygon fill=\"black\" stroke=\"black\" points=\"1064.94,-292.03 1074.88,-295.68 1069.38,-286.624 1064.94,-292.03\"/>\n",
       "<text text-anchor=\"middle\" x=\"1047.6\" y=\"-278.91\" font-family=\"Times,serif\" font-size=\"14.00\">1</text>\n",
       "</g>\n",
       "<!-- S010 -->\n",
       "<g id=\"node11\" class=\"node\"><title>S010</title>\n",
       "<ellipse fill=\"none\" stroke=\"black\" cx=\"691.072\" cy=\"-257.11\" rx=\"28.0822\" ry=\"28.0822\"/>\n",
       "<text text-anchor=\"middle\" x=\"691.072\" y=\"-252.91\" font-family=\"Times,serif\" font-size=\"14.00\">S010</text>\n",
       "</g>\n",
       "<!-- S001&#45;&gt;S010 -->\n",
       "<g id=\"edge18\" class=\"edge\"><title>S001&#45;&gt;S010</title>\n",
       "<path fill=\"none\" stroke=\"black\" d=\"M969.563,-237.718C963.63,-238.611 957.377,-239.467 951.524,-240.11 872.769,-248.759 780.047,-253.539 729.529,-255.69\"/>\n",
       "<polygon fill=\"black\" stroke=\"black\" points=\"729.256,-252.198 719.41,-256.109 729.546,-259.192 729.256,-252.198\"/>\n",
       "<text text-anchor=\"middle\" x=\"848.443\" y=\"-252.91\" font-family=\"Times,serif\" font-size=\"14.00\">0</text>\n",
       "</g>\n",
       "<!-- S00 -->\n",
       "<g id=\"node6\" class=\"node\"><title>S00</title>\n",
       "<ellipse fill=\"none\" stroke=\"black\" cx=\"794.653\" cy=\"-83.1096\" rx=\"23.7379\" ry=\"23.7379\"/>\n",
       "<text text-anchor=\"middle\" x=\"794.653\" y=\"-78.9096\" font-family=\"Times,serif\" font-size=\"14.00\">S00</text>\n",
       "</g>\n",
       "<!-- S00&#45;&gt;S000 -->\n",
       "<g id=\"edge8\" class=\"edge\"><title>S00&#45;&gt;S000</title>\n",
       "<path fill=\"none\" stroke=\"black\" d=\"M816.209,-94.0373C829.876,-101.302 848.133,-111.008 863.858,-119.367\"/>\n",
       "<polygon fill=\"black\" stroke=\"black\" points=\"862.297,-122.501 872.769,-124.104 865.582,-116.32 862.297,-122.501\"/>\n",
       "<text text-anchor=\"middle\" x=\"848.443\" y=\"-114.91\" font-family=\"Times,serif\" font-size=\"14.00\">0</text>\n",
       "</g>\n",
       "<!-- S00&#45;&gt;S001 -->\n",
       "<g id=\"edge9\" class=\"edge\"><title>S00&#45;&gt;S001</title>\n",
       "<path fill=\"none\" stroke=\"black\" d=\"M818.074,-77.0124C845.903,-70.8294 893.696,-64.8891 926.524,-86.1096 963.931,-110.29 981.914,-160.336 990.215,-195.282\"/>\n",
       "<polygon fill=\"black\" stroke=\"black\" points=\"986.821,-196.144 992.4,-205.151 993.656,-194.63 986.821,-196.144\"/>\n",
       "<text text-anchor=\"middle\" x=\"898.234\" y=\"-88.9096\" font-family=\"Times,serif\" font-size=\"14.00\">1</text>\n",
       "</g>\n",
       "<!-- I&#45;&gt;S1 -->\n",
       "<g id=\"edge3\" class=\"edge\"><title>I&#45;&gt;S1</title>\n",
       "<path fill=\"none\" stroke=\"black\" d=\"M125.499,-109.815C135.998,-115.035 150.131,-122.061 162.345,-128.133\"/>\n",
       "<polygon fill=\"black\" stroke=\"black\" points=\"161.11,-131.428 171.623,-132.745 164.226,-125.16 161.11,-131.428\"/>\n",
       "<text text-anchor=\"middle\" x=\"148.5\" y=\"-125.91\" font-family=\"Times,serif\" font-size=\"14.00\">1</text>\n",
       "</g>\n",
       "<!-- S0 -->\n",
       "<g id=\"node8\" class=\"node\"><title>S0</title>\n",
       "<ellipse fill=\"none\" stroke=\"black\" cx=\"480.235\" cy=\"-62.1096\" rx=\"19.3939\" ry=\"19.3939\"/>\n",
       "<text text-anchor=\"middle\" x=\"480.235\" y=\"-57.9096\" font-family=\"Times,serif\" font-size=\"14.00\">S0</text>\n",
       "</g>\n",
       "<!-- I&#45;&gt;S0 -->\n",
       "<g id=\"edge2\" class=\"edge\"><title>I&#45;&gt;S0</title>\n",
       "<path fill=\"none\" stroke=\"black\" d=\"M125.499,-94.3837C141.024,-87.3678 165.802,-78.1096 188.447,-78.1096 188.447,-78.1096 188.447,-78.1096 374.626,-78.1096 400.873,-78.1096 430.404,-73.1267 451.379,-68.7224\"/>\n",
       "<polygon fill=\"black\" stroke=\"black\" points=\"452.201,-72.1254 461.221,-66.5665 450.703,-65.2875 452.201,-72.1254\"/>\n",
       "<text text-anchor=\"middle\" x=\"275.438\" y=\"-80.9096\" font-family=\"Times,serif\" font-size=\"14.00\">0</text>\n",
       "</g>\n",
       "<!-- S0&#45;&gt;S00 -->\n",
       "<g id=\"edge4\" class=\"edge\"><title>S0&#45;&gt;S00</title>\n",
       "<path fill=\"none\" stroke=\"black\" d=\"M496.251,-50.2388C524.686,-29.2249 588.58,11.0348 644.782,-3.10958 690.939,-14.7261 738.377,-43.7433 766.938,-63.4443\"/>\n",
       "<polygon fill=\"black\" stroke=\"black\" points=\"764.979,-66.3453 775.174,-69.2297 769.003,-60.6174 764.979,-66.3453\"/>\n",
       "<text text-anchor=\"middle\" x=\"641.282\" y=\"-5.90958\" font-family=\"Times,serif\" font-size=\"14.00\">0</text>\n",
       "</g>\n",
       "<!-- S01 -->\n",
       "<g id=\"node9\" class=\"node\"><title>S01</title>\n",
       "<ellipse fill=\"none\" stroke=\"black\" cx=\"587.492\" cy=\"-62.1096\" rx=\"23.7379\" ry=\"23.7379\"/>\n",
       "<text text-anchor=\"middle\" x=\"587.492\" y=\"-57.9096\" font-family=\"Times,serif\" font-size=\"14.00\">S01</text>\n",
       "</g>\n",
       "<!-- S0&#45;&gt;S01 -->\n",
       "<g id=\"edge5\" class=\"edge\"><title>S0&#45;&gt;S01</title>\n",
       "<path fill=\"none\" stroke=\"black\" d=\"M500.053,-62.1096C514.743,-62.1096 535.529,-62.1096 553.036,-62.1096\"/>\n",
       "<polygon fill=\"black\" stroke=\"black\" points=\"553.429,-65.6097 563.429,-62.1096 553.429,-58.6097 553.429,-65.6097\"/>\n",
       "<text text-anchor=\"middle\" x=\"533.701\" y=\"-64.9096\" font-family=\"Times,serif\" font-size=\"14.00\">1</text>\n",
       "</g>\n",
       "<!-- S01&#45;&gt;S011 -->\n",
       "<g id=\"edge11\" class=\"edge\"><title>S01&#45;&gt;S011</title>\n",
       "<path fill=\"none\" stroke=\"black\" d=\"M609.329,-51.787C629.477,-42.7691 661.124,-31.1096 690.072,-31.1096 690.072,-31.1096 690.072,-31.1096 998.814,-31.1096 1049.82,-31.1096 1079.92,-198.078 1091.08,-275.06\"/>\n",
       "<polygon fill=\"black\" stroke=\"black\" points=\"1087.66,-275.888 1092.53,-285.299 1094.59,-274.907 1087.66,-275.888\"/>\n",
       "<text text-anchor=\"middle\" x=\"848.443\" y=\"-33.9096\" font-family=\"Times,serif\" font-size=\"14.00\">1</text>\n",
       "</g>\n",
       "<!-- S01&#45;&gt;S010 -->\n",
       "<g id=\"edge10\" class=\"edge\"><title>S01&#45;&gt;S010</title>\n",
       "<path fill=\"none\" stroke=\"black\" d=\"M599.965,-82.491C611.527,-103.171 629.76,-136.171 644.782,-165.11 654.609,-184.041 665.158,-205.403 673.601,-222.775\"/>\n",
       "<polygon fill=\"black\" stroke=\"black\" points=\"670.547,-224.5 678.057,-231.974 676.847,-221.449 670.547,-224.5\"/>\n",
       "<text text-anchor=\"middle\" x=\"641.282\" y=\"-167.91\" font-family=\"Times,serif\" font-size=\"14.00\">0</text>\n",
       "</g>\n",
       "<!-- S11&#45;&gt;F111 -->\n",
       "<g id=\"edge15\" class=\"edge\"><title>S11&#45;&gt;F111</title>\n",
       "<path fill=\"none\" stroke=\"black\" d=\"M295.442,-251.754C307.593,-259.839 323.712,-270.564 338.077,-280.122\"/>\n",
       "<polygon fill=\"black\" stroke=\"black\" points=\"336.478,-283.262 346.743,-285.888 340.356,-277.434 336.478,-283.262\"/>\n",
       "<text text-anchor=\"middle\" x=\"320.483\" y=\"-272.91\" font-family=\"Times,serif\" font-size=\"14.00\">1</text>\n",
       "</g>\n",
       "<!-- S11&#45;&gt;F110 -->\n",
       "<g id=\"edge14\" class=\"edge\"><title>S11&#45;&gt;F110</title>\n",
       "<path fill=\"none\" stroke=\"black\" d=\"M299.448,-239.118C325.379,-239.496 368.689,-241.241 405.268,-248.11 416.922,-250.298 429.323,-253.707 440.573,-257.237\"/>\n",
       "<polygon fill=\"black\" stroke=\"black\" points=\"439.524,-260.576 450.116,-260.342 441.69,-253.919 439.524,-260.576\"/>\n",
       "<text text-anchor=\"middle\" x=\"373.626\" y=\"-250.91\" font-family=\"Times,serif\" font-size=\"14.00\">0</text>\n",
       "</g>\n",
       "<!-- F101 -->\n",
       "<g id=\"node13\" class=\"node\"><title>F101</title>\n",
       "<ellipse fill=\"none\" stroke=\"black\" cx=\"587.492\" cy=\"-271.11\" rx=\"28.1078\" ry=\"28.1078\"/>\n",
       "<ellipse fill=\"none\" stroke=\"black\" cx=\"587.492\" cy=\"-271.11\" rx=\"32.082\" ry=\"32.082\"/>\n",
       "<text text-anchor=\"middle\" x=\"587.492\" y=\"-266.91\" font-family=\"Times,serif\" font-size=\"14.00\">F101</text>\n",
       "</g>\n",
       "<!-- S010&#45;&gt;F101 -->\n",
       "<g id=\"edge21\" class=\"edge\"><title>S010&#45;&gt;F101</title>\n",
       "<path fill=\"none\" stroke=\"black\" d=\"M663.013,-260.839C652.766,-262.251 640.855,-263.893 629.603,-265.444\"/>\n",
       "<polygon fill=\"black\" stroke=\"black\" points=\"628.95,-262 619.521,-266.833 629.905,-268.935 628.95,-262\"/>\n",
       "<text text-anchor=\"middle\" x=\"641.282\" y=\"-266.91\" font-family=\"Times,serif\" font-size=\"14.00\">1</text>\n",
       "</g>\n",
       "<!-- F100 -->\n",
       "<g id=\"node16\" class=\"node\"><title>F100</title>\n",
       "<ellipse fill=\"none\" stroke=\"black\" cx=\"794.653\" cy=\"-201.11\" rx=\"28.1078\" ry=\"28.1078\"/>\n",
       "<ellipse fill=\"none\" stroke=\"black\" cx=\"794.653\" cy=\"-201.11\" rx=\"32.082\" ry=\"32.082\"/>\n",
       "<text text-anchor=\"middle\" x=\"794.653\" y=\"-196.91\" font-family=\"Times,serif\" font-size=\"14.00\">F100</text>\n",
       "</g>\n",
       "<!-- S010&#45;&gt;F100 -->\n",
       "<g id=\"edge20\" class=\"edge\"><title>S010&#45;&gt;F100</title>\n",
       "<path fill=\"none\" stroke=\"black\" d=\"M716.146,-243.838C728.254,-237.163 743.193,-228.927 756.715,-221.473\"/>\n",
       "<polygon fill=\"black\" stroke=\"black\" points=\"758.729,-224.359 765.797,-216.466 755.35,-218.229 758.729,-224.359\"/>\n",
       "<text text-anchor=\"middle\" x=\"740.863\" y=\"-233.91\" font-family=\"Times,serif\" font-size=\"14.00\">0</text>\n",
       "</g>\n",
       "<!-- S10&#45;&gt;F101 -->\n",
       "<g id=\"edge13\" class=\"edge\"><title>S10&#45;&gt;F101</title>\n",
       "<path fill=\"none\" stroke=\"black\" d=\"M495.87,-159.186C512.385,-179.582 539.587,-213.179 559.887,-238.251\"/>\n",
       "<polygon fill=\"black\" stroke=\"black\" points=\"557.2,-240.494 566.213,-246.064 562.64,-236.089 557.2,-240.494\"/>\n",
       "<text text-anchor=\"middle\" x=\"533.701\" y=\"-212.91\" font-family=\"Times,serif\" font-size=\"14.00\">1</text>\n",
       "</g>\n",
       "<!-- S10&#45;&gt;F100 -->\n",
       "<g id=\"edge12\" class=\"edge\"><title>S10&#45;&gt;F100</title>\n",
       "<path fill=\"none\" stroke=\"black\" d=\"M504.015,-137.08C535.887,-132.193 595.424,-125.804 644.782,-136.11 685.262,-144.561 728.21,-164.656 757.519,-180.283\"/>\n",
       "<polygon fill=\"black\" stroke=\"black\" points=\"756.077,-183.483 766.536,-185.179 759.418,-177.331 756.077,-183.483\"/>\n",
       "<text text-anchor=\"middle\" x=\"641.282\" y=\"-138.91\" font-family=\"Times,serif\" font-size=\"14.00\">0</text>\n",
       "</g>\n",
       "<!-- F101&#45;&gt;S011 -->\n",
       "<g id=\"edge27\" class=\"edge\"><title>F101&#45;&gt;S011</title>\n",
       "<path fill=\"none\" stroke=\"black\" d=\"M614.861,-288.678C634.684,-300.187 662.974,-313.11 690.072,-313.11 690.072,-313.11 690.072,-313.11 998.814,-313.11 1018.57,-313.11 1040.59,-313.11 1058.68,-313.11\"/>\n",
       "<polygon fill=\"black\" stroke=\"black\" points=\"1058.82,-316.61 1068.82,-313.11 1058.82,-309.61 1058.82,-316.61\"/>\n",
       "<text text-anchor=\"middle\" x=\"848.443\" y=\"-315.91\" font-family=\"Times,serif\" font-size=\"14.00\">1</text>\n",
       "</g>\n",
       "<!-- F101&#45;&gt;S010 -->\n",
       "<g id=\"edge26\" class=\"edge\"><title>F101&#45;&gt;S010</title>\n",
       "<path fill=\"none\" stroke=\"black\" d=\"M615.504,-254.568C622.513,-251.083 630.223,-247.917 637.782,-246.11 643.196,-244.815 648.944,-244.732 654.573,-245.363\"/>\n",
       "<polygon fill=\"black\" stroke=\"black\" points=\"654.013,-248.818 664.477,-247.163 655.265,-241.931 654.013,-248.818\"/>\n",
       "<text text-anchor=\"middle\" x=\"641.282\" y=\"-248.91\" font-family=\"Times,serif\" font-size=\"14.00\">0</text>\n",
       "</g>\n",
       "<!-- F111&#45;&gt;F111 -->\n",
       "<g id=\"edge31\" class=\"edge\"><title>F111&#45;&gt;F111</title>\n",
       "<path fill=\"none\" stroke=\"black\" d=\"M363.878,-333.65C363.775,-344.218 367.024,-352.752 373.626,-352.752 377.855,-352.752 380.708,-349.25 382.186,-343.954\"/>\n",
       "<polygon fill=\"black\" stroke=\"black\" points=\"385.705,-343.985 383.373,-333.65 378.751,-343.183 385.705,-343.985\"/>\n",
       "<text text-anchor=\"middle\" x=\"373.626\" y=\"-355.552\" font-family=\"Times,serif\" font-size=\"14.00\">1</text>\n",
       "</g>\n",
       "<!-- F111&#45;&gt;F110 -->\n",
       "<g id=\"edge30\" class=\"edge\"><title>F111&#45;&gt;F110</title>\n",
       "<path fill=\"none\" stroke=\"black\" d=\"M404.044,-294.111C415.091,-290.731 427.836,-286.833 439.657,-283.217\"/>\n",
       "<polygon fill=\"black\" stroke=\"black\" points=\"440.773,-286.535 449.312,-280.263 438.725,-279.841 440.773,-286.535\"/>\n",
       "<text text-anchor=\"middle\" x=\"426.768\" y=\"-290.91\" font-family=\"Times,serif\" font-size=\"14.00\">0</text>\n",
       "</g>\n",
       "<!-- F110&#45;&gt;F101 -->\n",
       "<g id=\"edge29\" class=\"edge\"><title>F110&#45;&gt;F101</title>\n",
       "<path fill=\"none\" stroke=\"black\" d=\"M512.246,-271.11C522.448,-271.11 533.962,-271.11 544.823,-271.11\"/>\n",
       "<polygon fill=\"black\" stroke=\"black\" points=\"544.974,-274.61 554.974,-271.11 544.974,-267.61 544.974,-274.61\"/>\n",
       "<text text-anchor=\"middle\" x=\"533.701\" y=\"-273.91\" font-family=\"Times,serif\" font-size=\"14.00\">1</text>\n",
       "</g>\n",
       "<!-- F110&#45;&gt;F100 -->\n",
       "<g id=\"edge28\" class=\"edge\"><title>F110&#45;&gt;F100</title>\n",
       "<path fill=\"none\" stroke=\"black\" d=\"M507.15,-253.502C520.854,-245.049 538.302,-235.59 555.201,-230.11 621.91,-208.477 703.869,-202.751 752.259,-201.369\"/>\n",
       "<polygon fill=\"black\" stroke=\"black\" points=\"752.435,-204.866 762.35,-201.13 752.27,-197.868 752.435,-204.866\"/>\n",
       "<text text-anchor=\"middle\" x=\"641.282\" y=\"-213.91\" font-family=\"Times,serif\" font-size=\"14.00\">0</text>\n",
       "</g>\n",
       "<!-- F100&#45;&gt;S000 -->\n",
       "<g id=\"edge24\" class=\"edge\"><title>F100&#45;&gt;S000</title>\n",
       "<path fill=\"none\" stroke=\"black\" d=\"M822.342,-184.294C835.458,-176.031 851.365,-166.009 865.14,-157.33\"/>\n",
       "<polygon fill=\"black\" stroke=\"black\" points=\"867.238,-160.145 873.833,-151.853 863.507,-154.222 867.238,-160.145\"/>\n",
       "<text text-anchor=\"middle\" x=\"848.443\" y=\"-171.91\" font-family=\"Times,serif\" font-size=\"14.00\">0</text>\n",
       "</g>\n",
       "<!-- F100&#45;&gt;S001 -->\n",
       "<g id=\"edge25\" class=\"edge\"><title>F100&#45;&gt;S001</title>\n",
       "<path fill=\"none\" stroke=\"black\" d=\"M826.644,-206.039C862.406,-211.728 921.19,-221.08 959.45,-227.166\"/>\n",
       "<polygon fill=\"black\" stroke=\"black\" points=\"959.235,-230.676 969.661,-228.79 960.335,-223.763 959.235,-230.676\"/>\n",
       "<text text-anchor=\"middle\" x=\"898.234\" y=\"-224.91\" font-family=\"Times,serif\" font-size=\"14.00\">1</text>\n",
       "</g>\n",
       "</g>\n",
       "</svg>\n"
      ],
      "text/plain": [
       "<graphviz.dot.Digraph at 0x10a667a90>"
      ]
     },
     "execution_count": 83,
     "metadata": {},
     "output_type": "execute_result"
    }
   ],
   "source": [
    "dotObj_dfa(thirdlastis1)"
   ]
  },
  {
   "cell_type": "code",
   "execution_count": 84,
   "metadata": {
    "run_control": {
     "frozen": false,
     "read_only": false
    }
   },
   "outputs": [
    {
     "name": "stderr",
     "output_type": "stream",
     "text": [
      "Generating LALR tables\n"
     ]
    }
   ],
   "source": [
    "dped1=md2mc(src=\"File\", fname=\"machines/dfafiles/pedagogical2.dfa\")\n",
    "#machines/dfafiles/pedagogical2.dfa"
   ]
  },
  {
   "cell_type": "code",
   "execution_count": 85,
   "metadata": {
    "run_control": {
     "frozen": false,
     "read_only": false
    }
   },
   "outputs": [
    {
     "data": {
      "image/svg+xml": [
       "<?xml version=\"1.0\" encoding=\"UTF-8\" standalone=\"no\"?>\n",
       "<!DOCTYPE svg PUBLIC \"-//W3C//DTD SVG 1.1//EN\"\n",
       " \"http://www.w3.org/Graphics/SVG/1.1/DTD/svg11.dtd\">\n",
       "<!-- Generated by graphviz version 2.38.0 (20140413.2041)\n",
       " -->\n",
       "<!-- Title: %3 Pages: 1 -->\n",
       "<svg width=\"473pt\" height=\"77pt\"\n",
       " viewBox=\"0.00 0.00 472.79 77.00\" xmlns=\"http://www.w3.org/2000/svg\" xmlns:xlink=\"http://www.w3.org/1999/xlink\">\n",
       "<g id=\"graph0\" class=\"graph\" transform=\"scale(1 1) rotate(0) translate(4 73)\">\n",
       "<title>%3</title>\n",
       "<polygon fill=\"white\" stroke=\"none\" points=\"-4,4 -4,-73 468.787,-73 468.787,4 -4,4\"/>\n",
       "<!-- EMPTY -->\n",
       "<g id=\"node1\" class=\"node\"><title>EMPTY</title>\n",
       "</g>\n",
       "<!-- I -->\n",
       "<g id=\"node3\" class=\"node\"><title>I</title>\n",
       "<ellipse fill=\"none\" stroke=\"black\" cx=\"109\" cy=\"-51\" rx=\"18\" ry=\"18\"/>\n",
       "<text text-anchor=\"middle\" x=\"109\" y=\"-46.8\" font-family=\"Times,serif\" font-size=\"14.00\">I</text>\n",
       "</g>\n",
       "<!-- EMPTY&#45;&gt;I -->\n",
       "<g id=\"edge1\" class=\"edge\"><title>EMPTY&#45;&gt;I</title>\n",
       "<path fill=\"none\" stroke=\"black\" d=\"M54.195,-51C62.6538,-51 72.0513,-51 80.5951,-51\"/>\n",
       "<polygon fill=\"black\" stroke=\"black\" points=\"80.8257,-54.5001 90.8257,-51 80.8257,-47.5001 80.8257,-54.5001\"/>\n",
       "</g>\n",
       "<!-- B -->\n",
       "<g id=\"node2\" class=\"node\"><title>B</title>\n",
       "<ellipse fill=\"none\" stroke=\"black\" cx=\"267\" cy=\"-43\" rx=\"18\" ry=\"18\"/>\n",
       "<text text-anchor=\"middle\" x=\"267\" y=\"-38.8\" font-family=\"Times,serif\" font-size=\"14.00\">B</text>\n",
       "</g>\n",
       "<!-- F1 -->\n",
       "<g id=\"node6\" class=\"node\"><title>F1</title>\n",
       "<ellipse fill=\"none\" stroke=\"black\" cx=\"351.447\" cy=\"-43\" rx=\"19.4029\" ry=\"19.4029\"/>\n",
       "<ellipse fill=\"none\" stroke=\"black\" cx=\"351.447\" cy=\"-43\" rx=\"23.3939\" ry=\"23.3939\"/>\n",
       "<text text-anchor=\"middle\" x=\"351.447\" y=\"-38.8\" font-family=\"Times,serif\" font-size=\"14.00\">F1</text>\n",
       "</g>\n",
       "<!-- B&#45;&gt;F1 -->\n",
       "<g id=\"edge6\" class=\"edge\"><title>B&#45;&gt;F1</title>\n",
       "<path fill=\"none\" stroke=\"black\" d=\"M285.083,-43C294.448,-43 306.379,-43 317.478,-43\"/>\n",
       "<polygon fill=\"black\" stroke=\"black\" points=\"317.753,-46.5001 327.753,-43 317.753,-39.5001 317.753,-46.5001\"/>\n",
       "<text text-anchor=\"middle\" x=\"306.5\" y=\"-45.8\" font-family=\"Times,serif\" font-size=\"14.00\">1</text>\n",
       "</g>\n",
       "<!-- I&#45;&gt;B -->\n",
       "<g id=\"edge3\" class=\"edge\"><title>I&#45;&gt;B</title>\n",
       "<path fill=\"none\" stroke=\"black\" d=\"M127.081,-52.1718C132.778,-52.5103 139.16,-52.8333 145,-53 183.248,-54.0919 192.968,-53.2075 231,-49 233.574,-48.7153 236.245,-48.3625 238.912,-47.9716\"/>\n",
       "<polygon fill=\"black\" stroke=\"black\" points=\"239.658,-51.3965 248.968,-46.3389 238.536,-44.4869 239.658,-51.3965\"/>\n",
       "<text text-anchor=\"middle\" x=\"188\" y=\"-55.8\" font-family=\"Times,serif\" font-size=\"14.00\">1</text>\n",
       "</g>\n",
       "<!-- A -->\n",
       "<g id=\"node4\" class=\"node\"><title>A</title>\n",
       "<ellipse fill=\"none\" stroke=\"black\" cx=\"188\" cy=\"-18\" rx=\"18\" ry=\"18\"/>\n",
       "<text text-anchor=\"middle\" x=\"188\" y=\"-13.8\" font-family=\"Times,serif\" font-size=\"14.00\">A</text>\n",
       "</g>\n",
       "<!-- I&#45;&gt;A -->\n",
       "<g id=\"edge2\" class=\"edge\"><title>I&#45;&gt;A</title>\n",
       "<path fill=\"none\" stroke=\"black\" d=\"M125.954,-44.1624C136.279,-39.7377 149.943,-33.8816 161.726,-28.8319\"/>\n",
       "<polygon fill=\"black\" stroke=\"black\" points=\"163.253,-31.9851 171.066,-24.8289 160.496,-25.5511 163.253,-31.9851\"/>\n",
       "<text text-anchor=\"middle\" x=\"148.5\" y=\"-37.8\" font-family=\"Times,serif\" font-size=\"14.00\">0</text>\n",
       "</g>\n",
       "<!-- A&#45;&gt;B -->\n",
       "<g id=\"edge4\" class=\"edge\"><title>A&#45;&gt;B</title>\n",
       "<path fill=\"none\" stroke=\"black\" d=\"M205.33,-23.3019C215.436,-26.5832 228.635,-30.8685 240.14,-34.6038\"/>\n",
       "<polygon fill=\"black\" stroke=\"black\" points=\"239.102,-37.9466 249.694,-37.7058 241.263,-31.2887 239.102,-37.9466\"/>\n",
       "<text text-anchor=\"middle\" x=\"227.5\" y=\"-33.8\" font-family=\"Times,serif\" font-size=\"14.00\">0</text>\n",
       "</g>\n",
       "<!-- A&#45;&gt;B -->\n",
       "<g id=\"edge5\" class=\"edge\"><title>A&#45;&gt;B</title>\n",
       "<path fill=\"none\" stroke=\"black\" d=\"M204.965,-11.4541C212.985,-9.12696 222.731,-7.78952 231,-11 237.246,-13.4248 243.057,-17.5414 248.079,-22.0292\"/>\n",
       "<polygon fill=\"black\" stroke=\"black\" points=\"245.717,-24.6167 255.271,-29.1973 250.659,-19.6589 245.717,-24.6167\"/>\n",
       "<text text-anchor=\"middle\" x=\"227.5\" y=\"-13.8\" font-family=\"Times,serif\" font-size=\"14.00\">1</text>\n",
       "</g>\n",
       "<!-- F2 -->\n",
       "<g id=\"node5\" class=\"node\"><title>F2</title>\n",
       "<ellipse fill=\"none\" stroke=\"black\" cx=\"441.341\" cy=\"-43\" rx=\"19.4029\" ry=\"19.4029\"/>\n",
       "<ellipse fill=\"none\" stroke=\"black\" cx=\"441.341\" cy=\"-43\" rx=\"23.3939\" ry=\"23.3939\"/>\n",
       "<text text-anchor=\"middle\" x=\"441.341\" y=\"-38.8\" font-family=\"Times,serif\" font-size=\"14.00\">F2</text>\n",
       "</g>\n",
       "<!-- F1&#45;&gt;F2 -->\n",
       "<g id=\"edge7\" class=\"edge\"><title>F1&#45;&gt;F2</title>\n",
       "<path fill=\"none\" stroke=\"black\" d=\"M375.082,-43C385.026,-43 396.892,-43 407.762,-43\"/>\n",
       "<polygon fill=\"black\" stroke=\"black\" points=\"407.783,-46.5001 417.782,-43 407.782,-39.5001 407.783,-46.5001\"/>\n",
       "<text text-anchor=\"middle\" x=\"396.394\" y=\"-45.8\" font-family=\"Times,serif\" font-size=\"14.00\">0</text>\n",
       "</g>\n",
       "<!-- F1&#45;&gt;F2 -->\n",
       "<g id=\"edge8\" class=\"edge\"><title>F1&#45;&gt;F2</title>\n",
       "<path fill=\"none\" stroke=\"black\" d=\"M371.433,-30.3747C379.954,-26.1382 390.242,-22.9493 399.894,-25 403.568,-25.7807 407.314,-26.9194 410.97,-28.251\"/>\n",
       "<polygon fill=\"black\" stroke=\"black\" points=\"409.747,-31.5327 420.326,-32.1126 412.418,-25.0622 409.747,-31.5327\"/>\n",
       "<text text-anchor=\"middle\" x=\"396.394\" y=\"-27.8\" font-family=\"Times,serif\" font-size=\"14.00\">1</text>\n",
       "</g>\n",
       "</g>\n",
       "</svg>\n"
      ],
      "text/plain": [
       "<graphviz.dot.Digraph at 0x10a677c50>"
      ]
     },
     "execution_count": 85,
     "metadata": {},
     "output_type": "execute_result"
    }
   ],
   "source": [
    "dotObj_dfa(dped1)"
   ]
  },
  {
   "cell_type": "code",
   "execution_count": 86,
   "metadata": {
    "run_control": {
     "frozen": false,
     "read_only": false
    }
   },
   "outputs": [
    {
     "name": "stderr",
     "output_type": "stream",
     "text": [
      "Generating LALR tables\n"
     ]
    }
   ],
   "source": [
    "secondLastIs1 = md2mc('''\n",
    "!!------------------------------------------------------------\n",
    "!! This DFA looks for patterns of the form ....1.\n",
    "!! i.e., the second-last (counting from the end-point) is a 1\n",
    "!!\n",
    "!! DFAs find such patterns \"very stressful to handle\",\n",
    "!! as they are kept guessing of the form  'are we there yet?'\n",
    "!! 'are we seeing the second-last' ?\n",
    "!! They must keep all the failure options at hand. Even after\n",
    "!! a 'fleeting glimpse' of the second-last, more inputs can\n",
    "!! come barreling-in to make that \"lucky 1\" a non-second-last.\n",
    "!!\n",
    "!! We take 7 states in the DFA solution.\n",
    "!!------------------------------------------------------------\n",
    "\n",
    "DFA\n",
    "!!------------------------------------------------------------\n",
    "!! State : in ->  tostate !! comment\n",
    "!!------------------------------------------------------------\n",
    "\n",
    "I   :  0 ->  S0  !! Enter at init state I\n",
    "I   :  1 ->  S1  !! Record bit seen in state letter\n",
    "                     !! i.e., S0 means \"state after seeing a 0\"\n",
    "\t\t\t \n",
    "S0  :  0 ->  S00 !! continue recording input seen\n",
    "S0  :  1 ->  S01 !! in state-letter. This is a problem-specific\n",
    "                 !! way of compressing the input seen so far.\n",
    "\n",
    "S1  :  0 ->  F10 !! We now have a \"second last\" available!\n",
    "S1  :  1 ->  F11 !! Both F10 and F10 are \"F\" (final)\n",
    "\n",
    "S00 :  0 ->  S00 !! History of things seen is still 00\n",
    "S00 :  1 ->  S01 !! Remember 01 in the state\n",
    "\n",
    "S01 :  0 ->  F10 !! We again have a second-last of 1\n",
    "S01 :  1 ->  F11 !! We are in F11 because of 11 being last seen\n",
    "\n",
    "F10 :  0 ->  S00 !! The second-last 1 gets pushed-out\n",
    "F10 :  1 ->  S01 !! The second-last 1 gets pushed-out here too\n",
    "\n",
    "F11 :  0 ->  F10 !! Still we have a second-last 1\n",
    "F11 :  1 ->  F11 !! Stay in F11, as last two seen are 11\n",
    "\n",
    "!!------------------------------------------------------------\n",
    "''')"
   ]
  },
  {
   "cell_type": "code",
   "execution_count": 87,
   "metadata": {
    "run_control": {
     "frozen": false,
     "read_only": false
    }
   },
   "outputs": [],
   "source": [
    "from math import floor, log, pow\n",
    "def nthnumeric(N, Sigma={'a','b'}):\n",
    "    \"\"\"Assume Sigma is a 2-sized list/set of chars (default {'a','b'}). \n",
    "       Produce the Nth string in numeric order, where N >= 0.\n",
    "       Idea : Given N, get b = floor(log_2(N+1)) - need that \n",
    "       many places; what to fill in the places is the binary \n",
    "       code for N - (2^b - 1) with 0 as Sigma[0] and 1 as Sigma[1].    \n",
    "    \"\"\"\n",
    "    if (type(Sigma)==set):\n",
    "       S = list(Sigma)\n",
    "    else:\n",
    "       assert(type(Sigma)==list\n",
    "       ), \"Expected to be given set/list for arg2 of nthnumeric.\"\n",
    "       S = Sigma\n",
    "    assert(len(Sigma)==2\n",
    "          ),\"Expected to be given a Sigma of length 2.\"\n",
    "    if(N==0):\n",
    "        return ''\n",
    "    else:\n",
    "        width = floor(log(N+1, 2))\n",
    "        tofill = int(N - pow(2, width) + 1)\n",
    "        relevant_binstr = bin(tofill)[2::] # strip the 0b \n",
    "                                           # in the leading string\n",
    "        len_to_makeup = width - len(relevant_binstr)\n",
    "        return (S[0]*len_to_makeup + \n",
    "                shomo(relevant_binstr,\n",
    "                      lambda x: S[1] if x=='1' else S[0]))"
   ]
  },
  {
   "cell_type": "code",
   "execution_count": 88,
   "metadata": {
    "run_control": {
     "frozen": false,
     "read_only": false
    }
   },
   "outputs": [
    {
     "data": {
      "text/plain": [
       "'0101'"
      ]
     },
     "execution_count": 88,
     "metadata": {},
     "output_type": "execute_result"
    }
   ],
   "source": [
    "nthnumeric(20,['0','1'])"
   ]
  },
  {
   "cell_type": "code",
   "execution_count": 89,
   "metadata": {
    "run_control": {
     "frozen": false,
     "read_only": false
    }
   },
   "outputs": [
    {
     "data": {
      "text/plain": [
       "'S01'"
      ]
     },
     "execution_count": 89,
     "metadata": {},
     "output_type": "execute_result"
    }
   ],
   "source": [
    "run_dfa(secondLastIs1, '0101')"
   ]
  },
  {
   "cell_type": "code",
   "execution_count": 90,
   "metadata": {
    "run_control": {
     "frozen": false,
     "read_only": false
    }
   },
   "outputs": [
    {
     "data": {
      "text/plain": [
       "False"
      ]
     },
     "execution_count": 90,
     "metadata": {},
     "output_type": "execute_result"
    }
   ],
   "source": [
    "accepts_dfa(secondLastIs1, '0101')"
   ]
  },
  {
   "cell_type": "code",
   "execution_count": 91,
   "metadata": {
    "run_control": {
     "frozen": false,
     "read_only": false
    }
   },
   "outputs": [
    {
     "name": "stdout",
     "output_type": "stream",
     "text": [
      "This DFA rejects  \n",
      "This DFA rejects  0\n",
      "This DFA rejects  1\n",
      "This DFA rejects  00\n",
      "This DFA rejects  01\n",
      "This DFA accepts  10\n",
      "This DFA accepts  11\n",
      "This DFA rejects  000\n",
      "This DFA rejects  001\n",
      "This DFA accepts  010\n",
      "This DFA accepts  011\n",
      "This DFA rejects  100\n"
     ]
    }
   ],
   "source": [
    "tests = [ nthnumeric(i, ['0','1']) for i in range(12) ]\n",
    "for t in tests:\n",
    "    if accepts_dfa(secondLastIs1, t):\n",
    "        print(\"This DFA accepts \", t)\n",
    "    else:\n",
    "        print(\"This DFA rejects \", t)"
   ]
  },
  {
   "cell_type": "code",
   "execution_count": 92,
   "metadata": {
    "run_control": {
     "frozen": false,
     "read_only": false
    }
   },
   "outputs": [
    {
     "name": "stdout",
     "output_type": "stream",
     "text": [
      "Help on function run_dfa in module jove.Def_DFA:\n",
      "\n",
      "run_dfa(D, s)\n",
      "    In : D (consistent DFA)\n",
      "         s (string over D's sigma, including \"\")\n",
      "    Out: next state of D[\"q0\"] via string s\n",
      "\n"
     ]
    }
   ],
   "source": [
    "help(run_dfa)"
   ]
  },
  {
   "cell_type": "markdown",
   "metadata": {
    "run_control": {
     "frozen": false,
     "read_only": false
    }
   },
   "source": [
    "This is an extensive illustration of union, intersection and complementation, DFA minimization, isomorphism test, language equivalence test, and an application of DeMorgan's law"
   ]
  },
  {
   "cell_type": "code",
   "execution_count": 93,
   "metadata": {
    "run_control": {
     "frozen": false,
     "read_only": false
    }
   },
   "outputs": [
    {
     "name": "stderr",
     "output_type": "stream",
     "text": [
      "Generating LALR tables\n"
     ]
    }
   ],
   "source": [
    "dfaOdd1s = md2mc('''\n",
    "DFA\n",
    "I : 0 -> I\n",
    "I : 1 -> F\n",
    "F : 0 -> F \n",
    "F : 1 -> I\n",
    "''')"
   ]
  },
  {
   "cell_type": "code",
   "execution_count": 94,
   "metadata": {
    "run_control": {
     "frozen": false,
     "read_only": false
    }
   },
   "outputs": [
    {
     "data": {
      "image/svg+xml": [
       "<?xml version=\"1.0\" encoding=\"UTF-8\" standalone=\"no\"?>\n",
       "<!DOCTYPE svg PUBLIC \"-//W3C//DTD SVG 1.1//EN\"\n",
       " \"http://www.w3.org/Graphics/SVG/1.1/DTD/svg11.dtd\">\n",
       "<!-- Generated by graphviz version 2.38.0 (20140413.2041)\n",
       " -->\n",
       "<!-- Title: %3 Pages: 1 -->\n",
       "<svg width=\"222pt\" height=\"84pt\"\n",
       " viewBox=\"0.00 0.00 222.00 84.00\" xmlns=\"http://www.w3.org/2000/svg\" xmlns:xlink=\"http://www.w3.org/1999/xlink\">\n",
       "<g id=\"graph0\" class=\"graph\" transform=\"scale(1 1) rotate(0) translate(4 80)\">\n",
       "<title>%3</title>\n",
       "<polygon fill=\"white\" stroke=\"none\" points=\"-4,4 -4,-80 218,-80 218,4 -4,4\"/>\n",
       "<!-- EMPTY -->\n",
       "<g id=\"node1\" class=\"node\"><title>EMPTY</title>\n",
       "</g>\n",
       "<!-- I -->\n",
       "<g id=\"node2\" class=\"node\"><title>I</title>\n",
       "<ellipse fill=\"none\" stroke=\"black\" cx=\"109\" cy=\"-22\" rx=\"18\" ry=\"18\"/>\n",
       "<text text-anchor=\"middle\" x=\"109\" y=\"-17.8\" font-family=\"Times,serif\" font-size=\"14.00\">I</text>\n",
       "</g>\n",
       "<!-- EMPTY&#45;&gt;I -->\n",
       "<g id=\"edge1\" class=\"edge\"><title>EMPTY&#45;&gt;I</title>\n",
       "<path fill=\"none\" stroke=\"black\" d=\"M54.195,-22C62.6538,-22 72.0513,-22 80.5951,-22\"/>\n",
       "<polygon fill=\"black\" stroke=\"black\" points=\"80.8257,-25.5001 90.8257,-22 80.8257,-18.5001 80.8257,-25.5001\"/>\n",
       "</g>\n",
       "<!-- I&#45;&gt;I -->\n",
       "<g id=\"edge2\" class=\"edge\"><title>I&#45;&gt;I</title>\n",
       "<path fill=\"none\" stroke=\"black\" d=\"M102.621,-39.0373C101.319,-48.8579 103.445,-58 109,-58 112.472,-58 114.604,-54.4289 115.398,-49.3529\"/>\n",
       "<polygon fill=\"black\" stroke=\"black\" points=\"118.897,-49.031 115.379,-39.0373 111.897,-49.0435 118.897,-49.031\"/>\n",
       "<text text-anchor=\"middle\" x=\"109\" y=\"-60.8\" font-family=\"Times,serif\" font-size=\"14.00\">0</text>\n",
       "</g>\n",
       "<!-- F -->\n",
       "<g id=\"node3\" class=\"node\"><title>F</title>\n",
       "<ellipse fill=\"none\" stroke=\"black\" cx=\"192\" cy=\"-22\" rx=\"18\" ry=\"18\"/>\n",
       "<ellipse fill=\"none\" stroke=\"black\" cx=\"192\" cy=\"-22\" rx=\"22\" ry=\"22\"/>\n",
       "<text text-anchor=\"middle\" x=\"192\" y=\"-17.8\" font-family=\"Times,serif\" font-size=\"14.00\">F</text>\n",
       "</g>\n",
       "<!-- I&#45;&gt;F -->\n",
       "<g id=\"edge3\" class=\"edge\"><title>I&#45;&gt;F</title>\n",
       "<path fill=\"none\" stroke=\"black\" d=\"M127.178,-22C136.61,-22 148.601,-22 159.637,-22\"/>\n",
       "<polygon fill=\"black\" stroke=\"black\" points=\"159.811,-25.5001 169.811,-22 159.811,-18.5001 159.811,-25.5001\"/>\n",
       "<text text-anchor=\"middle\" x=\"148.5\" y=\"-24.8\" font-family=\"Times,serif\" font-size=\"14.00\">1</text>\n",
       "</g>\n",
       "<!-- F&#45;&gt;I -->\n",
       "<g id=\"edge5\" class=\"edge\"><title>F&#45;&gt;I</title>\n",
       "<path fill=\"none\" stroke=\"black\" d=\"M173.45,-9.63813C165.02,-5.13585 154.669,-1.65948 145,-4 141.26,-4.9053 137.472,-6.28328 133.838,-7.8822\"/>\n",
       "<polygon fill=\"black\" stroke=\"black\" points=\"132.086,-4.84541 124.717,-12.4577 135.225,-11.1023 132.086,-4.84541\"/>\n",
       "<text text-anchor=\"middle\" x=\"148.5\" y=\"-6.8\" font-family=\"Times,serif\" font-size=\"14.00\">1</text>\n",
       "</g>\n",
       "<!-- F&#45;&gt;F -->\n",
       "<g id=\"edge4\" class=\"edge\"><title>F&#45;&gt;F</title>\n",
       "<path fill=\"none\" stroke=\"black\" d=\"M184.317,-42.9908C183.369,-53.0872 185.93,-62 192,-62 195.889,-62 198.337,-58.3422 199.346,-53.0587\"/>\n",
       "<polygon fill=\"black\" stroke=\"black\" points=\"202.846,-53.1023 199.683,-42.9908 195.85,-52.868 202.846,-53.1023\"/>\n",
       "<text text-anchor=\"middle\" x=\"192\" y=\"-64.8\" font-family=\"Times,serif\" font-size=\"14.00\">0</text>\n",
       "</g>\n",
       "</g>\n",
       "</svg>\n"
      ],
      "text/plain": [
       "<graphviz.dot.Digraph at 0x10a211cc0>"
      ]
     },
     "execution_count": 94,
     "metadata": {},
     "output_type": "execute_result"
    }
   ],
   "source": [
    "dotObj_dfa(dfaOdd1s)"
   ]
  },
  {
   "cell_type": "code",
   "execution_count": 95,
   "metadata": {
    "run_control": {
     "frozen": false,
     "read_only": false
    }
   },
   "outputs": [
    {
     "data": {
      "text/plain": [
       "'// do_St33\\ndigraph {\\n\\tgraph [rankdir=LR]\\n\\t\\tEMPTY [label=\"\" shape=plaintext]\\n\\t\\tI [label=I peripheries=1 shape=circle]\\n\\t\\tF [label=F peripheries=2 shape=circle]\\n\\t\\t\\tEMPTY -> I\\n\\t\\t\\tI -> I [label=0]\\n\\t\\t\\tI -> F [label=1]\\n\\t\\t\\tF -> F [label=0]\\n\\t\\t\\tF -> I [label=1]\\n}'"
      ]
     },
     "execution_count": 95,
     "metadata": {},
     "output_type": "execute_result"
    }
   ],
   "source": [
    "dotObj_dfa(dfaOdd1s).source"
   ]
  },
  {
   "cell_type": "code",
   "execution_count": 96,
   "metadata": {
    "run_control": {
     "frozen": false,
     "read_only": false
    }
   },
   "outputs": [
    {
     "name": "stderr",
     "output_type": "stream",
     "text": [
      "Generating LALR tables\n"
     ]
    }
   ],
   "source": [
    "ends0101 = md2mc('''\n",
    "DFA \n",
    "I     : 0 -> S0  \n",
    "I     : 1 -> I \n",
    "S0    : 0 -> S0 \n",
    "S0    : 1 -> S01 \n",
    "S01   : 0 -> S010 \n",
    "S01   : 1 -> I \n",
    "S010  : 0 -> S0 \n",
    "S010  : 1 -> F0101 \n",
    "F0101 : 0 -> S010 \n",
    "F0101 : 1 -> I \n",
    "''')"
   ]
  },
  {
   "cell_type": "code",
   "execution_count": 97,
   "metadata": {
    "run_control": {
     "frozen": false,
     "read_only": false
    }
   },
   "outputs": [
    {
     "data": {
      "image/svg+xml": [
       "<?xml version=\"1.0\" encoding=\"UTF-8\" standalone=\"no\"?>\n",
       "<!DOCTYPE svg PUBLIC \"-//W3C//DTD SVG 1.1//EN\"\n",
       " \"http://www.w3.org/Graphics/SVG/1.1/DTD/svg11.dtd\">\n",
       "<!-- Generated by graphviz version 2.38.0 (20140413.2041)\n",
       " -->\n",
       "<!-- Title: %3 Pages: 1 -->\n",
       "<svg width=\"524pt\" height=\"164pt\"\n",
       " viewBox=\"0.00 0.00 523.64 164.16\" xmlns=\"http://www.w3.org/2000/svg\" xmlns:xlink=\"http://www.w3.org/1999/xlink\">\n",
       "<g id=\"graph0\" class=\"graph\" transform=\"scale(1 1) rotate(0) translate(4 160.159)\">\n",
       "<title>%3</title>\n",
       "<polygon fill=\"white\" stroke=\"none\" points=\"-4,4 -4,-160.159 519.636,-160.159 519.636,4 -4,4\"/>\n",
       "<!-- EMPTY -->\n",
       "<g id=\"node1\" class=\"node\"><title>EMPTY</title>\n",
       "</g>\n",
       "<!-- I -->\n",
       "<g id=\"node3\" class=\"node\"><title>I</title>\n",
       "<ellipse fill=\"none\" stroke=\"black\" cx=\"109\" cy=\"-53.7121\" rx=\"18\" ry=\"18\"/>\n",
       "<text text-anchor=\"middle\" x=\"109\" y=\"-49.5121\" font-family=\"Times,serif\" font-size=\"14.00\">I</text>\n",
       "</g>\n",
       "<!-- EMPTY&#45;&gt;I -->\n",
       "<g id=\"edge1\" class=\"edge\"><title>EMPTY&#45;&gt;I</title>\n",
       "<path fill=\"none\" stroke=\"black\" d=\"M54.195,-53.7121C62.6538,-53.7121 72.0513,-53.7121 80.5951,-53.7121\"/>\n",
       "<polygon fill=\"black\" stroke=\"black\" points=\"80.8257,-57.2122 90.8257,-53.7121 80.8257,-50.2122 80.8257,-57.2122\"/>\n",
       "</g>\n",
       "<!-- S010 -->\n",
       "<g id=\"node2\" class=\"node\"><title>S010</title>\n",
       "<ellipse fill=\"none\" stroke=\"black\" cx=\"370.921\" cy=\"-69.7121\" rx=\"28.0822\" ry=\"28.0822\"/>\n",
       "<text text-anchor=\"middle\" x=\"370.921\" y=\"-65.5121\" font-family=\"Times,serif\" font-size=\"14.00\">S010</text>\n",
       "</g>\n",
       "<!-- S0 -->\n",
       "<g id=\"node4\" class=\"node\"><title>S0</title>\n",
       "<ellipse fill=\"none\" stroke=\"black\" cx=\"189.447\" cy=\"-104.712\" rx=\"19.3939\" ry=\"19.3939\"/>\n",
       "<text text-anchor=\"middle\" x=\"189.447\" y=\"-100.512\" font-family=\"Times,serif\" font-size=\"14.00\">S0</text>\n",
       "</g>\n",
       "<!-- S010&#45;&gt;S0 -->\n",
       "<g id=\"edge8\" class=\"edge\"><title>S010&#45;&gt;S0</title>\n",
       "<path fill=\"none\" stroke=\"black\" d=\"M344.154,-79.175C330.973,-83.7508 314.593,-89.0344 299.631,-92.7121 270.864,-99.7827 263.385,-100.92 233.894,-103.712 229.204,-104.156 224.217,-104.443 219.358,-104.623\"/>\n",
       "<polygon fill=\"black\" stroke=\"black\" points=\"219.001,-101.13 209.086,-104.866 219.166,-108.129 219.001,-101.13\"/>\n",
       "<text text-anchor=\"middle\" x=\"275.762\" y=\"-105.512\" font-family=\"Times,serif\" font-size=\"14.00\">0</text>\n",
       "</g>\n",
       "<!-- F0101 -->\n",
       "<g id=\"node6\" class=\"node\"><title>F0101</title>\n",
       "<ellipse fill=\"none\" stroke=\"black\" cx=\"478.924\" cy=\"-36.7121\" rx=\"32.9021\" ry=\"32.9021\"/>\n",
       "<ellipse fill=\"none\" stroke=\"black\" cx=\"478.924\" cy=\"-36.7121\" rx=\"36.9254\" ry=\"36.9254\"/>\n",
       "<text text-anchor=\"middle\" x=\"478.924\" y=\"-32.5121\" font-family=\"Times,serif\" font-size=\"14.00\">F0101</text>\n",
       "</g>\n",
       "<!-- S010&#45;&gt;F0101 -->\n",
       "<g id=\"edge9\" class=\"edge\"><title>S010&#45;&gt;F0101</title>\n",
       "<path fill=\"none\" stroke=\"black\" d=\"M398.124,-61.5548C408.961,-58.1812 421.825,-54.1763 434.026,-50.3779\"/>\n",
       "<polygon fill=\"black\" stroke=\"black\" points=\"435.11,-53.7063 443.618,-47.392 433.029,-47.0227 435.11,-53.7063\"/>\n",
       "<text text-anchor=\"middle\" x=\"420.712\" y=\"-58.5121\" font-family=\"Times,serif\" font-size=\"14.00\">1</text>\n",
       "</g>\n",
       "<!-- I&#45;&gt;I -->\n",
       "<g id=\"edge3\" class=\"edge\"><title>I&#45;&gt;I</title>\n",
       "<path fill=\"none\" stroke=\"black\" d=\"M102.621,-70.7494C101.319,-80.57 103.445,-89.7121 109,-89.7121 112.472,-89.7121 114.604,-86.1409 115.398,-81.065\"/>\n",
       "<polygon fill=\"black\" stroke=\"black\" points=\"118.897,-80.7431 115.379,-70.7494 111.897,-80.7556 118.897,-80.7431\"/>\n",
       "<text text-anchor=\"middle\" x=\"109\" y=\"-92.5121\" font-family=\"Times,serif\" font-size=\"14.00\">1</text>\n",
       "</g>\n",
       "<!-- I&#45;&gt;S0 -->\n",
       "<g id=\"edge2\" class=\"edge\"><title>I&#45;&gt;S0</title>\n",
       "<path fill=\"none\" stroke=\"black\" d=\"M124.388,-63.0663C135.529,-70.3093 151.212,-80.5046 164.271,-88.9946\"/>\n",
       "<polygon fill=\"black\" stroke=\"black\" points=\"162.513,-92.0264 172.805,-94.5427 166.328,-86.1576 162.513,-92.0264\"/>\n",
       "<text text-anchor=\"middle\" x=\"148.5\" y=\"-84.5121\" font-family=\"Times,serif\" font-size=\"14.00\">0</text>\n",
       "</g>\n",
       "<!-- S0&#45;&gt;S0 -->\n",
       "<g id=\"edge4\" class=\"edge\"><title>S0&#45;&gt;S0</title>\n",
       "<path fill=\"none\" stroke=\"black\" d=\"M182.306,-122.822C180.973,-132.889 183.353,-142.159 189.447,-142.159 193.351,-142.159 195.731,-138.354 196.586,-132.973\"/>\n",
       "<polygon fill=\"black\" stroke=\"black\" points=\"200.086,-132.822 196.588,-122.822 193.086,-132.821 200.086,-132.822\"/>\n",
       "<text text-anchor=\"middle\" x=\"189.447\" y=\"-144.959\" font-family=\"Times,serif\" font-size=\"14.00\">0</text>\n",
       "</g>\n",
       "<!-- S01 -->\n",
       "<g id=\"node5\" class=\"node\"><title>S01</title>\n",
       "<ellipse fill=\"none\" stroke=\"black\" cx=\"275.762\" cy=\"-59.7121\" rx=\"23.7379\" ry=\"23.7379\"/>\n",
       "<text text-anchor=\"middle\" x=\"275.762\" y=\"-55.5121\" font-family=\"Times,serif\" font-size=\"14.00\">S01</text>\n",
       "</g>\n",
       "<!-- S0&#45;&gt;S01 -->\n",
       "<g id=\"edge5\" class=\"edge\"><title>S0&#45;&gt;S01</title>\n",
       "<path fill=\"none\" stroke=\"black\" d=\"M207.105,-95.8215C217.995,-90.0091 232.523,-82.2559 245.323,-75.4239\"/>\n",
       "<polygon fill=\"black\" stroke=\"black\" points=\"247.089,-78.4492 254.263,-70.6529 243.793,-72.2736 247.089,-78.4492\"/>\n",
       "<text text-anchor=\"middle\" x=\"230.394\" y=\"-88.5121\" font-family=\"Times,serif\" font-size=\"14.00\">1</text>\n",
       "</g>\n",
       "<!-- S01&#45;&gt;S010 -->\n",
       "<g id=\"edge6\" class=\"edge\"><title>S01&#45;&gt;S010</title>\n",
       "<path fill=\"none\" stroke=\"black\" d=\"M299.79,-62.184C309.59,-63.2359 321.277,-64.4904 332.274,-65.6708\"/>\n",
       "<polygon fill=\"black\" stroke=\"black\" points=\"332.205,-69.1835 342.521,-66.7709 332.952,-62.2235 332.205,-69.1835\"/>\n",
       "<text text-anchor=\"middle\" x=\"321.131\" y=\"-67.5121\" font-family=\"Times,serif\" font-size=\"14.00\">0</text>\n",
       "</g>\n",
       "<!-- S01&#45;&gt;I -->\n",
       "<g id=\"edge7\" class=\"edge\"><title>S01&#45;&gt;I</title>\n",
       "<path fill=\"none\" stroke=\"black\" d=\"M251.812,-58.8763C221.844,-57.785 169.444,-55.8768 137.419,-54.7106\"/>\n",
       "<polygon fill=\"black\" stroke=\"black\" points=\"137.133,-51.1979 127.012,-54.3316 136.878,-58.1933 137.133,-51.1979\"/>\n",
       "<text text-anchor=\"middle\" x=\"189.447\" y=\"-60.5121\" font-family=\"Times,serif\" font-size=\"14.00\">1</text>\n",
       "</g>\n",
       "<!-- F0101&#45;&gt;S010 -->\n",
       "<g id=\"edge10\" class=\"edge\"><title>F0101&#45;&gt;S010</title>\n",
       "<path fill=\"none\" stroke=\"black\" d=\"M442.343,-33.0141C433.942,-33.1464 425.129,-34.1335 417.212,-36.7121 411.523,-38.5649 405.953,-41.432 400.774,-44.7191\"/>\n",
       "<polygon fill=\"black\" stroke=\"black\" points=\"398.65,-41.9337 392.475,-50.5427 402.671,-47.6638 398.65,-41.9337\"/>\n",
       "<text text-anchor=\"middle\" x=\"420.712\" y=\"-39.5121\" font-family=\"Times,serif\" font-size=\"14.00\">0</text>\n",
       "</g>\n",
       "<!-- F0101&#45;&gt;I -->\n",
       "<g id=\"edge11\" class=\"edge\"><title>F0101&#45;&gt;I</title>\n",
       "<path fill=\"none\" stroke=\"black\" d=\"M445.314,-20.9853C424.751,-12.4857 397.363,-3.71207 371.921,-3.71207 188.447,-3.71207 188.447,-3.71207 188.447,-3.71207 165.281,-3.71207 143.447,-19.409 128.726,-33.2128\"/>\n",
       "<polygon fill=\"black\" stroke=\"black\" points=\"125.943,-31.0442 121.316,-40.5752 130.876,-36.01 125.943,-31.0442\"/>\n",
       "<text text-anchor=\"middle\" x=\"275.762\" y=\"-6.51207\" font-family=\"Times,serif\" font-size=\"14.00\">1</text>\n",
       "</g>\n",
       "</g>\n",
       "</svg>\n"
      ],
      "text/plain": [
       "<graphviz.dot.Digraph at 0x10a0d6a20>"
      ]
     },
     "execution_count": 97,
     "metadata": {},
     "output_type": "execute_result"
    }
   ],
   "source": [
    "dotObj_dfa(ends0101)"
   ]
  },
  {
   "cell_type": "code",
   "execution_count": 98,
   "metadata": {
    "run_control": {
     "frozen": false,
     "read_only": false
    }
   },
   "outputs": [
    {
     "data": {
      "text/plain": [
       "'// do_St35\\ndigraph {\\n\\tgraph [rankdir=LR]\\n\\t\\tEMPTY [label=\"\" shape=plaintext]\\n\\t\\tS010 [label=S010 peripheries=1 shape=circle]\\n\\t\\tI [label=I peripheries=1 shape=circle]\\n\\t\\tS0 [label=S0 peripheries=1 shape=circle]\\n\\t\\tS01 [label=S01 peripheries=1 shape=circle]\\n\\t\\tF0101 [label=F0101 peripheries=2 shape=circle]\\n\\t\\t\\tEMPTY -> I\\n\\t\\t\\tI -> S0 [label=0]\\n\\t\\t\\tI -> I [label=1]\\n\\t\\t\\tS0 -> S0 [label=0]\\n\\t\\t\\tS0 -> S01 [label=1]\\n\\t\\t\\tS01 -> S010 [label=0]\\n\\t\\t\\tS01 -> I [label=1]\\n\\t\\t\\tS010 -> S0 [label=0]\\n\\t\\t\\tS010 -> F0101 [label=1]\\n\\t\\t\\tF0101 -> S010 [label=0]\\n\\t\\t\\tF0101 -> I [label=1]\\n}'"
      ]
     },
     "execution_count": 98,
     "metadata": {},
     "output_type": "execute_result"
    }
   ],
   "source": [
    "dotObj_dfa(ends0101).source"
   ]
  },
  {
   "cell_type": "code",
   "execution_count": 99,
   "metadata": {
    "run_control": {
     "frozen": false,
     "read_only": false
    }
   },
   "outputs": [],
   "source": [
    "odd1sORends0101 = union_dfa(dfaOdd1s,ends0101)"
   ]
  },
  {
   "cell_type": "code",
   "execution_count": 100,
   "metadata": {
    "run_control": {
     "frozen": false,
     "read_only": false
    }
   },
   "outputs": [
    {
     "data": {
      "image/svg+xml": [
       "<?xml version=\"1.0\" encoding=\"UTF-8\" standalone=\"no\"?>\n",
       "<!DOCTYPE svg PUBLIC \"-//W3C//DTD SVG 1.1//EN\"\n",
       " \"http://www.w3.org/Graphics/SVG/1.1/DTD/svg11.dtd\">\n",
       "<!-- Generated by graphviz version 2.38.0 (20140413.2041)\n",
       " -->\n",
       "<!-- Title: %3 Pages: 1 -->\n",
       "<svg width=\"1064pt\" height=\"455pt\"\n",
       " viewBox=\"0.00 0.00 1063.53 455.00\" xmlns=\"http://www.w3.org/2000/svg\" xmlns:xlink=\"http://www.w3.org/1999/xlink\">\n",
       "<g id=\"graph0\" class=\"graph\" transform=\"scale(1 1) rotate(0) translate(4 451)\">\n",
       "<title>%3</title>\n",
       "<polygon fill=\"white\" stroke=\"none\" points=\"-4,4 -4,-451 1059.53,-451 1059.53,4 -4,4\"/>\n",
       "<!-- EMPTY -->\n",
       "<g id=\"node1\" class=\"node\"><title>EMPTY</title>\n",
       "</g>\n",
       "<!-- \\(I_I\\) -->\n",
       "<g id=\"node3\" class=\"node\"><title>\\(I_I\\)</title>\n",
       "<ellipse fill=\"none\" stroke=\"black\" cx=\"117.308\" cy=\"-96\" rx=\"26.118\" ry=\"26.118\"/>\n",
       "<text text-anchor=\"middle\" x=\"117.308\" y=\"-91.8\" font-family=\"Times,serif\" font-size=\"14.00\">(I_I)</text>\n",
       "</g>\n",
       "<!-- EMPTY&#45;&gt;\\(I_I\\) -->\n",
       "<g id=\"edge1\" class=\"edge\"><title>EMPTY&#45;&gt;\\(I_I\\)</title>\n",
       "<path fill=\"none\" stroke=\"black\" d=\"M54.0178,-96C62.3552,-96 71.7368,-96 80.64,-96\"/>\n",
       "<polygon fill=\"black\" stroke=\"black\" points=\"80.7808,-99.5001 90.7807,-96 80.7807,-92.5001 80.7808,-99.5001\"/>\n",
       "</g>\n",
       "<!-- \\(I_S0\\) -->\n",
       "<g id=\"node2\" class=\"node\"><title>\\(I_S0\\)</title>\n",
       "<ellipse fill=\"none\" stroke=\"black\" cx=\"219.32\" cy=\"-277\" rx=\"32.9081\" ry=\"32.9081\"/>\n",
       "<text text-anchor=\"middle\" x=\"219.32\" y=\"-272.8\" font-family=\"Times,serif\" font-size=\"14.00\">(I_S0)</text>\n",
       "</g>\n",
       "<!-- \\(I_S0\\)&#45;&gt;\\(I_S0\\) -->\n",
       "<g id=\"edge15\" class=\"edge\"><title>\\(I_S0\\)&#45;&gt;\\(I_S0\\)</title>\n",
       "<path fill=\"none\" stroke=\"black\" d=\"M209.198,-308.193C209.09,-318.987 212.465,-327.703 219.32,-327.703 223.819,-327.703 226.819,-323.949 228.319,-318.318\"/>\n",
       "<polygon fill=\"black\" stroke=\"black\" points=\"231.818,-318.518 229.443,-308.193 224.861,-317.746 231.818,-318.518\"/>\n",
       "<text text-anchor=\"middle\" x=\"219.32\" y=\"-330.503\" font-family=\"Times,serif\" font-size=\"14.00\">0</text>\n",
       "</g>\n",
       "<!-- \\(F_S01\\) -->\n",
       "<g id=\"node8\" class=\"node\"><title>\\(F_S01\\)</title>\n",
       "<ellipse fill=\"none\" stroke=\"black\" cx=\"338.122\" cy=\"-277\" rx=\"39.1881\" ry=\"39.1881\"/>\n",
       "<ellipse fill=\"none\" stroke=\"black\" cx=\"338.122\" cy=\"-277\" rx=\"43.1973\" ry=\"43.1973\"/>\n",
       "<text text-anchor=\"middle\" x=\"338.122\" y=\"-272.8\" font-family=\"Times,serif\" font-size=\"14.00\">(F_S01)</text>\n",
       "</g>\n",
       "<!-- \\(I_S0\\)&#45;&gt;\\(F_S01\\) -->\n",
       "<g id=\"edge16\" class=\"edge\"><title>\\(I_S0\\)&#45;&gt;\\(F_S01\\)</title>\n",
       "<path fill=\"none\" stroke=\"black\" d=\"M252.237,-277C262.269,-277 273.625,-277 284.691,-277\"/>\n",
       "<polygon fill=\"black\" stroke=\"black\" points=\"284.727,-280.5 294.727,-277 284.727,-273.5 284.727,-280.5\"/>\n",
       "<text text-anchor=\"middle\" x=\"273.524\" y=\"-279.8\" font-family=\"Times,serif\" font-size=\"14.00\">1</text>\n",
       "</g>\n",
       "<!-- \\(I_I\\)&#45;&gt;\\(I_S0\\) -->\n",
       "<g id=\"edge5\" class=\"edge\"><title>\\(I_I\\)&#45;&gt;\\(I_S0\\)</title>\n",
       "<path fill=\"none\" stroke=\"black\" d=\"M128.535,-119.857C136.841,-138.677 149.178,-165.426 161.617,-188 171.613,-206.142 183.84,-225.619 194.377,-241.714\"/>\n",
       "<polygon fill=\"black\" stroke=\"black\" points=\"191.601,-243.861 200.033,-250.277 197.442,-240.003 191.601,-243.861\"/>\n",
       "<text text-anchor=\"middle\" x=\"165.117\" y=\"-203.8\" font-family=\"Times,serif\" font-size=\"14.00\">0</text>\n",
       "</g>\n",
       "<!-- \\(F_I\\) -->\n",
       "<g id=\"node9\" class=\"node\"><title>\\(F_I\\)</title>\n",
       "<ellipse fill=\"none\" stroke=\"black\" cx=\"867.099\" cy=\"-131\" rx=\"28.0917\" ry=\"28.0917\"/>\n",
       "<ellipse fill=\"none\" stroke=\"black\" cx=\"867.099\" cy=\"-131\" rx=\"32.0649\" ry=\"32.0649\"/>\n",
       "<text text-anchor=\"middle\" x=\"867.099\" y=\"-126.8\" font-family=\"Times,serif\" font-size=\"14.00\">(F_I)</text>\n",
       "</g>\n",
       "<!-- \\(I_I\\)&#45;&gt;\\(F_I\\) -->\n",
       "<g id=\"edge8\" class=\"edge\"><title>\\(I_I\\)&#45;&gt;\\(F_I\\)</title>\n",
       "<path fill=\"none\" stroke=\"black\" d=\"M137.937,-79.3507C157.132,-64.8057 187.843,-46 218.32,-46 218.32,-46 218.32,-46 733.583,-46 774.701,-46 813.255,-75.3529 838.059,-99.5605\"/>\n",
       "<polygon fill=\"black\" stroke=\"black\" points=\"835.778,-102.231 845.303,-106.87 840.75,-97.3033 835.778,-102.231\"/>\n",
       "<text text-anchor=\"middle\" x=\"471.741\" y=\"-48.8\" font-family=\"Times,serif\" font-size=\"14.00\">1</text>\n",
       "</g>\n",
       "<!-- \\(I_S010\\) -->\n",
       "<g id=\"node4\" class=\"node\"><title>\\(I_S010\\)</title>\n",
       "<ellipse fill=\"none\" stroke=\"black\" cx=\"867.099\" cy=\"-305\" rx=\"41.5938\" ry=\"41.5938\"/>\n",
       "<text text-anchor=\"middle\" x=\"867.099\" y=\"-300.8\" font-family=\"Times,serif\" font-size=\"14.00\">(I_S010)</text>\n",
       "</g>\n",
       "<!-- \\(I_S010\\)&#45;&gt;\\(I_S0\\) -->\n",
       "<g id=\"edge20\" class=\"edge\"><title>\\(I_S010\\)&#45;&gt;\\(I_S0\\)</title>\n",
       "<path fill=\"none\" stroke=\"black\" d=\"M847.776,-342.023C826.154,-379.826 786.36,-433 733.583,-433 337.122,-433 337.122,-433 337.122,-433 279.754,-433 247.14,-364.564 231.656,-318.348\"/>\n",
       "<polygon fill=\"black\" stroke=\"black\" points=\"234.907,-317.023 228.521,-308.569 228.241,-319.16 234.907,-317.023\"/>\n",
       "<text text-anchor=\"middle\" x=\"540.761\" y=\"-435.8\" font-family=\"Times,serif\" font-size=\"14.00\">0</text>\n",
       "</g>\n",
       "<!-- \\(F_F0101\\) -->\n",
       "<g id=\"node6\" class=\"node\"><title>\\(F_F0101\\)</title>\n",
       "<ellipse fill=\"none\" stroke=\"black\" cx=\"1003.59\" cy=\"-305\" rx=\"47.8885\" ry=\"47.8885\"/>\n",
       "<ellipse fill=\"none\" stroke=\"black\" cx=\"1003.59\" cy=\"-305\" rx=\"51.8841\" ry=\"51.8841\"/>\n",
       "<text text-anchor=\"middle\" x=\"1003.59\" y=\"-300.8\" font-family=\"Times,serif\" font-size=\"14.00\">(F_F0101)</text>\n",
       "</g>\n",
       "<!-- \\(I_S010\\)&#45;&gt;\\(F_F0101\\) -->\n",
       "<g id=\"edge14\" class=\"edge\"><title>\\(I_S010\\)&#45;&gt;\\(F_F0101\\)</title>\n",
       "<path fill=\"none\" stroke=\"black\" d=\"M908.815,-305C919.114,-305 930.402,-305 941.468,-305\"/>\n",
       "<polygon fill=\"black\" stroke=\"black\" points=\"941.532,-308.5 951.532,-305 941.532,-301.5 941.532,-308.5\"/>\n",
       "<text text-anchor=\"middle\" x=\"930.146\" y=\"-307.8\" font-family=\"Times,serif\" font-size=\"14.00\">1</text>\n",
       "</g>\n",
       "<!-- \\(I_S01\\) -->\n",
       "<g id=\"node5\" class=\"node\"><title>\\(I_S01\\)</title>\n",
       "<ellipse fill=\"none\" stroke=\"black\" cx=\"732.583\" cy=\"-200\" rx=\"37.2507\" ry=\"37.2507\"/>\n",
       "<text text-anchor=\"middle\" x=\"732.583\" y=\"-195.8\" font-family=\"Times,serif\" font-size=\"14.00\">(I_S01)</text>\n",
       "</g>\n",
       "<!-- \\(I_S01\\)&#45;&gt;\\(I_S010\\) -->\n",
       "<g id=\"edge7\" class=\"edge\"><title>\\(I_S01\\)&#45;&gt;\\(I_S010\\)</title>\n",
       "<path fill=\"none\" stroke=\"black\" d=\"M769.198,-207.271C782.117,-211.087 796.291,-216.746 807.552,-225 820.42,-234.431 831.645,-247.521 840.73,-260.384\"/>\n",
       "<polygon fill=\"black\" stroke=\"black\" points=\"837.891,-262.433 846.387,-268.763 843.692,-258.516 837.891,-262.433\"/>\n",
       "<text text-anchor=\"middle\" x=\"804.052\" y=\"-227.8\" font-family=\"Times,serif\" font-size=\"14.00\">0</text>\n",
       "</g>\n",
       "<!-- \\(I_S01\\)&#45;&gt;\\(F_I\\) -->\n",
       "<g id=\"edge12\" class=\"edge\"><title>\\(I_S01\\)&#45;&gt;\\(F_I\\)</title>\n",
       "<path fill=\"none\" stroke=\"black\" d=\"M766,-183.121C785.051,-173.201 809.203,-160.625 829.01,-150.312\"/>\n",
       "<polygon fill=\"black\" stroke=\"black\" points=\"830.803,-153.324 838.056,-145.601 827.57,-147.116 830.803,-153.324\"/>\n",
       "<text text-anchor=\"middle\" x=\"804.052\" y=\"-166.8\" font-family=\"Times,serif\" font-size=\"14.00\">1</text>\n",
       "</g>\n",
       "<!-- \\(F_F0101\\)&#45;&gt;\\(I_I\\) -->\n",
       "<g id=\"edge3\" class=\"edge\"><title>\\(F_F0101\\)&#45;&gt;\\(I_I\\)</title>\n",
       "<path fill=\"none\" stroke=\"black\" d=\"M1002.23,-252.915C998.598,-165.804 977.33,-0 868.099,-0 218.32,-0 218.32,-0 218.32,-0 180.749,-0 151.81,-35.6967 134.946,-63.5553\"/>\n",
       "<polygon fill=\"black\" stroke=\"black\" points=\"131.883,-61.862 129.9,-72.2697 137.94,-65.37 131.883,-61.862\"/>\n",
       "<text text-anchor=\"middle\" x=\"540.761\" y=\"-2.8\" font-family=\"Times,serif\" font-size=\"14.00\">1</text>\n",
       "</g>\n",
       "<!-- \\(F_S010\\) -->\n",
       "<g id=\"node7\" class=\"node\"><title>\\(F_S010\\)</title>\n",
       "<ellipse fill=\"none\" stroke=\"black\" cx=\"471.741\" cy=\"-301\" rx=\"43.5388\" ry=\"43.5388\"/>\n",
       "<ellipse fill=\"none\" stroke=\"black\" cx=\"471.741\" cy=\"-301\" rx=\"47.5405\" ry=\"47.5405\"/>\n",
       "<text text-anchor=\"middle\" x=\"471.741\" y=\"-296.8\" font-family=\"Times,serif\" font-size=\"14.00\">(F_S010)</text>\n",
       "</g>\n",
       "<!-- \\(F_F0101\\)&#45;&gt;\\(F_S010\\) -->\n",
       "<g id=\"edge6\" class=\"edge\"><title>\\(F_F0101\\)&#45;&gt;\\(F_S010\\)</title>\n",
       "<path fill=\"none\" stroke=\"black\" d=\"M967.858,-342.721C942.699,-365.828 906.483,-391 868.099,-391 599.938,-391 599.938,-391 599.938,-391 564.788,-391 532.551,-367.814 509.325,-344.978\"/>\n",
       "<polygon fill=\"black\" stroke=\"black\" points=\"511.605,-342.304 502.108,-337.606 506.603,-347.201 511.605,-342.304\"/>\n",
       "<text text-anchor=\"middle\" x=\"732.583\" y=\"-393.8\" font-family=\"Times,serif\" font-size=\"14.00\">0</text>\n",
       "</g>\n",
       "<!-- \\(F_S0\\) -->\n",
       "<g id=\"node10\" class=\"node\"><title>\\(F_S0\\)</title>\n",
       "<ellipse fill=\"none\" stroke=\"black\" cx=\"600.938\" cy=\"-198\" rx=\"34.836\" ry=\"34.836\"/>\n",
       "<ellipse fill=\"none\" stroke=\"black\" cx=\"600.938\" cy=\"-198\" rx=\"38.8544\" ry=\"38.8544\"/>\n",
       "<text text-anchor=\"middle\" x=\"600.938\" y=\"-193.8\" font-family=\"Times,serif\" font-size=\"14.00\">(F_S0)</text>\n",
       "</g>\n",
       "<!-- \\(F_S010\\)&#45;&gt;\\(F_S0\\) -->\n",
       "<g id=\"edge13\" class=\"edge\"><title>\\(F_S010\\)&#45;&gt;\\(F_S0\\)</title>\n",
       "<path fill=\"none\" stroke=\"black\" d=\"M509.19,-271.484C525.846,-257.998 545.559,-242.034 562.35,-228.438\"/>\n",
       "<polygon fill=\"black\" stroke=\"black\" points=\"564.763,-230.987 570.332,-221.974 560.357,-225.547 564.763,-230.987\"/>\n",
       "<text text-anchor=\"middle\" x=\"540.761\" y=\"-249.8\" font-family=\"Times,serif\" font-size=\"14.00\">0</text>\n",
       "</g>\n",
       "<!-- \\(I_F0101\\) -->\n",
       "<g id=\"node11\" class=\"node\"><title>\\(I_F0101\\)</title>\n",
       "<ellipse fill=\"none\" stroke=\"black\" cx=\"732.583\" cy=\"-305\" rx=\"45.9398\" ry=\"45.9398\"/>\n",
       "<ellipse fill=\"none\" stroke=\"black\" cx=\"732.583\" cy=\"-305\" rx=\"49.9373\" ry=\"49.9373\"/>\n",
       "<text text-anchor=\"middle\" x=\"732.583\" y=\"-300.8\" font-family=\"Times,serif\" font-size=\"14.00\">(I_F0101)</text>\n",
       "</g>\n",
       "<!-- \\(F_S010\\)&#45;&gt;\\(I_F0101\\) -->\n",
       "<g id=\"edge2\" class=\"edge\"><title>\\(F_S010\\)&#45;&gt;\\(I_F0101\\)</title>\n",
       "<path fill=\"none\" stroke=\"black\" d=\"M519.316,-301.72C562.076,-302.381 625.652,-303.363 672.077,-304.08\"/>\n",
       "<polygon fill=\"black\" stroke=\"black\" points=\"672.247,-307.583 682.3,-304.238 672.355,-300.584 672.247,-307.583\"/>\n",
       "<text text-anchor=\"middle\" x=\"600.938\" y=\"-306.8\" font-family=\"Times,serif\" font-size=\"14.00\">1</text>\n",
       "</g>\n",
       "<!-- \\(F_S01\\)&#45;&gt;\\(I_I\\) -->\n",
       "<g id=\"edge19\" class=\"edge\"><title>\\(F_S01\\)&#45;&gt;\\(I_I\\)</title>\n",
       "<path fill=\"none\" stroke=\"black\" d=\"M304.162,-249.736C261.037,-214.063 186.232,-152.186 145.929,-118.848\"/>\n",
       "<polygon fill=\"black\" stroke=\"black\" points=\"148.049,-116.059 138.113,-112.382 143.587,-121.453 148.049,-116.059\"/>\n",
       "<text text-anchor=\"middle\" x=\"219.32\" y=\"-207.8\" font-family=\"Times,serif\" font-size=\"14.00\">1</text>\n",
       "</g>\n",
       "<!-- \\(F_S01\\)&#45;&gt;\\(F_S010\\) -->\n",
       "<g id=\"edge21\" class=\"edge\"><title>\\(F_S01\\)&#45;&gt;\\(F_S010\\)</title>\n",
       "<path fill=\"none\" stroke=\"black\" d=\"M380.767,-284.594C391.602,-286.569 403.451,-288.73 414.889,-290.816\"/>\n",
       "<polygon fill=\"black\" stroke=\"black\" points=\"414.334,-294.272 424.799,-292.623 415.589,-287.386 414.334,-294.272\"/>\n",
       "<text text-anchor=\"middle\" x=\"402.721\" y=\"-291.8\" font-family=\"Times,serif\" font-size=\"14.00\">0</text>\n",
       "</g>\n",
       "<!-- \\(F_I\\)&#45;&gt;\\(I_I\\) -->\n",
       "<g id=\"edge4\" class=\"edge\"><title>\\(F_I\\)&#45;&gt;\\(I_I\\)</title>\n",
       "<path fill=\"none\" stroke=\"black\" d=\"M835.174,-125.724C826.278,-124.349 816.549,-122.979 807.552,-122 628.756,-102.54 583.573,-96 403.721,-96 218.32,-96 218.32,-96 218.32,-96 196.931,-96 172.968,-96 153.862,-96\"/>\n",
       "<polygon fill=\"black\" stroke=\"black\" points=\"153.794,-92.5001 143.794,-96 153.794,-99.5001 153.794,-92.5001\"/>\n",
       "<text text-anchor=\"middle\" x=\"471.741\" y=\"-100.8\" font-family=\"Times,serif\" font-size=\"14.00\">1</text>\n",
       "</g>\n",
       "<!-- \\(F_I\\)&#45;&gt;\\(F_S0\\) -->\n",
       "<g id=\"edge18\" class=\"edge\"><title>\\(F_I\\)&#45;&gt;\\(F_S0\\)</title>\n",
       "<path fill=\"none\" stroke=\"black\" d=\"M834.89,-127.281C797.539,-124.004 733.648,-122.168 682.615,-140 666.567,-145.608 650.919,-155.493 637.741,-165.531\"/>\n",
       "<polygon fill=\"black\" stroke=\"black\" points=\"635.538,-162.811 629.874,-171.764 639.885,-168.297 635.538,-162.811\"/>\n",
       "<text text-anchor=\"middle\" x=\"732.583\" y=\"-142.8\" font-family=\"Times,serif\" font-size=\"14.00\">0</text>\n",
       "</g>\n",
       "<!-- \\(F_S0\\)&#45;&gt;\\(I_S01\\) -->\n",
       "<g id=\"edge11\" class=\"edge\"><title>\\(F_S0\\)&#45;&gt;\\(I_S01\\)</title>\n",
       "<path fill=\"none\" stroke=\"black\" d=\"M639.785,-198.584C653.995,-198.803 670.31,-199.055 685.207,-199.285\"/>\n",
       "<polygon fill=\"black\" stroke=\"black\" points=\"685.197,-202.785 695.25,-199.44 685.306,-195.786 685.197,-202.785\"/>\n",
       "<text text-anchor=\"middle\" x=\"661.115\" y=\"-201.8\" font-family=\"Times,serif\" font-size=\"14.00\">1</text>\n",
       "</g>\n",
       "<!-- \\(F_S0\\)&#45;&gt;\\(F_S0\\) -->\n",
       "<g id=\"edge10\" class=\"edge\"><title>\\(F_S0\\)&#45;&gt;\\(F_S0\\)</title>\n",
       "<path fill=\"none\" stroke=\"black\" d=\"M589.713,-235.067C590.048,-246.095 593.789,-254.677 600.938,-254.677 605.629,-254.677 608.853,-250.981 610.61,-245.324\"/>\n",
       "<polygon fill=\"black\" stroke=\"black\" points=\"614.126,-245.479 612.163,-235.067 607.205,-244.43 614.126,-245.479\"/>\n",
       "<text text-anchor=\"middle\" x=\"600.938\" y=\"-257.477\" font-family=\"Times,serif\" font-size=\"14.00\">0</text>\n",
       "</g>\n",
       "<!-- \\(I_F0101\\)&#45;&gt;\\(I_S010\\) -->\n",
       "<g id=\"edge17\" class=\"edge\"><title>\\(I_F0101\\)&#45;&gt;\\(I_S010\\)</title>\n",
       "<path fill=\"none\" stroke=\"black\" d=\"M782.927,-305C793.413,-305 804.505,-305 815.053,-305\"/>\n",
       "<polygon fill=\"black\" stroke=\"black\" points=\"815.377,-308.5 825.377,-305 815.377,-301.5 815.377,-308.5\"/>\n",
       "<text text-anchor=\"middle\" x=\"804.052\" y=\"-307.8\" font-family=\"Times,serif\" font-size=\"14.00\">0</text>\n",
       "</g>\n",
       "<!-- \\(I_F0101\\)&#45;&gt;\\(F_I\\) -->\n",
       "<g id=\"edge9\" class=\"edge\"><title>\\(I_F0101\\)&#45;&gt;\\(F_I\\)</title>\n",
       "<path fill=\"none\" stroke=\"black\" d=\"M772.513,-274.733C784.603,-264.215 797.405,-251.82 807.552,-239 824.27,-217.877 838.744,-191.306 849.118,-169.806\"/>\n",
       "<polygon fill=\"black\" stroke=\"black\" points=\"852.346,-171.166 853.448,-160.629 846.015,-168.179 852.346,-171.166\"/>\n",
       "<text text-anchor=\"middle\" x=\"804.052\" y=\"-250.8\" font-family=\"Times,serif\" font-size=\"14.00\">1</text>\n",
       "</g>\n",
       "</g>\n",
       "</svg>\n"
      ],
      "text/plain": [
       "<graphviz.dot.Digraph at 0x10a695438>"
      ]
     },
     "execution_count": 100,
     "metadata": {},
     "output_type": "execute_result"
    }
   ],
   "source": [
    "dotObj_dfa(odd1sORends0101)"
   ]
  },
  {
   "cell_type": "code",
   "execution_count": 101,
   "metadata": {
    "run_control": {
     "frozen": false,
     "read_only": false
    }
   },
   "outputs": [
    {
     "data": {
      "image/svg+xml": [
       "<?xml version=\"1.0\" encoding=\"UTF-8\" standalone=\"no\"?>\n",
       "<!DOCTYPE svg PUBLIC \"-//W3C//DTD SVG 1.1//EN\"\n",
       " \"http://www.w3.org/Graphics/SVG/1.1/DTD/svg11.dtd\">\n",
       "<!-- Generated by graphviz version 2.38.0 (20140413.2041)\n",
       " -->\n",
       "<!-- Title: %3 Pages: 1 -->\n",
       "<svg width=\"1064pt\" height=\"455pt\"\n",
       " viewBox=\"0.00 0.00 1063.53 455.00\" xmlns=\"http://www.w3.org/2000/svg\" xmlns:xlink=\"http://www.w3.org/1999/xlink\">\n",
       "<g id=\"graph0\" class=\"graph\" transform=\"scale(1 1) rotate(0) translate(4 451)\">\n",
       "<title>%3</title>\n",
       "<polygon fill=\"white\" stroke=\"none\" points=\"-4,4 -4,-451 1059.53,-451 1059.53,4 -4,4\"/>\n",
       "<!-- EMPTY -->\n",
       "<g id=\"node1\" class=\"node\"><title>EMPTY</title>\n",
       "</g>\n",
       "<!-- \\(I_I\\) -->\n",
       "<g id=\"node3\" class=\"node\"><title>\\(I_I\\)</title>\n",
       "<ellipse fill=\"none\" stroke=\"black\" cx=\"117.308\" cy=\"-96\" rx=\"26.118\" ry=\"26.118\"/>\n",
       "<text text-anchor=\"middle\" x=\"117.308\" y=\"-91.8\" font-family=\"Times,serif\" font-size=\"14.00\">(I_I)</text>\n",
       "</g>\n",
       "<!-- EMPTY&#45;&gt;\\(I_I\\) -->\n",
       "<g id=\"edge1\" class=\"edge\"><title>EMPTY&#45;&gt;\\(I_I\\)</title>\n",
       "<path fill=\"none\" stroke=\"black\" d=\"M54.0178,-96C62.3552,-96 71.7368,-96 80.64,-96\"/>\n",
       "<polygon fill=\"black\" stroke=\"black\" points=\"80.7808,-99.5001 90.7807,-96 80.7807,-92.5001 80.7808,-99.5001\"/>\n",
       "</g>\n",
       "<!-- \\(I_S0\\) -->\n",
       "<g id=\"node2\" class=\"node\"><title>\\(I_S0\\)</title>\n",
       "<ellipse fill=\"none\" stroke=\"black\" cx=\"219.32\" cy=\"-277\" rx=\"32.9081\" ry=\"32.9081\"/>\n",
       "<text text-anchor=\"middle\" x=\"219.32\" y=\"-272.8\" font-family=\"Times,serif\" font-size=\"14.00\">(I_S0)</text>\n",
       "</g>\n",
       "<!-- \\(I_S0\\)&#45;&gt;\\(I_S0\\) -->\n",
       "<g id=\"edge15\" class=\"edge\"><title>\\(I_S0\\)&#45;&gt;\\(I_S0\\)</title>\n",
       "<path fill=\"none\" stroke=\"black\" d=\"M209.198,-308.193C209.09,-318.987 212.465,-327.703 219.32,-327.703 223.819,-327.703 226.819,-323.949 228.319,-318.318\"/>\n",
       "<polygon fill=\"black\" stroke=\"black\" points=\"231.818,-318.518 229.443,-308.193 224.861,-317.746 231.818,-318.518\"/>\n",
       "<text text-anchor=\"middle\" x=\"219.32\" y=\"-330.503\" font-family=\"Times,serif\" font-size=\"14.00\">0</text>\n",
       "</g>\n",
       "<!-- \\(F_S01\\) -->\n",
       "<g id=\"node8\" class=\"node\"><title>\\(F_S01\\)</title>\n",
       "<ellipse fill=\"none\" stroke=\"black\" cx=\"338.122\" cy=\"-277\" rx=\"39.1881\" ry=\"39.1881\"/>\n",
       "<ellipse fill=\"none\" stroke=\"black\" cx=\"338.122\" cy=\"-277\" rx=\"43.1973\" ry=\"43.1973\"/>\n",
       "<text text-anchor=\"middle\" x=\"338.122\" y=\"-272.8\" font-family=\"Times,serif\" font-size=\"14.00\">(F_S01)</text>\n",
       "</g>\n",
       "<!-- \\(I_S0\\)&#45;&gt;\\(F_S01\\) -->\n",
       "<g id=\"edge16\" class=\"edge\"><title>\\(I_S0\\)&#45;&gt;\\(F_S01\\)</title>\n",
       "<path fill=\"none\" stroke=\"black\" d=\"M252.237,-277C262.269,-277 273.625,-277 284.691,-277\"/>\n",
       "<polygon fill=\"black\" stroke=\"black\" points=\"284.727,-280.5 294.727,-277 284.727,-273.5 284.727,-280.5\"/>\n",
       "<text text-anchor=\"middle\" x=\"273.524\" y=\"-279.8\" font-family=\"Times,serif\" font-size=\"14.00\">1</text>\n",
       "</g>\n",
       "<!-- \\(I_I\\)&#45;&gt;\\(I_S0\\) -->\n",
       "<g id=\"edge5\" class=\"edge\"><title>\\(I_I\\)&#45;&gt;\\(I_S0\\)</title>\n",
       "<path fill=\"none\" stroke=\"black\" d=\"M128.535,-119.857C136.841,-138.677 149.178,-165.426 161.617,-188 171.613,-206.142 183.84,-225.619 194.377,-241.714\"/>\n",
       "<polygon fill=\"black\" stroke=\"black\" points=\"191.601,-243.861 200.033,-250.277 197.442,-240.003 191.601,-243.861\"/>\n",
       "<text text-anchor=\"middle\" x=\"165.117\" y=\"-203.8\" font-family=\"Times,serif\" font-size=\"14.00\">0</text>\n",
       "</g>\n",
       "<!-- \\(F_I\\) -->\n",
       "<g id=\"node9\" class=\"node\"><title>\\(F_I\\)</title>\n",
       "<ellipse fill=\"none\" stroke=\"black\" cx=\"867.099\" cy=\"-131\" rx=\"28.0917\" ry=\"28.0917\"/>\n",
       "<ellipse fill=\"none\" stroke=\"black\" cx=\"867.099\" cy=\"-131\" rx=\"32.0649\" ry=\"32.0649\"/>\n",
       "<text text-anchor=\"middle\" x=\"867.099\" y=\"-126.8\" font-family=\"Times,serif\" font-size=\"14.00\">(F_I)</text>\n",
       "</g>\n",
       "<!-- \\(I_I\\)&#45;&gt;\\(F_I\\) -->\n",
       "<g id=\"edge8\" class=\"edge\"><title>\\(I_I\\)&#45;&gt;\\(F_I\\)</title>\n",
       "<path fill=\"none\" stroke=\"black\" d=\"M137.937,-79.3507C157.132,-64.8057 187.843,-46 218.32,-46 218.32,-46 218.32,-46 733.583,-46 774.701,-46 813.255,-75.3529 838.059,-99.5605\"/>\n",
       "<polygon fill=\"black\" stroke=\"black\" points=\"835.778,-102.231 845.303,-106.87 840.75,-97.3033 835.778,-102.231\"/>\n",
       "<text text-anchor=\"middle\" x=\"471.741\" y=\"-48.8\" font-family=\"Times,serif\" font-size=\"14.00\">1</text>\n",
       "</g>\n",
       "<!-- \\(I_S010\\) -->\n",
       "<g id=\"node4\" class=\"node\"><title>\\(I_S010\\)</title>\n",
       "<ellipse fill=\"none\" stroke=\"black\" cx=\"867.099\" cy=\"-305\" rx=\"41.5938\" ry=\"41.5938\"/>\n",
       "<text text-anchor=\"middle\" x=\"867.099\" y=\"-300.8\" font-family=\"Times,serif\" font-size=\"14.00\">(I_S010)</text>\n",
       "</g>\n",
       "<!-- \\(I_S010\\)&#45;&gt;\\(I_S0\\) -->\n",
       "<g id=\"edge20\" class=\"edge\"><title>\\(I_S010\\)&#45;&gt;\\(I_S0\\)</title>\n",
       "<path fill=\"none\" stroke=\"black\" d=\"M847.776,-342.023C826.154,-379.826 786.36,-433 733.583,-433 337.122,-433 337.122,-433 337.122,-433 279.754,-433 247.14,-364.564 231.656,-318.348\"/>\n",
       "<polygon fill=\"black\" stroke=\"black\" points=\"234.907,-317.023 228.521,-308.569 228.241,-319.16 234.907,-317.023\"/>\n",
       "<text text-anchor=\"middle\" x=\"540.761\" y=\"-435.8\" font-family=\"Times,serif\" font-size=\"14.00\">0</text>\n",
       "</g>\n",
       "<!-- \\(F_F0101\\) -->\n",
       "<g id=\"node6\" class=\"node\"><title>\\(F_F0101\\)</title>\n",
       "<ellipse fill=\"none\" stroke=\"black\" cx=\"1003.59\" cy=\"-305\" rx=\"47.8885\" ry=\"47.8885\"/>\n",
       "<ellipse fill=\"none\" stroke=\"black\" cx=\"1003.59\" cy=\"-305\" rx=\"51.8841\" ry=\"51.8841\"/>\n",
       "<text text-anchor=\"middle\" x=\"1003.59\" y=\"-300.8\" font-family=\"Times,serif\" font-size=\"14.00\">(F_F0101)</text>\n",
       "</g>\n",
       "<!-- \\(I_S010\\)&#45;&gt;\\(F_F0101\\) -->\n",
       "<g id=\"edge14\" class=\"edge\"><title>\\(I_S010\\)&#45;&gt;\\(F_F0101\\)</title>\n",
       "<path fill=\"none\" stroke=\"black\" d=\"M908.815,-305C919.114,-305 930.402,-305 941.468,-305\"/>\n",
       "<polygon fill=\"black\" stroke=\"black\" points=\"941.532,-308.5 951.532,-305 941.532,-301.5 941.532,-308.5\"/>\n",
       "<text text-anchor=\"middle\" x=\"930.146\" y=\"-307.8\" font-family=\"Times,serif\" font-size=\"14.00\">1</text>\n",
       "</g>\n",
       "<!-- \\(I_S01\\) -->\n",
       "<g id=\"node5\" class=\"node\"><title>\\(I_S01\\)</title>\n",
       "<ellipse fill=\"none\" stroke=\"black\" cx=\"732.583\" cy=\"-200\" rx=\"37.2507\" ry=\"37.2507\"/>\n",
       "<text text-anchor=\"middle\" x=\"732.583\" y=\"-195.8\" font-family=\"Times,serif\" font-size=\"14.00\">(I_S01)</text>\n",
       "</g>\n",
       "<!-- \\(I_S01\\)&#45;&gt;\\(I_S010\\) -->\n",
       "<g id=\"edge7\" class=\"edge\"><title>\\(I_S01\\)&#45;&gt;\\(I_S010\\)</title>\n",
       "<path fill=\"none\" stroke=\"black\" d=\"M769.198,-207.271C782.117,-211.087 796.291,-216.746 807.552,-225 820.42,-234.431 831.645,-247.521 840.73,-260.384\"/>\n",
       "<polygon fill=\"black\" stroke=\"black\" points=\"837.891,-262.433 846.387,-268.763 843.692,-258.516 837.891,-262.433\"/>\n",
       "<text text-anchor=\"middle\" x=\"804.052\" y=\"-227.8\" font-family=\"Times,serif\" font-size=\"14.00\">0</text>\n",
       "</g>\n",
       "<!-- \\(I_S01\\)&#45;&gt;\\(F_I\\) -->\n",
       "<g id=\"edge12\" class=\"edge\"><title>\\(I_S01\\)&#45;&gt;\\(F_I\\)</title>\n",
       "<path fill=\"none\" stroke=\"black\" d=\"M766,-183.121C785.051,-173.201 809.203,-160.625 829.01,-150.312\"/>\n",
       "<polygon fill=\"black\" stroke=\"black\" points=\"830.803,-153.324 838.056,-145.601 827.57,-147.116 830.803,-153.324\"/>\n",
       "<text text-anchor=\"middle\" x=\"804.052\" y=\"-166.8\" font-family=\"Times,serif\" font-size=\"14.00\">1</text>\n",
       "</g>\n",
       "<!-- \\(F_F0101\\)&#45;&gt;\\(I_I\\) -->\n",
       "<g id=\"edge3\" class=\"edge\"><title>\\(F_F0101\\)&#45;&gt;\\(I_I\\)</title>\n",
       "<path fill=\"none\" stroke=\"black\" d=\"M1002.23,-252.915C998.598,-165.804 977.33,-0 868.099,-0 218.32,-0 218.32,-0 218.32,-0 180.749,-0 151.81,-35.6967 134.946,-63.5553\"/>\n",
       "<polygon fill=\"black\" stroke=\"black\" points=\"131.883,-61.862 129.9,-72.2697 137.94,-65.37 131.883,-61.862\"/>\n",
       "<text text-anchor=\"middle\" x=\"540.761\" y=\"-2.8\" font-family=\"Times,serif\" font-size=\"14.00\">1</text>\n",
       "</g>\n",
       "<!-- \\(F_S010\\) -->\n",
       "<g id=\"node7\" class=\"node\"><title>\\(F_S010\\)</title>\n",
       "<ellipse fill=\"none\" stroke=\"black\" cx=\"471.741\" cy=\"-301\" rx=\"43.5388\" ry=\"43.5388\"/>\n",
       "<ellipse fill=\"none\" stroke=\"black\" cx=\"471.741\" cy=\"-301\" rx=\"47.5405\" ry=\"47.5405\"/>\n",
       "<text text-anchor=\"middle\" x=\"471.741\" y=\"-296.8\" font-family=\"Times,serif\" font-size=\"14.00\">(F_S010)</text>\n",
       "</g>\n",
       "<!-- \\(F_F0101\\)&#45;&gt;\\(F_S010\\) -->\n",
       "<g id=\"edge6\" class=\"edge\"><title>\\(F_F0101\\)&#45;&gt;\\(F_S010\\)</title>\n",
       "<path fill=\"none\" stroke=\"black\" d=\"M967.858,-342.721C942.699,-365.828 906.483,-391 868.099,-391 599.938,-391 599.938,-391 599.938,-391 564.788,-391 532.551,-367.814 509.325,-344.978\"/>\n",
       "<polygon fill=\"black\" stroke=\"black\" points=\"511.605,-342.304 502.108,-337.606 506.603,-347.201 511.605,-342.304\"/>\n",
       "<text text-anchor=\"middle\" x=\"732.583\" y=\"-393.8\" font-family=\"Times,serif\" font-size=\"14.00\">0</text>\n",
       "</g>\n",
       "<!-- \\(F_S0\\) -->\n",
       "<g id=\"node10\" class=\"node\"><title>\\(F_S0\\)</title>\n",
       "<ellipse fill=\"none\" stroke=\"black\" cx=\"600.938\" cy=\"-198\" rx=\"34.836\" ry=\"34.836\"/>\n",
       "<ellipse fill=\"none\" stroke=\"black\" cx=\"600.938\" cy=\"-198\" rx=\"38.8544\" ry=\"38.8544\"/>\n",
       "<text text-anchor=\"middle\" x=\"600.938\" y=\"-193.8\" font-family=\"Times,serif\" font-size=\"14.00\">(F_S0)</text>\n",
       "</g>\n",
       "<!-- \\(F_S010\\)&#45;&gt;\\(F_S0\\) -->\n",
       "<g id=\"edge13\" class=\"edge\"><title>\\(F_S010\\)&#45;&gt;\\(F_S0\\)</title>\n",
       "<path fill=\"none\" stroke=\"black\" d=\"M509.19,-271.484C525.846,-257.998 545.559,-242.034 562.35,-228.438\"/>\n",
       "<polygon fill=\"black\" stroke=\"black\" points=\"564.763,-230.987 570.332,-221.974 560.357,-225.547 564.763,-230.987\"/>\n",
       "<text text-anchor=\"middle\" x=\"540.761\" y=\"-249.8\" font-family=\"Times,serif\" font-size=\"14.00\">0</text>\n",
       "</g>\n",
       "<!-- \\(I_F0101\\) -->\n",
       "<g id=\"node11\" class=\"node\"><title>\\(I_F0101\\)</title>\n",
       "<ellipse fill=\"none\" stroke=\"black\" cx=\"732.583\" cy=\"-305\" rx=\"45.9398\" ry=\"45.9398\"/>\n",
       "<ellipse fill=\"none\" stroke=\"black\" cx=\"732.583\" cy=\"-305\" rx=\"49.9373\" ry=\"49.9373\"/>\n",
       "<text text-anchor=\"middle\" x=\"732.583\" y=\"-300.8\" font-family=\"Times,serif\" font-size=\"14.00\">(I_F0101)</text>\n",
       "</g>\n",
       "<!-- \\(F_S010\\)&#45;&gt;\\(I_F0101\\) -->\n",
       "<g id=\"edge2\" class=\"edge\"><title>\\(F_S010\\)&#45;&gt;\\(I_F0101\\)</title>\n",
       "<path fill=\"none\" stroke=\"black\" d=\"M519.316,-301.72C562.076,-302.381 625.652,-303.363 672.077,-304.08\"/>\n",
       "<polygon fill=\"black\" stroke=\"black\" points=\"672.247,-307.583 682.3,-304.238 672.355,-300.584 672.247,-307.583\"/>\n",
       "<text text-anchor=\"middle\" x=\"600.938\" y=\"-306.8\" font-family=\"Times,serif\" font-size=\"14.00\">1</text>\n",
       "</g>\n",
       "<!-- \\(F_S01\\)&#45;&gt;\\(I_I\\) -->\n",
       "<g id=\"edge19\" class=\"edge\"><title>\\(F_S01\\)&#45;&gt;\\(I_I\\)</title>\n",
       "<path fill=\"none\" stroke=\"black\" d=\"M304.162,-249.736C261.037,-214.063 186.232,-152.186 145.929,-118.848\"/>\n",
       "<polygon fill=\"black\" stroke=\"black\" points=\"148.049,-116.059 138.113,-112.382 143.587,-121.453 148.049,-116.059\"/>\n",
       "<text text-anchor=\"middle\" x=\"219.32\" y=\"-207.8\" font-family=\"Times,serif\" font-size=\"14.00\">1</text>\n",
       "</g>\n",
       "<!-- \\(F_S01\\)&#45;&gt;\\(F_S010\\) -->\n",
       "<g id=\"edge21\" class=\"edge\"><title>\\(F_S01\\)&#45;&gt;\\(F_S010\\)</title>\n",
       "<path fill=\"none\" stroke=\"black\" d=\"M380.767,-284.594C391.602,-286.569 403.451,-288.73 414.889,-290.816\"/>\n",
       "<polygon fill=\"black\" stroke=\"black\" points=\"414.334,-294.272 424.799,-292.623 415.589,-287.386 414.334,-294.272\"/>\n",
       "<text text-anchor=\"middle\" x=\"402.721\" y=\"-291.8\" font-family=\"Times,serif\" font-size=\"14.00\">0</text>\n",
       "</g>\n",
       "<!-- \\(F_I\\)&#45;&gt;\\(I_I\\) -->\n",
       "<g id=\"edge4\" class=\"edge\"><title>\\(F_I\\)&#45;&gt;\\(I_I\\)</title>\n",
       "<path fill=\"none\" stroke=\"black\" d=\"M835.174,-125.724C826.278,-124.349 816.549,-122.979 807.552,-122 628.756,-102.54 583.573,-96 403.721,-96 218.32,-96 218.32,-96 218.32,-96 196.931,-96 172.968,-96 153.862,-96\"/>\n",
       "<polygon fill=\"black\" stroke=\"black\" points=\"153.794,-92.5001 143.794,-96 153.794,-99.5001 153.794,-92.5001\"/>\n",
       "<text text-anchor=\"middle\" x=\"471.741\" y=\"-100.8\" font-family=\"Times,serif\" font-size=\"14.00\">1</text>\n",
       "</g>\n",
       "<!-- \\(F_I\\)&#45;&gt;\\(F_S0\\) -->\n",
       "<g id=\"edge18\" class=\"edge\"><title>\\(F_I\\)&#45;&gt;\\(F_S0\\)</title>\n",
       "<path fill=\"none\" stroke=\"black\" d=\"M834.89,-127.281C797.539,-124.004 733.648,-122.168 682.615,-140 666.567,-145.608 650.919,-155.493 637.741,-165.531\"/>\n",
       "<polygon fill=\"black\" stroke=\"black\" points=\"635.538,-162.811 629.874,-171.764 639.885,-168.297 635.538,-162.811\"/>\n",
       "<text text-anchor=\"middle\" x=\"732.583\" y=\"-142.8\" font-family=\"Times,serif\" font-size=\"14.00\">0</text>\n",
       "</g>\n",
       "<!-- \\(F_S0\\)&#45;&gt;\\(I_S01\\) -->\n",
       "<g id=\"edge11\" class=\"edge\"><title>\\(F_S0\\)&#45;&gt;\\(I_S01\\)</title>\n",
       "<path fill=\"none\" stroke=\"black\" d=\"M639.785,-198.584C653.995,-198.803 670.31,-199.055 685.207,-199.285\"/>\n",
       "<polygon fill=\"black\" stroke=\"black\" points=\"685.197,-202.785 695.25,-199.44 685.306,-195.786 685.197,-202.785\"/>\n",
       "<text text-anchor=\"middle\" x=\"661.115\" y=\"-201.8\" font-family=\"Times,serif\" font-size=\"14.00\">1</text>\n",
       "</g>\n",
       "<!-- \\(F_S0\\)&#45;&gt;\\(F_S0\\) -->\n",
       "<g id=\"edge10\" class=\"edge\"><title>\\(F_S0\\)&#45;&gt;\\(F_S0\\)</title>\n",
       "<path fill=\"none\" stroke=\"black\" d=\"M589.713,-235.067C590.048,-246.095 593.789,-254.677 600.938,-254.677 605.629,-254.677 608.853,-250.981 610.61,-245.324\"/>\n",
       "<polygon fill=\"black\" stroke=\"black\" points=\"614.126,-245.479 612.163,-235.067 607.205,-244.43 614.126,-245.479\"/>\n",
       "<text text-anchor=\"middle\" x=\"600.938\" y=\"-257.477\" font-family=\"Times,serif\" font-size=\"14.00\">0</text>\n",
       "</g>\n",
       "<!-- \\(I_F0101\\)&#45;&gt;\\(I_S010\\) -->\n",
       "<g id=\"edge17\" class=\"edge\"><title>\\(I_F0101\\)&#45;&gt;\\(I_S010\\)</title>\n",
       "<path fill=\"none\" stroke=\"black\" d=\"M782.927,-305C793.413,-305 804.505,-305 815.053,-305\"/>\n",
       "<polygon fill=\"black\" stroke=\"black\" points=\"815.377,-308.5 825.377,-305 815.377,-301.5 815.377,-308.5\"/>\n",
       "<text text-anchor=\"middle\" x=\"804.052\" y=\"-307.8\" font-family=\"Times,serif\" font-size=\"14.00\">0</text>\n",
       "</g>\n",
       "<!-- \\(I_F0101\\)&#45;&gt;\\(F_I\\) -->\n",
       "<g id=\"edge9\" class=\"edge\"><title>\\(I_F0101\\)&#45;&gt;\\(F_I\\)</title>\n",
       "<path fill=\"none\" stroke=\"black\" d=\"M772.513,-274.733C784.603,-264.215 797.405,-251.82 807.552,-239 824.27,-217.877 838.744,-191.306 849.118,-169.806\"/>\n",
       "<polygon fill=\"black\" stroke=\"black\" points=\"852.346,-171.166 853.448,-160.629 846.015,-168.179 852.346,-171.166\"/>\n",
       "<text text-anchor=\"middle\" x=\"804.052\" y=\"-250.8\" font-family=\"Times,serif\" font-size=\"14.00\">1</text>\n",
       "</g>\n",
       "</g>\n",
       "</svg>\n"
      ],
      "text/plain": [
       "<graphviz.dot.Digraph at 0x10a695470>"
      ]
     },
     "execution_count": 101,
     "metadata": {},
     "output_type": "execute_result"
    }
   ],
   "source": [
    "dotObj_dfa(odd1sORends0101)"
   ]
  },
  {
   "cell_type": "code",
   "execution_count": 102,
   "metadata": {
    "run_control": {
     "frozen": false,
     "read_only": false
    }
   },
   "outputs": [
    {
     "data": {
      "text/plain": [
       "'// do_St38\\ndigraph {\\n\\tgraph [rankdir=LR]\\n\\t\\tEMPTY [label=\"\" shape=plaintext]\\n\\t\\t\"\\\\(I_S0\\\\)\" [label=\"\\\\(I_S0\\\\)\" peripheries=1 shape=circle]\\n\\t\\t\"\\\\(I_I\\\\)\" [label=\"\\\\(I_I\\\\)\" peripheries=1 shape=circle]\\n\\t\\t\"\\\\(I_S010\\\\)\" [label=\"\\\\(I_S010\\\\)\" peripheries=1 shape=circle]\\n\\t\\t\"\\\\(I_S01\\\\)\" [label=\"\\\\(I_S01\\\\)\" peripheries=1 shape=circle]\\n\\t\\t\"\\\\(F_F0101\\\\)\" [label=\"\\\\(F_F0101\\\\)\" peripheries=2 shape=circle]\\n\\t\\t\"\\\\(F_S010\\\\)\" [label=\"\\\\(F_S010\\\\)\" peripheries=2 shape=circle]\\n\\t\\t\"\\\\(F_S01\\\\)\" [label=\"\\\\(F_S01\\\\)\" peripheries=2 shape=circle]\\n\\t\\t\"\\\\(F_I\\\\)\" [label=\"\\\\(F_I\\\\)\" peripheries=2 shape=circle]\\n\\t\\t\"\\\\(F_S0\\\\)\" [label=\"\\\\(F_S0\\\\)\" peripheries=2 shape=circle]\\n\\t\\t\"\\\\(I_F0101\\\\)\" [label=\"\\\\(I_F0101\\\\)\" peripheries=2 shape=circle]\\n\\t\\t\\tEMPTY -> \"\\\\(I_I\\\\)\"\\n\\t\\t\\t\"\\\\(F_S010\\\\)\" -> \"\\\\(I_F0101\\\\)\" [label=1]\\n\\t\\t\\t\"\\\\(F_F0101\\\\)\" -> \"\\\\(I_I\\\\)\" [label=1]\\n\\t\\t\\t\"\\\\(F_I\\\\)\" -> \"\\\\(I_I\\\\)\" [label=1]\\n\\t\\t\\t\"\\\\(I_I\\\\)\" -> \"\\\\(I_S0\\\\)\" [label=0]\\n\\t\\t\\t\"\\\\(F_F0101\\\\)\" -> \"\\\\(F_S010\\\\)\" [label=0]\\n\\t\\t\\t\"\\\\(I_S01\\\\)\" -> \"\\\\(I_S010\\\\)\" [label=0]\\n\\t\\t\\t\"\\\\(I_I\\\\)\" -> \"\\\\(F_I\\\\)\" [label=1]\\n\\t\\t\\t\"\\\\(I_F0101\\\\)\" -> \"\\\\(F_I\\\\)\" [label=1]\\n\\t\\t\\t\"\\\\(F_S0\\\\)\" -> \"\\\\(F_S0\\\\)\" [label=0]\\n\\t\\t\\t\"\\\\(F_S0\\\\)\" -> \"\\\\(I_S01\\\\)\" [label=1]\\n\\t\\t\\t\"\\\\(I_S01\\\\)\" -> \"\\\\(F_I\\\\)\" [label=1]\\n\\t\\t\\t\"\\\\(F_S010\\\\)\" -> \"\\\\(F_S0\\\\)\" [label=0]\\n\\t\\t\\t\"\\\\(I_S010\\\\)\" -> \"\\\\(F_F0101\\\\)\" [label=1]\\n\\t\\t\\t\"\\\\(I_S0\\\\)\" -> \"\\\\(I_S0\\\\)\" [label=0]\\n\\t\\t\\t\"\\\\(I_S0\\\\)\" -> \"\\\\(F_S01\\\\)\" [label=1]\\n\\t\\t\\t\"\\\\(I_F0101\\\\)\" -> \"\\\\(I_S010\\\\)\" [label=0]\\n\\t\\t\\t\"\\\\(F_I\\\\)\" -> \"\\\\(F_S0\\\\)\" [label=0]\\n\\t\\t\\t\"\\\\(F_S01\\\\)\" -> \"\\\\(I_I\\\\)\" [label=1]\\n\\t\\t\\t\"\\\\(I_S010\\\\)\" -> \"\\\\(I_S0\\\\)\" [label=0]\\n\\t\\t\\t\"\\\\(F_S01\\\\)\" -> \"\\\\(F_S010\\\\)\" [label=0]\\n}'"
      ]
     },
     "execution_count": 102,
     "metadata": {},
     "output_type": "execute_result"
    }
   ],
   "source": [
    "dotObj_dfa(odd1sORends0101).source"
   ]
  },
  {
   "cell_type": "code",
   "execution_count": 103,
   "metadata": {
    "run_control": {
     "frozen": false,
     "read_only": false
    }
   },
   "outputs": [],
   "source": [
    "Minodd1sORends0101 = min_dfa(odd1sORends0101)"
   ]
  },
  {
   "cell_type": "code",
   "execution_count": 104,
   "metadata": {
    "run_control": {
     "frozen": false,
     "read_only": false
    }
   },
   "outputs": [
    {
     "data": {
      "image/svg+xml": [
       "<?xml version=\"1.0\" encoding=\"UTF-8\" standalone=\"no\"?>\n",
       "<!DOCTYPE svg PUBLIC \"-//W3C//DTD SVG 1.1//EN\"\n",
       " \"http://www.w3.org/Graphics/SVG/1.1/DTD/svg11.dtd\">\n",
       "<!-- Generated by graphviz version 2.38.0 (20140413.2041)\n",
       " -->\n",
       "<!-- Title: %3 Pages: 1 -->\n",
       "<svg width=\"778pt\" height=\"224pt\"\n",
       " viewBox=\"0.00 0.00 777.76 223.97\" xmlns=\"http://www.w3.org/2000/svg\" xmlns:xlink=\"http://www.w3.org/1999/xlink\">\n",
       "<g id=\"graph0\" class=\"graph\" transform=\"scale(1 1) rotate(0) translate(4 219.969)\">\n",
       "<title>%3</title>\n",
       "<polygon fill=\"white\" stroke=\"none\" points=\"-4,4 -4,-219.969 773.762,-219.969 773.762,4 -4,4\"/>\n",
       "<!-- EMPTY -->\n",
       "<g id=\"node1\" class=\"node\"><title>EMPTY</title>\n",
       "</g>\n",
       "<!-- \\(I_I\\) -->\n",
       "<g id=\"node3\" class=\"node\"><title>\\(I_I\\)</title>\n",
       "<ellipse fill=\"none\" stroke=\"black\" cx=\"117.308\" cy=\"-61\" rx=\"26.118\" ry=\"26.118\"/>\n",
       "<text text-anchor=\"middle\" x=\"117.308\" y=\"-56.8\" font-family=\"Times,serif\" font-size=\"14.00\">(I_I)</text>\n",
       "</g>\n",
       "<!-- EMPTY&#45;&gt;\\(I_I\\) -->\n",
       "<g id=\"edge1\" class=\"edge\"><title>EMPTY&#45;&gt;\\(I_I\\)</title>\n",
       "<path fill=\"none\" stroke=\"black\" d=\"M54.0178,-61C62.3552,-61 71.7368,-61 80.64,-61\"/>\n",
       "<polygon fill=\"black\" stroke=\"black\" points=\"80.7808,-64.5001 90.7807,-61 80.7807,-57.5001 80.7808,-64.5001\"/>\n",
       "</g>\n",
       "<!-- \\(I_S0\\) -->\n",
       "<g id=\"node2\" class=\"node\"><title>\\(I_S0\\)</title>\n",
       "<ellipse fill=\"none\" stroke=\"black\" cx=\"219.32\" cy=\"-149\" rx=\"32.9081\" ry=\"32.9081\"/>\n",
       "<text text-anchor=\"middle\" x=\"219.32\" y=\"-144.8\" font-family=\"Times,serif\" font-size=\"14.00\">(I_S0)</text>\n",
       "</g>\n",
       "<!-- \\(I_S0\\)&#45;&gt;\\(I_S0\\) -->\n",
       "<g id=\"edge12\" class=\"edge\"><title>\\(I_S0\\)&#45;&gt;\\(I_S0\\)</title>\n",
       "<path fill=\"none\" stroke=\"black\" d=\"M209.198,-180.193C209.09,-190.987 212.465,-199.703 219.32,-199.703 223.819,-199.703 226.819,-195.949 228.319,-190.318\"/>\n",
       "<polygon fill=\"black\" stroke=\"black\" points=\"231.818,-190.518 229.443,-180.193 224.861,-189.746 231.818,-190.518\"/>\n",
       "<text text-anchor=\"middle\" x=\"219.32\" y=\"-202.503\" font-family=\"Times,serif\" font-size=\"14.00\">0</text>\n",
       "</g>\n",
       "<!-- \\(F_S01\\) -->\n",
       "<g id=\"node5\" class=\"node\"><title>\\(F_S01\\)</title>\n",
       "<ellipse fill=\"none\" stroke=\"black\" cx=\"338.122\" cy=\"-114\" rx=\"39.1881\" ry=\"39.1881\"/>\n",
       "<ellipse fill=\"none\" stroke=\"black\" cx=\"338.122\" cy=\"-114\" rx=\"43.1973\" ry=\"43.1973\"/>\n",
       "<text text-anchor=\"middle\" x=\"338.122\" y=\"-109.8\" font-family=\"Times,serif\" font-size=\"14.00\">(F_S01)</text>\n",
       "</g>\n",
       "<!-- \\(I_S0\\)&#45;&gt;\\(F_S01\\) -->\n",
       "<g id=\"edge11\" class=\"edge\"><title>\\(I_S0\\)&#45;&gt;\\(F_S01\\)</title>\n",
       "<path fill=\"none\" stroke=\"black\" d=\"M251.008,-139.804C261.995,-136.512 274.685,-132.709 286.89,-129.052\"/>\n",
       "<polygon fill=\"black\" stroke=\"black\" points=\"287.957,-132.386 296.532,-126.163 285.948,-125.681 287.957,-132.386\"/>\n",
       "<text text-anchor=\"middle\" x=\"273.524\" y=\"-136.8\" font-family=\"Times,serif\" font-size=\"14.00\">1</text>\n",
       "</g>\n",
       "<!-- \\(I_I\\)&#45;&gt;\\(I_S0\\) -->\n",
       "<g id=\"edge5\" class=\"edge\"><title>\\(I_I\\)&#45;&gt;\\(I_S0\\)</title>\n",
       "<path fill=\"none\" stroke=\"black\" d=\"M137.592,-77.9673C151.445,-90.157 170.435,-106.866 186.516,-121.016\"/>\n",
       "<polygon fill=\"black\" stroke=\"black\" points=\"184.322,-123.747 194.142,-127.726 188.946,-118.492 184.322,-123.747\"/>\n",
       "<text text-anchor=\"middle\" x=\"165.117\" y=\"-107.8\" font-family=\"Times,serif\" font-size=\"14.00\">0</text>\n",
       "</g>\n",
       "<!-- \\(F_I\\) -->\n",
       "<g id=\"node4\" class=\"node\"><title>\\(F_I\\)</title>\n",
       "<ellipse fill=\"none\" stroke=\"black\" cx=\"737.48\" cy=\"-61\" rx=\"28.0917\" ry=\"28.0917\"/>\n",
       "<ellipse fill=\"none\" stroke=\"black\" cx=\"737.48\" cy=\"-61\" rx=\"32.0649\" ry=\"32.0649\"/>\n",
       "<text text-anchor=\"middle\" x=\"737.48\" y=\"-56.8\" font-family=\"Times,serif\" font-size=\"14.00\">(F_I)</text>\n",
       "</g>\n",
       "<!-- \\(I_I\\)&#45;&gt;\\(F_I\\) -->\n",
       "<g id=\"edge7\" class=\"edge\"><title>\\(I_I\\)&#45;&gt;\\(F_I\\)</title>\n",
       "<path fill=\"none\" stroke=\"black\" d=\"M142.206,-52.3047C162.249,-45.7915 191.774,-38 218.32,-38 218.32,-38 218.32,-38 613.23,-38 641.418,-38 672.627,-43.8856 696.587,-49.7021\"/>\n",
       "<polygon fill=\"black\" stroke=\"black\" points=\"695.829,-53.1206 706.382,-52.1734 697.542,-46.3333 695.829,-53.1206\"/>\n",
       "<text text-anchor=\"middle\" x=\"402.721\" y=\"-40.8\" font-family=\"Times,serif\" font-size=\"14.00\">1</text>\n",
       "</g>\n",
       "<!-- \\(F_I\\)&#45;&gt;\\(I_I\\) -->\n",
       "<g id=\"edge4\" class=\"edge\"><title>\\(F_I\\)&#45;&gt;\\(I_I\\)</title>\n",
       "<path fill=\"none\" stroke=\"black\" d=\"M712.257,-40.6879C688.577,-22.9429 650.713,-0 613.23,-0 218.32,-0 218.32,-0 218.32,-0 189.669,-0 162.265,-18.4722 143.412,-35.0863\"/>\n",
       "<polygon fill=\"black\" stroke=\"black\" points=\"140.856,-32.6819 135.877,-42.0336 145.601,-37.8283 140.856,-32.6819\"/>\n",
       "<text text-anchor=\"middle\" x=\"402.721\" y=\"-2.8\" font-family=\"Times,serif\" font-size=\"14.00\">1</text>\n",
       "</g>\n",
       "<!-- \\(F_I\\)&#45;&gt;\\(F_I\\) -->\n",
       "<g id=\"edge9\" class=\"edge\"><title>\\(F_I\\)&#45;&gt;\\(F_I\\)</title>\n",
       "<path fill=\"none\" stroke=\"black\" d=\"M727.732,-91.9335C727.629,-102.637 730.879,-111.282 737.48,-111.282 741.812,-111.282 744.701,-107.559 746.146,-101.974\"/>\n",
       "<polygon fill=\"black\" stroke=\"black\" points=\"749.636,-102.251 747.228,-91.9335 742.676,-101.501 749.636,-102.251\"/>\n",
       "<text text-anchor=\"middle\" x=\"737.48\" y=\"-114.082\" font-family=\"Times,serif\" font-size=\"14.00\">0</text>\n",
       "</g>\n",
       "<!-- \\(F_S01\\)&#45;&gt;\\(I_I\\) -->\n",
       "<g id=\"edge3\" class=\"edge\"><title>\\(F_S01\\)&#45;&gt;\\(I_I\\)</title>\n",
       "<path fill=\"none\" stroke=\"black\" d=\"M296.017,-103.794C282.058,-100.345 266.367,-96.486 252.024,-93 218.293,-84.8022 179.736,-75.592 152.721,-69.165\"/>\n",
       "<polygon fill=\"black\" stroke=\"black\" points=\"153.504,-65.7538 142.966,-66.846 151.885,-72.564 153.504,-65.7538\"/>\n",
       "<text text-anchor=\"middle\" x=\"219.32\" y=\"-95.8\" font-family=\"Times,serif\" font-size=\"14.00\">1</text>\n",
       "</g>\n",
       "<!-- \\(F_S010\\) -->\n",
       "<g id=\"node6\" class=\"node\"><title>\\(F_S010\\)</title>\n",
       "<ellipse fill=\"none\" stroke=\"black\" cx=\"471.741\" cy=\"-114\" rx=\"43.5388\" ry=\"43.5388\"/>\n",
       "<ellipse fill=\"none\" stroke=\"black\" cx=\"471.741\" cy=\"-114\" rx=\"47.5405\" ry=\"47.5405\"/>\n",
       "<text text-anchor=\"middle\" x=\"471.741\" y=\"-109.8\" font-family=\"Times,serif\" font-size=\"14.00\">(F_S010)</text>\n",
       "</g>\n",
       "<!-- \\(F_S01\\)&#45;&gt;\\(F_S010\\) -->\n",
       "<g id=\"edge6\" class=\"edge\"><title>\\(F_S01\\)&#45;&gt;\\(F_S010\\)</title>\n",
       "<path fill=\"none\" stroke=\"black\" d=\"M381.492,-114C391.742,-114 402.866,-114 413.67,-114\"/>\n",
       "<polygon fill=\"black\" stroke=\"black\" points=\"413.891,-117.5 423.891,-114 413.891,-110.5 413.891,-117.5\"/>\n",
       "<text text-anchor=\"middle\" x=\"402.721\" y=\"-116.8\" font-family=\"Times,serif\" font-size=\"14.00\">0</text>\n",
       "</g>\n",
       "<!-- \\(F_S010\\)&#45;&gt;\\(F_I\\) -->\n",
       "<g id=\"edge10\" class=\"edge\"><title>\\(F_S010\\)&#45;&gt;\\(F_I\\)</title>\n",
       "<path fill=\"none\" stroke=\"black\" d=\"M518.187,-102.886C532.28,-99.5618 547.885,-96.0046 562.261,-93 607.741,-83.4947 660.221,-74.0631 695.597,-67.929\"/>\n",
       "<polygon fill=\"black\" stroke=\"black\" points=\"696.291,-71.3611 705.55,-66.212 695.1,-64.463 696.291,-71.3611\"/>\n",
       "<text text-anchor=\"middle\" x=\"612.23\" y=\"-95.8\" font-family=\"Times,serif\" font-size=\"14.00\">0</text>\n",
       "</g>\n",
       "<!-- \\(I_F0101\\) -->\n",
       "<g id=\"node7\" class=\"node\"><title>\\(I_F0101\\)</title>\n",
       "<ellipse fill=\"none\" stroke=\"black\" cx=\"612.23\" cy=\"-166\" rx=\"45.9398\" ry=\"45.9398\"/>\n",
       "<ellipse fill=\"none\" stroke=\"black\" cx=\"612.23\" cy=\"-166\" rx=\"49.9373\" ry=\"49.9373\"/>\n",
       "<text text-anchor=\"middle\" x=\"612.23\" y=\"-161.8\" font-family=\"Times,serif\" font-size=\"14.00\">(I_F0101)</text>\n",
       "</g>\n",
       "<!-- \\(F_S010\\)&#45;&gt;\\(I_F0101\\) -->\n",
       "<g id=\"edge2\" class=\"edge\"><title>\\(F_S010\\)&#45;&gt;\\(I_F0101\\)</title>\n",
       "<path fill=\"none\" stroke=\"black\" d=\"M516.56,-130.453C529.058,-135.146 542.839,-140.321 555.928,-145.235\"/>\n",
       "<polygon fill=\"black\" stroke=\"black\" points=\"554.715,-148.518 565.307,-148.757 557.176,-141.965 554.715,-148.518\"/>\n",
       "<text text-anchor=\"middle\" x=\"540.761\" y=\"-142.8\" font-family=\"Times,serif\" font-size=\"14.00\">1</text>\n",
       "</g>\n",
       "<!-- \\(I_F0101\\)&#45;&gt;\\(I_S0\\) -->\n",
       "<g id=\"edge13\" class=\"edge\"><title>\\(I_F0101\\)&#45;&gt;\\(I_S0\\)</title>\n",
       "<path fill=\"none\" stroke=\"black\" d=\"M562.217,-169.955C499.839,-174.083 388.907,-178.39 295.024,-166 283.817,-164.521 271.818,-162.15 260.788,-159.643\"/>\n",
       "<polygon fill=\"black\" stroke=\"black\" points=\"261.519,-156.22 250.982,-157.324 259.908,-163.032 261.519,-156.22\"/>\n",
       "<text text-anchor=\"middle\" x=\"402.721\" y=\"-175.8\" font-family=\"Times,serif\" font-size=\"14.00\">0</text>\n",
       "</g>\n",
       "<!-- \\(I_F0101\\)&#45;&gt;\\(F_I\\) -->\n",
       "<g id=\"edge8\" class=\"edge\"><title>\\(I_F0101\\)&#45;&gt;\\(F_I\\)</title>\n",
       "<path fill=\"none\" stroke=\"black\" d=\"M650.879,-133.926C668.035,-119.31 688.128,-102.192 704.534,-88.2154\"/>\n",
       "<polygon fill=\"black\" stroke=\"black\" points=\"706.921,-90.7804 712.263,-81.6311 702.381,-85.4518 706.921,-90.7804\"/>\n",
       "<text text-anchor=\"middle\" x=\"683.698\" y=\"-110.8\" font-family=\"Times,serif\" font-size=\"14.00\">1</text>\n",
       "</g>\n",
       "</g>\n",
       "</svg>\n"
      ],
      "text/plain": [
       "<graphviz.dot.Digraph at 0x10a1cc4a8>"
      ]
     },
     "execution_count": 104,
     "metadata": {},
     "output_type": "execute_result"
    }
   ],
   "source": [
    "dotObj_dfa(Minodd1sORends0101)"
   ]
  },
  {
   "cell_type": "code",
   "execution_count": 105,
   "metadata": {
    "run_control": {
     "frozen": false,
     "read_only": false
    }
   },
   "outputs": [
    {
     "data": {
      "text/plain": [
       "'// do_St40\\ndigraph {\\n\\tgraph [rankdir=LR]\\n\\t\\tEMPTY [label=\"\" shape=plaintext]\\n\\t\\t\"\\\\(I_S0\\\\)\" [label=\"\\\\(I_S0\\\\)\" peripheries=1 shape=circle]\\n\\t\\t\"\\\\(I_I\\\\)\" [label=\"\\\\(I_I\\\\)\" peripheries=1 shape=circle]\\n\\t\\t\"\\\\(F_I\\\\)\" [label=\"\\\\(F_I\\\\)\" peripheries=2 shape=circle]\\n\\t\\t\"\\\\(F_S01\\\\)\" [label=\"\\\\(F_S01\\\\)\" peripheries=2 shape=circle]\\n\\t\\t\"\\\\(F_S010\\\\)\" [label=\"\\\\(F_S010\\\\)\" peripheries=2 shape=circle]\\n\\t\\t\"\\\\(I_F0101\\\\)\" [label=\"\\\\(I_F0101\\\\)\" peripheries=2 shape=circle]\\n\\t\\t\\tEMPTY -> \"\\\\(I_I\\\\)\"\\n\\t\\t\\t\"\\\\(F_S010\\\\)\" -> \"\\\\(I_F0101\\\\)\" [label=1]\\n\\t\\t\\t\"\\\\(F_S01\\\\)\" -> \"\\\\(I_I\\\\)\" [label=1]\\n\\t\\t\\t\"\\\\(F_I\\\\)\" -> \"\\\\(I_I\\\\)\" [label=1]\\n\\t\\t\\t\"\\\\(I_I\\\\)\" -> \"\\\\(I_S0\\\\)\" [label=0]\\n\\t\\t\\t\"\\\\(F_S01\\\\)\" -> \"\\\\(F_S010\\\\)\" [label=0]\\n\\t\\t\\t\"\\\\(I_I\\\\)\" -> \"\\\\(F_I\\\\)\" [label=1]\\n\\t\\t\\t\"\\\\(I_F0101\\\\)\" -> \"\\\\(F_I\\\\)\" [label=1]\\n\\t\\t\\t\"\\\\(F_I\\\\)\" -> \"\\\\(F_I\\\\)\" [label=0]\\n\\t\\t\\t\"\\\\(F_S010\\\\)\" -> \"\\\\(F_I\\\\)\" [label=0]\\n\\t\\t\\t\"\\\\(I_S0\\\\)\" -> \"\\\\(F_S01\\\\)\" [label=1]\\n\\t\\t\\t\"\\\\(I_S0\\\\)\" -> \"\\\\(I_S0\\\\)\" [label=0]\\n\\t\\t\\t\"\\\\(I_F0101\\\\)\" -> \"\\\\(I_S0\\\\)\" [label=0]\\n}'"
      ]
     },
     "execution_count": 105,
     "metadata": {},
     "output_type": "execute_result"
    }
   ],
   "source": [
    "dotObj_dfa(Minodd1sORends0101).source"
   ]
  },
  {
   "cell_type": "code",
   "execution_count": 106,
   "metadata": {
    "run_control": {
     "frozen": false,
     "read_only": false
    }
   },
   "outputs": [
    {
     "data": {
      "text/plain": [
       "False"
      ]
     },
     "execution_count": 106,
     "metadata": {},
     "output_type": "execute_result"
    }
   ],
   "source": [
    "iso_dfa(odd1sORends0101, Minodd1sORends0101)"
   ]
  },
  {
   "cell_type": "code",
   "execution_count": 107,
   "metadata": {
    "run_control": {
     "frozen": false,
     "read_only": false
    }
   },
   "outputs": [
    {
     "data": {
      "text/plain": [
       "True"
      ]
     },
     "execution_count": 107,
     "metadata": {},
     "output_type": "execute_result"
    }
   ],
   "source": [
    "langeq_dfa(odd1sORends0101, Minodd1sORends0101)"
   ]
  },
  {
   "cell_type": "code",
   "execution_count": 108,
   "metadata": {
    "run_control": {
     "frozen": false,
     "read_only": false
    }
   },
   "outputs": [],
   "source": [
    "odd1sANDends0101 = intersect_dfa(dfaOdd1s,ends0101)"
   ]
  },
  {
   "cell_type": "code",
   "execution_count": 109,
   "metadata": {
    "run_control": {
     "frozen": false,
     "read_only": false
    }
   },
   "outputs": [
    {
     "data": {
      "image/svg+xml": [
       "<?xml version=\"1.0\" encoding=\"UTF-8\" standalone=\"no\"?>\n",
       "<!DOCTYPE svg PUBLIC \"-//W3C//DTD SVG 1.1//EN\"\n",
       " \"http://www.w3.org/Graphics/SVG/1.1/DTD/svg11.dtd\">\n",
       "<!-- Generated by graphviz version 2.38.0 (20140413.2041)\n",
       " -->\n",
       "<!-- Title: %3 Pages: 1 -->\n",
       "<svg width=\"1032pt\" height=\"447pt\"\n",
       " viewBox=\"0.00 0.00 1031.53 447.00\" xmlns=\"http://www.w3.org/2000/svg\" xmlns:xlink=\"http://www.w3.org/1999/xlink\">\n",
       "<g id=\"graph0\" class=\"graph\" transform=\"scale(1 1) rotate(0) translate(4 443)\">\n",
       "<title>%3</title>\n",
       "<polygon fill=\"white\" stroke=\"none\" points=\"-4,4 -4,-443 1027.53,-443 1027.53,4 -4,4\"/>\n",
       "<!-- EMPTY -->\n",
       "<g id=\"node1\" class=\"node\"><title>EMPTY</title>\n",
       "</g>\n",
       "<!-- \\(I_I\\) -->\n",
       "<g id=\"node4\" class=\"node\"><title>\\(I_I\\)</title>\n",
       "<ellipse fill=\"none\" stroke=\"black\" cx=\"117.308\" cy=\"-96\" rx=\"26.118\" ry=\"26.118\"/>\n",
       "<text text-anchor=\"middle\" x=\"117.308\" y=\"-91.8\" font-family=\"Times,serif\" font-size=\"14.00\">(I_I)</text>\n",
       "</g>\n",
       "<!-- EMPTY&#45;&gt;\\(I_I\\) -->\n",
       "<g id=\"edge1\" class=\"edge\"><title>EMPTY&#45;&gt;\\(I_I\\)</title>\n",
       "<path fill=\"none\" stroke=\"black\" d=\"M54.0178,-96C62.3552,-96 71.7368,-96 80.64,-96\"/>\n",
       "<polygon fill=\"black\" stroke=\"black\" points=\"80.7808,-99.5001 90.7807,-96 80.7807,-92.5001 80.7808,-99.5001\"/>\n",
       "</g>\n",
       "<!-- \\(I_S01\\) -->\n",
       "<g id=\"node2\" class=\"node\"><title>\\(I_S01\\)</title>\n",
       "<ellipse fill=\"none\" stroke=\"black\" cx=\"704.583\" cy=\"-310\" rx=\"37.2507\" ry=\"37.2507\"/>\n",
       "<text text-anchor=\"middle\" x=\"704.583\" y=\"-305.8\" font-family=\"Times,serif\" font-size=\"14.00\">(I_S01)</text>\n",
       "</g>\n",
       "<!-- \\(I_S010\\) -->\n",
       "<g id=\"node5\" class=\"node\"><title>\\(I_S010\\)</title>\n",
       "<ellipse fill=\"none\" stroke=\"black\" cx=\"835.099\" cy=\"-311\" rx=\"41.5938\" ry=\"41.5938\"/>\n",
       "<text text-anchor=\"middle\" x=\"835.099\" y=\"-306.8\" font-family=\"Times,serif\" font-size=\"14.00\">(I_S010)</text>\n",
       "</g>\n",
       "<!-- \\(I_S01\\)&#45;&gt;\\(I_S010\\) -->\n",
       "<g id=\"edge7\" class=\"edge\"><title>\\(I_S01\\)&#45;&gt;\\(I_S010\\)</title>\n",
       "<path fill=\"none\" stroke=\"black\" d=\"M741.724,-310.281C754.503,-310.381 769.13,-310.494 782.918,-310.602\"/>\n",
       "<polygon fill=\"black\" stroke=\"black\" points=\"783.227,-314.104 793.254,-310.682 783.281,-307.104 783.227,-314.104\"/>\n",
       "<text text-anchor=\"middle\" x=\"772.052\" y=\"-313.8\" font-family=\"Times,serif\" font-size=\"14.00\">0</text>\n",
       "</g>\n",
       "<!-- \\(F_I\\) -->\n",
       "<g id=\"node8\" class=\"node\"><title>\\(F_I\\)</title>\n",
       "<ellipse fill=\"none\" stroke=\"black\" cx=\"835.099\" cy=\"-159\" rx=\"28.0651\" ry=\"28.0651\"/>\n",
       "<text text-anchor=\"middle\" x=\"835.099\" y=\"-154.8\" font-family=\"Times,serif\" font-size=\"14.00\">(F_I)</text>\n",
       "</g>\n",
       "<!-- \\(I_S01\\)&#45;&gt;\\(F_I\\) -->\n",
       "<g id=\"edge12\" class=\"edge\"><title>\\(I_S01\\)&#45;&gt;\\(F_I\\)</title>\n",
       "<path fill=\"none\" stroke=\"black\" d=\"M735.334,-288.74C748.515,-278.5 763.688,-265.52 775.552,-252 791.377,-233.966 805.782,-211.209 816.344,-192.72\"/>\n",
       "<polygon fill=\"black\" stroke=\"black\" points=\"819.53,-194.194 821.356,-183.758 813.42,-190.777 819.53,-194.194\"/>\n",
       "<text text-anchor=\"middle\" x=\"772.052\" y=\"-262.8\" font-family=\"Times,serif\" font-size=\"14.00\">1</text>\n",
       "</g>\n",
       "<!-- \\(I_S0\\) -->\n",
       "<g id=\"node3\" class=\"node\"><title>\\(I_S0\\)</title>\n",
       "<ellipse fill=\"none\" stroke=\"black\" cx=\"219.32\" cy=\"-226\" rx=\"32.9081\" ry=\"32.9081\"/>\n",
       "<text text-anchor=\"middle\" x=\"219.32\" y=\"-221.8\" font-family=\"Times,serif\" font-size=\"14.00\">(I_S0)</text>\n",
       "</g>\n",
       "<!-- \\(I_S0\\)&#45;&gt;\\(I_S0\\) -->\n",
       "<g id=\"edge15\" class=\"edge\"><title>\\(I_S0\\)&#45;&gt;\\(I_S0\\)</title>\n",
       "<path fill=\"none\" stroke=\"black\" d=\"M209.198,-257.193C209.09,-267.987 212.465,-276.703 219.32,-276.703 223.819,-276.703 226.819,-272.949 228.319,-267.318\"/>\n",
       "<polygon fill=\"black\" stroke=\"black\" points=\"231.818,-267.518 229.443,-257.193 224.861,-266.746 231.818,-267.518\"/>\n",
       "<text text-anchor=\"middle\" x=\"219.32\" y=\"-279.503\" font-family=\"Times,serif\" font-size=\"14.00\">0</text>\n",
       "</g>\n",
       "<!-- \\(F_S01\\) -->\n",
       "<g id=\"node7\" class=\"node\"><title>\\(F_S01\\)</title>\n",
       "<ellipse fill=\"none\" stroke=\"black\" cx=\"334.122\" cy=\"-226\" rx=\"39.1973\" ry=\"39.1973\"/>\n",
       "<text text-anchor=\"middle\" x=\"334.122\" y=\"-221.8\" font-family=\"Times,serif\" font-size=\"14.00\">(F_S01)</text>\n",
       "</g>\n",
       "<!-- \\(I_S0\\)&#45;&gt;\\(F_S01\\) -->\n",
       "<g id=\"edge16\" class=\"edge\"><title>\\(I_S0\\)&#45;&gt;\\(F_S01\\)</title>\n",
       "<path fill=\"none\" stroke=\"black\" d=\"M252.042,-226C262.22,-226 273.733,-226 284.82,-226\"/>\n",
       "<polygon fill=\"black\" stroke=\"black\" points=\"284.832,-229.5 294.832,-226 284.832,-222.5 284.832,-229.5\"/>\n",
       "<text text-anchor=\"middle\" x=\"273.524\" y=\"-228.8\" font-family=\"Times,serif\" font-size=\"14.00\">1</text>\n",
       "</g>\n",
       "<!-- \\(I_I\\)&#45;&gt;\\(I_S0\\) -->\n",
       "<g id=\"edge5\" class=\"edge\"><title>\\(I_I\\)&#45;&gt;\\(I_S0\\)</title>\n",
       "<path fill=\"none\" stroke=\"black\" d=\"M129.546,-119.719C137.463,-135.301 148.89,-155.733 161.617,-172 168.873,-181.275 177.711,-190.456 186.229,-198.545\"/>\n",
       "<polygon fill=\"black\" stroke=\"black\" points=\"183.867,-201.127 193.585,-205.347 188.619,-195.988 183.867,-201.127\"/>\n",
       "<text text-anchor=\"middle\" x=\"165.117\" y=\"-183.8\" font-family=\"Times,serif\" font-size=\"14.00\">0</text>\n",
       "</g>\n",
       "<!-- \\(I_I\\)&#45;&gt;\\(F_I\\) -->\n",
       "<g id=\"edge8\" class=\"edge\"><title>\\(I_I\\)&#45;&gt;\\(F_I\\)</title>\n",
       "<path fill=\"none\" stroke=\"black\" d=\"M137.937,-79.3507C157.132,-64.8057 187.843,-46 218.32,-46 218.32,-46 218.32,-46 705.583,-46 754.402,-46 793.497,-92.5544 815.239,-125.9\"/>\n",
       "<polygon fill=\"black\" stroke=\"black\" points=\"812.354,-127.887 820.647,-134.481 818.276,-124.154 812.354,-127.887\"/>\n",
       "<text text-anchor=\"middle\" x=\"459.741\" y=\"-48.8\" font-family=\"Times,serif\" font-size=\"14.00\">1</text>\n",
       "</g>\n",
       "<!-- \\(I_S010\\)&#45;&gt;\\(I_S0\\) -->\n",
       "<g id=\"edge20\" class=\"edge\"><title>\\(I_S010\\)&#45;&gt;\\(I_S0\\)</title>\n",
       "<path fill=\"none\" stroke=\"black\" d=\"M810.82,-345C795.821,-364.32 774.653,-387.315 750.552,-401 706.118,-426.231 689.213,-425 638.115,-425 333.122,-425 333.122,-425 333.122,-425 261.754,-425 234.997,-326.934 225.388,-268.485\"/>\n",
       "<polygon fill=\"black\" stroke=\"black\" points=\"228.819,-267.766 223.837,-258.416 221.901,-268.832 228.819,-267.766\"/>\n",
       "<text text-anchor=\"middle\" x=\"524.761\" y=\"-427.8\" font-family=\"Times,serif\" font-size=\"14.00\">0</text>\n",
       "</g>\n",
       "<!-- \\(F_F0101\\) -->\n",
       "<g id=\"node11\" class=\"node\"><title>\\(F_F0101\\)</title>\n",
       "<ellipse fill=\"none\" stroke=\"black\" cx=\"971.588\" cy=\"-311\" rx=\"47.8885\" ry=\"47.8885\"/>\n",
       "<ellipse fill=\"none\" stroke=\"black\" cx=\"971.588\" cy=\"-311\" rx=\"51.8841\" ry=\"51.8841\"/>\n",
       "<text text-anchor=\"middle\" x=\"971.588\" y=\"-306.8\" font-family=\"Times,serif\" font-size=\"14.00\">(F_F0101)</text>\n",
       "</g>\n",
       "<!-- \\(I_S010\\)&#45;&gt;\\(F_F0101\\) -->\n",
       "<g id=\"edge14\" class=\"edge\"><title>\\(I_S010\\)&#45;&gt;\\(F_F0101\\)</title>\n",
       "<path fill=\"none\" stroke=\"black\" d=\"M876.815,-311C887.114,-311 898.402,-311 909.468,-311\"/>\n",
       "<polygon fill=\"black\" stroke=\"black\" points=\"909.532,-314.5 919.532,-311 909.532,-307.5 909.532,-314.5\"/>\n",
       "<text text-anchor=\"middle\" x=\"898.146\" y=\"-313.8\" font-family=\"Times,serif\" font-size=\"14.00\">1</text>\n",
       "</g>\n",
       "<!-- \\(F_S010\\) -->\n",
       "<g id=\"node6\" class=\"node\"><title>\\(F_S010\\)</title>\n",
       "<ellipse fill=\"none\" stroke=\"black\" cx=\"459.741\" cy=\"-232\" rx=\"43.5405\" ry=\"43.5405\"/>\n",
       "<text text-anchor=\"middle\" x=\"459.741\" y=\"-227.8\" font-family=\"Times,serif\" font-size=\"14.00\">(F_S010)</text>\n",
       "</g>\n",
       "<!-- \\(F_S0\\) -->\n",
       "<g id=\"node9\" class=\"node\"><title>\\(F_S0\\)</title>\n",
       "<ellipse fill=\"none\" stroke=\"black\" cx=\"580.938\" cy=\"-241\" rx=\"34.8545\" ry=\"34.8545\"/>\n",
       "<text text-anchor=\"middle\" x=\"580.938\" y=\"-236.8\" font-family=\"Times,serif\" font-size=\"14.00\">(F_S0)</text>\n",
       "</g>\n",
       "<!-- \\(F_S010\\)&#45;&gt;\\(F_S0\\) -->\n",
       "<g id=\"edge13\" class=\"edge\"><title>\\(F_S010\\)&#45;&gt;\\(F_S0\\)</title>\n",
       "<path fill=\"none\" stroke=\"black\" d=\"M503.437,-235.224C513.958,-236.018 525.246,-236.87 535.832,-237.67\"/>\n",
       "<polygon fill=\"black\" stroke=\"black\" points=\"535.896,-241.184 546.131,-238.447 536.423,-234.204 535.896,-241.184\"/>\n",
       "<text text-anchor=\"middle\" x=\"524.761\" y=\"-240.8\" font-family=\"Times,serif\" font-size=\"14.00\">0</text>\n",
       "</g>\n",
       "<!-- \\(I_F0101\\) -->\n",
       "<g id=\"node10\" class=\"node\"><title>\\(I_F0101\\)</title>\n",
       "<ellipse fill=\"none\" stroke=\"black\" cx=\"704.583\" cy=\"-159\" rx=\"45.9373\" ry=\"45.9373\"/>\n",
       "<text text-anchor=\"middle\" x=\"704.583\" y=\"-154.8\" font-family=\"Times,serif\" font-size=\"14.00\">(I_F0101)</text>\n",
       "</g>\n",
       "<!-- \\(F_S010\\)&#45;&gt;\\(I_F0101\\) -->\n",
       "<g id=\"edge2\" class=\"edge\"><title>\\(F_S010\\)&#45;&gt;\\(I_F0101\\)</title>\n",
       "<path fill=\"none\" stroke=\"black\" d=\"M496.362,-207.657C511.198,-198.584 528.975,-189.034 546.261,-183 579.072,-171.547 617.619,-165.555 648.345,-162.422\"/>\n",
       "<polygon fill=\"black\" stroke=\"black\" points=\"648.821,-165.893 658.446,-161.465 648.161,-158.924 648.821,-165.893\"/>\n",
       "<text text-anchor=\"middle\" x=\"580.938\" y=\"-185.8\" font-family=\"Times,serif\" font-size=\"14.00\">1</text>\n",
       "</g>\n",
       "<!-- \\(F_S01\\)&#45;&gt;\\(I_I\\) -->\n",
       "<g id=\"edge19\" class=\"edge\"><title>\\(F_S01\\)&#45;&gt;\\(I_I\\)</title>\n",
       "<path fill=\"none\" stroke=\"black\" d=\"M302.023,-203.456C287.126,-192.935 268.893,-180.457 252.024,-170 217.932,-148.868 177.474,-126.888 150.058,-112.431\"/>\n",
       "<polygon fill=\"black\" stroke=\"black\" points=\"151.418,-109.192 140.937,-107.645 148.166,-115.391 151.418,-109.192\"/>\n",
       "<text text-anchor=\"middle\" x=\"219.32\" y=\"-172.8\" font-family=\"Times,serif\" font-size=\"14.00\">1</text>\n",
       "</g>\n",
       "<!-- \\(F_S01\\)&#45;&gt;\\(F_S010\\) -->\n",
       "<g id=\"edge21\" class=\"edge\"><title>\\(F_S01\\)&#45;&gt;\\(F_S010\\)</title>\n",
       "<path fill=\"none\" stroke=\"black\" d=\"M373.22,-227.849C383.649,-228.355 395.139,-228.913 406.221,-229.451\"/>\n",
       "<polygon fill=\"black\" stroke=\"black\" points=\"406.084,-232.948 416.242,-229.937 406.423,-225.956 406.084,-232.948\"/>\n",
       "<text text-anchor=\"middle\" x=\"394.721\" y=\"-231.8\" font-family=\"Times,serif\" font-size=\"14.00\">0</text>\n",
       "</g>\n",
       "<!-- \\(F_I\\)&#45;&gt;\\(I_I\\) -->\n",
       "<g id=\"edge4\" class=\"edge\"><title>\\(F_I\\)&#45;&gt;\\(I_I\\)</title>\n",
       "<path fill=\"none\" stroke=\"black\" d=\"M813.491,-140.634C797.549,-127.69 774.258,-111.395 750.552,-104 599.965,-57.0268 553.463,-96 395.721,-96 218.32,-96 218.32,-96 218.32,-96 196.931,-96 172.968,-96 153.862,-96\"/>\n",
       "<polygon fill=\"black\" stroke=\"black\" points=\"153.794,-92.5001 143.794,-96 153.794,-99.5001 153.794,-92.5001\"/>\n",
       "<text text-anchor=\"middle\" x=\"459.741\" y=\"-98.8\" font-family=\"Times,serif\" font-size=\"14.00\">1</text>\n",
       "</g>\n",
       "<!-- \\(F_I\\)&#45;&gt;\\(F_S0\\) -->\n",
       "<g id=\"edge18\" class=\"edge\"><title>\\(F_I\\)&#45;&gt;\\(F_S0\\)</title>\n",
       "<path fill=\"none\" stroke=\"black\" d=\"M820.267,-183.203C810.045,-198.609 794.618,-217.409 775.552,-227 728.469,-250.684 666.658,-250.656 625.683,-247.049\"/>\n",
       "<polygon fill=\"black\" stroke=\"black\" points=\"625.776,-243.541 615.48,-246.038 625.086,-250.507 625.776,-243.541\"/>\n",
       "<text text-anchor=\"middle\" x=\"704.583\" y=\"-251.8\" font-family=\"Times,serif\" font-size=\"14.00\">0</text>\n",
       "</g>\n",
       "<!-- \\(F_S0\\)&#45;&gt;\\(I_S01\\) -->\n",
       "<g id=\"edge11\" class=\"edge\"><title>\\(F_S0\\)&#45;&gt;\\(I_S01\\)</title>\n",
       "<path fill=\"none\" stroke=\"black\" d=\"M611.385,-257.703C626.81,-266.453 645.943,-277.305 662.775,-286.852\"/>\n",
       "<polygon fill=\"black\" stroke=\"black\" points=\"661.426,-290.111 671.851,-292.001 664.879,-284.022 661.426,-290.111\"/>\n",
       "<text text-anchor=\"middle\" x=\"637.115\" y=\"-276.8\" font-family=\"Times,serif\" font-size=\"14.00\">1</text>\n",
       "</g>\n",
       "<!-- \\(F_S0\\)&#45;&gt;\\(F_S0\\) -->\n",
       "<g id=\"edge10\" class=\"edge\"><title>\\(F_S0\\)&#45;&gt;\\(F_S0\\)</title>\n",
       "<path fill=\"none\" stroke=\"black\" d=\"M570.439,-274.18C570.493,-285.034 573.993,-293.677 580.938,-293.677 585.496,-293.677 588.57,-289.955 590.16,-284.328\"/>\n",
       "<polygon fill=\"black\" stroke=\"black\" points=\"593.661,-284.539 591.437,-274.18 586.716,-283.664 593.661,-284.539\"/>\n",
       "<text text-anchor=\"middle\" x=\"580.938\" y=\"-296.477\" font-family=\"Times,serif\" font-size=\"14.00\">0</text>\n",
       "</g>\n",
       "<!-- \\(I_F0101\\)&#45;&gt;\\(I_S010\\) -->\n",
       "<g id=\"edge17\" class=\"edge\"><title>\\(I_F0101\\)&#45;&gt;\\(I_S010\\)</title>\n",
       "<path fill=\"none\" stroke=\"black\" d=\"M737.317,-191.577C749.565,-204.518 763.501,-219.704 775.552,-234 785.046,-245.262 794.907,-257.846 803.769,-269.524\"/>\n",
       "<polygon fill=\"black\" stroke=\"black\" points=\"801.215,-271.951 810.026,-277.835 806.807,-267.741 801.215,-271.951\"/>\n",
       "<text text-anchor=\"middle\" x=\"772.052\" y=\"-236.8\" font-family=\"Times,serif\" font-size=\"14.00\">0</text>\n",
       "</g>\n",
       "<!-- \\(I_F0101\\)&#45;&gt;\\(F_I\\) -->\n",
       "<g id=\"edge9\" class=\"edge\"><title>\\(I_F0101\\)&#45;&gt;\\(F_I\\)</title>\n",
       "<path fill=\"none\" stroke=\"black\" d=\"M750.893,-159C765.896,-159 782.413,-159 796.749,-159\"/>\n",
       "<polygon fill=\"black\" stroke=\"black\" points=\"796.749,-162.5 806.749,-159 796.749,-155.5 796.749,-162.5\"/>\n",
       "<text text-anchor=\"middle\" x=\"772.052\" y=\"-161.8\" font-family=\"Times,serif\" font-size=\"14.00\">1</text>\n",
       "</g>\n",
       "<!-- \\(F_F0101\\)&#45;&gt;\\(I_I\\) -->\n",
       "<g id=\"edge3\" class=\"edge\"><title>\\(F_F0101\\)&#45;&gt;\\(I_I\\)</title>\n",
       "<path fill=\"none\" stroke=\"black\" d=\"M970.644,-258.946C967.706,-170.411 947.573,-0 836.099,-0 218.32,-0 218.32,-0 218.32,-0 180.749,-0 151.81,-35.6967 134.946,-63.5553\"/>\n",
       "<polygon fill=\"black\" stroke=\"black\" points=\"131.883,-61.862 129.9,-72.2697 137.94,-65.37 131.883,-61.862\"/>\n",
       "<text text-anchor=\"middle\" x=\"524.761\" y=\"-2.8\" font-family=\"Times,serif\" font-size=\"14.00\">1</text>\n",
       "</g>\n",
       "<!-- \\(F_F0101\\)&#45;&gt;\\(F_S010\\) -->\n",
       "<g id=\"edge6\" class=\"edge\"><title>\\(F_F0101\\)&#45;&gt;\\(F_S010\\)</title>\n",
       "<path fill=\"none\" stroke=\"black\" d=\"M931.962,-344.681C906.51,-363.42 871.455,-383 836.099,-383 579.938,-383 579.938,-383 579.938,-383 527.819,-383 494.95,-326.892 477.228,-283.08\"/>\n",
       "<polygon fill=\"black\" stroke=\"black\" points=\"480.453,-281.716 473.57,-273.661 473.928,-284.25 480.453,-281.716\"/>\n",
       "<text text-anchor=\"middle\" x=\"704.583\" y=\"-385.8\" font-family=\"Times,serif\" font-size=\"14.00\">0</text>\n",
       "</g>\n",
       "</g>\n",
       "</svg>\n"
      ],
      "text/plain": [
       "<graphviz.dot.Digraph at 0x10a1cc978>"
      ]
     },
     "execution_count": 109,
     "metadata": {},
     "output_type": "execute_result"
    }
   ],
   "source": [
    "dotObj_dfa(odd1sANDends0101)"
   ]
  },
  {
   "cell_type": "code",
   "execution_count": 110,
   "metadata": {
    "run_control": {
     "frozen": false,
     "read_only": false
    }
   },
   "outputs": [],
   "source": [
    "Minodd1sANDends0101 = min_dfa(odd1sANDends0101)"
   ]
  },
  {
   "cell_type": "code",
   "execution_count": 111,
   "metadata": {
    "run_control": {
     "frozen": false,
     "read_only": false
    }
   },
   "outputs": [
    {
     "data": {
      "image/svg+xml": [
       "<?xml version=\"1.0\" encoding=\"UTF-8\" standalone=\"no\"?>\n",
       "<!DOCTYPE svg PUBLIC \"-//W3C//DTD SVG 1.1//EN\"\n",
       " \"http://www.w3.org/Graphics/SVG/1.1/DTD/svg11.dtd\">\n",
       "<!-- Generated by graphviz version 2.38.0 (20140413.2041)\n",
       " -->\n",
       "<!-- Title: %3 Pages: 1 -->\n",
       "<svg width=\"784pt\" height=\"256pt\"\n",
       " viewBox=\"0.00 0.00 784.24 256.00\" xmlns=\"http://www.w3.org/2000/svg\" xmlns:xlink=\"http://www.w3.org/1999/xlink\">\n",
       "<g id=\"graph0\" class=\"graph\" transform=\"scale(1 1) rotate(0) translate(4 252)\">\n",
       "<title>%3</title>\n",
       "<polygon fill=\"white\" stroke=\"none\" points=\"-4,4 -4,-252 780.239,-252 780.239,4 -4,4\"/>\n",
       "<!-- EMPTY -->\n",
       "<g id=\"node1\" class=\"node\"><title>EMPTY</title>\n",
       "</g>\n",
       "<!-- \\(I_S0\\) -->\n",
       "<g id=\"node4\" class=\"node\"><title>\\(I_S0\\)</title>\n",
       "<ellipse fill=\"none\" stroke=\"black\" cx=\"123.703\" cy=\"-150\" rx=\"32.9081\" ry=\"32.9081\"/>\n",
       "<text text-anchor=\"middle\" x=\"123.703\" y=\"-145.8\" font-family=\"Times,serif\" font-size=\"14.00\">(I_S0)</text>\n",
       "</g>\n",
       "<!-- EMPTY&#45;&gt;\\(I_S0\\) -->\n",
       "<g id=\"edge1\" class=\"edge\"><title>EMPTY&#45;&gt;\\(I_S0\\)</title>\n",
       "<path fill=\"none\" stroke=\"black\" d=\"M54.1288,-150C62.4028,-150 71.7668,-150 80.8565,-150\"/>\n",
       "<polygon fill=\"black\" stroke=\"black\" points=\"80.9299,-153.5 90.9298,-150 80.9298,-146.5 80.9299,-153.5\"/>\n",
       "</g>\n",
       "<!-- \\(I_S01\\) -->\n",
       "<g id=\"node2\" class=\"node\"><title>\\(I_S01\\)</title>\n",
       "<ellipse fill=\"none\" stroke=\"black\" cx=\"466.136\" cy=\"-156\" rx=\"37.2507\" ry=\"37.2507\"/>\n",
       "<text text-anchor=\"middle\" x=\"466.136\" y=\"-151.8\" font-family=\"Times,serif\" font-size=\"14.00\">(I_S01)</text>\n",
       "</g>\n",
       "<!-- \\(F_I\\) -->\n",
       "<g id=\"node5\" class=\"node\"><title>\\(F_I\\)</title>\n",
       "<ellipse fill=\"none\" stroke=\"black\" cx=\"227.689\" cy=\"-151\" rx=\"28.0651\" ry=\"28.0651\"/>\n",
       "<text text-anchor=\"middle\" x=\"227.689\" y=\"-146.8\" font-family=\"Times,serif\" font-size=\"14.00\">(F_I)</text>\n",
       "</g>\n",
       "<!-- \\(I_S01\\)&#45;&gt;\\(F_I\\) -->\n",
       "<g id=\"edge9\" class=\"edge\"><title>\\(I_S01\\)&#45;&gt;\\(F_I\\)</title>\n",
       "<path fill=\"none\" stroke=\"black\" d=\"M428.813,-157.233C395.137,-158.135 343.645,-158.904 298.97,-157 288.326,-156.546 276.799,-155.708 266.219,-154.799\"/>\n",
       "<polygon fill=\"black\" stroke=\"black\" points=\"266.297,-151.292 256.023,-153.878 265.667,-158.264 266.297,-151.292\"/>\n",
       "<text text-anchor=\"middle\" x=\"342.491\" y=\"-161.8\" font-family=\"Times,serif\" font-size=\"14.00\">1</text>\n",
       "</g>\n",
       "<!-- \\(I_S010\\) -->\n",
       "<g id=\"node6\" class=\"node\"><title>\\(I_S010\\)</title>\n",
       "<ellipse fill=\"none\" stroke=\"black\" cx=\"587.808\" cy=\"-156\" rx=\"41.5938\" ry=\"41.5938\"/>\n",
       "<text text-anchor=\"middle\" x=\"587.808\" y=\"-151.8\" font-family=\"Times,serif\" font-size=\"14.00\">(I_S010)</text>\n",
       "</g>\n",
       "<!-- \\(I_S01\\)&#45;&gt;\\(I_S010\\) -->\n",
       "<g id=\"edge7\" class=\"edge\"><title>\\(I_S01\\)&#45;&gt;\\(I_S010\\)</title>\n",
       "<path fill=\"none\" stroke=\"black\" d=\"M503.366,-156C513.584,-156 524.896,-156 535.807,-156\"/>\n",
       "<polygon fill=\"black\" stroke=\"black\" points=\"536.097,-159.5 546.097,-156 536.097,-152.5 536.097,-159.5\"/>\n",
       "<text text-anchor=\"middle\" x=\"524.761\" y=\"-158.8\" font-family=\"Times,serif\" font-size=\"14.00\">0</text>\n",
       "</g>\n",
       "<!-- \\(F_S010\\) -->\n",
       "<g id=\"node3\" class=\"node\"><title>\\(F_S010\\)</title>\n",
       "<ellipse fill=\"none\" stroke=\"black\" cx=\"342.491\" cy=\"-72\" rx=\"43.5405\" ry=\"43.5405\"/>\n",
       "<text text-anchor=\"middle\" x=\"342.491\" y=\"-67.8\" font-family=\"Times,serif\" font-size=\"14.00\">(F_S010)</text>\n",
       "</g>\n",
       "<!-- \\(F_S010\\)&#45;&gt;\\(I_S01\\) -->\n",
       "<g id=\"edge2\" class=\"edge\"><title>\\(F_S010\\)&#45;&gt;\\(I_S01\\)</title>\n",
       "<path fill=\"none\" stroke=\"black\" d=\"M378.675,-96.2963C393.714,-106.681 411.311,-118.832 426.69,-129.452\"/>\n",
       "<polygon fill=\"black\" stroke=\"black\" points=\"424.758,-132.371 434.976,-135.174 428.736,-126.611 424.758,-132.371\"/>\n",
       "<text text-anchor=\"middle\" x=\"407.511\" y=\"-119.8\" font-family=\"Times,serif\" font-size=\"14.00\">1</text>\n",
       "</g>\n",
       "<!-- \\(F_S010\\)&#45;&gt;\\(F_S010\\) -->\n",
       "<g id=\"edge10\" class=\"edge\"><title>\\(F_S010\\)&#45;&gt;\\(F_S010\\)</title>\n",
       "<path fill=\"none\" stroke=\"black\" d=\"M330.596,-113.981C331.276,-125.099 335.241,-133.52 342.491,-133.52 347.362,-133.52 350.75,-129.719 352.655,-123.852\"/>\n",
       "<polygon fill=\"black\" stroke=\"black\" points=\"356.106,-124.435 354.385,-113.981 349.211,-123.227 356.106,-124.435\"/>\n",
       "<text text-anchor=\"middle\" x=\"342.491\" y=\"-136.32\" font-family=\"Times,serif\" font-size=\"14.00\">0</text>\n",
       "</g>\n",
       "<!-- \\(I_S0\\)&#45;&gt;\\(I_S0\\) -->\n",
       "<g id=\"edge5\" class=\"edge\"><title>\\(I_S0\\)&#45;&gt;\\(I_S0\\)</title>\n",
       "<path fill=\"none\" stroke=\"black\" d=\"M114.328,-181.69C114.328,-192.253 117.453,-200.703 123.703,-200.703 127.707,-200.703 130.429,-197.235 131.868,-191.965\"/>\n",
       "<polygon fill=\"black\" stroke=\"black\" points=\"135.384,-192.031 133.078,-181.69 128.432,-191.211 135.384,-192.031\"/>\n",
       "<text text-anchor=\"middle\" x=\"123.703\" y=\"-203.503\" font-family=\"Times,serif\" font-size=\"14.00\">0</text>\n",
       "</g>\n",
       "<!-- \\(I_S0\\)&#45;&gt;\\(F_I\\) -->\n",
       "<g id=\"edge8\" class=\"edge\"><title>\\(I_S0\\)&#45;&gt;\\(F_I\\)</title>\n",
       "<path fill=\"none\" stroke=\"black\" d=\"M153.267,-135.819C162.185,-132.917 172.12,-131.222 181.407,-133 185.026,-133.693 188.725,-134.671 192.372,-135.818\"/>\n",
       "<polygon fill=\"black\" stroke=\"black\" points=\"191.216,-139.122 201.811,-139.165 193.556,-132.524 191.216,-139.122\"/>\n",
       "<text text-anchor=\"middle\" x=\"177.907\" y=\"-135.8\" font-family=\"Times,serif\" font-size=\"14.00\">1</text>\n",
       "</g>\n",
       "<!-- \\(F_I\\)&#45;&gt;\\(F_S010\\) -->\n",
       "<g id=\"edge12\" class=\"edge\"><title>\\(F_I\\)&#45;&gt;\\(F_S010\\)</title>\n",
       "<path fill=\"none\" stroke=\"black\" d=\"M251.245,-135.203C264.481,-125.933 281.664,-113.899 297.48,-102.823\"/>\n",
       "<polygon fill=\"black\" stroke=\"black\" points=\"299.909,-105.395 306.092,-96.7912 295.893,-99.6609 299.909,-105.395\"/>\n",
       "<text text-anchor=\"middle\" x=\"277.47\" y=\"-121.8\" font-family=\"Times,serif\" font-size=\"14.00\">0</text>\n",
       "</g>\n",
       "<!-- \\(F_I\\)&#45;&gt;\\(I_S0\\) -->\n",
       "<g id=\"edge4\" class=\"edge\"><title>\\(F_I\\)&#45;&gt;\\(I_S0\\)</title>\n",
       "<path fill=\"none\" stroke=\"black\" d=\"M199.134,-150.73C189.143,-150.632 177.619,-150.519 166.668,-150.411\"/>\n",
       "<polygon fill=\"black\" stroke=\"black\" points=\"166.447,-146.909 156.413,-150.311 166.378,-153.909 166.447,-146.909\"/>\n",
       "<text text-anchor=\"middle\" x=\"177.907\" y=\"-153.8\" font-family=\"Times,serif\" font-size=\"14.00\">1</text>\n",
       "</g>\n",
       "<!-- \\(I_S010\\)&#45;&gt;\\(I_S0\\) -->\n",
       "<g id=\"edge13\" class=\"edge\"><title>\\(I_S010\\)&#45;&gt;\\(I_S0\\)</title>\n",
       "<path fill=\"none\" stroke=\"black\" d=\"M559.566,-186.828C537.176,-208.63 503.344,-234 467.136,-234 226.689,-234 226.689,-234 226.689,-234 194.268,-234 166.56,-208.396 148.243,-185.46\"/>\n",
       "<polygon fill=\"black\" stroke=\"black\" points=\"151.017,-183.325 142.164,-177.505 145.455,-187.575 151.017,-183.325\"/>\n",
       "<text text-anchor=\"middle\" x=\"342.491\" y=\"-236.8\" font-family=\"Times,serif\" font-size=\"14.00\">0</text>\n",
       "</g>\n",
       "<!-- \\(F_F0101\\) -->\n",
       "<g id=\"node7\" class=\"node\"><title>\\(F_F0101\\)</title>\n",
       "<ellipse fill=\"none\" stroke=\"black\" cx=\"724.297\" cy=\"-72\" rx=\"47.8885\" ry=\"47.8885\"/>\n",
       "<ellipse fill=\"none\" stroke=\"black\" cx=\"724.297\" cy=\"-72\" rx=\"51.8841\" ry=\"51.8841\"/>\n",
       "<text text-anchor=\"middle\" x=\"724.297\" y=\"-67.8\" font-family=\"Times,serif\" font-size=\"14.00\">(F_F0101)</text>\n",
       "</g>\n",
       "<!-- \\(I_S010\\)&#45;&gt;\\(F_F0101\\) -->\n",
       "<g id=\"edge11\" class=\"edge\"><title>\\(I_S010\\)&#45;&gt;\\(F_F0101\\)</title>\n",
       "<path fill=\"none\" stroke=\"black\" d=\"M623.442,-134.368C637.889,-125.345 654.986,-114.666 670.912,-104.719\"/>\n",
       "<polygon fill=\"black\" stroke=\"black\" points=\"672.987,-107.549 679.615,-99.2833 669.279,-101.612 672.987,-107.549\"/>\n",
       "<text text-anchor=\"middle\" x=\"650.855\" y=\"-122.8\" font-family=\"Times,serif\" font-size=\"14.00\">1</text>\n",
       "</g>\n",
       "<!-- \\(F_F0101\\)&#45;&gt;\\(F_S010\\) -->\n",
       "<g id=\"edge6\" class=\"edge\"><title>\\(F_F0101\\)&#45;&gt;\\(F_S010\\)</title>\n",
       "<path fill=\"none\" stroke=\"black\" d=\"M672.184,-72C600.232,-72 469.722,-72 396.669,-72\"/>\n",
       "<polygon fill=\"black\" stroke=\"black\" points=\"396.321,-68.5001 386.321,-72 396.321,-75.5001 396.321,-68.5001\"/>\n",
       "<text text-anchor=\"middle\" x=\"524.761\" y=\"-74.8\" font-family=\"Times,serif\" font-size=\"14.00\">0</text>\n",
       "</g>\n",
       "<!-- \\(F_F0101\\)&#45;&gt;\\(I_S0\\) -->\n",
       "<g id=\"edge3\" class=\"edge\"><title>\\(F_F0101\\)&#45;&gt;\\(I_S0\\)</title>\n",
       "<path fill=\"none\" stroke=\"black\" d=\"M684.671,-38.3189C659.219,-19.5801 624.164,-0 588.808,-0 226.689,-0 226.689,-0 226.689,-0 173.991,-0 146.61,-64.0959 133.965,-108.49\"/>\n",
       "<polygon fill=\"black\" stroke=\"black\" points=\"130.574,-107.622 131.345,-118.189 137.332,-109.448 130.574,-107.622\"/>\n",
       "<text text-anchor=\"middle\" x=\"407.511\" y=\"-2.8\" font-family=\"Times,serif\" font-size=\"14.00\">1</text>\n",
       "</g>\n",
       "</g>\n",
       "</svg>\n"
      ],
      "text/plain": [
       "<graphviz.dot.Digraph at 0x10a1cc208>"
      ]
     },
     "execution_count": 111,
     "metadata": {},
     "output_type": "execute_result"
    }
   ],
   "source": [
    "dotObj_dfa(Minodd1sANDends0101)"
   ]
  },
  {
   "cell_type": "code",
   "execution_count": 112,
   "metadata": {
    "run_control": {
     "frozen": false,
     "read_only": false
    }
   },
   "outputs": [
    {
     "data": {
      "text/plain": [
       "'// do_St43\\ndigraph {\\n\\tgraph [rankdir=LR]\\n\\t\\tEMPTY [label=\"\" shape=plaintext]\\n\\t\\t\"\\\\(I_S01\\\\)\" [label=\"\\\\(I_S01\\\\)\" peripheries=1 shape=circle]\\n\\t\\t\"\\\\(F_S010\\\\)\" [label=\"\\\\(F_S010\\\\)\" peripheries=1 shape=circle]\\n\\t\\t\"\\\\(I_S0\\\\)\" [label=\"\\\\(I_S0\\\\)\" peripheries=1 shape=circle]\\n\\t\\t\"\\\\(F_I\\\\)\" [label=\"\\\\(F_I\\\\)\" peripheries=1 shape=circle]\\n\\t\\t\"\\\\(I_S010\\\\)\" [label=\"\\\\(I_S010\\\\)\" peripheries=1 shape=circle]\\n\\t\\t\"\\\\(F_F0101\\\\)\" [label=\"\\\\(F_F0101\\\\)\" peripheries=2 shape=circle]\\n\\t\\t\\tEMPTY -> \"\\\\(I_S0\\\\)\"\\n\\t\\t\\t\"\\\\(F_S010\\\\)\" -> \"\\\\(I_S01\\\\)\" [label=1]\\n\\t\\t\\t\"\\\\(F_F0101\\\\)\" -> \"\\\\(I_S0\\\\)\" [label=1]\\n\\t\\t\\t\"\\\\(F_I\\\\)\" -> \"\\\\(I_S0\\\\)\" [label=1]\\n\\t\\t\\t\"\\\\(I_S0\\\\)\" -> \"\\\\(I_S0\\\\)\" [label=0]\\n\\t\\t\\t\"\\\\(F_F0101\\\\)\" -> \"\\\\(F_S010\\\\)\" [label=0]\\n\\t\\t\\t\"\\\\(I_S01\\\\)\" -> \"\\\\(I_S010\\\\)\" [label=0]\\n\\t\\t\\t\"\\\\(I_S0\\\\)\" -> \"\\\\(F_I\\\\)\" [label=1]\\n\\t\\t\\t\"\\\\(I_S01\\\\)\" -> \"\\\\(F_I\\\\)\" [label=1]\\n\\t\\t\\t\"\\\\(F_S010\\\\)\" -> \"\\\\(F_S010\\\\)\" [label=0]\\n\\t\\t\\t\"\\\\(I_S010\\\\)\" -> \"\\\\(F_F0101\\\\)\" [label=1]\\n\\t\\t\\t\"\\\\(F_I\\\\)\" -> \"\\\\(F_S010\\\\)\" [label=0]\\n\\t\\t\\t\"\\\\(I_S010\\\\)\" -> \"\\\\(I_S0\\\\)\" [label=0]\\n}'"
      ]
     },
     "execution_count": 112,
     "metadata": {},
     "output_type": "execute_result"
    }
   ],
   "source": [
    "dotObj_dfa(Minodd1sANDends0101).source"
   ]
  },
  {
   "cell_type": "code",
   "execution_count": 113,
   "metadata": {
    "run_control": {
     "frozen": false,
     "read_only": false
    }
   },
   "outputs": [],
   "source": [
    "CdfaOdd1s = comp_dfa(dfaOdd1s)"
   ]
  },
  {
   "cell_type": "code",
   "execution_count": 114,
   "metadata": {
    "run_control": {
     "frozen": false,
     "read_only": false
    }
   },
   "outputs": [],
   "source": [
    "Cends0101 = comp_dfa(ends0101)"
   ]
  },
  {
   "cell_type": "code",
   "execution_count": 115,
   "metadata": {
    "run_control": {
     "frozen": false,
     "read_only": false
    }
   },
   "outputs": [],
   "source": [
    "C_CdfaOdd1sORCends0101 = comp_dfa(union_dfa(CdfaOdd1s, Cends0101))"
   ]
  },
  {
   "cell_type": "code",
   "execution_count": 116,
   "metadata": {
    "run_control": {
     "frozen": false,
     "read_only": false
    }
   },
   "outputs": [
    {
     "data": {
      "image/svg+xml": [
       "<?xml version=\"1.0\" encoding=\"UTF-8\" standalone=\"no\"?>\n",
       "<!DOCTYPE svg PUBLIC \"-//W3C//DTD SVG 1.1//EN\"\n",
       " \"http://www.w3.org/Graphics/SVG/1.1/DTD/svg11.dtd\">\n",
       "<!-- Generated by graphviz version 2.38.0 (20140413.2041)\n",
       " -->\n",
       "<!-- Title: %3 Pages: 1 -->\n",
       "<svg width=\"1032pt\" height=\"447pt\"\n",
       " viewBox=\"0.00 0.00 1031.53 447.00\" xmlns=\"http://www.w3.org/2000/svg\" xmlns:xlink=\"http://www.w3.org/1999/xlink\">\n",
       "<g id=\"graph0\" class=\"graph\" transform=\"scale(1 1) rotate(0) translate(4 443)\">\n",
       "<title>%3</title>\n",
       "<polygon fill=\"white\" stroke=\"none\" points=\"-4,4 -4,-443 1027.53,-443 1027.53,4 -4,4\"/>\n",
       "<!-- EMPTY -->\n",
       "<g id=\"node1\" class=\"node\"><title>EMPTY</title>\n",
       "</g>\n",
       "<!-- \\(I_I\\) -->\n",
       "<g id=\"node4\" class=\"node\"><title>\\(I_I\\)</title>\n",
       "<ellipse fill=\"none\" stroke=\"black\" cx=\"117.308\" cy=\"-96\" rx=\"26.118\" ry=\"26.118\"/>\n",
       "<text text-anchor=\"middle\" x=\"117.308\" y=\"-91.8\" font-family=\"Times,serif\" font-size=\"14.00\">(I_I)</text>\n",
       "</g>\n",
       "<!-- EMPTY&#45;&gt;\\(I_I\\) -->\n",
       "<g id=\"edge1\" class=\"edge\"><title>EMPTY&#45;&gt;\\(I_I\\)</title>\n",
       "<path fill=\"none\" stroke=\"black\" d=\"M54.0178,-96C62.3552,-96 71.7368,-96 80.64,-96\"/>\n",
       "<polygon fill=\"black\" stroke=\"black\" points=\"80.7808,-99.5001 90.7807,-96 80.7807,-92.5001 80.7808,-99.5001\"/>\n",
       "</g>\n",
       "<!-- \\(I_S01\\) -->\n",
       "<g id=\"node2\" class=\"node\"><title>\\(I_S01\\)</title>\n",
       "<ellipse fill=\"none\" stroke=\"black\" cx=\"704.583\" cy=\"-310\" rx=\"37.2507\" ry=\"37.2507\"/>\n",
       "<text text-anchor=\"middle\" x=\"704.583\" y=\"-305.8\" font-family=\"Times,serif\" font-size=\"14.00\">(I_S01)</text>\n",
       "</g>\n",
       "<!-- \\(I_S010\\) -->\n",
       "<g id=\"node5\" class=\"node\"><title>\\(I_S010\\)</title>\n",
       "<ellipse fill=\"none\" stroke=\"black\" cx=\"835.099\" cy=\"-311\" rx=\"41.5938\" ry=\"41.5938\"/>\n",
       "<text text-anchor=\"middle\" x=\"835.099\" y=\"-306.8\" font-family=\"Times,serif\" font-size=\"14.00\">(I_S010)</text>\n",
       "</g>\n",
       "<!-- \\(I_S01\\)&#45;&gt;\\(I_S010\\) -->\n",
       "<g id=\"edge7\" class=\"edge\"><title>\\(I_S01\\)&#45;&gt;\\(I_S010\\)</title>\n",
       "<path fill=\"none\" stroke=\"black\" d=\"M741.724,-310.281C754.503,-310.381 769.13,-310.494 782.918,-310.602\"/>\n",
       "<polygon fill=\"black\" stroke=\"black\" points=\"783.227,-314.104 793.254,-310.682 783.281,-307.104 783.227,-314.104\"/>\n",
       "<text text-anchor=\"middle\" x=\"772.052\" y=\"-313.8\" font-family=\"Times,serif\" font-size=\"14.00\">0</text>\n",
       "</g>\n",
       "<!-- \\(F_I\\) -->\n",
       "<g id=\"node8\" class=\"node\"><title>\\(F_I\\)</title>\n",
       "<ellipse fill=\"none\" stroke=\"black\" cx=\"835.099\" cy=\"-159\" rx=\"28.0651\" ry=\"28.0651\"/>\n",
       "<text text-anchor=\"middle\" x=\"835.099\" y=\"-154.8\" font-family=\"Times,serif\" font-size=\"14.00\">(F_I)</text>\n",
       "</g>\n",
       "<!-- \\(I_S01\\)&#45;&gt;\\(F_I\\) -->\n",
       "<g id=\"edge12\" class=\"edge\"><title>\\(I_S01\\)&#45;&gt;\\(F_I\\)</title>\n",
       "<path fill=\"none\" stroke=\"black\" d=\"M735.334,-288.74C748.515,-278.5 763.688,-265.52 775.552,-252 791.377,-233.966 805.782,-211.209 816.344,-192.72\"/>\n",
       "<polygon fill=\"black\" stroke=\"black\" points=\"819.53,-194.194 821.356,-183.758 813.42,-190.777 819.53,-194.194\"/>\n",
       "<text text-anchor=\"middle\" x=\"772.052\" y=\"-262.8\" font-family=\"Times,serif\" font-size=\"14.00\">1</text>\n",
       "</g>\n",
       "<!-- \\(I_S0\\) -->\n",
       "<g id=\"node3\" class=\"node\"><title>\\(I_S0\\)</title>\n",
       "<ellipse fill=\"none\" stroke=\"black\" cx=\"219.32\" cy=\"-226\" rx=\"32.9081\" ry=\"32.9081\"/>\n",
       "<text text-anchor=\"middle\" x=\"219.32\" y=\"-221.8\" font-family=\"Times,serif\" font-size=\"14.00\">(I_S0)</text>\n",
       "</g>\n",
       "<!-- \\(I_S0\\)&#45;&gt;\\(I_S0\\) -->\n",
       "<g id=\"edge15\" class=\"edge\"><title>\\(I_S0\\)&#45;&gt;\\(I_S0\\)</title>\n",
       "<path fill=\"none\" stroke=\"black\" d=\"M209.198,-257.193C209.09,-267.987 212.465,-276.703 219.32,-276.703 223.819,-276.703 226.819,-272.949 228.319,-267.318\"/>\n",
       "<polygon fill=\"black\" stroke=\"black\" points=\"231.818,-267.518 229.443,-257.193 224.861,-266.746 231.818,-267.518\"/>\n",
       "<text text-anchor=\"middle\" x=\"219.32\" y=\"-279.503\" font-family=\"Times,serif\" font-size=\"14.00\">0</text>\n",
       "</g>\n",
       "<!-- \\(F_S01\\) -->\n",
       "<g id=\"node7\" class=\"node\"><title>\\(F_S01\\)</title>\n",
       "<ellipse fill=\"none\" stroke=\"black\" cx=\"334.122\" cy=\"-226\" rx=\"39.1973\" ry=\"39.1973\"/>\n",
       "<text text-anchor=\"middle\" x=\"334.122\" y=\"-221.8\" font-family=\"Times,serif\" font-size=\"14.00\">(F_S01)</text>\n",
       "</g>\n",
       "<!-- \\(I_S0\\)&#45;&gt;\\(F_S01\\) -->\n",
       "<g id=\"edge16\" class=\"edge\"><title>\\(I_S0\\)&#45;&gt;\\(F_S01\\)</title>\n",
       "<path fill=\"none\" stroke=\"black\" d=\"M252.042,-226C262.22,-226 273.733,-226 284.82,-226\"/>\n",
       "<polygon fill=\"black\" stroke=\"black\" points=\"284.832,-229.5 294.832,-226 284.832,-222.5 284.832,-229.5\"/>\n",
       "<text text-anchor=\"middle\" x=\"273.524\" y=\"-228.8\" font-family=\"Times,serif\" font-size=\"14.00\">1</text>\n",
       "</g>\n",
       "<!-- \\(I_I\\)&#45;&gt;\\(I_S0\\) -->\n",
       "<g id=\"edge5\" class=\"edge\"><title>\\(I_I\\)&#45;&gt;\\(I_S0\\)</title>\n",
       "<path fill=\"none\" stroke=\"black\" d=\"M129.546,-119.719C137.463,-135.301 148.89,-155.733 161.617,-172 168.873,-181.275 177.711,-190.456 186.229,-198.545\"/>\n",
       "<polygon fill=\"black\" stroke=\"black\" points=\"183.867,-201.127 193.585,-205.347 188.619,-195.988 183.867,-201.127\"/>\n",
       "<text text-anchor=\"middle\" x=\"165.117\" y=\"-183.8\" font-family=\"Times,serif\" font-size=\"14.00\">0</text>\n",
       "</g>\n",
       "<!-- \\(I_I\\)&#45;&gt;\\(F_I\\) -->\n",
       "<g id=\"edge8\" class=\"edge\"><title>\\(I_I\\)&#45;&gt;\\(F_I\\)</title>\n",
       "<path fill=\"none\" stroke=\"black\" d=\"M137.937,-79.3507C157.132,-64.8057 187.843,-46 218.32,-46 218.32,-46 218.32,-46 705.583,-46 754.402,-46 793.497,-92.5544 815.239,-125.9\"/>\n",
       "<polygon fill=\"black\" stroke=\"black\" points=\"812.354,-127.887 820.647,-134.481 818.276,-124.154 812.354,-127.887\"/>\n",
       "<text text-anchor=\"middle\" x=\"459.741\" y=\"-48.8\" font-family=\"Times,serif\" font-size=\"14.00\">1</text>\n",
       "</g>\n",
       "<!-- \\(I_S010\\)&#45;&gt;\\(I_S0\\) -->\n",
       "<g id=\"edge20\" class=\"edge\"><title>\\(I_S010\\)&#45;&gt;\\(I_S0\\)</title>\n",
       "<path fill=\"none\" stroke=\"black\" d=\"M810.82,-345C795.821,-364.32 774.653,-387.315 750.552,-401 706.118,-426.231 689.213,-425 638.115,-425 333.122,-425 333.122,-425 333.122,-425 261.754,-425 234.997,-326.934 225.388,-268.485\"/>\n",
       "<polygon fill=\"black\" stroke=\"black\" points=\"228.819,-267.766 223.837,-258.416 221.901,-268.832 228.819,-267.766\"/>\n",
       "<text text-anchor=\"middle\" x=\"524.761\" y=\"-427.8\" font-family=\"Times,serif\" font-size=\"14.00\">0</text>\n",
       "</g>\n",
       "<!-- \\(F_F0101\\) -->\n",
       "<g id=\"node11\" class=\"node\"><title>\\(F_F0101\\)</title>\n",
       "<ellipse fill=\"none\" stroke=\"black\" cx=\"971.588\" cy=\"-311\" rx=\"47.8885\" ry=\"47.8885\"/>\n",
       "<ellipse fill=\"none\" stroke=\"black\" cx=\"971.588\" cy=\"-311\" rx=\"51.8841\" ry=\"51.8841\"/>\n",
       "<text text-anchor=\"middle\" x=\"971.588\" y=\"-306.8\" font-family=\"Times,serif\" font-size=\"14.00\">(F_F0101)</text>\n",
       "</g>\n",
       "<!-- \\(I_S010\\)&#45;&gt;\\(F_F0101\\) -->\n",
       "<g id=\"edge14\" class=\"edge\"><title>\\(I_S010\\)&#45;&gt;\\(F_F0101\\)</title>\n",
       "<path fill=\"none\" stroke=\"black\" d=\"M876.815,-311C887.114,-311 898.402,-311 909.468,-311\"/>\n",
       "<polygon fill=\"black\" stroke=\"black\" points=\"909.532,-314.5 919.532,-311 909.532,-307.5 909.532,-314.5\"/>\n",
       "<text text-anchor=\"middle\" x=\"898.146\" y=\"-313.8\" font-family=\"Times,serif\" font-size=\"14.00\">1</text>\n",
       "</g>\n",
       "<!-- \\(F_S010\\) -->\n",
       "<g id=\"node6\" class=\"node\"><title>\\(F_S010\\)</title>\n",
       "<ellipse fill=\"none\" stroke=\"black\" cx=\"459.741\" cy=\"-232\" rx=\"43.5405\" ry=\"43.5405\"/>\n",
       "<text text-anchor=\"middle\" x=\"459.741\" y=\"-227.8\" font-family=\"Times,serif\" font-size=\"14.00\">(F_S010)</text>\n",
       "</g>\n",
       "<!-- \\(F_S0\\) -->\n",
       "<g id=\"node9\" class=\"node\"><title>\\(F_S0\\)</title>\n",
       "<ellipse fill=\"none\" stroke=\"black\" cx=\"580.938\" cy=\"-241\" rx=\"34.8545\" ry=\"34.8545\"/>\n",
       "<text text-anchor=\"middle\" x=\"580.938\" y=\"-236.8\" font-family=\"Times,serif\" font-size=\"14.00\">(F_S0)</text>\n",
       "</g>\n",
       "<!-- \\(F_S010\\)&#45;&gt;\\(F_S0\\) -->\n",
       "<g id=\"edge13\" class=\"edge\"><title>\\(F_S010\\)&#45;&gt;\\(F_S0\\)</title>\n",
       "<path fill=\"none\" stroke=\"black\" d=\"M503.437,-235.224C513.958,-236.018 525.246,-236.87 535.832,-237.67\"/>\n",
       "<polygon fill=\"black\" stroke=\"black\" points=\"535.896,-241.184 546.131,-238.447 536.423,-234.204 535.896,-241.184\"/>\n",
       "<text text-anchor=\"middle\" x=\"524.761\" y=\"-240.8\" font-family=\"Times,serif\" font-size=\"14.00\">0</text>\n",
       "</g>\n",
       "<!-- \\(I_F0101\\) -->\n",
       "<g id=\"node10\" class=\"node\"><title>\\(I_F0101\\)</title>\n",
       "<ellipse fill=\"none\" stroke=\"black\" cx=\"704.583\" cy=\"-159\" rx=\"45.9373\" ry=\"45.9373\"/>\n",
       "<text text-anchor=\"middle\" x=\"704.583\" y=\"-154.8\" font-family=\"Times,serif\" font-size=\"14.00\">(I_F0101)</text>\n",
       "</g>\n",
       "<!-- \\(F_S010\\)&#45;&gt;\\(I_F0101\\) -->\n",
       "<g id=\"edge2\" class=\"edge\"><title>\\(F_S010\\)&#45;&gt;\\(I_F0101\\)</title>\n",
       "<path fill=\"none\" stroke=\"black\" d=\"M496.362,-207.657C511.198,-198.584 528.975,-189.034 546.261,-183 579.072,-171.547 617.619,-165.555 648.345,-162.422\"/>\n",
       "<polygon fill=\"black\" stroke=\"black\" points=\"648.821,-165.893 658.446,-161.465 648.161,-158.924 648.821,-165.893\"/>\n",
       "<text text-anchor=\"middle\" x=\"580.938\" y=\"-185.8\" font-family=\"Times,serif\" font-size=\"14.00\">1</text>\n",
       "</g>\n",
       "<!-- \\(F_S01\\)&#45;&gt;\\(I_I\\) -->\n",
       "<g id=\"edge19\" class=\"edge\"><title>\\(F_S01\\)&#45;&gt;\\(I_I\\)</title>\n",
       "<path fill=\"none\" stroke=\"black\" d=\"M302.023,-203.456C287.126,-192.935 268.893,-180.457 252.024,-170 217.932,-148.868 177.474,-126.888 150.058,-112.431\"/>\n",
       "<polygon fill=\"black\" stroke=\"black\" points=\"151.418,-109.192 140.937,-107.645 148.166,-115.391 151.418,-109.192\"/>\n",
       "<text text-anchor=\"middle\" x=\"219.32\" y=\"-172.8\" font-family=\"Times,serif\" font-size=\"14.00\">1</text>\n",
       "</g>\n",
       "<!-- \\(F_S01\\)&#45;&gt;\\(F_S010\\) -->\n",
       "<g id=\"edge21\" class=\"edge\"><title>\\(F_S01\\)&#45;&gt;\\(F_S010\\)</title>\n",
       "<path fill=\"none\" stroke=\"black\" d=\"M373.22,-227.849C383.649,-228.355 395.139,-228.913 406.221,-229.451\"/>\n",
       "<polygon fill=\"black\" stroke=\"black\" points=\"406.084,-232.948 416.242,-229.937 406.423,-225.956 406.084,-232.948\"/>\n",
       "<text text-anchor=\"middle\" x=\"394.721\" y=\"-231.8\" font-family=\"Times,serif\" font-size=\"14.00\">0</text>\n",
       "</g>\n",
       "<!-- \\(F_I\\)&#45;&gt;\\(I_I\\) -->\n",
       "<g id=\"edge4\" class=\"edge\"><title>\\(F_I\\)&#45;&gt;\\(I_I\\)</title>\n",
       "<path fill=\"none\" stroke=\"black\" d=\"M813.491,-140.634C797.549,-127.69 774.258,-111.395 750.552,-104 599.965,-57.0268 553.463,-96 395.721,-96 218.32,-96 218.32,-96 218.32,-96 196.931,-96 172.968,-96 153.862,-96\"/>\n",
       "<polygon fill=\"black\" stroke=\"black\" points=\"153.794,-92.5001 143.794,-96 153.794,-99.5001 153.794,-92.5001\"/>\n",
       "<text text-anchor=\"middle\" x=\"459.741\" y=\"-98.8\" font-family=\"Times,serif\" font-size=\"14.00\">1</text>\n",
       "</g>\n",
       "<!-- \\(F_I\\)&#45;&gt;\\(F_S0\\) -->\n",
       "<g id=\"edge18\" class=\"edge\"><title>\\(F_I\\)&#45;&gt;\\(F_S0\\)</title>\n",
       "<path fill=\"none\" stroke=\"black\" d=\"M820.267,-183.203C810.045,-198.609 794.618,-217.409 775.552,-227 728.469,-250.684 666.658,-250.656 625.683,-247.049\"/>\n",
       "<polygon fill=\"black\" stroke=\"black\" points=\"625.776,-243.541 615.48,-246.038 625.086,-250.507 625.776,-243.541\"/>\n",
       "<text text-anchor=\"middle\" x=\"704.583\" y=\"-251.8\" font-family=\"Times,serif\" font-size=\"14.00\">0</text>\n",
       "</g>\n",
       "<!-- \\(F_S0\\)&#45;&gt;\\(I_S01\\) -->\n",
       "<g id=\"edge11\" class=\"edge\"><title>\\(F_S0\\)&#45;&gt;\\(I_S01\\)</title>\n",
       "<path fill=\"none\" stroke=\"black\" d=\"M611.385,-257.703C626.81,-266.453 645.943,-277.305 662.775,-286.852\"/>\n",
       "<polygon fill=\"black\" stroke=\"black\" points=\"661.426,-290.111 671.851,-292.001 664.879,-284.022 661.426,-290.111\"/>\n",
       "<text text-anchor=\"middle\" x=\"637.115\" y=\"-276.8\" font-family=\"Times,serif\" font-size=\"14.00\">1</text>\n",
       "</g>\n",
       "<!-- \\(F_S0\\)&#45;&gt;\\(F_S0\\) -->\n",
       "<g id=\"edge10\" class=\"edge\"><title>\\(F_S0\\)&#45;&gt;\\(F_S0\\)</title>\n",
       "<path fill=\"none\" stroke=\"black\" d=\"M570.439,-274.18C570.493,-285.034 573.993,-293.677 580.938,-293.677 585.496,-293.677 588.57,-289.955 590.16,-284.328\"/>\n",
       "<polygon fill=\"black\" stroke=\"black\" points=\"593.661,-284.539 591.437,-274.18 586.716,-283.664 593.661,-284.539\"/>\n",
       "<text text-anchor=\"middle\" x=\"580.938\" y=\"-296.477\" font-family=\"Times,serif\" font-size=\"14.00\">0</text>\n",
       "</g>\n",
       "<!-- \\(I_F0101\\)&#45;&gt;\\(I_S010\\) -->\n",
       "<g id=\"edge17\" class=\"edge\"><title>\\(I_F0101\\)&#45;&gt;\\(I_S010\\)</title>\n",
       "<path fill=\"none\" stroke=\"black\" d=\"M737.317,-191.577C749.565,-204.518 763.501,-219.704 775.552,-234 785.046,-245.262 794.907,-257.846 803.769,-269.524\"/>\n",
       "<polygon fill=\"black\" stroke=\"black\" points=\"801.215,-271.951 810.026,-277.835 806.807,-267.741 801.215,-271.951\"/>\n",
       "<text text-anchor=\"middle\" x=\"772.052\" y=\"-236.8\" font-family=\"Times,serif\" font-size=\"14.00\">0</text>\n",
       "</g>\n",
       "<!-- \\(I_F0101\\)&#45;&gt;\\(F_I\\) -->\n",
       "<g id=\"edge9\" class=\"edge\"><title>\\(I_F0101\\)&#45;&gt;\\(F_I\\)</title>\n",
       "<path fill=\"none\" stroke=\"black\" d=\"M750.893,-159C765.896,-159 782.413,-159 796.749,-159\"/>\n",
       "<polygon fill=\"black\" stroke=\"black\" points=\"796.749,-162.5 806.749,-159 796.749,-155.5 796.749,-162.5\"/>\n",
       "<text text-anchor=\"middle\" x=\"772.052\" y=\"-161.8\" font-family=\"Times,serif\" font-size=\"14.00\">1</text>\n",
       "</g>\n",
       "<!-- \\(F_F0101\\)&#45;&gt;\\(I_I\\) -->\n",
       "<g id=\"edge3\" class=\"edge\"><title>\\(F_F0101\\)&#45;&gt;\\(I_I\\)</title>\n",
       "<path fill=\"none\" stroke=\"black\" d=\"M970.644,-258.946C967.706,-170.411 947.573,-0 836.099,-0 218.32,-0 218.32,-0 218.32,-0 180.749,-0 151.81,-35.6967 134.946,-63.5553\"/>\n",
       "<polygon fill=\"black\" stroke=\"black\" points=\"131.883,-61.862 129.9,-72.2697 137.94,-65.37 131.883,-61.862\"/>\n",
       "<text text-anchor=\"middle\" x=\"524.761\" y=\"-2.8\" font-family=\"Times,serif\" font-size=\"14.00\">1</text>\n",
       "</g>\n",
       "<!-- \\(F_F0101\\)&#45;&gt;\\(F_S010\\) -->\n",
       "<g id=\"edge6\" class=\"edge\"><title>\\(F_F0101\\)&#45;&gt;\\(F_S010\\)</title>\n",
       "<path fill=\"none\" stroke=\"black\" d=\"M931.962,-344.681C906.51,-363.42 871.455,-383 836.099,-383 579.938,-383 579.938,-383 579.938,-383 527.819,-383 494.95,-326.892 477.228,-283.08\"/>\n",
       "<polygon fill=\"black\" stroke=\"black\" points=\"480.453,-281.716 473.57,-273.661 473.928,-284.25 480.453,-281.716\"/>\n",
       "<text text-anchor=\"middle\" x=\"704.583\" y=\"-385.8\" font-family=\"Times,serif\" font-size=\"14.00\">0</text>\n",
       "</g>\n",
       "</g>\n",
       "</svg>\n"
      ],
      "text/plain": [
       "<graphviz.dot.Digraph at 0x10a6b1208>"
      ]
     },
     "execution_count": 116,
     "metadata": {},
     "output_type": "execute_result"
    }
   ],
   "source": [
    "dotObj_dfa(C_CdfaOdd1sORCends0101)"
   ]
  },
  {
   "cell_type": "code",
   "execution_count": 117,
   "metadata": {
    "run_control": {
     "frozen": false,
     "read_only": false
    }
   },
   "outputs": [],
   "source": [
    "MinC_CdfaOdd1sORCends0101 = min_dfa(C_CdfaOdd1sORCends0101)"
   ]
  },
  {
   "cell_type": "code",
   "execution_count": 118,
   "metadata": {
    "run_control": {
     "frozen": false,
     "read_only": false
    }
   },
   "outputs": [
    {
     "data": {
      "image/svg+xml": [
       "<?xml version=\"1.0\" encoding=\"UTF-8\" standalone=\"no\"?>\n",
       "<!DOCTYPE svg PUBLIC \"-//W3C//DTD SVG 1.1//EN\"\n",
       " \"http://www.w3.org/Graphics/SVG/1.1/DTD/svg11.dtd\">\n",
       "<!-- Generated by graphviz version 2.38.0 (20140413.2041)\n",
       " -->\n",
       "<!-- Title: %3 Pages: 1 -->\n",
       "<svg width=\"784pt\" height=\"256pt\"\n",
       " viewBox=\"0.00 0.00 784.24 256.00\" xmlns=\"http://www.w3.org/2000/svg\" xmlns:xlink=\"http://www.w3.org/1999/xlink\">\n",
       "<g id=\"graph0\" class=\"graph\" transform=\"scale(1 1) rotate(0) translate(4 252)\">\n",
       "<title>%3</title>\n",
       "<polygon fill=\"white\" stroke=\"none\" points=\"-4,4 -4,-252 780.239,-252 780.239,4 -4,4\"/>\n",
       "<!-- EMPTY -->\n",
       "<g id=\"node1\" class=\"node\"><title>EMPTY</title>\n",
       "</g>\n",
       "<!-- \\(I_S0\\) -->\n",
       "<g id=\"node4\" class=\"node\"><title>\\(I_S0\\)</title>\n",
       "<ellipse fill=\"none\" stroke=\"black\" cx=\"123.703\" cy=\"-150\" rx=\"32.9081\" ry=\"32.9081\"/>\n",
       "<text text-anchor=\"middle\" x=\"123.703\" y=\"-145.8\" font-family=\"Times,serif\" font-size=\"14.00\">(I_S0)</text>\n",
       "</g>\n",
       "<!-- EMPTY&#45;&gt;\\(I_S0\\) -->\n",
       "<g id=\"edge1\" class=\"edge\"><title>EMPTY&#45;&gt;\\(I_S0\\)</title>\n",
       "<path fill=\"none\" stroke=\"black\" d=\"M54.1288,-150C62.4028,-150 71.7668,-150 80.8565,-150\"/>\n",
       "<polygon fill=\"black\" stroke=\"black\" points=\"80.9299,-153.5 90.9298,-150 80.9298,-146.5 80.9299,-153.5\"/>\n",
       "</g>\n",
       "<!-- \\(I_S01\\) -->\n",
       "<g id=\"node2\" class=\"node\"><title>\\(I_S01\\)</title>\n",
       "<ellipse fill=\"none\" stroke=\"black\" cx=\"466.136\" cy=\"-156\" rx=\"37.2507\" ry=\"37.2507\"/>\n",
       "<text text-anchor=\"middle\" x=\"466.136\" y=\"-151.8\" font-family=\"Times,serif\" font-size=\"14.00\">(I_S01)</text>\n",
       "</g>\n",
       "<!-- \\(F_I\\) -->\n",
       "<g id=\"node5\" class=\"node\"><title>\\(F_I\\)</title>\n",
       "<ellipse fill=\"none\" stroke=\"black\" cx=\"227.689\" cy=\"-151\" rx=\"28.0651\" ry=\"28.0651\"/>\n",
       "<text text-anchor=\"middle\" x=\"227.689\" y=\"-146.8\" font-family=\"Times,serif\" font-size=\"14.00\">(F_I)</text>\n",
       "</g>\n",
       "<!-- \\(I_S01\\)&#45;&gt;\\(F_I\\) -->\n",
       "<g id=\"edge9\" class=\"edge\"><title>\\(I_S01\\)&#45;&gt;\\(F_I\\)</title>\n",
       "<path fill=\"none\" stroke=\"black\" d=\"M428.813,-157.233C395.137,-158.135 343.645,-158.904 298.97,-157 288.326,-156.546 276.799,-155.708 266.219,-154.799\"/>\n",
       "<polygon fill=\"black\" stroke=\"black\" points=\"266.297,-151.292 256.023,-153.878 265.667,-158.264 266.297,-151.292\"/>\n",
       "<text text-anchor=\"middle\" x=\"342.491\" y=\"-161.8\" font-family=\"Times,serif\" font-size=\"14.00\">1</text>\n",
       "</g>\n",
       "<!-- \\(I_S010\\) -->\n",
       "<g id=\"node6\" class=\"node\"><title>\\(I_S010\\)</title>\n",
       "<ellipse fill=\"none\" stroke=\"black\" cx=\"587.808\" cy=\"-156\" rx=\"41.5938\" ry=\"41.5938\"/>\n",
       "<text text-anchor=\"middle\" x=\"587.808\" y=\"-151.8\" font-family=\"Times,serif\" font-size=\"14.00\">(I_S010)</text>\n",
       "</g>\n",
       "<!-- \\(I_S01\\)&#45;&gt;\\(I_S010\\) -->\n",
       "<g id=\"edge7\" class=\"edge\"><title>\\(I_S01\\)&#45;&gt;\\(I_S010\\)</title>\n",
       "<path fill=\"none\" stroke=\"black\" d=\"M503.366,-156C513.584,-156 524.896,-156 535.807,-156\"/>\n",
       "<polygon fill=\"black\" stroke=\"black\" points=\"536.097,-159.5 546.097,-156 536.097,-152.5 536.097,-159.5\"/>\n",
       "<text text-anchor=\"middle\" x=\"524.761\" y=\"-158.8\" font-family=\"Times,serif\" font-size=\"14.00\">0</text>\n",
       "</g>\n",
       "<!-- \\(F_S010\\) -->\n",
       "<g id=\"node3\" class=\"node\"><title>\\(F_S010\\)</title>\n",
       "<ellipse fill=\"none\" stroke=\"black\" cx=\"342.491\" cy=\"-72\" rx=\"43.5405\" ry=\"43.5405\"/>\n",
       "<text text-anchor=\"middle\" x=\"342.491\" y=\"-67.8\" font-family=\"Times,serif\" font-size=\"14.00\">(F_S010)</text>\n",
       "</g>\n",
       "<!-- \\(F_S010\\)&#45;&gt;\\(I_S01\\) -->\n",
       "<g id=\"edge2\" class=\"edge\"><title>\\(F_S010\\)&#45;&gt;\\(I_S01\\)</title>\n",
       "<path fill=\"none\" stroke=\"black\" d=\"M378.675,-96.2963C393.714,-106.681 411.311,-118.832 426.69,-129.452\"/>\n",
       "<polygon fill=\"black\" stroke=\"black\" points=\"424.758,-132.371 434.976,-135.174 428.736,-126.611 424.758,-132.371\"/>\n",
       "<text text-anchor=\"middle\" x=\"407.511\" y=\"-119.8\" font-family=\"Times,serif\" font-size=\"14.00\">1</text>\n",
       "</g>\n",
       "<!-- \\(F_S010\\)&#45;&gt;\\(F_S010\\) -->\n",
       "<g id=\"edge10\" class=\"edge\"><title>\\(F_S010\\)&#45;&gt;\\(F_S010\\)</title>\n",
       "<path fill=\"none\" stroke=\"black\" d=\"M330.596,-113.981C331.276,-125.099 335.241,-133.52 342.491,-133.52 347.362,-133.52 350.75,-129.719 352.655,-123.852\"/>\n",
       "<polygon fill=\"black\" stroke=\"black\" points=\"356.106,-124.435 354.385,-113.981 349.211,-123.227 356.106,-124.435\"/>\n",
       "<text text-anchor=\"middle\" x=\"342.491\" y=\"-136.32\" font-family=\"Times,serif\" font-size=\"14.00\">0</text>\n",
       "</g>\n",
       "<!-- \\(I_S0\\)&#45;&gt;\\(I_S0\\) -->\n",
       "<g id=\"edge5\" class=\"edge\"><title>\\(I_S0\\)&#45;&gt;\\(I_S0\\)</title>\n",
       "<path fill=\"none\" stroke=\"black\" d=\"M114.328,-181.69C114.328,-192.253 117.453,-200.703 123.703,-200.703 127.707,-200.703 130.429,-197.235 131.868,-191.965\"/>\n",
       "<polygon fill=\"black\" stroke=\"black\" points=\"135.384,-192.031 133.078,-181.69 128.432,-191.211 135.384,-192.031\"/>\n",
       "<text text-anchor=\"middle\" x=\"123.703\" y=\"-203.503\" font-family=\"Times,serif\" font-size=\"14.00\">0</text>\n",
       "</g>\n",
       "<!-- \\(I_S0\\)&#45;&gt;\\(F_I\\) -->\n",
       "<g id=\"edge8\" class=\"edge\"><title>\\(I_S0\\)&#45;&gt;\\(F_I\\)</title>\n",
       "<path fill=\"none\" stroke=\"black\" d=\"M153.267,-135.819C162.185,-132.917 172.12,-131.222 181.407,-133 185.026,-133.693 188.725,-134.671 192.372,-135.818\"/>\n",
       "<polygon fill=\"black\" stroke=\"black\" points=\"191.216,-139.122 201.811,-139.165 193.556,-132.524 191.216,-139.122\"/>\n",
       "<text text-anchor=\"middle\" x=\"177.907\" y=\"-135.8\" font-family=\"Times,serif\" font-size=\"14.00\">1</text>\n",
       "</g>\n",
       "<!-- \\(F_I\\)&#45;&gt;\\(F_S010\\) -->\n",
       "<g id=\"edge12\" class=\"edge\"><title>\\(F_I\\)&#45;&gt;\\(F_S010\\)</title>\n",
       "<path fill=\"none\" stroke=\"black\" d=\"M251.245,-135.203C264.481,-125.933 281.664,-113.899 297.48,-102.823\"/>\n",
       "<polygon fill=\"black\" stroke=\"black\" points=\"299.909,-105.395 306.092,-96.7912 295.893,-99.6609 299.909,-105.395\"/>\n",
       "<text text-anchor=\"middle\" x=\"277.47\" y=\"-121.8\" font-family=\"Times,serif\" font-size=\"14.00\">0</text>\n",
       "</g>\n",
       "<!-- \\(F_I\\)&#45;&gt;\\(I_S0\\) -->\n",
       "<g id=\"edge4\" class=\"edge\"><title>\\(F_I\\)&#45;&gt;\\(I_S0\\)</title>\n",
       "<path fill=\"none\" stroke=\"black\" d=\"M199.134,-150.73C189.143,-150.632 177.619,-150.519 166.668,-150.411\"/>\n",
       "<polygon fill=\"black\" stroke=\"black\" points=\"166.447,-146.909 156.413,-150.311 166.378,-153.909 166.447,-146.909\"/>\n",
       "<text text-anchor=\"middle\" x=\"177.907\" y=\"-153.8\" font-family=\"Times,serif\" font-size=\"14.00\">1</text>\n",
       "</g>\n",
       "<!-- \\(I_S010\\)&#45;&gt;\\(I_S0\\) -->\n",
       "<g id=\"edge13\" class=\"edge\"><title>\\(I_S010\\)&#45;&gt;\\(I_S0\\)</title>\n",
       "<path fill=\"none\" stroke=\"black\" d=\"M559.566,-186.828C537.176,-208.63 503.344,-234 467.136,-234 226.689,-234 226.689,-234 226.689,-234 194.268,-234 166.56,-208.396 148.243,-185.46\"/>\n",
       "<polygon fill=\"black\" stroke=\"black\" points=\"151.017,-183.325 142.164,-177.505 145.455,-187.575 151.017,-183.325\"/>\n",
       "<text text-anchor=\"middle\" x=\"342.491\" y=\"-236.8\" font-family=\"Times,serif\" font-size=\"14.00\">0</text>\n",
       "</g>\n",
       "<!-- \\(F_F0101\\) -->\n",
       "<g id=\"node7\" class=\"node\"><title>\\(F_F0101\\)</title>\n",
       "<ellipse fill=\"none\" stroke=\"black\" cx=\"724.297\" cy=\"-72\" rx=\"47.8885\" ry=\"47.8885\"/>\n",
       "<ellipse fill=\"none\" stroke=\"black\" cx=\"724.297\" cy=\"-72\" rx=\"51.8841\" ry=\"51.8841\"/>\n",
       "<text text-anchor=\"middle\" x=\"724.297\" y=\"-67.8\" font-family=\"Times,serif\" font-size=\"14.00\">(F_F0101)</text>\n",
       "</g>\n",
       "<!-- \\(I_S010\\)&#45;&gt;\\(F_F0101\\) -->\n",
       "<g id=\"edge11\" class=\"edge\"><title>\\(I_S010\\)&#45;&gt;\\(F_F0101\\)</title>\n",
       "<path fill=\"none\" stroke=\"black\" d=\"M623.442,-134.368C637.889,-125.345 654.986,-114.666 670.912,-104.719\"/>\n",
       "<polygon fill=\"black\" stroke=\"black\" points=\"672.987,-107.549 679.615,-99.2833 669.279,-101.612 672.987,-107.549\"/>\n",
       "<text text-anchor=\"middle\" x=\"650.855\" y=\"-122.8\" font-family=\"Times,serif\" font-size=\"14.00\">1</text>\n",
       "</g>\n",
       "<!-- \\(F_F0101\\)&#45;&gt;\\(F_S010\\) -->\n",
       "<g id=\"edge6\" class=\"edge\"><title>\\(F_F0101\\)&#45;&gt;\\(F_S010\\)</title>\n",
       "<path fill=\"none\" stroke=\"black\" d=\"M672.184,-72C600.232,-72 469.722,-72 396.669,-72\"/>\n",
       "<polygon fill=\"black\" stroke=\"black\" points=\"396.321,-68.5001 386.321,-72 396.321,-75.5001 396.321,-68.5001\"/>\n",
       "<text text-anchor=\"middle\" x=\"524.761\" y=\"-74.8\" font-family=\"Times,serif\" font-size=\"14.00\">0</text>\n",
       "</g>\n",
       "<!-- \\(F_F0101\\)&#45;&gt;\\(I_S0\\) -->\n",
       "<g id=\"edge3\" class=\"edge\"><title>\\(F_F0101\\)&#45;&gt;\\(I_S0\\)</title>\n",
       "<path fill=\"none\" stroke=\"black\" d=\"M684.671,-38.3189C659.219,-19.5801 624.164,-0 588.808,-0 226.689,-0 226.689,-0 226.689,-0 173.991,-0 146.61,-64.0959 133.965,-108.49\"/>\n",
       "<polygon fill=\"black\" stroke=\"black\" points=\"130.574,-107.622 131.345,-118.189 137.332,-109.448 130.574,-107.622\"/>\n",
       "<text text-anchor=\"middle\" x=\"407.511\" y=\"-2.8\" font-family=\"Times,serif\" font-size=\"14.00\">1</text>\n",
       "</g>\n",
       "</g>\n",
       "</svg>\n"
      ],
      "text/plain": [
       "<graphviz.dot.Digraph at 0x10a6b1278>"
      ]
     },
     "execution_count": 118,
     "metadata": {},
     "output_type": "execute_result"
    }
   ],
   "source": [
    "dotObj_dfa(MinC_CdfaOdd1sORCends0101)"
   ]
  },
  {
   "cell_type": "code",
   "execution_count": 119,
   "metadata": {
    "run_control": {
     "frozen": false,
     "read_only": false
    }
   },
   "outputs": [
    {
     "data": {
      "text/plain": [
       "True"
      ]
     },
     "execution_count": 119,
     "metadata": {},
     "output_type": "execute_result"
    }
   ],
   "source": [
    "iso_dfa(MinC_CdfaOdd1sORCends0101, Minodd1sANDends0101)"
   ]
  },
  {
   "cell_type": "code",
   "execution_count": 120,
   "metadata": {
    "run_control": {
     "frozen": false,
     "read_only": false
    }
   },
   "outputs": [
    {
     "name": "stderr",
     "output_type": "stream",
     "text": [
      "Generating LALR tables\n"
     ]
    }
   ],
   "source": [
    "blimp = md2mc('''\n",
    "DFA \n",
    "I1 : a -> F2\n",
    "I1 : b -> F3\n",
    "F2 : a -> S8\n",
    "F2 : b -> S5\n",
    "F3 : a -> S7\n",
    "F3 : b -> S4\n",
    "S4 : a | b -> F6\n",
    "S5 : a | b -> F6\n",
    "F6 : a | b -> F6\n",
    "S7 : a | b -> F6\n",
    "S8 : a -> F6\n",
    "S8 : b -> F9\n",
    "F9 : a -> F9\n",
    "F9 : b -> F6\n",
    "''')"
   ]
  },
  {
   "cell_type": "code",
   "execution_count": 121,
   "metadata": {
    "run_control": {
     "frozen": false,
     "read_only": false
    }
   },
   "outputs": [],
   "source": [
    "dblimp = dotObj_dfa(blimp)"
   ]
  },
  {
   "cell_type": "code",
   "execution_count": 122,
   "metadata": {
    "run_control": {
     "frozen": false,
     "read_only": false
    }
   },
   "outputs": [
    {
     "data": {
      "image/svg+xml": [
       "<?xml version=\"1.0\" encoding=\"UTF-8\" standalone=\"no\"?>\n",
       "<!DOCTYPE svg PUBLIC \"-//W3C//DTD SVG 1.1//EN\"\n",
       " \"http://www.w3.org/Graphics/SVG/1.1/DTD/svg11.dtd\">\n",
       "<!-- Generated by graphviz version 2.38.0 (20140413.2041)\n",
       " -->\n",
       "<!-- Title: %3 Pages: 1 -->\n",
       "<svg width=\"493pt\" height=\"307pt\"\n",
       " viewBox=\"0.00 0.00 493.00 306.89\" xmlns=\"http://www.w3.org/2000/svg\" xmlns:xlink=\"http://www.w3.org/1999/xlink\">\n",
       "<g id=\"graph0\" class=\"graph\" transform=\"scale(1 1) rotate(0) translate(4 302.894)\">\n",
       "<title>%3</title>\n",
       "<polygon fill=\"white\" stroke=\"none\" points=\"-4,4 -4,-302.894 489.003,-302.894 489.003,4 -4,4\"/>\n",
       "<!-- EMPTY -->\n",
       "<g id=\"node1\" class=\"node\"><title>EMPTY</title>\n",
       "</g>\n",
       "<!-- I1 -->\n",
       "<g id=\"node4\" class=\"node\"><title>I1</title>\n",
       "<ellipse fill=\"none\" stroke=\"black\" cx=\"109\" cy=\"-102.447\" rx=\"18\" ry=\"18\"/>\n",
       "<text text-anchor=\"middle\" x=\"109\" y=\"-98.2469\" font-family=\"Times,serif\" font-size=\"14.00\">I1</text>\n",
       "</g>\n",
       "<!-- EMPTY&#45;&gt;I1 -->\n",
       "<g id=\"edge1\" class=\"edge\"><title>EMPTY&#45;&gt;I1</title>\n",
       "<path fill=\"none\" stroke=\"black\" d=\"M54.195,-102.447C62.6538,-102.447 72.0513,-102.447 80.5951,-102.447\"/>\n",
       "<polygon fill=\"black\" stroke=\"black\" points=\"80.8257,-105.947 90.8257,-102.447 80.8257,-98.947 80.8257,-105.947\"/>\n",
       "</g>\n",
       "<!-- S5 -->\n",
       "<g id=\"node2\" class=\"node\"><title>S5</title>\n",
       "<ellipse fill=\"none\" stroke=\"black\" cx=\"371.662\" cy=\"-279.447\" rx=\"19.3939\" ry=\"19.3939\"/>\n",
       "<text text-anchor=\"middle\" x=\"371.662\" y=\"-275.247\" font-family=\"Times,serif\" font-size=\"14.00\">S5</text>\n",
       "</g>\n",
       "<!-- F6 -->\n",
       "<g id=\"node9\" class=\"node\"><title>F6</title>\n",
       "<ellipse fill=\"none\" stroke=\"black\" cx=\"461.556\" cy=\"-116.447\" rx=\"19.4029\" ry=\"19.4029\"/>\n",
       "<ellipse fill=\"none\" stroke=\"black\" cx=\"461.556\" cy=\"-116.447\" rx=\"23.3939\" ry=\"23.3939\"/>\n",
       "<text text-anchor=\"middle\" x=\"461.556\" y=\"-112.247\" font-family=\"Times,serif\" font-size=\"14.00\">F6</text>\n",
       "</g>\n",
       "<!-- S5&#45;&gt;F6 -->\n",
       "<g id=\"edge10\" class=\"edge\"><title>S5&#45;&gt;F6</title>\n",
       "<path fill=\"none\" stroke=\"black\" d=\"M389.295,-271.137C399.521,-265.248 412.148,-256.448 420.109,-245.447 440.729,-216.953 451.068,-177.615 456.096,-149.892\"/>\n",
       "<polygon fill=\"black\" stroke=\"black\" points=\"459.573,-150.324 457.774,-139.883 452.669,-149.166 459.573,-150.324\"/>\n",
       "<text text-anchor=\"middle\" x=\"416.609\" y=\"-256.247\" font-family=\"Times,serif\" font-size=\"14.00\">a</text>\n",
       "</g>\n",
       "<!-- S5&#45;&gt;F6 -->\n",
       "<g id=\"edge11\" class=\"edge\"><title>S5&#45;&gt;F6</title>\n",
       "<path fill=\"none\" stroke=\"black\" d=\"M384.919,-264.817C388.409,-260.341 392.082,-255.312 395.109,-250.447 416.151,-216.623 435.54,-175.053 447.663,-147.266\"/>\n",
       "<polygon fill=\"black\" stroke=\"black\" points=\"450.892,-148.616 451.639,-138.048 444.465,-145.844 450.892,-148.616\"/>\n",
       "<text text-anchor=\"middle\" x=\"416.609\" y=\"-222.247\" font-family=\"Times,serif\" font-size=\"14.00\">b</text>\n",
       "</g>\n",
       "<!-- S8 -->\n",
       "<g id=\"node3\" class=\"node\"><title>S8</title>\n",
       "<ellipse fill=\"none\" stroke=\"black\" cx=\"281.768\" cy=\"-162.447\" rx=\"19.3939\" ry=\"19.3939\"/>\n",
       "<text text-anchor=\"middle\" x=\"281.768\" y=\"-158.247\" font-family=\"Times,serif\" font-size=\"14.00\">S8</text>\n",
       "</g>\n",
       "<!-- F9 -->\n",
       "<g id=\"node8\" class=\"node\"><title>F9</title>\n",
       "<ellipse fill=\"none\" stroke=\"black\" cx=\"371.662\" cy=\"-186.447\" rx=\"19.4029\" ry=\"19.4029\"/>\n",
       "<ellipse fill=\"none\" stroke=\"black\" cx=\"371.662\" cy=\"-186.447\" rx=\"23.3939\" ry=\"23.3939\"/>\n",
       "<text text-anchor=\"middle\" x=\"371.662\" y=\"-182.247\" font-family=\"Times,serif\" font-size=\"14.00\">F9</text>\n",
       "</g>\n",
       "<!-- S8&#45;&gt;F9 -->\n",
       "<g id=\"edge17\" class=\"edge\"><title>S8&#45;&gt;F9</title>\n",
       "<path fill=\"none\" stroke=\"black\" d=\"M300.98,-167.42C311.931,-170.41 326.173,-174.299 338.925,-177.781\"/>\n",
       "<polygon fill=\"black\" stroke=\"black\" points=\"338.173,-181.203 348.741,-180.461 340.016,-174.451 338.173,-181.203\"/>\n",
       "<text text-anchor=\"middle\" x=\"326.715\" y=\"-178.247\" font-family=\"Times,serif\" font-size=\"14.00\">b</text>\n",
       "</g>\n",
       "<!-- S8&#45;&gt;F6 -->\n",
       "<g id=\"edge16\" class=\"edge\"><title>S8&#45;&gt;F6</title>\n",
       "<path fill=\"none\" stroke=\"black\" d=\"M300.378,-155.92C313.457,-151.221 331.798,-144.944 348.215,-140.447 374.95,-133.123 405.769,-126.678 428.357,-122.315\"/>\n",
       "<polygon fill=\"black\" stroke=\"black\" points=\"429.249,-125.709 438.42,-120.404 427.943,-118.831 429.249,-125.709\"/>\n",
       "<text text-anchor=\"middle\" x=\"371.662\" y=\"-143.247\" font-family=\"Times,serif\" font-size=\"14.00\">a</text>\n",
       "</g>\n",
       "<!-- F2 -->\n",
       "<g id=\"node7\" class=\"node\"><title>F2</title>\n",
       "<ellipse fill=\"none\" stroke=\"black\" cx=\"192.661\" cy=\"-162.447\" rx=\"19.4029\" ry=\"19.4029\"/>\n",
       "<ellipse fill=\"none\" stroke=\"black\" cx=\"192.661\" cy=\"-162.447\" rx=\"23.3939\" ry=\"23.3939\"/>\n",
       "<text text-anchor=\"middle\" x=\"192.661\" y=\"-158.247\" font-family=\"Times,serif\" font-size=\"14.00\">F2</text>\n",
       "</g>\n",
       "<!-- I1&#45;&gt;F2 -->\n",
       "<g id=\"edge2\" class=\"edge\"><title>I1&#45;&gt;F2</title>\n",
       "<path fill=\"none\" stroke=\"black\" d=\"M123.853,-112.625C135.082,-120.876 151.24,-132.748 164.966,-142.833\"/>\n",
       "<polygon fill=\"black\" stroke=\"black\" points=\"163.001,-145.733 173.132,-148.833 167.146,-140.092 163.001,-145.733\"/>\n",
       "<text text-anchor=\"middle\" x=\"148.107\" y=\"-135.247\" font-family=\"Times,serif\" font-size=\"14.00\">a</text>\n",
       "</g>\n",
       "<!-- F3 -->\n",
       "<g id=\"node10\" class=\"node\"><title>F3</title>\n",
       "<ellipse fill=\"none\" stroke=\"black\" cx=\"281.768\" cy=\"-76.4469\" rx=\"19.4029\" ry=\"19.4029\"/>\n",
       "<ellipse fill=\"none\" stroke=\"black\" cx=\"281.768\" cy=\"-76.4469\" rx=\"23.3939\" ry=\"23.3939\"/>\n",
       "<text text-anchor=\"middle\" x=\"281.768\" y=\"-72.2469\" font-family=\"Times,serif\" font-size=\"14.00\">F3</text>\n",
       "</g>\n",
       "<!-- I1&#45;&gt;F3 -->\n",
       "<g id=\"edge3\" class=\"edge\"><title>I1&#45;&gt;F3</title>\n",
       "<path fill=\"none\" stroke=\"black\" d=\"M126.998,-99.8588C155.255,-95.5567 212.347,-86.8642 248.455,-81.3666\"/>\n",
       "<polygon fill=\"black\" stroke=\"black\" points=\"249.128,-84.8046 258.487,-79.8392 248.074,-77.8844 249.128,-84.8046\"/>\n",
       "<text text-anchor=\"middle\" x=\"192.661\" y=\"-96.2469\" font-family=\"Times,serif\" font-size=\"14.00\">b</text>\n",
       "</g>\n",
       "<!-- S4 -->\n",
       "<g id=\"node5\" class=\"node\"><title>S4</title>\n",
       "<ellipse fill=\"none\" stroke=\"black\" cx=\"371.662\" cy=\"-76.4469\" rx=\"19.3939\" ry=\"19.3939\"/>\n",
       "<text text-anchor=\"middle\" x=\"371.662\" y=\"-72.2469\" font-family=\"Times,serif\" font-size=\"14.00\">S4</text>\n",
       "</g>\n",
       "<!-- S4&#45;&gt;F6 -->\n",
       "<g id=\"edge8\" class=\"edge\"><title>S4&#45;&gt;F6</title>\n",
       "<path fill=\"none\" stroke=\"black\" d=\"M389.609,-84.1593C401.282,-89.4716 417.104,-96.6723 430.845,-102.926\"/>\n",
       "<polygon fill=\"black\" stroke=\"black\" points=\"429.397,-106.112 439.949,-107.069 432.297,-99.7408 429.397,-106.112\"/>\n",
       "<text text-anchor=\"middle\" x=\"416.609\" y=\"-101.247\" font-family=\"Times,serif\" font-size=\"14.00\">a</text>\n",
       "</g>\n",
       "<!-- S4&#45;&gt;F6 -->\n",
       "<g id=\"edge9\" class=\"edge\"><title>S4&#45;&gt;F6</title>\n",
       "<path fill=\"none\" stroke=\"black\" d=\"M391.334,-73.7507C400.35,-73.2094 411.132,-73.7135 420.109,-77.4469 427.292,-80.4342 433.925,-85.3451 439.653,-90.6912\"/>\n",
       "<polygon fill=\"black\" stroke=\"black\" points=\"437.389,-93.3835 446.871,-98.1113 442.407,-88.5026 437.389,-93.3835\"/>\n",
       "<text text-anchor=\"middle\" x=\"416.609\" y=\"-80.2469\" font-family=\"Times,serif\" font-size=\"14.00\">b</text>\n",
       "</g>\n",
       "<!-- S7 -->\n",
       "<g id=\"node6\" class=\"node\"><title>S7</title>\n",
       "<ellipse fill=\"none\" stroke=\"black\" cx=\"371.662\" cy=\"-19.4469\" rx=\"19.3939\" ry=\"19.3939\"/>\n",
       "<text text-anchor=\"middle\" x=\"371.662\" y=\"-15.2469\" font-family=\"Times,serif\" font-size=\"14.00\">S7</text>\n",
       "</g>\n",
       "<!-- S7&#45;&gt;F6 -->\n",
       "<g id=\"edge14\" class=\"edge\"><title>S7&#45;&gt;F6</title>\n",
       "<path fill=\"none\" stroke=\"black\" d=\"M388.112,-30.4264C397.867,-37.7587 410.413,-47.9522 420.109,-58.4469 428.401,-67.4213 436.359,-78.1847 442.989,-87.9893\"/>\n",
       "<polygon fill=\"black\" stroke=\"black\" points=\"440.26,-90.2099 448.677,-96.6452 446.111,-86.3659 440.26,-90.2099\"/>\n",
       "<text text-anchor=\"middle\" x=\"416.609\" y=\"-61.2469\" font-family=\"Times,serif\" font-size=\"14.00\">a</text>\n",
       "</g>\n",
       "<!-- S7&#45;&gt;F6 -->\n",
       "<g id=\"edge15\" class=\"edge\"><title>S7&#45;&gt;F6</title>\n",
       "<path fill=\"none\" stroke=\"black\" d=\"M391.013,-22.1755C400.594,-24.3927 411.98,-28.3678 420.109,-35.4469 434.735,-48.1838 444.659,-67.4603 451.014,-84.0132\"/>\n",
       "<polygon fill=\"black\" stroke=\"black\" points=\"447.876,-85.6334 454.521,-93.885 454.472,-83.2903 447.876,-85.6334\"/>\n",
       "<text text-anchor=\"middle\" x=\"416.609\" y=\"-38.2469\" font-family=\"Times,serif\" font-size=\"14.00\">b</text>\n",
       "</g>\n",
       "<!-- F2&#45;&gt;S5 -->\n",
       "<g id=\"edge5\" class=\"edge\"><title>F2&#45;&gt;S5</title>\n",
       "<path fill=\"none\" stroke=\"black\" d=\"M212.603,-174.968C244.996,-196.38 310.975,-239.993 346.585,-263.531\"/>\n",
       "<polygon fill=\"black\" stroke=\"black\" points=\"344.672,-266.463 354.945,-269.057 348.532,-260.623 344.672,-266.463\"/>\n",
       "<text text-anchor=\"middle\" x=\"281.768\" y=\"-239.247\" font-family=\"Times,serif\" font-size=\"14.00\">b</text>\n",
       "</g>\n",
       "<!-- F2&#45;&gt;S8 -->\n",
       "<g id=\"edge4\" class=\"edge\"><title>F2&#45;&gt;S8</title>\n",
       "<path fill=\"none\" stroke=\"black\" d=\"M216.547,-162.447C227.43,-162.447 240.555,-162.447 252.095,-162.447\"/>\n",
       "<polygon fill=\"black\" stroke=\"black\" points=\"252.138,-165.947 262.138,-162.447 252.138,-158.947 252.138,-165.947\"/>\n",
       "<text text-anchor=\"middle\" x=\"237.215\" y=\"-165.247\" font-family=\"Times,serif\" font-size=\"14.00\">a</text>\n",
       "</g>\n",
       "<!-- F9&#45;&gt;F9 -->\n",
       "<g id=\"edge18\" class=\"edge\"><title>F9&#45;&gt;F9</title>\n",
       "<path fill=\"none\" stroke=\"black\" d=\"M363.575,-208.62C362.693,-218.906 365.389,-227.894 371.662,-227.894 375.681,-227.894 378.232,-224.205 379.314,-218.85\"/>\n",
       "<polygon fill=\"black\" stroke=\"black\" points=\"382.821,-218.76 379.749,-208.62 375.827,-218.463 382.821,-218.76\"/>\n",
       "<text text-anchor=\"middle\" x=\"371.662\" y=\"-230.694\" font-family=\"Times,serif\" font-size=\"14.00\">a</text>\n",
       "</g>\n",
       "<!-- F9&#45;&gt;F6 -->\n",
       "<g id=\"edge19\" class=\"edge\"><title>F9&#45;&gt;F6</title>\n",
       "<path fill=\"none\" stroke=\"black\" d=\"M390.449,-172.281C403.196,-162.129 420.56,-148.3 434.818,-136.945\"/>\n",
       "<polygon fill=\"black\" stroke=\"black\" points=\"437.154,-139.559 442.796,-130.591 432.793,-134.083 437.154,-139.559\"/>\n",
       "<text text-anchor=\"middle\" x=\"416.609\" y=\"-157.247\" font-family=\"Times,serif\" font-size=\"14.00\">b</text>\n",
       "</g>\n",
       "<!-- F6&#45;&gt;F6 -->\n",
       "<g id=\"edge12\" class=\"edge\"><title>F6&#45;&gt;F6</title>\n",
       "<path fill=\"none\" stroke=\"black\" d=\"M457.467,-139.881C457.185,-149.63 458.548,-157.894 461.556,-157.894 463.389,-157.894 464.611,-154.825 465.222,-150.222\"/>\n",
       "<polygon fill=\"black\" stroke=\"black\" points=\"468.733,-150.016 465.645,-139.881 461.739,-149.73 468.733,-150.016\"/>\n",
       "<text text-anchor=\"middle\" x=\"461.556\" y=\"-160.694\" font-family=\"Times,serif\" font-size=\"14.00\">a</text>\n",
       "</g>\n",
       "<!-- F6&#45;&gt;F6 -->\n",
       "<g id=\"edge13\" class=\"edge\"><title>F6&#45;&gt;F6</title>\n",
       "<path fill=\"none\" stroke=\"black\" d=\"M454.466,-139.015C451.63,-157.162 453.993,-175.894 461.556,-175.894 467.7,-175.894 470.413,-163.528 469.693,-149.157\"/>\n",
       "<polygon fill=\"black\" stroke=\"black\" points=\"473.154,-148.603 468.646,-139.015 466.191,-149.322 473.154,-148.603\"/>\n",
       "<text text-anchor=\"middle\" x=\"461.556\" y=\"-178.694\" font-family=\"Times,serif\" font-size=\"14.00\">b</text>\n",
       "</g>\n",
       "<!-- F3&#45;&gt;S4 -->\n",
       "<g id=\"edge7\" class=\"edge\"><title>F3&#45;&gt;S4</title>\n",
       "<path fill=\"none\" stroke=\"black\" d=\"M305.403,-76.4469C316.463,-76.4469 329.899,-76.4469 341.698,-76.4469\"/>\n",
       "<polygon fill=\"black\" stroke=\"black\" points=\"341.958,-79.947 351.958,-76.4469 341.958,-72.947 341.958,-79.947\"/>\n",
       "<text text-anchor=\"middle\" x=\"326.715\" y=\"-79.2469\" font-family=\"Times,serif\" font-size=\"14.00\">b</text>\n",
       "</g>\n",
       "<!-- F3&#45;&gt;S7 -->\n",
       "<g id=\"edge6\" class=\"edge\"><title>F3&#45;&gt;S7</title>\n",
       "<path fill=\"none\" stroke=\"black\" d=\"M301.84,-64.0787C314.845,-55.645 332.183,-44.401 346.203,-35.3089\"/>\n",
       "<polygon fill=\"black\" stroke=\"black\" points=\"348.372,-38.0736 354.858,-29.6959 344.563,-32.2005 348.372,-38.0736\"/>\n",
       "<text text-anchor=\"middle\" x=\"326.715\" y=\"-53.2469\" font-family=\"Times,serif\" font-size=\"14.00\">a</text>\n",
       "</g>\n",
       "</g>\n",
       "</svg>\n"
      ],
      "text/plain": [
       "<graphviz.dot.Digraph at 0x10a211390>"
      ]
     },
     "execution_count": 122,
     "metadata": {},
     "output_type": "execute_result"
    }
   ],
   "source": [
    "dblimp"
   ]
  },
  {
   "cell_type": "code",
   "execution_count": 123,
   "metadata": {
    "run_control": {
     "frozen": false,
     "read_only": false
    }
   },
   "outputs": [],
   "source": [
    "dblimp = dotObj_dfa(blimp, FuseEdges=True)"
   ]
  },
  {
   "cell_type": "code",
   "execution_count": 124,
   "metadata": {
    "run_control": {
     "frozen": false,
     "read_only": false
    }
   },
   "outputs": [
    {
     "data": {
      "image/svg+xml": [
       "<?xml version=\"1.0\" encoding=\"UTF-8\" standalone=\"no\"?>\n",
       "<!DOCTYPE svg PUBLIC \"-//W3C//DTD SVG 1.1//EN\"\n",
       " \"http://www.w3.org/Graphics/SVG/1.1/DTD/svg11.dtd\">\n",
       "<!-- Generated by graphviz version 2.38.0 (20140413.2041)\n",
       " -->\n",
       "<!-- Title: %3 Pages: 1 -->\n",
       "<svg width=\"529pt\" height=\"293pt\"\n",
       " viewBox=\"0.00 0.00 529.18 293.45\" xmlns=\"http://www.w3.org/2000/svg\" xmlns:xlink=\"http://www.w3.org/1999/xlink\">\n",
       "<g id=\"graph0\" class=\"graph\" transform=\"scale(1 1) rotate(0) translate(4 289.447)\">\n",
       "<title>%3</title>\n",
       "<polygon fill=\"white\" stroke=\"none\" points=\"-4,4 -4,-289.447 525.183,-289.447 525.183,4 -4,4\"/>\n",
       "<!-- EMPTY -->\n",
       "<g id=\"node1\" class=\"node\"><title>EMPTY</title>\n",
       "</g>\n",
       "<!-- I1 -->\n",
       "<g id=\"node4\" class=\"node\"><title>I1</title>\n",
       "<ellipse fill=\"none\" stroke=\"black\" cx=\"109\" cy=\"-102.447\" rx=\"18\" ry=\"18\"/>\n",
       "<text text-anchor=\"middle\" x=\"109\" y=\"-98.2469\" font-family=\"Times,serif\" font-size=\"14.00\">I1</text>\n",
       "</g>\n",
       "<!-- EMPTY&#45;&gt;I1 -->\n",
       "<g id=\"edge1\" class=\"edge\"><title>EMPTY&#45;&gt;I1</title>\n",
       "<path fill=\"none\" stroke=\"black\" d=\"M54.195,-102.447C62.6538,-102.447 72.0513,-102.447 80.5951,-102.447\"/>\n",
       "<polygon fill=\"black\" stroke=\"black\" points=\"80.8257,-105.947 90.8257,-102.447 80.8257,-98.947 80.8257,-105.947\"/>\n",
       "</g>\n",
       "<!-- S5 -->\n",
       "<g id=\"node2\" class=\"node\"><title>S5</title>\n",
       "<ellipse fill=\"none\" stroke=\"black\" cx=\"343.448\" cy=\"-245.447\" rx=\"19.3939\" ry=\"19.3939\"/>\n",
       "<text text-anchor=\"middle\" x=\"343.448\" y=\"-241.247\" font-family=\"Times,serif\" font-size=\"14.00\">S5</text>\n",
       "</g>\n",
       "<!-- F6 -->\n",
       "<g id=\"node9\" class=\"node\"><title>F6</title>\n",
       "<ellipse fill=\"none\" stroke=\"black\" cx=\"497.736\" cy=\"-131.447\" rx=\"19.4029\" ry=\"19.4029\"/>\n",
       "<ellipse fill=\"none\" stroke=\"black\" cx=\"497.736\" cy=\"-131.447\" rx=\"23.3939\" ry=\"23.3939\"/>\n",
       "<text text-anchor=\"middle\" x=\"497.736\" y=\"-127.247\" font-family=\"Times,serif\" font-size=\"14.00\">F6</text>\n",
       "</g>\n",
       "<!-- S5&#45;&gt;F6 -->\n",
       "<g id=\"edge9\" class=\"edge\"><title>S5&#45;&gt;F6</title>\n",
       "<path fill=\"none\" stroke=\"black\" d=\"M362.008,-251.816C379.819,-257.118 407.57,-262.1 427.789,-250.447 459.803,-231.996 478.307,-192.367 487.935,-163.906\"/>\n",
       "<polygon fill=\"black\" stroke=\"black\" points=\"491.276,-164.949 490.979,-154.358 484.607,-162.823 491.276,-164.949\"/>\n",
       "<text text-anchor=\"middle\" x=\"404.342\" y=\"-274.247\" font-family=\"Times,serif\" font-size=\"14.00\">b </text>\n",
       "<text text-anchor=\"middle\" x=\"404.342\" y=\"-260.247\" font-family=\"Times,serif\" font-size=\"14.00\"> a</text>\n",
       "</g>\n",
       "<!-- S8 -->\n",
       "<g id=\"node3\" class=\"node\"><title>S8</title>\n",
       "<ellipse fill=\"none\" stroke=\"black\" cx=\"282.554\" cy=\"-146.447\" rx=\"19.3939\" ry=\"19.3939\"/>\n",
       "<text text-anchor=\"middle\" x=\"282.554\" y=\"-142.247\" font-family=\"Times,serif\" font-size=\"14.00\">S8</text>\n",
       "</g>\n",
       "<!-- F9 -->\n",
       "<g id=\"node8\" class=\"node\"><title>F9</title>\n",
       "<ellipse fill=\"none\" stroke=\"black\" cx=\"404.342\" cy=\"-186.447\" rx=\"19.4029\" ry=\"19.4029\"/>\n",
       "<ellipse fill=\"none\" stroke=\"black\" cx=\"404.342\" cy=\"-186.447\" rx=\"23.3939\" ry=\"23.3939\"/>\n",
       "<text text-anchor=\"middle\" x=\"404.342\" y=\"-182.247\" font-family=\"Times,serif\" font-size=\"14.00\">F9</text>\n",
       "</g>\n",
       "<!-- S8&#45;&gt;F9 -->\n",
       "<g id=\"edge13\" class=\"edge\"><title>S8&#45;&gt;F9</title>\n",
       "<path fill=\"none\" stroke=\"black\" d=\"M301.23,-152.349C319.937,-158.596 349.827,-168.577 372.444,-176.129\"/>\n",
       "<polygon fill=\"black\" stroke=\"black\" points=\"371.354,-179.455 381.948,-179.303 373.571,-172.816 371.354,-179.455\"/>\n",
       "<text text-anchor=\"middle\" x=\"343.448\" y=\"-175.247\" font-family=\"Times,serif\" font-size=\"14.00\">b</text>\n",
       "</g>\n",
       "<!-- S8&#45;&gt;F6 -->\n",
       "<g id=\"edge12\" class=\"edge\"><title>S8&#45;&gt;F6</title>\n",
       "<path fill=\"none\" stroke=\"black\" d=\"M302.1,-145.142C338.3,-142.595 418.782,-136.932 464.099,-133.743\"/>\n",
       "<polygon fill=\"black\" stroke=\"black\" points=\"464.549,-137.22 474.279,-133.027 464.058,-130.238 464.549,-137.22\"/>\n",
       "<text text-anchor=\"middle\" x=\"404.342\" y=\"-142.247\" font-family=\"Times,serif\" font-size=\"14.00\">a</text>\n",
       "</g>\n",
       "<!-- F2 -->\n",
       "<g id=\"node7\" class=\"node\"><title>F2</title>\n",
       "<ellipse fill=\"none\" stroke=\"black\" cx=\"192.661\" cy=\"-146.447\" rx=\"19.4029\" ry=\"19.4029\"/>\n",
       "<ellipse fill=\"none\" stroke=\"black\" cx=\"192.661\" cy=\"-146.447\" rx=\"23.3939\" ry=\"23.3939\"/>\n",
       "<text text-anchor=\"middle\" x=\"192.661\" y=\"-142.247\" font-family=\"Times,serif\" font-size=\"14.00\">F2</text>\n",
       "</g>\n",
       "<!-- I1&#45;&gt;F2 -->\n",
       "<g id=\"edge2\" class=\"edge\"><title>I1&#45;&gt;F2</title>\n",
       "<path fill=\"none\" stroke=\"black\" d=\"M125.36,-110.723C135.918,-116.412 150.26,-124.14 162.905,-130.953\"/>\n",
       "<polygon fill=\"black\" stroke=\"black\" points=\"161.27,-134.047 171.733,-135.71 164.59,-127.885 161.27,-134.047\"/>\n",
       "<text text-anchor=\"middle\" x=\"148.107\" y=\"-127.247\" font-family=\"Times,serif\" font-size=\"14.00\">a</text>\n",
       "</g>\n",
       "<!-- F3 -->\n",
       "<g id=\"node10\" class=\"node\"><title>F3</title>\n",
       "<ellipse fill=\"none\" stroke=\"black\" cx=\"282.554\" cy=\"-76.4469\" rx=\"19.4029\" ry=\"19.4029\"/>\n",
       "<ellipse fill=\"none\" stroke=\"black\" cx=\"282.554\" cy=\"-76.4469\" rx=\"23.3939\" ry=\"23.3939\"/>\n",
       "<text text-anchor=\"middle\" x=\"282.554\" y=\"-72.2469\" font-family=\"Times,serif\" font-size=\"14.00\">F3</text>\n",
       "</g>\n",
       "<!-- I1&#45;&gt;F3 -->\n",
       "<g id=\"edge3\" class=\"edge\"><title>I1&#45;&gt;F3</title>\n",
       "<path fill=\"none\" stroke=\"black\" d=\"M127.076,-99.8588C155.463,-95.5567 212.818,-86.8642 249.093,-81.3666\"/>\n",
       "<polygon fill=\"black\" stroke=\"black\" points=\"249.808,-84.7983 259.171,-79.8392 248.759,-77.8773 249.808,-84.7983\"/>\n",
       "<text text-anchor=\"middle\" x=\"192.661\" y=\"-96.2469\" font-family=\"Times,serif\" font-size=\"14.00\">b</text>\n",
       "</g>\n",
       "<!-- S4 -->\n",
       "<g id=\"node5\" class=\"node\"><title>S4</title>\n",
       "<ellipse fill=\"none\" stroke=\"black\" cx=\"404.342\" cy=\"-76.4469\" rx=\"19.3939\" ry=\"19.3939\"/>\n",
       "<text text-anchor=\"middle\" x=\"404.342\" y=\"-72.2469\" font-family=\"Times,serif\" font-size=\"14.00\">S4</text>\n",
       "</g>\n",
       "<!-- S4&#45;&gt;F6 -->\n",
       "<g id=\"edge8\" class=\"edge\"><title>S4&#45;&gt;F6</title>\n",
       "<path fill=\"none\" stroke=\"black\" d=\"M423.722,-78.6238C433.851,-80.4222 446.348,-83.6618 456.289,-89.4469 463.425,-93.5997 470.12,-99.3697 475.93,-105.305\"/>\n",
       "<polygon fill=\"black\" stroke=\"black\" points=\"473.452,-107.782 482.783,-112.802 478.619,-103.059 473.452,-107.782\"/>\n",
       "<text text-anchor=\"middle\" x=\"451.039\" y=\"-106.247\" font-family=\"Times,serif\" font-size=\"14.00\">b </text>\n",
       "<text text-anchor=\"middle\" x=\"451.039\" y=\"-92.2469\" font-family=\"Times,serif\" font-size=\"14.00\"> a</text>\n",
       "</g>\n",
       "<!-- S7 -->\n",
       "<g id=\"node6\" class=\"node\"><title>S7</title>\n",
       "<ellipse fill=\"none\" stroke=\"black\" cx=\"404.342\" cy=\"-19.4469\" rx=\"19.3939\" ry=\"19.3939\"/>\n",
       "<text text-anchor=\"middle\" x=\"404.342\" y=\"-15.2469\" font-family=\"Times,serif\" font-size=\"14.00\">S7</text>\n",
       "</g>\n",
       "<!-- S7&#45;&gt;F6 -->\n",
       "<g id=\"edge11\" class=\"edge\"><title>S7&#45;&gt;F6</title>\n",
       "<path fill=\"none\" stroke=\"black\" d=\"M422.071,-27.7537C432.865,-33.7512 446.641,-42.6736 456.289,-53.4469 468.393,-66.9631 477.981,-84.758 484.778,-99.9376\"/>\n",
       "<polygon fill=\"black\" stroke=\"black\" points=\"481.698,-101.638 488.84,-109.464 488.137,-98.8924 481.698,-101.638\"/>\n",
       "<text text-anchor=\"middle\" x=\"451.039\" y=\"-70.2469\" font-family=\"Times,serif\" font-size=\"14.00\">b </text>\n",
       "<text text-anchor=\"middle\" x=\"451.039\" y=\"-56.2469\" font-family=\"Times,serif\" font-size=\"14.00\"> a</text>\n",
       "</g>\n",
       "<!-- F2&#45;&gt;S5 -->\n",
       "<g id=\"edge5\" class=\"edge\"><title>F2&#45;&gt;S5</title>\n",
       "<path fill=\"none\" stroke=\"black\" d=\"M212.505,-158.985C239.434,-176.903 288.924,-209.833 318.443,-229.474\"/>\n",
       "<polygon fill=\"black\" stroke=\"black\" points=\"316.652,-232.486 326.916,-235.112 320.529,-226.658 316.652,-232.486\"/>\n",
       "<text text-anchor=\"middle\" x=\"237.608\" y=\"-180.247\" font-family=\"Times,serif\" font-size=\"14.00\">b</text>\n",
       "</g>\n",
       "<!-- F2&#45;&gt;S8 -->\n",
       "<g id=\"edge4\" class=\"edge\"><title>F2&#45;&gt;S8</title>\n",
       "<path fill=\"none\" stroke=\"black\" d=\"M216.296,-146.447C227.355,-146.447 240.791,-146.447 252.59,-146.447\"/>\n",
       "<polygon fill=\"black\" stroke=\"black\" points=\"252.851,-149.947 262.851,-146.447 252.851,-142.947 252.851,-149.947\"/>\n",
       "<text text-anchor=\"middle\" x=\"237.608\" y=\"-149.247\" font-family=\"Times,serif\" font-size=\"14.00\">a</text>\n",
       "</g>\n",
       "<!-- F9&#45;&gt;F9 -->\n",
       "<g id=\"edge14\" class=\"edge\"><title>F9&#45;&gt;F9</title>\n",
       "<path fill=\"none\" stroke=\"black\" d=\"M395.887,-208.62C394.965,-218.906 397.783,-227.894 404.342,-227.894 408.544,-227.894 411.21,-224.205 412.341,-218.85\"/>\n",
       "<polygon fill=\"black\" stroke=\"black\" points=\"415.849,-218.766 412.796,-208.62 408.855,-218.455 415.849,-218.766\"/>\n",
       "<text text-anchor=\"middle\" x=\"404.342\" y=\"-230.694\" font-family=\"Times,serif\" font-size=\"14.00\">a</text>\n",
       "</g>\n",
       "<!-- F9&#45;&gt;F6 -->\n",
       "<g id=\"edge15\" class=\"edge\"><title>F9&#45;&gt;F6</title>\n",
       "<path fill=\"none\" stroke=\"black\" d=\"M424.724,-174.783C437.447,-167.126 454.298,-156.985 468.501,-148.438\"/>\n",
       "<polygon fill=\"black\" stroke=\"black\" points=\"470.618,-151.249 477.381,-143.094 467.008,-145.252 470.618,-151.249\"/>\n",
       "<text text-anchor=\"middle\" x=\"451.039\" y=\"-164.247\" font-family=\"Times,serif\" font-size=\"14.00\">b</text>\n",
       "</g>\n",
       "<!-- F6&#45;&gt;F6 -->\n",
       "<g id=\"edge10\" class=\"edge\"><title>F6&#45;&gt;F6</title>\n",
       "<path fill=\"none\" stroke=\"black\" d=\"M489.281,-153.62C488.359,-163.906 491.177,-172.894 497.736,-172.894 501.937,-172.894 504.604,-169.205 505.735,-163.85\"/>\n",
       "<polygon fill=\"black\" stroke=\"black\" points=\"509.242,-163.766 506.19,-153.62 502.249,-163.455 509.242,-163.766\"/>\n",
       "<text text-anchor=\"middle\" x=\"497.736\" y=\"-189.694\" font-family=\"Times,serif\" font-size=\"14.00\">b </text>\n",
       "<text text-anchor=\"middle\" x=\"497.736\" y=\"-175.694\" font-family=\"Times,serif\" font-size=\"14.00\"> a</text>\n",
       "</g>\n",
       "<!-- F3&#45;&gt;S4 -->\n",
       "<g id=\"edge7\" class=\"edge\"><title>F3&#45;&gt;S4</title>\n",
       "<path fill=\"none\" stroke=\"black\" d=\"M306.086,-76.4469C325.477,-76.4469 353.568,-76.4469 374.58,-76.4469\"/>\n",
       "<polygon fill=\"black\" stroke=\"black\" points=\"374.839,-79.947 384.839,-76.4469 374.839,-72.947 374.839,-79.947\"/>\n",
       "<text text-anchor=\"middle\" x=\"343.448\" y=\"-79.2469\" font-family=\"Times,serif\" font-size=\"14.00\">b</text>\n",
       "</g>\n",
       "<!-- F3&#45;&gt;S7 -->\n",
       "<g id=\"edge6\" class=\"edge\"><title>F3&#45;&gt;S7</title>\n",
       "<path fill=\"none\" stroke=\"black\" d=\"M304.147,-66.6482C324.425,-56.9991 355.463,-42.2296 377.412,-31.7854\"/>\n",
       "<polygon fill=\"black\" stroke=\"black\" points=\"378.969,-34.9208 386.495,-27.4635 375.961,-28.5999 378.969,-34.9208\"/>\n",
       "<text text-anchor=\"middle\" x=\"343.448\" y=\"-59.2469\" font-family=\"Times,serif\" font-size=\"14.00\">a</text>\n",
       "</g>\n",
       "</g>\n",
       "</svg>\n"
      ],
      "text/plain": [
       "<graphviz.dot.Digraph at 0x10a6565f8>"
      ]
     },
     "execution_count": 124,
     "metadata": {},
     "output_type": "execute_result"
    }
   ],
   "source": [
    "dblimp"
   ]
  },
  {
   "cell_type": "code",
   "execution_count": 125,
   "metadata": {
    "run_control": {
     "frozen": false,
     "read_only": false
    }
   },
   "outputs": [
    {
     "data": {
      "text/plain": [
       "'// do_St47\\ndigraph {\\n\\tgraph [rankdir=LR]\\n\\t\\tEMPTY [label=\"\" shape=plaintext]\\n\\t\\tS5 [label=S5 peripheries=1 shape=circle]\\n\\t\\tS8 [label=S8 peripheries=1 shape=circle]\\n\\t\\tI1 [label=I1 peripheries=1 shape=circle]\\n\\t\\tS4 [label=S4 peripheries=1 shape=circle]\\n\\t\\tS7 [label=S7 peripheries=1 shape=circle]\\n\\t\\tF2 [label=F2 peripheries=2 shape=circle]\\n\\t\\tF9 [label=F9 peripheries=2 shape=circle]\\n\\t\\tF6 [label=F6 peripheries=2 shape=circle]\\n\\t\\tF3 [label=F3 peripheries=2 shape=circle]\\n\\t\\t\\tEMPTY -> I1\\n\\t\\t\\tI1 -> F2 [label=a]\\n\\t\\t\\tI1 -> F3 [label=b]\\n\\t\\t\\tF2 -> S8 [label=a]\\n\\t\\t\\tF2 -> S5 [label=b]\\n\\t\\t\\tF3 -> S7 [label=a]\\n\\t\\t\\tF3 -> S4 [label=b]\\n\\t\\t\\tS4 -> F6 [label=\"b \\n a\"]\\n\\t\\t\\tS5 -> F6 [label=\"b \\n a\"]\\n\\t\\t\\tF6 -> F6 [label=\"b \\n a\"]\\n\\t\\t\\tS7 -> F6 [label=\"b \\n a\"]\\n\\t\\t\\tS8 -> F6 [label=a]\\n\\t\\t\\tS8 -> F9 [label=b]\\n\\t\\t\\tF9 -> F9 [label=a]\\n\\t\\t\\tF9 -> F6 [label=b]\\n}'"
      ]
     },
     "execution_count": 125,
     "metadata": {},
     "output_type": "execute_result"
    }
   ],
   "source": [
    "dblimp.source"
   ]
  },
  {
   "cell_type": "code",
   "execution_count": null,
   "metadata": {
    "run_control": {
     "frozen": false,
     "read_only": false
    }
   },
   "outputs": [],
   "source": []
  },
  {
   "cell_type": "code",
   "execution_count": 126,
   "metadata": {
    "run_control": {
     "frozen": false,
     "read_only": false
    }
   },
   "outputs": [],
   "source": [
    "mblimp = min_dfa(blimp)"
   ]
  },
  {
   "cell_type": "code",
   "execution_count": 127,
   "metadata": {
    "run_control": {
     "frozen": false,
     "read_only": false
    }
   },
   "outputs": [],
   "source": [
    "dmblimp = dotObj_dfa(mblimp)"
   ]
  },
  {
   "cell_type": "code",
   "execution_count": 128,
   "metadata": {
    "run_control": {
     "frozen": false,
     "read_only": false
    }
   },
   "outputs": [
    {
     "data": {
      "image/svg+xml": [
       "<?xml version=\"1.0\" encoding=\"UTF-8\" standalone=\"no\"?>\n",
       "<!DOCTYPE svg PUBLIC \"-//W3C//DTD SVG 1.1//EN\"\n",
       " \"http://www.w3.org/Graphics/SVG/1.1/DTD/svg11.dtd\">\n",
       "<!-- Generated by graphviz version 2.38.0 (20140413.2041)\n",
       " -->\n",
       "<!-- Title: %3 Pages: 1 -->\n",
       "<svg width=\"397pt\" height=\"119pt\"\n",
       " viewBox=\"0.00 0.00 396.68 118.89\" xmlns=\"http://www.w3.org/2000/svg\" xmlns:xlink=\"http://www.w3.org/1999/xlink\">\n",
       "<g id=\"graph0\" class=\"graph\" transform=\"scale(1 1) rotate(0) translate(4 114.894)\">\n",
       "<title>%3</title>\n",
       "<polygon fill=\"white\" stroke=\"none\" points=\"-4,4 -4,-114.894 392.681,-114.894 392.681,4 -4,4\"/>\n",
       "<!-- EMPTY -->\n",
       "<g id=\"node1\" class=\"node\"><title>EMPTY</title>\n",
       "</g>\n",
       "<!-- I1 -->\n",
       "<g id=\"node3\" class=\"node\"><title>I1</title>\n",
       "<ellipse fill=\"none\" stroke=\"black\" cx=\"109\" cy=\"-23.4469\" rx=\"18\" ry=\"18\"/>\n",
       "<text text-anchor=\"middle\" x=\"109\" y=\"-19.2469\" font-family=\"Times,serif\" font-size=\"14.00\">I1</text>\n",
       "</g>\n",
       "<!-- EMPTY&#45;&gt;I1 -->\n",
       "<g id=\"edge1\" class=\"edge\"><title>EMPTY&#45;&gt;I1</title>\n",
       "<path fill=\"none\" stroke=\"black\" d=\"M54.195,-23.4469C62.6538,-23.4469 72.0513,-23.4469 80.5951,-23.4469\"/>\n",
       "<polygon fill=\"black\" stroke=\"black\" points=\"80.8257,-26.947 90.8257,-23.4469 80.8257,-19.947 80.8257,-26.947\"/>\n",
       "</g>\n",
       "<!-- S4 -->\n",
       "<g id=\"node2\" class=\"node\"><title>S4</title>\n",
       "<ellipse fill=\"none\" stroke=\"black\" cx=\"279.341\" cy=\"-23.4469\" rx=\"19.3939\" ry=\"19.3939\"/>\n",
       "<text text-anchor=\"middle\" x=\"279.341\" y=\"-19.2469\" font-family=\"Times,serif\" font-size=\"14.00\">S4</text>\n",
       "</g>\n",
       "<!-- F6 -->\n",
       "<g id=\"node5\" class=\"node\"><title>F6</title>\n",
       "<ellipse fill=\"none\" stroke=\"black\" cx=\"365.234\" cy=\"-23.4469\" rx=\"19.4029\" ry=\"19.4029\"/>\n",
       "<ellipse fill=\"none\" stroke=\"black\" cx=\"365.234\" cy=\"-23.4469\" rx=\"23.3939\" ry=\"23.3939\"/>\n",
       "<text text-anchor=\"middle\" x=\"365.234\" y=\"-19.2469\" font-family=\"Times,serif\" font-size=\"14.00\">F6</text>\n",
       "</g>\n",
       "<!-- S4&#45;&gt;F6 -->\n",
       "<g id=\"edge6\" class=\"edge\"><title>S4&#45;&gt;F6</title>\n",
       "<path fill=\"none\" stroke=\"black\" d=\"M298.959,-23.4469C308.471,-23.4469 320.328,-23.4469 331.318,-23.4469\"/>\n",
       "<polygon fill=\"black\" stroke=\"black\" points=\"331.483,-26.947 341.483,-23.4469 331.483,-19.947 331.483,-26.947\"/>\n",
       "<text text-anchor=\"middle\" x=\"320.287\" y=\"-26.2469\" font-family=\"Times,serif\" font-size=\"14.00\">a</text>\n",
       "</g>\n",
       "<!-- S4&#45;&gt;F6 -->\n",
       "<g id=\"edge7\" class=\"edge\"><title>S4&#45;&gt;F6</title>\n",
       "<path fill=\"none\" stroke=\"black\" d=\"M296.43,-13.5192C302.568,-10.2735 309.778,-7.08348 316.787,-5.44687 323.093,-3.97461 329.689,-4.83152 335.889,-6.80151\"/>\n",
       "<polygon fill=\"black\" stroke=\"black\" points=\"334.628,-10.067 345.207,-10.6386 337.293,-3.5944 334.628,-10.067\"/>\n",
       "<text text-anchor=\"middle\" x=\"320.287\" y=\"-8.24687\" font-family=\"Times,serif\" font-size=\"14.00\">b</text>\n",
       "</g>\n",
       "<!-- F2 -->\n",
       "<g id=\"node4\" class=\"node\"><title>F2</title>\n",
       "<ellipse fill=\"none\" stroke=\"black\" cx=\"193.447\" cy=\"-23.4469\" rx=\"19.4029\" ry=\"19.4029\"/>\n",
       "<ellipse fill=\"none\" stroke=\"black\" cx=\"193.447\" cy=\"-23.4469\" rx=\"23.3939\" ry=\"23.3939\"/>\n",
       "<text text-anchor=\"middle\" x=\"193.447\" y=\"-19.2469\" font-family=\"Times,serif\" font-size=\"14.00\">F2</text>\n",
       "</g>\n",
       "<!-- I1&#45;&gt;F2 -->\n",
       "<g id=\"edge2\" class=\"edge\"><title>I1&#45;&gt;F2</title>\n",
       "<path fill=\"none\" stroke=\"black\" d=\"M127.083,-23.4469C136.448,-23.4469 148.379,-23.4469 159.478,-23.4469\"/>\n",
       "<polygon fill=\"black\" stroke=\"black\" points=\"159.753,-26.947 169.753,-23.4469 159.753,-19.947 159.753,-26.947\"/>\n",
       "<text text-anchor=\"middle\" x=\"148.5\" y=\"-26.2469\" font-family=\"Times,serif\" font-size=\"14.00\">a</text>\n",
       "</g>\n",
       "<!-- I1&#45;&gt;F2 -->\n",
       "<g id=\"edge3\" class=\"edge\"><title>I1&#45;&gt;F2</title>\n",
       "<path fill=\"none\" stroke=\"black\" d=\"M124.717,-13.9046C130.75,-10.5299 137.96,-7.15095 145,-5.44687 151.294,-3.92333 157.885,-4.75841 164.083,-6.72333\"/>\n",
       "<polygon fill=\"black\" stroke=\"black\" points=\"162.823,-9.98936 173.402,-10.5645 165.49,-3.5176 162.823,-9.98936\"/>\n",
       "<text text-anchor=\"middle\" x=\"148.5\" y=\"-8.24687\" font-family=\"Times,serif\" font-size=\"14.00\">b</text>\n",
       "</g>\n",
       "<!-- F2&#45;&gt;S4 -->\n",
       "<g id=\"edge4\" class=\"edge\"><title>F2&#45;&gt;S4</title>\n",
       "<path fill=\"none\" stroke=\"black\" d=\"M216.929,-23.4469C226.976,-23.4469 238.937,-23.4469 249.622,-23.4469\"/>\n",
       "<polygon fill=\"black\" stroke=\"black\" points=\"249.764,-26.947 259.764,-23.4469 249.764,-19.947 249.764,-26.947\"/>\n",
       "<text text-anchor=\"middle\" x=\"238.394\" y=\"-26.2469\" font-family=\"Times,serif\" font-size=\"14.00\">a</text>\n",
       "</g>\n",
       "<!-- F2&#45;&gt;S4 -->\n",
       "<g id=\"edge5\" class=\"edge\"><title>F2&#45;&gt;S4</title>\n",
       "<path fill=\"none\" stroke=\"black\" d=\"M213.474,-10.6386C222.002,-6.3683 232.285,-3.20342 241.894,-5.44687 245.618,-6.31632 249.398,-7.62417 253.044,-9.14587\"/>\n",
       "<polygon fill=\"black\" stroke=\"black\" points=\"251.717,-12.39 262.251,-13.5192 254.72,-6.06705 251.717,-12.39\"/>\n",
       "<text text-anchor=\"middle\" x=\"238.394\" y=\"-8.24687\" font-family=\"Times,serif\" font-size=\"14.00\">b</text>\n",
       "</g>\n",
       "<!-- F6&#45;&gt;F6 -->\n",
       "<g id=\"edge8\" class=\"edge\"><title>F6&#45;&gt;F6</title>\n",
       "<path fill=\"none\" stroke=\"black\" d=\"M361.146,-46.8814C360.864,-56.63 362.227,-64.8937 365.234,-64.8937 367.067,-64.8937 368.289,-61.8251 368.901,-57.2218\"/>\n",
       "<polygon fill=\"black\" stroke=\"black\" points=\"372.412,-57.016 369.323,-46.8814 365.418,-56.7301 372.412,-57.016\"/>\n",
       "<text text-anchor=\"middle\" x=\"365.234\" y=\"-67.6937\" font-family=\"Times,serif\" font-size=\"14.00\">a</text>\n",
       "</g>\n",
       "<!-- F6&#45;&gt;F6 -->\n",
       "<g id=\"edge9\" class=\"edge\"><title>F6&#45;&gt;F6</title>\n",
       "<path fill=\"none\" stroke=\"black\" d=\"M358.144,-46.0152C355.309,-64.1618 357.672,-82.8937 365.234,-82.8937 371.379,-82.8937 374.091,-70.5277 373.371,-56.1571\"/>\n",
       "<polygon fill=\"black\" stroke=\"black\" points=\"376.833,-55.6029 372.324,-46.0152 369.87,-56.3217 376.833,-55.6029\"/>\n",
       "<text text-anchor=\"middle\" x=\"365.234\" y=\"-85.6937\" font-family=\"Times,serif\" font-size=\"14.00\">b</text>\n",
       "</g>\n",
       "</g>\n",
       "</svg>\n"
      ],
      "text/plain": [
       "<graphviz.dot.Digraph at 0x10a6566d8>"
      ]
     },
     "execution_count": 128,
     "metadata": {},
     "output_type": "execute_result"
    }
   ],
   "source": [
    "dmblimp"
   ]
  },
  {
   "cell_type": "code",
   "execution_count": null,
   "metadata": {
    "run_control": {
     "frozen": false,
     "read_only": false
    }
   },
   "outputs": [],
   "source": []
  },
  {
   "cell_type": "markdown",
   "metadata": {
    "run_control": {
     "frozen": false,
     "read_only": false
    }
   },
   "source": [
    "This shows how DeMorgan's Law applies to DFAs. It also shows how, using the tools provided to us, we can continually check our work."
   ]
  },
  {
   "cell_type": "code",
   "execution_count": 129,
   "metadata": {
    "run_control": {
     "frozen": false,
     "read_only": false
    }
   },
   "outputs": [
    {
     "name": "stderr",
     "output_type": "stream",
     "text": [
      "Generating LALR tables\n"
     ]
    }
   ],
   "source": [
    "testdfa = md2mc('''DFA\n",
    "I : 0 -> I\n",
    "I : 1 -> F\n",
    "F : 0 -> I\n",
    "''')"
   ]
  },
  {
   "cell_type": "code",
   "execution_count": 130,
   "metadata": {
    "run_control": {
     "frozen": false,
     "read_only": false
    }
   },
   "outputs": [
    {
     "data": {
      "text/plain": [
       "{'Delta': {('F', '0'): 'I', ('I', '0'): 'I', ('I', '1'): 'F'},\n",
       " 'F': {'F'},\n",
       " 'Q': {'F', 'I'},\n",
       " 'Sigma': {'0', '1'},\n",
       " 'q0': 'I'}"
      ]
     },
     "execution_count": 130,
     "metadata": {},
     "output_type": "execute_result"
    }
   ],
   "source": [
    "testdfa"
   ]
  },
  {
   "cell_type": "code",
   "execution_count": 131,
   "metadata": {
    "run_control": {
     "frozen": false,
     "read_only": false
    }
   },
   "outputs": [],
   "source": [
    "tot_testdfa = totalize_dfa(testdfa)"
   ]
  },
  {
   "cell_type": "code",
   "execution_count": 132,
   "metadata": {
    "run_control": {
     "frozen": false,
     "read_only": false
    }
   },
   "outputs": [
    {
     "data": {
      "image/svg+xml": [
       "<?xml version=\"1.0\" encoding=\"UTF-8\" standalone=\"no\"?>\n",
       "<!DOCTYPE svg PUBLIC \"-//W3C//DTD SVG 1.1//EN\"\n",
       " \"http://www.w3.org/Graphics/SVG/1.1/DTD/svg11.dtd\">\n",
       "<!-- Generated by graphviz version 2.38.0 (20140413.2041)\n",
       " -->\n",
       "<!-- Title: %3 Pages: 1 -->\n",
       "<svg width=\"222pt\" height=\"80pt\"\n",
       " viewBox=\"0.00 0.00 222.00 80.00\" xmlns=\"http://www.w3.org/2000/svg\" xmlns:xlink=\"http://www.w3.org/1999/xlink\">\n",
       "<g id=\"graph0\" class=\"graph\" transform=\"scale(1 1) rotate(0) translate(4 76)\">\n",
       "<title>%3</title>\n",
       "<polygon fill=\"white\" stroke=\"none\" points=\"-4,4 -4,-76 218,-76 218,4 -4,4\"/>\n",
       "<!-- EMPTY -->\n",
       "<g id=\"node1\" class=\"node\"><title>EMPTY</title>\n",
       "</g>\n",
       "<!-- I -->\n",
       "<g id=\"node2\" class=\"node\"><title>I</title>\n",
       "<ellipse fill=\"none\" stroke=\"black\" cx=\"109\" cy=\"-22\" rx=\"18\" ry=\"18\"/>\n",
       "<text text-anchor=\"middle\" x=\"109\" y=\"-17.8\" font-family=\"Times,serif\" font-size=\"14.00\">I</text>\n",
       "</g>\n",
       "<!-- EMPTY&#45;&gt;I -->\n",
       "<g id=\"edge1\" class=\"edge\"><title>EMPTY&#45;&gt;I</title>\n",
       "<path fill=\"none\" stroke=\"black\" d=\"M54.195,-22C62.6538,-22 72.0513,-22 80.5951,-22\"/>\n",
       "<polygon fill=\"black\" stroke=\"black\" points=\"80.8257,-25.5001 90.8257,-22 80.8257,-18.5001 80.8257,-25.5001\"/>\n",
       "</g>\n",
       "<!-- I&#45;&gt;I -->\n",
       "<g id=\"edge2\" class=\"edge\"><title>I&#45;&gt;I</title>\n",
       "<path fill=\"none\" stroke=\"black\" d=\"M102.621,-39.0373C101.319,-48.8579 103.445,-58 109,-58 112.472,-58 114.604,-54.4289 115.398,-49.3529\"/>\n",
       "<polygon fill=\"black\" stroke=\"black\" points=\"118.897,-49.031 115.379,-39.0373 111.897,-49.0435 118.897,-49.031\"/>\n",
       "<text text-anchor=\"middle\" x=\"109\" y=\"-60.8\" font-family=\"Times,serif\" font-size=\"14.00\">0</text>\n",
       "</g>\n",
       "<!-- F -->\n",
       "<g id=\"node3\" class=\"node\"><title>F</title>\n",
       "<ellipse fill=\"none\" stroke=\"black\" cx=\"192\" cy=\"-22\" rx=\"18\" ry=\"18\"/>\n",
       "<ellipse fill=\"none\" stroke=\"black\" cx=\"192\" cy=\"-22\" rx=\"22\" ry=\"22\"/>\n",
       "<text text-anchor=\"middle\" x=\"192\" y=\"-17.8\" font-family=\"Times,serif\" font-size=\"14.00\">F</text>\n",
       "</g>\n",
       "<!-- I&#45;&gt;F -->\n",
       "<g id=\"edge3\" class=\"edge\"><title>I&#45;&gt;F</title>\n",
       "<path fill=\"none\" stroke=\"black\" d=\"M127.178,-22C136.61,-22 148.601,-22 159.637,-22\"/>\n",
       "<polygon fill=\"black\" stroke=\"black\" points=\"159.811,-25.5001 169.811,-22 159.811,-18.5001 159.811,-25.5001\"/>\n",
       "<text text-anchor=\"middle\" x=\"148.5\" y=\"-24.8\" font-family=\"Times,serif\" font-size=\"14.00\">1</text>\n",
       "</g>\n",
       "<!-- F&#45;&gt;I -->\n",
       "<g id=\"edge4\" class=\"edge\"><title>F&#45;&gt;I</title>\n",
       "<path fill=\"none\" stroke=\"black\" d=\"M173.45,-9.63813C165.02,-5.13585 154.669,-1.65948 145,-4 141.26,-4.9053 137.472,-6.28328 133.838,-7.8822\"/>\n",
       "<polygon fill=\"black\" stroke=\"black\" points=\"132.086,-4.84541 124.717,-12.4577 135.225,-11.1023 132.086,-4.84541\"/>\n",
       "<text text-anchor=\"middle\" x=\"148.5\" y=\"-6.8\" font-family=\"Times,serif\" font-size=\"14.00\">0</text>\n",
       "</g>\n",
       "</g>\n",
       "</svg>\n"
      ],
      "text/plain": [
       "<graphviz.dot.Digraph at 0x10a695400>"
      ]
     },
     "execution_count": 132,
     "metadata": {},
     "output_type": "execute_result"
    }
   ],
   "source": [
    "dotObj_dfa(tot_testdfa)"
   ]
  },
  {
   "cell_type": "code",
   "execution_count": 133,
   "metadata": {
    "run_control": {
     "frozen": false,
     "read_only": false
    }
   },
   "outputs": [
    {
     "data": {
      "text/plain": [
       "<function jove.DotBashers.dotObj_dfa_w_bh>"
      ]
     },
     "execution_count": 133,
     "metadata": {},
     "output_type": "execute_result"
    }
   ],
   "source": [
    "dotObj_dfa_w_bh"
   ]
  },
  {
   "cell_type": "code",
   "execution_count": 134,
   "metadata": {
    "run_control": {
     "frozen": false,
     "read_only": false
    }
   },
   "outputs": [
    {
     "data": {
      "image/svg+xml": [
       "<?xml version=\"1.0\" encoding=\"UTF-8\" standalone=\"no\"?>\n",
       "<!DOCTYPE svg PUBLIC \"-//W3C//DTD SVG 1.1//EN\"\n",
       " \"http://www.w3.org/Graphics/SVG/1.1/DTD/svg11.dtd\">\n",
       "<!-- Generated by graphviz version 2.38.0 (20140413.2041)\n",
       " -->\n",
       "<!-- Title: %3 Pages: 1 -->\n",
       "<svg width=\"310pt\" height=\"117pt\"\n",
       " viewBox=\"0.00 0.00 309.78 116.78\" xmlns=\"http://www.w3.org/2000/svg\" xmlns:xlink=\"http://www.w3.org/1999/xlink\">\n",
       "<g id=\"graph0\" class=\"graph\" transform=\"scale(1 1) rotate(0) translate(4 112.784)\">\n",
       "<title>%3</title>\n",
       "<polygon fill=\"white\" stroke=\"none\" points=\"-4,4 -4,-112.784 305.784,-112.784 305.784,4 -4,4\"/>\n",
       "<!-- EMPTY -->\n",
       "<g id=\"node1\" class=\"node\"><title>EMPTY</title>\n",
       "</g>\n",
       "<!-- I -->\n",
       "<g id=\"node2\" class=\"node\"><title>I</title>\n",
       "<ellipse fill=\"none\" stroke=\"black\" cx=\"109\" cy=\"-22.3918\" rx=\"18\" ry=\"18\"/>\n",
       "<text text-anchor=\"middle\" x=\"109\" y=\"-18.1918\" font-family=\"Times,serif\" font-size=\"14.00\">I</text>\n",
       "</g>\n",
       "<!-- EMPTY&#45;&gt;I -->\n",
       "<g id=\"edge1\" class=\"edge\"><title>EMPTY&#45;&gt;I</title>\n",
       "<path fill=\"none\" stroke=\"black\" d=\"M54.195,-22.3918C62.6538,-22.3918 72.0513,-22.3918 80.5951,-22.3918\"/>\n",
       "<polygon fill=\"black\" stroke=\"black\" points=\"80.8257,-25.8919 90.8257,-22.3918 80.8257,-18.8919 80.8257,-25.8919\"/>\n",
       "</g>\n",
       "<!-- I&#45;&gt;I -->\n",
       "<g id=\"edge2\" class=\"edge\"><title>I&#45;&gt;I</title>\n",
       "<path fill=\"none\" stroke=\"black\" d=\"M102.621,-39.4291C101.319,-49.2497 103.445,-58.3918 109,-58.3918 112.472,-58.3918 114.604,-54.8207 115.398,-49.7447\"/>\n",
       "<polygon fill=\"black\" stroke=\"black\" points=\"118.897,-49.4229 115.379,-39.4291 111.897,-49.4353 118.897,-49.4229\"/>\n",
       "<text text-anchor=\"middle\" x=\"109\" y=\"-61.1918\" font-family=\"Times,serif\" font-size=\"14.00\">0</text>\n",
       "</g>\n",
       "<!-- F -->\n",
       "<g id=\"node4\" class=\"node\"><title>F</title>\n",
       "<ellipse fill=\"none\" stroke=\"black\" cx=\"192\" cy=\"-22.3918\" rx=\"18\" ry=\"18\"/>\n",
       "<ellipse fill=\"none\" stroke=\"black\" cx=\"192\" cy=\"-22.3918\" rx=\"22\" ry=\"22\"/>\n",
       "<text text-anchor=\"middle\" x=\"192\" y=\"-18.1918\" font-family=\"Times,serif\" font-size=\"14.00\">F</text>\n",
       "</g>\n",
       "<!-- I&#45;&gt;F -->\n",
       "<g id=\"edge3\" class=\"edge\"><title>I&#45;&gt;F</title>\n",
       "<path fill=\"none\" stroke=\"black\" d=\"M127.178,-22.3918C136.61,-22.3918 148.601,-22.3918 159.637,-22.3918\"/>\n",
       "<polygon fill=\"black\" stroke=\"black\" points=\"159.811,-25.8919 169.811,-22.3918 159.811,-18.8919 159.811,-25.8919\"/>\n",
       "<text text-anchor=\"middle\" x=\"148.5\" y=\"-25.1918\" font-family=\"Times,serif\" font-size=\"14.00\">1</text>\n",
       "</g>\n",
       "<!-- BH -->\n",
       "<g id=\"node3\" class=\"node\"><title>BH</title>\n",
       "<ellipse fill=\"none\" stroke=\"black\" cx=\"279.392\" cy=\"-22.3918\" rx=\"22.2841\" ry=\"22.2841\"/>\n",
       "<text text-anchor=\"middle\" x=\"279.392\" y=\"-18.1918\" font-family=\"Times,serif\" font-size=\"14.00\">BH</text>\n",
       "</g>\n",
       "<!-- BH&#45;&gt;BH -->\n",
       "<g id=\"edge6\" class=\"edge\"><title>BH&#45;&gt;BH</title>\n",
       "<path fill=\"none\" stroke=\"black\" d=\"M275.501,-44.8217C275.183,-54.4985 276.48,-62.7836 279.392,-62.7836 281.166,-62.7836 282.341,-59.707 282.916,-55.1138\"/>\n",
       "<polygon fill=\"black\" stroke=\"black\" points=\"286.424,-54.9399 283.282,-44.8217 279.429,-54.6909 286.424,-54.9399\"/>\n",
       "<text text-anchor=\"middle\" x=\"279.392\" y=\"-65.5836\" font-family=\"Times,serif\" font-size=\"14.00\">1</text>\n",
       "</g>\n",
       "<!-- BH&#45;&gt;BH -->\n",
       "<g id=\"edge7\" class=\"edge\"><title>BH&#45;&gt;BH</title>\n",
       "<path fill=\"none\" stroke=\"black\" d=\"M272.718,-43.9522C269.867,-61.9636 272.091,-80.7836 279.392,-80.7836 285.324,-80.7836 287.904,-68.3594 287.134,-54.0395\"/>\n",
       "<polygon fill=\"black\" stroke=\"black\" points=\"290.599,-53.5277 286.065,-43.9522 283.638,-54.2653 290.599,-53.5277\"/>\n",
       "<text text-anchor=\"middle\" x=\"279.392\" y=\"-83.5836\" font-family=\"Times,serif\" font-size=\"14.00\">0</text>\n",
       "</g>\n",
       "<!-- F&#45;&gt;I -->\n",
       "<g id=\"edge4\" class=\"edge\"><title>F&#45;&gt;I</title>\n",
       "<path fill=\"none\" stroke=\"black\" d=\"M173.45,-10.0299C165.02,-5.52766 154.669,-2.05129 145,-4.39181 141.26,-5.29711 137.472,-6.67509 133.838,-8.27401\"/>\n",
       "<polygon fill=\"black\" stroke=\"black\" points=\"132.086,-5.23722 124.717,-12.8495 135.225,-11.4941 132.086,-5.23722\"/>\n",
       "<text text-anchor=\"middle\" x=\"148.5\" y=\"-7.19181\" font-family=\"Times,serif\" font-size=\"14.00\">0</text>\n",
       "</g>\n",
       "<!-- F&#45;&gt;BH -->\n",
       "<g id=\"edge5\" class=\"edge\"><title>F&#45;&gt;BH</title>\n",
       "<path fill=\"none\" stroke=\"black\" d=\"M214.108,-22.3918C223.989,-22.3918 235.963,-22.3918 246.886,-22.3918\"/>\n",
       "<polygon fill=\"black\" stroke=\"black\" points=\"246.933,-25.8919 256.933,-22.3918 246.933,-18.8919 246.933,-25.8919\"/>\n",
       "<text text-anchor=\"middle\" x=\"235.5\" y=\"-25.1918\" font-family=\"Times,serif\" font-size=\"14.00\">1</text>\n",
       "</g>\n",
       "</g>\n",
       "</svg>\n"
      ],
      "text/plain": [
       "<graphviz.dot.Digraph at 0x10a6b16a0>"
      ]
     },
     "execution_count": 134,
     "metadata": {},
     "output_type": "execute_result"
    }
   ],
   "source": [
    "dotObj_dfa_w_bh(tot_testdfa)"
   ]
  },
  {
   "cell_type": "code",
   "execution_count": 135,
   "metadata": {
    "run_control": {
     "frozen": false,
     "read_only": false
    }
   },
   "outputs": [
    {
     "data": {
      "image/svg+xml": [
       "<?xml version=\"1.0\" encoding=\"UTF-8\" standalone=\"no\"?>\n",
       "<!DOCTYPE svg PUBLIC \"-//W3C//DTD SVG 1.1//EN\"\n",
       " \"http://www.w3.org/Graphics/SVG/1.1/DTD/svg11.dtd\">\n",
       "<!-- Generated by graphviz version 2.38.0 (20140413.2041)\n",
       " -->\n",
       "<!-- Title: %3 Pages: 1 -->\n",
       "<svg width=\"310pt\" height=\"99pt\"\n",
       " viewBox=\"0.00 0.00 309.78 98.78\" xmlns=\"http://www.w3.org/2000/svg\" xmlns:xlink=\"http://www.w3.org/1999/xlink\">\n",
       "<g id=\"graph0\" class=\"graph\" transform=\"scale(1 1) rotate(0) translate(4 94.7836)\">\n",
       "<title>%3</title>\n",
       "<polygon fill=\"white\" stroke=\"none\" points=\"-4,4 -4,-94.7836 305.784,-94.7836 305.784,4 -4,4\"/>\n",
       "<!-- EMPTY -->\n",
       "<g id=\"node1\" class=\"node\"><title>EMPTY</title>\n",
       "</g>\n",
       "<!-- I -->\n",
       "<g id=\"node2\" class=\"node\"><title>I</title>\n",
       "<ellipse fill=\"none\" stroke=\"black\" cx=\"109\" cy=\"-22.3918\" rx=\"18\" ry=\"18\"/>\n",
       "<text text-anchor=\"middle\" x=\"109\" y=\"-18.1918\" font-family=\"Times,serif\" font-size=\"14.00\">I</text>\n",
       "</g>\n",
       "<!-- EMPTY&#45;&gt;I -->\n",
       "<g id=\"edge1\" class=\"edge\"><title>EMPTY&#45;&gt;I</title>\n",
       "<path fill=\"none\" stroke=\"black\" d=\"M54.195,-22.3918C62.6538,-22.3918 72.0513,-22.3918 80.5951,-22.3918\"/>\n",
       "<polygon fill=\"black\" stroke=\"black\" points=\"80.8257,-25.8919 90.8257,-22.3918 80.8257,-18.8919 80.8257,-25.8919\"/>\n",
       "</g>\n",
       "<!-- I&#45;&gt;I -->\n",
       "<g id=\"edge2\" class=\"edge\"><title>I&#45;&gt;I</title>\n",
       "<path fill=\"none\" stroke=\"black\" d=\"M102.621,-39.4291C101.319,-49.2497 103.445,-58.3918 109,-58.3918 112.472,-58.3918 114.604,-54.8207 115.398,-49.7447\"/>\n",
       "<polygon fill=\"black\" stroke=\"black\" points=\"118.897,-49.4229 115.379,-39.4291 111.897,-49.4353 118.897,-49.4229\"/>\n",
       "<text text-anchor=\"middle\" x=\"109\" y=\"-61.1918\" font-family=\"Times,serif\" font-size=\"14.00\">0</text>\n",
       "</g>\n",
       "<!-- F -->\n",
       "<g id=\"node4\" class=\"node\"><title>F</title>\n",
       "<ellipse fill=\"none\" stroke=\"black\" cx=\"192\" cy=\"-22.3918\" rx=\"18\" ry=\"18\"/>\n",
       "<ellipse fill=\"none\" stroke=\"black\" cx=\"192\" cy=\"-22.3918\" rx=\"22\" ry=\"22\"/>\n",
       "<text text-anchor=\"middle\" x=\"192\" y=\"-18.1918\" font-family=\"Times,serif\" font-size=\"14.00\">F</text>\n",
       "</g>\n",
       "<!-- I&#45;&gt;F -->\n",
       "<g id=\"edge3\" class=\"edge\"><title>I&#45;&gt;F</title>\n",
       "<path fill=\"none\" stroke=\"black\" d=\"M127.178,-22.3918C136.61,-22.3918 148.601,-22.3918 159.637,-22.3918\"/>\n",
       "<polygon fill=\"black\" stroke=\"black\" points=\"159.811,-25.8919 169.811,-22.3918 159.811,-18.8919 159.811,-25.8919\"/>\n",
       "<text text-anchor=\"middle\" x=\"148.5\" y=\"-25.1918\" font-family=\"Times,serif\" font-size=\"14.00\">1</text>\n",
       "</g>\n",
       "<!-- BH -->\n",
       "<g id=\"node3\" class=\"node\"><title>BH</title>\n",
       "<ellipse fill=\"none\" stroke=\"black\" cx=\"279.392\" cy=\"-22.3918\" rx=\"22.2841\" ry=\"22.2841\"/>\n",
       "<text text-anchor=\"middle\" x=\"279.392\" y=\"-18.1918\" font-family=\"Times,serif\" font-size=\"14.00\">BH</text>\n",
       "</g>\n",
       "<!-- BH&#45;&gt;BH -->\n",
       "<g id=\"edge6\" class=\"edge\"><title>BH&#45;&gt;BH</title>\n",
       "<path fill=\"none\" stroke=\"black\" d=\"M271.709,-43.5882C270.761,-53.7836 273.321,-62.7836 279.392,-62.7836 283.281,-62.7836 285.729,-59.09 286.737,-53.7547\"/>\n",
       "<polygon fill=\"black\" stroke=\"black\" points=\"290.241,-53.6987 287.075,-43.5882 283.245,-53.4666 290.241,-53.6987\"/>\n",
       "<text text-anchor=\"middle\" x=\"279.392\" y=\"-79.5836\" font-family=\"Times,serif\" font-size=\"14.00\">1 </text>\n",
       "<text text-anchor=\"middle\" x=\"279.392\" y=\"-65.5836\" font-family=\"Times,serif\" font-size=\"14.00\"> 0</text>\n",
       "</g>\n",
       "<!-- F&#45;&gt;I -->\n",
       "<g id=\"edge4\" class=\"edge\"><title>F&#45;&gt;I</title>\n",
       "<path fill=\"none\" stroke=\"black\" d=\"M173.45,-10.0299C165.02,-5.52766 154.669,-2.05129 145,-4.39181 141.26,-5.29711 137.472,-6.67509 133.838,-8.27401\"/>\n",
       "<polygon fill=\"black\" stroke=\"black\" points=\"132.086,-5.23722 124.717,-12.8495 135.225,-11.4941 132.086,-5.23722\"/>\n",
       "<text text-anchor=\"middle\" x=\"148.5\" y=\"-7.19181\" font-family=\"Times,serif\" font-size=\"14.00\">0</text>\n",
       "</g>\n",
       "<!-- F&#45;&gt;BH -->\n",
       "<g id=\"edge5\" class=\"edge\"><title>F&#45;&gt;BH</title>\n",
       "<path fill=\"none\" stroke=\"black\" d=\"M214.108,-22.3918C223.989,-22.3918 235.963,-22.3918 246.886,-22.3918\"/>\n",
       "<polygon fill=\"black\" stroke=\"black\" points=\"246.933,-25.8919 256.933,-22.3918 246.933,-18.8919 246.933,-25.8919\"/>\n",
       "<text text-anchor=\"middle\" x=\"235.5\" y=\"-25.1918\" font-family=\"Times,serif\" font-size=\"14.00\">1</text>\n",
       "</g>\n",
       "</g>\n",
       "</svg>\n"
      ],
      "text/plain": [
       "<graphviz.dot.Digraph at 0x10a6b1b70>"
      ]
     },
     "execution_count": 135,
     "metadata": {},
     "output_type": "execute_result"
    }
   ],
   "source": [
    "dotObj_dfa_w_bh(tot_testdfa, FuseEdges = True)"
   ]
  }
 ],
 "metadata": {
  "kernelspec": {
   "display_name": "Python 3",
   "language": "python",
   "name": "python3"
  },
  "language_info": {
   "codemirror_mode": {
    "name": "ipython",
    "version": 3
   },
   "file_extension": ".py",
   "mimetype": "text/x-python",
   "name": "python",
   "nbconvert_exporter": "python",
   "pygments_lexer": "ipython3",
   "version": "3.6.0"
  },
  "toc": {
   "colors": {
    "hover_highlight": "#DAA520",
    "running_highlight": "#FF0000",
    "selected_highlight": "#FFD700"
   },
   "moveMenuLeft": true,
   "nav_menu": {
    "height": "318px",
    "width": "252px"
   },
   "navigate_menu": true,
   "number_sections": true,
   "sideBar": true,
   "threshold": 4,
   "toc_cell": false,
   "toc_section_display": "block",
   "toc_window_display": false,
   "widenNotebook": false
  }
 },
 "nbformat": 4,
 "nbformat_minor": 1
}
