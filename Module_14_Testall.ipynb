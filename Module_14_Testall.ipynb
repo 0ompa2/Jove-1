{
 "cells": [
  {
   "cell_type": "code",
   "execution_count": 1,
   "metadata": {
    "collapsed": false,
    "run_control": {
     "frozen": false,
     "read_only": false
    }
   },
   "outputs": [
    {
     "name": "stdout",
     "output_type": "stream",
     "text": [
      "You may use any of these help commands:\n",
      "help(md2mc)\n",
      ".. and if you want to dig more, then ..\n",
      "help(default_line_attr)\n",
      "help(length_ok_input_items)\n",
      "help(union_line_attr_list_fld)\n",
      "help(extend_rsltdict)\n",
      "help(form_delta)\n",
      "help(get_machine_components)\n",
      "\n"
     ]
    }
   ],
   "source": [
    "# Minimum imports to get going with DFA\n",
    "from Imports.DotBashers          import *\n",
    "from Imports.TransitionSelectors import *\n",
    "from Imports.SystemImports       import *\n",
    "\n",
    "# Minimum imports to get markdown going\n",
    "from Imports.Module13_md2mc      import *"
   ]
  },
  {
   "cell_type": "code",
   "execution_count": 2,
   "metadata": {
    "collapsed": false
   },
   "outputs": [
    {
     "name": "stdout",
     "output_type": "stream",
     "text": [
      "File name =dfafiles/endsin0101.dfa\n"
     ]
    },
    {
     "data": {
      "text/plain": [
       "{'Delta': {('F0101', '0'): 'S010',\n",
       "  ('F0101', '1'): 'I',\n",
       "  ('I', '0'): 'S0',\n",
       "  ('I', '1'): 'I',\n",
       "  ('S0', '0'): 'S0',\n",
       "  ('S0', '1'): 'S01',\n",
       "  ('S01', '0'): 'S010',\n",
       "  ('S01', '1'): 'I',\n",
       "  ('S010', '0'): 'S0',\n",
       "  ('S010', '1'): 'F0101'},\n",
       " 'F': {'F0101'},\n",
       " 'Q': {'F0101', 'I', 'S0', 'S01', 'S010'},\n",
       " 'Sigma': {'0', '1'},\n",
       " 'q0': 'I'}"
      ]
     },
     "execution_count": 2,
     "metadata": {},
     "output_type": "execute_result"
    }
   ],
   "source": [
    "md2mc()"
   ]
  },
  {
   "cell_type": "code",
   "execution_count": null,
   "metadata": {
    "collapsed": true
   },
   "outputs": [],
   "source": []
  }
 ],
 "metadata": {
  "kernelspec": {
   "display_name": "Python 3",
   "language": "python",
   "name": "python3"
  },
  "language_info": {
   "codemirror_mode": {
    "name": "ipython",
    "version": 3
   },
   "file_extension": ".py",
   "mimetype": "text/x-python",
   "name": "python",
   "nbconvert_exporter": "python",
   "pygments_lexer": "ipython3",
   "version": "3.6.0"
  },
  "toc": {
   "colors": {
    "hover_highlight": "#DAA520",
    "running_highlight": "#FF0000",
    "selected_highlight": "#FFD700"
   },
   "moveMenuLeft": true,
   "nav_menu": {
    "height": "12px",
    "width": "252px"
   },
   "navigate_menu": true,
   "number_sections": true,
   "sideBar": true,
   "threshold": 4,
   "toc_cell": false,
   "toc_section_display": "block",
   "toc_window_display": false,
   "widenNotebook": false
  }
 },
 "nbformat": 4,
 "nbformat_minor": 2
}
