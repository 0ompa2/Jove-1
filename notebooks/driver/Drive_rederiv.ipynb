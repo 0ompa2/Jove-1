{
 "cells": [
  {
   "cell_type": "code",
   "execution_count": null,
   "metadata": {
    "run_control": {
     "frozen": false,
     "read_only": false
    }
   },
   "outputs": [],
   "source": [
    "from jove.Def_rederiv import *"
   ]
  },
  {
   "cell_type": "code",
   "execution_count": null,
   "metadata": {
    "run_control": {
     "frozen": false,
     "read_only": false
    }
   },
   "outputs": [],
   "source": [
    "(ast, nl, el) = re2ast(\"''*\")\n",
    "drawPT(nl, el)\n",
    "ast"
   ]
  },
  {
   "cell_type": "code",
   "execution_count": null,
   "metadata": {
    "run_control": {
     "frozen": false,
     "read_only": false
    }
   },
   "outputs": [],
   "source": []
  },
  {
   "cell_type": "code",
   "execution_count": null,
   "metadata": {
    "run_control": {
     "frozen": false,
     "read_only": false
    }
   },
   "outputs": [],
   "source": [
    "ResetStNum()\n",
    "(ast, nl, el) = re2ast(\"(ae)&(a+db+c&d*!d)&(d)\")\n",
    "drawPT(nl, el)"
   ]
  },
  {
   "cell_type": "code",
   "execution_count": null,
   "metadata": {
    "run_control": {
     "frozen": false,
     "read_only": false
    }
   },
   "outputs": [],
   "source": [
    "ResetStNum()\n",
    "(ast, nl, el) = re2ast(\"(a)\")\n",
    "drawPT(nl, el)"
   ]
  },
  {
   "cell_type": "code",
   "execution_count": null,
   "metadata": {
    "run_control": {
     "frozen": false,
     "read_only": false
    }
   },
   "outputs": [],
   "source": [
    "drawPT(nl, el)"
   ]
  },
  {
   "cell_type": "code",
   "execution_count": null,
   "metadata": {
    "run_control": {
     "frozen": false,
     "read_only": false
    }
   },
   "outputs": [],
   "source": [
    "(ast, nl, el) = re2ast(\"ab+cd''\")"
   ]
  },
  {
   "cell_type": "code",
   "execution_count": null,
   "metadata": {
    "run_control": {
     "frozen": false,
     "read_only": false
    }
   },
   "outputs": [],
   "source": [
    "drawPT(nl, el) "
   ]
  },
  {
   "cell_type": "code",
   "execution_count": null,
   "metadata": {
    "run_control": {
     "frozen": false,
     "read_only": false
    }
   },
   "outputs": [],
   "source": [
    "ast"
   ]
  },
  {
   "cell_type": "code",
   "execution_count": null,
   "metadata": {
    "run_control": {
     "frozen": false,
     "read_only": false
    }
   },
   "outputs": [],
   "source": [
    "ResetStNum()\n",
    "(ast, nl, el) = re2ast(\"ab+cd&e\")\n",
    "drawPT(nl, el)"
   ]
  },
  {
   "cell_type": "code",
   "execution_count": null,
   "metadata": {
    "run_control": {
     "frozen": false,
     "read_only": false
    }
   },
   "outputs": [],
   "source": [
    "#=== Now comes derivMatch as illustration of RE Derivative scanning\n",
    "\n",
    "# These four functions are simple extractors of the operator and arguments\n",
    "\n",
    "def opr(E):\n",
    "    \"\"\"Retrieves the operator of an expression.\n",
    "    \"\"\"\n",
    "    return E[0]\n",
    "\n",
    "def arg1(E):\n",
    "    \"\"\"Retrieves the first argument of a binary operator-based expression.\n",
    "    \"\"\"\n",
    "    return E[1][0]\n",
    "\n",
    "def arg2(E):\n",
    "    \"\"\"Retrieves the second argument of a binary operator-based expression.\n",
    "    \"\"\"\n",
    "    return E[1][1]\n",
    "\n",
    "def arg(E):\n",
    "    \"\"\"Retrieves the only argument of a unary operator-based expression.\n",
    "    \"\"\"\n",
    "    return E[1]\n",
    "\n",
    "def nullable(E):\n",
    "    \"\"\"This is the nullability test defined in Chapter 10.\n",
    "    \"\"\"\n",
    "    if (opr(E) == \"str\") :\n",
    "        return False\n",
    "    elif (opr(E) == '@') :\n",
    "        return True\n",
    "    elif (opr(E) == \"mty\") :\n",
    "        return False\n",
    "    elif (opr(E) == \"*\"):\n",
    "        return True\n",
    "    elif (opr(E) == \"!\"):\n",
    "        return not nullable(arg(E))\n",
    "    elif (opr(E) == '+') :\n",
    "        return nullable(arg1(E)) or nullable(arg2(E))\n",
    "    elif (opr(E) == '.') :\n",
    "        return nullable(arg1(E)) and nullable(arg2(E))\n",
    "    elif (opr(E) == '&') :\n",
    "        return nullable(arg1(E)) and nullable(arg2(E))\n",
    "    else:\n",
    "        return \"???\"    \n",
    "\n",
    "def dv(c, E):\n",
    "    \"\"\"This function computes derivates, per the rules in Chapter 10.\n",
    "    \"\"\"\n",
    "    if (opr(E) == \"str\") :\n",
    "        if (arg(E) == c):\n",
    "            return ('@', '@')\n",
    "        else:\n",
    "            return (\"mty\", \"mty\")\n",
    "    elif (opr(E) == '@') :\n",
    "        return (\"mty\", \"mty\")\n",
    "    elif (opr(E) == \"mty\") :\n",
    "        return (\"mty\", \"mty\")\n",
    "    elif (opr(E) == \"*\"):\n",
    "        return (\".\", (dv(c, arg(E)), E))\n",
    "    elif (opr(E) == \"!\"):\n",
    "        return (\"!\", dv(c, arg(E)))\n",
    "    elif (opr(E) == '+') :\n",
    "        return (\"+\", (dv(c, arg1(E)), dv(c, arg2(E))))\n",
    "    elif (opr(E) == '&') :\n",
    "        return (\"&\", (dv(c, arg1(E)), dv(c, arg2(E))))\n",
    "    elif (opr(E) == '.') :\n",
    "        if nullable(arg1(E)):\n",
    "            return (\"+\", ( ('.', (dv(c,arg1(E)), arg2(E))), dv(c, arg2(E)) ))\n",
    "        else:\n",
    "            return ('.', (dv(c,arg1(E)), arg2(E)))\n",
    "    else:\n",
    "        return \"???\"        \n",
    "\n",
    "def matches(w, E):\n",
    "    if w==\"\":\n",
    "        return nullable(E)\n",
    "    else:\n",
    "        return matches(w[1:], dv(w[0], E))"
   ]
  },
  {
   "cell_type": "code",
   "execution_count": null,
   "metadata": {
    "run_control": {
     "frozen": false,
     "read_only": false
    }
   },
   "outputs": [],
   "source": [
    "(ast,nl,el)  = re2ast(\"''\")\n",
    "drawPT(nl, el)"
   ]
  },
  {
   "cell_type": "code",
   "execution_count": null,
   "metadata": {
    "run_control": {
     "frozen": false,
     "read_only": false
    }
   },
   "outputs": [],
   "source": [
    "ast"
   ]
  },
  {
   "cell_type": "code",
   "execution_count": null,
   "metadata": {
    "run_control": {
     "frozen": false,
     "read_only": false
    }
   },
   "outputs": [],
   "source": [
    "opr(ast)"
   ]
  },
  {
   "cell_type": "code",
   "execution_count": null,
   "metadata": {
    "run_control": {
     "frozen": false,
     "read_only": false
    }
   },
   "outputs": [],
   "source": []
  },
  {
   "cell_type": "code",
   "execution_count": null,
   "metadata": {
    "run_control": {
     "frozen": false,
     "read_only": false
    }
   },
   "outputs": [],
   "source": [
    "nullable(ast)"
   ]
  },
  {
   "cell_type": "code",
   "execution_count": null,
   "metadata": {
    "run_control": {
     "frozen": false,
     "read_only": false
    }
   },
   "outputs": [],
   "source": [
    "ast"
   ]
  },
  {
   "cell_type": "code",
   "execution_count": null,
   "metadata": {
    "run_control": {
     "frozen": false,
     "read_only": false
    }
   },
   "outputs": [],
   "source": [
    "dv('a', ast)"
   ]
  },
  {
   "cell_type": "code",
   "execution_count": null,
   "metadata": {
    "run_control": {
     "frozen": false,
     "read_only": false
    }
   },
   "outputs": [],
   "source": [
    "(pt, nl, el) = re2ast(\"!((aaa)*)\")\n",
    "\n",
    "print(' matches(\"aa\", pt) = ', matches(\"aa\", re2ast(\"!((aaa)*)\")[0]))\n",
    "re4 = '(a+b)*b(a+b)(a+b)(a+b)'\n",
    "nre4 = '!((a+b)*b(a+b)(a+b)(a+b))'\n",
    "\n",
    "(pt4, nl4, el4) = re2ast(re4)\n",
    "\n",
    "print(' matches(\"aabaa\", pt4) = ', matches(\"aabaa\", pt4))\n",
    "\n",
    "(npt4, nnl4, nel4) = re2ast(nre4)\n",
    "\n",
    "print(' matches(\"aabaa\", re2ast(nre4)) = ', matches(\"aabaa\", npt4))\n",
    "\n",
    "\n",
    "matches(\"ab\", re2ast(\"!b\")[0])\n"
   ]
  },
  {
   "cell_type": "code",
   "execution_count": null,
   "metadata": {
    "run_control": {
     "frozen": false,
     "read_only": false
    }
   },
   "outputs": [],
   "source": [
    "reand = '!((a+b)&(a+c))'\n",
    "(pt, nl, el) = re2ast(reand)\n",
    "drawPT(nl, el)"
   ]
  },
  {
   "cell_type": "code",
   "execution_count": null,
   "metadata": {
    "run_control": {
     "frozen": false,
     "read_only": false
    }
   },
   "outputs": [],
   "source": [
    "matches(\"b\", pt)"
   ]
  },
  {
   "cell_type": "code",
   "execution_count": null,
   "metadata": {
    "run_control": {
     "frozen": false,
     "read_only": false
    }
   },
   "outputs": [],
   "source": []
  },
  {
   "cell_type": "code",
   "execution_count": null,
   "metadata": {
    "run_control": {
     "frozen": false,
     "read_only": false
    }
   },
   "outputs": [],
   "source": [
    "reand = '(aaa+bb)*&(aa+bb)*'\n",
    "(pt, nl, el) = re2ast(reand)\n",
    "drawPT(nl, el)"
   ]
  },
  {
   "cell_type": "code",
   "execution_count": null,
   "metadata": {
    "run_control": {
     "frozen": false,
     "read_only": false
    }
   },
   "outputs": [],
   "source": [
    "matches(\"bbb\", pt)"
   ]
  },
  {
   "cell_type": "code",
   "execution_count": null,
   "metadata": {
    "run_control": {
     "frozen": false,
     "read_only": false
    }
   },
   "outputs": [],
   "source": []
  }
 ],
 "metadata": {
  "kernelspec": {
   "display_name": "Python 3",
   "language": "python",
   "name": "python3"
  },
  "language_info": {
   "codemirror_mode": {
    "name": "ipython",
    "version": 3
   },
   "file_extension": ".py",
   "mimetype": "text/x-python",
   "name": "python",
   "nbconvert_exporter": "python",
   "pygments_lexer": "ipython3",
   "version": "3.6.0"
  },
  "toc": {
   "colors": {
    "hover_highlight": "#DAA520",
    "running_highlight": "#FF0000",
    "selected_highlight": "#FFD700"
   },
   "moveMenuLeft": true,
   "nav_menu": {
    "height": "12px",
    "width": "252px"
   },
   "navigate_menu": true,
   "number_sections": true,
   "sideBar": true,
   "threshold": 4,
   "toc_cell": false,
   "toc_section_display": "block",
   "toc_window_display": false,
   "widenNotebook": false
  }
 },
 "nbformat": 4,
 "nbformat_minor": 2
}
