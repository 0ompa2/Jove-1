{
 "cells": [
  {
   "cell_type": "code",
   "execution_count": 1,
   "metadata": {},
   "outputs": [
    {
     "data": {
      "image/jpeg": "[encoded data removed]",
      "text/html": [
       "\n",
       "        <iframe\n",
       "            width=\"400\"\n",
       "            height=\"300\"\n",
       "            src=\"https://www.youtube.com/embed/L6l3c17mpi4\"\n",
       "            frameborder=\"0\"\n",
       "            allowfullscreen\n",
       "        ></iframe>\n",
       "        "
      ],
      "text/plain": [
       "<IPython.lib.display.YouTubeVideo at 0x105fd71d0>"
      ]
     },
     "execution_count": 1,
     "metadata": {},
     "output_type": "execute_result"
    }
   ],
   "source": [
    "# This Youtube video walks through this notebook\n",
    "from IPython.display import YouTubeVideo\n",
    "YouTubeVideo('L6l3c17mpi4')"
   ]
  },
  {
   "cell_type": "markdown",
   "metadata": {
    "run_control": {
     "frozen": false,
     "read_only": false
    }
   },
   "source": [
    "# All chapters till Ch10 coming to play in Jove"
   ]
  },
  {
   "cell_type": "code",
   "execution_count": null,
   "metadata": {
    "collapsed": true,
    "run_control": {
     "frozen": false,
     "read_only": false
    }
   },
   "outputs": [],
   "source": []
  },
  {
   "cell_type": "code",
   "execution_count": 22,
   "metadata": {
    "run_control": {
     "frozen": false,
     "read_only": false
    }
   },
   "outputs": [],
   "source": [
    "from Imports.DotBashers import *\n",
    "from Imports.Def_md2mc import *\n",
    "from Imports.Def_NFA   import *\n",
    "from Imports.Def_DFA   import *\n",
    "from Imports.Def_RE2NFA    import *\n",
    "from Imports.Def_NFA2RE    import *"
   ]
  },
  {
   "cell_type": "markdown",
   "metadata": {
    "run_control": {
     "frozen": false,
     "read_only": false
    }
   },
   "source": [
    "# Postage Stamp Problem solved using RE and min_dfa"
   ]
  },
  {
   "cell_type": "markdown",
   "metadata": {
    "run_control": {
     "frozen": false,
     "read_only": false
    }
   },
   "source": [
    "The postage-stamp problem tries to answer the following question (typically posed wrt two postage stamp denominations that are relatively prime)\n",
    "\n",
    "* Given an unlimited supply of x cent stamps and an unlimited supply of y cent stamps\n",
    "\n",
    "  - where x and y are relatively prime\n",
    "  \n",
    "* Find out the largest denomination that you CANNOT make\n",
    "\n",
    "* E.g., given 3 cent and 5 cent stamps (x=3, y=5)\n",
    "\n",
    "  - Check they are relatively prime\n",
    "  \n",
    "    * Their GCD must be 1\n",
    "    \n",
    "  - Check!\n",
    "  \n",
    "* What is the largest postage that CANNOT be made using just 3 and 5 cents?\n",
    "\n",
    "* Approaches:\n",
    "\n",
    "  - Trial and error\n",
    "  \n",
    "    * 0, 3, 3+3, 3+5, 5+3, 5+5, 5+5+3, ...\n",
    "    \n",
    "  - Traditional math books:\n",
    "  \n",
    "    * Use Sylvester's theorem to find the Frobenius number\n",
    "    \n",
    "  - What I observed about a decade ago (have checked with a few experts and while it is   \"out there in the air\", nobody had seen it written down...)\n",
    "  \n",
    "    * We can use minimal DFA!\n",
    "\n",
    "    * My approach easily extends to more than two stamps!\n",
    "    \n",
    "  - General problem is hard, but has beautiful complexity-theory connections\n",
    "  \n",
    "* Onto solving!"
   ]
  },
  {
   "cell_type": "markdown",
   "metadata": {
    "run_control": {
     "frozen": false,
     "read_only": false
    }
   },
   "source": [
    "## Related Problem: McNugget problem (McNugget Number).\n",
    "A McNugget number is a positive integer that can be obtained by adding together orders of McDonald's® Chicken McNuggetsTM (prior to consuming any), which originally came in boxes of 6, 9, and 20 (Vardi 1991, pp. 19-20 and 233-234; Wah and Picciotto 1994, p. 186).\n",
    "\n",
    "__We can find the McNugget Number also using my method !! __\n",
    "\n",
    "We will do this after solving the postage stamp problem\n",
    "\n",
    "The numbers are not relatively prime\n",
    "\n",
    "You will observe something cool when you approach the McNugget problem using REs !!"
   ]
  },
  {
   "cell_type": "code",
   "execution_count": null,
   "metadata": {
    "collapsed": true,
    "run_control": {
     "frozen": false,
     "read_only": false
    }
   },
   "outputs": [],
   "source": []
  },
  {
   "cell_type": "markdown",
   "metadata": {
    "run_control": {
     "frozen": false,
     "read_only": false
    }
   },
   "source": [
    "## Let us solve the Postage Stamp Problem!"
   ]
  },
  {
   "cell_type": "code",
   "execution_count": 23,
   "metadata": {
    "collapsed": true,
    "run_control": {
     "frozen": false,
     "read_only": false
    }
   },
   "outputs": [],
   "source": [
    "p35 = \"(aaa+aaaaa)*\""
   ]
  },
  {
   "cell_type": "code",
   "execution_count": 24,
   "metadata": {
    "run_control": {
     "frozen": false,
     "read_only": false
    }
   },
   "outputs": [
    {
     "name": "stderr",
     "output_type": "stream",
     "text": [
      "Generating LALR tables\n"
     ]
    },
    {
     "data": {
      "image/svg+xml": [
       "<?xml version=\"1.0\" encoding=\"UTF-8\" standalone=\"no\"?>\n",
       "<!DOCTYPE svg PUBLIC \"-//W3C//DTD SVG 1.1//EN\"\n",
       " \"http://www.w3.org/Graphics/SVG/1.1/DTD/svg11.dtd\">\n",
       "<!-- Generated by graphviz version 2.36.0 (20140111.2315)\n",
       " -->\n",
       "<!-- Title: %3 Pages: 1 -->\n",
       "<svg width=\"936pt\" height=\"98pt\"\n",
       " viewBox=\"0.00 0.00 936.00 98.00\" xmlns=\"http://www.w3.org/2000/svg\" xmlns:xlink=\"http://www.w3.org/1999/xlink\">\n",
       "<g id=\"graph0\" class=\"graph\" transform=\"scale(1 1) rotate(0) translate(4 94)\">\n",
       "<title>%3</title>\n",
       "<polygon fill=\"white\" stroke=\"none\" points=\"-4,4 -4,-94 932,-94 932,4 -4,4\"/>\n",
       "<!-- EMPTY -->\n",
       "<g id=\"node1\" class=\"node\"><title>EMPTY</title>\n",
       "</g>\n",
       "<!-- St4 -->\n",
       "<g id=\"node9\" class=\"node\"><title>St4</title>\n",
       "<ellipse fill=\"none\" stroke=\"black\" cx=\"119\" cy=\"-31\" rx=\"22.9609\" ry=\"22.9609\"/>\n",
       "<ellipse fill=\"none\" stroke=\"black\" cx=\"119\" cy=\"-31\" rx=\"26.9983\" ry=\"26.9983\"/>\n",
       "<text text-anchor=\"middle\" x=\"119\" y=\"-27.3\" font-family=\"Times,serif\" font-size=\"14.00\">St4</text>\n",
       "</g>\n",
       "<!-- EMPTY&#45;&gt;St4 -->\n",
       "<g id=\"edge1\" class=\"edge\"><title>EMPTY&#45;&gt;St4</title>\n",
       "<path fill=\"none\" stroke=\"black\" d=\"M54.0317,-31C62.7072,-31 72.5339,-31 81.8363,-31\"/>\n",
       "<polygon fill=\"black\" stroke=\"black\" points=\"82.0268,-34.5001 92.0268,-31 82.0267,-27.5001 82.0268,-34.5001\"/>\n",
       "</g>\n",
       "<!-- St0 -->\n",
       "<g id=\"node2\" class=\"node\"><title>St0</title>\n",
       "<ellipse fill=\"none\" stroke=\"black\" cx=\"501\" cy=\"-31\" rx=\"22.9987\" ry=\"22.9987\"/>\n",
       "<text text-anchor=\"middle\" x=\"501\" y=\"-27.3\" font-family=\"Times,serif\" font-size=\"14.00\">St0</text>\n",
       "</g>\n",
       "<!-- St9 -->\n",
       "<g id=\"node7\" class=\"node\"><title>St9</title>\n",
       "<ellipse fill=\"none\" stroke=\"black\" cx=\"595\" cy=\"-31\" rx=\"22.9609\" ry=\"22.9609\"/>\n",
       "<ellipse fill=\"none\" stroke=\"black\" cx=\"595\" cy=\"-31\" rx=\"26.9983\" ry=\"26.9983\"/>\n",
       "<text text-anchor=\"middle\" x=\"595\" y=\"-27.3\" font-family=\"Times,serif\" font-size=\"14.00\">St9</text>\n",
       "</g>\n",
       "<!-- St0&#45;&gt;St9 -->\n",
       "<g id=\"edge6\" class=\"edge\"><title>St0&#45;&gt;St9</title>\n",
       "<path fill=\"none\" stroke=\"black\" d=\"M523.803,-31C533.973,-31 546.35,-31 557.862,-31\"/>\n",
       "<polygon fill=\"black\" stroke=\"black\" points=\"558.103,-34.5001 568.103,-31 558.103,-27.5001 558.103,-34.5001\"/>\n",
       "<text text-anchor=\"middle\" x=\"546\" y=\"-34.8\" font-family=\"Times,serif\" font-size=\"14.00\">a</text>\n",
       "</g>\n",
       "<!-- St2 -->\n",
       "<g id=\"node3\" class=\"node\"><title>St2</title>\n",
       "<ellipse fill=\"none\" stroke=\"black\" cx=\"303\" cy=\"-31\" rx=\"22.9987\" ry=\"22.9987\"/>\n",
       "<text text-anchor=\"middle\" x=\"303\" y=\"-27.3\" font-family=\"Times,serif\" font-size=\"14.00\">St2</text>\n",
       "</g>\n",
       "<!-- St12 -->\n",
       "<g id=\"node8\" class=\"node\"><title>St12</title>\n",
       "<ellipse fill=\"none\" stroke=\"black\" cx=\"402\" cy=\"-31\" rx=\"27.1222\" ry=\"27.1222\"/>\n",
       "<ellipse fill=\"none\" stroke=\"black\" cx=\"402\" cy=\"-31\" rx=\"31.0965\" ry=\"31.0965\"/>\n",
       "<text text-anchor=\"middle\" x=\"402\" y=\"-27.3\" font-family=\"Times,serif\" font-size=\"14.00\">St12</text>\n",
       "</g>\n",
       "<!-- St2&#45;&gt;St12 -->\n",
       "<g id=\"edge4\" class=\"edge\"><title>St2&#45;&gt;St12</title>\n",
       "<path fill=\"none\" stroke=\"black\" d=\"M326.011,-31C336.214,-31 348.673,-31 360.482,-31\"/>\n",
       "<polygon fill=\"black\" stroke=\"black\" points=\"360.62,-34.5001 370.62,-31 360.62,-27.5001 360.62,-34.5001\"/>\n",
       "<text text-anchor=\"middle\" x=\"348\" y=\"-34.8\" font-family=\"Times,serif\" font-size=\"14.00\">a</text>\n",
       "</g>\n",
       "<!-- St10 -->\n",
       "<g id=\"node4\" class=\"node\"><title>St10</title>\n",
       "<ellipse fill=\"none\" stroke=\"black\" cx=\"802\" cy=\"-31\" rx=\"27.0966\" ry=\"27.0966\"/>\n",
       "<text text-anchor=\"middle\" x=\"802\" y=\"-27.3\" font-family=\"Times,serif\" font-size=\"14.00\">St10</text>\n",
       "</g>\n",
       "<!-- St5 -->\n",
       "<g id=\"node6\" class=\"node\"><title>St5</title>\n",
       "<ellipse fill=\"none\" stroke=\"black\" cx=\"901\" cy=\"-31\" rx=\"22.9609\" ry=\"22.9609\"/>\n",
       "<ellipse fill=\"none\" stroke=\"black\" cx=\"901\" cy=\"-31\" rx=\"26.9983\" ry=\"26.9983\"/>\n",
       "<text text-anchor=\"middle\" x=\"901\" y=\"-27.3\" font-family=\"Times,serif\" font-size=\"14.00\">St5</text>\n",
       "</g>\n",
       "<!-- St10&#45;&gt;St5 -->\n",
       "<g id=\"edge9\" class=\"edge\"><title>St10&#45;&gt;St5</title>\n",
       "<path fill=\"none\" stroke=\"black\" d=\"M829.506,-31C840.156,-31 852.603,-31 864.048,-31\"/>\n",
       "<polygon fill=\"black\" stroke=\"black\" points=\"864.197,-34.5001 874.197,-31 864.197,-27.5001 864.197,-34.5001\"/>\n",
       "<text text-anchor=\"middle\" x=\"852\" y=\"-34.8\" font-family=\"Times,serif\" font-size=\"14.00\">a</text>\n",
       "</g>\n",
       "<!-- St6 -->\n",
       "<g id=\"node5\" class=\"node\"><title>St6</title>\n",
       "<ellipse fill=\"none\" stroke=\"black\" cx=\"213\" cy=\"-31\" rx=\"22.9987\" ry=\"22.9987\"/>\n",
       "<text text-anchor=\"middle\" x=\"213\" y=\"-27.3\" font-family=\"Times,serif\" font-size=\"14.00\">St6</text>\n",
       "</g>\n",
       "<!-- St6&#45;&gt;St2 -->\n",
       "<g id=\"edge3\" class=\"edge\"><title>St6&#45;&gt;St2</title>\n",
       "<path fill=\"none\" stroke=\"black\" d=\"M235.753,-31C246.118,-31 258.719,-31 270.137,-31\"/>\n",
       "<polygon fill=\"black\" stroke=\"black\" points=\"270.192,-34.5001 280.192,-31 270.192,-27.5001 270.192,-34.5001\"/>\n",
       "<text text-anchor=\"middle\" x=\"258\" y=\"-34.8\" font-family=\"Times,serif\" font-size=\"14.00\">a</text>\n",
       "</g>\n",
       "<!-- St5&#45;&gt;St5 -->\n",
       "<g id=\"edge10\" class=\"edge\"><title>St5&#45;&gt;St5</title>\n",
       "<path fill=\"none\" stroke=\"black\" d=\"M892.079,-55.8781C891.464,-66.2272 894.438,-75 901,-75 905.204,-75 907.935,-71.3996 909.194,-66.091\"/>\n",
       "<polygon fill=\"black\" stroke=\"black\" points=\"912.702,-66.1014 909.921,-55.8781 905.719,-65.6042 912.702,-66.1014\"/>\n",
       "<text text-anchor=\"middle\" x=\"901\" y=\"-78.8\" font-family=\"Times,serif\" font-size=\"14.00\">a</text>\n",
       "</g>\n",
       "<!-- St13 -->\n",
       "<g id=\"node10\" class=\"node\"><title>St13</title>\n",
       "<ellipse fill=\"none\" stroke=\"black\" cx=\"698\" cy=\"-31\" rx=\"27.1222\" ry=\"27.1222\"/>\n",
       "<ellipse fill=\"none\" stroke=\"black\" cx=\"698\" cy=\"-31\" rx=\"31.0965\" ry=\"31.0965\"/>\n",
       "<text text-anchor=\"middle\" x=\"698\" y=\"-27.3\" font-family=\"Times,serif\" font-size=\"14.00\">St13</text>\n",
       "</g>\n",
       "<!-- St9&#45;&gt;St13 -->\n",
       "<g id=\"edge7\" class=\"edge\"><title>St9&#45;&gt;St13</title>\n",
       "<path fill=\"none\" stroke=\"black\" d=\"M622.01,-31C632.392,-31 644.596,-31 656.108,-31\"/>\n",
       "<polygon fill=\"black\" stroke=\"black\" points=\"656.414,-34.5001 666.414,-31 656.414,-27.5001 656.414,-34.5001\"/>\n",
       "<text text-anchor=\"middle\" x=\"644\" y=\"-34.8\" font-family=\"Times,serif\" font-size=\"14.00\">a</text>\n",
       "</g>\n",
       "<!-- St12&#45;&gt;St0 -->\n",
       "<g id=\"edge5\" class=\"edge\"><title>St12&#45;&gt;St0</title>\n",
       "<path fill=\"none\" stroke=\"black\" d=\"M433.425,-31C444.372,-31 456.753,-31 467.843,-31\"/>\n",
       "<polygon fill=\"black\" stroke=\"black\" points=\"467.991,-34.5001 477.991,-31 467.991,-27.5001 467.991,-34.5001\"/>\n",
       "<text text-anchor=\"middle\" x=\"456\" y=\"-34.8\" font-family=\"Times,serif\" font-size=\"14.00\">a</text>\n",
       "</g>\n",
       "<!-- St4&#45;&gt;St6 -->\n",
       "<g id=\"edge2\" class=\"edge\"><title>St4&#45;&gt;St6</title>\n",
       "<path fill=\"none\" stroke=\"black\" d=\"M146.117,-31C156.665,-31 168.939,-31 180.015,-31\"/>\n",
       "<polygon fill=\"black\" stroke=\"black\" points=\"180.172,-34.5001 190.172,-31 180.172,-27.5001 180.172,-34.5001\"/>\n",
       "<text text-anchor=\"middle\" x=\"168\" y=\"-34.8\" font-family=\"Times,serif\" font-size=\"14.00\">a</text>\n",
       "</g>\n",
       "<!-- St13&#45;&gt;St10 -->\n",
       "<g id=\"edge8\" class=\"edge\"><title>St13&#45;&gt;St10</title>\n",
       "<path fill=\"none\" stroke=\"black\" d=\"M729.327,-31C740.298,-31 752.804,-31 764.266,-31\"/>\n",
       "<polygon fill=\"black\" stroke=\"black\" points=\"764.423,-34.5001 774.423,-31 764.423,-27.5001 764.423,-34.5001\"/>\n",
       "<text text-anchor=\"middle\" x=\"752\" y=\"-34.8\" font-family=\"Times,serif\" font-size=\"14.00\">a</text>\n",
       "</g>\n",
       "</g>\n",
       "</svg>\n"
      ],
      "text/plain": [
       "<graphviz.dot.Digraph at 0x11279f860>"
      ]
     },
     "execution_count": 24,
     "metadata": {},
     "output_type": "execute_result"
    }
   ],
   "source": [
    "dotObj_dfa(min_dfa(nfa2dfa(re2nfa(p35))))"
   ]
  },
  {
   "cell_type": "code",
   "execution_count": 25,
   "metadata": {
    "collapsed": true,
    "run_control": {
     "frozen": false,
     "read_only": false
    }
   },
   "outputs": [],
   "source": [
    "p57 = \"(aaaaa+aaaaaaa)*\""
   ]
  },
  {
   "cell_type": "code",
   "execution_count": 26,
   "metadata": {
    "run_control": {
     "frozen": false,
     "read_only": false
    }
   },
   "outputs": [
    {
     "name": "stderr",
     "output_type": "stream",
     "text": [
      "Generating LALR tables\n"
     ]
    }
   ],
   "source": [
    "d57 = min_dfa(nfa2dfa(re2nfa(p57)))"
   ]
  },
  {
   "cell_type": "code",
   "execution_count": 27,
   "metadata": {
    "run_control": {
     "frozen": false,
     "read_only": false
    }
   },
   "outputs": [
    {
     "data": {
      "text/plain": [
       "25"
      ]
     },
     "execution_count": 27,
     "metadata": {},
     "output_type": "execute_result"
    }
   ],
   "source": [
    "len(d57[\"Q\"])"
   ]
  },
  {
   "cell_type": "code",
   "execution_count": 28,
   "metadata": {
    "run_control": {
     "frozen": false,
     "read_only": false
    }
   },
   "outputs": [
    {
     "data": {
      "image/svg+xml": [
       "<?xml version=\"1.0\" encoding=\"UTF-8\" standalone=\"no\"?>\n",
       "<!DOCTYPE svg PUBLIC \"-//W3C//DTD SVG 1.1//EN\"\n",
       " \"http://www.w3.org/Graphics/SVG/1.1/DTD/svg11.dtd\">\n",
       "<!-- Generated by graphviz version 2.36.0 (20140111.2315)\n",
       " -->\n",
       "<!-- Title: %3 Pages: 1 -->\n",
       "<svg width=\"2600pt\" height=\"98pt\"\n",
       " viewBox=\"0.00 0.00 2600.00 98.00\" xmlns=\"http://www.w3.org/2000/svg\" xmlns:xlink=\"http://www.w3.org/1999/xlink\">\n",
       "<g id=\"graph0\" class=\"graph\" transform=\"scale(1 1) rotate(0) translate(4 94)\">\n",
       "<title>%3</title>\n",
       "<polygon fill=\"white\" stroke=\"none\" points=\"-4,4 -4,-94 2596,-94 2596,4 -4,4\"/>\n",
       "<!-- EMPTY -->\n",
       "<g id=\"node1\" class=\"node\"><title>EMPTY</title>\n",
       "</g>\n",
       "<!-- St10 -->\n",
       "<g id=\"node26\" class=\"node\"><title>St10</title>\n",
       "<ellipse fill=\"none\" stroke=\"black\" cx=\"124\" cy=\"-31\" rx=\"27.1222\" ry=\"27.1222\"/>\n",
       "<ellipse fill=\"none\" stroke=\"black\" cx=\"124\" cy=\"-31\" rx=\"31.0965\" ry=\"31.0965\"/>\n",
       "<text text-anchor=\"middle\" x=\"124\" y=\"-27.3\" font-family=\"Times,serif\" font-size=\"14.00\">St10</text>\n",
       "</g>\n",
       "<!-- EMPTY&#45;&gt;St10 -->\n",
       "<g id=\"edge1\" class=\"edge\"><title>EMPTY&#45;&gt;St10</title>\n",
       "<path fill=\"none\" stroke=\"black\" d=\"M54.2106,-31C62.9225,-31 72.8389,-31 82.3774,-31\"/>\n",
       "<polygon fill=\"black\" stroke=\"black\" points=\"82.5045,-34.5001 92.5044,-31 82.5044,-27.5001 82.5045,-34.5001\"/>\n",
       "</g>\n",
       "<!-- St15 -->\n",
       "<g id=\"node2\" class=\"node\"><title>St15</title>\n",
       "<ellipse fill=\"none\" stroke=\"black\" cx=\"1034\" cy=\"-31\" rx=\"27.0966\" ry=\"27.0966\"/>\n",
       "<text text-anchor=\"middle\" x=\"1034\" y=\"-27.3\" font-family=\"Times,serif\" font-size=\"14.00\">St15</text>\n",
       "</g>\n",
       "<!-- St14 -->\n",
       "<g id=\"node21\" class=\"node\"><title>St14</title>\n",
       "<ellipse fill=\"none\" stroke=\"black\" cx=\"1138\" cy=\"-31\" rx=\"27.1222\" ry=\"27.1222\"/>\n",
       "<ellipse fill=\"none\" stroke=\"black\" cx=\"1138\" cy=\"-31\" rx=\"31.0965\" ry=\"31.0965\"/>\n",
       "<text text-anchor=\"middle\" x=\"1138\" y=\"-27.3\" font-family=\"Times,serif\" font-size=\"14.00\">St14</text>\n",
       "</g>\n",
       "<!-- St15&#45;&gt;St14 -->\n",
       "<g id=\"edge11\" class=\"edge\"><title>St15&#45;&gt;St14</title>\n",
       "<path fill=\"none\" stroke=\"black\" d=\"M1061.53,-31C1072.22,-31 1084.78,-31 1096.55,-31\"/>\n",
       "<polygon fill=\"black\" stroke=\"black\" points=\"1096.63,-34.5001 1106.63,-31 1096.63,-27.5001 1096.63,-34.5001\"/>\n",
       "<text text-anchor=\"middle\" x=\"1084\" y=\"-34.8\" font-family=\"Times,serif\" font-size=\"14.00\">a</text>\n",
       "</g>\n",
       "<!-- St29 -->\n",
       "<g id=\"node3\" class=\"node\"><title>St29</title>\n",
       "<ellipse fill=\"none\" stroke=\"black\" cx=\"518\" cy=\"-31\" rx=\"27.0966\" ry=\"27.0966\"/>\n",
       "<text text-anchor=\"middle\" x=\"518\" y=\"-27.3\" font-family=\"Times,serif\" font-size=\"14.00\">St29</text>\n",
       "</g>\n",
       "<!-- St25 -->\n",
       "<g id=\"node23\" class=\"node\"><title>St25</title>\n",
       "<ellipse fill=\"none\" stroke=\"black\" cx=\"622\" cy=\"-31\" rx=\"27.1222\" ry=\"27.1222\"/>\n",
       "<ellipse fill=\"none\" stroke=\"black\" cx=\"622\" cy=\"-31\" rx=\"31.0965\" ry=\"31.0965\"/>\n",
       "<text text-anchor=\"middle\" x=\"622\" y=\"-27.3\" font-family=\"Times,serif\" font-size=\"14.00\">St25</text>\n",
       "</g>\n",
       "<!-- St29&#45;&gt;St25 -->\n",
       "<g id=\"edge6\" class=\"edge\"><title>St29&#45;&gt;St25</title>\n",
       "<path fill=\"none\" stroke=\"black\" d=\"M545.533,-31C556.216,-31 568.776,-31 580.552,-31\"/>\n",
       "<polygon fill=\"black\" stroke=\"black\" points=\"580.631,-34.5001 590.631,-31 580.631,-27.5001 580.631,-34.5001\"/>\n",
       "<text text-anchor=\"middle\" x=\"568\" y=\"-34.8\" font-family=\"Times,serif\" font-size=\"14.00\">a</text>\n",
       "</g>\n",
       "<!-- St20 -->\n",
       "<g id=\"node4\" class=\"node\"><title>St20</title>\n",
       "<ellipse fill=\"none\" stroke=\"black\" cx=\"1756\" cy=\"-31\" rx=\"27.0966\" ry=\"27.0966\"/>\n",
       "<text text-anchor=\"middle\" x=\"1756\" y=\"-27.3\" font-family=\"Times,serif\" font-size=\"14.00\">St20</text>\n",
       "</g>\n",
       "<!-- St2 -->\n",
       "<g id=\"node17\" class=\"node\"><title>St2</title>\n",
       "<ellipse fill=\"none\" stroke=\"black\" cx=\"1855\" cy=\"-31\" rx=\"22.9609\" ry=\"22.9609\"/>\n",
       "<ellipse fill=\"none\" stroke=\"black\" cx=\"1855\" cy=\"-31\" rx=\"26.9983\" ry=\"26.9983\"/>\n",
       "<text text-anchor=\"middle\" x=\"1855\" y=\"-27.3\" font-family=\"Times,serif\" font-size=\"14.00\">St2</text>\n",
       "</g>\n",
       "<!-- St20&#45;&gt;St2 -->\n",
       "<g id=\"edge18\" class=\"edge\"><title>St20&#45;&gt;St2</title>\n",
       "<path fill=\"none\" stroke=\"black\" d=\"M1783.51,-31C1794.16,-31 1806.6,-31 1818.05,-31\"/>\n",
       "<polygon fill=\"black\" stroke=\"black\" points=\"1818.2,-34.5001 1828.2,-31 1818.2,-27.5001 1818.2,-34.5001\"/>\n",
       "<text text-anchor=\"middle\" x=\"1806\" y=\"-34.8\" font-family=\"Times,serif\" font-size=\"14.00\">a</text>\n",
       "</g>\n",
       "<!-- St17 -->\n",
       "<g id=\"node5\" class=\"node\"><title>St17</title>\n",
       "<ellipse fill=\"none\" stroke=\"black\" cx=\"726\" cy=\"-31\" rx=\"27.0966\" ry=\"27.0966\"/>\n",
       "<text text-anchor=\"middle\" x=\"726\" y=\"-27.3\" font-family=\"Times,serif\" font-size=\"14.00\">St17</text>\n",
       "</g>\n",
       "<!-- St27 -->\n",
       "<g id=\"node19\" class=\"node\"><title>St27</title>\n",
       "<ellipse fill=\"none\" stroke=\"black\" cx=\"830\" cy=\"-31\" rx=\"27.1222\" ry=\"27.1222\"/>\n",
       "<ellipse fill=\"none\" stroke=\"black\" cx=\"830\" cy=\"-31\" rx=\"31.0965\" ry=\"31.0965\"/>\n",
       "<text text-anchor=\"middle\" x=\"830\" y=\"-27.3\" font-family=\"Times,serif\" font-size=\"14.00\">St27</text>\n",
       "</g>\n",
       "<!-- St17&#45;&gt;St27 -->\n",
       "<g id=\"edge8\" class=\"edge\"><title>St17&#45;&gt;St27</title>\n",
       "<path fill=\"none\" stroke=\"black\" d=\"M753.533,-31C764.216,-31 776.776,-31 788.552,-31\"/>\n",
       "<polygon fill=\"black\" stroke=\"black\" points=\"788.631,-34.5001 798.631,-31 788.631,-27.5001 788.631,-34.5001\"/>\n",
       "<text text-anchor=\"middle\" x=\"776\" y=\"-34.8\" font-family=\"Times,serif\" font-size=\"14.00\">a</text>\n",
       "</g>\n",
       "<!-- St19 -->\n",
       "<g id=\"node6\" class=\"node\"><title>St19</title>\n",
       "<ellipse fill=\"none\" stroke=\"black\" cx=\"1954\" cy=\"-31\" rx=\"27.0966\" ry=\"27.0966\"/>\n",
       "<text text-anchor=\"middle\" x=\"1954\" y=\"-27.3\" font-family=\"Times,serif\" font-size=\"14.00\">St19</text>\n",
       "</g>\n",
       "<!-- St31 -->\n",
       "<g id=\"node18\" class=\"node\"><title>St31</title>\n",
       "<ellipse fill=\"none\" stroke=\"black\" cx=\"2058\" cy=\"-31\" rx=\"27.1222\" ry=\"27.1222\"/>\n",
       "<ellipse fill=\"none\" stroke=\"black\" cx=\"2058\" cy=\"-31\" rx=\"31.0965\" ry=\"31.0965\"/>\n",
       "<text text-anchor=\"middle\" x=\"2058\" y=\"-27.3\" font-family=\"Times,serif\" font-size=\"14.00\">St31</text>\n",
       "</g>\n",
       "<!-- St19&#45;&gt;St31 -->\n",
       "<g id=\"edge20\" class=\"edge\"><title>St19&#45;&gt;St31</title>\n",
       "<path fill=\"none\" stroke=\"black\" d=\"M1981.53,-31C1992.22,-31 2004.78,-31 2016.55,-31\"/>\n",
       "<polygon fill=\"black\" stroke=\"black\" points=\"2016.63,-34.5001 2026.63,-31 2016.63,-27.5001 2016.63,-34.5001\"/>\n",
       "<text text-anchor=\"middle\" x=\"2004\" y=\"-34.8\" font-family=\"Times,serif\" font-size=\"14.00\">a</text>\n",
       "</g>\n",
       "<!-- St24 -->\n",
       "<g id=\"node7\" class=\"node\"><title>St24</title>\n",
       "<ellipse fill=\"none\" stroke=\"black\" cx=\"2466\" cy=\"-31\" rx=\"27.0966\" ry=\"27.0966\"/>\n",
       "<text text-anchor=\"middle\" x=\"2466\" y=\"-27.3\" font-family=\"Times,serif\" font-size=\"14.00\">St24</text>\n",
       "</g>\n",
       "<!-- St0 -->\n",
       "<g id=\"node15\" class=\"node\"><title>St0</title>\n",
       "<ellipse fill=\"none\" stroke=\"black\" cx=\"2565\" cy=\"-31\" rx=\"22.9609\" ry=\"22.9609\"/>\n",
       "<ellipse fill=\"none\" stroke=\"black\" cx=\"2565\" cy=\"-31\" rx=\"26.9983\" ry=\"26.9983\"/>\n",
       "<text text-anchor=\"middle\" x=\"2565\" y=\"-27.3\" font-family=\"Times,serif\" font-size=\"14.00\">St0</text>\n",
       "</g>\n",
       "<!-- St24&#45;&gt;St0 -->\n",
       "<g id=\"edge25\" class=\"edge\"><title>St24&#45;&gt;St0</title>\n",
       "<path fill=\"none\" stroke=\"black\" d=\"M2493.51,-31C2504.16,-31 2516.6,-31 2528.05,-31\"/>\n",
       "<polygon fill=\"black\" stroke=\"black\" points=\"2528.2,-34.5001 2538.2,-31 2528.2,-27.5001 2528.2,-34.5001\"/>\n",
       "<text text-anchor=\"middle\" x=\"2516\" y=\"-34.8\" font-family=\"Times,serif\" font-size=\"14.00\">a</text>\n",
       "</g>\n",
       "<!-- St23 -->\n",
       "<g id=\"node8\" class=\"node\"><title>St23</title>\n",
       "<ellipse fill=\"none\" stroke=\"black\" cx=\"418\" cy=\"-31\" rx=\"27.0966\" ry=\"27.0966\"/>\n",
       "<text text-anchor=\"middle\" x=\"418\" y=\"-27.3\" font-family=\"Times,serif\" font-size=\"14.00\">St23</text>\n",
       "</g>\n",
       "<!-- St23&#45;&gt;St29 -->\n",
       "<g id=\"edge5\" class=\"edge\"><title>St23&#45;&gt;St29</title>\n",
       "<path fill=\"none\" stroke=\"black\" d=\"M445.52,-31C456.197,-31 468.691,-31 480.221,-31\"/>\n",
       "<polygon fill=\"black\" stroke=\"black\" points=\"480.459,-34.5001 490.459,-31 480.459,-27.5001 480.459,-34.5001\"/>\n",
       "<text text-anchor=\"middle\" x=\"468\" y=\"-34.8\" font-family=\"Times,serif\" font-size=\"14.00\">a</text>\n",
       "</g>\n",
       "<!-- St4 -->\n",
       "<g id=\"node9\" class=\"node\"><title>St4</title>\n",
       "<ellipse fill=\"none\" stroke=\"black\" cx=\"323\" cy=\"-31\" rx=\"22.9987\" ry=\"22.9987\"/>\n",
       "<text text-anchor=\"middle\" x=\"323\" y=\"-27.3\" font-family=\"Times,serif\" font-size=\"14.00\">St4</text>\n",
       "</g>\n",
       "<!-- St4&#45;&gt;St23 -->\n",
       "<g id=\"edge4\" class=\"edge\"><title>St4&#45;&gt;St23</title>\n",
       "<path fill=\"none\" stroke=\"black\" d=\"M346.04,-31C356.239,-31 368.632,-31 380.19,-31\"/>\n",
       "<polygon fill=\"black\" stroke=\"black\" points=\"380.482,-34.5001 390.482,-31 380.482,-27.5001 380.482,-34.5001\"/>\n",
       "<text text-anchor=\"middle\" x=\"368\" y=\"-34.8\" font-family=\"Times,serif\" font-size=\"14.00\">a</text>\n",
       "</g>\n",
       "<!-- St18 -->\n",
       "<g id=\"node10\" class=\"node\"><title>St18</title>\n",
       "<ellipse fill=\"none\" stroke=\"black\" cx=\"934\" cy=\"-31\" rx=\"27.0966\" ry=\"27.0966\"/>\n",
       "<text text-anchor=\"middle\" x=\"934\" y=\"-27.3\" font-family=\"Times,serif\" font-size=\"14.00\">St18</text>\n",
       "</g>\n",
       "<!-- St18&#45;&gt;St15 -->\n",
       "<g id=\"edge10\" class=\"edge\"><title>St18&#45;&gt;St15</title>\n",
       "<path fill=\"none\" stroke=\"black\" d=\"M961.52,-31C972.197,-31 984.691,-31 996.221,-31\"/>\n",
       "<polygon fill=\"black\" stroke=\"black\" points=\"996.459,-34.5001 1006.46,-31 996.459,-27.5001 996.459,-34.5001\"/>\n",
       "<text text-anchor=\"middle\" x=\"984\" y=\"-34.8\" font-family=\"Times,serif\" font-size=\"14.00\">a</text>\n",
       "</g>\n",
       "<!-- St11 -->\n",
       "<g id=\"node11\" class=\"node\"><title>St11</title>\n",
       "<ellipse fill=\"none\" stroke=\"black\" cx=\"1450\" cy=\"-31\" rx=\"27.0966\" ry=\"27.0966\"/>\n",
       "<text text-anchor=\"middle\" x=\"1450\" y=\"-27.3\" font-family=\"Times,serif\" font-size=\"14.00\">St11</text>\n",
       "</g>\n",
       "<!-- St12 -->\n",
       "<g id=\"node25\" class=\"node\"><title>St12</title>\n",
       "<ellipse fill=\"none\" stroke=\"black\" cx=\"1554\" cy=\"-31\" rx=\"27.1222\" ry=\"27.1222\"/>\n",
       "<ellipse fill=\"none\" stroke=\"black\" cx=\"1554\" cy=\"-31\" rx=\"31.0965\" ry=\"31.0965\"/>\n",
       "<text text-anchor=\"middle\" x=\"1554\" y=\"-27.3\" font-family=\"Times,serif\" font-size=\"14.00\">St12</text>\n",
       "</g>\n",
       "<!-- St11&#45;&gt;St12 -->\n",
       "<g id=\"edge15\" class=\"edge\"><title>St11&#45;&gt;St12</title>\n",
       "<path fill=\"none\" stroke=\"black\" d=\"M1477.53,-31C1488.22,-31 1500.78,-31 1512.55,-31\"/>\n",
       "<polygon fill=\"black\" stroke=\"black\" points=\"1512.63,-34.5001 1522.63,-31 1512.63,-27.5001 1512.63,-34.5001\"/>\n",
       "<text text-anchor=\"middle\" x=\"1500\" y=\"-34.8\" font-family=\"Times,serif\" font-size=\"14.00\">a</text>\n",
       "</g>\n",
       "<!-- St16 -->\n",
       "<g id=\"node12\" class=\"node\"><title>St16</title>\n",
       "<ellipse fill=\"none\" stroke=\"black\" cx=\"228\" cy=\"-31\" rx=\"27.0966\" ry=\"27.0966\"/>\n",
       "<text text-anchor=\"middle\" x=\"228\" y=\"-27.3\" font-family=\"Times,serif\" font-size=\"14.00\">St16</text>\n",
       "</g>\n",
       "<!-- St16&#45;&gt;St4 -->\n",
       "<g id=\"edge3\" class=\"edge\"><title>St16&#45;&gt;St4</title>\n",
       "<path fill=\"none\" stroke=\"black\" d=\"M255.401,-31C266.145,-31 278.661,-31 289.924,-31\"/>\n",
       "<polygon fill=\"black\" stroke=\"black\" points=\"290.24,-34.5001 300.24,-31 290.24,-27.5001 290.24,-34.5001\"/>\n",
       "<text text-anchor=\"middle\" x=\"278\" y=\"-34.8\" font-family=\"Times,serif\" font-size=\"14.00\">a</text>\n",
       "</g>\n",
       "<!-- St13 -->\n",
       "<g id=\"node13\" class=\"node\"><title>St13</title>\n",
       "<ellipse fill=\"none\" stroke=\"black\" cx=\"1242\" cy=\"-31\" rx=\"27.0966\" ry=\"27.0966\"/>\n",
       "<text text-anchor=\"middle\" x=\"1242\" y=\"-27.3\" font-family=\"Times,serif\" font-size=\"14.00\">St13</text>\n",
       "</g>\n",
       "<!-- St22 -->\n",
       "<g id=\"node22\" class=\"node\"><title>St22</title>\n",
       "<ellipse fill=\"none\" stroke=\"black\" cx=\"1346\" cy=\"-31\" rx=\"27.1222\" ry=\"27.1222\"/>\n",
       "<ellipse fill=\"none\" stroke=\"black\" cx=\"1346\" cy=\"-31\" rx=\"31.0965\" ry=\"31.0965\"/>\n",
       "<text text-anchor=\"middle\" x=\"1346\" y=\"-27.3\" font-family=\"Times,serif\" font-size=\"14.00\">St22</text>\n",
       "</g>\n",
       "<!-- St13&#45;&gt;St22 -->\n",
       "<g id=\"edge13\" class=\"edge\"><title>St13&#45;&gt;St22</title>\n",
       "<path fill=\"none\" stroke=\"black\" d=\"M1269.53,-31C1280.22,-31 1292.78,-31 1304.55,-31\"/>\n",
       "<polygon fill=\"black\" stroke=\"black\" points=\"1304.63,-34.5001 1314.63,-31 1304.63,-27.5001 1304.63,-34.5001\"/>\n",
       "<text text-anchor=\"middle\" x=\"1292\" y=\"-34.8\" font-family=\"Times,serif\" font-size=\"14.00\">a</text>\n",
       "</g>\n",
       "<!-- St5 -->\n",
       "<g id=\"node14\" class=\"node\"><title>St5</title>\n",
       "<ellipse fill=\"none\" stroke=\"black\" cx=\"2161\" cy=\"-31\" rx=\"22.9609\" ry=\"22.9609\"/>\n",
       "<ellipse fill=\"none\" stroke=\"black\" cx=\"2161\" cy=\"-31\" rx=\"26.9983\" ry=\"26.9983\"/>\n",
       "<text text-anchor=\"middle\" x=\"2161\" y=\"-27.3\" font-family=\"Times,serif\" font-size=\"14.00\">St5</text>\n",
       "</g>\n",
       "<!-- St30 -->\n",
       "<g id=\"node16\" class=\"node\"><title>St30</title>\n",
       "<ellipse fill=\"none\" stroke=\"black\" cx=\"2264\" cy=\"-31\" rx=\"27.1222\" ry=\"27.1222\"/>\n",
       "<ellipse fill=\"none\" stroke=\"black\" cx=\"2264\" cy=\"-31\" rx=\"31.0965\" ry=\"31.0965\"/>\n",
       "<text text-anchor=\"middle\" x=\"2264\" y=\"-27.3\" font-family=\"Times,serif\" font-size=\"14.00\">St30</text>\n",
       "</g>\n",
       "<!-- St5&#45;&gt;St30 -->\n",
       "<g id=\"edge22\" class=\"edge\"><title>St5&#45;&gt;St30</title>\n",
       "<path fill=\"none\" stroke=\"black\" d=\"M2188.01,-31C2198.39,-31 2210.6,-31 2222.11,-31\"/>\n",
       "<polygon fill=\"black\" stroke=\"black\" points=\"2222.41,-34.5001 2232.41,-31 2222.41,-27.5001 2222.41,-34.5001\"/>\n",
       "<text text-anchor=\"middle\" x=\"2210\" y=\"-34.8\" font-family=\"Times,serif\" font-size=\"14.00\">a</text>\n",
       "</g>\n",
       "<!-- St0&#45;&gt;St0 -->\n",
       "<g id=\"edge26\" class=\"edge\"><title>St0&#45;&gt;St0</title>\n",
       "<path fill=\"none\" stroke=\"black\" d=\"M2556.08,-55.8781C2555.46,-66.2272 2558.44,-75 2565,-75 2569.2,-75 2571.94,-71.3996 2573.19,-66.091\"/>\n",
       "<polygon fill=\"black\" stroke=\"black\" points=\"2576.7,-66.1014 2573.92,-55.8781 2569.72,-65.6042 2576.7,-66.1014\"/>\n",
       "<text text-anchor=\"middle\" x=\"2565\" y=\"-78.8\" font-family=\"Times,serif\" font-size=\"14.00\">a</text>\n",
       "</g>\n",
       "<!-- St8 -->\n",
       "<g id=\"node24\" class=\"node\"><title>St8</title>\n",
       "<ellipse fill=\"none\" stroke=\"black\" cx=\"2367\" cy=\"-31\" rx=\"22.9609\" ry=\"22.9609\"/>\n",
       "<ellipse fill=\"none\" stroke=\"black\" cx=\"2367\" cy=\"-31\" rx=\"26.9983\" ry=\"26.9983\"/>\n",
       "<text text-anchor=\"middle\" x=\"2367\" y=\"-27.3\" font-family=\"Times,serif\" font-size=\"14.00\">St8</text>\n",
       "</g>\n",
       "<!-- St30&#45;&gt;St8 -->\n",
       "<g id=\"edge23\" class=\"edge\"><title>St30&#45;&gt;St8</title>\n",
       "<path fill=\"none\" stroke=\"black\" d=\"M2295.3,-31C2306.25,-31 2318.71,-31 2330.08,-31\"/>\n",
       "<polygon fill=\"black\" stroke=\"black\" points=\"2330.16,-34.5001 2340.16,-31 2330.16,-27.5001 2330.16,-34.5001\"/>\n",
       "<text text-anchor=\"middle\" x=\"2318\" y=\"-34.8\" font-family=\"Times,serif\" font-size=\"14.00\">a</text>\n",
       "</g>\n",
       "<!-- St2&#45;&gt;St19 -->\n",
       "<g id=\"edge19\" class=\"edge\"><title>St2&#45;&gt;St19</title>\n",
       "<path fill=\"none\" stroke=\"black\" d=\"M1881.99,-31C1892.56,-31 1904.97,-31 1916.42,-31\"/>\n",
       "<polygon fill=\"black\" stroke=\"black\" points=\"1916.6,-34.5001 1926.6,-31 1916.6,-27.5001 1916.6,-34.5001\"/>\n",
       "<text text-anchor=\"middle\" x=\"1904\" y=\"-34.8\" font-family=\"Times,serif\" font-size=\"14.00\">a</text>\n",
       "</g>\n",
       "<!-- St31&#45;&gt;St5 -->\n",
       "<g id=\"edge21\" class=\"edge\"><title>St31&#45;&gt;St5</title>\n",
       "<path fill=\"none\" stroke=\"black\" d=\"M2089.3,-31C2100.25,-31 2112.71,-31 2124.08,-31\"/>\n",
       "<polygon fill=\"black\" stroke=\"black\" points=\"2124.16,-34.5001 2134.16,-31 2124.16,-27.5001 2124.16,-34.5001\"/>\n",
       "<text text-anchor=\"middle\" x=\"2112\" y=\"-34.8\" font-family=\"Times,serif\" font-size=\"14.00\">a</text>\n",
       "</g>\n",
       "<!-- St27&#45;&gt;St18 -->\n",
       "<g id=\"edge9\" class=\"edge\"><title>St27&#45;&gt;St18</title>\n",
       "<path fill=\"none\" stroke=\"black\" d=\"M861.327,-31C872.298,-31 884.804,-31 896.266,-31\"/>\n",
       "<polygon fill=\"black\" stroke=\"black\" points=\"896.423,-34.5001 906.423,-31 896.423,-27.5001 896.423,-34.5001\"/>\n",
       "<text text-anchor=\"middle\" x=\"884\" y=\"-34.8\" font-family=\"Times,serif\" font-size=\"14.00\">a</text>\n",
       "</g>\n",
       "<!-- St7 -->\n",
       "<g id=\"node20\" class=\"node\"><title>St7</title>\n",
       "<ellipse fill=\"none\" stroke=\"black\" cx=\"1657\" cy=\"-31\" rx=\"22.9609\" ry=\"22.9609\"/>\n",
       "<ellipse fill=\"none\" stroke=\"black\" cx=\"1657\" cy=\"-31\" rx=\"26.9983\" ry=\"26.9983\"/>\n",
       "<text text-anchor=\"middle\" x=\"1657\" y=\"-27.3\" font-family=\"Times,serif\" font-size=\"14.00\">St7</text>\n",
       "</g>\n",
       "<!-- St7&#45;&gt;St20 -->\n",
       "<g id=\"edge17\" class=\"edge\"><title>St7&#45;&gt;St20</title>\n",
       "<path fill=\"none\" stroke=\"black\" d=\"M1683.99,-31C1694.56,-31 1706.97,-31 1718.42,-31\"/>\n",
       "<polygon fill=\"black\" stroke=\"black\" points=\"1718.6,-34.5001 1728.6,-31 1718.6,-27.5001 1718.6,-34.5001\"/>\n",
       "<text text-anchor=\"middle\" x=\"1706\" y=\"-34.8\" font-family=\"Times,serif\" font-size=\"14.00\">a</text>\n",
       "</g>\n",
       "<!-- St14&#45;&gt;St13 -->\n",
       "<g id=\"edge12\" class=\"edge\"><title>St14&#45;&gt;St13</title>\n",
       "<path fill=\"none\" stroke=\"black\" d=\"M1169.33,-31C1180.3,-31 1192.8,-31 1204.27,-31\"/>\n",
       "<polygon fill=\"black\" stroke=\"black\" points=\"1204.42,-34.5001 1214.42,-31 1204.42,-27.5001 1204.42,-34.5001\"/>\n",
       "<text text-anchor=\"middle\" x=\"1192\" y=\"-34.8\" font-family=\"Times,serif\" font-size=\"14.00\">a</text>\n",
       "</g>\n",
       "<!-- St22&#45;&gt;St11 -->\n",
       "<g id=\"edge14\" class=\"edge\"><title>St22&#45;&gt;St11</title>\n",
       "<path fill=\"none\" stroke=\"black\" d=\"M1377.33,-31C1388.3,-31 1400.8,-31 1412.27,-31\"/>\n",
       "<polygon fill=\"black\" stroke=\"black\" points=\"1412.42,-34.5001 1422.42,-31 1412.42,-27.5001 1412.42,-34.5001\"/>\n",
       "<text text-anchor=\"middle\" x=\"1400\" y=\"-34.8\" font-family=\"Times,serif\" font-size=\"14.00\">a</text>\n",
       "</g>\n",
       "<!-- St25&#45;&gt;St17 -->\n",
       "<g id=\"edge7\" class=\"edge\"><title>St25&#45;&gt;St17</title>\n",
       "<path fill=\"none\" stroke=\"black\" d=\"M653.327,-31C664.298,-31 676.804,-31 688.266,-31\"/>\n",
       "<polygon fill=\"black\" stroke=\"black\" points=\"688.423,-34.5001 698.423,-31 688.423,-27.5001 688.423,-34.5001\"/>\n",
       "<text text-anchor=\"middle\" x=\"676\" y=\"-34.8\" font-family=\"Times,serif\" font-size=\"14.00\">a</text>\n",
       "</g>\n",
       "<!-- St8&#45;&gt;St24 -->\n",
       "<g id=\"edge24\" class=\"edge\"><title>St8&#45;&gt;St24</title>\n",
       "<path fill=\"none\" stroke=\"black\" d=\"M2393.99,-31C2404.56,-31 2416.97,-31 2428.42,-31\"/>\n",
       "<polygon fill=\"black\" stroke=\"black\" points=\"2428.6,-34.5001 2438.6,-31 2428.6,-27.5001 2428.6,-34.5001\"/>\n",
       "<text text-anchor=\"middle\" x=\"2416\" y=\"-34.8\" font-family=\"Times,serif\" font-size=\"14.00\">a</text>\n",
       "</g>\n",
       "<!-- St12&#45;&gt;St7 -->\n",
       "<g id=\"edge16\" class=\"edge\"><title>St12&#45;&gt;St7</title>\n",
       "<path fill=\"none\" stroke=\"black\" d=\"M1585.3,-31C1596.25,-31 1608.71,-31 1620.08,-31\"/>\n",
       "<polygon fill=\"black\" stroke=\"black\" points=\"1620.16,-34.5001 1630.16,-31 1620.16,-27.5001 1620.16,-34.5001\"/>\n",
       "<text text-anchor=\"middle\" x=\"1608\" y=\"-34.8\" font-family=\"Times,serif\" font-size=\"14.00\">a</text>\n",
       "</g>\n",
       "<!-- St10&#45;&gt;St16 -->\n",
       "<g id=\"edge2\" class=\"edge\"><title>St10&#45;&gt;St16</title>\n",
       "<path fill=\"none\" stroke=\"black\" d=\"M155.327,-31C166.298,-31 178.804,-31 190.266,-31\"/>\n",
       "<polygon fill=\"black\" stroke=\"black\" points=\"190.423,-34.5001 200.423,-31 190.423,-27.5001 190.423,-34.5001\"/>\n",
       "<text text-anchor=\"middle\" x=\"178\" y=\"-34.8\" font-family=\"Times,serif\" font-size=\"14.00\">a</text>\n",
       "</g>\n",
       "</g>\n",
       "</svg>\n"
      ],
      "text/plain": [
       "<graphviz.dot.Digraph at 0x11272bcf8>"
      ]
     },
     "execution_count": 28,
     "metadata": {},
     "output_type": "execute_result"
    }
   ],
   "source": [
    "dotObj_dfa(d57)"
   ]
  },
  {
   "cell_type": "code",
   "execution_count": 29,
   "metadata": {
    "collapsed": true,
    "run_control": {
     "frozen": false,
     "read_only": false
    }
   },
   "outputs": [],
   "source": [
    "p36 = \"(aaa+aaaaaa)*\""
   ]
  },
  {
   "cell_type": "code",
   "execution_count": 30,
   "metadata": {
    "run_control": {
     "frozen": false,
     "read_only": false
    }
   },
   "outputs": [
    {
     "name": "stderr",
     "output_type": "stream",
     "text": [
      "Generating LALR tables\n"
     ]
    },
    {
     "data": {
      "image/svg+xml": [
       "<?xml version=\"1.0\" encoding=\"UTF-8\" standalone=\"no\"?>\n",
       "<!DOCTYPE svg PUBLIC \"-//W3C//DTD SVG 1.1//EN\"\n",
       " \"http://www.w3.org/Graphics/SVG/1.1/DTD/svg11.dtd\">\n",
       "<!-- Generated by graphviz version 2.36.0 (20140111.2315)\n",
       " -->\n",
       "<!-- Title: %3 Pages: 1 -->\n",
       "<svg width=\"334pt\" height=\"93pt\"\n",
       " viewBox=\"0.00 0.00 334.00 93.00\" xmlns=\"http://www.w3.org/2000/svg\" xmlns:xlink=\"http://www.w3.org/1999/xlink\">\n",
       "<g id=\"graph0\" class=\"graph\" transform=\"scale(1 1) rotate(0) translate(4 89)\">\n",
       "<title>%3</title>\n",
       "<polygon fill=\"white\" stroke=\"none\" points=\"-4,4 -4,-89 330,-89 330,4 -4,4\"/>\n",
       "<!-- EMPTY -->\n",
       "<g id=\"node1\" class=\"node\"><title>EMPTY</title>\n",
       "</g>\n",
       "<!-- St1 -->\n",
       "<g id=\"node4\" class=\"node\"><title>St1</title>\n",
       "<ellipse fill=\"none\" stroke=\"black\" cx=\"119\" cy=\"-59\" rx=\"22.9609\" ry=\"22.9609\"/>\n",
       "<ellipse fill=\"none\" stroke=\"black\" cx=\"119\" cy=\"-59\" rx=\"26.9983\" ry=\"26.9983\"/>\n",
       "<text text-anchor=\"middle\" x=\"119\" y=\"-55.3\" font-family=\"Times,serif\" font-size=\"14.00\">St1</text>\n",
       "</g>\n",
       "<!-- EMPTY&#45;&gt;St1 -->\n",
       "<g id=\"edge1\" class=\"edge\"><title>EMPTY&#45;&gt;St1</title>\n",
       "<path fill=\"none\" stroke=\"black\" d=\"M54.0317,-59C62.7072,-59 72.5339,-59 81.8363,-59\"/>\n",
       "<polygon fill=\"black\" stroke=\"black\" points=\"82.0268,-62.5001 92.0268,-59 82.0267,-55.5001 82.0268,-62.5001\"/>\n",
       "</g>\n",
       "<!-- St5 -->\n",
       "<g id=\"node2\" class=\"node\"><title>St5</title>\n",
       "<ellipse fill=\"none\" stroke=\"black\" cx=\"303\" cy=\"-59\" rx=\"22.9987\" ry=\"22.9987\"/>\n",
       "<text text-anchor=\"middle\" x=\"303\" y=\"-55.3\" font-family=\"Times,serif\" font-size=\"14.00\">St5</text>\n",
       "</g>\n",
       "<!-- St5&#45;&gt;St1 -->\n",
       "<g id=\"edge4\" class=\"edge\"><title>St5&#45;&gt;St1</title>\n",
       "<path fill=\"none\" stroke=\"black\" d=\"M280.001,-60.2978C274.153,-60.5886 267.839,-60.8541 262,-61 226.048,-61.8982 184.965,-61.1236 156.27,-60.2908\"/>\n",
       "<polygon fill=\"black\" stroke=\"black\" points=\"156.018,-56.7814 145.915,-59.9721 155.803,-63.7781 156.018,-56.7814\"/>\n",
       "<text text-anchor=\"middle\" x=\"213\" y=\"-64.8\" font-family=\"Times,serif\" font-size=\"14.00\">a</text>\n",
       "</g>\n",
       "<!-- St0 -->\n",
       "<g id=\"node3\" class=\"node\"><title>St0</title>\n",
       "<ellipse fill=\"none\" stroke=\"black\" cx=\"213\" cy=\"-22\" rx=\"22.9987\" ry=\"22.9987\"/>\n",
       "<text text-anchor=\"middle\" x=\"213\" y=\"-18.3\" font-family=\"Times,serif\" font-size=\"14.00\">St0</text>\n",
       "</g>\n",
       "<!-- St0&#45;&gt;St5 -->\n",
       "<g id=\"edge3\" class=\"edge\"><title>St0&#45;&gt;St5</title>\n",
       "<path fill=\"none\" stroke=\"black\" d=\"M234.41,-30.5815C245.628,-35.2981 259.75,-41.2359 272.181,-46.4626\"/>\n",
       "<polygon fill=\"black\" stroke=\"black\" points=\"271.126,-49.8155 281.701,-50.465 273.839,-43.3626 271.126,-49.8155\"/>\n",
       "<text text-anchor=\"middle\" x=\"258\" y=\"-45.8\" font-family=\"Times,serif\" font-size=\"14.00\">a</text>\n",
       "</g>\n",
       "<!-- St1&#45;&gt;St0 -->\n",
       "<g id=\"edge2\" class=\"edge\"><title>St1&#45;&gt;St0</title>\n",
       "<path fill=\"none\" stroke=\"black\" d=\"M144.172,-49.2787C155.85,-44.582 169.972,-38.9025 182.3,-33.9446\"/>\n",
       "<polygon fill=\"black\" stroke=\"black\" points=\"183.749,-37.1342 191.721,-30.1556 181.137,-30.6397 183.749,-37.1342\"/>\n",
       "<text text-anchor=\"middle\" x=\"168\" y=\"-44.8\" font-family=\"Times,serif\" font-size=\"14.00\">a</text>\n",
       "</g>\n",
       "</g>\n",
       "</svg>\n"
      ],
      "text/plain": [
       "<graphviz.dot.Digraph at 0x11272b748>"
      ]
     },
     "execution_count": 30,
     "metadata": {},
     "output_type": "execute_result"
    }
   ],
   "source": [
    "dotObj_dfa(min_dfa(nfa2dfa(re2nfa(p36))))"
   ]
  },
  {
   "cell_type": "code",
   "execution_count": null,
   "metadata": {
    "collapsed": true,
    "run_control": {
     "frozen": false,
     "read_only": false
    }
   },
   "outputs": [],
   "source": []
  },
  {
   "cell_type": "code",
   "execution_count": null,
   "metadata": {
    "collapsed": true,
    "run_control": {
     "frozen": false,
     "read_only": false
    }
   },
   "outputs": [],
   "source": []
  },
  {
   "cell_type": "code",
   "execution_count": 31,
   "metadata": {
    "run_control": {
     "frozen": false,
     "read_only": false
    }
   },
   "outputs": [],
   "source": [
    "Eq01 = md2mc('''\n",
    "DFA\n",
    "IF : 0 -> F1\n",
    "IF : 1 -> F2\n",
    "F1 : 0 -> F1\n",
    "F2 : 1 -> F2\n",
    "F1 : 1 -> S01\n",
    "F2 : 0 -> S10\n",
    "S01 : 1 -> S01\n",
    "S10 : 0 -> S10\n",
    "S01 : 0 -> Fa1\n",
    "S10 : 1 -> Fa2\n",
    "Fa1 : 0 -> F1\n",
    "Fa1 : 1 -> S01\n",
    "Fa2 : 1 -> F2\n",
    "Fa2 : 0 -> S10\n",
    "''')"
   ]
  },
  {
   "cell_type": "code",
   "execution_count": 32,
   "metadata": {
    "run_control": {
     "frozen": false,
     "read_only": false
    }
   },
   "outputs": [
    {
     "data": {
      "image/svg+xml": [
       "<?xml version=\"1.0\" encoding=\"UTF-8\" standalone=\"no\"?>\n",
       "<!DOCTYPE svg PUBLIC \"-//W3C//DTD SVG 1.1//EN\"\n",
       " \"http://www.w3.org/Graphics/SVG/1.1/DTD/svg11.dtd\">\n",
       "<!-- Generated by graphviz version 2.36.0 (20140111.2315)\n",
       " -->\n",
       "<!-- Title: %3 Pages: 1 -->\n",
       "<svg width=\"434pt\" height=\"305pt\"\n",
       " viewBox=\"0.00 0.00 434.00 305.00\" xmlns=\"http://www.w3.org/2000/svg\" xmlns:xlink=\"http://www.w3.org/1999/xlink\">\n",
       "<g id=\"graph0\" class=\"graph\" transform=\"scale(1 1) rotate(0) translate(4 301)\">\n",
       "<title>%3</title>\n",
       "<polygon fill=\"white\" stroke=\"none\" points=\"-4,4 -4,-301 430,-301 430,4 -4,4\"/>\n",
       "<!-- EMPTY -->\n",
       "<g id=\"node1\" class=\"node\"><title>EMPTY</title>\n",
       "</g>\n",
       "<!-- IF -->\n",
       "<g id=\"node5\" class=\"node\"><title>IF</title>\n",
       "<ellipse fill=\"none\" stroke=\"black\" cx=\"115\" cy=\"-153\" rx=\"18.724\" ry=\"18.724\"/>\n",
       "<ellipse fill=\"none\" stroke=\"black\" cx=\"115\" cy=\"-153\" rx=\"22.6977\" ry=\"22.6977\"/>\n",
       "<text text-anchor=\"middle\" x=\"115\" y=\"-149.3\" font-family=\"Times,serif\" font-size=\"14.00\">IF</text>\n",
       "</g>\n",
       "<!-- EMPTY&#45;&gt;IF -->\n",
       "<g id=\"edge1\" class=\"edge\"><title>EMPTY&#45;&gt;IF</title>\n",
       "<path fill=\"none\" stroke=\"black\" d=\"M54.2701,-153C62.933,-153 72.6692,-153 81.7271,-153\"/>\n",
       "<polygon fill=\"black\" stroke=\"black\" points=\"81.9436,-156.5 91.9436,-153 81.9436,-149.5 81.9436,-156.5\"/>\n",
       "</g>\n",
       "<!-- S10 -->\n",
       "<g id=\"node2\" class=\"node\"><title>S10</title>\n",
       "<ellipse fill=\"none\" stroke=\"black\" cx=\"299\" cy=\"-240\" rx=\"24.8972\" ry=\"24.8972\"/>\n",
       "<text text-anchor=\"middle\" x=\"299\" y=\"-236.3\" font-family=\"Times,serif\" font-size=\"14.00\">S10</text>\n",
       "</g>\n",
       "<!-- S10&#45;&gt;S10 -->\n",
       "<g id=\"edge9\" class=\"edge\"><title>S10&#45;&gt;S10</title>\n",
       "<path fill=\"none\" stroke=\"black\" d=\"M290.51,-262.897C289.701,-273.141 292.531,-282 299,-282 303.144,-282 305.795,-278.364 306.952,-273.058\"/>\n",
       "<polygon fill=\"black\" stroke=\"black\" points=\"310.456,-273.068 307.49,-262.897 303.466,-272.698 310.456,-273.068\"/>\n",
       "<text text-anchor=\"middle\" x=\"299\" y=\"-285.8\" font-family=\"Times,serif\" font-size=\"14.00\">0</text>\n",
       "</g>\n",
       "<!-- Fa2 -->\n",
       "<g id=\"node8\" class=\"node\"><title>Fa2</title>\n",
       "<ellipse fill=\"none\" stroke=\"black\" cx=\"397\" cy=\"-215\" rx=\"24.8692\" ry=\"24.8692\"/>\n",
       "<ellipse fill=\"none\" stroke=\"black\" cx=\"397\" cy=\"-215\" rx=\"28.897\" ry=\"28.897\"/>\n",
       "<text text-anchor=\"middle\" x=\"397\" y=\"-211.3\" font-family=\"Times,serif\" font-size=\"14.00\">Fa2</text>\n",
       "</g>\n",
       "<!-- S10&#45;&gt;Fa2 -->\n",
       "<g id=\"edge11\" class=\"edge\"><title>S10&#45;&gt;Fa2</title>\n",
       "<path fill=\"none\" stroke=\"black\" d=\"M323.568,-236.539C331.973,-235.1 341.468,-233.237 350,-231 353.374,-230.115 356.855,-229.101 360.321,-228.02\"/>\n",
       "<polygon fill=\"black\" stroke=\"black\" points=\"361.54,-231.304 369.947,-224.856 359.354,-224.654 361.54,-231.304\"/>\n",
       "<text text-anchor=\"middle\" x=\"346\" y=\"-235.8\" font-family=\"Times,serif\" font-size=\"14.00\">1</text>\n",
       "</g>\n",
       "<!-- S01 -->\n",
       "<g id=\"node3\" class=\"node\"><title>S01</title>\n",
       "<ellipse fill=\"none\" stroke=\"black\" cx=\"299\" cy=\"-24\" rx=\"24.8972\" ry=\"24.8972\"/>\n",
       "<text text-anchor=\"middle\" x=\"299\" y=\"-20.3\" font-family=\"Times,serif\" font-size=\"14.00\">S01</text>\n",
       "</g>\n",
       "<!-- S01&#45;&gt;S01 -->\n",
       "<g id=\"edge8\" class=\"edge\"><title>S01&#45;&gt;S01</title>\n",
       "<path fill=\"none\" stroke=\"black\" d=\"M290.51,-46.897C289.701,-57.1406 292.531,-66 299,-66 303.144,-66 305.795,-62.3641 306.952,-57.0576\"/>\n",
       "<polygon fill=\"black\" stroke=\"black\" points=\"310.456,-57.0681 307.49,-46.897 303.466,-56.6979 310.456,-57.0681\"/>\n",
       "<text text-anchor=\"middle\" x=\"299\" y=\"-69.8\" font-family=\"Times,serif\" font-size=\"14.00\">1</text>\n",
       "</g>\n",
       "<!-- Fa1 -->\n",
       "<g id=\"node6\" class=\"node\"><title>Fa1</title>\n",
       "<ellipse fill=\"none\" stroke=\"black\" cx=\"397\" cy=\"-62\" rx=\"24.8692\" ry=\"24.8692\"/>\n",
       "<ellipse fill=\"none\" stroke=\"black\" cx=\"397\" cy=\"-62\" rx=\"28.897\" ry=\"28.897\"/>\n",
       "<text text-anchor=\"middle\" x=\"397\" y=\"-58.3\" font-family=\"Times,serif\" font-size=\"14.00\">Fa1</text>\n",
       "</g>\n",
       "<!-- S01&#45;&gt;Fa1 -->\n",
       "<g id=\"edge10\" class=\"edge\"><title>S01&#45;&gt;Fa1</title>\n",
       "<path fill=\"none\" stroke=\"black\" d=\"M322.266,-32.8135C333.653,-37.3211 347.785,-42.9148 360.62,-47.9955\"/>\n",
       "<polygon fill=\"black\" stroke=\"black\" points=\"359.53,-51.328 370.116,-51.7542 362.106,-44.8193 359.53,-51.328\"/>\n",
       "<text text-anchor=\"middle\" x=\"346\" y=\"-46.8\" font-family=\"Times,serif\" font-size=\"14.00\">0</text>\n",
       "</g>\n",
       "<!-- F2 -->\n",
       "<g id=\"node4\" class=\"node\"><title>F2</title>\n",
       "<ellipse fill=\"none\" stroke=\"black\" cx=\"206\" cy=\"-196\" rx=\"20.2726\" ry=\"20.2726\"/>\n",
       "<ellipse fill=\"none\" stroke=\"black\" cx=\"206\" cy=\"-196\" rx=\"24.2973\" ry=\"24.2973\"/>\n",
       "<text text-anchor=\"middle\" x=\"206\" y=\"-192.3\" font-family=\"Times,serif\" font-size=\"14.00\">F2</text>\n",
       "</g>\n",
       "<!-- F2&#45;&gt;S10 -->\n",
       "<g id=\"edge7\" class=\"edge\"><title>F2&#45;&gt;S10</title>\n",
       "<path fill=\"none\" stroke=\"black\" d=\"M228.106,-206.205C239.767,-211.843 254.463,-218.949 267.366,-225.188\"/>\n",
       "<polygon fill=\"black\" stroke=\"black\" points=\"265.85,-228.343 276.377,-229.545 268.897,-222.041 265.85,-228.343\"/>\n",
       "<text text-anchor=\"middle\" x=\"252\" y=\"-222.8\" font-family=\"Times,serif\" font-size=\"14.00\">0</text>\n",
       "</g>\n",
       "<!-- F2&#45;&gt;F2 -->\n",
       "<g id=\"edge5\" class=\"edge\"><title>F2&#45;&gt;F2</title>\n",
       "<path fill=\"none\" stroke=\"black\" d=\"M197.51,-218.897C196.701,-229.141 199.531,-238 206,-238 210.144,-238 212.795,-234.364 213.952,-229.058\"/>\n",
       "<polygon fill=\"black\" stroke=\"black\" points=\"217.456,-229.068 214.49,-218.897 210.466,-228.698 217.456,-229.068\"/>\n",
       "<text text-anchor=\"middle\" x=\"206\" y=\"-241.8\" font-family=\"Times,serif\" font-size=\"14.00\">1</text>\n",
       "</g>\n",
       "<!-- IF&#45;&gt;F2 -->\n",
       "<g id=\"edge3\" class=\"edge\"><title>IF&#45;&gt;F2</title>\n",
       "<path fill=\"none\" stroke=\"black\" d=\"M135.752,-162.543C147.291,-168.118 162.084,-175.265 175.033,-181.522\"/>\n",
       "<polygon fill=\"black\" stroke=\"black\" points=\"173.536,-184.686 184.063,-185.884 176.582,-178.383 173.536,-184.686\"/>\n",
       "<text text-anchor=\"middle\" x=\"160\" y=\"-179.8\" font-family=\"Times,serif\" font-size=\"14.00\">1</text>\n",
       "</g>\n",
       "<!-- F1 -->\n",
       "<g id=\"node7\" class=\"node\"><title>F1</title>\n",
       "<ellipse fill=\"none\" stroke=\"black\" cx=\"206\" cy=\"-97\" rx=\"20.2726\" ry=\"20.2726\"/>\n",
       "<ellipse fill=\"none\" stroke=\"black\" cx=\"206\" cy=\"-97\" rx=\"24.2973\" ry=\"24.2973\"/>\n",
       "<text text-anchor=\"middle\" x=\"206\" y=\"-93.3\" font-family=\"Times,serif\" font-size=\"14.00\">F1</text>\n",
       "</g>\n",
       "<!-- IF&#45;&gt;F1 -->\n",
       "<g id=\"edge2\" class=\"edge\"><title>IF&#45;&gt;F1</title>\n",
       "<path fill=\"none\" stroke=\"black\" d=\"M134.875,-141.124C147.013,-133.486 163.011,-123.42 176.66,-114.832\"/>\n",
       "<polygon fill=\"black\" stroke=\"black\" points=\"178.627,-117.729 185.227,-109.441 174.899,-111.805 178.627,-117.729\"/>\n",
       "<text text-anchor=\"middle\" x=\"160\" y=\"-130.8\" font-family=\"Times,serif\" font-size=\"14.00\">0</text>\n",
       "</g>\n",
       "<!-- Fa1&#45;&gt;S01 -->\n",
       "<g id=\"edge13\" class=\"edge\"><title>Fa1&#45;&gt;S01</title>\n",
       "<path fill=\"none\" stroke=\"black\" d=\"M377.51,-40.5184C369.834,-33.1798 360.309,-25.8554 350,-22 344.762,-20.041 338.996,-19.1937 333.3,-19.0229\"/>\n",
       "<polygon fill=\"black\" stroke=\"black\" points=\"333.13,-15.5265 323.25,-19.352 333.359,-22.5228 333.13,-15.5265\"/>\n",
       "<text text-anchor=\"middle\" x=\"346\" y=\"-25.8\" font-family=\"Times,serif\" font-size=\"14.00\">1</text>\n",
       "</g>\n",
       "<!-- Fa1&#45;&gt;F1 -->\n",
       "<g id=\"edge12\" class=\"edge\"><title>Fa1&#45;&gt;F1</title>\n",
       "<path fill=\"none\" stroke=\"black\" d=\"M370.941,-73.9658C357.366,-79.8737 340.116,-86.4752 324,-90 296.246,-96.0703 263.964,-97.6014 240.349,-97.739\"/>\n",
       "<polygon fill=\"black\" stroke=\"black\" points=\"240.164,-94.2387 230.156,-97.7154 240.148,-101.239 240.164,-94.2387\"/>\n",
       "<text text-anchor=\"middle\" x=\"299\" y=\"-100.8\" font-family=\"Times,serif\" font-size=\"14.00\">0</text>\n",
       "</g>\n",
       "<!-- F1&#45;&gt;S01 -->\n",
       "<g id=\"edge6\" class=\"edge\"><title>F1&#45;&gt;S01</title>\n",
       "<path fill=\"none\" stroke=\"black\" d=\"M225.415,-82.2274C238.649,-71.6114 256.688,-57.1401 271.473,-45.2803\"/>\n",
       "<polygon fill=\"black\" stroke=\"black\" points=\"273.69,-47.9888 279.3,-39.0012 269.309,-42.5285 273.69,-47.9888\"/>\n",
       "<text text-anchor=\"middle\" x=\"252\" y=\"-66.8\" font-family=\"Times,serif\" font-size=\"14.00\">1</text>\n",
       "</g>\n",
       "<!-- F1&#45;&gt;F1 -->\n",
       "<g id=\"edge4\" class=\"edge\"><title>F1&#45;&gt;F1</title>\n",
       "<path fill=\"none\" stroke=\"black\" d=\"M197.51,-119.897C196.701,-130.141 199.531,-139 206,-139 210.144,-139 212.795,-135.364 213.952,-130.058\"/>\n",
       "<polygon fill=\"black\" stroke=\"black\" points=\"217.456,-130.068 214.49,-119.897 210.466,-129.698 217.456,-130.068\"/>\n",
       "<text text-anchor=\"middle\" x=\"206\" y=\"-142.8\" font-family=\"Times,serif\" font-size=\"14.00\">0</text>\n",
       "</g>\n",
       "<!-- Fa2&#45;&gt;S10 -->\n",
       "<g id=\"edge15\" class=\"edge\"><title>Fa2&#45;&gt;S10</title>\n",
       "<path fill=\"none\" stroke=\"black\" d=\"M368.644,-209.844C359.972,-209.167 350.447,-209.442 342,-212 336.889,-213.548 331.831,-215.945 327.091,-218.7\"/>\n",
       "<polygon fill=\"black\" stroke=\"black\" points=\"324.925,-215.933 318.437,-224.309 328.732,-221.807 324.925,-215.933\"/>\n",
       "<text text-anchor=\"middle\" x=\"346\" y=\"-215.8\" font-family=\"Times,serif\" font-size=\"14.00\">0</text>\n",
       "</g>\n",
       "<!-- Fa2&#45;&gt;F2 -->\n",
       "<g id=\"edge14\" class=\"edge\"><title>Fa2&#45;&gt;F2</title>\n",
       "<path fill=\"none\" stroke=\"black\" d=\"M370.179,-204.147C356.683,-199.055 339.737,-193.554 324,-191 295.981,-186.453 263.724,-188.353 240.185,-191.02\"/>\n",
       "<polygon fill=\"black\" stroke=\"black\" points=\"239.523,-187.575 230.03,-192.279 240.384,-194.522 239.523,-187.575\"/>\n",
       "<text text-anchor=\"middle\" x=\"299\" y=\"-194.8\" font-family=\"Times,serif\" font-size=\"14.00\">1</text>\n",
       "</g>\n",
       "</g>\n",
       "</svg>\n"
      ],
      "text/plain": [
       "<graphviz.dot.Digraph at 0x1127c5ef0>"
      ]
     },
     "execution_count": 32,
     "metadata": {},
     "output_type": "execute_result"
    }
   ],
   "source": [
    "dotObj_dfa(Eq01)"
   ]
  },
  {
   "cell_type": "code",
   "execution_count": 33,
   "metadata": {
    "run_control": {
     "frozen": false,
     "read_only": false
    }
   },
   "outputs": [
    {
     "data": {
      "image/svg+xml": [
       "<?xml version=\"1.0\" encoding=\"UTF-8\" standalone=\"no\"?>\n",
       "<!DOCTYPE svg PUBLIC \"-//W3C//DTD SVG 1.1//EN\"\n",
       " \"http://www.w3.org/Graphics/SVG/1.1/DTD/svg11.dtd\">\n",
       "<!-- Generated by graphviz version 2.36.0 (20140111.2315)\n",
       " -->\n",
       "<!-- Title: %3 Pages: 1 -->\n",
       "<svg width=\"342pt\" height=\"197pt\"\n",
       " viewBox=\"0.00 0.00 342.00 197.00\" xmlns=\"http://www.w3.org/2000/svg\" xmlns:xlink=\"http://www.w3.org/1999/xlink\">\n",
       "<g id=\"graph0\" class=\"graph\" transform=\"scale(1 1) rotate(0) translate(4 193)\">\n",
       "<title>%3</title>\n",
       "<polygon fill=\"white\" stroke=\"none\" points=\"-4,4 -4,-193 338,-193 338,4 -4,4\"/>\n",
       "<!-- EMPTY -->\n",
       "<g id=\"node1\" class=\"node\"><title>EMPTY</title>\n",
       "</g>\n",
       "<!-- St2 -->\n",
       "<g id=\"node6\" class=\"node\"><title>St2</title>\n",
       "<ellipse fill=\"none\" stroke=\"black\" cx=\"119\" cy=\"-86\" rx=\"22.9609\" ry=\"22.9609\"/>\n",
       "<ellipse fill=\"none\" stroke=\"black\" cx=\"119\" cy=\"-86\" rx=\"26.9983\" ry=\"26.9983\"/>\n",
       "<text text-anchor=\"middle\" x=\"119\" y=\"-82.3\" font-family=\"Times,serif\" font-size=\"14.00\">St2</text>\n",
       "</g>\n",
       "<!-- EMPTY&#45;&gt;St2 -->\n",
       "<g id=\"edge1\" class=\"edge\"><title>EMPTY&#45;&gt;St2</title>\n",
       "<path fill=\"none\" stroke=\"black\" d=\"M54.0317,-86C62.7072,-86 72.5339,-86 81.8363,-86\"/>\n",
       "<polygon fill=\"black\" stroke=\"black\" points=\"82.0268,-89.5001 92.0268,-86 82.0267,-82.5001 82.0268,-89.5001\"/>\n",
       "</g>\n",
       "<!-- St4 -->\n",
       "<g id=\"node2\" class=\"node\"><title>St4</title>\n",
       "<ellipse fill=\"none\" stroke=\"black\" cx=\"311\" cy=\"-133\" rx=\"22.9987\" ry=\"22.9987\"/>\n",
       "<text text-anchor=\"middle\" x=\"311\" y=\"-129.3\" font-family=\"Times,serif\" font-size=\"14.00\">St4</text>\n",
       "</g>\n",
       "<!-- St4&#45;&gt;St4 -->\n",
       "<g id=\"edge9\" class=\"edge\"><title>St4&#45;&gt;St4</title>\n",
       "<path fill=\"none\" stroke=\"black\" d=\"M302.951,-153.991C301.958,-164.087 304.641,-173 311,-173 315.074,-173 317.639,-169.342 318.695,-164.059\"/>\n",
       "<polygon fill=\"black\" stroke=\"black\" points=\"322.196,-164.107 319.049,-153.991 315.2,-163.862 322.196,-164.107\"/>\n",
       "<text text-anchor=\"middle\" x=\"311\" y=\"-176.8\" font-family=\"Times,serif\" font-size=\"14.00\">0</text>\n",
       "</g>\n",
       "<!-- St1 -->\n",
       "<g id=\"node4\" class=\"node\"><title>St1</title>\n",
       "<ellipse fill=\"none\" stroke=\"black\" cx=\"217\" cy=\"-130\" rx=\"22.9609\" ry=\"22.9609\"/>\n",
       "<ellipse fill=\"none\" stroke=\"black\" cx=\"217\" cy=\"-130\" rx=\"26.9983\" ry=\"26.9983\"/>\n",
       "<text text-anchor=\"middle\" x=\"217\" y=\"-126.3\" font-family=\"Times,serif\" font-size=\"14.00\">St1</text>\n",
       "</g>\n",
       "<!-- St4&#45;&gt;St1 -->\n",
       "<g id=\"edge8\" class=\"edge\"><title>St4&#45;&gt;St1</title>\n",
       "<path fill=\"none\" stroke=\"black\" d=\"M291.626,-120.979C285.074,-117.349 277.463,-113.84 270,-112 263.269,-110.341 256.177,-111.068 249.468,-112.963\"/>\n",
       "<polygon fill=\"black\" stroke=\"black\" points=\"248.185,-109.705 240,-116.431 250.593,-116.278 248.185,-109.705\"/>\n",
       "<text text-anchor=\"middle\" x=\"266\" y=\"-115.8\" font-family=\"Times,serif\" font-size=\"14.00\">1</text>\n",
       "</g>\n",
       "<!-- St3 -->\n",
       "<g id=\"node3\" class=\"node\"><title>St3</title>\n",
       "<ellipse fill=\"none\" stroke=\"black\" cx=\"311\" cy=\"-30\" rx=\"22.9987\" ry=\"22.9987\"/>\n",
       "<text text-anchor=\"middle\" x=\"311\" y=\"-26.3\" font-family=\"Times,serif\" font-size=\"14.00\">St3</text>\n",
       "</g>\n",
       "<!-- St3&#45;&gt;St3 -->\n",
       "<g id=\"edge10\" class=\"edge\"><title>St3&#45;&gt;St3</title>\n",
       "<path fill=\"none\" stroke=\"black\" d=\"M302.951,-50.9908C301.958,-61.0872 304.641,-70 311,-70 315.074,-70 317.639,-66.3422 318.695,-61.0587\"/>\n",
       "<polygon fill=\"black\" stroke=\"black\" points=\"322.196,-61.1073 319.049,-50.9908 315.2,-60.8619 322.196,-61.1073\"/>\n",
       "<text text-anchor=\"middle\" x=\"311\" y=\"-73.8\" font-family=\"Times,serif\" font-size=\"14.00\">1</text>\n",
       "</g>\n",
       "<!-- St0 -->\n",
       "<g id=\"node5\" class=\"node\"><title>St0</title>\n",
       "<ellipse fill=\"none\" stroke=\"black\" cx=\"217\" cy=\"-26\" rx=\"22.9609\" ry=\"22.9609\"/>\n",
       "<ellipse fill=\"none\" stroke=\"black\" cx=\"217\" cy=\"-26\" rx=\"26.9983\" ry=\"26.9983\"/>\n",
       "<text text-anchor=\"middle\" x=\"217\" y=\"-22.3\" font-family=\"Times,serif\" font-size=\"14.00\">St0</text>\n",
       "</g>\n",
       "<!-- St3&#45;&gt;St0 -->\n",
       "<g id=\"edge11\" class=\"edge\"><title>St3&#45;&gt;St0</title>\n",
       "<path fill=\"none\" stroke=\"black\" d=\"M290.568,-19.8936C284.189,-17.0837 276.95,-14.4156 270,-13 264.042,-11.7864 257.737,-12.0393 251.651,-13.0891\"/>\n",
       "<polygon fill=\"black\" stroke=\"black\" points=\"250.614,-9.73907 241.716,-15.4901 252.258,-16.5432 250.614,-9.73907\"/>\n",
       "<text text-anchor=\"middle\" x=\"266\" y=\"-16.8\" font-family=\"Times,serif\" font-size=\"14.00\">0</text>\n",
       "</g>\n",
       "<!-- St1&#45;&gt;St4 -->\n",
       "<g id=\"edge5\" class=\"edge\"><title>St1&#45;&gt;St4</title>\n",
       "<path fill=\"none\" stroke=\"black\" d=\"M244.117,-130.852C254.665,-131.196 266.939,-131.596 278.015,-131.957\"/>\n",
       "<polygon fill=\"black\" stroke=\"black\" points=\"278.063,-135.46 288.172,-132.288 278.291,-128.464 278.063,-135.46\"/>\n",
       "<text text-anchor=\"middle\" x=\"266\" y=\"-134.8\" font-family=\"Times,serif\" font-size=\"14.00\">0</text>\n",
       "</g>\n",
       "<!-- St1&#45;&gt;St1 -->\n",
       "<g id=\"edge4\" class=\"edge\"><title>St1&#45;&gt;St1</title>\n",
       "<path fill=\"none\" stroke=\"black\" d=\"M208.079,-154.878C207.464,-165.227 210.438,-174 217,-174 221.204,-174 223.935,-170.4 225.194,-165.091\"/>\n",
       "<polygon fill=\"black\" stroke=\"black\" points=\"228.702,-165.101 225.921,-154.878 221.719,-164.604 228.702,-165.101\"/>\n",
       "<text text-anchor=\"middle\" x=\"217\" y=\"-177.8\" font-family=\"Times,serif\" font-size=\"14.00\">1</text>\n",
       "</g>\n",
       "<!-- St0&#45;&gt;St3 -->\n",
       "<g id=\"edge6\" class=\"edge\"><title>St0&#45;&gt;St3</title>\n",
       "<path fill=\"none\" stroke=\"black\" d=\"M243.533,-30.0778C249.572,-30.8768 256,-31.5928 262,-32 265.547,-32.2408 266.446,-32.0888 270,-32 272.554,-31.9362 275.2,-31.8495 277.857,-31.7477\"/>\n",
       "<polygon fill=\"black\" stroke=\"black\" points=\"278.166,-35.2376 288.001,-31.2978 277.856,-28.2445 278.166,-35.2376\"/>\n",
       "<text text-anchor=\"middle\" x=\"266\" y=\"-35.8\" font-family=\"Times,serif\" font-size=\"14.00\">1</text>\n",
       "</g>\n",
       "<!-- St0&#45;&gt;St0 -->\n",
       "<g id=\"edge7\" class=\"edge\"><title>St0&#45;&gt;St0</title>\n",
       "<path fill=\"none\" stroke=\"black\" d=\"M208.079,-50.8781C207.464,-61.2272 210.438,-70 217,-70 221.204,-70 223.935,-66.3996 225.194,-61.091\"/>\n",
       "<polygon fill=\"black\" stroke=\"black\" points=\"228.702,-61.1014 225.921,-50.8781 221.719,-60.6042 228.702,-61.1014\"/>\n",
       "<text text-anchor=\"middle\" x=\"217\" y=\"-73.8\" font-family=\"Times,serif\" font-size=\"14.00\">0</text>\n",
       "</g>\n",
       "<!-- St2&#45;&gt;St1 -->\n",
       "<g id=\"edge2\" class=\"edge\"><title>St2&#45;&gt;St1</title>\n",
       "<path fill=\"none\" stroke=\"black\" d=\"M143.73,-96.8764C155.704,-102.365 170.413,-109.106 183.428,-115.071\"/>\n",
       "<polygon fill=\"black\" stroke=\"black\" points=\"181.994,-118.264 192.543,-119.249 184.91,-111.9 181.994,-118.264\"/>\n",
       "<text text-anchor=\"middle\" x=\"168\" y=\"-112.8\" font-family=\"Times,serif\" font-size=\"14.00\">1</text>\n",
       "</g>\n",
       "<!-- St2&#45;&gt;St0 -->\n",
       "<g id=\"edge3\" class=\"edge\"><title>St2&#45;&gt;St0</title>\n",
       "<path fill=\"none\" stroke=\"black\" d=\"M142.266,-72.084C154.988,-64.1326 171.135,-54.0409 185.073,-45.3295\"/>\n",
       "<polygon fill=\"black\" stroke=\"black\" points=\"187.23,-48.1086 193.855,-39.8405 183.52,-42.1726 187.23,-48.1086\"/>\n",
       "<text text-anchor=\"middle\" x=\"168\" y=\"-60.8\" font-family=\"Times,serif\" font-size=\"14.00\">0</text>\n",
       "</g>\n",
       "</g>\n",
       "</svg>\n"
      ],
      "text/plain": [
       "<graphviz.dot.Digraph at 0x1127d1b38>"
      ]
     },
     "execution_count": 33,
     "metadata": {},
     "output_type": "execute_result"
    }
   ],
   "source": [
    "dotObj_dfa(nfa2dfa(rev_dfa(nfa2dfa(rev_dfa(Eq01)))))"
   ]
  },
  {
   "cell_type": "code",
   "execution_count": null,
   "metadata": {
    "collapsed": true,
    "run_control": {
     "frozen": false,
     "read_only": false
    }
   },
   "outputs": [],
   "source": []
  },
  {
   "cell_type": "code",
   "execution_count": 34,
   "metadata": {
    "run_control": {
     "frozen": false,
     "read_only": false
    }
   },
   "outputs": [
    {
     "data": {
      "image/svg+xml": [
       "<?xml version=\"1.0\" encoding=\"UTF-8\" standalone=\"no\"?>\n",
       "<!DOCTYPE svg PUBLIC \"-//W3C//DTD SVG 1.1//EN\"\n",
       " \"http://www.w3.org/Graphics/SVG/1.1/DTD/svg11.dtd\">\n",
       "<!-- Generated by graphviz version 2.36.0 (20140111.2315)\n",
       " -->\n",
       "<!-- Title: %3 Pages: 1 -->\n",
       "<svg width=\"342pt\" height=\"197pt\"\n",
       " viewBox=\"0.00 0.00 342.00 197.00\" xmlns=\"http://www.w3.org/2000/svg\" xmlns:xlink=\"http://www.w3.org/1999/xlink\">\n",
       "<g id=\"graph0\" class=\"graph\" transform=\"scale(1 1) rotate(0) translate(4 193)\">\n",
       "<title>%3</title>\n",
       "<polygon fill=\"white\" stroke=\"none\" points=\"-4,4 -4,-193 338,-193 338,4 -4,4\"/>\n",
       "<!-- EMPTY -->\n",
       "<g id=\"node1\" class=\"node\"><title>EMPTY</title>\n",
       "</g>\n",
       "<!-- St2 -->\n",
       "<g id=\"node6\" class=\"node\"><title>St2</title>\n",
       "<ellipse fill=\"none\" stroke=\"black\" cx=\"119\" cy=\"-86\" rx=\"22.9609\" ry=\"22.9609\"/>\n",
       "<ellipse fill=\"none\" stroke=\"black\" cx=\"119\" cy=\"-86\" rx=\"26.9983\" ry=\"26.9983\"/>\n",
       "<text text-anchor=\"middle\" x=\"119\" y=\"-82.3\" font-family=\"Times,serif\" font-size=\"14.00\">St2</text>\n",
       "</g>\n",
       "<!-- EMPTY&#45;&gt;St2 -->\n",
       "<g id=\"edge1\" class=\"edge\"><title>EMPTY&#45;&gt;St2</title>\n",
       "<path fill=\"none\" stroke=\"black\" d=\"M54.0317,-86C62.7072,-86 72.5339,-86 81.8363,-86\"/>\n",
       "<polygon fill=\"black\" stroke=\"black\" points=\"82.0268,-89.5001 92.0268,-86 82.0267,-82.5001 82.0268,-89.5001\"/>\n",
       "</g>\n",
       "<!-- St4 -->\n",
       "<g id=\"node2\" class=\"node\"><title>St4</title>\n",
       "<ellipse fill=\"none\" stroke=\"black\" cx=\"311\" cy=\"-133\" rx=\"22.9987\" ry=\"22.9987\"/>\n",
       "<text text-anchor=\"middle\" x=\"311\" y=\"-129.3\" font-family=\"Times,serif\" font-size=\"14.00\">St4</text>\n",
       "</g>\n",
       "<!-- St4&#45;&gt;St4 -->\n",
       "<g id=\"edge9\" class=\"edge\"><title>St4&#45;&gt;St4</title>\n",
       "<path fill=\"none\" stroke=\"black\" d=\"M302.951,-153.991C301.958,-164.087 304.641,-173 311,-173 315.074,-173 317.639,-169.342 318.695,-164.059\"/>\n",
       "<polygon fill=\"black\" stroke=\"black\" points=\"322.196,-164.107 319.049,-153.991 315.2,-163.862 322.196,-164.107\"/>\n",
       "<text text-anchor=\"middle\" x=\"311\" y=\"-176.8\" font-family=\"Times,serif\" font-size=\"14.00\">0</text>\n",
       "</g>\n",
       "<!-- St1 -->\n",
       "<g id=\"node4\" class=\"node\"><title>St1</title>\n",
       "<ellipse fill=\"none\" stroke=\"black\" cx=\"217\" cy=\"-130\" rx=\"22.9609\" ry=\"22.9609\"/>\n",
       "<ellipse fill=\"none\" stroke=\"black\" cx=\"217\" cy=\"-130\" rx=\"26.9983\" ry=\"26.9983\"/>\n",
       "<text text-anchor=\"middle\" x=\"217\" y=\"-126.3\" font-family=\"Times,serif\" font-size=\"14.00\">St1</text>\n",
       "</g>\n",
       "<!-- St4&#45;&gt;St1 -->\n",
       "<g id=\"edge8\" class=\"edge\"><title>St4&#45;&gt;St1</title>\n",
       "<path fill=\"none\" stroke=\"black\" d=\"M291.626,-120.979C285.074,-117.349 277.463,-113.84 270,-112 263.269,-110.341 256.177,-111.068 249.468,-112.963\"/>\n",
       "<polygon fill=\"black\" stroke=\"black\" points=\"248.185,-109.705 240,-116.431 250.593,-116.278 248.185,-109.705\"/>\n",
       "<text text-anchor=\"middle\" x=\"266\" y=\"-115.8\" font-family=\"Times,serif\" font-size=\"14.00\">1</text>\n",
       "</g>\n",
       "<!-- St3 -->\n",
       "<g id=\"node3\" class=\"node\"><title>St3</title>\n",
       "<ellipse fill=\"none\" stroke=\"black\" cx=\"311\" cy=\"-30\" rx=\"22.9987\" ry=\"22.9987\"/>\n",
       "<text text-anchor=\"middle\" x=\"311\" y=\"-26.3\" font-family=\"Times,serif\" font-size=\"14.00\">St3</text>\n",
       "</g>\n",
       "<!-- St3&#45;&gt;St3 -->\n",
       "<g id=\"edge10\" class=\"edge\"><title>St3&#45;&gt;St3</title>\n",
       "<path fill=\"none\" stroke=\"black\" d=\"M302.951,-50.9908C301.958,-61.0872 304.641,-70 311,-70 315.074,-70 317.639,-66.3422 318.695,-61.0587\"/>\n",
       "<polygon fill=\"black\" stroke=\"black\" points=\"322.196,-61.1073 319.049,-50.9908 315.2,-60.8619 322.196,-61.1073\"/>\n",
       "<text text-anchor=\"middle\" x=\"311\" y=\"-73.8\" font-family=\"Times,serif\" font-size=\"14.00\">1</text>\n",
       "</g>\n",
       "<!-- St0 -->\n",
       "<g id=\"node5\" class=\"node\"><title>St0</title>\n",
       "<ellipse fill=\"none\" stroke=\"black\" cx=\"217\" cy=\"-26\" rx=\"22.9609\" ry=\"22.9609\"/>\n",
       "<ellipse fill=\"none\" stroke=\"black\" cx=\"217\" cy=\"-26\" rx=\"26.9983\" ry=\"26.9983\"/>\n",
       "<text text-anchor=\"middle\" x=\"217\" y=\"-22.3\" font-family=\"Times,serif\" font-size=\"14.00\">St0</text>\n",
       "</g>\n",
       "<!-- St3&#45;&gt;St0 -->\n",
       "<g id=\"edge11\" class=\"edge\"><title>St3&#45;&gt;St0</title>\n",
       "<path fill=\"none\" stroke=\"black\" d=\"M290.568,-19.8936C284.189,-17.0837 276.95,-14.4156 270,-13 264.042,-11.7864 257.737,-12.0393 251.651,-13.0891\"/>\n",
       "<polygon fill=\"black\" stroke=\"black\" points=\"250.614,-9.73907 241.716,-15.4901 252.258,-16.5432 250.614,-9.73907\"/>\n",
       "<text text-anchor=\"middle\" x=\"266\" y=\"-16.8\" font-family=\"Times,serif\" font-size=\"14.00\">0</text>\n",
       "</g>\n",
       "<!-- St1&#45;&gt;St4 -->\n",
       "<g id=\"edge5\" class=\"edge\"><title>St1&#45;&gt;St4</title>\n",
       "<path fill=\"none\" stroke=\"black\" d=\"M244.117,-130.852C254.665,-131.196 266.939,-131.596 278.015,-131.957\"/>\n",
       "<polygon fill=\"black\" stroke=\"black\" points=\"278.063,-135.46 288.172,-132.288 278.291,-128.464 278.063,-135.46\"/>\n",
       "<text text-anchor=\"middle\" x=\"266\" y=\"-134.8\" font-family=\"Times,serif\" font-size=\"14.00\">0</text>\n",
       "</g>\n",
       "<!-- St1&#45;&gt;St1 -->\n",
       "<g id=\"edge4\" class=\"edge\"><title>St1&#45;&gt;St1</title>\n",
       "<path fill=\"none\" stroke=\"black\" d=\"M208.079,-154.878C207.464,-165.227 210.438,-174 217,-174 221.204,-174 223.935,-170.4 225.194,-165.091\"/>\n",
       "<polygon fill=\"black\" stroke=\"black\" points=\"228.702,-165.101 225.921,-154.878 221.719,-164.604 228.702,-165.101\"/>\n",
       "<text text-anchor=\"middle\" x=\"217\" y=\"-177.8\" font-family=\"Times,serif\" font-size=\"14.00\">1</text>\n",
       "</g>\n",
       "<!-- St0&#45;&gt;St3 -->\n",
       "<g id=\"edge6\" class=\"edge\"><title>St0&#45;&gt;St3</title>\n",
       "<path fill=\"none\" stroke=\"black\" d=\"M243.533,-30.0778C249.572,-30.8768 256,-31.5928 262,-32 265.547,-32.2408 266.446,-32.0888 270,-32 272.554,-31.9362 275.2,-31.8495 277.857,-31.7477\"/>\n",
       "<polygon fill=\"black\" stroke=\"black\" points=\"278.166,-35.2376 288.001,-31.2978 277.856,-28.2445 278.166,-35.2376\"/>\n",
       "<text text-anchor=\"middle\" x=\"266\" y=\"-35.8\" font-family=\"Times,serif\" font-size=\"14.00\">1</text>\n",
       "</g>\n",
       "<!-- St0&#45;&gt;St0 -->\n",
       "<g id=\"edge7\" class=\"edge\"><title>St0&#45;&gt;St0</title>\n",
       "<path fill=\"none\" stroke=\"black\" d=\"M208.079,-50.8781C207.464,-61.2272 210.438,-70 217,-70 221.204,-70 223.935,-66.3996 225.194,-61.091\"/>\n",
       "<polygon fill=\"black\" stroke=\"black\" points=\"228.702,-61.1014 225.921,-50.8781 221.719,-60.6042 228.702,-61.1014\"/>\n",
       "<text text-anchor=\"middle\" x=\"217\" y=\"-73.8\" font-family=\"Times,serif\" font-size=\"14.00\">0</text>\n",
       "</g>\n",
       "<!-- St2&#45;&gt;St1 -->\n",
       "<g id=\"edge2\" class=\"edge\"><title>St2&#45;&gt;St1</title>\n",
       "<path fill=\"none\" stroke=\"black\" d=\"M143.73,-96.8764C155.704,-102.365 170.413,-109.106 183.428,-115.071\"/>\n",
       "<polygon fill=\"black\" stroke=\"black\" points=\"181.994,-118.264 192.543,-119.249 184.91,-111.9 181.994,-118.264\"/>\n",
       "<text text-anchor=\"middle\" x=\"168\" y=\"-112.8\" font-family=\"Times,serif\" font-size=\"14.00\">1</text>\n",
       "</g>\n",
       "<!-- St2&#45;&gt;St0 -->\n",
       "<g id=\"edge3\" class=\"edge\"><title>St2&#45;&gt;St0</title>\n",
       "<path fill=\"none\" stroke=\"black\" d=\"M142.266,-72.084C154.988,-64.1326 171.135,-54.0409 185.073,-45.3295\"/>\n",
       "<polygon fill=\"black\" stroke=\"black\" points=\"187.23,-48.1086 193.855,-39.8405 183.52,-42.1726 187.23,-48.1086\"/>\n",
       "<text text-anchor=\"middle\" x=\"168\" y=\"-60.8\" font-family=\"Times,serif\" font-size=\"14.00\">0</text>\n",
       "</g>\n",
       "</g>\n",
       "</svg>\n"
      ],
      "text/plain": [
       "<graphviz.dot.Digraph at 0x1127d1a20>"
      ]
     },
     "execution_count": 34,
     "metadata": {},
     "output_type": "execute_result"
    }
   ],
   "source": [
    "dotObj_dfa(min_dfa_brz(Eq01))"
   ]
  },
  {
   "cell_type": "code",
   "execution_count": 35,
   "metadata": {
    "run_control": {
     "frozen": false,
     "read_only": false
    }
   },
   "outputs": [
    {
     "data": {
      "image/svg+xml": [
       "<?xml version=\"1.0\" encoding=\"UTF-8\" standalone=\"no\"?>\n",
       "<!DOCTYPE svg PUBLIC \"-//W3C//DTD SVG 1.1//EN\"\n",
       " \"http://www.w3.org/Graphics/SVG/1.1/DTD/svg11.dtd\">\n",
       "<!-- Generated by graphviz version 2.36.0 (20140111.2315)\n",
       " -->\n",
       "<!-- Title: %3 Pages: 1 -->\n",
       "<svg width=\"434pt\" height=\"305pt\"\n",
       " viewBox=\"0.00 0.00 434.00 305.00\" xmlns=\"http://www.w3.org/2000/svg\" xmlns:xlink=\"http://www.w3.org/1999/xlink\">\n",
       "<g id=\"graph0\" class=\"graph\" transform=\"scale(1 1) rotate(0) translate(4 301)\">\n",
       "<title>%3</title>\n",
       "<polygon fill=\"white\" stroke=\"none\" points=\"-4,4 -4,-301 430,-301 430,4 -4,4\"/>\n",
       "<!-- EMPTY -->\n",
       "<g id=\"node1\" class=\"node\"><title>EMPTY</title>\n",
       "</g>\n",
       "<!-- IF -->\n",
       "<g id=\"node5\" class=\"node\"><title>IF</title>\n",
       "<ellipse fill=\"none\" stroke=\"black\" cx=\"115\" cy=\"-153\" rx=\"18.724\" ry=\"18.724\"/>\n",
       "<ellipse fill=\"none\" stroke=\"black\" cx=\"115\" cy=\"-153\" rx=\"22.6977\" ry=\"22.6977\"/>\n",
       "<text text-anchor=\"middle\" x=\"115\" y=\"-149.3\" font-family=\"Times,serif\" font-size=\"14.00\">IF</text>\n",
       "</g>\n",
       "<!-- EMPTY&#45;&gt;IF -->\n",
       "<g id=\"edge1\" class=\"edge\"><title>EMPTY&#45;&gt;IF</title>\n",
       "<path fill=\"none\" stroke=\"black\" d=\"M54.2701,-153C62.933,-153 72.6692,-153 81.7271,-153\"/>\n",
       "<polygon fill=\"black\" stroke=\"black\" points=\"81.9436,-156.5 91.9436,-153 81.9436,-149.5 81.9436,-156.5\"/>\n",
       "</g>\n",
       "<!-- S10 -->\n",
       "<g id=\"node2\" class=\"node\"><title>S10</title>\n",
       "<ellipse fill=\"none\" stroke=\"black\" cx=\"299\" cy=\"-240\" rx=\"24.8972\" ry=\"24.8972\"/>\n",
       "<text text-anchor=\"middle\" x=\"299\" y=\"-236.3\" font-family=\"Times,serif\" font-size=\"14.00\">S10</text>\n",
       "</g>\n",
       "<!-- S10&#45;&gt;S10 -->\n",
       "<g id=\"edge9\" class=\"edge\"><title>S10&#45;&gt;S10</title>\n",
       "<path fill=\"none\" stroke=\"black\" d=\"M290.51,-262.897C289.701,-273.141 292.531,-282 299,-282 303.144,-282 305.795,-278.364 306.952,-273.058\"/>\n",
       "<polygon fill=\"black\" stroke=\"black\" points=\"310.456,-273.068 307.49,-262.897 303.466,-272.698 310.456,-273.068\"/>\n",
       "<text text-anchor=\"middle\" x=\"299\" y=\"-285.8\" font-family=\"Times,serif\" font-size=\"14.00\">0</text>\n",
       "</g>\n",
       "<!-- Fa2 -->\n",
       "<g id=\"node8\" class=\"node\"><title>Fa2</title>\n",
       "<ellipse fill=\"none\" stroke=\"black\" cx=\"397\" cy=\"-215\" rx=\"24.8692\" ry=\"24.8692\"/>\n",
       "<ellipse fill=\"none\" stroke=\"black\" cx=\"397\" cy=\"-215\" rx=\"28.897\" ry=\"28.897\"/>\n",
       "<text text-anchor=\"middle\" x=\"397\" y=\"-211.3\" font-family=\"Times,serif\" font-size=\"14.00\">Fa2</text>\n",
       "</g>\n",
       "<!-- S10&#45;&gt;Fa2 -->\n",
       "<g id=\"edge11\" class=\"edge\"><title>S10&#45;&gt;Fa2</title>\n",
       "<path fill=\"none\" stroke=\"black\" d=\"M323.568,-236.539C331.973,-235.1 341.468,-233.237 350,-231 353.374,-230.115 356.855,-229.101 360.321,-228.02\"/>\n",
       "<polygon fill=\"black\" stroke=\"black\" points=\"361.54,-231.304 369.947,-224.856 359.354,-224.654 361.54,-231.304\"/>\n",
       "<text text-anchor=\"middle\" x=\"346\" y=\"-235.8\" font-family=\"Times,serif\" font-size=\"14.00\">1</text>\n",
       "</g>\n",
       "<!-- S01 -->\n",
       "<g id=\"node3\" class=\"node\"><title>S01</title>\n",
       "<ellipse fill=\"none\" stroke=\"black\" cx=\"299\" cy=\"-24\" rx=\"24.8972\" ry=\"24.8972\"/>\n",
       "<text text-anchor=\"middle\" x=\"299\" y=\"-20.3\" font-family=\"Times,serif\" font-size=\"14.00\">S01</text>\n",
       "</g>\n",
       "<!-- S01&#45;&gt;S01 -->\n",
       "<g id=\"edge8\" class=\"edge\"><title>S01&#45;&gt;S01</title>\n",
       "<path fill=\"none\" stroke=\"black\" d=\"M290.51,-46.897C289.701,-57.1406 292.531,-66 299,-66 303.144,-66 305.795,-62.3641 306.952,-57.0576\"/>\n",
       "<polygon fill=\"black\" stroke=\"black\" points=\"310.456,-57.0681 307.49,-46.897 303.466,-56.6979 310.456,-57.0681\"/>\n",
       "<text text-anchor=\"middle\" x=\"299\" y=\"-69.8\" font-family=\"Times,serif\" font-size=\"14.00\">1</text>\n",
       "</g>\n",
       "<!-- Fa1 -->\n",
       "<g id=\"node6\" class=\"node\"><title>Fa1</title>\n",
       "<ellipse fill=\"none\" stroke=\"black\" cx=\"397\" cy=\"-62\" rx=\"24.8692\" ry=\"24.8692\"/>\n",
       "<ellipse fill=\"none\" stroke=\"black\" cx=\"397\" cy=\"-62\" rx=\"28.897\" ry=\"28.897\"/>\n",
       "<text text-anchor=\"middle\" x=\"397\" y=\"-58.3\" font-family=\"Times,serif\" font-size=\"14.00\">Fa1</text>\n",
       "</g>\n",
       "<!-- S01&#45;&gt;Fa1 -->\n",
       "<g id=\"edge10\" class=\"edge\"><title>S01&#45;&gt;Fa1</title>\n",
       "<path fill=\"none\" stroke=\"black\" d=\"M322.266,-32.8135C333.653,-37.3211 347.785,-42.9148 360.62,-47.9955\"/>\n",
       "<polygon fill=\"black\" stroke=\"black\" points=\"359.53,-51.328 370.116,-51.7542 362.106,-44.8193 359.53,-51.328\"/>\n",
       "<text text-anchor=\"middle\" x=\"346\" y=\"-46.8\" font-family=\"Times,serif\" font-size=\"14.00\">0</text>\n",
       "</g>\n",
       "<!-- F2 -->\n",
       "<g id=\"node4\" class=\"node\"><title>F2</title>\n",
       "<ellipse fill=\"none\" stroke=\"black\" cx=\"206\" cy=\"-196\" rx=\"20.2726\" ry=\"20.2726\"/>\n",
       "<ellipse fill=\"none\" stroke=\"black\" cx=\"206\" cy=\"-196\" rx=\"24.2973\" ry=\"24.2973\"/>\n",
       "<text text-anchor=\"middle\" x=\"206\" y=\"-192.3\" font-family=\"Times,serif\" font-size=\"14.00\">F2</text>\n",
       "</g>\n",
       "<!-- F2&#45;&gt;S10 -->\n",
       "<g id=\"edge7\" class=\"edge\"><title>F2&#45;&gt;S10</title>\n",
       "<path fill=\"none\" stroke=\"black\" d=\"M228.106,-206.205C239.767,-211.843 254.463,-218.949 267.366,-225.188\"/>\n",
       "<polygon fill=\"black\" stroke=\"black\" points=\"265.85,-228.343 276.377,-229.545 268.897,-222.041 265.85,-228.343\"/>\n",
       "<text text-anchor=\"middle\" x=\"252\" y=\"-222.8\" font-family=\"Times,serif\" font-size=\"14.00\">0</text>\n",
       "</g>\n",
       "<!-- F2&#45;&gt;F2 -->\n",
       "<g id=\"edge5\" class=\"edge\"><title>F2&#45;&gt;F2</title>\n",
       "<path fill=\"none\" stroke=\"black\" d=\"M197.51,-218.897C196.701,-229.141 199.531,-238 206,-238 210.144,-238 212.795,-234.364 213.952,-229.058\"/>\n",
       "<polygon fill=\"black\" stroke=\"black\" points=\"217.456,-229.068 214.49,-218.897 210.466,-228.698 217.456,-229.068\"/>\n",
       "<text text-anchor=\"middle\" x=\"206\" y=\"-241.8\" font-family=\"Times,serif\" font-size=\"14.00\">1</text>\n",
       "</g>\n",
       "<!-- IF&#45;&gt;F2 -->\n",
       "<g id=\"edge3\" class=\"edge\"><title>IF&#45;&gt;F2</title>\n",
       "<path fill=\"none\" stroke=\"black\" d=\"M135.752,-162.543C147.291,-168.118 162.084,-175.265 175.033,-181.522\"/>\n",
       "<polygon fill=\"black\" stroke=\"black\" points=\"173.536,-184.686 184.063,-185.884 176.582,-178.383 173.536,-184.686\"/>\n",
       "<text text-anchor=\"middle\" x=\"160\" y=\"-179.8\" font-family=\"Times,serif\" font-size=\"14.00\">1</text>\n",
       "</g>\n",
       "<!-- F1 -->\n",
       "<g id=\"node7\" class=\"node\"><title>F1</title>\n",
       "<ellipse fill=\"none\" stroke=\"black\" cx=\"206\" cy=\"-97\" rx=\"20.2726\" ry=\"20.2726\"/>\n",
       "<ellipse fill=\"none\" stroke=\"black\" cx=\"206\" cy=\"-97\" rx=\"24.2973\" ry=\"24.2973\"/>\n",
       "<text text-anchor=\"middle\" x=\"206\" y=\"-93.3\" font-family=\"Times,serif\" font-size=\"14.00\">F1</text>\n",
       "</g>\n",
       "<!-- IF&#45;&gt;F1 -->\n",
       "<g id=\"edge2\" class=\"edge\"><title>IF&#45;&gt;F1</title>\n",
       "<path fill=\"none\" stroke=\"black\" d=\"M134.875,-141.124C147.013,-133.486 163.011,-123.42 176.66,-114.832\"/>\n",
       "<polygon fill=\"black\" stroke=\"black\" points=\"178.627,-117.729 185.227,-109.441 174.899,-111.805 178.627,-117.729\"/>\n",
       "<text text-anchor=\"middle\" x=\"160\" y=\"-130.8\" font-family=\"Times,serif\" font-size=\"14.00\">0</text>\n",
       "</g>\n",
       "<!-- Fa1&#45;&gt;S01 -->\n",
       "<g id=\"edge13\" class=\"edge\"><title>Fa1&#45;&gt;S01</title>\n",
       "<path fill=\"none\" stroke=\"black\" d=\"M377.51,-40.5184C369.834,-33.1798 360.309,-25.8554 350,-22 344.762,-20.041 338.996,-19.1937 333.3,-19.0229\"/>\n",
       "<polygon fill=\"black\" stroke=\"black\" points=\"333.13,-15.5265 323.25,-19.352 333.359,-22.5228 333.13,-15.5265\"/>\n",
       "<text text-anchor=\"middle\" x=\"346\" y=\"-25.8\" font-family=\"Times,serif\" font-size=\"14.00\">1</text>\n",
       "</g>\n",
       "<!-- Fa1&#45;&gt;F1 -->\n",
       "<g id=\"edge12\" class=\"edge\"><title>Fa1&#45;&gt;F1</title>\n",
       "<path fill=\"none\" stroke=\"black\" d=\"M370.941,-73.9658C357.366,-79.8737 340.116,-86.4752 324,-90 296.246,-96.0703 263.964,-97.6014 240.349,-97.739\"/>\n",
       "<polygon fill=\"black\" stroke=\"black\" points=\"240.164,-94.2387 230.156,-97.7154 240.148,-101.239 240.164,-94.2387\"/>\n",
       "<text text-anchor=\"middle\" x=\"299\" y=\"-100.8\" font-family=\"Times,serif\" font-size=\"14.00\">0</text>\n",
       "</g>\n",
       "<!-- F1&#45;&gt;S01 -->\n",
       "<g id=\"edge6\" class=\"edge\"><title>F1&#45;&gt;S01</title>\n",
       "<path fill=\"none\" stroke=\"black\" d=\"M225.415,-82.2274C238.649,-71.6114 256.688,-57.1401 271.473,-45.2803\"/>\n",
       "<polygon fill=\"black\" stroke=\"black\" points=\"273.69,-47.9888 279.3,-39.0012 269.309,-42.5285 273.69,-47.9888\"/>\n",
       "<text text-anchor=\"middle\" x=\"252\" y=\"-66.8\" font-family=\"Times,serif\" font-size=\"14.00\">1</text>\n",
       "</g>\n",
       "<!-- F1&#45;&gt;F1 -->\n",
       "<g id=\"edge4\" class=\"edge\"><title>F1&#45;&gt;F1</title>\n",
       "<path fill=\"none\" stroke=\"black\" d=\"M197.51,-119.897C196.701,-130.141 199.531,-139 206,-139 210.144,-139 212.795,-135.364 213.952,-130.058\"/>\n",
       "<polygon fill=\"black\" stroke=\"black\" points=\"217.456,-130.068 214.49,-119.897 210.466,-129.698 217.456,-130.068\"/>\n",
       "<text text-anchor=\"middle\" x=\"206\" y=\"-142.8\" font-family=\"Times,serif\" font-size=\"14.00\">0</text>\n",
       "</g>\n",
       "<!-- Fa2&#45;&gt;S10 -->\n",
       "<g id=\"edge15\" class=\"edge\"><title>Fa2&#45;&gt;S10</title>\n",
       "<path fill=\"none\" stroke=\"black\" d=\"M368.644,-209.844C359.972,-209.167 350.447,-209.442 342,-212 336.889,-213.548 331.831,-215.945 327.091,-218.7\"/>\n",
       "<polygon fill=\"black\" stroke=\"black\" points=\"324.925,-215.933 318.437,-224.309 328.732,-221.807 324.925,-215.933\"/>\n",
       "<text text-anchor=\"middle\" x=\"346\" y=\"-215.8\" font-family=\"Times,serif\" font-size=\"14.00\">0</text>\n",
       "</g>\n",
       "<!-- Fa2&#45;&gt;F2 -->\n",
       "<g id=\"edge14\" class=\"edge\"><title>Fa2&#45;&gt;F2</title>\n",
       "<path fill=\"none\" stroke=\"black\" d=\"M370.179,-204.147C356.683,-199.055 339.737,-193.554 324,-191 295.981,-186.453 263.724,-188.353 240.185,-191.02\"/>\n",
       "<polygon fill=\"black\" stroke=\"black\" points=\"239.523,-187.575 230.03,-192.279 240.384,-194.522 239.523,-187.575\"/>\n",
       "<text text-anchor=\"middle\" x=\"299\" y=\"-194.8\" font-family=\"Times,serif\" font-size=\"14.00\">1</text>\n",
       "</g>\n",
       "</g>\n",
       "</svg>\n"
      ],
      "text/plain": [
       "<graphviz.dot.Digraph at 0x1127be978>"
      ]
     },
     "execution_count": 35,
     "metadata": {},
     "output_type": "execute_result"
    }
   ],
   "source": [
    "dotObj_dfa(Eq01)"
   ]
  },
  {
   "cell_type": "code",
   "execution_count": 36,
   "metadata": {
    "run_control": {
     "frozen": false,
     "read_only": false
    }
   },
   "outputs": [
    {
     "data": {
      "image/svg+xml": [
       "<?xml version=\"1.0\" encoding=\"UTF-8\" standalone=\"no\"?>\n",
       "<!DOCTYPE svg PUBLIC \"-//W3C//DTD SVG 1.1//EN\"\n",
       " \"http://www.w3.org/Graphics/SVG/1.1/DTD/svg11.dtd\">\n",
       "<!-- Generated by graphviz version 2.36.0 (20140111.2315)\n",
       " -->\n",
       "<!-- Title: %3 Pages: 1 -->\n",
       "<svg width=\"428pt\" height=\"362pt\"\n",
       " viewBox=\"0.00 0.00 428.00 361.58\" xmlns=\"http://www.w3.org/2000/svg\" xmlns:xlink=\"http://www.w3.org/1999/xlink\">\n",
       "<g id=\"graph0\" class=\"graph\" transform=\"scale(1 1) rotate(0) translate(4 357.579)\">\n",
       "<title>%3</title>\n",
       "<polygon fill=\"white\" stroke=\"none\" points=\"-4,4 -4,-357.579 424,-357.579 424,4 -4,4\"/>\n",
       "<!-- EMPTY -->\n",
       "<g id=\"node1\" class=\"node\"><title>EMPTY</title>\n",
       "</g>\n",
       "<!-- F2 -->\n",
       "<g id=\"node3\" class=\"node\"><title>F2</title>\n",
       "<ellipse fill=\"none\" stroke=\"black\" cx=\"117\" cy=\"-236.579\" rx=\"20.2975\" ry=\"20.2975\"/>\n",
       "<text text-anchor=\"middle\" x=\"117\" y=\"-232.879\" font-family=\"Times,serif\" font-size=\"14.00\">F2</text>\n",
       "</g>\n",
       "<!-- EMPTY&#45;&gt;F2 -->\n",
       "<g id=\"edge1\" class=\"edge\"><title>EMPTY&#45;&gt;F2</title>\n",
       "<path fill=\"none\" stroke=\"black\" d=\"M54.4029,-196.681C65.9878,-204.185 79.5212,-212.951 90.9474,-220.352\"/>\n",
       "<polygon fill=\"black\" stroke=\"black\" points=\"89.2858,-223.446 99.5817,-225.945 93.0913,-217.571 89.2858,-223.446\"/>\n",
       "</g>\n",
       "<!-- Fa1 -->\n",
       "<g id=\"node4\" class=\"node\"><title>Fa1</title>\n",
       "<ellipse fill=\"none\" stroke=\"black\" cx=\"117\" cy=\"-78.5795\" rx=\"24.8972\" ry=\"24.8972\"/>\n",
       "<text text-anchor=\"middle\" x=\"117\" y=\"-74.8795\" font-family=\"Times,serif\" font-size=\"14.00\">Fa1</text>\n",
       "</g>\n",
       "<!-- EMPTY&#45;&gt;Fa1 -->\n",
       "<g id=\"edge3\" class=\"edge\"><title>EMPTY&#45;&gt;Fa1</title>\n",
       "<path fill=\"none\" stroke=\"black\" d=\"M43.3452,-161.178C51.7397,-151.179 62.3641,-138.633 72,-127.579 78.6207,-119.984 85.8972,-111.812 92.5935,-104.36\"/>\n",
       "<polygon fill=\"black\" stroke=\"black\" points=\"95.4772,-106.388 99.5734,-96.6169 90.278,-101.701 95.4772,-106.388\"/>\n",
       "</g>\n",
       "<!-- F1 -->\n",
       "<g id=\"node5\" class=\"node\"><title>F1</title>\n",
       "<ellipse fill=\"none\" stroke=\"black\" cx=\"305\" cy=\"-77.5795\" rx=\"20.2975\" ry=\"20.2975\"/>\n",
       "<text text-anchor=\"middle\" x=\"305\" y=\"-73.8795\" font-family=\"Times,serif\" font-size=\"14.00\">F1</text>\n",
       "</g>\n",
       "<!-- EMPTY&#45;&gt;F1 -->\n",
       "<g id=\"edge4\" class=\"edge\"><title>EMPTY&#45;&gt;F1</title>\n",
       "<path fill=\"none\" stroke=\"black\" d=\"M54.4643,-170.942C60.2293,-169.121 66.3074,-167.248 72,-165.579 144.421,-144.355 167.037,-152.229 236,-121.579 251.66,-114.62 267.822,-104.314 280.458,-95.4259\"/>\n",
       "<polygon fill=\"black\" stroke=\"black\" points=\"282.53,-98.2464 288.593,-89.5575 278.435,-92.5693 282.53,-98.2464\"/>\n",
       "</g>\n",
       "<!-- Fa2 -->\n",
       "<g id=\"node6\" class=\"node\"><title>Fa2</title>\n",
       "<ellipse fill=\"none\" stroke=\"black\" cx=\"211\" cy=\"-324.579\" rx=\"24.8972\" ry=\"24.8972\"/>\n",
       "<text text-anchor=\"middle\" x=\"211\" y=\"-320.879\" font-family=\"Times,serif\" font-size=\"14.00\">Fa2</text>\n",
       "</g>\n",
       "<!-- EMPTY&#45;&gt;Fa2 -->\n",
       "<g id=\"edge5\" class=\"edge\"><title>EMPTY&#45;&gt;Fa2</title>\n",
       "<path fill=\"none\" stroke=\"black\" d=\"M32.5383,-197.645C40.1582,-224.093 58.125,-272.981 92,-298.579 116.017,-316.728 150.186,-322.7 175.579,-324.444\"/>\n",
       "<polygon fill=\"black\" stroke=\"black\" points=\"175.707,-327.954 185.869,-324.955 176.055,-320.963 175.707,-327.954\"/>\n",
       "</g>\n",
       "<!-- IF -->\n",
       "<g id=\"node8\" class=\"node\"><title>IF</title>\n",
       "<ellipse fill=\"none\" stroke=\"black\" cx=\"397\" cy=\"-179.579\" rx=\"18.724\" ry=\"18.724\"/>\n",
       "<ellipse fill=\"none\" stroke=\"black\" cx=\"397\" cy=\"-179.579\" rx=\"22.6977\" ry=\"22.6977\"/>\n",
       "<text text-anchor=\"middle\" x=\"397\" y=\"-175.879\" font-family=\"Times,serif\" font-size=\"14.00\">IF</text>\n",
       "</g>\n",
       "<!-- EMPTY&#45;&gt;IF -->\n",
       "<g id=\"edge2\" class=\"edge\"><title>EMPTY&#45;&gt;IF</title>\n",
       "<path fill=\"none\" stroke=\"black\" d=\"M54.1841,-179.579C71.6849,-179.579 95.2222,-179.579 116,-179.579 116,-179.579 116,-179.579 306,-179.579 325.15,-179.579 346.593,-179.579 363.743,-179.579\"/>\n",
       "<polygon fill=\"black\" stroke=\"black\" points=\"363.808,-183.08 373.808,-179.579 363.808,-176.08 363.808,-183.08\"/>\n",
       "</g>\n",
       "<!-- S01 -->\n",
       "<g id=\"node2\" class=\"node\"><title>S01</title>\n",
       "<ellipse fill=\"none\" stroke=\"black\" cx=\"211\" cy=\"-55.5795\" rx=\"24.8972\" ry=\"24.8972\"/>\n",
       "<text text-anchor=\"middle\" x=\"211\" y=\"-51.8795\" font-family=\"Times,serif\" font-size=\"14.00\">S01</text>\n",
       "</g>\n",
       "<!-- S01&#45;&gt;S01 -->\n",
       "<g id=\"edge7\" class=\"edge\"><title>S01&#45;&gt;S01</title>\n",
       "<path fill=\"none\" stroke=\"black\" d=\"M202.51,-78.4765C201.701,-88.7201 204.531,-97.5795 211,-97.5795 215.144,-97.5795 217.795,-93.9436 218.952,-88.6371\"/>\n",
       "<polygon fill=\"black\" stroke=\"black\" points=\"222.456,-88.6476 219.49,-78.4765 215.466,-88.2774 222.456,-88.6476\"/>\n",
       "<text text-anchor=\"middle\" x=\"211\" y=\"-101.379\" font-family=\"Times,serif\" font-size=\"14.00\">1</text>\n",
       "</g>\n",
       "<!-- S01&#45;&gt;Fa1 -->\n",
       "<g id=\"edge6\" class=\"edge\"><title>S01&#45;&gt;Fa1</title>\n",
       "<path fill=\"none\" stroke=\"black\" d=\"M187.232,-48.1644C178.561,-46.4312 168.681,-45.7975 160,-48.5795 154.56,-50.3228 149.225,-53.0582 144.28,-56.1836\"/>\n",
       "<polygon fill=\"black\" stroke=\"black\" points=\"142.03,-53.4866 135.861,-62.1002 146.055,-59.2137 142.03,-53.4866\"/>\n",
       "<text text-anchor=\"middle\" x=\"164\" y=\"-52.3795\" font-family=\"Times,serif\" font-size=\"14.00\">1</text>\n",
       "</g>\n",
       "<!-- S01&#45;&gt;F1 -->\n",
       "<g id=\"edge8\" class=\"edge\"><title>S01&#45;&gt;F1</title>\n",
       "<path fill=\"none\" stroke=\"black\" d=\"M235.215,-61.131C247.396,-64.0438 262.429,-67.6385 275.33,-70.7237\"/>\n",
       "<polygon fill=\"black\" stroke=\"black\" points=\"274.586,-74.1443 285.126,-73.0661 276.214,-67.3362 274.586,-74.1443\"/>\n",
       "<text text-anchor=\"middle\" x=\"258\" y=\"-71.3795\" font-family=\"Times,serif\" font-size=\"14.00\">1</text>\n",
       "</g>\n",
       "<!-- F2&#45;&gt;F2 -->\n",
       "<g id=\"edge9\" class=\"edge\"><title>F2&#45;&gt;F2</title>\n",
       "<path fill=\"none\" stroke=\"black\" d=\"M109.09,-255.349C107.746,-265.412 110.383,-274.579 117,-274.579 121.239,-274.579 123.845,-270.817 124.816,-265.467\"/>\n",
       "<polygon fill=\"black\" stroke=\"black\" points=\"128.317,-265.381 124.91,-255.349 121.318,-265.316 128.317,-265.381\"/>\n",
       "<text text-anchor=\"middle\" x=\"117\" y=\"-278.379\" font-family=\"Times,serif\" font-size=\"14.00\">1</text>\n",
       "</g>\n",
       "<!-- F2&#45;&gt;Fa2 -->\n",
       "<g id=\"edge11\" class=\"edge\"><title>F2&#45;&gt;Fa2</title>\n",
       "<path fill=\"none\" stroke=\"black\" d=\"M132.375,-250.329C146.487,-263.828 168.295,-284.687 185.207,-300.864\"/>\n",
       "<polygon fill=\"black\" stroke=\"black\" points=\"182.942,-303.541 192.587,-307.924 187.78,-298.482 182.942,-303.541\"/>\n",
       "<text text-anchor=\"middle\" x=\"164\" y=\"-287.379\" font-family=\"Times,serif\" font-size=\"14.00\">1</text>\n",
       "</g>\n",
       "<!-- F2&#45;&gt;IF -->\n",
       "<g id=\"edge10\" class=\"edge\"><title>F2&#45;&gt;IF</title>\n",
       "<path fill=\"none\" stroke=\"black\" d=\"M137.042,-234.18C177.697,-228.832 275.811,-214.715 356,-193.579 359.202,-192.736 362.514,-191.756 365.798,-190.714\"/>\n",
       "<polygon fill=\"black\" stroke=\"black\" points=\"367.068,-193.98 375.432,-187.476 364.838,-187.344 367.068,-193.98\"/>\n",
       "<text text-anchor=\"middle\" x=\"258\" y=\"-219.379\" font-family=\"Times,serif\" font-size=\"14.00\">1</text>\n",
       "</g>\n",
       "<!-- Fa1&#45;&gt;S01 -->\n",
       "<g id=\"edge12\" class=\"edge\"><title>Fa1&#45;&gt;S01</title>\n",
       "<path fill=\"none\" stroke=\"black\" d=\"M141.215,-72.7756C152.002,-70.0789 165.025,-66.8232 176.825,-63.8733\"/>\n",
       "<polygon fill=\"black\" stroke=\"black\" points=\"177.939,-67.2024 186.792,-61.3815 176.242,-60.4114 177.939,-67.2024\"/>\n",
       "<text text-anchor=\"middle\" x=\"164\" y=\"-72.3795\" font-family=\"Times,serif\" font-size=\"14.00\">0</text>\n",
       "</g>\n",
       "<!-- F1&#45;&gt;Fa1 -->\n",
       "<g id=\"edge14\" class=\"edge\"><title>F1&#45;&gt;Fa1</title>\n",
       "<path fill=\"none\" stroke=\"black\" d=\"M293.728,-60.6018C282.158,-43.3 261.586,-17.5027 236,-6.57948 215.562,2.14562 206.407,2.21693 186,-6.57948 165.617,-15.3655 148.499,-33.5993 136.537,-49.5183\"/>\n",
       "<polygon fill=\"black\" stroke=\"black\" points=\"133.406,-47.8798 130.434,-58.0492 139.099,-51.9528 133.406,-47.8798\"/>\n",
       "<text text-anchor=\"middle\" x=\"211\" y=\"-10.3795\" font-family=\"Times,serif\" font-size=\"14.00\">0</text>\n",
       "</g>\n",
       "<!-- F1&#45;&gt;F1 -->\n",
       "<g id=\"edge15\" class=\"edge\"><title>F1&#45;&gt;F1</title>\n",
       "<path fill=\"none\" stroke=\"black\" d=\"M296.788,-95.9566C295.255,-106.172 297.992,-115.579 305,-115.579 309.489,-115.579 312.226,-111.719 313.21,-106.258\"/>\n",
       "<polygon fill=\"black\" stroke=\"black\" points=\"316.71,-105.957 313.212,-95.9566 309.71,-105.956 316.71,-105.957\"/>\n",
       "<text text-anchor=\"middle\" x=\"305\" y=\"-119.379\" font-family=\"Times,serif\" font-size=\"14.00\">0</text>\n",
       "</g>\n",
       "<!-- F1&#45;&gt;IF -->\n",
       "<g id=\"edge13\" class=\"edge\"><title>F1&#45;&gt;IF</title>\n",
       "<path fill=\"none\" stroke=\"black\" d=\"M318.895,-92.1936C333.419,-108.655 357.255,-135.668 374.585,-155.309\"/>\n",
       "<polygon fill=\"black\" stroke=\"black\" points=\"372.096,-157.778 381.337,-162.961 377.345,-153.147 372.096,-157.778\"/>\n",
       "<text text-anchor=\"middle\" x=\"352\" y=\"-136.379\" font-family=\"Times,serif\" font-size=\"14.00\">0</text>\n",
       "</g>\n",
       "<!-- S10 -->\n",
       "<g id=\"node7\" class=\"node\"><title>S10</title>\n",
       "<ellipse fill=\"none\" stroke=\"black\" cx=\"305\" cy=\"-296.579\" rx=\"24.8972\" ry=\"24.8972\"/>\n",
       "<text text-anchor=\"middle\" x=\"305\" y=\"-292.879\" font-family=\"Times,serif\" font-size=\"14.00\">S10</text>\n",
       "</g>\n",
       "<!-- Fa2&#45;&gt;S10 -->\n",
       "<g id=\"edge16\" class=\"edge\"><title>Fa2&#45;&gt;S10</title>\n",
       "<path fill=\"none\" stroke=\"black\" d=\"M235.319,-319.637C243.786,-317.671 253.386,-315.242 262,-312.579 265.383,-311.534 268.886,-310.356 272.36,-309.127\"/>\n",
       "<polygon fill=\"black\" stroke=\"black\" points=\"273.782,-312.333 281.953,-305.588 271.359,-305.765 273.782,-312.333\"/>\n",
       "<text text-anchor=\"middle\" x=\"258\" y=\"-318.379\" font-family=\"Times,serif\" font-size=\"14.00\">1</text>\n",
       "</g>\n",
       "<!-- S10&#45;&gt;F2 -->\n",
       "<g id=\"edge17\" class=\"edge\"><title>S10&#45;&gt;F2</title>\n",
       "<path fill=\"none\" stroke=\"black\" d=\"M281.248,-289.24C247.214,-278.262 183.108,-257.582 146.166,-245.665\"/>\n",
       "<polygon fill=\"black\" stroke=\"black\" points=\"147.106,-242.291 136.514,-242.552 144.957,-248.953 147.106,-242.291\"/>\n",
       "<text text-anchor=\"middle\" x=\"211\" y=\"-278.379\" font-family=\"Times,serif\" font-size=\"14.00\">0</text>\n",
       "</g>\n",
       "<!-- S10&#45;&gt;Fa2 -->\n",
       "<g id=\"edge19\" class=\"edge\"><title>S10&#45;&gt;Fa2</title>\n",
       "<path fill=\"none\" stroke=\"black\" d=\"M280.635,-291.619C272.075,-290.72 262.426,-290.807 254,-293.579 248.265,-295.467 242.67,-298.472 237.531,-301.884\"/>\n",
       "<polygon fill=\"black\" stroke=\"black\" points=\"235.351,-299.143 229.368,-307.887 239.498,-304.782 235.351,-299.143\"/>\n",
       "<text text-anchor=\"middle\" x=\"258\" y=\"-297.379\" font-family=\"Times,serif\" font-size=\"14.00\">0</text>\n",
       "</g>\n",
       "<!-- S10&#45;&gt;S10 -->\n",
       "<g id=\"edge18\" class=\"edge\"><title>S10&#45;&gt;S10</title>\n",
       "<path fill=\"none\" stroke=\"black\" d=\"M296.51,-319.476C295.701,-329.72 298.531,-338.579 305,-338.579 309.144,-338.579 311.795,-334.944 312.952,-329.637\"/>\n",
       "<polygon fill=\"black\" stroke=\"black\" points=\"316.456,-329.648 313.49,-319.476 309.466,-329.277 316.456,-329.648\"/>\n",
       "<text text-anchor=\"middle\" x=\"305\" y=\"-342.379\" font-family=\"Times,serif\" font-size=\"14.00\">0</text>\n",
       "</g>\n",
       "</g>\n",
       "</svg>\n"
      ],
      "text/plain": [
       "<graphviz.dot.Digraph at 0x1127be6d8>"
      ]
     },
     "execution_count": 36,
     "metadata": {},
     "output_type": "execute_result"
    }
   ],
   "source": [
    "dotObj_nfa(rev_dfa(Eq01))"
   ]
  },
  {
   "cell_type": "code",
   "execution_count": null,
   "metadata": {
    "collapsed": true,
    "run_control": {
     "frozen": false,
     "read_only": false
    }
   },
   "outputs": [],
   "source": []
  },
  {
   "cell_type": "code",
   "execution_count": null,
   "metadata": {
    "collapsed": true,
    "run_control": {
     "frozen": false,
     "read_only": false
    }
   },
   "outputs": [],
   "source": []
  },
  {
   "cell_type": "code",
   "execution_count": 37,
   "metadata": {
    "run_control": {
     "frozen": false,
     "read_only": false
    }
   },
   "outputs": [
    {
     "data": {
      "image/svg+xml": [
       "<?xml version=\"1.0\" encoding=\"UTF-8\" standalone=\"no\"?>\n",
       "<!DOCTYPE svg PUBLIC \"-//W3C//DTD SVG 1.1//EN\"\n",
       " \"http://www.w3.org/Graphics/SVG/1.1/DTD/svg11.dtd\">\n",
       "<!-- Generated by graphviz version 2.36.0 (20140111.2315)\n",
       " -->\n",
       "<!-- Title: %3 Pages: 1 -->\n",
       "<svg width=\"342pt\" height=\"201pt\"\n",
       " viewBox=\"0.00 0.00 342.00 201.00\" xmlns=\"http://www.w3.org/2000/svg\" xmlns:xlink=\"http://www.w3.org/1999/xlink\">\n",
       "<g id=\"graph0\" class=\"graph\" transform=\"scale(1 1) rotate(0) translate(4 197)\">\n",
       "<title>%3</title>\n",
       "<polygon fill=\"white\" stroke=\"none\" points=\"-4,4 -4,-197 338,-197 338,4 -4,4\"/>\n",
       "<!-- EMPTY -->\n",
       "<g id=\"node1\" class=\"node\"><title>EMPTY</title>\n",
       "</g>\n",
       "<!-- IF -->\n",
       "<g id=\"node5\" class=\"node\"><title>IF</title>\n",
       "<ellipse fill=\"none\" stroke=\"black\" cx=\"115\" cy=\"-88\" rx=\"18.724\" ry=\"18.724\"/>\n",
       "<ellipse fill=\"none\" stroke=\"black\" cx=\"115\" cy=\"-88\" rx=\"22.6977\" ry=\"22.6977\"/>\n",
       "<text text-anchor=\"middle\" x=\"115\" y=\"-84.3\" font-family=\"Times,serif\" font-size=\"14.00\">IF</text>\n",
       "</g>\n",
       "<!-- EMPTY&#45;&gt;IF -->\n",
       "<g id=\"edge1\" class=\"edge\"><title>EMPTY&#45;&gt;IF</title>\n",
       "<path fill=\"none\" stroke=\"black\" d=\"M54.2701,-88C62.933,-88 72.6692,-88 81.7271,-88\"/>\n",
       "<polygon fill=\"black\" stroke=\"black\" points=\"81.9436,-91.5001 91.9436,-88 81.9436,-84.5001 81.9436,-91.5001\"/>\n",
       "</g>\n",
       "<!-- S10 -->\n",
       "<g id=\"node2\" class=\"node\"><title>S10</title>\n",
       "<ellipse fill=\"none\" stroke=\"black\" cx=\"309\" cy=\"-136\" rx=\"24.8972\" ry=\"24.8972\"/>\n",
       "<text text-anchor=\"middle\" x=\"309\" y=\"-132.3\" font-family=\"Times,serif\" font-size=\"14.00\">S10</text>\n",
       "</g>\n",
       "<!-- S10&#45;&gt;S10 -->\n",
       "<g id=\"edge9\" class=\"edge\"><title>S10&#45;&gt;S10</title>\n",
       "<path fill=\"none\" stroke=\"black\" d=\"M300.51,-158.897C299.701,-169.141 302.531,-178 309,-178 313.144,-178 315.795,-174.364 316.952,-169.058\"/>\n",
       "<polygon fill=\"black\" stroke=\"black\" points=\"320.456,-169.068 317.49,-158.897 313.466,-168.698 320.456,-169.068\"/>\n",
       "<text text-anchor=\"middle\" x=\"309\" y=\"-181.8\" font-family=\"Times,serif\" font-size=\"14.00\">0</text>\n",
       "</g>\n",
       "<!-- F2 -->\n",
       "<g id=\"node4\" class=\"node\"><title>F2</title>\n",
       "<ellipse fill=\"none\" stroke=\"black\" cx=\"211\" cy=\"-132\" rx=\"20.2726\" ry=\"20.2726\"/>\n",
       "<ellipse fill=\"none\" stroke=\"black\" cx=\"211\" cy=\"-132\" rx=\"24.2973\" ry=\"24.2973\"/>\n",
       "<text text-anchor=\"middle\" x=\"211\" y=\"-128.3\" font-family=\"Times,serif\" font-size=\"14.00\">F2</text>\n",
       "</g>\n",
       "<!-- S10&#45;&gt;F2 -->\n",
       "<g id=\"edge11\" class=\"edge\"><title>S10&#45;&gt;F2</title>\n",
       "<path fill=\"none\" stroke=\"black\" d=\"M287.361,-123.309C280.777,-119.92 273.3,-116.723 266,-115 258.063,-113.126 249.599,-114.253 241.783,-116.632\"/>\n",
       "<polygon fill=\"black\" stroke=\"black\" points=\"240.451,-113.393 232.318,-120.183 242.91,-119.947 240.451,-113.393\"/>\n",
       "<text text-anchor=\"middle\" x=\"262\" y=\"-118.8\" font-family=\"Times,serif\" font-size=\"14.00\">1</text>\n",
       "</g>\n",
       "<!-- S01 -->\n",
       "<g id=\"node3\" class=\"node\"><title>S01</title>\n",
       "<ellipse fill=\"none\" stroke=\"black\" cx=\"309\" cy=\"-30\" rx=\"24.8972\" ry=\"24.8972\"/>\n",
       "<text text-anchor=\"middle\" x=\"309\" y=\"-26.3\" font-family=\"Times,serif\" font-size=\"14.00\">S01</text>\n",
       "</g>\n",
       "<!-- S01&#45;&gt;S01 -->\n",
       "<g id=\"edge8\" class=\"edge\"><title>S01&#45;&gt;S01</title>\n",
       "<path fill=\"none\" stroke=\"black\" d=\"M300.51,-52.897C299.701,-63.1406 302.531,-72 309,-72 313.144,-72 315.795,-68.3641 316.952,-63.0576\"/>\n",
       "<polygon fill=\"black\" stroke=\"black\" points=\"320.456,-63.0681 317.49,-52.897 313.466,-62.6979 320.456,-63.0681\"/>\n",
       "<text text-anchor=\"middle\" x=\"309\" y=\"-75.8\" font-family=\"Times,serif\" font-size=\"14.00\">1</text>\n",
       "</g>\n",
       "<!-- Fa1 -->\n",
       "<g id=\"node6\" class=\"node\"><title>Fa1</title>\n",
       "<ellipse fill=\"none\" stroke=\"black\" cx=\"211\" cy=\"-28\" rx=\"24.8692\" ry=\"24.8692\"/>\n",
       "<ellipse fill=\"none\" stroke=\"black\" cx=\"211\" cy=\"-28\" rx=\"28.897\" ry=\"28.897\"/>\n",
       "<text text-anchor=\"middle\" x=\"211\" y=\"-24.3\" font-family=\"Times,serif\" font-size=\"14.00\">Fa1</text>\n",
       "</g>\n",
       "<!-- S01&#45;&gt;Fa1 -->\n",
       "<g id=\"edge10\" class=\"edge\"><title>S01&#45;&gt;Fa1</title>\n",
       "<path fill=\"none\" stroke=\"black\" d=\"M286.202,-19.9777C279.826,-17.5217 272.753,-15.2427 266,-14 259.959,-12.8883 253.597,-13.1867 247.444,-14.2648\"/>\n",
       "<polygon fill=\"black\" stroke=\"black\" points=\"246.273,-10.947 237.379,-16.7038 247.922,-17.7501 246.273,-10.947\"/>\n",
       "<text text-anchor=\"middle\" x=\"262\" y=\"-17.8\" font-family=\"Times,serif\" font-size=\"14.00\">0</text>\n",
       "</g>\n",
       "<!-- F2&#45;&gt;S10 -->\n",
       "<g id=\"edge7\" class=\"edge\"><title>F2&#45;&gt;S10</title>\n",
       "<path fill=\"none\" stroke=\"black\" d=\"M235.239,-132.968C246.857,-133.452 261.141,-134.048 273.967,-134.582\"/>\n",
       "<polygon fill=\"black\" stroke=\"black\" points=\"274.171,-138.093 284.308,-135.013 274.463,-131.099 274.171,-138.093\"/>\n",
       "<text text-anchor=\"middle\" x=\"262\" y=\"-137.8\" font-family=\"Times,serif\" font-size=\"14.00\">0</text>\n",
       "</g>\n",
       "<!-- F2&#45;&gt;F2 -->\n",
       "<g id=\"edge5\" class=\"edge\"><title>F2&#45;&gt;F2</title>\n",
       "<path fill=\"none\" stroke=\"black\" d=\"M201.81,-154.469C200.808,-164.893 203.871,-174 211,-174 215.567,-174 218.465,-170.262 219.695,-164.836\"/>\n",
       "<polygon fill=\"black\" stroke=\"black\" points=\"223.209,-164.625 220.19,-154.469 216.217,-164.291 223.209,-164.625\"/>\n",
       "<text text-anchor=\"middle\" x=\"211\" y=\"-177.8\" font-family=\"Times,serif\" font-size=\"14.00\">1</text>\n",
       "</g>\n",
       "<!-- IF&#45;&gt;F2 -->\n",
       "<g id=\"edge3\" class=\"edge\"><title>IF&#45;&gt;F2</title>\n",
       "<path fill=\"none\" stroke=\"black\" d=\"M135.935,-97.3313C148.546,-103.234 165.1,-110.983 179.359,-117.657\"/>\n",
       "<polygon fill=\"black\" stroke=\"black\" points=\"178.247,-121.001 188.787,-122.071 181.214,-114.661 178.247,-121.001\"/>\n",
       "<text text-anchor=\"middle\" x=\"160\" y=\"-113.8\" font-family=\"Times,serif\" font-size=\"14.00\">1</text>\n",
       "</g>\n",
       "<!-- IF&#45;&gt;Fa1 -->\n",
       "<g id=\"edge2\" class=\"edge\"><title>IF&#45;&gt;Fa1</title>\n",
       "<path fill=\"none\" stroke=\"black\" d=\"M134.571,-76.1459C146.889,-68.2835 163.38,-57.7575 177.801,-48.5528\"/>\n",
       "<polygon fill=\"black\" stroke=\"black\" points=\"179.91,-51.3587 186.456,-43.028 176.144,-45.4582 179.91,-51.3587\"/>\n",
       "<text text-anchor=\"middle\" x=\"160\" y=\"-65.8\" font-family=\"Times,serif\" font-size=\"14.00\">0</text>\n",
       "</g>\n",
       "<!-- Fa1&#45;&gt;S01 -->\n",
       "<g id=\"edge6\" class=\"edge\"><title>Fa1&#45;&gt;S01</title>\n",
       "<path fill=\"none\" stroke=\"black\" d=\"M239.433,-31.907C247.935,-32.7499 257.344,-33.3088 266,-33 268.557,-32.9088 271.2,-32.7865 273.857,-32.6432\"/>\n",
       "<polygon fill=\"black\" stroke=\"black\" points=\"274.266,-36.1246 284.028,-32.0086 273.83,-29.1382 274.266,-36.1246\"/>\n",
       "<text text-anchor=\"middle\" x=\"262\" y=\"-37.8\" font-family=\"Times,serif\" font-size=\"14.00\">1</text>\n",
       "</g>\n",
       "<!-- Fa1&#45;&gt;Fa1 -->\n",
       "<g id=\"edge4\" class=\"edge\"><title>Fa1&#45;&gt;Fa1</title>\n",
       "<path fill=\"none\" stroke=\"black\" d=\"M201.662,-54.9321C201.247,-65.3451 204.359,-74 211,-74 215.254,-74 218.06,-70.448 219.419,-65.1573\"/>\n",
       "<polygon fill=\"black\" stroke=\"black\" points=\"222.929,-65.2054 220.338,-54.9321 215.957,-64.5784 222.929,-65.2054\"/>\n",
       "<text text-anchor=\"middle\" x=\"211\" y=\"-77.8\" font-family=\"Times,serif\" font-size=\"14.00\">0</text>\n",
       "</g>\n",
       "</g>\n",
       "</svg>\n"
      ],
      "text/plain": [
       "<graphviz.dot.Digraph at 0x1127be940>"
      ]
     },
     "execution_count": 37,
     "metadata": {},
     "output_type": "execute_result"
    }
   ],
   "source": [
    "dotObj_dfa(min_dfa(Eq01))"
   ]
  },
  {
   "cell_type": "code",
   "execution_count": 38,
   "metadata": {
    "run_control": {
     "frozen": false,
     "read_only": false
    }
   },
   "outputs": [
    {
     "data": {
      "image/svg+xml": [
       "<?xml version=\"1.0\" encoding=\"UTF-8\" standalone=\"no\"?>\n",
       "<!DOCTYPE svg PUBLIC \"-//W3C//DTD SVG 1.1//EN\"\n",
       " \"http://www.w3.org/Graphics/SVG/1.1/DTD/svg11.dtd\">\n",
       "<!-- Generated by graphviz version 2.36.0 (20140111.2315)\n",
       " -->\n",
       "<!-- Title: %3 Pages: 1 -->\n",
       "<svg width=\"342pt\" height=\"197pt\"\n",
       " viewBox=\"0.00 0.00 342.00 197.00\" xmlns=\"http://www.w3.org/2000/svg\" xmlns:xlink=\"http://www.w3.org/1999/xlink\">\n",
       "<g id=\"graph0\" class=\"graph\" transform=\"scale(1 1) rotate(0) translate(4 193)\">\n",
       "<title>%3</title>\n",
       "<polygon fill=\"white\" stroke=\"none\" points=\"-4,4 -4,-193 338,-193 338,4 -4,4\"/>\n",
       "<!-- EMPTY -->\n",
       "<g id=\"node1\" class=\"node\"><title>EMPTY</title>\n",
       "</g>\n",
       "<!-- St0 -->\n",
       "<g id=\"node4\" class=\"node\"><title>St0</title>\n",
       "<ellipse fill=\"none\" stroke=\"black\" cx=\"119\" cy=\"-86\" rx=\"22.9609\" ry=\"22.9609\"/>\n",
       "<ellipse fill=\"none\" stroke=\"black\" cx=\"119\" cy=\"-86\" rx=\"26.9983\" ry=\"26.9983\"/>\n",
       "<text text-anchor=\"middle\" x=\"119\" y=\"-82.3\" font-family=\"Times,serif\" font-size=\"14.00\">St0</text>\n",
       "</g>\n",
       "<!-- EMPTY&#45;&gt;St0 -->\n",
       "<g id=\"edge1\" class=\"edge\"><title>EMPTY&#45;&gt;St0</title>\n",
       "<path fill=\"none\" stroke=\"black\" d=\"M54.0317,-86C62.7072,-86 72.5339,-86 81.8363,-86\"/>\n",
       "<polygon fill=\"black\" stroke=\"black\" points=\"82.0268,-89.5001 92.0268,-86 82.0267,-82.5001 82.0268,-89.5001\"/>\n",
       "</g>\n",
       "<!-- St1 -->\n",
       "<g id=\"node2\" class=\"node\"><title>St1</title>\n",
       "<ellipse fill=\"none\" stroke=\"black\" cx=\"311\" cy=\"-30\" rx=\"22.9987\" ry=\"22.9987\"/>\n",
       "<text text-anchor=\"middle\" x=\"311\" y=\"-26.3\" font-family=\"Times,serif\" font-size=\"14.00\">St1</text>\n",
       "</g>\n",
       "<!-- St1&#45;&gt;St1 -->\n",
       "<g id=\"edge9\" class=\"edge\"><title>St1&#45;&gt;St1</title>\n",
       "<path fill=\"none\" stroke=\"black\" d=\"M302.951,-50.9908C301.958,-61.0872 304.641,-70 311,-70 315.074,-70 317.639,-66.3422 318.695,-61.0587\"/>\n",
       "<polygon fill=\"black\" stroke=\"black\" points=\"322.196,-61.1073 319.049,-50.9908 315.2,-60.8619 322.196,-61.1073\"/>\n",
       "<text text-anchor=\"middle\" x=\"311\" y=\"-73.8\" font-family=\"Times,serif\" font-size=\"14.00\">0</text>\n",
       "</g>\n",
       "<!-- St2 -->\n",
       "<g id=\"node6\" class=\"node\"><title>St2</title>\n",
       "<ellipse fill=\"none\" stroke=\"black\" cx=\"217\" cy=\"-26\" rx=\"22.9609\" ry=\"22.9609\"/>\n",
       "<ellipse fill=\"none\" stroke=\"black\" cx=\"217\" cy=\"-26\" rx=\"26.9983\" ry=\"26.9983\"/>\n",
       "<text text-anchor=\"middle\" x=\"217\" y=\"-22.3\" font-family=\"Times,serif\" font-size=\"14.00\">St2</text>\n",
       "</g>\n",
       "<!-- St1&#45;&gt;St2 -->\n",
       "<g id=\"edge8\" class=\"edge\"><title>St1&#45;&gt;St2</title>\n",
       "<path fill=\"none\" stroke=\"black\" d=\"M290.568,-19.8936C284.189,-17.0837 276.95,-14.4156 270,-13 264.042,-11.7864 257.737,-12.0393 251.651,-13.0891\"/>\n",
       "<polygon fill=\"black\" stroke=\"black\" points=\"250.614,-9.73907 241.716,-15.4901 252.258,-16.5432 250.614,-9.73907\"/>\n",
       "<text text-anchor=\"middle\" x=\"266\" y=\"-16.8\" font-family=\"Times,serif\" font-size=\"14.00\">1</text>\n",
       "</g>\n",
       "<!-- St3 -->\n",
       "<g id=\"node3\" class=\"node\"><title>St3</title>\n",
       "<ellipse fill=\"none\" stroke=\"black\" cx=\"311\" cy=\"-133\" rx=\"22.9987\" ry=\"22.9987\"/>\n",
       "<text text-anchor=\"middle\" x=\"311\" y=\"-129.3\" font-family=\"Times,serif\" font-size=\"14.00\">St3</text>\n",
       "</g>\n",
       "<!-- St3&#45;&gt;St3 -->\n",
       "<g id=\"edge10\" class=\"edge\"><title>St3&#45;&gt;St3</title>\n",
       "<path fill=\"none\" stroke=\"black\" d=\"M302.951,-153.991C301.958,-164.087 304.641,-173 311,-173 315.074,-173 317.639,-169.342 318.695,-164.059\"/>\n",
       "<polygon fill=\"black\" stroke=\"black\" points=\"322.196,-164.107 319.049,-153.991 315.2,-163.862 322.196,-164.107\"/>\n",
       "<text text-anchor=\"middle\" x=\"311\" y=\"-176.8\" font-family=\"Times,serif\" font-size=\"14.00\">1</text>\n",
       "</g>\n",
       "<!-- St4 -->\n",
       "<g id=\"node5\" class=\"node\"><title>St4</title>\n",
       "<ellipse fill=\"none\" stroke=\"black\" cx=\"217\" cy=\"-130\" rx=\"22.9609\" ry=\"22.9609\"/>\n",
       "<ellipse fill=\"none\" stroke=\"black\" cx=\"217\" cy=\"-130\" rx=\"26.9983\" ry=\"26.9983\"/>\n",
       "<text text-anchor=\"middle\" x=\"217\" y=\"-126.3\" font-family=\"Times,serif\" font-size=\"14.00\">St4</text>\n",
       "</g>\n",
       "<!-- St3&#45;&gt;St4 -->\n",
       "<g id=\"edge11\" class=\"edge\"><title>St3&#45;&gt;St4</title>\n",
       "<path fill=\"none\" stroke=\"black\" d=\"M291.626,-120.979C285.074,-117.349 277.463,-113.84 270,-112 263.269,-110.341 256.177,-111.068 249.468,-112.963\"/>\n",
       "<polygon fill=\"black\" stroke=\"black\" points=\"248.185,-109.705 240,-116.431 250.593,-116.278 248.185,-109.705\"/>\n",
       "<text text-anchor=\"middle\" x=\"266\" y=\"-115.8\" font-family=\"Times,serif\" font-size=\"14.00\">0</text>\n",
       "</g>\n",
       "<!-- St0&#45;&gt;St4 -->\n",
       "<g id=\"edge3\" class=\"edge\"><title>St0&#45;&gt;St4</title>\n",
       "<path fill=\"none\" stroke=\"black\" d=\"M143.73,-96.8764C155.704,-102.365 170.413,-109.106 183.428,-115.071\"/>\n",
       "<polygon fill=\"black\" stroke=\"black\" points=\"181.994,-118.264 192.543,-119.249 184.91,-111.9 181.994,-118.264\"/>\n",
       "<text text-anchor=\"middle\" x=\"168\" y=\"-112.8\" font-family=\"Times,serif\" font-size=\"14.00\">0</text>\n",
       "</g>\n",
       "<!-- St0&#45;&gt;St2 -->\n",
       "<g id=\"edge2\" class=\"edge\"><title>St0&#45;&gt;St2</title>\n",
       "<path fill=\"none\" stroke=\"black\" d=\"M142.266,-72.084C154.988,-64.1326 171.135,-54.0409 185.073,-45.3295\"/>\n",
       "<polygon fill=\"black\" stroke=\"black\" points=\"187.23,-48.1086 193.855,-39.8405 183.52,-42.1726 187.23,-48.1086\"/>\n",
       "<text text-anchor=\"middle\" x=\"168\" y=\"-60.8\" font-family=\"Times,serif\" font-size=\"14.00\">1</text>\n",
       "</g>\n",
       "<!-- St4&#45;&gt;St3 -->\n",
       "<g id=\"edge6\" class=\"edge\"><title>St4&#45;&gt;St3</title>\n",
       "<path fill=\"none\" stroke=\"black\" d=\"M244.117,-130.852C254.665,-131.196 266.939,-131.596 278.015,-131.957\"/>\n",
       "<polygon fill=\"black\" stroke=\"black\" points=\"278.063,-135.46 288.172,-132.288 278.291,-128.464 278.063,-135.46\"/>\n",
       "<text text-anchor=\"middle\" x=\"266\" y=\"-134.8\" font-family=\"Times,serif\" font-size=\"14.00\">1</text>\n",
       "</g>\n",
       "<!-- St4&#45;&gt;St4 -->\n",
       "<g id=\"edge7\" class=\"edge\"><title>St4&#45;&gt;St4</title>\n",
       "<path fill=\"none\" stroke=\"black\" d=\"M208.079,-154.878C207.464,-165.227 210.438,-174 217,-174 221.204,-174 223.935,-170.4 225.194,-165.091\"/>\n",
       "<polygon fill=\"black\" stroke=\"black\" points=\"228.702,-165.101 225.921,-154.878 221.719,-164.604 228.702,-165.101\"/>\n",
       "<text text-anchor=\"middle\" x=\"217\" y=\"-177.8\" font-family=\"Times,serif\" font-size=\"14.00\">0</text>\n",
       "</g>\n",
       "<!-- St2&#45;&gt;St1 -->\n",
       "<g id=\"edge5\" class=\"edge\"><title>St2&#45;&gt;St1</title>\n",
       "<path fill=\"none\" stroke=\"black\" d=\"M243.533,-30.0778C249.572,-30.8768 256,-31.5928 262,-32 265.547,-32.2408 266.446,-32.0888 270,-32 272.554,-31.9362 275.2,-31.8495 277.857,-31.7477\"/>\n",
       "<polygon fill=\"black\" stroke=\"black\" points=\"278.166,-35.2376 288.001,-31.2978 277.856,-28.2445 278.166,-35.2376\"/>\n",
       "<text text-anchor=\"middle\" x=\"266\" y=\"-35.8\" font-family=\"Times,serif\" font-size=\"14.00\">0</text>\n",
       "</g>\n",
       "<!-- St2&#45;&gt;St2 -->\n",
       "<g id=\"edge4\" class=\"edge\"><title>St2&#45;&gt;St2</title>\n",
       "<path fill=\"none\" stroke=\"black\" d=\"M208.079,-50.8781C207.464,-61.2272 210.438,-70 217,-70 221.204,-70 223.935,-66.3996 225.194,-61.091\"/>\n",
       "<polygon fill=\"black\" stroke=\"black\" points=\"228.702,-61.1014 225.921,-50.8781 221.719,-60.6042 228.702,-61.1014\"/>\n",
       "<text text-anchor=\"middle\" x=\"217\" y=\"-73.8\" font-family=\"Times,serif\" font-size=\"14.00\">1</text>\n",
       "</g>\n",
       "</g>\n",
       "</svg>\n"
      ],
      "text/plain": [
       "<graphviz.dot.Digraph at 0x1127bec18>"
      ]
     },
     "execution_count": 38,
     "metadata": {},
     "output_type": "execute_result"
    }
   ],
   "source": [
    "dotObj_dfa(nfa2dfa(rev_dfa(Eq01)))"
   ]
  },
  {
   "cell_type": "code",
   "execution_count": 39,
   "metadata": {
    "run_control": {
     "frozen": false,
     "read_only": false
    }
   },
   "outputs": [
    {
     "data": {
      "image/svg+xml": [
       "<?xml version=\"1.0\" encoding=\"UTF-8\" standalone=\"no\"?>\n",
       "<!DOCTYPE svg PUBLIC \"-//W3C//DTD SVG 1.1//EN\"\n",
       " \"http://www.w3.org/Graphics/SVG/1.1/DTD/svg11.dtd\">\n",
       "<!-- Generated by graphviz version 2.36.0 (20140111.2315)\n",
       " -->\n",
       "<!-- Title: %3 Pages: 1 -->\n",
       "<svg width=\"342pt\" height=\"197pt\"\n",
       " viewBox=\"0.00 0.00 342.00 197.00\" xmlns=\"http://www.w3.org/2000/svg\" xmlns:xlink=\"http://www.w3.org/1999/xlink\">\n",
       "<g id=\"graph0\" class=\"graph\" transform=\"scale(1 1) rotate(0) translate(4 193)\">\n",
       "<title>%3</title>\n",
       "<polygon fill=\"white\" stroke=\"none\" points=\"-4,4 -4,-193 338,-193 338,4 -4,4\"/>\n",
       "<!-- EMPTY -->\n",
       "<g id=\"node1\" class=\"node\"><title>EMPTY</title>\n",
       "</g>\n",
       "<!-- St0 -->\n",
       "<g id=\"node4\" class=\"node\"><title>St0</title>\n",
       "<ellipse fill=\"none\" stroke=\"black\" cx=\"119\" cy=\"-86\" rx=\"22.9609\" ry=\"22.9609\"/>\n",
       "<ellipse fill=\"none\" stroke=\"black\" cx=\"119\" cy=\"-86\" rx=\"26.9983\" ry=\"26.9983\"/>\n",
       "<text text-anchor=\"middle\" x=\"119\" y=\"-82.3\" font-family=\"Times,serif\" font-size=\"14.00\">St0</text>\n",
       "</g>\n",
       "<!-- EMPTY&#45;&gt;St0 -->\n",
       "<g id=\"edge1\" class=\"edge\"><title>EMPTY&#45;&gt;St0</title>\n",
       "<path fill=\"none\" stroke=\"black\" d=\"M54.0317,-86C62.7072,-86 72.5339,-86 81.8363,-86\"/>\n",
       "<polygon fill=\"black\" stroke=\"black\" points=\"82.0268,-89.5001 92.0268,-86 82.0267,-82.5001 82.0268,-89.5001\"/>\n",
       "</g>\n",
       "<!-- St1 -->\n",
       "<g id=\"node2\" class=\"node\"><title>St1</title>\n",
       "<ellipse fill=\"none\" stroke=\"black\" cx=\"311\" cy=\"-30\" rx=\"22.9987\" ry=\"22.9987\"/>\n",
       "<text text-anchor=\"middle\" x=\"311\" y=\"-26.3\" font-family=\"Times,serif\" font-size=\"14.00\">St1</text>\n",
       "</g>\n",
       "<!-- St1&#45;&gt;St1 -->\n",
       "<g id=\"edge9\" class=\"edge\"><title>St1&#45;&gt;St1</title>\n",
       "<path fill=\"none\" stroke=\"black\" d=\"M302.951,-50.9908C301.958,-61.0872 304.641,-70 311,-70 315.074,-70 317.639,-66.3422 318.695,-61.0587\"/>\n",
       "<polygon fill=\"black\" stroke=\"black\" points=\"322.196,-61.1073 319.049,-50.9908 315.2,-60.8619 322.196,-61.1073\"/>\n",
       "<text text-anchor=\"middle\" x=\"311\" y=\"-73.8\" font-family=\"Times,serif\" font-size=\"14.00\">0</text>\n",
       "</g>\n",
       "<!-- St2 -->\n",
       "<g id=\"node6\" class=\"node\"><title>St2</title>\n",
       "<ellipse fill=\"none\" stroke=\"black\" cx=\"217\" cy=\"-26\" rx=\"22.9609\" ry=\"22.9609\"/>\n",
       "<ellipse fill=\"none\" stroke=\"black\" cx=\"217\" cy=\"-26\" rx=\"26.9983\" ry=\"26.9983\"/>\n",
       "<text text-anchor=\"middle\" x=\"217\" y=\"-22.3\" font-family=\"Times,serif\" font-size=\"14.00\">St2</text>\n",
       "</g>\n",
       "<!-- St1&#45;&gt;St2 -->\n",
       "<g id=\"edge8\" class=\"edge\"><title>St1&#45;&gt;St2</title>\n",
       "<path fill=\"none\" stroke=\"black\" d=\"M290.568,-19.8936C284.189,-17.0837 276.95,-14.4156 270,-13 264.042,-11.7864 257.737,-12.0393 251.651,-13.0891\"/>\n",
       "<polygon fill=\"black\" stroke=\"black\" points=\"250.614,-9.73907 241.716,-15.4901 252.258,-16.5432 250.614,-9.73907\"/>\n",
       "<text text-anchor=\"middle\" x=\"266\" y=\"-16.8\" font-family=\"Times,serif\" font-size=\"14.00\">1</text>\n",
       "</g>\n",
       "<!-- St3 -->\n",
       "<g id=\"node3\" class=\"node\"><title>St3</title>\n",
       "<ellipse fill=\"none\" stroke=\"black\" cx=\"311\" cy=\"-133\" rx=\"22.9987\" ry=\"22.9987\"/>\n",
       "<text text-anchor=\"middle\" x=\"311\" y=\"-129.3\" font-family=\"Times,serif\" font-size=\"14.00\">St3</text>\n",
       "</g>\n",
       "<!-- St3&#45;&gt;St3 -->\n",
       "<g id=\"edge10\" class=\"edge\"><title>St3&#45;&gt;St3</title>\n",
       "<path fill=\"none\" stroke=\"black\" d=\"M302.951,-153.991C301.958,-164.087 304.641,-173 311,-173 315.074,-173 317.639,-169.342 318.695,-164.059\"/>\n",
       "<polygon fill=\"black\" stroke=\"black\" points=\"322.196,-164.107 319.049,-153.991 315.2,-163.862 322.196,-164.107\"/>\n",
       "<text text-anchor=\"middle\" x=\"311\" y=\"-176.8\" font-family=\"Times,serif\" font-size=\"14.00\">1</text>\n",
       "</g>\n",
       "<!-- St4 -->\n",
       "<g id=\"node5\" class=\"node\"><title>St4</title>\n",
       "<ellipse fill=\"none\" stroke=\"black\" cx=\"217\" cy=\"-130\" rx=\"22.9609\" ry=\"22.9609\"/>\n",
       "<ellipse fill=\"none\" stroke=\"black\" cx=\"217\" cy=\"-130\" rx=\"26.9983\" ry=\"26.9983\"/>\n",
       "<text text-anchor=\"middle\" x=\"217\" y=\"-126.3\" font-family=\"Times,serif\" font-size=\"14.00\">St4</text>\n",
       "</g>\n",
       "<!-- St3&#45;&gt;St4 -->\n",
       "<g id=\"edge11\" class=\"edge\"><title>St3&#45;&gt;St4</title>\n",
       "<path fill=\"none\" stroke=\"black\" d=\"M291.626,-120.979C285.074,-117.349 277.463,-113.84 270,-112 263.269,-110.341 256.177,-111.068 249.468,-112.963\"/>\n",
       "<polygon fill=\"black\" stroke=\"black\" points=\"248.185,-109.705 240,-116.431 250.593,-116.278 248.185,-109.705\"/>\n",
       "<text text-anchor=\"middle\" x=\"266\" y=\"-115.8\" font-family=\"Times,serif\" font-size=\"14.00\">0</text>\n",
       "</g>\n",
       "<!-- St0&#45;&gt;St4 -->\n",
       "<g id=\"edge3\" class=\"edge\"><title>St0&#45;&gt;St4</title>\n",
       "<path fill=\"none\" stroke=\"black\" d=\"M143.73,-96.8764C155.704,-102.365 170.413,-109.106 183.428,-115.071\"/>\n",
       "<polygon fill=\"black\" stroke=\"black\" points=\"181.994,-118.264 192.543,-119.249 184.91,-111.9 181.994,-118.264\"/>\n",
       "<text text-anchor=\"middle\" x=\"168\" y=\"-112.8\" font-family=\"Times,serif\" font-size=\"14.00\">0</text>\n",
       "</g>\n",
       "<!-- St0&#45;&gt;St2 -->\n",
       "<g id=\"edge2\" class=\"edge\"><title>St0&#45;&gt;St2</title>\n",
       "<path fill=\"none\" stroke=\"black\" d=\"M142.266,-72.084C154.988,-64.1326 171.135,-54.0409 185.073,-45.3295\"/>\n",
       "<polygon fill=\"black\" stroke=\"black\" points=\"187.23,-48.1086 193.855,-39.8405 183.52,-42.1726 187.23,-48.1086\"/>\n",
       "<text text-anchor=\"middle\" x=\"168\" y=\"-60.8\" font-family=\"Times,serif\" font-size=\"14.00\">1</text>\n",
       "</g>\n",
       "<!-- St4&#45;&gt;St3 -->\n",
       "<g id=\"edge6\" class=\"edge\"><title>St4&#45;&gt;St3</title>\n",
       "<path fill=\"none\" stroke=\"black\" d=\"M244.117,-130.852C254.665,-131.196 266.939,-131.596 278.015,-131.957\"/>\n",
       "<polygon fill=\"black\" stroke=\"black\" points=\"278.063,-135.46 288.172,-132.288 278.291,-128.464 278.063,-135.46\"/>\n",
       "<text text-anchor=\"middle\" x=\"266\" y=\"-134.8\" font-family=\"Times,serif\" font-size=\"14.00\">1</text>\n",
       "</g>\n",
       "<!-- St4&#45;&gt;St4 -->\n",
       "<g id=\"edge7\" class=\"edge\"><title>St4&#45;&gt;St4</title>\n",
       "<path fill=\"none\" stroke=\"black\" d=\"M208.079,-154.878C207.464,-165.227 210.438,-174 217,-174 221.204,-174 223.935,-170.4 225.194,-165.091\"/>\n",
       "<polygon fill=\"black\" stroke=\"black\" points=\"228.702,-165.101 225.921,-154.878 221.719,-164.604 228.702,-165.101\"/>\n",
       "<text text-anchor=\"middle\" x=\"217\" y=\"-177.8\" font-family=\"Times,serif\" font-size=\"14.00\">0</text>\n",
       "</g>\n",
       "<!-- St2&#45;&gt;St1 -->\n",
       "<g id=\"edge5\" class=\"edge\"><title>St2&#45;&gt;St1</title>\n",
       "<path fill=\"none\" stroke=\"black\" d=\"M243.533,-30.0778C249.572,-30.8768 256,-31.5928 262,-32 265.547,-32.2408 266.446,-32.0888 270,-32 272.554,-31.9362 275.2,-31.8495 277.857,-31.7477\"/>\n",
       "<polygon fill=\"black\" stroke=\"black\" points=\"278.166,-35.2376 288.001,-31.2978 277.856,-28.2445 278.166,-35.2376\"/>\n",
       "<text text-anchor=\"middle\" x=\"266\" y=\"-35.8\" font-family=\"Times,serif\" font-size=\"14.00\">0</text>\n",
       "</g>\n",
       "<!-- St2&#45;&gt;St2 -->\n",
       "<g id=\"edge4\" class=\"edge\"><title>St2&#45;&gt;St2</title>\n",
       "<path fill=\"none\" stroke=\"black\" d=\"M208.079,-50.8781C207.464,-61.2272 210.438,-70 217,-70 221.204,-70 223.935,-66.3996 225.194,-61.091\"/>\n",
       "<polygon fill=\"black\" stroke=\"black\" points=\"228.702,-61.1014 225.921,-50.8781 221.719,-60.6042 228.702,-61.1014\"/>\n",
       "<text text-anchor=\"middle\" x=\"217\" y=\"-73.8\" font-family=\"Times,serif\" font-size=\"14.00\">1</text>\n",
       "</g>\n",
       "</g>\n",
       "</svg>\n"
      ],
      "text/plain": [
       "<graphviz.dot.Digraph at 0x1127be160>"
      ]
     },
     "execution_count": 39,
     "metadata": {},
     "output_type": "execute_result"
    }
   ],
   "source": [
    "dotObj_dfa(nfa2dfa(rev_dfa(Eq01)))"
   ]
  },
  {
   "cell_type": "code",
   "execution_count": 40,
   "metadata": {
    "run_control": {
     "frozen": false,
     "read_only": false
    }
   },
   "outputs": [
    {
     "name": "stdout",
     "output_type": "stream",
     "text": [
      "**** Eliminating state S01 ****\n",
      "**** Eliminating state F2 ****\n",
      "**** Eliminating state IF ****\n",
      "**** Eliminating state Fa1 ****\n",
      "**** Eliminating state F1 ****\n",
      "**** Eliminating state Fa2 ****\n",
      "**** Eliminating state S10 ****\n"
     ]
    }
   ],
   "source": [
    "(G, DO, RE) = del_gnfa_states(mk_gnfa(dfa2nfa(Eq01)))"
   ]
  },
  {
   "cell_type": "code",
   "execution_count": 41,
   "metadata": {
    "run_control": {
     "frozen": false,
     "read_only": false
    }
   },
   "outputs": [
    {
     "data": {
      "text/plain": [
       "'((((1 ((1)* 0)) (((((1 (((1 ((1)* 0)) + 0) + 0)) + 0) + 0))* (1 (((1 (1)*) + \"\") + \"\")))) + (((0 ((((((1 ((1)* 0)) (((1 ((1)* 0)))* 0)) + 0) + 0))* ((((1 ((1)* 0)) ((1 ((1)* 0)))*) + \"\") + \"\"))) + (((1 (1)*) + \"\") + \"\")) + (((1 (1)*) + \"\") + \"\"))) + (((0 ((((((1 ((1)* 0)) (((1 ((1)* 0)))* 0)) + 0) + 0))* ((((1 ((1)* 0)) ((1 ((1)* 0)))*) + \"\") + \"\"))) + (((1 (1)*) + \"\") + \"\")) + (((1 (1)*) + \"\") + \"\")))'"
      ]
     },
     "execution_count": 41,
     "metadata": {},
     "output_type": "execute_result"
    }
   ],
   "source": [
    "RE"
   ]
  },
  {
   "cell_type": "markdown",
   "metadata": {
    "run_control": {
     "frozen": false,
     "read_only": false
    }
   },
   "source": [
    "## The book tells you why nfa2re can produce exp. sized RE"
   ]
  },
  {
   "cell_type": "code",
   "execution_count": null,
   "metadata": {
    "collapsed": true,
    "run_control": {
     "frozen": false,
     "read_only": false
    }
   },
   "outputs": [],
   "source": []
  },
  {
   "cell_type": "markdown",
   "metadata": {
    "run_control": {
     "frozen": false,
     "read_only": false
    }
   },
   "source": [
    "# How can I believe that this RE is correct?"
   ]
  },
  {
   "cell_type": "code",
   "execution_count": null,
   "metadata": {
    "collapsed": true,
    "run_control": {
     "frozen": false,
     "read_only": false
    }
   },
   "outputs": [],
   "source": []
  },
  {
   "cell_type": "code",
   "execution_count": null,
   "metadata": {
    "collapsed": true,
    "run_control": {
     "frozen": false,
     "read_only": false
    }
   },
   "outputs": [],
   "source": []
  },
  {
   "cell_type": "code",
   "execution_count": null,
   "metadata": {
    "collapsed": true,
    "run_control": {
     "frozen": false,
     "read_only": false
    }
   },
   "outputs": [],
   "source": []
  },
  {
   "cell_type": "code",
   "execution_count": null,
   "metadata": {
    "collapsed": true,
    "run_control": {
     "frozen": false,
     "read_only": false
    }
   },
   "outputs": [],
   "source": []
  },
  {
   "cell_type": "code",
   "execution_count": null,
   "metadata": {
    "collapsed": true,
    "run_control": {
     "frozen": false,
     "read_only": false
    }
   },
   "outputs": [],
   "source": []
  },
  {
   "cell_type": "code",
   "execution_count": null,
   "metadata": {
    "collapsed": true,
    "run_control": {
     "frozen": false,
     "read_only": false
    }
   },
   "outputs": [],
   "source": []
  },
  {
   "cell_type": "code",
   "execution_count": null,
   "metadata": {
    "collapsed": true,
    "run_control": {
     "frozen": false,
     "read_only": false
    }
   },
   "outputs": [],
   "source": []
  },
  {
   "cell_type": "code",
   "execution_count": null,
   "metadata": {
    "collapsed": true,
    "run_control": {
     "frozen": false,
     "read_only": false
    }
   },
   "outputs": [],
   "source": []
  },
  {
   "cell_type": "code",
   "execution_count": null,
   "metadata": {
    "collapsed": true,
    "run_control": {
     "frozen": false,
     "read_only": false
    }
   },
   "outputs": [],
   "source": []
  },
  {
   "cell_type": "code",
   "execution_count": 42,
   "metadata": {
    "run_control": {
     "frozen": false,
     "read_only": false
    }
   },
   "outputs": [
    {
     "name": "stderr",
     "output_type": "stream",
     "text": [
      "Generating LALR tables\n"
     ]
    },
    {
     "data": {
      "image/svg+xml": [
       "<?xml version=\"1.0\" encoding=\"UTF-8\" standalone=\"no\"?>\n",
       "<!DOCTYPE svg PUBLIC \"-//W3C//DTD SVG 1.1//EN\"\n",
       " \"http://www.w3.org/Graphics/SVG/1.1/DTD/svg11.dtd\">\n",
       "<!-- Generated by graphviz version 2.36.0 (20140111.2315)\n",
       " -->\n",
       "<!-- Title: %3 Pages: 1 -->\n",
       "<svg width=\"352pt\" height=\"206pt\"\n",
       " viewBox=\"0.00 0.00 352.00 206.00\" xmlns=\"http://www.w3.org/2000/svg\" xmlns:xlink=\"http://www.w3.org/1999/xlink\">\n",
       "<g id=\"graph0\" class=\"graph\" transform=\"scale(1 1) rotate(0) translate(4 202)\">\n",
       "<title>%3</title>\n",
       "<polygon fill=\"white\" stroke=\"none\" points=\"-4,4 -4,-202 348,-202 348,4 -4,4\"/>\n",
       "<!-- EMPTY -->\n",
       "<g id=\"node1\" class=\"node\"><title>EMPTY</title>\n",
       "</g>\n",
       "<!-- St7 -->\n",
       "<g id=\"node6\" class=\"node\"><title>St7</title>\n",
       "<ellipse fill=\"none\" stroke=\"black\" cx=\"119\" cy=\"-88\" rx=\"22.9609\" ry=\"22.9609\"/>\n",
       "<ellipse fill=\"none\" stroke=\"black\" cx=\"119\" cy=\"-88\" rx=\"26.9983\" ry=\"26.9983\"/>\n",
       "<text text-anchor=\"middle\" x=\"119\" y=\"-84.3\" font-family=\"Times,serif\" font-size=\"14.00\">St7</text>\n",
       "</g>\n",
       "<!-- EMPTY&#45;&gt;St7 -->\n",
       "<g id=\"edge1\" class=\"edge\"><title>EMPTY&#45;&gt;St7</title>\n",
       "<path fill=\"none\" stroke=\"black\" d=\"M54.0317,-88C62.7072,-88 72.5339,-88 81.8363,-88\"/>\n",
       "<polygon fill=\"black\" stroke=\"black\" points=\"82.0268,-91.5001 92.0268,-88 82.0267,-84.5001 82.0268,-91.5001\"/>\n",
       "</g>\n",
       "<!-- St11 -->\n",
       "<g id=\"node2\" class=\"node\"><title>St11</title>\n",
       "<ellipse fill=\"none\" stroke=\"black\" cx=\"316\" cy=\"-138\" rx=\"27.0966\" ry=\"27.0966\"/>\n",
       "<text text-anchor=\"middle\" x=\"316\" y=\"-134.3\" font-family=\"Times,serif\" font-size=\"14.00\">St11</text>\n",
       "</g>\n",
       "<!-- St11&#45;&gt;St11 -->\n",
       "<g id=\"edge9\" class=\"edge\"><title>St11&#45;&gt;St11</title>\n",
       "<path fill=\"none\" stroke=\"black\" d=\"M306.682,-163.896C306.156,-174.282 309.262,-183 316,-183 320.317,-183 323.143,-179.422 324.478,-174.12\"/>\n",
       "<polygon fill=\"black\" stroke=\"black\" points=\"327.987,-174.149 325.318,-163.896 321.011,-173.576 327.987,-174.149\"/>\n",
       "<text text-anchor=\"middle\" x=\"316\" y=\"-186.8\" font-family=\"Times,serif\" font-size=\"14.00\">0</text>\n",
       "</g>\n",
       "<!-- St5 -->\n",
       "<g id=\"node4\" class=\"node\"><title>St5</title>\n",
       "<ellipse fill=\"none\" stroke=\"black\" cx=\"217\" cy=\"-132\" rx=\"22.9609\" ry=\"22.9609\"/>\n",
       "<ellipse fill=\"none\" stroke=\"black\" cx=\"217\" cy=\"-132\" rx=\"26.9983\" ry=\"26.9983\"/>\n",
       "<text text-anchor=\"middle\" x=\"217\" y=\"-128.3\" font-family=\"Times,serif\" font-size=\"14.00\">St5</text>\n",
       "</g>\n",
       "<!-- St11&#45;&gt;St5 -->\n",
       "<g id=\"edge8\" class=\"edge\"><title>St11&#45;&gt;St5</title>\n",
       "<path fill=\"none\" stroke=\"black\" d=\"M292.459,-123.861C285.518,-120.24 277.677,-116.848 270,-115 263.516,-113.439 256.677,-114.013 250.165,-115.669\"/>\n",
       "<polygon fill=\"black\" stroke=\"black\" points=\"248.649,-112.487 240.3,-119.01 250.894,-119.117 248.649,-112.487\"/>\n",
       "<text text-anchor=\"middle\" x=\"266\" y=\"-118.8\" font-family=\"Times,serif\" font-size=\"14.00\">1</text>\n",
       "</g>\n",
       "<!-- St10 -->\n",
       "<g id=\"node3\" class=\"node\"><title>St10</title>\n",
       "<ellipse fill=\"none\" stroke=\"black\" cx=\"316\" cy=\"-27\" rx=\"27.0966\" ry=\"27.0966\"/>\n",
       "<text text-anchor=\"middle\" x=\"316\" y=\"-23.3\" font-family=\"Times,serif\" font-size=\"14.00\">St10</text>\n",
       "</g>\n",
       "<!-- St10&#45;&gt;St10 -->\n",
       "<g id=\"edge10\" class=\"edge\"><title>St10&#45;&gt;St10</title>\n",
       "<path fill=\"none\" stroke=\"black\" d=\"M306.682,-52.8961C306.156,-63.2823 309.262,-72 316,-72 320.317,-72 323.143,-68.4223 324.478,-63.1201\"/>\n",
       "<polygon fill=\"black\" stroke=\"black\" points=\"327.987,-63.1491 325.318,-52.8961 321.011,-62.576 327.987,-63.1491\"/>\n",
       "<text text-anchor=\"middle\" x=\"316\" y=\"-75.8\" font-family=\"Times,serif\" font-size=\"14.00\">1</text>\n",
       "</g>\n",
       "<!-- St0 -->\n",
       "<g id=\"node5\" class=\"node\"><title>St0</title>\n",
       "<ellipse fill=\"none\" stroke=\"black\" cx=\"217\" cy=\"-28\" rx=\"22.9609\" ry=\"22.9609\"/>\n",
       "<ellipse fill=\"none\" stroke=\"black\" cx=\"217\" cy=\"-28\" rx=\"26.9983\" ry=\"26.9983\"/>\n",
       "<text text-anchor=\"middle\" x=\"217\" y=\"-24.3\" font-family=\"Times,serif\" font-size=\"14.00\">St0</text>\n",
       "</g>\n",
       "<!-- St10&#45;&gt;St0 -->\n",
       "<g id=\"edge11\" class=\"edge\"><title>St10&#45;&gt;St0</title>\n",
       "<path fill=\"none\" stroke=\"black\" d=\"M290.934,-16.1731C281.936,-13.3125 271.577,-11.4125 262,-13 258.736,-13.5411 255.388,-14.2937 252.068,-15.1761\"/>\n",
       "<polygon fill=\"black\" stroke=\"black\" points=\"250.859,-11.8853 242.3,-18.131 252.886,-18.5854 250.859,-11.8853\"/>\n",
       "<text text-anchor=\"middle\" x=\"266\" y=\"-16.8\" font-family=\"Times,serif\" font-size=\"14.00\">0</text>\n",
       "</g>\n",
       "<!-- St5&#45;&gt;St11 -->\n",
       "<g id=\"edge5\" class=\"edge\"><title>St5&#45;&gt;St11</title>\n",
       "<path fill=\"none\" stroke=\"black\" d=\"M243.74,-133.592C254.311,-134.246 266.747,-135.015 278.247,-135.727\"/>\n",
       "<polygon fill=\"black\" stroke=\"black\" points=\"278.266,-139.234 288.463,-136.359 278.698,-132.248 278.266,-139.234\"/>\n",
       "<text text-anchor=\"middle\" x=\"266\" y=\"-138.8\" font-family=\"Times,serif\" font-size=\"14.00\">0</text>\n",
       "</g>\n",
       "<!-- St5&#45;&gt;St5 -->\n",
       "<g id=\"edge4\" class=\"edge\"><title>St5&#45;&gt;St5</title>\n",
       "<path fill=\"none\" stroke=\"black\" d=\"M208.079,-156.878C207.464,-167.227 210.438,-176 217,-176 221.204,-176 223.935,-172.4 225.194,-167.091\"/>\n",
       "<polygon fill=\"black\" stroke=\"black\" points=\"228.702,-167.101 225.921,-156.878 221.719,-166.604 228.702,-167.101\"/>\n",
       "<text text-anchor=\"middle\" x=\"217\" y=\"-179.8\" font-family=\"Times,serif\" font-size=\"14.00\">1</text>\n",
       "</g>\n",
       "<!-- St0&#45;&gt;St10 -->\n",
       "<g id=\"edge6\" class=\"edge\"><title>St0&#45;&gt;St10</title>\n",
       "<path fill=\"none\" stroke=\"black\" d=\"M244.032,-30.7599C249.933,-31.276 256.176,-31.7358 262,-32 267.345,-32.2424 272.983,-32.1196 278.508,-31.7842\"/>\n",
       "<polygon fill=\"black\" stroke=\"black\" points=\"279.213,-35.2376 288.887,-30.9175 278.63,-28.2619 279.213,-35.2376\"/>\n",
       "<text text-anchor=\"middle\" x=\"266\" y=\"-36.8\" font-family=\"Times,serif\" font-size=\"14.00\">1</text>\n",
       "</g>\n",
       "<!-- St0&#45;&gt;St0 -->\n",
       "<g id=\"edge7\" class=\"edge\"><title>St0&#45;&gt;St0</title>\n",
       "<path fill=\"none\" stroke=\"black\" d=\"M208.079,-52.8781C207.464,-63.2272 210.438,-72 217,-72 221.204,-72 223.935,-68.3996 225.194,-63.091\"/>\n",
       "<polygon fill=\"black\" stroke=\"black\" points=\"228.702,-63.1014 225.921,-52.8781 221.719,-62.6042 228.702,-63.1014\"/>\n",
       "<text text-anchor=\"middle\" x=\"217\" y=\"-75.8\" font-family=\"Times,serif\" font-size=\"14.00\">0</text>\n",
       "</g>\n",
       "<!-- St7&#45;&gt;St5 -->\n",
       "<g id=\"edge2\" class=\"edge\"><title>St7&#45;&gt;St5</title>\n",
       "<path fill=\"none\" stroke=\"black\" d=\"M143.73,-98.8764C155.704,-104.365 170.413,-111.106 183.428,-117.071\"/>\n",
       "<polygon fill=\"black\" stroke=\"black\" points=\"181.994,-120.264 192.543,-121.249 184.91,-113.9 181.994,-120.264\"/>\n",
       "<text text-anchor=\"middle\" x=\"168\" y=\"-115.8\" font-family=\"Times,serif\" font-size=\"14.00\">1</text>\n",
       "</g>\n",
       "<!-- St7&#45;&gt;St0 -->\n",
       "<g id=\"edge3\" class=\"edge\"><title>St7&#45;&gt;St0</title>\n",
       "<path fill=\"none\" stroke=\"black\" d=\"M142.266,-74.084C154.988,-66.1326 171.135,-56.0409 185.073,-47.3295\"/>\n",
       "<polygon fill=\"black\" stroke=\"black\" points=\"187.23,-50.1086 193.855,-41.8405 183.52,-44.1726 187.23,-50.1086\"/>\n",
       "<text text-anchor=\"middle\" x=\"168\" y=\"-63.8\" font-family=\"Times,serif\" font-size=\"14.00\">0</text>\n",
       "</g>\n",
       "</g>\n",
       "</svg>\n"
      ],
      "text/plain": [
       "<graphviz.dot.Digraph at 0x1127d1d30>"
      ]
     },
     "execution_count": 42,
     "metadata": {},
     "output_type": "execute_result"
    }
   ],
   "source": [
    "dotObj_dfa(min_dfa(nfa2dfa(re2nfa(RE))))"
   ]
  },
  {
   "cell_type": "code",
   "execution_count": 43,
   "metadata": {
    "run_control": {
     "frozen": false,
     "read_only": false
    }
   },
   "outputs": [
    {
     "data": {
      "text/plain": [
       "<function Imports.Def_NFA.rev_dfa>"
      ]
     },
     "execution_count": 43,
     "metadata": {},
     "output_type": "execute_result"
    }
   ],
   "source": [
    "rev_dfa"
   ]
  },
  {
   "cell_type": "code",
   "execution_count": 44,
   "metadata": {
    "run_control": {
     "frozen": false,
     "read_only": false
    }
   },
   "outputs": [
    {
     "name": "stdout",
     "output_type": "stream",
     "text": [
      "Help on function rev_dfa in module Imports.Def_NFA:\n",
      "\n",
      "rev_dfa(D)\n",
      "    In : D = a partially consistent DFA without any unreachable states.\n",
      "    Out: A consistent NFA whose language is D's language reversed.\n",
      "\n"
     ]
    }
   ],
   "source": [
    "help(rev_dfa)"
   ]
  },
  {
   "cell_type": "code",
   "execution_count": 45,
   "metadata": {
    "run_control": {
     "frozen": false,
     "read_only": false
    }
   },
   "outputs": [
    {
     "data": {
      "text/plain": [
       "{'Delta': {('F1', '0'): 'F1',\n",
       "  ('F1', '1'): 'S01',\n",
       "  ('F2', '0'): 'S10',\n",
       "  ('F2', '1'): 'F2',\n",
       "  ('Fa1', '0'): 'F1',\n",
       "  ('Fa1', '1'): 'S01',\n",
       "  ('Fa2', '0'): 'S10',\n",
       "  ('Fa2', '1'): 'F2',\n",
       "  ('IF', '0'): 'F1',\n",
       "  ('IF', '1'): 'F2',\n",
       "  ('S01', '0'): 'Fa1',\n",
       "  ('S01', '1'): 'S01',\n",
       "  ('S10', '0'): 'S10',\n",
       "  ('S10', '1'): 'Fa2'},\n",
       " 'F': {'F1', 'F2', 'Fa1', 'Fa2', 'IF'},\n",
       " 'Q': {'F1', 'F2', 'Fa1', 'Fa2', 'IF', 'S01', 'S10'},\n",
       " 'Sigma': {'0', '1'},\n",
       " 'q0': 'IF'}"
      ]
     },
     "execution_count": 45,
     "metadata": {},
     "output_type": "execute_result"
    }
   ],
   "source": [
    "Eq01"
   ]
  },
  {
   "cell_type": "code",
   "execution_count": 46,
   "metadata": {
    "run_control": {
     "frozen": false,
     "read_only": false
    }
   },
   "outputs": [
    {
     "data": {
      "image/svg+xml": [
       "<?xml version=\"1.0\" encoding=\"UTF-8\" standalone=\"no\"?>\n",
       "<!DOCTYPE svg PUBLIC \"-//W3C//DTD SVG 1.1//EN\"\n",
       " \"http://www.w3.org/Graphics/SVG/1.1/DTD/svg11.dtd\">\n",
       "<!-- Generated by graphviz version 2.36.0 (20140111.2315)\n",
       " -->\n",
       "<!-- Title: %3 Pages: 1 -->\n",
       "<svg width=\"428pt\" height=\"362pt\"\n",
       " viewBox=\"0.00 0.00 428.00 361.58\" xmlns=\"http://www.w3.org/2000/svg\" xmlns:xlink=\"http://www.w3.org/1999/xlink\">\n",
       "<g id=\"graph0\" class=\"graph\" transform=\"scale(1 1) rotate(0) translate(4 357.579)\">\n",
       "<title>%3</title>\n",
       "<polygon fill=\"white\" stroke=\"none\" points=\"-4,4 -4,-357.579 424,-357.579 424,4 -4,4\"/>\n",
       "<!-- EMPTY -->\n",
       "<g id=\"node1\" class=\"node\"><title>EMPTY</title>\n",
       "</g>\n",
       "<!-- F2 -->\n",
       "<g id=\"node3\" class=\"node\"><title>F2</title>\n",
       "<ellipse fill=\"none\" stroke=\"black\" cx=\"117\" cy=\"-236.579\" rx=\"20.2975\" ry=\"20.2975\"/>\n",
       "<text text-anchor=\"middle\" x=\"117\" y=\"-232.879\" font-family=\"Times,serif\" font-size=\"14.00\">F2</text>\n",
       "</g>\n",
       "<!-- EMPTY&#45;&gt;F2 -->\n",
       "<g id=\"edge1\" class=\"edge\"><title>EMPTY&#45;&gt;F2</title>\n",
       "<path fill=\"none\" stroke=\"black\" d=\"M54.4029,-196.681C65.9878,-204.185 79.5212,-212.951 90.9474,-220.352\"/>\n",
       "<polygon fill=\"black\" stroke=\"black\" points=\"89.2858,-223.446 99.5817,-225.945 93.0913,-217.571 89.2858,-223.446\"/>\n",
       "</g>\n",
       "<!-- Fa1 -->\n",
       "<g id=\"node4\" class=\"node\"><title>Fa1</title>\n",
       "<ellipse fill=\"none\" stroke=\"black\" cx=\"117\" cy=\"-78.5795\" rx=\"24.8972\" ry=\"24.8972\"/>\n",
       "<text text-anchor=\"middle\" x=\"117\" y=\"-74.8795\" font-family=\"Times,serif\" font-size=\"14.00\">Fa1</text>\n",
       "</g>\n",
       "<!-- EMPTY&#45;&gt;Fa1 -->\n",
       "<g id=\"edge3\" class=\"edge\"><title>EMPTY&#45;&gt;Fa1</title>\n",
       "<path fill=\"none\" stroke=\"black\" d=\"M43.3452,-161.178C51.7397,-151.179 62.3641,-138.633 72,-127.579 78.6207,-119.984 85.8972,-111.812 92.5935,-104.36\"/>\n",
       "<polygon fill=\"black\" stroke=\"black\" points=\"95.4772,-106.388 99.5734,-96.6169 90.278,-101.701 95.4772,-106.388\"/>\n",
       "</g>\n",
       "<!-- F1 -->\n",
       "<g id=\"node5\" class=\"node\"><title>F1</title>\n",
       "<ellipse fill=\"none\" stroke=\"black\" cx=\"305\" cy=\"-77.5795\" rx=\"20.2975\" ry=\"20.2975\"/>\n",
       "<text text-anchor=\"middle\" x=\"305\" y=\"-73.8795\" font-family=\"Times,serif\" font-size=\"14.00\">F1</text>\n",
       "</g>\n",
       "<!-- EMPTY&#45;&gt;F1 -->\n",
       "<g id=\"edge4\" class=\"edge\"><title>EMPTY&#45;&gt;F1</title>\n",
       "<path fill=\"none\" stroke=\"black\" d=\"M54.4643,-170.942C60.2293,-169.121 66.3074,-167.248 72,-165.579 144.421,-144.355 167.037,-152.229 236,-121.579 251.66,-114.62 267.822,-104.314 280.458,-95.4259\"/>\n",
       "<polygon fill=\"black\" stroke=\"black\" points=\"282.53,-98.2464 288.593,-89.5575 278.435,-92.5693 282.53,-98.2464\"/>\n",
       "</g>\n",
       "<!-- Fa2 -->\n",
       "<g id=\"node6\" class=\"node\"><title>Fa2</title>\n",
       "<ellipse fill=\"none\" stroke=\"black\" cx=\"211\" cy=\"-324.579\" rx=\"24.8972\" ry=\"24.8972\"/>\n",
       "<text text-anchor=\"middle\" x=\"211\" y=\"-320.879\" font-family=\"Times,serif\" font-size=\"14.00\">Fa2</text>\n",
       "</g>\n",
       "<!-- EMPTY&#45;&gt;Fa2 -->\n",
       "<g id=\"edge5\" class=\"edge\"><title>EMPTY&#45;&gt;Fa2</title>\n",
       "<path fill=\"none\" stroke=\"black\" d=\"M32.5383,-197.645C40.1582,-224.093 58.125,-272.981 92,-298.579 116.017,-316.728 150.186,-322.7 175.579,-324.444\"/>\n",
       "<polygon fill=\"black\" stroke=\"black\" points=\"175.707,-327.954 185.869,-324.955 176.055,-320.963 175.707,-327.954\"/>\n",
       "</g>\n",
       "<!-- IF -->\n",
       "<g id=\"node8\" class=\"node\"><title>IF</title>\n",
       "<ellipse fill=\"none\" stroke=\"black\" cx=\"397\" cy=\"-179.579\" rx=\"18.724\" ry=\"18.724\"/>\n",
       "<ellipse fill=\"none\" stroke=\"black\" cx=\"397\" cy=\"-179.579\" rx=\"22.6977\" ry=\"22.6977\"/>\n",
       "<text text-anchor=\"middle\" x=\"397\" y=\"-175.879\" font-family=\"Times,serif\" font-size=\"14.00\">IF</text>\n",
       "</g>\n",
       "<!-- EMPTY&#45;&gt;IF -->\n",
       "<g id=\"edge2\" class=\"edge\"><title>EMPTY&#45;&gt;IF</title>\n",
       "<path fill=\"none\" stroke=\"black\" d=\"M54.1841,-179.579C71.6849,-179.579 95.2222,-179.579 116,-179.579 116,-179.579 116,-179.579 306,-179.579 325.15,-179.579 346.593,-179.579 363.743,-179.579\"/>\n",
       "<polygon fill=\"black\" stroke=\"black\" points=\"363.808,-183.08 373.808,-179.579 363.808,-176.08 363.808,-183.08\"/>\n",
       "</g>\n",
       "<!-- S01 -->\n",
       "<g id=\"node2\" class=\"node\"><title>S01</title>\n",
       "<ellipse fill=\"none\" stroke=\"black\" cx=\"211\" cy=\"-55.5795\" rx=\"24.8972\" ry=\"24.8972\"/>\n",
       "<text text-anchor=\"middle\" x=\"211\" y=\"-51.8795\" font-family=\"Times,serif\" font-size=\"14.00\">S01</text>\n",
       "</g>\n",
       "<!-- S01&#45;&gt;S01 -->\n",
       "<g id=\"edge7\" class=\"edge\"><title>S01&#45;&gt;S01</title>\n",
       "<path fill=\"none\" stroke=\"black\" d=\"M202.51,-78.4765C201.701,-88.7201 204.531,-97.5795 211,-97.5795 215.144,-97.5795 217.795,-93.9436 218.952,-88.6371\"/>\n",
       "<polygon fill=\"black\" stroke=\"black\" points=\"222.456,-88.6476 219.49,-78.4765 215.466,-88.2774 222.456,-88.6476\"/>\n",
       "<text text-anchor=\"middle\" x=\"211\" y=\"-101.379\" font-family=\"Times,serif\" font-size=\"14.00\">1</text>\n",
       "</g>\n",
       "<!-- S01&#45;&gt;Fa1 -->\n",
       "<g id=\"edge6\" class=\"edge\"><title>S01&#45;&gt;Fa1</title>\n",
       "<path fill=\"none\" stroke=\"black\" d=\"M187.232,-48.1644C178.561,-46.4312 168.681,-45.7975 160,-48.5795 154.56,-50.3228 149.225,-53.0582 144.28,-56.1836\"/>\n",
       "<polygon fill=\"black\" stroke=\"black\" points=\"142.03,-53.4866 135.861,-62.1002 146.055,-59.2137 142.03,-53.4866\"/>\n",
       "<text text-anchor=\"middle\" x=\"164\" y=\"-52.3795\" font-family=\"Times,serif\" font-size=\"14.00\">1</text>\n",
       "</g>\n",
       "<!-- S01&#45;&gt;F1 -->\n",
       "<g id=\"edge8\" class=\"edge\"><title>S01&#45;&gt;F1</title>\n",
       "<path fill=\"none\" stroke=\"black\" d=\"M235.215,-61.131C247.396,-64.0438 262.429,-67.6385 275.33,-70.7237\"/>\n",
       "<polygon fill=\"black\" stroke=\"black\" points=\"274.586,-74.1443 285.126,-73.0661 276.214,-67.3362 274.586,-74.1443\"/>\n",
       "<text text-anchor=\"middle\" x=\"258\" y=\"-71.3795\" font-family=\"Times,serif\" font-size=\"14.00\">1</text>\n",
       "</g>\n",
       "<!-- F2&#45;&gt;F2 -->\n",
       "<g id=\"edge9\" class=\"edge\"><title>F2&#45;&gt;F2</title>\n",
       "<path fill=\"none\" stroke=\"black\" d=\"M109.09,-255.349C107.746,-265.412 110.383,-274.579 117,-274.579 121.239,-274.579 123.845,-270.817 124.816,-265.467\"/>\n",
       "<polygon fill=\"black\" stroke=\"black\" points=\"128.317,-265.381 124.91,-255.349 121.318,-265.316 128.317,-265.381\"/>\n",
       "<text text-anchor=\"middle\" x=\"117\" y=\"-278.379\" font-family=\"Times,serif\" font-size=\"14.00\">1</text>\n",
       "</g>\n",
       "<!-- F2&#45;&gt;Fa2 -->\n",
       "<g id=\"edge11\" class=\"edge\"><title>F2&#45;&gt;Fa2</title>\n",
       "<path fill=\"none\" stroke=\"black\" d=\"M132.375,-250.329C146.487,-263.828 168.295,-284.687 185.207,-300.864\"/>\n",
       "<polygon fill=\"black\" stroke=\"black\" points=\"182.942,-303.541 192.587,-307.924 187.78,-298.482 182.942,-303.541\"/>\n",
       "<text text-anchor=\"middle\" x=\"164\" y=\"-287.379\" font-family=\"Times,serif\" font-size=\"14.00\">1</text>\n",
       "</g>\n",
       "<!-- F2&#45;&gt;IF -->\n",
       "<g id=\"edge10\" class=\"edge\"><title>F2&#45;&gt;IF</title>\n",
       "<path fill=\"none\" stroke=\"black\" d=\"M137.042,-234.18C177.697,-228.832 275.811,-214.715 356,-193.579 359.202,-192.736 362.514,-191.756 365.798,-190.714\"/>\n",
       "<polygon fill=\"black\" stroke=\"black\" points=\"367.068,-193.98 375.432,-187.476 364.838,-187.344 367.068,-193.98\"/>\n",
       "<text text-anchor=\"middle\" x=\"258\" y=\"-219.379\" font-family=\"Times,serif\" font-size=\"14.00\">1</text>\n",
       "</g>\n",
       "<!-- Fa1&#45;&gt;S01 -->\n",
       "<g id=\"edge12\" class=\"edge\"><title>Fa1&#45;&gt;S01</title>\n",
       "<path fill=\"none\" stroke=\"black\" d=\"M141.215,-72.7756C152.002,-70.0789 165.025,-66.8232 176.825,-63.8733\"/>\n",
       "<polygon fill=\"black\" stroke=\"black\" points=\"177.939,-67.2024 186.792,-61.3815 176.242,-60.4114 177.939,-67.2024\"/>\n",
       "<text text-anchor=\"middle\" x=\"164\" y=\"-72.3795\" font-family=\"Times,serif\" font-size=\"14.00\">0</text>\n",
       "</g>\n",
       "<!-- F1&#45;&gt;Fa1 -->\n",
       "<g id=\"edge14\" class=\"edge\"><title>F1&#45;&gt;Fa1</title>\n",
       "<path fill=\"none\" stroke=\"black\" d=\"M293.728,-60.6018C282.158,-43.3 261.586,-17.5027 236,-6.57948 215.562,2.14562 206.407,2.21693 186,-6.57948 165.617,-15.3655 148.499,-33.5993 136.537,-49.5183\"/>\n",
       "<polygon fill=\"black\" stroke=\"black\" points=\"133.406,-47.8798 130.434,-58.0492 139.099,-51.9528 133.406,-47.8798\"/>\n",
       "<text text-anchor=\"middle\" x=\"211\" y=\"-10.3795\" font-family=\"Times,serif\" font-size=\"14.00\">0</text>\n",
       "</g>\n",
       "<!-- F1&#45;&gt;F1 -->\n",
       "<g id=\"edge15\" class=\"edge\"><title>F1&#45;&gt;F1</title>\n",
       "<path fill=\"none\" stroke=\"black\" d=\"M296.788,-95.9566C295.255,-106.172 297.992,-115.579 305,-115.579 309.489,-115.579 312.226,-111.719 313.21,-106.258\"/>\n",
       "<polygon fill=\"black\" stroke=\"black\" points=\"316.71,-105.957 313.212,-95.9566 309.71,-105.956 316.71,-105.957\"/>\n",
       "<text text-anchor=\"middle\" x=\"305\" y=\"-119.379\" font-family=\"Times,serif\" font-size=\"14.00\">0</text>\n",
       "</g>\n",
       "<!-- F1&#45;&gt;IF -->\n",
       "<g id=\"edge13\" class=\"edge\"><title>F1&#45;&gt;IF</title>\n",
       "<path fill=\"none\" stroke=\"black\" d=\"M318.895,-92.1936C333.419,-108.655 357.255,-135.668 374.585,-155.309\"/>\n",
       "<polygon fill=\"black\" stroke=\"black\" points=\"372.096,-157.778 381.337,-162.961 377.345,-153.147 372.096,-157.778\"/>\n",
       "<text text-anchor=\"middle\" x=\"352\" y=\"-136.379\" font-family=\"Times,serif\" font-size=\"14.00\">0</text>\n",
       "</g>\n",
       "<!-- S10 -->\n",
       "<g id=\"node7\" class=\"node\"><title>S10</title>\n",
       "<ellipse fill=\"none\" stroke=\"black\" cx=\"305\" cy=\"-296.579\" rx=\"24.8972\" ry=\"24.8972\"/>\n",
       "<text text-anchor=\"middle\" x=\"305\" y=\"-292.879\" font-family=\"Times,serif\" font-size=\"14.00\">S10</text>\n",
       "</g>\n",
       "<!-- Fa2&#45;&gt;S10 -->\n",
       "<g id=\"edge16\" class=\"edge\"><title>Fa2&#45;&gt;S10</title>\n",
       "<path fill=\"none\" stroke=\"black\" d=\"M235.319,-319.637C243.786,-317.671 253.386,-315.242 262,-312.579 265.383,-311.534 268.886,-310.356 272.36,-309.127\"/>\n",
       "<polygon fill=\"black\" stroke=\"black\" points=\"273.782,-312.333 281.953,-305.588 271.359,-305.765 273.782,-312.333\"/>\n",
       "<text text-anchor=\"middle\" x=\"258\" y=\"-318.379\" font-family=\"Times,serif\" font-size=\"14.00\">1</text>\n",
       "</g>\n",
       "<!-- S10&#45;&gt;F2 -->\n",
       "<g id=\"edge17\" class=\"edge\"><title>S10&#45;&gt;F2</title>\n",
       "<path fill=\"none\" stroke=\"black\" d=\"M281.248,-289.24C247.214,-278.262 183.108,-257.582 146.166,-245.665\"/>\n",
       "<polygon fill=\"black\" stroke=\"black\" points=\"147.106,-242.291 136.514,-242.552 144.957,-248.953 147.106,-242.291\"/>\n",
       "<text text-anchor=\"middle\" x=\"211\" y=\"-278.379\" font-family=\"Times,serif\" font-size=\"14.00\">0</text>\n",
       "</g>\n",
       "<!-- S10&#45;&gt;Fa2 -->\n",
       "<g id=\"edge19\" class=\"edge\"><title>S10&#45;&gt;Fa2</title>\n",
       "<path fill=\"none\" stroke=\"black\" d=\"M280.635,-291.619C272.075,-290.72 262.426,-290.807 254,-293.579 248.265,-295.467 242.67,-298.472 237.531,-301.884\"/>\n",
       "<polygon fill=\"black\" stroke=\"black\" points=\"235.351,-299.143 229.368,-307.887 239.498,-304.782 235.351,-299.143\"/>\n",
       "<text text-anchor=\"middle\" x=\"258\" y=\"-297.379\" font-family=\"Times,serif\" font-size=\"14.00\">0</text>\n",
       "</g>\n",
       "<!-- S10&#45;&gt;S10 -->\n",
       "<g id=\"edge18\" class=\"edge\"><title>S10&#45;&gt;S10</title>\n",
       "<path fill=\"none\" stroke=\"black\" d=\"M296.51,-319.476C295.701,-329.72 298.531,-338.579 305,-338.579 309.144,-338.579 311.795,-334.944 312.952,-329.637\"/>\n",
       "<polygon fill=\"black\" stroke=\"black\" points=\"316.456,-329.648 313.49,-319.476 309.466,-329.277 316.456,-329.648\"/>\n",
       "<text text-anchor=\"middle\" x=\"305\" y=\"-342.379\" font-family=\"Times,serif\" font-size=\"14.00\">0</text>\n",
       "</g>\n",
       "</g>\n",
       "</svg>\n"
      ],
      "text/plain": [
       "<graphviz.dot.Digraph at 0x1127e17b8>"
      ]
     },
     "execution_count": 46,
     "metadata": {},
     "output_type": "execute_result"
    }
   ],
   "source": [
    "dotObj_nfa(rev_dfa(Eq01))"
   ]
  },
  {
   "cell_type": "code",
   "execution_count": 47,
   "metadata": {
    "run_control": {
     "frozen": false,
     "read_only": false
    }
   },
   "outputs": [
    {
     "name": "stderr",
     "output_type": "stream",
     "text": [
      "Generating LALR tables\n"
     ]
    },
    {
     "data": {
      "image/svg+xml": [
       "<?xml version=\"1.0\" encoding=\"UTF-8\" standalone=\"no\"?>\n",
       "<!DOCTYPE svg PUBLIC \"-//W3C//DTD SVG 1.1//EN\"\n",
       " \"http://www.w3.org/Graphics/SVG/1.1/DTD/svg11.dtd\">\n",
       "<!-- Generated by graphviz version 2.36.0 (20140111.2315)\n",
       " -->\n",
       "<!-- Title: %3 Pages: 1 -->\n",
       "<svg width=\"936pt\" height=\"98pt\"\n",
       " viewBox=\"0.00 0.00 936.00 98.00\" xmlns=\"http://www.w3.org/2000/svg\" xmlns:xlink=\"http://www.w3.org/1999/xlink\">\n",
       "<g id=\"graph0\" class=\"graph\" transform=\"scale(1 1) rotate(0) translate(4 94)\">\n",
       "<title>%3</title>\n",
       "<polygon fill=\"white\" stroke=\"none\" points=\"-4,4 -4,-94 932,-94 932,4 -4,4\"/>\n",
       "<!-- EMPTY -->\n",
       "<g id=\"node1\" class=\"node\"><title>EMPTY</title>\n",
       "</g>\n",
       "<!-- St4 -->\n",
       "<g id=\"node9\" class=\"node\"><title>St4</title>\n",
       "<ellipse fill=\"none\" stroke=\"black\" cx=\"119\" cy=\"-31\" rx=\"22.9609\" ry=\"22.9609\"/>\n",
       "<ellipse fill=\"none\" stroke=\"black\" cx=\"119\" cy=\"-31\" rx=\"26.9983\" ry=\"26.9983\"/>\n",
       "<text text-anchor=\"middle\" x=\"119\" y=\"-27.3\" font-family=\"Times,serif\" font-size=\"14.00\">St4</text>\n",
       "</g>\n",
       "<!-- EMPTY&#45;&gt;St4 -->\n",
       "<g id=\"edge1\" class=\"edge\"><title>EMPTY&#45;&gt;St4</title>\n",
       "<path fill=\"none\" stroke=\"black\" d=\"M54.0317,-31C62.7072,-31 72.5339,-31 81.8363,-31\"/>\n",
       "<polygon fill=\"black\" stroke=\"black\" points=\"82.0268,-34.5001 92.0268,-31 82.0267,-27.5001 82.0268,-34.5001\"/>\n",
       "</g>\n",
       "<!-- St0 -->\n",
       "<g id=\"node2\" class=\"node\"><title>St0</title>\n",
       "<ellipse fill=\"none\" stroke=\"black\" cx=\"501\" cy=\"-31\" rx=\"22.9987\" ry=\"22.9987\"/>\n",
       "<text text-anchor=\"middle\" x=\"501\" y=\"-27.3\" font-family=\"Times,serif\" font-size=\"14.00\">St0</text>\n",
       "</g>\n",
       "<!-- St9 -->\n",
       "<g id=\"node7\" class=\"node\"><title>St9</title>\n",
       "<ellipse fill=\"none\" stroke=\"black\" cx=\"595\" cy=\"-31\" rx=\"22.9609\" ry=\"22.9609\"/>\n",
       "<ellipse fill=\"none\" stroke=\"black\" cx=\"595\" cy=\"-31\" rx=\"26.9983\" ry=\"26.9983\"/>\n",
       "<text text-anchor=\"middle\" x=\"595\" y=\"-27.3\" font-family=\"Times,serif\" font-size=\"14.00\">St9</text>\n",
       "</g>\n",
       "<!-- St0&#45;&gt;St9 -->\n",
       "<g id=\"edge6\" class=\"edge\"><title>St0&#45;&gt;St9</title>\n",
       "<path fill=\"none\" stroke=\"black\" d=\"M523.803,-31C533.973,-31 546.35,-31 557.862,-31\"/>\n",
       "<polygon fill=\"black\" stroke=\"black\" points=\"558.103,-34.5001 568.103,-31 558.103,-27.5001 558.103,-34.5001\"/>\n",
       "<text text-anchor=\"middle\" x=\"546\" y=\"-34.8\" font-family=\"Times,serif\" font-size=\"14.00\">1</text>\n",
       "</g>\n",
       "<!-- St2 -->\n",
       "<g id=\"node3\" class=\"node\"><title>St2</title>\n",
       "<ellipse fill=\"none\" stroke=\"black\" cx=\"303\" cy=\"-31\" rx=\"22.9987\" ry=\"22.9987\"/>\n",
       "<text text-anchor=\"middle\" x=\"303\" y=\"-27.3\" font-family=\"Times,serif\" font-size=\"14.00\">St2</text>\n",
       "</g>\n",
       "<!-- St12 -->\n",
       "<g id=\"node8\" class=\"node\"><title>St12</title>\n",
       "<ellipse fill=\"none\" stroke=\"black\" cx=\"402\" cy=\"-31\" rx=\"27.1222\" ry=\"27.1222\"/>\n",
       "<ellipse fill=\"none\" stroke=\"black\" cx=\"402\" cy=\"-31\" rx=\"31.0965\" ry=\"31.0965\"/>\n",
       "<text text-anchor=\"middle\" x=\"402\" y=\"-27.3\" font-family=\"Times,serif\" font-size=\"14.00\">St12</text>\n",
       "</g>\n",
       "<!-- St2&#45;&gt;St12 -->\n",
       "<g id=\"edge4\" class=\"edge\"><title>St2&#45;&gt;St12</title>\n",
       "<path fill=\"none\" stroke=\"black\" d=\"M326.011,-31C336.214,-31 348.673,-31 360.482,-31\"/>\n",
       "<polygon fill=\"black\" stroke=\"black\" points=\"360.62,-34.5001 370.62,-31 360.62,-27.5001 360.62,-34.5001\"/>\n",
       "<text text-anchor=\"middle\" x=\"348\" y=\"-34.8\" font-family=\"Times,serif\" font-size=\"14.00\">1</text>\n",
       "</g>\n",
       "<!-- St10 -->\n",
       "<g id=\"node4\" class=\"node\"><title>St10</title>\n",
       "<ellipse fill=\"none\" stroke=\"black\" cx=\"802\" cy=\"-31\" rx=\"27.0966\" ry=\"27.0966\"/>\n",
       "<text text-anchor=\"middle\" x=\"802\" y=\"-27.3\" font-family=\"Times,serif\" font-size=\"14.00\">St10</text>\n",
       "</g>\n",
       "<!-- St5 -->\n",
       "<g id=\"node6\" class=\"node\"><title>St5</title>\n",
       "<ellipse fill=\"none\" stroke=\"black\" cx=\"901\" cy=\"-31\" rx=\"22.9609\" ry=\"22.9609\"/>\n",
       "<ellipse fill=\"none\" stroke=\"black\" cx=\"901\" cy=\"-31\" rx=\"26.9983\" ry=\"26.9983\"/>\n",
       "<text text-anchor=\"middle\" x=\"901\" y=\"-27.3\" font-family=\"Times,serif\" font-size=\"14.00\">St5</text>\n",
       "</g>\n",
       "<!-- St10&#45;&gt;St5 -->\n",
       "<g id=\"edge9\" class=\"edge\"><title>St10&#45;&gt;St5</title>\n",
       "<path fill=\"none\" stroke=\"black\" d=\"M829.506,-31C840.156,-31 852.603,-31 864.048,-31\"/>\n",
       "<polygon fill=\"black\" stroke=\"black\" points=\"864.197,-34.5001 874.197,-31 864.197,-27.5001 864.197,-34.5001\"/>\n",
       "<text text-anchor=\"middle\" x=\"852\" y=\"-34.8\" font-family=\"Times,serif\" font-size=\"14.00\">1</text>\n",
       "</g>\n",
       "<!-- St6 -->\n",
       "<g id=\"node5\" class=\"node\"><title>St6</title>\n",
       "<ellipse fill=\"none\" stroke=\"black\" cx=\"213\" cy=\"-31\" rx=\"22.9987\" ry=\"22.9987\"/>\n",
       "<text text-anchor=\"middle\" x=\"213\" y=\"-27.3\" font-family=\"Times,serif\" font-size=\"14.00\">St6</text>\n",
       "</g>\n",
       "<!-- St6&#45;&gt;St2 -->\n",
       "<g id=\"edge3\" class=\"edge\"><title>St6&#45;&gt;St2</title>\n",
       "<path fill=\"none\" stroke=\"black\" d=\"M235.753,-31C246.118,-31 258.719,-31 270.137,-31\"/>\n",
       "<polygon fill=\"black\" stroke=\"black\" points=\"270.192,-34.5001 280.192,-31 270.192,-27.5001 270.192,-34.5001\"/>\n",
       "<text text-anchor=\"middle\" x=\"258\" y=\"-34.8\" font-family=\"Times,serif\" font-size=\"14.00\">1</text>\n",
       "</g>\n",
       "<!-- St5&#45;&gt;St5 -->\n",
       "<g id=\"edge10\" class=\"edge\"><title>St5&#45;&gt;St5</title>\n",
       "<path fill=\"none\" stroke=\"black\" d=\"M892.079,-55.8781C891.464,-66.2272 894.438,-75 901,-75 905.204,-75 907.935,-71.3996 909.194,-66.091\"/>\n",
       "<polygon fill=\"black\" stroke=\"black\" points=\"912.702,-66.1014 909.921,-55.8781 905.719,-65.6042 912.702,-66.1014\"/>\n",
       "<text text-anchor=\"middle\" x=\"901\" y=\"-78.8\" font-family=\"Times,serif\" font-size=\"14.00\">1</text>\n",
       "</g>\n",
       "<!-- St13 -->\n",
       "<g id=\"node10\" class=\"node\"><title>St13</title>\n",
       "<ellipse fill=\"none\" stroke=\"black\" cx=\"698\" cy=\"-31\" rx=\"27.1222\" ry=\"27.1222\"/>\n",
       "<ellipse fill=\"none\" stroke=\"black\" cx=\"698\" cy=\"-31\" rx=\"31.0965\" ry=\"31.0965\"/>\n",
       "<text text-anchor=\"middle\" x=\"698\" y=\"-27.3\" font-family=\"Times,serif\" font-size=\"14.00\">St13</text>\n",
       "</g>\n",
       "<!-- St9&#45;&gt;St13 -->\n",
       "<g id=\"edge7\" class=\"edge\"><title>St9&#45;&gt;St13</title>\n",
       "<path fill=\"none\" stroke=\"black\" d=\"M622.01,-31C632.392,-31 644.596,-31 656.108,-31\"/>\n",
       "<polygon fill=\"black\" stroke=\"black\" points=\"656.414,-34.5001 666.414,-31 656.414,-27.5001 656.414,-34.5001\"/>\n",
       "<text text-anchor=\"middle\" x=\"644\" y=\"-34.8\" font-family=\"Times,serif\" font-size=\"14.00\">1</text>\n",
       "</g>\n",
       "<!-- St12&#45;&gt;St0 -->\n",
       "<g id=\"edge5\" class=\"edge\"><title>St12&#45;&gt;St0</title>\n",
       "<path fill=\"none\" stroke=\"black\" d=\"M433.425,-31C444.372,-31 456.753,-31 467.843,-31\"/>\n",
       "<polygon fill=\"black\" stroke=\"black\" points=\"467.991,-34.5001 477.991,-31 467.991,-27.5001 467.991,-34.5001\"/>\n",
       "<text text-anchor=\"middle\" x=\"456\" y=\"-34.8\" font-family=\"Times,serif\" font-size=\"14.00\">1</text>\n",
       "</g>\n",
       "<!-- St4&#45;&gt;St6 -->\n",
       "<g id=\"edge2\" class=\"edge\"><title>St4&#45;&gt;St6</title>\n",
       "<path fill=\"none\" stroke=\"black\" d=\"M146.117,-31C156.665,-31 168.939,-31 180.015,-31\"/>\n",
       "<polygon fill=\"black\" stroke=\"black\" points=\"180.172,-34.5001 190.172,-31 180.172,-27.5001 180.172,-34.5001\"/>\n",
       "<text text-anchor=\"middle\" x=\"168\" y=\"-34.8\" font-family=\"Times,serif\" font-size=\"14.00\">1</text>\n",
       "</g>\n",
       "<!-- St13&#45;&gt;St10 -->\n",
       "<g id=\"edge8\" class=\"edge\"><title>St13&#45;&gt;St10</title>\n",
       "<path fill=\"none\" stroke=\"black\" d=\"M729.327,-31C740.298,-31 752.804,-31 764.266,-31\"/>\n",
       "<polygon fill=\"black\" stroke=\"black\" points=\"764.423,-34.5001 774.423,-31 764.423,-27.5001 764.423,-34.5001\"/>\n",
       "<text text-anchor=\"middle\" x=\"752\" y=\"-34.8\" font-family=\"Times,serif\" font-size=\"14.00\">1</text>\n",
       "</g>\n",
       "</g>\n",
       "</svg>\n"
      ],
      "text/plain": [
       "<graphviz.dot.Digraph at 0x1127ec390>"
      ]
     },
     "execution_count": 47,
     "metadata": {},
     "output_type": "execute_result"
    }
   ],
   "source": [
    "dotObj_dfa(min_dfa(nfa2dfa(re2nfa(\"(111+11111)*\"))))"
   ]
  },
  {
   "cell_type": "code",
   "execution_count": 49,
   "metadata": {
    "collapsed": true,
    "run_control": {
     "frozen": false,
     "read_only": false
    }
   },
   "outputs": [],
   "source": [
    "RE_lhs = \"0*+0*1(''+00*1)*000*\""
   ]
  },
  {
   "cell_type": "code",
   "execution_count": 50,
   "metadata": {
    "collapsed": true,
    "run_control": {
     "frozen": false,
     "read_only": false
    }
   },
   "outputs": [],
   "source": [
    "RE_rhs =  \"''+(0+10)*0\""
   ]
  },
  {
   "cell_type": "markdown",
   "metadata": {
    "run_control": {
     "frozen": false,
     "read_only": false
    }
   },
   "source": [
    "# How to ensure that these REs are equivalent?"
   ]
  },
  {
   "cell_type": "code",
   "execution_count": null,
   "metadata": {
    "collapsed": true,
    "run_control": {
     "frozen": false,
     "read_only": false
    }
   },
   "outputs": [],
   "source": []
  },
  {
   "cell_type": "code",
   "execution_count": null,
   "metadata": {
    "collapsed": true,
    "run_control": {
     "frozen": false,
     "read_only": false
    }
   },
   "outputs": [],
   "source": []
  },
  {
   "cell_type": "code",
   "execution_count": null,
   "metadata": {
    "collapsed": true,
    "run_control": {
     "frozen": false,
     "read_only": false
    }
   },
   "outputs": [],
   "source": []
  },
  {
   "cell_type": "code",
   "execution_count": null,
   "metadata": {
    "collapsed": true,
    "run_control": {
     "frozen": false,
     "read_only": false
    }
   },
   "outputs": [],
   "source": []
  },
  {
   "cell_type": "code",
   "execution_count": null,
   "metadata": {
    "collapsed": true,
    "run_control": {
     "frozen": false,
     "read_only": false
    }
   },
   "outputs": [],
   "source": []
  },
  {
   "cell_type": "code",
   "execution_count": null,
   "metadata": {
    "collapsed": true,
    "run_control": {
     "frozen": false,
     "read_only": false
    }
   },
   "outputs": [],
   "source": []
  },
  {
   "cell_type": "code",
   "execution_count": null,
   "metadata": {
    "collapsed": true,
    "run_control": {
     "frozen": false,
     "read_only": false
    }
   },
   "outputs": [],
   "source": []
  },
  {
   "cell_type": "code",
   "execution_count": null,
   "metadata": {
    "collapsed": true,
    "run_control": {
     "frozen": false,
     "read_only": false
    }
   },
   "outputs": [],
   "source": []
  },
  {
   "cell_type": "code",
   "execution_count": null,
   "metadata": {
    "collapsed": true,
    "run_control": {
     "frozen": false,
     "read_only": false
    }
   },
   "outputs": [],
   "source": []
  },
  {
   "cell_type": "code",
   "execution_count": null,
   "metadata": {
    "collapsed": true,
    "run_control": {
     "frozen": false,
     "read_only": false
    }
   },
   "outputs": [],
   "source": []
  },
  {
   "cell_type": "code",
   "execution_count": 51,
   "metadata": {
    "run_control": {
     "frozen": false,
     "read_only": false
    }
   },
   "outputs": [
    {
     "name": "stderr",
     "output_type": "stream",
     "text": [
      "Generating LALR tables\n"
     ]
    },
    {
     "data": {
      "image/svg+xml": [
       "<?xml version=\"1.0\" encoding=\"UTF-8\" standalone=\"no\"?>\n",
       "<!DOCTYPE svg PUBLIC \"-//W3C//DTD SVG 1.1//EN\"\n",
       " \"http://www.w3.org/Graphics/SVG/1.1/DTD/svg11.dtd\">\n",
       "<!-- Generated by graphviz version 2.36.0 (20140111.2315)\n",
       " -->\n",
       "<!-- Title: %3 Pages: 1 -->\n",
       "<svg width=\"334pt\" height=\"126pt\"\n",
       " viewBox=\"0.00 0.00 334.00 126.00\" xmlns=\"http://www.w3.org/2000/svg\" xmlns:xlink=\"http://www.w3.org/1999/xlink\">\n",
       "<g id=\"graph0\" class=\"graph\" transform=\"scale(1 1) rotate(0) translate(4 122)\">\n",
       "<title>%3</title>\n",
       "<polygon fill=\"white\" stroke=\"none\" points=\"-4,4 -4,-122 330,-122 330,4 -4,4\"/>\n",
       "<!-- EMPTY -->\n",
       "<g id=\"node1\" class=\"node\"><title>EMPTY</title>\n",
       "</g>\n",
       "<!-- St1 -->\n",
       "<g id=\"node4\" class=\"node\"><title>St1</title>\n",
       "<ellipse fill=\"none\" stroke=\"black\" cx=\"119\" cy=\"-59\" rx=\"22.9609\" ry=\"22.9609\"/>\n",
       "<ellipse fill=\"none\" stroke=\"black\" cx=\"119\" cy=\"-59\" rx=\"26.9983\" ry=\"26.9983\"/>\n",
       "<text text-anchor=\"middle\" x=\"119\" y=\"-55.3\" font-family=\"Times,serif\" font-size=\"14.00\">St1</text>\n",
       "</g>\n",
       "<!-- EMPTY&#45;&gt;St1 -->\n",
       "<g id=\"edge1\" class=\"edge\"><title>EMPTY&#45;&gt;St1</title>\n",
       "<path fill=\"none\" stroke=\"black\" d=\"M54.0317,-59C62.7072,-59 72.5339,-59 81.8363,-59\"/>\n",
       "<polygon fill=\"black\" stroke=\"black\" points=\"82.0268,-62.5001 92.0268,-59 82.0267,-55.5001 82.0268,-62.5001\"/>\n",
       "</g>\n",
       "<!-- St2 -->\n",
       "<g id=\"node2\" class=\"node\"><title>St2</title>\n",
       "<ellipse fill=\"none\" stroke=\"black\" cx=\"213\" cy=\"-22\" rx=\"22.9987\" ry=\"22.9987\"/>\n",
       "<text text-anchor=\"middle\" x=\"213\" y=\"-18.3\" font-family=\"Times,serif\" font-size=\"14.00\">St2</text>\n",
       "</g>\n",
       "<!-- St3 -->\n",
       "<g id=\"node3\" class=\"node\"><title>St3</title>\n",
       "<ellipse fill=\"none\" stroke=\"black\" cx=\"303\" cy=\"-51\" rx=\"22.9987\" ry=\"22.9987\"/>\n",
       "<text text-anchor=\"middle\" x=\"303\" y=\"-47.3\" font-family=\"Times,serif\" font-size=\"14.00\">St3</text>\n",
       "</g>\n",
       "<!-- St2&#45;&gt;St3 -->\n",
       "<g id=\"edge4\" class=\"edge\"><title>St2&#45;&gt;St3</title>\n",
       "<path fill=\"none\" stroke=\"black\" d=\"M234.855,-28.8726C245.814,-32.4842 259.451,-36.9783 271.567,-40.9711\"/>\n",
       "<polygon fill=\"black\" stroke=\"black\" points=\"270.702,-44.3709 281.295,-44.1767 272.893,-37.7226 270.702,-44.3709\"/>\n",
       "<text text-anchor=\"middle\" x=\"258\" y=\"-41.8\" font-family=\"Times,serif\" font-size=\"14.00\">0</text>\n",
       "</g>\n",
       "<!-- St3&#45;&gt;St2 -->\n",
       "<g id=\"edge5\" class=\"edge\"><title>St3&#45;&gt;St2</title>\n",
       "<path fill=\"none\" stroke=\"black\" d=\"M287.364,-34.1721C280.435,-27.4698 271.581,-20.5218 262,-17 256.692,-15.0488 250.846,-14.4742 245.115,-14.6859\"/>\n",
       "<polygon fill=\"black\" stroke=\"black\" points=\"244.622,-11.2188 235.063,-15.7886 245.385,-18.1771 244.622,-11.2188\"/>\n",
       "<text text-anchor=\"middle\" x=\"258\" y=\"-20.8\" font-family=\"Times,serif\" font-size=\"14.00\">1</text>\n",
       "</g>\n",
       "<!-- St3&#45;&gt;St1 -->\n",
       "<g id=\"edge6\" class=\"edge\"><title>St3&#45;&gt;St1</title>\n",
       "<path fill=\"none\" stroke=\"black\" d=\"M280.466,-54.6967C274.501,-55.5932 268.014,-56.4506 262,-57 226.186,-60.2719 185.083,-60.4646 156.346,-60.0247\"/>\n",
       "<polygon fill=\"black\" stroke=\"black\" points=\"156.039,-56.5185 145.975,-59.8303 155.907,-63.5172 156.039,-56.5185\"/>\n",
       "<text text-anchor=\"middle\" x=\"213\" y=\"-64.8\" font-family=\"Times,serif\" font-size=\"14.00\">0</text>\n",
       "</g>\n",
       "<!-- St1&#45;&gt;St2 -->\n",
       "<g id=\"edge2\" class=\"edge\"><title>St1&#45;&gt;St2</title>\n",
       "<path fill=\"none\" stroke=\"black\" d=\"M144.172,-49.2787C155.85,-44.582 169.972,-38.9025 182.3,-33.9446\"/>\n",
       "<polygon fill=\"black\" stroke=\"black\" points=\"183.749,-37.1342 191.721,-30.1556 181.137,-30.6397 183.749,-37.1342\"/>\n",
       "<text text-anchor=\"middle\" x=\"168\" y=\"-44.8\" font-family=\"Times,serif\" font-size=\"14.00\">1</text>\n",
       "</g>\n",
       "<!-- St1&#45;&gt;St1 -->\n",
       "<g id=\"edge3\" class=\"edge\"><title>St1&#45;&gt;St1</title>\n",
       "<path fill=\"none\" stroke=\"black\" d=\"M110.428,-84.3206C109.943,-94.4761 112.801,-103 119,-103 122.971,-103 125.571,-99.5018 126.8,-94.3174\"/>\n",
       "<polygon fill=\"black\" stroke=\"black\" points=\"130.291,-94.5606 127.572,-84.3206 123.312,-94.0212 130.291,-94.5606\"/>\n",
       "<text text-anchor=\"middle\" x=\"119\" y=\"-106.8\" font-family=\"Times,serif\" font-size=\"14.00\">0</text>\n",
       "</g>\n",
       "</g>\n",
       "</svg>\n"
      ],
      "text/plain": [
       "<graphviz.dot.Digraph at 0x1127e8d30>"
      ]
     },
     "execution_count": 51,
     "metadata": {},
     "output_type": "execute_result"
    }
   ],
   "source": [
    "dotObj_dfa(min_dfa(nfa2dfa(re2nfa(RE_lhs))))"
   ]
  },
  {
   "cell_type": "code",
   "execution_count": 53,
   "metadata": {
    "run_control": {
     "frozen": false,
     "read_only": false
    }
   },
   "outputs": [
    {
     "name": "stderr",
     "output_type": "stream",
     "text": [
      "Generating LALR tables\n"
     ]
    },
    {
     "data": {
      "image/svg+xml": [
       "<?xml version=\"1.0\" encoding=\"UTF-8\" standalone=\"no\"?>\n",
       "<!DOCTYPE svg PUBLIC \"-//W3C//DTD SVG 1.1//EN\"\n",
       " \"http://www.w3.org/Graphics/SVG/1.1/DTD/svg11.dtd\">\n",
       "<!-- Generated by graphviz version 2.36.0 (20140111.2315)\n",
       " -->\n",
       "<!-- Title: %3 Pages: 1 -->\n",
       "<svg width=\"336pt\" height=\"211pt\"\n",
       " viewBox=\"0.00 0.00 336.00 211.00\" xmlns=\"http://www.w3.org/2000/svg\" xmlns:xlink=\"http://www.w3.org/1999/xlink\">\n",
       "<g id=\"graph0\" class=\"graph\" transform=\"scale(1 1) rotate(0) translate(4 207)\">\n",
       "<title>%3</title>\n",
       "<polygon fill=\"white\" stroke=\"none\" points=\"-4,4 -4,-207 332,-207 332,4 -4,4\"/>\n",
       "<!-- EMPTY -->\n",
       "<g id=\"node1\" class=\"node\"><title>EMPTY</title>\n",
       "</g>\n",
       "<!-- St1 -->\n",
       "<g id=\"node5\" class=\"node\"><title>St1</title>\n",
       "<ellipse fill=\"none\" stroke=\"black\" cx=\"119\" cy=\"-143\" rx=\"22.9609\" ry=\"22.9609\"/>\n",
       "<ellipse fill=\"none\" stroke=\"black\" cx=\"119\" cy=\"-143\" rx=\"26.9983\" ry=\"26.9983\"/>\n",
       "<text text-anchor=\"middle\" x=\"119\" y=\"-139.3\" font-family=\"Times,serif\" font-size=\"14.00\">St1</text>\n",
       "</g>\n",
       "<!-- EMPTY&#45;&gt;St1 -->\n",
       "<g id=\"edge1\" class=\"edge\"><title>EMPTY&#45;&gt;St1</title>\n",
       "<path fill=\"none\" stroke=\"black\" d=\"M54.0317,-143C62.7072,-143 72.5339,-143 81.8363,-143\"/>\n",
       "<polygon fill=\"black\" stroke=\"black\" points=\"82.0268,-146.5 92.0268,-143 82.0267,-139.5 82.0268,-146.5\"/>\n",
       "</g>\n",
       "<!-- St0 -->\n",
       "<g id=\"node2\" class=\"node\"><title>St0</title>\n",
       "<ellipse fill=\"none\" stroke=\"black\" cx=\"304\" cy=\"-153\" rx=\"22.9987\" ry=\"22.9987\"/>\n",
       "<text text-anchor=\"middle\" x=\"304\" y=\"-149.3\" font-family=\"Times,serif\" font-size=\"14.00\">St0</text>\n",
       "</g>\n",
       "<!-- St4 -->\n",
       "<g id=\"node3\" class=\"node\"><title>St4</title>\n",
       "<ellipse fill=\"none\" stroke=\"black\" cx=\"213\" cy=\"-104\" rx=\"22.9987\" ry=\"22.9987\"/>\n",
       "<text text-anchor=\"middle\" x=\"213\" y=\"-100.3\" font-family=\"Times,serif\" font-size=\"14.00\">St4</text>\n",
       "</g>\n",
       "<!-- St0&#45;&gt;St4 -->\n",
       "<g id=\"edge8\" class=\"edge\"><title>St0&#45;&gt;St4</title>\n",
       "<path fill=\"none\" stroke=\"black\" d=\"M290.782,-134.574C283.57,-125.277 273.588,-114.774 262,-109 257.156,-106.587 251.701,-105.073 246.251,-104.158\"/>\n",
       "<polygon fill=\"black\" stroke=\"black\" points=\"246.254,-100.639 235.939,-103.059 245.512,-107.599 246.254,-100.639\"/>\n",
       "<text text-anchor=\"middle\" x=\"258\" y=\"-112.8\" font-family=\"Times,serif\" font-size=\"14.00\">1</text>\n",
       "</g>\n",
       "<!-- St0&#45;&gt;St1 -->\n",
       "<g id=\"edge9\" class=\"edge\"><title>St0&#45;&gt;St1</title>\n",
       "<path fill=\"none\" stroke=\"black\" d=\"M281.023,-151.799C250.115,-150.11 193.431,-147.013 156.234,-144.98\"/>\n",
       "<polygon fill=\"black\" stroke=\"black\" points=\"156.007,-141.462 145.831,-144.412 155.625,-148.452 156.007,-141.462\"/>\n",
       "<text text-anchor=\"middle\" x=\"213\" y=\"-153.8\" font-family=\"Times,serif\" font-size=\"14.00\">0</text>\n",
       "</g>\n",
       "<!-- St4&#45;&gt;St0 -->\n",
       "<g id=\"edge5\" class=\"edge\"><title>St4&#45;&gt;St0</title>\n",
       "<path fill=\"none\" stroke=\"black\" d=\"M233.312,-114.632C245.441,-121.31 261.293,-130.038 274.813,-137.481\"/>\n",
       "<polygon fill=\"black\" stroke=\"black\" points=\"273.278,-140.631 283.726,-142.388 276.654,-134.499 273.278,-140.631\"/>\n",
       "<text text-anchor=\"middle\" x=\"258\" y=\"-133.8\" font-family=\"Times,serif\" font-size=\"14.00\">0</text>\n",
       "</g>\n",
       "<!-- BH -->\n",
       "<g id=\"node4\" class=\"node\"><title>BH</title>\n",
       "<ellipse fill=\"none\" stroke=\"black\" cx=\"304\" cy=\"-23\" rx=\"23.2963\" ry=\"23.2963\"/>\n",
       "<text text-anchor=\"middle\" x=\"304\" y=\"-19.3\" font-family=\"Times,serif\" font-size=\"14.00\">BH</text>\n",
       "</g>\n",
       "<!-- St4&#45;&gt;BH -->\n",
       "<g id=\"edge4\" class=\"edge\"><title>St4&#45;&gt;BH</title>\n",
       "<path fill=\"none\" stroke=\"black\" d=\"M230.324,-89.1434C243.828,-76.8533 263.212,-59.2113 278.566,-45.2379\"/>\n",
       "<polygon fill=\"black\" stroke=\"black\" points=\"281.135,-47.6322 286.175,-38.3128 276.423,-42.4552 281.135,-47.6322\"/>\n",
       "<text text-anchor=\"middle\" x=\"258\" y=\"-69.8\" font-family=\"Times,serif\" font-size=\"14.00\">1</text>\n",
       "</g>\n",
       "<!-- BH&#45;&gt;BH -->\n",
       "<g id=\"edge6\" class=\"edge\"><title>BH&#45;&gt;BH</title>\n",
       "<path fill=\"none\" stroke=\"black\" d=\"M299.725,-46.1818C299.431,-55.8254 300.855,-64 304,-64 305.916,-64 307.194,-60.9644 307.833,-56.4107\"/>\n",
       "<polygon fill=\"black\" stroke=\"black\" points=\"311.34,-56.3236 308.275,-46.1818 304.346,-56.0215 311.34,-56.3236\"/>\n",
       "<text text-anchor=\"middle\" x=\"304\" y=\"-67.8\" font-family=\"Times,serif\" font-size=\"14.00\">1</text>\n",
       "</g>\n",
       "<!-- BH&#45;&gt;BH -->\n",
       "<g id=\"edge7\" class=\"edge\"><title>BH&#45;&gt;BH</title>\n",
       "<path fill=\"none\" stroke=\"black\" d=\"M296.639,-45.0917C293.595,-63.197 296.049,-82 304,-82 310.46,-82 313.291,-69.5871 312.493,-55.221\"/>\n",
       "<polygon fill=\"black\" stroke=\"black\" points=\"315.95,-54.641 311.361,-45.0917 308.994,-55.4187 315.95,-54.641\"/>\n",
       "<text text-anchor=\"middle\" x=\"304\" y=\"-85.8\" font-family=\"Times,serif\" font-size=\"14.00\">0</text>\n",
       "</g>\n",
       "<!-- St1&#45;&gt;St4 -->\n",
       "<g id=\"edge2\" class=\"edge\"><title>St1&#45;&gt;St4</title>\n",
       "<path fill=\"none\" stroke=\"black\" d=\"M144.172,-132.753C155.85,-127.803 169.972,-121.816 182.3,-116.59\"/>\n",
       "<polygon fill=\"black\" stroke=\"black\" points=\"183.88,-119.722 191.721,-112.596 181.148,-113.277 183.88,-119.722\"/>\n",
       "<text text-anchor=\"middle\" x=\"168\" y=\"-127.8\" font-family=\"Times,serif\" font-size=\"14.00\">1</text>\n",
       "</g>\n",
       "<!-- St1&#45;&gt;St1 -->\n",
       "<g id=\"edge3\" class=\"edge\"><title>St1&#45;&gt;St1</title>\n",
       "<path fill=\"none\" stroke=\"black\" d=\"M110.428,-168.321C109.943,-178.476 112.801,-187 119,-187 122.971,-187 125.571,-183.502 126.8,-178.317\"/>\n",
       "<polygon fill=\"black\" stroke=\"black\" points=\"130.291,-178.561 127.572,-168.321 123.312,-178.021 130.291,-178.561\"/>\n",
       "<text text-anchor=\"middle\" x=\"119\" y=\"-190.8\" font-family=\"Times,serif\" font-size=\"14.00\">0</text>\n",
       "</g>\n",
       "</g>\n",
       "</svg>\n"
      ],
      "text/plain": [
       "<graphviz.dot.Digraph at 0x1127e0668>"
      ]
     },
     "execution_count": 53,
     "metadata": {},
     "output_type": "execute_result"
    }
   ],
   "source": [
    "dotObj_dfa_w_bh(min_dfa(nfa2dfa(re2nfa(RE_rhs))))"
   ]
  },
  {
   "cell_type": "code",
   "execution_count": null,
   "metadata": {
    "collapsed": true,
    "run_control": {
     "frozen": false,
     "read_only": false
    }
   },
   "outputs": [],
   "source": []
  },
  {
   "cell_type": "markdown",
   "metadata": {
    "run_control": {
     "frozen": false,
     "read_only": false
    }
   },
   "source": [
    "# For fun, convert RE_lhs and RE_rhs back to RE via re2nfa and nfa2re"
   ]
  },
  {
   "cell_type": "code",
   "execution_count": null,
   "metadata": {
    "collapsed": true,
    "run_control": {
     "frozen": false,
     "read_only": false
    }
   },
   "outputs": [],
   "source": []
  },
  {
   "cell_type": "code",
   "execution_count": null,
   "metadata": {
    "run_control": {
     "frozen": false,
     "read_only": false
    }
   },
   "outputs": [],
   "source": [
    "dotObj_nfa(re2nfa(\"''\"))"
   ]
  },
  {
   "cell_type": "code",
   "execution_count": null,
   "metadata": {
    "run_control": {
     "frozen": false,
     "read_only": false
    }
   },
   "outputs": [],
   "source": [
    "dotObj_nfa(re2nfa(\"a\"))"
   ]
  },
  {
   "cell_type": "code",
   "execution_count": null,
   "metadata": {
    "run_control": {
     "frozen": false,
     "read_only": false
    }
   },
   "outputs": [],
   "source": [
    "dotObj_nfa(re2nfa(\"  (10)* (11)  \"))"
   ]
  },
  {
   "cell_type": "code",
   "execution_count": null,
   "metadata": {
    "run_control": {
     "frozen": false,
     "read_only": false
    }
   },
   "outputs": [],
   "source": [
    "re2nfa(\"  (10)* (11)  \")"
   ]
  },
  {
   "cell_type": "code",
   "execution_count": null,
   "metadata": {
    "run_control": {
     "frozen": false,
     "read_only": false
    }
   },
   "outputs": [],
   "source": [
    "NFA1 = re2nfa(\"   (a+b+c)(p+q)*(m+n) \" )"
   ]
  },
  {
   "cell_type": "code",
   "execution_count": null,
   "metadata": {
    "run_control": {
     "frozen": false,
     "read_only": false
    }
   },
   "outputs": [],
   "source": [
    "dotObj_nfa(mk_gnfa(NFA1))"
   ]
  },
  {
   "cell_type": "code",
   "execution_count": null,
   "metadata": {
    "collapsed": true,
    "run_control": {
     "frozen": false,
     "read_only": false
    }
   },
   "outputs": [],
   "source": [
    "GNFA1 = mk_gnfa(NFA1)"
   ]
  },
  {
   "cell_type": "code",
   "execution_count": null,
   "metadata": {
    "run_control": {
     "frozen": false,
     "read_only": false
    }
   },
   "outputs": [],
   "source": [
    "(Gnfa_fina, DO, REfinal) = del_gnfa_states(GNFA1)"
   ]
  },
  {
   "cell_type": "code",
   "execution_count": null,
   "metadata": {
    "run_control": {
     "frozen": false,
     "read_only": false
    }
   },
   "outputs": [],
   "source": [
    "REfinal"
   ]
  },
  {
   "cell_type": "code",
   "execution_count": null,
   "metadata": {
    "run_control": {
     "frozen": false,
     "read_only": false
    }
   },
   "outputs": [],
   "source": [
    "DO[0]"
   ]
  },
  {
   "cell_type": "code",
   "execution_count": null,
   "metadata": {
    "run_control": {
     "frozen": false,
     "read_only": false
    }
   },
   "outputs": [],
   "source": [
    "DO[1]"
   ]
  },
  {
   "cell_type": "code",
   "execution_count": null,
   "metadata": {
    "run_control": {
     "frozen": false,
     "read_only": false
    }
   },
   "outputs": [],
   "source": [
    "DO[2]"
   ]
  },
  {
   "cell_type": "code",
   "execution_count": null,
   "metadata": {
    "run_control": {
     "frozen": false,
     "read_only": false
    }
   },
   "outputs": [],
   "source": [
    "DO[5]"
   ]
  },
  {
   "cell_type": "code",
   "execution_count": null,
   "metadata": {
    "run_control": {
     "frozen": false,
     "read_only": false
    }
   },
   "outputs": [],
   "source": [
    "len(DO)"
   ]
  },
  {
   "cell_type": "code",
   "execution_count": null,
   "metadata": {
    "run_control": {
     "frozen": false,
     "read_only": false
    }
   },
   "outputs": [],
   "source": [
    "DO[13]"
   ]
  },
  {
   "cell_type": "code",
   "execution_count": null,
   "metadata": {
    "run_control": {
     "frozen": false,
     "read_only": false
    }
   },
   "outputs": [],
   "source": [
    "DO[15]"
   ]
  },
  {
   "cell_type": "code",
   "execution_count": null,
   "metadata": {
    "run_control": {
     "frozen": false,
     "read_only": false
    }
   },
   "outputs": [],
   "source": [
    "dotObj_dfa(comp_dfa(min_dfa(nfa2dfa(re2nfa(\" (1+0)*(111+000+100+010+001)(1+0)* \")))))"
   ]
  },
  {
   "cell_type": "code",
   "execution_count": null,
   "metadata": {
    "collapsed": true,
    "run_control": {
     "frozen": false,
     "read_only": false
    }
   },
   "outputs": [],
   "source": []
  },
  {
   "cell_type": "markdown",
   "metadata": {
    "run_control": {
     "frozen": false,
     "read_only": false
    }
   },
   "source": [
    "An NFA is a machine $(Q, \\Sigma, \\delta, Q_0, F)$ which is somewhat like a DFA \n",
    "except that \n",
    "\n",
    "1. It can start from a __set__ of starting states $Q_0$\n",
    "    > i.e., the NFA can start from more than one starting state\n",
    "    \n",
    "2. Its transition function $\\delta$ maps $Q\\times (\\Sigma\\cup \\{\\varepsilon\\})$ to $2^{Q}$\n",
    "    > i.e., the NFA takes a state $Q$ and a symbol and returns a set of states\n",
    "    \n",
    "You can see these aspects being illustrated in the NFA to follow"
   ]
  },
  {
   "cell_type": "markdown",
   "metadata": {
    "run_control": {
     "frozen": false,
     "read_only": false
    }
   },
   "source": [
    "# RE to NFA"
   ]
  },
  {
   "cell_type": "code",
   "execution_count": null,
   "metadata": {
    "run_control": {
     "frozen": false,
     "read_only": false
    }
   },
   "outputs": [],
   "source": [
    "dotObj_nfa(re2nfa(\"''\"))"
   ]
  },
  {
   "cell_type": "code",
   "execution_count": null,
   "metadata": {
    "run_control": {
     "frozen": false,
     "read_only": false
    }
   },
   "outputs": [],
   "source": [
    "dotObj_nfa(re2nfa(\"a\"))"
   ]
  },
  {
   "cell_type": "code",
   "execution_count": null,
   "metadata": {
    "run_control": {
     "frozen": false,
     "read_only": false
    }
   },
   "outputs": [],
   "source": [
    "dotObj_nfa(re2nfa(\"ab\"))"
   ]
  },
  {
   "cell_type": "code",
   "execution_count": null,
   "metadata": {
    "run_control": {
     "frozen": false,
     "read_only": false
    }
   },
   "outputs": [],
   "source": [
    "dotObj_nfa(re2nfa(\"a+b\"))"
   ]
  },
  {
   "cell_type": "code",
   "execution_count": null,
   "metadata": {
    "run_control": {
     "frozen": false,
     "read_only": false
    }
   },
   "outputs": [],
   "source": [
    "dotObj_nfa(re2nfa(\"a*\"))"
   ]
  },
  {
   "cell_type": "code",
   "execution_count": null,
   "metadata": {
    "run_control": {
     "frozen": false,
     "read_only": false
    }
   },
   "outputs": [],
   "source": [
    "dotObj_nfa(re2nfa(\"''*\"))"
   ]
  },
  {
   "cell_type": "code",
   "execution_count": null,
   "metadata": {
    "run_control": {
     "frozen": false,
     "read_only": false
    }
   },
   "outputs": [],
   "source": [
    "nfromr = re2nfa(\"ab(a+b)*\")"
   ]
  },
  {
   "cell_type": "code",
   "execution_count": null,
   "metadata": {
    "run_control": {
     "frozen": false,
     "read_only": false
    },
    "scrolled": true
   },
   "outputs": [],
   "source": [
    "dotObj_nfa(nfromr)"
   ]
  },
  {
   "cell_type": "code",
   "execution_count": null,
   "metadata": {
    "run_control": {
     "frozen": false,
     "read_only": false
    }
   },
   "outputs": [],
   "source": [
    "dotObj_nfa(re2nfa(\"(01)*1+0\"))"
   ]
  },
  {
   "cell_type": "markdown",
   "metadata": {
    "run_control": {
     "frozen": false,
     "read_only": false
    }
   },
   "source": [
    "# NFA to RE"
   ]
  },
  {
   "cell_type": "code",
   "execution_count": null,
   "metadata": {
    "run_control": {
     "frozen": false,
     "read_only": false
    }
   },
   "outputs": [],
   "source": [
    "mk_gnfa"
   ]
  },
  {
   "cell_type": "code",
   "execution_count": null,
   "metadata": {
    "run_control": {
     "frozen": false,
     "read_only": false
    }
   },
   "outputs": [],
   "source": [
    "help(mk_gnfa)"
   ]
  },
  {
   "cell_type": "code",
   "execution_count": null,
   "metadata": {
    "run_control": {
     "frozen": false,
     "read_only": false
    }
   },
   "outputs": [],
   "source": [
    "gnfromr = mk_gnfa(nfromr)\n",
    "dotObj_gnfa(gnfromr)"
   ]
  },
  {
   "cell_type": "code",
   "execution_count": null,
   "metadata": {
    "run_control": {
     "frozen": false,
     "read_only": false
    }
   },
   "outputs": [],
   "source": [
    "del_gnfa_states"
   ]
  },
  {
   "cell_type": "code",
   "execution_count": null,
   "metadata": {
    "run_control": {
     "frozen": false,
     "read_only": false
    }
   },
   "outputs": [],
   "source": [
    "help(del_gnfa_states)"
   ]
  },
  {
   "cell_type": "code",
   "execution_count": null,
   "metadata": {
    "run_control": {
     "frozen": false,
     "read_only": false
    }
   },
   "outputs": [],
   "source": [
    "(Gf, DO, RE) = del_gnfa_states(gnfromr)"
   ]
  },
  {
   "cell_type": "code",
   "execution_count": null,
   "metadata": {
    "run_control": {
     "frozen": false,
     "read_only": false
    }
   },
   "outputs": [],
   "source": [
    "RE"
   ]
  },
  {
   "cell_type": "code",
   "execution_count": null,
   "metadata": {
    "run_control": {
     "frozen": false,
     "read_only": false
    }
   },
   "outputs": [],
   "source": [
    "DO[0]"
   ]
  },
  {
   "cell_type": "code",
   "execution_count": null,
   "metadata": {
    "run_control": {
     "frozen": false,
     "read_only": false
    }
   },
   "outputs": [],
   "source": [
    "DO[6]"
   ]
  },
  {
   "cell_type": "code",
   "execution_count": null,
   "metadata": {
    "collapsed": true,
    "run_control": {
     "frozen": false,
     "read_only": false
    }
   },
   "outputs": [],
   "source": []
  },
  {
   "cell_type": "code",
   "execution_count": null,
   "metadata": {
    "run_control": {
     "frozen": false,
     "read_only": false
    }
   },
   "outputs": [],
   "source": [
    "DO[7]"
   ]
  },
  {
   "cell_type": "code",
   "execution_count": null,
   "metadata": {
    "run_control": {
     "frozen": false,
     "read_only": false
    }
   },
   "outputs": [],
   "source": [
    "DO[8]"
   ]
  },
  {
   "cell_type": "code",
   "execution_count": null,
   "metadata": {
    "run_control": {
     "frozen": false,
     "read_only": false
    }
   },
   "outputs": [],
   "source": [
    "DO[9]"
   ]
  },
  {
   "cell_type": "code",
   "execution_count": null,
   "metadata": {
    "run_control": {
     "frozen": false,
     "read_only": false
    }
   },
   "outputs": [],
   "source": [
    "dotObj_dfa(min_dfa(nfa2dfa(re2nfa(RE))))"
   ]
  },
  {
   "cell_type": "code",
   "execution_count": null,
   "metadata": {
    "run_control": {
     "frozen": false,
     "read_only": false
    }
   },
   "outputs": [],
   "source": [
    "min_dfa"
   ]
  },
  {
   "cell_type": "code",
   "execution_count": null,
   "metadata": {
    "run_control": {
     "frozen": false,
     "read_only": false
    }
   },
   "outputs": [],
   "source": [
    "min_dfa_brz"
   ]
  },
  {
   "cell_type": "code",
   "execution_count": null,
   "metadata": {
    "collapsed": true,
    "run_control": {
     "frozen": false,
     "read_only": false
    }
   },
   "outputs": [],
   "source": []
  }
 ],
 "metadata": {
  "kernelspec": {
   "display_name": "Python 3",
   "language": "python",
   "name": "python3"
  },
  "language_info": {
   "codemirror_mode": {
    "name": "ipython",
    "version": 3
   },
   "file_extension": ".py",
   "mimetype": "text/x-python",
   "name": "python",
   "nbconvert_exporter": "python",
   "pygments_lexer": "ipython3",
   "version": "3.6.0"
  },
  "toc": {
   "colors": {
    "hover_highlight": "#DAA520",
    "running_highlight": "#FF0000",
    "selected_highlight": "#FFD700"
   },
   "moveMenuLeft": true,
   "nav_menu": {
    "height": "318px",
    "width": "252px"
   },
   "navigate_menu": true,
   "number_sections": true,
   "sideBar": true,
   "threshold": 4,
   "toc_cell": false,
   "toc_section_display": "block",
   "toc_window_display": false,
   "widenNotebook": false
  }
 },
 "nbformat": 4,
 "nbformat_minor": 1
}
