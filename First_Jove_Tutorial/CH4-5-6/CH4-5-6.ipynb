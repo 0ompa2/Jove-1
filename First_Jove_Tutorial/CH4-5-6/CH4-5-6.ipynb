{
 "cells": [
  {
   "cell_type": "markdown",
   "metadata": {
    "run_control": {
     "frozen": false,
     "read_only": false
    }
   },
   "source": [
    "# A DFA Overview Video\n",
    "\n",
    "If you'd like to relive my first lecture on DFA, be my guest; play the Youtube video below!\n",
    "My own advice: listen a little and then stop the video and start playing with the code below!"
   ]
  },
  {
   "cell_type": "code",
   "execution_count": 1,
   "metadata": {
    "run_control": {
     "frozen": false,
     "read_only": false
    }
   },
   "outputs": [
    {
     "data": {
      "image/jpeg": "[encoded data removed]",
      "text/html": [
       "\n",
       "        <iframe\n",
       "            width=\"400\"\n",
       "            height=\"300\"\n",
       "            src=\"https://www.youtube.com/embed/FItN6CK1mow\"\n",
       "            frameborder=\"0\"\n",
       "            allowfullscreen\n",
       "        ></iframe>\n",
       "        "
      ],
      "text/plain": [
       "<IPython.lib.display.YouTubeVideo at 0x1059c2940>"
      ]
     },
     "execution_count": 1,
     "metadata": {},
     "output_type": "execute_result"
    }
   ],
   "source": [
    "# This Youtube video walks through a basic DFA lecture\n",
    "from IPython.display import YouTubeVideo\n",
    "YouTubeVideo('FItN6CK1mow')"
   ]
  },
  {
   "cell_type": "markdown",
   "metadata": {
    "run_control": {
     "frozen": false,
     "read_only": false
    }
   },
   "source": [
    "# Simple DFA Exercises"
   ]
  },
  {
   "cell_type": "code",
   "execution_count": 2,
   "metadata": {
    "run_control": {
     "frozen": false,
     "read_only": false
    }
   },
   "outputs": [
    {
     "name": "stdout",
     "output_type": "stream",
     "text": [
      "You may use any of these help commands:\n",
      "help(ResetStNum)\n",
      "help(NxtStateStr)\n",
      "\n",
      "You may use any of these help commands:\n",
      "help(md2mc)\n",
      ".. and if you want to dig more, then ..\n",
      "help(default_line_attr)\n",
      "help(length_ok_input_items)\n",
      "help(union_line_attr_list_fld)\n",
      "help(extend_rsltdict)\n",
      "help(form_delta)\n",
      "help(get_machine_components)\n",
      "\n",
      "You may use any of these help commands:\n",
      "help(mkp_dfa)\n",
      "help(mk_dfa)\n",
      "help(totalize_dfa)\n",
      "help(addtosigma_delta)\n",
      "help(step_dfa)\n",
      "help(run_dfa)\n",
      "help(accepts_dfa)\n",
      "help(comp_dfa)\n",
      "help(union_dfa)\n",
      "help(intersect_dfa)\n",
      "help(pruneUnreach)\n",
      "help(iso_dfa)\n",
      "help(langeq_dfa)\n",
      "help(same_status)\n",
      "help(h_langeq_dfa)\n",
      "help(fixptDist)\n",
      "help(min_dfa)\n",
      "help(pairFR)\n",
      "help(state_combos)\n",
      "help(sepFinNonFin)\n",
      "help(bash_eql_classes)\n",
      "help(listminus)\n",
      "help(bash_1)\n",
      "help(mk_rep_eqc)\n",
      "help(F_of)\n",
      "help(rep_of_s)\n",
      "help(q0_of)\n",
      "help(Delta_of)\n",
      "help(mk_state_eqc_name)\n",
      "\n"
     ]
    }
   ],
   "source": [
    "from jove.DotBashers import *\n",
    "from jove.Def_md2mc  import *\n",
    "from jove.Def_DFA    import *"
   ]
  },
  {
   "cell_type": "markdown",
   "metadata": {
    "run_control": {
     "frozen": false,
     "read_only": false
    }
   },
   "source": [
    "# Try using a few help commands"
   ]
  },
  {
   "cell_type": "code",
   "execution_count": 3,
   "metadata": {
    "run_control": {
     "frozen": false,
     "read_only": false
    }
   },
   "outputs": [
    {
     "name": "stdout",
     "output_type": "stream",
     "text": [
      "Help on function md2mc in module jove.Def_md2mc:\n",
      "\n",
      "md2mc(src='None', fname='None')\n",
      "    md2mc converts a markdown source to a machine (mc).\n",
      "    \n",
      "    One can feed the markdown in three ways, shown via \n",
      "    pseudo-examples:\n",
      "    \n",
      "    1) md2mc()\n",
      "    \n",
      "       It means you will provide a file-name\n",
      "       (you will be prompted for one). Then the markdown is read from\n",
      "       that file. \n",
      "       \n",
      "    2) md2mc(src=\"<any string S other than 'File'>\")\n",
      "    \n",
      "       S is now taken as the markdown string and parsed. This is \n",
      "       bound to be a multi-line file. \n",
      "       \n",
      "       There is a Jupyter bug that if the parser (or any process) \n",
      "       consuming a multi-line input throws an exception, you will get \n",
      "       a strange error message: \n",
      "       ERROR:root:An unexpected error occurred while tokenizing input\n",
      "       Ignore it please, and instead spend your time fixing the \n",
      "       markdown input. See for details:\n",
      "       https://github.com/ipython/ipython/issues/6864\n",
      "       \n",
      "       \n",
      "    3) md2mc(src=\"File\", fname=\"<your file name path>\")\n",
      "    \n",
      "       Obviously, you should not be feeding a markdown with contents \n",
      "       \"File\". It is not legit markdown syntax. So if src=\"File\", \n",
      "       then fname is taken to be the path-name to a file that is \n",
      "       opened and read.\n",
      "     \n",
      "    In all cases, the returned result is a machine structure (dict).\n",
      "\n"
     ]
    }
   ],
   "source": [
    "help(md2mc)"
   ]
  },
  {
   "cell_type": "code",
   "execution_count": 4,
   "metadata": {
    "run_control": {
     "frozen": false,
     "read_only": false
    }
   },
   "outputs": [
    {
     "name": "stdout",
     "output_type": "stream",
     "text": [
      "Help on function intersect_dfa in module jove.Def_DFA:\n",
      "\n",
      "intersect_dfa(D1in, D2in)\n",
      "    In : D1in (consistent DFA)\n",
      "         D2in (consistent DFA)\n",
      "    Out: DFA for language intersection of D1in, D2in (consistent DFA).\n",
      "\n"
     ]
    }
   ],
   "source": [
    "help(intersect_dfa)"
   ]
  },
  {
   "cell_type": "markdown",
   "metadata": {
    "run_control": {
     "frozen": false,
     "read_only": false
    }
   },
   "source": [
    "# Specify your DFA : now as a \"raw\" dict\n",
    "\n",
    "This is error-prone. A better method will be introduced momentarily!"
   ]
  },
  {
   "cell_type": "code",
   "execution_count": 5,
   "metadata": {
    "run_control": {
     "frozen": false,
     "read_only": false
    }
   },
   "outputs": [],
   "source": [
    "Fig34 = {\n",
    " 'Q': {'A', 'F', 'I'},\n",
    " 'Sigma': {'0', '1'},\n",
    " 'Delta': {('A', '0'): 'I',\n",
    "  ('A', '1'): 'I',\n",
    "  ('F', '0'): 'I',\n",
    "  ('F', '1'): 'I',\n",
    "  ('I', '0'): 'A',\n",
    "  ('I', '1'): 'F'},\n",
    " 'q0': 'I',\n",
    " 'F': {'F'}\n",
    "}"
   ]
  },
  {
   "cell_type": "code",
   "execution_count": 6,
   "metadata": {
    "run_control": {
     "frozen": false,
     "read_only": false
    }
   },
   "outputs": [
    {
     "data": {
      "image/svg+xml": [
       "<?xml version=\"1.0\" encoding=\"UTF-8\" standalone=\"no\"?>\n",
       "<!DOCTYPE svg PUBLIC \"-//W3C//DTD SVG 1.1//EN\"\n",
       " \"http://www.w3.org/Graphics/SVG/1.1/DTD/svg11.dtd\">\n",
       "<!-- Generated by graphviz version 2.38.0 (20140413.2041)\n",
       " -->\n",
       "<!-- Title: %3 Pages: 1 -->\n",
       "<svg width=\"222pt\" height=\"160pt\"\n",
       " viewBox=\"0.00 0.00 222.00 159.85\" xmlns=\"http://www.w3.org/2000/svg\" xmlns:xlink=\"http://www.w3.org/1999/xlink\">\n",
       "<g id=\"graph0\" class=\"graph\" transform=\"scale(1 1) rotate(0) translate(4 155.851)\">\n",
       "<title>%3</title>\n",
       "<polygon fill=\"white\" stroke=\"none\" points=\"-4,4 -4,-155.851 218,-155.851 218,4 -4,4\"/>\n",
       "<!-- EMPTY -->\n",
       "<g id=\"node1\" class=\"node\"><title>EMPTY</title>\n",
       "</g>\n",
       "<!-- I -->\n",
       "<g id=\"node2\" class=\"node\"><title>I</title>\n",
       "<ellipse fill=\"none\" stroke=\"black\" cx=\"109\" cy=\"-77.8506\" rx=\"18\" ry=\"18\"/>\n",
       "<text text-anchor=\"middle\" x=\"109\" y=\"-73.6506\" font-family=\"Times,serif\" font-size=\"14.00\">I</text>\n",
       "</g>\n",
       "<!-- EMPTY&#45;&gt;I -->\n",
       "<g id=\"edge1\" class=\"edge\"><title>EMPTY&#45;&gt;I</title>\n",
       "<path fill=\"none\" stroke=\"black\" d=\"M54.195,-77.8506C62.6538,-77.8506 72.0513,-77.8506 80.5951,-77.8506\"/>\n",
       "<polygon fill=\"black\" stroke=\"black\" points=\"80.8257,-81.3507 90.8257,-77.8506 80.8257,-74.3507 80.8257,-81.3507\"/>\n",
       "</g>\n",
       "<!-- A -->\n",
       "<g id=\"node3\" class=\"node\"><title>A</title>\n",
       "<ellipse fill=\"none\" stroke=\"black\" cx=\"192\" cy=\"-133.851\" rx=\"18\" ry=\"18\"/>\n",
       "<text text-anchor=\"middle\" x=\"192\" y=\"-129.651\" font-family=\"Times,serif\" font-size=\"14.00\">A</text>\n",
       "</g>\n",
       "<!-- I&#45;&gt;A -->\n",
       "<g id=\"edge6\" class=\"edge\"><title>I&#45;&gt;A</title>\n",
       "<path fill=\"none\" stroke=\"black\" d=\"M115.748,-94.8323C121.115,-107.763 130.503,-124.686 145,-132.851 150.755,-136.092 157.592,-137.343 164.21,-137.553\"/>\n",
       "<polygon fill=\"black\" stroke=\"black\" points=\"164.39,-141.049 174.245,-137.16 164.116,-134.054 164.39,-141.049\"/>\n",
       "<text text-anchor=\"middle\" x=\"148.5\" y=\"-137.651\" font-family=\"Times,serif\" font-size=\"14.00\">0</text>\n",
       "</g>\n",
       "<!-- F -->\n",
       "<g id=\"node4\" class=\"node\"><title>F</title>\n",
       "<ellipse fill=\"none\" stroke=\"black\" cx=\"192\" cy=\"-22.8506\" rx=\"18\" ry=\"18\"/>\n",
       "<ellipse fill=\"none\" stroke=\"black\" cx=\"192\" cy=\"-22.8506\" rx=\"22\" ry=\"22\"/>\n",
       "<text text-anchor=\"middle\" x=\"192\" y=\"-18.6506\" font-family=\"Times,serif\" font-size=\"14.00\">F</text>\n",
       "</g>\n",
       "<!-- I&#45;&gt;F -->\n",
       "<g id=\"edge7\" class=\"edge\"><title>I&#45;&gt;F</title>\n",
       "<path fill=\"none\" stroke=\"black\" d=\"M124.481,-68.0177C135.68,-60.4138 151.481,-49.6848 164.872,-40.5915\"/>\n",
       "<polygon fill=\"black\" stroke=\"black\" points=\"166.945,-43.4146 173.252,-34.9015 163.013,-37.6235 166.945,-43.4146\"/>\n",
       "<text text-anchor=\"middle\" x=\"148.5\" y=\"-55.6506\" font-family=\"Times,serif\" font-size=\"14.00\">1</text>\n",
       "</g>\n",
       "<!-- A&#45;&gt;I -->\n",
       "<g id=\"edge2\" class=\"edge\"><title>A&#45;&gt;I</title>\n",
       "<path fill=\"none\" stroke=\"black\" d=\"M174.973,-127.709C165.797,-123.828 154.297,-118.328 145,-111.851 139.344,-107.91 133.747,-103.039 128.743,-98.2276\"/>\n",
       "<polygon fill=\"black\" stroke=\"black\" points=\"130.969,-95.5007 121.445,-90.8577 125.995,-100.426 130.969,-95.5007\"/>\n",
       "<text text-anchor=\"middle\" x=\"148.5\" y=\"-117.651\" font-family=\"Times,serif\" font-size=\"14.00\">0</text>\n",
       "</g>\n",
       "<!-- A&#45;&gt;I -->\n",
       "<g id=\"edge3\" class=\"edge\"><title>A&#45;&gt;I</title>\n",
       "<path fill=\"none\" stroke=\"black\" d=\"M180.272,-120.116C173.04,-111.609 162.864,-100.984 152,-93.8506 147.19,-90.6921 141.665,-88.0255 136.237,-85.8296\"/>\n",
       "<polygon fill=\"black\" stroke=\"black\" points=\"137.341,-82.5066 126.746,-82.3806 134.95,-89.0856 137.341,-82.5066\"/>\n",
       "<text text-anchor=\"middle\" x=\"148.5\" y=\"-96.6506\" font-family=\"Times,serif\" font-size=\"14.00\">1</text>\n",
       "</g>\n",
       "<!-- F&#45;&gt;I -->\n",
       "<g id=\"edge4\" class=\"edge\"><title>F&#45;&gt;I</title>\n",
       "<path fill=\"none\" stroke=\"black\" d=\"M170.208,-19.2536C161.899,-18.8141 152.535,-19.6487 145,-23.8506 133.907,-30.0374 125.763,-41.38 120.138,-52.0785\"/>\n",
       "<polygon fill=\"black\" stroke=\"black\" points=\"116.95,-50.6329 115.831,-61.1686 123.276,-53.6299 116.95,-50.6329\"/>\n",
       "<text text-anchor=\"middle\" x=\"148.5\" y=\"-26.6506\" font-family=\"Times,serif\" font-size=\"14.00\">0</text>\n",
       "</g>\n",
       "<!-- F&#45;&gt;I -->\n",
       "<g id=\"edge5\" class=\"edge\"><title>F&#45;&gt;I</title>\n",
       "<path fill=\"none\" stroke=\"black\" d=\"M175.051,-8.35986C165.902,-1.86294 154.402,3.13706 145,-2.85062 128.741,-13.2056 119.911,-33.3045 115.189,-50.0911\"/>\n",
       "<polygon fill=\"black\" stroke=\"black\" points=\"111.742,-49.4515 112.75,-59.9983 118.539,-51.1249 111.742,-49.4515\"/>\n",
       "<text text-anchor=\"middle\" x=\"148.5\" y=\"-5.65062\" font-family=\"Times,serif\" font-size=\"14.00\">1</text>\n",
       "</g>\n",
       "</g>\n",
       "</svg>\n"
      ],
      "text/plain": [
       "<graphviz.dot.Digraph at 0x106856668>"
      ]
     },
     "execution_count": 6,
     "metadata": {},
     "output_type": "execute_result"
    }
   ],
   "source": [
    "dotObj_dfa(Fig34)"
   ]
  },
  {
   "cell_type": "markdown",
   "metadata": {
    "run_control": {
     "frozen": false,
     "read_only": false
    }
   },
   "source": [
    "# The same DFA in automd (Jove's markdown)\n",
    "\n",
    "This is much less error-prone than a \"plain old dict\" that Fig34 above represented.\n",
    "\n",
    "Notice that there is a mini compiler that processes this markdown language\n",
    "and generates \"code\". The code is basically the dict defined as Fig34 above.\n",
    "\n",
    "This mini-compiler would be studied in later chapters. In particular,\n",
    "students will get to know:\n",
    "\n",
    "* how we parse Fig34md below, and pick out \"->\" as a token\n",
    "\n",
    "* how to collect state names\n",
    "\n",
    "* how \"I\" will be recognized to be an initial-state name\n",
    "\n",
    "* how \"F\" will be recognized to be a final state name\n",
    "\n",
    "In general, anything that starts with \"i\" or \"I\" will be an initial state,\n",
    "and anything that starts with \"f\" or \"F\" will be a final state. The parser\n",
    "underlies function \"md2mc\" below. \n",
    "\n",
    "The parser will also do error-checking. Try renaming all the \"I\"\n",
    "states below to, say, \"j\". Then the error message obtained will be this (after a huge gory Python error stack dump, you'll see this):\n",
    "\n",
    ">> AssertionError: Error: DFA with 0 starting states is illegal.\n",
    "\n",
    "Try keeping the \"I\" state name, but naming the state \"A\" to be \"IA\".\n",
    "Then, the error message obtained will be:\n",
    "\n",
    ">> AssertionError: Error: DFA with 2 starting states is illegal.\n",
    "\n",
    "Studying this mini-compiler will be a treat, in that a student will\n",
    "understand how lexing and parsing works \"for real\", how error-checks\n",
    "are done, how comments are processed, and how the \"code\" is generated\n",
    "if all is well.\n",
    "\n",
    "It also generates well-documented DFA for the reader to study. Why not\n",
    "teach good SW engineering practices even when developing a DFA? After\n",
    "all, these DFA may go into airplanes to be critical controllers, and\n",
    "we don't want them to be ill-documented.\n"
   ]
  },
  {
   "cell_type": "code",
   "execution_count": 7,
   "metadata": {
    "run_control": {
     "frozen": false,
     "read_only": false
    }
   },
   "outputs": [],
   "source": [
    "Fig34md = '''  !! Comments begin with !! and last till the end of line\n",
    "DFA            !! This keyword tells \"md2mc\" that it is parsing a DFA\n",
    "I : 0     -> A !! DFA transition: From initial state I, upon 0, go to state A\n",
    "A : 0 | 1 -> I !! Two DFA transitions: from A, upon 0 or a 1, go to state I\n",
    "I : 1     -> F !! A DFA transition from I to F. I is the initial state and F is final \n",
    "F : 0 | 1 -> I !! From F upon 0 or a 1, go to I.\n",
    "'''"
   ]
  },
  {
   "cell_type": "markdown",
   "metadata": {
    "run_control": {
     "frozen": false,
     "read_only": false
    }
   },
   "source": [
    "# Function md2mc is your automd compiler"
   ]
  },
  {
   "cell_type": "code",
   "execution_count": 8,
   "metadata": {
    "run_control": {
     "frozen": false,
     "read_only": false
    }
   },
   "outputs": [
    {
     "name": "stderr",
     "output_type": "stream",
     "text": [
      "Generating LALR tables\n"
     ]
    },
    {
     "data": {
      "text/plain": [
       "{'Delta': {('A', '0'): 'I',\n",
       "  ('A', '1'): 'I',\n",
       "  ('F', '0'): 'I',\n",
       "  ('F', '1'): 'I',\n",
       "  ('I', '0'): 'A',\n",
       "  ('I', '1'): 'F'},\n",
       " 'F': {'F'},\n",
       " 'Q': {'A', 'F', 'I'},\n",
       " 'Sigma': {'0', '1'},\n",
       " 'q0': 'I'}"
      ]
     },
     "execution_count": 8,
     "metadata": {},
     "output_type": "execute_result"
    }
   ],
   "source": [
    "Fig34MC = md2mc(Fig34md)\n",
    "Fig34MC"
   ]
  },
  {
   "cell_type": "code",
   "execution_count": 9,
   "metadata": {
    "run_control": {
     "frozen": false,
     "read_only": false
    }
   },
   "outputs": [
    {
     "data": {
      "image/svg+xml": [
       "<?xml version=\"1.0\" encoding=\"UTF-8\" standalone=\"no\"?>\n",
       "<!DOCTYPE svg PUBLIC \"-//W3C//DTD SVG 1.1//EN\"\n",
       " \"http://www.w3.org/Graphics/SVG/1.1/DTD/svg11.dtd\">\n",
       "<!-- Generated by graphviz version 2.38.0 (20140413.2041)\n",
       " -->\n",
       "<!-- Title: %3 Pages: 1 -->\n",
       "<svg width=\"222pt\" height=\"172pt\"\n",
       " viewBox=\"0.00 0.00 222.00 172.00\" xmlns=\"http://www.w3.org/2000/svg\" xmlns:xlink=\"http://www.w3.org/1999/xlink\">\n",
       "<g id=\"graph0\" class=\"graph\" transform=\"scale(1 1) rotate(0) translate(4 168)\">\n",
       "<title>%3</title>\n",
       "<polygon fill=\"white\" stroke=\"none\" points=\"-4,4 -4,-168 218,-168 218,4 -4,4\"/>\n",
       "<!-- EMPTY -->\n",
       "<g id=\"node1\" class=\"node\"><title>EMPTY</title>\n",
       "</g>\n",
       "<!-- I -->\n",
       "<g id=\"node2\" class=\"node\"><title>I</title>\n",
       "<ellipse fill=\"none\" stroke=\"black\" cx=\"109\" cy=\"-77\" rx=\"18\" ry=\"18\"/>\n",
       "<text text-anchor=\"middle\" x=\"109\" y=\"-72.8\" font-family=\"Times,serif\" font-size=\"14.00\">I</text>\n",
       "</g>\n",
       "<!-- EMPTY&#45;&gt;I -->\n",
       "<g id=\"edge1\" class=\"edge\"><title>EMPTY&#45;&gt;I</title>\n",
       "<path fill=\"none\" stroke=\"black\" d=\"M54.195,-77C62.6538,-77 72.0513,-77 80.5951,-77\"/>\n",
       "<polygon fill=\"black\" stroke=\"black\" points=\"80.8257,-80.5001 90.8257,-77 80.8257,-73.5001 80.8257,-80.5001\"/>\n",
       "</g>\n",
       "<!-- A -->\n",
       "<g id=\"node3\" class=\"node\"><title>A</title>\n",
       "<ellipse fill=\"none\" stroke=\"black\" cx=\"192\" cy=\"-133\" rx=\"18\" ry=\"18\"/>\n",
       "<text text-anchor=\"middle\" x=\"192\" y=\"-128.8\" font-family=\"Times,serif\" font-size=\"14.00\">A</text>\n",
       "</g>\n",
       "<!-- I&#45;&gt;A -->\n",
       "<g id=\"edge2\" class=\"edge\"><title>I&#45;&gt;A</title>\n",
       "<path fill=\"none\" stroke=\"black\" d=\"M113.197,-94.5657C117.324,-111.556 126.328,-136.387 145,-148 151.921,-152.305 160.204,-151.191 167.822,-148.148\"/>\n",
       "<polygon fill=\"black\" stroke=\"black\" points=\"169.62,-151.162 176.964,-143.525 166.461,-144.915 169.62,-151.162\"/>\n",
       "<text text-anchor=\"middle\" x=\"148.5\" y=\"-152.8\" font-family=\"Times,serif\" font-size=\"14.00\">0</text>\n",
       "</g>\n",
       "<!-- F -->\n",
       "<g id=\"node4\" class=\"node\"><title>F</title>\n",
       "<ellipse fill=\"none\" stroke=\"black\" cx=\"192\" cy=\"-22\" rx=\"18\" ry=\"18\"/>\n",
       "<ellipse fill=\"none\" stroke=\"black\" cx=\"192\" cy=\"-22\" rx=\"22\" ry=\"22\"/>\n",
       "<text text-anchor=\"middle\" x=\"192\" y=\"-17.8\" font-family=\"Times,serif\" font-size=\"14.00\">F</text>\n",
       "</g>\n",
       "<!-- I&#45;&gt;F -->\n",
       "<g id=\"edge5\" class=\"edge\"><title>I&#45;&gt;F</title>\n",
       "<path fill=\"none\" stroke=\"black\" d=\"M124.481,-67.1671C135.68,-59.5632 151.481,-48.8342 164.872,-39.7409\"/>\n",
       "<polygon fill=\"black\" stroke=\"black\" points=\"166.945,-42.564 173.252,-34.0509 163.013,-36.7728 166.945,-42.564\"/>\n",
       "<text text-anchor=\"middle\" x=\"148.5\" y=\"-54.8\" font-family=\"Times,serif\" font-size=\"14.00\">1</text>\n",
       "</g>\n",
       "<!-- A&#45;&gt;I -->\n",
       "<g id=\"edge3\" class=\"edge\"><title>A&#45;&gt;I</title>\n",
       "<path fill=\"none\" stroke=\"black\" d=\"M174.973,-126.858C165.797,-122.977 154.297,-117.477 145,-111 139.344,-107.059 133.747,-102.188 128.743,-97.3769\"/>\n",
       "<polygon fill=\"black\" stroke=\"black\" points=\"130.969,-94.6501 121.445,-90.0071 125.995,-99.5755 130.969,-94.6501\"/>\n",
       "<text text-anchor=\"middle\" x=\"148.5\" y=\"-116.8\" font-family=\"Times,serif\" font-size=\"14.00\">0</text>\n",
       "</g>\n",
       "<!-- A&#45;&gt;I -->\n",
       "<g id=\"edge4\" class=\"edge\"><title>A&#45;&gt;I</title>\n",
       "<path fill=\"none\" stroke=\"black\" d=\"M180.272,-119.266C173.04,-110.759 162.864,-100.133 152,-93 147.19,-89.8414 141.665,-87.1749 136.237,-84.9789\"/>\n",
       "<polygon fill=\"black\" stroke=\"black\" points=\"137.341,-81.656 126.746,-81.53 134.95,-88.235 137.341,-81.656\"/>\n",
       "<text text-anchor=\"middle\" x=\"148.5\" y=\"-95.8\" font-family=\"Times,serif\" font-size=\"14.00\">1</text>\n",
       "</g>\n",
       "<!-- F&#45;&gt;I -->\n",
       "<g id=\"edge6\" class=\"edge\"><title>F&#45;&gt;I</title>\n",
       "<path fill=\"none\" stroke=\"black\" d=\"M169.671,-22.9537C161.468,-24.1151 152.323,-26.4416 145,-31 136.366,-36.3744 129.083,-44.7026 123.435,-52.8036\"/>\n",
       "<polygon fill=\"black\" stroke=\"black\" points=\"120.404,-51.0455 117.96,-61.3545 126.3,-54.8199 120.404,-51.0455\"/>\n",
       "<text text-anchor=\"middle\" x=\"148.5\" y=\"-33.8\" font-family=\"Times,serif\" font-size=\"14.00\">0</text>\n",
       "</g>\n",
       "<!-- F&#45;&gt;I -->\n",
       "<g id=\"edge7\" class=\"edge\"><title>F&#45;&gt;I</title>\n",
       "<path fill=\"none\" stroke=\"black\" d=\"M173.045,-10.5006C164.141,-6.34636 153.502,-3.81404 145,-9 130.448,-17.8762 121.69,-34.9499 116.573,-49.7676\"/>\n",
       "<polygon fill=\"black\" stroke=\"black\" points=\"113.163,-48.9507 113.587,-59.5371 119.857,-50.9973 113.163,-48.9507\"/>\n",
       "<text text-anchor=\"middle\" x=\"148.5\" y=\"-11.8\" font-family=\"Times,serif\" font-size=\"14.00\">1</text>\n",
       "</g>\n",
       "</g>\n",
       "</svg>\n"
      ],
      "text/plain": [
       "<graphviz.dot.Digraph at 0x106597c50>"
      ]
     },
     "execution_count": 9,
     "metadata": {},
     "output_type": "execute_result"
    }
   ],
   "source": [
    "# md2mc alone produces a dict similar to Fig34, above.\n",
    "# We pass it to dotObj_dfa which prints the DFA image,\n",
    "# as shown below.\n",
    "\n",
    "dotObj_dfa(md2mc(Fig34md))"
   ]
  },
  {
   "cell_type": "code",
   "execution_count": 10,
   "metadata": {
    "run_control": {
     "frozen": false,
     "read_only": false
    }
   },
   "outputs": [
    {
     "data": {
      "text/plain": [
       "True"
      ]
     },
     "execution_count": 10,
     "metadata": {},
     "output_type": "execute_result"
    }
   ],
   "source": [
    "accepts_dfa(md2mc(Fig34md), \"10101\")"
   ]
  },
  {
   "cell_type": "markdown",
   "metadata": {
    "run_control": {
     "frozen": false,
     "read_only": false
    }
   },
   "source": [
    "# Testing acceptance in one \"go\"\n",
    "\n",
    "Generating multiple strings according to the numeric order (increasing\n",
    "lengths, with each length category exhausted before going to the next \n",
    "length category) is a handy test-input generator.\n",
    "\n",
    "Plus, the \"numeric order\" is a powerful concept which we shall use \n",
    "when we later discuss the \"dovetail enumeration\" order (in Chapter 14\n",
    "and beyond).\n"
   ]
  },
  {
   "cell_type": "code",
   "execution_count": 11,
   "metadata": {
    "run_control": {
     "frozen": false,
     "read_only": false
    }
   },
   "outputs": [],
   "source": [
    "from math import floor, log, pow\n",
    "def nthnumeric(N, Sigma={'0','1'}):\n",
    "    \"\"\"Assume Sigma is a 2-sized list/set of chars (default {'a','b'}). \n",
    "       Produce the Nth string in numeric order, where N >= 0.\n",
    "       Idea : Given N, get b = floor(log_2(N+1)) - need that \n",
    "       many places; what to fill in the places is the binary \n",
    "       code for N - (2^b - 1) with 0 as Sigma[0] and 1 as Sigma[1].    \n",
    "    \"\"\"\n",
    "    if (type(Sigma)==set):\n",
    "       S = list(Sigma)\n",
    "    else:\n",
    "       assert(type(Sigma)==list\n",
    "       ), \"Expected to be given set/list for arg2 of nthnumeric.\"\n",
    "       S = Sigma\n",
    "    assert(len(Sigma)==2\n",
    "          ),\"Expected to be given a Sigma of length 2.\"\n",
    "    if(N==0):\n",
    "        return ''\n",
    "    else:\n",
    "        width = floor(log(N+1, 2))\n",
    "        tofill = int(N - pow(2, width) + 1)\n",
    "        relevant_binstr = bin(tofill)[2::] # strip the 0b \n",
    "                                           # in the leading string\n",
    "        len_to_makeup = width - len(relevant_binstr)\n",
    "        return (S[0]*len_to_makeup + \n",
    "                shomo(relevant_binstr,\n",
    "                      lambda x: S[1] if x=='1' else S[0]))"
   ]
  },
  {
   "cell_type": "code",
   "execution_count": 12,
   "metadata": {
    "run_control": {
     "frozen": false,
     "read_only": false
    }
   },
   "outputs": [
    {
     "data": {
      "text/plain": [
       "['',\n",
       " '1',\n",
       " '0',\n",
       " '11',\n",
       " '10',\n",
       " '01',\n",
       " '00',\n",
       " '111',\n",
       " '110',\n",
       " '101',\n",
       " '100',\n",
       " '011',\n",
       " '010',\n",
       " '001',\n",
       " '000',\n",
       " '1111',\n",
       " '1110',\n",
       " '1101',\n",
       " '1100',\n",
       " '1011']"
      ]
     },
     "execution_count": 12,
     "metadata": {},
     "output_type": "execute_result"
    }
   ],
   "source": [
    "[ nthnumeric(i) for i in range(20) ]"
   ]
  },
  {
   "cell_type": "markdown",
   "metadata": {
    "run_control": {
     "frozen": false,
     "read_only": false
    }
   },
   "source": [
    "# Now one can write a test loop\n",
    "\n",
    "We plow thru the first 20 numeric-order listed strings,\n",
    "and test for acceptance.\n"
   ]
  },
  {
   "cell_type": "code",
   "execution_count": 13,
   "metadata": {
    "run_control": {
     "frozen": false,
     "read_only": false
    }
   },
   "outputs": [
    {
     "name": "stdout",
     "output_type": "stream",
     "text": [
      "Fig34md DFA does not accept  \n",
      "Fig34md DFA accepts  1\n",
      "Fig34md DFA does not accept  0\n",
      "Fig34md DFA does not accept  11\n",
      "Fig34md DFA does not accept  10\n",
      "Fig34md DFA does not accept  01\n",
      "Fig34md DFA does not accept  00\n",
      "Fig34md DFA accepts  111\n",
      "Fig34md DFA does not accept  110\n",
      "Fig34md DFA accepts  101\n",
      "Fig34md DFA does not accept  100\n",
      "Fig34md DFA accepts  011\n",
      "Fig34md DFA does not accept  010\n",
      "Fig34md DFA accepts  001\n",
      "Fig34md DFA does not accept  000\n",
      "Fig34md DFA does not accept  1111\n",
      "Fig34md DFA does not accept  1110\n",
      "Fig34md DFA does not accept  1101\n",
      "Fig34md DFA does not accept  1100\n",
      "Fig34md DFA does not accept  1011\n"
     ]
    }
   ],
   "source": [
    "for s in [ nthnumeric(i) for i in range(20) ]:\n",
    "    if accepts_dfa(md2mc(Fig34md), s):\n",
    "        print(\"Fig34md DFA accepts \", s)\n",
    "    else:\n",
    "        print(\"Fig34md DFA does not accept \", s)"
   ]
  },
  {
   "cell_type": "markdown",
   "metadata": {
    "run_control": {
     "frozen": false,
     "read_only": false
    }
   },
   "source": [
    "# Now, simply run the cells, use help\n",
    "\n",
    "Run the cell contents. At any time if you have a doubt about\n",
    "some function, say \"foo\", run the \"help(foo)\" command. Also\n",
    "refer to Appendix B of our book for a complete explanation of\n",
    "all the Jove functions.\n"
   ]
  },
  {
   "cell_type": "code",
   "execution_count": 14,
   "metadata": {
    "run_control": {
     "frozen": false,
     "read_only": false
    }
   },
   "outputs": [
    {
     "data": {
      "text/plain": [
       "{'Delta': {('A', '0'): 'I',\n",
       "  ('A', '1'): 'I',\n",
       "  ('F', '0'): 'I',\n",
       "  ('F', '1'): 'I',\n",
       "  ('I', '0'): 'A',\n",
       "  ('I', '1'): 'F'},\n",
       " 'F': {'F'},\n",
       " 'Q': {'A', 'F', 'I'},\n",
       " 'Sigma': {'0', '1'},\n",
       " 'q0': 'I'}"
      ]
     },
     "execution_count": 14,
     "metadata": {},
     "output_type": "execute_result"
    }
   ],
   "source": [
    "Fig34MC = md2mc(Fig34md)\n",
    "Fig34MC"
   ]
  },
  {
   "cell_type": "code",
   "execution_count": 15,
   "metadata": {
    "run_control": {
     "frozen": false,
     "read_only": false
    }
   },
   "outputs": [
    {
     "data": {
      "text/plain": [
       "True"
      ]
     },
     "execution_count": 15,
     "metadata": {},
     "output_type": "execute_result"
    }
   ],
   "source": [
    "is_partially_consistent_dfa(Fig34MC)"
   ]
  },
  {
   "cell_type": "code",
   "execution_count": 16,
   "metadata": {
    "run_control": {
     "frozen": false,
     "read_only": false
    }
   },
   "outputs": [
    {
     "data": {
      "image/svg+xml": [
       "<?xml version=\"1.0\" encoding=\"UTF-8\" standalone=\"no\"?>\n",
       "<!DOCTYPE svg PUBLIC \"-//W3C//DTD SVG 1.1//EN\"\n",
       " \"http://www.w3.org/Graphics/SVG/1.1/DTD/svg11.dtd\">\n",
       "<!-- Generated by graphviz version 2.38.0 (20140413.2041)\n",
       " -->\n",
       "<!-- Title: %3 Pages: 1 -->\n",
       "<svg width=\"230pt\" height=\"172pt\"\n",
       " viewBox=\"0.00 0.00 230.00 172.00\" xmlns=\"http://www.w3.org/2000/svg\" xmlns:xlink=\"http://www.w3.org/1999/xlink\">\n",
       "<g id=\"graph0\" class=\"graph\" transform=\"scale(1 1) rotate(0) translate(4 168)\">\n",
       "<title>%3</title>\n",
       "<polygon fill=\"white\" stroke=\"none\" points=\"-4,4 -4,-168 226,-168 226,4 -4,4\"/>\n",
       "<!-- EMPTY -->\n",
       "<g id=\"node1\" class=\"node\"><title>EMPTY</title>\n",
       "</g>\n",
       "<!-- I -->\n",
       "<g id=\"node3\" class=\"node\"><title>I</title>\n",
       "<ellipse fill=\"none\" stroke=\"black\" cx=\"113\" cy=\"-77\" rx=\"18\" ry=\"18\"/>\n",
       "<ellipse fill=\"none\" stroke=\"black\" cx=\"113\" cy=\"-77\" rx=\"22\" ry=\"22\"/>\n",
       "<text text-anchor=\"middle\" x=\"113\" y=\"-72.8\" font-family=\"Times,serif\" font-size=\"14.00\">I</text>\n",
       "</g>\n",
       "<!-- EMPTY&#45;&gt;I -->\n",
       "<g id=\"edge1\" class=\"edge\"><title>EMPTY&#45;&gt;I</title>\n",
       "<path fill=\"none\" stroke=\"black\" d=\"M54.1177,-77C62.5406,-77 71.9629,-77 80.7191,-77\"/>\n",
       "<polygon fill=\"black\" stroke=\"black\" points=\"80.9574,-80.5001 90.9574,-77 80.9573,-73.5001 80.9574,-80.5001\"/>\n",
       "</g>\n",
       "<!-- F -->\n",
       "<g id=\"node2\" class=\"node\"><title>F</title>\n",
       "<ellipse fill=\"none\" stroke=\"black\" cx=\"200\" cy=\"-133\" rx=\"18\" ry=\"18\"/>\n",
       "<text text-anchor=\"middle\" x=\"200\" y=\"-128.8\" font-family=\"Times,serif\" font-size=\"14.00\">F</text>\n",
       "</g>\n",
       "<!-- F&#45;&gt;I -->\n",
       "<g id=\"edge6\" class=\"edge\"><title>F&#45;&gt;I</title>\n",
       "<path fill=\"none\" stroke=\"black\" d=\"M183.101,-126.668C173.968,-122.725 162.468,-117.225 153,-111 147.582,-107.438 142.118,-103.181 137.065,-98.9051\"/>\n",
       "<polygon fill=\"black\" stroke=\"black\" points=\"139.347,-96.2504 129.53,-92.266 134.719,-101.503 139.347,-96.2504\"/>\n",
       "<text text-anchor=\"middle\" x=\"156.5\" y=\"-116.8\" font-family=\"Times,serif\" font-size=\"14.00\">0</text>\n",
       "</g>\n",
       "<!-- F&#45;&gt;I -->\n",
       "<g id=\"edge7\" class=\"edge\"><title>F&#45;&gt;I</title>\n",
       "<path fill=\"none\" stroke=\"black\" d=\"M188.342,-119.157C181.138,-110.606 170.967,-99.9739 160,-93 155.184,-89.9374 149.709,-87.3775 144.259,-85.2681\"/>\n",
       "<polygon fill=\"black\" stroke=\"black\" points=\"145.215,-81.8957 134.62,-81.9465 142.934,-88.5138 145.215,-81.8957\"/>\n",
       "<text text-anchor=\"middle\" x=\"156.5\" y=\"-95.8\" font-family=\"Times,serif\" font-size=\"14.00\">1</text>\n",
       "</g>\n",
       "<!-- I&#45;&gt;F -->\n",
       "<g id=\"edge5\" class=\"edge\"><title>I&#45;&gt;F</title>\n",
       "<path fill=\"none\" stroke=\"black\" d=\"M119.292,-98.25C124.712,-115.029 134.965,-137.33 153,-148 160.015,-152.15 168.321,-150.999 175.931,-147.97\"/>\n",
       "<polygon fill=\"black\" stroke=\"black\" points=\"177.687,-151.004 185.049,-143.385 174.542,-144.75 177.687,-151.004\"/>\n",
       "<text text-anchor=\"middle\" x=\"156.5\" y=\"-152.8\" font-family=\"Times,serif\" font-size=\"14.00\">1</text>\n",
       "</g>\n",
       "<!-- A -->\n",
       "<g id=\"node4\" class=\"node\"><title>A</title>\n",
       "<ellipse fill=\"none\" stroke=\"black\" cx=\"200\" cy=\"-22\" rx=\"18\" ry=\"18\"/>\n",
       "<ellipse fill=\"none\" stroke=\"black\" cx=\"200\" cy=\"-22\" rx=\"22\" ry=\"22\"/>\n",
       "<text text-anchor=\"middle\" x=\"200\" y=\"-17.8\" font-family=\"Times,serif\" font-size=\"14.00\">A</text>\n",
       "</g>\n",
       "<!-- I&#45;&gt;A -->\n",
       "<g id=\"edge2\" class=\"edge\"><title>I&#45;&gt;A</title>\n",
       "<path fill=\"none\" stroke=\"black\" d=\"M132.026,-65.3359C143.746,-57.7523 159.233,-47.7314 172.362,-39.2361\"/>\n",
       "<polygon fill=\"black\" stroke=\"black\" points=\"174.505,-42.0183 181,-33.6473 170.703,-36.1413 174.505,-42.0183\"/>\n",
       "<text text-anchor=\"middle\" x=\"156.5\" y=\"-53.8\" font-family=\"Times,serif\" font-size=\"14.00\">0</text>\n",
       "</g>\n",
       "<!-- A&#45;&gt;I -->\n",
       "<g id=\"edge3\" class=\"edge\"><title>A&#45;&gt;I</title>\n",
       "<path fill=\"none\" stroke=\"black\" d=\"M177.783,-22.0132C169.596,-22.8161 160.432,-24.7472 153,-29 144.147,-34.0661 136.493,-41.9824 130.369,-49.9357\"/>\n",
       "<polygon fill=\"black\" stroke=\"black\" points=\"127.493,-47.9405 124.553,-58.1195 133.199,-51.9953 127.493,-47.9405\"/>\n",
       "<text text-anchor=\"middle\" x=\"156.5\" y=\"-31.8\" font-family=\"Times,serif\" font-size=\"14.00\">0</text>\n",
       "</g>\n",
       "<!-- A&#45;&gt;I -->\n",
       "<g id=\"edge4\" class=\"edge\"><title>A&#45;&gt;I</title>\n",
       "<path fill=\"none\" stroke=\"black\" d=\"M181.646,-9.70569C172.697,-4.97164 161.836,-1.80832 153,-7 138.577,-15.4749 129.098,-31.433 123.102,-45.9743\"/>\n",
       "<polygon fill=\"black\" stroke=\"black\" points=\"119.688,-45.1127 119.489,-55.7056 126.251,-47.5493 119.688,-45.1127\"/>\n",
       "<text text-anchor=\"middle\" x=\"156.5\" y=\"-9.8\" font-family=\"Times,serif\" font-size=\"14.00\">1</text>\n",
       "</g>\n",
       "</g>\n",
       "</svg>\n"
      ],
      "text/plain": [
       "<graphviz.dot.Digraph at 0x1065a9a90>"
      ]
     },
     "execution_count": 16,
     "metadata": {},
     "output_type": "execute_result"
    }
   ],
   "source": [
    "dotObj_dfa_w_bh(comp_dfa(Fig34MC))"
   ]
  },
  {
   "cell_type": "code",
   "execution_count": 17,
   "metadata": {
    "run_control": {
     "frozen": false,
     "read_only": false
    }
   },
   "outputs": [],
   "source": [
    "ev0 = md2mc('''\n",
    "DFA\n",
    "IF : 0 -> A\n",
    "A  : 0 -> IF\n",
    "''')"
   ]
  },
  {
   "cell_type": "code",
   "execution_count": 18,
   "metadata": {
    "run_control": {
     "frozen": false,
     "read_only": false
    }
   },
   "outputs": [
    {
     "data": {
      "text/plain": [
       "{'Delta': {('A', '0'): 'IF', ('IF', '0'): 'A'},\n",
       " 'F': {'IF'},\n",
       " 'Q': {'A', 'IF'},\n",
       " 'Sigma': {'0'},\n",
       " 'q0': 'IF'}"
      ]
     },
     "execution_count": 18,
     "metadata": {},
     "output_type": "execute_result"
    }
   ],
   "source": [
    "ev0"
   ]
  },
  {
   "cell_type": "code",
   "execution_count": 19,
   "metadata": {
    "run_control": {
     "frozen": false,
     "read_only": false
    }
   },
   "outputs": [],
   "source": [
    "dev0 = dotObj_dfa(ev0)"
   ]
  },
  {
   "cell_type": "code",
   "execution_count": 20,
   "metadata": {
    "run_control": {
     "frozen": false,
     "read_only": false
    }
   },
   "outputs": [
    {
     "data": {
      "image/svg+xml": [
       "<?xml version=\"1.0\" encoding=\"UTF-8\" standalone=\"no\"?>\n",
       "<!DOCTYPE svg PUBLIC \"-//W3C//DTD SVG 1.1//EN\"\n",
       " \"http://www.w3.org/Graphics/SVG/1.1/DTD/svg11.dtd\">\n",
       "<!-- Generated by graphviz version 2.38.0 (20140413.2041)\n",
       " -->\n",
       "<!-- Title: %3 Pages: 1 -->\n",
       "<svg width=\"222pt\" height=\"52pt\"\n",
       " viewBox=\"0.00 0.00 222.00 52.00\" xmlns=\"http://www.w3.org/2000/svg\" xmlns:xlink=\"http://www.w3.org/1999/xlink\">\n",
       "<g id=\"graph0\" class=\"graph\" transform=\"scale(1 1) rotate(0) translate(4 48)\">\n",
       "<title>%3</title>\n",
       "<polygon fill=\"white\" stroke=\"none\" points=\"-4,4 -4,-48 218,-48 218,4 -4,4\"/>\n",
       "<!-- EMPTY -->\n",
       "<g id=\"node1\" class=\"node\"><title>EMPTY</title>\n",
       "</g>\n",
       "<!-- IF -->\n",
       "<g id=\"node3\" class=\"node\"><title>IF</title>\n",
       "<ellipse fill=\"none\" stroke=\"black\" cx=\"113\" cy=\"-22\" rx=\"18\" ry=\"18\"/>\n",
       "<ellipse fill=\"none\" stroke=\"black\" cx=\"113\" cy=\"-22\" rx=\"22\" ry=\"22\"/>\n",
       "<text text-anchor=\"middle\" x=\"113\" y=\"-17.8\" font-family=\"Times,serif\" font-size=\"14.00\">IF</text>\n",
       "</g>\n",
       "<!-- EMPTY&#45;&gt;IF -->\n",
       "<g id=\"edge1\" class=\"edge\"><title>EMPTY&#45;&gt;IF</title>\n",
       "<path fill=\"none\" stroke=\"black\" d=\"M54.1177,-22C62.5406,-22 71.9629,-22 80.7191,-22\"/>\n",
       "<polygon fill=\"black\" stroke=\"black\" points=\"80.9574,-25.5001 90.9574,-22 80.9573,-18.5001 80.9574,-25.5001\"/>\n",
       "</g>\n",
       "<!-- A -->\n",
       "<g id=\"node2\" class=\"node\"><title>A</title>\n",
       "<ellipse fill=\"none\" stroke=\"black\" cx=\"196\" cy=\"-22\" rx=\"18\" ry=\"18\"/>\n",
       "<text text-anchor=\"middle\" x=\"196\" y=\"-17.8\" font-family=\"Times,serif\" font-size=\"14.00\">A</text>\n",
       "</g>\n",
       "<!-- A&#45;&gt;IF -->\n",
       "<g id=\"edge3\" class=\"edge\"><title>A&#45;&gt;IF</title>\n",
       "<path fill=\"none\" stroke=\"black\" d=\"M180.283,-12.4577C174.25,-9.08304 167.04,-5.70409 160,-4 153.655,-2.46403 147.016,-3.43319 140.819,-5.55343\"/>\n",
       "<polygon fill=\"black\" stroke=\"black\" points=\"139.289,-2.40258 131.55,-9.63813 142.112,-8.80816 139.289,-2.40258\"/>\n",
       "<text text-anchor=\"middle\" x=\"156.5\" y=\"-6.8\" font-family=\"Times,serif\" font-size=\"14.00\">0</text>\n",
       "</g>\n",
       "<!-- IF&#45;&gt;A -->\n",
       "<g id=\"edge2\" class=\"edge\"><title>IF&#45;&gt;A</title>\n",
       "<path fill=\"none\" stroke=\"black\" d=\"M135.282,-22C145.266,-22 157.278,-22 167.903,-22\"/>\n",
       "<polygon fill=\"black\" stroke=\"black\" points=\"167.94,-25.5001 177.939,-22 167.939,-18.5001 167.94,-25.5001\"/>\n",
       "<text text-anchor=\"middle\" x=\"156.5\" y=\"-24.8\" font-family=\"Times,serif\" font-size=\"14.00\">0</text>\n",
       "</g>\n",
       "</g>\n",
       "</svg>\n"
      ],
      "text/plain": [
       "<graphviz.dot.Digraph at 0x1065bd198>"
      ]
     },
     "execution_count": 20,
     "metadata": {},
     "output_type": "execute_result"
    }
   ],
   "source": [
    "dev0"
   ]
  },
  {
   "cell_type": "markdown",
   "metadata": {
    "run_control": {
     "frozen": false,
     "read_only": false
    }
   },
   "source": [
    "# You can generate PDF out of a DFA\n",
    "\n",
    "This is one way to \"print\" a DFA as PDF. There are \n",
    "a few more such commands tucked away within Jupyter.\n"
   ]
  },
  {
   "cell_type": "code",
   "execution_count": 21,
   "metadata": {
    "run_control": {
     "frozen": false,
     "read_only": false
    }
   },
   "outputs": [
    {
     "data": {
      "text/plain": [
       "'dev0.pdf'"
      ]
     },
     "execution_count": 21,
     "metadata": {},
     "output_type": "execute_result"
    }
   ],
   "source": [
    "# Generate a PDF this way\n",
    "dev0.render('dev0')"
   ]
  },
  {
   "cell_type": "markdown",
   "metadata": {
    "run_control": {
     "frozen": false,
     "read_only": false
    }
   },
   "source": [
    "# Poke a DFA, add to its Sigma\n",
    "\n",
    "You can expand the Sigma of a DFA later on. Then\n",
    "if you totalize the DFA, you will see black-hole\n",
    "states emerging. The newly added symbols lead to\n",
    "the Black hole states, as shown below.\n"
   ]
  },
  {
   "cell_type": "code",
   "execution_count": 22,
   "metadata": {
    "run_control": {
     "frozen": false,
     "read_only": false
    }
   },
   "outputs": [],
   "source": [
    "ev0_bh =  addtosigma_dfa(ev0, set({'1'}))"
   ]
  },
  {
   "cell_type": "code",
   "execution_count": 23,
   "metadata": {
    "run_control": {
     "frozen": false,
     "read_only": false
    }
   },
   "outputs": [
    {
     "data": {
      "text/plain": [
       "{'Delta': {('A', '0'): 'IF', ('IF', '0'): 'A'},\n",
       " 'F': {'IF'},\n",
       " 'Q': {'A', 'IF'},\n",
       " 'Sigma': {'0', '1'},\n",
       " 'q0': 'IF'}"
      ]
     },
     "execution_count": 23,
     "metadata": {},
     "output_type": "execute_result"
    }
   ],
   "source": [
    "ev0_bh"
   ]
  },
  {
   "cell_type": "code",
   "execution_count": 24,
   "metadata": {
    "run_control": {
     "frozen": false,
     "read_only": false
    }
   },
   "outputs": [],
   "source": [
    "ev0_bh_totalize = totalize_dfa(ev0_bh)"
   ]
  },
  {
   "cell_type": "code",
   "execution_count": 25,
   "metadata": {
    "run_control": {
     "frozen": false,
     "read_only": false
    }
   },
   "outputs": [
    {
     "data": {
      "text/plain": [
       "{'Delta': {('A', '0'): 'IF', ('IF', '0'): 'A'},\n",
       " 'F': {'IF'},\n",
       " 'Q': {'A', 'IF'},\n",
       " 'Sigma': {'0', '1'},\n",
       " 'q0': 'IF'}"
      ]
     },
     "execution_count": 25,
     "metadata": {},
     "output_type": "execute_result"
    }
   ],
   "source": [
    "ev0_bh"
   ]
  },
  {
   "cell_type": "code",
   "execution_count": 26,
   "metadata": {
    "run_control": {
     "frozen": false,
     "read_only": false
    }
   },
   "outputs": [],
   "source": [
    "do_ev0_tot = dotObj_dfa_w_bh(ev0_bh_totalize)"
   ]
  },
  {
   "cell_type": "code",
   "execution_count": 27,
   "metadata": {
    "run_control": {
     "frozen": false,
     "read_only": false
    }
   },
   "outputs": [
    {
     "data": {
      "image/svg+xml": [
       "<?xml version=\"1.0\" encoding=\"UTF-8\" standalone=\"no\"?>\n",
       "<!DOCTYPE svg PUBLIC \"-//W3C//DTD SVG 1.1//EN\"\n",
       " \"http://www.w3.org/Graphics/SVG/1.1/DTD/svg11.dtd\">\n",
       "<!-- Generated by graphviz version 2.38.0 (20140413.2041)\n",
       " -->\n",
       "<!-- Title: %3 Pages: 1 -->\n",
       "<svg width=\"310pt\" height=\"117pt\"\n",
       " viewBox=\"0.00 0.00 309.78 116.78\" xmlns=\"http://www.w3.org/2000/svg\" xmlns:xlink=\"http://www.w3.org/1999/xlink\">\n",
       "<g id=\"graph0\" class=\"graph\" transform=\"scale(1 1) rotate(0) translate(4 112.784)\">\n",
       "<title>%3</title>\n",
       "<polygon fill=\"white\" stroke=\"none\" points=\"-4,4 -4,-112.784 305.784,-112.784 305.784,4 -4,4\"/>\n",
       "<!-- EMPTY -->\n",
       "<g id=\"node1\" class=\"node\"><title>EMPTY</title>\n",
       "</g>\n",
       "<!-- IF -->\n",
       "<g id=\"node4\" class=\"node\"><title>IF</title>\n",
       "<ellipse fill=\"none\" stroke=\"black\" cx=\"113\" cy=\"-35.3918\" rx=\"18\" ry=\"18\"/>\n",
       "<ellipse fill=\"none\" stroke=\"black\" cx=\"113\" cy=\"-35.3918\" rx=\"22\" ry=\"22\"/>\n",
       "<text text-anchor=\"middle\" x=\"113\" y=\"-31.1918\" font-family=\"Times,serif\" font-size=\"14.00\">IF</text>\n",
       "</g>\n",
       "<!-- EMPTY&#45;&gt;IF -->\n",
       "<g id=\"edge1\" class=\"edge\"><title>EMPTY&#45;&gt;IF</title>\n",
       "<path fill=\"none\" stroke=\"black\" d=\"M54.1177,-35.3918C62.5406,-35.3918 71.9629,-35.3918 80.7191,-35.3918\"/>\n",
       "<polygon fill=\"black\" stroke=\"black\" points=\"80.9574,-38.8919 90.9574,-35.3918 80.9573,-31.8919 80.9574,-38.8919\"/>\n",
       "</g>\n",
       "<!-- BH -->\n",
       "<g id=\"node2\" class=\"node\"><title>BH</title>\n",
       "<ellipse fill=\"none\" stroke=\"black\" cx=\"279.392\" cy=\"-22.3918\" rx=\"22.2841\" ry=\"22.2841\"/>\n",
       "<text text-anchor=\"middle\" x=\"279.392\" y=\"-18.1918\" font-family=\"Times,serif\" font-size=\"14.00\">BH</text>\n",
       "</g>\n",
       "<!-- BH&#45;&gt;BH -->\n",
       "<g id=\"edge6\" class=\"edge\"><title>BH&#45;&gt;BH</title>\n",
       "<path fill=\"none\" stroke=\"black\" d=\"M275.501,-44.8217C275.183,-54.4985 276.48,-62.7836 279.392,-62.7836 281.166,-62.7836 282.341,-59.707 282.916,-55.1138\"/>\n",
       "<polygon fill=\"black\" stroke=\"black\" points=\"286.424,-54.9399 283.282,-44.8217 279.429,-54.6909 286.424,-54.9399\"/>\n",
       "<text text-anchor=\"middle\" x=\"279.392\" y=\"-65.5836\" font-family=\"Times,serif\" font-size=\"14.00\">1</text>\n",
       "</g>\n",
       "<!-- BH&#45;&gt;BH -->\n",
       "<g id=\"edge7\" class=\"edge\"><title>BH&#45;&gt;BH</title>\n",
       "<path fill=\"none\" stroke=\"black\" d=\"M272.718,-43.9522C269.867,-61.9636 272.091,-80.7836 279.392,-80.7836 285.324,-80.7836 287.904,-68.3594 287.134,-54.0395\"/>\n",
       "<polygon fill=\"black\" stroke=\"black\" points=\"290.599,-53.5277 286.065,-43.9522 283.638,-54.2653 290.599,-53.5277\"/>\n",
       "<text text-anchor=\"middle\" x=\"279.392\" y=\"-83.5836\" font-family=\"Times,serif\" font-size=\"14.00\">0</text>\n",
       "</g>\n",
       "<!-- A -->\n",
       "<g id=\"node3\" class=\"node\"><title>A</title>\n",
       "<ellipse fill=\"none\" stroke=\"black\" cx=\"196\" cy=\"-52.3918\" rx=\"18\" ry=\"18\"/>\n",
       "<text text-anchor=\"middle\" x=\"196\" y=\"-48.1918\" font-family=\"Times,serif\" font-size=\"14.00\">A</text>\n",
       "</g>\n",
       "<!-- A&#45;&gt;BH -->\n",
       "<g id=\"edge4\" class=\"edge\"><title>A&#45;&gt;BH</title>\n",
       "<path fill=\"none\" stroke=\"black\" d=\"M213.08,-46.4648C223.142,-42.7561 236.42,-37.8621 248.375,-33.4557\"/>\n",
       "<polygon fill=\"black\" stroke=\"black\" points=\"249.833,-36.6483 258.006,-29.9058 247.412,-30.0803 249.833,-36.6483\"/>\n",
       "<text text-anchor=\"middle\" x=\"235.5\" y=\"-41.1918\" font-family=\"Times,serif\" font-size=\"14.00\">1</text>\n",
       "</g>\n",
       "<!-- A&#45;&gt;IF -->\n",
       "<g id=\"edge3\" class=\"edge\"><title>A&#45;&gt;IF</title>\n",
       "<path fill=\"none\" stroke=\"black\" d=\"M181.093,-42.2244C174.949,-38.3382 167.44,-34.3677 160,-32.3918 155.224,-31.1234 150.075,-30.6414 145.012,-30.6403\"/>\n",
       "<polygon fill=\"black\" stroke=\"black\" points=\"144.67,-27.154 134.885,-31.2155 145.067,-34.1427 144.67,-27.154\"/>\n",
       "<text text-anchor=\"middle\" x=\"156.5\" y=\"-35.1918\" font-family=\"Times,serif\" font-size=\"14.00\">0</text>\n",
       "</g>\n",
       "<!-- IF&#45;&gt;BH -->\n",
       "<g id=\"edge5\" class=\"edge\"><title>IF&#45;&gt;BH</title>\n",
       "<path fill=\"none\" stroke=\"black\" d=\"M133.091,-26.168C145.552,-20.6717 162.354,-14.229 178,-11.3918 201.212,-7.18264 227.756,-10.4364 247.717,-14.4712\"/>\n",
       "<polygon fill=\"black\" stroke=\"black\" points=\"246.986,-17.8939 257.504,-16.6169 248.485,-11.0563 246.986,-17.8939\"/>\n",
       "<text text-anchor=\"middle\" x=\"196\" y=\"-14.1918\" font-family=\"Times,serif\" font-size=\"14.00\">1</text>\n",
       "</g>\n",
       "<!-- IF&#45;&gt;A -->\n",
       "<g id=\"edge2\" class=\"edge\"><title>IF&#45;&gt;A</title>\n",
       "<path fill=\"none\" stroke=\"black\" d=\"M133.469,-44.2806C139.595,-46.6939 146.469,-49.0177 153,-50.3918 157.625,-51.365 162.598,-51.9739 167.446,-52.3404\"/>\n",
       "<polygon fill=\"black\" stroke=\"black\" points=\"167.529,-55.8477 177.677,-52.8032 167.846,-48.8548 167.529,-55.8477\"/>\n",
       "<text text-anchor=\"middle\" x=\"156.5\" y=\"-54.1918\" font-family=\"Times,serif\" font-size=\"14.00\">0</text>\n",
       "</g>\n",
       "</g>\n",
       "</svg>\n"
      ],
      "text/plain": [
       "<graphviz.dot.Digraph at 0x106597898>"
      ]
     },
     "execution_count": 27,
     "metadata": {},
     "output_type": "execute_result"
    }
   ],
   "source": [
    "do_ev0_tot"
   ]
  },
  {
   "cell_type": "code",
   "execution_count": 28,
   "metadata": {
    "run_control": {
     "frozen": false,
     "read_only": false
    }
   },
   "outputs": [
    {
     "data": {
      "image/svg+xml": [
       "<?xml version=\"1.0\" encoding=\"UTF-8\" standalone=\"no\"?>\n",
       "<!DOCTYPE svg PUBLIC \"-//W3C//DTD SVG 1.1//EN\"\n",
       " \"http://www.w3.org/Graphics/SVG/1.1/DTD/svg11.dtd\">\n",
       "<!-- Generated by graphviz version 2.38.0 (20140413.2041)\n",
       " -->\n",
       "<!-- Title: %3 Pages: 1 -->\n",
       "<svg width=\"310pt\" height=\"99pt\"\n",
       " viewBox=\"0.00 0.00 309.78 98.78\" xmlns=\"http://www.w3.org/2000/svg\" xmlns:xlink=\"http://www.w3.org/1999/xlink\">\n",
       "<g id=\"graph0\" class=\"graph\" transform=\"scale(1 1) rotate(0) translate(4 94.7836)\">\n",
       "<title>%3</title>\n",
       "<polygon fill=\"white\" stroke=\"none\" points=\"-4,4 -4,-94.7836 305.784,-94.7836 305.784,4 -4,4\"/>\n",
       "<!-- EMPTY -->\n",
       "<g id=\"node1\" class=\"node\"><title>EMPTY</title>\n",
       "</g>\n",
       "<!-- IF -->\n",
       "<g id=\"node4\" class=\"node\"><title>IF</title>\n",
       "<ellipse fill=\"none\" stroke=\"black\" cx=\"113\" cy=\"-35.3918\" rx=\"18\" ry=\"18\"/>\n",
       "<ellipse fill=\"none\" stroke=\"black\" cx=\"113\" cy=\"-35.3918\" rx=\"22\" ry=\"22\"/>\n",
       "<text text-anchor=\"middle\" x=\"113\" y=\"-31.1918\" font-family=\"Times,serif\" font-size=\"14.00\">IF</text>\n",
       "</g>\n",
       "<!-- EMPTY&#45;&gt;IF -->\n",
       "<g id=\"edge1\" class=\"edge\"><title>EMPTY&#45;&gt;IF</title>\n",
       "<path fill=\"none\" stroke=\"black\" d=\"M54.1177,-35.3918C62.5406,-35.3918 71.9629,-35.3918 80.7191,-35.3918\"/>\n",
       "<polygon fill=\"black\" stroke=\"black\" points=\"80.9574,-38.8919 90.9574,-35.3918 80.9573,-31.8919 80.9574,-38.8919\"/>\n",
       "</g>\n",
       "<!-- BH -->\n",
       "<g id=\"node2\" class=\"node\"><title>BH</title>\n",
       "<ellipse fill=\"none\" stroke=\"black\" cx=\"279.392\" cy=\"-22.3918\" rx=\"22.2841\" ry=\"22.2841\"/>\n",
       "<text text-anchor=\"middle\" x=\"279.392\" y=\"-18.1918\" font-family=\"Times,serif\" font-size=\"14.00\">BH</text>\n",
       "</g>\n",
       "<!-- BH&#45;&gt;BH -->\n",
       "<g id=\"edge6\" class=\"edge\"><title>BH&#45;&gt;BH</title>\n",
       "<path fill=\"none\" stroke=\"black\" d=\"M271.709,-43.5882C270.761,-53.7836 273.321,-62.7836 279.392,-62.7836 283.281,-62.7836 285.729,-59.09 286.737,-53.7547\"/>\n",
       "<polygon fill=\"black\" stroke=\"black\" points=\"290.241,-53.6987 287.075,-43.5882 283.245,-53.4666 290.241,-53.6987\"/>\n",
       "<text text-anchor=\"middle\" x=\"279.392\" y=\"-79.5836\" font-family=\"Times,serif\" font-size=\"14.00\">1 </text>\n",
       "<text text-anchor=\"middle\" x=\"279.392\" y=\"-65.5836\" font-family=\"Times,serif\" font-size=\"14.00\"> 0</text>\n",
       "</g>\n",
       "<!-- A -->\n",
       "<g id=\"node3\" class=\"node\"><title>A</title>\n",
       "<ellipse fill=\"none\" stroke=\"black\" cx=\"196\" cy=\"-52.3918\" rx=\"18\" ry=\"18\"/>\n",
       "<text text-anchor=\"middle\" x=\"196\" y=\"-48.1918\" font-family=\"Times,serif\" font-size=\"14.00\">A</text>\n",
       "</g>\n",
       "<!-- A&#45;&gt;BH -->\n",
       "<g id=\"edge4\" class=\"edge\"><title>A&#45;&gt;BH</title>\n",
       "<path fill=\"none\" stroke=\"black\" d=\"M213.08,-46.4648C223.142,-42.7561 236.42,-37.8621 248.375,-33.4557\"/>\n",
       "<polygon fill=\"black\" stroke=\"black\" points=\"249.833,-36.6483 258.006,-29.9058 247.412,-30.0803 249.833,-36.6483\"/>\n",
       "<text text-anchor=\"middle\" x=\"235.5\" y=\"-41.1918\" font-family=\"Times,serif\" font-size=\"14.00\">1</text>\n",
       "</g>\n",
       "<!-- A&#45;&gt;IF -->\n",
       "<g id=\"edge3\" class=\"edge\"><title>A&#45;&gt;IF</title>\n",
       "<path fill=\"none\" stroke=\"black\" d=\"M181.093,-42.2244C174.949,-38.3382 167.44,-34.3677 160,-32.3918 155.224,-31.1234 150.075,-30.6414 145.012,-30.6403\"/>\n",
       "<polygon fill=\"black\" stroke=\"black\" points=\"144.67,-27.154 134.885,-31.2155 145.067,-34.1427 144.67,-27.154\"/>\n",
       "<text text-anchor=\"middle\" x=\"156.5\" y=\"-35.1918\" font-family=\"Times,serif\" font-size=\"14.00\">0</text>\n",
       "</g>\n",
       "<!-- IF&#45;&gt;BH -->\n",
       "<g id=\"edge5\" class=\"edge\"><title>IF&#45;&gt;BH</title>\n",
       "<path fill=\"none\" stroke=\"black\" d=\"M133.091,-26.168C145.552,-20.6717 162.354,-14.229 178,-11.3918 201.212,-7.18264 227.756,-10.4364 247.717,-14.4712\"/>\n",
       "<polygon fill=\"black\" stroke=\"black\" points=\"246.986,-17.8939 257.504,-16.6169 248.485,-11.0563 246.986,-17.8939\"/>\n",
       "<text text-anchor=\"middle\" x=\"196\" y=\"-14.1918\" font-family=\"Times,serif\" font-size=\"14.00\">1</text>\n",
       "</g>\n",
       "<!-- IF&#45;&gt;A -->\n",
       "<g id=\"edge2\" class=\"edge\"><title>IF&#45;&gt;A</title>\n",
       "<path fill=\"none\" stroke=\"black\" d=\"M133.469,-44.2806C139.595,-46.6939 146.469,-49.0177 153,-50.3918 157.625,-51.365 162.598,-51.9739 167.446,-52.3404\"/>\n",
       "<polygon fill=\"black\" stroke=\"black\" points=\"167.529,-55.8477 177.677,-52.8032 167.846,-48.8548 167.529,-55.8477\"/>\n",
       "<text text-anchor=\"middle\" x=\"156.5\" y=\"-54.1918\" font-family=\"Times,serif\" font-size=\"14.00\">0</text>\n",
       "</g>\n",
       "</g>\n",
       "</svg>\n"
      ],
      "text/plain": [
       "<graphviz.dot.Digraph at 0x106597048>"
      ]
     },
     "execution_count": 28,
     "metadata": {},
     "output_type": "execute_result"
    }
   ],
   "source": [
    "dotObj_dfa_w_bh(ev0_bh_totalize, FuseEdges=True)"
   ]
  },
  {
   "cell_type": "markdown",
   "metadata": {
    "run_control": {
     "frozen": false,
     "read_only": false
    }
   },
   "source": [
    "<span style=\"color:blue\"> **We can now write routines to print DFA using dot. The main routines are listed below.** </span>\n",
    "\n",
    "* dot_dfa_w_bh : lists all states of a DFA including black-hole states\n",
    "* dot_dfa      : lists all isNotBH states (see below for a defn), i.e. suppress black-holes\n",
    "     - Usually there are too many transitions to them and that clutters the view\n",
    "     "
   ]
  },
  {
   "cell_type": "code",
   "execution_count": 29,
   "metadata": {
    "run_control": {
     "frozen": false,
     "read_only": false
    }
   },
   "outputs": [
    {
     "data": {
      "image/svg+xml": [
       "<?xml version=\"1.0\" encoding=\"UTF-8\" standalone=\"no\"?>\n",
       "<!DOCTYPE svg PUBLIC \"-//W3C//DTD SVG 1.1//EN\"\n",
       " \"http://www.w3.org/Graphics/SVG/1.1/DTD/svg11.dtd\">\n",
       "<!-- Generated by graphviz version 2.38.0 (20140413.2041)\n",
       " -->\n",
       "<!-- Title: %3 Pages: 1 -->\n",
       "<svg width=\"324pt\" height=\"192pt\"\n",
       " viewBox=\"0.00 0.00 323.63 191.74\" xmlns=\"http://www.w3.org/2000/svg\" xmlns:xlink=\"http://www.w3.org/1999/xlink\">\n",
       "<g id=\"graph0\" class=\"graph\" transform=\"scale(1 1) rotate(0) translate(4 187.737)\">\n",
       "<title>%3</title>\n",
       "<polygon fill=\"white\" stroke=\"none\" points=\"-4,4 -4,-187.737 319.631,-187.737 319.631,4 -4,4\"/>\n",
       "<!-- EMPTY -->\n",
       "<g id=\"node1\" class=\"node\"><title>EMPTY</title>\n",
       "</g>\n",
       "<!-- IF -->\n",
       "<g id=\"node6\" class=\"node\"><title>IF</title>\n",
       "<ellipse fill=\"none\" stroke=\"black\" cx=\"113\" cy=\"-79.8686\" rx=\"18\" ry=\"18\"/>\n",
       "<ellipse fill=\"none\" stroke=\"black\" cx=\"113\" cy=\"-79.8686\" rx=\"22\" ry=\"22\"/>\n",
       "<text text-anchor=\"middle\" x=\"113\" y=\"-75.6686\" font-family=\"Times,serif\" font-size=\"14.00\">IF</text>\n",
       "</g>\n",
       "<!-- EMPTY&#45;&gt;IF -->\n",
       "<g id=\"edge1\" class=\"edge\"><title>EMPTY&#45;&gt;IF</title>\n",
       "<path fill=\"none\" stroke=\"black\" d=\"M54.1177,-79.8686C62.5406,-79.8686 71.9629,-79.8686 80.7191,-79.8686\"/>\n",
       "<polygon fill=\"black\" stroke=\"black\" points=\"80.9574,-83.3687 90.9574,-79.8686 80.9573,-76.3687 80.9574,-83.3687\"/>\n",
       "</g>\n",
       "<!-- S01 -->\n",
       "<g id=\"node2\" class=\"node\"><title>S01</title>\n",
       "<ellipse fill=\"none\" stroke=\"black\" cx=\"291.762\" cy=\"-127.869\" rx=\"23.7379\" ry=\"23.7379\"/>\n",
       "<text text-anchor=\"middle\" x=\"291.762\" y=\"-123.669\" font-family=\"Times,serif\" font-size=\"14.00\">S01</text>\n",
       "</g>\n",
       "<!-- S01&#45;&gt;S01 -->\n",
       "<g id=\"edge6\" class=\"edge\"><title>S01&#45;&gt;S01</title>\n",
       "<path fill=\"none\" stroke=\"black\" d=\"M283.641,-150.694C282.868,-160.906 285.575,-169.737 291.762,-169.737 295.726,-169.737 298.262,-166.113 299.369,-160.823\"/>\n",
       "<polygon fill=\"black\" stroke=\"black\" points=\"302.871,-160.859 299.883,-150.694 295.88,-160.503 302.871,-160.859\"/>\n",
       "<text text-anchor=\"middle\" x=\"291.762\" y=\"-172.537\" font-family=\"Times,serif\" font-size=\"14.00\">1</text>\n",
       "</g>\n",
       "<!-- F0 -->\n",
       "<g id=\"node4\" class=\"node\"><title>F0</title>\n",
       "<ellipse fill=\"none\" stroke=\"black\" cx=\"201.447\" cy=\"-120.869\" rx=\"19.4029\" ry=\"19.4029\"/>\n",
       "<ellipse fill=\"none\" stroke=\"black\" cx=\"201.447\" cy=\"-120.869\" rx=\"23.3939\" ry=\"23.3939\"/>\n",
       "<text text-anchor=\"middle\" x=\"201.447\" y=\"-116.669\" font-family=\"Times,serif\" font-size=\"14.00\">F0</text>\n",
       "</g>\n",
       "<!-- S01&#45;&gt;F0 -->\n",
       "<g id=\"edge7\" class=\"edge\"><title>S01&#45;&gt;F0</title>\n",
       "<path fill=\"none\" stroke=\"black\" d=\"M271.615,-115.045C265.017,-111.326 257.395,-107.759 249.894,-105.869 243.99,-104.381 237.742,-104.848 231.786,-106.308\"/>\n",
       "<polygon fill=\"black\" stroke=\"black\" points=\"230.523,-103.04 222.15,-109.531 232.744,-109.678 230.523,-103.04\"/>\n",
       "<text text-anchor=\"middle\" x=\"246.394\" y=\"-108.669\" font-family=\"Times,serif\" font-size=\"14.00\">0</text>\n",
       "</g>\n",
       "<!-- S10 -->\n",
       "<g id=\"node3\" class=\"node\"><title>S10</title>\n",
       "<ellipse fill=\"none\" stroke=\"black\" cx=\"291.762\" cy=\"-23.8686\" rx=\"23.7379\" ry=\"23.7379\"/>\n",
       "<text text-anchor=\"middle\" x=\"291.762\" y=\"-19.6686\" font-family=\"Times,serif\" font-size=\"14.00\">S10</text>\n",
       "</g>\n",
       "<!-- S10&#45;&gt;S10 -->\n",
       "<g id=\"edge10\" class=\"edge\"><title>S10&#45;&gt;S10</title>\n",
       "<path fill=\"none\" stroke=\"black\" d=\"M283.641,-46.6939C282.868,-56.9055 285.575,-65.7372 291.762,-65.7372 295.726,-65.7372 298.262,-62.1127 299.369,-56.8228\"/>\n",
       "<polygon fill=\"black\" stroke=\"black\" points=\"302.871,-56.8587 299.883,-46.6939 295.88,-56.5034 302.871,-56.8587\"/>\n",
       "<text text-anchor=\"middle\" x=\"291.762\" y=\"-68.5372\" font-family=\"Times,serif\" font-size=\"14.00\">0</text>\n",
       "</g>\n",
       "<!-- F1 -->\n",
       "<g id=\"node5\" class=\"node\"><title>F1</title>\n",
       "<ellipse fill=\"none\" stroke=\"black\" cx=\"201.447\" cy=\"-23.8686\" rx=\"19.4029\" ry=\"19.4029\"/>\n",
       "<ellipse fill=\"none\" stroke=\"black\" cx=\"201.447\" cy=\"-23.8686\" rx=\"23.3939\" ry=\"23.3939\"/>\n",
       "<text text-anchor=\"middle\" x=\"201.447\" y=\"-19.6686\" font-family=\"Times,serif\" font-size=\"14.00\">F1</text>\n",
       "</g>\n",
       "<!-- S10&#45;&gt;F1 -->\n",
       "<g id=\"edge11\" class=\"edge\"><title>S10&#45;&gt;F1</title>\n",
       "<path fill=\"none\" stroke=\"black\" d=\"M270.077,-12.7746C261.749,-9.52944 251.98,-7.23799 242.894,-8.8686 239.473,-9.4825 235.963,-10.3667 232.509,-11.4031\"/>\n",
       "<polygon fill=\"black\" stroke=\"black\" points=\"231.379,-8.09038 223.043,-14.6287 233.637,-14.7163 231.379,-8.09038\"/>\n",
       "<text text-anchor=\"middle\" x=\"246.394\" y=\"-11.6686\" font-family=\"Times,serif\" font-size=\"14.00\">1</text>\n",
       "</g>\n",
       "<!-- F0&#45;&gt;S01 -->\n",
       "<g id=\"edge5\" class=\"edge\"><title>F0&#45;&gt;S01</title>\n",
       "<path fill=\"none\" stroke=\"black\" d=\"M225.19,-122.671C235.105,-123.457 246.921,-124.394 257.773,-125.254\"/>\n",
       "<polygon fill=\"black\" stroke=\"black\" points=\"257.544,-128.747 267.789,-126.048 258.097,-121.768 257.544,-128.747\"/>\n",
       "<text text-anchor=\"middle\" x=\"246.394\" y=\"-126.669\" font-family=\"Times,serif\" font-size=\"14.00\">1</text>\n",
       "</g>\n",
       "<!-- F0&#45;&gt;F0 -->\n",
       "<g id=\"edge4\" class=\"edge\"><title>F0&#45;&gt;F0</title>\n",
       "<path fill=\"none\" stroke=\"black\" d=\"M193.36,-143.042C192.478,-153.328 195.173,-162.315 201.447,-162.315 205.466,-162.315 208.016,-158.627 209.099,-153.272\"/>\n",
       "<polygon fill=\"black\" stroke=\"black\" points=\"212.606,-153.182 209.534,-143.042 205.612,-152.884 212.606,-153.182\"/>\n",
       "<text text-anchor=\"middle\" x=\"201.447\" y=\"-165.115\" font-family=\"Times,serif\" font-size=\"14.00\">0</text>\n",
       "</g>\n",
       "<!-- F1&#45;&gt;S10 -->\n",
       "<g id=\"edge9\" class=\"edge\"><title>F1&#45;&gt;S10</title>\n",
       "<path fill=\"none\" stroke=\"black\" d=\"M225.106,-25.8462C230.9,-26.2703 237.124,-26.6549 242.894,-26.8686 247.736,-27.0479 252.849,-26.9907 257.861,-26.7953\"/>\n",
       "<polygon fill=\"black\" stroke=\"black\" points=\"258.099,-30.2876 267.887,-26.2314 257.706,-23.2986 258.099,-30.2876\"/>\n",
       "<text text-anchor=\"middle\" x=\"246.394\" y=\"-30.6686\" font-family=\"Times,serif\" font-size=\"14.00\">0</text>\n",
       "</g>\n",
       "<!-- F1&#45;&gt;F1 -->\n",
       "<g id=\"edge8\" class=\"edge\"><title>F1&#45;&gt;F1</title>\n",
       "<path fill=\"none\" stroke=\"black\" d=\"M193.36,-46.0421C192.478,-56.3282 195.173,-65.3155 201.447,-65.3155 205.466,-65.3155 208.016,-61.6271 209.099,-56.2717\"/>\n",
       "<polygon fill=\"black\" stroke=\"black\" points=\"212.606,-56.1818 209.534,-46.0421 205.612,-55.8843 212.606,-56.1818\"/>\n",
       "<text text-anchor=\"middle\" x=\"201.447\" y=\"-68.1155\" font-family=\"Times,serif\" font-size=\"14.00\">1</text>\n",
       "</g>\n",
       "<!-- IF&#45;&gt;F0 -->\n",
       "<g id=\"edge2\" class=\"edge\"><title>IF&#45;&gt;F0</title>\n",
       "<path fill=\"none\" stroke=\"black\" d=\"M133.185,-88.9678C144.205,-94.1941 158.281,-100.87 170.705,-106.763\"/>\n",
       "<polygon fill=\"black\" stroke=\"black\" points=\"169.271,-109.956 179.806,-111.079 172.27,-103.631 169.271,-109.956\"/>\n",
       "<text text-anchor=\"middle\" x=\"156.5\" y=\"-104.669\" font-family=\"Times,serif\" font-size=\"14.00\">0</text>\n",
       "</g>\n",
       "<!-- IF&#45;&gt;F1 -->\n",
       "<g id=\"edge3\" class=\"edge\"><title>IF&#45;&gt;F1</title>\n",
       "<path fill=\"none\" stroke=\"black\" d=\"M131.912,-68.2654C143.758,-60.5916 159.52,-50.3809 172.942,-41.6865\"/>\n",
       "<polygon fill=\"black\" stroke=\"black\" points=\"174.869,-44.6083 181.359,-36.2339 171.063,-38.7333 174.869,-44.6083\"/>\n",
       "<text text-anchor=\"middle\" x=\"156.5\" y=\"-56.6686\" font-family=\"Times,serif\" font-size=\"14.00\">1</text>\n",
       "</g>\n",
       "</g>\n",
       "</svg>\n"
      ],
      "text/plain": [
       "<graphviz.dot.Digraph at 0x1065bd2b0>"
      ]
     },
     "execution_count": 29,
     "metadata": {},
     "output_type": "execute_result"
    }
   ],
   "source": [
    "dfaBESame = md2mc('''\n",
    "DFA !! Begins and ends with same; epsilon allowed\n",
    "IF  : 0 -> F0\n",
    "IF  : 1 -> F1\n",
    "!!\n",
    "F0  : 0 -> F0\n",
    "F0  : 1 -> S01\n",
    "S01 : 1 -> S01\n",
    "S01 : 0 -> F0\n",
    "!!\n",
    "F1  : 1 -> F1\n",
    "F1  : 0 -> S10\n",
    "S10 : 0 -> S10\n",
    "S10 : 1 -> F1\n",
    "''')\n",
    "DOdfaBESame = dotObj_dfa(dfaBESame)\n",
    "DOdfaBESame"
   ]
  },
  {
   "cell_type": "markdown",
   "metadata": {
    "run_control": {
     "frozen": false,
     "read_only": false
    }
   },
   "source": [
    "## Let us now administer some tests to print dot-strings generated.\n",
    "\n",
    "We will demonstrate two ways to print automata: \n",
    "\n",
    "1. First generate a dot string via dot_dfa or dot_dfa_w_bh\n",
    "   (calling the result \"dot_string\") \n",
    "   1. Then use the srcObj = Source(dot_string) call\n",
    "   2. Thereafter we can display the srcObj object directly into the browser\n",
    "   3. Or, one can also later convert the dot_string to svg or PDF\n",
    "2. OR, one can directly generate a dot object via the dotObj_dfa or dotObj_dfa_w_bh call\n",
    "   (calling the result \"dot_object\")\n",
    "   1. Then directly display the dot_object\n",
    "   2. There are conversions available for dot_object to other formats too"
   ]
  },
  {
   "cell_type": "markdown",
   "metadata": {
    "run_control": {
     "frozen": false,
     "read_only": false
    }
   },
   "source": [
    "# One can read DFAs from files"
   ]
  },
  {
   "cell_type": "code",
   "execution_count": 30,
   "metadata": {
    "run_control": {
     "frozen": false,
     "read_only": false
    }
   },
   "outputs": [],
   "source": [
    "dped1 = md2mc(src=\"File\", fname=\"pedagogical1.dfa\")\n",
    "#machines/dfafiles/pedagogical1.dfa"
   ]
  },
  {
   "cell_type": "code",
   "execution_count": 31,
   "metadata": {
    "run_control": {
     "frozen": false,
     "read_only": false
    }
   },
   "outputs": [
    {
     "data": {
      "text/plain": [
       "{'Delta': {('A', '0'): 'B',\n",
       "  ('A', '1'): 'B',\n",
       "  ('B', '0'): 'IF',\n",
       "  ('B', '1'): 'F',\n",
       "  ('F', '0'): 'B',\n",
       "  ('F', '1'): 'B',\n",
       "  ('IF', '0'): 'A',\n",
       "  ('IF', '1'): 'B'},\n",
       " 'F': {'F', 'IF'},\n",
       " 'Q': {'A', 'B', 'F', 'IF'},\n",
       " 'Sigma': {'0', '1'},\n",
       " 'q0': 'IF'}"
      ]
     },
     "execution_count": 31,
     "metadata": {},
     "output_type": "execute_result"
    }
   ],
   "source": [
    "dped1"
   ]
  },
  {
   "cell_type": "code",
   "execution_count": 32,
   "metadata": {
    "run_control": {
     "frozen": false,
     "read_only": false
    }
   },
   "outputs": [
    {
     "data": {
      "image/svg+xml": [
       "<?xml version=\"1.0\" encoding=\"UTF-8\" standalone=\"no\"?>\n",
       "<!DOCTYPE svg PUBLIC \"-//W3C//DTD SVG 1.1//EN\"\n",
       " \"http://www.w3.org/Graphics/SVG/1.1/DTD/svg11.dtd\">\n",
       "<!-- Generated by graphviz version 2.38.0 (20140413.2041)\n",
       " -->\n",
       "<!-- Title: %3 Pages: 1 -->\n",
       "<svg width=\"388pt\" height=\"113pt\"\n",
       " viewBox=\"0.00 0.00 388.00 113.00\" xmlns=\"http://www.w3.org/2000/svg\" xmlns:xlink=\"http://www.w3.org/1999/xlink\">\n",
       "<g id=\"graph0\" class=\"graph\" transform=\"scale(1 1) rotate(0) translate(4 109)\">\n",
       "<title>%3</title>\n",
       "<polygon fill=\"white\" stroke=\"none\" points=\"-4,4 -4,-109 384,-109 384,4 -4,4\"/>\n",
       "<!-- EMPTY -->\n",
       "<g id=\"node1\" class=\"node\"><title>EMPTY</title>\n",
       "</g>\n",
       "<!-- IF -->\n",
       "<g id=\"node5\" class=\"node\"><title>IF</title>\n",
       "<ellipse fill=\"none\" stroke=\"black\" cx=\"113\" cy=\"-72\" rx=\"18\" ry=\"18\"/>\n",
       "<ellipse fill=\"none\" stroke=\"black\" cx=\"113\" cy=\"-72\" rx=\"22\" ry=\"22\"/>\n",
       "<text text-anchor=\"middle\" x=\"113\" y=\"-67.8\" font-family=\"Times,serif\" font-size=\"14.00\">IF</text>\n",
       "</g>\n",
       "<!-- EMPTY&#45;&gt;IF -->\n",
       "<g id=\"edge1\" class=\"edge\"><title>EMPTY&#45;&gt;IF</title>\n",
       "<path fill=\"none\" stroke=\"black\" d=\"M54.1177,-72C62.5406,-72 71.9629,-72 80.7191,-72\"/>\n",
       "<polygon fill=\"black\" stroke=\"black\" points=\"80.9574,-75.5001 90.9574,-72 80.9573,-68.5001 80.9574,-75.5001\"/>\n",
       "</g>\n",
       "<!-- B -->\n",
       "<g id=\"node2\" class=\"node\"><title>B</title>\n",
       "<ellipse fill=\"none\" stroke=\"black\" cx=\"275\" cy=\"-57\" rx=\"18\" ry=\"18\"/>\n",
       "<text text-anchor=\"middle\" x=\"275\" y=\"-52.8\" font-family=\"Times,serif\" font-size=\"14.00\">B</text>\n",
       "</g>\n",
       "<!-- F -->\n",
       "<g id=\"node4\" class=\"node\"><title>F</title>\n",
       "<ellipse fill=\"none\" stroke=\"black\" cx=\"358\" cy=\"-57\" rx=\"18\" ry=\"18\"/>\n",
       "<ellipse fill=\"none\" stroke=\"black\" cx=\"358\" cy=\"-57\" rx=\"22\" ry=\"22\"/>\n",
       "<text text-anchor=\"middle\" x=\"358\" y=\"-52.8\" font-family=\"Times,serif\" font-size=\"14.00\">F</text>\n",
       "</g>\n",
       "<!-- B&#45;&gt;F -->\n",
       "<g id=\"edge6\" class=\"edge\"><title>B&#45;&gt;F</title>\n",
       "<path fill=\"none\" stroke=\"black\" d=\"M291.241,-65.1226C297.226,-67.8828 304.265,-70.6176 311,-72 316.904,-73.2118 323.112,-72.5661 328.99,-71.0088\"/>\n",
       "<polygon fill=\"black\" stroke=\"black\" points=\"330.176,-74.3019 338.458,-67.6945 327.863,-67.695 330.176,-74.3019\"/>\n",
       "<text text-anchor=\"middle\" x=\"314.5\" y=\"-74.8\" font-family=\"Times,serif\" font-size=\"14.00\">1</text>\n",
       "</g>\n",
       "<!-- B&#45;&gt;IF -->\n",
       "<g id=\"edge7\" class=\"edge\"><title>B&#45;&gt;IF</title>\n",
       "<path fill=\"none\" stroke=\"black\" d=\"M256.986,-58.5951C230.367,-61.0906 178.466,-65.9563 145.059,-69.0883\"/>\n",
       "<polygon fill=\"black\" stroke=\"black\" points=\"144.547,-65.6208 134.917,-70.039 145.2,-72.5902 144.547,-65.6208\"/>\n",
       "<text text-anchor=\"middle\" x=\"196\" y=\"-67.8\" font-family=\"Times,serif\" font-size=\"14.00\">0</text>\n",
       "</g>\n",
       "<!-- A -->\n",
       "<g id=\"node3\" class=\"node\"><title>A</title>\n",
       "<ellipse fill=\"none\" stroke=\"black\" cx=\"196\" cy=\"-18\" rx=\"18\" ry=\"18\"/>\n",
       "<text text-anchor=\"middle\" x=\"196\" y=\"-13.8\" font-family=\"Times,serif\" font-size=\"14.00\">A</text>\n",
       "</g>\n",
       "<!-- A&#45;&gt;B -->\n",
       "<g id=\"edge4\" class=\"edge\"><title>A&#45;&gt;B</title>\n",
       "<path fill=\"none\" stroke=\"black\" d=\"M212.582,-25.8922C223.193,-31.2664 237.455,-38.49 249.564,-44.6235\"/>\n",
       "<polygon fill=\"black\" stroke=\"black\" points=\"248.201,-47.8565 258.704,-49.2526 251.364,-41.6118 248.201,-47.8565\"/>\n",
       "<text text-anchor=\"middle\" x=\"235.5\" y=\"-40.8\" font-family=\"Times,serif\" font-size=\"14.00\">0</text>\n",
       "</g>\n",
       "<!-- A&#45;&gt;B -->\n",
       "<g id=\"edge5\" class=\"edge\"><title>A&#45;&gt;B</title>\n",
       "<path fill=\"none\" stroke=\"black\" d=\"M214.014,-14.9076C221.928,-14.2302 231.276,-14.5533 239,-18 246.711,-21.4407 253.431,-27.5128 258.865,-33.856\"/>\n",
       "<polygon fill=\"black\" stroke=\"black\" points=\"256.159,-36.0784 265.039,-41.8581 261.702,-31.8025 256.159,-36.0784\"/>\n",
       "<text text-anchor=\"middle\" x=\"235.5\" y=\"-20.8\" font-family=\"Times,serif\" font-size=\"14.00\">1</text>\n",
       "</g>\n",
       "<!-- F&#45;&gt;B -->\n",
       "<g id=\"edge8\" class=\"edge\"><title>F&#45;&gt;B</title>\n",
       "<path fill=\"none\" stroke=\"black\" d=\"M335.943,-54.6705C328.115,-54.0565 319.156,-53.6511 311,-54 308.441,-54.1095 305.779,-54.2638 303.118,-54.4453\"/>\n",
       "<polygon fill=\"black\" stroke=\"black\" points=\"302.763,-50.9623 293.071,-55.2425 303.317,-57.9404 302.763,-50.9623\"/>\n",
       "<text text-anchor=\"middle\" x=\"314.5\" y=\"-56.8\" font-family=\"Times,serif\" font-size=\"14.00\">0</text>\n",
       "</g>\n",
       "<!-- F&#45;&gt;B -->\n",
       "<g id=\"edge9\" class=\"edge\"><title>F&#45;&gt;B</title>\n",
       "<path fill=\"none\" stroke=\"black\" d=\"M340.914,-42.7689C332.311,-36.8656 321.378,-32.0093 311,-35 306.535,-36.2869 302.089,-38.3302 297.939,-40.665\"/>\n",
       "<polygon fill=\"black\" stroke=\"black\" points=\"296.002,-37.7488 289.432,-46.0611 299.752,-43.6598 296.002,-37.7488\"/>\n",
       "<text text-anchor=\"middle\" x=\"314.5\" y=\"-37.8\" font-family=\"Times,serif\" font-size=\"14.00\">1</text>\n",
       "</g>\n",
       "<!-- IF&#45;&gt;B -->\n",
       "<g id=\"edge3\" class=\"edge\"><title>IF&#45;&gt;B</title>\n",
       "<path fill=\"none\" stroke=\"black\" d=\"M133.618,-79.8462C139.75,-82.0804 146.59,-84.352 153,-86 179.314,-92.7653 186.916,-92.153 214,-90 225.217,-89.1083 228.75,-90.6426 239,-86 244.301,-83.5989 249.453,-80.1744 254.101,-76.5155\"/>\n",
       "<polygon fill=\"black\" stroke=\"black\" points=\"256.553,-79.0233 261.848,-69.8466 251.986,-73.7183 256.553,-79.0233\"/>\n",
       "<text text-anchor=\"middle\" x=\"196\" y=\"-93.8\" font-family=\"Times,serif\" font-size=\"14.00\">1</text>\n",
       "</g>\n",
       "<!-- IF&#45;&gt;A -->\n",
       "<g id=\"edge2\" class=\"edge\"><title>IF&#45;&gt;A</title>\n",
       "<path fill=\"none\" stroke=\"black\" d=\"M131.294,-59.1978C138.001,-54.3353 145.79,-48.812 153,-44 158.805,-40.1262 165.163,-36.088 171.136,-32.3814\"/>\n",
       "<polygon fill=\"black\" stroke=\"black\" points=\"173.377,-35.113 180.071,-26.9009 169.717,-29.1461 173.377,-35.113\"/>\n",
       "<text text-anchor=\"middle\" x=\"156.5\" y=\"-46.8\" font-family=\"Times,serif\" font-size=\"14.00\">0</text>\n",
       "</g>\n",
       "</g>\n",
       "</svg>\n"
      ],
      "text/plain": [
       "<graphviz.dot.Digraph at 0x1065ae5f8>"
      ]
     },
     "execution_count": 32,
     "metadata": {},
     "output_type": "execute_result"
    }
   ],
   "source": [
    "dotObj_dfa(dped1)"
   ]
  },
  {
   "cell_type": "code",
   "execution_count": 33,
   "metadata": {
    "run_control": {
     "frozen": false,
     "read_only": false
    }
   },
   "outputs": [
    {
     "data": {
      "image/svg+xml": [
       "<?xml version=\"1.0\" encoding=\"UTF-8\" standalone=\"no\"?>\n",
       "<!DOCTYPE svg PUBLIC \"-//W3C//DTD SVG 1.1//EN\"\n",
       " \"http://www.w3.org/Graphics/SVG/1.1/DTD/svg11.dtd\">\n",
       "<!-- Generated by graphviz version 2.38.0 (20140413.2041)\n",
       " -->\n",
       "<!-- Title: %3 Pages: 1 -->\n",
       "<svg width=\"395pt\" height=\"115pt\"\n",
       " viewBox=\"0.00 0.00 395.00 115.00\" xmlns=\"http://www.w3.org/2000/svg\" xmlns:xlink=\"http://www.w3.org/1999/xlink\">\n",
       "<g id=\"graph0\" class=\"graph\" transform=\"scale(1 1) rotate(0) translate(4 111)\">\n",
       "<title>%3</title>\n",
       "<polygon fill=\"white\" stroke=\"none\" points=\"-4,4 -4,-111 391,-111 391,4 -4,4\"/>\n",
       "<!-- EMPTY -->\n",
       "<g id=\"node1\" class=\"node\"><title>EMPTY</title>\n",
       "</g>\n",
       "<!-- IF -->\n",
       "<g id=\"node5\" class=\"node\"><title>IF</title>\n",
       "<ellipse fill=\"none\" stroke=\"black\" cx=\"113\" cy=\"-72\" rx=\"18\" ry=\"18\"/>\n",
       "<ellipse fill=\"none\" stroke=\"black\" cx=\"113\" cy=\"-72\" rx=\"22\" ry=\"22\"/>\n",
       "<text text-anchor=\"middle\" x=\"113\" y=\"-67.8\" font-family=\"Times,serif\" font-size=\"14.00\">IF</text>\n",
       "</g>\n",
       "<!-- EMPTY&#45;&gt;IF -->\n",
       "<g id=\"edge1\" class=\"edge\"><title>EMPTY&#45;&gt;IF</title>\n",
       "<path fill=\"none\" stroke=\"black\" d=\"M54.1177,-72C62.5406,-72 71.9629,-72 80.7191,-72\"/>\n",
       "<polygon fill=\"black\" stroke=\"black\" points=\"80.9574,-75.5001 90.9574,-72 80.9573,-68.5001 80.9574,-75.5001\"/>\n",
       "</g>\n",
       "<!-- B -->\n",
       "<g id=\"node2\" class=\"node\"><title>B</title>\n",
       "<ellipse fill=\"none\" stroke=\"black\" cx=\"278.5\" cy=\"-72\" rx=\"18\" ry=\"18\"/>\n",
       "<text text-anchor=\"middle\" x=\"278.5\" y=\"-67.8\" font-family=\"Times,serif\" font-size=\"14.00\">B</text>\n",
       "</g>\n",
       "<!-- F -->\n",
       "<g id=\"node4\" class=\"node\"><title>F</title>\n",
       "<ellipse fill=\"none\" stroke=\"black\" cx=\"365\" cy=\"-72\" rx=\"18\" ry=\"18\"/>\n",
       "<ellipse fill=\"none\" stroke=\"black\" cx=\"365\" cy=\"-72\" rx=\"22\" ry=\"22\"/>\n",
       "<text text-anchor=\"middle\" x=\"365\" y=\"-67.8\" font-family=\"Times,serif\" font-size=\"14.00\">F</text>\n",
       "</g>\n",
       "<!-- B&#45;&gt;F -->\n",
       "<g id=\"edge5\" class=\"edge\"><title>B&#45;&gt;F</title>\n",
       "<path fill=\"none\" stroke=\"black\" d=\"M296.556,-74.3431C302.251,-75.0202 308.638,-75.6661 314.5,-76 320.31,-76.3309 326.498,-76.2093 332.46,-75.8507\"/>\n",
       "<polygon fill=\"black\" stroke=\"black\" points=\"333.14,-79.3066 342.818,-74.9959 332.564,-72.3303 333.14,-79.3066\"/>\n",
       "<text text-anchor=\"middle\" x=\"319.75\" y=\"-78.8\" font-family=\"Times,serif\" font-size=\"14.00\">1</text>\n",
       "</g>\n",
       "<!-- B&#45;&gt;IF -->\n",
       "<g id=\"edge6\" class=\"edge\"><title>B&#45;&gt;IF</title>\n",
       "<path fill=\"none\" stroke=\"black\" d=\"M260.033,-72C232.711,-72 179.469,-72 145.378,-72\"/>\n",
       "<polygon fill=\"black\" stroke=\"black\" points=\"145.04,-68.5001 135.04,-72 145.04,-75.5001 145.04,-68.5001\"/>\n",
       "<text text-anchor=\"middle\" x=\"196\" y=\"-74.8\" font-family=\"Times,serif\" font-size=\"14.00\">0</text>\n",
       "</g>\n",
       "<!-- A -->\n",
       "<g id=\"node3\" class=\"node\"><title>A</title>\n",
       "<ellipse fill=\"none\" stroke=\"black\" cx=\"196\" cy=\"-18\" rx=\"18\" ry=\"18\"/>\n",
       "<text text-anchor=\"middle\" x=\"196\" y=\"-13.8\" font-family=\"Times,serif\" font-size=\"14.00\">A</text>\n",
       "</g>\n",
       "<!-- A&#45;&gt;B -->\n",
       "<g id=\"edge4\" class=\"edge\"><title>A&#45;&gt;B</title>\n",
       "<path fill=\"none\" stroke=\"black\" d=\"M214,-19.9417C223.013,-21.574 233.955,-24.5594 242.5,-30 249.931,-34.7313 256.574,-41.5525 262.024,-48.3263\"/>\n",
       "<polygon fill=\"black\" stroke=\"black\" points=\"259.486,-50.7793 268.259,-56.7203 265.106,-46.6054 259.486,-50.7793\"/>\n",
       "<text text-anchor=\"middle\" x=\"237.25\" y=\"-46.8\" font-family=\"Times,serif\" font-size=\"14.00\">1 </text>\n",
       "<text text-anchor=\"middle\" x=\"237.25\" y=\"-32.8\" font-family=\"Times,serif\" font-size=\"14.00\"> 0</text>\n",
       "</g>\n",
       "<!-- F&#45;&gt;B -->\n",
       "<g id=\"edge7\" class=\"edge\"><title>F&#45;&gt;B</title>\n",
       "<path fill=\"none\" stroke=\"black\" d=\"M348.185,-57.2138C341.543,-51.9722 333.41,-46.7065 325,-44 315.564,-40.9634 306.076,-45.3423 298.225,-51.4744\"/>\n",
       "<polygon fill=\"black\" stroke=\"black\" points=\"295.783,-48.9631 290.706,-58.2619 300.474,-54.1591 295.783,-48.9631\"/>\n",
       "<text text-anchor=\"middle\" x=\"319.75\" y=\"-60.8\" font-family=\"Times,serif\" font-size=\"14.00\">1 </text>\n",
       "<text text-anchor=\"middle\" x=\"319.75\" y=\"-46.8\" font-family=\"Times,serif\" font-size=\"14.00\"> 0</text>\n",
       "</g>\n",
       "<!-- IF&#45;&gt;B -->\n",
       "<g id=\"edge3\" class=\"edge\"><title>IF&#45;&gt;B</title>\n",
       "<path fill=\"none\" stroke=\"black\" d=\"M133.618,-79.8462C139.75,-82.0804 146.59,-84.352 153,-86 191.525,-95.9048 204.059,-96.2251 242.5,-86 245.726,-85.142 249.055,-84.0703 252.319,-82.904\"/>\n",
       "<polygon fill=\"black\" stroke=\"black\" points=\"253.692,-86.1255 261.745,-79.2406 251.156,-79.6009 253.692,-86.1255\"/>\n",
       "<text text-anchor=\"middle\" x=\"196\" y=\"-95.8\" font-family=\"Times,serif\" font-size=\"14.00\">1</text>\n",
       "</g>\n",
       "<!-- IF&#45;&gt;A -->\n",
       "<g id=\"edge2\" class=\"edge\"><title>IF&#45;&gt;A</title>\n",
       "<path fill=\"none\" stroke=\"black\" d=\"M131.294,-59.1978C138.001,-54.3353 145.79,-48.812 153,-44 158.805,-40.1262 165.163,-36.088 171.136,-32.3814\"/>\n",
       "<polygon fill=\"black\" stroke=\"black\" points=\"173.377,-35.113 180.071,-26.9009 169.717,-29.1461 173.377,-35.113\"/>\n",
       "<text text-anchor=\"middle\" x=\"156.5\" y=\"-46.8\" font-family=\"Times,serif\" font-size=\"14.00\">0</text>\n",
       "</g>\n",
       "</g>\n",
       "</svg>\n"
      ],
      "text/plain": [
       "<graphviz.dot.Digraph at 0x1065aee48>"
      ]
     },
     "execution_count": 33,
     "metadata": {},
     "output_type": "execute_result"
    }
   ],
   "source": [
    "dotObj_dfa(dped1, FuseEdges=True)"
   ]
  },
  {
   "cell_type": "code",
   "execution_count": 34,
   "metadata": {
    "run_control": {
     "frozen": false,
     "read_only": false
    }
   },
   "outputs": [],
   "source": [
    "ends0101 = md2mc(src=\"File\", fname=\"endsin0101.dfa\")"
   ]
  },
  {
   "cell_type": "code",
   "execution_count": 35,
   "metadata": {
    "run_control": {
     "frozen": false,
     "read_only": false
    }
   },
   "outputs": [
    {
     "data": {
      "image/svg+xml": [
       "<?xml version=\"1.0\" encoding=\"UTF-8\" standalone=\"no\"?>\n",
       "<!DOCTYPE svg PUBLIC \"-//W3C//DTD SVG 1.1//EN\"\n",
       " \"http://www.w3.org/Graphics/SVG/1.1/DTD/svg11.dtd\">\n",
       "<!-- Generated by graphviz version 2.38.0 (20140413.2041)\n",
       " -->\n",
       "<!-- Title: %3 Pages: 1 -->\n",
       "<svg width=\"524pt\" height=\"162pt\"\n",
       " viewBox=\"0.00 0.00 523.64 162.16\" xmlns=\"http://www.w3.org/2000/svg\" xmlns:xlink=\"http://www.w3.org/1999/xlink\">\n",
       "<g id=\"graph0\" class=\"graph\" transform=\"scale(1 1) rotate(0) translate(4 158.159)\">\n",
       "<title>%3</title>\n",
       "<polygon fill=\"white\" stroke=\"none\" points=\"-4,4 -4,-158.159 519.636,-158.159 519.636,4 -4,4\"/>\n",
       "<!-- EMPTY -->\n",
       "<g id=\"node1\" class=\"node\"><title>EMPTY</title>\n",
       "</g>\n",
       "<!-- I -->\n",
       "<g id=\"node3\" class=\"node\"><title>I</title>\n",
       "<ellipse fill=\"none\" stroke=\"black\" cx=\"109\" cy=\"-51.7121\" rx=\"18\" ry=\"18\"/>\n",
       "<text text-anchor=\"middle\" x=\"109\" y=\"-47.5121\" font-family=\"Times,serif\" font-size=\"14.00\">I</text>\n",
       "</g>\n",
       "<!-- EMPTY&#45;&gt;I -->\n",
       "<g id=\"edge1\" class=\"edge\"><title>EMPTY&#45;&gt;I</title>\n",
       "<path fill=\"none\" stroke=\"black\" d=\"M54.195,-51.7121C62.6538,-51.7121 72.0513,-51.7121 80.5951,-51.7121\"/>\n",
       "<polygon fill=\"black\" stroke=\"black\" points=\"80.8257,-55.2122 90.8257,-51.7121 80.8257,-48.2122 80.8257,-55.2122\"/>\n",
       "</g>\n",
       "<!-- S010 -->\n",
       "<g id=\"node2\" class=\"node\"><title>S010</title>\n",
       "<ellipse fill=\"none\" stroke=\"black\" cx=\"370.921\" cy=\"-69.7121\" rx=\"28.0822\" ry=\"28.0822\"/>\n",
       "<text text-anchor=\"middle\" x=\"370.921\" y=\"-65.5121\" font-family=\"Times,serif\" font-size=\"14.00\">S010</text>\n",
       "</g>\n",
       "<!-- S0 -->\n",
       "<g id=\"node5\" class=\"node\"><title>S0</title>\n",
       "<ellipse fill=\"none\" stroke=\"black\" cx=\"189.447\" cy=\"-102.712\" rx=\"19.3939\" ry=\"19.3939\"/>\n",
       "<text text-anchor=\"middle\" x=\"189.447\" y=\"-98.5121\" font-family=\"Times,serif\" font-size=\"14.00\">S0</text>\n",
       "</g>\n",
       "<!-- S010&#45;&gt;S0 -->\n",
       "<g id=\"edge8\" class=\"edge\"><title>S010&#45;&gt;S0</title>\n",
       "<path fill=\"none\" stroke=\"black\" d=\"M344.177,-79.269C331.002,-83.8688 314.62,-89.1455 299.631,-92.7121 270.881,-99.5529 263.362,-100.483 233.894,-102.712 229.198,-103.067 224.208,-103.249 219.347,-103.321\"/>\n",
       "<polygon fill=\"black\" stroke=\"black\" points=\"219.073,-99.8213 209.075,-103.328 219.078,-106.821 219.073,-99.8213\"/>\n",
       "<text text-anchor=\"middle\" x=\"275.762\" y=\"-103.512\" font-family=\"Times,serif\" font-size=\"14.00\">0</text>\n",
       "</g>\n",
       "<!-- F0101 -->\n",
       "<g id=\"node6\" class=\"node\"><title>F0101</title>\n",
       "<ellipse fill=\"none\" stroke=\"black\" cx=\"478.924\" cy=\"-36.7121\" rx=\"32.9021\" ry=\"32.9021\"/>\n",
       "<ellipse fill=\"none\" stroke=\"black\" cx=\"478.924\" cy=\"-36.7121\" rx=\"36.9254\" ry=\"36.9254\"/>\n",
       "<text text-anchor=\"middle\" x=\"478.924\" y=\"-32.5121\" font-family=\"Times,serif\" font-size=\"14.00\">F0101</text>\n",
       "</g>\n",
       "<!-- S010&#45;&gt;F0101 -->\n",
       "<g id=\"edge9\" class=\"edge\"><title>S010&#45;&gt;F0101</title>\n",
       "<path fill=\"none\" stroke=\"black\" d=\"M398.124,-61.5548C408.961,-58.1812 421.825,-54.1763 434.026,-50.3779\"/>\n",
       "<polygon fill=\"black\" stroke=\"black\" points=\"435.11,-53.7063 443.618,-47.392 433.029,-47.0227 435.11,-53.7063\"/>\n",
       "<text text-anchor=\"middle\" x=\"420.712\" y=\"-58.5121\" font-family=\"Times,serif\" font-size=\"14.00\">1</text>\n",
       "</g>\n",
       "<!-- I&#45;&gt;I -->\n",
       "<g id=\"edge3\" class=\"edge\"><title>I&#45;&gt;I</title>\n",
       "<path fill=\"none\" stroke=\"black\" d=\"M102.621,-68.7494C101.319,-78.57 103.445,-87.7121 109,-87.7121 112.472,-87.7121 114.604,-84.1409 115.398,-79.065\"/>\n",
       "<polygon fill=\"black\" stroke=\"black\" points=\"118.897,-78.7431 115.379,-68.7494 111.897,-78.7556 118.897,-78.7431\"/>\n",
       "<text text-anchor=\"middle\" x=\"109\" y=\"-90.5121\" font-family=\"Times,serif\" font-size=\"14.00\">1</text>\n",
       "</g>\n",
       "<!-- I&#45;&gt;S0 -->\n",
       "<g id=\"edge2\" class=\"edge\"><title>I&#45;&gt;S0</title>\n",
       "<path fill=\"none\" stroke=\"black\" d=\"M124.388,-61.0663C135.529,-68.3093 151.212,-78.5046 164.271,-86.9946\"/>\n",
       "<polygon fill=\"black\" stroke=\"black\" points=\"162.513,-90.0264 172.805,-92.5427 166.328,-84.1576 162.513,-90.0264\"/>\n",
       "<text text-anchor=\"middle\" x=\"148.5\" y=\"-82.5121\" font-family=\"Times,serif\" font-size=\"14.00\">0</text>\n",
       "</g>\n",
       "<!-- S01 -->\n",
       "<g id=\"node4\" class=\"node\"><title>S01</title>\n",
       "<ellipse fill=\"none\" stroke=\"black\" cx=\"275.762\" cy=\"-59.7121\" rx=\"23.7379\" ry=\"23.7379\"/>\n",
       "<text text-anchor=\"middle\" x=\"275.762\" y=\"-55.5121\" font-family=\"Times,serif\" font-size=\"14.00\">S01</text>\n",
       "</g>\n",
       "<!-- S01&#45;&gt;S010 -->\n",
       "<g id=\"edge6\" class=\"edge\"><title>S01&#45;&gt;S010</title>\n",
       "<path fill=\"none\" stroke=\"black\" d=\"M299.79,-62.184C309.59,-63.2359 321.277,-64.4904 332.274,-65.6708\"/>\n",
       "<polygon fill=\"black\" stroke=\"black\" points=\"332.205,-69.1835 342.521,-66.7709 332.952,-62.2235 332.205,-69.1835\"/>\n",
       "<text text-anchor=\"middle\" x=\"321.131\" y=\"-67.5121\" font-family=\"Times,serif\" font-size=\"14.00\">0</text>\n",
       "</g>\n",
       "<!-- S01&#45;&gt;I -->\n",
       "<g id=\"edge7\" class=\"edge\"><title>S01&#45;&gt;I</title>\n",
       "<path fill=\"none\" stroke=\"black\" d=\"M251.812,-58.5977C221.713,-57.1363 168.986,-54.5761 137.001,-53.0231\"/>\n",
       "<polygon fill=\"black\" stroke=\"black\" points=\"137.17,-49.5273 127.012,-52.5381 136.83,-56.519 137.17,-49.5273\"/>\n",
       "<text text-anchor=\"middle\" x=\"189.447\" y=\"-59.5121\" font-family=\"Times,serif\" font-size=\"14.00\">1</text>\n",
       "</g>\n",
       "<!-- S0&#45;&gt;S01 -->\n",
       "<g id=\"edge5\" class=\"edge\"><title>S0&#45;&gt;S01</title>\n",
       "<path fill=\"none\" stroke=\"black\" d=\"M207.105,-94.2166C217.995,-88.6626 232.523,-81.2539 245.323,-74.7256\"/>\n",
       "<polygon fill=\"black\" stroke=\"black\" points=\"246.945,-77.8278 254.263,-70.1666 243.764,-71.5919 246.945,-77.8278\"/>\n",
       "<text text-anchor=\"middle\" x=\"230.394\" y=\"-87.5121\" font-family=\"Times,serif\" font-size=\"14.00\">1</text>\n",
       "</g>\n",
       "<!-- S0&#45;&gt;S0 -->\n",
       "<g id=\"edge4\" class=\"edge\"><title>S0&#45;&gt;S0</title>\n",
       "<path fill=\"none\" stroke=\"black\" d=\"M182.306,-120.822C180.973,-130.889 183.353,-140.159 189.447,-140.159 193.351,-140.159 195.731,-136.354 196.586,-130.973\"/>\n",
       "<polygon fill=\"black\" stroke=\"black\" points=\"200.086,-130.822 196.588,-120.822 193.086,-130.821 200.086,-130.822\"/>\n",
       "<text text-anchor=\"middle\" x=\"189.447\" y=\"-142.959\" font-family=\"Times,serif\" font-size=\"14.00\">0</text>\n",
       "</g>\n",
       "<!-- F0101&#45;&gt;S010 -->\n",
       "<g id=\"edge10\" class=\"edge\"><title>F0101&#45;&gt;S010</title>\n",
       "<path fill=\"none\" stroke=\"black\" d=\"M442.343,-33.0141C433.942,-33.1464 425.129,-34.1335 417.212,-36.7121 411.523,-38.5649 405.953,-41.432 400.774,-44.7191\"/>\n",
       "<polygon fill=\"black\" stroke=\"black\" points=\"398.65,-41.9337 392.475,-50.5427 402.671,-47.6638 398.65,-41.9337\"/>\n",
       "<text text-anchor=\"middle\" x=\"420.712\" y=\"-39.5121\" font-family=\"Times,serif\" font-size=\"14.00\">0</text>\n",
       "</g>\n",
       "<!-- F0101&#45;&gt;I -->\n",
       "<g id=\"edge11\" class=\"edge\"><title>F0101&#45;&gt;I</title>\n",
       "<path fill=\"none\" stroke=\"black\" d=\"M445.314,-20.9853C424.751,-12.4857 397.363,-3.71207 371.921,-3.71207 188.447,-3.71207 188.447,-3.71207 188.447,-3.71207 165.814,-3.71207 144.194,-18.4287 129.404,-31.5644\"/>\n",
       "<polygon fill=\"black\" stroke=\"black\" points=\"126.814,-29.1954 121.927,-38.5959 131.61,-34.2948 126.814,-29.1954\"/>\n",
       "<text text-anchor=\"middle\" x=\"275.762\" y=\"-6.51207\" font-family=\"Times,serif\" font-size=\"14.00\">1</text>\n",
       "</g>\n",
       "</g>\n",
       "</svg>\n"
      ],
      "text/plain": [
       "<graphviz.dot.Digraph at 0x1065a6a20>"
      ]
     },
     "execution_count": 35,
     "metadata": {},
     "output_type": "execute_result"
    }
   ],
   "source": [
    "dotObj_dfa(ends0101)"
   ]
  },
  {
   "cell_type": "code",
   "execution_count": 36,
   "metadata": {
    "run_control": {
     "frozen": false,
     "read_only": false
    }
   },
   "outputs": [],
   "source": [
    "thirdlastis1=md2mc(src=\"File\", fname=\"thirdlastis1.dfa\")\n",
    "#machines/dfafiles/thirdlastis1.dfa"
   ]
  },
  {
   "cell_type": "code",
   "execution_count": 37,
   "metadata": {
    "run_control": {
     "frozen": false,
     "read_only": false
    }
   },
   "outputs": [
    {
     "data": {
      "text/plain": [
       "{'Delta': {('F100', '0'): 'S000',\n",
       "  ('F100', '1'): 'S001',\n",
       "  ('F101', '0'): 'S010',\n",
       "  ('F101', '1'): 'S011',\n",
       "  ('F110', '0'): 'F100',\n",
       "  ('F110', '1'): 'F101',\n",
       "  ('F111', '0'): 'F110',\n",
       "  ('F111', '1'): 'F111',\n",
       "  ('I', '0'): 'S0',\n",
       "  ('I', '1'): 'S1',\n",
       "  ('S0', '0'): 'S00',\n",
       "  ('S0', '1'): 'S01',\n",
       "  ('S00', '0'): 'S000',\n",
       "  ('S00', '1'): 'S001',\n",
       "  ('S000', '0'): 'S000',\n",
       "  ('S000', '1'): 'S001',\n",
       "  ('S001', '0'): 'S010',\n",
       "  ('S001', '1'): 'S011',\n",
       "  ('S01', '0'): 'S010',\n",
       "  ('S01', '1'): 'S011',\n",
       "  ('S010', '0'): 'F100',\n",
       "  ('S010', '1'): 'F101',\n",
       "  ('S011', '0'): 'F110',\n",
       "  ('S011', '1'): 'F111',\n",
       "  ('S1', '0'): 'S10',\n",
       "  ('S1', '1'): 'S11',\n",
       "  ('S10', '0'): 'F100',\n",
       "  ('S10', '1'): 'F101',\n",
       "  ('S11', '0'): 'F110',\n",
       "  ('S11', '1'): 'F111'},\n",
       " 'F': {'F100', 'F101', 'F110', 'F111'},\n",
       " 'Q': {'F100',\n",
       "  'F101',\n",
       "  'F110',\n",
       "  'F111',\n",
       "  'I',\n",
       "  'S0',\n",
       "  'S00',\n",
       "  'S000',\n",
       "  'S001',\n",
       "  'S01',\n",
       "  'S010',\n",
       "  'S011',\n",
       "  'S1',\n",
       "  'S10',\n",
       "  'S11'},\n",
       " 'Sigma': {'0', '1'},\n",
       " 'q0': 'I'}"
      ]
     },
     "execution_count": 37,
     "metadata": {},
     "output_type": "execute_result"
    }
   ],
   "source": [
    "thirdlastis1"
   ]
  },
  {
   "cell_type": "code",
   "execution_count": 38,
   "metadata": {
    "run_control": {
     "frozen": false,
     "read_only": false
    }
   },
   "outputs": [
    {
     "data": {
      "image/svg+xml": [
       "<?xml version=\"1.0\" encoding=\"UTF-8\" standalone=\"no\"?>\n",
       "<!DOCTYPE svg PUBLIC \"-//W3C//DTD SVG 1.1//EN\"\n",
       " \"http://www.w3.org/Graphics/SVG/1.1/DTD/svg11.dtd\">\n",
       "<!-- Generated by graphviz version 2.38.0 (20140413.2041)\n",
       " -->\n",
       "<!-- Title: %3 Pages: 1 -->\n",
       "<svg width=\"1133pt\" height=\"437pt\"\n",
       " viewBox=\"0.00 0.00 1133.04 436.57\" xmlns=\"http://www.w3.org/2000/svg\" xmlns:xlink=\"http://www.w3.org/1999/xlink\">\n",
       "<g id=\"graph0\" class=\"graph\" transform=\"scale(1 1) rotate(0) translate(4 432.568)\">\n",
       "<title>%3</title>\n",
       "<polygon fill=\"white\" stroke=\"none\" points=\"-4,4 -4,-432.568 1129.04,-432.568 1129.04,4 -4,4\"/>\n",
       "<!-- EMPTY -->\n",
       "<g id=\"node1\" class=\"node\"><title>EMPTY</title>\n",
       "</g>\n",
       "<!-- I -->\n",
       "<g id=\"node9\" class=\"node\"><title>I</title>\n",
       "<ellipse fill=\"none\" stroke=\"black\" cx=\"109\" cy=\"-182.925\" rx=\"18\" ry=\"18\"/>\n",
       "<text text-anchor=\"middle\" x=\"109\" y=\"-178.725\" font-family=\"Times,serif\" font-size=\"14.00\">I</text>\n",
       "</g>\n",
       "<!-- EMPTY&#45;&gt;I -->\n",
       "<g id=\"edge1\" class=\"edge\"><title>EMPTY&#45;&gt;I</title>\n",
       "<path fill=\"none\" stroke=\"black\" d=\"M54.195,-182.925C62.6538,-182.925 72.0513,-182.925 80.5951,-182.925\"/>\n",
       "<polygon fill=\"black\" stroke=\"black\" points=\"80.8257,-186.425 90.8257,-182.925 80.8257,-179.425 80.8257,-186.425\"/>\n",
       "</g>\n",
       "<!-- S1 -->\n",
       "<g id=\"node2\" class=\"node\"><title>S1</title>\n",
       "<ellipse fill=\"none\" stroke=\"black\" cx=\"189.447\" cy=\"-220.925\" rx=\"19.3939\" ry=\"19.3939\"/>\n",
       "<text text-anchor=\"middle\" x=\"189.447\" y=\"-216.725\" font-family=\"Times,serif\" font-size=\"14.00\">S1</text>\n",
       "</g>\n",
       "<!-- S11 -->\n",
       "<g id=\"node4\" class=\"node\"><title>S11</title>\n",
       "<ellipse fill=\"none\" stroke=\"black\" cx=\"275.438\" cy=\"-300.925\" rx=\"23.5896\" ry=\"23.5896\"/>\n",
       "<text text-anchor=\"middle\" x=\"275.438\" y=\"-296.725\" font-family=\"Times,serif\" font-size=\"14.00\">S11</text>\n",
       "</g>\n",
       "<!-- S1&#45;&gt;S11 -->\n",
       "<g id=\"edge7\" class=\"edge\"><title>S1&#45;&gt;S11</title>\n",
       "<path fill=\"none\" stroke=\"black\" d=\"M204.316,-234.136C216.775,-246.002 235.346,-263.691 250.247,-277.884\"/>\n",
       "<polygon fill=\"black\" stroke=\"black\" points=\"247.998,-280.575 257.653,-284.937 252.826,-275.506 247.998,-280.575\"/>\n",
       "<text text-anchor=\"middle\" x=\"230.394\" y=\"-263.725\" font-family=\"Times,serif\" font-size=\"14.00\">1</text>\n",
       "</g>\n",
       "<!-- S10 -->\n",
       "<g id=\"node11\" class=\"node\"><title>S10</title>\n",
       "<ellipse fill=\"none\" stroke=\"black\" cx=\"480.235\" cy=\"-220.925\" rx=\"23.7379\" ry=\"23.7379\"/>\n",
       "<text text-anchor=\"middle\" x=\"480.235\" y=\"-216.725\" font-family=\"Times,serif\" font-size=\"14.00\">S10</text>\n",
       "</g>\n",
       "<!-- S1&#45;&gt;S10 -->\n",
       "<g id=\"edge6\" class=\"edge\"><title>S1&#45;&gt;S10</title>\n",
       "<path fill=\"none\" stroke=\"black\" d=\"M208.951,-220.925C256.749,-220.925 384.853,-220.925 445.941,-220.925\"/>\n",
       "<polygon fill=\"black\" stroke=\"black\" points=\"446.188,-224.425 456.188,-220.925 446.188,-217.425 446.188,-224.425\"/>\n",
       "<text text-anchor=\"middle\" x=\"320.483\" y=\"-223.725\" font-family=\"Times,serif\" font-size=\"14.00\">0</text>\n",
       "</g>\n",
       "<!-- S011 -->\n",
       "<g id=\"node3\" class=\"node\"><title>S011</title>\n",
       "<ellipse fill=\"none\" stroke=\"black\" cx=\"1097.07\" cy=\"-256.925\" rx=\"27.933\" ry=\"27.933\"/>\n",
       "<text text-anchor=\"middle\" x=\"1097.07\" y=\"-252.725\" font-family=\"Times,serif\" font-size=\"14.00\">S011</text>\n",
       "</g>\n",
       "<!-- F111 -->\n",
       "<g id=\"node13\" class=\"node\"><title>F111</title>\n",
       "<ellipse fill=\"none\" stroke=\"black\" cx=\"373.626\" cy=\"-364.925\" rx=\"27.7678\" ry=\"27.7678\"/>\n",
       "<ellipse fill=\"none\" stroke=\"black\" cx=\"373.626\" cy=\"-364.925\" rx=\"31.7859\" ry=\"31.7859\"/>\n",
       "<text text-anchor=\"middle\" x=\"373.626\" y=\"-360.725\" font-family=\"Times,serif\" font-size=\"14.00\">F111</text>\n",
       "</g>\n",
       "<!-- S011&#45;&gt;F111 -->\n",
       "<g id=\"edge23\" class=\"edge\"><title>S011&#45;&gt;F111</title>\n",
       "<path fill=\"none\" stroke=\"black\" d=\"M1089.71,-284.112C1078.32,-325.085 1050.27,-397.925 994.814,-397.925 479.235,-397.925 479.235,-397.925 479.235,-397.925 456.101,-397.925 431.368,-390.495 411.762,-382.686\"/>\n",
       "<polygon fill=\"black\" stroke=\"black\" points=\"412.872,-379.356 402.296,-378.729 410.173,-385.815 412.872,-379.356\"/>\n",
       "<text text-anchor=\"middle\" x=\"740.863\" y=\"-400.725\" font-family=\"Times,serif\" font-size=\"14.00\">1</text>\n",
       "</g>\n",
       "<!-- F110 -->\n",
       "<g id=\"node16\" class=\"node\"><title>F110</title>\n",
       "<ellipse fill=\"none\" stroke=\"black\" cx=\"480.235\" cy=\"-309.925\" rx=\"27.9372\" ry=\"27.9372\"/>\n",
       "<ellipse fill=\"none\" stroke=\"black\" cx=\"480.235\" cy=\"-309.925\" rx=\"31.933\" ry=\"31.933\"/>\n",
       "<text text-anchor=\"middle\" x=\"480.235\" y=\"-305.725\" font-family=\"Times,serif\" font-size=\"14.00\">F110</text>\n",
       "</g>\n",
       "<!-- S011&#45;&gt;F110 -->\n",
       "<g id=\"edge22\" class=\"edge\"><title>S011&#45;&gt;F110</title>\n",
       "<path fill=\"none\" stroke=\"black\" d=\"M1084.18,-281.907C1068.27,-311.235 1037.1,-355.925 994.814,-355.925 586.492,-355.925 586.492,-355.925 586.492,-355.925 561.243,-355.925 535.223,-344.674 515.37,-333.3\"/>\n",
       "<polygon fill=\"black\" stroke=\"black\" points=\"517.084,-330.247 506.708,-328.106 513.484,-336.25 517.084,-330.247\"/>\n",
       "<text text-anchor=\"middle\" x=\"790.653\" y=\"-358.725\" font-family=\"Times,serif\" font-size=\"14.00\">0</text>\n",
       "</g>\n",
       "<!-- S11&#45;&gt;F111 -->\n",
       "<g id=\"edge15\" class=\"edge\"><title>S11&#45;&gt;F111</title>\n",
       "<path fill=\"none\" stroke=\"black\" d=\"M295.442,-313.57C307.593,-321.655 323.712,-332.38 338.077,-341.938\"/>\n",
       "<polygon fill=\"black\" stroke=\"black\" points=\"336.478,-345.078 346.743,-347.704 340.356,-339.25 336.478,-345.078\"/>\n",
       "<text text-anchor=\"middle\" x=\"320.483\" y=\"-334.725\" font-family=\"Times,serif\" font-size=\"14.00\">1</text>\n",
       "</g>\n",
       "<!-- S11&#45;&gt;F110 -->\n",
       "<g id=\"edge14\" class=\"edge\"><title>S11&#45;&gt;F110</title>\n",
       "<path fill=\"none\" stroke=\"black\" d=\"M299.308,-301.94C332.922,-303.432 396.202,-306.24 438.042,-308.097\"/>\n",
       "<polygon fill=\"black\" stroke=\"black\" points=\"438.041,-311.601 448.186,-308.547 438.351,-304.607 438.041,-311.601\"/>\n",
       "<text text-anchor=\"middle\" x=\"373.626\" y=\"-309.725\" font-family=\"Times,serif\" font-size=\"14.00\">0</text>\n",
       "</g>\n",
       "<!-- S000 -->\n",
       "<g id=\"node5\" class=\"node\"><title>S000</title>\n",
       "<ellipse fill=\"none\" stroke=\"black\" cx=\"691.072\" cy=\"-57.9254\" rx=\"28.0822\" ry=\"28.0822\"/>\n",
       "<text text-anchor=\"middle\" x=\"691.072\" y=\"-53.7254\" font-family=\"Times,serif\" font-size=\"14.00\">S000</text>\n",
       "</g>\n",
       "<!-- S000&#45;&gt;S000 -->\n",
       "<g id=\"edge16\" class=\"edge\"><title>S000&#45;&gt;S000</title>\n",
       "<path fill=\"none\" stroke=\"black\" d=\"M682.108,-85.0274C681.709,-95.5061 684.697,-104.216 691.072,-104.216 695.156,-104.216 697.85,-100.641 699.155,-95.3172\"/>\n",
       "<polygon fill=\"black\" stroke=\"black\" points=\"702.67,-95.29 700.037,-85.0274 695.695,-94.6917 702.67,-95.29\"/>\n",
       "<text text-anchor=\"middle\" x=\"691.072\" y=\"-107.016\" font-family=\"Times,serif\" font-size=\"14.00\">0</text>\n",
       "</g>\n",
       "<!-- S001 -->\n",
       "<g id=\"node6\" class=\"node\"><title>S001</title>\n",
       "<ellipse fill=\"none\" stroke=\"black\" cx=\"790.653\" cy=\"-88.9254\" rx=\"28.0822\" ry=\"28.0822\"/>\n",
       "<text text-anchor=\"middle\" x=\"790.653\" y=\"-84.7254\" font-family=\"Times,serif\" font-size=\"14.00\">S001</text>\n",
       "</g>\n",
       "<!-- S000&#45;&gt;S001 -->\n",
       "<g id=\"edge17\" class=\"edge\"><title>S000&#45;&gt;S001</title>\n",
       "<path fill=\"none\" stroke=\"black\" d=\"M718.222,-66.2328C729.16,-69.7076 742.049,-73.8022 753.846,-77.5498\"/>\n",
       "<polygon fill=\"black\" stroke=\"black\" points=\"752.841,-80.9029 763.431,-80.595 754.96,-74.2315 752.841,-80.9029\"/>\n",
       "<text text-anchor=\"middle\" x=\"740.863\" y=\"-77.7254\" font-family=\"Times,serif\" font-size=\"14.00\">1</text>\n",
       "</g>\n",
       "<!-- S001&#45;&gt;S011 -->\n",
       "<g id=\"edge19\" class=\"edge\"><title>S001&#45;&gt;S011</title>\n",
       "<path fill=\"none\" stroke=\"black\" d=\"M818.567,-94.8491C864.304,-105.832 958.777,-132.559 1026.1,-178.925 1044.6,-191.665 1061.54,-210.262 1074.11,-226.101\"/>\n",
       "<polygon fill=\"black\" stroke=\"black\" points=\"1071.39,-228.308 1080.27,-234.087 1076.93,-224.032 1071.39,-228.308\"/>\n",
       "<text text-anchor=\"middle\" x=\"940.024\" y=\"-137.725\" font-family=\"Times,serif\" font-size=\"14.00\">1</text>\n",
       "</g>\n",
       "<!-- S010 -->\n",
       "<g id=\"node8\" class=\"node\"><title>S010</title>\n",
       "<ellipse fill=\"none\" stroke=\"black\" cx=\"890.234\" cy=\"-205.925\" rx=\"28.0822\" ry=\"28.0822\"/>\n",
       "<text text-anchor=\"middle\" x=\"890.234\" y=\"-201.725\" font-family=\"Times,serif\" font-size=\"14.00\">S010</text>\n",
       "</g>\n",
       "<!-- S001&#45;&gt;S010 -->\n",
       "<g id=\"edge18\" class=\"edge\"><title>S001&#45;&gt;S010</title>\n",
       "<path fill=\"none\" stroke=\"black\" d=\"M809.551,-110.385C825.094,-129.022 847.744,-156.178 864.926,-176.78\"/>\n",
       "<polygon fill=\"black\" stroke=\"black\" points=\"862.357,-179.164 871.449,-184.602 867.732,-174.68 862.357,-179.164\"/>\n",
       "<text text-anchor=\"middle\" x=\"840.443\" y=\"-154.725\" font-family=\"Times,serif\" font-size=\"14.00\">0</text>\n",
       "</g>\n",
       "<!-- S00 -->\n",
       "<g id=\"node7\" class=\"node\"><title>S00</title>\n",
       "<ellipse fill=\"none\" stroke=\"black\" cx=\"587.492\" cy=\"-57.9254\" rx=\"23.7379\" ry=\"23.7379\"/>\n",
       "<text text-anchor=\"middle\" x=\"587.492\" y=\"-53.7254\" font-family=\"Times,serif\" font-size=\"14.00\">S00</text>\n",
       "</g>\n",
       "<!-- S00&#45;&gt;S000 -->\n",
       "<g id=\"edge8\" class=\"edge\"><title>S00&#45;&gt;S000</title>\n",
       "<path fill=\"none\" stroke=\"black\" d=\"M611.542,-57.9254C623.577,-57.9254 638.609,-57.9254 652.29,-57.9254\"/>\n",
       "<polygon fill=\"black\" stroke=\"black\" points=\"652.418,-61.4255 662.418,-57.9254 652.418,-54.4255 652.418,-61.4255\"/>\n",
       "<text text-anchor=\"middle\" x=\"641.282\" y=\"-60.7254\" font-family=\"Times,serif\" font-size=\"14.00\">0</text>\n",
       "</g>\n",
       "<!-- S00&#45;&gt;S001 -->\n",
       "<g id=\"edge9\" class=\"edge\"><title>S00&#45;&gt;S001</title>\n",
       "<path fill=\"none\" stroke=\"black\" d=\"M605.481,-41.7672C619.582,-29.5438 640.817,-13.7391 662.782,-6.92536 686.8,0.525352 696.516,3.5821 719.363,-6.92536 741.176,-16.9576 758.753,-37.4689 770.875,-55.4665\"/>\n",
       "<polygon fill=\"black\" stroke=\"black\" points=\"768.034,-57.5194 776.382,-64.0429 773.924,-53.7371 768.034,-57.5194\"/>\n",
       "<text text-anchor=\"middle\" x=\"691.072\" y=\"-9.72536\" font-family=\"Times,serif\" font-size=\"14.00\">1</text>\n",
       "</g>\n",
       "<!-- F100 -->\n",
       "<g id=\"node14\" class=\"node\"><title>F100</title>\n",
       "<ellipse fill=\"none\" stroke=\"black\" cx=\"587.492\" cy=\"-205.925\" rx=\"28.1078\" ry=\"28.1078\"/>\n",
       "<ellipse fill=\"none\" stroke=\"black\" cx=\"587.492\" cy=\"-205.925\" rx=\"32.082\" ry=\"32.082\"/>\n",
       "<text text-anchor=\"middle\" x=\"587.492\" y=\"-201.725\" font-family=\"Times,serif\" font-size=\"14.00\">F100</text>\n",
       "</g>\n",
       "<!-- S010&#45;&gt;F100 -->\n",
       "<g id=\"edge20\" class=\"edge\"><title>S010&#45;&gt;F100</title>\n",
       "<path fill=\"none\" stroke=\"black\" d=\"M861.92,-205.925C809.094,-205.925 692.637,-205.925 630.112,-205.925\"/>\n",
       "<polygon fill=\"black\" stroke=\"black\" points=\"629.825,-202.425 619.825,-205.925 629.825,-209.425 629.825,-202.425\"/>\n",
       "<text text-anchor=\"middle\" x=\"740.863\" y=\"-208.725\" font-family=\"Times,serif\" font-size=\"14.00\">0</text>\n",
       "</g>\n",
       "<!-- F101 -->\n",
       "<g id=\"node15\" class=\"node\"><title>F101</title>\n",
       "<ellipse fill=\"none\" stroke=\"black\" cx=\"993.814\" cy=\"-256.925\" rx=\"28.1078\" ry=\"28.1078\"/>\n",
       "<ellipse fill=\"none\" stroke=\"black\" cx=\"993.814\" cy=\"-256.925\" rx=\"32.082\" ry=\"32.082\"/>\n",
       "<text text-anchor=\"middle\" x=\"993.814\" y=\"-252.725\" font-family=\"Times,serif\" font-size=\"14.00\">F101</text>\n",
       "</g>\n",
       "<!-- S010&#45;&gt;F101 -->\n",
       "<g id=\"edge21\" class=\"edge\"><title>S010&#45;&gt;F101</title>\n",
       "<path fill=\"none\" stroke=\"black\" d=\"M918.399,-202.571C926.743,-202.548 935.766,-203.592 943.524,-206.925 952.324,-210.707 960.366,-216.877 967.286,-223.615\"/>\n",
       "<polygon fill=\"black\" stroke=\"black\" points=\"964.92,-226.206 974.337,-231.061 970.003,-221.393 964.92,-226.206\"/>\n",
       "<text text-anchor=\"middle\" x=\"940.024\" y=\"-209.725\" font-family=\"Times,serif\" font-size=\"14.00\">1</text>\n",
       "</g>\n",
       "<!-- I&#45;&gt;S1 -->\n",
       "<g id=\"edge3\" class=\"edge\"><title>I&#45;&gt;S1</title>\n",
       "<path fill=\"none\" stroke=\"black\" d=\"M125.499,-190.433C135.998,-195.519 150.131,-202.365 162.345,-208.281\"/>\n",
       "<polygon fill=\"black\" stroke=\"black\" points=\"161.097,-211.566 171.623,-212.776 164.149,-205.266 161.097,-211.566\"/>\n",
       "<text text-anchor=\"middle\" x=\"148.5\" y=\"-206.725\" font-family=\"Times,serif\" font-size=\"14.00\">1</text>\n",
       "</g>\n",
       "<!-- S0 -->\n",
       "<g id=\"node12\" class=\"node\"><title>S0</title>\n",
       "<ellipse fill=\"none\" stroke=\"black\" cx=\"480.235\" cy=\"-145.925\" rx=\"19.3939\" ry=\"19.3939\"/>\n",
       "<text text-anchor=\"middle\" x=\"480.235\" y=\"-141.725\" font-family=\"Times,serif\" font-size=\"14.00\">S0</text>\n",
       "</g>\n",
       "<!-- I&#45;&gt;S0 -->\n",
       "<g id=\"edge2\" class=\"edge\"><title>I&#45;&gt;S0</title>\n",
       "<path fill=\"none\" stroke=\"black\" d=\"M125.533,-175.521C141.084,-168.798 165.881,-159.925 188.447,-159.925 188.447,-159.925 188.447,-159.925 374.626,-159.925 400.646,-159.925 429.988,-155.617 450.96,-151.781\"/>\n",
       "<polygon fill=\"black\" stroke=\"black\" points=\"451.65,-155.212 460.816,-149.9 450.337,-148.337 451.65,-155.212\"/>\n",
       "<text text-anchor=\"middle\" x=\"275.438\" y=\"-162.725\" font-family=\"Times,serif\" font-size=\"14.00\">0</text>\n",
       "</g>\n",
       "<!-- S01 -->\n",
       "<g id=\"node10\" class=\"node\"><title>S01</title>\n",
       "<ellipse fill=\"none\" stroke=\"black\" cx=\"790.653\" cy=\"-158.925\" rx=\"23.7379\" ry=\"23.7379\"/>\n",
       "<text text-anchor=\"middle\" x=\"790.653\" y=\"-154.725\" font-family=\"Times,serif\" font-size=\"14.00\">S01</text>\n",
       "</g>\n",
       "<!-- S01&#45;&gt;S011 -->\n",
       "<g id=\"edge11\" class=\"edge\"><title>S01&#45;&gt;S011</title>\n",
       "<path fill=\"none\" stroke=\"black\" d=\"M813.441,-151.582C822.792,-149.257 833.864,-147.597 843.943,-148.925 929.467,-160.194 949.233,-176.783 1026.1,-215.925 1038.8,-222.391 1052.39,-230.152 1064.19,-237.174\"/>\n",
       "<polygon fill=\"black\" stroke=\"black\" points=\"1062.44,-240.207 1072.82,-242.366 1066.05,-234.21 1062.44,-240.207\"/>\n",
       "<text text-anchor=\"middle\" x=\"940.024\" y=\"-177.725\" font-family=\"Times,serif\" font-size=\"14.00\">1</text>\n",
       "</g>\n",
       "<!-- S01&#45;&gt;S010 -->\n",
       "<g id=\"edge10\" class=\"edge\"><title>S01&#45;&gt;S010</title>\n",
       "<path fill=\"none\" stroke=\"black\" d=\"M812.234,-170.238C819.924,-174.357 828.774,-178.97 836.943,-182.925 842.49,-185.611 848.426,-188.347 854.234,-190.953\"/>\n",
       "<polygon fill=\"black\" stroke=\"black\" points=\"853.236,-194.338 863.797,-195.18 856.066,-187.936 853.236,-194.338\"/>\n",
       "<text text-anchor=\"middle\" x=\"840.443\" y=\"-189.725\" font-family=\"Times,serif\" font-size=\"14.00\">0</text>\n",
       "</g>\n",
       "<!-- S10&#45;&gt;F100 -->\n",
       "<g id=\"edge12\" class=\"edge\"><title>S10&#45;&gt;F100</title>\n",
       "<path fill=\"none\" stroke=\"black\" d=\"M502.905,-213.415C511.32,-210.847 521.107,-208.282 530.201,-206.925 534.965,-206.214 539.981,-205.74 544.976,-205.438\"/>\n",
       "<polygon fill=\"black\" stroke=\"black\" points=\"545.255,-208.93 555.109,-205.038 544.978,-201.935 545.255,-208.93\"/>\n",
       "<text text-anchor=\"middle\" x=\"533.701\" y=\"-209.725\" font-family=\"Times,serif\" font-size=\"14.00\">0</text>\n",
       "</g>\n",
       "<!-- S10&#45;&gt;F101 -->\n",
       "<g id=\"edge13\" class=\"edge\"><title>S10&#45;&gt;F101</title>\n",
       "<path fill=\"none\" stroke=\"black\" d=\"M498.69,-236.867C507.565,-244.224 518.855,-252.508 530.201,-257.925 553.466,-269.033 560.712,-271.925 586.492,-271.925 586.492,-271.925 586.492,-271.925 891.234,-271.925 911.389,-271.925 933.555,-269 952.024,-265.732\"/>\n",
       "<polygon fill=\"black\" stroke=\"black\" points=\"952.678,-269.171 961.868,-263.898 951.396,-262.289 952.678,-269.171\"/>\n",
       "<text text-anchor=\"middle\" x=\"740.863\" y=\"-274.725\" font-family=\"Times,serif\" font-size=\"14.00\">1</text>\n",
       "</g>\n",
       "<!-- S0&#45;&gt;S00 -->\n",
       "<g id=\"edge4\" class=\"edge\"><title>S0&#45;&gt;S00</title>\n",
       "<path fill=\"none\" stroke=\"black\" d=\"M495.87,-133.689C512.626,-119.681 540.383,-96.4743 560.771,-79.4293\"/>\n",
       "<polygon fill=\"black\" stroke=\"black\" points=\"563.03,-82.1024 568.457,-73.0031 558.54,-76.7321 563.03,-82.1024\"/>\n",
       "<text text-anchor=\"middle\" x=\"533.701\" y=\"-107.725\" font-family=\"Times,serif\" font-size=\"14.00\">0</text>\n",
       "</g>\n",
       "<!-- S0&#45;&gt;S01 -->\n",
       "<g id=\"edge5\" class=\"edge\"><title>S0&#45;&gt;S01</title>\n",
       "<path fill=\"none\" stroke=\"black\" d=\"M500.064,-146.719C550.982,-148.865 691.907,-154.805 756.515,-157.529\"/>\n",
       "<polygon fill=\"black\" stroke=\"black\" points=\"756.429,-161.028 766.567,-157.952 756.723,-154.034 756.429,-161.028\"/>\n",
       "<text text-anchor=\"middle\" x=\"641.282\" y=\"-155.725\" font-family=\"Times,serif\" font-size=\"14.00\">1</text>\n",
       "</g>\n",
       "<!-- F111&#45;&gt;F111 -->\n",
       "<g id=\"edge31\" class=\"edge\"><title>F111&#45;&gt;F111</title>\n",
       "<path fill=\"none\" stroke=\"black\" d=\"M363.878,-395.466C363.775,-406.034 367.024,-414.568 373.626,-414.568 377.855,-414.568 380.708,-411.065 382.186,-405.77\"/>\n",
       "<polygon fill=\"black\" stroke=\"black\" points=\"385.705,-405.801 383.373,-395.466 378.751,-404.999 385.705,-405.801\"/>\n",
       "<text text-anchor=\"middle\" x=\"373.626\" y=\"-417.368\" font-family=\"Times,serif\" font-size=\"14.00\">1</text>\n",
       "</g>\n",
       "<!-- F111&#45;&gt;F110 -->\n",
       "<g id=\"edge30\" class=\"edge\"><title>F111&#45;&gt;F110</title>\n",
       "<path fill=\"none\" stroke=\"black\" d=\"M402.111,-350.475C414.505,-343.958 429.32,-336.169 442.638,-329.167\"/>\n",
       "<polygon fill=\"black\" stroke=\"black\" points=\"444.348,-332.222 451.57,-324.47 441.09,-326.026 444.348,-332.222\"/>\n",
       "<text text-anchor=\"middle\" x=\"426.768\" y=\"-342.725\" font-family=\"Times,serif\" font-size=\"14.00\">0</text>\n",
       "</g>\n",
       "<!-- F100&#45;&gt;S000 -->\n",
       "<g id=\"edge24\" class=\"edge\"><title>F100&#45;&gt;S000</title>\n",
       "<path fill=\"none\" stroke=\"black\" d=\"M600.722,-176.411C609.583,-156.683 622.634,-130.646 637.782,-109.925 644.724,-100.43 653.418,-91.052 661.713,-82.9309\"/>\n",
       "<polygon fill=\"black\" stroke=\"black\" points=\"664.317,-85.284 669.156,-75.8586 659.496,-80.2093 664.317,-85.284\"/>\n",
       "<text text-anchor=\"middle\" x=\"641.282\" y=\"-112.725\" font-family=\"Times,serif\" font-size=\"14.00\">0</text>\n",
       "</g>\n",
       "<!-- F100&#45;&gt;S001 -->\n",
       "<g id=\"edge25\" class=\"edge\"><title>F100&#45;&gt;S001</title>\n",
       "<path fill=\"none\" stroke=\"black\" d=\"M616.041,-189.902C652.799,-168.523 717.794,-130.72 756.982,-107.928\"/>\n",
       "<polygon fill=\"black\" stroke=\"black\" points=\"758.997,-110.805 765.881,-102.752 755.477,-104.754 758.997,-110.805\"/>\n",
       "<text text-anchor=\"middle\" x=\"691.072\" y=\"-164.725\" font-family=\"Times,serif\" font-size=\"14.00\">1</text>\n",
       "</g>\n",
       "<!-- F101&#45;&gt;S011 -->\n",
       "<g id=\"edge27\" class=\"edge\"><title>F101&#45;&gt;S011</title>\n",
       "<path fill=\"none\" stroke=\"black\" d=\"M1026.3,-256.925C1036.57,-256.925 1048.08,-256.925 1058.75,-256.925\"/>\n",
       "<polygon fill=\"black\" stroke=\"black\" points=\"1059.05,-260.425 1069.05,-256.925 1059.05,-253.425 1059.05,-260.425\"/>\n",
       "<text text-anchor=\"middle\" x=\"1047.6\" y=\"-259.725\" font-family=\"Times,serif\" font-size=\"14.00\">1</text>\n",
       "</g>\n",
       "<!-- F101&#45;&gt;S010 -->\n",
       "<g id=\"edge26\" class=\"edge\"><title>F101&#45;&gt;S010</title>\n",
       "<path fill=\"none\" stroke=\"black\" d=\"M964.497,-242.708C952.19,-236.529 937.678,-229.243 924.83,-222.793\"/>\n",
       "<polygon fill=\"black\" stroke=\"black\" points=\"926.331,-219.63 915.824,-218.271 923.19,-225.886 926.331,-219.63\"/>\n",
       "<text text-anchor=\"middle\" x=\"940.024\" y=\"-234.725\" font-family=\"Times,serif\" font-size=\"14.00\">0</text>\n",
       "</g>\n",
       "<!-- F110&#45;&gt;F100 -->\n",
       "<g id=\"edge28\" class=\"edge\"><title>F110&#45;&gt;F100</title>\n",
       "<path fill=\"none\" stroke=\"black\" d=\"M503.557,-287.87C518.943,-272.668 539.57,-252.287 556.404,-235.654\"/>\n",
       "<polygon fill=\"black\" stroke=\"black\" points=\"559.185,-237.826 563.839,-228.308 554.265,-232.847 559.185,-237.826\"/>\n",
       "<text text-anchor=\"middle\" x=\"533.701\" y=\"-264.725\" font-family=\"Times,serif\" font-size=\"14.00\">0</text>\n",
       "</g>\n",
       "<!-- F110&#45;&gt;F101 -->\n",
       "<g id=\"edge29\" class=\"edge\"><title>F110&#45;&gt;F101</title>\n",
       "<path fill=\"none\" stroke=\"black\" d=\"M512.554,-309.925C533.486,-309.925 561.639,-309.925 586.492,-309.925 586.492,-309.925 586.492,-309.925 891.234,-309.925 916.418,-309.925 941.538,-296.962 960.498,-283.857\"/>\n",
       "<polygon fill=\"black\" stroke=\"black\" points=\"962.711,-286.576 968.753,-277.872 958.602,-280.908 962.711,-286.576\"/>\n",
       "<text text-anchor=\"middle\" x=\"740.863\" y=\"-312.725\" font-family=\"Times,serif\" font-size=\"14.00\">1</text>\n",
       "</g>\n",
       "</g>\n",
       "</svg>\n"
      ],
      "text/plain": [
       "<graphviz.dot.Digraph at 0x106856ba8>"
      ]
     },
     "execution_count": 38,
     "metadata": {},
     "output_type": "execute_result"
    }
   ],
   "source": [
    "dotObj_dfa(thirdlastis1)"
   ]
  },
  {
   "cell_type": "code",
   "execution_count": 39,
   "metadata": {
    "run_control": {
     "frozen": false,
     "read_only": false
    }
   },
   "outputs": [],
   "source": [
    "dped1=md2mc(src=\"File\", fname=\"pedagogical2.dfa\")\n",
    "#machines/dfafiles/pedagogical2.dfa"
   ]
  },
  {
   "cell_type": "code",
   "execution_count": 40,
   "metadata": {
    "run_control": {
     "frozen": false,
     "read_only": false
    }
   },
   "outputs": [
    {
     "data": {
      "image/svg+xml": [
       "<?xml version=\"1.0\" encoding=\"UTF-8\" standalone=\"no\"?>\n",
       "<!DOCTYPE svg PUBLIC \"-//W3C//DTD SVG 1.1//EN\"\n",
       " \"http://www.w3.org/Graphics/SVG/1.1/DTD/svg11.dtd\">\n",
       "<!-- Generated by graphviz version 2.38.0 (20140413.2041)\n",
       " -->\n",
       "<!-- Title: %3 Pages: 1 -->\n",
       "<svg width=\"473pt\" height=\"77pt\"\n",
       " viewBox=\"0.00 0.00 472.79 77.00\" xmlns=\"http://www.w3.org/2000/svg\" xmlns:xlink=\"http://www.w3.org/1999/xlink\">\n",
       "<g id=\"graph0\" class=\"graph\" transform=\"scale(1 1) rotate(0) translate(4 73)\">\n",
       "<title>%3</title>\n",
       "<polygon fill=\"white\" stroke=\"none\" points=\"-4,4 -4,-73 468.787,-73 468.787,4 -4,4\"/>\n",
       "<!-- EMPTY -->\n",
       "<g id=\"node1\" class=\"node\"><title>EMPTY</title>\n",
       "</g>\n",
       "<!-- I -->\n",
       "<g id=\"node3\" class=\"node\"><title>I</title>\n",
       "<ellipse fill=\"none\" stroke=\"black\" cx=\"109\" cy=\"-51\" rx=\"18\" ry=\"18\"/>\n",
       "<text text-anchor=\"middle\" x=\"109\" y=\"-46.8\" font-family=\"Times,serif\" font-size=\"14.00\">I</text>\n",
       "</g>\n",
       "<!-- EMPTY&#45;&gt;I -->\n",
       "<g id=\"edge1\" class=\"edge\"><title>EMPTY&#45;&gt;I</title>\n",
       "<path fill=\"none\" stroke=\"black\" d=\"M54.195,-51C62.6538,-51 72.0513,-51 80.5951,-51\"/>\n",
       "<polygon fill=\"black\" stroke=\"black\" points=\"80.8257,-54.5001 90.8257,-51 80.8257,-47.5001 80.8257,-54.5001\"/>\n",
       "</g>\n",
       "<!-- B -->\n",
       "<g id=\"node2\" class=\"node\"><title>B</title>\n",
       "<ellipse fill=\"none\" stroke=\"black\" cx=\"267\" cy=\"-43\" rx=\"18\" ry=\"18\"/>\n",
       "<text text-anchor=\"middle\" x=\"267\" y=\"-38.8\" font-family=\"Times,serif\" font-size=\"14.00\">B</text>\n",
       "</g>\n",
       "<!-- F1 -->\n",
       "<g id=\"node6\" class=\"node\"><title>F1</title>\n",
       "<ellipse fill=\"none\" stroke=\"black\" cx=\"351.447\" cy=\"-43\" rx=\"19.4029\" ry=\"19.4029\"/>\n",
       "<ellipse fill=\"none\" stroke=\"black\" cx=\"351.447\" cy=\"-43\" rx=\"23.3939\" ry=\"23.3939\"/>\n",
       "<text text-anchor=\"middle\" x=\"351.447\" y=\"-38.8\" font-family=\"Times,serif\" font-size=\"14.00\">F1</text>\n",
       "</g>\n",
       "<!-- B&#45;&gt;F1 -->\n",
       "<g id=\"edge6\" class=\"edge\"><title>B&#45;&gt;F1</title>\n",
       "<path fill=\"none\" stroke=\"black\" d=\"M285.083,-43C294.448,-43 306.379,-43 317.478,-43\"/>\n",
       "<polygon fill=\"black\" stroke=\"black\" points=\"317.753,-46.5001 327.753,-43 317.753,-39.5001 317.753,-46.5001\"/>\n",
       "<text text-anchor=\"middle\" x=\"306.5\" y=\"-45.8\" font-family=\"Times,serif\" font-size=\"14.00\">1</text>\n",
       "</g>\n",
       "<!-- I&#45;&gt;B -->\n",
       "<g id=\"edge3\" class=\"edge\"><title>I&#45;&gt;B</title>\n",
       "<path fill=\"none\" stroke=\"black\" d=\"M127.081,-52.1718C132.778,-52.5103 139.16,-52.8333 145,-53 183.248,-54.0919 192.968,-53.2075 231,-49 233.574,-48.7153 236.245,-48.3625 238.912,-47.9716\"/>\n",
       "<polygon fill=\"black\" stroke=\"black\" points=\"239.658,-51.3965 248.968,-46.3389 238.536,-44.4869 239.658,-51.3965\"/>\n",
       "<text text-anchor=\"middle\" x=\"188\" y=\"-55.8\" font-family=\"Times,serif\" font-size=\"14.00\">1</text>\n",
       "</g>\n",
       "<!-- A -->\n",
       "<g id=\"node4\" class=\"node\"><title>A</title>\n",
       "<ellipse fill=\"none\" stroke=\"black\" cx=\"188\" cy=\"-18\" rx=\"18\" ry=\"18\"/>\n",
       "<text text-anchor=\"middle\" x=\"188\" y=\"-13.8\" font-family=\"Times,serif\" font-size=\"14.00\">A</text>\n",
       "</g>\n",
       "<!-- I&#45;&gt;A -->\n",
       "<g id=\"edge2\" class=\"edge\"><title>I&#45;&gt;A</title>\n",
       "<path fill=\"none\" stroke=\"black\" d=\"M125.954,-44.1624C136.279,-39.7377 149.943,-33.8816 161.726,-28.8319\"/>\n",
       "<polygon fill=\"black\" stroke=\"black\" points=\"163.253,-31.9851 171.066,-24.8289 160.496,-25.5511 163.253,-31.9851\"/>\n",
       "<text text-anchor=\"middle\" x=\"148.5\" y=\"-37.8\" font-family=\"Times,serif\" font-size=\"14.00\">0</text>\n",
       "</g>\n",
       "<!-- A&#45;&gt;B -->\n",
       "<g id=\"edge4\" class=\"edge\"><title>A&#45;&gt;B</title>\n",
       "<path fill=\"none\" stroke=\"black\" d=\"M205.33,-23.3019C215.436,-26.5832 228.635,-30.8685 240.14,-34.6038\"/>\n",
       "<polygon fill=\"black\" stroke=\"black\" points=\"239.102,-37.9466 249.694,-37.7058 241.263,-31.2887 239.102,-37.9466\"/>\n",
       "<text text-anchor=\"middle\" x=\"227.5\" y=\"-33.8\" font-family=\"Times,serif\" font-size=\"14.00\">0</text>\n",
       "</g>\n",
       "<!-- A&#45;&gt;B -->\n",
       "<g id=\"edge5\" class=\"edge\"><title>A&#45;&gt;B</title>\n",
       "<path fill=\"none\" stroke=\"black\" d=\"M204.965,-11.4541C212.985,-9.12696 222.731,-7.78952 231,-11 237.246,-13.4248 243.057,-17.5414 248.079,-22.0292\"/>\n",
       "<polygon fill=\"black\" stroke=\"black\" points=\"245.717,-24.6167 255.271,-29.1973 250.659,-19.6589 245.717,-24.6167\"/>\n",
       "<text text-anchor=\"middle\" x=\"227.5\" y=\"-13.8\" font-family=\"Times,serif\" font-size=\"14.00\">1</text>\n",
       "</g>\n",
       "<!-- F2 -->\n",
       "<g id=\"node5\" class=\"node\"><title>F2</title>\n",
       "<ellipse fill=\"none\" stroke=\"black\" cx=\"441.341\" cy=\"-43\" rx=\"19.4029\" ry=\"19.4029\"/>\n",
       "<ellipse fill=\"none\" stroke=\"black\" cx=\"441.341\" cy=\"-43\" rx=\"23.3939\" ry=\"23.3939\"/>\n",
       "<text text-anchor=\"middle\" x=\"441.341\" y=\"-38.8\" font-family=\"Times,serif\" font-size=\"14.00\">F2</text>\n",
       "</g>\n",
       "<!-- F1&#45;&gt;F2 -->\n",
       "<g id=\"edge7\" class=\"edge\"><title>F1&#45;&gt;F2</title>\n",
       "<path fill=\"none\" stroke=\"black\" d=\"M375.082,-43C385.026,-43 396.892,-43 407.762,-43\"/>\n",
       "<polygon fill=\"black\" stroke=\"black\" points=\"407.783,-46.5001 417.782,-43 407.782,-39.5001 407.783,-46.5001\"/>\n",
       "<text text-anchor=\"middle\" x=\"396.394\" y=\"-45.8\" font-family=\"Times,serif\" font-size=\"14.00\">0</text>\n",
       "</g>\n",
       "<!-- F1&#45;&gt;F2 -->\n",
       "<g id=\"edge8\" class=\"edge\"><title>F1&#45;&gt;F2</title>\n",
       "<path fill=\"none\" stroke=\"black\" d=\"M371.433,-30.3747C379.954,-26.1382 390.242,-22.9493 399.894,-25 403.568,-25.7807 407.314,-26.9194 410.97,-28.251\"/>\n",
       "<polygon fill=\"black\" stroke=\"black\" points=\"409.747,-31.5327 420.326,-32.1126 412.418,-25.0622 409.747,-31.5327\"/>\n",
       "<text text-anchor=\"middle\" x=\"396.394\" y=\"-27.8\" font-family=\"Times,serif\" font-size=\"14.00\">1</text>\n",
       "</g>\n",
       "</g>\n",
       "</svg>\n"
      ],
      "text/plain": [
       "<graphviz.dot.Digraph at 0x1065979b0>"
      ]
     },
     "execution_count": 40,
     "metadata": {},
     "output_type": "execute_result"
    }
   ],
   "source": [
    "dotObj_dfa(dped1)"
   ]
  },
  {
   "cell_type": "code",
   "execution_count": 41,
   "metadata": {
    "run_control": {
     "frozen": false,
     "read_only": false
    }
   },
   "outputs": [],
   "source": [
    "secondLastIs1 = md2mc('''\n",
    "!!------------------------------------------------------------\n",
    "!! This DFA looks for patterns of the form ....1.\n",
    "!! i.e., the second-last (counting from the end-point) is a 1\n",
    "!!\n",
    "!! DFAs find such patterns \"very stressful to handle\",\n",
    "!! as they are kept guessing of the form  'are we there yet?'\n",
    "!! 'are we seeing the second-last' ?\n",
    "!! They must keep all the failure options at hand. Even after\n",
    "!! a 'fleeting glimpse' of the second-last, more inputs can\n",
    "!! come barreling-in to make that \"lucky 1\" a non-second-last.\n",
    "!!\n",
    "!! We take 7 states in the DFA solution.\n",
    "!!------------------------------------------------------------\n",
    "\n",
    "DFA\n",
    "!!------------------------------------------------------------\n",
    "!! State : in ->  tostate !! comment\n",
    "!!------------------------------------------------------------\n",
    "\n",
    "I   :  0 ->  S0  !! Enter at init state I\n",
    "I   :  1 ->  S1  !! Record bit seen in state letter\n",
    "                     !! i.e., S0 means \"state after seeing a 0\"\n",
    "\t\t\t \n",
    "S0  :  0 ->  S00 !! continue recording input seen\n",
    "S0  :  1 ->  S01 !! in state-letter. This is a problem-specific\n",
    "                 !! way of compressing the input seen so far.\n",
    "\n",
    "S1  :  0 ->  F10 !! We now have a \"second last\" available!\n",
    "S1  :  1 ->  F11 !! Both F10 and F10 are \"F\" (final)\n",
    "\n",
    "S00 :  0 ->  S00 !! History of things seen is still 00\n",
    "S00 :  1 ->  S01 !! Remember 01 in the state\n",
    "\n",
    "S01 :  0 ->  F10 !! We again have a second-last of 1\n",
    "S01 :  1 ->  F11 !! We are in F11 because of 11 being last seen\n",
    "\n",
    "F10 :  0 ->  S00 !! The second-last 1 gets pushed-out\n",
    "F10 :  1 ->  S01 !! The second-last 1 gets pushed-out here too\n",
    "\n",
    "F11 :  0 ->  F10 !! Still we have a second-last 1\n",
    "F11 :  1 ->  F11 !! Stay in F11, as last two seen are 11\n",
    "\n",
    "!!------------------------------------------------------------\n",
    "''')"
   ]
  },
  {
   "cell_type": "code",
   "execution_count": null,
   "metadata": {
    "run_control": {
     "frozen": false,
     "read_only": false
    }
   },
   "outputs": [],
   "source": []
  },
  {
   "cell_type": "code",
   "execution_count": 42,
   "metadata": {
    "run_control": {
     "frozen": false,
     "read_only": false
    }
   },
   "outputs": [
    {
     "data": {
      "text/plain": [
       "'0101'"
      ]
     },
     "execution_count": 42,
     "metadata": {},
     "output_type": "execute_result"
    }
   ],
   "source": [
    "nthnumeric(20,['0','1'])"
   ]
  },
  {
   "cell_type": "code",
   "execution_count": 43,
   "metadata": {
    "run_control": {
     "frozen": false,
     "read_only": false
    }
   },
   "outputs": [
    {
     "data": {
      "text/plain": [
       "'S01'"
      ]
     },
     "execution_count": 43,
     "metadata": {},
     "output_type": "execute_result"
    }
   ],
   "source": [
    "run_dfa(secondLastIs1, '0101')"
   ]
  },
  {
   "cell_type": "code",
   "execution_count": 44,
   "metadata": {
    "run_control": {
     "frozen": false,
     "read_only": false
    }
   },
   "outputs": [
    {
     "data": {
      "text/plain": [
       "False"
      ]
     },
     "execution_count": 44,
     "metadata": {},
     "output_type": "execute_result"
    }
   ],
   "source": [
    "accepts_dfa(secondLastIs1, '0101')"
   ]
  },
  {
   "cell_type": "code",
   "execution_count": 45,
   "metadata": {
    "run_control": {
     "frozen": false,
     "read_only": false
    }
   },
   "outputs": [
    {
     "name": "stdout",
     "output_type": "stream",
     "text": [
      "This DFA rejects  \n",
      "This DFA rejects  0\n",
      "This DFA rejects  1\n",
      "This DFA rejects  00\n",
      "This DFA rejects  01\n",
      "This DFA accepts  10\n",
      "This DFA accepts  11\n",
      "This DFA rejects  000\n",
      "This DFA rejects  001\n",
      "This DFA accepts  010\n",
      "This DFA accepts  011\n",
      "This DFA rejects  100\n"
     ]
    }
   ],
   "source": [
    "tests = [ nthnumeric(i, ['0','1']) for i in range(12) ]\n",
    "for t in tests:\n",
    "    if accepts_dfa(secondLastIs1, t):\n",
    "        print(\"This DFA accepts \", t)\n",
    "    else:\n",
    "        print(\"This DFA rejects \", t)"
   ]
  },
  {
   "cell_type": "code",
   "execution_count": 46,
   "metadata": {
    "run_control": {
     "frozen": false,
     "read_only": false
    }
   },
   "outputs": [
    {
     "name": "stdout",
     "output_type": "stream",
     "text": [
      "Help on function run_dfa in module jove.Def_DFA:\n",
      "\n",
      "run_dfa(D, s)\n",
      "    In : D (consistent DFA)\n",
      "         s (string over D's sigma, including \"\")\n",
      "    Out: next state of D[\"q0\"] via string s\n",
      "\n"
     ]
    }
   ],
   "source": [
    "help(run_dfa)"
   ]
  },
  {
   "cell_type": "markdown",
   "metadata": {
    "run_control": {
     "frozen": false,
     "read_only": false
    }
   },
   "source": [
    "# Study DeMorgan's Law on DFA\n",
    "\n",
    "This is an extensive illustration of union, intersection and complementation, DFA minimization, isomorphism test, language equivalence test, and an application of DeMorgan's law\n",
    "\n",
    "## Define a DFA for \"odd 1s\" (over {0,1})"
   ]
  },
  {
   "cell_type": "code",
   "execution_count": 47,
   "metadata": {
    "run_control": {
     "frozen": false,
     "read_only": false
    }
   },
   "outputs": [],
   "source": [
    "dfaOdd1s = md2mc('''\n",
    "DFA\n",
    "I : 0 -> I\n",
    "I : 1 -> F\n",
    "F : 0 -> F \n",
    "F : 1 -> I\n",
    "''')"
   ]
  },
  {
   "cell_type": "code",
   "execution_count": 48,
   "metadata": {
    "run_control": {
     "frozen": false,
     "read_only": false
    }
   },
   "outputs": [
    {
     "data": {
      "image/svg+xml": [
       "<?xml version=\"1.0\" encoding=\"UTF-8\" standalone=\"no\"?>\n",
       "<!DOCTYPE svg PUBLIC \"-//W3C//DTD SVG 1.1//EN\"\n",
       " \"http://www.w3.org/Graphics/SVG/1.1/DTD/svg11.dtd\">\n",
       "<!-- Generated by graphviz version 2.38.0 (20140413.2041)\n",
       " -->\n",
       "<!-- Title: %3 Pages: 1 -->\n",
       "<svg width=\"222pt\" height=\"84pt\"\n",
       " viewBox=\"0.00 0.00 222.00 84.00\" xmlns=\"http://www.w3.org/2000/svg\" xmlns:xlink=\"http://www.w3.org/1999/xlink\">\n",
       "<g id=\"graph0\" class=\"graph\" transform=\"scale(1 1) rotate(0) translate(4 80)\">\n",
       "<title>%3</title>\n",
       "<polygon fill=\"white\" stroke=\"none\" points=\"-4,4 -4,-80 218,-80 218,4 -4,4\"/>\n",
       "<!-- EMPTY -->\n",
       "<g id=\"node1\" class=\"node\"><title>EMPTY</title>\n",
       "</g>\n",
       "<!-- I -->\n",
       "<g id=\"node2\" class=\"node\"><title>I</title>\n",
       "<ellipse fill=\"none\" stroke=\"black\" cx=\"109\" cy=\"-22\" rx=\"18\" ry=\"18\"/>\n",
       "<text text-anchor=\"middle\" x=\"109\" y=\"-17.8\" font-family=\"Times,serif\" font-size=\"14.00\">I</text>\n",
       "</g>\n",
       "<!-- EMPTY&#45;&gt;I -->\n",
       "<g id=\"edge1\" class=\"edge\"><title>EMPTY&#45;&gt;I</title>\n",
       "<path fill=\"none\" stroke=\"black\" d=\"M54.195,-22C62.6538,-22 72.0513,-22 80.5951,-22\"/>\n",
       "<polygon fill=\"black\" stroke=\"black\" points=\"80.8257,-25.5001 90.8257,-22 80.8257,-18.5001 80.8257,-25.5001\"/>\n",
       "</g>\n",
       "<!-- I&#45;&gt;I -->\n",
       "<g id=\"edge2\" class=\"edge\"><title>I&#45;&gt;I</title>\n",
       "<path fill=\"none\" stroke=\"black\" d=\"M102.621,-39.0373C101.319,-48.8579 103.445,-58 109,-58 112.472,-58 114.604,-54.4289 115.398,-49.3529\"/>\n",
       "<polygon fill=\"black\" stroke=\"black\" points=\"118.897,-49.031 115.379,-39.0373 111.897,-49.0435 118.897,-49.031\"/>\n",
       "<text text-anchor=\"middle\" x=\"109\" y=\"-60.8\" font-family=\"Times,serif\" font-size=\"14.00\">0</text>\n",
       "</g>\n",
       "<!-- F -->\n",
       "<g id=\"node3\" class=\"node\"><title>F</title>\n",
       "<ellipse fill=\"none\" stroke=\"black\" cx=\"192\" cy=\"-22\" rx=\"18\" ry=\"18\"/>\n",
       "<ellipse fill=\"none\" stroke=\"black\" cx=\"192\" cy=\"-22\" rx=\"22\" ry=\"22\"/>\n",
       "<text text-anchor=\"middle\" x=\"192\" y=\"-17.8\" font-family=\"Times,serif\" font-size=\"14.00\">F</text>\n",
       "</g>\n",
       "<!-- I&#45;&gt;F -->\n",
       "<g id=\"edge3\" class=\"edge\"><title>I&#45;&gt;F</title>\n",
       "<path fill=\"none\" stroke=\"black\" d=\"M127.178,-22C136.61,-22 148.601,-22 159.637,-22\"/>\n",
       "<polygon fill=\"black\" stroke=\"black\" points=\"159.811,-25.5001 169.811,-22 159.811,-18.5001 159.811,-25.5001\"/>\n",
       "<text text-anchor=\"middle\" x=\"148.5\" y=\"-24.8\" font-family=\"Times,serif\" font-size=\"14.00\">1</text>\n",
       "</g>\n",
       "<!-- F&#45;&gt;I -->\n",
       "<g id=\"edge5\" class=\"edge\"><title>F&#45;&gt;I</title>\n",
       "<path fill=\"none\" stroke=\"black\" d=\"M173.45,-9.63813C165.02,-5.13585 154.669,-1.65948 145,-4 141.26,-4.9053 137.472,-6.28328 133.838,-7.8822\"/>\n",
       "<polygon fill=\"black\" stroke=\"black\" points=\"132.086,-4.84541 124.717,-12.4577 135.225,-11.1023 132.086,-4.84541\"/>\n",
       "<text text-anchor=\"middle\" x=\"148.5\" y=\"-6.8\" font-family=\"Times,serif\" font-size=\"14.00\">1</text>\n",
       "</g>\n",
       "<!-- F&#45;&gt;F -->\n",
       "<g id=\"edge4\" class=\"edge\"><title>F&#45;&gt;F</title>\n",
       "<path fill=\"none\" stroke=\"black\" d=\"M184.317,-42.9908C183.369,-53.0872 185.93,-62 192,-62 195.889,-62 198.337,-58.3422 199.346,-53.0587\"/>\n",
       "<polygon fill=\"black\" stroke=\"black\" points=\"202.846,-53.1023 199.683,-42.9908 195.85,-52.868 202.846,-53.1023\"/>\n",
       "<text text-anchor=\"middle\" x=\"192\" y=\"-64.8\" font-family=\"Times,serif\" font-size=\"14.00\">0</text>\n",
       "</g>\n",
       "</g>\n",
       "</svg>\n"
      ],
      "text/plain": [
       "<graphviz.dot.Digraph at 0x1065a26a0>"
      ]
     },
     "execution_count": 48,
     "metadata": {},
     "output_type": "execute_result"
    }
   ],
   "source": [
    "dotObj_dfa(dfaOdd1s)"
   ]
  },
  {
   "cell_type": "markdown",
   "metadata": {
    "run_control": {
     "frozen": false,
     "read_only": false
    }
   },
   "source": [
    "## Define a DFA for \"ends in 0101\""
   ]
  },
  {
   "cell_type": "code",
   "execution_count": 49,
   "metadata": {
    "run_control": {
     "frozen": false,
     "read_only": false
    }
   },
   "outputs": [],
   "source": [
    "ends0101 = md2mc('''\n",
    "DFA \n",
    "I     : 0 -> S0  \n",
    "I     : 1 -> I \n",
    "S0    : 0 -> S0 \n",
    "S0    : 1 -> S01 \n",
    "S01   : 0 -> S010 \n",
    "S01   : 1 -> I \n",
    "S010  : 0 -> S0 \n",
    "S010  : 1 -> F0101 \n",
    "F0101 : 0 -> S010 \n",
    "F0101 : 1 -> I \n",
    "''')"
   ]
  },
  {
   "cell_type": "code",
   "execution_count": 50,
   "metadata": {
    "run_control": {
     "frozen": false,
     "read_only": false
    }
   },
   "outputs": [
    {
     "data": {
      "image/svg+xml": [
       "<?xml version=\"1.0\" encoding=\"UTF-8\" standalone=\"no\"?>\n",
       "<!DOCTYPE svg PUBLIC \"-//W3C//DTD SVG 1.1//EN\"\n",
       " \"http://www.w3.org/Graphics/SVG/1.1/DTD/svg11.dtd\">\n",
       "<!-- Generated by graphviz version 2.38.0 (20140413.2041)\n",
       " -->\n",
       "<!-- Title: %3 Pages: 1 -->\n",
       "<svg width=\"524pt\" height=\"162pt\"\n",
       " viewBox=\"0.00 0.00 523.64 162.16\" xmlns=\"http://www.w3.org/2000/svg\" xmlns:xlink=\"http://www.w3.org/1999/xlink\">\n",
       "<g id=\"graph0\" class=\"graph\" transform=\"scale(1 1) rotate(0) translate(4 158.159)\">\n",
       "<title>%3</title>\n",
       "<polygon fill=\"white\" stroke=\"none\" points=\"-4,4 -4,-158.159 519.636,-158.159 519.636,4 -4,4\"/>\n",
       "<!-- EMPTY -->\n",
       "<g id=\"node1\" class=\"node\"><title>EMPTY</title>\n",
       "</g>\n",
       "<!-- I -->\n",
       "<g id=\"node3\" class=\"node\"><title>I</title>\n",
       "<ellipse fill=\"none\" stroke=\"black\" cx=\"109\" cy=\"-51.7121\" rx=\"18\" ry=\"18\"/>\n",
       "<text text-anchor=\"middle\" x=\"109\" y=\"-47.5121\" font-family=\"Times,serif\" font-size=\"14.00\">I</text>\n",
       "</g>\n",
       "<!-- EMPTY&#45;&gt;I -->\n",
       "<g id=\"edge1\" class=\"edge\"><title>EMPTY&#45;&gt;I</title>\n",
       "<path fill=\"none\" stroke=\"black\" d=\"M54.195,-51.7121C62.6538,-51.7121 72.0513,-51.7121 80.5951,-51.7121\"/>\n",
       "<polygon fill=\"black\" stroke=\"black\" points=\"80.8257,-55.2122 90.8257,-51.7121 80.8257,-48.2122 80.8257,-55.2122\"/>\n",
       "</g>\n",
       "<!-- S010 -->\n",
       "<g id=\"node2\" class=\"node\"><title>S010</title>\n",
       "<ellipse fill=\"none\" stroke=\"black\" cx=\"370.921\" cy=\"-69.7121\" rx=\"28.0822\" ry=\"28.0822\"/>\n",
       "<text text-anchor=\"middle\" x=\"370.921\" y=\"-65.5121\" font-family=\"Times,serif\" font-size=\"14.00\">S010</text>\n",
       "</g>\n",
       "<!-- S0 -->\n",
       "<g id=\"node5\" class=\"node\"><title>S0</title>\n",
       "<ellipse fill=\"none\" stroke=\"black\" cx=\"189.447\" cy=\"-102.712\" rx=\"19.3939\" ry=\"19.3939\"/>\n",
       "<text text-anchor=\"middle\" x=\"189.447\" y=\"-98.5121\" font-family=\"Times,serif\" font-size=\"14.00\">S0</text>\n",
       "</g>\n",
       "<!-- S010&#45;&gt;S0 -->\n",
       "<g id=\"edge8\" class=\"edge\"><title>S010&#45;&gt;S0</title>\n",
       "<path fill=\"none\" stroke=\"black\" d=\"M344.177,-79.269C331.002,-83.8688 314.62,-89.1455 299.631,-92.7121 270.881,-99.5529 263.362,-100.483 233.894,-102.712 229.198,-103.067 224.208,-103.249 219.347,-103.321\"/>\n",
       "<polygon fill=\"black\" stroke=\"black\" points=\"219.073,-99.8213 209.075,-103.328 219.078,-106.821 219.073,-99.8213\"/>\n",
       "<text text-anchor=\"middle\" x=\"275.762\" y=\"-103.512\" font-family=\"Times,serif\" font-size=\"14.00\">0</text>\n",
       "</g>\n",
       "<!-- F0101 -->\n",
       "<g id=\"node6\" class=\"node\"><title>F0101</title>\n",
       "<ellipse fill=\"none\" stroke=\"black\" cx=\"478.924\" cy=\"-36.7121\" rx=\"32.9021\" ry=\"32.9021\"/>\n",
       "<ellipse fill=\"none\" stroke=\"black\" cx=\"478.924\" cy=\"-36.7121\" rx=\"36.9254\" ry=\"36.9254\"/>\n",
       "<text text-anchor=\"middle\" x=\"478.924\" y=\"-32.5121\" font-family=\"Times,serif\" font-size=\"14.00\">F0101</text>\n",
       "</g>\n",
       "<!-- S010&#45;&gt;F0101 -->\n",
       "<g id=\"edge9\" class=\"edge\"><title>S010&#45;&gt;F0101</title>\n",
       "<path fill=\"none\" stroke=\"black\" d=\"M398.124,-61.5548C408.961,-58.1812 421.825,-54.1763 434.026,-50.3779\"/>\n",
       "<polygon fill=\"black\" stroke=\"black\" points=\"435.11,-53.7063 443.618,-47.392 433.029,-47.0227 435.11,-53.7063\"/>\n",
       "<text text-anchor=\"middle\" x=\"420.712\" y=\"-58.5121\" font-family=\"Times,serif\" font-size=\"14.00\">1</text>\n",
       "</g>\n",
       "<!-- I&#45;&gt;I -->\n",
       "<g id=\"edge3\" class=\"edge\"><title>I&#45;&gt;I</title>\n",
       "<path fill=\"none\" stroke=\"black\" d=\"M102.621,-68.7494C101.319,-78.57 103.445,-87.7121 109,-87.7121 112.472,-87.7121 114.604,-84.1409 115.398,-79.065\"/>\n",
       "<polygon fill=\"black\" stroke=\"black\" points=\"118.897,-78.7431 115.379,-68.7494 111.897,-78.7556 118.897,-78.7431\"/>\n",
       "<text text-anchor=\"middle\" x=\"109\" y=\"-90.5121\" font-family=\"Times,serif\" font-size=\"14.00\">1</text>\n",
       "</g>\n",
       "<!-- I&#45;&gt;S0 -->\n",
       "<g id=\"edge2\" class=\"edge\"><title>I&#45;&gt;S0</title>\n",
       "<path fill=\"none\" stroke=\"black\" d=\"M124.388,-61.0663C135.529,-68.3093 151.212,-78.5046 164.271,-86.9946\"/>\n",
       "<polygon fill=\"black\" stroke=\"black\" points=\"162.513,-90.0264 172.805,-92.5427 166.328,-84.1576 162.513,-90.0264\"/>\n",
       "<text text-anchor=\"middle\" x=\"148.5\" y=\"-82.5121\" font-family=\"Times,serif\" font-size=\"14.00\">0</text>\n",
       "</g>\n",
       "<!-- S01 -->\n",
       "<g id=\"node4\" class=\"node\"><title>S01</title>\n",
       "<ellipse fill=\"none\" stroke=\"black\" cx=\"275.762\" cy=\"-59.7121\" rx=\"23.7379\" ry=\"23.7379\"/>\n",
       "<text text-anchor=\"middle\" x=\"275.762\" y=\"-55.5121\" font-family=\"Times,serif\" font-size=\"14.00\">S01</text>\n",
       "</g>\n",
       "<!-- S01&#45;&gt;S010 -->\n",
       "<g id=\"edge6\" class=\"edge\"><title>S01&#45;&gt;S010</title>\n",
       "<path fill=\"none\" stroke=\"black\" d=\"M299.79,-62.184C309.59,-63.2359 321.277,-64.4904 332.274,-65.6708\"/>\n",
       "<polygon fill=\"black\" stroke=\"black\" points=\"332.205,-69.1835 342.521,-66.7709 332.952,-62.2235 332.205,-69.1835\"/>\n",
       "<text text-anchor=\"middle\" x=\"321.131\" y=\"-67.5121\" font-family=\"Times,serif\" font-size=\"14.00\">0</text>\n",
       "</g>\n",
       "<!-- S01&#45;&gt;I -->\n",
       "<g id=\"edge7\" class=\"edge\"><title>S01&#45;&gt;I</title>\n",
       "<path fill=\"none\" stroke=\"black\" d=\"M251.812,-58.5977C221.713,-57.1363 168.986,-54.5761 137.001,-53.0231\"/>\n",
       "<polygon fill=\"black\" stroke=\"black\" points=\"137.17,-49.5273 127.012,-52.5381 136.83,-56.519 137.17,-49.5273\"/>\n",
       "<text text-anchor=\"middle\" x=\"189.447\" y=\"-59.5121\" font-family=\"Times,serif\" font-size=\"14.00\">1</text>\n",
       "</g>\n",
       "<!-- S0&#45;&gt;S01 -->\n",
       "<g id=\"edge5\" class=\"edge\"><title>S0&#45;&gt;S01</title>\n",
       "<path fill=\"none\" stroke=\"black\" d=\"M207.105,-94.2166C217.995,-88.6626 232.523,-81.2539 245.323,-74.7256\"/>\n",
       "<polygon fill=\"black\" stroke=\"black\" points=\"246.945,-77.8278 254.263,-70.1666 243.764,-71.5919 246.945,-77.8278\"/>\n",
       "<text text-anchor=\"middle\" x=\"230.394\" y=\"-87.5121\" font-family=\"Times,serif\" font-size=\"14.00\">1</text>\n",
       "</g>\n",
       "<!-- S0&#45;&gt;S0 -->\n",
       "<g id=\"edge4\" class=\"edge\"><title>S0&#45;&gt;S0</title>\n",
       "<path fill=\"none\" stroke=\"black\" d=\"M182.306,-120.822C180.973,-130.889 183.353,-140.159 189.447,-140.159 193.351,-140.159 195.731,-136.354 196.586,-130.973\"/>\n",
       "<polygon fill=\"black\" stroke=\"black\" points=\"200.086,-130.822 196.588,-120.822 193.086,-130.821 200.086,-130.822\"/>\n",
       "<text text-anchor=\"middle\" x=\"189.447\" y=\"-142.959\" font-family=\"Times,serif\" font-size=\"14.00\">0</text>\n",
       "</g>\n",
       "<!-- F0101&#45;&gt;S010 -->\n",
       "<g id=\"edge10\" class=\"edge\"><title>F0101&#45;&gt;S010</title>\n",
       "<path fill=\"none\" stroke=\"black\" d=\"M442.343,-33.0141C433.942,-33.1464 425.129,-34.1335 417.212,-36.7121 411.523,-38.5649 405.953,-41.432 400.774,-44.7191\"/>\n",
       "<polygon fill=\"black\" stroke=\"black\" points=\"398.65,-41.9337 392.475,-50.5427 402.671,-47.6638 398.65,-41.9337\"/>\n",
       "<text text-anchor=\"middle\" x=\"420.712\" y=\"-39.5121\" font-family=\"Times,serif\" font-size=\"14.00\">0</text>\n",
       "</g>\n",
       "<!-- F0101&#45;&gt;I -->\n",
       "<g id=\"edge11\" class=\"edge\"><title>F0101&#45;&gt;I</title>\n",
       "<path fill=\"none\" stroke=\"black\" d=\"M445.314,-20.9853C424.751,-12.4857 397.363,-3.71207 371.921,-3.71207 188.447,-3.71207 188.447,-3.71207 188.447,-3.71207 165.814,-3.71207 144.194,-18.4287 129.404,-31.5644\"/>\n",
       "<polygon fill=\"black\" stroke=\"black\" points=\"126.814,-29.1954 121.927,-38.5959 131.61,-34.2948 126.814,-29.1954\"/>\n",
       "<text text-anchor=\"middle\" x=\"275.762\" y=\"-6.51207\" font-family=\"Times,serif\" font-size=\"14.00\">1</text>\n",
       "</g>\n",
       "</g>\n",
       "</svg>\n"
      ],
      "text/plain": [
       "<graphviz.dot.Digraph at 0x1065a6978>"
      ]
     },
     "execution_count": 50,
     "metadata": {},
     "output_type": "execute_result"
    }
   ],
   "source": [
    "dotObj_dfa(ends0101)"
   ]
  },
  {
   "cell_type": "markdown",
   "metadata": {
    "run_control": {
     "frozen": false,
     "read_only": false
    }
   },
   "source": [
    "## Now produce a DFA for the union\n",
    "\n",
    "Union of \"odd 1s\" and \"ends in 0101\"\n"
   ]
  },
  {
   "cell_type": "code",
   "execution_count": 51,
   "metadata": {
    "run_control": {
     "frozen": false,
     "read_only": false
    }
   },
   "outputs": [],
   "source": [
    "odd1sORends0101 = union_dfa(dfaOdd1s,ends0101)"
   ]
  },
  {
   "cell_type": "code",
   "execution_count": 52,
   "metadata": {
    "run_control": {
     "frozen": false,
     "read_only": false
    }
   },
   "outputs": [
    {
     "data": {
      "image/svg+xml": [
       "<?xml version=\"1.0\" encoding=\"UTF-8\" standalone=\"no\"?>\n",
       "<!DOCTYPE svg PUBLIC \"-//W3C//DTD SVG 1.1//EN\"\n",
       " \"http://www.w3.org/Graphics/SVG/1.1/DTD/svg11.dtd\">\n",
       "<!-- Generated by graphviz version 2.38.0 (20140413.2041)\n",
       " -->\n",
       "<!-- Title: %3 Pages: 1 -->\n",
       "<svg width=\"1064pt\" height=\"455pt\"\n",
       " viewBox=\"0.00 0.00 1063.53 455.00\" xmlns=\"http://www.w3.org/2000/svg\" xmlns:xlink=\"http://www.w3.org/1999/xlink\">\n",
       "<g id=\"graph0\" class=\"graph\" transform=\"scale(1 1) rotate(0) translate(4 451)\">\n",
       "<title>%3</title>\n",
       "<polygon fill=\"white\" stroke=\"none\" points=\"-4,4 -4,-451 1059.53,-451 1059.53,4 -4,4\"/>\n",
       "<!-- EMPTY -->\n",
       "<g id=\"node1\" class=\"node\"><title>EMPTY</title>\n",
       "</g>\n",
       "<!-- \\(I_I\\) -->\n",
       "<g id=\"node5\" class=\"node\"><title>\\(I_I\\)</title>\n",
       "<ellipse fill=\"none\" stroke=\"black\" cx=\"117.308\" cy=\"-96\" rx=\"26.118\" ry=\"26.118\"/>\n",
       "<text text-anchor=\"middle\" x=\"117.308\" y=\"-91.8\" font-family=\"Times,serif\" font-size=\"14.00\">(I_I)</text>\n",
       "</g>\n",
       "<!-- EMPTY&#45;&gt;\\(I_I\\) -->\n",
       "<g id=\"edge1\" class=\"edge\"><title>EMPTY&#45;&gt;\\(I_I\\)</title>\n",
       "<path fill=\"none\" stroke=\"black\" d=\"M54.0178,-96C62.3552,-96 71.7368,-96 80.64,-96\"/>\n",
       "<polygon fill=\"black\" stroke=\"black\" points=\"80.7808,-99.5001 90.7807,-96 80.7807,-92.5001 80.7808,-99.5001\"/>\n",
       "</g>\n",
       "<!-- \\(I_S0\\) -->\n",
       "<g id=\"node2\" class=\"node\"><title>\\(I_S0\\)</title>\n",
       "<ellipse fill=\"none\" stroke=\"black\" cx=\"219.32\" cy=\"-277\" rx=\"32.9081\" ry=\"32.9081\"/>\n",
       "<text text-anchor=\"middle\" x=\"219.32\" y=\"-272.8\" font-family=\"Times,serif\" font-size=\"14.00\">(I_S0)</text>\n",
       "</g>\n",
       "<!-- \\(I_S0\\)&#45;&gt;\\(I_S0\\) -->\n",
       "<g id=\"edge17\" class=\"edge\"><title>\\(I_S0\\)&#45;&gt;\\(I_S0\\)</title>\n",
       "<path fill=\"none\" stroke=\"black\" d=\"M209.198,-308.193C209.09,-318.987 212.465,-327.703 219.32,-327.703 223.819,-327.703 226.819,-323.949 228.319,-318.318\"/>\n",
       "<polygon fill=\"black\" stroke=\"black\" points=\"231.818,-318.518 229.443,-308.193 224.861,-317.746 231.818,-318.518\"/>\n",
       "<text text-anchor=\"middle\" x=\"219.32\" y=\"-330.503\" font-family=\"Times,serif\" font-size=\"14.00\">0</text>\n",
       "</g>\n",
       "<!-- \\(F_S01\\) -->\n",
       "<g id=\"node9\" class=\"node\"><title>\\(F_S01\\)</title>\n",
       "<ellipse fill=\"none\" stroke=\"black\" cx=\"338.122\" cy=\"-277\" rx=\"39.1881\" ry=\"39.1881\"/>\n",
       "<ellipse fill=\"none\" stroke=\"black\" cx=\"338.122\" cy=\"-277\" rx=\"43.1973\" ry=\"43.1973\"/>\n",
       "<text text-anchor=\"middle\" x=\"338.122\" y=\"-272.8\" font-family=\"Times,serif\" font-size=\"14.00\">(F_S01)</text>\n",
       "</g>\n",
       "<!-- \\(I_S0\\)&#45;&gt;\\(F_S01\\) -->\n",
       "<g id=\"edge2\" class=\"edge\"><title>\\(I_S0\\)&#45;&gt;\\(F_S01\\)</title>\n",
       "<path fill=\"none\" stroke=\"black\" d=\"M252.237,-277C262.269,-277 273.625,-277 284.691,-277\"/>\n",
       "<polygon fill=\"black\" stroke=\"black\" points=\"284.727,-280.5 294.727,-277 284.727,-273.5 284.727,-280.5\"/>\n",
       "<text text-anchor=\"middle\" x=\"273.524\" y=\"-279.8\" font-family=\"Times,serif\" font-size=\"14.00\">1</text>\n",
       "</g>\n",
       "<!-- \\(I_S010\\) -->\n",
       "<g id=\"node3\" class=\"node\"><title>\\(I_S010\\)</title>\n",
       "<ellipse fill=\"none\" stroke=\"black\" cx=\"867.099\" cy=\"-305\" rx=\"41.5938\" ry=\"41.5938\"/>\n",
       "<text text-anchor=\"middle\" x=\"867.099\" y=\"-300.8\" font-family=\"Times,serif\" font-size=\"14.00\">(I_S010)</text>\n",
       "</g>\n",
       "<!-- \\(I_S010\\)&#45;&gt;\\(I_S0\\) -->\n",
       "<g id=\"edge7\" class=\"edge\"><title>\\(I_S010\\)&#45;&gt;\\(I_S0\\)</title>\n",
       "<path fill=\"none\" stroke=\"black\" d=\"M847.776,-342.023C826.154,-379.826 786.36,-433 733.583,-433 337.122,-433 337.122,-433 337.122,-433 279.754,-433 247.14,-364.564 231.656,-318.348\"/>\n",
       "<polygon fill=\"black\" stroke=\"black\" points=\"234.907,-317.023 228.521,-308.569 228.241,-319.16 234.907,-317.023\"/>\n",
       "<text text-anchor=\"middle\" x=\"540.761\" y=\"-435.8\" font-family=\"Times,serif\" font-size=\"14.00\">0</text>\n",
       "</g>\n",
       "<!-- \\(F_F0101\\) -->\n",
       "<g id=\"node6\" class=\"node\"><title>\\(F_F0101\\)</title>\n",
       "<ellipse fill=\"none\" stroke=\"black\" cx=\"1003.59\" cy=\"-305\" rx=\"47.8885\" ry=\"47.8885\"/>\n",
       "<ellipse fill=\"none\" stroke=\"black\" cx=\"1003.59\" cy=\"-305\" rx=\"51.8841\" ry=\"51.8841\"/>\n",
       "<text text-anchor=\"middle\" x=\"1003.59\" y=\"-300.8\" font-family=\"Times,serif\" font-size=\"14.00\">(F_F0101)</text>\n",
       "</g>\n",
       "<!-- \\(I_S010\\)&#45;&gt;\\(F_F0101\\) -->\n",
       "<g id=\"edge15\" class=\"edge\"><title>\\(I_S010\\)&#45;&gt;\\(F_F0101\\)</title>\n",
       "<path fill=\"none\" stroke=\"black\" d=\"M908.815,-305C919.114,-305 930.402,-305 941.468,-305\"/>\n",
       "<polygon fill=\"black\" stroke=\"black\" points=\"941.532,-308.5 951.532,-305 941.532,-301.5 941.532,-308.5\"/>\n",
       "<text text-anchor=\"middle\" x=\"930.146\" y=\"-307.8\" font-family=\"Times,serif\" font-size=\"14.00\">1</text>\n",
       "</g>\n",
       "<!-- \\(I_S01\\) -->\n",
       "<g id=\"node4\" class=\"node\"><title>\\(I_S01\\)</title>\n",
       "<ellipse fill=\"none\" stroke=\"black\" cx=\"732.583\" cy=\"-200\" rx=\"37.2507\" ry=\"37.2507\"/>\n",
       "<text text-anchor=\"middle\" x=\"732.583\" y=\"-195.8\" font-family=\"Times,serif\" font-size=\"14.00\">(I_S01)</text>\n",
       "</g>\n",
       "<!-- \\(I_S01\\)&#45;&gt;\\(I_S010\\) -->\n",
       "<g id=\"edge16\" class=\"edge\"><title>\\(I_S01\\)&#45;&gt;\\(I_S010\\)</title>\n",
       "<path fill=\"none\" stroke=\"black\" d=\"M769.198,-207.271C782.117,-211.087 796.291,-216.746 807.552,-225 820.42,-234.431 831.645,-247.521 840.73,-260.384\"/>\n",
       "<polygon fill=\"black\" stroke=\"black\" points=\"837.891,-262.433 846.387,-268.763 843.692,-258.516 837.891,-262.433\"/>\n",
       "<text text-anchor=\"middle\" x=\"804.052\" y=\"-227.8\" font-family=\"Times,serif\" font-size=\"14.00\">0</text>\n",
       "</g>\n",
       "<!-- \\(F_I\\) -->\n",
       "<g id=\"node8\" class=\"node\"><title>\\(F_I\\)</title>\n",
       "<ellipse fill=\"none\" stroke=\"black\" cx=\"867.099\" cy=\"-131\" rx=\"28.0917\" ry=\"28.0917\"/>\n",
       "<ellipse fill=\"none\" stroke=\"black\" cx=\"867.099\" cy=\"-131\" rx=\"32.0649\" ry=\"32.0649\"/>\n",
       "<text text-anchor=\"middle\" x=\"867.099\" y=\"-126.8\" font-family=\"Times,serif\" font-size=\"14.00\">(F_I)</text>\n",
       "</g>\n",
       "<!-- \\(I_S01\\)&#45;&gt;\\(F_I\\) -->\n",
       "<g id=\"edge19\" class=\"edge\"><title>\\(I_S01\\)&#45;&gt;\\(F_I\\)</title>\n",
       "<path fill=\"none\" stroke=\"black\" d=\"M766,-183.121C785.051,-173.201 809.203,-160.625 829.01,-150.312\"/>\n",
       "<polygon fill=\"black\" stroke=\"black\" points=\"830.803,-153.324 838.056,-145.601 827.57,-147.116 830.803,-153.324\"/>\n",
       "<text text-anchor=\"middle\" x=\"804.052\" y=\"-166.8\" font-family=\"Times,serif\" font-size=\"14.00\">1</text>\n",
       "</g>\n",
       "<!-- \\(I_I\\)&#45;&gt;\\(I_S0\\) -->\n",
       "<g id=\"edge5\" class=\"edge\"><title>\\(I_I\\)&#45;&gt;\\(I_S0\\)</title>\n",
       "<path fill=\"none\" stroke=\"black\" d=\"M128.535,-119.857C136.841,-138.677 149.178,-165.426 161.617,-188 171.613,-206.142 183.84,-225.619 194.377,-241.714\"/>\n",
       "<polygon fill=\"black\" stroke=\"black\" points=\"191.601,-243.861 200.033,-250.277 197.442,-240.003 191.601,-243.861\"/>\n",
       "<text text-anchor=\"middle\" x=\"165.117\" y=\"-203.8\" font-family=\"Times,serif\" font-size=\"14.00\">0</text>\n",
       "</g>\n",
       "<!-- \\(I_I\\)&#45;&gt;\\(F_I\\) -->\n",
       "<g id=\"edge18\" class=\"edge\"><title>\\(I_I\\)&#45;&gt;\\(F_I\\)</title>\n",
       "<path fill=\"none\" stroke=\"black\" d=\"M137.937,-79.3507C157.132,-64.8057 187.843,-46 218.32,-46 218.32,-46 218.32,-46 733.583,-46 774.701,-46 813.255,-75.3529 838.059,-99.5605\"/>\n",
       "<polygon fill=\"black\" stroke=\"black\" points=\"835.778,-102.231 845.303,-106.87 840.75,-97.3033 835.778,-102.231\"/>\n",
       "<text text-anchor=\"middle\" x=\"471.741\" y=\"-48.8\" font-family=\"Times,serif\" font-size=\"14.00\">1</text>\n",
       "</g>\n",
       "<!-- \\(F_F0101\\)&#45;&gt;\\(I_I\\) -->\n",
       "<g id=\"edge4\" class=\"edge\"><title>\\(F_F0101\\)&#45;&gt;\\(I_I\\)</title>\n",
       "<path fill=\"none\" stroke=\"black\" d=\"M1002.23,-252.915C998.598,-165.804 977.33,-0 868.099,-0 218.32,-0 218.32,-0 218.32,-0 180.749,-0 151.81,-35.6967 134.946,-63.5553\"/>\n",
       "<polygon fill=\"black\" stroke=\"black\" points=\"131.883,-61.862 129.9,-72.2697 137.94,-65.37 131.883,-61.862\"/>\n",
       "<text text-anchor=\"middle\" x=\"540.761\" y=\"-2.8\" font-family=\"Times,serif\" font-size=\"14.00\">1</text>\n",
       "</g>\n",
       "<!-- \\(F_S010\\) -->\n",
       "<g id=\"node10\" class=\"node\"><title>\\(F_S010\\)</title>\n",
       "<ellipse fill=\"none\" stroke=\"black\" cx=\"471.741\" cy=\"-301\" rx=\"43.5388\" ry=\"43.5388\"/>\n",
       "<ellipse fill=\"none\" stroke=\"black\" cx=\"471.741\" cy=\"-301\" rx=\"47.5405\" ry=\"47.5405\"/>\n",
       "<text text-anchor=\"middle\" x=\"471.741\" y=\"-296.8\" font-family=\"Times,serif\" font-size=\"14.00\">(F_S010)</text>\n",
       "</g>\n",
       "<!-- \\(F_F0101\\)&#45;&gt;\\(F_S010\\) -->\n",
       "<g id=\"edge11\" class=\"edge\"><title>\\(F_F0101\\)&#45;&gt;\\(F_S010\\)</title>\n",
       "<path fill=\"none\" stroke=\"black\" d=\"M967.858,-342.721C942.699,-365.828 906.483,-391 868.099,-391 599.938,-391 599.938,-391 599.938,-391 564.788,-391 532.551,-367.814 509.325,-344.978\"/>\n",
       "<polygon fill=\"black\" stroke=\"black\" points=\"511.605,-342.304 502.108,-337.606 506.603,-347.201 511.605,-342.304\"/>\n",
       "<text text-anchor=\"middle\" x=\"732.583\" y=\"-393.8\" font-family=\"Times,serif\" font-size=\"14.00\">0</text>\n",
       "</g>\n",
       "<!-- \\(F_S0\\) -->\n",
       "<g id=\"node7\" class=\"node\"><title>\\(F_S0\\)</title>\n",
       "<ellipse fill=\"none\" stroke=\"black\" cx=\"600.938\" cy=\"-198\" rx=\"34.836\" ry=\"34.836\"/>\n",
       "<ellipse fill=\"none\" stroke=\"black\" cx=\"600.938\" cy=\"-198\" rx=\"38.8544\" ry=\"38.8544\"/>\n",
       "<text text-anchor=\"middle\" x=\"600.938\" y=\"-193.8\" font-family=\"Times,serif\" font-size=\"14.00\">(F_S0)</text>\n",
       "</g>\n",
       "<!-- \\(F_S0\\)&#45;&gt;\\(I_S01\\) -->\n",
       "<g id=\"edge12\" class=\"edge\"><title>\\(F_S0\\)&#45;&gt;\\(I_S01\\)</title>\n",
       "<path fill=\"none\" stroke=\"black\" d=\"M639.785,-198.584C653.995,-198.803 670.31,-199.055 685.207,-199.285\"/>\n",
       "<polygon fill=\"black\" stroke=\"black\" points=\"685.197,-202.785 695.25,-199.44 685.306,-195.786 685.197,-202.785\"/>\n",
       "<text text-anchor=\"middle\" x=\"661.115\" y=\"-201.8\" font-family=\"Times,serif\" font-size=\"14.00\">1</text>\n",
       "</g>\n",
       "<!-- \\(F_S0\\)&#45;&gt;\\(F_S0\\) -->\n",
       "<g id=\"edge20\" class=\"edge\"><title>\\(F_S0\\)&#45;&gt;\\(F_S0\\)</title>\n",
       "<path fill=\"none\" stroke=\"black\" d=\"M589.713,-235.067C590.048,-246.095 593.789,-254.677 600.938,-254.677 605.629,-254.677 608.853,-250.981 610.61,-245.324\"/>\n",
       "<polygon fill=\"black\" stroke=\"black\" points=\"614.126,-245.479 612.163,-235.067 607.205,-244.43 614.126,-245.479\"/>\n",
       "<text text-anchor=\"middle\" x=\"600.938\" y=\"-257.477\" font-family=\"Times,serif\" font-size=\"14.00\">0</text>\n",
       "</g>\n",
       "<!-- \\(F_I\\)&#45;&gt;\\(I_I\\) -->\n",
       "<g id=\"edge14\" class=\"edge\"><title>\\(F_I\\)&#45;&gt;\\(I_I\\)</title>\n",
       "<path fill=\"none\" stroke=\"black\" d=\"M835.174,-125.724C826.278,-124.349 816.549,-122.979 807.552,-122 628.756,-102.54 583.573,-96 403.721,-96 218.32,-96 218.32,-96 218.32,-96 196.931,-96 172.968,-96 153.862,-96\"/>\n",
       "<polygon fill=\"black\" stroke=\"black\" points=\"153.794,-92.5001 143.794,-96 153.794,-99.5001 153.794,-92.5001\"/>\n",
       "<text text-anchor=\"middle\" x=\"471.741\" y=\"-100.8\" font-family=\"Times,serif\" font-size=\"14.00\">1</text>\n",
       "</g>\n",
       "<!-- \\(F_I\\)&#45;&gt;\\(F_S0\\) -->\n",
       "<g id=\"edge3\" class=\"edge\"><title>\\(F_I\\)&#45;&gt;\\(F_S0\\)</title>\n",
       "<path fill=\"none\" stroke=\"black\" d=\"M834.89,-127.281C797.539,-124.004 733.648,-122.168 682.615,-140 666.567,-145.608 650.919,-155.493 637.741,-165.531\"/>\n",
       "<polygon fill=\"black\" stroke=\"black\" points=\"635.538,-162.811 629.874,-171.764 639.885,-168.297 635.538,-162.811\"/>\n",
       "<text text-anchor=\"middle\" x=\"732.583\" y=\"-142.8\" font-family=\"Times,serif\" font-size=\"14.00\">0</text>\n",
       "</g>\n",
       "<!-- \\(F_S01\\)&#45;&gt;\\(I_I\\) -->\n",
       "<g id=\"edge6\" class=\"edge\"><title>\\(F_S01\\)&#45;&gt;\\(I_I\\)</title>\n",
       "<path fill=\"none\" stroke=\"black\" d=\"M304.162,-249.736C261.037,-214.063 186.232,-152.186 145.929,-118.848\"/>\n",
       "<polygon fill=\"black\" stroke=\"black\" points=\"148.049,-116.059 138.113,-112.382 143.587,-121.453 148.049,-116.059\"/>\n",
       "<text text-anchor=\"middle\" x=\"219.32\" y=\"-207.8\" font-family=\"Times,serif\" font-size=\"14.00\">1</text>\n",
       "</g>\n",
       "<!-- \\(F_S01\\)&#45;&gt;\\(F_S010\\) -->\n",
       "<g id=\"edge8\" class=\"edge\"><title>\\(F_S01\\)&#45;&gt;\\(F_S010\\)</title>\n",
       "<path fill=\"none\" stroke=\"black\" d=\"M380.767,-284.594C391.602,-286.569 403.451,-288.73 414.889,-290.816\"/>\n",
       "<polygon fill=\"black\" stroke=\"black\" points=\"414.334,-294.272 424.799,-292.623 415.589,-287.386 414.334,-294.272\"/>\n",
       "<text text-anchor=\"middle\" x=\"402.721\" y=\"-291.8\" font-family=\"Times,serif\" font-size=\"14.00\">0</text>\n",
       "</g>\n",
       "<!-- \\(F_S010\\)&#45;&gt;\\(F_S0\\) -->\n",
       "<g id=\"edge21\" class=\"edge\"><title>\\(F_S010\\)&#45;&gt;\\(F_S0\\)</title>\n",
       "<path fill=\"none\" stroke=\"black\" d=\"M509.19,-271.484C525.846,-257.998 545.559,-242.034 562.35,-228.438\"/>\n",
       "<polygon fill=\"black\" stroke=\"black\" points=\"564.763,-230.987 570.332,-221.974 560.357,-225.547 564.763,-230.987\"/>\n",
       "<text text-anchor=\"middle\" x=\"540.761\" y=\"-249.8\" font-family=\"Times,serif\" font-size=\"14.00\">0</text>\n",
       "</g>\n",
       "<!-- \\(I_F0101\\) -->\n",
       "<g id=\"node11\" class=\"node\"><title>\\(I_F0101\\)</title>\n",
       "<ellipse fill=\"none\" stroke=\"black\" cx=\"732.583\" cy=\"-305\" rx=\"45.9398\" ry=\"45.9398\"/>\n",
       "<ellipse fill=\"none\" stroke=\"black\" cx=\"732.583\" cy=\"-305\" rx=\"49.9373\" ry=\"49.9373\"/>\n",
       "<text text-anchor=\"middle\" x=\"732.583\" y=\"-300.8\" font-family=\"Times,serif\" font-size=\"14.00\">(I_F0101)</text>\n",
       "</g>\n",
       "<!-- \\(F_S010\\)&#45;&gt;\\(I_F0101\\) -->\n",
       "<g id=\"edge10\" class=\"edge\"><title>\\(F_S010\\)&#45;&gt;\\(I_F0101\\)</title>\n",
       "<path fill=\"none\" stroke=\"black\" d=\"M519.316,-301.72C562.076,-302.381 625.652,-303.363 672.077,-304.08\"/>\n",
       "<polygon fill=\"black\" stroke=\"black\" points=\"672.247,-307.583 682.3,-304.238 672.355,-300.584 672.247,-307.583\"/>\n",
       "<text text-anchor=\"middle\" x=\"600.938\" y=\"-306.8\" font-family=\"Times,serif\" font-size=\"14.00\">1</text>\n",
       "</g>\n",
       "<!-- \\(I_F0101\\)&#45;&gt;\\(I_S010\\) -->\n",
       "<g id=\"edge9\" class=\"edge\"><title>\\(I_F0101\\)&#45;&gt;\\(I_S010\\)</title>\n",
       "<path fill=\"none\" stroke=\"black\" d=\"M782.927,-305C793.413,-305 804.505,-305 815.053,-305\"/>\n",
       "<polygon fill=\"black\" stroke=\"black\" points=\"815.377,-308.5 825.377,-305 815.377,-301.5 815.377,-308.5\"/>\n",
       "<text text-anchor=\"middle\" x=\"804.052\" y=\"-307.8\" font-family=\"Times,serif\" font-size=\"14.00\">0</text>\n",
       "</g>\n",
       "<!-- \\(I_F0101\\)&#45;&gt;\\(F_I\\) -->\n",
       "<g id=\"edge13\" class=\"edge\"><title>\\(I_F0101\\)&#45;&gt;\\(F_I\\)</title>\n",
       "<path fill=\"none\" stroke=\"black\" d=\"M772.513,-274.733C784.603,-264.215 797.405,-251.82 807.552,-239 824.27,-217.877 838.744,-191.306 849.118,-169.806\"/>\n",
       "<polygon fill=\"black\" stroke=\"black\" points=\"852.346,-171.166 853.448,-160.629 846.015,-168.179 852.346,-171.166\"/>\n",
       "<text text-anchor=\"middle\" x=\"804.052\" y=\"-250.8\" font-family=\"Times,serif\" font-size=\"14.00\">1</text>\n",
       "</g>\n",
       "</g>\n",
       "</svg>\n"
      ],
      "text/plain": [
       "<graphviz.dot.Digraph at 0x1065a6048>"
      ]
     },
     "execution_count": 52,
     "metadata": {},
     "output_type": "execute_result"
    }
   ],
   "source": [
    "dotObj_dfa(odd1sORends0101)"
   ]
  },
  {
   "cell_type": "code",
   "execution_count": 53,
   "metadata": {
    "run_control": {
     "frozen": false,
     "read_only": false
    },
    "scrolled": true
   },
   "outputs": [
    {
     "data": {
      "image/svg+xml": [
       "<?xml version=\"1.0\" encoding=\"UTF-8\" standalone=\"no\"?>\n",
       "<!DOCTYPE svg PUBLIC \"-//W3C//DTD SVG 1.1//EN\"\n",
       " \"http://www.w3.org/Graphics/SVG/1.1/DTD/svg11.dtd\">\n",
       "<!-- Generated by graphviz version 2.38.0 (20140413.2041)\n",
       " -->\n",
       "<!-- Title: %3 Pages: 1 -->\n",
       "<svg width=\"1064pt\" height=\"455pt\"\n",
       " viewBox=\"0.00 0.00 1063.53 455.00\" xmlns=\"http://www.w3.org/2000/svg\" xmlns:xlink=\"http://www.w3.org/1999/xlink\">\n",
       "<g id=\"graph0\" class=\"graph\" transform=\"scale(1 1) rotate(0) translate(4 451)\">\n",
       "<title>%3</title>\n",
       "<polygon fill=\"white\" stroke=\"none\" points=\"-4,4 -4,-451 1059.53,-451 1059.53,4 -4,4\"/>\n",
       "<!-- EMPTY -->\n",
       "<g id=\"node1\" class=\"node\"><title>EMPTY</title>\n",
       "</g>\n",
       "<!-- \\(I_I\\) -->\n",
       "<g id=\"node5\" class=\"node\"><title>\\(I_I\\)</title>\n",
       "<ellipse fill=\"none\" stroke=\"black\" cx=\"117.308\" cy=\"-96\" rx=\"26.118\" ry=\"26.118\"/>\n",
       "<text text-anchor=\"middle\" x=\"117.308\" y=\"-91.8\" font-family=\"Times,serif\" font-size=\"14.00\">(I_I)</text>\n",
       "</g>\n",
       "<!-- EMPTY&#45;&gt;\\(I_I\\) -->\n",
       "<g id=\"edge1\" class=\"edge\"><title>EMPTY&#45;&gt;\\(I_I\\)</title>\n",
       "<path fill=\"none\" stroke=\"black\" d=\"M54.0178,-96C62.3552,-96 71.7368,-96 80.64,-96\"/>\n",
       "<polygon fill=\"black\" stroke=\"black\" points=\"80.7808,-99.5001 90.7807,-96 80.7807,-92.5001 80.7808,-99.5001\"/>\n",
       "</g>\n",
       "<!-- \\(I_S0\\) -->\n",
       "<g id=\"node2\" class=\"node\"><title>\\(I_S0\\)</title>\n",
       "<ellipse fill=\"none\" stroke=\"black\" cx=\"219.32\" cy=\"-277\" rx=\"32.9081\" ry=\"32.9081\"/>\n",
       "<text text-anchor=\"middle\" x=\"219.32\" y=\"-272.8\" font-family=\"Times,serif\" font-size=\"14.00\">(I_S0)</text>\n",
       "</g>\n",
       "<!-- \\(I_S0\\)&#45;&gt;\\(I_S0\\) -->\n",
       "<g id=\"edge17\" class=\"edge\"><title>\\(I_S0\\)&#45;&gt;\\(I_S0\\)</title>\n",
       "<path fill=\"none\" stroke=\"black\" d=\"M209.198,-308.193C209.09,-318.987 212.465,-327.703 219.32,-327.703 223.819,-327.703 226.819,-323.949 228.319,-318.318\"/>\n",
       "<polygon fill=\"black\" stroke=\"black\" points=\"231.818,-318.518 229.443,-308.193 224.861,-317.746 231.818,-318.518\"/>\n",
       "<text text-anchor=\"middle\" x=\"219.32\" y=\"-330.503\" font-family=\"Times,serif\" font-size=\"14.00\">0</text>\n",
       "</g>\n",
       "<!-- \\(F_S01\\) -->\n",
       "<g id=\"node9\" class=\"node\"><title>\\(F_S01\\)</title>\n",
       "<ellipse fill=\"none\" stroke=\"black\" cx=\"338.122\" cy=\"-277\" rx=\"39.1881\" ry=\"39.1881\"/>\n",
       "<ellipse fill=\"none\" stroke=\"black\" cx=\"338.122\" cy=\"-277\" rx=\"43.1973\" ry=\"43.1973\"/>\n",
       "<text text-anchor=\"middle\" x=\"338.122\" y=\"-272.8\" font-family=\"Times,serif\" font-size=\"14.00\">(F_S01)</text>\n",
       "</g>\n",
       "<!-- \\(I_S0\\)&#45;&gt;\\(F_S01\\) -->\n",
       "<g id=\"edge2\" class=\"edge\"><title>\\(I_S0\\)&#45;&gt;\\(F_S01\\)</title>\n",
       "<path fill=\"none\" stroke=\"black\" d=\"M252.237,-277C262.269,-277 273.625,-277 284.691,-277\"/>\n",
       "<polygon fill=\"black\" stroke=\"black\" points=\"284.727,-280.5 294.727,-277 284.727,-273.5 284.727,-280.5\"/>\n",
       "<text text-anchor=\"middle\" x=\"273.524\" y=\"-279.8\" font-family=\"Times,serif\" font-size=\"14.00\">1</text>\n",
       "</g>\n",
       "<!-- \\(I_S010\\) -->\n",
       "<g id=\"node3\" class=\"node\"><title>\\(I_S010\\)</title>\n",
       "<ellipse fill=\"none\" stroke=\"black\" cx=\"867.099\" cy=\"-305\" rx=\"41.5938\" ry=\"41.5938\"/>\n",
       "<text text-anchor=\"middle\" x=\"867.099\" y=\"-300.8\" font-family=\"Times,serif\" font-size=\"14.00\">(I_S010)</text>\n",
       "</g>\n",
       "<!-- \\(I_S010\\)&#45;&gt;\\(I_S0\\) -->\n",
       "<g id=\"edge7\" class=\"edge\"><title>\\(I_S010\\)&#45;&gt;\\(I_S0\\)</title>\n",
       "<path fill=\"none\" stroke=\"black\" d=\"M847.776,-342.023C826.154,-379.826 786.36,-433 733.583,-433 337.122,-433 337.122,-433 337.122,-433 279.754,-433 247.14,-364.564 231.656,-318.348\"/>\n",
       "<polygon fill=\"black\" stroke=\"black\" points=\"234.907,-317.023 228.521,-308.569 228.241,-319.16 234.907,-317.023\"/>\n",
       "<text text-anchor=\"middle\" x=\"540.761\" y=\"-435.8\" font-family=\"Times,serif\" font-size=\"14.00\">0</text>\n",
       "</g>\n",
       "<!-- \\(F_F0101\\) -->\n",
       "<g id=\"node6\" class=\"node\"><title>\\(F_F0101\\)</title>\n",
       "<ellipse fill=\"none\" stroke=\"black\" cx=\"1003.59\" cy=\"-305\" rx=\"47.8885\" ry=\"47.8885\"/>\n",
       "<ellipse fill=\"none\" stroke=\"black\" cx=\"1003.59\" cy=\"-305\" rx=\"51.8841\" ry=\"51.8841\"/>\n",
       "<text text-anchor=\"middle\" x=\"1003.59\" y=\"-300.8\" font-family=\"Times,serif\" font-size=\"14.00\">(F_F0101)</text>\n",
       "</g>\n",
       "<!-- \\(I_S010\\)&#45;&gt;\\(F_F0101\\) -->\n",
       "<g id=\"edge15\" class=\"edge\"><title>\\(I_S010\\)&#45;&gt;\\(F_F0101\\)</title>\n",
       "<path fill=\"none\" stroke=\"black\" d=\"M908.815,-305C919.114,-305 930.402,-305 941.468,-305\"/>\n",
       "<polygon fill=\"black\" stroke=\"black\" points=\"941.532,-308.5 951.532,-305 941.532,-301.5 941.532,-308.5\"/>\n",
       "<text text-anchor=\"middle\" x=\"930.146\" y=\"-307.8\" font-family=\"Times,serif\" font-size=\"14.00\">1</text>\n",
       "</g>\n",
       "<!-- \\(I_S01\\) -->\n",
       "<g id=\"node4\" class=\"node\"><title>\\(I_S01\\)</title>\n",
       "<ellipse fill=\"none\" stroke=\"black\" cx=\"732.583\" cy=\"-200\" rx=\"37.2507\" ry=\"37.2507\"/>\n",
       "<text text-anchor=\"middle\" x=\"732.583\" y=\"-195.8\" font-family=\"Times,serif\" font-size=\"14.00\">(I_S01)</text>\n",
       "</g>\n",
       "<!-- \\(I_S01\\)&#45;&gt;\\(I_S010\\) -->\n",
       "<g id=\"edge16\" class=\"edge\"><title>\\(I_S01\\)&#45;&gt;\\(I_S010\\)</title>\n",
       "<path fill=\"none\" stroke=\"black\" d=\"M769.198,-207.271C782.117,-211.087 796.291,-216.746 807.552,-225 820.42,-234.431 831.645,-247.521 840.73,-260.384\"/>\n",
       "<polygon fill=\"black\" stroke=\"black\" points=\"837.891,-262.433 846.387,-268.763 843.692,-258.516 837.891,-262.433\"/>\n",
       "<text text-anchor=\"middle\" x=\"804.052\" y=\"-227.8\" font-family=\"Times,serif\" font-size=\"14.00\">0</text>\n",
       "</g>\n",
       "<!-- \\(F_I\\) -->\n",
       "<g id=\"node8\" class=\"node\"><title>\\(F_I\\)</title>\n",
       "<ellipse fill=\"none\" stroke=\"black\" cx=\"867.099\" cy=\"-131\" rx=\"28.0917\" ry=\"28.0917\"/>\n",
       "<ellipse fill=\"none\" stroke=\"black\" cx=\"867.099\" cy=\"-131\" rx=\"32.0649\" ry=\"32.0649\"/>\n",
       "<text text-anchor=\"middle\" x=\"867.099\" y=\"-126.8\" font-family=\"Times,serif\" font-size=\"14.00\">(F_I)</text>\n",
       "</g>\n",
       "<!-- \\(I_S01\\)&#45;&gt;\\(F_I\\) -->\n",
       "<g id=\"edge19\" class=\"edge\"><title>\\(I_S01\\)&#45;&gt;\\(F_I\\)</title>\n",
       "<path fill=\"none\" stroke=\"black\" d=\"M766,-183.121C785.051,-173.201 809.203,-160.625 829.01,-150.312\"/>\n",
       "<polygon fill=\"black\" stroke=\"black\" points=\"830.803,-153.324 838.056,-145.601 827.57,-147.116 830.803,-153.324\"/>\n",
       "<text text-anchor=\"middle\" x=\"804.052\" y=\"-166.8\" font-family=\"Times,serif\" font-size=\"14.00\">1</text>\n",
       "</g>\n",
       "<!-- \\(I_I\\)&#45;&gt;\\(I_S0\\) -->\n",
       "<g id=\"edge5\" class=\"edge\"><title>\\(I_I\\)&#45;&gt;\\(I_S0\\)</title>\n",
       "<path fill=\"none\" stroke=\"black\" d=\"M128.535,-119.857C136.841,-138.677 149.178,-165.426 161.617,-188 171.613,-206.142 183.84,-225.619 194.377,-241.714\"/>\n",
       "<polygon fill=\"black\" stroke=\"black\" points=\"191.601,-243.861 200.033,-250.277 197.442,-240.003 191.601,-243.861\"/>\n",
       "<text text-anchor=\"middle\" x=\"165.117\" y=\"-203.8\" font-family=\"Times,serif\" font-size=\"14.00\">0</text>\n",
       "</g>\n",
       "<!-- \\(I_I\\)&#45;&gt;\\(F_I\\) -->\n",
       "<g id=\"edge18\" class=\"edge\"><title>\\(I_I\\)&#45;&gt;\\(F_I\\)</title>\n",
       "<path fill=\"none\" stroke=\"black\" d=\"M137.937,-79.3507C157.132,-64.8057 187.843,-46 218.32,-46 218.32,-46 218.32,-46 733.583,-46 774.701,-46 813.255,-75.3529 838.059,-99.5605\"/>\n",
       "<polygon fill=\"black\" stroke=\"black\" points=\"835.778,-102.231 845.303,-106.87 840.75,-97.3033 835.778,-102.231\"/>\n",
       "<text text-anchor=\"middle\" x=\"471.741\" y=\"-48.8\" font-family=\"Times,serif\" font-size=\"14.00\">1</text>\n",
       "</g>\n",
       "<!-- \\(F_F0101\\)&#45;&gt;\\(I_I\\) -->\n",
       "<g id=\"edge4\" class=\"edge\"><title>\\(F_F0101\\)&#45;&gt;\\(I_I\\)</title>\n",
       "<path fill=\"none\" stroke=\"black\" d=\"M1002.23,-252.915C998.598,-165.804 977.33,-0 868.099,-0 218.32,-0 218.32,-0 218.32,-0 180.749,-0 151.81,-35.6967 134.946,-63.5553\"/>\n",
       "<polygon fill=\"black\" stroke=\"black\" points=\"131.883,-61.862 129.9,-72.2697 137.94,-65.37 131.883,-61.862\"/>\n",
       "<text text-anchor=\"middle\" x=\"540.761\" y=\"-2.8\" font-family=\"Times,serif\" font-size=\"14.00\">1</text>\n",
       "</g>\n",
       "<!-- \\(F_S010\\) -->\n",
       "<g id=\"node10\" class=\"node\"><title>\\(F_S010\\)</title>\n",
       "<ellipse fill=\"none\" stroke=\"black\" cx=\"471.741\" cy=\"-301\" rx=\"43.5388\" ry=\"43.5388\"/>\n",
       "<ellipse fill=\"none\" stroke=\"black\" cx=\"471.741\" cy=\"-301\" rx=\"47.5405\" ry=\"47.5405\"/>\n",
       "<text text-anchor=\"middle\" x=\"471.741\" y=\"-296.8\" font-family=\"Times,serif\" font-size=\"14.00\">(F_S010)</text>\n",
       "</g>\n",
       "<!-- \\(F_F0101\\)&#45;&gt;\\(F_S010\\) -->\n",
       "<g id=\"edge11\" class=\"edge\"><title>\\(F_F0101\\)&#45;&gt;\\(F_S010\\)</title>\n",
       "<path fill=\"none\" stroke=\"black\" d=\"M967.858,-342.721C942.699,-365.828 906.483,-391 868.099,-391 599.938,-391 599.938,-391 599.938,-391 564.788,-391 532.551,-367.814 509.325,-344.978\"/>\n",
       "<polygon fill=\"black\" stroke=\"black\" points=\"511.605,-342.304 502.108,-337.606 506.603,-347.201 511.605,-342.304\"/>\n",
       "<text text-anchor=\"middle\" x=\"732.583\" y=\"-393.8\" font-family=\"Times,serif\" font-size=\"14.00\">0</text>\n",
       "</g>\n",
       "<!-- \\(F_S0\\) -->\n",
       "<g id=\"node7\" class=\"node\"><title>\\(F_S0\\)</title>\n",
       "<ellipse fill=\"none\" stroke=\"black\" cx=\"600.938\" cy=\"-198\" rx=\"34.836\" ry=\"34.836\"/>\n",
       "<ellipse fill=\"none\" stroke=\"black\" cx=\"600.938\" cy=\"-198\" rx=\"38.8544\" ry=\"38.8544\"/>\n",
       "<text text-anchor=\"middle\" x=\"600.938\" y=\"-193.8\" font-family=\"Times,serif\" font-size=\"14.00\">(F_S0)</text>\n",
       "</g>\n",
       "<!-- \\(F_S0\\)&#45;&gt;\\(I_S01\\) -->\n",
       "<g id=\"edge12\" class=\"edge\"><title>\\(F_S0\\)&#45;&gt;\\(I_S01\\)</title>\n",
       "<path fill=\"none\" stroke=\"black\" d=\"M639.785,-198.584C653.995,-198.803 670.31,-199.055 685.207,-199.285\"/>\n",
       "<polygon fill=\"black\" stroke=\"black\" points=\"685.197,-202.785 695.25,-199.44 685.306,-195.786 685.197,-202.785\"/>\n",
       "<text text-anchor=\"middle\" x=\"661.115\" y=\"-201.8\" font-family=\"Times,serif\" font-size=\"14.00\">1</text>\n",
       "</g>\n",
       "<!-- \\(F_S0\\)&#45;&gt;\\(F_S0\\) -->\n",
       "<g id=\"edge20\" class=\"edge\"><title>\\(F_S0\\)&#45;&gt;\\(F_S0\\)</title>\n",
       "<path fill=\"none\" stroke=\"black\" d=\"M589.713,-235.067C590.048,-246.095 593.789,-254.677 600.938,-254.677 605.629,-254.677 608.853,-250.981 610.61,-245.324\"/>\n",
       "<polygon fill=\"black\" stroke=\"black\" points=\"614.126,-245.479 612.163,-235.067 607.205,-244.43 614.126,-245.479\"/>\n",
       "<text text-anchor=\"middle\" x=\"600.938\" y=\"-257.477\" font-family=\"Times,serif\" font-size=\"14.00\">0</text>\n",
       "</g>\n",
       "<!-- \\(F_I\\)&#45;&gt;\\(I_I\\) -->\n",
       "<g id=\"edge14\" class=\"edge\"><title>\\(F_I\\)&#45;&gt;\\(I_I\\)</title>\n",
       "<path fill=\"none\" stroke=\"black\" d=\"M835.174,-125.724C826.278,-124.349 816.549,-122.979 807.552,-122 628.756,-102.54 583.573,-96 403.721,-96 218.32,-96 218.32,-96 218.32,-96 196.931,-96 172.968,-96 153.862,-96\"/>\n",
       "<polygon fill=\"black\" stroke=\"black\" points=\"153.794,-92.5001 143.794,-96 153.794,-99.5001 153.794,-92.5001\"/>\n",
       "<text text-anchor=\"middle\" x=\"471.741\" y=\"-100.8\" font-family=\"Times,serif\" font-size=\"14.00\">1</text>\n",
       "</g>\n",
       "<!-- \\(F_I\\)&#45;&gt;\\(F_S0\\) -->\n",
       "<g id=\"edge3\" class=\"edge\"><title>\\(F_I\\)&#45;&gt;\\(F_S0\\)</title>\n",
       "<path fill=\"none\" stroke=\"black\" d=\"M834.89,-127.281C797.539,-124.004 733.648,-122.168 682.615,-140 666.567,-145.608 650.919,-155.493 637.741,-165.531\"/>\n",
       "<polygon fill=\"black\" stroke=\"black\" points=\"635.538,-162.811 629.874,-171.764 639.885,-168.297 635.538,-162.811\"/>\n",
       "<text text-anchor=\"middle\" x=\"732.583\" y=\"-142.8\" font-family=\"Times,serif\" font-size=\"14.00\">0</text>\n",
       "</g>\n",
       "<!-- \\(F_S01\\)&#45;&gt;\\(I_I\\) -->\n",
       "<g id=\"edge6\" class=\"edge\"><title>\\(F_S01\\)&#45;&gt;\\(I_I\\)</title>\n",
       "<path fill=\"none\" stroke=\"black\" d=\"M304.162,-249.736C261.037,-214.063 186.232,-152.186 145.929,-118.848\"/>\n",
       "<polygon fill=\"black\" stroke=\"black\" points=\"148.049,-116.059 138.113,-112.382 143.587,-121.453 148.049,-116.059\"/>\n",
       "<text text-anchor=\"middle\" x=\"219.32\" y=\"-207.8\" font-family=\"Times,serif\" font-size=\"14.00\">1</text>\n",
       "</g>\n",
       "<!-- \\(F_S01\\)&#45;&gt;\\(F_S010\\) -->\n",
       "<g id=\"edge8\" class=\"edge\"><title>\\(F_S01\\)&#45;&gt;\\(F_S010\\)</title>\n",
       "<path fill=\"none\" stroke=\"black\" d=\"M380.767,-284.594C391.602,-286.569 403.451,-288.73 414.889,-290.816\"/>\n",
       "<polygon fill=\"black\" stroke=\"black\" points=\"414.334,-294.272 424.799,-292.623 415.589,-287.386 414.334,-294.272\"/>\n",
       "<text text-anchor=\"middle\" x=\"402.721\" y=\"-291.8\" font-family=\"Times,serif\" font-size=\"14.00\">0</text>\n",
       "</g>\n",
       "<!-- \\(F_S010\\)&#45;&gt;\\(F_S0\\) -->\n",
       "<g id=\"edge21\" class=\"edge\"><title>\\(F_S010\\)&#45;&gt;\\(F_S0\\)</title>\n",
       "<path fill=\"none\" stroke=\"black\" d=\"M509.19,-271.484C525.846,-257.998 545.559,-242.034 562.35,-228.438\"/>\n",
       "<polygon fill=\"black\" stroke=\"black\" points=\"564.763,-230.987 570.332,-221.974 560.357,-225.547 564.763,-230.987\"/>\n",
       "<text text-anchor=\"middle\" x=\"540.761\" y=\"-249.8\" font-family=\"Times,serif\" font-size=\"14.00\">0</text>\n",
       "</g>\n",
       "<!-- \\(I_F0101\\) -->\n",
       "<g id=\"node11\" class=\"node\"><title>\\(I_F0101\\)</title>\n",
       "<ellipse fill=\"none\" stroke=\"black\" cx=\"732.583\" cy=\"-305\" rx=\"45.9398\" ry=\"45.9398\"/>\n",
       "<ellipse fill=\"none\" stroke=\"black\" cx=\"732.583\" cy=\"-305\" rx=\"49.9373\" ry=\"49.9373\"/>\n",
       "<text text-anchor=\"middle\" x=\"732.583\" y=\"-300.8\" font-family=\"Times,serif\" font-size=\"14.00\">(I_F0101)</text>\n",
       "</g>\n",
       "<!-- \\(F_S010\\)&#45;&gt;\\(I_F0101\\) -->\n",
       "<g id=\"edge10\" class=\"edge\"><title>\\(F_S010\\)&#45;&gt;\\(I_F0101\\)</title>\n",
       "<path fill=\"none\" stroke=\"black\" d=\"M519.316,-301.72C562.076,-302.381 625.652,-303.363 672.077,-304.08\"/>\n",
       "<polygon fill=\"black\" stroke=\"black\" points=\"672.247,-307.583 682.3,-304.238 672.355,-300.584 672.247,-307.583\"/>\n",
       "<text text-anchor=\"middle\" x=\"600.938\" y=\"-306.8\" font-family=\"Times,serif\" font-size=\"14.00\">1</text>\n",
       "</g>\n",
       "<!-- \\(I_F0101\\)&#45;&gt;\\(I_S010\\) -->\n",
       "<g id=\"edge9\" class=\"edge\"><title>\\(I_F0101\\)&#45;&gt;\\(I_S010\\)</title>\n",
       "<path fill=\"none\" stroke=\"black\" d=\"M782.927,-305C793.413,-305 804.505,-305 815.053,-305\"/>\n",
       "<polygon fill=\"black\" stroke=\"black\" points=\"815.377,-308.5 825.377,-305 815.377,-301.5 815.377,-308.5\"/>\n",
       "<text text-anchor=\"middle\" x=\"804.052\" y=\"-307.8\" font-family=\"Times,serif\" font-size=\"14.00\">0</text>\n",
       "</g>\n",
       "<!-- \\(I_F0101\\)&#45;&gt;\\(F_I\\) -->\n",
       "<g id=\"edge13\" class=\"edge\"><title>\\(I_F0101\\)&#45;&gt;\\(F_I\\)</title>\n",
       "<path fill=\"none\" stroke=\"black\" d=\"M772.513,-274.733C784.603,-264.215 797.405,-251.82 807.552,-239 824.27,-217.877 838.744,-191.306 849.118,-169.806\"/>\n",
       "<polygon fill=\"black\" stroke=\"black\" points=\"852.346,-171.166 853.448,-160.629 846.015,-168.179 852.346,-171.166\"/>\n",
       "<text text-anchor=\"middle\" x=\"804.052\" y=\"-250.8\" font-family=\"Times,serif\" font-size=\"14.00\">1</text>\n",
       "</g>\n",
       "</g>\n",
       "</svg>\n"
      ],
      "text/plain": [
       "<graphviz.dot.Digraph at 0x1065a6d68>"
      ]
     },
     "execution_count": 53,
     "metadata": {},
     "output_type": "execute_result"
    }
   ],
   "source": [
    "dotObj_dfa(odd1sORends0101)"
   ]
  },
  {
   "cell_type": "markdown",
   "metadata": {
    "run_control": {
     "frozen": false,
     "read_only": false
    }
   },
   "source": [
    "## Apply DFA minimization"
   ]
  },
  {
   "cell_type": "code",
   "execution_count": 54,
   "metadata": {
    "run_control": {
     "frozen": false,
     "read_only": false
    }
   },
   "outputs": [],
   "source": [
    "Minodd1sORends0101 = min_dfa(odd1sORends0101)"
   ]
  },
  {
   "cell_type": "code",
   "execution_count": 55,
   "metadata": {
    "run_control": {
     "frozen": false,
     "read_only": false
    }
   },
   "outputs": [
    {
     "data": {
      "image/svg+xml": [
       "<?xml version=\"1.0\" encoding=\"UTF-8\" standalone=\"no\"?>\n",
       "<!DOCTYPE svg PUBLIC \"-//W3C//DTD SVG 1.1//EN\"\n",
       " \"http://www.w3.org/Graphics/SVG/1.1/DTD/svg11.dtd\">\n",
       "<!-- Generated by graphviz version 2.38.0 (20140413.2041)\n",
       " -->\n",
       "<!-- Title: %3 Pages: 1 -->\n",
       "<svg width=\"812pt\" height=\"224pt\"\n",
       " viewBox=\"0.00 0.00 812.19 223.97\" xmlns=\"http://www.w3.org/2000/svg\" xmlns:xlink=\"http://www.w3.org/1999/xlink\">\n",
       "<g id=\"graph0\" class=\"graph\" transform=\"scale(1 1) rotate(0) translate(4 219.969)\">\n",
       "<title>%3</title>\n",
       "<polygon fill=\"white\" stroke=\"none\" points=\"-4,4 -4,-219.969 808.186,-219.969 808.186,4 -4,4\"/>\n",
       "<!-- EMPTY -->\n",
       "<g id=\"node1\" class=\"node\"><title>EMPTY</title>\n",
       "</g>\n",
       "<!-- \\(I_S01\\) -->\n",
       "<g id=\"node3\" class=\"node\"><title>\\(I_S01\\)</title>\n",
       "<ellipse fill=\"none\" stroke=\"black\" cx=\"128.125\" cy=\"-61\" rx=\"37.2507\" ry=\"37.2507\"/>\n",
       "<text text-anchor=\"middle\" x=\"128.125\" y=\"-56.8\" font-family=\"Times,serif\" font-size=\"14.00\">(I_S01)</text>\n",
       "</g>\n",
       "<!-- EMPTY&#45;&gt;\\(I_S01\\) -->\n",
       "<g id=\"edge1\" class=\"edge\"><title>EMPTY&#45;&gt;\\(I_S01\\)</title>\n",
       "<path fill=\"none\" stroke=\"black\" d=\"M54.044,-61C62.2126,-61 71.4908,-61 80.6295,-61\"/>\n",
       "<polygon fill=\"black\" stroke=\"black\" points=\"80.8214,-64.5001 90.8214,-61 80.8213,-57.5001 80.8214,-64.5001\"/>\n",
       "</g>\n",
       "<!-- \\(I_S0\\) -->\n",
       "<g id=\"node2\" class=\"node\"><title>\\(I_S0\\)</title>\n",
       "<ellipse fill=\"none\" stroke=\"black\" cx=\"240.954\" cy=\"-149\" rx=\"32.9081\" ry=\"32.9081\"/>\n",
       "<text text-anchor=\"middle\" x=\"240.954\" y=\"-144.8\" font-family=\"Times,serif\" font-size=\"14.00\">(I_S0)</text>\n",
       "</g>\n",
       "<!-- \\(I_S0\\)&#45;&gt;\\(I_S0\\) -->\n",
       "<g id=\"edge6\" class=\"edge\"><title>\\(I_S0\\)&#45;&gt;\\(I_S0\\)</title>\n",
       "<path fill=\"none\" stroke=\"black\" d=\"M230.831,-180.193C230.724,-190.987 234.098,-199.703 240.954,-199.703 245.453,-199.703 248.452,-195.949 249.953,-190.318\"/>\n",
       "<polygon fill=\"black\" stroke=\"black\" points=\"253.452,-190.518 251.076,-180.193 246.495,-189.746 253.452,-190.518\"/>\n",
       "<text text-anchor=\"middle\" x=\"240.954\" y=\"-202.503\" font-family=\"Times,serif\" font-size=\"14.00\">0</text>\n",
       "</g>\n",
       "<!-- \\(F_S01\\) -->\n",
       "<g id=\"node4\" class=\"node\"><title>\\(F_S01\\)</title>\n",
       "<ellipse fill=\"none\" stroke=\"black\" cx=\"359.756\" cy=\"-114\" rx=\"39.1881\" ry=\"39.1881\"/>\n",
       "<ellipse fill=\"none\" stroke=\"black\" cx=\"359.756\" cy=\"-114\" rx=\"43.1973\" ry=\"43.1973\"/>\n",
       "<text text-anchor=\"middle\" x=\"359.756\" y=\"-109.8\" font-family=\"Times,serif\" font-size=\"14.00\">(F_S01)</text>\n",
       "</g>\n",
       "<!-- \\(I_S0\\)&#45;&gt;\\(F_S01\\) -->\n",
       "<g id=\"edge2\" class=\"edge\"><title>\\(I_S0\\)&#45;&gt;\\(F_S01\\)</title>\n",
       "<path fill=\"none\" stroke=\"black\" d=\"M272.642,-139.804C283.629,-136.512 296.319,-132.709 308.523,-129.052\"/>\n",
       "<polygon fill=\"black\" stroke=\"black\" points=\"309.591,-132.386 318.165,-126.163 307.581,-125.681 309.591,-132.386\"/>\n",
       "<text text-anchor=\"middle\" x=\"295.157\" y=\"-136.8\" font-family=\"Times,serif\" font-size=\"14.00\">1</text>\n",
       "</g>\n",
       "<!-- \\(I_S01\\)&#45;&gt;\\(I_S0\\) -->\n",
       "<g id=\"edge5\" class=\"edge\"><title>\\(I_S01\\)&#45;&gt;\\(I_S0\\)</title>\n",
       "<path fill=\"none\" stroke=\"black\" d=\"M157.666,-83.6622C172.74,-95.6312 191.315,-110.38 207,-122.834\"/>\n",
       "<polygon fill=\"black\" stroke=\"black\" points=\"204.897,-125.633 214.905,-129.11 209.249,-120.151 204.897,-125.633\"/>\n",
       "<text text-anchor=\"middle\" x=\"186.75\" y=\"-113.8\" font-family=\"Times,serif\" font-size=\"14.00\">0</text>\n",
       "</g>\n",
       "<!-- \\(F_S0\\) -->\n",
       "<g id=\"node6\" class=\"node\"><title>\\(F_S0\\)</title>\n",
       "<ellipse fill=\"none\" stroke=\"black\" cx=\"765.509\" cy=\"-61\" rx=\"34.836\" ry=\"34.836\"/>\n",
       "<ellipse fill=\"none\" stroke=\"black\" cx=\"765.509\" cy=\"-61\" rx=\"38.8544\" ry=\"38.8544\"/>\n",
       "<text text-anchor=\"middle\" x=\"765.509\" y=\"-56.8\" font-family=\"Times,serif\" font-size=\"14.00\">(F_S0)</text>\n",
       "</g>\n",
       "<!-- \\(I_S01\\)&#45;&gt;\\(F_S0\\) -->\n",
       "<g id=\"edge12\" class=\"edge\"><title>\\(I_S01\\)&#45;&gt;\\(F_S0\\)</title>\n",
       "<path fill=\"none\" stroke=\"black\" d=\"M163.685,-50.0389C185.359,-44.115 214.014,-38 239.954,-38 239.954,-38 239.954,-38 634.863,-38 662.79,-38 693.588,-43.238 718.156,-48.7146\"/>\n",
       "<polygon fill=\"black\" stroke=\"black\" points=\"717.401,-52.1322 727.933,-50.9788 718.98,-45.3127 717.401,-52.1322\"/>\n",
       "<text text-anchor=\"middle\" x=\"424.354\" y=\"-40.8\" font-family=\"Times,serif\" font-size=\"14.00\">1</text>\n",
       "</g>\n",
       "<!-- \\(F_S01\\)&#45;&gt;\\(I_S01\\) -->\n",
       "<g id=\"edge4\" class=\"edge\"><title>\\(F_S01\\)&#45;&gt;\\(I_S01\\)</title>\n",
       "<path fill=\"none\" stroke=\"black\" d=\"M317.684,-103.653C303.728,-100.194 288.03,-96.3639 273.657,-93 240.561,-85.2538 203.085,-76.9704 174.589,-70.7724\"/>\n",
       "<polygon fill=\"black\" stroke=\"black\" points=\"175.036,-67.288 164.521,-68.5881 173.551,-74.1289 175.036,-67.288\"/>\n",
       "<text text-anchor=\"middle\" x=\"240.954\" y=\"-95.8\" font-family=\"Times,serif\" font-size=\"14.00\">1</text>\n",
       "</g>\n",
       "<!-- \\(F_S010\\) -->\n",
       "<g id=\"node5\" class=\"node\"><title>\\(F_S010\\)</title>\n",
       "<ellipse fill=\"none\" stroke=\"black\" cx=\"493.375\" cy=\"-114\" rx=\"43.5388\" ry=\"43.5388\"/>\n",
       "<ellipse fill=\"none\" stroke=\"black\" cx=\"493.375\" cy=\"-114\" rx=\"47.5405\" ry=\"47.5405\"/>\n",
       "<text text-anchor=\"middle\" x=\"493.375\" y=\"-109.8\" font-family=\"Times,serif\" font-size=\"14.00\">(F_S010)</text>\n",
       "</g>\n",
       "<!-- \\(F_S01\\)&#45;&gt;\\(F_S010\\) -->\n",
       "<g id=\"edge7\" class=\"edge\"><title>\\(F_S01\\)&#45;&gt;\\(F_S010\\)</title>\n",
       "<path fill=\"none\" stroke=\"black\" d=\"M403.125,-114C413.376,-114 424.5,-114 435.303,-114\"/>\n",
       "<polygon fill=\"black\" stroke=\"black\" points=\"435.525,-117.5 445.525,-114 435.525,-110.5 435.525,-117.5\"/>\n",
       "<text text-anchor=\"middle\" x=\"424.354\" y=\"-116.8\" font-family=\"Times,serif\" font-size=\"14.00\">0</text>\n",
       "</g>\n",
       "<!-- \\(F_S010\\)&#45;&gt;\\(F_S0\\) -->\n",
       "<g id=\"edge13\" class=\"edge\"><title>\\(F_S010\\)&#45;&gt;\\(F_S0\\)</title>\n",
       "<path fill=\"none\" stroke=\"black\" d=\"M539.809,-102.831C553.902,-99.5037 569.509,-95.9593 583.895,-93 628.943,-83.733 680.646,-74.7375 717.158,-68.6565\"/>\n",
       "<polygon fill=\"black\" stroke=\"black\" points=\"717.742,-72.1076 727.036,-67.0208 716.598,-65.2017 717.742,-72.1076\"/>\n",
       "<text text-anchor=\"middle\" x=\"633.863\" y=\"-95.8\" font-family=\"Times,serif\" font-size=\"14.00\">0</text>\n",
       "</g>\n",
       "<!-- \\(I_F0101\\) -->\n",
       "<g id=\"node7\" class=\"node\"><title>\\(I_F0101\\)</title>\n",
       "<ellipse fill=\"none\" stroke=\"black\" cx=\"633.863\" cy=\"-166\" rx=\"45.9398\" ry=\"45.9398\"/>\n",
       "<ellipse fill=\"none\" stroke=\"black\" cx=\"633.863\" cy=\"-166\" rx=\"49.9373\" ry=\"49.9373\"/>\n",
       "<text text-anchor=\"middle\" x=\"633.863\" y=\"-161.8\" font-family=\"Times,serif\" font-size=\"14.00\">(I_F0101)</text>\n",
       "</g>\n",
       "<!-- \\(F_S010\\)&#45;&gt;\\(I_F0101\\) -->\n",
       "<g id=\"edge9\" class=\"edge\"><title>\\(F_S010\\)&#45;&gt;\\(I_F0101\\)</title>\n",
       "<path fill=\"none\" stroke=\"black\" d=\"M538.193,-130.453C550.692,-135.146 564.473,-140.321 577.561,-145.235\"/>\n",
       "<polygon fill=\"black\" stroke=\"black\" points=\"576.349,-148.518 586.941,-148.757 578.81,-141.965 576.349,-148.518\"/>\n",
       "<text text-anchor=\"middle\" x=\"562.395\" y=\"-142.8\" font-family=\"Times,serif\" font-size=\"14.00\">1</text>\n",
       "</g>\n",
       "<!-- \\(F_S0\\)&#45;&gt;\\(I_S01\\) -->\n",
       "<g id=\"edge10\" class=\"edge\"><title>\\(F_S0\\)&#45;&gt;\\(I_S01\\)</title>\n",
       "<path fill=\"none\" stroke=\"black\" d=\"M734.412,-37.5903C709.257,-20.3879 671.678,-0 634.863,-0 239.954,-0 239.954,-0 239.954,-0 212.157,-0 184.756,-14.9094 164.154,-29.9862\"/>\n",
       "<polygon fill=\"black\" stroke=\"black\" points=\"161.86,-27.3343 156.043,-36.189 166.112,-32.8949 161.86,-27.3343\"/>\n",
       "<text text-anchor=\"middle\" x=\"424.354\" y=\"-2.8\" font-family=\"Times,serif\" font-size=\"14.00\">1</text>\n",
       "</g>\n",
       "<!-- \\(F_S0\\)&#45;&gt;\\(F_S0\\) -->\n",
       "<g id=\"edge3\" class=\"edge\"><title>\\(F_S0\\)&#45;&gt;\\(F_S0\\)</title>\n",
       "<path fill=\"none\" stroke=\"black\" d=\"M754.284,-98.0672C754.619,-109.095 758.36,-117.677 765.509,-117.677 770.2,-117.677 773.424,-113.981 775.181,-108.324\"/>\n",
       "<polygon fill=\"black\" stroke=\"black\" points=\"778.697,-108.479 776.734,-98.0672 771.776,-107.43 778.697,-108.479\"/>\n",
       "<text text-anchor=\"middle\" x=\"765.509\" y=\"-120.477\" font-family=\"Times,serif\" font-size=\"14.00\">0</text>\n",
       "</g>\n",
       "<!-- \\(I_F0101\\)&#45;&gt;\\(I_S0\\) -->\n",
       "<g id=\"edge8\" class=\"edge\"><title>\\(I_F0101\\)&#45;&gt;\\(I_S0\\)</title>\n",
       "<path fill=\"none\" stroke=\"black\" d=\"M583.851,-169.955C521.473,-174.083 410.54,-178.39 316.657,-166 305.451,-164.521 293.452,-162.15 282.422,-159.643\"/>\n",
       "<polygon fill=\"black\" stroke=\"black\" points=\"283.153,-156.22 272.615,-157.324 281.541,-163.032 283.153,-156.22\"/>\n",
       "<text text-anchor=\"middle\" x=\"424.354\" y=\"-175.8\" font-family=\"Times,serif\" font-size=\"14.00\">0</text>\n",
       "</g>\n",
       "<!-- \\(I_F0101\\)&#45;&gt;\\(F_S0\\) -->\n",
       "<g id=\"edge11\" class=\"edge\"><title>\\(I_F0101\\)&#45;&gt;\\(F_S0\\)</title>\n",
       "<path fill=\"none\" stroke=\"black\" d=\"M673.41,-134.781C690.344,-121.066 710.158,-105.019 726.975,-91.3989\"/>\n",
       "<polygon fill=\"black\" stroke=\"black\" points=\"729.395,-93.9424 734.964,-84.9287 724.99,-88.5027 729.395,-93.9424\"/>\n",
       "<text text-anchor=\"middle\" x=\"705.332\" y=\"-113.8\" font-family=\"Times,serif\" font-size=\"14.00\">1</text>\n",
       "</g>\n",
       "</g>\n",
       "</svg>\n"
      ],
      "text/plain": [
       "<graphviz.dot.Digraph at 0x1065a6e10>"
      ]
     },
     "execution_count": 55,
     "metadata": {},
     "output_type": "execute_result"
    }
   ],
   "source": [
    "dotObj_dfa(Minodd1sORends0101)"
   ]
  },
  {
   "cell_type": "markdown",
   "metadata": {
    "run_control": {
     "frozen": false,
     "read_only": false
    }
   },
   "source": [
    "## Minimization vs. Isomorphism vs. Lang. Eql.\n",
    "\n",
    "After minimization, we may not have isomorphic DFA, but we \n",
    "will have language-equivalent DFA"
   ]
  },
  {
   "cell_type": "code",
   "execution_count": 56,
   "metadata": {
    "run_control": {
     "frozen": false,
     "read_only": false
    }
   },
   "outputs": [
    {
     "data": {
      "text/plain": [
       "False"
      ]
     },
     "execution_count": 56,
     "metadata": {},
     "output_type": "execute_result"
    }
   ],
   "source": [
    "iso_dfa(odd1sORends0101, Minodd1sORends0101)"
   ]
  },
  {
   "cell_type": "code",
   "execution_count": 57,
   "metadata": {
    "run_control": {
     "frozen": false,
     "read_only": false
    }
   },
   "outputs": [
    {
     "data": {
      "text/plain": [
       "True"
      ]
     },
     "execution_count": 57,
     "metadata": {},
     "output_type": "execute_result"
    }
   ],
   "source": [
    "langeq_dfa(odd1sORends0101, Minodd1sORends0101)"
   ]
  },
  {
   "cell_type": "markdown",
   "metadata": {
    "run_control": {
     "frozen": false,
     "read_only": false
    }
   },
   "source": [
    "## Now define \"odd 1s\" AND \"ends in 0101\"\n",
    "\n",
    "Define the and of these machines and minimize it"
   ]
  },
  {
   "cell_type": "code",
   "execution_count": 58,
   "metadata": {
    "run_control": {
     "frozen": false,
     "read_only": false
    }
   },
   "outputs": [],
   "source": [
    "odd1sANDends0101 = intersect_dfa(dfaOdd1s,ends0101)"
   ]
  },
  {
   "cell_type": "code",
   "execution_count": 59,
   "metadata": {
    "run_control": {
     "frozen": false,
     "read_only": false
    }
   },
   "outputs": [
    {
     "data": {
      "image/svg+xml": [
       "<?xml version=\"1.0\" encoding=\"UTF-8\" standalone=\"no\"?>\n",
       "<!DOCTYPE svg PUBLIC \"-//W3C//DTD SVG 1.1//EN\"\n",
       " \"http://www.w3.org/Graphics/SVG/1.1/DTD/svg11.dtd\">\n",
       "<!-- Generated by graphviz version 2.38.0 (20140413.2041)\n",
       " -->\n",
       "<!-- Title: %3 Pages: 1 -->\n",
       "<svg width=\"1140pt\" height=\"412pt\"\n",
       " viewBox=\"0.00 0.00 1139.94 412.00\" xmlns=\"http://www.w3.org/2000/svg\" xmlns:xlink=\"http://www.w3.org/1999/xlink\">\n",
       "<g id=\"graph0\" class=\"graph\" transform=\"scale(1 1) rotate(0) translate(4 408)\">\n",
       "<title>%3</title>\n",
       "<polygon fill=\"white\" stroke=\"none\" points=\"-4,4 -4,-408 1135.94,-408 1135.94,4 -4,4\"/>\n",
       "<!-- EMPTY -->\n",
       "<g id=\"node1\" class=\"node\"><title>EMPTY</title>\n",
       "</g>\n",
       "<!-- \\(I_I\\) -->\n",
       "<g id=\"node3\" class=\"node\"><title>\\(I_I\\)</title>\n",
       "<ellipse fill=\"none\" stroke=\"black\" cx=\"117.308\" cy=\"-82\" rx=\"26.118\" ry=\"26.118\"/>\n",
       "<text text-anchor=\"middle\" x=\"117.308\" y=\"-77.8\" font-family=\"Times,serif\" font-size=\"14.00\">(I_I)</text>\n",
       "</g>\n",
       "<!-- EMPTY&#45;&gt;\\(I_I\\) -->\n",
       "<g id=\"edge1\" class=\"edge\"><title>EMPTY&#45;&gt;\\(I_I\\)</title>\n",
       "<path fill=\"none\" stroke=\"black\" d=\"M54.0178,-82C62.3552,-82 71.7368,-82 80.64,-82\"/>\n",
       "<polygon fill=\"black\" stroke=\"black\" points=\"80.7808,-85.5001 90.7807,-82 80.7807,-78.5001 80.7808,-85.5001\"/>\n",
       "</g>\n",
       "<!-- \\(F_S0\\) -->\n",
       "<g id=\"node2\" class=\"node\"><title>\\(F_S0\\)</title>\n",
       "<ellipse fill=\"none\" stroke=\"black\" cx=\"320.857\" cy=\"-193\" rx=\"34.8545\" ry=\"34.8545\"/>\n",
       "<text text-anchor=\"middle\" x=\"320.857\" y=\"-188.8\" font-family=\"Times,serif\" font-size=\"14.00\">(F_S0)</text>\n",
       "</g>\n",
       "<!-- \\(F_S0\\)&#45;&gt;\\(F_S0\\) -->\n",
       "<g id=\"edge20\" class=\"edge\"><title>\\(F_S0\\)&#45;&gt;\\(F_S0\\)</title>\n",
       "<path fill=\"none\" stroke=\"black\" d=\"M310.357,-226.18C310.412,-237.034 313.912,-245.677 320.857,-245.677 325.415,-245.677 328.489,-241.955 330.079,-236.328\"/>\n",
       "<polygon fill=\"black\" stroke=\"black\" points=\"333.58,-236.539 331.356,-226.18 326.635,-235.664 333.58,-236.539\"/>\n",
       "<text text-anchor=\"middle\" x=\"320.857\" y=\"-248.477\" font-family=\"Times,serif\" font-size=\"14.00\">0</text>\n",
       "</g>\n",
       "<!-- \\(I_S01\\) -->\n",
       "<g id=\"node6\" class=\"node\"><title>\\(I_S01\\)</title>\n",
       "<ellipse fill=\"none\" stroke=\"black\" cx=\"435.659\" cy=\"-192\" rx=\"37.2507\" ry=\"37.2507\"/>\n",
       "<text text-anchor=\"middle\" x=\"435.659\" y=\"-187.8\" font-family=\"Times,serif\" font-size=\"14.00\">(I_S01)</text>\n",
       "</g>\n",
       "<!-- \\(F_S0\\)&#45;&gt;\\(I_S01\\) -->\n",
       "<g id=\"edge12\" class=\"edge\"><title>\\(F_S0\\)&#45;&gt;\\(I_S01\\)</title>\n",
       "<path fill=\"none\" stroke=\"black\" d=\"M355.701,-192.7C365.93,-192.609 377.345,-192.508 388.245,-192.411\"/>\n",
       "<polygon fill=\"black\" stroke=\"black\" points=\"388.514,-195.909 398.483,-192.321 388.452,-188.91 388.514,-195.909\"/>\n",
       "<text text-anchor=\"middle\" x=\"377.034\" y=\"-195.8\" font-family=\"Times,serif\" font-size=\"14.00\">1</text>\n",
       "</g>\n",
       "<!-- \\(F_I\\) -->\n",
       "<g id=\"node4\" class=\"node\"><title>\\(F_I\\)</title>\n",
       "<ellipse fill=\"none\" stroke=\"black\" cx=\"214.898\" cy=\"-119\" rx=\"28.0651\" ry=\"28.0651\"/>\n",
       "<text text-anchor=\"middle\" x=\"214.898\" y=\"-114.8\" font-family=\"Times,serif\" font-size=\"14.00\">(F_I)</text>\n",
       "</g>\n",
       "<!-- \\(I_I\\)&#45;&gt;\\(F_I\\) -->\n",
       "<g id=\"edge18\" class=\"edge\"><title>\\(I_I\\)&#45;&gt;\\(F_I\\)</title>\n",
       "<path fill=\"none\" stroke=\"black\" d=\"M143.444,-78.6997C151.67,-78.4796 160.719,-79.1837 168.617,-82 175.17,-84.3369 181.459,-88.0741 187.157,-92.2945\"/>\n",
       "<polygon fill=\"black\" stroke=\"black\" points=\"185.079,-95.1157 195.043,-98.7167 189.499,-89.688 185.079,-95.1157\"/>\n",
       "<text text-anchor=\"middle\" x=\"165.117\" y=\"-84.8\" font-family=\"Times,serif\" font-size=\"14.00\">1</text>\n",
       "</g>\n",
       "<!-- \\(I_S0\\) -->\n",
       "<g id=\"node7\" class=\"node\"><title>\\(I_S0\\)</title>\n",
       "<ellipse fill=\"none\" stroke=\"black\" cx=\"693.82\" cy=\"-99\" rx=\"32.9081\" ry=\"32.9081\"/>\n",
       "<text text-anchor=\"middle\" x=\"693.82\" y=\"-94.8\" font-family=\"Times,serif\" font-size=\"14.00\">(I_S0)</text>\n",
       "</g>\n",
       "<!-- \\(I_I\\)&#45;&gt;\\(I_S0\\) -->\n",
       "<g id=\"edge5\" class=\"edge\"><title>\\(I_I\\)&#45;&gt;\\(I_S0\\)</title>\n",
       "<path fill=\"none\" stroke=\"black\" d=\"M139.65,-67.3326C158.358,-55.9166 186.734,-42 213.898,-42 213.898,-42 213.898,-42 558.331,-42 588.12,-42 596.259,-44.8387 623.878,-56 635.73,-60.7898 647.831,-67.5771 658.519,-74.3474\"/>\n",
       "<polygon fill=\"black\" stroke=\"black\" points=\"656.844,-77.4348 667.128,-79.9863 660.68,-71.5791 656.844,-77.4348\"/>\n",
       "<text text-anchor=\"middle\" x=\"377.034\" y=\"-44.8\" font-family=\"Times,serif\" font-size=\"14.00\">0</text>\n",
       "</g>\n",
       "<!-- \\(F_I\\)&#45;&gt;\\(F_S0\\) -->\n",
       "<g id=\"edge3\" class=\"edge\"><title>\\(F_I\\)&#45;&gt;\\(F_S0\\)</title>\n",
       "<path fill=\"none\" stroke=\"black\" d=\"M238.456,-135.057C251.758,-144.526 268.893,-156.723 284.008,-167.482\"/>\n",
       "<polygon fill=\"black\" stroke=\"black\" points=\"281.983,-170.337 292.16,-173.285 286.043,-164.634 281.983,-170.337\"/>\n",
       "<text text-anchor=\"middle\" x=\"264.68\" y=\"-158.8\" font-family=\"Times,serif\" font-size=\"14.00\">0</text>\n",
       "</g>\n",
       "<!-- \\(F_I\\)&#45;&gt;\\(I_I\\) -->\n",
       "<g id=\"edge14\" class=\"edge\"><title>\\(F_I\\)&#45;&gt;\\(I_I\\)</title>\n",
       "<path fill=\"none\" stroke=\"black\" d=\"M188.109,-109.018C177.007,-104.72 163.878,-99.6387 152.02,-95.0487\"/>\n",
       "<polygon fill=\"black\" stroke=\"black\" points=\"153.019,-91.6824 142.43,-91.3367 150.492,-98.2105 153.019,-91.6824\"/>\n",
       "<text text-anchor=\"middle\" x=\"165.117\" y=\"-103.8\" font-family=\"Times,serif\" font-size=\"14.00\">1</text>\n",
       "</g>\n",
       "<!-- \\(I_S010\\) -->\n",
       "<g id=\"node5\" class=\"node\"><title>\\(I_S010\\)</title>\n",
       "<ellipse fill=\"none\" stroke=\"black\" cx=\"557.331\" cy=\"-192\" rx=\"41.5938\" ry=\"41.5938\"/>\n",
       "<text text-anchor=\"middle\" x=\"557.331\" y=\"-187.8\" font-family=\"Times,serif\" font-size=\"14.00\">(I_S010)</text>\n",
       "</g>\n",
       "<!-- \\(I_S010\\)&#45;&gt;\\(I_S0\\) -->\n",
       "<g id=\"edge7\" class=\"edge\"><title>\\(I_S010\\)&#45;&gt;\\(I_S0\\)</title>\n",
       "<path fill=\"none\" stroke=\"black\" d=\"M591.921,-168.772C612.072,-154.838 637.655,-137.147 658.018,-123.066\"/>\n",
       "<polygon fill=\"black\" stroke=\"black\" points=\"660.16,-125.84 666.395,-117.273 656.179,-120.082 660.16,-125.84\"/>\n",
       "<text text-anchor=\"middle\" x=\"620.378\" y=\"-154.8\" font-family=\"Times,serif\" font-size=\"14.00\">0</text>\n",
       "</g>\n",
       "<!-- \\(F_F0101\\) -->\n",
       "<g id=\"node11\" class=\"node\"><title>\\(F_F0101\\)</title>\n",
       "<ellipse fill=\"none\" stroke=\"black\" cx=\"693.82\" cy=\"-272\" rx=\"47.8885\" ry=\"47.8885\"/>\n",
       "<ellipse fill=\"none\" stroke=\"black\" cx=\"693.82\" cy=\"-272\" rx=\"51.8841\" ry=\"51.8841\"/>\n",
       "<text text-anchor=\"middle\" x=\"693.82\" y=\"-267.8\" font-family=\"Times,serif\" font-size=\"14.00\">(F_F0101)</text>\n",
       "</g>\n",
       "<!-- \\(I_S010\\)&#45;&gt;\\(F_F0101\\) -->\n",
       "<g id=\"edge15\" class=\"edge\"><title>\\(I_S010\\)&#45;&gt;\\(F_F0101\\)</title>\n",
       "<path fill=\"none\" stroke=\"black\" d=\"M593.315,-212.81C607.631,-221.326 624.503,-231.362 640.247,-240.727\"/>\n",
       "<polygon fill=\"black\" stroke=\"black\" points=\"638.471,-243.743 648.854,-245.847 642.049,-237.727 638.471,-243.743\"/>\n",
       "<text text-anchor=\"middle\" x=\"620.378\" y=\"-232.8\" font-family=\"Times,serif\" font-size=\"14.00\">1</text>\n",
       "</g>\n",
       "<!-- \\(I_S01\\)&#45;&gt;\\(F_I\\) -->\n",
       "<g id=\"edge19\" class=\"edge\"><title>\\(I_S01\\)&#45;&gt;\\(F_I\\)</title>\n",
       "<path fill=\"none\" stroke=\"black\" d=\"M407.793,-167.332C393.361,-155.531 374.639,-142.392 355.534,-135 322.598,-122.257 282.274,-118.808 253.441,-118.218\"/>\n",
       "<polygon fill=\"black\" stroke=\"black\" points=\"253.408,-114.718 243.374,-118.118 253.338,-121.717 253.408,-114.718\"/>\n",
       "<text text-anchor=\"middle\" x=\"320.857\" y=\"-137.8\" font-family=\"Times,serif\" font-size=\"14.00\">1</text>\n",
       "</g>\n",
       "<!-- \\(I_S01\\)&#45;&gt;\\(I_S010\\) -->\n",
       "<g id=\"edge16\" class=\"edge\"><title>\\(I_S01\\)&#45;&gt;\\(I_S010\\)</title>\n",
       "<path fill=\"none\" stroke=\"black\" d=\"M472.889,-192C483.107,-192 494.419,-192 505.33,-192\"/>\n",
       "<polygon fill=\"black\" stroke=\"black\" points=\"505.62,-195.5 515.62,-192 505.62,-188.5 505.62,-195.5\"/>\n",
       "<text text-anchor=\"middle\" x=\"494.284\" y=\"-194.8\" font-family=\"Times,serif\" font-size=\"14.00\">0</text>\n",
       "</g>\n",
       "<!-- \\(I_S0\\)&#45;&gt;\\(I_S0\\) -->\n",
       "<g id=\"edge17\" class=\"edge\"><title>\\(I_S0\\)&#45;&gt;\\(I_S0\\)</title>\n",
       "<path fill=\"none\" stroke=\"black\" d=\"M680.36,-128.939C679.841,-140.303 684.328,-149.703 693.82,-149.703 700.197,-149.703 704.315,-145.46 706.174,-139.229\"/>\n",
       "<polygon fill=\"black\" stroke=\"black\" points=\"709.691,-139.255 707.279,-128.939 702.731,-138.507 709.691,-139.255\"/>\n",
       "<text text-anchor=\"middle\" x=\"693.82\" y=\"-152.503\" font-family=\"Times,serif\" font-size=\"14.00\">0</text>\n",
       "</g>\n",
       "<!-- \\(F_S01\\) -->\n",
       "<g id=\"node8\" class=\"node\"><title>\\(F_S01\\)</title>\n",
       "<ellipse fill=\"none\" stroke=\"black\" cx=\"827.86\" cy=\"-105\" rx=\"39.1973\" ry=\"39.1973\"/>\n",
       "<text text-anchor=\"middle\" x=\"827.86\" y=\"-100.8\" font-family=\"Times,serif\" font-size=\"14.00\">(F_S01)</text>\n",
       "</g>\n",
       "<!-- \\(I_S0\\)&#45;&gt;\\(F_S01\\) -->\n",
       "<g id=\"edge2\" class=\"edge\"><title>\\(I_S0\\)&#45;&gt;\\(F_S01\\)</title>\n",
       "<path fill=\"none\" stroke=\"black\" d=\"M726.783,-100.452C742.205,-101.153 761.042,-102.009 778.196,-102.789\"/>\n",
       "<polygon fill=\"black\" stroke=\"black\" points=\"778.465,-106.304 788.613,-103.262 778.783,-99.3116 778.465,-106.304\"/>\n",
       "<text text-anchor=\"middle\" x=\"767.262\" y=\"-105.8\" font-family=\"Times,serif\" font-size=\"14.00\">1</text>\n",
       "</g>\n",
       "<!-- \\(F_S01\\)&#45;&gt;\\(I_I\\) -->\n",
       "<g id=\"edge6\" class=\"edge\"><title>\\(F_S01\\)&#45;&gt;\\(I_I\\)</title>\n",
       "<path fill=\"none\" stroke=\"black\" d=\"M805.503,-72.6398C782.291,-41.7883 742.12,-0 694.82,-0 213.898,-0 213.898,-0 213.898,-0 181.183,-0 154.056,-28.0119 137.16,-51.2913\"/>\n",
       "<polygon fill=\"black\" stroke=\"black\" points=\"134.226,-49.3802 131.407,-59.5931 139.98,-53.3674 134.226,-49.3802\"/>\n",
       "<text text-anchor=\"middle\" x=\"435.659\" y=\"-2.8\" font-family=\"Times,serif\" font-size=\"14.00\">1</text>\n",
       "</g>\n",
       "<!-- \\(F_S010\\) -->\n",
       "<g id=\"node9\" class=\"node\"><title>\\(F_S010\\)</title>\n",
       "<ellipse fill=\"none\" stroke=\"black\" cx=\"953.479\" cy=\"-266\" rx=\"43.5405\" ry=\"43.5405\"/>\n",
       "<text text-anchor=\"middle\" x=\"953.479\" y=\"-261.8\" font-family=\"Times,serif\" font-size=\"14.00\">(F_S010)</text>\n",
       "</g>\n",
       "<!-- \\(F_S01\\)&#45;&gt;\\(F_S010\\) -->\n",
       "<g id=\"edge8\" class=\"edge\"><title>\\(F_S01\\)&#45;&gt;\\(F_S010\\)</title>\n",
       "<path fill=\"none\" stroke=\"black\" d=\"M852.403,-135.662C871.594,-160.656 898.9,-196.219 920.142,-223.885\"/>\n",
       "<polygon fill=\"black\" stroke=\"black\" points=\"917.376,-226.029 926.242,-231.829 922.928,-221.766 917.376,-226.029\"/>\n",
       "<text text-anchor=\"middle\" x=\"888.459\" y=\"-188.8\" font-family=\"Times,serif\" font-size=\"14.00\">0</text>\n",
       "</g>\n",
       "<!-- \\(F_S010\\)&#45;&gt;\\(F_S0\\) -->\n",
       "<g id=\"edge21\" class=\"edge\"><title>\\(F_S010\\)&#45;&gt;\\(F_S0\\)</title>\n",
       "<path fill=\"none\" stroke=\"black\" d=\"M925.233,-299.496C902.348,-323.643 867.292,-352 828.86,-352 434.659,-352 434.659,-352 434.659,-352 377.783,-352 346.97,-283.486 332.512,-236.408\"/>\n",
       "<polygon fill=\"black\" stroke=\"black\" points=\"335.844,-235.331 329.671,-226.72 329.126,-237.301 335.844,-235.331\"/>\n",
       "<text text-anchor=\"middle\" x=\"620.378\" y=\"-354.8\" font-family=\"Times,serif\" font-size=\"14.00\">0</text>\n",
       "</g>\n",
       "<!-- \\(I_F0101\\) -->\n",
       "<g id=\"node10\" class=\"node\"><title>\\(I_F0101\\)</title>\n",
       "<ellipse fill=\"none\" stroke=\"black\" cx=\"1085.97\" cy=\"-192\" rx=\"45.9373\" ry=\"45.9373\"/>\n",
       "<text text-anchor=\"middle\" x=\"1085.97\" y=\"-187.8\" font-family=\"Times,serif\" font-size=\"14.00\">(I_F0101)</text>\n",
       "</g>\n",
       "<!-- \\(F_S010\\)&#45;&gt;\\(I_F0101\\) -->\n",
       "<g id=\"edge10\" class=\"edge\"><title>\\(F_S010\\)&#45;&gt;\\(I_F0101\\)</title>\n",
       "<path fill=\"none\" stroke=\"black\" d=\"M991.872,-244.795C1005.72,-236.943 1021.62,-227.923 1036.32,-219.586\"/>\n",
       "<polygon fill=\"black\" stroke=\"black\" points=\"1038.32,-222.477 1045.29,-214.5 1034.87,-216.388 1038.32,-222.477\"/>\n",
       "<text text-anchor=\"middle\" x=\"1018.5\" y=\"-234.8\" font-family=\"Times,serif\" font-size=\"14.00\">1</text>\n",
       "</g>\n",
       "<!-- \\(I_F0101\\)&#45;&gt;\\(F_I\\) -->\n",
       "<g id=\"edge13\" class=\"edge\"><title>\\(I_F0101\\)&#45;&gt;\\(F_I\\)</title>\n",
       "<path fill=\"none\" stroke=\"black\" d=\"M1069.67,-148.693C1050.47,-103.143 1012.83,-38 954.479,-38 766.262,-38 766.262,-38 766.262,-38 644.389,-38 617.157,-80 495.284,-80 319.857,-80 319.857,-80 319.857,-80 294.729,-80 268.236,-90.1121 248.284,-100.038\"/>\n",
       "<polygon fill=\"black\" stroke=\"black\" points=\"246.583,-96.9779 239.328,-104.699 249.815,-103.187 246.583,-96.9779\"/>\n",
       "<text text-anchor=\"middle\" x=\"620.378\" y=\"-65.8\" font-family=\"Times,serif\" font-size=\"14.00\">1</text>\n",
       "</g>\n",
       "<!-- \\(I_F0101\\)&#45;&gt;\\(I_S010\\) -->\n",
       "<g id=\"edge9\" class=\"edge\"><title>\\(I_F0101\\)&#45;&gt;\\(I_S010\\)</title>\n",
       "<path fill=\"none\" stroke=\"black\" d=\"M1039.98,-192C1014.83,-192 982.91,-192 954.479,-192 692.82,-192 692.82,-192 692.82,-192 665.116,-192 634.202,-192 609.005,-192\"/>\n",
       "<polygon fill=\"black\" stroke=\"black\" points=\"608.939,-188.5 598.939,-192 608.939,-195.5 608.939,-188.5\"/>\n",
       "<text text-anchor=\"middle\" x=\"827.86\" y=\"-194.8\" font-family=\"Times,serif\" font-size=\"14.00\">0</text>\n",
       "</g>\n",
       "<!-- \\(F_F0101\\)&#45;&gt;\\(I_I\\) -->\n",
       "<g id=\"edge4\" class=\"edge\"><title>\\(F_F0101\\)&#45;&gt;\\(I_I\\)</title>\n",
       "<path fill=\"none\" stroke=\"black\" d=\"M669.363,-317.917C657.883,-336.412 642.493,-356.515 623.878,-370 599.212,-387.869 588.789,-390 558.331,-390 213.898,-390 213.898,-390 213.898,-390 157.637,-390 130.798,-200.171 121.861,-118.57\"/>\n",
       "<polygon fill=\"black\" stroke=\"black\" points=\"125.302,-117.834 120.764,-108.26 118.341,-118.574 125.302,-117.834\"/>\n",
       "<text text-anchor=\"middle\" x=\"377.034\" y=\"-392.8\" font-family=\"Times,serif\" font-size=\"14.00\">1</text>\n",
       "</g>\n",
       "<!-- \\(F_F0101\\)&#45;&gt;\\(F_S010\\) -->\n",
       "<g id=\"edge11\" class=\"edge\"><title>\\(F_F0101\\)&#45;&gt;\\(F_S010\\)</title>\n",
       "<path fill=\"none\" stroke=\"black\" d=\"M746.033,-270.807C790.556,-269.771 854.796,-268.275 899.757,-267.228\"/>\n",
       "<polygon fill=\"black\" stroke=\"black\" points=\"899.978,-270.724 909.894,-266.992 899.815,-263.726 899.978,-270.724\"/>\n",
       "<text text-anchor=\"middle\" x=\"827.86\" y=\"-271.8\" font-family=\"Times,serif\" font-size=\"14.00\">0</text>\n",
       "</g>\n",
       "</g>\n",
       "</svg>\n"
      ],
      "text/plain": [
       "<graphviz.dot.Digraph at 0x1065a60f0>"
      ]
     },
     "execution_count": 59,
     "metadata": {},
     "output_type": "execute_result"
    }
   ],
   "source": [
    "dotObj_dfa(odd1sANDends0101)"
   ]
  },
  {
   "cell_type": "code",
   "execution_count": 60,
   "metadata": {
    "run_control": {
     "frozen": false,
     "read_only": false
    }
   },
   "outputs": [],
   "source": [
    "Minodd1sANDends0101 = min_dfa(odd1sANDends0101)"
   ]
  },
  {
   "cell_type": "code",
   "execution_count": 61,
   "metadata": {
    "run_control": {
     "frozen": false,
     "read_only": false
    }
   },
   "outputs": [
    {
     "data": {
      "image/svg+xml": [
       "<?xml version=\"1.0\" encoding=\"UTF-8\" standalone=\"no\"?>\n",
       "<!DOCTYPE svg PUBLIC \"-//W3C//DTD SVG 1.1//EN\"\n",
       " \"http://www.w3.org/Graphics/SVG/1.1/DTD/svg11.dtd\">\n",
       "<!-- Generated by graphviz version 2.38.0 (20140413.2041)\n",
       " -->\n",
       "<!-- Title: %3 Pages: 1 -->\n",
       "<svg width=\"824pt\" height=\"276pt\"\n",
       " viewBox=\"0.00 0.00 823.56 275.52\" xmlns=\"http://www.w3.org/2000/svg\" xmlns:xlink=\"http://www.w3.org/1999/xlink\">\n",
       "<g id=\"graph0\" class=\"graph\" transform=\"scale(1 1) rotate(0) translate(4 271.52)\">\n",
       "<title>%3</title>\n",
       "<polygon fill=\"white\" stroke=\"none\" points=\"-4,4 -4,-271.52 819.56,-271.52 819.56,4 -4,4\"/>\n",
       "<!-- EMPTY -->\n",
       "<g id=\"node1\" class=\"node\"><title>EMPTY</title>\n",
       "</g>\n",
       "<!-- \\(I_S0\\) -->\n",
       "<g id=\"node3\" class=\"node\"><title>\\(I_S0\\)</title>\n",
       "<ellipse fill=\"none\" stroke=\"black\" cx=\"123.703\" cy=\"-62\" rx=\"32.9081\" ry=\"32.9081\"/>\n",
       "<text text-anchor=\"middle\" x=\"123.703\" y=\"-57.8\" font-family=\"Times,serif\" font-size=\"14.00\">(I_S0)</text>\n",
       "</g>\n",
       "<!-- EMPTY&#45;&gt;\\(I_S0\\) -->\n",
       "<g id=\"edge1\" class=\"edge\"><title>EMPTY&#45;&gt;\\(I_S0\\)</title>\n",
       "<path fill=\"none\" stroke=\"black\" d=\"M54.1288,-62C62.4028,-62 71.7668,-62 80.8565,-62\"/>\n",
       "<polygon fill=\"black\" stroke=\"black\" points=\"80.9299,-65.5001 90.9298,-62 80.9298,-58.5001 80.9299,-65.5001\"/>\n",
       "</g>\n",
       "<!-- \\(I_S010\\) -->\n",
       "<g id=\"node2\" class=\"node\"><title>\\(I_S010\\)</title>\n",
       "<ellipse fill=\"none\" stroke=\"black\" cx=\"627.129\" cy=\"-95\" rx=\"41.5938\" ry=\"41.5938\"/>\n",
       "<text text-anchor=\"middle\" x=\"627.129\" y=\"-90.8\" font-family=\"Times,serif\" font-size=\"14.00\">(I_S010)</text>\n",
       "</g>\n",
       "<!-- \\(I_S010\\)&#45;&gt;\\(I_S0\\) -->\n",
       "<g id=\"edge7\" class=\"edge\"><title>\\(I_S010\\)&#45;&gt;\\(I_S0\\)</title>\n",
       "<path fill=\"none\" stroke=\"black\" d=\"M591.203,-73.7929C566.092,-60.5501 530.924,-46 497.613,-46 237.505,-46 237.505,-46 237.505,-46 213.708,-46 187.364,-49.534 166.123,-53.2802\"/>\n",
       "<polygon fill=\"black\" stroke=\"black\" points=\"165.338,-49.8658 156.139,-55.1217 166.608,-56.7496 165.338,-49.8658\"/>\n",
       "<text text-anchor=\"middle\" x=\"364.124\" y=\"-48.8\" font-family=\"Times,serif\" font-size=\"14.00\">0</text>\n",
       "</g>\n",
       "<!-- \\(F_F0101\\) -->\n",
       "<g id=\"node7\" class=\"node\"><title>\\(F_F0101\\)</title>\n",
       "<ellipse fill=\"none\" stroke=\"black\" cx=\"763.618\" cy=\"-95\" rx=\"47.8885\" ry=\"47.8885\"/>\n",
       "<ellipse fill=\"none\" stroke=\"black\" cx=\"763.618\" cy=\"-95\" rx=\"51.8841\" ry=\"51.8841\"/>\n",
       "<text text-anchor=\"middle\" x=\"763.618\" y=\"-90.8\" font-family=\"Times,serif\" font-size=\"14.00\">(F_F0101)</text>\n",
       "</g>\n",
       "<!-- \\(I_S010\\)&#45;&gt;\\(F_F0101\\) -->\n",
       "<g id=\"edge12\" class=\"edge\"><title>\\(I_S010\\)&#45;&gt;\\(F_F0101\\)</title>\n",
       "<path fill=\"none\" stroke=\"black\" d=\"M668.845,-95C679.144,-95 690.432,-95 701.497,-95\"/>\n",
       "<polygon fill=\"black\" stroke=\"black\" points=\"701.562,-98.5001 711.562,-95 701.562,-91.5001 701.562,-98.5001\"/>\n",
       "<text text-anchor=\"middle\" x=\"690.176\" y=\"-97.8\" font-family=\"Times,serif\" font-size=\"14.00\">1</text>\n",
       "</g>\n",
       "<!-- \\(I_S0\\)&#45;&gt;\\(I_S0\\) -->\n",
       "<g id=\"edge5\" class=\"edge\"><title>\\(I_S0\\)&#45;&gt;\\(I_S0\\)</title>\n",
       "<path fill=\"none\" stroke=\"black\" d=\"M114.328,-93.6896C114.328,-104.253 117.453,-112.703 123.703,-112.703 127.707,-112.703 130.429,-109.235 131.868,-103.965\"/>\n",
       "<polygon fill=\"black\" stroke=\"black\" points=\"135.384,-104.031 133.078,-93.6896 128.432,-103.211 135.384,-104.031\"/>\n",
       "<text text-anchor=\"middle\" x=\"123.703\" y=\"-115.503\" font-family=\"Times,serif\" font-size=\"14.00\">0</text>\n",
       "</g>\n",
       "<!-- \\(F_S01\\) -->\n",
       "<g id=\"node4\" class=\"node\"><title>\\(F_S01\\)</title>\n",
       "<ellipse fill=\"none\" stroke=\"black\" cx=\"238.505\" cy=\"-116\" rx=\"39.1973\" ry=\"39.1973\"/>\n",
       "<text text-anchor=\"middle\" x=\"238.505\" y=\"-111.8\" font-family=\"Times,serif\" font-size=\"14.00\">(F_S01)</text>\n",
       "</g>\n",
       "<!-- \\(I_S0\\)&#45;&gt;\\(F_S01\\) -->\n",
       "<g id=\"edge2\" class=\"edge\"><title>\\(I_S0\\)&#45;&gt;\\(F_S01\\)</title>\n",
       "<path fill=\"none\" stroke=\"black\" d=\"M150.853,-80.4742C158.262,-85.2504 166.474,-90.1312 174.407,-94 179.751,-96.6062 185.484,-99.0507 191.237,-101.294\"/>\n",
       "<polygon fill=\"black\" stroke=\"black\" points=\"190.277,-104.671 200.87,-104.871 192.714,-98.1088 190.277,-104.671\"/>\n",
       "<text text-anchor=\"middle\" x=\"177.907\" y=\"-100.8\" font-family=\"Times,serif\" font-size=\"14.00\">1</text>\n",
       "</g>\n",
       "<!-- \\(F_S01\\)&#45;&gt;\\(I_S0\\) -->\n",
       "<g id=\"edge6\" class=\"edge\"><title>\\(F_S01\\)&#45;&gt;\\(I_S0\\)</title>\n",
       "<path fill=\"none\" stroke=\"black\" d=\"M207.633,-91.567C199.497,-85.8075 190.428,-80.1454 181.407,-76 176.454,-73.7243 171.082,-71.7871 165.684,-70.1464\"/>\n",
       "<polygon fill=\"black\" stroke=\"black\" points=\"166.595,-66.7671 156.026,-67.5047 164.748,-73.5191 166.595,-66.7671\"/>\n",
       "<text text-anchor=\"middle\" x=\"177.907\" y=\"-78.8\" font-family=\"Times,serif\" font-size=\"14.00\">1</text>\n",
       "</g>\n",
       "<!-- \\(F_S010\\) -->\n",
       "<g id=\"node5\" class=\"node\"><title>\\(F_S010\\)</title>\n",
       "<ellipse fill=\"none\" stroke=\"black\" cx=\"364.124\" cy=\"-192\" rx=\"43.5405\" ry=\"43.5405\"/>\n",
       "<text text-anchor=\"middle\" x=\"364.124\" y=\"-187.8\" font-family=\"Times,serif\" font-size=\"14.00\">(F_S010)</text>\n",
       "</g>\n",
       "<!-- \\(F_S01\\)&#45;&gt;\\(F_S010\\) -->\n",
       "<g id=\"edge3\" class=\"edge\"><title>\\(F_S01\\)&#45;&gt;\\(F_S010\\)</title>\n",
       "<path fill=\"none\" stroke=\"black\" d=\"M272.308,-136.167C286.3,-144.769 302.856,-154.948 317.975,-164.243\"/>\n",
       "<polygon fill=\"black\" stroke=\"black\" points=\"316.329,-167.339 326.681,-169.595 319.995,-161.376 316.329,-167.339\"/>\n",
       "<text text-anchor=\"middle\" x=\"299.104\" y=\"-156.8\" font-family=\"Times,serif\" font-size=\"14.00\">0</text>\n",
       "</g>\n",
       "<!-- \\(F_S010\\)&#45;&gt;\\(F_S010\\) -->\n",
       "<g id=\"edge13\" class=\"edge\"><title>\\(F_S010\\)&#45;&gt;\\(F_S010\\)</title>\n",
       "<path fill=\"none\" stroke=\"black\" d=\"M352.23,-233.981C352.909,-245.099 356.874,-253.52 364.124,-253.52 368.995,-253.52 372.383,-249.719 374.289,-243.852\"/>\n",
       "<polygon fill=\"black\" stroke=\"black\" points=\"377.74,-244.435 376.019,-233.981 370.845,-243.227 377.74,-244.435\"/>\n",
       "<text text-anchor=\"middle\" x=\"364.124\" y=\"-256.32\" font-family=\"Times,serif\" font-size=\"14.00\">0</text>\n",
       "</g>\n",
       "<!-- \\(I_F0101\\) -->\n",
       "<g id=\"node6\" class=\"node\"><title>\\(I_F0101\\)</title>\n",
       "<ellipse fill=\"none\" stroke=\"black\" cx=\"496.613\" cy=\"-120\" rx=\"45.9373\" ry=\"45.9373\"/>\n",
       "<text text-anchor=\"middle\" x=\"496.613\" y=\"-115.8\" font-family=\"Times,serif\" font-size=\"14.00\">(I_F0101)</text>\n",
       "</g>\n",
       "<!-- \\(F_S010\\)&#45;&gt;\\(I_F0101\\) -->\n",
       "<g id=\"edge9\" class=\"edge\"><title>\\(F_S010\\)&#45;&gt;\\(I_F0101\\)</title>\n",
       "<path fill=\"none\" stroke=\"black\" d=\"M402.517,-171.368C416.363,-163.728 432.268,-154.952 446.969,-146.84\"/>\n",
       "<polygon fill=\"black\" stroke=\"black\" points=\"448.873,-149.787 455.938,-141.892 445.491,-143.658 448.873,-149.787\"/>\n",
       "<text text-anchor=\"middle\" x=\"429.144\" y=\"-160.8\" font-family=\"Times,serif\" font-size=\"14.00\">1</text>\n",
       "</g>\n",
       "<!-- \\(I_F0101\\)&#45;&gt;\\(I_S010\\) -->\n",
       "<g id=\"edge8\" class=\"edge\"><title>\\(I_F0101\\)&#45;&gt;\\(I_S010\\)</title>\n",
       "<path fill=\"none\" stroke=\"black\" d=\"M541.841,-111.396C552.848,-109.255 564.726,-106.945 575.994,-104.753\"/>\n",
       "<polygon fill=\"black\" stroke=\"black\" points=\"576.981,-108.126 586.129,-102.781 575.644,-101.255 576.981,-108.126\"/>\n",
       "<text text-anchor=\"middle\" x=\"564.082\" y=\"-110.8\" font-family=\"Times,serif\" font-size=\"14.00\">0</text>\n",
       "</g>\n",
       "<!-- \\(I_F0101\\)&#45;&gt;\\(F_S01\\) -->\n",
       "<g id=\"edge11\" class=\"edge\"><title>\\(I_F0101\\)&#45;&gt;\\(F_S01\\)</title>\n",
       "<path fill=\"none\" stroke=\"black\" d=\"M450.527,-119.296C404.963,-118.584 334.791,-117.488 288.034,-116.758\"/>\n",
       "<polygon fill=\"black\" stroke=\"black\" points=\"287.901,-113.256 277.847,-116.599 287.791,-120.255 287.901,-113.256\"/>\n",
       "<text text-anchor=\"middle\" x=\"364.124\" y=\"-121.8\" font-family=\"Times,serif\" font-size=\"14.00\">1</text>\n",
       "</g>\n",
       "<!-- \\(F_F0101\\)&#45;&gt;\\(I_S0\\) -->\n",
       "<g id=\"edge4\" class=\"edge\"><title>\\(F_F0101\\)&#45;&gt;\\(I_S0\\)</title>\n",
       "<path fill=\"none\" stroke=\"black\" d=\"M730.247,-54.9868C705.401,-29.024 668.578,-0 628.129,-0 237.505,-0 237.505,-0 237.505,-0 207.321,-0 177.587,-17.2596 156.23,-33.5659\"/>\n",
       "<polygon fill=\"black\" stroke=\"black\" points=\"153.832,-31.0011 148.186,-39.9665 158.191,-36.4786 153.832,-31.0011\"/>\n",
       "<text text-anchor=\"middle\" x=\"429.144\" y=\"-2.8\" font-family=\"Times,serif\" font-size=\"14.00\">1</text>\n",
       "</g>\n",
       "<!-- \\(F_F0101\\)&#45;&gt;\\(F_S010\\) -->\n",
       "<g id=\"edge10\" class=\"edge\"><title>\\(F_F0101\\)&#45;&gt;\\(F_S010\\)</title>\n",
       "<path fill=\"none\" stroke=\"black\" d=\"M718.874,-121.946C703.439,-130.582 685.685,-139.564 668.676,-146 584.791,-177.738 480.037,-187.628 418.088,-190.678\"/>\n",
       "<polygon fill=\"black\" stroke=\"black\" points=\"417.611,-187.196 407.778,-191.142 417.926,-194.189 417.611,-187.196\"/>\n",
       "<text text-anchor=\"middle\" x=\"564.082\" y=\"-176.8\" font-family=\"Times,serif\" font-size=\"14.00\">0</text>\n",
       "</g>\n",
       "</g>\n",
       "</svg>\n"
      ],
      "text/plain": [
       "<graphviz.dot.Digraph at 0x1065a6a90>"
      ]
     },
     "execution_count": 61,
     "metadata": {},
     "output_type": "execute_result"
    }
   ],
   "source": [
    "dotObj_dfa(Minodd1sANDends0101)"
   ]
  },
  {
   "cell_type": "markdown",
   "metadata": {
    "run_control": {
     "frozen": false,
     "read_only": false
    }
   },
   "source": [
    "## Now, complement the individual machines"
   ]
  },
  {
   "cell_type": "code",
   "execution_count": 62,
   "metadata": {
    "run_control": {
     "frozen": false,
     "read_only": false
    }
   },
   "outputs": [],
   "source": [
    "CdfaOdd1s = comp_dfa(dfaOdd1s)"
   ]
  },
  {
   "cell_type": "code",
   "execution_count": 63,
   "metadata": {
    "run_control": {
     "frozen": false,
     "read_only": false
    }
   },
   "outputs": [],
   "source": [
    "Cends0101 = comp_dfa(ends0101)"
   ]
  },
  {
   "cell_type": "markdown",
   "metadata": {
    "run_control": {
     "frozen": false,
     "read_only": false
    }
   },
   "source": [
    "## Complement of the union of the complements\n",
    "\n",
    "The complement of the union of the complements of M1 and M2 is of course the intersection of M1 and M2! Let us check that!\n"
   ]
  },
  {
   "cell_type": "code",
   "execution_count": 64,
   "metadata": {
    "run_control": {
     "frozen": false,
     "read_only": false
    }
   },
   "outputs": [],
   "source": [
    "C_CdfaOdd1sORCends0101 = comp_dfa(union_dfa(CdfaOdd1s, Cends0101))"
   ]
  },
  {
   "cell_type": "code",
   "execution_count": 65,
   "metadata": {
    "run_control": {
     "frozen": false,
     "read_only": false
    }
   },
   "outputs": [
    {
     "data": {
      "image/svg+xml": [
       "<?xml version=\"1.0\" encoding=\"UTF-8\" standalone=\"no\"?>\n",
       "<!DOCTYPE svg PUBLIC \"-//W3C//DTD SVG 1.1//EN\"\n",
       " \"http://www.w3.org/Graphics/SVG/1.1/DTD/svg11.dtd\">\n",
       "<!-- Generated by graphviz version 2.38.0 (20140413.2041)\n",
       " -->\n",
       "<!-- Title: %3 Pages: 1 -->\n",
       "<svg width=\"1140pt\" height=\"412pt\"\n",
       " viewBox=\"0.00 0.00 1139.94 412.00\" xmlns=\"http://www.w3.org/2000/svg\" xmlns:xlink=\"http://www.w3.org/1999/xlink\">\n",
       "<g id=\"graph0\" class=\"graph\" transform=\"scale(1 1) rotate(0) translate(4 408)\">\n",
       "<title>%3</title>\n",
       "<polygon fill=\"white\" stroke=\"none\" points=\"-4,4 -4,-408 1135.94,-408 1135.94,4 -4,4\"/>\n",
       "<!-- EMPTY -->\n",
       "<g id=\"node1\" class=\"node\"><title>EMPTY</title>\n",
       "</g>\n",
       "<!-- \\(I_I\\) -->\n",
       "<g id=\"node3\" class=\"node\"><title>\\(I_I\\)</title>\n",
       "<ellipse fill=\"none\" stroke=\"black\" cx=\"117.308\" cy=\"-82\" rx=\"26.118\" ry=\"26.118\"/>\n",
       "<text text-anchor=\"middle\" x=\"117.308\" y=\"-77.8\" font-family=\"Times,serif\" font-size=\"14.00\">(I_I)</text>\n",
       "</g>\n",
       "<!-- EMPTY&#45;&gt;\\(I_I\\) -->\n",
       "<g id=\"edge1\" class=\"edge\"><title>EMPTY&#45;&gt;\\(I_I\\)</title>\n",
       "<path fill=\"none\" stroke=\"black\" d=\"M54.0178,-82C62.3552,-82 71.7368,-82 80.64,-82\"/>\n",
       "<polygon fill=\"black\" stroke=\"black\" points=\"80.7808,-85.5001 90.7807,-82 80.7807,-78.5001 80.7808,-85.5001\"/>\n",
       "</g>\n",
       "<!-- \\(F_S0\\) -->\n",
       "<g id=\"node2\" class=\"node\"><title>\\(F_S0\\)</title>\n",
       "<ellipse fill=\"none\" stroke=\"black\" cx=\"320.857\" cy=\"-193\" rx=\"34.8545\" ry=\"34.8545\"/>\n",
       "<text text-anchor=\"middle\" x=\"320.857\" y=\"-188.8\" font-family=\"Times,serif\" font-size=\"14.00\">(F_S0)</text>\n",
       "</g>\n",
       "<!-- \\(F_S0\\)&#45;&gt;\\(F_S0\\) -->\n",
       "<g id=\"edge20\" class=\"edge\"><title>\\(F_S0\\)&#45;&gt;\\(F_S0\\)</title>\n",
       "<path fill=\"none\" stroke=\"black\" d=\"M310.357,-226.18C310.412,-237.034 313.912,-245.677 320.857,-245.677 325.415,-245.677 328.489,-241.955 330.079,-236.328\"/>\n",
       "<polygon fill=\"black\" stroke=\"black\" points=\"333.58,-236.539 331.356,-226.18 326.635,-235.664 333.58,-236.539\"/>\n",
       "<text text-anchor=\"middle\" x=\"320.857\" y=\"-248.477\" font-family=\"Times,serif\" font-size=\"14.00\">0</text>\n",
       "</g>\n",
       "<!-- \\(I_S01\\) -->\n",
       "<g id=\"node6\" class=\"node\"><title>\\(I_S01\\)</title>\n",
       "<ellipse fill=\"none\" stroke=\"black\" cx=\"435.659\" cy=\"-192\" rx=\"37.2507\" ry=\"37.2507\"/>\n",
       "<text text-anchor=\"middle\" x=\"435.659\" y=\"-187.8\" font-family=\"Times,serif\" font-size=\"14.00\">(I_S01)</text>\n",
       "</g>\n",
       "<!-- \\(F_S0\\)&#45;&gt;\\(I_S01\\) -->\n",
       "<g id=\"edge12\" class=\"edge\"><title>\\(F_S0\\)&#45;&gt;\\(I_S01\\)</title>\n",
       "<path fill=\"none\" stroke=\"black\" d=\"M355.701,-192.7C365.93,-192.609 377.345,-192.508 388.245,-192.411\"/>\n",
       "<polygon fill=\"black\" stroke=\"black\" points=\"388.514,-195.909 398.483,-192.321 388.452,-188.91 388.514,-195.909\"/>\n",
       "<text text-anchor=\"middle\" x=\"377.034\" y=\"-195.8\" font-family=\"Times,serif\" font-size=\"14.00\">1</text>\n",
       "</g>\n",
       "<!-- \\(F_I\\) -->\n",
       "<g id=\"node4\" class=\"node\"><title>\\(F_I\\)</title>\n",
       "<ellipse fill=\"none\" stroke=\"black\" cx=\"214.898\" cy=\"-119\" rx=\"28.0651\" ry=\"28.0651\"/>\n",
       "<text text-anchor=\"middle\" x=\"214.898\" y=\"-114.8\" font-family=\"Times,serif\" font-size=\"14.00\">(F_I)</text>\n",
       "</g>\n",
       "<!-- \\(I_I\\)&#45;&gt;\\(F_I\\) -->\n",
       "<g id=\"edge18\" class=\"edge\"><title>\\(I_I\\)&#45;&gt;\\(F_I\\)</title>\n",
       "<path fill=\"none\" stroke=\"black\" d=\"M143.444,-78.6997C151.67,-78.4796 160.719,-79.1837 168.617,-82 175.17,-84.3369 181.459,-88.0741 187.157,-92.2945\"/>\n",
       "<polygon fill=\"black\" stroke=\"black\" points=\"185.079,-95.1157 195.043,-98.7167 189.499,-89.688 185.079,-95.1157\"/>\n",
       "<text text-anchor=\"middle\" x=\"165.117\" y=\"-84.8\" font-family=\"Times,serif\" font-size=\"14.00\">1</text>\n",
       "</g>\n",
       "<!-- \\(I_S0\\) -->\n",
       "<g id=\"node7\" class=\"node\"><title>\\(I_S0\\)</title>\n",
       "<ellipse fill=\"none\" stroke=\"black\" cx=\"693.82\" cy=\"-99\" rx=\"32.9081\" ry=\"32.9081\"/>\n",
       "<text text-anchor=\"middle\" x=\"693.82\" y=\"-94.8\" font-family=\"Times,serif\" font-size=\"14.00\">(I_S0)</text>\n",
       "</g>\n",
       "<!-- \\(I_I\\)&#45;&gt;\\(I_S0\\) -->\n",
       "<g id=\"edge5\" class=\"edge\"><title>\\(I_I\\)&#45;&gt;\\(I_S0\\)</title>\n",
       "<path fill=\"none\" stroke=\"black\" d=\"M139.65,-67.3326C158.358,-55.9166 186.734,-42 213.898,-42 213.898,-42 213.898,-42 558.331,-42 588.12,-42 596.259,-44.8387 623.878,-56 635.73,-60.7898 647.831,-67.5771 658.519,-74.3474\"/>\n",
       "<polygon fill=\"black\" stroke=\"black\" points=\"656.844,-77.4348 667.128,-79.9863 660.68,-71.5791 656.844,-77.4348\"/>\n",
       "<text text-anchor=\"middle\" x=\"377.034\" y=\"-44.8\" font-family=\"Times,serif\" font-size=\"14.00\">0</text>\n",
       "</g>\n",
       "<!-- \\(F_I\\)&#45;&gt;\\(F_S0\\) -->\n",
       "<g id=\"edge3\" class=\"edge\"><title>\\(F_I\\)&#45;&gt;\\(F_S0\\)</title>\n",
       "<path fill=\"none\" stroke=\"black\" d=\"M238.456,-135.057C251.758,-144.526 268.893,-156.723 284.008,-167.482\"/>\n",
       "<polygon fill=\"black\" stroke=\"black\" points=\"281.983,-170.337 292.16,-173.285 286.043,-164.634 281.983,-170.337\"/>\n",
       "<text text-anchor=\"middle\" x=\"264.68\" y=\"-158.8\" font-family=\"Times,serif\" font-size=\"14.00\">0</text>\n",
       "</g>\n",
       "<!-- \\(F_I\\)&#45;&gt;\\(I_I\\) -->\n",
       "<g id=\"edge14\" class=\"edge\"><title>\\(F_I\\)&#45;&gt;\\(I_I\\)</title>\n",
       "<path fill=\"none\" stroke=\"black\" d=\"M188.109,-109.018C177.007,-104.72 163.878,-99.6387 152.02,-95.0487\"/>\n",
       "<polygon fill=\"black\" stroke=\"black\" points=\"153.019,-91.6824 142.43,-91.3367 150.492,-98.2105 153.019,-91.6824\"/>\n",
       "<text text-anchor=\"middle\" x=\"165.117\" y=\"-103.8\" font-family=\"Times,serif\" font-size=\"14.00\">1</text>\n",
       "</g>\n",
       "<!-- \\(I_S010\\) -->\n",
       "<g id=\"node5\" class=\"node\"><title>\\(I_S010\\)</title>\n",
       "<ellipse fill=\"none\" stroke=\"black\" cx=\"557.331\" cy=\"-192\" rx=\"41.5938\" ry=\"41.5938\"/>\n",
       "<text text-anchor=\"middle\" x=\"557.331\" y=\"-187.8\" font-family=\"Times,serif\" font-size=\"14.00\">(I_S010)</text>\n",
       "</g>\n",
       "<!-- \\(I_S010\\)&#45;&gt;\\(I_S0\\) -->\n",
       "<g id=\"edge7\" class=\"edge\"><title>\\(I_S010\\)&#45;&gt;\\(I_S0\\)</title>\n",
       "<path fill=\"none\" stroke=\"black\" d=\"M591.921,-168.772C612.072,-154.838 637.655,-137.147 658.018,-123.066\"/>\n",
       "<polygon fill=\"black\" stroke=\"black\" points=\"660.16,-125.84 666.395,-117.273 656.179,-120.082 660.16,-125.84\"/>\n",
       "<text text-anchor=\"middle\" x=\"620.378\" y=\"-154.8\" font-family=\"Times,serif\" font-size=\"14.00\">0</text>\n",
       "</g>\n",
       "<!-- \\(F_F0101\\) -->\n",
       "<g id=\"node11\" class=\"node\"><title>\\(F_F0101\\)</title>\n",
       "<ellipse fill=\"none\" stroke=\"black\" cx=\"693.82\" cy=\"-272\" rx=\"47.8885\" ry=\"47.8885\"/>\n",
       "<ellipse fill=\"none\" stroke=\"black\" cx=\"693.82\" cy=\"-272\" rx=\"51.8841\" ry=\"51.8841\"/>\n",
       "<text text-anchor=\"middle\" x=\"693.82\" y=\"-267.8\" font-family=\"Times,serif\" font-size=\"14.00\">(F_F0101)</text>\n",
       "</g>\n",
       "<!-- \\(I_S010\\)&#45;&gt;\\(F_F0101\\) -->\n",
       "<g id=\"edge15\" class=\"edge\"><title>\\(I_S010\\)&#45;&gt;\\(F_F0101\\)</title>\n",
       "<path fill=\"none\" stroke=\"black\" d=\"M593.315,-212.81C607.631,-221.326 624.503,-231.362 640.247,-240.727\"/>\n",
       "<polygon fill=\"black\" stroke=\"black\" points=\"638.471,-243.743 648.854,-245.847 642.049,-237.727 638.471,-243.743\"/>\n",
       "<text text-anchor=\"middle\" x=\"620.378\" y=\"-232.8\" font-family=\"Times,serif\" font-size=\"14.00\">1</text>\n",
       "</g>\n",
       "<!-- \\(I_S01\\)&#45;&gt;\\(F_I\\) -->\n",
       "<g id=\"edge19\" class=\"edge\"><title>\\(I_S01\\)&#45;&gt;\\(F_I\\)</title>\n",
       "<path fill=\"none\" stroke=\"black\" d=\"M407.793,-167.332C393.361,-155.531 374.639,-142.392 355.534,-135 322.598,-122.257 282.274,-118.808 253.441,-118.218\"/>\n",
       "<polygon fill=\"black\" stroke=\"black\" points=\"253.408,-114.718 243.374,-118.118 253.338,-121.717 253.408,-114.718\"/>\n",
       "<text text-anchor=\"middle\" x=\"320.857\" y=\"-137.8\" font-family=\"Times,serif\" font-size=\"14.00\">1</text>\n",
       "</g>\n",
       "<!-- \\(I_S01\\)&#45;&gt;\\(I_S010\\) -->\n",
       "<g id=\"edge16\" class=\"edge\"><title>\\(I_S01\\)&#45;&gt;\\(I_S010\\)</title>\n",
       "<path fill=\"none\" stroke=\"black\" d=\"M472.889,-192C483.107,-192 494.419,-192 505.33,-192\"/>\n",
       "<polygon fill=\"black\" stroke=\"black\" points=\"505.62,-195.5 515.62,-192 505.62,-188.5 505.62,-195.5\"/>\n",
       "<text text-anchor=\"middle\" x=\"494.284\" y=\"-194.8\" font-family=\"Times,serif\" font-size=\"14.00\">0</text>\n",
       "</g>\n",
       "<!-- \\(I_S0\\)&#45;&gt;\\(I_S0\\) -->\n",
       "<g id=\"edge17\" class=\"edge\"><title>\\(I_S0\\)&#45;&gt;\\(I_S0\\)</title>\n",
       "<path fill=\"none\" stroke=\"black\" d=\"M680.36,-128.939C679.841,-140.303 684.328,-149.703 693.82,-149.703 700.197,-149.703 704.315,-145.46 706.174,-139.229\"/>\n",
       "<polygon fill=\"black\" stroke=\"black\" points=\"709.691,-139.255 707.279,-128.939 702.731,-138.507 709.691,-139.255\"/>\n",
       "<text text-anchor=\"middle\" x=\"693.82\" y=\"-152.503\" font-family=\"Times,serif\" font-size=\"14.00\">0</text>\n",
       "</g>\n",
       "<!-- \\(F_S01\\) -->\n",
       "<g id=\"node8\" class=\"node\"><title>\\(F_S01\\)</title>\n",
       "<ellipse fill=\"none\" stroke=\"black\" cx=\"827.86\" cy=\"-105\" rx=\"39.1973\" ry=\"39.1973\"/>\n",
       "<text text-anchor=\"middle\" x=\"827.86\" y=\"-100.8\" font-family=\"Times,serif\" font-size=\"14.00\">(F_S01)</text>\n",
       "</g>\n",
       "<!-- \\(I_S0\\)&#45;&gt;\\(F_S01\\) -->\n",
       "<g id=\"edge2\" class=\"edge\"><title>\\(I_S0\\)&#45;&gt;\\(F_S01\\)</title>\n",
       "<path fill=\"none\" stroke=\"black\" d=\"M726.783,-100.452C742.205,-101.153 761.042,-102.009 778.196,-102.789\"/>\n",
       "<polygon fill=\"black\" stroke=\"black\" points=\"778.465,-106.304 788.613,-103.262 778.783,-99.3116 778.465,-106.304\"/>\n",
       "<text text-anchor=\"middle\" x=\"767.262\" y=\"-105.8\" font-family=\"Times,serif\" font-size=\"14.00\">1</text>\n",
       "</g>\n",
       "<!-- \\(F_S01\\)&#45;&gt;\\(I_I\\) -->\n",
       "<g id=\"edge6\" class=\"edge\"><title>\\(F_S01\\)&#45;&gt;\\(I_I\\)</title>\n",
       "<path fill=\"none\" stroke=\"black\" d=\"M805.503,-72.6398C782.291,-41.7883 742.12,-0 694.82,-0 213.898,-0 213.898,-0 213.898,-0 181.183,-0 154.056,-28.0119 137.16,-51.2913\"/>\n",
       "<polygon fill=\"black\" stroke=\"black\" points=\"134.226,-49.3802 131.407,-59.5931 139.98,-53.3674 134.226,-49.3802\"/>\n",
       "<text text-anchor=\"middle\" x=\"435.659\" y=\"-2.8\" font-family=\"Times,serif\" font-size=\"14.00\">1</text>\n",
       "</g>\n",
       "<!-- \\(F_S010\\) -->\n",
       "<g id=\"node9\" class=\"node\"><title>\\(F_S010\\)</title>\n",
       "<ellipse fill=\"none\" stroke=\"black\" cx=\"953.479\" cy=\"-266\" rx=\"43.5405\" ry=\"43.5405\"/>\n",
       "<text text-anchor=\"middle\" x=\"953.479\" y=\"-261.8\" font-family=\"Times,serif\" font-size=\"14.00\">(F_S010)</text>\n",
       "</g>\n",
       "<!-- \\(F_S01\\)&#45;&gt;\\(F_S010\\) -->\n",
       "<g id=\"edge8\" class=\"edge\"><title>\\(F_S01\\)&#45;&gt;\\(F_S010\\)</title>\n",
       "<path fill=\"none\" stroke=\"black\" d=\"M852.403,-135.662C871.594,-160.656 898.9,-196.219 920.142,-223.885\"/>\n",
       "<polygon fill=\"black\" stroke=\"black\" points=\"917.376,-226.029 926.242,-231.829 922.928,-221.766 917.376,-226.029\"/>\n",
       "<text text-anchor=\"middle\" x=\"888.459\" y=\"-188.8\" font-family=\"Times,serif\" font-size=\"14.00\">0</text>\n",
       "</g>\n",
       "<!-- \\(F_S010\\)&#45;&gt;\\(F_S0\\) -->\n",
       "<g id=\"edge21\" class=\"edge\"><title>\\(F_S010\\)&#45;&gt;\\(F_S0\\)</title>\n",
       "<path fill=\"none\" stroke=\"black\" d=\"M925.233,-299.496C902.348,-323.643 867.292,-352 828.86,-352 434.659,-352 434.659,-352 434.659,-352 377.783,-352 346.97,-283.486 332.512,-236.408\"/>\n",
       "<polygon fill=\"black\" stroke=\"black\" points=\"335.844,-235.331 329.671,-226.72 329.126,-237.301 335.844,-235.331\"/>\n",
       "<text text-anchor=\"middle\" x=\"620.378\" y=\"-354.8\" font-family=\"Times,serif\" font-size=\"14.00\">0</text>\n",
       "</g>\n",
       "<!-- \\(I_F0101\\) -->\n",
       "<g id=\"node10\" class=\"node\"><title>\\(I_F0101\\)</title>\n",
       "<ellipse fill=\"none\" stroke=\"black\" cx=\"1085.97\" cy=\"-192\" rx=\"45.9373\" ry=\"45.9373\"/>\n",
       "<text text-anchor=\"middle\" x=\"1085.97\" y=\"-187.8\" font-family=\"Times,serif\" font-size=\"14.00\">(I_F0101)</text>\n",
       "</g>\n",
       "<!-- \\(F_S010\\)&#45;&gt;\\(I_F0101\\) -->\n",
       "<g id=\"edge10\" class=\"edge\"><title>\\(F_S010\\)&#45;&gt;\\(I_F0101\\)</title>\n",
       "<path fill=\"none\" stroke=\"black\" d=\"M991.872,-244.795C1005.72,-236.943 1021.62,-227.923 1036.32,-219.586\"/>\n",
       "<polygon fill=\"black\" stroke=\"black\" points=\"1038.32,-222.477 1045.29,-214.5 1034.87,-216.388 1038.32,-222.477\"/>\n",
       "<text text-anchor=\"middle\" x=\"1018.5\" y=\"-234.8\" font-family=\"Times,serif\" font-size=\"14.00\">1</text>\n",
       "</g>\n",
       "<!-- \\(I_F0101\\)&#45;&gt;\\(F_I\\) -->\n",
       "<g id=\"edge13\" class=\"edge\"><title>\\(I_F0101\\)&#45;&gt;\\(F_I\\)</title>\n",
       "<path fill=\"none\" stroke=\"black\" d=\"M1069.67,-148.693C1050.47,-103.143 1012.83,-38 954.479,-38 766.262,-38 766.262,-38 766.262,-38 644.389,-38 617.157,-80 495.284,-80 319.857,-80 319.857,-80 319.857,-80 294.729,-80 268.236,-90.1121 248.284,-100.038\"/>\n",
       "<polygon fill=\"black\" stroke=\"black\" points=\"246.583,-96.9779 239.328,-104.699 249.815,-103.187 246.583,-96.9779\"/>\n",
       "<text text-anchor=\"middle\" x=\"620.378\" y=\"-65.8\" font-family=\"Times,serif\" font-size=\"14.00\">1</text>\n",
       "</g>\n",
       "<!-- \\(I_F0101\\)&#45;&gt;\\(I_S010\\) -->\n",
       "<g id=\"edge9\" class=\"edge\"><title>\\(I_F0101\\)&#45;&gt;\\(I_S010\\)</title>\n",
       "<path fill=\"none\" stroke=\"black\" d=\"M1039.98,-192C1014.83,-192 982.91,-192 954.479,-192 692.82,-192 692.82,-192 692.82,-192 665.116,-192 634.202,-192 609.005,-192\"/>\n",
       "<polygon fill=\"black\" stroke=\"black\" points=\"608.939,-188.5 598.939,-192 608.939,-195.5 608.939,-188.5\"/>\n",
       "<text text-anchor=\"middle\" x=\"827.86\" y=\"-194.8\" font-family=\"Times,serif\" font-size=\"14.00\">0</text>\n",
       "</g>\n",
       "<!-- \\(F_F0101\\)&#45;&gt;\\(I_I\\) -->\n",
       "<g id=\"edge4\" class=\"edge\"><title>\\(F_F0101\\)&#45;&gt;\\(I_I\\)</title>\n",
       "<path fill=\"none\" stroke=\"black\" d=\"M669.363,-317.917C657.883,-336.412 642.493,-356.515 623.878,-370 599.212,-387.869 588.789,-390 558.331,-390 213.898,-390 213.898,-390 213.898,-390 157.637,-390 130.798,-200.171 121.861,-118.57\"/>\n",
       "<polygon fill=\"black\" stroke=\"black\" points=\"125.302,-117.834 120.764,-108.26 118.341,-118.574 125.302,-117.834\"/>\n",
       "<text text-anchor=\"middle\" x=\"377.034\" y=\"-392.8\" font-family=\"Times,serif\" font-size=\"14.00\">1</text>\n",
       "</g>\n",
       "<!-- \\(F_F0101\\)&#45;&gt;\\(F_S010\\) -->\n",
       "<g id=\"edge11\" class=\"edge\"><title>\\(F_F0101\\)&#45;&gt;\\(F_S010\\)</title>\n",
       "<path fill=\"none\" stroke=\"black\" d=\"M746.033,-270.807C790.556,-269.771 854.796,-268.275 899.757,-267.228\"/>\n",
       "<polygon fill=\"black\" stroke=\"black\" points=\"899.978,-270.724 909.894,-266.992 899.815,-263.726 899.978,-270.724\"/>\n",
       "<text text-anchor=\"middle\" x=\"827.86\" y=\"-271.8\" font-family=\"Times,serif\" font-size=\"14.00\">0</text>\n",
       "</g>\n",
       "</g>\n",
       "</svg>\n"
      ],
      "text/plain": [
       "<graphviz.dot.Digraph at 0x1065ae978>"
      ]
     },
     "execution_count": 65,
     "metadata": {},
     "output_type": "execute_result"
    }
   ],
   "source": [
    "dotObj_dfa(C_CdfaOdd1sORCends0101)"
   ]
  },
  {
   "cell_type": "code",
   "execution_count": 66,
   "metadata": {
    "run_control": {
     "frozen": false,
     "read_only": false
    }
   },
   "outputs": [],
   "source": [
    "MinC_CdfaOdd1sORCends0101 = min_dfa(C_CdfaOdd1sORCends0101)"
   ]
  },
  {
   "cell_type": "markdown",
   "metadata": {
    "run_control": {
     "frozen": false,
     "read_only": false
    }
   },
   "source": [
    "## Minimized Comp(CdfaOdd1s OR Cends0101)\n",
    "\n",
    "This will now pass the isomorphism check, below\n"
   ]
  },
  {
   "cell_type": "code",
   "execution_count": 67,
   "metadata": {
    "run_control": {
     "frozen": false,
     "read_only": false
    }
   },
   "outputs": [
    {
     "data": {
      "image/svg+xml": [
       "<?xml version=\"1.0\" encoding=\"UTF-8\" standalone=\"no\"?>\n",
       "<!DOCTYPE svg PUBLIC \"-//W3C//DTD SVG 1.1//EN\"\n",
       " \"http://www.w3.org/Graphics/SVG/1.1/DTD/svg11.dtd\">\n",
       "<!-- Generated by graphviz version 2.38.0 (20140413.2041)\n",
       " -->\n",
       "<!-- Title: %3 Pages: 1 -->\n",
       "<svg width=\"824pt\" height=\"276pt\"\n",
       " viewBox=\"0.00 0.00 823.56 275.52\" xmlns=\"http://www.w3.org/2000/svg\" xmlns:xlink=\"http://www.w3.org/1999/xlink\">\n",
       "<g id=\"graph0\" class=\"graph\" transform=\"scale(1 1) rotate(0) translate(4 271.52)\">\n",
       "<title>%3</title>\n",
       "<polygon fill=\"white\" stroke=\"none\" points=\"-4,4 -4,-271.52 819.56,-271.52 819.56,4 -4,4\"/>\n",
       "<!-- EMPTY -->\n",
       "<g id=\"node1\" class=\"node\"><title>EMPTY</title>\n",
       "</g>\n",
       "<!-- \\(I_S0\\) -->\n",
       "<g id=\"node3\" class=\"node\"><title>\\(I_S0\\)</title>\n",
       "<ellipse fill=\"none\" stroke=\"black\" cx=\"123.703\" cy=\"-62\" rx=\"32.9081\" ry=\"32.9081\"/>\n",
       "<text text-anchor=\"middle\" x=\"123.703\" y=\"-57.8\" font-family=\"Times,serif\" font-size=\"14.00\">(I_S0)</text>\n",
       "</g>\n",
       "<!-- EMPTY&#45;&gt;\\(I_S0\\) -->\n",
       "<g id=\"edge1\" class=\"edge\"><title>EMPTY&#45;&gt;\\(I_S0\\)</title>\n",
       "<path fill=\"none\" stroke=\"black\" d=\"M54.1288,-62C62.4028,-62 71.7668,-62 80.8565,-62\"/>\n",
       "<polygon fill=\"black\" stroke=\"black\" points=\"80.9299,-65.5001 90.9298,-62 80.9298,-58.5001 80.9299,-65.5001\"/>\n",
       "</g>\n",
       "<!-- \\(I_S010\\) -->\n",
       "<g id=\"node2\" class=\"node\"><title>\\(I_S010\\)</title>\n",
       "<ellipse fill=\"none\" stroke=\"black\" cx=\"627.129\" cy=\"-95\" rx=\"41.5938\" ry=\"41.5938\"/>\n",
       "<text text-anchor=\"middle\" x=\"627.129\" y=\"-90.8\" font-family=\"Times,serif\" font-size=\"14.00\">(I_S010)</text>\n",
       "</g>\n",
       "<!-- \\(I_S010\\)&#45;&gt;\\(I_S0\\) -->\n",
       "<g id=\"edge7\" class=\"edge\"><title>\\(I_S010\\)&#45;&gt;\\(I_S0\\)</title>\n",
       "<path fill=\"none\" stroke=\"black\" d=\"M591.203,-73.7929C566.092,-60.5501 530.924,-46 497.613,-46 237.505,-46 237.505,-46 237.505,-46 213.708,-46 187.364,-49.534 166.123,-53.2802\"/>\n",
       "<polygon fill=\"black\" stroke=\"black\" points=\"165.338,-49.8658 156.139,-55.1217 166.608,-56.7496 165.338,-49.8658\"/>\n",
       "<text text-anchor=\"middle\" x=\"364.124\" y=\"-48.8\" font-family=\"Times,serif\" font-size=\"14.00\">0</text>\n",
       "</g>\n",
       "<!-- \\(F_F0101\\) -->\n",
       "<g id=\"node7\" class=\"node\"><title>\\(F_F0101\\)</title>\n",
       "<ellipse fill=\"none\" stroke=\"black\" cx=\"763.618\" cy=\"-95\" rx=\"47.8885\" ry=\"47.8885\"/>\n",
       "<ellipse fill=\"none\" stroke=\"black\" cx=\"763.618\" cy=\"-95\" rx=\"51.8841\" ry=\"51.8841\"/>\n",
       "<text text-anchor=\"middle\" x=\"763.618\" y=\"-90.8\" font-family=\"Times,serif\" font-size=\"14.00\">(F_F0101)</text>\n",
       "</g>\n",
       "<!-- \\(I_S010\\)&#45;&gt;\\(F_F0101\\) -->\n",
       "<g id=\"edge12\" class=\"edge\"><title>\\(I_S010\\)&#45;&gt;\\(F_F0101\\)</title>\n",
       "<path fill=\"none\" stroke=\"black\" d=\"M668.845,-95C679.144,-95 690.432,-95 701.497,-95\"/>\n",
       "<polygon fill=\"black\" stroke=\"black\" points=\"701.562,-98.5001 711.562,-95 701.562,-91.5001 701.562,-98.5001\"/>\n",
       "<text text-anchor=\"middle\" x=\"690.176\" y=\"-97.8\" font-family=\"Times,serif\" font-size=\"14.00\">1</text>\n",
       "</g>\n",
       "<!-- \\(I_S0\\)&#45;&gt;\\(I_S0\\) -->\n",
       "<g id=\"edge5\" class=\"edge\"><title>\\(I_S0\\)&#45;&gt;\\(I_S0\\)</title>\n",
       "<path fill=\"none\" stroke=\"black\" d=\"M114.328,-93.6896C114.328,-104.253 117.453,-112.703 123.703,-112.703 127.707,-112.703 130.429,-109.235 131.868,-103.965\"/>\n",
       "<polygon fill=\"black\" stroke=\"black\" points=\"135.384,-104.031 133.078,-93.6896 128.432,-103.211 135.384,-104.031\"/>\n",
       "<text text-anchor=\"middle\" x=\"123.703\" y=\"-115.503\" font-family=\"Times,serif\" font-size=\"14.00\">0</text>\n",
       "</g>\n",
       "<!-- \\(F_S01\\) -->\n",
       "<g id=\"node4\" class=\"node\"><title>\\(F_S01\\)</title>\n",
       "<ellipse fill=\"none\" stroke=\"black\" cx=\"238.505\" cy=\"-116\" rx=\"39.1973\" ry=\"39.1973\"/>\n",
       "<text text-anchor=\"middle\" x=\"238.505\" y=\"-111.8\" font-family=\"Times,serif\" font-size=\"14.00\">(F_S01)</text>\n",
       "</g>\n",
       "<!-- \\(I_S0\\)&#45;&gt;\\(F_S01\\) -->\n",
       "<g id=\"edge2\" class=\"edge\"><title>\\(I_S0\\)&#45;&gt;\\(F_S01\\)</title>\n",
       "<path fill=\"none\" stroke=\"black\" d=\"M150.853,-80.4742C158.262,-85.2504 166.474,-90.1312 174.407,-94 179.751,-96.6062 185.484,-99.0507 191.237,-101.294\"/>\n",
       "<polygon fill=\"black\" stroke=\"black\" points=\"190.277,-104.671 200.87,-104.871 192.714,-98.1088 190.277,-104.671\"/>\n",
       "<text text-anchor=\"middle\" x=\"177.907\" y=\"-100.8\" font-family=\"Times,serif\" font-size=\"14.00\">1</text>\n",
       "</g>\n",
       "<!-- \\(F_S01\\)&#45;&gt;\\(I_S0\\) -->\n",
       "<g id=\"edge6\" class=\"edge\"><title>\\(F_S01\\)&#45;&gt;\\(I_S0\\)</title>\n",
       "<path fill=\"none\" stroke=\"black\" d=\"M207.633,-91.567C199.497,-85.8075 190.428,-80.1454 181.407,-76 176.454,-73.7243 171.082,-71.7871 165.684,-70.1464\"/>\n",
       "<polygon fill=\"black\" stroke=\"black\" points=\"166.595,-66.7671 156.026,-67.5047 164.748,-73.5191 166.595,-66.7671\"/>\n",
       "<text text-anchor=\"middle\" x=\"177.907\" y=\"-78.8\" font-family=\"Times,serif\" font-size=\"14.00\">1</text>\n",
       "</g>\n",
       "<!-- \\(F_S010\\) -->\n",
       "<g id=\"node5\" class=\"node\"><title>\\(F_S010\\)</title>\n",
       "<ellipse fill=\"none\" stroke=\"black\" cx=\"364.124\" cy=\"-192\" rx=\"43.5405\" ry=\"43.5405\"/>\n",
       "<text text-anchor=\"middle\" x=\"364.124\" y=\"-187.8\" font-family=\"Times,serif\" font-size=\"14.00\">(F_S010)</text>\n",
       "</g>\n",
       "<!-- \\(F_S01\\)&#45;&gt;\\(F_S010\\) -->\n",
       "<g id=\"edge3\" class=\"edge\"><title>\\(F_S01\\)&#45;&gt;\\(F_S010\\)</title>\n",
       "<path fill=\"none\" stroke=\"black\" d=\"M272.308,-136.167C286.3,-144.769 302.856,-154.948 317.975,-164.243\"/>\n",
       "<polygon fill=\"black\" stroke=\"black\" points=\"316.329,-167.339 326.681,-169.595 319.995,-161.376 316.329,-167.339\"/>\n",
       "<text text-anchor=\"middle\" x=\"299.104\" y=\"-156.8\" font-family=\"Times,serif\" font-size=\"14.00\">0</text>\n",
       "</g>\n",
       "<!-- \\(F_S010\\)&#45;&gt;\\(F_S010\\) -->\n",
       "<g id=\"edge13\" class=\"edge\"><title>\\(F_S010\\)&#45;&gt;\\(F_S010\\)</title>\n",
       "<path fill=\"none\" stroke=\"black\" d=\"M352.23,-233.981C352.909,-245.099 356.874,-253.52 364.124,-253.52 368.995,-253.52 372.383,-249.719 374.289,-243.852\"/>\n",
       "<polygon fill=\"black\" stroke=\"black\" points=\"377.74,-244.435 376.019,-233.981 370.845,-243.227 377.74,-244.435\"/>\n",
       "<text text-anchor=\"middle\" x=\"364.124\" y=\"-256.32\" font-family=\"Times,serif\" font-size=\"14.00\">0</text>\n",
       "</g>\n",
       "<!-- \\(I_F0101\\) -->\n",
       "<g id=\"node6\" class=\"node\"><title>\\(I_F0101\\)</title>\n",
       "<ellipse fill=\"none\" stroke=\"black\" cx=\"496.613\" cy=\"-120\" rx=\"45.9373\" ry=\"45.9373\"/>\n",
       "<text text-anchor=\"middle\" x=\"496.613\" y=\"-115.8\" font-family=\"Times,serif\" font-size=\"14.00\">(I_F0101)</text>\n",
       "</g>\n",
       "<!-- \\(F_S010\\)&#45;&gt;\\(I_F0101\\) -->\n",
       "<g id=\"edge9\" class=\"edge\"><title>\\(F_S010\\)&#45;&gt;\\(I_F0101\\)</title>\n",
       "<path fill=\"none\" stroke=\"black\" d=\"M402.517,-171.368C416.363,-163.728 432.268,-154.952 446.969,-146.84\"/>\n",
       "<polygon fill=\"black\" stroke=\"black\" points=\"448.873,-149.787 455.938,-141.892 445.491,-143.658 448.873,-149.787\"/>\n",
       "<text text-anchor=\"middle\" x=\"429.144\" y=\"-160.8\" font-family=\"Times,serif\" font-size=\"14.00\">1</text>\n",
       "</g>\n",
       "<!-- \\(I_F0101\\)&#45;&gt;\\(I_S010\\) -->\n",
       "<g id=\"edge8\" class=\"edge\"><title>\\(I_F0101\\)&#45;&gt;\\(I_S010\\)</title>\n",
       "<path fill=\"none\" stroke=\"black\" d=\"M541.841,-111.396C552.848,-109.255 564.726,-106.945 575.994,-104.753\"/>\n",
       "<polygon fill=\"black\" stroke=\"black\" points=\"576.981,-108.126 586.129,-102.781 575.644,-101.255 576.981,-108.126\"/>\n",
       "<text text-anchor=\"middle\" x=\"564.082\" y=\"-110.8\" font-family=\"Times,serif\" font-size=\"14.00\">0</text>\n",
       "</g>\n",
       "<!-- \\(I_F0101\\)&#45;&gt;\\(F_S01\\) -->\n",
       "<g id=\"edge11\" class=\"edge\"><title>\\(I_F0101\\)&#45;&gt;\\(F_S01\\)</title>\n",
       "<path fill=\"none\" stroke=\"black\" d=\"M450.527,-119.296C404.963,-118.584 334.791,-117.488 288.034,-116.758\"/>\n",
       "<polygon fill=\"black\" stroke=\"black\" points=\"287.901,-113.256 277.847,-116.599 287.791,-120.255 287.901,-113.256\"/>\n",
       "<text text-anchor=\"middle\" x=\"364.124\" y=\"-121.8\" font-family=\"Times,serif\" font-size=\"14.00\">1</text>\n",
       "</g>\n",
       "<!-- \\(F_F0101\\)&#45;&gt;\\(I_S0\\) -->\n",
       "<g id=\"edge4\" class=\"edge\"><title>\\(F_F0101\\)&#45;&gt;\\(I_S0\\)</title>\n",
       "<path fill=\"none\" stroke=\"black\" d=\"M730.247,-54.9868C705.401,-29.024 668.578,-0 628.129,-0 237.505,-0 237.505,-0 237.505,-0 207.321,-0 177.587,-17.2596 156.23,-33.5659\"/>\n",
       "<polygon fill=\"black\" stroke=\"black\" points=\"153.832,-31.0011 148.186,-39.9665 158.191,-36.4786 153.832,-31.0011\"/>\n",
       "<text text-anchor=\"middle\" x=\"429.144\" y=\"-2.8\" font-family=\"Times,serif\" font-size=\"14.00\">1</text>\n",
       "</g>\n",
       "<!-- \\(F_F0101\\)&#45;&gt;\\(F_S010\\) -->\n",
       "<g id=\"edge10\" class=\"edge\"><title>\\(F_F0101\\)&#45;&gt;\\(F_S010\\)</title>\n",
       "<path fill=\"none\" stroke=\"black\" d=\"M718.874,-121.946C703.439,-130.582 685.685,-139.564 668.676,-146 584.791,-177.738 480.037,-187.628 418.088,-190.678\"/>\n",
       "<polygon fill=\"black\" stroke=\"black\" points=\"417.611,-187.196 407.778,-191.142 417.926,-194.189 417.611,-187.196\"/>\n",
       "<text text-anchor=\"middle\" x=\"564.082\" y=\"-176.8\" font-family=\"Times,serif\" font-size=\"14.00\">0</text>\n",
       "</g>\n",
       "</g>\n",
       "</svg>\n"
      ],
      "text/plain": [
       "<graphviz.dot.Digraph at 0x1065aebe0>"
      ]
     },
     "execution_count": 67,
     "metadata": {},
     "output_type": "execute_result"
    }
   ],
   "source": [
    "dotObj_dfa(MinC_CdfaOdd1sORCends0101)"
   ]
  },
  {
   "cell_type": "markdown",
   "metadata": {
    "run_control": {
     "frozen": false,
     "read_only": false
    }
   },
   "source": [
    "## DeMorgan's Law works\n",
    "\n",
    "The same machine, when obtained through two routes, turn out to be isomorphic when minimized\n"
   ]
  },
  {
   "cell_type": "code",
   "execution_count": 68,
   "metadata": {
    "run_control": {
     "frozen": false,
     "read_only": false
    }
   },
   "outputs": [
    {
     "data": {
      "text/plain": [
       "True"
      ]
     },
     "execution_count": 68,
     "metadata": {},
     "output_type": "execute_result"
    }
   ],
   "source": [
    "iso_dfa(MinC_CdfaOdd1sORCends0101, Minodd1sANDends0101)"
   ]
  },
  {
   "cell_type": "markdown",
   "metadata": {
    "run_control": {
     "frozen": false,
     "read_only": false
    }
   },
   "source": [
    "# These are some examples from the book"
   ]
  },
  {
   "cell_type": "code",
   "execution_count": 69,
   "metadata": {
    "run_control": {
     "frozen": false,
     "read_only": false
    }
   },
   "outputs": [],
   "source": [
    "blimp = md2mc('''\n",
    "DFA \n",
    "I1 : a -> F2\n",
    "I1 : b -> F3\n",
    "F2 : a -> S8\n",
    "F2 : b -> S5\n",
    "F3 : a -> S7\n",
    "F3 : b -> S4\n",
    "S4 : a | b -> F6\n",
    "S5 : a | b -> F6\n",
    "F6 : a | b -> F6\n",
    "S7 : a | b -> F6\n",
    "S8 : a -> F6\n",
    "S8 : b -> F9\n",
    "F9 : a -> F9\n",
    "F9 : b -> F6\n",
    "''')"
   ]
  },
  {
   "cell_type": "code",
   "execution_count": 70,
   "metadata": {
    "run_control": {
     "frozen": false,
     "read_only": false
    }
   },
   "outputs": [],
   "source": [
    "dblimp = dotObj_dfa(blimp)"
   ]
  },
  {
   "cell_type": "code",
   "execution_count": 71,
   "metadata": {
    "run_control": {
     "frozen": false,
     "read_only": false
    }
   },
   "outputs": [
    {
     "data": {
      "image/svg+xml": [
       "<?xml version=\"1.0\" encoding=\"UTF-8\" standalone=\"no\"?>\n",
       "<!DOCTYPE svg PUBLIC \"-//W3C//DTD SVG 1.1//EN\"\n",
       " \"http://www.w3.org/Graphics/SVG/1.1/DTD/svg11.dtd\">\n",
       "<!-- Generated by graphviz version 2.38.0 (20140413.2041)\n",
       " -->\n",
       "<!-- Title: %3 Pages: 1 -->\n",
       "<svg width=\"493pt\" height=\"318pt\"\n",
       " viewBox=\"0.00 0.00 493.00 318.45\" xmlns=\"http://www.w3.org/2000/svg\" xmlns:xlink=\"http://www.w3.org/1999/xlink\">\n",
       "<g id=\"graph0\" class=\"graph\" transform=\"scale(1 1) rotate(0) translate(4 314.447)\">\n",
       "<title>%3</title>\n",
       "<polygon fill=\"white\" stroke=\"none\" points=\"-4,4 -4,-314.447 489.003,-314.447 489.003,4 -4,4\"/>\n",
       "<!-- EMPTY -->\n",
       "<g id=\"node1\" class=\"node\"><title>EMPTY</title>\n",
       "</g>\n",
       "<!-- I1 -->\n",
       "<g id=\"node4\" class=\"node\"><title>I1</title>\n",
       "<ellipse fill=\"none\" stroke=\"black\" cx=\"109\" cy=\"-173.447\" rx=\"18\" ry=\"18\"/>\n",
       "<text text-anchor=\"middle\" x=\"109\" y=\"-169.247\" font-family=\"Times,serif\" font-size=\"14.00\">I1</text>\n",
       "</g>\n",
       "<!-- EMPTY&#45;&gt;I1 -->\n",
       "<g id=\"edge1\" class=\"edge\"><title>EMPTY&#45;&gt;I1</title>\n",
       "<path fill=\"none\" stroke=\"black\" d=\"M54.195,-173.447C62.6538,-173.447 72.0513,-173.447 80.5951,-173.447\"/>\n",
       "<polygon fill=\"black\" stroke=\"black\" points=\"80.8257,-176.947 90.8257,-173.447 80.8257,-169.947 80.8257,-176.947\"/>\n",
       "</g>\n",
       "<!-- S8 -->\n",
       "<g id=\"node2\" class=\"node\"><title>S8</title>\n",
       "<ellipse fill=\"none\" stroke=\"black\" cx=\"281.768\" cy=\"-109.447\" rx=\"19.3939\" ry=\"19.3939\"/>\n",
       "<text text-anchor=\"middle\" x=\"281.768\" y=\"-105.247\" font-family=\"Times,serif\" font-size=\"14.00\">S8</text>\n",
       "</g>\n",
       "<!-- F6 -->\n",
       "<g id=\"node7\" class=\"node\"><title>F6</title>\n",
       "<ellipse fill=\"none\" stroke=\"black\" cx=\"461.556\" cy=\"-187.447\" rx=\"19.4029\" ry=\"19.4029\"/>\n",
       "<ellipse fill=\"none\" stroke=\"black\" cx=\"461.556\" cy=\"-187.447\" rx=\"23.3939\" ry=\"23.3939\"/>\n",
       "<text text-anchor=\"middle\" x=\"461.556\" y=\"-183.247\" font-family=\"Times,serif\" font-size=\"14.00\">F6</text>\n",
       "</g>\n",
       "<!-- S8&#45;&gt;F6 -->\n",
       "<g id=\"edge16\" class=\"edge\"><title>S8&#45;&gt;F6</title>\n",
       "<path fill=\"none\" stroke=\"black\" d=\"M298.888,-118.8C311.963,-126.207 330.985,-136.58 348.215,-144.447 375.189,-156.763 406.8,-168.645 429.607,-176.786\"/>\n",
       "<polygon fill=\"black\" stroke=\"black\" points=\"428.515,-180.112 439.11,-180.143 430.847,-173.512 428.515,-180.112\"/>\n",
       "<text text-anchor=\"middle\" x=\"371.662\" y=\"-167.247\" font-family=\"Times,serif\" font-size=\"14.00\">a</text>\n",
       "</g>\n",
       "<!-- F9 -->\n",
       "<g id=\"node8\" class=\"node\"><title>F9</title>\n",
       "<ellipse fill=\"none\" stroke=\"black\" cx=\"371.662\" cy=\"-80.4469\" rx=\"19.4029\" ry=\"19.4029\"/>\n",
       "<ellipse fill=\"none\" stroke=\"black\" cx=\"371.662\" cy=\"-80.4469\" rx=\"23.3939\" ry=\"23.3939\"/>\n",
       "<text text-anchor=\"middle\" x=\"371.662\" y=\"-76.2469\" font-family=\"Times,serif\" font-size=\"14.00\">F9</text>\n",
       "</g>\n",
       "<!-- S8&#45;&gt;F9 -->\n",
       "<g id=\"edge17\" class=\"edge\"><title>S8&#45;&gt;F9</title>\n",
       "<path fill=\"none\" stroke=\"black\" d=\"M300.555,-103.578C311.747,-99.8854 326.499,-95.0182 339.582,-90.7015\"/>\n",
       "<polygon fill=\"black\" stroke=\"black\" points=\"340.775,-93.9935 349.175,-87.5364 338.582,-87.346 340.775,-93.9935\"/>\n",
       "<text text-anchor=\"middle\" x=\"326.715\" y=\"-99.2469\" font-family=\"Times,serif\" font-size=\"14.00\">b</text>\n",
       "</g>\n",
       "<!-- S4 -->\n",
       "<g id=\"node3\" class=\"node\"><title>S4</title>\n",
       "<ellipse fill=\"none\" stroke=\"black\" cx=\"371.662\" cy=\"-279.447\" rx=\"19.3939\" ry=\"19.3939\"/>\n",
       "<text text-anchor=\"middle\" x=\"371.662\" y=\"-275.247\" font-family=\"Times,serif\" font-size=\"14.00\">S4</text>\n",
       "</g>\n",
       "<!-- S4&#45;&gt;F6 -->\n",
       "<g id=\"edge8\" class=\"edge\"><title>S4&#45;&gt;F6</title>\n",
       "<path fill=\"none\" stroke=\"black\" d=\"M388.261,-290.403C398.075,-295.833 410.631,-299.975 420.109,-293.447 443.529,-277.316 453.397,-245.666 457.55,-221.131\"/>\n",
       "<polygon fill=\"black\" stroke=\"black\" points=\"461.031,-221.517 459.003,-211.118 454.103,-220.512 461.031,-221.517\"/>\n",
       "<text text-anchor=\"middle\" x=\"416.609\" y=\"-299.247\" font-family=\"Times,serif\" font-size=\"14.00\">a</text>\n",
       "</g>\n",
       "<!-- S4&#45;&gt;F6 -->\n",
       "<g id=\"edge9\" class=\"edge\"><title>S4&#45;&gt;F6</title>\n",
       "<path fill=\"none\" stroke=\"black\" d=\"M387.901,-267.943C397.572,-260.326 410.103,-249.854 420.109,-239.447 427.481,-231.779 434.834,-222.82 441.21,-214.519\"/>\n",
       "<polygon fill=\"black\" stroke=\"black\" points=\"444.018,-216.609 447.224,-206.511 438.421,-212.405 444.018,-216.609\"/>\n",
       "<text text-anchor=\"middle\" x=\"416.609\" y=\"-248.247\" font-family=\"Times,serif\" font-size=\"14.00\">b</text>\n",
       "</g>\n",
       "<!-- F3 -->\n",
       "<g id=\"node9\" class=\"node\"><title>F3</title>\n",
       "<ellipse fill=\"none\" stroke=\"black\" cx=\"281.768\" cy=\"-222.447\" rx=\"19.4029\" ry=\"19.4029\"/>\n",
       "<ellipse fill=\"none\" stroke=\"black\" cx=\"281.768\" cy=\"-222.447\" rx=\"23.3939\" ry=\"23.3939\"/>\n",
       "<text text-anchor=\"middle\" x=\"281.768\" y=\"-218.247\" font-family=\"Times,serif\" font-size=\"14.00\">F3</text>\n",
       "</g>\n",
       "<!-- I1&#45;&gt;F3 -->\n",
       "<g id=\"edge3\" class=\"edge\"><title>I1&#45;&gt;F3</title>\n",
       "<path fill=\"none\" stroke=\"black\" d=\"M126.685,-178.234C154.947,-186.344 212.69,-202.912 248.905,-213.304\"/>\n",
       "<polygon fill=\"black\" stroke=\"black\" points=\"248.375,-216.793 258.952,-216.187 250.305,-210.065 248.375,-216.793\"/>\n",
       "<text text-anchor=\"middle\" x=\"192.661\" y=\"-207.247\" font-family=\"Times,serif\" font-size=\"14.00\">b</text>\n",
       "</g>\n",
       "<!-- F2 -->\n",
       "<g id=\"node10\" class=\"node\"><title>F2</title>\n",
       "<ellipse fill=\"none\" stroke=\"black\" cx=\"192.661\" cy=\"-109.447\" rx=\"19.4029\" ry=\"19.4029\"/>\n",
       "<ellipse fill=\"none\" stroke=\"black\" cx=\"192.661\" cy=\"-109.447\" rx=\"23.3939\" ry=\"23.3939\"/>\n",
       "<text text-anchor=\"middle\" x=\"192.661\" y=\"-105.247\" font-family=\"Times,serif\" font-size=\"14.00\">F2</text>\n",
       "</g>\n",
       "<!-- I1&#45;&gt;F2 -->\n",
       "<g id=\"edge2\" class=\"edge\"><title>I1&#45;&gt;F2</title>\n",
       "<path fill=\"none\" stroke=\"black\" d=\"M123.853,-162.59C135.233,-153.671 151.674,-140.785 165.517,-129.936\"/>\n",
       "<polygon fill=\"black\" stroke=\"black\" points=\"168.02,-132.421 173.732,-123.498 163.702,-126.912 168.02,-132.421\"/>\n",
       "<text text-anchor=\"middle\" x=\"148.107\" y=\"-148.247\" font-family=\"Times,serif\" font-size=\"14.00\">a</text>\n",
       "</g>\n",
       "<!-- S5 -->\n",
       "<g id=\"node5\" class=\"node\"><title>S5</title>\n",
       "<ellipse fill=\"none\" stroke=\"black\" cx=\"371.662\" cy=\"-19.4469\" rx=\"19.3939\" ry=\"19.3939\"/>\n",
       "<text text-anchor=\"middle\" x=\"371.662\" y=\"-15.2469\" font-family=\"Times,serif\" font-size=\"14.00\">S5</text>\n",
       "</g>\n",
       "<!-- S5&#45;&gt;F6 -->\n",
       "<g id=\"edge10\" class=\"edge\"><title>S5&#45;&gt;F6</title>\n",
       "<path fill=\"none\" stroke=\"black\" d=\"M384.962,-34.0498C388.454,-38.5249 392.117,-43.56 395.109,-48.4469 416.662,-83.6505 436.074,-127.087 448.056,-155.938\"/>\n",
       "<polygon fill=\"black\" stroke=\"black\" points=\"444.944,-157.573 451.976,-165.498 451.42,-154.918 444.944,-157.573\"/>\n",
       "<text text-anchor=\"middle\" x=\"416.609\" y=\"-96.2469\" font-family=\"Times,serif\" font-size=\"14.00\">a</text>\n",
       "</g>\n",
       "<!-- S5&#45;&gt;F6 -->\n",
       "<g id=\"edge11\" class=\"edge\"><title>S5&#45;&gt;F6</title>\n",
       "<path fill=\"none\" stroke=\"black\" d=\"M387.819,-30.5222C398.209,-38.8215 411.602,-51.021 420.109,-64.4469 437.663,-92.1504 448.345,-128.227 454.287,-154.135\"/>\n",
       "<polygon fill=\"black\" stroke=\"black\" points=\"450.934,-155.188 456.479,-164.216 457.775,-153.701 450.934,-155.188\"/>\n",
       "<text text-anchor=\"middle\" x=\"416.609\" y=\"-67.2469\" font-family=\"Times,serif\" font-size=\"14.00\">b</text>\n",
       "</g>\n",
       "<!-- S7 -->\n",
       "<g id=\"node6\" class=\"node\"><title>S7</title>\n",
       "<ellipse fill=\"none\" stroke=\"black\" cx=\"371.662\" cy=\"-222.447\" rx=\"19.3939\" ry=\"19.3939\"/>\n",
       "<text text-anchor=\"middle\" x=\"371.662\" y=\"-218.247\" font-family=\"Times,serif\" font-size=\"14.00\">S7</text>\n",
       "</g>\n",
       "<!-- S7&#45;&gt;F6 -->\n",
       "<g id=\"edge14\" class=\"edge\"><title>S7&#45;&gt;F6</title>\n",
       "<path fill=\"none\" stroke=\"black\" d=\"M391.233,-223.812C400.224,-223.844 411.015,-222.935 420.109,-219.447 425.786,-217.269 431.297,-213.996 436.331,-210.36\"/>\n",
       "<polygon fill=\"black\" stroke=\"black\" points=\"438.645,-212.992 444.297,-204.031 434.29,-207.511 438.645,-212.992\"/>\n",
       "<text text-anchor=\"middle\" x=\"416.609\" y=\"-224.247\" font-family=\"Times,serif\" font-size=\"14.00\">a</text>\n",
       "</g>\n",
       "<!-- S7&#45;&gt;F6 -->\n",
       "<g id=\"edge15\" class=\"edge\"><title>S7&#45;&gt;F6</title>\n",
       "<path fill=\"none\" stroke=\"black\" d=\"M388.855,-213.131C396.12,-209.191 404.889,-204.758 413.109,-201.447 418.061,-199.452 423.405,-197.601 428.659,-195.941\"/>\n",
       "<polygon fill=\"black\" stroke=\"black\" points=\"429.943,-199.21 438.525,-192.997 427.942,-192.503 429.943,-199.21\"/>\n",
       "<text text-anchor=\"middle\" x=\"416.609\" y=\"-204.247\" font-family=\"Times,serif\" font-size=\"14.00\">b</text>\n",
       "</g>\n",
       "<!-- F6&#45;&gt;F6 -->\n",
       "<g id=\"edge12\" class=\"edge\"><title>F6&#45;&gt;F6</title>\n",
       "<path fill=\"none\" stroke=\"black\" d=\"M457.467,-210.881C457.185,-220.63 458.548,-228.894 461.556,-228.894 463.389,-228.894 464.611,-225.825 465.222,-221.222\"/>\n",
       "<polygon fill=\"black\" stroke=\"black\" points=\"468.733,-221.016 465.645,-210.881 461.739,-220.73 468.733,-221.016\"/>\n",
       "<text text-anchor=\"middle\" x=\"461.556\" y=\"-231.694\" font-family=\"Times,serif\" font-size=\"14.00\">a</text>\n",
       "</g>\n",
       "<!-- F6&#45;&gt;F6 -->\n",
       "<g id=\"edge13\" class=\"edge\"><title>F6&#45;&gt;F6</title>\n",
       "<path fill=\"none\" stroke=\"black\" d=\"M454.466,-210.015C451.63,-228.162 453.993,-246.894 461.556,-246.894 467.7,-246.894 470.413,-234.528 469.693,-220.157\"/>\n",
       "<polygon fill=\"black\" stroke=\"black\" points=\"473.154,-219.603 468.646,-210.015 466.191,-220.322 473.154,-219.603\"/>\n",
       "<text text-anchor=\"middle\" x=\"461.556\" y=\"-249.694\" font-family=\"Times,serif\" font-size=\"14.00\">b</text>\n",
       "</g>\n",
       "<!-- F9&#45;&gt;F6 -->\n",
       "<g id=\"edge19\" class=\"edge\"><title>F9&#45;&gt;F6</title>\n",
       "<path fill=\"none\" stroke=\"black\" d=\"M387.176,-98.1157C401.426,-115.463 423.316,-142.112 439.482,-161.792\"/>\n",
       "<polygon fill=\"black\" stroke=\"black\" points=\"436.968,-164.246 446.02,-169.752 442.377,-159.803 436.968,-164.246\"/>\n",
       "<text text-anchor=\"middle\" x=\"416.609\" y=\"-140.247\" font-family=\"Times,serif\" font-size=\"14.00\">b</text>\n",
       "</g>\n",
       "<!-- F9&#45;&gt;F9 -->\n",
       "<g id=\"edge18\" class=\"edge\"><title>F9&#45;&gt;F9</title>\n",
       "<path fill=\"none\" stroke=\"black\" d=\"M363.575,-102.62C362.693,-112.906 365.389,-121.894 371.662,-121.894 375.681,-121.894 378.232,-118.205 379.314,-112.85\"/>\n",
       "<polygon fill=\"black\" stroke=\"black\" points=\"382.821,-112.76 379.749,-102.62 375.827,-112.463 382.821,-112.76\"/>\n",
       "<text text-anchor=\"middle\" x=\"371.662\" y=\"-124.694\" font-family=\"Times,serif\" font-size=\"14.00\">a</text>\n",
       "</g>\n",
       "<!-- F3&#45;&gt;S4 -->\n",
       "<g id=\"edge7\" class=\"edge\"><title>F3&#45;&gt;S4</title>\n",
       "<path fill=\"none\" stroke=\"black\" d=\"M301.84,-234.815C314.845,-243.249 332.183,-254.493 346.203,-263.585\"/>\n",
       "<polygon fill=\"black\" stroke=\"black\" points=\"344.563,-266.693 354.858,-269.198 348.372,-260.82 344.563,-266.693\"/>\n",
       "<text text-anchor=\"middle\" x=\"326.715\" y=\"-256.247\" font-family=\"Times,serif\" font-size=\"14.00\">b</text>\n",
       "</g>\n",
       "<!-- F3&#45;&gt;S7 -->\n",
       "<g id=\"edge6\" class=\"edge\"><title>F3&#45;&gt;S7</title>\n",
       "<path fill=\"none\" stroke=\"black\" d=\"M305.403,-222.447C316.463,-222.447 329.899,-222.447 341.698,-222.447\"/>\n",
       "<polygon fill=\"black\" stroke=\"black\" points=\"341.958,-225.947 351.958,-222.447 341.958,-218.947 341.958,-225.947\"/>\n",
       "<text text-anchor=\"middle\" x=\"326.715\" y=\"-225.247\" font-family=\"Times,serif\" font-size=\"14.00\">a</text>\n",
       "</g>\n",
       "<!-- F2&#45;&gt;S8 -->\n",
       "<g id=\"edge4\" class=\"edge\"><title>F2&#45;&gt;S8</title>\n",
       "<path fill=\"none\" stroke=\"black\" d=\"M216.547,-109.447C227.43,-109.447 240.555,-109.447 252.095,-109.447\"/>\n",
       "<polygon fill=\"black\" stroke=\"black\" points=\"252.138,-112.947 262.138,-109.447 252.138,-105.947 252.138,-112.947\"/>\n",
       "<text text-anchor=\"middle\" x=\"237.215\" y=\"-112.247\" font-family=\"Times,serif\" font-size=\"14.00\">a</text>\n",
       "</g>\n",
       "<!-- F2&#45;&gt;S5 -->\n",
       "<g id=\"edge5\" class=\"edge\"><title>F2&#45;&gt;S5</title>\n",
       "<path fill=\"none\" stroke=\"black\" d=\"M212.097,-96.2521C224.759,-87.4981 242.14,-76.0764 258.321,-67.4469 286.524,-52.4068 320.452,-38.4404 343.592,-29.4956\"/>\n",
       "<polygon fill=\"black\" stroke=\"black\" points=\"345.007,-32.7019 353.102,-25.8672 342.512,-26.1617 345.007,-32.7019\"/>\n",
       "<text text-anchor=\"middle\" x=\"281.768\" y=\"-70.2469\" font-family=\"Times,serif\" font-size=\"14.00\">b</text>\n",
       "</g>\n",
       "</g>\n",
       "</svg>\n"
      ],
      "text/plain": [
       "<graphviz.dot.Digraph at 0x1065a9c50>"
      ]
     },
     "execution_count": 71,
     "metadata": {},
     "output_type": "execute_result"
    }
   ],
   "source": [
    "dblimp"
   ]
  },
  {
   "cell_type": "code",
   "execution_count": 72,
   "metadata": {
    "run_control": {
     "frozen": false,
     "read_only": false
    }
   },
   "outputs": [],
   "source": [
    "dblimp = dotObj_dfa(blimp, FuseEdges=True)"
   ]
  },
  {
   "cell_type": "code",
   "execution_count": 73,
   "metadata": {
    "run_control": {
     "frozen": false,
     "read_only": false
    }
   },
   "outputs": [
    {
     "data": {
      "image/svg+xml": [
       "<?xml version=\"1.0\" encoding=\"UTF-8\" standalone=\"no\"?>\n",
       "<!DOCTYPE svg PUBLIC \"-//W3C//DTD SVG 1.1//EN\"\n",
       " \"http://www.w3.org/Graphics/SVG/1.1/DTD/svg11.dtd\">\n",
       "<!-- Generated by graphviz version 2.38.0 (20140413.2041)\n",
       " -->\n",
       "<!-- Title: %3 Pages: 1 -->\n",
       "<svg width=\"529pt\" height=\"302pt\"\n",
       " viewBox=\"0.00 0.00 529.18 301.89\" xmlns=\"http://www.w3.org/2000/svg\" xmlns:xlink=\"http://www.w3.org/1999/xlink\">\n",
       "<g id=\"graph0\" class=\"graph\" transform=\"scale(1 1) rotate(0) translate(4 297.894)\">\n",
       "<title>%3</title>\n",
       "<polygon fill=\"white\" stroke=\"none\" points=\"-4,4 -4,-297.894 525.183,-297.894 525.183,4 -4,4\"/>\n",
       "<!-- EMPTY -->\n",
       "<g id=\"node1\" class=\"node\"><title>EMPTY</title>\n",
       "</g>\n",
       "<!-- I1 -->\n",
       "<g id=\"node4\" class=\"node\"><title>I1</title>\n",
       "<ellipse fill=\"none\" stroke=\"black\" cx=\"109\" cy=\"-177.447\" rx=\"18\" ry=\"18\"/>\n",
       "<text text-anchor=\"middle\" x=\"109\" y=\"-173.247\" font-family=\"Times,serif\" font-size=\"14.00\">I1</text>\n",
       "</g>\n",
       "<!-- EMPTY&#45;&gt;I1 -->\n",
       "<g id=\"edge1\" class=\"edge\"><title>EMPTY&#45;&gt;I1</title>\n",
       "<path fill=\"none\" stroke=\"black\" d=\"M54.195,-177.447C62.6538,-177.447 72.0513,-177.447 80.5951,-177.447\"/>\n",
       "<polygon fill=\"black\" stroke=\"black\" points=\"80.8257,-180.947 90.8257,-177.447 80.8257,-173.947 80.8257,-180.947\"/>\n",
       "</g>\n",
       "<!-- S8 -->\n",
       "<g id=\"node2\" class=\"node\"><title>S8</title>\n",
       "<ellipse fill=\"none\" stroke=\"black\" cx=\"282.554\" cy=\"-130.447\" rx=\"19.3939\" ry=\"19.3939\"/>\n",
       "<text text-anchor=\"middle\" x=\"282.554\" y=\"-126.247\" font-family=\"Times,serif\" font-size=\"14.00\">S8</text>\n",
       "</g>\n",
       "<!-- F6 -->\n",
       "<g id=\"node7\" class=\"node\"><title>F6</title>\n",
       "<ellipse fill=\"none\" stroke=\"black\" cx=\"497.736\" cy=\"-166.447\" rx=\"19.4029\" ry=\"19.4029\"/>\n",
       "<ellipse fill=\"none\" stroke=\"black\" cx=\"497.736\" cy=\"-166.447\" rx=\"23.3939\" ry=\"23.3939\"/>\n",
       "<text text-anchor=\"middle\" x=\"497.736\" y=\"-162.247\" font-family=\"Times,serif\" font-size=\"14.00\">F6</text>\n",
       "</g>\n",
       "<!-- S8&#45;&gt;F6 -->\n",
       "<g id=\"edge12\" class=\"edge\"><title>S8&#45;&gt;F6</title>\n",
       "<path fill=\"none\" stroke=\"black\" d=\"M302.1,-133.579C338.376,-139.705 419.122,-153.34 464.385,-160.984\"/>\n",
       "<polygon fill=\"black\" stroke=\"black\" points=\"463.836,-164.441 474.279,-162.655 465.001,-157.538 463.836,-164.441\"/>\n",
       "<text text-anchor=\"middle\" x=\"404.342\" y=\"-157.247\" font-family=\"Times,serif\" font-size=\"14.00\">a</text>\n",
       "</g>\n",
       "<!-- F9 -->\n",
       "<g id=\"node8\" class=\"node\"><title>F9</title>\n",
       "<ellipse fill=\"none\" stroke=\"black\" cx=\"404.342\" cy=\"-75.4469\" rx=\"19.4029\" ry=\"19.4029\"/>\n",
       "<ellipse fill=\"none\" stroke=\"black\" cx=\"404.342\" cy=\"-75.4469\" rx=\"23.3939\" ry=\"23.3939\"/>\n",
       "<text text-anchor=\"middle\" x=\"404.342\" y=\"-71.2469\" font-family=\"Times,serif\" font-size=\"14.00\">F9</text>\n",
       "</g>\n",
       "<!-- S8&#45;&gt;F9 -->\n",
       "<g id=\"edge13\" class=\"edge\"><title>S8&#45;&gt;F9</title>\n",
       "<path fill=\"none\" stroke=\"black\" d=\"M300.463,-122.683C319.311,-114.03 350.161,-99.8647 373.171,-89.2997\"/>\n",
       "<polygon fill=\"black\" stroke=\"black\" points=\"374.867,-92.3722 382.495,-85.0188 371.946,-86.0107 374.867,-92.3722\"/>\n",
       "<text text-anchor=\"middle\" x=\"343.448\" y=\"-114.247\" font-family=\"Times,serif\" font-size=\"14.00\">b</text>\n",
       "</g>\n",
       "<!-- S4 -->\n",
       "<g id=\"node3\" class=\"node\"><title>S4</title>\n",
       "<ellipse fill=\"none\" stroke=\"black\" cx=\"404.342\" cy=\"-274.447\" rx=\"19.3939\" ry=\"19.3939\"/>\n",
       "<text text-anchor=\"middle\" x=\"404.342\" y=\"-270.247\" font-family=\"Times,serif\" font-size=\"14.00\">S4</text>\n",
       "</g>\n",
       "<!-- S4&#45;&gt;F6 -->\n",
       "<g id=\"edge8\" class=\"edge\"><title>S4&#45;&gt;F6</title>\n",
       "<path fill=\"none\" stroke=\"black\" d=\"M420.007,-262.193C430.664,-252.929 445.117,-239.599 456.289,-226.447 464.592,-216.672 472.705,-205.151 479.46,-194.831\"/>\n",
       "<polygon fill=\"black\" stroke=\"black\" points=\"482.575,-196.455 485.016,-186.145 476.679,-192.683 482.575,-196.455\"/>\n",
       "<text text-anchor=\"middle\" x=\"451.039\" y=\"-255.247\" font-family=\"Times,serif\" font-size=\"14.00\">a </text>\n",
       "<text text-anchor=\"middle\" x=\"451.039\" y=\"-241.247\" font-family=\"Times,serif\" font-size=\"14.00\"> b</text>\n",
       "</g>\n",
       "<!-- F3 -->\n",
       "<g id=\"node9\" class=\"node\"><title>F3</title>\n",
       "<ellipse fill=\"none\" stroke=\"black\" cx=\"282.554\" cy=\"-217.447\" rx=\"19.4029\" ry=\"19.4029\"/>\n",
       "<ellipse fill=\"none\" stroke=\"black\" cx=\"282.554\" cy=\"-217.447\" rx=\"23.3939\" ry=\"23.3939\"/>\n",
       "<text text-anchor=\"middle\" x=\"282.554\" y=\"-213.247\" font-family=\"Times,serif\" font-size=\"14.00\">F3</text>\n",
       "</g>\n",
       "<!-- I1&#45;&gt;F3 -->\n",
       "<g id=\"edge3\" class=\"edge\"><title>I1&#45;&gt;F3</title>\n",
       "<path fill=\"none\" stroke=\"black\" d=\"M126.762,-181.355C155.154,-187.975 213.162,-201.5 249.545,-209.983\"/>\n",
       "<polygon fill=\"black\" stroke=\"black\" points=\"249.104,-213.474 259.638,-212.337 250.694,-206.657 249.104,-213.474\"/>\n",
       "<text text-anchor=\"middle\" x=\"192.661\" y=\"-205.247\" font-family=\"Times,serif\" font-size=\"14.00\">b</text>\n",
       "</g>\n",
       "<!-- F2 -->\n",
       "<g id=\"node10\" class=\"node\"><title>F2</title>\n",
       "<ellipse fill=\"none\" stroke=\"black\" cx=\"192.661\" cy=\"-130.447\" rx=\"19.4029\" ry=\"19.4029\"/>\n",
       "<ellipse fill=\"none\" stroke=\"black\" cx=\"192.661\" cy=\"-130.447\" rx=\"23.3939\" ry=\"23.3939\"/>\n",
       "<text text-anchor=\"middle\" x=\"192.661\" y=\"-126.247\" font-family=\"Times,serif\" font-size=\"14.00\">F2</text>\n",
       "</g>\n",
       "<!-- I1&#45;&gt;F2 -->\n",
       "<g id=\"edge2\" class=\"edge\"><title>I1&#45;&gt;F2</title>\n",
       "<path fill=\"none\" stroke=\"black\" d=\"M124.978,-168.826C135.575,-162.727 150.118,-154.357 162.919,-146.989\"/>\n",
       "<polygon fill=\"black\" stroke=\"black\" points=\"164.93,-149.87 171.851,-141.849 161.438,-143.804 164.93,-149.87\"/>\n",
       "<text text-anchor=\"middle\" x=\"148.107\" y=\"-160.247\" font-family=\"Times,serif\" font-size=\"14.00\">a</text>\n",
       "</g>\n",
       "<!-- S5 -->\n",
       "<g id=\"node5\" class=\"node\"><title>S5</title>\n",
       "<ellipse fill=\"none\" stroke=\"black\" cx=\"343.448\" cy=\"-19.4469\" rx=\"19.3939\" ry=\"19.3939\"/>\n",
       "<text text-anchor=\"middle\" x=\"343.448\" y=\"-15.2469\" font-family=\"Times,serif\" font-size=\"14.00\">S5</text>\n",
       "</g>\n",
       "<!-- S5&#45;&gt;F6 -->\n",
       "<g id=\"edge9\" class=\"edge\"><title>S5&#45;&gt;F6</title>\n",
       "<path fill=\"none\" stroke=\"black\" d=\"M361.921,-13.0931C379.918,-7.73119 408.048,-2.75923 427.789,-15.4469 468.058,-41.3282 485.097,-97.1941 492.098,-133.238\"/>\n",
       "<polygon fill=\"black\" stroke=\"black\" points=\"488.688,-134.055 493.89,-143.285 495.579,-132.825 488.688,-134.055\"/>\n",
       "<text text-anchor=\"middle\" x=\"404.342\" y=\"-32.2469\" font-family=\"Times,serif\" font-size=\"14.00\">a </text>\n",
       "<text text-anchor=\"middle\" x=\"404.342\" y=\"-18.2469\" font-family=\"Times,serif\" font-size=\"14.00\"> b</text>\n",
       "</g>\n",
       "<!-- S7 -->\n",
       "<g id=\"node6\" class=\"node\"><title>S7</title>\n",
       "<ellipse fill=\"none\" stroke=\"black\" cx=\"404.342\" cy=\"-217.447\" rx=\"19.3939\" ry=\"19.3939\"/>\n",
       "<text text-anchor=\"middle\" x=\"404.342\" y=\"-213.247\" font-family=\"Times,serif\" font-size=\"14.00\">S7</text>\n",
       "</g>\n",
       "<!-- S7&#45;&gt;F6 -->\n",
       "<g id=\"edge11\" class=\"edge\"><title>S7&#45;&gt;F6</title>\n",
       "<path fill=\"none\" stroke=\"black\" d=\"M421.681,-208.329C434.437,-201.211 452.485,-191.14 467.686,-182.657\"/>\n",
       "<polygon fill=\"black\" stroke=\"black\" points=\"469.684,-185.551 476.711,-177.621 466.273,-179.438 469.684,-185.551\"/>\n",
       "<text text-anchor=\"middle\" x=\"451.039\" y=\"-211.247\" font-family=\"Times,serif\" font-size=\"14.00\">a </text>\n",
       "<text text-anchor=\"middle\" x=\"451.039\" y=\"-197.247\" font-family=\"Times,serif\" font-size=\"14.00\"> b</text>\n",
       "</g>\n",
       "<!-- F6&#45;&gt;F6 -->\n",
       "<g id=\"edge10\" class=\"edge\"><title>F6&#45;&gt;F6</title>\n",
       "<path fill=\"none\" stroke=\"black\" d=\"M489.281,-188.62C488.359,-198.906 491.177,-207.894 497.736,-207.894 501.937,-207.894 504.604,-204.205 505.735,-198.85\"/>\n",
       "<polygon fill=\"black\" stroke=\"black\" points=\"509.242,-198.766 506.19,-188.62 502.249,-198.455 509.242,-198.766\"/>\n",
       "<text text-anchor=\"middle\" x=\"497.736\" y=\"-224.694\" font-family=\"Times,serif\" font-size=\"14.00\">a </text>\n",
       "<text text-anchor=\"middle\" x=\"497.736\" y=\"-210.694\" font-family=\"Times,serif\" font-size=\"14.00\"> b</text>\n",
       "</g>\n",
       "<!-- F9&#45;&gt;F6 -->\n",
       "<g id=\"edge15\" class=\"edge\"><title>F9&#45;&gt;F6</title>\n",
       "<path fill=\"none\" stroke=\"black\" d=\"M421.681,-91.7158C435.977,-105.95 456.921,-126.804 473.054,-142.868\"/>\n",
       "<polygon fill=\"black\" stroke=\"black\" points=\"470.982,-145.743 480.538,-150.319 475.921,-140.783 470.982,-145.743\"/>\n",
       "<text text-anchor=\"middle\" x=\"451.039\" y=\"-129.247\" font-family=\"Times,serif\" font-size=\"14.00\">b</text>\n",
       "</g>\n",
       "<!-- F9&#45;&gt;F9 -->\n",
       "<g id=\"edge14\" class=\"edge\"><title>F9&#45;&gt;F9</title>\n",
       "<path fill=\"none\" stroke=\"black\" d=\"M395.887,-97.6203C394.965,-107.906 397.783,-116.894 404.342,-116.894 408.544,-116.894 411.21,-113.205 412.341,-107.85\"/>\n",
       "<polygon fill=\"black\" stroke=\"black\" points=\"415.849,-107.766 412.796,-97.6203 408.855,-107.455 415.849,-107.766\"/>\n",
       "<text text-anchor=\"middle\" x=\"404.342\" y=\"-119.694\" font-family=\"Times,serif\" font-size=\"14.00\">a</text>\n",
       "</g>\n",
       "<!-- F3&#45;&gt;S4 -->\n",
       "<g id=\"edge7\" class=\"edge\"><title>F3&#45;&gt;S4</title>\n",
       "<path fill=\"none\" stroke=\"black\" d=\"M304.147,-227.246C324.425,-236.895 355.463,-251.664 377.412,-262.108\"/>\n",
       "<polygon fill=\"black\" stroke=\"black\" points=\"375.961,-265.294 386.495,-266.43 378.969,-258.973 375.961,-265.294\"/>\n",
       "<text text-anchor=\"middle\" x=\"343.448\" y=\"-257.247\" font-family=\"Times,serif\" font-size=\"14.00\">b</text>\n",
       "</g>\n",
       "<!-- F3&#45;&gt;S7 -->\n",
       "<g id=\"edge6\" class=\"edge\"><title>F3&#45;&gt;S7</title>\n",
       "<path fill=\"none\" stroke=\"black\" d=\"M306.086,-217.447C325.477,-217.447 353.568,-217.447 374.58,-217.447\"/>\n",
       "<polygon fill=\"black\" stroke=\"black\" points=\"374.839,-220.947 384.839,-217.447 374.839,-213.947 374.839,-220.947\"/>\n",
       "<text text-anchor=\"middle\" x=\"343.448\" y=\"-220.247\" font-family=\"Times,serif\" font-size=\"14.00\">a</text>\n",
       "</g>\n",
       "<!-- F2&#45;&gt;S8 -->\n",
       "<g id=\"edge4\" class=\"edge\"><title>F2&#45;&gt;S8</title>\n",
       "<path fill=\"none\" stroke=\"black\" d=\"M216.296,-130.447C227.355,-130.447 240.791,-130.447 252.59,-130.447\"/>\n",
       "<polygon fill=\"black\" stroke=\"black\" points=\"252.851,-133.947 262.851,-130.447 252.851,-126.947 252.851,-133.947\"/>\n",
       "<text text-anchor=\"middle\" x=\"237.608\" y=\"-133.247\" font-family=\"Times,serif\" font-size=\"14.00\">a</text>\n",
       "</g>\n",
       "<!-- F2&#45;&gt;S5 -->\n",
       "<g id=\"edge5\" class=\"edge\"><title>F2&#45;&gt;S5</title>\n",
       "<path fill=\"none\" stroke=\"black\" d=\"M211.905,-116.836C238.884,-96.7086 289.419,-59.0081 319.077,-36.8822\"/>\n",
       "<polygon fill=\"black\" stroke=\"black\" points=\"321.285,-39.6021 327.207,-30.8171 317.099,-33.9914 321.285,-39.6021\"/>\n",
       "<text text-anchor=\"middle\" x=\"237.608\" y=\"-103.247\" font-family=\"Times,serif\" font-size=\"14.00\">b</text>\n",
       "</g>\n",
       "</g>\n",
       "</svg>\n"
      ],
      "text/plain": [
       "<graphviz.dot.Digraph at 0x1065b4940>"
      ]
     },
     "execution_count": 73,
     "metadata": {},
     "output_type": "execute_result"
    }
   ],
   "source": [
    "dblimp"
   ]
  },
  {
   "cell_type": "code",
   "execution_count": 74,
   "metadata": {
    "run_control": {
     "frozen": false,
     "read_only": false
    }
   },
   "outputs": [],
   "source": [
    "mblimp = min_dfa(blimp)"
   ]
  },
  {
   "cell_type": "code",
   "execution_count": 75,
   "metadata": {
    "run_control": {
     "frozen": false,
     "read_only": false
    }
   },
   "outputs": [],
   "source": [
    "dmblimp = dotObj_dfa(mblimp)"
   ]
  },
  {
   "cell_type": "code",
   "execution_count": 76,
   "metadata": {
    "run_control": {
     "frozen": false,
     "read_only": false
    }
   },
   "outputs": [
    {
     "data": {
      "image/svg+xml": [
       "<?xml version=\"1.0\" encoding=\"UTF-8\" standalone=\"no\"?>\n",
       "<!DOCTYPE svg PUBLIC \"-//W3C//DTD SVG 1.1//EN\"\n",
       " \"http://www.w3.org/Graphics/SVG/1.1/DTD/svg11.dtd\">\n",
       "<!-- Generated by graphviz version 2.38.0 (20140413.2041)\n",
       " -->\n",
       "<!-- Title: %3 Pages: 1 -->\n",
       "<svg width=\"397pt\" height=\"119pt\"\n",
       " viewBox=\"0.00 0.00 396.68 118.89\" xmlns=\"http://www.w3.org/2000/svg\" xmlns:xlink=\"http://www.w3.org/1999/xlink\">\n",
       "<g id=\"graph0\" class=\"graph\" transform=\"scale(1 1) rotate(0) translate(4 114.894)\">\n",
       "<title>%3</title>\n",
       "<polygon fill=\"white\" stroke=\"none\" points=\"-4,4 -4,-114.894 392.681,-114.894 392.681,4 -4,4\"/>\n",
       "<!-- EMPTY -->\n",
       "<g id=\"node1\" class=\"node\"><title>EMPTY</title>\n",
       "</g>\n",
       "<!-- I1 -->\n",
       "<g id=\"node2\" class=\"node\"><title>I1</title>\n",
       "<ellipse fill=\"none\" stroke=\"black\" cx=\"109\" cy=\"-23.4469\" rx=\"18\" ry=\"18\"/>\n",
       "<text text-anchor=\"middle\" x=\"109\" y=\"-19.2469\" font-family=\"Times,serif\" font-size=\"14.00\">I1</text>\n",
       "</g>\n",
       "<!-- EMPTY&#45;&gt;I1 -->\n",
       "<g id=\"edge1\" class=\"edge\"><title>EMPTY&#45;&gt;I1</title>\n",
       "<path fill=\"none\" stroke=\"black\" d=\"M54.195,-23.4469C62.6538,-23.4469 72.0513,-23.4469 80.5951,-23.4469\"/>\n",
       "<polygon fill=\"black\" stroke=\"black\" points=\"80.8257,-26.947 90.8257,-23.4469 80.8257,-19.947 80.8257,-26.947\"/>\n",
       "</g>\n",
       "<!-- F3 -->\n",
       "<g id=\"node5\" class=\"node\"><title>F3</title>\n",
       "<ellipse fill=\"none\" stroke=\"black\" cx=\"193.447\" cy=\"-23.4469\" rx=\"19.4029\" ry=\"19.4029\"/>\n",
       "<ellipse fill=\"none\" stroke=\"black\" cx=\"193.447\" cy=\"-23.4469\" rx=\"23.3939\" ry=\"23.3939\"/>\n",
       "<text text-anchor=\"middle\" x=\"193.447\" y=\"-19.2469\" font-family=\"Times,serif\" font-size=\"14.00\">F3</text>\n",
       "</g>\n",
       "<!-- I1&#45;&gt;F3 -->\n",
       "<g id=\"edge2\" class=\"edge\"><title>I1&#45;&gt;F3</title>\n",
       "<path fill=\"none\" stroke=\"black\" d=\"M127.083,-23.4469C136.448,-23.4469 148.379,-23.4469 159.478,-23.4469\"/>\n",
       "<polygon fill=\"black\" stroke=\"black\" points=\"159.753,-26.947 169.753,-23.4469 159.753,-19.947 159.753,-26.947\"/>\n",
       "<text text-anchor=\"middle\" x=\"148.5\" y=\"-26.2469\" font-family=\"Times,serif\" font-size=\"14.00\">a</text>\n",
       "</g>\n",
       "<!-- I1&#45;&gt;F3 -->\n",
       "<g id=\"edge3\" class=\"edge\"><title>I1&#45;&gt;F3</title>\n",
       "<path fill=\"none\" stroke=\"black\" d=\"M124.717,-13.9046C130.75,-10.5299 137.96,-7.15095 145,-5.44687 151.294,-3.92333 157.885,-4.75841 164.083,-6.72333\"/>\n",
       "<polygon fill=\"black\" stroke=\"black\" points=\"162.823,-9.98936 173.402,-10.5645 165.49,-3.5176 162.823,-9.98936\"/>\n",
       "<text text-anchor=\"middle\" x=\"148.5\" y=\"-8.24687\" font-family=\"Times,serif\" font-size=\"14.00\">b</text>\n",
       "</g>\n",
       "<!-- S5 -->\n",
       "<g id=\"node3\" class=\"node\"><title>S5</title>\n",
       "<ellipse fill=\"none\" stroke=\"black\" cx=\"279.341\" cy=\"-23.4469\" rx=\"19.3939\" ry=\"19.3939\"/>\n",
       "<text text-anchor=\"middle\" x=\"279.341\" y=\"-19.2469\" font-family=\"Times,serif\" font-size=\"14.00\">S5</text>\n",
       "</g>\n",
       "<!-- F6 -->\n",
       "<g id=\"node4\" class=\"node\"><title>F6</title>\n",
       "<ellipse fill=\"none\" stroke=\"black\" cx=\"365.234\" cy=\"-23.4469\" rx=\"19.4029\" ry=\"19.4029\"/>\n",
       "<ellipse fill=\"none\" stroke=\"black\" cx=\"365.234\" cy=\"-23.4469\" rx=\"23.3939\" ry=\"23.3939\"/>\n",
       "<text text-anchor=\"middle\" x=\"365.234\" y=\"-19.2469\" font-family=\"Times,serif\" font-size=\"14.00\">F6</text>\n",
       "</g>\n",
       "<!-- S5&#45;&gt;F6 -->\n",
       "<g id=\"edge6\" class=\"edge\"><title>S5&#45;&gt;F6</title>\n",
       "<path fill=\"none\" stroke=\"black\" d=\"M298.959,-23.4469C308.471,-23.4469 320.328,-23.4469 331.318,-23.4469\"/>\n",
       "<polygon fill=\"black\" stroke=\"black\" points=\"331.483,-26.947 341.483,-23.4469 331.483,-19.947 331.483,-26.947\"/>\n",
       "<text text-anchor=\"middle\" x=\"320.287\" y=\"-26.2469\" font-family=\"Times,serif\" font-size=\"14.00\">a</text>\n",
       "</g>\n",
       "<!-- S5&#45;&gt;F6 -->\n",
       "<g id=\"edge7\" class=\"edge\"><title>S5&#45;&gt;F6</title>\n",
       "<path fill=\"none\" stroke=\"black\" d=\"M296.43,-13.5192C302.568,-10.2735 309.778,-7.08348 316.787,-5.44687 323.093,-3.97461 329.689,-4.83152 335.889,-6.80151\"/>\n",
       "<polygon fill=\"black\" stroke=\"black\" points=\"334.628,-10.067 345.207,-10.6386 337.293,-3.5944 334.628,-10.067\"/>\n",
       "<text text-anchor=\"middle\" x=\"320.287\" y=\"-8.24687\" font-family=\"Times,serif\" font-size=\"14.00\">b</text>\n",
       "</g>\n",
       "<!-- F6&#45;&gt;F6 -->\n",
       "<g id=\"edge8\" class=\"edge\"><title>F6&#45;&gt;F6</title>\n",
       "<path fill=\"none\" stroke=\"black\" d=\"M361.146,-46.8814C360.864,-56.63 362.227,-64.8937 365.234,-64.8937 367.067,-64.8937 368.289,-61.8251 368.901,-57.2218\"/>\n",
       "<polygon fill=\"black\" stroke=\"black\" points=\"372.412,-57.016 369.323,-46.8814 365.418,-56.7301 372.412,-57.016\"/>\n",
       "<text text-anchor=\"middle\" x=\"365.234\" y=\"-67.6937\" font-family=\"Times,serif\" font-size=\"14.00\">a</text>\n",
       "</g>\n",
       "<!-- F6&#45;&gt;F6 -->\n",
       "<g id=\"edge9\" class=\"edge\"><title>F6&#45;&gt;F6</title>\n",
       "<path fill=\"none\" stroke=\"black\" d=\"M358.144,-46.0152C355.309,-64.1618 357.672,-82.8937 365.234,-82.8937 371.379,-82.8937 374.091,-70.5277 373.371,-56.1571\"/>\n",
       "<polygon fill=\"black\" stroke=\"black\" points=\"376.833,-55.6029 372.324,-46.0152 369.87,-56.3217 376.833,-55.6029\"/>\n",
       "<text text-anchor=\"middle\" x=\"365.234\" y=\"-85.6937\" font-family=\"Times,serif\" font-size=\"14.00\">b</text>\n",
       "</g>\n",
       "<!-- F3&#45;&gt;S5 -->\n",
       "<g id=\"edge4\" class=\"edge\"><title>F3&#45;&gt;S5</title>\n",
       "<path fill=\"none\" stroke=\"black\" d=\"M216.929,-23.4469C226.976,-23.4469 238.937,-23.4469 249.622,-23.4469\"/>\n",
       "<polygon fill=\"black\" stroke=\"black\" points=\"249.764,-26.947 259.764,-23.4469 249.764,-19.947 249.764,-26.947\"/>\n",
       "<text text-anchor=\"middle\" x=\"238.394\" y=\"-26.2469\" font-family=\"Times,serif\" font-size=\"14.00\">a</text>\n",
       "</g>\n",
       "<!-- F3&#45;&gt;S5 -->\n",
       "<g id=\"edge5\" class=\"edge\"><title>F3&#45;&gt;S5</title>\n",
       "<path fill=\"none\" stroke=\"black\" d=\"M213.474,-10.6386C222.002,-6.3683 232.285,-3.20342 241.894,-5.44687 245.618,-6.31632 249.398,-7.62417 253.044,-9.14587\"/>\n",
       "<polygon fill=\"black\" stroke=\"black\" points=\"251.717,-12.39 262.251,-13.5192 254.72,-6.06705 251.717,-12.39\"/>\n",
       "<text text-anchor=\"middle\" x=\"238.394\" y=\"-8.24687\" font-family=\"Times,serif\" font-size=\"14.00\">b</text>\n",
       "</g>\n",
       "</g>\n",
       "</svg>\n"
      ],
      "text/plain": [
       "<graphviz.dot.Digraph at 0x1065b4978>"
      ]
     },
     "execution_count": 76,
     "metadata": {},
     "output_type": "execute_result"
    }
   ],
   "source": [
    "dmblimp"
   ]
  },
  {
   "cell_type": "markdown",
   "metadata": {
    "run_control": {
     "frozen": false,
     "read_only": false
    }
   },
   "source": [
    "# Minimized \"blimp\" machine\n",
    "\n",
    "The minimized blimp machine is indeed quite small.\n"
   ]
  }
 ],
 "metadata": {
  "kernelspec": {
   "display_name": "Python 3",
   "language": "python",
   "name": "python3"
  },
  "language_info": {
   "codemirror_mode": {
    "name": "ipython",
    "version": 3
   },
   "file_extension": ".py",
   "mimetype": "text/x-python",
   "name": "python",
   "nbconvert_exporter": "python",
   "pygments_lexer": "ipython3",
   "version": "3.6.0"
  },
  "toc": {
   "colors": {
    "hover_highlight": "#DAA520",
    "running_highlight": "#FF0000",
    "selected_highlight": "#FFD700"
   },
   "moveMenuLeft": true,
   "nav_menu": {
    "height": "318px",
    "width": "252px"
   },
   "navigate_menu": true,
   "number_sections": true,
   "sideBar": true,
   "threshold": 4,
   "toc_cell": false,
   "toc_section_display": "block",
   "toc_window_display": false,
   "widenNotebook": false
  }
 },
 "nbformat": 4,
 "nbformat_minor": 1
}
